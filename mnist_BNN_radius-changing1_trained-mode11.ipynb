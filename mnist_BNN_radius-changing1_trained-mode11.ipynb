{
 "cells": [
  {
   "cell_type": "code",
   "execution_count": 1,
   "id": "95b64f9b",
   "metadata": {},
   "outputs": [],
   "source": [
    "# all codes come are changed based on LDR code.\n",
    "# 用添加噪声的数据进行训练\n",
    "import argparse\n",
    "import torch.optim as optim\n",
    "import os\n",
    "import yaml\n",
    "from mcrgan.default import _C as config\n",
    "from mcrgan.default import update_config\n",
    "import torch\n",
    "from mcrgan.trainer import MCRTrainer\n",
    "from mcrgan.datasets import get_dataloader\n",
    "from mcrgan.models import get_models\n",
    "from mcrgan.models import get_BNN_models\n",
    "from mcrgan.models import get_noise\n",
    "from mcrgan.models import get_noise_uniform\n",
    "from mcrgan.models import DiscriminatorMNIST\n",
    "from mcrgan.models import weights_init_mnist_model_noise\n",
    "\n",
    "import numpy as np\n",
    "import torch\n",
    "import argparse\n",
    "from mcrgan.datasets import get_dataloader\n",
    "from mcrgan.models import get_models\n",
    "from mcrgan.default import _C as config\n",
    "from mcrgan.default import update_config\n",
    "from utils.utils import sort_dataset, compute_accuracy, extract_features\n",
    "from sklearn.decomposition import PCA\n",
    "from sklearn.decomposition import TruncatedSVD\n",
    "import torchvision.transforms as transforms\n",
    "import torchvision.datasets as datasets\n",
    "from tqdm import tqdm\n",
    "import os\n",
    "from mcrgan.loss import MCRGANloss\n",
    "import random\n",
    "random.seed(0)\n",
    "import time\n"
   ]
  },
  {
   "cell_type": "code",
   "execution_count": 2,
   "id": "806b2e2c",
   "metadata": {},
   "outputs": [],
   "source": [
    "# 导入mnist数据集，进行对比\n",
    "device = torch.device('cuda' if torch.cuda.is_available() else \"cpu\")\n",
    "DATASET = 'mnist'\n",
    "ROOT    = 'pth/to/the/dataset'\n",
    "BATCH_SIZE = 2048\n",
    "WORKERS = 8\n",
    "DATA_SAMPLE = 50000\n",
    "LABEL = 0\n",
    "\n",
    "dataloader, dataset = get_dataloader(\n",
    "        data_name=DATASET,\n",
    "        root=ROOT,\n",
    "        batch_size=BATCH_SIZE,\n",
    "        num_workers=WORKERS)"
   ]
  },
  {
   "cell_type": "code",
   "execution_count": 3,
   "id": "08feb6b9",
   "metadata": {},
   "outputs": [],
   "source": [
    "import collections\n",
    "\n",
    "def get_netG(netD,netV,net_noise,radius=1):\n",
    "    models = [netD, netV,net_noise]\n",
    "    worker_state_dict = [x.state_dict() for x in models]\n",
    "    weight_keys = list(worker_state_dict[0].keys())\n",
    "    fed_state_dict = collections.OrderedDict()\n",
    "    for key in weight_keys:\n",
    "        fed_state_dict[key] = worker_state_dict[0][key] + radius*worker_state_dict[2][key]*torch.log(1+torch.exp(worker_state_dict[1][key]))\n",
    "    return fed_state_dict\n",
    "\n",
    "# new netG already optimized by adam and time learning rate, so we only using netG to update netV\n",
    "def update_netV(netV,netG,net_noise,fed_state_dict,radius=1):\n",
    "    models =[netV,netG,net_noise]\n",
    "    worker_state_dict = [x.state_dict() for x in models]\n",
    "    weight_keys = list(worker_state_dict[0].keys())\n",
    "    update_dict = collections.OrderedDict()\n",
    "    for key in weight_keys:\n",
    "        update_dict[key] = worker_state_dict[0][key] - (worker_state_dict[1][key]-fed_state_dict[key])*(worker_state_dict[2][key]*radius)/torch.log(1+torch.exp(-worker_state_dict[0][key]))\n",
    "    return update_dict\n",
    "\n",
    "# generate different distribution via gaussian init and uniform\n",
    "def get_cauchy_noise(netD,net_noise1,net_noise2):\n",
    "    models =[netD,net_noise1, net_noise2]\n",
    "    worker_state_dict = [x.state_dict() for x in models]\n",
    "    weight_keys = list(worker_state_dict[0].keys())\n",
    "    update_dict = collections.OrderedDict()\n",
    "    for key in weight_keys:\n",
    "        update_dict[key] = worker_state_dict[1][key] / worker_state_dict[2][key]\n",
    "    return update_dict\n",
    "        "
   ]
  },
  {
   "cell_type": "code",
   "execution_count": 4,
   "id": "bd8022df",
   "metadata": {},
   "outputs": [],
   "source": [
    "#models\n",
    "# train hyperparameters, batch norm not used var\n",
    "#store_Var = []\n",
    "import time\n",
    "from torch_mimicry.training import scheduler, logger, metric_log\n",
    "\n",
    "from test_acc import nearsub\n",
    "import numpy as np\n",
    "import torch\n",
    "import argparse\n",
    "from mcrgan.datasets import get_dataloader\n",
    "from mcrgan.models import get_models\n",
    "from mcrgan.default import _C as config\n",
    "from mcrgan.default import update_config\n",
    "from utils.utils import sort_dataset, compute_accuracy, extract_features2\n",
    "from sklearn.decomposition import PCA\n",
    "from sklearn.decomposition import TruncatedSVD\n",
    "import torchvision.transforms as transforms\n",
    "import torchvision.datasets as datasets\n",
    "from tqdm import tqdm\n",
    "import os\n",
    "\n",
    "start_time = time.time()\n",
    "#global_step = 0\n",
    "epsilon_noise = 0.1\n",
    "num_steps = 1000\n",
    "n_dis = 1\n",
    "n_dis2 = 1\n",
    "numclasses =10\n",
    "lr1 = 1e-3\n",
    "lr2 = 1e-3\n",
    "log_data = metric_log.MetricLog()\n",
    "data_time = time.time()\n",
    "iter_dataloader = iter(dataloader)\n",
    "data, label = next(iter_dataloader)\n",
    "data_time = time.time() - data_time\n",
    "real_cpu = data.to(device)\n",
    "real_label = label.clone().detach()\n",
    "\n",
    "netD, netG, netV = get_BNN_models(DATASET, device, LABEL)\n",
    "net_noise = get_noise(DATASET, device, LABEL)\n",
    "fed_state_dict = get_netG(netD,netV,net_noise)\n",
    "netG.load_state_dict(fed_state_dict)\n",
    "optD = optim.Adam(netD.parameters(), lr1, betas=(0.5, 0.999))\n",
    "optG = optim.Adam(netG.parameters(), lr2, betas=(0.5, 0.999))\n",
    "\n",
    "Acc_results_D = []\n",
    "Acc_results_G = []\n",
    "\n",
    "\n",
    "transform = transforms.Compose(\n",
    "            [transforms.Resize(32),\n",
    "             transforms.ToTensor(),\n",
    "             transforms.Normalize(0.5, 0.5)])\n",
    "\n",
    "trainset = datasets.MNIST(root=ROOT, train=True, download=True, transform=transform)\n",
    "testset = datasets.MNIST(root=ROOT, train=False, download=True, transform=transform)\n",
    "\n",
    "testloader = torch.utils.data.DataLoader(\n",
    "        testset, batch_size=DATA_SAMPLE, shuffle=False, num_workers=WORKERS)\n",
    "\n",
    "trainloader = torch.utils.data.DataLoader(\n",
    "        trainset, batch_size=DATA_SAMPLE, shuffle=False, num_workers=WORKERS)\n",
    "device = torch.device('cuda' if torch.cuda.is_available() else \"cpu\")\n",
    "n_comp = 10\n"
   ]
  },
  {
   "cell_type": "code",
   "execution_count": 5,
   "id": "3805e79e",
   "metadata": {},
   "outputs": [
    {
     "name": "stderr",
     "output_type": "stream",
     "text": [
      "extracting all features from dataset: 100%|██████████████████████████████████████████████| 1/1 [00:04<00:00,  4.27s/it]\n",
      "extracting all features from dataset: 100%|██████████████████████████████████████████████| 1/1 [00:01<00:00,  1.85s/it]\n"
     ]
    },
    {
     "name": "stdout",
     "output_type": "stream",
     "text": [
      "----------------------------\n",
      "Train_z, Test_z\n",
      "PCA: 0.946\n",
      "SVD: 0.9410000000000001\n",
      "NetD, Acc at first 0.9498\n"
     ]
    },
    {
     "name": "stderr",
     "output_type": "stream",
     "text": [
      "extracting all features from dataset: 100%|██████████████████████████████████████████████| 2/2 [00:05<00:00,  2.51s/it]\n",
      "extracting all features from dataset: 100%|██████████████████████████████████████████████| 1/1 [00:01<00:00,  1.66s/it]\n"
     ]
    },
    {
     "name": "stdout",
     "output_type": "stream",
     "text": [
      "----------------------------\n",
      "Train_z, Test_z\n",
      "PCA: 0.9352\n",
      "SVD: 0.9303\n",
      "NetG, Acc at first 0.9602\n"
     ]
    }
   ],
   "source": [
    "#acc at first for NetD\n",
    "train_X, train_Z, train_X_bar, train_Z_bar, train_labels = extract_features2(testloader, netD, netG)\n",
    "\n",
    "test_X, test_Z, test_X_bar, test_Z_bar, test_labels = extract_features2(testloader, netD, netG)\n",
    "\n",
    "\n",
    "print(\"----------------------------\")\n",
    "print(\"Train_z, Test_z\")\n",
    "nearsub(n_comp, train_Z, train_labels, test_Z, test_labels)\n",
    "\n",
    "#acc at first for NetD\n",
    "from sklearn.neighbors import KNeighborsClassifier \n",
    "knn= KNeighborsClassifier(n_neighbors=10) \n",
    "\n",
    "knn.fit(train_Z,train_labels) \n",
    "knn.score(test_Z,test_labels) \n",
    " \n",
    "y_predict = knn.predict(test_Z) \n",
    "\n",
    "count =0\n",
    "for k in range(10000):\n",
    "    if y_predict[k] == test_labels[k]:\n",
    "        count +=1\n",
    "print('NetD, Acc at first',count/10000)\n",
    "Acc_results_D.append(count/10000)\n",
    "\n",
    "#acc at first for NetG\n",
    "train_X, train_Z, train_X_bar, train_Z_bar, train_labels = extract_features2(trainloader, netG, netD)\n",
    "\n",
    "test_X, test_Z, test_X_bar, test_Z_bar, test_labels = extract_features2(testloader, netG, netD)\n",
    "\n",
    "print(\"----------------------------\")\n",
    "print(\"Train_z, Test_z\")\n",
    "nearsub(n_comp, train_Z, train_labels, test_Z, test_labels)\n",
    "\n",
    "\n",
    "#acc at first\n",
    "from sklearn.neighbors import KNeighborsClassifier \n",
    "knn= KNeighborsClassifier(n_neighbors=10) \n",
    "\n",
    "knn.fit(train_Z,train_labels) \n",
    "knn.score(test_Z,test_labels) \n",
    " \n",
    "y_predict = knn.predict(test_Z) \n",
    "\n",
    "count =0\n",
    "for k in range(10000):\n",
    "    if y_predict[k] == test_labels[k]:\n",
    "        count +=1\n",
    "print('NetG, Acc at first',count/10000)\n",
    "Acc_results_G.append(count/10000)"
   ]
  },
  {
   "cell_type": "code",
   "execution_count": 6,
   "id": "dd6bcdad",
   "metadata": {},
   "outputs": [],
   "source": [
    "# golden search algorithm to determined the radius of the sample ball, due to traditional updating netV is too slow\n",
    "# no meaning for n_dis =2 for our case, just to have output for every update\n",
    "# sample too much would arise cuda memory error\n",
    "def gs_radius(radius1,radius2,netD,real_cpu,real_label,tor=1e-3,n_dis=2,lam=0.618,mode=1,gam3=1):\n",
    "    mcr_gan_loss=MCRGANloss(gam1=1., gam2=1., gam3=gam3, eps=0.5, numclasses=numclasses, mode=mode, rho=None)\n",
    "    #optG = optim.Adam(netG.parameters(), lr2, betas=(0.5, 0.999))\n",
    "    \n",
    "    Z = netD(real_cpu)\n",
    "    net_noise = get_noise(DATASET, device, LABEL)\n",
    "    err1 = 0\n",
    "    err2 = 1000\n",
    "    while abs(err1 - err2)> tor or abs(radius1-radius2)>tor:\n",
    "        a1 = radius2 - lam*(radius2-radius1)\n",
    "        a2 = radius1 + lam*(radius2-radius1)\n",
    "        fed_state_dict = get_netG(netD,netV,net_noise,a1)\n",
    "        netG.load_state_dict(fed_state_dict)\n",
    "        Z_bar = netG(real_cpu)\n",
    "        errG1, errG_EC1 = mcr_gan_loss(Z, Z_bar, real_label, n_dis2 - 1, n_dis2)\n",
    "        err1 = errG1\n",
    "        \n",
    "        fed_state_dict = get_netG(netD,netV,net_noise,a2)\n",
    "        netG.load_state_dict(fed_state_dict)\n",
    "        Z_bar = netG(real_cpu)\n",
    "        errG2, errG_EC2 = mcr_gan_loss(Z, Z_bar, real_label, n_dis2 - 1, n_dis2)\n",
    "        err2 = errG2\n",
    "        \n",
    "        if err1 > err2:\n",
    "            radius1 = a1\n",
    "            a1 = a2\n",
    "            err1 = err2\n",
    "            a2 = radius1 + lam*(radius2-radius1)\n",
    "            fed_state_dict = get_netG(netD,netV,net_noise,a2)\n",
    "            netG.load_state_dict(fed_state_dict)\n",
    "            Z_bar = netG(real_cpu)\n",
    "            errG2, errG_EC2 = mcr_gan_loss(Z, Z_bar, real_label, n_dis2 - 1, n_dis2)\n",
    "            err2 = errG2\n",
    "            #print('r1',radius1)\n",
    "            #print(errG2, errG_EC2)\n",
    "        else:\n",
    "            radius2 = a2\n",
    "            a2 = a1\n",
    "            a1 = radius2 - lam*(radius2-radius1)\n",
    "            fed_state_dict = get_netG(netD,netV,net_noise,a1)\n",
    "            netG.load_state_dict(fed_state_dict)\n",
    "            Z_bar = netG(real_cpu)\n",
    "            errG1, errG_EC1 = mcr_gan_loss(Z, Z_bar, real_label, n_dis2 - 1, n_dis2)\n",
    "            err1 = errG1\n",
    "            #print('r2',radius2)\n",
    "            #print(errG1, errG_EC1)\n",
    "         \n",
    "    return radius1,radius2\n",
    "\n",
    "\n",
    "def gs_radius2(radius1,radius2, netD,real_cpu,real_label,tor=1e-3,n_dis=2,lam=0.618,mode=1,gam3=1):\n",
    "    mcr_gan_loss=MCRGANloss(gam1=1., gam2=1., gam3=gam3, eps=0.5, numclasses=numclasses, mode=mode, rho=None)\n",
    "    #optG = optim.Adam(netG.parameters(), lr2, betas=(0.5, 0.999))\n",
    "    \n",
    "    Z = netD(real_cpu)\n",
    "    net_noise = get_noise(DATASET, device, LABEL)\n",
    "    net_noise1 = get_noise(DATASET, device, LABEL)\n",
    "    net_noise_cauchy = get_cauchy_noise(netD,net_noise,net_noise1)\n",
    "    net_noise.load_state_dict(net_noise_cauchy)\n",
    "    #net_noise = get_noise(DATASET, device, LABEL)\n",
    "    err1 = 0\n",
    "    err2 = 1000\n",
    "    while abs(err1 - err2)> tor or abs(radius1-radius2)>tor:\n",
    "        a1 = radius2 - lam*(radius2-radius1)\n",
    "        a2 = radius1 + lam*(radius2-radius1)\n",
    "        fed_state_dict = get_netG(netD,netV,net_noise,a1)\n",
    "        netG.load_state_dict(fed_state_dict)\n",
    "        Z_bar = netG(real_cpu)\n",
    "        errG1, errG_EC1 = mcr_gan_loss(Z, Z_bar, real_label, n_dis2 - 1, n_dis2)\n",
    "        err1 = errG1\n",
    "        \n",
    "        fed_state_dict = get_netG(netD,netV,net_noise,a2)\n",
    "        netG.load_state_dict(fed_state_dict)\n",
    "        Z_bar = netG(real_cpu)\n",
    "        errG2, errG_EC2 = mcr_gan_loss(Z, Z_bar, real_label, n_dis2 - 1, n_dis2)\n",
    "        err2 = errG2\n",
    "        \n",
    "        if err1 > err2:\n",
    "            radius1 = a1\n",
    "            a1 = a2\n",
    "            err1 = err2\n",
    "            a2 = radius1 + lam*(radius2-radius1)\n",
    "            fed_state_dict = get_netG(netD,netV,net_noise,a2)\n",
    "            netG.load_state_dict(fed_state_dict)\n",
    "            Z_bar = netG(real_cpu)\n",
    "            errG2, errG_EC2 = mcr_gan_loss(Z, Z_bar, real_label, n_dis2 - 1, n_dis2)\n",
    "            err2 = errG2\n",
    "            #print('r1',radius1)\n",
    "            #print(errG2, errG_EC2)\n",
    "        else:\n",
    "            radius2 = a2\n",
    "            a2 = a1\n",
    "            a1 = radius2 - lam*(radius2-radius1)\n",
    "            fed_state_dict = get_netG(netD,netV,net_noise,a1)\n",
    "            netG.load_state_dict(fed_state_dict)\n",
    "            Z_bar = netG(real_cpu)\n",
    "            errG1, errG_EC1 = mcr_gan_loss(Z, Z_bar, real_label, n_dis2 - 1, n_dis2)\n",
    "            err1 = errG1\n",
    "            #print('r2',radius2)\n",
    "            #print(errG1, errG_EC1)\n",
    "         \n",
    "    return radius1,radius2\n",
    "\n",
    "def gs_radius3(radius1,radius2, netD,real_cpu,real_label,tor=1e-3,n_dis=2,lam=0.618,mode=1,gam3=1):\n",
    "    mcr_gan_loss=MCRGANloss(gam1=1., gam2=1., gam3=gam3, eps=0.5, numclasses=numclasses, mode=mode, rho=None)\n",
    "    #optG = optim.Adam(netG.parameters(), lr2, betas=(0.5, 0.999))\n",
    "    \n",
    "    Z = netD(real_cpu)\n",
    "    net_noise = get_noise_uniform(DATASET, device, LABEL)\n",
    "\n",
    "    #net_noise = get_noise(DATASET, device, LABEL)\n",
    "    err1 = 0\n",
    "    err2 = 1000\n",
    "    while abs(err1 - err2)> tor or abs(radius1-radius2)>tor:\n",
    "        a1 = radius2 - lam*(radius2-radius1)\n",
    "        a2 = radius1 + lam*(radius2-radius1)\n",
    "        fed_state_dict = get_netG(netD,netV,net_noise,a1)\n",
    "        netG.load_state_dict(fed_state_dict)\n",
    "        Z_bar = netG(real_cpu)\n",
    "        errG1, errG_EC1 = mcr_gan_loss(Z, Z_bar, real_label, n_dis2 - 1, n_dis2)\n",
    "        err1 = errG1\n",
    "        \n",
    "        fed_state_dict = get_netG(netD,netV,net_noise,a2)\n",
    "        netG.load_state_dict(fed_state_dict)\n",
    "        Z_bar = netG(real_cpu)\n",
    "        errG2, errG_EC2 = mcr_gan_loss(Z, Z_bar, real_label, n_dis2 - 1, n_dis2)\n",
    "        err2 = errG2\n",
    "        \n",
    "        if err1 > err2:\n",
    "            radius1 = a1\n",
    "            a1 = a2\n",
    "            err1 = err2\n",
    "            a2 = radius1 + lam*(radius2-radius1)\n",
    "            fed_state_dict = get_netG(netD,netV,net_noise,a2)\n",
    "            netG.load_state_dict(fed_state_dict)\n",
    "            Z_bar = netG(real_cpu)\n",
    "            errG2, errG_EC2 = mcr_gan_loss(Z, Z_bar, real_label, n_dis2 - 1, n_dis2)\n",
    "            err2 = errG2\n",
    "            #print('r1',radius1)\n",
    "            #print(errG2, errG_EC2)\n",
    "        else:\n",
    "            radius2 = a2\n",
    "            a2 = a1\n",
    "            a1 = radius2 - lam*(radius2-radius1)\n",
    "            fed_state_dict = get_netG(netD,netV,net_noise,a1)\n",
    "            netG.load_state_dict(fed_state_dict)\n",
    "            Z_bar = netG(real_cpu)\n",
    "            errG1, errG_EC1 = mcr_gan_loss(Z, Z_bar, real_label, n_dis2 - 1, n_dis2)\n",
    "            err1 = errG1\n",
    "            #print('r2',radius2)\n",
    "            #print(errG1, errG_EC1)\n",
    "         \n",
    "    return radius1,radius2"
   ]
  },
  {
   "cell_type": "code",
   "execution_count": 7,
   "id": "e0d6cae2",
   "metadata": {},
   "outputs": [
    {
     "name": "stdout",
     "output_type": "stream",
     "text": [
      "tensor(-12.0842, device='cuda:0', grad_fn=<NegBackward0>) [tensor(-4.4033, device='cuda:0', grad_fn=<NegBackward0>), tensor(-4.0590, device='cuda:0', grad_fn=<NegBackward0>), tensor(-36.4103, device='cuda:0', grad_fn=<AddBackward0>)]\n",
      "99.97201769495192\n",
      "tensor(-10.7059, device='cuda:0', grad_fn=<NegBackward0>) [tensor(-2.5219, device='cuda:0', grad_fn=<NegBackward0>), tensor(-4.6213, device='cuda:0', grad_fn=<NegBackward0>), tensor(-34.2586, device='cuda:0', grad_fn=<AddBackward0>)]\n",
      "tensor(-11.0764, device='cuda:0', grad_fn=<NegBackward0>) [tensor(-2.5219, device='cuda:0', grad_fn=<NegBackward0>), tensor(-4.9714, device='cuda:0', grad_fn=<NegBackward0>), tensor(-34.9843, device='cuda:0', grad_fn=<AddBackward0>)]\n",
      "1.3740065462559539\n",
      "tensor(-18.2387, device='cuda:0', grad_fn=<NegBackward0>) [tensor(-8.0989, device='cuda:0', grad_fn=<NegBackward0>), tensor(-6.6106, device='cuda:0', grad_fn=<NegBackward0>), tensor(-33.0992, device='cuda:0', grad_fn=<AddBackward0>)]\n",
      "tensor(-19.1173, device='cuda:0', grad_fn=<NegBackward0>) [tensor(-8.0989, device='cuda:0', grad_fn=<NegBackward0>), tensor(-7.4905, device='cuda:0', grad_fn=<NegBackward0>), tensor(-33.0526, device='cuda:0', grad_fn=<AddBackward0>)]\n",
      "2.720376565418732\n",
      "tensor(-17.2507, device='cuda:0', grad_fn=<NegBackward0>) [tensor(-6.9271, device='cuda:0', grad_fn=<NegBackward0>), tensor(-6.5969, device='cuda:0', grad_fn=<NegBackward0>), tensor(-40.5412, device='cuda:0', grad_fn=<AddBackward0>)]\n",
      "tensor(-16.3454, device='cuda:0', grad_fn=<NegBackward0>) [tensor(-6.9271, device='cuda:0', grad_fn=<NegBackward0>), tensor(-5.7184, device='cuda:0', grad_fn=<NegBackward0>), tensor(-39.4447, device='cuda:0', grad_fn=<AddBackward0>)]\n",
      "99.99332673960592\n",
      "tensor(-20.9951, device='cuda:0', grad_fn=<NegBackward0>) [tensor(-11.5501, device='cuda:0', grad_fn=<NegBackward0>), tensor(-5.3442, device='cuda:0', grad_fn=<NegBackward0>), tensor(-59.3931, device='cuda:0', grad_fn=<AddBackward0>)]\n",
      "tensor(-21.3196, device='cuda:0', grad_fn=<NegBackward0>) [tensor(-11.5501, device='cuda:0', grad_fn=<NegBackward0>), tensor(-5.6598, device='cuda:0', grad_fn=<NegBackward0>), tensor(-59.9246, device='cuda:0', grad_fn=<AddBackward0>)]\n",
      "0.9401553023031095\n",
      "tensor(-28.0051, device='cuda:0', grad_fn=<NegBackward0>) [tensor(-12.6632, device='cuda:0', grad_fn=<NegBackward0>), tensor(-12.2590, device='cuda:0', grad_fn=<NegBackward0>), tensor(-20.8224, device='cuda:0', grad_fn=<AddBackward0>)]\n",
      "tensor(-27.6389, device='cuda:0', grad_fn=<NegBackward0>) [tensor(-12.6632, device='cuda:0', grad_fn=<NegBackward0>), tensor(-11.9140, device='cuda:0', grad_fn=<NegBackward0>), tensor(-20.3647, device='cuda:0', grad_fn=<AddBackward0>)]\n",
      "0.8197327007772182\n",
      "tensor(-30.9543, device='cuda:0', grad_fn=<NegBackward0>) [tensor(-14.4063, device='cuda:0', grad_fn=<NegBackward0>), tensor(-13.7368, device='cuda:0', grad_fn=<NegBackward0>), tensor(-15.6313, device='cuda:0', grad_fn=<AddBackward0>)]\n",
      "tensor(-31.0474, device='cuda:0', grad_fn=<NegBackward0>) [tensor(-14.4063, device='cuda:0', grad_fn=<NegBackward0>), tensor(-13.7180, device='cuda:0', grad_fn=<NegBackward0>), tensor(-17.5980, device='cuda:0', grad_fn=<AddBackward0>)]\n",
      "99.97606172681377\n",
      "tensor(-24.5906, device='cuda:0', grad_fn=<NegBackward0>) [tensor(-15.8085, device='cuda:0', grad_fn=<NegBackward0>), tensor(-4.6291, device='cuda:0', grad_fn=<NegBackward0>), tensor(-62.6276, device='cuda:0', grad_fn=<AddBackward0>)]\n",
      "tensor(-24.2501, device='cuda:0', grad_fn=<NegBackward0>) [tensor(-15.8085, device='cuda:0', grad_fn=<NegBackward0>), tensor(-4.3074, device='cuda:0', grad_fn=<NegBackward0>), tensor(-61.4411, device='cuda:0', grad_fn=<AddBackward0>)]\n",
      "0.6594673841332338\n",
      "tensor(-36.6505, device='cuda:0', grad_fn=<NegBackward0>) [tensor(-17.4872, device='cuda:0', grad_fn=<NegBackward0>), tensor(-16.5288, device='cuda:0', grad_fn=<NegBackward0>), tensor(-12.9370, device='cuda:0', grad_fn=<AddBackward0>)]\n",
      "tensor(-36.8072, device='cuda:0', grad_fn=<NegBackward0>) [tensor(-17.4872, device='cuda:0', grad_fn=<NegBackward0>), tensor(-16.7305, device='cuda:0', grad_fn=<NegBackward0>), tensor(-12.3238, device='cuda:0', grad_fn=<AddBackward0>)]\n",
      "0.6509235677904738\n",
      "tensor(-38.3457, device='cuda:0', grad_fn=<NegBackward0>) [tensor(-18.2925, device='cuda:0', grad_fn=<NegBackward0>), tensor(-17.5762, device='cuda:0', grad_fn=<NegBackward0>), tensor(-10.9065, device='cuda:0', grad_fn=<AddBackward0>)]\n",
      "tensor(-38.3779, device='cuda:0', grad_fn=<NegBackward0>) [tensor(-18.2925, device='cuda:0', grad_fn=<NegBackward0>), tensor(-17.5154, device='cuda:0', grad_fn=<NegBackward0>), tensor(-12.0666, device='cuda:0', grad_fn=<AddBackward0>)]\n",
      "0.5763317012032604\n",
      "tensor(-40.7458, device='cuda:0', grad_fn=<NegBackward0>) [tensor(-19.5188, device='cuda:0', grad_fn=<NegBackward0>), tensor(-18.8010, device='cuda:0', grad_fn=<NegBackward0>), tensor(-10.3124, device='cuda:0', grad_fn=<AddBackward0>)]\n",
      "tensor(-40.7853, device='cuda:0', grad_fn=<NegBackward0>) [tensor(-19.5188, device='cuda:0', grad_fn=<NegBackward0>), tensor(-18.8760, device='cuda:0', grad_fn=<NegBackward0>), tensor(-9.9190, device='cuda:0', grad_fn=<AddBackward0>)]\n",
      "0.5794537655440101\n",
      "tensor(-40.9765, device='cuda:0', grad_fn=<NegBackward0>) [tensor(-19.5999, device='cuda:0', grad_fn=<NegBackward0>), tensor(-19.0283, device='cuda:0', grad_fn=<NegBackward0>), tensor(-9.4676, device='cuda:0', grad_fn=<AddBackward0>)]\n",
      "tensor(-40.5284, device='cuda:0', grad_fn=<NegBackward0>) [tensor(-19.5999, device='cuda:0', grad_fn=<NegBackward0>), tensor(-18.5289, device='cuda:0', grad_fn=<NegBackward0>), tensor(-10.0185, device='cuda:0', grad_fn=<AddBackward0>)]\n",
      "0.5806084656534953\n",
      "tensor(-42.2543, device='cuda:0', grad_fn=<NegBackward0>) [tensor(-20.4130, device='cuda:0', grad_fn=<NegBackward0>), tensor(-19.5010, device='cuda:0', grad_fn=<NegBackward0>), tensor(-9.3840, device='cuda:0', grad_fn=<AddBackward0>)]\n",
      "tensor(-42.2875, device='cuda:0', grad_fn=<NegBackward0>) [tensor(-20.4130, device='cuda:0', grad_fn=<NegBackward0>), tensor(-19.5081, device='cuda:0', grad_fn=<NegBackward0>), tensor(-9.6582, device='cuda:0', grad_fn=<AddBackward0>)]\n",
      "0.5059994408123377\n",
      "tensor(-44.1342, device='cuda:0', grad_fn=<NegBackward0>) [tensor(-21.2941, device='cuda:0', grad_fn=<NegBackward0>), tensor(-20.7465, device='cuda:0', grad_fn=<NegBackward0>), tensor(-7.1147, device='cuda:0', grad_fn=<AddBackward0>)]\n",
      "tensor(-44.1306, device='cuda:0', grad_fn=<NegBackward0>) [tensor(-21.2941, device='cuda:0', grad_fn=<NegBackward0>), tensor(-20.6972, device='cuda:0', grad_fn=<NegBackward0>), tensor(-7.4943, device='cuda:0', grad_fn=<AddBackward0>)]\n",
      "0.5481175875121626\n",
      "tensor(-45.2328, device='cuda:0', grad_fn=<NegBackward0>) [tensor(-21.9338, device='cuda:0', grad_fn=<NegBackward0>), tensor(-21.0514, device='cuda:0', grad_fn=<NegBackward0>), tensor(-8.4648, device='cuda:0', grad_fn=<AddBackward0>)]\n",
      "tensor(-45.5271, device='cuda:0', grad_fn=<NegBackward0>) [tensor(-21.9338, device='cuda:0', grad_fn=<NegBackward0>), tensor(-21.2878, device='cuda:0', grad_fn=<NegBackward0>), tensor(-9.0282, device='cuda:0', grad_fn=<AddBackward0>)]\n",
      "0.5387857989600923\n",
      "tensor(-47.5349, device='cuda:0', grad_fn=<NegBackward0>) [tensor(-23.1161, device='cuda:0', grad_fn=<NegBackward0>), tensor(-22.2539, device='cuda:0', grad_fn=<NegBackward0>), tensor(-7.7142, device='cuda:0', grad_fn=<AddBackward0>)]\n",
      "tensor(-47.5515, device='cuda:0', grad_fn=<NegBackward0>) [tensor(-23.1161, device='cuda:0', grad_fn=<NegBackward0>), tensor(-22.2300, device='cuda:0', grad_fn=<NegBackward0>), tensor(-8.0746, device='cuda:0', grad_fn=<AddBackward0>)]\n",
      "0.491182979586555\n",
      "tensor(-49.0528, device='cuda:0', grad_fn=<NegBackward0>) [tensor(-23.8121, device='cuda:0', grad_fn=<NegBackward0>), tensor(-23.1258, device='cuda:0', grad_fn=<NegBackward0>), tensor(-7.2885, device='cuda:0', grad_fn=<AddBackward0>)]\n",
      "tensor(-49.0136, device='cuda:0', grad_fn=<NegBackward0>) [tensor(-23.8121, device='cuda:0', grad_fn=<NegBackward0>), tensor(-23.1082, device='cuda:0', grad_fn=<NegBackward0>), tensor(-7.1107, device='cuda:0', grad_fn=<AddBackward0>)]\n",
      "0.5171213458782722\n",
      "tensor(-49.2512, device='cuda:0', grad_fn=<NegBackward0>) [tensor(-23.9903, device='cuda:0', grad_fn=<NegBackward0>), tensor(-23.1512, device='cuda:0', grad_fn=<NegBackward0>), tensor(-7.2459, device='cuda:0', grad_fn=<AddBackward0>)]\n",
      "tensor(-49.4604, device='cuda:0', grad_fn=<NegBackward0>) [tensor(-23.9903, device='cuda:0', grad_fn=<NegBackward0>), tensor(-23.3378, device='cuda:0', grad_fn=<NegBackward0>), tensor(-7.4339, device='cuda:0', grad_fn=<AddBackward0>)]\n"
     ]
    },
    {
     "name": "stdout",
     "output_type": "stream",
     "text": [
      "0.44335111173066066\n",
      "tensor(-50.6522, device='cuda:0', grad_fn=<NegBackward0>) [tensor(-24.7282, device='cuda:0', grad_fn=<NegBackward0>), tensor(-24.0274, device='cuda:0', grad_fn=<NegBackward0>), tensor(-5.6634, device='cuda:0', grad_fn=<AddBackward0>)]\n",
      "tensor(-50.7444, device='cuda:0', grad_fn=<NegBackward0>) [tensor(-24.7282, device='cuda:0', grad_fn=<NegBackward0>), tensor(-24.1073, device='cuda:0', grad_fn=<NegBackward0>), tensor(-5.7452, device='cuda:0', grad_fn=<AddBackward0>)]\n",
      "0.49653919190170814\n",
      "tensor(-50.8966, device='cuda:0', grad_fn=<NegBackward0>) [tensor(-24.8273, device='cuda:0', grad_fn=<NegBackward0>), tensor(-24.0209, device='cuda:0', grad_fn=<NegBackward0>), tensor(-6.7561, device='cuda:0', grad_fn=<AddBackward0>)]\n",
      "tensor(-50.9119, device='cuda:0', grad_fn=<NegBackward0>) [tensor(-24.8273, device='cuda:0', grad_fn=<NegBackward0>), tensor(-24.0907, device='cuda:0', grad_fn=<NegBackward0>), tensor(-6.3445, device='cuda:0', grad_fn=<AddBackward0>)]\n",
      "0.4254872721436422\n",
      "tensor(-52.7696, device='cuda:0', grad_fn=<NegBackward0>) [tensor(-25.7277, device='cuda:0', grad_fn=<NegBackward0>), tensor(-25.2272, device='cuda:0', grad_fn=<NegBackward0>), tensor(-5.1389, device='cuda:0', grad_fn=<AddBackward0>)]\n",
      "tensor(-52.7817, device='cuda:0', grad_fn=<NegBackward0>) [tensor(-25.7277, device='cuda:0', grad_fn=<NegBackward0>), tensor(-25.1997, device='cuda:0', grad_fn=<NegBackward0>), tensor(-5.3874, device='cuda:0', grad_fn=<AddBackward0>)]\n",
      "0.5057952783752385\n",
      "tensor(-53.2368, device='cuda:0', grad_fn=<NegBackward0>) [tensor(-25.9966, device='cuda:0', grad_fn=<NegBackward0>), tensor(-25.1730, device='cuda:0', grad_fn=<NegBackward0>), tensor(-6.9029, device='cuda:0', grad_fn=<AddBackward0>)]\n",
      "tensor(-53.3806, device='cuda:0', grad_fn=<NegBackward0>) [tensor(-25.9966, device='cuda:0', grad_fn=<NegBackward0>), tensor(-25.3286, device='cuda:0', grad_fn=<NegBackward0>), tensor(-6.8100, device='cuda:0', grad_fn=<AddBackward0>)]\n",
      "0.4578352103303126\n",
      "tensor(-55.1609, device='cuda:0', grad_fn=<NegBackward0>) [tensor(-26.9627, device='cuda:0', grad_fn=<NegBackward0>), tensor(-26.2356, device='cuda:0', grad_fn=<NegBackward0>), tensor(-6.1171, device='cuda:0', grad_fn=<AddBackward0>)]\n",
      "tensor(-54.9054, device='cuda:0', grad_fn=<NegBackward0>) [tensor(-26.9627, device='cuda:0', grad_fn=<NegBackward0>), tensor(-25.9623, device='cuda:0', grad_fn=<NegBackward0>), tensor(-6.2459, device='cuda:0', grad_fn=<AddBackward0>)]\n",
      "0.4573311194012386\n",
      "tensor(-54.8477, device='cuda:0', grad_fn=<NegBackward0>) [tensor(-26.8280, device='cuda:0', grad_fn=<NegBackward0>), tensor(-26.1088, device='cuda:0', grad_fn=<NegBackward0>), tensor(-5.7591, device='cuda:0', grad_fn=<AddBackward0>)]\n",
      "tensor(-54.7923, device='cuda:0', grad_fn=<NegBackward0>) [tensor(-26.8280, device='cuda:0', grad_fn=<NegBackward0>), tensor(-26.0531, device='cuda:0', grad_fn=<NegBackward0>), tensor(-5.7612, device='cuda:0', grad_fn=<AddBackward0>)]\n",
      "0.45325994427077765\n",
      "tensor(-55.3225, device='cuda:0', grad_fn=<NegBackward0>) [tensor(-27.1391, device='cuda:0', grad_fn=<NegBackward0>), tensor(-26.2791, device='cuda:0', grad_fn=<NegBackward0>), tensor(-5.7152, device='cuda:0', grad_fn=<AddBackward0>)]\n",
      "tensor(-55.1870, device='cuda:0', grad_fn=<NegBackward0>) [tensor(-27.1391, device='cuda:0', grad_fn=<NegBackward0>), tensor(-26.1920, device='cuda:0', grad_fn=<NegBackward0>), tensor(-5.3977, device='cuda:0', grad_fn=<AddBackward0>)]\n",
      "0.47736286480387896\n",
      "tensor(-56.3017, device='cuda:0', grad_fn=<NegBackward0>) [tensor(-27.6133, device='cuda:0', grad_fn=<NegBackward0>), tensor(-26.7378, device='cuda:0', grad_fn=<NegBackward0>), tensor(-6.0324, device='cuda:0', grad_fn=<AddBackward0>)]\n",
      "tensor(-56.2872, device='cuda:0', grad_fn=<NegBackward0>) [tensor(-27.6133, device='cuda:0', grad_fn=<NegBackward0>), tensor(-26.7027, device='cuda:0', grad_fn=<NegBackward0>), tensor(-6.1790, device='cuda:0', grad_fn=<AddBackward0>)]\n",
      "0.4596059331508983\n",
      "tensor(-57.9332, device='cuda:0', grad_fn=<NegBackward0>) [tensor(-28.4136, device='cuda:0', grad_fn=<NegBackward0>), tensor(-27.5466, device='cuda:0', grad_fn=<NegBackward0>), tensor(-6.1918, device='cuda:0', grad_fn=<AddBackward0>)]\n",
      "tensor(-57.9146, device='cuda:0', grad_fn=<NegBackward0>) [tensor(-28.4136, device='cuda:0', grad_fn=<NegBackward0>), tensor(-27.5606, device='cuda:0', grad_fn=<NegBackward0>), tensor(-5.9612, device='cuda:0', grad_fn=<AddBackward0>)]\n",
      "0.4304298955433022\n",
      "tensor(-58.4598, device='cuda:0', grad_fn=<NegBackward0>) [tensor(-28.7217, device='cuda:0', grad_fn=<NegBackward0>), tensor(-27.9176, device='cuda:0', grad_fn=<NegBackward0>), tensor(-5.1751, device='cuda:0', grad_fn=<AddBackward0>)]\n",
      "tensor(-58.4175, device='cuda:0', grad_fn=<NegBackward0>) [tensor(-28.7217, device='cuda:0', grad_fn=<NegBackward0>), tensor(-27.8834, device='cuda:0', grad_fn=<NegBackward0>), tensor(-5.1255, device='cuda:0', grad_fn=<AddBackward0>)]\n",
      "0.46042786648678913\n",
      "tensor(-58.2874, device='cuda:0', grad_fn=<NegBackward0>) [tensor(-28.6281, device='cuda:0', grad_fn=<NegBackward0>), tensor(-27.7660, device='cuda:0', grad_fn=<NegBackward0>), tensor(-5.6410, device='cuda:0', grad_fn=<AddBackward0>)]\n",
      "tensor(-58.4914, device='cuda:0', grad_fn=<NegBackward0>) [tensor(-28.6281, device='cuda:0', grad_fn=<NegBackward0>), tensor(-27.9376, device='cuda:0', grad_fn=<NegBackward0>), tensor(-5.8594, device='cuda:0', grad_fn=<AddBackward0>)]\n",
      "0.42732729316860707\n",
      "tensor(-60.1789, device='cuda:0', grad_fn=<NegBackward0>) [tensor(-29.5431, device='cuda:0', grad_fn=<NegBackward0>), tensor(-28.7866, device='cuda:0', grad_fn=<NegBackward0>), tensor(-5.3549, device='cuda:0', grad_fn=<AddBackward0>)]\n",
      "tensor(-60.1065, device='cuda:0', grad_fn=<NegBackward0>) [tensor(-29.5431, device='cuda:0', grad_fn=<NegBackward0>), tensor(-28.6681, device='cuda:0', grad_fn=<NegBackward0>), tensor(-5.6546, device='cuda:0', grad_fn=<AddBackward0>)]\n",
      "0.43845500120198616\n",
      "tensor(-60.1001, device='cuda:0', grad_fn=<NegBackward0>) [tensor(-29.5569, device='cuda:0', grad_fn=<NegBackward0>), tensor(-28.6066, device='cuda:0', grad_fn=<NegBackward0>), tensor(-5.9353, device='cuda:0', grad_fn=<AddBackward0>)]\n",
      "tensor(-60.1085, device='cuda:0', grad_fn=<NegBackward0>) [tensor(-29.5569, device='cuda:0', grad_fn=<NegBackward0>), tensor(-28.7529, device='cuda:0', grad_fn=<NegBackward0>), tensor(-5.0420, device='cuda:0', grad_fn=<AddBackward0>)]\n",
      "0.43771634336704873\n",
      "tensor(-60.9971, device='cuda:0', grad_fn=<NegBackward0>) [tensor(-29.9671, device='cuda:0', grad_fn=<NegBackward0>), tensor(-29.2120, device='cuda:0', grad_fn=<NegBackward0>), tensor(-5.1595, device='cuda:0', grad_fn=<AddBackward0>)]\n",
      "tensor(-60.8201, device='cuda:0', grad_fn=<NegBackward0>) [tensor(-29.9671, device='cuda:0', grad_fn=<NegBackward0>), tensor(-29.0213, device='cuda:0', grad_fn=<NegBackward0>), tensor(-5.2443, device='cuda:0', grad_fn=<AddBackward0>)]\n",
      "0.4217775457664469\n",
      "tensor(-60.6996, device='cuda:0', grad_fn=<NegBackward0>) [tensor(-29.8338, device='cuda:0', grad_fn=<NegBackward0>), tensor(-29.0969, device='cuda:0', grad_fn=<NegBackward0>), tensor(-4.8647, device='cuda:0', grad_fn=<AddBackward0>)]\n",
      "tensor(-60.5574, device='cuda:0', grad_fn=<NegBackward0>) [tensor(-29.8338, device='cuda:0', grad_fn=<NegBackward0>), tensor(-28.9641, device='cuda:0', grad_fn=<NegBackward0>), tensor(-4.8098, device='cuda:0', grad_fn=<AddBackward0>)]\n",
      "0.4138051177173747\n",
      "tensor(-60.7900, device='cuda:0', grad_fn=<NegBackward0>) [tensor(-29.9106, device='cuda:0', grad_fn=<NegBackward0>), tensor(-29.1724, device='cuda:0', grad_fn=<NegBackward0>), tensor(-4.5123, device='cuda:0', grad_fn=<AddBackward0>)]\n",
      "tensor(-60.6854, device='cuda:0', grad_fn=<NegBackward0>) [tensor(-29.9106, device='cuda:0', grad_fn=<NegBackward0>), tensor(-29.0375, device='cuda:0', grad_fn=<NegBackward0>), tensor(-4.6823, device='cuda:0', grad_fn=<AddBackward0>)]\n",
      "0.44020331211621916\n",
      "tensor(-61.8388, device='cuda:0', grad_fn=<NegBackward0>) [tensor(-30.4295, device='cuda:0', grad_fn=<NegBackward0>), tensor(-29.5952, device='cuda:0', grad_fn=<NegBackward0>), tensor(-5.1353, device='cuda:0', grad_fn=<AddBackward0>)]\n",
      "tensor(-61.9177, device='cuda:0', grad_fn=<NegBackward0>) [tensor(-30.4295, device='cuda:0', grad_fn=<NegBackward0>), tensor(-29.6597, device='cuda:0', grad_fn=<NegBackward0>), tensor(-5.2242, device='cuda:0', grad_fn=<AddBackward0>)]\n"
     ]
    },
    {
     "name": "stdout",
     "output_type": "stream",
     "text": [
      "0.4184114891911153\n",
      "tensor(-63.1732, device='cuda:0', grad_fn=<NegBackward0>) [tensor(-31.0808, device='cuda:0', grad_fn=<NegBackward0>), tensor(-30.3727, device='cuda:0', grad_fn=<NegBackward0>), tensor(-4.5827, device='cuda:0', grad_fn=<AddBackward0>)]\n",
      "tensor(-63.1507, device='cuda:0', grad_fn=<NegBackward0>) [tensor(-31.0808, device='cuda:0', grad_fn=<NegBackward0>), tensor(-30.3277, device='cuda:0', grad_fn=<NegBackward0>), tensor(-4.7101, device='cuda:0', grad_fn=<AddBackward0>)]\n",
      "0.3904507010160912\n",
      "tensor(-63.2441, device='cuda:0', grad_fn=<NegBackward0>) [tensor(-31.1949, device='cuda:0', grad_fn=<NegBackward0>), tensor(-30.4193, device='cuda:0', grad_fn=<NegBackward0>), tensor(-4.1033, device='cuda:0', grad_fn=<AddBackward0>)]\n",
      "tensor(-63.3239, device='cuda:0', grad_fn=<NegBackward0>) [tensor(-31.1949, device='cuda:0', grad_fn=<NegBackward0>), tensor(-30.5568, device='cuda:0', grad_fn=<NegBackward0>), tensor(-3.8172, device='cuda:0', grad_fn=<AddBackward0>)]\n",
      "0.41445724324637623\n",
      "tensor(-63.5368, device='cuda:0', grad_fn=<NegBackward0>) [tensor(-31.2486, device='cuda:0', grad_fn=<NegBackward0>), tensor(-30.5271, device='cuda:0', grad_fn=<NegBackward0>), tensor(-4.8188, device='cuda:0', grad_fn=<AddBackward0>)]\n",
      "tensor(-63.4317, device='cuda:0', grad_fn=<NegBackward0>) [tensor(-31.2486, device='cuda:0', grad_fn=<NegBackward0>), tensor(-30.5468, device='cuda:0', grad_fn=<NegBackward0>), tensor(-4.1364, device='cuda:0', grad_fn=<AddBackward0>)]\n",
      "0.4146846632411579\n",
      "tensor(-64.6985, device='cuda:0', grad_fn=<NegBackward0>) [tensor(-31.8627, device='cuda:0', grad_fn=<NegBackward0>), tensor(-31.1238, device='cuda:0', grad_fn=<NegBackward0>), tensor(-4.5399, device='cuda:0', grad_fn=<AddBackward0>)]\n",
      "tensor(-64.6600, device='cuda:0', grad_fn=<NegBackward0>) [tensor(-31.8627, device='cuda:0', grad_fn=<NegBackward0>), tensor(-31.0720, device='cuda:0', grad_fn=<NegBackward0>), tensor(-4.6137, device='cuda:0', grad_fn=<AddBackward0>)]\n",
      "0.42580541402657696\n",
      "tensor(-64.7246, device='cuda:0', grad_fn=<NegBackward0>) [tensor(-31.8969, device='cuda:0', grad_fn=<NegBackward0>), tensor(-31.0814, device='cuda:0', grad_fn=<NegBackward0>), tensor(-4.7335, device='cuda:0', grad_fn=<AddBackward0>)]\n",
      "tensor(-64.5770, device='cuda:0', grad_fn=<NegBackward0>) [tensor(-31.8969, device='cuda:0', grad_fn=<NegBackward0>), tensor(-30.8625, device='cuda:0', grad_fn=<NegBackward0>), tensor(-5.1567, device='cuda:0', grad_fn=<AddBackward0>)]\n",
      "0.41577699456667006\n",
      "tensor(-65.5813, device='cuda:0', grad_fn=<NegBackward0>) [tensor(-32.3313, device='cuda:0', grad_fn=<NegBackward0>), tensor(-31.5086, device='cuda:0', grad_fn=<NegBackward0>), tensor(-4.7051, device='cuda:0', grad_fn=<AddBackward0>)]\n",
      "tensor(-65.6369, device='cuda:0', grad_fn=<NegBackward0>) [tensor(-32.3313, device='cuda:0', grad_fn=<NegBackward0>), tensor(-31.5268, device='cuda:0', grad_fn=<NegBackward0>), tensor(-4.9230, device='cuda:0', grad_fn=<AddBackward0>)]\n",
      "0.406876422877424\n",
      "tensor(-65.4415, device='cuda:0', grad_fn=<NegBackward0>) [tensor(-32.2296, device='cuda:0', grad_fn=<NegBackward0>), tensor(-31.4791, device='cuda:0', grad_fn=<NegBackward0>), tensor(-4.6562, device='cuda:0', grad_fn=<AddBackward0>)]\n",
      "tensor(-65.4293, device='cuda:0', grad_fn=<NegBackward0>) [tensor(-32.2296, device='cuda:0', grad_fn=<NegBackward0>), tensor(-31.5379, device='cuda:0', grad_fn=<NegBackward0>), tensor(-4.2685, device='cuda:0', grad_fn=<AddBackward0>)]\n",
      "0.3985412922459072\n",
      "tensor(-65.4854, device='cuda:0', grad_fn=<NegBackward0>) [tensor(-32.2766, device='cuda:0', grad_fn=<NegBackward0>), tensor(-31.5165, device='cuda:0', grad_fn=<NegBackward0>), tensor(-4.4321, device='cuda:0', grad_fn=<AddBackward0>)]\n",
      "tensor(-65.5820, device='cuda:0', grad_fn=<NegBackward0>) [tensor(-32.2766, device='cuda:0', grad_fn=<NegBackward0>), tensor(-31.6496, device='cuda:0', grad_fn=<NegBackward0>), tensor(-4.2375, device='cuda:0', grad_fn=<AddBackward0>)]\n",
      "0.3793193637248858\n",
      "tensor(-65.7649, device='cuda:0', grad_fn=<NegBackward0>) [tensor(-32.4788, device='cuda:0', grad_fn=<NegBackward0>), tensor(-31.7204, device='cuda:0', grad_fn=<NegBackward0>), tensor(-3.7863, device='cuda:0', grad_fn=<AddBackward0>)]\n",
      "tensor(-65.9346, device='cuda:0', grad_fn=<NegBackward0>) [tensor(-32.4788, device='cuda:0', grad_fn=<NegBackward0>), tensor(-31.9166, device='cuda:0', grad_fn=<NegBackward0>), tensor(-3.6611, device='cuda:0', grad_fn=<AddBackward0>)]\n",
      "0.3840729493698216\n",
      "tensor(-67.2540, device='cuda:0', grad_fn=<NegBackward0>) [tensor(-33.1876, device='cuda:0', grad_fn=<NegBackward0>), tensor(-32.4095, device='cuda:0', grad_fn=<NegBackward0>), tensor(-4.2429, device='cuda:0', grad_fn=<AddBackward0>)]\n",
      "tensor(-67.2394, device='cuda:0', grad_fn=<NegBackward0>) [tensor(-33.1876, device='cuda:0', grad_fn=<NegBackward0>), tensor(-32.4590, device='cuda:0', grad_fn=<NegBackward0>), tensor(-3.9177, device='cuda:0', grad_fn=<AddBackward0>)]\n",
      "0.39819569178514835\n",
      "tensor(-67.3480, device='cuda:0', grad_fn=<NegBackward0>) [tensor(-33.2292, device='cuda:0', grad_fn=<NegBackward0>), tensor(-32.4928, device='cuda:0', grad_fn=<NegBackward0>), tensor(-4.0836, device='cuda:0', grad_fn=<AddBackward0>)]\n",
      "tensor(-67.1993, device='cuda:0', grad_fn=<NegBackward0>) [tensor(-33.2292, device='cuda:0', grad_fn=<NegBackward0>), tensor(-32.3048, device='cuda:0', grad_fn=<NegBackward0>), tensor(-4.2878, device='cuda:0', grad_fn=<AddBackward0>)]\n",
      "0.37185677850920545\n",
      "tensor(-67.5452, device='cuda:0', grad_fn=<NegBackward0>) [tensor(-33.3283, device='cuda:0', grad_fn=<NegBackward0>), tensor(-32.6857, device='cuda:0', grad_fn=<NegBackward0>), tensor(-3.6238, device='cuda:0', grad_fn=<AddBackward0>)]\n",
      "tensor(-67.5739, device='cuda:0', grad_fn=<NegBackward0>) [tensor(-33.3283, device='cuda:0', grad_fn=<NegBackward0>), tensor(-32.6817, device='cuda:0', grad_fn=<NegBackward0>), tensor(-3.7777, device='cuda:0', grad_fn=<AddBackward0>)]\n",
      "0.4122694569789917\n",
      "tensor(-67.7345, device='cuda:0', grad_fn=<NegBackward0>) [tensor(-33.4697, device='cuda:0', grad_fn=<NegBackward0>), tensor(-32.5726, device='cuda:0', grad_fn=<NegBackward0>), tensor(-4.4315, device='cuda:0', grad_fn=<AddBackward0>)]\n",
      "tensor(-67.9156, device='cuda:0', grad_fn=<NegBackward0>) [tensor(-33.4697, device='cuda:0', grad_fn=<NegBackward0>), tensor(-32.7578, device='cuda:0', grad_fn=<NegBackward0>), tensor(-4.4090, device='cuda:0', grad_fn=<AddBackward0>)]\n",
      "0.3719977181787526\n",
      "tensor(-68.6571, device='cuda:0', grad_fn=<NegBackward0>) [tensor(-33.9294, device='cuda:0', grad_fn=<NegBackward0>), tensor(-33.1972, device='cuda:0', grad_fn=<NegBackward0>), tensor(-3.6201, device='cuda:0', grad_fn=<AddBackward0>)]\n",
      "tensor(-68.7151, device='cuda:0', grad_fn=<NegBackward0>) [tensor(-33.9294, device='cuda:0', grad_fn=<NegBackward0>), tensor(-33.2712, device='cuda:0', grad_fn=<NegBackward0>), tensor(-3.5472, device='cuda:0', grad_fn=<AddBackward0>)]\n",
      "0.33562303634775886\n",
      "tensor(-68.5774, device='cuda:0', grad_fn=<NegBackward0>) [tensor(-33.8153, device='cuda:0', grad_fn=<NegBackward0>), tensor(-33.3689, device='cuda:0', grad_fn=<NegBackward0>), tensor(-3.0275, device='cuda:0', grad_fn=<AddBackward0>)]\n",
      "tensor(-68.3890, device='cuda:0', grad_fn=<NegBackward0>) [tensor(-33.8153, device='cuda:0', grad_fn=<NegBackward0>), tensor(-33.2278, device='cuda:0', grad_fn=<NegBackward0>), tensor(-2.8415, device='cuda:0', grad_fn=<AddBackward0>)]\n",
      "0.4018543801866308\n",
      "tensor(-68.2933, device='cuda:0', grad_fn=<NegBackward0>) [tensor(-33.7300, device='cuda:0', grad_fn=<NegBackward0>), tensor(-32.9244, device='cuda:0', grad_fn=<NegBackward0>), tensor(-4.1496, device='cuda:0', grad_fn=<AddBackward0>)]\n",
      "tensor(-68.2709, device='cuda:0', grad_fn=<NegBackward0>) [tensor(-33.7300, device='cuda:0', grad_fn=<NegBackward0>), tensor(-32.8969, device='cuda:0', grad_fn=<NegBackward0>), tensor(-4.1760, device='cuda:0', grad_fn=<AddBackward0>)]\n",
      "0.3539444655325152\n",
      "tensor(-68.3185, device='cuda:0', grad_fn=<NegBackward0>) [tensor(-33.7422, device='cuda:0', grad_fn=<NegBackward0>), tensor(-33.1548, device='cuda:0', grad_fn=<NegBackward0>), tensor(-3.1433, device='cuda:0', grad_fn=<AddBackward0>)]\n",
      "tensor(-68.2713, device='cuda:0', grad_fn=<NegBackward0>) [tensor(-33.7422, device='cuda:0', grad_fn=<NegBackward0>), tensor(-33.1230, device='cuda:0', grad_fn=<NegBackward0>), tensor(-3.0799, device='cuda:0', grad_fn=<AddBackward0>)]\n"
     ]
    },
    {
     "name": "stdout",
     "output_type": "stream",
     "text": [
      "0.3968409115044761\n",
      "tensor(-67.0357, device='cuda:0', grad_fn=<NegBackward0>) [tensor(-33.1732, device='cuda:0', grad_fn=<NegBackward0>), tensor(-32.2516, device='cuda:0', grad_fn=<NegBackward0>), tensor(-4.0072, device='cuda:0', grad_fn=<AddBackward0>)]\n",
      "tensor(-67.2569, device='cuda:0', grad_fn=<NegBackward0>) [tensor(-33.1732, device='cuda:0', grad_fn=<NegBackward0>), tensor(-32.4457, device='cuda:0', grad_fn=<NegBackward0>), tensor(-4.1445, device='cuda:0', grad_fn=<AddBackward0>)]\n",
      "0.39686325931347965\n",
      "tensor(-68.7895, device='cuda:0', grad_fn=<NegBackward0>) [tensor(-34.0598, device='cuda:0', grad_fn=<NegBackward0>), tensor(-33.0704, device='cuda:0', grad_fn=<NegBackward0>), tensor(-4.2557, device='cuda:0', grad_fn=<AddBackward0>)]\n",
      "tensor(-68.8535, device='cuda:0', grad_fn=<NegBackward0>) [tensor(-34.0598, device='cuda:0', grad_fn=<NegBackward0>), tensor(-33.2234, device='cuda:0', grad_fn=<NegBackward0>), tensor(-3.8081, device='cuda:0', grad_fn=<AddBackward0>)]\n",
      "0.37559343906474274\n",
      "tensor(-69.9663, device='cuda:0', grad_fn=<NegBackward0>) [tensor(-34.6253, device='cuda:0', grad_fn=<NegBackward0>), tensor(-33.7775, device='cuda:0', grad_fn=<NegBackward0>), tensor(-3.7756, device='cuda:0', grad_fn=<AddBackward0>)]\n",
      "tensor(-69.9915, device='cuda:0', grad_fn=<NegBackward0>) [tensor(-34.6253, device='cuda:0', grad_fn=<NegBackward0>), tensor(-33.8595, device='cuda:0', grad_fn=<NegBackward0>), tensor(-3.5121, device='cuda:0', grad_fn=<AddBackward0>)]\n",
      "0.38302254533628255\n",
      "tensor(-69.8595, device='cuda:0', grad_fn=<NegBackward0>) [tensor(-34.5443, device='cuda:0', grad_fn=<NegBackward0>), tensor(-33.8055, device='cuda:0', grad_fn=<NegBackward0>), tensor(-3.5255, device='cuda:0', grad_fn=<AddBackward0>)]\n",
      "tensor(-69.9375, device='cuda:0', grad_fn=<NegBackward0>) [tensor(-34.5443, device='cuda:0', grad_fn=<NegBackward0>), tensor(-33.8144, device='cuda:0', grad_fn=<NegBackward0>), tensor(-3.8491, device='cuda:0', grad_fn=<AddBackward0>)]\n",
      "0.40255856992204425\n",
      "tensor(-69.9232, device='cuda:0', grad_fn=<NegBackward0>) [tensor(-34.6021, device='cuda:0', grad_fn=<NegBackward0>), tensor(-33.6948, device='cuda:0', grad_fn=<NegBackward0>), tensor(-4.0848, device='cuda:0', grad_fn=<AddBackward0>)]\n",
      "tensor(-70.0946, device='cuda:0', grad_fn=<NegBackward0>) [tensor(-34.6021, device='cuda:0', grad_fn=<NegBackward0>), tensor(-33.8854, device='cuda:0', grad_fn=<NegBackward0>), tensor(-3.9884, device='cuda:0', grad_fn=<AddBackward0>)]\n",
      "0.38285961080101893\n",
      "tensor(-71.1167, device='cuda:0', grad_fn=<NegBackward0>) [tensor(-35.1748, device='cuda:0', grad_fn=<NegBackward0>), tensor(-34.3583, device='cuda:0', grad_fn=<NegBackward0>), tensor(-3.8723, device='cuda:0', grad_fn=<AddBackward0>)]\n",
      "tensor(-71.1941, device='cuda:0', grad_fn=<NegBackward0>) [tensor(-35.1748, device='cuda:0', grad_fn=<NegBackward0>), tensor(-34.4738, device='cuda:0', grad_fn=<NegBackward0>), tensor(-3.6900, device='cuda:0', grad_fn=<AddBackward0>)]\n",
      "0.3679039048195335\n",
      "tensor(-71.7488, device='cuda:0', grad_fn=<NegBackward0>) [tensor(-35.4146, device='cuda:0', grad_fn=<NegBackward0>), tensor(-34.8363, device='cuda:0', grad_fn=<NegBackward0>), tensor(-3.4728, device='cuda:0', grad_fn=<AddBackward0>)]\n",
      "tensor(-71.7123, device='cuda:0', grad_fn=<NegBackward0>) [tensor(-35.4146, device='cuda:0', grad_fn=<NegBackward0>), tensor(-34.7984, device='cuda:0', grad_fn=<NegBackward0>), tensor(-3.4786, device='cuda:0', grad_fn=<AddBackward0>)]\n",
      "0.3702031849853121\n",
      "tensor(-72.1423, device='cuda:0', grad_fn=<NegBackward0>) [tensor(-35.7093, device='cuda:0', grad_fn=<NegBackward0>), tensor(-34.9091, device='cuda:0', grad_fn=<NegBackward0>), tensor(-3.5906, device='cuda:0', grad_fn=<AddBackward0>)]\n",
      "tensor(-72.1572, device='cuda:0', grad_fn=<NegBackward0>) [tensor(-35.7093, device='cuda:0', grad_fn=<NegBackward0>), tensor(-34.8903, device='cuda:0', grad_fn=<NegBackward0>), tensor(-3.7475, device='cuda:0', grad_fn=<AddBackward0>)]\n",
      "0.3840729493698216\n",
      "tensor(-71.6863, device='cuda:0', grad_fn=<NegBackward0>) [tensor(-35.4112, device='cuda:0', grad_fn=<NegBackward0>), tensor(-34.7394, device='cuda:0', grad_fn=<NegBackward0>), tensor(-3.6445, device='cuda:0', grad_fn=<AddBackward0>)]\n",
      "tensor(-71.5468, device='cuda:0', grad_fn=<NegBackward0>) [tensor(-35.4112, device='cuda:0', grad_fn=<NegBackward0>), tensor(-34.5698, device='cuda:0', grad_fn=<NegBackward0>), tensor(-3.7864, device='cuda:0', grad_fn=<AddBackward0>)]\n",
      "0.37003922532004396\n",
      "tensor(-71.8458, device='cuda:0', grad_fn=<NegBackward0>) [tensor(-35.5319, device='cuda:0', grad_fn=<NegBackward0>), tensor(-34.8620, device='cuda:0', grad_fn=<NegBackward0>), tensor(-3.2711, device='cuda:0', grad_fn=<AddBackward0>)]\n",
      "tensor(-71.8398, device='cuda:0', grad_fn=<NegBackward0>) [tensor(-35.5319, device='cuda:0', grad_fn=<NegBackward0>), tensor(-34.8181, device='cuda:0', grad_fn=<NegBackward0>), tensor(-3.4363, device='cuda:0', grad_fn=<AddBackward0>)]\n",
      "0.3708575933979866\n",
      "tensor(-72.1991, device='cuda:0', grad_fn=<NegBackward0>) [tensor(-35.7386, device='cuda:0', grad_fn=<NegBackward0>), tensor(-35.0091, device='cuda:0', grad_fn=<NegBackward0>), tensor(-3.2690, device='cuda:0', grad_fn=<AddBackward0>)]\n",
      "tensor(-72.3663, device='cuda:0', grad_fn=<NegBackward0>) [tensor(-35.7386, device='cuda:0', grad_fn=<NegBackward0>), tensor(-35.1316, device='cuda:0', grad_fn=<NegBackward0>), tensor(-3.4644, device='cuda:0', grad_fn=<AddBackward0>)]\n",
      "0.3582870503396088\n",
      "tensor(-73.3261, device='cuda:0', grad_fn=<NegBackward0>) [tensor(-36.3416, device='cuda:0', grad_fn=<NegBackward0>), tensor(-35.5431, device='cuda:0', grad_fn=<NegBackward0>), tensor(-3.2264, device='cuda:0', grad_fn=<AddBackward0>)]\n",
      "tensor(-73.5006, device='cuda:0', grad_fn=<NegBackward0>) [tensor(-36.3416, device='cuda:0', grad_fn=<NegBackward0>), tensor(-35.7438, device='cuda:0', grad_fn=<NegBackward0>), tensor(-3.1171, device='cuda:0', grad_fn=<AddBackward0>)]\n",
      "0.37236766085378886\n",
      "tensor(-73.6025, device='cuda:0', grad_fn=<NegBackward0>) [tensor(-36.4065, device='cuda:0', grad_fn=<NegBackward0>), tensor(-35.7200, device='cuda:0', grad_fn=<NegBackward0>), tensor(-3.3751, device='cuda:0', grad_fn=<AddBackward0>)]\n",
      "tensor(-73.5809, device='cuda:0', grad_fn=<NegBackward0>) [tensor(-36.4065, device='cuda:0', grad_fn=<NegBackward0>), tensor(-35.6187, device='cuda:0', grad_fn=<NegBackward0>), tensor(-3.7385, device='cuda:0', grad_fn=<AddBackward0>)]\n",
      "0.3707088066828429\n",
      "tensor(-73.7352, device='cuda:0', grad_fn=<NegBackward0>) [tensor(-36.5048, device='cuda:0', grad_fn=<NegBackward0>), tensor(-35.7089, device='cuda:0', grad_fn=<NegBackward0>), tensor(-3.5792, device='cuda:0', grad_fn=<AddBackward0>)]\n",
      "tensor(-73.8371, device='cuda:0', grad_fn=<NegBackward0>) [tensor(-36.5048, device='cuda:0', grad_fn=<NegBackward0>), tensor(-35.8272, device='cuda:0', grad_fn=<NegBackward0>), tensor(-3.5043, device='cuda:0', grad_fn=<AddBackward0>)]\n",
      "0.37697874770403544\n",
      "tensor(-74.2638, device='cuda:0', grad_fn=<NegBackward0>) [tensor(-36.8061, device='cuda:0', grad_fn=<NegBackward0>), tensor(-35.9679, device='cuda:0', grad_fn=<NegBackward0>), tensor(-3.4363, device='cuda:0', grad_fn=<AddBackward0>)]\n",
      "tensor(-74.3143, device='cuda:0', grad_fn=<NegBackward0>) [tensor(-36.8061, device='cuda:0', grad_fn=<NegBackward0>), tensor(-35.9690, device='cuda:0', grad_fn=<NegBackward0>), tensor(-3.6607, device='cuda:0', grad_fn=<AddBackward0>)]\n",
      "0.3201764505214846\n",
      "tensor(-74.5470, device='cuda:0', grad_fn=<NegBackward0>) [tensor(-36.9303, device='cuda:0', grad_fn=<NegBackward0>), tensor(-36.3240, device='cuda:0', grad_fn=<NegBackward0>), tensor(-2.6424, device='cuda:0', grad_fn=<AddBackward0>)]\n",
      "tensor(-74.5460, device='cuda:0', grad_fn=<NegBackward0>) [tensor(-36.9303, device='cuda:0', grad_fn=<NegBackward0>), tensor(-36.3401, device='cuda:0', grad_fn=<NegBackward0>), tensor(-2.5807, device='cuda:0', grad_fn=<AddBackward0>)]\n",
      "0.36475547464524843\n",
      "tensor(-74.4910, device='cuda:0', grad_fn=<NegBackward0>) [tensor(-36.8848, device='cuda:0', grad_fn=<NegBackward0>), tensor(-36.1414, device='cuda:0', grad_fn=<NegBackward0>), tensor(-3.3267, device='cuda:0', grad_fn=<AddBackward0>)]\n",
      "tensor(-74.4765, device='cuda:0', grad_fn=<NegBackward0>) [tensor(-36.8848, device='cuda:0', grad_fn=<NegBackward0>), tensor(-36.1254, device='cuda:0', grad_fn=<NegBackward0>), tensor(-3.3331, device='cuda:0', grad_fn=<AddBackward0>)]\n"
     ]
    },
    {
     "name": "stdout",
     "output_type": "stream",
     "text": [
      "0.36300828872446084\n",
      "tensor(-74.4254, device='cuda:0', grad_fn=<NegBackward0>) [tensor(-36.8653, device='cuda:0', grad_fn=<NegBackward0>), tensor(-36.1528, device='cuda:0', grad_fn=<NegBackward0>), tensor(-3.0853, device='cuda:0', grad_fn=<AddBackward0>)]\n",
      "tensor(-74.2928, device='cuda:0', grad_fn=<NegBackward0>) [tensor(-36.8653, device='cuda:0', grad_fn=<NegBackward0>), tensor(-35.9714, device='cuda:0', grad_fn=<NegBackward0>), tensor(-3.2893, device='cuda:0', grad_fn=<AddBackward0>)]\n",
      "0.3523520154942909\n",
      "tensor(-75.3068, device='cuda:0', grad_fn=<NegBackward0>) [tensor(-37.2660, device='cuda:0', grad_fn=<NegBackward0>), tensor(-36.5885, device='cuda:0', grad_fn=<NegBackward0>), tensor(-3.2729, device='cuda:0', grad_fn=<AddBackward0>)]\n",
      "tensor(-75.3286, device='cuda:0', grad_fn=<NegBackward0>) [tensor(-37.2660, device='cuda:0', grad_fn=<NegBackward0>), tensor(-36.6604, device='cuda:0', grad_fn=<NegBackward0>), tensor(-3.0644, device='cuda:0', grad_fn=<AddBackward0>)]\n",
      "0.3420518519773196\n",
      "tensor(-75.3758, device='cuda:0', grad_fn=<NegBackward0>) [tensor(-37.3931, device='cuda:0', grad_fn=<NegBackward0>), tensor(-36.6289, device='cuda:0', grad_fn=<NegBackward0>), tensor(-2.8725, device='cuda:0', grad_fn=<AddBackward0>)]\n",
      "tensor(-75.3868, device='cuda:0', grad_fn=<NegBackward0>) [tensor(-37.3931, device='cuda:0', grad_fn=<NegBackward0>), tensor(-36.5613, device='cuda:0', grad_fn=<NegBackward0>), tensor(-3.1890, device='cuda:0', grad_fn=<AddBackward0>)]\n",
      "0.3577012755166959\n",
      "tensor(-75.4609, device='cuda:0', grad_fn=<NegBackward0>) [tensor(-37.3615, device='cuda:0', grad_fn=<NegBackward0>), tensor(-36.6934, device='cuda:0', grad_fn=<NegBackward0>), tensor(-3.0793, device='cuda:0', grad_fn=<AddBackward0>)]\n",
      "tensor(-75.4324, device='cuda:0', grad_fn=<NegBackward0>) [tensor(-37.3615, device='cuda:0', grad_fn=<NegBackward0>), tensor(-36.6281, device='cuda:0', grad_fn=<NegBackward0>), tensor(-3.2323, device='cuda:0', grad_fn=<AddBackward0>)]\n",
      "0.340752585737538\n",
      "tensor(-75.6680, device='cuda:0', grad_fn=<NegBackward0>) [tensor(-37.5207, device='cuda:0', grad_fn=<NegBackward0>), tensor(-36.8056, device='cuda:0', grad_fn=<NegBackward0>), tensor(-2.8257, device='cuda:0', grad_fn=<AddBackward0>)]\n",
      "tensor(-75.7108, device='cuda:0', grad_fn=<NegBackward0>) [tensor(-37.5207, device='cuda:0', grad_fn=<NegBackward0>), tensor(-36.8054, device='cuda:0', grad_fn=<NegBackward0>), tensor(-2.9940, device='cuda:0', grad_fn=<AddBackward0>)]\n",
      "0.39071448430878175\n",
      "tensor(-75.4248, device='cuda:0', grad_fn=<NegBackward0>) [tensor(-37.3789, device='cuda:0', grad_fn=<NegBackward0>), tensor(-36.5207, device='cuda:0', grad_fn=<NegBackward0>), tensor(-3.5960, device='cuda:0', grad_fn=<AddBackward0>)]\n",
      "tensor(-75.5431, device='cuda:0', grad_fn=<NegBackward0>) [tensor(-37.3789, device='cuda:0', grad_fn=<NegBackward0>), tensor(-36.5839, device='cuda:0', grad_fn=<NegBackward0>), tensor(-3.8562, device='cuda:0', grad_fn=<AddBackward0>)]\n",
      "0.3304231416279618\n",
      "tensor(-76.4554, device='cuda:0', grad_fn=<NegBackward0>) [tensor(-37.8997, device='cuda:0', grad_fn=<NegBackward0>), tensor(-37.2035, device='cuda:0', grad_fn=<NegBackward0>), tensor(-2.8657, device='cuda:0', grad_fn=<AddBackward0>)]\n",
      "tensor(-76.5244, device='cuda:0', grad_fn=<NegBackward0>) [tensor(-37.8997, device='cuda:0', grad_fn=<NegBackward0>), tensor(-37.3171, device='cuda:0', grad_fn=<NegBackward0>), tensor(-2.6971, device='cuda:0', grad_fn=<AddBackward0>)]\n",
      "0.34432960698741416\n",
      "tensor(-76.4943, device='cuda:0', grad_fn=<NegBackward0>) [tensor(-37.8972, device='cuda:0', grad_fn=<NegBackward0>), tensor(-37.2422, device='cuda:0', grad_fn=<NegBackward0>), tensor(-2.8762, device='cuda:0', grad_fn=<AddBackward0>)]\n",
      "tensor(-76.5000, device='cuda:0', grad_fn=<NegBackward0>) [tensor(-37.8972, device='cuda:0', grad_fn=<NegBackward0>), tensor(-37.2358, device='cuda:0', grad_fn=<NegBackward0>), tensor(-2.9231, device='cuda:0', grad_fn=<AddBackward0>)]\n",
      "0.3477394358538297\n",
      "tensor(-77.3751, device='cuda:0', grad_fn=<NegBackward0>) [tensor(-38.3363, device='cuda:0', grad_fn=<NegBackward0>), tensor(-37.6411, device='cuda:0', grad_fn=<NegBackward0>), tensor(-3.0458, device='cuda:0', grad_fn=<AddBackward0>)]\n",
      "tensor(-77.2697, device='cuda:0', grad_fn=<NegBackward0>) [tensor(-38.3363, device='cuda:0', grad_fn=<NegBackward0>), tensor(-37.5667, device='cuda:0', grad_fn=<NegBackward0>), tensor(-2.9225, device='cuda:0', grad_fn=<AddBackward0>)]\n",
      "0.36230394585178954\n",
      "tensor(-76.6834, device='cuda:0', grad_fn=<NegBackward0>) [tensor(-38.0590, device='cuda:0', grad_fn=<NegBackward0>), tensor(-37.1320, device='cuda:0', grad_fn=<NegBackward0>), tensor(-3.4477, device='cuda:0', grad_fn=<AddBackward0>)]\n",
      "tensor(-76.7021, device='cuda:0', grad_fn=<NegBackward0>) [tensor(-38.0590, device='cuda:0', grad_fn=<NegBackward0>), tensor(-37.2120, device='cuda:0', grad_fn=<NegBackward0>), tensor(-3.1835, device='cuda:0', grad_fn=<AddBackward0>)]\n",
      "0.3360983639476633\n",
      "tensor(-77.2727, device='cuda:0', grad_fn=<NegBackward0>) [tensor(-38.4211, device='cuda:0', grad_fn=<NegBackward0>), tensor(-37.5547, device='cuda:0', grad_fn=<NegBackward0>), tensor(-2.6581, device='cuda:0', grad_fn=<AddBackward0>)]\n",
      "tensor(-77.4755, device='cuda:0', grad_fn=<NegBackward0>) [tensor(-38.4211, device='cuda:0', grad_fn=<NegBackward0>), tensor(-37.7581, device='cuda:0', grad_fn=<NegBackward0>), tensor(-2.6559, device='cuda:0', grad_fn=<AddBackward0>)]\n",
      "0.3546804352909749\n",
      "tensor(-77.1094, device='cuda:0', grad_fn=<NegBackward0>) [tensor(-38.2272, device='cuda:0', grad_fn=<NegBackward0>), tensor(-37.4365, device='cuda:0', grad_fn=<NegBackward0>), tensor(-3.2449, device='cuda:0', grad_fn=<AddBackward0>)]\n",
      "tensor(-76.8952, device='cuda:0', grad_fn=<NegBackward0>) [tensor(-38.2272, device='cuda:0', grad_fn=<NegBackward0>), tensor(-37.2667, device='cuda:0', grad_fn=<NegBackward0>), tensor(-3.0606, device='cuda:0', grad_fn=<AddBackward0>)]\n",
      "0.3431830278996942\n",
      "tensor(-77.4857, device='cuda:0', grad_fn=<NegBackward0>) [tensor(-38.4594, device='cuda:0', grad_fn=<NegBackward0>), tensor(-37.6803, device='cuda:0', grad_fn=<NegBackward0>), tensor(-2.8418, device='cuda:0', grad_fn=<AddBackward0>)]\n",
      "tensor(-77.5009, device='cuda:0', grad_fn=<NegBackward0>) [tensor(-38.4594, device='cuda:0', grad_fn=<NegBackward0>), tensor(-37.7193, device='cuda:0', grad_fn=<NegBackward0>), tensor(-2.7517, device='cuda:0', grad_fn=<AddBackward0>)]\n",
      "0.3316600061885446\n",
      "tensor(-78.0781, device='cuda:0', grad_fn=<NegBackward0>) [tensor(-38.7136, device='cuda:0', grad_fn=<NegBackward0>), tensor(-38.0645, device='cuda:0', grad_fn=<NegBackward0>), tensor(-2.6693, device='cuda:0', grad_fn=<AddBackward0>)]\n",
      "tensor(-78.0614, device='cuda:0', grad_fn=<NegBackward0>) [tensor(-38.7136, device='cuda:0', grad_fn=<NegBackward0>), tensor(-38.0405, device='cuda:0', grad_fn=<NegBackward0>), tensor(-2.6961, device='cuda:0', grad_fn=<AddBackward0>)]\n",
      "0.3385393536420432\n",
      "tensor(-77.7908, device='cuda:0', grad_fn=<NegBackward0>) [tensor(-38.5826, device='cuda:0', grad_fn=<NegBackward0>), tensor(-37.8846, device='cuda:0', grad_fn=<NegBackward0>), tensor(-2.7567, device='cuda:0', grad_fn=<AddBackward0>)]\n",
      "tensor(-77.7970, device='cuda:0', grad_fn=<NegBackward0>) [tensor(-38.5826, device='cuda:0', grad_fn=<NegBackward0>), tensor(-37.8544, device='cuda:0', grad_fn=<NegBackward0>), tensor(-2.8959, device='cuda:0', grad_fn=<AddBackward0>)]\n",
      "0.34088610754360155\n",
      "tensor(-77.3964, device='cuda:0', grad_fn=<NegBackward0>) [tensor(-38.4190, device='cuda:0', grad_fn=<NegBackward0>), tensor(-37.6091, device='cuda:0', grad_fn=<NegBackward0>), tensor(-2.9286, device='cuda:0', grad_fn=<AddBackward0>)]\n",
      "tensor(-77.3645, device='cuda:0', grad_fn=<NegBackward0>) [tensor(-38.4190, device='cuda:0', grad_fn=<NegBackward0>), tensor(-37.6323, device='cuda:0', grad_fn=<NegBackward0>), tensor(-2.7178, device='cuda:0', grad_fn=<AddBackward0>)]\n",
      "0.3455616131867967\n",
      "tensor(-77.2113, device='cuda:0', grad_fn=<NegBackward0>) [tensor(-38.3478, device='cuda:0', grad_fn=<NegBackward0>), tensor(-37.5069, device='cuda:0', grad_fn=<NegBackward0>), tensor(-2.8829, device='cuda:0', grad_fn=<AddBackward0>)]\n",
      "tensor(-77.3111, device='cuda:0', grad_fn=<NegBackward0>) [tensor(-38.3478, device='cuda:0', grad_fn=<NegBackward0>), tensor(-37.5771, device='cuda:0', grad_fn=<NegBackward0>), tensor(-2.9997, device='cuda:0', grad_fn=<AddBackward0>)]\n"
     ]
    },
    {
     "name": "stdout",
     "output_type": "stream",
     "text": [
      "0.340539666742453\n",
      "tensor(-78.4065, device='cuda:0', grad_fn=<NegBackward0>) [tensor(-38.9276, device='cuda:0', grad_fn=<NegBackward0>), tensor(-38.1053, device='cuda:0', grad_fn=<NegBackward0>), tensor(-2.9495, device='cuda:0', grad_fn=<AddBackward0>)]\n",
      "tensor(-78.5426, device='cuda:0', grad_fn=<NegBackward0>) [tensor(-38.9276, device='cuda:0', grad_fn=<NegBackward0>), tensor(-38.3041, device='cuda:0', grad_fn=<NegBackward0>), tensor(-2.7095, device='cuda:0', grad_fn=<AddBackward0>)]\n",
      "0.3326108225888169\n",
      "tensor(-78.9662, device='cuda:0', grad_fn=<NegBackward0>) [tensor(-39.1999, device='cuda:0', grad_fn=<NegBackward0>), tensor(-38.4268, device='cuda:0', grad_fn=<NegBackward0>), tensor(-2.8175, device='cuda:0', grad_fn=<AddBackward0>)]\n",
      "tensor(-78.9432, device='cuda:0', grad_fn=<NegBackward0>) [tensor(-39.1999, device='cuda:0', grad_fn=<NegBackward0>), tensor(-38.4107, device='cuda:0', grad_fn=<NegBackward0>), tensor(-2.7911, device='cuda:0', grad_fn=<AddBackward0>)]\n",
      "0.31961442543516544\n",
      "tensor(-78.9819, device='cuda:0', grad_fn=<NegBackward0>) [tensor(-39.2176, device='cuda:0', grad_fn=<NegBackward0>), tensor(-38.5269, device='cuda:0', grad_fn=<NegBackward0>), tensor(-2.4469, device='cuda:0', grad_fn=<AddBackward0>)]\n",
      "tensor(-79.0334, device='cuda:0', grad_fn=<NegBackward0>) [tensor(-39.2176, device='cuda:0', grad_fn=<NegBackward0>), tensor(-38.5859, device='cuda:0', grad_fn=<NegBackward0>), tensor(-2.4210, device='cuda:0', grad_fn=<AddBackward0>)]\n",
      "0.31471853396319716\n",
      "tensor(-79.4297, device='cuda:0', grad_fn=<NegBackward0>) [tensor(-39.4277, device='cuda:0', grad_fn=<NegBackward0>), tensor(-38.7945, device='cuda:0', grad_fn=<NegBackward0>), tensor(-2.3454, device='cuda:0', grad_fn=<AddBackward0>)]\n",
      "tensor(-79.4386, device='cuda:0', grad_fn=<NegBackward0>) [tensor(-39.4277, device='cuda:0', grad_fn=<NegBackward0>), tensor(-38.7977, device='cuda:0', grad_fn=<NegBackward0>), tensor(-2.3643, device='cuda:0', grad_fn=<AddBackward0>)]\n",
      "0.32758281061658323\n",
      "tensor(-79.5000, device='cuda:0', grad_fn=<NegBackward0>) [tensor(-39.4584, device='cuda:0', grad_fn=<NegBackward0>), tensor(-38.7577, device='cuda:0', grad_fn=<NegBackward0>), tensor(-2.6111, device='cuda:0', grad_fn=<AddBackward0>)]\n",
      "tensor(-79.4883, device='cuda:0', grad_fn=<NegBackward0>) [tensor(-39.4584, device='cuda:0', grad_fn=<NegBackward0>), tensor(-38.7491, device='cuda:0', grad_fn=<NegBackward0>), tensor(-2.5997, device='cuda:0', grad_fn=<AddBackward0>)]\n",
      "0.32826826983329854\n",
      "tensor(-79.6320, device='cuda:0', grad_fn=<NegBackward0>) [tensor(-39.5224, device='cuda:0', grad_fn=<NegBackward0>), tensor(-38.8308, device='cuda:0', grad_fn=<NegBackward0>), tensor(-2.5927, device='cuda:0', grad_fn=<AddBackward0>)]\n",
      "tensor(-79.6335, device='cuda:0', grad_fn=<NegBackward0>) [tensor(-39.5224, device='cuda:0', grad_fn=<NegBackward0>), tensor(-38.8644, device='cuda:0', grad_fn=<NegBackward0>), tensor(-2.4790, device='cuda:0', grad_fn=<AddBackward0>)]\n",
      "0.3469603116030083\n",
      "tensor(-79.8922, device='cuda:0', grad_fn=<NegBackward0>) [tensor(-39.6106, device='cuda:0', grad_fn=<NegBackward0>), tensor(-38.9319, device='cuda:0', grad_fn=<NegBackward0>), tensor(-2.8562, device='cuda:0', grad_fn=<AddBackward0>)]\n",
      "tensor(-79.8554, device='cuda:0', grad_fn=<NegBackward0>) [tensor(-39.6106, device='cuda:0', grad_fn=<NegBackward0>), tensor(-38.8239, device='cuda:0', grad_fn=<NegBackward0>), tensor(-3.1407, device='cuda:0', grad_fn=<AddBackward0>)]\n",
      "0.33799272431928384\n",
      "tensor(-80.3117, device='cuda:0', grad_fn=<NegBackward0>) [tensor(-39.8581, device='cuda:0', grad_fn=<NegBackward0>), tensor(-39.1370, device='cuda:0', grad_fn=<NegBackward0>), tensor(-2.7309, device='cuda:0', grad_fn=<AddBackward0>)]\n",
      "tensor(-80.3120, device='cuda:0', grad_fn=<NegBackward0>) [tensor(-39.8581, device='cuda:0', grad_fn=<NegBackward0>), tensor(-39.1049, device='cuda:0', grad_fn=<NegBackward0>), tensor(-2.8535, device='cuda:0', grad_fn=<AddBackward0>)]\n",
      "0.33776697125655586\n",
      "tensor(-80.4851, device='cuda:0', grad_fn=<NegBackward0>) [tensor(-39.9387, device='cuda:0', grad_fn=<NegBackward0>), tensor(-39.2522, device='cuda:0', grad_fn=<NegBackward0>), tensor(-2.6480, device='cuda:0', grad_fn=<AddBackward0>)]\n",
      "tensor(-80.3630, device='cuda:0', grad_fn=<NegBackward0>) [tensor(-39.9387, device='cuda:0', grad_fn=<NegBackward0>), tensor(-39.0696, device='cuda:0', grad_fn=<NegBackward0>), tensor(-2.8757, device='cuda:0', grad_fn=<AddBackward0>)]\n",
      "0.336489280464128\n",
      "tensor(-80.2775, device='cuda:0', grad_fn=<NegBackward0>) [tensor(-39.8398, device='cuda:0', grad_fn=<NegBackward0>), tensor(-39.1661, device='cuda:0', grad_fn=<NegBackward0>), tensor(-2.5666, device='cuda:0', grad_fn=<AddBackward0>)]\n",
      "tensor(-80.2413, device='cuda:0', grad_fn=<NegBackward0>) [tensor(-39.8398, device='cuda:0', grad_fn=<NegBackward0>), tensor(-39.0900, device='cuda:0', grad_fn=<NegBackward0>), tensor(-2.7118, device='cuda:0', grad_fn=<AddBackward0>)]\n",
      "0.3002710596983067\n",
      "tensor(-80.8757, device='cuda:0', grad_fn=<NegBackward0>) [tensor(-40.1764, device='cuda:0', grad_fn=<NegBackward0>), tensor(-39.5000, device='cuda:0', grad_fn=<NegBackward0>), tensor(-2.3178, device='cuda:0', grad_fn=<AddBackward0>)]\n",
      "tensor(-80.9375, device='cuda:0', grad_fn=<NegBackward0>) [tensor(-40.1764, device='cuda:0', grad_fn=<NegBackward0>), tensor(-39.5975, device='cuda:0', grad_fn=<NegBackward0>), tensor(-2.2013, device='cuda:0', grad_fn=<AddBackward0>)]\n",
      "0.3100176354831972\n",
      "tensor(-79.9472, device='cuda:0', grad_fn=<NegBackward0>) [tensor(-39.6981, device='cuda:0', grad_fn=<NegBackward0>), tensor(-39.0776, device='cuda:0', grad_fn=<NegBackward0>), tensor(-2.2266, device='cuda:0', grad_fn=<AddBackward0>)]\n",
      "tensor(-79.9457, device='cuda:0', grad_fn=<NegBackward0>) [tensor(-39.6981, device='cuda:0', grad_fn=<NegBackward0>), tensor(-39.0114, device='cuda:0', grad_fn=<NegBackward0>), tensor(-2.4424, device='cuda:0', grad_fn=<AddBackward0>)]\n",
      "0.3043504627478393\n",
      "tensor(-80.1312, device='cuda:0', grad_fn=<NegBackward0>) [tensor(-39.7824, device='cuda:0', grad_fn=<NegBackward0>), tensor(-39.1414, device='cuda:0', grad_fn=<NegBackward0>), tensor(-2.3446, device='cuda:0', grad_fn=<AddBackward0>)]\n",
      "tensor(-79.9976, device='cuda:0', grad_fn=<NegBackward0>) [tensor(-39.7824, device='cuda:0', grad_fn=<NegBackward0>), tensor(-39.0353, device='cuda:0', grad_fn=<NegBackward0>), tensor(-2.2541, device='cuda:0', grad_fn=<AddBackward0>)]\n",
      "0.3316141324078957\n",
      "tensor(-81.0203, device='cuda:0', grad_fn=<NegBackward0>) [tensor(-40.2352, device='cuda:0', grad_fn=<NegBackward0>), tensor(-39.4485, device='cuda:0', grad_fn=<NegBackward0>), tensor(-2.8062, device='cuda:0', grad_fn=<AddBackward0>)]\n",
      "tensor(-80.9561, device='cuda:0', grad_fn=<NegBackward0>) [tensor(-40.2352, device='cuda:0', grad_fn=<NegBackward0>), tensor(-39.4479, device='cuda:0', grad_fn=<NegBackward0>), tensor(-2.5717, device='cuda:0', grad_fn=<AddBackward0>)]\n",
      "0.3210864966270524\n",
      "tensor(-81.2074, device='cuda:0', grad_fn=<NegBackward0>) [tensor(-40.3570, device='cuda:0', grad_fn=<NegBackward0>), tensor(-39.6073, device='cuda:0', grad_fn=<NegBackward0>), tensor(-2.4665, device='cuda:0', grad_fn=<AddBackward0>)]\n",
      "tensor(-81.1730, device='cuda:0', grad_fn=<NegBackward0>) [tensor(-40.3570, device='cuda:0', grad_fn=<NegBackward0>), tensor(-39.5976, device='cuda:0', grad_fn=<NegBackward0>), tensor(-2.3819, device='cuda:0', grad_fn=<AddBackward0>)]\n",
      "0.33351145666346155\n",
      "tensor(-80.8299, device='cuda:0', grad_fn=<NegBackward0>) [tensor(-40.2263, device='cuda:0', grad_fn=<NegBackward0>), tensor(-39.2464, device='cuda:0', grad_fn=<NegBackward0>), tensor(-2.8856, device='cuda:0', grad_fn=<AddBackward0>)]\n",
      "tensor(-81.0059, device='cuda:0', grad_fn=<NegBackward0>) [tensor(-40.2263, device='cuda:0', grad_fn=<NegBackward0>), tensor(-39.4987, device='cuda:0', grad_fn=<NegBackward0>), tensor(-2.5998, device='cuda:0', grad_fn=<AddBackward0>)]\n",
      "0.32280961658826796\n",
      "tensor(-80.9413, device='cuda:0', grad_fn=<NegBackward0>) [tensor(-40.2428, device='cuda:0', grad_fn=<NegBackward0>), tensor(-39.4611, device='cuda:0', grad_fn=<NegBackward0>), tensor(-2.4465, device='cuda:0', grad_fn=<AddBackward0>)]\n",
      "tensor(-81.0177, device='cuda:0', grad_fn=<NegBackward0>) [tensor(-40.2428, device='cuda:0', grad_fn=<NegBackward0>), tensor(-39.5525, device='cuda:0', grad_fn=<NegBackward0>), tensor(-2.3953, device='cuda:0', grad_fn=<AddBackward0>)]\n"
     ]
    },
    {
     "name": "stdout",
     "output_type": "stream",
     "text": [
      "0.3199598341851783\n",
      "tensor(-81.4897, device='cuda:0', grad_fn=<NegBackward0>) [tensor(-40.4596, device='cuda:0', grad_fn=<NegBackward0>), tensor(-39.8054, device='cuda:0', grad_fn=<NegBackward0>), tensor(-2.4031, device='cuda:0', grad_fn=<AddBackward0>)]\n",
      "tensor(-81.5621, device='cuda:0', grad_fn=<NegBackward0>) [tensor(-40.4596, device='cuda:0', grad_fn=<NegBackward0>), tensor(-39.8324, device='cuda:0', grad_fn=<NegBackward0>), tensor(-2.5612, device='cuda:0', grad_fn=<AddBackward0>)]\n",
      "0.3021112931994008\n",
      "tensor(-81.1682, device='cuda:0', grad_fn=<NegBackward0>) [tensor(-40.3400, device='cuda:0', grad_fn=<NegBackward0>), tensor(-39.6840, device='cuda:0', grad_fn=<NegBackward0>), tensor(-2.1402, device='cuda:0', grad_fn=<AddBackward0>)]\n",
      "tensor(-81.0663, device='cuda:0', grad_fn=<NegBackward0>) [tensor(-40.3400, device='cuda:0', grad_fn=<NegBackward0>), tensor(-39.5610, device='cuda:0', grad_fn=<NegBackward0>), tensor(-2.2070, device='cuda:0', grad_fn=<AddBackward0>)]\n",
      "0.35396166301288495\n",
      "tensor(-80.6606, device='cuda:0', grad_fn=<NegBackward0>) [tensor(-40.0860, device='cuda:0', grad_fn=<NegBackward0>), tensor(-39.2392, device='cuda:0', grad_fn=<NegBackward0>), tensor(-2.8017, device='cuda:0', grad_fn=<AddBackward0>)]\n",
      "tensor(-80.6910, device='cuda:0', grad_fn=<NegBackward0>) [tensor(-40.0860, device='cuda:0', grad_fn=<NegBackward0>), tensor(-39.2471, device='cuda:0', grad_fn=<NegBackward0>), tensor(-2.8884, device='cuda:0', grad_fn=<AddBackward0>)]\n",
      "0.3151105557430675\n",
      "tensor(-80.7867, device='cuda:0', grad_fn=<NegBackward0>) [tensor(-40.1315, device='cuda:0', grad_fn=<NegBackward0>), tensor(-39.4581, device='cuda:0', grad_fn=<NegBackward0>), tensor(-2.3103, device='cuda:0', grad_fn=<AddBackward0>)]\n",
      "tensor(-80.7873, device='cuda:0', grad_fn=<NegBackward0>) [tensor(-40.1315, device='cuda:0', grad_fn=<NegBackward0>), tensor(-39.4605, device='cuda:0', grad_fn=<NegBackward0>), tensor(-2.3042, device='cuda:0', grad_fn=<AddBackward0>)]\n",
      "0.33113875799726195\n",
      "tensor(-81.4576, device='cuda:0', grad_fn=<NegBackward0>) [tensor(-40.4266, device='cuda:0', grad_fn=<NegBackward0>), tensor(-39.8064, device='cuda:0', grad_fn=<NegBackward0>), tensor(-2.4027, device='cuda:0', grad_fn=<AddBackward0>)]\n",
      "tensor(-81.4379, device='cuda:0', grad_fn=<NegBackward0>) [tensor(-40.4266, device='cuda:0', grad_fn=<NegBackward0>), tensor(-39.7796, device='cuda:0', grad_fn=<NegBackward0>), tensor(-2.4268, device='cuda:0', grad_fn=<AddBackward0>)]\n",
      "0.3358015725295675\n",
      "tensor(-82.1137, device='cuda:0', grad_fn=<NegBackward0>) [tensor(-40.8142, device='cuda:0', grad_fn=<NegBackward0>), tensor(-39.9309, device='cuda:0', grad_fn=<NegBackward0>), tensor(-2.9297, device='cuda:0', grad_fn=<AddBackward0>)]\n",
      "tensor(-82.2595, device='cuda:0', grad_fn=<NegBackward0>) [tensor(-40.8142, device='cuda:0', grad_fn=<NegBackward0>), tensor(-40.1477, device='cuda:0', grad_fn=<NegBackward0>), tensor(-2.6608, device='cuda:0', grad_fn=<AddBackward0>)]\n",
      "0.32804251677057056\n",
      "tensor(-82.7627, device='cuda:0', grad_fn=<NegBackward0>) [tensor(-41.0438, device='cuda:0', grad_fn=<NegBackward0>), tensor(-40.4688, device='cuda:0', grad_fn=<NegBackward0>), tensor(-2.4903, device='cuda:0', grad_fn=<AddBackward0>)]\n",
      "tensor(-82.7648, device='cuda:0', grad_fn=<NegBackward0>) [tensor(-41.0438, device='cuda:0', grad_fn=<NegBackward0>), tensor(-40.4533, device='cuda:0', grad_fn=<NegBackward0>), tensor(-2.5527, device='cuda:0', grad_fn=<AddBackward0>)]\n",
      "0.3359216524406004\n",
      "tensor(-82.2727, device='cuda:0', grad_fn=<NegBackward0>) [tensor(-40.9222, device='cuda:0', grad_fn=<NegBackward0>), tensor(-40.0478, device='cuda:0', grad_fn=<NegBackward0>), tensor(-2.6794, device='cuda:0', grad_fn=<AddBackward0>)]\n",
      "tensor(-82.1478, device='cuda:0', grad_fn=<NegBackward0>) [tensor(-40.9222, device='cuda:0', grad_fn=<NegBackward0>), tensor(-39.9214, device='cuda:0', grad_fn=<NegBackward0>), tensor(-2.6849, device='cuda:0', grad_fn=<AddBackward0>)]\n",
      "0.32107670080434403\n",
      "tensor(-82.5425, device='cuda:0', grad_fn=<NegBackward0>) [tensor(-40.9372, device='cuda:0', grad_fn=<NegBackward0>), tensor(-40.3748, device='cuda:0', grad_fn=<NegBackward0>), tensor(-2.4228, device='cuda:0', grad_fn=<AddBackward0>)]\n",
      "tensor(-82.4400, device='cuda:0', grad_fn=<NegBackward0>) [tensor(-40.9372, device='cuda:0', grad_fn=<NegBackward0>), tensor(-40.3229, device='cuda:0', grad_fn=<NegBackward0>), tensor(-2.2540, device='cuda:0', grad_fn=<AddBackward0>)]\n",
      "0.31854094943420813\n",
      "tensor(-82.7818, device='cuda:0', grad_fn=<NegBackward0>) [tensor(-41.1559, device='cuda:0', grad_fn=<NegBackward0>), tensor(-40.3953, device='cuda:0', grad_fn=<NegBackward0>), tensor(-2.4235, device='cuda:0', grad_fn=<AddBackward0>)]\n",
      "tensor(-82.8551, device='cuda:0', grad_fn=<NegBackward0>) [tensor(-41.1559, device='cuda:0', grad_fn=<NegBackward0>), tensor(-40.5085, device='cuda:0', grad_fn=<NegBackward0>), tensor(-2.2894, device='cuda:0', grad_fn=<AddBackward0>)]\n",
      "0.31458097840867755\n",
      "tensor(-83.2859, device='cuda:0', grad_fn=<NegBackward0>) [tensor(-41.4146, device='cuda:0', grad_fn=<NegBackward0>), tensor(-40.6390, device='cuda:0', grad_fn=<NegBackward0>), tensor(-2.4292, device='cuda:0', grad_fn=<AddBackward0>)]\n",
      "tensor(-83.3397, device='cuda:0', grad_fn=<NegBackward0>) [tensor(-41.4146, device='cuda:0', grad_fn=<NegBackward0>), tensor(-40.7562, device='cuda:0', grad_fn=<NegBackward0>), tensor(-2.2183, device='cuda:0', grad_fn=<AddBackward0>)]\n",
      "0.3064144529512285\n",
      "tensor(-83.3891, device='cuda:0', grad_fn=<NegBackward0>) [tensor(-41.4401, device='cuda:0', grad_fn=<NegBackward0>), tensor(-40.8297, device='cuda:0', grad_fn=<NegBackward0>), tensor(-2.0624, device='cuda:0', grad_fn=<AddBackward0>)]\n",
      "tensor(-83.3892, device='cuda:0', grad_fn=<NegBackward0>) [tensor(-41.4401, device='cuda:0', grad_fn=<NegBackward0>), tensor(-40.7921, device='cuda:0', grad_fn=<NegBackward0>), tensor(-2.1806, device='cuda:0', grad_fn=<AddBackward0>)]\n",
      "0.31442658073645324\n",
      "tensor(-83.1044, device='cuda:0', grad_fn=<NegBackward0>) [tensor(-41.2923, device='cuda:0', grad_fn=<NegBackward0>), tensor(-40.6163, device='cuda:0', grad_fn=<NegBackward0>), tensor(-2.3064, device='cuda:0', grad_fn=<AddBackward0>)]\n",
      "tensor(-83.0935, device='cuda:0', grad_fn=<NegBackward0>) [tensor(-41.2923, device='cuda:0', grad_fn=<NegBackward0>), tensor(-40.6488, device='cuda:0', grad_fn=<NegBackward0>), tensor(-2.1659, device='cuda:0', grad_fn=<AddBackward0>)]\n",
      "0.288362773360585\n",
      "tensor(-83.1038, device='cuda:0', grad_fn=<NegBackward0>) [tensor(-41.3014, device='cuda:0', grad_fn=<NegBackward0>), tensor(-40.7378, device='cuda:0', grad_fn=<NegBackward0>), tensor(-1.8994, device='cuda:0', grad_fn=<AddBackward0>)]\n",
      "tensor(-83.0204, device='cuda:0', grad_fn=<NegBackward0>) [tensor(-41.3014, device='cuda:0', grad_fn=<NegBackward0>), tensor(-40.6339, device='cuda:0', grad_fn=<NegBackward0>), tensor(-1.9597, device='cuda:0', grad_fn=<AddBackward0>)]\n",
      "0.315424856778815\n",
      "tensor(-83.5110, device='cuda:0', grad_fn=<NegBackward0>) [tensor(-41.5070, device='cuda:0', grad_fn=<NegBackward0>), tensor(-40.8353, device='cuda:0', grad_fn=<NegBackward0>), tensor(-2.2177, device='cuda:0', grad_fn=<AddBackward0>)]\n",
      "tensor(-83.5415, device='cuda:0', grad_fn=<NegBackward0>) [tensor(-41.5070, device='cuda:0', grad_fn=<NegBackward0>), tensor(-40.8084, device='cuda:0', grad_fn=<NegBackward0>), tensor(-2.4078, device='cuda:0', grad_fn=<AddBackward0>)]\n",
      "0.3002740518534201\n",
      "tensor(-83.7276, device='cuda:0', grad_fn=<NegBackward0>) [tensor(-41.6008, device='cuda:0', grad_fn=<NegBackward0>), tensor(-41.0196, device='cuda:0', grad_fn=<NegBackward0>), tensor(-2.0257, device='cuda:0', grad_fn=<AddBackward0>)]\n",
      "tensor(-83.7548, device='cuda:0', grad_fn=<NegBackward0>) [tensor(-41.6008, device='cuda:0', grad_fn=<NegBackward0>), tensor(-41.0431, device='cuda:0', grad_fn=<NegBackward0>), tensor(-2.0369, device='cuda:0', grad_fn=<AddBackward0>)]\n",
      "0.3292003535598831\n",
      "tensor(-82.5553, device='cuda:0', grad_fn=<NegBackward0>) [tensor(-41.0922, device='cuda:0', grad_fn=<NegBackward0>), tensor(-40.2310, device='cuda:0', grad_fn=<NegBackward0>), tensor(-2.4288, device='cuda:0', grad_fn=<AddBackward0>)]\n",
      "tensor(-82.7075, device='cuda:0', grad_fn=<NegBackward0>) [tensor(-41.0922, device='cuda:0', grad_fn=<NegBackward0>), tensor(-40.4228, device='cuda:0', grad_fn=<NegBackward0>), tensor(-2.2957, device='cuda:0', grad_fn=<AddBackward0>)]\n"
     ]
    },
    {
     "name": "stdout",
     "output_type": "stream",
     "text": [
      "0.3110378918715499\n",
      "tensor(-84.0591, device='cuda:0', grad_fn=<NegBackward0>) [tensor(-41.8033, device='cuda:0', grad_fn=<NegBackward0>), tensor(-41.0864, device='cuda:0', grad_fn=<NegBackward0>), tensor(-2.2201, device='cuda:0', grad_fn=<AddBackward0>)]\n",
      "tensor(-84.1586, device='cuda:0', grad_fn=<NegBackward0>) [tensor(-41.8033, device='cuda:0', grad_fn=<NegBackward0>), tensor(-41.2357, device='cuda:0', grad_fn=<NegBackward0>), tensor(-2.0637, device='cuda:0', grad_fn=<AddBackward0>)]\n",
      "0.31293204577033357\n",
      "tensor(-84.5313, device='cuda:0', grad_fn=<NegBackward0>) [tensor(-42.0425, device='cuda:0', grad_fn=<NegBackward0>), tensor(-41.3253, device='cuda:0', grad_fn=<NegBackward0>), tensor(-2.2009, device='cuda:0', grad_fn=<AddBackward0>)]\n",
      "tensor(-84.5494, device='cuda:0', grad_fn=<NegBackward0>) [tensor(-42.0425, device='cuda:0', grad_fn=<NegBackward0>), tensor(-41.3807, device='cuda:0', grad_fn=<NegBackward0>), tensor(-2.0838, device='cuda:0', grad_fn=<AddBackward0>)]\n",
      "0.32137570033668766\n",
      "tensor(-84.5825, device='cuda:0', grad_fn=<NegBackward0>) [tensor(-42.0095, device='cuda:0', grad_fn=<NegBackward0>), tensor(-41.3867, device='cuda:0', grad_fn=<NegBackward0>), tensor(-2.2753, device='cuda:0', grad_fn=<AddBackward0>)]\n",
      "tensor(-84.4821, device='cuda:0', grad_fn=<NegBackward0>) [tensor(-42.0095, device='cuda:0', grad_fn=<NegBackward0>), tensor(-41.2908, device='cuda:0', grad_fn=<NegBackward0>), tensor(-2.2601, device='cuda:0', grad_fn=<AddBackward0>)]\n",
      "0.29599532092140834\n",
      "tensor(-84.1479, device='cuda:0', grad_fn=<NegBackward0>) [tensor(-41.8088, device='cuda:0', grad_fn=<NegBackward0>), tensor(-41.2541, device='cuda:0', grad_fn=<NegBackward0>), tensor(-1.9597, device='cuda:0', grad_fn=<AddBackward0>)]\n",
      "tensor(-84.1278, device='cuda:0', grad_fn=<NegBackward0>) [tensor(-41.8088, device='cuda:0', grad_fn=<NegBackward0>), tensor(-41.2437, device='cuda:0', grad_fn=<NegBackward0>), tensor(-1.9311, device='cuda:0', grad_fn=<AddBackward0>)]\n",
      "0.3041561169106554\n",
      "tensor(-85.1007, device='cuda:0', grad_fn=<NegBackward0>) [tensor(-42.2845, device='cuda:0', grad_fn=<NegBackward0>), tensor(-41.6854, device='cuda:0', grad_fn=<NegBackward0>), tensor(-2.0983, device='cuda:0', grad_fn=<AddBackward0>)]\n",
      "tensor(-85.0991, device='cuda:0', grad_fn=<NegBackward0>) [tensor(-42.2845, device='cuda:0', grad_fn=<NegBackward0>), tensor(-41.7234, device='cuda:0', grad_fn=<NegBackward0>), tensor(-1.9777, device='cuda:0', grad_fn=<AddBackward0>)]\n",
      "0.31978978517383844\n",
      "tensor(-84.9743, device='cuda:0', grad_fn=<NegBackward0>) [tensor(-42.2541, device='cuda:0', grad_fn=<NegBackward0>), tensor(-41.5187, device='cuda:0', grad_fn=<NegBackward0>), tensor(-2.3252, device='cuda:0', grad_fn=<AddBackward0>)]\n",
      "tensor(-85.0426, device='cuda:0', grad_fn=<NegBackward0>) [tensor(-42.2541, device='cuda:0', grad_fn=<NegBackward0>), tensor(-41.5598, device='cuda:0', grad_fn=<NegBackward0>), tensor(-2.4167, device='cuda:0', grad_fn=<AddBackward0>)]\n",
      "0.29341786041902895\n",
      "tensor(-85.4587, device='cuda:0', grad_fn=<NegBackward0>) [tensor(-42.5169, device='cuda:0', grad_fn=<NegBackward0>), tensor(-41.8166, device='cuda:0', grad_fn=<NegBackward0>), tensor(-2.0809, device='cuda:0', grad_fn=<AddBackward0>)]\n",
      "tensor(-85.4823, device='cuda:0', grad_fn=<NegBackward0>) [tensor(-42.5169, device='cuda:0', grad_fn=<NegBackward0>), tensor(-41.8753, device='cuda:0', grad_fn=<NegBackward0>), tensor(-1.9746, device='cuda:0', grad_fn=<AddBackward0>)]\n",
      "0.2853011520770791\n",
      "tensor(-85.1938, device='cuda:0', grad_fn=<NegBackward0>) [tensor(-42.3335, device='cuda:0', grad_fn=<NegBackward0>), tensor(-41.7953, device='cuda:0', grad_fn=<NegBackward0>), tensor(-1.9007, device='cuda:0', grad_fn=<AddBackward0>)]\n",
      "tensor(-85.2092, device='cuda:0', grad_fn=<NegBackward0>) [tensor(-42.3335, device='cuda:0', grad_fn=<NegBackward0>), tensor(-41.8471, device='cuda:0', grad_fn=<NegBackward0>), tensor(-1.7973, device='cuda:0', grad_fn=<AddBackward0>)]\n",
      "0.3010199180392541\n",
      "tensor(-84.5435, device='cuda:0', grad_fn=<NegBackward0>) [tensor(-42.1267, device='cuda:0', grad_fn=<NegBackward0>), tensor(-41.3111, device='cuda:0', grad_fn=<NegBackward0>), tensor(-2.0215, device='cuda:0', grad_fn=<AddBackward0>)]\n",
      "tensor(-84.6874, device='cuda:0', grad_fn=<NegBackward0>) [tensor(-42.1267, device='cuda:0', grad_fn=<NegBackward0>), tensor(-41.3773, device='cuda:0', grad_fn=<NegBackward0>), tensor(-2.2654, device='cuda:0', grad_fn=<AddBackward0>)]\n",
      "0.30918198291512416\n",
      "tensor(-84.5013, device='cuda:0', grad_fn=<NegBackward0>) [tensor(-42.0942, device='cuda:0', grad_fn=<NegBackward0>), tensor(-41.2427, device='cuda:0', grad_fn=<NegBackward0>), tensor(-2.2039, device='cuda:0', grad_fn=<AddBackward0>)]\n",
      "tensor(-84.5822, device='cuda:0', grad_fn=<NegBackward0>) [tensor(-42.0942, device='cuda:0', grad_fn=<NegBackward0>), tensor(-41.2936, device='cuda:0', grad_fn=<NegBackward0>), tensor(-2.3014, device='cuda:0', grad_fn=<AddBackward0>)]\n",
      "0.28815773404077394\n",
      "tensor(-84.8599, device='cuda:0', grad_fn=<NegBackward0>) [tensor(-42.1638, device='cuda:0', grad_fn=<NegBackward0>), tensor(-41.6438, device='cuda:0', grad_fn=<NegBackward0>), tensor(-1.8644, device='cuda:0', grad_fn=<AddBackward0>)]\n",
      "tensor(-84.6967, device='cuda:0', grad_fn=<NegBackward0>) [tensor(-42.1638, device='cuda:0', grad_fn=<NegBackward0>), tensor(-41.4677, device='cuda:0', grad_fn=<NegBackward0>), tensor(-1.9016, device='cuda:0', grad_fn=<AddBackward0>)]\n",
      "0.30578466844366586\n",
      "tensor(-84.7372, device='cuda:0', grad_fn=<NegBackward0>) [tensor(-42.0645, device='cuda:0', grad_fn=<NegBackward0>), tensor(-41.5917, device='cuda:0', grad_fn=<NegBackward0>), tensor(-1.9478, device='cuda:0', grad_fn=<AddBackward0>)]\n",
      "tensor(-84.4456, device='cuda:0', grad_fn=<NegBackward0>) [tensor(-42.0645, device='cuda:0', grad_fn=<NegBackward0>), tensor(-41.1795, device='cuda:0', grad_fn=<NegBackward0>), tensor(-2.3257, device='cuda:0', grad_fn=<AddBackward0>)]\n",
      "0.32299300668423114\n",
      "tensor(-84.6264, device='cuda:0', grad_fn=<NegBackward0>) [tensor(-42.0126, device='cuda:0', grad_fn=<NegBackward0>), tensor(-41.4711, device='cuda:0', grad_fn=<NegBackward0>), tensor(-2.1351, device='cuda:0', grad_fn=<AddBackward0>)]\n",
      "tensor(-84.4997, device='cuda:0', grad_fn=<NegBackward0>) [tensor(-42.0126, device='cuda:0', grad_fn=<NegBackward0>), tensor(-41.3297, device='cuda:0', grad_fn=<NegBackward0>), tensor(-2.1818, device='cuda:0', grad_fn=<AddBackward0>)]\n",
      "0.3186308031921961\n",
      "tensor(-85.3444, device='cuda:0', grad_fn=<NegBackward0>) [tensor(-42.4558, device='cuda:0', grad_fn=<NegBackward0>), tensor(-41.7434, device='cuda:0', grad_fn=<NegBackward0>), tensor(-2.1431, device='cuda:0', grad_fn=<AddBackward0>)]\n",
      "tensor(-85.3520, device='cuda:0', grad_fn=<NegBackward0>) [tensor(-42.4558, device='cuda:0', grad_fn=<NegBackward0>), tensor(-41.7237, device='cuda:0', grad_fn=<NegBackward0>), tensor(-2.2300, device='cuda:0', grad_fn=<AddBackward0>)]\n",
      "0.3004557932625808\n",
      "tensor(-85.4706, device='cuda:0', grad_fn=<NegBackward0>) [tensor(-42.4425, device='cuda:0', grad_fn=<NegBackward0>), tensor(-41.9082, device='cuda:0', grad_fn=<NegBackward0>), tensor(-2.0647, device='cuda:0', grad_fn=<AddBackward0>)]\n",
      "tensor(-85.2538, device='cuda:0', grad_fn=<NegBackward0>) [tensor(-42.4425, device='cuda:0', grad_fn=<NegBackward0>), tensor(-41.6785, device='cuda:0', grad_fn=<NegBackward0>), tensor(-2.1044, device='cuda:0', grad_fn=<AddBackward0>)]\n",
      "0.3186436439826069\n",
      "tensor(-85.7607, device='cuda:0', grad_fn=<NegBackward0>) [tensor(-42.6685, device='cuda:0', grad_fn=<NegBackward0>), tensor(-41.9123, device='cuda:0', grad_fn=<NegBackward0>), tensor(-2.2539, device='cuda:0', grad_fn=<AddBackward0>)]\n",
      "tensor(-85.7122, device='cuda:0', grad_fn=<NegBackward0>) [tensor(-42.6685, device='cuda:0', grad_fn=<NegBackward0>), tensor(-41.9181, device='cuda:0', grad_fn=<NegBackward0>), tensor(-2.0818, device='cuda:0', grad_fn=<AddBackward0>)]\n",
      "0.29285564362196387\n",
      "tensor(-85.5776, device='cuda:0', grad_fn=<NegBackward0>) [tensor(-42.5698, device='cuda:0', grad_fn=<NegBackward0>), tensor(-41.9289, device='cuda:0', grad_fn=<NegBackward0>), tensor(-1.9415, device='cuda:0', grad_fn=<AddBackward0>)]\n",
      "tensor(-85.6284, device='cuda:0', grad_fn=<NegBackward0>) [tensor(-42.5698, device='cuda:0', grad_fn=<NegBackward0>), tensor(-42.0153, device='cuda:0', grad_fn=<NegBackward0>), tensor(-1.8387, device='cuda:0', grad_fn=<AddBackward0>)]\n"
     ]
    },
    {
     "name": "stdout",
     "output_type": "stream",
     "text": [
      "0.3113411177217465\n",
      "tensor(-86.0500, device='cuda:0', grad_fn=<NegBackward0>) [tensor(-42.8442, device='cuda:0', grad_fn=<NegBackward0>), tensor(-42.0871, device='cuda:0', grad_fn=<NegBackward0>), tensor(-2.0611, device='cuda:0', grad_fn=<AddBackward0>)]\n",
      "tensor(-86.2050, device='cuda:0', grad_fn=<NegBackward0>) [tensor(-42.8442, device='cuda:0', grad_fn=<NegBackward0>), tensor(-42.1877, device='cuda:0', grad_fn=<NegBackward0>), tensor(-2.2320, device='cuda:0', grad_fn=<AddBackward0>)]\n",
      "0.29441785549626337\n",
      "tensor(-86.3894, device='cuda:0', grad_fn=<NegBackward0>) [tensor(-42.9197, device='cuda:0', grad_fn=<NegBackward0>), tensor(-42.4158, device='cuda:0', grad_fn=<NegBackward0>), tensor(-1.8689, device='cuda:0', grad_fn=<AddBackward0>)]\n",
      "tensor(-86.2091, device='cuda:0', grad_fn=<NegBackward0>) [tensor(-42.9197, device='cuda:0', grad_fn=<NegBackward0>), tensor(-42.2147, device='cuda:0', grad_fn=<NegBackward0>), tensor(-1.9291, device='cuda:0', grad_fn=<AddBackward0>)]\n",
      "0.30808059846141705\n",
      "tensor(-86.4180, device='cuda:0', grad_fn=<NegBackward0>) [tensor(-42.9586, device='cuda:0', grad_fn=<NegBackward0>), tensor(-42.3428, device='cuda:0', grad_fn=<NegBackward0>), tensor(-2.0545, device='cuda:0', grad_fn=<AddBackward0>)]\n",
      "tensor(-86.3077, device='cuda:0', grad_fn=<NegBackward0>) [tensor(-42.9586, device='cuda:0', grad_fn=<NegBackward0>), tensor(-42.2251, device='cuda:0', grad_fn=<NegBackward0>), tensor(-2.0772, device='cuda:0', grad_fn=<AddBackward0>)]\n",
      "0.29791277039953673\n",
      "tensor(-86.8764, device='cuda:0', grad_fn=<NegBackward0>) [tensor(-43.2376, device='cuda:0', grad_fn=<NegBackward0>), tensor(-42.5750, device='cuda:0', grad_fn=<NegBackward0>), tensor(-1.8974, device='cuda:0', grad_fn=<AddBackward0>)]\n",
      "tensor(-86.8782, device='cuda:0', grad_fn=<NegBackward0>) [tensor(-43.2376, device='cuda:0', grad_fn=<NegBackward0>), tensor(-42.4957, device='cuda:0', grad_fn=<NegBackward0>), tensor(-2.1418, device='cuda:0', grad_fn=<AddBackward0>)]\n",
      "0.3013878663090165\n",
      "tensor(-85.9875, device='cuda:0', grad_fn=<NegBackward0>) [tensor(-42.8192, device='cuda:0', grad_fn=<NegBackward0>), tensor(-42.1006, device='cuda:0', grad_fn=<NegBackward0>), tensor(-1.9088, device='cuda:0', grad_fn=<AddBackward0>)]\n",
      "tensor(-86.0685, device='cuda:0', grad_fn=<NegBackward0>) [tensor(-42.8192, device='cuda:0', grad_fn=<NegBackward0>), tensor(-42.1684, device='cuda:0', grad_fn=<NegBackward0>), tensor(-1.9470, device='cuda:0', grad_fn=<AddBackward0>)]\n",
      "0.28647932845285795\n",
      "tensor(-86.6674, device='cuda:0', grad_fn=<NegBackward0>) [tensor(-43.1501, device='cuda:0', grad_fn=<NegBackward0>), tensor(-42.4671, device='cuda:0', grad_fn=<NegBackward0>), tensor(-1.8581, device='cuda:0', grad_fn=<AddBackward0>)]\n",
      "tensor(-86.7199, device='cuda:0', grad_fn=<NegBackward0>) [tensor(-43.1501, device='cuda:0', grad_fn=<NegBackward0>), tensor(-42.5676, device='cuda:0', grad_fn=<NegBackward0>), tensor(-1.7242, device='cuda:0', grad_fn=<AddBackward0>)]\n",
      "0.3119353942336297\n",
      "tensor(-86.8909, device='cuda:0', grad_fn=<NegBackward0>) [tensor(-43.2675, device='cuda:0', grad_fn=<NegBackward0>), tensor(-42.4718, device='cuda:0', grad_fn=<NegBackward0>), tensor(-2.1632, device='cuda:0', grad_fn=<AddBackward0>)]\n",
      "tensor(-87.0087, device='cuda:0', grad_fn=<NegBackward0>) [tensor(-43.2675, device='cuda:0', grad_fn=<NegBackward0>), tensor(-42.6132, device='cuda:0', grad_fn=<NegBackward0>), tensor(-2.0892, device='cuda:0', grad_fn=<AddBackward0>)]\n",
      "0.30991792470395074\n",
      "tensor(-86.9521, device='cuda:0', grad_fn=<NegBackward0>) [tensor(-43.2137, device='cuda:0', grad_fn=<NegBackward0>), tensor(-42.5848, device='cuda:0', grad_fn=<NegBackward0>), tensor(-2.1695, device='cuda:0', grad_fn=<AddBackward0>)]\n",
      "tensor(-86.8462, device='cuda:0', grad_fn=<NegBackward0>) [tensor(-43.2137, device='cuda:0', grad_fn=<NegBackward0>), tensor(-42.4924, device='cuda:0', grad_fn=<NegBackward0>), tensor(-2.1272, device='cuda:0', grad_fn=<AddBackward0>)]\n",
      "0.3073581232373322\n",
      "tensor(-87.5680, device='cuda:0', grad_fn=<NegBackward0>) [tensor(-43.5562, device='cuda:0', grad_fn=<NegBackward0>), tensor(-42.9018, device='cuda:0', grad_fn=<NegBackward0>), tensor(-2.0343, device='cuda:0', grad_fn=<AddBackward0>)]\n",
      "tensor(-87.5461, device='cuda:0', grad_fn=<NegBackward0>) [tensor(-43.5562, device='cuda:0', grad_fn=<NegBackward0>), tensor(-42.8529, device='cuda:0', grad_fn=<NegBackward0>), tensor(-2.1174, device='cuda:0', grad_fn=<AddBackward0>)]\n",
      "0.2903639938028998\n",
      "tensor(-87.0385, device='cuda:0', grad_fn=<NegBackward0>) [tensor(-43.3350, device='cuda:0', grad_fn=<NegBackward0>), tensor(-42.6898, device='cuda:0', grad_fn=<NegBackward0>), tensor(-1.7558, device='cuda:0', grad_fn=<AddBackward0>)]\n",
      "tensor(-87.1634, device='cuda:0', grad_fn=<NegBackward0>) [tensor(-43.3350, device='cuda:0', grad_fn=<NegBackward0>), tensor(-42.8064, device='cuda:0', grad_fn=<NegBackward0>), tensor(-1.7790, device='cuda:0', grad_fn=<AddBackward0>)]\n",
      "0.29115419918625046\n",
      "tensor(-87.3038, device='cuda:0', grad_fn=<NegBackward0>) [tensor(-43.4994, device='cuda:0', grad_fn=<NegBackward0>), tensor(-42.7164, device='cuda:0', grad_fn=<NegBackward0>), tensor(-1.9684, device='cuda:0', grad_fn=<AddBackward0>)]\n",
      "tensor(-87.4077, device='cuda:0', grad_fn=<NegBackward0>) [tensor(-43.4994, device='cuda:0', grad_fn=<NegBackward0>), tensor(-42.8401, device='cuda:0', grad_fn=<NegBackward0>), tensor(-1.9101, device='cuda:0', grad_fn=<AddBackward0>)]\n",
      "0.30292729517548544\n",
      "tensor(-87.0376, device='cuda:0', grad_fn=<NegBackward0>) [tensor(-43.3063, device='cuda:0', grad_fn=<NegBackward0>), tensor(-42.6222, device='cuda:0', grad_fn=<NegBackward0>), tensor(-2.0317, device='cuda:0', grad_fn=<AddBackward0>)]\n",
      "tensor(-87.0807, device='cuda:0', grad_fn=<NegBackward0>) [tensor(-43.3063, device='cuda:0', grad_fn=<NegBackward0>), tensor(-42.7214, device='cuda:0', grad_fn=<NegBackward0>), tensor(-1.8662, device='cuda:0', grad_fn=<AddBackward0>)]\n",
      "0.2933087607312018\n",
      "tensor(-87.6131, device='cuda:0', grad_fn=<NegBackward0>) [tensor(-43.5542, device='cuda:0', grad_fn=<NegBackward0>), tensor(-43.0057, device='cuda:0', grad_fn=<NegBackward0>), tensor(-1.8668, device='cuda:0', grad_fn=<AddBackward0>)]\n",
      "tensor(-87.5414, device='cuda:0', grad_fn=<NegBackward0>) [tensor(-43.5542, device='cuda:0', grad_fn=<NegBackward0>), tensor(-42.9253, device='cuda:0', grad_fn=<NegBackward0>), tensor(-1.8920, device='cuda:0', grad_fn=<AddBackward0>)]\n",
      "0.294271024993827\n",
      "tensor(-87.4555, device='cuda:0', grad_fn=<NegBackward0>) [tensor(-43.4828, device='cuda:0', grad_fn=<NegBackward0>), tensor(-42.9347, device='cuda:0', grad_fn=<NegBackward0>), tensor(-1.8238, device='cuda:0', grad_fn=<AddBackward0>)]\n",
      "tensor(-87.3300, device='cuda:0', grad_fn=<NegBackward0>) [tensor(-43.4828, device='cuda:0', grad_fn=<NegBackward0>), tensor(-42.7760, device='cuda:0', grad_fn=<NegBackward0>), tensor(-1.9190, device='cuda:0', grad_fn=<AddBackward0>)]\n",
      "0.3028070191066609\n",
      "tensor(-87.5827, device='cuda:0', grad_fn=<NegBackward0>) [tensor(-43.5871, device='cuda:0', grad_fn=<NegBackward0>), tensor(-42.8825, device='cuda:0', grad_fn=<NegBackward0>), tensor(-2.0438, device='cuda:0', grad_fn=<AddBackward0>)]\n",
      "tensor(-87.5727, device='cuda:0', grad_fn=<NegBackward0>) [tensor(-43.5871, device='cuda:0', grad_fn=<NegBackward0>), tensor(-42.8891, device='cuda:0', grad_fn=<NegBackward0>), tensor(-1.9936, device='cuda:0', grad_fn=<AddBackward0>)]\n",
      "0.3015755659703481\n",
      "tensor(-87.4964, device='cuda:0', grad_fn=<NegBackward0>) [tensor(-43.5679, device='cuda:0', grad_fn=<NegBackward0>), tensor(-42.8715, device='cuda:0', grad_fn=<NegBackward0>), tensor(-1.8781, device='cuda:0', grad_fn=<AddBackward0>)]\n",
      "tensor(-87.5152, device='cuda:0', grad_fn=<NegBackward0>) [tensor(-43.5679, device='cuda:0', grad_fn=<NegBackward0>), tensor(-42.9019, device='cuda:0', grad_fn=<NegBackward0>), tensor(-1.8447, device='cuda:0', grad_fn=<AddBackward0>)]\n",
      "0.30943473026746166\n",
      "tensor(-88.0581, device='cuda:0', grad_fn=<NegBackward0>) [tensor(-43.8462, device='cuda:0', grad_fn=<NegBackward0>), tensor(-43.0949, device='cuda:0', grad_fn=<NegBackward0>), tensor(-2.0557, device='cuda:0', grad_fn=<AddBackward0>)]\n",
      "tensor(-88.0619, device='cuda:0', grad_fn=<NegBackward0>) [tensor(-43.8462, device='cuda:0', grad_fn=<NegBackward0>), tensor(-43.1033, device='cuda:0', grad_fn=<NegBackward0>), tensor(-2.0419, device='cuda:0', grad_fn=<AddBackward0>)]\n"
     ]
    },
    {
     "name": "stdout",
     "output_type": "stream",
     "text": [
      "0.2877341005808544\n",
      "tensor(-87.9032, device='cuda:0', grad_fn=<NegBackward0>) [tensor(-43.7616, device='cuda:0', grad_fn=<NegBackward0>), tensor(-43.1378, device='cuda:0', grad_fn=<NegBackward0>), tensor(-1.7286, device='cuda:0', grad_fn=<AddBackward0>)]\n",
      "tensor(-87.9999, device='cuda:0', grad_fn=<NegBackward0>) [tensor(-43.7616, device='cuda:0', grad_fn=<NegBackward0>), tensor(-43.1984, device='cuda:0', grad_fn=<NegBackward0>), tensor(-1.8288, device='cuda:0', grad_fn=<AddBackward0>)]\n",
      "0.3120549313819486\n",
      "tensor(-88.3045, device='cuda:0', grad_fn=<NegBackward0>) [tensor(-43.9657, device='cuda:0', grad_fn=<NegBackward0>), tensor(-43.2252, device='cuda:0', grad_fn=<NegBackward0>), tensor(-2.0452, device='cuda:0', grad_fn=<AddBackward0>)]\n",
      "tensor(-88.3364, device='cuda:0', grad_fn=<NegBackward0>) [tensor(-43.9657, device='cuda:0', grad_fn=<NegBackward0>), tensor(-43.2518, device='cuda:0', grad_fn=<NegBackward0>), tensor(-2.0613, device='cuda:0', grad_fn=<AddBackward0>)]\n",
      "0.2871561495040748\n",
      "tensor(-88.1480, device='cuda:0', grad_fn=<NegBackward0>) [tensor(-43.9009, device='cuda:0', grad_fn=<NegBackward0>), tensor(-43.2020, device='cuda:0', grad_fn=<NegBackward0>), tensor(-1.8438, device='cuda:0', grad_fn=<AddBackward0>)]\n",
      "tensor(-88.1964, device='cuda:0', grad_fn=<NegBackward0>) [tensor(-43.9009, device='cuda:0', grad_fn=<NegBackward0>), tensor(-43.3052, device='cuda:0', grad_fn=<NegBackward0>), tensor(-1.6920, device='cuda:0', grad_fn=<AddBackward0>)]\n",
      "0.28194527400495917\n",
      "tensor(-88.5336, device='cuda:0', grad_fn=<NegBackward0>) [tensor(-44.0850, device='cuda:0', grad_fn=<NegBackward0>), tensor(-43.4808, device='cuda:0', grad_fn=<NegBackward0>), tensor(-1.6323, device='cuda:0', grad_fn=<AddBackward0>)]\n",
      "tensor(-88.5906, device='cuda:0', grad_fn=<NegBackward0>) [tensor(-44.0850, device='cuda:0', grad_fn=<NegBackward0>), tensor(-43.5066, device='cuda:0', grad_fn=<NegBackward0>), tensor(-1.7154, device='cuda:0', grad_fn=<AddBackward0>)]\n",
      "0.2972730117138362\n",
      "tensor(-88.3950, device='cuda:0', grad_fn=<NegBackward0>) [tensor(-43.9910, device='cuda:0', grad_fn=<NegBackward0>), tensor(-43.3373, device='cuda:0', grad_fn=<NegBackward0>), tensor(-1.9057, device='cuda:0', grad_fn=<AddBackward0>)]\n",
      "tensor(-88.2805, device='cuda:0', grad_fn=<NegBackward0>) [tensor(-43.9910, device='cuda:0', grad_fn=<NegBackward0>), tensor(-43.2174, device='cuda:0', grad_fn=<NegBackward0>), tensor(-1.9215, device='cuda:0', grad_fn=<AddBackward0>)]\n",
      "0.28471632914641404\n",
      "tensor(-88.4231, device='cuda:0', grad_fn=<NegBackward0>) [tensor(-43.9995, device='cuda:0', grad_fn=<NegBackward0>), tensor(-43.4338, device='cuda:0', grad_fn=<NegBackward0>), tensor(-1.6905, device='cuda:0', grad_fn=<AddBackward0>)]\n",
      "tensor(-88.3779, device='cuda:0', grad_fn=<NegBackward0>) [tensor(-43.9995, device='cuda:0', grad_fn=<NegBackward0>), tensor(-43.3883, device='cuda:0', grad_fn=<NegBackward0>), tensor(-1.6914, device='cuda:0', grad_fn=<AddBackward0>)]\n",
      "0.28184275363680633\n",
      "tensor(-88.2595, device='cuda:0', grad_fn=<NegBackward0>) [tensor(-43.9546, device='cuda:0', grad_fn=<NegBackward0>), tensor(-43.2616, device='cuda:0', grad_fn=<NegBackward0>), tensor(-1.8384, device='cuda:0', grad_fn=<AddBackward0>)]\n",
      "tensor(-88.2504, device='cuda:0', grad_fn=<NegBackward0>) [tensor(-43.9546, device='cuda:0', grad_fn=<NegBackward0>), tensor(-43.2971, device='cuda:0', grad_fn=<NegBackward0>), tensor(-1.7147, device='cuda:0', grad_fn=<AddBackward0>)]\n",
      "0.3016951365273692\n",
      "tensor(-88.5610, device='cuda:0', grad_fn=<NegBackward0>) [tensor(-44.1050, device='cuda:0', grad_fn=<NegBackward0>), tensor(-43.3693, device='cuda:0', grad_fn=<NegBackward0>), tensor(-1.9646, device='cuda:0', grad_fn=<AddBackward0>)]\n",
      "tensor(-88.6218, device='cuda:0', grad_fn=<NegBackward0>) [tensor(-44.1050, device='cuda:0', grad_fn=<NegBackward0>), tensor(-43.4315, device='cuda:0', grad_fn=<NegBackward0>), tensor(-1.9603, device='cuda:0', grad_fn=<AddBackward0>)]\n",
      "0.2960050260574682\n",
      "tensor(-88.5275, device='cuda:0', grad_fn=<NegBackward0>) [tensor(-44.0950, device='cuda:0', grad_fn=<NegBackward0>), tensor(-43.4158, device='cuda:0', grad_fn=<NegBackward0>), tensor(-1.7639, device='cuda:0', grad_fn=<AddBackward0>)]\n",
      "tensor(-88.5051, device='cuda:0', grad_fn=<NegBackward0>) [tensor(-44.0950, device='cuda:0', grad_fn=<NegBackward0>), tensor(-43.3909, device='cuda:0', grad_fn=<NegBackward0>), tensor(-1.7710, device='cuda:0', grad_fn=<AddBackward0>)]\n",
      "0.3000468336553119\n",
      "tensor(-88.4564, device='cuda:0', grad_fn=<NegBackward0>) [tensor(-44.0431, device='cuda:0', grad_fn=<NegBackward0>), tensor(-43.3547, device='cuda:0', grad_fn=<NegBackward0>), tensor(-1.8822, device='cuda:0', grad_fn=<AddBackward0>)]\n",
      "tensor(-88.5572, device='cuda:0', grad_fn=<NegBackward0>) [tensor(-44.0431, device='cuda:0', grad_fn=<NegBackward0>), tensor(-43.4646, device='cuda:0', grad_fn=<NegBackward0>), tensor(-1.8563, device='cuda:0', grad_fn=<AddBackward0>)]\n",
      "0.29464042625100195\n",
      "tensor(-89.0444, device='cuda:0', grad_fn=<NegBackward0>) [tensor(-44.3091, device='cuda:0', grad_fn=<NegBackward0>), tensor(-43.6914, device='cuda:0', grad_fn=<NegBackward0>), tensor(-1.8403, device='cuda:0', grad_fn=<AddBackward0>)]\n",
      "tensor(-88.9954, device='cuda:0', grad_fn=<NegBackward0>) [tensor(-44.3091, device='cuda:0', grad_fn=<NegBackward0>), tensor(-43.6494, device='cuda:0', grad_fn=<NegBackward0>), tensor(-1.8203, device='cuda:0', grad_fn=<AddBackward0>)]\n",
      "0.2965693532250363\n",
      "tensor(-89.0311, device='cuda:0', grad_fn=<NegBackward0>) [tensor(-44.2862, device='cuda:0', grad_fn=<NegBackward0>), tensor(-43.7026, device='cuda:0', grad_fn=<NegBackward0>), tensor(-1.8358, device='cuda:0', grad_fn=<AddBackward0>)]\n",
      "tensor(-88.8997, device='cuda:0', grad_fn=<NegBackward0>) [tensor(-44.2862, device='cuda:0', grad_fn=<NegBackward0>), tensor(-43.5599, device='cuda:0', grad_fn=<NegBackward0>), tensor(-1.8680, device='cuda:0', grad_fn=<AddBackward0>)]\n",
      "0.28578915014051964\n",
      "tensor(-89.0042, device='cuda:0', grad_fn=<NegBackward0>) [tensor(-44.3108, device='cuda:0', grad_fn=<NegBackward0>), tensor(-43.6929, device='cuda:0', grad_fn=<NegBackward0>), tensor(-1.7195, device='cuda:0', grad_fn=<AddBackward0>)]\n",
      "tensor(-89.0105, device='cuda:0', grad_fn=<NegBackward0>) [tensor(-44.3108, device='cuda:0', grad_fn=<NegBackward0>), tensor(-43.6670, device='cuda:0', grad_fn=<NegBackward0>), tensor(-1.8085, device='cuda:0', grad_fn=<AddBackward0>)]\n",
      "0.29467360160404626\n",
      "tensor(-89.1529, device='cuda:0', grad_fn=<NegBackward0>) [tensor(-44.3799, device='cuda:0', grad_fn=<NegBackward0>), tensor(-43.7290, device='cuda:0', grad_fn=<NegBackward0>), tensor(-1.8404, device='cuda:0', grad_fn=<AddBackward0>)]\n",
      "tensor(-89.1499, device='cuda:0', grad_fn=<NegBackward0>) [tensor(-44.3799, device='cuda:0', grad_fn=<NegBackward0>), tensor(-43.7535, device='cuda:0', grad_fn=<NegBackward0>), tensor(-1.7632, device='cuda:0', grad_fn=<AddBackward0>)]\n",
      "0.28394357708272205\n",
      "tensor(-89.3686, device='cuda:0', grad_fn=<NegBackward0>) [tensor(-44.4544, device='cuda:0', grad_fn=<NegBackward0>), tensor(-43.9198, device='cuda:0', grad_fn=<NegBackward0>), tensor(-1.7030, device='cuda:0', grad_fn=<AddBackward0>)]\n",
      "tensor(-89.2342, device='cuda:0', grad_fn=<NegBackward0>) [tensor(-44.4544, device='cuda:0', grad_fn=<NegBackward0>), tensor(-43.8171, device='cuda:0', grad_fn=<NegBackward0>), tensor(-1.6188, device='cuda:0', grad_fn=<AddBackward0>)]\n",
      "0.29946074204408013\n",
      "tensor(-88.9111, device='cuda:0', grad_fn=<NegBackward0>) [tensor(-44.2657, device='cuda:0', grad_fn=<NegBackward0>), tensor(-43.6202, device='cuda:0', grad_fn=<NegBackward0>), tensor(-1.7879, device='cuda:0', grad_fn=<AddBackward0>)]\n",
      "tensor(-88.8974, device='cuda:0', grad_fn=<NegBackward0>) [tensor(-44.2657, device='cuda:0', grad_fn=<NegBackward0>), tensor(-43.5940, device='cuda:0', grad_fn=<NegBackward0>), tensor(-1.8230, device='cuda:0', grad_fn=<AddBackward0>)]\n",
      "0.2915906709229457\n",
      "tensor(-88.9278, device='cuda:0', grad_fn=<NegBackward0>) [tensor(-44.2482, device='cuda:0', grad_fn=<NegBackward0>), tensor(-43.6827, device='cuda:0', grad_fn=<NegBackward0>), tensor(-1.7099, device='cuda:0', grad_fn=<AddBackward0>)]\n",
      "tensor(-88.8591, device='cuda:0', grad_fn=<NegBackward0>) [tensor(-44.2482, device='cuda:0', grad_fn=<NegBackward0>), tensor(-43.5616, device='cuda:0', grad_fn=<NegBackward0>), tensor(-1.8556, device='cuda:0', grad_fn=<AddBackward0>)]\n"
     ]
    },
    {
     "name": "stdout",
     "output_type": "stream",
     "text": [
      "0.2944461882109101\n",
      "tensor(-89.1264, device='cuda:0', grad_fn=<NegBackward0>) [tensor(-44.2978, device='cuda:0', grad_fn=<NegBackward0>), tensor(-43.7770, device='cuda:0', grad_fn=<NegBackward0>), tensor(-1.8621, device='cuda:0', grad_fn=<AddBackward0>)]\n",
      "tensor(-88.9207, device='cuda:0', grad_fn=<NegBackward0>) [tensor(-44.2978, device='cuda:0', grad_fn=<NegBackward0>), tensor(-43.5548, device='cuda:0', grad_fn=<NegBackward0>), tensor(-1.9095, device='cuda:0', grad_fn=<AddBackward0>)]\n",
      "0.28182536249639556\n",
      "tensor(-89.2220, device='cuda:0', grad_fn=<NegBackward0>) [tensor(-44.3793, device='cuda:0', grad_fn=<NegBackward0>), tensor(-43.8817, device='cuda:0', grad_fn=<NegBackward0>), tensor(-1.6144, device='cuda:0', grad_fn=<AddBackward0>)]\n",
      "tensor(-89.1739, device='cuda:0', grad_fn=<NegBackward0>) [tensor(-44.3793, device='cuda:0', grad_fn=<NegBackward0>), tensor(-43.8235, device='cuda:0', grad_fn=<NegBackward0>), tensor(-1.6408, device='cuda:0', grad_fn=<AddBackward0>)]\n",
      "0.28106880394115186\n",
      "tensor(-89.0703, device='cuda:0', grad_fn=<NegBackward0>) [tensor(-44.3461, device='cuda:0', grad_fn=<NegBackward0>), tensor(-43.7306, device='cuda:0', grad_fn=<NegBackward0>), tensor(-1.7011, device='cuda:0', grad_fn=<AddBackward0>)]\n",
      "tensor(-89.0682, device='cuda:0', grad_fn=<NegBackward0>) [tensor(-44.3461, device='cuda:0', grad_fn=<NegBackward0>), tensor(-43.7654, device='cuda:0', grad_fn=<NegBackward0>), tensor(-1.6031, device='cuda:0', grad_fn=<AddBackward0>)]\n",
      "0.2631882224020477\n",
      "tensor(-88.1843, device='cuda:0', grad_fn=<NegBackward0>) [tensor(-43.9245, device='cuda:0', grad_fn=<NegBackward0>), tensor(-43.3790, device='cuda:0', grad_fn=<NegBackward0>), tensor(-1.4129, device='cuda:0', grad_fn=<AddBackward0>)]\n",
      "tensor(-88.1176, device='cuda:0', grad_fn=<NegBackward0>) [tensor(-43.9245, device='cuda:0', grad_fn=<NegBackward0>), tensor(-43.3062, device='cuda:0', grad_fn=<NegBackward0>), tensor(-1.4277, device='cuda:0', grad_fn=<AddBackward0>)]\n",
      "0.2917496579549628\n",
      "tensor(-87.7540, device='cuda:0', grad_fn=<NegBackward0>) [tensor(-43.6663, device='cuda:0', grad_fn=<NegBackward0>), tensor(-43.1023, device='cuda:0', grad_fn=<NegBackward0>), tensor(-1.6789, device='cuda:0', grad_fn=<AddBackward0>)]\n",
      "tensor(-87.5337, device='cuda:0', grad_fn=<NegBackward0>) [tensor(-43.6663, device='cuda:0', grad_fn=<NegBackward0>), tensor(-42.8459, device='cuda:0', grad_fn=<NegBackward0>), tensor(-1.7773, device='cuda:0', grad_fn=<AddBackward0>)]\n",
      "0.2926311410054907\n",
      "tensor(-88.2490, device='cuda:0', grad_fn=<NegBackward0>) [tensor(-43.8920, device='cuda:0', grad_fn=<NegBackward0>), tensor(-43.3346, device='cuda:0', grad_fn=<NegBackward0>), tensor(-1.7799, device='cuda:0', grad_fn=<AddBackward0>)]\n",
      "tensor(-88.2705, device='cuda:0', grad_fn=<NegBackward0>) [tensor(-43.8920, device='cuda:0', grad_fn=<NegBackward0>), tensor(-43.3679, device='cuda:0', grad_fn=<NegBackward0>), tensor(-1.7472, device='cuda:0', grad_fn=<AddBackward0>)]\n",
      "0.2895975844518091\n",
      "tensor(-89.2444, device='cuda:0', grad_fn=<NegBackward0>) [tensor(-44.4344, device='cuda:0', grad_fn=<NegBackward0>), tensor(-43.7987, device='cuda:0', grad_fn=<NegBackward0>), tensor(-1.7492, device='cuda:0', grad_fn=<AddBackward0>)]\n",
      "tensor(-89.3495, device='cuda:0', grad_fn=<NegBackward0>) [tensor(-44.4344, device='cuda:0', grad_fn=<NegBackward0>), tensor(-43.9049, device='cuda:0', grad_fn=<NegBackward0>), tensor(-1.7460, device='cuda:0', grad_fn=<AddBackward0>)]\n",
      "0.29535601463609884\n",
      "tensor(-89.4879, device='cuda:0', grad_fn=<NegBackward0>) [tensor(-44.5692, device='cuda:0', grad_fn=<NegBackward0>), tensor(-43.9073, device='cuda:0', grad_fn=<NegBackward0>), tensor(-1.7495, device='cuda:0', grad_fn=<AddBackward0>)]\n",
      "tensor(-89.4347, device='cuda:0', grad_fn=<NegBackward0>) [tensor(-44.5692, device='cuda:0', grad_fn=<NegBackward0>), tensor(-43.8206, device='cuda:0', grad_fn=<NegBackward0>), tensor(-1.8432, device='cuda:0', grad_fn=<AddBackward0>)]\n",
      "0.30931770000005776\n",
      "tensor(-89.1222, device='cuda:0', grad_fn=<NegBackward0>) [tensor(-44.4307, device='cuda:0', grad_fn=<NegBackward0>), tensor(-43.5800, device='cuda:0', grad_fn=<NegBackward0>), tensor(-2.0388, device='cuda:0', grad_fn=<AddBackward0>)]\n",
      "tensor(-89.3191, device='cuda:0', grad_fn=<NegBackward0>) [tensor(-44.4307, device='cuda:0', grad_fn=<NegBackward0>), tensor(-43.8282, device='cuda:0', grad_fn=<NegBackward0>), tensor(-1.8869, device='cuda:0', grad_fn=<AddBackward0>)]\n",
      "0.28536542446686725\n",
      "tensor(-89.5730, device='cuda:0', grad_fn=<NegBackward0>) [tensor(-44.6073, device='cuda:0', grad_fn=<NegBackward0>), tensor(-43.9990, device='cuda:0', grad_fn=<NegBackward0>), tensor(-1.6291, device='cuda:0', grad_fn=<AddBackward0>)]\n",
      "tensor(-89.7300, device='cuda:0', grad_fn=<NegBackward0>) [tensor(-44.6073, device='cuda:0', grad_fn=<NegBackward0>), tensor(-44.1381, device='cuda:0', grad_fn=<NegBackward0>), tensor(-1.6766, device='cuda:0', grad_fn=<AddBackward0>)]\n",
      "0.27536066319187025\n",
      "tensor(-89.7425, device='cuda:0', grad_fn=<NegBackward0>) [tensor(-44.6460, device='cuda:0', grad_fn=<NegBackward0>), tensor(-44.1444, device='cuda:0', grad_fn=<NegBackward0>), tensor(-1.5913, device='cuda:0', grad_fn=<AddBackward0>)]\n",
      "tensor(-89.6185, device='cuda:0', grad_fn=<NegBackward0>) [tensor(-44.6460, device='cuda:0', grad_fn=<NegBackward0>), tensor(-44.0170, device='cuda:0', grad_fn=<NegBackward0>), tensor(-1.6000, device='cuda:0', grad_fn=<AddBackward0>)]\n",
      "0.29571320858075545\n",
      "tensor(-89.3241, device='cuda:0', grad_fn=<NegBackward0>) [tensor(-44.5003, device='cuda:0', grad_fn=<NegBackward0>), tensor(-43.8248, device='cuda:0', grad_fn=<NegBackward0>), tensor(-1.7155, device='cuda:0', grad_fn=<AddBackward0>)]\n",
      "tensor(-89.3996, device='cuda:0', grad_fn=<NegBackward0>) [tensor(-44.5003, device='cuda:0', grad_fn=<NegBackward0>), tensor(-43.9042, device='cuda:0', grad_fn=<NegBackward0>), tensor(-1.7048, device='cuda:0', grad_fn=<AddBackward0>)]\n",
      "0.27888291731830367\n",
      "tensor(-90.1802, device='cuda:0', grad_fn=<NegBackward0>) [tensor(-44.8963, device='cuda:0', grad_fn=<NegBackward0>), tensor(-44.3555, device='cuda:0', grad_fn=<NegBackward0>), tensor(-1.5302, device='cuda:0', grad_fn=<AddBackward0>)]\n",
      "tensor(-90.2975, device='cuda:0', grad_fn=<NegBackward0>) [tensor(-44.8963, device='cuda:0', grad_fn=<NegBackward0>), tensor(-44.4389, device='cuda:0', grad_fn=<NegBackward0>), tensor(-1.6177, device='cuda:0', grad_fn=<AddBackward0>)]\n",
      "0.2908062485759374\n",
      "tensor(-89.5598, device='cuda:0', grad_fn=<NegBackward0>) [tensor(-44.6136, device='cuda:0', grad_fn=<NegBackward0>), tensor(-43.9480, device='cuda:0', grad_fn=<NegBackward0>), tensor(-1.7132, device='cuda:0', grad_fn=<AddBackward0>)]\n",
      "tensor(-89.6900, device='cuda:0', grad_fn=<NegBackward0>) [tensor(-44.6136, device='cuda:0', grad_fn=<NegBackward0>), tensor(-44.0900, device='cuda:0', grad_fn=<NegBackward0>), tensor(-1.6814, device='cuda:0', grad_fn=<AddBackward0>)]\n",
      "0.2920229237663249\n",
      "tensor(-90.3706, device='cuda:0', grad_fn=<NegBackward0>) [tensor(-44.9762, device='cuda:0', grad_fn=<NegBackward0>), tensor(-44.4174, device='cuda:0', grad_fn=<NegBackward0>), tensor(-1.6564, device='cuda:0', grad_fn=<AddBackward0>)]\n",
      "tensor(-90.3761, device='cuda:0', grad_fn=<NegBackward0>) [tensor(-44.9762, device='cuda:0', grad_fn=<NegBackward0>), tensor(-44.3999, device='cuda:0', grad_fn=<NegBackward0>), tensor(-1.7182, device='cuda:0', grad_fn=<AddBackward0>)]\n",
      "0.29819391744466284\n",
      "tensor(-90.3849, device='cuda:0', grad_fn=<NegBackward0>) [tensor(-45.0042, device='cuda:0', grad_fn=<NegBackward0>), tensor(-44.3358, device='cuda:0', grad_fn=<NegBackward0>), tensor(-1.8429, device='cuda:0', grad_fn=<AddBackward0>)]\n",
      "tensor(-90.3536, device='cuda:0', grad_fn=<NegBackward0>) [tensor(-45.0042, device='cuda:0', grad_fn=<NegBackward0>), tensor(-44.3599, device='cuda:0', grad_fn=<NegBackward0>), tensor(-1.6898, device='cuda:0', grad_fn=<AddBackward0>)]\n",
      "0.272068186407573\n",
      "tensor(-90.5173, device='cuda:0', grad_fn=<NegBackward0>) [tensor(-45.0951, device='cuda:0', grad_fn=<NegBackward0>), tensor(-44.5275, device='cuda:0', grad_fn=<NegBackward0>), tensor(-1.4464, device='cuda:0', grad_fn=<AddBackward0>)]\n",
      "tensor(-90.5646, device='cuda:0', grad_fn=<NegBackward0>) [tensor(-45.0951, device='cuda:0', grad_fn=<NegBackward0>), tensor(-44.5615, device='cuda:0', grad_fn=<NegBackward0>), tensor(-1.4792, device='cuda:0', grad_fn=<AddBackward0>)]\n"
     ]
    },
    {
     "name": "stdout",
     "output_type": "stream",
     "text": [
      "0.30027908175551793\n",
      "tensor(-90.2397, device='cuda:0', grad_fn=<NegBackward0>) [tensor(-44.9525, device='cuda:0', grad_fn=<NegBackward0>), tensor(-44.2571, device='cuda:0', grad_fn=<NegBackward0>), tensor(-1.8016, device='cuda:0', grad_fn=<AddBackward0>)]\n",
      "tensor(-90.2270, device='cuda:0', grad_fn=<NegBackward0>) [tensor(-44.9525, device='cuda:0', grad_fn=<NegBackward0>), tensor(-44.2690, device='cuda:0', grad_fn=<NegBackward0>), tensor(-1.7336, device='cuda:0', grad_fn=<AddBackward0>)]\n",
      "0.2815664447830321\n",
      "tensor(-90.7920, device='cuda:0', grad_fn=<NegBackward0>) [tensor(-45.2080, device='cuda:0', grad_fn=<NegBackward0>), tensor(-44.6503, device='cuda:0', grad_fn=<NegBackward0>), tensor(-1.5440, device='cuda:0', grad_fn=<AddBackward0>)]\n",
      "tensor(-90.7738, device='cuda:0', grad_fn=<NegBackward0>) [tensor(-45.2080, device='cuda:0', grad_fn=<NegBackward0>), tensor(-44.5969, device='cuda:0', grad_fn=<NegBackward0>), tensor(-1.6351, device='cuda:0', grad_fn=<AddBackward0>)]\n",
      "0.2846186617287672\n",
      "tensor(-90.8230, device='cuda:0', grad_fn=<NegBackward0>) [tensor(-45.2417, device='cuda:0', grad_fn=<NegBackward0>), tensor(-44.6171, device='cuda:0', grad_fn=<NegBackward0>), tensor(-1.6229, device='cuda:0', grad_fn=<AddBackward0>)]\n",
      "tensor(-90.8238, device='cuda:0', grad_fn=<NegBackward0>) [tensor(-45.2417, device='cuda:0', grad_fn=<NegBackward0>), tensor(-44.6386, device='cuda:0', grad_fn=<NegBackward0>), tensor(-1.5691, device='cuda:0', grad_fn=<AddBackward0>)]\n",
      "0.27584864144743715\n",
      "tensor(-91.1539, device='cuda:0', grad_fn=<NegBackward0>) [tensor(-45.3962, device='cuda:0', grad_fn=<NegBackward0>), tensor(-44.8429, device='cuda:0', grad_fn=<NegBackward0>), tensor(-1.4960, device='cuda:0', grad_fn=<AddBackward0>)]\n",
      "tensor(-91.1672, device='cuda:0', grad_fn=<NegBackward0>) [tensor(-45.3962, device='cuda:0', grad_fn=<NegBackward0>), tensor(-44.8293, device='cuda:0', grad_fn=<NegBackward0>), tensor(-1.5642, device='cuda:0', grad_fn=<AddBackward0>)]\n",
      "0.28999575263938804\n",
      "tensor(-90.4361, device='cuda:0', grad_fn=<NegBackward0>) [tensor(-45.0495, device='cuda:0', grad_fn=<NegBackward0>), tensor(-44.3600, device='cuda:0', grad_fn=<NegBackward0>), tensor(-1.7914, device='cuda:0', grad_fn=<AddBackward0>)]\n",
      "tensor(-90.5399, device='cuda:0', grad_fn=<NegBackward0>) [tensor(-45.0495, device='cuda:0', grad_fn=<NegBackward0>), tensor(-44.5199, device='cuda:0', grad_fn=<NegBackward0>), tensor(-1.6393, device='cuda:0', grad_fn=<AddBackward0>)]\n",
      "0.2815661345714691\n",
      "tensor(-90.4937, device='cuda:0', grad_fn=<NegBackward0>) [tensor(-45.0378, device='cuda:0', grad_fn=<NegBackward0>), tensor(-44.4601, device='cuda:0', grad_fn=<NegBackward0>), tensor(-1.7067, device='cuda:0', grad_fn=<AddBackward0>)]\n",
      "tensor(-90.4031, device='cuda:0', grad_fn=<NegBackward0>) [tensor(-45.0378, device='cuda:0', grad_fn=<NegBackward0>), tensor(-44.4192, device='cuda:0', grad_fn=<NegBackward0>), tensor(-1.5754, device='cuda:0', grad_fn=<AddBackward0>)]\n",
      "0.2864382561432469\n",
      "tensor(-90.7002, device='cuda:0', grad_fn=<NegBackward0>) [tensor(-45.2035, device='cuda:0', grad_fn=<NegBackward0>), tensor(-44.5312, device='cuda:0', grad_fn=<NegBackward0>), tensor(-1.6262, device='cuda:0', grad_fn=<AddBackward0>)]\n",
      "tensor(-90.9214, device='cuda:0', grad_fn=<NegBackward0>) [tensor(-45.2035, device='cuda:0', grad_fn=<NegBackward0>), tensor(-44.7323, device='cuda:0', grad_fn=<NegBackward0>), tensor(-1.6793, device='cuda:0', grad_fn=<AddBackward0>)]\n",
      "0.2943924438710814\n",
      "tensor(-90.5810, device='cuda:0', grad_fn=<NegBackward0>) [tensor(-45.0644, device='cuda:0', grad_fn=<NegBackward0>), tensor(-44.5068, device='cuda:0', grad_fn=<NegBackward0>), tensor(-1.7450, device='cuda:0', grad_fn=<AddBackward0>)]\n",
      "tensor(-90.5966, device='cuda:0', grad_fn=<NegBackward0>) [tensor(-45.0644, device='cuda:0', grad_fn=<NegBackward0>), tensor(-44.5296, device='cuda:0', grad_fn=<NegBackward0>), tensor(-1.7252, device='cuda:0', grad_fn=<AddBackward0>)]\n",
      "0.27911804588602723\n",
      "tensor(-90.7070, device='cuda:0', grad_fn=<NegBackward0>) [tensor(-45.1776, device='cuda:0', grad_fn=<NegBackward0>), tensor(-44.6243, device='cuda:0', grad_fn=<NegBackward0>), tensor(-1.4720, device='cuda:0', grad_fn=<AddBackward0>)]\n",
      "tensor(-90.6380, device='cuda:0', grad_fn=<NegBackward0>) [tensor(-45.1776, device='cuda:0', grad_fn=<NegBackward0>), tensor(-44.5435, device='cuda:0', grad_fn=<NegBackward0>), tensor(-1.5016, device='cuda:0', grad_fn=<AddBackward0>)]\n",
      "0.2826813129086037\n",
      "tensor(-90.3135, device='cuda:0', grad_fn=<NegBackward0>) [tensor(-44.9852, device='cuda:0', grad_fn=<NegBackward0>), tensor(-44.3604, device='cuda:0', grad_fn=<NegBackward0>), tensor(-1.6324, device='cuda:0', grad_fn=<AddBackward0>)]\n",
      "tensor(-90.2797, device='cuda:0', grad_fn=<NegBackward0>) [tensor(-44.9852, device='cuda:0', grad_fn=<NegBackward0>), tensor(-44.3597, device='cuda:0', grad_fn=<NegBackward0>), tensor(-1.5468, device='cuda:0', grad_fn=<AddBackward0>)]\n",
      "0.28556175810980644\n",
      "tensor(-90.8824, device='cuda:0', grad_fn=<NegBackward0>) [tensor(-45.2795, device='cuda:0', grad_fn=<NegBackward0>), tensor(-44.6316, device='cuda:0', grad_fn=<NegBackward0>), tensor(-1.6415, device='cuda:0', grad_fn=<AddBackward0>)]\n",
      "tensor(-90.8784, device='cuda:0', grad_fn=<NegBackward0>) [tensor(-45.2795, device='cuda:0', grad_fn=<NegBackward0>), tensor(-44.6370, device='cuda:0', grad_fn=<NegBackward0>), tensor(-1.6166, device='cuda:0', grad_fn=<AddBackward0>)]\n",
      "0.30781699967815995\n",
      "tensor(-91.0327, device='cuda:0', grad_fn=<NegBackward0>) [tensor(-45.3774, device='cuda:0', grad_fn=<NegBackward0>), tensor(-44.5867, device='cuda:0', grad_fn=<NegBackward0>), tensor(-1.9113, device='cuda:0', grad_fn=<AddBackward0>)]\n",
      "tensor(-91.0002, device='cuda:0', grad_fn=<NegBackward0>) [tensor(-45.3774, device='cuda:0', grad_fn=<NegBackward0>), tensor(-44.5630, device='cuda:0', grad_fn=<NegBackward0>), tensor(-1.8859, device='cuda:0', grad_fn=<AddBackward0>)]\n",
      "0.27448411330748246\n",
      "tensor(-91.4204, device='cuda:0', grad_fn=<NegBackward0>) [tensor(-45.5297, device='cuda:0', grad_fn=<NegBackward0>), tensor(-45.0022, device='cuda:0', grad_fn=<NegBackward0>), tensor(-1.4316, device='cuda:0', grad_fn=<AddBackward0>)]\n",
      "tensor(-91.4109, device='cuda:0', grad_fn=<NegBackward0>) [tensor(-45.5297, device='cuda:0', grad_fn=<NegBackward0>), tensor(-44.9694, device='cuda:0', grad_fn=<NegBackward0>), tensor(-1.4890, device='cuda:0', grad_fn=<AddBackward0>)]\n",
      "0.29055520260153084\n",
      "tensor(-91.0754, device='cuda:0', grad_fn=<NegBackward0>) [tensor(-45.3782, device='cuda:0', grad_fn=<NegBackward0>), tensor(-44.6455, device='cuda:0', grad_fn=<NegBackward0>), tensor(-1.8623, device='cuda:0', grad_fn=<AddBackward0>)]\n",
      "tensor(-91.0862, device='cuda:0', grad_fn=<NegBackward0>) [tensor(-45.3782, device='cuda:0', grad_fn=<NegBackward0>), tensor(-44.7261, device='cuda:0', grad_fn=<NegBackward0>), tensor(-1.6694, device='cuda:0', grad_fn=<AddBackward0>)]\n",
      "0.26936669948303293\n",
      "tensor(-91.3999, device='cuda:0', grad_fn=<NegBackward0>) [tensor(-45.5174, device='cuda:0', grad_fn=<NegBackward0>), tensor(-44.9897, device='cuda:0', grad_fn=<NegBackward0>), tensor(-1.4421, device='cuda:0', grad_fn=<AddBackward0>)]\n",
      "tensor(-91.4242, device='cuda:0', grad_fn=<NegBackward0>) [tensor(-45.5174, device='cuda:0', grad_fn=<NegBackward0>), tensor(-45.0541, device='cuda:0', grad_fn=<NegBackward0>), tensor(-1.3461, device='cuda:0', grad_fn=<AddBackward0>)]\n",
      "0.2966141978784306\n",
      "tensor(-91.4621, device='cuda:0', grad_fn=<NegBackward0>) [tensor(-45.5411, device='cuda:0', grad_fn=<NegBackward0>), tensor(-44.9239, device='cuda:0', grad_fn=<NegBackward0>), tensor(-1.7104, device='cuda:0', grad_fn=<AddBackward0>)]\n",
      "tensor(-91.3592, device='cuda:0', grad_fn=<NegBackward0>) [tensor(-45.5411, device='cuda:0', grad_fn=<NegBackward0>), tensor(-44.8337, device='cuda:0', grad_fn=<NegBackward0>), tensor(-1.6761, device='cuda:0', grad_fn=<AddBackward0>)]\n",
      "0.2666412807140869\n",
      "tensor(-91.5490, device='cuda:0', grad_fn=<NegBackward0>) [tensor(-45.6515, device='cuda:0', grad_fn=<NegBackward0>), tensor(-44.9997, device='cuda:0', grad_fn=<NegBackward0>), tensor(-1.4542, device='cuda:0', grad_fn=<AddBackward0>)]\n",
      "tensor(-91.5190, device='cuda:0', grad_fn=<NegBackward0>) [tensor(-45.6515, device='cuda:0', grad_fn=<NegBackward0>), tensor(-45.0036, device='cuda:0', grad_fn=<NegBackward0>), tensor(-1.3724, device='cuda:0', grad_fn=<AddBackward0>)]\n"
     ]
    },
    {
     "name": "stdout",
     "output_type": "stream",
     "text": [
      "0.29574823175519366\n",
      "tensor(-91.2661, device='cuda:0', grad_fn=<NegBackward0>) [tensor(-45.4777, device='cuda:0', grad_fn=<NegBackward0>), tensor(-44.8019, device='cuda:0', grad_fn=<NegBackward0>), tensor(-1.6819, device='cuda:0', grad_fn=<AddBackward0>)]\n",
      "tensor(-91.2863, device='cuda:0', grad_fn=<NegBackward0>) [tensor(-45.4777, device='cuda:0', grad_fn=<NegBackward0>), tensor(-44.8345, device='cuda:0', grad_fn=<NegBackward0>), tensor(-1.6490, device='cuda:0', grad_fn=<AddBackward0>)]\n",
      "0.2874662696360583\n",
      "tensor(-91.4501, device='cuda:0', grad_fn=<NegBackward0>) [tensor(-45.5496, device='cuda:0', grad_fn=<NegBackward0>), tensor(-44.9532, device='cuda:0', grad_fn=<NegBackward0>), tensor(-1.5790, device='cuda:0', grad_fn=<AddBackward0>)]\n",
      "tensor(-91.4138, device='cuda:0', grad_fn=<NegBackward0>) [tensor(-45.5496, device='cuda:0', grad_fn=<NegBackward0>), tensor(-44.8828, device='cuda:0', grad_fn=<NegBackward0>), tensor(-1.6683, device='cuda:0', grad_fn=<AddBackward0>)]\n",
      "0.26471411116726845\n",
      "tensor(-91.6187, device='cuda:0', grad_fn=<NegBackward0>) [tensor(-45.6518, device='cuda:0', grad_fn=<NegBackward0>), tensor(-45.1080, device='cuda:0', grad_fn=<NegBackward0>), tensor(-1.3606, device='cuda:0', grad_fn=<AddBackward0>)]\n",
      "tensor(-91.6235, device='cuda:0', grad_fn=<NegBackward0>) [tensor(-45.6518, device='cuda:0', grad_fn=<NegBackward0>), tensor(-45.1018, device='cuda:0', grad_fn=<NegBackward0>), tensor(-1.3868, device='cuda:0', grad_fn=<AddBackward0>)]\n",
      "0.3041180942446734\n",
      "tensor(-91.1268, device='cuda:0', grad_fn=<NegBackward0>) [tensor(-45.4124, device='cuda:0', grad_fn=<NegBackward0>), tensor(-44.6875, device='cuda:0', grad_fn=<NegBackward0>), tensor(-1.7922, device='cuda:0', grad_fn=<AddBackward0>)]\n",
      "tensor(-91.2014, device='cuda:0', grad_fn=<NegBackward0>) [tensor(-45.4124, device='cuda:0', grad_fn=<NegBackward0>), tensor(-44.7402, device='cuda:0', grad_fn=<NegBackward0>), tensor(-1.8540, device='cuda:0', grad_fn=<AddBackward0>)]\n",
      "0.2950954020030395\n",
      "tensor(-91.7615, device='cuda:0', grad_fn=<NegBackward0>) [tensor(-45.7109, device='cuda:0', grad_fn=<NegBackward0>), tensor(-45.0925, device='cuda:0', grad_fn=<NegBackward0>), tensor(-1.6067, device='cuda:0', grad_fn=<AddBackward0>)]\n",
      "tensor(-91.7922, device='cuda:0', grad_fn=<NegBackward0>) [tensor(-45.7109, device='cuda:0', grad_fn=<NegBackward0>), tensor(-45.0785, device='cuda:0', grad_fn=<NegBackward0>), tensor(-1.7262, device='cuda:0', grad_fn=<AddBackward0>)]\n",
      "0.29042784675054406\n",
      "tensor(-91.4911, device='cuda:0', grad_fn=<NegBackward0>) [tensor(-45.5614, device='cuda:0', grad_fn=<NegBackward0>), tensor(-44.9471, device='cuda:0', grad_fn=<NegBackward0>), tensor(-1.6713, device='cuda:0', grad_fn=<AddBackward0>)]\n",
      "tensor(-91.4512, device='cuda:0', grad_fn=<NegBackward0>) [tensor(-45.5614, device='cuda:0', grad_fn=<NegBackward0>), tensor(-44.8961, device='cuda:0', grad_fn=<NegBackward0>), tensor(-1.7011, device='cuda:0', grad_fn=<AddBackward0>)]\n",
      "0.2777114572147676\n",
      "tensor(-91.5989, device='cuda:0', grad_fn=<NegBackward0>) [tensor(-45.6265, device='cuda:0', grad_fn=<NegBackward0>), tensor(-45.0396, device='cuda:0', grad_fn=<NegBackward0>), tensor(-1.5417, device='cuda:0', grad_fn=<AddBackward0>)]\n",
      "tensor(-91.6420, device='cuda:0', grad_fn=<NegBackward0>) [tensor(-45.6265, device='cuda:0', grad_fn=<NegBackward0>), tensor(-45.1094, device='cuda:0', grad_fn=<NegBackward0>), tensor(-1.4745, device='cuda:0', grad_fn=<AddBackward0>)]\n",
      "0.2991875067176117\n",
      "tensor(-91.9526, device='cuda:0', grad_fn=<NegBackward0>) [tensor(-45.8104, device='cuda:0', grad_fn=<NegBackward0>), tensor(-45.1582, device='cuda:0', grad_fn=<NegBackward0>), tensor(-1.6752, device='cuda:0', grad_fn=<AddBackward0>)]\n",
      "tensor(-91.9221, device='cuda:0', grad_fn=<NegBackward0>) [tensor(-45.8104, device='cuda:0', grad_fn=<NegBackward0>), tensor(-45.1307, device='cuda:0', grad_fn=<NegBackward0>), tensor(-1.6671, device='cuda:0', grad_fn=<AddBackward0>)]\n",
      "0.27863683342705176\n",
      "tensor(-92.0409, device='cuda:0', grad_fn=<NegBackward0>) [tensor(-45.8699, device='cuda:0', grad_fn=<NegBackward0>), tensor(-45.2509, device='cuda:0', grad_fn=<NegBackward0>), tensor(-1.5096, device='cuda:0', grad_fn=<AddBackward0>)]\n",
      "tensor(-92.1491, device='cuda:0', grad_fn=<NegBackward0>) [tensor(-45.8699, device='cuda:0', grad_fn=<NegBackward0>), tensor(-45.3426, device='cuda:0', grad_fn=<NegBackward0>), tensor(-1.5514, device='cuda:0', grad_fn=<AddBackward0>)]\n",
      "0.28379038026992415\n",
      "tensor(-91.9088, device='cuda:0', grad_fn=<NegBackward0>) [tensor(-45.7951, device='cuda:0', grad_fn=<NegBackward0>), tensor(-45.1765, device='cuda:0', grad_fn=<NegBackward0>), tensor(-1.5530, device='cuda:0', grad_fn=<AddBackward0>)]\n",
      "tensor(-91.9759, device='cuda:0', grad_fn=<NegBackward0>) [tensor(-45.7951, device='cuda:0', grad_fn=<NegBackward0>), tensor(-45.2266, device='cuda:0', grad_fn=<NegBackward0>), tensor(-1.5967, device='cuda:0', grad_fn=<AddBackward0>)]\n",
      "0.28462948267247595\n",
      "tensor(-92.0577, device='cuda:0', grad_fn=<NegBackward0>) [tensor(-45.8715, device='cuda:0', grad_fn=<NegBackward0>), tensor(-45.2328, device='cuda:0', grad_fn=<NegBackward0>), tensor(-1.5945, device='cuda:0', grad_fn=<AddBackward0>)]\n",
      "tensor(-92.1307, device='cuda:0', grad_fn=<NegBackward0>) [tensor(-45.8715, device='cuda:0', grad_fn=<NegBackward0>), tensor(-45.2758, device='cuda:0', grad_fn=<NegBackward0>), tensor(-1.6735, device='cuda:0', grad_fn=<AddBackward0>)]\n",
      "0.28366434039008603\n",
      "tensor(-91.9532, device='cuda:0', grad_fn=<NegBackward0>) [tensor(-45.7971, device='cuda:0', grad_fn=<NegBackward0>), tensor(-45.2456, device='cuda:0', grad_fn=<NegBackward0>), tensor(-1.4856, device='cuda:0', grad_fn=<AddBackward0>)]\n",
      "tensor(-91.9479, device='cuda:0', grad_fn=<NegBackward0>) [tensor(-45.7971, device='cuda:0', grad_fn=<NegBackward0>), tensor(-45.2005, device='cuda:0', grad_fn=<NegBackward0>), tensor(-1.5865, device='cuda:0', grad_fn=<AddBackward0>)]\n",
      "0.26880747543649763\n",
      "tensor(-92.1097, device='cuda:0', grad_fn=<NegBackward0>) [tensor(-45.9107, device='cuda:0', grad_fn=<NegBackward0>), tensor(-45.3086, device='cuda:0', grad_fn=<NegBackward0>), tensor(-1.4363, device='cuda:0', grad_fn=<AddBackward0>)]\n",
      "tensor(-92.1648, device='cuda:0', grad_fn=<NegBackward0>) [tensor(-45.9107, device='cuda:0', grad_fn=<NegBackward0>), tensor(-45.3896, device='cuda:0', grad_fn=<NegBackward0>), tensor(-1.3739, device='cuda:0', grad_fn=<AddBackward0>)]\n",
      "0.256316749945963\n",
      "tensor(-92.2043, device='cuda:0', grad_fn=<NegBackward0>) [tensor(-45.9272, device='cuda:0', grad_fn=<NegBackward0>), tensor(-45.4408, device='cuda:0', grad_fn=<NegBackward0>), tensor(-1.3077, device='cuda:0', grad_fn=<AddBackward0>)]\n",
      "tensor(-92.1220, device='cuda:0', grad_fn=<NegBackward0>) [tensor(-45.9272, device='cuda:0', grad_fn=<NegBackward0>), tensor(-45.3757, device='cuda:0', grad_fn=<NegBackward0>), tensor(-1.2684, device='cuda:0', grad_fn=<AddBackward0>)]\n",
      "0.27989819294957713\n",
      "tensor(-92.0033, device='cuda:0', grad_fn=<NegBackward0>) [tensor(-45.7775, device='cuda:0', grad_fn=<NegBackward0>), tensor(-45.2998, device='cuda:0', grad_fn=<NegBackward0>), tensor(-1.5247, device='cuda:0', grad_fn=<AddBackward0>)]\n",
      "tensor(-91.9002, device='cuda:0', grad_fn=<NegBackward0>) [tensor(-45.7775, device='cuda:0', grad_fn=<NegBackward0>), tensor(-45.1970, device='cuda:0', grad_fn=<NegBackward0>), tensor(-1.5238, device='cuda:0', grad_fn=<AddBackward0>)]\n",
      "0.26559370194935755\n",
      "tensor(-91.8745, device='cuda:0', grad_fn=<NegBackward0>) [tensor(-45.7505, device='cuda:0', grad_fn=<NegBackward0>), tensor(-45.3142, device='cuda:0', grad_fn=<NegBackward0>), tensor(-1.2474, device='cuda:0', grad_fn=<AddBackward0>)]\n",
      "tensor(-91.8652, device='cuda:0', grad_fn=<NegBackward0>) [tensor(-45.7505, device='cuda:0', grad_fn=<NegBackward0>), tensor(-45.2769, device='cuda:0', grad_fn=<NegBackward0>), tensor(-1.3114, device='cuda:0', grad_fn=<AddBackward0>)]\n",
      "0.28999574195923916\n",
      "tensor(-92.1026, device='cuda:0', grad_fn=<NegBackward0>) [tensor(-45.8672, device='cuda:0', grad_fn=<NegBackward0>), tensor(-45.2559, device='cuda:0', grad_fn=<NegBackward0>), tensor(-1.6632, device='cuda:0', grad_fn=<AddBackward0>)]\n",
      "tensor(-92.0627, device='cuda:0', grad_fn=<NegBackward0>) [tensor(-45.8672, device='cuda:0', grad_fn=<NegBackward0>), tensor(-45.2274, device='cuda:0', grad_fn=<NegBackward0>), tensor(-1.6330, device='cuda:0', grad_fn=<AddBackward0>)]\n"
     ]
    },
    {
     "name": "stdout",
     "output_type": "stream",
     "text": [
      "0.28632902321608794\n",
      "tensor(-92.1928, device='cuda:0', grad_fn=<NegBackward0>) [tensor(-45.9620, device='cuda:0', grad_fn=<NegBackward0>), tensor(-45.3164, device='cuda:0', grad_fn=<NegBackward0>), tensor(-1.4952, device='cuda:0', grad_fn=<AddBackward0>)]\n",
      "tensor(-92.2581, device='cuda:0', grad_fn=<NegBackward0>) [tensor(-45.9620, device='cuda:0', grad_fn=<NegBackward0>), tensor(-45.3645, device='cuda:0', grad_fn=<NegBackward0>), tensor(-1.5386, device='cuda:0', grad_fn=<AddBackward0>)]\n",
      "0.2626258937280737\n",
      "tensor(-92.0778, device='cuda:0', grad_fn=<NegBackward0>) [tensor(-45.8635, device='cuda:0', grad_fn=<NegBackward0>), tensor(-45.3798, device='cuda:0', grad_fn=<NegBackward0>), tensor(-1.3036, device='cuda:0', grad_fn=<AddBackward0>)]\n",
      "tensor(-92.0744, device='cuda:0', grad_fn=<NegBackward0>) [tensor(-45.8635, device='cuda:0', grad_fn=<NegBackward0>), tensor(-45.3737, device='cuda:0', grad_fn=<NegBackward0>), tensor(-1.3096, device='cuda:0', grad_fn=<AddBackward0>)]\n",
      "0.2801477517809568\n",
      "tensor(-91.8817, device='cuda:0', grad_fn=<NegBackward0>) [tensor(-45.7861, device='cuda:0', grad_fn=<NegBackward0>), tensor(-45.1713, device='cuda:0', grad_fn=<NegBackward0>), tensor(-1.5198, device='cuda:0', grad_fn=<AddBackward0>)]\n",
      "tensor(-91.7935, device='cuda:0', grad_fn=<NegBackward0>) [tensor(-45.7861, device='cuda:0', grad_fn=<NegBackward0>), tensor(-45.1027, device='cuda:0', grad_fn=<NegBackward0>), tensor(-1.4713, device='cuda:0', grad_fn=<AddBackward0>)]\n",
      "0.29101367091126973\n",
      "tensor(-92.2085, device='cuda:0', grad_fn=<NegBackward0>) [tensor(-45.9266, device='cuda:0', grad_fn=<NegBackward0>), tensor(-45.3372, device='cuda:0', grad_fn=<NegBackward0>), tensor(-1.5719, device='cuda:0', grad_fn=<AddBackward0>)]\n",
      "tensor(-92.2652, device='cuda:0', grad_fn=<NegBackward0>) [tensor(-45.9266, device='cuda:0', grad_fn=<NegBackward0>), tensor(-45.3717, device='cuda:0', grad_fn=<NegBackward0>), tensor(-1.6294, device='cuda:0', grad_fn=<AddBackward0>)]\n",
      "0.29242108631676395\n",
      "tensor(-92.0386, device='cuda:0', grad_fn=<NegBackward0>) [tensor(-45.8308, device='cuda:0', grad_fn=<NegBackward0>), tensor(-45.2492, device='cuda:0', grad_fn=<NegBackward0>), tensor(-1.6081, device='cuda:0', grad_fn=<AddBackward0>)]\n",
      "tensor(-91.9835, device='cuda:0', grad_fn=<NegBackward0>) [tensor(-45.8308, device='cuda:0', grad_fn=<NegBackward0>), tensor(-45.1984, device='cuda:0', grad_fn=<NegBackward0>), tensor(-1.5967, device='cuda:0', grad_fn=<AddBackward0>)]\n",
      "0.2887404055761469\n",
      "tensor(-92.6727, device='cuda:0', grad_fn=<NegBackward0>) [tensor(-46.1288, device='cuda:0', grad_fn=<NegBackward0>), tensor(-45.5894, device='cuda:0', grad_fn=<NegBackward0>), tensor(-1.5974, device='cuda:0', grad_fn=<AddBackward0>)]\n",
      "tensor(-92.6417, device='cuda:0', grad_fn=<NegBackward0>) [tensor(-46.1288, device='cuda:0', grad_fn=<NegBackward0>), tensor(-45.5837, device='cuda:0', grad_fn=<NegBackward0>), tensor(-1.5324, device='cuda:0', grad_fn=<AddBackward0>)]\n",
      "0.27512236631623926\n",
      "tensor(-92.5292, device='cuda:0', grad_fn=<NegBackward0>) [tensor(-46.1171, device='cuda:0', grad_fn=<NegBackward0>), tensor(-45.5223, device='cuda:0', grad_fn=<NegBackward0>), tensor(-1.4347, device='cuda:0', grad_fn=<AddBackward0>)]\n",
      "tensor(-92.5361, device='cuda:0', grad_fn=<NegBackward0>) [tensor(-46.1171, device='cuda:0', grad_fn=<NegBackward0>), tensor(-45.4514, device='cuda:0', grad_fn=<NegBackward0>), tensor(-1.6316, device='cuda:0', grad_fn=<AddBackward0>)]\n",
      "0.2897684963899701\n",
      "tensor(-92.2399, device='cuda:0', grad_fn=<NegBackward0>) [tensor(-45.8915, device='cuda:0', grad_fn=<NegBackward0>), tensor(-45.3822, device='cuda:0', grad_fn=<NegBackward0>), tensor(-1.6278, device='cuda:0', grad_fn=<AddBackward0>)]\n",
      "tensor(-92.1228, device='cuda:0', grad_fn=<NegBackward0>) [tensor(-45.8915, device='cuda:0', grad_fn=<NegBackward0>), tensor(-45.2568, device='cuda:0', grad_fn=<NegBackward0>), tensor(-1.6498, device='cuda:0', grad_fn=<AddBackward0>)]\n",
      "0.2838087365134909\n",
      "tensor(-92.4156, device='cuda:0', grad_fn=<NegBackward0>) [tensor(-46.0836, device='cuda:0', grad_fn=<NegBackward0>), tensor(-45.3922, device='cuda:0', grad_fn=<NegBackward0>), tensor(-1.5594, device='cuda:0', grad_fn=<AddBackward0>)]\n",
      "tensor(-92.4513, device='cuda:0', grad_fn=<NegBackward0>) [tensor(-46.0836, device='cuda:0', grad_fn=<NegBackward0>), tensor(-45.4520, device='cuda:0', grad_fn=<NegBackward0>), tensor(-1.4983, device='cuda:0', grad_fn=<AddBackward0>)]\n",
      "0.28692440876586534\n",
      "tensor(-92.6347, device='cuda:0', grad_fn=<NegBackward0>) [tensor(-46.1393, device='cuda:0', grad_fn=<NegBackward0>), tensor(-45.5767, device='cuda:0', grad_fn=<NegBackward0>), tensor(-1.5061, device='cuda:0', grad_fn=<AddBackward0>)]\n",
      "tensor(-92.5632, device='cuda:0', grad_fn=<NegBackward0>) [tensor(-46.1393, device='cuda:0', grad_fn=<NegBackward0>), tensor(-45.4768, device='cuda:0', grad_fn=<NegBackward0>), tensor(-1.5785, device='cuda:0', grad_fn=<AddBackward0>)]\n",
      "0.27289891027668645\n",
      "tensor(-92.3855, device='cuda:0', grad_fn=<NegBackward0>) [tensor(-46.0187, device='cuda:0', grad_fn=<NegBackward0>), tensor(-45.5532, device='cuda:0', grad_fn=<NegBackward0>), tensor(-1.2559, device='cuda:0', grad_fn=<AddBackward0>)]\n",
      "tensor(-92.2869, device='cuda:0', grad_fn=<NegBackward0>) [tensor(-46.0187, device='cuda:0', grad_fn=<NegBackward0>), tensor(-45.4237, device='cuda:0', grad_fn=<NegBackward0>), tensor(-1.3268, device='cuda:0', grad_fn=<AddBackward0>)]\n",
      "0.2854746573940262\n",
      "tensor(-92.7477, device='cuda:0', grad_fn=<NegBackward0>) [tensor(-46.2364, device='cuda:0', grad_fn=<NegBackward0>), tensor(-45.5928, device='cuda:0', grad_fn=<NegBackward0>), tensor(-1.5053, device='cuda:0', grad_fn=<AddBackward0>)]\n",
      "tensor(-92.7724, device='cuda:0', grad_fn=<NegBackward0>) [tensor(-46.2364, device='cuda:0', grad_fn=<NegBackward0>), tensor(-45.5821, device='cuda:0', grad_fn=<NegBackward0>), tensor(-1.5960, device='cuda:0', grad_fn=<AddBackward0>)]\n",
      "0.27581450684820713\n",
      "tensor(-92.2550, device='cuda:0', grad_fn=<NegBackward0>) [tensor(-45.9882, device='cuda:0', grad_fn=<NegBackward0>), tensor(-45.4118, device='cuda:0', grad_fn=<NegBackward0>), tensor(-1.3511, device='cuda:0', grad_fn=<AddBackward0>)]\n",
      "tensor(-92.3109, device='cuda:0', grad_fn=<NegBackward0>) [tensor(-45.9882, device='cuda:0', grad_fn=<NegBackward0>), tensor(-45.4572, device='cuda:0', grad_fn=<NegBackward0>), tensor(-1.3760, device='cuda:0', grad_fn=<AddBackward0>)]\n",
      "0.27669508832769657\n",
      "tensor(-92.5191, device='cuda:0', grad_fn=<NegBackward0>) [tensor(-46.1024, device='cuda:0', grad_fn=<NegBackward0>), tensor(-45.5122, device='cuda:0', grad_fn=<NegBackward0>), tensor(-1.4708, device='cuda:0', grad_fn=<AddBackward0>)]\n",
      "tensor(-92.4810, device='cuda:0', grad_fn=<NegBackward0>) [tensor(-46.1024, device='cuda:0', grad_fn=<NegBackward0>), tensor(-45.5144, device='cuda:0', grad_fn=<NegBackward0>), tensor(-1.3731, device='cuda:0', grad_fn=<AddBackward0>)]\n",
      "0.2916268310083797\n",
      "tensor(-92.5996, device='cuda:0', grad_fn=<NegBackward0>) [tensor(-46.1468, device='cuda:0', grad_fn=<NegBackward0>), tensor(-45.5067, device='cuda:0', grad_fn=<NegBackward0>), tensor(-1.5757, device='cuda:0', grad_fn=<AddBackward0>)]\n",
      "tensor(-92.6074, device='cuda:0', grad_fn=<NegBackward0>) [tensor(-46.1468, device='cuda:0', grad_fn=<NegBackward0>), tensor(-45.4979, device='cuda:0', grad_fn=<NegBackward0>), tensor(-1.6187, device='cuda:0', grad_fn=<AddBackward0>)]\n",
      "0.280234779263232\n",
      "tensor(-92.5545, device='cuda:0', grad_fn=<NegBackward0>) [tensor(-46.1121, device='cuda:0', grad_fn=<NegBackward0>), tensor(-45.5796, device='cuda:0', grad_fn=<NegBackward0>), tensor(-1.3697, device='cuda:0', grad_fn=<AddBackward0>)]\n",
      "tensor(-92.5854, device='cuda:0', grad_fn=<NegBackward0>) [tensor(-46.1121, device='cuda:0', grad_fn=<NegBackward0>), tensor(-45.5827, device='cuda:0', grad_fn=<NegBackward0>), tensor(-1.4366, device='cuda:0', grad_fn=<AddBackward0>)]\n",
      "0.26040451504593864\n",
      "tensor(-92.6806, device='cuda:0', grad_fn=<NegBackward0>) [tensor(-46.1618, device='cuda:0', grad_fn=<NegBackward0>), tensor(-45.7055, device='cuda:0', grad_fn=<NegBackward0>), tensor(-1.2554, device='cuda:0', grad_fn=<AddBackward0>)]\n",
      "tensor(-92.6261, device='cuda:0', grad_fn=<NegBackward0>) [tensor(-46.1618, device='cuda:0', grad_fn=<NegBackward0>), tensor(-45.6512, device='cuda:0', grad_fn=<NegBackward0>), tensor(-1.2551, device='cuda:0', grad_fn=<AddBackward0>)]\n"
     ]
    },
    {
     "name": "stdout",
     "output_type": "stream",
     "text": [
      "0.29545553721157\n",
      "tensor(-92.7311, device='cuda:0', grad_fn=<NegBackward0>) [tensor(-46.1900, device='cuda:0', grad_fn=<NegBackward0>), tensor(-45.6071, device='cuda:0', grad_fn=<NegBackward0>), tensor(-1.5447, device='cuda:0', grad_fn=<AddBackward0>)]\n",
      "tensor(-92.6794, device='cuda:0', grad_fn=<NegBackward0>) [tensor(-46.1900, device='cuda:0', grad_fn=<NegBackward0>), tensor(-45.4896, device='cuda:0', grad_fn=<NegBackward0>), tensor(-1.7177, device='cuda:0', grad_fn=<AddBackward0>)]\n",
      "0.2804398423260378\n",
      "tensor(-92.7198, device='cuda:0', grad_fn=<NegBackward0>) [tensor(-46.1888, device='cuda:0', grad_fn=<NegBackward0>), tensor(-45.6120, device='cuda:0', grad_fn=<NegBackward0>), tensor(-1.5066, device='cuda:0', grad_fn=<AddBackward0>)]\n",
      "tensor(-92.7054, device='cuda:0', grad_fn=<NegBackward0>) [tensor(-46.1888, device='cuda:0', grad_fn=<NegBackward0>), tensor(-45.6278, device='cuda:0', grad_fn=<NegBackward0>), tensor(-1.4324, device='cuda:0', grad_fn=<AddBackward0>)]\n",
      "0.2946628431914337\n",
      "tensor(-92.7193, device='cuda:0', grad_fn=<NegBackward0>) [tensor(-46.2405, device='cuda:0', grad_fn=<NegBackward0>), tensor(-45.4999, device='cuda:0', grad_fn=<NegBackward0>), tensor(-1.6613, device='cuda:0', grad_fn=<AddBackward0>)]\n",
      "tensor(-92.7530, device='cuda:0', grad_fn=<NegBackward0>) [tensor(-46.2405, device='cuda:0', grad_fn=<NegBackward0>), tensor(-45.5527, device='cuda:0', grad_fn=<NegBackward0>), tensor(-1.6111, device='cuda:0', grad_fn=<AddBackward0>)]\n",
      "0.3039980551358966\n",
      "tensor(-92.6207, device='cuda:0', grad_fn=<NegBackward0>) [tensor(-46.2102, device='cuda:0', grad_fn=<NegBackward0>), tensor(-45.4236, device='cuda:0', grad_fn=<NegBackward0>), tensor(-1.6829, device='cuda:0', grad_fn=<AddBackward0>)]\n",
      "tensor(-92.7132, device='cuda:0', grad_fn=<NegBackward0>) [tensor(-46.2102, device='cuda:0', grad_fn=<NegBackward0>), tensor(-45.5264, device='cuda:0', grad_fn=<NegBackward0>), tensor(-1.6553, device='cuda:0', grad_fn=<AddBackward0>)]\n",
      "0.2915113529205097\n",
      "tensor(-92.8026, device='cuda:0', grad_fn=<NegBackward0>) [tensor(-46.2911, device='cuda:0', grad_fn=<NegBackward0>), tensor(-45.5491, device='cuda:0', grad_fn=<NegBackward0>), tensor(-1.6182, device='cuda:0', grad_fn=<AddBackward0>)]\n",
      "tensor(-92.9595, device='cuda:0', grad_fn=<NegBackward0>) [tensor(-46.2911, device='cuda:0', grad_fn=<NegBackward0>), tensor(-45.7406, device='cuda:0', grad_fn=<NegBackward0>), tensor(-1.5291, device='cuda:0', grad_fn=<AddBackward0>)]\n",
      "0.2995489008858112\n",
      "tensor(-93.1042, device='cuda:0', grad_fn=<NegBackward0>) [tensor(-46.4056, device='cuda:0', grad_fn=<NegBackward0>), tensor(-45.7224, device='cuda:0', grad_fn=<NegBackward0>), tensor(-1.6545, device='cuda:0', grad_fn=<AddBackward0>)]\n",
      "tensor(-93.1260, device='cuda:0', grad_fn=<NegBackward0>) [tensor(-46.4056, device='cuda:0', grad_fn=<NegBackward0>), tensor(-45.7694, device='cuda:0', grad_fn=<NegBackward0>), tensor(-1.5882, device='cuda:0', grad_fn=<AddBackward0>)]\n",
      "0.2907857489560302\n",
      "tensor(-93.4372, device='cuda:0', grad_fn=<NegBackward0>) [tensor(-46.5166, device='cuda:0', grad_fn=<NegBackward0>), tensor(-46.0017, device='cuda:0', grad_fn=<NegBackward0>), tensor(-1.5065, device='cuda:0', grad_fn=<AddBackward0>)]\n",
      "tensor(-93.3178, device='cuda:0', grad_fn=<NegBackward0>) [tensor(-46.5166, device='cuda:0', grad_fn=<NegBackward0>), tensor(-45.8425, device='cuda:0', grad_fn=<NegBackward0>), tensor(-1.6083, device='cuda:0', grad_fn=<AddBackward0>)]\n",
      "0.2870825997001391\n",
      "tensor(-93.0675, device='cuda:0', grad_fn=<NegBackward0>) [tensor(-46.4054, device='cuda:0', grad_fn=<NegBackward0>), tensor(-45.7623, device='cuda:0', grad_fn=<NegBackward0>), tensor(-1.4590, device='cuda:0', grad_fn=<AddBackward0>)]\n",
      "tensor(-93.2153, device='cuda:0', grad_fn=<NegBackward0>) [tensor(-46.4054, device='cuda:0', grad_fn=<NegBackward0>), tensor(-45.8515, device='cuda:0', grad_fn=<NegBackward0>), tensor(-1.6074, device='cuda:0', grad_fn=<AddBackward0>)]\n",
      "0.3009328066356351\n",
      "tensor(-93.2439, device='cuda:0', grad_fn=<NegBackward0>) [tensor(-46.4252, device='cuda:0', grad_fn=<NegBackward0>), tensor(-45.8558, device='cuda:0', grad_fn=<NegBackward0>), tensor(-1.6194, device='cuda:0', grad_fn=<AddBackward0>)]\n",
      "tensor(-93.0848, device='cuda:0', grad_fn=<NegBackward0>) [tensor(-46.4252, device='cuda:0', grad_fn=<NegBackward0>), tensor(-45.6816, device='cuda:0', grad_fn=<NegBackward0>), tensor(-1.6593, device='cuda:0', grad_fn=<AddBackward0>)]\n",
      "0.28261494744204746\n",
      "tensor(-93.2530, device='cuda:0', grad_fn=<NegBackward0>) [tensor(-46.4397, device='cuda:0', grad_fn=<NegBackward0>), tensor(-45.8938, device='cuda:0', grad_fn=<NegBackward0>), tensor(-1.5080, device='cuda:0', grad_fn=<AddBackward0>)]\n",
      "tensor(-93.1906, device='cuda:0', grad_fn=<NegBackward0>) [tensor(-46.4397, device='cuda:0', grad_fn=<NegBackward0>), tensor(-45.8473, device='cuda:0', grad_fn=<NegBackward0>), tensor(-1.4685, device='cuda:0', grad_fn=<AddBackward0>)]\n",
      "0.2833529848392861\n",
      "tensor(-93.1036, device='cuda:0', grad_fn=<NegBackward0>) [tensor(-46.4378, device='cuda:0', grad_fn=<NegBackward0>), tensor(-45.8184, device='cuda:0', grad_fn=<NegBackward0>), tensor(-1.3337, device='cuda:0', grad_fn=<AddBackward0>)]\n",
      "tensor(-93.2249, device='cuda:0', grad_fn=<NegBackward0>) [tensor(-46.4378, device='cuda:0', grad_fn=<NegBackward0>), tensor(-45.9016, device='cuda:0', grad_fn=<NegBackward0>), tensor(-1.4241, device='cuda:0', grad_fn=<AddBackward0>)]\n",
      "0.27683004739774475\n",
      "tensor(-93.2867, device='cuda:0', grad_fn=<NegBackward0>) [tensor(-46.4945, device='cuda:0', grad_fn=<NegBackward0>), tensor(-45.8924, device='cuda:0', grad_fn=<NegBackward0>), tensor(-1.4590, device='cuda:0', grad_fn=<AddBackward0>)]\n",
      "tensor(-93.3221, device='cuda:0', grad_fn=<NegBackward0>) [tensor(-46.4945, device='cuda:0', grad_fn=<NegBackward0>), tensor(-45.9792, device='cuda:0', grad_fn=<NegBackward0>), tensor(-1.3358, device='cuda:0', grad_fn=<AddBackward0>)]\n",
      "0.2730782545156231\n",
      "tensor(-93.4096, device='cuda:0', grad_fn=<NegBackward0>) [tensor(-46.5827, device='cuda:0', grad_fn=<NegBackward0>), tensor(-45.9998, device='cuda:0', grad_fn=<NegBackward0>), tensor(-1.2866, device='cuda:0', grad_fn=<AddBackward0>)]\n",
      "tensor(-93.4690, device='cuda:0', grad_fn=<NegBackward0>) [tensor(-46.5827, device='cuda:0', grad_fn=<NegBackward0>), tensor(-46.0613, device='cuda:0', grad_fn=<NegBackward0>), tensor(-1.2818, device='cuda:0', grad_fn=<AddBackward0>)]\n",
      "0.2859502087477503\n",
      "tensor(-93.4069, device='cuda:0', grad_fn=<NegBackward0>) [tensor(-46.5401, device='cuda:0', grad_fn=<NegBackward0>), tensor(-45.9817, device='cuda:0', grad_fn=<NegBackward0>), tensor(-1.4233, device='cuda:0', grad_fn=<AddBackward0>)]\n",
      "tensor(-93.3189, device='cuda:0', grad_fn=<NegBackward0>) [tensor(-46.5401, device='cuda:0', grad_fn=<NegBackward0>), tensor(-45.8616, device='cuda:0', grad_fn=<NegBackward0>), tensor(-1.5023, device='cuda:0', grad_fn=<AddBackward0>)]\n",
      "0.28907828911621514\n",
      "tensor(-93.6594, device='cuda:0', grad_fn=<NegBackward0>) [tensor(-46.6679, device='cuda:0', grad_fn=<NegBackward0>), tensor(-46.0845, device='cuda:0', grad_fn=<NegBackward0>), tensor(-1.4767, device='cuda:0', grad_fn=<AddBackward0>)]\n",
      "tensor(-93.6491, device='cuda:0', grad_fn=<NegBackward0>) [tensor(-46.6679, device='cuda:0', grad_fn=<NegBackward0>), tensor(-46.0605, device='cuda:0', grad_fn=<NegBackward0>), tensor(-1.5111, device='cuda:0', grad_fn=<AddBackward0>)]\n",
      "0.2675275920759495\n",
      "tensor(-93.4509, device='cuda:0', grad_fn=<NegBackward0>) [tensor(-46.5780, device='cuda:0', grad_fn=<NegBackward0>), tensor(-46.0429, device='cuda:0', grad_fn=<NegBackward0>), tensor(-1.2933, device='cuda:0', grad_fn=<AddBackward0>)]\n",
      "tensor(-93.4802, device='cuda:0', grad_fn=<NegBackward0>) [tensor(-46.5780, device='cuda:0', grad_fn=<NegBackward0>), tensor(-46.0731, device='cuda:0', grad_fn=<NegBackward0>), tensor(-1.2914, device='cuda:0', grad_fn=<AddBackward0>)]\n",
      "0.2947272900067344\n",
      "tensor(-93.3678, device='cuda:0', grad_fn=<NegBackward0>) [tensor(-46.5524, device='cuda:0', grad_fn=<NegBackward0>), tensor(-45.8662, device='cuda:0', grad_fn=<NegBackward0>), tensor(-1.5839, device='cuda:0', grad_fn=<AddBackward0>)]\n",
      "tensor(-93.3533, device='cuda:0', grad_fn=<NegBackward0>) [tensor(-46.5524, device='cuda:0', grad_fn=<NegBackward0>), tensor(-45.8391, device='cuda:0', grad_fn=<NegBackward0>), tensor(-1.6166, device='cuda:0', grad_fn=<AddBackward0>)]\n"
     ]
    },
    {
     "name": "stdout",
     "output_type": "stream",
     "text": [
      "0.278110774045722\n",
      "tensor(-93.8806, device='cuda:0', grad_fn=<NegBackward0>) [tensor(-46.7667, device='cuda:0', grad_fn=<NegBackward0>), tensor(-46.2538, device='cuda:0', grad_fn=<NegBackward0>), tensor(-1.3633, device='cuda:0', grad_fn=<AddBackward0>)]\n",
      "tensor(-93.9047, device='cuda:0', grad_fn=<NegBackward0>) [tensor(-46.7667, device='cuda:0', grad_fn=<NegBackward0>), tensor(-46.2892, device='cuda:0', grad_fn=<NegBackward0>), tensor(-1.3367, device='cuda:0', grad_fn=<AddBackward0>)]\n",
      "0.2674008587956048\n",
      "tensor(-93.7596, device='cuda:0', grad_fn=<NegBackward0>) [tensor(-46.7353, device='cuda:0', grad_fn=<NegBackward0>), tensor(-46.2202, device='cuda:0', grad_fn=<NegBackward0>), tensor(-1.2347, device='cuda:0', grad_fn=<AddBackward0>)]\n",
      "tensor(-93.7392, device='cuda:0', grad_fn=<NegBackward0>) [tensor(-46.7353, device='cuda:0', grad_fn=<NegBackward0>), tensor(-46.1775, device='cuda:0', grad_fn=<NegBackward0>), tensor(-1.2850, device='cuda:0', grad_fn=<AddBackward0>)]\n",
      "0.29009256935254296\n",
      "tensor(-93.8729, device='cuda:0', grad_fn=<NegBackward0>) [tensor(-46.7889, device='cuda:0', grad_fn=<NegBackward0>), tensor(-46.1520, device='cuda:0', grad_fn=<NegBackward0>), tensor(-1.5395, device='cuda:0', grad_fn=<AddBackward0>)]\n",
      "tensor(-93.8356, device='cuda:0', grad_fn=<NegBackward0>) [tensor(-46.7889, device='cuda:0', grad_fn=<NegBackward0>), tensor(-46.1610, device='cuda:0', grad_fn=<NegBackward0>), tensor(-1.4246, device='cuda:0', grad_fn=<AddBackward0>)]\n",
      "0.2866120116222193\n",
      "tensor(-93.7211, device='cuda:0', grad_fn=<NegBackward0>) [tensor(-46.6826, device='cuda:0', grad_fn=<NegBackward0>), tensor(-46.1715, device='cuda:0', grad_fn=<NegBackward0>), tensor(-1.3798, device='cuda:0', grad_fn=<AddBackward0>)]\n",
      "tensor(-93.6182, device='cuda:0', grad_fn=<NegBackward0>) [tensor(-46.6826, device='cuda:0', grad_fn=<NegBackward0>), tensor(-46.0237, device='cuda:0', grad_fn=<NegBackward0>), tensor(-1.4889, device='cuda:0', grad_fn=<AddBackward0>)]\n",
      "0.2835786194102031\n",
      "tensor(-93.6571, device='cuda:0', grad_fn=<NegBackward0>) [tensor(-46.6590, device='cuda:0', grad_fn=<NegBackward0>), tensor(-46.0882, device='cuda:0', grad_fn=<NegBackward0>), tensor(-1.4840, device='cuda:0', grad_fn=<AddBackward0>)]\n",
      "tensor(-93.6567, device='cuda:0', grad_fn=<NegBackward0>) [tensor(-46.6590, device='cuda:0', grad_fn=<NegBackward0>), tensor(-46.1306, device='cuda:0', grad_fn=<NegBackward0>), tensor(-1.3799, device='cuda:0', grad_fn=<AddBackward0>)]\n",
      "0.2713193280666256\n",
      "tensor(-93.8778, device='cuda:0', grad_fn=<NegBackward0>) [tensor(-46.7671, device='cuda:0', grad_fn=<NegBackward0>), tensor(-46.2564, device='cuda:0', grad_fn=<NegBackward0>), tensor(-1.3495, device='cuda:0', grad_fn=<AddBackward0>)]\n",
      "tensor(-93.7874, device='cuda:0', grad_fn=<NegBackward0>) [tensor(-46.7671, device='cuda:0', grad_fn=<NegBackward0>), tensor(-46.1857, device='cuda:0', grad_fn=<NegBackward0>), tensor(-1.3039, device='cuda:0', grad_fn=<AddBackward0>)]\n",
      "0.27245669297496755\n",
      "tensor(-93.7404, device='cuda:0', grad_fn=<NegBackward0>) [tensor(-46.7378, device='cuda:0', grad_fn=<NegBackward0>), tensor(-46.1488, device='cuda:0', grad_fn=<NegBackward0>), tensor(-1.3484, device='cuda:0', grad_fn=<AddBackward0>)]\n",
      "tensor(-93.7966, device='cuda:0', grad_fn=<NegBackward0>) [tensor(-46.7378, device='cuda:0', grad_fn=<NegBackward0>), tensor(-46.2296, device='cuda:0', grad_fn=<NegBackward0>), tensor(-1.2913, device='cuda:0', grad_fn=<AddBackward0>)]\n",
      "0.29359355170942525\n",
      "tensor(-93.6244, device='cuda:0', grad_fn=<NegBackward0>) [tensor(-46.6445, device='cuda:0', grad_fn=<NegBackward0>), tensor(-46.0905, device='cuda:0', grad_fn=<NegBackward0>), tensor(-1.4338, device='cuda:0', grad_fn=<AddBackward0>)]\n",
      "tensor(-93.5479, device='cuda:0', grad_fn=<NegBackward0>) [tensor(-46.6445, device='cuda:0', grad_fn=<NegBackward0>), tensor(-45.9737, device='cuda:0', grad_fn=<NegBackward0>), tensor(-1.5336, device='cuda:0', grad_fn=<AddBackward0>)]\n",
      "0.3005344926920437\n",
      "tensor(-93.8514, device='cuda:0', grad_fn=<NegBackward0>) [tensor(-46.7627, device='cuda:0', grad_fn=<NegBackward0>), tensor(-46.1356, device='cuda:0', grad_fn=<NegBackward0>), tensor(-1.5940, device='cuda:0', grad_fn=<AddBackward0>)]\n",
      "tensor(-93.8023, device='cuda:0', grad_fn=<NegBackward0>) [tensor(-46.7627, device='cuda:0', grad_fn=<NegBackward0>), tensor(-46.1013, device='cuda:0', grad_fn=<NegBackward0>), tensor(-1.5558, device='cuda:0', grad_fn=<AddBackward0>)]\n",
      "0.27757194182200184\n",
      "tensor(-93.8786, device='cuda:0', grad_fn=<NegBackward0>) [tensor(-46.7916, device='cuda:0', grad_fn=<NegBackward0>), tensor(-46.2182, device='cuda:0', grad_fn=<NegBackward0>), tensor(-1.3840, device='cuda:0', grad_fn=<AddBackward0>)]\n",
      "tensor(-93.9757, device='cuda:0', grad_fn=<NegBackward0>) [tensor(-46.7916, device='cuda:0', grad_fn=<NegBackward0>), tensor(-46.3311, device='cuda:0', grad_fn=<NegBackward0>), tensor(-1.3465, device='cuda:0', grad_fn=<AddBackward0>)]\n",
      "0.25283313903564714\n",
      "tensor(-93.8333, device='cuda:0', grad_fn=<NegBackward0>) [tensor(-46.7901, device='cuda:0', grad_fn=<NegBackward0>), tensor(-46.2639, device='cuda:0', grad_fn=<NegBackward0>), tensor(-1.1797, device='cuda:0', grad_fn=<AddBackward0>)]\n",
      "tensor(-93.8468, device='cuda:0', grad_fn=<NegBackward0>) [tensor(-46.7901, device='cuda:0', grad_fn=<NegBackward0>), tensor(-46.3057, device='cuda:0', grad_fn=<NegBackward0>), tensor(-1.1190, device='cuda:0', grad_fn=<AddBackward0>)]\n",
      "0.28882725612990184\n",
      "tensor(-93.9676, device='cuda:0', grad_fn=<NegBackward0>) [tensor(-46.8169, device='cuda:0', grad_fn=<NegBackward0>), tensor(-46.2180, device='cuda:0', grad_fn=<NegBackward0>), tensor(-1.5415, device='cuda:0', grad_fn=<AddBackward0>)]\n",
      "tensor(-93.9625, device='cuda:0', grad_fn=<NegBackward0>) [tensor(-46.8169, device='cuda:0', grad_fn=<NegBackward0>), tensor(-46.2475, device='cuda:0', grad_fn=<NegBackward0>), tensor(-1.4550, device='cuda:0', grad_fn=<AddBackward0>)]\n",
      "0.27042223715739594\n",
      "tensor(-94.1364, device='cuda:0', grad_fn=<NegBackward0>) [tensor(-46.9345, device='cuda:0', grad_fn=<NegBackward0>), tensor(-46.3999, device='cuda:0', grad_fn=<NegBackward0>), tensor(-1.2300, device='cuda:0', grad_fn=<AddBackward0>)]\n",
      "tensor(-94.1828, device='cuda:0', grad_fn=<NegBackward0>) [tensor(-46.9345, device='cuda:0', grad_fn=<NegBackward0>), tensor(-46.4398, device='cuda:0', grad_fn=<NegBackward0>), tensor(-1.2444, device='cuda:0', grad_fn=<AddBackward0>)]\n",
      "0.29139916996604354\n",
      "tensor(-94.1028, device='cuda:0', grad_fn=<NegBackward0>) [tensor(-46.8876, device='cuda:0', grad_fn=<NegBackward0>), tensor(-46.2832, device='cuda:0', grad_fn=<NegBackward0>), tensor(-1.5395, device='cuda:0', grad_fn=<AddBackward0>)]\n",
      "tensor(-94.0199, device='cuda:0', grad_fn=<NegBackward0>) [tensor(-46.8876, device='cuda:0', grad_fn=<NegBackward0>), tensor(-46.1950, device='cuda:0', grad_fn=<NegBackward0>), tensor(-1.5530, device='cuda:0', grad_fn=<AddBackward0>)]\n",
      "0.2971607577022229\n",
      "tensor(-93.9738, device='cuda:0', grad_fn=<NegBackward0>) [tensor(-46.8796, device='cuda:0', grad_fn=<NegBackward0>), tensor(-46.1315, device='cuda:0', grad_fn=<NegBackward0>), tensor(-1.6188, device='cuda:0', grad_fn=<AddBackward0>)]\n",
      "tensor(-94.0101, device='cuda:0', grad_fn=<NegBackward0>) [tensor(-46.8796, device='cuda:0', grad_fn=<NegBackward0>), tensor(-46.1882, device='cuda:0', grad_fn=<NegBackward0>), tensor(-1.5658, device='cuda:0', grad_fn=<AddBackward0>)]\n",
      "0.2706448016790313\n",
      "tensor(-94.1494, device='cuda:0', grad_fn=<NegBackward0>) [tensor(-46.9206, device='cuda:0', grad_fn=<NegBackward0>), tensor(-46.3911, device='cuda:0', grad_fn=<NegBackward0>), tensor(-1.3110, device='cuda:0', grad_fn=<AddBackward0>)]\n",
      "tensor(-94.1768, device='cuda:0', grad_fn=<NegBackward0>) [tensor(-46.9206, device='cuda:0', grad_fn=<NegBackward0>), tensor(-46.4258, device='cuda:0', grad_fn=<NegBackward0>), tensor(-1.2941, device='cuda:0', grad_fn=<AddBackward0>)]\n",
      "0.27659472383756284\n",
      "tensor(-94.0936, device='cuda:0', grad_fn=<NegBackward0>) [tensor(-46.9000, device='cuda:0', grad_fn=<NegBackward0>), tensor(-46.3073, device='cuda:0', grad_fn=<NegBackward0>), tensor(-1.4261, device='cuda:0', grad_fn=<AddBackward0>)]\n",
      "tensor(-94.0848, device='cuda:0', grad_fn=<NegBackward0>) [tensor(-46.9000, device='cuda:0', grad_fn=<NegBackward0>), tensor(-46.3604, device='cuda:0', grad_fn=<NegBackward0>), tensor(-1.2803, device='cuda:0', grad_fn=<AddBackward0>)]\n"
     ]
    },
    {
     "name": "stdout",
     "output_type": "stream",
     "text": [
      "0.28761810228298956\n",
      "tensor(-94.1107, device='cuda:0', grad_fn=<NegBackward0>) [tensor(-46.9148, device='cuda:0', grad_fn=<NegBackward0>), tensor(-46.3222, device='cuda:0', grad_fn=<NegBackward0>), tensor(-1.3959, device='cuda:0', grad_fn=<AddBackward0>)]\n",
      "tensor(-94.1619, device='cuda:0', grad_fn=<NegBackward0>) [tensor(-46.9148, device='cuda:0', grad_fn=<NegBackward0>), tensor(-46.3670, device='cuda:0', grad_fn=<NegBackward0>), tensor(-1.4111, device='cuda:0', grad_fn=<AddBackward0>)]\n",
      "0.29124110819128474\n",
      "tensor(-94.2811, device='cuda:0', grad_fn=<NegBackward0>) [tensor(-47.0057, device='cuda:0', grad_fn=<NegBackward0>), tensor(-46.3379, device='cuda:0', grad_fn=<NegBackward0>), tensor(-1.5535, device='cuda:0', grad_fn=<AddBackward0>)]\n",
      "tensor(-94.2937, device='cuda:0', grad_fn=<NegBackward0>) [tensor(-47.0057, device='cuda:0', grad_fn=<NegBackward0>), tensor(-46.3989, device='cuda:0', grad_fn=<NegBackward0>), tensor(-1.4328, device='cuda:0', grad_fn=<AddBackward0>)]\n",
      "0.26396039267782295\n",
      "tensor(-94.1332, device='cuda:0', grad_fn=<NegBackward0>) [tensor(-46.9432, device='cuda:0', grad_fn=<NegBackward0>), tensor(-46.4095, device='cuda:0', grad_fn=<NegBackward0>), tensor(-1.1825, device='cuda:0', grad_fn=<AddBackward0>)]\n",
      "tensor(-94.1534, device='cuda:0', grad_fn=<NegBackward0>) [tensor(-46.9432, device='cuda:0', grad_fn=<NegBackward0>), tensor(-46.4268, device='cuda:0', grad_fn=<NegBackward0>), tensor(-1.1888, device='cuda:0', grad_fn=<AddBackward0>)]\n",
      "0.270509083631334\n",
      "tensor(-94.0475, device='cuda:0', grad_fn=<NegBackward0>) [tensor(-46.9182, device='cuda:0', grad_fn=<NegBackward0>), tensor(-46.2964, device='cuda:0', grad_fn=<NegBackward0>), tensor(-1.2998, device='cuda:0', grad_fn=<AddBackward0>)]\n",
      "tensor(-94.1155, device='cuda:0', grad_fn=<NegBackward0>) [tensor(-46.9182, device='cuda:0', grad_fn=<NegBackward0>), tensor(-46.3991, device='cuda:0', grad_fn=<NegBackward0>), tensor(-1.2214, device='cuda:0', grad_fn=<AddBackward0>)]\n",
      "0.2845976121508261\n",
      "tensor(-94.1574, device='cuda:0', grad_fn=<NegBackward0>) [tensor(-46.9121, device='cuda:0', grad_fn=<NegBackward0>), tensor(-46.3917, device='cuda:0', grad_fn=<NegBackward0>), tensor(-1.3484, device='cuda:0', grad_fn=<AddBackward0>)]\n",
      "tensor(-94.0864, device='cuda:0', grad_fn=<NegBackward0>) [tensor(-46.9121, device='cuda:0', grad_fn=<NegBackward0>), tensor(-46.2621, device='cuda:0', grad_fn=<NegBackward0>), tensor(-1.4900, device='cuda:0', grad_fn=<AddBackward0>)]\n",
      "0.3012704797322978\n",
      "tensor(-94.1032, device='cuda:0', grad_fn=<NegBackward0>) [tensor(-46.9275, device='cuda:0', grad_fn=<NegBackward0>), tensor(-46.2340, device='cuda:0', grad_fn=<NegBackward0>), tensor(-1.5642, device='cuda:0', grad_fn=<AddBackward0>)]\n",
      "tensor(-94.1640, device='cuda:0', grad_fn=<NegBackward0>) [tensor(-46.9275, device='cuda:0', grad_fn=<NegBackward0>), tensor(-46.2968, device='cuda:0', grad_fn=<NegBackward0>), tensor(-1.5591, device='cuda:0', grad_fn=<AddBackward0>)]\n",
      "0.28540180949698146\n",
      "tensor(-94.0932, device='cuda:0', grad_fn=<NegBackward0>) [tensor(-46.9041, device='cuda:0', grad_fn=<NegBackward0>), tensor(-46.3269, device='cuda:0', grad_fn=<NegBackward0>), tensor(-1.3682, device='cuda:0', grad_fn=<AddBackward0>)]\n",
      "tensor(-94.0566, device='cuda:0', grad_fn=<NegBackward0>) [tensor(-46.9041, device='cuda:0', grad_fn=<NegBackward0>), tensor(-46.2926, device='cuda:0', grad_fn=<NegBackward0>), tensor(-1.3628, device='cuda:0', grad_fn=<AddBackward0>)]\n",
      "0.2747242037658002\n",
      "tensor(-94.0175, device='cuda:0', grad_fn=<NegBackward0>) [tensor(-46.8889, device='cuda:0', grad_fn=<NegBackward0>), tensor(-46.2384, device='cuda:0', grad_fn=<NegBackward0>), tensor(-1.4357, device='cuda:0', grad_fn=<AddBackward0>)]\n",
      "tensor(-94.0674, device='cuda:0', grad_fn=<NegBackward0>) [tensor(-46.8889, device='cuda:0', grad_fn=<NegBackward0>), tensor(-46.3527, device='cuda:0', grad_fn=<NegBackward0>), tensor(-1.2837, device='cuda:0', grad_fn=<AddBackward0>)]\n",
      "0.2519187875642587\n",
      "tensor(-93.9941, device='cuda:0', grad_fn=<NegBackward0>) [tensor(-46.8697, device='cuda:0', grad_fn=<NegBackward0>), tensor(-46.3615, device='cuda:0', grad_fn=<NegBackward0>), tensor(-1.1444, device='cuda:0', grad_fn=<AddBackward0>)]\n",
      "tensor(-93.9963, device='cuda:0', grad_fn=<NegBackward0>) [tensor(-46.8697, device='cuda:0', grad_fn=<NegBackward0>), tensor(-46.3818, device='cuda:0', grad_fn=<NegBackward0>), tensor(-1.1059, device='cuda:0', grad_fn=<AddBackward0>)]\n",
      "0.27867402000864255\n",
      "tensor(-94.0537, device='cuda:0', grad_fn=<NegBackward0>) [tensor(-46.8971, device='cuda:0', grad_fn=<NegBackward0>), tensor(-46.3067, device='cuda:0', grad_fn=<NegBackward0>), tensor(-1.3396, device='cuda:0', grad_fn=<AddBackward0>)]\n",
      "tensor(-93.9906, device='cuda:0', grad_fn=<NegBackward0>) [tensor(-46.8971, device='cuda:0', grad_fn=<NegBackward0>), tensor(-46.1482, device='cuda:0', grad_fn=<NegBackward0>), tensor(-1.5736, device='cuda:0', grad_fn=<AddBackward0>)]\n",
      "0.2699874988202828\n",
      "tensor(-94.0820, device='cuda:0', grad_fn=<NegBackward0>) [tensor(-46.8667, device='cuda:0', grad_fn=<NegBackward0>), tensor(-46.4076, device='cuda:0', grad_fn=<NegBackward0>), tensor(-1.2427, device='cuda:0', grad_fn=<AddBackward0>)]\n",
      "tensor(-94.0126, device='cuda:0', grad_fn=<NegBackward0>) [tensor(-46.8667, device='cuda:0', grad_fn=<NegBackward0>), tensor(-46.3657, device='cuda:0', grad_fn=<NegBackward0>), tensor(-1.1818, device='cuda:0', grad_fn=<AddBackward0>)]\n",
      "0.27558805522258345\n",
      "tensor(-94.2596, device='cuda:0', grad_fn=<NegBackward0>) [tensor(-46.9963, device='cuda:0', grad_fn=<NegBackward0>), tensor(-46.4096, device='cuda:0', grad_fn=<NegBackward0>), tensor(-1.3483, device='cuda:0', grad_fn=<AddBackward0>)]\n",
      "tensor(-94.2950, device='cuda:0', grad_fn=<NegBackward0>) [tensor(-46.9963, device='cuda:0', grad_fn=<NegBackward0>), tensor(-46.4718, device='cuda:0', grad_fn=<NegBackward0>), tensor(-1.2861, device='cuda:0', grad_fn=<AddBackward0>)]\n",
      "0.2962003412609916\n",
      "tensor(-94.2324, device='cuda:0', grad_fn=<NegBackward0>) [tensor(-46.9970, device='cuda:0', grad_fn=<NegBackward0>), tensor(-46.3256, device='cuda:0', grad_fn=<NegBackward0>), tensor(-1.4839, device='cuda:0', grad_fn=<AddBackward0>)]\n",
      "tensor(-94.2354, device='cuda:0', grad_fn=<NegBackward0>) [tensor(-46.9970, device='cuda:0', grad_fn=<NegBackward0>), tensor(-46.3277, device='cuda:0', grad_fn=<NegBackward0>), tensor(-1.4861, device='cuda:0', grad_fn=<AddBackward0>)]\n",
      "0.2575232244704826\n",
      "tensor(-94.5881, device='cuda:0', grad_fn=<NegBackward0>) [tensor(-47.1835, device='cuda:0', grad_fn=<NegBackward0>), tensor(-46.6404, device='cuda:0', grad_fn=<NegBackward0>), tensor(-1.1473, device='cuda:0', grad_fn=<AddBackward0>)]\n",
      "tensor(-94.6609, device='cuda:0', grad_fn=<NegBackward0>) [tensor(-47.1835, device='cuda:0', grad_fn=<NegBackward0>), tensor(-46.7045, device='cuda:0', grad_fn=<NegBackward0>), tensor(-1.1659, device='cuda:0', grad_fn=<AddBackward0>)]\n",
      "0.2789034156074799\n",
      "tensor(-94.2077, device='cuda:0', grad_fn=<NegBackward0>) [tensor(-46.9715, device='cuda:0', grad_fn=<NegBackward0>), tensor(-46.3879, device='cuda:0', grad_fn=<NegBackward0>), tensor(-1.3357, device='cuda:0', grad_fn=<AddBackward0>)]\n",
      "tensor(-94.2358, device='cuda:0', grad_fn=<NegBackward0>) [tensor(-46.9715, device='cuda:0', grad_fn=<NegBackward0>), tensor(-46.4318, device='cuda:0', grad_fn=<NegBackward0>), tensor(-1.2990, device='cuda:0', grad_fn=<AddBackward0>)]\n",
      "0.2723062331126772\n",
      "tensor(-94.5453, device='cuda:0', grad_fn=<NegBackward0>) [tensor(-47.1462, device='cuda:0', grad_fn=<NegBackward0>), tensor(-46.6070, device='cuda:0', grad_fn=<NegBackward0>), tensor(-1.2078, device='cuda:0', grad_fn=<AddBackward0>)]\n",
      "tensor(-94.5569, device='cuda:0', grad_fn=<NegBackward0>) [tensor(-47.1462, device='cuda:0', grad_fn=<NegBackward0>), tensor(-46.6131, device='cuda:0', grad_fn=<NegBackward0>), tensor(-1.2202, device='cuda:0', grad_fn=<AddBackward0>)]\n",
      "0.2860165528535069\n",
      "tensor(-94.4759, device='cuda:0', grad_fn=<NegBackward0>) [tensor(-47.0866, device='cuda:0', grad_fn=<NegBackward0>), tensor(-46.5166, device='cuda:0', grad_fn=<NegBackward0>), tensor(-1.3933, device='cuda:0', grad_fn=<AddBackward0>)]\n",
      "tensor(-94.5298, device='cuda:0', grad_fn=<NegBackward0>) [tensor(-47.0866, device='cuda:0', grad_fn=<NegBackward0>), tensor(-46.5871, device='cuda:0', grad_fn=<NegBackward0>), tensor(-1.3540, device='cuda:0', grad_fn=<AddBackward0>)]\n"
     ]
    },
    {
     "name": "stdout",
     "output_type": "stream",
     "text": [
      "0.28545734297070935\n",
      "tensor(-94.7230, device='cuda:0', grad_fn=<NegBackward0>) [tensor(-47.2520, device='cuda:0', grad_fn=<NegBackward0>), tensor(-46.5600, device='cuda:0', grad_fn=<NegBackward0>), tensor(-1.4869, device='cuda:0', grad_fn=<AddBackward0>)]\n",
      "tensor(-94.7374, device='cuda:0', grad_fn=<NegBackward0>) [tensor(-47.2520, device='cuda:0', grad_fn=<NegBackward0>), tensor(-46.5873, device='cuda:0', grad_fn=<NegBackward0>), tensor(-1.4550, device='cuda:0', grad_fn=<AddBackward0>)]\n",
      "0.273192550870275\n",
      "tensor(-94.3871, device='cuda:0', grad_fn=<NegBackward0>) [tensor(-47.0573, device='cuda:0', grad_fn=<NegBackward0>), tensor(-46.5118, device='cuda:0', grad_fn=<NegBackward0>), tensor(-1.2661, device='cuda:0', grad_fn=<AddBackward0>)]\n",
      "tensor(-94.3834, device='cuda:0', grad_fn=<NegBackward0>) [tensor(-47.0573, device='cuda:0', grad_fn=<NegBackward0>), tensor(-46.5203, device='cuda:0', grad_fn=<NegBackward0>), tensor(-1.2385, device='cuda:0', grad_fn=<AddBackward0>)]\n",
      "0.29660048482618057\n",
      "tensor(-94.6745, device='cuda:0', grad_fn=<NegBackward0>) [tensor(-47.1221, device='cuda:0', grad_fn=<NegBackward0>), tensor(-46.6227, device='cuda:0', grad_fn=<NegBackward0>), tensor(-1.5338, device='cuda:0', grad_fn=<AddBackward0>)]\n",
      "tensor(-94.5799, device='cuda:0', grad_fn=<NegBackward0>) [tensor(-47.1221, device='cuda:0', grad_fn=<NegBackward0>), tensor(-46.5699, device='cuda:0', grad_fn=<NegBackward0>), tensor(-1.4301, device='cuda:0', grad_fn=<AddBackward0>)]\n",
      "0.2895945944495536\n",
      "tensor(-94.4840, device='cuda:0', grad_fn=<NegBackward0>) [tensor(-47.1031, device='cuda:0', grad_fn=<NegBackward0>), tensor(-46.5003, device='cuda:0', grad_fn=<NegBackward0>), tensor(-1.4124, device='cuda:0', grad_fn=<AddBackward0>)]\n",
      "tensor(-94.4728, device='cuda:0', grad_fn=<NegBackward0>) [tensor(-47.1031, device='cuda:0', grad_fn=<NegBackward0>), tensor(-46.5013, device='cuda:0', grad_fn=<NegBackward0>), tensor(-1.3833, device='cuda:0', grad_fn=<AddBackward0>)]\n",
      "0.3040010451381521\n",
      "tensor(-94.2891, device='cuda:0', grad_fn=<NegBackward0>) [tensor(-47.0115, device='cuda:0', grad_fn=<NegBackward0>), tensor(-46.3164, device='cuda:0', grad_fn=<NegBackward0>), tensor(-1.6148, device='cuda:0', grad_fn=<AddBackward0>)]\n",
      "tensor(-94.3311, device='cuda:0', grad_fn=<NegBackward0>) [tensor(-47.0115, device='cuda:0', grad_fn=<NegBackward0>), tensor(-46.3823, device='cuda:0', grad_fn=<NegBackward0>), tensor(-1.5530, device='cuda:0', grad_fn=<AddBackward0>)]\n",
      "0.3098878298663344\n",
      "tensor(-94.5558, device='cuda:0', grad_fn=<NegBackward0>) [tensor(-47.1316, device='cuda:0', grad_fn=<NegBackward0>), tensor(-46.4766, device='cuda:0', grad_fn=<NegBackward0>), tensor(-1.5793, device='cuda:0', grad_fn=<AddBackward0>)]\n",
      "tensor(-94.5329, device='cuda:0', grad_fn=<NegBackward0>) [tensor(-47.1316, device='cuda:0', grad_fn=<NegBackward0>), tensor(-46.4635, device='cuda:0', grad_fn=<NegBackward0>), tensor(-1.5541, device='cuda:0', grad_fn=<AddBackward0>)]\n",
      "0.27252303286096397\n",
      "tensor(-94.8790, device='cuda:0', grad_fn=<NegBackward0>) [tensor(-47.3104, device='cuda:0', grad_fn=<NegBackward0>), tensor(-46.7522, device='cuda:0', grad_fn=<NegBackward0>), tensor(-1.2624, device='cuda:0', grad_fn=<AddBackward0>)]\n",
      "tensor(-94.8558, device='cuda:0', grad_fn=<NegBackward0>) [tensor(-47.3104, device='cuda:0', grad_fn=<NegBackward0>), tensor(-46.7371, device='cuda:0', grad_fn=<NegBackward0>), tensor(-1.2440, device='cuda:0', grad_fn=<AddBackward0>)]\n",
      "0.29197704998567603\n",
      "tensor(-94.8849, device='cuda:0', grad_fn=<NegBackward0>) [tensor(-47.2709, device='cuda:0', grad_fn=<NegBackward0>), tensor(-46.6942, device='cuda:0', grad_fn=<NegBackward0>), tensor(-1.5088, device='cuda:0', grad_fn=<AddBackward0>)]\n",
      "tensor(-94.8274, device='cuda:0', grad_fn=<NegBackward0>) [tensor(-47.2709, device='cuda:0', grad_fn=<NegBackward0>), tensor(-46.6671, device='cuda:0', grad_fn=<NegBackward0>), tensor(-1.4338, device='cuda:0', grad_fn=<AddBackward0>)]\n",
      "0.282612030063739\n",
      "tensor(-94.7461, device='cuda:0', grad_fn=<NegBackward0>) [tensor(-47.2259, device='cuda:0', grad_fn=<NegBackward0>), tensor(-46.6736, device='cuda:0', grad_fn=<NegBackward0>), tensor(-1.3316, device='cuda:0', grad_fn=<AddBackward0>)]\n",
      "tensor(-94.7346, device='cuda:0', grad_fn=<NegBackward0>) [tensor(-47.2259, device='cuda:0', grad_fn=<NegBackward0>), tensor(-46.6823, device='cuda:0', grad_fn=<NegBackward0>), tensor(-1.2852, device='cuda:0', grad_fn=<AddBackward0>)]\n",
      "0.268949862354278\n",
      "tensor(-94.8024, device='cuda:0', grad_fn=<NegBackward0>) [tensor(-47.2348, device='cuda:0', grad_fn=<NegBackward0>), tensor(-46.7733, device='cuda:0', grad_fn=<NegBackward0>), tensor(-1.2129, device='cuda:0', grad_fn=<AddBackward0>)]\n",
      "tensor(-94.6830, device='cuda:0', grad_fn=<NegBackward0>) [tensor(-47.2348, device='cuda:0', grad_fn=<NegBackward0>), tensor(-46.6350, device='cuda:0', grad_fn=<NegBackward0>), tensor(-1.2553, device='cuda:0', grad_fn=<AddBackward0>)]\n",
      "0.30285795831919904\n",
      "tensor(-94.2450, device='cuda:0', grad_fn=<NegBackward0>) [tensor(-47.0449, device='cuda:0', grad_fn=<NegBackward0>), tensor(-46.2235, device='cuda:0', grad_fn=<NegBackward0>), tensor(-1.6552, device='cuda:0', grad_fn=<AddBackward0>)]\n",
      "tensor(-94.3964, device='cuda:0', grad_fn=<NegBackward0>) [tensor(-47.0449, device='cuda:0', grad_fn=<NegBackward0>), tensor(-46.4315, device='cuda:0', grad_fn=<NegBackward0>), tensor(-1.5093, device='cuda:0', grad_fn=<AddBackward0>)]\n",
      "0.278532477335462\n",
      "tensor(-94.4976, device='cuda:0', grad_fn=<NegBackward0>) [tensor(-47.1018, device='cuda:0', grad_fn=<NegBackward0>), tensor(-46.5836, device='cuda:0', grad_fn=<NegBackward0>), tensor(-1.2528, device='cuda:0', grad_fn=<AddBackward0>)]\n",
      "tensor(-94.4323, device='cuda:0', grad_fn=<NegBackward0>) [tensor(-47.1018, device='cuda:0', grad_fn=<NegBackward0>), tensor(-46.4741, device='cuda:0', grad_fn=<NegBackward0>), tensor(-1.3547, device='cuda:0', grad_fn=<AddBackward0>)]\n",
      "0.2879410009256602\n",
      "tensor(-94.9186, device='cuda:0', grad_fn=<NegBackward0>) [tensor(-47.3074, device='cuda:0', grad_fn=<NegBackward0>), tensor(-46.7382, device='cuda:0', grad_fn=<NegBackward0>), tensor(-1.3939, device='cuda:0', grad_fn=<AddBackward0>)]\n",
      "tensor(-94.9490, device='cuda:0', grad_fn=<NegBackward0>) [tensor(-47.3074, device='cuda:0', grad_fn=<NegBackward0>), tensor(-46.7540, device='cuda:0', grad_fn=<NegBackward0>), tensor(-1.4291, device='cuda:0', grad_fn=<AddBackward0>)]\n",
      "0.2768788838115686\n",
      "tensor(-94.5481, device='cuda:0', grad_fn=<NegBackward0>) [tensor(-47.1386, device='cuda:0', grad_fn=<NegBackward0>), tensor(-46.5985, device='cuda:0', grad_fn=<NegBackward0>), tensor(-1.2503, device='cuda:0', grad_fn=<AddBackward0>)]\n",
      "tensor(-94.5191, device='cuda:0', grad_fn=<NegBackward0>) [tensor(-47.1386, device='cuda:0', grad_fn=<NegBackward0>), tensor(-46.5815, device='cuda:0', grad_fn=<NegBackward0>), tensor(-1.2233, device='cuda:0', grad_fn=<AddBackward0>)]\n",
      "0.2899851513704937\n",
      "tensor(-94.6838, device='cuda:0', grad_fn=<NegBackward0>) [tensor(-47.2059, device='cuda:0', grad_fn=<NegBackward0>), tensor(-46.6156, device='cuda:0', grad_fn=<NegBackward0>), tensor(-1.3687, device='cuda:0', grad_fn=<AddBackward0>)]\n",
      "tensor(-94.5937, device='cuda:0', grad_fn=<NegBackward0>) [tensor(-47.2059, device='cuda:0', grad_fn=<NegBackward0>), tensor(-46.5127, device='cuda:0', grad_fn=<NegBackward0>), tensor(-1.3992, device='cuda:0', grad_fn=<AddBackward0>)]\n",
      "0.2711924642962998\n",
      "tensor(-94.7718, device='cuda:0', grad_fn=<NegBackward0>) [tensor(-47.2307, device='cuda:0', grad_fn=<NegBackward0>), tensor(-46.7484, device='cuda:0', grad_fn=<NegBackward0>), tensor(-1.2095, device='cuda:0', grad_fn=<AddBackward0>)]\n",
      "tensor(-94.7987, device='cuda:0', grad_fn=<NegBackward0>) [tensor(-47.2307, device='cuda:0', grad_fn=<NegBackward0>), tensor(-46.7816, device='cuda:0', grad_fn=<NegBackward0>), tensor(-1.1955, device='cuda:0', grad_fn=<AddBackward0>)]\n",
      "0.283688332935397\n",
      "tensor(-94.6402, device='cuda:0', grad_fn=<NegBackward0>) [tensor(-47.2020, device='cuda:0', grad_fn=<NegBackward0>), tensor(-46.6064, device='cuda:0', grad_fn=<NegBackward0>), tensor(-1.2973, device='cuda:0', grad_fn=<AddBackward0>)]\n",
      "tensor(-94.5657, device='cuda:0', grad_fn=<NegBackward0>) [tensor(-47.2020, device='cuda:0', grad_fn=<NegBackward0>), tensor(-46.5040, device='cuda:0', grad_fn=<NegBackward0>), tensor(-1.3624, device='cuda:0', grad_fn=<AddBackward0>)]\n"
     ]
    },
    {
     "name": "stdout",
     "output_type": "stream",
     "text": [
      "0.2698737687666974\n",
      "tensor(-94.6615, device='cuda:0', grad_fn=<NegBackward0>) [tensor(-47.1527, device='cuda:0', grad_fn=<NegBackward0>), tensor(-46.7102, device='cuda:0', grad_fn=<NegBackward0>), tensor(-1.2224, device='cuda:0', grad_fn=<AddBackward0>)]\n",
      "tensor(-94.6645, device='cuda:0', grad_fn=<NegBackward0>) [tensor(-47.1527, device='cuda:0', grad_fn=<NegBackward0>), tensor(-46.7137, device='cuda:0', grad_fn=<NegBackward0>), tensor(-1.2215, device='cuda:0', grad_fn=<AddBackward0>)]\n",
      "0.296199337316495\n",
      "tensor(-95.0827, device='cuda:0', grad_fn=<NegBackward0>) [tensor(-47.3768, device='cuda:0', grad_fn=<NegBackward0>), tensor(-46.8052, device='cuda:0', grad_fn=<NegBackward0>), tensor(-1.4614, device='cuda:0', grad_fn=<AddBackward0>)]\n",
      "tensor(-95.1167, device='cuda:0', grad_fn=<NegBackward0>) [tensor(-47.3768, device='cuda:0', grad_fn=<NegBackward0>), tensor(-46.8520, device='cuda:0', grad_fn=<NegBackward0>), tensor(-1.4301, device='cuda:0', grad_fn=<AddBackward0>)]\n",
      "0.2904688508921837\n",
      "tensor(-95.1464, device='cuda:0', grad_fn=<NegBackward0>) [tensor(-47.4034, device='cuda:0', grad_fn=<NegBackward0>), tensor(-46.8591, device='cuda:0', grad_fn=<NegBackward0>), tensor(-1.4201, device='cuda:0', grad_fn=<AddBackward0>)]\n",
      "tensor(-95.0808, device='cuda:0', grad_fn=<NegBackward0>) [tensor(-47.4034, device='cuda:0', grad_fn=<NegBackward0>), tensor(-46.7966, device='cuda:0', grad_fn=<NegBackward0>), tensor(-1.4126, device='cuda:0', grad_fn=<AddBackward0>)]\n",
      "0.3090951354784224\n",
      "tensor(-94.9136, device='cuda:0', grad_fn=<NegBackward0>) [tensor(-47.3315, device='cuda:0', grad_fn=<NegBackward0>), tensor(-46.6462, device='cuda:0', grad_fn=<NegBackward0>), tensor(-1.5495, device='cuda:0', grad_fn=<AddBackward0>)]\n",
      "tensor(-94.9062, device='cuda:0', grad_fn=<NegBackward0>) [tensor(-47.3315, device='cuda:0', grad_fn=<NegBackward0>), tensor(-46.5763, device='cuda:0', grad_fn=<NegBackward0>), tensor(-1.7138, device='cuda:0', grad_fn=<AddBackward0>)]\n",
      "0.29090617154802395\n",
      "tensor(-94.8736, device='cuda:0', grad_fn=<NegBackward0>) [tensor(-47.3335, device='cuda:0', grad_fn=<NegBackward0>), tensor(-46.7052, device='cuda:0', grad_fn=<NegBackward0>), tensor(-1.3043, device='cuda:0', grad_fn=<AddBackward0>)]\n",
      "tensor(-94.9853, device='cuda:0', grad_fn=<NegBackward0>) [tensor(-47.3335, device='cuda:0', grad_fn=<NegBackward0>), tensor(-46.8059, device='cuda:0', grad_fn=<NegBackward0>), tensor(-1.3300, device='cuda:0', grad_fn=<AddBackward0>)]\n",
      "0.29460879272754875\n",
      "tensor(-95.0946, device='cuda:0', grad_fn=<NegBackward0>) [tensor(-47.3838, device='cuda:0', grad_fn=<NegBackward0>), tensor(-46.8146, device='cuda:0', grad_fn=<NegBackward0>), tensor(-1.4505, device='cuda:0', grad_fn=<AddBackward0>)]\n",
      "tensor(-95.0571, device='cuda:0', grad_fn=<NegBackward0>) [tensor(-47.3838, device='cuda:0', grad_fn=<NegBackward0>), tensor(-46.7841, device='cuda:0', grad_fn=<NegBackward0>), tensor(-1.4334, device='cuda:0', grad_fn=<AddBackward0>)]\n",
      "0.2935693560790278\n",
      "tensor(-95.1623, device='cuda:0', grad_fn=<NegBackward0>) [tensor(-47.4776, device='cuda:0', grad_fn=<NegBackward0>), tensor(-46.8254, device='cuda:0', grad_fn=<NegBackward0>), tensor(-1.3615, device='cuda:0', grad_fn=<AddBackward0>)]\n",
      "tensor(-95.2462, device='cuda:0', grad_fn=<NegBackward0>) [tensor(-47.4776, device='cuda:0', grad_fn=<NegBackward0>), tensor(-46.8845, device='cuda:0', grad_fn=<NegBackward0>), tensor(-1.4207, device='cuda:0', grad_fn=<AddBackward0>)]\n",
      "0.28419699708880924\n",
      "tensor(-95.0793, device='cuda:0', grad_fn=<NegBackward0>) [tensor(-47.4216, device='cuda:0', grad_fn=<NegBackward0>), tensor(-46.8237, device='cuda:0', grad_fn=<NegBackward0>), tensor(-1.3026, device='cuda:0', grad_fn=<AddBackward0>)]\n",
      "tensor(-95.1796, device='cuda:0', grad_fn=<NegBackward0>) [tensor(-47.4216, device='cuda:0', grad_fn=<NegBackward0>), tensor(-46.9277, device='cuda:0', grad_fn=<NegBackward0>), tensor(-1.2942, device='cuda:0', grad_fn=<AddBackward0>)]\n",
      "0.2823132980287399\n",
      "tensor(-95.0903, device='cuda:0', grad_fn=<NegBackward0>) [tensor(-47.3877, device='cuda:0', grad_fn=<NegBackward0>), tensor(-46.8447, device='cuda:0', grad_fn=<NegBackward0>), tensor(-1.3582, device='cuda:0', grad_fn=<AddBackward0>)]\n",
      "tensor(-95.0782, device='cuda:0', grad_fn=<NegBackward0>) [tensor(-47.3877, device='cuda:0', grad_fn=<NegBackward0>), tensor(-46.8781, device='cuda:0', grad_fn=<NegBackward0>), tensor(-1.2532, device='cuda:0', grad_fn=<AddBackward0>)]\n",
      "0.30509460043548814\n",
      "tensor(-95.2326, device='cuda:0', grad_fn=<NegBackward0>) [tensor(-47.4941, device='cuda:0', grad_fn=<NegBackward0>), tensor(-46.8339, device='cuda:0', grad_fn=<NegBackward0>), tensor(-1.4708, device='cuda:0', grad_fn=<AddBackward0>)]\n",
      "tensor(-95.2552, device='cuda:0', grad_fn=<NegBackward0>) [tensor(-47.4941, device='cuda:0', grad_fn=<NegBackward0>), tensor(-46.8682, device='cuda:0', grad_fn=<NegBackward0>), tensor(-1.4421, device='cuda:0', grad_fn=<AddBackward0>)]\n",
      "0.2825173450845135\n",
      "tensor(-95.2709, device='cuda:0', grad_fn=<NegBackward0>) [tensor(-47.4842, device='cuda:0', grad_fn=<NegBackward0>), tensor(-46.9381, device='cuda:0', grad_fn=<NegBackward0>), tensor(-1.3363, device='cuda:0', grad_fn=<AddBackward0>)]\n",
      "tensor(-95.3205, device='cuda:0', grad_fn=<NegBackward0>) [tensor(-47.4842, device='cuda:0', grad_fn=<NegBackward0>), tensor(-46.9878, device='cuda:0', grad_fn=<NegBackward0>), tensor(-1.3359, device='cuda:0', grad_fn=<AddBackward0>)]\n",
      "0.28632861413164484\n",
      "tensor(-94.9475, device='cuda:0', grad_fn=<NegBackward0>) [tensor(-47.2990, device='cuda:0', grad_fn=<NegBackward0>), tensor(-46.7925, device='cuda:0', grad_fn=<NegBackward0>), tensor(-1.3538, device='cuda:0', grad_fn=<AddBackward0>)]\n",
      "tensor(-94.8620, device='cuda:0', grad_fn=<NegBackward0>) [tensor(-47.2990, device='cuda:0', grad_fn=<NegBackward0>), tensor(-46.6983, device='cuda:0', grad_fn=<NegBackward0>), tensor(-1.3741, device='cuda:0', grad_fn=<AddBackward0>)]\n",
      "0.26965263539039225\n",
      "tensor(-94.9808, device='cuda:0', grad_fn=<NegBackward0>) [tensor(-47.3692, device='cuda:0', grad_fn=<NegBackward0>), tensor(-46.7933, device='cuda:0', grad_fn=<NegBackward0>), tensor(-1.2666, device='cuda:0', grad_fn=<AddBackward0>)]\n",
      "tensor(-95.0059, device='cuda:0', grad_fn=<NegBackward0>) [tensor(-47.3692, device='cuda:0', grad_fn=<NegBackward0>), tensor(-46.8686, device='cuda:0', grad_fn=<NegBackward0>), tensor(-1.1556, device='cuda:0', grad_fn=<AddBackward0>)]\n",
      "0.29061439932961713\n",
      "tensor(-95.0716, device='cuda:0', grad_fn=<NegBackward0>) [tensor(-47.3787, device='cuda:0', grad_fn=<NegBackward0>), tensor(-46.8194, device='cuda:0', grad_fn=<NegBackward0>), tensor(-1.3953, device='cuda:0', grad_fn=<AddBackward0>)]\n",
      "tensor(-95.0776, device='cuda:0', grad_fn=<NegBackward0>) [tensor(-47.3787, device='cuda:0', grad_fn=<NegBackward0>), tensor(-46.8251, device='cuda:0', grad_fn=<NegBackward0>), tensor(-1.3959, device='cuda:0', grad_fn=<AddBackward0>)]\n",
      "0.26574421778136875\n",
      "tensor(-95.0352, device='cuda:0', grad_fn=<NegBackward0>) [tensor(-47.3852, device='cuda:0', grad_fn=<NegBackward0>), tensor(-46.8991, device='cuda:0', grad_fn=<NegBackward0>), tensor(-1.1190, device='cuda:0', grad_fn=<AddBackward0>)]\n",
      "tensor(-95.0162, device='cuda:0', grad_fn=<NegBackward0>) [tensor(-47.3852, device='cuda:0', grad_fn=<NegBackward0>), tensor(-46.8976, device='cuda:0', grad_fn=<NegBackward0>), tensor(-1.0822, device='cuda:0', grad_fn=<AddBackward0>)]\n",
      "0.27528120845801596\n",
      "tensor(-95.2413, device='cuda:0', grad_fn=<NegBackward0>) [tensor(-47.4561, device='cuda:0', grad_fn=<NegBackward0>), tensor(-46.9755, device='cuda:0', grad_fn=<NegBackward0>), tensor(-1.2472, device='cuda:0', grad_fn=<AddBackward0>)]\n",
      "tensor(-95.1742, device='cuda:0', grad_fn=<NegBackward0>) [tensor(-47.4561, device='cuda:0', grad_fn=<NegBackward0>), tensor(-46.9133, device='cuda:0', grad_fn=<NegBackward0>), tensor(-1.2362, device='cuda:0', grad_fn=<AddBackward0>)]\n",
      "0.2720788156405358\n",
      "tensor(-95.2406, device='cuda:0', grad_fn=<NegBackward0>) [tensor(-47.4572, device='cuda:0', grad_fn=<NegBackward0>), tensor(-46.9990, device='cuda:0', grad_fn=<NegBackward0>), tensor(-1.1910, device='cuda:0', grad_fn=<AddBackward0>)]\n",
      "tensor(-95.1877, device='cuda:0', grad_fn=<NegBackward0>) [tensor(-47.4572, device='cuda:0', grad_fn=<NegBackward0>), tensor(-46.9577, device='cuda:0', grad_fn=<NegBackward0>), tensor(-1.1660, device='cuda:0', grad_fn=<AddBackward0>)]\n"
     ]
    },
    {
     "name": "stdout",
     "output_type": "stream",
     "text": [
      "0.28799952188081845\n",
      "tensor(-95.1539, device='cuda:0', grad_fn=<NegBackward0>) [tensor(-47.4551, device='cuda:0', grad_fn=<NegBackward0>), tensor(-46.8609, device='cuda:0', grad_fn=<NegBackward0>), tensor(-1.3113, device='cuda:0', grad_fn=<AddBackward0>)]\n",
      "tensor(-95.2165, device='cuda:0', grad_fn=<NegBackward0>) [tensor(-47.4551, device='cuda:0', grad_fn=<NegBackward0>), tensor(-46.8863, device='cuda:0', grad_fn=<NegBackward0>), tensor(-1.3991, device='cuda:0', grad_fn=<AddBackward0>)]\n",
      "0.2891982402462095\n",
      "tensor(-95.4035, device='cuda:0', grad_fn=<NegBackward0>) [tensor(-47.5481, device='cuda:0', grad_fn=<NegBackward0>), tensor(-47.0147, device='cuda:0', grad_fn=<NegBackward0>), tensor(-1.3182, device='cuda:0', grad_fn=<AddBackward0>)]\n",
      "tensor(-95.3662, device='cuda:0', grad_fn=<NegBackward0>) [tensor(-47.5481, device='cuda:0', grad_fn=<NegBackward0>), tensor(-46.9518, device='cuda:0', grad_fn=<NegBackward0>), tensor(-1.3781, device='cuda:0', grad_fn=<AddBackward0>)]\n",
      "0.27620594570282264\n",
      "tensor(-95.1923, device='cuda:0', grad_fn=<NegBackward0>) [tensor(-47.4293, device='cuda:0', grad_fn=<NegBackward0>), tensor(-46.9653, device='cuda:0', grad_fn=<NegBackward0>), tensor(-1.2205, device='cuda:0', grad_fn=<AddBackward0>)]\n",
      "tensor(-95.1421, device='cuda:0', grad_fn=<NegBackward0>) [tensor(-47.4293, device='cuda:0', grad_fn=<NegBackward0>), tensor(-46.8950, device='cuda:0', grad_fn=<NegBackward0>), tensor(-1.2656, device='cuda:0', grad_fn=<AddBackward0>)]\n",
      "0.29849740822454035\n",
      "tensor(-95.1965, device='cuda:0', grad_fn=<NegBackward0>) [tensor(-47.4845, device='cuda:0', grad_fn=<NegBackward0>), tensor(-46.8183, device='cuda:0', grad_fn=<NegBackward0>), tensor(-1.4443, device='cuda:0', grad_fn=<AddBackward0>)]\n",
      "tensor(-95.2472, device='cuda:0', grad_fn=<NegBackward0>) [tensor(-47.4845, device='cuda:0', grad_fn=<NegBackward0>), tensor(-46.9003, device='cuda:0', grad_fn=<NegBackward0>), tensor(-1.3688, device='cuda:0', grad_fn=<AddBackward0>)]\n",
      "0.29307821437670245\n",
      "tensor(-95.3651, device='cuda:0', grad_fn=<NegBackward0>) [tensor(-47.5576, device='cuda:0', grad_fn=<NegBackward0>), tensor(-46.9243, device='cuda:0', grad_fn=<NegBackward0>), tensor(-1.4186, device='cuda:0', grad_fn=<AddBackward0>)]\n",
      "tensor(-95.3823, device='cuda:0', grad_fn=<NegBackward0>) [tensor(-47.5576, device='cuda:0', grad_fn=<NegBackward0>), tensor(-46.9907, device='cuda:0', grad_fn=<NegBackward0>), tensor(-1.3024, device='cuda:0', grad_fn=<AddBackward0>)]\n",
      "0.2833975192193876\n",
      "tensor(-95.3674, device='cuda:0', grad_fn=<NegBackward0>) [tensor(-47.5417, device='cuda:0', grad_fn=<NegBackward0>), tensor(-47.0050, device='cuda:0', grad_fn=<NegBackward0>), tensor(-1.2721, device='cuda:0', grad_fn=<AddBackward0>)]\n",
      "tensor(-95.3512, device='cuda:0', grad_fn=<NegBackward0>) [tensor(-47.5417, device='cuda:0', grad_fn=<NegBackward0>), tensor(-46.9903, device='cuda:0', grad_fn=<NegBackward0>), tensor(-1.2686, device='cuda:0', grad_fn=<AddBackward0>)]\n",
      "0.2882377835885595\n",
      "tensor(-95.4832, device='cuda:0', grad_fn=<NegBackward0>) [tensor(-47.5778, device='cuda:0', grad_fn=<NegBackward0>), tensor(-47.0547, device='cuda:0', grad_fn=<NegBackward0>), tensor(-1.3414, device='cuda:0', grad_fn=<AddBackward0>)]\n",
      "tensor(-95.4113, device='cuda:0', grad_fn=<NegBackward0>) [tensor(-47.5778, device='cuda:0', grad_fn=<NegBackward0>), tensor(-46.9983, device='cuda:0', grad_fn=<NegBackward0>), tensor(-1.3055, device='cuda:0', grad_fn=<AddBackward0>)]\n",
      "0.2901149164260683\n",
      "tensor(-95.4071, device='cuda:0', grad_fn=<NegBackward0>) [tensor(-47.5686, device='cuda:0', grad_fn=<NegBackward0>), tensor(-46.9954, device='cuda:0', grad_fn=<NegBackward0>), tensor(-1.3236, device='cuda:0', grad_fn=<AddBackward0>)]\n",
      "tensor(-95.3603, device='cuda:0', grad_fn=<NegBackward0>) [tensor(-47.5686, device='cuda:0', grad_fn=<NegBackward0>), tensor(-46.9264, device='cuda:0', grad_fn=<NegBackward0>), tensor(-1.3757, device='cuda:0', grad_fn=<AddBackward0>)]\n",
      "0.2640442485545176\n",
      "tensor(-95.2947, device='cuda:0', grad_fn=<NegBackward0>) [tensor(-47.5089, device='cuda:0', grad_fn=<NegBackward0>), tensor(-47.0547, device='cuda:0', grad_fn=<NegBackward0>), tensor(-1.0772, device='cuda:0', grad_fn=<AddBackward0>)]\n",
      "tensor(-95.3558, device='cuda:0', grad_fn=<NegBackward0>) [tensor(-47.5089, device='cuda:0', grad_fn=<NegBackward0>), tensor(-47.0739, device='cuda:0', grad_fn=<NegBackward0>), tensor(-1.1661, device='cuda:0', grad_fn=<AddBackward0>)]\n",
      "0.2936796990032197\n",
      "tensor(-95.2877, device='cuda:0', grad_fn=<NegBackward0>) [tensor(-47.5040, device='cuda:0', grad_fn=<NegBackward0>), tensor(-46.9013, device='cuda:0', grad_fn=<NegBackward0>), tensor(-1.4167, device='cuda:0', grad_fn=<AddBackward0>)]\n",
      "tensor(-95.3073, device='cuda:0', grad_fn=<NegBackward0>) [tensor(-47.5040, device='cuda:0', grad_fn=<NegBackward0>), tensor(-46.9485, device='cuda:0', grad_fn=<NegBackward0>), tensor(-1.3509, device='cuda:0', grad_fn=<AddBackward0>)]\n",
      "0.2865896185639139\n",
      "tensor(-95.4958, device='cuda:0', grad_fn=<NegBackward0>) [tensor(-47.6000, device='cuda:0', grad_fn=<NegBackward0>), tensor(-47.0297, device='cuda:0', grad_fn=<NegBackward0>), tensor(-1.3778, device='cuda:0', grad_fn=<AddBackward0>)]\n",
      "tensor(-95.4081, device='cuda:0', grad_fn=<NegBackward0>) [tensor(-47.6000, device='cuda:0', grad_fn=<NegBackward0>), tensor(-46.9934, device='cuda:0', grad_fn=<NegBackward0>), tensor(-1.2585, device='cuda:0', grad_fn=<AddBackward0>)]\n",
      "0.2727728072650812\n",
      "tensor(-95.4794, device='cuda:0', grad_fn=<NegBackward0>) [tensor(-47.5815, device='cuda:0', grad_fn=<NegBackward0>), tensor(-47.1411, device='cuda:0', grad_fn=<NegBackward0>), tensor(-1.1314, device='cuda:0', grad_fn=<AddBackward0>)]\n",
      "tensor(-95.4571, device='cuda:0', grad_fn=<NegBackward0>) [tensor(-47.5815, device='cuda:0', grad_fn=<NegBackward0>), tensor(-47.1213, device='cuda:0', grad_fn=<NegBackward0>), tensor(-1.1263, device='cuda:0', grad_fn=<AddBackward0>)]\n",
      "0.2696684139654575\n",
      "tensor(-95.4599, device='cuda:0', grad_fn=<NegBackward0>) [tensor(-47.6350, device='cuda:0', grad_fn=<NegBackward0>), tensor(-47.0675, device='cuda:0', grad_fn=<NegBackward0>), tensor(-1.1328, device='cuda:0', grad_fn=<AddBackward0>)]\n",
      "tensor(-95.4915, device='cuda:0', grad_fn=<NegBackward0>) [tensor(-47.6350, device='cuda:0', grad_fn=<NegBackward0>), tensor(-47.1141, device='cuda:0', grad_fn=<NegBackward0>), tensor(-1.1011, device='cuda:0', grad_fn=<AddBackward0>)]\n",
      "0.29798699981806265\n",
      "tensor(-95.5288, device='cuda:0', grad_fn=<NegBackward0>) [tensor(-47.6133, device='cuda:0', grad_fn=<NegBackward0>), tensor(-47.0638, device='cuda:0', grad_fn=<NegBackward0>), tensor(-1.3436, device='cuda:0', grad_fn=<AddBackward0>)]\n",
      "tensor(-95.4259, device='cuda:0', grad_fn=<NegBackward0>) [tensor(-47.6133, device='cuda:0', grad_fn=<NegBackward0>), tensor(-46.9657, device='cuda:0', grad_fn=<NegBackward0>), tensor(-1.3325, device='cuda:0', grad_fn=<AddBackward0>)]\n",
      "0.29814958957261034\n",
      "tensor(-95.7204, device='cuda:0', grad_fn=<NegBackward0>) [tensor(-47.7133, device='cuda:0', grad_fn=<NegBackward0>), tensor(-47.1360, device='cuda:0', grad_fn=<NegBackward0>), tensor(-1.3895, device='cuda:0', grad_fn=<AddBackward0>)]\n",
      "tensor(-95.7906, device='cuda:0', grad_fn=<NegBackward0>) [tensor(-47.7133, device='cuda:0', grad_fn=<NegBackward0>), tensor(-47.1874, device='cuda:0', grad_fn=<NegBackward0>), tensor(-1.4348, device='cuda:0', grad_fn=<AddBackward0>)]\n",
      "0.2558793082920567\n",
      "tensor(-95.5670, device='cuda:0', grad_fn=<NegBackward0>) [tensor(-47.6488, device='cuda:0', grad_fn=<NegBackward0>), tensor(-47.1985, device='cuda:0', grad_fn=<NegBackward0>), tensor(-1.0538, device='cuda:0', grad_fn=<AddBackward0>)]\n",
      "tensor(-95.5447, device='cuda:0', grad_fn=<NegBackward0>) [tensor(-47.6488, device='cuda:0', grad_fn=<NegBackward0>), tensor(-47.1843, device='cuda:0', grad_fn=<NegBackward0>), tensor(-1.0373, device='cuda:0', grad_fn=<AddBackward0>)]\n",
      "0.2675950820736057\n",
      "tensor(-95.7568, device='cuda:0', grad_fn=<NegBackward0>) [tensor(-47.7426, device='cuda:0', grad_fn=<NegBackward0>), tensor(-47.2793, device='cuda:0', grad_fn=<NegBackward0>), tensor(-1.0852, device='cuda:0', grad_fn=<AddBackward0>)]\n",
      "tensor(-95.7530, device='cuda:0', grad_fn=<NegBackward0>) [tensor(-47.7426, device='cuda:0', grad_fn=<NegBackward0>), tensor(-47.2645, device='cuda:0', grad_fn=<NegBackward0>), tensor(-1.1083, device='cuda:0', grad_fn=<AddBackward0>)]\n"
     ]
    },
    {
     "name": "stdout",
     "output_type": "stream",
     "text": [
      "0.2929738520520095\n",
      "tensor(-95.4298, device='cuda:0', grad_fn=<NegBackward0>) [tensor(-47.5537, device='cuda:0', grad_fn=<NegBackward0>), tensor(-47.0510, device='cuda:0', grad_fn=<NegBackward0>), tensor(-1.2821, device='cuda:0', grad_fn=<AddBackward0>)]\n",
      "tensor(-95.4203, device='cuda:0', grad_fn=<NegBackward0>) [tensor(-47.5537, device='cuda:0', grad_fn=<NegBackward0>), tensor(-47.0199, device='cuda:0', grad_fn=<NegBackward0>), tensor(-1.3320, device='cuda:0', grad_fn=<AddBackward0>)]\n",
      "0.28669701673515213\n",
      "tensor(-95.4319, device='cuda:0', grad_fn=<NegBackward0>) [tensor(-47.5879, device='cuda:0', grad_fn=<NegBackward0>), tensor(-46.9977, device='cuda:0', grad_fn=<NegBackward0>), tensor(-1.3310, device='cuda:0', grad_fn=<AddBackward0>)]\n",
      "tensor(-95.4541, device='cuda:0', grad_fn=<NegBackward0>) [tensor(-47.5879, device='cuda:0', grad_fn=<NegBackward0>), tensor(-47.0149, device='cuda:0', grad_fn=<NegBackward0>), tensor(-1.3426, device='cuda:0', grad_fn=<AddBackward0>)]\n",
      "0.27984429557579693\n",
      "tensor(-95.1761, device='cuda:0', grad_fn=<NegBackward0>) [tensor(-47.4860, device='cuda:0', grad_fn=<NegBackward0>), tensor(-46.8661, device='cuda:0', grad_fn=<NegBackward0>), tensor(-1.2796, device='cuda:0', grad_fn=<AddBackward0>)]\n",
      "tensor(-95.1777, device='cuda:0', grad_fn=<NegBackward0>) [tensor(-47.4860, device='cuda:0', grad_fn=<NegBackward0>), tensor(-46.9053, device='cuda:0', grad_fn=<NegBackward0>), tensor(-1.1954, device='cuda:0', grad_fn=<AddBackward0>)]\n",
      "0.2803198123402333\n",
      "tensor(-95.6239, device='cuda:0', grad_fn=<NegBackward0>) [tensor(-47.6584, device='cuda:0', grad_fn=<NegBackward0>), tensor(-47.1474, device='cuda:0', grad_fn=<NegBackward0>), tensor(-1.2662, device='cuda:0', grad_fn=<AddBackward0>)]\n",
      "tensor(-95.5466, device='cuda:0', grad_fn=<NegBackward0>) [tensor(-47.6584, device='cuda:0', grad_fn=<NegBackward0>), tensor(-47.0915, device='cuda:0', grad_fn=<NegBackward0>), tensor(-1.2183, device='cuda:0', grad_fn=<AddBackward0>)]\n",
      "0.30439636916979695\n",
      "tensor(-95.5255, device='cuda:0', grad_fn=<NegBackward0>) [tensor(-47.6110, device='cuda:0', grad_fn=<NegBackward0>), tensor(-47.0089, device='cuda:0', grad_fn=<NegBackward0>), tensor(-1.4735, device='cuda:0', grad_fn=<AddBackward0>)]\n",
      "tensor(-95.5055, device='cuda:0', grad_fn=<NegBackward0>) [tensor(-47.6110, device='cuda:0', grad_fn=<NegBackward0>), tensor(-46.9917, device='cuda:0', grad_fn=<NegBackward0>), tensor(-1.4664, device='cuda:0', grad_fn=<AddBackward0>)]\n",
      "0.2911102079316493\n",
      "tensor(-95.5277, device='cuda:0', grad_fn=<NegBackward0>) [tensor(-47.6567, device='cuda:0', grad_fn=<NegBackward0>), tensor(-47.0586, device='cuda:0', grad_fn=<NegBackward0>), tensor(-1.2531, device='cuda:0', grad_fn=<AddBackward0>)]\n",
      "tensor(-95.5657, device='cuda:0', grad_fn=<NegBackward0>) [tensor(-47.6567, device='cuda:0', grad_fn=<NegBackward0>), tensor(-47.0974, device='cuda:0', grad_fn=<NegBackward0>), tensor(-1.2515, device='cuda:0', grad_fn=<AddBackward0>)]\n",
      "0.29625588170483386\n",
      "tensor(-95.7421, device='cuda:0', grad_fn=<NegBackward0>) [tensor(-47.7397, device='cuda:0', grad_fn=<NegBackward0>), tensor(-47.1727, device='cuda:0', grad_fn=<NegBackward0>), tensor(-1.2926, device='cuda:0', grad_fn=<AddBackward0>)]\n",
      "tensor(-95.8203, device='cuda:0', grad_fn=<NegBackward0>) [tensor(-47.7397, device='cuda:0', grad_fn=<NegBackward0>), tensor(-47.1934, device='cuda:0', grad_fn=<NegBackward0>), tensor(-1.4284, device='cuda:0', grad_fn=<AddBackward0>)]\n",
      "0.28154426070057126\n",
      "tensor(-95.7331, device='cuda:0', grad_fn=<NegBackward0>) [tensor(-47.7184, device='cuda:0', grad_fn=<NegBackward0>), tensor(-47.2262, device='cuda:0', grad_fn=<NegBackward0>), tensor(-1.2001, device='cuda:0', grad_fn=<AddBackward0>)]\n",
      "tensor(-95.6953, device='cuda:0', grad_fn=<NegBackward0>) [tensor(-47.7184, device='cuda:0', grad_fn=<NegBackward0>), tensor(-47.1877, device='cuda:0', grad_fn=<NegBackward0>), tensor(-1.2015, device='cuda:0', grad_fn=<AddBackward0>)]\n",
      "0.2856791889751291\n",
      "tensor(-95.8275, device='cuda:0', grad_fn=<NegBackward0>) [tensor(-47.7768, device='cuda:0', grad_fn=<NegBackward0>), tensor(-47.2304, device='cuda:0', grad_fn=<NegBackward0>), tensor(-1.2712, device='cuda:0', grad_fn=<AddBackward0>)]\n",
      "tensor(-95.7967, device='cuda:0', grad_fn=<NegBackward0>) [tensor(-47.7768, device='cuda:0', grad_fn=<NegBackward0>), tensor(-47.1815, device='cuda:0', grad_fn=<NegBackward0>), tensor(-1.3126, device='cuda:0', grad_fn=<AddBackward0>)]\n",
      "0.2902771086847444\n",
      "tensor(-95.4331, device='cuda:0', grad_fn=<NegBackward0>) [tensor(-47.6311, device='cuda:0', grad_fn=<NegBackward0>), tensor(-46.9548, device='cuda:0', grad_fn=<NegBackward0>), tensor(-1.3331, device='cuda:0', grad_fn=<AddBackward0>)]\n",
      "tensor(-95.5605, device='cuda:0', grad_fn=<NegBackward0>) [tensor(-47.6311, device='cuda:0', grad_fn=<NegBackward0>), tensor(-47.0857, device='cuda:0', grad_fn=<NegBackward0>), tensor(-1.3250, device='cuda:0', grad_fn=<AddBackward0>)]\n",
      "0.291585539610559\n",
      "tensor(-95.7876, device='cuda:0', grad_fn=<NegBackward0>) [tensor(-47.7839, device='cuda:0', grad_fn=<NegBackward0>), tensor(-47.1854, device='cuda:0', grad_fn=<NegBackward0>), tensor(-1.2666, device='cuda:0', grad_fn=<AddBackward0>)]\n",
      "tensor(-95.8499, device='cuda:0', grad_fn=<NegBackward0>) [tensor(-47.7839, device='cuda:0', grad_fn=<NegBackward0>), tensor(-47.2044, device='cuda:0', grad_fn=<NegBackward0>), tensor(-1.3669, device='cuda:0', grad_fn=<AddBackward0>)]\n",
      "0.2781819720647483\n",
      "tensor(-95.7193, device='cuda:0', grad_fn=<NegBackward0>) [tensor(-47.7386, device='cuda:0', grad_fn=<NegBackward0>), tensor(-47.2024, device='cuda:0', grad_fn=<NegBackward0>), tensor(-1.1776, device='cuda:0', grad_fn=<AddBackward0>)]\n",
      "tensor(-95.6868, device='cuda:0', grad_fn=<NegBackward0>) [tensor(-47.7386, device='cuda:0', grad_fn=<NegBackward0>), tensor(-47.1669, device='cuda:0', grad_fn=<NegBackward0>), tensor(-1.1841, device='cuda:0', grad_fn=<AddBackward0>)]\n",
      "0.29503870164068496\n",
      "tensor(-95.6210, device='cuda:0', grad_fn=<NegBackward0>) [tensor(-47.6426, device='cuda:0', grad_fn=<NegBackward0>), tensor(-47.1144, device='cuda:0', grad_fn=<NegBackward0>), tensor(-1.3724, device='cuda:0', grad_fn=<AddBackward0>)]\n",
      "tensor(-95.5938, device='cuda:0', grad_fn=<NegBackward0>) [tensor(-47.6426, device='cuda:0', grad_fn=<NegBackward0>), tensor(-47.0919, device='cuda:0', grad_fn=<NegBackward0>), tensor(-1.3615, device='cuda:0', grad_fn=<AddBackward0>)]\n",
      "0.29213537668455103\n",
      "tensor(-95.9097, device='cuda:0', grad_fn=<NegBackward0>) [tensor(-47.8533, device='cuda:0', grad_fn=<NegBackward0>), tensor(-47.2366, device='cuda:0', grad_fn=<NegBackward0>), tensor(-1.2699, device='cuda:0', grad_fn=<AddBackward0>)]\n",
      "tensor(-95.9249, device='cuda:0', grad_fn=<NegBackward0>) [tensor(-47.8533, device='cuda:0', grad_fn=<NegBackward0>), tensor(-47.2097, device='cuda:0', grad_fn=<NegBackward0>), tensor(-1.3676, device='cuda:0', grad_fn=<AddBackward0>)]\n",
      "0.3010512520312932\n",
      "tensor(-95.5529, device='cuda:0', grad_fn=<NegBackward0>) [tensor(-47.6782, device='cuda:0', grad_fn=<NegBackward0>), tensor(-47.0001, device='cuda:0', grad_fn=<NegBackward0>), tensor(-1.3980, device='cuda:0', grad_fn=<AddBackward0>)]\n",
      "tensor(-95.5959, device='cuda:0', grad_fn=<NegBackward0>) [tensor(-47.6782, device='cuda:0', grad_fn=<NegBackward0>), tensor(-47.0425, device='cuda:0', grad_fn=<NegBackward0>), tensor(-1.3993, device='cuda:0', grad_fn=<AddBackward0>)]\n",
      "0.2945864449185452\n",
      "tensor(-95.9027, device='cuda:0', grad_fn=<NegBackward0>) [tensor(-47.8068, device='cuda:0', grad_fn=<NegBackward0>), tensor(-47.2820, device='cuda:0', grad_fn=<NegBackward0>), tensor(-1.2567, device='cuda:0', grad_fn=<AddBackward0>)]\n",
      "tensor(-95.7975, device='cuda:0', grad_fn=<NegBackward0>) [tensor(-47.8068, device='cuda:0', grad_fn=<NegBackward0>), tensor(-47.1619, device='cuda:0', grad_fn=<NegBackward0>), tensor(-1.2907, device='cuda:0', grad_fn=<AddBackward0>)]\n",
      "0.270509083631334\n",
      "tensor(-95.9214, device='cuda:0', grad_fn=<NegBackward0>) [tensor(-47.8530, device='cuda:0', grad_fn=<NegBackward0>), tensor(-47.3069, device='cuda:0', grad_fn=<NegBackward0>), tensor(-1.1414, device='cuda:0', grad_fn=<AddBackward0>)]\n",
      "tensor(-95.9688, device='cuda:0', grad_fn=<NegBackward0>) [tensor(-47.8530, device='cuda:0', grad_fn=<NegBackward0>), tensor(-47.3191, device='cuda:0', grad_fn=<NegBackward0>), tensor(-1.2180, device='cuda:0', grad_fn=<AddBackward0>)]\n"
     ]
    },
    {
     "name": "stdout",
     "output_type": "stream",
     "text": [
      "0.2967537222089147\n",
      "tensor(-96.0342, device='cuda:0', grad_fn=<NegBackward0>) [tensor(-47.8637, device='cuda:0', grad_fn=<NegBackward0>), tensor(-47.3427, device='cuda:0', grad_fn=<NegBackward0>), tensor(-1.2883, device='cuda:0', grad_fn=<AddBackward0>)]\n",
      "tensor(-95.9858, device='cuda:0', grad_fn=<NegBackward0>) [tensor(-47.8637, device='cuda:0', grad_fn=<NegBackward0>), tensor(-47.2739, device='cuda:0', grad_fn=<NegBackward0>), tensor(-1.3356, device='cuda:0', grad_fn=<AddBackward0>)]\n",
      "0.2820087409485613\n",
      "tensor(-95.8627, device='cuda:0', grad_fn=<NegBackward0>) [tensor(-47.8053, device='cuda:0', grad_fn=<NegBackward0>), tensor(-47.3093, device='cuda:0', grad_fn=<NegBackward0>), tensor(-1.1130, device='cuda:0', grad_fn=<AddBackward0>)]\n",
      "tensor(-95.8152, device='cuda:0', grad_fn=<NegBackward0>) [tensor(-47.8053, device='cuda:0', grad_fn=<NegBackward0>), tensor(-47.1849, device='cuda:0', grad_fn=<NegBackward0>), tensor(-1.2818, device='cuda:0', grad_fn=<AddBackward0>)]\n",
      "0.2827241590067835\n",
      "tensor(-95.9660, device='cuda:0', grad_fn=<NegBackward0>) [tensor(-47.8472, device='cuda:0', grad_fn=<NegBackward0>), tensor(-47.3423, device='cuda:0', grad_fn=<NegBackward0>), tensor(-1.1739, device='cuda:0', grad_fn=<AddBackward0>)]\n",
      "tensor(-96.0091, device='cuda:0', grad_fn=<NegBackward0>) [tensor(-47.8472, device='cuda:0', grad_fn=<NegBackward0>), tensor(-47.3854, device='cuda:0', grad_fn=<NegBackward0>), tensor(-1.1739, device='cuda:0', grad_fn=<AddBackward0>)]\n",
      "0.2885020219058713\n",
      "tensor(-95.9701, device='cuda:0', grad_fn=<NegBackward0>) [tensor(-47.8537, device='cuda:0', grad_fn=<NegBackward0>), tensor(-47.2843, device='cuda:0', grad_fn=<NegBackward0>), tensor(-1.2980, device='cuda:0', grad_fn=<AddBackward0>)]\n",
      "tensor(-95.9387, device='cuda:0', grad_fn=<NegBackward0>) [tensor(-47.8537, device='cuda:0', grad_fn=<NegBackward0>), tensor(-47.2710, device='cuda:0', grad_fn=<NegBackward0>), tensor(-1.2571, device='cuda:0', grad_fn=<AddBackward0>)]\n",
      "0.2881727252598044\n",
      "tensor(-96.0242, device='cuda:0', grad_fn=<NegBackward0>) [tensor(-47.9047, device='cuda:0', grad_fn=<NegBackward0>), tensor(-47.2996, device='cuda:0', grad_fn=<NegBackward0>), tensor(-1.2702, device='cuda:0', grad_fn=<AddBackward0>)]\n",
      "tensor(-96.0675, device='cuda:0', grad_fn=<NegBackward0>) [tensor(-47.9047, device='cuda:0', grad_fn=<NegBackward0>), tensor(-47.3669, device='cuda:0', grad_fn=<NegBackward0>), tensor(-1.2163, device='cuda:0', grad_fn=<AddBackward0>)]\n",
      "0.28303868380353864\n",
      "tensor(-96.0682, device='cuda:0', grad_fn=<NegBackward0>) [tensor(-47.8890, device='cuda:0', grad_fn=<NegBackward0>), tensor(-47.4265, device='cuda:0', grad_fn=<NegBackward0>), tensor(-1.1227, device='cuda:0', grad_fn=<AddBackward0>)]\n",
      "tensor(-96.0051, device='cuda:0', grad_fn=<NegBackward0>) [tensor(-47.8890, device='cuda:0', grad_fn=<NegBackward0>), tensor(-47.3442, device='cuda:0', grad_fn=<NegBackward0>), tensor(-1.1638, device='cuda:0', grad_fn=<AddBackward0>)]\n",
      "0.29821449303177927\n",
      "tensor(-96.1691, device='cuda:0', grad_fn=<NegBackward0>) [tensor(-47.9639, device='cuda:0', grad_fn=<NegBackward0>), tensor(-47.3662, device='cuda:0', grad_fn=<NegBackward0>), tensor(-1.3141, device='cuda:0', grad_fn=<AddBackward0>)]\n",
      "tensor(-96.1863, device='cuda:0', grad_fn=<NegBackward0>) [tensor(-47.9639, device='cuda:0', grad_fn=<NegBackward0>), tensor(-47.3908, device='cuda:0', grad_fn=<NegBackward0>), tensor(-1.2971, device='cuda:0', grad_fn=<AddBackward0>)]\n",
      "0.2711044691811114\n",
      "tensor(-96.0509, device='cuda:0', grad_fn=<NegBackward0>) [tensor(-47.9023, device='cuda:0', grad_fn=<NegBackward0>), tensor(-47.3805, device='cuda:0', grad_fn=<NegBackward0>), tensor(-1.1557, device='cuda:0', grad_fn=<AddBackward0>)]\n",
      "tensor(-96.0879, device='cuda:0', grad_fn=<NegBackward0>) [tensor(-47.9023, device='cuda:0', grad_fn=<NegBackward0>), tensor(-47.4387, device='cuda:0', grad_fn=<NegBackward0>), tensor(-1.1106, device='cuda:0', grad_fn=<AddBackward0>)]\n",
      "0.26940596946577144\n",
      "tensor(-96.0164, device='cuda:0', grad_fn=<NegBackward0>) [tensor(-47.9196, device='cuda:0', grad_fn=<NegBackward0>), tensor(-47.2799, device='cuda:0', grad_fn=<NegBackward0>), tensor(-1.2634, device='cuda:0', grad_fn=<AddBackward0>)]\n",
      "tensor(-96.0371, device='cuda:0', grad_fn=<NegBackward0>) [tensor(-47.9196, device='cuda:0', grad_fn=<NegBackward0>), tensor(-47.3818, device='cuda:0', grad_fn=<NegBackward0>), tensor(-1.0870, device='cuda:0', grad_fn=<AddBackward0>)]\n",
      "0.27963846300246303\n",
      "tensor(-95.8670, device='cuda:0', grad_fn=<NegBackward0>) [tensor(-47.8101, device='cuda:0', grad_fn=<NegBackward0>), tensor(-47.2584, device='cuda:0', grad_fn=<NegBackward0>), tensor(-1.2220, device='cuda:0', grad_fn=<AddBackward0>)]\n",
      "tensor(-95.9515, device='cuda:0', grad_fn=<NegBackward0>) [tensor(-47.8101, device='cuda:0', grad_fn=<NegBackward0>), tensor(-47.3665, device='cuda:0', grad_fn=<NegBackward0>), tensor(-1.1705, device='cuda:0', grad_fn=<AddBackward0>)]\n",
      "0.28774925382799416\n",
      "tensor(-96.1102, device='cuda:0', grad_fn=<NegBackward0>) [tensor(-47.9093, device='cuda:0', grad_fn=<NegBackward0>), tensor(-47.3293, device='cuda:0', grad_fn=<NegBackward0>), tensor(-1.3906, device='cuda:0', grad_fn=<AddBackward0>)]\n",
      "tensor(-96.0319, device='cuda:0', grad_fn=<NegBackward0>) [tensor(-47.9093, device='cuda:0', grad_fn=<NegBackward0>), tensor(-47.3258, device='cuda:0', grad_fn=<NegBackward0>), tensor(-1.2184, device='cuda:0', grad_fn=<AddBackward0>)]\n",
      "0.29203276485846985\n",
      "tensor(-96.0305, device='cuda:0', grad_fn=<NegBackward0>) [tensor(-47.8870, device='cuda:0', grad_fn=<NegBackward0>), tensor(-47.2844, device='cuda:0', grad_fn=<NegBackward0>), tensor(-1.3611, device='cuda:0', grad_fn=<AddBackward0>)]\n",
      "tensor(-96.0492, device='cuda:0', grad_fn=<NegBackward0>) [tensor(-47.8870, device='cuda:0', grad_fn=<NegBackward0>), tensor(-47.3344, device='cuda:0', grad_fn=<NegBackward0>), tensor(-1.2884, device='cuda:0', grad_fn=<AddBackward0>)]\n",
      "0.2836527408141955\n",
      "tensor(-96.2173, device='cuda:0', grad_fn=<NegBackward0>) [tensor(-47.9654, device='cuda:0', grad_fn=<NegBackward0>), tensor(-47.4594, device='cuda:0', grad_fn=<NegBackward0>), tensor(-1.2089, device='cuda:0', grad_fn=<AddBackward0>)]\n",
      "tensor(-96.1128, device='cuda:0', grad_fn=<NegBackward0>) [tensor(-47.9654, device='cuda:0', grad_fn=<NegBackward0>), tensor(-47.3240, device='cuda:0', grad_fn=<NegBackward0>), tensor(-1.2783, device='cuda:0', grad_fn=<AddBackward0>)]\n",
      "0.2742594249869209\n",
      "tensor(-95.9709, device='cuda:0', grad_fn=<NegBackward0>) [tensor(-47.8769, device='cuda:0', grad_fn=<NegBackward0>), tensor(-47.3321, device='cuda:0', grad_fn=<NegBackward0>), tensor(-1.1421, device='cuda:0', grad_fn=<AddBackward0>)]\n",
      "tensor(-95.9613, device='cuda:0', grad_fn=<NegBackward0>) [tensor(-47.8769, device='cuda:0', grad_fn=<NegBackward0>), tensor(-47.3496, device='cuda:0', grad_fn=<NegBackward0>), tensor(-1.0850, device='cuda:0', grad_fn=<AddBackward0>)]\n",
      "0.28175371575555985\n",
      "tensor(-96.2483, device='cuda:0', grad_fn=<NegBackward0>) [tensor(-47.9964, device='cuda:0', grad_fn=<NegBackward0>), tensor(-47.4564, device='cuda:0', grad_fn=<NegBackward0>), tensor(-1.2156, device='cuda:0', grad_fn=<AddBackward0>)]\n",
      "tensor(-96.2652, device='cuda:0', grad_fn=<NegBackward0>) [tensor(-47.9964, device='cuda:0', grad_fn=<NegBackward0>), tensor(-47.4715, device='cuda:0', grad_fn=<NegBackward0>), tensor(-1.2196, device='cuda:0', grad_fn=<AddBackward0>)]\n",
      "0.2827477302332953\n",
      "tensor(-95.7884, device='cuda:0', grad_fn=<NegBackward0>) [tensor(-47.7660, device='cuda:0', grad_fn=<NegBackward0>), tensor(-47.2117, device='cuda:0', grad_fn=<NegBackward0>), tensor(-1.2496, device='cuda:0', grad_fn=<AddBackward0>)]\n",
      "tensor(-95.7525, device='cuda:0', grad_fn=<NegBackward0>) [tensor(-47.7660, device='cuda:0', grad_fn=<NegBackward0>), tensor(-47.1695, device='cuda:0', grad_fn=<NegBackward0>), tensor(-1.2637, device='cuda:0', grad_fn=<AddBackward0>)]\n",
      "0.28104528865178063\n",
      "tensor(-95.8514, device='cuda:0', grad_fn=<NegBackward0>) [tensor(-47.8489, device='cuda:0', grad_fn=<NegBackward0>), tensor(-47.2045, device='cuda:0', grad_fn=<NegBackward0>), tensor(-1.2209, device='cuda:0', grad_fn=<AddBackward0>)]\n",
      "tensor(-95.9276, device='cuda:0', grad_fn=<NegBackward0>) [tensor(-47.8489, device='cuda:0', grad_fn=<NegBackward0>), tensor(-47.3033, device='cuda:0', grad_fn=<NegBackward0>), tensor(-1.1714, device='cuda:0', grad_fn=<AddBackward0>)]\n"
     ]
    },
    {
     "name": "stdout",
     "output_type": "stream",
     "text": [
      "0.2939041462809792\n",
      "tensor(-95.9615, device='cuda:0', grad_fn=<NegBackward0>) [tensor(-47.8393, device='cuda:0', grad_fn=<NegBackward0>), tensor(-47.2667, device='cuda:0', grad_fn=<NegBackward0>), tensor(-1.3525, device='cuda:0', grad_fn=<AddBackward0>)]\n",
      "tensor(-95.9469, device='cuda:0', grad_fn=<NegBackward0>) [tensor(-47.8393, device='cuda:0', grad_fn=<NegBackward0>), tensor(-47.2865, device='cuda:0', grad_fn=<NegBackward0>), tensor(-1.2731, device='cuda:0', grad_fn=<AddBackward0>)]\n",
      "0.2944145546874569\n",
      "tensor(-95.7784, device='cuda:0', grad_fn=<NegBackward0>) [tensor(-47.7559, device='cuda:0', grad_fn=<NegBackward0>), tensor(-47.2355, device='cuda:0', grad_fn=<NegBackward0>), tensor(-1.1966, device='cuda:0', grad_fn=<AddBackward0>)]\n",
      "tensor(-95.6534, device='cuda:0', grad_fn=<NegBackward0>) [tensor(-47.7559, device='cuda:0', grad_fn=<NegBackward0>), tensor(-47.0161, device='cuda:0', grad_fn=<NegBackward0>), tensor(-1.4141, device='cuda:0', grad_fn=<AddBackward0>)]\n",
      "0.27118962073535363\n",
      "tensor(-95.4709, device='cuda:0', grad_fn=<NegBackward0>) [tensor(-47.6503, device='cuda:0', grad_fn=<NegBackward0>), tensor(-47.1102, device='cuda:0', grad_fn=<NegBackward0>), tensor(-1.0349, device='cuda:0', grad_fn=<AddBackward0>)]\n",
      "tensor(-95.6177, device='cuda:0', grad_fn=<NegBackward0>) [tensor(-47.6503, device='cuda:0', grad_fn=<NegBackward0>), tensor(-47.2043, device='cuda:0', grad_fn=<NegBackward0>), tensor(-1.1448, device='cuda:0', grad_fn=<AddBackward0>)]\n",
      "0.2945028600142083\n",
      "tensor(-95.7932, device='cuda:0', grad_fn=<NegBackward0>) [tensor(-47.7648, device='cuda:0', grad_fn=<NegBackward0>), tensor(-47.2181, device='cuda:0', grad_fn=<NegBackward0>), tensor(-1.2486, device='cuda:0', grad_fn=<AddBackward0>)]\n",
      "tensor(-95.7523, device='cuda:0', grad_fn=<NegBackward0>) [tensor(-47.7648, device='cuda:0', grad_fn=<NegBackward0>), tensor(-47.1493, device='cuda:0', grad_fn=<NegBackward0>), tensor(-1.3120, device='cuda:0', grad_fn=<AddBackward0>)]\n",
      "0.27230642482342315\n",
      "tensor(-95.9852, device='cuda:0', grad_fn=<NegBackward0>) [tensor(-47.8385, device='cuda:0', grad_fn=<NegBackward0>), tensor(-47.4305, device='cuda:0', grad_fn=<NegBackward0>), tensor(-1.0467, device='cuda:0', grad_fn=<AddBackward0>)]\n",
      "tensor(-95.8967, device='cuda:0', grad_fn=<NegBackward0>) [tensor(-47.8385, device='cuda:0', grad_fn=<NegBackward0>), tensor(-47.3517, device='cuda:0', grad_fn=<NegBackward0>), tensor(-1.0270, device='cuda:0', grad_fn=<AddBackward0>)]\n",
      "0.2646682597126911\n",
      "tensor(-95.9618, device='cuda:0', grad_fn=<NegBackward0>) [tensor(-47.8684, device='cuda:0', grad_fn=<NegBackward0>), tensor(-47.3652, device='cuda:0', grad_fn=<NegBackward0>), tensor(-1.0714, device='cuda:0', grad_fn=<AddBackward0>)]\n",
      "tensor(-96.0098, device='cuda:0', grad_fn=<NegBackward0>) [tensor(-47.8684, device='cuda:0', grad_fn=<NegBackward0>), tensor(-47.4507, device='cuda:0', grad_fn=<NegBackward0>), tensor(-0.9952, device='cuda:0', grad_fn=<AddBackward0>)]\n",
      "0.2897146788076322\n",
      "tensor(-96.3828, device='cuda:0', grad_fn=<NegBackward0>) [tensor(-48.0200, device='cuda:0', grad_fn=<NegBackward0>), tensor(-47.5214, device='cuda:0', grad_fn=<NegBackward0>), tensor(-1.3196, device='cuda:0', grad_fn=<AddBackward0>)]\n",
      "tensor(-96.3300, device='cuda:0', grad_fn=<NegBackward0>) [tensor(-48.0200, device='cuda:0', grad_fn=<NegBackward0>), tensor(-47.4674, device='cuda:0', grad_fn=<NegBackward0>), tensor(-1.3224, device='cuda:0', grad_fn=<AddBackward0>)]\n",
      "0.29206094294871804\n",
      "tensor(-96.2873, device='cuda:0', grad_fn=<NegBackward0>) [tensor(-47.9921, device='cuda:0', grad_fn=<NegBackward0>), tensor(-47.4734, device='cuda:0', grad_fn=<NegBackward0>), tensor(-1.2745, device='cuda:0', grad_fn=<AddBackward0>)]\n",
      "tensor(-96.2437, device='cuda:0', grad_fn=<NegBackward0>) [tensor(-47.9921, device='cuda:0', grad_fn=<NegBackward0>), tensor(-47.4384, device='cuda:0', grad_fn=<NegBackward0>), tensor(-1.2550, device='cuda:0', grad_fn=<AddBackward0>)]\n",
      "0.27073464498331606\n",
      "tensor(-96.3670, device='cuda:0', grad_fn=<NegBackward0>) [tensor(-48.0424, device='cuda:0', grad_fn=<NegBackward0>), tensor(-47.6003, device='cuda:0', grad_fn=<NegBackward0>), tensor(-1.0634, device='cuda:0', grad_fn=<AddBackward0>)]\n",
      "tensor(-96.3487, device='cuda:0', grad_fn=<NegBackward0>) [tensor(-48.0424, device='cuda:0', grad_fn=<NegBackward0>), tensor(-47.6017, device='cuda:0', grad_fn=<NegBackward0>), tensor(-1.0231, device='cuda:0', grad_fn=<AddBackward0>)]\n",
      "0.28380601144091633\n",
      "tensor(-96.3082, device='cuda:0', grad_fn=<NegBackward0>) [tensor(-48.0485, device='cuda:0', grad_fn=<NegBackward0>), tensor(-47.4935, device='cuda:0', grad_fn=<NegBackward0>), tensor(-1.1514, device='cuda:0', grad_fn=<AddBackward0>)]\n",
      "tensor(-96.3424, device='cuda:0', grad_fn=<NegBackward0>) [tensor(-48.0485, device='cuda:0', grad_fn=<NegBackward0>), tensor(-47.5070, device='cuda:0', grad_fn=<NegBackward0>), tensor(-1.1966, device='cuda:0', grad_fn=<AddBackward0>)]\n",
      "0.3004527919851885\n",
      "tensor(-96.3740, device='cuda:0', grad_fn=<NegBackward0>) [tensor(-48.0618, device='cuda:0', grad_fn=<NegBackward0>), tensor(-47.4898, device='cuda:0', grad_fn=<NegBackward0>), tensor(-1.2758, device='cuda:0', grad_fn=<AddBackward0>)]\n",
      "tensor(-96.4064, device='cuda:0', grad_fn=<NegBackward0>) [tensor(-48.0618, device='cuda:0', grad_fn=<NegBackward0>), tensor(-47.4717, device='cuda:0', grad_fn=<NegBackward0>), tensor(-1.3938, device='cuda:0', grad_fn=<AddBackward0>)]\n",
      "0.2878010077606168\n",
      "tensor(-96.3956, device='cuda:0', grad_fn=<NegBackward0>) [tensor(-48.0586, device='cuda:0', grad_fn=<NegBackward0>), tensor(-47.5036, device='cuda:0', grad_fn=<NegBackward0>), tensor(-1.3011, device='cuda:0', grad_fn=<AddBackward0>)]\n",
      "tensor(-96.3824, device='cuda:0', grad_fn=<NegBackward0>) [tensor(-48.0586, device='cuda:0', grad_fn=<NegBackward0>), tensor(-47.5200, device='cuda:0', grad_fn=<NegBackward0>), tensor(-1.2341, device='cuda:0', grad_fn=<AddBackward0>)]\n",
      "0.2874125598709472\n",
      "tensor(-96.3868, device='cuda:0', grad_fn=<NegBackward0>) [tensor(-48.0852, device='cuda:0', grad_fn=<NegBackward0>), tensor(-47.5293, device='cuda:0', grad_fn=<NegBackward0>), tensor(-1.1649, device='cuda:0', grad_fn=<AddBackward0>)]\n",
      "tensor(-96.4443, device='cuda:0', grad_fn=<NegBackward0>) [tensor(-48.0852, device='cuda:0', grad_fn=<NegBackward0>), tensor(-47.5874, device='cuda:0', grad_fn=<NegBackward0>), tensor(-1.1635, device='cuda:0', grad_fn=<AddBackward0>)]\n",
      "0.30105127999536163\n",
      "tensor(-96.4395, device='cuda:0', grad_fn=<NegBackward0>) [tensor(-48.0907, device='cuda:0', grad_fn=<NegBackward0>), tensor(-47.5399, device='cuda:0', grad_fn=<NegBackward0>), tensor(-1.2453, device='cuda:0', grad_fn=<AddBackward0>)]\n",
      "tensor(-96.3874, device='cuda:0', grad_fn=<NegBackward0>) [tensor(-48.0907, device='cuda:0', grad_fn=<NegBackward0>), tensor(-47.4806, device='cuda:0', grad_fn=<NegBackward0>), tensor(-1.2617, device='cuda:0', grad_fn=<AddBackward0>)]\n",
      "0.28803568338406055\n",
      "tensor(-96.4679, device='cuda:0', grad_fn=<NegBackward0>) [tensor(-48.1150, device='cuda:0', grad_fn=<NegBackward0>), tensor(-47.5596, device='cuda:0', grad_fn=<NegBackward0>), tensor(-1.2106, device='cuda:0', grad_fn=<AddBackward0>)]\n",
      "tensor(-96.4681, device='cuda:0', grad_fn=<NegBackward0>) [tensor(-48.1150, device='cuda:0', grad_fn=<NegBackward0>), tensor(-47.5458, device='cuda:0', grad_fn=<NegBackward0>), tensor(-1.2417, device='cuda:0', grad_fn=<AddBackward0>)]\n",
      "0.29934867564113593\n",
      "tensor(-96.4335, device='cuda:0', grad_fn=<NegBackward0>) [tensor(-48.0902, device='cuda:0', grad_fn=<NegBackward0>), tensor(-47.4889, device='cuda:0', grad_fn=<NegBackward0>), tensor(-1.3499, device='cuda:0', grad_fn=<AddBackward0>)]\n",
      "tensor(-96.4256, device='cuda:0', grad_fn=<NegBackward0>) [tensor(-48.0902, device='cuda:0', grad_fn=<NegBackward0>), tensor(-47.5242, device='cuda:0', grad_fn=<NegBackward0>), tensor(-1.2506, device='cuda:0', grad_fn=<AddBackward0>)]\n",
      "0.28228986915259124\n",
      "tensor(-96.4184, device='cuda:0', grad_fn=<NegBackward0>) [tensor(-48.0876, device='cuda:0', grad_fn=<NegBackward0>), tensor(-47.5551, device='cuda:0', grad_fn=<NegBackward0>), tensor(-1.1721, device='cuda:0', grad_fn=<AddBackward0>)]\n",
      "tensor(-96.4376, device='cuda:0', grad_fn=<NegBackward0>) [tensor(-48.0876, device='cuda:0', grad_fn=<NegBackward0>), tensor(-47.5479, device='cuda:0', grad_fn=<NegBackward0>), tensor(-1.2303, device='cuda:0', grad_fn=<AddBackward0>)]\n"
     ]
    },
    {
     "name": "stdout",
     "output_type": "stream",
     "text": [
      "0.24941383499707012\n",
      "tensor(-96.2694, device='cuda:0', grad_fn=<NegBackward0>) [tensor(-47.9905, device='cuda:0', grad_fn=<NegBackward0>), tensor(-47.6425, device='cuda:0', grad_fn=<NegBackward0>), tensor(-0.8897, device='cuda:0', grad_fn=<AddBackward0>)]\n",
      "tensor(-96.1293, device='cuda:0', grad_fn=<NegBackward0>) [tensor(-47.9905, device='cuda:0', grad_fn=<NegBackward0>), tensor(-47.4745, device='cuda:0', grad_fn=<NegBackward0>), tensor(-0.9431, device='cuda:0', grad_fn=<AddBackward0>)]\n",
      "0.31385445215145064\n",
      "tensor(-95.9222, device='cuda:0', grad_fn=<NegBackward0>) [tensor(-47.8089, device='cuda:0', grad_fn=<NegBackward0>), tensor(-47.2286, device='cuda:0', grad_fn=<NegBackward0>), tensor(-1.4223, device='cuda:0', grad_fn=<AddBackward0>)]\n",
      "tensor(-95.9810, device='cuda:0', grad_fn=<NegBackward0>) [tensor(-47.8089, device='cuda:0', grad_fn=<NegBackward0>), tensor(-47.2958, device='cuda:0', grad_fn=<NegBackward0>), tensor(-1.4018, device='cuda:0', grad_fn=<AddBackward0>)]\n",
      "0.28982222344031455\n",
      "tensor(-96.2181, device='cuda:0', grad_fn=<NegBackward0>) [tensor(-47.9729, device='cuda:0', grad_fn=<NegBackward0>), tensor(-47.4687, device='cuda:0', grad_fn=<NegBackward0>), tensor(-1.1740, device='cuda:0', grad_fn=<AddBackward0>)]\n",
      "tensor(-96.1711, device='cuda:0', grad_fn=<NegBackward0>) [tensor(-47.9729, device='cuda:0', grad_fn=<NegBackward0>), tensor(-47.4374, device='cuda:0', grad_fn=<NegBackward0>), tensor(-1.1400, device='cuda:0', grad_fn=<AddBackward0>)]\n",
      "0.2853704924169544\n",
      "tensor(-96.3564, device='cuda:0', grad_fn=<NegBackward0>) [tensor(-48.0648, device='cuda:0', grad_fn=<NegBackward0>), tensor(-47.5115, device='cuda:0', grad_fn=<NegBackward0>), tensor(-1.1817, device='cuda:0', grad_fn=<AddBackward0>)]\n",
      "tensor(-96.3794, device='cuda:0', grad_fn=<NegBackward0>) [tensor(-48.0648, device='cuda:0', grad_fn=<NegBackward0>), tensor(-47.5393, device='cuda:0', grad_fn=<NegBackward0>), tensor(-1.1713, device='cuda:0', grad_fn=<AddBackward0>)]\n",
      "0.28856968750158973\n",
      "tensor(-96.3303, device='cuda:0', grad_fn=<NegBackward0>) [tensor(-48.0102, device='cuda:0', grad_fn=<NegBackward0>), tensor(-47.5444, device='cuda:0', grad_fn=<NegBackward0>), tensor(-1.1720, device='cuda:0', grad_fn=<AddBackward0>)]\n",
      "tensor(-96.2497, device='cuda:0', grad_fn=<NegBackward0>) [tensor(-48.0102, device='cuda:0', grad_fn=<NegBackward0>), tensor(-47.4582, device='cuda:0', grad_fn=<NegBackward0>), tensor(-1.1843, device='cuda:0', grad_fn=<AddBackward0>)]\n",
      "0.2625390472541356\n",
      "tensor(-96.4221, device='cuda:0', grad_fn=<NegBackward0>) [tensor(-48.1028, device='cuda:0', grad_fn=<NegBackward0>), tensor(-47.6557, device='cuda:0', grad_fn=<NegBackward0>), tensor(-0.9418, device='cuda:0', grad_fn=<AddBackward0>)]\n",
      "tensor(-96.4153, device='cuda:0', grad_fn=<NegBackward0>) [tensor(-48.1028, device='cuda:0', grad_fn=<NegBackward0>), tensor(-47.6575, device='cuda:0', grad_fn=<NegBackward0>), tensor(-0.9253, device='cuda:0', grad_fn=<AddBackward0>)]\n",
      "0.280656409334037\n",
      "tensor(-96.7310, device='cuda:0', grad_fn=<NegBackward0>) [tensor(-48.2207, device='cuda:0', grad_fn=<NegBackward0>), tensor(-47.7468, device='cuda:0', grad_fn=<NegBackward0>), tensor(-1.1458, device='cuda:0', grad_fn=<AddBackward0>)]\n",
      "tensor(-96.7118, device='cuda:0', grad_fn=<NegBackward0>) [tensor(-48.2207, device='cuda:0', grad_fn=<NegBackward0>), tensor(-47.7135, device='cuda:0', grad_fn=<NegBackward0>), tensor(-1.1763, device='cuda:0', grad_fn=<AddBackward0>)]\n",
      "0.2686758122732337\n",
      "tensor(-96.2280, device='cuda:0', grad_fn=<NegBackward0>) [tensor(-48.0159, device='cuda:0', grad_fn=<NegBackward0>), tensor(-47.5095, device='cuda:0', grad_fn=<NegBackward0>), tensor(-1.0192, device='cuda:0', grad_fn=<AddBackward0>)]\n",
      "tensor(-96.2759, device='cuda:0', grad_fn=<NegBackward0>) [tensor(-48.0159, device='cuda:0', grad_fn=<NegBackward0>), tensor(-47.5301, device='cuda:0', grad_fn=<NegBackward0>), tensor(-1.0750, device='cuda:0', grad_fn=<AddBackward0>)]\n",
      "0.2779378308005003\n",
      "tensor(-96.3516, device='cuda:0', grad_fn=<NegBackward0>) [tensor(-48.0223, device='cuda:0', grad_fn=<NegBackward0>), tensor(-47.5747, device='cuda:0', grad_fn=<NegBackward0>), tensor(-1.1269, device='cuda:0', grad_fn=<AddBackward0>)]\n",
      "tensor(-96.2870, device='cuda:0', grad_fn=<NegBackward0>) [tensor(-48.0223, device='cuda:0', grad_fn=<NegBackward0>), tensor(-47.5047, device='cuda:0', grad_fn=<NegBackward0>), tensor(-1.1383, device='cuda:0', grad_fn=<AddBackward0>)]\n",
      "0.30318785595891096\n",
      "tensor(-96.5581, device='cuda:0', grad_fn=<NegBackward0>) [tensor(-48.1238, device='cuda:0', grad_fn=<NegBackward0>), tensor(-47.6073, device='cuda:0', grad_fn=<NegBackward0>), tensor(-1.2864, device='cuda:0', grad_fn=<AddBackward0>)]\n",
      "tensor(-96.5859, device='cuda:0', grad_fn=<NegBackward0>) [tensor(-48.1238, device='cuda:0', grad_fn=<NegBackward0>), tensor(-47.6330, device='cuda:0', grad_fn=<NegBackward0>), tensor(-1.2913, device='cuda:0', grad_fn=<AddBackward0>)]\n",
      "0.27022575704400653\n",
      "tensor(-96.4953, device='cuda:0', grad_fn=<NegBackward0>) [tensor(-48.1074, device='cuda:0', grad_fn=<NegBackward0>), tensor(-47.6482, device='cuda:0', grad_fn=<NegBackward0>), tensor(-1.0954, device='cuda:0', grad_fn=<AddBackward0>)]\n",
      "tensor(-96.4345, device='cuda:0', grad_fn=<NegBackward0>) [tensor(-48.1074, device='cuda:0', grad_fn=<NegBackward0>), tensor(-47.5940, device='cuda:0', grad_fn=<NegBackward0>), tensor(-1.0816, device='cuda:0', grad_fn=<AddBackward0>)]\n",
      "0.3166139436465127\n",
      "tensor(-96.4260, device='cuda:0', grad_fn=<NegBackward0>) [tensor(-48.1260, device='cuda:0', grad_fn=<NegBackward0>), tensor(-47.3992, device='cuda:0', grad_fn=<NegBackward0>), tensor(-1.4616, device='cuda:0', grad_fn=<AddBackward0>)]\n",
      "tensor(-96.5106, device='cuda:0', grad_fn=<NegBackward0>) [tensor(-48.1260, device='cuda:0', grad_fn=<NegBackward0>), tensor(-47.4850, device='cuda:0', grad_fn=<NegBackward0>), tensor(-1.4585, device='cuda:0', grad_fn=<AddBackward0>)]\n",
      "0.2965906785071173\n",
      "tensor(-96.5821, device='cuda:0', grad_fn=<NegBackward0>) [tensor(-48.1437, device='cuda:0', grad_fn=<NegBackward0>), tensor(-47.6033, device='cuda:0', grad_fn=<NegBackward0>), tensor(-1.3050, device='cuda:0', grad_fn=<AddBackward0>)]\n",
      "tensor(-96.5570, device='cuda:0', grad_fn=<NegBackward0>) [tensor(-48.1437, device='cuda:0', grad_fn=<NegBackward0>), tensor(-47.6091, device='cuda:0', grad_fn=<NegBackward0>), tensor(-1.2349, device='cuda:0', grad_fn=<AddBackward0>)]\n",
      "0.3017615695884283\n",
      "tensor(-96.7929, device='cuda:0', grad_fn=<NegBackward0>) [tensor(-48.2542, device='cuda:0', grad_fn=<NegBackward0>), tensor(-47.7004, device='cuda:0', grad_fn=<NegBackward0>), tensor(-1.3125, device='cuda:0', grad_fn=<AddBackward0>)]\n",
      "tensor(-96.7334, device='cuda:0', grad_fn=<NegBackward0>) [tensor(-48.2542, device='cuda:0', grad_fn=<NegBackward0>), tensor(-47.6383, device='cuda:0', grad_fn=<NegBackward0>), tensor(-1.3185, device='cuda:0', grad_fn=<AddBackward0>)]\n",
      "0.2890010116088742\n",
      "tensor(-96.6890, device='cuda:0', grad_fn=<NegBackward0>) [tensor(-48.2091, device='cuda:0', grad_fn=<NegBackward0>), tensor(-47.6798, device='cuda:0', grad_fn=<NegBackward0>), tensor(-1.2258, device='cuda:0', grad_fn=<AddBackward0>)]\n",
      "tensor(-96.6356, device='cuda:0', grad_fn=<NegBackward0>) [tensor(-48.2091, device='cuda:0', grad_fn=<NegBackward0>), tensor(-47.6637, device='cuda:0', grad_fn=<NegBackward0>), tensor(-1.1444, device='cuda:0', grad_fn=<AddBackward0>)]\n",
      "0.29905961842127343\n",
      "tensor(-96.5993, device='cuda:0', grad_fn=<NegBackward0>) [tensor(-48.1672, device='cuda:0', grad_fn=<NegBackward0>), tensor(-47.6308, device='cuda:0', grad_fn=<NegBackward0>), tensor(-1.2286, device='cuda:0', grad_fn=<AddBackward0>)]\n",
      "tensor(-96.5702, device='cuda:0', grad_fn=<NegBackward0>) [tensor(-48.1672, device='cuda:0', grad_fn=<NegBackward0>), tensor(-47.5769, device='cuda:0', grad_fn=<NegBackward0>), tensor(-1.2845, device='cuda:0', grad_fn=<AddBackward0>)]\n",
      "0.295394026621932\n",
      "tensor(-96.5549, device='cuda:0', grad_fn=<NegBackward0>) [tensor(-48.1806, device='cuda:0', grad_fn=<NegBackward0>), tensor(-47.5282, device='cuda:0', grad_fn=<NegBackward0>), tensor(-1.3306, device='cuda:0', grad_fn=<AddBackward0>)]\n",
      "tensor(-96.6302, device='cuda:0', grad_fn=<NegBackward0>) [tensor(-48.1806, device='cuda:0', grad_fn=<NegBackward0>), tensor(-47.6513, device='cuda:0', grad_fn=<NegBackward0>), tensor(-1.2218, device='cuda:0', grad_fn=<AddBackward0>)]\n"
     ]
    },
    {
     "name": "stdout",
     "output_type": "stream",
     "text": [
      "0.2906962891349624\n",
      "tensor(-96.8345, device='cuda:0', grad_fn=<NegBackward0>) [tensor(-48.3122, device='cuda:0', grad_fn=<NegBackward0>), tensor(-47.7365, device='cuda:0', grad_fn=<NegBackward0>), tensor(-1.1942, device='cuda:0', grad_fn=<AddBackward0>)]\n",
      "tensor(-96.8710, device='cuda:0', grad_fn=<NegBackward0>) [tensor(-48.3122, device='cuda:0', grad_fn=<NegBackward0>), tensor(-47.7714, device='cuda:0', grad_fn=<NegBackward0>), tensor(-1.1978, device='cuda:0', grad_fn=<AddBackward0>)]\n",
      "0.26826760236092934\n",
      "tensor(-96.7694, device='cuda:0', grad_fn=<NegBackward0>) [tensor(-48.2655, device='cuda:0', grad_fn=<NegBackward0>), tensor(-47.7859, device='cuda:0', grad_fn=<NegBackward0>), tensor(-1.0503, device='cuda:0', grad_fn=<AddBackward0>)]\n",
      "tensor(-96.7826, device='cuda:0', grad_fn=<NegBackward0>) [tensor(-48.2655, device='cuda:0', grad_fn=<NegBackward0>), tensor(-47.8217, device='cuda:0', grad_fn=<NegBackward0>), tensor(-1.0045, device='cuda:0', grad_fn=<AddBackward0>)]\n",
      "0.2966649491001907\n",
      "tensor(-96.6264, device='cuda:0', grad_fn=<NegBackward0>) [tensor(-48.1578, device='cuda:0', grad_fn=<NegBackward0>), tensor(-47.6398, device='cuda:0', grad_fn=<NegBackward0>), tensor(-1.2908, device='cuda:0', grad_fn=<AddBackward0>)]\n",
      "tensor(-96.6113, device='cuda:0', grad_fn=<NegBackward0>) [tensor(-48.1578, device='cuda:0', grad_fn=<NegBackward0>), tensor(-47.6397, device='cuda:0', grad_fn=<NegBackward0>), tensor(-1.2566, device='cuda:0', grad_fn=<AddBackward0>)]\n",
      "0.3022134362659815\n",
      "tensor(-96.6971, device='cuda:0', grad_fn=<NegBackward0>) [tensor(-48.2457, device='cuda:0', grad_fn=<NegBackward0>), tensor(-47.6323, device='cuda:0', grad_fn=<NegBackward0>), tensor(-1.2686, device='cuda:0', grad_fn=<AddBackward0>)]\n",
      "tensor(-96.8068, device='cuda:0', grad_fn=<NegBackward0>) [tensor(-48.2457, device='cuda:0', grad_fn=<NegBackward0>), tensor(-47.6965, device='cuda:0', grad_fn=<NegBackward0>), tensor(-1.3741, device='cuda:0', grad_fn=<AddBackward0>)]\n",
      "0.2768834127541212\n",
      "tensor(-96.5283, device='cuda:0', grad_fn=<NegBackward0>) [tensor(-48.1488, device='cuda:0', grad_fn=<NegBackward0>), tensor(-47.6554, device='cuda:0', grad_fn=<NegBackward0>), tensor(-1.0629, device='cuda:0', grad_fn=<AddBackward0>)]\n",
      "tensor(-96.5320, device='cuda:0', grad_fn=<NegBackward0>) [tensor(-48.1488, device='cuda:0', grad_fn=<NegBackward0>), tensor(-47.6372, device='cuda:0', grad_fn=<NegBackward0>), tensor(-1.1085, device='cuda:0', grad_fn=<AddBackward0>)]\n",
      "0.2770981343212983\n",
      "tensor(-96.6652, device='cuda:0', grad_fn=<NegBackward0>) [tensor(-48.1842, device='cuda:0', grad_fn=<NegBackward0>), tensor(-47.7553, device='cuda:0', grad_fn=<NegBackward0>), tensor(-1.0663, device='cuda:0', grad_fn=<AddBackward0>)]\n",
      "tensor(-96.6997, device='cuda:0', grad_fn=<NegBackward0>) [tensor(-48.1842, device='cuda:0', grad_fn=<NegBackward0>), tensor(-47.7643, device='cuda:0', grad_fn=<NegBackward0>), tensor(-1.1197, device='cuda:0', grad_fn=<AddBackward0>)]\n",
      "0.267701393402696\n",
      "tensor(-96.4995, device='cuda:0', grad_fn=<NegBackward0>) [tensor(-48.1527, device='cuda:0', grad_fn=<NegBackward0>), tensor(-47.6681, device='cuda:0', grad_fn=<NegBackward0>), tensor(-0.9714, device='cuda:0', grad_fn=<AddBackward0>)]\n",
      "tensor(-96.6010, device='cuda:0', grad_fn=<NegBackward0>) [tensor(-48.1527, device='cuda:0', grad_fn=<NegBackward0>), tensor(-47.7464, device='cuda:0', grad_fn=<NegBackward0>), tensor(-1.0176, device='cuda:0', grad_fn=<AddBackward0>)]\n",
      "0.25561337842998927\n",
      "tensor(-96.4661, device='cuda:0', grad_fn=<NegBackward0>) [tensor(-48.1163, device='cuda:0', grad_fn=<NegBackward0>), tensor(-47.6848, device='cuda:0', grad_fn=<NegBackward0>), tensor(-0.9445, device='cuda:0', grad_fn=<AddBackward0>)]\n",
      "tensor(-96.4768, device='cuda:0', grad_fn=<NegBackward0>) [tensor(-48.1163, device='cuda:0', grad_fn=<NegBackward0>), tensor(-47.6917, device='cuda:0', grad_fn=<NegBackward0>), tensor(-0.9519, device='cuda:0', grad_fn=<AddBackward0>)]\n",
      "0.2924876221332665\n",
      "tensor(-96.9271, device='cuda:0', grad_fn=<NegBackward0>) [tensor(-48.3259, device='cuda:0', grad_fn=<NegBackward0>), tensor(-47.7995, device='cuda:0', grad_fn=<NegBackward0>), tensor(-1.2293, device='cuda:0', grad_fn=<AddBackward0>)]\n",
      "tensor(-96.8857, device='cuda:0', grad_fn=<NegBackward0>) [tensor(-48.3259, device='cuda:0', grad_fn=<NegBackward0>), tensor(-47.7599, device='cuda:0', grad_fn=<NegBackward0>), tensor(-1.2253, device='cuda:0', grad_fn=<AddBackward0>)]\n",
      "0.3034015252523997\n",
      "tensor(-96.7416, device='cuda:0', grad_fn=<NegBackward0>) [tensor(-48.2127, device='cuda:0', grad_fn=<NegBackward0>), tensor(-47.6912, device='cuda:0', grad_fn=<NegBackward0>), tensor(-1.3111, device='cuda:0', grad_fn=<AddBackward0>)]\n",
      "tensor(-96.6631, device='cuda:0', grad_fn=<NegBackward0>) [tensor(-48.2127, device='cuda:0', grad_fn=<NegBackward0>), tensor(-47.6313, device='cuda:0', grad_fn=<NegBackward0>), tensor(-1.2683, device='cuda:0', grad_fn=<AddBackward0>)]\n",
      "0.29665519853578826\n",
      "tensor(-96.6699, device='cuda:0', grad_fn=<NegBackward0>) [tensor(-48.2206, device='cuda:0', grad_fn=<NegBackward0>), tensor(-47.6757, device='cuda:0', grad_fn=<NegBackward0>), tensor(-1.1675, device='cuda:0', grad_fn=<AddBackward0>)]\n",
      "tensor(-96.7440, device='cuda:0', grad_fn=<NegBackward0>) [tensor(-48.2206, device='cuda:0', grad_fn=<NegBackward0>), tensor(-47.7096, device='cuda:0', grad_fn=<NegBackward0>), tensor(-1.2563, device='cuda:0', grad_fn=<AddBackward0>)]\n",
      "0.28354537469028157\n",
      "tensor(-96.8964, device='cuda:0', grad_fn=<NegBackward0>) [tensor(-48.3118, device='cuda:0', grad_fn=<NegBackward0>), tensor(-47.8376, device='cuda:0', grad_fn=<NegBackward0>), tensor(-1.1107, device='cuda:0', grad_fn=<AddBackward0>)]\n",
      "tensor(-96.8221, device='cuda:0', grad_fn=<NegBackward0>) [tensor(-48.3118, device='cuda:0', grad_fn=<NegBackward0>), tensor(-47.7507, device='cuda:0', grad_fn=<NegBackward0>), tensor(-1.1375, device='cuda:0', grad_fn=<AddBackward0>)]\n",
      "0.2944890770323125\n",
      "tensor(-96.6151, device='cuda:0', grad_fn=<NegBackward0>) [tensor(-48.1816, device='cuda:0', grad_fn=<NegBackward0>), tensor(-47.6012, device='cuda:0', grad_fn=<NegBackward0>), tensor(-1.2986, device='cuda:0', grad_fn=<AddBackward0>)]\n",
      "tensor(-96.5428, device='cuda:0', grad_fn=<NegBackward0>) [tensor(-48.1816, device='cuda:0', grad_fn=<NegBackward0>), tensor(-47.5276, device='cuda:0', grad_fn=<NegBackward0>), tensor(-1.3014, device='cuda:0', grad_fn=<AddBackward0>)]\n",
      "0.3134938033386649\n",
      "tensor(-96.5098, device='cuda:0', grad_fn=<NegBackward0>) [tensor(-48.1577, device='cuda:0', grad_fn=<NegBackward0>), tensor(-47.4723, device='cuda:0', grad_fn=<NegBackward0>), tensor(-1.4104, device='cuda:0', grad_fn=<AddBackward0>)]\n",
      "tensor(-96.5221, device='cuda:0', grad_fn=<NegBackward0>) [tensor(-48.1577, device='cuda:0', grad_fn=<NegBackward0>), tensor(-47.4809, device='cuda:0', grad_fn=<NegBackward0>), tensor(-1.4195, device='cuda:0', grad_fn=<AddBackward0>)]\n",
      "0.2839260693907893\n",
      "tensor(-97.0517, device='cuda:0', grad_fn=<NegBackward0>) [tensor(-48.3852, device='cuda:0', grad_fn=<NegBackward0>), tensor(-47.9315, device='cuda:0', grad_fn=<NegBackward0>), tensor(-1.0853, device='cuda:0', grad_fn=<AddBackward0>)]\n",
      "tensor(-97.0325, device='cuda:0', grad_fn=<NegBackward0>) [tensor(-48.3852, device='cuda:0', grad_fn=<NegBackward0>), tensor(-47.9121, device='cuda:0', grad_fn=<NegBackward0>), tensor(-1.0857, device='cuda:0', grad_fn=<AddBackward0>)]\n",
      "0.29416512505930315\n",
      "tensor(-96.8643, device='cuda:0', grad_fn=<NegBackward0>) [tensor(-48.2592, device='cuda:0', grad_fn=<NegBackward0>), tensor(-47.8012, device='cuda:0', grad_fn=<NegBackward0>), tensor(-1.2342, device='cuda:0', grad_fn=<AddBackward0>)]\n",
      "tensor(-96.6768, device='cuda:0', grad_fn=<NegBackward0>) [tensor(-48.2592, device='cuda:0', grad_fn=<NegBackward0>), tensor(-47.6216, device='cuda:0', grad_fn=<NegBackward0>), tensor(-1.2166, device='cuda:0', grad_fn=<AddBackward0>)]\n",
      "0.28207026414476044\n",
      "tensor(-96.7466, device='cuda:0', grad_fn=<NegBackward0>) [tensor(-48.2813, device='cuda:0', grad_fn=<NegBackward0>), tensor(-47.7319, device='cuda:0', grad_fn=<NegBackward0>), tensor(-1.0822, device='cuda:0', grad_fn=<AddBackward0>)]\n",
      "tensor(-96.8893, device='cuda:0', grad_fn=<NegBackward0>) [tensor(-48.2813, device='cuda:0', grad_fn=<NegBackward0>), tensor(-47.8659, device='cuda:0', grad_fn=<NegBackward0>), tensor(-1.1004, device='cuda:0', grad_fn=<AddBackward0>)]\n"
     ]
    },
    {
     "name": "stdout",
     "output_type": "stream",
     "text": [
      "0.2895940795239449\n",
      "tensor(-96.7262, device='cuda:0', grad_fn=<NegBackward0>) [tensor(-48.2492, device='cuda:0', grad_fn=<NegBackward0>), tensor(-47.6996, device='cuda:0', grad_fn=<NegBackward0>), tensor(-1.1757, device='cuda:0', grad_fn=<AddBackward0>)]\n",
      "tensor(-96.7828, device='cuda:0', grad_fn=<NegBackward0>) [tensor(-48.2492, device='cuda:0', grad_fn=<NegBackward0>), tensor(-47.7666, device='cuda:0', grad_fn=<NegBackward0>), tensor(-1.1531, device='cuda:0', grad_fn=<AddBackward0>)]\n",
      "0.2825868796570816\n",
      "tensor(-96.8054, device='cuda:0', grad_fn=<NegBackward0>) [tensor(-48.2728, device='cuda:0', grad_fn=<NegBackward0>), tensor(-47.8001, device='cuda:0', grad_fn=<NegBackward0>), tensor(-1.0802, device='cuda:0', grad_fn=<AddBackward0>)]\n",
      "tensor(-96.8068, device='cuda:0', grad_fn=<NegBackward0>) [tensor(-48.2728, device='cuda:0', grad_fn=<NegBackward0>), tensor(-47.7706, device='cuda:0', grad_fn=<NegBackward0>), tensor(-1.1456, device='cuda:0', grad_fn=<AddBackward0>)]\n",
      "0.29345102917174126\n",
      "tensor(-96.5882, device='cuda:0', grad_fn=<NegBackward0>) [tensor(-48.1809, device='cuda:0', grad_fn=<NegBackward0>), tensor(-47.6058, device='cuda:0', grad_fn=<NegBackward0>), tensor(-1.2288, device='cuda:0', grad_fn=<AddBackward0>)]\n",
      "tensor(-96.5859, device='cuda:0', grad_fn=<NegBackward0>) [tensor(-48.1809, device='cuda:0', grad_fn=<NegBackward0>), tensor(-47.5456, device='cuda:0', grad_fn=<NegBackward0>), tensor(-1.3617, device='cuda:0', grad_fn=<AddBackward0>)]\n",
      "0.3130825468053563\n",
      "tensor(-96.3504, device='cuda:0', grad_fn=<NegBackward0>) [tensor(-48.0632, device='cuda:0', grad_fn=<NegBackward0>), tensor(-47.4475, device='cuda:0', grad_fn=<NegBackward0>), tensor(-1.3156, device='cuda:0', grad_fn=<AddBackward0>)]\n",
      "tensor(-96.3406, device='cuda:0', grad_fn=<NegBackward0>) [tensor(-48.0632, device='cuda:0', grad_fn=<NegBackward0>), tensor(-47.4211, device='cuda:0', grad_fn=<NegBackward0>), tensor(-1.3544, device='cuda:0', grad_fn=<AddBackward0>)]\n",
      "0.2866469854144012\n",
      "tensor(-96.8460, device='cuda:0', grad_fn=<NegBackward0>) [tensor(-48.2680, device='cuda:0', grad_fn=<NegBackward0>), tensor(-47.8205, device='cuda:0', grad_fn=<NegBackward0>), tensor(-1.1330, device='cuda:0', grad_fn=<AddBackward0>)]\n",
      "tensor(-96.7930, device='cuda:0', grad_fn=<NegBackward0>) [tensor(-48.2680, device='cuda:0', grad_fn=<NegBackward0>), tensor(-47.7664, device='cuda:0', grad_fn=<NegBackward0>), tensor(-1.1352, device='cuda:0', grad_fn=<AddBackward0>)]\n",
      "0.2875114455584897\n",
      "tensor(-96.6503, device='cuda:0', grad_fn=<NegBackward0>) [tensor(-48.2399, device='cuda:0', grad_fn=<NegBackward0>), tensor(-47.6536, device='cuda:0', grad_fn=<NegBackward0>), tensor(-1.1316, device='cuda:0', grad_fn=<AddBackward0>)]\n",
      "tensor(-96.6646, device='cuda:0', grad_fn=<NegBackward0>) [tensor(-48.2399, device='cuda:0', grad_fn=<NegBackward0>), tensor(-47.6868, device='cuda:0', grad_fn=<NegBackward0>), tensor(-1.0917, device='cuda:0', grad_fn=<AddBackward0>)]\n",
      "0.2958321280615483\n",
      "tensor(-96.7118, device='cuda:0', grad_fn=<NegBackward0>) [tensor(-48.2447, device='cuda:0', grad_fn=<NegBackward0>), tensor(-47.6961, device='cuda:0', grad_fn=<NegBackward0>), tensor(-1.1617, device='cuda:0', grad_fn=<AddBackward0>)]\n",
      "tensor(-96.7502, device='cuda:0', grad_fn=<NegBackward0>) [tensor(-48.2447, device='cuda:0', grad_fn=<NegBackward0>), tensor(-47.6823, device='cuda:0', grad_fn=<NegBackward0>), tensor(-1.2778, device='cuda:0', grad_fn=<AddBackward0>)]\n",
      "0.285755765794935\n",
      "tensor(-96.8996, device='cuda:0', grad_fn=<NegBackward0>) [tensor(-48.2938, device='cuda:0', grad_fn=<NegBackward0>), tensor(-47.8665, device='cuda:0', grad_fn=<NegBackward0>), tensor(-1.0945, device='cuda:0', grad_fn=<AddBackward0>)]\n",
      "tensor(-96.8533, device='cuda:0', grad_fn=<NegBackward0>) [tensor(-48.2938, device='cuda:0', grad_fn=<NegBackward0>), tensor(-47.8100, device='cuda:0', grad_fn=<NegBackward0>), tensor(-1.1161, device='cuda:0', grad_fn=<AddBackward0>)]\n",
      "0.2775201223737933\n",
      "tensor(-97.0411, device='cuda:0', grad_fn=<NegBackward0>) [tensor(-48.3973, device='cuda:0', grad_fn=<NegBackward0>), tensor(-47.9228, device='cuda:0', grad_fn=<NegBackward0>), tensor(-1.0563, device='cuda:0', grad_fn=<AddBackward0>)]\n",
      "tensor(-97.0957, device='cuda:0', grad_fn=<NegBackward0>) [tensor(-48.3973, device='cuda:0', grad_fn=<NegBackward0>), tensor(-47.9057, device='cuda:0', grad_fn=<NegBackward0>), tensor(-1.2094, device='cuda:0', grad_fn=<AddBackward0>)]\n",
      "0.2996014340456036\n",
      "tensor(-96.6815, device='cuda:0', grad_fn=<NegBackward0>) [tensor(-48.2293, device='cuda:0', grad_fn=<NegBackward0>), tensor(-47.6456, device='cuda:0', grad_fn=<NegBackward0>), tensor(-1.2404, device='cuda:0', grad_fn=<AddBackward0>)]\n",
      "tensor(-96.7902, device='cuda:0', grad_fn=<NegBackward0>) [tensor(-48.2293, device='cuda:0', grad_fn=<NegBackward0>), tensor(-47.7732, device='cuda:0', grad_fn=<NegBackward0>), tensor(-1.1983, device='cuda:0', grad_fn=<AddBackward0>)]\n",
      "0.29263423219074963\n",
      "tensor(-97.0020, device='cuda:0', grad_fn=<NegBackward0>) [tensor(-48.3938, device='cuda:0', grad_fn=<NegBackward0>), tensor(-47.8444, device='cuda:0', grad_fn=<NegBackward0>), tensor(-1.1464, device='cuda:0', grad_fn=<AddBackward0>)]\n",
      "tensor(-97.0369, device='cuda:0', grad_fn=<NegBackward0>) [tensor(-48.3938, device='cuda:0', grad_fn=<NegBackward0>), tensor(-47.8725, device='cuda:0', grad_fn=<NegBackward0>), tensor(-1.1611, device='cuda:0', grad_fn=<AddBackward0>)]\n",
      "0.2901902449290119\n",
      "tensor(-97.0582, device='cuda:0', grad_fn=<NegBackward0>) [tensor(-48.4054, device='cuda:0', grad_fn=<NegBackward0>), tensor(-47.8908, device='cuda:0', grad_fn=<NegBackward0>), tensor(-1.1427, device='cuda:0', grad_fn=<AddBackward0>)]\n",
      "tensor(-97.0421, device='cuda:0', grad_fn=<NegBackward0>) [tensor(-48.4054, device='cuda:0', grad_fn=<NegBackward0>), tensor(-47.8886, device='cuda:0', grad_fn=<NegBackward0>), tensor(-1.1128, device='cuda:0', grad_fn=<AddBackward0>)]\n",
      "0.3012704558501714\n",
      "tensor(-96.9586, device='cuda:0', grad_fn=<NegBackward0>) [tensor(-48.3496, device='cuda:0', grad_fn=<NegBackward0>), tensor(-47.8202, device='cuda:0', grad_fn=<NegBackward0>), tensor(-1.2007, device='cuda:0', grad_fn=<AddBackward0>)]\n",
      "tensor(-96.8623, device='cuda:0', grad_fn=<NegBackward0>) [tensor(-48.3496, device='cuda:0', grad_fn=<NegBackward0>), tensor(-47.7014, device='cuda:0', grad_fn=<NegBackward0>), tensor(-1.2508, device='cuda:0', grad_fn=<AddBackward0>)]\n",
      "0.29874849714930846\n",
      "tensor(-96.8025, device='cuda:0', grad_fn=<NegBackward0>) [tensor(-48.2997, device='cuda:0', grad_fn=<NegBackward0>), tensor(-47.6990, device='cuda:0', grad_fn=<NegBackward0>), tensor(-1.2341, device='cuda:0', grad_fn=<AddBackward0>)]\n",
      "tensor(-96.7688, device='cuda:0', grad_fn=<NegBackward0>) [tensor(-48.2997, device='cuda:0', grad_fn=<NegBackward0>), tensor(-47.6468, device='cuda:0', grad_fn=<NegBackward0>), tensor(-1.2757, device='cuda:0', grad_fn=<AddBackward0>)]\n",
      "0.2853098940222026\n",
      "tensor(-97.0035, device='cuda:0', grad_fn=<NegBackward0>) [tensor(-48.3932, device='cuda:0', grad_fn=<NegBackward0>), tensor(-47.8559, device='cuda:0', grad_fn=<NegBackward0>), tensor(-1.1263, device='cuda:0', grad_fn=<AddBackward0>)]\n",
      "tensor(-96.9799, device='cuda:0', grad_fn=<NegBackward0>) [tensor(-48.3932, device='cuda:0', grad_fn=<NegBackward0>), tensor(-47.8316, device='cuda:0', grad_fn=<NegBackward0>), tensor(-1.1279, device='cuda:0', grad_fn=<AddBackward0>)]\n",
      "0.270509083631334\n",
      "tensor(-96.8750, device='cuda:0', grad_fn=<NegBackward0>) [tensor(-48.3428, device='cuda:0', grad_fn=<NegBackward0>), tensor(-47.8082, device='cuda:0', grad_fn=<NegBackward0>), tensor(-1.0626, device='cuda:0', grad_fn=<AddBackward0>)]\n",
      "tensor(-96.8351, device='cuda:0', grad_fn=<NegBackward0>) [tensor(-48.3428, device='cuda:0', grad_fn=<NegBackward0>), tensor(-47.7921, device='cuda:0', grad_fn=<NegBackward0>), tensor(-1.0142, device='cuda:0', grad_fn=<AddBackward0>)]\n",
      "0.30954509203077096\n",
      "tensor(-97.0033, device='cuda:0', grad_fn=<NegBackward0>) [tensor(-48.3629, device='cuda:0', grad_fn=<NegBackward0>), tensor(-47.7857, device='cuda:0', grad_fn=<NegBackward0>), tensor(-1.3506, device='cuda:0', grad_fn=<AddBackward0>)]\n",
      "tensor(-96.9953, device='cuda:0', grad_fn=<NegBackward0>) [tensor(-48.3629, device='cuda:0', grad_fn=<NegBackward0>), tensor(-47.8079, device='cuda:0', grad_fn=<NegBackward0>), tensor(-1.2810, device='cuda:0', grad_fn=<AddBackward0>)]\n"
     ]
    },
    {
     "name": "stdout",
     "output_type": "stream",
     "text": [
      "0.2987816643441508\n",
      "tensor(-96.9383, device='cuda:0', grad_fn=<NegBackward0>) [tensor(-48.3706, device='cuda:0', grad_fn=<NegBackward0>), tensor(-47.7690, device='cuda:0', grad_fn=<NegBackward0>), tensor(-1.2225, device='cuda:0', grad_fn=<AddBackward0>)]\n",
      "tensor(-96.9646, device='cuda:0', grad_fn=<NegBackward0>) [tensor(-48.3706, device='cuda:0', grad_fn=<NegBackward0>), tensor(-47.8159, device='cuda:0', grad_fn=<NegBackward0>), tensor(-1.1773, device='cuda:0', grad_fn=<AddBackward0>)]\n",
      "0.2646711770909996\n",
      "tensor(-97.0004, device='cuda:0', grad_fn=<NegBackward0>) [tensor(-48.3912, device='cuda:0', grad_fn=<NegBackward0>), tensor(-47.9652, device='cuda:0', grad_fn=<NegBackward0>), tensor(-0.9040, device='cuda:0', grad_fn=<AddBackward0>)]\n",
      "tensor(-97.0129, device='cuda:0', grad_fn=<NegBackward0>) [tensor(-48.3912, device='cuda:0', grad_fn=<NegBackward0>), tensor(-47.9471, device='cuda:0', grad_fn=<NegBackward0>), tensor(-0.9632, device='cuda:0', grad_fn=<AddBackward0>)]\n",
      "0.3072537362048742\n",
      "tensor(-97.0239, device='cuda:0', grad_fn=<NegBackward0>) [tensor(-48.3725, device='cuda:0', grad_fn=<NegBackward0>), tensor(-47.8128, device='cuda:0', grad_fn=<NegBackward0>), tensor(-1.3130, device='cuda:0', grad_fn=<AddBackward0>)]\n",
      "tensor(-96.9599, device='cuda:0', grad_fn=<NegBackward0>) [tensor(-48.3725, device='cuda:0', grad_fn=<NegBackward0>), tensor(-47.7687, device='cuda:0', grad_fn=<NegBackward0>), tensor(-1.2675, device='cuda:0', grad_fn=<AddBackward0>)]\n",
      "0.27540352404920415\n",
      "tensor(-97.0094, device='cuda:0', grad_fn=<NegBackward0>) [tensor(-48.4022, device='cuda:0', grad_fn=<NegBackward0>), tensor(-47.8742, device='cuda:0', grad_fn=<NegBackward0>), tensor(-1.0814, device='cuda:0', grad_fn=<AddBackward0>)]\n",
      "tensor(-96.9900, device='cuda:0', grad_fn=<NegBackward0>) [tensor(-48.4022, device='cuda:0', grad_fn=<NegBackward0>), tensor(-47.8779, device='cuda:0', grad_fn=<NegBackward0>), tensor(-1.0338, device='cuda:0', grad_fn=<AddBackward0>)]\n",
      "0.29523777809941415\n",
      "tensor(-97.0319, device='cuda:0', grad_fn=<NegBackward0>) [tensor(-48.4241, device='cuda:0', grad_fn=<NegBackward0>), tensor(-47.8221, device='cuda:0', grad_fn=<NegBackward0>), tensor(-1.1938, device='cuda:0', grad_fn=<AddBackward0>)]\n",
      "tensor(-97.1055, device='cuda:0', grad_fn=<NegBackward0>) [tensor(-48.4241, device='cuda:0', grad_fn=<NegBackward0>), tensor(-47.9051, device='cuda:0', grad_fn=<NegBackward0>), tensor(-1.1734, device='cuda:0', grad_fn=<AddBackward0>)]\n",
      "0.28304658076010536\n",
      "tensor(-96.8910, device='cuda:0', grad_fn=<NegBackward0>) [tensor(-48.3581, device='cuda:0', grad_fn=<NegBackward0>), tensor(-47.7653, device='cuda:0', grad_fn=<NegBackward0>), tensor(-1.1546, device='cuda:0', grad_fn=<AddBackward0>)]\n",
      "tensor(-96.9679, device='cuda:0', grad_fn=<NegBackward0>) [tensor(-48.3581, device='cuda:0', grad_fn=<NegBackward0>), tensor(-47.8787, device='cuda:0', grad_fn=<NegBackward0>), tensor(-1.0772, device='cuda:0', grad_fn=<AddBackward0>)]\n",
      "0.2867526583744409\n",
      "tensor(-97.1453, device='cuda:0', grad_fn=<NegBackward0>) [tensor(-48.4713, device='cuda:0', grad_fn=<NegBackward0>), tensor(-47.9534, device='cuda:0', grad_fn=<NegBackward0>), tensor(-1.0558, device='cuda:0', grad_fn=<AddBackward0>)]\n",
      "tensor(-97.1586, device='cuda:0', grad_fn=<NegBackward0>) [tensor(-48.4713, device='cuda:0', grad_fn=<NegBackward0>), tensor(-47.9000, device='cuda:0', grad_fn=<NegBackward0>), tensor(-1.1975, device='cuda:0', grad_fn=<AddBackward0>)]\n",
      "0.2981242383329281\n",
      "tensor(-96.8529, device='cuda:0', grad_fn=<NegBackward0>) [tensor(-48.3523, device='cuda:0', grad_fn=<NegBackward0>), tensor(-47.7150, device='cuda:0', grad_fn=<NegBackward0>), tensor(-1.1935, device='cuda:0', grad_fn=<AddBackward0>)]\n",
      "tensor(-96.9215, device='cuda:0', grad_fn=<NegBackward0>) [tensor(-48.3523, device='cuda:0', grad_fn=<NegBackward0>), tensor(-47.7699, device='cuda:0', grad_fn=<NegBackward0>), tensor(-1.2240, device='cuda:0', grad_fn=<AddBackward0>)]\n",
      "0.29095945918570076\n",
      "tensor(-97.0775, device='cuda:0', grad_fn=<NegBackward0>) [tensor(-48.4315, device='cuda:0', grad_fn=<NegBackward0>), tensor(-47.8567, device='cuda:0', grad_fn=<NegBackward0>), tensor(-1.2019, device='cuda:0', grad_fn=<AddBackward0>)]\n",
      "tensor(-97.1615, device='cuda:0', grad_fn=<NegBackward0>) [tensor(-48.4315, device='cuda:0', grad_fn=<NegBackward0>), tensor(-47.9343, device='cuda:0', grad_fn=<NegBackward0>), tensor(-1.2160, device='cuda:0', grad_fn=<AddBackward0>)]\n",
      "0.3006012216637816\n",
      "tensor(-97.2036, device='cuda:0', grad_fn=<NegBackward0>) [tensor(-48.4963, device='cuda:0', grad_fn=<NegBackward0>), tensor(-47.9023, device='cuda:0', grad_fn=<NegBackward0>), tensor(-1.2367, device='cuda:0', grad_fn=<AddBackward0>)]\n",
      "tensor(-97.2904, device='cuda:0', grad_fn=<NegBackward0>) [tensor(-48.4963, device='cuda:0', grad_fn=<NegBackward0>), tensor(-48.0049, device='cuda:0', grad_fn=<NegBackward0>), tensor(-1.2019, device='cuda:0', grad_fn=<AddBackward0>)]\n",
      "0.30785615118365756\n",
      "tensor(-97.1414, device='cuda:0', grad_fn=<NegBackward0>) [tensor(-48.4171, device='cuda:0', grad_fn=<NegBackward0>), tensor(-47.9121, device='cuda:0', grad_fn=<NegBackward0>), tensor(-1.2530, device='cuda:0', grad_fn=<AddBackward0>)]\n",
      "tensor(-97.0091, device='cuda:0', grad_fn=<NegBackward0>) [tensor(-48.4171, device='cuda:0', grad_fn=<NegBackward0>), tensor(-47.7613, device='cuda:0', grad_fn=<NegBackward0>), tensor(-1.2950, device='cuda:0', grad_fn=<AddBackward0>)]\n",
      "0.3106035369649347\n",
      "tensor(-97.2740, device='cuda:0', grad_fn=<NegBackward0>) [tensor(-48.4924, device='cuda:0', grad_fn=<NegBackward0>), tensor(-47.9726, device='cuda:0', grad_fn=<NegBackward0>), tensor(-1.2456, device='cuda:0', grad_fn=<AddBackward0>)]\n",
      "tensor(-97.2411, device='cuda:0', grad_fn=<NegBackward0>) [tensor(-48.4924, device='cuda:0', grad_fn=<NegBackward0>), tensor(-47.9250, device='cuda:0', grad_fn=<NegBackward0>), tensor(-1.2789, device='cuda:0', grad_fn=<AddBackward0>)]\n",
      "0.2978305021964583\n",
      "tensor(-97.0278, device='cuda:0', grad_fn=<NegBackward0>) [tensor(-48.4264, device='cuda:0', grad_fn=<NegBackward0>), tensor(-47.8237, device='cuda:0', grad_fn=<NegBackward0>), tensor(-1.1765, device='cuda:0', grad_fn=<AddBackward0>)]\n",
      "tensor(-97.1212, device='cuda:0', grad_fn=<NegBackward0>) [tensor(-48.4264, device='cuda:0', grad_fn=<NegBackward0>), tensor(-47.9027, device='cuda:0', grad_fn=<NegBackward0>), tensor(-1.2081, device='cuda:0', grad_fn=<AddBackward0>)]\n",
      "0.28719484770652665\n",
      "tensor(-97.1878, device='cuda:0', grad_fn=<NegBackward0>) [tensor(-48.4740, device='cuda:0', grad_fn=<NegBackward0>), tensor(-47.9823, device='cuda:0', grad_fn=<NegBackward0>), tensor(-1.0782, device='cuda:0', grad_fn=<AddBackward0>)]\n",
      "tensor(-97.1615, device='cuda:0', grad_fn=<NegBackward0>) [tensor(-48.4740, device='cuda:0', grad_fn=<NegBackward0>), tensor(-47.9516, device='cuda:0', grad_fn=<NegBackward0>), tensor(-1.0873, device='cuda:0', grad_fn=<AddBackward0>)]\n",
      "0.305699663330733\n",
      "tensor(-96.9592, device='cuda:0', grad_fn=<NegBackward0>) [tensor(-48.3715, device='cuda:0', grad_fn=<NegBackward0>), tensor(-47.7720, device='cuda:0', grad_fn=<NegBackward0>), tensor(-1.2608, device='cuda:0', grad_fn=<AddBackward0>)]\n",
      "tensor(-96.9321, device='cuda:0', grad_fn=<NegBackward0>) [tensor(-48.3715, device='cuda:0', grad_fn=<NegBackward0>), tensor(-47.7445, device='cuda:0', grad_fn=<NegBackward0>), tensor(-1.2617, device='cuda:0', grad_fn=<AddBackward0>)]\n",
      "0.300933834744357\n",
      "tensor(-97.1715, device='cuda:0', grad_fn=<NegBackward0>) [tensor(-48.4649, device='cuda:0', grad_fn=<NegBackward0>), tensor(-47.9289, device='cuda:0', grad_fn=<NegBackward0>), tensor(-1.1766, device='cuda:0', grad_fn=<AddBackward0>)]\n",
      "tensor(-97.2211, device='cuda:0', grad_fn=<NegBackward0>) [tensor(-48.4649, device='cuda:0', grad_fn=<NegBackward0>), tensor(-47.9530, device='cuda:0', grad_fn=<NegBackward0>), tensor(-1.2328, device='cuda:0', grad_fn=<AddBackward0>)]\n",
      "0.30841765210809313\n",
      "tensor(-97.0143, device='cuda:0', grad_fn=<NegBackward0>) [tensor(-48.3966, device='cuda:0', grad_fn=<NegBackward0>), tensor(-47.8015, device='cuda:0', grad_fn=<NegBackward0>), tensor(-1.2617, device='cuda:0', grad_fn=<AddBackward0>)]\n",
      "tensor(-96.9914, device='cuda:0', grad_fn=<NegBackward0>) [tensor(-48.3966, device='cuda:0', grad_fn=<NegBackward0>), tensor(-47.7874, device='cuda:0', grad_fn=<NegBackward0>), tensor(-1.2421, device='cuda:0', grad_fn=<AddBackward0>)]\n"
     ]
    },
    {
     "name": "stdout",
     "output_type": "stream",
     "text": [
      "0.2986692984556286\n",
      "tensor(-97.2096, device='cuda:0', grad_fn=<NegBackward0>) [tensor(-48.5106, device='cuda:0', grad_fn=<NegBackward0>), tensor(-47.9324, device='cuda:0', grad_fn=<NegBackward0>), tensor(-1.1524, device='cuda:0', grad_fn=<AddBackward0>)]\n",
      "tensor(-97.2848, device='cuda:0', grad_fn=<NegBackward0>) [tensor(-48.5106, device='cuda:0', grad_fn=<NegBackward0>), tensor(-47.9651, device='cuda:0', grad_fn=<NegBackward0>), tensor(-1.2460, device='cuda:0', grad_fn=<AddBackward0>)]\n",
      "0.29196158159859764\n",
      "tensor(-97.2020, device='cuda:0', grad_fn=<NegBackward0>) [tensor(-48.4916, device='cuda:0', grad_fn=<NegBackward0>), tensor(-47.9834, device='cuda:0', grad_fn=<NegBackward0>), tensor(-1.0689, device='cuda:0', grad_fn=<AddBackward0>)]\n",
      "tensor(-97.2504, device='cuda:0', grad_fn=<NegBackward0>) [tensor(-48.4916, device='cuda:0', grad_fn=<NegBackward0>), tensor(-48.0045, device='cuda:0', grad_fn=<NegBackward0>), tensor(-1.1263, device='cuda:0', grad_fn=<AddBackward0>)]\n",
      "0.2941874728683067\n",
      "tensor(-97.3373, device='cuda:0', grad_fn=<NegBackward0>) [tensor(-48.5521, device='cuda:0', grad_fn=<NegBackward0>), tensor(-48.0356, device='cuda:0', grad_fn=<NegBackward0>), tensor(-1.1162, device='cuda:0', grad_fn=<AddBackward0>)]\n",
      "tensor(-97.3733, device='cuda:0', grad_fn=<NegBackward0>) [tensor(-48.5521, device='cuda:0', grad_fn=<NegBackward0>), tensor(-48.0510, device='cuda:0', grad_fn=<NegBackward0>), tensor(-1.1602, device='cuda:0', grad_fn=<AddBackward0>)]\n",
      "0.3069442733604786\n",
      "tensor(-97.1328, device='cuda:0', grad_fn=<NegBackward0>) [tensor(-48.4757, device='cuda:0', grad_fn=<NegBackward0>), tensor(-47.8242, device='cuda:0', grad_fn=<NegBackward0>), tensor(-1.3000, device='cuda:0', grad_fn=<AddBackward0>)]\n",
      "tensor(-97.1008, device='cuda:0', grad_fn=<NegBackward0>) [tensor(-48.4757, device='cuda:0', grad_fn=<NegBackward0>), tensor(-47.8162, device='cuda:0', grad_fn=<NegBackward0>), tensor(-1.2455, device='cuda:0', grad_fn=<AddBackward0>)]\n",
      "0.3144530652620036\n",
      "tensor(-97.1151, device='cuda:0', grad_fn=<NegBackward0>) [tensor(-48.4397, device='cuda:0', grad_fn=<NegBackward0>), tensor(-47.8160, device='cuda:0', grad_fn=<NegBackward0>), tensor(-1.3618, device='cuda:0', grad_fn=<AddBackward0>)]\n",
      "tensor(-97.0767, device='cuda:0', grad_fn=<NegBackward0>) [tensor(-48.4397, device='cuda:0', grad_fn=<NegBackward0>), tensor(-47.8226, device='cuda:0', grad_fn=<NegBackward0>), tensor(-1.2578, device='cuda:0', grad_fn=<AddBackward0>)]\n",
      "0.2853341291190455\n",
      "tensor(-97.2671, device='cuda:0', grad_fn=<NegBackward0>) [tensor(-48.5222, device='cuda:0', grad_fn=<NegBackward0>), tensor(-48.0088, device='cuda:0', grad_fn=<NegBackward0>), tensor(-1.0878, device='cuda:0', grad_fn=<AddBackward0>)]\n",
      "tensor(-97.2713, device='cuda:0', grad_fn=<NegBackward0>) [tensor(-48.5222, device='cuda:0', grad_fn=<NegBackward0>), tensor(-48.0067, device='cuda:0', grad_fn=<NegBackward0>), tensor(-1.1009, device='cuda:0', grad_fn=<AddBackward0>)]\n",
      "0.30912045971892504\n",
      "tensor(-97.0876, device='cuda:0', grad_fn=<NegBackward0>) [tensor(-48.4555, device='cuda:0', grad_fn=<NegBackward0>), tensor(-47.8237, device='cuda:0', grad_fn=<NegBackward0>), tensor(-1.2440, device='cuda:0', grad_fn=<AddBackward0>)]\n",
      "tensor(-97.1121, device='cuda:0', grad_fn=<NegBackward0>) [tensor(-48.4555, device='cuda:0', grad_fn=<NegBackward0>), tensor(-47.8493, device='cuda:0', grad_fn=<NegBackward0>), tensor(-1.2419, device='cuda:0', grad_fn=<AddBackward0>)]\n",
      "0.29688259056650146\n",
      "tensor(-97.2128, device='cuda:0', grad_fn=<NegBackward0>) [tensor(-48.5330, device='cuda:0', grad_fn=<NegBackward0>), tensor(-47.9005, device='cuda:0', grad_fn=<NegBackward0>), tensor(-1.1799, device='cuda:0', grad_fn=<AddBackward0>)]\n",
      "tensor(-97.2532, device='cuda:0', grad_fn=<NegBackward0>) [tensor(-48.5330, device='cuda:0', grad_fn=<NegBackward0>), tensor(-47.9391, device='cuda:0', grad_fn=<NegBackward0>), tensor(-1.1838, device='cuda:0', grad_fn=<AddBackward0>)]\n",
      "0.3018917309200466\n",
      "tensor(-97.2901, device='cuda:0', grad_fn=<NegBackward0>) [tensor(-48.5234, device='cuda:0', grad_fn=<NegBackward0>), tensor(-47.9703, device='cuda:0', grad_fn=<NegBackward0>), tensor(-1.2176, device='cuda:0', grad_fn=<AddBackward0>)]\n",
      "tensor(-97.2260, device='cuda:0', grad_fn=<NegBackward0>) [tensor(-48.5234, device='cuda:0', grad_fn=<NegBackward0>), tensor(-47.9310, device='cuda:0', grad_fn=<NegBackward0>), tensor(-1.1632, device='cuda:0', grad_fn=<AddBackward0>)]\n",
      "0.29206393510383144\n",
      "tensor(-97.2687, device='cuda:0', grad_fn=<NegBackward0>) [tensor(-48.4949, device='cuda:0', grad_fn=<NegBackward0>), tensor(-47.9909, device='cuda:0', grad_fn=<NegBackward0>), tensor(-1.1878, device='cuda:0', grad_fn=<AddBackward0>)]\n",
      "tensor(-97.1950, device='cuda:0', grad_fn=<NegBackward0>) [tensor(-48.4949, device='cuda:0', grad_fn=<NegBackward0>), tensor(-47.9552, device='cuda:0', grad_fn=<NegBackward0>), tensor(-1.1062, device='cuda:0', grad_fn=<AddBackward0>)]\n",
      "0.2934335195540896\n",
      "tensor(-97.4525, device='cuda:0', grad_fn=<NegBackward0>) [tensor(-48.6042, device='cuda:0', grad_fn=<NegBackward0>), tensor(-48.1142, device='cuda:0', grad_fn=<NegBackward0>), tensor(-1.0836, device='cuda:0', grad_fn=<AddBackward0>)]\n",
      "tensor(-97.3737, device='cuda:0', grad_fn=<NegBackward0>) [tensor(-48.6042, device='cuda:0', grad_fn=<NegBackward0>), tensor(-48.0050, device='cuda:0', grad_fn=<NegBackward0>), tensor(-1.1481, device='cuda:0', grad_fn=<AddBackward0>)]\n",
      "0.29462775711819683\n",
      "tensor(-97.3717, device='cuda:0', grad_fn=<NegBackward0>) [tensor(-48.5727, device='cuda:0', grad_fn=<NegBackward0>), tensor(-48.0303, device='cuda:0', grad_fn=<NegBackward0>), tensor(-1.1570, device='cuda:0', grad_fn=<AddBackward0>)]\n",
      "tensor(-97.4630, device='cuda:0', grad_fn=<NegBackward0>) [tensor(-48.5727, device='cuda:0', grad_fn=<NegBackward0>), tensor(-48.0884, device='cuda:0', grad_fn=<NegBackward0>), tensor(-1.2299, device='cuda:0', grad_fn=<AddBackward0>)]\n",
      "0.3125307797834071\n",
      "tensor(-97.2836, device='cuda:0', grad_fn=<NegBackward0>) [tensor(-48.5306, device='cuda:0', grad_fn=<NegBackward0>), tensor(-47.9360, device='cuda:0', grad_fn=<NegBackward0>), tensor(-1.2637, device='cuda:0', grad_fn=<AddBackward0>)]\n",
      "tensor(-97.3012, device='cuda:0', grad_fn=<NegBackward0>) [tensor(-48.5306, device='cuda:0', grad_fn=<NegBackward0>), tensor(-47.9578, device='cuda:0', grad_fn=<NegBackward0>), tensor(-1.2542, device='cuda:0', grad_fn=<AddBackward0>)]\n",
      "0.3134913147018793\n",
      "tensor(-97.3150, device='cuda:0', grad_fn=<NegBackward0>) [tensor(-48.5473, device='cuda:0', grad_fn=<NegBackward0>), tensor(-47.9154, device='cuda:0', grad_fn=<NegBackward0>), tensor(-1.3450, device='cuda:0', grad_fn=<AddBackward0>)]\n",
      "tensor(-97.3298, device='cuda:0', grad_fn=<NegBackward0>) [tensor(-48.5473, device='cuda:0', grad_fn=<NegBackward0>), tensor(-47.9513, device='cuda:0', grad_fn=<NegBackward0>), tensor(-1.2961, device='cuda:0', grad_fn=<AddBackward0>)]\n",
      "0.2932344275945891\n",
      "tensor(-97.2562, device='cuda:0', grad_fn=<NegBackward0>) [tensor(-48.5276, device='cuda:0', grad_fn=<NegBackward0>), tensor(-48.0000, device='cuda:0', grad_fn=<NegBackward0>), tensor(-1.0723, device='cuda:0', grad_fn=<AddBackward0>)]\n",
      "tensor(-97.2881, device='cuda:0', grad_fn=<NegBackward0>) [tensor(-48.5276, device='cuda:0', grad_fn=<NegBackward0>), tensor(-48.0381, device='cuda:0', grad_fn=<NegBackward0>), tensor(-1.0596, device='cuda:0', grad_fn=<AddBackward0>)]\n",
      "0.2905581931987743\n",
      "tensor(-97.2829, device='cuda:0', grad_fn=<NegBackward0>) [tensor(-48.5313, device='cuda:0', grad_fn=<NegBackward0>), tensor(-48.0151, device='cuda:0', grad_fn=<NegBackward0>), tensor(-1.0885, device='cuda:0', grad_fn=<AddBackward0>)]\n",
      "tensor(-97.2790, device='cuda:0', grad_fn=<NegBackward0>) [tensor(-48.5313, device='cuda:0', grad_fn=<NegBackward0>), tensor(-47.9945, device='cuda:0', grad_fn=<NegBackward0>), tensor(-1.1239, device='cuda:0', grad_fn=<AddBackward0>)]\n",
      "0.29835463787626204\n",
      "tensor(-97.1535, device='cuda:0', grad_fn=<NegBackward0>) [tensor(-48.5035, device='cuda:0', grad_fn=<NegBackward0>), tensor(-47.8693, device='cuda:0', grad_fn=<NegBackward0>), tensor(-1.1830, device='cuda:0', grad_fn=<AddBackward0>)]\n",
      "tensor(-97.1864, device='cuda:0', grad_fn=<NegBackward0>) [tensor(-48.5035, device='cuda:0', grad_fn=<NegBackward0>), tensor(-47.9438, device='cuda:0', grad_fn=<NegBackward0>), tensor(-1.0940, device='cuda:0', grad_fn=<AddBackward0>)]\n"
     ]
    },
    {
     "name": "stdout",
     "output_type": "stream",
     "text": [
      "0.2868301549962689\n",
      "tensor(-97.3969, device='cuda:0', grad_fn=<NegBackward0>) [tensor(-48.5886, device='cuda:0', grad_fn=<NegBackward0>), tensor(-48.1002, device='cuda:0', grad_fn=<NegBackward0>), tensor(-1.0302, device='cuda:0', grad_fn=<AddBackward0>)]\n",
      "tensor(-97.4289, device='cuda:0', grad_fn=<NegBackward0>) [tensor(-48.5886, device='cuda:0', grad_fn=<NegBackward0>), tensor(-48.1319, device='cuda:0', grad_fn=<NegBackward0>), tensor(-1.0309, device='cuda:0', grad_fn=<AddBackward0>)]\n",
      "0.30478965584580636\n",
      "tensor(-97.4493, device='cuda:0', grad_fn=<NegBackward0>) [tensor(-48.5868, device='cuda:0', grad_fn=<NegBackward0>), tensor(-48.0646, device='cuda:0', grad_fn=<NegBackward0>), tensor(-1.2208, device='cuda:0', grad_fn=<AddBackward0>)]\n",
      "tensor(-97.3882, device='cuda:0', grad_fn=<NegBackward0>) [tensor(-48.5868, device='cuda:0', grad_fn=<NegBackward0>), tensor(-48.0276, device='cuda:0', grad_fn=<NegBackward0>), tensor(-1.1681, device='cuda:0', grad_fn=<AddBackward0>)]\n",
      "0.29464042625100195\n",
      "tensor(-97.3195, device='cuda:0', grad_fn=<NegBackward0>) [tensor(-48.5762, device='cuda:0', grad_fn=<NegBackward0>), tensor(-47.9732, device='cuda:0', grad_fn=<NegBackward0>), tensor(-1.1599, device='cuda:0', grad_fn=<AddBackward0>)]\n",
      "tensor(-97.3214, device='cuda:0', grad_fn=<NegBackward0>) [tensor(-48.5762, device='cuda:0', grad_fn=<NegBackward0>), tensor(-47.9567, device='cuda:0', grad_fn=<NegBackward0>), tensor(-1.2001, device='cuda:0', grad_fn=<AddBackward0>)]\n",
      "0.3088501229296689\n",
      "tensor(-97.4245, device='cuda:0', grad_fn=<NegBackward0>) [tensor(-48.6057, device='cuda:0', grad_fn=<NegBackward0>), tensor(-48.0397, device='cuda:0', grad_fn=<NegBackward0>), tensor(-1.1794, device='cuda:0', grad_fn=<AddBackward0>)]\n",
      "tensor(-97.4825, device='cuda:0', grad_fn=<NegBackward0>) [tensor(-48.6057, device='cuda:0', grad_fn=<NegBackward0>), tensor(-48.0806, device='cuda:0', grad_fn=<NegBackward0>), tensor(-1.2172, device='cuda:0', grad_fn=<AddBackward0>)]\n",
      "0.28000722350597607\n",
      "tensor(-97.2773, device='cuda:0', grad_fn=<NegBackward0>) [tensor(-48.4995, device='cuda:0', grad_fn=<NegBackward0>), tensor(-48.0644, device='cuda:0', grad_fn=<NegBackward0>), tensor(-1.0410, device='cuda:0', grad_fn=<AddBackward0>)]\n",
      "tensor(-97.2240, device='cuda:0', grad_fn=<NegBackward0>) [tensor(-48.4995, device='cuda:0', grad_fn=<NegBackward0>), tensor(-48.0342, device='cuda:0', grad_fn=<NegBackward0>), tensor(-0.9942, device='cuda:0', grad_fn=<AddBackward0>)]\n",
      "0.2834716952297896\n",
      "tensor(-97.5234, device='cuda:0', grad_fn=<NegBackward0>) [tensor(-48.6334, device='cuda:0', grad_fn=<NegBackward0>), tensor(-48.2159, device='cuda:0', grad_fn=<NegBackward0>), tensor(-0.9621, device='cuda:0', grad_fn=<AddBackward0>)]\n",
      "tensor(-97.5047, device='cuda:0', grad_fn=<NegBackward0>) [tensor(-48.6334, device='cuda:0', grad_fn=<NegBackward0>), tensor(-48.1541, device='cuda:0', grad_fn=<NegBackward0>), tensor(-1.0488, device='cuda:0', grad_fn=<AddBackward0>)]\n",
      "0.30604538226873274\n",
      "tensor(-97.3970, device='cuda:0', grad_fn=<NegBackward0>) [tensor(-48.5741, device='cuda:0', grad_fn=<NegBackward0>), tensor(-48.0325, device='cuda:0', grad_fn=<NegBackward0>), tensor(-1.2041, device='cuda:0', grad_fn=<AddBackward0>)]\n",
      "tensor(-97.3320, device='cuda:0', grad_fn=<NegBackward0>) [tensor(-48.5741, device='cuda:0', grad_fn=<NegBackward0>), tensor(-47.9614, device='cuda:0', grad_fn=<NegBackward0>), tensor(-1.2176, device='cuda:0', grad_fn=<AddBackward0>)]\n",
      "0.3022134362659815\n",
      "tensor(-97.5330, device='cuda:0', grad_fn=<NegBackward0>) [tensor(-48.6594, device='cuda:0', grad_fn=<NegBackward0>), tensor(-48.1230, device='cuda:0', grad_fn=<NegBackward0>), tensor(-1.1184, device='cuda:0', grad_fn=<AddBackward0>)]\n",
      "tensor(-97.5767, device='cuda:0', grad_fn=<NegBackward0>) [tensor(-48.6594, device='cuda:0', grad_fn=<NegBackward0>), tensor(-48.1609, device='cuda:0', grad_fn=<NegBackward0>), tensor(-1.1307, device='cuda:0', grad_fn=<AddBackward0>)]\n",
      "0.28797118063930915\n",
      "tensor(-97.4652, device='cuda:0', grad_fn=<NegBackward0>) [tensor(-48.6309, device='cuda:0', grad_fn=<NegBackward0>), tensor(-48.0817, device='cuda:0', grad_fn=<NegBackward0>), tensor(-1.1225, device='cuda:0', grad_fn=<AddBackward0>)]\n",
      "tensor(-97.5222, device='cuda:0', grad_fn=<NegBackward0>) [tensor(-48.6309, device='cuda:0', grad_fn=<NegBackward0>), tensor(-48.1696, device='cuda:0', grad_fn=<NegBackward0>), tensor(-1.0580, device='cuda:0', grad_fn=<AddBackward0>)]\n",
      "0.3085045611131274\n",
      "tensor(-97.5375, device='cuda:0', grad_fn=<NegBackward0>) [tensor(-48.6300, device='cuda:0', grad_fn=<NegBackward0>), tensor(-48.1352, device='cuda:0', grad_fn=<NegBackward0>), tensor(-1.1647, device='cuda:0', grad_fn=<AddBackward0>)]\n",
      "tensor(-97.5044, device='cuda:0', grad_fn=<NegBackward0>) [tensor(-48.6300, device='cuda:0', grad_fn=<NegBackward0>), tensor(-48.0773, device='cuda:0', grad_fn=<NegBackward0>), tensor(-1.2189, device='cuda:0', grad_fn=<AddBackward0>)]\n",
      "0.3009972082829388\n",
      "tensor(-97.5374, device='cuda:0', grad_fn=<NegBackward0>) [tensor(-48.6522, device='cuda:0', grad_fn=<NegBackward0>), tensor(-48.1112, device='cuda:0', grad_fn=<NegBackward0>), tensor(-1.1684, device='cuda:0', grad_fn=<AddBackward0>)]\n",
      "tensor(-97.4898, device='cuda:0', grad_fn=<NegBackward0>) [tensor(-48.6522, device='cuda:0', grad_fn=<NegBackward0>), tensor(-48.0831, device='cuda:0', grad_fn=<NegBackward0>), tensor(-1.1264, device='cuda:0', grad_fn=<AddBackward0>)]\n",
      "0.297467346868746\n",
      "tensor(-97.5595, device='cuda:0', grad_fn=<NegBackward0>) [tensor(-48.6775, device='cuda:0', grad_fn=<NegBackward0>), tensor(-48.1132, device='cuda:0', grad_fn=<NegBackward0>), tensor(-1.1572, device='cuda:0', grad_fn=<AddBackward0>)]\n",
      "tensor(-97.5786, device='cuda:0', grad_fn=<NegBackward0>) [tensor(-48.6775, device='cuda:0', grad_fn=<NegBackward0>), tensor(-48.1658, device='cuda:0', grad_fn=<NegBackward0>), tensor(-1.0862, device='cuda:0', grad_fn=<AddBackward0>)]\n",
      "0.2864792568006046\n",
      "tensor(-97.5621, device='cuda:0', grad_fn=<NegBackward0>) [tensor(-48.6936, device='cuda:0', grad_fn=<NegBackward0>), tensor(-48.1596, device='cuda:0', grad_fn=<NegBackward0>), tensor(-1.0317, device='cuda:0', grad_fn=<AddBackward0>)]\n",
      "tensor(-97.6544, device='cuda:0', grad_fn=<NegBackward0>) [tensor(-48.6936, device='cuda:0', grad_fn=<NegBackward0>), tensor(-48.2481, device='cuda:0', grad_fn=<NegBackward0>), tensor(-1.0394, device='cuda:0', grad_fn=<AddBackward0>)]\n",
      "0.3175745517984899\n",
      "tensor(-97.5725, device='cuda:0', grad_fn=<NegBackward0>) [tensor(-48.6452, device='cuda:0', grad_fn=<NegBackward0>), tensor(-48.0933, device='cuda:0', grad_fn=<NegBackward0>), tensor(-1.3026, device='cuda:0', grad_fn=<AddBackward0>)]\n",
      "tensor(-97.5583, device='cuda:0', grad_fn=<NegBackward0>) [tensor(-48.6452, device='cuda:0', grad_fn=<NegBackward0>), tensor(-48.0878, device='cuda:0', grad_fn=<NegBackward0>), tensor(-1.2824, device='cuda:0', grad_fn=<AddBackward0>)]\n",
      "0.2920736149701241\n",
      "tensor(-97.4807, device='cuda:0', grad_fn=<NegBackward0>) [tensor(-48.6433, device='cuda:0', grad_fn=<NegBackward0>), tensor(-48.1010, device='cuda:0', grad_fn=<NegBackward0>), tensor(-1.0884, device='cuda:0', grad_fn=<AddBackward0>)]\n",
      "tensor(-97.4916, device='cuda:0', grad_fn=<NegBackward0>) [tensor(-48.6433, device='cuda:0', grad_fn=<NegBackward0>), tensor(-48.0535, device='cuda:0', grad_fn=<NegBackward0>), tensor(-1.2140, device='cuda:0', grad_fn=<AddBackward0>)]\n",
      "0.29903727061226987\n",
      "tensor(-97.2782, device='cuda:0', grad_fn=<NegBackward0>) [tensor(-48.5277, device='cuda:0', grad_fn=<NegBackward0>), tensor(-47.9502, device='cuda:0', grad_fn=<NegBackward0>), tensor(-1.2263, device='cuda:0', grad_fn=<AddBackward0>)]\n",
      "tensor(-97.2341, device='cuda:0', grad_fn=<NegBackward0>) [tensor(-48.5277, device='cuda:0', grad_fn=<NegBackward0>), tensor(-47.9238, device='cuda:0', grad_fn=<NegBackward0>), tensor(-1.1871, device='cuda:0', grad_fn=<AddBackward0>)]\n",
      "0.2964831272741029\n",
      "tensor(-97.4901, device='cuda:0', grad_fn=<NegBackward0>) [tensor(-48.5828, device='cuda:0', grad_fn=<NegBackward0>), tensor(-48.1522, device='cuda:0', grad_fn=<NegBackward0>), tensor(-1.1279, device='cuda:0', grad_fn=<AddBackward0>)]\n",
      "tensor(-97.3626, device='cuda:0', grad_fn=<NegBackward0>) [tensor(-48.5828, device='cuda:0', grad_fn=<NegBackward0>), tensor(-48.0062, device='cuda:0', grad_fn=<NegBackward0>), tensor(-1.1678, device='cuda:0', grad_fn=<AddBackward0>)]\n"
     ]
    },
    {
     "name": "stdout",
     "output_type": "stream",
     "text": [
      "0.29357262832877784\n",
      "tensor(-97.5819, device='cuda:0', grad_fn=<NegBackward0>) [tensor(-48.6778, device='cuda:0', grad_fn=<NegBackward0>), tensor(-48.1830, device='cuda:0', grad_fn=<NegBackward0>), tensor(-1.0568, device='cuda:0', grad_fn=<AddBackward0>)]\n",
      "tensor(-97.6115, device='cuda:0', grad_fn=<NegBackward0>) [tensor(-48.6778, device='cuda:0', grad_fn=<NegBackward0>), tensor(-48.2003, device='cuda:0', grad_fn=<NegBackward0>), tensor(-1.0822, device='cuda:0', grad_fn=<AddBackward0>)]\n",
      "0.28158664761979946\n",
      "tensor(-97.5305, device='cuda:0', grad_fn=<NegBackward0>) [tensor(-48.6397, device='cuda:0', grad_fn=<NegBackward0>), tensor(-48.2002, device='cuda:0', grad_fn=<NegBackward0>), tensor(-0.9949, device='cuda:0', grad_fn=<AddBackward0>)]\n",
      "tensor(-97.4470, device='cuda:0', grad_fn=<NegBackward0>) [tensor(-48.6397, device='cuda:0', grad_fn=<NegBackward0>), tensor(-48.1171, device='cuda:0', grad_fn=<NegBackward0>), tensor(-0.9940, device='cuda:0', grad_fn=<AddBackward0>)]\n",
      "0.29373528529135173\n",
      "tensor(-97.5816, device='cuda:0', grad_fn=<NegBackward0>) [tensor(-48.6790, device='cuda:0', grad_fn=<NegBackward0>), tensor(-48.1715, device='cuda:0', grad_fn=<NegBackward0>), tensor(-1.0774, device='cuda:0', grad_fn=<AddBackward0>)]\n",
      "tensor(-97.5528, device='cuda:0', grad_fn=<NegBackward0>) [tensor(-48.6790, device='cuda:0', grad_fn=<NegBackward0>), tensor(-48.1234, device='cuda:0', grad_fn=<NegBackward0>), tensor(-1.1177, device='cuda:0', grad_fn=<AddBackward0>)]\n",
      "0.2981499277482418\n",
      "tensor(-97.5116, device='cuda:0', grad_fn=<NegBackward0>) [tensor(-48.6440, device='cuda:0', grad_fn=<NegBackward0>), tensor(-48.1352, device='cuda:0', grad_fn=<NegBackward0>), tensor(-1.0801, device='cuda:0', grad_fn=<AddBackward0>)]\n",
      "tensor(-97.5464, device='cuda:0', grad_fn=<NegBackward0>) [tensor(-48.6440, device='cuda:0', grad_fn=<NegBackward0>), tensor(-48.1588, device='cuda:0', grad_fn=<NegBackward0>), tensor(-1.1035, device='cuda:0', grad_fn=<AddBackward0>)]\n",
      "0.300278890044772\n",
      "tensor(-97.5001, device='cuda:0', grad_fn=<NegBackward0>) [tensor(-48.6270, device='cuda:0', grad_fn=<NegBackward0>), tensor(-48.1138, device='cuda:0', grad_fn=<NegBackward0>), tensor(-1.1366, device='cuda:0', grad_fn=<AddBackward0>)]\n",
      "tensor(-97.4069, device='cuda:0', grad_fn=<NegBackward0>) [tensor(-48.6270, device='cuda:0', grad_fn=<NegBackward0>), tensor(-48.0188, device='cuda:0', grad_fn=<NegBackward0>), tensor(-1.1406, device='cuda:0', grad_fn=<AddBackward0>)]\n",
      "0.2944148648990199\n",
      "tensor(-97.5961, device='cuda:0', grad_fn=<NegBackward0>) [tensor(-48.6893, device='cuda:0', grad_fn=<NegBackward0>), tensor(-48.1838, device='cuda:0', grad_fn=<NegBackward0>), tensor(-1.0607, device='cuda:0', grad_fn=<AddBackward0>)]\n",
      "tensor(-97.5839, device='cuda:0', grad_fn=<NegBackward0>) [tensor(-48.6893, device='cuda:0', grad_fn=<NegBackward0>), tensor(-48.1207, device='cuda:0', grad_fn=<NegBackward0>), tensor(-1.1682, device='cuda:0', grad_fn=<AddBackward0>)]\n",
      "0.3088187996177787\n",
      "tensor(-97.5309, device='cuda:0', grad_fn=<NegBackward0>) [tensor(-48.6432, device='cuda:0', grad_fn=<NegBackward0>), tensor(-48.0766, device='cuda:0', grad_fn=<NegBackward0>), tensor(-1.2502, device='cuda:0', grad_fn=<AddBackward0>)]\n"
     ]
    }
   ],
   "source": [
    "# data selected\n",
    "mean_V = []\n",
    "n_dis2 = 1\n",
    "n_dis = 1\n",
    "mode = 11\n",
    "gam3 = 1\n",
    "mcr_gan_loss = MCRGANloss(gam1=1., gam2=1., gam3=gam3, eps=0.5, numclasses=numclasses, mode=mode, rho=None)\n",
    "loss_V = 0\n",
    "last_V = -1000\n",
    "num_steps = 500\n",
    "lr1 = 1e-3\n",
    "lr2 = 1e-3\n",
    "optD = optim.Adam(netD.parameters(), lr1, betas=(0.5, 0.999))\n",
    "optG = optim.Adam(netG.parameters(), lr2, betas=(0.5, 0.999))\n",
    "meanV_sum = []\n",
    "radius_list = []\n",
    "radius = 5\n",
    "\n",
    "for epoch in range(num_steps):\n",
    "    if 1==1:\n",
    "        \n",
    "        #radius,_ = gs_radius(radius1=0,radius2=100,netD=netD,real_cpu=real_cpu,real_label=real_label,tor=1e-5,n_dis=2,lam=0.618,mode=mode)\n",
    "        #radius_list.append(radius)\n",
    "        #print(radius)\n",
    "\n",
    "        for i in range(n_dis):\n",
    "            netD.zero_grad()\n",
    "            optD.zero_grad()\n",
    "            Z = netD(real_cpu)\n",
    "            net_noise = get_noise(DATASET, device, LABEL)\n",
    "            #radius,_ = gs_radius(radius1=0,radius2=100,netD=netD,real_cpu=real_cpu,real_label=real_label,tor=1e-5,n_dis=2,lam=0.618,mode=mode)\n",
    "            #radius_list.append(radius)\n",
    "            #print(radius)\n",
    "            fed_state_dict = get_netG(netD,netV,net_noise,radius)\n",
    "            netG.load_state_dict(fed_state_dict)\n",
    "            Z_bar = netG(real_cpu)\n",
    "            errD, errD_EC = mcr_gan_loss(Z, Z_bar, real_label, 1, n_dis)\n",
    "            print(errD, errD_EC)\n",
    "            errD.backward()\n",
    "            optD.step()\n",
    "        temp = 0\n",
    "        for j in range(n_dis2):\n",
    "            netG.zero_grad()\n",
    "            optG.zero_grad()\n",
    "            Z = netD(real_cpu)\n",
    "            net_noise = get_noise(DATASET, device, LABEL)\n",
    "            radius,_ = gs_radius(radius1=0,radius2=100,netD=netD,real_cpu=real_cpu,real_label=real_label,tor=1e-5,n_dis=2,lam=0.618,mode=mode)\n",
    "            radius_list.append(radius)\n",
    "            print(radius)\n",
    "            fed_state_dict = get_netG(netD,netV,net_noise,radius)\n",
    "            netG.load_state_dict(fed_state_dict)\n",
    "            Z_bar = netG(real_cpu)\n",
    "            errG, errG_EC = mcr_gan_loss(Z, Z_bar, real_label, n_dis2 - 1, n_dis2)\n",
    "            print(errG, errG_EC)\n",
    "            temp = errG\n",
    "            errG = (-1) * errG\n",
    "            errG.backward()\n",
    "            optG.step()\n",
    "\n",
    "            update_dic = update_netV(netV,netG,net_noise,fed_state_dict,radius)\n",
    "            netV.load_state_dict(update_dic)\n",
    "\n",
    "        loss_V = temp\n",
    "        "
   ]
  },
  {
   "cell_type": "code",
   "execution_count": 8,
   "id": "58be30d1",
   "metadata": {},
   "outputs": [
    {
     "data": {
      "text/plain": [
       "[99.97201769495192,\n",
       " 1.3740065462559539,\n",
       " 2.720376565418732,\n",
       " 99.99332673960592,\n",
       " 0.9401553023031095,\n",
       " 0.8197327007772182,\n",
       " 99.97606172681377,\n",
       " 0.6594673841332338,\n",
       " 0.6509235677904738,\n",
       " 0.5763317012032604,\n",
       " 0.5794537655440101,\n",
       " 0.5806084656534953,\n",
       " 0.5059994408123377,\n",
       " 0.5481175875121626,\n",
       " 0.5387857989600923,\n",
       " 0.491182979586555,\n",
       " 0.5171213458782722,\n",
       " 0.44335111173066066,\n",
       " 0.49653919190170814,\n",
       " 0.4254872721436422,\n",
       " 0.5057952783752385,\n",
       " 0.4578352103303126,\n",
       " 0.4573311194012386,\n",
       " 0.45325994427077765,\n",
       " 0.47736286480387896,\n",
       " 0.4596059331508983,\n",
       " 0.4304298955433022,\n",
       " 0.46042786648678913,\n",
       " 0.42732729316860707,\n",
       " 0.43845500120198616,\n",
       " 0.43771634336704873,\n",
       " 0.4217775457664469,\n",
       " 0.4138051177173747,\n",
       " 0.44020331211621916,\n",
       " 0.4184114891911153,\n",
       " 0.3904507010160912,\n",
       " 0.41445724324637623,\n",
       " 0.4146846632411579,\n",
       " 0.42580541402657696,\n",
       " 0.41577699456667006,\n",
       " 0.406876422877424,\n",
       " 0.3985412922459072,\n",
       " 0.3793193637248858,\n",
       " 0.3840729493698216,\n",
       " 0.39819569178514835,\n",
       " 0.37185677850920545,\n",
       " 0.4122694569789917,\n",
       " 0.3719977181787526,\n",
       " 0.33562303634775886,\n",
       " 0.4018543801866308,\n",
       " 0.3539444655325152,\n",
       " 0.3968409115044761,\n",
       " 0.39686325931347965,\n",
       " 0.37559343906474274,\n",
       " 0.38302254533628255,\n",
       " 0.40255856992204425,\n",
       " 0.38285961080101893,\n",
       " 0.3679039048195335,\n",
       " 0.3702031849853121,\n",
       " 0.3840729493698216,\n",
       " 0.37003922532004396,\n",
       " 0.3708575933979866,\n",
       " 0.3582870503396088,\n",
       " 0.37236766085378886,\n",
       " 0.3707088066828429,\n",
       " 0.37697874770403544,\n",
       " 0.3201764505214846,\n",
       " 0.36475547464524843,\n",
       " 0.36300828872446084,\n",
       " 0.3523520154942909,\n",
       " 0.3420518519773196,\n",
       " 0.3577012755166959,\n",
       " 0.340752585737538,\n",
       " 0.39071448430878175,\n",
       " 0.3304231416279618,\n",
       " 0.34432960698741416,\n",
       " 0.3477394358538297,\n",
       " 0.36230394585178954,\n",
       " 0.3360983639476633,\n",
       " 0.3546804352909749,\n",
       " 0.3431830278996942,\n",
       " 0.3316600061885446,\n",
       " 0.3385393536420432,\n",
       " 0.34088610754360155,\n",
       " 0.3455616131867967,\n",
       " 0.340539666742453,\n",
       " 0.3326108225888169,\n",
       " 0.31961442543516544,\n",
       " 0.31471853396319716,\n",
       " 0.32758281061658323,\n",
       " 0.32826826983329854,\n",
       " 0.3469603116030083,\n",
       " 0.33799272431928384,\n",
       " 0.33776697125655586,\n",
       " 0.336489280464128,\n",
       " 0.3002710596983067,\n",
       " 0.3100176354831972,\n",
       " 0.3043504627478393,\n",
       " 0.3316141324078957,\n",
       " 0.3210864966270524,\n",
       " 0.33351145666346155,\n",
       " 0.32280961658826796,\n",
       " 0.3199598341851783,\n",
       " 0.3021112931994008,\n",
       " 0.35396166301288495,\n",
       " 0.3151105557430675,\n",
       " 0.33113875799726195,\n",
       " 0.3358015725295675,\n",
       " 0.32804251677057056,\n",
       " 0.3359216524406004,\n",
       " 0.32107670080434403,\n",
       " 0.31854094943420813,\n",
       " 0.31458097840867755,\n",
       " 0.3064144529512285,\n",
       " 0.31442658073645324,\n",
       " 0.288362773360585,\n",
       " 0.315424856778815,\n",
       " 0.3002740518534201,\n",
       " 0.3292003535598831,\n",
       " 0.3110378918715499,\n",
       " 0.31293204577033357,\n",
       " 0.32137570033668766,\n",
       " 0.29599532092140834,\n",
       " 0.3041561169106554,\n",
       " 0.31978978517383844,\n",
       " 0.29341786041902895,\n",
       " 0.2853011520770791,\n",
       " 0.3010199180392541,\n",
       " 0.30918198291512416,\n",
       " 0.28815773404077394,\n",
       " 0.30578466844366586,\n",
       " 0.32299300668423114,\n",
       " 0.3186308031921961,\n",
       " 0.3004557932625808,\n",
       " 0.3186436439826069,\n",
       " 0.29285564362196387,\n",
       " 0.3113411177217465,\n",
       " 0.29441785549626337,\n",
       " 0.30808059846141705,\n",
       " 0.29791277039953673,\n",
       " 0.3013878663090165,\n",
       " 0.28647932845285795,\n",
       " 0.3119353942336297,\n",
       " 0.30991792470395074,\n",
       " 0.3073581232373322,\n",
       " 0.2903639938028998,\n",
       " 0.29115419918625046,\n",
       " 0.30292729517548544,\n",
       " 0.2933087607312018,\n",
       " 0.294271024993827,\n",
       " 0.3028070191066609,\n",
       " 0.3015755659703481,\n",
       " 0.30943473026746166,\n",
       " 0.2877341005808544,\n",
       " 0.3120549313819486,\n",
       " 0.2871561495040748,\n",
       " 0.28194527400495917,\n",
       " 0.2972730117138362,\n",
       " 0.28471632914641404,\n",
       " 0.28184275363680633,\n",
       " 0.3016951365273692,\n",
       " 0.2960050260574682,\n",
       " 0.3000468336553119,\n",
       " 0.29464042625100195,\n",
       " 0.2965693532250363,\n",
       " 0.28578915014051964,\n",
       " 0.29467360160404626,\n",
       " 0.28394357708272205,\n",
       " 0.29946074204408013,\n",
       " 0.2915906709229457,\n",
       " 0.2944461882109101,\n",
       " 0.28182536249639556,\n",
       " 0.28106880394115186,\n",
       " 0.2631882224020477,\n",
       " 0.2917496579549628,\n",
       " 0.2926311410054907,\n",
       " 0.2895975844518091,\n",
       " 0.29535601463609884,\n",
       " 0.30931770000005776,\n",
       " 0.28536542446686725,\n",
       " 0.27536066319187025,\n",
       " 0.29571320858075545,\n",
       " 0.27888291731830367,\n",
       " 0.2908062485759374,\n",
       " 0.2920229237663249,\n",
       " 0.29819391744466284,\n",
       " 0.272068186407573,\n",
       " 0.30027908175551793,\n",
       " 0.2815664447830321,\n",
       " 0.2846186617287672,\n",
       " 0.27584864144743715,\n",
       " 0.28999575263938804,\n",
       " 0.2815661345714691,\n",
       " 0.2864382561432469,\n",
       " 0.2943924438710814,\n",
       " 0.27911804588602723,\n",
       " 0.2826813129086037,\n",
       " 0.28556175810980644,\n",
       " 0.30781699967815995,\n",
       " 0.27448411330748246,\n",
       " 0.29055520260153084,\n",
       " 0.26936669948303293,\n",
       " 0.2966141978784306,\n",
       " 0.2666412807140869,\n",
       " 0.29574823175519366,\n",
       " 0.2874662696360583,\n",
       " 0.26471411116726845,\n",
       " 0.3041180942446734,\n",
       " 0.2950954020030395,\n",
       " 0.29042784675054406,\n",
       " 0.2777114572147676,\n",
       " 0.2991875067176117,\n",
       " 0.27863683342705176,\n",
       " 0.28379038026992415,\n",
       " 0.28462948267247595,\n",
       " 0.28366434039008603,\n",
       " 0.26880747543649763,\n",
       " 0.256316749945963,\n",
       " 0.27989819294957713,\n",
       " 0.26559370194935755,\n",
       " 0.28999574195923916,\n",
       " 0.28632902321608794,\n",
       " 0.2626258937280737,\n",
       " 0.2801477517809568,\n",
       " 0.29101367091126973,\n",
       " 0.29242108631676395,\n",
       " 0.2887404055761469,\n",
       " 0.27512236631623926,\n",
       " 0.2897684963899701,\n",
       " 0.2838087365134909,\n",
       " 0.28692440876586534,\n",
       " 0.27289891027668645,\n",
       " 0.2854746573940262,\n",
       " 0.27581450684820713,\n",
       " 0.27669508832769657,\n",
       " 0.2916268310083797,\n",
       " 0.280234779263232,\n",
       " 0.26040451504593864,\n",
       " 0.29545553721157,\n",
       " 0.2804398423260378,\n",
       " 0.2946628431914337,\n",
       " 0.3039980551358966,\n",
       " 0.2915113529205097,\n",
       " 0.2995489008858112,\n",
       " 0.2907857489560302,\n",
       " 0.2870825997001391,\n",
       " 0.3009328066356351,\n",
       " 0.28261494744204746,\n",
       " 0.2833529848392861,\n",
       " 0.27683004739774475,\n",
       " 0.2730782545156231,\n",
       " 0.2859502087477503,\n",
       " 0.28907828911621514,\n",
       " 0.2675275920759495,\n",
       " 0.2947272900067344,\n",
       " 0.278110774045722,\n",
       " 0.2674008587956048,\n",
       " 0.29009256935254296,\n",
       " 0.2866120116222193,\n",
       " 0.2835786194102031,\n",
       " 0.2713193280666256,\n",
       " 0.27245669297496755,\n",
       " 0.29359355170942525,\n",
       " 0.3005344926920437,\n",
       " 0.27757194182200184,\n",
       " 0.25283313903564714,\n",
       " 0.28882725612990184,\n",
       " 0.27042223715739594,\n",
       " 0.29139916996604354,\n",
       " 0.2971607577022229,\n",
       " 0.2706448016790313,\n",
       " 0.27659472383756284,\n",
       " 0.28761810228298956,\n",
       " 0.29124110819128474,\n",
       " 0.26396039267782295,\n",
       " 0.270509083631334,\n",
       " 0.2845976121508261,\n",
       " 0.3012704797322978,\n",
       " 0.28540180949698146,\n",
       " 0.2747242037658002,\n",
       " 0.2519187875642587,\n",
       " 0.27867402000864255,\n",
       " 0.2699874988202828,\n",
       " 0.27558805522258345,\n",
       " 0.2962003412609916,\n",
       " 0.2575232244704826,\n",
       " 0.2789034156074799,\n",
       " 0.2723062331126772,\n",
       " 0.2860165528535069,\n",
       " 0.28545734297070935,\n",
       " 0.273192550870275,\n",
       " 0.29660048482618057,\n",
       " 0.2895945944495536,\n",
       " 0.3040010451381521,\n",
       " 0.3098878298663344,\n",
       " 0.27252303286096397,\n",
       " 0.29197704998567603,\n",
       " 0.282612030063739,\n",
       " 0.268949862354278,\n",
       " 0.30285795831919904,\n",
       " 0.278532477335462,\n",
       " 0.2879410009256602,\n",
       " 0.2768788838115686,\n",
       " 0.2899851513704937,\n",
       " 0.2711924642962998,\n",
       " 0.283688332935397,\n",
       " 0.2698737687666974,\n",
       " 0.296199337316495,\n",
       " 0.2904688508921837,\n",
       " 0.3090951354784224,\n",
       " 0.29090617154802395,\n",
       " 0.29460879272754875,\n",
       " 0.2935693560790278,\n",
       " 0.28419699708880924,\n",
       " 0.2823132980287399,\n",
       " 0.30509460043548814,\n",
       " 0.2825173450845135,\n",
       " 0.28632861413164484,\n",
       " 0.26965263539039225,\n",
       " 0.29061439932961713,\n",
       " 0.26574421778136875,\n",
       " 0.27528120845801596,\n",
       " 0.2720788156405358,\n",
       " 0.28799952188081845,\n",
       " 0.2891982402462095,\n",
       " 0.27620594570282264,\n",
       " 0.29849740822454035,\n",
       " 0.29307821437670245,\n",
       " 0.2833975192193876,\n",
       " 0.2882377835885595,\n",
       " 0.2901149164260683,\n",
       " 0.2640442485545176,\n",
       " 0.2936796990032197,\n",
       " 0.2865896185639139,\n",
       " 0.2727728072650812,\n",
       " 0.2696684139654575,\n",
       " 0.29798699981806265,\n",
       " 0.29814958957261034,\n",
       " 0.2558793082920567,\n",
       " 0.2675950820736057,\n",
       " 0.2929738520520095,\n",
       " 0.28669701673515213,\n",
       " 0.27984429557579693,\n",
       " 0.2803198123402333,\n",
       " 0.30439636916979695,\n",
       " 0.2911102079316493,\n",
       " 0.29625588170483386,\n",
       " 0.28154426070057126,\n",
       " 0.2856791889751291,\n",
       " 0.2902771086847444,\n",
       " 0.291585539610559,\n",
       " 0.2781819720647483,\n",
       " 0.29503870164068496,\n",
       " 0.29213537668455103,\n",
       " 0.3010512520312932,\n",
       " 0.2945864449185452,\n",
       " 0.270509083631334,\n",
       " 0.2967537222089147,\n",
       " 0.2820087409485613,\n",
       " 0.2827241590067835,\n",
       " 0.2885020219058713,\n",
       " 0.2881727252598044,\n",
       " 0.28303868380353864,\n",
       " 0.29821449303177927,\n",
       " 0.2711044691811114,\n",
       " 0.26940596946577144,\n",
       " 0.27963846300246303,\n",
       " 0.28774925382799416,\n",
       " 0.29203276485846985,\n",
       " 0.2836527408141955,\n",
       " 0.2742594249869209,\n",
       " 0.28175371575555985,\n",
       " 0.2827477302332953,\n",
       " 0.28104528865178063,\n",
       " 0.2939041462809792,\n",
       " 0.2944145546874569,\n",
       " 0.27118962073535363,\n",
       " 0.2945028600142083,\n",
       " 0.27230642482342315,\n",
       " 0.2646682597126911,\n",
       " 0.2897146788076322,\n",
       " 0.29206094294871804,\n",
       " 0.27073464498331606,\n",
       " 0.28380601144091633,\n",
       " 0.3004527919851885,\n",
       " 0.2878010077606168,\n",
       " 0.2874125598709472,\n",
       " 0.30105127999536163,\n",
       " 0.28803568338406055,\n",
       " 0.29934867564113593,\n",
       " 0.28228986915259124,\n",
       " 0.24941383499707012,\n",
       " 0.31385445215145064,\n",
       " 0.28982222344031455,\n",
       " 0.2853704924169544,\n",
       " 0.28856968750158973,\n",
       " 0.2625390472541356,\n",
       " 0.280656409334037,\n",
       " 0.2686758122732337,\n",
       " 0.2779378308005003,\n",
       " 0.30318785595891096,\n",
       " 0.27022575704400653,\n",
       " 0.3166139436465127,\n",
       " 0.2965906785071173,\n",
       " 0.3017615695884283,\n",
       " 0.2890010116088742,\n",
       " 0.29905961842127343,\n",
       " 0.295394026621932,\n",
       " 0.2906962891349624,\n",
       " 0.26826760236092934,\n",
       " 0.2966649491001907,\n",
       " 0.3022134362659815,\n",
       " 0.2768834127541212,\n",
       " 0.2770981343212983,\n",
       " 0.267701393402696,\n",
       " 0.25561337842998927,\n",
       " 0.2924876221332665,\n",
       " 0.3034015252523997,\n",
       " 0.29665519853578826,\n",
       " 0.28354537469028157,\n",
       " 0.2944890770323125,\n",
       " 0.3134938033386649,\n",
       " 0.2839260693907893,\n",
       " 0.29416512505930315,\n",
       " 0.28207026414476044,\n",
       " 0.2895940795239449,\n",
       " 0.2825868796570816,\n",
       " 0.29345102917174126,\n",
       " 0.3130825468053563,\n",
       " 0.2866469854144012,\n",
       " 0.2875114455584897,\n",
       " 0.2958321280615483,\n",
       " 0.285755765794935,\n",
       " 0.2775201223737933,\n",
       " 0.2996014340456036,\n",
       " 0.29263423219074963,\n",
       " 0.2901902449290119,\n",
       " 0.3012704558501714,\n",
       " 0.29874849714930846,\n",
       " 0.2853098940222026,\n",
       " 0.270509083631334,\n",
       " 0.30954509203077096,\n",
       " 0.2987816643441508,\n",
       " 0.2646711770909996,\n",
       " 0.3072537362048742,\n",
       " 0.27540352404920415,\n",
       " 0.29523777809941415,\n",
       " 0.28304658076010536,\n",
       " 0.2867526583744409,\n",
       " 0.2981242383329281,\n",
       " 0.29095945918570076,\n",
       " 0.3006012216637816,\n",
       " 0.30785615118365756,\n",
       " 0.3106035369649347,\n",
       " 0.2978305021964583,\n",
       " 0.28719484770652665,\n",
       " 0.305699663330733,\n",
       " 0.300933834744357,\n",
       " 0.30841765210809313,\n",
       " 0.2986692984556286,\n",
       " 0.29196158159859764,\n",
       " 0.2941874728683067,\n",
       " 0.3069442733604786,\n",
       " 0.3144530652620036,\n",
       " 0.2853341291190455,\n",
       " 0.30912045971892504,\n",
       " 0.29688259056650146,\n",
       " 0.3018917309200466,\n",
       " 0.29206393510383144,\n",
       " 0.2934335195540896,\n",
       " 0.29462775711819683,\n",
       " 0.3125307797834071,\n",
       " 0.3134913147018793,\n",
       " 0.2932344275945891,\n",
       " 0.2905581931987743,\n",
       " 0.29835463787626204,\n",
       " 0.2868301549962689,\n",
       " 0.30478965584580636,\n",
       " 0.29464042625100195,\n",
       " 0.3088501229296689,\n",
       " 0.28000722350597607,\n",
       " 0.2834716952297896,\n",
       " 0.30604538226873274,\n",
       " 0.3022134362659815,\n",
       " 0.28797118063930915,\n",
       " 0.3085045611131274,\n",
       " 0.3009972082829388,\n",
       " 0.297467346868746,\n",
       " 0.2864792568006046,\n",
       " 0.3175745517984899,\n",
       " 0.2920736149701241,\n",
       " 0.29903727061226987,\n",
       " 0.2964831272741029,\n",
       " 0.29357262832877784,\n",
       " 0.28158664761979946,\n",
       " 0.29373528529135173,\n",
       " 0.2981499277482418,\n",
       " 0.300278890044772,\n",
       " 0.2944148648990199,\n",
       " 0.3088187996177787]"
      ]
     },
     "execution_count": 8,
     "metadata": {},
     "output_type": "execute_result"
    }
   ],
   "source": [
    "radius_list"
   ]
  },
  {
   "cell_type": "code",
   "execution_count": 9,
   "id": "32f480a3",
   "metadata": {},
   "outputs": [
    {
     "name": "stderr",
     "output_type": "stream",
     "text": [
      "extracting all features from dataset: 100%|██████████████████████████████████████████████| 1/1 [00:01<00:00,  1.71s/it]\n",
      "extracting all features from dataset: 100%|██████████████████████████████████████████████| 1/1 [00:01<00:00,  1.78s/it]\n"
     ]
    },
    {
     "name": "stdout",
     "output_type": "stream",
     "text": [
      "----------------------------\n",
      "Train_z, Test_z\n",
      "PCA: 0.9594\n",
      "SVD: 0.9558\n",
      "NetD, Acc at first 0.967\n"
     ]
    },
    {
     "name": "stderr",
     "output_type": "stream",
     "text": [
      "extracting all features from dataset: 100%|██████████████████████████████████████████████| 2/2 [00:04<00:00,  2.45s/it]\n",
      "extracting all features from dataset: 100%|██████████████████████████████████████████████| 1/1 [00:01<00:00,  1.70s/it]\n"
     ]
    },
    {
     "name": "stdout",
     "output_type": "stream",
     "text": [
      "----------------------------\n",
      "Train_z, Test_z\n",
      "PCA: 0.9594\n",
      "SVD: 0.9571\n",
      "NetG, Acc at first 0.9718\n"
     ]
    }
   ],
   "source": [
    "#acc at first for NetD\n",
    "train_X, train_Z, train_X_bar, train_Z_bar, train_labels = extract_features2(testloader, netD, netG)\n",
    "\n",
    "test_X, test_Z, test_X_bar, test_Z_bar, test_labels = extract_features2(testloader, netD, netG)\n",
    "\n",
    "\n",
    "print(\"----------------------------\")\n",
    "print(\"Train_z, Test_z\")\n",
    "nearsub(n_comp, train_Z, train_labels, test_Z, test_labels)\n",
    "\n",
    "#acc at first for NetD\n",
    "from sklearn.neighbors import KNeighborsClassifier \n",
    "knn= KNeighborsClassifier(n_neighbors=10) \n",
    "\n",
    "knn.fit(train_Z,train_labels) \n",
    "knn.score(test_Z,test_labels) \n",
    " \n",
    "y_predict = knn.predict(test_Z) \n",
    "\n",
    "count =0\n",
    "for k in range(10000):\n",
    "    if y_predict[k] == test_labels[k]:\n",
    "        count +=1\n",
    "print('NetD, Acc at first',count/10000)\n",
    "Acc_results_D.append(count/10000)\n",
    "\n",
    "#acc at first for NetG\n",
    "train_X, train_Z, train_X_bar, train_Z_bar, train_labels = extract_features2(trainloader, netG, netD)\n",
    "\n",
    "test_X, test_Z, test_X_bar, test_Z_bar, test_labels = extract_features2(testloader, netG, netD)\n",
    "\n",
    "print(\"----------------------------\")\n",
    "print(\"Train_z, Test_z\")\n",
    "nearsub(n_comp, train_Z, train_labels, test_Z, test_labels)\n",
    "\n",
    "\n",
    "#acc at first\n",
    "from sklearn.neighbors import KNeighborsClassifier \n",
    "knn= KNeighborsClassifier(n_neighbors=10) \n",
    "\n",
    "knn.fit(train_Z,train_labels) \n",
    "knn.score(test_Z,test_labels) \n",
    " \n",
    "y_predict = knn.predict(test_Z) \n",
    "\n",
    "count =0\n",
    "for k in range(10000):\n",
    "    if y_predict[k] == test_labels[k]:\n",
    "        count +=1\n",
    "print('NetG, Acc at first',count/10000)\n",
    "Acc_results_G.append(count/10000)\n"
   ]
  },
  {
   "cell_type": "code",
   "execution_count": 10,
   "id": "b12f0476",
   "metadata": {},
   "outputs": [],
   "source": [
    "torch.save(netD, 'MNIST_NetD-mode11-radius1.pth')\n",
    "torch.save(netV, 'MNIST_NetV-mode11-radius1.pth')\n",
    "torch.save(netG, 'MNIST_NetG-mode11-radius1.pth')"
   ]
  },
  {
   "cell_type": "code",
   "execution_count": 11,
   "id": "a97aa6a9",
   "metadata": {},
   "outputs": [],
   "source": [
    "#robust testing\n",
    "r_list = [0,0.1,0.2,0.5,1,2,3,4,6,8,10]\n",
    "sample_num = 20"
   ]
  },
  {
   "cell_type": "code",
   "execution_count": 12,
   "id": "5dd88ab6",
   "metadata": {},
   "outputs": [
    {
     "name": "stderr",
     "output_type": "stream",
     "text": [
      "extracting all features from dataset: 100%|██████████████████████████████████████████████| 2/2 [00:04<00:00,  2.49s/it]\n",
      "extracting all features from dataset: 100%|██████████████████████████████████████████████| 1/1 [00:01<00:00,  1.70s/it]\n"
     ]
    },
    {
     "name": "stdout",
     "output_type": "stream",
     "text": [
      "----------------------------\n",
      "Train_z, Test_z\n",
      "PCA: 0.9584\n",
      "SVD: 0.9544\n",
      "NetG_fixD, Acc at sample 1 0.9698\n"
     ]
    },
    {
     "name": "stderr",
     "output_type": "stream",
     "text": [
      "extracting all features from dataset: 100%|██████████████████████████████████████████████| 2/2 [00:04<00:00,  2.44s/it]\n",
      "extracting all features from dataset: 100%|██████████████████████████████████████████████| 1/1 [00:01<00:00,  1.69s/it]\n"
     ]
    },
    {
     "name": "stdout",
     "output_type": "stream",
     "text": [
      "----------------------------\n",
      "Train_z, Test_z\n",
      "PCA: 0.9579\n",
      "SVD: 0.9544\n",
      "NetG_fixD, Acc at sample 2 0.9699\n"
     ]
    },
    {
     "name": "stderr",
     "output_type": "stream",
     "text": [
      "extracting all features from dataset: 100%|██████████████████████████████████████████████| 2/2 [00:04<00:00,  2.44s/it]\n",
      "extracting all features from dataset: 100%|██████████████████████████████████████████████| 1/1 [00:01<00:00,  1.71s/it]\n"
     ]
    },
    {
     "name": "stdout",
     "output_type": "stream",
     "text": [
      "----------------------------\n",
      "Train_z, Test_z\n",
      "PCA: 0.9585\n",
      "SVD: 0.954\n",
      "NetG_fixD, Acc at sample 3 0.9699\n"
     ]
    },
    {
     "name": "stderr",
     "output_type": "stream",
     "text": [
      "extracting all features from dataset: 100%|██████████████████████████████████████████████| 2/2 [00:05<00:00,  2.54s/it]\n",
      "extracting all features from dataset: 100%|██████████████████████████████████████████████| 1/1 [00:01<00:00,  1.68s/it]\n"
     ]
    },
    {
     "name": "stdout",
     "output_type": "stream",
     "text": [
      "----------------------------\n",
      "Train_z, Test_z\n",
      "PCA: 0.9584\n",
      "SVD: 0.9544\n",
      "NetG_fixD, Acc at sample 4 0.97\n"
     ]
    },
    {
     "name": "stderr",
     "output_type": "stream",
     "text": [
      "extracting all features from dataset: 100%|██████████████████████████████████████████████| 2/2 [00:04<00:00,  2.42s/it]\n",
      "extracting all features from dataset: 100%|██████████████████████████████████████████████| 1/1 [00:01<00:00,  1.72s/it]\n"
     ]
    },
    {
     "name": "stdout",
     "output_type": "stream",
     "text": [
      "----------------------------\n",
      "Train_z, Test_z\n",
      "PCA: 0.9573\n",
      "SVD: 0.9545\n",
      "NetG_fixD, Acc at sample 5 0.97\n"
     ]
    },
    {
     "name": "stderr",
     "output_type": "stream",
     "text": [
      "extracting all features from dataset: 100%|██████████████████████████████████████████████| 2/2 [00:05<00:00,  2.52s/it]\n",
      "extracting all features from dataset: 100%|██████████████████████████████████████████████| 1/1 [00:01<00:00,  1.68s/it]\n"
     ]
    },
    {
     "name": "stdout",
     "output_type": "stream",
     "text": [
      "----------------------------\n",
      "Train_z, Test_z\n",
      "PCA: 0.9585\n",
      "SVD: 0.9541\n",
      "NetG_fixD, Acc at sample 6 0.9701\n"
     ]
    },
    {
     "name": "stderr",
     "output_type": "stream",
     "text": [
      "extracting all features from dataset: 100%|██████████████████████████████████████████████| 2/2 [00:05<00:00,  2.53s/it]\n",
      "extracting all features from dataset: 100%|██████████████████████████████████████████████| 1/1 [00:01<00:00,  1.69s/it]\n"
     ]
    },
    {
     "name": "stdout",
     "output_type": "stream",
     "text": [
      "----------------------------\n",
      "Train_z, Test_z\n",
      "PCA: 0.9586\n",
      "SVD: 0.9541\n",
      "NetG_fixD, Acc at sample 7 0.97\n"
     ]
    },
    {
     "name": "stderr",
     "output_type": "stream",
     "text": [
      "extracting all features from dataset: 100%|██████████████████████████████████████████████| 2/2 [00:05<00:00,  2.53s/it]\n",
      "extracting all features from dataset: 100%|██████████████████████████████████████████████| 1/1 [00:01<00:00,  1.71s/it]\n"
     ]
    },
    {
     "name": "stdout",
     "output_type": "stream",
     "text": [
      "----------------------------\n",
      "Train_z, Test_z\n",
      "PCA: 0.9583\n",
      "SVD: 0.9538\n",
      "NetG_fixD, Acc at sample 8 0.9701\n"
     ]
    },
    {
     "name": "stderr",
     "output_type": "stream",
     "text": [
      "extracting all features from dataset: 100%|██████████████████████████████████████████████| 2/2 [00:04<00:00,  2.45s/it]\n",
      "extracting all features from dataset: 100%|██████████████████████████████████████████████| 1/1 [00:01<00:00,  1.71s/it]\n"
     ]
    },
    {
     "name": "stdout",
     "output_type": "stream",
     "text": [
      "----------------------------\n",
      "Train_z, Test_z\n",
      "PCA: 0.958\n",
      "SVD: 0.9544\n",
      "NetG_fixD, Acc at sample 9 0.97\n"
     ]
    },
    {
     "name": "stderr",
     "output_type": "stream",
     "text": [
      "extracting all features from dataset: 100%|██████████████████████████████████████████████| 2/2 [00:05<00:00,  2.53s/it]\n",
      "extracting all features from dataset: 100%|██████████████████████████████████████████████| 1/1 [00:01<00:00,  1.67s/it]\n"
     ]
    },
    {
     "name": "stdout",
     "output_type": "stream",
     "text": [
      "----------------------------\n",
      "Train_z, Test_z\n",
      "PCA: 0.9577\n",
      "SVD: 0.9548\n",
      "NetG_fixD, Acc at sample 10 0.9698\n"
     ]
    },
    {
     "name": "stderr",
     "output_type": "stream",
     "text": [
      "extracting all features from dataset: 100%|██████████████████████████████████████████████| 2/2 [00:04<00:00,  2.45s/it]\n",
      "extracting all features from dataset: 100%|██████████████████████████████████████████████| 1/1 [00:01<00:00,  1.69s/it]\n"
     ]
    },
    {
     "name": "stdout",
     "output_type": "stream",
     "text": [
      "----------------------------\n",
      "Train_z, Test_z\n",
      "PCA: 0.9576\n",
      "SVD: 0.9546\n",
      "NetG_fixD, Acc at sample 11 0.9696\n"
     ]
    },
    {
     "name": "stderr",
     "output_type": "stream",
     "text": [
      "extracting all features from dataset: 100%|██████████████████████████████████████████████| 2/2 [00:05<00:00,  2.57s/it]\n",
      "extracting all features from dataset: 100%|██████████████████████████████████████████████| 1/1 [00:01<00:00,  1.69s/it]\n"
     ]
    },
    {
     "name": "stdout",
     "output_type": "stream",
     "text": [
      "----------------------------\n",
      "Train_z, Test_z\n",
      "PCA: 0.9581\n",
      "SVD: 0.9537\n",
      "NetG_fixD, Acc at sample 12 0.9698\n"
     ]
    },
    {
     "name": "stderr",
     "output_type": "stream",
     "text": [
      "extracting all features from dataset: 100%|██████████████████████████████████████████████| 2/2 [00:05<00:00,  2.51s/it]\n",
      "extracting all features from dataset: 100%|██████████████████████████████████████████████| 1/1 [00:01<00:00,  1.72s/it]\n"
     ]
    },
    {
     "name": "stdout",
     "output_type": "stream",
     "text": [
      "----------------------------\n",
      "Train_z, Test_z\n",
      "PCA: 0.9578\n",
      "SVD: 0.9542\n",
      "NetG_fixD, Acc at sample 13 0.9702\n"
     ]
    },
    {
     "name": "stderr",
     "output_type": "stream",
     "text": [
      "extracting all features from dataset: 100%|██████████████████████████████████████████████| 2/2 [00:05<00:00,  2.56s/it]\n",
      "extracting all features from dataset: 100%|██████████████████████████████████████████████| 1/1 [00:01<00:00,  1.72s/it]\n"
     ]
    },
    {
     "name": "stdout",
     "output_type": "stream",
     "text": [
      "----------------------------\n",
      "Train_z, Test_z\n",
      "PCA: 0.9582\n",
      "SVD: 0.9546\n",
      "NetG_fixD, Acc at sample 14 0.9703\n"
     ]
    },
    {
     "name": "stderr",
     "output_type": "stream",
     "text": [
      "extracting all features from dataset: 100%|██████████████████████████████████████████████| 2/2 [00:05<00:00,  2.59s/it]\n",
      "extracting all features from dataset: 100%|██████████████████████████████████████████████| 1/1 [00:01<00:00,  1.65s/it]\n"
     ]
    },
    {
     "name": "stdout",
     "output_type": "stream",
     "text": [
      "----------------------------\n",
      "Train_z, Test_z\n",
      "PCA: 0.9582\n",
      "SVD: 0.9537\n",
      "NetG_fixD, Acc at sample 15 0.9701\n"
     ]
    },
    {
     "name": "stderr",
     "output_type": "stream",
     "text": [
      "extracting all features from dataset: 100%|██████████████████████████████████████████████| 2/2 [00:05<00:00,  2.50s/it]\n",
      "extracting all features from dataset: 100%|██████████████████████████████████████████████| 1/1 [00:01<00:00,  1.68s/it]\n"
     ]
    },
    {
     "name": "stdout",
     "output_type": "stream",
     "text": [
      "----------------------------\n",
      "Train_z, Test_z\n",
      "PCA: 0.9581\n",
      "SVD: 0.9546\n",
      "NetG_fixD, Acc at sample 16 0.9701\n"
     ]
    },
    {
     "name": "stderr",
     "output_type": "stream",
     "text": [
      "extracting all features from dataset: 100%|██████████████████████████████████████████████| 2/2 [00:04<00:00,  2.44s/it]\n",
      "extracting all features from dataset: 100%|██████████████████████████████████████████████| 1/1 [00:01<00:00,  1.73s/it]\n"
     ]
    },
    {
     "name": "stdout",
     "output_type": "stream",
     "text": [
      "----------------------------\n",
      "Train_z, Test_z\n",
      "PCA: 0.9581\n",
      "SVD: 0.9542\n",
      "NetG_fixD, Acc at sample 17 0.9701\n"
     ]
    },
    {
     "name": "stderr",
     "output_type": "stream",
     "text": [
      "extracting all features from dataset: 100%|██████████████████████████████████████████████| 2/2 [00:04<00:00,  2.47s/it]\n",
      "extracting all features from dataset: 100%|██████████████████████████████████████████████| 1/1 [00:01<00:00,  1.68s/it]\n"
     ]
    },
    {
     "name": "stdout",
     "output_type": "stream",
     "text": [
      "----------------------------\n",
      "Train_z, Test_z\n",
      "PCA: 0.9578\n",
      "SVD: 0.9544\n",
      "NetG_fixD, Acc at sample 18 0.9697\n"
     ]
    },
    {
     "name": "stderr",
     "output_type": "stream",
     "text": [
      "extracting all features from dataset: 100%|██████████████████████████████████████████████| 2/2 [00:04<00:00,  2.40s/it]\n",
      "extracting all features from dataset: 100%|██████████████████████████████████████████████| 1/1 [00:01<00:00,  1.71s/it]\n"
     ]
    },
    {
     "name": "stdout",
     "output_type": "stream",
     "text": [
      "----------------------------\n",
      "Train_z, Test_z\n",
      "PCA: 0.958\n",
      "SVD: 0.9541\n",
      "NetG_fixD, Acc at sample 19 0.9701\n"
     ]
    },
    {
     "name": "stderr",
     "output_type": "stream",
     "text": [
      "extracting all features from dataset: 100%|██████████████████████████████████████████████| 2/2 [00:05<00:00,  2.61s/it]\n",
      "extracting all features from dataset: 100%|██████████████████████████████████████████████| 1/1 [00:01<00:00,  1.73s/it]\n"
     ]
    },
    {
     "name": "stdout",
     "output_type": "stream",
     "text": [
      "----------------------------\n",
      "Train_z, Test_z\n",
      "PCA: 0.9578\n",
      "SVD: 0.9546\n",
      "NetG_fixD, Acc at sample 20 0.9702\n",
      "0.9703 0.9696 0.9699899999999998 3.089999999999663e-08\n"
     ]
    }
   ],
   "source": [
    "# sample 20 times of NetG at final radius, NetD is fixed, length 0.1,0.2,0.5,1,2,4,6,8,10,15,20\n",
    "from sklearn.neighbors import KNeighborsClassifier \n",
    "Acc_results_G_sample = []\n",
    "for _ in range(sample_num):\n",
    "    #acc at first\n",
    "    net_noise = get_noise(DATASET, device, LABEL)\n",
    "    fed_state_dict = get_netG(netD,netV,net_noise,r_list[1])\n",
    "    netG.load_state_dict(fed_state_dict)\n",
    "    \n",
    "    train_X, train_Z, train_X_bar, train_Z_bar, train_labels = extract_features2(trainloader, netG, netD)\n",
    "\n",
    "    test_X, test_Z, test_X_bar, test_Z_bar, test_labels = extract_features2(testloader, netG, netD)\n",
    "\n",
    "    print(\"----------------------------\")\n",
    "    print(\"Train_z, Test_z\")\n",
    "    nearsub(n_comp, train_Z, train_labels, test_Z, test_labels)\n",
    "\n",
    "    knn= KNeighborsClassifier(n_neighbors=10) \n",
    "\n",
    "    knn.fit(train_Z,train_labels) \n",
    "    knn.score(test_Z_bar,test_labels) \n",
    "\n",
    "    y_predict = knn.predict(test_Z_bar) \n",
    "\n",
    "    count =0\n",
    "    for k in range(10000):\n",
    "        if y_predict[k] == test_labels[k]:\n",
    "            count +=1\n",
    "    print('NetG_fixD, Acc at sample',_+1,count/10000)\n",
    "    Acc_results_G_sample.append(count/10000)\n",
    "\n",
    "print(max(Acc_results_G_sample),min(Acc_results_G_sample),np.mean(Acc_results_G_sample),np.var(Acc_results_G_sample))"
   ]
  },
  {
   "cell_type": "code",
   "execution_count": 13,
   "id": "05bfe135",
   "metadata": {},
   "outputs": [
    {
     "name": "stderr",
     "output_type": "stream",
     "text": [
      "extracting all features from dataset: 100%|██████████████████████████████████████████████| 2/2 [00:04<00:00,  2.45s/it]\n",
      "extracting all features from dataset: 100%|██████████████████████████████████████████████| 1/1 [00:01<00:00,  1.73s/it]\n"
     ]
    },
    {
     "name": "stdout",
     "output_type": "stream",
     "text": [
      "----------------------------\n",
      "Train_z, Test_z\n",
      "PCA: 0.9574\n",
      "SVD: 0.9537\n",
      "NetG_fixD, Acc at sample 1 0.9699\n"
     ]
    },
    {
     "name": "stderr",
     "output_type": "stream",
     "text": [
      "extracting all features from dataset: 100%|██████████████████████████████████████████████| 2/2 [00:04<00:00,  2.47s/it]\n",
      "extracting all features from dataset: 100%|██████████████████████████████████████████████| 1/1 [00:01<00:00,  1.68s/it]\n"
     ]
    },
    {
     "name": "stdout",
     "output_type": "stream",
     "text": [
      "----------------------------\n",
      "Train_z, Test_z\n",
      "PCA: 0.9584\n",
      "SVD: 0.9543\n",
      "NetG_fixD, Acc at sample 2 0.9702\n"
     ]
    },
    {
     "name": "stderr",
     "output_type": "stream",
     "text": [
      "extracting all features from dataset: 100%|██████████████████████████████████████████████| 2/2 [00:05<00:00,  2.54s/it]\n",
      "extracting all features from dataset: 100%|██████████████████████████████████████████████| 1/1 [00:01<00:00,  1.73s/it]\n"
     ]
    },
    {
     "name": "stdout",
     "output_type": "stream",
     "text": [
      "----------------------------\n",
      "Train_z, Test_z\n",
      "PCA: 0.9577\n",
      "SVD: 0.9537\n",
      "NetG_fixD, Acc at sample 3 0.9702\n"
     ]
    },
    {
     "name": "stderr",
     "output_type": "stream",
     "text": [
      "extracting all features from dataset: 100%|██████████████████████████████████████████████| 2/2 [00:05<00:00,  2.50s/it]\n",
      "extracting all features from dataset: 100%|██████████████████████████████████████████████| 1/1 [00:01<00:00,  1.76s/it]\n"
     ]
    },
    {
     "name": "stdout",
     "output_type": "stream",
     "text": [
      "----------------------------\n",
      "Train_z, Test_z\n",
      "PCA: 0.9578\n",
      "SVD: 0.9544\n",
      "NetG_fixD, Acc at sample 4 0.9699\n"
     ]
    },
    {
     "name": "stderr",
     "output_type": "stream",
     "text": [
      "extracting all features from dataset: 100%|██████████████████████████████████████████████| 2/2 [00:05<00:00,  2.51s/it]\n",
      "extracting all features from dataset: 100%|██████████████████████████████████████████████| 1/1 [00:01<00:00,  1.71s/it]\n"
     ]
    },
    {
     "name": "stdout",
     "output_type": "stream",
     "text": [
      "----------------------------\n",
      "Train_z, Test_z\n",
      "PCA: 0.9587\n",
      "SVD: 0.9547\n",
      "NetG_fixD, Acc at sample 5 0.97\n"
     ]
    },
    {
     "name": "stderr",
     "output_type": "stream",
     "text": [
      "extracting all features from dataset: 100%|██████████████████████████████████████████████| 2/2 [00:05<00:00,  2.52s/it]\n",
      "extracting all features from dataset: 100%|██████████████████████████████████████████████| 1/1 [00:01<00:00,  1.70s/it]\n"
     ]
    },
    {
     "name": "stdout",
     "output_type": "stream",
     "text": [
      "----------------------------\n",
      "Train_z, Test_z\n",
      "PCA: 0.9577\n",
      "SVD: 0.9541\n",
      "NetG_fixD, Acc at sample 6 0.9697\n"
     ]
    },
    {
     "name": "stderr",
     "output_type": "stream",
     "text": [
      "extracting all features from dataset: 100%|██████████████████████████████████████████████| 2/2 [00:05<00:00,  2.52s/it]\n",
      "extracting all features from dataset: 100%|██████████████████████████████████████████████| 1/1 [00:01<00:00,  1.72s/it]\n"
     ]
    },
    {
     "name": "stdout",
     "output_type": "stream",
     "text": [
      "----------------------------\n",
      "Train_z, Test_z\n",
      "PCA: 0.9577\n",
      "SVD: 0.9551\n",
      "NetG_fixD, Acc at sample 7 0.9699\n"
     ]
    },
    {
     "name": "stderr",
     "output_type": "stream",
     "text": [
      "extracting all features from dataset: 100%|██████████████████████████████████████████████| 2/2 [00:04<00:00,  2.48s/it]\n",
      "extracting all features from dataset: 100%|██████████████████████████████████████████████| 1/1 [00:01<00:00,  1.70s/it]\n"
     ]
    },
    {
     "name": "stdout",
     "output_type": "stream",
     "text": [
      "----------------------------\n",
      "Train_z, Test_z\n",
      "PCA: 0.958\n",
      "SVD: 0.9542\n",
      "NetG_fixD, Acc at sample 8 0.9702\n"
     ]
    },
    {
     "name": "stderr",
     "output_type": "stream",
     "text": [
      "extracting all features from dataset: 100%|██████████████████████████████████████████████| 2/2 [00:04<00:00,  2.43s/it]\n",
      "extracting all features from dataset: 100%|██████████████████████████████████████████████| 1/1 [00:01<00:00,  1.69s/it]\n"
     ]
    },
    {
     "name": "stdout",
     "output_type": "stream",
     "text": [
      "----------------------------\n",
      "Train_z, Test_z\n",
      "PCA: 0.9586\n",
      "SVD: 0.9537\n",
      "NetG_fixD, Acc at sample 9 0.9701\n"
     ]
    },
    {
     "name": "stderr",
     "output_type": "stream",
     "text": [
      "extracting all features from dataset: 100%|██████████████████████████████████████████████| 2/2 [00:04<00:00,  2.44s/it]\n",
      "extracting all features from dataset: 100%|██████████████████████████████████████████████| 1/1 [00:01<00:00,  1.72s/it]\n"
     ]
    },
    {
     "name": "stdout",
     "output_type": "stream",
     "text": [
      "----------------------------\n",
      "Train_z, Test_z\n",
      "PCA: 0.9584\n",
      "SVD: 0.9543\n",
      "NetG_fixD, Acc at sample 10 0.9695\n"
     ]
    },
    {
     "name": "stderr",
     "output_type": "stream",
     "text": [
      "extracting all features from dataset: 100%|██████████████████████████████████████████████| 2/2 [00:05<00:00,  2.51s/it]\n",
      "extracting all features from dataset: 100%|██████████████████████████████████████████████| 1/1 [00:01<00:00,  1.70s/it]\n"
     ]
    },
    {
     "name": "stdout",
     "output_type": "stream",
     "text": [
      "----------------------------\n",
      "Train_z, Test_z\n",
      "PCA: 0.9574\n",
      "SVD: 0.9537\n",
      "NetG_fixD, Acc at sample 11 0.9703\n"
     ]
    },
    {
     "name": "stderr",
     "output_type": "stream",
     "text": [
      "extracting all features from dataset: 100%|██████████████████████████████████████████████| 2/2 [00:04<00:00,  2.44s/it]\n",
      "extracting all features from dataset: 100%|██████████████████████████████████████████████| 1/1 [00:01<00:00,  1.70s/it]\n"
     ]
    },
    {
     "name": "stdout",
     "output_type": "stream",
     "text": [
      "----------------------------\n",
      "Train_z, Test_z\n",
      "PCA: 0.958\n",
      "SVD: 0.9543\n",
      "NetG_fixD, Acc at sample 12 0.97\n"
     ]
    },
    {
     "name": "stderr",
     "output_type": "stream",
     "text": [
      "extracting all features from dataset: 100%|██████████████████████████████████████████████| 2/2 [00:04<00:00,  2.43s/it]\n",
      "extracting all features from dataset: 100%|██████████████████████████████████████████████| 1/1 [00:01<00:00,  1.68s/it]\n"
     ]
    },
    {
     "name": "stdout",
     "output_type": "stream",
     "text": [
      "----------------------------\n",
      "Train_z, Test_z\n",
      "PCA: 0.958\n",
      "SVD: 0.9547\n",
      "NetG_fixD, Acc at sample 13 0.97\n"
     ]
    },
    {
     "name": "stderr",
     "output_type": "stream",
     "text": [
      "extracting all features from dataset: 100%|██████████████████████████████████████████████| 2/2 [00:04<00:00,  2.48s/it]\n",
      "extracting all features from dataset: 100%|██████████████████████████████████████████████| 1/1 [00:01<00:00,  1.69s/it]\n"
     ]
    },
    {
     "name": "stdout",
     "output_type": "stream",
     "text": [
      "----------------------------\n",
      "Train_z, Test_z\n",
      "PCA: 0.9584\n",
      "SVD: 0.9544\n",
      "NetG_fixD, Acc at sample 14 0.9704\n"
     ]
    },
    {
     "name": "stderr",
     "output_type": "stream",
     "text": [
      "extracting all features from dataset: 100%|██████████████████████████████████████████████| 2/2 [00:05<00:00,  2.52s/it]\n",
      "extracting all features from dataset: 100%|██████████████████████████████████████████████| 1/1 [00:01<00:00,  1.78s/it]\n"
     ]
    },
    {
     "name": "stdout",
     "output_type": "stream",
     "text": [
      "----------------------------\n",
      "Train_z, Test_z\n",
      "PCA: 0.9572\n",
      "SVD: 0.9542\n",
      "NetG_fixD, Acc at sample 15 0.9699\n"
     ]
    },
    {
     "name": "stderr",
     "output_type": "stream",
     "text": [
      "extracting all features from dataset: 100%|██████████████████████████████████████████████| 2/2 [00:05<00:00,  2.54s/it]\n",
      "extracting all features from dataset: 100%|██████████████████████████████████████████████| 1/1 [00:01<00:00,  1.73s/it]\n"
     ]
    },
    {
     "name": "stdout",
     "output_type": "stream",
     "text": [
      "----------------------------\n",
      "Train_z, Test_z\n",
      "PCA: 0.9579\n",
      "SVD: 0.9542\n",
      "NetG_fixD, Acc at sample 16 0.97\n"
     ]
    },
    {
     "name": "stderr",
     "output_type": "stream",
     "text": [
      "extracting all features from dataset: 100%|██████████████████████████████████████████████| 2/2 [00:04<00:00,  2.41s/it]\n",
      "extracting all features from dataset: 100%|██████████████████████████████████████████████| 1/1 [00:01<00:00,  1.67s/it]\n"
     ]
    },
    {
     "name": "stdout",
     "output_type": "stream",
     "text": [
      "----------------------------\n",
      "Train_z, Test_z\n",
      "PCA: 0.9575\n",
      "SVD: 0.9537\n",
      "NetG_fixD, Acc at sample 17 0.97\n"
     ]
    },
    {
     "name": "stderr",
     "output_type": "stream",
     "text": [
      "extracting all features from dataset: 100%|██████████████████████████████████████████████| 2/2 [00:05<00:00,  2.57s/it]\n",
      "extracting all features from dataset: 100%|██████████████████████████████████████████████| 1/1 [00:01<00:00,  1.70s/it]\n"
     ]
    },
    {
     "name": "stdout",
     "output_type": "stream",
     "text": [
      "----------------------------\n",
      "Train_z, Test_z\n",
      "PCA: 0.9578\n",
      "SVD: 0.954\n",
      "NetG_fixD, Acc at sample 18 0.9699\n"
     ]
    },
    {
     "name": "stderr",
     "output_type": "stream",
     "text": [
      "extracting all features from dataset: 100%|██████████████████████████████████████████████| 2/2 [00:05<00:00,  2.51s/it]\n",
      "extracting all features from dataset: 100%|██████████████████████████████████████████████| 1/1 [00:01<00:00,  1.71s/it]\n"
     ]
    },
    {
     "name": "stdout",
     "output_type": "stream",
     "text": [
      "----------------------------\n",
      "Train_z, Test_z\n",
      "PCA: 0.9576\n",
      "SVD: 0.9545\n",
      "NetG_fixD, Acc at sample 19 0.97\n"
     ]
    },
    {
     "name": "stderr",
     "output_type": "stream",
     "text": [
      "extracting all features from dataset: 100%|██████████████████████████████████████████████| 2/2 [00:04<00:00,  2.44s/it]\n",
      "extracting all features from dataset: 100%|██████████████████████████████████████████████| 1/1 [00:01<00:00,  1.70s/it]\n"
     ]
    },
    {
     "name": "stdout",
     "output_type": "stream",
     "text": [
      "----------------------------\n",
      "Train_z, Test_z\n",
      "PCA: 0.9586\n",
      "SVD: 0.9547\n",
      "NetG_fixD, Acc at sample 20 0.9701\n",
      "0.9704 0.9695 0.9700099999999997 3.889999999999898e-08\n"
     ]
    }
   ],
   "source": [
    "# sample 20 times of NetG at final radius, NetD is fixed\n",
    "from sklearn.neighbors import KNeighborsClassifier \n",
    "Acc_results_G_sample2 = []\n",
    "\n",
    "for _ in range(sample_num):\n",
    "    #acc at first\n",
    "    net_noise = get_noise(DATASET, device, LABEL)\n",
    "    fed_state_dict = get_netG(netD,netV,net_noise,r_list[2])\n",
    "    netG.load_state_dict(fed_state_dict)\n",
    "    \n",
    "    train_X, train_Z, train_X_bar, train_Z_bar, train_labels = extract_features2(trainloader, netG, netD)\n",
    "\n",
    "    test_X, test_Z, test_X_bar, test_Z_bar, test_labels = extract_features2(testloader, netG, netD)\n",
    "\n",
    "    print(\"----------------------------\")\n",
    "    print(\"Train_z, Test_z\")\n",
    "    nearsub(n_comp, train_Z, train_labels, test_Z, test_labels)\n",
    "\n",
    "    knn= KNeighborsClassifier(n_neighbors=10) \n",
    "\n",
    "    knn.fit(train_Z,train_labels) \n",
    "    knn.score(test_Z_bar,test_labels) \n",
    "\n",
    "    y_predict = knn.predict(test_Z_bar) \n",
    "\n",
    "    count =0\n",
    "    for k in range(10000):\n",
    "        if y_predict[k] == test_labels[k]:\n",
    "            count +=1\n",
    "    print('NetG_fixD, Acc at sample',_+1,count/10000)\n",
    "    Acc_results_G_sample2.append(count/10000)\n",
    "    \n",
    "print(max(Acc_results_G_sample2),min(Acc_results_G_sample2),np.mean(Acc_results_G_sample2),np.var(Acc_results_G_sample2))"
   ]
  },
  {
   "cell_type": "code",
   "execution_count": 14,
   "id": "1daf6e7b",
   "metadata": {},
   "outputs": [
    {
     "name": "stderr",
     "output_type": "stream",
     "text": [
      "extracting all features from dataset: 100%|██████████████████████████████████████████████| 2/2 [00:04<00:00,  2.46s/it]\n",
      "extracting all features from dataset: 100%|██████████████████████████████████████████████| 1/1 [00:01<00:00,  1.69s/it]\n"
     ]
    },
    {
     "name": "stdout",
     "output_type": "stream",
     "text": [
      "----------------------------\n",
      "Train_z, Test_z\n",
      "PCA: 0.9578\n",
      "SVD: 0.9549\n",
      "NetG_fixD, Acc at sample 1 0.9698\n"
     ]
    },
    {
     "name": "stderr",
     "output_type": "stream",
     "text": [
      "extracting all features from dataset: 100%|██████████████████████████████████████████████| 2/2 [00:05<00:00,  2.57s/it]\n",
      "extracting all features from dataset: 100%|██████████████████████████████████████████████| 1/1 [00:01<00:00,  1.73s/it]\n"
     ]
    },
    {
     "name": "stdout",
     "output_type": "stream",
     "text": [
      "----------------------------\n",
      "Train_z, Test_z\n",
      "PCA: 0.9575\n",
      "SVD: 0.9542\n",
      "NetG_fixD, Acc at sample 2 0.9697\n"
     ]
    },
    {
     "name": "stderr",
     "output_type": "stream",
     "text": [
      "extracting all features from dataset: 100%|██████████████████████████████████████████████| 2/2 [00:05<00:00,  2.50s/it]\n",
      "extracting all features from dataset: 100%|██████████████████████████████████████████████| 1/1 [00:01<00:00,  1.72s/it]\n"
     ]
    },
    {
     "name": "stdout",
     "output_type": "stream",
     "text": [
      "----------------------------\n",
      "Train_z, Test_z\n",
      "PCA: 0.9578\n",
      "SVD: 0.954\n",
      "NetG_fixD, Acc at sample 3 0.9705\n"
     ]
    },
    {
     "name": "stderr",
     "output_type": "stream",
     "text": [
      "extracting all features from dataset: 100%|██████████████████████████████████████████████| 2/2 [00:05<00:00,  2.56s/it]\n",
      "extracting all features from dataset: 100%|██████████████████████████████████████████████| 1/1 [00:01<00:00,  1.71s/it]\n"
     ]
    },
    {
     "name": "stdout",
     "output_type": "stream",
     "text": [
      "----------------------------\n",
      "Train_z, Test_z\n",
      "PCA: 0.9581\n",
      "SVD: 0.955\n",
      "NetG_fixD, Acc at sample 4 0.9704\n"
     ]
    },
    {
     "name": "stderr",
     "output_type": "stream",
     "text": [
      "extracting all features from dataset: 100%|██████████████████████████████████████████████| 2/2 [00:05<00:00,  2.53s/it]\n",
      "extracting all features from dataset: 100%|██████████████████████████████████████████████| 1/1 [00:01<00:00,  1.69s/it]\n"
     ]
    },
    {
     "name": "stdout",
     "output_type": "stream",
     "text": [
      "----------------------------\n",
      "Train_z, Test_z\n",
      "PCA: 0.957\n",
      "SVD: 0.9538\n",
      "NetG_fixD, Acc at sample 5 0.9693\n"
     ]
    },
    {
     "name": "stderr",
     "output_type": "stream",
     "text": [
      "extracting all features from dataset: 100%|██████████████████████████████████████████████| 2/2 [00:04<00:00,  2.43s/it]\n",
      "extracting all features from dataset: 100%|██████████████████████████████████████████████| 1/1 [00:01<00:00,  1.72s/it]\n"
     ]
    },
    {
     "name": "stdout",
     "output_type": "stream",
     "text": [
      "----------------------------\n",
      "Train_z, Test_z\n",
      "PCA: 0.959\n",
      "SVD: 0.9544\n",
      "NetG_fixD, Acc at sample 6 0.9689\n"
     ]
    },
    {
     "name": "stderr",
     "output_type": "stream",
     "text": [
      "extracting all features from dataset: 100%|██████████████████████████████████████████████| 2/2 [00:05<00:00,  2.52s/it]\n",
      "extracting all features from dataset: 100%|██████████████████████████████████████████████| 1/1 [00:01<00:00,  1.69s/it]\n"
     ]
    },
    {
     "name": "stdout",
     "output_type": "stream",
     "text": [
      "----------------------------\n",
      "Train_z, Test_z\n",
      "PCA: 0.9575\n",
      "SVD: 0.9546\n",
      "NetG_fixD, Acc at sample 7 0.9689\n"
     ]
    },
    {
     "name": "stderr",
     "output_type": "stream",
     "text": [
      "extracting all features from dataset: 100%|██████████████████████████████████████████████| 2/2 [00:05<00:00,  2.59s/it]\n",
      "extracting all features from dataset: 100%|██████████████████████████████████████████████| 1/1 [00:01<00:00,  1.72s/it]\n"
     ]
    },
    {
     "name": "stdout",
     "output_type": "stream",
     "text": [
      "----------------------------\n",
      "Train_z, Test_z\n",
      "PCA: 0.9592\n",
      "SVD: 0.9546\n",
      "NetG_fixD, Acc at sample 8 0.9687\n"
     ]
    },
    {
     "name": "stderr",
     "output_type": "stream",
     "text": [
      "extracting all features from dataset: 100%|██████████████████████████████████████████████| 2/2 [00:04<00:00,  2.50s/it]\n",
      "extracting all features from dataset: 100%|██████████████████████████████████████████████| 1/1 [00:01<00:00,  1.73s/it]\n"
     ]
    },
    {
     "name": "stdout",
     "output_type": "stream",
     "text": [
      "----------------------------\n",
      "Train_z, Test_z\n",
      "PCA: 0.9574\n",
      "SVD: 0.9537\n",
      "NetG_fixD, Acc at sample 9 0.969\n"
     ]
    },
    {
     "name": "stderr",
     "output_type": "stream",
     "text": [
      "extracting all features from dataset: 100%|██████████████████████████████████████████████| 2/2 [00:05<00:00,  2.53s/it]\n",
      "extracting all features from dataset: 100%|██████████████████████████████████████████████| 1/1 [00:01<00:00,  1.79s/it]\n"
     ]
    },
    {
     "name": "stdout",
     "output_type": "stream",
     "text": [
      "----------------------------\n",
      "Train_z, Test_z\n",
      "PCA: 0.9582\n",
      "SVD: 0.9536\n",
      "NetG_fixD, Acc at sample 10 0.9689\n"
     ]
    },
    {
     "name": "stderr",
     "output_type": "stream",
     "text": [
      "extracting all features from dataset: 100%|██████████████████████████████████████████████| 2/2 [00:04<00:00,  2.50s/it]\n",
      "extracting all features from dataset: 100%|██████████████████████████████████████████████| 1/1 [00:01<00:00,  1.76s/it]\n"
     ]
    },
    {
     "name": "stdout",
     "output_type": "stream",
     "text": [
      "----------------------------\n",
      "Train_z, Test_z\n",
      "PCA: 0.9587\n",
      "SVD: 0.9537\n",
      "NetG_fixD, Acc at sample 11 0.9701\n"
     ]
    },
    {
     "name": "stderr",
     "output_type": "stream",
     "text": [
      "extracting all features from dataset: 100%|██████████████████████████████████████████████| 2/2 [00:05<00:00,  2.51s/it]\n",
      "extracting all features from dataset: 100%|██████████████████████████████████████████████| 1/1 [00:01<00:00,  1.72s/it]\n"
     ]
    },
    {
     "name": "stdout",
     "output_type": "stream",
     "text": [
      "----------------------------\n",
      "Train_z, Test_z\n",
      "PCA: 0.9579\n",
      "SVD: 0.9531000000000001\n",
      "NetG_fixD, Acc at sample 12 0.9693\n"
     ]
    },
    {
     "name": "stderr",
     "output_type": "stream",
     "text": [
      "extracting all features from dataset: 100%|██████████████████████████████████████████████| 2/2 [00:05<00:00,  2.53s/it]\n",
      "extracting all features from dataset: 100%|██████████████████████████████████████████████| 1/1 [00:01<00:00,  1.74s/it]\n"
     ]
    },
    {
     "name": "stdout",
     "output_type": "stream",
     "text": [
      "----------------------------\n",
      "Train_z, Test_z\n",
      "PCA: 0.9586\n",
      "SVD: 0.9549\n",
      "NetG_fixD, Acc at sample 13 0.9694\n"
     ]
    },
    {
     "name": "stderr",
     "output_type": "stream",
     "text": [
      "extracting all features from dataset: 100%|██████████████████████████████████████████████| 2/2 [00:05<00:00,  2.56s/it]\n",
      "extracting all features from dataset: 100%|██████████████████████████████████████████████| 1/1 [00:01<00:00,  1.69s/it]\n"
     ]
    },
    {
     "name": "stdout",
     "output_type": "stream",
     "text": [
      "----------------------------\n",
      "Train_z, Test_z\n",
      "PCA: 0.9571\n",
      "SVD: 0.9541\n",
      "NetG_fixD, Acc at sample 14 0.9703\n"
     ]
    },
    {
     "name": "stderr",
     "output_type": "stream",
     "text": [
      "extracting all features from dataset: 100%|██████████████████████████████████████████████| 2/2 [00:05<00:00,  2.51s/it]\n",
      "extracting all features from dataset: 100%|██████████████████████████████████████████████| 1/1 [00:01<00:00,  1.70s/it]\n"
     ]
    },
    {
     "name": "stdout",
     "output_type": "stream",
     "text": [
      "----------------------------\n",
      "Train_z, Test_z\n",
      "PCA: 0.9578\n",
      "SVD: 0.9541\n",
      "NetG_fixD, Acc at sample 15 0.9701\n"
     ]
    },
    {
     "name": "stderr",
     "output_type": "stream",
     "text": [
      "extracting all features from dataset: 100%|██████████████████████████████████████████████| 2/2 [00:04<00:00,  2.46s/it]\n",
      "extracting all features from dataset: 100%|██████████████████████████████████████████████| 1/1 [00:01<00:00,  1.69s/it]\n"
     ]
    },
    {
     "name": "stdout",
     "output_type": "stream",
     "text": [
      "----------------------------\n",
      "Train_z, Test_z\n",
      "PCA: 0.9583\n",
      "SVD: 0.9553\n",
      "NetG_fixD, Acc at sample 16 0.9689\n"
     ]
    },
    {
     "name": "stderr",
     "output_type": "stream",
     "text": [
      "extracting all features from dataset: 100%|██████████████████████████████████████████████| 2/2 [00:05<00:00,  2.54s/it]\n",
      "extracting all features from dataset: 100%|██████████████████████████████████████████████| 1/1 [00:01<00:00,  1.72s/it]\n"
     ]
    },
    {
     "name": "stdout",
     "output_type": "stream",
     "text": [
      "----------------------------\n",
      "Train_z, Test_z\n",
      "PCA: 0.9568\n",
      "SVD: 0.952\n",
      "NetG_fixD, Acc at sample 17 0.9695\n"
     ]
    },
    {
     "name": "stderr",
     "output_type": "stream",
     "text": [
      "extracting all features from dataset: 100%|██████████████████████████████████████████████| 2/2 [00:05<00:00,  2.55s/it]\n",
      "extracting all features from dataset: 100%|██████████████████████████████████████████████| 1/1 [00:01<00:00,  1.74s/it]\n"
     ]
    },
    {
     "name": "stdout",
     "output_type": "stream",
     "text": [
      "----------------------------\n",
      "Train_z, Test_z\n",
      "PCA: 0.9568\n",
      "SVD: 0.9531000000000001\n",
      "NetG_fixD, Acc at sample 18 0.9701\n"
     ]
    },
    {
     "name": "stderr",
     "output_type": "stream",
     "text": [
      "extracting all features from dataset: 100%|██████████████████████████████████████████████| 2/2 [00:04<00:00,  2.48s/it]\n",
      "extracting all features from dataset: 100%|██████████████████████████████████████████████| 1/1 [00:01<00:00,  1.71s/it]\n"
     ]
    },
    {
     "name": "stdout",
     "output_type": "stream",
     "text": [
      "----------------------------\n",
      "Train_z, Test_z\n",
      "PCA: 0.9589\n",
      "SVD: 0.954\n",
      "NetG_fixD, Acc at sample 19 0.969\n"
     ]
    },
    {
     "name": "stderr",
     "output_type": "stream",
     "text": [
      "extracting all features from dataset: 100%|██████████████████████████████████████████████| 2/2 [00:05<00:00,  2.55s/it]\n",
      "extracting all features from dataset: 100%|██████████████████████████████████████████████| 1/1 [00:01<00:00,  1.78s/it]\n"
     ]
    },
    {
     "name": "stdout",
     "output_type": "stream",
     "text": [
      "----------------------------\n",
      "Train_z, Test_z\n",
      "PCA: 0.9562\n",
      "SVD: 0.9538\n",
      "NetG_fixD, Acc at sample 20 0.9694\n",
      "0.9705 0.9687 0.96951 3.1690000000000724e-07\n"
     ]
    }
   ],
   "source": [
    "# sample 20 times of NetG at final radius, NetD is fixed\n",
    "from sklearn.neighbors import KNeighborsClassifier \n",
    "Acc_results_G_sample3 = []\n",
    "\n",
    "for _ in range(sample_num):\n",
    "    #acc at first\n",
    "    net_noise = get_noise(DATASET, device, LABEL)\n",
    "    fed_state_dict = get_netG(netD,netV,net_noise,r_list[3])\n",
    "    netG.load_state_dict(fed_state_dict)\n",
    "    \n",
    "    train_X, train_Z, train_X_bar, train_Z_bar, train_labels = extract_features2(trainloader, netG, netD)\n",
    "\n",
    "    test_X, test_Z, test_X_bar, test_Z_bar, test_labels = extract_features2(testloader, netG, netD)\n",
    "\n",
    "    print(\"----------------------------\")\n",
    "    print(\"Train_z, Test_z\")\n",
    "    nearsub(n_comp, train_Z, train_labels, test_Z, test_labels)\n",
    "\n",
    "    knn= KNeighborsClassifier(n_neighbors=10) \n",
    "\n",
    "    knn.fit(train_Z,train_labels) \n",
    "    knn.score(test_Z_bar,test_labels) \n",
    "\n",
    "    y_predict = knn.predict(test_Z_bar) \n",
    "\n",
    "    count =0\n",
    "    for k in range(10000):\n",
    "        if y_predict[k] == test_labels[k]:\n",
    "            count +=1\n",
    "    print('NetG_fixD, Acc at sample',_+1,count/10000)\n",
    "    Acc_results_G_sample3.append(count/10000)\n",
    "    \n",
    "print(max(Acc_results_G_sample3),min(Acc_results_G_sample3),np.mean(Acc_results_G_sample3),np.var(Acc_results_G_sample3))"
   ]
  },
  {
   "cell_type": "code",
   "execution_count": 15,
   "id": "c66ccac4",
   "metadata": {},
   "outputs": [
    {
     "name": "stderr",
     "output_type": "stream",
     "text": [
      "extracting all features from dataset: 100%|██████████████████████████████████████████████| 2/2 [00:05<00:00,  2.50s/it]\n",
      "extracting all features from dataset: 100%|██████████████████████████████████████████████| 1/1 [00:01<00:00,  1.71s/it]\n"
     ]
    },
    {
     "name": "stdout",
     "output_type": "stream",
     "text": [
      "----------------------------\n",
      "Train_z, Test_z\n",
      "PCA: 0.9558\n",
      "SVD: 0.9534\n",
      "NetG_fixD, Acc at sample 1 0.968\n"
     ]
    },
    {
     "name": "stderr",
     "output_type": "stream",
     "text": [
      "extracting all features from dataset: 100%|██████████████████████████████████████████████| 2/2 [00:05<00:00,  2.51s/it]\n",
      "extracting all features from dataset: 100%|██████████████████████████████████████████████| 1/1 [00:01<00:00,  1.73s/it]\n"
     ]
    },
    {
     "name": "stdout",
     "output_type": "stream",
     "text": [
      "----------------------------\n",
      "Train_z, Test_z\n",
      "PCA: 0.9553\n",
      "SVD: 0.9519\n",
      "NetG_fixD, Acc at sample 2 0.9687\n"
     ]
    },
    {
     "name": "stderr",
     "output_type": "stream",
     "text": [
      "extracting all features from dataset: 100%|██████████████████████████████████████████████| 2/2 [00:05<00:00,  2.57s/it]\n",
      "extracting all features from dataset: 100%|██████████████████████████████████████████████| 1/1 [00:01<00:00,  1.70s/it]\n"
     ]
    },
    {
     "name": "stdout",
     "output_type": "stream",
     "text": [
      "----------------------------\n",
      "Train_z, Test_z\n",
      "PCA: 0.9557\n",
      "SVD: 0.952\n",
      "NetG_fixD, Acc at sample 3 0.9678\n"
     ]
    },
    {
     "name": "stderr",
     "output_type": "stream",
     "text": [
      "extracting all features from dataset: 100%|██████████████████████████████████████████████| 2/2 [00:05<00:00,  2.54s/it]\n",
      "extracting all features from dataset: 100%|██████████████████████████████████████████████| 1/1 [00:01<00:00,  1.75s/it]\n"
     ]
    },
    {
     "name": "stdout",
     "output_type": "stream",
     "text": [
      "----------------------------\n",
      "Train_z, Test_z\n",
      "PCA: 0.9551\n",
      "SVD: 0.9514\n",
      "NetG_fixD, Acc at sample 4 0.9657\n"
     ]
    },
    {
     "name": "stderr",
     "output_type": "stream",
     "text": [
      "extracting all features from dataset: 100%|██████████████████████████████████████████████| 2/2 [00:05<00:00,  2.55s/it]\n",
      "extracting all features from dataset: 100%|██████████████████████████████████████████████| 1/1 [00:01<00:00,  1.68s/it]\n"
     ]
    },
    {
     "name": "stdout",
     "output_type": "stream",
     "text": [
      "----------------------------\n",
      "Train_z, Test_z\n",
      "PCA: 0.9575\n",
      "SVD: 0.9534\n",
      "NetG_fixD, Acc at sample 5 0.9679\n"
     ]
    },
    {
     "name": "stderr",
     "output_type": "stream",
     "text": [
      "extracting all features from dataset: 100%|██████████████████████████████████████████████| 2/2 [00:04<00:00,  2.44s/it]\n",
      "extracting all features from dataset: 100%|██████████████████████████████████████████████| 1/1 [00:01<00:00,  1.73s/it]\n"
     ]
    },
    {
     "name": "stdout",
     "output_type": "stream",
     "text": [
      "----------------------------\n",
      "Train_z, Test_z\n",
      "PCA: 0.9565\n",
      "SVD: 0.9533\n",
      "NetG_fixD, Acc at sample 6 0.9677\n"
     ]
    },
    {
     "name": "stderr",
     "output_type": "stream",
     "text": [
      "extracting all features from dataset: 100%|██████████████████████████████████████████████| 2/2 [00:05<00:00,  2.56s/it]\n",
      "extracting all features from dataset: 100%|██████████████████████████████████████████████| 1/1 [00:01<00:00,  1.69s/it]\n"
     ]
    },
    {
     "name": "stdout",
     "output_type": "stream",
     "text": [
      "----------------------------\n",
      "Train_z, Test_z\n",
      "PCA: 0.9568\n",
      "SVD: 0.9524\n",
      "NetG_fixD, Acc at sample 7 0.968\n"
     ]
    },
    {
     "name": "stderr",
     "output_type": "stream",
     "text": [
      "extracting all features from dataset: 100%|██████████████████████████████████████████████| 2/2 [00:04<00:00,  2.48s/it]\n",
      "extracting all features from dataset: 100%|██████████████████████████████████████████████| 1/1 [00:01<00:00,  1.71s/it]\n"
     ]
    },
    {
     "name": "stdout",
     "output_type": "stream",
     "text": [
      "----------------------------\n",
      "Train_z, Test_z\n",
      "PCA: 0.9581\n",
      "SVD: 0.9546\n",
      "NetG_fixD, Acc at sample 8 0.969\n"
     ]
    },
    {
     "name": "stderr",
     "output_type": "stream",
     "text": [
      "extracting all features from dataset: 100%|██████████████████████████████████████████████| 2/2 [00:04<00:00,  2.46s/it]\n",
      "extracting all features from dataset: 100%|██████████████████████████████████████████████| 1/1 [00:01<00:00,  1.72s/it]\n"
     ]
    },
    {
     "name": "stdout",
     "output_type": "stream",
     "text": [
      "----------------------------\n",
      "Train_z, Test_z\n",
      "PCA: 0.9571\n",
      "SVD: 0.9541\n",
      "NetG_fixD, Acc at sample 9 0.9678\n"
     ]
    },
    {
     "name": "stderr",
     "output_type": "stream",
     "text": [
      "extracting all features from dataset: 100%|██████████████████████████████████████████████| 2/2 [00:04<00:00,  2.48s/it]\n",
      "extracting all features from dataset: 100%|██████████████████████████████████████████████| 1/1 [00:01<00:00,  1.74s/it]\n"
     ]
    },
    {
     "name": "stdout",
     "output_type": "stream",
     "text": [
      "----------------------------\n",
      "Train_z, Test_z\n",
      "PCA: 0.9566\n",
      "SVD: 0.9532\n",
      "NetG_fixD, Acc at sample 10 0.9684\n"
     ]
    },
    {
     "name": "stderr",
     "output_type": "stream",
     "text": [
      "extracting all features from dataset: 100%|██████████████████████████████████████████████| 2/2 [00:04<00:00,  2.48s/it]\n",
      "extracting all features from dataset: 100%|██████████████████████████████████████████████| 1/1 [00:01<00:00,  1.70s/it]\n"
     ]
    },
    {
     "name": "stdout",
     "output_type": "stream",
     "text": [
      "----------------------------\n",
      "Train_z, Test_z\n",
      "PCA: 0.9585\n",
      "SVD: 0.9545\n",
      "NetG_fixD, Acc at sample 11 0.9678\n"
     ]
    },
    {
     "name": "stderr",
     "output_type": "stream",
     "text": [
      "extracting all features from dataset: 100%|██████████████████████████████████████████████| 2/2 [00:04<00:00,  2.45s/it]\n",
      "extracting all features from dataset: 100%|██████████████████████████████████████████████| 1/1 [00:01<00:00,  1.70s/it]\n"
     ]
    },
    {
     "name": "stdout",
     "output_type": "stream",
     "text": [
      "----------------------------\n",
      "Train_z, Test_z\n",
      "PCA: 0.9569\n",
      "SVD: 0.9534\n",
      "NetG_fixD, Acc at sample 12 0.9679\n"
     ]
    },
    {
     "name": "stderr",
     "output_type": "stream",
     "text": [
      "extracting all features from dataset: 100%|██████████████████████████████████████████████| 2/2 [00:05<00:00,  2.54s/it]\n",
      "extracting all features from dataset: 100%|██████████████████████████████████████████████| 1/1 [00:01<00:00,  1.78s/it]\n"
     ]
    },
    {
     "name": "stdout",
     "output_type": "stream",
     "text": [
      "----------------------------\n",
      "Train_z, Test_z\n",
      "PCA: 0.9558\n",
      "SVD: 0.9524\n",
      "NetG_fixD, Acc at sample 13 0.9676\n"
     ]
    },
    {
     "name": "stderr",
     "output_type": "stream",
     "text": [
      "extracting all features from dataset: 100%|██████████████████████████████████████████████| 2/2 [00:05<00:00,  2.57s/it]\n",
      "extracting all features from dataset: 100%|██████████████████████████████████████████████| 1/1 [00:01<00:00,  1.72s/it]\n"
     ]
    },
    {
     "name": "stdout",
     "output_type": "stream",
     "text": [
      "----------------------------\n",
      "Train_z, Test_z\n",
      "PCA: 0.9561\n",
      "SVD: 0.9515\n",
      "NetG_fixD, Acc at sample 14 0.9675\n"
     ]
    },
    {
     "name": "stderr",
     "output_type": "stream",
     "text": [
      "extracting all features from dataset: 100%|██████████████████████████████████████████████| 2/2 [00:04<00:00,  2.46s/it]\n",
      "extracting all features from dataset: 100%|██████████████████████████████████████████████| 1/1 [00:01<00:00,  1.72s/it]\n"
     ]
    },
    {
     "name": "stdout",
     "output_type": "stream",
     "text": [
      "----------------------------\n",
      "Train_z, Test_z\n",
      "PCA: 0.9585\n",
      "SVD: 0.9534\n",
      "NetG_fixD, Acc at sample 15 0.9686\n"
     ]
    },
    {
     "name": "stderr",
     "output_type": "stream",
     "text": [
      "extracting all features from dataset: 100%|██████████████████████████████████████████████| 2/2 [00:05<00:00,  2.52s/it]\n",
      "extracting all features from dataset: 100%|██████████████████████████████████████████████| 1/1 [00:01<00:00,  1.68s/it]\n"
     ]
    },
    {
     "name": "stdout",
     "output_type": "stream",
     "text": [
      "----------------------------\n",
      "Train_z, Test_z\n",
      "PCA: 0.9567\n",
      "SVD: 0.9533\n",
      "NetG_fixD, Acc at sample 16 0.968\n"
     ]
    },
    {
     "name": "stderr",
     "output_type": "stream",
     "text": [
      "extracting all features from dataset: 100%|██████████████████████████████████████████████| 2/2 [00:05<00:00,  2.55s/it]\n",
      "extracting all features from dataset: 100%|██████████████████████████████████████████████| 1/1 [00:01<00:00,  1.68s/it]\n"
     ]
    },
    {
     "name": "stdout",
     "output_type": "stream",
     "text": [
      "----------------------------\n",
      "Train_z, Test_z\n",
      "PCA: 0.9585\n",
      "SVD: 0.9545\n",
      "NetG_fixD, Acc at sample 17 0.968\n"
     ]
    },
    {
     "name": "stderr",
     "output_type": "stream",
     "text": [
      "extracting all features from dataset: 100%|██████████████████████████████████████████████| 2/2 [00:05<00:00,  2.57s/it]\n",
      "extracting all features from dataset: 100%|██████████████████████████████████████████████| 1/1 [00:01<00:00,  1.71s/it]\n"
     ]
    },
    {
     "name": "stdout",
     "output_type": "stream",
     "text": [
      "----------------------------\n",
      "Train_z, Test_z\n",
      "PCA: 0.9563\n",
      "SVD: 0.9516\n",
      "NetG_fixD, Acc at sample 18 0.9671\n"
     ]
    },
    {
     "name": "stderr",
     "output_type": "stream",
     "text": [
      "extracting all features from dataset: 100%|██████████████████████████████████████████████| 2/2 [00:05<00:00,  2.57s/it]\n",
      "extracting all features from dataset: 100%|██████████████████████████████████████████████| 1/1 [00:01<00:00,  1.71s/it]\n"
     ]
    },
    {
     "name": "stdout",
     "output_type": "stream",
     "text": [
      "----------------------------\n",
      "Train_z, Test_z\n",
      "PCA: 0.9569\n",
      "SVD: 0.9545\n",
      "NetG_fixD, Acc at sample 19 0.9678\n"
     ]
    },
    {
     "name": "stderr",
     "output_type": "stream",
     "text": [
      "extracting all features from dataset: 100%|██████████████████████████████████████████████| 2/2 [00:05<00:00,  2.56s/it]\n",
      "extracting all features from dataset: 100%|██████████████████████████████████████████████| 1/1 [00:01<00:00,  1.73s/it]\n"
     ]
    },
    {
     "name": "stdout",
     "output_type": "stream",
     "text": [
      "----------------------------\n",
      "Train_z, Test_z\n",
      "PCA: 0.9557\n",
      "SVD: 0.953\n",
      "NetG_fixD, Acc at sample 20 0.9684\n",
      "0.969 0.9657 0.9678849999999999 4.3427500000000245e-07\n"
     ]
    }
   ],
   "source": [
    "# sample 20 times of NetG at final radius, NetD is fixed\n",
    "from sklearn.neighbors import KNeighborsClassifier \n",
    "Acc_results_G_sample4 = []\n",
    "\n",
    "for _ in range(sample_num):\n",
    "    #acc at first\n",
    "    net_noise = get_noise(DATASET, device, LABEL)\n",
    "    fed_state_dict = get_netG(netD,netV,net_noise,r_list[4])\n",
    "    netG.load_state_dict(fed_state_dict)\n",
    "    \n",
    "    train_X, train_Z, train_X_bar, train_Z_bar, train_labels = extract_features2(trainloader, netG, netD)\n",
    "\n",
    "    test_X, test_Z, test_X_bar, test_Z_bar, test_labels = extract_features2(testloader, netG, netD)\n",
    "\n",
    "    print(\"----------------------------\")\n",
    "    print(\"Train_z, Test_z\")\n",
    "    nearsub(n_comp, train_Z, train_labels, test_Z, test_labels)\n",
    "\n",
    "    knn= KNeighborsClassifier(n_neighbors=10) \n",
    "\n",
    "    knn.fit(train_Z,train_labels) \n",
    "    knn.score(test_Z_bar,test_labels) \n",
    "\n",
    "    y_predict = knn.predict(test_Z_bar) \n",
    "\n",
    "    count =0\n",
    "    for k in range(10000):\n",
    "        if y_predict[k] == test_labels[k]:\n",
    "            count +=1\n",
    "    print('NetG_fixD, Acc at sample',_+1,count/10000)\n",
    "    Acc_results_G_sample4.append(count/10000)\n",
    "    \n",
    "print(max(Acc_results_G_sample4),min(Acc_results_G_sample4),np.mean(Acc_results_G_sample4),np.var(Acc_results_G_sample4))"
   ]
  },
  {
   "cell_type": "code",
   "execution_count": 16,
   "id": "dfa16dcf",
   "metadata": {},
   "outputs": [
    {
     "name": "stderr",
     "output_type": "stream",
     "text": [
      "extracting all features from dataset: 100%|██████████████████████████████████████████████| 2/2 [00:05<00:00,  2.53s/it]\n",
      "extracting all features from dataset: 100%|██████████████████████████████████████████████| 1/1 [00:01<00:00,  1.71s/it]\n"
     ]
    },
    {
     "name": "stdout",
     "output_type": "stream",
     "text": [
      "----------------------------\n",
      "Train_z, Test_z\n",
      "PCA: 0.9501\n",
      "SVD: 0.9483\n",
      "NetG_fixD, Acc at sample 1 0.957\n"
     ]
    },
    {
     "name": "stderr",
     "output_type": "stream",
     "text": [
      "extracting all features from dataset: 100%|██████████████████████████████████████████████| 2/2 [00:05<00:00,  2.54s/it]\n",
      "extracting all features from dataset: 100%|██████████████████████████████████████████████| 1/1 [00:01<00:00,  1.70s/it]\n"
     ]
    },
    {
     "name": "stdout",
     "output_type": "stream",
     "text": [
      "----------------------------\n",
      "Train_z, Test_z\n",
      "PCA: 0.9522\n",
      "SVD: 0.9474\n",
      "NetG_fixD, Acc at sample 2 0.9583\n"
     ]
    },
    {
     "name": "stderr",
     "output_type": "stream",
     "text": [
      "extracting all features from dataset: 100%|██████████████████████████████████████████████| 2/2 [00:05<00:00,  2.50s/it]\n",
      "extracting all features from dataset: 100%|██████████████████████████████████████████████| 1/1 [00:01<00:00,  1.70s/it]\n"
     ]
    },
    {
     "name": "stdout",
     "output_type": "stream",
     "text": [
      "----------------------------\n",
      "Train_z, Test_z\n",
      "PCA: 0.9514\n",
      "SVD: 0.9469\n",
      "NetG_fixD, Acc at sample 3 0.9567\n"
     ]
    },
    {
     "name": "stderr",
     "output_type": "stream",
     "text": [
      "extracting all features from dataset: 100%|██████████████████████████████████████████████| 2/2 [00:04<00:00,  2.47s/it]\n",
      "extracting all features from dataset: 100%|██████████████████████████████████████████████| 1/1 [00:01<00:00,  1.78s/it]\n"
     ]
    },
    {
     "name": "stdout",
     "output_type": "stream",
     "text": [
      "----------------------------\n",
      "Train_z, Test_z\n",
      "PCA: 0.9507\n",
      "SVD: 0.948\n",
      "NetG_fixD, Acc at sample 4 0.9596\n"
     ]
    },
    {
     "name": "stderr",
     "output_type": "stream",
     "text": [
      "extracting all features from dataset: 100%|██████████████████████████████████████████████| 2/2 [00:05<00:00,  2.51s/it]\n",
      "extracting all features from dataset: 100%|██████████████████████████████████████████████| 1/1 [00:01<00:00,  1.80s/it]\n"
     ]
    },
    {
     "name": "stdout",
     "output_type": "stream",
     "text": [
      "----------------------------\n",
      "Train_z, Test_z\n",
      "PCA: 0.9489\n",
      "SVD: 0.9466\n",
      "NetG_fixD, Acc at sample 5 0.9578\n"
     ]
    },
    {
     "name": "stderr",
     "output_type": "stream",
     "text": [
      "extracting all features from dataset: 100%|██████████████████████████████████████████████| 2/2 [00:05<00:00,  2.51s/it]\n",
      "extracting all features from dataset: 100%|██████████████████████████████████████████████| 1/1 [00:01<00:00,  1.69s/it]\n"
     ]
    },
    {
     "name": "stdout",
     "output_type": "stream",
     "text": [
      "----------------------------\n",
      "Train_z, Test_z\n",
      "PCA: 0.9529\n",
      "SVD: 0.9511000000000001\n",
      "NetG_fixD, Acc at sample 6 0.9599\n"
     ]
    },
    {
     "name": "stderr",
     "output_type": "stream",
     "text": [
      "extracting all features from dataset: 100%|██████████████████████████████████████████████| 2/2 [00:05<00:00,  2.57s/it]\n",
      "extracting all features from dataset: 100%|██████████████████████████████████████████████| 1/1 [00:01<00:00,  1.72s/it]\n"
     ]
    },
    {
     "name": "stdout",
     "output_type": "stream",
     "text": [
      "----------------------------\n",
      "Train_z, Test_z\n",
      "PCA: 0.9539\n",
      "SVD: 0.9511000000000001\n",
      "NetG_fixD, Acc at sample 7 0.9593\n"
     ]
    },
    {
     "name": "stderr",
     "output_type": "stream",
     "text": [
      "extracting all features from dataset: 100%|██████████████████████████████████████████████| 2/2 [00:05<00:00,  2.60s/it]\n",
      "extracting all features from dataset: 100%|██████████████████████████████████████████████| 1/1 [00:01<00:00,  1.70s/it]\n"
     ]
    },
    {
     "name": "stdout",
     "output_type": "stream",
     "text": [
      "----------------------------\n",
      "Train_z, Test_z\n",
      "PCA: 0.9517\n",
      "SVD: 0.9464\n",
      "NetG_fixD, Acc at sample 8 0.9601\n"
     ]
    },
    {
     "name": "stderr",
     "output_type": "stream",
     "text": [
      "extracting all features from dataset: 100%|██████████████████████████████████████████████| 2/2 [00:05<00:00,  2.52s/it]\n",
      "extracting all features from dataset: 100%|██████████████████████████████████████████████| 1/1 [00:01<00:00,  1.69s/it]\n"
     ]
    },
    {
     "name": "stdout",
     "output_type": "stream",
     "text": [
      "----------------------------\n",
      "Train_z, Test_z\n",
      "PCA: 0.9507\n",
      "SVD: 0.9480999999999999\n",
      "NetG_fixD, Acc at sample 9 0.9617\n"
     ]
    },
    {
     "name": "stderr",
     "output_type": "stream",
     "text": [
      "extracting all features from dataset: 100%|██████████████████████████████████████████████| 2/2 [00:04<00:00,  2.50s/it]\n",
      "extracting all features from dataset: 100%|██████████████████████████████████████████████| 1/1 [00:01<00:00,  1.70s/it]\n"
     ]
    },
    {
     "name": "stdout",
     "output_type": "stream",
     "text": [
      "----------------------------\n",
      "Train_z, Test_z\n",
      "PCA: 0.9486\n",
      "SVD: 0.9468\n",
      "NetG_fixD, Acc at sample 10 0.96\n"
     ]
    },
    {
     "name": "stderr",
     "output_type": "stream",
     "text": [
      "extracting all features from dataset: 100%|██████████████████████████████████████████████| 2/2 [00:04<00:00,  2.49s/it]\n",
      "extracting all features from dataset: 100%|██████████████████████████████████████████████| 1/1 [00:01<00:00,  1.68s/it]\n"
     ]
    },
    {
     "name": "stdout",
     "output_type": "stream",
     "text": [
      "----------------------------\n",
      "Train_z, Test_z\n",
      "PCA: 0.95\n",
      "SVD: 0.9467\n",
      "NetG_fixD, Acc at sample 11 0.9595\n"
     ]
    },
    {
     "name": "stderr",
     "output_type": "stream",
     "text": [
      "extracting all features from dataset: 100%|██████████████████████████████████████████████| 2/2 [00:04<00:00,  2.50s/it]\n",
      "extracting all features from dataset: 100%|██████████████████████████████████████████████| 1/1 [00:01<00:00,  1.69s/it]\n"
     ]
    },
    {
     "name": "stdout",
     "output_type": "stream",
     "text": [
      "----------------------------\n",
      "Train_z, Test_z\n",
      "PCA: 0.9504\n",
      "SVD: 0.9473\n",
      "NetG_fixD, Acc at sample 12 0.9605\n"
     ]
    },
    {
     "name": "stderr",
     "output_type": "stream",
     "text": [
      "extracting all features from dataset: 100%|██████████████████████████████████████████████| 2/2 [00:04<00:00,  2.49s/it]\n",
      "extracting all features from dataset: 100%|██████████████████████████████████████████████| 1/1 [00:01<00:00,  1.71s/it]\n"
     ]
    },
    {
     "name": "stdout",
     "output_type": "stream",
     "text": [
      "----------------------------\n",
      "Train_z, Test_z\n",
      "PCA: 0.9507\n",
      "SVD: 0.9472\n",
      "NetG_fixD, Acc at sample 13 0.9594\n"
     ]
    },
    {
     "name": "stderr",
     "output_type": "stream",
     "text": [
      "extracting all features from dataset: 100%|██████████████████████████████████████████████| 2/2 [00:05<00:00,  2.51s/it]\n",
      "extracting all features from dataset: 100%|██████████████████████████████████████████████| 1/1 [00:01<00:00,  1.69s/it]\n"
     ]
    },
    {
     "name": "stdout",
     "output_type": "stream",
     "text": [
      "----------------------------\n",
      "Train_z, Test_z\n",
      "PCA: 0.9502\n",
      "SVD: 0.9478\n",
      "NetG_fixD, Acc at sample 14 0.9604\n"
     ]
    },
    {
     "name": "stderr",
     "output_type": "stream",
     "text": [
      "extracting all features from dataset: 100%|██████████████████████████████████████████████| 2/2 [00:05<00:00,  2.51s/it]\n",
      "extracting all features from dataset: 100%|██████████████████████████████████████████████| 1/1 [00:01<00:00,  1.70s/it]\n"
     ]
    },
    {
     "name": "stdout",
     "output_type": "stream",
     "text": [
      "----------------------------\n",
      "Train_z, Test_z\n",
      "PCA: 0.9492\n",
      "SVD: 0.9465\n",
      "NetG_fixD, Acc at sample 15 0.9606\n"
     ]
    },
    {
     "name": "stderr",
     "output_type": "stream",
     "text": [
      "extracting all features from dataset: 100%|██████████████████████████████████████████████| 2/2 [00:05<00:00,  2.60s/it]\n",
      "extracting all features from dataset: 100%|██████████████████████████████████████████████| 1/1 [00:01<00:00,  1.75s/it]\n"
     ]
    },
    {
     "name": "stdout",
     "output_type": "stream",
     "text": [
      "----------------------------\n",
      "Train_z, Test_z\n",
      "PCA: 0.9467\n",
      "SVD: 0.942\n",
      "NetG_fixD, Acc at sample 16 0.9597\n"
     ]
    },
    {
     "name": "stderr",
     "output_type": "stream",
     "text": [
      "extracting all features from dataset: 100%|██████████████████████████████████████████████| 2/2 [00:05<00:00,  2.52s/it]\n",
      "extracting all features from dataset: 100%|██████████████████████████████████████████████| 1/1 [00:01<00:00,  1.71s/it]\n"
     ]
    },
    {
     "name": "stdout",
     "output_type": "stream",
     "text": [
      "----------------------------\n",
      "Train_z, Test_z\n",
      "PCA: 0.9523\n",
      "SVD: 0.9498\n",
      "NetG_fixD, Acc at sample 17 0.9602\n"
     ]
    },
    {
     "name": "stderr",
     "output_type": "stream",
     "text": [
      "extracting all features from dataset: 100%|██████████████████████████████████████████████| 2/2 [00:05<00:00,  2.54s/it]\n",
      "extracting all features from dataset: 100%|██████████████████████████████████████████████| 1/1 [00:01<00:00,  1.76s/it]\n"
     ]
    },
    {
     "name": "stdout",
     "output_type": "stream",
     "text": [
      "----------------------------\n",
      "Train_z, Test_z\n",
      "PCA: 0.948\n",
      "SVD: 0.9464\n",
      "NetG_fixD, Acc at sample 18 0.9593\n"
     ]
    },
    {
     "name": "stderr",
     "output_type": "stream",
     "text": [
      "extracting all features from dataset: 100%|██████████████████████████████████████████████| 2/2 [00:05<00:00,  2.53s/it]\n",
      "extracting all features from dataset: 100%|██████████████████████████████████████████████| 1/1 [00:01<00:00,  1.73s/it]\n"
     ]
    },
    {
     "name": "stdout",
     "output_type": "stream",
     "text": [
      "----------------------------\n",
      "Train_z, Test_z\n",
      "PCA: 0.9524\n",
      "SVD: 0.9508\n",
      "NetG_fixD, Acc at sample 19 0.9582\n"
     ]
    },
    {
     "name": "stderr",
     "output_type": "stream",
     "text": [
      "extracting all features from dataset: 100%|██████████████████████████████████████████████| 2/2 [00:05<00:00,  2.53s/it]\n",
      "extracting all features from dataset: 100%|██████████████████████████████████████████████| 1/1 [00:01<00:00,  1.71s/it]\n"
     ]
    },
    {
     "name": "stdout",
     "output_type": "stream",
     "text": [
      "----------------------------\n",
      "Train_z, Test_z\n",
      "PCA: 0.9469\n",
      "SVD: 0.9452\n",
      "NetG_fixD, Acc at sample 20 0.9605\n",
      "0.9617 0.9567 0.959435 1.5142750000000072e-06\n"
     ]
    }
   ],
   "source": [
    "# sample 20 times of NetG at final radius, NetD is fixed\n",
    "from sklearn.neighbors import KNeighborsClassifier \n",
    "Acc_results_G_sample5 = []\n",
    "\n",
    "for _ in range(sample_num):\n",
    "    #acc at first\n",
    "    net_noise = get_noise(DATASET, device, LABEL)\n",
    "    fed_state_dict = get_netG(netD,netV,net_noise,r_list[5])\n",
    "    netG.load_state_dict(fed_state_dict)\n",
    "    \n",
    "    train_X, train_Z, train_X_bar, train_Z_bar, train_labels = extract_features2(trainloader, netG, netD)\n",
    "\n",
    "    test_X, test_Z, test_X_bar, test_Z_bar, test_labels = extract_features2(testloader, netG, netD)\n",
    "\n",
    "    print(\"----------------------------\")\n",
    "    print(\"Train_z, Test_z\")\n",
    "    nearsub(n_comp, train_Z, train_labels, test_Z, test_labels)\n",
    "\n",
    "    knn= KNeighborsClassifier(n_neighbors=10) \n",
    "\n",
    "    knn.fit(train_Z,train_labels) \n",
    "    knn.score(test_Z_bar,test_labels) \n",
    "\n",
    "    y_predict = knn.predict(test_Z_bar) \n",
    "\n",
    "    count =0\n",
    "    for k in range(10000):\n",
    "        if y_predict[k] == test_labels[k]:\n",
    "            count +=1\n",
    "    print('NetG_fixD, Acc at sample',_+1,count/10000)\n",
    "    Acc_results_G_sample5.append(count/10000)\n",
    "    \n",
    "print(max(Acc_results_G_sample5),min(Acc_results_G_sample5),np.mean(Acc_results_G_sample5),np.var(Acc_results_G_sample5))"
   ]
  },
  {
   "cell_type": "code",
   "execution_count": 17,
   "id": "4594946a",
   "metadata": {},
   "outputs": [
    {
     "name": "stderr",
     "output_type": "stream",
     "text": [
      "extracting all features from dataset: 100%|██████████████████████████████████████████████| 2/2 [00:04<00:00,  2.42s/it]\n",
      "extracting all features from dataset: 100%|██████████████████████████████████████████████| 1/1 [00:01<00:00,  1.68s/it]\n"
     ]
    },
    {
     "name": "stdout",
     "output_type": "stream",
     "text": [
      "----------------------------\n",
      "Train_z, Test_z\n",
      "PCA: 0.9404\n",
      "SVD: 0.9359999999999999\n",
      "NetG_fixD, Acc at sample 1 0.9388\n"
     ]
    },
    {
     "name": "stderr",
     "output_type": "stream",
     "text": [
      "extracting all features from dataset: 100%|██████████████████████████████████████████████| 2/2 [00:05<00:00,  2.56s/it]\n",
      "extracting all features from dataset: 100%|██████████████████████████████████████████████| 1/1 [00:01<00:00,  1.75s/it]\n"
     ]
    },
    {
     "name": "stdout",
     "output_type": "stream",
     "text": [
      "----------------------------\n",
      "Train_z, Test_z\n",
      "PCA: 0.9372\n",
      "SVD: 0.9323\n",
      "NetG_fixD, Acc at sample 2 0.849\n"
     ]
    },
    {
     "name": "stderr",
     "output_type": "stream",
     "text": [
      "extracting all features from dataset: 100%|██████████████████████████████████████████████| 2/2 [00:05<00:00,  2.55s/it]\n",
      "extracting all features from dataset: 100%|██████████████████████████████████████████████| 1/1 [00:01<00:00,  1.69s/it]\n"
     ]
    },
    {
     "name": "stdout",
     "output_type": "stream",
     "text": [
      "----------------------------\n",
      "Train_z, Test_z\n",
      "PCA: 0.9387\n",
      "SVD: 0.9338\n",
      "NetG_fixD, Acc at sample 3 0.9254\n"
     ]
    },
    {
     "name": "stderr",
     "output_type": "stream",
     "text": [
      "extracting all features from dataset: 100%|██████████████████████████████████████████████| 2/2 [00:05<00:00,  2.53s/it]\n",
      "extracting all features from dataset: 100%|██████████████████████████████████████████████| 1/1 [00:01<00:00,  1.69s/it]\n"
     ]
    },
    {
     "name": "stdout",
     "output_type": "stream",
     "text": [
      "----------------------------\n",
      "Train_z, Test_z\n",
      "PCA: 0.9421\n",
      "SVD: 0.9378\n",
      "NetG_fixD, Acc at sample 4 0.9482\n"
     ]
    },
    {
     "name": "stderr",
     "output_type": "stream",
     "text": [
      "extracting all features from dataset: 100%|██████████████████████████████████████████████| 2/2 [00:04<00:00,  2.46s/it]\n",
      "extracting all features from dataset: 100%|██████████████████████████████████████████████| 1/1 [00:01<00:00,  1.70s/it]\n"
     ]
    },
    {
     "name": "stdout",
     "output_type": "stream",
     "text": [
      "----------------------------\n",
      "Train_z, Test_z\n",
      "PCA: 0.9436\n",
      "SVD: 0.9398\n",
      "NetG_fixD, Acc at sample 5 0.9182\n"
     ]
    },
    {
     "name": "stderr",
     "output_type": "stream",
     "text": [
      "extracting all features from dataset: 100%|██████████████████████████████████████████████| 2/2 [00:05<00:00,  2.55s/it]\n",
      "extracting all features from dataset: 100%|██████████████████████████████████████████████| 1/1 [00:01<00:00,  1.71s/it]\n"
     ]
    },
    {
     "name": "stdout",
     "output_type": "stream",
     "text": [
      "----------------------------\n",
      "Train_z, Test_z\n",
      "PCA: 0.9352\n",
      "SVD: 0.9341\n",
      "NetG_fixD, Acc at sample 6 0.9078\n"
     ]
    },
    {
     "name": "stderr",
     "output_type": "stream",
     "text": [
      "extracting all features from dataset: 100%|██████████████████████████████████████████████| 2/2 [00:05<00:00,  2.51s/it]\n",
      "extracting all features from dataset: 100%|██████████████████████████████████████████████| 1/1 [00:01<00:00,  1.71s/it]\n"
     ]
    },
    {
     "name": "stdout",
     "output_type": "stream",
     "text": [
      "----------------------------\n",
      "Train_z, Test_z\n",
      "PCA: 0.9437\n",
      "SVD: 0.9399\n",
      "NetG_fixD, Acc at sample 7 0.8956\n"
     ]
    },
    {
     "name": "stderr",
     "output_type": "stream",
     "text": [
      "extracting all features from dataset: 100%|██████████████████████████████████████████████| 2/2 [00:04<00:00,  2.47s/it]\n",
      "extracting all features from dataset: 100%|██████████████████████████████████████████████| 1/1 [00:01<00:00,  1.73s/it]\n"
     ]
    },
    {
     "name": "stdout",
     "output_type": "stream",
     "text": [
      "----------------------------\n",
      "Train_z, Test_z\n",
      "PCA: 0.9405\n",
      "SVD: 0.9383\n",
      "NetG_fixD, Acc at sample 8 0.9343\n"
     ]
    },
    {
     "name": "stderr",
     "output_type": "stream",
     "text": [
      "extracting all features from dataset: 100%|██████████████████████████████████████████████| 2/2 [00:05<00:00,  2.53s/it]\n",
      "extracting all features from dataset: 100%|██████████████████████████████████████████████| 1/1 [00:01<00:00,  1.72s/it]\n"
     ]
    },
    {
     "name": "stdout",
     "output_type": "stream",
     "text": [
      "----------------------------\n",
      "Train_z, Test_z\n",
      "PCA: 0.94\n",
      "SVD: 0.9353\n",
      "NetG_fixD, Acc at sample 9 0.9367\n"
     ]
    },
    {
     "name": "stderr",
     "output_type": "stream",
     "text": [
      "extracting all features from dataset: 100%|██████████████████████████████████████████████| 2/2 [00:05<00:00,  2.55s/it]\n",
      "extracting all features from dataset: 100%|██████████████████████████████████████████████| 1/1 [00:01<00:00,  1.71s/it]\n"
     ]
    },
    {
     "name": "stdout",
     "output_type": "stream",
     "text": [
      "----------------------------\n",
      "Train_z, Test_z\n",
      "PCA: 0.9471\n",
      "SVD: 0.9433\n",
      "NetG_fixD, Acc at sample 10 0.9425\n"
     ]
    },
    {
     "name": "stderr",
     "output_type": "stream",
     "text": [
      "extracting all features from dataset: 100%|██████████████████████████████████████████████| 2/2 [00:05<00:00,  2.57s/it]\n",
      "extracting all features from dataset: 100%|██████████████████████████████████████████████| 1/1 [00:01<00:00,  1.76s/it]\n"
     ]
    },
    {
     "name": "stdout",
     "output_type": "stream",
     "text": [
      "----------------------------\n",
      "Train_z, Test_z\n",
      "PCA: 0.9419\n",
      "SVD: 0.9378\n",
      "NetG_fixD, Acc at sample 11 0.9295\n"
     ]
    },
    {
     "name": "stderr",
     "output_type": "stream",
     "text": [
      "extracting all features from dataset: 100%|██████████████████████████████████████████████| 2/2 [00:04<00:00,  2.45s/it]\n",
      "extracting all features from dataset: 100%|██████████████████████████████████████████████| 1/1 [00:01<00:00,  1.71s/it]\n"
     ]
    },
    {
     "name": "stdout",
     "output_type": "stream",
     "text": [
      "----------------------------\n",
      "Train_z, Test_z\n",
      "PCA: 0.9304\n",
      "SVD: 0.9249\n",
      "NetG_fixD, Acc at sample 12 0.8971\n"
     ]
    },
    {
     "name": "stderr",
     "output_type": "stream",
     "text": [
      "extracting all features from dataset: 100%|██████████████████████████████████████████████| 2/2 [00:05<00:00,  2.54s/it]\n",
      "extracting all features from dataset: 100%|██████████████████████████████████████████████| 1/1 [00:01<00:00,  1.67s/it]\n"
     ]
    },
    {
     "name": "stdout",
     "output_type": "stream",
     "text": [
      "----------------------------\n",
      "Train_z, Test_z\n",
      "PCA: 0.9398\n",
      "SVD: 0.9357\n",
      "NetG_fixD, Acc at sample 13 0.9371\n"
     ]
    },
    {
     "name": "stderr",
     "output_type": "stream",
     "text": [
      "extracting all features from dataset: 100%|██████████████████████████████████████████████| 2/2 [00:05<00:00,  2.54s/it]\n",
      "extracting all features from dataset: 100%|██████████████████████████████████████████████| 1/1 [00:01<00:00,  1.73s/it]\n"
     ]
    },
    {
     "name": "stdout",
     "output_type": "stream",
     "text": [
      "----------------------------\n",
      "Train_z, Test_z\n",
      "PCA: 0.9476\n",
      "SVD: 0.9435\n",
      "NetG_fixD, Acc at sample 14 0.9398\n"
     ]
    },
    {
     "name": "stderr",
     "output_type": "stream",
     "text": [
      "extracting all features from dataset: 100%|██████████████████████████████████████████████| 2/2 [00:05<00:00,  2.60s/it]\n",
      "extracting all features from dataset: 100%|██████████████████████████████████████████████| 1/1 [00:01<00:00,  1.71s/it]\n"
     ]
    },
    {
     "name": "stdout",
     "output_type": "stream",
     "text": [
      "----------------------------\n",
      "Train_z, Test_z\n",
      "PCA: 0.9373\n",
      "SVD: 0.9366\n",
      "NetG_fixD, Acc at sample 15 0.916\n"
     ]
    },
    {
     "name": "stderr",
     "output_type": "stream",
     "text": [
      "extracting all features from dataset: 100%|██████████████████████████████████████████████| 2/2 [00:05<00:00,  2.57s/it]\n",
      "extracting all features from dataset: 100%|██████████████████████████████████████████████| 1/1 [00:01<00:00,  1.71s/it]\n"
     ]
    },
    {
     "name": "stdout",
     "output_type": "stream",
     "text": [
      "----------------------------\n",
      "Train_z, Test_z\n",
      "PCA: 0.9325\n",
      "SVD: 0.9275\n",
      "NetG_fixD, Acc at sample 16 0.9106\n"
     ]
    },
    {
     "name": "stderr",
     "output_type": "stream",
     "text": [
      "extracting all features from dataset: 100%|██████████████████████████████████████████████| 2/2 [00:05<00:00,  2.51s/it]\n",
      "extracting all features from dataset: 100%|██████████████████████████████████████████████| 1/1 [00:01<00:00,  1.73s/it]\n"
     ]
    },
    {
     "name": "stdout",
     "output_type": "stream",
     "text": [
      "----------------------------\n",
      "Train_z, Test_z\n",
      "PCA: 0.9361\n",
      "SVD: 0.9344\n",
      "NetG_fixD, Acc at sample 17 0.9436\n"
     ]
    },
    {
     "name": "stderr",
     "output_type": "stream",
     "text": [
      "extracting all features from dataset: 100%|██████████████████████████████████████████████| 2/2 [00:04<00:00,  2.45s/it]\n",
      "extracting all features from dataset: 100%|██████████████████████████████████████████████| 1/1 [00:01<00:00,  1.72s/it]\n"
     ]
    },
    {
     "name": "stdout",
     "output_type": "stream",
     "text": [
      "----------------------------\n",
      "Train_z, Test_z\n",
      "PCA: 0.9406\n",
      "SVD: 0.9341\n",
      "NetG_fixD, Acc at sample 18 0.947\n"
     ]
    },
    {
     "name": "stderr",
     "output_type": "stream",
     "text": [
      "extracting all features from dataset: 100%|██████████████████████████████████████████████| 2/2 [00:04<00:00,  2.46s/it]\n",
      "extracting all features from dataset: 100%|██████████████████████████████████████████████| 1/1 [00:01<00:00,  1.68s/it]\n"
     ]
    },
    {
     "name": "stdout",
     "output_type": "stream",
     "text": [
      "----------------------------\n",
      "Train_z, Test_z\n",
      "PCA: 0.9426\n",
      "SVD: 0.9381\n",
      "NetG_fixD, Acc at sample 19 0.9475\n"
     ]
    },
    {
     "name": "stderr",
     "output_type": "stream",
     "text": [
      "extracting all features from dataset: 100%|██████████████████████████████████████████████| 2/2 [00:04<00:00,  2.45s/it]\n",
      "extracting all features from dataset: 100%|██████████████████████████████████████████████| 1/1 [00:01<00:00,  1.71s/it]\n"
     ]
    },
    {
     "name": "stdout",
     "output_type": "stream",
     "text": [
      "----------------------------\n",
      "Train_z, Test_z\n",
      "PCA: 0.9409\n",
      "SVD: 0.94\n",
      "NetG_fixD, Acc at sample 20 0.9356\n",
      "0.9482 0.849 0.9250150000000001 0.0005570972750000001\n"
     ]
    }
   ],
   "source": [
    "# sample 20 times of NetG at final radius, NetD is fixed\n",
    "from sklearn.neighbors import KNeighborsClassifier \n",
    "Acc_results_G_sample6 = []\n",
    "\n",
    "for _ in range(sample_num):\n",
    "    #acc at first\n",
    "    net_noise = get_noise(DATASET, device, LABEL)\n",
    "    fed_state_dict = get_netG(netD,netV,net_noise,r_list[6])\n",
    "    netG.load_state_dict(fed_state_dict)\n",
    "    \n",
    "    train_X, train_Z, train_X_bar, train_Z_bar, train_labels = extract_features2(trainloader, netG, netD)\n",
    "\n",
    "    test_X, test_Z, test_X_bar, test_Z_bar, test_labels = extract_features2(testloader, netG, netD)\n",
    "\n",
    "    print(\"----------------------------\")\n",
    "    print(\"Train_z, Test_z\")\n",
    "    nearsub(n_comp, train_Z, train_labels, test_Z, test_labels)\n",
    "\n",
    "    knn= KNeighborsClassifier(n_neighbors=10) \n",
    "\n",
    "    knn.fit(train_Z,train_labels) \n",
    "    knn.score(test_Z_bar,test_labels) \n",
    "\n",
    "    y_predict = knn.predict(test_Z_bar) \n",
    "\n",
    "    count =0\n",
    "    for k in range(10000):\n",
    "        if y_predict[k] == test_labels[k]:\n",
    "            count +=1\n",
    "    print('NetG_fixD, Acc at sample',_+1,count/10000)\n",
    "    Acc_results_G_sample6.append(count/10000)\n",
    "    \n",
    "print(max(Acc_results_G_sample6),min(Acc_results_G_sample6),np.mean(Acc_results_G_sample6),np.var(Acc_results_G_sample6))"
   ]
  },
  {
   "cell_type": "code",
   "execution_count": 18,
   "id": "9bac47e0",
   "metadata": {},
   "outputs": [
    {
     "name": "stderr",
     "output_type": "stream",
     "text": [
      "extracting all features from dataset: 100%|██████████████████████████████████████████████| 2/2 [00:05<00:00,  2.58s/it]\n",
      "extracting all features from dataset: 100%|██████████████████████████████████████████████| 1/1 [00:01<00:00,  1.69s/it]\n"
     ]
    },
    {
     "name": "stdout",
     "output_type": "stream",
     "text": [
      "----------------------------\n",
      "Train_z, Test_z\n",
      "PCA: 0.9381\n",
      "SVD: 0.9354\n",
      "NetG_fixD, Acc at sample 1 0.5939\n"
     ]
    },
    {
     "name": "stderr",
     "output_type": "stream",
     "text": [
      "extracting all features from dataset: 100%|██████████████████████████████████████████████| 2/2 [00:05<00:00,  2.50s/it]\n",
      "extracting all features from dataset: 100%|██████████████████████████████████████████████| 1/1 [00:01<00:00,  1.68s/it]\n"
     ]
    },
    {
     "name": "stdout",
     "output_type": "stream",
     "text": [
      "----------------------------\n",
      "Train_z, Test_z\n",
      "PCA: 0.9297\n",
      "SVD: 0.9255\n",
      "NetG_fixD, Acc at sample 2 0.4958\n"
     ]
    },
    {
     "name": "stderr",
     "output_type": "stream",
     "text": [
      "extracting all features from dataset: 100%|██████████████████████████████████████████████| 2/2 [00:04<00:00,  2.49s/it]\n",
      "extracting all features from dataset: 100%|██████████████████████████████████████████████| 1/1 [00:01<00:00,  1.68s/it]\n"
     ]
    },
    {
     "name": "stdout",
     "output_type": "stream",
     "text": [
      "----------------------------\n",
      "Train_z, Test_z\n",
      "PCA: 0.9346\n",
      "SVD: 0.9326\n",
      "NetG_fixD, Acc at sample 3 0.6173\n"
     ]
    },
    {
     "name": "stderr",
     "output_type": "stream",
     "text": [
      "extracting all features from dataset: 100%|██████████████████████████████████████████████| 2/2 [00:04<00:00,  2.50s/it]\n",
      "extracting all features from dataset: 100%|██████████████████████████████████████████████| 1/1 [00:01<00:00,  1.73s/it]\n"
     ]
    },
    {
     "name": "stdout",
     "output_type": "stream",
     "text": [
      "----------------------------\n",
      "Train_z, Test_z\n",
      "PCA: 0.9241\n",
      "SVD: 0.9227\n",
      "NetG_fixD, Acc at sample 4 0.4737\n"
     ]
    },
    {
     "name": "stderr",
     "output_type": "stream",
     "text": [
      "extracting all features from dataset: 100%|██████████████████████████████████████████████| 2/2 [00:05<00:00,  2.53s/it]\n",
      "extracting all features from dataset: 100%|██████████████████████████████████████████████| 1/1 [00:01<00:00,  1.70s/it]\n"
     ]
    },
    {
     "name": "stdout",
     "output_type": "stream",
     "text": [
      "----------------------------\n",
      "Train_z, Test_z\n",
      "PCA: 0.9311\n",
      "SVD: 0.9256\n",
      "NetG_fixD, Acc at sample 5 0.5734\n"
     ]
    },
    {
     "name": "stderr",
     "output_type": "stream",
     "text": [
      "extracting all features from dataset: 100%|██████████████████████████████████████████████| 2/2 [00:04<00:00,  2.47s/it]\n",
      "extracting all features from dataset: 100%|██████████████████████████████████████████████| 1/1 [00:01<00:00,  1.70s/it]\n"
     ]
    },
    {
     "name": "stdout",
     "output_type": "stream",
     "text": [
      "----------------------------\n",
      "Train_z, Test_z\n",
      "PCA: 0.9342\n",
      "SVD: 0.9299999999999999\n",
      "NetG_fixD, Acc at sample 6 0.6775\n"
     ]
    },
    {
     "name": "stderr",
     "output_type": "stream",
     "text": [
      "extracting all features from dataset: 100%|██████████████████████████████████████████████| 2/2 [00:04<00:00,  2.40s/it]\n",
      "extracting all features from dataset: 100%|██████████████████████████████████████████████| 1/1 [00:01<00:00,  1.69s/it]\n"
     ]
    },
    {
     "name": "stdout",
     "output_type": "stream",
     "text": [
      "----------------------------\n",
      "Train_z, Test_z\n",
      "PCA: 0.9384\n",
      "SVD: 0.9329\n",
      "NetG_fixD, Acc at sample 7 0.7445\n"
     ]
    },
    {
     "name": "stderr",
     "output_type": "stream",
     "text": [
      "extracting all features from dataset: 100%|██████████████████████████████████████████████| 2/2 [00:05<00:00,  2.54s/it]\n",
      "extracting all features from dataset: 100%|██████████████████████████████████████████████| 1/1 [00:01<00:00,  1.70s/it]\n"
     ]
    },
    {
     "name": "stdout",
     "output_type": "stream",
     "text": [
      "----------------------------\n",
      "Train_z, Test_z\n",
      "PCA: 0.9266\n",
      "SVD: 0.9227\n",
      "NetG_fixD, Acc at sample 8 0.6826\n"
     ]
    },
    {
     "name": "stderr",
     "output_type": "stream",
     "text": [
      "extracting all features from dataset: 100%|██████████████████████████████████████████████| 2/2 [00:05<00:00,  2.53s/it]\n",
      "extracting all features from dataset: 100%|██████████████████████████████████████████████| 1/1 [00:01<00:00,  1.71s/it]\n"
     ]
    },
    {
     "name": "stdout",
     "output_type": "stream",
     "text": [
      "----------------------------\n",
      "Train_z, Test_z\n",
      "PCA: 0.9241\n",
      "SVD: 0.9191\n",
      "NetG_fixD, Acc at sample 9 0.482\n"
     ]
    },
    {
     "name": "stderr",
     "output_type": "stream",
     "text": [
      "extracting all features from dataset: 100%|██████████████████████████████████████████████| 2/2 [00:05<00:00,  2.51s/it]\n",
      "extracting all features from dataset: 100%|██████████████████████████████████████████████| 1/1 [00:01<00:00,  1.71s/it]\n"
     ]
    },
    {
     "name": "stdout",
     "output_type": "stream",
     "text": [
      "----------------------------\n",
      "Train_z, Test_z\n",
      "PCA: 0.9297\n",
      "SVD: 0.9261\n",
      "NetG_fixD, Acc at sample 10 0.5742\n"
     ]
    },
    {
     "name": "stderr",
     "output_type": "stream",
     "text": [
      "extracting all features from dataset: 100%|██████████████████████████████████████████████| 2/2 [00:04<00:00,  2.49s/it]\n",
      "extracting all features from dataset: 100%|██████████████████████████████████████████████| 1/1 [00:01<00:00,  1.71s/it]\n"
     ]
    },
    {
     "name": "stdout",
     "output_type": "stream",
     "text": [
      "----------------------------\n",
      "Train_z, Test_z\n",
      "PCA: 0.9266\n",
      "SVD: 0.923\n",
      "NetG_fixD, Acc at sample 11 0.4455\n"
     ]
    },
    {
     "name": "stderr",
     "output_type": "stream",
     "text": [
      "extracting all features from dataset: 100%|██████████████████████████████████████████████| 2/2 [00:04<00:00,  2.43s/it]\n",
      "extracting all features from dataset: 100%|██████████████████████████████████████████████| 1/1 [00:01<00:00,  1.72s/it]\n"
     ]
    },
    {
     "name": "stdout",
     "output_type": "stream",
     "text": [
      "----------------------------\n",
      "Train_z, Test_z\n",
      "PCA: 0.9323\n",
      "SVD: 0.9291\n",
      "NetG_fixD, Acc at sample 12 0.3717\n"
     ]
    },
    {
     "name": "stderr",
     "output_type": "stream",
     "text": [
      "extracting all features from dataset: 100%|██████████████████████████████████████████████| 2/2 [00:04<00:00,  2.47s/it]\n",
      "extracting all features from dataset: 100%|██████████████████████████████████████████████| 1/1 [00:01<00:00,  1.68s/it]\n"
     ]
    },
    {
     "name": "stdout",
     "output_type": "stream",
     "text": [
      "----------------------------\n",
      "Train_z, Test_z\n",
      "PCA: 0.929\n",
      "SVD: 0.9277\n",
      "NetG_fixD, Acc at sample 13 0.6032\n"
     ]
    },
    {
     "name": "stderr",
     "output_type": "stream",
     "text": [
      "extracting all features from dataset: 100%|██████████████████████████████████████████████| 2/2 [00:05<00:00,  2.57s/it]\n",
      "extracting all features from dataset: 100%|██████████████████████████████████████████████| 1/1 [00:01<00:00,  1.69s/it]\n"
     ]
    },
    {
     "name": "stdout",
     "output_type": "stream",
     "text": [
      "----------------------------\n",
      "Train_z, Test_z\n",
      "PCA: 0.9319999999999999\n",
      "SVD: 0.9274\n",
      "NetG_fixD, Acc at sample 14 0.583\n"
     ]
    },
    {
     "name": "stderr",
     "output_type": "stream",
     "text": [
      "extracting all features from dataset: 100%|██████████████████████████████████████████████| 2/2 [00:04<00:00,  2.45s/it]\n",
      "extracting all features from dataset: 100%|██████████████████████████████████████████████| 1/1 [00:01<00:00,  1.68s/it]\n"
     ]
    },
    {
     "name": "stdout",
     "output_type": "stream",
     "text": [
      "----------------------------\n",
      "Train_z, Test_z\n",
      "PCA: 0.9237\n",
      "SVD: 0.9227\n",
      "NetG_fixD, Acc at sample 15 0.4183\n"
     ]
    },
    {
     "name": "stderr",
     "output_type": "stream",
     "text": [
      "extracting all features from dataset: 100%|██████████████████████████████████████████████| 2/2 [00:05<00:00,  2.51s/it]\n",
      "extracting all features from dataset: 100%|██████████████████████████████████████████████| 1/1 [00:01<00:00,  1.72s/it]\n"
     ]
    },
    {
     "name": "stdout",
     "output_type": "stream",
     "text": [
      "----------------------------\n",
      "Train_z, Test_z\n",
      "PCA: 0.9258\n",
      "SVD: 0.9246\n",
      "NetG_fixD, Acc at sample 16 0.5047\n"
     ]
    },
    {
     "name": "stderr",
     "output_type": "stream",
     "text": [
      "extracting all features from dataset: 100%|██████████████████████████████████████████████| 2/2 [00:04<00:00,  2.49s/it]\n",
      "extracting all features from dataset: 100%|██████████████████████████████████████████████| 1/1 [00:01<00:00,  1.70s/it]\n"
     ]
    },
    {
     "name": "stdout",
     "output_type": "stream",
     "text": [
      "----------------------------\n",
      "Train_z, Test_z\n",
      "PCA: 0.9277\n",
      "SVD: 0.9251\n",
      "NetG_fixD, Acc at sample 17 0.4996\n"
     ]
    },
    {
     "name": "stderr",
     "output_type": "stream",
     "text": [
      "extracting all features from dataset: 100%|██████████████████████████████████████████████| 2/2 [00:04<00:00,  2.47s/it]\n",
      "extracting all features from dataset: 100%|██████████████████████████████████████████████| 1/1 [00:01<00:00,  1.70s/it]\n"
     ]
    },
    {
     "name": "stdout",
     "output_type": "stream",
     "text": [
      "----------------------------\n",
      "Train_z, Test_z\n",
      "PCA: 0.9308\n",
      "SVD: 0.9285\n",
      "NetG_fixD, Acc at sample 18 0.774\n"
     ]
    },
    {
     "name": "stderr",
     "output_type": "stream",
     "text": [
      "extracting all features from dataset: 100%|██████████████████████████████████████████████| 2/2 [00:05<00:00,  2.57s/it]\n",
      "extracting all features from dataset: 100%|██████████████████████████████████████████████| 1/1 [00:01<00:00,  1.68s/it]\n"
     ]
    },
    {
     "name": "stdout",
     "output_type": "stream",
     "text": [
      "----------------------------\n",
      "Train_z, Test_z\n",
      "PCA: 0.9243\n",
      "SVD: 0.9214\n",
      "NetG_fixD, Acc at sample 19 0.5666\n"
     ]
    },
    {
     "name": "stderr",
     "output_type": "stream",
     "text": [
      "extracting all features from dataset: 100%|██████████████████████████████████████████████| 2/2 [00:05<00:00,  2.59s/it]\n",
      "extracting all features from dataset: 100%|██████████████████████████████████████████████| 1/1 [00:01<00:00,  1.70s/it]\n"
     ]
    },
    {
     "name": "stdout",
     "output_type": "stream",
     "text": [
      "----------------------------\n",
      "Train_z, Test_z\n",
      "PCA: 0.9238999999999999\n",
      "SVD: 0.9207\n",
      "NetG_fixD, Acc at sample 20 0.6052\n",
      "0.774 0.3717 0.5643349999999999 0.010529928275000001\n"
     ]
    }
   ],
   "source": [
    "# sample 20 times of NetG at final radius, NetD is fixed\n",
    "from sklearn.neighbors import KNeighborsClassifier \n",
    "Acc_results_G_sample7 = []\n",
    "\n",
    "for _ in range(sample_num):\n",
    "    #acc at first\n",
    "    net_noise = get_noise(DATASET, device, LABEL)\n",
    "    fed_state_dict = get_netG(netD,netV,net_noise,r_list[7])\n",
    "    netG.load_state_dict(fed_state_dict)\n",
    "    \n",
    "    train_X, train_Z, train_X_bar, train_Z_bar, train_labels = extract_features2(trainloader, netG, netD)\n",
    "\n",
    "    test_X, test_Z, test_X_bar, test_Z_bar, test_labels = extract_features2(testloader, netG, netD)\n",
    "\n",
    "    print(\"----------------------------\")\n",
    "    print(\"Train_z, Test_z\")\n",
    "    nearsub(n_comp, train_Z, train_labels, test_Z, test_labels)\n",
    "\n",
    "    knn= KNeighborsClassifier(n_neighbors=10) \n",
    "\n",
    "    knn.fit(train_Z,train_labels) \n",
    "    knn.score(test_Z_bar,test_labels) \n",
    "\n",
    "    y_predict = knn.predict(test_Z_bar) \n",
    "\n",
    "    count =0\n",
    "    for k in range(10000):\n",
    "        if y_predict[k] == test_labels[k]:\n",
    "            count +=1\n",
    "    print('NetG_fixD, Acc at sample',_+1,count/10000)\n",
    "    Acc_results_G_sample7.append(count/10000)\n",
    "    \n",
    "print(max(Acc_results_G_sample7),min(Acc_results_G_sample7),np.mean(Acc_results_G_sample7),np.var(Acc_results_G_sample7))"
   ]
  },
  {
   "cell_type": "code",
   "execution_count": 19,
   "id": "10863846",
   "metadata": {},
   "outputs": [
    {
     "name": "stderr",
     "output_type": "stream",
     "text": [
      "extracting all features from dataset: 100%|██████████████████████████████████████████████| 2/2 [00:05<00:00,  2.53s/it]\n",
      "extracting all features from dataset: 100%|██████████████████████████████████████████████| 1/1 [00:01<00:00,  1.70s/it]\n"
     ]
    },
    {
     "name": "stdout",
     "output_type": "stream",
     "text": [
      "----------------------------\n",
      "Train_z, Test_z\n",
      "PCA: 0.9293\n",
      "SVD: 0.9254\n",
      "NetG_fixD, Acc at sample 1 0.1745\n"
     ]
    },
    {
     "name": "stderr",
     "output_type": "stream",
     "text": [
      "extracting all features from dataset: 100%|██████████████████████████████████████████████| 2/2 [00:04<00:00,  2.45s/it]\n",
      "extracting all features from dataset: 100%|██████████████████████████████████████████████| 1/1 [00:01<00:00,  1.72s/it]\n"
     ]
    },
    {
     "name": "stdout",
     "output_type": "stream",
     "text": [
      "----------------------------\n",
      "Train_z, Test_z\n",
      "PCA: 0.9235\n",
      "SVD: 0.9186\n",
      "NetG_fixD, Acc at sample 2 0.2124\n"
     ]
    },
    {
     "name": "stderr",
     "output_type": "stream",
     "text": [
      "extracting all features from dataset: 100%|██████████████████████████████████████████████| 2/2 [00:05<00:00,  2.53s/it]\n",
      "extracting all features from dataset: 100%|██████████████████████████████████████████████| 1/1 [00:01<00:00,  1.70s/it]\n"
     ]
    },
    {
     "name": "stdout",
     "output_type": "stream",
     "text": [
      "----------------------------\n",
      "Train_z, Test_z\n",
      "PCA: 0.927\n",
      "SVD: 0.9266\n",
      "NetG_fixD, Acc at sample 3 0.1491\n"
     ]
    },
    {
     "name": "stderr",
     "output_type": "stream",
     "text": [
      "extracting all features from dataset: 100%|██████████████████████████████████████████████| 2/2 [00:05<00:00,  2.54s/it]\n",
      "extracting all features from dataset: 100%|██████████████████████████████████████████████| 1/1 [00:01<00:00,  1.70s/it]\n"
     ]
    },
    {
     "name": "stdout",
     "output_type": "stream",
     "text": [
      "----------------------------\n",
      "Train_z, Test_z\n",
      "PCA: 0.9207\n",
      "SVD: 0.9151\n",
      "NetG_fixD, Acc at sample 4 0.1328\n"
     ]
    },
    {
     "name": "stderr",
     "output_type": "stream",
     "text": [
      "extracting all features from dataset: 100%|██████████████████████████████████████████████| 2/2 [00:04<00:00,  2.47s/it]\n",
      "extracting all features from dataset: 100%|██████████████████████████████████████████████| 1/1 [00:01<00:00,  1.69s/it]\n"
     ]
    },
    {
     "name": "stdout",
     "output_type": "stream",
     "text": [
      "----------------------------\n",
      "Train_z, Test_z\n",
      "PCA: 0.9293\n",
      "SVD: 0.9278\n",
      "NetG_fixD, Acc at sample 5 0.104\n"
     ]
    },
    {
     "name": "stderr",
     "output_type": "stream",
     "text": [
      "extracting all features from dataset: 100%|██████████████████████████████████████████████| 2/2 [00:04<00:00,  2.45s/it]\n",
      "extracting all features from dataset: 100%|██████████████████████████████████████████████| 1/1 [00:01<00:00,  1.69s/it]\n"
     ]
    },
    {
     "name": "stdout",
     "output_type": "stream",
     "text": [
      "----------------------------\n",
      "Train_z, Test_z\n",
      "PCA: 0.9244\n",
      "SVD: 0.9226\n",
      "NetG_fixD, Acc at sample 6 0.197\n"
     ]
    },
    {
     "name": "stderr",
     "output_type": "stream",
     "text": [
      "extracting all features from dataset: 100%|██████████████████████████████████████████████| 2/2 [00:04<00:00,  2.47s/it]\n",
      "extracting all features from dataset: 100%|██████████████████████████████████████████████| 1/1 [00:01<00:00,  1.72s/it]\n"
     ]
    },
    {
     "name": "stdout",
     "output_type": "stream",
     "text": [
      "----------------------------\n",
      "Train_z, Test_z\n",
      "PCA: 0.9235\n",
      "SVD: 0.9193\n",
      "NetG_fixD, Acc at sample 7 0.1707\n"
     ]
    },
    {
     "name": "stderr",
     "output_type": "stream",
     "text": [
      "extracting all features from dataset: 100%|██████████████████████████████████████████████| 2/2 [00:05<00:00,  2.58s/it]\n",
      "extracting all features from dataset: 100%|██████████████████████████████████████████████| 1/1 [00:01<00:00,  1.75s/it]\n"
     ]
    },
    {
     "name": "stdout",
     "output_type": "stream",
     "text": [
      "----------------------------\n",
      "Train_z, Test_z\n",
      "PCA: 0.9229\n",
      "SVD: 0.9196\n",
      "NetG_fixD, Acc at sample 8 0.153\n"
     ]
    },
    {
     "name": "stderr",
     "output_type": "stream",
     "text": [
      "extracting all features from dataset: 100%|██████████████████████████████████████████████| 2/2 [00:05<00:00,  2.59s/it]\n",
      "extracting all features from dataset: 100%|██████████████████████████████████████████████| 1/1 [00:01<00:00,  1.71s/it]\n"
     ]
    },
    {
     "name": "stdout",
     "output_type": "stream",
     "text": [
      "----------------------------\n",
      "Train_z, Test_z\n",
      "PCA: 0.9222\n",
      "SVD: 0.9205\n",
      "NetG_fixD, Acc at sample 9 0.1289\n"
     ]
    },
    {
     "name": "stderr",
     "output_type": "stream",
     "text": [
      "extracting all features from dataset: 100%|██████████████████████████████████████████████| 2/2 [00:04<00:00,  2.49s/it]\n",
      "extracting all features from dataset: 100%|██████████████████████████████████████████████| 1/1 [00:01<00:00,  1.68s/it]\n"
     ]
    },
    {
     "name": "stdout",
     "output_type": "stream",
     "text": [
      "----------------------------\n",
      "Train_z, Test_z\n",
      "PCA: 0.9253\n",
      "SVD: 0.9207\n",
      "NetG_fixD, Acc at sample 10 0.1305\n"
     ]
    },
    {
     "name": "stderr",
     "output_type": "stream",
     "text": [
      "extracting all features from dataset: 100%|██████████████████████████████████████████████| 2/2 [00:04<00:00,  2.44s/it]\n",
      "extracting all features from dataset: 100%|██████████████████████████████████████████████| 1/1 [00:01<00:00,  1.79s/it]\n"
     ]
    },
    {
     "name": "stdout",
     "output_type": "stream",
     "text": [
      "----------------------------\n",
      "Train_z, Test_z\n",
      "PCA: 0.9252\n",
      "SVD: 0.9233\n",
      "NetG_fixD, Acc at sample 11 0.1719\n"
     ]
    },
    {
     "name": "stderr",
     "output_type": "stream",
     "text": [
      "extracting all features from dataset: 100%|██████████████████████████████████████████████| 2/2 [00:04<00:00,  2.50s/it]\n",
      "extracting all features from dataset: 100%|██████████████████████████████████████████████| 1/1 [00:01<00:00,  1.74s/it]\n"
     ]
    },
    {
     "name": "stdout",
     "output_type": "stream",
     "text": [
      "----------------------------\n",
      "Train_z, Test_z\n",
      "PCA: 0.9296\n",
      "SVD: 0.9286\n",
      "NetG_fixD, Acc at sample 12 0.1504\n"
     ]
    },
    {
     "name": "stderr",
     "output_type": "stream",
     "text": [
      "extracting all features from dataset: 100%|██████████████████████████████████████████████| 2/2 [00:05<00:00,  2.59s/it]\n",
      "extracting all features from dataset: 100%|██████████████████████████████████████████████| 1/1 [00:01<00:00,  1.71s/it]\n"
     ]
    },
    {
     "name": "stdout",
     "output_type": "stream",
     "text": [
      "----------------------------\n",
      "Train_z, Test_z\n",
      "PCA: 0.9302\n",
      "SVD: 0.9266\n",
      "NetG_fixD, Acc at sample 13 0.2166\n"
     ]
    },
    {
     "name": "stderr",
     "output_type": "stream",
     "text": [
      "extracting all features from dataset: 100%|██████████████████████████████████████████████| 2/2 [00:04<00:00,  2.43s/it]\n",
      "extracting all features from dataset: 100%|██████████████████████████████████████████████| 1/1 [00:01<00:00,  1.70s/it]\n"
     ]
    },
    {
     "name": "stdout",
     "output_type": "stream",
     "text": [
      "----------------------------\n",
      "Train_z, Test_z\n",
      "PCA: 0.9278\n",
      "SVD: 0.9242\n",
      "NetG_fixD, Acc at sample 14 0.1293\n"
     ]
    },
    {
     "name": "stderr",
     "output_type": "stream",
     "text": [
      "extracting all features from dataset: 100%|██████████████████████████████████████████████| 2/2 [00:04<00:00,  2.48s/it]\n",
      "extracting all features from dataset: 100%|██████████████████████████████████████████████| 1/1 [00:01<00:00,  1.70s/it]\n"
     ]
    },
    {
     "name": "stdout",
     "output_type": "stream",
     "text": [
      "----------------------------\n",
      "Train_z, Test_z\n",
      "PCA: 0.9243\n",
      "SVD: 0.9215\n",
      "NetG_fixD, Acc at sample 15 0.1554\n"
     ]
    },
    {
     "name": "stderr",
     "output_type": "stream",
     "text": [
      "extracting all features from dataset: 100%|██████████████████████████████████████████████| 2/2 [00:04<00:00,  2.42s/it]\n",
      "extracting all features from dataset: 100%|██████████████████████████████████████████████| 1/1 [00:01<00:00,  1.70s/it]\n"
     ]
    },
    {
     "name": "stdout",
     "output_type": "stream",
     "text": [
      "----------------------------\n",
      "Train_z, Test_z\n",
      "PCA: 0.9142\n",
      "SVD: 0.9103\n",
      "NetG_fixD, Acc at sample 16 0.1992\n"
     ]
    },
    {
     "name": "stderr",
     "output_type": "stream",
     "text": [
      "extracting all features from dataset: 100%|██████████████████████████████████████████████| 2/2 [00:05<00:00,  2.56s/it]\n",
      "extracting all features from dataset: 100%|██████████████████████████████████████████████| 1/1 [00:01<00:00,  1.69s/it]\n"
     ]
    },
    {
     "name": "stdout",
     "output_type": "stream",
     "text": [
      "----------------------------\n",
      "Train_z, Test_z\n",
      "PCA: 0.9287\n",
      "SVD: 0.9227\n",
      "NetG_fixD, Acc at sample 17 0.1332\n"
     ]
    },
    {
     "name": "stderr",
     "output_type": "stream",
     "text": [
      "extracting all features from dataset: 100%|██████████████████████████████████████████████| 2/2 [00:05<00:00,  2.56s/it]\n",
      "extracting all features from dataset: 100%|██████████████████████████████████████████████| 1/1 [00:01<00:00,  1.71s/it]\n"
     ]
    },
    {
     "name": "stdout",
     "output_type": "stream",
     "text": [
      "----------------------------\n",
      "Train_z, Test_z\n",
      "PCA: 0.9238\n",
      "SVD: 0.92\n",
      "NetG_fixD, Acc at sample 18 0.1548\n"
     ]
    },
    {
     "name": "stderr",
     "output_type": "stream",
     "text": [
      "extracting all features from dataset: 100%|██████████████████████████████████████████████| 2/2 [00:05<00:00,  2.58s/it]\n",
      "extracting all features from dataset: 100%|██████████████████████████████████████████████| 1/1 [00:01<00:00,  1.71s/it]\n"
     ]
    },
    {
     "name": "stdout",
     "output_type": "stream",
     "text": [
      "----------------------------\n",
      "Train_z, Test_z\n",
      "PCA: 0.9211\n",
      "SVD: 0.9172\n",
      "NetG_fixD, Acc at sample 19 0.1518\n"
     ]
    },
    {
     "name": "stderr",
     "output_type": "stream",
     "text": [
      "extracting all features from dataset: 100%|██████████████████████████████████████████████| 2/2 [00:05<00:00,  2.50s/it]\n",
      "extracting all features from dataset: 100%|██████████████████████████████████████████████| 1/1 [00:01<00:00,  1.71s/it]\n"
     ]
    },
    {
     "name": "stdout",
     "output_type": "stream",
     "text": [
      "----------------------------\n",
      "Train_z, Test_z\n",
      "PCA: 0.9262\n",
      "SVD: 0.9227\n",
      "NetG_fixD, Acc at sample 20 0.2031\n",
      "0.2166 0.104 0.16093000000000002 0.0009455530999999999\n"
     ]
    }
   ],
   "source": [
    "# sample 20 times of NetG at final radius, NetD is fixed\n",
    "from sklearn.neighbors import KNeighborsClassifier \n",
    "Acc_results_G_sample8 = []\n",
    "\n",
    "for _ in range(sample_num):\n",
    "    #acc at first\n",
    "    net_noise = get_noise(DATASET, device, LABEL)\n",
    "    fed_state_dict = get_netG(netD,netV,net_noise,r_list[8])\n",
    "    netG.load_state_dict(fed_state_dict)\n",
    "    \n",
    "    train_X, train_Z, train_X_bar, train_Z_bar, train_labels = extract_features2(trainloader, netG, netD)\n",
    "\n",
    "    test_X, test_Z, test_X_bar, test_Z_bar, test_labels = extract_features2(testloader, netG, netD)\n",
    "\n",
    "    print(\"----------------------------\")\n",
    "    print(\"Train_z, Test_z\")\n",
    "    nearsub(n_comp, train_Z, train_labels, test_Z, test_labels)\n",
    "\n",
    "    knn= KNeighborsClassifier(n_neighbors=10) \n",
    "\n",
    "    knn.fit(train_Z,train_labels) \n",
    "    knn.score(test_Z_bar,test_labels) \n",
    "\n",
    "    y_predict = knn.predict(test_Z_bar) \n",
    "\n",
    "    count =0\n",
    "    for k in range(10000):\n",
    "        if y_predict[k] == test_labels[k]:\n",
    "            count +=1\n",
    "    print('NetG_fixD, Acc at sample',_+1,count/10000)\n",
    "    Acc_results_G_sample8.append(count/10000)\n",
    "    \n",
    "print(max(Acc_results_G_sample8),min(Acc_results_G_sample8),np.mean(Acc_results_G_sample8),np.var(Acc_results_G_sample8))"
   ]
  },
  {
   "cell_type": "code",
   "execution_count": 20,
   "id": "162a6f56",
   "metadata": {},
   "outputs": [
    {
     "name": "stderr",
     "output_type": "stream",
     "text": [
      "extracting all features from dataset: 100%|██████████████████████████████████████████████| 2/2 [00:04<00:00,  2.49s/it]\n",
      "extracting all features from dataset: 100%|██████████████████████████████████████████████| 1/1 [00:01<00:00,  1.73s/it]\n"
     ]
    },
    {
     "name": "stdout",
     "output_type": "stream",
     "text": [
      "----------------------------\n",
      "Train_z, Test_z\n",
      "PCA: 0.9229\n",
      "SVD: 0.9189\n",
      "NetG_fixD, Acc at sample 1 0.121\n"
     ]
    },
    {
     "name": "stderr",
     "output_type": "stream",
     "text": [
      "extracting all features from dataset: 100%|██████████████████████████████████████████████| 2/2 [00:05<00:00,  2.60s/it]\n",
      "extracting all features from dataset: 100%|██████████████████████████████████████████████| 1/1 [00:01<00:00,  1.69s/it]\n"
     ]
    },
    {
     "name": "stdout",
     "output_type": "stream",
     "text": [
      "----------------------------\n",
      "Train_z, Test_z\n",
      "PCA: 0.9265\n",
      "SVD: 0.9236\n",
      "NetG_fixD, Acc at sample 2 0.1049\n"
     ]
    },
    {
     "name": "stderr",
     "output_type": "stream",
     "text": [
      "extracting all features from dataset: 100%|██████████████████████████████████████████████| 2/2 [00:05<00:00,  2.59s/it]\n",
      "extracting all features from dataset: 100%|██████████████████████████████████████████████| 1/1 [00:01<00:00,  1.72s/it]\n"
     ]
    },
    {
     "name": "stdout",
     "output_type": "stream",
     "text": [
      "----------------------------\n",
      "Train_z, Test_z\n",
      "PCA: 0.9346\n",
      "SVD: 0.9304\n",
      "NetG_fixD, Acc at sample 3 0.1092\n"
     ]
    },
    {
     "name": "stderr",
     "output_type": "stream",
     "text": [
      "extracting all features from dataset: 100%|██████████████████████████████████████████████| 2/2 [00:04<00:00,  2.44s/it]\n",
      "extracting all features from dataset: 100%|██████████████████████████████████████████████| 1/1 [00:01<00:00,  1.69s/it]\n"
     ]
    },
    {
     "name": "stdout",
     "output_type": "stream",
     "text": [
      "----------------------------\n",
      "Train_z, Test_z\n",
      "PCA: 0.9283\n",
      "SVD: 0.9257\n",
      "NetG_fixD, Acc at sample 4 0.1185\n"
     ]
    },
    {
     "name": "stderr",
     "output_type": "stream",
     "text": [
      "extracting all features from dataset: 100%|██████████████████████████████████████████████| 2/2 [00:04<00:00,  2.47s/it]\n",
      "extracting all features from dataset: 100%|██████████████████████████████████████████████| 1/1 [00:01<00:00,  1.73s/it]\n"
     ]
    },
    {
     "name": "stdout",
     "output_type": "stream",
     "text": [
      "----------------------------\n",
      "Train_z, Test_z\n",
      "PCA: 0.9299999999999999\n",
      "SVD: 0.9249\n",
      "NetG_fixD, Acc at sample 5 0.1247\n"
     ]
    },
    {
     "name": "stderr",
     "output_type": "stream",
     "text": [
      "extracting all features from dataset: 100%|██████████████████████████████████████████████| 2/2 [00:05<00:00,  2.56s/it]\n",
      "extracting all features from dataset: 100%|██████████████████████████████████████████████| 1/1 [00:01<00:00,  1.71s/it]\n"
     ]
    },
    {
     "name": "stdout",
     "output_type": "stream",
     "text": [
      "----------------------------\n",
      "Train_z, Test_z\n",
      "PCA: 0.9273\n",
      "SVD: 0.9255\n",
      "NetG_fixD, Acc at sample 6 0.0968\n"
     ]
    },
    {
     "name": "stderr",
     "output_type": "stream",
     "text": [
      "extracting all features from dataset: 100%|██████████████████████████████████████████████| 2/2 [00:04<00:00,  2.46s/it]\n",
      "extracting all features from dataset: 100%|██████████████████████████████████████████████| 1/1 [00:01<00:00,  1.70s/it]\n"
     ]
    },
    {
     "name": "stdout",
     "output_type": "stream",
     "text": [
      "----------------------------\n",
      "Train_z, Test_z\n",
      "PCA: 0.933\n",
      "SVD: 0.9299999999999999\n",
      "NetG_fixD, Acc at sample 7 0.1238\n"
     ]
    },
    {
     "name": "stderr",
     "output_type": "stream",
     "text": [
      "extracting all features from dataset: 100%|██████████████████████████████████████████████| 2/2 [00:05<00:00,  2.51s/it]\n",
      "extracting all features from dataset: 100%|██████████████████████████████████████████████| 1/1 [00:01<00:00,  1.75s/it]\n"
     ]
    },
    {
     "name": "stdout",
     "output_type": "stream",
     "text": [
      "----------------------------\n",
      "Train_z, Test_z\n",
      "PCA: 0.9335\n",
      "SVD: 0.9304\n",
      "NetG_fixD, Acc at sample 8 0.0936\n"
     ]
    },
    {
     "name": "stderr",
     "output_type": "stream",
     "text": [
      "extracting all features from dataset: 100%|██████████████████████████████████████████████| 2/2 [00:04<00:00,  2.45s/it]\n",
      "extracting all features from dataset: 100%|██████████████████████████████████████████████| 1/1 [00:01<00:00,  1.71s/it]\n"
     ]
    },
    {
     "name": "stdout",
     "output_type": "stream",
     "text": [
      "----------------------------\n",
      "Train_z, Test_z\n",
      "PCA: 0.9313\n",
      "SVD: 0.9284\n",
      "NetG_fixD, Acc at sample 9 0.1287\n"
     ]
    },
    {
     "name": "stderr",
     "output_type": "stream",
     "text": [
      "extracting all features from dataset: 100%|██████████████████████████████████████████████| 2/2 [00:04<00:00,  2.42s/it]\n",
      "extracting all features from dataset: 100%|██████████████████████████████████████████████| 1/1 [00:01<00:00,  1.70s/it]\n"
     ]
    },
    {
     "name": "stdout",
     "output_type": "stream",
     "text": [
      "----------------------------\n",
      "Train_z, Test_z\n",
      "PCA: 0.9289000000000001\n",
      "SVD: 0.9265\n",
      "NetG_fixD, Acc at sample 10 0.1159\n"
     ]
    },
    {
     "name": "stderr",
     "output_type": "stream",
     "text": [
      "extracting all features from dataset: 100%|██████████████████████████████████████████████| 2/2 [00:05<00:00,  2.54s/it]\n",
      "extracting all features from dataset: 100%|██████████████████████████████████████████████| 1/1 [00:01<00:00,  1.74s/it]\n"
     ]
    },
    {
     "name": "stdout",
     "output_type": "stream",
     "text": [
      "----------------------------\n",
      "Train_z, Test_z\n",
      "PCA: 0.9249\n",
      "SVD: 0.9235\n",
      "NetG_fixD, Acc at sample 11 0.1187\n"
     ]
    },
    {
     "name": "stderr",
     "output_type": "stream",
     "text": [
      "extracting all features from dataset: 100%|██████████████████████████████████████████████| 2/2 [00:04<00:00,  2.46s/it]\n",
      "extracting all features from dataset: 100%|██████████████████████████████████████████████| 1/1 [00:01<00:00,  1.72s/it]\n"
     ]
    },
    {
     "name": "stdout",
     "output_type": "stream",
     "text": [
      "----------------------------\n",
      "Train_z, Test_z\n",
      "PCA: 0.9236\n",
      "SVD: 0.9198\n",
      "NetG_fixD, Acc at sample 12 0.0836\n"
     ]
    },
    {
     "name": "stderr",
     "output_type": "stream",
     "text": [
      "extracting all features from dataset: 100%|██████████████████████████████████████████████| 2/2 [00:04<00:00,  2.48s/it]\n",
      "extracting all features from dataset: 100%|██████████████████████████████████████████████| 1/1 [00:01<00:00,  1.67s/it]\n"
     ]
    },
    {
     "name": "stdout",
     "output_type": "stream",
     "text": [
      "----------------------------\n",
      "Train_z, Test_z\n",
      "PCA: 0.9329\n",
      "SVD: 0.9326\n",
      "NetG_fixD, Acc at sample 13 0.1175\n"
     ]
    },
    {
     "name": "stderr",
     "output_type": "stream",
     "text": [
      "extracting all features from dataset: 100%|██████████████████████████████████████████████| 2/2 [00:05<00:00,  2.57s/it]\n",
      "extracting all features from dataset: 100%|██████████████████████████████████████████████| 1/1 [00:01<00:00,  1.73s/it]\n"
     ]
    },
    {
     "name": "stdout",
     "output_type": "stream",
     "text": [
      "----------------------------\n",
      "Train_z, Test_z\n",
      "PCA: 0.9283\n",
      "SVD: 0.9257\n",
      "NetG_fixD, Acc at sample 14 0.0912\n"
     ]
    },
    {
     "name": "stderr",
     "output_type": "stream",
     "text": [
      "extracting all features from dataset: 100%|██████████████████████████████████████████████| 2/2 [00:05<00:00,  2.59s/it]\n",
      "extracting all features from dataset: 100%|██████████████████████████████████████████████| 1/1 [00:01<00:00,  1.72s/it]\n"
     ]
    },
    {
     "name": "stdout",
     "output_type": "stream",
     "text": [
      "----------------------------\n",
      "Train_z, Test_z\n",
      "PCA: 0.9245\n",
      "SVD: 0.9198\n",
      "NetG_fixD, Acc at sample 15 0.1183\n"
     ]
    },
    {
     "name": "stderr",
     "output_type": "stream",
     "text": [
      "extracting all features from dataset: 100%|██████████████████████████████████████████████| 2/2 [00:04<00:00,  2.45s/it]\n",
      "extracting all features from dataset: 100%|██████████████████████████████████████████████| 1/1 [00:01<00:00,  1.70s/it]\n"
     ]
    },
    {
     "name": "stdout",
     "output_type": "stream",
     "text": [
      "----------------------------\n",
      "Train_z, Test_z\n",
      "PCA: 0.926\n",
      "SVD: 0.9225\n",
      "NetG_fixD, Acc at sample 16 0.1361\n"
     ]
    },
    {
     "name": "stderr",
     "output_type": "stream",
     "text": [
      "extracting all features from dataset: 100%|██████████████████████████████████████████████| 2/2 [00:04<00:00,  2.49s/it]\n",
      "extracting all features from dataset: 100%|██████████████████████████████████████████████| 1/1 [00:01<00:00,  1.71s/it]\n"
     ]
    },
    {
     "name": "stdout",
     "output_type": "stream",
     "text": [
      "----------------------------\n",
      "Train_z, Test_z\n",
      "PCA: 0.9312\n",
      "SVD: 0.9279\n",
      "NetG_fixD, Acc at sample 17 0.1426\n"
     ]
    },
    {
     "name": "stderr",
     "output_type": "stream",
     "text": [
      "extracting all features from dataset: 100%|██████████████████████████████████████████████| 2/2 [00:05<00:00,  2.55s/it]\n",
      "extracting all features from dataset: 100%|██████████████████████████████████████████████| 1/1 [00:01<00:00,  1.70s/it]\n"
     ]
    },
    {
     "name": "stdout",
     "output_type": "stream",
     "text": [
      "----------------------------\n",
      "Train_z, Test_z\n",
      "PCA: 0.9278\n",
      "SVD: 0.9266\n",
      "NetG_fixD, Acc at sample 18 0.1273\n"
     ]
    },
    {
     "name": "stderr",
     "output_type": "stream",
     "text": [
      "extracting all features from dataset: 100%|██████████████████████████████████████████████| 2/2 [00:05<00:00,  2.57s/it]\n",
      "extracting all features from dataset: 100%|██████████████████████████████████████████████| 1/1 [00:01<00:00,  1.72s/it]\n"
     ]
    },
    {
     "name": "stdout",
     "output_type": "stream",
     "text": [
      "----------------------------\n",
      "Train_z, Test_z\n",
      "PCA: 0.9298\n",
      "SVD: 0.926\n",
      "NetG_fixD, Acc at sample 19 0.071\n"
     ]
    },
    {
     "name": "stderr",
     "output_type": "stream",
     "text": [
      "extracting all features from dataset: 100%|██████████████████████████████████████████████| 2/2 [00:05<00:00,  2.56s/it]\n",
      "extracting all features from dataset: 100%|██████████████████████████████████████████████| 1/1 [00:01<00:00,  1.71s/it]\n"
     ]
    },
    {
     "name": "stdout",
     "output_type": "stream",
     "text": [
      "----------------------------\n",
      "Train_z, Test_z\n",
      "PCA: 0.9286\n",
      "SVD: 0.9253\n",
      "NetG_fixD, Acc at sample 20 0.1161\n",
      "0.1426 0.071 0.11297500000000002 0.00030649087500000006\n"
     ]
    }
   ],
   "source": [
    "# sample 20 times of NetG at final radius, NetD is fixed\n",
    "from sklearn.neighbors import KNeighborsClassifier \n",
    "Acc_results_G_sample9 = []\n",
    "\n",
    "for _ in range(sample_num):\n",
    "    #acc at first\n",
    "    net_noise = get_noise(DATASET, device, LABEL)\n",
    "    fed_state_dict = get_netG(netD,netV,net_noise,r_list[9])\n",
    "    netG.load_state_dict(fed_state_dict)\n",
    "    \n",
    "    train_X, train_Z, train_X_bar, train_Z_bar, train_labels = extract_features2(trainloader, netG, netD)\n",
    "\n",
    "    test_X, test_Z, test_X_bar, test_Z_bar, test_labels = extract_features2(testloader, netG, netD)\n",
    "\n",
    "    print(\"----------------------------\")\n",
    "    print(\"Train_z, Test_z\")\n",
    "    nearsub(n_comp, train_Z, train_labels, test_Z, test_labels)\n",
    "\n",
    "    knn= KNeighborsClassifier(n_neighbors=10) \n",
    "\n",
    "    knn.fit(train_Z,train_labels) \n",
    "    knn.score(test_Z_bar,test_labels) \n",
    "\n",
    "    y_predict = knn.predict(test_Z_bar) \n",
    "\n",
    "    count =0\n",
    "    for k in range(10000):\n",
    "        if y_predict[k] == test_labels[k]:\n",
    "            count +=1\n",
    "    print('NetG_fixD, Acc at sample',_+1,count/10000)\n",
    "    Acc_results_G_sample9.append(count/10000)\n",
    "    \n",
    "print(max(Acc_results_G_sample9),min(Acc_results_G_sample9),np.mean(Acc_results_G_sample9),np.var(Acc_results_G_sample9))"
   ]
  },
  {
   "cell_type": "code",
   "execution_count": 21,
   "id": "4a83c92f",
   "metadata": {},
   "outputs": [
    {
     "name": "stderr",
     "output_type": "stream",
     "text": [
      "extracting all features from dataset: 100%|██████████████████████████████████████████████| 2/2 [00:04<00:00,  2.47s/it]\n",
      "extracting all features from dataset: 100%|██████████████████████████████████████████████| 1/1 [00:01<00:00,  1.73s/it]\n"
     ]
    },
    {
     "name": "stdout",
     "output_type": "stream",
     "text": [
      "----------------------------\n",
      "Train_z, Test_z\n",
      "PCA: 0.9281\n",
      "SVD: 0.9251\n",
      "NetG_fixD, Acc at sample 1 0.1029\n"
     ]
    },
    {
     "name": "stderr",
     "output_type": "stream",
     "text": [
      "extracting all features from dataset: 100%|██████████████████████████████████████████████| 2/2 [00:05<00:00,  2.53s/it]\n",
      "extracting all features from dataset: 100%|██████████████████████████████████████████████| 1/1 [00:01<00:00,  1.70s/it]\n"
     ]
    },
    {
     "name": "stdout",
     "output_type": "stream",
     "text": [
      "----------------------------\n",
      "Train_z, Test_z\n",
      "PCA: 0.9369\n",
      "SVD: 0.9332\n",
      "NetG_fixD, Acc at sample 2 0.0957\n"
     ]
    },
    {
     "name": "stderr",
     "output_type": "stream",
     "text": [
      "extracting all features from dataset: 100%|██████████████████████████████████████████████| 2/2 [00:05<00:00,  2.66s/it]\n",
      "extracting all features from dataset: 100%|██████████████████████████████████████████████| 1/1 [00:01<00:00,  1.85s/it]\n"
     ]
    },
    {
     "name": "stdout",
     "output_type": "stream",
     "text": [
      "----------------------------\n",
      "Train_z, Test_z\n",
      "PCA: 0.9327\n",
      "SVD: 0.9275\n",
      "NetG_fixD, Acc at sample 3 0.0745\n"
     ]
    },
    {
     "name": "stderr",
     "output_type": "stream",
     "text": [
      "extracting all features from dataset: 100%|██████████████████████████████████████████████| 2/2 [00:04<00:00,  2.48s/it]\n",
      "extracting all features from dataset: 100%|██████████████████████████████████████████████| 1/1 [00:01<00:00,  1.72s/it]\n"
     ]
    },
    {
     "name": "stdout",
     "output_type": "stream",
     "text": [
      "----------------------------\n",
      "Train_z, Test_z\n",
      "PCA: 0.9249\n",
      "SVD: 0.9189\n",
      "NetG_fixD, Acc at sample 4 0.1037\n"
     ]
    },
    {
     "name": "stderr",
     "output_type": "stream",
     "text": [
      "extracting all features from dataset: 100%|██████████████████████████████████████████████| 2/2 [00:05<00:00,  2.55s/it]\n",
      "extracting all features from dataset: 100%|██████████████████████████████████████████████| 1/1 [00:01<00:00,  1.73s/it]\n"
     ]
    },
    {
     "name": "stdout",
     "output_type": "stream",
     "text": [
      "----------------------------\n",
      "Train_z, Test_z\n",
      "PCA: 0.9212\n",
      "SVD: 0.9176\n",
      "NetG_fixD, Acc at sample 5 0.1294\n"
     ]
    },
    {
     "name": "stderr",
     "output_type": "stream",
     "text": [
      "extracting all features from dataset: 100%|██████████████████████████████████████████████| 2/2 [00:05<00:00,  2.67s/it]\n",
      "extracting all features from dataset: 100%|██████████████████████████████████████████████| 1/1 [00:01<00:00,  1.82s/it]\n"
     ]
    },
    {
     "name": "stdout",
     "output_type": "stream",
     "text": [
      "----------------------------\n",
      "Train_z, Test_z\n",
      "PCA: 0.9292\n",
      "SVD: 0.9264\n",
      "NetG_fixD, Acc at sample 6 0.1008\n"
     ]
    },
    {
     "name": "stderr",
     "output_type": "stream",
     "text": [
      "extracting all features from dataset: 100%|██████████████████████████████████████████████| 2/2 [00:05<00:00,  2.79s/it]\n",
      "extracting all features from dataset: 100%|██████████████████████████████████████████████| 1/1 [00:01<00:00,  1.74s/it]\n"
     ]
    },
    {
     "name": "stdout",
     "output_type": "stream",
     "text": [
      "----------------------------\n",
      "Train_z, Test_z\n",
      "PCA: 0.9281\n",
      "SVD: 0.9232\n",
      "NetG_fixD, Acc at sample 7 0.1123\n"
     ]
    },
    {
     "name": "stderr",
     "output_type": "stream",
     "text": [
      "extracting all features from dataset: 100%|██████████████████████████████████████████████| 2/2 [00:05<00:00,  2.70s/it]\n",
      "extracting all features from dataset: 100%|██████████████████████████████████████████████| 1/1 [00:01<00:00,  1.78s/it]\n"
     ]
    },
    {
     "name": "stdout",
     "output_type": "stream",
     "text": [
      "----------------------------\n",
      "Train_z, Test_z\n",
      "PCA: 0.9332\n",
      "SVD: 0.9306\n",
      "NetG_fixD, Acc at sample 8 0.102\n"
     ]
    },
    {
     "name": "stderr",
     "output_type": "stream",
     "text": [
      "extracting all features from dataset: 100%|██████████████████████████████████████████████| 2/2 [00:05<00:00,  2.54s/it]\n",
      "extracting all features from dataset: 100%|██████████████████████████████████████████████| 1/1 [00:01<00:00,  1.86s/it]\n"
     ]
    },
    {
     "name": "stdout",
     "output_type": "stream",
     "text": [
      "----------------------------\n",
      "Train_z, Test_z\n",
      "PCA: 0.933\n",
      "SVD: 0.9286\n",
      "NetG_fixD, Acc at sample 9 0.1239\n"
     ]
    },
    {
     "name": "stderr",
     "output_type": "stream",
     "text": [
      "extracting all features from dataset: 100%|██████████████████████████████████████████████| 2/2 [00:05<00:00,  2.52s/it]\n",
      "extracting all features from dataset: 100%|██████████████████████████████████████████████| 1/1 [00:01<00:00,  1.77s/it]\n"
     ]
    },
    {
     "name": "stdout",
     "output_type": "stream",
     "text": [
      "----------------------------\n",
      "Train_z, Test_z\n",
      "PCA: 0.9253\n",
      "SVD: 0.9203\n",
      "NetG_fixD, Acc at sample 10 0.1308\n"
     ]
    },
    {
     "name": "stderr",
     "output_type": "stream",
     "text": [
      "extracting all features from dataset: 100%|██████████████████████████████████████████████| 2/2 [00:05<00:00,  2.57s/it]\n",
      "extracting all features from dataset: 100%|██████████████████████████████████████████████| 1/1 [00:01<00:00,  1.74s/it]\n"
     ]
    },
    {
     "name": "stdout",
     "output_type": "stream",
     "text": [
      "----------------------------\n",
      "Train_z, Test_z\n",
      "PCA: 0.9306\n",
      "SVD: 0.925\n",
      "NetG_fixD, Acc at sample 11 0.116\n"
     ]
    },
    {
     "name": "stderr",
     "output_type": "stream",
     "text": [
      "extracting all features from dataset: 100%|██████████████████████████████████████████████| 2/2 [00:05<00:00,  2.63s/it]\n",
      "extracting all features from dataset: 100%|██████████████████████████████████████████████| 1/1 [00:01<00:00,  1.78s/it]\n"
     ]
    },
    {
     "name": "stdout",
     "output_type": "stream",
     "text": [
      "----------------------------\n",
      "Train_z, Test_z\n",
      "PCA: 0.929\n",
      "SVD: 0.928\n",
      "NetG_fixD, Acc at sample 12 0.0855\n"
     ]
    },
    {
     "name": "stderr",
     "output_type": "stream",
     "text": [
      "extracting all features from dataset: 100%|██████████████████████████████████████████████| 2/2 [00:05<00:00,  2.53s/it]\n",
      "extracting all features from dataset: 100%|██████████████████████████████████████████████| 1/1 [00:01<00:00,  1.76s/it]\n"
     ]
    },
    {
     "name": "stdout",
     "output_type": "stream",
     "text": [
      "----------------------------\n",
      "Train_z, Test_z\n",
      "PCA: 0.9224\n",
      "SVD: 0.9168000000000001\n",
      "NetG_fixD, Acc at sample 13 0.1045\n"
     ]
    },
    {
     "name": "stderr",
     "output_type": "stream",
     "text": [
      "extracting all features from dataset: 100%|██████████████████████████████████████████████| 2/2 [00:05<00:00,  2.65s/it]\n",
      "extracting all features from dataset: 100%|██████████████████████████████████████████████| 1/1 [00:01<00:00,  1.84s/it]\n"
     ]
    },
    {
     "name": "stdout",
     "output_type": "stream",
     "text": [
      "----------------------------\n",
      "Train_z, Test_z\n",
      "PCA: 0.9373\n",
      "SVD: 0.9337\n",
      "NetG_fixD, Acc at sample 14 0.0989\n"
     ]
    },
    {
     "name": "stderr",
     "output_type": "stream",
     "text": [
      "extracting all features from dataset: 100%|██████████████████████████████████████████████| 2/2 [00:05<00:00,  2.57s/it]\n",
      "extracting all features from dataset: 100%|██████████████████████████████████████████████| 1/1 [00:01<00:00,  1.85s/it]\n"
     ]
    },
    {
     "name": "stdout",
     "output_type": "stream",
     "text": [
      "----------------------------\n",
      "Train_z, Test_z\n",
      "PCA: 0.926\n",
      "SVD: 0.9248\n",
      "NetG_fixD, Acc at sample 15 0.1206\n"
     ]
    },
    {
     "name": "stderr",
     "output_type": "stream",
     "text": [
      "extracting all features from dataset: 100%|██████████████████████████████████████████████| 2/2 [00:05<00:00,  2.67s/it]\n",
      "extracting all features from dataset: 100%|██████████████████████████████████████████████| 1/1 [00:01<00:00,  1.80s/it]\n"
     ]
    },
    {
     "name": "stdout",
     "output_type": "stream",
     "text": [
      "----------------------------\n",
      "Train_z, Test_z\n",
      "PCA: 0.9287\n",
      "SVD: 0.9283\n",
      "NetG_fixD, Acc at sample 16 0.0907\n"
     ]
    },
    {
     "name": "stderr",
     "output_type": "stream",
     "text": [
      "extracting all features from dataset: 100%|██████████████████████████████████████████████| 2/2 [00:05<00:00,  2.58s/it]\n",
      "extracting all features from dataset: 100%|██████████████████████████████████████████████| 1/1 [00:01<00:00,  1.76s/it]\n"
     ]
    },
    {
     "name": "stdout",
     "output_type": "stream",
     "text": [
      "----------------------------\n",
      "Train_z, Test_z\n",
      "PCA: 0.9353\n",
      "SVD: 0.9319999999999999\n",
      "NetG_fixD, Acc at sample 17 0.1168\n"
     ]
    },
    {
     "name": "stderr",
     "output_type": "stream",
     "text": [
      "extracting all features from dataset: 100%|██████████████████████████████████████████████| 2/2 [00:05<00:00,  2.56s/it]\n",
      "extracting all features from dataset: 100%|██████████████████████████████████████████████| 1/1 [00:01<00:00,  1.71s/it]\n"
     ]
    },
    {
     "name": "stdout",
     "output_type": "stream",
     "text": [
      "----------------------------\n",
      "Train_z, Test_z\n",
      "PCA: 0.9228\n",
      "SVD: 0.9178\n",
      "NetG_fixD, Acc at sample 18 0.0835\n"
     ]
    },
    {
     "name": "stderr",
     "output_type": "stream",
     "text": [
      "extracting all features from dataset: 100%|██████████████████████████████████████████████| 2/2 [00:05<00:00,  2.55s/it]\n",
      "extracting all features from dataset: 100%|██████████████████████████████████████████████| 1/1 [00:01<00:00,  1.73s/it]\n"
     ]
    },
    {
     "name": "stdout",
     "output_type": "stream",
     "text": [
      "----------------------------\n",
      "Train_z, Test_z\n",
      "PCA: 0.9362\n",
      "SVD: 0.9318\n",
      "NetG_fixD, Acc at sample 19 0.0955\n"
     ]
    },
    {
     "name": "stderr",
     "output_type": "stream",
     "text": [
      "extracting all features from dataset: 100%|██████████████████████████████████████████████| 2/2 [00:05<00:00,  2.52s/it]\n",
      "extracting all features from dataset: 100%|██████████████████████████████████████████████| 1/1 [00:01<00:00,  1.77s/it]\n"
     ]
    },
    {
     "name": "stdout",
     "output_type": "stream",
     "text": [
      "----------------------------\n",
      "Train_z, Test_z\n",
      "PCA: 0.931\n",
      "SVD: 0.9287\n",
      "NetG_fixD, Acc at sample 20 0.1036\n",
      "0.1308 0.0745 0.10457999999999998 0.0002198855999999999\n"
     ]
    }
   ],
   "source": [
    "# sample 20 times of NetG at final radius, NetD is fixed\n",
    "from sklearn.neighbors import KNeighborsClassifier \n",
    "Acc_results_G_sample10 = []\n",
    "\n",
    "for _ in range(sample_num):\n",
    "    #acc at first\n",
    "    net_noise = get_noise(DATASET, device, LABEL)\n",
    "    fed_state_dict = get_netG(netD,netV,net_noise,r_list[10])\n",
    "    netG.load_state_dict(fed_state_dict)\n",
    "    \n",
    "    train_X, train_Z, train_X_bar, train_Z_bar, train_labels = extract_features2(trainloader, netG, netD)\n",
    "\n",
    "    test_X, test_Z, test_X_bar, test_Z_bar, test_labels = extract_features2(testloader, netG, netD)\n",
    "\n",
    "    print(\"----------------------------\")\n",
    "    print(\"Train_z, Test_z\")\n",
    "    nearsub(n_comp, train_Z, train_labels, test_Z, test_labels)\n",
    "\n",
    "    knn= KNeighborsClassifier(n_neighbors=10) \n",
    "\n",
    "    knn.fit(train_Z,train_labels) \n",
    "    knn.score(test_Z_bar,test_labels) \n",
    "\n",
    "    y_predict = knn.predict(test_Z_bar) \n",
    "\n",
    "    count =0\n",
    "    for k in range(10000):\n",
    "        if y_predict[k] == test_labels[k]:\n",
    "            count +=1\n",
    "    print('NetG_fixD, Acc at sample',_+1,count/10000)\n",
    "    Acc_results_G_sample10.append(count/10000)\n",
    "    \n",
    "print(max(Acc_results_G_sample10),min(Acc_results_G_sample10),np.mean(Acc_results_G_sample10),np.var(Acc_results_G_sample10))"
   ]
  },
  {
   "cell_type": "code",
   "execution_count": null,
   "id": "754fc0d5",
   "metadata": {},
   "outputs": [],
   "source": []
  }
 ],
 "metadata": {
  "kernelspec": {
   "display_name": "Python 3 (ipykernel)",
   "language": "python",
   "name": "python3"
  },
  "language_info": {
   "codemirror_mode": {
    "name": "ipython",
    "version": 3
   },
   "file_extension": ".py",
   "mimetype": "text/x-python",
   "name": "python",
   "nbconvert_exporter": "python",
   "pygments_lexer": "ipython3",
   "version": "3.7.16"
  }
 },
 "nbformat": 4,
 "nbformat_minor": 5
}
