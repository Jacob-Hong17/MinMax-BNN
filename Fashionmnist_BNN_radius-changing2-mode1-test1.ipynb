{
 "cells": [
  {
   "cell_type": "code",
   "execution_count": 1,
   "id": "95b64f9b",
   "metadata": {},
   "outputs": [],
   "source": [
    "# all codes come are changed based on LDR code.\n",
    "# 用添加噪声的数据进行训练\n",
    "import argparse\n",
    "import torch.optim as optim\n",
    "import os\n",
    "import yaml\n",
    "from mcrgan.default import _C as config\n",
    "from mcrgan.default import update_config\n",
    "import torch\n",
    "from mcrgan.trainer import MCRTrainer\n",
    "from mcrgan.datasets import get_dataloader\n",
    "from mcrgan.models import get_models\n",
    "from mcrgan.models import get_BNN_models\n",
    "from mcrgan.models import get_noise\n",
    "from mcrgan.models import get_noise_uniform\n",
    "from mcrgan.models import DiscriminatorMNIST\n",
    "from mcrgan.models import weights_init_mnist_model_noise\n",
    "\n",
    "import numpy as np\n",
    "import torch\n",
    "import argparse\n",
    "from mcrgan.datasets import get_dataloader\n",
    "from mcrgan.models import get_models\n",
    "from mcrgan.default import _C as config\n",
    "from mcrgan.default import update_config\n",
    "from utils.utils import sort_dataset, compute_accuracy, extract_features\n",
    "from sklearn.decomposition import PCA\n",
    "from sklearn.decomposition import TruncatedSVD\n",
    "import torchvision.transforms as transforms\n",
    "import torchvision.datasets as datasets\n",
    "from tqdm import tqdm\n",
    "import os\n",
    "from mcrgan.loss import MCRGANloss\n",
    "import random\n",
    "import time\n",
    "random.seed(0)"
   ]
  },
  {
   "cell_type": "code",
   "execution_count": 2,
   "id": "806b2e2c",
   "metadata": {},
   "outputs": [],
   "source": [
    "# 导入Fmnist数据集，进行对比\n",
    "device = torch.device('cuda' if torch.cuda.is_available() else \"cpu\")\n",
    "DATASET = 'FMNIST'\n",
    "ROOT    = 'pth/to/the/dataset'\n",
    "BATCH_SIZE = 2048\n",
    "WORKERS = 8\n",
    "DATA_SAMPLE = 50000\n",
    "LABEL = 0\n",
    "\n",
    "dataloader, dataset = get_dataloader(\n",
    "        data_name=DATASET,\n",
    "        root=ROOT,\n",
    "        batch_size=BATCH_SIZE,\n",
    "        num_workers=WORKERS)"
   ]
  },
  {
   "cell_type": "code",
   "execution_count": 3,
   "id": "08feb6b9",
   "metadata": {},
   "outputs": [],
   "source": [
    "import collections\n",
    "\n",
    "def get_netG(netD,netV,net_noise,radius=1):\n",
    "    models = [netD, netV,net_noise]\n",
    "    worker_state_dict = [x.state_dict() for x in models]\n",
    "    weight_keys = list(worker_state_dict[0].keys())\n",
    "    fed_state_dict = collections.OrderedDict()\n",
    "    for key in weight_keys:\n",
    "        fed_state_dict[key] = worker_state_dict[0][key] + radius*worker_state_dict[2][key]*torch.log(1+torch.exp(worker_state_dict[1][key]))\n",
    "    return fed_state_dict\n",
    "\n",
    "# new netG already optimized by adam and time learning rate, so we only using netG to update netV\n",
    "def update_netV(netV,netG,net_noise,fed_state_dict,radius=1):\n",
    "    models =[netV,netG,net_noise]\n",
    "    worker_state_dict = [x.state_dict() for x in models]\n",
    "    weight_keys = list(worker_state_dict[0].keys())\n",
    "    update_dict = collections.OrderedDict()\n",
    "    for key in weight_keys:\n",
    "        update_dict[key] = worker_state_dict[0][key] - (worker_state_dict[1][key]-fed_state_dict[key])*(worker_state_dict[2][key]*radius)/torch.log(1+torch.exp(-worker_state_dict[0][key]))\n",
    "    return update_dict\n",
    "\n",
    "# generate different distribution via gaussian init and uniform\n",
    "def get_cauchy_noise(netD,net_noise1,net_noise2):\n",
    "    models =[netD,net_noise1, net_noise2]\n",
    "    worker_state_dict = [x.state_dict() for x in models]\n",
    "    weight_keys = list(worker_state_dict[0].keys())\n",
    "    update_dict = collections.OrderedDict()\n",
    "    for key in weight_keys:\n",
    "        update_dict[key] = worker_state_dict[1][key] / worker_state_dict[2][key]\n",
    "    return update_dict\n",
    "        "
   ]
  },
  {
   "cell_type": "code",
   "execution_count": 4,
   "id": "bd8022df",
   "metadata": {},
   "outputs": [],
   "source": [
    "#models\n",
    "# train hyperparameters, batch norm not used var\n",
    "#store_Var = []\n",
    "import time\n",
    "from torch_mimicry.training import scheduler, logger, metric_log\n",
    "\n",
    "from test_acc import nearsub\n",
    "import numpy as np\n",
    "import torch\n",
    "import argparse\n",
    "from mcrgan.datasets import get_dataloader\n",
    "from mcrgan.models import get_models\n",
    "from mcrgan.default import _C as config\n",
    "from mcrgan.default import update_config\n",
    "from utils.utils import sort_dataset, compute_accuracy, extract_features2\n",
    "from sklearn.decomposition import PCA\n",
    "from sklearn.decomposition import TruncatedSVD\n",
    "import torchvision.transforms as transforms\n",
    "import torchvision.datasets as datasets\n",
    "from tqdm import tqdm\n",
    "import os\n",
    "\n",
    "start_time = time.time()\n",
    "#global_step = 0\n",
    "epsilon_noise = 0.1\n",
    "num_steps = 1000\n",
    "n_dis = 1\n",
    "n_dis2 = 1\n",
    "numclasses =10\n",
    "lr1 = 1e-3\n",
    "lr2 = 1e-3\n",
    "log_data = metric_log.MetricLog()\n",
    "data_time = time.time()\n",
    "iter_dataloader = iter(dataloader)\n",
    "data, label = next(iter_dataloader)\n",
    "data_time = time.time() - data_time\n",
    "real_cpu = data.to(device)\n",
    "real_label = label.clone().detach()\n",
    "\n",
    "netD, netG, netV = get_BNN_models(DATASET, device, LABEL)\n",
    "net_noise = get_noise(DATASET, device, LABEL)\n",
    "fed_state_dict = get_netG(netD,netV,net_noise)\n",
    "netG.load_state_dict(fed_state_dict)\n",
    "optD = optim.Adam(netD.parameters(), lr1, betas=(0.5, 0.999))\n",
    "optG = optim.Adam(netG.parameters(), lr2, betas=(0.5, 0.999))\n",
    "\n",
    "Acc_results_D = []\n",
    "Acc_results_G = []\n",
    "\n",
    "\n",
    "transform = transforms.Compose(\n",
    "            [transforms.Resize(32),\n",
    "             transforms.ToTensor(),\n",
    "             transforms.Normalize(0.5, 0.5)])\n",
    "\n",
    "trainset = datasets.FashionMNIST(root=ROOT, train=True, download=True, transform=transform)\n",
    "testset = datasets.FashionMNIST(root=ROOT, train=False, download=True, transform=transform)\n",
    "\n",
    "testloader = torch.utils.data.DataLoader(\n",
    "        testset, batch_size=DATA_SAMPLE, shuffle=False, num_workers=WORKERS)\n",
    "\n",
    "trainloader = torch.utils.data.DataLoader(\n",
    "        trainset, batch_size=DATA_SAMPLE, shuffle=False, num_workers=WORKERS)\n",
    "device = torch.device('cuda' if torch.cuda.is_available() else \"cpu\")\n",
    "n_comp = 10\n"
   ]
  },
  {
   "cell_type": "code",
   "execution_count": 5,
   "id": "dd6bcdad",
   "metadata": {},
   "outputs": [],
   "source": [
    "# golden search algorithm to determined the radius of the sample ball, due to traditional updating netV is too slow\n",
    "# no meaning for n_dis =2 for our case, just to have output for every update\n",
    "# sample too much would arise cuda memory error\n",
    "def gs_radius(radius1,radius2,netD,real_cpu,real_label,tor=1e-3,n_dis=2,lam=0.618,mode=1,gam3=1):\n",
    "    mcr_gan_loss=MCRGANloss(gam1=1., gam2=1., gam3=gam3, eps=0.5, numclasses=numclasses, mode=mode, rho=None)\n",
    "    #optG = optim.Adam(netG.parameters(), lr2, betas=(0.5, 0.999))\n",
    "    \n",
    "    Z = netD(real_cpu)\n",
    "    net_noise = get_noise(DATASET, device, LABEL)\n",
    "    err1 = 0\n",
    "    err2 = 1000\n",
    "    while abs(err1 - err2)> tor or abs(radius1-radius2)>tor:\n",
    "        a1 = radius2 - lam*(radius2-radius1)\n",
    "        a2 = radius1 + lam*(radius2-radius1)\n",
    "        fed_state_dict = get_netG(netD,netV,net_noise,a1)\n",
    "        netG.load_state_dict(fed_state_dict)\n",
    "        Z_bar = netG(real_cpu)\n",
    "        errG1, errG_EC1 = mcr_gan_loss(Z, Z_bar, real_label, n_dis2 - 1, n_dis2)\n",
    "        err1 = errG1\n",
    "        \n",
    "        fed_state_dict = get_netG(netD,netV,net_noise,a2)\n",
    "        netG.load_state_dict(fed_state_dict)\n",
    "        Z_bar = netG(real_cpu)\n",
    "        errG2, errG_EC2 = mcr_gan_loss(Z, Z_bar, real_label, n_dis2 - 1, n_dis2)\n",
    "        err2 = errG2\n",
    "        \n",
    "        if err1 > err2:\n",
    "            radius1 = a1\n",
    "            a1 = a2\n",
    "            err1 = err2\n",
    "            a2 = radius1 + lam*(radius2-radius1)\n",
    "            fed_state_dict = get_netG(netD,netV,net_noise,a2)\n",
    "            netG.load_state_dict(fed_state_dict)\n",
    "            Z_bar = netG(real_cpu)\n",
    "            errG2, errG_EC2 = mcr_gan_loss(Z, Z_bar, real_label, n_dis2 - 1, n_dis2)\n",
    "            err2 = errG2\n",
    "            #print('r1',radius1)\n",
    "            #print(errG2, errG_EC2)\n",
    "        else:\n",
    "            radius2 = a2\n",
    "            a2 = a1\n",
    "            a1 = radius2 - lam*(radius2-radius1)\n",
    "            fed_state_dict = get_netG(netD,netV,net_noise,a1)\n",
    "            netG.load_state_dict(fed_state_dict)\n",
    "            Z_bar = netG(real_cpu)\n",
    "            errG1, errG_EC1 = mcr_gan_loss(Z, Z_bar, real_label, n_dis2 - 1, n_dis2)\n",
    "            err1 = errG1\n",
    "            #print('r2',radius2)\n",
    "            #print(errG1, errG_EC1)\n",
    "         \n",
    "    return radius1,radius2\n",
    "\n",
    "\n",
    "def gs_radius2(radius1,radius2, netD,real_cpu,real_label,tor=1e-3,n_dis=2,lam=0.618,mode=1,gam3=1):\n",
    "    mcr_gan_loss=MCRGANloss(gam1=1., gam2=1., gam3=gam3, eps=0.5, numclasses=numclasses, mode=mode, rho=None)\n",
    "    #optG = optim.Adam(netG.parameters(), lr2, betas=(0.5, 0.999))\n",
    "    \n",
    "    Z = netD(real_cpu)\n",
    "    net_noise = get_noise(DATASET, device, LABEL)\n",
    "    net_noise1 = get_noise(DATASET, device, LABEL)\n",
    "    net_noise_cauchy = get_cauchy_noise(netD,net_noise,net_noise1)\n",
    "    net_noise.load_state_dict(net_noise_cauchy)\n",
    "    #net_noise = get_noise(DATASET, device, LABEL)\n",
    "    err1 = 0\n",
    "    err2 = 1000\n",
    "    while abs(err1 - err2)> tor or abs(radius1-radius2)>tor:\n",
    "        a1 = radius2 - lam*(radius2-radius1)\n",
    "        a2 = radius1 + lam*(radius2-radius1)\n",
    "        fed_state_dict = get_netG(netD,netV,net_noise,a1)\n",
    "        netG.load_state_dict(fed_state_dict)\n",
    "        Z_bar = netG(real_cpu)\n",
    "        errG1, errG_EC1 = mcr_gan_loss(Z, Z_bar, real_label, n_dis2 - 1, n_dis2)\n",
    "        err1 = errG1\n",
    "        \n",
    "        fed_state_dict = get_netG(netD,netV,net_noise,a2)\n",
    "        netG.load_state_dict(fed_state_dict)\n",
    "        Z_bar = netG(real_cpu)\n",
    "        errG2, errG_EC2 = mcr_gan_loss(Z, Z_bar, real_label, n_dis2 - 1, n_dis2)\n",
    "        err2 = errG2\n",
    "        \n",
    "        if err1 > err2:\n",
    "            radius1 = a1\n",
    "            a1 = a2\n",
    "            err1 = err2\n",
    "            a2 = radius1 + lam*(radius2-radius1)\n",
    "            fed_state_dict = get_netG(netD,netV,net_noise,a2)\n",
    "            netG.load_state_dict(fed_state_dict)\n",
    "            Z_bar = netG(real_cpu)\n",
    "            errG2, errG_EC2 = mcr_gan_loss(Z, Z_bar, real_label, n_dis2 - 1, n_dis2)\n",
    "            err2 = errG2\n",
    "            #print('r1',radius1)\n",
    "            #print(errG2, errG_EC2)\n",
    "        else:\n",
    "            radius2 = a2\n",
    "            a2 = a1\n",
    "            a1 = radius2 - lam*(radius2-radius1)\n",
    "            fed_state_dict = get_netG(netD,netV,net_noise,a1)\n",
    "            netG.load_state_dict(fed_state_dict)\n",
    "            Z_bar = netG(real_cpu)\n",
    "            errG1, errG_EC1 = mcr_gan_loss(Z, Z_bar, real_label, n_dis2 - 1, n_dis2)\n",
    "            err1 = errG1\n",
    "            #print('r2',radius2)\n",
    "            #print(errG1, errG_EC1)\n",
    "         \n",
    "    return radius1,radius2\n",
    "\n",
    "def gs_radius3(radius1,radius2, netD,real_cpu,real_label,tor=1e-3,n_dis=2,lam=0.618,mode=1,gam3=1):\n",
    "    mcr_gan_loss=MCRGANloss(gam1=1., gam2=1., gam3=gam3, eps=0.5, numclasses=numclasses, mode=mode, rho=None)\n",
    "    #optG = optim.Adam(netG.parameters(), lr2, betas=(0.5, 0.999))\n",
    "    \n",
    "    Z = netD(real_cpu)\n",
    "    net_noise = get_noise_uniform(DATASET, device, LABEL)\n",
    "\n",
    "    #net_noise = get_noise(DATASET, device, LABEL)\n",
    "    err1 = 0\n",
    "    err2 = 1000\n",
    "    while abs(err1 - err2)> tor or abs(radius1-radius2)>tor:\n",
    "        a1 = radius2 - lam*(radius2-radius1)\n",
    "        a2 = radius1 + lam*(radius2-radius1)\n",
    "        fed_state_dict = get_netG(netD,netV,net_noise,a1)\n",
    "        netG.load_state_dict(fed_state_dict)\n",
    "        Z_bar = netG(real_cpu)\n",
    "        errG1, errG_EC1 = mcr_gan_loss(Z, Z_bar, real_label, n_dis2 - 1, n_dis2)\n",
    "        err1 = errG1\n",
    "        \n",
    "        fed_state_dict = get_netG(netD,netV,net_noise,a2)\n",
    "        netG.load_state_dict(fed_state_dict)\n",
    "        Z_bar = netG(real_cpu)\n",
    "        errG2, errG_EC2 = mcr_gan_loss(Z, Z_bar, real_label, n_dis2 - 1, n_dis2)\n",
    "        err2 = errG2\n",
    "        \n",
    "        if err1 > err2:\n",
    "            radius1 = a1\n",
    "            a1 = a2\n",
    "            err1 = err2\n",
    "            a2 = radius1 + lam*(radius2-radius1)\n",
    "            fed_state_dict = get_netG(netD,netV,net_noise,a2)\n",
    "            netG.load_state_dict(fed_state_dict)\n",
    "            Z_bar = netG(real_cpu)\n",
    "            errG2, errG_EC2 = mcr_gan_loss(Z, Z_bar, real_label, n_dis2 - 1, n_dis2)\n",
    "            err2 = errG2\n",
    "            #print('r1',radius1)\n",
    "            #print(errG2, errG_EC2)\n",
    "        else:\n",
    "            radius2 = a2\n",
    "            a2 = a1\n",
    "            a1 = radius2 - lam*(radius2-radius1)\n",
    "            fed_state_dict = get_netG(netD,netV,net_noise,a1)\n",
    "            netG.load_state_dict(fed_state_dict)\n",
    "            Z_bar = netG(real_cpu)\n",
    "            errG1, errG_EC1 = mcr_gan_loss(Z, Z_bar, real_label, n_dis2 - 1, n_dis2)\n",
    "            err1 = errG1\n",
    "            #print('r2',radius2)\n",
    "            #print(errG1, errG_EC1)\n",
    "         \n",
    "    return radius1,radius2"
   ]
  },
  {
   "cell_type": "code",
   "execution_count": 6,
   "id": "15cb67aa",
   "metadata": {},
   "outputs": [
    {
     "name": "stderr",
     "output_type": "stream",
     "text": [
      "extracting all features from dataset: 100%|██████████████████████████████████████████████| 1/1 [00:03<00:00,  3.92s/it]\n",
      "extracting all features from dataset: 100%|██████████████████████████████████████████████| 1/1 [00:01<00:00,  1.47s/it]\n"
     ]
    },
    {
     "name": "stdout",
     "output_type": "stream",
     "text": [
      "----------------------------\n",
      "Train_z, Test_z\n",
      "PCA: 0.8321000000000001\n",
      "SVD: 0.8279\n",
      "NetD, Acc at first 0.8387\n"
     ]
    },
    {
     "name": "stderr",
     "output_type": "stream",
     "text": [
      "extracting all features from dataset: 100%|██████████████████████████████████████████████| 2/2 [00:04<00:00,  2.08s/it]\n",
      "extracting all features from dataset: 100%|██████████████████████████████████████████████| 1/1 [00:01<00:00,  1.48s/it]\n"
     ]
    },
    {
     "name": "stdout",
     "output_type": "stream",
     "text": [
      "----------------------------\n",
      "Train_z, Test_z\n",
      "PCA: 0.8085\n",
      "SVD: 0.8073\n",
      "NetG, Acc at first 0.8437\n"
     ]
    }
   ],
   "source": [
    "#acc at first for NetD\n",
    "train_X, train_Z, train_X_bar, train_Z_bar, train_labels = extract_features2(testloader, netD, netG)\n",
    "\n",
    "test_X, test_Z, test_X_bar, test_Z_bar, test_labels = extract_features2(testloader, netD, netG)\n",
    "\n",
    "\n",
    "print(\"----------------------------\")\n",
    "print(\"Train_z, Test_z\")\n",
    "nearsub(n_comp, train_Z, train_labels, test_Z, test_labels)\n",
    "\n",
    "#acc at first for NetD\n",
    "from sklearn.neighbors import KNeighborsClassifier \n",
    "knn= KNeighborsClassifier(n_neighbors=10) \n",
    "\n",
    "knn.fit(train_Z,train_labels) \n",
    "knn.score(test_Z,test_labels) \n",
    " \n",
    "y_predict = knn.predict(test_Z) \n",
    "\n",
    "count =0\n",
    "for k in range(10000):\n",
    "    if y_predict[k] == test_labels[k]:\n",
    "        count +=1\n",
    "print('NetD, Acc at first',count/10000)\n",
    "Acc_results_D.append(count/10000)\n",
    "\n",
    "#acc at first for NetG\n",
    "train_X, train_Z, train_X_bar, train_Z_bar, train_labels = extract_features2(trainloader, netG, netD)\n",
    "\n",
    "test_X, test_Z, test_X_bar, test_Z_bar, test_labels = extract_features2(testloader, netG, netD)\n",
    "\n",
    "print(\"----------------------------\")\n",
    "print(\"Train_z, Test_z\")\n",
    "nearsub(n_comp, train_Z, train_labels, test_Z, test_labels)\n",
    "\n",
    "\n",
    "#acc at first\n",
    "from sklearn.neighbors import KNeighborsClassifier \n",
    "knn= KNeighborsClassifier(n_neighbors=10) \n",
    "\n",
    "knn.fit(train_Z,train_labels) \n",
    "knn.score(test_Z,test_labels) \n",
    " \n",
    "y_predict = knn.predict(test_Z) \n",
    "\n",
    "count =0\n",
    "for k in range(10000):\n",
    "    if y_predict[k] == test_labels[k]:\n",
    "        count +=1\n",
    "print('NetG, Acc at first',count/10000)\n",
    "Acc_results_G.append(count/10000)"
   ]
  },
  {
   "cell_type": "code",
   "execution_count": 7,
   "id": "e0d6cae2",
   "metadata": {},
   "outputs": [
    {
     "name": "stdout",
     "output_type": "stream",
     "text": [
      "99.97995053415953\n",
      "tensor(-57.8772, device='cuda:0', grad_fn=<NegBackward0>) [tensor(-6.9267, device='cuda:0', grad_fn=<NegBackward0>), tensor(-6.4033, device='cuda:0', grad_fn=<NegBackward0>), tensor(-44.5472, device='cuda:0', grad_fn=<AddBackward0>)]\n",
      "99.98259958255836\n",
      "tensor(-47.3263, device='cuda:0', grad_fn=<NegBackward0>) [tensor(-2.6360, device='cuda:0', grad_fn=<NegBackward0>), tensor(-6.5335, device='cuda:0', grad_fn=<NegBackward0>), tensor(-38.1567, device='cuda:0', grad_fn=<AddBackward0>)]\n",
      "38.17762457845868\n",
      "tensor(-46.4718, device='cuda:0', grad_fn=<NegBackward0>) [tensor(-2.6360, device='cuda:0', grad_fn=<NegBackward0>), tensor(-6.4713, device='cuda:0', grad_fn=<NegBackward0>), tensor(-37.3644, device='cuda:0', grad_fn=<AddBackward0>)]\n",
      "45.12611854059224\n",
      "tensor(-53.4244, device='cuda:0', grad_fn=<NegBackward0>) [tensor(-4.2714, device='cuda:0', grad_fn=<NegBackward0>), tensor(-6.5349, device='cuda:0', grad_fn=<NegBackward0>), tensor(-42.6181, device='cuda:0', grad_fn=<AddBackward0>)]\n",
      "11.43793767576066\n",
      "tensor(-49.4278, device='cuda:0', grad_fn=<NegBackward0>) [tensor(-4.2714, device='cuda:0', grad_fn=<NegBackward0>), tensor(-5.3619, device='cuda:0', grad_fn=<NegBackward0>), tensor(-39.7944, device='cuda:0', grad_fn=<AddBackward0>)]\n",
      "7.4561613803678055\n",
      "tensor(-60.5592, device='cuda:0', grad_fn=<NegBackward0>) [tensor(-6.4082, device='cuda:0', grad_fn=<NegBackward0>), tensor(-6.4728, device='cuda:0', grad_fn=<NegBackward0>), tensor(-47.6782, device='cuda:0', grad_fn=<AddBackward0>)]\n",
      "5.651744884465896\n",
      "tensor(-60.0580, device='cuda:0', grad_fn=<NegBackward0>) [tensor(-6.4082, device='cuda:0', grad_fn=<NegBackward0>), tensor(-6.4092, device='cuda:0', grad_fn=<NegBackward0>), tensor(-47.2406, device='cuda:0', grad_fn=<AddBackward0>)]\n",
      "6.0562320441025825\n",
      "tensor(-62.2372, device='cuda:0', grad_fn=<NegBackward0>) [tensor(-8.0504, device='cuda:0', grad_fn=<NegBackward0>), tensor(-5.6519, device='cuda:0', grad_fn=<NegBackward0>), tensor(-48.5349, device='cuda:0', grad_fn=<AddBackward0>)]\n",
      "18.811227921457508\n",
      "tensor(-64.5935, device='cuda:0', grad_fn=<NegBackward0>) [tensor(-8.0504, device='cuda:0', grad_fn=<NegBackward0>), tensor(-5.9799, device='cuda:0', grad_fn=<NegBackward0>), tensor(-50.5633, device='cuda:0', grad_fn=<AddBackward0>)]\n",
      "5.339640607057247\n",
      "tensor(-66.5472, device='cuda:0', grad_fn=<NegBackward0>) [tensor(-8.3336, device='cuda:0', grad_fn=<NegBackward0>), tensor(-6.7873, device='cuda:0', grad_fn=<NegBackward0>), tensor(-51.4263, device='cuda:0', grad_fn=<AddBackward0>)]\n",
      "9.42569234552723\n",
      "tensor(-66.0139, device='cuda:0', grad_fn=<NegBackward0>) [tensor(-8.3336, device='cuda:0', grad_fn=<NegBackward0>), tensor(-6.5653, device='cuda:0', grad_fn=<NegBackward0>), tensor(-51.1150, device='cuda:0', grad_fn=<AddBackward0>)]\n",
      "5.524559640032748\n",
      "tensor(-73.2290, device='cuda:0', grad_fn=<NegBackward0>) [tensor(-10.0052, device='cuda:0', grad_fn=<NegBackward0>), tensor(-6.5677, device='cuda:0', grad_fn=<NegBackward0>), tensor(-56.6560, device='cuda:0', grad_fn=<AddBackward0>)]\n",
      "5.5390933896905\n",
      "tensor(-75.0171, device='cuda:0', grad_fn=<NegBackward0>) [tensor(-10.0052, device='cuda:0', grad_fn=<NegBackward0>), tensor(-7.3948, device='cuda:0', grad_fn=<NegBackward0>), tensor(-57.6170, device='cuda:0', grad_fn=<AddBackward0>)]\n",
      "5.535712919144031\n",
      "tensor(-78.6239, device='cuda:0', grad_fn=<NegBackward0>) [tensor(-11.1282, device='cuda:0', grad_fn=<NegBackward0>), tensor(-7.1357, device='cuda:0', grad_fn=<NegBackward0>), tensor(-60.3600, device='cuda:0', grad_fn=<AddBackward0>)]\n",
      "6.194978688667195\n",
      "tensor(-78.4857, device='cuda:0', grad_fn=<NegBackward0>) [tensor(-11.1282, device='cuda:0', grad_fn=<NegBackward0>), tensor(-7.1669, device='cuda:0', grad_fn=<NegBackward0>), tensor(-60.1905, device='cuda:0', grad_fn=<AddBackward0>)]\n",
      "6.7593035322381\n",
      "tensor(-80.1274, device='cuda:0', grad_fn=<NegBackward0>) [tensor(-11.7388, device='cuda:0', grad_fn=<NegBackward0>), tensor(-6.9601, device='cuda:0', grad_fn=<NegBackward0>), tensor(-61.4285, device='cuda:0', grad_fn=<AddBackward0>)]\n",
      "5.194279675900196\n",
      "tensor(-77.7018, device='cuda:0', grad_fn=<NegBackward0>) [tensor(-11.7388, device='cuda:0', grad_fn=<NegBackward0>), tensor(-6.1961, device='cuda:0', grad_fn=<NegBackward0>), tensor(-59.7668, device='cuda:0', grad_fn=<AddBackward0>)]\n",
      "5.419714952968483\n",
      "tensor(-83.1849, device='cuda:0', grad_fn=<NegBackward0>) [tensor(-12.3738, device='cuda:0', grad_fn=<NegBackward0>), tensor(-7.5910, device='cuda:0', grad_fn=<NegBackward0>), tensor(-63.2201, device='cuda:0', grad_fn=<AddBackward0>)]\n",
      "5.92560111216801\n",
      "tensor(-80.7016, device='cuda:0', grad_fn=<NegBackward0>) [tensor(-12.3738, device='cuda:0', grad_fn=<NegBackward0>), tensor(-6.7512, device='cuda:0', grad_fn=<NegBackward0>), tensor(-61.5767, device='cuda:0', grad_fn=<AddBackward0>)]\n",
      "5.021340337331054\n",
      "tensor(-84.2164, device='cuda:0', grad_fn=<NegBackward0>) [tensor(-13.1314, device='cuda:0', grad_fn=<NegBackward0>), tensor(-7.4471, device='cuda:0', grad_fn=<NegBackward0>), tensor(-63.6378, device='cuda:0', grad_fn=<AddBackward0>)]\n",
      "5.29766558296617\n",
      "tensor(-86.1089, device='cuda:0', grad_fn=<NegBackward0>) [tensor(-13.1314, device='cuda:0', grad_fn=<NegBackward0>), tensor(-8.0592, device='cuda:0', grad_fn=<NegBackward0>), tensor(-64.9182, device='cuda:0', grad_fn=<AddBackward0>)]\n",
      "4.579915966544212\n",
      "tensor(-85.6715, device='cuda:0', grad_fn=<NegBackward0>) [tensor(-13.4616, device='cuda:0', grad_fn=<NegBackward0>), tensor(-8.0833, device='cuda:0', grad_fn=<NegBackward0>), tensor(-64.1266, device='cuda:0', grad_fn=<AddBackward0>)]\n",
      "4.728011751906983\n",
      "tensor(-85.3744, device='cuda:0', grad_fn=<NegBackward0>) [tensor(-13.4616, device='cuda:0', grad_fn=<NegBackward0>), tensor(-7.7514, device='cuda:0', grad_fn=<NegBackward0>), tensor(-64.1614, device='cuda:0', grad_fn=<AddBackward0>)]\n",
      "6.075847280967209\n",
      "tensor(-89.9541, device='cuda:0', grad_fn=<NegBackward0>) [tensor(-14.6426, device='cuda:0', grad_fn=<NegBackward0>), tensor(-7.6773, device='cuda:0', grad_fn=<NegBackward0>), tensor(-67.6342, device='cuda:0', grad_fn=<AddBackward0>)]\n",
      "5.989891751674763\n",
      "tensor(-89.7383, device='cuda:0', grad_fn=<NegBackward0>) [tensor(-14.6426, device='cuda:0', grad_fn=<NegBackward0>), tensor(-7.6890, device='cuda:0', grad_fn=<NegBackward0>), tensor(-67.4067, device='cuda:0', grad_fn=<AddBackward0>)]\n",
      "5.469297119900499\n",
      "tensor(-90.5124, device='cuda:0', grad_fn=<NegBackward0>) [tensor(-14.9512, device='cuda:0', grad_fn=<NegBackward0>), tensor(-7.8204, device='cuda:0', grad_fn=<NegBackward0>), tensor(-67.7408, device='cuda:0', grad_fn=<AddBackward0>)]\n",
      "5.191530879340439\n",
      "tensor(-90.3522, device='cuda:0', grad_fn=<NegBackward0>) [tensor(-14.9512, device='cuda:0', grad_fn=<NegBackward0>), tensor(-8.1466, device='cuda:0', grad_fn=<NegBackward0>), tensor(-67.2545, device='cuda:0', grad_fn=<AddBackward0>)]\n",
      "5.278238916001288\n",
      "tensor(-91.5552, device='cuda:0', grad_fn=<NegBackward0>) [tensor(-15.8062, device='cuda:0', grad_fn=<NegBackward0>), tensor(-6.9435, device='cuda:0', grad_fn=<NegBackward0>), tensor(-68.8055, device='cuda:0', grad_fn=<AddBackward0>)]\n",
      "99.92626396700042\n",
      "tensor(-92.6227, device='cuda:0', grad_fn=<NegBackward0>) [tensor(-15.8062, device='cuda:0', grad_fn=<NegBackward0>), tensor(-6.9845, device='cuda:0', grad_fn=<NegBackward0>), tensor(-69.8320, device='cuda:0', grad_fn=<AddBackward0>)]\n",
      "4.717367314193273\n",
      "tensor(-94.5063, device='cuda:0', grad_fn=<NegBackward0>) [tensor(-16.3603, device='cuda:0', grad_fn=<NegBackward0>), tensor(-7.9777, device='cuda:0', grad_fn=<NegBackward0>), tensor(-70.1683, device='cuda:0', grad_fn=<AddBackward0>)]\n",
      "6.282688520883852\n",
      "tensor(-93.2619, device='cuda:0', grad_fn=<NegBackward0>) [tensor(-16.3603, device='cuda:0', grad_fn=<NegBackward0>), tensor(-6.8403, device='cuda:0', grad_fn=<NegBackward0>), tensor(-70.0613, device='cuda:0', grad_fn=<AddBackward0>)]\n",
      "5.937026846694925\n",
      "tensor(-96.6368, device='cuda:0', grad_fn=<NegBackward0>) [tensor(-16.6421, device='cuda:0', grad_fn=<NegBackward0>), tensor(-7.8168, device='cuda:0', grad_fn=<NegBackward0>), tensor(-72.1778, device='cuda:0', grad_fn=<AddBackward0>)]\n",
      "5.541128170664217\n",
      "tensor(-96.0336, device='cuda:0', grad_fn=<NegBackward0>) [tensor(-16.6421, device='cuda:0', grad_fn=<NegBackward0>), tensor(-7.9518, device='cuda:0', grad_fn=<NegBackward0>), tensor(-71.4397, device='cuda:0', grad_fn=<AddBackward0>)]\n"
     ]
    },
    {
     "name": "stdout",
     "output_type": "stream",
     "text": [
      "5.327360729349223\n",
      "tensor(-98.0182, device='cuda:0', grad_fn=<NegBackward0>) [tensor(-16.9236, device='cuda:0', grad_fn=<NegBackward0>), tensor(-8.6986, device='cuda:0', grad_fn=<NegBackward0>), tensor(-72.3960, device='cuda:0', grad_fn=<AddBackward0>)]\n",
      "5.006369301402145\n",
      "tensor(-94.8664, device='cuda:0', grad_fn=<NegBackward0>) [tensor(-16.9236, device='cuda:0', grad_fn=<NegBackward0>), tensor(-7.7312, device='cuda:0', grad_fn=<NegBackward0>), tensor(-70.2117, device='cuda:0', grad_fn=<AddBackward0>)]\n",
      "5.630835686550213\n",
      "tensor(-95.7385, device='cuda:0', grad_fn=<NegBackward0>) [tensor(-16.9205, device='cuda:0', grad_fn=<NegBackward0>), tensor(-7.4619, device='cuda:0', grad_fn=<NegBackward0>), tensor(-71.3560, device='cuda:0', grad_fn=<AddBackward0>)]\n",
      "5.5629919752297985\n",
      "tensor(-93.9441, device='cuda:0', grad_fn=<NegBackward0>) [tensor(-16.9205, device='cuda:0', grad_fn=<NegBackward0>), tensor(-6.8313, device='cuda:0', grad_fn=<NegBackward0>), tensor(-70.1923, device='cuda:0', grad_fn=<AddBackward0>)]\n",
      "5.7466347502540085\n",
      "tensor(-97.5801, device='cuda:0', grad_fn=<NegBackward0>) [tensor(-17.6026, device='cuda:0', grad_fn=<NegBackward0>), tensor(-7.9614, device='cuda:0', grad_fn=<NegBackward0>), tensor(-72.0161, device='cuda:0', grad_fn=<AddBackward0>)]\n",
      "5.82157238967904\n",
      "tensor(-97.4639, device='cuda:0', grad_fn=<NegBackward0>) [tensor(-17.6026, device='cuda:0', grad_fn=<NegBackward0>), tensor(-7.7677, device='cuda:0', grad_fn=<NegBackward0>), tensor(-72.0935, device='cuda:0', grad_fn=<AddBackward0>)]\n",
      "5.424273863560556\n",
      "tensor(-99.0942, device='cuda:0', grad_fn=<NegBackward0>) [tensor(-18.0234, device='cuda:0', grad_fn=<NegBackward0>), tensor(-8.1265, device='cuda:0', grad_fn=<NegBackward0>), tensor(-72.9442, device='cuda:0', grad_fn=<AddBackward0>)]\n",
      "6.098370319631853\n",
      "tensor(-97.8298, device='cuda:0', grad_fn=<NegBackward0>) [tensor(-18.0234, device='cuda:0', grad_fn=<NegBackward0>), tensor(-7.4314, device='cuda:0', grad_fn=<NegBackward0>), tensor(-72.3750, device='cuda:0', grad_fn=<AddBackward0>)]\n",
      "7.429778714111981\n",
      "tensor(-97.9730, device='cuda:0', grad_fn=<NegBackward0>) [tensor(-18.2678, device='cuda:0', grad_fn=<NegBackward0>), tensor(-7.0896, device='cuda:0', grad_fn=<NegBackward0>), tensor(-72.6156, device='cuda:0', grad_fn=<AddBackward0>)]\n",
      "5.534866281083704\n",
      "tensor(-97.5481, device='cuda:0', grad_fn=<NegBackward0>) [tensor(-18.2678, device='cuda:0', grad_fn=<NegBackward0>), tensor(-7.4872, device='cuda:0', grad_fn=<NegBackward0>), tensor(-71.7931, device='cuda:0', grad_fn=<AddBackward0>)]\n",
      "4.84606752203199\n",
      "tensor(-99.0507, device='cuda:0', grad_fn=<NegBackward0>) [tensor(-18.4492, device='cuda:0', grad_fn=<NegBackward0>), tensor(-8.6799, device='cuda:0', grad_fn=<NegBackward0>), tensor(-71.9216, device='cuda:0', grad_fn=<AddBackward0>)]\n",
      "4.7249161827727\n",
      "tensor(-98.4283, device='cuda:0', grad_fn=<NegBackward0>) [tensor(-18.4492, device='cuda:0', grad_fn=<NegBackward0>), tensor(-8.0644, device='cuda:0', grad_fn=<NegBackward0>), tensor(-71.9146, device='cuda:0', grad_fn=<AddBackward0>)]\n",
      "5.536708281758468\n",
      "tensor(-101.6766, device='cuda:0', grad_fn=<NegBackward0>) [tensor(-18.9232, device='cuda:0', grad_fn=<NegBackward0>), tensor(-8.7270, device='cuda:0', grad_fn=<NegBackward0>), tensor(-74.0264, device='cuda:0', grad_fn=<AddBackward0>)]\n",
      "5.2278284283927094\n",
      "tensor(-102.2048, device='cuda:0', grad_fn=<NegBackward0>) [tensor(-18.9232, device='cuda:0', grad_fn=<NegBackward0>), tensor(-8.6001, device='cuda:0', grad_fn=<NegBackward0>), tensor(-74.6815, device='cuda:0', grad_fn=<AddBackward0>)]\n",
      "6.442818788659792\n",
      "tensor(-101.1780, device='cuda:0', grad_fn=<NegBackward0>) [tensor(-19.4036, device='cuda:0', grad_fn=<NegBackward0>), tensor(-7.2759, device='cuda:0', grad_fn=<NegBackward0>), tensor(-74.4986, device='cuda:0', grad_fn=<AddBackward0>)]\n",
      "5.806946722415053\n",
      "tensor(-103.5880, device='cuda:0', grad_fn=<NegBackward0>) [tensor(-19.4036, device='cuda:0', grad_fn=<NegBackward0>), tensor(-8.2945, device='cuda:0', grad_fn=<NegBackward0>), tensor(-75.8899, device='cuda:0', grad_fn=<AddBackward0>)]\n",
      "5.764857170050041\n",
      "tensor(-104.1440, device='cuda:0', grad_fn=<NegBackward0>) [tensor(-19.9862, device='cuda:0', grad_fn=<NegBackward0>), tensor(-8.8013, device='cuda:0', grad_fn=<NegBackward0>), tensor(-75.3565, device='cuda:0', grad_fn=<AddBackward0>)]\n",
      "4.849497632224209\n",
      "tensor(-102.0365, device='cuda:0', grad_fn=<NegBackward0>) [tensor(-19.9862, device='cuda:0', grad_fn=<NegBackward0>), tensor(-8.7419, device='cuda:0', grad_fn=<NegBackward0>), tensor(-73.3084, device='cuda:0', grad_fn=<AddBackward0>)]\n",
      "5.771195378363734\n",
      "tensor(-102.5607, device='cuda:0', grad_fn=<NegBackward0>) [tensor(-20.4232, device='cuda:0', grad_fn=<NegBackward0>), tensor(-7.7960, device='cuda:0', grad_fn=<NegBackward0>), tensor(-74.3416, device='cuda:0', grad_fn=<AddBackward0>)]\n",
      "5.619203708172431\n",
      "tensor(-104.5133, device='cuda:0', grad_fn=<NegBackward0>) [tensor(-20.4232, device='cuda:0', grad_fn=<NegBackward0>), tensor(-8.2472, device='cuda:0', grad_fn=<NegBackward0>), tensor(-75.8430, device='cuda:0', grad_fn=<AddBackward0>)]\n",
      "6.3257484794121455\n",
      "tensor(-104.2246, device='cuda:0', grad_fn=<NegBackward0>) [tensor(-20.6786, device='cuda:0', grad_fn=<NegBackward0>), tensor(-7.5841, device='cuda:0', grad_fn=<NegBackward0>), tensor(-75.9620, device='cuda:0', grad_fn=<AddBackward0>)]\n",
      "5.875595204239202\n",
      "tensor(-103.8544, device='cuda:0', grad_fn=<NegBackward0>) [tensor(-20.6786, device='cuda:0', grad_fn=<NegBackward0>), tensor(-7.5251, device='cuda:0', grad_fn=<NegBackward0>), tensor(-75.6507, device='cuda:0', grad_fn=<AddBackward0>)]\n",
      "5.913948187539171\n",
      "tensor(-104.8548, device='cuda:0', grad_fn=<NegBackward0>) [tensor(-20.8873, device='cuda:0', grad_fn=<NegBackward0>), tensor(-8.0242, device='cuda:0', grad_fn=<NegBackward0>), tensor(-75.9433, device='cuda:0', grad_fn=<AddBackward0>)]\n",
      "5.846031371427962\n",
      "tensor(-104.8555, device='cuda:0', grad_fn=<NegBackward0>) [tensor(-20.8873, device='cuda:0', grad_fn=<NegBackward0>), tensor(-8.3334, device='cuda:0', grad_fn=<NegBackward0>), tensor(-75.6348, device='cuda:0', grad_fn=<AddBackward0>)]\n",
      "5.756695053727437\n",
      "tensor(-107.0074, device='cuda:0', grad_fn=<NegBackward0>) [tensor(-20.9795, device='cuda:0', grad_fn=<NegBackward0>), tensor(-8.5602, device='cuda:0', grad_fn=<NegBackward0>), tensor(-77.4676, device='cuda:0', grad_fn=<AddBackward0>)]\n",
      "5.477322788405237\n",
      "tensor(-105.4334, device='cuda:0', grad_fn=<NegBackward0>) [tensor(-20.9795, device='cuda:0', grad_fn=<NegBackward0>), tensor(-7.9414, device='cuda:0', grad_fn=<NegBackward0>), tensor(-76.5125, device='cuda:0', grad_fn=<AddBackward0>)]\n",
      "5.240989658629547\n",
      "tensor(-103.7658, device='cuda:0', grad_fn=<NegBackward0>) [tensor(-21.2243, device='cuda:0', grad_fn=<NegBackward0>), tensor(-7.6099, device='cuda:0', grad_fn=<NegBackward0>), tensor(-74.9316, device='cuda:0', grad_fn=<AddBackward0>)]\n",
      "6.55480426504868\n",
      "tensor(-106.4244, device='cuda:0', grad_fn=<NegBackward0>) [tensor(-21.2243, device='cuda:0', grad_fn=<NegBackward0>), tensor(-8.5204, device='cuda:0', grad_fn=<NegBackward0>), tensor(-76.6797, device='cuda:0', grad_fn=<AddBackward0>)]\n",
      "5.247704395939788\n",
      "tensor(-105.8246, device='cuda:0', grad_fn=<NegBackward0>) [tensor(-21.4276, device='cuda:0', grad_fn=<NegBackward0>), tensor(-8.3664, device='cuda:0', grad_fn=<NegBackward0>), tensor(-76.0305, device='cuda:0', grad_fn=<AddBackward0>)]\n",
      "5.035209826300898\n",
      "tensor(-106.0408, device='cuda:0', grad_fn=<NegBackward0>) [tensor(-21.4276, device='cuda:0', grad_fn=<NegBackward0>), tensor(-8.3534, device='cuda:0', grad_fn=<NegBackward0>), tensor(-76.2598, device='cuda:0', grad_fn=<AddBackward0>)]\n",
      "5.19885734400492\n",
      "tensor(-105.0214, device='cuda:0', grad_fn=<NegBackward0>) [tensor(-21.4309, device='cuda:0', grad_fn=<NegBackward0>), tensor(-8.0414, device='cuda:0', grad_fn=<NegBackward0>), tensor(-75.5492, device='cuda:0', grad_fn=<AddBackward0>)]\n",
      "5.5220258073138675\n",
      "tensor(-105.2303, device='cuda:0', grad_fn=<NegBackward0>) [tensor(-21.4309, device='cuda:0', grad_fn=<NegBackward0>), tensor(-8.2779, device='cuda:0', grad_fn=<NegBackward0>), tensor(-75.5216, device='cuda:0', grad_fn=<AddBackward0>)]\n",
      "5.581798986995804\n",
      "tensor(-104.9366, device='cuda:0', grad_fn=<NegBackward0>) [tensor(-21.3604, device='cuda:0', grad_fn=<NegBackward0>), tensor(-7.7180, device='cuda:0', grad_fn=<NegBackward0>), tensor(-75.8582, device='cuda:0', grad_fn=<AddBackward0>)]\n"
     ]
    },
    {
     "name": "stdout",
     "output_type": "stream",
     "text": [
      "5.940147684709621\n",
      "tensor(-104.4272, device='cuda:0', grad_fn=<NegBackward0>) [tensor(-21.3604, device='cuda:0', grad_fn=<NegBackward0>), tensor(-7.4881, device='cuda:0', grad_fn=<NegBackward0>), tensor(-75.5787, device='cuda:0', grad_fn=<AddBackward0>)]\n",
      "5.79692075337874\n",
      "tensor(-104.7449, device='cuda:0', grad_fn=<NegBackward0>) [tensor(-21.5670, device='cuda:0', grad_fn=<NegBackward0>), tensor(-7.1915, device='cuda:0', grad_fn=<NegBackward0>), tensor(-75.9864, device='cuda:0', grad_fn=<AddBackward0>)]\n",
      "5.511172409214584\n",
      "tensor(-105.4139, device='cuda:0', grad_fn=<NegBackward0>) [tensor(-21.5670, device='cuda:0', grad_fn=<NegBackward0>), tensor(-8.0329, device='cuda:0', grad_fn=<NegBackward0>), tensor(-75.8140, device='cuda:0', grad_fn=<AddBackward0>)]\n",
      "5.090371949510939\n",
      "tensor(-107.2194, device='cuda:0', grad_fn=<NegBackward0>) [tensor(-22.2795, device='cuda:0', grad_fn=<NegBackward0>), tensor(-8.5130, device='cuda:0', grad_fn=<NegBackward0>), tensor(-76.4270, device='cuda:0', grad_fn=<AddBackward0>)]\n",
      "5.472219566983865\n",
      "tensor(-106.4746, device='cuda:0', grad_fn=<NegBackward0>) [tensor(-22.2795, device='cuda:0', grad_fn=<NegBackward0>), tensor(-7.5849, device='cuda:0', grad_fn=<NegBackward0>), tensor(-76.6103, device='cuda:0', grad_fn=<AddBackward0>)]\n",
      "5.257831772485201\n",
      "tensor(-107.9469, device='cuda:0', grad_fn=<NegBackward0>) [tensor(-22.5925, device='cuda:0', grad_fn=<NegBackward0>), tensor(-7.8385, device='cuda:0', grad_fn=<NegBackward0>), tensor(-77.5159, device='cuda:0', grad_fn=<AddBackward0>)]\n",
      "5.06596184431765\n",
      "tensor(-110.0710, device='cuda:0', grad_fn=<NegBackward0>) [tensor(-22.5925, device='cuda:0', grad_fn=<NegBackward0>), tensor(-9.3959, device='cuda:0', grad_fn=<NegBackward0>), tensor(-78.0825, device='cuda:0', grad_fn=<AddBackward0>)]\n",
      "5.699314913638696\n",
      "tensor(-108.8522, device='cuda:0', grad_fn=<NegBackward0>) [tensor(-22.8675, device='cuda:0', grad_fn=<NegBackward0>), tensor(-8.3345, device='cuda:0', grad_fn=<NegBackward0>), tensor(-77.6502, device='cuda:0', grad_fn=<AddBackward0>)]\n",
      "5.678314249614162\n",
      "tensor(-108.7936, device='cuda:0', grad_fn=<NegBackward0>) [tensor(-22.8675, device='cuda:0', grad_fn=<NegBackward0>), tensor(-8.2572, device='cuda:0', grad_fn=<NegBackward0>), tensor(-77.6689, device='cuda:0', grad_fn=<AddBackward0>)]\n",
      "5.454382466563698\n",
      "tensor(-107.9602, device='cuda:0', grad_fn=<NegBackward0>) [tensor(-23.0443, device='cuda:0', grad_fn=<NegBackward0>), tensor(-7.4538, device='cuda:0', grad_fn=<NegBackward0>), tensor(-77.4620, device='cuda:0', grad_fn=<AddBackward0>)]\n",
      "5.737155037175431\n",
      "tensor(-109.2358, device='cuda:0', grad_fn=<NegBackward0>) [tensor(-23.0443, device='cuda:0', grad_fn=<NegBackward0>), tensor(-7.9022, device='cuda:0', grad_fn=<NegBackward0>), tensor(-78.2893, device='cuda:0', grad_fn=<AddBackward0>)]\n",
      "5.81750686168318\n",
      "tensor(-109.8586, device='cuda:0', grad_fn=<NegBackward0>) [tensor(-23.3276, device='cuda:0', grad_fn=<NegBackward0>), tensor(-8.4676, device='cuda:0', grad_fn=<NegBackward0>), tensor(-78.0634, device='cuda:0', grad_fn=<AddBackward0>)]\n",
      "5.383740242888601\n",
      "tensor(-110.6382, device='cuda:0', grad_fn=<NegBackward0>) [tensor(-23.3276, device='cuda:0', grad_fn=<NegBackward0>), tensor(-8.6839, device='cuda:0', grad_fn=<NegBackward0>), tensor(-78.6267, device='cuda:0', grad_fn=<AddBackward0>)]\n",
      "5.7941011134224345\n",
      "tensor(-111.1154, device='cuda:0', grad_fn=<NegBackward0>) [tensor(-23.4654, device='cuda:0', grad_fn=<NegBackward0>), tensor(-8.1888, device='cuda:0', grad_fn=<NegBackward0>), tensor(-79.4612, device='cuda:0', grad_fn=<AddBackward0>)]\n",
      "7.361522955953538\n",
      "tensor(-109.6751, device='cuda:0', grad_fn=<NegBackward0>) [tensor(-23.4654, device='cuda:0', grad_fn=<NegBackward0>), tensor(-7.7648, device='cuda:0', grad_fn=<NegBackward0>), tensor(-78.4448, device='cuda:0', grad_fn=<AddBackward0>)]\n",
      "5.836586641809277\n",
      "tensor(-110.9413, device='cuda:0', grad_fn=<NegBackward0>) [tensor(-23.4687, device='cuda:0', grad_fn=<NegBackward0>), tensor(-8.5247, device='cuda:0', grad_fn=<NegBackward0>), tensor(-78.9480, device='cuda:0', grad_fn=<AddBackward0>)]\n",
      "10.901262418713703\n",
      "tensor(-109.2476, device='cuda:0', grad_fn=<NegBackward0>) [tensor(-23.4687, device='cuda:0', grad_fn=<NegBackward0>), tensor(-7.3880, device='cuda:0', grad_fn=<NegBackward0>), tensor(-78.3910, device='cuda:0', grad_fn=<AddBackward0>)]\n",
      "4.9440503904770745\n",
      "tensor(-107.7400, device='cuda:0', grad_fn=<NegBackward0>) [tensor(-23.5190, device='cuda:0', grad_fn=<NegBackward0>), tensor(-7.2330, device='cuda:0', grad_fn=<NegBackward0>), tensor(-76.9880, device='cuda:0', grad_fn=<AddBackward0>)]\n",
      "5.461608310401449\n",
      "tensor(-110.2663, device='cuda:0', grad_fn=<NegBackward0>) [tensor(-23.5190, device='cuda:0', grad_fn=<NegBackward0>), tensor(-8.7965, device='cuda:0', grad_fn=<NegBackward0>), tensor(-77.9507, device='cuda:0', grad_fn=<AddBackward0>)]\n",
      "5.177550769455122\n",
      "tensor(-109.6291, device='cuda:0', grad_fn=<NegBackward0>) [tensor(-23.5846, device='cuda:0', grad_fn=<NegBackward0>), tensor(-8.2194, device='cuda:0', grad_fn=<NegBackward0>), tensor(-77.8251, device='cuda:0', grad_fn=<AddBackward0>)]\n",
      "5.754667910762\n",
      "tensor(-108.9393, device='cuda:0', grad_fn=<NegBackward0>) [tensor(-23.5846, device='cuda:0', grad_fn=<NegBackward0>), tensor(-7.5913, device='cuda:0', grad_fn=<NegBackward0>), tensor(-77.7634, device='cuda:0', grad_fn=<AddBackward0>)]\n",
      "5.065886847914678\n",
      "tensor(-109.3734, device='cuda:0', grad_fn=<NegBackward0>) [tensor(-23.7286, device='cuda:0', grad_fn=<NegBackward0>), tensor(-8.3969, device='cuda:0', grad_fn=<NegBackward0>), tensor(-77.2479, device='cuda:0', grad_fn=<AddBackward0>)]\n",
      "5.443596813506355\n",
      "tensor(-109.5446, device='cuda:0', grad_fn=<NegBackward0>) [tensor(-23.7286, device='cuda:0', grad_fn=<NegBackward0>), tensor(-8.2827, device='cuda:0', grad_fn=<NegBackward0>), tensor(-77.5333, device='cuda:0', grad_fn=<AddBackward0>)]\n",
      "5.629890994364892\n",
      "tensor(-109.7842, device='cuda:0', grad_fn=<NegBackward0>) [tensor(-23.8910, device='cuda:0', grad_fn=<NegBackward0>), tensor(-7.9028, device='cuda:0', grad_fn=<NegBackward0>), tensor(-77.9903, device='cuda:0', grad_fn=<AddBackward0>)]\n",
      "5.562176223226435\n",
      "tensor(-112.0565, device='cuda:0', grad_fn=<NegBackward0>) [tensor(-23.8910, device='cuda:0', grad_fn=<NegBackward0>), tensor(-8.9855, device='cuda:0', grad_fn=<NegBackward0>), tensor(-79.1799, device='cuda:0', grad_fn=<AddBackward0>)]\n",
      "6.147537501221107\n",
      "tensor(-111.1819, device='cuda:0', grad_fn=<NegBackward0>) [tensor(-24.0736, device='cuda:0', grad_fn=<NegBackward0>), tensor(-8.1428, device='cuda:0', grad_fn=<NegBackward0>), tensor(-78.9654, device='cuda:0', grad_fn=<AddBackward0>)]\n",
      "5.753521590088603\n",
      "tensor(-109.5623, device='cuda:0', grad_fn=<NegBackward0>) [tensor(-24.0736, device='cuda:0', grad_fn=<NegBackward0>), tensor(-7.6759, device='cuda:0', grad_fn=<NegBackward0>), tensor(-77.8128, device='cuda:0', grad_fn=<AddBackward0>)]\n",
      "5.825896950038066\n",
      "tensor(-108.8727, device='cuda:0', grad_fn=<NegBackward0>) [tensor(-23.9787, device='cuda:0', grad_fn=<NegBackward0>), tensor(-7.2844, device='cuda:0', grad_fn=<NegBackward0>), tensor(-77.6095, device='cuda:0', grad_fn=<AddBackward0>)]\n",
      "4.838529334922385\n",
      "tensor(-110.8555, device='cuda:0', grad_fn=<NegBackward0>) [tensor(-23.9787, device='cuda:0', grad_fn=<NegBackward0>), tensor(-9.1582, device='cuda:0', grad_fn=<NegBackward0>), tensor(-77.7185, device='cuda:0', grad_fn=<AddBackward0>)]\n",
      "5.420366194929339\n",
      "tensor(-111.6078, device='cuda:0', grad_fn=<NegBackward0>) [tensor(-24.1159, device='cuda:0', grad_fn=<NegBackward0>), tensor(-8.9983, device='cuda:0', grad_fn=<NegBackward0>), tensor(-78.4936, device='cuda:0', grad_fn=<AddBackward0>)]\n",
      "5.399110066948808\n",
      "tensor(-112.6933, device='cuda:0', grad_fn=<NegBackward0>) [tensor(-24.1159, device='cuda:0', grad_fn=<NegBackward0>), tensor(-9.5122, device='cuda:0', grad_fn=<NegBackward0>), tensor(-79.0652, device='cuda:0', grad_fn=<AddBackward0>)]\n",
      "5.60969243713874\n",
      "tensor(-112.6830, device='cuda:0', grad_fn=<NegBackward0>) [tensor(-24.5787, device='cuda:0', grad_fn=<NegBackward0>), tensor(-8.7219, device='cuda:0', grad_fn=<NegBackward0>), tensor(-79.3825, device='cuda:0', grad_fn=<AddBackward0>)]\n",
      "5.431305866324912\n",
      "tensor(-112.3726, device='cuda:0', grad_fn=<NegBackward0>) [tensor(-24.5787, device='cuda:0', grad_fn=<NegBackward0>), tensor(-8.5588, device='cuda:0', grad_fn=<NegBackward0>), tensor(-79.2352, device='cuda:0', grad_fn=<AddBackward0>)]\n"
     ]
    },
    {
     "name": "stdout",
     "output_type": "stream",
     "text": [
      "6.0161908916378115\n",
      "tensor(-112.6249, device='cuda:0', grad_fn=<NegBackward0>) [tensor(-24.8207, device='cuda:0', grad_fn=<NegBackward0>), tensor(-8.5269, device='cuda:0', grad_fn=<NegBackward0>), tensor(-79.2773, device='cuda:0', grad_fn=<AddBackward0>)]\n",
      "5.026744272418848\n",
      "tensor(-111.9637, device='cuda:0', grad_fn=<NegBackward0>) [tensor(-24.8207, device='cuda:0', grad_fn=<NegBackward0>), tensor(-8.7415, device='cuda:0', grad_fn=<NegBackward0>), tensor(-78.4014, device='cuda:0', grad_fn=<AddBackward0>)]\n",
      "5.51311480914238\n",
      "tensor(-113.1299, device='cuda:0', grad_fn=<NegBackward0>) [tensor(-24.9945, device='cuda:0', grad_fn=<NegBackward0>), tensor(-8.7036, device='cuda:0', grad_fn=<NegBackward0>), tensor(-79.4318, device='cuda:0', grad_fn=<AddBackward0>)]\n",
      "5.4538254614361\n",
      "tensor(-111.8852, device='cuda:0', grad_fn=<NegBackward0>) [tensor(-24.9945, device='cuda:0', grad_fn=<NegBackward0>), tensor(-8.3426, device='cuda:0', grad_fn=<NegBackward0>), tensor(-78.5480, device='cuda:0', grad_fn=<AddBackward0>)]\n",
      "5.5638175107549275\n",
      "tensor(-113.1800, device='cuda:0', grad_fn=<NegBackward0>) [tensor(-25.1409, device='cuda:0', grad_fn=<NegBackward0>), tensor(-8.5077, device='cuda:0', grad_fn=<NegBackward0>), tensor(-79.5314, device='cuda:0', grad_fn=<AddBackward0>)]\n",
      "5.927150345888036\n",
      "tensor(-112.8303, device='cuda:0', grad_fn=<NegBackward0>) [tensor(-25.1409, device='cuda:0', grad_fn=<NegBackward0>), tensor(-8.0410, device='cuda:0', grad_fn=<NegBackward0>), tensor(-79.6484, device='cuda:0', grad_fn=<AddBackward0>)]\n",
      "5.049172972900988\n",
      "tensor(-112.3575, device='cuda:0', grad_fn=<NegBackward0>) [tensor(-25.2733, device='cuda:0', grad_fn=<NegBackward0>), tensor(-8.3671, device='cuda:0', grad_fn=<NegBackward0>), tensor(-78.7171, device='cuda:0', grad_fn=<AddBackward0>)]\n",
      "5.696578038479192\n",
      "tensor(-113.4504, device='cuda:0', grad_fn=<NegBackward0>) [tensor(-25.2733, device='cuda:0', grad_fn=<NegBackward0>), tensor(-8.2391, device='cuda:0', grad_fn=<NegBackward0>), tensor(-79.9380, device='cuda:0', grad_fn=<AddBackward0>)]\n",
      "5.73667671727985\n",
      "tensor(-111.7769, device='cuda:0', grad_fn=<NegBackward0>) [tensor(-25.4432, device='cuda:0', grad_fn=<NegBackward0>), tensor(-7.2554, device='cuda:0', grad_fn=<NegBackward0>), tensor(-79.0783, device='cuda:0', grad_fn=<AddBackward0>)]\n",
      "6.23116569113482\n",
      "tensor(-113.8056, device='cuda:0', grad_fn=<NegBackward0>) [tensor(-25.4432, device='cuda:0', grad_fn=<NegBackward0>), tensor(-8.4714, device='cuda:0', grad_fn=<NegBackward0>), tensor(-79.8910, device='cuda:0', grad_fn=<AddBackward0>)]\n",
      "5.993599468508753\n",
      "tensor(-114.1563, device='cuda:0', grad_fn=<NegBackward0>) [tensor(-25.5976, device='cuda:0', grad_fn=<NegBackward0>), tensor(-8.3312, device='cuda:0', grad_fn=<NegBackward0>), tensor(-80.2275, device='cuda:0', grad_fn=<AddBackward0>)]\n",
      "5.730814521209407\n",
      "tensor(-112.1549, device='cuda:0', grad_fn=<NegBackward0>) [tensor(-25.5976, device='cuda:0', grad_fn=<NegBackward0>), tensor(-7.3826, device='cuda:0', grad_fn=<NegBackward0>), tensor(-79.1746, device='cuda:0', grad_fn=<AddBackward0>)]\n",
      "5.781613575031435\n",
      "tensor(-113.1581, device='cuda:0', grad_fn=<NegBackward0>) [tensor(-25.5328, device='cuda:0', grad_fn=<NegBackward0>), tensor(-8.1404, device='cuda:0', grad_fn=<NegBackward0>), tensor(-79.4850, device='cuda:0', grad_fn=<AddBackward0>)]\n",
      "5.939775319234463\n",
      "tensor(-114.0159, device='cuda:0', grad_fn=<NegBackward0>) [tensor(-25.5328, device='cuda:0', grad_fn=<NegBackward0>), tensor(-8.6711, device='cuda:0', grad_fn=<NegBackward0>), tensor(-79.8120, device='cuda:0', grad_fn=<AddBackward0>)]\n",
      "6.561240701842321\n",
      "tensor(-113.6476, device='cuda:0', grad_fn=<NegBackward0>) [tensor(-25.7879, device='cuda:0', grad_fn=<NegBackward0>), tensor(-8.0767, device='cuda:0', grad_fn=<NegBackward0>), tensor(-79.7830, device='cuda:0', grad_fn=<AddBackward0>)]\n",
      "5.1189608445667085\n",
      "tensor(-113.7524, device='cuda:0', grad_fn=<NegBackward0>) [tensor(-25.7879, device='cuda:0', grad_fn=<NegBackward0>), tensor(-8.3170, device='cuda:0', grad_fn=<NegBackward0>), tensor(-79.6475, device='cuda:0', grad_fn=<AddBackward0>)]\n",
      "5.530841729226482\n",
      "tensor(-116.0041, device='cuda:0', grad_fn=<NegBackward0>) [tensor(-26.0560, device='cuda:0', grad_fn=<NegBackward0>), tensor(-9.0560, device='cuda:0', grad_fn=<NegBackward0>), tensor(-80.8920, device='cuda:0', grad_fn=<AddBackward0>)]\n",
      "5.600354416764788\n",
      "tensor(-112.3072, device='cuda:0', grad_fn=<NegBackward0>) [tensor(-26.0560, device='cuda:0', grad_fn=<NegBackward0>), tensor(-7.5396, device='cuda:0', grad_fn=<NegBackward0>), tensor(-78.7117, device='cuda:0', grad_fn=<AddBackward0>)]\n",
      "5.160004368533273\n",
      "tensor(-114.4790, device='cuda:0', grad_fn=<NegBackward0>) [tensor(-26.1025, device='cuda:0', grad_fn=<NegBackward0>), tensor(-8.7162, device='cuda:0', grad_fn=<NegBackward0>), tensor(-79.6602, device='cuda:0', grad_fn=<AddBackward0>)]\n",
      "5.361257320299794\n",
      "tensor(-114.3637, device='cuda:0', grad_fn=<NegBackward0>) [tensor(-26.1025, device='cuda:0', grad_fn=<NegBackward0>), tensor(-8.1107, device='cuda:0', grad_fn=<NegBackward0>), tensor(-80.1505, device='cuda:0', grad_fn=<AddBackward0>)]\n",
      "5.129197256987101\n",
      "tensor(-114.3082, device='cuda:0', grad_fn=<NegBackward0>) [tensor(-26.2416, device='cuda:0', grad_fn=<NegBackward0>), tensor(-8.7361, device='cuda:0', grad_fn=<NegBackward0>), tensor(-79.3305, device='cuda:0', grad_fn=<AddBackward0>)]\n",
      "4.95190560795772\n",
      "tensor(-116.3885, device='cuda:0', grad_fn=<NegBackward0>) [tensor(-26.2416, device='cuda:0', grad_fn=<NegBackward0>), tensor(-9.6533, device='cuda:0', grad_fn=<NegBackward0>), tensor(-80.4936, device='cuda:0', grad_fn=<AddBackward0>)]\n",
      "5.275719511074756\n",
      "tensor(-114.6473, device='cuda:0', grad_fn=<NegBackward0>) [tensor(-26.4253, device='cuda:0', grad_fn=<NegBackward0>), tensor(-8.6696, device='cuda:0', grad_fn=<NegBackward0>), tensor(-79.5524, device='cuda:0', grad_fn=<AddBackward0>)]\n",
      "5.4069032470469525\n",
      "tensor(-116.4514, device='cuda:0', grad_fn=<NegBackward0>) [tensor(-26.4253, device='cuda:0', grad_fn=<NegBackward0>), tensor(-8.8630, device='cuda:0', grad_fn=<NegBackward0>), tensor(-81.1630, device='cuda:0', grad_fn=<AddBackward0>)]\n",
      "5.487149664333074\n",
      "tensor(-116.6739, device='cuda:0', grad_fn=<NegBackward0>) [tensor(-26.5944, device='cuda:0', grad_fn=<NegBackward0>), tensor(-8.8725, device='cuda:0', grad_fn=<NegBackward0>), tensor(-81.2070, device='cuda:0', grad_fn=<AddBackward0>)]\n",
      "4.735613146310629\n",
      "tensor(-115.3138, device='cuda:0', grad_fn=<NegBackward0>) [tensor(-26.5944, device='cuda:0', grad_fn=<NegBackward0>), tensor(-8.7354, device='cuda:0', grad_fn=<NegBackward0>), tensor(-79.9840, device='cuda:0', grad_fn=<AddBackward0>)]\n",
      "5.376902391959024\n",
      "tensor(-114.2617, device='cuda:0', grad_fn=<NegBackward0>) [tensor(-26.6817, device='cuda:0', grad_fn=<NegBackward0>), tensor(-7.5676, device='cuda:0', grad_fn=<NegBackward0>), tensor(-80.0124, device='cuda:0', grad_fn=<AddBackward0>)]\n",
      "5.610066268990371\n",
      "tensor(-115.0546, device='cuda:0', grad_fn=<NegBackward0>) [tensor(-26.6817, device='cuda:0', grad_fn=<NegBackward0>), tensor(-7.8796, device='cuda:0', grad_fn=<NegBackward0>), tensor(-80.4933, device='cuda:0', grad_fn=<AddBackward0>)]\n",
      "5.9454312275250345\n",
      "tensor(-114.7726, device='cuda:0', grad_fn=<NegBackward0>) [tensor(-26.7452, device='cuda:0', grad_fn=<NegBackward0>), tensor(-7.7757, device='cuda:0', grad_fn=<NegBackward0>), tensor(-80.2516, device='cuda:0', grad_fn=<AddBackward0>)]\n",
      "6.596596971925718\n",
      "tensor(-115.5628, device='cuda:0', grad_fn=<NegBackward0>) [tensor(-26.7452, device='cuda:0', grad_fn=<NegBackward0>), tensor(-7.7609, device='cuda:0', grad_fn=<NegBackward0>), tensor(-81.0567, device='cuda:0', grad_fn=<AddBackward0>)]\n",
      "5.392540061919086\n",
      "tensor(-116.6491, device='cuda:0', grad_fn=<NegBackward0>) [tensor(-26.8062, device='cuda:0', grad_fn=<NegBackward0>), tensor(-9.0046, device='cuda:0', grad_fn=<NegBackward0>), tensor(-80.8383, device='cuda:0', grad_fn=<AddBackward0>)]\n",
      "5.1136374359093475\n",
      "tensor(-114.0304, device='cuda:0', grad_fn=<NegBackward0>) [tensor(-26.8062, device='cuda:0', grad_fn=<NegBackward0>), tensor(-7.8293, device='cuda:0', grad_fn=<NegBackward0>), tensor(-79.3950, device='cuda:0', grad_fn=<AddBackward0>)]\n",
      "5.9699609542087995\n",
      "tensor(-117.8111, device='cuda:0', grad_fn=<NegBackward0>) [tensor(-26.9790, device='cuda:0', grad_fn=<NegBackward0>), tensor(-9.3560, device='cuda:0', grad_fn=<NegBackward0>), tensor(-81.4761, device='cuda:0', grad_fn=<AddBackward0>)]\n"
     ]
    },
    {
     "name": "stdout",
     "output_type": "stream",
     "text": [
      "4.922588476487566\n",
      "tensor(-116.5906, device='cuda:0', grad_fn=<NegBackward0>) [tensor(-26.9790, device='cuda:0', grad_fn=<NegBackward0>), tensor(-9.0804, device='cuda:0', grad_fn=<NegBackward0>), tensor(-80.5312, device='cuda:0', grad_fn=<AddBackward0>)]\n",
      "5.314077555935773\n",
      "tensor(-116.8971, device='cuda:0', grad_fn=<NegBackward0>) [tensor(-27.2329, device='cuda:0', grad_fn=<NegBackward0>), tensor(-8.8314, device='cuda:0', grad_fn=<NegBackward0>), tensor(-80.8328, device='cuda:0', grad_fn=<AddBackward0>)]\n",
      "5.245127081878719\n",
      "tensor(-115.8375, device='cuda:0', grad_fn=<NegBackward0>) [tensor(-27.2329, device='cuda:0', grad_fn=<NegBackward0>), tensor(-8.3280, device='cuda:0', grad_fn=<NegBackward0>), tensor(-80.2766, device='cuda:0', grad_fn=<AddBackward0>)]\n",
      "5.724509576110462\n",
      "tensor(-116.6334, device='cuda:0', grad_fn=<NegBackward0>) [tensor(-27.4523, device='cuda:0', grad_fn=<NegBackward0>), tensor(-8.4008, device='cuda:0', grad_fn=<NegBackward0>), tensor(-80.7802, device='cuda:0', grad_fn=<AddBackward0>)]\n",
      "5.039454841856171\n",
      "tensor(-117.2380, device='cuda:0', grad_fn=<NegBackward0>) [tensor(-27.4523, device='cuda:0', grad_fn=<NegBackward0>), tensor(-8.9921, device='cuda:0', grad_fn=<NegBackward0>), tensor(-80.7936, device='cuda:0', grad_fn=<AddBackward0>)]\n",
      "5.212489342342778\n",
      "tensor(-117.3280, device='cuda:0', grad_fn=<NegBackward0>) [tensor(-27.3266, device='cuda:0', grad_fn=<NegBackward0>), tensor(-8.7100, device='cuda:0', grad_fn=<NegBackward0>), tensor(-81.2914, device='cuda:0', grad_fn=<AddBackward0>)]\n",
      "4.648759521915773\n",
      "tensor(-116.3648, device='cuda:0', grad_fn=<NegBackward0>) [tensor(-27.3266, device='cuda:0', grad_fn=<NegBackward0>), tensor(-8.8637, device='cuda:0', grad_fn=<NegBackward0>), tensor(-80.1744, device='cuda:0', grad_fn=<AddBackward0>)]\n",
      "4.918878193902106\n",
      "tensor(-117.9407, device='cuda:0', grad_fn=<NegBackward0>) [tensor(-27.4915, device='cuda:0', grad_fn=<NegBackward0>), tensor(-9.2788, device='cuda:0', grad_fn=<NegBackward0>), tensor(-81.1705, device='cuda:0', grad_fn=<AddBackward0>)]\n",
      "4.97635097463633\n",
      "tensor(-117.3339, device='cuda:0', grad_fn=<NegBackward0>) [tensor(-27.4915, device='cuda:0', grad_fn=<NegBackward0>), tensor(-9.1508, device='cuda:0', grad_fn=<NegBackward0>), tensor(-80.6916, device='cuda:0', grad_fn=<AddBackward0>)]\n",
      "5.074639832439367\n",
      "tensor(-117.9377, device='cuda:0', grad_fn=<NegBackward0>) [tensor(-27.6014, device='cuda:0', grad_fn=<NegBackward0>), tensor(-9.2007, device='cuda:0', grad_fn=<NegBackward0>), tensor(-81.1356, device='cuda:0', grad_fn=<AddBackward0>)]\n",
      "4.936427007516474\n",
      "tensor(-117.4429, device='cuda:0', grad_fn=<NegBackward0>) [tensor(-27.6014, device='cuda:0', grad_fn=<NegBackward0>), tensor(-8.9249, device='cuda:0', grad_fn=<NegBackward0>), tensor(-80.9167, device='cuda:0', grad_fn=<AddBackward0>)]\n",
      "5.040442466238933\n",
      "tensor(-115.3113, device='cuda:0', grad_fn=<NegBackward0>) [tensor(-27.8421, device='cuda:0', grad_fn=<NegBackward0>), tensor(-7.3953, device='cuda:0', grad_fn=<NegBackward0>), tensor(-80.0740, device='cuda:0', grad_fn=<AddBackward0>)]\n",
      "5.641406927656955\n",
      "tensor(-116.0082, device='cuda:0', grad_fn=<NegBackward0>) [tensor(-27.8421, device='cuda:0', grad_fn=<NegBackward0>), tensor(-7.6514, device='cuda:0', grad_fn=<NegBackward0>), tensor(-80.5147, device='cuda:0', grad_fn=<AddBackward0>)]\n",
      "5.306341800884704\n",
      "tensor(-117.3021, device='cuda:0', grad_fn=<NegBackward0>) [tensor(-27.9556, device='cuda:0', grad_fn=<NegBackward0>), tensor(-8.3261, device='cuda:0', grad_fn=<NegBackward0>), tensor(-81.0204, device='cuda:0', grad_fn=<AddBackward0>)]\n",
      "5.443468925210016\n",
      "tensor(-118.3835, device='cuda:0', grad_fn=<NegBackward0>) [tensor(-27.9556, device='cuda:0', grad_fn=<NegBackward0>), tensor(-8.8586, device='cuda:0', grad_fn=<NegBackward0>), tensor(-81.5693, device='cuda:0', grad_fn=<AddBackward0>)]\n",
      "5.047620120294264\n",
      "tensor(-118.8128, device='cuda:0', grad_fn=<NegBackward0>) [tensor(-28.1652, device='cuda:0', grad_fn=<NegBackward0>), tensor(-9.2022, device='cuda:0', grad_fn=<NegBackward0>), tensor(-81.4454, device='cuda:0', grad_fn=<AddBackward0>)]\n",
      "6.1369897672468925\n",
      "tensor(-115.5257, device='cuda:0', grad_fn=<NegBackward0>) [tensor(-28.1652, device='cuda:0', grad_fn=<NegBackward0>), tensor(-7.1034, device='cuda:0', grad_fn=<NegBackward0>), tensor(-80.2570, device='cuda:0', grad_fn=<AddBackward0>)]\n",
      "4.94382295319706\n",
      "tensor(-117.8057, device='cuda:0', grad_fn=<NegBackward0>) [tensor(-28.0293, device='cuda:0', grad_fn=<NegBackward0>), tensor(-8.8389, device='cuda:0', grad_fn=<NegBackward0>), tensor(-80.9374, device='cuda:0', grad_fn=<AddBackward0>)]\n",
      "4.877122503424091\n",
      "tensor(-117.6552, device='cuda:0', grad_fn=<NegBackward0>) [tensor(-28.0293, device='cuda:0', grad_fn=<NegBackward0>), tensor(-8.7670, device='cuda:0', grad_fn=<NegBackward0>), tensor(-80.8588, device='cuda:0', grad_fn=<AddBackward0>)]\n",
      "5.6512725000575195\n",
      "tensor(-116.9742, device='cuda:0', grad_fn=<NegBackward0>) [tensor(-28.1074, device='cuda:0', grad_fn=<NegBackward0>), tensor(-7.8554, device='cuda:0', grad_fn=<NegBackward0>), tensor(-81.0113, device='cuda:0', grad_fn=<AddBackward0>)]\n",
      "5.15149874218863\n",
      "tensor(-119.9774, device='cuda:0', grad_fn=<NegBackward0>) [tensor(-28.1074, device='cuda:0', grad_fn=<NegBackward0>), tensor(-9.9252, device='cuda:0', grad_fn=<NegBackward0>), tensor(-81.9449, device='cuda:0', grad_fn=<AddBackward0>)]\n",
      "6.023992365568523\n",
      "tensor(-118.0695, device='cuda:0', grad_fn=<NegBackward0>) [tensor(-28.2145, device='cuda:0', grad_fn=<NegBackward0>), tensor(-8.2783, device='cuda:0', grad_fn=<NegBackward0>), tensor(-81.5767, device='cuda:0', grad_fn=<AddBackward0>)]\n",
      "5.3515378914264655\n",
      "tensor(-117.2686, device='cuda:0', grad_fn=<NegBackward0>) [tensor(-28.2145, device='cuda:0', grad_fn=<NegBackward0>), tensor(-8.2623, device='cuda:0', grad_fn=<NegBackward0>), tensor(-80.7919, device='cuda:0', grad_fn=<AddBackward0>)]\n",
      "5.223232190366817\n",
      "tensor(-118.5603, device='cuda:0', grad_fn=<NegBackward0>) [tensor(-28.4163, device='cuda:0', grad_fn=<NegBackward0>), tensor(-8.8732, device='cuda:0', grad_fn=<NegBackward0>), tensor(-81.2708, device='cuda:0', grad_fn=<AddBackward0>)]\n",
      "5.189602440781408\n",
      "tensor(-118.7705, device='cuda:0', grad_fn=<NegBackward0>) [tensor(-28.4163, device='cuda:0', grad_fn=<NegBackward0>), tensor(-8.6203, device='cuda:0', grad_fn=<NegBackward0>), tensor(-81.7339, device='cuda:0', grad_fn=<AddBackward0>)]\n",
      "5.921746809985164\n",
      "tensor(-118.5718, device='cuda:0', grad_fn=<NegBackward0>) [tensor(-28.6037, device='cuda:0', grad_fn=<NegBackward0>), tensor(-8.4749, device='cuda:0', grad_fn=<NegBackward0>), tensor(-81.4933, device='cuda:0', grad_fn=<AddBackward0>)]\n",
      "6.15217075170457\n",
      "tensor(-117.6970, device='cuda:0', grad_fn=<NegBackward0>) [tensor(-28.6037, device='cuda:0', grad_fn=<NegBackward0>), tensor(-7.5354, device='cuda:0', grad_fn=<NegBackward0>), tensor(-81.5579, device='cuda:0', grad_fn=<AddBackward0>)]\n",
      "4.706032455484488\n",
      "tensor(-119.0436, device='cuda:0', grad_fn=<NegBackward0>) [tensor(-28.6900, device='cuda:0', grad_fn=<NegBackward0>), tensor(-9.2738, device='cuda:0', grad_fn=<NegBackward0>), tensor(-81.0798, device='cuda:0', grad_fn=<AddBackward0>)]\n",
      "4.853171793445481\n",
      "tensor(-119.9170, device='cuda:0', grad_fn=<NegBackward0>) [tensor(-28.6900, device='cuda:0', grad_fn=<NegBackward0>), tensor(-9.5525, device='cuda:0', grad_fn=<NegBackward0>), tensor(-81.6744, device='cuda:0', grad_fn=<AddBackward0>)]\n",
      "5.292646726831754\n",
      "tensor(-117.9400, device='cuda:0', grad_fn=<NegBackward0>) [tensor(-28.6080, device='cuda:0', grad_fn=<NegBackward0>), tensor(-8.1911, device='cuda:0', grad_fn=<NegBackward0>), tensor(-81.1409, device='cuda:0', grad_fn=<AddBackward0>)]\n",
      "4.849727325532068\n",
      "tensor(-120.3761, device='cuda:0', grad_fn=<NegBackward0>) [tensor(-28.6080, device='cuda:0', grad_fn=<NegBackward0>), tensor(-9.8414, device='cuda:0', grad_fn=<NegBackward0>), tensor(-81.9268, device='cuda:0', grad_fn=<AddBackward0>)]\n",
      "6.525706080534425\n",
      "tensor(-117.6633, device='cuda:0', grad_fn=<NegBackward0>) [tensor(-28.6036, device='cuda:0', grad_fn=<NegBackward0>), tensor(-7.4889, device='cuda:0', grad_fn=<NegBackward0>), tensor(-81.5708, device='cuda:0', grad_fn=<AddBackward0>)]\n",
      "4.679127238771192\n",
      "tensor(-117.5045, device='cuda:0', grad_fn=<NegBackward0>) [tensor(-28.6036, device='cuda:0', grad_fn=<NegBackward0>), tensor(-8.4003, device='cuda:0', grad_fn=<NegBackward0>), tensor(-80.5005, device='cuda:0', grad_fn=<AddBackward0>)]\n"
     ]
    },
    {
     "name": "stdout",
     "output_type": "stream",
     "text": [
      "5.19449730869568\n",
      "tensor(-120.3553, device='cuda:0', grad_fn=<NegBackward0>) [tensor(-28.5042, device='cuda:0', grad_fn=<NegBackward0>), tensor(-9.6442, device='cuda:0', grad_fn=<NegBackward0>), tensor(-82.2069, device='cuda:0', grad_fn=<AddBackward0>)]\n",
      "5.37676368390907\n",
      "tensor(-117.8778, device='cuda:0', grad_fn=<NegBackward0>) [tensor(-28.5042, device='cuda:0', grad_fn=<NegBackward0>), tensor(-8.7779, device='cuda:0', grad_fn=<NegBackward0>), tensor(-80.5957, device='cuda:0', grad_fn=<AddBackward0>)]\n",
      "5.265027813322915\n",
      "tensor(-119.1865, device='cuda:0', grad_fn=<NegBackward0>) [tensor(-28.6607, device='cuda:0', grad_fn=<NegBackward0>), tensor(-8.8529, device='cuda:0', grad_fn=<NegBackward0>), tensor(-81.6729, device='cuda:0', grad_fn=<AddBackward0>)]\n",
      "5.176583665443394\n",
      "tensor(-119.5788, device='cuda:0', grad_fn=<NegBackward0>) [tensor(-28.6607, device='cuda:0', grad_fn=<NegBackward0>), tensor(-8.6355, device='cuda:0', grad_fn=<NegBackward0>), tensor(-82.2826, device='cuda:0', grad_fn=<AddBackward0>)]\n",
      "5.072880926872247\n",
      "tensor(-119.7119, device='cuda:0', grad_fn=<NegBackward0>) [tensor(-28.8603, device='cuda:0', grad_fn=<NegBackward0>), tensor(-9.2510, device='cuda:0', grad_fn=<NegBackward0>), tensor(-81.6005, device='cuda:0', grad_fn=<AddBackward0>)]\n",
      "5.198364173561617\n",
      "tensor(-120.0301, device='cuda:0', grad_fn=<NegBackward0>) [tensor(-28.8603, device='cuda:0', grad_fn=<NegBackward0>), tensor(-9.0304, device='cuda:0', grad_fn=<NegBackward0>), tensor(-82.1395, device='cuda:0', grad_fn=<AddBackward0>)]\n",
      "5.422320102827503\n",
      "tensor(-116.8264, device='cuda:0', grad_fn=<NegBackward0>) [tensor(-28.8425, device='cuda:0', grad_fn=<NegBackward0>), tensor(-7.9244, device='cuda:0', grad_fn=<NegBackward0>), tensor(-80.0596, device='cuda:0', grad_fn=<AddBackward0>)]\n",
      "5.117765295002002\n",
      "tensor(-119.7832, device='cuda:0', grad_fn=<NegBackward0>) [tensor(-28.8425, device='cuda:0', grad_fn=<NegBackward0>), tensor(-9.0116, device='cuda:0', grad_fn=<NegBackward0>), tensor(-81.9292, device='cuda:0', grad_fn=<AddBackward0>)]\n",
      "4.811988441482511\n",
      "tensor(-118.7212, device='cuda:0', grad_fn=<NegBackward0>) [tensor(-28.8987, device='cuda:0', grad_fn=<NegBackward0>), tensor(-9.0675, device='cuda:0', grad_fn=<NegBackward0>), tensor(-80.7549, device='cuda:0', grad_fn=<AddBackward0>)]\n",
      "5.7886356671843435\n",
      "tensor(-120.0772, device='cuda:0', grad_fn=<NegBackward0>) [tensor(-28.8987, device='cuda:0', grad_fn=<NegBackward0>), tensor(-8.9240, device='cuda:0', grad_fn=<NegBackward0>), tensor(-82.2545, device='cuda:0', grad_fn=<AddBackward0>)]\n",
      "5.392135522011241\n",
      "tensor(-119.0473, device='cuda:0', grad_fn=<NegBackward0>) [tensor(-29.1485, device='cuda:0', grad_fn=<NegBackward0>), tensor(-8.3295, device='cuda:0', grad_fn=<NegBackward0>), tensor(-81.5694, device='cuda:0', grad_fn=<AddBackward0>)]\n",
      "5.12424668506713\n",
      "tensor(-117.4767, device='cuda:0', grad_fn=<NegBackward0>) [tensor(-29.1485, device='cuda:0', grad_fn=<NegBackward0>), tensor(-7.7470, device='cuda:0', grad_fn=<NegBackward0>), tensor(-80.5813, device='cuda:0', grad_fn=<AddBackward0>)]\n",
      "5.985686317120666\n",
      "tensor(-120.5849, device='cuda:0', grad_fn=<NegBackward0>) [tensor(-29.3554, device='cuda:0', grad_fn=<NegBackward0>), tensor(-8.6483, device='cuda:0', grad_fn=<NegBackward0>), tensor(-82.5811, device='cuda:0', grad_fn=<AddBackward0>)]\n",
      "5.136867790364605\n",
      "tensor(-121.1683, device='cuda:0', grad_fn=<NegBackward0>) [tensor(-29.3554, device='cuda:0', grad_fn=<NegBackward0>), tensor(-9.3547, device='cuda:0', grad_fn=<NegBackward0>), tensor(-82.4581, device='cuda:0', grad_fn=<AddBackward0>)]\n",
      "5.710754234487529\n",
      "tensor(-120.4445, device='cuda:0', grad_fn=<NegBackward0>) [tensor(-29.4532, device='cuda:0', grad_fn=<NegBackward0>), tensor(-8.4236, device='cuda:0', grad_fn=<NegBackward0>), tensor(-82.5678, device='cuda:0', grad_fn=<AddBackward0>)]\n",
      "5.883415984568904\n",
      "tensor(-119.1474, device='cuda:0', grad_fn=<NegBackward0>) [tensor(-29.4532, device='cuda:0', grad_fn=<NegBackward0>), tensor(-7.5840, device='cuda:0', grad_fn=<NegBackward0>), tensor(-82.1102, device='cuda:0', grad_fn=<AddBackward0>)]\n",
      "5.529221142424244\n",
      "tensor(-121.3474, device='cuda:0', grad_fn=<NegBackward0>) [tensor(-29.7414, device='cuda:0', grad_fn=<NegBackward0>), tensor(-8.6259, device='cuda:0', grad_fn=<NegBackward0>), tensor(-82.9801, device='cuda:0', grad_fn=<AddBackward0>)]\n",
      "4.428597698730135\n",
      "tensor(-120.6754, device='cuda:0', grad_fn=<NegBackward0>) [tensor(-29.7414, device='cuda:0', grad_fn=<NegBackward0>), tensor(-9.2934, device='cuda:0', grad_fn=<NegBackward0>), tensor(-81.6405, device='cuda:0', grad_fn=<AddBackward0>)]\n",
      "5.682030983523376\n",
      "tensor(-120.1860, device='cuda:0', grad_fn=<NegBackward0>) [tensor(-29.7241, device='cuda:0', grad_fn=<NegBackward0>), tensor(-8.1724, device='cuda:0', grad_fn=<NegBackward0>), tensor(-82.2895, device='cuda:0', grad_fn=<AddBackward0>)]\n",
      "5.19932835960557\n",
      "tensor(-122.6900, device='cuda:0', grad_fn=<NegBackward0>) [tensor(-29.7241, device='cuda:0', grad_fn=<NegBackward0>), tensor(-9.2557, device='cuda:0', grad_fn=<NegBackward0>), tensor(-83.7103, device='cuda:0', grad_fn=<AddBackward0>)]\n",
      "5.257464734382345\n",
      "tensor(-118.9062, device='cuda:0', grad_fn=<NegBackward0>) [tensor(-29.7594, device='cuda:0', grad_fn=<NegBackward0>), tensor(-7.7350, device='cuda:0', grad_fn=<NegBackward0>), tensor(-81.4117, device='cuda:0', grad_fn=<AddBackward0>)]\n",
      "5.436124558887511\n",
      "tensor(-119.1911, device='cuda:0', grad_fn=<NegBackward0>) [tensor(-29.7594, device='cuda:0', grad_fn=<NegBackward0>), tensor(-8.2085, device='cuda:0', grad_fn=<NegBackward0>), tensor(-81.2232, device='cuda:0', grad_fn=<AddBackward0>)]\n",
      "5.502056565239809\n",
      "tensor(-123.4204, device='cuda:0', grad_fn=<NegBackward0>) [tensor(-29.7491, device='cuda:0', grad_fn=<NegBackward0>), tensor(-10.0203, device='cuda:0', grad_fn=<NegBackward0>), tensor(-83.6509, device='cuda:0', grad_fn=<AddBackward0>)]\n",
      "4.923776783137669\n",
      "tensor(-121.5968, device='cuda:0', grad_fn=<NegBackward0>) [tensor(-29.7491, device='cuda:0', grad_fn=<NegBackward0>), tensor(-9.4995, device='cuda:0', grad_fn=<NegBackward0>), tensor(-82.3481, device='cuda:0', grad_fn=<AddBackward0>)]\n",
      "5.034454798420638\n",
      "tensor(-122.3119, device='cuda:0', grad_fn=<NegBackward0>) [tensor(-29.7751, device='cuda:0', grad_fn=<NegBackward0>), tensor(-9.8843, device='cuda:0', grad_fn=<NegBackward0>), tensor(-82.6525, device='cuda:0', grad_fn=<AddBackward0>)]\n",
      "5.79997486951339\n",
      "tensor(-118.9563, device='cuda:0', grad_fn=<NegBackward0>) [tensor(-29.7751, device='cuda:0', grad_fn=<NegBackward0>), tensor(-7.5214, device='cuda:0', grad_fn=<NegBackward0>), tensor(-81.6598, device='cuda:0', grad_fn=<AddBackward0>)]\n",
      "4.830283753782751\n",
      "tensor(-121.0736, device='cuda:0', grad_fn=<NegBackward0>) [tensor(-29.9580, device='cuda:0', grad_fn=<NegBackward0>), tensor(-8.8612, device='cuda:0', grad_fn=<NegBackward0>), tensor(-82.2543, device='cuda:0', grad_fn=<AddBackward0>)]\n",
      "5.453782506591372\n",
      "tensor(-120.5328, device='cuda:0', grad_fn=<NegBackward0>) [tensor(-29.9580, device='cuda:0', grad_fn=<NegBackward0>), tensor(-7.9741, device='cuda:0', grad_fn=<NegBackward0>), tensor(-82.6007, device='cuda:0', grad_fn=<AddBackward0>)]\n",
      "5.708003836744941\n",
      "tensor(-122.5801, device='cuda:0', grad_fn=<NegBackward0>) [tensor(-30.2424, device='cuda:0', grad_fn=<NegBackward0>), tensor(-8.8727, device='cuda:0', grad_fn=<NegBackward0>), tensor(-83.4651, device='cuda:0', grad_fn=<AddBackward0>)]\n",
      "5.993895072638179\n",
      "tensor(-120.9849, device='cuda:0', grad_fn=<NegBackward0>) [tensor(-30.2424, device='cuda:0', grad_fn=<NegBackward0>), tensor(-7.9341, device='cuda:0', grad_fn=<NegBackward0>), tensor(-82.8084, device='cuda:0', grad_fn=<AddBackward0>)]\n",
      "5.227266196390323\n",
      "tensor(-122.4250, device='cuda:0', grad_fn=<NegBackward0>) [tensor(-30.4062, device='cuda:0', grad_fn=<NegBackward0>), tensor(-9.0534, device='cuda:0', grad_fn=<NegBackward0>), tensor(-82.9654, device='cuda:0', grad_fn=<AddBackward0>)]\n",
      "5.02504380116981\n",
      "tensor(-122.8767, device='cuda:0', grad_fn=<NegBackward0>) [tensor(-30.4062, device='cuda:0', grad_fn=<NegBackward0>), tensor(-9.8992, device='cuda:0', grad_fn=<NegBackward0>), tensor(-82.5713, device='cuda:0', grad_fn=<AddBackward0>)]\n",
      "4.778002722696712\n",
      "tensor(-118.9983, device='cuda:0', grad_fn=<NegBackward0>) [tensor(-30.1643, device='cuda:0', grad_fn=<NegBackward0>), tensor(-7.9684, device='cuda:0', grad_fn=<NegBackward0>), tensor(-80.8655, device='cuda:0', grad_fn=<AddBackward0>)]\n"
     ]
    },
    {
     "name": "stdout",
     "output_type": "stream",
     "text": [
      "5.219657084463668\n",
      "tensor(-121.7674, device='cuda:0', grad_fn=<NegBackward0>) [tensor(-30.1643, device='cuda:0', grad_fn=<NegBackward0>), tensor(-8.5219, device='cuda:0', grad_fn=<NegBackward0>), tensor(-83.0812, device='cuda:0', grad_fn=<AddBackward0>)]\n",
      "5.091981545547129\n",
      "tensor(-122.9658, device='cuda:0', grad_fn=<NegBackward0>) [tensor(-30.4461, device='cuda:0', grad_fn=<NegBackward0>), tensor(-9.3856, device='cuda:0', grad_fn=<NegBackward0>), tensor(-83.1341, device='cuda:0', grad_fn=<AddBackward0>)]\n",
      "5.598305904437279\n",
      "tensor(-121.9719, device='cuda:0', grad_fn=<NegBackward0>) [tensor(-30.4461, device='cuda:0', grad_fn=<NegBackward0>), tensor(-8.6341, device='cuda:0', grad_fn=<NegBackward0>), tensor(-82.8917, device='cuda:0', grad_fn=<AddBackward0>)]\n",
      "4.768276473978167\n",
      "tensor(-122.2162, device='cuda:0', grad_fn=<NegBackward0>) [tensor(-30.5459, device='cuda:0', grad_fn=<NegBackward0>), tensor(-8.8118, device='cuda:0', grad_fn=<NegBackward0>), tensor(-82.8585, device='cuda:0', grad_fn=<AddBackward0>)]\n",
      "4.771768424238024\n",
      "tensor(-123.1590, device='cuda:0', grad_fn=<NegBackward0>) [tensor(-30.5459, device='cuda:0', grad_fn=<NegBackward0>), tensor(-9.5513, device='cuda:0', grad_fn=<NegBackward0>), tensor(-83.0618, device='cuda:0', grad_fn=<AddBackward0>)]\n",
      "5.214100786568063\n",
      "tensor(-121.5954, device='cuda:0', grad_fn=<NegBackward0>) [tensor(-30.6637, device='cuda:0', grad_fn=<NegBackward0>), tensor(-8.5746, device='cuda:0', grad_fn=<NegBackward0>), tensor(-82.3570, device='cuda:0', grad_fn=<AddBackward0>)]\n",
      "5.1489717555348875\n",
      "tensor(-123.6512, device='cuda:0', grad_fn=<NegBackward0>) [tensor(-30.6637, device='cuda:0', grad_fn=<NegBackward0>), tensor(-9.1687, device='cuda:0', grad_fn=<NegBackward0>), tensor(-83.8188, device='cuda:0', grad_fn=<AddBackward0>)]\n",
      "5.268239602254446\n",
      "tensor(-122.0950, device='cuda:0', grad_fn=<NegBackward0>) [tensor(-30.6523, device='cuda:0', grad_fn=<NegBackward0>), tensor(-8.4445, device='cuda:0', grad_fn=<NegBackward0>), tensor(-82.9982, device='cuda:0', grad_fn=<AddBackward0>)]\n",
      "4.805396163700598\n",
      "tensor(-123.6998, device='cuda:0', grad_fn=<NegBackward0>) [tensor(-30.6523, device='cuda:0', grad_fn=<NegBackward0>), tensor(-9.6258, device='cuda:0', grad_fn=<NegBackward0>), tensor(-83.4217, device='cuda:0', grad_fn=<AddBackward0>)]\n",
      "5.138514868885759\n",
      "tensor(-123.4506, device='cuda:0', grad_fn=<NegBackward0>) [tensor(-30.5822, device='cuda:0', grad_fn=<NegBackward0>), tensor(-9.1647, device='cuda:0', grad_fn=<NegBackward0>), tensor(-83.7036, device='cuda:0', grad_fn=<AddBackward0>)]\n",
      "4.286664608796098\n",
      "tensor(-121.5848, device='cuda:0', grad_fn=<NegBackward0>) [tensor(-30.5822, device='cuda:0', grad_fn=<NegBackward0>), tensor(-9.8153, device='cuda:0', grad_fn=<NegBackward0>), tensor(-81.1873, device='cuda:0', grad_fn=<AddBackward0>)]\n",
      "5.553127927636426\n",
      "tensor(-121.7108, device='cuda:0', grad_fn=<NegBackward0>) [tensor(-30.7462, device='cuda:0', grad_fn=<NegBackward0>), tensor(-8.3322, device='cuda:0', grad_fn=<NegBackward0>), tensor(-82.6324, device='cuda:0', grad_fn=<AddBackward0>)]\n",
      "5.0782097891380165\n",
      "tensor(-121.9224, device='cuda:0', grad_fn=<NegBackward0>) [tensor(-30.7462, device='cuda:0', grad_fn=<NegBackward0>), tensor(-8.7783, device='cuda:0', grad_fn=<NegBackward0>), tensor(-82.3980, device='cuda:0', grad_fn=<AddBackward0>)]\n",
      "4.9249008266482495\n",
      "tensor(-122.3158, device='cuda:0', grad_fn=<NegBackward0>) [tensor(-30.8682, device='cuda:0', grad_fn=<NegBackward0>), tensor(-8.3927, device='cuda:0', grad_fn=<NegBackward0>), tensor(-83.0550, device='cuda:0', grad_fn=<AddBackward0>)]\n",
      "4.718774454064419\n",
      "tensor(-121.9044, device='cuda:0', grad_fn=<NegBackward0>) [tensor(-30.8682, device='cuda:0', grad_fn=<NegBackward0>), tensor(-8.8979, device='cuda:0', grad_fn=<NegBackward0>), tensor(-82.1383, device='cuda:0', grad_fn=<AddBackward0>)]\n",
      "4.890333318555421\n",
      "tensor(-123.9940, device='cuda:0', grad_fn=<NegBackward0>) [tensor(-30.9697, device='cuda:0', grad_fn=<NegBackward0>), tensor(-9.2142, device='cuda:0', grad_fn=<NegBackward0>), tensor(-83.8101, device='cuda:0', grad_fn=<AddBackward0>)]\n",
      "5.414735871755328\n",
      "tensor(-122.8490, device='cuda:0', grad_fn=<NegBackward0>) [tensor(-30.9697, device='cuda:0', grad_fn=<NegBackward0>), tensor(-8.7660, device='cuda:0', grad_fn=<NegBackward0>), tensor(-83.1132, device='cuda:0', grad_fn=<AddBackward0>)]\n",
      "5.845577349496313\n",
      "tensor(-121.5443, device='cuda:0', grad_fn=<NegBackward0>) [tensor(-31.1529, device='cuda:0', grad_fn=<NegBackward0>), tensor(-7.8716, device='cuda:0', grad_fn=<NegBackward0>), tensor(-82.5198, device='cuda:0', grad_fn=<AddBackward0>)]\n",
      "5.132048975530387\n",
      "tensor(-124.7324, device='cuda:0', grad_fn=<NegBackward0>) [tensor(-31.1529, device='cuda:0', grad_fn=<NegBackward0>), tensor(-9.2960, device='cuda:0', grad_fn=<NegBackward0>), tensor(-84.2835, device='cuda:0', grad_fn=<AddBackward0>)]\n",
      "4.596241321617752\n",
      "tensor(-123.3164, device='cuda:0', grad_fn=<NegBackward0>) [tensor(-31.1473, device='cuda:0', grad_fn=<NegBackward0>), tensor(-9.6311, device='cuda:0', grad_fn=<NegBackward0>), tensor(-82.5380, device='cuda:0', grad_fn=<AddBackward0>)]\n",
      "5.635169973283573\n",
      "tensor(-122.9570, device='cuda:0', grad_fn=<NegBackward0>) [tensor(-31.1473, device='cuda:0', grad_fn=<NegBackward0>), tensor(-8.3350, device='cuda:0', grad_fn=<NegBackward0>), tensor(-83.4748, device='cuda:0', grad_fn=<AddBackward0>)]\n",
      "5.21469685745054\n",
      "tensor(-122.6066, device='cuda:0', grad_fn=<NegBackward0>) [tensor(-31.1481, device='cuda:0', grad_fn=<NegBackward0>), tensor(-8.1802, device='cuda:0', grad_fn=<NegBackward0>), tensor(-83.2784, device='cuda:0', grad_fn=<AddBackward0>)]\n",
      "5.135765899985529\n",
      "tensor(-121.7387, device='cuda:0', grad_fn=<NegBackward0>) [tensor(-31.1481, device='cuda:0', grad_fn=<NegBackward0>), tensor(-8.5094, device='cuda:0', grad_fn=<NegBackward0>), tensor(-82.0813, device='cuda:0', grad_fn=<AddBackward0>)]\n",
      "4.997269707956434\n",
      "tensor(-123.2329, device='cuda:0', grad_fn=<NegBackward0>) [tensor(-31.1845, device='cuda:0', grad_fn=<NegBackward0>), tensor(-9.0674, device='cuda:0', grad_fn=<NegBackward0>), tensor(-82.9810, device='cuda:0', grad_fn=<AddBackward0>)]\n",
      "5.250856841596483\n",
      "tensor(-123.3040, device='cuda:0', grad_fn=<NegBackward0>) [tensor(-31.1845, device='cuda:0', grad_fn=<NegBackward0>), tensor(-8.9131, device='cuda:0', grad_fn=<NegBackward0>), tensor(-83.2065, device='cuda:0', grad_fn=<AddBackward0>)]\n",
      "5.051615744685898\n",
      "tensor(-124.3616, device='cuda:0', grad_fn=<NegBackward0>) [tensor(-31.1973, device='cuda:0', grad_fn=<NegBackward0>), tensor(-8.7595, device='cuda:0', grad_fn=<NegBackward0>), tensor(-84.4048, device='cuda:0', grad_fn=<AddBackward0>)]\n",
      "4.88528557556974\n",
      "tensor(-125.0290, device='cuda:0', grad_fn=<NegBackward0>) [tensor(-31.1973, device='cuda:0', grad_fn=<NegBackward0>), tensor(-9.9277, device='cuda:0', grad_fn=<NegBackward0>), tensor(-83.9040, device='cuda:0', grad_fn=<AddBackward0>)]\n",
      "4.925934433579174\n",
      "tensor(-122.9719, device='cuda:0', grad_fn=<NegBackward0>) [tensor(-31.2450, device='cuda:0', grad_fn=<NegBackward0>), tensor(-8.7776, device='cuda:0', grad_fn=<NegBackward0>), tensor(-82.9493, device='cuda:0', grad_fn=<AddBackward0>)]\n",
      "5.269851358540979\n",
      "tensor(-124.9317, device='cuda:0', grad_fn=<NegBackward0>) [tensor(-31.2450, device='cuda:0', grad_fn=<NegBackward0>), tensor(-9.6155, device='cuda:0', grad_fn=<NegBackward0>), tensor(-84.0711, device='cuda:0', grad_fn=<AddBackward0>)]\n",
      "5.519648311035183\n",
      "tensor(-121.9828, device='cuda:0', grad_fn=<NegBackward0>) [tensor(-31.2256, device='cuda:0', grad_fn=<NegBackward0>), tensor(-8.3641, device='cuda:0', grad_fn=<NegBackward0>), tensor(-82.3931, device='cuda:0', grad_fn=<AddBackward0>)]\n",
      "5.435162263874944\n",
      "tensor(-122.3214, device='cuda:0', grad_fn=<NegBackward0>) [tensor(-31.2256, device='cuda:0', grad_fn=<NegBackward0>), tensor(-8.3004, device='cuda:0', grad_fn=<NegBackward0>), tensor(-82.7953, device='cuda:0', grad_fn=<AddBackward0>)]\n",
      "5.3663564974947855\n",
      "tensor(-123.7518, device='cuda:0', grad_fn=<NegBackward0>) [tensor(-31.3546, device='cuda:0', grad_fn=<NegBackward0>), tensor(-8.7506, device='cuda:0', grad_fn=<NegBackward0>), tensor(-83.6466, device='cuda:0', grad_fn=<AddBackward0>)]\n",
      "4.822709984300407\n",
      "tensor(-123.2416, device='cuda:0', grad_fn=<NegBackward0>) [tensor(-31.3546, device='cuda:0', grad_fn=<NegBackward0>), tensor(-8.7017, device='cuda:0', grad_fn=<NegBackward0>), tensor(-83.1853, device='cuda:0', grad_fn=<AddBackward0>)]\n"
     ]
    },
    {
     "name": "stdout",
     "output_type": "stream",
     "text": [
      "4.937227339240858\n",
      "tensor(-122.9803, device='cuda:0', grad_fn=<NegBackward0>) [tensor(-31.6531, device='cuda:0', grad_fn=<NegBackward0>), tensor(-8.3372, device='cuda:0', grad_fn=<NegBackward0>), tensor(-82.9899, device='cuda:0', grad_fn=<AddBackward0>)]\n",
      "4.957998195929867\n",
      "tensor(-123.9984, device='cuda:0', grad_fn=<NegBackward0>) [tensor(-31.6531, device='cuda:0', grad_fn=<NegBackward0>), tensor(-8.5553, device='cuda:0', grad_fn=<NegBackward0>), tensor(-83.7900, device='cuda:0', grad_fn=<AddBackward0>)]\n",
      "5.336678119657444\n",
      "tensor(-125.1224, device='cuda:0', grad_fn=<NegBackward0>) [tensor(-31.7468, device='cuda:0', grad_fn=<NegBackward0>), tensor(-9.1415, device='cuda:0', grad_fn=<NegBackward0>), tensor(-84.2341, device='cuda:0', grad_fn=<AddBackward0>)]\n",
      "5.195722544866945\n",
      "tensor(-123.0399, device='cuda:0', grad_fn=<NegBackward0>) [tensor(-31.7468, device='cuda:0', grad_fn=<NegBackward0>), tensor(-8.0676, device='cuda:0', grad_fn=<NegBackward0>), tensor(-83.2255, device='cuda:0', grad_fn=<AddBackward0>)]\n",
      "4.606281395934027\n",
      "tensor(-124.3364, device='cuda:0', grad_fn=<NegBackward0>) [tensor(-31.9706, device='cuda:0', grad_fn=<NegBackward0>), tensor(-9.3641, device='cuda:0', grad_fn=<NegBackward0>), tensor(-83.0018, device='cuda:0', grad_fn=<AddBackward0>)]\n",
      "4.736835718742935\n",
      "tensor(-124.9476, device='cuda:0', grad_fn=<NegBackward0>) [tensor(-31.9706, device='cuda:0', grad_fn=<NegBackward0>), tensor(-9.2693, device='cuda:0', grad_fn=<NegBackward0>), tensor(-83.7077, device='cuda:0', grad_fn=<AddBackward0>)]\n",
      "4.913091278945639\n",
      "tensor(-126.6564, device='cuda:0', grad_fn=<NegBackward0>) [tensor(-31.9533, device='cuda:0', grad_fn=<NegBackward0>), tensor(-9.9937, device='cuda:0', grad_fn=<NegBackward0>), tensor(-84.7094, device='cuda:0', grad_fn=<AddBackward0>)]\n",
      "4.997261440561457\n",
      "tensor(-123.2137, device='cuda:0', grad_fn=<NegBackward0>) [tensor(-31.9533, device='cuda:0', grad_fn=<NegBackward0>), tensor(-8.3178, device='cuda:0', grad_fn=<NegBackward0>), tensor(-82.9426, device='cuda:0', grad_fn=<AddBackward0>)]\n",
      "5.008974067651246\n",
      "tensor(-126.2585, device='cuda:0', grad_fn=<NegBackward0>) [tensor(-32.0729, device='cuda:0', grad_fn=<NegBackward0>), tensor(-9.7020, device='cuda:0', grad_fn=<NegBackward0>), tensor(-84.4836, device='cuda:0', grad_fn=<AddBackward0>)]\n",
      "5.141633531140389\n",
      "tensor(-123.5487, device='cuda:0', grad_fn=<NegBackward0>) [tensor(-32.0729, device='cuda:0', grad_fn=<NegBackward0>), tensor(-8.2709, device='cuda:0', grad_fn=<NegBackward0>), tensor(-83.2049, device='cuda:0', grad_fn=<AddBackward0>)]\n",
      "5.042567320506674\n",
      "tensor(-124.9772, device='cuda:0', grad_fn=<NegBackward0>) [tensor(-32.1581, device='cuda:0', grad_fn=<NegBackward0>), tensor(-9.1293, device='cuda:0', grad_fn=<NegBackward0>), tensor(-83.6898, device='cuda:0', grad_fn=<AddBackward0>)]\n",
      "5.025500602037811\n",
      "tensor(-123.2439, device='cuda:0', grad_fn=<NegBackward0>) [tensor(-32.1581, device='cuda:0', grad_fn=<NegBackward0>), tensor(-7.9910, device='cuda:0', grad_fn=<NegBackward0>), tensor(-83.0948, device='cuda:0', grad_fn=<AddBackward0>)]\n",
      "5.210922542350063\n",
      "tensor(-125.0100, device='cuda:0', grad_fn=<NegBackward0>) [tensor(-32.2054, device='cuda:0', grad_fn=<NegBackward0>), tensor(-9.0850, device='cuda:0', grad_fn=<NegBackward0>), tensor(-83.7197, device='cuda:0', grad_fn=<AddBackward0>)]\n",
      "5.1820342908759915\n",
      "tensor(-123.6791, device='cuda:0', grad_fn=<NegBackward0>) [tensor(-32.2054, device='cuda:0', grad_fn=<NegBackward0>), tensor(-8.2369, device='cuda:0', grad_fn=<NegBackward0>), tensor(-83.2367, device='cuda:0', grad_fn=<AddBackward0>)]\n",
      "4.798193725545409\n",
      "tensor(-126.1961, device='cuda:0', grad_fn=<NegBackward0>) [tensor(-32.3191, device='cuda:0', grad_fn=<NegBackward0>), tensor(-10.1412, device='cuda:0', grad_fn=<NegBackward0>), tensor(-83.7358, device='cuda:0', grad_fn=<AddBackward0>)]\n",
      "5.381442766849252\n",
      "tensor(-123.7043, device='cuda:0', grad_fn=<NegBackward0>) [tensor(-32.3191, device='cuda:0', grad_fn=<NegBackward0>), tensor(-8.3496, device='cuda:0', grad_fn=<NegBackward0>), tensor(-83.0355, device='cuda:0', grad_fn=<AddBackward0>)]\n",
      "4.987550099770638\n",
      "tensor(-124.9112, device='cuda:0', grad_fn=<NegBackward0>) [tensor(-32.3277, device='cuda:0', grad_fn=<NegBackward0>), tensor(-8.7589, device='cuda:0', grad_fn=<NegBackward0>), tensor(-83.8246, device='cuda:0', grad_fn=<AddBackward0>)]\n",
      "5.112954741050822\n",
      "tensor(-125.2117, device='cuda:0', grad_fn=<NegBackward0>) [tensor(-32.3277, device='cuda:0', grad_fn=<NegBackward0>), tensor(-8.9080, device='cuda:0', grad_fn=<NegBackward0>), tensor(-83.9760, device='cuda:0', grad_fn=<AddBackward0>)]\n",
      "4.99957471707224\n",
      "tensor(-126.7253, device='cuda:0', grad_fn=<NegBackward0>) [tensor(-32.2129, device='cuda:0', grad_fn=<NegBackward0>), tensor(-9.7865, device='cuda:0', grad_fn=<NegBackward0>), tensor(-84.7258, device='cuda:0', grad_fn=<AddBackward0>)]\n",
      "5.155578346590925\n",
      "tensor(-124.3259, device='cuda:0', grad_fn=<NegBackward0>) [tensor(-32.2129, device='cuda:0', grad_fn=<NegBackward0>), tensor(-8.6795, device='cuda:0', grad_fn=<NegBackward0>), tensor(-83.4334, device='cuda:0', grad_fn=<AddBackward0>)]\n",
      "5.587714457008793\n",
      "tensor(-124.3759, device='cuda:0', grad_fn=<NegBackward0>) [tensor(-32.1519, device='cuda:0', grad_fn=<NegBackward0>), tensor(-8.4964, device='cuda:0', grad_fn=<NegBackward0>), tensor(-83.7276, device='cuda:0', grad_fn=<AddBackward0>)]\n",
      "5.178767148423989\n",
      "tensor(-126.0979, device='cuda:0', grad_fn=<NegBackward0>) [tensor(-32.1519, device='cuda:0', grad_fn=<NegBackward0>), tensor(-9.1994, device='cuda:0', grad_fn=<NegBackward0>), tensor(-84.7466, device='cuda:0', grad_fn=<AddBackward0>)]\n",
      "4.694865492803511\n",
      "tensor(-126.4473, device='cuda:0', grad_fn=<NegBackward0>) [tensor(-32.2863, device='cuda:0', grad_fn=<NegBackward0>), tensor(-9.8742, device='cuda:0', grad_fn=<NegBackward0>), tensor(-84.2868, device='cuda:0', grad_fn=<AddBackward0>)]\n",
      "4.933139190534153\n",
      "tensor(-123.9912, device='cuda:0', grad_fn=<NegBackward0>) [tensor(-32.2863, device='cuda:0', grad_fn=<NegBackward0>), tensor(-8.3471, device='cuda:0', grad_fn=<NegBackward0>), tensor(-83.3578, device='cuda:0', grad_fn=<AddBackward0>)]\n",
      "4.560466483159006\n",
      "tensor(-126.8607, device='cuda:0', grad_fn=<NegBackward0>) [tensor(-32.4196, device='cuda:0', grad_fn=<NegBackward0>), tensor(-10.2656, device='cuda:0', grad_fn=<NegBackward0>), tensor(-84.1755, device='cuda:0', grad_fn=<AddBackward0>)]\n",
      "4.666954630142429\n",
      "tensor(-127.1942, device='cuda:0', grad_fn=<NegBackward0>) [tensor(-32.4196, device='cuda:0', grad_fn=<NegBackward0>), tensor(-9.6143, device='cuda:0', grad_fn=<NegBackward0>), tensor(-85.1603, device='cuda:0', grad_fn=<AddBackward0>)]\n",
      "5.305142974735977\n",
      "tensor(-126.4925, device='cuda:0', grad_fn=<NegBackward0>) [tensor(-32.6137, device='cuda:0', grad_fn=<NegBackward0>), tensor(-9.2173, device='cuda:0', grad_fn=<NegBackward0>), tensor(-84.6616, device='cuda:0', grad_fn=<AddBackward0>)]\n",
      "4.765701988059252\n",
      "tensor(-125.3015, device='cuda:0', grad_fn=<NegBackward0>) [tensor(-32.6137, device='cuda:0', grad_fn=<NegBackward0>), tensor(-8.7167, device='cuda:0', grad_fn=<NegBackward0>), tensor(-83.9711, device='cuda:0', grad_fn=<AddBackward0>)]\n",
      "5.370635779781928\n",
      "tensor(-124.5859, device='cuda:0', grad_fn=<NegBackward0>) [tensor(-32.7856, device='cuda:0', grad_fn=<NegBackward0>), tensor(-8.2288, device='cuda:0', grad_fn=<NegBackward0>), tensor(-83.5715, device='cuda:0', grad_fn=<AddBackward0>)]\n",
      "5.059877097838904\n",
      "tensor(-125.7682, device='cuda:0', grad_fn=<NegBackward0>) [tensor(-32.7856, device='cuda:0', grad_fn=<NegBackward0>), tensor(-8.6940, device='cuda:0', grad_fn=<NegBackward0>), tensor(-84.2885, device='cuda:0', grad_fn=<AddBackward0>)]\n",
      "5.308102832207837\n",
      "tensor(-126.1619, device='cuda:0', grad_fn=<NegBackward0>) [tensor(-32.8182, device='cuda:0', grad_fn=<NegBackward0>), tensor(-8.7599, device='cuda:0', grad_fn=<NegBackward0>), tensor(-84.5837, device='cuda:0', grad_fn=<AddBackward0>)]\n",
      "5.218182517659834\n",
      "tensor(-127.0249, device='cuda:0', grad_fn=<NegBackward0>) [tensor(-32.8182, device='cuda:0', grad_fn=<NegBackward0>), tensor(-9.3713, device='cuda:0', grad_fn=<NegBackward0>), tensor(-84.8354, device='cuda:0', grad_fn=<AddBackward0>)]\n",
      "4.852991658927768\n",
      "tensor(-125.1250, device='cuda:0', grad_fn=<NegBackward0>) [tensor(-32.6328, device='cuda:0', grad_fn=<NegBackward0>), tensor(-9.1827, device='cuda:0', grad_fn=<NegBackward0>), tensor(-83.3094, device='cuda:0', grad_fn=<AddBackward0>)]\n"
     ]
    },
    {
     "name": "stdout",
     "output_type": "stream",
     "text": [
      "5.035229491658012\n",
      "tensor(-125.4140, device='cuda:0', grad_fn=<NegBackward0>) [tensor(-32.6328, device='cuda:0', grad_fn=<NegBackward0>), tensor(-8.7033, device='cuda:0', grad_fn=<NegBackward0>), tensor(-84.0779, device='cuda:0', grad_fn=<AddBackward0>)]\n",
      "5.1006955185110545\n",
      "tensor(-124.1255, device='cuda:0', grad_fn=<NegBackward0>) [tensor(-32.4111, device='cuda:0', grad_fn=<NegBackward0>), tensor(-8.5340, device='cuda:0', grad_fn=<NegBackward0>), tensor(-83.1803, device='cuda:0', grad_fn=<AddBackward0>)]\n",
      "4.900533886414135\n",
      "tensor(-125.3811, device='cuda:0', grad_fn=<NegBackward0>) [tensor(-32.4111, device='cuda:0', grad_fn=<NegBackward0>), tensor(-9.2598, device='cuda:0', grad_fn=<NegBackward0>), tensor(-83.7102, device='cuda:0', grad_fn=<AddBackward0>)]\n",
      "4.566561516489557\n",
      "tensor(-125.9466, device='cuda:0', grad_fn=<NegBackward0>) [tensor(-32.4965, device='cuda:0', grad_fn=<NegBackward0>), tensor(-9.3185, device='cuda:0', grad_fn=<NegBackward0>), tensor(-84.1317, device='cuda:0', grad_fn=<AddBackward0>)]\n",
      "4.966022903790054\n",
      "tensor(-127.1019, device='cuda:0', grad_fn=<NegBackward0>) [tensor(-32.4965, device='cuda:0', grad_fn=<NegBackward0>), tensor(-9.7488, device='cuda:0', grad_fn=<NegBackward0>), tensor(-84.8567, device='cuda:0', grad_fn=<AddBackward0>)]\n",
      "5.104153376100998\n",
      "tensor(-125.7992, device='cuda:0', grad_fn=<NegBackward0>) [tensor(-32.7607, device='cuda:0', grad_fn=<NegBackward0>), tensor(-9.0697, device='cuda:0', grad_fn=<NegBackward0>), tensor(-83.9688, device='cuda:0', grad_fn=<AddBackward0>)]\n",
      "4.61740529137214\n",
      "tensor(-126.7036, device='cuda:0', grad_fn=<NegBackward0>) [tensor(-32.7607, device='cuda:0', grad_fn=<NegBackward0>), tensor(-9.7856, device='cuda:0', grad_fn=<NegBackward0>), tensor(-84.1574, device='cuda:0', grad_fn=<AddBackward0>)]\n",
      "5.076511388256366\n",
      "tensor(-125.5902, device='cuda:0', grad_fn=<NegBackward0>) [tensor(-32.9843, device='cuda:0', grad_fn=<NegBackward0>), tensor(-8.3527, device='cuda:0', grad_fn=<NegBackward0>), tensor(-84.2532, device='cuda:0', grad_fn=<AddBackward0>)]\n",
      "4.696803542055719\n",
      "tensor(-127.1412, device='cuda:0', grad_fn=<NegBackward0>) [tensor(-32.9843, device='cuda:0', grad_fn=<NegBackward0>), tensor(-9.6582, device='cuda:0', grad_fn=<NegBackward0>), tensor(-84.4987, device='cuda:0', grad_fn=<AddBackward0>)]\n",
      "4.709776191870571\n",
      "tensor(-127.5816, device='cuda:0', grad_fn=<NegBackward0>) [tensor(-33.0504, device='cuda:0', grad_fn=<NegBackward0>), tensor(-9.7911, device='cuda:0', grad_fn=<NegBackward0>), tensor(-84.7401, device='cuda:0', grad_fn=<AddBackward0>)]\n",
      "4.889996099990582\n",
      "tensor(-124.4512, device='cuda:0', grad_fn=<NegBackward0>) [tensor(-33.0504, device='cuda:0', grad_fn=<NegBackward0>), tensor(-8.0196, device='cuda:0', grad_fn=<NegBackward0>), tensor(-83.3813, device='cuda:0', grad_fn=<AddBackward0>)]\n",
      "4.998812946359831\n",
      "tensor(-127.5194, device='cuda:0', grad_fn=<NegBackward0>) [tensor(-33.2549, device='cuda:0', grad_fn=<NegBackward0>), tensor(-9.2448, device='cuda:0', grad_fn=<NegBackward0>), tensor(-85.0197, device='cuda:0', grad_fn=<AddBackward0>)]\n",
      "4.569820498023189\n",
      "tensor(-126.7128, device='cuda:0', grad_fn=<NegBackward0>) [tensor(-33.2549, device='cuda:0', grad_fn=<NegBackward0>), tensor(-9.1146, device='cuda:0', grad_fn=<NegBackward0>), tensor(-84.3433, device='cuda:0', grad_fn=<AddBackward0>)]\n",
      "4.7767557431024095\n",
      "tensor(-125.6854, device='cuda:0', grad_fn=<NegBackward0>) [tensor(-33.3274, device='cuda:0', grad_fn=<NegBackward0>), tensor(-8.4152, device='cuda:0', grad_fn=<NegBackward0>), tensor(-83.9428, device='cuda:0', grad_fn=<AddBackward0>)]\n",
      "4.736948798150498\n",
      "tensor(-127.1643, device='cuda:0', grad_fn=<NegBackward0>) [tensor(-33.3274, device='cuda:0', grad_fn=<NegBackward0>), tensor(-9.2139, device='cuda:0', grad_fn=<NegBackward0>), tensor(-84.6230, device='cuda:0', grad_fn=<AddBackward0>)]\n",
      "5.18864037960387\n",
      "tensor(-127.1556, device='cuda:0', grad_fn=<NegBackward0>) [tensor(-33.3536, device='cuda:0', grad_fn=<NegBackward0>), tensor(-8.9858, device='cuda:0', grad_fn=<NegBackward0>), tensor(-84.8162, device='cuda:0', grad_fn=<AddBackward0>)]\n",
      "4.864699565450922\n",
      "tensor(-127.5984, device='cuda:0', grad_fn=<NegBackward0>) [tensor(-33.3536, device='cuda:0', grad_fn=<NegBackward0>), tensor(-9.7444, device='cuda:0', grad_fn=<NegBackward0>), tensor(-84.5004, device='cuda:0', grad_fn=<AddBackward0>)]\n",
      "4.788070308318336\n",
      "tensor(-123.8778, device='cuda:0', grad_fn=<NegBackward0>) [tensor(-33.1084, device='cuda:0', grad_fn=<NegBackward0>), tensor(-7.9298, device='cuda:0', grad_fn=<NegBackward0>), tensor(-82.8396, device='cuda:0', grad_fn=<AddBackward0>)]\n",
      "4.524252094975724\n",
      "tensor(-126.8036, device='cuda:0', grad_fn=<NegBackward0>) [tensor(-33.1084, device='cuda:0', grad_fn=<NegBackward0>), tensor(-9.5753, device='cuda:0', grad_fn=<NegBackward0>), tensor(-84.1199, device='cuda:0', grad_fn=<AddBackward0>)]\n",
      "5.118878934154092\n",
      "tensor(-126.0807, device='cuda:0', grad_fn=<NegBackward0>) [tensor(-32.7971, device='cuda:0', grad_fn=<NegBackward0>), tensor(-8.8213, device='cuda:0', grad_fn=<NegBackward0>), tensor(-84.4623, device='cuda:0', grad_fn=<AddBackward0>)]\n",
      "4.824126745690899\n",
      "tensor(-125.7370, device='cuda:0', grad_fn=<NegBackward0>) [tensor(-32.7971, device='cuda:0', grad_fn=<NegBackward0>), tensor(-9.0361, device='cuda:0', grad_fn=<NegBackward0>), tensor(-83.9038, device='cuda:0', grad_fn=<AddBackward0>)]\n",
      "4.805395661740141\n",
      "tensor(-126.7009, device='cuda:0', grad_fn=<NegBackward0>) [tensor(-32.9935, device='cuda:0', grad_fn=<NegBackward0>), tensor(-9.3146, device='cuda:0', grad_fn=<NegBackward0>), tensor(-84.3929, device='cuda:0', grad_fn=<AddBackward0>)]\n",
      "4.6777988757735915\n",
      "tensor(-126.9453, device='cuda:0', grad_fn=<NegBackward0>) [tensor(-32.9935, device='cuda:0', grad_fn=<NegBackward0>), tensor(-9.7328, device='cuda:0', grad_fn=<NegBackward0>), tensor(-84.2190, device='cuda:0', grad_fn=<AddBackward0>)]\n",
      "5.408548386853694\n",
      "tensor(-127.5399, device='cuda:0', grad_fn=<NegBackward0>) [tensor(-33.1148, device='cuda:0', grad_fn=<NegBackward0>), tensor(-9.2051, device='cuda:0', grad_fn=<NegBackward0>), tensor(-85.2200, device='cuda:0', grad_fn=<AddBackward0>)]\n",
      "5.453791747483315\n",
      "tensor(-126.8879, device='cuda:0', grad_fn=<NegBackward0>) [tensor(-33.1148, device='cuda:0', grad_fn=<NegBackward0>), tensor(-8.9290, device='cuda:0', grad_fn=<NegBackward0>), tensor(-84.8442, device='cuda:0', grad_fn=<AddBackward0>)]\n",
      "4.799734401249467\n",
      "tensor(-125.7213, device='cuda:0', grad_fn=<NegBackward0>) [tensor(-33.1506, device='cuda:0', grad_fn=<NegBackward0>), tensor(-8.7819, device='cuda:0', grad_fn=<NegBackward0>), tensor(-83.7888, device='cuda:0', grad_fn=<AddBackward0>)]\n",
      "4.7150189256493205\n",
      "tensor(-125.4742, device='cuda:0', grad_fn=<NegBackward0>) [tensor(-33.1506, device='cuda:0', grad_fn=<NegBackward0>), tensor(-9.1891, device='cuda:0', grad_fn=<NegBackward0>), tensor(-83.1346, device='cuda:0', grad_fn=<AddBackward0>)]\n",
      "4.829961503923298\n",
      "tensor(-127.0352, device='cuda:0', grad_fn=<NegBackward0>) [tensor(-33.2715, device='cuda:0', grad_fn=<NegBackward0>), tensor(-8.9303, device='cuda:0', grad_fn=<NegBackward0>), tensor(-84.8334, device='cuda:0', grad_fn=<AddBackward0>)]\n",
      "4.870423710698922\n",
      "tensor(-125.6705, device='cuda:0', grad_fn=<NegBackward0>) [tensor(-33.2715, device='cuda:0', grad_fn=<NegBackward0>), tensor(-8.5841, device='cuda:0', grad_fn=<NegBackward0>), tensor(-83.8149, device='cuda:0', grad_fn=<AddBackward0>)]\n",
      "5.1587006978916685\n",
      "tensor(-127.5039, device='cuda:0', grad_fn=<NegBackward0>) [tensor(-33.4160, device='cuda:0', grad_fn=<NegBackward0>), tensor(-8.9772, device='cuda:0', grad_fn=<NegBackward0>), tensor(-85.1107, device='cuda:0', grad_fn=<AddBackward0>)]\n",
      "4.801316484197102\n",
      "tensor(-127.9648, device='cuda:0', grad_fn=<NegBackward0>) [tensor(-33.4160, device='cuda:0', grad_fn=<NegBackward0>), tensor(-9.8673, device='cuda:0', grad_fn=<NegBackward0>), tensor(-84.6815, device='cuda:0', grad_fn=<AddBackward0>)]\n",
      "5.127783748867536\n",
      "tensor(-125.2955, device='cuda:0', grad_fn=<NegBackward0>) [tensor(-33.4236, device='cuda:0', grad_fn=<NegBackward0>), tensor(-7.9940, device='cuda:0', grad_fn=<NegBackward0>), tensor(-83.8780, device='cuda:0', grad_fn=<AddBackward0>)]\n",
      "4.716978808329088\n",
      "tensor(-129.1647, device='cuda:0', grad_fn=<NegBackward0>) [tensor(-33.4236, device='cuda:0', grad_fn=<NegBackward0>), tensor(-9.7711, device='cuda:0', grad_fn=<NegBackward0>), tensor(-85.9701, device='cuda:0', grad_fn=<AddBackward0>)]\n"
     ]
    },
    {
     "name": "stdout",
     "output_type": "stream",
     "text": [
      "5.142421763962663\n",
      "tensor(-126.5056, device='cuda:0', grad_fn=<NegBackward0>) [tensor(-33.5232, device='cuda:0', grad_fn=<NegBackward0>), tensor(-8.2873, device='cuda:0', grad_fn=<NegBackward0>), tensor(-84.6952, device='cuda:0', grad_fn=<AddBackward0>)]\n",
      "4.930382338338248\n",
      "tensor(-127.2167, device='cuda:0', grad_fn=<NegBackward0>) [tensor(-33.5232, device='cuda:0', grad_fn=<NegBackward0>), tensor(-9.0927, device='cuda:0', grad_fn=<NegBackward0>), tensor(-84.6008, device='cuda:0', grad_fn=<AddBackward0>)]\n",
      "4.389573657567699\n",
      "tensor(-125.2386, device='cuda:0', grad_fn=<NegBackward0>) [tensor(-33.8430, device='cuda:0', grad_fn=<NegBackward0>), tensor(-8.6330, device='cuda:0', grad_fn=<NegBackward0>), tensor(-82.7626, device='cuda:0', grad_fn=<AddBackward0>)]\n",
      "5.2437109830490956\n",
      "tensor(-126.0520, device='cuda:0', grad_fn=<NegBackward0>) [tensor(-33.8430, device='cuda:0', grad_fn=<NegBackward0>), tensor(-8.0935, device='cuda:0', grad_fn=<NegBackward0>), tensor(-84.1155, device='cuda:0', grad_fn=<AddBackward0>)]\n",
      "5.411404971148577\n",
      "tensor(-125.9949, device='cuda:0', grad_fn=<NegBackward0>) [tensor(-33.9371, device='cuda:0', grad_fn=<NegBackward0>), tensor(-8.1052, device='cuda:0', grad_fn=<NegBackward0>), tensor(-83.9526, device='cuda:0', grad_fn=<AddBackward0>)]\n",
      "5.240395154637509\n",
      "tensor(-129.4999, device='cuda:0', grad_fn=<NegBackward0>) [tensor(-33.9371, device='cuda:0', grad_fn=<NegBackward0>), tensor(-9.6225, device='cuda:0', grad_fn=<NegBackward0>), tensor(-85.9403, device='cuda:0', grad_fn=<AddBackward0>)]\n",
      "4.501970759491771\n",
      "tensor(-126.3736, device='cuda:0', grad_fn=<NegBackward0>) [tensor(-33.9968, device='cuda:0', grad_fn=<NegBackward0>), tensor(-8.7726, device='cuda:0', grad_fn=<NegBackward0>), tensor(-83.6042, device='cuda:0', grad_fn=<AddBackward0>)]\n",
      "4.818517942078528\n",
      "tensor(-129.5814, device='cuda:0', grad_fn=<NegBackward0>) [tensor(-33.9968, device='cuda:0', grad_fn=<NegBackward0>), tensor(-9.9182, device='cuda:0', grad_fn=<NegBackward0>), tensor(-85.6664, device='cuda:0', grad_fn=<AddBackward0>)]\n",
      "5.100923610978851\n",
      "tensor(-126.9089, device='cuda:0', grad_fn=<NegBackward0>) [tensor(-33.8539, device='cuda:0', grad_fn=<NegBackward0>), tensor(-8.5024, device='cuda:0', grad_fn=<NegBackward0>), tensor(-84.5526, device='cuda:0', grad_fn=<AddBackward0>)]\n",
      "5.363694165272864\n",
      "tensor(-128.5002, device='cuda:0', grad_fn=<NegBackward0>) [tensor(-33.8539, device='cuda:0', grad_fn=<NegBackward0>), tensor(-8.9894, device='cuda:0', grad_fn=<NegBackward0>), tensor(-85.6568, device='cuda:0', grad_fn=<AddBackward0>)]\n",
      "4.761658162955039\n",
      "tensor(-127.9162, device='cuda:0', grad_fn=<NegBackward0>) [tensor(-33.9815, device='cuda:0', grad_fn=<NegBackward0>), tensor(-9.3284, device='cuda:0', grad_fn=<NegBackward0>), tensor(-84.6062, device='cuda:0', grad_fn=<AddBackward0>)]\n",
      "5.064917971772735\n",
      "tensor(-129.2270, device='cuda:0', grad_fn=<NegBackward0>) [tensor(-33.9815, device='cuda:0', grad_fn=<NegBackward0>), tensor(-9.4351, device='cuda:0', grad_fn=<NegBackward0>), tensor(-85.8103, device='cuda:0', grad_fn=<AddBackward0>)]\n",
      "4.688625389455804\n",
      "tensor(-127.0225, device='cuda:0', grad_fn=<NegBackward0>) [tensor(-33.9700, device='cuda:0', grad_fn=<NegBackward0>), tensor(-8.7553, device='cuda:0', grad_fn=<NegBackward0>), tensor(-84.2972, device='cuda:0', grad_fn=<AddBackward0>)]\n",
      "4.734846208564138\n",
      "tensor(-127.0934, device='cuda:0', grad_fn=<NegBackward0>) [tensor(-33.9700, device='cuda:0', grad_fn=<NegBackward0>), tensor(-8.5946, device='cuda:0', grad_fn=<NegBackward0>), tensor(-84.5288, device='cuda:0', grad_fn=<AddBackward0>)]\n",
      "4.760078557810619\n",
      "tensor(-126.4682, device='cuda:0', grad_fn=<NegBackward0>) [tensor(-33.9909, device='cuda:0', grad_fn=<NegBackward0>), tensor(-8.7624, device='cuda:0', grad_fn=<NegBackward0>), tensor(-83.7148, device='cuda:0', grad_fn=<AddBackward0>)]\n",
      "4.653174936500728\n",
      "tensor(-127.4224, device='cuda:0', grad_fn=<NegBackward0>) [tensor(-33.9909, device='cuda:0', grad_fn=<NegBackward0>), tensor(-9.1643, device='cuda:0', grad_fn=<NegBackward0>), tensor(-84.2671, device='cuda:0', grad_fn=<AddBackward0>)]\n",
      "4.84431423913206\n",
      "tensor(-130.4136, device='cuda:0', grad_fn=<NegBackward0>) [tensor(-34.0033, device='cuda:0', grad_fn=<NegBackward0>), tensor(-9.5538, device='cuda:0', grad_fn=<NegBackward0>), tensor(-86.8564, device='cuda:0', grad_fn=<AddBackward0>)]\n",
      "5.267696295035571\n",
      "tensor(-126.3066, device='cuda:0', grad_fn=<NegBackward0>) [tensor(-34.0033, device='cuda:0', grad_fn=<NegBackward0>), tensor(-7.8501, device='cuda:0', grad_fn=<NegBackward0>), tensor(-84.4532, device='cuda:0', grad_fn=<AddBackward0>)]\n",
      "4.8621615419352775\n",
      "tensor(-128.2567, device='cuda:0', grad_fn=<NegBackward0>) [tensor(-33.9915, device='cuda:0', grad_fn=<NegBackward0>), tensor(-9.0603, device='cuda:0', grad_fn=<NegBackward0>), tensor(-85.2049, device='cuda:0', grad_fn=<AddBackward0>)]\n",
      "5.255308952458923\n",
      "tensor(-129.0737, device='cuda:0', grad_fn=<NegBackward0>) [tensor(-33.9915, device='cuda:0', grad_fn=<NegBackward0>), tensor(-9.3855, device='cuda:0', grad_fn=<NegBackward0>), tensor(-85.6967, device='cuda:0', grad_fn=<AddBackward0>)]\n",
      "5.090568492167868\n",
      "tensor(-128.9510, device='cuda:0', grad_fn=<NegBackward0>) [tensor(-34.1734, device='cuda:0', grad_fn=<NegBackward0>), tensor(-9.4173, device='cuda:0', grad_fn=<NegBackward0>), tensor(-85.3603, device='cuda:0', grad_fn=<AddBackward0>)]\n",
      "5.066843228480729\n",
      "tensor(-129.2377, device='cuda:0', grad_fn=<NegBackward0>) [tensor(-34.1734, device='cuda:0', grad_fn=<NegBackward0>), tensor(-9.2228, device='cuda:0', grad_fn=<NegBackward0>), tensor(-85.8415, device='cuda:0', grad_fn=<AddBackward0>)]\n",
      "5.702221544507122\n",
      "tensor(-127.4581, device='cuda:0', grad_fn=<NegBackward0>) [tensor(-34.2368, device='cuda:0', grad_fn=<NegBackward0>), tensor(-8.4440, device='cuda:0', grad_fn=<NegBackward0>), tensor(-84.7772, device='cuda:0', grad_fn=<AddBackward0>)]\n",
      "5.087601530535241\n",
      "tensor(-127.3898, device='cuda:0', grad_fn=<NegBackward0>) [tensor(-34.2368, device='cuda:0', grad_fn=<NegBackward0>), tensor(-8.4203, device='cuda:0', grad_fn=<NegBackward0>), tensor(-84.7327, device='cuda:0', grad_fn=<AddBackward0>)]\n",
      "4.490300849530691\n",
      "tensor(-128.5300, device='cuda:0', grad_fn=<NegBackward0>) [tensor(-34.3184, device='cuda:0', grad_fn=<NegBackward0>), tensor(-9.3616, device='cuda:0', grad_fn=<NegBackward0>), tensor(-84.8500, device='cuda:0', grad_fn=<AddBackward0>)]\n",
      "4.536078131562621\n",
      "tensor(-128.2832, device='cuda:0', grad_fn=<NegBackward0>) [tensor(-34.3184, device='cuda:0', grad_fn=<NegBackward0>), tensor(-9.3313, device='cuda:0', grad_fn=<NegBackward0>), tensor(-84.6335, device='cuda:0', grad_fn=<AddBackward0>)]\n",
      "4.899360643596219\n",
      "tensor(-127.2885, device='cuda:0', grad_fn=<NegBackward0>) [tensor(-34.0446, device='cuda:0', grad_fn=<NegBackward0>), tensor(-8.2852, device='cuda:0', grad_fn=<NegBackward0>), tensor(-84.9587, device='cuda:0', grad_fn=<AddBackward0>)]\n",
      "4.853569234345041\n",
      "tensor(-130.0446, device='cuda:0', grad_fn=<NegBackward0>) [tensor(-34.0446, device='cuda:0', grad_fn=<NegBackward0>), tensor(-9.9717, device='cuda:0', grad_fn=<NegBackward0>), tensor(-86.0284, device='cuda:0', grad_fn=<AddBackward0>)]\n",
      "4.704498025793996\n",
      "tensor(-127.4611, device='cuda:0', grad_fn=<NegBackward0>) [tensor(-34.0593, device='cuda:0', grad_fn=<NegBackward0>), tensor(-8.6154, device='cuda:0', grad_fn=<NegBackward0>), tensor(-84.7863, device='cuda:0', grad_fn=<AddBackward0>)]\n",
      "4.896936844006119\n",
      "tensor(-129.1662, device='cuda:0', grad_fn=<NegBackward0>) [tensor(-34.0593, device='cuda:0', grad_fn=<NegBackward0>), tensor(-9.3153, device='cuda:0', grad_fn=<NegBackward0>), tensor(-85.7916, device='cuda:0', grad_fn=<AddBackward0>)]\n",
      "5.052316386805391\n",
      "tensor(-126.9353, device='cuda:0', grad_fn=<NegBackward0>) [tensor(-34.0438, device='cuda:0', grad_fn=<NegBackward0>), tensor(-8.3903, device='cuda:0', grad_fn=<NegBackward0>), tensor(-84.5012, device='cuda:0', grad_fn=<AddBackward0>)]\n",
      "4.736522654692714\n",
      "tensor(-129.9427, device='cuda:0', grad_fn=<NegBackward0>) [tensor(-34.0438, device='cuda:0', grad_fn=<NegBackward0>), tensor(-9.8340, device='cuda:0', grad_fn=<NegBackward0>), tensor(-86.0649, device='cuda:0', grad_fn=<AddBackward0>)]\n",
      "4.487947930647866\n",
      "tensor(-129.5401, device='cuda:0', grad_fn=<NegBackward0>) [tensor(-34.1095, device='cuda:0', grad_fn=<NegBackward0>), tensor(-10.0280, device='cuda:0', grad_fn=<NegBackward0>), tensor(-85.4026, device='cuda:0', grad_fn=<AddBackward0>)]\n"
     ]
    },
    {
     "name": "stdout",
     "output_type": "stream",
     "text": [
      "4.820773589057179\n",
      "tensor(-128.9490, device='cuda:0', grad_fn=<NegBackward0>) [tensor(-34.1095, device='cuda:0', grad_fn=<NegBackward0>), tensor(-9.5807, device='cuda:0', grad_fn=<NegBackward0>), tensor(-85.2588, device='cuda:0', grad_fn=<AddBackward0>)]\n",
      "4.786543116394536\n",
      "tensor(-128.4441, device='cuda:0', grad_fn=<NegBackward0>) [tensor(-34.2814, device='cuda:0', grad_fn=<NegBackward0>), tensor(-9.4470, device='cuda:0', grad_fn=<NegBackward0>), tensor(-84.7157, device='cuda:0', grad_fn=<AddBackward0>)]\n",
      "4.779903451787126\n",
      "tensor(-130.1573, device='cuda:0', grad_fn=<NegBackward0>) [tensor(-34.2814, device='cuda:0', grad_fn=<NegBackward0>), tensor(-9.9703, device='cuda:0', grad_fn=<NegBackward0>), tensor(-85.9056, device='cuda:0', grad_fn=<AddBackward0>)]\n",
      "5.157758290978758\n",
      "tensor(-128.4692, device='cuda:0', grad_fn=<NegBackward0>) [tensor(-34.1771, device='cuda:0', grad_fn=<NegBackward0>), tensor(-8.7798, device='cuda:0', grad_fn=<NegBackward0>), tensor(-85.5123, device='cuda:0', grad_fn=<AddBackward0>)]\n",
      "4.454538856580601\n",
      "tensor(-127.3597, device='cuda:0', grad_fn=<NegBackward0>) [tensor(-34.1771, device='cuda:0', grad_fn=<NegBackward0>), tensor(-8.9898, device='cuda:0', grad_fn=<NegBackward0>), tensor(-84.1927, device='cuda:0', grad_fn=<AddBackward0>)]\n",
      "4.756626644060012\n",
      "tensor(-128.2494, device='cuda:0', grad_fn=<NegBackward0>) [tensor(-34.4192, device='cuda:0', grad_fn=<NegBackward0>), tensor(-9.4770, device='cuda:0', grad_fn=<NegBackward0>), tensor(-84.3532, device='cuda:0', grad_fn=<AddBackward0>)]\n",
      "4.574497847659874\n",
      "tensor(-132.1379, device='cuda:0', grad_fn=<NegBackward0>) [tensor(-34.4192, device='cuda:0', grad_fn=<NegBackward0>), tensor(-10.6488, device='cuda:0', grad_fn=<NegBackward0>), tensor(-87.0700, device='cuda:0', grad_fn=<AddBackward0>)]\n",
      "5.0943838979235725\n",
      "tensor(-130.9140, device='cuda:0', grad_fn=<NegBackward0>) [tensor(-34.3734, device='cuda:0', grad_fn=<NegBackward0>), tensor(-9.7194, device='cuda:0', grad_fn=<NegBackward0>), tensor(-86.8212, device='cuda:0', grad_fn=<AddBackward0>)]\n",
      "4.604858806438614\n",
      "tensor(-128.9172, device='cuda:0', grad_fn=<NegBackward0>) [tensor(-34.3734, device='cuda:0', grad_fn=<NegBackward0>), tensor(-9.4454, device='cuda:0', grad_fn=<NegBackward0>), tensor(-85.0984, device='cuda:0', grad_fn=<AddBackward0>)]\n",
      "4.736810288931343\n",
      "tensor(-129.0972, device='cuda:0', grad_fn=<NegBackward0>) [tensor(-34.5488, device='cuda:0', grad_fn=<NegBackward0>), tensor(-9.6867, device='cuda:0', grad_fn=<NegBackward0>), tensor(-84.8617, device='cuda:0', grad_fn=<AddBackward0>)]\n",
      "5.111763105122967\n",
      "tensor(-128.3541, device='cuda:0', grad_fn=<NegBackward0>) [tensor(-34.5488, device='cuda:0', grad_fn=<NegBackward0>), tensor(-8.5841, device='cuda:0', grad_fn=<NegBackward0>), tensor(-85.2211, device='cuda:0', grad_fn=<AddBackward0>)]\n",
      "4.683721700143388\n",
      "tensor(-127.9163, device='cuda:0', grad_fn=<NegBackward0>) [tensor(-34.5535, device='cuda:0', grad_fn=<NegBackward0>), tensor(-8.8383, device='cuda:0', grad_fn=<NegBackward0>), tensor(-84.5245, device='cuda:0', grad_fn=<AddBackward0>)]\n",
      "4.8831267587508815\n",
      "tensor(-129.1307, device='cuda:0', grad_fn=<NegBackward0>) [tensor(-34.5535, device='cuda:0', grad_fn=<NegBackward0>), tensor(-9.2394, device='cuda:0', grad_fn=<NegBackward0>), tensor(-85.3378, device='cuda:0', grad_fn=<AddBackward0>)]\n",
      "4.923495081055998\n",
      "tensor(-129.6992, device='cuda:0', grad_fn=<NegBackward0>) [tensor(-34.7485, device='cuda:0', grad_fn=<NegBackward0>), tensor(-9.3038, device='cuda:0', grad_fn=<NegBackward0>), tensor(-85.6469, device='cuda:0', grad_fn=<AddBackward0>)]\n",
      "5.424702701551087\n",
      "tensor(-130.0112, device='cuda:0', grad_fn=<NegBackward0>) [tensor(-34.7485, device='cuda:0', grad_fn=<NegBackward0>), tensor(-9.1056, device='cuda:0', grad_fn=<NegBackward0>), tensor(-86.1571, device='cuda:0', grad_fn=<AddBackward0>)]\n",
      "4.569135230517221\n",
      "tensor(-129.2276, device='cuda:0', grad_fn=<NegBackward0>) [tensor(-34.7984, device='cuda:0', grad_fn=<NegBackward0>), tensor(-8.9263, device='cuda:0', grad_fn=<NegBackward0>), tensor(-85.5028, device='cuda:0', grad_fn=<AddBackward0>)]\n",
      "4.941269857364635\n",
      "tensor(-128.2093, device='cuda:0', grad_fn=<NegBackward0>) [tensor(-34.7984, device='cuda:0', grad_fn=<NegBackward0>), tensor(-8.2633, device='cuda:0', grad_fn=<NegBackward0>), tensor(-85.1476, device='cuda:0', grad_fn=<AddBackward0>)]\n",
      "4.5140735222880535\n",
      "tensor(-130.6001, device='cuda:0', grad_fn=<NegBackward0>) [tensor(-34.9301, device='cuda:0', grad_fn=<NegBackward0>), tensor(-9.5830, device='cuda:0', grad_fn=<NegBackward0>), tensor(-86.0869, device='cuda:0', grad_fn=<AddBackward0>)]\n",
      "4.765387994263031\n",
      "tensor(-129.6379, device='cuda:0', grad_fn=<NegBackward0>) [tensor(-34.9301, device='cuda:0', grad_fn=<NegBackward0>), tensor(-9.4781, device='cuda:0', grad_fn=<NegBackward0>), tensor(-85.2297, device='cuda:0', grad_fn=<AddBackward0>)]\n",
      "4.6582253700920715\n",
      "tensor(-130.5893, device='cuda:0', grad_fn=<NegBackward0>) [tensor(-35.0003, device='cuda:0', grad_fn=<NegBackward0>), tensor(-9.7866, device='cuda:0', grad_fn=<NegBackward0>), tensor(-85.8024, device='cuda:0', grad_fn=<AddBackward0>)]\n",
      "4.817168565771696\n",
      "tensor(-129.5178, device='cuda:0', grad_fn=<NegBackward0>) [tensor(-35.0003, device='cuda:0', grad_fn=<NegBackward0>), tensor(-8.9557, device='cuda:0', grad_fn=<NegBackward0>), tensor(-85.5617, device='cuda:0', grad_fn=<AddBackward0>)]\n",
      "5.035676548113847\n",
      "tensor(-128.2983, device='cuda:0', grad_fn=<NegBackward0>) [tensor(-34.8859, device='cuda:0', grad_fn=<NegBackward0>), tensor(-8.4656, device='cuda:0', grad_fn=<NegBackward0>), tensor(-84.9467, device='cuda:0', grad_fn=<AddBackward0>)]\n",
      "4.450597933999467\n",
      "tensor(-128.4997, device='cuda:0', grad_fn=<NegBackward0>) [tensor(-34.8859, device='cuda:0', grad_fn=<NegBackward0>), tensor(-9.0550, device='cuda:0', grad_fn=<NegBackward0>), tensor(-84.5588, device='cuda:0', grad_fn=<AddBackward0>)]\n",
      "4.549001439735912\n",
      "tensor(-130.4148, device='cuda:0', grad_fn=<NegBackward0>) [tensor(-34.6997, device='cuda:0', grad_fn=<NegBackward0>), tensor(-9.7725, device='cuda:0', grad_fn=<NegBackward0>), tensor(-85.9426, device='cuda:0', grad_fn=<AddBackward0>)]\n",
      "5.491902558960274\n",
      "tensor(-129.5859, device='cuda:0', grad_fn=<NegBackward0>) [tensor(-34.6997, device='cuda:0', grad_fn=<NegBackward0>), tensor(-8.7756, device='cuda:0', grad_fn=<NegBackward0>), tensor(-86.1105, device='cuda:0', grad_fn=<AddBackward0>)]\n",
      "4.966901260466296\n",
      "tensor(-130.2801, device='cuda:0', grad_fn=<NegBackward0>) [tensor(-34.7713, device='cuda:0', grad_fn=<NegBackward0>), tensor(-9.4836, device='cuda:0', grad_fn=<NegBackward0>), tensor(-86.0252, device='cuda:0', grad_fn=<AddBackward0>)]\n",
      "5.149346886979258\n",
      "tensor(-129.6759, device='cuda:0', grad_fn=<NegBackward0>) [tensor(-34.7713, device='cuda:0', grad_fn=<NegBackward0>), tensor(-8.8869, device='cuda:0', grad_fn=<NegBackward0>), tensor(-86.0177, device='cuda:0', grad_fn=<AddBackward0>)]\n",
      "4.472799863735148\n",
      "tensor(-130.5697, device='cuda:0', grad_fn=<NegBackward0>) [tensor(-34.8117, device='cuda:0', grad_fn=<NegBackward0>), tensor(-9.9289, device='cuda:0', grad_fn=<NegBackward0>), tensor(-85.8291, device='cuda:0', grad_fn=<AddBackward0>)]\n",
      "5.125868447337948\n",
      "tensor(-131.4376, device='cuda:0', grad_fn=<NegBackward0>) [tensor(-34.8117, device='cuda:0', grad_fn=<NegBackward0>), tensor(-9.6232, device='cuda:0', grad_fn=<NegBackward0>), tensor(-87.0027, device='cuda:0', grad_fn=<AddBackward0>)]\n",
      "4.3701203851161745\n",
      "tensor(-130.3826, device='cuda:0', grad_fn=<NegBackward0>) [tensor(-34.9522, device='cuda:0', grad_fn=<NegBackward0>), tensor(-9.9962, device='cuda:0', grad_fn=<NegBackward0>), tensor(-85.4341, device='cuda:0', grad_fn=<AddBackward0>)]\n",
      "5.244706809477724\n",
      "tensor(-130.6943, device='cuda:0', grad_fn=<NegBackward0>) [tensor(-34.9522, device='cuda:0', grad_fn=<NegBackward0>), tensor(-9.3312, device='cuda:0', grad_fn=<NegBackward0>), tensor(-86.4109, device='cuda:0', grad_fn=<AddBackward0>)]\n",
      "5.111761856662934\n",
      "tensor(-130.2310, device='cuda:0', grad_fn=<NegBackward0>) [tensor(-35.0462, device='cuda:0', grad_fn=<NegBackward0>), tensor(-9.1220, device='cuda:0', grad_fn=<NegBackward0>), tensor(-86.0628, device='cuda:0', grad_fn=<AddBackward0>)]\n",
      "4.816467768340567\n",
      "tensor(-128.3463, device='cuda:0', grad_fn=<NegBackward0>) [tensor(-35.0462, device='cuda:0', grad_fn=<NegBackward0>), tensor(-8.3552, device='cuda:0', grad_fn=<NegBackward0>), tensor(-84.9449, device='cuda:0', grad_fn=<AddBackward0>)]\n"
     ]
    },
    {
     "name": "stdout",
     "output_type": "stream",
     "text": [
      "4.689329791473625\n",
      "tensor(-129.2359, device='cuda:0', grad_fn=<NegBackward0>) [tensor(-34.9942, device='cuda:0', grad_fn=<NegBackward0>), tensor(-9.2754, device='cuda:0', grad_fn=<NegBackward0>), tensor(-84.9662, device='cuda:0', grad_fn=<AddBackward0>)]\n",
      "4.990752376054984\n",
      "tensor(-129.9984, device='cuda:0', grad_fn=<NegBackward0>) [tensor(-34.9942, device='cuda:0', grad_fn=<NegBackward0>), tensor(-9.2490, device='cuda:0', grad_fn=<NegBackward0>), tensor(-85.7552, device='cuda:0', grad_fn=<AddBackward0>)]\n",
      "4.938186666428279\n",
      "tensor(-128.5999, device='cuda:0', grad_fn=<NegBackward0>) [tensor(-35.1193, device='cuda:0', grad_fn=<NegBackward0>), tensor(-8.0355, device='cuda:0', grad_fn=<NegBackward0>), tensor(-85.4451, device='cuda:0', grad_fn=<AddBackward0>)]\n",
      "5.167833647096939\n",
      "tensor(-129.6927, device='cuda:0', grad_fn=<NegBackward0>) [tensor(-35.1193, device='cuda:0', grad_fn=<NegBackward0>), tensor(-8.6277, device='cuda:0', grad_fn=<NegBackward0>), tensor(-85.9458, device='cuda:0', grad_fn=<AddBackward0>)]\n",
      "5.029985049248555\n",
      "tensor(-130.7995, device='cuda:0', grad_fn=<NegBackward0>) [tensor(-35.0308, device='cuda:0', grad_fn=<NegBackward0>), tensor(-9.4321, device='cuda:0', grad_fn=<NegBackward0>), tensor(-86.3366, device='cuda:0', grad_fn=<AddBackward0>)]\n",
      "4.97180271883525\n",
      "tensor(-130.8871, device='cuda:0', grad_fn=<NegBackward0>) [tensor(-35.0308, device='cuda:0', grad_fn=<NegBackward0>), tensor(-9.4456, device='cuda:0', grad_fn=<NegBackward0>), tensor(-86.4107, device='cuda:0', grad_fn=<AddBackward0>)]\n",
      "4.5371321615389775\n",
      "tensor(-131.0489, device='cuda:0', grad_fn=<NegBackward0>) [tensor(-35.0309, device='cuda:0', grad_fn=<NegBackward0>), tensor(-9.7787, device='cuda:0', grad_fn=<NegBackward0>), tensor(-86.2393, device='cuda:0', grad_fn=<AddBackward0>)]\n",
      "4.955668556719411\n",
      "tensor(-131.1198, device='cuda:0', grad_fn=<NegBackward0>) [tensor(-35.0309, device='cuda:0', grad_fn=<NegBackward0>), tensor(-9.4237, device='cuda:0', grad_fn=<NegBackward0>), tensor(-86.6652, device='cuda:0', grad_fn=<AddBackward0>)]\n",
      "4.530916335515582\n",
      "tensor(-129.0024, device='cuda:0', grad_fn=<NegBackward0>) [tensor(-35.0397, device='cuda:0', grad_fn=<NegBackward0>), tensor(-9.1344, device='cuda:0', grad_fn=<NegBackward0>), tensor(-84.8283, device='cuda:0', grad_fn=<AddBackward0>)]\n",
      "4.770755842366789\n",
      "tensor(-130.1814, device='cuda:0', grad_fn=<NegBackward0>) [tensor(-35.0397, device='cuda:0', grad_fn=<NegBackward0>), tensor(-9.2169, device='cuda:0', grad_fn=<NegBackward0>), tensor(-85.9248, device='cuda:0', grad_fn=<AddBackward0>)]\n",
      "4.605402871319294\n",
      "tensor(-133.1748, device='cuda:0', grad_fn=<NegBackward0>) [tensor(-35.1742, device='cuda:0', grad_fn=<NegBackward0>), tensor(-10.5068, device='cuda:0', grad_fn=<NegBackward0>), tensor(-87.4938, device='cuda:0', grad_fn=<AddBackward0>)]\n",
      "4.891385263288689\n",
      "tensor(-132.4693, device='cuda:0', grad_fn=<NegBackward0>) [tensor(-35.1742, device='cuda:0', grad_fn=<NegBackward0>), tensor(-10.5223, device='cuda:0', grad_fn=<NegBackward0>), tensor(-86.7728, device='cuda:0', grad_fn=<AddBackward0>)]\n",
      "5.2986444918682905\n",
      "tensor(-130.3912, device='cuda:0', grad_fn=<NegBackward0>) [tensor(-35.0553, device='cuda:0', grad_fn=<NegBackward0>), tensor(-8.9367, device='cuda:0', grad_fn=<NegBackward0>), tensor(-86.3992, device='cuda:0', grad_fn=<AddBackward0>)]\n",
      "5.140808827346236\n",
      "tensor(-131.5292, device='cuda:0', grad_fn=<NegBackward0>) [tensor(-35.0553, device='cuda:0', grad_fn=<NegBackward0>), tensor(-9.4140, device='cuda:0', grad_fn=<NegBackward0>), tensor(-87.0599, device='cuda:0', grad_fn=<AddBackward0>)]\n",
      "4.887807881584419\n",
      "tensor(-129.6842, device='cuda:0', grad_fn=<NegBackward0>) [tensor(-35.0206, device='cuda:0', grad_fn=<NegBackward0>), tensor(-9.2442, device='cuda:0', grad_fn=<NegBackward0>), tensor(-85.4193, device='cuda:0', grad_fn=<AddBackward0>)]\n",
      "4.61646753725762\n",
      "tensor(-131.8406, device='cuda:0', grad_fn=<NegBackward0>) [tensor(-35.0206, device='cuda:0', grad_fn=<NegBackward0>), tensor(-10.3143, device='cuda:0', grad_fn=<NegBackward0>), tensor(-86.5057, device='cuda:0', grad_fn=<AddBackward0>)]\n",
      "5.123886997444148\n",
      "tensor(-130.7023, device='cuda:0', grad_fn=<NegBackward0>) [tensor(-34.7711, device='cuda:0', grad_fn=<NegBackward0>), tensor(-9.6891, device='cuda:0', grad_fn=<NegBackward0>), tensor(-86.2422, device='cuda:0', grad_fn=<AddBackward0>)]\n",
      "5.387079145046363\n",
      "tensor(-129.3368, device='cuda:0', grad_fn=<NegBackward0>) [tensor(-34.7711, device='cuda:0', grad_fn=<NegBackward0>), tensor(-8.7399, device='cuda:0', grad_fn=<NegBackward0>), tensor(-85.8258, device='cuda:0', grad_fn=<AddBackward0>)]\n",
      "4.8711123067973086\n",
      "tensor(-129.4303, device='cuda:0', grad_fn=<NegBackward0>) [tensor(-35.0793, device='cuda:0', grad_fn=<NegBackward0>), tensor(-8.5878, device='cuda:0', grad_fn=<NegBackward0>), tensor(-85.7631, device='cuda:0', grad_fn=<AddBackward0>)]\n",
      "4.83328948134465\n",
      "tensor(-129.3769, device='cuda:0', grad_fn=<NegBackward0>) [tensor(-35.0793, device='cuda:0', grad_fn=<NegBackward0>), tensor(-8.7099, device='cuda:0', grad_fn=<NegBackward0>), tensor(-85.5877, device='cuda:0', grad_fn=<AddBackward0>)]\n",
      "4.724391186508777\n",
      "tensor(-132.2944, device='cuda:0', grad_fn=<NegBackward0>) [tensor(-35.3398, device='cuda:0', grad_fn=<NegBackward0>), tensor(-10.0604, device='cuda:0', grad_fn=<NegBackward0>), tensor(-86.8941, device='cuda:0', grad_fn=<AddBackward0>)]\n",
      "4.718915010303468\n",
      "tensor(-129.8695, device='cuda:0', grad_fn=<NegBackward0>) [tensor(-35.3398, device='cuda:0', grad_fn=<NegBackward0>), tensor(-8.6515, device='cuda:0', grad_fn=<NegBackward0>), tensor(-85.8781, device='cuda:0', grad_fn=<AddBackward0>)]\n",
      "5.094512365880247\n",
      "tensor(-130.8379, device='cuda:0', grad_fn=<NegBackward0>) [tensor(-35.3359, device='cuda:0', grad_fn=<NegBackward0>), tensor(-8.7726, device='cuda:0', grad_fn=<NegBackward0>), tensor(-86.7295, device='cuda:0', grad_fn=<AddBackward0>)]\n",
      "5.141772928055915\n",
      "tensor(-131.9665, device='cuda:0', grad_fn=<NegBackward0>) [tensor(-35.3359, device='cuda:0', grad_fn=<NegBackward0>), tensor(-9.8454, device='cuda:0', grad_fn=<NegBackward0>), tensor(-86.7853, device='cuda:0', grad_fn=<AddBackward0>)]\n",
      "4.90510466618302\n",
      "tensor(-130.8910, device='cuda:0', grad_fn=<NegBackward0>) [tensor(-35.2696, device='cuda:0', grad_fn=<NegBackward0>), tensor(-9.4548, device='cuda:0', grad_fn=<NegBackward0>), tensor(-86.1666, device='cuda:0', grad_fn=<AddBackward0>)]\n",
      "4.857670089863411\n",
      "tensor(-130.2270, device='cuda:0', grad_fn=<NegBackward0>) [tensor(-35.2696, device='cuda:0', grad_fn=<NegBackward0>), tensor(-9.0804, device='cuda:0', grad_fn=<NegBackward0>), tensor(-85.8771, device='cuda:0', grad_fn=<AddBackward0>)]\n",
      "4.926528016419852\n",
      "tensor(-129.9158, device='cuda:0', grad_fn=<NegBackward0>) [tensor(-35.2399, device='cuda:0', grad_fn=<NegBackward0>), tensor(-9.2733, device='cuda:0', grad_fn=<NegBackward0>), tensor(-85.4027, device='cuda:0', grad_fn=<AddBackward0>)]\n",
      "5.080671616356787\n",
      "tensor(-128.4721, device='cuda:0', grad_fn=<NegBackward0>) [tensor(-35.2399, device='cuda:0', grad_fn=<NegBackward0>), tensor(-8.0759, device='cuda:0', grad_fn=<NegBackward0>), tensor(-85.1563, device='cuda:0', grad_fn=<AddBackward0>)]\n",
      "4.761055851540576\n",
      "tensor(-131.3158, device='cuda:0', grad_fn=<NegBackward0>) [tensor(-35.3917, device='cuda:0', grad_fn=<NegBackward0>), tensor(-9.5283, device='cuda:0', grad_fn=<NegBackward0>), tensor(-86.3958, device='cuda:0', grad_fn=<AddBackward0>)]\n",
      "5.1208370466702045\n",
      "tensor(-132.5269, device='cuda:0', grad_fn=<NegBackward0>) [tensor(-35.3917, device='cuda:0', grad_fn=<NegBackward0>), tensor(-9.8897, device='cuda:0', grad_fn=<NegBackward0>), tensor(-87.2454, device='cuda:0', grad_fn=<AddBackward0>)]\n",
      "4.548389421592423\n",
      "tensor(-131.2831, device='cuda:0', grad_fn=<NegBackward0>) [tensor(-35.2636, device='cuda:0', grad_fn=<NegBackward0>), tensor(-9.8536, device='cuda:0', grad_fn=<NegBackward0>), tensor(-86.1660, device='cuda:0', grad_fn=<AddBackward0>)]\n",
      "5.032629218311279\n",
      "tensor(-131.4379, device='cuda:0', grad_fn=<NegBackward0>) [tensor(-35.2636, device='cuda:0', grad_fn=<NegBackward0>), tensor(-9.1294, device='cuda:0', grad_fn=<NegBackward0>), tensor(-87.0449, device='cuda:0', grad_fn=<AddBackward0>)]\n",
      "5.207497891522515\n",
      "tensor(-132.1289, device='cuda:0', grad_fn=<NegBackward0>) [tensor(-35.2681, device='cuda:0', grad_fn=<NegBackward0>), tensor(-9.6399, device='cuda:0', grad_fn=<NegBackward0>), tensor(-87.2208, device='cuda:0', grad_fn=<AddBackward0>)]\n"
     ]
    },
    {
     "name": "stdout",
     "output_type": "stream",
     "text": [
      "5.109236204219844\n",
      "tensor(-129.4825, device='cuda:0', grad_fn=<NegBackward0>) [tensor(-35.2681, device='cuda:0', grad_fn=<NegBackward0>), tensor(-8.5501, device='cuda:0', grad_fn=<NegBackward0>), tensor(-85.6643, device='cuda:0', grad_fn=<AddBackward0>)]\n",
      "4.588098120892684\n",
      "tensor(-130.4507, device='cuda:0', grad_fn=<NegBackward0>) [tensor(-35.3709, device='cuda:0', grad_fn=<NegBackward0>), tensor(-9.2325, device='cuda:0', grad_fn=<NegBackward0>), tensor(-85.8474, device='cuda:0', grad_fn=<AddBackward0>)]\n",
      "5.08623280568531\n",
      "tensor(-133.1854, device='cuda:0', grad_fn=<NegBackward0>) [tensor(-35.3709, device='cuda:0', grad_fn=<NegBackward0>), tensor(-9.9639, device='cuda:0', grad_fn=<NegBackward0>), tensor(-87.8506, device='cuda:0', grad_fn=<AddBackward0>)]\n",
      "5.322579939258199\n",
      "tensor(-129.9294, device='cuda:0', grad_fn=<NegBackward0>) [tensor(-35.3865, device='cuda:0', grad_fn=<NegBackward0>), tensor(-8.5997, device='cuda:0', grad_fn=<NegBackward0>), tensor(-85.9431, device='cuda:0', grad_fn=<AddBackward0>)]\n",
      "4.737173681881781\n",
      "tensor(-129.8957, device='cuda:0', grad_fn=<NegBackward0>) [tensor(-35.3865, device='cuda:0', grad_fn=<NegBackward0>), tensor(-8.4452, device='cuda:0', grad_fn=<NegBackward0>), tensor(-86.0640, device='cuda:0', grad_fn=<AddBackward0>)]\n",
      "4.451192145004416\n",
      "tensor(-130.7437, device='cuda:0', grad_fn=<NegBackward0>) [tensor(-35.3810, device='cuda:0', grad_fn=<NegBackward0>), tensor(-9.6054, device='cuda:0', grad_fn=<NegBackward0>), tensor(-85.7574, device='cuda:0', grad_fn=<AddBackward0>)]\n",
      "4.938780249268957\n",
      "tensor(-131.0526, device='cuda:0', grad_fn=<NegBackward0>) [tensor(-35.3810, device='cuda:0', grad_fn=<NegBackward0>), tensor(-8.9152, device='cuda:0', grad_fn=<NegBackward0>), tensor(-86.7564, device='cuda:0', grad_fn=<AddBackward0>)]\n",
      "4.953918783238318\n",
      "tensor(-130.8899, device='cuda:0', grad_fn=<NegBackward0>) [tensor(-35.5862, device='cuda:0', grad_fn=<NegBackward0>), tensor(-8.8098, device='cuda:0', grad_fn=<NegBackward0>), tensor(-86.4939, device='cuda:0', grad_fn=<AddBackward0>)]\n",
      "4.751944602684416\n",
      "tensor(-129.9583, device='cuda:0', grad_fn=<NegBackward0>) [tensor(-35.5862, device='cuda:0', grad_fn=<NegBackward0>), tensor(-8.7427, device='cuda:0', grad_fn=<NegBackward0>), tensor(-85.6294, device='cuda:0', grad_fn=<AddBackward0>)]\n",
      "4.97432894464027\n",
      "tensor(-131.1115, device='cuda:0', grad_fn=<NegBackward0>) [tensor(-35.6828, device='cuda:0', grad_fn=<NegBackward0>), tensor(-8.7714, device='cuda:0', grad_fn=<NegBackward0>), tensor(-86.6573, device='cuda:0', grad_fn=<AddBackward0>)]\n",
      "5.224416716407056\n",
      "tensor(-131.0888, device='cuda:0', grad_fn=<NegBackward0>) [tensor(-35.6828, device='cuda:0', grad_fn=<NegBackward0>), tensor(-8.8719, device='cuda:0', grad_fn=<NegBackward0>), tensor(-86.5341, device='cuda:0', grad_fn=<AddBackward0>)]\n",
      "4.770743433839909\n",
      "tensor(-131.3691, device='cuda:0', grad_fn=<NegBackward0>) [tensor(-35.7938, device='cuda:0', grad_fn=<NegBackward0>), tensor(-9.6696, device='cuda:0', grad_fn=<NegBackward0>), tensor(-85.9057, device='cuda:0', grad_fn=<AddBackward0>)]\n",
      "4.437300872557294\n",
      "tensor(-133.6552, device='cuda:0', grad_fn=<NegBackward0>) [tensor(-35.7938, device='cuda:0', grad_fn=<NegBackward0>), tensor(-10.2812, device='cuda:0', grad_fn=<NegBackward0>), tensor(-87.5802, device='cuda:0', grad_fn=<AddBackward0>)]\n",
      "4.939742587491516\n",
      "tensor(-130.2038, device='cuda:0', grad_fn=<NegBackward0>) [tensor(-35.7102, device='cuda:0', grad_fn=<NegBackward0>), tensor(-8.4228, device='cuda:0', grad_fn=<NegBackward0>), tensor(-86.0707, device='cuda:0', grad_fn=<AddBackward0>)]\n",
      "5.883428653701709\n",
      "tensor(-132.0498, device='cuda:0', grad_fn=<NegBackward0>) [tensor(-35.7102, device='cuda:0', grad_fn=<NegBackward0>), tensor(-9.1231, device='cuda:0', grad_fn=<NegBackward0>), tensor(-87.2164, device='cuda:0', grad_fn=<AddBackward0>)]\n",
      "4.560873186839964\n",
      "tensor(-131.2068, device='cuda:0', grad_fn=<NegBackward0>) [tensor(-35.6818, device='cuda:0', grad_fn=<NegBackward0>), tensor(-9.3870, device='cuda:0', grad_fn=<NegBackward0>), tensor(-86.1380, device='cuda:0', grad_fn=<AddBackward0>)]\n",
      "4.874086757103498\n",
      "tensor(-129.3560, device='cuda:0', grad_fn=<NegBackward0>) [tensor(-35.6818, device='cuda:0', grad_fn=<NegBackward0>), tensor(-8.2924, device='cuda:0', grad_fn=<NegBackward0>), tensor(-85.3819, device='cuda:0', grad_fn=<AddBackward0>)]\n",
      "4.633370746419097\n",
      "tensor(-131.3342, device='cuda:0', grad_fn=<NegBackward0>) [tensor(-35.8294, device='cuda:0', grad_fn=<NegBackward0>), tensor(-9.4358, device='cuda:0', grad_fn=<NegBackward0>), tensor(-86.0691, device='cuda:0', grad_fn=<AddBackward0>)]\n",
      "4.82775590143613\n",
      "tensor(-131.3265, device='cuda:0', grad_fn=<NegBackward0>) [tensor(-35.8294, device='cuda:0', grad_fn=<NegBackward0>), tensor(-9.2969, device='cuda:0', grad_fn=<NegBackward0>), tensor(-86.2002, device='cuda:0', grad_fn=<AddBackward0>)]\n",
      "4.347506539095663\n",
      "tensor(-131.8842, device='cuda:0', grad_fn=<NegBackward0>) [tensor(-35.8339, device='cuda:0', grad_fn=<NegBackward0>), tensor(-9.5116, device='cuda:0', grad_fn=<NegBackward0>), tensor(-86.5386, device='cuda:0', grad_fn=<AddBackward0>)]\n",
      "4.851656048425194\n",
      "tensor(-131.6725, device='cuda:0', grad_fn=<NegBackward0>) [tensor(-35.8339, device='cuda:0', grad_fn=<NegBackward0>), tensor(-9.0351, device='cuda:0', grad_fn=<NegBackward0>), tensor(-86.8035, device='cuda:0', grad_fn=<AddBackward0>)]\n",
      "4.88541555936013\n",
      "tensor(-131.9820, device='cuda:0', grad_fn=<NegBackward0>) [tensor(-35.8828, device='cuda:0', grad_fn=<NegBackward0>), tensor(-9.3512, device='cuda:0', grad_fn=<NegBackward0>), tensor(-86.7479, device='cuda:0', grad_fn=<AddBackward0>)]\n",
      "4.593073025584167\n",
      "tensor(-132.1856, device='cuda:0', grad_fn=<NegBackward0>) [tensor(-35.8828, device='cuda:0', grad_fn=<NegBackward0>), tensor(-9.8580, device='cuda:0', grad_fn=<NegBackward0>), tensor(-86.4447, device='cuda:0', grad_fn=<AddBackward0>)]\n",
      "4.875157448064735\n",
      "tensor(-130.8649, device='cuda:0', grad_fn=<NegBackward0>) [tensor(-35.7940, device='cuda:0', grad_fn=<NegBackward0>), tensor(-8.7895, device='cuda:0', grad_fn=<NegBackward0>), tensor(-86.2814, device='cuda:0', grad_fn=<AddBackward0>)]\n",
      "4.454905662896742\n",
      "tensor(-129.9664, device='cuda:0', grad_fn=<NegBackward0>) [tensor(-35.7940, device='cuda:0', grad_fn=<NegBackward0>), tensor(-8.5274, device='cuda:0', grad_fn=<NegBackward0>), tensor(-85.6451, device='cuda:0', grad_fn=<AddBackward0>)]\n",
      "4.271954449429662\n",
      "tensor(-130.3614, device='cuda:0', grad_fn=<NegBackward0>) [tensor(-35.8215, device='cuda:0', grad_fn=<NegBackward0>), tensor(-9.1195, device='cuda:0', grad_fn=<NegBackward0>), tensor(-85.4204, device='cuda:0', grad_fn=<AddBackward0>)]\n",
      "4.562614673701371\n",
      "tensor(-133.9058, device='cuda:0', grad_fn=<NegBackward0>) [tensor(-35.8215, device='cuda:0', grad_fn=<NegBackward0>), tensor(-10.8773, device='cuda:0', grad_fn=<NegBackward0>), tensor(-87.2070, device='cuda:0', grad_fn=<AddBackward0>)]\n",
      "4.689276815399921\n",
      "tensor(-131.1767, device='cuda:0', grad_fn=<NegBackward0>) [tensor(-35.6674, device='cuda:0', grad_fn=<NegBackward0>), tensor(-9.6979, device='cuda:0', grad_fn=<NegBackward0>), tensor(-85.8114, device='cuda:0', grad_fn=<AddBackward0>)]\n",
      "4.775704778636998\n",
      "tensor(-130.0164, device='cuda:0', grad_fn=<NegBackward0>) [tensor(-35.6674, device='cuda:0', grad_fn=<NegBackward0>), tensor(-8.7333, device='cuda:0', grad_fn=<NegBackward0>), tensor(-85.6157, device='cuda:0', grad_fn=<AddBackward0>)]\n",
      "4.855199521825437\n",
      "tensor(-131.5219, device='cuda:0', grad_fn=<NegBackward0>) [tensor(-35.8222, device='cuda:0', grad_fn=<NegBackward0>), tensor(-9.2055, device='cuda:0', grad_fn=<NegBackward0>), tensor(-86.4942, device='cuda:0', grad_fn=<AddBackward0>)]\n",
      "4.7675317348642725\n",
      "tensor(-130.5045, device='cuda:0', grad_fn=<NegBackward0>) [tensor(-35.8222, device='cuda:0', grad_fn=<NegBackward0>), tensor(-8.7957, device='cuda:0', grad_fn=<NegBackward0>), tensor(-85.8866, device='cuda:0', grad_fn=<AddBackward0>)]\n",
      "5.110425359564135\n",
      "tensor(-135.8087, device='cuda:0', grad_fn=<NegBackward0>) [tensor(-35.8155, device='cuda:0', grad_fn=<NegBackward0>), tensor(-10.6076, device='cuda:0', grad_fn=<NegBackward0>), tensor(-89.3855, device='cuda:0', grad_fn=<AddBackward0>)]\n",
      "4.79425325979944\n",
      "tensor(-132.0585, device='cuda:0', grad_fn=<NegBackward0>) [tensor(-35.8155, device='cuda:0', grad_fn=<NegBackward0>), tensor(-9.3319, device='cuda:0', grad_fn=<NegBackward0>), tensor(-86.9110, device='cuda:0', grad_fn=<AddBackward0>)]\n"
     ]
    },
    {
     "name": "stdout",
     "output_type": "stream",
     "text": [
      "4.881204986538871\n",
      "tensor(-133.2296, device='cuda:0', grad_fn=<NegBackward0>) [tensor(-35.8983, device='cuda:0', grad_fn=<NegBackward0>), tensor(-9.9362, device='cuda:0', grad_fn=<NegBackward0>), tensor(-87.3950, device='cuda:0', grad_fn=<AddBackward0>)]\n",
      "4.620153845090872\n",
      "tensor(-130.3150, device='cuda:0', grad_fn=<NegBackward0>) [tensor(-35.8983, device='cuda:0', grad_fn=<NegBackward0>), tensor(-8.5288, device='cuda:0', grad_fn=<NegBackward0>), tensor(-85.8878, device='cuda:0', grad_fn=<AddBackward0>)]\n",
      "4.621974530985272\n",
      "tensor(-133.8448, device='cuda:0', grad_fn=<NegBackward0>) [tensor(-35.8976, device='cuda:0', grad_fn=<NegBackward0>), tensor(-10.5901, device='cuda:0', grad_fn=<NegBackward0>), tensor(-87.3571, device='cuda:0', grad_fn=<AddBackward0>)]\n",
      "4.916737734374299\n",
      "tensor(-132.7830, device='cuda:0', grad_fn=<NegBackward0>) [tensor(-35.8976, device='cuda:0', grad_fn=<NegBackward0>), tensor(-9.1355, device='cuda:0', grad_fn=<NegBackward0>), tensor(-87.7499, device='cuda:0', grad_fn=<AddBackward0>)]\n",
      "4.6539314351836065\n",
      "tensor(-131.2447, device='cuda:0', grad_fn=<NegBackward0>) [tensor(-35.9676, device='cuda:0', grad_fn=<NegBackward0>), tensor(-8.8359, device='cuda:0', grad_fn=<NegBackward0>), tensor(-86.4413, device='cuda:0', grad_fn=<AddBackward0>)]\n",
      "4.606630629524974\n",
      "tensor(-132.9679, device='cuda:0', grad_fn=<NegBackward0>) [tensor(-35.9676, device='cuda:0', grad_fn=<NegBackward0>), tensor(-9.7224, device='cuda:0', grad_fn=<NegBackward0>), tensor(-87.2779, device='cuda:0', grad_fn=<AddBackward0>)]\n",
      "5.5811165046951565\n",
      "tensor(-134.2783, device='cuda:0', grad_fn=<NegBackward0>) [tensor(-35.9837, device='cuda:0', grad_fn=<NegBackward0>), tensor(-9.8575, device='cuda:0', grad_fn=<NegBackward0>), tensor(-88.4371, device='cuda:0', grad_fn=<AddBackward0>)]\n",
      "4.259686125085712\n",
      "tensor(-130.8221, device='cuda:0', grad_fn=<NegBackward0>) [tensor(-35.9837, device='cuda:0', grad_fn=<NegBackward0>), tensor(-9.7028, device='cuda:0', grad_fn=<NegBackward0>), tensor(-85.1357, device='cuda:0', grad_fn=<AddBackward0>)]\n",
      "4.950429543885395\n",
      "tensor(-131.6267, device='cuda:0', grad_fn=<NegBackward0>) [tensor(-35.9232, device='cuda:0', grad_fn=<NegBackward0>), tensor(-8.8273, device='cuda:0', grad_fn=<NegBackward0>), tensor(-86.8762, device='cuda:0', grad_fn=<AddBackward0>)]\n",
      "4.880466560425415\n",
      "tensor(-132.0124, device='cuda:0', grad_fn=<NegBackward0>) [tensor(-35.9232, device='cuda:0', grad_fn=<NegBackward0>), tensor(-9.2880, device='cuda:0', grad_fn=<NegBackward0>), tensor(-86.8012, device='cuda:0', grad_fn=<AddBackward0>)]\n",
      "4.987405865031462\n",
      "tensor(-131.9878, device='cuda:0', grad_fn=<NegBackward0>) [tensor(-35.9940, device='cuda:0', grad_fn=<NegBackward0>), tensor(-9.0706, device='cuda:0', grad_fn=<NegBackward0>), tensor(-86.9231, device='cuda:0', grad_fn=<AddBackward0>)]\n",
      "4.603818185542758\n",
      "tensor(-132.6484, device='cuda:0', grad_fn=<NegBackward0>) [tensor(-35.9940, device='cuda:0', grad_fn=<NegBackward0>), tensor(-9.9217, device='cuda:0', grad_fn=<NegBackward0>), tensor(-86.7326, device='cuda:0', grad_fn=<AddBackward0>)]\n",
      "4.8925952028291\n",
      "tensor(-133.9811, device='cuda:0', grad_fn=<NegBackward0>) [tensor(-35.8981, device='cuda:0', grad_fn=<NegBackward0>), tensor(-10.5932, device='cuda:0', grad_fn=<NegBackward0>), tensor(-87.4897, device='cuda:0', grad_fn=<AddBackward0>)]\n",
      "4.853655411074097\n",
      "tensor(-133.9109, device='cuda:0', grad_fn=<NegBackward0>) [tensor(-35.8981, device='cuda:0', grad_fn=<NegBackward0>), tensor(-10.0741, device='cuda:0', grad_fn=<NegBackward0>), tensor(-87.9387, device='cuda:0', grad_fn=<AddBackward0>)]\n",
      "5.003893786116065\n",
      "tensor(-132.6130, device='cuda:0', grad_fn=<NegBackward0>) [tensor(-35.7540, device='cuda:0', grad_fn=<NegBackward0>), tensor(-9.8077, device='cuda:0', grad_fn=<NegBackward0>), tensor(-87.0512, device='cuda:0', grad_fn=<AddBackward0>)]\n",
      "4.87028712897074\n",
      "tensor(-131.0591, device='cuda:0', grad_fn=<NegBackward0>) [tensor(-35.7540, device='cuda:0', grad_fn=<NegBackward0>), tensor(-9.2747, device='cuda:0', grad_fn=<NegBackward0>), tensor(-86.0304, device='cuda:0', grad_fn=<AddBackward0>)]\n",
      "4.849110252928765\n",
      "tensor(-130.8055, device='cuda:0', grad_fn=<NegBackward0>) [tensor(-35.6530, device='cuda:0', grad_fn=<NegBackward0>), tensor(-8.8929, device='cuda:0', grad_fn=<NegBackward0>), tensor(-86.2596, device='cuda:0', grad_fn=<AddBackward0>)]\n",
      "4.818625295000463\n",
      "tensor(-132.0793, device='cuda:0', grad_fn=<NegBackward0>) [tensor(-35.6530, device='cuda:0', grad_fn=<NegBackward0>), tensor(-9.7743, device='cuda:0', grad_fn=<NegBackward0>), tensor(-86.6520, device='cuda:0', grad_fn=<AddBackward0>)]\n",
      "4.793976558510865\n",
      "tensor(-131.0754, device='cuda:0', grad_fn=<NegBackward0>) [tensor(-35.6725, device='cuda:0', grad_fn=<NegBackward0>), tensor(-9.0875, device='cuda:0', grad_fn=<NegBackward0>), tensor(-86.3154, device='cuda:0', grad_fn=<AddBackward0>)]\n",
      "5.187532546115473\n",
      "tensor(-130.4989, device='cuda:0', grad_fn=<NegBackward0>) [tensor(-35.6725, device='cuda:0', grad_fn=<NegBackward0>), tensor(-9.1017, device='cuda:0', grad_fn=<NegBackward0>), tensor(-85.7247, device='cuda:0', grad_fn=<AddBackward0>)]\n",
      "5.126532690201718\n",
      "tensor(-133.1147, device='cuda:0', grad_fn=<NegBackward0>) [tensor(-35.8068, device='cuda:0', grad_fn=<NegBackward0>), tensor(-9.3799, device='cuda:0', grad_fn=<NegBackward0>), tensor(-87.9281, device='cuda:0', grad_fn=<AddBackward0>)]\n",
      "5.020228098815714\n",
      "tensor(-133.1025, device='cuda:0', grad_fn=<NegBackward0>) [tensor(-35.8068, device='cuda:0', grad_fn=<NegBackward0>), tensor(-9.6530, device='cuda:0', grad_fn=<NegBackward0>), tensor(-87.6427, device='cuda:0', grad_fn=<AddBackward0>)]\n",
      "5.557702551319591\n",
      "tensor(-132.3280, device='cuda:0', grad_fn=<NegBackward0>) [tensor(-35.9669, device='cuda:0', grad_fn=<NegBackward0>), tensor(-8.9378, device='cuda:0', grad_fn=<NegBackward0>), tensor(-87.4233, device='cuda:0', grad_fn=<AddBackward0>)]\n",
      "5.686483884146095\n",
      "tensor(-134.7456, device='cuda:0', grad_fn=<NegBackward0>) [tensor(-35.9669, device='cuda:0', grad_fn=<NegBackward0>), tensor(-10.0131, device='cuda:0', grad_fn=<NegBackward0>), tensor(-88.7656, device='cuda:0', grad_fn=<AddBackward0>)]\n",
      "4.5952276289764145\n",
      "tensor(-133.0472, device='cuda:0', grad_fn=<NegBackward0>) [tensor(-35.9482, device='cuda:0', grad_fn=<NegBackward0>), tensor(-9.8579, device='cuda:0', grad_fn=<NegBackward0>), tensor(-87.2411, device='cuda:0', grad_fn=<AddBackward0>)]\n",
      "5.054225568888543\n",
      "tensor(-132.0293, device='cuda:0', grad_fn=<NegBackward0>) [tensor(-35.9482, device='cuda:0', grad_fn=<NegBackward0>), tensor(-9.3858, device='cuda:0', grad_fn=<NegBackward0>), tensor(-86.6952, device='cuda:0', grad_fn=<AddBackward0>)]\n",
      "4.859738272327854\n",
      "tensor(-131.7007, device='cuda:0', grad_fn=<NegBackward0>) [tensor(-35.8950, device='cuda:0', grad_fn=<NegBackward0>), tensor(-8.9782, device='cuda:0', grad_fn=<NegBackward0>), tensor(-86.8275, device='cuda:0', grad_fn=<AddBackward0>)]\n",
      "4.965168328959567\n",
      "tensor(-133.6607, device='cuda:0', grad_fn=<NegBackward0>) [tensor(-35.8950, device='cuda:0', grad_fn=<NegBackward0>), tensor(-9.7912, device='cuda:0', grad_fn=<NegBackward0>), tensor(-87.9745, device='cuda:0', grad_fn=<AddBackward0>)]\n",
      "4.936570780035552\n",
      "tensor(-131.9805, device='cuda:0', grad_fn=<NegBackward0>) [tensor(-35.8278, device='cuda:0', grad_fn=<NegBackward0>), tensor(-9.3704, device='cuda:0', grad_fn=<NegBackward0>), tensor(-86.7823, device='cuda:0', grad_fn=<AddBackward0>)]\n",
      "4.573298435033812\n",
      "tensor(-128.8269, device='cuda:0', grad_fn=<NegBackward0>) [tensor(-35.8278, device='cuda:0', grad_fn=<NegBackward0>), tensor(-8.0775, device='cuda:0', grad_fn=<NegBackward0>), tensor(-84.9216, device='cuda:0', grad_fn=<AddBackward0>)]\n",
      "4.984970310443422\n",
      "tensor(-132.5676, device='cuda:0', grad_fn=<NegBackward0>) [tensor(-36.0196, device='cuda:0', grad_fn=<NegBackward0>), tensor(-9.8491, device='cuda:0', grad_fn=<NegBackward0>), tensor(-86.6989, device='cuda:0', grad_fn=<AddBackward0>)]\n",
      "4.821765530409238\n",
      "tensor(-130.5581, device='cuda:0', grad_fn=<NegBackward0>) [tensor(-36.0196, device='cuda:0', grad_fn=<NegBackward0>), tensor(-8.4878, device='cuda:0', grad_fn=<NegBackward0>), tensor(-86.0507, device='cuda:0', grad_fn=<AddBackward0>)]\n",
      "5.474802641251488\n",
      "tensor(-134.1353, device='cuda:0', grad_fn=<NegBackward0>) [tensor(-36.2830, device='cuda:0', grad_fn=<NegBackward0>), tensor(-9.4742, device='cuda:0', grad_fn=<NegBackward0>), tensor(-88.3781, device='cuda:0', grad_fn=<AddBackward0>)]\n"
     ]
    },
    {
     "name": "stdout",
     "output_type": "stream",
     "text": [
      "4.810057911797559\n",
      "tensor(-133.1448, device='cuda:0', grad_fn=<NegBackward0>) [tensor(-36.2830, device='cuda:0', grad_fn=<NegBackward0>), tensor(-9.8533, device='cuda:0', grad_fn=<NegBackward0>), tensor(-87.0085, device='cuda:0', grad_fn=<AddBackward0>)]\n",
      "4.872266989980258\n",
      "tensor(-131.6796, device='cuda:0', grad_fn=<NegBackward0>) [tensor(-36.2155, device='cuda:0', grad_fn=<NegBackward0>), tensor(-8.9257, device='cuda:0', grad_fn=<NegBackward0>), tensor(-86.5385, device='cuda:0', grad_fn=<AddBackward0>)]\n",
      "5.061007243100683\n",
      "tensor(-131.5434, device='cuda:0', grad_fn=<NegBackward0>) [tensor(-36.2155, device='cuda:0', grad_fn=<NegBackward0>), tensor(-9.0809, device='cuda:0', grad_fn=<NegBackward0>), tensor(-86.2470, device='cuda:0', grad_fn=<AddBackward0>)]\n",
      "5.275681230691378\n",
      "tensor(-134.0670, device='cuda:0', grad_fn=<NegBackward0>) [tensor(-36.2778, device='cuda:0', grad_fn=<NegBackward0>), tensor(-9.8552, device='cuda:0', grad_fn=<NegBackward0>), tensor(-87.9340, device='cuda:0', grad_fn=<AddBackward0>)]\n",
      "5.124465599816016\n",
      "tensor(-131.2701, device='cuda:0', grad_fn=<NegBackward0>) [tensor(-36.2778, device='cuda:0', grad_fn=<NegBackward0>), tensor(-8.5101, device='cuda:0', grad_fn=<NegBackward0>), tensor(-86.4822, device='cuda:0', grad_fn=<AddBackward0>)]\n",
      "4.354731507783688\n",
      "tensor(-132.2836, device='cuda:0', grad_fn=<NegBackward0>) [tensor(-36.3068, device='cuda:0', grad_fn=<NegBackward0>), tensor(-10.3374, device='cuda:0', grad_fn=<NegBackward0>), tensor(-85.6394, device='cuda:0', grad_fn=<AddBackward0>)]\n",
      "4.855138434157675\n",
      "tensor(-133.3466, device='cuda:0', grad_fn=<NegBackward0>) [tensor(-36.3068, device='cuda:0', grad_fn=<NegBackward0>), tensor(-9.3965, device='cuda:0', grad_fn=<NegBackward0>), tensor(-87.6432, device='cuda:0', grad_fn=<AddBackward0>)]\n",
      "4.706346082702725\n",
      "tensor(-133.8497, device='cuda:0', grad_fn=<NegBackward0>) [tensor(-36.1522, device='cuda:0', grad_fn=<NegBackward0>), tensor(-10.0351, device='cuda:0', grad_fn=<NegBackward0>), tensor(-87.6624, device='cuda:0', grad_fn=<AddBackward0>)]\n",
      "4.71074393513994\n",
      "tensor(-131.4583, device='cuda:0', grad_fn=<NegBackward0>) [tensor(-36.1522, device='cuda:0', grad_fn=<NegBackward0>), tensor(-8.8449, device='cuda:0', grad_fn=<NegBackward0>), tensor(-86.4612, device='cuda:0', grad_fn=<AddBackward0>)]\n",
      "4.851010272158885\n",
      "tensor(-132.4909, device='cuda:0', grad_fn=<NegBackward0>) [tensor(-36.0499, device='cuda:0', grad_fn=<NegBackward0>), tensor(-9.7374, device='cuda:0', grad_fn=<NegBackward0>), tensor(-86.7036, device='cuda:0', grad_fn=<AddBackward0>)]\n",
      "5.344047108022728\n",
      "tensor(-133.0328, device='cuda:0', grad_fn=<NegBackward0>) [tensor(-36.0499, device='cuda:0', grad_fn=<NegBackward0>), tensor(-9.3244, device='cuda:0', grad_fn=<NegBackward0>), tensor(-87.6584, device='cuda:0', grad_fn=<AddBackward0>)]\n",
      "6.56794794366724\n",
      "tensor(-132.0734, device='cuda:0', grad_fn=<NegBackward0>) [tensor(-36.2118, device='cuda:0', grad_fn=<NegBackward0>), tensor(-8.5485, device='cuda:0', grad_fn=<NegBackward0>), tensor(-87.3132, device='cuda:0', grad_fn=<AddBackward0>)]\n",
      "4.732667130497077\n",
      "tensor(-132.5298, device='cuda:0', grad_fn=<NegBackward0>) [tensor(-36.2118, device='cuda:0', grad_fn=<NegBackward0>), tensor(-9.0915, device='cuda:0', grad_fn=<NegBackward0>), tensor(-87.2265, device='cuda:0', grad_fn=<AddBackward0>)]\n",
      "4.951739820413823\n",
      "tensor(-131.9719, device='cuda:0', grad_fn=<NegBackward0>) [tensor(-36.2194, device='cuda:0', grad_fn=<NegBackward0>), tensor(-9.0852, device='cuda:0', grad_fn=<NegBackward0>), tensor(-86.6672, device='cuda:0', grad_fn=<AddBackward0>)]\n",
      "4.814681029104865\n",
      "tensor(-133.6559, device='cuda:0', grad_fn=<NegBackward0>) [tensor(-36.2194, device='cuda:0', grad_fn=<NegBackward0>), tensor(-9.7082, device='cuda:0', grad_fn=<NegBackward0>), tensor(-87.7282, device='cuda:0', grad_fn=<AddBackward0>)]\n",
      "5.408476971083623\n",
      "tensor(-132.6805, device='cuda:0', grad_fn=<NegBackward0>) [tensor(-36.3901, device='cuda:0', grad_fn=<NegBackward0>), tensor(-9.1075, device='cuda:0', grad_fn=<NegBackward0>), tensor(-87.1830, device='cuda:0', grad_fn=<AddBackward0>)]\n",
      "4.472035082769505\n",
      "tensor(-130.7747, device='cuda:0', grad_fn=<NegBackward0>) [tensor(-36.3901, device='cuda:0', grad_fn=<NegBackward0>), tensor(-8.8317, device='cuda:0', grad_fn=<NegBackward0>), tensor(-85.5528, device='cuda:0', grad_fn=<AddBackward0>)]\n",
      "4.489338478199819\n",
      "tensor(-131.0868, device='cuda:0', grad_fn=<NegBackward0>) [tensor(-36.4286, device='cuda:0', grad_fn=<NegBackward0>), tensor(-8.8309, device='cuda:0', grad_fn=<NegBackward0>), tensor(-85.8272, device='cuda:0', grad_fn=<AddBackward0>)]\n",
      "4.480142734455235\n",
      "tensor(-132.3478, device='cuda:0', grad_fn=<NegBackward0>) [tensor(-36.4286, device='cuda:0', grad_fn=<NegBackward0>), tensor(-9.2309, device='cuda:0', grad_fn=<NegBackward0>), tensor(-86.6883, device='cuda:0', grad_fn=<AddBackward0>)]\n",
      "4.519772760398348\n",
      "tensor(-133.3026, device='cuda:0', grad_fn=<NegBackward0>) [tensor(-36.4253, device='cuda:0', grad_fn=<NegBackward0>), tensor(-10.1426, device='cuda:0', grad_fn=<NegBackward0>), tensor(-86.7347, device='cuda:0', grad_fn=<AddBackward0>)]\n",
      "5.159070184604873\n",
      "tensor(-133.5102, device='cuda:0', grad_fn=<NegBackward0>) [tensor(-36.4253, device='cuda:0', grad_fn=<NegBackward0>), tensor(-9.3374, device='cuda:0', grad_fn=<NegBackward0>), tensor(-87.7475, device='cuda:0', grad_fn=<AddBackward0>)]\n",
      "5.460934158794602\n",
      "tensor(-134.3324, device='cuda:0', grad_fn=<NegBackward0>) [tensor(-36.3743, device='cuda:0', grad_fn=<NegBackward0>), tensor(-9.6968, device='cuda:0', grad_fn=<NegBackward0>), tensor(-88.2613, device='cuda:0', grad_fn=<AddBackward0>)]\n",
      "5.292056970162164\n",
      "tensor(-129.7116, device='cuda:0', grad_fn=<NegBackward0>) [tensor(-36.3743, device='cuda:0', grad_fn=<NegBackward0>), tensor(-7.5783, device='cuda:0', grad_fn=<NegBackward0>), tensor(-85.7591, device='cuda:0', grad_fn=<AddBackward0>)]\n",
      "5.024601005780904\n",
      "tensor(-134.5147, device='cuda:0', grad_fn=<NegBackward0>) [tensor(-36.4501, device='cuda:0', grad_fn=<NegBackward0>), tensor(-9.6386, device='cuda:0', grad_fn=<NegBackward0>), tensor(-88.4259, device='cuda:0', grad_fn=<AddBackward0>)]\n",
      "4.629647338280344\n",
      "tensor(-134.1202, device='cuda:0', grad_fn=<NegBackward0>) [tensor(-36.4501, device='cuda:0', grad_fn=<NegBackward0>), tensor(-9.7902, device='cuda:0', grad_fn=<NegBackward0>), tensor(-87.8799, device='cuda:0', grad_fn=<AddBackward0>)]\n",
      "4.670790049727018\n",
      "tensor(-132.7461, device='cuda:0', grad_fn=<NegBackward0>) [tensor(-36.3896, device='cuda:0', grad_fn=<NegBackward0>), tensor(-9.5848, device='cuda:0', grad_fn=<NegBackward0>), tensor(-86.7718, device='cuda:0', grad_fn=<AddBackward0>)]\n",
      "4.78957388147214\n",
      "tensor(-133.4054, device='cuda:0', grad_fn=<NegBackward0>) [tensor(-36.3896, device='cuda:0', grad_fn=<NegBackward0>), tensor(-9.6137, device='cuda:0', grad_fn=<NegBackward0>), tensor(-87.4022, device='cuda:0', grad_fn=<AddBackward0>)]\n",
      "4.9422065835469375\n",
      "tensor(-133.0611, device='cuda:0', grad_fn=<NegBackward0>) [tensor(-36.3433, device='cuda:0', grad_fn=<NegBackward0>), tensor(-9.1316, device='cuda:0', grad_fn=<NegBackward0>), tensor(-87.5862, device='cuda:0', grad_fn=<AddBackward0>)]\n",
      "4.753353761072809\n",
      "tensor(-130.9261, device='cuda:0', grad_fn=<NegBackward0>) [tensor(-36.3433, device='cuda:0', grad_fn=<NegBackward0>), tensor(-8.2560, device='cuda:0', grad_fn=<NegBackward0>), tensor(-86.3268, device='cuda:0', grad_fn=<AddBackward0>)]\n",
      "5.725021013744329\n",
      "tensor(-132.7242, device='cuda:0', grad_fn=<NegBackward0>) [tensor(-36.3988, device='cuda:0', grad_fn=<NegBackward0>), tensor(-8.7574, device='cuda:0', grad_fn=<NegBackward0>), tensor(-87.5680, device='cuda:0', grad_fn=<AddBackward0>)]\n",
      "5.108648861111197\n",
      "tensor(-132.6728, device='cuda:0', grad_fn=<NegBackward0>) [tensor(-36.3988, device='cuda:0', grad_fn=<NegBackward0>), tensor(-8.9879, device='cuda:0', grad_fn=<NegBackward0>), tensor(-87.2862, device='cuda:0', grad_fn=<AddBackward0>)]\n",
      "5.138290449487399\n",
      "tensor(-134.7218, device='cuda:0', grad_fn=<NegBackward0>) [tensor(-36.4089, device='cuda:0', grad_fn=<NegBackward0>), tensor(-9.4482, device='cuda:0', grad_fn=<NegBackward0>), tensor(-88.8647, device='cuda:0', grad_fn=<AddBackward0>)]\n",
      "4.735609622413373\n",
      "tensor(-132.1384, device='cuda:0', grad_fn=<NegBackward0>) [tensor(-36.4089, device='cuda:0', grad_fn=<NegBackward0>), tensor(-9.2554, device='cuda:0', grad_fn=<NegBackward0>), tensor(-86.4741, device='cuda:0', grad_fn=<AddBackward0>)]\n"
     ]
    },
    {
     "name": "stdout",
     "output_type": "stream",
     "text": [
      "4.6053805235102905\n",
      "tensor(-132.0276, device='cuda:0', grad_fn=<NegBackward0>) [tensor(-36.2900, device='cuda:0', grad_fn=<NegBackward0>), tensor(-9.0700, device='cuda:0', grad_fn=<NegBackward0>), tensor(-86.6676, device='cuda:0', grad_fn=<AddBackward0>)]\n",
      "4.713634486470287\n",
      "tensor(-133.8007, device='cuda:0', grad_fn=<NegBackward0>) [tensor(-36.2900, device='cuda:0', grad_fn=<NegBackward0>), tensor(-9.7095, device='cuda:0', grad_fn=<NegBackward0>), tensor(-87.8012, device='cuda:0', grad_fn=<AddBackward0>)]\n",
      "4.958585829775789\n",
      "tensor(-131.6481, device='cuda:0', grad_fn=<NegBackward0>) [tensor(-36.3002, device='cuda:0', grad_fn=<NegBackward0>), tensor(-8.8596, device='cuda:0', grad_fn=<NegBackward0>), tensor(-86.4884, device='cuda:0', grad_fn=<AddBackward0>)]\n",
      "5.03454752984474\n",
      "tensor(-134.8187, device='cuda:0', grad_fn=<NegBackward0>) [tensor(-36.3002, device='cuda:0', grad_fn=<NegBackward0>), tensor(-10.3238, device='cuda:0', grad_fn=<NegBackward0>), tensor(-88.1948, device='cuda:0', grad_fn=<AddBackward0>)]\n",
      "4.609469752848556\n",
      "tensor(-131.7947, device='cuda:0', grad_fn=<NegBackward0>) [tensor(-36.3067, device='cuda:0', grad_fn=<NegBackward0>), tensor(-9.2603, device='cuda:0', grad_fn=<NegBackward0>), tensor(-86.2277, device='cuda:0', grad_fn=<AddBackward0>)]\n",
      "5.0751234145400606\n",
      "tensor(-130.7626, device='cuda:0', grad_fn=<NegBackward0>) [tensor(-36.3067, device='cuda:0', grad_fn=<NegBackward0>), tensor(-8.6315, device='cuda:0', grad_fn=<NegBackward0>), tensor(-85.8245, device='cuda:0', grad_fn=<AddBackward0>)]\n",
      "4.713317631885808\n",
      "tensor(-132.7024, device='cuda:0', grad_fn=<NegBackward0>) [tensor(-36.4142, device='cuda:0', grad_fn=<NegBackward0>), tensor(-9.4523, device='cuda:0', grad_fn=<NegBackward0>), tensor(-86.8359, device='cuda:0', grad_fn=<AddBackward0>)]\n",
      "4.789012578873853\n",
      "tensor(-134.5858, device='cuda:0', grad_fn=<NegBackward0>) [tensor(-36.4142, device='cuda:0', grad_fn=<NegBackward0>), tensor(-10.1863, device='cuda:0', grad_fn=<NegBackward0>), tensor(-87.9853, device='cuda:0', grad_fn=<AddBackward0>)]\n",
      "5.000182840062061\n",
      "tensor(-134.0209, device='cuda:0', grad_fn=<NegBackward0>) [tensor(-36.3818, device='cuda:0', grad_fn=<NegBackward0>), tensor(-9.6399, device='cuda:0', grad_fn=<NegBackward0>), tensor(-87.9991, device='cuda:0', grad_fn=<AddBackward0>)]\n",
      "5.2752672634193996\n",
      "tensor(-133.4846, device='cuda:0', grad_fn=<NegBackward0>) [tensor(-36.3818, device='cuda:0', grad_fn=<NegBackward0>), tensor(-9.3434, device='cuda:0', grad_fn=<NegBackward0>), tensor(-87.7594, device='cuda:0', grad_fn=<AddBackward0>)]\n",
      "4.7232801025787365\n",
      "tensor(-132.3601, device='cuda:0', grad_fn=<NegBackward0>) [tensor(-36.4574, device='cuda:0', grad_fn=<NegBackward0>), tensor(-8.9616, device='cuda:0', grad_fn=<NegBackward0>), tensor(-86.9411, device='cuda:0', grad_fn=<AddBackward0>)]\n",
      "4.481704082421765\n",
      "tensor(-133.5690, device='cuda:0', grad_fn=<NegBackward0>) [tensor(-36.4574, device='cuda:0', grad_fn=<NegBackward0>), tensor(-10.0822, device='cuda:0', grad_fn=<NegBackward0>), tensor(-87.0293, device='cuda:0', grad_fn=<AddBackward0>)]\n",
      "4.5705578291849545\n",
      "tensor(-131.8191, device='cuda:0', grad_fn=<NegBackward0>) [tensor(-36.3766, device='cuda:0', grad_fn=<NegBackward0>), tensor(-9.6311, device='cuda:0', grad_fn=<NegBackward0>), tensor(-85.8115, device='cuda:0', grad_fn=<AddBackward0>)]\n",
      "4.715789211774362\n",
      "tensor(-133.0825, device='cuda:0', grad_fn=<NegBackward0>) [tensor(-36.3766, device='cuda:0', grad_fn=<NegBackward0>), tensor(-9.7048, device='cuda:0', grad_fn=<NegBackward0>), tensor(-87.0011, device='cuda:0', grad_fn=<AddBackward0>)]\n",
      "4.886862934914608\n",
      "tensor(-131.5239, device='cuda:0', grad_fn=<NegBackward0>) [tensor(-36.4153, device='cuda:0', grad_fn=<NegBackward0>), tensor(-8.6297, device='cuda:0', grad_fn=<NegBackward0>), tensor(-86.4789, device='cuda:0', grad_fn=<AddBackward0>)]\n",
      "4.885302207594563\n",
      "tensor(-135.9108, device='cuda:0', grad_fn=<NegBackward0>) [tensor(-36.4153, device='cuda:0', grad_fn=<NegBackward0>), tensor(-10.2217, device='cuda:0', grad_fn=<NegBackward0>), tensor(-89.2738, device='cuda:0', grad_fn=<AddBackward0>)]\n",
      "4.673038141738951\n",
      "tensor(-132.1727, device='cuda:0', grad_fn=<NegBackward0>) [tensor(-36.3096, device='cuda:0', grad_fn=<NegBackward0>), tensor(-9.0252, device='cuda:0', grad_fn=<NegBackward0>), tensor(-86.8379, device='cuda:0', grad_fn=<AddBackward0>)]\n",
      "4.842385657398665\n",
      "tensor(-133.8969, device='cuda:0', grad_fn=<NegBackward0>) [tensor(-36.3096, device='cuda:0', grad_fn=<NegBackward0>), tensor(-10.1204, device='cuda:0', grad_fn=<NegBackward0>), tensor(-87.4669, device='cuda:0', grad_fn=<AddBackward0>)]\n",
      "4.555051288990063\n",
      "tensor(-129.9301, device='cuda:0', grad_fn=<NegBackward0>) [tensor(-36.3197, device='cuda:0', grad_fn=<NegBackward0>), tensor(-8.8292, device='cuda:0', grad_fn=<NegBackward0>), tensor(-84.7812, device='cuda:0', grad_fn=<AddBackward0>)]\n",
      "5.7322496466532575\n",
      "tensor(-129.9516, device='cuda:0', grad_fn=<NegBackward0>) [tensor(-36.3197, device='cuda:0', grad_fn=<NegBackward0>), tensor(-7.6819, device='cuda:0', grad_fn=<NegBackward0>), tensor(-85.9500, device='cuda:0', grad_fn=<AddBackward0>)]\n",
      "4.596133658484254\n",
      "tensor(-132.1614, device='cuda:0', grad_fn=<NegBackward0>) [tensor(-36.4332, device='cuda:0', grad_fn=<NegBackward0>), tensor(-9.2212, device='cuda:0', grad_fn=<NegBackward0>), tensor(-86.5071, device='cuda:0', grad_fn=<AddBackward0>)]\n",
      "5.45030353372529\n",
      "tensor(-133.2229, device='cuda:0', grad_fn=<NegBackward0>) [tensor(-36.4332, device='cuda:0', grad_fn=<NegBackward0>), tensor(-9.0622, device='cuda:0', grad_fn=<NegBackward0>), tensor(-87.7275, device='cuda:0', grad_fn=<AddBackward0>)]\n",
      "4.842747783249361\n",
      "tensor(-132.9157, device='cuda:0', grad_fn=<NegBackward0>) [tensor(-36.5803, device='cuda:0', grad_fn=<NegBackward0>), tensor(-9.1530, device='cuda:0', grad_fn=<NegBackward0>), tensor(-87.1824, device='cuda:0', grad_fn=<AddBackward0>)]\n",
      "4.9218492753895156\n",
      "tensor(-133.5656, device='cuda:0', grad_fn=<NegBackward0>) [tensor(-36.5803, device='cuda:0', grad_fn=<NegBackward0>), tensor(-9.1656, device='cuda:0', grad_fn=<NegBackward0>), tensor(-87.8197, device='cuda:0', grad_fn=<AddBackward0>)]\n",
      "5.1004687084718\n",
      "tensor(-132.1481, device='cuda:0', grad_fn=<NegBackward0>) [tensor(-36.4751, device='cuda:0', grad_fn=<NegBackward0>), tensor(-8.6496, device='cuda:0', grad_fn=<NegBackward0>), tensor(-87.0235, device='cuda:0', grad_fn=<AddBackward0>)]\n",
      "5.008788888685177\n",
      "tensor(-132.8125, device='cuda:0', grad_fn=<NegBackward0>) [tensor(-36.4751, device='cuda:0', grad_fn=<NegBackward0>), tensor(-8.9084, device='cuda:0', grad_fn=<NegBackward0>), tensor(-87.4290, device='cuda:0', grad_fn=<AddBackward0>)]\n",
      "4.955848579552803\n",
      "tensor(-135.0102, device='cuda:0', grad_fn=<NegBackward0>) [tensor(-36.5373, device='cuda:0', grad_fn=<NegBackward0>), tensor(-9.9263, device='cuda:0', grad_fn=<NegBackward0>), tensor(-88.5466, device='cuda:0', grad_fn=<AddBackward0>)]\n",
      "4.611989464159074\n",
      "tensor(-132.9326, device='cuda:0', grad_fn=<NegBackward0>) [tensor(-36.5373, device='cuda:0', grad_fn=<NegBackward0>), tensor(-9.9563, device='cuda:0', grad_fn=<NegBackward0>), tensor(-86.4389, device='cuda:0', grad_fn=<AddBackward0>)]\n",
      "5.23951586597533\n",
      "tensor(-132.2036, device='cuda:0', grad_fn=<NegBackward0>) [tensor(-36.5412, device='cuda:0', grad_fn=<NegBackward0>), tensor(-8.8033, device='cuda:0', grad_fn=<NegBackward0>), tensor(-86.8590, device='cuda:0', grad_fn=<AddBackward0>)]\n",
      "5.2335621621569155\n",
      "tensor(-132.4349, device='cuda:0', grad_fn=<NegBackward0>) [tensor(-36.5412, device='cuda:0', grad_fn=<NegBackward0>), tensor(-8.7735, device='cuda:0', grad_fn=<NegBackward0>), tensor(-87.1202, device='cuda:0', grad_fn=<AddBackward0>)]\n",
      "4.640710826368078\n",
      "tensor(-132.8601, device='cuda:0', grad_fn=<NegBackward0>) [tensor(-36.6254, device='cuda:0', grad_fn=<NegBackward0>), tensor(-8.9708, device='cuda:0', grad_fn=<NegBackward0>), tensor(-87.2639, device='cuda:0', grad_fn=<AddBackward0>)]\n",
      "4.831607543674204\n",
      "tensor(-134.1015, device='cuda:0', grad_fn=<NegBackward0>) [tensor(-36.6254, device='cuda:0', grad_fn=<NegBackward0>), tensor(-9.4677, device='cuda:0', grad_fn=<NegBackward0>), tensor(-88.0085, device='cuda:0', grad_fn=<AddBackward0>)]\n",
      "4.373079622119513\n",
      "tensor(-132.5267, device='cuda:0', grad_fn=<NegBackward0>) [tensor(-36.6759, device='cuda:0', grad_fn=<NegBackward0>), tensor(-9.7964, device='cuda:0', grad_fn=<NegBackward0>), tensor(-86.0544, device='cuda:0', grad_fn=<AddBackward0>)]\n"
     ]
    },
    {
     "name": "stdout",
     "output_type": "stream",
     "text": [
      "5.0410425383613235\n",
      "tensor(-132.1641, device='cuda:0', grad_fn=<NegBackward0>) [tensor(-36.6759, device='cuda:0', grad_fn=<NegBackward0>), tensor(-8.5304, device='cuda:0', grad_fn=<NegBackward0>), tensor(-86.9578, device='cuda:0', grad_fn=<AddBackward0>)]\n",
      "4.374742909306664\n",
      "tensor(-133.9609, device='cuda:0', grad_fn=<NegBackward0>) [tensor(-36.6001, device='cuda:0', grad_fn=<NegBackward0>), tensor(-10.3680, device='cuda:0', grad_fn=<NegBackward0>), tensor(-86.9928, device='cuda:0', grad_fn=<AddBackward0>)]\n",
      "4.4152714482604125\n",
      "tensor(-134.0083, device='cuda:0', grad_fn=<NegBackward0>) [tensor(-36.6001, device='cuda:0', grad_fn=<NegBackward0>), tensor(-10.2410, device='cuda:0', grad_fn=<NegBackward0>), tensor(-87.1671, device='cuda:0', grad_fn=<AddBackward0>)]\n",
      "4.467749637323629\n",
      "tensor(-133.4397, device='cuda:0', grad_fn=<NegBackward0>) [tensor(-36.5771, device='cuda:0', grad_fn=<NegBackward0>), tensor(-9.7645, device='cuda:0', grad_fn=<NegBackward0>), tensor(-87.0981, device='cuda:0', grad_fn=<AddBackward0>)]\n",
      "4.872443420330802\n",
      "tensor(-133.6626, device='cuda:0', grad_fn=<NegBackward0>) [tensor(-36.5771, device='cuda:0', grad_fn=<NegBackward0>), tensor(-9.6461, device='cuda:0', grad_fn=<NegBackward0>), tensor(-87.4394, device='cuda:0', grad_fn=<AddBackward0>)]\n",
      "4.74106282352429\n",
      "tensor(-134.0021, device='cuda:0', grad_fn=<NegBackward0>) [tensor(-36.5609, device='cuda:0', grad_fn=<NegBackward0>), tensor(-9.6309, device='cuda:0', grad_fn=<NegBackward0>), tensor(-87.8103, device='cuda:0', grad_fn=<AddBackward0>)]\n",
      "4.956985524374695\n",
      "tensor(-132.1295, device='cuda:0', grad_fn=<NegBackward0>) [tensor(-36.5609, device='cuda:0', grad_fn=<NegBackward0>), tensor(-8.6823, device='cuda:0', grad_fn=<NegBackward0>), tensor(-86.8863, device='cuda:0', grad_fn=<AddBackward0>)]\n",
      "5.023701873849757\n",
      "tensor(-133.8212, device='cuda:0', grad_fn=<NegBackward0>) [tensor(-36.6834, device='cuda:0', grad_fn=<NegBackward0>), tensor(-9.1686, device='cuda:0', grad_fn=<NegBackward0>), tensor(-87.9691, device='cuda:0', grad_fn=<AddBackward0>)]\n",
      "5.113931636463412\n",
      "tensor(-132.5388, device='cuda:0', grad_fn=<NegBackward0>) [tensor(-36.6834, device='cuda:0', grad_fn=<NegBackward0>), tensor(-8.6693, device='cuda:0', grad_fn=<NegBackward0>), tensor(-87.1861, device='cuda:0', grad_fn=<AddBackward0>)]\n",
      "5.3061281354442205\n",
      "tensor(-132.9708, device='cuda:0', grad_fn=<NegBackward0>) [tensor(-36.6344, device='cuda:0', grad_fn=<NegBackward0>), tensor(-9.0050, device='cuda:0', grad_fn=<NegBackward0>), tensor(-87.3314, device='cuda:0', grad_fn=<AddBackward0>)]\n",
      "4.998956788791293\n",
      "tensor(-133.1735, device='cuda:0', grad_fn=<NegBackward0>) [tensor(-36.6344, device='cuda:0', grad_fn=<NegBackward0>), tensor(-9.2089, device='cuda:0', grad_fn=<NegBackward0>), tensor(-87.3302, device='cuda:0', grad_fn=<AddBackward0>)]\n",
      "4.480155245175906\n",
      "tensor(-132.8704, device='cuda:0', grad_fn=<NegBackward0>) [tensor(-36.6453, device='cuda:0', grad_fn=<NegBackward0>), tensor(-9.2805, device='cuda:0', grad_fn=<NegBackward0>), tensor(-86.9445, device='cuda:0', grad_fn=<AddBackward0>)]\n",
      "4.449579264600871\n",
      "tensor(-133.0221, device='cuda:0', grad_fn=<NegBackward0>) [tensor(-36.6453, device='cuda:0', grad_fn=<NegBackward0>), tensor(-9.7058, device='cuda:0', grad_fn=<NegBackward0>), tensor(-86.6710, device='cuda:0', grad_fn=<AddBackward0>)]\n",
      "4.744602555572418\n",
      "tensor(-132.6413, device='cuda:0', grad_fn=<NegBackward0>) [tensor(-36.6040, device='cuda:0', grad_fn=<NegBackward0>), tensor(-8.9102, device='cuda:0', grad_fn=<NegBackward0>), tensor(-87.1271, device='cuda:0', grad_fn=<AddBackward0>)]\n",
      "5.3279970357935\n",
      "tensor(-130.8668, device='cuda:0', grad_fn=<NegBackward0>) [tensor(-36.6040, device='cuda:0', grad_fn=<NegBackward0>), tensor(-8.0564, device='cuda:0', grad_fn=<NegBackward0>), tensor(-86.2064, device='cuda:0', grad_fn=<AddBackward0>)]\n",
      "4.926532599845817\n",
      "tensor(-132.4463, device='cuda:0', grad_fn=<NegBackward0>) [tensor(-36.7327, device='cuda:0', grad_fn=<NegBackward0>), tensor(-8.5284, device='cuda:0', grad_fn=<NegBackward0>), tensor(-87.1853, device='cuda:0', grad_fn=<AddBackward0>)]\n",
      "4.626762841436667\n",
      "tensor(-133.3209, device='cuda:0', grad_fn=<NegBackward0>) [tensor(-36.7327, device='cuda:0', grad_fn=<NegBackward0>), tensor(-9.5698, device='cuda:0', grad_fn=<NegBackward0>), tensor(-87.0184, device='cuda:0', grad_fn=<AddBackward0>)]\n",
      "5.485862188542784\n",
      "tensor(-132.1022, device='cuda:0', grad_fn=<NegBackward0>) [tensor(-36.7990, device='cuda:0', grad_fn=<NegBackward0>), tensor(-8.3540, device='cuda:0', grad_fn=<NegBackward0>), tensor(-86.9493, device='cuda:0', grad_fn=<AddBackward0>)]\n",
      "5.369407143777956\n",
      "tensor(-134.2067, device='cuda:0', grad_fn=<NegBackward0>) [tensor(-36.7990, device='cuda:0', grad_fn=<NegBackward0>), tensor(-9.3487, device='cuda:0', grad_fn=<NegBackward0>), tensor(-88.0590, device='cuda:0', grad_fn=<AddBackward0>)]\n",
      "4.991180534059408\n",
      "tensor(-133.1987, device='cuda:0', grad_fn=<NegBackward0>) [tensor(-36.6829, device='cuda:0', grad_fn=<NegBackward0>), tensor(-8.7026, device='cuda:0', grad_fn=<NegBackward0>), tensor(-87.8132, device='cuda:0', grad_fn=<AddBackward0>)]\n",
      "4.651261548148614\n",
      "tensor(-135.6323, device='cuda:0', grad_fn=<NegBackward0>) [tensor(-36.6829, device='cuda:0', grad_fn=<NegBackward0>), tensor(-10.3156, device='cuda:0', grad_fn=<NegBackward0>), tensor(-88.6339, device='cuda:0', grad_fn=<AddBackward0>)]\n",
      "4.939971138845753\n",
      "tensor(-132.8694, device='cuda:0', grad_fn=<NegBackward0>) [tensor(-36.7306, device='cuda:0', grad_fn=<NegBackward0>), tensor(-8.7204, device='cuda:0', grad_fn=<NegBackward0>), tensor(-87.4184, device='cuda:0', grad_fn=<AddBackward0>)]\n",
      "4.976380519171727\n",
      "tensor(-133.5603, device='cuda:0', grad_fn=<NegBackward0>) [tensor(-36.7306, device='cuda:0', grad_fn=<NegBackward0>), tensor(-8.9029, device='cuda:0', grad_fn=<NegBackward0>), tensor(-87.9268, device='cuda:0', grad_fn=<AddBackward0>)]\n",
      "5.004475212350049\n",
      "tensor(-132.0948, device='cuda:0', grad_fn=<NegBackward0>) [tensor(-36.7627, device='cuda:0', grad_fn=<NegBackward0>), tensor(-8.5224, device='cuda:0', grad_fn=<NegBackward0>), tensor(-86.8097, device='cuda:0', grad_fn=<AddBackward0>)]\n",
      "5.064857717293449\n",
      "tensor(-133.2458, device='cuda:0', grad_fn=<NegBackward0>) [tensor(-36.7627, device='cuda:0', grad_fn=<NegBackward0>), tensor(-8.5400, device='cuda:0', grad_fn=<NegBackward0>), tensor(-87.9432, device='cuda:0', grad_fn=<AddBackward0>)]\n",
      "4.668478508260898\n",
      "tensor(-133.8514, device='cuda:0', grad_fn=<NegBackward0>) [tensor(-36.8642, device='cuda:0', grad_fn=<NegBackward0>), tensor(-9.6016, device='cuda:0', grad_fn=<NegBackward0>), tensor(-87.3856, device='cuda:0', grad_fn=<AddBackward0>)]\n",
      "4.652418603581237\n",
      "tensor(-134.5847, device='cuda:0', grad_fn=<NegBackward0>) [tensor(-36.8642, device='cuda:0', grad_fn=<NegBackward0>), tensor(-10.4127, device='cuda:0', grad_fn=<NegBackward0>), tensor(-87.3077, device='cuda:0', grad_fn=<AddBackward0>)]\n",
      "4.7474915945243055\n",
      "tensor(-133.6473, device='cuda:0', grad_fn=<NegBackward0>) [tensor(-36.7728, device='cuda:0', grad_fn=<NegBackward0>), tensor(-9.5482, device='cuda:0', grad_fn=<NegBackward0>), tensor(-87.3263, device='cuda:0', grad_fn=<AddBackward0>)]\n",
      "4.852567407814262\n",
      "tensor(-134.0577, device='cuda:0', grad_fn=<NegBackward0>) [tensor(-36.7728, device='cuda:0', grad_fn=<NegBackward0>), tensor(-9.4197, device='cuda:0', grad_fn=<NegBackward0>), tensor(-87.8652, device='cuda:0', grad_fn=<AddBackward0>)]\n",
      "4.767900192579253\n",
      "tensor(-134.2194, device='cuda:0', grad_fn=<NegBackward0>) [tensor(-36.7863, device='cuda:0', grad_fn=<NegBackward0>), tensor(-9.6747, device='cuda:0', grad_fn=<NegBackward0>), tensor(-87.7584, device='cuda:0', grad_fn=<AddBackward0>)]\n",
      "5.008801950477581\n",
      "tensor(-132.5605, device='cuda:0', grad_fn=<NegBackward0>) [tensor(-36.7863, device='cuda:0', grad_fn=<NegBackward0>), tensor(-8.5279, device='cuda:0', grad_fn=<NegBackward0>), tensor(-87.2463, device='cuda:0', grad_fn=<AddBackward0>)]\n",
      "5.105521076098816\n",
      "tensor(-131.8537, device='cuda:0', grad_fn=<NegBackward0>) [tensor(-36.8478, device='cuda:0', grad_fn=<NegBackward0>), tensor(-8.4200, device='cuda:0', grad_fn=<NegBackward0>), tensor(-86.5859, device='cuda:0', grad_fn=<AddBackward0>)]\n",
      "4.751943459768132\n",
      "tensor(-133.6890, device='cuda:0', grad_fn=<NegBackward0>) [tensor(-36.8478, device='cuda:0', grad_fn=<NegBackward0>), tensor(-9.3118, device='cuda:0', grad_fn=<NegBackward0>), tensor(-87.5294, device='cuda:0', grad_fn=<AddBackward0>)]\n"
     ]
    },
    {
     "name": "stdout",
     "output_type": "stream",
     "text": [
      "5.1738673878087695\n",
      "tensor(-131.8613, device='cuda:0', grad_fn=<NegBackward0>) [tensor(-36.7625, device='cuda:0', grad_fn=<NegBackward0>), tensor(-8.0592, device='cuda:0', grad_fn=<NegBackward0>), tensor(-87.0396, device='cuda:0', grad_fn=<AddBackward0>)]\n",
      "5.162117433589472\n",
      "tensor(-131.8377, device='cuda:0', grad_fn=<NegBackward0>) [tensor(-36.7625, device='cuda:0', grad_fn=<NegBackward0>), tensor(-8.4701, device='cuda:0', grad_fn=<NegBackward0>), tensor(-86.6051, device='cuda:0', grad_fn=<AddBackward0>)]\n",
      "4.67467836155964\n",
      "tensor(-134.7343, device='cuda:0', grad_fn=<NegBackward0>) [tensor(-36.8564, device='cuda:0', grad_fn=<NegBackward0>), tensor(-9.6931, device='cuda:0', grad_fn=<NegBackward0>), tensor(-88.1848, device='cuda:0', grad_fn=<AddBackward0>)]\n",
      "5.035727232435872\n",
      "tensor(-135.1384, device='cuda:0', grad_fn=<NegBackward0>) [tensor(-36.8564, device='cuda:0', grad_fn=<NegBackward0>), tensor(-10.0000, device='cuda:0', grad_fn=<NegBackward0>), tensor(-88.2820, device='cuda:0', grad_fn=<AddBackward0>)]\n",
      "5.313935481134518\n",
      "tensor(-134.5656, device='cuda:0', grad_fn=<NegBackward0>) [tensor(-36.6976, device='cuda:0', grad_fn=<NegBackward0>), tensor(-9.0442, device='cuda:0', grad_fn=<NegBackward0>), tensor(-88.8238, device='cuda:0', grad_fn=<AddBackward0>)]\n",
      "5.259445071079073\n",
      "tensor(-133.5226, device='cuda:0', grad_fn=<NegBackward0>) [tensor(-36.6976, device='cuda:0', grad_fn=<NegBackward0>), tensor(-8.9422, device='cuda:0', grad_fn=<NegBackward0>), tensor(-87.8828, device='cuda:0', grad_fn=<AddBackward0>)]\n",
      "5.255884757284403\n",
      "tensor(-135.0689, device='cuda:0', grad_fn=<NegBackward0>) [tensor(-36.6437, device='cuda:0', grad_fn=<NegBackward0>), tensor(-9.4817, device='cuda:0', grad_fn=<NegBackward0>), tensor(-88.9435, device='cuda:0', grad_fn=<AddBackward0>)]\n",
      "5.327987358448032\n",
      "tensor(-135.4510, device='cuda:0', grad_fn=<NegBackward0>) [tensor(-36.6437, device='cuda:0', grad_fn=<NegBackward0>), tensor(-9.4986, device='cuda:0', grad_fn=<NegBackward0>), tensor(-89.3087, device='cuda:0', grad_fn=<AddBackward0>)]\n",
      "5.210021640711826\n",
      "tensor(-134.3445, device='cuda:0', grad_fn=<NegBackward0>) [tensor(-36.7505, device='cuda:0', grad_fn=<NegBackward0>), tensor(-9.2242, device='cuda:0', grad_fn=<NegBackward0>), tensor(-88.3698, device='cuda:0', grad_fn=<AddBackward0>)]\n",
      "4.878675116918618\n",
      "tensor(-133.6930, device='cuda:0', grad_fn=<NegBackward0>) [tensor(-36.7505, device='cuda:0', grad_fn=<NegBackward0>), tensor(-8.8631, device='cuda:0', grad_fn=<NegBackward0>), tensor(-88.0794, device='cuda:0', grad_fn=<AddBackward0>)]\n",
      "4.4975573465860625\n",
      "tensor(-132.0645, device='cuda:0', grad_fn=<NegBackward0>) [tensor(-36.8008, device='cuda:0', grad_fn=<NegBackward0>), tensor(-9.1714, device='cuda:0', grad_fn=<NegBackward0>), tensor(-86.0923, device='cuda:0', grad_fn=<AddBackward0>)]\n",
      "4.705160228445226\n",
      "tensor(-133.6821, device='cuda:0', grad_fn=<NegBackward0>) [tensor(-36.8008, device='cuda:0', grad_fn=<NegBackward0>), tensor(-9.5107, device='cuda:0', grad_fn=<NegBackward0>), tensor(-87.3706, device='cuda:0', grad_fn=<AddBackward0>)]\n",
      "4.921392479412451\n",
      "tensor(-133.2621, device='cuda:0', grad_fn=<NegBackward0>) [tensor(-36.7573, device='cuda:0', grad_fn=<NegBackward0>), tensor(-9.3819, device='cuda:0', grad_fn=<NegBackward0>), tensor(-87.1229, device='cuda:0', grad_fn=<AddBackward0>)]\n",
      "5.04812869802201\n",
      "tensor(-133.0637, device='cuda:0', grad_fn=<NegBackward0>) [tensor(-36.7573, device='cuda:0', grad_fn=<NegBackward0>), tensor(-8.7876, device='cuda:0', grad_fn=<NegBackward0>), tensor(-87.5188, device='cuda:0', grad_fn=<AddBackward0>)]\n",
      "4.75996932488346\n",
      "tensor(-134.7508, device='cuda:0', grad_fn=<NegBackward0>) [tensor(-36.7505, device='cuda:0', grad_fn=<NegBackward0>), tensor(-10.0232, device='cuda:0', grad_fn=<NegBackward0>), tensor(-87.9771, device='cuda:0', grad_fn=<AddBackward0>)]\n",
      "4.765157315971577\n",
      "tensor(-133.6005, device='cuda:0', grad_fn=<NegBackward0>) [tensor(-36.7505, device='cuda:0', grad_fn=<NegBackward0>), tensor(-9.7757, device='cuda:0', grad_fn=<NegBackward0>), tensor(-87.0742, device='cuda:0', grad_fn=<AddBackward0>)]\n",
      "4.960152289403336\n",
      "tensor(-134.1560, device='cuda:0', grad_fn=<NegBackward0>) [tensor(-36.7392, device='cuda:0', grad_fn=<NegBackward0>), tensor(-9.3005, device='cuda:0', grad_fn=<NegBackward0>), tensor(-88.1163, device='cuda:0', grad_fn=<AddBackward0>)]\n",
      "5.001120398040807\n",
      "tensor(-134.0569, device='cuda:0', grad_fn=<NegBackward0>) [tensor(-36.7392, device='cuda:0', grad_fn=<NegBackward0>), tensor(-8.8444, device='cuda:0', grad_fn=<NegBackward0>), tensor(-88.4733, device='cuda:0', grad_fn=<AddBackward0>)]\n",
      "4.714677783164523\n",
      "tensor(-133.7892, device='cuda:0', grad_fn=<NegBackward0>) [tensor(-36.8243, device='cuda:0', grad_fn=<NegBackward0>), tensor(-9.2289, device='cuda:0', grad_fn=<NegBackward0>), tensor(-87.7359, device='cuda:0', grad_fn=<AddBackward0>)]\n",
      "4.679393484176419\n",
      "tensor(-131.1852, device='cuda:0', grad_fn=<NegBackward0>) [tensor(-36.8243, device='cuda:0', grad_fn=<NegBackward0>), tensor(-8.7201, device='cuda:0', grad_fn=<NegBackward0>), tensor(-85.6407, device='cuda:0', grad_fn=<AddBackward0>)]\n",
      "4.961540614944775\n",
      "tensor(-134.1900, device='cuda:0', grad_fn=<NegBackward0>) [tensor(-36.7499, device='cuda:0', grad_fn=<NegBackward0>), tensor(-9.2580, device='cuda:0', grad_fn=<NegBackward0>), tensor(-88.1821, device='cuda:0', grad_fn=<AddBackward0>)]\n",
      "4.5731537623369265\n",
      "tensor(-132.9986, device='cuda:0', grad_fn=<NegBackward0>) [tensor(-36.7499, device='cuda:0', grad_fn=<NegBackward0>), tensor(-9.0563, device='cuda:0', grad_fn=<NegBackward0>), tensor(-87.1924, device='cuda:0', grad_fn=<AddBackward0>)]\n",
      "4.625053038850633\n",
      "tensor(-135.5437, device='cuda:0', grad_fn=<NegBackward0>) [tensor(-36.7467, device='cuda:0', grad_fn=<NegBackward0>), tensor(-11.0259, device='cuda:0', grad_fn=<NegBackward0>), tensor(-87.7711, device='cuda:0', grad_fn=<AddBackward0>)]\n",
      "5.396205397989038\n",
      "tensor(-133.3137, device='cuda:0', grad_fn=<NegBackward0>) [tensor(-36.7467, device='cuda:0', grad_fn=<NegBackward0>), tensor(-9.1215, device='cuda:0', grad_fn=<NegBackward0>), tensor(-87.4455, device='cuda:0', grad_fn=<AddBackward0>)]\n",
      "4.497131781913884\n",
      "tensor(-133.8849, device='cuda:0', grad_fn=<NegBackward0>) [tensor(-36.8496, device='cuda:0', grad_fn=<NegBackward0>), tensor(-9.4875, device='cuda:0', grad_fn=<NegBackward0>), tensor(-87.5479, device='cuda:0', grad_fn=<AddBackward0>)]\n",
      "4.771994315537118\n",
      "tensor(-132.4196, device='cuda:0', grad_fn=<NegBackward0>) [tensor(-36.8496, device='cuda:0', grad_fn=<NegBackward0>), tensor(-8.8253, device='cuda:0', grad_fn=<NegBackward0>), tensor(-86.7448, device='cuda:0', grad_fn=<AddBackward0>)]\n",
      "4.827694397901823\n",
      "tensor(-134.7801, device='cuda:0', grad_fn=<NegBackward0>) [tensor(-36.8051, device='cuda:0', grad_fn=<NegBackward0>), tensor(-9.6889, device='cuda:0', grad_fn=<NegBackward0>), tensor(-88.2860, device='cuda:0', grad_fn=<AddBackward0>)]\n",
      "4.462585152704999\n",
      "tensor(-132.2559, device='cuda:0', grad_fn=<NegBackward0>) [tensor(-36.8051, device='cuda:0', grad_fn=<NegBackward0>), tensor(-8.8463, device='cuda:0', grad_fn=<NegBackward0>), tensor(-86.6044, device='cuda:0', grad_fn=<AddBackward0>)]\n",
      "5.315775688933412\n",
      "tensor(-133.4387, device='cuda:0', grad_fn=<NegBackward0>) [tensor(-36.7339, device='cuda:0', grad_fn=<NegBackward0>), tensor(-8.9135, device='cuda:0', grad_fn=<NegBackward0>), tensor(-87.7913, device='cuda:0', grad_fn=<AddBackward0>)]\n",
      "4.856335512766203\n",
      "tensor(-134.5013, device='cuda:0', grad_fn=<NegBackward0>) [tensor(-36.7339, device='cuda:0', grad_fn=<NegBackward0>), tensor(-9.6266, device='cuda:0', grad_fn=<NegBackward0>), tensor(-88.1409, device='cuda:0', grad_fn=<AddBackward0>)]\n",
      "4.999062710380143\n",
      "tensor(-133.0023, device='cuda:0', grad_fn=<NegBackward0>) [tensor(-36.8081, device='cuda:0', grad_fn=<NegBackward0>), tensor(-8.5846, device='cuda:0', grad_fn=<NegBackward0>), tensor(-87.6097, device='cuda:0', grad_fn=<AddBackward0>)]\n",
      "5.401046264548974\n",
      "tensor(-134.1042, device='cuda:0', grad_fn=<NegBackward0>) [tensor(-36.8081, device='cuda:0', grad_fn=<NegBackward0>), tensor(-9.2842, device='cuda:0', grad_fn=<NegBackward0>), tensor(-88.0119, device='cuda:0', grad_fn=<AddBackward0>)]\n",
      "4.353456046708461\n",
      "tensor(-132.6431, device='cuda:0', grad_fn=<NegBackward0>) [tensor(-36.7910, device='cuda:0', grad_fn=<NegBackward0>), tensor(-10.2512, device='cuda:0', grad_fn=<NegBackward0>), tensor(-85.6009, device='cuda:0', grad_fn=<AddBackward0>)]\n"
     ]
    },
    {
     "name": "stdout",
     "output_type": "stream",
     "text": [
      "5.009532301222432\n",
      "tensor(-134.9362, device='cuda:0', grad_fn=<NegBackward0>) [tensor(-36.7910, device='cuda:0', grad_fn=<NegBackward0>), tensor(-9.6051, device='cuda:0', grad_fn=<NegBackward0>), tensor(-88.5401, device='cuda:0', grad_fn=<AddBackward0>)]\n",
      "4.837438708125521\n",
      "tensor(-132.3821, device='cuda:0', grad_fn=<NegBackward0>) [tensor(-36.8907, device='cuda:0', grad_fn=<NegBackward0>), tensor(-8.4156, device='cuda:0', grad_fn=<NegBackward0>), tensor(-87.0758, device='cuda:0', grad_fn=<AddBackward0>)]\n",
      "4.8201845357858275\n",
      "tensor(-133.9837, device='cuda:0', grad_fn=<NegBackward0>) [tensor(-36.8907, device='cuda:0', grad_fn=<NegBackward0>), tensor(-8.9890, device='cuda:0', grad_fn=<NegBackward0>), tensor(-88.1041, device='cuda:0', grad_fn=<AddBackward0>)]\n",
      "5.086663633421258\n",
      "tensor(-133.1388, device='cuda:0', grad_fn=<NegBackward0>) [tensor(-36.9419, device='cuda:0', grad_fn=<NegBackward0>), tensor(-8.4282, device='cuda:0', grad_fn=<NegBackward0>), tensor(-87.7687, device='cuda:0', grad_fn=<AddBackward0>)]\n",
      "5.114795347616643\n",
      "tensor(-133.8299, device='cuda:0', grad_fn=<NegBackward0>) [tensor(-36.9419, device='cuda:0', grad_fn=<NegBackward0>), tensor(-9.1214, device='cuda:0', grad_fn=<NegBackward0>), tensor(-87.7666, device='cuda:0', grad_fn=<AddBackward0>)]\n",
      "4.85922186516284\n",
      "tensor(-132.3910, device='cuda:0', grad_fn=<NegBackward0>) [tensor(-36.9622, device='cuda:0', grad_fn=<NegBackward0>), tensor(-8.8875, device='cuda:0', grad_fn=<NegBackward0>), tensor(-86.5413, device='cuda:0', grad_fn=<AddBackward0>)]\n",
      "4.950799527043719\n",
      "tensor(-133.7099, device='cuda:0', grad_fn=<NegBackward0>) [tensor(-36.9622, device='cuda:0', grad_fn=<NegBackward0>), tensor(-9.2633, device='cuda:0', grad_fn=<NegBackward0>), tensor(-87.4844, device='cuda:0', grad_fn=<AddBackward0>)]\n",
      "5.030911800826428\n",
      "tensor(-134.3973, device='cuda:0', grad_fn=<NegBackward0>) [tensor(-36.8837, device='cuda:0', grad_fn=<NegBackward0>), tensor(-9.1042, device='cuda:0', grad_fn=<NegBackward0>), tensor(-88.4094, device='cuda:0', grad_fn=<AddBackward0>)]\n",
      "4.832052713517605\n",
      "tensor(-134.4786, device='cuda:0', grad_fn=<NegBackward0>) [tensor(-36.8837, device='cuda:0', grad_fn=<NegBackward0>), tensor(-9.6895, device='cuda:0', grad_fn=<NegBackward0>), tensor(-87.9054, device='cuda:0', grad_fn=<AddBackward0>)]\n",
      "4.808970349111222\n",
      "tensor(-134.5795, device='cuda:0', grad_fn=<NegBackward0>) [tensor(-36.9170, device='cuda:0', grad_fn=<NegBackward0>), tensor(-9.4734, device='cuda:0', grad_fn=<NegBackward0>), tensor(-88.1891, device='cuda:0', grad_fn=<AddBackward0>)]\n",
      "4.593347754435215\n",
      "tensor(-135.2120, device='cuda:0', grad_fn=<NegBackward0>) [tensor(-36.9170, device='cuda:0', grad_fn=<NegBackward0>), tensor(-9.3458, device='cuda:0', grad_fn=<NegBackward0>), tensor(-88.9492, device='cuda:0', grad_fn=<AddBackward0>)]\n",
      "5.210755762528932\n",
      "tensor(-134.5096, device='cuda:0', grad_fn=<NegBackward0>) [tensor(-36.9146, device='cuda:0', grad_fn=<NegBackward0>), tensor(-9.2198, device='cuda:0', grad_fn=<NegBackward0>), tensor(-88.3752, device='cuda:0', grad_fn=<AddBackward0>)]\n",
      "4.551984050118796\n",
      "tensor(-132.7436, device='cuda:0', grad_fn=<NegBackward0>) [tensor(-36.9146, device='cuda:0', grad_fn=<NegBackward0>), tensor(-9.9088, device='cuda:0', grad_fn=<NegBackward0>), tensor(-85.9203, device='cuda:0', grad_fn=<AddBackward0>)]\n",
      "5.0976319053860575\n",
      "tensor(-135.6645, device='cuda:0', grad_fn=<NegBackward0>) [tensor(-36.8037, device='cuda:0', grad_fn=<NegBackward0>), tensor(-9.9492, device='cuda:0', grad_fn=<NegBackward0>), tensor(-88.9116, device='cuda:0', grad_fn=<AddBackward0>)]\n",
      "4.9626771424567435\n",
      "tensor(-133.0749, device='cuda:0', grad_fn=<NegBackward0>) [tensor(-36.8037, device='cuda:0', grad_fn=<NegBackward0>), tensor(-9.2758, device='cuda:0', grad_fn=<NegBackward0>), tensor(-86.9954, device='cuda:0', grad_fn=<AddBackward0>)]\n",
      "4.786509508948162\n",
      "tensor(-135.4680, device='cuda:0', grad_fn=<NegBackward0>) [tensor(-36.7822, device='cuda:0', grad_fn=<NegBackward0>), tensor(-9.9687, device='cuda:0', grad_fn=<NegBackward0>), tensor(-88.7171, device='cuda:0', grad_fn=<AddBackward0>)]\n",
      "5.162046835232445\n",
      "tensor(-132.3209, device='cuda:0', grad_fn=<NegBackward0>) [tensor(-36.7822, device='cuda:0', grad_fn=<NegBackward0>), tensor(-8.7440, device='cuda:0', grad_fn=<NegBackward0>), tensor(-86.7947, device='cuda:0', grad_fn=<AddBackward0>)]\n",
      "4.8170137322021365\n",
      "tensor(-133.3878, device='cuda:0', grad_fn=<NegBackward0>) [tensor(-36.7552, device='cuda:0', grad_fn=<NegBackward0>), tensor(-9.1426, device='cuda:0', grad_fn=<NegBackward0>), tensor(-87.4901, device='cuda:0', grad_fn=<AddBackward0>)]\n",
      "5.004471771104946\n",
      "tensor(-132.6864, device='cuda:0', grad_fn=<NegBackward0>) [tensor(-36.7552, device='cuda:0', grad_fn=<NegBackward0>), tensor(-8.9409, device='cuda:0', grad_fn=<NegBackward0>), tensor(-86.9902, device='cuda:0', grad_fn=<AddBackward0>)]\n",
      "4.592159088565524\n",
      "tensor(-133.4440, device='cuda:0', grad_fn=<NegBackward0>) [tensor(-36.7124, device='cuda:0', grad_fn=<NegBackward0>), tensor(-9.5143, device='cuda:0', grad_fn=<NegBackward0>), tensor(-87.2174, device='cuda:0', grad_fn=<AddBackward0>)]\n",
      "5.074426767933363\n",
      "tensor(-131.1894, device='cuda:0', grad_fn=<NegBackward0>) [tensor(-36.7124, device='cuda:0', grad_fn=<NegBackward0>), tensor(-7.8991, device='cuda:0', grad_fn=<NegBackward0>), tensor(-86.5779, device='cuda:0', grad_fn=<AddBackward0>)]\n",
      "5.840677997837017\n",
      "tensor(-131.9133, device='cuda:0', grad_fn=<NegBackward0>) [tensor(-36.7937, device='cuda:0', grad_fn=<NegBackward0>), tensor(-7.6725, device='cuda:0', grad_fn=<NegBackward0>), tensor(-87.4471, device='cuda:0', grad_fn=<AddBackward0>)]\n",
      "5.1034561335196065\n",
      "tensor(-135.6379, device='cuda:0', grad_fn=<NegBackward0>) [tensor(-36.7937, device='cuda:0', grad_fn=<NegBackward0>), tensor(-10.0129, device='cuda:0', grad_fn=<NegBackward0>), tensor(-88.8314, device='cuda:0', grad_fn=<AddBackward0>)]\n",
      "5.411223122930725\n",
      "tensor(-134.1212, device='cuda:0', grad_fn=<NegBackward0>) [tensor(-36.8278, device='cuda:0', grad_fn=<NegBackward0>), tensor(-9.1892, device='cuda:0', grad_fn=<NegBackward0>), tensor(-88.1042, device='cuda:0', grad_fn=<AddBackward0>)]\n",
      "5.346395147055182\n",
      "tensor(-133.6249, device='cuda:0', grad_fn=<NegBackward0>) [tensor(-36.8278, device='cuda:0', grad_fn=<NegBackward0>), tensor(-8.8204, device='cuda:0', grad_fn=<NegBackward0>), tensor(-87.9767, device='cuda:0', grad_fn=<AddBackward0>)]\n",
      "4.719277988097679\n",
      "tensor(-135.1626, device='cuda:0', grad_fn=<NegBackward0>) [tensor(-36.9294, device='cuda:0', grad_fn=<NegBackward0>), tensor(-9.9320, device='cuda:0', grad_fn=<NegBackward0>), tensor(-88.3012, device='cuda:0', grad_fn=<AddBackward0>)]\n",
      "5.083751276450194\n",
      "tensor(-135.2421, device='cuda:0', grad_fn=<NegBackward0>) [tensor(-36.9294, device='cuda:0', grad_fn=<NegBackward0>), tensor(-9.5854, device='cuda:0', grad_fn=<NegBackward0>), tensor(-88.7272, device='cuda:0', grad_fn=<AddBackward0>)]\n",
      "4.815055722903216\n",
      "tensor(-135.5253, device='cuda:0', grad_fn=<NegBackward0>) [tensor(-36.9188, device='cuda:0', grad_fn=<NegBackward0>), tensor(-9.8663, device='cuda:0', grad_fn=<NegBackward0>), tensor(-88.7402, device='cuda:0', grad_fn=<AddBackward0>)]\n",
      "5.118735506530462\n",
      "tensor(-133.8076, device='cuda:0', grad_fn=<NegBackward0>) [tensor(-36.9188, device='cuda:0', grad_fn=<NegBackward0>), tensor(-9.0827, device='cuda:0', grad_fn=<NegBackward0>), tensor(-87.8061, device='cuda:0', grad_fn=<AddBackward0>)]\n",
      "5.174919119682303\n",
      "tensor(-132.7297, device='cuda:0', grad_fn=<NegBackward0>) [tensor(-37.0646, device='cuda:0', grad_fn=<NegBackward0>), tensor(-8.5450, device='cuda:0', grad_fn=<NegBackward0>), tensor(-87.1201, device='cuda:0', grad_fn=<AddBackward0>)]\n",
      "4.742874901994539\n",
      "tensor(-134.4117, device='cuda:0', grad_fn=<NegBackward0>) [tensor(-37.0646, device='cuda:0', grad_fn=<NegBackward0>), tensor(-9.0999, device='cuda:0', grad_fn=<NegBackward0>), tensor(-88.2472, device='cuda:0', grad_fn=<AddBackward0>)]\n",
      "5.138341130606037\n",
      "tensor(-133.9880, device='cuda:0', grad_fn=<NegBackward0>) [tensor(-36.9928, device='cuda:0', grad_fn=<NegBackward0>), tensor(-8.7362, device='cuda:0', grad_fn=<NegBackward0>), tensor(-88.2590, device='cuda:0', grad_fn=<AddBackward0>)]\n",
      "5.105984419646112\n",
      "tensor(-134.3796, device='cuda:0', grad_fn=<NegBackward0>) [tensor(-36.9928, device='cuda:0', grad_fn=<NegBackward0>), tensor(-9.0547, device='cuda:0', grad_fn=<NegBackward0>), tensor(-88.3320, device='cuda:0', grad_fn=<AddBackward0>)]\n"
     ]
    },
    {
     "name": "stdout",
     "output_type": "stream",
     "text": [
      "4.892659740143004\n",
      "tensor(-135.3722, device='cuda:0', grad_fn=<NegBackward0>) [tensor(-37.0428, device='cuda:0', grad_fn=<NegBackward0>), tensor(-9.7840, device='cuda:0', grad_fn=<NegBackward0>), tensor(-88.5454, device='cuda:0', grad_fn=<AddBackward0>)]\n",
      "4.674600481660824\n",
      "tensor(-135.1419, device='cuda:0', grad_fn=<NegBackward0>) [tensor(-37.0428, device='cuda:0', grad_fn=<NegBackward0>), tensor(-9.7811, device='cuda:0', grad_fn=<NegBackward0>), tensor(-88.3179, device='cuda:0', grad_fn=<AddBackward0>)]\n",
      "5.539269007996069\n",
      "tensor(-133.2128, device='cuda:0', grad_fn=<NegBackward0>) [tensor(-36.9297, device='cuda:0', grad_fn=<NegBackward0>), tensor(-8.6120, device='cuda:0', grad_fn=<NegBackward0>), tensor(-87.6712, device='cuda:0', grad_fn=<AddBackward0>)]\n",
      "4.735560785264069\n",
      "tensor(-135.2800, device='cuda:0', grad_fn=<NegBackward0>) [tensor(-36.9297, device='cuda:0', grad_fn=<NegBackward0>), tensor(-9.7474, device='cuda:0', grad_fn=<NegBackward0>), tensor(-88.6029, device='cuda:0', grad_fn=<AddBackward0>)]\n",
      "4.7000308063276\n",
      "tensor(-134.1065, device='cuda:0', grad_fn=<NegBackward0>) [tensor(-36.9295, device='cuda:0', grad_fn=<NegBackward0>), tensor(-9.7220, device='cuda:0', grad_fn=<NegBackward0>), tensor(-87.4550, device='cuda:0', grad_fn=<AddBackward0>)]\n",
      "4.83013652652076\n",
      "tensor(-135.2271, device='cuda:0', grad_fn=<NegBackward0>) [tensor(-36.9295, device='cuda:0', grad_fn=<NegBackward0>), tensor(-9.9680, device='cuda:0', grad_fn=<NegBackward0>), tensor(-88.3296, device='cuda:0', grad_fn=<AddBackward0>)]\n",
      "5.137916493333726\n",
      "tensor(-132.8448, device='cuda:0', grad_fn=<NegBackward0>) [tensor(-36.9559, device='cuda:0', grad_fn=<NegBackward0>), tensor(-8.4298, device='cuda:0', grad_fn=<NegBackward0>), tensor(-87.4591, device='cuda:0', grad_fn=<AddBackward0>)]\n",
      "5.185370420711608\n",
      "tensor(-133.2038, device='cuda:0', grad_fn=<NegBackward0>) [tensor(-36.9559, device='cuda:0', grad_fn=<NegBackward0>), tensor(-8.7331, device='cuda:0', grad_fn=<NegBackward0>), tensor(-87.5147, device='cuda:0', grad_fn=<AddBackward0>)]\n",
      "4.811986561726574\n",
      "tensor(-135.3380, device='cuda:0', grad_fn=<NegBackward0>) [tensor(-36.9949, device='cuda:0', grad_fn=<NegBackward0>), tensor(-9.9243, device='cuda:0', grad_fn=<NegBackward0>), tensor(-88.4189, device='cuda:0', grad_fn=<AddBackward0>)]\n",
      "5.317896109809888\n",
      "tensor(-135.2003, device='cuda:0', grad_fn=<NegBackward0>) [tensor(-36.9949, device='cuda:0', grad_fn=<NegBackward0>), tensor(-9.3841, device='cuda:0', grad_fn=<NegBackward0>), tensor(-88.8213, device='cuda:0', grad_fn=<AddBackward0>)]\n",
      "5.026241930799753\n",
      "tensor(-133.4515, device='cuda:0', grad_fn=<NegBackward0>) [tensor(-37.0367, device='cuda:0', grad_fn=<NegBackward0>), tensor(-8.7829, device='cuda:0', grad_fn=<NegBackward0>), tensor(-87.6320, device='cuda:0', grad_fn=<AddBackward0>)]\n",
      "5.248615942317536\n",
      "tensor(-132.2378, device='cuda:0', grad_fn=<NegBackward0>) [tensor(-37.0367, device='cuda:0', grad_fn=<NegBackward0>), tensor(-7.9903, device='cuda:0', grad_fn=<NegBackward0>), tensor(-87.2107, device='cuda:0', grad_fn=<AddBackward0>)]\n",
      "5.463501024371988\n",
      "tensor(-134.1790, device='cuda:0', grad_fn=<NegBackward0>) [tensor(-36.9932, device='cuda:0', grad_fn=<NegBackward0>), tensor(-8.8405, device='cuda:0', grad_fn=<NegBackward0>), tensor(-88.3453, device='cuda:0', grad_fn=<AddBackward0>)]\n",
      "5.336735298109134\n",
      "tensor(-135.6433, device='cuda:0', grad_fn=<NegBackward0>) [tensor(-36.9932, device='cuda:0', grad_fn=<NegBackward0>), tensor(-9.8591, device='cuda:0', grad_fn=<NegBackward0>), tensor(-88.7910, device='cuda:0', grad_fn=<AddBackward0>)]\n",
      "4.961085785634047\n",
      "tensor(-136.6780, device='cuda:0', grad_fn=<NegBackward0>) [tensor(-36.9347, device='cuda:0', grad_fn=<NegBackward0>), tensor(-10.4250, device='cuda:0', grad_fn=<NegBackward0>), tensor(-89.3183, device='cuda:0', grad_fn=<AddBackward0>)]\n",
      "4.824608126618224\n",
      "tensor(-134.9017, device='cuda:0', grad_fn=<NegBackward0>) [tensor(-36.9347, device='cuda:0', grad_fn=<NegBackward0>), tensor(-9.5629, device='cuda:0', grad_fn=<NegBackward0>), tensor(-88.4040, device='cuda:0', grad_fn=<AddBackward0>)]\n",
      "4.629262758854616\n",
      "tensor(-134.1579, device='cuda:0', grad_fn=<NegBackward0>) [tensor(-36.9143, device='cuda:0', grad_fn=<NegBackward0>), tensor(-9.6818, device='cuda:0', grad_fn=<NegBackward0>), tensor(-87.5618, device='cuda:0', grad_fn=<AddBackward0>)]\n",
      "5.503021508029873\n",
      "tensor(-135.2707, device='cuda:0', grad_fn=<NegBackward0>) [tensor(-36.9143, device='cuda:0', grad_fn=<NegBackward0>), tensor(-9.2288, device='cuda:0', grad_fn=<NegBackward0>), tensor(-89.1276, device='cuda:0', grad_fn=<AddBackward0>)]\n",
      "5.04821644851438\n",
      "tensor(-136.3379, device='cuda:0', grad_fn=<NegBackward0>) [tensor(-36.9676, device='cuda:0', grad_fn=<NegBackward0>), tensor(-9.8983, device='cuda:0', grad_fn=<NegBackward0>), tensor(-89.4719, device='cuda:0', grad_fn=<AddBackward0>)]\n",
      "4.751067867690928\n",
      "tensor(-135.5133, device='cuda:0', grad_fn=<NegBackward0>) [tensor(-36.9676, device='cuda:0', grad_fn=<NegBackward0>), tensor(-9.9446, device='cuda:0', grad_fn=<NegBackward0>), tensor(-88.6011, device='cuda:0', grad_fn=<AddBackward0>)]\n",
      "4.836857360677634\n",
      "tensor(-133.2515, device='cuda:0', grad_fn=<NegBackward0>) [tensor(-36.8832, device='cuda:0', grad_fn=<NegBackward0>), tensor(-8.7216, device='cuda:0', grad_fn=<NegBackward0>), tensor(-87.6467, device='cuda:0', grad_fn=<AddBackward0>)]\n",
      "5.06772136745241\n",
      "tensor(-133.3945, device='cuda:0', grad_fn=<NegBackward0>) [tensor(-36.8832, device='cuda:0', grad_fn=<NegBackward0>), tensor(-8.7992, device='cuda:0', grad_fn=<NegBackward0>), tensor(-87.7120, device='cuda:0', grad_fn=<AddBackward0>)]\n",
      "5.752504347652374\n",
      "tensor(-134.8138, device='cuda:0', grad_fn=<NegBackward0>) [tensor(-37.0397, device='cuda:0', grad_fn=<NegBackward0>), tensor(-8.9766, device='cuda:0', grad_fn=<NegBackward0>), tensor(-88.7975, device='cuda:0', grad_fn=<AddBackward0>)]\n",
      "5.377390132974514\n",
      "tensor(-134.2225, device='cuda:0', grad_fn=<NegBackward0>) [tensor(-37.0397, device='cuda:0', grad_fn=<NegBackward0>), tensor(-9.2370, device='cuda:0', grad_fn=<NegBackward0>), tensor(-87.9458, device='cuda:0', grad_fn=<AddBackward0>)]\n",
      "4.692254121915578\n",
      "tensor(-133.5278, device='cuda:0', grad_fn=<NegBackward0>) [tensor(-36.9784, device='cuda:0', grad_fn=<NegBackward0>), tensor(-9.4731, device='cuda:0', grad_fn=<NegBackward0>), tensor(-87.0764, device='cuda:0', grad_fn=<AddBackward0>)]\n",
      "4.818800621121862\n",
      "tensor(-137.7161, device='cuda:0', grad_fn=<NegBackward0>) [tensor(-36.9784, device='cuda:0', grad_fn=<NegBackward0>), tensor(-11.0011, device='cuda:0', grad_fn=<NegBackward0>), tensor(-89.7366, device='cuda:0', grad_fn=<AddBackward0>)]\n",
      "5.121255507424057\n",
      "tensor(-131.9563, device='cuda:0', grad_fn=<NegBackward0>) [tensor(-36.9406, device='cuda:0', grad_fn=<NegBackward0>), tensor(-8.1093, device='cuda:0', grad_fn=<NegBackward0>), tensor(-86.9064, device='cuda:0', grad_fn=<AddBackward0>)]\n",
      "5.915489425406253\n",
      "tensor(-135.4913, device='cuda:0', grad_fn=<NegBackward0>) [tensor(-36.9406, device='cuda:0', grad_fn=<NegBackward0>), tensor(-9.1334, device='cuda:0', grad_fn=<NegBackward0>), tensor(-89.4174, device='cuda:0', grad_fn=<AddBackward0>)]\n",
      "5.138281561992324\n",
      "tensor(-132.4771, device='cuda:0', grad_fn=<NegBackward0>) [tensor(-36.9189, device='cuda:0', grad_fn=<NegBackward0>), tensor(-8.5567, device='cuda:0', grad_fn=<NegBackward0>), tensor(-87.0014, device='cuda:0', grad_fn=<AddBackward0>)]\n",
      "5.06573814801653\n",
      "tensor(-134.6964, device='cuda:0', grad_fn=<NegBackward0>) [tensor(-36.9189, device='cuda:0', grad_fn=<NegBackward0>), tensor(-9.3234, device='cuda:0', grad_fn=<NegBackward0>), tensor(-88.4541, device='cuda:0', grad_fn=<AddBackward0>)]\n",
      "5.043306398654396\n",
      "tensor(-133.7824, device='cuda:0', grad_fn=<NegBackward0>) [tensor(-37.0257, device='cuda:0', grad_fn=<NegBackward0>), tensor(-9.1893, device='cuda:0', grad_fn=<NegBackward0>), tensor(-87.5675, device='cuda:0', grad_fn=<AddBackward0>)]\n",
      "4.4238566169509514\n",
      "tensor(-133.9865, device='cuda:0', grad_fn=<NegBackward0>) [tensor(-37.0257, device='cuda:0', grad_fn=<NegBackward0>), tensor(-9.6156, device='cuda:0', grad_fn=<NegBackward0>), tensor(-87.3452, device='cuda:0', grad_fn=<AddBackward0>)]\n",
      "4.838158693553656\n",
      "tensor(-136.8748, device='cuda:0', grad_fn=<NegBackward0>) [tensor(-36.9879, device='cuda:0', grad_fn=<NegBackward0>), tensor(-9.8520, device='cuda:0', grad_fn=<NegBackward0>), tensor(-90.0349, device='cuda:0', grad_fn=<AddBackward0>)]\n"
     ]
    },
    {
     "name": "stdout",
     "output_type": "stream",
     "text": [
      "4.523344211099298\n",
      "tensor(-134.3586, device='cuda:0', grad_fn=<NegBackward0>) [tensor(-36.9879, device='cuda:0', grad_fn=<NegBackward0>), tensor(-9.6802, device='cuda:0', grad_fn=<NegBackward0>), tensor(-87.6906, device='cuda:0', grad_fn=<AddBackward0>)]\n",
      "5.498143841068505\n",
      "tensor(-134.3595, device='cuda:0', grad_fn=<NegBackward0>) [tensor(-37.0065, device='cuda:0', grad_fn=<NegBackward0>), tensor(-8.7758, device='cuda:0', grad_fn=<NegBackward0>), tensor(-88.5772, device='cuda:0', grad_fn=<AddBackward0>)]\n",
      "4.894275323011794\n",
      "tensor(-133.5860, device='cuda:0', grad_fn=<NegBackward0>) [tensor(-37.0065, device='cuda:0', grad_fn=<NegBackward0>), tensor(-8.7990, device='cuda:0', grad_fn=<NegBackward0>), tensor(-87.7805, device='cuda:0', grad_fn=<AddBackward0>)]\n",
      "5.327032486574163\n",
      "tensor(-133.1857, device='cuda:0', grad_fn=<NegBackward0>) [tensor(-37.0766, device='cuda:0', grad_fn=<NegBackward0>), tensor(-8.4278, device='cuda:0', grad_fn=<NegBackward0>), tensor(-87.6813, device='cuda:0', grad_fn=<AddBackward0>)]\n",
      "4.93107026718235\n",
      "tensor(-133.7444, device='cuda:0', grad_fn=<NegBackward0>) [tensor(-37.0766, device='cuda:0', grad_fn=<NegBackward0>), tensor(-9.1055, device='cuda:0', grad_fn=<NegBackward0>), tensor(-87.5624, device='cuda:0', grad_fn=<AddBackward0>)]\n",
      "4.665431018724009\n",
      "tensor(-136.2987, device='cuda:0', grad_fn=<NegBackward0>) [tensor(-37.0919, device='cuda:0', grad_fn=<NegBackward0>), tensor(-10.0236, device='cuda:0', grad_fn=<NegBackward0>), tensor(-89.1832, device='cuda:0', grad_fn=<AddBackward0>)]\n",
      "5.289155693286836\n",
      "tensor(-133.6534, device='cuda:0', grad_fn=<NegBackward0>) [tensor(-37.0919, device='cuda:0', grad_fn=<NegBackward0>), tensor(-8.5097, device='cuda:0', grad_fn=<NegBackward0>), tensor(-88.0517, device='cuda:0', grad_fn=<AddBackward0>)]\n",
      "5.278251146895487\n",
      "tensor(-132.8745, device='cuda:0', grad_fn=<NegBackward0>) [tensor(-37.0381, device='cuda:0', grad_fn=<NegBackward0>), tensor(-8.5279, device='cuda:0', grad_fn=<NegBackward0>), tensor(-87.3085, device='cuda:0', grad_fn=<AddBackward0>)]\n",
      "4.561998788531686\n",
      "tensor(-134.0161, device='cuda:0', grad_fn=<NegBackward0>) [tensor(-37.0381, device='cuda:0', grad_fn=<NegBackward0>), tensor(-9.5578, device='cuda:0', grad_fn=<NegBackward0>), tensor(-87.4203, device='cuda:0', grad_fn=<AddBackward0>)]\n",
      "5.344179138118541\n",
      "tensor(-134.2056, device='cuda:0', grad_fn=<NegBackward0>) [tensor(-36.9872, device='cuda:0', grad_fn=<NegBackward0>), tensor(-8.9282, device='cuda:0', grad_fn=<NegBackward0>), tensor(-88.2903, device='cuda:0', grad_fn=<AddBackward0>)]\n",
      "4.7387357012953295\n",
      "tensor(-135.7574, device='cuda:0', grad_fn=<NegBackward0>) [tensor(-36.9872, device='cuda:0', grad_fn=<NegBackward0>), tensor(-9.9271, device='cuda:0', grad_fn=<NegBackward0>), tensor(-88.8432, device='cuda:0', grad_fn=<AddBackward0>)]\n",
      "5.114130700085623\n",
      "tensor(-133.6845, device='cuda:0', grad_fn=<NegBackward0>) [tensor(-36.9437, device='cuda:0', grad_fn=<NegBackward0>), tensor(-8.5424, device='cuda:0', grad_fn=<NegBackward0>), tensor(-88.1983, device='cuda:0', grad_fn=<AddBackward0>)]\n",
      "4.880606393674505\n",
      "tensor(-133.5538, device='cuda:0', grad_fn=<NegBackward0>) [tensor(-36.9437, device='cuda:0', grad_fn=<NegBackward0>), tensor(-8.8583, device='cuda:0', grad_fn=<NegBackward0>), tensor(-87.7518, device='cuda:0', grad_fn=<AddBackward0>)]\n",
      "5.214098938378967\n",
      "tensor(-136.0879, device='cuda:0', grad_fn=<NegBackward0>) [tensor(-37.0446, device='cuda:0', grad_fn=<NegBackward0>), tensor(-9.6392, device='cuda:0', grad_fn=<NegBackward0>), tensor(-89.4042, device='cuda:0', grad_fn=<AddBackward0>)]\n",
      "5.080790043516468\n",
      "tensor(-136.3423, device='cuda:0', grad_fn=<NegBackward0>) [tensor(-37.0446, device='cuda:0', grad_fn=<NegBackward0>), tensor(-10.0839, device='cuda:0', grad_fn=<NegBackward0>), tensor(-89.2139, device='cuda:0', grad_fn=<AddBackward0>)]\n",
      "4.81512135714868\n",
      "tensor(-134.7964, device='cuda:0', grad_fn=<NegBackward0>) [tensor(-36.9896, device='cuda:0', grad_fn=<NegBackward0>), tensor(-9.6960, device='cuda:0', grad_fn=<NegBackward0>), tensor(-88.1108, device='cuda:0', grad_fn=<AddBackward0>)]\n",
      "5.153082505614913\n",
      "tensor(-134.0114, device='cuda:0', grad_fn=<NegBackward0>) [tensor(-36.9896, device='cuda:0', grad_fn=<NegBackward0>), tensor(-8.7607, device='cuda:0', grad_fn=<NegBackward0>), tensor(-88.2611, device='cuda:0', grad_fn=<AddBackward0>)]\n",
      "5.153082093373186\n",
      "tensor(-136.1940, device='cuda:0', grad_fn=<NegBackward0>) [tensor(-37.0205, device='cuda:0', grad_fn=<NegBackward0>), tensor(-9.7301, device='cuda:0', grad_fn=<NegBackward0>), tensor(-89.4434, device='cuda:0', grad_fn=<AddBackward0>)]\n",
      "5.081522937557236\n",
      "tensor(-133.6258, device='cuda:0', grad_fn=<NegBackward0>) [tensor(-37.0205, device='cuda:0', grad_fn=<NegBackward0>), tensor(-8.8733, device='cuda:0', grad_fn=<NegBackward0>), tensor(-87.7321, device='cuda:0', grad_fn=<AddBackward0>)]\n",
      "4.7118827924177555\n",
      "tensor(-133.2996, device='cuda:0', grad_fn=<NegBackward0>) [tensor(-37.0295, device='cuda:0', grad_fn=<NegBackward0>), tensor(-8.5518, device='cuda:0', grad_fn=<NegBackward0>), tensor(-87.7182, device='cuda:0', grad_fn=<AddBackward0>)]\n",
      "4.859229694600107\n",
      "tensor(-134.7815, device='cuda:0', grad_fn=<NegBackward0>) [tensor(-37.0295, device='cuda:0', grad_fn=<NegBackward0>), tensor(-9.4957, device='cuda:0', grad_fn=<NegBackward0>), tensor(-88.2563, device='cuda:0', grad_fn=<AddBackward0>)]\n",
      "4.929797957384351\n",
      "tensor(-135.2287, device='cuda:0', grad_fn=<NegBackward0>) [tensor(-36.9853, device='cuda:0', grad_fn=<NegBackward0>), tensor(-9.6710, device='cuda:0', grad_fn=<NegBackward0>), tensor(-88.5724, device='cuda:0', grad_fn=<AddBackward0>)]\n",
      "5.535565474040405\n",
      "tensor(-133.1014, device='cuda:0', grad_fn=<NegBackward0>) [tensor(-36.9853, device='cuda:0', grad_fn=<NegBackward0>), tensor(-8.7306, device='cuda:0', grad_fn=<NegBackward0>), tensor(-87.3855, device='cuda:0', grad_fn=<AddBackward0>)]\n",
      "5.06494575680004\n",
      "tensor(-135.2409, device='cuda:0', grad_fn=<NegBackward0>) [tensor(-37.0905, device='cuda:0', grad_fn=<NegBackward0>), tensor(-9.2355, device='cuda:0', grad_fn=<NegBackward0>), tensor(-88.9149, device='cuda:0', grad_fn=<AddBackward0>)]\n",
      "5.0099055764401985\n",
      "tensor(-134.9162, device='cuda:0', grad_fn=<NegBackward0>) [tensor(-37.0905, device='cuda:0', grad_fn=<NegBackward0>), tensor(-9.2659, device='cuda:0', grad_fn=<NegBackward0>), tensor(-88.5598, device='cuda:0', grad_fn=<AddBackward0>)]\n",
      "4.540956270140405\n",
      "tensor(-134.1798, device='cuda:0', grad_fn=<NegBackward0>) [tensor(-37.1090, device='cuda:0', grad_fn=<NegBackward0>), tensor(-9.7737, device='cuda:0', grad_fn=<NegBackward0>), tensor(-87.2971, device='cuda:0', grad_fn=<AddBackward0>)]\n",
      "5.05725735201706\n",
      "tensor(-134.5217, device='cuda:0', grad_fn=<NegBackward0>) [tensor(-37.1090, device='cuda:0', grad_fn=<NegBackward0>), tensor(-9.1848, device='cuda:0', grad_fn=<NegBackward0>), tensor(-88.2279, device='cuda:0', grad_fn=<AddBackward0>)]\n",
      "5.323087884623554\n",
      "tensor(-133.5258, device='cuda:0', grad_fn=<NegBackward0>) [tensor(-37.0877, device='cuda:0', grad_fn=<NegBackward0>), tensor(-8.6716, device='cuda:0', grad_fn=<NegBackward0>), tensor(-87.7665, device='cuda:0', grad_fn=<AddBackward0>)]\n",
      "5.803678704107172\n",
      "tensor(-134.3045, device='cuda:0', grad_fn=<NegBackward0>) [tensor(-37.0877, device='cuda:0', grad_fn=<NegBackward0>), tensor(-8.6972, device='cuda:0', grad_fn=<NegBackward0>), tensor(-88.5196, device='cuda:0', grad_fn=<AddBackward0>)]\n",
      "5.078266189778532\n",
      "tensor(-132.6900, device='cuda:0', grad_fn=<NegBackward0>) [tensor(-37.1240, device='cuda:0', grad_fn=<NegBackward0>), tensor(-8.6485, device='cuda:0', grad_fn=<NegBackward0>), tensor(-86.9174, device='cuda:0', grad_fn=<AddBackward0>)]\n",
      "4.827579201431443\n",
      "tensor(-133.5876, device='cuda:0', grad_fn=<NegBackward0>) [tensor(-37.1240, device='cuda:0', grad_fn=<NegBackward0>), tensor(-8.9898, device='cuda:0', grad_fn=<NegBackward0>), tensor(-87.4737, device='cuda:0', grad_fn=<AddBackward0>)]\n",
      "4.968905596440011\n",
      "tensor(-133.3401, device='cuda:0', grad_fn=<NegBackward0>) [tensor(-37.0328, device='cuda:0', grad_fn=<NegBackward0>), tensor(-9.0695, device='cuda:0', grad_fn=<NegBackward0>), tensor(-87.2379, device='cuda:0', grad_fn=<AddBackward0>)]\n",
      "4.596983720298655\n",
      "tensor(-132.1156, device='cuda:0', grad_fn=<NegBackward0>) [tensor(-37.0328, device='cuda:0', grad_fn=<NegBackward0>), tensor(-8.7335, device='cuda:0', grad_fn=<NegBackward0>), tensor(-86.3493, device='cuda:0', grad_fn=<AddBackward0>)]\n"
     ]
    },
    {
     "name": "stdout",
     "output_type": "stream",
     "text": [
      "4.8450500571850075\n",
      "tensor(-133.8130, device='cuda:0', grad_fn=<NegBackward0>) [tensor(-37.0722, device='cuda:0', grad_fn=<NegBackward0>), tensor(-9.2047, device='cuda:0', grad_fn=<NegBackward0>), tensor(-87.5361, device='cuda:0', grad_fn=<AddBackward0>)]\n",
      "4.673851724523014\n",
      "tensor(-132.6436, device='cuda:0', grad_fn=<NegBackward0>) [tensor(-37.0722, device='cuda:0', grad_fn=<NegBackward0>), tensor(-8.9584, device='cuda:0', grad_fn=<NegBackward0>), tensor(-86.6130, device='cuda:0', grad_fn=<AddBackward0>)]\n",
      "4.652817779650655\n",
      "tensor(-134.6434, device='cuda:0', grad_fn=<NegBackward0>) [tensor(-37.1471, device='cuda:0', grad_fn=<NegBackward0>), tensor(-9.7626, device='cuda:0', grad_fn=<NegBackward0>), tensor(-87.7338, device='cuda:0', grad_fn=<AddBackward0>)]\n",
      "5.229814730008085\n",
      "tensor(-133.1770, device='cuda:0', grad_fn=<NegBackward0>) [tensor(-37.1471, device='cuda:0', grad_fn=<NegBackward0>), tensor(-8.4388, device='cuda:0', grad_fn=<NegBackward0>), tensor(-87.5911, device='cuda:0', grad_fn=<AddBackward0>)]\n",
      "5.227158108147105\n",
      "tensor(-132.8323, device='cuda:0', grad_fn=<NegBackward0>) [tensor(-37.1888, device='cuda:0', grad_fn=<NegBackward0>), tensor(-8.1503, device='cuda:0', grad_fn=<NegBackward0>), tensor(-87.4932, device='cuda:0', grad_fn=<AddBackward0>)]\n",
      "5.3204125411926375\n",
      "tensor(-135.6575, device='cuda:0', grad_fn=<NegBackward0>) [tensor(-37.1888, device='cuda:0', grad_fn=<NegBackward0>), tensor(-9.2289, device='cuda:0', grad_fn=<NegBackward0>), tensor(-89.2398, device='cuda:0', grad_fn=<AddBackward0>)]\n",
      "4.748829664179214\n",
      "tensor(-134.4830, device='cuda:0', grad_fn=<NegBackward0>) [tensor(-37.1658, device='cuda:0', grad_fn=<NegBackward0>), tensor(-9.4347, device='cuda:0', grad_fn=<NegBackward0>), tensor(-87.8826, device='cuda:0', grad_fn=<AddBackward0>)]\n",
      "4.620072332535642\n",
      "tensor(-135.3520, device='cuda:0', grad_fn=<NegBackward0>) [tensor(-37.1658, device='cuda:0', grad_fn=<NegBackward0>), tensor(-9.9052, device='cuda:0', grad_fn=<NegBackward0>), tensor(-88.2809, device='cuda:0', grad_fn=<AddBackward0>)]\n",
      "5.164741876442096\n",
      "tensor(-135.4149, device='cuda:0', grad_fn=<NegBackward0>) [tensor(-37.0655, device='cuda:0', grad_fn=<NegBackward0>), tensor(-9.4421, device='cuda:0', grad_fn=<NegBackward0>), tensor(-88.9074, device='cuda:0', grad_fn=<AddBackward0>)]\n",
      "4.684901418459801\n",
      "tensor(-135.1485, device='cuda:0', grad_fn=<NegBackward0>) [tensor(-37.0655, device='cuda:0', grad_fn=<NegBackward0>), tensor(-10.0299, device='cuda:0', grad_fn=<NegBackward0>), tensor(-88.0531, device='cuda:0', grad_fn=<AddBackward0>)]\n",
      "5.432019658007031\n",
      "tensor(-136.5307, device='cuda:0', grad_fn=<NegBackward0>) [tensor(-37.0242, device='cuda:0', grad_fn=<NegBackward0>), tensor(-9.9627, device='cuda:0', grad_fn=<NegBackward0>), tensor(-89.5439, device='cuda:0', grad_fn=<AddBackward0>)]\n",
      "5.251776951646549\n",
      "tensor(-134.9557, device='cuda:0', grad_fn=<NegBackward0>) [tensor(-37.0242, device='cuda:0', grad_fn=<NegBackward0>), tensor(-9.3000, device='cuda:0', grad_fn=<NegBackward0>), tensor(-88.6315, device='cuda:0', grad_fn=<AddBackward0>)]\n",
      "4.713262108723759\n",
      "tensor(-134.8282, device='cuda:0', grad_fn=<NegBackward0>) [tensor(-37.0529, device='cuda:0', grad_fn=<NegBackward0>), tensor(-9.9010, device='cuda:0', grad_fn=<NegBackward0>), tensor(-87.8743, device='cuda:0', grad_fn=<AddBackward0>)]\n",
      "4.930611595419823\n",
      "tensor(-134.6064, device='cuda:0', grad_fn=<NegBackward0>) [tensor(-37.0529, device='cuda:0', grad_fn=<NegBackward0>), tensor(-9.1608, device='cuda:0', grad_fn=<NegBackward0>), tensor(-88.3926, device='cuda:0', grad_fn=<AddBackward0>)]\n",
      "5.350160486932751\n",
      "tensor(-133.7939, device='cuda:0', grad_fn=<NegBackward0>) [tensor(-37.0748, device='cuda:0', grad_fn=<NegBackward0>), tensor(-8.9070, device='cuda:0', grad_fn=<NegBackward0>), tensor(-87.8121, device='cuda:0', grad_fn=<AddBackward0>)]\n",
      "5.55000187620609\n",
      "tensor(-133.9785, device='cuda:0', grad_fn=<NegBackward0>) [tensor(-37.0748, device='cuda:0', grad_fn=<NegBackward0>), tensor(-8.6690, device='cuda:0', grad_fn=<NegBackward0>), tensor(-88.2346, device='cuda:0', grad_fn=<AddBackward0>)]\n",
      "4.797477575143071\n",
      "tensor(-134.3797, device='cuda:0', grad_fn=<NegBackward0>) [tensor(-37.1719, device='cuda:0', grad_fn=<NegBackward0>), tensor(-8.9849, device='cuda:0', grad_fn=<NegBackward0>), tensor(-88.2228, device='cuda:0', grad_fn=<AddBackward0>)]\n",
      "4.911606014706734\n",
      "tensor(-135.2403, device='cuda:0', grad_fn=<NegBackward0>) [tensor(-37.1719, device='cuda:0', grad_fn=<NegBackward0>), tensor(-9.2984, device='cuda:0', grad_fn=<NegBackward0>), tensor(-88.7700, device='cuda:0', grad_fn=<AddBackward0>)]\n",
      "4.954491161153465\n",
      "tensor(-135.0570, device='cuda:0', grad_fn=<NegBackward0>) [tensor(-37.1426, device='cuda:0', grad_fn=<NegBackward0>), tensor(-9.1264, device='cuda:0', grad_fn=<NegBackward0>), tensor(-88.7881, device='cuda:0', grad_fn=<AddBackward0>)]\n",
      "5.018660314763511\n",
      "tensor(-136.3508, device='cuda:0', grad_fn=<NegBackward0>) [tensor(-37.1426, device='cuda:0', grad_fn=<NegBackward0>), tensor(-9.8549, device='cuda:0', grad_fn=<NegBackward0>), tensor(-89.3533, device='cuda:0', grad_fn=<AddBackward0>)]\n",
      "5.238693894508685\n",
      "tensor(-136.2567, device='cuda:0', grad_fn=<NegBackward0>) [tensor(-37.1554, device='cuda:0', grad_fn=<NegBackward0>), tensor(-10.4185, device='cuda:0', grad_fn=<NegBackward0>), tensor(-88.6828, device='cuda:0', grad_fn=<AddBackward0>)]\n",
      "5.148975730413458\n",
      "tensor(-133.9307, device='cuda:0', grad_fn=<NegBackward0>) [tensor(-37.1554, device='cuda:0', grad_fn=<NegBackward0>), tensor(-8.5162, device='cuda:0', grad_fn=<NegBackward0>), tensor(-88.2591, device='cuda:0', grad_fn=<AddBackward0>)]\n",
      "4.5544582999611745\n",
      "tensor(-135.9056, device='cuda:0', grad_fn=<NegBackward0>) [tensor(-37.1730, device='cuda:0', grad_fn=<NegBackward0>), tensor(-10.3416, device='cuda:0', grad_fn=<NegBackward0>), tensor(-88.3909, device='cuda:0', grad_fn=<AddBackward0>)]\n",
      "4.694915063784656\n",
      "tensor(-135.4686, device='cuda:0', grad_fn=<NegBackward0>) [tensor(-37.1730, device='cuda:0', grad_fn=<NegBackward0>), tensor(-9.8433, device='cuda:0', grad_fn=<NegBackward0>), tensor(-88.4523, device='cuda:0', grad_fn=<AddBackward0>)]\n",
      "4.971533183278492\n",
      "tensor(-133.3393, device='cuda:0', grad_fn=<NegBackward0>) [tensor(-36.9789, device='cuda:0', grad_fn=<NegBackward0>), tensor(-8.8363, device='cuda:0', grad_fn=<NegBackward0>), tensor(-87.5240, device='cuda:0', grad_fn=<AddBackward0>)]\n",
      "5.181090188014867\n",
      "tensor(-133.7686, device='cuda:0', grad_fn=<NegBackward0>) [tensor(-36.9789, device='cuda:0', grad_fn=<NegBackward0>), tensor(-8.7944, device='cuda:0', grad_fn=<NegBackward0>), tensor(-87.9953, device='cuda:0', grad_fn=<AddBackward0>)]\n",
      "4.735803536685723\n",
      "tensor(-135.8519, device='cuda:0', grad_fn=<NegBackward0>) [tensor(-37.1795, device='cuda:0', grad_fn=<NegBackward0>), tensor(-9.8345, device='cuda:0', grad_fn=<NegBackward0>), tensor(-88.8380, device='cuda:0', grad_fn=<AddBackward0>)]\n",
      "5.135722615193688\n",
      "tensor(-132.2575, device='cuda:0', grad_fn=<NegBackward0>) [tensor(-37.1795, device='cuda:0', grad_fn=<NegBackward0>), tensor(-8.2378, device='cuda:0', grad_fn=<NegBackward0>), tensor(-86.8402, device='cuda:0', grad_fn=<AddBackward0>)]\n",
      "5.146031057342117\n",
      "tensor(-137.7033, device='cuda:0', grad_fn=<NegBackward0>) [tensor(-37.1562, device='cuda:0', grad_fn=<NegBackward0>), tensor(-10.1268, device='cuda:0', grad_fn=<NegBackward0>), tensor(-90.4204, device='cuda:0', grad_fn=<AddBackward0>)]\n",
      "5.116855974408696\n",
      "tensor(-135.5883, device='cuda:0', grad_fn=<NegBackward0>) [tensor(-37.1562, device='cuda:0', grad_fn=<NegBackward0>), tensor(-9.3151, device='cuda:0', grad_fn=<NegBackward0>), tensor(-89.1170, device='cuda:0', grad_fn=<AddBackward0>)]\n",
      "5.560706098337741\n",
      "tensor(-134.8734, device='cuda:0', grad_fn=<NegBackward0>) [tensor(-37.1424, device='cuda:0', grad_fn=<NegBackward0>), tensor(-9.1163, device='cuda:0', grad_fn=<NegBackward0>), tensor(-88.6147, device='cuda:0', grad_fn=<AddBackward0>)]\n",
      "5.478279286627168\n",
      "tensor(-135.7619, device='cuda:0', grad_fn=<NegBackward0>) [tensor(-37.1424, device='cuda:0', grad_fn=<NegBackward0>), tensor(-9.2374, device='cuda:0', grad_fn=<NegBackward0>), tensor(-89.3821, device='cuda:0', grad_fn=<AddBackward0>)]\n",
      "4.762632390937223\n",
      "tensor(-135.4221, device='cuda:0', grad_fn=<NegBackward0>) [tensor(-37.1307, device='cuda:0', grad_fn=<NegBackward0>), tensor(-10.0126, device='cuda:0', grad_fn=<NegBackward0>), tensor(-88.2788, device='cuda:0', grad_fn=<AddBackward0>)]\n"
     ]
    },
    {
     "name": "stdout",
     "output_type": "stream",
     "text": [
      "5.025418599492951\n",
      "tensor(-135.5467, device='cuda:0', grad_fn=<NegBackward0>) [tensor(-37.1307, device='cuda:0', grad_fn=<NegBackward0>), tensor(-9.8265, device='cuda:0', grad_fn=<NegBackward0>), tensor(-88.5894, device='cuda:0', grad_fn=<AddBackward0>)]\n",
      "5.681806722218659\n",
      "tensor(-134.9145, device='cuda:0', grad_fn=<NegBackward0>) [tensor(-37.0577, device='cuda:0', grad_fn=<NegBackward0>), tensor(-9.0130, device='cuda:0', grad_fn=<NegBackward0>), tensor(-88.8439, device='cuda:0', grad_fn=<AddBackward0>)]\n",
      "4.596298692601194\n",
      "tensor(-133.7652, device='cuda:0', grad_fn=<NegBackward0>) [tensor(-37.0577, device='cuda:0', grad_fn=<NegBackward0>), tensor(-9.4084, device='cuda:0', grad_fn=<NegBackward0>), tensor(-87.2992, device='cuda:0', grad_fn=<AddBackward0>)]\n",
      "4.814854753419209\n",
      "tensor(-137.9800, device='cuda:0', grad_fn=<NegBackward0>) [tensor(-37.0666, device='cuda:0', grad_fn=<NegBackward0>), tensor(-10.4635, device='cuda:0', grad_fn=<NegBackward0>), tensor(-90.4499, device='cuda:0', grad_fn=<AddBackward0>)]\n",
      "4.640708542407189\n",
      "tensor(-134.3710, device='cuda:0', grad_fn=<NegBackward0>) [tensor(-37.0666, device='cuda:0', grad_fn=<NegBackward0>), tensor(-9.6573, device='cuda:0', grad_fn=<NegBackward0>), tensor(-87.6471, device='cuda:0', grad_fn=<AddBackward0>)]\n",
      "4.988133567394945\n",
      "tensor(-134.1213, device='cuda:0', grad_fn=<NegBackward0>) [tensor(-37.0641, device='cuda:0', grad_fn=<NegBackward0>), tensor(-9.1664, device='cuda:0', grad_fn=<NegBackward0>), tensor(-87.8908, device='cuda:0', grad_fn=<AddBackward0>)]\n",
      "5.38144326880971\n",
      "tensor(-137.0204, device='cuda:0', grad_fn=<NegBackward0>) [tensor(-37.0641, device='cuda:0', grad_fn=<NegBackward0>), tensor(-10.3154, device='cuda:0', grad_fn=<NegBackward0>), tensor(-89.6408, device='cuda:0', grad_fn=<AddBackward0>)]\n",
      "4.961181351668022\n",
      "tensor(-133.1615, device='cuda:0', grad_fn=<NegBackward0>) [tensor(-37.1483, device='cuda:0', grad_fn=<NegBackward0>), tensor(-8.4202, device='cuda:0', grad_fn=<NegBackward0>), tensor(-87.5930, device='cuda:0', grad_fn=<AddBackward0>)]\n",
      "5.460871234142968\n",
      "tensor(-134.5049, device='cuda:0', grad_fn=<NegBackward0>) [tensor(-37.1483, device='cuda:0', grad_fn=<NegBackward0>), tensor(-9.1184, device='cuda:0', grad_fn=<NegBackward0>), tensor(-88.2383, device='cuda:0', grad_fn=<AddBackward0>)]\n",
      "5.379883664073013\n",
      "tensor(-135.6997, device='cuda:0', grad_fn=<NegBackward0>) [tensor(-37.1016, device='cuda:0', grad_fn=<NegBackward0>), tensor(-9.4799, device='cuda:0', grad_fn=<NegBackward0>), tensor(-89.1182, device='cuda:0', grad_fn=<AddBackward0>)]\n",
      "5.025272352524047\n",
      "tensor(-134.1151, device='cuda:0', grad_fn=<NegBackward0>) [tensor(-37.1016, device='cuda:0', grad_fn=<NegBackward0>), tensor(-8.9586, device='cuda:0', grad_fn=<NegBackward0>), tensor(-88.0549, device='cuda:0', grad_fn=<AddBackward0>)]\n",
      "5.344335615445356\n",
      "tensor(-135.6797, device='cuda:0', grad_fn=<NegBackward0>) [tensor(-37.1884, device='cuda:0', grad_fn=<NegBackward0>), tensor(-9.4932, device='cuda:0', grad_fn=<NegBackward0>), tensor(-88.9981, device='cuda:0', grad_fn=<AddBackward0>)]\n",
      "4.733039417630217\n",
      "tensor(-136.3899, device='cuda:0', grad_fn=<NegBackward0>) [tensor(-37.1884, device='cuda:0', grad_fn=<NegBackward0>), tensor(-10.1011, device='cuda:0', grad_fn=<NegBackward0>), tensor(-89.1004, device='cuda:0', grad_fn=<AddBackward0>)]\n",
      "5.205202116807486\n",
      "tensor(-134.7494, device='cuda:0', grad_fn=<NegBackward0>) [tensor(-37.1781, device='cuda:0', grad_fn=<NegBackward0>), tensor(-8.8260, device='cuda:0', grad_fn=<NegBackward0>), tensor(-88.7452, device='cuda:0', grad_fn=<AddBackward0>)]\n",
      "5.23010410579922\n",
      "tensor(-135.1090, device='cuda:0', grad_fn=<NegBackward0>) [tensor(-37.1781, device='cuda:0', grad_fn=<NegBackward0>), tensor(-9.5172, device='cuda:0', grad_fn=<NegBackward0>), tensor(-88.4137, device='cuda:0', grad_fn=<AddBackward0>)]\n",
      "5.228234976307228\n",
      "tensor(-135.5999, device='cuda:0', grad_fn=<NegBackward0>) [tensor(-37.0420, device='cuda:0', grad_fn=<NegBackward0>), tensor(-9.1476, device='cuda:0', grad_fn=<NegBackward0>), tensor(-89.4103, device='cuda:0', grad_fn=<AddBackward0>)]\n",
      "4.756029495891675\n",
      "tensor(-135.8004, device='cuda:0', grad_fn=<NegBackward0>) [tensor(-37.0420, device='cuda:0', grad_fn=<NegBackward0>), tensor(-9.6039, device='cuda:0', grad_fn=<NegBackward0>), tensor(-89.1544, device='cuda:0', grad_fn=<AddBackward0>)]\n",
      "5.275721465489368\n",
      "tensor(-133.5424, device='cuda:0', grad_fn=<NegBackward0>) [tensor(-37.1180, device='cuda:0', grad_fn=<NegBackward0>), tensor(-8.5041, device='cuda:0', grad_fn=<NegBackward0>), tensor(-87.9204, device='cuda:0', grad_fn=<AddBackward0>)]\n",
      "5.357402022405507\n",
      "tensor(-133.3730, device='cuda:0', grad_fn=<NegBackward0>) [tensor(-37.1180, device='cuda:0', grad_fn=<NegBackward0>), tensor(-8.4070, device='cuda:0', grad_fn=<NegBackward0>), tensor(-87.8481, device='cuda:0', grad_fn=<AddBackward0>)]\n",
      "5.131090855420207\n",
      "tensor(-136.8635, device='cuda:0', grad_fn=<NegBackward0>) [tensor(-37.1967, device='cuda:0', grad_fn=<NegBackward0>), tensor(-10.1826, device='cuda:0', grad_fn=<NegBackward0>), tensor(-89.4842, device='cuda:0', grad_fn=<AddBackward0>)]\n",
      "5.0551299481511345\n",
      "tensor(-134.3600, device='cuda:0', grad_fn=<NegBackward0>) [tensor(-37.1967, device='cuda:0', grad_fn=<NegBackward0>), tensor(-9.0370, device='cuda:0', grad_fn=<NegBackward0>), tensor(-88.1263, device='cuda:0', grad_fn=<AddBackward0>)]\n",
      "5.917943567289371\n",
      "tensor(-135.8758, device='cuda:0', grad_fn=<NegBackward0>) [tensor(-37.1556, device='cuda:0', grad_fn=<NegBackward0>), tensor(-9.3739, device='cuda:0', grad_fn=<NegBackward0>), tensor(-89.3463, device='cuda:0', grad_fn=<AddBackward0>)]\n",
      "4.962086549618321\n",
      "tensor(-132.7599, device='cuda:0', grad_fn=<NegBackward0>) [tensor(-37.1556, device='cuda:0', grad_fn=<NegBackward0>), tensor(-8.4360, device='cuda:0', grad_fn=<NegBackward0>), tensor(-87.1683, device='cuda:0', grad_fn=<AddBackward0>)]\n",
      "5.830545075574932\n",
      "tensor(-134.3433, device='cuda:0', grad_fn=<NegBackward0>) [tensor(-37.2547, device='cuda:0', grad_fn=<NegBackward0>), tensor(-8.6329, device='cuda:0', grad_fn=<NegBackward0>), tensor(-88.4557, device='cuda:0', grad_fn=<AddBackward0>)]\n",
      "5.316244820775603\n",
      "tensor(-133.1031, device='cuda:0', grad_fn=<NegBackward0>) [tensor(-37.2547, device='cuda:0', grad_fn=<NegBackward0>), tensor(-8.6455, device='cuda:0', grad_fn=<NegBackward0>), tensor(-87.2029, device='cuda:0', grad_fn=<AddBackward0>)]\n",
      "5.359602584822281\n",
      "tensor(-134.3844, device='cuda:0', grad_fn=<NegBackward0>) [tensor(-37.1915, device='cuda:0', grad_fn=<NegBackward0>), tensor(-8.7755, device='cuda:0', grad_fn=<NegBackward0>), tensor(-88.4174, device='cuda:0', grad_fn=<AddBackward0>)]\n",
      "5.7463173130315255\n",
      "tensor(-133.7267, device='cuda:0', grad_fn=<NegBackward0>) [tensor(-37.1915, device='cuda:0', grad_fn=<NegBackward0>), tensor(-8.2241, device='cuda:0', grad_fn=<NegBackward0>), tensor(-88.3111, device='cuda:0', grad_fn=<AddBackward0>)]\n",
      "4.878488772579067\n",
      "tensor(-136.0627, device='cuda:0', grad_fn=<NegBackward0>) [tensor(-37.2478, device='cuda:0', grad_fn=<NegBackward0>), tensor(-10.1244, device='cuda:0', grad_fn=<NegBackward0>), tensor(-88.6904, device='cuda:0', grad_fn=<AddBackward0>)]\n",
      "4.857067288134467\n",
      "tensor(-134.2142, device='cuda:0', grad_fn=<NegBackward0>) [tensor(-37.2478, device='cuda:0', grad_fn=<NegBackward0>), tensor(-9.5405, device='cuda:0', grad_fn=<NegBackward0>), tensor(-87.4259, device='cuda:0', grad_fn=<AddBackward0>)]\n",
      "4.79649541756439\n",
      "tensor(-137.1964, device='cuda:0', grad_fn=<NegBackward0>) [tensor(-37.2273, device='cuda:0', grad_fn=<NegBackward0>), tensor(-10.3882, device='cuda:0', grad_fn=<NegBackward0>), tensor(-89.5809, device='cuda:0', grad_fn=<AddBackward0>)]\n",
      "4.877116087139623\n",
      "tensor(-135.9707, device='cuda:0', grad_fn=<NegBackward0>) [tensor(-37.2273, device='cuda:0', grad_fn=<NegBackward0>), tensor(-9.9246, device='cuda:0', grad_fn=<NegBackward0>), tensor(-88.8188, device='cuda:0', grad_fn=<AddBackward0>)]\n",
      "5.0781260920717495\n",
      "tensor(-135.6946, device='cuda:0', grad_fn=<NegBackward0>) [tensor(-37.1248, device='cuda:0', grad_fn=<NegBackward0>), tensor(-9.6743, device='cuda:0', grad_fn=<NegBackward0>), tensor(-88.8954, device='cuda:0', grad_fn=<AddBackward0>)]\n",
      "5.144527215977938\n",
      "tensor(-133.1831, device='cuda:0', grad_fn=<NegBackward0>) [tensor(-37.1248, device='cuda:0', grad_fn=<NegBackward0>), tensor(-8.3287, device='cuda:0', grad_fn=<NegBackward0>), tensor(-87.7296, device='cuda:0', grad_fn=<AddBackward0>)]\n"
     ]
    },
    {
     "name": "stdout",
     "output_type": "stream",
     "text": [
      "5.009535934178282\n",
      "tensor(-136.2237, device='cuda:0', grad_fn=<NegBackward0>) [tensor(-37.1726, device='cuda:0', grad_fn=<NegBackward0>), tensor(-9.7754, device='cuda:0', grad_fn=<NegBackward0>), tensor(-89.2757, device='cuda:0', grad_fn=<AddBackward0>)]\n",
      "4.686592041757559\n",
      "tensor(-137.2132, device='cuda:0', grad_fn=<NegBackward0>) [tensor(-37.1726, device='cuda:0', grad_fn=<NegBackward0>), tensor(-10.2927, device='cuda:0', grad_fn=<NegBackward0>), tensor(-89.7479, device='cuda:0', grad_fn=<AddBackward0>)]\n",
      "4.662905722987949\n",
      "tensor(-132.7070, device='cuda:0', grad_fn=<NegBackward0>) [tensor(-37.0973, device='cuda:0', grad_fn=<NegBackward0>), tensor(-8.7904, device='cuda:0', grad_fn=<NegBackward0>), tensor(-86.8193, device='cuda:0', grad_fn=<AddBackward0>)]\n",
      "4.654560639168171\n",
      "tensor(-133.4138, device='cuda:0', grad_fn=<NegBackward0>) [tensor(-37.0973, device='cuda:0', grad_fn=<NegBackward0>), tensor(-9.1571, device='cuda:0', grad_fn=<NegBackward0>), tensor(-87.1593, device='cuda:0', grad_fn=<AddBackward0>)]\n",
      "5.185193298448747\n",
      "tensor(-134.1937, device='cuda:0', grad_fn=<NegBackward0>) [tensor(-37.0738, device='cuda:0', grad_fn=<NegBackward0>), tensor(-8.8893, device='cuda:0', grad_fn=<NegBackward0>), tensor(-88.2306, device='cuda:0', grad_fn=<AddBackward0>)]\n",
      "4.876156739059781\n",
      "tensor(-135.1675, device='cuda:0', grad_fn=<NegBackward0>) [tensor(-37.0738, device='cuda:0', grad_fn=<NegBackward0>), tensor(-9.5370, device='cuda:0', grad_fn=<NegBackward0>), tensor(-88.5567, device='cuda:0', grad_fn=<AddBackward0>)]\n",
      "5.302551002823146\n",
      "tensor(-135.3792, device='cuda:0', grad_fn=<NegBackward0>) [tensor(-37.1634, device='cuda:0', grad_fn=<NegBackward0>), tensor(-9.3334, device='cuda:0', grad_fn=<NegBackward0>), tensor(-88.8823, device='cuda:0', grad_fn=<AddBackward0>)]\n",
      "5.119433129317647\n",
      "tensor(-136.1455, device='cuda:0', grad_fn=<NegBackward0>) [tensor(-37.1634, device='cuda:0', grad_fn=<NegBackward0>), tensor(-9.5108, device='cuda:0', grad_fn=<NegBackward0>), tensor(-89.4714, device='cuda:0', grad_fn=<AddBackward0>)]\n",
      "5.012040231283654\n",
      "tensor(-136.4825, device='cuda:0', grad_fn=<NegBackward0>) [tensor(-37.1407, device='cuda:0', grad_fn=<NegBackward0>), tensor(-9.8178, device='cuda:0', grad_fn=<NegBackward0>), tensor(-89.5240, device='cuda:0', grad_fn=<AddBackward0>)]\n",
      "4.814293248949815\n",
      "tensor(-136.8350, device='cuda:0', grad_fn=<NegBackward0>) [tensor(-37.1407, device='cuda:0', grad_fn=<NegBackward0>), tensor(-9.7962, device='cuda:0', grad_fn=<NegBackward0>), tensor(-89.8981, device='cuda:0', grad_fn=<AddBackward0>)]\n",
      "5.2333628675997526\n",
      "tensor(-133.6205, device='cuda:0', grad_fn=<NegBackward0>) [tensor(-37.2011, device='cuda:0', grad_fn=<NegBackward0>), tensor(-8.4692, device='cuda:0', grad_fn=<NegBackward0>), tensor(-87.9501, device='cuda:0', grad_fn=<AddBackward0>)]\n",
      "5.017514056104803\n",
      "tensor(-133.6935, device='cuda:0', grad_fn=<NegBackward0>) [tensor(-37.2011, device='cuda:0', grad_fn=<NegBackward0>), tensor(-8.5994, device='cuda:0', grad_fn=<NegBackward0>), tensor(-87.8929, device='cuda:0', grad_fn=<AddBackward0>)]\n",
      "5.014951516944021\n",
      "tensor(-134.8537, device='cuda:0', grad_fn=<NegBackward0>) [tensor(-37.3528, device='cuda:0', grad_fn=<NegBackward0>), tensor(-8.9614, device='cuda:0', grad_fn=<NegBackward0>), tensor(-88.5395, device='cuda:0', grad_fn=<AddBackward0>)]\n",
      "5.350659417207253\n",
      "tensor(-137.1011, device='cuda:0', grad_fn=<NegBackward0>) [tensor(-37.3528, device='cuda:0', grad_fn=<NegBackward0>), tensor(-9.8278, device='cuda:0', grad_fn=<NegBackward0>), tensor(-89.9205, device='cuda:0', grad_fn=<AddBackward0>)]\n",
      "5.460624284898124\n",
      "tensor(-138.2939, device='cuda:0', grad_fn=<NegBackward0>) [tensor(-37.3298, device='cuda:0', grad_fn=<NegBackward0>), tensor(-9.9154, device='cuda:0', grad_fn=<NegBackward0>), tensor(-91.0487, device='cuda:0', grad_fn=<AddBackward0>)]\n",
      "5.335413475260917\n",
      "tensor(-135.6603, device='cuda:0', grad_fn=<NegBackward0>) [tensor(-37.3298, device='cuda:0', grad_fn=<NegBackward0>), tensor(-9.4034, device='cuda:0', grad_fn=<NegBackward0>), tensor(-88.9271, device='cuda:0', grad_fn=<AddBackward0>)]\n",
      "5.550611410477345\n",
      "tensor(-133.9880, device='cuda:0', grad_fn=<NegBackward0>) [tensor(-37.2522, device='cuda:0', grad_fn=<NegBackward0>), tensor(-8.8734, device='cuda:0', grad_fn=<NegBackward0>), tensor(-87.8624, device='cuda:0', grad_fn=<AddBackward0>)]\n",
      "5.067034912972089\n",
      "tensor(-135.9571, device='cuda:0', grad_fn=<NegBackward0>) [tensor(-37.2522, device='cuda:0', grad_fn=<NegBackward0>), tensor(-9.5324, device='cuda:0', grad_fn=<NegBackward0>), tensor(-89.1725, device='cuda:0', grad_fn=<AddBackward0>)]\n",
      "4.846382053430392\n",
      "tensor(-136.1782, device='cuda:0', grad_fn=<NegBackward0>) [tensor(-37.2361, device='cuda:0', grad_fn=<NegBackward0>), tensor(-10.2381, device='cuda:0', grad_fn=<NegBackward0>), tensor(-88.7041, device='cuda:0', grad_fn=<AddBackward0>)]\n",
      "5.631397123165104\n",
      "tensor(-133.0085, device='cuda:0', grad_fn=<NegBackward0>) [tensor(-37.2361, device='cuda:0', grad_fn=<NegBackward0>), tensor(-8.1548, device='cuda:0', grad_fn=<NegBackward0>), tensor(-87.6176, device='cuda:0', grad_fn=<AddBackward0>)]\n",
      "5.285768269645952\n",
      "tensor(-135.8608, device='cuda:0', grad_fn=<NegBackward0>) [tensor(-37.2730, device='cuda:0', grad_fn=<NegBackward0>), tensor(-9.2006, device='cuda:0', grad_fn=<NegBackward0>), tensor(-89.3873, device='cuda:0', grad_fn=<AddBackward0>)]\n",
      "4.91197179912168\n",
      "tensor(-135.1126, device='cuda:0', grad_fn=<NegBackward0>) [tensor(-37.2730, device='cuda:0', grad_fn=<NegBackward0>), tensor(-9.9001, device='cuda:0', grad_fn=<NegBackward0>), tensor(-87.9396, device='cuda:0', grad_fn=<AddBackward0>)]\n",
      "4.999792719731605\n",
      "tensor(-136.2475, device='cuda:0', grad_fn=<NegBackward0>) [tensor(-37.1921, device='cuda:0', grad_fn=<NegBackward0>), tensor(-10.0265, device='cuda:0', grad_fn=<NegBackward0>), tensor(-89.0289, device='cuda:0', grad_fn=<AddBackward0>)]\n",
      "5.126038024789514\n",
      "tensor(-133.8202, device='cuda:0', grad_fn=<NegBackward0>) [tensor(-37.1921, device='cuda:0', grad_fn=<NegBackward0>), tensor(-8.6213, device='cuda:0', grad_fn=<NegBackward0>), tensor(-88.0067, device='cuda:0', grad_fn=<AddBackward0>)]\n",
      "4.936853712738678\n",
      "tensor(-136.6494, device='cuda:0', grad_fn=<NegBackward0>) [tensor(-37.2151, device='cuda:0', grad_fn=<NegBackward0>), tensor(-10.3193, device='cuda:0', grad_fn=<NegBackward0>), tensor(-89.1151, device='cuda:0', grad_fn=<AddBackward0>)]\n",
      "5.0787254004324485\n",
      "tensor(-132.4994, device='cuda:0', grad_fn=<NegBackward0>) [tensor(-37.2151, device='cuda:0', grad_fn=<NegBackward0>), tensor(-8.5111, device='cuda:0', grad_fn=<NegBackward0>), tensor(-86.7732, device='cuda:0', grad_fn=<AddBackward0>)]\n",
      "5.146450902043507\n",
      "tensor(-134.2019, device='cuda:0', grad_fn=<NegBackward0>) [tensor(-37.2482, device='cuda:0', grad_fn=<NegBackward0>), tensor(-8.6113, device='cuda:0', grad_fn=<NegBackward0>), tensor(-88.3424, device='cuda:0', grad_fn=<AddBackward0>)]\n",
      "4.913315058297188\n",
      "tensor(-136.0690, device='cuda:0', grad_fn=<NegBackward0>) [tensor(-37.2482, device='cuda:0', grad_fn=<NegBackward0>), tensor(-9.7179, device='cuda:0', grad_fn=<NegBackward0>), tensor(-89.1029, device='cuda:0', grad_fn=<AddBackward0>)]\n",
      "5.389820509185419\n",
      "tensor(-135.7918, device='cuda:0', grad_fn=<NegBackward0>) [tensor(-37.2560, device='cuda:0', grad_fn=<NegBackward0>), tensor(-9.6443, device='cuda:0', grad_fn=<NegBackward0>), tensor(-88.8915, device='cuda:0', grad_fn=<AddBackward0>)]\n",
      "4.954657306545509\n",
      "tensor(-135.2026, device='cuda:0', grad_fn=<NegBackward0>) [tensor(-37.2560, device='cuda:0', grad_fn=<NegBackward0>), tensor(-9.2697, device='cuda:0', grad_fn=<NegBackward0>), tensor(-88.6769, device='cuda:0', grad_fn=<AddBackward0>)]\n",
      "4.663224687056425\n",
      "tensor(-133.6595, device='cuda:0', grad_fn=<NegBackward0>) [tensor(-37.3204, device='cuda:0', grad_fn=<NegBackward0>), tensor(-9.1041, device='cuda:0', grad_fn=<NegBackward0>), tensor(-87.2350, device='cuda:0', grad_fn=<AddBackward0>)]\n",
      "5.221904247075216\n",
      "tensor(-135.3749, device='cuda:0', grad_fn=<NegBackward0>) [tensor(-37.3204, device='cuda:0', grad_fn=<NegBackward0>), tensor(-9.3250, device='cuda:0', grad_fn=<NegBackward0>), tensor(-88.7295, device='cuda:0', grad_fn=<AddBackward0>)]\n",
      "4.957034788891392\n",
      "tensor(-135.5910, device='cuda:0', grad_fn=<NegBackward0>) [tensor(-37.2865, device='cuda:0', grad_fn=<NegBackward0>), tensor(-9.7893, device='cuda:0', grad_fn=<NegBackward0>), tensor(-88.5152, device='cuda:0', grad_fn=<AddBackward0>)]\n"
     ]
    },
    {
     "name": "stdout",
     "output_type": "stream",
     "text": [
      "4.988596855811397\n",
      "tensor(-135.4255, device='cuda:0', grad_fn=<NegBackward0>) [tensor(-37.2865, device='cuda:0', grad_fn=<NegBackward0>), tensor(-9.5657, device='cuda:0', grad_fn=<NegBackward0>), tensor(-88.5733, device='cuda:0', grad_fn=<AddBackward0>)]\n",
      "5.107679419843826\n",
      "tensor(-136.0213, device='cuda:0', grad_fn=<NegBackward0>) [tensor(-37.2728, device='cuda:0', grad_fn=<NegBackward0>), tensor(-9.7719, device='cuda:0', grad_fn=<NegBackward0>), tensor(-88.9767, device='cuda:0', grad_fn=<AddBackward0>)]\n",
      "5.137916493333726\n",
      "tensor(-132.2237, device='cuda:0', grad_fn=<NegBackward0>) [tensor(-37.2728, device='cuda:0', grad_fn=<NegBackward0>), tensor(-8.2354, device='cuda:0', grad_fn=<NegBackward0>), tensor(-86.7155, device='cuda:0', grad_fn=<AddBackward0>)]\n",
      "5.197400304931012\n",
      "tensor(-135.3486, device='cuda:0', grad_fn=<NegBackward0>) [tensor(-37.2657, device='cuda:0', grad_fn=<NegBackward0>), tensor(-9.1357, device='cuda:0', grad_fn=<NegBackward0>), tensor(-88.9472, device='cuda:0', grad_fn=<AddBackward0>)]\n",
      "4.907666685041423\n",
      "tensor(-134.5668, device='cuda:0', grad_fn=<NegBackward0>) [tensor(-37.2657, device='cuda:0', grad_fn=<NegBackward0>), tensor(-9.1195, device='cuda:0', grad_fn=<NegBackward0>), tensor(-88.1816, device='cuda:0', grad_fn=<AddBackward0>)]\n",
      "5.23299937556221\n",
      "tensor(-134.8416, device='cuda:0', grad_fn=<NegBackward0>) [tensor(-37.2050, device='cuda:0', grad_fn=<NegBackward0>), tensor(-8.6424, device='cuda:0', grad_fn=<NegBackward0>), tensor(-88.9942, device='cuda:0', grad_fn=<AddBackward0>)]\n",
      "5.449326124030104\n",
      "tensor(-135.6612, device='cuda:0', grad_fn=<NegBackward0>) [tensor(-37.2050, device='cuda:0', grad_fn=<NegBackward0>), tensor(-9.2016, device='cuda:0', grad_fn=<NegBackward0>), tensor(-89.2547, device='cuda:0', grad_fn=<AddBackward0>)]\n",
      "5.229465036390765\n",
      "tensor(-134.8439, device='cuda:0', grad_fn=<NegBackward0>) [tensor(-37.2859, device='cuda:0', grad_fn=<NegBackward0>), tensor(-8.8685, device='cuda:0', grad_fn=<NegBackward0>), tensor(-88.6895, device='cuda:0', grad_fn=<AddBackward0>)]\n",
      "5.29230561307032\n",
      "tensor(-135.5042, device='cuda:0', grad_fn=<NegBackward0>) [tensor(-37.2859, device='cuda:0', grad_fn=<NegBackward0>), tensor(-9.5111, device='cuda:0', grad_fn=<NegBackward0>), tensor(-88.7072, device='cuda:0', grad_fn=<AddBackward0>)]\n",
      "4.715791871949465\n",
      "tensor(-134.4547, device='cuda:0', grad_fn=<NegBackward0>) [tensor(-37.2259, device='cuda:0', grad_fn=<NegBackward0>), tensor(-9.0889, device='cuda:0', grad_fn=<NegBackward0>), tensor(-88.1399, device='cuda:0', grad_fn=<AddBackward0>)]\n",
      "5.307793368855304\n",
      "tensor(-136.0235, device='cuda:0', grad_fn=<NegBackward0>) [tensor(-37.2259, device='cuda:0', grad_fn=<NegBackward0>), tensor(-9.6863, device='cuda:0', grad_fn=<NegBackward0>), tensor(-89.1112, device='cuda:0', grad_fn=<AddBackward0>)]\n",
      "5.299627246757054\n",
      "tensor(-133.6474, device='cuda:0', grad_fn=<NegBackward0>) [tensor(-37.1930, device='cuda:0', grad_fn=<NegBackward0>), tensor(-8.6036, device='cuda:0', grad_fn=<NegBackward0>), tensor(-87.8508, device='cuda:0', grad_fn=<AddBackward0>)]\n",
      "5.1060558947431565\n",
      "tensor(-136.8820, device='cuda:0', grad_fn=<NegBackward0>) [tensor(-37.1930, device='cuda:0', grad_fn=<NegBackward0>), tensor(-10.4572, device='cuda:0', grad_fn=<NegBackward0>), tensor(-89.2318, device='cuda:0', grad_fn=<AddBackward0>)]\n",
      "5.633234834511863\n",
      "tensor(-133.8967, device='cuda:0', grad_fn=<NegBackward0>) [tensor(-37.1597, device='cuda:0', grad_fn=<NegBackward0>), tensor(-8.5956, device='cuda:0', grad_fn=<NegBackward0>), tensor(-88.1413, device='cuda:0', grad_fn=<AddBackward0>)]\n",
      "5.398357441968171\n",
      "tensor(-133.1472, device='cuda:0', grad_fn=<NegBackward0>) [tensor(-37.1597, device='cuda:0', grad_fn=<NegBackward0>), tensor(-8.2280, device='cuda:0', grad_fn=<NegBackward0>), tensor(-87.7595, device='cuda:0', grad_fn=<AddBackward0>)]\n",
      "5.301173209962123\n",
      "tensor(-136.5131, device='cuda:0', grad_fn=<NegBackward0>) [tensor(-37.2696, device='cuda:0', grad_fn=<NegBackward0>), tensor(-9.5689, device='cuda:0', grad_fn=<NegBackward0>), tensor(-89.6746, device='cuda:0', grad_fn=<AddBackward0>)]\n",
      "5.978847389389762\n",
      "tensor(-135.2174, device='cuda:0', grad_fn=<NegBackward0>) [tensor(-37.2696, device='cuda:0', grad_fn=<NegBackward0>), tensor(-9.1058, device='cuda:0', grad_fn=<NegBackward0>), tensor(-88.8419, device='cuda:0', grad_fn=<AddBackward0>)]\n",
      "5.016056813885913\n",
      "tensor(-136.1146, device='cuda:0', grad_fn=<NegBackward0>) [tensor(-37.3013, device='cuda:0', grad_fn=<NegBackward0>), tensor(-9.8558, device='cuda:0', grad_fn=<NegBackward0>), tensor(-88.9575, device='cuda:0', grad_fn=<AddBackward0>)]\n",
      "4.560832147294286\n",
      "tensor(-135.4538, device='cuda:0', grad_fn=<NegBackward0>) [tensor(-37.3013, device='cuda:0', grad_fn=<NegBackward0>), tensor(-9.9931, device='cuda:0', grad_fn=<NegBackward0>), tensor(-88.1594, device='cuda:0', grad_fn=<AddBackward0>)]\n",
      "4.8878060336762195\n",
      "tensor(-134.5798, device='cuda:0', grad_fn=<NegBackward0>) [tensor(-37.2697, device='cuda:0', grad_fn=<NegBackward0>), tensor(-9.3150, device='cuda:0', grad_fn=<NegBackward0>), tensor(-87.9951, device='cuda:0', grad_fn=<AddBackward0>)]\n",
      "5.300636579437443\n",
      "tensor(-137.1218, device='cuda:0', grad_fn=<NegBackward0>) [tensor(-37.2697, device='cuda:0', grad_fn=<NegBackward0>), tensor(-10.2847, device='cuda:0', grad_fn=<NegBackward0>), tensor(-89.5674, device='cuda:0', grad_fn=<AddBackward0>)]\n",
      "5.22732400351326\n",
      "tensor(-135.6779, device='cuda:0', grad_fn=<NegBackward0>) [tensor(-37.0970, device='cuda:0', grad_fn=<NegBackward0>), tensor(-9.4573, device='cuda:0', grad_fn=<NegBackward0>), tensor(-89.1236, device='cuda:0', grad_fn=<AddBackward0>)]\n",
      "5.093785892565359\n",
      "tensor(-134.2412, device='cuda:0', grad_fn=<NegBackward0>) [tensor(-37.0970, device='cuda:0', grad_fn=<NegBackward0>), tensor(-9.1509, device='cuda:0', grad_fn=<NegBackward0>), tensor(-87.9933, device='cuda:0', grad_fn=<AddBackward0>)]\n",
      "4.884127660956966\n",
      "tensor(-136.9047, device='cuda:0', grad_fn=<NegBackward0>) [tensor(-37.1975, device='cuda:0', grad_fn=<NegBackward0>), tensor(-10.5947, device='cuda:0', grad_fn=<NegBackward0>), tensor(-89.1124, device='cuda:0', grad_fn=<AddBackward0>)]\n",
      "5.243655023747552\n",
      "tensor(-134.2648, device='cuda:0', grad_fn=<NegBackward0>) [tensor(-37.1975, device='cuda:0', grad_fn=<NegBackward0>), tensor(-8.7735, device='cuda:0', grad_fn=<NegBackward0>), tensor(-88.2937, device='cuda:0', grad_fn=<AddBackward0>)]\n",
      "4.805763116373379\n",
      "tensor(-135.3712, device='cuda:0', grad_fn=<NegBackward0>) [tensor(-37.2960, device='cuda:0', grad_fn=<NegBackward0>), tensor(-9.8358, device='cuda:0', grad_fn=<NegBackward0>), tensor(-88.2395, device='cuda:0', grad_fn=<AddBackward0>)]\n",
      "5.231747256171905\n",
      "tensor(-136.9431, device='cuda:0', grad_fn=<NegBackward0>) [tensor(-37.2960, device='cuda:0', grad_fn=<NegBackward0>), tensor(-9.6875, device='cuda:0', grad_fn=<NegBackward0>), tensor(-89.9596, device='cuda:0', grad_fn=<AddBackward0>)]\n",
      "5.060465441027553\n",
      "tensor(-135.0863, device='cuda:0', grad_fn=<NegBackward0>) [tensor(-37.2894, device='cuda:0', grad_fn=<NegBackward0>), tensor(-9.8761, device='cuda:0', grad_fn=<NegBackward0>), tensor(-87.9208, device='cuda:0', grad_fn=<AddBackward0>)]\n",
      "5.19267412916773\n",
      "tensor(-134.1663, device='cuda:0', grad_fn=<NegBackward0>) [tensor(-37.2894, device='cuda:0', grad_fn=<NegBackward0>), tensor(-8.7249, device='cuda:0', grad_fn=<NegBackward0>), tensor(-88.1520, device='cuda:0', grad_fn=<AddBackward0>)]\n",
      "5.267557586617915\n",
      "tensor(-134.4172, device='cuda:0', grad_fn=<NegBackward0>) [tensor(-37.2678, device='cuda:0', grad_fn=<NegBackward0>), tensor(-8.8582, device='cuda:0', grad_fn=<NegBackward0>), tensor(-88.2911, device='cuda:0', grad_fn=<AddBackward0>)]\n",
      "5.120989532932921\n",
      "tensor(-134.0197, device='cuda:0', grad_fn=<NegBackward0>) [tensor(-37.2678, device='cuda:0', grad_fn=<NegBackward0>), tensor(-8.6385, device='cuda:0', grad_fn=<NegBackward0>), tensor(-88.1133, device='cuda:0', grad_fn=<AddBackward0>)]\n",
      "5.138879899777212\n",
      "tensor(-134.3090, device='cuda:0', grad_fn=<NegBackward0>) [tensor(-37.2466, device='cuda:0', grad_fn=<NegBackward0>), tensor(-8.7934, device='cuda:0', grad_fn=<NegBackward0>), tensor(-88.2690, device='cuda:0', grad_fn=<AddBackward0>)]\n",
      "5.125572120959784\n",
      "tensor(-133.7500, device='cuda:0', grad_fn=<NegBackward0>) [tensor(-37.2466, device='cuda:0', grad_fn=<NegBackward0>), tensor(-8.8322, device='cuda:0', grad_fn=<NegBackward0>), tensor(-87.6713, device='cuda:0', grad_fn=<AddBackward0>)]\n"
     ]
    },
    {
     "name": "stdout",
     "output_type": "stream",
     "text": [
      "5.133507933492956\n",
      "tensor(-136.0326, device='cuda:0', grad_fn=<NegBackward0>) [tensor(-37.2985, device='cuda:0', grad_fn=<NegBackward0>), tensor(-9.6857, device='cuda:0', grad_fn=<NegBackward0>), tensor(-89.0485, device='cuda:0', grad_fn=<AddBackward0>)]\n",
      "4.7908731606745905\n",
      "tensor(-134.6756, device='cuda:0', grad_fn=<NegBackward0>) [tensor(-37.2985, device='cuda:0', grad_fn=<NegBackward0>), tensor(-9.2019, device='cuda:0', grad_fn=<NegBackward0>), tensor(-88.1753, device='cuda:0', grad_fn=<AddBackward0>)]\n",
      "5.074639832439367\n",
      "tensor(-133.3378, device='cuda:0', grad_fn=<NegBackward0>) [tensor(-37.2563, device='cuda:0', grad_fn=<NegBackward0>), tensor(-8.3852, device='cuda:0', grad_fn=<NegBackward0>), tensor(-87.6963, device='cuda:0', grad_fn=<AddBackward0>)]\n",
      "5.162423483091414\n",
      "tensor(-134.8952, device='cuda:0', grad_fn=<NegBackward0>) [tensor(-37.2563, device='cuda:0', grad_fn=<NegBackward0>), tensor(-9.3584, device='cuda:0', grad_fn=<NegBackward0>), tensor(-88.2805, device='cuda:0', grad_fn=<AddBackward0>)]\n",
      "4.886249724385798\n",
      "tensor(-135.3196, device='cuda:0', grad_fn=<NegBackward0>) [tensor(-37.2581, device='cuda:0', grad_fn=<NegBackward0>), tensor(-9.6510, device='cuda:0', grad_fn=<NegBackward0>), tensor(-88.4105, device='cuda:0', grad_fn=<AddBackward0>)]\n",
      "4.757222735337128\n",
      "tensor(-133.1076, device='cuda:0', grad_fn=<NegBackward0>) [tensor(-37.2581, device='cuda:0', grad_fn=<NegBackward0>), tensor(-8.1596, device='cuda:0', grad_fn=<NegBackward0>), tensor(-87.6899, device='cuda:0', grad_fn=<AddBackward0>)]\n",
      "5.244582204364721\n",
      "tensor(-135.2178, device='cuda:0', grad_fn=<NegBackward0>) [tensor(-37.3510, device='cuda:0', grad_fn=<NegBackward0>), tensor(-9.1584, device='cuda:0', grad_fn=<NegBackward0>), tensor(-88.7084, device='cuda:0', grad_fn=<AddBackward0>)]\n",
      "5.182037174371835\n",
      "tensor(-139.1000, device='cuda:0', grad_fn=<NegBackward0>) [tensor(-37.3510, device='cuda:0', grad_fn=<NegBackward0>), tensor(-10.9634, device='cuda:0', grad_fn=<NegBackward0>), tensor(-90.7856, device='cuda:0', grad_fn=<AddBackward0>)]\n",
      "5.538129885719699\n",
      "tensor(-132.8793, device='cuda:0', grad_fn=<NegBackward0>) [tensor(-37.2684, device='cuda:0', grad_fn=<NegBackward0>), tensor(-8.4618, device='cuda:0', grad_fn=<NegBackward0>), tensor(-87.1492, device='cuda:0', grad_fn=<AddBackward0>)]\n",
      "4.737028837894054\n",
      "tensor(-136.1271, device='cuda:0', grad_fn=<NegBackward0>) [tensor(-37.2684, device='cuda:0', grad_fn=<NegBackward0>), tensor(-9.9835, device='cuda:0', grad_fn=<NegBackward0>), tensor(-88.8753, device='cuda:0', grad_fn=<AddBackward0>)]\n",
      "5.563823321117861\n",
      "tensor(-134.1801, device='cuda:0', grad_fn=<NegBackward0>) [tensor(-37.1670, device='cuda:0', grad_fn=<NegBackward0>), tensor(-8.7230, device='cuda:0', grad_fn=<NegBackward0>), tensor(-88.2900, device='cuda:0', grad_fn=<AddBackward0>)]\n",
      "5.3112588276594215\n",
      "tensor(-134.8890, device='cuda:0', grad_fn=<NegBackward0>) [tensor(-37.1670, device='cuda:0', grad_fn=<NegBackward0>), tensor(-9.4662, device='cuda:0', grad_fn=<NegBackward0>), tensor(-88.2558, device='cuda:0', grad_fn=<AddBackward0>)]\n",
      "5.415108416073996\n",
      "tensor(-135.4494, device='cuda:0', grad_fn=<NegBackward0>) [tensor(-37.2823, device='cuda:0', grad_fn=<NegBackward0>), tensor(-9.3005, device='cuda:0', grad_fn=<NegBackward0>), tensor(-88.8666, device='cuda:0', grad_fn=<AddBackward0>)]\n",
      "4.476058343308321\n",
      "tensor(-135.1531, device='cuda:0', grad_fn=<NegBackward0>) [tensor(-37.2823, device='cuda:0', grad_fn=<NegBackward0>), tensor(-9.8552, device='cuda:0', grad_fn=<NegBackward0>), tensor(-88.0155, device='cuda:0', grad_fn=<AddBackward0>)]\n",
      "5.023474902547286\n",
      "tensor(-133.8116, device='cuda:0', grad_fn=<NegBackward0>) [tensor(-37.1887, device='cuda:0', grad_fn=<NegBackward0>), tensor(-9.0965, device='cuda:0', grad_fn=<NegBackward0>), tensor(-87.5263, device='cuda:0', grad_fn=<AddBackward0>)]\n",
      "4.772955630151856\n",
      "tensor(-136.2135, device='cuda:0', grad_fn=<NegBackward0>) [tensor(-37.1887, device='cuda:0', grad_fn=<NegBackward0>), tensor(-9.9837, device='cuda:0', grad_fn=<NegBackward0>), tensor(-89.0411, device='cuda:0', grad_fn=<AddBackward0>)]\n",
      "5.194280990194291\n",
      "tensor(-135.4301, device='cuda:0', grad_fn=<NegBackward0>) [tensor(-37.1700, device='cuda:0', grad_fn=<NegBackward0>), tensor(-9.3896, device='cuda:0', grad_fn=<NegBackward0>), tensor(-88.8706, device='cuda:0', grad_fn=<AddBackward0>)]\n",
      "4.711645269354939\n",
      "tensor(-135.8045, device='cuda:0', grad_fn=<NegBackward0>) [tensor(-37.1700, device='cuda:0', grad_fn=<NegBackward0>), tensor(-9.7985, device='cuda:0', grad_fn=<NegBackward0>), tensor(-88.8360, device='cuda:0', grad_fn=<AddBackward0>)]\n",
      "5.634319977229473\n",
      "tensor(-135.0917, device='cuda:0', grad_fn=<NegBackward0>) [tensor(-37.1597, device='cuda:0', grad_fn=<NegBackward0>), tensor(-8.8952, device='cuda:0', grad_fn=<NegBackward0>), tensor(-89.0368, device='cuda:0', grad_fn=<AddBackward0>)]\n",
      "5.15149874218863\n",
      "tensor(-135.6083, device='cuda:0', grad_fn=<NegBackward0>) [tensor(-37.1597, device='cuda:0', grad_fn=<NegBackward0>), tensor(-9.6007, device='cuda:0', grad_fn=<NegBackward0>), tensor(-88.8480, device='cuda:0', grad_fn=<AddBackward0>)]\n",
      "5.03825626600423\n",
      "tensor(-137.1934, device='cuda:0', grad_fn=<NegBackward0>) [tensor(-37.2233, device='cuda:0', grad_fn=<NegBackward0>), tensor(-10.5092, device='cuda:0', grad_fn=<NegBackward0>), tensor(-89.4610, device='cuda:0', grad_fn=<AddBackward0>)]\n",
      "4.920516214123532\n",
      "tensor(-134.7965, device='cuda:0', grad_fn=<NegBackward0>) [tensor(-37.2233, device='cuda:0', grad_fn=<NegBackward0>), tensor(-9.0443, device='cuda:0', grad_fn=<NegBackward0>), tensor(-88.5289, device='cuda:0', grad_fn=<AddBackward0>)]\n",
      "4.905511522688836\n",
      "tensor(-136.3044, device='cuda:0', grad_fn=<NegBackward0>) [tensor(-37.2561, device='cuda:0', grad_fn=<NegBackward0>), tensor(-9.9094, device='cuda:0', grad_fn=<NegBackward0>), tensor(-89.1389, device='cuda:0', grad_fn=<AddBackward0>)]\n",
      "5.38204067438092\n",
      "tensor(-135.2633, device='cuda:0', grad_fn=<NegBackward0>) [tensor(-37.2561, device='cuda:0', grad_fn=<NegBackward0>), tensor(-9.2323, device='cuda:0', grad_fn=<NegBackward0>), tensor(-88.7749, device='cuda:0', grad_fn=<AddBackward0>)]\n",
      "5.696946765835661\n",
      "tensor(-134.1322, device='cuda:0', grad_fn=<NegBackward0>) [tensor(-37.3223, device='cuda:0', grad_fn=<NegBackward0>), tensor(-8.4882, device='cuda:0', grad_fn=<NegBackward0>), tensor(-88.3216, device='cuda:0', grad_fn=<AddBackward0>)]\n",
      "4.864871459202684\n",
      "tensor(-136.2920, device='cuda:0', grad_fn=<NegBackward0>) [tensor(-37.3223, device='cuda:0', grad_fn=<NegBackward0>), tensor(-9.7061, device='cuda:0', grad_fn=<NegBackward0>), tensor(-89.2635, device='cuda:0', grad_fn=<AddBackward0>)]\n",
      "5.551944193203958\n",
      "tensor(-135.1474, device='cuda:0', grad_fn=<NegBackward0>) [tensor(-37.2842, device='cuda:0', grad_fn=<NegBackward0>), tensor(-9.2127, device='cuda:0', grad_fn=<NegBackward0>), tensor(-88.6506, device='cuda:0', grad_fn=<AddBackward0>)]\n",
      "4.7349971422960015\n",
      "tensor(-135.7921, device='cuda:0', grad_fn=<NegBackward0>) [tensor(-37.2842, device='cuda:0', grad_fn=<NegBackward0>), tensor(-9.6593, device='cuda:0', grad_fn=<NegBackward0>), tensor(-88.8486, device='cuda:0', grad_fn=<AddBackward0>)]\n",
      "4.732043023279041\n",
      "tensor(-134.4792, device='cuda:0', grad_fn=<NegBackward0>) [tensor(-37.2829, device='cuda:0', grad_fn=<NegBackward0>), tensor(-9.3573, device='cuda:0', grad_fn=<NegBackward0>), tensor(-87.8390, device='cuda:0', grad_fn=<AddBackward0>)]\n",
      "6.083809219437065\n",
      "tensor(-134.6323, device='cuda:0', grad_fn=<NegBackward0>) [tensor(-37.2829, device='cuda:0', grad_fn=<NegBackward0>), tensor(-8.6565, device='cuda:0', grad_fn=<NegBackward0>), tensor(-88.6929, device='cuda:0', grad_fn=<AddBackward0>)]\n",
      "5.29443605223639\n",
      "tensor(-134.9000, device='cuda:0', grad_fn=<NegBackward0>) [tensor(-37.3896, device='cuda:0', grad_fn=<NegBackward0>), tensor(-8.6588, device='cuda:0', grad_fn=<NegBackward0>), tensor(-88.8515, device='cuda:0', grad_fn=<AddBackward0>)]\n",
      "5.3169171630597845\n",
      "tensor(-135.6147, device='cuda:0', grad_fn=<NegBackward0>) [tensor(-37.3896, device='cuda:0', grad_fn=<NegBackward0>), tensor(-9.2765, device='cuda:0', grad_fn=<NegBackward0>), tensor(-88.9486, device='cuda:0', grad_fn=<AddBackward0>)]\n",
      "4.946834426288878\n",
      "tensor(-136.4948, device='cuda:0', grad_fn=<NegBackward0>) [tensor(-37.4429, device='cuda:0', grad_fn=<NegBackward0>), tensor(-9.8700, device='cuda:0', grad_fn=<NegBackward0>), tensor(-89.1819, device='cuda:0', grad_fn=<AddBackward0>)]\n"
     ]
    },
    {
     "name": "stdout",
     "output_type": "stream",
     "text": [
      "4.793235483869067\n",
      "tensor(-135.3829, device='cuda:0', grad_fn=<NegBackward0>) [tensor(-37.4429, device='cuda:0', grad_fn=<NegBackward0>), tensor(-9.5211, device='cuda:0', grad_fn=<NegBackward0>), tensor(-88.4188, device='cuda:0', grad_fn=<AddBackward0>)]\n",
      "4.957836216619003\n",
      "tensor(-135.5842, device='cuda:0', grad_fn=<NegBackward0>) [tensor(-37.4393, device='cuda:0', grad_fn=<NegBackward0>), tensor(-9.2336, device='cuda:0', grad_fn=<NegBackward0>), tensor(-88.9112, device='cuda:0', grad_fn=<AddBackward0>)]\n",
      "5.608366738243021\n",
      "tensor(-136.3691, device='cuda:0', grad_fn=<NegBackward0>) [tensor(-37.4393, device='cuda:0', grad_fn=<NegBackward0>), tensor(-9.1512, device='cuda:0', grad_fn=<NegBackward0>), tensor(-89.7785, device='cuda:0', grad_fn=<AddBackward0>)]\n",
      "4.989109565495021\n",
      "tensor(-136.1965, device='cuda:0', grad_fn=<NegBackward0>) [tensor(-37.3937, device='cuda:0', grad_fn=<NegBackward0>), tensor(-9.4438, device='cuda:0', grad_fn=<NegBackward0>), tensor(-89.3590, device='cuda:0', grad_fn=<AddBackward0>)]\n",
      "5.187677486581986\n",
      "tensor(-134.1602, device='cuda:0', grad_fn=<NegBackward0>) [tensor(-37.3937, device='cuda:0', grad_fn=<NegBackward0>), tensor(-8.5646, device='cuda:0', grad_fn=<NegBackward0>), tensor(-88.2019, device='cuda:0', grad_fn=<AddBackward0>)]\n",
      "5.278243024988983\n",
      "tensor(-135.4280, device='cuda:0', grad_fn=<NegBackward0>) [tensor(-37.3912, device='cuda:0', grad_fn=<NegBackward0>), tensor(-9.0249, device='cuda:0', grad_fn=<NegBackward0>), tensor(-89.0119, device='cuda:0', grad_fn=<AddBackward0>)]\n",
      "5.0707795127788104\n",
      "tensor(-136.5215, device='cuda:0', grad_fn=<NegBackward0>) [tensor(-37.3912, device='cuda:0', grad_fn=<NegBackward0>), tensor(-9.9801, device='cuda:0', grad_fn=<NegBackward0>), tensor(-89.1502, device='cuda:0', grad_fn=<AddBackward0>)]\n",
      "4.862694642803212\n",
      "tensor(-137.1950, device='cuda:0', grad_fn=<NegBackward0>) [tensor(-37.3396, device='cuda:0', grad_fn=<NegBackward0>), tensor(-10.3688, device='cuda:0', grad_fn=<NegBackward0>), tensor(-89.4866, device='cuda:0', grad_fn=<AddBackward0>)]\n",
      "5.5785934609854415\n",
      "tensor(-137.0099, device='cuda:0', grad_fn=<NegBackward0>) [tensor(-37.3396, device='cuda:0', grad_fn=<NegBackward0>), tensor(-9.8712, device='cuda:0', grad_fn=<NegBackward0>), tensor(-89.7990, device='cuda:0', grad_fn=<AddBackward0>)]\n",
      "5.0137478674654945\n",
      "tensor(-135.1052, device='cuda:0', grad_fn=<NegBackward0>) [tensor(-37.2788, device='cuda:0', grad_fn=<NegBackward0>), tensor(-9.4174, device='cuda:0', grad_fn=<NegBackward0>), tensor(-88.4091, device='cuda:0', grad_fn=<AddBackward0>)]\n",
      "5.218694034310804\n",
      "tensor(-136.8807, device='cuda:0', grad_fn=<NegBackward0>) [tensor(-37.2788, device='cuda:0', grad_fn=<NegBackward0>), tensor(-9.9887, device='cuda:0', grad_fn=<NegBackward0>), tensor(-89.6133, device='cuda:0', grad_fn=<AddBackward0>)]\n",
      "5.263472916602921\n",
      "tensor(-133.2068, device='cuda:0', grad_fn=<NegBackward0>) [tensor(-37.2697, device='cuda:0', grad_fn=<NegBackward0>), tensor(-8.3779, device='cuda:0', grad_fn=<NegBackward0>), tensor(-87.5592, device='cuda:0', grad_fn=<AddBackward0>)]\n",
      "5.4858615994631394\n",
      "tensor(-133.2048, device='cuda:0', grad_fn=<NegBackward0>) [tensor(-37.2697, device='cuda:0', grad_fn=<NegBackward0>), tensor(-8.1358, device='cuda:0', grad_fn=<NegBackward0>), tensor(-87.7993, device='cuda:0', grad_fn=<AddBackward0>)]\n",
      "4.913403973641196\n",
      "tensor(-135.1594, device='cuda:0', grad_fn=<NegBackward0>) [tensor(-37.3905, device='cuda:0', grad_fn=<NegBackward0>), tensor(-9.4883, device='cuda:0', grad_fn=<NegBackward0>), tensor(-88.2805, device='cuda:0', grad_fn=<AddBackward0>)]\n",
      "5.200481339453438\n",
      "tensor(-134.4376, device='cuda:0', grad_fn=<NegBackward0>) [tensor(-37.3905, device='cuda:0', grad_fn=<NegBackward0>), tensor(-8.8295, device='cuda:0', grad_fn=<NegBackward0>), tensor(-88.2176, device='cuda:0', grad_fn=<AddBackward0>)]\n",
      "5.462145826632145\n",
      "tensor(-135.9287, device='cuda:0', grad_fn=<NegBackward0>) [tensor(-37.3702, device='cuda:0', grad_fn=<NegBackward0>), tensor(-9.0868, device='cuda:0', grad_fn=<NegBackward0>), tensor(-89.4717, device='cuda:0', grad_fn=<AddBackward0>)]\n",
      "5.010719066032558\n",
      "tensor(-132.8312, device='cuda:0', grad_fn=<NegBackward0>) [tensor(-37.3702, device='cuda:0', grad_fn=<NegBackward0>), tensor(-8.1844, device='cuda:0', grad_fn=<NegBackward0>), tensor(-87.2766, device='cuda:0', grad_fn=<AddBackward0>)]\n",
      "4.804346787996604\n",
      "tensor(-133.9366, device='cuda:0', grad_fn=<NegBackward0>) [tensor(-37.3531, device='cuda:0', grad_fn=<NegBackward0>), tensor(-8.9092, device='cuda:0', grad_fn=<NegBackward0>), tensor(-87.6743, device='cuda:0', grad_fn=<AddBackward0>)]\n",
      "4.6179969736548445\n",
      "tensor(-136.0286, device='cuda:0', grad_fn=<NegBackward0>) [tensor(-37.3531, device='cuda:0', grad_fn=<NegBackward0>), tensor(-10.0253, device='cuda:0', grad_fn=<NegBackward0>), tensor(-88.6502, device='cuda:0', grad_fn=<AddBackward0>)]\n",
      "5.211579622614286\n",
      "tensor(-133.1964, device='cuda:0', grad_fn=<NegBackward0>) [tensor(-37.2476, device='cuda:0', grad_fn=<NegBackward0>), tensor(-8.6124, device='cuda:0', grad_fn=<NegBackward0>), tensor(-87.3364, device='cuda:0', grad_fn=<AddBackward0>)]\n",
      "4.76539696588116\n",
      "tensor(-134.4807, device='cuda:0', grad_fn=<NegBackward0>) [tensor(-37.2476, device='cuda:0', grad_fn=<NegBackward0>), tensor(-9.5122, device='cuda:0', grad_fn=<NegBackward0>), tensor(-87.7209, device='cuda:0', grad_fn=<AddBackward0>)]\n",
      "4.971812953498427\n",
      "tensor(-137.9319, device='cuda:0', grad_fn=<NegBackward0>) [tensor(-37.2806, device='cuda:0', grad_fn=<NegBackward0>), tensor(-10.6895, device='cuda:0', grad_fn=<NegBackward0>), tensor(-89.9618, device='cuda:0', grad_fn=<AddBackward0>)]\n",
      "5.758274622541236\n",
      "tensor(-137.1846, device='cuda:0', grad_fn=<NegBackward0>) [tensor(-37.2806, device='cuda:0', grad_fn=<NegBackward0>), tensor(-9.6462, device='cuda:0', grad_fn=<NegBackward0>), tensor(-90.2578, device='cuda:0', grad_fn=<AddBackward0>)]\n",
      "5.489944111383448\n",
      "tensor(-137.3041, device='cuda:0', grad_fn=<NegBackward0>) [tensor(-37.3532, device='cuda:0', grad_fn=<NegBackward0>), tensor(-9.8394, device='cuda:0', grad_fn=<NegBackward0>), tensor(-90.1115, device='cuda:0', grad_fn=<AddBackward0>)]\n",
      "5.031283182603198\n",
      "tensor(-136.9472, device='cuda:0', grad_fn=<NegBackward0>) [tensor(-37.3532, device='cuda:0', grad_fn=<NegBackward0>), tensor(-9.7375, device='cuda:0', grad_fn=<NegBackward0>), tensor(-89.8565, device='cuda:0', grad_fn=<AddBackward0>)]\n",
      "5.153657389404977\n",
      "tensor(-137.2186, device='cuda:0', grad_fn=<NegBackward0>) [tensor(-37.3685, device='cuda:0', grad_fn=<NegBackward0>), tensor(-9.7398, device='cuda:0', grad_fn=<NegBackward0>), tensor(-90.1103, device='cuda:0', grad_fn=<AddBackward0>)]\n",
      "5.310175217785627\n",
      "tensor(-136.3624, device='cuda:0', grad_fn=<NegBackward0>) [tensor(-37.3685, device='cuda:0', grad_fn=<NegBackward0>), tensor(-9.8526, device='cuda:0', grad_fn=<NegBackward0>), tensor(-89.1413, device='cuda:0', grad_fn=<AddBackward0>)]\n",
      "5.036927362937765\n",
      "tensor(-136.3908, device='cuda:0', grad_fn=<NegBackward0>) [tensor(-37.3492, device='cuda:0', grad_fn=<NegBackward0>), tensor(-9.8261, device='cuda:0', grad_fn=<NegBackward0>), tensor(-89.2155, device='cuda:0', grad_fn=<AddBackward0>)]\n",
      "5.048631729762443\n",
      "tensor(-135.4158, device='cuda:0', grad_fn=<NegBackward0>) [tensor(-37.3492, device='cuda:0', grad_fn=<NegBackward0>), tensor(-9.2807, device='cuda:0', grad_fn=<NegBackward0>), tensor(-88.7859, device='cuda:0', grad_fn=<AddBackward0>)]\n",
      "5.971876210234677\n",
      "tensor(-135.5244, device='cuda:0', grad_fn=<NegBackward0>) [tensor(-37.3820, device='cuda:0', grad_fn=<NegBackward0>), tensor(-8.9488, device='cuda:0', grad_fn=<NegBackward0>), tensor(-89.1936, device='cuda:0', grad_fn=<AddBackward0>)]\n",
      "5.180017143411837\n",
      "tensor(-134.7635, device='cuda:0', grad_fn=<NegBackward0>) [tensor(-37.3820, device='cuda:0', grad_fn=<NegBackward0>), tensor(-9.0223, device='cuda:0', grad_fn=<NegBackward0>), tensor(-88.3593, device='cuda:0', grad_fn=<AddBackward0>)]\n",
      "5.265854181680715\n",
      "tensor(-135.4543, device='cuda:0', grad_fn=<NegBackward0>) [tensor(-37.3848, device='cuda:0', grad_fn=<NegBackward0>), tensor(-9.2633, device='cuda:0', grad_fn=<NegBackward0>), tensor(-88.8062, device='cuda:0', grad_fn=<AddBackward0>)]\n",
      "5.294556109591275\n",
      "tensor(-136.7419, device='cuda:0', grad_fn=<NegBackward0>) [tensor(-37.3848, device='cuda:0', grad_fn=<NegBackward0>), tensor(-9.8888, device='cuda:0', grad_fn=<NegBackward0>), tensor(-89.4683, device='cuda:0', grad_fn=<AddBackward0>)]\n"
     ]
    },
    {
     "name": "stdout",
     "output_type": "stream",
     "text": [
      "5.327629593312098\n",
      "tensor(-134.0727, device='cuda:0', grad_fn=<NegBackward0>) [tensor(-37.3613, device='cuda:0', grad_fn=<NegBackward0>), tensor(-8.1363, device='cuda:0', grad_fn=<NegBackward0>), tensor(-88.5751, device='cuda:0', grad_fn=<AddBackward0>)]\n",
      "5.757236486984832\n",
      "tensor(-137.3129, device='cuda:0', grad_fn=<NegBackward0>) [tensor(-37.3613, device='cuda:0', grad_fn=<NegBackward0>), tensor(-9.4942, device='cuda:0', grad_fn=<NegBackward0>), tensor(-90.4574, device='cuda:0', grad_fn=<AddBackward0>)]\n",
      "5.166180042671472\n",
      "tensor(-137.9666, device='cuda:0', grad_fn=<NegBackward0>) [tensor(-37.4312, device='cuda:0', grad_fn=<NegBackward0>), tensor(-10.0985, device='cuda:0', grad_fn=<NegBackward0>), tensor(-90.4369, device='cuda:0', grad_fn=<AddBackward0>)]\n",
      "5.960845210214977\n",
      "tensor(-134.9575, device='cuda:0', grad_fn=<NegBackward0>) [tensor(-37.4312, device='cuda:0', grad_fn=<NegBackward0>), tensor(-8.8907, device='cuda:0', grad_fn=<NegBackward0>), tensor(-88.6356, device='cuda:0', grad_fn=<AddBackward0>)]\n",
      "4.627269067136352\n",
      "tensor(-137.1904, device='cuda:0', grad_fn=<NegBackward0>) [tensor(-37.4545, device='cuda:0', grad_fn=<NegBackward0>), tensor(-10.3929, device='cuda:0', grad_fn=<NegBackward0>), tensor(-89.3430, device='cuda:0', grad_fn=<AddBackward0>)]\n",
      "4.904544855866155\n",
      "tensor(-137.0929, device='cuda:0', grad_fn=<NegBackward0>) [tensor(-37.4545, device='cuda:0', grad_fn=<NegBackward0>), tensor(-10.0776, device='cuda:0', grad_fn=<NegBackward0>), tensor(-89.5609, device='cuda:0', grad_fn=<AddBackward0>)]\n",
      "4.853535630303192\n",
      "tensor(-134.9684, device='cuda:0', grad_fn=<NegBackward0>) [tensor(-37.3492, device='cuda:0', grad_fn=<NegBackward0>), tensor(-9.2659, device='cuda:0', grad_fn=<NegBackward0>), tensor(-88.3533, device='cuda:0', grad_fn=<AddBackward0>)]\n",
      "4.625201782148141\n",
      "tensor(-134.9162, device='cuda:0', grad_fn=<NegBackward0>) [tensor(-37.3492, device='cuda:0', grad_fn=<NegBackward0>), tensor(-9.9466, device='cuda:0', grad_fn=<NegBackward0>), tensor(-87.6204, device='cuda:0', grad_fn=<AddBackward0>)]\n",
      "6.9902698918255854\n",
      "tensor(-134.2996, device='cuda:0', grad_fn=<NegBackward0>) [tensor(-37.1937, device='cuda:0', grad_fn=<NegBackward0>), tensor(-8.0338, device='cuda:0', grad_fn=<NegBackward0>), tensor(-89.0721, device='cuda:0', grad_fn=<AddBackward0>)]\n",
      "5.389012924719967\n",
      "tensor(-135.4650, device='cuda:0', grad_fn=<NegBackward0>) [tensor(-37.1937, device='cuda:0', grad_fn=<NegBackward0>), tensor(-9.3685, device='cuda:0', grad_fn=<NegBackward0>), tensor(-88.9028, device='cuda:0', grad_fn=<AddBackward0>)]\n",
      "5.21580082901385\n",
      "tensor(-136.3885, device='cuda:0', grad_fn=<NegBackward0>) [tensor(-37.2930, device='cuda:0', grad_fn=<NegBackward0>), tensor(-9.6886, device='cuda:0', grad_fn=<NegBackward0>), tensor(-89.4069, device='cuda:0', grad_fn=<AddBackward0>)]\n",
      "5.383632627012805\n",
      "tensor(-133.2628, device='cuda:0', grad_fn=<NegBackward0>) [tensor(-37.2930, device='cuda:0', grad_fn=<NegBackward0>), tensor(-8.3806, device='cuda:0', grad_fn=<NegBackward0>), tensor(-87.5892, device='cuda:0', grad_fn=<AddBackward0>)]\n",
      "5.493624694965532\n",
      "tensor(-137.1991, device='cuda:0', grad_fn=<NegBackward0>) [tensor(-37.3138, device='cuda:0', grad_fn=<NegBackward0>), tensor(-9.7633, device='cuda:0', grad_fn=<NegBackward0>), tensor(-90.1220, device='cuda:0', grad_fn=<AddBackward0>)]\n",
      "5.04568234434615\n",
      "tensor(-134.3252, device='cuda:0', grad_fn=<NegBackward0>) [tensor(-37.3138, device='cuda:0', grad_fn=<NegBackward0>), tensor(-8.6060, device='cuda:0', grad_fn=<NegBackward0>), tensor(-88.4054, device='cuda:0', grad_fn=<AddBackward0>)]\n",
      "5.194285558289663\n",
      "tensor(-136.6952, device='cuda:0', grad_fn=<NegBackward0>) [tensor(-37.4065, device='cuda:0', grad_fn=<NegBackward0>), tensor(-9.4078, device='cuda:0', grad_fn=<NegBackward0>), tensor(-89.8809, device='cuda:0', grad_fn=<AddBackward0>)]\n",
      "5.3124675825454295\n",
      "tensor(-135.7798, device='cuda:0', grad_fn=<NegBackward0>) [tensor(-37.4065, device='cuda:0', grad_fn=<NegBackward0>), tensor(-9.1583, device='cuda:0', grad_fn=<NegBackward0>), tensor(-89.2150, device='cuda:0', grad_fn=<AddBackward0>)]\n",
      "5.237274929006867\n",
      "tensor(-134.9096, device='cuda:0', grad_fn=<NegBackward0>) [tensor(-37.4876, device='cuda:0', grad_fn=<NegBackward0>), tensor(-9.0261, device='cuda:0', grad_fn=<NegBackward0>), tensor(-88.3959, device='cuda:0', grad_fn=<AddBackward0>)]\n",
      "4.892259182389496\n",
      "tensor(-136.1485, device='cuda:0', grad_fn=<NegBackward0>) [tensor(-37.4876, device='cuda:0', grad_fn=<NegBackward0>), tensor(-9.9364, device='cuda:0', grad_fn=<NegBackward0>), tensor(-88.7246, device='cuda:0', grad_fn=<AddBackward0>)]\n",
      "5.347705483067022\n",
      "tensor(-135.8387, device='cuda:0', grad_fn=<NegBackward0>) [tensor(-37.3993, device='cuda:0', grad_fn=<NegBackward0>), tensor(-9.3618, device='cuda:0', grad_fn=<NegBackward0>), tensor(-89.0777, device='cuda:0', grad_fn=<AddBackward0>)]\n",
      "5.062984504283191\n",
      "tensor(-134.5209, device='cuda:0', grad_fn=<NegBackward0>) [tensor(-37.3993, device='cuda:0', grad_fn=<NegBackward0>), tensor(-8.8734, device='cuda:0', grad_fn=<NegBackward0>), tensor(-88.2483, device='cuda:0', grad_fn=<AddBackward0>)]\n",
      "5.5352423639268515\n",
      "tensor(-136.2729, device='cuda:0', grad_fn=<NegBackward0>) [tensor(-37.4360, device='cuda:0', grad_fn=<NegBackward0>), tensor(-9.2642, device='cuda:0', grad_fn=<NegBackward0>), tensor(-89.5728, device='cuda:0', grad_fn=<AddBackward0>)]\n",
      "5.167247850471273\n",
      "tensor(-135.8564, device='cuda:0', grad_fn=<NegBackward0>) [tensor(-37.4360, device='cuda:0', grad_fn=<NegBackward0>), tensor(-9.1925, device='cuda:0', grad_fn=<NegBackward0>), tensor(-89.2279, device='cuda:0', grad_fn=<AddBackward0>)]\n",
      "4.938126701098789\n",
      "tensor(-135.9915, device='cuda:0', grad_fn=<NegBackward0>) [tensor(-37.3643, device='cuda:0', grad_fn=<NegBackward0>), tensor(-9.7634, device='cuda:0', grad_fn=<NegBackward0>), tensor(-88.8637, device='cuda:0', grad_fn=<AddBackward0>)]\n",
      "5.4140149792191306\n",
      "tensor(-133.8347, device='cuda:0', grad_fn=<NegBackward0>) [tensor(-37.3643, device='cuda:0', grad_fn=<NegBackward0>), tensor(-8.3413, device='cuda:0', grad_fn=<NegBackward0>), tensor(-88.1291, device='cuda:0', grad_fn=<AddBackward0>)]\n",
      "4.911367440449587\n",
      "tensor(-135.7144, device='cuda:0', grad_fn=<NegBackward0>) [tensor(-37.4144, device='cuda:0', grad_fn=<NegBackward0>), tensor(-9.7309, device='cuda:0', grad_fn=<NegBackward0>), tensor(-88.5691, device='cuda:0', grad_fn=<AddBackward0>)]\n",
      "5.951998056311699\n",
      "tensor(-136.1031, device='cuda:0', grad_fn=<NegBackward0>) [tensor(-37.4144, device='cuda:0', grad_fn=<NegBackward0>), tensor(-8.8823, device='cuda:0', grad_fn=<NegBackward0>), tensor(-89.8064, device='cuda:0', grad_fn=<AddBackward0>)]\n",
      "4.897535810550266\n",
      "tensor(-134.9640, device='cuda:0', grad_fn=<NegBackward0>) [tensor(-37.4529, device='cuda:0', grad_fn=<NegBackward0>), tensor(-9.5156, device='cuda:0', grad_fn=<NegBackward0>), tensor(-87.9955, device='cuda:0', grad_fn=<AddBackward0>)]\n",
      "5.416034742709551\n",
      "tensor(-133.8628, device='cuda:0', grad_fn=<NegBackward0>) [tensor(-37.4529, device='cuda:0', grad_fn=<NegBackward0>), tensor(-8.2022, device='cuda:0', grad_fn=<NegBackward0>), tensor(-88.2076, device='cuda:0', grad_fn=<AddBackward0>)]\n",
      "5.114373798426417\n",
      "tensor(-136.5056, device='cuda:0', grad_fn=<NegBackward0>) [tensor(-37.4364, device='cuda:0', grad_fn=<NegBackward0>), tensor(-9.7475, device='cuda:0', grad_fn=<NegBackward0>), tensor(-89.3217, device='cuda:0', grad_fn=<AddBackward0>)]\n",
      "5.026233548284847\n",
      "tensor(-134.2868, device='cuda:0', grad_fn=<NegBackward0>) [tensor(-37.4364, device='cuda:0', grad_fn=<NegBackward0>), tensor(-9.2097, device='cuda:0', grad_fn=<NegBackward0>), tensor(-87.6407, device='cuda:0', grad_fn=<AddBackward0>)]\n",
      "5.1477415485688125\n",
      "tensor(-133.9601, device='cuda:0', grad_fn=<NegBackward0>) [tensor(-37.4594, device='cuda:0', grad_fn=<NegBackward0>), tensor(-8.3913, device='cuda:0', grad_fn=<NegBackward0>), tensor(-88.1094, device='cuda:0', grad_fn=<AddBackward0>)]\n",
      "5.206347370289418\n",
      "tensor(-134.3826, device='cuda:0', grad_fn=<NegBackward0>) [tensor(-37.4594, device='cuda:0', grad_fn=<NegBackward0>), tensor(-8.4526, device='cuda:0', grad_fn=<NegBackward0>), tensor(-88.4706, device='cuda:0', grad_fn=<AddBackward0>)]\n",
      "5.528345411375252\n",
      "tensor(-135.5916, device='cuda:0', grad_fn=<NegBackward0>) [tensor(-37.4257, device='cuda:0', grad_fn=<NegBackward0>), tensor(-9.4179, device='cuda:0', grad_fn=<NegBackward0>), tensor(-88.7480, device='cuda:0', grad_fn=<AddBackward0>)]\n"
     ]
    },
    {
     "name": "stdout",
     "output_type": "stream",
     "text": [
      "5.487224985640152\n",
      "tensor(-134.5918, device='cuda:0', grad_fn=<NegBackward0>) [tensor(-37.4257, device='cuda:0', grad_fn=<NegBackward0>), tensor(-8.5009, device='cuda:0', grad_fn=<NegBackward0>), tensor(-88.6652, device='cuda:0', grad_fn=<AddBackward0>)]\n",
      "6.06206849739311\n",
      "tensor(-134.8328, device='cuda:0', grad_fn=<NegBackward0>) [tensor(-37.4104, device='cuda:0', grad_fn=<NegBackward0>), tensor(-8.6776, device='cuda:0', grad_fn=<NegBackward0>), tensor(-88.7448, device='cuda:0', grad_fn=<AddBackward0>)]\n",
      "5.288169834763401\n",
      "tensor(-136.8206, device='cuda:0', grad_fn=<NegBackward0>) [tensor(-37.4104, device='cuda:0', grad_fn=<NegBackward0>), tensor(-9.4450, device='cuda:0', grad_fn=<NegBackward0>), tensor(-89.9652, device='cuda:0', grad_fn=<AddBackward0>)]\n",
      "5.083542680879661\n",
      "tensor(-135.7228, device='cuda:0', grad_fn=<NegBackward0>) [tensor(-37.4360, device='cuda:0', grad_fn=<NegBackward0>), tensor(-9.4774, device='cuda:0', grad_fn=<NegBackward0>), tensor(-88.8094, device='cuda:0', grad_fn=<AddBackward0>)]\n",
      "5.482989022335918\n",
      "tensor(-136.9537, device='cuda:0', grad_fn=<NegBackward0>) [tensor(-37.4360, device='cuda:0', grad_fn=<NegBackward0>), tensor(-9.8153, device='cuda:0', grad_fn=<NegBackward0>), tensor(-89.7024, device='cuda:0', grad_fn=<AddBackward0>)]\n",
      "5.733979715745669\n",
      "tensor(-135.7897, device='cuda:0', grad_fn=<NegBackward0>) [tensor(-37.4062, device='cuda:0', grad_fn=<NegBackward0>), tensor(-8.9074, device='cuda:0', grad_fn=<NegBackward0>), tensor(-89.4762, device='cuda:0', grad_fn=<AddBackward0>)]\n",
      "4.869040011885296\n",
      "tensor(-136.9243, device='cuda:0', grad_fn=<NegBackward0>) [tensor(-37.4062, device='cuda:0', grad_fn=<NegBackward0>), tensor(-10.2320, device='cuda:0', grad_fn=<NegBackward0>), tensor(-89.2860, device='cuda:0', grad_fn=<AddBackward0>)]\n",
      "5.167486895758117\n",
      "tensor(-136.1787, device='cuda:0', grad_fn=<NegBackward0>) [tensor(-37.3233, device='cuda:0', grad_fn=<NegBackward0>), tensor(-9.4971, device='cuda:0', grad_fn=<NegBackward0>), tensor(-89.3583, device='cuda:0', grad_fn=<AddBackward0>)]\n",
      "5.15484270081284\n",
      "tensor(-135.7967, device='cuda:0', grad_fn=<NegBackward0>) [tensor(-37.3233, device='cuda:0', grad_fn=<NegBackward0>), tensor(-9.2618, device='cuda:0', grad_fn=<NegBackward0>), tensor(-89.2115, device='cuda:0', grad_fn=<AddBackward0>)]\n",
      "6.2533772808651955\n",
      "tensor(-134.9301, device='cuda:0', grad_fn=<NegBackward0>) [tensor(-37.3230, device='cuda:0', grad_fn=<NegBackward0>), tensor(-8.6468, device='cuda:0', grad_fn=<NegBackward0>), tensor(-88.9603, device='cuda:0', grad_fn=<AddBackward0>)]\n",
      "4.948752526953598\n",
      "tensor(-134.7213, device='cuda:0', grad_fn=<NegBackward0>) [tensor(-37.3230, device='cuda:0', grad_fn=<NegBackward0>), tensor(-9.5783, device='cuda:0', grad_fn=<NegBackward0>), tensor(-87.8200, device='cuda:0', grad_fn=<AddBackward0>)]\n",
      "5.707854241646798\n",
      "tensor(-135.8435, device='cuda:0', grad_fn=<NegBackward0>) [tensor(-37.1730, device='cuda:0', grad_fn=<NegBackward0>), tensor(-9.3370, device='cuda:0', grad_fn=<NegBackward0>), tensor(-89.3335, device='cuda:0', grad_fn=<AddBackward0>)]\n",
      "5.205569624139158\n",
      "tensor(-135.0494, device='cuda:0', grad_fn=<NegBackward0>) [tensor(-37.1730, device='cuda:0', grad_fn=<NegBackward0>), tensor(-9.1766, device='cuda:0', grad_fn=<NegBackward0>), tensor(-88.6998, device='cuda:0', grad_fn=<AddBackward0>)]\n",
      "5.348402391798937\n",
      "tensor(-135.5469, device='cuda:0', grad_fn=<NegBackward0>) [tensor(-37.2885, device='cuda:0', grad_fn=<NegBackward0>), tensor(-9.0419, device='cuda:0', grad_fn=<NegBackward0>), tensor(-89.2166, device='cuda:0', grad_fn=<AddBackward0>)]\n",
      "5.269730289447047\n",
      "tensor(-134.5045, device='cuda:0', grad_fn=<NegBackward0>) [tensor(-37.2885, device='cuda:0', grad_fn=<NegBackward0>), tensor(-8.9340, device='cuda:0', grad_fn=<NegBackward0>), tensor(-88.2820, device='cuda:0', grad_fn=<AddBackward0>)]\n",
      "5.302007231572637\n",
      "tensor(-136.0250, device='cuda:0', grad_fn=<NegBackward0>) [tensor(-37.3626, device='cuda:0', grad_fn=<NegBackward0>), tensor(-9.3916, device='cuda:0', grad_fn=<NegBackward0>), tensor(-89.2709, device='cuda:0', grad_fn=<AddBackward0>)]\n",
      "5.327157285973947\n",
      "tensor(-137.9453, device='cuda:0', grad_fn=<NegBackward0>) [tensor(-37.3626, device='cuda:0', grad_fn=<NegBackward0>), tensor(-9.8391, device='cuda:0', grad_fn=<NegBackward0>), tensor(-90.7436, device='cuda:0', grad_fn=<AddBackward0>)]\n",
      "5.806072306585578\n",
      "tensor(-136.2951, device='cuda:0', grad_fn=<NegBackward0>) [tensor(-37.3435, device='cuda:0', grad_fn=<NegBackward0>), tensor(-9.0898, device='cuda:0', grad_fn=<NegBackward0>), tensor(-89.8618, device='cuda:0', grad_fn=<AddBackward0>)]\n",
      "4.8863229704345805\n",
      "tensor(-134.5175, device='cuda:0', grad_fn=<NegBackward0>) [tensor(-37.3435, device='cuda:0', grad_fn=<NegBackward0>), tensor(-9.3667, device='cuda:0', grad_fn=<NegBackward0>), tensor(-87.8073, device='cuda:0', grad_fn=<AddBackward0>)]\n",
      "5.3942533399014385\n",
      "tensor(-137.9783, device='cuda:0', grad_fn=<NegBackward0>) [tensor(-37.3601, device='cuda:0', grad_fn=<NegBackward0>), tensor(-10.2329, device='cuda:0', grad_fn=<NegBackward0>), tensor(-90.3854, device='cuda:0', grad_fn=<AddBackward0>)]\n",
      "4.721418617706529\n",
      "tensor(-137.1015, device='cuda:0', grad_fn=<NegBackward0>) [tensor(-37.3601, device='cuda:0', grad_fn=<NegBackward0>), tensor(-10.1715, device='cuda:0', grad_fn=<NegBackward0>), tensor(-89.5700, device='cuda:0', grad_fn=<AddBackward0>)]\n",
      "5.611030962831326\n",
      "tensor(-135.9796, device='cuda:0', grad_fn=<NegBackward0>) [tensor(-37.3376, device='cuda:0', grad_fn=<NegBackward0>), tensor(-9.1253, device='cuda:0', grad_fn=<NegBackward0>), tensor(-89.5168, device='cuda:0', grad_fn=<AddBackward0>)]\n",
      "5.5313813546215815\n",
      "tensor(-134.7481, device='cuda:0', grad_fn=<NegBackward0>) [tensor(-37.3376, device='cuda:0', grad_fn=<NegBackward0>), tensor(-8.6541, device='cuda:0', grad_fn=<NegBackward0>), tensor(-88.7564, device='cuda:0', grad_fn=<AddBackward0>)]\n",
      "5.096412487438874\n",
      "tensor(-136.0582, device='cuda:0', grad_fn=<NegBackward0>) [tensor(-37.4298, device='cuda:0', grad_fn=<NegBackward0>), tensor(-9.6776, device='cuda:0', grad_fn=<NegBackward0>), tensor(-88.9508, device='cuda:0', grad_fn=<AddBackward0>)]\n",
      "5.583274402331733\n",
      "tensor(-135.5465, device='cuda:0', grad_fn=<NegBackward0>) [tensor(-37.4298, device='cuda:0', grad_fn=<NegBackward0>), tensor(-9.0874, device='cuda:0', grad_fn=<NegBackward0>), tensor(-89.0293, device='cuda:0', grad_fn=<AddBackward0>)]\n",
      "5.124844164946011\n",
      "tensor(-137.5930, device='cuda:0', grad_fn=<NegBackward0>) [tensor(-37.3543, device='cuda:0', grad_fn=<NegBackward0>), tensor(-10.2574, device='cuda:0', grad_fn=<NegBackward0>), tensor(-89.9813, device='cuda:0', grad_fn=<AddBackward0>)]\n",
      "5.455341366577833\n",
      "tensor(-133.4606, device='cuda:0', grad_fn=<NegBackward0>) [tensor(-37.3543, device='cuda:0', grad_fn=<NegBackward0>), tensor(-8.0134, device='cuda:0', grad_fn=<NegBackward0>), tensor(-88.0929, device='cuda:0', grad_fn=<AddBackward0>)]\n",
      "4.993167041526975\n",
      "tensor(-135.6962, device='cuda:0', grad_fn=<NegBackward0>) [tensor(-37.4836, device='cuda:0', grad_fn=<NegBackward0>), tensor(-9.3966, device='cuda:0', grad_fn=<NegBackward0>), tensor(-88.8159, device='cuda:0', grad_fn=<AddBackward0>)]\n",
      "5.400704700157589\n",
      "tensor(-135.4865, device='cuda:0', grad_fn=<NegBackward0>) [tensor(-37.4836, device='cuda:0', grad_fn=<NegBackward0>), tensor(-9.1715, device='cuda:0', grad_fn=<NegBackward0>), tensor(-88.8313, device='cuda:0', grad_fn=<AddBackward0>)]\n",
      "5.60592130271252\n",
      "tensor(-136.5843, device='cuda:0', grad_fn=<NegBackward0>) [tensor(-37.4607, device='cuda:0', grad_fn=<NegBackward0>), tensor(-9.4977, device='cuda:0', grad_fn=<NegBackward0>), tensor(-89.6259, device='cuda:0', grad_fn=<AddBackward0>)]\n",
      "5.881463637031671\n",
      "tensor(-135.5117, device='cuda:0', grad_fn=<NegBackward0>) [tensor(-37.4607, device='cuda:0', grad_fn=<NegBackward0>), tensor(-8.7777, device='cuda:0', grad_fn=<NegBackward0>), tensor(-89.2733, device='cuda:0', grad_fn=<AddBackward0>)]\n",
      "5.069536891232351\n",
      "tensor(-135.6204, device='cuda:0', grad_fn=<NegBackward0>) [tensor(-37.4031, device='cuda:0', grad_fn=<NegBackward0>), tensor(-9.5324, device='cuda:0', grad_fn=<NegBackward0>), tensor(-88.6850, device='cuda:0', grad_fn=<AddBackward0>)]\n",
      "5.69247540286033\n",
      "tensor(-136.8369, device='cuda:0', grad_fn=<NegBackward0>) [tensor(-37.4031, device='cuda:0', grad_fn=<NegBackward0>), tensor(-9.3354, device='cuda:0', grad_fn=<NegBackward0>), tensor(-90.0984, device='cuda:0', grad_fn=<AddBackward0>)]\n"
     ]
    },
    {
     "name": "stdout",
     "output_type": "stream",
     "text": [
      "5.258193107961152\n",
      "tensor(-135.7544, device='cuda:0', grad_fn=<NegBackward0>) [tensor(-37.3971, device='cuda:0', grad_fn=<NegBackward0>), tensor(-9.4487, device='cuda:0', grad_fn=<NegBackward0>), tensor(-88.9085, device='cuda:0', grad_fn=<AddBackward0>)]\n",
      "5.4073075948354345\n",
      "tensor(-135.0086, device='cuda:0', grad_fn=<NegBackward0>) [tensor(-37.3971, device='cuda:0', grad_fn=<NegBackward0>), tensor(-8.9727, device='cuda:0', grad_fn=<NegBackward0>), tensor(-88.6388, device='cuda:0', grad_fn=<AddBackward0>)]\n",
      "5.307564381307937\n",
      "tensor(-134.5028, device='cuda:0', grad_fn=<NegBackward0>) [tensor(-37.4450, device='cuda:0', grad_fn=<NegBackward0>), tensor(-8.8426, device='cuda:0', grad_fn=<NegBackward0>), tensor(-88.2153, device='cuda:0', grad_fn=<AddBackward0>)]\n",
      "5.2443909483937174\n",
      "tensor(-137.0384, device='cuda:0', grad_fn=<NegBackward0>) [tensor(-37.4450, device='cuda:0', grad_fn=<NegBackward0>), tensor(-9.6651, device='cuda:0', grad_fn=<NegBackward0>), tensor(-89.9283, device='cuda:0', grad_fn=<AddBackward0>)]\n",
      "5.389608310269745\n",
      "tensor(-135.9072, device='cuda:0', grad_fn=<NegBackward0>) [tensor(-37.4650, device='cuda:0', grad_fn=<NegBackward0>), tensor(-8.9751, device='cuda:0', grad_fn=<NegBackward0>), tensor(-89.4671, device='cuda:0', grad_fn=<AddBackward0>)]\n",
      "4.6499187249460885\n",
      "tensor(-136.3629, device='cuda:0', grad_fn=<NegBackward0>) [tensor(-37.4650, device='cuda:0', grad_fn=<NegBackward0>), tensor(-9.8611, device='cuda:0', grad_fn=<NegBackward0>), tensor(-89.0367, device='cuda:0', grad_fn=<AddBackward0>)]\n",
      "4.665308708856321\n",
      "tensor(-135.5572, device='cuda:0', grad_fn=<NegBackward0>) [tensor(-37.4683, device='cuda:0', grad_fn=<NegBackward0>), tensor(-10.3015, device='cuda:0', grad_fn=<NegBackward0>), tensor(-87.7874, device='cuda:0', grad_fn=<AddBackward0>)]\n",
      "4.748510328318812\n",
      "tensor(-136.9892, device='cuda:0', grad_fn=<NegBackward0>) [tensor(-37.4683, device='cuda:0', grad_fn=<NegBackward0>), tensor(-10.0226, device='cuda:0', grad_fn=<NegBackward0>), tensor(-89.4982, device='cuda:0', grad_fn=<AddBackward0>)]\n",
      "5.278439110850468\n",
      "tensor(-136.2850, device='cuda:0', grad_fn=<NegBackward0>) [tensor(-37.4572, device='cuda:0', grad_fn=<NegBackward0>), tensor(-9.6555, device='cuda:0', grad_fn=<NegBackward0>), tensor(-89.1723, device='cuda:0', grad_fn=<AddBackward0>)]\n",
      "5.04271034741762\n",
      "tensor(-136.1296, device='cuda:0', grad_fn=<NegBackward0>) [tensor(-37.4572, device='cuda:0', grad_fn=<NegBackward0>), tensor(-9.6688, device='cuda:0', grad_fn=<NegBackward0>), tensor(-89.0037, device='cuda:0', grad_fn=<AddBackward0>)]\n",
      "5.46255140916306\n",
      "tensor(-134.4406, device='cuda:0', grad_fn=<NegBackward0>) [tensor(-37.4293, device='cuda:0', grad_fn=<NegBackward0>), tensor(-8.4395, device='cuda:0', grad_fn=<NegBackward0>), tensor(-88.5718, device='cuda:0', grad_fn=<AddBackward0>)]\n",
      "5.360684217681507\n",
      "tensor(-134.8929, device='cuda:0', grad_fn=<NegBackward0>) [tensor(-37.4293, device='cuda:0', grad_fn=<NegBackward0>), tensor(-8.5658, device='cuda:0', grad_fn=<NegBackward0>), tensor(-88.8978, device='cuda:0', grad_fn=<AddBackward0>)]\n",
      "5.230438934653077\n",
      "tensor(-135.5552, device='cuda:0', grad_fn=<NegBackward0>) [tensor(-37.3456, device='cuda:0', grad_fn=<NegBackward0>), tensor(-9.2596, device='cuda:0', grad_fn=<NegBackward0>), tensor(-88.9499, device='cuda:0', grad_fn=<AddBackward0>)]\n",
      "5.565151864351207\n",
      "tensor(-134.8752, device='cuda:0', grad_fn=<NegBackward0>) [tensor(-37.3456, device='cuda:0', grad_fn=<NegBackward0>), tensor(-8.7753, device='cuda:0', grad_fn=<NegBackward0>), tensor(-88.7543, device='cuda:0', grad_fn=<AddBackward0>)]\n",
      "5.259626424208599\n",
      "tensor(-135.8752, device='cuda:0', grad_fn=<NegBackward0>) [tensor(-37.4197, device='cuda:0', grad_fn=<NegBackward0>), tensor(-9.2061, device='cuda:0', grad_fn=<NegBackward0>), tensor(-89.2493, device='cuda:0', grad_fn=<AddBackward0>)]\n",
      "6.1207189846997405\n",
      "tensor(-136.2709, device='cuda:0', grad_fn=<NegBackward0>) [tensor(-37.4197, device='cuda:0', grad_fn=<NegBackward0>), tensor(-9.2434, device='cuda:0', grad_fn=<NegBackward0>), tensor(-89.6079, device='cuda:0', grad_fn=<AddBackward0>)]\n",
      "5.196809291035959\n",
      "tensor(-135.1992, device='cuda:0', grad_fn=<NegBackward0>) [tensor(-37.4317, device='cuda:0', grad_fn=<NegBackward0>), tensor(-8.7559, device='cuda:0', grad_fn=<NegBackward0>), tensor(-89.0116, device='cuda:0', grad_fn=<AddBackward0>)]\n",
      "5.200295207889147\n",
      "tensor(-134.6700, device='cuda:0', grad_fn=<NegBackward0>) [tensor(-37.4317, device='cuda:0', grad_fn=<NegBackward0>), tensor(-8.7899, device='cuda:0', grad_fn=<NegBackward0>), tensor(-88.4485, device='cuda:0', grad_fn=<AddBackward0>)]\n",
      "4.895882057250172\n",
      "tensor(-135.8549, device='cuda:0', grad_fn=<NegBackward0>) [tensor(-37.3977, device='cuda:0', grad_fn=<NegBackward0>), tensor(-9.5518, device='cuda:0', grad_fn=<NegBackward0>), tensor(-88.9054, device='cuda:0', grad_fn=<AddBackward0>)]\n",
      "5.331453705140481\n",
      "tensor(-135.6815, device='cuda:0', grad_fn=<NegBackward0>) [tensor(-37.3977, device='cuda:0', grad_fn=<NegBackward0>), tensor(-9.2501, device='cuda:0', grad_fn=<NegBackward0>), tensor(-89.0337, device='cuda:0', grad_fn=<AddBackward0>)]\n",
      "4.757049211644869\n",
      "tensor(-130.8057, device='cuda:0', grad_fn=<NegBackward0>) [tensor(-37.3241, device='cuda:0', grad_fn=<NegBackward0>), tensor(-7.6602, device='cuda:0', grad_fn=<NegBackward0>), tensor(-85.8214, device='cuda:0', grad_fn=<AddBackward0>)]\n",
      "5.518172891375356\n",
      "tensor(-135.2310, device='cuda:0', grad_fn=<NegBackward0>) [tensor(-37.3241, device='cuda:0', grad_fn=<NegBackward0>), tensor(-8.8244, device='cuda:0', grad_fn=<NegBackward0>), tensor(-89.0825, device='cuda:0', grad_fn=<AddBackward0>)]\n",
      "5.513250873784069\n",
      "tensor(-136.6919, device='cuda:0', grad_fn=<NegBackward0>) [tensor(-37.4442, device='cuda:0', grad_fn=<NegBackward0>), tensor(-9.3218, device='cuda:0', grad_fn=<NegBackward0>), tensor(-89.9259, device='cuda:0', grad_fn=<AddBackward0>)]\n",
      "5.464252752395636\n",
      "tensor(-137.5586, device='cuda:0', grad_fn=<NegBackward0>) [tensor(-37.4442, device='cuda:0', grad_fn=<NegBackward0>), tensor(-9.6336, device='cuda:0', grad_fn=<NegBackward0>), tensor(-90.4808, device='cuda:0', grad_fn=<AddBackward0>)]\n",
      "5.531752881973245\n",
      "tensor(-136.7025, device='cuda:0', grad_fn=<NegBackward0>) [tensor(-37.4865, device='cuda:0', grad_fn=<NegBackward0>), tensor(-9.4145, device='cuda:0', grad_fn=<NegBackward0>), tensor(-89.8015, device='cuda:0', grad_fn=<AddBackward0>)]\n",
      "5.19607036145778\n",
      "tensor(-136.7828, device='cuda:0', grad_fn=<NegBackward0>) [tensor(-37.4865, device='cuda:0', grad_fn=<NegBackward0>), tensor(-9.9862, device='cuda:0', grad_fn=<NegBackward0>), tensor(-89.3101, device='cuda:0', grad_fn=<AddBackward0>)]\n",
      "5.291345733932819\n",
      "tensor(-135.5349, device='cuda:0', grad_fn=<NegBackward0>) [tensor(-37.4060, device='cuda:0', grad_fn=<NegBackward0>), tensor(-9.1031, device='cuda:0', grad_fn=<NegBackward0>), tensor(-89.0258, device='cuda:0', grad_fn=<AddBackward0>)]\n",
      "4.97024794371492\n",
      "tensor(-136.6785, device='cuda:0', grad_fn=<NegBackward0>) [tensor(-37.4060, device='cuda:0', grad_fn=<NegBackward0>), tensor(-10.6841, device='cuda:0', grad_fn=<NegBackward0>), tensor(-88.5884, device='cuda:0', grad_fn=<AddBackward0>)]\n",
      "5.609473430579714\n",
      "tensor(-135.3657, device='cuda:0', grad_fn=<NegBackward0>) [tensor(-37.3851, device='cuda:0', grad_fn=<NegBackward0>), tensor(-8.8920, device='cuda:0', grad_fn=<NegBackward0>), tensor(-89.0886, device='cuda:0', grad_fn=<AddBackward0>)]\n",
      "5.077067052699825\n",
      "tensor(-135.5555, device='cuda:0', grad_fn=<NegBackward0>) [tensor(-37.3851, device='cuda:0', grad_fn=<NegBackward0>), tensor(-9.5398, device='cuda:0', grad_fn=<NegBackward0>), tensor(-88.6306, device='cuda:0', grad_fn=<AddBackward0>)]\n",
      "5.413963826320494\n",
      "tensor(-133.9364, device='cuda:0', grad_fn=<NegBackward0>) [tensor(-37.4106, device='cuda:0', grad_fn=<NegBackward0>), tensor(-8.4844, device='cuda:0', grad_fn=<NegBackward0>), tensor(-88.0414, device='cuda:0', grad_fn=<AddBackward0>)]\n",
      "5.6537752907131615\n",
      "tensor(-134.5649, device='cuda:0', grad_fn=<NegBackward0>) [tensor(-37.4106, device='cuda:0', grad_fn=<NegBackward0>), tensor(-8.7442, device='cuda:0', grad_fn=<NegBackward0>), tensor(-88.4101, device='cuda:0', grad_fn=<AddBackward0>)]\n",
      "5.977487639206156\n",
      "tensor(-138.2580, device='cuda:0', grad_fn=<NegBackward0>) [tensor(-37.4816, device='cuda:0', grad_fn=<NegBackward0>), tensor(-9.7776, device='cuda:0', grad_fn=<NegBackward0>), tensor(-90.9988, device='cuda:0', grad_fn=<AddBackward0>)]\n"
     ]
    },
    {
     "name": "stdout",
     "output_type": "stream",
     "text": [
      "5.025079256437577\n",
      "tensor(-136.0218, device='cuda:0', grad_fn=<NegBackward0>) [tensor(-37.4816, device='cuda:0', grad_fn=<NegBackward0>), tensor(-9.5995, device='cuda:0', grad_fn=<NegBackward0>), tensor(-88.9407, device='cuda:0', grad_fn=<AddBackward0>)]\n",
      "5.491730735519765\n",
      "tensor(-137.2248, device='cuda:0', grad_fn=<NegBackward0>) [tensor(-37.4504, device='cuda:0', grad_fn=<NegBackward0>), tensor(-9.6039, device='cuda:0', grad_fn=<NegBackward0>), tensor(-90.1706, device='cuda:0', grad_fn=<AddBackward0>)]\n",
      "5.920038433575967\n",
      "tensor(-137.5348, device='cuda:0', grad_fn=<NegBackward0>) [tensor(-37.4504, device='cuda:0', grad_fn=<NegBackward0>), tensor(-9.6320, device='cuda:0', grad_fn=<NegBackward0>), tensor(-90.4524, device='cuda:0', grad_fn=<AddBackward0>)]\n",
      "4.723963521895609\n",
      "tensor(-136.3985, device='cuda:0', grad_fn=<NegBackward0>) [tensor(-37.4921, device='cuda:0', grad_fn=<NegBackward0>), tensor(-10.2800, device='cuda:0', grad_fn=<NegBackward0>), tensor(-88.6264, device='cuda:0', grad_fn=<AddBackward0>)]\n",
      "5.45618312613286\n",
      "tensor(-136.4349, device='cuda:0', grad_fn=<NegBackward0>) [tensor(-37.4921, device='cuda:0', grad_fn=<NegBackward0>), tensor(-9.3272, device='cuda:0', grad_fn=<NegBackward0>), tensor(-89.6156, device='cuda:0', grad_fn=<AddBackward0>)]\n",
      "5.258622795459039\n",
      "tensor(-136.3252, device='cuda:0', grad_fn=<NegBackward0>) [tensor(-37.4750, device='cuda:0', grad_fn=<NegBackward0>), tensor(-8.9644, device='cuda:0', grad_fn=<NegBackward0>), tensor(-89.8858, device='cuda:0', grad_fn=<AddBackward0>)]\n",
      "4.769222564440468\n",
      "tensor(-135.2694, device='cuda:0', grad_fn=<NegBackward0>) [tensor(-37.4750, device='cuda:0', grad_fn=<NegBackward0>), tensor(-9.6674, device='cuda:0', grad_fn=<NegBackward0>), tensor(-88.1270, device='cuda:0', grad_fn=<AddBackward0>)]\n",
      "5.238412965053334\n",
      "tensor(-136.7729, device='cuda:0', grad_fn=<NegBackward0>) [tensor(-37.3932, device='cuda:0', grad_fn=<NegBackward0>), tensor(-9.6769, device='cuda:0', grad_fn=<NegBackward0>), tensor(-89.7028, device='cuda:0', grad_fn=<AddBackward0>)]\n",
      "5.366299832379116\n",
      "tensor(-134.4690, device='cuda:0', grad_fn=<NegBackward0>) [tensor(-37.3932, device='cuda:0', grad_fn=<NegBackward0>), tensor(-8.8362, device='cuda:0', grad_fn=<NegBackward0>), tensor(-88.2397, device='cuda:0', grad_fn=<AddBackward0>)]\n",
      "5.239850625830014\n",
      "tensor(-135.4794, device='cuda:0', grad_fn=<NegBackward0>) [tensor(-37.4502, device='cuda:0', grad_fn=<NegBackward0>), tensor(-9.1331, device='cuda:0', grad_fn=<NegBackward0>), tensor(-88.8961, device='cuda:0', grad_fn=<AddBackward0>)]\n"
     ]
    }
   ],
   "source": [
    "# data selected\n",
    "mean_V = []\n",
    "n_dis2 = 1\n",
    "n_dis = 1\n",
    "mode = 1\n",
    "gam3 = 1\n",
    "mcr_gan_loss = MCRGANloss(gam1=1., gam2=1., gam3=gam3, eps=0.5, numclasses=numclasses, mode=mode, rho=None)\n",
    "loss_V = 0\n",
    "last_V = -1000\n",
    "num_steps = 500\n",
    "lr1 = 1e-3\n",
    "lr2 = 1e-3\n",
    "optD = optim.Adam(netD.parameters(), lr1, betas=(0.5, 0.999))\n",
    "optG = optim.Adam(netG.parameters(), lr2, betas=(0.5, 0.999))\n",
    "meanV_sum = []\n",
    "radius_list = []\n",
    "radius = 5\n",
    "\n",
    "for epoch in range(num_steps):\n",
    "    if 1==1:\n",
    "        \n",
    "        #radius,_ = gs_radius(radius1=0,radius2=100,netD=netD,real_cpu=real_cpu,real_label=real_label,tor=1e-5,n_dis=2,lam=0.618,mode=mode)\n",
    "        #radius_list.append(radius)\n",
    "        #print(radius)\n",
    "\n",
    "        for i in range(n_dis):\n",
    "            netD.zero_grad()\n",
    "            optD.zero_grad()\n",
    "            Z = netD(real_cpu)\n",
    "            net_noise = get_noise(DATASET, device, LABEL)\n",
    "            radius,_ = gs_radius(radius1=0,radius2=100,netD=netD,real_cpu=real_cpu,real_label=real_label,tor=1e-5,n_dis=2,lam=0.618,mode=mode)\n",
    "            radius_list.append(radius)\n",
    "            print(radius)\n",
    "            fed_state_dict = get_netG(netD,netV,net_noise,radius)\n",
    "            netG.load_state_dict(fed_state_dict)\n",
    "            Z_bar = netG(real_cpu)\n",
    "            errD, errD_EC = mcr_gan_loss(Z, Z_bar, real_label, 1, n_dis)\n",
    "            print(errD, errD_EC)\n",
    "            errD.backward()\n",
    "            optD.step()\n",
    "        temp = 0\n",
    "        for j in range(n_dis2):\n",
    "            netG.zero_grad()\n",
    "            optG.zero_grad()\n",
    "\n",
    "            Z = netD(real_cpu)\n",
    "            net_noise = get_noise(DATASET, device, LABEL)\n",
    "            radius,_ = gs_radius(radius1=0,radius2=100,netD=netD,real_cpu=real_cpu,real_label=real_label,tor=1e-5,n_dis=2,lam=0.618,mode=mode)\n",
    "            radius_list.append(radius)\n",
    "            print(radius)\n",
    "            fed_state_dict = get_netG(netD,netV,net_noise,radius)\n",
    "            netG.load_state_dict(fed_state_dict)\n",
    "            Z_bar = netG(real_cpu)\n",
    "            errG, errG_EC = mcr_gan_loss(Z, Z_bar, real_label, n_dis2 - 1, n_dis2)\n",
    "            print(errG, errG_EC)\n",
    "            temp = errG\n",
    "            errG = (-1) * errG\n",
    "            errG.backward()\n",
    "            optG.step()\n",
    "\n",
    "            update_dic = update_netV(netV,netG,net_noise,fed_state_dict,radius)\n",
    "            netV.load_state_dict(update_dic)\n",
    "\n",
    "        loss_V = temp\n",
    "        "
   ]
  },
  {
   "cell_type": "code",
   "execution_count": 8,
   "id": "58be30d1",
   "metadata": {},
   "outputs": [
    {
     "data": {
      "text/plain": [
       "[99.97995053415953,\n",
       " 99.98259958255836,\n",
       " 38.17762457845868,\n",
       " 45.12611854059224,\n",
       " 11.43793767576066,\n",
       " 7.4561613803678055,\n",
       " 5.651744884465896,\n",
       " 6.0562320441025825,\n",
       " 18.811227921457508,\n",
       " 5.339640607057247,\n",
       " 9.42569234552723,\n",
       " 5.524559640032748,\n",
       " 5.5390933896905,\n",
       " 5.535712919144031,\n",
       " 6.194978688667195,\n",
       " 6.7593035322381,\n",
       " 5.194279675900196,\n",
       " 5.419714952968483,\n",
       " 5.92560111216801,\n",
       " 5.021340337331054,\n",
       " 5.29766558296617,\n",
       " 4.579915966544212,\n",
       " 4.728011751906983,\n",
       " 6.075847280967209,\n",
       " 5.989891751674763,\n",
       " 5.469297119900499,\n",
       " 5.191530879340439,\n",
       " 5.278238916001288,\n",
       " 99.92626396700042,\n",
       " 4.717367314193273,\n",
       " 6.282688520883852,\n",
       " 5.937026846694925,\n",
       " 5.541128170664217,\n",
       " 5.327360729349223,\n",
       " 5.006369301402145,\n",
       " 5.630835686550213,\n",
       " 5.5629919752297985,\n",
       " 5.7466347502540085,\n",
       " 5.82157238967904,\n",
       " 5.424273863560556,\n",
       " 6.098370319631853,\n",
       " 7.429778714111981,\n",
       " 5.534866281083704,\n",
       " 4.84606752203199,\n",
       " 4.7249161827727,\n",
       " 5.536708281758468,\n",
       " 5.2278284283927094,\n",
       " 6.442818788659792,\n",
       " 5.806946722415053,\n",
       " 5.764857170050041,\n",
       " 4.849497632224209,\n",
       " 5.771195378363734,\n",
       " 5.619203708172431,\n",
       " 6.3257484794121455,\n",
       " 5.875595204239202,\n",
       " 5.913948187539171,\n",
       " 5.846031371427962,\n",
       " 5.756695053727437,\n",
       " 5.477322788405237,\n",
       " 5.240989658629547,\n",
       " 6.55480426504868,\n",
       " 5.247704395939788,\n",
       " 5.035209826300898,\n",
       " 5.19885734400492,\n",
       " 5.5220258073138675,\n",
       " 5.581798986995804,\n",
       " 5.940147684709621,\n",
       " 5.79692075337874,\n",
       " 5.511172409214584,\n",
       " 5.090371949510939,\n",
       " 5.472219566983865,\n",
       " 5.257831772485201,\n",
       " 5.06596184431765,\n",
       " 5.699314913638696,\n",
       " 5.678314249614162,\n",
       " 5.454382466563698,\n",
       " 5.737155037175431,\n",
       " 5.81750686168318,\n",
       " 5.383740242888601,\n",
       " 5.7941011134224345,\n",
       " 7.361522955953538,\n",
       " 5.836586641809277,\n",
       " 10.901262418713703,\n",
       " 4.9440503904770745,\n",
       " 5.461608310401449,\n",
       " 5.177550769455122,\n",
       " 5.754667910762,\n",
       " 5.065886847914678,\n",
       " 5.443596813506355,\n",
       " 5.629890994364892,\n",
       " 5.562176223226435,\n",
       " 6.147537501221107,\n",
       " 5.753521590088603,\n",
       " 5.825896950038066,\n",
       " 4.838529334922385,\n",
       " 5.420366194929339,\n",
       " 5.399110066948808,\n",
       " 5.60969243713874,\n",
       " 5.431305866324912,\n",
       " 6.0161908916378115,\n",
       " 5.026744272418848,\n",
       " 5.51311480914238,\n",
       " 5.4538254614361,\n",
       " 5.5638175107549275,\n",
       " 5.927150345888036,\n",
       " 5.049172972900988,\n",
       " 5.696578038479192,\n",
       " 5.73667671727985,\n",
       " 6.23116569113482,\n",
       " 5.993599468508753,\n",
       " 5.730814521209407,\n",
       " 5.781613575031435,\n",
       " 5.939775319234463,\n",
       " 6.561240701842321,\n",
       " 5.1189608445667085,\n",
       " 5.530841729226482,\n",
       " 5.600354416764788,\n",
       " 5.160004368533273,\n",
       " 5.361257320299794,\n",
       " 5.129197256987101,\n",
       " 4.95190560795772,\n",
       " 5.275719511074756,\n",
       " 5.4069032470469525,\n",
       " 5.487149664333074,\n",
       " 4.735613146310629,\n",
       " 5.376902391959024,\n",
       " 5.610066268990371,\n",
       " 5.9454312275250345,\n",
       " 6.596596971925718,\n",
       " 5.392540061919086,\n",
       " 5.1136374359093475,\n",
       " 5.9699609542087995,\n",
       " 4.922588476487566,\n",
       " 5.314077555935773,\n",
       " 5.245127081878719,\n",
       " 5.724509576110462,\n",
       " 5.039454841856171,\n",
       " 5.212489342342778,\n",
       " 4.648759521915773,\n",
       " 4.918878193902106,\n",
       " 4.97635097463633,\n",
       " 5.074639832439367,\n",
       " 4.936427007516474,\n",
       " 5.040442466238933,\n",
       " 5.641406927656955,\n",
       " 5.306341800884704,\n",
       " 5.443468925210016,\n",
       " 5.047620120294264,\n",
       " 6.1369897672468925,\n",
       " 4.94382295319706,\n",
       " 4.877122503424091,\n",
       " 5.6512725000575195,\n",
       " 5.15149874218863,\n",
       " 6.023992365568523,\n",
       " 5.3515378914264655,\n",
       " 5.223232190366817,\n",
       " 5.189602440781408,\n",
       " 5.921746809985164,\n",
       " 6.15217075170457,\n",
       " 4.706032455484488,\n",
       " 4.853171793445481,\n",
       " 5.292646726831754,\n",
       " 4.849727325532068,\n",
       " 6.525706080534425,\n",
       " 4.679127238771192,\n",
       " 5.19449730869568,\n",
       " 5.37676368390907,\n",
       " 5.265027813322915,\n",
       " 5.176583665443394,\n",
       " 5.072880926872247,\n",
       " 5.198364173561617,\n",
       " 5.422320102827503,\n",
       " 5.117765295002002,\n",
       " 4.811988441482511,\n",
       " 5.7886356671843435,\n",
       " 5.392135522011241,\n",
       " 5.12424668506713,\n",
       " 5.985686317120666,\n",
       " 5.136867790364605,\n",
       " 5.710754234487529,\n",
       " 5.883415984568904,\n",
       " 5.529221142424244,\n",
       " 4.428597698730135,\n",
       " 5.682030983523376,\n",
       " 5.19932835960557,\n",
       " 5.257464734382345,\n",
       " 5.436124558887511,\n",
       " 5.502056565239809,\n",
       " 4.923776783137669,\n",
       " 5.034454798420638,\n",
       " 5.79997486951339,\n",
       " 4.830283753782751,\n",
       " 5.453782506591372,\n",
       " 5.708003836744941,\n",
       " 5.993895072638179,\n",
       " 5.227266196390323,\n",
       " 5.02504380116981,\n",
       " 4.778002722696712,\n",
       " 5.219657084463668,\n",
       " 5.091981545547129,\n",
       " 5.598305904437279,\n",
       " 4.768276473978167,\n",
       " 4.771768424238024,\n",
       " 5.214100786568063,\n",
       " 5.1489717555348875,\n",
       " 5.268239602254446,\n",
       " 4.805396163700598,\n",
       " 5.138514868885759,\n",
       " 4.286664608796098,\n",
       " 5.553127927636426,\n",
       " 5.0782097891380165,\n",
       " 4.9249008266482495,\n",
       " 4.718774454064419,\n",
       " 4.890333318555421,\n",
       " 5.414735871755328,\n",
       " 5.845577349496313,\n",
       " 5.132048975530387,\n",
       " 4.596241321617752,\n",
       " 5.635169973283573,\n",
       " 5.21469685745054,\n",
       " 5.135765899985529,\n",
       " 4.997269707956434,\n",
       " 5.250856841596483,\n",
       " 5.051615744685898,\n",
       " 4.88528557556974,\n",
       " 4.925934433579174,\n",
       " 5.269851358540979,\n",
       " 5.519648311035183,\n",
       " 5.435162263874944,\n",
       " 5.3663564974947855,\n",
       " 4.822709984300407,\n",
       " 4.937227339240858,\n",
       " 4.957998195929867,\n",
       " 5.336678119657444,\n",
       " 5.195722544866945,\n",
       " 4.606281395934027,\n",
       " 4.736835718742935,\n",
       " 4.913091278945639,\n",
       " 4.997261440561457,\n",
       " 5.008974067651246,\n",
       " 5.141633531140389,\n",
       " 5.042567320506674,\n",
       " 5.025500602037811,\n",
       " 5.210922542350063,\n",
       " 5.1820342908759915,\n",
       " 4.798193725545409,\n",
       " 5.381442766849252,\n",
       " 4.987550099770638,\n",
       " 5.112954741050822,\n",
       " 4.99957471707224,\n",
       " 5.155578346590925,\n",
       " 5.587714457008793,\n",
       " 5.178767148423989,\n",
       " 4.694865492803511,\n",
       " 4.933139190534153,\n",
       " 4.560466483159006,\n",
       " 4.666954630142429,\n",
       " 5.305142974735977,\n",
       " 4.765701988059252,\n",
       " 5.370635779781928,\n",
       " 5.059877097838904,\n",
       " 5.308102832207837,\n",
       " 5.218182517659834,\n",
       " 4.852991658927768,\n",
       " 5.035229491658012,\n",
       " 5.1006955185110545,\n",
       " 4.900533886414135,\n",
       " 4.566561516489557,\n",
       " 4.966022903790054,\n",
       " 5.104153376100998,\n",
       " 4.61740529137214,\n",
       " 5.076511388256366,\n",
       " 4.696803542055719,\n",
       " 4.709776191870571,\n",
       " 4.889996099990582,\n",
       " 4.998812946359831,\n",
       " 4.569820498023189,\n",
       " 4.7767557431024095,\n",
       " 4.736948798150498,\n",
       " 5.18864037960387,\n",
       " 4.864699565450922,\n",
       " 4.788070308318336,\n",
       " 4.524252094975724,\n",
       " 5.118878934154092,\n",
       " 4.824126745690899,\n",
       " 4.805395661740141,\n",
       " 4.6777988757735915,\n",
       " 5.408548386853694,\n",
       " 5.453791747483315,\n",
       " 4.799734401249467,\n",
       " 4.7150189256493205,\n",
       " 4.829961503923298,\n",
       " 4.870423710698922,\n",
       " 5.1587006978916685,\n",
       " 4.801316484197102,\n",
       " 5.127783748867536,\n",
       " 4.716978808329088,\n",
       " 5.142421763962663,\n",
       " 4.930382338338248,\n",
       " 4.389573657567699,\n",
       " 5.2437109830490956,\n",
       " 5.411404971148577,\n",
       " 5.240395154637509,\n",
       " 4.501970759491771,\n",
       " 4.818517942078528,\n",
       " 5.100923610978851,\n",
       " 5.363694165272864,\n",
       " 4.761658162955039,\n",
       " 5.064917971772735,\n",
       " 4.688625389455804,\n",
       " 4.734846208564138,\n",
       " 4.760078557810619,\n",
       " 4.653174936500728,\n",
       " 4.84431423913206,\n",
       " 5.267696295035571,\n",
       " 4.8621615419352775,\n",
       " 5.255308952458923,\n",
       " 5.090568492167868,\n",
       " 5.066843228480729,\n",
       " 5.702221544507122,\n",
       " 5.087601530535241,\n",
       " 4.490300849530691,\n",
       " 4.536078131562621,\n",
       " 4.899360643596219,\n",
       " 4.853569234345041,\n",
       " 4.704498025793996,\n",
       " 4.896936844006119,\n",
       " 5.052316386805391,\n",
       " 4.736522654692714,\n",
       " 4.487947930647866,\n",
       " 4.820773589057179,\n",
       " 4.786543116394536,\n",
       " 4.779903451787126,\n",
       " 5.157758290978758,\n",
       " 4.454538856580601,\n",
       " 4.756626644060012,\n",
       " 4.574497847659874,\n",
       " 5.0943838979235725,\n",
       " 4.604858806438614,\n",
       " 4.736810288931343,\n",
       " 5.111763105122967,\n",
       " 4.683721700143388,\n",
       " 4.8831267587508815,\n",
       " 4.923495081055998,\n",
       " 5.424702701551087,\n",
       " 4.569135230517221,\n",
       " 4.941269857364635,\n",
       " 4.5140735222880535,\n",
       " 4.765387994263031,\n",
       " 4.6582253700920715,\n",
       " 4.817168565771696,\n",
       " 5.035676548113847,\n",
       " 4.450597933999467,\n",
       " 4.549001439735912,\n",
       " 5.491902558960274,\n",
       " 4.966901260466296,\n",
       " 5.149346886979258,\n",
       " 4.472799863735148,\n",
       " 5.125868447337948,\n",
       " 4.3701203851161745,\n",
       " 5.244706809477724,\n",
       " 5.111761856662934,\n",
       " 4.816467768340567,\n",
       " 4.689329791473625,\n",
       " 4.990752376054984,\n",
       " 4.938186666428279,\n",
       " 5.167833647096939,\n",
       " 5.029985049248555,\n",
       " 4.97180271883525,\n",
       " 4.5371321615389775,\n",
       " 4.955668556719411,\n",
       " 4.530916335515582,\n",
       " 4.770755842366789,\n",
       " 4.605402871319294,\n",
       " 4.891385263288689,\n",
       " 5.2986444918682905,\n",
       " 5.140808827346236,\n",
       " 4.887807881584419,\n",
       " 4.61646753725762,\n",
       " 5.123886997444148,\n",
       " 5.387079145046363,\n",
       " 4.8711123067973086,\n",
       " 4.83328948134465,\n",
       " 4.724391186508777,\n",
       " 4.718915010303468,\n",
       " 5.094512365880247,\n",
       " 5.141772928055915,\n",
       " 4.90510466618302,\n",
       " 4.857670089863411,\n",
       " 4.926528016419852,\n",
       " 5.080671616356787,\n",
       " 4.761055851540576,\n",
       " 5.1208370466702045,\n",
       " 4.548389421592423,\n",
       " 5.032629218311279,\n",
       " 5.207497891522515,\n",
       " 5.109236204219844,\n",
       " 4.588098120892684,\n",
       " 5.08623280568531,\n",
       " 5.322579939258199,\n",
       " 4.737173681881781,\n",
       " 4.451192145004416,\n",
       " 4.938780249268957,\n",
       " 4.953918783238318,\n",
       " 4.751944602684416,\n",
       " 4.97432894464027,\n",
       " 5.224416716407056,\n",
       " 4.770743433839909,\n",
       " 4.437300872557294,\n",
       " 4.939742587491516,\n",
       " 5.883428653701709,\n",
       " 4.560873186839964,\n",
       " 4.874086757103498,\n",
       " 4.633370746419097,\n",
       " 4.82775590143613,\n",
       " 4.347506539095663,\n",
       " 4.851656048425194,\n",
       " 4.88541555936013,\n",
       " 4.593073025584167,\n",
       " 4.875157448064735,\n",
       " 4.454905662896742,\n",
       " 4.271954449429662,\n",
       " 4.562614673701371,\n",
       " 4.689276815399921,\n",
       " 4.775704778636998,\n",
       " 4.855199521825437,\n",
       " 4.7675317348642725,\n",
       " 5.110425359564135,\n",
       " 4.79425325979944,\n",
       " 4.881204986538871,\n",
       " 4.620153845090872,\n",
       " 4.621974530985272,\n",
       " 4.916737734374299,\n",
       " 4.6539314351836065,\n",
       " 4.606630629524974,\n",
       " 5.5811165046951565,\n",
       " 4.259686125085712,\n",
       " 4.950429543885395,\n",
       " 4.880466560425415,\n",
       " 4.987405865031462,\n",
       " 4.603818185542758,\n",
       " 4.8925952028291,\n",
       " 4.853655411074097,\n",
       " 5.003893786116065,\n",
       " 4.87028712897074,\n",
       " 4.849110252928765,\n",
       " 4.818625295000463,\n",
       " 4.793976558510865,\n",
       " 5.187532546115473,\n",
       " 5.126532690201718,\n",
       " 5.020228098815714,\n",
       " 5.557702551319591,\n",
       " 5.686483884146095,\n",
       " 4.5952276289764145,\n",
       " 5.054225568888543,\n",
       " 4.859738272327854,\n",
       " 4.965168328959567,\n",
       " 4.936570780035552,\n",
       " 4.573298435033812,\n",
       " 4.984970310443422,\n",
       " 4.821765530409238,\n",
       " 5.474802641251488,\n",
       " 4.810057911797559,\n",
       " 4.872266989980258,\n",
       " 5.061007243100683,\n",
       " 5.275681230691378,\n",
       " 5.124465599816016,\n",
       " 4.354731507783688,\n",
       " 4.855138434157675,\n",
       " 4.706346082702725,\n",
       " 4.71074393513994,\n",
       " 4.851010272158885,\n",
       " 5.344047108022728,\n",
       " 6.56794794366724,\n",
       " 4.732667130497077,\n",
       " 4.951739820413823,\n",
       " 4.814681029104865,\n",
       " 5.408476971083623,\n",
       " 4.472035082769505,\n",
       " 4.489338478199819,\n",
       " 4.480142734455235,\n",
       " 4.519772760398348,\n",
       " 5.159070184604873,\n",
       " 5.460934158794602,\n",
       " 5.292056970162164,\n",
       " 5.024601005780904,\n",
       " 4.629647338280344,\n",
       " 4.670790049727018,\n",
       " 4.78957388147214,\n",
       " 4.9422065835469375,\n",
       " 4.753353761072809,\n",
       " 5.725021013744329,\n",
       " 5.108648861111197,\n",
       " 5.138290449487399,\n",
       " 4.735609622413373,\n",
       " 4.6053805235102905,\n",
       " 4.713634486470287,\n",
       " 4.958585829775789,\n",
       " 5.03454752984474,\n",
       " 4.609469752848556,\n",
       " 5.0751234145400606,\n",
       " 4.713317631885808,\n",
       " 4.789012578873853,\n",
       " 5.000182840062061,\n",
       " 5.2752672634193996,\n",
       " 4.7232801025787365,\n",
       " 4.481704082421765,\n",
       " 4.5705578291849545,\n",
       " 4.715789211774362,\n",
       " 4.886862934914608,\n",
       " 4.885302207594563,\n",
       " 4.673038141738951,\n",
       " 4.842385657398665,\n",
       " 4.555051288990063,\n",
       " 5.7322496466532575,\n",
       " 4.596133658484254,\n",
       " 5.45030353372529,\n",
       " 4.842747783249361,\n",
       " 4.9218492753895156,\n",
       " 5.1004687084718,\n",
       " 5.008788888685177,\n",
       " 4.955848579552803,\n",
       " 4.611989464159074,\n",
       " 5.23951586597533,\n",
       " 5.2335621621569155,\n",
       " 4.640710826368078,\n",
       " 4.831607543674204,\n",
       " 4.373079622119513,\n",
       " 5.0410425383613235,\n",
       " 4.374742909306664,\n",
       " 4.4152714482604125,\n",
       " 4.467749637323629,\n",
       " 4.872443420330802,\n",
       " 4.74106282352429,\n",
       " 4.956985524374695,\n",
       " 5.023701873849757,\n",
       " 5.113931636463412,\n",
       " 5.3061281354442205,\n",
       " 4.998956788791293,\n",
       " 4.480155245175906,\n",
       " 4.449579264600871,\n",
       " 4.744602555572418,\n",
       " 5.3279970357935,\n",
       " 4.926532599845817,\n",
       " 4.626762841436667,\n",
       " 5.485862188542784,\n",
       " 5.369407143777956,\n",
       " 4.991180534059408,\n",
       " 4.651261548148614,\n",
       " 4.939971138845753,\n",
       " 4.976380519171727,\n",
       " 5.004475212350049,\n",
       " 5.064857717293449,\n",
       " 4.668478508260898,\n",
       " 4.652418603581237,\n",
       " 4.7474915945243055,\n",
       " 4.852567407814262,\n",
       " 4.767900192579253,\n",
       " 5.008801950477581,\n",
       " 5.105521076098816,\n",
       " 4.751943459768132,\n",
       " 5.1738673878087695,\n",
       " 5.162117433589472,\n",
       " 4.67467836155964,\n",
       " 5.035727232435872,\n",
       " 5.313935481134518,\n",
       " 5.259445071079073,\n",
       " 5.255884757284403,\n",
       " 5.327987358448032,\n",
       " 5.210021640711826,\n",
       " 4.878675116918618,\n",
       " 4.4975573465860625,\n",
       " 4.705160228445226,\n",
       " 4.921392479412451,\n",
       " 5.04812869802201,\n",
       " 4.75996932488346,\n",
       " 4.765157315971577,\n",
       " 4.960152289403336,\n",
       " 5.001120398040807,\n",
       " 4.714677783164523,\n",
       " 4.679393484176419,\n",
       " 4.961540614944775,\n",
       " 4.5731537623369265,\n",
       " 4.625053038850633,\n",
       " 5.396205397989038,\n",
       " 4.497131781913884,\n",
       " 4.771994315537118,\n",
       " 4.827694397901823,\n",
       " 4.462585152704999,\n",
       " 5.315775688933412,\n",
       " 4.856335512766203,\n",
       " 4.999062710380143,\n",
       " 5.401046264548974,\n",
       " 4.353456046708461,\n",
       " 5.009532301222432,\n",
       " 4.837438708125521,\n",
       " 4.8201845357858275,\n",
       " 5.086663633421258,\n",
       " 5.114795347616643,\n",
       " 4.85922186516284,\n",
       " 4.950799527043719,\n",
       " 5.030911800826428,\n",
       " 4.832052713517605,\n",
       " 4.808970349111222,\n",
       " 4.593347754435215,\n",
       " 5.210755762528932,\n",
       " 4.551984050118796,\n",
       " 5.0976319053860575,\n",
       " 4.9626771424567435,\n",
       " 4.786509508948162,\n",
       " 5.162046835232445,\n",
       " 4.8170137322021365,\n",
       " 5.004471771104946,\n",
       " 4.592159088565524,\n",
       " 5.074426767933363,\n",
       " 5.840677997837017,\n",
       " 5.1034561335196065,\n",
       " 5.411223122930725,\n",
       " 5.346395147055182,\n",
       " 4.719277988097679,\n",
       " 5.083751276450194,\n",
       " 4.815055722903216,\n",
       " 5.118735506530462,\n",
       " 5.174919119682303,\n",
       " 4.742874901994539,\n",
       " 5.138341130606037,\n",
       " 5.105984419646112,\n",
       " 4.892659740143004,\n",
       " 4.674600481660824,\n",
       " 5.539269007996069,\n",
       " 4.735560785264069,\n",
       " 4.7000308063276,\n",
       " 4.83013652652076,\n",
       " 5.137916493333726,\n",
       " 5.185370420711608,\n",
       " 4.811986561726574,\n",
       " 5.317896109809888,\n",
       " 5.026241930799753,\n",
       " 5.248615942317536,\n",
       " 5.463501024371988,\n",
       " 5.336735298109134,\n",
       " 4.961085785634047,\n",
       " 4.824608126618224,\n",
       " 4.629262758854616,\n",
       " 5.503021508029873,\n",
       " 5.04821644851438,\n",
       " 4.751067867690928,\n",
       " 4.836857360677634,\n",
       " 5.06772136745241,\n",
       " 5.752504347652374,\n",
       " 5.377390132974514,\n",
       " 4.692254121915578,\n",
       " 4.818800621121862,\n",
       " 5.121255507424057,\n",
       " 5.915489425406253,\n",
       " 5.138281561992324,\n",
       " 5.06573814801653,\n",
       " 5.043306398654396,\n",
       " 4.4238566169509514,\n",
       " 4.838158693553656,\n",
       " 4.523344211099298,\n",
       " 5.498143841068505,\n",
       " 4.894275323011794,\n",
       " 5.327032486574163,\n",
       " 4.93107026718235,\n",
       " 4.665431018724009,\n",
       " 5.289155693286836,\n",
       " 5.278251146895487,\n",
       " 4.561998788531686,\n",
       " 5.344179138118541,\n",
       " 4.7387357012953295,\n",
       " 5.114130700085623,\n",
       " 4.880606393674505,\n",
       " 5.214098938378967,\n",
       " 5.080790043516468,\n",
       " 4.81512135714868,\n",
       " 5.153082505614913,\n",
       " 5.153082093373186,\n",
       " 5.081522937557236,\n",
       " 4.7118827924177555,\n",
       " 4.859229694600107,\n",
       " 4.929797957384351,\n",
       " 5.535565474040405,\n",
       " 5.06494575680004,\n",
       " 5.0099055764401985,\n",
       " 4.540956270140405,\n",
       " 5.05725735201706,\n",
       " 5.323087884623554,\n",
       " 5.803678704107172,\n",
       " 5.078266189778532,\n",
       " 4.827579201431443,\n",
       " 4.968905596440011,\n",
       " 4.596983720298655,\n",
       " 4.8450500571850075,\n",
       " 4.673851724523014,\n",
       " 4.652817779650655,\n",
       " 5.229814730008085,\n",
       " 5.227158108147105,\n",
       " 5.3204125411926375,\n",
       " 4.748829664179214,\n",
       " 4.620072332535642,\n",
       " 5.164741876442096,\n",
       " 4.684901418459801,\n",
       " 5.432019658007031,\n",
       " 5.251776951646549,\n",
       " 4.713262108723759,\n",
       " 4.930611595419823,\n",
       " 5.350160486932751,\n",
       " 5.55000187620609,\n",
       " 4.797477575143071,\n",
       " 4.911606014706734,\n",
       " 4.954491161153465,\n",
       " 5.018660314763511,\n",
       " 5.238693894508685,\n",
       " 5.148975730413458,\n",
       " 4.5544582999611745,\n",
       " 4.694915063784656,\n",
       " 4.971533183278492,\n",
       " 5.181090188014867,\n",
       " 4.735803536685723,\n",
       " 5.135722615193688,\n",
       " 5.146031057342117,\n",
       " 5.116855974408696,\n",
       " 5.560706098337741,\n",
       " 5.478279286627168,\n",
       " 4.762632390937223,\n",
       " 5.025418599492951,\n",
       " 5.681806722218659,\n",
       " 4.596298692601194,\n",
       " 4.814854753419209,\n",
       " 4.640708542407189,\n",
       " 4.988133567394945,\n",
       " 5.38144326880971,\n",
       " 4.961181351668022,\n",
       " 5.460871234142968,\n",
       " 5.379883664073013,\n",
       " 5.025272352524047,\n",
       " 5.344335615445356,\n",
       " 4.733039417630217,\n",
       " 5.205202116807486,\n",
       " 5.23010410579922,\n",
       " 5.228234976307228,\n",
       " 4.756029495891675,\n",
       " 5.275721465489368,\n",
       " 5.357402022405507,\n",
       " 5.131090855420207,\n",
       " 5.0551299481511345,\n",
       " 5.917943567289371,\n",
       " 4.962086549618321,\n",
       " 5.830545075574932,\n",
       " 5.316244820775603,\n",
       " 5.359602584822281,\n",
       " 5.7463173130315255,\n",
       " 4.878488772579067,\n",
       " 4.857067288134467,\n",
       " 4.79649541756439,\n",
       " 4.877116087139623,\n",
       " 5.0781260920717495,\n",
       " 5.144527215977938,\n",
       " 5.009535934178282,\n",
       " 4.686592041757559,\n",
       " 4.662905722987949,\n",
       " 4.654560639168171,\n",
       " 5.185193298448747,\n",
       " 4.876156739059781,\n",
       " 5.302551002823146,\n",
       " 5.119433129317647,\n",
       " 5.012040231283654,\n",
       " 4.814293248949815,\n",
       " 5.2333628675997526,\n",
       " 5.017514056104803,\n",
       " 5.014951516944021,\n",
       " 5.350659417207253,\n",
       " 5.460624284898124,\n",
       " 5.335413475260917,\n",
       " 5.550611410477345,\n",
       " 5.067034912972089,\n",
       " 4.846382053430392,\n",
       " 5.631397123165104,\n",
       " 5.285768269645952,\n",
       " 4.91197179912168,\n",
       " 4.999792719731605,\n",
       " 5.126038024789514,\n",
       " 4.936853712738678,\n",
       " 5.0787254004324485,\n",
       " 5.146450902043507,\n",
       " 4.913315058297188,\n",
       " 5.389820509185419,\n",
       " 4.954657306545509,\n",
       " 4.663224687056425,\n",
       " 5.221904247075216,\n",
       " 4.957034788891392,\n",
       " 4.988596855811397,\n",
       " 5.107679419843826,\n",
       " 5.137916493333726,\n",
       " 5.197400304931012,\n",
       " 4.907666685041423,\n",
       " 5.23299937556221,\n",
       " 5.449326124030104,\n",
       " 5.229465036390765,\n",
       " 5.29230561307032,\n",
       " 4.715791871949465,\n",
       " 5.307793368855304,\n",
       " 5.299627246757054,\n",
       " 5.1060558947431565,\n",
       " 5.633234834511863,\n",
       " 5.398357441968171,\n",
       " 5.301173209962123,\n",
       " 5.978847389389762,\n",
       " 5.016056813885913,\n",
       " 4.560832147294286,\n",
       " 4.8878060336762195,\n",
       " 5.300636579437443,\n",
       " 5.22732400351326,\n",
       " 5.093785892565359,\n",
       " 4.884127660956966,\n",
       " 5.243655023747552,\n",
       " 4.805763116373379,\n",
       " 5.231747256171905,\n",
       " 5.060465441027553,\n",
       " 5.19267412916773,\n",
       " 5.267557586617915,\n",
       " 5.120989532932921,\n",
       " 5.138879899777212,\n",
       " 5.125572120959784,\n",
       " 5.133507933492956,\n",
       " 4.7908731606745905,\n",
       " 5.074639832439367,\n",
       " 5.162423483091414,\n",
       " 4.886249724385798,\n",
       " 4.757222735337128,\n",
       " 5.244582204364721,\n",
       " 5.182037174371835,\n",
       " 5.538129885719699,\n",
       " 4.737028837894054,\n",
       " 5.563823321117861,\n",
       " 5.3112588276594215,\n",
       " 5.415108416073996,\n",
       " 4.476058343308321,\n",
       " 5.023474902547286,\n",
       " 4.772955630151856,\n",
       " 5.194280990194291,\n",
       " 4.711645269354939,\n",
       " 5.634319977229473,\n",
       " 5.15149874218863,\n",
       " 5.03825626600423,\n",
       " 4.920516214123532,\n",
       " 4.905511522688836,\n",
       " 5.38204067438092,\n",
       " 5.696946765835661,\n",
       " 4.864871459202684,\n",
       " 5.551944193203958,\n",
       " 4.7349971422960015,\n",
       " 4.732043023279041,\n",
       " 6.083809219437065,\n",
       " 5.29443605223639,\n",
       " 5.3169171630597845,\n",
       " 4.946834426288878,\n",
       " 4.793235483869067,\n",
       " 4.957836216619003,\n",
       " 5.608366738243021,\n",
       " 4.989109565495021,\n",
       " 5.187677486581986,\n",
       " 5.278243024988983,\n",
       " 5.0707795127788104,\n",
       " 4.862694642803212,\n",
       " 5.5785934609854415,\n",
       " 5.0137478674654945,\n",
       " 5.218694034310804,\n",
       " 5.263472916602921,\n",
       " 5.4858615994631394,\n",
       " 4.913403973641196,\n",
       " 5.200481339453438,\n",
       " 5.462145826632145,\n",
       " 5.010719066032558,\n",
       " 4.804346787996604,\n",
       " 4.6179969736548445,\n",
       " 5.211579622614286,\n",
       " 4.76539696588116,\n",
       " 4.971812953498427,\n",
       " 5.758274622541236,\n",
       " 5.489944111383448,\n",
       " 5.031283182603198,\n",
       " 5.153657389404977,\n",
       " 5.310175217785627,\n",
       " 5.036927362937765,\n",
       " 5.048631729762443,\n",
       " 5.971876210234677,\n",
       " 5.180017143411837,\n",
       " 5.265854181680715,\n",
       " 5.294556109591275,\n",
       " 5.327629593312098,\n",
       " 5.757236486984832,\n",
       " 5.166180042671472,\n",
       " 5.960845210214977,\n",
       " 4.627269067136352,\n",
       " 4.904544855866155,\n",
       " 4.853535630303192,\n",
       " 4.625201782148141,\n",
       " 6.9902698918255854,\n",
       " 5.389012924719967,\n",
       " 5.21580082901385,\n",
       " 5.383632627012805,\n",
       " 5.493624694965532,\n",
       " 5.04568234434615,\n",
       " 5.194285558289663,\n",
       " 5.3124675825454295,\n",
       " 5.237274929006867,\n",
       " 4.892259182389496,\n",
       " 5.347705483067022,\n",
       " 5.062984504283191,\n",
       " 5.5352423639268515,\n",
       " 5.167247850471273,\n",
       " 4.938126701098789,\n",
       " 5.4140149792191306,\n",
       " 4.911367440449587,\n",
       " 5.951998056311699,\n",
       " 4.897535810550266,\n",
       " 5.416034742709551,\n",
       " 5.114373798426417,\n",
       " 5.026233548284847,\n",
       " 5.1477415485688125,\n",
       " 5.206347370289418,\n",
       " 5.528345411375252,\n",
       " 5.487224985640152,\n",
       " 6.06206849739311,\n",
       " 5.288169834763401,\n",
       " 5.083542680879661,\n",
       " 5.482989022335918,\n",
       " 5.733979715745669,\n",
       " 4.869040011885296,\n",
       " 5.167486895758117,\n",
       " 5.15484270081284,\n",
       " 6.2533772808651955,\n",
       " 4.948752526953598,\n",
       " 5.707854241646798,\n",
       " 5.205569624139158,\n",
       " 5.348402391798937,\n",
       " 5.269730289447047,\n",
       " 5.302007231572637,\n",
       " 5.327157285973947,\n",
       " 5.806072306585578,\n",
       " 4.8863229704345805,\n",
       " 5.3942533399014385,\n",
       " 4.721418617706529,\n",
       " 5.611030962831326,\n",
       " 5.5313813546215815,\n",
       " 5.096412487438874,\n",
       " 5.583274402331733,\n",
       " 5.124844164946011,\n",
       " 5.455341366577833,\n",
       " 4.993167041526975,\n",
       " 5.400704700157589,\n",
       " 5.60592130271252,\n",
       " 5.881463637031671,\n",
       " 5.069536891232351,\n",
       " 5.69247540286033,\n",
       " 5.258193107961152,\n",
       " 5.4073075948354345,\n",
       " 5.307564381307937,\n",
       " 5.2443909483937174,\n",
       " 5.389608310269745,\n",
       " 4.6499187249460885,\n",
       " 4.665308708856321,\n",
       " 4.748510328318812,\n",
       " 5.278439110850468,\n",
       " 5.04271034741762,\n",
       " 5.46255140916306,\n",
       " 5.360684217681507,\n",
       " 5.230438934653077,\n",
       " 5.565151864351207,\n",
       " 5.259626424208599,\n",
       " 6.1207189846997405,\n",
       " 5.196809291035959,\n",
       " 5.200295207889147,\n",
       " 4.895882057250172,\n",
       " 5.331453705140481,\n",
       " 4.757049211644869,\n",
       " 5.518172891375356,\n",
       " 5.513250873784069,\n",
       " 5.464252752395636,\n",
       " 5.531752881973245,\n",
       " 5.19607036145778,\n",
       " 5.291345733932819,\n",
       " 4.97024794371492,\n",
       " 5.609473430579714,\n",
       " 5.077067052699825,\n",
       " 5.413963826320494,\n",
       " 5.6537752907131615,\n",
       " 5.977487639206156,\n",
       " 5.025079256437577,\n",
       " 5.491730735519765,\n",
       " 5.920038433575967,\n",
       " 4.723963521895609,\n",
       " 5.45618312613286,\n",
       " 5.258622795459039,\n",
       " 4.769222564440468,\n",
       " 5.238412965053334,\n",
       " 5.366299832379116,\n",
       " 5.239850625830014]"
      ]
     },
     "execution_count": 8,
     "metadata": {},
     "output_type": "execute_result"
    }
   ],
   "source": [
    "radius_list"
   ]
  },
  {
   "cell_type": "code",
   "execution_count": 9,
   "id": "32f480a3",
   "metadata": {},
   "outputs": [
    {
     "name": "stderr",
     "output_type": "stream",
     "text": [
      "extracting all features from dataset: 100%|██████████████████████████████████████████████| 1/1 [00:01<00:00,  1.56s/it]\n",
      "extracting all features from dataset: 100%|██████████████████████████████████████████████| 1/1 [00:01<00:00,  1.60s/it]\n"
     ]
    },
    {
     "name": "stdout",
     "output_type": "stream",
     "text": [
      "----------------------------\n",
      "Train_z, Test_z\n",
      "PCA: 0.8069999999999999\n",
      "SVD: 0.8011\n",
      "NetD, Acc at first 0.8582\n"
     ]
    },
    {
     "name": "stderr",
     "output_type": "stream",
     "text": [
      "extracting all features from dataset: 100%|██████████████████████████████████████████████| 2/2 [00:04<00:00,  2.04s/it]\n",
      "extracting all features from dataset: 100%|██████████████████████████████████████████████| 1/1 [00:01<00:00,  1.51s/it]\n"
     ]
    },
    {
     "name": "stdout",
     "output_type": "stream",
     "text": [
      "----------------------------\n",
      "Train_z, Test_z\n",
      "PCA: 0.8072\n",
      "SVD: 0.8034\n",
      "NetG, Acc at first 0.8385\n"
     ]
    }
   ],
   "source": [
    "#acc at first for NetD\n",
    "train_X, train_Z, train_X_bar, train_Z_bar, train_labels = extract_features2(testloader, netD, netG)\n",
    "\n",
    "test_X, test_Z, test_X_bar, test_Z_bar, test_labels = extract_features2(testloader, netD, netG)\n",
    "\n",
    "\n",
    "print(\"----------------------------\")\n",
    "print(\"Train_z, Test_z\")\n",
    "nearsub(n_comp, train_Z, train_labels, test_Z, test_labels)\n",
    "\n",
    "#acc at first for NetD\n",
    "from sklearn.neighbors import KNeighborsClassifier \n",
    "knn= KNeighborsClassifier(n_neighbors=10) \n",
    "\n",
    "knn.fit(train_Z,train_labels) \n",
    "knn.score(test_Z,test_labels) \n",
    " \n",
    "y_predict = knn.predict(test_Z) \n",
    "\n",
    "count =0\n",
    "for k in range(10000):\n",
    "    if y_predict[k] == test_labels[k]:\n",
    "        count +=1\n",
    "print('NetD, Acc at first',count/10000)\n",
    "Acc_results_D.append(count/10000)\n",
    "\n",
    "#acc at first for NetG\n",
    "train_X, train_Z, train_X_bar, train_Z_bar, train_labels = extract_features2(trainloader, netG, netD)\n",
    "\n",
    "test_X, test_Z, test_X_bar, test_Z_bar, test_labels = extract_features2(testloader, netG, netD)\n",
    "\n",
    "print(\"----------------------------\")\n",
    "print(\"Train_z, Test_z\")\n",
    "nearsub(n_comp, train_Z, train_labels, test_Z, test_labels)\n",
    "\n",
    "\n",
    "#acc at first\n",
    "from sklearn.neighbors import KNeighborsClassifier \n",
    "knn= KNeighborsClassifier(n_neighbors=10) \n",
    "\n",
    "knn.fit(train_Z,train_labels) \n",
    "knn.score(test_Z,test_labels) \n",
    " \n",
    "y_predict = knn.predict(test_Z) \n",
    "\n",
    "count =0\n",
    "for k in range(10000):\n",
    "    if y_predict[k] == test_labels[k]:\n",
    "        count +=1\n",
    "print('NetG, Acc at first',count/10000)\n",
    "Acc_results_G.append(count/10000)\n"
   ]
  },
  {
   "cell_type": "code",
   "execution_count": 10,
   "id": "ab5e89b5",
   "metadata": {},
   "outputs": [],
   "source": [
    "torch.save(netD, 'FMNIST_NetD_changing2-mode1.pth')\n",
    "torch.save(netV, 'FMNIST_NetV_changing2-mode1.pth')\n",
    "torch.save(netG, 'FMNIST_NetG_changing2-mode1.pth')"
   ]
  },
  {
   "cell_type": "markdown",
   "id": "cac9d760",
   "metadata": {},
   "source": [
    "#netD = torch.load('FMNIST_NetD.pth')\n",
    "#netV = torch.load('FMNIST_NetV.pth')\n",
    "#netG = torch.load('FMNIST_NetG.pth')\n",
    "\n",
    "#mode = 1\n",
    "#gam3 = 1"
   ]
  },
  {
   "cell_type": "code",
   "execution_count": 11,
   "id": "a97aa6a9",
   "metadata": {},
   "outputs": [],
   "source": [
    "r_list = [0,0.1,0.2,0.5,1,2,3,4,6,8,10]\n",
    "sample_num = 20"
   ]
  },
  {
   "cell_type": "code",
   "execution_count": 12,
   "id": "5dd88ab6",
   "metadata": {},
   "outputs": [
    {
     "name": "stderr",
     "output_type": "stream",
     "text": [
      "extracting all features from dataset: 100%|██████████████████████████████████████████████| 2/2 [00:04<00:00,  2.09s/it]\n",
      "extracting all features from dataset: 100%|██████████████████████████████████████████████| 1/1 [00:01<00:00,  1.55s/it]\n"
     ]
    },
    {
     "name": "stdout",
     "output_type": "stream",
     "text": [
      "----------------------------\n",
      "Train_z, Test_z\n",
      "PCA: 0.7946\n",
      "SVD: 0.7896\n",
      "NetG_fixD, Acc at sample 1 0.8537\n"
     ]
    },
    {
     "name": "stderr",
     "output_type": "stream",
     "text": [
      "extracting all features from dataset: 100%|██████████████████████████████████████████████| 2/2 [00:04<00:00,  2.16s/it]\n",
      "extracting all features from dataset: 100%|██████████████████████████████████████████████| 1/1 [00:01<00:00,  1.54s/it]\n"
     ]
    },
    {
     "name": "stdout",
     "output_type": "stream",
     "text": [
      "----------------------------\n",
      "Train_z, Test_z\n",
      "PCA: 0.7957\n",
      "SVD: 0.7897000000000001\n",
      "NetG_fixD, Acc at sample 2 0.8536\n"
     ]
    },
    {
     "name": "stderr",
     "output_type": "stream",
     "text": [
      "extracting all features from dataset: 100%|██████████████████████████████████████████████| 2/2 [00:04<00:00,  2.15s/it]\n",
      "extracting all features from dataset: 100%|██████████████████████████████████████████████| 1/1 [00:01<00:00,  1.52s/it]\n"
     ]
    },
    {
     "name": "stdout",
     "output_type": "stream",
     "text": [
      "----------------------------\n",
      "Train_z, Test_z\n",
      "PCA: 0.7943\n",
      "SVD: 0.7883\n",
      "NetG_fixD, Acc at sample 3 0.854\n"
     ]
    },
    {
     "name": "stderr",
     "output_type": "stream",
     "text": [
      "extracting all features from dataset: 100%|██████████████████████████████████████████████| 2/2 [00:04<00:00,  2.14s/it]\n",
      "extracting all features from dataset: 100%|██████████████████████████████████████████████| 1/1 [00:01<00:00,  1.53s/it]\n"
     ]
    },
    {
     "name": "stdout",
     "output_type": "stream",
     "text": [
      "----------------------------\n",
      "Train_z, Test_z\n",
      "PCA: 0.7956\n",
      "SVD: 0.7879\n",
      "NetG_fixD, Acc at sample 4 0.8544\n"
     ]
    },
    {
     "name": "stderr",
     "output_type": "stream",
     "text": [
      "extracting all features from dataset: 100%|██████████████████████████████████████████████| 2/2 [00:04<00:00,  2.16s/it]\n",
      "extracting all features from dataset: 100%|██████████████████████████████████████████████| 1/1 [00:01<00:00,  1.54s/it]\n"
     ]
    },
    {
     "name": "stdout",
     "output_type": "stream",
     "text": [
      "----------------------------\n",
      "Train_z, Test_z\n",
      "PCA: 0.7951\n",
      "SVD: 0.788\n",
      "NetG_fixD, Acc at sample 5 0.8537\n"
     ]
    },
    {
     "name": "stderr",
     "output_type": "stream",
     "text": [
      "extracting all features from dataset: 100%|██████████████████████████████████████████████| 2/2 [00:04<00:00,  2.15s/it]\n",
      "extracting all features from dataset: 100%|██████████████████████████████████████████████| 1/1 [00:01<00:00,  1.55s/it]\n"
     ]
    },
    {
     "name": "stdout",
     "output_type": "stream",
     "text": [
      "----------------------------\n",
      "Train_z, Test_z\n",
      "PCA: 0.7963\n",
      "SVD: 0.7901\n",
      "NetG_fixD, Acc at sample 6 0.8541\n"
     ]
    },
    {
     "name": "stderr",
     "output_type": "stream",
     "text": [
      "extracting all features from dataset: 100%|██████████████████████████████████████████████| 2/2 [00:04<00:00,  2.07s/it]\n",
      "extracting all features from dataset: 100%|██████████████████████████████████████████████| 1/1 [00:01<00:00,  1.54s/it]\n"
     ]
    },
    {
     "name": "stdout",
     "output_type": "stream",
     "text": [
      "----------------------------\n",
      "Train_z, Test_z\n",
      "PCA: 0.7955\n",
      "SVD: 0.789\n",
      "NetG_fixD, Acc at sample 7 0.8545\n"
     ]
    },
    {
     "name": "stderr",
     "output_type": "stream",
     "text": [
      "extracting all features from dataset: 100%|██████████████████████████████████████████████| 2/2 [00:04<00:00,  2.12s/it]\n",
      "extracting all features from dataset: 100%|██████████████████████████████████████████████| 1/1 [00:01<00:00,  1.55s/it]\n"
     ]
    },
    {
     "name": "stdout",
     "output_type": "stream",
     "text": [
      "----------------------------\n",
      "Train_z, Test_z\n",
      "PCA: 0.7953\n",
      "SVD: 0.7893\n",
      "NetG_fixD, Acc at sample 8 0.8544\n"
     ]
    },
    {
     "name": "stderr",
     "output_type": "stream",
     "text": [
      "extracting all features from dataset: 100%|██████████████████████████████████████████████| 2/2 [00:04<00:00,  2.07s/it]\n",
      "extracting all features from dataset: 100%|██████████████████████████████████████████████| 1/1 [00:01<00:00,  1.55s/it]\n"
     ]
    },
    {
     "name": "stdout",
     "output_type": "stream",
     "text": [
      "----------------------------\n",
      "Train_z, Test_z\n",
      "PCA: 0.7963\n",
      "SVD: 0.7895\n",
      "NetG_fixD, Acc at sample 9 0.8547\n"
     ]
    },
    {
     "name": "stderr",
     "output_type": "stream",
     "text": [
      "extracting all features from dataset: 100%|██████████████████████████████████████████████| 2/2 [00:04<00:00,  2.14s/it]\n",
      "extracting all features from dataset: 100%|██████████████████████████████████████████████| 1/1 [00:01<00:00,  1.54s/it]\n"
     ]
    },
    {
     "name": "stdout",
     "output_type": "stream",
     "text": [
      "----------------------------\n",
      "Train_z, Test_z\n",
      "PCA: 0.7952\n",
      "SVD: 0.7901\n",
      "NetG_fixD, Acc at sample 10 0.854\n"
     ]
    },
    {
     "name": "stderr",
     "output_type": "stream",
     "text": [
      "extracting all features from dataset: 100%|██████████████████████████████████████████████| 2/2 [00:04<00:00,  2.11s/it]\n",
      "extracting all features from dataset: 100%|██████████████████████████████████████████████| 1/1 [00:01<00:00,  1.52s/it]\n"
     ]
    },
    {
     "name": "stdout",
     "output_type": "stream",
     "text": [
      "----------------------------\n",
      "Train_z, Test_z\n",
      "PCA: 0.7951\n",
      "SVD: 0.7893\n",
      "NetG_fixD, Acc at sample 11 0.8526\n"
     ]
    },
    {
     "name": "stderr",
     "output_type": "stream",
     "text": [
      "extracting all features from dataset: 100%|██████████████████████████████████████████████| 2/2 [00:04<00:00,  2.10s/it]\n",
      "extracting all features from dataset: 100%|██████████████████████████████████████████████| 1/1 [00:01<00:00,  1.52s/it]\n"
     ]
    },
    {
     "name": "stdout",
     "output_type": "stream",
     "text": [
      "----------------------------\n",
      "Train_z, Test_z\n",
      "PCA: 0.7941\n",
      "SVD: 0.7891\n",
      "NetG_fixD, Acc at sample 12 0.8542\n"
     ]
    },
    {
     "name": "stderr",
     "output_type": "stream",
     "text": [
      "extracting all features from dataset: 100%|██████████████████████████████████████████████| 2/2 [00:04<00:00,  2.02s/it]\n",
      "extracting all features from dataset: 100%|██████████████████████████████████████████████| 1/1 [00:01<00:00,  1.55s/it]\n"
     ]
    },
    {
     "name": "stdout",
     "output_type": "stream",
     "text": [
      "----------------------------\n",
      "Train_z, Test_z\n",
      "PCA: 0.7968999999999999\n",
      "SVD: 0.7888999999999999\n",
      "NetG_fixD, Acc at sample 13 0.8549\n"
     ]
    },
    {
     "name": "stderr",
     "output_type": "stream",
     "text": [
      "extracting all features from dataset: 100%|██████████████████████████████████████████████| 2/2 [00:04<00:00,  2.18s/it]\n",
      "extracting all features from dataset: 100%|██████████████████████████████████████████████| 1/1 [00:01<00:00,  1.53s/it]\n"
     ]
    },
    {
     "name": "stdout",
     "output_type": "stream",
     "text": [
      "----------------------------\n",
      "Train_z, Test_z\n",
      "PCA: 0.7964\n",
      "SVD: 0.7904\n",
      "NetG_fixD, Acc at sample 14 0.8546\n"
     ]
    },
    {
     "name": "stderr",
     "output_type": "stream",
     "text": [
      "extracting all features from dataset: 100%|██████████████████████████████████████████████| 2/2 [00:04<00:00,  2.14s/it]\n",
      "extracting all features from dataset: 100%|██████████████████████████████████████████████| 1/1 [00:01<00:00,  1.55s/it]\n"
     ]
    },
    {
     "name": "stdout",
     "output_type": "stream",
     "text": [
      "----------------------------\n",
      "Train_z, Test_z\n",
      "PCA: 0.7946\n",
      "SVD: 0.7888\n",
      "NetG_fixD, Acc at sample 15 0.8546\n"
     ]
    },
    {
     "name": "stderr",
     "output_type": "stream",
     "text": [
      "extracting all features from dataset: 100%|██████████████████████████████████████████████| 2/2 [00:04<00:00,  2.15s/it]\n",
      "extracting all features from dataset: 100%|██████████████████████████████████████████████| 1/1 [00:01<00:00,  1.55s/it]\n"
     ]
    },
    {
     "name": "stdout",
     "output_type": "stream",
     "text": [
      "----------------------------\n",
      "Train_z, Test_z\n",
      "PCA: 0.7962\n",
      "SVD: 0.7895\n",
      "NetG_fixD, Acc at sample 16 0.854\n"
     ]
    },
    {
     "name": "stderr",
     "output_type": "stream",
     "text": [
      "extracting all features from dataset: 100%|██████████████████████████████████████████████| 2/2 [00:04<00:00,  2.07s/it]\n",
      "extracting all features from dataset: 100%|██████████████████████████████████████████████| 1/1 [00:01<00:00,  1.55s/it]\n"
     ]
    },
    {
     "name": "stdout",
     "output_type": "stream",
     "text": [
      "----------------------------\n",
      "Train_z, Test_z\n",
      "PCA: 0.7943\n",
      "SVD: 0.7897000000000001\n",
      "NetG_fixD, Acc at sample 17 0.8545\n"
     ]
    },
    {
     "name": "stderr",
     "output_type": "stream",
     "text": [
      "extracting all features from dataset: 100%|██████████████████████████████████████████████| 2/2 [00:04<00:00,  2.12s/it]\n",
      "extracting all features from dataset: 100%|██████████████████████████████████████████████| 1/1 [00:01<00:00,  1.57s/it]\n"
     ]
    },
    {
     "name": "stdout",
     "output_type": "stream",
     "text": [
      "----------------------------\n",
      "Train_z, Test_z\n",
      "PCA: 0.7964\n",
      "SVD: 0.7886\n",
      "NetG_fixD, Acc at sample 18 0.855\n"
     ]
    },
    {
     "name": "stderr",
     "output_type": "stream",
     "text": [
      "extracting all features from dataset: 100%|██████████████████████████████████████████████| 2/2 [00:04<00:00,  2.05s/it]\n",
      "extracting all features from dataset: 100%|██████████████████████████████████████████████| 1/1 [00:01<00:00,  1.55s/it]\n"
     ]
    },
    {
     "name": "stdout",
     "output_type": "stream",
     "text": [
      "----------------------------\n",
      "Train_z, Test_z\n",
      "PCA: 0.796\n",
      "SVD: 0.7892\n",
      "NetG_fixD, Acc at sample 19 0.8534\n"
     ]
    },
    {
     "name": "stderr",
     "output_type": "stream",
     "text": [
      "extracting all features from dataset: 100%|██████████████████████████████████████████████| 2/2 [00:04<00:00,  2.15s/it]\n",
      "extracting all features from dataset: 100%|██████████████████████████████████████████████| 1/1 [00:01<00:00,  1.55s/it]\n"
     ]
    },
    {
     "name": "stdout",
     "output_type": "stream",
     "text": [
      "----------------------------\n",
      "Train_z, Test_z\n",
      "PCA: 0.7957\n",
      "SVD: 0.7898000000000001\n",
      "NetG_fixD, Acc at sample 20 0.8553\n",
      "0.8553 0.8526 0.8542099999999999 3.6789999999999016e-07\n"
     ]
    }
   ],
   "source": [
    "# sample 20 times of NetG at final radius, NetD is fixed, length 0.1,0.2,0.5,1,2,4,6,8,10,15,20\n",
    "from sklearn.neighbors import KNeighborsClassifier \n",
    "Acc_results_G_sample = []\n",
    "for _ in range(sample_num):\n",
    "    #acc at first\n",
    "    net_noise = get_noise(DATASET, device, LABEL)\n",
    "    fed_state_dict = get_netG(netD,netV,net_noise,r_list[1])\n",
    "    netG.load_state_dict(fed_state_dict)\n",
    "    \n",
    "    train_X, train_Z, train_X_bar, train_Z_bar, train_labels = extract_features2(trainloader, netG, netD)\n",
    "\n",
    "    test_X, test_Z, test_X_bar, test_Z_bar, test_labels = extract_features2(testloader, netG, netD)\n",
    "\n",
    "    print(\"----------------------------\")\n",
    "    print(\"Train_z, Test_z\")\n",
    "    nearsub(n_comp, train_Z, train_labels, test_Z, test_labels)\n",
    "\n",
    "    knn= KNeighborsClassifier(n_neighbors=10) \n",
    "\n",
    "    knn.fit(train_Z,train_labels) \n",
    "    knn.score(test_Z_bar,test_labels) \n",
    "\n",
    "    y_predict = knn.predict(test_Z_bar) \n",
    "\n",
    "    count =0\n",
    "    for k in range(10000):\n",
    "        if y_predict[k] == test_labels[k]:\n",
    "            count +=1\n",
    "    print('NetG_fixD, Acc at sample',_+1,count/10000)\n",
    "    Acc_results_G_sample.append(count/10000)\n",
    "    \n",
    "print(max(Acc_results_G_sample),min(Acc_results_G_sample),np.mean(Acc_results_G_sample),np.var(Acc_results_G_sample))"
   ]
  },
  {
   "cell_type": "code",
   "execution_count": 13,
   "id": "05bfe135",
   "metadata": {},
   "outputs": [
    {
     "name": "stderr",
     "output_type": "stream",
     "text": [
      "extracting all features from dataset: 100%|██████████████████████████████████████████████| 2/2 [00:04<00:00,  2.17s/it]\n",
      "extracting all features from dataset: 100%|██████████████████████████████████████████████| 1/1 [00:01<00:00,  1.57s/it]\n"
     ]
    },
    {
     "name": "stdout",
     "output_type": "stream",
     "text": [
      "----------------------------\n",
      "Train_z, Test_z\n",
      "PCA: 0.7951\n",
      "SVD: 0.7891\n",
      "NetG_fixD, Acc at sample 1 0.8537\n"
     ]
    },
    {
     "name": "stderr",
     "output_type": "stream",
     "text": [
      "extracting all features from dataset: 100%|██████████████████████████████████████████████| 2/2 [00:04<00:00,  2.16s/it]\n",
      "extracting all features from dataset: 100%|██████████████████████████████████████████████| 1/1 [00:01<00:00,  1.54s/it]\n"
     ]
    },
    {
     "name": "stdout",
     "output_type": "stream",
     "text": [
      "----------------------------\n",
      "Train_z, Test_z\n",
      "PCA: 0.7952\n",
      "SVD: 0.7894\n",
      "NetG_fixD, Acc at sample 2 0.8537\n"
     ]
    },
    {
     "name": "stderr",
     "output_type": "stream",
     "text": [
      "extracting all features from dataset: 100%|██████████████████████████████████████████████| 2/2 [00:04<00:00,  2.13s/it]\n",
      "extracting all features from dataset: 100%|██████████████████████████████████████████████| 1/1 [00:01<00:00,  1.58s/it]\n"
     ]
    },
    {
     "name": "stdout",
     "output_type": "stream",
     "text": [
      "----------------------------\n",
      "Train_z, Test_z\n",
      "PCA: 0.7965\n",
      "SVD: 0.789\n",
      "NetG_fixD, Acc at sample 3 0.8555\n"
     ]
    },
    {
     "name": "stderr",
     "output_type": "stream",
     "text": [
      "extracting all features from dataset: 100%|██████████████████████████████████████████████| 2/2 [00:04<00:00,  2.17s/it]\n",
      "extracting all features from dataset: 100%|██████████████████████████████████████████████| 1/1 [00:01<00:00,  1.54s/it]\n"
     ]
    },
    {
     "name": "stdout",
     "output_type": "stream",
     "text": [
      "----------------------------\n",
      "Train_z, Test_z\n",
      "PCA: 0.7945\n",
      "SVD: 0.7888999999999999\n",
      "NetG_fixD, Acc at sample 4 0.8527\n"
     ]
    },
    {
     "name": "stderr",
     "output_type": "stream",
     "text": [
      "extracting all features from dataset: 100%|██████████████████████████████████████████████| 2/2 [00:04<00:00,  2.15s/it]\n",
      "extracting all features from dataset: 100%|██████████████████████████████████████████████| 1/1 [00:01<00:00,  1.54s/it]\n"
     ]
    },
    {
     "name": "stdout",
     "output_type": "stream",
     "text": [
      "----------------------------\n",
      "Train_z, Test_z\n",
      "PCA: 0.7933\n",
      "SVD: 0.7896\n",
      "NetG_fixD, Acc at sample 5 0.8526\n"
     ]
    },
    {
     "name": "stderr",
     "output_type": "stream",
     "text": [
      "extracting all features from dataset: 100%|██████████████████████████████████████████████| 2/2 [00:04<00:00,  2.12s/it]\n",
      "extracting all features from dataset: 100%|██████████████████████████████████████████████| 1/1 [00:01<00:00,  1.55s/it]\n"
     ]
    },
    {
     "name": "stdout",
     "output_type": "stream",
     "text": [
      "----------------------------\n",
      "Train_z, Test_z\n",
      "PCA: 0.7942\n",
      "SVD: 0.7892\n",
      "NetG_fixD, Acc at sample 6 0.854\n"
     ]
    },
    {
     "name": "stderr",
     "output_type": "stream",
     "text": [
      "extracting all features from dataset: 100%|██████████████████████████████████████████████| 2/2 [00:04<00:00,  2.16s/it]\n",
      "extracting all features from dataset: 100%|██████████████████████████████████████████████| 1/1 [00:01<00:00,  1.58s/it]\n"
     ]
    },
    {
     "name": "stdout",
     "output_type": "stream",
     "text": [
      "----------------------------\n",
      "Train_z, Test_z\n",
      "PCA: 0.7942\n",
      "SVD: 0.7895\n",
      "NetG_fixD, Acc at sample 7 0.8529\n"
     ]
    },
    {
     "name": "stderr",
     "output_type": "stream",
     "text": [
      "extracting all features from dataset: 100%|██████████████████████████████████████████████| 2/2 [00:04<00:00,  2.14s/it]\n",
      "extracting all features from dataset: 100%|██████████████████████████████████████████████| 1/1 [00:01<00:00,  1.51s/it]\n"
     ]
    },
    {
     "name": "stdout",
     "output_type": "stream",
     "text": [
      "----------------------------\n",
      "Train_z, Test_z\n",
      "PCA: 0.7943\n",
      "SVD: 0.7892\n",
      "NetG_fixD, Acc at sample 8 0.8519\n"
     ]
    },
    {
     "name": "stderr",
     "output_type": "stream",
     "text": [
      "extracting all features from dataset: 100%|██████████████████████████████████████████████| 2/2 [00:04<00:00,  2.17s/it]\n",
      "extracting all features from dataset: 100%|██████████████████████████████████████████████| 1/1 [00:01<00:00,  1.53s/it]\n"
     ]
    },
    {
     "name": "stdout",
     "output_type": "stream",
     "text": [
      "----------------------------\n",
      "Train_z, Test_z\n",
      "PCA: 0.7954\n",
      "SVD: 0.7884\n",
      "NetG_fixD, Acc at sample 9 0.8533\n"
     ]
    },
    {
     "name": "stderr",
     "output_type": "stream",
     "text": [
      "extracting all features from dataset: 100%|██████████████████████████████████████████████| 2/2 [00:04<00:00,  2.07s/it]\n",
      "extracting all features from dataset: 100%|██████████████████████████████████████████████| 1/1 [00:01<00:00,  1.52s/it]\n"
     ]
    },
    {
     "name": "stdout",
     "output_type": "stream",
     "text": [
      "----------------------------\n",
      "Train_z, Test_z\n",
      "PCA: 0.7925\n",
      "SVD: 0.7899\n",
      "NetG_fixD, Acc at sample 10 0.8537\n"
     ]
    },
    {
     "name": "stderr",
     "output_type": "stream",
     "text": [
      "extracting all features from dataset: 100%|██████████████████████████████████████████████| 2/2 [00:04<00:00,  2.09s/it]\n",
      "extracting all features from dataset: 100%|██████████████████████████████████████████████| 1/1 [00:01<00:00,  1.53s/it]\n"
     ]
    },
    {
     "name": "stdout",
     "output_type": "stream",
     "text": [
      "----------------------------\n",
      "Train_z, Test_z\n",
      "PCA: 0.7945\n",
      "SVD: 0.7893\n",
      "NetG_fixD, Acc at sample 11 0.8534\n"
     ]
    },
    {
     "name": "stderr",
     "output_type": "stream",
     "text": [
      "extracting all features from dataset: 100%|██████████████████████████████████████████████| 2/2 [00:04<00:00,  2.16s/it]\n",
      "extracting all features from dataset: 100%|██████████████████████████████████████████████| 1/1 [00:01<00:00,  1.55s/it]\n"
     ]
    },
    {
     "name": "stdout",
     "output_type": "stream",
     "text": [
      "----------------------------\n",
      "Train_z, Test_z\n",
      "PCA: 0.7953\n",
      "SVD: 0.7887\n",
      "NetG_fixD, Acc at sample 12 0.8533\n"
     ]
    },
    {
     "name": "stderr",
     "output_type": "stream",
     "text": [
      "extracting all features from dataset: 100%|██████████████████████████████████████████████| 2/2 [00:04<00:00,  2.12s/it]\n",
      "extracting all features from dataset: 100%|██████████████████████████████████████████████| 1/1 [00:01<00:00,  1.53s/it]\n"
     ]
    },
    {
     "name": "stdout",
     "output_type": "stream",
     "text": [
      "----------------------------\n",
      "Train_z, Test_z\n",
      "PCA: 0.7941\n",
      "SVD: 0.7865\n",
      "NetG_fixD, Acc at sample 13 0.8537\n"
     ]
    },
    {
     "name": "stderr",
     "output_type": "stream",
     "text": [
      "extracting all features from dataset: 100%|██████████████████████████████████████████████| 2/2 [00:04<00:00,  2.12s/it]\n",
      "extracting all features from dataset: 100%|██████████████████████████████████████████████| 1/1 [00:01<00:00,  1.56s/it]\n"
     ]
    },
    {
     "name": "stdout",
     "output_type": "stream",
     "text": [
      "----------------------------\n",
      "Train_z, Test_z\n",
      "PCA: 0.7934\n",
      "SVD: 0.7898000000000001\n",
      "NetG_fixD, Acc at sample 14 0.853\n"
     ]
    },
    {
     "name": "stderr",
     "output_type": "stream",
     "text": [
      "extracting all features from dataset: 100%|██████████████████████████████████████████████| 2/2 [00:04<00:00,  2.09s/it]\n",
      "extracting all features from dataset: 100%|██████████████████████████████████████████████| 1/1 [00:01<00:00,  1.55s/it]\n"
     ]
    },
    {
     "name": "stdout",
     "output_type": "stream",
     "text": [
      "----------------------------\n",
      "Train_z, Test_z\n",
      "PCA: 0.7944\n",
      "SVD: 0.788\n",
      "NetG_fixD, Acc at sample 15 0.8537\n"
     ]
    },
    {
     "name": "stderr",
     "output_type": "stream",
     "text": [
      "extracting all features from dataset: 100%|██████████████████████████████████████████████| 2/2 [00:04<00:00,  2.11s/it]\n",
      "extracting all features from dataset: 100%|██████████████████████████████████████████████| 1/1 [00:01<00:00,  1.54s/it]\n"
     ]
    },
    {
     "name": "stdout",
     "output_type": "stream",
     "text": [
      "----------------------------\n",
      "Train_z, Test_z\n",
      "PCA: 0.7921\n",
      "SVD: 0.7896\n",
      "NetG_fixD, Acc at sample 16 0.8548\n"
     ]
    },
    {
     "name": "stderr",
     "output_type": "stream",
     "text": [
      "extracting all features from dataset: 100%|██████████████████████████████████████████████| 2/2 [00:04<00:00,  2.10s/it]\n",
      "extracting all features from dataset: 100%|██████████████████████████████████████████████| 1/1 [00:01<00:00,  1.56s/it]\n"
     ]
    },
    {
     "name": "stdout",
     "output_type": "stream",
     "text": [
      "----------------------------\n",
      "Train_z, Test_z\n",
      "PCA: 0.7941\n",
      "SVD: 0.7885\n",
      "NetG_fixD, Acc at sample 17 0.8541\n"
     ]
    },
    {
     "name": "stderr",
     "output_type": "stream",
     "text": [
      "extracting all features from dataset: 100%|██████████████████████████████████████████████| 2/2 [00:04<00:00,  2.17s/it]\n",
      "extracting all features from dataset: 100%|██████████████████████████████████████████████| 1/1 [00:01<00:00,  1.55s/it]\n"
     ]
    },
    {
     "name": "stdout",
     "output_type": "stream",
     "text": [
      "----------------------------\n",
      "Train_z, Test_z\n",
      "PCA: 0.7948999999999999\n",
      "SVD: 0.7888\n",
      "NetG_fixD, Acc at sample 18 0.8538\n"
     ]
    },
    {
     "name": "stderr",
     "output_type": "stream",
     "text": [
      "extracting all features from dataset: 100%|██████████████████████████████████████████████| 2/2 [00:04<00:00,  2.19s/it]\n",
      "extracting all features from dataset: 100%|██████████████████████████████████████████████| 1/1 [00:01<00:00,  1.54s/it]\n"
     ]
    },
    {
     "name": "stdout",
     "output_type": "stream",
     "text": [
      "----------------------------\n",
      "Train_z, Test_z\n",
      "PCA: 0.7948\n",
      "SVD: 0.7886\n",
      "NetG_fixD, Acc at sample 19 0.8524\n"
     ]
    },
    {
     "name": "stderr",
     "output_type": "stream",
     "text": [
      "extracting all features from dataset: 100%|██████████████████████████████████████████████| 2/2 [00:04<00:00,  2.13s/it]\n",
      "extracting all features from dataset: 100%|██████████████████████████████████████████████| 1/1 [00:01<00:00,  1.54s/it]\n"
     ]
    },
    {
     "name": "stdout",
     "output_type": "stream",
     "text": [
      "----------------------------\n",
      "Train_z, Test_z\n",
      "PCA: 0.794\n",
      "SVD: 0.7888999999999999\n",
      "NetG_fixD, Acc at sample 20 0.8529\n",
      "0.8555 0.8519 0.853455 6.41475000000004e-07\n"
     ]
    }
   ],
   "source": [
    "# sample 20 times of NetG at final radius, NetD is fixed\n",
    "from sklearn.neighbors import KNeighborsClassifier \n",
    "Acc_results_G_sample2 = []\n",
    "\n",
    "for _ in range(sample_num):\n",
    "    #acc at first\n",
    "    net_noise = get_noise(DATASET, device, LABEL)\n",
    "    fed_state_dict = get_netG(netD,netV,net_noise,r_list[2])\n",
    "    netG.load_state_dict(fed_state_dict)\n",
    "    \n",
    "    train_X, train_Z, train_X_bar, train_Z_bar, train_labels = extract_features2(trainloader, netG, netD)\n",
    "\n",
    "    test_X, test_Z, test_X_bar, test_Z_bar, test_labels = extract_features2(testloader, netG, netD)\n",
    "\n",
    "    print(\"----------------------------\")\n",
    "    print(\"Train_z, Test_z\")\n",
    "    nearsub(n_comp, train_Z, train_labels, test_Z, test_labels)\n",
    "\n",
    "    knn= KNeighborsClassifier(n_neighbors=10) \n",
    "\n",
    "    knn.fit(train_Z,train_labels) \n",
    "    knn.score(test_Z_bar,test_labels) \n",
    "\n",
    "    y_predict = knn.predict(test_Z_bar) \n",
    "\n",
    "    count =0\n",
    "    for k in range(10000):\n",
    "        if y_predict[k] == test_labels[k]:\n",
    "            count +=1\n",
    "    print('NetG_fixD, Acc at sample',_+1,count/10000)\n",
    "    Acc_results_G_sample2.append(count/10000)\n",
    "    \n",
    "print(max(Acc_results_G_sample2),min(Acc_results_G_sample2),np.mean(Acc_results_G_sample2),np.var(Acc_results_G_sample2))"
   ]
  },
  {
   "cell_type": "code",
   "execution_count": 14,
   "id": "1daf6e7b",
   "metadata": {},
   "outputs": [
    {
     "name": "stderr",
     "output_type": "stream",
     "text": [
      "extracting all features from dataset: 100%|██████████████████████████████████████████████| 2/2 [00:04<00:00,  2.06s/it]\n",
      "extracting all features from dataset: 100%|██████████████████████████████████████████████| 1/1 [00:01<00:00,  1.52s/it]\n"
     ]
    },
    {
     "name": "stdout",
     "output_type": "stream",
     "text": [
      "----------------------------\n",
      "Train_z, Test_z\n",
      "PCA: 0.7952\n",
      "SVD: 0.7855\n",
      "NetG_fixD, Acc at sample 1 0.8512\n"
     ]
    },
    {
     "name": "stderr",
     "output_type": "stream",
     "text": [
      "extracting all features from dataset: 100%|██████████████████████████████████████████████| 2/2 [00:04<00:00,  2.16s/it]\n",
      "extracting all features from dataset: 100%|██████████████████████████████████████████████| 1/1 [00:01<00:00,  1.56s/it]\n"
     ]
    },
    {
     "name": "stdout",
     "output_type": "stream",
     "text": [
      "----------------------------\n",
      "Train_z, Test_z\n",
      "PCA: 0.7962\n",
      "SVD: 0.7917\n",
      "NetG_fixD, Acc at sample 2 0.8539\n"
     ]
    },
    {
     "name": "stderr",
     "output_type": "stream",
     "text": [
      "extracting all features from dataset: 100%|██████████████████████████████████████████████| 2/2 [00:04<00:00,  2.16s/it]\n",
      "extracting all features from dataset: 100%|██████████████████████████████████████████████| 1/1 [00:01<00:00,  1.53s/it]\n"
     ]
    },
    {
     "name": "stdout",
     "output_type": "stream",
     "text": [
      "----------------------------\n",
      "Train_z, Test_z\n",
      "PCA: 0.7946\n",
      "SVD: 0.7906\n",
      "NetG_fixD, Acc at sample 3 0.8505\n"
     ]
    },
    {
     "name": "stderr",
     "output_type": "stream",
     "text": [
      "extracting all features from dataset: 100%|██████████████████████████████████████████████| 2/2 [00:04<00:00,  2.07s/it]\n",
      "extracting all features from dataset: 100%|██████████████████████████████████████████████| 1/1 [00:01<00:00,  1.55s/it]\n"
     ]
    },
    {
     "name": "stdout",
     "output_type": "stream",
     "text": [
      "----------------------------\n",
      "Train_z, Test_z\n",
      "PCA: 0.794\n",
      "SVD: 0.7885\n",
      "NetG_fixD, Acc at sample 4 0.8528\n"
     ]
    },
    {
     "name": "stderr",
     "output_type": "stream",
     "text": [
      "extracting all features from dataset: 100%|██████████████████████████████████████████████| 2/2 [00:04<00:00,  2.14s/it]\n",
      "extracting all features from dataset: 100%|██████████████████████████████████████████████| 1/1 [00:01<00:00,  1.55s/it]\n"
     ]
    },
    {
     "name": "stdout",
     "output_type": "stream",
     "text": [
      "----------------------------\n",
      "Train_z, Test_z\n",
      "PCA: 0.7927\n",
      "SVD: 0.7865\n",
      "NetG_fixD, Acc at sample 5 0.8513\n"
     ]
    },
    {
     "name": "stderr",
     "output_type": "stream",
     "text": [
      "extracting all features from dataset: 100%|██████████████████████████████████████████████| 2/2 [00:04<00:00,  2.09s/it]\n",
      "extracting all features from dataset: 100%|██████████████████████████████████████████████| 1/1 [00:01<00:00,  1.54s/it]\n"
     ]
    },
    {
     "name": "stdout",
     "output_type": "stream",
     "text": [
      "----------------------------\n",
      "Train_z, Test_z\n",
      "PCA: 0.7936\n",
      "SVD: 0.7875\n",
      "NetG_fixD, Acc at sample 6 0.8539\n"
     ]
    },
    {
     "name": "stderr",
     "output_type": "stream",
     "text": [
      "extracting all features from dataset: 100%|██████████████████████████████████████████████| 2/2 [00:04<00:00,  2.12s/it]\n",
      "extracting all features from dataset: 100%|██████████████████████████████████████████████| 1/1 [00:01<00:00,  1.53s/it]\n"
     ]
    },
    {
     "name": "stdout",
     "output_type": "stream",
     "text": [
      "----------------------------\n",
      "Train_z, Test_z\n",
      "PCA: 0.7962\n",
      "SVD: 0.7903\n",
      "NetG_fixD, Acc at sample 7 0.8508\n"
     ]
    },
    {
     "name": "stderr",
     "output_type": "stream",
     "text": [
      "extracting all features from dataset: 100%|██████████████████████████████████████████████| 2/2 [00:04<00:00,  2.09s/it]\n",
      "extracting all features from dataset: 100%|██████████████████████████████████████████████| 1/1 [00:01<00:00,  1.54s/it]\n"
     ]
    },
    {
     "name": "stdout",
     "output_type": "stream",
     "text": [
      "----------------------------\n",
      "Train_z, Test_z\n",
      "PCA: 0.7966\n",
      "SVD: 0.7932\n",
      "NetG_fixD, Acc at sample 8 0.8547\n"
     ]
    },
    {
     "name": "stderr",
     "output_type": "stream",
     "text": [
      "extracting all features from dataset: 100%|██████████████████████████████████████████████| 2/2 [00:04<00:00,  2.22s/it]\n",
      "extracting all features from dataset: 100%|██████████████████████████████████████████████| 1/1 [00:01<00:00,  1.57s/it]\n"
     ]
    },
    {
     "name": "stdout",
     "output_type": "stream",
     "text": [
      "----------------------------\n",
      "Train_z, Test_z\n",
      "PCA: 0.7971\n",
      "SVD: 0.7905\n",
      "NetG_fixD, Acc at sample 9 0.8538\n"
     ]
    },
    {
     "name": "stderr",
     "output_type": "stream",
     "text": [
      "extracting all features from dataset: 100%|██████████████████████████████████████████████| 2/2 [00:04<00:00,  2.13s/it]\n",
      "extracting all features from dataset: 100%|██████████████████████████████████████████████| 1/1 [00:01<00:00,  1.52s/it]\n"
     ]
    },
    {
     "name": "stdout",
     "output_type": "stream",
     "text": [
      "----------------------------\n",
      "Train_z, Test_z\n",
      "PCA: 0.7935\n",
      "SVD: 0.7899\n",
      "NetG_fixD, Acc at sample 10 0.8517\n"
     ]
    },
    {
     "name": "stderr",
     "output_type": "stream",
     "text": [
      "extracting all features from dataset: 100%|██████████████████████████████████████████████| 2/2 [00:04<00:00,  2.05s/it]\n",
      "extracting all features from dataset: 100%|██████████████████████████████████████████████| 1/1 [00:01<00:00,  1.56s/it]\n"
     ]
    },
    {
     "name": "stdout",
     "output_type": "stream",
     "text": [
      "----------------------------\n",
      "Train_z, Test_z\n",
      "PCA: 0.7921\n",
      "SVD: 0.7848999999999999\n",
      "NetG_fixD, Acc at sample 11 0.8528\n"
     ]
    },
    {
     "name": "stderr",
     "output_type": "stream",
     "text": [
      "extracting all features from dataset: 100%|██████████████████████████████████████████████| 2/2 [00:04<00:00,  2.09s/it]\n",
      "extracting all features from dataset: 100%|██████████████████████████████████████████████| 1/1 [00:01<00:00,  1.58s/it]\n"
     ]
    },
    {
     "name": "stdout",
     "output_type": "stream",
     "text": [
      "----------------------------\n",
      "Train_z, Test_z\n",
      "PCA: 0.7932\n",
      "SVD: 0.7892\n",
      "NetG_fixD, Acc at sample 12 0.8521\n"
     ]
    },
    {
     "name": "stderr",
     "output_type": "stream",
     "text": [
      "extracting all features from dataset: 100%|██████████████████████████████████████████████| 2/2 [00:04<00:00,  2.18s/it]\n",
      "extracting all features from dataset: 100%|██████████████████████████████████████████████| 1/1 [00:01<00:00,  1.55s/it]\n"
     ]
    },
    {
     "name": "stdout",
     "output_type": "stream",
     "text": [
      "----------------------------\n",
      "Train_z, Test_z\n",
      "PCA: 0.794\n",
      "SVD: 0.7911\n",
      "NetG_fixD, Acc at sample 13 0.8506\n"
     ]
    },
    {
     "name": "stderr",
     "output_type": "stream",
     "text": [
      "extracting all features from dataset: 100%|██████████████████████████████████████████████| 2/2 [00:04<00:00,  2.16s/it]\n",
      "extracting all features from dataset: 100%|██████████████████████████████████████████████| 1/1 [00:01<00:00,  1.56s/it]\n"
     ]
    },
    {
     "name": "stdout",
     "output_type": "stream",
     "text": [
      "----------------------------\n",
      "Train_z, Test_z\n",
      "PCA: 0.7914\n",
      "SVD: 0.7875\n",
      "NetG_fixD, Acc at sample 14 0.851\n"
     ]
    },
    {
     "name": "stderr",
     "output_type": "stream",
     "text": [
      "extracting all features from dataset: 100%|██████████████████████████████████████████████| 2/2 [00:04<00:00,  2.18s/it]\n",
      "extracting all features from dataset: 100%|██████████████████████████████████████████████| 1/1 [00:01<00:00,  1.56s/it]\n"
     ]
    },
    {
     "name": "stdout",
     "output_type": "stream",
     "text": [
      "----------------------------\n",
      "Train_z, Test_z\n",
      "PCA: 0.7942\n",
      "SVD: 0.7891\n",
      "NetG_fixD, Acc at sample 15 0.8509\n"
     ]
    },
    {
     "name": "stderr",
     "output_type": "stream",
     "text": [
      "extracting all features from dataset: 100%|██████████████████████████████████████████████| 2/2 [00:04<00:00,  2.18s/it]\n",
      "extracting all features from dataset: 100%|██████████████████████████████████████████████| 1/1 [00:01<00:00,  1.55s/it]\n"
     ]
    },
    {
     "name": "stdout",
     "output_type": "stream",
     "text": [
      "----------------------------\n",
      "Train_z, Test_z\n",
      "PCA: 0.7957\n",
      "SVD: 0.7938000000000001\n",
      "NetG_fixD, Acc at sample 16 0.8512\n"
     ]
    },
    {
     "name": "stderr",
     "output_type": "stream",
     "text": [
      "extracting all features from dataset: 100%|██████████████████████████████████████████████| 2/2 [00:04<00:00,  2.03s/it]\n",
      "extracting all features from dataset: 100%|██████████████████████████████████████████████| 1/1 [00:01<00:00,  1.56s/it]\n"
     ]
    },
    {
     "name": "stdout",
     "output_type": "stream",
     "text": [
      "----------------------------\n",
      "Train_z, Test_z\n",
      "PCA: 0.796\n",
      "SVD: 0.7914\n",
      "NetG_fixD, Acc at sample 17 0.853\n"
     ]
    },
    {
     "name": "stderr",
     "output_type": "stream",
     "text": [
      "extracting all features from dataset: 100%|██████████████████████████████████████████████| 2/2 [00:04<00:00,  2.11s/it]\n",
      "extracting all features from dataset: 100%|██████████████████████████████████████████████| 1/1 [00:01<00:00,  1.56s/it]\n"
     ]
    },
    {
     "name": "stdout",
     "output_type": "stream",
     "text": [
      "----------------------------\n",
      "Train_z, Test_z\n",
      "PCA: 0.7959\n",
      "SVD: 0.7928999999999999\n",
      "NetG_fixD, Acc at sample 18 0.8498\n"
     ]
    },
    {
     "name": "stderr",
     "output_type": "stream",
     "text": [
      "extracting all features from dataset: 100%|██████████████████████████████████████████████| 2/2 [00:04<00:00,  2.03s/it]\n",
      "extracting all features from dataset: 100%|██████████████████████████████████████████████| 1/1 [00:01<00:00,  1.54s/it]\n"
     ]
    },
    {
     "name": "stdout",
     "output_type": "stream",
     "text": [
      "----------------------------\n",
      "Train_z, Test_z\n",
      "PCA: 0.7918000000000001\n",
      "SVD: 0.7862\n",
      "NetG_fixD, Acc at sample 19 0.8524\n"
     ]
    },
    {
     "name": "stderr",
     "output_type": "stream",
     "text": [
      "extracting all features from dataset: 100%|██████████████████████████████████████████████| 2/2 [00:04<00:00,  2.06s/it]\n",
      "extracting all features from dataset: 100%|██████████████████████████████████████████████| 1/1 [00:01<00:00,  1.54s/it]\n"
     ]
    },
    {
     "name": "stdout",
     "output_type": "stream",
     "text": [
      "----------------------------\n",
      "Train_z, Test_z\n",
      "PCA: 0.79\n",
      "SVD: 0.7884\n",
      "NetG_fixD, Acc at sample 20 0.8517\n",
      "0.8547 0.8498 0.8520049999999999 1.742475000000007e-06\n"
     ]
    }
   ],
   "source": [
    "# sample 50 times of NetG at final radius, NetD is fixed\n",
    "from sklearn.neighbors import KNeighborsClassifier \n",
    "Acc_results_G_sample3 = []\n",
    "\n",
    "for _ in range(sample_num):\n",
    "    #acc at first\n",
    "    net_noise = get_noise(DATASET, device, LABEL)\n",
    "    fed_state_dict = get_netG(netD,netV,net_noise,r_list[3])\n",
    "    netG.load_state_dict(fed_state_dict)\n",
    "    \n",
    "    train_X, train_Z, train_X_bar, train_Z_bar, train_labels = extract_features2(trainloader, netG, netD)\n",
    "\n",
    "    test_X, test_Z, test_X_bar, test_Z_bar, test_labels = extract_features2(testloader, netG, netD)\n",
    "\n",
    "    print(\"----------------------------\")\n",
    "    print(\"Train_z, Test_z\")\n",
    "    nearsub(n_comp, train_Z, train_labels, test_Z, test_labels)\n",
    "\n",
    "    knn= KNeighborsClassifier(n_neighbors=10) \n",
    "\n",
    "    knn.fit(train_Z,train_labels) \n",
    "    knn.score(test_Z_bar,test_labels) \n",
    "\n",
    "    y_predict = knn.predict(test_Z_bar) \n",
    "\n",
    "    count =0\n",
    "    for k in range(10000):\n",
    "        if y_predict[k] == test_labels[k]:\n",
    "            count +=1\n",
    "    print('NetG_fixD, Acc at sample',_+1,count/10000)\n",
    "    Acc_results_G_sample3.append(count/10000)\n",
    "    \n",
    "print(max(Acc_results_G_sample3),min(Acc_results_G_sample3),np.mean(Acc_results_G_sample3),np.var(Acc_results_G_sample3))"
   ]
  },
  {
   "cell_type": "code",
   "execution_count": 15,
   "id": "c66ccac4",
   "metadata": {},
   "outputs": [
    {
     "name": "stderr",
     "output_type": "stream",
     "text": [
      "extracting all features from dataset: 100%|██████████████████████████████████████████████| 2/2 [00:04<00:00,  2.12s/it]\n",
      "extracting all features from dataset: 100%|██████████████████████████████████████████████| 1/1 [00:01<00:00,  1.53s/it]\n"
     ]
    },
    {
     "name": "stdout",
     "output_type": "stream",
     "text": [
      "----------------------------\n",
      "Train_z, Test_z\n",
      "PCA: 0.7986\n",
      "SVD: 0.7923\n",
      "NetG_fixD, Acc at sample 1 0.8502\n"
     ]
    },
    {
     "name": "stderr",
     "output_type": "stream",
     "text": [
      "extracting all features from dataset: 100%|██████████████████████████████████████████████| 2/2 [00:04<00:00,  2.13s/it]\n",
      "extracting all features from dataset: 100%|██████████████████████████████████████████████| 1/1 [00:01<00:00,  1.56s/it]\n"
     ]
    },
    {
     "name": "stdout",
     "output_type": "stream",
     "text": [
      "----------------------------\n",
      "Train_z, Test_z\n",
      "PCA: 0.7969999999999999\n",
      "SVD: 0.792\n",
      "NetG_fixD, Acc at sample 2 0.8488\n"
     ]
    },
    {
     "name": "stderr",
     "output_type": "stream",
     "text": [
      "extracting all features from dataset: 100%|██████████████████████████████████████████████| 2/2 [00:04<00:00,  2.13s/it]\n",
      "extracting all features from dataset: 100%|██████████████████████████████████████████████| 1/1 [00:01<00:00,  1.53s/it]\n"
     ]
    },
    {
     "name": "stdout",
     "output_type": "stream",
     "text": [
      "----------------------------\n",
      "Train_z, Test_z\n",
      "PCA: 0.7964\n",
      "SVD: 0.7906\n",
      "NetG_fixD, Acc at sample 3 0.8489\n"
     ]
    },
    {
     "name": "stderr",
     "output_type": "stream",
     "text": [
      "extracting all features from dataset: 100%|██████████████████████████████████████████████| 2/2 [00:04<00:00,  2.20s/it]\n",
      "extracting all features from dataset: 100%|██████████████████████████████████████████████| 1/1 [00:01<00:00,  1.56s/it]\n"
     ]
    },
    {
     "name": "stdout",
     "output_type": "stream",
     "text": [
      "----------------------------\n",
      "Train_z, Test_z\n",
      "PCA: 0.7943\n",
      "SVD: 0.7954\n",
      "NetG_fixD, Acc at sample 4 0.8469\n"
     ]
    },
    {
     "name": "stderr",
     "output_type": "stream",
     "text": [
      "extracting all features from dataset: 100%|██████████████████████████████████████████████| 2/2 [00:04<00:00,  2.10s/it]\n",
      "extracting all features from dataset: 100%|██████████████████████████████████████████████| 1/1 [00:01<00:00,  1.56s/it]\n"
     ]
    },
    {
     "name": "stdout",
     "output_type": "stream",
     "text": [
      "----------------------------\n",
      "Train_z, Test_z\n",
      "PCA: 0.7966\n",
      "SVD: 0.7939\n",
      "NetG_fixD, Acc at sample 5 0.8466\n"
     ]
    },
    {
     "name": "stderr",
     "output_type": "stream",
     "text": [
      "extracting all features from dataset: 100%|██████████████████████████████████████████████| 2/2 [00:04<00:00,  2.07s/it]\n",
      "extracting all features from dataset: 100%|██████████████████████████████████████████████| 1/1 [00:01<00:00,  1.56s/it]\n"
     ]
    },
    {
     "name": "stdout",
     "output_type": "stream",
     "text": [
      "----------------------------\n",
      "Train_z, Test_z\n",
      "PCA: 0.7969999999999999\n",
      "SVD: 0.7912\n",
      "NetG_fixD, Acc at sample 6 0.8495\n"
     ]
    },
    {
     "name": "stderr",
     "output_type": "stream",
     "text": [
      "extracting all features from dataset: 100%|██████████████████████████████████████████████| 2/2 [00:04<00:00,  2.15s/it]\n",
      "extracting all features from dataset: 100%|██████████████████████████████████████████████| 1/1 [00:01<00:00,  1.54s/it]\n"
     ]
    },
    {
     "name": "stdout",
     "output_type": "stream",
     "text": [
      "----------------------------\n",
      "Train_z, Test_z\n",
      "PCA: 0.7976\n",
      "SVD: 0.7912\n",
      "NetG_fixD, Acc at sample 7 0.8493\n"
     ]
    },
    {
     "name": "stderr",
     "output_type": "stream",
     "text": [
      "extracting all features from dataset: 100%|██████████████████████████████████████████████| 2/2 [00:04<00:00,  2.20s/it]\n",
      "extracting all features from dataset: 100%|██████████████████████████████████████████████| 1/1 [00:01<00:00,  1.52s/it]\n"
     ]
    },
    {
     "name": "stdout",
     "output_type": "stream",
     "text": [
      "----------------------------\n",
      "Train_z, Test_z\n",
      "PCA: 0.794\n",
      "SVD: 0.7916\n",
      "NetG_fixD, Acc at sample 8 0.8484\n"
     ]
    },
    {
     "name": "stderr",
     "output_type": "stream",
     "text": [
      "extracting all features from dataset: 100%|██████████████████████████████████████████████| 2/2 [00:04<00:00,  2.07s/it]\n",
      "extracting all features from dataset: 100%|██████████████████████████████████████████████| 1/1 [00:01<00:00,  1.55s/it]\n"
     ]
    },
    {
     "name": "stdout",
     "output_type": "stream",
     "text": [
      "----------------------------\n",
      "Train_z, Test_z\n",
      "PCA: 0.7982\n",
      "SVD: 0.7951\n",
      "NetG_fixD, Acc at sample 9 0.8492\n"
     ]
    },
    {
     "name": "stderr",
     "output_type": "stream",
     "text": [
      "extracting all features from dataset: 100%|██████████████████████████████████████████████| 2/2 [00:04<00:00,  2.12s/it]\n",
      "extracting all features from dataset: 100%|██████████████████████████████████████████████| 1/1 [00:01<00:00,  1.54s/it]\n"
     ]
    },
    {
     "name": "stdout",
     "output_type": "stream",
     "text": [
      "----------------------------\n",
      "Train_z, Test_z\n",
      "PCA: 0.7989999999999999\n",
      "SVD: 0.7926\n",
      "NetG_fixD, Acc at sample 10 0.851\n"
     ]
    },
    {
     "name": "stderr",
     "output_type": "stream",
     "text": [
      "extracting all features from dataset: 100%|██████████████████████████████████████████████| 2/2 [00:04<00:00,  2.10s/it]\n",
      "extracting all features from dataset: 100%|██████████████████████████████████████████████| 1/1 [00:01<00:00,  1.54s/it]\n"
     ]
    },
    {
     "name": "stdout",
     "output_type": "stream",
     "text": [
      "----------------------------\n",
      "Train_z, Test_z\n",
      "PCA: 0.798\n",
      "SVD: 0.7948999999999999\n",
      "NetG_fixD, Acc at sample 11 0.8482\n"
     ]
    },
    {
     "name": "stderr",
     "output_type": "stream",
     "text": [
      "extracting all features from dataset: 100%|██████████████████████████████████████████████| 2/2 [00:04<00:00,  2.17s/it]\n",
      "extracting all features from dataset: 100%|██████████████████████████████████████████████| 1/1 [00:01<00:00,  1.57s/it]\n"
     ]
    },
    {
     "name": "stdout",
     "output_type": "stream",
     "text": [
      "----------------------------\n",
      "Train_z, Test_z\n",
      "PCA: 0.7932\n",
      "SVD: 0.7947\n",
      "NetG_fixD, Acc at sample 12 0.8483\n"
     ]
    },
    {
     "name": "stderr",
     "output_type": "stream",
     "text": [
      "extracting all features from dataset: 100%|██████████████████████████████████████████████| 2/2 [00:04<00:00,  2.03s/it]\n",
      "extracting all features from dataset: 100%|██████████████████████████████████████████████| 1/1 [00:01<00:00,  1.53s/it]\n"
     ]
    },
    {
     "name": "stdout",
     "output_type": "stream",
     "text": [
      "----------------------------\n",
      "Train_z, Test_z\n",
      "PCA: 0.7964\n",
      "SVD: 0.7915\n",
      "NetG_fixD, Acc at sample 13 0.8496\n"
     ]
    },
    {
     "name": "stderr",
     "output_type": "stream",
     "text": [
      "extracting all features from dataset: 100%|██████████████████████████████████████████████| 2/2 [00:04<00:00,  2.12s/it]\n",
      "extracting all features from dataset: 100%|██████████████████████████████████████████████| 1/1 [00:01<00:00,  1.53s/it]\n"
     ]
    },
    {
     "name": "stdout",
     "output_type": "stream",
     "text": [
      "----------------------------\n",
      "Train_z, Test_z\n",
      "PCA: 0.7952\n",
      "SVD: 0.7938000000000001\n",
      "NetG_fixD, Acc at sample 14 0.8481\n"
     ]
    },
    {
     "name": "stderr",
     "output_type": "stream",
     "text": [
      "extracting all features from dataset: 100%|██████████████████████████████████████████████| 2/2 [00:04<00:00,  2.10s/it]\n",
      "extracting all features from dataset: 100%|██████████████████████████████████████████████| 1/1 [00:01<00:00,  1.55s/it]\n"
     ]
    },
    {
     "name": "stdout",
     "output_type": "stream",
     "text": [
      "----------------------------\n",
      "Train_z, Test_z\n",
      "PCA: 0.7959\n",
      "SVD: 0.7916\n",
      "NetG_fixD, Acc at sample 15 0.8489\n"
     ]
    },
    {
     "name": "stderr",
     "output_type": "stream",
     "text": [
      "extracting all features from dataset: 100%|██████████████████████████████████████████████| 2/2 [00:04<00:00,  2.04s/it]\n",
      "extracting all features from dataset: 100%|██████████████████████████████████████████████| 1/1 [00:01<00:00,  1.53s/it]\n"
     ]
    },
    {
     "name": "stdout",
     "output_type": "stream",
     "text": [
      "----------------------------\n",
      "Train_z, Test_z\n",
      "PCA: 0.798\n",
      "SVD: 0.7905\n",
      "NetG_fixD, Acc at sample 16 0.85\n"
     ]
    },
    {
     "name": "stderr",
     "output_type": "stream",
     "text": [
      "extracting all features from dataset: 100%|██████████████████████████████████████████████| 2/2 [00:04<00:00,  2.13s/it]\n",
      "extracting all features from dataset: 100%|██████████████████████████████████████████████| 1/1 [00:01<00:00,  1.56s/it]\n"
     ]
    },
    {
     "name": "stdout",
     "output_type": "stream",
     "text": [
      "----------------------------\n",
      "Train_z, Test_z\n",
      "PCA: 0.7974\n",
      "SVD: 0.7961\n",
      "NetG_fixD, Acc at sample 17 0.85\n"
     ]
    },
    {
     "name": "stderr",
     "output_type": "stream",
     "text": [
      "extracting all features from dataset: 100%|██████████████████████████████████████████████| 2/2 [00:04<00:00,  2.06s/it]\n",
      "extracting all features from dataset: 100%|██████████████████████████████████████████████| 1/1 [00:01<00:00,  1.55s/it]\n"
     ]
    },
    {
     "name": "stdout",
     "output_type": "stream",
     "text": [
      "----------------------------\n",
      "Train_z, Test_z\n",
      "PCA: 0.7971\n",
      "SVD: 0.7937\n",
      "NetG_fixD, Acc at sample 18 0.8483\n"
     ]
    },
    {
     "name": "stderr",
     "output_type": "stream",
     "text": [
      "extracting all features from dataset: 100%|██████████████████████████████████████████████| 2/2 [00:04<00:00,  2.07s/it]\n",
      "extracting all features from dataset: 100%|██████████████████████████████████████████████| 1/1 [00:01<00:00,  1.55s/it]\n"
     ]
    },
    {
     "name": "stdout",
     "output_type": "stream",
     "text": [
      "----------------------------\n",
      "Train_z, Test_z\n",
      "PCA: 0.7948\n",
      "SVD: 0.7928999999999999\n",
      "NetG_fixD, Acc at sample 19 0.8482\n"
     ]
    },
    {
     "name": "stderr",
     "output_type": "stream",
     "text": [
      "extracting all features from dataset: 100%|██████████████████████████████████████████████| 2/2 [00:04<00:00,  2.18s/it]\n",
      "extracting all features from dataset: 100%|██████████████████████████████████████████████| 1/1 [00:01<00:00,  1.55s/it]\n"
     ]
    },
    {
     "name": "stdout",
     "output_type": "stream",
     "text": [
      "----------------------------\n",
      "Train_z, Test_z\n",
      "PCA: 0.7935\n",
      "SVD: 0.7885\n",
      "NetG_fixD, Acc at sample 20 0.8479\n",
      "0.851 0.8466 0.8488149999999999 1.1182749999999889e-06\n"
     ]
    }
   ],
   "source": [
    "# sample 50 times of NetG at final radius, NetD is fixed\n",
    "from sklearn.neighbors import KNeighborsClassifier \n",
    "Acc_results_G_sample4 = []\n",
    "\n",
    "for _ in range(sample_num):\n",
    "    #acc at first\n",
    "    net_noise = get_noise(DATASET, device, LABEL)\n",
    "    fed_state_dict = get_netG(netD,netV,net_noise,r_list[4])\n",
    "    netG.load_state_dict(fed_state_dict)\n",
    "    \n",
    "    train_X, train_Z, train_X_bar, train_Z_bar, train_labels = extract_features2(trainloader, netG, netD)\n",
    "\n",
    "    test_X, test_Z, test_X_bar, test_Z_bar, test_labels = extract_features2(testloader, netG, netD)\n",
    "\n",
    "    print(\"----------------------------\")\n",
    "    print(\"Train_z, Test_z\")\n",
    "    nearsub(n_comp, train_Z, train_labels, test_Z, test_labels)\n",
    "\n",
    "    knn= KNeighborsClassifier(n_neighbors=10) \n",
    "\n",
    "    knn.fit(train_Z,train_labels) \n",
    "    knn.score(test_Z_bar,test_labels) \n",
    "\n",
    "    y_predict = knn.predict(test_Z_bar) \n",
    "\n",
    "    count =0\n",
    "    for k in range(10000):\n",
    "        if y_predict[k] == test_labels[k]:\n",
    "            count +=1\n",
    "    print('NetG_fixD, Acc at sample',_+1,count/10000)\n",
    "    Acc_results_G_sample4.append(count/10000)\n",
    "    \n",
    "print(max(Acc_results_G_sample4),min(Acc_results_G_sample4),np.mean(Acc_results_G_sample4),np.var(Acc_results_G_sample4))"
   ]
  },
  {
   "cell_type": "code",
   "execution_count": 16,
   "id": "dfa16dcf",
   "metadata": {},
   "outputs": [
    {
     "name": "stderr",
     "output_type": "stream",
     "text": [
      "extracting all features from dataset: 100%|██████████████████████████████████████████████| 2/2 [00:04<00:00,  2.07s/it]\n",
      "extracting all features from dataset: 100%|██████████████████████████████████████████████| 1/1 [00:01<00:00,  1.54s/it]\n"
     ]
    },
    {
     "name": "stdout",
     "output_type": "stream",
     "text": [
      "----------------------------\n",
      "Train_z, Test_z\n",
      "PCA: 0.7981\n",
      "SVD: 0.7951\n",
      "NetG_fixD, Acc at sample 1 0.8281\n"
     ]
    },
    {
     "name": "stderr",
     "output_type": "stream",
     "text": [
      "extracting all features from dataset: 100%|██████████████████████████████████████████████| 2/2 [00:04<00:00,  2.06s/it]\n",
      "extracting all features from dataset: 100%|██████████████████████████████████████████████| 1/1 [00:01<00:00,  1.54s/it]\n"
     ]
    },
    {
     "name": "stdout",
     "output_type": "stream",
     "text": [
      "----------------------------\n",
      "Train_z, Test_z\n",
      "PCA: 0.8012\n",
      "SVD: 0.7963\n",
      "NetG_fixD, Acc at sample 2 0.8406\n"
     ]
    },
    {
     "name": "stderr",
     "output_type": "stream",
     "text": [
      "extracting all features from dataset: 100%|██████████████████████████████████████████████| 2/2 [00:04<00:00,  2.13s/it]\n",
      "extracting all features from dataset: 100%|██████████████████████████████████████████████| 1/1 [00:01<00:00,  1.55s/it]\n"
     ]
    },
    {
     "name": "stdout",
     "output_type": "stream",
     "text": [
      "----------------------------\n",
      "Train_z, Test_z\n",
      "PCA: 0.8001\n",
      "SVD: 0.7975\n",
      "NetG_fixD, Acc at sample 3 0.8345\n"
     ]
    },
    {
     "name": "stderr",
     "output_type": "stream",
     "text": [
      "extracting all features from dataset: 100%|██████████████████████████████████████████████| 2/2 [00:04<00:00,  2.18s/it]\n",
      "extracting all features from dataset: 100%|██████████████████████████████████████████████| 1/1 [00:01<00:00,  1.57s/it]\n"
     ]
    },
    {
     "name": "stdout",
     "output_type": "stream",
     "text": [
      "----------------------------\n",
      "Train_z, Test_z\n",
      "PCA: 0.8032\n",
      "SVD: 0.8004\n",
      "NetG_fixD, Acc at sample 4 0.8246\n"
     ]
    },
    {
     "name": "stderr",
     "output_type": "stream",
     "text": [
      "extracting all features from dataset: 100%|██████████████████████████████████████████████| 2/2 [00:04<00:00,  2.03s/it]\n",
      "extracting all features from dataset: 100%|██████████████████████████████████████████████| 1/1 [00:01<00:00,  1.56s/it]\n"
     ]
    },
    {
     "name": "stdout",
     "output_type": "stream",
     "text": [
      "----------------------------\n",
      "Train_z, Test_z\n",
      "PCA: 0.8078\n",
      "SVD: 0.8027\n",
      "NetG_fixD, Acc at sample 5 0.834\n"
     ]
    },
    {
     "name": "stderr",
     "output_type": "stream",
     "text": [
      "extracting all features from dataset: 100%|██████████████████████████████████████████████| 2/2 [00:04<00:00,  2.17s/it]\n",
      "extracting all features from dataset: 100%|██████████████████████████████████████████████| 1/1 [00:01<00:00,  1.54s/it]\n"
     ]
    },
    {
     "name": "stdout",
     "output_type": "stream",
     "text": [
      "----------------------------\n",
      "Train_z, Test_z\n",
      "PCA: 0.8036\n",
      "SVD: 0.8007\n",
      "NetG_fixD, Acc at sample 6 0.837\n"
     ]
    },
    {
     "name": "stderr",
     "output_type": "stream",
     "text": [
      "extracting all features from dataset: 100%|██████████████████████████████████████████████| 2/2 [00:04<00:00,  2.10s/it]\n",
      "extracting all features from dataset: 100%|██████████████████████████████████████████████| 1/1 [00:01<00:00,  1.53s/it]\n"
     ]
    },
    {
     "name": "stdout",
     "output_type": "stream",
     "text": [
      "----------------------------\n",
      "Train_z, Test_z\n",
      "PCA: 0.8001\n",
      "SVD: 0.7988\n",
      "NetG_fixD, Acc at sample 7 0.8321\n"
     ]
    },
    {
     "name": "stderr",
     "output_type": "stream",
     "text": [
      "extracting all features from dataset: 100%|██████████████████████████████████████████████| 2/2 [00:04<00:00,  2.13s/it]\n",
      "extracting all features from dataset: 100%|██████████████████████████████████████████████| 1/1 [00:01<00:00,  1.56s/it]\n"
     ]
    },
    {
     "name": "stdout",
     "output_type": "stream",
     "text": [
      "----------------------------\n",
      "Train_z, Test_z\n",
      "PCA: 0.8021\n",
      "SVD: 0.7992\n",
      "NetG_fixD, Acc at sample 8 0.8294\n"
     ]
    },
    {
     "name": "stderr",
     "output_type": "stream",
     "text": [
      "extracting all features from dataset: 100%|██████████████████████████████████████████████| 2/2 [00:04<00:00,  2.09s/it]\n",
      "extracting all features from dataset: 100%|██████████████████████████████████████████████| 1/1 [00:01<00:00,  1.51s/it]\n"
     ]
    },
    {
     "name": "stdout",
     "output_type": "stream",
     "text": [
      "----------------------------\n",
      "Train_z, Test_z\n",
      "PCA: 0.8074\n",
      "SVD: 0.8026\n",
      "NetG_fixD, Acc at sample 9 0.8255\n"
     ]
    },
    {
     "name": "stderr",
     "output_type": "stream",
     "text": [
      "extracting all features from dataset: 100%|██████████████████████████████████████████████| 2/2 [00:04<00:00,  2.04s/it]\n",
      "extracting all features from dataset: 100%|██████████████████████████████████████████████| 1/1 [00:01<00:00,  1.55s/it]\n"
     ]
    },
    {
     "name": "stdout",
     "output_type": "stream",
     "text": [
      "----------------------------\n",
      "Train_z, Test_z\n",
      "PCA: 0.8039000000000001\n",
      "SVD: 0.8016\n",
      "NetG_fixD, Acc at sample 10 0.8353\n"
     ]
    },
    {
     "name": "stderr",
     "output_type": "stream",
     "text": [
      "extracting all features from dataset: 100%|██████████████████████████████████████████████| 2/2 [00:04<00:00,  2.03s/it]\n",
      "extracting all features from dataset: 100%|██████████████████████████████████████████████| 1/1 [00:01<00:00,  1.55s/it]\n"
     ]
    },
    {
     "name": "stdout",
     "output_type": "stream",
     "text": [
      "----------------------------\n",
      "Train_z, Test_z\n",
      "PCA: 0.7986\n",
      "SVD: 0.7984\n",
      "NetG_fixD, Acc at sample 11 0.8315\n"
     ]
    },
    {
     "name": "stderr",
     "output_type": "stream",
     "text": [
      "extracting all features from dataset: 100%|██████████████████████████████████████████████| 2/2 [00:04<00:00,  2.10s/it]\n",
      "extracting all features from dataset: 100%|██████████████████████████████████████████████| 1/1 [00:01<00:00,  1.56s/it]\n"
     ]
    },
    {
     "name": "stdout",
     "output_type": "stream",
     "text": [
      "----------------------------\n",
      "Train_z, Test_z\n",
      "PCA: 0.8057\n",
      "SVD: 0.8048\n",
      "NetG_fixD, Acc at sample 12 0.8271\n"
     ]
    },
    {
     "name": "stderr",
     "output_type": "stream",
     "text": [
      "extracting all features from dataset: 100%|██████████████████████████████████████████████| 2/2 [00:04<00:00,  2.10s/it]\n",
      "extracting all features from dataset: 100%|██████████████████████████████████████████████| 1/1 [00:01<00:00,  1.52s/it]\n"
     ]
    },
    {
     "name": "stdout",
     "output_type": "stream",
     "text": [
      "----------------------------\n",
      "Train_z, Test_z\n",
      "PCA: 0.8014\n",
      "SVD: 0.7965\n",
      "NetG_fixD, Acc at sample 13 0.8367\n"
     ]
    },
    {
     "name": "stderr",
     "output_type": "stream",
     "text": [
      "extracting all features from dataset: 100%|██████████████████████████████████████████████| 2/2 [00:04<00:00,  2.04s/it]\n",
      "extracting all features from dataset: 100%|██████████████████████████████████████████████| 1/1 [00:01<00:00,  1.51s/it]\n"
     ]
    },
    {
     "name": "stdout",
     "output_type": "stream",
     "text": [
      "----------------------------\n",
      "Train_z, Test_z\n",
      "PCA: 0.8034\n",
      "SVD: 0.8007\n",
      "NetG_fixD, Acc at sample 14 0.8332\n"
     ]
    },
    {
     "name": "stderr",
     "output_type": "stream",
     "text": [
      "extracting all features from dataset: 100%|██████████████████████████████████████████████| 2/2 [00:04<00:00,  2.09s/it]\n",
      "extracting all features from dataset: 100%|██████████████████████████████████████████████| 1/1 [00:01<00:00,  1.50s/it]\n"
     ]
    },
    {
     "name": "stdout",
     "output_type": "stream",
     "text": [
      "----------------------------\n",
      "Train_z, Test_z\n",
      "PCA: 0.8041\n",
      "SVD: 0.8\n",
      "NetG_fixD, Acc at sample 15 0.8332\n"
     ]
    },
    {
     "name": "stderr",
     "output_type": "stream",
     "text": [
      "extracting all features from dataset: 100%|██████████████████████████████████████████████| 2/2 [00:04<00:00,  2.14s/it]\n",
      "extracting all features from dataset: 100%|██████████████████████████████████████████████| 1/1 [00:01<00:00,  1.55s/it]\n"
     ]
    },
    {
     "name": "stdout",
     "output_type": "stream",
     "text": [
      "----------------------------\n",
      "Train_z, Test_z\n",
      "PCA: 0.8071\n",
      "SVD: 0.8023\n",
      "NetG_fixD, Acc at sample 16 0.8359\n"
     ]
    },
    {
     "name": "stderr",
     "output_type": "stream",
     "text": [
      "extracting all features from dataset: 100%|██████████████████████████████████████████████| 2/2 [00:04<00:00,  2.15s/it]\n",
      "extracting all features from dataset: 100%|██████████████████████████████████████████████| 1/1 [00:01<00:00,  1.54s/it]\n"
     ]
    },
    {
     "name": "stdout",
     "output_type": "stream",
     "text": [
      "----------------------------\n",
      "Train_z, Test_z\n",
      "PCA: 0.8047\n",
      "SVD: 0.8024\n",
      "NetG_fixD, Acc at sample 17 0.8388\n"
     ]
    },
    {
     "name": "stderr",
     "output_type": "stream",
     "text": [
      "extracting all features from dataset: 100%|██████████████████████████████████████████████| 2/2 [00:04<00:00,  2.10s/it]\n",
      "extracting all features from dataset: 100%|██████████████████████████████████████████████| 1/1 [00:01<00:00,  1.59s/it]\n"
     ]
    },
    {
     "name": "stdout",
     "output_type": "stream",
     "text": [
      "----------------------------\n",
      "Train_z, Test_z\n",
      "PCA: 0.8002\n",
      "SVD: 0.7997\n",
      "NetG_fixD, Acc at sample 18 0.8295\n"
     ]
    },
    {
     "name": "stderr",
     "output_type": "stream",
     "text": [
      "extracting all features from dataset: 100%|██████████████████████████████████████████████| 2/2 [00:04<00:00,  2.02s/it]\n",
      "extracting all features from dataset: 100%|██████████████████████████████████████████████| 1/1 [00:01<00:00,  1.53s/it]\n"
     ]
    },
    {
     "name": "stdout",
     "output_type": "stream",
     "text": [
      "----------------------------\n",
      "Train_z, Test_z\n",
      "PCA: 0.7986\n",
      "SVD: 0.7933\n",
      "NetG_fixD, Acc at sample 19 0.8323\n"
     ]
    },
    {
     "name": "stderr",
     "output_type": "stream",
     "text": [
      "extracting all features from dataset: 100%|██████████████████████████████████████████████| 2/2 [00:04<00:00,  2.18s/it]\n",
      "extracting all features from dataset: 100%|██████████████████████████████████████████████| 1/1 [00:01<00:00,  1.57s/it]\n"
     ]
    },
    {
     "name": "stdout",
     "output_type": "stream",
     "text": [
      "----------------------------\n",
      "Train_z, Test_z\n",
      "PCA: 0.8065\n",
      "SVD: 0.7995\n",
      "NetG_fixD, Acc at sample 20 0.8302\n",
      "0.8406 0.8246 0.832475 1.7741875000000016e-05\n"
     ]
    }
   ],
   "source": [
    "# sample 50 times of NetG at final radius, NetD is fixed\n",
    "from sklearn.neighbors import KNeighborsClassifier \n",
    "Acc_results_G_sample5 = []\n",
    "\n",
    "for _ in range(sample_num):\n",
    "    #acc at first\n",
    "    net_noise = get_noise(DATASET, device, LABEL)\n",
    "    fed_state_dict = get_netG(netD,netV,net_noise,r_list[5])\n",
    "    netG.load_state_dict(fed_state_dict)\n",
    "    \n",
    "    train_X, train_Z, train_X_bar, train_Z_bar, train_labels = extract_features2(trainloader, netG, netD)\n",
    "\n",
    "    test_X, test_Z, test_X_bar, test_Z_bar, test_labels = extract_features2(testloader, netG, netD)\n",
    "\n",
    "    print(\"----------------------------\")\n",
    "    print(\"Train_z, Test_z\")\n",
    "    nearsub(n_comp, train_Z, train_labels, test_Z, test_labels)\n",
    "\n",
    "    knn= KNeighborsClassifier(n_neighbors=10) \n",
    "\n",
    "    knn.fit(train_Z,train_labels) \n",
    "    knn.score(test_Z_bar,test_labels) \n",
    "\n",
    "    y_predict = knn.predict(test_Z_bar) \n",
    "\n",
    "    count =0\n",
    "    for k in range(10000):\n",
    "        if y_predict[k] == test_labels[k]:\n",
    "            count +=1\n",
    "    print('NetG_fixD, Acc at sample',_+1,count/10000)\n",
    "    Acc_results_G_sample5.append(count/10000)\n",
    "    \n",
    "print(max(Acc_results_G_sample5),min(Acc_results_G_sample5),np.mean(Acc_results_G_sample5),np.var(Acc_results_G_sample5))"
   ]
  },
  {
   "cell_type": "code",
   "execution_count": 17,
   "id": "4594946a",
   "metadata": {},
   "outputs": [
    {
     "name": "stderr",
     "output_type": "stream",
     "text": [
      "extracting all features from dataset: 100%|██████████████████████████████████████████████| 2/2 [00:04<00:00,  2.11s/it]\n",
      "extracting all features from dataset: 100%|██████████████████████████████████████████████| 1/1 [00:01<00:00,  1.53s/it]\n"
     ]
    },
    {
     "name": "stdout",
     "output_type": "stream",
     "text": [
      "----------------------------\n",
      "Train_z, Test_z\n",
      "PCA: 0.8076\n",
      "SVD: 0.8041\n",
      "NetG_fixD, Acc at sample 1 0.7484\n"
     ]
    },
    {
     "name": "stderr",
     "output_type": "stream",
     "text": [
      "extracting all features from dataset: 100%|██████████████████████████████████████████████| 2/2 [00:04<00:00,  2.04s/it]\n",
      "extracting all features from dataset: 100%|██████████████████████████████████████████████| 1/1 [00:01<00:00,  1.54s/it]\n"
     ]
    },
    {
     "name": "stdout",
     "output_type": "stream",
     "text": [
      "----------------------------\n",
      "Train_z, Test_z\n",
      "PCA: 0.8071\n",
      "SVD: 0.7984\n",
      "NetG_fixD, Acc at sample 2 0.77\n"
     ]
    },
    {
     "name": "stderr",
     "output_type": "stream",
     "text": [
      "extracting all features from dataset: 100%|██████████████████████████████████████████████| 2/2 [00:04<00:00,  2.19s/it]\n",
      "extracting all features from dataset: 100%|██████████████████████████████████████████████| 1/1 [00:01<00:00,  1.55s/it]\n"
     ]
    },
    {
     "name": "stdout",
     "output_type": "stream",
     "text": [
      "----------------------------\n",
      "Train_z, Test_z\n",
      "PCA: 0.8064\n",
      "SVD: 0.7977\n",
      "NetG_fixD, Acc at sample 3 0.7107\n"
     ]
    },
    {
     "name": "stderr",
     "output_type": "stream",
     "text": [
      "extracting all features from dataset: 100%|██████████████████████████████████████████████| 2/2 [00:04<00:00,  2.08s/it]\n",
      "extracting all features from dataset: 100%|██████████████████████████████████████████████| 1/1 [00:01<00:00,  1.52s/it]\n"
     ]
    },
    {
     "name": "stdout",
     "output_type": "stream",
     "text": [
      "----------------------------\n",
      "Train_z, Test_z\n",
      "PCA: 0.8073\n",
      "SVD: 0.8058\n",
      "NetG_fixD, Acc at sample 4 0.7022\n"
     ]
    },
    {
     "name": "stderr",
     "output_type": "stream",
     "text": [
      "extracting all features from dataset: 100%|██████████████████████████████████████████████| 2/2 [00:04<00:00,  2.11s/it]\n",
      "extracting all features from dataset: 100%|██████████████████████████████████████████████| 1/1 [00:01<00:00,  1.55s/it]\n"
     ]
    },
    {
     "name": "stdout",
     "output_type": "stream",
     "text": [
      "----------------------------\n",
      "Train_z, Test_z\n",
      "PCA: 0.8021\n",
      "SVD: 0.7994\n",
      "NetG_fixD, Acc at sample 5 0.7467\n"
     ]
    },
    {
     "name": "stderr",
     "output_type": "stream",
     "text": [
      "extracting all features from dataset: 100%|██████████████████████████████████████████████| 2/2 [00:04<00:00,  2.12s/it]\n",
      "extracting all features from dataset: 100%|██████████████████████████████████████████████| 1/1 [00:01<00:00,  1.51s/it]\n"
     ]
    },
    {
     "name": "stdout",
     "output_type": "stream",
     "text": [
      "----------------------------\n",
      "Train_z, Test_z\n",
      "PCA: 0.8159\n",
      "SVD: 0.8101\n",
      "NetG_fixD, Acc at sample 6 0.6159\n"
     ]
    },
    {
     "name": "stderr",
     "output_type": "stream",
     "text": [
      "extracting all features from dataset: 100%|██████████████████████████████████████████████| 2/2 [00:04<00:00,  2.15s/it]\n",
      "extracting all features from dataset: 100%|██████████████████████████████████████████████| 1/1 [00:01<00:00,  1.53s/it]\n"
     ]
    },
    {
     "name": "stdout",
     "output_type": "stream",
     "text": [
      "----------------------------\n",
      "Train_z, Test_z\n",
      "PCA: 0.8106\n",
      "SVD: 0.8034\n",
      "NetG_fixD, Acc at sample 7 0.6958\n"
     ]
    },
    {
     "name": "stderr",
     "output_type": "stream",
     "text": [
      "extracting all features from dataset: 100%|██████████████████████████████████████████████| 2/2 [00:04<00:00,  2.08s/it]\n",
      "extracting all features from dataset: 100%|██████████████████████████████████████████████| 1/1 [00:01<00:00,  1.55s/it]\n"
     ]
    },
    {
     "name": "stdout",
     "output_type": "stream",
     "text": [
      "----------------------------\n",
      "Train_z, Test_z\n",
      "PCA: 0.8102\n",
      "SVD: 0.8062\n",
      "NetG_fixD, Acc at sample 8 0.5275\n"
     ]
    },
    {
     "name": "stderr",
     "output_type": "stream",
     "text": [
      "extracting all features from dataset: 100%|██████████████████████████████████████████████| 2/2 [00:04<00:00,  2.04s/it]\n",
      "extracting all features from dataset: 100%|██████████████████████████████████████████████| 1/1 [00:01<00:00,  1.51s/it]\n"
     ]
    },
    {
     "name": "stdout",
     "output_type": "stream",
     "text": [
      "----------------------------\n",
      "Train_z, Test_z\n",
      "PCA: 0.8115\n",
      "SVD: 0.81\n",
      "NetG_fixD, Acc at sample 9 0.6416\n"
     ]
    },
    {
     "name": "stderr",
     "output_type": "stream",
     "text": [
      "extracting all features from dataset: 100%|██████████████████████████████████████████████| 2/2 [00:04<00:00,  2.13s/it]\n",
      "extracting all features from dataset: 100%|██████████████████████████████████████████████| 1/1 [00:01<00:00,  1.55s/it]\n"
     ]
    },
    {
     "name": "stdout",
     "output_type": "stream",
     "text": [
      "----------------------------\n",
      "Train_z, Test_z\n",
      "PCA: 0.8054\n",
      "SVD: 0.7975\n",
      "NetG_fixD, Acc at sample 10 0.7233\n"
     ]
    },
    {
     "name": "stderr",
     "output_type": "stream",
     "text": [
      "extracting all features from dataset: 100%|██████████████████████████████████████████████| 2/2 [00:04<00:00,  2.09s/it]\n",
      "extracting all features from dataset: 100%|██████████████████████████████████████████████| 1/1 [00:01<00:00,  1.52s/it]\n"
     ]
    },
    {
     "name": "stdout",
     "output_type": "stream",
     "text": [
      "----------------------------\n",
      "Train_z, Test_z\n",
      "PCA: 0.8085\n",
      "SVD: 0.7991\n",
      "NetG_fixD, Acc at sample 11 0.7767\n"
     ]
    },
    {
     "name": "stderr",
     "output_type": "stream",
     "text": [
      "extracting all features from dataset: 100%|██████████████████████████████████████████████| 2/2 [00:04<00:00,  2.15s/it]\n",
      "extracting all features from dataset: 100%|██████████████████████████████████████████████| 1/1 [00:01<00:00,  1.55s/it]\n"
     ]
    },
    {
     "name": "stdout",
     "output_type": "stream",
     "text": [
      "----------------------------\n",
      "Train_z, Test_z\n",
      "PCA: 0.8068\n",
      "SVD: 0.8017\n",
      "NetG_fixD, Acc at sample 12 0.6511\n"
     ]
    },
    {
     "name": "stderr",
     "output_type": "stream",
     "text": [
      "extracting all features from dataset: 100%|██████████████████████████████████████████████| 2/2 [00:04<00:00,  2.16s/it]\n",
      "extracting all features from dataset: 100%|██████████████████████████████████████████████| 1/1 [00:01<00:00,  1.55s/it]\n"
     ]
    },
    {
     "name": "stdout",
     "output_type": "stream",
     "text": [
      "----------------------------\n",
      "Train_z, Test_z\n",
      "PCA: 0.8062\n",
      "SVD: 0.7999\n",
      "NetG_fixD, Acc at sample 13 0.7589\n"
     ]
    },
    {
     "name": "stderr",
     "output_type": "stream",
     "text": [
      "extracting all features from dataset: 100%|██████████████████████████████████████████████| 2/2 [00:04<00:00,  2.12s/it]\n",
      "extracting all features from dataset: 100%|██████████████████████████████████████████████| 1/1 [00:01<00:00,  1.51s/it]\n"
     ]
    },
    {
     "name": "stdout",
     "output_type": "stream",
     "text": [
      "----------------------------\n",
      "Train_z, Test_z\n",
      "PCA: 0.8095\n",
      "SVD: 0.8023\n",
      "NetG_fixD, Acc at sample 14 0.7123\n"
     ]
    },
    {
     "name": "stderr",
     "output_type": "stream",
     "text": [
      "extracting all features from dataset: 100%|██████████████████████████████████████████████| 2/2 [00:04<00:00,  2.00s/it]\n",
      "extracting all features from dataset: 100%|██████████████████████████████████████████████| 1/1 [00:01<00:00,  1.55s/it]\n"
     ]
    },
    {
     "name": "stdout",
     "output_type": "stream",
     "text": [
      "----------------------------\n",
      "Train_z, Test_z\n",
      "PCA: 0.8113\n",
      "SVD: 0.8084\n",
      "NetG_fixD, Acc at sample 15 0.6897\n"
     ]
    },
    {
     "name": "stderr",
     "output_type": "stream",
     "text": [
      "extracting all features from dataset: 100%|██████████████████████████████████████████████| 2/2 [00:04<00:00,  2.12s/it]\n",
      "extracting all features from dataset: 100%|██████████████████████████████████████████████| 1/1 [00:01<00:00,  1.57s/it]\n"
     ]
    },
    {
     "name": "stdout",
     "output_type": "stream",
     "text": [
      "----------------------------\n",
      "Train_z, Test_z\n",
      "PCA: 0.8077\n",
      "SVD: 0.8035\n",
      "NetG_fixD, Acc at sample 16 0.5473\n"
     ]
    },
    {
     "name": "stderr",
     "output_type": "stream",
     "text": [
      "extracting all features from dataset: 100%|██████████████████████████████████████████████| 2/2 [00:04<00:00,  2.04s/it]\n",
      "extracting all features from dataset: 100%|██████████████████████████████████████████████| 1/1 [00:01<00:00,  1.54s/it]\n"
     ]
    },
    {
     "name": "stdout",
     "output_type": "stream",
     "text": [
      "----------------------------\n",
      "Train_z, Test_z\n",
      "PCA: 0.8081\n",
      "SVD: 0.8024\n",
      "NetG_fixD, Acc at sample 17 0.7246\n"
     ]
    },
    {
     "name": "stderr",
     "output_type": "stream",
     "text": [
      "extracting all features from dataset: 100%|██████████████████████████████████████████████| 2/2 [00:04<00:00,  2.09s/it]\n",
      "extracting all features from dataset: 100%|██████████████████████████████████████████████| 1/1 [00:01<00:00,  1.53s/it]\n"
     ]
    },
    {
     "name": "stdout",
     "output_type": "stream",
     "text": [
      "----------------------------\n",
      "Train_z, Test_z\n",
      "PCA: 0.8026\n",
      "SVD: 0.7986\n",
      "NetG_fixD, Acc at sample 18 0.7841\n"
     ]
    },
    {
     "name": "stderr",
     "output_type": "stream",
     "text": [
      "extracting all features from dataset: 100%|██████████████████████████████████████████████| 2/2 [00:04<00:00,  2.14s/it]\n",
      "extracting all features from dataset: 100%|██████████████████████████████████████████████| 1/1 [00:01<00:00,  1.50s/it]\n"
     ]
    },
    {
     "name": "stdout",
     "output_type": "stream",
     "text": [
      "----------------------------\n",
      "Train_z, Test_z\n",
      "PCA: 0.8033\n",
      "SVD: 0.7947\n",
      "NetG_fixD, Acc at sample 19 0.7248\n"
     ]
    },
    {
     "name": "stderr",
     "output_type": "stream",
     "text": [
      "extracting all features from dataset: 100%|██████████████████████████████████████████████| 2/2 [00:04<00:00,  2.16s/it]\n",
      "extracting all features from dataset: 100%|██████████████████████████████████████████████| 1/1 [00:01<00:00,  1.55s/it]\n"
     ]
    },
    {
     "name": "stdout",
     "output_type": "stream",
     "text": [
      "----------------------------\n",
      "Train_z, Test_z\n",
      "PCA: 0.8039000000000001\n",
      "SVD: 0.8\n",
      "NetG_fixD, Acc at sample 20 0.651\n",
      "0.7841 0.5275 0.69513 0.0047940291000000005\n"
     ]
    }
   ],
   "source": [
    "# sample 50 times of NetG at final radius, NetD is fixed\n",
    "from sklearn.neighbors import KNeighborsClassifier \n",
    "Acc_results_G_sample6 = []\n",
    "\n",
    "for _ in range(sample_num):\n",
    "    #acc at first\n",
    "    net_noise = get_noise(DATASET, device, LABEL)\n",
    "    fed_state_dict = get_netG(netD,netV,net_noise,r_list[6])\n",
    "    netG.load_state_dict(fed_state_dict)\n",
    "    \n",
    "    train_X, train_Z, train_X_bar, train_Z_bar, train_labels = extract_features2(trainloader, netG, netD)\n",
    "\n",
    "    test_X, test_Z, test_X_bar, test_Z_bar, test_labels = extract_features2(testloader, netG, netD)\n",
    "\n",
    "    print(\"----------------------------\")\n",
    "    print(\"Train_z, Test_z\")\n",
    "    nearsub(n_comp, train_Z, train_labels, test_Z, test_labels)\n",
    "\n",
    "    knn= KNeighborsClassifier(n_neighbors=10) \n",
    "\n",
    "    knn.fit(train_Z,train_labels) \n",
    "    knn.score(test_Z_bar,test_labels) \n",
    "\n",
    "    y_predict = knn.predict(test_Z_bar) \n",
    "\n",
    "    count =0\n",
    "    for k in range(10000):\n",
    "        if y_predict[k] == test_labels[k]:\n",
    "            count +=1\n",
    "    print('NetG_fixD, Acc at sample',_+1,count/10000)\n",
    "    Acc_results_G_sample6.append(count/10000)\n",
    "    \n",
    "print(max(Acc_results_G_sample6),min(Acc_results_G_sample6),np.mean(Acc_results_G_sample6),np.var(Acc_results_G_sample6))"
   ]
  },
  {
   "cell_type": "code",
   "execution_count": 18,
   "id": "9bac47e0",
   "metadata": {},
   "outputs": [
    {
     "name": "stderr",
     "output_type": "stream",
     "text": [
      "extracting all features from dataset: 100%|██████████████████████████████████████████████| 2/2 [00:04<00:00,  2.06s/it]\n",
      "extracting all features from dataset: 100%|██████████████████████████████████████████████| 1/1 [00:01<00:00,  1.54s/it]\n"
     ]
    },
    {
     "name": "stdout",
     "output_type": "stream",
     "text": [
      "----------------------------\n",
      "Train_z, Test_z\n",
      "PCA: 0.81\n",
      "SVD: 0.8055\n",
      "NetG_fixD, Acc at sample 1 0.3059\n"
     ]
    },
    {
     "name": "stderr",
     "output_type": "stream",
     "text": [
      "extracting all features from dataset: 100%|██████████████████████████████████████████████| 2/2 [00:04<00:00,  2.14s/it]\n",
      "extracting all features from dataset: 100%|██████████████████████████████████████████████| 1/1 [00:01<00:00,  1.54s/it]\n"
     ]
    },
    {
     "name": "stdout",
     "output_type": "stream",
     "text": [
      "----------------------------\n",
      "Train_z, Test_z\n",
      "PCA: 0.8089999999999999\n",
      "SVD: 0.8046\n",
      "NetG_fixD, Acc at sample 2 0.2838\n"
     ]
    },
    {
     "name": "stderr",
     "output_type": "stream",
     "text": [
      "extracting all features from dataset: 100%|██████████████████████████████████████████████| 2/2 [00:04<00:00,  2.11s/it]\n",
      "extracting all features from dataset: 100%|██████████████████████████████████████████████| 1/1 [00:01<00:00,  1.54s/it]\n"
     ]
    },
    {
     "name": "stdout",
     "output_type": "stream",
     "text": [
      "----------------------------\n",
      "Train_z, Test_z\n",
      "PCA: 0.8104\n",
      "SVD: 0.8073\n",
      "NetG_fixD, Acc at sample 3 0.3787\n"
     ]
    },
    {
     "name": "stderr",
     "output_type": "stream",
     "text": [
      "extracting all features from dataset: 100%|██████████████████████████████████████████████| 2/2 [00:04<00:00,  2.09s/it]\n",
      "extracting all features from dataset: 100%|██████████████████████████████████████████████| 1/1 [00:01<00:00,  1.55s/it]\n"
     ]
    },
    {
     "name": "stdout",
     "output_type": "stream",
     "text": [
      "----------------------------\n",
      "Train_z, Test_z\n",
      "PCA: 0.812\n",
      "SVD: 0.8057\n",
      "NetG_fixD, Acc at sample 4 0.2683\n"
     ]
    },
    {
     "name": "stderr",
     "output_type": "stream",
     "text": [
      "extracting all features from dataset: 100%|██████████████████████████████████████████████| 2/2 [00:04<00:00,  2.12s/it]\n",
      "extracting all features from dataset: 100%|██████████████████████████████████████████████| 1/1 [00:01<00:00,  1.55s/it]\n"
     ]
    },
    {
     "name": "stdout",
     "output_type": "stream",
     "text": [
      "----------------------------\n",
      "Train_z, Test_z\n",
      "PCA: 0.8082\n",
      "SVD: 0.8024\n",
      "NetG_fixD, Acc at sample 5 0.4016\n"
     ]
    },
    {
     "name": "stderr",
     "output_type": "stream",
     "text": [
      "extracting all features from dataset: 100%|██████████████████████████████████████████████| 2/2 [00:04<00:00,  2.02s/it]\n",
      "extracting all features from dataset: 100%|██████████████████████████████████████████████| 1/1 [00:01<00:00,  1.54s/it]\n"
     ]
    },
    {
     "name": "stdout",
     "output_type": "stream",
     "text": [
      "----------------------------\n",
      "Train_z, Test_z\n",
      "PCA: 0.8102\n",
      "SVD: 0.8057\n",
      "NetG_fixD, Acc at sample 6 0.3958\n"
     ]
    },
    {
     "name": "stderr",
     "output_type": "stream",
     "text": [
      "extracting all features from dataset: 100%|██████████████████████████████████████████████| 2/2 [00:04<00:00,  2.15s/it]\n",
      "extracting all features from dataset: 100%|██████████████████████████████████████████████| 1/1 [00:01<00:00,  1.58s/it]\n"
     ]
    },
    {
     "name": "stdout",
     "output_type": "stream",
     "text": [
      "----------------------------\n",
      "Train_z, Test_z\n",
      "PCA: 0.8054\n",
      "SVD: 0.8025\n",
      "NetG_fixD, Acc at sample 7 0.2701\n"
     ]
    },
    {
     "name": "stderr",
     "output_type": "stream",
     "text": [
      "extracting all features from dataset: 100%|██████████████████████████████████████████████| 2/2 [00:04<00:00,  2.14s/it]\n",
      "extracting all features from dataset: 100%|██████████████████████████████████████████████| 1/1 [00:01<00:00,  1.54s/it]\n"
     ]
    },
    {
     "name": "stdout",
     "output_type": "stream",
     "text": [
      "----------------------------\n",
      "Train_z, Test_z\n",
      "PCA: 0.8083\n",
      "SVD: 0.8049999999999999\n",
      "NetG_fixD, Acc at sample 8 0.3398\n"
     ]
    },
    {
     "name": "stderr",
     "output_type": "stream",
     "text": [
      "extracting all features from dataset: 100%|██████████████████████████████████████████████| 2/2 [00:04<00:00,  2.14s/it]\n",
      "extracting all features from dataset: 100%|██████████████████████████████████████████████| 1/1 [00:01<00:00,  1.52s/it]\n"
     ]
    },
    {
     "name": "stdout",
     "output_type": "stream",
     "text": [
      "----------------------------\n",
      "Train_z, Test_z\n",
      "PCA: 0.8115\n",
      "SVD: 0.8051\n",
      "NetG_fixD, Acc at sample 9 0.2526\n"
     ]
    },
    {
     "name": "stderr",
     "output_type": "stream",
     "text": [
      "extracting all features from dataset: 100%|██████████████████████████████████████████████| 2/2 [00:04<00:00,  2.11s/it]\n",
      "extracting all features from dataset: 100%|██████████████████████████████████████████████| 1/1 [00:01<00:00,  1.54s/it]\n"
     ]
    },
    {
     "name": "stdout",
     "output_type": "stream",
     "text": [
      "----------------------------\n",
      "Train_z, Test_z\n",
      "PCA: 0.8001\n",
      "SVD: 0.7993\n",
      "NetG_fixD, Acc at sample 10 0.3899\n"
     ]
    },
    {
     "name": "stderr",
     "output_type": "stream",
     "text": [
      "extracting all features from dataset: 100%|██████████████████████████████████████████████| 2/2 [00:04<00:00,  2.09s/it]\n",
      "extracting all features from dataset: 100%|██████████████████████████████████████████████| 1/1 [00:01<00:00,  1.55s/it]\n"
     ]
    },
    {
     "name": "stdout",
     "output_type": "stream",
     "text": [
      "----------------------------\n",
      "Train_z, Test_z\n",
      "PCA: 0.8126\n",
      "SVD: 0.8057\n",
      "NetG_fixD, Acc at sample 11 0.2579\n"
     ]
    },
    {
     "name": "stderr",
     "output_type": "stream",
     "text": [
      "extracting all features from dataset: 100%|██████████████████████████████████████████████| 2/2 [00:04<00:00,  2.07s/it]\n",
      "extracting all features from dataset: 100%|██████████████████████████████████████████████| 1/1 [00:01<00:00,  1.55s/it]\n"
     ]
    },
    {
     "name": "stdout",
     "output_type": "stream",
     "text": [
      "----------------------------\n",
      "Train_z, Test_z\n",
      "PCA: 0.7997\n",
      "SVD: 0.7992\n",
      "NetG_fixD, Acc at sample 12 0.3063\n"
     ]
    },
    {
     "name": "stderr",
     "output_type": "stream",
     "text": [
      "extracting all features from dataset: 100%|██████████████████████████████████████████████| 2/2 [00:04<00:00,  2.05s/it]\n",
      "extracting all features from dataset: 100%|██████████████████████████████████████████████| 1/1 [00:01<00:00,  1.53s/it]\n"
     ]
    },
    {
     "name": "stdout",
     "output_type": "stream",
     "text": [
      "----------------------------\n",
      "Train_z, Test_z\n",
      "PCA: 0.8069\n",
      "SVD: 0.8049\n",
      "NetG_fixD, Acc at sample 13 0.3519\n"
     ]
    },
    {
     "name": "stderr",
     "output_type": "stream",
     "text": [
      "extracting all features from dataset: 100%|██████████████████████████████████████████████| 2/2 [00:04<00:00,  2.02s/it]\n",
      "extracting all features from dataset: 100%|██████████████████████████████████████████████| 1/1 [00:01<00:00,  1.55s/it]\n"
     ]
    },
    {
     "name": "stdout",
     "output_type": "stream",
     "text": [
      "----------------------------\n",
      "Train_z, Test_z\n",
      "PCA: 0.8166\n",
      "SVD: 0.8142\n",
      "NetG_fixD, Acc at sample 14 0.4264\n"
     ]
    },
    {
     "name": "stderr",
     "output_type": "stream",
     "text": [
      "extracting all features from dataset: 100%|██████████████████████████████████████████████| 2/2 [00:04<00:00,  2.06s/it]\n",
      "extracting all features from dataset: 100%|██████████████████████████████████████████████| 1/1 [00:01<00:00,  1.55s/it]\n"
     ]
    },
    {
     "name": "stdout",
     "output_type": "stream",
     "text": [
      "----------------------------\n",
      "Train_z, Test_z\n",
      "PCA: 0.8105\n",
      "SVD: 0.8062\n",
      "NetG_fixD, Acc at sample 15 0.3934\n"
     ]
    },
    {
     "name": "stderr",
     "output_type": "stream",
     "text": [
      "extracting all features from dataset: 100%|██████████████████████████████████████████████| 2/2 [00:04<00:00,  2.06s/it]\n",
      "extracting all features from dataset: 100%|██████████████████████████████████████████████| 1/1 [00:01<00:00,  1.55s/it]\n"
     ]
    },
    {
     "name": "stdout",
     "output_type": "stream",
     "text": [
      "----------------------------\n",
      "Train_z, Test_z\n",
      "PCA: 0.8106\n",
      "SVD: 0.8082\n",
      "NetG_fixD, Acc at sample 16 0.2943\n"
     ]
    },
    {
     "name": "stderr",
     "output_type": "stream",
     "text": [
      "extracting all features from dataset: 100%|██████████████████████████████████████████████| 2/2 [00:04<00:00,  2.08s/it]\n",
      "extracting all features from dataset: 100%|██████████████████████████████████████████████| 1/1 [00:01<00:00,  1.57s/it]\n"
     ]
    },
    {
     "name": "stdout",
     "output_type": "stream",
     "text": [
      "----------------------------\n",
      "Train_z, Test_z\n",
      "PCA: 0.8038\n",
      "SVD: 0.8073\n",
      "NetG_fixD, Acc at sample 17 0.2495\n"
     ]
    },
    {
     "name": "stderr",
     "output_type": "stream",
     "text": [
      "extracting all features from dataset: 100%|██████████████████████████████████████████████| 2/2 [00:04<00:00,  2.02s/it]\n",
      "extracting all features from dataset: 100%|██████████████████████████████████████████████| 1/1 [00:01<00:00,  1.53s/it]\n"
     ]
    },
    {
     "name": "stdout",
     "output_type": "stream",
     "text": [
      "----------------------------\n",
      "Train_z, Test_z\n",
      "PCA: 0.8093\n",
      "SVD: 0.8017\n",
      "NetG_fixD, Acc at sample 18 0.428\n"
     ]
    },
    {
     "name": "stderr",
     "output_type": "stream",
     "text": [
      "extracting all features from dataset: 100%|██████████████████████████████████████████████| 2/2 [00:04<00:00,  2.11s/it]\n",
      "extracting all features from dataset: 100%|██████████████████████████████████████████████| 1/1 [00:01<00:00,  1.55s/it]\n"
     ]
    },
    {
     "name": "stdout",
     "output_type": "stream",
     "text": [
      "----------------------------\n",
      "Train_z, Test_z\n",
      "PCA: 0.8065\n",
      "SVD: 0.8031\n",
      "NetG_fixD, Acc at sample 19 0.3868\n"
     ]
    },
    {
     "name": "stderr",
     "output_type": "stream",
     "text": [
      "extracting all features from dataset: 100%|██████████████████████████████████████████████| 2/2 [00:04<00:00,  2.08s/it]\n",
      "extracting all features from dataset: 100%|██████████████████████████████████████████████| 1/1 [00:01<00:00,  1.49s/it]\n"
     ]
    },
    {
     "name": "stdout",
     "output_type": "stream",
     "text": [
      "----------------------------\n",
      "Train_z, Test_z\n",
      "PCA: 0.8073\n",
      "SVD: 0.8065\n",
      "NetG_fixD, Acc at sample 20 0.4223\n",
      "0.428 0.2495 0.34016500000000005 0.0039101402750000005\n"
     ]
    }
   ],
   "source": [
    "# sample 50 times of NetG at final radius, NetD is fixed\n",
    "from sklearn.neighbors import KNeighborsClassifier \n",
    "Acc_results_G_sample7 = []\n",
    "\n",
    "for _ in range(sample_num):\n",
    "    #acc at first\n",
    "    net_noise = get_noise(DATASET, device, LABEL)\n",
    "    fed_state_dict = get_netG(netD,netV,net_noise,r_list[7])\n",
    "    netG.load_state_dict(fed_state_dict)\n",
    "    \n",
    "    train_X, train_Z, train_X_bar, train_Z_bar, train_labels = extract_features2(trainloader, netG, netD)\n",
    "\n",
    "    test_X, test_Z, test_X_bar, test_Z_bar, test_labels = extract_features2(testloader, netG, netD)\n",
    "\n",
    "    print(\"----------------------------\")\n",
    "    print(\"Train_z, Test_z\")\n",
    "    nearsub(n_comp, train_Z, train_labels, test_Z, test_labels)\n",
    "\n",
    "    knn= KNeighborsClassifier(n_neighbors=10) \n",
    "\n",
    "    knn.fit(train_Z,train_labels) \n",
    "    knn.score(test_Z_bar,test_labels) \n",
    "\n",
    "    y_predict = knn.predict(test_Z_bar) \n",
    "\n",
    "    count =0\n",
    "    for k in range(10000):\n",
    "        if y_predict[k] == test_labels[k]:\n",
    "            count +=1\n",
    "    print('NetG_fixD, Acc at sample',_+1,count/10000)\n",
    "    Acc_results_G_sample7.append(count/10000)\n",
    "    \n",
    "print(max(Acc_results_G_sample7),min(Acc_results_G_sample7),np.mean(Acc_results_G_sample7),np.var(Acc_results_G_sample7))"
   ]
  },
  {
   "cell_type": "code",
   "execution_count": 19,
   "id": "10863846",
   "metadata": {},
   "outputs": [
    {
     "name": "stderr",
     "output_type": "stream",
     "text": [
      "extracting all features from dataset: 100%|██████████████████████████████████████████████| 2/2 [00:04<00:00,  2.10s/it]\n",
      "extracting all features from dataset: 100%|██████████████████████████████████████████████| 1/1 [00:01<00:00,  1.55s/it]\n"
     ]
    },
    {
     "name": "stdout",
     "output_type": "stream",
     "text": [
      "----------------------------\n",
      "Train_z, Test_z\n",
      "PCA: 0.8095\n",
      "SVD: 0.806\n",
      "NetG_fixD, Acc at sample 1 0.1509\n"
     ]
    },
    {
     "name": "stderr",
     "output_type": "stream",
     "text": [
      "extracting all features from dataset: 100%|██████████████████████████████████████████████| 2/2 [00:04<00:00,  2.11s/it]\n",
      "extracting all features from dataset: 100%|██████████████████████████████████████████████| 1/1 [00:01<00:00,  1.55s/it]\n"
     ]
    },
    {
     "name": "stdout",
     "output_type": "stream",
     "text": [
      "----------------------------\n",
      "Train_z, Test_z\n",
      "PCA: 0.8069999999999999\n",
      "SVD: 0.8069999999999999\n",
      "NetG_fixD, Acc at sample 2 0.1325\n"
     ]
    },
    {
     "name": "stderr",
     "output_type": "stream",
     "text": [
      "extracting all features from dataset: 100%|██████████████████████████████████████████████| 2/2 [00:04<00:00,  2.11s/it]\n",
      "extracting all features from dataset: 100%|██████████████████████████████████████████████| 1/1 [00:01<00:00,  1.56s/it]\n"
     ]
    },
    {
     "name": "stdout",
     "output_type": "stream",
     "text": [
      "----------------------------\n",
      "Train_z, Test_z\n",
      "PCA: 0.8112\n",
      "SVD: 0.8097\n",
      "NetG_fixD, Acc at sample 3 0.108\n"
     ]
    },
    {
     "name": "stderr",
     "output_type": "stream",
     "text": [
      "extracting all features from dataset: 100%|██████████████████████████████████████████████| 2/2 [00:04<00:00,  2.12s/it]\n",
      "extracting all features from dataset: 100%|██████████████████████████████████████████████| 1/1 [00:01<00:00,  1.51s/it]\n"
     ]
    },
    {
     "name": "stdout",
     "output_type": "stream",
     "text": [
      "----------------------------\n",
      "Train_z, Test_z\n",
      "PCA: 0.8155\n",
      "SVD: 0.8134\n",
      "NetG_fixD, Acc at sample 4 0.124\n"
     ]
    },
    {
     "name": "stderr",
     "output_type": "stream",
     "text": [
      "extracting all features from dataset: 100%|██████████████████████████████████████████████| 2/2 [00:04<00:00,  2.13s/it]\n",
      "extracting all features from dataset: 100%|██████████████████████████████████████████████| 1/1 [00:01<00:00,  1.56s/it]\n"
     ]
    },
    {
     "name": "stdout",
     "output_type": "stream",
     "text": [
      "----------------------------\n",
      "Train_z, Test_z\n",
      "PCA: 0.8075\n",
      "SVD: 0.8031\n",
      "NetG_fixD, Acc at sample 5 0.1171\n"
     ]
    },
    {
     "name": "stderr",
     "output_type": "stream",
     "text": [
      "extracting all features from dataset: 100%|██████████████████████████████████████████████| 2/2 [00:04<00:00,  2.11s/it]\n",
      "extracting all features from dataset: 100%|██████████████████████████████████████████████| 1/1 [00:01<00:00,  1.53s/it]\n"
     ]
    },
    {
     "name": "stdout",
     "output_type": "stream",
     "text": [
      "----------------------------\n",
      "Train_z, Test_z\n",
      "PCA: 0.8133\n",
      "SVD: 0.8013\n",
      "NetG_fixD, Acc at sample 6 0.1369\n"
     ]
    },
    {
     "name": "stderr",
     "output_type": "stream",
     "text": [
      "extracting all features from dataset: 100%|██████████████████████████████████████████████| 2/2 [00:04<00:00,  2.16s/it]\n",
      "extracting all features from dataset: 100%|██████████████████████████████████████████████| 1/1 [00:01<00:00,  1.55s/it]\n"
     ]
    },
    {
     "name": "stdout",
     "output_type": "stream",
     "text": [
      "----------------------------\n",
      "Train_z, Test_z\n",
      "PCA: 0.81\n",
      "SVD: 0.8095\n",
      "NetG_fixD, Acc at sample 7 0.1747\n"
     ]
    },
    {
     "name": "stderr",
     "output_type": "stream",
     "text": [
      "extracting all features from dataset: 100%|██████████████████████████████████████████████| 2/2 [00:04<00:00,  2.15s/it]\n",
      "extracting all features from dataset: 100%|██████████████████████████████████████████████| 1/1 [00:01<00:00,  1.51s/it]\n"
     ]
    },
    {
     "name": "stdout",
     "output_type": "stream",
     "text": [
      "----------------------------\n",
      "Train_z, Test_z\n",
      "PCA: 0.8029\n",
      "SVD: 0.7995\n",
      "NetG_fixD, Acc at sample 8 0.1697\n"
     ]
    },
    {
     "name": "stderr",
     "output_type": "stream",
     "text": [
      "extracting all features from dataset: 100%|██████████████████████████████████████████████| 2/2 [00:04<00:00,  2.12s/it]\n",
      "extracting all features from dataset: 100%|██████████████████████████████████████████████| 1/1 [00:01<00:00,  1.54s/it]\n"
     ]
    },
    {
     "name": "stdout",
     "output_type": "stream",
     "text": [
      "----------------------------\n",
      "Train_z, Test_z\n",
      "PCA: 0.8078\n",
      "SVD: 0.8056\n",
      "NetG_fixD, Acc at sample 9 0.0992\n"
     ]
    },
    {
     "name": "stderr",
     "output_type": "stream",
     "text": [
      "extracting all features from dataset: 100%|██████████████████████████████████████████████| 2/2 [00:04<00:00,  2.11s/it]\n",
      "extracting all features from dataset: 100%|██████████████████████████████████████████████| 1/1 [00:01<00:00,  1.53s/it]\n"
     ]
    },
    {
     "name": "stdout",
     "output_type": "stream",
     "text": [
      "----------------------------\n",
      "Train_z, Test_z\n",
      "PCA: 0.8097\n",
      "SVD: 0.8117\n",
      "NetG_fixD, Acc at sample 10 0.1441\n"
     ]
    },
    {
     "name": "stderr",
     "output_type": "stream",
     "text": [
      "extracting all features from dataset: 100%|██████████████████████████████████████████████| 2/2 [00:04<00:00,  2.13s/it]\n",
      "extracting all features from dataset: 100%|██████████████████████████████████████████████| 1/1 [00:01<00:00,  1.57s/it]\n"
     ]
    },
    {
     "name": "stdout",
     "output_type": "stream",
     "text": [
      "----------------------------\n",
      "Train_z, Test_z\n",
      "PCA: 0.8097\n",
      "SVD: 0.8069\n",
      "NetG_fixD, Acc at sample 11 0.1395\n"
     ]
    },
    {
     "name": "stderr",
     "output_type": "stream",
     "text": [
      "extracting all features from dataset: 100%|██████████████████████████████████████████████| 2/2 [00:04<00:00,  2.14s/it]\n",
      "extracting all features from dataset: 100%|██████████████████████████████████████████████| 1/1 [00:01<00:00,  1.57s/it]\n"
     ]
    },
    {
     "name": "stdout",
     "output_type": "stream",
     "text": [
      "----------------------------\n",
      "Train_z, Test_z\n",
      "PCA: 0.8197\n",
      "SVD: 0.8130999999999999\n",
      "NetG_fixD, Acc at sample 12 0.1488\n"
     ]
    },
    {
     "name": "stderr",
     "output_type": "stream",
     "text": [
      "extracting all features from dataset: 100%|██████████████████████████████████████████████| 2/2 [00:04<00:00,  2.02s/it]\n",
      "extracting all features from dataset: 100%|██████████████████████████████████████████████| 1/1 [00:01<00:00,  1.55s/it]\n"
     ]
    },
    {
     "name": "stdout",
     "output_type": "stream",
     "text": [
      "----------------------------\n",
      "Train_z, Test_z\n",
      "PCA: 0.8091\n",
      "SVD: 0.8052\n",
      "NetG_fixD, Acc at sample 13 0.1124\n"
     ]
    },
    {
     "name": "stderr",
     "output_type": "stream",
     "text": [
      "extracting all features from dataset: 100%|██████████████████████████████████████████████| 2/2 [00:04<00:00,  2.14s/it]\n",
      "extracting all features from dataset: 100%|██████████████████████████████████████████████| 1/1 [00:01<00:00,  1.54s/it]\n"
     ]
    },
    {
     "name": "stdout",
     "output_type": "stream",
     "text": [
      "----------------------------\n",
      "Train_z, Test_z\n",
      "PCA: 0.8107\n",
      "SVD: 0.8055\n",
      "NetG_fixD, Acc at sample 14 0.149\n"
     ]
    },
    {
     "name": "stderr",
     "output_type": "stream",
     "text": [
      "extracting all features from dataset: 100%|██████████████████████████████████████████████| 2/2 [00:04<00:00,  2.06s/it]\n",
      "extracting all features from dataset: 100%|██████████████████████████████████████████████| 1/1 [00:01<00:00,  1.52s/it]\n"
     ]
    },
    {
     "name": "stdout",
     "output_type": "stream",
     "text": [
      "----------------------------\n",
      "Train_z, Test_z\n",
      "PCA: 0.813\n",
      "SVD: 0.808\n",
      "NetG_fixD, Acc at sample 15 0.1291\n"
     ]
    },
    {
     "name": "stderr",
     "output_type": "stream",
     "text": [
      "extracting all features from dataset: 100%|██████████████████████████████████████████████| 2/2 [00:04<00:00,  2.13s/it]\n",
      "extracting all features from dataset: 100%|██████████████████████████████████████████████| 1/1 [00:01<00:00,  1.51s/it]\n"
     ]
    },
    {
     "name": "stdout",
     "output_type": "stream",
     "text": [
      "----------------------------\n",
      "Train_z, Test_z\n",
      "PCA: 0.8104\n",
      "SVD: 0.8069\n",
      "NetG_fixD, Acc at sample 16 0.1584\n"
     ]
    },
    {
     "name": "stderr",
     "output_type": "stream",
     "text": [
      "extracting all features from dataset: 100%|██████████████████████████████████████████████| 2/2 [00:04<00:00,  2.17s/it]\n",
      "extracting all features from dataset: 100%|██████████████████████████████████████████████| 1/1 [00:01<00:00,  1.55s/it]\n"
     ]
    },
    {
     "name": "stdout",
     "output_type": "stream",
     "text": [
      "----------------------------\n",
      "Train_z, Test_z\n",
      "PCA: 0.8121\n",
      "SVD: 0.8063\n",
      "NetG_fixD, Acc at sample 17 0.1008\n"
     ]
    },
    {
     "name": "stderr",
     "output_type": "stream",
     "text": [
      "extracting all features from dataset: 100%|██████████████████████████████████████████████| 2/2 [00:04<00:00,  2.01s/it]\n",
      "extracting all features from dataset: 100%|██████████████████████████████████████████████| 1/1 [00:01<00:00,  1.52s/it]\n"
     ]
    },
    {
     "name": "stdout",
     "output_type": "stream",
     "text": [
      "----------------------------\n",
      "Train_z, Test_z\n",
      "PCA: 0.8122\n",
      "SVD: 0.813\n",
      "NetG_fixD, Acc at sample 18 0.1143\n"
     ]
    },
    {
     "name": "stderr",
     "output_type": "stream",
     "text": [
      "extracting all features from dataset: 100%|██████████████████████████████████████████████| 2/2 [00:04<00:00,  2.12s/it]\n",
      "extracting all features from dataset: 100%|██████████████████████████████████████████████| 1/1 [00:01<00:00,  1.55s/it]\n"
     ]
    },
    {
     "name": "stdout",
     "output_type": "stream",
     "text": [
      "----------------------------\n",
      "Train_z, Test_z\n",
      "PCA: 0.8096\n",
      "SVD: 0.813\n",
      "NetG_fixD, Acc at sample 19 0.1334\n"
     ]
    },
    {
     "name": "stderr",
     "output_type": "stream",
     "text": [
      "extracting all features from dataset: 100%|██████████████████████████████████████████████| 2/2 [00:04<00:00,  2.06s/it]\n",
      "extracting all features from dataset: 100%|██████████████████████████████████████████████| 1/1 [00:01<00:00,  1.54s/it]\n"
     ]
    },
    {
     "name": "stdout",
     "output_type": "stream",
     "text": [
      "----------------------------\n",
      "Train_z, Test_z\n",
      "PCA: 0.8159\n",
      "SVD: 0.8110999999999999\n",
      "NetG_fixD, Acc at sample 20 0.14\n",
      "0.1747 0.0992 0.13414 0.0004344214000000001\n"
     ]
    }
   ],
   "source": [
    "# sample 50 times of NetG at final radius, NetD is fixed\n",
    "from sklearn.neighbors import KNeighborsClassifier \n",
    "Acc_results_G_sample8 = []\n",
    "\n",
    "for _ in range(sample_num):\n",
    "    #acc at first\n",
    "    net_noise = get_noise(DATASET, device, LABEL)\n",
    "    fed_state_dict = get_netG(netD,netV,net_noise,r_list[8])\n",
    "    netG.load_state_dict(fed_state_dict)\n",
    "    \n",
    "    train_X, train_Z, train_X_bar, train_Z_bar, train_labels = extract_features2(trainloader, netG, netD)\n",
    "\n",
    "    test_X, test_Z, test_X_bar, test_Z_bar, test_labels = extract_features2(testloader, netG, netD)\n",
    "\n",
    "    print(\"----------------------------\")\n",
    "    print(\"Train_z, Test_z\")\n",
    "    nearsub(n_comp, train_Z, train_labels, test_Z, test_labels)\n",
    "\n",
    "    knn= KNeighborsClassifier(n_neighbors=10) \n",
    "\n",
    "    knn.fit(train_Z,train_labels) \n",
    "    knn.score(test_Z_bar,test_labels) \n",
    "\n",
    "    y_predict = knn.predict(test_Z_bar) \n",
    "\n",
    "    count =0\n",
    "    for k in range(10000):\n",
    "        if y_predict[k] == test_labels[k]:\n",
    "            count +=1\n",
    "    print('NetG_fixD, Acc at sample',_+1,count/10000)\n",
    "    Acc_results_G_sample8.append(count/10000)\n",
    "    \n",
    "print(max(Acc_results_G_sample8),min(Acc_results_G_sample8),np.mean(Acc_results_G_sample8),np.var(Acc_results_G_sample8))"
   ]
  },
  {
   "cell_type": "code",
   "execution_count": 20,
   "id": "162a6f56",
   "metadata": {},
   "outputs": [
    {
     "name": "stderr",
     "output_type": "stream",
     "text": [
      "extracting all features from dataset: 100%|██████████████████████████████████████████████| 2/2 [00:04<00:00,  2.10s/it]\n",
      "extracting all features from dataset: 100%|██████████████████████████████████████████████| 1/1 [00:01<00:00,  1.58s/it]\n"
     ]
    },
    {
     "name": "stdout",
     "output_type": "stream",
     "text": [
      "----------------------------\n",
      "Train_z, Test_z\n",
      "PCA: 0.8108\n",
      "SVD: 0.8058\n",
      "NetG_fixD, Acc at sample 1 0.1158\n"
     ]
    },
    {
     "name": "stderr",
     "output_type": "stream",
     "text": [
      "extracting all features from dataset: 100%|██████████████████████████████████████████████| 2/2 [00:04<00:00,  2.09s/it]\n",
      "extracting all features from dataset: 100%|██████████████████████████████████████████████| 1/1 [00:01<00:00,  1.55s/it]\n"
     ]
    },
    {
     "name": "stdout",
     "output_type": "stream",
     "text": [
      "----------------------------\n",
      "Train_z, Test_z\n",
      "PCA: 0.8023\n",
      "SVD: 0.8015\n",
      "NetG_fixD, Acc at sample 2 0.101\n"
     ]
    },
    {
     "name": "stderr",
     "output_type": "stream",
     "text": [
      "extracting all features from dataset: 100%|██████████████████████████████████████████████| 2/2 [00:04<00:00,  2.10s/it]\n",
      "extracting all features from dataset: 100%|██████████████████████████████████████████████| 1/1 [00:01<00:00,  1.56s/it]\n"
     ]
    },
    {
     "name": "stdout",
     "output_type": "stream",
     "text": [
      "----------------------------\n",
      "Train_z, Test_z\n",
      "PCA: 0.8143\n",
      "SVD: 0.8114\n",
      "NetG_fixD, Acc at sample 3 0.1144\n"
     ]
    },
    {
     "name": "stderr",
     "output_type": "stream",
     "text": [
      "extracting all features from dataset: 100%|██████████████████████████████████████████████| 2/2 [00:04<00:00,  2.01s/it]\n",
      "extracting all features from dataset: 100%|██████████████████████████████████████████████| 1/1 [00:01<00:00,  1.55s/it]\n"
     ]
    },
    {
     "name": "stdout",
     "output_type": "stream",
     "text": [
      "----------------------------\n",
      "Train_z, Test_z\n",
      "PCA: 0.8089\n",
      "SVD: 0.8058\n",
      "NetG_fixD, Acc at sample 4 0.1059\n"
     ]
    },
    {
     "name": "stderr",
     "output_type": "stream",
     "text": [
      "extracting all features from dataset: 100%|██████████████████████████████████████████████| 2/2 [00:04<00:00,  2.19s/it]\n",
      "extracting all features from dataset: 100%|██████████████████████████████████████████████| 1/1 [00:01<00:00,  1.55s/it]\n"
     ]
    },
    {
     "name": "stdout",
     "output_type": "stream",
     "text": [
      "----------------------------\n",
      "Train_z, Test_z\n",
      "PCA: 0.8093\n",
      "SVD: 0.8086\n",
      "NetG_fixD, Acc at sample 5 0.0895\n"
     ]
    },
    {
     "name": "stderr",
     "output_type": "stream",
     "text": [
      "extracting all features from dataset: 100%|██████████████████████████████████████████████| 2/2 [00:04<00:00,  2.19s/it]\n",
      "extracting all features from dataset: 100%|██████████████████████████████████████████████| 1/1 [00:01<00:00,  1.52s/it]\n"
     ]
    },
    {
     "name": "stdout",
     "output_type": "stream",
     "text": [
      "----------------------------\n",
      "Train_z, Test_z\n",
      "PCA: 0.8096\n",
      "SVD: 0.8083\n",
      "NetG_fixD, Acc at sample 6 0.1011\n"
     ]
    },
    {
     "name": "stderr",
     "output_type": "stream",
     "text": [
      "extracting all features from dataset: 100%|██████████████████████████████████████████████| 2/2 [00:04<00:00,  2.10s/it]\n",
      "extracting all features from dataset: 100%|██████████████████████████████████████████████| 1/1 [00:01<00:00,  1.53s/it]\n"
     ]
    },
    {
     "name": "stdout",
     "output_type": "stream",
     "text": [
      "----------------------------\n",
      "Train_z, Test_z\n",
      "PCA: 0.817\n",
      "SVD: 0.8135\n",
      "NetG_fixD, Acc at sample 7 0.1086\n"
     ]
    },
    {
     "name": "stderr",
     "output_type": "stream",
     "text": [
      "extracting all features from dataset: 100%|██████████████████████████████████████████████| 2/2 [00:04<00:00,  2.09s/it]\n",
      "extracting all features from dataset: 100%|██████████████████████████████████████████████| 1/1 [00:01<00:00,  1.53s/it]\n"
     ]
    },
    {
     "name": "stdout",
     "output_type": "stream",
     "text": [
      "----------------------------\n",
      "Train_z, Test_z\n",
      "PCA: 0.8077\n",
      "SVD: 0.8043\n",
      "NetG_fixD, Acc at sample 8 0.0998\n"
     ]
    },
    {
     "name": "stderr",
     "output_type": "stream",
     "text": [
      "extracting all features from dataset: 100%|██████████████████████████████████████████████| 2/2 [00:04<00:00,  2.17s/it]\n",
      "extracting all features from dataset: 100%|██████████████████████████████████████████████| 1/1 [00:01<00:00,  1.52s/it]\n"
     ]
    },
    {
     "name": "stdout",
     "output_type": "stream",
     "text": [
      "----------------------------\n",
      "Train_z, Test_z\n",
      "PCA: 0.8075\n",
      "SVD: 0.8044\n",
      "NetG_fixD, Acc at sample 9 0.1225\n"
     ]
    },
    {
     "name": "stderr",
     "output_type": "stream",
     "text": [
      "extracting all features from dataset: 100%|██████████████████████████████████████████████| 2/2 [00:04<00:00,  2.15s/it]\n",
      "extracting all features from dataset: 100%|██████████████████████████████████████████████| 1/1 [00:01<00:00,  1.53s/it]\n"
     ]
    },
    {
     "name": "stdout",
     "output_type": "stream",
     "text": [
      "----------------------------\n",
      "Train_z, Test_z\n",
      "PCA: 0.8072\n",
      "SVD: 0.8041\n",
      "NetG_fixD, Acc at sample 10 0.1045\n"
     ]
    },
    {
     "name": "stderr",
     "output_type": "stream",
     "text": [
      "extracting all features from dataset: 100%|██████████████████████████████████████████████| 2/2 [00:04<00:00,  2.05s/it]\n",
      "extracting all features from dataset: 100%|██████████████████████████████████████████████| 1/1 [00:01<00:00,  1.57s/it]\n"
     ]
    },
    {
     "name": "stdout",
     "output_type": "stream",
     "text": [
      "----------------------------\n",
      "Train_z, Test_z\n",
      "PCA: 0.8085\n",
      "SVD: 0.8025\n",
      "NetG_fixD, Acc at sample 11 0.0983\n"
     ]
    },
    {
     "name": "stderr",
     "output_type": "stream",
     "text": [
      "extracting all features from dataset: 100%|██████████████████████████████████████████████| 2/2 [00:04<00:00,  2.15s/it]\n",
      "extracting all features from dataset: 100%|██████████████████████████████████████████████| 1/1 [00:01<00:00,  1.55s/it]\n"
     ]
    },
    {
     "name": "stdout",
     "output_type": "stream",
     "text": [
      "----------------------------\n",
      "Train_z, Test_z\n",
      "PCA: 0.8139000000000001\n",
      "SVD: 0.8067\n",
      "NetG_fixD, Acc at sample 12 0.0948\n"
     ]
    },
    {
     "name": "stderr",
     "output_type": "stream",
     "text": [
      "extracting all features from dataset: 100%|██████████████████████████████████████████████| 2/2 [00:04<00:00,  2.14s/it]\n",
      "extracting all features from dataset: 100%|██████████████████████████████████████████████| 1/1 [00:01<00:00,  1.55s/it]\n"
     ]
    },
    {
     "name": "stdout",
     "output_type": "stream",
     "text": [
      "----------------------------\n",
      "Train_z, Test_z\n",
      "PCA: 0.8109\n",
      "SVD: 0.8089999999999999\n",
      "NetG_fixD, Acc at sample 13 0.1167\n"
     ]
    },
    {
     "name": "stderr",
     "output_type": "stream",
     "text": [
      "extracting all features from dataset: 100%|██████████████████████████████████████████████| 2/2 [00:04<00:00,  2.16s/it]\n",
      "extracting all features from dataset: 100%|██████████████████████████████████████████████| 1/1 [00:01<00:00,  1.55s/it]\n"
     ]
    },
    {
     "name": "stdout",
     "output_type": "stream",
     "text": [
      "----------------------------\n",
      "Train_z, Test_z\n",
      "PCA: 0.8125\n",
      "SVD: 0.8112\n",
      "NetG_fixD, Acc at sample 14 0.0942\n"
     ]
    },
    {
     "name": "stderr",
     "output_type": "stream",
     "text": [
      "extracting all features from dataset: 100%|██████████████████████████████████████████████| 2/2 [00:04<00:00,  2.18s/it]\n",
      "extracting all features from dataset: 100%|██████████████████████████████████████████████| 1/1 [00:01<00:00,  1.54s/it]\n"
     ]
    },
    {
     "name": "stdout",
     "output_type": "stream",
     "text": [
      "----------------------------\n",
      "Train_z, Test_z\n",
      "PCA: 0.8094\n",
      "SVD: 0.8069\n",
      "NetG_fixD, Acc at sample 15 0.1196\n"
     ]
    },
    {
     "name": "stderr",
     "output_type": "stream",
     "text": [
      "extracting all features from dataset: 100%|██████████████████████████████████████████████| 2/2 [00:04<00:00,  2.04s/it]\n",
      "extracting all features from dataset: 100%|██████████████████████████████████████████████| 1/1 [00:01<00:00,  1.52s/it]\n"
     ]
    },
    {
     "name": "stdout",
     "output_type": "stream",
     "text": [
      "----------------------------\n",
      "Train_z, Test_z\n",
      "PCA: 0.8148\n",
      "SVD: 0.8108\n",
      "NetG_fixD, Acc at sample 16 0.1262\n"
     ]
    },
    {
     "name": "stderr",
     "output_type": "stream",
     "text": [
      "extracting all features from dataset: 100%|██████████████████████████████████████████████| 2/2 [00:04<00:00,  2.14s/it]\n",
      "extracting all features from dataset: 100%|██████████████████████████████████████████████| 1/1 [00:01<00:00,  1.54s/it]\n"
     ]
    },
    {
     "name": "stdout",
     "output_type": "stream",
     "text": [
      "----------------------------\n",
      "Train_z, Test_z\n",
      "PCA: 0.8071\n",
      "SVD: 0.8066\n",
      "NetG_fixD, Acc at sample 17 0.0865\n"
     ]
    },
    {
     "name": "stderr",
     "output_type": "stream",
     "text": [
      "extracting all features from dataset: 100%|██████████████████████████████████████████████| 2/2 [00:04<00:00,  2.08s/it]\n",
      "extracting all features from dataset: 100%|██████████████████████████████████████████████| 1/1 [00:01<00:00,  1.53s/it]\n"
     ]
    },
    {
     "name": "stdout",
     "output_type": "stream",
     "text": [
      "----------------------------\n",
      "Train_z, Test_z\n",
      "PCA: 0.8089\n",
      "SVD: 0.8102\n",
      "NetG_fixD, Acc at sample 18 0.1391\n"
     ]
    },
    {
     "name": "stderr",
     "output_type": "stream",
     "text": [
      "extracting all features from dataset: 100%|██████████████████████████████████████████████| 2/2 [00:04<00:00,  2.13s/it]\n",
      "extracting all features from dataset: 100%|██████████████████████████████████████████████| 1/1 [00:01<00:00,  1.51s/it]\n"
     ]
    },
    {
     "name": "stdout",
     "output_type": "stream",
     "text": [
      "----------------------------\n",
      "Train_z, Test_z\n",
      "PCA: 0.8049999999999999\n",
      "SVD: 0.8056\n",
      "NetG_fixD, Acc at sample 19 0.1078\n"
     ]
    },
    {
     "name": "stderr",
     "output_type": "stream",
     "text": [
      "extracting all features from dataset: 100%|██████████████████████████████████████████████| 2/2 [00:04<00:00,  2.15s/it]\n",
      "extracting all features from dataset: 100%|██████████████████████████████████████████████| 1/1 [00:01<00:00,  1.54s/it]\n"
     ]
    },
    {
     "name": "stdout",
     "output_type": "stream",
     "text": [
      "----------------------------\n",
      "Train_z, Test_z\n",
      "PCA: 0.8102\n",
      "SVD: 0.8084\n",
      "NetG_fixD, Acc at sample 20 0.1048\n",
      "0.1391 0.0865 0.107555 0.00016356047500000004\n"
     ]
    }
   ],
   "source": [
    "# sample 50 times of NetG at final radius, NetD is fixed\n",
    "from sklearn.neighbors import KNeighborsClassifier \n",
    "Acc_results_G_sample9 = []\n",
    "\n",
    "for _ in range(sample_num):\n",
    "    #acc at first\n",
    "    net_noise = get_noise(DATASET, device, LABEL)\n",
    "    fed_state_dict = get_netG(netD,netV,net_noise,r_list[9])\n",
    "    netG.load_state_dict(fed_state_dict)\n",
    "    \n",
    "    train_X, train_Z, train_X_bar, train_Z_bar, train_labels = extract_features2(trainloader, netG, netD)\n",
    "\n",
    "    test_X, test_Z, test_X_bar, test_Z_bar, test_labels = extract_features2(testloader, netG, netD)\n",
    "\n",
    "    print(\"----------------------------\")\n",
    "    print(\"Train_z, Test_z\")\n",
    "    nearsub(n_comp, train_Z, train_labels, test_Z, test_labels)\n",
    "\n",
    "    knn= KNeighborsClassifier(n_neighbors=10) \n",
    "\n",
    "    knn.fit(train_Z,train_labels) \n",
    "    knn.score(test_Z_bar,test_labels) \n",
    "\n",
    "    y_predict = knn.predict(test_Z_bar) \n",
    "\n",
    "    count =0\n",
    "    for k in range(10000):\n",
    "        if y_predict[k] == test_labels[k]:\n",
    "            count +=1\n",
    "    print('NetG_fixD, Acc at sample',_+1,count/10000)\n",
    "    Acc_results_G_sample9.append(count/10000)\n",
    "    \n",
    "print(max(Acc_results_G_sample9),min(Acc_results_G_sample9),np.mean(Acc_results_G_sample9),np.var(Acc_results_G_sample9))"
   ]
  },
  {
   "cell_type": "code",
   "execution_count": 21,
   "id": "4a83c92f",
   "metadata": {},
   "outputs": [
    {
     "name": "stderr",
     "output_type": "stream",
     "text": [
      "extracting all features from dataset: 100%|██████████████████████████████████████████████| 2/2 [00:04<00:00,  2.14s/it]\n",
      "extracting all features from dataset: 100%|██████████████████████████████████████████████| 1/1 [00:01<00:00,  1.55s/it]\n"
     ]
    },
    {
     "name": "stdout",
     "output_type": "stream",
     "text": [
      "----------------------------\n",
      "Train_z, Test_z\n",
      "PCA: 0.8143\n",
      "SVD: 0.8091\n",
      "NetG_fixD, Acc at sample 1 0.1077\n"
     ]
    },
    {
     "name": "stderr",
     "output_type": "stream",
     "text": [
      "extracting all features from dataset: 100%|██████████████████████████████████████████████| 2/2 [00:04<00:00,  2.11s/it]\n",
      "extracting all features from dataset: 100%|██████████████████████████████████████████████| 1/1 [00:01<00:00,  1.54s/it]\n"
     ]
    },
    {
     "name": "stdout",
     "output_type": "stream",
     "text": [
      "----------------------------\n",
      "Train_z, Test_z\n",
      "PCA: 0.8013\n",
      "SVD: 0.8016\n",
      "NetG_fixD, Acc at sample 2 0.0848\n"
     ]
    },
    {
     "name": "stderr",
     "output_type": "stream",
     "text": [
      "extracting all features from dataset: 100%|██████████████████████████████████████████████| 2/2 [00:04<00:00,  2.09s/it]\n",
      "extracting all features from dataset: 100%|██████████████████████████████████████████████| 1/1 [00:01<00:00,  1.52s/it]\n"
     ]
    },
    {
     "name": "stdout",
     "output_type": "stream",
     "text": [
      "----------------------------\n",
      "Train_z, Test_z\n",
      "PCA: 0.8087\n",
      "SVD: 0.8082\n",
      "NetG_fixD, Acc at sample 3 0.1123\n"
     ]
    },
    {
     "name": "stderr",
     "output_type": "stream",
     "text": [
      "extracting all features from dataset: 100%|██████████████████████████████████████████████| 2/2 [00:04<00:00,  2.14s/it]\n",
      "extracting all features from dataset: 100%|██████████████████████████████████████████████| 1/1 [00:01<00:00,  1.55s/it]\n"
     ]
    },
    {
     "name": "stdout",
     "output_type": "stream",
     "text": [
      "----------------------------\n",
      "Train_z, Test_z\n",
      "PCA: 0.8132\n",
      "SVD: 0.8065\n",
      "NetG_fixD, Acc at sample 4 0.0852\n"
     ]
    },
    {
     "name": "stderr",
     "output_type": "stream",
     "text": [
      "extracting all features from dataset: 100%|██████████████████████████████████████████████| 2/2 [00:04<00:00,  2.06s/it]\n",
      "extracting all features from dataset: 100%|██████████████████████████████████████████████| 1/1 [00:01<00:00,  1.56s/it]\n"
     ]
    },
    {
     "name": "stdout",
     "output_type": "stream",
     "text": [
      "----------------------------\n",
      "Train_z, Test_z\n",
      "PCA: 0.8072\n",
      "SVD: 0.8045\n",
      "NetG_fixD, Acc at sample 5 0.0932\n"
     ]
    },
    {
     "name": "stderr",
     "output_type": "stream",
     "text": [
      "extracting all features from dataset: 100%|██████████████████████████████████████████████| 2/2 [00:04<00:00,  2.15s/it]\n",
      "extracting all features from dataset: 100%|██████████████████████████████████████████████| 1/1 [00:01<00:00,  1.54s/it]\n"
     ]
    },
    {
     "name": "stdout",
     "output_type": "stream",
     "text": [
      "----------------------------\n",
      "Train_z, Test_z\n",
      "PCA: 0.8082\n",
      "SVD: 0.8028\n",
      "NetG_fixD, Acc at sample 6 0.0867\n"
     ]
    },
    {
     "name": "stderr",
     "output_type": "stream",
     "text": [
      "extracting all features from dataset: 100%|██████████████████████████████████████████████| 2/2 [00:04<00:00,  2.15s/it]\n",
      "extracting all features from dataset: 100%|██████████████████████████████████████████████| 1/1 [00:01<00:00,  1.56s/it]\n"
     ]
    },
    {
     "name": "stdout",
     "output_type": "stream",
     "text": [
      "----------------------------\n",
      "Train_z, Test_z\n",
      "PCA: 0.8118\n",
      "SVD: 0.8089999999999999\n",
      "NetG_fixD, Acc at sample 7 0.0823\n"
     ]
    },
    {
     "name": "stderr",
     "output_type": "stream",
     "text": [
      "extracting all features from dataset: 100%|██████████████████████████████████████████████| 2/2 [00:04<00:00,  2.05s/it]\n",
      "extracting all features from dataset: 100%|██████████████████████████████████████████████| 1/1 [00:01<00:00,  1.56s/it]\n"
     ]
    },
    {
     "name": "stdout",
     "output_type": "stream",
     "text": [
      "----------------------------\n",
      "Train_z, Test_z\n",
      "PCA: 0.806\n",
      "SVD: 0.8017\n",
      "NetG_fixD, Acc at sample 8 0.0868\n"
     ]
    },
    {
     "name": "stderr",
     "output_type": "stream",
     "text": [
      "extracting all features from dataset: 100%|██████████████████████████████████████████████| 2/2 [00:04<00:00,  2.10s/it]\n",
      "extracting all features from dataset: 100%|██████████████████████████████████████████████| 1/1 [00:01<00:00,  1.54s/it]\n"
     ]
    },
    {
     "name": "stdout",
     "output_type": "stream",
     "text": [
      "----------------------------\n",
      "Train_z, Test_z\n",
      "PCA: 0.8075\n",
      "SVD: 0.8023\n",
      "NetG_fixD, Acc at sample 9 0.1387\n"
     ]
    },
    {
     "name": "stderr",
     "output_type": "stream",
     "text": [
      "extracting all features from dataset: 100%|██████████████████████████████████████████████| 2/2 [00:04<00:00,  2.13s/it]\n",
      "extracting all features from dataset: 100%|██████████████████████████████████████████████| 1/1 [00:01<00:00,  1.53s/it]\n"
     ]
    },
    {
     "name": "stdout",
     "output_type": "stream",
     "text": [
      "----------------------------\n",
      "Train_z, Test_z\n",
      "PCA: 0.8088\n",
      "SVD: 0.8093\n",
      "NetG_fixD, Acc at sample 10 0.1198\n"
     ]
    },
    {
     "name": "stderr",
     "output_type": "stream",
     "text": [
      "extracting all features from dataset: 100%|██████████████████████████████████████████████| 2/2 [00:04<00:00,  2.12s/it]\n",
      "extracting all features from dataset: 100%|██████████████████████████████████████████████| 1/1 [00:01<00:00,  1.52s/it]\n"
     ]
    },
    {
     "name": "stdout",
     "output_type": "stream",
     "text": [
      "----------------------------\n",
      "Train_z, Test_z\n",
      "PCA: 0.8033\n",
      "SVD: 0.8061\n",
      "NetG_fixD, Acc at sample 11 0.1166\n"
     ]
    },
    {
     "name": "stderr",
     "output_type": "stream",
     "text": [
      "extracting all features from dataset: 100%|██████████████████████████████████████████████| 2/2 [00:04<00:00,  2.09s/it]\n",
      "extracting all features from dataset: 100%|██████████████████████████████████████████████| 1/1 [00:01<00:00,  1.54s/it]\n"
     ]
    },
    {
     "name": "stdout",
     "output_type": "stream",
     "text": [
      "----------------------------\n",
      "Train_z, Test_z\n",
      "PCA: 0.8064\n",
      "SVD: 0.8047\n",
      "NetG_fixD, Acc at sample 12 0.1167\n"
     ]
    },
    {
     "name": "stderr",
     "output_type": "stream",
     "text": [
      "extracting all features from dataset: 100%|██████████████████████████████████████████████| 2/2 [00:04<00:00,  2.13s/it]\n",
      "extracting all features from dataset: 100%|██████████████████████████████████████████████| 1/1 [00:01<00:00,  1.56s/it]\n"
     ]
    },
    {
     "name": "stdout",
     "output_type": "stream",
     "text": [
      "----------------------------\n",
      "Train_z, Test_z\n",
      "PCA: 0.8160000000000001\n",
      "SVD: 0.8068\n",
      "NetG_fixD, Acc at sample 13 0.0959\n"
     ]
    },
    {
     "name": "stderr",
     "output_type": "stream",
     "text": [
      "extracting all features from dataset: 100%|██████████████████████████████████████████████| 2/2 [00:04<00:00,  2.06s/it]\n",
      "extracting all features from dataset: 100%|██████████████████████████████████████████████| 1/1 [00:01<00:00,  1.54s/it]\n"
     ]
    },
    {
     "name": "stdout",
     "output_type": "stream",
     "text": [
      "----------------------------\n",
      "Train_z, Test_z\n",
      "PCA: 0.8058\n",
      "SVD: 0.8045\n",
      "NetG_fixD, Acc at sample 14 0.0935\n"
     ]
    },
    {
     "name": "stderr",
     "output_type": "stream",
     "text": [
      "extracting all features from dataset: 100%|██████████████████████████████████████████████| 2/2 [00:04<00:00,  2.07s/it]\n",
      "extracting all features from dataset: 100%|██████████████████████████████████████████████| 1/1 [00:01<00:00,  1.57s/it]\n"
     ]
    },
    {
     "name": "stdout",
     "output_type": "stream",
     "text": [
      "----------------------------\n",
      "Train_z, Test_z\n",
      "PCA: 0.8117\n",
      "SVD: 0.8087\n",
      "NetG_fixD, Acc at sample 15 0.104\n"
     ]
    },
    {
     "name": "stderr",
     "output_type": "stream",
     "text": [
      "extracting all features from dataset: 100%|██████████████████████████████████████████████| 2/2 [00:04<00:00,  2.12s/it]\n",
      "extracting all features from dataset: 100%|██████████████████████████████████████████████| 1/1 [00:01<00:00,  1.55s/it]\n"
     ]
    },
    {
     "name": "stdout",
     "output_type": "stream",
     "text": [
      "----------------------------\n",
      "Train_z, Test_z\n",
      "PCA: 0.8029\n",
      "SVD: 0.8002\n",
      "NetG_fixD, Acc at sample 16 0.1043\n"
     ]
    },
    {
     "name": "stderr",
     "output_type": "stream",
     "text": [
      "extracting all features from dataset: 100%|██████████████████████████████████████████████| 2/2 [00:04<00:00,  2.12s/it]\n",
      "extracting all features from dataset: 100%|██████████████████████████████████████████████| 1/1 [00:01<00:00,  1.56s/it]\n"
     ]
    },
    {
     "name": "stdout",
     "output_type": "stream",
     "text": [
      "----------------------------\n",
      "Train_z, Test_z\n",
      "PCA: 0.8133\n",
      "SVD: 0.8076\n",
      "NetG_fixD, Acc at sample 17 0.0958\n"
     ]
    },
    {
     "name": "stderr",
     "output_type": "stream",
     "text": [
      "extracting all features from dataset: 100%|██████████████████████████████████████████████| 2/2 [00:04<00:00,  2.09s/it]\n",
      "extracting all features from dataset: 100%|██████████████████████████████████████████████| 1/1 [00:01<00:00,  1.54s/it]\n"
     ]
    },
    {
     "name": "stdout",
     "output_type": "stream",
     "text": [
      "----------------------------\n",
      "Train_z, Test_z\n",
      "PCA: 0.8134\n",
      "SVD: 0.8097\n",
      "NetG_fixD, Acc at sample 18 0.1054\n"
     ]
    },
    {
     "name": "stderr",
     "output_type": "stream",
     "text": [
      "extracting all features from dataset: 100%|██████████████████████████████████████████████| 2/2 [00:04<00:00,  2.18s/it]\n",
      "extracting all features from dataset: 100%|██████████████████████████████████████████████| 1/1 [00:01<00:00,  1.53s/it]\n"
     ]
    },
    {
     "name": "stdout",
     "output_type": "stream",
     "text": [
      "----------------------------\n",
      "Train_z, Test_z\n",
      "PCA: 0.8114\n",
      "SVD: 0.8085\n",
      "NetG_fixD, Acc at sample 19 0.0956\n"
     ]
    },
    {
     "name": "stderr",
     "output_type": "stream",
     "text": [
      "extracting all features from dataset: 100%|██████████████████████████████████████████████| 2/2 [00:04<00:00,  2.02s/it]\n",
      "extracting all features from dataset: 100%|██████████████████████████████████████████████| 1/1 [00:01<00:00,  1.55s/it]\n"
     ]
    },
    {
     "name": "stdout",
     "output_type": "stream",
     "text": [
      "----------------------------\n",
      "Train_z, Test_z\n",
      "PCA: 0.812\n",
      "SVD: 0.8071\n",
      "NetG_fixD, Acc at sample 20 0.1329\n",
      "0.1387 0.0823 0.10290999999999999 0.0002444129\n"
     ]
    }
   ],
   "source": [
    "# sample 50 times of NetG at final radius, NetD is fixed\n",
    "from sklearn.neighbors import KNeighborsClassifier \n",
    "Acc_results_G_sample10 = []\n",
    "\n",
    "for _ in range(sample_num):\n",
    "    #acc at first\n",
    "    net_noise = get_noise(DATASET, device, LABEL)\n",
    "    fed_state_dict = get_netG(netD,netV,net_noise,r_list[10])\n",
    "    netG.load_state_dict(fed_state_dict)\n",
    "    \n",
    "    train_X, train_Z, train_X_bar, train_Z_bar, train_labels = extract_features2(trainloader, netG, netD)\n",
    "\n",
    "    test_X, test_Z, test_X_bar, test_Z_bar, test_labels = extract_features2(testloader, netG, netD)\n",
    "\n",
    "    print(\"----------------------------\")\n",
    "    print(\"Train_z, Test_z\")\n",
    "    nearsub(n_comp, train_Z, train_labels, test_Z, test_labels)\n",
    "\n",
    "    knn= KNeighborsClassifier(n_neighbors=10) \n",
    "\n",
    "    knn.fit(train_Z,train_labels) \n",
    "    knn.score(test_Z_bar,test_labels) \n",
    "\n",
    "    y_predict = knn.predict(test_Z_bar) \n",
    "\n",
    "    count =0\n",
    "    for k in range(10000):\n",
    "        if y_predict[k] == test_labels[k]:\n",
    "            count +=1\n",
    "    print('NetG_fixD, Acc at sample',_+1,count/10000)\n",
    "    Acc_results_G_sample10.append(count/10000)\n",
    "    \n",
    "print(max(Acc_results_G_sample10),min(Acc_results_G_sample10),np.mean(Acc_results_G_sample10),np.var(Acc_results_G_sample10))"
   ]
  },
  {
   "cell_type": "code",
   "execution_count": null,
   "id": "1f730cf2",
   "metadata": {},
   "outputs": [],
   "source": []
  }
 ],
 "metadata": {
  "kernelspec": {
   "display_name": "Python 3 (ipykernel)",
   "language": "python",
   "name": "python3"
  },
  "language_info": {
   "codemirror_mode": {
    "name": "ipython",
    "version": 3
   },
   "file_extension": ".py",
   "mimetype": "text/x-python",
   "name": "python",
   "nbconvert_exporter": "python",
   "pygments_lexer": "ipython3",
   "version": "3.7.16"
  }
 },
 "nbformat": 4,
 "nbformat_minor": 5
}
