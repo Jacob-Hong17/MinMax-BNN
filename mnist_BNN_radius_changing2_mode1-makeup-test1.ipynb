{
 "cells": [
  {
   "cell_type": "code",
   "execution_count": 1,
   "id": "95b64f9b",
   "metadata": {},
   "outputs": [],
   "source": [
    "# all codes come are changed based on LDR code.\n",
    "# 用添加噪声的数据进行训练\n",
    "import argparse\n",
    "import torch.optim as optim\n",
    "import os\n",
    "import yaml\n",
    "from mcrgan.default import _C as config\n",
    "from mcrgan.default import update_config\n",
    "import torch\n",
    "from mcrgan.trainer import MCRTrainer\n",
    "from mcrgan.datasets import get_dataloader\n",
    "from mcrgan.models import get_models\n",
    "from mcrgan.models import get_BNN_models\n",
    "from mcrgan.models import get_noise\n",
    "from mcrgan.models import get_noise_uniform\n",
    "from mcrgan.models import DiscriminatorMNIST\n",
    "from mcrgan.models import weights_init_mnist_model_noise\n",
    "\n",
    "import numpy as np\n",
    "import torch\n",
    "import argparse\n",
    "from mcrgan.datasets import get_dataloader\n",
    "from mcrgan.models import get_models\n",
    "from mcrgan.default import _C as config\n",
    "from mcrgan.default import update_config\n",
    "from utils.utils import sort_dataset, compute_accuracy, extract_features\n",
    "from sklearn.decomposition import PCA\n",
    "from sklearn.decomposition import TruncatedSVD\n",
    "import torchvision.transforms as transforms\n",
    "import torchvision.datasets as datasets\n",
    "from tqdm import tqdm\n",
    "import os\n",
    "from mcrgan.loss import MCRGANloss\n",
    "import random\n",
    "random.seed(0)"
   ]
  },
  {
   "cell_type": "code",
   "execution_count": 2,
   "id": "806b2e2c",
   "metadata": {},
   "outputs": [],
   "source": [
    "# 导入mnist数据集，进行对比\n",
    "device = torch.device('cuda' if torch.cuda.is_available() else \"cpu\")\n",
    "DATASET = 'mnist'\n",
    "ROOT    = 'pth/to/the/dataset'\n",
    "BATCH_SIZE = 2048\n",
    "WORKERS = 8\n",
    "DATA_SAMPLE = 50000\n",
    "LABEL = 0\n",
    "\n",
    "dataloader, dataset = get_dataloader(\n",
    "        data_name=DATASET,\n",
    "        root=ROOT,\n",
    "        batch_size=BATCH_SIZE,\n",
    "        num_workers=WORKERS)"
   ]
  },
  {
   "cell_type": "code",
   "execution_count": 3,
   "id": "08feb6b9",
   "metadata": {},
   "outputs": [],
   "source": [
    "import collections\n",
    "\n",
    "def get_netG(netD,netV,net_noise,radius=1):\n",
    "    models = [netD, netV,net_noise]\n",
    "    worker_state_dict = [x.state_dict() for x in models]\n",
    "    weight_keys = list(worker_state_dict[0].keys())\n",
    "    fed_state_dict = collections.OrderedDict()\n",
    "    for key in weight_keys:\n",
    "        fed_state_dict[key] = worker_state_dict[0][key] + radius*worker_state_dict[2][key]*torch.log(1+torch.exp(worker_state_dict[1][key]))\n",
    "    return fed_state_dict\n",
    "\n",
    "# new netG already optimized by adam and time learning rate, so we only using netG to update netV\n",
    "def update_netV(netV,netG,net_noise,fed_state_dict,radius=1):\n",
    "    models =[netV,netG,net_noise]\n",
    "    worker_state_dict = [x.state_dict() for x in models]\n",
    "    weight_keys = list(worker_state_dict[0].keys())\n",
    "    update_dict = collections.OrderedDict()\n",
    "    for key in weight_keys:\n",
    "        update_dict[key] = worker_state_dict[0][key] - (worker_state_dict[1][key]-fed_state_dict[key])*(worker_state_dict[2][key]*radius)/torch.log(1+torch.exp(-worker_state_dict[0][key]))\n",
    "    return update_dict\n",
    "\n",
    "# generate different distribution via gaussian init and uniform\n",
    "def get_cauchy_noise(netD,net_noise1,net_noise2):\n",
    "    models =[netD,net_noise1, net_noise2]\n",
    "    worker_state_dict = [x.state_dict() for x in models]\n",
    "    weight_keys = list(worker_state_dict[0].keys())\n",
    "    update_dict = collections.OrderedDict()\n",
    "    for key in weight_keys:\n",
    "        update_dict[key] = worker_state_dict[1][key] / worker_state_dict[2][key]\n",
    "    return update_dict\n",
    "        "
   ]
  },
  {
   "cell_type": "code",
   "execution_count": 4,
   "id": "bd8022df",
   "metadata": {},
   "outputs": [],
   "source": [
    "#models\n",
    "# train hyperparameters, batch norm not used var\n",
    "#store_Var = []\n",
    "import time\n",
    "from torch_mimicry.training import scheduler, logger, metric_log\n",
    "\n",
    "from test_acc import nearsub\n",
    "import numpy as np\n",
    "import torch\n",
    "import argparse\n",
    "from mcrgan.datasets import get_dataloader\n",
    "from mcrgan.models import get_models\n",
    "from mcrgan.default import _C as config\n",
    "from mcrgan.default import update_config\n",
    "from utils.utils import sort_dataset, compute_accuracy, extract_features2\n",
    "from sklearn.decomposition import PCA\n",
    "from sklearn.decomposition import TruncatedSVD\n",
    "import torchvision.transforms as transforms\n",
    "import torchvision.datasets as datasets\n",
    "from tqdm import tqdm\n",
    "import os\n",
    "\n",
    "start_time = time.time()\n",
    "#global_step = 0\n",
    "epsilon_noise = 0.1\n",
    "num_steps = 1000\n",
    "n_dis = 1\n",
    "n_dis2 = 1\n",
    "numclasses =10\n",
    "lr1 = 1e-3\n",
    "lr2 = 1e-3\n",
    "log_data = metric_log.MetricLog()\n",
    "data_time = time.time()\n",
    "iter_dataloader = iter(dataloader)\n",
    "data, label = next(iter_dataloader)\n",
    "data_time = time.time() - data_time\n",
    "real_cpu = data.to(device)\n",
    "real_label = label.clone().detach()\n",
    "\n",
    "netD, netG, netV = get_BNN_models(DATASET, device, LABEL)\n",
    "net_noise = get_noise(DATASET, device, LABEL)\n",
    "fed_state_dict = get_netG(netD,netV,net_noise)\n",
    "netG.load_state_dict(fed_state_dict)\n",
    "optD = optim.Adam(netD.parameters(), lr1, betas=(0.5, 0.999))\n",
    "optG = optim.Adam(netG.parameters(), lr2, betas=(0.5, 0.999))\n",
    "\n",
    "Acc_results_D = []\n",
    "Acc_results_G = []\n",
    "\n",
    "\n",
    "transform = transforms.Compose(\n",
    "            [transforms.Resize(32),\n",
    "             transforms.ToTensor(),\n",
    "             transforms.Normalize(0.5, 0.5)])\n",
    "\n",
    "trainset = datasets.MNIST(root=ROOT, train=True, download=True, transform=transform)\n",
    "testset = datasets.MNIST(root=ROOT, train=False, download=True, transform=transform)\n",
    "\n",
    "testloader = torch.utils.data.DataLoader(\n",
    "        testset, batch_size=DATA_SAMPLE, shuffle=False, num_workers=WORKERS)\n",
    "\n",
    "trainloader = torch.utils.data.DataLoader(\n",
    "        trainset, batch_size=DATA_SAMPLE, shuffle=False, num_workers=WORKERS)\n",
    "device = torch.device('cuda' if torch.cuda.is_available() else \"cpu\")\n",
    "n_comp = 10\n"
   ]
  },
  {
   "cell_type": "code",
   "execution_count": 5,
   "id": "dd6bcdad",
   "metadata": {},
   "outputs": [],
   "source": [
    "# golden search algorithm to determined the radius of the sample ball, due to traditional updating netV is too slow\n",
    "# no meaning for n_dis =2 for our case, just to have output for every update\n",
    "# sample too much would arise cuda memory error\n",
    "def gs_radius(radius1,radius2,netD,real_cpu,real_label,tor=1e-3,n_dis=2,lam=0.618,mode=1,gam3=1):\n",
    "    mcr_gan_loss=MCRGANloss(gam1=1., gam2=1., gam3=gam3, eps=0.5, numclasses=numclasses, mode=mode, rho=None)\n",
    "    #optG = optim.Adam(netG.parameters(), lr2, betas=(0.5, 0.999))\n",
    "    \n",
    "    Z = netD(real_cpu)\n",
    "    net_noise = get_noise(DATASET, device, LABEL)\n",
    "    err1 = 0\n",
    "    err2 = 1000\n",
    "    while abs(err1 - err2)> tor or abs(radius1-radius2)>tor:\n",
    "        a1 = radius2 - lam*(radius2-radius1)\n",
    "        a2 = radius1 + lam*(radius2-radius1)\n",
    "        fed_state_dict = get_netG(netD,netV,net_noise,a1)\n",
    "        netG.load_state_dict(fed_state_dict)\n",
    "        Z_bar = netG(real_cpu)\n",
    "        errG1, errG_EC1 = mcr_gan_loss(Z, Z_bar, real_label, n_dis2 - 1, n_dis2)\n",
    "        err1 = errG1\n",
    "        \n",
    "        fed_state_dict = get_netG(netD,netV,net_noise,a2)\n",
    "        netG.load_state_dict(fed_state_dict)\n",
    "        Z_bar = netG(real_cpu)\n",
    "        errG2, errG_EC2 = mcr_gan_loss(Z, Z_bar, real_label, n_dis2 - 1, n_dis2)\n",
    "        err2 = errG2\n",
    "        \n",
    "        if err1 > err2:\n",
    "            radius1 = a1\n",
    "            a1 = a2\n",
    "            err1 = err2\n",
    "            a2 = radius1 + lam*(radius2-radius1)\n",
    "            fed_state_dict = get_netG(netD,netV,net_noise,a2)\n",
    "            netG.load_state_dict(fed_state_dict)\n",
    "            Z_bar = netG(real_cpu)\n",
    "            errG2, errG_EC2 = mcr_gan_loss(Z, Z_bar, real_label, n_dis2 - 1, n_dis2)\n",
    "            err2 = errG2\n",
    "            #print('r1',radius1)\n",
    "            #print(errG2, errG_EC2)\n",
    "        else:\n",
    "            radius2 = a2\n",
    "            a2 = a1\n",
    "            a1 = radius2 - lam*(radius2-radius1)\n",
    "            fed_state_dict = get_netG(netD,netV,net_noise,a1)\n",
    "            netG.load_state_dict(fed_state_dict)\n",
    "            Z_bar = netG(real_cpu)\n",
    "            errG1, errG_EC1 = mcr_gan_loss(Z, Z_bar, real_label, n_dis2 - 1, n_dis2)\n",
    "            err1 = errG1\n",
    "            #print('r2',radius2)\n",
    "            #print(errG1, errG_EC1)\n",
    "         \n",
    "    return radius1,radius2\n",
    "\n",
    "\n",
    "def gs_radius2(radius1,radius2, netD,real_cpu,real_label,tor=1e-3,n_dis=2,lam=0.618,mode=1,gam3=1):\n",
    "    mcr_gan_loss=MCRGANloss(gam1=1., gam2=1., gam3=gam3, eps=0.5, numclasses=numclasses, mode=mode, rho=None)\n",
    "    #optG = optim.Adam(netG.parameters(), lr2, betas=(0.5, 0.999))\n",
    "    \n",
    "    Z = netD(real_cpu)\n",
    "    net_noise = get_noise(DATASET, device, LABEL)\n",
    "    net_noise1 = get_noise(DATASET, device, LABEL)\n",
    "    net_noise_cauchy = get_cauchy_noise(netD,net_noise,net_noise1)\n",
    "    net_noise.load_state_dict(net_noise_cauchy)\n",
    "    #net_noise = get_noise(DATASET, device, LABEL)\n",
    "    err1 = 0\n",
    "    err2 = 1000\n",
    "    while abs(err1 - err2)> tor or abs(radius1-radius2)>tor:\n",
    "        a1 = radius2 - lam*(radius2-radius1)\n",
    "        a2 = radius1 + lam*(radius2-radius1)\n",
    "        fed_state_dict = get_netG(netD,netV,net_noise,a1)\n",
    "        netG.load_state_dict(fed_state_dict)\n",
    "        Z_bar = netG(real_cpu)\n",
    "        errG1, errG_EC1 = mcr_gan_loss(Z, Z_bar, real_label, n_dis2 - 1, n_dis2)\n",
    "        err1 = errG1\n",
    "        \n",
    "        fed_state_dict = get_netG(netD,netV,net_noise,a2)\n",
    "        netG.load_state_dict(fed_state_dict)\n",
    "        Z_bar = netG(real_cpu)\n",
    "        errG2, errG_EC2 = mcr_gan_loss(Z, Z_bar, real_label, n_dis2 - 1, n_dis2)\n",
    "        err2 = errG2\n",
    "        \n",
    "        if err1 > err2:\n",
    "            radius1 = a1\n",
    "            a1 = a2\n",
    "            err1 = err2\n",
    "            a2 = radius1 + lam*(radius2-radius1)\n",
    "            fed_state_dict = get_netG(netD,netV,net_noise,a2)\n",
    "            netG.load_state_dict(fed_state_dict)\n",
    "            Z_bar = netG(real_cpu)\n",
    "            errG2, errG_EC2 = mcr_gan_loss(Z, Z_bar, real_label, n_dis2 - 1, n_dis2)\n",
    "            err2 = errG2\n",
    "            #print('r1',radius1)\n",
    "            #print(errG2, errG_EC2)\n",
    "        else:\n",
    "            radius2 = a2\n",
    "            a2 = a1\n",
    "            a1 = radius2 - lam*(radius2-radius1)\n",
    "            fed_state_dict = get_netG(netD,netV,net_noise,a1)\n",
    "            netG.load_state_dict(fed_state_dict)\n",
    "            Z_bar = netG(real_cpu)\n",
    "            errG1, errG_EC1 = mcr_gan_loss(Z, Z_bar, real_label, n_dis2 - 1, n_dis2)\n",
    "            err1 = errG1\n",
    "            #print('r2',radius2)\n",
    "            #print(errG1, errG_EC1)\n",
    "         \n",
    "    return radius1,radius2\n",
    "\n",
    "def gs_radius3(radius1,radius2, netD,real_cpu,real_label,tor=1e-3,n_dis=2,lam=0.618,mode=1,gam3=1):\n",
    "    mcr_gan_loss=MCRGANloss(gam1=1., gam2=1., gam3=gam3, eps=0.5, numclasses=numclasses, mode=mode, rho=None)\n",
    "    #optG = optim.Adam(netG.parameters(), lr2, betas=(0.5, 0.999))\n",
    "    \n",
    "    Z = netD(real_cpu)\n",
    "    net_noise = get_noise_uniform(DATASET, device, LABEL)\n",
    "\n",
    "    #net_noise = get_noise(DATASET, device, LABEL)\n",
    "    err1 = 0\n",
    "    err2 = 1000\n",
    "    while abs(err1 - err2)> tor or abs(radius1-radius2)>tor:\n",
    "        a1 = radius2 - lam*(radius2-radius1)\n",
    "        a2 = radius1 + lam*(radius2-radius1)\n",
    "        fed_state_dict = get_netG(netD,netV,net_noise,a1)\n",
    "        netG.load_state_dict(fed_state_dict)\n",
    "        Z_bar = netG(real_cpu)\n",
    "        errG1, errG_EC1 = mcr_gan_loss(Z, Z_bar, real_label, n_dis2 - 1, n_dis2)\n",
    "        err1 = errG1\n",
    "        \n",
    "        fed_state_dict = get_netG(netD,netV,net_noise,a2)\n",
    "        netG.load_state_dict(fed_state_dict)\n",
    "        Z_bar = netG(real_cpu)\n",
    "        errG2, errG_EC2 = mcr_gan_loss(Z, Z_bar, real_label, n_dis2 - 1, n_dis2)\n",
    "        err2 = errG2\n",
    "        \n",
    "        if err1 > err2:\n",
    "            radius1 = a1\n",
    "            a1 = a2\n",
    "            err1 = err2\n",
    "            a2 = radius1 + lam*(radius2-radius1)\n",
    "            fed_state_dict = get_netG(netD,netV,net_noise,a2)\n",
    "            netG.load_state_dict(fed_state_dict)\n",
    "            Z_bar = netG(real_cpu)\n",
    "            errG2, errG_EC2 = mcr_gan_loss(Z, Z_bar, real_label, n_dis2 - 1, n_dis2)\n",
    "            err2 = errG2\n",
    "            #print('r1',radius1)\n",
    "            #print(errG2, errG_EC2)\n",
    "        else:\n",
    "            radius2 = a2\n",
    "            a2 = a1\n",
    "            a1 = radius2 - lam*(radius2-radius1)\n",
    "            fed_state_dict = get_netG(netD,netV,net_noise,a1)\n",
    "            netG.load_state_dict(fed_state_dict)\n",
    "            Z_bar = netG(real_cpu)\n",
    "            errG1, errG_EC1 = mcr_gan_loss(Z, Z_bar, real_label, n_dis2 - 1, n_dis2)\n",
    "            err1 = errG1\n",
    "            #print('r2',radius2)\n",
    "            #print(errG1, errG_EC1)\n",
    "         \n",
    "    return radius1,radius2"
   ]
  },
  {
   "cell_type": "code",
   "execution_count": 6,
   "id": "bcd14806",
   "metadata": {},
   "outputs": [
    {
     "name": "stderr",
     "output_type": "stream",
     "text": [
      "extracting all features from dataset: 100%|██████████████████████████████████████████████| 1/1 [00:02<00:00,  2.98s/it]\n",
      "extracting all features from dataset: 100%|██████████████████████████████████████████████| 1/1 [00:01<00:00,  1.66s/it]\n"
     ]
    },
    {
     "name": "stdout",
     "output_type": "stream",
     "text": [
      "----------------------------\n",
      "Train_z, Test_z\n",
      "PCA: 0.9379\n",
      "SVD: 0.9366\n",
      "NetD, Acc at first 0.938\n"
     ]
    },
    {
     "name": "stderr",
     "output_type": "stream",
     "text": [
      "extracting all features from dataset: 100%|██████████████████████████████████████████████| 2/2 [00:05<00:00,  2.75s/it]\n",
      "extracting all features from dataset: 100%|██████████████████████████████████████████████| 1/1 [00:01<00:00,  1.71s/it]\n"
     ]
    },
    {
     "name": "stdout",
     "output_type": "stream",
     "text": [
      "----------------------------\n",
      "Train_z, Test_z\n",
      "PCA: 0.9267\n",
      "SVD: 0.925\n",
      "NetG, Acc at first 0.9536\n"
     ]
    }
   ],
   "source": [
    "#acc at first for NetD\n",
    "train_X, train_Z, train_X_bar, train_Z_bar, train_labels = extract_features2(testloader, netD, netG)\n",
    "\n",
    "test_X, test_Z, test_X_bar, test_Z_bar, test_labels = extract_features2(testloader, netD, netG)\n",
    "\n",
    "\n",
    "print(\"----------------------------\")\n",
    "print(\"Train_z, Test_z\")\n",
    "nearsub(n_comp, train_Z, train_labels, test_Z, test_labels)\n",
    "\n",
    "#acc at first for NetD\n",
    "from sklearn.neighbors import KNeighborsClassifier \n",
    "knn= KNeighborsClassifier(n_neighbors=10) \n",
    "\n",
    "knn.fit(train_Z,train_labels) \n",
    "knn.score(test_Z,test_labels) \n",
    " \n",
    "y_predict = knn.predict(test_Z) \n",
    "\n",
    "count =0\n",
    "for k in range(10000):\n",
    "    if y_predict[k] == test_labels[k]:\n",
    "        count +=1\n",
    "print('NetD, Acc at first',count/10000)\n",
    "Acc_results_D.append(count/10000)\n",
    "\n",
    "#acc at first for NetG\n",
    "train_X, train_Z, train_X_bar, train_Z_bar, train_labels = extract_features2(trainloader, netG, netD)\n",
    "\n",
    "test_X, test_Z, test_X_bar, test_Z_bar, test_labels = extract_features2(testloader, netG, netD)\n",
    "\n",
    "print(\"----------------------------\")\n",
    "print(\"Train_z, Test_z\")\n",
    "nearsub(n_comp, train_Z, train_labels, test_Z, test_labels)\n",
    "\n",
    "\n",
    "#acc at first\n",
    "from sklearn.neighbors import KNeighborsClassifier \n",
    "knn= KNeighborsClassifier(n_neighbors=10) \n",
    "\n",
    "knn.fit(train_Z,train_labels) \n",
    "knn.score(test_Z,test_labels) \n",
    " \n",
    "y_predict = knn.predict(test_Z) \n",
    "\n",
    "count =0\n",
    "for k in range(10000):\n",
    "    if y_predict[k] == test_labels[k]:\n",
    "        count +=1\n",
    "print('NetG, Acc at first',count/10000)\n",
    "Acc_results_G.append(count/10000)"
   ]
  },
  {
   "cell_type": "code",
   "execution_count": 7,
   "id": "e0d6cae2",
   "metadata": {},
   "outputs": [
    {
     "name": "stdout",
     "output_type": "stream",
     "text": [
      "3.282375793727554\n",
      "tensor(-49.3840, device='cuda:0', grad_fn=<NegBackward0>) [tensor(-5.5551, device='cuda:0', grad_fn=<NegBackward0>), tensor(-4.5047, device='cuda:0', grad_fn=<NegBackward0>), tensor(-39.3242, device='cuda:0', grad_fn=<AddBackward0>)]\n",
      "6.488447413775416\n",
      "tensor(-43.7342, device='cuda:0', grad_fn=<NegBackward0>) [tensor(-2.8139, device='cuda:0', grad_fn=<NegBackward0>), tensor(-4.8866, device='cuda:0', grad_fn=<NegBackward0>), tensor(-36.0337, device='cuda:0', grad_fn=<AddBackward0>)]\n",
      "99.82392378319837\n",
      "tensor(-43.5383, device='cuda:0', grad_fn=<NegBackward0>) [tensor(-2.8139, device='cuda:0', grad_fn=<NegBackward0>), tensor(-4.8171, device='cuda:0', grad_fn=<NegBackward0>), tensor(-35.9073, device='cuda:0', grad_fn=<AddBackward0>)]\n",
      "5.344039752619411\n",
      "tensor(-64.6911, device='cuda:0', grad_fn=<NegBackward0>) [tensor(-7.1748, device='cuda:0', grad_fn=<NegBackward0>), tensor(-5.4032, device='cuda:0', grad_fn=<NegBackward0>), tensor(-52.1131, device='cuda:0', grad_fn=<AddBackward0>)]\n",
      "3.8205333949024785\n",
      "tensor(-66.8917, device='cuda:0', grad_fn=<NegBackward0>) [tensor(-7.1748, device='cuda:0', grad_fn=<NegBackward0>), tensor(-6.2763, device='cuda:0', grad_fn=<NegBackward0>), tensor(-53.4406, device='cuda:0', grad_fn=<AddBackward0>)]\n",
      "5.423148589524126\n",
      "tensor(-66.4926, device='cuda:0', grad_fn=<NegBackward0>) [tensor(-7.3024, device='cuda:0', grad_fn=<NegBackward0>), tensor(-5.5446, device='cuda:0', grad_fn=<NegBackward0>), tensor(-53.6457, device='cuda:0', grad_fn=<AddBackward0>)]\n",
      "4.6679619660578515\n",
      "tensor(-70.9865, device='cuda:0', grad_fn=<NegBackward0>) [tensor(-7.3024, device='cuda:0', grad_fn=<NegBackward0>), tensor(-6.7675, device='cuda:0', grad_fn=<NegBackward0>), tensor(-56.9166, device='cuda:0', grad_fn=<AddBackward0>)]\n",
      "56.50843091451363\n",
      "tensor(-75.0959, device='cuda:0', grad_fn=<NegBackward0>) [tensor(-9.1471, device='cuda:0', grad_fn=<NegBackward0>), tensor(-5.3724, device='cuda:0', grad_fn=<NegBackward0>), tensor(-60.5763, device='cuda:0', grad_fn=<AddBackward0>)]\n",
      "5.391165683725408\n",
      "tensor(-74.2559, device='cuda:0', grad_fn=<NegBackward0>) [tensor(-9.1471, device='cuda:0', grad_fn=<NegBackward0>), tensor(-5.5672, device='cuda:0', grad_fn=<NegBackward0>), tensor(-59.5416, device='cuda:0', grad_fn=<AddBackward0>)]\n",
      "99.98929168049867\n",
      "tensor(-79.9432, device='cuda:0', grad_fn=<NegBackward0>) [tensor(-9.8822, device='cuda:0', grad_fn=<NegBackward0>), tensor(-5.8034, device='cuda:0', grad_fn=<NegBackward0>), tensor(-64.2576, device='cuda:0', grad_fn=<AddBackward0>)]\n",
      "4.480202657651448\n",
      "tensor(-78.4737, device='cuda:0', grad_fn=<NegBackward0>) [tensor(-9.8822, device='cuda:0', grad_fn=<NegBackward0>), tensor(-5.7621, device='cuda:0', grad_fn=<NegBackward0>), tensor(-62.8294, device='cuda:0', grad_fn=<AddBackward0>)]\n",
      "23.071767772777452\n",
      "tensor(-81.1599, device='cuda:0', grad_fn=<NegBackward0>) [tensor(-10.7808, device='cuda:0', grad_fn=<NegBackward0>), tensor(-4.6317, device='cuda:0', grad_fn=<NegBackward0>), tensor(-65.7474, device='cuda:0', grad_fn=<AddBackward0>)]\n",
      "5.004841595302742\n",
      "tensor(-82.9257, device='cuda:0', grad_fn=<NegBackward0>) [tensor(-10.7808, device='cuda:0', grad_fn=<NegBackward0>), tensor(-5.8988, device='cuda:0', grad_fn=<NegBackward0>), tensor(-66.2460, device='cuda:0', grad_fn=<AddBackward0>)]\n",
      "4.2301240657062795\n",
      "tensor(-88.7736, device='cuda:0', grad_fn=<NegBackward0>) [tensor(-11.3339, device='cuda:0', grad_fn=<NegBackward0>), tensor(-7.7336, device='cuda:0', grad_fn=<NegBackward0>), tensor(-69.7061, device='cuda:0', grad_fn=<AddBackward0>)]\n",
      "96.63011105396785\n",
      "tensor(-82.3778, device='cuda:0', grad_fn=<NegBackward0>) [tensor(-11.3339, device='cuda:0', grad_fn=<NegBackward0>), tensor(-4.0900, device='cuda:0', grad_fn=<NegBackward0>), tensor(-66.9538, device='cuda:0', grad_fn=<AddBackward0>)]\n",
      "4.294531497061677\n",
      "tensor(-91.4435, device='cuda:0', grad_fn=<NegBackward0>) [tensor(-11.8169, device='cuda:0', grad_fn=<NegBackward0>), tensor(-8.3180, device='cuda:0', grad_fn=<NegBackward0>), tensor(-71.3086, device='cuda:0', grad_fn=<AddBackward0>)]\n",
      "4.745426723573208\n",
      "tensor(-86.3632, device='cuda:0', grad_fn=<NegBackward0>) [tensor(-11.8169, device='cuda:0', grad_fn=<NegBackward0>), tensor(-5.9677, device='cuda:0', grad_fn=<NegBackward0>), tensor(-68.5786, device='cuda:0', grad_fn=<AddBackward0>)]\n",
      "4.176329749390307\n",
      "tensor(-92.0599, device='cuda:0', grad_fn=<NegBackward0>) [tensor(-12.2492, device='cuda:0', grad_fn=<NegBackward0>), tensor(-7.8758, device='cuda:0', grad_fn=<NegBackward0>), tensor(-71.9349, device='cuda:0', grad_fn=<AddBackward0>)]\n",
      "4.260300465272114\n",
      "tensor(-88.2970, device='cuda:0', grad_fn=<NegBackward0>) [tensor(-12.2492, device='cuda:0', grad_fn=<NegBackward0>), tensor(-6.8926, device='cuda:0', grad_fn=<NegBackward0>), tensor(-69.1552, device='cuda:0', grad_fn=<AddBackward0>)]\n",
      "4.445545864164093\n",
      "tensor(-93.6835, device='cuda:0', grad_fn=<NegBackward0>) [tensor(-12.9794, device='cuda:0', grad_fn=<NegBackward0>), tensor(-7.9372, device='cuda:0', grad_fn=<NegBackward0>), tensor(-72.7669, device='cuda:0', grad_fn=<AddBackward0>)]\n",
      "4.372593014181479\n",
      "tensor(-91.6879, device='cuda:0', grad_fn=<NegBackward0>) [tensor(-12.9794, device='cuda:0', grad_fn=<NegBackward0>), tensor(-7.3220, device='cuda:0', grad_fn=<NegBackward0>), tensor(-71.3864, device='cuda:0', grad_fn=<AddBackward0>)]\n",
      "4.320363291177695\n",
      "tensor(-90.7111, device='cuda:0', grad_fn=<NegBackward0>) [tensor(-13.4933, device='cuda:0', grad_fn=<NegBackward0>), tensor(-6.3422, device='cuda:0', grad_fn=<NegBackward0>), tensor(-70.8755, device='cuda:0', grad_fn=<AddBackward0>)]\n",
      "4.304603071534016\n",
      "tensor(-91.4390, device='cuda:0', grad_fn=<NegBackward0>) [tensor(-13.4933, device='cuda:0', grad_fn=<NegBackward0>), tensor(-6.6619, device='cuda:0', grad_fn=<NegBackward0>), tensor(-71.2839, device='cuda:0', grad_fn=<AddBackward0>)]\n",
      "4.466560587976187\n",
      "tensor(-92.6701, device='cuda:0', grad_fn=<NegBackward0>) [tensor(-13.9375, device='cuda:0', grad_fn=<NegBackward0>), tensor(-6.5664, device='cuda:0', grad_fn=<NegBackward0>), tensor(-72.1662, device='cuda:0', grad_fn=<AddBackward0>)]\n",
      "4.595281610308871\n",
      "tensor(-95.1558, device='cuda:0', grad_fn=<NegBackward0>) [tensor(-13.9375, device='cuda:0', grad_fn=<NegBackward0>), tensor(-7.6691, device='cuda:0', grad_fn=<NegBackward0>), tensor(-73.5492, device='cuda:0', grad_fn=<AddBackward0>)]\n",
      "4.228231947313837\n",
      "tensor(-94.3831, device='cuda:0', grad_fn=<NegBackward0>) [tensor(-14.3084, device='cuda:0', grad_fn=<NegBackward0>), tensor(-7.1693, device='cuda:0', grad_fn=<NegBackward0>), tensor(-72.9054, device='cuda:0', grad_fn=<AddBackward0>)]\n",
      "5.019819347728403\n",
      "tensor(-93.6880, device='cuda:0', grad_fn=<NegBackward0>) [tensor(-14.3084, device='cuda:0', grad_fn=<NegBackward0>), tensor(-6.1173, device='cuda:0', grad_fn=<NegBackward0>), tensor(-73.2623, device='cuda:0', grad_fn=<AddBackward0>)]\n",
      "4.656077731985817\n",
      "tensor(-96.4666, device='cuda:0', grad_fn=<NegBackward0>) [tensor(-14.5777, device='cuda:0', grad_fn=<NegBackward0>), tensor(-7.6823, device='cuda:0', grad_fn=<NegBackward0>), tensor(-74.2067, device='cuda:0', grad_fn=<AddBackward0>)]\n",
      "4.283274292114414\n",
      "tensor(-98.8787, device='cuda:0', grad_fn=<NegBackward0>) [tensor(-14.5777, device='cuda:0', grad_fn=<NegBackward0>), tensor(-8.5498, device='cuda:0', grad_fn=<NegBackward0>), tensor(-75.7512, device='cuda:0', grad_fn=<AddBackward0>)]\n",
      "4.408046746943414\n",
      "tensor(-99.2150, device='cuda:0', grad_fn=<NegBackward0>) [tensor(-14.9676, device='cuda:0', grad_fn=<NegBackward0>), tensor(-8.1788, device='cuda:0', grad_fn=<NegBackward0>), tensor(-76.0686, device='cuda:0', grad_fn=<AddBackward0>)]\n",
      "5.058305558665332\n",
      "tensor(-97.3087, device='cuda:0', grad_fn=<NegBackward0>) [tensor(-14.9676, device='cuda:0', grad_fn=<NegBackward0>), tensor(-7.0004, device='cuda:0', grad_fn=<NegBackward0>), tensor(-75.3407, device='cuda:0', grad_fn=<AddBackward0>)]\n",
      "4.632350314433494\n",
      "tensor(-100.4324, device='cuda:0', grad_fn=<NegBackward0>) [tensor(-15.2416, device='cuda:0', grad_fn=<NegBackward0>), tensor(-8.4145, device='cuda:0', grad_fn=<NegBackward0>), tensor(-76.7764, device='cuda:0', grad_fn=<AddBackward0>)]\n",
      "4.887804185854826\n",
      "tensor(-94.9482, device='cuda:0', grad_fn=<NegBackward0>) [tensor(-15.2416, device='cuda:0', grad_fn=<NegBackward0>), tensor(-5.8650, device='cuda:0', grad_fn=<NegBackward0>), tensor(-73.8417, device='cuda:0', grad_fn=<AddBackward0>)]\n"
     ]
    },
    {
     "name": "stdout",
     "output_type": "stream",
     "text": [
      "4.767682891137489\n",
      "tensor(-98.8089, device='cuda:0', grad_fn=<NegBackward0>) [tensor(-15.5444, device='cuda:0', grad_fn=<NegBackward0>), tensor(-7.2608, device='cuda:0', grad_fn=<NegBackward0>), tensor(-76.0037, device='cuda:0', grad_fn=<AddBackward0>)]\n",
      "4.272326562444623\n",
      "tensor(-99.5626, device='cuda:0', grad_fn=<NegBackward0>) [tensor(-15.5444, device='cuda:0', grad_fn=<NegBackward0>), tensor(-8.1761, device='cuda:0', grad_fn=<NegBackward0>), tensor(-75.8421, device='cuda:0', grad_fn=<AddBackward0>)]\n",
      "4.316193392957392\n",
      "tensor(-95.9947, device='cuda:0', grad_fn=<NegBackward0>) [tensor(-15.8685, device='cuda:0', grad_fn=<NegBackward0>), tensor(-6.5227, device='cuda:0', grad_fn=<NegBackward0>), tensor(-73.6035, device='cuda:0', grad_fn=<AddBackward0>)]\n",
      "4.525807276443729\n",
      "tensor(-96.4676, device='cuda:0', grad_fn=<NegBackward0>) [tensor(-15.8685, device='cuda:0', grad_fn=<NegBackward0>), tensor(-6.6614, device='cuda:0', grad_fn=<NegBackward0>), tensor(-73.9377, device='cuda:0', grad_fn=<AddBackward0>)]\n",
      "4.493419173583986\n",
      "tensor(-99.6598, device='cuda:0', grad_fn=<NegBackward0>) [tensor(-16.1224, device='cuda:0', grad_fn=<NegBackward0>), tensor(-7.2198, device='cuda:0', grad_fn=<NegBackward0>), tensor(-76.3177, device='cuda:0', grad_fn=<AddBackward0>)]\n",
      "4.752893029350199\n",
      "tensor(-99.4612, device='cuda:0', grad_fn=<NegBackward0>) [tensor(-16.1224, device='cuda:0', grad_fn=<NegBackward0>), tensor(-7.1929, device='cuda:0', grad_fn=<NegBackward0>), tensor(-76.1460, device='cuda:0', grad_fn=<AddBackward0>)]\n",
      "5.112037204595058\n",
      "tensor(-102.7057, device='cuda:0', grad_fn=<NegBackward0>) [tensor(-16.3132, device='cuda:0', grad_fn=<NegBackward0>), tensor(-8.1765, device='cuda:0', grad_fn=<NegBackward0>), tensor(-78.2159, device='cuda:0', grad_fn=<AddBackward0>)]\n",
      "4.486664598898719\n",
      "tensor(-100.2254, device='cuda:0', grad_fn=<NegBackward0>) [tensor(-16.3132, device='cuda:0', grad_fn=<NegBackward0>), tensor(-8.0136, device='cuda:0', grad_fn=<NegBackward0>), tensor(-75.8986, device='cuda:0', grad_fn=<AddBackward0>)]\n",
      "4.621099912950416\n",
      "tensor(-99.8778, device='cuda:0', grad_fn=<NegBackward0>) [tensor(-16.5270, device='cuda:0', grad_fn=<NegBackward0>), tensor(-7.4745, device='cuda:0', grad_fn=<NegBackward0>), tensor(-75.8763, device='cuda:0', grad_fn=<AddBackward0>)]\n",
      "4.446457313963167\n",
      "tensor(-98.6222, device='cuda:0', grad_fn=<NegBackward0>) [tensor(-16.5270, device='cuda:0', grad_fn=<NegBackward0>), tensor(-7.1193, device='cuda:0', grad_fn=<NegBackward0>), tensor(-74.9759, device='cuda:0', grad_fn=<AddBackward0>)]\n",
      "4.640028458585327\n",
      "tensor(-101.9509, device='cuda:0', grad_fn=<NegBackward0>) [tensor(-16.8606, device='cuda:0', grad_fn=<NegBackward0>), tensor(-7.6532, device='cuda:0', grad_fn=<NegBackward0>), tensor(-77.4370, device='cuda:0', grad_fn=<AddBackward0>)]\n",
      "4.418528072524913\n",
      "tensor(-101.1474, device='cuda:0', grad_fn=<NegBackward0>) [tensor(-16.8606, device='cuda:0', grad_fn=<NegBackward0>), tensor(-7.7680, device='cuda:0', grad_fn=<NegBackward0>), tensor(-76.5188, device='cuda:0', grad_fn=<AddBackward0>)]\n",
      "5.0349942255894025\n",
      "tensor(-99.1511, device='cuda:0', grad_fn=<NegBackward0>) [tensor(-16.9223, device='cuda:0', grad_fn=<NegBackward0>), tensor(-6.4711, device='cuda:0', grad_fn=<NegBackward0>), tensor(-75.7577, device='cuda:0', grad_fn=<AddBackward0>)]\n",
      "4.657269004993109\n",
      "tensor(-99.4817, device='cuda:0', grad_fn=<NegBackward0>) [tensor(-16.9223, device='cuda:0', grad_fn=<NegBackward0>), tensor(-6.9469, device='cuda:0', grad_fn=<NegBackward0>), tensor(-75.6124, device='cuda:0', grad_fn=<AddBackward0>)]\n",
      "4.635664305321241\n",
      "tensor(-102.1906, device='cuda:0', grad_fn=<NegBackward0>) [tensor(-17.1760, device='cuda:0', grad_fn=<NegBackward0>), tensor(-7.7734, device='cuda:0', grad_fn=<NegBackward0>), tensor(-77.2412, device='cuda:0', grad_fn=<AddBackward0>)]\n",
      "4.521050418599569\n",
      "tensor(-104.2916, device='cuda:0', grad_fn=<NegBackward0>) [tensor(-17.1760, device='cuda:0', grad_fn=<NegBackward0>), tensor(-8.8205, device='cuda:0', grad_fn=<NegBackward0>), tensor(-78.2952, device='cuda:0', grad_fn=<AddBackward0>)]\n",
      "4.812971615816352\n",
      "tensor(-104.9664, device='cuda:0', grad_fn=<NegBackward0>) [tensor(-17.5066, device='cuda:0', grad_fn=<NegBackward0>), tensor(-8.5519, device='cuda:0', grad_fn=<NegBackward0>), tensor(-78.9079, device='cuda:0', grad_fn=<AddBackward0>)]\n",
      "4.443618686858152\n",
      "tensor(-101.7317, device='cuda:0', grad_fn=<NegBackward0>) [tensor(-17.5066, device='cuda:0', grad_fn=<NegBackward0>), tensor(-7.8242, device='cuda:0', grad_fn=<NegBackward0>), tensor(-76.4009, device='cuda:0', grad_fn=<AddBackward0>)]\n",
      "4.446547150439361\n",
      "tensor(-102.3869, device='cuda:0', grad_fn=<NegBackward0>) [tensor(-17.7397, device='cuda:0', grad_fn=<NegBackward0>), tensor(-7.9415, device='cuda:0', grad_fn=<NegBackward0>), tensor(-76.7058, device='cuda:0', grad_fn=<AddBackward0>)]\n",
      "4.471732811593618\n",
      "tensor(-103.4494, device='cuda:0', grad_fn=<NegBackward0>) [tensor(-17.7397, device='cuda:0', grad_fn=<NegBackward0>), tensor(-8.5244, device='cuda:0', grad_fn=<NegBackward0>), tensor(-77.1853, device='cuda:0', grad_fn=<AddBackward0>)]\n",
      "4.434868008336233\n",
      "tensor(-101.7757, device='cuda:0', grad_fn=<NegBackward0>) [tensor(-17.9946, device='cuda:0', grad_fn=<NegBackward0>), tensor(-7.7379, device='cuda:0', grad_fn=<NegBackward0>), tensor(-76.0432, device='cuda:0', grad_fn=<AddBackward0>)]\n",
      "5.1876749330332546\n",
      "tensor(-101.5724, device='cuda:0', grad_fn=<NegBackward0>) [tensor(-17.9946, device='cuda:0', grad_fn=<NegBackward0>), tensor(-6.8179, device='cuda:0', grad_fn=<NegBackward0>), tensor(-76.7599, device='cuda:0', grad_fn=<AddBackward0>)]\n",
      "4.869041107430258\n",
      "tensor(-103.5700, device='cuda:0', grad_fn=<NegBackward0>) [tensor(-18.2527, device='cuda:0', grad_fn=<NegBackward0>), tensor(-7.5371, device='cuda:0', grad_fn=<NegBackward0>), tensor(-77.7802, device='cuda:0', grad_fn=<AddBackward0>)]\n",
      "4.770801141825839\n",
      "tensor(-105.3597, device='cuda:0', grad_fn=<NegBackward0>) [tensor(-18.2527, device='cuda:0', grad_fn=<NegBackward0>), tensor(-8.5850, device='cuda:0', grad_fn=<NegBackward0>), tensor(-78.5221, device='cuda:0', grad_fn=<AddBackward0>)]\n",
      "4.688521609157553\n",
      "tensor(-103.4476, device='cuda:0', grad_fn=<NegBackward0>) [tensor(-18.5387, device='cuda:0', grad_fn=<NegBackward0>), tensor(-7.2553, device='cuda:0', grad_fn=<NegBackward0>), tensor(-77.6536, device='cuda:0', grad_fn=<AddBackward0>)]\n",
      "4.673996559128226\n",
      "tensor(-106.9715, device='cuda:0', grad_fn=<NegBackward0>) [tensor(-18.5387, device='cuda:0', grad_fn=<NegBackward0>), tensor(-9.3163, device='cuda:0', grad_fn=<NegBackward0>), tensor(-79.1165, device='cuda:0', grad_fn=<AddBackward0>)]\n",
      "4.823899057622651\n",
      "tensor(-101.5119, device='cuda:0', grad_fn=<NegBackward0>) [tensor(-18.6826, device='cuda:0', grad_fn=<NegBackward0>), tensor(-6.2737, device='cuda:0', grad_fn=<NegBackward0>), tensor(-76.5557, device='cuda:0', grad_fn=<AddBackward0>)]\n",
      "4.957036636712786\n",
      "tensor(-106.1856, device='cuda:0', grad_fn=<NegBackward0>) [tensor(-18.6826, device='cuda:0', grad_fn=<NegBackward0>), tensor(-8.1497, device='cuda:0', grad_fn=<NegBackward0>), tensor(-79.3534, device='cuda:0', grad_fn=<AddBackward0>)]\n",
      "4.439909770561423\n",
      "tensor(-103.7416, device='cuda:0', grad_fn=<NegBackward0>) [tensor(-18.8189, device='cuda:0', grad_fn=<NegBackward0>), tensor(-7.8381, device='cuda:0', grad_fn=<NegBackward0>), tensor(-77.0845, device='cuda:0', grad_fn=<AddBackward0>)]\n",
      "5.384475631994357\n",
      "tensor(-104.2680, device='cuda:0', grad_fn=<NegBackward0>) [tensor(-18.8189, device='cuda:0', grad_fn=<NegBackward0>), tensor(-7.1029, device='cuda:0', grad_fn=<NegBackward0>), tensor(-78.3462, device='cuda:0', grad_fn=<AddBackward0>)]\n",
      "4.629284400936282\n",
      "tensor(-105.0661, device='cuda:0', grad_fn=<NegBackward0>) [tensor(-18.9501, device='cuda:0', grad_fn=<NegBackward0>), tensor(-7.9596, device='cuda:0', grad_fn=<NegBackward0>), tensor(-78.1564, device='cuda:0', grad_fn=<AddBackward0>)]\n",
      "4.961114982256463\n",
      "tensor(-104.3671, device='cuda:0', grad_fn=<NegBackward0>) [tensor(-18.9501, device='cuda:0', grad_fn=<NegBackward0>), tensor(-7.4650, device='cuda:0', grad_fn=<NegBackward0>), tensor(-77.9520, device='cuda:0', grad_fn=<AddBackward0>)]\n",
      "4.818624152819601\n",
      "tensor(-107.8493, device='cuda:0', grad_fn=<NegBackward0>) [tensor(-19.3117, device='cuda:0', grad_fn=<NegBackward0>), tensor(-8.1899, device='cuda:0', grad_fn=<NegBackward0>), tensor(-80.3477, device='cuda:0', grad_fn=<AddBackward0>)]\n"
     ]
    },
    {
     "name": "stdout",
     "output_type": "stream",
     "text": [
      "99.7242071680044\n",
      "tensor(-100.5563, device='cuda:0', grad_fn=<NegBackward0>) [tensor(-19.3117, device='cuda:0', grad_fn=<NegBackward0>), tensor(-4.1663, device='cuda:0', grad_fn=<NegBackward0>), tensor(-77.0784, device='cuda:0', grad_fn=<AddBackward0>)]\n",
      "4.491202677262305\n",
      "tensor(-103.4693, device='cuda:0', grad_fn=<NegBackward0>) [tensor(-19.4036, device='cuda:0', grad_fn=<NegBackward0>), tensor(-7.2797, device='cuda:0', grad_fn=<NegBackward0>), tensor(-76.7860, device='cuda:0', grad_fn=<AddBackward0>)]\n",
      "4.933158802825391\n",
      "tensor(-105.6795, device='cuda:0', grad_fn=<NegBackward0>) [tensor(-19.4036, device='cuda:0', grad_fn=<NegBackward0>), tensor(-7.5778, device='cuda:0', grad_fn=<NegBackward0>), tensor(-78.6981, device='cuda:0', grad_fn=<AddBackward0>)]\n",
      "5.065740631611357\n",
      "tensor(-106.9860, device='cuda:0', grad_fn=<NegBackward0>) [tensor(-19.7324, device='cuda:0', grad_fn=<NegBackward0>), tensor(-7.7367, device='cuda:0', grad_fn=<NegBackward0>), tensor(-79.5169, device='cuda:0', grad_fn=<AddBackward0>)]\n",
      "5.025017425250346\n",
      "tensor(-107.9003, device='cuda:0', grad_fn=<NegBackward0>) [tensor(-19.7324, device='cuda:0', grad_fn=<NegBackward0>), tensor(-8.0388, device='cuda:0', grad_fn=<NegBackward0>), tensor(-80.1292, device='cuda:0', grad_fn=<AddBackward0>)]\n",
      "4.962916079389866\n",
      "tensor(-102.9033, device='cuda:0', grad_fn=<NegBackward0>) [tensor(-20.0174, device='cuda:0', grad_fn=<NegBackward0>), tensor(-5.8502, device='cuda:0', grad_fn=<NegBackward0>), tensor(-77.0356, device='cuda:0', grad_fn=<AddBackward0>)]\n",
      "4.803837337969379\n",
      "tensor(-106.1128, device='cuda:0', grad_fn=<NegBackward0>) [tensor(-20.0174, device='cuda:0', grad_fn=<NegBackward0>), tensor(-7.7150, device='cuda:0', grad_fn=<NegBackward0>), tensor(-78.3803, device='cuda:0', grad_fn=<AddBackward0>)]\n",
      "4.6210629926514395\n",
      "tensor(-105.9386, device='cuda:0', grad_fn=<NegBackward0>) [tensor(-20.1476, device='cuda:0', grad_fn=<NegBackward0>), tensor(-7.6293, device='cuda:0', grad_fn=<NegBackward0>), tensor(-78.1616, device='cuda:0', grad_fn=<AddBackward0>)]\n",
      "4.525733080630706\n",
      "tensor(-105.3106, device='cuda:0', grad_fn=<NegBackward0>) [tensor(-20.1476, device='cuda:0', grad_fn=<NegBackward0>), tensor(-7.2804, device='cuda:0', grad_fn=<NegBackward0>), tensor(-77.8825, device='cuda:0', grad_fn=<AddBackward0>)]\n",
      "4.362775359661702\n",
      "tensor(-107.3420, device='cuda:0', grad_fn=<NegBackward0>) [tensor(-20.2392, device='cuda:0', grad_fn=<NegBackward0>), tensor(-8.6168, device='cuda:0', grad_fn=<NegBackward0>), tensor(-78.4861, device='cuda:0', grad_fn=<AddBackward0>)]\n",
      "4.7947025522195945\n",
      "tensor(-105.1073, device='cuda:0', grad_fn=<NegBackward0>) [tensor(-20.2392, device='cuda:0', grad_fn=<NegBackward0>), tensor(-7.0973, device='cuda:0', grad_fn=<NegBackward0>), tensor(-77.7709, device='cuda:0', grad_fn=<AddBackward0>)]\n",
      "4.988547305966232\n",
      "tensor(-108.1705, device='cuda:0', grad_fn=<NegBackward0>) [tensor(-20.4760, device='cuda:0', grad_fn=<NegBackward0>), tensor(-7.7304, device='cuda:0', grad_fn=<NegBackward0>), tensor(-79.9642, device='cuda:0', grad_fn=<AddBackward0>)]\n",
      "4.895509333180177\n",
      "tensor(-104.7766, device='cuda:0', grad_fn=<NegBackward0>) [tensor(-20.4760, device='cuda:0', grad_fn=<NegBackward0>), tensor(-6.3113, device='cuda:0', grad_fn=<NegBackward0>), tensor(-77.9893, device='cuda:0', grad_fn=<AddBackward0>)]\n",
      "4.878364539632297\n",
      "tensor(-108.1177, device='cuda:0', grad_fn=<NegBackward0>) [tensor(-20.6463, device='cuda:0', grad_fn=<NegBackward0>), tensor(-8.5268, device='cuda:0', grad_fn=<NegBackward0>), tensor(-78.9446, device='cuda:0', grad_fn=<AddBackward0>)]\n",
      "4.974701964691509\n",
      "tensor(-109.9337, device='cuda:0', grad_fn=<NegBackward0>) [tensor(-20.6463, device='cuda:0', grad_fn=<NegBackward0>), tensor(-8.7832, device='cuda:0', grad_fn=<NegBackward0>), tensor(-80.5042, device='cuda:0', grad_fn=<AddBackward0>)]\n",
      "4.586240514492371\n",
      "tensor(-108.4242, device='cuda:0', grad_fn=<NegBackward0>) [tensor(-20.8417, device='cuda:0', grad_fn=<NegBackward0>), tensor(-8.2137, device='cuda:0', grad_fn=<NegBackward0>), tensor(-79.3689, device='cuda:0', grad_fn=<AddBackward0>)]\n",
      "4.506484266269787\n",
      "tensor(-106.2052, device='cuda:0', grad_fn=<NegBackward0>) [tensor(-20.8417, device='cuda:0', grad_fn=<NegBackward0>), tensor(-7.4494, device='cuda:0', grad_fn=<NegBackward0>), tensor(-77.9142, device='cuda:0', grad_fn=<AddBackward0>)]\n",
      "5.2675557387965215\n",
      "tensor(-108.1672, device='cuda:0', grad_fn=<NegBackward0>) [tensor(-21.0239, device='cuda:0', grad_fn=<NegBackward0>), tensor(-7.8080, device='cuda:0', grad_fn=<NegBackward0>), tensor(-79.3354, device='cuda:0', grad_fn=<AddBackward0>)]\n",
      "4.366944721399344\n",
      "tensor(-111.4622, device='cuda:0', grad_fn=<NegBackward0>) [tensor(-21.0239, device='cuda:0', grad_fn=<NegBackward0>), tensor(-9.2023, device='cuda:0', grad_fn=<NegBackward0>), tensor(-81.2361, device='cuda:0', grad_fn=<AddBackward0>)]\n",
      "4.376359309788206\n",
      "tensor(-110.1591, device='cuda:0', grad_fn=<NegBackward0>) [tensor(-21.2689, device='cuda:0', grad_fn=<NegBackward0>), tensor(-9.2726, device='cuda:0', grad_fn=<NegBackward0>), tensor(-79.6176, device='cuda:0', grad_fn=<AddBackward0>)]\n",
      "5.522006472021178\n",
      "tensor(-107.3562, device='cuda:0', grad_fn=<NegBackward0>) [tensor(-21.2689, device='cuda:0', grad_fn=<NegBackward0>), tensor(-6.7011, device='cuda:0', grad_fn=<NegBackward0>), tensor(-79.3861, device='cuda:0', grad_fn=<AddBackward0>)]\n",
      "4.46218906608885\n",
      "tensor(-109.1663, device='cuda:0', grad_fn=<NegBackward0>) [tensor(-21.3861, device='cuda:0', grad_fn=<NegBackward0>), tensor(-8.4160, device='cuda:0', grad_fn=<NegBackward0>), tensor(-79.3643, device='cuda:0', grad_fn=<AddBackward0>)]\n",
      "4.509907452989623\n",
      "tensor(-107.6011, device='cuda:0', grad_fn=<NegBackward0>) [tensor(-21.3861, device='cuda:0', grad_fn=<NegBackward0>), tensor(-8.0807, device='cuda:0', grad_fn=<NegBackward0>), tensor(-78.1344, device='cuda:0', grad_fn=<AddBackward0>)]\n",
      "4.819202460101729\n",
      "tensor(-108.6176, device='cuda:0', grad_fn=<NegBackward0>) [tensor(-21.6415, device='cuda:0', grad_fn=<NegBackward0>), tensor(-7.5558, device='cuda:0', grad_fn=<NegBackward0>), tensor(-79.4204, device='cuda:0', grad_fn=<AddBackward0>)]\n",
      "4.594398025229423\n",
      "tensor(-107.9056, device='cuda:0', grad_fn=<NegBackward0>) [tensor(-21.6415, device='cuda:0', grad_fn=<NegBackward0>), tensor(-7.4866, device='cuda:0', grad_fn=<NegBackward0>), tensor(-78.7775, device='cuda:0', grad_fn=<AddBackward0>)]\n",
      "4.517199046370685\n",
      "tensor(-108.2214, device='cuda:0', grad_fn=<NegBackward0>) [tensor(-21.8702, device='cuda:0', grad_fn=<NegBackward0>), tensor(-7.5531, device='cuda:0', grad_fn=<NegBackward0>), tensor(-78.7980, device='cuda:0', grad_fn=<AddBackward0>)]\n",
      "5.337318433546192\n",
      "tensor(-107.0456, device='cuda:0', grad_fn=<NegBackward0>) [tensor(-21.8702, device='cuda:0', grad_fn=<NegBackward0>), tensor(-6.3553, device='cuda:0', grad_fn=<NegBackward0>), tensor(-78.8202, device='cuda:0', grad_fn=<AddBackward0>)]\n",
      "4.73669818047021\n",
      "tensor(-111.9681, device='cuda:0', grad_fn=<NegBackward0>) [tensor(-22.0954, device='cuda:0', grad_fn=<NegBackward0>), tensor(-9.0717, device='cuda:0', grad_fn=<NegBackward0>), tensor(-80.8010, device='cuda:0', grad_fn=<AddBackward0>)]\n",
      "4.563213906967151\n",
      "tensor(-107.5264, device='cuda:0', grad_fn=<NegBackward0>) [tensor(-22.0954, device='cuda:0', grad_fn=<NegBackward0>), tensor(-7.3698, device='cuda:0', grad_fn=<NegBackward0>), tensor(-78.0613, device='cuda:0', grad_fn=<AddBackward0>)]\n",
      "5.115473257949555\n",
      "tensor(-109.2253, device='cuda:0', grad_fn=<NegBackward0>) [tensor(-22.3377, device='cuda:0', grad_fn=<NegBackward0>), tensor(-7.3445, device='cuda:0', grad_fn=<NegBackward0>), tensor(-79.5431, device='cuda:0', grad_fn=<AddBackward0>)]\n",
      "4.475444774496625\n",
      "tensor(-111.5586, device='cuda:0', grad_fn=<NegBackward0>) [tensor(-22.3377, device='cuda:0', grad_fn=<NegBackward0>), tensor(-8.9255, device='cuda:0', grad_fn=<NegBackward0>), tensor(-80.2953, device='cuda:0', grad_fn=<AddBackward0>)]\n",
      "5.173133376369131\n",
      "tensor(-111.8684, device='cuda:0', grad_fn=<NegBackward0>) [tensor(-22.4127, device='cuda:0', grad_fn=<NegBackward0>), tensor(-8.1889, device='cuda:0', grad_fn=<NegBackward0>), tensor(-81.2669, device='cuda:0', grad_fn=<AddBackward0>)]\n",
      "4.838807268591262\n",
      "tensor(-111.8335, device='cuda:0', grad_fn=<NegBackward0>) [tensor(-22.4127, device='cuda:0', grad_fn=<NegBackward0>), tensor(-8.6166, device='cuda:0', grad_fn=<NegBackward0>), tensor(-80.8042, device='cuda:0', grad_fn=<AddBackward0>)]\n"
     ]
    },
    {
     "name": "stdout",
     "output_type": "stream",
     "text": [
      "4.418038226272377\n",
      "tensor(-109.6589, device='cuda:0', grad_fn=<NegBackward0>) [tensor(-22.3844, device='cuda:0', grad_fn=<NegBackward0>), tensor(-8.2789, device='cuda:0', grad_fn=<NegBackward0>), tensor(-78.9956, device='cuda:0', grad_fn=<AddBackward0>)]\n",
      "4.739100687669477\n",
      "tensor(-109.8723, device='cuda:0', grad_fn=<NegBackward0>) [tensor(-22.3844, device='cuda:0', grad_fn=<NegBackward0>), tensor(-7.6837, device='cuda:0', grad_fn=<NegBackward0>), tensor(-79.8042, device='cuda:0', grad_fn=<AddBackward0>)]\n",
      "4.687787129305302\n",
      "tensor(-106.9124, device='cuda:0', grad_fn=<NegBackward0>) [tensor(-22.4830, device='cuda:0', grad_fn=<NegBackward0>), tensor(-6.3475, device='cuda:0', grad_fn=<NegBackward0>), tensor(-78.0818, device='cuda:0', grad_fn=<AddBackward0>)]\n",
      "5.014495360960121\n",
      "tensor(-112.7589, device='cuda:0', grad_fn=<NegBackward0>) [tensor(-22.4830, device='cuda:0', grad_fn=<NegBackward0>), tensor(-8.3561, device='cuda:0', grad_fn=<NegBackward0>), tensor(-81.9197, device='cuda:0', grad_fn=<AddBackward0>)]\n",
      "4.945733742141431\n",
      "tensor(-112.5376, device='cuda:0', grad_fn=<NegBackward0>) [tensor(-22.4689, device='cuda:0', grad_fn=<NegBackward0>), tensor(-8.5138, device='cuda:0', grad_fn=<NegBackward0>), tensor(-81.5549, device='cuda:0', grad_fn=<AddBackward0>)]\n",
      "4.546512765497429\n",
      "tensor(-107.1314, device='cuda:0', grad_fn=<NegBackward0>) [tensor(-22.4689, device='cuda:0', grad_fn=<NegBackward0>), tensor(-6.6972, device='cuda:0', grad_fn=<NegBackward0>), tensor(-77.9653, device='cuda:0', grad_fn=<AddBackward0>)]\n",
      "4.3911197932748705\n",
      "tensor(-112.3090, device='cuda:0', grad_fn=<NegBackward0>) [tensor(-22.7252, device='cuda:0', grad_fn=<NegBackward0>), tensor(-9.5029, device='cuda:0', grad_fn=<NegBackward0>), tensor(-80.0808, device='cuda:0', grad_fn=<AddBackward0>)]\n",
      "4.69445187723948\n",
      "tensor(-109.5879, device='cuda:0', grad_fn=<NegBackward0>) [tensor(-22.7252, device='cuda:0', grad_fn=<NegBackward0>), tensor(-8.0292, device='cuda:0', grad_fn=<NegBackward0>), tensor(-78.8335, device='cuda:0', grad_fn=<AddBackward0>)]\n",
      "5.132274725632684\n",
      "tensor(-113.1746, device='cuda:0', grad_fn=<NegBackward0>) [tensor(-23.0299, device='cuda:0', grad_fn=<NegBackward0>), tensor(-8.7223, device='cuda:0', grad_fn=<NegBackward0>), tensor(-81.4224, device='cuda:0', grad_fn=<AddBackward0>)]\n",
      "4.40374791826355\n",
      "tensor(-108.6238, device='cuda:0', grad_fn=<NegBackward0>) [tensor(-23.0299, device='cuda:0', grad_fn=<NegBackward0>), tensor(-7.4474, device='cuda:0', grad_fn=<NegBackward0>), tensor(-78.1465, device='cuda:0', grad_fn=<AddBackward0>)]\n",
      "4.68275452409718\n",
      "tensor(-107.4428, device='cuda:0', grad_fn=<NegBackward0>) [tensor(-23.1551, device='cuda:0', grad_fn=<NegBackward0>), tensor(-6.3978, device='cuda:0', grad_fn=<NegBackward0>), tensor(-77.8899, device='cuda:0', grad_fn=<AddBackward0>)]\n",
      "4.401201938194519\n",
      "tensor(-112.0679, device='cuda:0', grad_fn=<NegBackward0>) [tensor(-23.1551, device='cuda:0', grad_fn=<NegBackward0>), tensor(-9.1227, device='cuda:0', grad_fn=<NegBackward0>), tensor(-79.7901, device='cuda:0', grad_fn=<AddBackward0>)]\n",
      "4.407236547766431\n",
      "tensor(-109.1275, device='cuda:0', grad_fn=<NegBackward0>) [tensor(-23.3654, device='cuda:0', grad_fn=<NegBackward0>), tensor(-7.4110, device='cuda:0', grad_fn=<NegBackward0>), tensor(-78.3511, device='cuda:0', grad_fn=<AddBackward0>)]\n",
      "4.477392815467146\n",
      "tensor(-112.1472, device='cuda:0', grad_fn=<NegBackward0>) [tensor(-23.3654, device='cuda:0', grad_fn=<NegBackward0>), tensor(-8.9392, device='cuda:0', grad_fn=<NegBackward0>), tensor(-79.8426, device='cuda:0', grad_fn=<AddBackward0>)]\n",
      "4.725121550323444\n",
      "tensor(-109.9581, device='cuda:0', grad_fn=<NegBackward0>) [tensor(-23.6413, device='cuda:0', grad_fn=<NegBackward0>), tensor(-7.0529, device='cuda:0', grad_fn=<NegBackward0>), tensor(-79.2639, device='cuda:0', grad_fn=<AddBackward0>)]\n",
      "4.667018969140503\n",
      "tensor(-111.7468, device='cuda:0', grad_fn=<NegBackward0>) [tensor(-23.6413, device='cuda:0', grad_fn=<NegBackward0>), tensor(-7.7946, device='cuda:0', grad_fn=<NegBackward0>), tensor(-80.3109, device='cuda:0', grad_fn=<AddBackward0>)]\n",
      "4.383615251957447\n",
      "tensor(-110.4843, device='cuda:0', grad_fn=<NegBackward0>) [tensor(-23.8794, device='cuda:0', grad_fn=<NegBackward0>), tensor(-7.2905, device='cuda:0', grad_fn=<NegBackward0>), tensor(-79.3145, device='cuda:0', grad_fn=<AddBackward0>)]\n",
      "5.000759672462078\n",
      "tensor(-111.6662, device='cuda:0', grad_fn=<NegBackward0>) [tensor(-23.8794, device='cuda:0', grad_fn=<NegBackward0>), tensor(-7.8209, device='cuda:0', grad_fn=<NegBackward0>), tensor(-79.9659, device='cuda:0', grad_fn=<AddBackward0>)]\n",
      "4.516143151971588\n",
      "tensor(-111.4206, device='cuda:0', grad_fn=<NegBackward0>) [tensor(-24.0587, device='cuda:0', grad_fn=<NegBackward0>), tensor(-7.9679, device='cuda:0', grad_fn=<NegBackward0>), tensor(-79.3939, device='cuda:0', grad_fn=<AddBackward0>)]\n",
      "4.6141323546887625\n",
      "tensor(-110.5392, device='cuda:0', grad_fn=<NegBackward0>) [tensor(-24.0587, device='cuda:0', grad_fn=<NegBackward0>), tensor(-6.9757, device='cuda:0', grad_fn=<NegBackward0>), tensor(-79.5048, device='cuda:0', grad_fn=<AddBackward0>)]\n",
      "4.392097501028203\n",
      "tensor(-116.3328, device='cuda:0', grad_fn=<NegBackward0>) [tensor(-24.2319, device='cuda:0', grad_fn=<NegBackward0>), tensor(-9.7139, device='cuda:0', grad_fn=<NegBackward0>), tensor(-82.3870, device='cuda:0', grad_fn=<AddBackward0>)]\n",
      "4.77178028136432\n",
      "tensor(-114.2631, device='cuda:0', grad_fn=<NegBackward0>) [tensor(-24.2319, device='cuda:0', grad_fn=<NegBackward0>), tensor(-8.7649, device='cuda:0', grad_fn=<NegBackward0>), tensor(-81.2663, device='cuda:0', grad_fn=<AddBackward0>)]\n",
      "4.748820146977652\n",
      "tensor(-112.3958, device='cuda:0', grad_fn=<NegBackward0>) [tensor(-24.3778, device='cuda:0', grad_fn=<NegBackward0>), tensor(-7.5983, device='cuda:0', grad_fn=<NegBackward0>), tensor(-80.4197, device='cuda:0', grad_fn=<AddBackward0>)]\n",
      "4.807548976318454\n",
      "tensor(-111.3730, device='cuda:0', grad_fn=<NegBackward0>) [tensor(-24.3778, device='cuda:0', grad_fn=<NegBackward0>), tensor(-7.3376, device='cuda:0', grad_fn=<NegBackward0>), tensor(-79.6576, device='cuda:0', grad_fn=<AddBackward0>)]\n",
      "4.821083063943052\n",
      "tensor(-109.7501, device='cuda:0', grad_fn=<NegBackward0>) [tensor(-24.5457, device='cuda:0', grad_fn=<NegBackward0>), tensor(-6.0689, device='cuda:0', grad_fn=<NegBackward0>), tensor(-79.1354, device='cuda:0', grad_fn=<AddBackward0>)]\n",
      "4.629282807512572\n",
      "tensor(-114.9049, device='cuda:0', grad_fn=<NegBackward0>) [tensor(-24.5457, device='cuda:0', grad_fn=<NegBackward0>), tensor(-8.7770, device='cuda:0', grad_fn=<NegBackward0>), tensor(-81.5822, device='cuda:0', grad_fn=<AddBackward0>)]\n",
      "4.8517382676167795\n",
      "tensor(-114.3633, device='cuda:0', grad_fn=<NegBackward0>) [tensor(-24.6816, device='cuda:0', grad_fn=<NegBackward0>), tensor(-8.3276, device='cuda:0', grad_fn=<NegBackward0>), tensor(-81.3540, device='cuda:0', grad_fn=<AddBackward0>)]\n",
      "4.473170300046708\n",
      "tensor(-111.1928, device='cuda:0', grad_fn=<NegBackward0>) [tensor(-24.6816, device='cuda:0', grad_fn=<NegBackward0>), tensor(-7.3465, device='cuda:0', grad_fn=<NegBackward0>), tensor(-79.1647, device='cuda:0', grad_fn=<AddBackward0>)]\n",
      "4.638444792362152\n",
      "tensor(-111.9857, device='cuda:0', grad_fn=<NegBackward0>) [tensor(-24.7633, device='cuda:0', grad_fn=<NegBackward0>), tensor(-7.6218, device='cuda:0', grad_fn=<NegBackward0>), tensor(-79.6006, device='cuda:0', grad_fn=<AddBackward0>)]\n",
      "4.659747611983914\n",
      "tensor(-113.7628, device='cuda:0', grad_fn=<NegBackward0>) [tensor(-24.7633, device='cuda:0', grad_fn=<NegBackward0>), tensor(-8.0719, device='cuda:0', grad_fn=<NegBackward0>), tensor(-80.9275, device='cuda:0', grad_fn=<AddBackward0>)]\n",
      "4.569229635683775\n",
      "tensor(-115.8430, device='cuda:0', grad_fn=<NegBackward0>) [tensor(-24.8316, device='cuda:0', grad_fn=<NegBackward0>), tensor(-8.7257, device='cuda:0', grad_fn=<NegBackward0>), tensor(-82.2857, device='cuda:0', grad_fn=<AddBackward0>)]\n",
      "4.877430625366114\n",
      "tensor(-112.1333, device='cuda:0', grad_fn=<NegBackward0>) [tensor(-24.8316, device='cuda:0', grad_fn=<NegBackward0>), tensor(-7.1972, device='cuda:0', grad_fn=<NegBackward0>), tensor(-80.1045, device='cuda:0', grad_fn=<AddBackward0>)]\n",
      "4.093066216300167\n",
      "tensor(-112.2793, device='cuda:0', grad_fn=<NegBackward0>) [tensor(-24.8923, device='cuda:0', grad_fn=<NegBackward0>), tensor(-8.5213, device='cuda:0', grad_fn=<NegBackward0>), tensor(-78.8657, device='cuda:0', grad_fn=<AddBackward0>)]\n"
     ]
    },
    {
     "name": "stdout",
     "output_type": "stream",
     "text": [
      "4.435230890706327\n",
      "tensor(-111.8292, device='cuda:0', grad_fn=<NegBackward0>) [tensor(-24.8923, device='cuda:0', grad_fn=<NegBackward0>), tensor(-7.5430, device='cuda:0', grad_fn=<NegBackward0>), tensor(-79.3939, device='cuda:0', grad_fn=<AddBackward0>)]\n",
      "4.2957258136892404\n",
      "tensor(-113.8095, device='cuda:0', grad_fn=<NegBackward0>) [tensor(-25.0625, device='cuda:0', grad_fn=<NegBackward0>), tensor(-8.4865, device='cuda:0', grad_fn=<NegBackward0>), tensor(-80.2605, device='cuda:0', grad_fn=<AddBackward0>)]\n",
      "4.400713905566676\n",
      "tensor(-116.2048, device='cuda:0', grad_fn=<NegBackward0>) [tensor(-25.0625, device='cuda:0', grad_fn=<NegBackward0>), tensor(-8.8903, device='cuda:0', grad_fn=<NegBackward0>), tensor(-82.2520, device='cuda:0', grad_fn=<AddBackward0>)]\n",
      "4.5427950659437295\n",
      "tensor(-115.2502, device='cuda:0', grad_fn=<NegBackward0>) [tensor(-25.1103, device='cuda:0', grad_fn=<NegBackward0>), tensor(-8.8293, device='cuda:0', grad_fn=<NegBackward0>), tensor(-81.3106, device='cuda:0', grad_fn=<AddBackward0>)]\n",
      "4.4887408160198845\n",
      "tensor(-114.4689, device='cuda:0', grad_fn=<NegBackward0>) [tensor(-25.1103, device='cuda:0', grad_fn=<NegBackward0>), tensor(-8.5996, device='cuda:0', grad_fn=<NegBackward0>), tensor(-80.7590, device='cuda:0', grad_fn=<AddBackward0>)]\n",
      "4.335504152681156\n",
      "tensor(-117.4402, device='cuda:0', grad_fn=<NegBackward0>) [tensor(-25.2398, device='cuda:0', grad_fn=<NegBackward0>), tensor(-9.9000, device='cuda:0', grad_fn=<NegBackward0>), tensor(-82.3005, device='cuda:0', grad_fn=<AddBackward0>)]\n",
      "4.407463646901837\n",
      "tensor(-114.6231, device='cuda:0', grad_fn=<NegBackward0>) [tensor(-25.2398, device='cuda:0', grad_fn=<NegBackward0>), tensor(-8.4794, device='cuda:0', grad_fn=<NegBackward0>), tensor(-80.9038, device='cuda:0', grad_fn=<AddBackward0>)]\n",
      "4.411913196925\n",
      "tensor(-111.8909, device='cuda:0', grad_fn=<NegBackward0>) [tensor(-25.4695, device='cuda:0', grad_fn=<NegBackward0>), tensor(-7.0194, device='cuda:0', grad_fn=<NegBackward0>), tensor(-79.4020, device='cuda:0', grad_fn=<AddBackward0>)]\n",
      "5.086291756145869\n",
      "tensor(-113.0181, device='cuda:0', grad_fn=<NegBackward0>) [tensor(-25.4695, device='cuda:0', grad_fn=<NegBackward0>), tensor(-7.0722, device='cuda:0', grad_fn=<NegBackward0>), tensor(-80.4764, device='cuda:0', grad_fn=<AddBackward0>)]\n",
      "4.736070815384242\n",
      "tensor(-113.9585, device='cuda:0', grad_fn=<NegBackward0>) [tensor(-25.7126, device='cuda:0', grad_fn=<NegBackward0>), tensor(-7.5997, device='cuda:0', grad_fn=<NegBackward0>), tensor(-80.6461, device='cuda:0', grad_fn=<AddBackward0>)]\n",
      "4.718905721147729\n",
      "tensor(-114.8208, device='cuda:0', grad_fn=<NegBackward0>) [tensor(-25.7126, device='cuda:0', grad_fn=<NegBackward0>), tensor(-7.6940, device='cuda:0', grad_fn=<NegBackward0>), tensor(-81.4142, device='cuda:0', grad_fn=<AddBackward0>)]\n",
      "4.644057762883282\n",
      "tensor(-113.8395, device='cuda:0', grad_fn=<NegBackward0>) [tensor(-25.8399, device='cuda:0', grad_fn=<NegBackward0>), tensor(-7.4096, device='cuda:0', grad_fn=<NegBackward0>), tensor(-80.5899, device='cuda:0', grad_fn=<AddBackward0>)]\n",
      "4.3681909025928105\n",
      "tensor(-112.6434, device='cuda:0', grad_fn=<NegBackward0>) [tensor(-25.8399, device='cuda:0', grad_fn=<NegBackward0>), tensor(-7.1654, device='cuda:0', grad_fn=<NegBackward0>), tensor(-79.6381, device='cuda:0', grad_fn=<AddBackward0>)]\n",
      "4.028805487837197\n",
      "tensor(-114.7451, device='cuda:0', grad_fn=<NegBackward0>) [tensor(-25.9865, device='cuda:0', grad_fn=<NegBackward0>), tensor(-8.8285, device='cuda:0', grad_fn=<NegBackward0>), tensor(-79.9301, device='cuda:0', grad_fn=<AddBackward0>)]\n",
      "4.60997529509405\n",
      "tensor(-111.3509, device='cuda:0', grad_fn=<NegBackward0>) [tensor(-25.9865, device='cuda:0', grad_fn=<NegBackward0>), tensor(-6.9286, device='cuda:0', grad_fn=<NegBackward0>), tensor(-78.4358, device='cuda:0', grad_fn=<AddBackward0>)]\n",
      "4.429530590385403\n",
      "tensor(-114.4848, device='cuda:0', grad_fn=<NegBackward0>) [tensor(-26.1881, device='cuda:0', grad_fn=<NegBackward0>), tensor(-7.5249, device='cuda:0', grad_fn=<NegBackward0>), tensor(-80.7719, device='cuda:0', grad_fn=<AddBackward0>)]\n",
      "4.389570667565444\n",
      "tensor(-115.7447, device='cuda:0', grad_fn=<NegBackward0>) [tensor(-26.1881, device='cuda:0', grad_fn=<NegBackward0>), tensor(-8.3760, device='cuda:0', grad_fn=<NegBackward0>), tensor(-81.1806, device='cuda:0', grad_fn=<AddBackward0>)]\n",
      "4.200022189937884\n",
      "tensor(-111.6879, device='cuda:0', grad_fn=<NegBackward0>) [tensor(-26.3957, device='cuda:0', grad_fn=<NegBackward0>), tensor(-7.2382, device='cuda:0', grad_fn=<NegBackward0>), tensor(-78.0540, device='cuda:0', grad_fn=<AddBackward0>)]\n",
      "4.224741951241351\n",
      "tensor(-115.6576, device='cuda:0', grad_fn=<NegBackward0>) [tensor(-26.3957, device='cuda:0', grad_fn=<NegBackward0>), tensor(-8.8733, device='cuda:0', grad_fn=<NegBackward0>), tensor(-80.3886, device='cuda:0', grad_fn=<AddBackward0>)]\n",
      "4.870568919212108\n",
      "tensor(-118.2602, device='cuda:0', grad_fn=<NegBackward0>) [tensor(-26.4858, device='cuda:0', grad_fn=<NegBackward0>), tensor(-8.8986, device='cuda:0', grad_fn=<NegBackward0>), tensor(-82.8758, device='cuda:0', grad_fn=<AddBackward0>)]\n",
      "4.121314146839007\n",
      "tensor(-115.6141, device='cuda:0', grad_fn=<NegBackward0>) [tensor(-26.4858, device='cuda:0', grad_fn=<NegBackward0>), tensor(-8.4766, device='cuda:0', grad_fn=<NegBackward0>), tensor(-80.6517, device='cuda:0', grad_fn=<AddBackward0>)]\n",
      "4.2867285622609606\n",
      "tensor(-112.4641, device='cuda:0', grad_fn=<NegBackward0>) [tensor(-26.6100, device='cuda:0', grad_fn=<NegBackward0>), tensor(-7.0312, device='cuda:0', grad_fn=<NegBackward0>), tensor(-78.8230, device='cuda:0', grad_fn=<AddBackward0>)]\n",
      "4.412516483724541\n",
      "tensor(-115.6950, device='cuda:0', grad_fn=<NegBackward0>) [tensor(-26.6100, device='cuda:0', grad_fn=<NegBackward0>), tensor(-7.9309, device='cuda:0', grad_fn=<NegBackward0>), tensor(-81.1541, device='cuda:0', grad_fn=<AddBackward0>)]\n",
      "4.339253567913183\n",
      "tensor(-117.3672, device='cuda:0', grad_fn=<NegBackward0>) [tensor(-26.7949, device='cuda:0', grad_fn=<NegBackward0>), tensor(-8.3871, device='cuda:0', grad_fn=<NegBackward0>), tensor(-82.1853, device='cuda:0', grad_fn=<AddBackward0>)]\n",
      "4.887807881584419\n",
      "tensor(-113.6776, device='cuda:0', grad_fn=<NegBackward0>) [tensor(-26.7949, device='cuda:0', grad_fn=<NegBackward0>), tensor(-6.8914, device='cuda:0', grad_fn=<NegBackward0>), tensor(-79.9912, device='cuda:0', grad_fn=<AddBackward0>)]\n",
      "4.697512327512257\n",
      "tensor(-114.2349, device='cuda:0', grad_fn=<NegBackward0>) [tensor(-26.8087, device='cuda:0', grad_fn=<NegBackward0>), tensor(-6.9697, device='cuda:0', grad_fn=<NegBackward0>), tensor(-80.4565, device='cuda:0', grad_fn=<AddBackward0>)]\n",
      "4.313529439207257\n",
      "tensor(-117.6609, device='cuda:0', grad_fn=<NegBackward0>) [tensor(-26.8087, device='cuda:0', grad_fn=<NegBackward0>), tensor(-8.8311, device='cuda:0', grad_fn=<NegBackward0>), tensor(-82.0211, device='cuda:0', grad_fn=<AddBackward0>)]\n",
      "23.09109327069176\n",
      "tensor(-111.7448, device='cuda:0', grad_fn=<NegBackward0>) [tensor(-26.8941, device='cuda:0', grad_fn=<NegBackward0>), tensor(-5.0446, device='cuda:0', grad_fn=<NegBackward0>), tensor(-79.8061, device='cuda:0', grad_fn=<AddBackward0>)]\n",
      "4.34281347295327\n",
      "tensor(-117.7826, device='cuda:0', grad_fn=<NegBackward0>) [tensor(-26.8941, device='cuda:0', grad_fn=<NegBackward0>), tensor(-9.5779, device='cuda:0', grad_fn=<NegBackward0>), tensor(-81.3105, device='cuda:0', grad_fn=<AddBackward0>)]\n",
      "4.1455924903176244\n",
      "tensor(-117.3263, device='cuda:0', grad_fn=<NegBackward0>) [tensor(-26.8575, device='cuda:0', grad_fn=<NegBackward0>), tensor(-9.3677, device='cuda:0', grad_fn=<NegBackward0>), tensor(-81.1011, device='cuda:0', grad_fn=<AddBackward0>)]\n",
      "4.536096346486161\n",
      "tensor(-116.8097, device='cuda:0', grad_fn=<NegBackward0>) [tensor(-26.8575, device='cuda:0', grad_fn=<NegBackward0>), tensor(-8.2138, device='cuda:0', grad_fn=<NegBackward0>), tensor(-81.7384, device='cuda:0', grad_fn=<AddBackward0>)]\n",
      "4.765684103660854\n",
      "tensor(-118.5660, device='cuda:0', grad_fn=<NegBackward0>) [tensor(-27.0114, device='cuda:0', grad_fn=<NegBackward0>), tensor(-8.9071, device='cuda:0', grad_fn=<NegBackward0>), tensor(-82.6475, device='cuda:0', grad_fn=<AddBackward0>)]\n",
      "4.674540117700039\n",
      "tensor(-116.3088, device='cuda:0', grad_fn=<NegBackward0>) [tensor(-27.0114, device='cuda:0', grad_fn=<NegBackward0>), tensor(-8.0922, device='cuda:0', grad_fn=<NegBackward0>), tensor(-81.2052, device='cuda:0', grad_fn=<AddBackward0>)]\n"
     ]
    },
    {
     "name": "stdout",
     "output_type": "stream",
     "text": [
      "4.292133159133847\n",
      "tensor(-118.2489, device='cuda:0', grad_fn=<NegBackward0>) [tensor(-27.0121, device='cuda:0', grad_fn=<NegBackward0>), tensor(-9.0446, device='cuda:0', grad_fn=<NegBackward0>), tensor(-82.1923, device='cuda:0', grad_fn=<AddBackward0>)]\n",
      "4.598171060825538\n",
      "tensor(-115.1250, device='cuda:0', grad_fn=<NegBackward0>) [tensor(-27.0121, device='cuda:0', grad_fn=<NegBackward0>), tensor(-7.3198, device='cuda:0', grad_fn=<NegBackward0>), tensor(-80.7932, device='cuda:0', grad_fn=<AddBackward0>)]\n",
      "4.6503819698325515\n",
      "tensor(-117.6191, device='cuda:0', grad_fn=<NegBackward0>) [tensor(-27.2900, device='cuda:0', grad_fn=<NegBackward0>), tensor(-8.3750, device='cuda:0', grad_fn=<NegBackward0>), tensor(-81.9541, device='cuda:0', grad_fn=<AddBackward0>)]\n",
      "4.513900742158409\n",
      "tensor(-119.2928, device='cuda:0', grad_fn=<NegBackward0>) [tensor(-27.2900, device='cuda:0', grad_fn=<NegBackward0>), tensor(-9.5621, device='cuda:0', grad_fn=<NegBackward0>), tensor(-82.4406, device='cuda:0', grad_fn=<AddBackward0>)]\n",
      "4.243182777825497\n",
      "tensor(-120.9901, device='cuda:0', grad_fn=<NegBackward0>) [tensor(-27.5402, device='cuda:0', grad_fn=<NegBackward0>), tensor(-9.8171, device='cuda:0', grad_fn=<NegBackward0>), tensor(-83.6328, device='cuda:0', grad_fn=<AddBackward0>)]\n",
      "4.2338793867886935\n",
      "tensor(-118.8176, device='cuda:0', grad_fn=<NegBackward0>) [tensor(-27.5402, device='cuda:0', grad_fn=<NegBackward0>), tensor(-9.2321, device='cuda:0', grad_fn=<NegBackward0>), tensor(-82.0454, device='cuda:0', grad_fn=<AddBackward0>)]\n",
      "99.61554843097345\n",
      "tensor(-110.1913, device='cuda:0', grad_fn=<NegBackward0>) [tensor(-27.6147, device='cuda:0', grad_fn=<NegBackward0>), tensor(-3.7241, device='cuda:0', grad_fn=<NegBackward0>), tensor(-78.8525, device='cuda:0', grad_fn=<AddBackward0>)]\n",
      "4.108430980279895\n",
      "tensor(-116.8925, device='cuda:0', grad_fn=<NegBackward0>) [tensor(-27.6147, device='cuda:0', grad_fn=<NegBackward0>), tensor(-8.8525, device='cuda:0', grad_fn=<NegBackward0>), tensor(-80.4253, device='cuda:0', grad_fn=<AddBackward0>)]\n",
      "4.354969941861899\n",
      "tensor(-118.8391, device='cuda:0', grad_fn=<NegBackward0>) [tensor(-27.5941, device='cuda:0', grad_fn=<NegBackward0>), tensor(-9.0161, device='cuda:0', grad_fn=<NegBackward0>), tensor(-82.2289, device='cuda:0', grad_fn=<AddBackward0>)]\n",
      "4.239836561122304\n",
      "tensor(-116.8715, device='cuda:0', grad_fn=<NegBackward0>) [tensor(-27.5941, device='cuda:0', grad_fn=<NegBackward0>), tensor(-8.0445, device='cuda:0', grad_fn=<NegBackward0>), tensor(-81.2328, device='cuda:0', grad_fn=<AddBackward0>)]\n",
      "4.6079050730121605\n",
      "tensor(-116.5208, device='cuda:0', grad_fn=<NegBackward0>) [tensor(-27.7650, device='cuda:0', grad_fn=<NegBackward0>), tensor(-7.6489, device='cuda:0', grad_fn=<NegBackward0>), tensor(-81.1068, device='cuda:0', grad_fn=<AddBackward0>)]\n",
      "4.555993990537793\n",
      "tensor(-121.1441, device='cuda:0', grad_fn=<NegBackward0>) [tensor(-27.7650, device='cuda:0', grad_fn=<NegBackward0>), tensor(-9.0359, device='cuda:0', grad_fn=<NegBackward0>), tensor(-84.3432, device='cuda:0', grad_fn=<AddBackward0>)]\n",
      "4.532471463780953\n",
      "tensor(-116.9877, device='cuda:0', grad_fn=<NegBackward0>) [tensor(-27.8536, device='cuda:0', grad_fn=<NegBackward0>), tensor(-7.7338, device='cuda:0', grad_fn=<NegBackward0>), tensor(-81.4003, device='cuda:0', grad_fn=<AddBackward0>)]\n",
      "4.34113991324745\n",
      "tensor(-119.7728, device='cuda:0', grad_fn=<NegBackward0>) [tensor(-27.8536, device='cuda:0', grad_fn=<NegBackward0>), tensor(-9.4932, device='cuda:0', grad_fn=<NegBackward0>), tensor(-82.4261, device='cuda:0', grad_fn=<AddBackward0>)]\n",
      "4.559358992632393\n",
      "tensor(-114.6539, device='cuda:0', grad_fn=<NegBackward0>) [tensor(-27.7332, device='cuda:0', grad_fn=<NegBackward0>), tensor(-6.8838, device='cuda:0', grad_fn=<NegBackward0>), tensor(-80.0370, device='cuda:0', grad_fn=<AddBackward0>)]\n",
      "4.89253151967406\n",
      "tensor(-119.2211, device='cuda:0', grad_fn=<NegBackward0>) [tensor(-27.7332, device='cuda:0', grad_fn=<NegBackward0>), tensor(-8.5043, device='cuda:0', grad_fn=<NegBackward0>), tensor(-82.9836, device='cuda:0', grad_fn=<AddBackward0>)]\n",
      "4.380496968527872\n",
      "tensor(-115.4092, device='cuda:0', grad_fn=<NegBackward0>) [tensor(-27.8820, device='cuda:0', grad_fn=<NegBackward0>), tensor(-7.4431, device='cuda:0', grad_fn=<NegBackward0>), tensor(-80.0841, device='cuda:0', grad_fn=<AddBackward0>)]\n",
      "4.5931147394448715\n",
      "tensor(-119.2890, device='cuda:0', grad_fn=<NegBackward0>) [tensor(-27.8820, device='cuda:0', grad_fn=<NegBackward0>), tensor(-8.1327, device='cuda:0', grad_fn=<NegBackward0>), tensor(-83.2744, device='cuda:0', grad_fn=<AddBackward0>)]\n",
      "4.34330206351988\n",
      "tensor(-117.7947, device='cuda:0', grad_fn=<NegBackward0>) [tensor(-28.2433, device='cuda:0', grad_fn=<NegBackward0>), tensor(-8.0702, device='cuda:0', grad_fn=<NegBackward0>), tensor(-81.4812, device='cuda:0', grad_fn=<AddBackward0>)]\n",
      "4.8056201090179\n",
      "tensor(-122.7315, device='cuda:0', grad_fn=<NegBackward0>) [tensor(-28.2433, device='cuda:0', grad_fn=<NegBackward0>), tensor(-9.5688, device='cuda:0', grad_fn=<NegBackward0>), tensor(-84.9194, device='cuda:0', grad_fn=<AddBackward0>)]\n",
      "4.970241166198452\n",
      "tensor(-115.5230, device='cuda:0', grad_fn=<NegBackward0>) [tensor(-28.3892, device='cuda:0', grad_fn=<NegBackward0>), tensor(-6.5484, device='cuda:0', grad_fn=<NegBackward0>), tensor(-80.5854, device='cuda:0', grad_fn=<AddBackward0>)]\n",
      "4.784526471577574\n",
      "tensor(-116.5760, device='cuda:0', grad_fn=<NegBackward0>) [tensor(-28.3892, device='cuda:0', grad_fn=<NegBackward0>), tensor(-6.8412, device='cuda:0', grad_fn=<NegBackward0>), tensor(-81.3456, device='cuda:0', grad_fn=<AddBackward0>)]\n",
      "4.5591251041740515\n",
      "tensor(-120.0101, device='cuda:0', grad_fn=<NegBackward0>) [tensor(-28.5216, device='cuda:0', grad_fn=<NegBackward0>), tensor(-8.7655, device='cuda:0', grad_fn=<NegBackward0>), tensor(-82.7231, device='cuda:0', grad_fn=<AddBackward0>)]\n",
      "4.66678365722412\n",
      "tensor(-119.1337, device='cuda:0', grad_fn=<NegBackward0>) [tensor(-28.5216, device='cuda:0', grad_fn=<NegBackward0>), tensor(-8.0321, device='cuda:0', grad_fn=<NegBackward0>), tensor(-82.5800, device='cuda:0', grad_fn=<AddBackward0>)]\n",
      "4.062522305006101\n",
      "tensor(-122.2988, device='cuda:0', grad_fn=<NegBackward0>) [tensor(-28.6546, device='cuda:0', grad_fn=<NegBackward0>), tensor(-9.7971, device='cuda:0', grad_fn=<NegBackward0>), tensor(-83.8471, device='cuda:0', grad_fn=<AddBackward0>)]\n",
      "3.9804702964982\n",
      "tensor(-120.1686, device='cuda:0', grad_fn=<NegBackward0>) [tensor(-28.6546, device='cuda:0', grad_fn=<NegBackward0>), tensor(-9.6570, device='cuda:0', grad_fn=<NegBackward0>), tensor(-81.8570, device='cuda:0', grad_fn=<AddBackward0>)]\n",
      "4.56352540971139\n",
      "tensor(-119.5499, device='cuda:0', grad_fn=<NegBackward0>) [tensor(-28.7029, device='cuda:0', grad_fn=<NegBackward0>), tensor(-7.9766, device='cuda:0', grad_fn=<NegBackward0>), tensor(-82.8703, device='cuda:0', grad_fn=<AddBackward0>)]\n",
      "4.202176698826556\n",
      "tensor(-123.1242, device='cuda:0', grad_fn=<NegBackward0>) [tensor(-28.7029, device='cuda:0', grad_fn=<NegBackward0>), tensor(-10.1627, device='cuda:0', grad_fn=<NegBackward0>), tensor(-84.2585, device='cuda:0', grad_fn=<AddBackward0>)]\n",
      "4.380849996940237\n",
      "tensor(-120.0260, device='cuda:0', grad_fn=<NegBackward0>) [tensor(-28.7234, device='cuda:0', grad_fn=<NegBackward0>), tensor(-8.7814, device='cuda:0', grad_fn=<NegBackward0>), tensor(-82.5212, device='cuda:0', grad_fn=<AddBackward0>)]\n",
      "4.111108526128751\n",
      "tensor(-121.1006, device='cuda:0', grad_fn=<NegBackward0>) [tensor(-28.7234, device='cuda:0', grad_fn=<NegBackward0>), tensor(-9.1965, device='cuda:0', grad_fn=<NegBackward0>), tensor(-83.1807, device='cuda:0', grad_fn=<AddBackward0>)]\n",
      "4.6011802910364406\n",
      "tensor(-115.0080, device='cuda:0', grad_fn=<NegBackward0>) [tensor(-28.7358, device='cuda:0', grad_fn=<NegBackward0>), tensor(-5.9894, device='cuda:0', grad_fn=<NegBackward0>), tensor(-80.2828, device='cuda:0', grad_fn=<AddBackward0>)]\n",
      "4.317388664288725\n",
      "tensor(-119.1225, device='cuda:0', grad_fn=<NegBackward0>) [tensor(-28.7358, device='cuda:0', grad_fn=<NegBackward0>), tensor(-8.2257, device='cuda:0', grad_fn=<NegBackward0>), tensor(-82.1610, device='cuda:0', grad_fn=<AddBackward0>)]\n",
      "4.566643542053939\n",
      "tensor(-123.0460, device='cuda:0', grad_fn=<NegBackward0>) [tensor(-28.9576, device='cuda:0', grad_fn=<NegBackward0>), tensor(-9.5698, device='cuda:0', grad_fn=<NegBackward0>), tensor(-84.5186, device='cuda:0', grad_fn=<AddBackward0>)]\n"
     ]
    },
    {
     "name": "stdout",
     "output_type": "stream",
     "text": [
      "4.152075578057821\n",
      "tensor(-119.4227, device='cuda:0', grad_fn=<NegBackward0>) [tensor(-28.9576, device='cuda:0', grad_fn=<NegBackward0>), tensor(-8.7410, device='cuda:0', grad_fn=<NegBackward0>), tensor(-81.7242, device='cuda:0', grad_fn=<AddBackward0>)]\n",
      "4.027331191941031\n",
      "tensor(-121.9016, device='cuda:0', grad_fn=<NegBackward0>) [tensor(-29.0877, device='cuda:0', grad_fn=<NegBackward0>), tensor(-10.5250, device='cuda:0', grad_fn=<NegBackward0>), tensor(-82.2889, device='cuda:0', grad_fn=<AddBackward0>)]\n",
      "4.374701908649307\n",
      "tensor(-119.2791, device='cuda:0', grad_fn=<NegBackward0>) [tensor(-29.0877, device='cuda:0', grad_fn=<NegBackward0>), tensor(-7.7198, device='cuda:0', grad_fn=<NegBackward0>), tensor(-82.4716, device='cuda:0', grad_fn=<AddBackward0>)]\n",
      "4.438684497034769\n",
      "tensor(-122.6586, device='cuda:0', grad_fn=<NegBackward0>) [tensor(-29.2480, device='cuda:0', grad_fn=<NegBackward0>), tensor(-9.0050, device='cuda:0', grad_fn=<NegBackward0>), tensor(-84.4055, device='cuda:0', grad_fn=<AddBackward0>)]\n",
      "4.29563824543331\n",
      "tensor(-118.5541, device='cuda:0', grad_fn=<NegBackward0>) [tensor(-29.2480, device='cuda:0', grad_fn=<NegBackward0>), tensor(-8.2176, device='cuda:0', grad_fn=<NegBackward0>), tensor(-81.0885, device='cuda:0', grad_fn=<AddBackward0>)]\n",
      "4.382603902255811\n",
      "tensor(-120.0352, device='cuda:0', grad_fn=<NegBackward0>) [tensor(-29.4429, device='cuda:0', grad_fn=<NegBackward0>), tensor(-8.1940, device='cuda:0', grad_fn=<NegBackward0>), tensor(-82.3983, device='cuda:0', grad_fn=<AddBackward0>)]\n",
      "4.657475977126915\n",
      "tensor(-120.5158, device='cuda:0', grad_fn=<NegBackward0>) [tensor(-29.4429, device='cuda:0', grad_fn=<NegBackward0>), tensor(-8.3292, device='cuda:0', grad_fn=<NegBackward0>), tensor(-82.7437, device='cuda:0', grad_fn=<AddBackward0>)]\n",
      "4.420171988703338\n",
      "tensor(-121.1485, device='cuda:0', grad_fn=<NegBackward0>) [tensor(-29.4938, device='cuda:0', grad_fn=<NegBackward0>), tensor(-8.3203, device='cuda:0', grad_fn=<NegBackward0>), tensor(-83.3343, device='cuda:0', grad_fn=<AddBackward0>)]\n",
      "4.658189659759955\n",
      "tensor(-117.8626, device='cuda:0', grad_fn=<NegBackward0>) [tensor(-29.4938, device='cuda:0', grad_fn=<NegBackward0>), tensor(-6.9040, device='cuda:0', grad_fn=<NegBackward0>), tensor(-81.4648, device='cuda:0', grad_fn=<AddBackward0>)]\n",
      "4.597237973154456\n",
      "tensor(-121.8766, device='cuda:0', grad_fn=<NegBackward0>) [tensor(-29.7382, device='cuda:0', grad_fn=<NegBackward0>), tensor(-8.1413, device='cuda:0', grad_fn=<NegBackward0>), tensor(-83.9972, device='cuda:0', grad_fn=<AddBackward0>)]\n",
      "4.334485678442465\n",
      "tensor(-120.0333, device='cuda:0', grad_fn=<NegBackward0>) [tensor(-29.7382, device='cuda:0', grad_fn=<NegBackward0>), tensor(-7.9125, device='cuda:0', grad_fn=<NegBackward0>), tensor(-82.3826, device='cuda:0', grad_fn=<AddBackward0>)]\n",
      "4.255571916863909\n",
      "tensor(-124.2769, device='cuda:0', grad_fn=<NegBackward0>) [tensor(-29.8881, device='cuda:0', grad_fn=<NegBackward0>), tensor(-10.3674, device='cuda:0', grad_fn=<NegBackward0>), tensor(-84.0215, device='cuda:0', grad_fn=<AddBackward0>)]\n",
      "4.130927083247887\n",
      "tensor(-120.2779, device='cuda:0', grad_fn=<NegBackward0>) [tensor(-29.8881, device='cuda:0', grad_fn=<NegBackward0>), tensor(-8.9060, device='cuda:0', grad_fn=<NegBackward0>), tensor(-81.4838, device='cuda:0', grad_fn=<AddBackward0>)]\n",
      "4.053922538663893\n",
      "tensor(-123.3675, device='cuda:0', grad_fn=<NegBackward0>) [tensor(-29.7166, device='cuda:0', grad_fn=<NegBackward0>), tensor(-10.2864, device='cuda:0', grad_fn=<NegBackward0>), tensor(-83.3645, device='cuda:0', grad_fn=<AddBackward0>)]\n",
      "4.4892070817791945\n",
      "tensor(-120.0798, device='cuda:0', grad_fn=<NegBackward0>) [tensor(-29.7166, device='cuda:0', grad_fn=<NegBackward0>), tensor(-7.9196, device='cuda:0', grad_fn=<NegBackward0>), tensor(-82.4436, device='cuda:0', grad_fn=<AddBackward0>)]\n",
      "4.202995916384162\n",
      "tensor(-118.7440, device='cuda:0', grad_fn=<NegBackward0>) [tensor(-29.8759, device='cuda:0', grad_fn=<NegBackward0>), tensor(-7.3485, device='cuda:0', grad_fn=<NegBackward0>), tensor(-81.5196, device='cuda:0', grad_fn=<AddBackward0>)]\n",
      "4.350304134579066\n",
      "tensor(-122.3679, device='cuda:0', grad_fn=<NegBackward0>) [tensor(-29.8759, device='cuda:0', grad_fn=<NegBackward0>), tensor(-8.2664, device='cuda:0', grad_fn=<NegBackward0>), tensor(-84.2256, device='cuda:0', grad_fn=<AddBackward0>)]\n",
      "4.093075226587826\n",
      "tensor(-120.6312, device='cuda:0', grad_fn=<NegBackward0>) [tensor(-30.0649, device='cuda:0', grad_fn=<NegBackward0>), tensor(-8.1325, device='cuda:0', grad_fn=<NegBackward0>), tensor(-82.4338, device='cuda:0', grad_fn=<AddBackward0>)]\n",
      "4.0661041526292045\n",
      "tensor(-121.9117, device='cuda:0', grad_fn=<NegBackward0>) [tensor(-30.0649, device='cuda:0', grad_fn=<NegBackward0>), tensor(-8.7441, device='cuda:0', grad_fn=<NegBackward0>), tensor(-83.1027, device='cuda:0', grad_fn=<AddBackward0>)]\n",
      "4.012316598162484\n",
      "tensor(-121.6052, device='cuda:0', grad_fn=<NegBackward0>) [tensor(-30.0623, device='cuda:0', grad_fn=<NegBackward0>), tensor(-9.4467, device='cuda:0', grad_fn=<NegBackward0>), tensor(-82.0961, device='cuda:0', grad_fn=<AddBackward0>)]\n",
      "4.371540903210638\n",
      "tensor(-120.3487, device='cuda:0', grad_fn=<NegBackward0>) [tensor(-30.0623, device='cuda:0', grad_fn=<NegBackward0>), tensor(-7.9001, device='cuda:0', grad_fn=<NegBackward0>), tensor(-82.3863, device='cuda:0', grad_fn=<AddBackward0>)]\n",
      "4.388605805339624\n",
      "tensor(-120.6644, device='cuda:0', grad_fn=<NegBackward0>) [tensor(-30.0689, device='cuda:0', grad_fn=<NegBackward0>), tensor(-7.9403, device='cuda:0', grad_fn=<NegBackward0>), tensor(-82.6552, device='cuda:0', grad_fn=<AddBackward0>)]\n",
      "4.307150383934257\n",
      "tensor(-118.9089, device='cuda:0', grad_fn=<NegBackward0>) [tensor(-30.0689, device='cuda:0', grad_fn=<NegBackward0>), tensor(-7.4201, device='cuda:0', grad_fn=<NegBackward0>), tensor(-81.4199, device='cuda:0', grad_fn=<AddBackward0>)]\n",
      "4.359061960270193\n",
      "tensor(-120.2685, device='cuda:0', grad_fn=<NegBackward0>) [tensor(-30.1341, device='cuda:0', grad_fn=<NegBackward0>), tensor(-7.7724, device='cuda:0', grad_fn=<NegBackward0>), tensor(-82.3620, device='cuda:0', grad_fn=<AddBackward0>)]\n",
      "3.7683368462044613\n",
      "tensor(-120.8434, device='cuda:0', grad_fn=<NegBackward0>) [tensor(-30.1341, device='cuda:0', grad_fn=<NegBackward0>), tensor(-9.5825, device='cuda:0', grad_fn=<NegBackward0>), tensor(-81.1267, device='cuda:0', grad_fn=<AddBackward0>)]\n",
      "4.201775682904605\n",
      "tensor(-121.6467, device='cuda:0', grad_fn=<NegBackward0>) [tensor(-30.0868, device='cuda:0', grad_fn=<NegBackward0>), tensor(-9.1359, device='cuda:0', grad_fn=<NegBackward0>), tensor(-82.4240, device='cuda:0', grad_fn=<AddBackward0>)]\n",
      "4.353049158500529\n",
      "tensor(-120.2594, device='cuda:0', grad_fn=<NegBackward0>) [tensor(-30.0868, device='cuda:0', grad_fn=<NegBackward0>), tensor(-7.9540, device='cuda:0', grad_fn=<NegBackward0>), tensor(-82.2186, device='cuda:0', grad_fn=<AddBackward0>)]\n",
      "4.21513947433489\n",
      "tensor(-120.1789, device='cuda:0', grad_fn=<NegBackward0>) [tensor(-30.1481, device='cuda:0', grad_fn=<NegBackward0>), tensor(-7.8589, device='cuda:0', grad_fn=<NegBackward0>), tensor(-82.1719, device='cuda:0', grad_fn=<AddBackward0>)]\n",
      "5.279199936394993\n",
      "tensor(-117.2111, device='cuda:0', grad_fn=<NegBackward0>) [tensor(-30.1481, device='cuda:0', grad_fn=<NegBackward0>), tensor(-6.0119, device='cuda:0', grad_fn=<NegBackward0>), tensor(-81.0510, device='cuda:0', grad_fn=<AddBackward0>)]\n",
      "4.410956878987844\n",
      "tensor(-123.7613, device='cuda:0', grad_fn=<NegBackward0>) [tensor(-30.3914, device='cuda:0', grad_fn=<NegBackward0>), tensor(-8.9579, device='cuda:0', grad_fn=<NegBackward0>), tensor(-84.4121, device='cuda:0', grad_fn=<AddBackward0>)]\n",
      "3.960003184171195\n",
      "tensor(-119.7162, device='cuda:0', grad_fn=<NegBackward0>) [tensor(-30.3914, device='cuda:0', grad_fn=<NegBackward0>), tensor(-7.5106, device='cuda:0', grad_fn=<NegBackward0>), tensor(-81.8143, device='cuda:0', grad_fn=<AddBackward0>)]\n",
      "4.031043482318222\n",
      "tensor(-124.6273, device='cuda:0', grad_fn=<NegBackward0>) [tensor(-30.4293, device='cuda:0', grad_fn=<NegBackward0>), tensor(-9.9399, device='cuda:0', grad_fn=<NegBackward0>), tensor(-84.2581, device='cuda:0', grad_fn=<AddBackward0>)]\n",
      "4.361046444830733\n",
      "tensor(-120.1088, device='cuda:0', grad_fn=<NegBackward0>) [tensor(-30.4293, device='cuda:0', grad_fn=<NegBackward0>), tensor(-7.4914, device='cuda:0', grad_fn=<NegBackward0>), tensor(-82.1880, device='cuda:0', grad_fn=<AddBackward0>)]\n"
     ]
    },
    {
     "name": "stdout",
     "output_type": "stream",
     "text": [
      "4.02181829804338\n",
      "tensor(-126.0056, device='cuda:0', grad_fn=<NegBackward0>) [tensor(-30.4713, device='cuda:0', grad_fn=<NegBackward0>), tensor(-11.4499, device='cuda:0', grad_fn=<NegBackward0>), tensor(-84.0843, device='cuda:0', grad_fn=<AddBackward0>)]\n",
      "4.4696851696772715\n",
      "tensor(-122.4542, device='cuda:0', grad_fn=<NegBackward0>) [tensor(-30.4713, device='cuda:0', grad_fn=<NegBackward0>), tensor(-8.2864, device='cuda:0', grad_fn=<NegBackward0>), tensor(-83.6965, device='cuda:0', grad_fn=<AddBackward0>)]\n",
      "4.484652121876835\n",
      "tensor(-122.3095, device='cuda:0', grad_fn=<NegBackward0>) [tensor(-30.6189, device='cuda:0', grad_fn=<NegBackward0>), tensor(-8.2653, device='cuda:0', grad_fn=<NegBackward0>), tensor(-83.4252, device='cuda:0', grad_fn=<AddBackward0>)]\n",
      "4.350897183892445\n",
      "tensor(-124.8442, device='cuda:0', grad_fn=<NegBackward0>) [tensor(-30.6189, device='cuda:0', grad_fn=<NegBackward0>), tensor(-9.5125, device='cuda:0', grad_fn=<NegBackward0>), tensor(-84.7128, device='cuda:0', grad_fn=<AddBackward0>)]\n",
      "4.3854023980027605\n",
      "tensor(-122.8870, device='cuda:0', grad_fn=<NegBackward0>) [tensor(-30.7464, device='cuda:0', grad_fn=<NegBackward0>), tensor(-8.0978, device='cuda:0', grad_fn=<NegBackward0>), tensor(-84.0428, device='cuda:0', grad_fn=<AddBackward0>)]\n",
      "4.332102958693405\n",
      "tensor(-123.6745, device='cuda:0', grad_fn=<NegBackward0>) [tensor(-30.7464, device='cuda:0', grad_fn=<NegBackward0>), tensor(-8.9893, device='cuda:0', grad_fn=<NegBackward0>), tensor(-83.9388, device='cuda:0', grad_fn=<AddBackward0>)]\n",
      "3.872685334314974\n",
      "tensor(-124.4041, device='cuda:0', grad_fn=<NegBackward0>) [tensor(-30.8734, device='cuda:0', grad_fn=<NegBackward0>), tensor(-10.1872, device='cuda:0', grad_fn=<NegBackward0>), tensor(-83.3435, device='cuda:0', grad_fn=<AddBackward0>)]\n",
      "4.317261948507747\n",
      "tensor(-121.5876, device='cuda:0', grad_fn=<NegBackward0>) [tensor(-30.8734, device='cuda:0', grad_fn=<NegBackward0>), tensor(-8.4354, device='cuda:0', grad_fn=<NegBackward0>), tensor(-82.2789, device='cuda:0', grad_fn=<AddBackward0>)]\n",
      "4.079449265406906\n",
      "tensor(-127.2497, device='cuda:0', grad_fn=<NegBackward0>) [tensor(-31.0292, device='cuda:0', grad_fn=<NegBackward0>), tensor(-10.7943, device='cuda:0', grad_fn=<NegBackward0>), tensor(-85.4261, device='cuda:0', grad_fn=<AddBackward0>)]\n",
      "4.548428139813731\n",
      "tensor(-121.7617, device='cuda:0', grad_fn=<NegBackward0>) [tensor(-31.0292, device='cuda:0', grad_fn=<NegBackward0>), tensor(-7.8491, device='cuda:0', grad_fn=<NegBackward0>), tensor(-82.8834, device='cuda:0', grad_fn=<AddBackward0>)]\n",
      "4.465366524424441\n",
      "tensor(-122.2453, device='cuda:0', grad_fn=<NegBackward0>) [tensor(-31.1975, device='cuda:0', grad_fn=<NegBackward0>), tensor(-7.5956, device='cuda:0', grad_fn=<NegBackward0>), tensor(-83.4522, device='cuda:0', grad_fn=<AddBackward0>)]\n",
      "3.5953359723000173\n",
      "tensor(-122.5311, device='cuda:0', grad_fn=<NegBackward0>) [tensor(-31.1975, device='cuda:0', grad_fn=<NegBackward0>), tensor(-9.5082, device='cuda:0', grad_fn=<NegBackward0>), tensor(-81.8254, device='cuda:0', grad_fn=<AddBackward0>)]\n",
      "4.236943718829384\n",
      "tensor(-123.8429, device='cuda:0', grad_fn=<NegBackward0>) [tensor(-30.9386, device='cuda:0', grad_fn=<NegBackward0>), tensor(-9.0105, device='cuda:0', grad_fn=<NegBackward0>), tensor(-83.8938, device='cuda:0', grad_fn=<AddBackward0>)]\n",
      "4.34687152115431\n",
      "tensor(-124.2248, device='cuda:0', grad_fn=<NegBackward0>) [tensor(-30.9386, device='cuda:0', grad_fn=<NegBackward0>), tensor(-9.1888, device='cuda:0', grad_fn=<NegBackward0>), tensor(-84.0974, device='cuda:0', grad_fn=<AddBackward0>)]\n",
      "4.150495286788394\n",
      "tensor(-122.5334, device='cuda:0', grad_fn=<NegBackward0>) [tensor(-30.9517, device='cuda:0', grad_fn=<NegBackward0>), tensor(-8.5276, device='cuda:0', grad_fn=<NegBackward0>), tensor(-83.0541, device='cuda:0', grad_fn=<AddBackward0>)]\n",
      "4.486379807920494\n",
      "tensor(-123.8380, device='cuda:0', grad_fn=<NegBackward0>) [tensor(-30.9517, device='cuda:0', grad_fn=<NegBackward0>), tensor(-8.8862, device='cuda:0', grad_fn=<NegBackward0>), tensor(-84.0001, device='cuda:0', grad_fn=<AddBackward0>)]\n",
      "4.482671258554779\n",
      "tensor(-125.8435, device='cuda:0', grad_fn=<NegBackward0>) [tensor(-31.0019, device='cuda:0', grad_fn=<NegBackward0>), tensor(-9.2281, device='cuda:0', grad_fn=<NegBackward0>), tensor(-85.6135, device='cuda:0', grad_fn=<AddBackward0>)]\n",
      "3.9034831672797083\n",
      "tensor(-122.5542, device='cuda:0', grad_fn=<NegBackward0>) [tensor(-31.0019, device='cuda:0', grad_fn=<NegBackward0>), tensor(-9.3193, device='cuda:0', grad_fn=<NegBackward0>), tensor(-82.2329, device='cuda:0', grad_fn=<AddBackward0>)]\n",
      "4.539536084410098\n",
      "tensor(-122.6032, device='cuda:0', grad_fn=<NegBackward0>) [tensor(-31.1222, device='cuda:0', grad_fn=<NegBackward0>), tensor(-7.8425, device='cuda:0', grad_fn=<NegBackward0>), tensor(-83.6385, device='cuda:0', grad_fn=<AddBackward0>)]\n",
      "4.428251898049503\n",
      "tensor(-121.7586, device='cuda:0', grad_fn=<NegBackward0>) [tensor(-31.1222, device='cuda:0', grad_fn=<NegBackward0>), tensor(-7.8689, device='cuda:0', grad_fn=<NegBackward0>), tensor(-82.7675, device='cuda:0', grad_fn=<AddBackward0>)]\n",
      "4.228683847729346\n",
      "tensor(-121.7464, device='cuda:0', grad_fn=<NegBackward0>) [tensor(-31.3259, device='cuda:0', grad_fn=<NegBackward0>), tensor(-7.5535, device='cuda:0', grad_fn=<NegBackward0>), tensor(-82.8670, device='cuda:0', grad_fn=<AddBackward0>)]\n",
      "4.415095447435871\n",
      "tensor(-124.2231, device='cuda:0', grad_fn=<NegBackward0>) [tensor(-31.3259, device='cuda:0', grad_fn=<NegBackward0>), tensor(-8.6455, device='cuda:0', grad_fn=<NegBackward0>), tensor(-84.2516, device='cuda:0', grad_fn=<AddBackward0>)]\n",
      "4.465778477149779\n",
      "tensor(-122.0449, device='cuda:0', grad_fn=<NegBackward0>) [tensor(-31.5429, device='cuda:0', grad_fn=<NegBackward0>), tensor(-7.6272, device='cuda:0', grad_fn=<NegBackward0>), tensor(-82.8748, device='cuda:0', grad_fn=<AddBackward0>)]\n",
      "3.810972366116547\n",
      "tensor(-123.9470, device='cuda:0', grad_fn=<NegBackward0>) [tensor(-31.5429, device='cuda:0', grad_fn=<NegBackward0>), tensor(-10.0361, device='cuda:0', grad_fn=<NegBackward0>), tensor(-82.3681, device='cuda:0', grad_fn=<AddBackward0>)]\n",
      "4.078257518484065\n",
      "tensor(-121.5407, device='cuda:0', grad_fn=<NegBackward0>) [tensor(-31.4263, device='cuda:0', grad_fn=<NegBackward0>), tensor(-7.8811, device='cuda:0', grad_fn=<NegBackward0>), tensor(-82.2333, device='cuda:0', grad_fn=<AddBackward0>)]\n",
      "4.122243683069802\n",
      "tensor(-123.1900, device='cuda:0', grad_fn=<NegBackward0>) [tensor(-31.4263, device='cuda:0', grad_fn=<NegBackward0>), tensor(-8.1393, device='cuda:0', grad_fn=<NegBackward0>), tensor(-83.6244, device='cuda:0', grad_fn=<AddBackward0>)]\n",
      "4.113489587439664\n",
      "tensor(-123.4862, device='cuda:0', grad_fn=<NegBackward0>) [tensor(-31.5257, device='cuda:0', grad_fn=<NegBackward0>), tensor(-8.4234, device='cuda:0', grad_fn=<NegBackward0>), tensor(-83.5370, device='cuda:0', grad_fn=<AddBackward0>)]\n",
      "4.041482859349699\n",
      "tensor(-121.8975, device='cuda:0', grad_fn=<NegBackward0>) [tensor(-31.5257, device='cuda:0', grad_fn=<NegBackward0>), tensor(-7.8589, device='cuda:0', grad_fn=<NegBackward0>), tensor(-82.5129, device='cuda:0', grad_fn=<AddBackward0>)]\n",
      "3.872242664553489\n",
      "tensor(-124.3203, device='cuda:0', grad_fn=<NegBackward0>) [tensor(-31.7773, device='cuda:0', grad_fn=<NegBackward0>), tensor(-9.3775, device='cuda:0', grad_fn=<NegBackward0>), tensor(-83.1655, device='cuda:0', grad_fn=<AddBackward0>)]\n",
      "4.424515967638365\n",
      "tensor(-121.1003, device='cuda:0', grad_fn=<NegBackward0>) [tensor(-31.7773, device='cuda:0', grad_fn=<NegBackward0>), tensor(-7.0926, device='cuda:0', grad_fn=<NegBackward0>), tensor(-82.2304, device='cuda:0', grad_fn=<AddBackward0>)]\n",
      "3.9323068769136644\n",
      "tensor(-125.3325, device='cuda:0', grad_fn=<NegBackward0>) [tensor(-31.9976, device='cuda:0', grad_fn=<NegBackward0>), tensor(-9.0387, device='cuda:0', grad_fn=<NegBackward0>), tensor(-84.2963, device='cuda:0', grad_fn=<AddBackward0>)]\n",
      "4.1610936820400415\n",
      "tensor(-124.6930, device='cuda:0', grad_fn=<NegBackward0>) [tensor(-31.9976, device='cuda:0', grad_fn=<NegBackward0>), tensor(-8.8062, device='cuda:0', grad_fn=<NegBackward0>), tensor(-83.8892, device='cuda:0', grad_fn=<AddBackward0>)]\n",
      "4.220522937003665\n",
      "tensor(-123.7327, device='cuda:0', grad_fn=<NegBackward0>) [tensor(-32.1683, device='cuda:0', grad_fn=<NegBackward0>), tensor(-8.2232, device='cuda:0', grad_fn=<NegBackward0>), tensor(-83.3412, device='cuda:0', grad_fn=<AddBackward0>)]\n"
     ]
    },
    {
     "name": "stdout",
     "output_type": "stream",
     "text": [
      "4.263634635174369\n",
      "tensor(-127.4247, device='cuda:0', grad_fn=<NegBackward0>) [tensor(-32.1683, device='cuda:0', grad_fn=<NegBackward0>), tensor(-9.6483, device='cuda:0', grad_fn=<NegBackward0>), tensor(-85.6081, device='cuda:0', grad_fn=<AddBackward0>)]\n",
      "4.34488237192426\n",
      "tensor(-129.4677, device='cuda:0', grad_fn=<NegBackward0>) [tensor(-32.1665, device='cuda:0', grad_fn=<NegBackward0>), tensor(-9.8949, device='cuda:0', grad_fn=<NegBackward0>), tensor(-87.4064, device='cuda:0', grad_fn=<AddBackward0>)]\n",
      "4.639012094303697\n",
      "tensor(-127.0478, device='cuda:0', grad_fn=<NegBackward0>) [tensor(-32.1665, device='cuda:0', grad_fn=<NegBackward0>), tensor(-9.1532, device='cuda:0', grad_fn=<NegBackward0>), tensor(-85.7281, device='cuda:0', grad_fn=<AddBackward0>)]\n",
      "3.9231742287458875\n",
      "tensor(-126.1853, device='cuda:0', grad_fn=<NegBackward0>) [tensor(-32.1843, device='cuda:0', grad_fn=<NegBackward0>), tensor(-9.5805, device='cuda:0', grad_fn=<NegBackward0>), tensor(-84.4205, device='cuda:0', grad_fn=<AddBackward0>)]\n",
      "3.945201996901991\n",
      "tensor(-125.5376, device='cuda:0', grad_fn=<NegBackward0>) [tensor(-32.1843, device='cuda:0', grad_fn=<NegBackward0>), tensor(-9.5773, device='cuda:0', grad_fn=<NegBackward0>), tensor(-83.7760, device='cuda:0', grad_fn=<AddBackward0>)]\n",
      "3.764250095774472\n",
      "tensor(-123.0672, device='cuda:0', grad_fn=<NegBackward0>) [tensor(-32.1997, device='cuda:0', grad_fn=<NegBackward0>), tensor(-8.4409, device='cuda:0', grad_fn=<NegBackward0>), tensor(-82.4266, device='cuda:0', grad_fn=<AddBackward0>)]\n",
      "3.66389685782173\n",
      "tensor(-125.9946, device='cuda:0', grad_fn=<NegBackward0>) [tensor(-32.1997, device='cuda:0', grad_fn=<NegBackward0>), tensor(-10.9098, device='cuda:0', grad_fn=<NegBackward0>), tensor(-82.8851, device='cuda:0', grad_fn=<AddBackward0>)]\n",
      "3.9898357268005302\n",
      "tensor(-127.3929, device='cuda:0', grad_fn=<NegBackward0>) [tensor(-31.8192, device='cuda:0', grad_fn=<NegBackward0>), tensor(-10.8739, device='cuda:0', grad_fn=<NegBackward0>), tensor(-84.6998, device='cuda:0', grad_fn=<AddBackward0>)]\n",
      "4.2032643530064355\n",
      "tensor(-123.6915, device='cuda:0', grad_fn=<NegBackward0>) [tensor(-31.8192, device='cuda:0', grad_fn=<NegBackward0>), tensor(-8.2957, device='cuda:0', grad_fn=<NegBackward0>), tensor(-83.5766, device='cuda:0', grad_fn=<AddBackward0>)]\n",
      "4.052061317356401\n",
      "tensor(-122.0269, device='cuda:0', grad_fn=<NegBackward0>) [tensor(-32.0712, device='cuda:0', grad_fn=<NegBackward0>), tensor(-7.3507, device='cuda:0', grad_fn=<NegBackward0>), tensor(-82.6050, device='cuda:0', grad_fn=<AddBackward0>)]\n",
      "4.046775071929599\n",
      "tensor(-130.7289, device='cuda:0', grad_fn=<NegBackward0>) [tensor(-32.0712, device='cuda:0', grad_fn=<NegBackward0>), tensor(-10.9738, device='cuda:0', grad_fn=<NegBackward0>), tensor(-87.6839, device='cuda:0', grad_fn=<AddBackward0>)]\n",
      "4.134272844581197\n",
      "tensor(-122.7052, device='cuda:0', grad_fn=<NegBackward0>) [tensor(-32.1508, device='cuda:0', grad_fn=<NegBackward0>), tensor(-7.7611, device='cuda:0', grad_fn=<NegBackward0>), tensor(-82.7933, device='cuda:0', grad_fn=<AddBackward0>)]\n",
      "4.066011085739544\n",
      "tensor(-127.2770, device='cuda:0', grad_fn=<NegBackward0>) [tensor(-32.1508, device='cuda:0', grad_fn=<NegBackward0>), tensor(-10.2658, device='cuda:0', grad_fn=<NegBackward0>), tensor(-84.8604, device='cuda:0', grad_fn=<AddBackward0>)]\n",
      "4.181117601771255\n",
      "tensor(-129.4728, device='cuda:0', grad_fn=<NegBackward0>) [tensor(-32.3535, device='cuda:0', grad_fn=<NegBackward0>), tensor(-10.3082, device='cuda:0', grad_fn=<NegBackward0>), tensor(-86.8111, device='cuda:0', grad_fn=<AddBackward0>)]\n",
      "3.992324233512661\n",
      "tensor(-124.7844, device='cuda:0', grad_fn=<NegBackward0>) [tensor(-32.3535, device='cuda:0', grad_fn=<NegBackward0>), tensor(-8.8766, device='cuda:0', grad_fn=<NegBackward0>), tensor(-83.5542, device='cuda:0', grad_fn=<AddBackward0>)]\n",
      "4.459361225980605\n",
      "tensor(-123.3360, device='cuda:0', grad_fn=<NegBackward0>) [tensor(-32.3219, device='cuda:0', grad_fn=<NegBackward0>), tensor(-7.7587, device='cuda:0', grad_fn=<NegBackward0>), tensor(-83.2554, device='cuda:0', grad_fn=<AddBackward0>)]\n",
      "4.246952350531378\n",
      "tensor(-124.7355, device='cuda:0', grad_fn=<NegBackward0>) [tensor(-32.3219, device='cuda:0', grad_fn=<NegBackward0>), tensor(-8.5797, device='cuda:0', grad_fn=<NegBackward0>), tensor(-83.8340, device='cuda:0', grad_fn=<AddBackward0>)]\n",
      "3.9953371091015835\n",
      "tensor(-124.4465, device='cuda:0', grad_fn=<NegBackward0>) [tensor(-32.3758, device='cuda:0', grad_fn=<NegBackward0>), tensor(-8.7036, device='cuda:0', grad_fn=<NegBackward0>), tensor(-83.3671, device='cuda:0', grad_fn=<AddBackward0>)]\n",
      "4.141114325821509\n",
      "tensor(-123.6960, device='cuda:0', grad_fn=<NegBackward0>) [tensor(-32.3758, device='cuda:0', grad_fn=<NegBackward0>), tensor(-8.2970, device='cuda:0', grad_fn=<NegBackward0>), tensor(-83.0231, device='cuda:0', grad_fn=<AddBackward0>)]\n",
      "4.3960572299664085\n",
      "tensor(-125.8830, device='cuda:0', grad_fn=<NegBackward0>) [tensor(-32.5447, device='cuda:0', grad_fn=<NegBackward0>), tensor(-8.3194, device='cuda:0', grad_fn=<NegBackward0>), tensor(-85.0188, device='cuda:0', grad_fn=<AddBackward0>)]\n",
      "3.989606033492671\n",
      "tensor(-124.7413, device='cuda:0', grad_fn=<NegBackward0>) [tensor(-32.5447, device='cuda:0', grad_fn=<NegBackward0>), tensor(-9.0015, device='cuda:0', grad_fn=<NegBackward0>), tensor(-83.1951, device='cuda:0', grad_fn=<AddBackward0>)]\n",
      "4.222565987080864\n",
      "tensor(-130.1592, device='cuda:0', grad_fn=<NegBackward0>) [tensor(-32.5887, device='cuda:0', grad_fn=<NegBackward0>), tensor(-10.0277, device='cuda:0', grad_fn=<NegBackward0>), tensor(-87.5429, device='cuda:0', grad_fn=<AddBackward0>)]\n",
      "4.139805873906458\n",
      "tensor(-125.4964, device='cuda:0', grad_fn=<NegBackward0>) [tensor(-32.5887, device='cuda:0', grad_fn=<NegBackward0>), tensor(-8.7791, device='cuda:0', grad_fn=<NegBackward0>), tensor(-84.1286, device='cuda:0', grad_fn=<AddBackward0>)]\n",
      "4.588675733025788\n",
      "tensor(-125.4468, device='cuda:0', grad_fn=<NegBackward0>) [tensor(-32.6992, device='cuda:0', grad_fn=<NegBackward0>), tensor(-8.3319, device='cuda:0', grad_fn=<NegBackward0>), tensor(-84.4157, device='cuda:0', grad_fn=<AddBackward0>)]\n",
      "4.201804524846909\n",
      "tensor(-124.8396, device='cuda:0', grad_fn=<NegBackward0>) [tensor(-32.6992, device='cuda:0', grad_fn=<NegBackward0>), tensor(-8.6403, device='cuda:0', grad_fn=<NegBackward0>), tensor(-83.5000, device='cuda:0', grad_fn=<AddBackward0>)]\n",
      "3.917502181258445\n",
      "tensor(-126.0705, device='cuda:0', grad_fn=<NegBackward0>) [tensor(-32.8436, device='cuda:0', grad_fn=<NegBackward0>), tensor(-9.4944, device='cuda:0', grad_fn=<NegBackward0>), tensor(-83.7325, device='cuda:0', grad_fn=<AddBackward0>)]\n",
      "4.138357320970592\n",
      "tensor(-130.5454, device='cuda:0', grad_fn=<NegBackward0>) [tensor(-32.8436, device='cuda:0', grad_fn=<NegBackward0>), tensor(-10.6445, device='cuda:0', grad_fn=<NegBackward0>), tensor(-87.0573, device='cuda:0', grad_fn=<AddBackward0>)]\n",
      "4.392099618557399\n",
      "tensor(-121.5856, device='cuda:0', grad_fn=<NegBackward0>) [tensor(-32.7170, device='cuda:0', grad_fn=<NegBackward0>), tensor(-6.8029, device='cuda:0', grad_fn=<NegBackward0>), tensor(-82.0657, device='cuda:0', grad_fn=<AddBackward0>)]\n",
      "3.916000657654872\n",
      "tensor(-126.4133, device='cuda:0', grad_fn=<NegBackward0>) [tensor(-32.7170, device='cuda:0', grad_fn=<NegBackward0>), tensor(-9.8301, device='cuda:0', grad_fn=<NegBackward0>), tensor(-83.8662, device='cuda:0', grad_fn=<AddBackward0>)]\n",
      "3.9832293647873582\n",
      "tensor(-125.8683, device='cuda:0', grad_fn=<NegBackward0>) [tensor(-32.8245, device='cuda:0', grad_fn=<NegBackward0>), tensor(-8.9345, device='cuda:0', grad_fn=<NegBackward0>), tensor(-84.1094, device='cuda:0', grad_fn=<AddBackward0>)]\n",
      "4.162998986754257\n",
      "tensor(-125.3000, device='cuda:0', grad_fn=<NegBackward0>) [tensor(-32.8245, device='cuda:0', grad_fn=<NegBackward0>), tensor(-8.7021, device='cuda:0', grad_fn=<NegBackward0>), tensor(-83.7734, device='cuda:0', grad_fn=<AddBackward0>)]\n",
      "3.9835984054343543\n",
      "tensor(-126.5303, device='cuda:0', grad_fn=<NegBackward0>) [tensor(-32.8132, device='cuda:0', grad_fn=<NegBackward0>), tensor(-9.9769, device='cuda:0', grad_fn=<NegBackward0>), tensor(-83.7403, device='cuda:0', grad_fn=<AddBackward0>)]\n",
      "4.298018826956251\n",
      "tensor(-123.4445, device='cuda:0', grad_fn=<NegBackward0>) [tensor(-32.8132, device='cuda:0', grad_fn=<NegBackward0>), tensor(-7.2104, device='cuda:0', grad_fn=<NegBackward0>), tensor(-83.4209, device='cuda:0', grad_fn=<AddBackward0>)]\n"
     ]
    },
    {
     "name": "stdout",
     "output_type": "stream",
     "text": [
      "4.528642632299937\n",
      "tensor(-123.9632, device='cuda:0', grad_fn=<NegBackward0>) [tensor(-32.9584, device='cuda:0', grad_fn=<NegBackward0>), tensor(-7.3004, device='cuda:0', grad_fn=<NegBackward0>), tensor(-83.7044, device='cuda:0', grad_fn=<AddBackward0>)]\n",
      "4.396176287677968\n",
      "tensor(-124.6384, device='cuda:0', grad_fn=<NegBackward0>) [tensor(-32.9584, device='cuda:0', grad_fn=<NegBackward0>), tensor(-7.7365, device='cuda:0', grad_fn=<NegBackward0>), tensor(-83.9435, device='cuda:0', grad_fn=<AddBackward0>)]\n",
      "4.122621711836419\n",
      "tensor(-128.9633, device='cuda:0', grad_fn=<NegBackward0>) [tensor(-33.2339, device='cuda:0', grad_fn=<NegBackward0>), tensor(-9.9710, device='cuda:0', grad_fn=<NegBackward0>), tensor(-85.7585, device='cuda:0', grad_fn=<AddBackward0>)]\n",
      "4.395214993396166\n",
      "tensor(-128.5340, device='cuda:0', grad_fn=<NegBackward0>) [tensor(-33.2339, device='cuda:0', grad_fn=<NegBackward0>), tensor(-9.1927, device='cuda:0', grad_fn=<NegBackward0>), tensor(-86.1074, device='cuda:0', grad_fn=<AddBackward0>)]\n",
      "3.9134494845834125\n",
      "tensor(-126.9142, device='cuda:0', grad_fn=<NegBackward0>) [tensor(-33.3494, device='cuda:0', grad_fn=<NegBackward0>), tensor(-9.9120, device='cuda:0', grad_fn=<NegBackward0>), tensor(-83.6528, device='cuda:0', grad_fn=<AddBackward0>)]\n",
      "4.239343604150134\n",
      "tensor(-127.0985, device='cuda:0', grad_fn=<NegBackward0>) [tensor(-33.3494, device='cuda:0', grad_fn=<NegBackward0>), tensor(-8.5787, device='cuda:0', grad_fn=<NegBackward0>), tensor(-85.1704, device='cuda:0', grad_fn=<AddBackward0>)]\n",
      "4.4112236373376685\n",
      "tensor(-127.7272, device='cuda:0', grad_fn=<NegBackward0>) [tensor(-33.4787, device='cuda:0', grad_fn=<NegBackward0>), tensor(-8.9704, device='cuda:0', grad_fn=<NegBackward0>), tensor(-85.2781, device='cuda:0', grad_fn=<AddBackward0>)]\n",
      "4.070685735622799\n",
      "tensor(-123.9443, device='cuda:0', grad_fn=<NegBackward0>) [tensor(-33.4787, device='cuda:0', grad_fn=<NegBackward0>), tensor(-7.4112, device='cuda:0', grad_fn=<NegBackward0>), tensor(-83.0545, device='cuda:0', grad_fn=<AddBackward0>)]\n",
      "3.99740513826346\n",
      "tensor(-128.8395, device='cuda:0', grad_fn=<NegBackward0>) [tensor(-33.5660, device='cuda:0', grad_fn=<NegBackward0>), tensor(-9.2410, device='cuda:0', grad_fn=<NegBackward0>), tensor(-86.0326, device='cuda:0', grad_fn=<AddBackward0>)]\n",
      "4.280122407798909\n",
      "tensor(-126.5042, device='cuda:0', grad_fn=<NegBackward0>) [tensor(-33.5660, device='cuda:0', grad_fn=<NegBackward0>), tensor(-7.7383, device='cuda:0', grad_fn=<NegBackward0>), tensor(-85.1999, device='cuda:0', grad_fn=<AddBackward0>)]\n",
      "4.372787682689736\n",
      "tensor(-129.8836, device='cuda:0', grad_fn=<NegBackward0>) [tensor(-33.7964, device='cuda:0', grad_fn=<NegBackward0>), tensor(-9.3364, device='cuda:0', grad_fn=<NegBackward0>), tensor(-86.7509, device='cuda:0', grad_fn=<AddBackward0>)]\n",
      "4.216468005463758\n",
      "tensor(-128.1289, device='cuda:0', grad_fn=<NegBackward0>) [tensor(-33.7964, device='cuda:0', grad_fn=<NegBackward0>), tensor(-8.8630, device='cuda:0', grad_fn=<NegBackward0>), tensor(-85.4696, device='cuda:0', grad_fn=<AddBackward0>)]\n",
      "69.07841040391126\n",
      "tensor(-120.3316, device='cuda:0', grad_fn=<NegBackward0>) [tensor(-33.6214, device='cuda:0', grad_fn=<NegBackward0>), tensor(-4.7992, device='cuda:0', grad_fn=<NegBackward0>), tensor(-81.9111, device='cuda:0', grad_fn=<AddBackward0>)]\n",
      "3.8930272016301046\n",
      "tensor(-127.8879, device='cuda:0', grad_fn=<NegBackward0>) [tensor(-33.6214, device='cuda:0', grad_fn=<NegBackward0>), tensor(-10.0241, device='cuda:0', grad_fn=<NegBackward0>), tensor(-84.2424, device='cuda:0', grad_fn=<AddBackward0>)]\n",
      "4.143628555648035\n",
      "tensor(-126.3406, device='cuda:0', grad_fn=<NegBackward0>) [tensor(-33.3092, device='cuda:0', grad_fn=<NegBackward0>), tensor(-8.6270, device='cuda:0', grad_fn=<NegBackward0>), tensor(-84.4044, device='cuda:0', grad_fn=<AddBackward0>)]\n",
      "4.30150855330046\n",
      "tensor(-125.3275, device='cuda:0', grad_fn=<NegBackward0>) [tensor(-33.3092, device='cuda:0', grad_fn=<NegBackward0>), tensor(-8.5573, device='cuda:0', grad_fn=<NegBackward0>), tensor(-83.4610, device='cuda:0', grad_fn=<AddBackward0>)]\n",
      "3.8422870672198637\n",
      "tensor(-125.8997, device='cuda:0', grad_fn=<NegBackward0>) [tensor(-33.3925, device='cuda:0', grad_fn=<NegBackward0>), tensor(-8.6820, device='cuda:0', grad_fn=<NegBackward0>), tensor(-83.8251, device='cuda:0', grad_fn=<AddBackward0>)]\n",
      "4.557569462573883\n",
      "tensor(-125.1412, device='cuda:0', grad_fn=<NegBackward0>) [tensor(-33.3925, device='cuda:0', grad_fn=<NegBackward0>), tensor(-7.2416, device='cuda:0', grad_fn=<NegBackward0>), tensor(-84.5070, device='cuda:0', grad_fn=<AddBackward0>)]\n",
      "3.9437273273974265\n",
      "tensor(-125.0302, device='cuda:0', grad_fn=<NegBackward0>) [tensor(-33.6394, device='cuda:0', grad_fn=<NegBackward0>), tensor(-7.6915, device='cuda:0', grad_fn=<NegBackward0>), tensor(-83.6992, device='cuda:0', grad_fn=<AddBackward0>)]\n",
      "4.546245721775485\n",
      "tensor(-126.3078, device='cuda:0', grad_fn=<NegBackward0>) [tensor(-33.6394, device='cuda:0', grad_fn=<NegBackward0>), tensor(-7.9816, device='cuda:0', grad_fn=<NegBackward0>), tensor(-84.6868, device='cuda:0', grad_fn=<AddBackward0>)]\n",
      "4.172226066035371\n",
      "tensor(-130.5483, device='cuda:0', grad_fn=<NegBackward0>) [tensor(-33.8482, device='cuda:0', grad_fn=<NegBackward0>), tensor(-10.2621, device='cuda:0', grad_fn=<NegBackward0>), tensor(-86.4380, device='cuda:0', grad_fn=<AddBackward0>)]\n",
      "4.256835496688953\n",
      "tensor(-127.5886, device='cuda:0', grad_fn=<NegBackward0>) [tensor(-33.8482, device='cuda:0', grad_fn=<NegBackward0>), tensor(-7.9469, device='cuda:0', grad_fn=<NegBackward0>), tensor(-85.7936, device='cuda:0', grad_fn=<AddBackward0>)]\n",
      "26.21703407169316\n",
      "tensor(-124.1213, device='cuda:0', grad_fn=<NegBackward0>) [tensor(-34.0350, device='cuda:0', grad_fn=<NegBackward0>), tensor(-6.0088, device='cuda:0', grad_fn=<NegBackward0>), tensor(-84.0775, device='cuda:0', grad_fn=<AddBackward0>)]\n",
      "4.699910752456732\n",
      "tensor(-126.2562, device='cuda:0', grad_fn=<NegBackward0>) [tensor(-34.0350, device='cuda:0', grad_fn=<NegBackward0>), tensor(-7.6494, device='cuda:0', grad_fn=<NegBackward0>), tensor(-84.5717, device='cuda:0', grad_fn=<AddBackward0>)]\n",
      "4.400855101798889\n",
      "tensor(-128.1696, device='cuda:0', grad_fn=<NegBackward0>) [tensor(-34.0815, device='cuda:0', grad_fn=<NegBackward0>), tensor(-8.4925, device='cuda:0', grad_fn=<NegBackward0>), tensor(-85.5956, device='cuda:0', grad_fn=<AddBackward0>)]\n",
      "4.085427170254791\n",
      "tensor(-125.9400, device='cuda:0', grad_fn=<NegBackward0>) [tensor(-34.0815, device='cuda:0', grad_fn=<NegBackward0>), tensor(-7.7448, device='cuda:0', grad_fn=<NegBackward0>), tensor(-84.1136, device='cuda:0', grad_fn=<AddBackward0>)]\n",
      "5.319047103400727\n",
      "tensor(-124.9143, device='cuda:0', grad_fn=<NegBackward0>) [tensor(-34.1014, device='cuda:0', grad_fn=<NegBackward0>), tensor(-6.4900, device='cuda:0', grad_fn=<NegBackward0>), tensor(-84.3229, device='cuda:0', grad_fn=<AddBackward0>)]\n",
      "4.0631132074610985\n",
      "tensor(-123.8293, device='cuda:0', grad_fn=<NegBackward0>) [tensor(-34.1014, device='cuda:0', grad_fn=<NegBackward0>), tensor(-7.3498, device='cuda:0', grad_fn=<NegBackward0>), tensor(-82.3780, device='cuda:0', grad_fn=<AddBackward0>)]\n",
      "4.093685716470636\n",
      "tensor(-129.6116, device='cuda:0', grad_fn=<NegBackward0>) [tensor(-34.1953, device='cuda:0', grad_fn=<NegBackward0>), tensor(-9.4811, device='cuda:0', grad_fn=<NegBackward0>), tensor(-85.9353, device='cuda:0', grad_fn=<AddBackward0>)]\n",
      "4.354513028729128\n",
      "tensor(-125.2254, device='cuda:0', grad_fn=<NegBackward0>) [tensor(-34.1953, device='cuda:0', grad_fn=<NegBackward0>), tensor(-6.9611, device='cuda:0', grad_fn=<NegBackward0>), tensor(-84.0690, device='cuda:0', grad_fn=<AddBackward0>)]\n",
      "4.3042555483344955\n",
      "tensor(-125.9910, device='cuda:0', grad_fn=<NegBackward0>) [tensor(-34.2978, device='cuda:0', grad_fn=<NegBackward0>), tensor(-7.6456, device='cuda:0', grad_fn=<NegBackward0>), tensor(-84.0476, device='cuda:0', grad_fn=<AddBackward0>)]\n",
      "3.769297712332179\n",
      "tensor(-127.6360, device='cuda:0', grad_fn=<NegBackward0>) [tensor(-34.2978, device='cuda:0', grad_fn=<NegBackward0>), tensor(-9.2714, device='cuda:0', grad_fn=<NegBackward0>), tensor(-84.0668, device='cuda:0', grad_fn=<AddBackward0>)]\n",
      "4.07216140383524\n",
      "tensor(-124.6103, device='cuda:0', grad_fn=<NegBackward0>) [tensor(-34.0578, device='cuda:0', grad_fn=<NegBackward0>), tensor(-7.6080, device='cuda:0', grad_fn=<NegBackward0>), tensor(-82.9444, device='cuda:0', grad_fn=<AddBackward0>)]\n"
     ]
    },
    {
     "name": "stdout",
     "output_type": "stream",
     "text": [
      "3.8218757418502776\n",
      "tensor(-127.0403, device='cuda:0', grad_fn=<NegBackward0>) [tensor(-34.0578, device='cuda:0', grad_fn=<NegBackward0>), tensor(-8.6651, device='cuda:0', grad_fn=<NegBackward0>), tensor(-84.3173, device='cuda:0', grad_fn=<AddBackward0>)]\n",
      "4.206853400418046\n",
      "tensor(-127.0231, device='cuda:0', grad_fn=<NegBackward0>) [tensor(-33.8641, device='cuda:0', grad_fn=<NegBackward0>), tensor(-8.1850, device='cuda:0', grad_fn=<NegBackward0>), tensor(-84.9741, device='cuda:0', grad_fn=<AddBackward0>)]\n",
      "4.099649231842962\n",
      "tensor(-126.9540, device='cuda:0', grad_fn=<NegBackward0>) [tensor(-33.8641, device='cuda:0', grad_fn=<NegBackward0>), tensor(-8.2756, device='cuda:0', grad_fn=<NegBackward0>), tensor(-84.8142, device='cuda:0', grad_fn=<AddBackward0>)]\n",
      "3.9060977431576065\n",
      "tensor(-127.0195, device='cuda:0', grad_fn=<NegBackward0>) [tensor(-34.0012, device='cuda:0', grad_fn=<NegBackward0>), tensor(-9.4023, device='cuda:0', grad_fn=<NegBackward0>), tensor(-83.6160, device='cuda:0', grad_fn=<AddBackward0>)]\n",
      "4.357872991879737\n",
      "tensor(-126.3711, device='cuda:0', grad_fn=<NegBackward0>) [tensor(-34.0012, device='cuda:0', grad_fn=<NegBackward0>), tensor(-7.6176, device='cuda:0', grad_fn=<NegBackward0>), tensor(-84.7523, device='cuda:0', grad_fn=<AddBackward0>)]\n",
      "3.7230528193423846\n",
      "tensor(-128.6083, device='cuda:0', grad_fn=<NegBackward0>) [tensor(-34.2208, device='cuda:0', grad_fn=<NegBackward0>), tensor(-10.2376, device='cuda:0', grad_fn=<NegBackward0>), tensor(-84.1498, device='cuda:0', grad_fn=<AddBackward0>)]\n",
      "3.8368920622926335\n",
      "tensor(-128.4797, device='cuda:0', grad_fn=<NegBackward0>) [tensor(-34.2208, device='cuda:0', grad_fn=<NegBackward0>), tensor(-9.5889, device='cuda:0', grad_fn=<NegBackward0>), tensor(-84.6699, device='cuda:0', grad_fn=<AddBackward0>)]\n",
      "3.8971952523561417\n",
      "tensor(-131.7407, device='cuda:0', grad_fn=<NegBackward0>) [tensor(-34.0791, device='cuda:0', grad_fn=<NegBackward0>), tensor(-10.7760, device='cuda:0', grad_fn=<NegBackward0>), tensor(-86.8856, device='cuda:0', grad_fn=<AddBackward0>)]\n",
      "4.143618440431664\n",
      "tensor(-124.9656, device='cuda:0', grad_fn=<NegBackward0>) [tensor(-34.0791, device='cuda:0', grad_fn=<NegBackward0>), tensor(-7.3138, device='cuda:0', grad_fn=<NegBackward0>), tensor(-83.5727, device='cuda:0', grad_fn=<AddBackward0>)]\n",
      "4.2187319734011846\n",
      "tensor(-129.1456, device='cuda:0', grad_fn=<NegBackward0>) [tensor(-34.2962, device='cuda:0', grad_fn=<NegBackward0>), tensor(-8.7609, device='cuda:0', grad_fn=<NegBackward0>), tensor(-86.0885, device='cuda:0', grad_fn=<AddBackward0>)]\n",
      "3.9213268004016815\n",
      "tensor(-129.5467, device='cuda:0', grad_fn=<NegBackward0>) [tensor(-34.2962, device='cuda:0', grad_fn=<NegBackward0>), tensor(-9.5322, device='cuda:0', grad_fn=<NegBackward0>), tensor(-85.7184, device='cuda:0', grad_fn=<AddBackward0>)]\n",
      "4.0829336446502635\n",
      "tensor(-125.3605, device='cuda:0', grad_fn=<NegBackward0>) [tensor(-34.1970, device='cuda:0', grad_fn=<NegBackward0>), tensor(-7.6530, device='cuda:0', grad_fn=<NegBackward0>), tensor(-83.5106, device='cuda:0', grad_fn=<AddBackward0>)]\n",
      "4.685272386255839\n",
      "tensor(-129.0112, device='cuda:0', grad_fn=<NegBackward0>) [tensor(-34.1970, device='cuda:0', grad_fn=<NegBackward0>), tensor(-8.5253, device='cuda:0', grad_fn=<NegBackward0>), tensor(-86.2889, device='cuda:0', grad_fn=<AddBackward0>)]\n",
      "4.653467546181619\n",
      "tensor(-130.9314, device='cuda:0', grad_fn=<NegBackward0>) [tensor(-34.4013, device='cuda:0', grad_fn=<NegBackward0>), tensor(-9.2332, device='cuda:0', grad_fn=<NegBackward0>), tensor(-87.2968, device='cuda:0', grad_fn=<AddBackward0>)]\n",
      "4.019701972836316\n",
      "tensor(-131.6231, device='cuda:0', grad_fn=<NegBackward0>) [tensor(-34.4013, device='cuda:0', grad_fn=<NegBackward0>), tensor(-10.1472, device='cuda:0', grad_fn=<NegBackward0>), tensor(-87.0746, device='cuda:0', grad_fn=<AddBackward0>)]\n",
      "4.5575682454117805\n",
      "tensor(-131.7466, device='cuda:0', grad_fn=<NegBackward0>) [tensor(-34.3216, device='cuda:0', grad_fn=<NegBackward0>), tensor(-9.4917, device='cuda:0', grad_fn=<NegBackward0>), tensor(-87.9333, device='cuda:0', grad_fn=<AddBackward0>)]\n",
      "4.452119390539649\n",
      "tensor(-131.8941, device='cuda:0', grad_fn=<NegBackward0>) [tensor(-34.3216, device='cuda:0', grad_fn=<NegBackward0>), tensor(-9.7688, device='cuda:0', grad_fn=<NegBackward0>), tensor(-87.8036, device='cuda:0', grad_fn=<AddBackward0>)]\n",
      "4.221957923732047\n",
      "tensor(-132.1820, device='cuda:0', grad_fn=<NegBackward0>) [tensor(-34.4861, device='cuda:0', grad_fn=<NegBackward0>), tensor(-10.2335, device='cuda:0', grad_fn=<NegBackward0>), tensor(-87.4624, device='cuda:0', grad_fn=<AddBackward0>)]\n",
      "3.460047357011702\n",
      "tensor(-129.4230, device='cuda:0', grad_fn=<NegBackward0>) [tensor(-34.4861, device='cuda:0', grad_fn=<NegBackward0>), tensor(-10.8043, device='cuda:0', grad_fn=<NegBackward0>), tensor(-84.1326, device='cuda:0', grad_fn=<AddBackward0>)]\n",
      "4.230017708364613\n",
      "tensor(-129.0342, device='cuda:0', grad_fn=<NegBackward0>) [tensor(-34.3022, device='cuda:0', grad_fn=<NegBackward0>), tensor(-9.1347, device='cuda:0', grad_fn=<NegBackward0>), tensor(-85.5973, device='cuda:0', grad_fn=<AddBackward0>)]\n",
      "3.89592338901414\n",
      "tensor(-129.4571, device='cuda:0', grad_fn=<NegBackward0>) [tensor(-34.3022, device='cuda:0', grad_fn=<NegBackward0>), tensor(-9.7860, device='cuda:0', grad_fn=<NegBackward0>), tensor(-85.3688, device='cuda:0', grad_fn=<AddBackward0>)]\n",
      "4.5742355457732\n",
      "tensor(-129.9068, device='cuda:0', grad_fn=<NegBackward0>) [tensor(-34.3083, device='cuda:0', grad_fn=<NegBackward0>), tensor(-8.6903, device='cuda:0', grad_fn=<NegBackward0>), tensor(-86.9081, device='cuda:0', grad_fn=<AddBackward0>)]\n",
      "4.283580689774337\n",
      "tensor(-127.7711, device='cuda:0', grad_fn=<NegBackward0>) [tensor(-34.3083, device='cuda:0', grad_fn=<NegBackward0>), tensor(-8.3593, device='cuda:0', grad_fn=<NegBackward0>), tensor(-85.1034, device='cuda:0', grad_fn=<AddBackward0>)]\n",
      "3.7306252451062174\n",
      "tensor(-130.1972, device='cuda:0', grad_fn=<NegBackward0>) [tensor(-34.4885, device='cuda:0', grad_fn=<NegBackward0>), tensor(-10.7175, device='cuda:0', grad_fn=<NegBackward0>), tensor(-84.9912, device='cuda:0', grad_fn=<AddBackward0>)]\n",
      "4.036025009762799\n",
      "tensor(-132.3545, device='cuda:0', grad_fn=<NegBackward0>) [tensor(-34.4885, device='cuda:0', grad_fn=<NegBackward0>), tensor(-10.7570, device='cuda:0', grad_fn=<NegBackward0>), tensor(-87.1090, device='cuda:0', grad_fn=<AddBackward0>)]\n",
      "4.555872382107999\n",
      "tensor(-124.3762, device='cuda:0', grad_fn=<NegBackward0>) [tensor(-34.3177, device='cuda:0', grad_fn=<NegBackward0>), tensor(-6.6568, device='cuda:0', grad_fn=<NegBackward0>), tensor(-83.4017, device='cuda:0', grad_fn=<AddBackward0>)]\n",
      "3.878468782300359\n",
      "tensor(-123.6284, device='cuda:0', grad_fn=<NegBackward0>) [tensor(-34.3177, device='cuda:0', grad_fn=<NegBackward0>), tensor(-7.3504, device='cuda:0', grad_fn=<NegBackward0>), tensor(-81.9603, device='cuda:0', grad_fn=<AddBackward0>)]\n",
      "4.420092964189905\n",
      "tensor(-129.6850, device='cuda:0', grad_fn=<NegBackward0>) [tensor(-34.4833, device='cuda:0', grad_fn=<NegBackward0>), tensor(-8.8754, device='cuda:0', grad_fn=<NegBackward0>), tensor(-86.3263, device='cuda:0', grad_fn=<AddBackward0>)]\n",
      "4.106659282993501\n",
      "tensor(-128.8296, device='cuda:0', grad_fn=<NegBackward0>) [tensor(-34.4833, device='cuda:0', grad_fn=<NegBackward0>), tensor(-8.6541, device='cuda:0', grad_fn=<NegBackward0>), tensor(-85.6923, device='cuda:0', grad_fn=<AddBackward0>)]\n",
      "3.6833065072378774\n",
      "tensor(-131.8250, device='cuda:0', grad_fn=<NegBackward0>) [tensor(-34.5704, device='cuda:0', grad_fn=<NegBackward0>), tensor(-10.7086, device='cuda:0', grad_fn=<NegBackward0>), tensor(-86.5460, device='cuda:0', grad_fn=<AddBackward0>)]\n",
      "3.642511376827338\n",
      "tensor(-124.9326, device='cuda:0', grad_fn=<NegBackward0>) [tensor(-34.5704, device='cuda:0', grad_fn=<NegBackward0>), tensor(-8.2345, device='cuda:0', grad_fn=<NegBackward0>), tensor(-82.1278, device='cuda:0', grad_fn=<AddBackward0>)]\n",
      "4.210932014673703\n",
      "tensor(-130.6062, device='cuda:0', grad_fn=<NegBackward0>) [tensor(-34.4983, device='cuda:0', grad_fn=<NegBackward0>), tensor(-8.9624, device='cuda:0', grad_fn=<NegBackward0>), tensor(-87.1454, device='cuda:0', grad_fn=<AddBackward0>)]\n",
      "3.7607604952478235\n",
      "tensor(-125.5570, device='cuda:0', grad_fn=<NegBackward0>) [tensor(-34.4983, device='cuda:0', grad_fn=<NegBackward0>), tensor(-7.8135, device='cuda:0', grad_fn=<NegBackward0>), tensor(-83.2451, device='cuda:0', grad_fn=<AddBackward0>)]\n"
     ]
    },
    {
     "name": "stdout",
     "output_type": "stream",
     "text": [
      "4.332017550431166\n",
      "tensor(-124.5773, device='cuda:0', grad_fn=<NegBackward0>) [tensor(-34.6498, device='cuda:0', grad_fn=<NegBackward0>), tensor(-6.5600, device='cuda:0', grad_fn=<NegBackward0>), tensor(-83.3674, device='cuda:0', grad_fn=<AddBackward0>)]\n",
      "3.895548272941955\n",
      "tensor(-129.2365, device='cuda:0', grad_fn=<NegBackward0>) [tensor(-34.6498, device='cuda:0', grad_fn=<NegBackward0>), tensor(-9.2032, device='cuda:0', grad_fn=<NegBackward0>), tensor(-85.3836, device='cuda:0', grad_fn=<AddBackward0>)]\n",
      "3.991114055274302\n",
      "tensor(-131.2807, device='cuda:0', grad_fn=<NegBackward0>) [tensor(-34.4696, device='cuda:0', grad_fn=<NegBackward0>), tensor(-9.8947, device='cuda:0', grad_fn=<NegBackward0>), tensor(-86.9164, device='cuda:0', grad_fn=<AddBackward0>)]\n",
      "4.104361522524259\n",
      "tensor(-132.3323, device='cuda:0', grad_fn=<NegBackward0>) [tensor(-34.4696, device='cuda:0', grad_fn=<NegBackward0>), tensor(-10.2330, device='cuda:0', grad_fn=<NegBackward0>), tensor(-87.6298, device='cuda:0', grad_fn=<AddBackward0>)]\n",
      "4.046722095922196\n",
      "tensor(-129.7462, device='cuda:0', grad_fn=<NegBackward0>) [tensor(-34.6200, device='cuda:0', grad_fn=<NegBackward0>), tensor(-9.3778, device='cuda:0', grad_fn=<NegBackward0>), tensor(-85.7484, device='cuda:0', grad_fn=<AddBackward0>)]\n",
      "3.998185173946056\n",
      "tensor(-126.6547, device='cuda:0', grad_fn=<NegBackward0>) [tensor(-34.6200, device='cuda:0', grad_fn=<NegBackward0>), tensor(-8.3800, device='cuda:0', grad_fn=<NegBackward0>), tensor(-83.6548, device='cuda:0', grad_fn=<AddBackward0>)]\n",
      "4.739698977617841\n",
      "tensor(-130.3279, device='cuda:0', grad_fn=<NegBackward0>) [tensor(-34.7040, device='cuda:0', grad_fn=<NegBackward0>), tensor(-8.6448, device='cuda:0', grad_fn=<NegBackward0>), tensor(-86.9790, device='cuda:0', grad_fn=<AddBackward0>)]\n",
      "3.9109222750263983\n",
      "tensor(-130.4475, device='cuda:0', grad_fn=<NegBackward0>) [tensor(-34.7040, device='cuda:0', grad_fn=<NegBackward0>), tensor(-9.8624, device='cuda:0', grad_fn=<NegBackward0>), tensor(-85.8811, device='cuda:0', grad_fn=<AddBackward0>)]\n",
      "3.922570658348178\n",
      "tensor(-126.0344, device='cuda:0', grad_fn=<NegBackward0>) [tensor(-34.5480, device='cuda:0', grad_fn=<NegBackward0>), tensor(-7.7868, device='cuda:0', grad_fn=<NegBackward0>), tensor(-83.6996, device='cuda:0', grad_fn=<AddBackward0>)]\n",
      "3.8412258592112725\n",
      "tensor(-132.9533, device='cuda:0', grad_fn=<NegBackward0>) [tensor(-34.5480, device='cuda:0', grad_fn=<NegBackward0>), tensor(-11.3376, device='cuda:0', grad_fn=<NegBackward0>), tensor(-87.0678, device='cuda:0', grad_fn=<AddBackward0>)]\n",
      "3.892090997408789\n",
      "tensor(-128.0288, device='cuda:0', grad_fn=<NegBackward0>) [tensor(-34.3264, device='cuda:0', grad_fn=<NegBackward0>), tensor(-8.8798, device='cuda:0', grad_fn=<NegBackward0>), tensor(-84.8226, device='cuda:0', grad_fn=<AddBackward0>)]\n",
      "4.4717477675425785\n",
      "tensor(-127.0470, device='cuda:0', grad_fn=<NegBackward0>) [tensor(-34.3264, device='cuda:0', grad_fn=<NegBackward0>), tensor(-7.5316, device='cuda:0', grad_fn=<NegBackward0>), tensor(-85.1890, device='cuda:0', grad_fn=<AddBackward0>)]\n",
      "3.7811796378306486\n",
      "tensor(-131.8272, device='cuda:0', grad_fn=<NegBackward0>) [tensor(-34.6160, device='cuda:0', grad_fn=<NegBackward0>), tensor(-10.1170, device='cuda:0', grad_fn=<NegBackward0>), tensor(-87.0942, device='cuda:0', grad_fn=<AddBackward0>)]\n",
      "3.648212110242021\n",
      "tensor(-131.1246, device='cuda:0', grad_fn=<NegBackward0>) [tensor(-34.6160, device='cuda:0', grad_fn=<NegBackward0>), tensor(-10.8796, device='cuda:0', grad_fn=<NegBackward0>), tensor(-85.6290, device='cuda:0', grad_fn=<AddBackward0>)]\n",
      "3.8623793016943457\n",
      "tensor(-126.1015, device='cuda:0', grad_fn=<NegBackward0>) [tensor(-34.5826, device='cuda:0', grad_fn=<NegBackward0>), tensor(-8.4493, device='cuda:0', grad_fn=<NegBackward0>), tensor(-83.0696, device='cuda:0', grad_fn=<AddBackward0>)]\n",
      "4.308718140375919\n",
      "tensor(-132.4595, device='cuda:0', grad_fn=<NegBackward0>) [tensor(-34.5826, device='cuda:0', grad_fn=<NegBackward0>), tensor(-9.6510, device='cuda:0', grad_fn=<NegBackward0>), tensor(-88.2260, device='cuda:0', grad_fn=<AddBackward0>)]\n",
      "4.054921240322326\n",
      "tensor(-131.7677, device='cuda:0', grad_fn=<NegBackward0>) [tensor(-34.4816, device='cuda:0', grad_fn=<NegBackward0>), tensor(-10.7111, device='cuda:0', grad_fn=<NegBackward0>), tensor(-86.5750, device='cuda:0', grad_fn=<AddBackward0>)]\n",
      "3.8426804991491856\n",
      "tensor(-127.0963, device='cuda:0', grad_fn=<NegBackward0>) [tensor(-34.4816, device='cuda:0', grad_fn=<NegBackward0>), tensor(-8.7638, device='cuda:0', grad_fn=<NegBackward0>), tensor(-83.8509, device='cuda:0', grad_fn=<AddBackward0>)]\n",
      "4.0309865398239575\n",
      "tensor(-129.8733, device='cuda:0', grad_fn=<NegBackward0>) [tensor(-34.5639, device='cuda:0', grad_fn=<NegBackward0>), tensor(-9.0549, device='cuda:0', grad_fn=<NegBackward0>), tensor(-86.2544, device='cuda:0', grad_fn=<AddBackward0>)]\n",
      "4.186044306125789\n",
      "tensor(-126.4369, device='cuda:0', grad_fn=<NegBackward0>) [tensor(-34.5639, device='cuda:0', grad_fn=<NegBackward0>), tensor(-7.8073, device='cuda:0', grad_fn=<NegBackward0>), tensor(-84.0656, device='cuda:0', grad_fn=<AddBackward0>)]\n",
      "4.322064838177151\n",
      "tensor(-129.5782, device='cuda:0', grad_fn=<NegBackward0>) [tensor(-34.8809, device='cuda:0', grad_fn=<NegBackward0>), tensor(-8.3890, device='cuda:0', grad_fn=<NegBackward0>), tensor(-86.3083, device='cuda:0', grad_fn=<AddBackward0>)]\n",
      "3.988908605534841\n",
      "tensor(-132.1417, device='cuda:0', grad_fn=<NegBackward0>) [tensor(-34.8809, device='cuda:0', grad_fn=<NegBackward0>), tensor(-10.7087, device='cuda:0', grad_fn=<NegBackward0>), tensor(-86.5521, device='cuda:0', grad_fn=<AddBackward0>)]\n",
      "4.010825847448386\n",
      "tensor(-130.1588, device='cuda:0', grad_fn=<NegBackward0>) [tensor(-34.8212, device='cuda:0', grad_fn=<NegBackward0>), tensor(-9.7699, device='cuda:0', grad_fn=<NegBackward0>), tensor(-85.5677, device='cuda:0', grad_fn=<AddBackward0>)]\n",
      "4.21343878547824\n",
      "tensor(-127.0899, device='cuda:0', grad_fn=<NegBackward0>) [tensor(-34.8212, device='cuda:0', grad_fn=<NegBackward0>), tensor(-8.0358, device='cuda:0', grad_fn=<NegBackward0>), tensor(-84.2328, device='cuda:0', grad_fn=<AddBackward0>)]\n",
      "4.017463227921312\n",
      "tensor(-131.6476, device='cuda:0', grad_fn=<NegBackward0>) [tensor(-35.0613, device='cuda:0', grad_fn=<NegBackward0>), tensor(-9.5507, device='cuda:0', grad_fn=<NegBackward0>), tensor(-87.0356, device='cuda:0', grad_fn=<AddBackward0>)]\n",
      "4.430708742051912\n",
      "tensor(-131.8782, device='cuda:0', grad_fn=<NegBackward0>) [tensor(-35.0613, device='cuda:0', grad_fn=<NegBackward0>), tensor(-9.0821, device='cuda:0', grad_fn=<NegBackward0>), tensor(-87.7348, device='cuda:0', grad_fn=<AddBackward0>)]\n",
      "4.525507927311581\n",
      "tensor(-130.0998, device='cuda:0', grad_fn=<NegBackward0>) [tensor(-35.2077, device='cuda:0', grad_fn=<NegBackward0>), tensor(-8.4245, device='cuda:0', grad_fn=<NegBackward0>), tensor(-86.4675, device='cuda:0', grad_fn=<AddBackward0>)]\n",
      "3.9929220873215314\n",
      "tensor(-130.3425, device='cuda:0', grad_fn=<NegBackward0>) [tensor(-35.2077, device='cuda:0', grad_fn=<NegBackward0>), tensor(-8.8741, device='cuda:0', grad_fn=<NegBackward0>), tensor(-86.2607, device='cuda:0', grad_fn=<AddBackward0>)]\n",
      "4.260302921747071\n",
      "tensor(-130.4758, device='cuda:0', grad_fn=<NegBackward0>) [tensor(-35.3496, device='cuda:0', grad_fn=<NegBackward0>), tensor(-8.8337, device='cuda:0', grad_fn=<NegBackward0>), tensor(-86.2925, device='cuda:0', grad_fn=<AddBackward0>)]\n",
      "99.92573666438986\n",
      "tensor(-121.2846, device='cuda:0', grad_fn=<NegBackward0>) [tensor(-35.3496, device='cuda:0', grad_fn=<NegBackward0>), tensor(-4.1110, device='cuda:0', grad_fn=<NegBackward0>), tensor(-81.8239, device='cuda:0', grad_fn=<AddBackward0>)]\n",
      "3.9586746444362615\n",
      "tensor(-131.6107, device='cuda:0', grad_fn=<NegBackward0>) [tensor(-35.5968, device='cuda:0', grad_fn=<NegBackward0>), tensor(-8.8678, device='cuda:0', grad_fn=<NegBackward0>), tensor(-87.1461, device='cuda:0', grad_fn=<AddBackward0>)]\n",
      "3.508987081932658\n",
      "tensor(-131.3192, device='cuda:0', grad_fn=<NegBackward0>) [tensor(-35.5968, device='cuda:0', grad_fn=<NegBackward0>), tensor(-11.0418, device='cuda:0', grad_fn=<NegBackward0>), tensor(-84.6805, device='cuda:0', grad_fn=<AddBackward0>)]\n",
      "3.922811834986873\n",
      "tensor(-131.8884, device='cuda:0', grad_fn=<NegBackward0>) [tensor(-35.1874, device='cuda:0', grad_fn=<NegBackward0>), tensor(-9.9852, device='cuda:0', grad_fn=<NegBackward0>), tensor(-86.7158, device='cuda:0', grad_fn=<AddBackward0>)]\n"
     ]
    },
    {
     "name": "stdout",
     "output_type": "stream",
     "text": [
      "4.126135269426032\n",
      "tensor(-130.9487, device='cuda:0', grad_fn=<NegBackward0>) [tensor(-35.1874, device='cuda:0', grad_fn=<NegBackward0>), tensor(-9.1270, device='cuda:0', grad_fn=<NegBackward0>), tensor(-86.6343, device='cuda:0', grad_fn=<AddBackward0>)]\n",
      "3.7452560417324317\n",
      "tensor(-130.7854, device='cuda:0', grad_fn=<NegBackward0>) [tensor(-35.2664, device='cuda:0', grad_fn=<NegBackward0>), tensor(-9.4711, device='cuda:0', grad_fn=<NegBackward0>), tensor(-86.0479, device='cuda:0', grad_fn=<AddBackward0>)]\n",
      "4.3553444029511175\n",
      "tensor(-132.3991, device='cuda:0', grad_fn=<NegBackward0>) [tensor(-35.2664, device='cuda:0', grad_fn=<NegBackward0>), tensor(-9.1199, device='cuda:0', grad_fn=<NegBackward0>), tensor(-88.0129, device='cuda:0', grad_fn=<AddBackward0>)]\n",
      "3.9176173629689766\n",
      "tensor(-130.7915, device='cuda:0', grad_fn=<NegBackward0>) [tensor(-35.2968, device='cuda:0', grad_fn=<NegBackward0>), tensor(-10.4546, device='cuda:0', grad_fn=<NegBackward0>), tensor(-85.0401, device='cuda:0', grad_fn=<AddBackward0>)]\n",
      "3.638429989806098\n",
      "tensor(-129.7843, device='cuda:0', grad_fn=<NegBackward0>) [tensor(-35.2968, device='cuda:0', grad_fn=<NegBackward0>), tensor(-9.2257, device='cuda:0', grad_fn=<NegBackward0>), tensor(-85.2619, device='cuda:0', grad_fn=<AddBackward0>)]\n",
      "4.1153199255861415\n",
      "tensor(-131.7606, device='cuda:0', grad_fn=<NegBackward0>) [tensor(-35.2247, device='cuda:0', grad_fn=<NegBackward0>), tensor(-10.1833, device='cuda:0', grad_fn=<NegBackward0>), tensor(-86.3526, device='cuda:0', grad_fn=<AddBackward0>)]\n",
      "3.6862877673825394\n",
      "tensor(-129.9767, device='cuda:0', grad_fn=<NegBackward0>) [tensor(-35.2247, device='cuda:0', grad_fn=<NegBackward0>), tensor(-10.7387, device='cuda:0', grad_fn=<NegBackward0>), tensor(-84.0132, device='cuda:0', grad_fn=<AddBackward0>)]\n",
      "4.681565555706724\n",
      "tensor(-129.1548, device='cuda:0', grad_fn=<NegBackward0>) [tensor(-35.1327, device='cuda:0', grad_fn=<NegBackward0>), tensor(-7.8785, device='cuda:0', grad_fn=<NegBackward0>), tensor(-86.1436, device='cuda:0', grad_fn=<AddBackward0>)]\n",
      "4.138127375391147\n",
      "tensor(-129.1296, device='cuda:0', grad_fn=<NegBackward0>) [tensor(-35.1327, device='cuda:0', grad_fn=<NegBackward0>), tensor(-8.5422, device='cuda:0', grad_fn=<NegBackward0>), tensor(-85.4547, device='cuda:0', grad_fn=<AddBackward0>)]\n",
      "4.152357464123326\n",
      "tensor(-128.5626, device='cuda:0', grad_fn=<NegBackward0>) [tensor(-35.1970, device='cuda:0', grad_fn=<NegBackward0>), tensor(-8.3782, device='cuda:0', grad_fn=<NegBackward0>), tensor(-84.9874, device='cuda:0', grad_fn=<AddBackward0>)]\n",
      "3.7964266577902497\n",
      "tensor(-129.0745, device='cuda:0', grad_fn=<NegBackward0>) [tensor(-35.1970, device='cuda:0', grad_fn=<NegBackward0>), tensor(-8.7406, device='cuda:0', grad_fn=<NegBackward0>), tensor(-85.1369, device='cuda:0', grad_fn=<AddBackward0>)]\n",
      "4.26444017600089\n",
      "tensor(-132.9032, device='cuda:0', grad_fn=<NegBackward0>) [tensor(-35.2569, device='cuda:0', grad_fn=<NegBackward0>), tensor(-10.3177, device='cuda:0', grad_fn=<NegBackward0>), tensor(-87.3286, device='cuda:0', grad_fn=<AddBackward0>)]\n",
      "4.288252679223988\n",
      "tensor(-130.7272, device='cuda:0', grad_fn=<NegBackward0>) [tensor(-35.2569, device='cuda:0', grad_fn=<NegBackward0>), tensor(-9.2327, device='cuda:0', grad_fn=<NegBackward0>), tensor(-86.2376, device='cuda:0', grad_fn=<AddBackward0>)]\n",
      "4.089457482619715\n",
      "tensor(-129.9410, device='cuda:0', grad_fn=<NegBackward0>) [tensor(-35.3322, device='cuda:0', grad_fn=<NegBackward0>), tensor(-9.1376, device='cuda:0', grad_fn=<NegBackward0>), tensor(-85.4712, device='cuda:0', grad_fn=<AddBackward0>)]\n",
      "4.26787630784197\n",
      "tensor(-135.6010, device='cuda:0', grad_fn=<NegBackward0>) [tensor(-35.3322, device='cuda:0', grad_fn=<NegBackward0>), tensor(-10.2915, device='cuda:0', grad_fn=<NegBackward0>), tensor(-89.9773, device='cuda:0', grad_fn=<AddBackward0>)]\n",
      "4.2238904148569585\n",
      "tensor(-129.7169, device='cuda:0', grad_fn=<NegBackward0>) [tensor(-35.3672, device='cuda:0', grad_fn=<NegBackward0>), tensor(-8.5381, device='cuda:0', grad_fn=<NegBackward0>), tensor(-85.8115, device='cuda:0', grad_fn=<AddBackward0>)]\n",
      "4.438945583695242\n",
      "tensor(-130.2746, device='cuda:0', grad_fn=<NegBackward0>) [tensor(-35.3672, device='cuda:0', grad_fn=<NegBackward0>), tensor(-8.7744, device='cuda:0', grad_fn=<NegBackward0>), tensor(-86.1330, device='cuda:0', grad_fn=<AddBackward0>)]\n",
      "4.268922645912787\n",
      "tensor(-128.4104, device='cuda:0', grad_fn=<NegBackward0>) [tensor(-35.4092, device='cuda:0', grad_fn=<NegBackward0>), tensor(-7.7985, device='cuda:0', grad_fn=<NegBackward0>), tensor(-85.2027, device='cuda:0', grad_fn=<AddBackward0>)]\n",
      "3.616538958374929\n",
      "tensor(-126.6490, device='cuda:0', grad_fn=<NegBackward0>) [tensor(-35.4092, device='cuda:0', grad_fn=<NegBackward0>), tensor(-8.6047, device='cuda:0', grad_fn=<NegBackward0>), tensor(-82.6352, device='cuda:0', grad_fn=<AddBackward0>)]\n",
      "3.9451466654506895\n",
      "tensor(-133.3673, device='cuda:0', grad_fn=<NegBackward0>) [tensor(-35.2164, device='cuda:0', grad_fn=<NegBackward0>), tensor(-10.1160, device='cuda:0', grad_fn=<NegBackward0>), tensor(-88.0349, device='cuda:0', grad_fn=<AddBackward0>)]\n",
      "4.032290159986747\n",
      "tensor(-132.3721, device='cuda:0', grad_fn=<NegBackward0>) [tensor(-35.2164, device='cuda:0', grad_fn=<NegBackward0>), tensor(-10.2758, device='cuda:0', grad_fn=<NegBackward0>), tensor(-86.8800, device='cuda:0', grad_fn=<AddBackward0>)]\n",
      "4.368387882298251\n",
      "tensor(-131.4113, device='cuda:0', grad_fn=<NegBackward0>) [tensor(-35.1711, device='cuda:0', grad_fn=<NegBackward0>), tensor(-9.0628, device='cuda:0', grad_fn=<NegBackward0>), tensor(-87.1774, device='cuda:0', grad_fn=<AddBackward0>)]\n",
      "4.6959552085410845\n",
      "tensor(-130.1832, device='cuda:0', grad_fn=<NegBackward0>) [tensor(-35.1711, device='cuda:0', grad_fn=<NegBackward0>), tensor(-8.2170, device='cuda:0', grad_fn=<NegBackward0>), tensor(-86.7951, device='cuda:0', grad_fn=<AddBackward0>)]\n",
      "3.5457688078989573\n",
      "tensor(-128.1304, device='cuda:0', grad_fn=<NegBackward0>) [tensor(-35.4128, device='cuda:0', grad_fn=<NegBackward0>), tensor(-9.3784, device='cuda:0', grad_fn=<NegBackward0>), tensor(-83.3392, device='cuda:0', grad_fn=<AddBackward0>)]\n",
      "3.9536810788858725\n",
      "tensor(-129.0860, device='cuda:0', grad_fn=<NegBackward0>) [tensor(-35.4128, device='cuda:0', grad_fn=<NegBackward0>), tensor(-8.4720, device='cuda:0', grad_fn=<NegBackward0>), tensor(-85.2012, device='cuda:0', grad_fn=<AddBackward0>)]\n",
      "4.166115699984354\n",
      "tensor(-135.0433, device='cuda:0', grad_fn=<NegBackward0>) [tensor(-35.6421, device='cuda:0', grad_fn=<NegBackward0>), tensor(-10.2915, device='cuda:0', grad_fn=<NegBackward0>), tensor(-89.1096, device='cuda:0', grad_fn=<AddBackward0>)]\n",
      "4.633367584303609\n",
      "tensor(-131.5200, device='cuda:0', grad_fn=<NegBackward0>) [tensor(-35.6421, device='cuda:0', grad_fn=<NegBackward0>), tensor(-8.3906, device='cuda:0', grad_fn=<NegBackward0>), tensor(-87.4874, device='cuda:0', grad_fn=<AddBackward0>)]\n",
      "3.8137245845697127\n",
      "tensor(-132.2255, device='cuda:0', grad_fn=<NegBackward0>) [tensor(-35.8442, device='cuda:0', grad_fn=<NegBackward0>), tensor(-9.4626, device='cuda:0', grad_fn=<NegBackward0>), tensor(-86.9187, device='cuda:0', grad_fn=<AddBackward0>)]\n",
      "4.009457256559388\n",
      "tensor(-130.3413, device='cuda:0', grad_fn=<NegBackward0>) [tensor(-35.8442, device='cuda:0', grad_fn=<NegBackward0>), tensor(-8.9117, device='cuda:0', grad_fn=<NegBackward0>), tensor(-85.5854, device='cuda:0', grad_fn=<AddBackward0>)]\n",
      "4.042696096735498\n",
      "tensor(-130.4581, device='cuda:0', grad_fn=<NegBackward0>) [tensor(-35.7832, device='cuda:0', grad_fn=<NegBackward0>), tensor(-8.6238, device='cuda:0', grad_fn=<NegBackward0>), tensor(-86.0511, device='cuda:0', grad_fn=<AddBackward0>)]\n",
      "4.166938832888703\n",
      "tensor(-130.9569, device='cuda:0', grad_fn=<NegBackward0>) [tensor(-35.7832, device='cuda:0', grad_fn=<NegBackward0>), tensor(-9.0582, device='cuda:0', grad_fn=<NegBackward0>), tensor(-86.1155, device='cuda:0', grad_fn=<AddBackward0>)]\n",
      "4.471815082478875\n",
      "tensor(-135.0594, device='cuda:0', grad_fn=<NegBackward0>) [tensor(-35.7123, device='cuda:0', grad_fn=<NegBackward0>), tensor(-10.4067, device='cuda:0', grad_fn=<NegBackward0>), tensor(-88.9404, device='cuda:0', grad_fn=<AddBackward0>)]\n",
      "4.1800672684335085\n",
      "tensor(-131.8693, device='cuda:0', grad_fn=<NegBackward0>) [tensor(-35.7123, device='cuda:0', grad_fn=<NegBackward0>), tensor(-8.7092, device='cuda:0', grad_fn=<NegBackward0>), tensor(-87.4477, device='cuda:0', grad_fn=<AddBackward0>)]\n"
     ]
    },
    {
     "name": "stdout",
     "output_type": "stream",
     "text": [
      "4.103518563328718\n",
      "tensor(-133.0143, device='cuda:0', grad_fn=<NegBackward0>) [tensor(-35.8062, device='cuda:0', grad_fn=<NegBackward0>), tensor(-9.4986, device='cuda:0', grad_fn=<NegBackward0>), tensor(-87.7095, device='cuda:0', grad_fn=<AddBackward0>)]\n",
      "4.103143797036497\n",
      "tensor(-129.3535, device='cuda:0', grad_fn=<NegBackward0>) [tensor(-35.8062, device='cuda:0', grad_fn=<NegBackward0>), tensor(-8.2201, device='cuda:0', grad_fn=<NegBackward0>), tensor(-85.3272, device='cuda:0', grad_fn=<AddBackward0>)]\n",
      "3.9414349297342977\n",
      "tensor(-130.6646, device='cuda:0', grad_fn=<NegBackward0>) [tensor(-35.8367, device='cuda:0', grad_fn=<NegBackward0>), tensor(-8.9074, device='cuda:0', grad_fn=<NegBackward0>), tensor(-85.9205, device='cuda:0', grad_fn=<AddBackward0>)]\n",
      "3.8717256239151094\n",
      "tensor(-128.5344, device='cuda:0', grad_fn=<NegBackward0>) [tensor(-35.8367, device='cuda:0', grad_fn=<NegBackward0>), tensor(-7.6321, device='cuda:0', grad_fn=<NegBackward0>), tensor(-85.0656, device='cuda:0', grad_fn=<AddBackward0>)]\n",
      "4.260666593459421\n",
      "tensor(-134.2967, device='cuda:0', grad_fn=<NegBackward0>) [tensor(-35.8925, device='cuda:0', grad_fn=<NegBackward0>), tensor(-9.4844, device='cuda:0', grad_fn=<NegBackward0>), tensor(-88.9198, device='cuda:0', grad_fn=<AddBackward0>)]\n",
      "4.44481658073247\n",
      "tensor(-131.2414, device='cuda:0', grad_fn=<NegBackward0>) [tensor(-35.8925, device='cuda:0', grad_fn=<NegBackward0>), tensor(-7.9125, device='cuda:0', grad_fn=<NegBackward0>), tensor(-87.4363, device='cuda:0', grad_fn=<AddBackward0>)]\n",
      "4.799791062513078\n",
      "tensor(-133.3465, device='cuda:0', grad_fn=<NegBackward0>) [tensor(-36.0794, device='cuda:0', grad_fn=<NegBackward0>), tensor(-8.9553, device='cuda:0', grad_fn=<NegBackward0>), tensor(-88.3118, device='cuda:0', grad_fn=<AddBackward0>)]\n",
      "4.3417416344932995\n",
      "tensor(-137.4173, device='cuda:0', grad_fn=<NegBackward0>) [tensor(-36.0794, device='cuda:0', grad_fn=<NegBackward0>), tensor(-10.3173, device='cuda:0', grad_fn=<NegBackward0>), tensor(-91.0206, device='cuda:0', grad_fn=<AddBackward0>)]\n",
      "4.4135667372369545\n",
      "tensor(-128.2102, device='cuda:0', grad_fn=<NegBackward0>) [tensor(-36.0285, device='cuda:0', grad_fn=<NegBackward0>), tensor(-7.0349, device='cuda:0', grad_fn=<NegBackward0>), tensor(-85.1468, device='cuda:0', grad_fn=<AddBackward0>)]\n",
      "3.9933215909171373\n",
      "tensor(-125.7302, device='cuda:0', grad_fn=<NegBackward0>) [tensor(-36.0285, device='cuda:0', grad_fn=<NegBackward0>), tensor(-5.8675, device='cuda:0', grad_fn=<NegBackward0>), tensor(-83.8342, device='cuda:0', grad_fn=<AddBackward0>)]\n",
      "4.336925075596691\n",
      "tensor(-133.8519, device='cuda:0', grad_fn=<NegBackward0>) [tensor(-36.1796, device='cuda:0', grad_fn=<NegBackward0>), tensor(-9.1080, device='cuda:0', grad_fn=<NegBackward0>), tensor(-88.5642, device='cuda:0', grad_fn=<AddBackward0>)]\n",
      "4.1455604742201455\n",
      "tensor(-133.9245, device='cuda:0', grad_fn=<NegBackward0>) [tensor(-36.1796, device='cuda:0', grad_fn=<NegBackward0>), tensor(-9.5970, device='cuda:0', grad_fn=<NegBackward0>), tensor(-88.1478, device='cuda:0', grad_fn=<AddBackward0>)]\n",
      "4.384369205102383\n",
      "tensor(-132.7614, device='cuda:0', grad_fn=<NegBackward0>) [tensor(-35.8951, device='cuda:0', grad_fn=<NegBackward0>), tensor(-9.5511, device='cuda:0', grad_fn=<NegBackward0>), tensor(-87.3152, device='cuda:0', grad_fn=<AddBackward0>)]\n",
      "3.8646596677169573\n",
      "tensor(-132.3158, device='cuda:0', grad_fn=<NegBackward0>) [tensor(-35.8951, device='cuda:0', grad_fn=<NegBackward0>), tensor(-9.7973, device='cuda:0', grad_fn=<NegBackward0>), tensor(-86.6234, device='cuda:0', grad_fn=<AddBackward0>)]\n",
      "4.505821718564835\n",
      "tensor(-131.3155, device='cuda:0', grad_fn=<NegBackward0>) [tensor(-35.7156, device='cuda:0', grad_fn=<NegBackward0>), tensor(-8.1353, device='cuda:0', grad_fn=<NegBackward0>), tensor(-87.4646, device='cuda:0', grad_fn=<AddBackward0>)]\n",
      "4.02303477655142\n",
      "tensor(-133.6092, device='cuda:0', grad_fn=<NegBackward0>) [tensor(-35.7156, device='cuda:0', grad_fn=<NegBackward0>), tensor(-10.3135, device='cuda:0', grad_fn=<NegBackward0>), tensor(-87.5801, device='cuda:0', grad_fn=<AddBackward0>)]\n",
      "3.8792132389034784\n",
      "tensor(-129.8630, device='cuda:0', grad_fn=<NegBackward0>) [tensor(-35.3207, device='cuda:0', grad_fn=<NegBackward0>), tensor(-9.0135, device='cuda:0', grad_fn=<NegBackward0>), tensor(-85.5288, device='cuda:0', grad_fn=<AddBackward0>)]\n",
      "4.303978159550059\n",
      "tensor(-130.7814, device='cuda:0', grad_fn=<NegBackward0>) [tensor(-35.3207, device='cuda:0', grad_fn=<NegBackward0>), tensor(-8.2984, device='cuda:0', grad_fn=<NegBackward0>), tensor(-87.1622, device='cuda:0', grad_fn=<AddBackward0>)]\n",
      "4.04380885150865\n",
      "tensor(-128.2879, device='cuda:0', grad_fn=<NegBackward0>) [tensor(-35.5134, device='cuda:0', grad_fn=<NegBackward0>), tensor(-8.5024, device='cuda:0', grad_fn=<NegBackward0>), tensor(-84.2721, device='cuda:0', grad_fn=<AddBackward0>)]\n",
      "3.4990917563288115\n",
      "tensor(-129.5070, device='cuda:0', grad_fn=<NegBackward0>) [tensor(-35.5134, device='cuda:0', grad_fn=<NegBackward0>), tensor(-11.4223, device='cuda:0', grad_fn=<NegBackward0>), tensor(-82.5712, device='cuda:0', grad_fn=<AddBackward0>)]\n",
      "3.9146934461136413\n",
      "tensor(-128.4466, device='cuda:0', grad_fn=<NegBackward0>) [tensor(-35.2868, device='cuda:0', grad_fn=<NegBackward0>), tensor(-8.1430, device='cuda:0', grad_fn=<NegBackward0>), tensor(-85.0168, device='cuda:0', grad_fn=<AddBackward0>)]\n",
      "4.550868946146712\n",
      "tensor(-133.2934, device='cuda:0', grad_fn=<NegBackward0>) [tensor(-35.2868, device='cuda:0', grad_fn=<NegBackward0>), tensor(-9.4964, device='cuda:0', grad_fn=<NegBackward0>), tensor(-88.5101, device='cuda:0', grad_fn=<AddBackward0>)]\n",
      "3.720163013415054\n",
      "tensor(-129.4919, device='cuda:0', grad_fn=<NegBackward0>) [tensor(-35.4973, device='cuda:0', grad_fn=<NegBackward0>), tensor(-9.3694, device='cuda:0', grad_fn=<NegBackward0>), tensor(-84.6251, device='cuda:0', grad_fn=<AddBackward0>)]\n",
      "4.403289999841172\n",
      "tensor(-132.7565, device='cuda:0', grad_fn=<NegBackward0>) [tensor(-35.4973, device='cuda:0', grad_fn=<NegBackward0>), tensor(-9.2497, device='cuda:0', grad_fn=<NegBackward0>), tensor(-88.0095, device='cuda:0', grad_fn=<AddBackward0>)]\n",
      "4.136331349700173\n",
      "tensor(-132.5823, device='cuda:0', grad_fn=<NegBackward0>) [tensor(-35.5187, device='cuda:0', grad_fn=<NegBackward0>), tensor(-9.5979, device='cuda:0', grad_fn=<NegBackward0>), tensor(-87.4657, device='cuda:0', grad_fn=<AddBackward0>)]\n",
      "4.361641734561936\n",
      "tensor(-133.3871, device='cuda:0', grad_fn=<NegBackward0>) [tensor(-35.5187, device='cuda:0', grad_fn=<NegBackward0>), tensor(-10.0288, device='cuda:0', grad_fn=<NegBackward0>), tensor(-87.8395, device='cuda:0', grad_fn=<AddBackward0>)]\n",
      "4.082863156210634\n",
      "tensor(-128.5582, device='cuda:0', grad_fn=<NegBackward0>) [tensor(-35.6938, device='cuda:0', grad_fn=<NegBackward0>), tensor(-7.6908, device='cuda:0', grad_fn=<NegBackward0>), tensor(-85.1736, device='cuda:0', grad_fn=<AddBackward0>)]\n",
      "4.073203907735719\n",
      "tensor(-131.0841, device='cuda:0', grad_fn=<NegBackward0>) [tensor(-35.6938, device='cuda:0', grad_fn=<NegBackward0>), tensor(-8.9636, device='cuda:0', grad_fn=<NegBackward0>), tensor(-86.4268, device='cuda:0', grad_fn=<AddBackward0>)]\n",
      "4.423063241642023\n",
      "tensor(-132.3567, device='cuda:0', grad_fn=<NegBackward0>) [tensor(-35.8401, device='cuda:0', grad_fn=<NegBackward0>), tensor(-8.5538, device='cuda:0', grad_fn=<NegBackward0>), tensor(-87.9628, device='cuda:0', grad_fn=<AddBackward0>)]\n",
      "3.683110657916103\n",
      "tensor(-126.9040, device='cuda:0', grad_fn=<NegBackward0>) [tensor(-35.8401, device='cuda:0', grad_fn=<NegBackward0>), tensor(-8.0570, device='cuda:0', grad_fn=<NegBackward0>), tensor(-83.0068, device='cuda:0', grad_fn=<AddBackward0>)]\n",
      "4.439313829485893\n",
      "tensor(-131.3812, device='cuda:0', grad_fn=<NegBackward0>) [tensor(-36.0470, device='cuda:0', grad_fn=<NegBackward0>), tensor(-8.5110, device='cuda:0', grad_fn=<NegBackward0>), tensor(-86.8232, device='cuda:0', grad_fn=<AddBackward0>)]\n",
      "5.344206603214262\n",
      "tensor(-132.6361, device='cuda:0', grad_fn=<NegBackward0>) [tensor(-36.0470, device='cuda:0', grad_fn=<NegBackward0>), tensor(-8.1700, device='cuda:0', grad_fn=<NegBackward0>), tensor(-88.4191, device='cuda:0', grad_fn=<AddBackward0>)]\n",
      "4.262631143328883\n",
      "tensor(-128.5523, device='cuda:0', grad_fn=<NegBackward0>) [tensor(-36.1935, device='cuda:0', grad_fn=<NegBackward0>), tensor(-7.7292, device='cuda:0', grad_fn=<NegBackward0>), tensor(-84.6295, device='cuda:0', grad_fn=<AddBackward0>)]\n"
     ]
    },
    {
     "name": "stdout",
     "output_type": "stream",
     "text": [
      "4.171896169610839\n",
      "tensor(-128.7463, device='cuda:0', grad_fn=<NegBackward0>) [tensor(-36.1935, device='cuda:0', grad_fn=<NegBackward0>), tensor(-7.3602, device='cuda:0', grad_fn=<NegBackward0>), tensor(-85.1925, device='cuda:0', grad_fn=<AddBackward0>)]\n",
      "3.9954742449672147\n",
      "tensor(-130.8994, device='cuda:0', grad_fn=<NegBackward0>) [tensor(-36.3151, device='cuda:0', grad_fn=<NegBackward0>), tensor(-9.0238, device='cuda:0', grad_fn=<NegBackward0>), tensor(-85.5605, device='cuda:0', grad_fn=<AddBackward0>)]\n",
      "4.326373917676659\n",
      "tensor(-131.8511, device='cuda:0', grad_fn=<NegBackward0>) [tensor(-36.3151, device='cuda:0', grad_fn=<NegBackward0>), tensor(-8.2948, device='cuda:0', grad_fn=<NegBackward0>), tensor(-87.2412, device='cuda:0', grad_fn=<AddBackward0>)]\n",
      "4.230927489540501\n",
      "tensor(-135.6190, device='cuda:0', grad_fn=<NegBackward0>) [tensor(-36.3981, device='cuda:0', grad_fn=<NegBackward0>), tensor(-10.2189, device='cuda:0', grad_fn=<NegBackward0>), tensor(-89.0020, device='cuda:0', grad_fn=<AddBackward0>)]\n",
      "3.800510236790219\n",
      "tensor(-133.3744, device='cuda:0', grad_fn=<NegBackward0>) [tensor(-36.3981, device='cuda:0', grad_fn=<NegBackward0>), tensor(-9.8156, device='cuda:0', grad_fn=<NegBackward0>), tensor(-87.1607, device='cuda:0', grad_fn=<AddBackward0>)]\n",
      "4.223205387984862\n",
      "tensor(-129.8574, device='cuda:0', grad_fn=<NegBackward0>) [tensor(-36.3391, device='cuda:0', grad_fn=<NegBackward0>), tensor(-8.2640, device='cuda:0', grad_fn=<NegBackward0>), tensor(-85.2543, device='cuda:0', grad_fn=<AddBackward0>)]\n",
      "4.017252117508459\n",
      "tensor(-129.4372, device='cuda:0', grad_fn=<NegBackward0>) [tensor(-36.3391, device='cuda:0', grad_fn=<NegBackward0>), tensor(-8.0090, device='cuda:0', grad_fn=<NegBackward0>), tensor(-85.0892, device='cuda:0', grad_fn=<AddBackward0>)]\n",
      "3.8837140527869547\n",
      "tensor(-132.5329, device='cuda:0', grad_fn=<NegBackward0>) [tensor(-36.3131, device='cuda:0', grad_fn=<NegBackward0>), tensor(-9.2519, device='cuda:0', grad_fn=<NegBackward0>), tensor(-86.9679, device='cuda:0', grad_fn=<AddBackward0>)]\n",
      "3.8356993697850474\n",
      "tensor(-132.8175, device='cuda:0', grad_fn=<NegBackward0>) [tensor(-36.3131, device='cuda:0', grad_fn=<NegBackward0>), tensor(-9.9415, device='cuda:0', grad_fn=<NegBackward0>), tensor(-86.5630, device='cuda:0', grad_fn=<AddBackward0>)]\n",
      "3.912246924663814\n",
      "tensor(-131.1479, device='cuda:0', grad_fn=<NegBackward0>) [tensor(-36.1339, device='cuda:0', grad_fn=<NegBackward0>), tensor(-8.4774, device='cuda:0', grad_fn=<NegBackward0>), tensor(-86.5365, device='cuda:0', grad_fn=<AddBackward0>)]\n",
      "4.773885964517842\n",
      "tensor(-132.4409, device='cuda:0', grad_fn=<NegBackward0>) [tensor(-36.1339, device='cuda:0', grad_fn=<NegBackward0>), tensor(-8.0989, device='cuda:0', grad_fn=<NegBackward0>), tensor(-88.2081, device='cuda:0', grad_fn=<AddBackward0>)]\n",
      "4.490798976203887\n",
      "tensor(-136.4692, device='cuda:0', grad_fn=<NegBackward0>) [tensor(-36.3733, device='cuda:0', grad_fn=<NegBackward0>), tensor(-9.8109, device='cuda:0', grad_fn=<NegBackward0>), tensor(-90.2850, device='cuda:0', grad_fn=<AddBackward0>)]\n",
      "4.499999892338775\n",
      "tensor(-133.0419, device='cuda:0', grad_fn=<NegBackward0>) [tensor(-36.3733, device='cuda:0', grad_fn=<NegBackward0>), tensor(-8.1857, device='cuda:0', grad_fn=<NegBackward0>), tensor(-88.4830, device='cuda:0', grad_fn=<AddBackward0>)]\n",
      "4.04411831840819\n",
      "tensor(-132.9396, device='cuda:0', grad_fn=<NegBackward0>) [tensor(-36.4355, device='cuda:0', grad_fn=<NegBackward0>), tensor(-9.3848, device='cuda:0', grad_fn=<NegBackward0>), tensor(-87.1193, device='cuda:0', grad_fn=<AddBackward0>)]\n",
      "4.0961804408036295\n",
      "tensor(-136.3508, device='cuda:0', grad_fn=<NegBackward0>) [tensor(-36.4355, device='cuda:0', grad_fn=<NegBackward0>), tensor(-10.5439, device='cuda:0', grad_fn=<NegBackward0>), tensor(-89.3713, device='cuda:0', grad_fn=<AddBackward0>)]\n",
      "4.743048601489609\n",
      "tensor(-130.4202, device='cuda:0', grad_fn=<NegBackward0>) [tensor(-36.2515, device='cuda:0', grad_fn=<NegBackward0>), tensor(-8.0523, device='cuda:0', grad_fn=<NegBackward0>), tensor(-86.1164, device='cuda:0', grad_fn=<AddBackward0>)]\n",
      "4.299208838686877\n",
      "tensor(-130.7442, device='cuda:0', grad_fn=<NegBackward0>) [tensor(-36.2515, device='cuda:0', grad_fn=<NegBackward0>), tensor(-8.3554, device='cuda:0', grad_fn=<NegBackward0>), tensor(-86.1372, device='cuda:0', grad_fn=<AddBackward0>)]\n",
      "4.640885024620528\n",
      "tensor(-133.5483, device='cuda:0', grad_fn=<NegBackward0>) [tensor(-36.2994, device='cuda:0', grad_fn=<NegBackward0>), tensor(-8.9165, device='cuda:0', grad_fn=<NegBackward0>), tensor(-88.3324, device='cuda:0', grad_fn=<AddBackward0>)]\n",
      "4.281399712703008\n",
      "tensor(-127.8636, device='cuda:0', grad_fn=<NegBackward0>) [tensor(-36.2994, device='cuda:0', grad_fn=<NegBackward0>), tensor(-6.9213, device='cuda:0', grad_fn=<NegBackward0>), tensor(-84.6428, device='cuda:0', grad_fn=<AddBackward0>)]\n",
      "4.018563231972442\n",
      "tensor(-128.6976, device='cuda:0', grad_fn=<NegBackward0>) [tensor(-36.3976, device='cuda:0', grad_fn=<NegBackward0>), tensor(-7.7951, device='cuda:0', grad_fn=<NegBackward0>), tensor(-84.5049, device='cuda:0', grad_fn=<AddBackward0>)]\n",
      "4.020705348061085\n",
      "tensor(-131.6166, device='cuda:0', grad_fn=<NegBackward0>) [tensor(-36.3976, device='cuda:0', grad_fn=<NegBackward0>), tensor(-9.4696, device='cuda:0', grad_fn=<NegBackward0>), tensor(-85.7494, device='cuda:0', grad_fn=<AddBackward0>)]\n",
      "4.303886391467921\n",
      "tensor(-136.0606, device='cuda:0', grad_fn=<NegBackward0>) [tensor(-36.2706, device='cuda:0', grad_fn=<NegBackward0>), tensor(-10.8618, device='cuda:0', grad_fn=<NegBackward0>), tensor(-88.9282, device='cuda:0', grad_fn=<AddBackward0>)]\n",
      "3.962730166838595\n",
      "tensor(-128.8024, device='cuda:0', grad_fn=<NegBackward0>) [tensor(-36.2706, device='cuda:0', grad_fn=<NegBackward0>), tensor(-7.9777, device='cuda:0', grad_fn=<NegBackward0>), tensor(-84.5540, device='cuda:0', grad_fn=<AddBackward0>)]\n",
      "3.979287163052949\n",
      "tensor(-131.3558, device='cuda:0', grad_fn=<NegBackward0>) [tensor(-36.2929, device='cuda:0', grad_fn=<NegBackward0>), tensor(-8.9596, device='cuda:0', grad_fn=<NegBackward0>), tensor(-86.1032, device='cuda:0', grad_fn=<AddBackward0>)]\n",
      "4.991664402547543\n",
      "tensor(-134.5067, device='cuda:0', grad_fn=<NegBackward0>) [tensor(-36.2929, device='cuda:0', grad_fn=<NegBackward0>), tensor(-9.2765, device='cuda:0', grad_fn=<NegBackward0>), tensor(-88.9373, device='cuda:0', grad_fn=<AddBackward0>)]\n",
      "3.937926132140399\n",
      "tensor(-130.6347, device='cuda:0', grad_fn=<NegBackward0>) [tensor(-36.3650, device='cuda:0', grad_fn=<NegBackward0>), tensor(-8.2643, device='cuda:0', grad_fn=<NegBackward0>), tensor(-86.0054, device='cuda:0', grad_fn=<AddBackward0>)]\n",
      "4.07261573118551\n",
      "tensor(-132.0724, device='cuda:0', grad_fn=<NegBackward0>) [tensor(-36.3650, device='cuda:0', grad_fn=<NegBackward0>), tensor(-8.8503, device='cuda:0', grad_fn=<NegBackward0>), tensor(-86.8571, device='cuda:0', grad_fn=<AddBackward0>)]\n",
      "4.2779023014274085\n",
      "tensor(-131.3210, device='cuda:0', grad_fn=<NegBackward0>) [tensor(-36.3685, device='cuda:0', grad_fn=<NegBackward0>), tensor(-8.0131, device='cuda:0', grad_fn=<NegBackward0>), tensor(-86.9394, device='cuda:0', grad_fn=<AddBackward0>)]\n",
      "4.223780721971383\n",
      "tensor(-130.4449, device='cuda:0', grad_fn=<NegBackward0>) [tensor(-36.3685, device='cuda:0', grad_fn=<NegBackward0>), tensor(-8.1345, device='cuda:0', grad_fn=<NegBackward0>), tensor(-85.9418, device='cuda:0', grad_fn=<AddBackward0>)]\n",
      "4.124177375692471\n",
      "tensor(-135.0292, device='cuda:0', grad_fn=<NegBackward0>) [tensor(-36.5031, device='cuda:0', grad_fn=<NegBackward0>), tensor(-10.0075, device='cuda:0', grad_fn=<NegBackward0>), tensor(-88.5186, device='cuda:0', grad_fn=<AddBackward0>)]\n",
      "4.486156701759704\n",
      "tensor(-129.7350, device='cuda:0', grad_fn=<NegBackward0>) [tensor(-36.5031, device='cuda:0', grad_fn=<NegBackward0>), tensor(-7.2882, device='cuda:0', grad_fn=<NegBackward0>), tensor(-85.9437, device='cuda:0', grad_fn=<AddBackward0>)]\n",
      "3.8409892103842096\n",
      "tensor(-133.9266, device='cuda:0', grad_fn=<NegBackward0>) [tensor(-36.7031, device='cuda:0', grad_fn=<NegBackward0>), tensor(-9.8905, device='cuda:0', grad_fn=<NegBackward0>), tensor(-87.3331, device='cuda:0', grad_fn=<AddBackward0>)]\n",
      "3.728095542428074\n",
      "tensor(-129.8817, device='cuda:0', grad_fn=<NegBackward0>) [tensor(-36.7031, device='cuda:0', grad_fn=<NegBackward0>), tensor(-8.1869, device='cuda:0', grad_fn=<NegBackward0>), tensor(-84.9918, device='cuda:0', grad_fn=<AddBackward0>)]\n"
     ]
    },
    {
     "name": "stdout",
     "output_type": "stream",
     "text": [
      "4.019106158597735\n",
      "tensor(-132.5587, device='cuda:0', grad_fn=<NegBackward0>) [tensor(-36.6314, device='cuda:0', grad_fn=<NegBackward0>), tensor(-9.9364, device='cuda:0', grad_fn=<NegBackward0>), tensor(-85.9909, device='cuda:0', grad_fn=<AddBackward0>)]\n",
      "4.1587691282737\n",
      "tensor(-132.3587, device='cuda:0', grad_fn=<NegBackward0>) [tensor(-36.6314, device='cuda:0', grad_fn=<NegBackward0>), tensor(-8.7390, device='cuda:0', grad_fn=<NegBackward0>), tensor(-86.9882, device='cuda:0', grad_fn=<AddBackward0>)]\n",
      "4.379153223224475\n",
      "tensor(-135.9440, device='cuda:0', grad_fn=<NegBackward0>) [tensor(-36.6501, device='cuda:0', grad_fn=<NegBackward0>), tensor(-9.6823, device='cuda:0', grad_fn=<NegBackward0>), tensor(-89.6116, device='cuda:0', grad_fn=<AddBackward0>)]\n",
      "4.047729143170503\n",
      "tensor(-133.5674, device='cuda:0', grad_fn=<NegBackward0>) [tensor(-36.6501, device='cuda:0', grad_fn=<NegBackward0>), tensor(-9.7090, device='cuda:0', grad_fn=<NegBackward0>), tensor(-87.2083, device='cuda:0', grad_fn=<AddBackward0>)]\n",
      "4.180149719997709\n",
      "tensor(-130.5010, device='cuda:0', grad_fn=<NegBackward0>) [tensor(-36.4413, device='cuda:0', grad_fn=<NegBackward0>), tensor(-8.4119, device='cuda:0', grad_fn=<NegBackward0>), tensor(-85.6477, device='cuda:0', grad_fn=<AddBackward0>)]\n",
      "4.143826796305634\n",
      "tensor(-134.0870, device='cuda:0', grad_fn=<NegBackward0>) [tensor(-36.4413, device='cuda:0', grad_fn=<NegBackward0>), tensor(-9.2298, device='cuda:0', grad_fn=<NegBackward0>), tensor(-88.4159, device='cuda:0', grad_fn=<AddBackward0>)]\n",
      "4.465223655208846\n",
      "tensor(-136.5607, device='cuda:0', grad_fn=<NegBackward0>) [tensor(-36.5004, device='cuda:0', grad_fn=<NegBackward0>), tensor(-9.9423, device='cuda:0', grad_fn=<NegBackward0>), tensor(-90.1180, device='cuda:0', grad_fn=<AddBackward0>)]\n",
      "4.189412316495894\n",
      "tensor(-128.8206, device='cuda:0', grad_fn=<NegBackward0>) [tensor(-36.5004, device='cuda:0', grad_fn=<NegBackward0>), tensor(-7.2923, device='cuda:0', grad_fn=<NegBackward0>), tensor(-85.0278, device='cuda:0', grad_fn=<AddBackward0>)]\n",
      "4.287322581555163\n",
      "tensor(-133.0347, device='cuda:0', grad_fn=<NegBackward0>) [tensor(-36.5491, device='cuda:0', grad_fn=<NegBackward0>), tensor(-9.0110, device='cuda:0', grad_fn=<NegBackward0>), tensor(-87.4746, device='cuda:0', grad_fn=<AddBackward0>)]\n",
      "4.257635077400569\n",
      "tensor(-129.4079, device='cuda:0', grad_fn=<NegBackward0>) [tensor(-36.5491, device='cuda:0', grad_fn=<NegBackward0>), tensor(-7.2421, device='cuda:0', grad_fn=<NegBackward0>), tensor(-85.6167, device='cuda:0', grad_fn=<AddBackward0>)]\n",
      "4.068535411808811\n",
      "tensor(-133.1600, device='cuda:0', grad_fn=<NegBackward0>) [tensor(-36.7631, device='cuda:0', grad_fn=<NegBackward0>), tensor(-8.6879, device='cuda:0', grad_fn=<NegBackward0>), tensor(-87.7090, device='cuda:0', grad_fn=<AddBackward0>)]\n",
      "4.243971637748051\n",
      "tensor(-135.1996, device='cuda:0', grad_fn=<NegBackward0>) [tensor(-36.7631, device='cuda:0', grad_fn=<NegBackward0>), tensor(-9.4163, device='cuda:0', grad_fn=<NegBackward0>), tensor(-89.0202, device='cuda:0', grad_fn=<AddBackward0>)]\n",
      "4.0427909745025525\n",
      "tensor(-132.6095, device='cuda:0', grad_fn=<NegBackward0>) [tensor(-36.6156, device='cuda:0', grad_fn=<NegBackward0>), tensor(-9.6677, device='cuda:0', grad_fn=<NegBackward0>), tensor(-86.3263, device='cuda:0', grad_fn=<AddBackward0>)]\n",
      "4.176432591367438\n",
      "tensor(-135.0012, device='cuda:0', grad_fn=<NegBackward0>) [tensor(-36.6156, device='cuda:0', grad_fn=<NegBackward0>), tensor(-9.4359, device='cuda:0', grad_fn=<NegBackward0>), tensor(-88.9497, device='cuda:0', grad_fn=<AddBackward0>)]\n",
      "4.352425620471942\n",
      "tensor(-135.8488, device='cuda:0', grad_fn=<NegBackward0>) [tensor(-36.5525, device='cuda:0', grad_fn=<NegBackward0>), tensor(-9.5316, device='cuda:0', grad_fn=<NegBackward0>), tensor(-89.7647, device='cuda:0', grad_fn=<AddBackward0>)]\n",
      "99.68961446208571\n",
      "tensor(-126.4188, device='cuda:0', grad_fn=<NegBackward0>) [tensor(-36.5525, device='cuda:0', grad_fn=<NegBackward0>), tensor(-5.1825, device='cuda:0', grad_fn=<NegBackward0>), tensor(-84.6839, device='cuda:0', grad_fn=<AddBackward0>)]\n",
      "3.950190164339492\n",
      "tensor(-135.6018, device='cuda:0', grad_fn=<NegBackward0>) [tensor(-36.7607, device='cuda:0', grad_fn=<NegBackward0>), tensor(-10.5466, device='cuda:0', grad_fn=<NegBackward0>), tensor(-88.2945, device='cuda:0', grad_fn=<AddBackward0>)]\n",
      "4.034956458017761\n",
      "tensor(-133.6320, device='cuda:0', grad_fn=<NegBackward0>) [tensor(-36.7607, device='cuda:0', grad_fn=<NegBackward0>), tensor(-9.5813, device='cuda:0', grad_fn=<NegBackward0>), tensor(-87.2901, device='cuda:0', grad_fn=<AddBackward0>)]\n",
      "3.7657941091593146\n",
      "tensor(-132.4973, device='cuda:0', grad_fn=<NegBackward0>) [tensor(-36.5605, device='cuda:0', grad_fn=<NegBackward0>), tensor(-9.2348, device='cuda:0', grad_fn=<NegBackward0>), tensor(-86.7020, device='cuda:0', grad_fn=<AddBackward0>)]\n",
      "4.334542872332156\n",
      "tensor(-134.2859, device='cuda:0', grad_fn=<NegBackward0>) [tensor(-36.5605, device='cuda:0', grad_fn=<NegBackward0>), tensor(-8.9832, device='cuda:0', grad_fn=<NegBackward0>), tensor(-88.7422, device='cuda:0', grad_fn=<AddBackward0>)]\n",
      "4.268240888085564\n",
      "tensor(-135.0345, device='cuda:0', grad_fn=<NegBackward0>) [tensor(-36.5230, device='cuda:0', grad_fn=<NegBackward0>), tensor(-9.5283, device='cuda:0', grad_fn=<NegBackward0>), tensor(-88.9832, device='cuda:0', grad_fn=<AddBackward0>)]\n",
      "3.8104090121388503\n",
      "tensor(-131.2463, device='cuda:0', grad_fn=<NegBackward0>) [tensor(-36.5230, device='cuda:0', grad_fn=<NegBackward0>), tensor(-8.7475, device='cuda:0', grad_fn=<NegBackward0>), tensor(-85.9759, device='cuda:0', grad_fn=<AddBackward0>)]\n",
      "3.9733975066056444\n",
      "tensor(-132.0710, device='cuda:0', grad_fn=<NegBackward0>) [tensor(-36.3218, device='cuda:0', grad_fn=<NegBackward0>), tensor(-8.7159, device='cuda:0', grad_fn=<NegBackward0>), tensor(-87.0333, device='cuda:0', grad_fn=<AddBackward0>)]\n",
      "4.2662961357021585\n",
      "tensor(-134.2579, device='cuda:0', grad_fn=<NegBackward0>) [tensor(-36.3218, device='cuda:0', grad_fn=<NegBackward0>), tensor(-9.3730, device='cuda:0', grad_fn=<NegBackward0>), tensor(-88.5631, device='cuda:0', grad_fn=<AddBackward0>)]\n",
      "4.057409941391164\n",
      "tensor(-135.9797, device='cuda:0', grad_fn=<NegBackward0>) [tensor(-36.3640, device='cuda:0', grad_fn=<NegBackward0>), tensor(-10.2176, device='cuda:0', grad_fn=<NegBackward0>), tensor(-89.3981, device='cuda:0', grad_fn=<AddBackward0>)]\n",
      "4.277965121040921\n",
      "tensor(-129.6902, device='cuda:0', grad_fn=<NegBackward0>) [tensor(-36.3640, device='cuda:0', grad_fn=<NegBackward0>), tensor(-7.8407, device='cuda:0', grad_fn=<NegBackward0>), tensor(-85.4856, device='cuda:0', grad_fn=<AddBackward0>)]\n",
      "4.5817017275949885\n",
      "tensor(-134.5060, device='cuda:0', grad_fn=<NegBackward0>) [tensor(-36.5432, device='cuda:0', grad_fn=<NegBackward0>), tensor(-9.2945, device='cuda:0', grad_fn=<NegBackward0>), tensor(-88.6682, device='cuda:0', grad_fn=<AddBackward0>)]\n",
      "4.460263934663193\n",
      "tensor(-133.2730, device='cuda:0', grad_fn=<NegBackward0>) [tensor(-36.5432, device='cuda:0', grad_fn=<NegBackward0>), tensor(-8.9103, device='cuda:0', grad_fn=<NegBackward0>), tensor(-87.8195, device='cuda:0', grad_fn=<AddBackward0>)]\n",
      "4.444499096748995\n",
      "tensor(-133.6371, device='cuda:0', grad_fn=<NegBackward0>) [tensor(-36.6672, device='cuda:0', grad_fn=<NegBackward0>), tensor(-8.5689, device='cuda:0', grad_fn=<NegBackward0>), tensor(-88.4010, device='cuda:0', grad_fn=<AddBackward0>)]\n",
      "4.096032054218115\n",
      "tensor(-130.5203, device='cuda:0', grad_fn=<NegBackward0>) [tensor(-36.6672, device='cuda:0', grad_fn=<NegBackward0>), tensor(-7.9760, device='cuda:0', grad_fn=<NegBackward0>), tensor(-85.8771, device='cuda:0', grad_fn=<AddBackward0>)]\n",
      "4.26533781567639\n",
      "tensor(-132.1705, device='cuda:0', grad_fn=<NegBackward0>) [tensor(-36.6722, device='cuda:0', grad_fn=<NegBackward0>), tensor(-8.5843, device='cuda:0', grad_fn=<NegBackward0>), tensor(-86.9139, device='cuda:0', grad_fn=<AddBackward0>)]\n",
      "3.596410906234206\n",
      "tensor(-131.8302, device='cuda:0', grad_fn=<NegBackward0>) [tensor(-36.6722, device='cuda:0', grad_fn=<NegBackward0>), tensor(-11.3747, device='cuda:0', grad_fn=<NegBackward0>), tensor(-83.7832, device='cuda:0', grad_fn=<AddBackward0>)]\n",
      "3.6795984447207544\n",
      "tensor(-127.3491, device='cuda:0', grad_fn=<NegBackward0>) [tensor(-36.2588, device='cuda:0', grad_fn=<NegBackward0>), tensor(-7.0738, device='cuda:0', grad_fn=<NegBackward0>), tensor(-84.0164, device='cuda:0', grad_fn=<AddBackward0>)]\n"
     ]
    },
    {
     "name": "stdout",
     "output_type": "stream",
     "text": [
      "3.9980011969493687\n",
      "tensor(-131.8999, device='cuda:0', grad_fn=<NegBackward0>) [tensor(-36.2588, device='cuda:0', grad_fn=<NegBackward0>), tensor(-10.2088, device='cuda:0', grad_fn=<NegBackward0>), tensor(-85.4323, device='cuda:0', grad_fn=<AddBackward0>)]\n",
      "4.204559270433726\n",
      "tensor(-133.5977, device='cuda:0', grad_fn=<NegBackward0>) [tensor(-36.1685, device='cuda:0', grad_fn=<NegBackward0>), tensor(-9.3700, device='cuda:0', grad_fn=<NegBackward0>), tensor(-88.0592, device='cuda:0', grad_fn=<AddBackward0>)]\n",
      "4.446655416988469\n",
      "tensor(-132.5600, device='cuda:0', grad_fn=<NegBackward0>) [tensor(-36.1685, device='cuda:0', grad_fn=<NegBackward0>), tensor(-8.7194, device='cuda:0', grad_fn=<NegBackward0>), tensor(-87.6721, device='cuda:0', grad_fn=<AddBackward0>)]\n",
      "4.215182064561585\n",
      "tensor(-133.5435, device='cuda:0', grad_fn=<NegBackward0>) [tensor(-36.3850, device='cuda:0', grad_fn=<NegBackward0>), tensor(-9.1931, device='cuda:0', grad_fn=<NegBackward0>), tensor(-87.9654, device='cuda:0', grad_fn=<AddBackward0>)]\n",
      "4.337801853865787\n",
      "tensor(-136.9901, device='cuda:0', grad_fn=<NegBackward0>) [tensor(-36.3850, device='cuda:0', grad_fn=<NegBackward0>), tensor(-10.1914, device='cuda:0', grad_fn=<NegBackward0>), tensor(-90.4137, device='cuda:0', grad_fn=<AddBackward0>)]\n",
      "4.289655370346126\n",
      "tensor(-132.1881, device='cuda:0', grad_fn=<NegBackward0>) [tensor(-36.4539, device='cuda:0', grad_fn=<NegBackward0>), tensor(-8.4293, device='cuda:0', grad_fn=<NegBackward0>), tensor(-87.3050, device='cuda:0', grad_fn=<AddBackward0>)]\n",
      "4.2067320708973\n",
      "tensor(-135.0943, device='cuda:0', grad_fn=<NegBackward0>) [tensor(-36.4539, device='cuda:0', grad_fn=<NegBackward0>), tensor(-9.7610, device='cuda:0', grad_fn=<NegBackward0>), tensor(-88.8794, device='cuda:0', grad_fn=<AddBackward0>)]\n",
      "4.1587698340010375\n",
      "tensor(-129.0426, device='cuda:0', grad_fn=<NegBackward0>) [tensor(-36.5511, device='cuda:0', grad_fn=<NegBackward0>), tensor(-6.8891, device='cuda:0', grad_fn=<NegBackward0>), tensor(-85.6024, device='cuda:0', grad_fn=<AddBackward0>)]\n",
      "4.256304224052789\n",
      "tensor(-133.0130, device='cuda:0', grad_fn=<NegBackward0>) [tensor(-36.5511, device='cuda:0', grad_fn=<NegBackward0>), tensor(-9.3155, device='cuda:0', grad_fn=<NegBackward0>), tensor(-87.1464, device='cuda:0', grad_fn=<AddBackward0>)]\n",
      "3.938141291458699\n",
      "tensor(-133.5760, device='cuda:0', grad_fn=<NegBackward0>) [tensor(-36.6927, device='cuda:0', grad_fn=<NegBackward0>), tensor(-9.8416, device='cuda:0', grad_fn=<NegBackward0>), tensor(-87.0416, device='cuda:0', grad_fn=<AddBackward0>)]\n",
      "4.318438218620993\n",
      "tensor(-137.1502, device='cuda:0', grad_fn=<NegBackward0>) [tensor(-36.6927, device='cuda:0', grad_fn=<NegBackward0>), tensor(-10.2608, device='cuda:0', grad_fn=<NegBackward0>), tensor(-90.1966, device='cuda:0', grad_fn=<AddBackward0>)]\n",
      "4.21753100926504\n",
      "tensor(-134.1310, device='cuda:0', grad_fn=<NegBackward0>) [tensor(-36.5462, device='cuda:0', grad_fn=<NegBackward0>), tensor(-9.2462, device='cuda:0', grad_fn=<NegBackward0>), tensor(-88.3385, device='cuda:0', grad_fn=<AddBackward0>)]\n",
      "4.331831608398279\n",
      "tensor(-136.5187, device='cuda:0', grad_fn=<NegBackward0>) [tensor(-36.5462, device='cuda:0', grad_fn=<NegBackward0>), tensor(-10.0805, device='cuda:0', grad_fn=<NegBackward0>), tensor(-89.8920, device='cuda:0', grad_fn=<AddBackward0>)]\n",
      "4.055003489574028\n",
      "tensor(-133.0818, device='cuda:0', grad_fn=<NegBackward0>) [tensor(-36.4097, device='cuda:0', grad_fn=<NegBackward0>), tensor(-9.1191, device='cuda:0', grad_fn=<NegBackward0>), tensor(-87.5530, device='cuda:0', grad_fn=<AddBackward0>)]\n",
      "4.484132067223089\n",
      "tensor(-133.3622, device='cuda:0', grad_fn=<NegBackward0>) [tensor(-36.4097, device='cuda:0', grad_fn=<NegBackward0>), tensor(-9.5299, device='cuda:0', grad_fn=<NegBackward0>), tensor(-87.4226, device='cuda:0', grad_fn=<AddBackward0>)]\n",
      "4.313756685386007\n",
      "tensor(-130.7768, device='cuda:0', grad_fn=<NegBackward0>) [tensor(-36.4191, device='cuda:0', grad_fn=<NegBackward0>), tensor(-8.1737, device='cuda:0', grad_fn=<NegBackward0>), tensor(-86.1841, device='cuda:0', grad_fn=<AddBackward0>)]\n",
      "4.39870127422835\n",
      "tensor(-135.2706, device='cuda:0', grad_fn=<NegBackward0>) [tensor(-36.4191, device='cuda:0', grad_fn=<NegBackward0>), tensor(-9.4838, device='cuda:0', grad_fn=<NegBackward0>), tensor(-89.3678, device='cuda:0', grad_fn=<AddBackward0>)]\n",
      "3.8740810945230937\n",
      "tensor(-133.9438, device='cuda:0', grad_fn=<NegBackward0>) [tensor(-36.5244, device='cuda:0', grad_fn=<NegBackward0>), tensor(-10.2867, device='cuda:0', grad_fn=<NegBackward0>), tensor(-87.1327, device='cuda:0', grad_fn=<AddBackward0>)]\n",
      "4.225086357089798\n",
      "tensor(-134.6967, device='cuda:0', grad_fn=<NegBackward0>) [tensor(-36.5244, device='cuda:0', grad_fn=<NegBackward0>), tensor(-9.8485, device='cuda:0', grad_fn=<NegBackward0>), tensor(-88.3238, device='cuda:0', grad_fn=<AddBackward0>)]\n",
      "4.551923360588544\n",
      "tensor(-131.1032, device='cuda:0', grad_fn=<NegBackward0>) [tensor(-36.5373, device='cuda:0', grad_fn=<NegBackward0>), tensor(-7.6999, device='cuda:0', grad_fn=<NegBackward0>), tensor(-86.8660, device='cuda:0', grad_fn=<AddBackward0>)]\n",
      "3.887974126574787\n",
      "tensor(-135.5524, device='cuda:0', grad_fn=<NegBackward0>) [tensor(-36.5373, device='cuda:0', grad_fn=<NegBackward0>), tensor(-11.0014, device='cuda:0', grad_fn=<NegBackward0>), tensor(-88.0137, device='cuda:0', grad_fn=<AddBackward0>)]\n",
      "4.048350328415483\n",
      "tensor(-131.6334, device='cuda:0', grad_fn=<NegBackward0>) [tensor(-36.5014, device='cuda:0', grad_fn=<NegBackward0>), tensor(-8.5518, device='cuda:0', grad_fn=<NegBackward0>), tensor(-86.5802, device='cuda:0', grad_fn=<AddBackward0>)]\n",
      "3.7661788713679396\n",
      "tensor(-132.2672, device='cuda:0', grad_fn=<NegBackward0>) [tensor(-36.5014, device='cuda:0', grad_fn=<NegBackward0>), tensor(-10.0803, device='cuda:0', grad_fn=<NegBackward0>), tensor(-85.6855, device='cuda:0', grad_fn=<AddBackward0>)]\n",
      "3.848327432918025\n",
      "tensor(-130.5974, device='cuda:0', grad_fn=<NegBackward0>) [tensor(-36.3926, device='cuda:0', grad_fn=<NegBackward0>), tensor(-8.6418, device='cuda:0', grad_fn=<NegBackward0>), tensor(-85.5631, device='cuda:0', grad_fn=<AddBackward0>)]\n",
      "4.30159638181036\n",
      "tensor(-133.0699, device='cuda:0', grad_fn=<NegBackward0>) [tensor(-36.3926, device='cuda:0', grad_fn=<NegBackward0>), tensor(-9.3163, device='cuda:0', grad_fn=<NegBackward0>), tensor(-87.3611, device='cuda:0', grad_fn=<AddBackward0>)]\n",
      "4.5038798627581125\n",
      "tensor(-133.9669, device='cuda:0', grad_fn=<NegBackward0>) [tensor(-36.4627, device='cuda:0', grad_fn=<NegBackward0>), tensor(-8.7775, device='cuda:0', grad_fn=<NegBackward0>), tensor(-88.7267, device='cuda:0', grad_fn=<AddBackward0>)]\n",
      "4.424099694520917\n",
      "tensor(-132.3683, device='cuda:0', grad_fn=<NegBackward0>) [tensor(-36.4627, device='cuda:0', grad_fn=<NegBackward0>), tensor(-8.8923, device='cuda:0', grad_fn=<NegBackward0>), tensor(-87.0133, device='cuda:0', grad_fn=<AddBackward0>)]\n",
      "4.0162741203449475\n",
      "tensor(-136.1130, device='cuda:0', grad_fn=<NegBackward0>) [tensor(-36.6184, device='cuda:0', grad_fn=<NegBackward0>), tensor(-10.1227, device='cuda:0', grad_fn=<NegBackward0>), tensor(-89.3719, device='cuda:0', grad_fn=<AddBackward0>)]\n",
      "3.8741944302198603\n",
      "tensor(-131.3339, device='cuda:0', grad_fn=<NegBackward0>) [tensor(-36.6184, device='cuda:0', grad_fn=<NegBackward0>), tensor(-9.2379, device='cuda:0', grad_fn=<NegBackward0>), tensor(-85.4777, device='cuda:0', grad_fn=<AddBackward0>)]\n",
      "4.232020235221169\n",
      "tensor(-130.9126, device='cuda:0', grad_fn=<NegBackward0>) [tensor(-36.6190, device='cuda:0', grad_fn=<NegBackward0>), tensor(-7.9339, device='cuda:0', grad_fn=<NegBackward0>), tensor(-86.3597, device='cuda:0', grad_fn=<AddBackward0>)]\n",
      "3.972576990188273\n",
      "tensor(-132.5560, device='cuda:0', grad_fn=<NegBackward0>) [tensor(-36.6190, device='cuda:0', grad_fn=<NegBackward0>), tensor(-9.3862, device='cuda:0', grad_fn=<NegBackward0>), tensor(-86.5508, device='cuda:0', grad_fn=<AddBackward0>)]\n",
      "4.031050980564718\n",
      "tensor(-132.3256, device='cuda:0', grad_fn=<NegBackward0>) [tensor(-36.5877, device='cuda:0', grad_fn=<NegBackward0>), tensor(-8.8568, device='cuda:0', grad_fn=<NegBackward0>), tensor(-86.8811, device='cuda:0', grad_fn=<AddBackward0>)]\n",
      "4.058202422576123\n",
      "tensor(-131.9188, device='cuda:0', grad_fn=<NegBackward0>) [tensor(-36.5877, device='cuda:0', grad_fn=<NegBackward0>), tensor(-8.3710, device='cuda:0', grad_fn=<NegBackward0>), tensor(-86.9601, device='cuda:0', grad_fn=<AddBackward0>)]\n"
     ]
    },
    {
     "name": "stdout",
     "output_type": "stream",
     "text": [
      "4.067569965118236\n",
      "tensor(-129.8232, device='cuda:0', grad_fn=<NegBackward0>) [tensor(-36.8151, device='cuda:0', grad_fn=<NegBackward0>), tensor(-8.2109, device='cuda:0', grad_fn=<NegBackward0>), tensor(-84.7972, device='cuda:0', grad_fn=<AddBackward0>)]\n",
      "4.2502089933182345\n",
      "tensor(-132.9204, device='cuda:0', grad_fn=<NegBackward0>) [tensor(-36.8151, device='cuda:0', grad_fn=<NegBackward0>), tensor(-8.5318, device='cuda:0', grad_fn=<NegBackward0>), tensor(-87.5734, device='cuda:0', grad_fn=<AddBackward0>)]\n",
      "4.468259522800829\n",
      "tensor(-134.9070, device='cuda:0', grad_fn=<NegBackward0>) [tensor(-36.9103, device='cuda:0', grad_fn=<NegBackward0>), tensor(-9.0561, device='cuda:0', grad_fn=<NegBackward0>), tensor(-88.9406, device='cuda:0', grad_fn=<AddBackward0>)]\n",
      "4.193276630431007\n",
      "tensor(-133.1169, device='cuda:0', grad_fn=<NegBackward0>) [tensor(-36.9103, device='cuda:0', grad_fn=<NegBackward0>), tensor(-8.8281, device='cuda:0', grad_fn=<NegBackward0>), tensor(-87.3785, device='cuda:0', grad_fn=<AddBackward0>)]\n",
      "4.481168296087826\n",
      "tensor(-135.6042, device='cuda:0', grad_fn=<NegBackward0>) [tensor(-36.9340, device='cuda:0', grad_fn=<NegBackward0>), tensor(-9.6189, device='cuda:0', grad_fn=<NegBackward0>), tensor(-89.0513, device='cuda:0', grad_fn=<AddBackward0>)]\n",
      "4.430127823843381\n",
      "tensor(-129.9386, device='cuda:0', grad_fn=<NegBackward0>) [tensor(-36.9340, device='cuda:0', grad_fn=<NegBackward0>), tensor(-6.8904, device='cuda:0', grad_fn=<NegBackward0>), tensor(-86.1141, device='cuda:0', grad_fn=<AddBackward0>)]\n",
      "4.337291249090399\n",
      "tensor(-137.3888, device='cuda:0', grad_fn=<NegBackward0>) [tensor(-36.9881, device='cuda:0', grad_fn=<NegBackward0>), tensor(-9.5163, device='cuda:0', grad_fn=<NegBackward0>), tensor(-90.8845, device='cuda:0', grad_fn=<AddBackward0>)]\n",
      "4.0730350371682995\n",
      "tensor(-135.3698, device='cuda:0', grad_fn=<NegBackward0>) [tensor(-36.9881, device='cuda:0', grad_fn=<NegBackward0>), tensor(-9.8321, device='cuda:0', grad_fn=<NegBackward0>), tensor(-88.5496, device='cuda:0', grad_fn=<AddBackward0>)]\n",
      "4.257775605675549\n",
      "tensor(-138.5849, device='cuda:0', grad_fn=<NegBackward0>) [tensor(-36.9115, device='cuda:0', grad_fn=<NegBackward0>), tensor(-10.4040, device='cuda:0', grad_fn=<NegBackward0>), tensor(-91.2694, device='cuda:0', grad_fn=<AddBackward0>)]\n",
      "3.973674485371117\n",
      "tensor(-135.5596, device='cuda:0', grad_fn=<NegBackward0>) [tensor(-36.9115, device='cuda:0', grad_fn=<NegBackward0>), tensor(-10.1572, device='cuda:0', grad_fn=<NegBackward0>), tensor(-88.4909, device='cuda:0', grad_fn=<AddBackward0>)]\n",
      "4.337430850086835\n",
      "tensor(-131.2219, device='cuda:0', grad_fn=<NegBackward0>) [tensor(-36.7940, device='cuda:0', grad_fn=<NegBackward0>), tensor(-7.9843, device='cuda:0', grad_fn=<NegBackward0>), tensor(-86.4436, device='cuda:0', grad_fn=<AddBackward0>)]\n",
      "4.648139123569731\n",
      "tensor(-136.1135, device='cuda:0', grad_fn=<NegBackward0>) [tensor(-36.7940, device='cuda:0', grad_fn=<NegBackward0>), tensor(-9.6034, device='cuda:0', grad_fn=<NegBackward0>), tensor(-89.7161, device='cuda:0', grad_fn=<AddBackward0>)]\n",
      "3.905949653344413\n",
      "tensor(-135.8482, device='cuda:0', grad_fn=<NegBackward0>) [tensor(-36.8634, device='cuda:0', grad_fn=<NegBackward0>), tensor(-10.6171, device='cuda:0', grad_fn=<NegBackward0>), tensor(-88.3677, device='cuda:0', grad_fn=<AddBackward0>)]\n",
      "4.383309147608442\n",
      "tensor(-138.1235, device='cuda:0', grad_fn=<NegBackward0>) [tensor(-36.8634, device='cuda:0', grad_fn=<NegBackward0>), tensor(-11.0337, device='cuda:0', grad_fn=<NegBackward0>), tensor(-90.2264, device='cuda:0', grad_fn=<AddBackward0>)]\n",
      "4.581161428753735\n",
      "tensor(-136.7115, device='cuda:0', grad_fn=<NegBackward0>) [tensor(-36.8245, device='cuda:0', grad_fn=<NegBackward0>), tensor(-9.7308, device='cuda:0', grad_fn=<NegBackward0>), tensor(-90.1562, device='cuda:0', grad_fn=<AddBackward0>)]\n",
      "4.759515988070267\n",
      "tensor(-135.1764, device='cuda:0', grad_fn=<NegBackward0>) [tensor(-36.8245, device='cuda:0', grad_fn=<NegBackward0>), tensor(-8.6603, device='cuda:0', grad_fn=<NegBackward0>), tensor(-89.6916, device='cuda:0', grad_fn=<AddBackward0>)]\n",
      "4.432927959420588\n",
      "tensor(-133.4838, device='cuda:0', grad_fn=<NegBackward0>) [tensor(-36.9352, device='cuda:0', grad_fn=<NegBackward0>), tensor(-8.4179, device='cuda:0', grad_fn=<NegBackward0>), tensor(-88.1307, device='cuda:0', grad_fn=<AddBackward0>)]\n",
      "3.72964321736836\n",
      "tensor(-132.6997, device='cuda:0', grad_fn=<NegBackward0>) [tensor(-36.9352, device='cuda:0', grad_fn=<NegBackward0>), tensor(-9.7666, device='cuda:0', grad_fn=<NegBackward0>), tensor(-85.9979, device='cuda:0', grad_fn=<AddBackward0>)]\n",
      "4.734791346957218\n",
      "tensor(-132.2896, device='cuda:0', grad_fn=<NegBackward0>) [tensor(-36.8506, device='cuda:0', grad_fn=<NegBackward0>), tensor(-8.0352, device='cuda:0', grad_fn=<NegBackward0>), tensor(-87.4038, device='cuda:0', grad_fn=<AddBackward0>)]\n",
      "3.933807153106682\n",
      "tensor(-131.1069, device='cuda:0', grad_fn=<NegBackward0>) [tensor(-36.8506, device='cuda:0', grad_fn=<NegBackward0>), tensor(-7.9276, device='cuda:0', grad_fn=<NegBackward0>), tensor(-86.3287, device='cuda:0', grad_fn=<AddBackward0>)]\n",
      "4.017235413613512\n",
      "tensor(-132.9330, device='cuda:0', grad_fn=<NegBackward0>) [tensor(-36.8734, device='cuda:0', grad_fn=<NegBackward0>), tensor(-9.1300, device='cuda:0', grad_fn=<NegBackward0>), tensor(-86.9296, device='cuda:0', grad_fn=<AddBackward0>)]\n",
      "3.8238184313517767\n",
      "tensor(-131.2350, device='cuda:0', grad_fn=<NegBackward0>) [tensor(-36.8734, device='cuda:0', grad_fn=<NegBackward0>), tensor(-8.9993, device='cuda:0', grad_fn=<NegBackward0>), tensor(-85.3623, device='cuda:0', grad_fn=<AddBackward0>)]\n",
      "3.976622686941689\n",
      "tensor(-134.8221, device='cuda:0', grad_fn=<NegBackward0>) [tensor(-36.8815, device='cuda:0', grad_fn=<NegBackward0>), tensor(-10.1840, device='cuda:0', grad_fn=<NegBackward0>), tensor(-87.7566, device='cuda:0', grad_fn=<AddBackward0>)]\n",
      "4.267842816241228\n",
      "tensor(-132.9538, device='cuda:0', grad_fn=<NegBackward0>) [tensor(-36.8815, device='cuda:0', grad_fn=<NegBackward0>), tensor(-8.3401, device='cuda:0', grad_fn=<NegBackward0>), tensor(-87.7323, device='cuda:0', grad_fn=<AddBackward0>)]\n",
      "4.111304491381156\n",
      "tensor(-137.5969, device='cuda:0', grad_fn=<NegBackward0>) [tensor(-36.9688, device='cuda:0', grad_fn=<NegBackward0>), tensor(-10.9388, device='cuda:0', grad_fn=<NegBackward0>), tensor(-89.6892, device='cuda:0', grad_fn=<AddBackward0>)]\n",
      "4.120462907485046\n",
      "tensor(-131.8424, device='cuda:0', grad_fn=<NegBackward0>) [tensor(-36.9688, device='cuda:0', grad_fn=<NegBackward0>), tensor(-7.9126, device='cuda:0', grad_fn=<NegBackward0>), tensor(-86.9610, device='cuda:0', grad_fn=<AddBackward0>)]\n",
      "4.334540476054839\n",
      "tensor(-139.1101, device='cuda:0', grad_fn=<NegBackward0>) [tensor(-37.0522, device='cuda:0', grad_fn=<NegBackward0>), tensor(-10.6245, device='cuda:0', grad_fn=<NegBackward0>), tensor(-91.4335, device='cuda:0', grad_fn=<AddBackward0>)]\n",
      "4.079275876210205\n",
      "tensor(-135.6525, device='cuda:0', grad_fn=<NegBackward0>) [tensor(-37.0522, device='cuda:0', grad_fn=<NegBackward0>), tensor(-9.7147, device='cuda:0', grad_fn=<NegBackward0>), tensor(-88.8856, device='cuda:0', grad_fn=<AddBackward0>)]\n",
      "4.238964771074835\n",
      "tensor(-135.2041, device='cuda:0', grad_fn=<NegBackward0>) [tensor(-37.0086, device='cuda:0', grad_fn=<NegBackward0>), tensor(-9.6293, device='cuda:0', grad_fn=<NegBackward0>), tensor(-88.5662, device='cuda:0', grad_fn=<AddBackward0>)]\n",
      "4.476566994033312\n",
      "tensor(-134.7954, device='cuda:0', grad_fn=<NegBackward0>) [tensor(-37.0086, device='cuda:0', grad_fn=<NegBackward0>), tensor(-8.7180, device='cuda:0', grad_fn=<NegBackward0>), tensor(-89.0688, device='cuda:0', grad_fn=<AddBackward0>)]\n",
      "4.12618936698899\n",
      "tensor(-131.8056, device='cuda:0', grad_fn=<NegBackward0>) [tensor(-37.0893, device='cuda:0', grad_fn=<NegBackward0>), tensor(-8.1685, device='cuda:0', grad_fn=<NegBackward0>), tensor(-86.5478, device='cuda:0', grad_fn=<AddBackward0>)]\n",
      "4.1298078198813215\n",
      "tensor(-133.6117, device='cuda:0', grad_fn=<NegBackward0>) [tensor(-37.0893, device='cuda:0', grad_fn=<NegBackward0>), tensor(-9.2057, device='cuda:0', grad_fn=<NegBackward0>), tensor(-87.3167, device='cuda:0', grad_fn=<AddBackward0>)]\n",
      "3.8842895288167605\n",
      "tensor(-138.9688, device='cuda:0', grad_fn=<NegBackward0>) [tensor(-37.0251, device='cuda:0', grad_fn=<NegBackward0>), tensor(-11.9744, device='cuda:0', grad_fn=<NegBackward0>), tensor(-89.9692, device='cuda:0', grad_fn=<AddBackward0>)]\n"
     ]
    },
    {
     "name": "stdout",
     "output_type": "stream",
     "text": [
      "4.75855479180133\n",
      "tensor(-130.3104, device='cuda:0', grad_fn=<NegBackward0>) [tensor(-37.0251, device='cuda:0', grad_fn=<NegBackward0>), tensor(-7.1262, device='cuda:0', grad_fn=<NegBackward0>), tensor(-86.1591, device='cuda:0', grad_fn=<AddBackward0>)]\n",
      "4.195532035349129\n",
      "tensor(-136.1662, device='cuda:0', grad_fn=<NegBackward0>) [tensor(-37.0667, device='cuda:0', grad_fn=<NegBackward0>), tensor(-9.4245, device='cuda:0', grad_fn=<NegBackward0>), tensor(-89.6751, device='cuda:0', grad_fn=<AddBackward0>)]\n",
      "4.531129140945127\n",
      "tensor(-133.6768, device='cuda:0', grad_fn=<NegBackward0>) [tensor(-37.0667, device='cuda:0', grad_fn=<NegBackward0>), tensor(-8.3310, device='cuda:0', grad_fn=<NegBackward0>), tensor(-88.2791, device='cuda:0', grad_fn=<AddBackward0>)]\n",
      "4.420680566431084\n",
      "tensor(-133.4279, device='cuda:0', grad_fn=<NegBackward0>) [tensor(-37.0508, device='cuda:0', grad_fn=<NegBackward0>), tensor(-8.6876, device='cuda:0', grad_fn=<NegBackward0>), tensor(-87.6895, device='cuda:0', grad_fn=<AddBackward0>)]\n",
      "4.063701586868989\n",
      "tensor(-136.8057, device='cuda:0', grad_fn=<NegBackward0>) [tensor(-37.0508, device='cuda:0', grad_fn=<NegBackward0>), tensor(-10.4033, device='cuda:0', grad_fn=<NegBackward0>), tensor(-89.3516, device='cuda:0', grad_fn=<AddBackward0>)]\n",
      "4.544681127449312\n",
      "tensor(-135.7307, device='cuda:0', grad_fn=<NegBackward0>) [tensor(-36.8783, device='cuda:0', grad_fn=<NegBackward0>), tensor(-8.9593, device='cuda:0', grad_fn=<NegBackward0>), tensor(-89.8931, device='cuda:0', grad_fn=<AddBackward0>)]\n",
      "4.9142324209169255\n",
      "tensor(-139.0141, device='cuda:0', grad_fn=<NegBackward0>) [tensor(-36.8783, device='cuda:0', grad_fn=<NegBackward0>), tensor(-10.0258, device='cuda:0', grad_fn=<NegBackward0>), tensor(-92.1100, device='cuda:0', grad_fn=<AddBackward0>)]\n",
      "3.693619819913398\n",
      "tensor(-129.1127, device='cuda:0', grad_fn=<NegBackward0>) [tensor(-36.8921, device='cuda:0', grad_fn=<NegBackward0>), tensor(-7.9924, device='cuda:0', grad_fn=<NegBackward0>), tensor(-84.2282, device='cuda:0', grad_fn=<AddBackward0>)]\n",
      "4.612551209530837\n",
      "tensor(-134.1300, device='cuda:0', grad_fn=<NegBackward0>) [tensor(-36.8921, device='cuda:0', grad_fn=<NegBackward0>), tensor(-8.3195, device='cuda:0', grad_fn=<NegBackward0>), tensor(-88.9184, device='cuda:0', grad_fn=<AddBackward0>)]\n",
      "4.174454833272565\n",
      "tensor(-129.4273, device='cuda:0', grad_fn=<NegBackward0>) [tensor(-36.9966, device='cuda:0', grad_fn=<NegBackward0>), tensor(-7.0128, device='cuda:0', grad_fn=<NegBackward0>), tensor(-85.4180, device='cuda:0', grad_fn=<AddBackward0>)]\n",
      "4.292829329755963\n",
      "tensor(-132.1897, device='cuda:0', grad_fn=<NegBackward0>) [tensor(-36.9966, device='cuda:0', grad_fn=<NegBackward0>), tensor(-8.0983, device='cuda:0', grad_fn=<NegBackward0>), tensor(-87.0949, device='cuda:0', grad_fn=<AddBackward0>)]\n",
      "4.145553351667025\n",
      "tensor(-132.6670, device='cuda:0', grad_fn=<NegBackward0>) [tensor(-36.9993, device='cuda:0', grad_fn=<NegBackward0>), tensor(-9.2704, device='cuda:0', grad_fn=<NegBackward0>), tensor(-86.3972, device='cuda:0', grad_fn=<AddBackward0>)]\n",
      "4.178312613217303\n",
      "tensor(-133.3262, device='cuda:0', grad_fn=<NegBackward0>) [tensor(-36.9993, device='cuda:0', grad_fn=<NegBackward0>), tensor(-8.8414, device='cuda:0', grad_fn=<NegBackward0>), tensor(-87.4854, device='cuda:0', grad_fn=<AddBackward0>)]\n",
      "4.356229084615453\n",
      "tensor(-134.5928, device='cuda:0', grad_fn=<NegBackward0>) [tensor(-37.1165, device='cuda:0', grad_fn=<NegBackward0>), tensor(-8.9518, device='cuda:0', grad_fn=<NegBackward0>), tensor(-88.5246, device='cuda:0', grad_fn=<AddBackward0>)]\n",
      "3.9193056740794243\n",
      "tensor(-134.7707, device='cuda:0', grad_fn=<NegBackward0>) [tensor(-37.1165, device='cuda:0', grad_fn=<NegBackward0>), tensor(-9.5147, device='cuda:0', grad_fn=<NegBackward0>), tensor(-88.1395, device='cuda:0', grad_fn=<AddBackward0>)]\n",
      "3.9181289183288164\n",
      "tensor(-133.3778, device='cuda:0', grad_fn=<NegBackward0>) [tensor(-36.9937, device='cuda:0', grad_fn=<NegBackward0>), tensor(-9.3171, device='cuda:0', grad_fn=<NegBackward0>), tensor(-87.0670, device='cuda:0', grad_fn=<AddBackward0>)]\n",
      "4.184267599142835\n",
      "tensor(-136.6391, device='cuda:0', grad_fn=<NegBackward0>) [tensor(-36.9937, device='cuda:0', grad_fn=<NegBackward0>), tensor(-10.4932, device='cuda:0', grad_fn=<NegBackward0>), tensor(-89.1523, device='cuda:0', grad_fn=<AddBackward0>)]\n",
      "3.9616197197486533\n",
      "tensor(-133.1684, device='cuda:0', grad_fn=<NegBackward0>) [tensor(-36.8832, device='cuda:0', grad_fn=<NegBackward0>), tensor(-10.0550, device='cuda:0', grad_fn=<NegBackward0>), tensor(-86.2303, device='cuda:0', grad_fn=<AddBackward0>)]\n",
      "4.36989517155774\n",
      "tensor(-134.8869, device='cuda:0', grad_fn=<NegBackward0>) [tensor(-36.8832, device='cuda:0', grad_fn=<NegBackward0>), tensor(-9.4692, device='cuda:0', grad_fn=<NegBackward0>), tensor(-88.5346, device='cuda:0', grad_fn=<AddBackward0>)]\n",
      "4.338613427591402\n",
      "tensor(-129.1711, device='cuda:0', grad_fn=<NegBackward0>) [tensor(-36.9751, device='cuda:0', grad_fn=<NegBackward0>), tensor(-6.9735, device='cuda:0', grad_fn=<NegBackward0>), tensor(-85.2225, device='cuda:0', grad_fn=<AddBackward0>)]\n",
      "4.145554697527961\n",
      "tensor(-134.0135, device='cuda:0', grad_fn=<NegBackward0>) [tensor(-36.9751, device='cuda:0', grad_fn=<NegBackward0>), tensor(-9.0872, device='cuda:0', grad_fn=<NegBackward0>), tensor(-87.9512, device='cuda:0', grad_fn=<AddBackward0>)]\n",
      "3.9688407042680756\n",
      "tensor(-137.0114, device='cuda:0', grad_fn=<NegBackward0>) [tensor(-37.0057, device='cuda:0', grad_fn=<NegBackward0>), tensor(-10.4533, device='cuda:0', grad_fn=<NegBackward0>), tensor(-89.5524, device='cuda:0', grad_fn=<AddBackward0>)]\n",
      "4.322757409653666\n",
      "tensor(-129.8586, device='cuda:0', grad_fn=<NegBackward0>) [tensor(-37.0057, device='cuda:0', grad_fn=<NegBackward0>), tensor(-7.3847, device='cuda:0', grad_fn=<NegBackward0>), tensor(-85.4682, device='cuda:0', grad_fn=<AddBackward0>)]\n",
      "4.537464017672374\n",
      "tensor(-130.8144, device='cuda:0', grad_fn=<NegBackward0>) [tensor(-37.1126, device='cuda:0', grad_fn=<NegBackward0>), tensor(-7.1462, device='cuda:0', grad_fn=<NegBackward0>), tensor(-86.5556, device='cuda:0', grad_fn=<AddBackward0>)]\n",
      "3.932649508028115\n",
      "tensor(-135.4343, device='cuda:0', grad_fn=<NegBackward0>) [tensor(-37.1126, device='cuda:0', grad_fn=<NegBackward0>), tensor(-10.2418, device='cuda:0', grad_fn=<NegBackward0>), tensor(-88.0800, device='cuda:0', grad_fn=<AddBackward0>)]\n",
      "4.801310940646115\n",
      "tensor(-133.3662, device='cuda:0', grad_fn=<NegBackward0>) [tensor(-37.1146, device='cuda:0', grad_fn=<NegBackward0>), tensor(-8.1742, device='cuda:0', grad_fn=<NegBackward0>), tensor(-88.0775, device='cuda:0', grad_fn=<AddBackward0>)]\n",
      "4.4562334292246355\n",
      "tensor(-136.7743, device='cuda:0', grad_fn=<NegBackward0>) [tensor(-37.1146, device='cuda:0', grad_fn=<NegBackward0>), tensor(-10.1211, device='cuda:0', grad_fn=<NegBackward0>), tensor(-89.5386, device='cuda:0', grad_fn=<AddBackward0>)]\n",
      "5.0116525455841385\n",
      "tensor(-132.5363, device='cuda:0', grad_fn=<NegBackward0>) [tensor(-36.9472, device='cuda:0', grad_fn=<NegBackward0>), tensor(-8.1435, device='cuda:0', grad_fn=<NegBackward0>), tensor(-87.4457, device='cuda:0', grad_fn=<AddBackward0>)]\n",
      "3.9432724701226296\n",
      "tensor(-131.8254, device='cuda:0', grad_fn=<NegBackward0>) [tensor(-36.9472, device='cuda:0', grad_fn=<NegBackward0>), tensor(-8.2312, device='cuda:0', grad_fn=<NegBackward0>), tensor(-86.6471, device='cuda:0', grad_fn=<AddBackward0>)]\n",
      "4.402803815402425\n",
      "tensor(-135.3150, device='cuda:0', grad_fn=<NegBackward0>) [tensor(-37.0858, device='cuda:0', grad_fn=<NegBackward0>), tensor(-9.4164, device='cuda:0', grad_fn=<NegBackward0>), tensor(-88.8127, device='cuda:0', grad_fn=<AddBackward0>)]\n",
      "3.9501027640969446\n",
      "tensor(-133.5653, device='cuda:0', grad_fn=<NegBackward0>) [tensor(-37.0858, device='cuda:0', grad_fn=<NegBackward0>), tensor(-10.3365, device='cuda:0', grad_fn=<NegBackward0>), tensor(-86.1429, device='cuda:0', grad_fn=<AddBackward0>)]\n",
      "4.388098369565499\n",
      "tensor(-135.4424, device='cuda:0', grad_fn=<NegBackward0>) [tensor(-36.9543, device='cuda:0', grad_fn=<NegBackward0>), tensor(-9.6088, device='cuda:0', grad_fn=<NegBackward0>), tensor(-88.8793, device='cuda:0', grad_fn=<AddBackward0>)]\n",
      "4.845645051740756\n",
      "tensor(-131.3111, device='cuda:0', grad_fn=<NegBackward0>) [tensor(-36.9543, device='cuda:0', grad_fn=<NegBackward0>), tensor(-7.7802, device='cuda:0', grad_fn=<NegBackward0>), tensor(-86.5766, device='cuda:0', grad_fn=<AddBackward0>)]\n"
     ]
    },
    {
     "name": "stdout",
     "output_type": "stream",
     "text": [
      "4.628917566740741\n",
      "tensor(-135.8873, device='cuda:0', grad_fn=<NegBackward0>) [tensor(-37.1770, device='cuda:0', grad_fn=<NegBackward0>), tensor(-9.1455, device='cuda:0', grad_fn=<NegBackward0>), tensor(-89.5647, device='cuda:0', grad_fn=<AddBackward0>)]\n",
      "4.120378185871035\n",
      "tensor(-130.3811, device='cuda:0', grad_fn=<NegBackward0>) [tensor(-37.1770, device='cuda:0', grad_fn=<NegBackward0>), tensor(-7.9253, device='cuda:0', grad_fn=<NegBackward0>), tensor(-85.2788, device='cuda:0', grad_fn=<AddBackward0>)]\n",
      "4.523938784415325\n",
      "tensor(-137.9289, device='cuda:0', grad_fn=<NegBackward0>) [tensor(-37.0898, device='cuda:0', grad_fn=<NegBackward0>), tensor(-10.1455, device='cuda:0', grad_fn=<NegBackward0>), tensor(-90.6936, device='cuda:0', grad_fn=<AddBackward0>)]\n",
      "4.092239887756504\n",
      "tensor(-135.8565, device='cuda:0', grad_fn=<NegBackward0>) [tensor(-37.0898, device='cuda:0', grad_fn=<NegBackward0>), tensor(-10.3999, device='cuda:0', grad_fn=<NegBackward0>), tensor(-88.3667, device='cuda:0', grad_fn=<AddBackward0>)]\n",
      "4.0326067948738\n",
      "tensor(-135.1941, device='cuda:0', grad_fn=<NegBackward0>) [tensor(-37.0196, device='cuda:0', grad_fn=<NegBackward0>), tensor(-9.9301, device='cuda:0', grad_fn=<NegBackward0>), tensor(-88.2445, device='cuda:0', grad_fn=<AddBackward0>)]\n",
      "4.075051888949264\n",
      "tensor(-136.0820, device='cuda:0', grad_fn=<NegBackward0>) [tensor(-37.0196, device='cuda:0', grad_fn=<NegBackward0>), tensor(-9.5860, device='cuda:0', grad_fn=<NegBackward0>), tensor(-89.4765, device='cuda:0', grad_fn=<AddBackward0>)]\n",
      "4.220608214156588\n",
      "tensor(-134.3017, device='cuda:0', grad_fn=<NegBackward0>) [tensor(-37.0139, device='cuda:0', grad_fn=<NegBackward0>), tensor(-9.1323, device='cuda:0', grad_fn=<NegBackward0>), tensor(-88.1554, device='cuda:0', grad_fn=<AddBackward0>)]\n",
      "4.517932025879147\n",
      "tensor(-132.8780, device='cuda:0', grad_fn=<NegBackward0>) [tensor(-37.0139, device='cuda:0', grad_fn=<NegBackward0>), tensor(-8.5532, device='cuda:0', grad_fn=<NegBackward0>), tensor(-87.3109, device='cuda:0', grad_fn=<AddBackward0>)]\n",
      "3.9365304210620375\n",
      "tensor(-130.9197, device='cuda:0', grad_fn=<NegBackward0>) [tensor(-37.1059, device='cuda:0', grad_fn=<NegBackward0>), tensor(-8.1100, device='cuda:0', grad_fn=<NegBackward0>), tensor(-85.7037, device='cuda:0', grad_fn=<AddBackward0>)]\n",
      "4.196201773160344\n",
      "tensor(-134.9681, device='cuda:0', grad_fn=<NegBackward0>) [tensor(-37.1059, device='cuda:0', grad_fn=<NegBackward0>), tensor(-9.8552, device='cuda:0', grad_fn=<NegBackward0>), tensor(-88.0070, device='cuda:0', grad_fn=<AddBackward0>)]\n",
      "4.902807340973399\n",
      "tensor(-132.8226, device='cuda:0', grad_fn=<NegBackward0>) [tensor(-37.0535, device='cuda:0', grad_fn=<NegBackward0>), tensor(-8.0332, device='cuda:0', grad_fn=<NegBackward0>), tensor(-87.7359, device='cuda:0', grad_fn=<AddBackward0>)]\n",
      "4.13798155660291\n",
      "tensor(-133.9070, device='cuda:0', grad_fn=<NegBackward0>) [tensor(-37.0535, device='cuda:0', grad_fn=<NegBackward0>), tensor(-9.1889, device='cuda:0', grad_fn=<NegBackward0>), tensor(-87.6645, device='cuda:0', grad_fn=<AddBackward0>)]\n",
      "3.917527519664692\n",
      "tensor(-134.3569, device='cuda:0', grad_fn=<NegBackward0>) [tensor(-37.0926, device='cuda:0', grad_fn=<NegBackward0>), tensor(-9.8007, device='cuda:0', grad_fn=<NegBackward0>), tensor(-87.4636, device='cuda:0', grad_fn=<AddBackward0>)]\n",
      "4.415780850242938\n",
      "tensor(-134.3370, device='cuda:0', grad_fn=<NegBackward0>) [tensor(-37.0926, device='cuda:0', grad_fn=<NegBackward0>), tensor(-8.6847, device='cuda:0', grad_fn=<NegBackward0>), tensor(-88.5597, device='cuda:0', grad_fn=<AddBackward0>)]\n",
      "4.33780135190533\n",
      "tensor(-131.1530, device='cuda:0', grad_fn=<NegBackward0>) [tensor(-37.1765, device='cuda:0', grad_fn=<NegBackward0>), tensor(-7.2981, device='cuda:0', grad_fn=<NegBackward0>), tensor(-86.6784, device='cuda:0', grad_fn=<AddBackward0>)]\n",
      "4.0055713789984475\n",
      "tensor(-138.5336, device='cuda:0', grad_fn=<NegBackward0>) [tensor(-37.1765, device='cuda:0', grad_fn=<NegBackward0>), tensor(-10.5862, device='cuda:0', grad_fn=<NegBackward0>), tensor(-90.7709, device='cuda:0', grad_fn=<AddBackward0>)]\n",
      "3.8867897744377338\n",
      "tensor(-135.2992, device='cuda:0', grad_fn=<NegBackward0>) [tensor(-37.1271, device='cuda:0', grad_fn=<NegBackward0>), tensor(-10.7042, device='cuda:0', grad_fn=<NegBackward0>), tensor(-87.4679, device='cuda:0', grad_fn=<AddBackward0>)]\n",
      "4.621678442842219\n",
      "tensor(-132.9669, device='cuda:0', grad_fn=<NegBackward0>) [tensor(-37.1271, device='cuda:0', grad_fn=<NegBackward0>), tensor(-8.3836, device='cuda:0', grad_fn=<NegBackward0>), tensor(-87.4561, device='cuda:0', grad_fn=<AddBackward0>)]\n",
      "4.536182388289917\n",
      "tensor(-133.5386, device='cuda:0', grad_fn=<NegBackward0>) [tensor(-37.1779, device='cuda:0', grad_fn=<NegBackward0>), tensor(-8.2669, device='cuda:0', grad_fn=<NegBackward0>), tensor(-88.0938, device='cuda:0', grad_fn=<AddBackward0>)]\n",
      "4.801225935533183\n",
      "tensor(-133.2766, device='cuda:0', grad_fn=<NegBackward0>) [tensor(-37.1779, device='cuda:0', grad_fn=<NegBackward0>), tensor(-8.1483, device='cuda:0', grad_fn=<NegBackward0>), tensor(-87.9503, device='cuda:0', grad_fn=<AddBackward0>)]\n",
      "3.767935829610376\n",
      "tensor(-131.5879, device='cuda:0', grad_fn=<NegBackward0>) [tensor(-37.2241, device='cuda:0', grad_fn=<NegBackward0>), tensor(-8.6494, device='cuda:0', grad_fn=<NegBackward0>), tensor(-85.7144, device='cuda:0', grad_fn=<AddBackward0>)]\n",
      "4.280719686509615\n",
      "tensor(-134.7980, device='cuda:0', grad_fn=<NegBackward0>) [tensor(-37.2241, device='cuda:0', grad_fn=<NegBackward0>), tensor(-9.0933, device='cuda:0', grad_fn=<NegBackward0>), tensor(-88.4806, device='cuda:0', grad_fn=<AddBackward0>)]\n",
      "3.9915689059474535\n",
      "tensor(-134.2923, device='cuda:0', grad_fn=<NegBackward0>) [tensor(-37.1959, device='cuda:0', grad_fn=<NegBackward0>), tensor(-9.5445, device='cuda:0', grad_fn=<NegBackward0>), tensor(-87.5519, device='cuda:0', grad_fn=<AddBackward0>)]\n",
      "4.181379621388156\n",
      "tensor(-138.9009, device='cuda:0', grad_fn=<NegBackward0>) [tensor(-37.1959, device='cuda:0', grad_fn=<NegBackward0>), tensor(-10.5738, device='cuda:0', grad_fn=<NegBackward0>), tensor(-91.1312, device='cuda:0', grad_fn=<AddBackward0>)]\n",
      "4.447846305184528\n",
      "tensor(-132.9941, device='cuda:0', grad_fn=<NegBackward0>) [tensor(-37.0298, device='cuda:0', grad_fn=<NegBackward0>), tensor(-8.3015, device='cuda:0', grad_fn=<NegBackward0>), tensor(-87.6628, device='cuda:0', grad_fn=<AddBackward0>)]\n",
      "3.8359222389696903\n",
      "tensor(-135.3284, device='cuda:0', grad_fn=<NegBackward0>) [tensor(-37.0298, device='cuda:0', grad_fn=<NegBackward0>), tensor(-11.2784, device='cuda:0', grad_fn=<NegBackward0>), tensor(-87.0201, device='cuda:0', grad_fn=<AddBackward0>)]\n",
      "4.186733960496469\n",
      "tensor(-138.1281, device='cuda:0', grad_fn=<NegBackward0>) [tensor(-36.7725, device='cuda:0', grad_fn=<NegBackward0>), tensor(-11.7158, device='cuda:0', grad_fn=<NegBackward0>), tensor(-89.6398, device='cuda:0', grad_fn=<AddBackward0>)]\n",
      "4.081974639101874\n",
      "tensor(-136.3806, device='cuda:0', grad_fn=<NegBackward0>) [tensor(-36.7725, device='cuda:0', grad_fn=<NegBackward0>), tensor(-10.7358, device='cuda:0', grad_fn=<NegBackward0>), tensor(-88.8723, device='cuda:0', grad_fn=<AddBackward0>)]\n",
      "4.926432628093681\n",
      "tensor(-134.6518, device='cuda:0', grad_fn=<NegBackward0>) [tensor(-36.4897, device='cuda:0', grad_fn=<NegBackward0>), tensor(-8.8760, device='cuda:0', grad_fn=<NegBackward0>), tensor(-89.2861, device='cuda:0', grad_fn=<AddBackward0>)]\n",
      "4.165347582431984\n",
      "tensor(-130.7988, device='cuda:0', grad_fn=<NegBackward0>) [tensor(-36.4897, device='cuda:0', grad_fn=<NegBackward0>), tensor(-8.2388, device='cuda:0', grad_fn=<NegBackward0>), tensor(-86.0702, device='cuda:0', grad_fn=<AddBackward0>)]\n",
      "4.473353391079823\n",
      "tensor(-132.9369, device='cuda:0', grad_fn=<NegBackward0>) [tensor(-36.6745, device='cuda:0', grad_fn=<NegBackward0>), tensor(-8.4545, device='cuda:0', grad_fn=<NegBackward0>), tensor(-87.8079, device='cuda:0', grad_fn=<AddBackward0>)]\n",
      "4.482666578089333\n",
      "tensor(-135.3255, device='cuda:0', grad_fn=<NegBackward0>) [tensor(-36.6745, device='cuda:0', grad_fn=<NegBackward0>), tensor(-9.0731, device='cuda:0', grad_fn=<NegBackward0>), tensor(-89.5779, device='cuda:0', grad_fn=<AddBackward0>)]\n",
      "4.471014233206265\n",
      "tensor(-130.9419, device='cuda:0', grad_fn=<NegBackward0>) [tensor(-36.9514, device='cuda:0', grad_fn=<NegBackward0>), tensor(-7.1839, device='cuda:0', grad_fn=<NegBackward0>), tensor(-86.8066, device='cuda:0', grad_fn=<AddBackward0>)]\n"
     ]
    },
    {
     "name": "stdout",
     "output_type": "stream",
     "text": [
      "4.340462829258947\n",
      "tensor(-132.0111, device='cuda:0', grad_fn=<NegBackward0>) [tensor(-36.9514, device='cuda:0', grad_fn=<NegBackward0>), tensor(-8.2405, device='cuda:0', grad_fn=<NegBackward0>), tensor(-86.8192, device='cuda:0', grad_fn=<AddBackward0>)]\n",
      "3.9203157749300876\n",
      "tensor(-129.8588, device='cuda:0', grad_fn=<NegBackward0>) [tensor(-37.1634, device='cuda:0', grad_fn=<NegBackward0>), tensor(-7.8112, device='cuda:0', grad_fn=<NegBackward0>), tensor(-84.8841, device='cuda:0', grad_fn=<AddBackward0>)]\n",
      "4.405078625064578\n",
      "tensor(-135.6323, device='cuda:0', grad_fn=<NegBackward0>) [tensor(-37.1634, device='cuda:0', grad_fn=<NegBackward0>), tensor(-9.4965, device='cuda:0', grad_fn=<NegBackward0>), tensor(-88.9724, device='cuda:0', grad_fn=<AddBackward0>)]\n",
      "4.455571375816011\n",
      "tensor(-137.1821, device='cuda:0', grad_fn=<NegBackward0>) [tensor(-37.1069, device='cuda:0', grad_fn=<NegBackward0>), tensor(-9.9856, device='cuda:0', grad_fn=<NegBackward0>), tensor(-90.0897, device='cuda:0', grad_fn=<AddBackward0>)]\n",
      "4.549405549508917\n",
      "tensor(-133.9781, device='cuda:0', grad_fn=<NegBackward0>) [tensor(-37.1069, device='cuda:0', grad_fn=<NegBackward0>), tensor(-8.5648, device='cuda:0', grad_fn=<NegBackward0>), tensor(-88.3064, device='cuda:0', grad_fn=<AddBackward0>)]\n",
      "4.365266929595023\n",
      "tensor(-138.6755, device='cuda:0', grad_fn=<NegBackward0>) [tensor(-37.1440, device='cuda:0', grad_fn=<NegBackward0>), tensor(-10.5336, device='cuda:0', grad_fn=<NegBackward0>), tensor(-90.9980, device='cuda:0', grad_fn=<AddBackward0>)]\n",
      "4.667018969140503\n",
      "tensor(-131.4303, device='cuda:0', grad_fn=<NegBackward0>) [tensor(-37.1440, device='cuda:0', grad_fn=<NegBackward0>), tensor(-7.3851, device='cuda:0', grad_fn=<NegBackward0>), tensor(-86.9012, device='cuda:0', grad_fn=<AddBackward0>)]\n",
      "4.359882946567625\n",
      "tensor(-135.1760, device='cuda:0', grad_fn=<NegBackward0>) [tensor(-37.3092, device='cuda:0', grad_fn=<NegBackward0>), tensor(-8.8670, device='cuda:0', grad_fn=<NegBackward0>), tensor(-88.9998, device='cuda:0', grad_fn=<AddBackward0>)]\n",
      "4.159932970618715\n",
      "tensor(-132.2901, device='cuda:0', grad_fn=<NegBackward0>) [tensor(-37.3092, device='cuda:0', grad_fn=<NegBackward0>), tensor(-8.3817, device='cuda:0', grad_fn=<NegBackward0>), tensor(-86.5993, device='cuda:0', grad_fn=<AddBackward0>)]\n",
      "4.351863751371896\n",
      "tensor(-137.1041, device='cuda:0', grad_fn=<NegBackward0>) [tensor(-37.3015, device='cuda:0', grad_fn=<NegBackward0>), tensor(-10.0215, device='cuda:0', grad_fn=<NegBackward0>), tensor(-89.7811, device='cuda:0', grad_fn=<AddBackward0>)]\n",
      "4.659791514807823\n",
      "tensor(-138.2997, device='cuda:0', grad_fn=<NegBackward0>) [tensor(-37.3015, device='cuda:0', grad_fn=<NegBackward0>), tensor(-9.9535, device='cuda:0', grad_fn=<NegBackward0>), tensor(-91.0447, device='cuda:0', grad_fn=<AddBackward0>)]\n",
      "4.896379115714575\n",
      "tensor(-133.6326, device='cuda:0', grad_fn=<NegBackward0>) [tensor(-37.2490, device='cuda:0', grad_fn=<NegBackward0>), tensor(-7.9276, device='cuda:0', grad_fn=<NegBackward0>), tensor(-88.4560, device='cuda:0', grad_fn=<AddBackward0>)]\n",
      "4.14616470752667\n",
      "tensor(-135.8422, device='cuda:0', grad_fn=<NegBackward0>) [tensor(-37.2490, device='cuda:0', grad_fn=<NegBackward0>), tensor(-10.1099, device='cuda:0', grad_fn=<NegBackward0>), tensor(-88.4833, device='cuda:0', grad_fn=<AddBackward0>)]\n",
      "3.9979349240867257\n",
      "tensor(-134.8405, device='cuda:0', grad_fn=<NegBackward0>) [tensor(-37.1550, device='cuda:0', grad_fn=<NegBackward0>), tensor(-9.5287, device='cuda:0', grad_fn=<NegBackward0>), tensor(-88.1567, device='cuda:0', grad_fn=<AddBackward0>)]\n",
      "3.920050531439864\n",
      "tensor(-135.8223, device='cuda:0', grad_fn=<NegBackward0>) [tensor(-37.1550, device='cuda:0', grad_fn=<NegBackward0>), tensor(-9.3492, device='cuda:0', grad_fn=<NegBackward0>), tensor(-89.3180, device='cuda:0', grad_fn=<AddBackward0>)]\n",
      "4.449628929780608\n",
      "tensor(-138.5768, device='cuda:0', grad_fn=<NegBackward0>) [tensor(-37.1587, device='cuda:0', grad_fn=<NegBackward0>), tensor(-9.6847, device='cuda:0', grad_fn=<NegBackward0>), tensor(-91.7334, device='cuda:0', grad_fn=<AddBackward0>)]\n",
      "4.602876189635559\n",
      "tensor(-131.0669, device='cuda:0', grad_fn=<NegBackward0>) [tensor(-37.1587, device='cuda:0', grad_fn=<NegBackward0>), tensor(-6.9389, device='cuda:0', grad_fn=<NegBackward0>), tensor(-86.9693, device='cuda:0', grad_fn=<AddBackward0>)]\n",
      "4.675240614541235\n",
      "tensor(-135.8996, device='cuda:0', grad_fn=<NegBackward0>) [tensor(-37.4142, device='cuda:0', grad_fn=<NegBackward0>), tensor(-8.7714, device='cuda:0', grad_fn=<NegBackward0>), tensor(-89.7140, device='cuda:0', grad_fn=<AddBackward0>)]\n",
      "4.3108645954977876\n",
      "tensor(-133.3794, device='cuda:0', grad_fn=<NegBackward0>) [tensor(-37.4142, device='cuda:0', grad_fn=<NegBackward0>), tensor(-8.3845, device='cuda:0', grad_fn=<NegBackward0>), tensor(-87.5807, device='cuda:0', grad_fn=<AddBackward0>)]\n",
      "4.270337299700801\n",
      "tensor(-131.9110, device='cuda:0', grad_fn=<NegBackward0>) [tensor(-37.3814, device='cuda:0', grad_fn=<NegBackward0>), tensor(-7.7494, device='cuda:0', grad_fn=<NegBackward0>), tensor(-86.7802, device='cuda:0', grad_fn=<AddBackward0>)]\n",
      "4.823299151163384\n",
      "tensor(-134.2802, device='cuda:0', grad_fn=<NegBackward0>) [tensor(-37.3814, device='cuda:0', grad_fn=<NegBackward0>), tensor(-8.4653, device='cuda:0', grad_fn=<NegBackward0>), tensor(-88.4335, device='cuda:0', grad_fn=<AddBackward0>)]\n",
      "4.8264069660337325\n",
      "tensor(-133.3896, device='cuda:0', grad_fn=<NegBackward0>) [tensor(-37.3384, device='cuda:0', grad_fn=<NegBackward0>), tensor(-7.9251, device='cuda:0', grad_fn=<NegBackward0>), tensor(-88.1261, device='cuda:0', grad_fn=<AddBackward0>)]\n",
      "4.55542453064436\n",
      "tensor(-137.0724, device='cuda:0', grad_fn=<NegBackward0>) [tensor(-37.3384, device='cuda:0', grad_fn=<NegBackward0>), tensor(-9.8987, device='cuda:0', grad_fn=<NegBackward0>), tensor(-89.8354, device='cuda:0', grad_fn=<AddBackward0>)]\n",
      "4.687431759215968\n",
      "tensor(-135.6637, device='cuda:0', grad_fn=<NegBackward0>) [tensor(-37.2419, device='cuda:0', grad_fn=<NegBackward0>), tensor(-8.8448, device='cuda:0', grad_fn=<NegBackward0>), tensor(-89.5769, device='cuda:0', grad_fn=<AddBackward0>)]\n",
      "4.3126568691677125\n",
      "tensor(-132.4390, device='cuda:0', grad_fn=<NegBackward0>) [tensor(-37.2419, device='cuda:0', grad_fn=<NegBackward0>), tensor(-7.8057, device='cuda:0', grad_fn=<NegBackward0>), tensor(-87.3913, device='cuda:0', grad_fn=<AddBackward0>)]\n",
      "4.132521155426866\n",
      "tensor(-133.7515, device='cuda:0', grad_fn=<NegBackward0>) [tensor(-37.2953, device='cuda:0', grad_fn=<NegBackward0>), tensor(-8.9826, device='cuda:0', grad_fn=<NegBackward0>), tensor(-87.4735, device='cuda:0', grad_fn=<AddBackward0>)]\n",
      "4.671330561509904\n",
      "tensor(-137.4885, device='cuda:0', grad_fn=<NegBackward0>) [tensor(-37.2953, device='cuda:0', grad_fn=<NegBackward0>), tensor(-9.9129, device='cuda:0', grad_fn=<NegBackward0>), tensor(-90.2803, device='cuda:0', grad_fn=<AddBackward0>)]\n",
      "4.422231198045466\n",
      "tensor(-136.4541, device='cuda:0', grad_fn=<NegBackward0>) [tensor(-37.3415, device='cuda:0', grad_fn=<NegBackward0>), tensor(-9.1461, device='cuda:0', grad_fn=<NegBackward0>), tensor(-89.9665, device='cuda:0', grad_fn=<AddBackward0>)]\n",
      "5.461956650698011\n",
      "tensor(-132.3639, device='cuda:0', grad_fn=<NegBackward0>) [tensor(-37.3415, device='cuda:0', grad_fn=<NegBackward0>), tensor(-7.4733, device='cuda:0', grad_fn=<NegBackward0>), tensor(-87.5490, device='cuda:0', grad_fn=<AddBackward0>)]\n",
      "4.72433047456839\n",
      "tensor(-131.8126, device='cuda:0', grad_fn=<NegBackward0>) [tensor(-37.4637, device='cuda:0', grad_fn=<NegBackward0>), tensor(-7.2754, device='cuda:0', grad_fn=<NegBackward0>), tensor(-87.0735, device='cuda:0', grad_fn=<AddBackward0>)]\n",
      "4.026309152666024\n",
      "tensor(-136.0737, device='cuda:0', grad_fn=<NegBackward0>) [tensor(-37.4637, device='cuda:0', grad_fn=<NegBackward0>), tensor(-9.4861, device='cuda:0', grad_fn=<NegBackward0>), tensor(-89.1239, device='cuda:0', grad_fn=<AddBackward0>)]\n",
      "4.962082437170752\n",
      "tensor(-132.5283, device='cuda:0', grad_fn=<NegBackward0>) [tensor(-37.3420, device='cuda:0', grad_fn=<NegBackward0>), tensor(-7.2588, device='cuda:0', grad_fn=<NegBackward0>), tensor(-87.9276, device='cuda:0', grad_fn=<AddBackward0>)]\n",
      "4.207902506240656\n",
      "tensor(-136.0678, device='cuda:0', grad_fn=<NegBackward0>) [tensor(-37.3420, device='cuda:0', grad_fn=<NegBackward0>), tensor(-9.7461, device='cuda:0', grad_fn=<NegBackward0>), tensor(-88.9797, device='cuda:0', grad_fn=<AddBackward0>)]\n"
     ]
    },
    {
     "name": "stdout",
     "output_type": "stream",
     "text": [
      "99.81907779451852\n",
      "tensor(-125.1889, device='cuda:0', grad_fn=<NegBackward0>) [tensor(-37.3563, device='cuda:0', grad_fn=<NegBackward0>), tensor(-4.1348, device='cuda:0', grad_fn=<NegBackward0>), tensor(-83.6978, device='cuda:0', grad_fn=<AddBackward0>)]\n",
      "4.098106931486136\n",
      "tensor(-133.0918, device='cuda:0', grad_fn=<NegBackward0>) [tensor(-37.3563, device='cuda:0', grad_fn=<NegBackward0>), tensor(-8.8430, device='cuda:0', grad_fn=<NegBackward0>), tensor(-86.8924, device='cuda:0', grad_fn=<AddBackward0>)]\n",
      "4.160395338458081\n",
      "tensor(-133.3891, device='cuda:0', grad_fn=<NegBackward0>) [tensor(-37.2418, device='cuda:0', grad_fn=<NegBackward0>), tensor(-8.2750, device='cuda:0', grad_fn=<NegBackward0>), tensor(-87.8723, device='cuda:0', grad_fn=<AddBackward0>)]\n",
      "3.983229017376054\n",
      "tensor(-133.5714, device='cuda:0', grad_fn=<NegBackward0>) [tensor(-37.2418, device='cuda:0', grad_fn=<NegBackward0>), tensor(-9.1045, device='cuda:0', grad_fn=<NegBackward0>), tensor(-87.2251, device='cuda:0', grad_fn=<AddBackward0>)]\n",
      "3.9960193328288516\n",
      "tensor(-137.3791, device='cuda:0', grad_fn=<NegBackward0>) [tensor(-37.3252, device='cuda:0', grad_fn=<NegBackward0>), tensor(-9.7004, device='cuda:0', grad_fn=<NegBackward0>), tensor(-90.3535, device='cuda:0', grad_fn=<AddBackward0>)]\n",
      "4.208367830007981\n",
      "tensor(-134.5080, device='cuda:0', grad_fn=<NegBackward0>) [tensor(-37.3252, device='cuda:0', grad_fn=<NegBackward0>), tensor(-9.5544, device='cuda:0', grad_fn=<NegBackward0>), tensor(-87.6284, device='cuda:0', grad_fn=<AddBackward0>)]\n",
      "3.9735025753930975\n",
      "tensor(-135.2579, device='cuda:0', grad_fn=<NegBackward0>) [tensor(-37.2448, device='cuda:0', grad_fn=<NegBackward0>), tensor(-10.2309, device='cuda:0', grad_fn=<NegBackward0>), tensor(-87.7822, device='cuda:0', grad_fn=<AddBackward0>)]\n",
      "4.232408607360487\n",
      "tensor(-130.9120, device='cuda:0', grad_fn=<NegBackward0>) [tensor(-37.2448, device='cuda:0', grad_fn=<NegBackward0>), tensor(-7.4931, device='cuda:0', grad_fn=<NegBackward0>), tensor(-86.1741, device='cuda:0', grad_fn=<AddBackward0>)]\n",
      "4.0317855504682\n",
      "tensor(-135.0786, device='cuda:0', grad_fn=<NegBackward0>) [tensor(-37.2747, device='cuda:0', grad_fn=<NegBackward0>), tensor(-9.6994, device='cuda:0', grad_fn=<NegBackward0>), tensor(-88.1045, device='cuda:0', grad_fn=<AddBackward0>)]\n",
      "4.570781106402452\n",
      "tensor(-131.0357, device='cuda:0', grad_fn=<NegBackward0>) [tensor(-37.2747, device='cuda:0', grad_fn=<NegBackward0>), tensor(-7.2886, device='cuda:0', grad_fn=<NegBackward0>), tensor(-86.4724, device='cuda:0', grad_fn=<AddBackward0>)]\n",
      "4.259112202608996\n",
      "tensor(-137.2608, device='cuda:0', grad_fn=<NegBackward0>) [tensor(-37.4249, device='cuda:0', grad_fn=<NegBackward0>), tensor(-10.2522, device='cuda:0', grad_fn=<NegBackward0>), tensor(-89.5837, device='cuda:0', grad_fn=<AddBackward0>)]\n",
      "4.436387116652303\n",
      "tensor(-138.6207, device='cuda:0', grad_fn=<NegBackward0>) [tensor(-37.4249, device='cuda:0', grad_fn=<NegBackward0>), tensor(-10.5174, device='cuda:0', grad_fn=<NegBackward0>), tensor(-90.6784, device='cuda:0', grad_fn=<AddBackward0>)]\n",
      "4.567610130805416\n",
      "tensor(-133.3893, device='cuda:0', grad_fn=<NegBackward0>) [tensor(-37.3399, device='cuda:0', grad_fn=<NegBackward0>), tensor(-8.2960, device='cuda:0', grad_fn=<NegBackward0>), tensor(-87.7535, device='cuda:0', grad_fn=<AddBackward0>)]\n",
      "4.467896952378779\n",
      "tensor(-135.4703, device='cuda:0', grad_fn=<NegBackward0>) [tensor(-37.3399, device='cuda:0', grad_fn=<NegBackward0>), tensor(-8.7743, device='cuda:0', grad_fn=<NegBackward0>), tensor(-89.3561, device='cuda:0', grad_fn=<AddBackward0>)]\n",
      "4.6474921442564785\n",
      "tensor(-138.4642, device='cuda:0', grad_fn=<NegBackward0>) [tensor(-37.3363, device='cuda:0', grad_fn=<NegBackward0>), tensor(-9.9743, device='cuda:0', grad_fn=<NegBackward0>), tensor(-91.1536, device='cuda:0', grad_fn=<AddBackward0>)]\n",
      "4.986003355596597\n",
      "tensor(-133.0865, device='cuda:0', grad_fn=<NegBackward0>) [tensor(-37.3363, device='cuda:0', grad_fn=<NegBackward0>), tensor(-7.6870, device='cuda:0', grad_fn=<NegBackward0>), tensor(-88.0632, device='cuda:0', grad_fn=<AddBackward0>)]\n",
      "4.374800280290106\n",
      "tensor(-138.8851, device='cuda:0', grad_fn=<NegBackward0>) [tensor(-37.4402, device='cuda:0', grad_fn=<NegBackward0>), tensor(-10.3304, device='cuda:0', grad_fn=<NegBackward0>), tensor(-91.1145, device='cuda:0', grad_fn=<AddBackward0>)]\n",
      "5.342767539546801\n",
      "tensor(-133.6115, device='cuda:0', grad_fn=<NegBackward0>) [tensor(-37.4402, device='cuda:0', grad_fn=<NegBackward0>), tensor(-7.6546, device='cuda:0', grad_fn=<NegBackward0>), tensor(-88.5167, device='cuda:0', grad_fn=<AddBackward0>)]\n",
      "4.104358532522004\n",
      "tensor(-134.5110, device='cuda:0', grad_fn=<NegBackward0>) [tensor(-37.5844, device='cuda:0', grad_fn=<NegBackward0>), tensor(-8.6866, device='cuda:0', grad_fn=<NegBackward0>), tensor(-88.2401, device='cuda:0', grad_fn=<AddBackward0>)]\n",
      "4.5856767262025215\n",
      "tensor(-136.2868, device='cuda:0', grad_fn=<NegBackward0>) [tensor(-37.5844, device='cuda:0', grad_fn=<NegBackward0>), tensor(-8.9145, device='cuda:0', grad_fn=<NegBackward0>), tensor(-89.7879, device='cuda:0', grad_fn=<AddBackward0>)]\n",
      "4.068078028829391\n",
      "tensor(-136.3021, device='cuda:0', grad_fn=<NegBackward0>) [tensor(-37.5948, device='cuda:0', grad_fn=<NegBackward0>), tensor(-9.6119, device='cuda:0', grad_fn=<NegBackward0>), tensor(-89.0954, device='cuda:0', grad_fn=<AddBackward0>)]\n",
      "4.0910015208572705\n",
      "tensor(-135.3482, device='cuda:0', grad_fn=<NegBackward0>) [tensor(-37.5948, device='cuda:0', grad_fn=<NegBackward0>), tensor(-9.2919, device='cuda:0', grad_fn=<NegBackward0>), tensor(-88.4615, device='cuda:0', grad_fn=<AddBackward0>)]\n",
      "3.8227143824079546\n",
      "tensor(-132.5688, device='cuda:0', grad_fn=<NegBackward0>) [tensor(-37.4484, device='cuda:0', grad_fn=<NegBackward0>), tensor(-9.1017, device='cuda:0', grad_fn=<NegBackward0>), tensor(-86.0186, device='cuda:0', grad_fn=<AddBackward0>)]\n",
      "4.3403169719404175\n",
      "tensor(-131.8618, device='cuda:0', grad_fn=<NegBackward0>) [tensor(-37.4484, device='cuda:0', grad_fn=<NegBackward0>), tensor(-7.4342, device='cuda:0', grad_fn=<NegBackward0>), tensor(-86.9792, device='cuda:0', grad_fn=<AddBackward0>)]\n",
      "4.26884222399858\n",
      "tensor(-135.1195, device='cuda:0', grad_fn=<NegBackward0>) [tensor(-37.4029, device='cuda:0', grad_fn=<NegBackward0>), tensor(-8.9468, device='cuda:0', grad_fn=<NegBackward0>), tensor(-88.7698, device='cuda:0', grad_fn=<AddBackward0>)]\n",
      "4.519035457877458\n",
      "tensor(-133.7207, device='cuda:0', grad_fn=<NegBackward0>) [tensor(-37.4029, device='cuda:0', grad_fn=<NegBackward0>), tensor(-7.9537, device='cuda:0', grad_fn=<NegBackward0>), tensor(-88.3642, device='cuda:0', grad_fn=<AddBackward0>)]\n",
      "4.180174351767601\n",
      "tensor(-136.2021, device='cuda:0', grad_fn=<NegBackward0>) [tensor(-37.4843, device='cuda:0', grad_fn=<NegBackward0>), tensor(-10.1777, device='cuda:0', grad_fn=<NegBackward0>), tensor(-88.5402, device='cuda:0', grad_fn=<AddBackward0>)]\n",
      "5.7016224181154564\n",
      "tensor(-135.6765, device='cuda:0', grad_fn=<NegBackward0>) [tensor(-37.4843, device='cuda:0', grad_fn=<NegBackward0>), tensor(-7.9797, device='cuda:0', grad_fn=<NegBackward0>), tensor(-90.2125, device='cuda:0', grad_fn=<AddBackward0>)]\n",
      "4.97841602006222\n",
      "tensor(-136.2591, device='cuda:0', grad_fn=<NegBackward0>) [tensor(-37.5019, device='cuda:0', grad_fn=<NegBackward0>), tensor(-8.7853, device='cuda:0', grad_fn=<NegBackward0>), tensor(-89.9719, device='cuda:0', grad_fn=<AddBackward0>)]\n",
      "4.130734004531319\n",
      "tensor(-135.2614, device='cuda:0', grad_fn=<NegBackward0>) [tensor(-37.5019, device='cuda:0', grad_fn=<NegBackward0>), tensor(-8.8156, device='cuda:0', grad_fn=<NegBackward0>), tensor(-88.9439, device='cuda:0', grad_fn=<AddBackward0>)]\n",
      "4.307812134950591\n",
      "tensor(-135.9337, device='cuda:0', grad_fn=<NegBackward0>) [tensor(-37.5574, device='cuda:0', grad_fn=<NegBackward0>), tensor(-9.6263, device='cuda:0', grad_fn=<NegBackward0>), tensor(-88.7500, device='cuda:0', grad_fn=<AddBackward0>)]\n",
      "4.532111198451384\n",
      "tensor(-137.2291, device='cuda:0', grad_fn=<NegBackward0>) [tensor(-37.5574, device='cuda:0', grad_fn=<NegBackward0>), tensor(-9.5258, device='cuda:0', grad_fn=<NegBackward0>), tensor(-90.1458, device='cuda:0', grad_fn=<AddBackward0>)]\n",
      "3.984562248612324\n",
      "tensor(-136.9296, device='cuda:0', grad_fn=<NegBackward0>) [tensor(-37.4795, device='cuda:0', grad_fn=<NegBackward0>), tensor(-10.4200, device='cuda:0', grad_fn=<NegBackward0>), tensor(-89.0301, device='cuda:0', grad_fn=<AddBackward0>)]\n"
     ]
    },
    {
     "name": "stdout",
     "output_type": "stream",
     "text": [
      "3.8854537512056835\n",
      "tensor(-134.4160, device='cuda:0', grad_fn=<NegBackward0>) [tensor(-37.4795, device='cuda:0', grad_fn=<NegBackward0>), tensor(-9.0674, device='cuda:0', grad_fn=<NegBackward0>), tensor(-87.8691, device='cuda:0', grad_fn=<AddBackward0>)]\n",
      "4.8704698418439705\n",
      "tensor(-138.4700, device='cuda:0', grad_fn=<NegBackward0>) [tensor(-37.4353, device='cuda:0', grad_fn=<NegBackward0>), tensor(-9.2741, device='cuda:0', grad_fn=<NegBackward0>), tensor(-91.7605, device='cuda:0', grad_fn=<AddBackward0>)]\n",
      "3.9688238877178548\n",
      "tensor(-133.5753, device='cuda:0', grad_fn=<NegBackward0>) [tensor(-37.4353, device='cuda:0', grad_fn=<NegBackward0>), tensor(-8.5669, device='cuda:0', grad_fn=<NegBackward0>), tensor(-87.5730, device='cuda:0', grad_fn=<AddBackward0>)]\n",
      "4.306407119282203\n",
      "tensor(-132.6711, device='cuda:0', grad_fn=<NegBackward0>) [tensor(-37.3365, device='cuda:0', grad_fn=<NegBackward0>), tensor(-7.8141, device='cuda:0', grad_fn=<NegBackward0>), tensor(-87.5205, device='cuda:0', grad_fn=<AddBackward0>)]\n",
      "4.224085344017043\n",
      "tensor(-134.7110, device='cuda:0', grad_fn=<NegBackward0>) [tensor(-37.3365, device='cuda:0', grad_fn=<NegBackward0>), tensor(-9.3514, device='cuda:0', grad_fn=<NegBackward0>), tensor(-88.0231, device='cuda:0', grad_fn=<AddBackward0>)]\n",
      "4.667143377165206\n",
      "tensor(-133.7860, device='cuda:0', grad_fn=<NegBackward0>) [tensor(-37.2736, device='cuda:0', grad_fn=<NegBackward0>), tensor(-8.4057, device='cuda:0', grad_fn=<NegBackward0>), tensor(-88.1068, device='cuda:0', grad_fn=<AddBackward0>)]\n",
      "4.322883953171015\n",
      "tensor(-135.2368, device='cuda:0', grad_fn=<NegBackward0>) [tensor(-37.2736, device='cuda:0', grad_fn=<NegBackward0>), tensor(-9.7317, device='cuda:0', grad_fn=<NegBackward0>), tensor(-88.2315, device='cuda:0', grad_fn=<AddBackward0>)]\n",
      "4.893734318443203\n",
      "tensor(-137.0747, device='cuda:0', grad_fn=<NegBackward0>) [tensor(-37.2487, device='cuda:0', grad_fn=<NegBackward0>), tensor(-9.3904, device='cuda:0', grad_fn=<NegBackward0>), tensor(-90.4356, device='cuda:0', grad_fn=<AddBackward0>)]\n",
      "4.300398100146236\n",
      "tensor(-135.9387, device='cuda:0', grad_fn=<NegBackward0>) [tensor(-37.2487, device='cuda:0', grad_fn=<NegBackward0>), tensor(-9.3594, device='cuda:0', grad_fn=<NegBackward0>), tensor(-89.3305, device='cuda:0', grad_fn=<AddBackward0>)]\n",
      "4.871666766239129\n",
      "tensor(-129.2442, device='cuda:0', grad_fn=<NegBackward0>) [tensor(-37.3593, device='cuda:0', grad_fn=<NegBackward0>), tensor(-6.0874, device='cuda:0', grad_fn=<NegBackward0>), tensor(-85.7975, device='cuda:0', grad_fn=<AddBackward0>)]\n",
      "4.081202752830692\n",
      "tensor(-134.2578, device='cuda:0', grad_fn=<NegBackward0>) [tensor(-37.3593, device='cuda:0', grad_fn=<NegBackward0>), tensor(-9.0851, device='cuda:0', grad_fn=<NegBackward0>), tensor(-87.8134, device='cuda:0', grad_fn=<AddBackward0>)]\n",
      "4.402781466771193\n",
      "tensor(-136.6278, device='cuda:0', grad_fn=<NegBackward0>) [tensor(-37.3598, device='cuda:0', grad_fn=<NegBackward0>), tensor(-9.2792, device='cuda:0', grad_fn=<NegBackward0>), tensor(-89.9887, device='cuda:0', grad_fn=<AddBackward0>)]\n",
      "3.7444327559099495\n",
      "tensor(-133.9694, device='cuda:0', grad_fn=<NegBackward0>) [tensor(-37.3598, device='cuda:0', grad_fn=<NegBackward0>), tensor(-9.9296, device='cuda:0', grad_fn=<NegBackward0>), tensor(-86.6800, device='cuda:0', grad_fn=<AddBackward0>)]\n",
      "4.779930521035339\n",
      "tensor(-136.7550, device='cuda:0', grad_fn=<NegBackward0>) [tensor(-37.2492, device='cuda:0', grad_fn=<NegBackward0>), tensor(-9.6965, device='cuda:0', grad_fn=<NegBackward0>), tensor(-89.8094, device='cuda:0', grad_fn=<AddBackward0>)]\n",
      "4.396179714728736\n",
      "tensor(-136.5831, device='cuda:0', grad_fn=<NegBackward0>) [tensor(-37.2492, device='cuda:0', grad_fn=<NegBackward0>), tensor(-9.4803, device='cuda:0', grad_fn=<NegBackward0>), tensor(-89.8536, device='cuda:0', grad_fn=<AddBackward0>)]\n",
      "4.106704893733502\n",
      "tensor(-136.1630, device='cuda:0', grad_fn=<NegBackward0>) [tensor(-37.3032, device='cuda:0', grad_fn=<NegBackward0>), tensor(-9.4403, device='cuda:0', grad_fn=<NegBackward0>), tensor(-89.4196, device='cuda:0', grad_fn=<AddBackward0>)]\n",
      "4.101327134767979\n",
      "tensor(-129.9728, device='cuda:0', grad_fn=<NegBackward0>) [tensor(-37.3032, device='cuda:0', grad_fn=<NegBackward0>), tensor(-7.1468, device='cuda:0', grad_fn=<NegBackward0>), tensor(-85.5228, device='cuda:0', grad_fn=<AddBackward0>)]\n",
      "4.183974364966821\n",
      "tensor(-135.4738, device='cuda:0', grad_fn=<NegBackward0>) [tensor(-37.4197, device='cuda:0', grad_fn=<NegBackward0>), tensor(-9.5346, device='cuda:0', grad_fn=<NegBackward0>), tensor(-88.5195, device='cuda:0', grad_fn=<AddBackward0>)]\n",
      "4.341859495833572\n",
      "tensor(-134.7774, device='cuda:0', grad_fn=<NegBackward0>) [tensor(-37.4197, device='cuda:0', grad_fn=<NegBackward0>), tensor(-9.1862, device='cuda:0', grad_fn=<NegBackward0>), tensor(-88.1716, device='cuda:0', grad_fn=<AddBackward0>)]\n",
      "4.599677438731238\n",
      "tensor(-136.8964, device='cuda:0', grad_fn=<NegBackward0>) [tensor(-37.4169, device='cuda:0', grad_fn=<NegBackward0>), tensor(-9.2331, device='cuda:0', grad_fn=<NegBackward0>), tensor(-90.2464, device='cuda:0', grad_fn=<AddBackward0>)]\n",
      "3.77117496379844\n",
      "tensor(-134.5537, device='cuda:0', grad_fn=<NegBackward0>) [tensor(-37.4169, device='cuda:0', grad_fn=<NegBackward0>), tensor(-10.2266, device='cuda:0', grad_fn=<NegBackward0>), tensor(-86.9102, device='cuda:0', grad_fn=<AddBackward0>)]\n",
      "4.4717996015222266\n",
      "tensor(-131.4490, device='cuda:0', grad_fn=<NegBackward0>) [tensor(-37.3090, device='cuda:0', grad_fn=<NegBackward0>), tensor(-7.7146, device='cuda:0', grad_fn=<NegBackward0>), tensor(-86.4253, device='cuda:0', grad_fn=<AddBackward0>)]\n",
      "4.278358207532536\n",
      "tensor(-136.8447, device='cuda:0', grad_fn=<NegBackward0>) [tensor(-37.3090, device='cuda:0', grad_fn=<NegBackward0>), tensor(-9.8073, device='cuda:0', grad_fn=<NegBackward0>), tensor(-89.7283, device='cuda:0', grad_fn=<AddBackward0>)]\n",
      "4.351997350679891\n",
      "tensor(-138.1722, device='cuda:0', grad_fn=<NegBackward0>) [tensor(-37.3093, device='cuda:0', grad_fn=<NegBackward0>), tensor(-10.0544, device='cuda:0', grad_fn=<NegBackward0>), tensor(-90.8085, device='cuda:0', grad_fn=<AddBackward0>)]\n",
      "4.310040658593773\n",
      "tensor(-135.8485, device='cuda:0', grad_fn=<NegBackward0>) [tensor(-37.3093, device='cuda:0', grad_fn=<NegBackward0>), tensor(-9.4234, device='cuda:0', grad_fn=<NegBackward0>), tensor(-89.1158, device='cuda:0', grad_fn=<AddBackward0>)]\n",
      "4.532508213996136\n",
      "tensor(-135.8537, device='cuda:0', grad_fn=<NegBackward0>) [tensor(-37.2598, device='cuda:0', grad_fn=<NegBackward0>), tensor(-9.3507, device='cuda:0', grad_fn=<NegBackward0>), tensor(-89.2432, device='cuda:0', grad_fn=<AddBackward0>)]\n",
      "4.216490353272762\n",
      "tensor(-137.8646, device='cuda:0', grad_fn=<NegBackward0>) [tensor(-37.2598, device='cuda:0', grad_fn=<NegBackward0>), tensor(-10.2844, device='cuda:0', grad_fn=<NegBackward0>), tensor(-90.3204, device='cuda:0', grad_fn=<AddBackward0>)]\n",
      "4.766101353394912\n",
      "tensor(-134.1744, device='cuda:0', grad_fn=<NegBackward0>) [tensor(-37.1502, device='cuda:0', grad_fn=<NegBackward0>), tensor(-8.4655, device='cuda:0', grad_fn=<NegBackward0>), tensor(-88.5587, device='cuda:0', grad_fn=<AddBackward0>)]\n",
      "4.471814121960442\n",
      "tensor(-133.7846, device='cuda:0', grad_fn=<NegBackward0>) [tensor(-37.1502, device='cuda:0', grad_fn=<NegBackward0>), tensor(-8.4139, device='cuda:0', grad_fn=<NegBackward0>), tensor(-88.2205, device='cuda:0', grad_fn=<AddBackward0>)]\n",
      "4.082604826724113\n",
      "tensor(-135.7594, device='cuda:0', grad_fn=<NegBackward0>) [tensor(-37.2961, device='cuda:0', grad_fn=<NegBackward0>), tensor(-9.7708, device='cuda:0', grad_fn=<NegBackward0>), tensor(-88.6925, device='cuda:0', grad_fn=<AddBackward0>)]\n",
      "4.369878098273652\n",
      "tensor(-133.9929, device='cuda:0', grad_fn=<NegBackward0>) [tensor(-37.2961, device='cuda:0', grad_fn=<NegBackward0>), tensor(-8.8080, device='cuda:0', grad_fn=<NegBackward0>), tensor(-87.8888, device='cuda:0', grad_fn=<AddBackward0>)]\n",
      "4.308483799116555\n",
      "tensor(-141.5367, device='cuda:0', grad_fn=<NegBackward0>) [tensor(-37.3527, device='cuda:0', grad_fn=<NegBackward0>), tensor(-11.6399, device='cuda:0', grad_fn=<NegBackward0>), tensor(-92.5442, device='cuda:0', grad_fn=<AddBackward0>)]\n",
      "4.459445099593621\n",
      "tensor(-134.5013, device='cuda:0', grad_fn=<NegBackward0>) [tensor(-37.3527, device='cuda:0', grad_fn=<NegBackward0>), tensor(-8.6535, device='cuda:0', grad_fn=<NegBackward0>), tensor(-88.4951, device='cuda:0', grad_fn=<AddBackward0>)]\n"
     ]
    },
    {
     "name": "stdout",
     "output_type": "stream",
     "text": [
      "3.9827204053825707\n",
      "tensor(-134.4643, device='cuda:0', grad_fn=<NegBackward0>) [tensor(-37.4367, device='cuda:0', grad_fn=<NegBackward0>), tensor(-9.0487, device='cuda:0', grad_fn=<NegBackward0>), tensor(-87.9788, device='cuda:0', grad_fn=<AddBackward0>)]\n",
      "4.518860401786851\n",
      "tensor(-133.5458, device='cuda:0', grad_fn=<NegBackward0>) [tensor(-37.4367, device='cuda:0', grad_fn=<NegBackward0>), tensor(-7.6275, device='cuda:0', grad_fn=<NegBackward0>), tensor(-88.4816, device='cuda:0', grad_fn=<AddBackward0>)]\n",
      "4.612928596801527\n",
      "tensor(-135.1183, device='cuda:0', grad_fn=<NegBackward0>) [tensor(-37.5161, device='cuda:0', grad_fn=<NegBackward0>), tensor(-8.6610, device='cuda:0', grad_fn=<NegBackward0>), tensor(-88.9412, device='cuda:0', grad_fn=<AddBackward0>)]\n",
      "4.801622679773423\n",
      "tensor(-137.4735, device='cuda:0', grad_fn=<NegBackward0>) [tensor(-37.5161, device='cuda:0', grad_fn=<NegBackward0>), tensor(-9.3442, device='cuda:0', grad_fn=<NegBackward0>), tensor(-90.6132, device='cuda:0', grad_fn=<AddBackward0>)]\n",
      "4.557345952810175\n",
      "tensor(-134.4268, device='cuda:0', grad_fn=<NegBackward0>) [tensor(-37.5383, device='cuda:0', grad_fn=<NegBackward0>), tensor(-8.1453, device='cuda:0', grad_fn=<NegBackward0>), tensor(-88.7432, device='cuda:0', grad_fn=<AddBackward0>)]\n",
      "4.682163225217391\n",
      "tensor(-134.4925, device='cuda:0', grad_fn=<NegBackward0>) [tensor(-37.5383, device='cuda:0', grad_fn=<NegBackward0>), tensor(-8.1331, device='cuda:0', grad_fn=<NegBackward0>), tensor(-88.8210, device='cuda:0', grad_fn=<AddBackward0>)]\n",
      "4.094483862893192\n",
      "tensor(-133.1769, device='cuda:0', grad_fn=<NegBackward0>) [tensor(-37.5498, device='cuda:0', grad_fn=<NegBackward0>), tensor(-8.4089, device='cuda:0', grad_fn=<NegBackward0>), tensor(-87.2182, device='cuda:0', grad_fn=<AddBackward0>)]\n",
      "4.62231481552232\n",
      "tensor(-136.8894, device='cuda:0', grad_fn=<NegBackward0>) [tensor(-37.5498, device='cuda:0', grad_fn=<NegBackward0>), tensor(-9.5206, device='cuda:0', grad_fn=<NegBackward0>), tensor(-89.8190, device='cuda:0', grad_fn=<AddBackward0>)]\n",
      "4.412292770193954\n",
      "tensor(-135.3013, device='cuda:0', grad_fn=<NegBackward0>) [tensor(-37.4716, device='cuda:0', grad_fn=<NegBackward0>), tensor(-8.9301, device='cuda:0', grad_fn=<NegBackward0>), tensor(-88.8995, device='cuda:0', grad_fn=<AddBackward0>)]\n",
      "4.39558163588096\n",
      "tensor(-138.4599, device='cuda:0', grad_fn=<NegBackward0>) [tensor(-37.4716, device='cuda:0', grad_fn=<NegBackward0>), tensor(-9.8895, device='cuda:0', grad_fn=<NegBackward0>), tensor(-91.0988, device='cuda:0', grad_fn=<AddBackward0>)]\n",
      "4.342471259580462\n",
      "tensor(-134.6490, device='cuda:0', grad_fn=<NegBackward0>) [tensor(-37.4760, device='cuda:0', grad_fn=<NegBackward0>), tensor(-8.8899, device='cuda:0', grad_fn=<NegBackward0>), tensor(-88.2832, device='cuda:0', grad_fn=<AddBackward0>)]\n",
      "4.0666045380583284\n",
      "tensor(-137.5331, device='cuda:0', grad_fn=<NegBackward0>) [tensor(-37.4760, device='cuda:0', grad_fn=<NegBackward0>), tensor(-9.8501, device='cuda:0', grad_fn=<NegBackward0>), tensor(-90.2070, device='cuda:0', grad_fn=<AddBackward0>)]\n",
      "4.395952402629136\n",
      "tensor(-137.7457, device='cuda:0', grad_fn=<NegBackward0>) [tensor(-37.4827, device='cuda:0', grad_fn=<NegBackward0>), tensor(-9.8250, device='cuda:0', grad_fn=<NegBackward0>), tensor(-90.4380, device='cuda:0', grad_fn=<AddBackward0>)]\n",
      "4.0197597803601335\n",
      "tensor(-130.8957, device='cuda:0', grad_fn=<NegBackward0>) [tensor(-37.4827, device='cuda:0', grad_fn=<NegBackward0>), tensor(-7.5729, device='cuda:0', grad_fn=<NegBackward0>), tensor(-85.8401, device='cuda:0', grad_fn=<AddBackward0>)]\n",
      "4.410960370950558\n",
      "tensor(-134.2229, device='cuda:0', grad_fn=<NegBackward0>) [tensor(-37.5291, device='cuda:0', grad_fn=<NegBackward0>), tensor(-8.8974, device='cuda:0', grad_fn=<NegBackward0>), tensor(-87.7964, device='cuda:0', grad_fn=<AddBackward0>)]\n",
      "4.686807485425792\n",
      "tensor(-135.5279, device='cuda:0', grad_fn=<NegBackward0>) [tensor(-37.5291, device='cuda:0', grad_fn=<NegBackward0>), tensor(-8.8612, device='cuda:0', grad_fn=<NegBackward0>), tensor(-89.1377, device='cuda:0', grad_fn=<AddBackward0>)]\n",
      "4.10473069891862\n",
      "tensor(-135.4883, device='cuda:0', grad_fn=<NegBackward0>) [tensor(-37.5537, device='cuda:0', grad_fn=<NegBackward0>), tensor(-9.6017, device='cuda:0', grad_fn=<NegBackward0>), tensor(-88.3329, device='cuda:0', grad_fn=<AddBackward0>)]\n",
      "4.352432616696251\n",
      "tensor(-134.4592, device='cuda:0', grad_fn=<NegBackward0>) [tensor(-37.5537, device='cuda:0', grad_fn=<NegBackward0>), tensor(-8.2407, device='cuda:0', grad_fn=<NegBackward0>), tensor(-88.6648, device='cuda:0', grad_fn=<AddBackward0>)]\n",
      "4.064582710799919\n",
      "tensor(-137.3900, device='cuda:0', grad_fn=<NegBackward0>) [tensor(-37.5560, device='cuda:0', grad_fn=<NegBackward0>), tensor(-10.5380, device='cuda:0', grad_fn=<NegBackward0>), tensor(-89.2960, device='cuda:0', grad_fn=<AddBackward0>)]\n",
      "3.9754460927966275\n",
      "tensor(-136.1246, device='cuda:0', grad_fn=<NegBackward0>) [tensor(-37.5560, device='cuda:0', grad_fn=<NegBackward0>), tensor(-10.9426, device='cuda:0', grad_fn=<NegBackward0>), tensor(-87.6260, device='cuda:0', grad_fn=<AddBackward0>)]\n",
      "4.1689562974833985\n",
      "tensor(-130.1440, device='cuda:0', grad_fn=<NegBackward0>) [tensor(-37.3515, device='cuda:0', grad_fn=<NegBackward0>), tensor(-8.0171, device='cuda:0', grad_fn=<NegBackward0>), tensor(-84.7754, device='cuda:0', grad_fn=<AddBackward0>)]\n",
      "5.066477108058142\n",
      "tensor(-129.1540, device='cuda:0', grad_fn=<NegBackward0>) [tensor(-37.3515, device='cuda:0', grad_fn=<NegBackward0>), tensor(-6.2348, device='cuda:0', grad_fn=<NegBackward0>), tensor(-85.5676, device='cuda:0', grad_fn=<AddBackward0>)]\n",
      "4.35519553132052\n",
      "tensor(-134.6584, device='cuda:0', grad_fn=<NegBackward0>) [tensor(-37.5099, device='cuda:0', grad_fn=<NegBackward0>), tensor(-8.4989, device='cuda:0', grad_fn=<NegBackward0>), tensor(-88.6496, device='cuda:0', grad_fn=<AddBackward0>)]\n",
      "4.3321569638943656\n",
      "tensor(-133.2160, device='cuda:0', grad_fn=<NegBackward0>) [tensor(-37.5099, device='cuda:0', grad_fn=<NegBackward0>), tensor(-8.4547, device='cuda:0', grad_fn=<NegBackward0>), tensor(-87.2514, device='cuda:0', grad_fn=<AddBackward0>)]\n",
      "4.465964932892201\n",
      "tensor(-137.9396, device='cuda:0', grad_fn=<NegBackward0>) [tensor(-37.5961, device='cuda:0', grad_fn=<NegBackward0>), tensor(-10.3747, device='cuda:0', grad_fn=<NegBackward0>), tensor(-89.9688, device='cuda:0', grad_fn=<AddBackward0>)]\n",
      "4.302554404359102\n",
      "tensor(-136.2143, device='cuda:0', grad_fn=<NegBackward0>) [tensor(-37.5961, device='cuda:0', grad_fn=<NegBackward0>), tensor(-9.0954, device='cuda:0', grad_fn=<NegBackward0>), tensor(-89.5228, device='cuda:0', grad_fn=<AddBackward0>)]\n",
      "4.571744897017436\n",
      "tensor(-131.8564, device='cuda:0', grad_fn=<NegBackward0>) [tensor(-37.5874, device='cuda:0', grad_fn=<NegBackward0>), tensor(-7.6041, device='cuda:0', grad_fn=<NegBackward0>), tensor(-86.6649, device='cuda:0', grad_fn=<AddBackward0>)]\n",
      "4.529532508450313\n",
      "tensor(-134.6045, device='cuda:0', grad_fn=<NegBackward0>) [tensor(-37.5874, device='cuda:0', grad_fn=<NegBackward0>), tensor(-8.2577, device='cuda:0', grad_fn=<NegBackward0>), tensor(-88.7594, device='cuda:0', grad_fn=<AddBackward0>)]\n",
      "4.104276080957804\n",
      "tensor(-134.7137, device='cuda:0', grad_fn=<NegBackward0>) [tensor(-37.6229, device='cuda:0', grad_fn=<NegBackward0>), tensor(-8.9562, device='cuda:0', grad_fn=<NegBackward0>), tensor(-88.1345, device='cuda:0', grad_fn=<AddBackward0>)]\n",
      "3.867819775918202\n",
      "tensor(-133.9077, device='cuda:0', grad_fn=<NegBackward0>) [tensor(-37.6229, device='cuda:0', grad_fn=<NegBackward0>), tensor(-9.4499, device='cuda:0', grad_fn=<NegBackward0>), tensor(-86.8349, device='cuda:0', grad_fn=<AddBackward0>)]\n",
      "4.374397284959026\n",
      "tensor(-134.8468, device='cuda:0', grad_fn=<NegBackward0>) [tensor(-37.4720, device='cuda:0', grad_fn=<NegBackward0>), tensor(-8.4650, device='cuda:0', grad_fn=<NegBackward0>), tensor(-88.9097, device='cuda:0', grad_fn=<AddBackward0>)]\n",
      "4.499654700819888\n",
      "tensor(-133.1970, device='cuda:0', grad_fn=<NegBackward0>) [tensor(-37.4720, device='cuda:0', grad_fn=<NegBackward0>), tensor(-7.4981, device='cuda:0', grad_fn=<NegBackward0>), tensor(-88.2268, device='cuda:0', grad_fn=<AddBackward0>)]\n",
      "4.543992132358266\n",
      "tensor(-131.9143, device='cuda:0', grad_fn=<NegBackward0>) [tensor(-37.5961, device='cuda:0', grad_fn=<NegBackward0>), tensor(-7.5317, device='cuda:0', grad_fn=<NegBackward0>), tensor(-86.7866, device='cuda:0', grad_fn=<AddBackward0>)]\n"
     ]
    },
    {
     "name": "stdout",
     "output_type": "stream",
     "text": [
      "4.196744355720325\n",
      "tensor(-132.8383, device='cuda:0', grad_fn=<NegBackward0>) [tensor(-37.5961, device='cuda:0', grad_fn=<NegBackward0>), tensor(-8.9821, device='cuda:0', grad_fn=<NegBackward0>), tensor(-86.2601, device='cuda:0', grad_fn=<AddBackward0>)]\n",
      "4.1961647999314895\n",
      "tensor(-136.2555, device='cuda:0', grad_fn=<NegBackward0>) [tensor(-37.5082, device='cuda:0', grad_fn=<NegBackward0>), tensor(-10.1587, device='cuda:0', grad_fn=<NegBackward0>), tensor(-88.5885, device='cuda:0', grad_fn=<AddBackward0>)]\n",
      "4.7722678462781625\n",
      "tensor(-135.9278, device='cuda:0', grad_fn=<NegBackward0>) [tensor(-37.5082, device='cuda:0', grad_fn=<NegBackward0>), tensor(-8.6972, device='cuda:0', grad_fn=<NegBackward0>), tensor(-89.7223, device='cuda:0', grad_fn=<AddBackward0>)]\n",
      "4.616612794044217\n",
      "tensor(-132.7450, device='cuda:0', grad_fn=<NegBackward0>) [tensor(-37.5881, device='cuda:0', grad_fn=<NegBackward0>), tensor(-7.7286, device='cuda:0', grad_fn=<NegBackward0>), tensor(-87.4283, device='cuda:0', grad_fn=<AddBackward0>)]\n",
      "4.261579434004439\n",
      "tensor(-135.1758, device='cuda:0', grad_fn=<NegBackward0>) [tensor(-37.5881, device='cuda:0', grad_fn=<NegBackward0>), tensor(-8.8140, device='cuda:0', grad_fn=<NegBackward0>), tensor(-88.7737, device='cuda:0', grad_fn=<AddBackward0>)]\n",
      "4.2100273660173375\n",
      "tensor(-133.9789, device='cuda:0', grad_fn=<NegBackward0>) [tensor(-37.5330, device='cuda:0', grad_fn=<NegBackward0>), tensor(-8.2084, device='cuda:0', grad_fn=<NegBackward0>), tensor(-88.2374, device='cuda:0', grad_fn=<AddBackward0>)]\n",
      "4.3769561881414605\n",
      "tensor(-138.3898, device='cuda:0', grad_fn=<NegBackward0>) [tensor(-37.5330, device='cuda:0', grad_fn=<NegBackward0>), tensor(-9.7217, device='cuda:0', grad_fn=<NegBackward0>), tensor(-91.1351, device='cuda:0', grad_fn=<AddBackward0>)]\n",
      "3.9014181148663534\n",
      "tensor(-138.3352, device='cuda:0', grad_fn=<NegBackward0>) [tensor(-37.5679, device='cuda:0', grad_fn=<NegBackward0>), tensor(-11.3116, device='cuda:0', grad_fn=<NegBackward0>), tensor(-89.4557, device='cuda:0', grad_fn=<AddBackward0>)]\n",
      "3.8127123480852854\n",
      "tensor(-131.1025, device='cuda:0', grad_fn=<NegBackward0>) [tensor(-37.5679, device='cuda:0', grad_fn=<NegBackward0>), tensor(-8.5992, device='cuda:0', grad_fn=<NegBackward0>), tensor(-84.9355, device='cuda:0', grad_fn=<AddBackward0>)]\n",
      "4.914413065093143\n",
      "tensor(-135.8839, device='cuda:0', grad_fn=<NegBackward0>) [tensor(-37.3924, device='cuda:0', grad_fn=<NegBackward0>), tensor(-8.9616, device='cuda:0', grad_fn=<NegBackward0>), tensor(-89.5299, device='cuda:0', grad_fn=<AddBackward0>)]\n",
      "4.260812984207633\n",
      "tensor(-135.5287, device='cuda:0', grad_fn=<NegBackward0>) [tensor(-37.3924, device='cuda:0', grad_fn=<NegBackward0>), tensor(-9.4307, device='cuda:0', grad_fn=<NegBackward0>), tensor(-88.7056, device='cuda:0', grad_fn=<AddBackward0>)]\n",
      "3.7026194143789484\n",
      "tensor(-135.4824, device='cuda:0', grad_fn=<NegBackward0>) [tensor(-37.4530, device='cuda:0', grad_fn=<NegBackward0>), tensor(-10.1608, device='cuda:0', grad_fn=<NegBackward0>), tensor(-87.8686, device='cuda:0', grad_fn=<AddBackward0>)]\n",
      "4.210990258898787\n",
      "tensor(-138.6021, device='cuda:0', grad_fn=<NegBackward0>) [tensor(-37.4530, device='cuda:0', grad_fn=<NegBackward0>), tensor(-10.2188, device='cuda:0', grad_fn=<NegBackward0>), tensor(-90.9303, device='cuda:0', grad_fn=<AddBackward0>)]\n",
      "3.9849650905003164\n",
      "tensor(-132.8881, device='cuda:0', grad_fn=<NegBackward0>) [tensor(-37.2963, device='cuda:0', grad_fn=<NegBackward0>), tensor(-8.8423, device='cuda:0', grad_fn=<NegBackward0>), tensor(-86.7495, device='cuda:0', grad_fn=<AddBackward0>)]\n",
      "4.061390299564742\n",
      "tensor(-136.1109, device='cuda:0', grad_fn=<NegBackward0>) [tensor(-37.2963, device='cuda:0', grad_fn=<NegBackward0>), tensor(-10.5889, device='cuda:0', grad_fn=<NegBackward0>), tensor(-88.2256, device='cuda:0', grad_fn=<AddBackward0>)]\n",
      "4.11348915098614\n",
      "tensor(-133.4773, device='cuda:0', grad_fn=<NegBackward0>) [tensor(-37.2293, device='cuda:0', grad_fn=<NegBackward0>), tensor(-8.9211, device='cuda:0', grad_fn=<NegBackward0>), tensor(-87.3269, device='cuda:0', grad_fn=<AddBackward0>)]\n",
      "4.260516270534451\n",
      "tensor(-137.8459, device='cuda:0', grad_fn=<NegBackward0>) [tensor(-37.2293, device='cuda:0', grad_fn=<NegBackward0>), tensor(-11.4066, device='cuda:0', grad_fn=<NegBackward0>), tensor(-89.2101, device='cuda:0', grad_fn=<AddBackward0>)]\n",
      "4.186422589429309\n",
      "tensor(-133.1162, device='cuda:0', grad_fn=<NegBackward0>) [tensor(-36.7976, device='cuda:0', grad_fn=<NegBackward0>), tensor(-8.9783, device='cuda:0', grad_fn=<NegBackward0>), tensor(-87.3403, device='cuda:0', grad_fn=<AddBackward0>)]\n",
      "4.315282780023588\n",
      "tensor(-132.6188, device='cuda:0', grad_fn=<NegBackward0>) [tensor(-36.7976, device='cuda:0', grad_fn=<NegBackward0>), tensor(-8.7197, device='cuda:0', grad_fn=<NegBackward0>), tensor(-87.1015, device='cuda:0', grad_fn=<AddBackward0>)]\n",
      "4.041933719881374\n",
      "tensor(-137.8253, device='cuda:0', grad_fn=<NegBackward0>) [tensor(-36.9621, device='cuda:0', grad_fn=<NegBackward0>), tensor(-10.7811, device='cuda:0', grad_fn=<NegBackward0>), tensor(-90.0820, device='cuda:0', grad_fn=<AddBackward0>)]\n",
      "4.591565505724846\n",
      "tensor(-134.5310, device='cuda:0', grad_fn=<NegBackward0>) [tensor(-36.9621, device='cuda:0', grad_fn=<NegBackward0>), tensor(-8.6796, device='cuda:0', grad_fn=<NegBackward0>), tensor(-88.8892, device='cuda:0', grad_fn=<AddBackward0>)]\n",
      "3.894077384955719\n",
      "tensor(-132.6374, device='cuda:0', grad_fn=<NegBackward0>) [tensor(-37.2943, device='cuda:0', grad_fn=<NegBackward0>), tensor(-9.3529, device='cuda:0', grad_fn=<NegBackward0>), tensor(-85.9903, device='cuda:0', grad_fn=<AddBackward0>)]\n",
      "4.3890477211424725\n",
      "tensor(-137.2980, device='cuda:0', grad_fn=<NegBackward0>) [tensor(-37.2943, device='cuda:0', grad_fn=<NegBackward0>), tensor(-9.4239, device='cuda:0', grad_fn=<NegBackward0>), tensor(-90.5798, device='cuda:0', grad_fn=<AddBackward0>)]\n",
      "3.9911320860170143\n",
      "tensor(-133.8707, device='cuda:0', grad_fn=<NegBackward0>) [tensor(-37.4260, device='cuda:0', grad_fn=<NegBackward0>), tensor(-9.4741, device='cuda:0', grad_fn=<NegBackward0>), tensor(-86.9707, device='cuda:0', grad_fn=<AddBackward0>)]\n",
      "4.2165799264810655\n",
      "tensor(-133.9097, device='cuda:0', grad_fn=<NegBackward0>) [tensor(-37.4260, device='cuda:0', grad_fn=<NegBackward0>), tensor(-9.3677, device='cuda:0', grad_fn=<NegBackward0>), tensor(-87.1160, device='cuda:0', grad_fn=<AddBackward0>)]\n",
      "4.755434065229603\n",
      "tensor(-135.5703, device='cuda:0', grad_fn=<NegBackward0>) [tensor(-37.3899, device='cuda:0', grad_fn=<NegBackward0>), tensor(-8.6543, device='cuda:0', grad_fn=<NegBackward0>), tensor(-89.5261, device='cuda:0', grad_fn=<AddBackward0>)]\n",
      "4.2880609947326285\n",
      "tensor(-135.3192, device='cuda:0', grad_fn=<NegBackward0>) [tensor(-37.3899, device='cuda:0', grad_fn=<NegBackward0>), tensor(-9.6400, device='cuda:0', grad_fn=<NegBackward0>), tensor(-88.2893, device='cuda:0', grad_fn=<AddBackward0>)]\n",
      "4.241378650400802\n",
      "tensor(-134.4646, device='cuda:0', grad_fn=<NegBackward0>) [tensor(-37.3589, device='cuda:0', grad_fn=<NegBackward0>), tensor(-9.1569, device='cuda:0', grad_fn=<NegBackward0>), tensor(-87.9489, device='cuda:0', grad_fn=<AddBackward0>)]\n",
      "4.083899474835536\n",
      "tensor(-135.0131, device='cuda:0', grad_fn=<NegBackward0>) [tensor(-37.3589, device='cuda:0', grad_fn=<NegBackward0>), tensor(-10.7084, device='cuda:0', grad_fn=<NegBackward0>), tensor(-86.9457, device='cuda:0', grad_fn=<AddBackward0>)]\n",
      "3.8106043794667506\n",
      "tensor(-136.8129, device='cuda:0', grad_fn=<NegBackward0>) [tensor(-37.2934, device='cuda:0', grad_fn=<NegBackward0>), tensor(-12.0237, device='cuda:0', grad_fn=<NegBackward0>), tensor(-87.4958, device='cuda:0', grad_fn=<AddBackward0>)]\n",
      "4.4744788139094185\n",
      "tensor(-134.1864, device='cuda:0', grad_fn=<NegBackward0>) [tensor(-37.2934, device='cuda:0', grad_fn=<NegBackward0>), tensor(-8.0762, device='cuda:0', grad_fn=<NegBackward0>), tensor(-88.8168, device='cuda:0', grad_fn=<AddBackward0>)]\n",
      "4.521136846129019\n",
      "tensor(-136.8979, device='cuda:0', grad_fn=<NegBackward0>) [tensor(-37.4078, device='cuda:0', grad_fn=<NegBackward0>), tensor(-9.7793, device='cuda:0', grad_fn=<NegBackward0>), tensor(-89.7108, device='cuda:0', grad_fn=<AddBackward0>)]\n",
      "4.460319465107857\n",
      "tensor(-132.9712, device='cuda:0', grad_fn=<NegBackward0>) [tensor(-37.4078, device='cuda:0', grad_fn=<NegBackward0>), tensor(-8.0836, device='cuda:0', grad_fn=<NegBackward0>), tensor(-87.4799, device='cuda:0', grad_fn=<AddBackward0>)]\n"
     ]
    },
    {
     "name": "stdout",
     "output_type": "stream",
     "text": [
      "4.1716366643413965\n",
      "tensor(-135.8178, device='cuda:0', grad_fn=<NegBackward0>) [tensor(-37.5364, device='cuda:0', grad_fn=<NegBackward0>), tensor(-9.3687, device='cuda:0', grad_fn=<NegBackward0>), tensor(-88.9127, device='cuda:0', grad_fn=<AddBackward0>)]\n",
      "4.695406505841473\n",
      "tensor(-135.4949, device='cuda:0', grad_fn=<NegBackward0>) [tensor(-37.5364, device='cuda:0', grad_fn=<NegBackward0>), tensor(-8.8897, device='cuda:0', grad_fn=<NegBackward0>), tensor(-89.0689, device='cuda:0', grad_fn=<AddBackward0>)]\n",
      "4.2877247330093455\n",
      "tensor(-137.4894, device='cuda:0', grad_fn=<NegBackward0>) [tensor(-37.5020, device='cuda:0', grad_fn=<NegBackward0>), tensor(-10.2291, device='cuda:0', grad_fn=<NegBackward0>), tensor(-89.7584, device='cuda:0', grad_fn=<AddBackward0>)]\n",
      "4.815628625947673\n",
      "tensor(-130.4028, device='cuda:0', grad_fn=<NegBackward0>) [tensor(-37.5020, device='cuda:0', grad_fn=<NegBackward0>), tensor(-6.7965, device='cuda:0', grad_fn=<NegBackward0>), tensor(-86.1043, device='cuda:0', grad_fn=<AddBackward0>)]\n",
      "4.756172384769914\n",
      "tensor(-138.0835, device='cuda:0', grad_fn=<NegBackward0>) [tensor(-37.5933, device='cuda:0', grad_fn=<NegBackward0>), tensor(-9.3233, device='cuda:0', grad_fn=<NegBackward0>), tensor(-91.1669, device='cuda:0', grad_fn=<AddBackward0>)]\n",
      "4.745319361528298\n",
      "tensor(-132.7461, device='cuda:0', grad_fn=<NegBackward0>) [tensor(-37.5933, device='cuda:0', grad_fn=<NegBackward0>), tensor(-7.3425, device='cuda:0', grad_fn=<NegBackward0>), tensor(-87.8102, device='cuda:0', grad_fn=<AddBackward0>)]\n",
      "4.890003418481752\n",
      "tensor(-133.0125, device='cuda:0', grad_fn=<NegBackward0>) [tensor(-37.7016, device='cuda:0', grad_fn=<NegBackward0>), tensor(-7.7495, device='cuda:0', grad_fn=<NegBackward0>), tensor(-87.5613, device='cuda:0', grad_fn=<AddBackward0>)]\n",
      "4.44463893135277\n",
      "tensor(-136.7117, device='cuda:0', grad_fn=<NegBackward0>) [tensor(-37.7016, device='cuda:0', grad_fn=<NegBackward0>), tensor(-9.2279, device='cuda:0', grad_fn=<NegBackward0>), tensor(-89.7822, device='cuda:0', grad_fn=<AddBackward0>)]\n",
      "4.358332259806502\n",
      "tensor(-133.3513, device='cuda:0', grad_fn=<NegBackward0>) [tensor(-37.6865, device='cuda:0', grad_fn=<NegBackward0>), tensor(-7.9755, device='cuda:0', grad_fn=<NegBackward0>), tensor(-87.6893, device='cuda:0', grad_fn=<AddBackward0>)]\n",
      "4.613266703415806\n",
      "tensor(-135.7771, device='cuda:0', grad_fn=<NegBackward0>) [tensor(-37.6865, device='cuda:0', grad_fn=<NegBackward0>), tensor(-8.6845, device='cuda:0', grad_fn=<NegBackward0>), tensor(-89.4061, device='cuda:0', grad_fn=<AddBackward0>)]\n",
      "4.484455673657814\n",
      "tensor(-139.6572, device='cuda:0', grad_fn=<NegBackward0>) [tensor(-37.6914, device='cuda:0', grad_fn=<NegBackward0>), tensor(-10.3135, device='cuda:0', grad_fn=<NegBackward0>), tensor(-91.6523, device='cuda:0', grad_fn=<AddBackward0>)]\n",
      "4.0730658585197315\n",
      "tensor(-136.9963, device='cuda:0', grad_fn=<NegBackward0>) [tensor(-37.6914, device='cuda:0', grad_fn=<NegBackward0>), tensor(-10.2030, device='cuda:0', grad_fn=<NegBackward0>), tensor(-89.1019, device='cuda:0', grad_fn=<AddBackward0>)]\n",
      "4.132034046048179\n",
      "tensor(-133.6915, device='cuda:0', grad_fn=<NegBackward0>) [tensor(-37.5631, device='cuda:0', grad_fn=<NegBackward0>), tensor(-8.9309, device='cuda:0', grad_fn=<NegBackward0>), tensor(-87.1974, device='cuda:0', grad_fn=<AddBackward0>)]\n",
      "4.104958756263133\n",
      "tensor(-136.1550, device='cuda:0', grad_fn=<NegBackward0>) [tensor(-37.5631, device='cuda:0', grad_fn=<NegBackward0>), tensor(-9.0510, device='cuda:0', grad_fn=<NegBackward0>), tensor(-89.5409, device='cuda:0', grad_fn=<AddBackward0>)]\n",
      "4.196866689275374\n",
      "tensor(-131.5759, device='cuda:0', grad_fn=<NegBackward0>) [tensor(-37.5817, device='cuda:0', grad_fn=<NegBackward0>), tensor(-7.4983, device='cuda:0', grad_fn=<NegBackward0>), tensor(-86.4959, device='cuda:0', grad_fn=<AddBackward0>)]\n",
      "4.767656771902704\n",
      "tensor(-133.5150, device='cuda:0', grad_fn=<NegBackward0>) [tensor(-37.5817, device='cuda:0', grad_fn=<NegBackward0>), tensor(-7.9852, device='cuda:0', grad_fn=<NegBackward0>), tensor(-87.9481, device='cuda:0', grad_fn=<AddBackward0>)]\n",
      "3.984136469332746\n",
      "tensor(-132.9333, device='cuda:0', grad_fn=<NegBackward0>) [tensor(-37.6356, device='cuda:0', grad_fn=<NegBackward0>), tensor(-8.5333, device='cuda:0', grad_fn=<NegBackward0>), tensor(-86.7643, device='cuda:0', grad_fn=<AddBackward0>)]\n",
      "4.007912528914299\n",
      "tensor(-138.7182, device='cuda:0', grad_fn=<NegBackward0>) [tensor(-37.6356, device='cuda:0', grad_fn=<NegBackward0>), tensor(-10.3709, device='cuda:0', grad_fn=<NegBackward0>), tensor(-90.7117, device='cuda:0', grad_fn=<AddBackward0>)]\n",
      "4.363288089827679\n",
      "tensor(-135.5579, device='cuda:0', grad_fn=<NegBackward0>) [tensor(-37.5148, device='cuda:0', grad_fn=<NegBackward0>), tensor(-9.2276, device='cuda:0', grad_fn=<NegBackward0>), tensor(-88.8155, device='cuda:0', grad_fn=<AddBackward0>)]\n",
      "4.950430686066257\n",
      "tensor(-131.1805, device='cuda:0', grad_fn=<NegBackward0>) [tensor(-37.5148, device='cuda:0', grad_fn=<NegBackward0>), tensor(-6.8320, device='cuda:0', grad_fn=<NegBackward0>), tensor(-86.8337, device='cuda:0', grad_fn=<AddBackward0>)]\n",
      "4.797881582542619\n",
      "tensor(-133.1589, device='cuda:0', grad_fn=<NegBackward0>) [tensor(-37.6008, device='cuda:0', grad_fn=<NegBackward0>), tensor(-7.8917, device='cuda:0', grad_fn=<NegBackward0>), tensor(-87.6664, device='cuda:0', grad_fn=<AddBackward0>)]\n",
      "4.218127410821777\n",
      "tensor(-134.5161, device='cuda:0', grad_fn=<NegBackward0>) [tensor(-37.6008, device='cuda:0', grad_fn=<NegBackward0>), tensor(-8.8626, device='cuda:0', grad_fn=<NegBackward0>), tensor(-88.0526, device='cuda:0', grad_fn=<AddBackward0>)]\n",
      "4.298899974141272\n",
      "tensor(-136.3065, device='cuda:0', grad_fn=<NegBackward0>) [tensor(-37.6758, device='cuda:0', grad_fn=<NegBackward0>), tensor(-9.0881, device='cuda:0', grad_fn=<NegBackward0>), tensor(-89.5427, device='cuda:0', grad_fn=<AddBackward0>)]\n",
      "5.598414591023582\n",
      "tensor(-133.6626, device='cuda:0', grad_fn=<NegBackward0>) [tensor(-37.6758, device='cuda:0', grad_fn=<NegBackward0>), tensor(-7.5685, device='cuda:0', grad_fn=<NegBackward0>), tensor(-88.4183, device='cuda:0', grad_fn=<AddBackward0>)]\n",
      "4.166554116082005\n",
      "tensor(-134.8075, device='cuda:0', grad_fn=<NegBackward0>) [tensor(-37.7167, device='cuda:0', grad_fn=<NegBackward0>), tensor(-9.7654, device='cuda:0', grad_fn=<NegBackward0>), tensor(-87.3254, device='cuda:0', grad_fn=<AddBackward0>)]\n",
      "4.56105178789777\n",
      "tensor(-128.4586, device='cuda:0', grad_fn=<NegBackward0>) [tensor(-37.7167, device='cuda:0', grad_fn=<NegBackward0>), tensor(-5.7414, device='cuda:0', grad_fn=<NegBackward0>), tensor(-85.0005, device='cuda:0', grad_fn=<AddBackward0>)]\n",
      "4.263425455827448\n",
      "tensor(-136.2318, device='cuda:0', grad_fn=<NegBackward0>) [tensor(-37.8249, device='cuda:0', grad_fn=<NegBackward0>), tensor(-9.5380, device='cuda:0', grad_fn=<NegBackward0>), tensor(-88.8689, device='cuda:0', grad_fn=<AddBackward0>)]\n",
      "4.271954724525585\n",
      "tensor(-134.1091, device='cuda:0', grad_fn=<NegBackward0>) [tensor(-37.8249, device='cuda:0', grad_fn=<NegBackward0>), tensor(-8.2295, device='cuda:0', grad_fn=<NegBackward0>), tensor(-88.0546, device='cuda:0', grad_fn=<AddBackward0>)]\n",
      "4.55156027481299\n",
      "tensor(-134.8908, device='cuda:0', grad_fn=<NegBackward0>) [tensor(-37.7857, device='cuda:0', grad_fn=<NegBackward0>), tensor(-7.9295, device='cuda:0', grad_fn=<NegBackward0>), tensor(-89.1757, device='cuda:0', grad_fn=<AddBackward0>)]\n",
      "4.303435915726832\n",
      "tensor(-135.4014, device='cuda:0', grad_fn=<NegBackward0>) [tensor(-37.7857, device='cuda:0', grad_fn=<NegBackward0>), tensor(-8.7394, device='cuda:0', grad_fn=<NegBackward0>), tensor(-88.8763, device='cuda:0', grad_fn=<AddBackward0>)]\n",
      "4.610286318354406\n",
      "tensor(-130.1342, device='cuda:0', grad_fn=<NegBackward0>) [tensor(-37.6537, device='cuda:0', grad_fn=<NegBackward0>), tensor(-6.1919, device='cuda:0', grad_fn=<NegBackward0>), tensor(-86.2885, device='cuda:0', grad_fn=<AddBackward0>)]\n",
      "4.107253526589657\n",
      "tensor(-138.3485, device='cuda:0', grad_fn=<NegBackward0>) [tensor(-37.6537, device='cuda:0', grad_fn=<NegBackward0>), tensor(-10.8329, device='cuda:0', grad_fn=<NegBackward0>), tensor(-89.8618, device='cuda:0', grad_fn=<AddBackward0>)]\n",
      "5.034995368365252\n",
      "tensor(-133.7239, device='cuda:0', grad_fn=<NegBackward0>) [tensor(-37.4942, device='cuda:0', grad_fn=<NegBackward0>), tensor(-7.7111, device='cuda:0', grad_fn=<NegBackward0>), tensor(-88.5186, device='cuda:0', grad_fn=<AddBackward0>)]\n"
     ]
    },
    {
     "name": "stdout",
     "output_type": "stream",
     "text": [
      "4.293308073228067\n",
      "tensor(-138.5863, device='cuda:0', grad_fn=<NegBackward0>) [tensor(-37.4942, device='cuda:0', grad_fn=<NegBackward0>), tensor(-10.7609, device='cuda:0', grad_fn=<NegBackward0>), tensor(-90.3313, device='cuda:0', grad_fn=<AddBackward0>)]\n",
      "4.222276897614415\n",
      "tensor(-138.7939, device='cuda:0', grad_fn=<NegBackward0>) [tensor(-37.4179, device='cuda:0', grad_fn=<NegBackward0>), tensor(-10.8647, device='cuda:0', grad_fn=<NegBackward0>), tensor(-90.5113, device='cuda:0', grad_fn=<AddBackward0>)]\n",
      "4.893823466333419\n",
      "tensor(-138.7290, device='cuda:0', grad_fn=<NegBackward0>) [tensor(-37.4179, device='cuda:0', grad_fn=<NegBackward0>), tensor(-9.5068, device='cuda:0', grad_fn=<NegBackward0>), tensor(-91.8044, device='cuda:0', grad_fn=<AddBackward0>)]\n",
      "4.278170289309923\n",
      "tensor(-135.4862, device='cuda:0', grad_fn=<NegBackward0>) [tensor(-37.4744, device='cuda:0', grad_fn=<NegBackward0>), tensor(-9.7311, device='cuda:0', grad_fn=<NegBackward0>), tensor(-88.2806, device='cuda:0', grad_fn=<AddBackward0>)]\n",
      "4.581477174091713\n",
      "tensor(-136.2740, device='cuda:0', grad_fn=<NegBackward0>) [tensor(-37.4744, device='cuda:0', grad_fn=<NegBackward0>), tensor(-8.6600, device='cuda:0', grad_fn=<NegBackward0>), tensor(-90.1396, device='cuda:0', grad_fn=<AddBackward0>)]\n",
      "4.948870514474102\n",
      "tensor(-132.2568, device='cuda:0', grad_fn=<NegBackward0>) [tensor(-37.5694, device='cuda:0', grad_fn=<NegBackward0>), tensor(-7.1463, device='cuda:0', grad_fn=<NegBackward0>), tensor(-87.5411, device='cuda:0', grad_fn=<AddBackward0>)]\n",
      "4.382966239315021\n",
      "tensor(-138.2191, device='cuda:0', grad_fn=<NegBackward0>) [tensor(-37.5694, device='cuda:0', grad_fn=<NegBackward0>), tensor(-10.1656, device='cuda:0', grad_fn=<NegBackward0>), tensor(-90.4841, device='cuda:0', grad_fn=<AddBackward0>)]\n",
      "4.475995699065113\n",
      "tensor(-135.2695, device='cuda:0', grad_fn=<NegBackward0>) [tensor(-37.5184, device='cuda:0', grad_fn=<NegBackward0>), tensor(-8.9029, device='cuda:0', grad_fn=<NegBackward0>), tensor(-88.8481, device='cuda:0', grad_fn=<AddBackward0>)]\n",
      "4.828313856895808\n",
      "tensor(-137.8126, device='cuda:0', grad_fn=<NegBackward0>) [tensor(-37.5184, device='cuda:0', grad_fn=<NegBackward0>), tensor(-9.2394, device='cuda:0', grad_fn=<NegBackward0>), tensor(-91.0548, device='cuda:0', grad_fn=<AddBackward0>)]\n",
      "4.521414234913455\n",
      "tensor(-134.4287, device='cuda:0', grad_fn=<NegBackward0>) [tensor(-37.6136, device='cuda:0', grad_fn=<NegBackward0>), tensor(-8.7224, device='cuda:0', grad_fn=<NegBackward0>), tensor(-88.0928, device='cuda:0', grad_fn=<AddBackward0>)]\n",
      "4.34894383557463\n",
      "tensor(-136.3196, device='cuda:0', grad_fn=<NegBackward0>) [tensor(-37.6136, device='cuda:0', grad_fn=<NegBackward0>), tensor(-9.0375, device='cuda:0', grad_fn=<NegBackward0>), tensor(-89.6685, device='cuda:0', grad_fn=<AddBackward0>)]\n",
      "4.002309288874465\n",
      "tensor(-133.1841, device='cuda:0', grad_fn=<NegBackward0>) [tensor(-37.5922, device='cuda:0', grad_fn=<NegBackward0>), tensor(-8.8663, device='cuda:0', grad_fn=<NegBackward0>), tensor(-86.7256, device='cuda:0', grad_fn=<AddBackward0>)]\n",
      "4.289930956427559\n",
      "tensor(-137.0800, device='cuda:0', grad_fn=<NegBackward0>) [tensor(-37.5922, device='cuda:0', grad_fn=<NegBackward0>), tensor(-9.4186, device='cuda:0', grad_fn=<NegBackward0>), tensor(-90.0692, device='cuda:0', grad_fn=<AddBackward0>)]\n",
      "4.512809007221945\n",
      "tensor(-131.2378, device='cuda:0', grad_fn=<NegBackward0>) [tensor(-37.5557, device='cuda:0', grad_fn=<NegBackward0>), tensor(-7.1585, device='cuda:0', grad_fn=<NegBackward0>), tensor(-86.5236, device='cuda:0', grad_fn=<AddBackward0>)]\n",
      "4.251159421380042\n",
      "tensor(-138.8056, device='cuda:0', grad_fn=<NegBackward0>) [tensor(-37.5557, device='cuda:0', grad_fn=<NegBackward0>), tensor(-10.7841, device='cuda:0', grad_fn=<NegBackward0>), tensor(-90.4658, device='cuda:0', grad_fn=<AddBackward0>)]\n",
      "4.261469392168838\n",
      "tensor(-133.6494, device='cuda:0', grad_fn=<NegBackward0>) [tensor(-37.3966, device='cuda:0', grad_fn=<NegBackward0>), tensor(-8.2162, device='cuda:0', grad_fn=<NegBackward0>), tensor(-88.0366, device='cuda:0', grad_fn=<AddBackward0>)]\n",
      "4.778978503913411\n",
      "tensor(-136.5648, device='cuda:0', grad_fn=<NegBackward0>) [tensor(-37.3966, device='cuda:0', grad_fn=<NegBackward0>), tensor(-8.9605, device='cuda:0', grad_fn=<NegBackward0>), tensor(-90.2076, device='cuda:0', grad_fn=<AddBackward0>)]\n",
      "4.689362256966377\n",
      "tensor(-136.7315, device='cuda:0', grad_fn=<NegBackward0>) [tensor(-37.5277, device='cuda:0', grad_fn=<NegBackward0>), tensor(-9.2085, device='cuda:0', grad_fn=<NegBackward0>), tensor(-89.9953, device='cuda:0', grad_fn=<AddBackward0>)]\n",
      "4.217538838421412\n",
      "tensor(-132.5449, device='cuda:0', grad_fn=<NegBackward0>) [tensor(-37.5277, device='cuda:0', grad_fn=<NegBackward0>), tensor(-7.5496, device='cuda:0', grad_fn=<NegBackward0>), tensor(-87.4676, device='cuda:0', grad_fn=<AddBackward0>)]\n",
      "4.5015623504992694\n",
      "tensor(-132.0411, device='cuda:0', grad_fn=<NegBackward0>) [tensor(-37.6545, device='cuda:0', grad_fn=<NegBackward0>), tensor(-7.4763, device='cuda:0', grad_fn=<NegBackward0>), tensor(-86.9103, device='cuda:0', grad_fn=<AddBackward0>)]\n",
      "4.50978685179293\n",
      "tensor(-136.4355, device='cuda:0', grad_fn=<NegBackward0>) [tensor(-37.6545, device='cuda:0', grad_fn=<NegBackward0>), tensor(-9.2338, device='cuda:0', grad_fn=<NegBackward0>), tensor(-89.5472, device='cuda:0', grad_fn=<AddBackward0>)]\n",
      "4.219700568972729\n",
      "tensor(-135.6994, device='cuda:0', grad_fn=<NegBackward0>) [tensor(-37.6737, device='cuda:0', grad_fn=<NegBackward0>), tensor(-9.4097, device='cuda:0', grad_fn=<NegBackward0>), tensor(-88.6160, device='cuda:0', grad_fn=<AddBackward0>)]\n",
      "4.169832684862301\n",
      "tensor(-130.6225, device='cuda:0', grad_fn=<NegBackward0>) [tensor(-37.6737, device='cuda:0', grad_fn=<NegBackward0>), tensor(-7.1115, device='cuda:0', grad_fn=<NegBackward0>), tensor(-85.8372, device='cuda:0', grad_fn=<AddBackward0>)]\n",
      "4.651258538638051\n",
      "tensor(-135.6969, device='cuda:0', grad_fn=<NegBackward0>) [tensor(-37.7214, device='cuda:0', grad_fn=<NegBackward0>), tensor(-8.5598, device='cuda:0', grad_fn=<NegBackward0>), tensor(-89.4156, device='cuda:0', grad_fn=<AddBackward0>)]\n",
      "19.372110727066126\n",
      "tensor(-129.9927, device='cuda:0', grad_fn=<NegBackward0>) [tensor(-37.7214, device='cuda:0', grad_fn=<NegBackward0>), tensor(-5.5697, device='cuda:0', grad_fn=<NegBackward0>), tensor(-86.7016, device='cuda:0', grad_fn=<AddBackward0>)]\n",
      "4.8493891316124715\n",
      "tensor(-134.4375, device='cuda:0', grad_fn=<NegBackward0>) [tensor(-37.7603, device='cuda:0', grad_fn=<NegBackward0>), tensor(-7.8269, device='cuda:0', grad_fn=<NegBackward0>), tensor(-88.8503, device='cuda:0', grad_fn=<AddBackward0>)]\n",
      "4.199286583127567\n",
      "tensor(-131.6447, device='cuda:0', grad_fn=<NegBackward0>) [tensor(-37.7603, device='cuda:0', grad_fn=<NegBackward0>), tensor(-6.9175, device='cuda:0', grad_fn=<NegBackward0>), tensor(-86.9668, device='cuda:0', grad_fn=<AddBackward0>)]\n",
      "4.232462115975895\n",
      "tensor(-134.9966, device='cuda:0', grad_fn=<NegBackward0>) [tensor(-37.8426, device='cuda:0', grad_fn=<NegBackward0>), tensor(-9.5849, device='cuda:0', grad_fn=<NegBackward0>), tensor(-87.5691, device='cuda:0', grad_fn=<AddBackward0>)]\n",
      "4.344264956541763\n",
      "tensor(-136.8272, device='cuda:0', grad_fn=<NegBackward0>) [tensor(-37.8426, device='cuda:0', grad_fn=<NegBackward0>), tensor(-9.2441, device='cuda:0', grad_fn=<NegBackward0>), tensor(-89.7405, device='cuda:0', grad_fn=<AddBackward0>)]\n",
      "4.654260611778483\n",
      "tensor(-141.0851, device='cuda:0', grad_fn=<NegBackward0>) [tensor(-37.7883, device='cuda:0', grad_fn=<NegBackward0>), tensor(-10.0927, device='cuda:0', grad_fn=<NegBackward0>), tensor(-93.2041, device='cuda:0', grad_fn=<AddBackward0>)]\n",
      "4.4827855585124174\n",
      "tensor(-138.2378, device='cuda:0', grad_fn=<NegBackward0>) [tensor(-37.7883, device='cuda:0', grad_fn=<NegBackward0>), tensor(-9.6746, device='cuda:0', grad_fn=<NegBackward0>), tensor(-90.7750, device='cuda:0', grad_fn=<AddBackward0>)]\n",
      "4.841238403027632\n",
      "tensor(-140.0342, device='cuda:0', grad_fn=<NegBackward0>) [tensor(-37.7165, device='cuda:0', grad_fn=<NegBackward0>), tensor(-9.7657, device='cuda:0', grad_fn=<NegBackward0>), tensor(-92.5520, device='cuda:0', grad_fn=<AddBackward0>)]\n",
      "4.295909546599887\n",
      "tensor(-135.3517, device='cuda:0', grad_fn=<NegBackward0>) [tensor(-37.7165, device='cuda:0', grad_fn=<NegBackward0>), tensor(-8.9255, device='cuda:0', grad_fn=<NegBackward0>), tensor(-88.7097, device='cuda:0', grad_fn=<AddBackward0>)]\n"
     ]
    },
    {
     "name": "stdout",
     "output_type": "stream",
     "text": [
      "3.980003467791093\n",
      "tensor(-137.5259, device='cuda:0', grad_fn=<NegBackward0>) [tensor(-37.6685, device='cuda:0', grad_fn=<NegBackward0>), tensor(-9.7494, device='cuda:0', grad_fn=<NegBackward0>), tensor(-90.1081, device='cuda:0', grad_fn=<AddBackward0>)]\n",
      "4.335802615538196\n",
      "tensor(-135.8727, device='cuda:0', grad_fn=<NegBackward0>) [tensor(-37.6685, device='cuda:0', grad_fn=<NegBackward0>), tensor(-8.9181, device='cuda:0', grad_fn=<NegBackward0>), tensor(-89.2861, device='cuda:0', grad_fn=<AddBackward0>)]\n",
      "4.346416691843582\n",
      "tensor(-136.9591, device='cuda:0', grad_fn=<NegBackward0>) [tensor(-37.6775, device='cuda:0', grad_fn=<NegBackward0>), tensor(-9.6995, device='cuda:0', grad_fn=<NegBackward0>), tensor(-89.5821, device='cuda:0', grad_fn=<AddBackward0>)]\n",
      "4.248411348514914\n",
      "tensor(-133.7729, device='cuda:0', grad_fn=<NegBackward0>) [tensor(-37.6775, device='cuda:0', grad_fn=<NegBackward0>), tensor(-8.0302, device='cuda:0', grad_fn=<NegBackward0>), tensor(-88.0653, device='cuda:0', grad_fn=<AddBackward0>)]\n",
      "4.368166002565807\n",
      "tensor(-136.5312, device='cuda:0', grad_fn=<NegBackward0>) [tensor(-37.7099, device='cuda:0', grad_fn=<NegBackward0>), tensor(-8.7105, device='cuda:0', grad_fn=<NegBackward0>), tensor(-90.1108, device='cuda:0', grad_fn=<AddBackward0>)]\n",
      "4.532927711547737\n",
      "tensor(-137.7961, device='cuda:0', grad_fn=<NegBackward0>) [tensor(-37.7099, device='cuda:0', grad_fn=<NegBackward0>), tensor(-9.3066, device='cuda:0', grad_fn=<NegBackward0>), tensor(-90.7795, device='cuda:0', grad_fn=<AddBackward0>)]\n",
      "4.561279871368149\n",
      "tensor(-133.8648, device='cuda:0', grad_fn=<NegBackward0>) [tensor(-37.7174, device='cuda:0', grad_fn=<NegBackward0>), tensor(-7.9782, device='cuda:0', grad_fn=<NegBackward0>), tensor(-88.1692, device='cuda:0', grad_fn=<AddBackward0>)]\n",
      "4.445551575035315\n",
      "tensor(-136.9275, device='cuda:0', grad_fn=<NegBackward0>) [tensor(-37.7174, device='cuda:0', grad_fn=<NegBackward0>), tensor(-9.4320, device='cuda:0', grad_fn=<NegBackward0>), tensor(-89.7781, device='cuda:0', grad_fn=<AddBackward0>)]\n",
      "5.0878181163843355\n",
      "tensor(-135.2749, device='cuda:0', grad_fn=<NegBackward0>) [tensor(-37.6121, device='cuda:0', grad_fn=<NegBackward0>), tensor(-8.3954, device='cuda:0', grad_fn=<NegBackward0>), tensor(-89.2674, device='cuda:0', grad_fn=<AddBackward0>)]\n",
      "4.447411939590073\n",
      "tensor(-136.0688, device='cuda:0', grad_fn=<NegBackward0>) [tensor(-37.6121, device='cuda:0', grad_fn=<NegBackward0>), tensor(-9.4117, device='cuda:0', grad_fn=<NegBackward0>), tensor(-89.0450, device='cuda:0', grad_fn=<AddBackward0>)]\n",
      "4.631809464299727\n",
      "tensor(-134.9979, device='cuda:0', grad_fn=<NegBackward0>) [tensor(-37.5690, device='cuda:0', grad_fn=<NegBackward0>), tensor(-8.2879, device='cuda:0', grad_fn=<NegBackward0>), tensor(-89.1410, device='cuda:0', grad_fn=<AddBackward0>)]\n",
      "4.354955323150087\n",
      "tensor(-133.2095, device='cuda:0', grad_fn=<NegBackward0>) [tensor(-37.5690, device='cuda:0', grad_fn=<NegBackward0>), tensor(-8.1084, device='cuda:0', grad_fn=<NegBackward0>), tensor(-87.5321, device='cuda:0', grad_fn=<AddBackward0>)]\n",
      "4.170059943098668\n",
      "tensor(-136.6642, device='cuda:0', grad_fn=<NegBackward0>) [tensor(-37.5894, device='cuda:0', grad_fn=<NegBackward0>), tensor(-10.5321, device='cuda:0', grad_fn=<NegBackward0>), tensor(-88.5428, device='cuda:0', grad_fn=<AddBackward0>)]\n",
      "5.28834055479671\n",
      "tensor(-133.2365, device='cuda:0', grad_fn=<NegBackward0>) [tensor(-37.5894, device='cuda:0', grad_fn=<NegBackward0>), tensor(-7.4574, device='cuda:0', grad_fn=<NegBackward0>), tensor(-88.1897, device='cuda:0', grad_fn=<AddBackward0>)]\n",
      "4.817976188997736\n",
      "tensor(-134.1883, device='cuda:0', grad_fn=<NegBackward0>) [tensor(-37.7401, device='cuda:0', grad_fn=<NegBackward0>), tensor(-8.0583, device='cuda:0', grad_fn=<NegBackward0>), tensor(-88.3899, device='cuda:0', grad_fn=<AddBackward0>)]\n",
      "4.430744194765513\n",
      "tensor(-135.7511, device='cuda:0', grad_fn=<NegBackward0>) [tensor(-37.7401, device='cuda:0', grad_fn=<NegBackward0>), tensor(-9.0730, device='cuda:0', grad_fn=<NegBackward0>), tensor(-88.9380, device='cuda:0', grad_fn=<AddBackward0>)]\n",
      "4.589044263791686\n",
      "tensor(-132.2973, device='cuda:0', grad_fn=<NegBackward0>) [tensor(-37.7011, device='cuda:0', grad_fn=<NegBackward0>), tensor(-7.5780, device='cuda:0', grad_fn=<NegBackward0>), tensor(-87.0182, device='cuda:0', grad_fn=<AddBackward0>)]\n",
      "4.364614798655312\n",
      "tensor(-137.0860, device='cuda:0', grad_fn=<NegBackward0>) [tensor(-37.7011, device='cuda:0', grad_fn=<NegBackward0>), tensor(-9.4913, device='cuda:0', grad_fn=<NegBackward0>), tensor(-89.8936, device='cuda:0', grad_fn=<AddBackward0>)]\n",
      "4.1012243053347035\n",
      "tensor(-137.2157, device='cuda:0', grad_fn=<NegBackward0>) [tensor(-37.6422, device='cuda:0', grad_fn=<NegBackward0>), tensor(-10.8560, device='cuda:0', grad_fn=<NegBackward0>), tensor(-88.7175, device='cuda:0', grad_fn=<AddBackward0>)]\n",
      "3.7907850850534355\n",
      "tensor(-133.3068, device='cuda:0', grad_fn=<NegBackward0>) [tensor(-37.6422, device='cuda:0', grad_fn=<NegBackward0>), tensor(-10.2379, device='cuda:0', grad_fn=<NegBackward0>), tensor(-85.4267, device='cuda:0', grad_fn=<AddBackward0>)]\n",
      "4.838926182434554\n",
      "tensor(-133.9783, device='cuda:0', grad_fn=<NegBackward0>) [tensor(-37.2899, device='cuda:0', grad_fn=<NegBackward0>), tensor(-8.1357, device='cuda:0', grad_fn=<NegBackward0>), tensor(-88.5526, device='cuda:0', grad_fn=<AddBackward0>)]\n",
      "4.16779718850192\n",
      "tensor(-131.8301, device='cuda:0', grad_fn=<NegBackward0>) [tensor(-37.2899, device='cuda:0', grad_fn=<NegBackward0>), tensor(-8.8864, device='cuda:0', grad_fn=<NegBackward0>), tensor(-85.6538, device='cuda:0', grad_fn=<AddBackward0>)]\n",
      "4.802872841713863\n",
      "tensor(-134.8703, device='cuda:0', grad_fn=<NegBackward0>) [tensor(-37.3968, device='cuda:0', grad_fn=<NegBackward0>), tensor(-8.4911, device='cuda:0', grad_fn=<NegBackward0>), tensor(-88.9824, device='cuda:0', grad_fn=<AddBackward0>)]\n",
      "4.3829838466881785\n",
      "tensor(-132.7724, device='cuda:0', grad_fn=<NegBackward0>) [tensor(-37.3968, device='cuda:0', grad_fn=<NegBackward0>), tensor(-8.2953, device='cuda:0', grad_fn=<NegBackward0>), tensor(-87.0803, device='cuda:0', grad_fn=<AddBackward0>)]\n",
      "5.216162795667739\n",
      "tensor(-136.9209, device='cuda:0', grad_fn=<NegBackward0>) [tensor(-37.4749, device='cuda:0', grad_fn=<NegBackward0>), tensor(-8.8076, device='cuda:0', grad_fn=<NegBackward0>), tensor(-90.6384, device='cuda:0', grad_fn=<AddBackward0>)]\n",
      "4.446882204474848\n",
      "tensor(-138.4390, device='cuda:0', grad_fn=<NegBackward0>) [tensor(-37.4749, device='cuda:0', grad_fn=<NegBackward0>), tensor(-10.5081, device='cuda:0', grad_fn=<NegBackward0>), tensor(-90.4560, device='cuda:0', grad_fn=<AddBackward0>)]\n",
      "4.618000017293093\n",
      "tensor(-133.9156, device='cuda:0', grad_fn=<NegBackward0>) [tensor(-37.4540, device='cuda:0', grad_fn=<NegBackward0>), tensor(-8.3721, device='cuda:0', grad_fn=<NegBackward0>), tensor(-88.0895, device='cuda:0', grad_fn=<AddBackward0>)]\n",
      "4.9865865537198495\n",
      "tensor(-131.2078, device='cuda:0', grad_fn=<NegBackward0>) [tensor(-37.4540, device='cuda:0', grad_fn=<NegBackward0>), tensor(-6.7622, device='cuda:0', grad_fn=<NegBackward0>), tensor(-86.9915, device='cuda:0', grad_fn=<AddBackward0>)]\n",
      "4.94948663683453\n",
      "tensor(-132.6430, device='cuda:0', grad_fn=<NegBackward0>) [tensor(-37.6418, device='cuda:0', grad_fn=<NegBackward0>), tensor(-6.8694, device='cuda:0', grad_fn=<NegBackward0>), tensor(-88.1318, device='cuda:0', grad_fn=<AddBackward0>)]\n",
      "4.5320741723048945\n",
      "tensor(-139.7185, device='cuda:0', grad_fn=<NegBackward0>) [tensor(-37.6418, device='cuda:0', grad_fn=<NegBackward0>), tensor(-10.9659, device='cuda:0', grad_fn=<NegBackward0>), tensor(-91.1108, device='cuda:0', grad_fn=<AddBackward0>)]\n",
      "4.27694761034069\n",
      "tensor(-134.9982, device='cuda:0', grad_fn=<NegBackward0>) [tensor(-37.6102, device='cuda:0', grad_fn=<NegBackward0>), tensor(-9.0750, device='cuda:0', grad_fn=<NegBackward0>), tensor(-88.3129, device='cuda:0', grad_fn=<AddBackward0>)]\n",
      "4.176661944253812\n",
      "tensor(-135.9995, device='cuda:0', grad_fn=<NegBackward0>) [tensor(-37.6102, device='cuda:0', grad_fn=<NegBackward0>), tensor(-9.9185, device='cuda:0', grad_fn=<NegBackward0>), tensor(-88.4709, device='cuda:0', grad_fn=<AddBackward0>)]\n",
      "4.701701966589957\n",
      "tensor(-134.6401, device='cuda:0', grad_fn=<NegBackward0>) [tensor(-37.4822, device='cuda:0', grad_fn=<NegBackward0>), tensor(-8.3484, device='cuda:0', grad_fn=<NegBackward0>), tensor(-88.8095, device='cuda:0', grad_fn=<AddBackward0>)]\n"
     ]
    },
    {
     "name": "stdout",
     "output_type": "stream",
     "text": [
      "4.291981723494245\n",
      "tensor(-135.8678, device='cuda:0', grad_fn=<NegBackward0>) [tensor(-37.4822, device='cuda:0', grad_fn=<NegBackward0>), tensor(-9.6216, device='cuda:0', grad_fn=<NegBackward0>), tensor(-88.7639, device='cuda:0', grad_fn=<AddBackward0>)]\n",
      "4.384748713236361\n",
      "tensor(-134.0940, device='cuda:0', grad_fn=<NegBackward0>) [tensor(-37.5390, device='cuda:0', grad_fn=<NegBackward0>), tensor(-8.3525, device='cuda:0', grad_fn=<NegBackward0>), tensor(-88.2025, device='cuda:0', grad_fn=<AddBackward0>)]\n",
      "4.612293855234651\n",
      "tensor(-139.1730, device='cuda:0', grad_fn=<NegBackward0>) [tensor(-37.5390, device='cuda:0', grad_fn=<NegBackward0>), tensor(-10.1503, device='cuda:0', grad_fn=<NegBackward0>), tensor(-91.4837, device='cuda:0', grad_fn=<AddBackward0>)]\n",
      "4.421128260624422\n",
      "tensor(-135.5278, device='cuda:0', grad_fn=<NegBackward0>) [tensor(-37.4962, device='cuda:0', grad_fn=<NegBackward0>), tensor(-8.9306, device='cuda:0', grad_fn=<NegBackward0>), tensor(-89.1010, device='cuda:0', grad_fn=<AddBackward0>)]\n",
      "4.5148131820077735\n",
      "tensor(-138.1544, device='cuda:0', grad_fn=<NegBackward0>) [tensor(-37.4962, device='cuda:0', grad_fn=<NegBackward0>), tensor(-9.9544, device='cuda:0', grad_fn=<NegBackward0>), tensor(-90.7038, device='cuda:0', grad_fn=<AddBackward0>)]\n",
      "4.431979048695876\n",
      "tensor(-136.3512, device='cuda:0', grad_fn=<NegBackward0>) [tensor(-37.5333, device='cuda:0', grad_fn=<NegBackward0>), tensor(-9.1325, device='cuda:0', grad_fn=<NegBackward0>), tensor(-89.6854, device='cuda:0', grad_fn=<AddBackward0>)]\n",
      "4.654974176905737\n",
      "tensor(-133.6691, device='cuda:0', grad_fn=<NegBackward0>) [tensor(-37.5333, device='cuda:0', grad_fn=<NegBackward0>), tensor(-8.0957, device='cuda:0', grad_fn=<NegBackward0>), tensor(-88.0401, device='cuda:0', grad_fn=<AddBackward0>)]\n",
      "4.481168296087826\n",
      "tensor(-134.7449, device='cuda:0', grad_fn=<NegBackward0>) [tensor(-37.6175, device='cuda:0', grad_fn=<NegBackward0>), tensor(-8.8308, device='cuda:0', grad_fn=<NegBackward0>), tensor(-88.2965, device='cuda:0', grad_fn=<AddBackward0>)]\n",
      "4.232686729611198\n",
      "tensor(-136.7012, device='cuda:0', grad_fn=<NegBackward0>) [tensor(-37.6175, device='cuda:0', grad_fn=<NegBackward0>), tensor(-10.0677, device='cuda:0', grad_fn=<NegBackward0>), tensor(-89.0160, device='cuda:0', grad_fn=<AddBackward0>)]\n",
      "3.697939849587246\n",
      "tensor(-134.0623, device='cuda:0', grad_fn=<NegBackward0>) [tensor(-37.4949, device='cuda:0', grad_fn=<NegBackward0>), tensor(-11.7338, device='cuda:0', grad_fn=<NegBackward0>), tensor(-84.8336, device='cuda:0', grad_fn=<AddBackward0>)]\n",
      "4.525283491446767\n",
      "tensor(-137.1785, device='cuda:0', grad_fn=<NegBackward0>) [tensor(-37.4949, device='cuda:0', grad_fn=<NegBackward0>), tensor(-9.6399, device='cuda:0', grad_fn=<NegBackward0>), tensor(-90.0437, device='cuda:0', grad_fn=<AddBackward0>)]\n",
      "4.326969988559136\n",
      "tensor(-135.1375, device='cuda:0', grad_fn=<NegBackward0>) [tensor(-37.5580, device='cuda:0', grad_fn=<NegBackward0>), tensor(-10.1614, device='cuda:0', grad_fn=<NegBackward0>), tensor(-87.4181, device='cuda:0', grad_fn=<AddBackward0>)]\n",
      "4.0452188018588675\n",
      "tensor(-134.0274, device='cuda:0', grad_fn=<NegBackward0>) [tensor(-37.5580, device='cuda:0', grad_fn=<NegBackward0>), tensor(-8.6027, device='cuda:0', grad_fn=<NegBackward0>), tensor(-87.8667, device='cuda:0', grad_fn=<AddBackward0>)]\n",
      "4.43990856196461\n",
      "tensor(-134.8291, device='cuda:0', grad_fn=<NegBackward0>) [tensor(-37.5768, device='cuda:0', grad_fn=<NegBackward0>), tensor(-9.1426, device='cuda:0', grad_fn=<NegBackward0>), tensor(-88.1097, device='cuda:0', grad_fn=<AddBackward0>)]\n",
      "4.363036338440027\n",
      "tensor(-135.6364, device='cuda:0', grad_fn=<NegBackward0>) [tensor(-37.5768, device='cuda:0', grad_fn=<NegBackward0>), tensor(-8.7915, device='cuda:0', grad_fn=<NegBackward0>), tensor(-89.2681, device='cuda:0', grad_fn=<AddBackward0>)]\n",
      "4.620977288358363\n",
      "tensor(-141.8302, device='cuda:0', grad_fn=<NegBackward0>) [tensor(-37.6420, device='cuda:0', grad_fn=<NegBackward0>), tensor(-10.8587, device='cuda:0', grad_fn=<NegBackward0>), tensor(-93.3295, device='cuda:0', grad_fn=<AddBackward0>)]\n",
      "4.758555061335538\n",
      "tensor(-135.0037, device='cuda:0', grad_fn=<NegBackward0>) [tensor(-37.6420, device='cuda:0', grad_fn=<NegBackward0>), tensor(-8.1281, device='cuda:0', grad_fn=<NegBackward0>), tensor(-89.2335, device='cuda:0', grad_fn=<AddBackward0>)]\n",
      "4.2776008482992935\n",
      "tensor(-135.4047, device='cuda:0', grad_fn=<NegBackward0>) [tensor(-37.6617, device='cuda:0', grad_fn=<NegBackward0>), tensor(-8.9693, device='cuda:0', grad_fn=<NegBackward0>), tensor(-88.7736, device='cuda:0', grad_fn=<AddBackward0>)]\n",
      "4.826844782901498\n",
      "tensor(-138.3294, device='cuda:0', grad_fn=<NegBackward0>) [tensor(-37.6617, device='cuda:0', grad_fn=<NegBackward0>), tensor(-9.3645, device='cuda:0', grad_fn=<NegBackward0>), tensor(-91.3032, device='cuda:0', grad_fn=<AddBackward0>)]\n",
      "4.619534924438935\n",
      "tensor(-136.5726, device='cuda:0', grad_fn=<NegBackward0>) [tensor(-37.7211, device='cuda:0', grad_fn=<NegBackward0>), tensor(-8.8738, device='cuda:0', grad_fn=<NegBackward0>), tensor(-89.9778, device='cuda:0', grad_fn=<AddBackward0>)]\n",
      "4.479067371062034\n",
      "tensor(-135.2982, device='cuda:0', grad_fn=<NegBackward0>) [tensor(-37.7211, device='cuda:0', grad_fn=<NegBackward0>), tensor(-8.8733, device='cuda:0', grad_fn=<NegBackward0>), tensor(-88.7038, device='cuda:0', grad_fn=<AddBackward0>)]\n",
      "4.852989688998574\n",
      "tensor(-138.1034, device='cuda:0', grad_fn=<NegBackward0>) [tensor(-37.7466, device='cuda:0', grad_fn=<NegBackward0>), tensor(-9.4997, device='cuda:0', grad_fn=<NegBackward0>), tensor(-90.8570, device='cuda:0', grad_fn=<AddBackward0>)]\n",
      "4.310125663706705\n",
      "tensor(-135.2657, device='cuda:0', grad_fn=<NegBackward0>) [tensor(-37.7466, device='cuda:0', grad_fn=<NegBackward0>), tensor(-8.8073, device='cuda:0', grad_fn=<NegBackward0>), tensor(-88.7118, device='cuda:0', grad_fn=<AddBackward0>)]\n",
      "4.408228994155906\n",
      "tensor(-138.3362, device='cuda:0', grad_fn=<NegBackward0>) [tensor(-37.7349, device='cuda:0', grad_fn=<NegBackward0>), tensor(-9.1175, device='cuda:0', grad_fn=<NegBackward0>), tensor(-91.4838, device='cuda:0', grad_fn=<AddBackward0>)]\n",
      "5.071120585178338\n",
      "tensor(-133.0319, device='cuda:0', grad_fn=<NegBackward0>) [tensor(-37.7349, device='cuda:0', grad_fn=<NegBackward0>), tensor(-7.0818, device='cuda:0', grad_fn=<NegBackward0>), tensor(-88.2152, device='cuda:0', grad_fn=<AddBackward0>)]\n",
      "4.9962749776060695\n",
      "tensor(-138.0896, device='cuda:0', grad_fn=<NegBackward0>) [tensor(-37.8231, device='cuda:0', grad_fn=<NegBackward0>), tensor(-9.1946, device='cuda:0', grad_fn=<NegBackward0>), tensor(-91.0719, device='cuda:0', grad_fn=<AddBackward0>)]\n",
      "4.673030439440058\n",
      "tensor(-140.0071, device='cuda:0', grad_fn=<NegBackward0>) [tensor(-37.8231, device='cuda:0', grad_fn=<NegBackward0>), tensor(-9.9243, device='cuda:0', grad_fn=<NegBackward0>), tensor(-92.2596, device='cuda:0', grad_fn=<AddBackward0>)]\n",
      "4.163120862910504\n",
      "tensor(-133.5800, device='cuda:0', grad_fn=<NegBackward0>) [tensor(-37.7836, device='cuda:0', grad_fn=<NegBackward0>), tensor(-8.6137, device='cuda:0', grad_fn=<NegBackward0>), tensor(-87.1828, device='cuda:0', grad_fn=<AddBackward0>)]\n",
      "4.47270998590723\n",
      "tensor(-133.8793, device='cuda:0', grad_fn=<NegBackward0>) [tensor(-37.7836, device='cuda:0', grad_fn=<NegBackward0>), tensor(-7.7135, device='cuda:0', grad_fn=<NegBackward0>), tensor(-88.3822, device='cuda:0', grad_fn=<AddBackward0>)]\n",
      "5.012876663456636\n",
      "tensor(-135.7053, device='cuda:0', grad_fn=<NegBackward0>) [tensor(-37.7391, device='cuda:0', grad_fn=<NegBackward0>), tensor(-8.1369, device='cuda:0', grad_fn=<NegBackward0>), tensor(-89.8294, device='cuda:0', grad_fn=<AddBackward0>)]\n",
      "4.38120544099383\n",
      "tensor(-136.1566, device='cuda:0', grad_fn=<NegBackward0>) [tensor(-37.7391, device='cuda:0', grad_fn=<NegBackward0>), tensor(-9.6032, device='cuda:0', grad_fn=<NegBackward0>), tensor(-88.8143, device='cuda:0', grad_fn=<AddBackward0>)]\n",
      "4.3681081823497845\n",
      "tensor(-136.0976, device='cuda:0', grad_fn=<NegBackward0>) [tensor(-37.6761, device='cuda:0', grad_fn=<NegBackward0>), tensor(-9.4411, device='cuda:0', grad_fn=<NegBackward0>), tensor(-88.9803, device='cuda:0', grad_fn=<AddBackward0>)]\n",
      "4.426919368993563\n",
      "tensor(-135.8572, device='cuda:0', grad_fn=<NegBackward0>) [tensor(-37.6761, device='cuda:0', grad_fn=<NegBackward0>), tensor(-8.7733, device='cuda:0', grad_fn=<NegBackward0>), tensor(-89.4077, device='cuda:0', grad_fn=<AddBackward0>)]\n"
     ]
    },
    {
     "name": "stdout",
     "output_type": "stream",
     "text": [
      "4.7992981175117375\n",
      "tensor(-135.8030, device='cuda:0', grad_fn=<NegBackward0>) [tensor(-37.6404, device='cuda:0', grad_fn=<NegBackward0>), tensor(-8.7714, device='cuda:0', grad_fn=<NegBackward0>), tensor(-89.3912, device='cuda:0', grad_fn=<AddBackward0>)]\n",
      "4.076325962498677\n",
      "tensor(-132.6723, device='cuda:0', grad_fn=<NegBackward0>) [tensor(-37.6404, device='cuda:0', grad_fn=<NegBackward0>), tensor(-7.4751, device='cuda:0', grad_fn=<NegBackward0>), tensor(-87.5568, device='cuda:0', grad_fn=<AddBackward0>)]\n",
      "4.74221951368323\n",
      "tensor(-138.4670, device='cuda:0', grad_fn=<NegBackward0>) [tensor(-37.7806, device='cuda:0', grad_fn=<NegBackward0>), tensor(-9.6201, device='cuda:0', grad_fn=<NegBackward0>), tensor(-91.0662, device='cuda:0', grad_fn=<AddBackward0>)]\n",
      "4.266035313553013\n",
      "tensor(-137.2348, device='cuda:0', grad_fn=<NegBackward0>) [tensor(-37.7806, device='cuda:0', grad_fn=<NegBackward0>), tensor(-10.3210, device='cuda:0', grad_fn=<NegBackward0>), tensor(-89.1331, device='cuda:0', grad_fn=<AddBackward0>)]\n",
      "4.5185438399953615\n",
      "tensor(-137.4111, device='cuda:0', grad_fn=<NegBackward0>) [tensor(-37.6547, device='cuda:0', grad_fn=<NegBackward0>), tensor(-8.9151, device='cuda:0', grad_fn=<NegBackward0>), tensor(-90.8413, device='cuda:0', grad_fn=<AddBackward0>)]\n",
      "4.771706920703717\n",
      "tensor(-134.3268, device='cuda:0', grad_fn=<NegBackward0>) [tensor(-37.6547, device='cuda:0', grad_fn=<NegBackward0>), tensor(-7.6558, device='cuda:0', grad_fn=<NegBackward0>), tensor(-89.0163, device='cuda:0', grad_fn=<AddBackward0>)]\n",
      "4.595195463015077\n",
      "tensor(-136.5854, device='cuda:0', grad_fn=<NegBackward0>) [tensor(-37.7013, device='cuda:0', grad_fn=<NegBackward0>), tensor(-9.4286, device='cuda:0', grad_fn=<NegBackward0>), tensor(-89.4555, device='cuda:0', grad_fn=<AddBackward0>)]\n",
      "99.90418441913592\n",
      "tensor(-128.4556, device='cuda:0', grad_fn=<NegBackward0>) [tensor(-37.7013, device='cuda:0', grad_fn=<NegBackward0>), tensor(-4.9591, device='cuda:0', grad_fn=<NegBackward0>), tensor(-85.7952, device='cuda:0', grad_fn=<AddBackward0>)]\n",
      "4.308117164324257\n",
      "tensor(-134.7561, device='cuda:0', grad_fn=<NegBackward0>) [tensor(-37.8851, device='cuda:0', grad_fn=<NegBackward0>), tensor(-8.6940, device='cuda:0', grad_fn=<NegBackward0>), tensor(-88.1770, device='cuda:0', grad_fn=<AddBackward0>)]\n",
      "4.67960114891104\n",
      "tensor(-132.3822, device='cuda:0', grad_fn=<NegBackward0>) [tensor(-37.8851, device='cuda:0', grad_fn=<NegBackward0>), tensor(-7.3723, device='cuda:0', grad_fn=<NegBackward0>), tensor(-87.1248, device='cuda:0', grad_fn=<AddBackward0>)]\n",
      "4.3666367116001545\n",
      "tensor(-139.6184, device='cuda:0', grad_fn=<NegBackward0>) [tensor(-37.9238, device='cuda:0', grad_fn=<NegBackward0>), tensor(-10.9731, device='cuda:0', grad_fn=<NegBackward0>), tensor(-90.7215, device='cuda:0', grad_fn=<AddBackward0>)]\n",
      "4.75470015978824\n",
      "tensor(-137.0603, device='cuda:0', grad_fn=<NegBackward0>) [tensor(-37.9238, device='cuda:0', grad_fn=<NegBackward0>), tensor(-8.6345, device='cuda:0', grad_fn=<NegBackward0>), tensor(-90.5020, device='cuda:0', grad_fn=<AddBackward0>)]\n",
      "4.88550872983691\n",
      "tensor(-132.4166, device='cuda:0', grad_fn=<NegBackward0>) [tensor(-37.8827, device='cuda:0', grad_fn=<NegBackward0>), tensor(-7.0251, device='cuda:0', grad_fn=<NegBackward0>), tensor(-87.5088, device='cuda:0', grad_fn=<AddBackward0>)]\n",
      "4.583630593712164\n",
      "tensor(-137.0341, device='cuda:0', grad_fn=<NegBackward0>) [tensor(-37.8827, device='cuda:0', grad_fn=<NegBackward0>), tensor(-9.3704, device='cuda:0', grad_fn=<NegBackward0>), tensor(-89.7810, device='cuda:0', grad_fn=<AddBackward0>)]\n",
      "4.586748727238092\n",
      "tensor(-128.7153, device='cuda:0', grad_fn=<NegBackward0>) [tensor(-37.8076, device='cuda:0', grad_fn=<NegBackward0>), tensor(-5.4214, device='cuda:0', grad_fn=<NegBackward0>), tensor(-85.4863, device='cuda:0', grad_fn=<AddBackward0>)]\n",
      "4.79363669658559\n",
      "tensor(-136.9308, device='cuda:0', grad_fn=<NegBackward0>) [tensor(-37.8076, device='cuda:0', grad_fn=<NegBackward0>), tensor(-8.6577, device='cuda:0', grad_fn=<NegBackward0>), tensor(-90.4655, device='cuda:0', grad_fn=<AddBackward0>)]\n",
      "4.560116873746332\n",
      "tensor(-133.5459, device='cuda:0', grad_fn=<NegBackward0>) [tensor(-37.7999, device='cuda:0', grad_fn=<NegBackward0>), tensor(-7.9795, device='cuda:0', grad_fn=<NegBackward0>), tensor(-87.7664, device='cuda:0', grad_fn=<AddBackward0>)]\n",
      "4.865467168732836\n",
      "tensor(-137.1330, device='cuda:0', grad_fn=<NegBackward0>) [tensor(-37.7999, device='cuda:0', grad_fn=<NegBackward0>), tensor(-8.9705, device='cuda:0', grad_fn=<NegBackward0>), tensor(-90.3625, device='cuda:0', grad_fn=<AddBackward0>)]\n",
      "4.907663694444179\n",
      "tensor(-138.3645, device='cuda:0', grad_fn=<NegBackward0>) [tensor(-37.8405, device='cuda:0', grad_fn=<NegBackward0>), tensor(-9.3707, device='cuda:0', grad_fn=<NegBackward0>), tensor(-91.1533, device='cuda:0', grad_fn=<AddBackward0>)]\n",
      "4.827981463015352\n",
      "tensor(-136.7694, device='cuda:0', grad_fn=<NegBackward0>) [tensor(-37.8405, device='cuda:0', grad_fn=<NegBackward0>), tensor(-8.8348, device='cuda:0', grad_fn=<NegBackward0>), tensor(-90.0942, device='cuda:0', grad_fn=<AddBackward0>)]\n",
      "99.93890727814752\n",
      "tensor(-127.4500, device='cuda:0', grad_fn=<NegBackward0>) [tensor(-37.7737, device='cuda:0', grad_fn=<NegBackward0>), tensor(-4.4014, device='cuda:0', grad_fn=<NegBackward0>), tensor(-85.2750, device='cuda:0', grad_fn=<AddBackward0>)]\n",
      "4.063105377114633\n",
      "tensor(-137.3362, device='cuda:0', grad_fn=<NegBackward0>) [tensor(-37.7737, device='cuda:0', grad_fn=<NegBackward0>), tensor(-10.2297, device='cuda:0', grad_fn=<NegBackward0>), tensor(-89.3327, device='cuda:0', grad_fn=<AddBackward0>)]\n",
      "4.331106292380986\n",
      "tensor(-133.4458, device='cuda:0', grad_fn=<NegBackward0>) [tensor(-37.6518, device='cuda:0', grad_fn=<NegBackward0>), tensor(-7.9488, device='cuda:0', grad_fn=<NegBackward0>), tensor(-87.8452, device='cuda:0', grad_fn=<AddBackward0>)]\n",
      "4.389574799521321\n",
      "tensor(-138.2216, device='cuda:0', grad_fn=<NegBackward0>) [tensor(-37.6518, device='cuda:0', grad_fn=<NegBackward0>), tensor(-9.9021, device='cuda:0', grad_fn=<NegBackward0>), tensor(-90.6677, device='cuda:0', grad_fn=<AddBackward0>)]\n",
      "4.714820623364461\n",
      "tensor(-136.0391, device='cuda:0', grad_fn=<NegBackward0>) [tensor(-37.6105, device='cuda:0', grad_fn=<NegBackward0>), tensor(-8.5166, device='cuda:0', grad_fn=<NegBackward0>), tensor(-89.9120, device='cuda:0', grad_fn=<AddBackward0>)]\n",
      "4.105464416985868\n",
      "tensor(-133.7520, device='cuda:0', grad_fn=<NegBackward0>) [tensor(-37.6105, device='cuda:0', grad_fn=<NegBackward0>), tensor(-8.5471, device='cuda:0', grad_fn=<NegBackward0>), tensor(-87.5943, device='cuda:0', grad_fn=<AddBackward0>)]\n",
      "4.95257426047951\n",
      "tensor(-134.8901, device='cuda:0', grad_fn=<NegBackward0>) [tensor(-37.5545, device='cuda:0', grad_fn=<NegBackward0>), tensor(-8.3364, device='cuda:0', grad_fn=<NegBackward0>), tensor(-88.9991, device='cuda:0', grad_fn=<AddBackward0>)]\n",
      "4.414807675578629\n",
      "tensor(-136.8582, device='cuda:0', grad_fn=<NegBackward0>) [tensor(-37.5545, device='cuda:0', grad_fn=<NegBackward0>), tensor(-9.8333, device='cuda:0', grad_fn=<NegBackward0>), tensor(-89.4704, device='cuda:0', grad_fn=<AddBackward0>)]\n",
      "4.088617267553216\n",
      "tensor(-136.3024, device='cuda:0', grad_fn=<NegBackward0>) [tensor(-37.5494, device='cuda:0', grad_fn=<NegBackward0>), tensor(-9.8051, device='cuda:0', grad_fn=<NegBackward0>), tensor(-88.9479, device='cuda:0', grad_fn=<AddBackward0>)]\n",
      "4.6191022512264635\n",
      "tensor(-135.4430, device='cuda:0', grad_fn=<NegBackward0>) [tensor(-37.5494, device='cuda:0', grad_fn=<NegBackward0>), tensor(-8.5247, device='cuda:0', grad_fn=<NegBackward0>), tensor(-89.3689, device='cuda:0', grad_fn=<AddBackward0>)]\n",
      "4.7143169121930155\n",
      "tensor(-139.1843, device='cuda:0', grad_fn=<NegBackward0>) [tensor(-37.6641, device='cuda:0', grad_fn=<NegBackward0>), tensor(-10.2657, device='cuda:0', grad_fn=<NegBackward0>), tensor(-91.2546, device='cuda:0', grad_fn=<AddBackward0>)]\n",
      "4.661121789184806\n",
      "tensor(-136.3662, device='cuda:0', grad_fn=<NegBackward0>) [tensor(-37.6641, device='cuda:0', grad_fn=<NegBackward0>), tensor(-9.6717, device='cuda:0', grad_fn=<NegBackward0>), tensor(-89.0305, device='cuda:0', grad_fn=<AddBackward0>)]\n",
      "3.941800422445166\n",
      "tensor(-136.5549, device='cuda:0', grad_fn=<NegBackward0>) [tensor(-37.6673, device='cuda:0', grad_fn=<NegBackward0>), tensor(-10.4659, device='cuda:0', grad_fn=<NegBackward0>), tensor(-88.4217, device='cuda:0', grad_fn=<AddBackward0>)]\n"
     ]
    },
    {
     "name": "stdout",
     "output_type": "stream",
     "text": [
      "4.437386052149896\n",
      "tensor(-139.1110, device='cuda:0', grad_fn=<NegBackward0>) [tensor(-37.6673, device='cuda:0', grad_fn=<NegBackward0>), tensor(-10.7871, device='cuda:0', grad_fn=<NegBackward0>), tensor(-90.6566, device='cuda:0', grad_fn=<AddBackward0>)]\n",
      "4.485191705169198\n",
      "tensor(-134.1704, device='cuda:0', grad_fn=<NegBackward0>) [tensor(-37.5760, device='cuda:0', grad_fn=<NegBackward0>), tensor(-8.5618, device='cuda:0', grad_fn=<NegBackward0>), tensor(-88.0327, device='cuda:0', grad_fn=<AddBackward0>)]\n",
      "4.1573171881294115\n",
      "tensor(-135.4449, device='cuda:0', grad_fn=<NegBackward0>) [tensor(-37.5760, device='cuda:0', grad_fn=<NegBackward0>), tensor(-9.1047, device='cuda:0', grad_fn=<NegBackward0>), tensor(-88.7643, device='cuda:0', grad_fn=<AddBackward0>)]\n",
      "4.478673111646959\n",
      "tensor(-134.9864, device='cuda:0', grad_fn=<NegBackward0>) [tensor(-37.5137, device='cuda:0', grad_fn=<NegBackward0>), tensor(-8.6914, device='cuda:0', grad_fn=<NegBackward0>), tensor(-88.7813, device='cuda:0', grad_fn=<AddBackward0>)]\n",
      "4.771849627342191\n",
      "tensor(-136.8866, device='cuda:0', grad_fn=<NegBackward0>) [tensor(-37.5137, device='cuda:0', grad_fn=<NegBackward0>), tensor(-9.1861, device='cuda:0', grad_fn=<NegBackward0>), tensor(-90.1869, device='cuda:0', grad_fn=<AddBackward0>)]\n",
      "4.208381608477906\n",
      "tensor(-135.3614, device='cuda:0', grad_fn=<NegBackward0>) [tensor(-37.6093, device='cuda:0', grad_fn=<NegBackward0>), tensor(-9.2588, device='cuda:0', grad_fn=<NegBackward0>), tensor(-88.4932, device='cuda:0', grad_fn=<AddBackward0>)]\n",
      "4.361218648504618\n",
      "tensor(-138.0182, device='cuda:0', grad_fn=<NegBackward0>) [tensor(-37.6093, device='cuda:0', grad_fn=<NegBackward0>), tensor(-10.3166, device='cuda:0', grad_fn=<NegBackward0>), tensor(-90.0923, device='cuda:0', grad_fn=<AddBackward0>)]\n",
      "4.6024024316629495\n",
      "tensor(-135.0704, device='cuda:0', grad_fn=<NegBackward0>) [tensor(-37.6058, device='cuda:0', grad_fn=<NegBackward0>), tensor(-8.8657, device='cuda:0', grad_fn=<NegBackward0>), tensor(-88.5989, device='cuda:0', grad_fn=<AddBackward0>)]\n",
      "4.939741445537894\n",
      "tensor(-134.3969, device='cuda:0', grad_fn=<NegBackward0>) [tensor(-37.6058, device='cuda:0', grad_fn=<NegBackward0>), tensor(-7.9533, device='cuda:0', grad_fn=<NegBackward0>), tensor(-88.8379, device='cuda:0', grad_fn=<AddBackward0>)]\n",
      "4.848484270381459\n",
      "tensor(-135.8815, device='cuda:0', grad_fn=<NegBackward0>) [tensor(-37.6819, device='cuda:0', grad_fn=<NegBackward0>), tensor(-8.4726, device='cuda:0', grad_fn=<NegBackward0>), tensor(-89.7270, device='cuda:0', grad_fn=<AddBackward0>)]\n"
     ]
    }
   ],
   "source": [
    "# data selected\n",
    "mean_V = []\n",
    "n_dis2 = 1\n",
    "n_dis = 1\n",
    "mode = 1\n",
    "gam3 = 1\n",
    "mcr_gan_loss = MCRGANloss(gam1=1., gam2=1., gam3=gam3, eps=0.5, numclasses=numclasses, mode=mode, rho=None)\n",
    "loss_V = 0\n",
    "last_V = -1000\n",
    "num_steps = 500\n",
    "lr1 = 1e-3\n",
    "lr2 = 1e-3\n",
    "optD = optim.Adam(netD.parameters(), lr1, betas=(0.5, 0.999))\n",
    "optG = optim.Adam(netG.parameters(), lr2, betas=(0.5, 0.999))\n",
    "meanV_sum = []\n",
    "radius_list = []\n",
    "radius = 1\n",
    "\n",
    "for epoch in range(num_steps):\n",
    "    if 1==1:\n",
    "        \n",
    "        #radius,_ = gs_radius(radius1=0,radius2=100,netD=netD,real_cpu=real_cpu,real_label=real_label,tor=1e-5,n_dis=2,lam=0.618,mode=mode)\n",
    "        #radius_list.append(radius)\n",
    "        #print(radius)\n",
    "\n",
    "        for i in range(n_dis):\n",
    "            netD.zero_grad()\n",
    "            optD.zero_grad()\n",
    "            Z = netD(real_cpu)\n",
    "            net_noise = get_noise(DATASET, device, LABEL)\n",
    "            radius,_ = gs_radius(radius1=0,radius2=100,netD=netD,real_cpu=real_cpu,real_label=real_label,tor=1e-5,n_dis=2,lam=0.618,mode=mode)\n",
    "            radius_list.append(radius)\n",
    "            print(radius)\n",
    "            fed_state_dict = get_netG(netD,netV,net_noise,radius)\n",
    "            netG.load_state_dict(fed_state_dict)\n",
    "            Z_bar = netG(real_cpu)\n",
    "            errD, errD_EC = mcr_gan_loss(Z, Z_bar, real_label, 1, n_dis)\n",
    "            print(errD, errD_EC)\n",
    "            errD.backward()\n",
    "            optD.step()\n",
    "        temp = 0\n",
    "        for j in range(n_dis2):\n",
    "            netG.zero_grad()\n",
    "            optG.zero_grad()\n",
    "            Z = netD(real_cpu)\n",
    "            net_noise = get_noise(DATASET, device, LABEL)\n",
    "            radius,_ = gs_radius(radius1=0,radius2=100,netD=netD,real_cpu=real_cpu,real_label=real_label,tor=1e-5,n_dis=2,lam=0.618,mode=mode)\n",
    "            radius_list.append(radius)\n",
    "            print(radius)\n",
    "            fed_state_dict = get_netG(netD,netV,net_noise,radius)\n",
    "            netG.load_state_dict(fed_state_dict)\n",
    "            Z_bar = netG(real_cpu)\n",
    "            errG, errG_EC = mcr_gan_loss(Z, Z_bar, real_label, n_dis2 - 1, n_dis2)\n",
    "            print(errG, errG_EC)\n",
    "            temp = errG\n",
    "            errG = (-1) * errG\n",
    "            errG.backward()\n",
    "            optG.step()\n",
    "\n",
    "            update_dic = update_netV(netV,netG,net_noise,fed_state_dict,radius)\n",
    "            netV.load_state_dict(update_dic)\n",
    "\n",
    "        loss_V = temp\n",
    "        "
   ]
  },
  {
   "cell_type": "code",
   "execution_count": 8,
   "id": "58be30d1",
   "metadata": {},
   "outputs": [
    {
     "data": {
      "text/plain": [
       "[3.282375793727554,\n",
       " 6.488447413775416,\n",
       " 99.82392378319837,\n",
       " 5.344039752619411,\n",
       " 3.8205333949024785,\n",
       " 5.423148589524126,\n",
       " 4.6679619660578515,\n",
       " 56.50843091451363,\n",
       " 5.391165683725408,\n",
       " 99.98929168049867,\n",
       " 4.480202657651448,\n",
       " 23.071767772777452,\n",
       " 5.004841595302742,\n",
       " 4.2301240657062795,\n",
       " 96.63011105396785,\n",
       " 4.294531497061677,\n",
       " 4.745426723573208,\n",
       " 4.176329749390307,\n",
       " 4.260300465272114,\n",
       " 4.445545864164093,\n",
       " 4.372593014181479,\n",
       " 4.320363291177695,\n",
       " 4.304603071534016,\n",
       " 4.466560587976187,\n",
       " 4.595281610308871,\n",
       " 4.228231947313837,\n",
       " 5.019819347728403,\n",
       " 4.656077731985817,\n",
       " 4.283274292114414,\n",
       " 4.408046746943414,\n",
       " 5.058305558665332,\n",
       " 4.632350314433494,\n",
       " 4.887804185854826,\n",
       " 4.767682891137489,\n",
       " 4.272326562444623,\n",
       " 4.316193392957392,\n",
       " 4.525807276443729,\n",
       " 4.493419173583986,\n",
       " 4.752893029350199,\n",
       " 5.112037204595058,\n",
       " 4.486664598898719,\n",
       " 4.621099912950416,\n",
       " 4.446457313963167,\n",
       " 4.640028458585327,\n",
       " 4.418528072524913,\n",
       " 5.0349942255894025,\n",
       " 4.657269004993109,\n",
       " 4.635664305321241,\n",
       " 4.521050418599569,\n",
       " 4.812971615816352,\n",
       " 4.443618686858152,\n",
       " 4.446547150439361,\n",
       " 4.471732811593618,\n",
       " 4.434868008336233,\n",
       " 5.1876749330332546,\n",
       " 4.869041107430258,\n",
       " 4.770801141825839,\n",
       " 4.688521609157553,\n",
       " 4.673996559128226,\n",
       " 4.823899057622651,\n",
       " 4.957036636712786,\n",
       " 4.439909770561423,\n",
       " 5.384475631994357,\n",
       " 4.629284400936282,\n",
       " 4.961114982256463,\n",
       " 4.818624152819601,\n",
       " 99.7242071680044,\n",
       " 4.491202677262305,\n",
       " 4.933158802825391,\n",
       " 5.065740631611357,\n",
       " 5.025017425250346,\n",
       " 4.962916079389866,\n",
       " 4.803837337969379,\n",
       " 4.6210629926514395,\n",
       " 4.525733080630706,\n",
       " 4.362775359661702,\n",
       " 4.7947025522195945,\n",
       " 4.988547305966232,\n",
       " 4.895509333180177,\n",
       " 4.878364539632297,\n",
       " 4.974701964691509,\n",
       " 4.586240514492371,\n",
       " 4.506484266269787,\n",
       " 5.2675557387965215,\n",
       " 4.366944721399344,\n",
       " 4.376359309788206,\n",
       " 5.522006472021178,\n",
       " 4.46218906608885,\n",
       " 4.509907452989623,\n",
       " 4.819202460101729,\n",
       " 4.594398025229423,\n",
       " 4.517199046370685,\n",
       " 5.337318433546192,\n",
       " 4.73669818047021,\n",
       " 4.563213906967151,\n",
       " 5.115473257949555,\n",
       " 4.475444774496625,\n",
       " 5.173133376369131,\n",
       " 4.838807268591262,\n",
       " 4.418038226272377,\n",
       " 4.739100687669477,\n",
       " 4.687787129305302,\n",
       " 5.014495360960121,\n",
       " 4.945733742141431,\n",
       " 4.546512765497429,\n",
       " 4.3911197932748705,\n",
       " 4.69445187723948,\n",
       " 5.132274725632684,\n",
       " 4.40374791826355,\n",
       " 4.68275452409718,\n",
       " 4.401201938194519,\n",
       " 4.407236547766431,\n",
       " 4.477392815467146,\n",
       " 4.725121550323444,\n",
       " 4.667018969140503,\n",
       " 4.383615251957447,\n",
       " 5.000759672462078,\n",
       " 4.516143151971588,\n",
       " 4.6141323546887625,\n",
       " 4.392097501028203,\n",
       " 4.77178028136432,\n",
       " 4.748820146977652,\n",
       " 4.807548976318454,\n",
       " 4.821083063943052,\n",
       " 4.629282807512572,\n",
       " 4.8517382676167795,\n",
       " 4.473170300046708,\n",
       " 4.638444792362152,\n",
       " 4.659747611983914,\n",
       " 4.569229635683775,\n",
       " 4.877430625366114,\n",
       " 4.093066216300167,\n",
       " 4.435230890706327,\n",
       " 4.2957258136892404,\n",
       " 4.400713905566676,\n",
       " 4.5427950659437295,\n",
       " 4.4887408160198845,\n",
       " 4.335504152681156,\n",
       " 4.407463646901837,\n",
       " 4.411913196925,\n",
       " 5.086291756145869,\n",
       " 4.736070815384242,\n",
       " 4.718905721147729,\n",
       " 4.644057762883282,\n",
       " 4.3681909025928105,\n",
       " 4.028805487837197,\n",
       " 4.60997529509405,\n",
       " 4.429530590385403,\n",
       " 4.389570667565444,\n",
       " 4.200022189937884,\n",
       " 4.224741951241351,\n",
       " 4.870568919212108,\n",
       " 4.121314146839007,\n",
       " 4.2867285622609606,\n",
       " 4.412516483724541,\n",
       " 4.339253567913183,\n",
       " 4.887807881584419,\n",
       " 4.697512327512257,\n",
       " 4.313529439207257,\n",
       " 23.09109327069176,\n",
       " 4.34281347295327,\n",
       " 4.1455924903176244,\n",
       " 4.536096346486161,\n",
       " 4.765684103660854,\n",
       " 4.674540117700039,\n",
       " 4.292133159133847,\n",
       " 4.598171060825538,\n",
       " 4.6503819698325515,\n",
       " 4.513900742158409,\n",
       " 4.243182777825497,\n",
       " 4.2338793867886935,\n",
       " 99.61554843097345,\n",
       " 4.108430980279895,\n",
       " 4.354969941861899,\n",
       " 4.239836561122304,\n",
       " 4.6079050730121605,\n",
       " 4.555993990537793,\n",
       " 4.532471463780953,\n",
       " 4.34113991324745,\n",
       " 4.559358992632393,\n",
       " 4.89253151967406,\n",
       " 4.380496968527872,\n",
       " 4.5931147394448715,\n",
       " 4.34330206351988,\n",
       " 4.8056201090179,\n",
       " 4.970241166198452,\n",
       " 4.784526471577574,\n",
       " 4.5591251041740515,\n",
       " 4.66678365722412,\n",
       " 4.062522305006101,\n",
       " 3.9804702964982,\n",
       " 4.56352540971139,\n",
       " 4.202176698826556,\n",
       " 4.380849996940237,\n",
       " 4.111108526128751,\n",
       " 4.6011802910364406,\n",
       " 4.317388664288725,\n",
       " 4.566643542053939,\n",
       " 4.152075578057821,\n",
       " 4.027331191941031,\n",
       " 4.374701908649307,\n",
       " 4.438684497034769,\n",
       " 4.29563824543331,\n",
       " 4.382603902255811,\n",
       " 4.657475977126915,\n",
       " 4.420171988703338,\n",
       " 4.658189659759955,\n",
       " 4.597237973154456,\n",
       " 4.334485678442465,\n",
       " 4.255571916863909,\n",
       " 4.130927083247887,\n",
       " 4.053922538663893,\n",
       " 4.4892070817791945,\n",
       " 4.202995916384162,\n",
       " 4.350304134579066,\n",
       " 4.093075226587826,\n",
       " 4.0661041526292045,\n",
       " 4.012316598162484,\n",
       " 4.371540903210638,\n",
       " 4.388605805339624,\n",
       " 4.307150383934257,\n",
       " 4.359061960270193,\n",
       " 3.7683368462044613,\n",
       " 4.201775682904605,\n",
       " 4.353049158500529,\n",
       " 4.21513947433489,\n",
       " 5.279199936394993,\n",
       " 4.410956878987844,\n",
       " 3.960003184171195,\n",
       " 4.031043482318222,\n",
       " 4.361046444830733,\n",
       " 4.02181829804338,\n",
       " 4.4696851696772715,\n",
       " 4.484652121876835,\n",
       " 4.350897183892445,\n",
       " 4.3854023980027605,\n",
       " 4.332102958693405,\n",
       " 3.872685334314974,\n",
       " 4.317261948507747,\n",
       " 4.079449265406906,\n",
       " 4.548428139813731,\n",
       " 4.465366524424441,\n",
       " 3.5953359723000173,\n",
       " 4.236943718829384,\n",
       " 4.34687152115431,\n",
       " 4.150495286788394,\n",
       " 4.486379807920494,\n",
       " 4.482671258554779,\n",
       " 3.9034831672797083,\n",
       " 4.539536084410098,\n",
       " 4.428251898049503,\n",
       " 4.228683847729346,\n",
       " 4.415095447435871,\n",
       " 4.465778477149779,\n",
       " 3.810972366116547,\n",
       " 4.078257518484065,\n",
       " 4.122243683069802,\n",
       " 4.113489587439664,\n",
       " 4.041482859349699,\n",
       " 3.872242664553489,\n",
       " 4.424515967638365,\n",
       " 3.9323068769136644,\n",
       " 4.1610936820400415,\n",
       " 4.220522937003665,\n",
       " 4.263634635174369,\n",
       " 4.34488237192426,\n",
       " 4.639012094303697,\n",
       " 3.9231742287458875,\n",
       " 3.945201996901991,\n",
       " 3.764250095774472,\n",
       " 3.66389685782173,\n",
       " 3.9898357268005302,\n",
       " 4.2032643530064355,\n",
       " 4.052061317356401,\n",
       " 4.046775071929599,\n",
       " 4.134272844581197,\n",
       " 4.066011085739544,\n",
       " 4.181117601771255,\n",
       " 3.992324233512661,\n",
       " 4.459361225980605,\n",
       " 4.246952350531378,\n",
       " 3.9953371091015835,\n",
       " 4.141114325821509,\n",
       " 4.3960572299664085,\n",
       " 3.989606033492671,\n",
       " 4.222565987080864,\n",
       " 4.139805873906458,\n",
       " 4.588675733025788,\n",
       " 4.201804524846909,\n",
       " 3.917502181258445,\n",
       " 4.138357320970592,\n",
       " 4.392099618557399,\n",
       " 3.916000657654872,\n",
       " 3.9832293647873582,\n",
       " 4.162998986754257,\n",
       " 3.9835984054343543,\n",
       " 4.298018826956251,\n",
       " 4.528642632299937,\n",
       " 4.396176287677968,\n",
       " 4.122621711836419,\n",
       " 4.395214993396166,\n",
       " 3.9134494845834125,\n",
       " 4.239343604150134,\n",
       " 4.4112236373376685,\n",
       " 4.070685735622799,\n",
       " 3.99740513826346,\n",
       " 4.280122407798909,\n",
       " 4.372787682689736,\n",
       " 4.216468005463758,\n",
       " 69.07841040391126,\n",
       " 3.8930272016301046,\n",
       " 4.143628555648035,\n",
       " 4.30150855330046,\n",
       " 3.8422870672198637,\n",
       " 4.557569462573883,\n",
       " 3.9437273273974265,\n",
       " 4.546245721775485,\n",
       " 4.172226066035371,\n",
       " 4.256835496688953,\n",
       " 26.21703407169316,\n",
       " 4.699910752456732,\n",
       " 4.400855101798889,\n",
       " 4.085427170254791,\n",
       " 5.319047103400727,\n",
       " 4.0631132074610985,\n",
       " 4.093685716470636,\n",
       " 4.354513028729128,\n",
       " 4.3042555483344955,\n",
       " 3.769297712332179,\n",
       " 4.07216140383524,\n",
       " 3.8218757418502776,\n",
       " 4.206853400418046,\n",
       " 4.099649231842962,\n",
       " 3.9060977431576065,\n",
       " 4.357872991879737,\n",
       " 3.7230528193423846,\n",
       " 3.8368920622926335,\n",
       " 3.8971952523561417,\n",
       " 4.143618440431664,\n",
       " 4.2187319734011846,\n",
       " 3.9213268004016815,\n",
       " 4.0829336446502635,\n",
       " 4.685272386255839,\n",
       " 4.653467546181619,\n",
       " 4.019701972836316,\n",
       " 4.5575682454117805,\n",
       " 4.452119390539649,\n",
       " 4.221957923732047,\n",
       " 3.460047357011702,\n",
       " 4.230017708364613,\n",
       " 3.89592338901414,\n",
       " 4.5742355457732,\n",
       " 4.283580689774337,\n",
       " 3.7306252451062174,\n",
       " 4.036025009762799,\n",
       " 4.555872382107999,\n",
       " 3.878468782300359,\n",
       " 4.420092964189905,\n",
       " 4.106659282993501,\n",
       " 3.6833065072378774,\n",
       " 3.642511376827338,\n",
       " 4.210932014673703,\n",
       " 3.7607604952478235,\n",
       " 4.332017550431166,\n",
       " 3.895548272941955,\n",
       " 3.991114055274302,\n",
       " 4.104361522524259,\n",
       " 4.046722095922196,\n",
       " 3.998185173946056,\n",
       " 4.739698977617841,\n",
       " 3.9109222750263983,\n",
       " 3.922570658348178,\n",
       " 3.8412258592112725,\n",
       " 3.892090997408789,\n",
       " 4.4717477675425785,\n",
       " 3.7811796378306486,\n",
       " 3.648212110242021,\n",
       " 3.8623793016943457,\n",
       " 4.308718140375919,\n",
       " 4.054921240322326,\n",
       " 3.8426804991491856,\n",
       " 4.0309865398239575,\n",
       " 4.186044306125789,\n",
       " 4.322064838177151,\n",
       " 3.988908605534841,\n",
       " 4.010825847448386,\n",
       " 4.21343878547824,\n",
       " 4.017463227921312,\n",
       " 4.430708742051912,\n",
       " 4.525507927311581,\n",
       " 3.9929220873215314,\n",
       " 4.260302921747071,\n",
       " 99.92573666438986,\n",
       " 3.9586746444362615,\n",
       " 3.508987081932658,\n",
       " 3.922811834986873,\n",
       " 4.126135269426032,\n",
       " 3.7452560417324317,\n",
       " 4.3553444029511175,\n",
       " 3.9176173629689766,\n",
       " 3.638429989806098,\n",
       " 4.1153199255861415,\n",
       " 3.6862877673825394,\n",
       " 4.681565555706724,\n",
       " 4.138127375391147,\n",
       " 4.152357464123326,\n",
       " 3.7964266577902497,\n",
       " 4.26444017600089,\n",
       " 4.288252679223988,\n",
       " 4.089457482619715,\n",
       " 4.26787630784197,\n",
       " 4.2238904148569585,\n",
       " 4.438945583695242,\n",
       " 4.268922645912787,\n",
       " 3.616538958374929,\n",
       " 3.9451466654506895,\n",
       " 4.032290159986747,\n",
       " 4.368387882298251,\n",
       " 4.6959552085410845,\n",
       " 3.5457688078989573,\n",
       " 3.9536810788858725,\n",
       " 4.166115699984354,\n",
       " 4.633367584303609,\n",
       " 3.8137245845697127,\n",
       " 4.009457256559388,\n",
       " 4.042696096735498,\n",
       " 4.166938832888703,\n",
       " 4.471815082478875,\n",
       " 4.1800672684335085,\n",
       " 4.103518563328718,\n",
       " 4.103143797036497,\n",
       " 3.9414349297342977,\n",
       " 3.8717256239151094,\n",
       " 4.260666593459421,\n",
       " 4.44481658073247,\n",
       " 4.799791062513078,\n",
       " 4.3417416344932995,\n",
       " 4.4135667372369545,\n",
       " 3.9933215909171373,\n",
       " 4.336925075596691,\n",
       " 4.1455604742201455,\n",
       " 4.384369205102383,\n",
       " 3.8646596677169573,\n",
       " 4.505821718564835,\n",
       " 4.02303477655142,\n",
       " 3.8792132389034784,\n",
       " 4.303978159550059,\n",
       " 4.04380885150865,\n",
       " 3.4990917563288115,\n",
       " 3.9146934461136413,\n",
       " 4.550868946146712,\n",
       " 3.720163013415054,\n",
       " 4.403289999841172,\n",
       " 4.136331349700173,\n",
       " 4.361641734561936,\n",
       " 4.082863156210634,\n",
       " 4.073203907735719,\n",
       " 4.423063241642023,\n",
       " 3.683110657916103,\n",
       " 4.439313829485893,\n",
       " 5.344206603214262,\n",
       " 4.262631143328883,\n",
       " 4.171896169610839,\n",
       " 3.9954742449672147,\n",
       " 4.326373917676659,\n",
       " 4.230927489540501,\n",
       " 3.800510236790219,\n",
       " 4.223205387984862,\n",
       " 4.017252117508459,\n",
       " 3.8837140527869547,\n",
       " 3.8356993697850474,\n",
       " 3.912246924663814,\n",
       " 4.773885964517842,\n",
       " 4.490798976203887,\n",
       " 4.499999892338775,\n",
       " 4.04411831840819,\n",
       " 4.0961804408036295,\n",
       " 4.743048601489609,\n",
       " 4.299208838686877,\n",
       " 4.640885024620528,\n",
       " 4.281399712703008,\n",
       " 4.018563231972442,\n",
       " 4.020705348061085,\n",
       " 4.303886391467921,\n",
       " 3.962730166838595,\n",
       " 3.979287163052949,\n",
       " 4.991664402547543,\n",
       " 3.937926132140399,\n",
       " 4.07261573118551,\n",
       " 4.2779023014274085,\n",
       " 4.223780721971383,\n",
       " 4.124177375692471,\n",
       " 4.486156701759704,\n",
       " 3.8409892103842096,\n",
       " 3.728095542428074,\n",
       " 4.019106158597735,\n",
       " 4.1587691282737,\n",
       " 4.379153223224475,\n",
       " 4.047729143170503,\n",
       " 4.180149719997709,\n",
       " 4.143826796305634,\n",
       " 4.465223655208846,\n",
       " 4.189412316495894,\n",
       " 4.287322581555163,\n",
       " 4.257635077400569,\n",
       " 4.068535411808811,\n",
       " 4.243971637748051,\n",
       " 4.0427909745025525,\n",
       " 4.176432591367438,\n",
       " 4.352425620471942,\n",
       " 99.68961446208571,\n",
       " 3.950190164339492,\n",
       " 4.034956458017761,\n",
       " 3.7657941091593146,\n",
       " 4.334542872332156,\n",
       " 4.268240888085564,\n",
       " 3.8104090121388503,\n",
       " 3.9733975066056444,\n",
       " 4.2662961357021585,\n",
       " 4.057409941391164,\n",
       " 4.277965121040921,\n",
       " 4.5817017275949885,\n",
       " 4.460263934663193,\n",
       " 4.444499096748995,\n",
       " 4.096032054218115,\n",
       " 4.26533781567639,\n",
       " 3.596410906234206,\n",
       " 3.6795984447207544,\n",
       " 3.9980011969493687,\n",
       " 4.204559270433726,\n",
       " 4.446655416988469,\n",
       " 4.215182064561585,\n",
       " 4.337801853865787,\n",
       " 4.289655370346126,\n",
       " 4.2067320708973,\n",
       " 4.1587698340010375,\n",
       " 4.256304224052789,\n",
       " 3.938141291458699,\n",
       " 4.318438218620993,\n",
       " 4.21753100926504,\n",
       " 4.331831608398279,\n",
       " 4.055003489574028,\n",
       " 4.484132067223089,\n",
       " 4.313756685386007,\n",
       " 4.39870127422835,\n",
       " 3.8740810945230937,\n",
       " 4.225086357089798,\n",
       " 4.551923360588544,\n",
       " 3.887974126574787,\n",
       " 4.048350328415483,\n",
       " 3.7661788713679396,\n",
       " 3.848327432918025,\n",
       " 4.30159638181036,\n",
       " 4.5038798627581125,\n",
       " 4.424099694520917,\n",
       " 4.0162741203449475,\n",
       " 3.8741944302198603,\n",
       " 4.232020235221169,\n",
       " 3.972576990188273,\n",
       " 4.031050980564718,\n",
       " 4.058202422576123,\n",
       " 4.067569965118236,\n",
       " 4.2502089933182345,\n",
       " 4.468259522800829,\n",
       " 4.193276630431007,\n",
       " 4.481168296087826,\n",
       " 4.430127823843381,\n",
       " 4.337291249090399,\n",
       " 4.0730350371682995,\n",
       " 4.257775605675549,\n",
       " 3.973674485371117,\n",
       " 4.337430850086835,\n",
       " 4.648139123569731,\n",
       " 3.905949653344413,\n",
       " 4.383309147608442,\n",
       " 4.581161428753735,\n",
       " 4.759515988070267,\n",
       " 4.432927959420588,\n",
       " 3.72964321736836,\n",
       " 4.734791346957218,\n",
       " 3.933807153106682,\n",
       " 4.017235413613512,\n",
       " 3.8238184313517767,\n",
       " 3.976622686941689,\n",
       " 4.267842816241228,\n",
       " 4.111304491381156,\n",
       " 4.120462907485046,\n",
       " 4.334540476054839,\n",
       " 4.079275876210205,\n",
       " 4.238964771074835,\n",
       " 4.476566994033312,\n",
       " 4.12618936698899,\n",
       " 4.1298078198813215,\n",
       " 3.8842895288167605,\n",
       " 4.75855479180133,\n",
       " 4.195532035349129,\n",
       " 4.531129140945127,\n",
       " 4.420680566431084,\n",
       " 4.063701586868989,\n",
       " 4.544681127449312,\n",
       " 4.9142324209169255,\n",
       " 3.693619819913398,\n",
       " 4.612551209530837,\n",
       " 4.174454833272565,\n",
       " 4.292829329755963,\n",
       " 4.145553351667025,\n",
       " 4.178312613217303,\n",
       " 4.356229084615453,\n",
       " 3.9193056740794243,\n",
       " 3.9181289183288164,\n",
       " 4.184267599142835,\n",
       " 3.9616197197486533,\n",
       " 4.36989517155774,\n",
       " 4.338613427591402,\n",
       " 4.145554697527961,\n",
       " 3.9688407042680756,\n",
       " 4.322757409653666,\n",
       " 4.537464017672374,\n",
       " 3.932649508028115,\n",
       " 4.801310940646115,\n",
       " 4.4562334292246355,\n",
       " 5.0116525455841385,\n",
       " 3.9432724701226296,\n",
       " 4.402803815402425,\n",
       " 3.9501027640969446,\n",
       " 4.388098369565499,\n",
       " 4.845645051740756,\n",
       " 4.628917566740741,\n",
       " 4.120378185871035,\n",
       " 4.523938784415325,\n",
       " 4.092239887756504,\n",
       " 4.0326067948738,\n",
       " 4.075051888949264,\n",
       " 4.220608214156588,\n",
       " 4.517932025879147,\n",
       " 3.9365304210620375,\n",
       " 4.196201773160344,\n",
       " 4.902807340973399,\n",
       " 4.13798155660291,\n",
       " 3.917527519664692,\n",
       " 4.415780850242938,\n",
       " 4.33780135190533,\n",
       " 4.0055713789984475,\n",
       " 3.8867897744377338,\n",
       " 4.621678442842219,\n",
       " 4.536182388289917,\n",
       " 4.801225935533183,\n",
       " 3.767935829610376,\n",
       " 4.280719686509615,\n",
       " 3.9915689059474535,\n",
       " 4.181379621388156,\n",
       " 4.447846305184528,\n",
       " 3.8359222389696903,\n",
       " 4.186733960496469,\n",
       " 4.081974639101874,\n",
       " 4.926432628093681,\n",
       " 4.165347582431984,\n",
       " 4.473353391079823,\n",
       " 4.482666578089333,\n",
       " 4.471014233206265,\n",
       " 4.340462829258947,\n",
       " 3.9203157749300876,\n",
       " 4.405078625064578,\n",
       " 4.455571375816011,\n",
       " 4.549405549508917,\n",
       " 4.365266929595023,\n",
       " 4.667018969140503,\n",
       " 4.359882946567625,\n",
       " 4.159932970618715,\n",
       " 4.351863751371896,\n",
       " 4.659791514807823,\n",
       " 4.896379115714575,\n",
       " 4.14616470752667,\n",
       " 3.9979349240867257,\n",
       " 3.920050531439864,\n",
       " 4.449628929780608,\n",
       " 4.602876189635559,\n",
       " 4.675240614541235,\n",
       " 4.3108645954977876,\n",
       " 4.270337299700801,\n",
       " 4.823299151163384,\n",
       " 4.8264069660337325,\n",
       " 4.55542453064436,\n",
       " 4.687431759215968,\n",
       " 4.3126568691677125,\n",
       " 4.132521155426866,\n",
       " 4.671330561509904,\n",
       " 4.422231198045466,\n",
       " 5.461956650698011,\n",
       " 4.72433047456839,\n",
       " 4.026309152666024,\n",
       " 4.962082437170752,\n",
       " 4.207902506240656,\n",
       " 99.81907779451852,\n",
       " 4.098106931486136,\n",
       " 4.160395338458081,\n",
       " 3.983229017376054,\n",
       " 3.9960193328288516,\n",
       " 4.208367830007981,\n",
       " 3.9735025753930975,\n",
       " 4.232408607360487,\n",
       " 4.0317855504682,\n",
       " 4.570781106402452,\n",
       " 4.259112202608996,\n",
       " 4.436387116652303,\n",
       " 4.567610130805416,\n",
       " 4.467896952378779,\n",
       " 4.6474921442564785,\n",
       " 4.986003355596597,\n",
       " 4.374800280290106,\n",
       " 5.342767539546801,\n",
       " 4.104358532522004,\n",
       " 4.5856767262025215,\n",
       " 4.068078028829391,\n",
       " 4.0910015208572705,\n",
       " 3.8227143824079546,\n",
       " 4.3403169719404175,\n",
       " 4.26884222399858,\n",
       " 4.519035457877458,\n",
       " 4.180174351767601,\n",
       " 5.7016224181154564,\n",
       " 4.97841602006222,\n",
       " 4.130734004531319,\n",
       " 4.307812134950591,\n",
       " 4.532111198451384,\n",
       " 3.984562248612324,\n",
       " 3.8854537512056835,\n",
       " 4.8704698418439705,\n",
       " 3.9688238877178548,\n",
       " 4.306407119282203,\n",
       " 4.224085344017043,\n",
       " 4.667143377165206,\n",
       " 4.322883953171015,\n",
       " 4.893734318443203,\n",
       " 4.300398100146236,\n",
       " 4.871666766239129,\n",
       " 4.081202752830692,\n",
       " 4.402781466771193,\n",
       " 3.7444327559099495,\n",
       " 4.779930521035339,\n",
       " 4.396179714728736,\n",
       " 4.106704893733502,\n",
       " 4.101327134767979,\n",
       " 4.183974364966821,\n",
       " 4.341859495833572,\n",
       " 4.599677438731238,\n",
       " 3.77117496379844,\n",
       " 4.4717996015222266,\n",
       " 4.278358207532536,\n",
       " 4.351997350679891,\n",
       " 4.310040658593773,\n",
       " 4.532508213996136,\n",
       " 4.216490353272762,\n",
       " 4.766101353394912,\n",
       " 4.471814121960442,\n",
       " 4.082604826724113,\n",
       " 4.369878098273652,\n",
       " 4.308483799116555,\n",
       " 4.459445099593621,\n",
       " 3.9827204053825707,\n",
       " 4.518860401786851,\n",
       " 4.612928596801527,\n",
       " 4.801622679773423,\n",
       " 4.557345952810175,\n",
       " 4.682163225217391,\n",
       " 4.094483862893192,\n",
       " 4.62231481552232,\n",
       " 4.412292770193954,\n",
       " 4.39558163588096,\n",
       " 4.342471259580462,\n",
       " 4.0666045380583284,\n",
       " 4.395952402629136,\n",
       " 4.0197597803601335,\n",
       " 4.410960370950558,\n",
       " 4.686807485425792,\n",
       " 4.10473069891862,\n",
       " 4.352432616696251,\n",
       " 4.064582710799919,\n",
       " 3.9754460927966275,\n",
       " 4.1689562974833985,\n",
       " 5.066477108058142,\n",
       " 4.35519553132052,\n",
       " 4.3321569638943656,\n",
       " 4.465964932892201,\n",
       " 4.302554404359102,\n",
       " 4.571744897017436,\n",
       " 4.529532508450313,\n",
       " 4.104276080957804,\n",
       " 3.867819775918202,\n",
       " 4.374397284959026,\n",
       " 4.499654700819888,\n",
       " 4.543992132358266,\n",
       " 4.196744355720325,\n",
       " 4.1961647999314895,\n",
       " 4.7722678462781625,\n",
       " 4.616612794044217,\n",
       " 4.261579434004439,\n",
       " 4.2100273660173375,\n",
       " 4.3769561881414605,\n",
       " 3.9014181148663534,\n",
       " 3.8127123480852854,\n",
       " 4.914413065093143,\n",
       " 4.260812984207633,\n",
       " 3.7026194143789484,\n",
       " 4.210990258898787,\n",
       " 3.9849650905003164,\n",
       " 4.061390299564742,\n",
       " 4.11348915098614,\n",
       " 4.260516270534451,\n",
       " 4.186422589429309,\n",
       " 4.315282780023588,\n",
       " 4.041933719881374,\n",
       " 4.591565505724846,\n",
       " 3.894077384955719,\n",
       " 4.3890477211424725,\n",
       " 3.9911320860170143,\n",
       " 4.2165799264810655,\n",
       " 4.755434065229603,\n",
       " 4.2880609947326285,\n",
       " 4.241378650400802,\n",
       " 4.083899474835536,\n",
       " 3.8106043794667506,\n",
       " 4.4744788139094185,\n",
       " 4.521136846129019,\n",
       " 4.460319465107857,\n",
       " 4.1716366643413965,\n",
       " 4.695406505841473,\n",
       " 4.2877247330093455,\n",
       " 4.815628625947673,\n",
       " 4.756172384769914,\n",
       " 4.745319361528298,\n",
       " 4.890003418481752,\n",
       " 4.44463893135277,\n",
       " 4.358332259806502,\n",
       " 4.613266703415806,\n",
       " 4.484455673657814,\n",
       " 4.0730658585197315,\n",
       " 4.132034046048179,\n",
       " 4.104958756263133,\n",
       " 4.196866689275374,\n",
       " 4.767656771902704,\n",
       " 3.984136469332746,\n",
       " 4.007912528914299,\n",
       " 4.363288089827679,\n",
       " 4.950430686066257,\n",
       " 4.797881582542619,\n",
       " 4.218127410821777,\n",
       " 4.298899974141272,\n",
       " 5.598414591023582,\n",
       " 4.166554116082005,\n",
       " 4.56105178789777,\n",
       " 4.263425455827448,\n",
       " 4.271954724525585,\n",
       " 4.55156027481299,\n",
       " 4.303435915726832,\n",
       " 4.610286318354406,\n",
       " 4.107253526589657,\n",
       " 5.034995368365252,\n",
       " 4.293308073228067,\n",
       " 4.222276897614415,\n",
       " 4.893823466333419,\n",
       " 4.278170289309923,\n",
       " 4.581477174091713,\n",
       " 4.948870514474102,\n",
       " 4.382966239315021,\n",
       " 4.475995699065113,\n",
       " 4.828313856895808,\n",
       " 4.521414234913455,\n",
       " 4.34894383557463,\n",
       " 4.002309288874465,\n",
       " 4.289930956427559,\n",
       " 4.512809007221945,\n",
       " 4.251159421380042,\n",
       " 4.261469392168838,\n",
       " 4.778978503913411,\n",
       " 4.689362256966377,\n",
       " 4.217538838421412,\n",
       " 4.5015623504992694,\n",
       " 4.50978685179293,\n",
       " 4.219700568972729,\n",
       " 4.169832684862301,\n",
       " 4.651258538638051,\n",
       " 19.372110727066126,\n",
       " 4.8493891316124715,\n",
       " 4.199286583127567,\n",
       " 4.232462115975895,\n",
       " 4.344264956541763,\n",
       " 4.654260611778483,\n",
       " 4.4827855585124174,\n",
       " 4.841238403027632,\n",
       " 4.295909546599887,\n",
       " 3.980003467791093,\n",
       " 4.335802615538196,\n",
       " 4.346416691843582,\n",
       " 4.248411348514914,\n",
       " 4.368166002565807,\n",
       " 4.532927711547737,\n",
       " 4.561279871368149,\n",
       " 4.445551575035315,\n",
       " 5.0878181163843355,\n",
       " 4.447411939590073,\n",
       " 4.631809464299727,\n",
       " 4.354955323150087,\n",
       " 4.170059943098668,\n",
       " 5.28834055479671,\n",
       " 4.817976188997736,\n",
       " 4.430744194765513,\n",
       " 4.589044263791686,\n",
       " 4.364614798655312,\n",
       " 4.1012243053347035,\n",
       " 3.7907850850534355,\n",
       " 4.838926182434554,\n",
       " 4.16779718850192,\n",
       " 4.802872841713863,\n",
       " 4.3829838466881785,\n",
       " 5.216162795667739,\n",
       " 4.446882204474848,\n",
       " 4.618000017293093,\n",
       " 4.9865865537198495,\n",
       " 4.94948663683453,\n",
       " 4.5320741723048945,\n",
       " 4.27694761034069,\n",
       " 4.176661944253812,\n",
       " 4.701701966589957,\n",
       " 4.291981723494245,\n",
       " 4.384748713236361,\n",
       " 4.612293855234651,\n",
       " 4.421128260624422,\n",
       " 4.5148131820077735,\n",
       " 4.431979048695876,\n",
       " 4.654974176905737,\n",
       " 4.481168296087826,\n",
       " 4.232686729611198,\n",
       " 3.697939849587246,\n",
       " 4.525283491446767,\n",
       " 4.326969988559136,\n",
       " 4.0452188018588675,\n",
       " 4.43990856196461,\n",
       " 4.363036338440027,\n",
       " 4.620977288358363,\n",
       " 4.758555061335538,\n",
       " 4.2776008482992935,\n",
       " 4.826844782901498,\n",
       " 4.619534924438935,\n",
       " 4.479067371062034,\n",
       " 4.852989688998574,\n",
       " 4.310125663706705,\n",
       " 4.408228994155906,\n",
       " 5.071120585178338,\n",
       " 4.9962749776060695,\n",
       " 4.673030439440058,\n",
       " 4.163120862910504,\n",
       " 4.47270998590723,\n",
       " 5.012876663456636,\n",
       " 4.38120544099383,\n",
       " 4.3681081823497845,\n",
       " 4.426919368993563,\n",
       " 4.7992981175117375,\n",
       " 4.076325962498677,\n",
       " 4.74221951368323,\n",
       " 4.266035313553013,\n",
       " 4.5185438399953615,\n",
       " 4.771706920703717,\n",
       " 4.595195463015077,\n",
       " 99.90418441913592,\n",
       " 4.308117164324257,\n",
       " 4.67960114891104,\n",
       " 4.3666367116001545,\n",
       " 4.75470015978824,\n",
       " 4.88550872983691,\n",
       " 4.583630593712164,\n",
       " 4.586748727238092,\n",
       " 4.79363669658559,\n",
       " 4.560116873746332,\n",
       " 4.865467168732836,\n",
       " 4.907663694444179,\n",
       " 4.827981463015352,\n",
       " 99.93890727814752,\n",
       " 4.063105377114633,\n",
       " 4.331106292380986,\n",
       " 4.389574799521321,\n",
       " 4.714820623364461,\n",
       " 4.105464416985868,\n",
       " 4.95257426047951,\n",
       " 4.414807675578629,\n",
       " 4.088617267553216,\n",
       " 4.6191022512264635,\n",
       " 4.7143169121930155,\n",
       " 4.661121789184806,\n",
       " 3.941800422445166,\n",
       " 4.437386052149896,\n",
       " 4.485191705169198,\n",
       " 4.1573171881294115,\n",
       " 4.478673111646959,\n",
       " 4.771849627342191,\n",
       " 4.208381608477906,\n",
       " 4.361218648504618,\n",
       " 4.6024024316629495,\n",
       " 4.939741445537894,\n",
       " 4.848484270381459]"
      ]
     },
     "execution_count": 8,
     "metadata": {},
     "output_type": "execute_result"
    }
   ],
   "source": [
    "radius_list"
   ]
  },
  {
   "cell_type": "code",
   "execution_count": 9,
   "id": "32f480a3",
   "metadata": {},
   "outputs": [
    {
     "name": "stderr",
     "output_type": "stream",
     "text": [
      "extracting all features from dataset: 100%|██████████████████████████████████████████████| 1/1 [00:01<00:00,  1.70s/it]\n",
      "extracting all features from dataset: 100%|██████████████████████████████████████████████| 1/1 [00:01<00:00,  1.74s/it]\n"
     ]
    },
    {
     "name": "stdout",
     "output_type": "stream",
     "text": [
      "----------------------------\n",
      "Train_z, Test_z\n",
      "PCA: 0.9358\n",
      "SVD: 0.923\n",
      "NetD, Acc at first 0.9628\n"
     ]
    },
    {
     "name": "stderr",
     "output_type": "stream",
     "text": [
      "extracting all features from dataset: 100%|██████████████████████████████████████████████| 2/2 [00:04<00:00,  2.47s/it]\n",
      "extracting all features from dataset: 100%|██████████████████████████████████████████████| 1/1 [00:01<00:00,  1.69s/it]\n"
     ]
    },
    {
     "name": "stdout",
     "output_type": "stream",
     "text": [
      "----------------------------\n",
      "Train_z, Test_z\n",
      "PCA: 0.9256\n",
      "SVD: 0.922\n",
      "NetG, Acc at first 0.9505\n"
     ]
    }
   ],
   "source": [
    "#acc at first for NetD\n",
    "train_X, train_Z, train_X_bar, train_Z_bar, train_labels = extract_features2(testloader, netD, netG)\n",
    "\n",
    "test_X, test_Z, test_X_bar, test_Z_bar, test_labels = extract_features2(testloader, netD, netG)\n",
    "\n",
    "\n",
    "print(\"----------------------------\")\n",
    "print(\"Train_z, Test_z\")\n",
    "nearsub(n_comp, train_Z, train_labels, test_Z, test_labels)\n",
    "\n",
    "#acc at first for NetD\n",
    "from sklearn.neighbors import KNeighborsClassifier \n",
    "knn= KNeighborsClassifier(n_neighbors=10) \n",
    "\n",
    "knn.fit(train_Z,train_labels) \n",
    "knn.score(test_Z,test_labels) \n",
    " \n",
    "y_predict = knn.predict(test_Z) \n",
    "\n",
    "count =0\n",
    "for k in range(10000):\n",
    "    if y_predict[k] == test_labels[k]:\n",
    "        count +=1\n",
    "print('NetD, Acc at first',count/10000)\n",
    "Acc_results_D.append(count/10000)\n",
    "\n",
    "#acc at first for NetG\n",
    "train_X, train_Z, train_X_bar, train_Z_bar, train_labels = extract_features2(trainloader, netG, netD)\n",
    "\n",
    "test_X, test_Z, test_X_bar, test_Z_bar, test_labels = extract_features2(testloader, netG, netD)\n",
    "\n",
    "print(\"----------------------------\")\n",
    "print(\"Train_z, Test_z\")\n",
    "nearsub(n_comp, train_Z, train_labels, test_Z, test_labels)\n",
    "\n",
    "\n",
    "#acc at first\n",
    "from sklearn.neighbors import KNeighborsClassifier \n",
    "knn= KNeighborsClassifier(n_neighbors=10) \n",
    "\n",
    "knn.fit(train_Z,train_labels) \n",
    "knn.score(test_Z,test_labels) \n",
    " \n",
    "y_predict = knn.predict(test_Z) \n",
    "\n",
    "count =0\n",
    "for k in range(10000):\n",
    "    if y_predict[k] == test_labels[k]:\n",
    "        count +=1\n",
    "print('NetG, Acc at first',count/10000)\n",
    "Acc_results_G.append(count/10000)\n"
   ]
  },
  {
   "cell_type": "code",
   "execution_count": 10,
   "id": "b12f0476",
   "metadata": {},
   "outputs": [],
   "source": [
    "torch.save(netD, 'MNIST_NetD-mode1-radius2-makeup.pth')\n",
    "torch.save(netV, 'MNIST_NetV-mode1-radius2-makeup.pth')\n",
    "torch.save(netG, 'MNIST_NetG-mode1-radius2-makeup.pth')"
   ]
  },
  {
   "cell_type": "code",
   "execution_count": 11,
   "id": "a97aa6a9",
   "metadata": {},
   "outputs": [],
   "source": [
    "#robust testing\n",
    "r_list = [0,0.1,0.2,0.5,1,2,3,4,6,8,10]\n",
    "sample_num = 20"
   ]
  },
  {
   "cell_type": "code",
   "execution_count": 12,
   "id": "5dd88ab6",
   "metadata": {},
   "outputs": [
    {
     "name": "stderr",
     "output_type": "stream",
     "text": [
      "extracting all features from dataset: 100%|██████████████████████████████████████████████| 2/2 [00:04<00:00,  2.50s/it]\n",
      "extracting all features from dataset: 100%|██████████████████████████████████████████████| 1/1 [00:01<00:00,  1.68s/it]\n"
     ]
    },
    {
     "name": "stdout",
     "output_type": "stream",
     "text": [
      "----------------------------\n",
      "Train_z, Test_z\n",
      "PCA: 0.9261\n",
      "SVD: 0.9149\n",
      "NetG_fixD, Acc at sample 1 0.9671\n"
     ]
    },
    {
     "name": "stderr",
     "output_type": "stream",
     "text": [
      "extracting all features from dataset: 100%|██████████████████████████████████████████████| 2/2 [00:04<00:00,  2.41s/it]\n",
      "extracting all features from dataset: 100%|██████████████████████████████████████████████| 1/1 [00:01<00:00,  1.67s/it]\n"
     ]
    },
    {
     "name": "stdout",
     "output_type": "stream",
     "text": [
      "----------------------------\n",
      "Train_z, Test_z\n",
      "PCA: 0.9277\n",
      "SVD: 0.9149\n",
      "NetG_fixD, Acc at sample 2 0.967\n"
     ]
    },
    {
     "name": "stderr",
     "output_type": "stream",
     "text": [
      "extracting all features from dataset: 100%|██████████████████████████████████████████████| 2/2 [00:04<00:00,  2.42s/it]\n",
      "extracting all features from dataset: 100%|██████████████████████████████████████████████| 1/1 [00:01<00:00,  1.68s/it]\n"
     ]
    },
    {
     "name": "stdout",
     "output_type": "stream",
     "text": [
      "----------------------------\n",
      "Train_z, Test_z\n",
      "PCA: 0.9272\n",
      "SVD: 0.9158\n",
      "NetG_fixD, Acc at sample 3 0.967\n"
     ]
    },
    {
     "name": "stderr",
     "output_type": "stream",
     "text": [
      "extracting all features from dataset: 100%|██████████████████████████████████████████████| 2/2 [00:05<00:00,  2.52s/it]\n",
      "extracting all features from dataset: 100%|██████████████████████████████████████████████| 1/1 [00:01<00:00,  1.69s/it]\n"
     ]
    },
    {
     "name": "stdout",
     "output_type": "stream",
     "text": [
      "----------------------------\n",
      "Train_z, Test_z\n",
      "PCA: 0.9261\n",
      "SVD: 0.9149\n",
      "NetG_fixD, Acc at sample 4 0.9673\n"
     ]
    },
    {
     "name": "stderr",
     "output_type": "stream",
     "text": [
      "extracting all features from dataset: 100%|██████████████████████████████████████████████| 2/2 [00:05<00:00,  2.57s/it]\n",
      "extracting all features from dataset: 100%|██████████████████████████████████████████████| 1/1 [00:01<00:00,  1.69s/it]\n"
     ]
    },
    {
     "name": "stdout",
     "output_type": "stream",
     "text": [
      "----------------------------\n",
      "Train_z, Test_z\n",
      "PCA: 0.9269000000000001\n",
      "SVD: 0.9162\n",
      "NetG_fixD, Acc at sample 5 0.9664\n"
     ]
    },
    {
     "name": "stderr",
     "output_type": "stream",
     "text": [
      "extracting all features from dataset: 100%|██████████████████████████████████████████████| 2/2 [00:04<00:00,  2.50s/it]\n",
      "extracting all features from dataset: 100%|██████████████████████████████████████████████| 1/1 [00:01<00:00,  1.70s/it]\n"
     ]
    },
    {
     "name": "stdout",
     "output_type": "stream",
     "text": [
      "----------------------------\n",
      "Train_z, Test_z\n",
      "PCA: 0.9262\n",
      "SVD: 0.9157\n",
      "NetG_fixD, Acc at sample 6 0.9667\n"
     ]
    },
    {
     "name": "stderr",
     "output_type": "stream",
     "text": [
      "extracting all features from dataset: 100%|██████████████████████████████████████████████| 2/2 [00:05<00:00,  2.54s/it]\n",
      "extracting all features from dataset: 100%|██████████████████████████████████████████████| 1/1 [00:01<00:00,  1.68s/it]\n"
     ]
    },
    {
     "name": "stdout",
     "output_type": "stream",
     "text": [
      "----------------------------\n",
      "Train_z, Test_z\n",
      "PCA: 0.9268\n",
      "SVD: 0.9156\n",
      "NetG_fixD, Acc at sample 7 0.9663\n"
     ]
    },
    {
     "name": "stderr",
     "output_type": "stream",
     "text": [
      "extracting all features from dataset: 100%|██████████████████████████████████████████████| 2/2 [00:05<00:00,  2.53s/it]\n",
      "extracting all features from dataset: 100%|██████████████████████████████████████████████| 1/1 [00:01<00:00,  1.70s/it]\n"
     ]
    },
    {
     "name": "stdout",
     "output_type": "stream",
     "text": [
      "----------------------------\n",
      "Train_z, Test_z\n",
      "PCA: 0.9268\n",
      "SVD: 0.9146\n",
      "NetG_fixD, Acc at sample 8 0.9664\n"
     ]
    },
    {
     "name": "stderr",
     "output_type": "stream",
     "text": [
      "extracting all features from dataset: 100%|██████████████████████████████████████████████| 2/2 [00:05<00:00,  2.59s/it]\n",
      "extracting all features from dataset: 100%|██████████████████████████████████████████████| 1/1 [00:01<00:00,  1.70s/it]\n"
     ]
    },
    {
     "name": "stdout",
     "output_type": "stream",
     "text": [
      "----------------------------\n",
      "Train_z, Test_z\n",
      "PCA: 0.9265\n",
      "SVD: 0.9157\n",
      "NetG_fixD, Acc at sample 9 0.9667\n"
     ]
    },
    {
     "name": "stderr",
     "output_type": "stream",
     "text": [
      "extracting all features from dataset: 100%|██████████████████████████████████████████████| 2/2 [00:05<00:00,  2.56s/it]\n",
      "extracting all features from dataset: 100%|██████████████████████████████████████████████| 1/1 [00:01<00:00,  1.70s/it]\n"
     ]
    },
    {
     "name": "stdout",
     "output_type": "stream",
     "text": [
      "----------------------------\n",
      "Train_z, Test_z\n",
      "PCA: 0.9272\n",
      "SVD: 0.9158\n",
      "NetG_fixD, Acc at sample 10 0.9663\n"
     ]
    },
    {
     "name": "stderr",
     "output_type": "stream",
     "text": [
      "extracting all features from dataset: 100%|██████████████████████████████████████████████| 2/2 [00:04<00:00,  2.45s/it]\n",
      "extracting all features from dataset: 100%|██████████████████████████████████████████████| 1/1 [00:01<00:00,  1.64s/it]\n"
     ]
    },
    {
     "name": "stdout",
     "output_type": "stream",
     "text": [
      "----------------------------\n",
      "Train_z, Test_z\n",
      "PCA: 0.9264\n",
      "SVD: 0.9152\n",
      "NetG_fixD, Acc at sample 11 0.9666\n"
     ]
    },
    {
     "name": "stderr",
     "output_type": "stream",
     "text": [
      "extracting all features from dataset: 100%|██████████████████████████████████████████████| 2/2 [00:05<00:00,  2.61s/it]\n",
      "extracting all features from dataset: 100%|██████████████████████████████████████████████| 1/1 [00:01<00:00,  1.65s/it]\n"
     ]
    },
    {
     "name": "stdout",
     "output_type": "stream",
     "text": [
      "----------------------------\n",
      "Train_z, Test_z\n",
      "PCA: 0.9271\n",
      "SVD: 0.9146\n",
      "NetG_fixD, Acc at sample 12 0.967\n"
     ]
    },
    {
     "name": "stderr",
     "output_type": "stream",
     "text": [
      "extracting all features from dataset: 100%|██████████████████████████████████████████████| 2/2 [00:05<00:00,  2.58s/it]\n",
      "extracting all features from dataset: 100%|██████████████████████████████████████████████| 1/1 [00:01<00:00,  1.67s/it]\n"
     ]
    },
    {
     "name": "stdout",
     "output_type": "stream",
     "text": [
      "----------------------------\n",
      "Train_z, Test_z\n",
      "PCA: 0.9269000000000001\n",
      "SVD: 0.9153\n",
      "NetG_fixD, Acc at sample 13 0.9664\n"
     ]
    },
    {
     "name": "stderr",
     "output_type": "stream",
     "text": [
      "extracting all features from dataset: 100%|██████████████████████████████████████████████| 2/2 [00:05<00:00,  2.51s/it]\n",
      "extracting all features from dataset: 100%|██████████████████████████████████████████████| 1/1 [00:01<00:00,  1.68s/it]\n"
     ]
    },
    {
     "name": "stdout",
     "output_type": "stream",
     "text": [
      "----------------------------\n",
      "Train_z, Test_z\n",
      "PCA: 0.926\n",
      "SVD: 0.9145\n",
      "NetG_fixD, Acc at sample 14 0.9668\n"
     ]
    },
    {
     "name": "stderr",
     "output_type": "stream",
     "text": [
      "extracting all features from dataset: 100%|██████████████████████████████████████████████| 2/2 [00:04<00:00,  2.49s/it]\n",
      "extracting all features from dataset: 100%|██████████████████████████████████████████████| 1/1 [00:01<00:00,  1.67s/it]\n"
     ]
    },
    {
     "name": "stdout",
     "output_type": "stream",
     "text": [
      "----------------------------\n",
      "Train_z, Test_z\n",
      "PCA: 0.927\n",
      "SVD: 0.9151\n",
      "NetG_fixD, Acc at sample 15 0.9667\n"
     ]
    },
    {
     "name": "stderr",
     "output_type": "stream",
     "text": [
      "extracting all features from dataset: 100%|██████████████████████████████████████████████| 2/2 [00:04<00:00,  2.47s/it]\n",
      "extracting all features from dataset: 100%|██████████████████████████████████████████████| 1/1 [00:01<00:00,  1.68s/it]\n"
     ]
    },
    {
     "name": "stdout",
     "output_type": "stream",
     "text": [
      "----------------------------\n",
      "Train_z, Test_z\n",
      "PCA: 0.9263\n",
      "SVD: 0.9152\n",
      "NetG_fixD, Acc at sample 16 0.967\n"
     ]
    },
    {
     "name": "stderr",
     "output_type": "stream",
     "text": [
      "extracting all features from dataset: 100%|██████████████████████████████████████████████| 2/2 [00:04<00:00,  2.47s/it]\n",
      "extracting all features from dataset: 100%|██████████████████████████████████████████████| 1/1 [00:01<00:00,  1.70s/it]\n"
     ]
    },
    {
     "name": "stdout",
     "output_type": "stream",
     "text": [
      "----------------------------\n",
      "Train_z, Test_z\n",
      "PCA: 0.9271\n",
      "SVD: 0.9154\n",
      "NetG_fixD, Acc at sample 17 0.9668\n"
     ]
    },
    {
     "name": "stderr",
     "output_type": "stream",
     "text": [
      "extracting all features from dataset: 100%|██████████████████████████████████████████████| 2/2 [00:04<00:00,  2.46s/it]\n",
      "extracting all features from dataset: 100%|██████████████████████████████████████████████| 1/1 [00:01<00:00,  1.68s/it]\n"
     ]
    },
    {
     "name": "stdout",
     "output_type": "stream",
     "text": [
      "----------------------------\n",
      "Train_z, Test_z\n",
      "PCA: 0.9259\n",
      "SVD: 0.9155\n",
      "NetG_fixD, Acc at sample 18 0.9669\n"
     ]
    },
    {
     "name": "stderr",
     "output_type": "stream",
     "text": [
      "extracting all features from dataset: 100%|██████████████████████████████████████████████| 2/2 [00:04<00:00,  2.49s/it]\n",
      "extracting all features from dataset: 100%|██████████████████████████████████████████████| 1/1 [00:01<00:00,  1.64s/it]\n"
     ]
    },
    {
     "name": "stdout",
     "output_type": "stream",
     "text": [
      "----------------------------\n",
      "Train_z, Test_z\n",
      "PCA: 0.9261\n",
      "SVD: 0.9143\n",
      "NetG_fixD, Acc at sample 19 0.9668\n"
     ]
    },
    {
     "name": "stderr",
     "output_type": "stream",
     "text": [
      "extracting all features from dataset: 100%|██████████████████████████████████████████████| 2/2 [00:05<00:00,  2.58s/it]\n",
      "extracting all features from dataset: 100%|██████████████████████████████████████████████| 1/1 [00:01<00:00,  1.79s/it]\n"
     ]
    },
    {
     "name": "stdout",
     "output_type": "stream",
     "text": [
      "----------------------------\n",
      "Train_z, Test_z\n",
      "PCA: 0.9266\n",
      "SVD: 0.9144\n",
      "NetG_fixD, Acc at sample 20 0.9669\n",
      "0.9673 0.9663 0.9667549999999998 7.64749999999892e-08\n"
     ]
    }
   ],
   "source": [
    "# sample 20 times of NetG at final radius, NetD is fixed, length 0.1,0.2,0.5,1,2,4,6,8,10,15,20\n",
    "from sklearn.neighbors import KNeighborsClassifier \n",
    "Acc_results_G_sample = []\n",
    "for _ in range(sample_num):\n",
    "    #acc at first\n",
    "    net_noise = get_noise(DATASET, device, LABEL)\n",
    "    fed_state_dict = get_netG(netD,netV,net_noise,r_list[1])\n",
    "    netG.load_state_dict(fed_state_dict)\n",
    "    \n",
    "    train_X, train_Z, train_X_bar, train_Z_bar, train_labels = extract_features2(trainloader, netG, netD)\n",
    "\n",
    "    test_X, test_Z, test_X_bar, test_Z_bar, test_labels = extract_features2(testloader, netG, netD)\n",
    "\n",
    "    print(\"----------------------------\")\n",
    "    print(\"Train_z, Test_z\")\n",
    "    nearsub(n_comp, train_Z, train_labels, test_Z, test_labels)\n",
    "\n",
    "    knn= KNeighborsClassifier(n_neighbors=10) \n",
    "\n",
    "    knn.fit(train_Z,train_labels) \n",
    "    knn.score(test_Z_bar,test_labels) \n",
    "\n",
    "    y_predict = knn.predict(test_Z_bar) \n",
    "\n",
    "    count =0\n",
    "    for k in range(10000):\n",
    "        if y_predict[k] == test_labels[k]:\n",
    "            count +=1\n",
    "    print('NetG_fixD, Acc at sample',_+1,count/10000)\n",
    "    Acc_results_G_sample.append(count/10000)\n",
    "\n",
    "print(max(Acc_results_G_sample),min(Acc_results_G_sample),np.mean(Acc_results_G_sample),np.var(Acc_results_G_sample))"
   ]
  },
  {
   "cell_type": "code",
   "execution_count": 13,
   "id": "05bfe135",
   "metadata": {},
   "outputs": [
    {
     "name": "stderr",
     "output_type": "stream",
     "text": [
      "extracting all features from dataset: 100%|██████████████████████████████████████████████| 2/2 [00:05<00:00,  2.56s/it]\n",
      "extracting all features from dataset: 100%|██████████████████████████████████████████████| 1/1 [00:01<00:00,  1.73s/it]\n"
     ]
    },
    {
     "name": "stdout",
     "output_type": "stream",
     "text": [
      "----------------------------\n",
      "Train_z, Test_z\n",
      "PCA: 0.9269000000000001\n",
      "SVD: 0.9153\n",
      "NetG_fixD, Acc at sample 1 0.9667\n"
     ]
    },
    {
     "name": "stderr",
     "output_type": "stream",
     "text": [
      "extracting all features from dataset: 100%|██████████████████████████████████████████████| 2/2 [00:05<00:00,  2.50s/it]\n",
      "extracting all features from dataset: 100%|██████████████████████████████████████████████| 1/1 [00:01<00:00,  1.69s/it]\n"
     ]
    },
    {
     "name": "stdout",
     "output_type": "stream",
     "text": [
      "----------------------------\n",
      "Train_z, Test_z\n",
      "PCA: 0.9271\n",
      "SVD: 0.9155\n",
      "NetG_fixD, Acc at sample 2 0.9671\n"
     ]
    },
    {
     "name": "stderr",
     "output_type": "stream",
     "text": [
      "extracting all features from dataset: 100%|██████████████████████████████████████████████| 2/2 [00:05<00:00,  2.58s/it]\n",
      "extracting all features from dataset: 100%|██████████████████████████████████████████████| 1/1 [00:01<00:00,  1.71s/it]\n"
     ]
    },
    {
     "name": "stdout",
     "output_type": "stream",
     "text": [
      "----------------------------\n",
      "Train_z, Test_z\n",
      "PCA: 0.9289000000000001\n",
      "SVD: 0.9148000000000001\n",
      "NetG_fixD, Acc at sample 3 0.967\n"
     ]
    },
    {
     "name": "stderr",
     "output_type": "stream",
     "text": [
      "extracting all features from dataset: 100%|██████████████████████████████████████████████| 2/2 [00:05<00:00,  2.59s/it]\n",
      "extracting all features from dataset: 100%|██████████████████████████████████████████████| 1/1 [00:01<00:00,  1.68s/it]\n"
     ]
    },
    {
     "name": "stdout",
     "output_type": "stream",
     "text": [
      "----------------------------\n",
      "Train_z, Test_z\n",
      "PCA: 0.9282\n",
      "SVD: 0.9164\n",
      "NetG_fixD, Acc at sample 4 0.9672\n"
     ]
    },
    {
     "name": "stderr",
     "output_type": "stream",
     "text": [
      "extracting all features from dataset: 100%|██████████████████████████████████████████████| 2/2 [00:05<00:00,  2.56s/it]\n",
      "extracting all features from dataset: 100%|██████████████████████████████████████████████| 1/1 [00:01<00:00,  1.65s/it]\n"
     ]
    },
    {
     "name": "stdout",
     "output_type": "stream",
     "text": [
      "----------------------------\n",
      "Train_z, Test_z\n",
      "PCA: 0.9274\n",
      "SVD: 0.9152\n",
      "NetG_fixD, Acc at sample 5 0.9676\n"
     ]
    },
    {
     "name": "stderr",
     "output_type": "stream",
     "text": [
      "extracting all features from dataset: 100%|██████████████████████████████████████████████| 2/2 [00:05<00:00,  2.53s/it]\n",
      "extracting all features from dataset: 100%|██████████████████████████████████████████████| 1/1 [00:01<00:00,  1.71s/it]\n"
     ]
    },
    {
     "name": "stdout",
     "output_type": "stream",
     "text": [
      "----------------------------\n",
      "Train_z, Test_z\n",
      "PCA: 0.927\n",
      "SVD: 0.9138\n",
      "NetG_fixD, Acc at sample 6 0.967\n"
     ]
    },
    {
     "name": "stderr",
     "output_type": "stream",
     "text": [
      "extracting all features from dataset: 100%|██████████████████████████████████████████████| 2/2 [00:05<00:00,  2.51s/it]\n",
      "extracting all features from dataset: 100%|██████████████████████████████████████████████| 1/1 [00:01<00:00,  1.70s/it]\n"
     ]
    },
    {
     "name": "stdout",
     "output_type": "stream",
     "text": [
      "----------------------------\n",
      "Train_z, Test_z\n",
      "PCA: 0.9274\n",
      "SVD: 0.9152\n",
      "NetG_fixD, Acc at sample 7 0.9672\n"
     ]
    },
    {
     "name": "stderr",
     "output_type": "stream",
     "text": [
      "extracting all features from dataset: 100%|██████████████████████████████████████████████| 2/2 [00:05<00:00,  2.55s/it]\n",
      "extracting all features from dataset: 100%|██████████████████████████████████████████████| 1/1 [00:01<00:00,  1.68s/it]\n"
     ]
    },
    {
     "name": "stdout",
     "output_type": "stream",
     "text": [
      "----------------------------\n",
      "Train_z, Test_z\n",
      "PCA: 0.9276\n",
      "SVD: 0.9141\n",
      "NetG_fixD, Acc at sample 8 0.9673\n"
     ]
    },
    {
     "name": "stderr",
     "output_type": "stream",
     "text": [
      "extracting all features from dataset: 100%|██████████████████████████████████████████████| 2/2 [00:05<00:00,  2.56s/it]\n",
      "extracting all features from dataset: 100%|██████████████████████████████████████████████| 1/1 [00:01<00:00,  1.69s/it]\n"
     ]
    },
    {
     "name": "stdout",
     "output_type": "stream",
     "text": [
      "----------------------------\n",
      "Train_z, Test_z\n",
      "PCA: 0.9267\n",
      "SVD: 0.9141\n",
      "NetG_fixD, Acc at sample 9 0.9659\n"
     ]
    },
    {
     "name": "stderr",
     "output_type": "stream",
     "text": [
      "extracting all features from dataset: 100%|██████████████████████████████████████████████| 2/2 [00:05<00:00,  2.55s/it]\n",
      "extracting all features from dataset: 100%|██████████████████████████████████████████████| 1/1 [00:01<00:00,  1.65s/it]\n"
     ]
    },
    {
     "name": "stdout",
     "output_type": "stream",
     "text": [
      "----------------------------\n",
      "Train_z, Test_z\n",
      "PCA: 0.9287\n",
      "SVD: 0.917\n",
      "NetG_fixD, Acc at sample 10 0.9674\n"
     ]
    },
    {
     "name": "stderr",
     "output_type": "stream",
     "text": [
      "extracting all features from dataset: 100%|██████████████████████████████████████████████| 2/2 [00:05<00:00,  2.52s/it]\n",
      "extracting all features from dataset: 100%|██████████████████████████████████████████████| 1/1 [00:01<00:00,  1.71s/it]\n"
     ]
    },
    {
     "name": "stdout",
     "output_type": "stream",
     "text": [
      "----------------------------\n",
      "Train_z, Test_z\n",
      "PCA: 0.9266\n",
      "SVD: 0.9156\n",
      "NetG_fixD, Acc at sample 11 0.9669\n"
     ]
    },
    {
     "name": "stderr",
     "output_type": "stream",
     "text": [
      "extracting all features from dataset: 100%|██████████████████████████████████████████████| 2/2 [00:04<00:00,  2.45s/it]\n",
      "extracting all features from dataset: 100%|██████████████████████████████████████████████| 1/1 [00:01<00:00,  1.63s/it]\n"
     ]
    },
    {
     "name": "stdout",
     "output_type": "stream",
     "text": [
      "----------------------------\n",
      "Train_z, Test_z\n",
      "PCA: 0.9271\n",
      "SVD: 0.9149\n",
      "NetG_fixD, Acc at sample 12 0.9669\n"
     ]
    },
    {
     "name": "stderr",
     "output_type": "stream",
     "text": [
      "extracting all features from dataset: 100%|██████████████████████████████████████████████| 2/2 [00:05<00:00,  2.52s/it]\n",
      "extracting all features from dataset: 100%|██████████████████████████████████████████████| 1/1 [00:01<00:00,  1.70s/it]\n"
     ]
    },
    {
     "name": "stdout",
     "output_type": "stream",
     "text": [
      "----------------------------\n",
      "Train_z, Test_z\n",
      "PCA: 0.9258\n",
      "SVD: 0.9158\n",
      "NetG_fixD, Acc at sample 13 0.9672\n"
     ]
    },
    {
     "name": "stderr",
     "output_type": "stream",
     "text": [
      "extracting all features from dataset: 100%|██████████████████████████████████████████████| 2/2 [00:04<00:00,  2.44s/it]\n",
      "extracting all features from dataset: 100%|██████████████████████████████████████████████| 1/1 [00:01<00:00,  1.66s/it]\n"
     ]
    },
    {
     "name": "stdout",
     "output_type": "stream",
     "text": [
      "----------------------------\n",
      "Train_z, Test_z\n",
      "PCA: 0.928\n",
      "SVD: 0.9171\n",
      "NetG_fixD, Acc at sample 14 0.9674\n"
     ]
    },
    {
     "name": "stderr",
     "output_type": "stream",
     "text": [
      "extracting all features from dataset: 100%|██████████████████████████████████████████████| 2/2 [00:05<00:00,  2.54s/it]\n",
      "extracting all features from dataset: 100%|██████████████████████████████████████████████| 1/1 [00:01<00:00,  1.65s/it]\n"
     ]
    },
    {
     "name": "stdout",
     "output_type": "stream",
     "text": [
      "----------------------------\n",
      "Train_z, Test_z\n",
      "PCA: 0.9276\n",
      "SVD: 0.9152\n",
      "NetG_fixD, Acc at sample 15 0.9676\n"
     ]
    },
    {
     "name": "stderr",
     "output_type": "stream",
     "text": [
      "extracting all features from dataset: 100%|██████████████████████████████████████████████| 2/2 [00:04<00:00,  2.50s/it]\n",
      "extracting all features from dataset: 100%|██████████████████████████████████████████████| 1/1 [00:01<00:00,  1.68s/it]\n"
     ]
    },
    {
     "name": "stdout",
     "output_type": "stream",
     "text": [
      "----------------------------\n",
      "Train_z, Test_z\n",
      "PCA: 0.9283\n",
      "SVD: 0.9153\n",
      "NetG_fixD, Acc at sample 16 0.9672\n"
     ]
    },
    {
     "name": "stderr",
     "output_type": "stream",
     "text": [
      "extracting all features from dataset: 100%|██████████████████████████████████████████████| 2/2 [00:05<00:00,  2.60s/it]\n",
      "extracting all features from dataset: 100%|██████████████████████████████████████████████| 1/1 [00:01<00:00,  1.67s/it]\n"
     ]
    },
    {
     "name": "stdout",
     "output_type": "stream",
     "text": [
      "----------------------------\n",
      "Train_z, Test_z\n",
      "PCA: 0.9271\n",
      "SVD: 0.9159\n",
      "NetG_fixD, Acc at sample 17 0.9672\n"
     ]
    },
    {
     "name": "stderr",
     "output_type": "stream",
     "text": [
      "extracting all features from dataset: 100%|██████████████████████████████████████████████| 2/2 [00:04<00:00,  2.46s/it]\n",
      "extracting all features from dataset: 100%|██████████████████████████████████████████████| 1/1 [00:01<00:00,  1.67s/it]\n"
     ]
    },
    {
     "name": "stdout",
     "output_type": "stream",
     "text": [
      "----------------------------\n",
      "Train_z, Test_z\n",
      "PCA: 0.927\n",
      "SVD: 0.9154\n",
      "NetG_fixD, Acc at sample 18 0.9671\n"
     ]
    },
    {
     "name": "stderr",
     "output_type": "stream",
     "text": [
      "extracting all features from dataset: 100%|██████████████████████████████████████████████| 2/2 [00:05<00:00,  2.60s/it]\n",
      "extracting all features from dataset: 100%|██████████████████████████████████████████████| 1/1 [00:01<00:00,  1.69s/it]\n"
     ]
    },
    {
     "name": "stdout",
     "output_type": "stream",
     "text": [
      "----------------------------\n",
      "Train_z, Test_z\n",
      "PCA: 0.9271\n",
      "SVD: 0.916\n",
      "NetG_fixD, Acc at sample 19 0.9672\n"
     ]
    },
    {
     "name": "stderr",
     "output_type": "stream",
     "text": [
      "extracting all features from dataset: 100%|██████████████████████████████████████████████| 2/2 [00:04<00:00,  2.47s/it]\n",
      "extracting all features from dataset: 100%|██████████████████████████████████████████████| 1/1 [00:01<00:00,  1.66s/it]\n"
     ]
    },
    {
     "name": "stdout",
     "output_type": "stream",
     "text": [
      "----------------------------\n",
      "Train_z, Test_z\n",
      "PCA: 0.9268\n",
      "SVD: 0.9141\n",
      "NetG_fixD, Acc at sample 20 0.9675\n",
      "0.9676 0.9659 0.9671299999999998 1.311000000000072e-07\n"
     ]
    }
   ],
   "source": [
    "# sample 20 times of NetG at final radius, NetD is fixed\n",
    "from sklearn.neighbors import KNeighborsClassifier \n",
    "Acc_results_G_sample2 = []\n",
    "\n",
    "for _ in range(sample_num):\n",
    "    #acc at first\n",
    "    net_noise = get_noise(DATASET, device, LABEL)\n",
    "    fed_state_dict = get_netG(netD,netV,net_noise,r_list[2])\n",
    "    netG.load_state_dict(fed_state_dict)\n",
    "    \n",
    "    train_X, train_Z, train_X_bar, train_Z_bar, train_labels = extract_features2(trainloader, netG, netD)\n",
    "\n",
    "    test_X, test_Z, test_X_bar, test_Z_bar, test_labels = extract_features2(testloader, netG, netD)\n",
    "\n",
    "    print(\"----------------------------\")\n",
    "    print(\"Train_z, Test_z\")\n",
    "    nearsub(n_comp, train_Z, train_labels, test_Z, test_labels)\n",
    "\n",
    "    knn= KNeighborsClassifier(n_neighbors=10) \n",
    "\n",
    "    knn.fit(train_Z,train_labels) \n",
    "    knn.score(test_Z_bar,test_labels) \n",
    "\n",
    "    y_predict = knn.predict(test_Z_bar) \n",
    "\n",
    "    count =0\n",
    "    for k in range(10000):\n",
    "        if y_predict[k] == test_labels[k]:\n",
    "            count +=1\n",
    "    print('NetG_fixD, Acc at sample',_+1,count/10000)\n",
    "    Acc_results_G_sample2.append(count/10000)\n",
    "    \n",
    "print(max(Acc_results_G_sample2),min(Acc_results_G_sample2),np.mean(Acc_results_G_sample2),np.var(Acc_results_G_sample2))"
   ]
  },
  {
   "cell_type": "code",
   "execution_count": 14,
   "id": "1daf6e7b",
   "metadata": {},
   "outputs": [
    {
     "name": "stderr",
     "output_type": "stream",
     "text": [
      "extracting all features from dataset: 100%|██████████████████████████████████████████████| 2/2 [00:05<00:00,  2.59s/it]\n",
      "extracting all features from dataset: 100%|██████████████████████████████████████████████| 1/1 [00:01<00:00,  1.68s/it]\n"
     ]
    },
    {
     "name": "stdout",
     "output_type": "stream",
     "text": [
      "----------------------------\n",
      "Train_z, Test_z\n",
      "PCA: 0.9288\n",
      "SVD: 0.9156\n",
      "NetG_fixD, Acc at sample 1 0.967\n"
     ]
    },
    {
     "name": "stderr",
     "output_type": "stream",
     "text": [
      "extracting all features from dataset: 100%|██████████████████████████████████████████████| 2/2 [00:04<00:00,  2.46s/it]\n",
      "extracting all features from dataset: 100%|██████████████████████████████████████████████| 1/1 [00:01<00:00,  1.63s/it]\n"
     ]
    },
    {
     "name": "stdout",
     "output_type": "stream",
     "text": [
      "----------------------------\n",
      "Train_z, Test_z\n",
      "PCA: 0.927\n",
      "SVD: 0.9137\n",
      "NetG_fixD, Acc at sample 2 0.967\n"
     ]
    },
    {
     "name": "stderr",
     "output_type": "stream",
     "text": [
      "extracting all features from dataset: 100%|██████████████████████████████████████████████| 2/2 [00:05<00:00,  2.51s/it]\n",
      "extracting all features from dataset: 100%|██████████████████████████████████████████████| 1/1 [00:01<00:00,  1.69s/it]\n"
     ]
    },
    {
     "name": "stdout",
     "output_type": "stream",
     "text": [
      "----------------------------\n",
      "Train_z, Test_z\n",
      "PCA: 0.9272\n",
      "SVD: 0.9121\n",
      "NetG_fixD, Acc at sample 3 0.9671\n"
     ]
    },
    {
     "name": "stderr",
     "output_type": "stream",
     "text": [
      "extracting all features from dataset: 100%|██████████████████████████████████████████████| 2/2 [00:05<00:00,  2.58s/it]\n",
      "extracting all features from dataset: 100%|██████████████████████████████████████████████| 1/1 [00:01<00:00,  1.70s/it]\n"
     ]
    },
    {
     "name": "stdout",
     "output_type": "stream",
     "text": [
      "----------------------------\n",
      "Train_z, Test_z\n",
      "PCA: 0.9303\n",
      "SVD: 0.9161\n",
      "NetG_fixD, Acc at sample 4 0.9666\n"
     ]
    },
    {
     "name": "stderr",
     "output_type": "stream",
     "text": [
      "extracting all features from dataset: 100%|██████████████████████████████████████████████| 2/2 [00:04<00:00,  2.49s/it]\n",
      "extracting all features from dataset: 100%|██████████████████████████████████████████████| 1/1 [00:01<00:00,  1.70s/it]\n"
     ]
    },
    {
     "name": "stdout",
     "output_type": "stream",
     "text": [
      "----------------------------\n",
      "Train_z, Test_z\n",
      "PCA: 0.9267\n",
      "SVD: 0.9156\n",
      "NetG_fixD, Acc at sample 5 0.9672\n"
     ]
    },
    {
     "name": "stderr",
     "output_type": "stream",
     "text": [
      "extracting all features from dataset: 100%|██████████████████████████████████████████████| 2/2 [00:04<00:00,  2.41s/it]\n",
      "extracting all features from dataset: 100%|██████████████████████████████████████████████| 1/1 [00:01<00:00,  1.68s/it]\n"
     ]
    },
    {
     "name": "stdout",
     "output_type": "stream",
     "text": [
      "----------------------------\n",
      "Train_z, Test_z\n",
      "PCA: 0.9242\n",
      "SVD: 0.9133\n",
      "NetG_fixD, Acc at sample 6 0.9664\n"
     ]
    },
    {
     "name": "stderr",
     "output_type": "stream",
     "text": [
      "extracting all features from dataset: 100%|██████████████████████████████████████████████| 2/2 [00:04<00:00,  2.43s/it]\n",
      "extracting all features from dataset: 100%|██████████████████████████████████████████████| 1/1 [00:01<00:00,  1.66s/it]\n"
     ]
    },
    {
     "name": "stdout",
     "output_type": "stream",
     "text": [
      "----------------------------\n",
      "Train_z, Test_z\n",
      "PCA: 0.9267\n",
      "SVD: 0.9144\n",
      "NetG_fixD, Acc at sample 7 0.9661\n"
     ]
    },
    {
     "name": "stderr",
     "output_type": "stream",
     "text": [
      "extracting all features from dataset: 100%|██████████████████████████████████████████████| 2/2 [00:05<00:00,  2.54s/it]\n",
      "extracting all features from dataset: 100%|██████████████████████████████████████████████| 1/1 [00:01<00:00,  1.71s/it]\n"
     ]
    },
    {
     "name": "stdout",
     "output_type": "stream",
     "text": [
      "----------------------------\n",
      "Train_z, Test_z\n",
      "PCA: 0.929\n",
      "SVD: 0.9175\n",
      "NetG_fixD, Acc at sample 8 0.967\n"
     ]
    },
    {
     "name": "stderr",
     "output_type": "stream",
     "text": [
      "extracting all features from dataset: 100%|██████████████████████████████████████████████| 2/2 [00:05<00:00,  2.51s/it]\n",
      "extracting all features from dataset: 100%|██████████████████████████████████████████████| 1/1 [00:01<00:00,  1.68s/it]\n"
     ]
    },
    {
     "name": "stdout",
     "output_type": "stream",
     "text": [
      "----------------------------\n",
      "Train_z, Test_z\n",
      "PCA: 0.9295\n",
      "SVD: 0.915\n",
      "NetG_fixD, Acc at sample 9 0.9657\n"
     ]
    },
    {
     "name": "stderr",
     "output_type": "stream",
     "text": [
      "extracting all features from dataset: 100%|██████████████████████████████████████████████| 2/2 [00:04<00:00,  2.47s/it]\n",
      "extracting all features from dataset: 100%|██████████████████████████████████████████████| 1/1 [00:01<00:00,  1.65s/it]\n"
     ]
    },
    {
     "name": "stdout",
     "output_type": "stream",
     "text": [
      "----------------------------\n",
      "Train_z, Test_z\n",
      "PCA: 0.9266\n",
      "SVD: 0.9143\n",
      "NetG_fixD, Acc at sample 10 0.967\n"
     ]
    },
    {
     "name": "stderr",
     "output_type": "stream",
     "text": [
      "extracting all features from dataset: 100%|██████████████████████████████████████████████| 2/2 [00:05<00:00,  2.56s/it]\n",
      "extracting all features from dataset: 100%|██████████████████████████████████████████████| 1/1 [00:01<00:00,  1.70s/it]\n"
     ]
    },
    {
     "name": "stdout",
     "output_type": "stream",
     "text": [
      "----------------------------\n",
      "Train_z, Test_z\n",
      "PCA: 0.9271\n",
      "SVD: 0.9164\n",
      "NetG_fixD, Acc at sample 11 0.9668\n"
     ]
    },
    {
     "name": "stderr",
     "output_type": "stream",
     "text": [
      "extracting all features from dataset: 100%|██████████████████████████████████████████████| 2/2 [00:05<00:00,  2.59s/it]\n",
      "extracting all features from dataset: 100%|██████████████████████████████████████████████| 1/1 [00:01<00:00,  1.75s/it]\n"
     ]
    },
    {
     "name": "stdout",
     "output_type": "stream",
     "text": [
      "----------------------------\n",
      "Train_z, Test_z\n",
      "PCA: 0.9291\n",
      "SVD: 0.9181\n",
      "NetG_fixD, Acc at sample 12 0.9657\n"
     ]
    },
    {
     "name": "stderr",
     "output_type": "stream",
     "text": [
      "extracting all features from dataset: 100%|██████████████████████████████████████████████| 2/2 [00:05<00:00,  2.52s/it]\n",
      "extracting all features from dataset: 100%|██████████████████████████████████████████████| 1/1 [00:01<00:00,  1.70s/it]\n"
     ]
    },
    {
     "name": "stdout",
     "output_type": "stream",
     "text": [
      "----------------------------\n",
      "Train_z, Test_z\n",
      "PCA: 0.9285\n",
      "SVD: 0.9117999999999999\n",
      "NetG_fixD, Acc at sample 13 0.966\n"
     ]
    },
    {
     "name": "stderr",
     "output_type": "stream",
     "text": [
      "extracting all features from dataset: 100%|██████████████████████████████████████████████| 2/2 [00:05<00:00,  2.71s/it]\n",
      "extracting all features from dataset: 100%|██████████████████████████████████████████████| 1/1 [00:01<00:00,  1.80s/it]\n"
     ]
    },
    {
     "name": "stdout",
     "output_type": "stream",
     "text": [
      "----------------------------\n",
      "Train_z, Test_z\n",
      "PCA: 0.9268\n",
      "SVD: 0.9168000000000001\n",
      "NetG_fixD, Acc at sample 14 0.9662\n"
     ]
    },
    {
     "name": "stderr",
     "output_type": "stream",
     "text": [
      "extracting all features from dataset: 100%|██████████████████████████████████████████████| 2/2 [00:05<00:00,  2.65s/it]\n",
      "extracting all features from dataset: 100%|██████████████████████████████████████████████| 1/1 [00:01<00:00,  1.73s/it]\n"
     ]
    },
    {
     "name": "stdout",
     "output_type": "stream",
     "text": [
      "----------------------------\n",
      "Train_z, Test_z\n",
      "PCA: 0.9282\n",
      "SVD: 0.9136\n",
      "NetG_fixD, Acc at sample 15 0.9667\n"
     ]
    },
    {
     "name": "stderr",
     "output_type": "stream",
     "text": [
      "extracting all features from dataset: 100%|██████████████████████████████████████████████| 2/2 [00:04<00:00,  2.48s/it]\n",
      "extracting all features from dataset: 100%|██████████████████████████████████████████████| 1/1 [00:01<00:00,  1.67s/it]\n"
     ]
    },
    {
     "name": "stdout",
     "output_type": "stream",
     "text": [
      "----------------------------\n",
      "Train_z, Test_z\n",
      "PCA: 0.9277\n",
      "SVD: 0.9189\n",
      "NetG_fixD, Acc at sample 16 0.9675\n"
     ]
    },
    {
     "name": "stderr",
     "output_type": "stream",
     "text": [
      "extracting all features from dataset: 100%|██████████████████████████████████████████████| 2/2 [00:05<00:00,  2.56s/it]\n",
      "extracting all features from dataset: 100%|██████████████████████████████████████████████| 1/1 [00:01<00:00,  1.65s/it]\n"
     ]
    },
    {
     "name": "stdout",
     "output_type": "stream",
     "text": [
      "----------------------------\n",
      "Train_z, Test_z\n",
      "PCA: 0.9278\n",
      "SVD: 0.914\n",
      "NetG_fixD, Acc at sample 17 0.9674\n"
     ]
    },
    {
     "name": "stderr",
     "output_type": "stream",
     "text": [
      "extracting all features from dataset: 100%|██████████████████████████████████████████████| 2/2 [00:05<00:00,  2.55s/it]\n",
      "extracting all features from dataset: 100%|██████████████████████████████████████████████| 1/1 [00:01<00:00,  1.69s/it]\n"
     ]
    },
    {
     "name": "stdout",
     "output_type": "stream",
     "text": [
      "----------------------------\n",
      "Train_z, Test_z\n",
      "PCA: 0.9303\n",
      "SVD: 0.9182\n",
      "NetG_fixD, Acc at sample 18 0.967\n"
     ]
    },
    {
     "name": "stderr",
     "output_type": "stream",
     "text": [
      "extracting all features from dataset: 100%|██████████████████████████████████████████████| 2/2 [00:04<00:00,  2.48s/it]\n",
      "extracting all features from dataset: 100%|██████████████████████████████████████████████| 1/1 [00:01<00:00,  1.68s/it]\n"
     ]
    },
    {
     "name": "stdout",
     "output_type": "stream",
     "text": [
      "----------------------------\n",
      "Train_z, Test_z\n",
      "PCA: 0.929\n",
      "SVD: 0.9131\n",
      "NetG_fixD, Acc at sample 19 0.9659\n"
     ]
    },
    {
     "name": "stderr",
     "output_type": "stream",
     "text": [
      "extracting all features from dataset: 100%|██████████████████████████████████████████████| 2/2 [00:04<00:00,  2.47s/it]\n",
      "extracting all features from dataset: 100%|██████████████████████████████████████████████| 1/1 [00:01<00:00,  1.67s/it]\n"
     ]
    },
    {
     "name": "stdout",
     "output_type": "stream",
     "text": [
      "----------------------------\n",
      "Train_z, Test_z\n",
      "PCA: 0.9274\n",
      "SVD: 0.914\n",
      "NetG_fixD, Acc at sample 20 0.9668\n",
      "0.9675 0.9657 0.9666549999999999 2.9047500000000176e-07\n"
     ]
    }
   ],
   "source": [
    "# sample 20 times of NetG at final radius, NetD is fixed\n",
    "from sklearn.neighbors import KNeighborsClassifier \n",
    "Acc_results_G_sample3 = []\n",
    "\n",
    "for _ in range(sample_num):\n",
    "    #acc at first\n",
    "    net_noise = get_noise(DATASET, device, LABEL)\n",
    "    fed_state_dict = get_netG(netD,netV,net_noise,r_list[3])\n",
    "    netG.load_state_dict(fed_state_dict)\n",
    "    \n",
    "    train_X, train_Z, train_X_bar, train_Z_bar, train_labels = extract_features2(trainloader, netG, netD)\n",
    "\n",
    "    test_X, test_Z, test_X_bar, test_Z_bar, test_labels = extract_features2(testloader, netG, netD)\n",
    "\n",
    "    print(\"----------------------------\")\n",
    "    print(\"Train_z, Test_z\")\n",
    "    nearsub(n_comp, train_Z, train_labels, test_Z, test_labels)\n",
    "\n",
    "    knn= KNeighborsClassifier(n_neighbors=10) \n",
    "\n",
    "    knn.fit(train_Z,train_labels) \n",
    "    knn.score(test_Z_bar,test_labels) \n",
    "\n",
    "    y_predict = knn.predict(test_Z_bar) \n",
    "\n",
    "    count =0\n",
    "    for k in range(10000):\n",
    "        if y_predict[k] == test_labels[k]:\n",
    "            count +=1\n",
    "    print('NetG_fixD, Acc at sample',_+1,count/10000)\n",
    "    Acc_results_G_sample3.append(count/10000)\n",
    "    \n",
    "print(max(Acc_results_G_sample3),min(Acc_results_G_sample3),np.mean(Acc_results_G_sample3),np.var(Acc_results_G_sample3))"
   ]
  },
  {
   "cell_type": "code",
   "execution_count": 15,
   "id": "c66ccac4",
   "metadata": {},
   "outputs": [
    {
     "name": "stderr",
     "output_type": "stream",
     "text": [
      "extracting all features from dataset: 100%|██████████████████████████████████████████████| 2/2 [00:05<00:00,  2.54s/it]\n",
      "extracting all features from dataset: 100%|██████████████████████████████████████████████| 1/1 [00:01<00:00,  1.67s/it]\n"
     ]
    },
    {
     "name": "stdout",
     "output_type": "stream",
     "text": [
      "----------------------------\n",
      "Train_z, Test_z\n",
      "PCA: 0.931\n",
      "SVD: 0.9215\n",
      "NetG_fixD, Acc at sample 1 0.9651\n"
     ]
    },
    {
     "name": "stderr",
     "output_type": "stream",
     "text": [
      "extracting all features from dataset: 100%|██████████████████████████████████████████████| 2/2 [00:05<00:00,  2.62s/it]\n",
      "extracting all features from dataset: 100%|██████████████████████████████████████████████| 1/1 [00:01<00:00,  1.70s/it]\n"
     ]
    },
    {
     "name": "stdout",
     "output_type": "stream",
     "text": [
      "----------------------------\n",
      "Train_z, Test_z\n",
      "PCA: 0.9279\n",
      "SVD: 0.9181\n",
      "NetG_fixD, Acc at sample 2 0.9649\n"
     ]
    },
    {
     "name": "stderr",
     "output_type": "stream",
     "text": [
      "extracting all features from dataset: 100%|██████████████████████████████████████████████| 2/2 [00:04<00:00,  2.44s/it]\n",
      "extracting all features from dataset: 100%|██████████████████████████████████████████████| 1/1 [00:01<00:00,  1.68s/it]\n"
     ]
    },
    {
     "name": "stdout",
     "output_type": "stream",
     "text": [
      "----------------------------\n",
      "Train_z, Test_z\n",
      "PCA: 0.9277\n",
      "SVD: 0.9166\n",
      "NetG_fixD, Acc at sample 3 0.9645\n"
     ]
    },
    {
     "name": "stderr",
     "output_type": "stream",
     "text": [
      "extracting all features from dataset: 100%|██████████████████████████████████████████████| 2/2 [00:04<00:00,  2.46s/it]\n",
      "extracting all features from dataset: 100%|██████████████████████████████████████████████| 1/1 [00:01<00:00,  1.68s/it]\n"
     ]
    },
    {
     "name": "stdout",
     "output_type": "stream",
     "text": [
      "----------------------------\n",
      "Train_z, Test_z\n",
      "PCA: 0.9259\n",
      "SVD: 0.9163\n",
      "NetG_fixD, Acc at sample 4 0.9661\n"
     ]
    },
    {
     "name": "stderr",
     "output_type": "stream",
     "text": [
      "extracting all features from dataset: 100%|██████████████████████████████████████████████| 2/2 [00:05<00:00,  2.54s/it]\n",
      "extracting all features from dataset: 100%|██████████████████████████████████████████████| 1/1 [00:01<00:00,  1.67s/it]\n"
     ]
    },
    {
     "name": "stdout",
     "output_type": "stream",
     "text": [
      "----------------------------\n",
      "Train_z, Test_z\n",
      "PCA: 0.9288\n",
      "SVD: 0.9178999999999999\n",
      "NetG_fixD, Acc at sample 5 0.9637\n"
     ]
    },
    {
     "name": "stderr",
     "output_type": "stream",
     "text": [
      "extracting all features from dataset: 100%|██████████████████████████████████████████████| 2/2 [00:04<00:00,  2.47s/it]\n",
      "extracting all features from dataset: 100%|██████████████████████████████████████████████| 1/1 [00:01<00:00,  1.67s/it]\n"
     ]
    },
    {
     "name": "stdout",
     "output_type": "stream",
     "text": [
      "----------------------------\n",
      "Train_z, Test_z\n",
      "PCA: 0.9275\n",
      "SVD: 0.9189\n",
      "NetG_fixD, Acc at sample 6 0.9645\n"
     ]
    },
    {
     "name": "stderr",
     "output_type": "stream",
     "text": [
      "extracting all features from dataset: 100%|██████████████████████████████████████████████| 2/2 [00:05<00:00,  2.59s/it]\n",
      "extracting all features from dataset: 100%|██████████████████████████████████████████████| 1/1 [00:01<00:00,  1.65s/it]\n"
     ]
    },
    {
     "name": "stdout",
     "output_type": "stream",
     "text": [
      "----------------------------\n",
      "Train_z, Test_z\n",
      "PCA: 0.9228\n",
      "SVD: 0.9127\n",
      "NetG_fixD, Acc at sample 7 0.9641\n"
     ]
    },
    {
     "name": "stderr",
     "output_type": "stream",
     "text": [
      "extracting all features from dataset: 100%|██████████████████████████████████████████████| 2/2 [00:04<00:00,  2.45s/it]\n",
      "extracting all features from dataset: 100%|██████████████████████████████████████████████| 1/1 [00:01<00:00,  1.69s/it]\n"
     ]
    },
    {
     "name": "stdout",
     "output_type": "stream",
     "text": [
      "----------------------------\n",
      "Train_z, Test_z\n",
      "PCA: 0.9275\n",
      "SVD: 0.9181\n",
      "NetG_fixD, Acc at sample 8 0.9648\n"
     ]
    },
    {
     "name": "stderr",
     "output_type": "stream",
     "text": [
      "extracting all features from dataset: 100%|██████████████████████████████████████████████| 2/2 [00:05<00:00,  2.62s/it]\n",
      "extracting all features from dataset: 100%|██████████████████████████████████████████████| 1/1 [00:01<00:00,  1.69s/it]\n"
     ]
    },
    {
     "name": "stdout",
     "output_type": "stream",
     "text": [
      "----------------------------\n",
      "Train_z, Test_z\n",
      "PCA: 0.926\n",
      "SVD: 0.9139\n",
      "NetG_fixD, Acc at sample 9 0.964\n"
     ]
    },
    {
     "name": "stderr",
     "output_type": "stream",
     "text": [
      "extracting all features from dataset: 100%|██████████████████████████████████████████████| 2/2 [00:05<00:00,  2.52s/it]\n",
      "extracting all features from dataset: 100%|██████████████████████████████████████████████| 1/1 [00:01<00:00,  1.68s/it]\n"
     ]
    },
    {
     "name": "stdout",
     "output_type": "stream",
     "text": [
      "----------------------------\n",
      "Train_z, Test_z\n",
      "PCA: 0.9282\n",
      "SVD: 0.9176\n",
      "NetG_fixD, Acc at sample 10 0.9666\n"
     ]
    },
    {
     "name": "stderr",
     "output_type": "stream",
     "text": [
      "extracting all features from dataset: 100%|██████████████████████████████████████████████| 2/2 [00:05<00:00,  2.56s/it]\n",
      "extracting all features from dataset: 100%|██████████████████████████████████████████████| 1/1 [00:01<00:00,  1.66s/it]\n"
     ]
    },
    {
     "name": "stdout",
     "output_type": "stream",
     "text": [
      "----------------------------\n",
      "Train_z, Test_z\n",
      "PCA: 0.9248\n",
      "SVD: 0.9136\n",
      "NetG_fixD, Acc at sample 11 0.9649\n"
     ]
    },
    {
     "name": "stderr",
     "output_type": "stream",
     "text": [
      "extracting all features from dataset: 100%|██████████████████████████████████████████████| 2/2 [00:04<00:00,  2.44s/it]\n",
      "extracting all features from dataset: 100%|██████████████████████████████████████████████| 1/1 [00:01<00:00,  1.67s/it]\n"
     ]
    },
    {
     "name": "stdout",
     "output_type": "stream",
     "text": [
      "----------------------------\n",
      "Train_z, Test_z\n",
      "PCA: 0.9313\n",
      "SVD: 0.9198\n",
      "NetG_fixD, Acc at sample 12 0.9636\n"
     ]
    },
    {
     "name": "stderr",
     "output_type": "stream",
     "text": [
      "extracting all features from dataset: 100%|██████████████████████████████████████████████| 2/2 [00:05<00:00,  2.53s/it]\n",
      "extracting all features from dataset: 100%|██████████████████████████████████████████████| 1/1 [00:01<00:00,  1.69s/it]\n"
     ]
    },
    {
     "name": "stdout",
     "output_type": "stream",
     "text": [
      "----------------------------\n",
      "Train_z, Test_z\n",
      "PCA: 0.928\n",
      "SVD: 0.915\n",
      "NetG_fixD, Acc at sample 13 0.9643\n"
     ]
    },
    {
     "name": "stderr",
     "output_type": "stream",
     "text": [
      "extracting all features from dataset: 100%|██████████████████████████████████████████████| 2/2 [00:04<00:00,  2.45s/it]\n",
      "extracting all features from dataset: 100%|██████████████████████████████████████████████| 1/1 [00:01<00:00,  1.69s/it]\n"
     ]
    },
    {
     "name": "stdout",
     "output_type": "stream",
     "text": [
      "----------------------------\n",
      "Train_z, Test_z\n",
      "PCA: 0.9243\n",
      "SVD: 0.9178999999999999\n",
      "NetG_fixD, Acc at sample 14 0.9659\n"
     ]
    },
    {
     "name": "stderr",
     "output_type": "stream",
     "text": [
      "extracting all features from dataset: 100%|██████████████████████████████████████████████| 2/2 [00:05<00:00,  2.54s/it]\n",
      "extracting all features from dataset: 100%|██████████████████████████████████████████████| 1/1 [00:01<00:00,  1.69s/it]\n"
     ]
    },
    {
     "name": "stdout",
     "output_type": "stream",
     "text": [
      "----------------------------\n",
      "Train_z, Test_z\n",
      "PCA: 0.9298\n",
      "SVD: 0.9203\n",
      "NetG_fixD, Acc at sample 15 0.9653\n"
     ]
    },
    {
     "name": "stderr",
     "output_type": "stream",
     "text": [
      "extracting all features from dataset: 100%|██████████████████████████████████████████████| 2/2 [00:05<00:00,  2.59s/it]\n",
      "extracting all features from dataset: 100%|██████████████████████████████████████████████| 1/1 [00:01<00:00,  1.67s/it]\n"
     ]
    },
    {
     "name": "stdout",
     "output_type": "stream",
     "text": [
      "----------------------------\n",
      "Train_z, Test_z\n",
      "PCA: 0.9317\n",
      "SVD: 0.9236\n",
      "NetG_fixD, Acc at sample 16 0.9647\n"
     ]
    },
    {
     "name": "stderr",
     "output_type": "stream",
     "text": [
      "extracting all features from dataset: 100%|██████████████████████████████████████████████| 2/2 [00:04<00:00,  2.43s/it]\n",
      "extracting all features from dataset: 100%|██████████████████████████████████████████████| 1/1 [00:01<00:00,  1.65s/it]\n"
     ]
    },
    {
     "name": "stdout",
     "output_type": "stream",
     "text": [
      "----------------------------\n",
      "Train_z, Test_z\n",
      "PCA: 0.9261\n",
      "SVD: 0.9142\n",
      "NetG_fixD, Acc at sample 17 0.9632\n"
     ]
    },
    {
     "name": "stderr",
     "output_type": "stream",
     "text": [
      "extracting all features from dataset: 100%|██████████████████████████████████████████████| 2/2 [00:05<00:00,  2.57s/it]\n",
      "extracting all features from dataset: 100%|██████████████████████████████████████████████| 1/1 [00:01<00:00,  1.65s/it]\n"
     ]
    },
    {
     "name": "stdout",
     "output_type": "stream",
     "text": [
      "----------------------------\n",
      "Train_z, Test_z\n",
      "PCA: 0.9284\n",
      "SVD: 0.9178999999999999\n",
      "NetG_fixD, Acc at sample 18 0.9642\n"
     ]
    },
    {
     "name": "stderr",
     "output_type": "stream",
     "text": [
      "extracting all features from dataset: 100%|██████████████████████████████████████████████| 2/2 [00:05<00:00,  2.55s/it]\n",
      "extracting all features from dataset: 100%|██████████████████████████████████████████████| 1/1 [00:01<00:00,  1.65s/it]\n"
     ]
    },
    {
     "name": "stdout",
     "output_type": "stream",
     "text": [
      "----------------------------\n",
      "Train_z, Test_z\n",
      "PCA: 0.9309000000000001\n",
      "SVD: 0.9183\n",
      "NetG_fixD, Acc at sample 19 0.9658\n"
     ]
    },
    {
     "name": "stderr",
     "output_type": "stream",
     "text": [
      "extracting all features from dataset: 100%|██████████████████████████████████████████████| 2/2 [00:05<00:00,  2.55s/it]\n",
      "extracting all features from dataset: 100%|██████████████████████████████████████████████| 1/1 [00:01<00:00,  1.67s/it]\n"
     ]
    },
    {
     "name": "stdout",
     "output_type": "stream",
     "text": [
      "----------------------------\n",
      "Train_z, Test_z\n",
      "PCA: 0.9257\n",
      "SVD: 0.914\n",
      "NetG_fixD, Acc at sample 20 0.9649\n",
      "0.9666 0.9632 0.9647549999999999 7.304750000000061e-07\n"
     ]
    }
   ],
   "source": [
    "# sample 20 times of NetG at final radius, NetD is fixed\n",
    "from sklearn.neighbors import KNeighborsClassifier \n",
    "Acc_results_G_sample4 = []\n",
    "\n",
    "for _ in range(sample_num):\n",
    "    #acc at first\n",
    "    net_noise = get_noise(DATASET, device, LABEL)\n",
    "    fed_state_dict = get_netG(netD,netV,net_noise,r_list[4])\n",
    "    netG.load_state_dict(fed_state_dict)\n",
    "    \n",
    "    train_X, train_Z, train_X_bar, train_Z_bar, train_labels = extract_features2(trainloader, netG, netD)\n",
    "\n",
    "    test_X, test_Z, test_X_bar, test_Z_bar, test_labels = extract_features2(testloader, netG, netD)\n",
    "\n",
    "    print(\"----------------------------\")\n",
    "    print(\"Train_z, Test_z\")\n",
    "    nearsub(n_comp, train_Z, train_labels, test_Z, test_labels)\n",
    "\n",
    "    knn= KNeighborsClassifier(n_neighbors=10) \n",
    "\n",
    "    knn.fit(train_Z,train_labels) \n",
    "    knn.score(test_Z_bar,test_labels) \n",
    "\n",
    "    y_predict = knn.predict(test_Z_bar) \n",
    "\n",
    "    count =0\n",
    "    for k in range(10000):\n",
    "        if y_predict[k] == test_labels[k]:\n",
    "            count +=1\n",
    "    print('NetG_fixD, Acc at sample',_+1,count/10000)\n",
    "    Acc_results_G_sample4.append(count/10000)\n",
    "    \n",
    "print(max(Acc_results_G_sample4),min(Acc_results_G_sample4),np.mean(Acc_results_G_sample4),np.var(Acc_results_G_sample4))"
   ]
  },
  {
   "cell_type": "code",
   "execution_count": 16,
   "id": "dfa16dcf",
   "metadata": {},
   "outputs": [
    {
     "name": "stderr",
     "output_type": "stream",
     "text": [
      "extracting all features from dataset: 100%|██████████████████████████████████████████████| 2/2 [00:05<00:00,  2.53s/it]\n",
      "extracting all features from dataset: 100%|██████████████████████████████████████████████| 1/1 [00:01<00:00,  1.65s/it]\n"
     ]
    },
    {
     "name": "stdout",
     "output_type": "stream",
     "text": [
      "----------------------------\n",
      "Train_z, Test_z\n",
      "PCA: 0.9288\n",
      "SVD: 0.923\n",
      "NetG_fixD, Acc at sample 1 0.9515\n"
     ]
    },
    {
     "name": "stderr",
     "output_type": "stream",
     "text": [
      "extracting all features from dataset: 100%|██████████████████████████████████████████████| 2/2 [00:05<00:00,  2.51s/it]\n",
      "extracting all features from dataset: 100%|██████████████████████████████████████████████| 1/1 [00:01<00:00,  1.64s/it]\n"
     ]
    },
    {
     "name": "stdout",
     "output_type": "stream",
     "text": [
      "----------------------------\n",
      "Train_z, Test_z\n",
      "PCA: 0.9263\n",
      "SVD: 0.9209\n",
      "NetG_fixD, Acc at sample 2 0.9552\n"
     ]
    },
    {
     "name": "stderr",
     "output_type": "stream",
     "text": [
      "extracting all features from dataset: 100%|██████████████████████████████████████████████| 2/2 [00:05<00:00,  2.55s/it]\n",
      "extracting all features from dataset: 100%|██████████████████████████████████████████████| 1/1 [00:01<00:00,  1.66s/it]\n"
     ]
    },
    {
     "name": "stdout",
     "output_type": "stream",
     "text": [
      "----------------------------\n",
      "Train_z, Test_z\n",
      "PCA: 0.9252\n",
      "SVD: 0.9173\n",
      "NetG_fixD, Acc at sample 3 0.9541\n"
     ]
    },
    {
     "name": "stderr",
     "output_type": "stream",
     "text": [
      "extracting all features from dataset: 100%|██████████████████████████████████████████████| 2/2 [00:04<00:00,  2.41s/it]\n",
      "extracting all features from dataset: 100%|██████████████████████████████████████████████| 1/1 [00:01<00:00,  1.67s/it]\n"
     ]
    },
    {
     "name": "stdout",
     "output_type": "stream",
     "text": [
      "----------------------------\n",
      "Train_z, Test_z\n",
      "PCA: 0.9256\n",
      "SVD: 0.9185\n",
      "NetG_fixD, Acc at sample 4 0.9568\n"
     ]
    },
    {
     "name": "stderr",
     "output_type": "stream",
     "text": [
      "extracting all features from dataset: 100%|██████████████████████████████████████████████| 2/2 [00:04<00:00,  2.45s/it]\n",
      "extracting all features from dataset: 100%|██████████████████████████████████████████████| 1/1 [00:01<00:00,  1.64s/it]\n"
     ]
    },
    {
     "name": "stdout",
     "output_type": "stream",
     "text": [
      "----------------------------\n",
      "Train_z, Test_z\n",
      "PCA: 0.927\n",
      "SVD: 0.9213\n",
      "NetG_fixD, Acc at sample 5 0.9577\n"
     ]
    },
    {
     "name": "stderr",
     "output_type": "stream",
     "text": [
      "extracting all features from dataset: 100%|██████████████████████████████████████████████| 2/2 [00:05<00:00,  2.51s/it]\n",
      "extracting all features from dataset: 100%|██████████████████████████████████████████████| 1/1 [00:01<00:00,  1.67s/it]\n"
     ]
    },
    {
     "name": "stdout",
     "output_type": "stream",
     "text": [
      "----------------------------\n",
      "Train_z, Test_z\n",
      "PCA: 0.9183\n",
      "SVD: 0.9123\n",
      "NetG_fixD, Acc at sample 6 0.9497\n"
     ]
    },
    {
     "name": "stderr",
     "output_type": "stream",
     "text": [
      "extracting all features from dataset: 100%|██████████████████████████████████████████████| 2/2 [00:04<00:00,  2.39s/it]\n",
      "extracting all features from dataset: 100%|██████████████████████████████████████████████| 1/1 [00:01<00:00,  1.66s/it]\n"
     ]
    },
    {
     "name": "stdout",
     "output_type": "stream",
     "text": [
      "----------------------------\n",
      "Train_z, Test_z\n",
      "PCA: 0.925\n",
      "SVD: 0.9195\n",
      "NetG_fixD, Acc at sample 7 0.9523\n"
     ]
    },
    {
     "name": "stderr",
     "output_type": "stream",
     "text": [
      "extracting all features from dataset: 100%|██████████████████████████████████████████████| 2/2 [00:04<00:00,  2.47s/it]\n",
      "extracting all features from dataset: 100%|██████████████████████████████████████████████| 1/1 [00:01<00:00,  1.66s/it]\n"
     ]
    },
    {
     "name": "stdout",
     "output_type": "stream",
     "text": [
      "----------------------------\n",
      "Train_z, Test_z\n",
      "PCA: 0.9235\n",
      "SVD: 0.9175\n",
      "NetG_fixD, Acc at sample 8 0.9544\n"
     ]
    },
    {
     "name": "stderr",
     "output_type": "stream",
     "text": [
      "extracting all features from dataset: 100%|██████████████████████████████████████████████| 2/2 [00:04<00:00,  2.42s/it]\n",
      "extracting all features from dataset: 100%|██████████████████████████████████████████████| 1/1 [00:01<00:00,  1.65s/it]\n"
     ]
    },
    {
     "name": "stdout",
     "output_type": "stream",
     "text": [
      "----------------------------\n",
      "Train_z, Test_z\n",
      "PCA: 0.9263\n",
      "SVD: 0.9196\n",
      "NetG_fixD, Acc at sample 9 0.9555\n"
     ]
    },
    {
     "name": "stderr",
     "output_type": "stream",
     "text": [
      "extracting all features from dataset: 100%|██████████████████████████████████████████████| 2/2 [00:04<00:00,  2.45s/it]\n",
      "extracting all features from dataset: 100%|██████████████████████████████████████████████| 1/1 [00:01<00:00,  1.65s/it]\n"
     ]
    },
    {
     "name": "stdout",
     "output_type": "stream",
     "text": [
      "----------------------------\n",
      "Train_z, Test_z\n",
      "PCA: 0.9264\n",
      "SVD: 0.9221\n",
      "NetG_fixD, Acc at sample 10 0.9527\n"
     ]
    },
    {
     "name": "stderr",
     "output_type": "stream",
     "text": [
      "extracting all features from dataset: 100%|██████████████████████████████████████████████| 2/2 [00:04<00:00,  2.42s/it]\n",
      "extracting all features from dataset: 100%|██████████████████████████████████████████████| 1/1 [00:01<00:00,  1.66s/it]\n"
     ]
    },
    {
     "name": "stdout",
     "output_type": "stream",
     "text": [
      "----------------------------\n",
      "Train_z, Test_z\n",
      "PCA: 0.9246\n",
      "SVD: 0.9177\n",
      "NetG_fixD, Acc at sample 11 0.9499\n"
     ]
    },
    {
     "name": "stderr",
     "output_type": "stream",
     "text": [
      "extracting all features from dataset: 100%|██████████████████████████████████████████████| 2/2 [00:04<00:00,  2.47s/it]\n",
      "extracting all features from dataset: 100%|██████████████████████████████████████████████| 1/1 [00:01<00:00,  1.66s/it]\n"
     ]
    },
    {
     "name": "stdout",
     "output_type": "stream",
     "text": [
      "----------------------------\n",
      "Train_z, Test_z\n",
      "PCA: 0.9258\n",
      "SVD: 0.9191\n",
      "NetG_fixD, Acc at sample 12 0.9534\n"
     ]
    },
    {
     "name": "stderr",
     "output_type": "stream",
     "text": [
      "extracting all features from dataset: 100%|██████████████████████████████████████████████| 2/2 [00:04<00:00,  2.47s/it]\n",
      "extracting all features from dataset: 100%|██████████████████████████████████████████████| 1/1 [00:01<00:00,  1.65s/it]\n"
     ]
    },
    {
     "name": "stdout",
     "output_type": "stream",
     "text": [
      "----------------------------\n",
      "Train_z, Test_z\n",
      "PCA: 0.9293\n",
      "SVD: 0.9235\n",
      "NetG_fixD, Acc at sample 13 0.9556\n"
     ]
    },
    {
     "name": "stderr",
     "output_type": "stream",
     "text": [
      "extracting all features from dataset: 100%|██████████████████████████████████████████████| 2/2 [00:04<00:00,  2.48s/it]\n",
      "extracting all features from dataset: 100%|██████████████████████████████████████████████| 1/1 [00:01<00:00,  1.65s/it]\n"
     ]
    },
    {
     "name": "stdout",
     "output_type": "stream",
     "text": [
      "----------------------------\n",
      "Train_z, Test_z\n",
      "PCA: 0.9247\n",
      "SVD: 0.9195\n",
      "NetG_fixD, Acc at sample 14 0.9532\n"
     ]
    },
    {
     "name": "stderr",
     "output_type": "stream",
     "text": [
      "extracting all features from dataset: 100%|██████████████████████████████████████████████| 2/2 [00:05<00:00,  2.53s/it]\n",
      "extracting all features from dataset: 100%|██████████████████████████████████████████████| 1/1 [00:01<00:00,  1.66s/it]\n"
     ]
    },
    {
     "name": "stdout",
     "output_type": "stream",
     "text": [
      "----------------------------\n",
      "Train_z, Test_z\n",
      "PCA: 0.9314\n",
      "SVD: 0.9279\n",
      "NetG_fixD, Acc at sample 15 0.9528\n"
     ]
    },
    {
     "name": "stderr",
     "output_type": "stream",
     "text": [
      "extracting all features from dataset: 100%|██████████████████████████████████████████████| 2/2 [00:04<00:00,  2.43s/it]\n",
      "extracting all features from dataset: 100%|██████████████████████████████████████████████| 1/1 [00:01<00:00,  1.64s/it]\n"
     ]
    },
    {
     "name": "stdout",
     "output_type": "stream",
     "text": [
      "----------------------------\n",
      "Train_z, Test_z\n",
      "PCA: 0.9234\n",
      "SVD: 0.9197\n",
      "NetG_fixD, Acc at sample 16 0.9522\n"
     ]
    },
    {
     "name": "stderr",
     "output_type": "stream",
     "text": [
      "extracting all features from dataset: 100%|██████████████████████████████████████████████| 2/2 [00:05<00:00,  2.54s/it]\n",
      "extracting all features from dataset: 100%|██████████████████████████████████████████████| 1/1 [00:01<00:00,  1.68s/it]\n"
     ]
    },
    {
     "name": "stdout",
     "output_type": "stream",
     "text": [
      "----------------------------\n",
      "Train_z, Test_z\n",
      "PCA: 0.9276\n",
      "SVD: 0.921\n",
      "NetG_fixD, Acc at sample 17 0.9546\n"
     ]
    },
    {
     "name": "stderr",
     "output_type": "stream",
     "text": [
      "extracting all features from dataset: 100%|██████████████████████████████████████████████| 2/2 [00:04<00:00,  2.49s/it]\n",
      "extracting all features from dataset: 100%|██████████████████████████████████████████████| 1/1 [00:01<00:00,  1.66s/it]\n"
     ]
    },
    {
     "name": "stdout",
     "output_type": "stream",
     "text": [
      "----------------------------\n",
      "Train_z, Test_z\n",
      "PCA: 0.9274\n",
      "SVD: 0.9189\n",
      "NetG_fixD, Acc at sample 18 0.9579\n"
     ]
    },
    {
     "name": "stderr",
     "output_type": "stream",
     "text": [
      "extracting all features from dataset: 100%|██████████████████████████████████████████████| 2/2 [00:04<00:00,  2.42s/it]\n",
      "extracting all features from dataset: 100%|██████████████████████████████████████████████| 1/1 [00:01<00:00,  1.67s/it]\n"
     ]
    },
    {
     "name": "stdout",
     "output_type": "stream",
     "text": [
      "----------------------------\n",
      "Train_z, Test_z\n",
      "PCA: 0.9198\n",
      "SVD: 0.9155\n",
      "NetG_fixD, Acc at sample 19 0.9553\n"
     ]
    },
    {
     "name": "stderr",
     "output_type": "stream",
     "text": [
      "extracting all features from dataset: 100%|██████████████████████████████████████████████| 2/2 [00:05<00:00,  2.62s/it]\n",
      "extracting all features from dataset: 100%|██████████████████████████████████████████████| 1/1 [00:01<00:00,  1.64s/it]\n"
     ]
    },
    {
     "name": "stdout",
     "output_type": "stream",
     "text": [
      "----------------------------\n",
      "Train_z, Test_z\n",
      "PCA: 0.9275\n",
      "SVD: 0.9218\n",
      "NetG_fixD, Acc at sample 20 0.9554\n",
      "0.9579 0.9497 0.95401 4.948900000000001e-06\n"
     ]
    }
   ],
   "source": [
    "# sample 20 times of NetG at final radius, NetD is fixed\n",
    "from sklearn.neighbors import KNeighborsClassifier \n",
    "Acc_results_G_sample5 = []\n",
    "\n",
    "for _ in range(sample_num):\n",
    "    #acc at first\n",
    "    net_noise = get_noise(DATASET, device, LABEL)\n",
    "    fed_state_dict = get_netG(netD,netV,net_noise,r_list[5])\n",
    "    netG.load_state_dict(fed_state_dict)\n",
    "    \n",
    "    train_X, train_Z, train_X_bar, train_Z_bar, train_labels = extract_features2(trainloader, netG, netD)\n",
    "\n",
    "    test_X, test_Z, test_X_bar, test_Z_bar, test_labels = extract_features2(testloader, netG, netD)\n",
    "\n",
    "    print(\"----------------------------\")\n",
    "    print(\"Train_z, Test_z\")\n",
    "    nearsub(n_comp, train_Z, train_labels, test_Z, test_labels)\n",
    "\n",
    "    knn= KNeighborsClassifier(n_neighbors=10) \n",
    "\n",
    "    knn.fit(train_Z,train_labels) \n",
    "    knn.score(test_Z_bar,test_labels) \n",
    "\n",
    "    y_predict = knn.predict(test_Z_bar) \n",
    "\n",
    "    count =0\n",
    "    for k in range(10000):\n",
    "        if y_predict[k] == test_labels[k]:\n",
    "            count +=1\n",
    "    print('NetG_fixD, Acc at sample',_+1,count/10000)\n",
    "    Acc_results_G_sample5.append(count/10000)\n",
    "    \n",
    "print(max(Acc_results_G_sample5),min(Acc_results_G_sample5),np.mean(Acc_results_G_sample5),np.var(Acc_results_G_sample5))"
   ]
  },
  {
   "cell_type": "code",
   "execution_count": 17,
   "id": "4594946a",
   "metadata": {},
   "outputs": [
    {
     "name": "stderr",
     "output_type": "stream",
     "text": [
      "extracting all features from dataset: 100%|██████████████████████████████████████████████| 2/2 [00:05<00:00,  2.51s/it]\n",
      "extracting all features from dataset: 100%|██████████████████████████████████████████████| 1/1 [00:01<00:00,  1.65s/it]\n"
     ]
    },
    {
     "name": "stdout",
     "output_type": "stream",
     "text": [
      "----------------------------\n",
      "Train_z, Test_z\n",
      "PCA: 0.9233\n",
      "SVD: 0.9155\n",
      "NetG_fixD, Acc at sample 1 0.7867\n"
     ]
    },
    {
     "name": "stderr",
     "output_type": "stream",
     "text": [
      "extracting all features from dataset: 100%|██████████████████████████████████████████████| 2/2 [00:04<00:00,  2.44s/it]\n",
      "extracting all features from dataset: 100%|██████████████████████████████████████████████| 1/1 [00:01<00:00,  1.64s/it]\n"
     ]
    },
    {
     "name": "stdout",
     "output_type": "stream",
     "text": [
      "----------------------------\n",
      "Train_z, Test_z\n",
      "PCA: 0.9281\n",
      "SVD: 0.9226\n",
      "NetG_fixD, Acc at sample 2 0.8341\n"
     ]
    },
    {
     "name": "stderr",
     "output_type": "stream",
     "text": [
      "extracting all features from dataset: 100%|██████████████████████████████████████████████| 2/2 [00:05<00:00,  2.56s/it]\n",
      "extracting all features from dataset: 100%|██████████████████████████████████████████████| 1/1 [00:01<00:00,  1.65s/it]\n"
     ]
    },
    {
     "name": "stdout",
     "output_type": "stream",
     "text": [
      "----------------------------\n",
      "Train_z, Test_z\n",
      "PCA: 0.9238\n",
      "SVD: 0.9198999999999999\n",
      "NetG_fixD, Acc at sample 3 0.8619\n"
     ]
    },
    {
     "name": "stderr",
     "output_type": "stream",
     "text": [
      "extracting all features from dataset: 100%|██████████████████████████████████████████████| 2/2 [00:04<00:00,  2.50s/it]\n",
      "extracting all features from dataset: 100%|██████████████████████████████████████████████| 1/1 [00:01<00:00,  1.69s/it]\n"
     ]
    },
    {
     "name": "stdout",
     "output_type": "stream",
     "text": [
      "----------------------------\n",
      "Train_z, Test_z\n",
      "PCA: 0.9226\n",
      "SVD: 0.918\n",
      "NetG_fixD, Acc at sample 4 0.905\n"
     ]
    },
    {
     "name": "stderr",
     "output_type": "stream",
     "text": [
      "extracting all features from dataset: 100%|██████████████████████████████████████████████| 2/2 [00:04<00:00,  2.38s/it]\n",
      "extracting all features from dataset: 100%|██████████████████████████████████████████████| 1/1 [00:01<00:00,  1.63s/it]\n"
     ]
    },
    {
     "name": "stdout",
     "output_type": "stream",
     "text": [
      "----------------------------\n",
      "Train_z, Test_z\n",
      "PCA: 0.929\n",
      "SVD: 0.9252\n",
      "NetG_fixD, Acc at sample 5 0.8698\n"
     ]
    },
    {
     "name": "stderr",
     "output_type": "stream",
     "text": [
      "extracting all features from dataset: 100%|██████████████████████████████████████████████| 2/2 [00:05<00:00,  2.58s/it]\n",
      "extracting all features from dataset: 100%|██████████████████████████████████████████████| 1/1 [00:01<00:00,  1.67s/it]\n"
     ]
    },
    {
     "name": "stdout",
     "output_type": "stream",
     "text": [
      "----------------------------\n",
      "Train_z, Test_z\n",
      "PCA: 0.9234\n",
      "SVD: 0.9184\n",
      "NetG_fixD, Acc at sample 6 0.7828\n"
     ]
    },
    {
     "name": "stderr",
     "output_type": "stream",
     "text": [
      "extracting all features from dataset: 100%|██████████████████████████████████████████████| 2/2 [00:04<00:00,  2.50s/it]\n",
      "extracting all features from dataset: 100%|██████████████████████████████████████████████| 1/1 [00:01<00:00,  1.61s/it]\n"
     ]
    },
    {
     "name": "stdout",
     "output_type": "stream",
     "text": [
      "----------------------------\n",
      "Train_z, Test_z\n",
      "PCA: 0.916\n",
      "SVD: 0.9112\n",
      "NetG_fixD, Acc at sample 7 0.8822\n"
     ]
    },
    {
     "name": "stderr",
     "output_type": "stream",
     "text": [
      "extracting all features from dataset: 100%|██████████████████████████████████████████████| 2/2 [00:05<00:00,  2.55s/it]\n",
      "extracting all features from dataset: 100%|██████████████████████████████████████████████| 1/1 [00:01<00:00,  1.67s/it]\n"
     ]
    },
    {
     "name": "stdout",
     "output_type": "stream",
     "text": [
      "----------------------------\n",
      "Train_z, Test_z\n",
      "PCA: 0.9173\n",
      "SVD: 0.9137\n",
      "NetG_fixD, Acc at sample 8 0.8495\n"
     ]
    },
    {
     "name": "stderr",
     "output_type": "stream",
     "text": [
      "extracting all features from dataset: 100%|██████████████████████████████████████████████| 2/2 [00:05<00:00,  2.55s/it]\n",
      "extracting all features from dataset: 100%|██████████████████████████████████████████████| 1/1 [00:01<00:00,  1.65s/it]\n"
     ]
    },
    {
     "name": "stdout",
     "output_type": "stream",
     "text": [
      "----------------------------\n",
      "Train_z, Test_z\n",
      "PCA: 0.9229\n",
      "SVD: 0.9178999999999999\n",
      "NetG_fixD, Acc at sample 9 0.798\n"
     ]
    },
    {
     "name": "stderr",
     "output_type": "stream",
     "text": [
      "extracting all features from dataset: 100%|██████████████████████████████████████████████| 2/2 [00:04<00:00,  2.46s/it]\n",
      "extracting all features from dataset: 100%|██████████████████████████████████████████████| 1/1 [00:01<00:00,  1.65s/it]\n"
     ]
    },
    {
     "name": "stdout",
     "output_type": "stream",
     "text": [
      "----------------------------\n",
      "Train_z, Test_z\n",
      "PCA: 0.9186\n",
      "SVD: 0.9132\n",
      "NetG_fixD, Acc at sample 10 0.8207\n"
     ]
    },
    {
     "name": "stderr",
     "output_type": "stream",
     "text": [
      "extracting all features from dataset: 100%|██████████████████████████████████████████████| 2/2 [00:04<00:00,  2.40s/it]\n",
      "extracting all features from dataset: 100%|██████████████████████████████████████████████| 1/1 [00:01<00:00,  1.68s/it]\n"
     ]
    },
    {
     "name": "stdout",
     "output_type": "stream",
     "text": [
      "----------------------------\n",
      "Train_z, Test_z\n",
      "PCA: 0.9254\n",
      "SVD: 0.9231\n",
      "NetG_fixD, Acc at sample 11 0.8747\n"
     ]
    },
    {
     "name": "stderr",
     "output_type": "stream",
     "text": [
      "extracting all features from dataset: 100%|██████████████████████████████████████████████| 2/2 [00:04<00:00,  2.44s/it]\n",
      "extracting all features from dataset: 100%|██████████████████████████████████████████████| 1/1 [00:01<00:00,  1.65s/it]\n"
     ]
    },
    {
     "name": "stdout",
     "output_type": "stream",
     "text": [
      "----------------------------\n",
      "Train_z, Test_z\n",
      "PCA: 0.9194\n",
      "SVD: 0.9138\n",
      "NetG_fixD, Acc at sample 12 0.8444\n"
     ]
    },
    {
     "name": "stderr",
     "output_type": "stream",
     "text": [
      "extracting all features from dataset: 100%|██████████████████████████████████████████████| 2/2 [00:05<00:00,  2.53s/it]\n",
      "extracting all features from dataset: 100%|██████████████████████████████████████████████| 1/1 [00:01<00:00,  1.67s/it]\n"
     ]
    },
    {
     "name": "stdout",
     "output_type": "stream",
     "text": [
      "----------------------------\n",
      "Train_z, Test_z\n",
      "PCA: 0.9247\n",
      "SVD: 0.9182\n",
      "NetG_fixD, Acc at sample 13 0.8767\n"
     ]
    },
    {
     "name": "stderr",
     "output_type": "stream",
     "text": [
      "extracting all features from dataset: 100%|██████████████████████████████████████████████| 2/2 [00:04<00:00,  2.49s/it]\n",
      "extracting all features from dataset: 100%|██████████████████████████████████████████████| 1/1 [00:01<00:00,  1.67s/it]\n"
     ]
    },
    {
     "name": "stdout",
     "output_type": "stream",
     "text": [
      "----------------------------\n",
      "Train_z, Test_z\n",
      "PCA: 0.9273\n",
      "SVD: 0.9238\n",
      "NetG_fixD, Acc at sample 14 0.844\n"
     ]
    },
    {
     "name": "stderr",
     "output_type": "stream",
     "text": [
      "extracting all features from dataset: 100%|██████████████████████████████████████████████| 2/2 [00:04<00:00,  2.40s/it]\n",
      "extracting all features from dataset: 100%|██████████████████████████████████████████████| 1/1 [00:01<00:00,  1.67s/it]\n"
     ]
    },
    {
     "name": "stdout",
     "output_type": "stream",
     "text": [
      "----------------------------\n",
      "Train_z, Test_z\n",
      "PCA: 0.9244\n",
      "SVD: 0.9188000000000001\n",
      "NetG_fixD, Acc at sample 15 0.902\n"
     ]
    },
    {
     "name": "stderr",
     "output_type": "stream",
     "text": [
      "extracting all features from dataset: 100%|██████████████████████████████████████████████| 2/2 [00:04<00:00,  2.48s/it]\n",
      "extracting all features from dataset: 100%|██████████████████████████████████████████████| 1/1 [00:01<00:00,  1.67s/it]\n"
     ]
    },
    {
     "name": "stdout",
     "output_type": "stream",
     "text": [
      "----------------------------\n",
      "Train_z, Test_z\n",
      "PCA: 0.9225\n",
      "SVD: 0.9147\n",
      "NetG_fixD, Acc at sample 16 0.8817\n"
     ]
    },
    {
     "name": "stderr",
     "output_type": "stream",
     "text": [
      "extracting all features from dataset: 100%|██████████████████████████████████████████████| 2/2 [00:05<00:00,  2.54s/it]\n",
      "extracting all features from dataset: 100%|██████████████████████████████████████████████| 1/1 [00:01<00:00,  1.66s/it]\n"
     ]
    },
    {
     "name": "stdout",
     "output_type": "stream",
     "text": [
      "----------------------------\n",
      "Train_z, Test_z\n",
      "PCA: 0.92\n",
      "SVD: 0.9136\n",
      "NetG_fixD, Acc at sample 17 0.7897\n"
     ]
    },
    {
     "name": "stderr",
     "output_type": "stream",
     "text": [
      "extracting all features from dataset: 100%|██████████████████████████████████████████████| 2/2 [00:05<00:00,  2.58s/it]\n",
      "extracting all features from dataset: 100%|██████████████████████████████████████████████| 1/1 [00:01<00:00,  1.66s/it]\n"
     ]
    },
    {
     "name": "stdout",
     "output_type": "stream",
     "text": [
      "----------------------------\n",
      "Train_z, Test_z\n",
      "PCA: 0.9279\n",
      "SVD: 0.9232\n",
      "NetG_fixD, Acc at sample 18 0.7698\n"
     ]
    },
    {
     "name": "stderr",
     "output_type": "stream",
     "text": [
      "extracting all features from dataset: 100%|██████████████████████████████████████████████| 2/2 [00:05<00:00,  2.53s/it]\n",
      "extracting all features from dataset: 100%|██████████████████████████████████████████████| 1/1 [00:01<00:00,  1.63s/it]\n"
     ]
    },
    {
     "name": "stdout",
     "output_type": "stream",
     "text": [
      "----------------------------\n",
      "Train_z, Test_z\n",
      "PCA: 0.9268\n",
      "SVD: 0.9221\n",
      "NetG_fixD, Acc at sample 19 0.8387\n"
     ]
    },
    {
     "name": "stderr",
     "output_type": "stream",
     "text": [
      "extracting all features from dataset: 100%|██████████████████████████████████████████████| 2/2 [00:04<00:00,  2.43s/it]\n",
      "extracting all features from dataset: 100%|██████████████████████████████████████████████| 1/1 [00:01<00:00,  1.64s/it]\n"
     ]
    },
    {
     "name": "stdout",
     "output_type": "stream",
     "text": [
      "----------------------------\n",
      "Train_z, Test_z\n",
      "PCA: 0.9192\n",
      "SVD: 0.9121\n",
      "NetG_fixD, Acc at sample 20 0.8934\n",
      "0.905 0.7698 0.84529 0.0016834348999999998\n"
     ]
    }
   ],
   "source": [
    "# sample 20 times of NetG at final radius, NetD is fixed\n",
    "from sklearn.neighbors import KNeighborsClassifier \n",
    "Acc_results_G_sample6 = []\n",
    "\n",
    "for _ in range(sample_num):\n",
    "    #acc at first\n",
    "    net_noise = get_noise(DATASET, device, LABEL)\n",
    "    fed_state_dict = get_netG(netD,netV,net_noise,r_list[6])\n",
    "    netG.load_state_dict(fed_state_dict)\n",
    "    \n",
    "    train_X, train_Z, train_X_bar, train_Z_bar, train_labels = extract_features2(trainloader, netG, netD)\n",
    "\n",
    "    test_X, test_Z, test_X_bar, test_Z_bar, test_labels = extract_features2(testloader, netG, netD)\n",
    "\n",
    "    print(\"----------------------------\")\n",
    "    print(\"Train_z, Test_z\")\n",
    "    nearsub(n_comp, train_Z, train_labels, test_Z, test_labels)\n",
    "\n",
    "    knn= KNeighborsClassifier(n_neighbors=10) \n",
    "\n",
    "    knn.fit(train_Z,train_labels) \n",
    "    knn.score(test_Z_bar,test_labels) \n",
    "\n",
    "    y_predict = knn.predict(test_Z_bar) \n",
    "\n",
    "    count =0\n",
    "    for k in range(10000):\n",
    "        if y_predict[k] == test_labels[k]:\n",
    "            count +=1\n",
    "    print('NetG_fixD, Acc at sample',_+1,count/10000)\n",
    "    Acc_results_G_sample6.append(count/10000)\n",
    "    \n",
    "print(max(Acc_results_G_sample6),min(Acc_results_G_sample6),np.mean(Acc_results_G_sample6),np.var(Acc_results_G_sample6))"
   ]
  },
  {
   "cell_type": "code",
   "execution_count": 18,
   "id": "9bac47e0",
   "metadata": {},
   "outputs": [
    {
     "name": "stderr",
     "output_type": "stream",
     "text": [
      "extracting all features from dataset: 100%|██████████████████████████████████████████████| 2/2 [00:05<00:00,  2.52s/it]\n",
      "extracting all features from dataset: 100%|██████████████████████████████████████████████| 1/1 [00:01<00:00,  1.63s/it]\n"
     ]
    },
    {
     "name": "stdout",
     "output_type": "stream",
     "text": [
      "----------------------------\n",
      "Train_z, Test_z\n",
      "PCA: 0.9243\n",
      "SVD: 0.9178999999999999\n",
      "NetG_fixD, Acc at sample 1 0.5393\n"
     ]
    },
    {
     "name": "stderr",
     "output_type": "stream",
     "text": [
      "extracting all features from dataset: 100%|██████████████████████████████████████████████| 2/2 [00:04<00:00,  2.41s/it]\n",
      "extracting all features from dataset: 100%|██████████████████████████████████████████████| 1/1 [00:01<00:00,  1.64s/it]\n"
     ]
    },
    {
     "name": "stdout",
     "output_type": "stream",
     "text": [
      "----------------------------\n",
      "Train_z, Test_z\n",
      "PCA: 0.9213\n",
      "SVD: 0.9168000000000001\n",
      "NetG_fixD, Acc at sample 2 0.4054\n"
     ]
    },
    {
     "name": "stderr",
     "output_type": "stream",
     "text": [
      "extracting all features from dataset: 100%|██████████████████████████████████████████████| 2/2 [00:04<00:00,  2.50s/it]\n",
      "extracting all features from dataset: 100%|██████████████████████████████████████████████| 1/1 [00:01<00:00,  1.64s/it]\n"
     ]
    },
    {
     "name": "stdout",
     "output_type": "stream",
     "text": [
      "----------------------------\n",
      "Train_z, Test_z\n",
      "PCA: 0.9306\n",
      "SVD: 0.9241\n",
      "NetG_fixD, Acc at sample 3 0.3824\n"
     ]
    },
    {
     "name": "stderr",
     "output_type": "stream",
     "text": [
      "extracting all features from dataset: 100%|██████████████████████████████████████████████| 2/2 [00:04<00:00,  2.49s/it]\n",
      "extracting all features from dataset: 100%|██████████████████████████████████████████████| 1/1 [00:01<00:00,  1.64s/it]\n"
     ]
    },
    {
     "name": "stdout",
     "output_type": "stream",
     "text": [
      "----------------------------\n",
      "Train_z, Test_z\n",
      "PCA: 0.9326\n",
      "SVD: 0.927\n",
      "NetG_fixD, Acc at sample 4 0.3438\n"
     ]
    },
    {
     "name": "stderr",
     "output_type": "stream",
     "text": [
      "extracting all features from dataset: 100%|██████████████████████████████████████████████| 2/2 [00:04<00:00,  2.49s/it]\n",
      "extracting all features from dataset: 100%|██████████████████████████████████████████████| 1/1 [00:01<00:00,  1.66s/it]\n"
     ]
    },
    {
     "name": "stdout",
     "output_type": "stream",
     "text": [
      "----------------------------\n",
      "Train_z, Test_z\n",
      "PCA: 0.9204\n",
      "SVD: 0.917\n",
      "NetG_fixD, Acc at sample 5 0.496\n"
     ]
    },
    {
     "name": "stderr",
     "output_type": "stream",
     "text": [
      "extracting all features from dataset: 100%|██████████████████████████████████████████████| 2/2 [00:05<00:00,  2.51s/it]\n",
      "extracting all features from dataset: 100%|██████████████████████████████████████████████| 1/1 [00:01<00:00,  1.61s/it]\n"
     ]
    },
    {
     "name": "stdout",
     "output_type": "stream",
     "text": [
      "----------------------------\n",
      "Train_z, Test_z\n",
      "PCA: 0.9264\n",
      "SVD: 0.9194\n",
      "NetG_fixD, Acc at sample 6 0.4191\n"
     ]
    },
    {
     "name": "stderr",
     "output_type": "stream",
     "text": [
      "extracting all features from dataset: 100%|██████████████████████████████████████████████| 2/2 [00:04<00:00,  2.39s/it]\n",
      "extracting all features from dataset: 100%|██████████████████████████████████████████████| 1/1 [00:01<00:00,  1.68s/it]\n"
     ]
    },
    {
     "name": "stdout",
     "output_type": "stream",
     "text": [
      "----------------------------\n",
      "Train_z, Test_z\n",
      "PCA: 0.9203\n",
      "SVD: 0.9148000000000001\n",
      "NetG_fixD, Acc at sample 7 0.5142\n"
     ]
    },
    {
     "name": "stderr",
     "output_type": "stream",
     "text": [
      "extracting all features from dataset: 100%|██████████████████████████████████████████████| 2/2 [00:05<00:00,  2.56s/it]\n",
      "extracting all features from dataset: 100%|██████████████████████████████████████████████| 1/1 [00:01<00:00,  1.66s/it]\n"
     ]
    },
    {
     "name": "stdout",
     "output_type": "stream",
     "text": [
      "----------------------------\n",
      "Train_z, Test_z\n",
      "PCA: 0.924\n",
      "SVD: 0.92\n",
      "NetG_fixD, Acc at sample 8 0.3523\n"
     ]
    },
    {
     "name": "stderr",
     "output_type": "stream",
     "text": [
      "extracting all features from dataset: 100%|██████████████████████████████████████████████| 2/2 [00:05<00:00,  2.52s/it]\n",
      "extracting all features from dataset: 100%|██████████████████████████████████████████████| 1/1 [00:01<00:00,  1.67s/it]\n"
     ]
    },
    {
     "name": "stdout",
     "output_type": "stream",
     "text": [
      "----------------------------\n",
      "Train_z, Test_z\n",
      "PCA: 0.9283\n",
      "SVD: 0.9246\n",
      "NetG_fixD, Acc at sample 9 0.5184\n"
     ]
    },
    {
     "name": "stderr",
     "output_type": "stream",
     "text": [
      "extracting all features from dataset: 100%|██████████████████████████████████████████████| 2/2 [00:05<00:00,  2.52s/it]\n",
      "extracting all features from dataset: 100%|██████████████████████████████████████████████| 1/1 [00:01<00:00,  1.66s/it]\n"
     ]
    },
    {
     "name": "stdout",
     "output_type": "stream",
     "text": [
      "----------------------------\n",
      "Train_z, Test_z\n",
      "PCA: 0.918\n",
      "SVD: 0.916\n",
      "NetG_fixD, Acc at sample 10 0.3739\n"
     ]
    },
    {
     "name": "stderr",
     "output_type": "stream",
     "text": [
      "extracting all features from dataset: 100%|██████████████████████████████████████████████| 2/2 [00:05<00:00,  2.57s/it]\n",
      "extracting all features from dataset: 100%|██████████████████████████████████████████████| 1/1 [00:01<00:00,  1.68s/it]\n"
     ]
    },
    {
     "name": "stdout",
     "output_type": "stream",
     "text": [
      "----------------------------\n",
      "Train_z, Test_z\n",
      "PCA: 0.9279\n",
      "SVD: 0.9204\n",
      "NetG_fixD, Acc at sample 11 0.4698\n"
     ]
    },
    {
     "name": "stderr",
     "output_type": "stream",
     "text": [
      "extracting all features from dataset: 100%|██████████████████████████████████████████████| 2/2 [00:05<00:00,  2.56s/it]\n",
      "extracting all features from dataset: 100%|██████████████████████████████████████████████| 1/1 [00:01<00:00,  1.67s/it]\n"
     ]
    },
    {
     "name": "stdout",
     "output_type": "stream",
     "text": [
      "----------------------------\n",
      "Train_z, Test_z\n",
      "PCA: 0.9299\n",
      "SVD: 0.9248\n",
      "NetG_fixD, Acc at sample 12 0.4699\n"
     ]
    },
    {
     "name": "stderr",
     "output_type": "stream",
     "text": [
      "extracting all features from dataset: 100%|██████████████████████████████████████████████| 2/2 [00:05<00:00,  2.51s/it]\n",
      "extracting all features from dataset: 100%|██████████████████████████████████████████████| 1/1 [00:01<00:00,  1.65s/it]\n"
     ]
    },
    {
     "name": "stdout",
     "output_type": "stream",
     "text": [
      "----------------------------\n",
      "Train_z, Test_z\n",
      "PCA: 0.9158\n",
      "SVD: 0.9131\n",
      "NetG_fixD, Acc at sample 13 0.2811\n"
     ]
    },
    {
     "name": "stderr",
     "output_type": "stream",
     "text": [
      "extracting all features from dataset: 100%|██████████████████████████████████████████████| 2/2 [00:04<00:00,  2.49s/it]\n",
      "extracting all features from dataset: 100%|██████████████████████████████████████████████| 1/1 [00:01<00:00,  1.63s/it]\n"
     ]
    },
    {
     "name": "stdout",
     "output_type": "stream",
     "text": [
      "----------------------------\n",
      "Train_z, Test_z\n",
      "PCA: 0.9275\n",
      "SVD: 0.9252\n",
      "NetG_fixD, Acc at sample 14 0.4779\n"
     ]
    },
    {
     "name": "stderr",
     "output_type": "stream",
     "text": [
      "extracting all features from dataset: 100%|██████████████████████████████████████████████| 2/2 [00:05<00:00,  2.53s/it]\n",
      "extracting all features from dataset: 100%|██████████████████████████████████████████████| 1/1 [00:01<00:00,  1.67s/it]\n"
     ]
    },
    {
     "name": "stdout",
     "output_type": "stream",
     "text": [
      "----------------------------\n",
      "Train_z, Test_z\n",
      "PCA: 0.9211\n",
      "SVD: 0.9176\n",
      "NetG_fixD, Acc at sample 15 0.4828\n"
     ]
    },
    {
     "name": "stderr",
     "output_type": "stream",
     "text": [
      "extracting all features from dataset: 100%|██████████████████████████████████████████████| 2/2 [00:05<00:00,  2.55s/it]\n",
      "extracting all features from dataset: 100%|██████████████████████████████████████████████| 1/1 [00:01<00:00,  1.65s/it]\n"
     ]
    },
    {
     "name": "stdout",
     "output_type": "stream",
     "text": [
      "----------------------------\n",
      "Train_z, Test_z\n",
      "PCA: 0.9209\n",
      "SVD: 0.917\n",
      "NetG_fixD, Acc at sample 16 0.3488\n"
     ]
    },
    {
     "name": "stderr",
     "output_type": "stream",
     "text": [
      "extracting all features from dataset: 100%|██████████████████████████████████████████████| 2/2 [00:04<00:00,  2.44s/it]\n",
      "extracting all features from dataset: 100%|██████████████████████████████████████████████| 1/1 [00:01<00:00,  1.64s/it]\n"
     ]
    },
    {
     "name": "stdout",
     "output_type": "stream",
     "text": [
      "----------------------------\n",
      "Train_z, Test_z\n",
      "PCA: 0.9211\n",
      "SVD: 0.9153\n",
      "NetG_fixD, Acc at sample 17 0.3573\n"
     ]
    },
    {
     "name": "stderr",
     "output_type": "stream",
     "text": [
      "extracting all features from dataset: 100%|██████████████████████████████████████████████| 2/2 [00:04<00:00,  2.44s/it]\n",
      "extracting all features from dataset: 100%|██████████████████████████████████████████████| 1/1 [00:01<00:00,  1.67s/it]\n"
     ]
    },
    {
     "name": "stdout",
     "output_type": "stream",
     "text": [
      "----------------------------\n",
      "Train_z, Test_z\n",
      "PCA: 0.9227\n",
      "SVD: 0.9162\n",
      "NetG_fixD, Acc at sample 18 0.4504\n"
     ]
    },
    {
     "name": "stderr",
     "output_type": "stream",
     "text": [
      "extracting all features from dataset: 100%|██████████████████████████████████████████████| 2/2 [00:04<00:00,  2.44s/it]\n",
      "extracting all features from dataset: 100%|██████████████████████████████████████████████| 1/1 [00:01<00:00,  1.65s/it]\n"
     ]
    },
    {
     "name": "stdout",
     "output_type": "stream",
     "text": [
      "----------------------------\n",
      "Train_z, Test_z\n",
      "PCA: 0.9254\n",
      "SVD: 0.9207\n",
      "NetG_fixD, Acc at sample 19 0.405\n"
     ]
    },
    {
     "name": "stderr",
     "output_type": "stream",
     "text": [
      "extracting all features from dataset: 100%|██████████████████████████████████████████████| 2/2 [00:05<00:00,  2.52s/it]\n",
      "extracting all features from dataset: 100%|██████████████████████████████████████████████| 1/1 [00:01<00:00,  1.66s/it]\n"
     ]
    },
    {
     "name": "stdout",
     "output_type": "stream",
     "text": [
      "----------------------------\n",
      "Train_z, Test_z\n",
      "PCA: 0.9189\n",
      "SVD: 0.9148000000000001\n",
      "NetG_fixD, Acc at sample 20 0.441\n",
      "0.5393 0.2811 0.4264400000000001 0.004701414399999999\n"
     ]
    }
   ],
   "source": [
    "# sample 20 times of NetG at final radius, NetD is fixed\n",
    "from sklearn.neighbors import KNeighborsClassifier \n",
    "Acc_results_G_sample7 = []\n",
    "\n",
    "for _ in range(sample_num):\n",
    "    #acc at first\n",
    "    net_noise = get_noise(DATASET, device, LABEL)\n",
    "    fed_state_dict = get_netG(netD,netV,net_noise,r_list[7])\n",
    "    netG.load_state_dict(fed_state_dict)\n",
    "    \n",
    "    train_X, train_Z, train_X_bar, train_Z_bar, train_labels = extract_features2(trainloader, netG, netD)\n",
    "\n",
    "    test_X, test_Z, test_X_bar, test_Z_bar, test_labels = extract_features2(testloader, netG, netD)\n",
    "\n",
    "    print(\"----------------------------\")\n",
    "    print(\"Train_z, Test_z\")\n",
    "    nearsub(n_comp, train_Z, train_labels, test_Z, test_labels)\n",
    "\n",
    "    knn= KNeighborsClassifier(n_neighbors=10) \n",
    "\n",
    "    knn.fit(train_Z,train_labels) \n",
    "    knn.score(test_Z_bar,test_labels) \n",
    "\n",
    "    y_predict = knn.predict(test_Z_bar) \n",
    "\n",
    "    count =0\n",
    "    for k in range(10000):\n",
    "        if y_predict[k] == test_labels[k]:\n",
    "            count +=1\n",
    "    print('NetG_fixD, Acc at sample',_+1,count/10000)\n",
    "    Acc_results_G_sample7.append(count/10000)\n",
    "    \n",
    "print(max(Acc_results_G_sample7),min(Acc_results_G_sample7),np.mean(Acc_results_G_sample7),np.var(Acc_results_G_sample7))"
   ]
  },
  {
   "cell_type": "code",
   "execution_count": 19,
   "id": "10863846",
   "metadata": {},
   "outputs": [
    {
     "name": "stderr",
     "output_type": "stream",
     "text": [
      "extracting all features from dataset: 100%|██████████████████████████████████████████████| 2/2 [00:05<00:00,  2.52s/it]\n",
      "extracting all features from dataset: 100%|██████████████████████████████████████████████| 1/1 [00:01<00:00,  1.64s/it]\n"
     ]
    },
    {
     "name": "stdout",
     "output_type": "stream",
     "text": [
      "----------------------------\n",
      "Train_z, Test_z\n",
      "PCA: 0.9256\n",
      "SVD: 0.9252\n",
      "NetG_fixD, Acc at sample 1 0.1223\n"
     ]
    },
    {
     "name": "stderr",
     "output_type": "stream",
     "text": [
      "extracting all features from dataset: 100%|██████████████████████████████████████████████| 2/2 [00:05<00:00,  2.52s/it]\n",
      "extracting all features from dataset: 100%|██████████████████████████████████████████████| 1/1 [00:01<00:00,  1.66s/it]\n"
     ]
    },
    {
     "name": "stdout",
     "output_type": "stream",
     "text": [
      "----------------------------\n",
      "Train_z, Test_z\n",
      "PCA: 0.931\n",
      "SVD: 0.925\n",
      "NetG_fixD, Acc at sample 2 0.129\n"
     ]
    },
    {
     "name": "stderr",
     "output_type": "stream",
     "text": [
      "extracting all features from dataset: 100%|██████████████████████████████████████████████| 2/2 [00:04<00:00,  2.40s/it]\n",
      "extracting all features from dataset: 100%|██████████████████████████████████████████████| 1/1 [00:01<00:00,  1.65s/it]\n"
     ]
    },
    {
     "name": "stdout",
     "output_type": "stream",
     "text": [
      "----------------------------\n",
      "Train_z, Test_z\n",
      "PCA: 0.9209\n",
      "SVD: 0.9185\n",
      "NetG_fixD, Acc at sample 3 0.136\n"
     ]
    },
    {
     "name": "stderr",
     "output_type": "stream",
     "text": [
      "extracting all features from dataset: 100%|██████████████████████████████████████████████| 2/2 [00:04<00:00,  2.45s/it]\n",
      "extracting all features from dataset: 100%|██████████████████████████████████████████████| 1/1 [00:01<00:00,  1.67s/it]\n"
     ]
    },
    {
     "name": "stdout",
     "output_type": "stream",
     "text": [
      "----------------------------\n",
      "Train_z, Test_z\n",
      "PCA: 0.9284\n",
      "SVD: 0.9249\n",
      "NetG_fixD, Acc at sample 4 0.1\n"
     ]
    },
    {
     "name": "stderr",
     "output_type": "stream",
     "text": [
      "extracting all features from dataset: 100%|██████████████████████████████████████████████| 2/2 [00:04<00:00,  2.46s/it]\n",
      "extracting all features from dataset: 100%|██████████████████████████████████████████████| 1/1 [00:01<00:00,  1.67s/it]\n"
     ]
    },
    {
     "name": "stdout",
     "output_type": "stream",
     "text": [
      "----------------------------\n",
      "Train_z, Test_z\n",
      "PCA: 0.9308\n",
      "SVD: 0.9274\n",
      "NetG_fixD, Acc at sample 5 0.1247\n"
     ]
    },
    {
     "name": "stderr",
     "output_type": "stream",
     "text": [
      "extracting all features from dataset: 100%|██████████████████████████████████████████████| 2/2 [00:04<00:00,  2.42s/it]\n",
      "extracting all features from dataset: 100%|██████████████████████████████████████████████| 1/1 [00:01<00:00,  1.66s/it]\n"
     ]
    },
    {
     "name": "stdout",
     "output_type": "stream",
     "text": [
      "----------------------------\n",
      "Train_z, Test_z\n",
      "PCA: 0.9259\n",
      "SVD: 0.9198\n",
      "NetG_fixD, Acc at sample 6 0.1329\n"
     ]
    },
    {
     "name": "stderr",
     "output_type": "stream",
     "text": [
      "extracting all features from dataset: 100%|██████████████████████████████████████████████| 2/2 [00:05<00:00,  2.53s/it]\n",
      "extracting all features from dataset: 100%|██████████████████████████████████████████████| 1/1 [00:01<00:00,  1.65s/it]\n"
     ]
    },
    {
     "name": "stdout",
     "output_type": "stream",
     "text": [
      "----------------------------\n",
      "Train_z, Test_z\n",
      "PCA: 0.9232\n",
      "SVD: 0.92\n",
      "NetG_fixD, Acc at sample 7 0.1179\n"
     ]
    },
    {
     "name": "stderr",
     "output_type": "stream",
     "text": [
      "extracting all features from dataset: 100%|██████████████████████████████████████████████| 2/2 [00:05<00:00,  2.56s/it]\n",
      "extracting all features from dataset: 100%|██████████████████████████████████████████████| 1/1 [00:01<00:00,  1.65s/it]\n"
     ]
    },
    {
     "name": "stdout",
     "output_type": "stream",
     "text": [
      "----------------------------\n",
      "Train_z, Test_z\n",
      "PCA: 0.9232\n",
      "SVD: 0.9165\n",
      "NetG_fixD, Acc at sample 8 0.1287\n"
     ]
    },
    {
     "name": "stderr",
     "output_type": "stream",
     "text": [
      "extracting all features from dataset: 100%|██████████████████████████████████████████████| 2/2 [00:04<00:00,  2.40s/it]\n",
      "extracting all features from dataset: 100%|██████████████████████████████████████████████| 1/1 [00:01<00:00,  1.65s/it]\n"
     ]
    },
    {
     "name": "stdout",
     "output_type": "stream",
     "text": [
      "----------------------------\n",
      "Train_z, Test_z\n",
      "PCA: 0.9322\n",
      "SVD: 0.9273\n",
      "NetG_fixD, Acc at sample 9 0.1393\n"
     ]
    },
    {
     "name": "stderr",
     "output_type": "stream",
     "text": [
      "extracting all features from dataset: 100%|██████████████████████████████████████████████| 2/2 [00:04<00:00,  2.39s/it]\n",
      "extracting all features from dataset: 100%|██████████████████████████████████████████████| 1/1 [00:01<00:00,  1.65s/it]\n"
     ]
    },
    {
     "name": "stdout",
     "output_type": "stream",
     "text": [
      "----------------------------\n",
      "Train_z, Test_z\n",
      "PCA: 0.9238999999999999\n",
      "SVD: 0.9183\n",
      "NetG_fixD, Acc at sample 10 0.1618\n"
     ]
    },
    {
     "name": "stderr",
     "output_type": "stream",
     "text": [
      "extracting all features from dataset: 100%|██████████████████████████████████████████████| 2/2 [00:05<00:00,  2.53s/it]\n",
      "extracting all features from dataset: 100%|██████████████████████████████████████████████| 1/1 [00:01<00:00,  1.67s/it]\n"
     ]
    },
    {
     "name": "stdout",
     "output_type": "stream",
     "text": [
      "----------------------------\n",
      "Train_z, Test_z\n",
      "PCA: 0.9175\n",
      "SVD: 0.9154\n",
      "NetG_fixD, Acc at sample 11 0.132\n"
     ]
    },
    {
     "name": "stderr",
     "output_type": "stream",
     "text": [
      "extracting all features from dataset: 100%|██████████████████████████████████████████████| 2/2 [00:04<00:00,  2.46s/it]\n",
      "extracting all features from dataset: 100%|██████████████████████████████████████████████| 1/1 [00:01<00:00,  1.65s/it]\n"
     ]
    },
    {
     "name": "stdout",
     "output_type": "stream",
     "text": [
      "----------------------------\n",
      "Train_z, Test_z\n",
      "PCA: 0.9276\n",
      "SVD: 0.9267\n",
      "NetG_fixD, Acc at sample 12 0.1552\n"
     ]
    },
    {
     "name": "stderr",
     "output_type": "stream",
     "text": [
      "extracting all features from dataset: 100%|██████████████████████████████████████████████| 2/2 [00:04<00:00,  2.48s/it]\n",
      "extracting all features from dataset: 100%|██████████████████████████████████████████████| 1/1 [00:01<00:00,  1.64s/it]\n"
     ]
    },
    {
     "name": "stdout",
     "output_type": "stream",
     "text": [
      "----------------------------\n",
      "Train_z, Test_z\n",
      "PCA: 0.921\n",
      "SVD: 0.9141\n",
      "NetG_fixD, Acc at sample 13 0.1159\n"
     ]
    },
    {
     "name": "stderr",
     "output_type": "stream",
     "text": [
      "extracting all features from dataset: 100%|██████████████████████████████████████████████| 2/2 [00:04<00:00,  2.45s/it]\n",
      "extracting all features from dataset: 100%|██████████████████████████████████████████████| 1/1 [00:01<00:00,  1.61s/it]\n"
     ]
    },
    {
     "name": "stdout",
     "output_type": "stream",
     "text": [
      "----------------------------\n",
      "Train_z, Test_z\n",
      "PCA: 0.9276\n",
      "SVD: 0.9258\n",
      "NetG_fixD, Acc at sample 14 0.1512\n"
     ]
    },
    {
     "name": "stderr",
     "output_type": "stream",
     "text": [
      "extracting all features from dataset: 100%|██████████████████████████████████████████████| 2/2 [00:04<00:00,  2.47s/it]\n",
      "extracting all features from dataset: 100%|██████████████████████████████████████████████| 1/1 [00:01<00:00,  1.64s/it]\n"
     ]
    },
    {
     "name": "stdout",
     "output_type": "stream",
     "text": [
      "----------------------------\n",
      "Train_z, Test_z\n",
      "PCA: 0.9233\n",
      "SVD: 0.9207\n",
      "NetG_fixD, Acc at sample 15 0.1081\n"
     ]
    },
    {
     "name": "stderr",
     "output_type": "stream",
     "text": [
      "extracting all features from dataset: 100%|██████████████████████████████████████████████| 2/2 [00:04<00:00,  2.41s/it]\n",
      "extracting all features from dataset: 100%|██████████████████████████████████████████████| 1/1 [00:01<00:00,  1.65s/it]\n"
     ]
    },
    {
     "name": "stdout",
     "output_type": "stream",
     "text": [
      "----------------------------\n",
      "Train_z, Test_z\n",
      "PCA: 0.9222\n",
      "SVD: 0.9181\n",
      "NetG_fixD, Acc at sample 16 0.1259\n"
     ]
    },
    {
     "name": "stderr",
     "output_type": "stream",
     "text": [
      "extracting all features from dataset: 100%|██████████████████████████████████████████████| 2/2 [00:04<00:00,  2.47s/it]\n",
      "extracting all features from dataset: 100%|██████████████████████████████████████████████| 1/1 [00:01<00:00,  1.64s/it]\n"
     ]
    },
    {
     "name": "stdout",
     "output_type": "stream",
     "text": [
      "----------------------------\n",
      "Train_z, Test_z\n",
      "PCA: 0.922\n",
      "SVD: 0.9216\n",
      "NetG_fixD, Acc at sample 17 0.1235\n"
     ]
    },
    {
     "name": "stderr",
     "output_type": "stream",
     "text": [
      "extracting all features from dataset: 100%|██████████████████████████████████████████████| 2/2 [00:04<00:00,  2.46s/it]\n",
      "extracting all features from dataset: 100%|██████████████████████████████████████████████| 1/1 [00:01<00:00,  1.67s/it]\n"
     ]
    },
    {
     "name": "stdout",
     "output_type": "stream",
     "text": [
      "----------------------------\n",
      "Train_z, Test_z\n",
      "PCA: 0.9298\n",
      "SVD: 0.924\n",
      "NetG_fixD, Acc at sample 18 0.1352\n"
     ]
    },
    {
     "name": "stderr",
     "output_type": "stream",
     "text": [
      "extracting all features from dataset: 100%|██████████████████████████████████████████████| 2/2 [00:05<00:00,  2.57s/it]\n",
      "extracting all features from dataset: 100%|██████████████████████████████████████████████| 1/1 [00:01<00:00,  1.67s/it]\n"
     ]
    },
    {
     "name": "stdout",
     "output_type": "stream",
     "text": [
      "----------------------------\n",
      "Train_z, Test_z\n",
      "PCA: 0.9211\n",
      "SVD: 0.9162\n",
      "NetG_fixD, Acc at sample 19 0.1423\n"
     ]
    },
    {
     "name": "stderr",
     "output_type": "stream",
     "text": [
      "extracting all features from dataset: 100%|██████████████████████████████████████████████| 2/2 [00:05<00:00,  2.55s/it]\n",
      "extracting all features from dataset: 100%|██████████████████████████████████████████████| 1/1 [00:01<00:00,  1.63s/it]\n"
     ]
    },
    {
     "name": "stdout",
     "output_type": "stream",
     "text": [
      "----------------------------\n",
      "Train_z, Test_z\n",
      "PCA: 0.9316\n",
      "SVD: 0.9238999999999999\n",
      "NetG_fixD, Acc at sample 20 0.142\n",
      "0.1618 0.1 0.131195 0.00021991747499999995\n"
     ]
    }
   ],
   "source": [
    "# sample 20 times of NetG at final radius, NetD is fixed\n",
    "from sklearn.neighbors import KNeighborsClassifier \n",
    "Acc_results_G_sample8 = []\n",
    "\n",
    "for _ in range(sample_num):\n",
    "    #acc at first\n",
    "    net_noise = get_noise(DATASET, device, LABEL)\n",
    "    fed_state_dict = get_netG(netD,netV,net_noise,r_list[8])\n",
    "    netG.load_state_dict(fed_state_dict)\n",
    "    \n",
    "    train_X, train_Z, train_X_bar, train_Z_bar, train_labels = extract_features2(trainloader, netG, netD)\n",
    "\n",
    "    test_X, test_Z, test_X_bar, test_Z_bar, test_labels = extract_features2(testloader, netG, netD)\n",
    "\n",
    "    print(\"----------------------------\")\n",
    "    print(\"Train_z, Test_z\")\n",
    "    nearsub(n_comp, train_Z, train_labels, test_Z, test_labels)\n",
    "\n",
    "    knn= KNeighborsClassifier(n_neighbors=10) \n",
    "\n",
    "    knn.fit(train_Z,train_labels) \n",
    "    knn.score(test_Z_bar,test_labels) \n",
    "\n",
    "    y_predict = knn.predict(test_Z_bar) \n",
    "\n",
    "    count =0\n",
    "    for k in range(10000):\n",
    "        if y_predict[k] == test_labels[k]:\n",
    "            count +=1\n",
    "    print('NetG_fixD, Acc at sample',_+1,count/10000)\n",
    "    Acc_results_G_sample8.append(count/10000)\n",
    "    \n",
    "print(max(Acc_results_G_sample8),min(Acc_results_G_sample8),np.mean(Acc_results_G_sample8),np.var(Acc_results_G_sample8))"
   ]
  },
  {
   "cell_type": "code",
   "execution_count": 20,
   "id": "162a6f56",
   "metadata": {},
   "outputs": [
    {
     "name": "stderr",
     "output_type": "stream",
     "text": [
      "extracting all features from dataset: 100%|██████████████████████████████████████████████| 2/2 [00:05<00:00,  2.50s/it]\n",
      "extracting all features from dataset: 100%|██████████████████████████████████████████████| 1/1 [00:01<00:00,  1.67s/it]\n"
     ]
    },
    {
     "name": "stdout",
     "output_type": "stream",
     "text": [
      "----------------------------\n",
      "Train_z, Test_z\n",
      "PCA: 0.9223\n",
      "SVD: 0.9218\n",
      "NetG_fixD, Acc at sample 1 0.1068\n"
     ]
    },
    {
     "name": "stderr",
     "output_type": "stream",
     "text": [
      "extracting all features from dataset: 100%|██████████████████████████████████████████████| 2/2 [00:05<00:00,  2.53s/it]\n",
      "extracting all features from dataset: 100%|██████████████████████████████████████████████| 1/1 [00:01<00:00,  1.64s/it]\n"
     ]
    },
    {
     "name": "stdout",
     "output_type": "stream",
     "text": [
      "----------------------------\n",
      "Train_z, Test_z\n",
      "PCA: 0.9306\n",
      "SVD: 0.9289000000000001\n",
      "NetG_fixD, Acc at sample 2 0.1285\n"
     ]
    },
    {
     "name": "stderr",
     "output_type": "stream",
     "text": [
      "extracting all features from dataset: 100%|██████████████████████████████████████████████| 2/2 [00:04<00:00,  2.44s/it]\n",
      "extracting all features from dataset: 100%|██████████████████████████████████████████████| 1/1 [00:01<00:00,  1.65s/it]\n"
     ]
    },
    {
     "name": "stdout",
     "output_type": "stream",
     "text": [
      "----------------------------\n",
      "Train_z, Test_z\n",
      "PCA: 0.9286\n",
      "SVD: 0.9226\n",
      "NetG_fixD, Acc at sample 3 0.0914\n"
     ]
    },
    {
     "name": "stderr",
     "output_type": "stream",
     "text": [
      "extracting all features from dataset: 100%|██████████████████████████████████████████████| 2/2 [00:04<00:00,  2.48s/it]\n",
      "extracting all features from dataset: 100%|██████████████████████████████████████████████| 1/1 [00:01<00:00,  1.64s/it]\n"
     ]
    },
    {
     "name": "stdout",
     "output_type": "stream",
     "text": [
      "----------------------------\n",
      "Train_z, Test_z\n",
      "PCA: 0.9299\n",
      "SVD: 0.9248\n",
      "NetG_fixD, Acc at sample 4 0.0776\n"
     ]
    },
    {
     "name": "stderr",
     "output_type": "stream",
     "text": [
      "extracting all features from dataset: 100%|██████████████████████████████████████████████| 2/2 [00:05<00:00,  2.53s/it]\n",
      "extracting all features from dataset: 100%|██████████████████████████████████████████████| 1/1 [00:01<00:00,  1.65s/it]\n"
     ]
    },
    {
     "name": "stdout",
     "output_type": "stream",
     "text": [
      "----------------------------\n",
      "Train_z, Test_z\n",
      "PCA: 0.938\n",
      "SVD: 0.933\n",
      "NetG_fixD, Acc at sample 5 0.0963\n"
     ]
    },
    {
     "name": "stderr",
     "output_type": "stream",
     "text": [
      "extracting all features from dataset: 100%|██████████████████████████████████████████████| 2/2 [00:05<00:00,  2.51s/it]\n",
      "extracting all features from dataset: 100%|██████████████████████████████████████████████| 1/1 [00:01<00:00,  1.66s/it]\n"
     ]
    },
    {
     "name": "stdout",
     "output_type": "stream",
     "text": [
      "----------------------------\n",
      "Train_z, Test_z\n",
      "PCA: 0.9308\n",
      "SVD: 0.9299999999999999\n",
      "NetG_fixD, Acc at sample 6 0.1149\n"
     ]
    },
    {
     "name": "stderr",
     "output_type": "stream",
     "text": [
      "extracting all features from dataset: 100%|██████████████████████████████████████████████| 2/2 [00:04<00:00,  2.40s/it]\n",
      "extracting all features from dataset: 100%|██████████████████████████████████████████████| 1/1 [00:01<00:00,  1.64s/it]\n"
     ]
    },
    {
     "name": "stdout",
     "output_type": "stream",
     "text": [
      "----------------------------\n",
      "Train_z, Test_z\n",
      "PCA: 0.927\n",
      "SVD: 0.9243\n",
      "NetG_fixD, Acc at sample 7 0.1168\n"
     ]
    },
    {
     "name": "stderr",
     "output_type": "stream",
     "text": [
      "extracting all features from dataset: 100%|██████████████████████████████████████████████| 2/2 [00:04<00:00,  2.41s/it]\n",
      "extracting all features from dataset: 100%|██████████████████████████████████████████████| 1/1 [00:01<00:00,  1.63s/it]\n"
     ]
    },
    {
     "name": "stdout",
     "output_type": "stream",
     "text": [
      "----------------------------\n",
      "Train_z, Test_z\n",
      "PCA: 0.9334\n",
      "SVD: 0.9283\n",
      "NetG_fixD, Acc at sample 8 0.1229\n"
     ]
    },
    {
     "name": "stderr",
     "output_type": "stream",
     "text": [
      "extracting all features from dataset: 100%|██████████████████████████████████████████████| 2/2 [00:04<00:00,  2.46s/it]\n",
      "extracting all features from dataset: 100%|██████████████████████████████████████████████| 1/1 [00:01<00:00,  1.63s/it]\n"
     ]
    },
    {
     "name": "stdout",
     "output_type": "stream",
     "text": [
      "----------------------------\n",
      "Train_z, Test_z\n",
      "PCA: 0.9349\n",
      "SVD: 0.9332\n",
      "NetG_fixD, Acc at sample 9 0.081\n"
     ]
    },
    {
     "name": "stderr",
     "output_type": "stream",
     "text": [
      "extracting all features from dataset: 100%|██████████████████████████████████████████████| 2/2 [00:05<00:00,  2.51s/it]\n",
      "extracting all features from dataset: 100%|██████████████████████████████████████████████| 1/1 [00:01<00:00,  1.66s/it]\n"
     ]
    },
    {
     "name": "stdout",
     "output_type": "stream",
     "text": [
      "----------------------------\n",
      "Train_z, Test_z\n",
      "PCA: 0.9322\n",
      "SVD: 0.9274\n",
      "NetG_fixD, Acc at sample 10 0.0904\n"
     ]
    },
    {
     "name": "stderr",
     "output_type": "stream",
     "text": [
      "extracting all features from dataset: 100%|██████████████████████████████████████████████| 2/2 [00:05<00:00,  2.51s/it]\n",
      "extracting all features from dataset: 100%|██████████████████████████████████████████████| 1/1 [00:01<00:00,  1.70s/it]\n"
     ]
    },
    {
     "name": "stdout",
     "output_type": "stream",
     "text": [
      "----------------------------\n",
      "Train_z, Test_z\n",
      "PCA: 0.927\n",
      "SVD: 0.9237\n",
      "NetG_fixD, Acc at sample 11 0.1153\n"
     ]
    },
    {
     "name": "stderr",
     "output_type": "stream",
     "text": [
      "extracting all features from dataset: 100%|██████████████████████████████████████████████| 2/2 [00:05<00:00,  2.52s/it]\n",
      "extracting all features from dataset: 100%|██████████████████████████████████████████████| 1/1 [00:01<00:00,  1.65s/it]\n"
     ]
    },
    {
     "name": "stdout",
     "output_type": "stream",
     "text": [
      "----------------------------\n",
      "Train_z, Test_z\n",
      "PCA: 0.9295\n",
      "SVD: 0.9261\n",
      "NetG_fixD, Acc at sample 12 0.1095\n"
     ]
    },
    {
     "name": "stderr",
     "output_type": "stream",
     "text": [
      "extracting all features from dataset: 100%|██████████████████████████████████████████████| 2/2 [00:04<00:00,  2.47s/it]\n",
      "extracting all features from dataset: 100%|██████████████████████████████████████████████| 1/1 [00:01<00:00,  1.64s/it]\n"
     ]
    },
    {
     "name": "stdout",
     "output_type": "stream",
     "text": [
      "----------------------------\n",
      "Train_z, Test_z\n",
      "PCA: 0.9359\n",
      "SVD: 0.9319999999999999\n",
      "NetG_fixD, Acc at sample 13 0.1144\n"
     ]
    },
    {
     "name": "stderr",
     "output_type": "stream",
     "text": [
      "extracting all features from dataset: 100%|██████████████████████████████████████████████| 2/2 [00:04<00:00,  2.47s/it]\n",
      "extracting all features from dataset: 100%|██████████████████████████████████████████████| 1/1 [00:01<00:00,  1.64s/it]\n"
     ]
    },
    {
     "name": "stdout",
     "output_type": "stream",
     "text": [
      "----------------------------\n",
      "Train_z, Test_z\n",
      "PCA: 0.9286\n",
      "SVD: 0.9268\n",
      "NetG_fixD, Acc at sample 14 0.1379\n"
     ]
    },
    {
     "name": "stderr",
     "output_type": "stream",
     "text": [
      "extracting all features from dataset: 100%|██████████████████████████████████████████████| 2/2 [00:04<00:00,  2.40s/it]\n",
      "extracting all features from dataset: 100%|██████████████████████████████████████████████| 1/1 [00:01<00:00,  1.68s/it]\n"
     ]
    },
    {
     "name": "stdout",
     "output_type": "stream",
     "text": [
      "----------------------------\n",
      "Train_z, Test_z\n",
      "PCA: 0.9337\n",
      "SVD: 0.9269000000000001\n",
      "NetG_fixD, Acc at sample 15 0.1085\n"
     ]
    },
    {
     "name": "stderr",
     "output_type": "stream",
     "text": [
      "extracting all features from dataset: 100%|██████████████████████████████████████████████| 2/2 [00:05<00:00,  2.51s/it]\n",
      "extracting all features from dataset: 100%|██████████████████████████████████████████████| 1/1 [00:01<00:00,  1.64s/it]\n"
     ]
    },
    {
     "name": "stdout",
     "output_type": "stream",
     "text": [
      "----------------------------\n",
      "Train_z, Test_z\n",
      "PCA: 0.9309000000000001\n",
      "SVD: 0.9266\n",
      "NetG_fixD, Acc at sample 16 0.128\n"
     ]
    },
    {
     "name": "stderr",
     "output_type": "stream",
     "text": [
      "extracting all features from dataset: 100%|██████████████████████████████████████████████| 2/2 [00:05<00:00,  2.55s/it]\n",
      "extracting all features from dataset: 100%|██████████████████████████████████████████████| 1/1 [00:01<00:00,  1.66s/it]\n"
     ]
    },
    {
     "name": "stdout",
     "output_type": "stream",
     "text": [
      "----------------------------\n",
      "Train_z, Test_z\n",
      "PCA: 0.9319\n",
      "SVD: 0.9272\n",
      "NetG_fixD, Acc at sample 17 0.1076\n"
     ]
    },
    {
     "name": "stderr",
     "output_type": "stream",
     "text": [
      "extracting all features from dataset: 100%|██████████████████████████████████████████████| 2/2 [00:04<00:00,  2.43s/it]\n",
      "extracting all features from dataset: 100%|██████████████████████████████████████████████| 1/1 [00:01<00:00,  1.66s/it]\n"
     ]
    },
    {
     "name": "stdout",
     "output_type": "stream",
     "text": [
      "----------------------------\n",
      "Train_z, Test_z\n",
      "PCA: 0.9344\n",
      "SVD: 0.9308\n",
      "NetG_fixD, Acc at sample 18 0.0892\n"
     ]
    },
    {
     "name": "stderr",
     "output_type": "stream",
     "text": [
      "extracting all features from dataset: 100%|██████████████████████████████████████████████| 2/2 [00:04<00:00,  2.47s/it]\n",
      "extracting all features from dataset: 100%|██████████████████████████████████████████████| 1/1 [00:01<00:00,  1.66s/it]\n"
     ]
    },
    {
     "name": "stdout",
     "output_type": "stream",
     "text": [
      "----------------------------\n",
      "Train_z, Test_z\n",
      "PCA: 0.9311\n",
      "SVD: 0.9249\n",
      "NetG_fixD, Acc at sample 19 0.1059\n"
     ]
    },
    {
     "name": "stderr",
     "output_type": "stream",
     "text": [
      "extracting all features from dataset: 100%|██████████████████████████████████████████████| 2/2 [00:04<00:00,  2.41s/it]\n",
      "extracting all features from dataset: 100%|██████████████████████████████████████████████| 1/1 [00:01<00:00,  1.65s/it]\n"
     ]
    },
    {
     "name": "stdout",
     "output_type": "stream",
     "text": [
      "----------------------------\n",
      "Train_z, Test_z\n",
      "PCA: 0.9278\n",
      "SVD: 0.9251\n",
      "NetG_fixD, Acc at sample 20 0.1175\n",
      "0.1379 0.0776 0.10802 0.00024915660000000004\n"
     ]
    }
   ],
   "source": [
    "# sample 20 times of NetG at final radius, NetD is fixed\n",
    "from sklearn.neighbors import KNeighborsClassifier \n",
    "Acc_results_G_sample9 = []\n",
    "\n",
    "for _ in range(sample_num):\n",
    "    #acc at first\n",
    "    net_noise = get_noise(DATASET, device, LABEL)\n",
    "    fed_state_dict = get_netG(netD,netV,net_noise,r_list[9])\n",
    "    netG.load_state_dict(fed_state_dict)\n",
    "    \n",
    "    train_X, train_Z, train_X_bar, train_Z_bar, train_labels = extract_features2(trainloader, netG, netD)\n",
    "\n",
    "    test_X, test_Z, test_X_bar, test_Z_bar, test_labels = extract_features2(testloader, netG, netD)\n",
    "\n",
    "    print(\"----------------------------\")\n",
    "    print(\"Train_z, Test_z\")\n",
    "    nearsub(n_comp, train_Z, train_labels, test_Z, test_labels)\n",
    "\n",
    "    knn= KNeighborsClassifier(n_neighbors=10) \n",
    "\n",
    "    knn.fit(train_Z,train_labels) \n",
    "    knn.score(test_Z_bar,test_labels) \n",
    "\n",
    "    y_predict = knn.predict(test_Z_bar) \n",
    "\n",
    "    count =0\n",
    "    for k in range(10000):\n",
    "        if y_predict[k] == test_labels[k]:\n",
    "            count +=1\n",
    "    print('NetG_fixD, Acc at sample',_+1,count/10000)\n",
    "    Acc_results_G_sample9.append(count/10000)\n",
    "    \n",
    "print(max(Acc_results_G_sample9),min(Acc_results_G_sample9),np.mean(Acc_results_G_sample9),np.var(Acc_results_G_sample9))"
   ]
  },
  {
   "cell_type": "code",
   "execution_count": 21,
   "id": "4a83c92f",
   "metadata": {},
   "outputs": [
    {
     "name": "stderr",
     "output_type": "stream",
     "text": [
      "extracting all features from dataset: 100%|██████████████████████████████████████████████| 2/2 [00:04<00:00,  2.46s/it]\n",
      "extracting all features from dataset: 100%|██████████████████████████████████████████████| 1/1 [00:01<00:00,  1.63s/it]\n"
     ]
    },
    {
     "name": "stdout",
     "output_type": "stream",
     "text": [
      "----------------------------\n",
      "Train_z, Test_z\n",
      "PCA: 0.9352\n",
      "SVD: 0.9329\n",
      "NetG_fixD, Acc at sample 1 0.0907\n"
     ]
    },
    {
     "name": "stderr",
     "output_type": "stream",
     "text": [
      "extracting all features from dataset: 100%|██████████████████████████████████████████████| 2/2 [00:04<00:00,  2.47s/it]\n",
      "extracting all features from dataset: 100%|██████████████████████████████████████████████| 1/1 [00:01<00:00,  1.66s/it]\n"
     ]
    },
    {
     "name": "stdout",
     "output_type": "stream",
     "text": [
      "----------------------------\n",
      "Train_z, Test_z\n",
      "PCA: 0.9299\n",
      "SVD: 0.9264\n",
      "NetG_fixD, Acc at sample 2 0.117\n"
     ]
    },
    {
     "name": "stderr",
     "output_type": "stream",
     "text": [
      "extracting all features from dataset: 100%|██████████████████████████████████████████████| 2/2 [00:04<00:00,  2.38s/it]\n",
      "extracting all features from dataset: 100%|██████████████████████████████████████████████| 1/1 [00:01<00:00,  1.65s/it]\n"
     ]
    },
    {
     "name": "stdout",
     "output_type": "stream",
     "text": [
      "----------------------------\n",
      "Train_z, Test_z\n",
      "PCA: 0.9315\n",
      "SVD: 0.9301\n",
      "NetG_fixD, Acc at sample 3 0.1035\n"
     ]
    },
    {
     "name": "stderr",
     "output_type": "stream",
     "text": [
      "extracting all features from dataset: 100%|██████████████████████████████████████████████| 2/2 [00:05<00:00,  2.55s/it]\n",
      "extracting all features from dataset: 100%|██████████████████████████████████████████████| 1/1 [00:01<00:00,  1.64s/it]\n"
     ]
    },
    {
     "name": "stdout",
     "output_type": "stream",
     "text": [
      "----------------------------\n",
      "Train_z, Test_z\n",
      "PCA: 0.9288\n",
      "SVD: 0.9252\n",
      "NetG_fixD, Acc at sample 4 0.0924\n"
     ]
    },
    {
     "name": "stderr",
     "output_type": "stream",
     "text": [
      "extracting all features from dataset: 100%|██████████████████████████████████████████████| 2/2 [00:04<00:00,  2.39s/it]\n",
      "extracting all features from dataset: 100%|██████████████████████████████████████████████| 1/1 [00:01<00:00,  1.63s/it]\n"
     ]
    },
    {
     "name": "stdout",
     "output_type": "stream",
     "text": [
      "----------------------------\n",
      "Train_z, Test_z\n",
      "PCA: 0.9249\n",
      "SVD: 0.918\n",
      "NetG_fixD, Acc at sample 5 0.0858\n"
     ]
    },
    {
     "name": "stderr",
     "output_type": "stream",
     "text": [
      "extracting all features from dataset: 100%|██████████████████████████████████████████████| 2/2 [00:04<00:00,  2.49s/it]\n",
      "extracting all features from dataset: 100%|██████████████████████████████████████████████| 1/1 [00:01<00:00,  1.62s/it]\n"
     ]
    },
    {
     "name": "stdout",
     "output_type": "stream",
     "text": [
      "----------------------------\n",
      "Train_z, Test_z\n",
      "PCA: 0.9315\n",
      "SVD: 0.9286\n",
      "NetG_fixD, Acc at sample 6 0.0978\n"
     ]
    },
    {
     "name": "stderr",
     "output_type": "stream",
     "text": [
      "extracting all features from dataset: 100%|██████████████████████████████████████████████| 2/2 [00:04<00:00,  2.39s/it]\n",
      "extracting all features from dataset: 100%|██████████████████████████████████████████████| 1/1 [00:01<00:00,  1.62s/it]\n"
     ]
    },
    {
     "name": "stdout",
     "output_type": "stream",
     "text": [
      "----------------------------\n",
      "Train_z, Test_z\n",
      "PCA: 0.9336\n",
      "SVD: 0.9293\n",
      "NetG_fixD, Acc at sample 7 0.1126\n"
     ]
    },
    {
     "name": "stderr",
     "output_type": "stream",
     "text": [
      "extracting all features from dataset: 100%|██████████████████████████████████████████████| 2/2 [00:04<00:00,  2.42s/it]\n",
      "extracting all features from dataset: 100%|██████████████████████████████████████████████| 1/1 [00:01<00:00,  1.62s/it]\n"
     ]
    },
    {
     "name": "stdout",
     "output_type": "stream",
     "text": [
      "----------------------------\n",
      "Train_z, Test_z\n",
      "PCA: 0.9337\n",
      "SVD: 0.9306\n",
      "NetG_fixD, Acc at sample 8 0.1263\n"
     ]
    },
    {
     "name": "stderr",
     "output_type": "stream",
     "text": [
      "extracting all features from dataset: 100%|██████████████████████████████████████████████| 2/2 [00:04<00:00,  2.42s/it]\n",
      "extracting all features from dataset: 100%|██████████████████████████████████████████████| 1/1 [00:01<00:00,  1.64s/it]\n"
     ]
    },
    {
     "name": "stdout",
     "output_type": "stream",
     "text": [
      "----------------------------\n",
      "Train_z, Test_z\n",
      "PCA: 0.9289000000000001\n",
      "SVD: 0.9256\n",
      "NetG_fixD, Acc at sample 9 0.1032\n"
     ]
    },
    {
     "name": "stderr",
     "output_type": "stream",
     "text": [
      "extracting all features from dataset: 100%|██████████████████████████████████████████████| 2/2 [00:05<00:00,  2.54s/it]\n",
      "extracting all features from dataset: 100%|██████████████████████████████████████████████| 1/1 [00:01<00:00,  1.66s/it]\n"
     ]
    },
    {
     "name": "stdout",
     "output_type": "stream",
     "text": [
      "----------------------------\n",
      "Train_z, Test_z\n",
      "PCA: 0.9335\n",
      "SVD: 0.929\n",
      "NetG_fixD, Acc at sample 10 0.1077\n"
     ]
    },
    {
     "name": "stderr",
     "output_type": "stream",
     "text": [
      "extracting all features from dataset: 100%|██████████████████████████████████████████████| 2/2 [00:05<00:00,  2.55s/it]\n",
      "extracting all features from dataset: 100%|██████████████████████████████████████████████| 1/1 [00:01<00:00,  1.65s/it]\n"
     ]
    },
    {
     "name": "stdout",
     "output_type": "stream",
     "text": [
      "----------------------------\n",
      "Train_z, Test_z\n",
      "PCA: 0.9253\n",
      "SVD: 0.9242\n",
      "NetG_fixD, Acc at sample 11 0.1096\n"
     ]
    },
    {
     "name": "stderr",
     "output_type": "stream",
     "text": [
      "extracting all features from dataset: 100%|██████████████████████████████████████████████| 2/2 [00:05<00:00,  2.50s/it]\n",
      "extracting all features from dataset: 100%|██████████████████████████████████████████████| 1/1 [00:01<00:00,  1.66s/it]\n"
     ]
    },
    {
     "name": "stdout",
     "output_type": "stream",
     "text": [
      "----------------------------\n",
      "Train_z, Test_z\n",
      "PCA: 0.9345\n",
      "SVD: 0.9287\n",
      "NetG_fixD, Acc at sample 12 0.0788\n"
     ]
    },
    {
     "name": "stderr",
     "output_type": "stream",
     "text": [
      "extracting all features from dataset: 100%|██████████████████████████████████████████████| 2/2 [00:05<00:00,  2.52s/it]\n",
      "extracting all features from dataset: 100%|██████████████████████████████████████████████| 1/1 [00:01<00:00,  1.64s/it]\n"
     ]
    },
    {
     "name": "stdout",
     "output_type": "stream",
     "text": [
      "----------------------------\n",
      "Train_z, Test_z\n",
      "PCA: 0.9291\n",
      "SVD: 0.9221\n",
      "NetG_fixD, Acc at sample 13 0.0987\n"
     ]
    },
    {
     "name": "stderr",
     "output_type": "stream",
     "text": [
      "extracting all features from dataset: 100%|██████████████████████████████████████████████| 2/2 [00:05<00:00,  2.52s/it]\n",
      "extracting all features from dataset: 100%|██████████████████████████████████████████████| 1/1 [00:01<00:00,  1.61s/it]\n"
     ]
    },
    {
     "name": "stdout",
     "output_type": "stream",
     "text": [
      "----------------------------\n",
      "Train_z, Test_z\n",
      "PCA: 0.9353\n",
      "SVD: 0.9313\n",
      "NetG_fixD, Acc at sample 14 0.094\n"
     ]
    },
    {
     "name": "stderr",
     "output_type": "stream",
     "text": [
      "extracting all features from dataset: 100%|██████████████████████████████████████████████| 2/2 [00:04<00:00,  2.41s/it]\n",
      "extracting all features from dataset: 100%|██████████████████████████████████████████████| 1/1 [00:01<00:00,  1.66s/it]\n"
     ]
    },
    {
     "name": "stdout",
     "output_type": "stream",
     "text": [
      "----------------------------\n",
      "Train_z, Test_z\n",
      "PCA: 0.9321\n",
      "SVD: 0.9283\n",
      "NetG_fixD, Acc at sample 15 0.1417\n"
     ]
    },
    {
     "name": "stderr",
     "output_type": "stream",
     "text": [
      "extracting all features from dataset: 100%|██████████████████████████████████████████████| 2/2 [00:05<00:00,  2.55s/it]\n",
      "extracting all features from dataset: 100%|██████████████████████████████████████████████| 1/1 [00:01<00:00,  1.66s/it]\n"
     ]
    },
    {
     "name": "stdout",
     "output_type": "stream",
     "text": [
      "----------------------------\n",
      "Train_z, Test_z\n",
      "PCA: 0.9268\n",
      "SVD: 0.9237\n",
      "NetG_fixD, Acc at sample 16 0.1062\n"
     ]
    },
    {
     "name": "stderr",
     "output_type": "stream",
     "text": [
      "extracting all features from dataset: 100%|██████████████████████████████████████████████| 2/2 [00:05<00:00,  2.54s/it]\n",
      "extracting all features from dataset: 100%|██████████████████████████████████████████████| 1/1 [00:01<00:00,  1.63s/it]\n"
     ]
    },
    {
     "name": "stdout",
     "output_type": "stream",
     "text": [
      "----------------------------\n",
      "Train_z, Test_z\n",
      "PCA: 0.9251\n",
      "SVD: 0.9229\n",
      "NetG_fixD, Acc at sample 17 0.1263\n"
     ]
    },
    {
     "name": "stderr",
     "output_type": "stream",
     "text": [
      "extracting all features from dataset: 100%|██████████████████████████████████████████████| 2/2 [00:05<00:00,  2.55s/it]\n",
      "extracting all features from dataset: 100%|██████████████████████████████████████████████| 1/1 [00:01<00:00,  1.67s/it]\n"
     ]
    },
    {
     "name": "stdout",
     "output_type": "stream",
     "text": [
      "----------------------------\n",
      "Train_z, Test_z\n",
      "PCA: 0.9257\n",
      "SVD: 0.9238999999999999\n",
      "NetG_fixD, Acc at sample 18 0.1033\n"
     ]
    },
    {
     "name": "stderr",
     "output_type": "stream",
     "text": [
      "extracting all features from dataset: 100%|██████████████████████████████████████████████| 2/2 [00:04<00:00,  2.45s/it]\n",
      "extracting all features from dataset: 100%|██████████████████████████████████████████████| 1/1 [00:01<00:00,  1.62s/it]\n"
     ]
    },
    {
     "name": "stdout",
     "output_type": "stream",
     "text": [
      "----------------------------\n",
      "Train_z, Test_z\n",
      "PCA: 0.9311\n",
      "SVD: 0.9247\n",
      "NetG_fixD, Acc at sample 19 0.0873\n"
     ]
    },
    {
     "name": "stderr",
     "output_type": "stream",
     "text": [
      "extracting all features from dataset: 100%|██████████████████████████████████████████████| 2/2 [00:05<00:00,  2.52s/it]\n",
      "extracting all features from dataset: 100%|██████████████████████████████████████████████| 1/1 [00:01<00:00,  1.66s/it]\n"
     ]
    },
    {
     "name": "stdout",
     "output_type": "stream",
     "text": [
      "----------------------------\n",
      "Train_z, Test_z\n",
      "PCA: 0.9319999999999999\n",
      "SVD: 0.9293\n",
      "NetG_fixD, Acc at sample 20 0.1111\n",
      "0.1417 0.0788 0.10469999999999999 0.000223693\n"
     ]
    }
   ],
   "source": [
    "# sample 20 times of NetG at final radius, NetD is fixed\n",
    "from sklearn.neighbors import KNeighborsClassifier \n",
    "Acc_results_G_sample10 = []\n",
    "\n",
    "for _ in range(sample_num):\n",
    "    #acc at first\n",
    "    net_noise = get_noise(DATASET, device, LABEL)\n",
    "    fed_state_dict = get_netG(netD,netV,net_noise,r_list[10])\n",
    "    netG.load_state_dict(fed_state_dict)\n",
    "    \n",
    "    train_X, train_Z, train_X_bar, train_Z_bar, train_labels = extract_features2(trainloader, netG, netD)\n",
    "\n",
    "    test_X, test_Z, test_X_bar, test_Z_bar, test_labels = extract_features2(testloader, netG, netD)\n",
    "\n",
    "    print(\"----------------------------\")\n",
    "    print(\"Train_z, Test_z\")\n",
    "    nearsub(n_comp, train_Z, train_labels, test_Z, test_labels)\n",
    "\n",
    "    knn= KNeighborsClassifier(n_neighbors=10) \n",
    "\n",
    "    knn.fit(train_Z,train_labels) \n",
    "    knn.score(test_Z_bar,test_labels) \n",
    "\n",
    "    y_predict = knn.predict(test_Z_bar) \n",
    "\n",
    "    count =0\n",
    "    for k in range(10000):\n",
    "        if y_predict[k] == test_labels[k]:\n",
    "            count +=1\n",
    "    print('NetG_fixD, Acc at sample',_+1,count/10000)\n",
    "    Acc_results_G_sample10.append(count/10000)\n",
    "    \n",
    "print(max(Acc_results_G_sample10),min(Acc_results_G_sample10),np.mean(Acc_results_G_sample10),np.var(Acc_results_G_sample10))"
   ]
  },
  {
   "cell_type": "code",
   "execution_count": null,
   "id": "754fc0d5",
   "metadata": {},
   "outputs": [],
   "source": []
  }
 ],
 "metadata": {
  "kernelspec": {
   "display_name": "Python 3 (ipykernel)",
   "language": "python",
   "name": "python3"
  },
  "language_info": {
   "codemirror_mode": {
    "name": "ipython",
    "version": 3
   },
   "file_extension": ".py",
   "mimetype": "text/x-python",
   "name": "python",
   "nbconvert_exporter": "python",
   "pygments_lexer": "ipython3",
   "version": "3.7.16"
  }
 },
 "nbformat": 4,
 "nbformat_minor": 5
}
