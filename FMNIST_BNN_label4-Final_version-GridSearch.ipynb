{
 "cells": [
  {
   "cell_type": "code",
   "execution_count": 1,
   "id": "95b64f9b",
   "metadata": {},
   "outputs": [],
   "source": [
    "# all codes come are changed based on LDR code.\n",
    "import argparse\n",
    "import torch.optim as optim\n",
    "import os\n",
    "import yaml\n",
    "from mcrgan.default import _C as config\n",
    "from mcrgan.default import update_config\n",
    "import torch\n",
    "from mcrgan.trainer import MCRTrainer\n",
    "from mcrgan.datasets import get_dataloader\n",
    "from mcrgan.models import get_models\n",
    "from mcrgan.models import get_BNN_models\n",
    "from mcrgan.models import get_noise\n",
    "from mcrgan.models import DiscriminatorMNIST\n",
    "from mcrgan.models import weights_init_mnist_model_noise\n",
    "\n",
    "import numpy as np\n",
    "import torch\n",
    "import argparse\n",
    "from mcrgan.datasets import get_dataloader\n",
    "from mcrgan.models import get_models\n",
    "from mcrgan.default import _C as config\n",
    "from mcrgan.default import update_config\n",
    "from utils.utils import sort_dataset, compute_accuracy, extract_features\n",
    "from sklearn.decomposition import PCA\n",
    "from sklearn.decomposition import TruncatedSVD\n",
    "import torchvision.transforms as transforms\n",
    "import torchvision.datasets as datasets\n",
    "from tqdm import tqdm\n",
    "import os\n",
    "from mcrgan.loss import MCRGANloss\n",
    "import random\n",
    "random.seed(0)"
   ]
  },
  {
   "cell_type": "code",
   "execution_count": 2,
   "id": "5d18065e",
   "metadata": {},
   "outputs": [],
   "source": [
    "# data_preprocessing and parameters\n",
    "\n",
    "device = torch.device('cuda' if torch.cuda.is_available() else \"cpu\")\n",
    "DATASET = 'FMNIST'\n",
    "ROOT    = 'pth/to/the/dataset'\n",
    "BATCH_SIZE = 2048\n",
    "WORKERS = 0\n",
    "DATA_SAMPLE = 50000\n",
    "LABEL = 4\n",
    "\n",
    "dataloader, dataset = get_dataloader(\n",
    "        data_name=DATASET,\n",
    "        root=ROOT,\n",
    "        batch_size=BATCH_SIZE,\n",
    "        num_workers=WORKERS)\n"
   ]
  },
  {
   "cell_type": "code",
   "execution_count": 3,
   "id": "08feb6b9",
   "metadata": {},
   "outputs": [],
   "source": [
    "import collections\n",
    "\n",
    "def get_netG(netD,netV,net_noise,radius=1):\n",
    "    models = [netD, netV,net_noise]\n",
    "    worker_state_dict = [x.state_dict() for x in models]\n",
    "    weight_keys = list(worker_state_dict[0].keys())\n",
    "    fed_state_dict = collections.OrderedDict()\n",
    "    for key in weight_keys:\n",
    "        fed_state_dict[key] = worker_state_dict[0][key] + radius*worker_state_dict[2][key]*torch.log(1+torch.exp(worker_state_dict[1][key]))\n",
    "    return fed_state_dict\n",
    "\n",
    "# new netG already optimized by adam and time learning rate, so we only using netG to update netV\n",
    "def update_netV(netV,netG,net_noise,fed_state_dict,radius=1):\n",
    "    models =[netV,netG,net_noise]\n",
    "    worker_state_dict = [x.state_dict() for x in models]\n",
    "    weight_keys = list(worker_state_dict[0].keys())\n",
    "    update_dict = collections.OrderedDict()\n",
    "    for key in weight_keys:\n",
    "        update_dict[key] = worker_state_dict[0][key] - (worker_state_dict[1][key]-fed_state_dict[key])*(worker_state_dict[2][key]*radius)/torch.log(1+torch.exp(-worker_state_dict[0][key]))\n",
    "    return update_dict\n",
    "        "
   ]
  },
  {
   "cell_type": "code",
   "execution_count": 4,
   "id": "bd8022df",
   "metadata": {},
   "outputs": [],
   "source": [
    "#models\n",
    "# train hyperparameters, batch norm not used var\n",
    "#store_Var = []\n",
    "import time\n",
    "from torch_mimicry.training import scheduler, logger, metric_log\n",
    "\n",
    "from test_acc import nearsub\n",
    "import numpy as np\n",
    "import torch\n",
    "import argparse\n",
    "from mcrgan.datasets import get_dataloader\n",
    "from mcrgan.models import get_models\n",
    "from mcrgan.default import _C as config\n",
    "from mcrgan.default import update_config\n",
    "from utils.utils import sort_dataset, compute_accuracy, extract_features2\n",
    "from sklearn.decomposition import PCA\n",
    "from sklearn.decomposition import TruncatedSVD\n",
    "import torchvision.transforms as transforms\n",
    "import torchvision.datasets as datasets\n",
    "from tqdm import tqdm\n",
    "import os\n",
    "\n",
    "start_time = time.time()\n",
    "#global_step = 0\n",
    "num_steps = 150\n",
    "n_dis = 1\n",
    "n_dis2 = 1\n",
    "numclasses =10\n",
    "lr1 = 1e-3\n",
    "lr2 = 1e-3\n",
    "log_data = metric_log.MetricLog()\n",
    "data_time = time.time()\n",
    "iter_dataloader = iter(dataloader)\n",
    "data, label = next(iter_dataloader)\n",
    "data_time = time.time() - data_time\n",
    "real_cpu = data.to(device)\n",
    "real_label = label.clone().detach()\n",
    "\n",
    "netD, netG, netV = get_BNN_models(DATASET, device, LABEL)\n",
    "net_noise = get_noise(DATASET, device, LABEL)\n",
    "fed_state_dict = get_netG(netD,netV,net_noise)\n",
    "netG.load_state_dict(fed_state_dict)\n",
    "optD = optim.Adam(netD.parameters(), lr1, betas=(0.5, 0.999))\n",
    "optG = optim.Adam(netG.parameters(), lr2, betas=(0.5, 0.999))\n",
    "\n",
    "Acc_results_D = []\n",
    "Acc_results_G = []\n",
    "\n",
    "\n",
    "\n",
    "\n",
    "transform = transforms.Compose(\n",
    "            [transforms.Resize(32),\n",
    "             transforms.ToTensor(),\n",
    "             transforms.Normalize(0.5, 0.5)])\n",
    "\n",
    "trainset = datasets.FashionMNIST(root=ROOT, train=True, download=True, transform=transform)\n",
    "testset = datasets.FashionMNIST(root=ROOT, train=False, download=True, transform=transform)\n",
    "\n",
    "testloader = torch.utils.data.DataLoader(\n",
    "        testset, batch_size=DATA_SAMPLE, shuffle=False, num_workers=WORKERS)\n",
    "\n",
    "trainloader = torch.utils.data.DataLoader(\n",
    "        trainset, batch_size=DATA_SAMPLE, shuffle=False, num_workers=WORKERS)\n",
    "device = torch.device('cuda' if torch.cuda.is_available() else \"cpu\")\n",
    "n_comp = 10\n"
   ]
  },
  {
   "cell_type": "code",
   "execution_count": 5,
   "id": "cddfa03f",
   "metadata": {},
   "outputs": [
    {
     "data": {
      "text/plain": [
       "(DataParallel(\n",
       "   (module): DiscriminatorMNIST_nzBN(\n",
       "     (main): Sequential(\n",
       "       (0): Conv2d(1, 64, kernel_size=(4, 4), stride=(2, 2), padding=(1, 1), bias=False)\n",
       "       (1): LeakyReLU(negative_slope=0.2, inplace=True)\n",
       "       (2): Conv2d(64, 128, kernel_size=(4, 4), stride=(2, 2), padding=(1, 1), bias=False)\n",
       "       (3): BatchNorm2d(128, eps=1e-05, momentum=0.1, affine=True, track_running_stats=True)\n",
       "       (4): LeakyReLU(negative_slope=0.2, inplace=True)\n",
       "       (5): Conv2d(128, 256, kernel_size=(4, 4), stride=(2, 2), padding=(1, 1), bias=False)\n",
       "       (6): BatchNorm2d(256, eps=1e-05, momentum=0.1, affine=True, track_running_stats=True)\n",
       "       (7): LeakyReLU(negative_slope=0.2, inplace=True)\n",
       "       (8): Conv2d(256, 128, kernel_size=(4, 4), stride=(1, 1), bias=False)\n",
       "       (9): Flatten(start_dim=1, end_dim=-1)\n",
       "     )\n",
       "   )\n",
       " ),\n",
       " DataParallel(\n",
       "   (module): DiscriminatorMNIST_nzBN(\n",
       "     (main): Sequential(\n",
       "       (0): Conv2d(1, 64, kernel_size=(4, 4), stride=(2, 2), padding=(1, 1), bias=False)\n",
       "       (1): LeakyReLU(negative_slope=0.2, inplace=True)\n",
       "       (2): Conv2d(64, 128, kernel_size=(4, 4), stride=(2, 2), padding=(1, 1), bias=False)\n",
       "       (3): BatchNorm2d(128, eps=1e-05, momentum=0.1, affine=True, track_running_stats=True)\n",
       "       (4): LeakyReLU(negative_slope=0.2, inplace=True)\n",
       "       (5): Conv2d(128, 256, kernel_size=(4, 4), stride=(2, 2), padding=(1, 1), bias=False)\n",
       "       (6): BatchNorm2d(256, eps=1e-05, momentum=0.1, affine=True, track_running_stats=True)\n",
       "       (7): LeakyReLU(negative_slope=0.2, inplace=True)\n",
       "       (8): Conv2d(256, 128, kernel_size=(4, 4), stride=(1, 1), bias=False)\n",
       "       (9): Flatten(start_dim=1, end_dim=-1)\n",
       "     )\n",
       "   )\n",
       " ),\n",
       " DataParallel(\n",
       "   (module): DiscriminatorMNIST_nzBN(\n",
       "     (main): Sequential(\n",
       "       (0): Conv2d(1, 64, kernel_size=(4, 4), stride=(2, 2), padding=(1, 1), bias=False)\n",
       "       (1): LeakyReLU(negative_slope=0.2, inplace=True)\n",
       "       (2): Conv2d(64, 128, kernel_size=(4, 4), stride=(2, 2), padding=(1, 1), bias=False)\n",
       "       (3): BatchNorm2d(128, eps=1e-05, momentum=0.1, affine=True, track_running_stats=True)\n",
       "       (4): LeakyReLU(negative_slope=0.2, inplace=True)\n",
       "       (5): Conv2d(128, 256, kernel_size=(4, 4), stride=(2, 2), padding=(1, 1), bias=False)\n",
       "       (6): BatchNorm2d(256, eps=1e-05, momentum=0.1, affine=True, track_running_stats=True)\n",
       "       (7): LeakyReLU(negative_slope=0.2, inplace=True)\n",
       "       (8): Conv2d(256, 128, kernel_size=(4, 4), stride=(1, 1), bias=False)\n",
       "       (9): Flatten(start_dim=1, end_dim=-1)\n",
       "     )\n",
       "   )\n",
       " ))"
      ]
     },
     "execution_count": 5,
     "metadata": {},
     "output_type": "execute_result"
    }
   ],
   "source": [
    "netD, netG, netV"
   ]
  },
  {
   "cell_type": "code",
   "execution_count": 6,
   "id": "459fd5a1",
   "metadata": {},
   "outputs": [
    {
     "data": {
      "text/plain": [
       "DataParallel(\n",
       "  (module): DiscriminatorMNIST_nzBN(\n",
       "    (main): Sequential(\n",
       "      (0): Conv2d(1, 64, kernel_size=(4, 4), stride=(2, 2), padding=(1, 1), bias=False)\n",
       "      (1): LeakyReLU(negative_slope=0.2, inplace=True)\n",
       "      (2): Conv2d(64, 128, kernel_size=(4, 4), stride=(2, 2), padding=(1, 1), bias=False)\n",
       "      (3): BatchNorm2d(128, eps=1e-05, momentum=0.1, affine=True, track_running_stats=True)\n",
       "      (4): LeakyReLU(negative_slope=0.2, inplace=True)\n",
       "      (5): Conv2d(128, 256, kernel_size=(4, 4), stride=(2, 2), padding=(1, 1), bias=False)\n",
       "      (6): BatchNorm2d(256, eps=1e-05, momentum=0.1, affine=True, track_running_stats=True)\n",
       "      (7): LeakyReLU(negative_slope=0.2, inplace=True)\n",
       "      (8): Conv2d(256, 128, kernel_size=(4, 4), stride=(1, 1), bias=False)\n",
       "      (9): Flatten(start_dim=1, end_dim=-1)\n",
       "    )\n",
       "  )\n",
       ")"
      ]
     },
     "execution_count": 6,
     "metadata": {},
     "output_type": "execute_result"
    }
   ],
   "source": [
    "net_noise"
   ]
  },
  {
   "cell_type": "code",
   "execution_count": 7,
   "id": "dd6bcdad",
   "metadata": {},
   "outputs": [],
   "source": [
    "# golden search algorithm to determined the radius of the sample ball, due to traditional updating netV is too slow\n",
    "# no meaning for n_dis =2 for our case, just to have output for every update\n",
    "# sample too much would arise cuda memory error\n",
    "def gs_radius(radius1,radius2,netD,real_cpu,real_label,tor=1e-3,n_dis=2,lam=0.618,mode=1,gam3=1):\n",
    "    mcr_gan_loss=MCRGANloss(gam1=1., gam2=1., gam3=gam3, eps=0.5, numclasses=numclasses, mode=mode, rho=None)\n",
    "    #optG = optim.Adam(netG.parameters(), lr2, betas=(0.5, 0.999))\n",
    "    \n",
    "    Z = netD(real_cpu)\n",
    "    net_noise = get_noise(DATASET, device, LABEL)\n",
    "    err1 = 0\n",
    "    err2 = 1000\n",
    "    while abs(err1 - err2)> tor or abs(radius1-radius2)>tor:\n",
    "        a1 = radius2 - lam*(radius2-radius1)\n",
    "        a2 = radius1 + lam*(radius2-radius1)\n",
    "        fed_state_dict = get_netG(netD,netV,net_noise,a1)\n",
    "        netG.load_state_dict(fed_state_dict)\n",
    "        Z_bar = netG(real_cpu)\n",
    "        errG1, errG_EC1 = mcr_gan_loss(Z, Z_bar, real_label, n_dis2 - 1, n_dis2)\n",
    "        err1 = errG1\n",
    "        \n",
    "        fed_state_dict = get_netG(netD,netV,net_noise,a2)\n",
    "        netG.load_state_dict(fed_state_dict)\n",
    "        Z_bar = netG(real_cpu)\n",
    "        errG2, errG_EC2 = mcr_gan_loss(Z, Z_bar, real_label, n_dis2 - 1, n_dis2)\n",
    "        err2 = errG2\n",
    "        \n",
    "        if err1 > err2:\n",
    "            radius1 = a1\n",
    "            a1 = a2\n",
    "            err1 = err2\n",
    "            a2 = radius1 + lam*(radius2-radius1)\n",
    "            fed_state_dict = get_netG(netD,netV,net_noise,a2)\n",
    "            netG.load_state_dict(fed_state_dict)\n",
    "            Z_bar = netG(real_cpu)\n",
    "            errG2, errG_EC2 = mcr_gan_loss(Z, Z_bar, real_label, n_dis2 - 1, n_dis2)\n",
    "            err2 = errG2\n",
    "            #print('r1',radius1)\n",
    "            #print(errG2, errG_EC2)\n",
    "        else:\n",
    "            radius2 = a2\n",
    "            a2 = a1\n",
    "            a1 = radius2 - lam*(radius2-radius1)\n",
    "            fed_state_dict = get_netG(netD,netV,net_noise,a1)\n",
    "            netG.load_state_dict(fed_state_dict)\n",
    "            Z_bar = netG(real_cpu)\n",
    "            errG1, errG_EC1 = mcr_gan_loss(Z, Z_bar, real_label, n_dis2 - 1, n_dis2)\n",
    "            err1 = errG1\n",
    "            #print('r2',radius2)\n",
    "            #print(errG1, errG_EC1)\n",
    "         \n",
    "    return radius1,radius2"
   ]
  },
  {
   "cell_type": "code",
   "execution_count": 8,
   "id": "ab920239",
   "metadata": {},
   "outputs": [],
   "source": [
    "# Use Grid search to check if the large value radius is valid or not. Does the function only have one minimum point?\n",
    "# Because we don't see pretty small value under enough dimension case, hence we check the radius level from 0-20 with 0.05 by \n",
    "# Grid Search, because we can see radius up to 10 has come to random guess\n",
    "def gs_radius_And_GridSearch(radius1,radius2,netD,real_cpu,real_label,tor=1e-3,n_dis=2,lam=0.618,mode=1,gam3=1):\n",
    "    mcr_gan_loss=MCRGANloss(gam1=1., gam2=1., gam3=gam3, eps=0.5, numclasses=numclasses, mode=mode, rho=None)\n",
    "    #optG = optim.Adam(netG.parameters(), lr2, betas=(0.5, 0.999))\n",
    "    \n",
    "    Z = netD(real_cpu)\n",
    "    net_noise = get_noise(DATASET, device, LABEL)\n",
    "    err1 = 0\n",
    "    err2 = 1000\n",
    "    while abs(err1 - err2)> tor or abs(radius1-radius2)>tor:\n",
    "        a1 = radius2 - lam*(radius2-radius1)\n",
    "        a2 = radius1 + lam*(radius2-radius1)\n",
    "        fed_state_dict = get_netG(netD,netV,net_noise,a1)\n",
    "        netG.load_state_dict(fed_state_dict)\n",
    "        Z_bar = netG(real_cpu)\n",
    "        errG1, errG_EC1 = mcr_gan_loss(Z, Z_bar, real_label, n_dis2 - 1, n_dis2)\n",
    "        err1 = errG1\n",
    "        \n",
    "        fed_state_dict = get_netG(netD,netV,net_noise,a2)\n",
    "        netG.load_state_dict(fed_state_dict)\n",
    "        Z_bar = netG(real_cpu)\n",
    "        errG2, errG_EC2 = mcr_gan_loss(Z, Z_bar, real_label, n_dis2 - 1, n_dis2)\n",
    "        err2 = errG2\n",
    "        \n",
    "        if err1 > err2:\n",
    "            radius1 = a1\n",
    "            a1 = a2\n",
    "            err1 = err2\n",
    "            a2 = radius1 + lam*(radius2-radius1)\n",
    "            fed_state_dict = get_netG(netD,netV,net_noise,a2)\n",
    "            netG.load_state_dict(fed_state_dict)\n",
    "            Z_bar = netG(real_cpu)\n",
    "            errG2, errG_EC2 = mcr_gan_loss(Z, Z_bar, real_label, n_dis2 - 1, n_dis2)\n",
    "            err2 = errG2\n",
    "            #print('r1',radius1)\n",
    "            #print(errG2, errG_EC2)\n",
    "        else:\n",
    "            radius2 = a2\n",
    "            a2 = a1\n",
    "            a1 = radius2 - lam*(radius2-radius1)\n",
    "            fed_state_dict = get_netG(netD,netV,net_noise,a1)\n",
    "            netG.load_state_dict(fed_state_dict)\n",
    "            Z_bar = netG(real_cpu)\n",
    "            errG1, errG_EC1 = mcr_gan_loss(Z, Z_bar, real_label, n_dis2 - 1, n_dis2)\n",
    "            err1 = errG1\n",
    "            #print('r2',radius2)\n",
    "            #print(errG1, errG_EC1)\n",
    "            \n",
    "        # Grid Search case, 100 points on 0-0.1,0.1-10, 10-100    \n",
    "        radius_gs = 0\n",
    "        value_gs = np.zeros([1,300])\n",
    "        errG3, errG_EC3 = mcr_gan_loss(Z, Z, real_label, n_dis2 - 1, n_dis2)\n",
    "        value_gs[0][0] = errG3\n",
    "        err_Grid = errG3\n",
    "        \n",
    "        # to check the small radius when dimension is not enough\n",
    "        for _ in range(295):\n",
    "            if _ < 100:\n",
    "                radius_temp = (_ + 1)*0.001\n",
    "            elif _ < 200:\n",
    "                radius_temp = 0.1 + (_ - 100)*0.1\n",
    "            else:\n",
    "                radius_temp = 11 + (_ - 200)*1\n",
    "\n",
    "            fed_state_dict = get_netG(netD,netV,net_noise,radius_temp)\n",
    "            netG.load_state_dict(fed_state_dict)\n",
    "            Z_bar = netG(real_cpu)\n",
    "            errG3, errG_EC3 = mcr_gan_loss(Z, Z_bar, real_label, n_dis2 - 1, n_dis2)\n",
    "            value_gs[0][_+ 1] = errG3\n",
    "            err_temp = errG3\n",
    "            \n",
    "            if err_temp < err_Grid:\n",
    "                radius_gs = radius_temp\n",
    "                err_Grid  = err_temp\n",
    "                \n",
    "         \n",
    "    return radius1,radius2, radius_gs, value_gs"
   ]
  },
  {
   "cell_type": "code",
   "execution_count": 9,
   "id": "e0d6cae2",
   "metadata": {},
   "outputs": [
    {
     "name": "stdout",
     "output_type": "stream",
     "text": [
      "tensor(-17.2806, device='cuda:0', grad_fn=<NegBackward0>) [tensor(-8.6403, device='cuda:0', grad_fn=<NegBackward0>), tensor(-8.6403, device='cuda:0', grad_fn=<NegBackward0>), tensor(0., device='cuda:0', grad_fn=<AddBackward0>)]\n",
      "tensor(-12.2211, device='cuda:0', grad_fn=<NegBackward0>) [tensor(-6.1106, device='cuda:0', grad_fn=<NegBackward0>), tensor(-6.1106, device='cuda:0', grad_fn=<NegBackward0>), tensor(0., device='cuda:0', grad_fn=<AddBackward0>)]\n",
      "tensor(-22.6811, device='cuda:0', grad_fn=<NegBackward0>) [tensor(-11.3406, device='cuda:0', grad_fn=<NegBackward0>), tensor(-11.3406, device='cuda:0', grad_fn=<NegBackward0>), tensor(1.5259e-05, device='cuda:0', grad_fn=<AddBackward0>)]\n",
      "tensor(-27.4340, device='cuda:0', grad_fn=<NegBackward0>) [tensor(-13.7170, device='cuda:0', grad_fn=<NegBackward0>), tensor(-13.7170, device='cuda:0', grad_fn=<NegBackward0>), tensor(0., device='cuda:0', grad_fn=<AddBackward0>)]\n",
      "tensor(-28.3041, device='cuda:0', grad_fn=<NegBackward0>) [tensor(-14.1520, device='cuda:0', grad_fn=<NegBackward0>), tensor(-14.1520, device='cuda:0', grad_fn=<NegBackward0>), tensor(0., device='cuda:0', grad_fn=<AddBackward0>)]\n",
      "tensor(-32.9593, device='cuda:0', grad_fn=<NegBackward0>) [tensor(-16.4797, device='cuda:0', grad_fn=<NegBackward0>), tensor(-16.4797, device='cuda:0', grad_fn=<NegBackward0>), tensor(0., device='cuda:0', grad_fn=<AddBackward0>)]\n",
      "tensor(-35.7777, device='cuda:0', grad_fn=<NegBackward0>) [tensor(-17.8889, device='cuda:0', grad_fn=<NegBackward0>), tensor(-17.8889, device='cuda:0', grad_fn=<NegBackward0>), tensor(3.0518e-05, device='cuda:0', grad_fn=<AddBackward0>)]\n",
      "tensor(-37.8107, device='cuda:0', grad_fn=<NegBackward0>) [tensor(-18.9054, device='cuda:0', grad_fn=<NegBackward0>), tensor(-18.9054, device='cuda:0', grad_fn=<NegBackward0>), tensor(0., device='cuda:0', grad_fn=<AddBackward0>)]\n",
      "tensor(-39.0152, device='cuda:0', grad_fn=<NegBackward0>) [tensor(-19.5076, device='cuda:0', grad_fn=<NegBackward0>), tensor(-19.5076, device='cuda:0', grad_fn=<NegBackward0>), tensor(0., device='cuda:0', grad_fn=<AddBackward0>)]\n",
      "tensor(-39.6762, device='cuda:0', grad_fn=<NegBackward0>) [tensor(-19.8381, device='cuda:0', grad_fn=<NegBackward0>), tensor(-19.8381, device='cuda:0', grad_fn=<NegBackward0>), tensor(0., device='cuda:0', grad_fn=<AddBackward0>)]\n",
      "tensor(-41.7712, device='cuda:0', grad_fn=<NegBackward0>) [tensor(-20.8856, device='cuda:0', grad_fn=<NegBackward0>), tensor(-20.8856, device='cuda:0', grad_fn=<NegBackward0>), tensor(0., device='cuda:0', grad_fn=<AddBackward0>)]\n",
      "tensor(-43.6192, device='cuda:0', grad_fn=<NegBackward0>) [tensor(-21.8096, device='cuda:0', grad_fn=<NegBackward0>), tensor(-21.8096, device='cuda:0', grad_fn=<NegBackward0>), tensor(0., device='cuda:0', grad_fn=<AddBackward0>)]\n",
      "tensor(-44.9236, device='cuda:0', grad_fn=<NegBackward0>) [tensor(-22.4618, device='cuda:0', grad_fn=<NegBackward0>), tensor(-22.4618, device='cuda:0', grad_fn=<NegBackward0>), tensor(3.0518e-05, device='cuda:0', grad_fn=<AddBackward0>)]\n",
      "tensor(-45.6846, device='cuda:0', grad_fn=<NegBackward0>) [tensor(-22.8423, device='cuda:0', grad_fn=<NegBackward0>), tensor(-22.8423, device='cuda:0', grad_fn=<NegBackward0>), tensor(0., device='cuda:0', grad_fn=<AddBackward0>)]\n",
      "tensor(-46.3101, device='cuda:0', grad_fn=<NegBackward0>) [tensor(-23.1551, device='cuda:0', grad_fn=<NegBackward0>), tensor(-23.1551, device='cuda:0', grad_fn=<NegBackward0>), tensor(0., device='cuda:0', grad_fn=<AddBackward0>)]\n",
      "tensor(-46.7095, device='cuda:0', grad_fn=<NegBackward0>) [tensor(-23.3547, device='cuda:0', grad_fn=<NegBackward0>), tensor(-23.3547, device='cuda:0', grad_fn=<NegBackward0>), tensor(0., device='cuda:0', grad_fn=<AddBackward0>)]\n",
      "tensor(-49.1546, device='cuda:0', grad_fn=<NegBackward0>) [tensor(-24.5773, device='cuda:0', grad_fn=<NegBackward0>), tensor(-24.5773, device='cuda:0', grad_fn=<NegBackward0>), tensor(-3.0518e-05, device='cuda:0', grad_fn=<AddBackward0>)]\n",
      "tensor(-50.6244, device='cuda:0', grad_fn=<NegBackward0>) [tensor(-25.3122, device='cuda:0', grad_fn=<NegBackward0>), tensor(-25.3122, device='cuda:0', grad_fn=<NegBackward0>), tensor(3.0518e-05, device='cuda:0', grad_fn=<AddBackward0>)]\n",
      "tensor(-51.2042, device='cuda:0', grad_fn=<NegBackward0>) [tensor(-25.6021, device='cuda:0', grad_fn=<NegBackward0>), tensor(-25.6021, device='cuda:0', grad_fn=<NegBackward0>), tensor(0., device='cuda:0', grad_fn=<AddBackward0>)]\n",
      "tensor(-51.9433, device='cuda:0', grad_fn=<NegBackward0>) [tensor(-25.9716, device='cuda:0', grad_fn=<NegBackward0>), tensor(-25.9716, device='cuda:0', grad_fn=<NegBackward0>), tensor(0., device='cuda:0', grad_fn=<AddBackward0>)]\n",
      "tensor(-52.2374, device='cuda:0', grad_fn=<NegBackward0>) [tensor(-26.1187, device='cuda:0', grad_fn=<NegBackward0>), tensor(-26.1187, device='cuda:0', grad_fn=<NegBackward0>), tensor(0., device='cuda:0', grad_fn=<AddBackward0>)]\n",
      "tensor(-52.4753, device='cuda:0', grad_fn=<NegBackward0>) [tensor(-26.2376, device='cuda:0', grad_fn=<NegBackward0>), tensor(-26.2376, device='cuda:0', grad_fn=<NegBackward0>), tensor(0., device='cuda:0', grad_fn=<AddBackward0>)]\n",
      "tensor(-52.9937, device='cuda:0', grad_fn=<NegBackward0>) [tensor(-26.4968, device='cuda:0', grad_fn=<NegBackward0>), tensor(-26.4968, device='cuda:0', grad_fn=<NegBackward0>), tensor(0., device='cuda:0', grad_fn=<AddBackward0>)]\n",
      "tensor(-52.8243, device='cuda:0', grad_fn=<NegBackward0>) [tensor(-26.4121, device='cuda:0', grad_fn=<NegBackward0>), tensor(-26.4121, device='cuda:0', grad_fn=<NegBackward0>), tensor(3.0518e-05, device='cuda:0', grad_fn=<AddBackward0>)]\n",
      "tensor(-53.8354, device='cuda:0', grad_fn=<NegBackward0>) [tensor(-26.9177, device='cuda:0', grad_fn=<NegBackward0>), tensor(-26.9177, device='cuda:0', grad_fn=<NegBackward0>), tensor(0., device='cuda:0', grad_fn=<AddBackward0>)]\n",
      "tensor(-54.6213, device='cuda:0', grad_fn=<NegBackward0>) [tensor(-27.3107, device='cuda:0', grad_fn=<NegBackward0>), tensor(-27.3107, device='cuda:0', grad_fn=<NegBackward0>), tensor(0., device='cuda:0', grad_fn=<AddBackward0>)]\n",
      "tensor(-55.7578, device='cuda:0', grad_fn=<NegBackward0>) [tensor(-27.8789, device='cuda:0', grad_fn=<NegBackward0>), tensor(-27.8789, device='cuda:0', grad_fn=<NegBackward0>), tensor(0., device='cuda:0', grad_fn=<AddBackward0>)]\n",
      "tensor(-56.2579, device='cuda:0', grad_fn=<NegBackward0>) [tensor(-28.1290, device='cuda:0', grad_fn=<NegBackward0>), tensor(-28.1290, device='cuda:0', grad_fn=<NegBackward0>), tensor(0., device='cuda:0', grad_fn=<AddBackward0>)]\n",
      "tensor(-57.0209, device='cuda:0', grad_fn=<NegBackward0>) [tensor(-28.5105, device='cuda:0', grad_fn=<NegBackward0>), tensor(-28.5105, device='cuda:0', grad_fn=<NegBackward0>), tensor(0., device='cuda:0', grad_fn=<AddBackward0>)]\n",
      "tensor(-57.2669, device='cuda:0', grad_fn=<NegBackward0>) [tensor(-28.6334, device='cuda:0', grad_fn=<NegBackward0>), tensor(-28.6334, device='cuda:0', grad_fn=<NegBackward0>), tensor(0., device='cuda:0', grad_fn=<AddBackward0>)]\n",
      "tensor(-58.1898, device='cuda:0', grad_fn=<NegBackward0>) [tensor(-29.0949, device='cuda:0', grad_fn=<NegBackward0>), tensor(-29.0949, device='cuda:0', grad_fn=<NegBackward0>), tensor(0., device='cuda:0', grad_fn=<AddBackward0>)]\n",
      "tensor(-58.2497, device='cuda:0', grad_fn=<NegBackward0>) [tensor(-29.1249, device='cuda:0', grad_fn=<NegBackward0>), tensor(-29.1249, device='cuda:0', grad_fn=<NegBackward0>), tensor(0., device='cuda:0', grad_fn=<AddBackward0>)]\n",
      "tensor(-58.5792, device='cuda:0', grad_fn=<NegBackward0>) [tensor(-29.2896, device='cuda:0', grad_fn=<NegBackward0>), tensor(-29.2896, device='cuda:0', grad_fn=<NegBackward0>), tensor(0., device='cuda:0', grad_fn=<AddBackward0>)]\n",
      "tensor(-58.1755, device='cuda:0', grad_fn=<NegBackward0>) [tensor(-29.0878, device='cuda:0', grad_fn=<NegBackward0>), tensor(-29.0878, device='cuda:0', grad_fn=<NegBackward0>), tensor(3.0518e-05, device='cuda:0', grad_fn=<AddBackward0>)]\n",
      "tensor(-59.1993, device='cuda:0', grad_fn=<NegBackward0>) [tensor(-29.5996, device='cuda:0', grad_fn=<NegBackward0>), tensor(-29.5996, device='cuda:0', grad_fn=<NegBackward0>), tensor(0., device='cuda:0', grad_fn=<AddBackward0>)]\n",
      "tensor(-59.6028, device='cuda:0', grad_fn=<NegBackward0>) [tensor(-29.8014, device='cuda:0', grad_fn=<NegBackward0>), tensor(-29.8014, device='cuda:0', grad_fn=<NegBackward0>), tensor(0., device='cuda:0', grad_fn=<AddBackward0>)]\n",
      "tensor(-58.4767, device='cuda:0', grad_fn=<NegBackward0>) [tensor(-29.2384, device='cuda:0', grad_fn=<NegBackward0>), tensor(-29.2384, device='cuda:0', grad_fn=<NegBackward0>), tensor(-3.0518e-05, device='cuda:0', grad_fn=<AddBackward0>)]\n"
     ]
    },
    {
     "name": "stdout",
     "output_type": "stream",
     "text": [
      "tensor(-59.0640, device='cuda:0', grad_fn=<NegBackward0>) [tensor(-29.5320, device='cuda:0', grad_fn=<NegBackward0>), tensor(-29.5320, device='cuda:0', grad_fn=<NegBackward0>), tensor(0., device='cuda:0', grad_fn=<AddBackward0>)]\n",
      "tensor(-59.9354, device='cuda:0', grad_fn=<NegBackward0>) [tensor(-29.9677, device='cuda:0', grad_fn=<NegBackward0>), tensor(-29.9677, device='cuda:0', grad_fn=<NegBackward0>), tensor(0., device='cuda:0', grad_fn=<AddBackward0>)]\n",
      "tensor(-61.3655, device='cuda:0', grad_fn=<NegBackward0>) [tensor(-30.6827, device='cuda:0', grad_fn=<NegBackward0>), tensor(-30.6827, device='cuda:0', grad_fn=<NegBackward0>), tensor(0., device='cuda:0', grad_fn=<AddBackward0>)]\n",
      "tensor(-62.3305, device='cuda:0', grad_fn=<NegBackward0>) [tensor(-31.1653, device='cuda:0', grad_fn=<NegBackward0>), tensor(-31.1653, device='cuda:0', grad_fn=<NegBackward0>), tensor(0., device='cuda:0', grad_fn=<AddBackward0>)]\n",
      "tensor(-62.9170, device='cuda:0', grad_fn=<NegBackward0>) [tensor(-31.4585, device='cuda:0', grad_fn=<NegBackward0>), tensor(-31.4585, device='cuda:0', grad_fn=<NegBackward0>), tensor(0., device='cuda:0', grad_fn=<AddBackward0>)]\n",
      "tensor(-63.1278, device='cuda:0', grad_fn=<NegBackward0>) [tensor(-31.5639, device='cuda:0', grad_fn=<NegBackward0>), tensor(-31.5639, device='cuda:0', grad_fn=<NegBackward0>), tensor(0., device='cuda:0', grad_fn=<AddBackward0>)]\n",
      "tensor(-63.4732, device='cuda:0', grad_fn=<NegBackward0>) [tensor(-31.7366, device='cuda:0', grad_fn=<NegBackward0>), tensor(-31.7366, device='cuda:0', grad_fn=<NegBackward0>), tensor(0., device='cuda:0', grad_fn=<AddBackward0>)]\n",
      "tensor(-63.6119, device='cuda:0', grad_fn=<NegBackward0>) [tensor(-31.8060, device='cuda:0', grad_fn=<NegBackward0>), tensor(-31.8060, device='cuda:0', grad_fn=<NegBackward0>), tensor(0., device='cuda:0', grad_fn=<AddBackward0>)]\n",
      "tensor(-63.4309, device='cuda:0', grad_fn=<NegBackward0>) [tensor(-31.7155, device='cuda:0', grad_fn=<NegBackward0>), tensor(-31.7155, device='cuda:0', grad_fn=<NegBackward0>), tensor(0., device='cuda:0', grad_fn=<AddBackward0>)]\n",
      "tensor(-63.5889, device='cuda:0', grad_fn=<NegBackward0>) [tensor(-31.7944, device='cuda:0', grad_fn=<NegBackward0>), tensor(-31.7944, device='cuda:0', grad_fn=<NegBackward0>), tensor(0., device='cuda:0', grad_fn=<AddBackward0>)]\n",
      "tensor(-63.4437, device='cuda:0', grad_fn=<NegBackward0>) [tensor(-31.7218, device='cuda:0', grad_fn=<NegBackward0>), tensor(-31.7218, device='cuda:0', grad_fn=<NegBackward0>), tensor(0., device='cuda:0', grad_fn=<AddBackward0>)]\n",
      "tensor(-63.7072, device='cuda:0', grad_fn=<NegBackward0>) [tensor(-31.8536, device='cuda:0', grad_fn=<NegBackward0>), tensor(-31.8536, device='cuda:0', grad_fn=<NegBackward0>), tensor(0., device='cuda:0', grad_fn=<AddBackward0>)]\n",
      "tensor(-63.8426, device='cuda:0', grad_fn=<NegBackward0>) [tensor(-31.9213, device='cuda:0', grad_fn=<NegBackward0>), tensor(-31.9213, device='cuda:0', grad_fn=<NegBackward0>), tensor(0., device='cuda:0', grad_fn=<AddBackward0>)]\n",
      "tensor(-62.8632, device='cuda:0', grad_fn=<NegBackward0>) [tensor(-31.4316, device='cuda:0', grad_fn=<NegBackward0>), tensor(-31.4316, device='cuda:0', grad_fn=<NegBackward0>), tensor(0., device='cuda:0', grad_fn=<AddBackward0>)]\n",
      "tensor(-63.7265, device='cuda:0', grad_fn=<NegBackward0>) [tensor(-31.8632, device='cuda:0', grad_fn=<NegBackward0>), tensor(-31.8632, device='cuda:0', grad_fn=<NegBackward0>), tensor(0., device='cuda:0', grad_fn=<AddBackward0>)]\n",
      "tensor(-63.9156, device='cuda:0', grad_fn=<NegBackward0>) [tensor(-31.9578, device='cuda:0', grad_fn=<NegBackward0>), tensor(-31.9578, device='cuda:0', grad_fn=<NegBackward0>), tensor(0., device='cuda:0', grad_fn=<AddBackward0>)]\n",
      "tensor(-64.8295, device='cuda:0', grad_fn=<NegBackward0>) [tensor(-32.4148, device='cuda:0', grad_fn=<NegBackward0>), tensor(-32.4148, device='cuda:0', grad_fn=<NegBackward0>), tensor(0., device='cuda:0', grad_fn=<AddBackward0>)]\n",
      "tensor(-66.0471, device='cuda:0', grad_fn=<NegBackward0>) [tensor(-33.0236, device='cuda:0', grad_fn=<NegBackward0>), tensor(-33.0236, device='cuda:0', grad_fn=<NegBackward0>), tensor(0., device='cuda:0', grad_fn=<AddBackward0>)]\n",
      "tensor(-66.9858, device='cuda:0', grad_fn=<NegBackward0>) [tensor(-33.4929, device='cuda:0', grad_fn=<NegBackward0>), tensor(-33.4929, device='cuda:0', grad_fn=<NegBackward0>), tensor(3.0518e-05, device='cuda:0', grad_fn=<AddBackward0>)]\n",
      "tensor(-67.6667, device='cuda:0', grad_fn=<NegBackward0>) [tensor(-33.8333, device='cuda:0', grad_fn=<NegBackward0>), tensor(-33.8333, device='cuda:0', grad_fn=<NegBackward0>), tensor(0., device='cuda:0', grad_fn=<AddBackward0>)]\n",
      "tensor(-67.9410, device='cuda:0', grad_fn=<NegBackward0>) [tensor(-33.9705, device='cuda:0', grad_fn=<NegBackward0>), tensor(-33.9705, device='cuda:0', grad_fn=<NegBackward0>), tensor(0., device='cuda:0', grad_fn=<AddBackward0>)]\n",
      "tensor(-67.4366, device='cuda:0', grad_fn=<NegBackward0>) [tensor(-33.7183, device='cuda:0', grad_fn=<NegBackward0>), tensor(-33.7183, device='cuda:0', grad_fn=<NegBackward0>), tensor(-3.0518e-05, device='cuda:0', grad_fn=<AddBackward0>)]\n",
      "tensor(-66.9208, device='cuda:0', grad_fn=<NegBackward0>) [tensor(-33.4604, device='cuda:0', grad_fn=<NegBackward0>), tensor(-33.4604, device='cuda:0', grad_fn=<NegBackward0>), tensor(0., device='cuda:0', grad_fn=<AddBackward0>)]\n",
      "tensor(-68.2685, device='cuda:0', grad_fn=<NegBackward0>) [tensor(-34.1343, device='cuda:0', grad_fn=<NegBackward0>), tensor(-34.1343, device='cuda:0', grad_fn=<NegBackward0>), tensor(3.0518e-05, device='cuda:0', grad_fn=<AddBackward0>)]\n",
      "tensor(-68.1953, device='cuda:0', grad_fn=<NegBackward0>) [tensor(-34.0977, device='cuda:0', grad_fn=<NegBackward0>), tensor(-34.0977, device='cuda:0', grad_fn=<NegBackward0>), tensor(0., device='cuda:0', grad_fn=<AddBackward0>)]\n",
      "tensor(-68.5820, device='cuda:0', grad_fn=<NegBackward0>) [tensor(-34.2910, device='cuda:0', grad_fn=<NegBackward0>), tensor(-34.2910, device='cuda:0', grad_fn=<NegBackward0>), tensor(-3.0518e-05, device='cuda:0', grad_fn=<AddBackward0>)]\n",
      "tensor(-67.8185, device='cuda:0', grad_fn=<NegBackward0>) [tensor(-33.9093, device='cuda:0', grad_fn=<NegBackward0>), tensor(-33.9093, device='cuda:0', grad_fn=<NegBackward0>), tensor(0., device='cuda:0', grad_fn=<AddBackward0>)]\n",
      "tensor(-68.4740, device='cuda:0', grad_fn=<NegBackward0>) [tensor(-34.2370, device='cuda:0', grad_fn=<NegBackward0>), tensor(-34.2370, device='cuda:0', grad_fn=<NegBackward0>), tensor(0., device='cuda:0', grad_fn=<AddBackward0>)]\n",
      "tensor(-69.1362, device='cuda:0', grad_fn=<NegBackward0>) [tensor(-34.5681, device='cuda:0', grad_fn=<NegBackward0>), tensor(-34.5681, device='cuda:0', grad_fn=<NegBackward0>), tensor(-3.0518e-05, device='cuda:0', grad_fn=<AddBackward0>)]\n",
      "tensor(-69.5823, device='cuda:0', grad_fn=<NegBackward0>) [tensor(-34.7911, device='cuda:0', grad_fn=<NegBackward0>), tensor(-34.7911, device='cuda:0', grad_fn=<NegBackward0>), tensor(3.0518e-05, device='cuda:0', grad_fn=<AddBackward0>)]\n",
      "tensor(-68.6122, device='cuda:0', grad_fn=<NegBackward0>) [tensor(-34.3061, device='cuda:0', grad_fn=<NegBackward0>), tensor(-34.3061, device='cuda:0', grad_fn=<NegBackward0>), tensor(0., device='cuda:0', grad_fn=<AddBackward0>)]\n",
      "tensor(-67.9214, device='cuda:0', grad_fn=<NegBackward0>) [tensor(-33.9607, device='cuda:0', grad_fn=<NegBackward0>), tensor(-33.9607, device='cuda:0', grad_fn=<NegBackward0>), tensor(0., device='cuda:0', grad_fn=<AddBackward0>)]\n",
      "tensor(-67.4822, device='cuda:0', grad_fn=<NegBackward0>) [tensor(-33.7411, device='cuda:0', grad_fn=<NegBackward0>), tensor(-33.7411, device='cuda:0', grad_fn=<NegBackward0>), tensor(0., device='cuda:0', grad_fn=<AddBackward0>)]\n",
      "tensor(-69.0488, device='cuda:0', grad_fn=<NegBackward0>) [tensor(-34.5244, device='cuda:0', grad_fn=<NegBackward0>), tensor(-34.5244, device='cuda:0', grad_fn=<NegBackward0>), tensor(0., device='cuda:0', grad_fn=<AddBackward0>)]\n",
      "tensor(-70.8911, device='cuda:0', grad_fn=<NegBackward0>) [tensor(-35.4455, device='cuda:0', grad_fn=<NegBackward0>), tensor(-35.4455, device='cuda:0', grad_fn=<NegBackward0>), tensor(0., device='cuda:0', grad_fn=<AddBackward0>)]\n",
      "tensor(-71.3772, device='cuda:0', grad_fn=<NegBackward0>) [tensor(-35.6886, device='cuda:0', grad_fn=<NegBackward0>), tensor(-35.6886, device='cuda:0', grad_fn=<NegBackward0>), tensor(0., device='cuda:0', grad_fn=<AddBackward0>)]\n"
     ]
    },
    {
     "name": "stdout",
     "output_type": "stream",
     "text": [
      "tensor(-72.0433, device='cuda:0', grad_fn=<NegBackward0>) [tensor(-36.0216, device='cuda:0', grad_fn=<NegBackward0>), tensor(-36.0216, device='cuda:0', grad_fn=<NegBackward0>), tensor(0., device='cuda:0', grad_fn=<AddBackward0>)]\n",
      "tensor(-72.3489, device='cuda:0', grad_fn=<NegBackward0>) [tensor(-36.1745, device='cuda:0', grad_fn=<NegBackward0>), tensor(-36.1745, device='cuda:0', grad_fn=<NegBackward0>), tensor(0., device='cuda:0', grad_fn=<AddBackward0>)]\n",
      "tensor(-71.8774, device='cuda:0', grad_fn=<NegBackward0>) [tensor(-35.9387, device='cuda:0', grad_fn=<NegBackward0>), tensor(-35.9387, device='cuda:0', grad_fn=<NegBackward0>), tensor(0., device='cuda:0', grad_fn=<AddBackward0>)]\n",
      "tensor(-71.2764, device='cuda:0', grad_fn=<NegBackward0>) [tensor(-35.6382, device='cuda:0', grad_fn=<NegBackward0>), tensor(-35.6382, device='cuda:0', grad_fn=<NegBackward0>), tensor(0., device='cuda:0', grad_fn=<AddBackward0>)]\n",
      "tensor(-70.9295, device='cuda:0', grad_fn=<NegBackward0>) [tensor(-35.4647, device='cuda:0', grad_fn=<NegBackward0>), tensor(-35.4647, device='cuda:0', grad_fn=<NegBackward0>), tensor(0., device='cuda:0', grad_fn=<AddBackward0>)]\n",
      "tensor(-70.7792, device='cuda:0', grad_fn=<NegBackward0>) [tensor(-35.3896, device='cuda:0', grad_fn=<NegBackward0>), tensor(-35.3896, device='cuda:0', grad_fn=<NegBackward0>), tensor(-3.0518e-05, device='cuda:0', grad_fn=<AddBackward0>)]\n",
      "tensor(-71.7519, device='cuda:0', grad_fn=<NegBackward0>) [tensor(-35.8759, device='cuda:0', grad_fn=<NegBackward0>), tensor(-35.8759, device='cuda:0', grad_fn=<NegBackward0>), tensor(0., device='cuda:0', grad_fn=<AddBackward0>)]\n",
      "tensor(-72.8282, device='cuda:0', grad_fn=<NegBackward0>) [tensor(-36.4141, device='cuda:0', grad_fn=<NegBackward0>), tensor(-36.4141, device='cuda:0', grad_fn=<NegBackward0>), tensor(0., device='cuda:0', grad_fn=<AddBackward0>)]\n",
      "tensor(-72.1200, device='cuda:0', grad_fn=<NegBackward0>) [tensor(-36.0600, device='cuda:0', grad_fn=<NegBackward0>), tensor(-36.0600, device='cuda:0', grad_fn=<NegBackward0>), tensor(0., device='cuda:0', grad_fn=<AddBackward0>)]\n",
      "tensor(-71.7791, device='cuda:0', grad_fn=<NegBackward0>) [tensor(-35.8896, device='cuda:0', grad_fn=<NegBackward0>), tensor(-35.8896, device='cuda:0', grad_fn=<NegBackward0>), tensor(0., device='cuda:0', grad_fn=<AddBackward0>)]\n",
      "tensor(-71.8078, device='cuda:0', grad_fn=<NegBackward0>) [tensor(-35.9039, device='cuda:0', grad_fn=<NegBackward0>), tensor(-35.9039, device='cuda:0', grad_fn=<NegBackward0>), tensor(0., device='cuda:0', grad_fn=<AddBackward0>)]\n",
      "tensor(-72.9337, device='cuda:0', grad_fn=<NegBackward0>) [tensor(-36.4668, device='cuda:0', grad_fn=<NegBackward0>), tensor(-36.4668, device='cuda:0', grad_fn=<NegBackward0>), tensor(0., device='cuda:0', grad_fn=<AddBackward0>)]\n",
      "tensor(-72.9394, device='cuda:0', grad_fn=<NegBackward0>) [tensor(-36.4697, device='cuda:0', grad_fn=<NegBackward0>), tensor(-36.4697, device='cuda:0', grad_fn=<NegBackward0>), tensor(0., device='cuda:0', grad_fn=<AddBackward0>)]\n",
      "tensor(-73.1923, device='cuda:0', grad_fn=<NegBackward0>) [tensor(-36.5962, device='cuda:0', grad_fn=<NegBackward0>), tensor(-36.5962, device='cuda:0', grad_fn=<NegBackward0>), tensor(0., device='cuda:0', grad_fn=<AddBackward0>)]\n",
      "tensor(-73.9816, device='cuda:0', grad_fn=<NegBackward0>) [tensor(-36.9908, device='cuda:0', grad_fn=<NegBackward0>), tensor(-36.9908, device='cuda:0', grad_fn=<NegBackward0>), tensor(0., device='cuda:0', grad_fn=<AddBackward0>)]\n",
      "tensor(-74.6068, device='cuda:0', grad_fn=<NegBackward0>) [tensor(-37.3034, device='cuda:0', grad_fn=<NegBackward0>), tensor(-37.3034, device='cuda:0', grad_fn=<NegBackward0>), tensor(-3.0518e-05, device='cuda:0', grad_fn=<AddBackward0>)]\n",
      "tensor(-74.7169, device='cuda:0', grad_fn=<NegBackward0>) [tensor(-37.3585, device='cuda:0', grad_fn=<NegBackward0>), tensor(-37.3585, device='cuda:0', grad_fn=<NegBackward0>), tensor(0., device='cuda:0', grad_fn=<AddBackward0>)]\n",
      "tensor(-74.3721, device='cuda:0', grad_fn=<NegBackward0>) [tensor(-37.1860, device='cuda:0', grad_fn=<NegBackward0>), tensor(-37.1860, device='cuda:0', grad_fn=<NegBackward0>), tensor(-3.0518e-05, device='cuda:0', grad_fn=<AddBackward0>)]\n",
      "tensor(-73.9300, device='cuda:0', grad_fn=<NegBackward0>) [tensor(-36.9650, device='cuda:0', grad_fn=<NegBackward0>), tensor(-36.9650, device='cuda:0', grad_fn=<NegBackward0>), tensor(0., device='cuda:0', grad_fn=<AddBackward0>)]\n",
      "tensor(-74.5203, device='cuda:0', grad_fn=<NegBackward0>) [tensor(-37.2602, device='cuda:0', grad_fn=<NegBackward0>), tensor(-37.2602, device='cuda:0', grad_fn=<NegBackward0>), tensor(0., device='cuda:0', grad_fn=<AddBackward0>)]\n",
      "tensor(-74.4286, device='cuda:0', grad_fn=<NegBackward0>) [tensor(-37.2143, device='cuda:0', grad_fn=<NegBackward0>), tensor(-37.2143, device='cuda:0', grad_fn=<NegBackward0>), tensor(0., device='cuda:0', grad_fn=<AddBackward0>)]\n",
      "tensor(-74.3514, device='cuda:0', grad_fn=<NegBackward0>) [tensor(-37.1757, device='cuda:0', grad_fn=<NegBackward0>), tensor(-37.1757, device='cuda:0', grad_fn=<NegBackward0>), tensor(0., device='cuda:0', grad_fn=<AddBackward0>)]\n",
      "tensor(-74.8336, device='cuda:0', grad_fn=<NegBackward0>) [tensor(-37.4168, device='cuda:0', grad_fn=<NegBackward0>), tensor(-37.4168, device='cuda:0', grad_fn=<NegBackward0>), tensor(-3.0518e-05, device='cuda:0', grad_fn=<AddBackward0>)]\n",
      "tensor(-74.4421, device='cuda:0', grad_fn=<NegBackward0>) [tensor(-37.2211, device='cuda:0', grad_fn=<NegBackward0>), tensor(-37.2211, device='cuda:0', grad_fn=<NegBackward0>), tensor(0., device='cuda:0', grad_fn=<AddBackward0>)]\n",
      "tensor(-75.1545, device='cuda:0', grad_fn=<NegBackward0>) [tensor(-37.5773, device='cuda:0', grad_fn=<NegBackward0>), tensor(-37.5773, device='cuda:0', grad_fn=<NegBackward0>), tensor(0., device='cuda:0', grad_fn=<AddBackward0>)]\n",
      "tensor(-75.7596, device='cuda:0', grad_fn=<NegBackward0>) [tensor(-37.8798, device='cuda:0', grad_fn=<NegBackward0>), tensor(-37.8798, device='cuda:0', grad_fn=<NegBackward0>), tensor(0., device='cuda:0', grad_fn=<AddBackward0>)]\n",
      "tensor(-76.9504, device='cuda:0', grad_fn=<NegBackward0>) [tensor(-38.4752, device='cuda:0', grad_fn=<NegBackward0>), tensor(-38.4752, device='cuda:0', grad_fn=<NegBackward0>), tensor(0., device='cuda:0', grad_fn=<AddBackward0>)]\n",
      "tensor(-77.5063, device='cuda:0', grad_fn=<NegBackward0>) [tensor(-38.7532, device='cuda:0', grad_fn=<NegBackward0>), tensor(-38.7532, device='cuda:0', grad_fn=<NegBackward0>), tensor(-3.0518e-05, device='cuda:0', grad_fn=<AddBackward0>)]\n",
      "tensor(-77.6397, device='cuda:0', grad_fn=<NegBackward0>) [tensor(-38.8198, device='cuda:0', grad_fn=<NegBackward0>), tensor(-38.8198, device='cuda:0', grad_fn=<NegBackward0>), tensor(0., device='cuda:0', grad_fn=<AddBackward0>)]\n",
      "tensor(-77.7361, device='cuda:0', grad_fn=<NegBackward0>) [tensor(-38.8681, device='cuda:0', grad_fn=<NegBackward0>), tensor(-38.8681, device='cuda:0', grad_fn=<NegBackward0>), tensor(0., device='cuda:0', grad_fn=<AddBackward0>)]\n",
      "tensor(-77.2527, device='cuda:0', grad_fn=<NegBackward0>) [tensor(-38.6263, device='cuda:0', grad_fn=<NegBackward0>), tensor(-38.6263, device='cuda:0', grad_fn=<NegBackward0>), tensor(0., device='cuda:0', grad_fn=<AddBackward0>)]\n",
      "tensor(-76.6113, device='cuda:0', grad_fn=<NegBackward0>) [tensor(-38.3056, device='cuda:0', grad_fn=<NegBackward0>), tensor(-38.3056, device='cuda:0', grad_fn=<NegBackward0>), tensor(0., device='cuda:0', grad_fn=<AddBackward0>)]\n",
      "tensor(-76.0057, device='cuda:0', grad_fn=<NegBackward0>) [tensor(-38.0029, device='cuda:0', grad_fn=<NegBackward0>), tensor(-38.0029, device='cuda:0', grad_fn=<NegBackward0>), tensor(0., device='cuda:0', grad_fn=<AddBackward0>)]\n",
      "tensor(-74.3235, device='cuda:0', grad_fn=<NegBackward0>) [tensor(-37.1618, device='cuda:0', grad_fn=<NegBackward0>), tensor(-37.1618, device='cuda:0', grad_fn=<NegBackward0>), tensor(0., device='cuda:0', grad_fn=<AddBackward0>)]\n",
      "tensor(-74.9493, device='cuda:0', grad_fn=<NegBackward0>) [tensor(-37.4747, device='cuda:0', grad_fn=<NegBackward0>), tensor(-37.4747, device='cuda:0', grad_fn=<NegBackward0>), tensor(3.0518e-05, device='cuda:0', grad_fn=<AddBackward0>)]\n",
      "tensor(-76.2202, device='cuda:0', grad_fn=<NegBackward0>) [tensor(-38.1101, device='cuda:0', grad_fn=<NegBackward0>), tensor(-38.1101, device='cuda:0', grad_fn=<NegBackward0>), tensor(0., device='cuda:0', grad_fn=<AddBackward0>)]\n"
     ]
    },
    {
     "name": "stdout",
     "output_type": "stream",
     "text": [
      "tensor(-75.9491, device='cuda:0', grad_fn=<NegBackward0>) [tensor(-37.9745, device='cuda:0', grad_fn=<NegBackward0>), tensor(-37.9745, device='cuda:0', grad_fn=<NegBackward0>), tensor(0., device='cuda:0', grad_fn=<AddBackward0>)]\n",
      "tensor(-77.0244, device='cuda:0', grad_fn=<NegBackward0>) [tensor(-38.5122, device='cuda:0', grad_fn=<NegBackward0>), tensor(-38.5122, device='cuda:0', grad_fn=<NegBackward0>), tensor(0., device='cuda:0', grad_fn=<AddBackward0>)]\n",
      "tensor(-77.6984, device='cuda:0', grad_fn=<NegBackward0>) [tensor(-38.8492, device='cuda:0', grad_fn=<NegBackward0>), tensor(-38.8492, device='cuda:0', grad_fn=<NegBackward0>), tensor(0., device='cuda:0', grad_fn=<AddBackward0>)]\n",
      "tensor(-78.6672, device='cuda:0', grad_fn=<NegBackward0>) [tensor(-39.3336, device='cuda:0', grad_fn=<NegBackward0>), tensor(-39.3336, device='cuda:0', grad_fn=<NegBackward0>), tensor(0., device='cuda:0', grad_fn=<AddBackward0>)]\n",
      "tensor(-79.5152, device='cuda:0', grad_fn=<NegBackward0>) [tensor(-39.7576, device='cuda:0', grad_fn=<NegBackward0>), tensor(-39.7576, device='cuda:0', grad_fn=<NegBackward0>), tensor(0., device='cuda:0', grad_fn=<AddBackward0>)]\n",
      "tensor(-80.1345, device='cuda:0', grad_fn=<NegBackward0>) [tensor(-40.0673, device='cuda:0', grad_fn=<NegBackward0>), tensor(-40.0673, device='cuda:0', grad_fn=<NegBackward0>), tensor(0., device='cuda:0', grad_fn=<AddBackward0>)]\n",
      "tensor(-80.6530, device='cuda:0', grad_fn=<NegBackward0>) [tensor(-40.3265, device='cuda:0', grad_fn=<NegBackward0>), tensor(-40.3265, device='cuda:0', grad_fn=<NegBackward0>), tensor(0., device='cuda:0', grad_fn=<AddBackward0>)]\n",
      "tensor(-80.5047, device='cuda:0', grad_fn=<NegBackward0>) [tensor(-40.2523, device='cuda:0', grad_fn=<NegBackward0>), tensor(-40.2523, device='cuda:0', grad_fn=<NegBackward0>), tensor(0., device='cuda:0', grad_fn=<AddBackward0>)]\n",
      "tensor(-79.8894, device='cuda:0', grad_fn=<NegBackward0>) [tensor(-39.9447, device='cuda:0', grad_fn=<NegBackward0>), tensor(-39.9447, device='cuda:0', grad_fn=<NegBackward0>), tensor(3.0518e-05, device='cuda:0', grad_fn=<AddBackward0>)]\n",
      "tensor(-78.5495, device='cuda:0', grad_fn=<NegBackward0>) [tensor(-39.2748, device='cuda:0', grad_fn=<NegBackward0>), tensor(-39.2748, device='cuda:0', grad_fn=<NegBackward0>), tensor(3.0518e-05, device='cuda:0', grad_fn=<AddBackward0>)]\n",
      "tensor(-78.5812, device='cuda:0', grad_fn=<NegBackward0>) [tensor(-39.2906, device='cuda:0', grad_fn=<NegBackward0>), tensor(-39.2906, device='cuda:0', grad_fn=<NegBackward0>), tensor(3.0518e-05, device='cuda:0', grad_fn=<AddBackward0>)]\n",
      "tensor(-77.9524, device='cuda:0', grad_fn=<NegBackward0>) [tensor(-38.9762, device='cuda:0', grad_fn=<NegBackward0>), tensor(-38.9762, device='cuda:0', grad_fn=<NegBackward0>), tensor(0., device='cuda:0', grad_fn=<AddBackward0>)]\n",
      "tensor(-77.7330, device='cuda:0', grad_fn=<NegBackward0>) [tensor(-38.8665, device='cuda:0', grad_fn=<NegBackward0>), tensor(-38.8665, device='cuda:0', grad_fn=<NegBackward0>), tensor(3.0518e-05, device='cuda:0', grad_fn=<AddBackward0>)]\n",
      "tensor(-78.7810, device='cuda:0', grad_fn=<NegBackward0>) [tensor(-39.3905, device='cuda:0', grad_fn=<NegBackward0>), tensor(-39.3905, device='cuda:0', grad_fn=<NegBackward0>), tensor(0., device='cuda:0', grad_fn=<AddBackward0>)]\n",
      "tensor(-78.5193, device='cuda:0', grad_fn=<NegBackward0>) [tensor(-39.2596, device='cuda:0', grad_fn=<NegBackward0>), tensor(-39.2596, device='cuda:0', grad_fn=<NegBackward0>), tensor(0., device='cuda:0', grad_fn=<AddBackward0>)]\n",
      "tensor(-78.4927, device='cuda:0', grad_fn=<NegBackward0>) [tensor(-39.2464, device='cuda:0', grad_fn=<NegBackward0>), tensor(-39.2464, device='cuda:0', grad_fn=<NegBackward0>), tensor(0., device='cuda:0', grad_fn=<AddBackward0>)]\n",
      "tensor(-79.8528, device='cuda:0', grad_fn=<NegBackward0>) [tensor(-39.9264, device='cuda:0', grad_fn=<NegBackward0>), tensor(-39.9264, device='cuda:0', grad_fn=<NegBackward0>), tensor(0., device='cuda:0', grad_fn=<AddBackward0>)]\n",
      "tensor(-80.1385, device='cuda:0', grad_fn=<NegBackward0>) [tensor(-40.0692, device='cuda:0', grad_fn=<NegBackward0>), tensor(-40.0692, device='cuda:0', grad_fn=<NegBackward0>), tensor(0., device='cuda:0', grad_fn=<AddBackward0>)]\n",
      "tensor(-80.0904, device='cuda:0', grad_fn=<NegBackward0>) [tensor(-40.0452, device='cuda:0', grad_fn=<NegBackward0>), tensor(-40.0452, device='cuda:0', grad_fn=<NegBackward0>), tensor(-3.0518e-05, device='cuda:0', grad_fn=<AddBackward0>)]\n",
      "tensor(-80.2687, device='cuda:0', grad_fn=<NegBackward0>) [tensor(-40.1343, device='cuda:0', grad_fn=<NegBackward0>), tensor(-40.1343, device='cuda:0', grad_fn=<NegBackward0>), tensor(0., device='cuda:0', grad_fn=<AddBackward0>)]\n",
      "tensor(-79.8493, device='cuda:0', grad_fn=<NegBackward0>) [tensor(-39.9246, device='cuda:0', grad_fn=<NegBackward0>), tensor(-39.9246, device='cuda:0', grad_fn=<NegBackward0>), tensor(0., device='cuda:0', grad_fn=<AddBackward0>)]\n",
      "tensor(-79.6265, device='cuda:0', grad_fn=<NegBackward0>) [tensor(-39.8133, device='cuda:0', grad_fn=<NegBackward0>), tensor(-39.8133, device='cuda:0', grad_fn=<NegBackward0>), tensor(0., device='cuda:0', grad_fn=<AddBackward0>)]\n",
      "tensor(-79.9625, device='cuda:0', grad_fn=<NegBackward0>) [tensor(-39.9812, device='cuda:0', grad_fn=<NegBackward0>), tensor(-39.9812, device='cuda:0', grad_fn=<NegBackward0>), tensor(-3.0518e-05, device='cuda:0', grad_fn=<AddBackward0>)]\n",
      "tensor(-80.5807, device='cuda:0', grad_fn=<NegBackward0>) [tensor(-40.2903, device='cuda:0', grad_fn=<NegBackward0>), tensor(-40.2903, device='cuda:0', grad_fn=<NegBackward0>), tensor(0., device='cuda:0', grad_fn=<AddBackward0>)]\n",
      "tensor(-80.9344, device='cuda:0', grad_fn=<NegBackward0>) [tensor(-40.4672, device='cuda:0', grad_fn=<NegBackward0>), tensor(-40.4672, device='cuda:0', grad_fn=<NegBackward0>), tensor(0., device='cuda:0', grad_fn=<AddBackward0>)]\n",
      "tensor(-81.0300, device='cuda:0', grad_fn=<NegBackward0>) [tensor(-40.5150, device='cuda:0', grad_fn=<NegBackward0>), tensor(-40.5150, device='cuda:0', grad_fn=<NegBackward0>), tensor(-3.0518e-05, device='cuda:0', grad_fn=<AddBackward0>)]\n",
      "tensor(-81.0845, device='cuda:0', grad_fn=<NegBackward0>) [tensor(-40.5423, device='cuda:0', grad_fn=<NegBackward0>), tensor(-40.5423, device='cuda:0', grad_fn=<NegBackward0>), tensor(0., device='cuda:0', grad_fn=<AddBackward0>)]\n",
      "tensor(-80.9060, device='cuda:0', grad_fn=<NegBackward0>) [tensor(-40.4530, device='cuda:0', grad_fn=<NegBackward0>), tensor(-40.4530, device='cuda:0', grad_fn=<NegBackward0>), tensor(0., device='cuda:0', grad_fn=<AddBackward0>)]\n",
      "tensor(-81.1234, device='cuda:0', grad_fn=<NegBackward0>) [tensor(-40.5617, device='cuda:0', grad_fn=<NegBackward0>), tensor(-40.5617, device='cuda:0', grad_fn=<NegBackward0>), tensor(0., device='cuda:0', grad_fn=<AddBackward0>)]\n",
      "tensor(-81.3821, device='cuda:0', grad_fn=<NegBackward0>) [tensor(-40.6911, device='cuda:0', grad_fn=<NegBackward0>), tensor(-40.6911, device='cuda:0', grad_fn=<NegBackward0>), tensor(0., device='cuda:0', grad_fn=<AddBackward0>)]\n",
      "tensor(-81.8187, device='cuda:0', grad_fn=<NegBackward0>) [tensor(-40.9093, device='cuda:0', grad_fn=<NegBackward0>), tensor(-40.9093, device='cuda:0', grad_fn=<NegBackward0>), tensor(0., device='cuda:0', grad_fn=<AddBackward0>)]\n",
      "tensor(-81.3922, device='cuda:0', grad_fn=<NegBackward0>) [tensor(-40.6961, device='cuda:0', grad_fn=<NegBackward0>), tensor(-40.6961, device='cuda:0', grad_fn=<NegBackward0>), tensor(0., device='cuda:0', grad_fn=<AddBackward0>)]\n",
      "tensor(-80.6641, device='cuda:0', grad_fn=<NegBackward0>) [tensor(-40.3320, device='cuda:0', grad_fn=<NegBackward0>), tensor(-40.3320, device='cuda:0', grad_fn=<NegBackward0>), tensor(-3.0518e-05, device='cuda:0', grad_fn=<AddBackward0>)]\n",
      "tensor(-80.8538, device='cuda:0', grad_fn=<NegBackward0>) [tensor(-40.4269, device='cuda:0', grad_fn=<NegBackward0>), tensor(-40.4269, device='cuda:0', grad_fn=<NegBackward0>), tensor(0., device='cuda:0', grad_fn=<AddBackward0>)]\n",
      "tensor(-81.8995, device='cuda:0', grad_fn=<NegBackward0>) [tensor(-40.9497, device='cuda:0', grad_fn=<NegBackward0>), tensor(-40.9497, device='cuda:0', grad_fn=<NegBackward0>), tensor(0., device='cuda:0', grad_fn=<AddBackward0>)]\n",
      "tensor(-82.4555, device='cuda:0', grad_fn=<NegBackward0>) [tensor(-41.2278, device='cuda:0', grad_fn=<NegBackward0>), tensor(-41.2278, device='cuda:0', grad_fn=<NegBackward0>), tensor(3.0518e-05, device='cuda:0', grad_fn=<AddBackward0>)]\n"
     ]
    },
    {
     "name": "stdout",
     "output_type": "stream",
     "text": [
      "tensor(-82.6783, device='cuda:0', grad_fn=<NegBackward0>) [tensor(-41.3392, device='cuda:0', grad_fn=<NegBackward0>), tensor(-41.3392, device='cuda:0', grad_fn=<NegBackward0>), tensor(0., device='cuda:0', grad_fn=<AddBackward0>)]\n",
      "tensor(-82.8309, device='cuda:0', grad_fn=<NegBackward0>) [tensor(-41.4155, device='cuda:0', grad_fn=<NegBackward0>), tensor(-41.4155, device='cuda:0', grad_fn=<NegBackward0>), tensor(0., device='cuda:0', grad_fn=<AddBackward0>)]\n",
      "tensor(-83.3891, device='cuda:0', grad_fn=<NegBackward0>) [tensor(-41.6946, device='cuda:0', grad_fn=<NegBackward0>), tensor(-41.6946, device='cuda:0', grad_fn=<NegBackward0>), tensor(0., device='cuda:0', grad_fn=<AddBackward0>)]\n",
      "tensor(-83.7236, device='cuda:0', grad_fn=<NegBackward0>) [tensor(-41.8618, device='cuda:0', grad_fn=<NegBackward0>), tensor(-41.8618, device='cuda:0', grad_fn=<NegBackward0>), tensor(0., device='cuda:0', grad_fn=<AddBackward0>)]\n",
      "tensor(-83.6675, device='cuda:0', grad_fn=<NegBackward0>) [tensor(-41.8338, device='cuda:0', grad_fn=<NegBackward0>), tensor(-41.8338, device='cuda:0', grad_fn=<NegBackward0>), tensor(0., device='cuda:0', grad_fn=<AddBackward0>)]\n",
      "tensor(-83.8901, device='cuda:0', grad_fn=<NegBackward0>) [tensor(-41.9450, device='cuda:0', grad_fn=<NegBackward0>), tensor(-41.9450, device='cuda:0', grad_fn=<NegBackward0>), tensor(0., device='cuda:0', grad_fn=<AddBackward0>)]\n",
      "tensor(-83.5692, device='cuda:0', grad_fn=<NegBackward0>) [tensor(-41.7846, device='cuda:0', grad_fn=<NegBackward0>), tensor(-41.7846, device='cuda:0', grad_fn=<NegBackward0>), tensor(0., device='cuda:0', grad_fn=<AddBackward0>)]\n",
      "tensor(-82.9077, device='cuda:0', grad_fn=<NegBackward0>) [tensor(-41.4539, device='cuda:0', grad_fn=<NegBackward0>), tensor(-41.4539, device='cuda:0', grad_fn=<NegBackward0>), tensor(0., device='cuda:0', grad_fn=<AddBackward0>)]\n",
      "tensor(-82.6057, device='cuda:0', grad_fn=<NegBackward0>) [tensor(-41.3028, device='cuda:0', grad_fn=<NegBackward0>), tensor(-41.3028, device='cuda:0', grad_fn=<NegBackward0>), tensor(0., device='cuda:0', grad_fn=<AddBackward0>)]\n",
      "tensor(-82.7175, device='cuda:0', grad_fn=<NegBackward0>) [tensor(-41.3588, device='cuda:0', grad_fn=<NegBackward0>), tensor(-41.3588, device='cuda:0', grad_fn=<NegBackward0>), tensor(0., device='cuda:0', grad_fn=<AddBackward0>)]\n",
      "tensor(-83.2833, device='cuda:0', grad_fn=<NegBackward0>) [tensor(-41.6416, device='cuda:0', grad_fn=<NegBackward0>), tensor(-41.6416, device='cuda:0', grad_fn=<NegBackward0>), tensor(0., device='cuda:0', grad_fn=<AddBackward0>)]\n",
      "tensor(-82.6527, device='cuda:0', grad_fn=<NegBackward0>) [tensor(-41.3264, device='cuda:0', grad_fn=<NegBackward0>), tensor(-41.3264, device='cuda:0', grad_fn=<NegBackward0>), tensor(3.0518e-05, device='cuda:0', grad_fn=<AddBackward0>)]\n",
      "tensor(-81.7643, device='cuda:0', grad_fn=<NegBackward0>) [tensor(-40.8822, device='cuda:0', grad_fn=<NegBackward0>), tensor(-40.8822, device='cuda:0', grad_fn=<NegBackward0>), tensor(0., device='cuda:0', grad_fn=<AddBackward0>)]\n",
      "tensor(-82.7851, device='cuda:0', grad_fn=<NegBackward0>) [tensor(-41.3925, device='cuda:0', grad_fn=<NegBackward0>), tensor(-41.3925, device='cuda:0', grad_fn=<NegBackward0>), tensor(0., device='cuda:0', grad_fn=<AddBackward0>)]\n",
      "tensor(-83.6236, device='cuda:0', grad_fn=<NegBackward0>) [tensor(-41.8118, device='cuda:0', grad_fn=<NegBackward0>), tensor(-41.8118, device='cuda:0', grad_fn=<NegBackward0>), tensor(0., device='cuda:0', grad_fn=<AddBackward0>)]\n",
      "tensor(-84.5566, device='cuda:0', grad_fn=<NegBackward0>) [tensor(-42.2783, device='cuda:0', grad_fn=<NegBackward0>), tensor(-42.2783, device='cuda:0', grad_fn=<NegBackward0>), tensor(0., device='cuda:0', grad_fn=<AddBackward0>)]\n",
      "tensor(-85.4849, device='cuda:0', grad_fn=<NegBackward0>) [tensor(-42.7424, device='cuda:0', grad_fn=<NegBackward0>), tensor(-42.7424, device='cuda:0', grad_fn=<NegBackward0>), tensor(0., device='cuda:0', grad_fn=<AddBackward0>)]\n",
      "tensor(-85.6661, device='cuda:0', grad_fn=<NegBackward0>) [tensor(-42.8331, device='cuda:0', grad_fn=<NegBackward0>), tensor(-42.8331, device='cuda:0', grad_fn=<NegBackward0>), tensor(0., device='cuda:0', grad_fn=<AddBackward0>)]\n",
      "tensor(-85.7499, device='cuda:0', grad_fn=<NegBackward0>) [tensor(-42.8750, device='cuda:0', grad_fn=<NegBackward0>), tensor(-42.8750, device='cuda:0', grad_fn=<NegBackward0>), tensor(0., device='cuda:0', grad_fn=<AddBackward0>)]\n",
      "tensor(-85.8057, device='cuda:0', grad_fn=<NegBackward0>) [tensor(-42.9029, device='cuda:0', grad_fn=<NegBackward0>), tensor(-42.9029, device='cuda:0', grad_fn=<NegBackward0>), tensor(0., device='cuda:0', grad_fn=<AddBackward0>)]\n",
      "tensor(-86.0014, device='cuda:0', grad_fn=<NegBackward0>) [tensor(-43.0007, device='cuda:0', grad_fn=<NegBackward0>), tensor(-43.0007, device='cuda:0', grad_fn=<NegBackward0>), tensor(0., device='cuda:0', grad_fn=<AddBackward0>)]\n",
      "tensor(-86.2909, device='cuda:0', grad_fn=<NegBackward0>) [tensor(-43.1454, device='cuda:0', grad_fn=<NegBackward0>), tensor(-43.1454, device='cuda:0', grad_fn=<NegBackward0>), tensor(-1.5259e-05, device='cuda:0', grad_fn=<AddBackward0>)]\n",
      "tensor(-86.8768, device='cuda:0', grad_fn=<NegBackward0>) [tensor(-43.4384, device='cuda:0', grad_fn=<NegBackward0>), tensor(-43.4384, device='cuda:0', grad_fn=<NegBackward0>), tensor(1.5259e-05, device='cuda:0', grad_fn=<AddBackward0>)]\n",
      "tensor(-87.1401, device='cuda:0', grad_fn=<NegBackward0>) [tensor(-43.5700, device='cuda:0', grad_fn=<NegBackward0>), tensor(-43.5700, device='cuda:0', grad_fn=<NegBackward0>), tensor(0., device='cuda:0', grad_fn=<AddBackward0>)]\n",
      "tensor(-87.2665, device='cuda:0', grad_fn=<NegBackward0>) [tensor(-43.6333, device='cuda:0', grad_fn=<NegBackward0>), tensor(-43.6333, device='cuda:0', grad_fn=<NegBackward0>), tensor(-1.5259e-05, device='cuda:0', grad_fn=<AddBackward0>)]\n",
      "tensor(-87.3393, device='cuda:0', grad_fn=<NegBackward0>) [tensor(-43.6697, device='cuda:0', grad_fn=<NegBackward0>), tensor(-43.6697, device='cuda:0', grad_fn=<NegBackward0>), tensor(1.5259e-05, device='cuda:0', grad_fn=<AddBackward0>)]\n",
      "tensor(-87.3867, device='cuda:0', grad_fn=<NegBackward0>) [tensor(-43.6934, device='cuda:0', grad_fn=<NegBackward0>), tensor(-43.6934, device='cuda:0', grad_fn=<NegBackward0>), tensor(0., device='cuda:0', grad_fn=<AddBackward0>)]\n",
      "tensor(-87.4319, device='cuda:0', grad_fn=<NegBackward0>) [tensor(-43.7160, device='cuda:0', grad_fn=<NegBackward0>), tensor(-43.7160, device='cuda:0', grad_fn=<NegBackward0>), tensor(0., device='cuda:0', grad_fn=<AddBackward0>)]\n",
      "tensor(-87.4942, device='cuda:0', grad_fn=<NegBackward0>) [tensor(-43.7471, device='cuda:0', grad_fn=<NegBackward0>), tensor(-43.7471, device='cuda:0', grad_fn=<NegBackward0>), tensor(-1.5259e-05, device='cuda:0', grad_fn=<AddBackward0>)]\n",
      "tensor(-86.9829, device='cuda:0', grad_fn=<NegBackward0>) [tensor(-43.4914, device='cuda:0', grad_fn=<NegBackward0>), tensor(-43.4914, device='cuda:0', grad_fn=<NegBackward0>), tensor(0., device='cuda:0', grad_fn=<AddBackward0>)]\n",
      "tensor(-86.5043, device='cuda:0', grad_fn=<NegBackward0>) [tensor(-43.2521, device='cuda:0', grad_fn=<NegBackward0>), tensor(-43.2521, device='cuda:0', grad_fn=<NegBackward0>), tensor(0., device='cuda:0', grad_fn=<AddBackward0>)]\n",
      "tensor(-84.8538, device='cuda:0', grad_fn=<NegBackward0>) [tensor(-42.4269, device='cuda:0', grad_fn=<NegBackward0>), tensor(-42.4269, device='cuda:0', grad_fn=<NegBackward0>), tensor(0., device='cuda:0', grad_fn=<AddBackward0>)]\n",
      "tensor(-80.0679, device='cuda:0', grad_fn=<NegBackward0>) [tensor(-40.0339, device='cuda:0', grad_fn=<NegBackward0>), tensor(-40.0339, device='cuda:0', grad_fn=<NegBackward0>), tensor(3.0518e-05, device='cuda:0', grad_fn=<AddBackward0>)]\n",
      "tensor(-78.0564, device='cuda:0', grad_fn=<NegBackward0>) [tensor(-39.0282, device='cuda:0', grad_fn=<NegBackward0>), tensor(-39.0282, device='cuda:0', grad_fn=<NegBackward0>), tensor(-1.5259e-05, device='cuda:0', grad_fn=<AddBackward0>)]\n",
      "tensor(-81.9465, device='cuda:0', grad_fn=<NegBackward0>) [tensor(-40.9732, device='cuda:0', grad_fn=<NegBackward0>), tensor(-40.9732, device='cuda:0', grad_fn=<NegBackward0>), tensor(0., device='cuda:0', grad_fn=<AddBackward0>)]\n",
      "tensor(-82.2365, device='cuda:0', grad_fn=<NegBackward0>) [tensor(-41.1183, device='cuda:0', grad_fn=<NegBackward0>), tensor(-41.1183, device='cuda:0', grad_fn=<NegBackward0>), tensor(0., device='cuda:0', grad_fn=<AddBackward0>)]\n"
     ]
    },
    {
     "name": "stdout",
     "output_type": "stream",
     "text": [
      "tensor(-83.4387, device='cuda:0', grad_fn=<NegBackward0>) [tensor(-41.7193, device='cuda:0', grad_fn=<NegBackward0>), tensor(-41.7193, device='cuda:0', grad_fn=<NegBackward0>), tensor(1.5259e-05, device='cuda:0', grad_fn=<AddBackward0>)]\n",
      "tensor(-85.5202, device='cuda:0', grad_fn=<NegBackward0>) [tensor(-42.7601, device='cuda:0', grad_fn=<NegBackward0>), tensor(-42.7601, device='cuda:0', grad_fn=<NegBackward0>), tensor(1.5259e-05, device='cuda:0', grad_fn=<AddBackward0>)]\n",
      "tensor(-86.4156, device='cuda:0', grad_fn=<NegBackward0>) [tensor(-43.2078, device='cuda:0', grad_fn=<NegBackward0>), tensor(-43.2078, device='cuda:0', grad_fn=<NegBackward0>), tensor(0., device='cuda:0', grad_fn=<AddBackward0>)]\n",
      "tensor(-86.7405, device='cuda:0', grad_fn=<NegBackward0>) [tensor(-43.3702, device='cuda:0', grad_fn=<NegBackward0>), tensor(-43.3702, device='cuda:0', grad_fn=<NegBackward0>), tensor(0., device='cuda:0', grad_fn=<AddBackward0>)]\n",
      "tensor(-87.1164, device='cuda:0', grad_fn=<NegBackward0>) [tensor(-43.5582, device='cuda:0', grad_fn=<NegBackward0>), tensor(-43.5582, device='cuda:0', grad_fn=<NegBackward0>), tensor(0., device='cuda:0', grad_fn=<AddBackward0>)]\n",
      "tensor(-86.9578, device='cuda:0', grad_fn=<NegBackward0>) [tensor(-43.4789, device='cuda:0', grad_fn=<NegBackward0>), tensor(-43.4789, device='cuda:0', grad_fn=<NegBackward0>), tensor(0., device='cuda:0', grad_fn=<AddBackward0>)]\n",
      "tensor(-86.2349, device='cuda:0', grad_fn=<NegBackward0>) [tensor(-43.1174, device='cuda:0', grad_fn=<NegBackward0>), tensor(-43.1174, device='cuda:0', grad_fn=<NegBackward0>), tensor(1.5259e-05, device='cuda:0', grad_fn=<AddBackward0>)]\n",
      "tensor(-85.4357, device='cuda:0', grad_fn=<NegBackward0>) [tensor(-42.7179, device='cuda:0', grad_fn=<NegBackward0>), tensor(-42.7179, device='cuda:0', grad_fn=<NegBackward0>), tensor(0., device='cuda:0', grad_fn=<AddBackward0>)]\n",
      "tensor(-84.6942, device='cuda:0', grad_fn=<NegBackward0>) [tensor(-42.3471, device='cuda:0', grad_fn=<NegBackward0>), tensor(-42.3471, device='cuda:0', grad_fn=<NegBackward0>), tensor(0., device='cuda:0', grad_fn=<AddBackward0>)]\n",
      "tensor(-84.2997, device='cuda:0', grad_fn=<NegBackward0>) [tensor(-42.1499, device='cuda:0', grad_fn=<NegBackward0>), tensor(-42.1499, device='cuda:0', grad_fn=<NegBackward0>), tensor(0., device='cuda:0', grad_fn=<AddBackward0>)]\n",
      "tensor(-84.4906, device='cuda:0', grad_fn=<NegBackward0>) [tensor(-42.2453, device='cuda:0', grad_fn=<NegBackward0>), tensor(-42.2453, device='cuda:0', grad_fn=<NegBackward0>), tensor(0., device='cuda:0', grad_fn=<AddBackward0>)]\n",
      "tensor(-85.1304, device='cuda:0', grad_fn=<NegBackward0>) [tensor(-42.5652, device='cuda:0', grad_fn=<NegBackward0>), tensor(-42.5652, device='cuda:0', grad_fn=<NegBackward0>), tensor(0., device='cuda:0', grad_fn=<AddBackward0>)]\n",
      "tensor(-85.3358, device='cuda:0', grad_fn=<NegBackward0>) [tensor(-42.6679, device='cuda:0', grad_fn=<NegBackward0>), tensor(-42.6679, device='cuda:0', grad_fn=<NegBackward0>), tensor(0., device='cuda:0', grad_fn=<AddBackward0>)]\n",
      "tensor(-85.9361, device='cuda:0', grad_fn=<NegBackward0>) [tensor(-42.9680, device='cuda:0', grad_fn=<NegBackward0>), tensor(-42.9680, device='cuda:0', grad_fn=<NegBackward0>), tensor(0., device='cuda:0', grad_fn=<AddBackward0>)]\n",
      "tensor(-86.6716, device='cuda:0', grad_fn=<NegBackward0>) [tensor(-43.3358, device='cuda:0', grad_fn=<NegBackward0>), tensor(-43.3358, device='cuda:0', grad_fn=<NegBackward0>), tensor(0., device='cuda:0', grad_fn=<AddBackward0>)]\n",
      "tensor(-87.1491, device='cuda:0', grad_fn=<NegBackward0>) [tensor(-43.5745, device='cuda:0', grad_fn=<NegBackward0>), tensor(-43.5745, device='cuda:0', grad_fn=<NegBackward0>), tensor(0., device='cuda:0', grad_fn=<AddBackward0>)]\n",
      "tensor(-87.3790, device='cuda:0', grad_fn=<NegBackward0>) [tensor(-43.6895, device='cuda:0', grad_fn=<NegBackward0>), tensor(-43.6895, device='cuda:0', grad_fn=<NegBackward0>), tensor(1.5259e-05, device='cuda:0', grad_fn=<AddBackward0>)]\n",
      "tensor(-87.6506, device='cuda:0', grad_fn=<NegBackward0>) [tensor(-43.8253, device='cuda:0', grad_fn=<NegBackward0>), tensor(-43.8253, device='cuda:0', grad_fn=<NegBackward0>), tensor(0., device='cuda:0', grad_fn=<AddBackward0>)]\n",
      "tensor(-88.1035, device='cuda:0', grad_fn=<NegBackward0>) [tensor(-44.0517, device='cuda:0', grad_fn=<NegBackward0>), tensor(-44.0517, device='cuda:0', grad_fn=<NegBackward0>), tensor(-1.5259e-05, device='cuda:0', grad_fn=<AddBackward0>)]\n",
      "tensor(-88.3226, device='cuda:0', grad_fn=<NegBackward0>) [tensor(-44.1613, device='cuda:0', grad_fn=<NegBackward0>), tensor(-44.1613, device='cuda:0', grad_fn=<NegBackward0>), tensor(0., device='cuda:0', grad_fn=<AddBackward0>)]\n",
      "tensor(-88.4183, device='cuda:0', grad_fn=<NegBackward0>) [tensor(-44.2091, device='cuda:0', grad_fn=<NegBackward0>), tensor(-44.2091, device='cuda:0', grad_fn=<NegBackward0>), tensor(0., device='cuda:0', grad_fn=<AddBackward0>)]\n",
      "tensor(-88.4977, device='cuda:0', grad_fn=<NegBackward0>) [tensor(-44.2488, device='cuda:0', grad_fn=<NegBackward0>), tensor(-44.2488, device='cuda:0', grad_fn=<NegBackward0>), tensor(0., device='cuda:0', grad_fn=<AddBackward0>)]\n",
      "tensor(-88.6751, device='cuda:0', grad_fn=<NegBackward0>) [tensor(-44.3375, device='cuda:0', grad_fn=<NegBackward0>), tensor(-44.3375, device='cuda:0', grad_fn=<NegBackward0>), tensor(1.5259e-05, device='cuda:0', grad_fn=<AddBackward0>)]\n",
      "tensor(-88.5201, device='cuda:0', grad_fn=<NegBackward0>) [tensor(-44.2601, device='cuda:0', grad_fn=<NegBackward0>), tensor(-44.2601, device='cuda:0', grad_fn=<NegBackward0>), tensor(1.5259e-05, device='cuda:0', grad_fn=<AddBackward0>)]\n",
      "tensor(-88.2963, device='cuda:0', grad_fn=<NegBackward0>) [tensor(-44.1482, device='cuda:0', grad_fn=<NegBackward0>), tensor(-44.1482, device='cuda:0', grad_fn=<NegBackward0>), tensor(0., device='cuda:0', grad_fn=<AddBackward0>)]\n",
      "tensor(-88.0503, device='cuda:0', grad_fn=<NegBackward0>) [tensor(-44.0251, device='cuda:0', grad_fn=<NegBackward0>), tensor(-44.0251, device='cuda:0', grad_fn=<NegBackward0>), tensor(-3.0518e-05, device='cuda:0', grad_fn=<AddBackward0>)]\n",
      "tensor(-88.0114, device='cuda:0', grad_fn=<NegBackward0>) [tensor(-44.0057, device='cuda:0', grad_fn=<NegBackward0>), tensor(-44.0057, device='cuda:0', grad_fn=<NegBackward0>), tensor(0., device='cuda:0', grad_fn=<AddBackward0>)]\n",
      "tensor(-87.3539, device='cuda:0', grad_fn=<NegBackward0>) [tensor(-43.6769, device='cuda:0', grad_fn=<NegBackward0>), tensor(-43.6769, device='cuda:0', grad_fn=<NegBackward0>), tensor(0., device='cuda:0', grad_fn=<AddBackward0>)]\n",
      "tensor(-86.2031, device='cuda:0', grad_fn=<NegBackward0>) [tensor(-43.1015, device='cuda:0', grad_fn=<NegBackward0>), tensor(-43.1015, device='cuda:0', grad_fn=<NegBackward0>), tensor(0., device='cuda:0', grad_fn=<AddBackward0>)]\n",
      "tensor(-86.5390, device='cuda:0', grad_fn=<NegBackward0>) [tensor(-43.2695, device='cuda:0', grad_fn=<NegBackward0>), tensor(-43.2695, device='cuda:0', grad_fn=<NegBackward0>), tensor(1.5259e-05, device='cuda:0', grad_fn=<AddBackward0>)]\n",
      "tensor(-87.0329, device='cuda:0', grad_fn=<NegBackward0>) [tensor(-43.5164, device='cuda:0', grad_fn=<NegBackward0>), tensor(-43.5164, device='cuda:0', grad_fn=<NegBackward0>), tensor(0., device='cuda:0', grad_fn=<AddBackward0>)]\n",
      "tensor(-87.4283, device='cuda:0', grad_fn=<NegBackward0>) [tensor(-43.7142, device='cuda:0', grad_fn=<NegBackward0>), tensor(-43.7142, device='cuda:0', grad_fn=<NegBackward0>), tensor(0., device='cuda:0', grad_fn=<AddBackward0>)]\n",
      "tensor(-88.1875, device='cuda:0', grad_fn=<NegBackward0>) [tensor(-44.0938, device='cuda:0', grad_fn=<NegBackward0>), tensor(-44.0938, device='cuda:0', grad_fn=<NegBackward0>), tensor(0., device='cuda:0', grad_fn=<AddBackward0>)]\n",
      "tensor(-88.4496, device='cuda:0', grad_fn=<NegBackward0>) [tensor(-44.2248, device='cuda:0', grad_fn=<NegBackward0>), tensor(-44.2248, device='cuda:0', grad_fn=<NegBackward0>), tensor(1.5259e-05, device='cuda:0', grad_fn=<AddBackward0>)]\n",
      "tensor(-88.7544, device='cuda:0', grad_fn=<NegBackward0>) [tensor(-44.3772, device='cuda:0', grad_fn=<NegBackward0>), tensor(-44.3772, device='cuda:0', grad_fn=<NegBackward0>), tensor(-1.5259e-05, device='cuda:0', grad_fn=<AddBackward0>)]\n",
      "tensor(-88.8029, device='cuda:0', grad_fn=<NegBackward0>) [tensor(-44.4015, device='cuda:0', grad_fn=<NegBackward0>), tensor(-44.4015, device='cuda:0', grad_fn=<NegBackward0>), tensor(1.5259e-05, device='cuda:0', grad_fn=<AddBackward0>)]\n"
     ]
    },
    {
     "name": "stdout",
     "output_type": "stream",
     "text": [
      "tensor(-88.2778, device='cuda:0', grad_fn=<NegBackward0>) [tensor(-44.1389, device='cuda:0', grad_fn=<NegBackward0>), tensor(-44.1389, device='cuda:0', grad_fn=<NegBackward0>), tensor(-1.5259e-05, device='cuda:0', grad_fn=<AddBackward0>)]\n",
      "tensor(-88.5878, device='cuda:0', grad_fn=<NegBackward0>) [tensor(-44.2939, device='cuda:0', grad_fn=<NegBackward0>), tensor(-44.2939, device='cuda:0', grad_fn=<NegBackward0>), tensor(0., device='cuda:0', grad_fn=<AddBackward0>)]\n",
      "tensor(-89.0424, device='cuda:0', grad_fn=<NegBackward0>) [tensor(-44.5212, device='cuda:0', grad_fn=<NegBackward0>), tensor(-44.5212, device='cuda:0', grad_fn=<NegBackward0>), tensor(0., device='cuda:0', grad_fn=<AddBackward0>)]\n",
      "tensor(-89.2336, device='cuda:0', grad_fn=<NegBackward0>) [tensor(-44.6168, device='cuda:0', grad_fn=<NegBackward0>), tensor(-44.6168, device='cuda:0', grad_fn=<NegBackward0>), tensor(0., device='cuda:0', grad_fn=<AddBackward0>)]\n",
      "tensor(-89.6128, device='cuda:0', grad_fn=<NegBackward0>) [tensor(-44.8064, device='cuda:0', grad_fn=<NegBackward0>), tensor(-44.8064, device='cuda:0', grad_fn=<NegBackward0>), tensor(0., device='cuda:0', grad_fn=<AddBackward0>)]\n",
      "tensor(-89.9051, device='cuda:0', grad_fn=<NegBackward0>) [tensor(-44.9525, device='cuda:0', grad_fn=<NegBackward0>), tensor(-44.9525, device='cuda:0', grad_fn=<NegBackward0>), tensor(-1.5259e-05, device='cuda:0', grad_fn=<AddBackward0>)]\n",
      "tensor(-89.9591, device='cuda:0', grad_fn=<NegBackward0>) [tensor(-44.9795, device='cuda:0', grad_fn=<NegBackward0>), tensor(-44.9795, device='cuda:0', grad_fn=<NegBackward0>), tensor(1.5259e-05, device='cuda:0', grad_fn=<AddBackward0>)]\n",
      "tensor(-90.1485, device='cuda:0', grad_fn=<NegBackward0>) [tensor(-45.0743, device='cuda:0', grad_fn=<NegBackward0>), tensor(-45.0743, device='cuda:0', grad_fn=<NegBackward0>), tensor(1.5259e-05, device='cuda:0', grad_fn=<AddBackward0>)]\n",
      "tensor(-90.4360, device='cuda:0', grad_fn=<NegBackward0>) [tensor(-45.2180, device='cuda:0', grad_fn=<NegBackward0>), tensor(-45.2180, device='cuda:0', grad_fn=<NegBackward0>), tensor(1.5259e-05, device='cuda:0', grad_fn=<AddBackward0>)]\n",
      "tensor(-90.7098, device='cuda:0', grad_fn=<NegBackward0>) [tensor(-45.3549, device='cuda:0', grad_fn=<NegBackward0>), tensor(-45.3549, device='cuda:0', grad_fn=<NegBackward0>), tensor(1.5259e-05, device='cuda:0', grad_fn=<AddBackward0>)]\n",
      "tensor(-90.7564, device='cuda:0', grad_fn=<NegBackward0>) [tensor(-45.3782, device='cuda:0', grad_fn=<NegBackward0>), tensor(-45.3782, device='cuda:0', grad_fn=<NegBackward0>), tensor(-1.5259e-05, device='cuda:0', grad_fn=<AddBackward0>)]\n",
      "tensor(-90.5466, device='cuda:0', grad_fn=<NegBackward0>) [tensor(-45.2733, device='cuda:0', grad_fn=<NegBackward0>), tensor(-45.2733, device='cuda:0', grad_fn=<NegBackward0>), tensor(0., device='cuda:0', grad_fn=<AddBackward0>)]\n",
      "tensor(-90.5869, device='cuda:0', grad_fn=<NegBackward0>) [tensor(-45.2935, device='cuda:0', grad_fn=<NegBackward0>), tensor(-45.2935, device='cuda:0', grad_fn=<NegBackward0>), tensor(3.0518e-05, device='cuda:0', grad_fn=<AddBackward0>)]\n",
      "tensor(-90.8985, device='cuda:0', grad_fn=<NegBackward0>) [tensor(-45.4493, device='cuda:0', grad_fn=<NegBackward0>), tensor(-45.4493, device='cuda:0', grad_fn=<NegBackward0>), tensor(1.5259e-05, device='cuda:0', grad_fn=<AddBackward0>)]\n",
      "tensor(-91.2368, device='cuda:0', grad_fn=<NegBackward0>) [tensor(-45.6184, device='cuda:0', grad_fn=<NegBackward0>), tensor(-45.6184, device='cuda:0', grad_fn=<NegBackward0>), tensor(0., device='cuda:0', grad_fn=<AddBackward0>)]\n",
      "tensor(-91.4330, device='cuda:0', grad_fn=<NegBackward0>) [tensor(-45.7165, device='cuda:0', grad_fn=<NegBackward0>), tensor(-45.7165, device='cuda:0', grad_fn=<NegBackward0>), tensor(-4.5776e-05, device='cuda:0', grad_fn=<AddBackward0>)]\n",
      "tensor(-91.5398, device='cuda:0', grad_fn=<NegBackward0>) [tensor(-45.7699, device='cuda:0', grad_fn=<NegBackward0>), tensor(-45.7699, device='cuda:0', grad_fn=<NegBackward0>), tensor(0., device='cuda:0', grad_fn=<AddBackward0>)]\n",
      "tensor(-91.7504, device='cuda:0', grad_fn=<NegBackward0>) [tensor(-45.8752, device='cuda:0', grad_fn=<NegBackward0>), tensor(-45.8752, device='cuda:0', grad_fn=<NegBackward0>), tensor(3.0518e-05, device='cuda:0', grad_fn=<AddBackward0>)]\n",
      "tensor(-91.8424, device='cuda:0', grad_fn=<NegBackward0>) [tensor(-45.9212, device='cuda:0', grad_fn=<NegBackward0>), tensor(-45.9212, device='cuda:0', grad_fn=<NegBackward0>), tensor(0., device='cuda:0', grad_fn=<AddBackward0>)]\n",
      "tensor(-91.8741, device='cuda:0', grad_fn=<NegBackward0>) [tensor(-45.9371, device='cuda:0', grad_fn=<NegBackward0>), tensor(-45.9371, device='cuda:0', grad_fn=<NegBackward0>), tensor(0., device='cuda:0', grad_fn=<AddBackward0>)]\n",
      "tensor(-91.7056, device='cuda:0', grad_fn=<NegBackward0>) [tensor(-45.8528, device='cuda:0', grad_fn=<NegBackward0>), tensor(-45.8528, device='cuda:0', grad_fn=<NegBackward0>), tensor(-1.5259e-05, device='cuda:0', grad_fn=<AddBackward0>)]\n",
      "tensor(-91.2413, device='cuda:0', grad_fn=<NegBackward0>) [tensor(-45.6207, device='cuda:0', grad_fn=<NegBackward0>), tensor(-45.6207, device='cuda:0', grad_fn=<NegBackward0>), tensor(0., device='cuda:0', grad_fn=<AddBackward0>)]\n",
      "tensor(-91.4091, device='cuda:0', grad_fn=<NegBackward0>) [tensor(-45.7045, device='cuda:0', grad_fn=<NegBackward0>), tensor(-45.7045, device='cuda:0', grad_fn=<NegBackward0>), tensor(0., device='cuda:0', grad_fn=<AddBackward0>)]\n",
      "tensor(-91.2390, device='cuda:0', grad_fn=<NegBackward0>) [tensor(-45.6195, device='cuda:0', grad_fn=<NegBackward0>), tensor(-45.6195, device='cuda:0', grad_fn=<NegBackward0>), tensor(-1.5259e-05, device='cuda:0', grad_fn=<AddBackward0>)]\n",
      "tensor(-91.3965, device='cuda:0', grad_fn=<NegBackward0>) [tensor(-45.6982, device='cuda:0', grad_fn=<NegBackward0>), tensor(-45.6982, device='cuda:0', grad_fn=<NegBackward0>), tensor(-1.5259e-05, device='cuda:0', grad_fn=<AddBackward0>)]\n",
      "tensor(-91.5569, device='cuda:0', grad_fn=<NegBackward0>) [tensor(-45.7785, device='cuda:0', grad_fn=<NegBackward0>), tensor(-45.7785, device='cuda:0', grad_fn=<NegBackward0>), tensor(0., device='cuda:0', grad_fn=<AddBackward0>)]\n",
      "tensor(-91.9843, device='cuda:0', grad_fn=<NegBackward0>) [tensor(-45.9922, device='cuda:0', grad_fn=<NegBackward0>), tensor(-45.9922, device='cuda:0', grad_fn=<NegBackward0>), tensor(0., device='cuda:0', grad_fn=<AddBackward0>)]\n",
      "tensor(-92.1103, device='cuda:0', grad_fn=<NegBackward0>) [tensor(-46.0552, device='cuda:0', grad_fn=<NegBackward0>), tensor(-46.0552, device='cuda:0', grad_fn=<NegBackward0>), tensor(1.5259e-05, device='cuda:0', grad_fn=<AddBackward0>)]\n",
      "tensor(-92.0951, device='cuda:0', grad_fn=<NegBackward0>) [tensor(-46.0475, device='cuda:0', grad_fn=<NegBackward0>), tensor(-46.0475, device='cuda:0', grad_fn=<NegBackward0>), tensor(1.5259e-05, device='cuda:0', grad_fn=<AddBackward0>)]\n",
      "tensor(-91.5830, device='cuda:0', grad_fn=<NegBackward0>) [tensor(-45.7915, device='cuda:0', grad_fn=<NegBackward0>), tensor(-45.7915, device='cuda:0', grad_fn=<NegBackward0>), tensor(0., device='cuda:0', grad_fn=<AddBackward0>)]\n",
      "tensor(-90.7628, device='cuda:0', grad_fn=<NegBackward0>) [tensor(-45.3814, device='cuda:0', grad_fn=<NegBackward0>), tensor(-45.3814, device='cuda:0', grad_fn=<NegBackward0>), tensor(-1.5259e-05, device='cuda:0', grad_fn=<AddBackward0>)]\n",
      "tensor(-89.9274, device='cuda:0', grad_fn=<NegBackward0>) [tensor(-44.9637, device='cuda:0', grad_fn=<NegBackward0>), tensor(-44.9637, device='cuda:0', grad_fn=<NegBackward0>), tensor(1.5259e-05, device='cuda:0', grad_fn=<AddBackward0>)]\n",
      "tensor(-87.6989, device='cuda:0', grad_fn=<NegBackward0>) [tensor(-43.8494, device='cuda:0', grad_fn=<NegBackward0>), tensor(-43.8494, device='cuda:0', grad_fn=<NegBackward0>), tensor(0., device='cuda:0', grad_fn=<AddBackward0>)]\n",
      "tensor(-82.1334, device='cuda:0', grad_fn=<NegBackward0>) [tensor(-41.0667, device='cuda:0', grad_fn=<NegBackward0>), tensor(-41.0667, device='cuda:0', grad_fn=<NegBackward0>), tensor(1.5259e-05, device='cuda:0', grad_fn=<AddBackward0>)]\n",
      "tensor(-83.1206, device='cuda:0', grad_fn=<NegBackward0>) [tensor(-41.5603, device='cuda:0', grad_fn=<NegBackward0>), tensor(-41.5603, device='cuda:0', grad_fn=<NegBackward0>), tensor(0., device='cuda:0', grad_fn=<AddBackward0>)]\n",
      "tensor(-85.8164, device='cuda:0', grad_fn=<NegBackward0>) [tensor(-42.9082, device='cuda:0', grad_fn=<NegBackward0>), tensor(-42.9082, device='cuda:0', grad_fn=<NegBackward0>), tensor(0., device='cuda:0', grad_fn=<AddBackward0>)]\n"
     ]
    },
    {
     "name": "stdout",
     "output_type": "stream",
     "text": [
      "tensor(-86.3600, device='cuda:0', grad_fn=<NegBackward0>) [tensor(-43.1800, device='cuda:0', grad_fn=<NegBackward0>), tensor(-43.1800, device='cuda:0', grad_fn=<NegBackward0>), tensor(0., device='cuda:0', grad_fn=<AddBackward0>)]\n",
      "tensor(-86.8365, device='cuda:0', grad_fn=<NegBackward0>) [tensor(-43.4182, device='cuda:0', grad_fn=<NegBackward0>), tensor(-43.4182, device='cuda:0', grad_fn=<NegBackward0>), tensor(0., device='cuda:0', grad_fn=<AddBackward0>)]\n",
      "tensor(-86.8691, device='cuda:0', grad_fn=<NegBackward0>) [tensor(-43.4345, device='cuda:0', grad_fn=<NegBackward0>), tensor(-43.4345, device='cuda:0', grad_fn=<NegBackward0>), tensor(0., device='cuda:0', grad_fn=<AddBackward0>)]\n",
      "tensor(-88.2446, device='cuda:0', grad_fn=<NegBackward0>) [tensor(-44.1223, device='cuda:0', grad_fn=<NegBackward0>), tensor(-44.1223, device='cuda:0', grad_fn=<NegBackward0>), tensor(0., device='cuda:0', grad_fn=<AddBackward0>)]\n",
      "tensor(-89.1266, device='cuda:0', grad_fn=<NegBackward0>) [tensor(-44.5633, device='cuda:0', grad_fn=<NegBackward0>), tensor(-44.5633, device='cuda:0', grad_fn=<NegBackward0>), tensor(1.5259e-05, device='cuda:0', grad_fn=<AddBackward0>)]\n",
      "tensor(-90.2269, device='cuda:0', grad_fn=<NegBackward0>) [tensor(-45.1134, device='cuda:0', grad_fn=<NegBackward0>), tensor(-45.1134, device='cuda:0', grad_fn=<NegBackward0>), tensor(1.5259e-05, device='cuda:0', grad_fn=<AddBackward0>)]\n",
      "tensor(-90.9665, device='cuda:0', grad_fn=<NegBackward0>) [tensor(-45.4832, device='cuda:0', grad_fn=<NegBackward0>), tensor(-45.4832, device='cuda:0', grad_fn=<NegBackward0>), tensor(0., device='cuda:0', grad_fn=<AddBackward0>)]\n",
      "tensor(-91.4419, device='cuda:0', grad_fn=<NegBackward0>) [tensor(-45.7210, device='cuda:0', grad_fn=<NegBackward0>), tensor(-45.7210, device='cuda:0', grad_fn=<NegBackward0>), tensor(0., device='cuda:0', grad_fn=<AddBackward0>)]\n",
      "tensor(-92.0450, device='cuda:0', grad_fn=<NegBackward0>) [tensor(-46.0225, device='cuda:0', grad_fn=<NegBackward0>), tensor(-46.0225, device='cuda:0', grad_fn=<NegBackward0>), tensor(3.0518e-05, device='cuda:0', grad_fn=<AddBackward0>)]\n",
      "tensor(-92.5803, device='cuda:0', grad_fn=<NegBackward0>) [tensor(-46.2902, device='cuda:0', grad_fn=<NegBackward0>), tensor(-46.2902, device='cuda:0', grad_fn=<NegBackward0>), tensor(0., device='cuda:0', grad_fn=<AddBackward0>)]\n",
      "tensor(-93.0337, device='cuda:0', grad_fn=<NegBackward0>) [tensor(-46.5169, device='cuda:0', grad_fn=<NegBackward0>), tensor(-46.5169, device='cuda:0', grad_fn=<NegBackward0>), tensor(0., device='cuda:0', grad_fn=<AddBackward0>)]\n",
      "tensor(-93.2807, device='cuda:0', grad_fn=<NegBackward0>) [tensor(-46.6404, device='cuda:0', grad_fn=<NegBackward0>), tensor(-46.6404, device='cuda:0', grad_fn=<NegBackward0>), tensor(0., device='cuda:0', grad_fn=<AddBackward0>)]\n",
      "tensor(-93.4658, device='cuda:0', grad_fn=<NegBackward0>) [tensor(-46.7329, device='cuda:0', grad_fn=<NegBackward0>), tensor(-46.7329, device='cuda:0', grad_fn=<NegBackward0>), tensor(0., device='cuda:0', grad_fn=<AddBackward0>)]\n",
      "tensor(-93.4672, device='cuda:0', grad_fn=<NegBackward0>) [tensor(-46.7336, device='cuda:0', grad_fn=<NegBackward0>), tensor(-46.7336, device='cuda:0', grad_fn=<NegBackward0>), tensor(1.5259e-05, device='cuda:0', grad_fn=<AddBackward0>)]\n",
      "tensor(-93.2014, device='cuda:0', grad_fn=<NegBackward0>) [tensor(-46.6007, device='cuda:0', grad_fn=<NegBackward0>), tensor(-46.6007, device='cuda:0', grad_fn=<NegBackward0>), tensor(0., device='cuda:0', grad_fn=<AddBackward0>)]\n",
      "tensor(-93.0067, device='cuda:0', grad_fn=<NegBackward0>) [tensor(-46.5033, device='cuda:0', grad_fn=<NegBackward0>), tensor(-46.5033, device='cuda:0', grad_fn=<NegBackward0>), tensor(0., device='cuda:0', grad_fn=<AddBackward0>)]\n",
      "tensor(-92.9934, device='cuda:0', grad_fn=<NegBackward0>) [tensor(-46.4967, device='cuda:0', grad_fn=<NegBackward0>), tensor(-46.4967, device='cuda:0', grad_fn=<NegBackward0>), tensor(0., device='cuda:0', grad_fn=<AddBackward0>)]\n",
      "tensor(-93.3389, device='cuda:0', grad_fn=<NegBackward0>) [tensor(-46.6695, device='cuda:0', grad_fn=<NegBackward0>), tensor(-46.6695, device='cuda:0', grad_fn=<NegBackward0>), tensor(0., device='cuda:0', grad_fn=<AddBackward0>)]\n",
      "tensor(-93.5278, device='cuda:0', grad_fn=<NegBackward0>) [tensor(-46.7639, device='cuda:0', grad_fn=<NegBackward0>), tensor(-46.7639, device='cuda:0', grad_fn=<NegBackward0>), tensor(0., device='cuda:0', grad_fn=<AddBackward0>)]\n",
      "tensor(-93.2760, device='cuda:0', grad_fn=<NegBackward0>) [tensor(-46.6380, device='cuda:0', grad_fn=<NegBackward0>), tensor(-46.6380, device='cuda:0', grad_fn=<NegBackward0>), tensor(0., device='cuda:0', grad_fn=<AddBackward0>)]\n",
      "tensor(-93.0204, device='cuda:0', grad_fn=<NegBackward0>) [tensor(-46.5102, device='cuda:0', grad_fn=<NegBackward0>), tensor(-46.5102, device='cuda:0', grad_fn=<NegBackward0>), tensor(-1.5259e-05, device='cuda:0', grad_fn=<AddBackward0>)]\n",
      "tensor(-92.9257, device='cuda:0', grad_fn=<NegBackward0>) [tensor(-46.4628, device='cuda:0', grad_fn=<NegBackward0>), tensor(-46.4628, device='cuda:0', grad_fn=<NegBackward0>), tensor(0., device='cuda:0', grad_fn=<AddBackward0>)]\n",
      "tensor(-93.2961, device='cuda:0', grad_fn=<NegBackward0>) [tensor(-46.6480, device='cuda:0', grad_fn=<NegBackward0>), tensor(-46.6480, device='cuda:0', grad_fn=<NegBackward0>), tensor(-1.5259e-05, device='cuda:0', grad_fn=<AddBackward0>)]\n",
      "tensor(-93.4888, device='cuda:0', grad_fn=<NegBackward0>) [tensor(-46.7444, device='cuda:0', grad_fn=<NegBackward0>), tensor(-46.7444, device='cuda:0', grad_fn=<NegBackward0>), tensor(0., device='cuda:0', grad_fn=<AddBackward0>)]\n",
      "tensor(-93.7685, device='cuda:0', grad_fn=<NegBackward0>) [tensor(-46.8843, device='cuda:0', grad_fn=<NegBackward0>), tensor(-46.8843, device='cuda:0', grad_fn=<NegBackward0>), tensor(0., device='cuda:0', grad_fn=<AddBackward0>)]\n",
      "tensor(-93.6985, device='cuda:0', grad_fn=<NegBackward0>) [tensor(-46.8493, device='cuda:0', grad_fn=<NegBackward0>), tensor(-46.8493, device='cuda:0', grad_fn=<NegBackward0>), tensor(0., device='cuda:0', grad_fn=<AddBackward0>)]\n",
      "tensor(-93.4642, device='cuda:0', grad_fn=<NegBackward0>) [tensor(-46.7321, device='cuda:0', grad_fn=<NegBackward0>), tensor(-46.7321, device='cuda:0', grad_fn=<NegBackward0>), tensor(0., device='cuda:0', grad_fn=<AddBackward0>)]\n",
      "tensor(-93.0606, device='cuda:0', grad_fn=<NegBackward0>) [tensor(-46.5303, device='cuda:0', grad_fn=<NegBackward0>), tensor(-46.5303, device='cuda:0', grad_fn=<NegBackward0>), tensor(-1.5259e-05, device='cuda:0', grad_fn=<AddBackward0>)]\n",
      "tensor(-92.8626, device='cuda:0', grad_fn=<NegBackward0>) [tensor(-46.4313, device='cuda:0', grad_fn=<NegBackward0>), tensor(-46.4313, device='cuda:0', grad_fn=<NegBackward0>), tensor(0., device='cuda:0', grad_fn=<AddBackward0>)]\n",
      "tensor(-92.9099, device='cuda:0', grad_fn=<NegBackward0>) [tensor(-46.4549, device='cuda:0', grad_fn=<NegBackward0>), tensor(-46.4549, device='cuda:0', grad_fn=<NegBackward0>), tensor(0., device='cuda:0', grad_fn=<AddBackward0>)]\n",
      "tensor(-92.7020, device='cuda:0', grad_fn=<NegBackward0>) [tensor(-46.3510, device='cuda:0', grad_fn=<NegBackward0>), tensor(-46.3510, device='cuda:0', grad_fn=<NegBackward0>), tensor(0., device='cuda:0', grad_fn=<AddBackward0>)]\n",
      "tensor(-89.9795, device='cuda:0', grad_fn=<NegBackward0>) [tensor(-44.9897, device='cuda:0', grad_fn=<NegBackward0>), tensor(-44.9897, device='cuda:0', grad_fn=<NegBackward0>), tensor(-1.5259e-05, device='cuda:0', grad_fn=<AddBackward0>)]\n",
      "tensor(-83.3122, device='cuda:0', grad_fn=<NegBackward0>) [tensor(-41.6561, device='cuda:0', grad_fn=<NegBackward0>), tensor(-41.6561, device='cuda:0', grad_fn=<NegBackward0>), tensor(0., device='cuda:0', grad_fn=<AddBackward0>)]\n",
      "tensor(-84.5306, device='cuda:0', grad_fn=<NegBackward0>) [tensor(-42.2653, device='cuda:0', grad_fn=<NegBackward0>), tensor(-42.2653, device='cuda:0', grad_fn=<NegBackward0>), tensor(-1.5259e-05, device='cuda:0', grad_fn=<AddBackward0>)]\n",
      "tensor(-87.4437, device='cuda:0', grad_fn=<NegBackward0>) [tensor(-43.7219, device='cuda:0', grad_fn=<NegBackward0>), tensor(-43.7219, device='cuda:0', grad_fn=<NegBackward0>), tensor(0., device='cuda:0', grad_fn=<AddBackward0>)]\n",
      "tensor(-87.8334, device='cuda:0', grad_fn=<NegBackward0>) [tensor(-43.9167, device='cuda:0', grad_fn=<NegBackward0>), tensor(-43.9167, device='cuda:0', grad_fn=<NegBackward0>), tensor(0., device='cuda:0', grad_fn=<AddBackward0>)]\n"
     ]
    },
    {
     "name": "stdout",
     "output_type": "stream",
     "text": [
      "tensor(-88.7909, device='cuda:0', grad_fn=<NegBackward0>) [tensor(-44.3954, device='cuda:0', grad_fn=<NegBackward0>), tensor(-44.3954, device='cuda:0', grad_fn=<NegBackward0>), tensor(-1.5259e-05, device='cuda:0', grad_fn=<AddBackward0>)]\n",
      "tensor(-89.4250, device='cuda:0', grad_fn=<NegBackward0>) [tensor(-44.7125, device='cuda:0', grad_fn=<NegBackward0>), tensor(-44.7125, device='cuda:0', grad_fn=<NegBackward0>), tensor(1.5259e-05, device='cuda:0', grad_fn=<AddBackward0>)]\n",
      "tensor(-89.8875, device='cuda:0', grad_fn=<NegBackward0>) [tensor(-44.9437, device='cuda:0', grad_fn=<NegBackward0>), tensor(-44.9437, device='cuda:0', grad_fn=<NegBackward0>), tensor(-3.0518e-05, device='cuda:0', grad_fn=<AddBackward0>)]\n",
      "tensor(-90.8692, device='cuda:0', grad_fn=<NegBackward0>) [tensor(-45.4346, device='cuda:0', grad_fn=<NegBackward0>), tensor(-45.4346, device='cuda:0', grad_fn=<NegBackward0>), tensor(0., device='cuda:0', grad_fn=<AddBackward0>)]\n",
      "tensor(-91.3580, device='cuda:0', grad_fn=<NegBackward0>) [tensor(-45.6790, device='cuda:0', grad_fn=<NegBackward0>), tensor(-45.6790, device='cuda:0', grad_fn=<NegBackward0>), tensor(-1.5259e-05, device='cuda:0', grad_fn=<AddBackward0>)]\n",
      "tensor(-91.8602, device='cuda:0', grad_fn=<NegBackward0>) [tensor(-45.9301, device='cuda:0', grad_fn=<NegBackward0>), tensor(-45.9301, device='cuda:0', grad_fn=<NegBackward0>), tensor(0., device='cuda:0', grad_fn=<AddBackward0>)]\n",
      "tensor(-92.4274, device='cuda:0', grad_fn=<NegBackward0>) [tensor(-46.2137, device='cuda:0', grad_fn=<NegBackward0>), tensor(-46.2137, device='cuda:0', grad_fn=<NegBackward0>), tensor(0., device='cuda:0', grad_fn=<AddBackward0>)]\n",
      "tensor(-92.8545, device='cuda:0', grad_fn=<NegBackward0>) [tensor(-46.4273, device='cuda:0', grad_fn=<NegBackward0>), tensor(-46.4273, device='cuda:0', grad_fn=<NegBackward0>), tensor(1.5259e-05, device='cuda:0', grad_fn=<AddBackward0>)]\n",
      "tensor(-93.3917, device='cuda:0', grad_fn=<NegBackward0>) [tensor(-46.6958, device='cuda:0', grad_fn=<NegBackward0>), tensor(-46.6958, device='cuda:0', grad_fn=<NegBackward0>), tensor(0., device='cuda:0', grad_fn=<AddBackward0>)]\n",
      "tensor(-93.9730, device='cuda:0', grad_fn=<NegBackward0>) [tensor(-46.9865, device='cuda:0', grad_fn=<NegBackward0>), tensor(-46.9865, device='cuda:0', grad_fn=<NegBackward0>), tensor(-1.5259e-05, device='cuda:0', grad_fn=<AddBackward0>)]\n",
      "tensor(-94.2199, device='cuda:0', grad_fn=<NegBackward0>) [tensor(-47.1099, device='cuda:0', grad_fn=<NegBackward0>), tensor(-47.1099, device='cuda:0', grad_fn=<NegBackward0>), tensor(3.0518e-05, device='cuda:0', grad_fn=<AddBackward0>)]\n",
      "tensor(-94.2412, device='cuda:0', grad_fn=<NegBackward0>) [tensor(-47.1206, device='cuda:0', grad_fn=<NegBackward0>), tensor(-47.1206, device='cuda:0', grad_fn=<NegBackward0>), tensor(1.5259e-05, device='cuda:0', grad_fn=<AddBackward0>)]\n",
      "tensor(-94.2459, device='cuda:0', grad_fn=<NegBackward0>) [tensor(-47.1230, device='cuda:0', grad_fn=<NegBackward0>), tensor(-47.1230, device='cuda:0', grad_fn=<NegBackward0>), tensor(0., device='cuda:0', grad_fn=<AddBackward0>)]\n",
      "tensor(-94.3156, device='cuda:0', grad_fn=<NegBackward0>) [tensor(-47.1578, device='cuda:0', grad_fn=<NegBackward0>), tensor(-47.1578, device='cuda:0', grad_fn=<NegBackward0>), tensor(0., device='cuda:0', grad_fn=<AddBackward0>)]\n",
      "tensor(-94.2879, device='cuda:0', grad_fn=<NegBackward0>) [tensor(-47.1439, device='cuda:0', grad_fn=<NegBackward0>), tensor(-47.1439, device='cuda:0', grad_fn=<NegBackward0>), tensor(0., device='cuda:0', grad_fn=<AddBackward0>)]\n",
      "tensor(-94.3162, device='cuda:0', grad_fn=<NegBackward0>) [tensor(-47.1581, device='cuda:0', grad_fn=<NegBackward0>), tensor(-47.1581, device='cuda:0', grad_fn=<NegBackward0>), tensor(1.5259e-05, device='cuda:0', grad_fn=<AddBackward0>)]\n",
      "tensor(-94.2792, device='cuda:0', grad_fn=<NegBackward0>) [tensor(-47.1396, device='cuda:0', grad_fn=<NegBackward0>), tensor(-47.1396, device='cuda:0', grad_fn=<NegBackward0>), tensor(-1.5259e-05, device='cuda:0', grad_fn=<AddBackward0>)]\n",
      "tensor(-94.1726, device='cuda:0', grad_fn=<NegBackward0>) [tensor(-47.0863, device='cuda:0', grad_fn=<NegBackward0>), tensor(-47.0863, device='cuda:0', grad_fn=<NegBackward0>), tensor(-1.5259e-05, device='cuda:0', grad_fn=<AddBackward0>)]\n",
      "tensor(-94.2966, device='cuda:0', grad_fn=<NegBackward0>) [tensor(-47.1483, device='cuda:0', grad_fn=<NegBackward0>), tensor(-47.1483, device='cuda:0', grad_fn=<NegBackward0>), tensor(0., device='cuda:0', grad_fn=<AddBackward0>)]\n",
      "tensor(-94.4856, device='cuda:0', grad_fn=<NegBackward0>) [tensor(-47.2428, device='cuda:0', grad_fn=<NegBackward0>), tensor(-47.2428, device='cuda:0', grad_fn=<NegBackward0>), tensor(0., device='cuda:0', grad_fn=<AddBackward0>)]\n",
      "tensor(-94.7709, device='cuda:0', grad_fn=<NegBackward0>) [tensor(-47.3855, device='cuda:0', grad_fn=<NegBackward0>), tensor(-47.3855, device='cuda:0', grad_fn=<NegBackward0>), tensor(0., device='cuda:0', grad_fn=<AddBackward0>)]\n",
      "tensor(-94.8929, device='cuda:0', grad_fn=<NegBackward0>) [tensor(-47.4465, device='cuda:0', grad_fn=<NegBackward0>), tensor(-47.4465, device='cuda:0', grad_fn=<NegBackward0>), tensor(0., device='cuda:0', grad_fn=<AddBackward0>)]\n",
      "tensor(-94.8940, device='cuda:0', grad_fn=<NegBackward0>) [tensor(-47.4470, device='cuda:0', grad_fn=<NegBackward0>), tensor(-47.4470, device='cuda:0', grad_fn=<NegBackward0>), tensor(0., device='cuda:0', grad_fn=<AddBackward0>)]\n",
      "tensor(-94.6947, device='cuda:0', grad_fn=<NegBackward0>) [tensor(-47.3474, device='cuda:0', grad_fn=<NegBackward0>), tensor(-47.3474, device='cuda:0', grad_fn=<NegBackward0>), tensor(0., device='cuda:0', grad_fn=<AddBackward0>)]\n",
      "tensor(-94.1154, device='cuda:0', grad_fn=<NegBackward0>) [tensor(-47.0577, device='cuda:0', grad_fn=<NegBackward0>), tensor(-47.0577, device='cuda:0', grad_fn=<NegBackward0>), tensor(0., device='cuda:0', grad_fn=<AddBackward0>)]\n",
      "tensor(-93.3895, device='cuda:0', grad_fn=<NegBackward0>) [tensor(-46.6947, device='cuda:0', grad_fn=<NegBackward0>), tensor(-46.6947, device='cuda:0', grad_fn=<NegBackward0>), tensor(-1.5259e-05, device='cuda:0', grad_fn=<AddBackward0>)]\n",
      "tensor(-92.5921, device='cuda:0', grad_fn=<NegBackward0>) [tensor(-46.2960, device='cuda:0', grad_fn=<NegBackward0>), tensor(-46.2960, device='cuda:0', grad_fn=<NegBackward0>), tensor(-1.5259e-05, device='cuda:0', grad_fn=<AddBackward0>)]\n",
      "tensor(-90.2028, device='cuda:0', grad_fn=<NegBackward0>) [tensor(-45.1014, device='cuda:0', grad_fn=<NegBackward0>), tensor(-45.1014, device='cuda:0', grad_fn=<NegBackward0>), tensor(0., device='cuda:0', grad_fn=<AddBackward0>)]\n",
      "tensor(-86.6811, device='cuda:0', grad_fn=<NegBackward0>) [tensor(-43.3405, device='cuda:0', grad_fn=<NegBackward0>), tensor(-43.3405, device='cuda:0', grad_fn=<NegBackward0>), tensor(0., device='cuda:0', grad_fn=<AddBackward0>)]\n",
      "tensor(-87.4858, device='cuda:0', grad_fn=<NegBackward0>) [tensor(-43.7429, device='cuda:0', grad_fn=<NegBackward0>), tensor(-43.7429, device='cuda:0', grad_fn=<NegBackward0>), tensor(-3.0518e-05, device='cuda:0', grad_fn=<AddBackward0>)]\n",
      "tensor(-87.7859, device='cuda:0', grad_fn=<NegBackward0>) [tensor(-43.8930, device='cuda:0', grad_fn=<NegBackward0>), tensor(-43.8930, device='cuda:0', grad_fn=<NegBackward0>), tensor(-3.0518e-05, device='cuda:0', grad_fn=<AddBackward0>)]\n",
      "tensor(-88.7845, device='cuda:0', grad_fn=<NegBackward0>) [tensor(-44.3922, device='cuda:0', grad_fn=<NegBackward0>), tensor(-44.3922, device='cuda:0', grad_fn=<NegBackward0>), tensor(-1.5259e-05, device='cuda:0', grad_fn=<AddBackward0>)]\n",
      "tensor(-89.8065, device='cuda:0', grad_fn=<NegBackward0>) [tensor(-44.9033, device='cuda:0', grad_fn=<NegBackward0>), tensor(-44.9033, device='cuda:0', grad_fn=<NegBackward0>), tensor(0., device='cuda:0', grad_fn=<AddBackward0>)]\n",
      "tensor(-90.3904, device='cuda:0', grad_fn=<NegBackward0>) [tensor(-45.1952, device='cuda:0', grad_fn=<NegBackward0>), tensor(-45.1952, device='cuda:0', grad_fn=<NegBackward0>), tensor(-3.0518e-05, device='cuda:0', grad_fn=<AddBackward0>)]\n",
      "tensor(-91.5056, device='cuda:0', grad_fn=<NegBackward0>) [tensor(-45.7528, device='cuda:0', grad_fn=<NegBackward0>), tensor(-45.7528, device='cuda:0', grad_fn=<NegBackward0>), tensor(0., device='cuda:0', grad_fn=<AddBackward0>)]\n",
      "tensor(-92.3997, device='cuda:0', grad_fn=<NegBackward0>) [tensor(-46.1998, device='cuda:0', grad_fn=<NegBackward0>), tensor(-46.1998, device='cuda:0', grad_fn=<NegBackward0>), tensor(0., device='cuda:0', grad_fn=<AddBackward0>)]\n"
     ]
    },
    {
     "name": "stdout",
     "output_type": "stream",
     "text": [
      "tensor(-92.9603, device='cuda:0', grad_fn=<NegBackward0>) [tensor(-46.4802, device='cuda:0', grad_fn=<NegBackward0>), tensor(-46.4802, device='cuda:0', grad_fn=<NegBackward0>), tensor(0., device='cuda:0', grad_fn=<AddBackward0>)]\n",
      "tensor(-93.7486, device='cuda:0', grad_fn=<NegBackward0>) [tensor(-46.8743, device='cuda:0', grad_fn=<NegBackward0>), tensor(-46.8743, device='cuda:0', grad_fn=<NegBackward0>), tensor(0., device='cuda:0', grad_fn=<AddBackward0>)]\n",
      "tensor(-94.4437, device='cuda:0', grad_fn=<NegBackward0>) [tensor(-47.2219, device='cuda:0', grad_fn=<NegBackward0>), tensor(-47.2219, device='cuda:0', grad_fn=<NegBackward0>), tensor(0., device='cuda:0', grad_fn=<AddBackward0>)]\n",
      "tensor(-94.8971, device='cuda:0', grad_fn=<NegBackward0>) [tensor(-47.4485, device='cuda:0', grad_fn=<NegBackward0>), tensor(-47.4485, device='cuda:0', grad_fn=<NegBackward0>), tensor(1.5259e-05, device='cuda:0', grad_fn=<AddBackward0>)]\n",
      "tensor(-95.2330, device='cuda:0', grad_fn=<NegBackward0>) [tensor(-47.6165, device='cuda:0', grad_fn=<NegBackward0>), tensor(-47.6165, device='cuda:0', grad_fn=<NegBackward0>), tensor(-1.5259e-05, device='cuda:0', grad_fn=<AddBackward0>)]\n",
      "tensor(-95.5172, device='cuda:0', grad_fn=<NegBackward0>) [tensor(-47.7586, device='cuda:0', grad_fn=<NegBackward0>), tensor(-47.7586, device='cuda:0', grad_fn=<NegBackward0>), tensor(0., device='cuda:0', grad_fn=<AddBackward0>)]\n",
      "tensor(-95.6059, device='cuda:0', grad_fn=<NegBackward0>) [tensor(-47.8030, device='cuda:0', grad_fn=<NegBackward0>), tensor(-47.8030, device='cuda:0', grad_fn=<NegBackward0>), tensor(-1.5259e-05, device='cuda:0', grad_fn=<AddBackward0>)]\n",
      "tensor(-95.6002, device='cuda:0', grad_fn=<NegBackward0>) [tensor(-47.8001, device='cuda:0', grad_fn=<NegBackward0>), tensor(-47.8001, device='cuda:0', grad_fn=<NegBackward0>), tensor(-1.5259e-05, device='cuda:0', grad_fn=<AddBackward0>)]\n",
      "tensor(-95.3378, device='cuda:0', grad_fn=<NegBackward0>) [tensor(-47.6689, device='cuda:0', grad_fn=<NegBackward0>), tensor(-47.6689, device='cuda:0', grad_fn=<NegBackward0>), tensor(0., device='cuda:0', grad_fn=<AddBackward0>)]\n",
      "tensor(-95.1249, device='cuda:0', grad_fn=<NegBackward0>) [tensor(-47.5624, device='cuda:0', grad_fn=<NegBackward0>), tensor(-47.5624, device='cuda:0', grad_fn=<NegBackward0>), tensor(0., device='cuda:0', grad_fn=<AddBackward0>)]\n",
      "tensor(-95.0730, device='cuda:0', grad_fn=<NegBackward0>) [tensor(-47.5365, device='cuda:0', grad_fn=<NegBackward0>), tensor(-47.5365, device='cuda:0', grad_fn=<NegBackward0>), tensor(0., device='cuda:0', grad_fn=<AddBackward0>)]\n",
      "tensor(-95.4425, device='cuda:0', grad_fn=<NegBackward0>) [tensor(-47.7213, device='cuda:0', grad_fn=<NegBackward0>), tensor(-47.7213, device='cuda:0', grad_fn=<NegBackward0>), tensor(0., device='cuda:0', grad_fn=<AddBackward0>)]\n",
      "tensor(-95.5407, device='cuda:0', grad_fn=<NegBackward0>) [tensor(-47.7704, device='cuda:0', grad_fn=<NegBackward0>), tensor(-47.7704, device='cuda:0', grad_fn=<NegBackward0>), tensor(0., device='cuda:0', grad_fn=<AddBackward0>)]\n",
      "tensor(-95.6230, device='cuda:0', grad_fn=<NegBackward0>) [tensor(-47.8115, device='cuda:0', grad_fn=<NegBackward0>), tensor(-47.8115, device='cuda:0', grad_fn=<NegBackward0>), tensor(-1.5259e-05, device='cuda:0', grad_fn=<AddBackward0>)]\n",
      "tensor(-95.4842, device='cuda:0', grad_fn=<NegBackward0>) [tensor(-47.7421, device='cuda:0', grad_fn=<NegBackward0>), tensor(-47.7421, device='cuda:0', grad_fn=<NegBackward0>), tensor(1.5259e-05, device='cuda:0', grad_fn=<AddBackward0>)]\n",
      "tensor(-95.1768, device='cuda:0', grad_fn=<NegBackward0>) [tensor(-47.5884, device='cuda:0', grad_fn=<NegBackward0>), tensor(-47.5884, device='cuda:0', grad_fn=<NegBackward0>), tensor(-1.5259e-05, device='cuda:0', grad_fn=<AddBackward0>)]\n",
      "tensor(-95.1211, device='cuda:0', grad_fn=<NegBackward0>) [tensor(-47.5606, device='cuda:0', grad_fn=<NegBackward0>), tensor(-47.5606, device='cuda:0', grad_fn=<NegBackward0>), tensor(0., device='cuda:0', grad_fn=<AddBackward0>)]\n",
      "tensor(-95.3221, device='cuda:0', grad_fn=<NegBackward0>) [tensor(-47.6611, device='cuda:0', grad_fn=<NegBackward0>), tensor(-47.6611, device='cuda:0', grad_fn=<NegBackward0>), tensor(0., device='cuda:0', grad_fn=<AddBackward0>)]\n",
      "tensor(-95.4104, device='cuda:0', grad_fn=<NegBackward0>) [tensor(-47.7052, device='cuda:0', grad_fn=<NegBackward0>), tensor(-47.7052, device='cuda:0', grad_fn=<NegBackward0>), tensor(-1.5259e-05, device='cuda:0', grad_fn=<AddBackward0>)]\n",
      "tensor(-95.4492, device='cuda:0', grad_fn=<NegBackward0>) [tensor(-47.7246, device='cuda:0', grad_fn=<NegBackward0>), tensor(-47.7246, device='cuda:0', grad_fn=<NegBackward0>), tensor(0., device='cuda:0', grad_fn=<AddBackward0>)]\n",
      "tensor(-95.6362, device='cuda:0', grad_fn=<NegBackward0>) [tensor(-47.8181, device='cuda:0', grad_fn=<NegBackward0>), tensor(-47.8181, device='cuda:0', grad_fn=<NegBackward0>), tensor(1.5259e-05, device='cuda:0', grad_fn=<AddBackward0>)]\n",
      "tensor(-95.5664, device='cuda:0', grad_fn=<NegBackward0>) [tensor(-47.7832, device='cuda:0', grad_fn=<NegBackward0>), tensor(-47.7832, device='cuda:0', grad_fn=<NegBackward0>), tensor(-1.5259e-05, device='cuda:0', grad_fn=<AddBackward0>)]\n",
      "tensor(-95.4395, device='cuda:0', grad_fn=<NegBackward0>) [tensor(-47.7197, device='cuda:0', grad_fn=<NegBackward0>), tensor(-47.7197, device='cuda:0', grad_fn=<NegBackward0>), tensor(0., device='cuda:0', grad_fn=<AddBackward0>)]\n",
      "tensor(-95.2721, device='cuda:0', grad_fn=<NegBackward0>) [tensor(-47.6361, device='cuda:0', grad_fn=<NegBackward0>), tensor(-47.6361, device='cuda:0', grad_fn=<NegBackward0>), tensor(1.5259e-05, device='cuda:0', grad_fn=<AddBackward0>)]\n",
      "tensor(-95.3384, device='cuda:0', grad_fn=<NegBackward0>) [tensor(-47.6692, device='cuda:0', grad_fn=<NegBackward0>), tensor(-47.6692, device='cuda:0', grad_fn=<NegBackward0>), tensor(0., device='cuda:0', grad_fn=<AddBackward0>)]\n",
      "tensor(-95.3295, device='cuda:0', grad_fn=<NegBackward0>) [tensor(-47.6647, device='cuda:0', grad_fn=<NegBackward0>), tensor(-47.6647, device='cuda:0', grad_fn=<NegBackward0>), tensor(0., device='cuda:0', grad_fn=<AddBackward0>)]\n",
      "tensor(-95.0603, device='cuda:0', grad_fn=<NegBackward0>) [tensor(-47.5302, device='cuda:0', grad_fn=<NegBackward0>), tensor(-47.5302, device='cuda:0', grad_fn=<NegBackward0>), tensor(0., device='cuda:0', grad_fn=<AddBackward0>)]\n",
      "tensor(-94.1942, device='cuda:0', grad_fn=<NegBackward0>) [tensor(-47.0971, device='cuda:0', grad_fn=<NegBackward0>), tensor(-47.0971, device='cuda:0', grad_fn=<NegBackward0>), tensor(-1.5259e-05, device='cuda:0', grad_fn=<AddBackward0>)]\n",
      "tensor(-91.3323, device='cuda:0', grad_fn=<NegBackward0>) [tensor(-45.6662, device='cuda:0', grad_fn=<NegBackward0>), tensor(-45.6662, device='cuda:0', grad_fn=<NegBackward0>), tensor(0., device='cuda:0', grad_fn=<AddBackward0>)]\n",
      "tensor(-87.9164, device='cuda:0', grad_fn=<NegBackward0>) [tensor(-43.9582, device='cuda:0', grad_fn=<NegBackward0>), tensor(-43.9582, device='cuda:0', grad_fn=<NegBackward0>), tensor(0., device='cuda:0', grad_fn=<AddBackward0>)]\n",
      "tensor(-88.3637, device='cuda:0', grad_fn=<NegBackward0>) [tensor(-44.1819, device='cuda:0', grad_fn=<NegBackward0>), tensor(-44.1819, device='cuda:0', grad_fn=<NegBackward0>), tensor(1.5259e-05, device='cuda:0', grad_fn=<AddBackward0>)]\n",
      "tensor(-88.8652, device='cuda:0', grad_fn=<NegBackward0>) [tensor(-44.4326, device='cuda:0', grad_fn=<NegBackward0>), tensor(-44.4326, device='cuda:0', grad_fn=<NegBackward0>), tensor(0., device='cuda:0', grad_fn=<AddBackward0>)]\n",
      "tensor(-90.7191, device='cuda:0', grad_fn=<NegBackward0>) [tensor(-45.3596, device='cuda:0', grad_fn=<NegBackward0>), tensor(-45.3596, device='cuda:0', grad_fn=<NegBackward0>), tensor(0., device='cuda:0', grad_fn=<AddBackward0>)]\n",
      "tensor(-91.3997, device='cuda:0', grad_fn=<NegBackward0>) [tensor(-45.6998, device='cuda:0', grad_fn=<NegBackward0>), tensor(-45.6998, device='cuda:0', grad_fn=<NegBackward0>), tensor(-1.5259e-05, device='cuda:0', grad_fn=<AddBackward0>)]\n",
      "tensor(-90.7465, device='cuda:0', grad_fn=<NegBackward0>) [tensor(-45.3733, device='cuda:0', grad_fn=<NegBackward0>), tensor(-45.3733, device='cuda:0', grad_fn=<NegBackward0>), tensor(0., device='cuda:0', grad_fn=<AddBackward0>)]\n",
      "tensor(-90.9388, device='cuda:0', grad_fn=<NegBackward0>) [tensor(-45.4694, device='cuda:0', grad_fn=<NegBackward0>), tensor(-45.4694, device='cuda:0', grad_fn=<NegBackward0>), tensor(0., device='cuda:0', grad_fn=<AddBackward0>)]\n"
     ]
    },
    {
     "name": "stdout",
     "output_type": "stream",
     "text": [
      "tensor(-91.5459, device='cuda:0', grad_fn=<NegBackward0>) [tensor(-45.7730, device='cuda:0', grad_fn=<NegBackward0>), tensor(-45.7730, device='cuda:0', grad_fn=<NegBackward0>), tensor(1.5259e-05, device='cuda:0', grad_fn=<AddBackward0>)]\n",
      "tensor(-91.3372, device='cuda:0', grad_fn=<NegBackward0>) [tensor(-45.6686, device='cuda:0', grad_fn=<NegBackward0>), tensor(-45.6686, device='cuda:0', grad_fn=<NegBackward0>), tensor(0., device='cuda:0', grad_fn=<AddBackward0>)]\n",
      "tensor(-91.6954, device='cuda:0', grad_fn=<NegBackward0>) [tensor(-45.8477, device='cuda:0', grad_fn=<NegBackward0>), tensor(-45.8477, device='cuda:0', grad_fn=<NegBackward0>), tensor(1.5259e-05, device='cuda:0', grad_fn=<AddBackward0>)]\n",
      "tensor(-92.7022, device='cuda:0', grad_fn=<NegBackward0>) [tensor(-46.3511, device='cuda:0', grad_fn=<NegBackward0>), tensor(-46.3511, device='cuda:0', grad_fn=<NegBackward0>), tensor(0., device='cuda:0', grad_fn=<AddBackward0>)]\n",
      "tensor(-93.9090, device='cuda:0', grad_fn=<NegBackward0>) [tensor(-46.9545, device='cuda:0', grad_fn=<NegBackward0>), tensor(-46.9545, device='cuda:0', grad_fn=<NegBackward0>), tensor(0., device='cuda:0', grad_fn=<AddBackward0>)]\n",
      "tensor(-94.8210, device='cuda:0', grad_fn=<NegBackward0>) [tensor(-47.4105, device='cuda:0', grad_fn=<NegBackward0>), tensor(-47.4105, device='cuda:0', grad_fn=<NegBackward0>), tensor(1.5259e-05, device='cuda:0', grad_fn=<AddBackward0>)]\n",
      "tensor(-95.6747, device='cuda:0', grad_fn=<NegBackward0>) [tensor(-47.8374, device='cuda:0', grad_fn=<NegBackward0>), tensor(-47.8374, device='cuda:0', grad_fn=<NegBackward0>), tensor(0., device='cuda:0', grad_fn=<AddBackward0>)]\n",
      "tensor(-96.1732, device='cuda:0', grad_fn=<NegBackward0>) [tensor(-48.0866, device='cuda:0', grad_fn=<NegBackward0>), tensor(-48.0866, device='cuda:0', grad_fn=<NegBackward0>), tensor(0., device='cuda:0', grad_fn=<AddBackward0>)]\n",
      "tensor(-96.4405, device='cuda:0', grad_fn=<NegBackward0>) [tensor(-48.2203, device='cuda:0', grad_fn=<NegBackward0>), tensor(-48.2203, device='cuda:0', grad_fn=<NegBackward0>), tensor(0., device='cuda:0', grad_fn=<AddBackward0>)]\n",
      "tensor(-96.6805, device='cuda:0', grad_fn=<NegBackward0>) [tensor(-48.3403, device='cuda:0', grad_fn=<NegBackward0>), tensor(-48.3403, device='cuda:0', grad_fn=<NegBackward0>), tensor(0., device='cuda:0', grad_fn=<AddBackward0>)]\n",
      "tensor(-96.7951, device='cuda:0', grad_fn=<NegBackward0>) [tensor(-48.3976, device='cuda:0', grad_fn=<NegBackward0>), tensor(-48.3976, device='cuda:0', grad_fn=<NegBackward0>), tensor(0., device='cuda:0', grad_fn=<AddBackward0>)]\n",
      "tensor(-96.8108, device='cuda:0', grad_fn=<NegBackward0>) [tensor(-48.4054, device='cuda:0', grad_fn=<NegBackward0>), tensor(-48.4054, device='cuda:0', grad_fn=<NegBackward0>), tensor(-1.5259e-05, device='cuda:0', grad_fn=<AddBackward0>)]\n",
      "tensor(-96.7187, device='cuda:0', grad_fn=<NegBackward0>) [tensor(-48.3594, device='cuda:0', grad_fn=<NegBackward0>), tensor(-48.3594, device='cuda:0', grad_fn=<NegBackward0>), tensor(0., device='cuda:0', grad_fn=<AddBackward0>)]\n",
      "tensor(-96.4100, device='cuda:0', grad_fn=<NegBackward0>) [tensor(-48.2050, device='cuda:0', grad_fn=<NegBackward0>), tensor(-48.2050, device='cuda:0', grad_fn=<NegBackward0>), tensor(0., device='cuda:0', grad_fn=<AddBackward0>)]\n",
      "tensor(-96.3066, device='cuda:0', grad_fn=<NegBackward0>) [tensor(-48.1533, device='cuda:0', grad_fn=<NegBackward0>), tensor(-48.1533, device='cuda:0', grad_fn=<NegBackward0>), tensor(1.5259e-05, device='cuda:0', grad_fn=<AddBackward0>)]\n",
      "tensor(-96.4575, device='cuda:0', grad_fn=<NegBackward0>) [tensor(-48.2287, device='cuda:0', grad_fn=<NegBackward0>), tensor(-48.2287, device='cuda:0', grad_fn=<NegBackward0>), tensor(0., device='cuda:0', grad_fn=<AddBackward0>)]\n",
      "tensor(-96.6978, device='cuda:0', grad_fn=<NegBackward0>) [tensor(-48.3489, device='cuda:0', grad_fn=<NegBackward0>), tensor(-48.3489, device='cuda:0', grad_fn=<NegBackward0>), tensor(0., device='cuda:0', grad_fn=<AddBackward0>)]\n",
      "tensor(-96.7649, device='cuda:0', grad_fn=<NegBackward0>) [tensor(-48.3825, device='cuda:0', grad_fn=<NegBackward0>), tensor(-48.3825, device='cuda:0', grad_fn=<NegBackward0>), tensor(0., device='cuda:0', grad_fn=<AddBackward0>)]\n",
      "tensor(-96.6954, device='cuda:0', grad_fn=<NegBackward0>) [tensor(-48.3477, device='cuda:0', grad_fn=<NegBackward0>), tensor(-48.3477, device='cuda:0', grad_fn=<NegBackward0>), tensor(0., device='cuda:0', grad_fn=<AddBackward0>)]\n",
      "tensor(-96.4454, device='cuda:0', grad_fn=<NegBackward0>) [tensor(-48.2227, device='cuda:0', grad_fn=<NegBackward0>), tensor(-48.2227, device='cuda:0', grad_fn=<NegBackward0>), tensor(0., device='cuda:0', grad_fn=<AddBackward0>)]\n",
      "tensor(-96.1921, device='cuda:0', grad_fn=<NegBackward0>) [tensor(-48.0961, device='cuda:0', grad_fn=<NegBackward0>), tensor(-48.0961, device='cuda:0', grad_fn=<NegBackward0>), tensor(0., device='cuda:0', grad_fn=<AddBackward0>)]\n",
      "tensor(-96.0571, device='cuda:0', grad_fn=<NegBackward0>) [tensor(-48.0285, device='cuda:0', grad_fn=<NegBackward0>), tensor(-48.0285, device='cuda:0', grad_fn=<NegBackward0>), tensor(-3.0518e-05, device='cuda:0', grad_fn=<AddBackward0>)]\n",
      "tensor(-96.2742, device='cuda:0', grad_fn=<NegBackward0>) [tensor(-48.1371, device='cuda:0', grad_fn=<NegBackward0>), tensor(-48.1371, device='cuda:0', grad_fn=<NegBackward0>), tensor(0., device='cuda:0', grad_fn=<AddBackward0>)]\n",
      "tensor(-96.3989, device='cuda:0', grad_fn=<NegBackward0>) [tensor(-48.1995, device='cuda:0', grad_fn=<NegBackward0>), tensor(-48.1995, device='cuda:0', grad_fn=<NegBackward0>), tensor(0., device='cuda:0', grad_fn=<AddBackward0>)]\n",
      "tensor(-96.2909, device='cuda:0', grad_fn=<NegBackward0>) [tensor(-48.1455, device='cuda:0', grad_fn=<NegBackward0>), tensor(-48.1455, device='cuda:0', grad_fn=<NegBackward0>), tensor(-1.5259e-05, device='cuda:0', grad_fn=<AddBackward0>)]\n",
      "tensor(-96.3838, device='cuda:0', grad_fn=<NegBackward0>) [tensor(-48.1919, device='cuda:0', grad_fn=<NegBackward0>), tensor(-48.1919, device='cuda:0', grad_fn=<NegBackward0>), tensor(-1.5259e-05, device='cuda:0', grad_fn=<AddBackward0>)]\n",
      "tensor(-96.3301, device='cuda:0', grad_fn=<NegBackward0>) [tensor(-48.1650, device='cuda:0', grad_fn=<NegBackward0>), tensor(-48.1650, device='cuda:0', grad_fn=<NegBackward0>), tensor(0., device='cuda:0', grad_fn=<AddBackward0>)]\n",
      "tensor(-96.1518, device='cuda:0', grad_fn=<NegBackward0>) [tensor(-48.0759, device='cuda:0', grad_fn=<NegBackward0>), tensor(-48.0759, device='cuda:0', grad_fn=<NegBackward0>), tensor(0., device='cuda:0', grad_fn=<AddBackward0>)]\n",
      "tensor(-96.0571, device='cuda:0', grad_fn=<NegBackward0>) [tensor(-48.0286, device='cuda:0', grad_fn=<NegBackward0>), tensor(-48.0286, device='cuda:0', grad_fn=<NegBackward0>), tensor(1.5259e-05, device='cuda:0', grad_fn=<AddBackward0>)]\n",
      "tensor(-96.1505, device='cuda:0', grad_fn=<NegBackward0>) [tensor(-48.0753, device='cuda:0', grad_fn=<NegBackward0>), tensor(-48.0753, device='cuda:0', grad_fn=<NegBackward0>), tensor(-1.5259e-05, device='cuda:0', grad_fn=<AddBackward0>)]\n",
      "tensor(-96.3080, device='cuda:0', grad_fn=<NegBackward0>) [tensor(-48.1540, device='cuda:0', grad_fn=<NegBackward0>), tensor(-48.1540, device='cuda:0', grad_fn=<NegBackward0>), tensor(1.5259e-05, device='cuda:0', grad_fn=<AddBackward0>)]\n",
      "tensor(-96.3873, device='cuda:0', grad_fn=<NegBackward0>) [tensor(-48.1937, device='cuda:0', grad_fn=<NegBackward0>), tensor(-48.1937, device='cuda:0', grad_fn=<NegBackward0>), tensor(1.5259e-05, device='cuda:0', grad_fn=<AddBackward0>)]\n",
      "tensor(-96.0678, device='cuda:0', grad_fn=<NegBackward0>) [tensor(-48.0339, device='cuda:0', grad_fn=<NegBackward0>), tensor(-48.0339, device='cuda:0', grad_fn=<NegBackward0>), tensor(1.5259e-05, device='cuda:0', grad_fn=<AddBackward0>)]\n",
      "tensor(-95.5809, device='cuda:0', grad_fn=<NegBackward0>) [tensor(-47.7904, device='cuda:0', grad_fn=<NegBackward0>), tensor(-47.7904, device='cuda:0', grad_fn=<NegBackward0>), tensor(0., device='cuda:0', grad_fn=<AddBackward0>)]\n",
      "tensor(-95.4204, device='cuda:0', grad_fn=<NegBackward0>) [tensor(-47.7102, device='cuda:0', grad_fn=<NegBackward0>), tensor(-47.7102, device='cuda:0', grad_fn=<NegBackward0>), tensor(3.0518e-05, device='cuda:0', grad_fn=<AddBackward0>)]\n",
      "tensor(-95.9236, device='cuda:0', grad_fn=<NegBackward0>) [tensor(-47.9618, device='cuda:0', grad_fn=<NegBackward0>), tensor(-47.9618, device='cuda:0', grad_fn=<NegBackward0>), tensor(0., device='cuda:0', grad_fn=<AddBackward0>)]\n"
     ]
    },
    {
     "name": "stdout",
     "output_type": "stream",
     "text": [
      "tensor(-96.3858, device='cuda:0', grad_fn=<NegBackward0>) [tensor(-48.1929, device='cuda:0', grad_fn=<NegBackward0>), tensor(-48.1929, device='cuda:0', grad_fn=<NegBackward0>), tensor(0., device='cuda:0', grad_fn=<AddBackward0>)]\n",
      "tensor(-96.6596, device='cuda:0', grad_fn=<NegBackward0>) [tensor(-48.3298, device='cuda:0', grad_fn=<NegBackward0>), tensor(-48.3298, device='cuda:0', grad_fn=<NegBackward0>), tensor(0., device='cuda:0', grad_fn=<AddBackward0>)]\n",
      "tensor(-96.8231, device='cuda:0', grad_fn=<NegBackward0>) [tensor(-48.4116, device='cuda:0', grad_fn=<NegBackward0>), tensor(-48.4116, device='cuda:0', grad_fn=<NegBackward0>), tensor(3.0518e-05, device='cuda:0', grad_fn=<AddBackward0>)]\n",
      "tensor(-96.6496, device='cuda:0', grad_fn=<NegBackward0>) [tensor(-48.3248, device='cuda:0', grad_fn=<NegBackward0>), tensor(-48.3248, device='cuda:0', grad_fn=<NegBackward0>), tensor(0., device='cuda:0', grad_fn=<AddBackward0>)]\n",
      "tensor(-96.4754, device='cuda:0', grad_fn=<NegBackward0>) [tensor(-48.2377, device='cuda:0', grad_fn=<NegBackward0>), tensor(-48.2377, device='cuda:0', grad_fn=<NegBackward0>), tensor(0., device='cuda:0', grad_fn=<AddBackward0>)]\n",
      "tensor(-96.2449, device='cuda:0', grad_fn=<NegBackward0>) [tensor(-48.1224, device='cuda:0', grad_fn=<NegBackward0>), tensor(-48.1224, device='cuda:0', grad_fn=<NegBackward0>), tensor(0., device='cuda:0', grad_fn=<AddBackward0>)]\n",
      "tensor(-96.2262, device='cuda:0', grad_fn=<NegBackward0>) [tensor(-48.1131, device='cuda:0', grad_fn=<NegBackward0>), tensor(-48.1131, device='cuda:0', grad_fn=<NegBackward0>), tensor(1.5259e-05, device='cuda:0', grad_fn=<AddBackward0>)]\n",
      "tensor(-96.4941, device='cuda:0', grad_fn=<NegBackward0>) [tensor(-48.2471, device='cuda:0', grad_fn=<NegBackward0>), tensor(-48.2471, device='cuda:0', grad_fn=<NegBackward0>), tensor(0., device='cuda:0', grad_fn=<AddBackward0>)]\n",
      "tensor(-96.5917, device='cuda:0', grad_fn=<NegBackward0>) [tensor(-48.2958, device='cuda:0', grad_fn=<NegBackward0>), tensor(-48.2958, device='cuda:0', grad_fn=<NegBackward0>), tensor(0., device='cuda:0', grad_fn=<AddBackward0>)]\n",
      "tensor(-96.6770, device='cuda:0', grad_fn=<NegBackward0>) [tensor(-48.3385, device='cuda:0', grad_fn=<NegBackward0>), tensor(-48.3385, device='cuda:0', grad_fn=<NegBackward0>), tensor(0., device='cuda:0', grad_fn=<AddBackward0>)]\n",
      "tensor(-96.8284, device='cuda:0', grad_fn=<NegBackward0>) [tensor(-48.4142, device='cuda:0', grad_fn=<NegBackward0>), tensor(-48.4142, device='cuda:0', grad_fn=<NegBackward0>), tensor(-3.0518e-05, device='cuda:0', grad_fn=<AddBackward0>)]\n",
      "tensor(-96.7872, device='cuda:0', grad_fn=<NegBackward0>) [tensor(-48.3936, device='cuda:0', grad_fn=<NegBackward0>), tensor(-48.3936, device='cuda:0', grad_fn=<NegBackward0>), tensor(1.5259e-05, device='cuda:0', grad_fn=<AddBackward0>)]\n",
      "tensor(-96.6449, device='cuda:0', grad_fn=<NegBackward0>) [tensor(-48.3225, device='cuda:0', grad_fn=<NegBackward0>), tensor(-48.3225, device='cuda:0', grad_fn=<NegBackward0>), tensor(1.5259e-05, device='cuda:0', grad_fn=<AddBackward0>)]\n",
      "tensor(-96.7681, device='cuda:0', grad_fn=<NegBackward0>) [tensor(-48.3840, device='cuda:0', grad_fn=<NegBackward0>), tensor(-48.3840, device='cuda:0', grad_fn=<NegBackward0>), tensor(0., device='cuda:0', grad_fn=<AddBackward0>)]\n",
      "tensor(-96.7867, device='cuda:0', grad_fn=<NegBackward0>) [tensor(-48.3934, device='cuda:0', grad_fn=<NegBackward0>), tensor(-48.3934, device='cuda:0', grad_fn=<NegBackward0>), tensor(0., device='cuda:0', grad_fn=<AddBackward0>)]\n",
      "tensor(-96.6848, device='cuda:0', grad_fn=<NegBackward0>) [tensor(-48.3424, device='cuda:0', grad_fn=<NegBackward0>), tensor(-48.3424, device='cuda:0', grad_fn=<NegBackward0>), tensor(0., device='cuda:0', grad_fn=<AddBackward0>)]\n",
      "tensor(-96.7357, device='cuda:0', grad_fn=<NegBackward0>) [tensor(-48.3678, device='cuda:0', grad_fn=<NegBackward0>), tensor(-48.3678, device='cuda:0', grad_fn=<NegBackward0>), tensor(0., device='cuda:0', grad_fn=<AddBackward0>)]\n",
      "tensor(-96.8675, device='cuda:0', grad_fn=<NegBackward0>) [tensor(-48.4337, device='cuda:0', grad_fn=<NegBackward0>), tensor(-48.4337, device='cuda:0', grad_fn=<NegBackward0>), tensor(-3.0518e-05, device='cuda:0', grad_fn=<AddBackward0>)]\n",
      "tensor(-96.7983, device='cuda:0', grad_fn=<NegBackward0>) [tensor(-48.3992, device='cuda:0', grad_fn=<NegBackward0>), tensor(-48.3992, device='cuda:0', grad_fn=<NegBackward0>), tensor(0., device='cuda:0', grad_fn=<AddBackward0>)]\n",
      "tensor(-96.3762, device='cuda:0', grad_fn=<NegBackward0>) [tensor(-48.1881, device='cuda:0', grad_fn=<NegBackward0>), tensor(-48.1881, device='cuda:0', grad_fn=<NegBackward0>), tensor(0., device='cuda:0', grad_fn=<AddBackward0>)]\n",
      "tensor(-94.9823, device='cuda:0', grad_fn=<NegBackward0>) [tensor(-47.4912, device='cuda:0', grad_fn=<NegBackward0>), tensor(-47.4912, device='cuda:0', grad_fn=<NegBackward0>), tensor(0., device='cuda:0', grad_fn=<AddBackward0>)]\n",
      "tensor(-92.2460, device='cuda:0', grad_fn=<NegBackward0>) [tensor(-46.1230, device='cuda:0', grad_fn=<NegBackward0>), tensor(-46.1230, device='cuda:0', grad_fn=<NegBackward0>), tensor(-1.5259e-05, device='cuda:0', grad_fn=<AddBackward0>)]\n",
      "tensor(-90.5971, device='cuda:0', grad_fn=<NegBackward0>) [tensor(-45.2986, device='cuda:0', grad_fn=<NegBackward0>), tensor(-45.2986, device='cuda:0', grad_fn=<NegBackward0>), tensor(0., device='cuda:0', grad_fn=<AddBackward0>)]\n",
      "tensor(-90.1928, device='cuda:0', grad_fn=<NegBackward0>) [tensor(-45.0964, device='cuda:0', grad_fn=<NegBackward0>), tensor(-45.0964, device='cuda:0', grad_fn=<NegBackward0>), tensor(-1.5259e-05, device='cuda:0', grad_fn=<AddBackward0>)]\n",
      "tensor(-90.5715, device='cuda:0', grad_fn=<NegBackward0>) [tensor(-45.2858, device='cuda:0', grad_fn=<NegBackward0>), tensor(-45.2858, device='cuda:0', grad_fn=<NegBackward0>), tensor(0., device='cuda:0', grad_fn=<AddBackward0>)]\n",
      "tensor(-92.5619, device='cuda:0', grad_fn=<NegBackward0>) [tensor(-46.2809, device='cuda:0', grad_fn=<NegBackward0>), tensor(-46.2809, device='cuda:0', grad_fn=<NegBackward0>), tensor(0., device='cuda:0', grad_fn=<AddBackward0>)]\n",
      "tensor(-92.2715, device='cuda:0', grad_fn=<NegBackward0>) [tensor(-46.1357, device='cuda:0', grad_fn=<NegBackward0>), tensor(-46.1357, device='cuda:0', grad_fn=<NegBackward0>), tensor(0., device='cuda:0', grad_fn=<AddBackward0>)]\n",
      "tensor(-91.8610, device='cuda:0', grad_fn=<NegBackward0>) [tensor(-45.9305, device='cuda:0', grad_fn=<NegBackward0>), tensor(-45.9305, device='cuda:0', grad_fn=<NegBackward0>), tensor(0., device='cuda:0', grad_fn=<AddBackward0>)]\n",
      "tensor(-92.8332, device='cuda:0', grad_fn=<NegBackward0>) [tensor(-46.4166, device='cuda:0', grad_fn=<NegBackward0>), tensor(-46.4166, device='cuda:0', grad_fn=<NegBackward0>), tensor(0., device='cuda:0', grad_fn=<AddBackward0>)]\n",
      "tensor(-93.6057, device='cuda:0', grad_fn=<NegBackward0>) [tensor(-46.8028, device='cuda:0', grad_fn=<NegBackward0>), tensor(-46.8028, device='cuda:0', grad_fn=<NegBackward0>), tensor(0., device='cuda:0', grad_fn=<AddBackward0>)]\n",
      "tensor(-93.5966, device='cuda:0', grad_fn=<NegBackward0>) [tensor(-46.7983, device='cuda:0', grad_fn=<NegBackward0>), tensor(-46.7983, device='cuda:0', grad_fn=<NegBackward0>), tensor(-1.5259e-05, device='cuda:0', grad_fn=<AddBackward0>)]\n",
      "tensor(-94.1769, device='cuda:0', grad_fn=<NegBackward0>) [tensor(-47.0885, device='cuda:0', grad_fn=<NegBackward0>), tensor(-47.0885, device='cuda:0', grad_fn=<NegBackward0>), tensor(0., device='cuda:0', grad_fn=<AddBackward0>)]\n",
      "tensor(-94.8297, device='cuda:0', grad_fn=<NegBackward0>) [tensor(-47.4149, device='cuda:0', grad_fn=<NegBackward0>), tensor(-47.4149, device='cuda:0', grad_fn=<NegBackward0>), tensor(1.5259e-05, device='cuda:0', grad_fn=<AddBackward0>)]\n",
      "tensor(-95.1048, device='cuda:0', grad_fn=<NegBackward0>) [tensor(-47.5524, device='cuda:0', grad_fn=<NegBackward0>), tensor(-47.5524, device='cuda:0', grad_fn=<NegBackward0>), tensor(-3.0518e-05, device='cuda:0', grad_fn=<AddBackward0>)]\n",
      "tensor(-95.8153, device='cuda:0', grad_fn=<NegBackward0>) [tensor(-47.9077, device='cuda:0', grad_fn=<NegBackward0>), tensor(-47.9077, device='cuda:0', grad_fn=<NegBackward0>), tensor(1.5259e-05, device='cuda:0', grad_fn=<AddBackward0>)]\n",
      "tensor(-96.6333, device='cuda:0', grad_fn=<NegBackward0>) [tensor(-48.3167, device='cuda:0', grad_fn=<NegBackward0>), tensor(-48.3167, device='cuda:0', grad_fn=<NegBackward0>), tensor(0., device='cuda:0', grad_fn=<AddBackward0>)]\n"
     ]
    },
    {
     "name": "stdout",
     "output_type": "stream",
     "text": [
      "tensor(-97.1548, device='cuda:0', grad_fn=<NegBackward0>) [tensor(-48.5774, device='cuda:0', grad_fn=<NegBackward0>), tensor(-48.5774, device='cuda:0', grad_fn=<NegBackward0>), tensor(0., device='cuda:0', grad_fn=<AddBackward0>)]\n",
      "tensor(-97.4607, device='cuda:0', grad_fn=<NegBackward0>) [tensor(-48.7304, device='cuda:0', grad_fn=<NegBackward0>), tensor(-48.7304, device='cuda:0', grad_fn=<NegBackward0>), tensor(0., device='cuda:0', grad_fn=<AddBackward0>)]\n",
      "tensor(-97.6797, device='cuda:0', grad_fn=<NegBackward0>) [tensor(-48.8399, device='cuda:0', grad_fn=<NegBackward0>), tensor(-48.8399, device='cuda:0', grad_fn=<NegBackward0>), tensor(0., device='cuda:0', grad_fn=<AddBackward0>)]\n",
      "tensor(-97.8331, device='cuda:0', grad_fn=<NegBackward0>) [tensor(-48.9166, device='cuda:0', grad_fn=<NegBackward0>), tensor(-48.9166, device='cuda:0', grad_fn=<NegBackward0>), tensor(1.5259e-05, device='cuda:0', grad_fn=<AddBackward0>)]\n",
      "tensor(-97.8635, device='cuda:0', grad_fn=<NegBackward0>) [tensor(-48.9317, device='cuda:0', grad_fn=<NegBackward0>), tensor(-48.9317, device='cuda:0', grad_fn=<NegBackward0>), tensor(-3.0518e-05, device='cuda:0', grad_fn=<AddBackward0>)]\n",
      "tensor(-97.7700, device='cuda:0', grad_fn=<NegBackward0>) [tensor(-48.8850, device='cuda:0', grad_fn=<NegBackward0>), tensor(-48.8850, device='cuda:0', grad_fn=<NegBackward0>), tensor(3.0518e-05, device='cuda:0', grad_fn=<AddBackward0>)]\n",
      "tensor(-97.5694, device='cuda:0', grad_fn=<NegBackward0>) [tensor(-48.7847, device='cuda:0', grad_fn=<NegBackward0>), tensor(-48.7847, device='cuda:0', grad_fn=<NegBackward0>), tensor(0., device='cuda:0', grad_fn=<AddBackward0>)]\n",
      "tensor(-97.3065, device='cuda:0', grad_fn=<NegBackward0>) [tensor(-48.6533, device='cuda:0', grad_fn=<NegBackward0>), tensor(-48.6533, device='cuda:0', grad_fn=<NegBackward0>), tensor(0., device='cuda:0', grad_fn=<AddBackward0>)]\n",
      "tensor(-97.2768, device='cuda:0', grad_fn=<NegBackward0>) [tensor(-48.6384, device='cuda:0', grad_fn=<NegBackward0>), tensor(-48.6384, device='cuda:0', grad_fn=<NegBackward0>), tensor(-1.5259e-05, device='cuda:0', grad_fn=<AddBackward0>)]\n",
      "tensor(-97.5090, device='cuda:0', grad_fn=<NegBackward0>) [tensor(-48.7545, device='cuda:0', grad_fn=<NegBackward0>), tensor(-48.7545, device='cuda:0', grad_fn=<NegBackward0>), tensor(0., device='cuda:0', grad_fn=<AddBackward0>)]\n",
      "tensor(-97.8757, device='cuda:0', grad_fn=<NegBackward0>) [tensor(-48.9379, device='cuda:0', grad_fn=<NegBackward0>), tensor(-48.9379, device='cuda:0', grad_fn=<NegBackward0>), tensor(-3.0518e-05, device='cuda:0', grad_fn=<AddBackward0>)]\n",
      "tensor(-97.9010, device='cuda:0', grad_fn=<NegBackward0>) [tensor(-48.9505, device='cuda:0', grad_fn=<NegBackward0>), tensor(-48.9505, device='cuda:0', grad_fn=<NegBackward0>), tensor(0., device='cuda:0', grad_fn=<AddBackward0>)]\n",
      "tensor(-98.0500, device='cuda:0', grad_fn=<NegBackward0>) [tensor(-49.0250, device='cuda:0', grad_fn=<NegBackward0>), tensor(-49.0250, device='cuda:0', grad_fn=<NegBackward0>), tensor(0., device='cuda:0', grad_fn=<AddBackward0>)]\n",
      "tensor(-97.9429, device='cuda:0', grad_fn=<NegBackward0>) [tensor(-48.9714, device='cuda:0', grad_fn=<NegBackward0>), tensor(-48.9714, device='cuda:0', grad_fn=<NegBackward0>), tensor(-3.0518e-05, device='cuda:0', grad_fn=<AddBackward0>)]\n",
      "tensor(-97.6333, device='cuda:0', grad_fn=<NegBackward0>) [tensor(-48.8167, device='cuda:0', grad_fn=<NegBackward0>), tensor(-48.8167, device='cuda:0', grad_fn=<NegBackward0>), tensor(0., device='cuda:0', grad_fn=<AddBackward0>)]\n",
      "tensor(-97.4766, device='cuda:0', grad_fn=<NegBackward0>) [tensor(-48.7383, device='cuda:0', grad_fn=<NegBackward0>), tensor(-48.7383, device='cuda:0', grad_fn=<NegBackward0>), tensor(-1.5259e-05, device='cuda:0', grad_fn=<AddBackward0>)]\n",
      "tensor(-97.3661, device='cuda:0', grad_fn=<NegBackward0>) [tensor(-48.6831, device='cuda:0', grad_fn=<NegBackward0>), tensor(-48.6831, device='cuda:0', grad_fn=<NegBackward0>), tensor(-1.5259e-05, device='cuda:0', grad_fn=<AddBackward0>)]\n",
      "tensor(-97.4400, device='cuda:0', grad_fn=<NegBackward0>) [tensor(-48.7200, device='cuda:0', grad_fn=<NegBackward0>), tensor(-48.7200, device='cuda:0', grad_fn=<NegBackward0>), tensor(0., device='cuda:0', grad_fn=<AddBackward0>)]\n",
      "tensor(-97.5646, device='cuda:0', grad_fn=<NegBackward0>) [tensor(-48.7823, device='cuda:0', grad_fn=<NegBackward0>), tensor(-48.7823, device='cuda:0', grad_fn=<NegBackward0>), tensor(0., device='cuda:0', grad_fn=<AddBackward0>)]\n",
      "tensor(-97.7673, device='cuda:0', grad_fn=<NegBackward0>) [tensor(-48.8836, device='cuda:0', grad_fn=<NegBackward0>), tensor(-48.8836, device='cuda:0', grad_fn=<NegBackward0>), tensor(-1.5259e-05, device='cuda:0', grad_fn=<AddBackward0>)]\n",
      "tensor(-97.6987, device='cuda:0', grad_fn=<NegBackward0>) [tensor(-48.8493, device='cuda:0', grad_fn=<NegBackward0>), tensor(-48.8493, device='cuda:0', grad_fn=<NegBackward0>), tensor(1.5259e-05, device='cuda:0', grad_fn=<AddBackward0>)]\n",
      "tensor(-97.5160, device='cuda:0', grad_fn=<NegBackward0>) [tensor(-48.7580, device='cuda:0', grad_fn=<NegBackward0>), tensor(-48.7580, device='cuda:0', grad_fn=<NegBackward0>), tensor(0., device='cuda:0', grad_fn=<AddBackward0>)]\n",
      "tensor(-97.6257, device='cuda:0', grad_fn=<NegBackward0>) [tensor(-48.8129, device='cuda:0', grad_fn=<NegBackward0>), tensor(-48.8129, device='cuda:0', grad_fn=<NegBackward0>), tensor(0., device='cuda:0', grad_fn=<AddBackward0>)]\n",
      "tensor(-97.6816, device='cuda:0', grad_fn=<NegBackward0>) [tensor(-48.8408, device='cuda:0', grad_fn=<NegBackward0>), tensor(-48.8408, device='cuda:0', grad_fn=<NegBackward0>), tensor(-1.5259e-05, device='cuda:0', grad_fn=<AddBackward0>)]\n",
      "tensor(-97.6323, device='cuda:0', grad_fn=<NegBackward0>) [tensor(-48.8162, device='cuda:0', grad_fn=<NegBackward0>), tensor(-48.8162, device='cuda:0', grad_fn=<NegBackward0>), tensor(1.5259e-05, device='cuda:0', grad_fn=<AddBackward0>)]\n",
      "tensor(-97.2521, device='cuda:0', grad_fn=<NegBackward0>) [tensor(-48.6261, device='cuda:0', grad_fn=<NegBackward0>), tensor(-48.6261, device='cuda:0', grad_fn=<NegBackward0>), tensor(0., device='cuda:0', grad_fn=<AddBackward0>)]\n",
      "tensor(-97.2424, device='cuda:0', grad_fn=<NegBackward0>) [tensor(-48.6212, device='cuda:0', grad_fn=<NegBackward0>), tensor(-48.6212, device='cuda:0', grad_fn=<NegBackward0>), tensor(0., device='cuda:0', grad_fn=<AddBackward0>)]\n",
      "tensor(-97.4538, device='cuda:0', grad_fn=<NegBackward0>) [tensor(-48.7269, device='cuda:0', grad_fn=<NegBackward0>), tensor(-48.7269, device='cuda:0', grad_fn=<NegBackward0>), tensor(0., device='cuda:0', grad_fn=<AddBackward0>)]\n",
      "tensor(-97.6808, device='cuda:0', grad_fn=<NegBackward0>) [tensor(-48.8404, device='cuda:0', grad_fn=<NegBackward0>), tensor(-48.8404, device='cuda:0', grad_fn=<NegBackward0>), tensor(0., device='cuda:0', grad_fn=<AddBackward0>)]\n",
      "tensor(-98.1560, device='cuda:0', grad_fn=<NegBackward0>) [tensor(-49.0780, device='cuda:0', grad_fn=<NegBackward0>), tensor(-49.0780, device='cuda:0', grad_fn=<NegBackward0>), tensor(0., device='cuda:0', grad_fn=<AddBackward0>)]\n",
      "tensor(-98.0612, device='cuda:0', grad_fn=<NegBackward0>) [tensor(-49.0306, device='cuda:0', grad_fn=<NegBackward0>), tensor(-49.0306, device='cuda:0', grad_fn=<NegBackward0>), tensor(0., device='cuda:0', grad_fn=<AddBackward0>)]\n",
      "tensor(-97.8157, device='cuda:0', grad_fn=<NegBackward0>) [tensor(-48.9078, device='cuda:0', grad_fn=<NegBackward0>), tensor(-48.9078, device='cuda:0', grad_fn=<NegBackward0>), tensor(-3.0518e-05, device='cuda:0', grad_fn=<AddBackward0>)]\n",
      "tensor(-97.7270, device='cuda:0', grad_fn=<NegBackward0>) [tensor(-48.8635, device='cuda:0', grad_fn=<NegBackward0>), tensor(-48.8635, device='cuda:0', grad_fn=<NegBackward0>), tensor(0., device='cuda:0', grad_fn=<AddBackward0>)]\n",
      "tensor(-97.5176, device='cuda:0', grad_fn=<NegBackward0>) [tensor(-48.7588, device='cuda:0', grad_fn=<NegBackward0>), tensor(-48.7588, device='cuda:0', grad_fn=<NegBackward0>), tensor(-1.5259e-05, device='cuda:0', grad_fn=<AddBackward0>)]\n",
      "tensor(-97.4616, device='cuda:0', grad_fn=<NegBackward0>) [tensor(-48.7308, device='cuda:0', grad_fn=<NegBackward0>), tensor(-48.7308, device='cuda:0', grad_fn=<NegBackward0>), tensor(0., device='cuda:0', grad_fn=<AddBackward0>)]\n",
      "tensor(-97.7041, device='cuda:0', grad_fn=<NegBackward0>) [tensor(-48.8521, device='cuda:0', grad_fn=<NegBackward0>), tensor(-48.8521, device='cuda:0', grad_fn=<NegBackward0>), tensor(4.5776e-05, device='cuda:0', grad_fn=<AddBackward0>)]\n"
     ]
    },
    {
     "name": "stdout",
     "output_type": "stream",
     "text": [
      "tensor(-97.5988, device='cuda:0', grad_fn=<NegBackward0>) [tensor(-48.7994, device='cuda:0', grad_fn=<NegBackward0>), tensor(-48.7994, device='cuda:0', grad_fn=<NegBackward0>), tensor(0., device='cuda:0', grad_fn=<AddBackward0>)]\n",
      "tensor(-97.8256, device='cuda:0', grad_fn=<NegBackward0>) [tensor(-48.9128, device='cuda:0', grad_fn=<NegBackward0>), tensor(-48.9128, device='cuda:0', grad_fn=<NegBackward0>), tensor(3.0518e-05, device='cuda:0', grad_fn=<AddBackward0>)]\n",
      "tensor(-97.8969, device='cuda:0', grad_fn=<NegBackward0>) [tensor(-48.9485, device='cuda:0', grad_fn=<NegBackward0>), tensor(-48.9485, device='cuda:0', grad_fn=<NegBackward0>), tensor(4.5776e-05, device='cuda:0', grad_fn=<AddBackward0>)]\n",
      "tensor(-97.7854, device='cuda:0', grad_fn=<NegBackward0>) [tensor(-48.8927, device='cuda:0', grad_fn=<NegBackward0>), tensor(-48.8927, device='cuda:0', grad_fn=<NegBackward0>), tensor(0., device='cuda:0', grad_fn=<AddBackward0>)]\n",
      "tensor(-97.8423, device='cuda:0', grad_fn=<NegBackward0>) [tensor(-48.9212, device='cuda:0', grad_fn=<NegBackward0>), tensor(-48.9212, device='cuda:0', grad_fn=<NegBackward0>), tensor(0., device='cuda:0', grad_fn=<AddBackward0>)]\n",
      "tensor(-97.4469, device='cuda:0', grad_fn=<NegBackward0>) [tensor(-48.7234, device='cuda:0', grad_fn=<NegBackward0>), tensor(-48.7234, device='cuda:0', grad_fn=<NegBackward0>), tensor(-1.5259e-05, device='cuda:0', grad_fn=<AddBackward0>)]\n",
      "tensor(-96.9709, device='cuda:0', grad_fn=<NegBackward0>) [tensor(-48.4855, device='cuda:0', grad_fn=<NegBackward0>), tensor(-48.4855, device='cuda:0', grad_fn=<NegBackward0>), tensor(0., device='cuda:0', grad_fn=<AddBackward0>)]\n",
      "tensor(-96.9121, device='cuda:0', grad_fn=<NegBackward0>) [tensor(-48.4561, device='cuda:0', grad_fn=<NegBackward0>), tensor(-48.4561, device='cuda:0', grad_fn=<NegBackward0>), tensor(3.0518e-05, device='cuda:0', grad_fn=<AddBackward0>)]\n",
      "tensor(-97.3646, device='cuda:0', grad_fn=<NegBackward0>) [tensor(-48.6823, device='cuda:0', grad_fn=<NegBackward0>), tensor(-48.6823, device='cuda:0', grad_fn=<NegBackward0>), tensor(0., device='cuda:0', grad_fn=<AddBackward0>)]\n",
      "tensor(-97.5201, device='cuda:0', grad_fn=<NegBackward0>) [tensor(-48.7601, device='cuda:0', grad_fn=<NegBackward0>), tensor(-48.7601, device='cuda:0', grad_fn=<NegBackward0>), tensor(0., device='cuda:0', grad_fn=<AddBackward0>)]\n",
      "tensor(-97.8853, device='cuda:0', grad_fn=<NegBackward0>) [tensor(-48.9427, device='cuda:0', grad_fn=<NegBackward0>), tensor(-48.9427, device='cuda:0', grad_fn=<NegBackward0>), tensor(0., device='cuda:0', grad_fn=<AddBackward0>)]\n",
      "tensor(-97.9077, device='cuda:0', grad_fn=<NegBackward0>) [tensor(-48.9538, device='cuda:0', grad_fn=<NegBackward0>), tensor(-48.9538, device='cuda:0', grad_fn=<NegBackward0>), tensor(0., device='cuda:0', grad_fn=<AddBackward0>)]\n",
      "tensor(-97.7601, device='cuda:0', grad_fn=<NegBackward0>) [tensor(-48.8801, device='cuda:0', grad_fn=<NegBackward0>), tensor(-48.8801, device='cuda:0', grad_fn=<NegBackward0>), tensor(-3.0518e-05, device='cuda:0', grad_fn=<AddBackward0>)]\n",
      "tensor(-97.5421, device='cuda:0', grad_fn=<NegBackward0>) [tensor(-48.7711, device='cuda:0', grad_fn=<NegBackward0>), tensor(-48.7711, device='cuda:0', grad_fn=<NegBackward0>), tensor(0., device='cuda:0', grad_fn=<AddBackward0>)]\n",
      "tensor(-97.5214, device='cuda:0', grad_fn=<NegBackward0>) [tensor(-48.7607, device='cuda:0', grad_fn=<NegBackward0>), tensor(-48.7607, device='cuda:0', grad_fn=<NegBackward0>), tensor(0., device='cuda:0', grad_fn=<AddBackward0>)]\n",
      "tensor(-97.6374, device='cuda:0', grad_fn=<NegBackward0>) [tensor(-48.8187, device='cuda:0', grad_fn=<NegBackward0>), tensor(-48.8187, device='cuda:0', grad_fn=<NegBackward0>), tensor(-1.5259e-05, device='cuda:0', grad_fn=<AddBackward0>)]\n",
      "tensor(-97.9276, device='cuda:0', grad_fn=<NegBackward0>) [tensor(-48.9638, device='cuda:0', grad_fn=<NegBackward0>), tensor(-48.9638, device='cuda:0', grad_fn=<NegBackward0>), tensor(1.5259e-05, device='cuda:0', grad_fn=<AddBackward0>)]\n",
      "tensor(-98.0549, device='cuda:0', grad_fn=<NegBackward0>) [tensor(-49.0274, device='cuda:0', grad_fn=<NegBackward0>), tensor(-49.0274, device='cuda:0', grad_fn=<NegBackward0>), tensor(0., device='cuda:0', grad_fn=<AddBackward0>)]\n",
      "tensor(-97.9979, device='cuda:0', grad_fn=<NegBackward0>) [tensor(-48.9990, device='cuda:0', grad_fn=<NegBackward0>), tensor(-48.9990, device='cuda:0', grad_fn=<NegBackward0>), tensor(0., device='cuda:0', grad_fn=<AddBackward0>)]\n",
      "tensor(-97.8812, device='cuda:0', grad_fn=<NegBackward0>) [tensor(-48.9406, device='cuda:0', grad_fn=<NegBackward0>), tensor(-48.9406, device='cuda:0', grad_fn=<NegBackward0>), tensor(0., device='cuda:0', grad_fn=<AddBackward0>)]\n",
      "tensor(-97.8293, device='cuda:0', grad_fn=<NegBackward0>) [tensor(-48.9147, device='cuda:0', grad_fn=<NegBackward0>), tensor(-48.9147, device='cuda:0', grad_fn=<NegBackward0>), tensor(0., device='cuda:0', grad_fn=<AddBackward0>)]\n",
      "tensor(-97.7993, device='cuda:0', grad_fn=<NegBackward0>) [tensor(-48.8997, device='cuda:0', grad_fn=<NegBackward0>), tensor(-48.8997, device='cuda:0', grad_fn=<NegBackward0>), tensor(0., device='cuda:0', grad_fn=<AddBackward0>)]\n",
      "tensor(-97.6536, device='cuda:0', grad_fn=<NegBackward0>) [tensor(-48.8268, device='cuda:0', grad_fn=<NegBackward0>), tensor(-48.8268, device='cuda:0', grad_fn=<NegBackward0>), tensor(-1.5259e-05, device='cuda:0', grad_fn=<AddBackward0>)]\n",
      "tensor(-97.5992, device='cuda:0', grad_fn=<NegBackward0>) [tensor(-48.7996, device='cuda:0', grad_fn=<NegBackward0>), tensor(-48.7996, device='cuda:0', grad_fn=<NegBackward0>), tensor(0., device='cuda:0', grad_fn=<AddBackward0>)]\n",
      "tensor(-97.1769, device='cuda:0', grad_fn=<NegBackward0>) [tensor(-48.5884, device='cuda:0', grad_fn=<NegBackward0>), tensor(-48.5884, device='cuda:0', grad_fn=<NegBackward0>), tensor(0., device='cuda:0', grad_fn=<AddBackward0>)]\n",
      "tensor(-96.3111, device='cuda:0', grad_fn=<NegBackward0>) [tensor(-48.1555, device='cuda:0', grad_fn=<NegBackward0>), tensor(-48.1555, device='cuda:0', grad_fn=<NegBackward0>), tensor(0., device='cuda:0', grad_fn=<AddBackward0>)]\n",
      "tensor(-94.9536, device='cuda:0', grad_fn=<NegBackward0>) [tensor(-47.4768, device='cuda:0', grad_fn=<NegBackward0>), tensor(-47.4768, device='cuda:0', grad_fn=<NegBackward0>), tensor(-1.5259e-05, device='cuda:0', grad_fn=<AddBackward0>)]\n",
      "tensor(-92.4464, device='cuda:0', grad_fn=<NegBackward0>) [tensor(-46.2232, device='cuda:0', grad_fn=<NegBackward0>), tensor(-46.2232, device='cuda:0', grad_fn=<NegBackward0>), tensor(0., device='cuda:0', grad_fn=<AddBackward0>)]\n",
      "tensor(-89.6592, device='cuda:0', grad_fn=<NegBackward0>) [tensor(-44.8296, device='cuda:0', grad_fn=<NegBackward0>), tensor(-44.8296, device='cuda:0', grad_fn=<NegBackward0>), tensor(-3.0518e-05, device='cuda:0', grad_fn=<AddBackward0>)]\n",
      "tensor(-91.6521, device='cuda:0', grad_fn=<NegBackward0>) [tensor(-45.8261, device='cuda:0', grad_fn=<NegBackward0>), tensor(-45.8261, device='cuda:0', grad_fn=<NegBackward0>), tensor(1.5259e-05, device='cuda:0', grad_fn=<AddBackward0>)]\n",
      "tensor(-93.2903, device='cuda:0', grad_fn=<NegBackward0>) [tensor(-46.6451, device='cuda:0', grad_fn=<NegBackward0>), tensor(-46.6451, device='cuda:0', grad_fn=<NegBackward0>), tensor(-1.5259e-05, device='cuda:0', grad_fn=<AddBackward0>)]\n",
      "tensor(-92.9801, device='cuda:0', grad_fn=<NegBackward0>) [tensor(-46.4900, device='cuda:0', grad_fn=<NegBackward0>), tensor(-46.4900, device='cuda:0', grad_fn=<NegBackward0>), tensor(-1.5259e-05, device='cuda:0', grad_fn=<AddBackward0>)]\n",
      "tensor(-94.0899, device='cuda:0', grad_fn=<NegBackward0>) [tensor(-47.0449, device='cuda:0', grad_fn=<NegBackward0>), tensor(-47.0449, device='cuda:0', grad_fn=<NegBackward0>), tensor(1.5259e-05, device='cuda:0', grad_fn=<AddBackward0>)]\n",
      "tensor(-94.1286, device='cuda:0', grad_fn=<NegBackward0>) [tensor(-47.0643, device='cuda:0', grad_fn=<NegBackward0>), tensor(-47.0643, device='cuda:0', grad_fn=<NegBackward0>), tensor(-1.5259e-05, device='cuda:0', grad_fn=<AddBackward0>)]\n",
      "tensor(-94.8431, device='cuda:0', grad_fn=<NegBackward0>) [tensor(-47.4216, device='cuda:0', grad_fn=<NegBackward0>), tensor(-47.4216, device='cuda:0', grad_fn=<NegBackward0>), tensor(0., device='cuda:0', grad_fn=<AddBackward0>)]\n",
      "tensor(-95.6503, device='cuda:0', grad_fn=<NegBackward0>) [tensor(-47.8252, device='cuda:0', grad_fn=<NegBackward0>), tensor(-47.8252, device='cuda:0', grad_fn=<NegBackward0>), tensor(0., device='cuda:0', grad_fn=<AddBackward0>)]\n"
     ]
    },
    {
     "name": "stdout",
     "output_type": "stream",
     "text": [
      "tensor(-96.4136, device='cuda:0', grad_fn=<NegBackward0>) [tensor(-48.2068, device='cuda:0', grad_fn=<NegBackward0>), tensor(-48.2068, device='cuda:0', grad_fn=<NegBackward0>), tensor(0., device='cuda:0', grad_fn=<AddBackward0>)]\n",
      "tensor(-97.1244, device='cuda:0', grad_fn=<NegBackward0>) [tensor(-48.5622, device='cuda:0', grad_fn=<NegBackward0>), tensor(-48.5622, device='cuda:0', grad_fn=<NegBackward0>), tensor(0., device='cuda:0', grad_fn=<AddBackward0>)]\n",
      "tensor(-97.8700, device='cuda:0', grad_fn=<NegBackward0>) [tensor(-48.9350, device='cuda:0', grad_fn=<NegBackward0>), tensor(-48.9350, device='cuda:0', grad_fn=<NegBackward0>), tensor(-1.5259e-05, device='cuda:0', grad_fn=<AddBackward0>)]\n",
      "tensor(-98.3218, device='cuda:0', grad_fn=<NegBackward0>) [tensor(-49.1609, device='cuda:0', grad_fn=<NegBackward0>), tensor(-49.1609, device='cuda:0', grad_fn=<NegBackward0>), tensor(-1.5259e-05, device='cuda:0', grad_fn=<AddBackward0>)]\n",
      "tensor(-98.5304, device='cuda:0', grad_fn=<NegBackward0>) [tensor(-49.2652, device='cuda:0', grad_fn=<NegBackward0>), tensor(-49.2652, device='cuda:0', grad_fn=<NegBackward0>), tensor(0., device='cuda:0', grad_fn=<AddBackward0>)]\n",
      "tensor(-98.7051, device='cuda:0', grad_fn=<NegBackward0>) [tensor(-49.3525, device='cuda:0', grad_fn=<NegBackward0>), tensor(-49.3525, device='cuda:0', grad_fn=<NegBackward0>), tensor(-1.5259e-05, device='cuda:0', grad_fn=<AddBackward0>)]\n",
      "tensor(-98.7766, device='cuda:0', grad_fn=<NegBackward0>) [tensor(-49.3883, device='cuda:0', grad_fn=<NegBackward0>), tensor(-49.3883, device='cuda:0', grad_fn=<NegBackward0>), tensor(-1.5259e-05, device='cuda:0', grad_fn=<AddBackward0>)]\n",
      "tensor(-98.7906, device='cuda:0', grad_fn=<NegBackward0>) [tensor(-49.3953, device='cuda:0', grad_fn=<NegBackward0>), tensor(-49.3953, device='cuda:0', grad_fn=<NegBackward0>), tensor(0., device='cuda:0', grad_fn=<AddBackward0>)]\n",
      "tensor(-98.7318, device='cuda:0', grad_fn=<NegBackward0>) [tensor(-49.3659, device='cuda:0', grad_fn=<NegBackward0>), tensor(-49.3659, device='cuda:0', grad_fn=<NegBackward0>), tensor(0., device='cuda:0', grad_fn=<AddBackward0>)]\n",
      "tensor(-98.5916, device='cuda:0', grad_fn=<NegBackward0>) [tensor(-49.2958, device='cuda:0', grad_fn=<NegBackward0>), tensor(-49.2958, device='cuda:0', grad_fn=<NegBackward0>), tensor(0., device='cuda:0', grad_fn=<AddBackward0>)]\n",
      "tensor(-98.4130, device='cuda:0', grad_fn=<NegBackward0>) [tensor(-49.2065, device='cuda:0', grad_fn=<NegBackward0>), tensor(-49.2065, device='cuda:0', grad_fn=<NegBackward0>), tensor(0., device='cuda:0', grad_fn=<AddBackward0>)]\n",
      "tensor(-98.2609, device='cuda:0', grad_fn=<NegBackward0>) [tensor(-49.1304, device='cuda:0', grad_fn=<NegBackward0>), tensor(-49.1304, device='cuda:0', grad_fn=<NegBackward0>), tensor(-1.5259e-05, device='cuda:0', grad_fn=<AddBackward0>)]\n",
      "tensor(-98.3931, device='cuda:0', grad_fn=<NegBackward0>) [tensor(-49.1965, device='cuda:0', grad_fn=<NegBackward0>), tensor(-49.1965, device='cuda:0', grad_fn=<NegBackward0>), tensor(0., device='cuda:0', grad_fn=<AddBackward0>)]\n",
      "tensor(-98.5545, device='cuda:0', grad_fn=<NegBackward0>) [tensor(-49.2772, device='cuda:0', grad_fn=<NegBackward0>), tensor(-49.2772, device='cuda:0', grad_fn=<NegBackward0>), tensor(0., device='cuda:0', grad_fn=<AddBackward0>)]\n",
      "tensor(-98.7319, device='cuda:0', grad_fn=<NegBackward0>) [tensor(-49.3659, device='cuda:0', grad_fn=<NegBackward0>), tensor(-49.3659, device='cuda:0', grad_fn=<NegBackward0>), tensor(0., device='cuda:0', grad_fn=<AddBackward0>)]\n",
      "tensor(-98.6573, device='cuda:0', grad_fn=<NegBackward0>) [tensor(-49.3286, device='cuda:0', grad_fn=<NegBackward0>), tensor(-49.3286, device='cuda:0', grad_fn=<NegBackward0>), tensor(-3.0518e-05, device='cuda:0', grad_fn=<AddBackward0>)]\n",
      "tensor(-98.7475, device='cuda:0', grad_fn=<NegBackward0>) [tensor(-49.3737, device='cuda:0', grad_fn=<NegBackward0>), tensor(-49.3737, device='cuda:0', grad_fn=<NegBackward0>), tensor(0., device='cuda:0', grad_fn=<AddBackward0>)]\n",
      "tensor(-98.5571, device='cuda:0', grad_fn=<NegBackward0>) [tensor(-49.2786, device='cuda:0', grad_fn=<NegBackward0>), tensor(-49.2786, device='cuda:0', grad_fn=<NegBackward0>), tensor(0., device='cuda:0', grad_fn=<AddBackward0>)]\n",
      "tensor(-98.4034, device='cuda:0', grad_fn=<NegBackward0>) [tensor(-49.2017, device='cuda:0', grad_fn=<NegBackward0>), tensor(-49.2017, device='cuda:0', grad_fn=<NegBackward0>), tensor(-1.5259e-05, device='cuda:0', grad_fn=<AddBackward0>)]\n",
      "tensor(-98.4647, device='cuda:0', grad_fn=<NegBackward0>) [tensor(-49.2324, device='cuda:0', grad_fn=<NegBackward0>), tensor(-49.2324, device='cuda:0', grad_fn=<NegBackward0>), tensor(0., device='cuda:0', grad_fn=<AddBackward0>)]\n",
      "tensor(-98.5348, device='cuda:0', grad_fn=<NegBackward0>) [tensor(-49.2674, device='cuda:0', grad_fn=<NegBackward0>), tensor(-49.2674, device='cuda:0', grad_fn=<NegBackward0>), tensor(0., device='cuda:0', grad_fn=<AddBackward0>)]\n",
      "tensor(-98.5016, device='cuda:0', grad_fn=<NegBackward0>) [tensor(-49.2508, device='cuda:0', grad_fn=<NegBackward0>), tensor(-49.2508, device='cuda:0', grad_fn=<NegBackward0>), tensor(0., device='cuda:0', grad_fn=<AddBackward0>)]\n",
      "tensor(-98.4197, device='cuda:0', grad_fn=<NegBackward0>) [tensor(-49.2099, device='cuda:0', grad_fn=<NegBackward0>), tensor(-49.2099, device='cuda:0', grad_fn=<NegBackward0>), tensor(0., device='cuda:0', grad_fn=<AddBackward0>)]\n",
      "tensor(-98.3242, device='cuda:0', grad_fn=<NegBackward0>) [tensor(-49.1621, device='cuda:0', grad_fn=<NegBackward0>), tensor(-49.1621, device='cuda:0', grad_fn=<NegBackward0>), tensor(0., device='cuda:0', grad_fn=<AddBackward0>)]\n",
      "tensor(-98.1320, device='cuda:0', grad_fn=<NegBackward0>) [tensor(-49.0660, device='cuda:0', grad_fn=<NegBackward0>), tensor(-49.0660, device='cuda:0', grad_fn=<NegBackward0>), tensor(0., device='cuda:0', grad_fn=<AddBackward0>)]\n",
      "tensor(-98.0223, device='cuda:0', grad_fn=<NegBackward0>) [tensor(-49.0112, device='cuda:0', grad_fn=<NegBackward0>), tensor(-49.0112, device='cuda:0', grad_fn=<NegBackward0>), tensor(1.5259e-05, device='cuda:0', grad_fn=<AddBackward0>)]\n",
      "tensor(-97.8863, device='cuda:0', grad_fn=<NegBackward0>) [tensor(-48.9431, device='cuda:0', grad_fn=<NegBackward0>), tensor(-48.9431, device='cuda:0', grad_fn=<NegBackward0>), tensor(0., device='cuda:0', grad_fn=<AddBackward0>)]\n",
      "tensor(-98.0542, device='cuda:0', grad_fn=<NegBackward0>) [tensor(-49.0271, device='cuda:0', grad_fn=<NegBackward0>), tensor(-49.0271, device='cuda:0', grad_fn=<NegBackward0>), tensor(0., device='cuda:0', grad_fn=<AddBackward0>)]\n",
      "tensor(-98.1935, device='cuda:0', grad_fn=<NegBackward0>) [tensor(-49.0967, device='cuda:0', grad_fn=<NegBackward0>), tensor(-49.0967, device='cuda:0', grad_fn=<NegBackward0>), tensor(0., device='cuda:0', grad_fn=<AddBackward0>)]\n",
      "tensor(-98.1596, device='cuda:0', grad_fn=<NegBackward0>) [tensor(-49.0798, device='cuda:0', grad_fn=<NegBackward0>), tensor(-49.0798, device='cuda:0', grad_fn=<NegBackward0>), tensor(0., device='cuda:0', grad_fn=<AddBackward0>)]\n",
      "tensor(-98.3353, device='cuda:0', grad_fn=<NegBackward0>) [tensor(-49.1677, device='cuda:0', grad_fn=<NegBackward0>), tensor(-49.1677, device='cuda:0', grad_fn=<NegBackward0>), tensor(0., device='cuda:0', grad_fn=<AddBackward0>)]\n",
      "tensor(-98.4437, device='cuda:0', grad_fn=<NegBackward0>) [tensor(-49.2219, device='cuda:0', grad_fn=<NegBackward0>), tensor(-49.2219, device='cuda:0', grad_fn=<NegBackward0>), tensor(-3.0518e-05, device='cuda:0', grad_fn=<AddBackward0>)]\n",
      "tensor(-98.4800, device='cuda:0', grad_fn=<NegBackward0>) [tensor(-49.2400, device='cuda:0', grad_fn=<NegBackward0>), tensor(-49.2400, device='cuda:0', grad_fn=<NegBackward0>), tensor(0., device='cuda:0', grad_fn=<AddBackward0>)]\n",
      "tensor(-98.6319, device='cuda:0', grad_fn=<NegBackward0>) [tensor(-49.3159, device='cuda:0', grad_fn=<NegBackward0>), tensor(-49.3159, device='cuda:0', grad_fn=<NegBackward0>), tensor(0., device='cuda:0', grad_fn=<AddBackward0>)]\n",
      "tensor(-98.6832, device='cuda:0', grad_fn=<NegBackward0>) [tensor(-49.3416, device='cuda:0', grad_fn=<NegBackward0>), tensor(-49.3416, device='cuda:0', grad_fn=<NegBackward0>), tensor(-1.5259e-05, device='cuda:0', grad_fn=<AddBackward0>)]\n",
      "tensor(-98.5544, device='cuda:0', grad_fn=<NegBackward0>) [tensor(-49.2772, device='cuda:0', grad_fn=<NegBackward0>), tensor(-49.2772, device='cuda:0', grad_fn=<NegBackward0>), tensor(0., device='cuda:0', grad_fn=<AddBackward0>)]\n"
     ]
    },
    {
     "name": "stdout",
     "output_type": "stream",
     "text": [
      "tensor(-98.6231, device='cuda:0', grad_fn=<NegBackward0>) [tensor(-49.3115, device='cuda:0', grad_fn=<NegBackward0>), tensor(-49.3115, device='cuda:0', grad_fn=<NegBackward0>), tensor(0., device='cuda:0', grad_fn=<AddBackward0>)]\n",
      "tensor(-98.4494, device='cuda:0', grad_fn=<NegBackward0>) [tensor(-49.2247, device='cuda:0', grad_fn=<NegBackward0>), tensor(-49.2247, device='cuda:0', grad_fn=<NegBackward0>), tensor(0., device='cuda:0', grad_fn=<AddBackward0>)]\n",
      "tensor(-98.1926, device='cuda:0', grad_fn=<NegBackward0>) [tensor(-49.0963, device='cuda:0', grad_fn=<NegBackward0>), tensor(-49.0963, device='cuda:0', grad_fn=<NegBackward0>), tensor(-1.5259e-05, device='cuda:0', grad_fn=<AddBackward0>)]\n",
      "tensor(-98.1333, device='cuda:0', grad_fn=<NegBackward0>) [tensor(-49.0666, device='cuda:0', grad_fn=<NegBackward0>), tensor(-49.0666, device='cuda:0', grad_fn=<NegBackward0>), tensor(0., device='cuda:0', grad_fn=<AddBackward0>)]\n",
      "tensor(-98.2756, device='cuda:0', grad_fn=<NegBackward0>) [tensor(-49.1378, device='cuda:0', grad_fn=<NegBackward0>), tensor(-49.1378, device='cuda:0', grad_fn=<NegBackward0>), tensor(0., device='cuda:0', grad_fn=<AddBackward0>)]\n",
      "tensor(-98.5935, device='cuda:0', grad_fn=<NegBackward0>) [tensor(-49.2967, device='cuda:0', grad_fn=<NegBackward0>), tensor(-49.2967, device='cuda:0', grad_fn=<NegBackward0>), tensor(0., device='cuda:0', grad_fn=<AddBackward0>)]\n",
      "tensor(-98.6793, device='cuda:0', grad_fn=<NegBackward0>) [tensor(-49.3397, device='cuda:0', grad_fn=<NegBackward0>), tensor(-49.3397, device='cuda:0', grad_fn=<NegBackward0>), tensor(0., device='cuda:0', grad_fn=<AddBackward0>)]\n",
      "tensor(-98.5676, device='cuda:0', grad_fn=<NegBackward0>) [tensor(-49.2838, device='cuda:0', grad_fn=<NegBackward0>), tensor(-49.2838, device='cuda:0', grad_fn=<NegBackward0>), tensor(0., device='cuda:0', grad_fn=<AddBackward0>)]\n",
      "tensor(-98.6985, device='cuda:0', grad_fn=<NegBackward0>) [tensor(-49.3493, device='cuda:0', grad_fn=<NegBackward0>), tensor(-49.3493, device='cuda:0', grad_fn=<NegBackward0>), tensor(0., device='cuda:0', grad_fn=<AddBackward0>)]\n",
      "tensor(-98.7221, device='cuda:0', grad_fn=<NegBackward0>) [tensor(-49.3610, device='cuda:0', grad_fn=<NegBackward0>), tensor(-49.3610, device='cuda:0', grad_fn=<NegBackward0>), tensor(0., device='cuda:0', grad_fn=<AddBackward0>)]\n",
      "tensor(-98.5515, device='cuda:0', grad_fn=<NegBackward0>) [tensor(-49.2757, device='cuda:0', grad_fn=<NegBackward0>), tensor(-49.2757, device='cuda:0', grad_fn=<NegBackward0>), tensor(0., device='cuda:0', grad_fn=<AddBackward0>)]\n",
      "tensor(-98.6068, device='cuda:0', grad_fn=<NegBackward0>) [tensor(-49.3034, device='cuda:0', grad_fn=<NegBackward0>), tensor(-49.3034, device='cuda:0', grad_fn=<NegBackward0>), tensor(1.5259e-05, device='cuda:0', grad_fn=<AddBackward0>)]\n",
      "tensor(-98.4559, device='cuda:0', grad_fn=<NegBackward0>) [tensor(-49.2280, device='cuda:0', grad_fn=<NegBackward0>), tensor(-49.2280, device='cuda:0', grad_fn=<NegBackward0>), tensor(0., device='cuda:0', grad_fn=<AddBackward0>)]\n",
      "tensor(-98.4422, device='cuda:0', grad_fn=<NegBackward0>) [tensor(-49.2211, device='cuda:0', grad_fn=<NegBackward0>), tensor(-49.2211, device='cuda:0', grad_fn=<NegBackward0>), tensor(0., device='cuda:0', grad_fn=<AddBackward0>)]\n",
      "tensor(-98.5325, device='cuda:0', grad_fn=<NegBackward0>) [tensor(-49.2662, device='cuda:0', grad_fn=<NegBackward0>), tensor(-49.2662, device='cuda:0', grad_fn=<NegBackward0>), tensor(-1.5259e-05, device='cuda:0', grad_fn=<AddBackward0>)]\n",
      "tensor(-98.5613, device='cuda:0', grad_fn=<NegBackward0>) [tensor(-49.2807, device='cuda:0', grad_fn=<NegBackward0>), tensor(-49.2807, device='cuda:0', grad_fn=<NegBackward0>), tensor(-1.5259e-05, device='cuda:0', grad_fn=<AddBackward0>)]\n",
      "tensor(-98.6054, device='cuda:0', grad_fn=<NegBackward0>) [tensor(-49.3027, device='cuda:0', grad_fn=<NegBackward0>), tensor(-49.3027, device='cuda:0', grad_fn=<NegBackward0>), tensor(0., device='cuda:0', grad_fn=<AddBackward0>)]\n",
      "tensor(-98.7817, device='cuda:0', grad_fn=<NegBackward0>) [tensor(-49.3909, device='cuda:0', grad_fn=<NegBackward0>), tensor(-49.3909, device='cuda:0', grad_fn=<NegBackward0>), tensor(0., device='cuda:0', grad_fn=<AddBackward0>)]\n",
      "tensor(-98.6932, device='cuda:0', grad_fn=<NegBackward0>) [tensor(-49.3466, device='cuda:0', grad_fn=<NegBackward0>), tensor(-49.3466, device='cuda:0', grad_fn=<NegBackward0>), tensor(1.5259e-05, device='cuda:0', grad_fn=<AddBackward0>)]\n",
      "tensor(-98.4030, device='cuda:0', grad_fn=<NegBackward0>) [tensor(-49.2015, device='cuda:0', grad_fn=<NegBackward0>), tensor(-49.2015, device='cuda:0', grad_fn=<NegBackward0>), tensor(0., device='cuda:0', grad_fn=<AddBackward0>)]\n",
      "tensor(-98.1719, device='cuda:0', grad_fn=<NegBackward0>) [tensor(-49.0859, device='cuda:0', grad_fn=<NegBackward0>), tensor(-49.0859, device='cuda:0', grad_fn=<NegBackward0>), tensor(0., device='cuda:0', grad_fn=<AddBackward0>)]\n",
      "tensor(-97.8123, device='cuda:0', grad_fn=<NegBackward0>) [tensor(-48.9062, device='cuda:0', grad_fn=<NegBackward0>), tensor(-48.9062, device='cuda:0', grad_fn=<NegBackward0>), tensor(0., device='cuda:0', grad_fn=<AddBackward0>)]\n",
      "tensor(-97.1122, device='cuda:0', grad_fn=<NegBackward0>) [tensor(-48.5561, device='cuda:0', grad_fn=<NegBackward0>), tensor(-48.5561, device='cuda:0', grad_fn=<NegBackward0>), tensor(-1.5259e-05, device='cuda:0', grad_fn=<AddBackward0>)]\n",
      "tensor(-95.0634, device='cuda:0', grad_fn=<NegBackward0>) [tensor(-47.5317, device='cuda:0', grad_fn=<NegBackward0>), tensor(-47.5317, device='cuda:0', grad_fn=<NegBackward0>), tensor(0., device='cuda:0', grad_fn=<AddBackward0>)]\n",
      "tensor(-91.2036, device='cuda:0', grad_fn=<NegBackward0>) [tensor(-45.6018, device='cuda:0', grad_fn=<NegBackward0>), tensor(-45.6018, device='cuda:0', grad_fn=<NegBackward0>), tensor(0., device='cuda:0', grad_fn=<AddBackward0>)]\n",
      "tensor(-90.5502, device='cuda:0', grad_fn=<NegBackward0>) [tensor(-45.2751, device='cuda:0', grad_fn=<NegBackward0>), tensor(-45.2751, device='cuda:0', grad_fn=<NegBackward0>), tensor(-3.0518e-05, device='cuda:0', grad_fn=<AddBackward0>)]\n",
      "tensor(-92.8803, device='cuda:0', grad_fn=<NegBackward0>) [tensor(-46.4401, device='cuda:0', grad_fn=<NegBackward0>), tensor(-46.4401, device='cuda:0', grad_fn=<NegBackward0>), tensor(0., device='cuda:0', grad_fn=<AddBackward0>)]\n",
      "tensor(-93.5177, device='cuda:0', grad_fn=<NegBackward0>) [tensor(-46.7588, device='cuda:0', grad_fn=<NegBackward0>), tensor(-46.7588, device='cuda:0', grad_fn=<NegBackward0>), tensor(0., device='cuda:0', grad_fn=<AddBackward0>)]\n",
      "tensor(-93.9483, device='cuda:0', grad_fn=<NegBackward0>) [tensor(-46.9742, device='cuda:0', grad_fn=<NegBackward0>), tensor(-46.9742, device='cuda:0', grad_fn=<NegBackward0>), tensor(0., device='cuda:0', grad_fn=<AddBackward0>)]\n",
      "tensor(-94.9725, device='cuda:0', grad_fn=<NegBackward0>) [tensor(-47.4863, device='cuda:0', grad_fn=<NegBackward0>), tensor(-47.4863, device='cuda:0', grad_fn=<NegBackward0>), tensor(1.5259e-05, device='cuda:0', grad_fn=<AddBackward0>)]\n",
      "tensor(-96.3538, device='cuda:0', grad_fn=<NegBackward0>) [tensor(-48.1769, device='cuda:0', grad_fn=<NegBackward0>), tensor(-48.1769, device='cuda:0', grad_fn=<NegBackward0>), tensor(0., device='cuda:0', grad_fn=<AddBackward0>)]\n",
      "tensor(-97.3799, device='cuda:0', grad_fn=<NegBackward0>) [tensor(-48.6900, device='cuda:0', grad_fn=<NegBackward0>), tensor(-48.6900, device='cuda:0', grad_fn=<NegBackward0>), tensor(0., device='cuda:0', grad_fn=<AddBackward0>)]\n",
      "tensor(-98.0807, device='cuda:0', grad_fn=<NegBackward0>) [tensor(-49.0403, device='cuda:0', grad_fn=<NegBackward0>), tensor(-49.0403, device='cuda:0', grad_fn=<NegBackward0>), tensor(3.0518e-05, device='cuda:0', grad_fn=<AddBackward0>)]\n",
      "tensor(-98.5288, device='cuda:0', grad_fn=<NegBackward0>) [tensor(-49.2644, device='cuda:0', grad_fn=<NegBackward0>), tensor(-49.2644, device='cuda:0', grad_fn=<NegBackward0>), tensor(0., device='cuda:0', grad_fn=<AddBackward0>)]\n",
      "tensor(-98.8838, device='cuda:0', grad_fn=<NegBackward0>) [tensor(-49.4419, device='cuda:0', grad_fn=<NegBackward0>), tensor(-49.4419, device='cuda:0', grad_fn=<NegBackward0>), tensor(3.0518e-05, device='cuda:0', grad_fn=<AddBackward0>)]\n",
      "tensor(-99.0747, device='cuda:0', grad_fn=<NegBackward0>) [tensor(-49.5374, device='cuda:0', grad_fn=<NegBackward0>), tensor(-49.5374, device='cuda:0', grad_fn=<NegBackward0>), tensor(-1.5259e-05, device='cuda:0', grad_fn=<AddBackward0>)]\n"
     ]
    },
    {
     "name": "stdout",
     "output_type": "stream",
     "text": [
      "tensor(-99.0976, device='cuda:0', grad_fn=<NegBackward0>) [tensor(-49.5488, device='cuda:0', grad_fn=<NegBackward0>), tensor(-49.5488, device='cuda:0', grad_fn=<NegBackward0>), tensor(0., device='cuda:0', grad_fn=<AddBackward0>)]\n",
      "tensor(-99.0638, device='cuda:0', grad_fn=<NegBackward0>) [tensor(-49.5319, device='cuda:0', grad_fn=<NegBackward0>), tensor(-49.5319, device='cuda:0', grad_fn=<NegBackward0>), tensor(0., device='cuda:0', grad_fn=<AddBackward0>)]\n",
      "tensor(-98.8530, device='cuda:0', grad_fn=<NegBackward0>) [tensor(-49.4265, device='cuda:0', grad_fn=<NegBackward0>), tensor(-49.4265, device='cuda:0', grad_fn=<NegBackward0>), tensor(0., device='cuda:0', grad_fn=<AddBackward0>)]\n",
      "tensor(-98.7733, device='cuda:0', grad_fn=<NegBackward0>) [tensor(-49.3867, device='cuda:0', grad_fn=<NegBackward0>), tensor(-49.3867, device='cuda:0', grad_fn=<NegBackward0>), tensor(0., device='cuda:0', grad_fn=<AddBackward0>)]\n",
      "tensor(-98.7637, device='cuda:0', grad_fn=<NegBackward0>) [tensor(-49.3818, device='cuda:0', grad_fn=<NegBackward0>), tensor(-49.3818, device='cuda:0', grad_fn=<NegBackward0>), tensor(0., device='cuda:0', grad_fn=<AddBackward0>)]\n",
      "tensor(-98.8219, device='cuda:0', grad_fn=<NegBackward0>) [tensor(-49.4110, device='cuda:0', grad_fn=<NegBackward0>), tensor(-49.4110, device='cuda:0', grad_fn=<NegBackward0>), tensor(-1.5259e-05, device='cuda:0', grad_fn=<AddBackward0>)]\n",
      "tensor(-98.9724, device='cuda:0', grad_fn=<NegBackward0>) [tensor(-49.4862, device='cuda:0', grad_fn=<NegBackward0>), tensor(-49.4862, device='cuda:0', grad_fn=<NegBackward0>), tensor(1.5259e-05, device='cuda:0', grad_fn=<AddBackward0>)]\n",
      "tensor(-99.0847, device='cuda:0', grad_fn=<NegBackward0>) [tensor(-49.5424, device='cuda:0', grad_fn=<NegBackward0>), tensor(-49.5424, device='cuda:0', grad_fn=<NegBackward0>), tensor(3.0518e-05, device='cuda:0', grad_fn=<AddBackward0>)]\n",
      "tensor(-99.0442, device='cuda:0', grad_fn=<NegBackward0>) [tensor(-49.5221, device='cuda:0', grad_fn=<NegBackward0>), tensor(-49.5221, device='cuda:0', grad_fn=<NegBackward0>), tensor(0., device='cuda:0', grad_fn=<AddBackward0>)]\n",
      "tensor(-98.8461, device='cuda:0', grad_fn=<NegBackward0>) [tensor(-49.4231, device='cuda:0', grad_fn=<NegBackward0>), tensor(-49.4231, device='cuda:0', grad_fn=<NegBackward0>), tensor(0., device='cuda:0', grad_fn=<AddBackward0>)]\n",
      "tensor(-98.8716, device='cuda:0', grad_fn=<NegBackward0>) [tensor(-49.4358, device='cuda:0', grad_fn=<NegBackward0>), tensor(-49.4358, device='cuda:0', grad_fn=<NegBackward0>), tensor(0., device='cuda:0', grad_fn=<AddBackward0>)]\n",
      "tensor(-99.1164, device='cuda:0', grad_fn=<NegBackward0>) [tensor(-49.5582, device='cuda:0', grad_fn=<NegBackward0>), tensor(-49.5582, device='cuda:0', grad_fn=<NegBackward0>), tensor(-1.5259e-05, device='cuda:0', grad_fn=<AddBackward0>)]\n",
      "tensor(-99.2346, device='cuda:0', grad_fn=<NegBackward0>) [tensor(-49.6173, device='cuda:0', grad_fn=<NegBackward0>), tensor(-49.6173, device='cuda:0', grad_fn=<NegBackward0>), tensor(0., device='cuda:0', grad_fn=<AddBackward0>)]\n",
      "tensor(-99.0790, device='cuda:0', grad_fn=<NegBackward0>) [tensor(-49.5395, device='cuda:0', grad_fn=<NegBackward0>), tensor(-49.5395, device='cuda:0', grad_fn=<NegBackward0>), tensor(0., device='cuda:0', grad_fn=<AddBackward0>)]\n",
      "tensor(-99.0416, device='cuda:0', grad_fn=<NegBackward0>) [tensor(-49.5208, device='cuda:0', grad_fn=<NegBackward0>), tensor(-49.5208, device='cuda:0', grad_fn=<NegBackward0>), tensor(0., device='cuda:0', grad_fn=<AddBackward0>)]\n",
      "tensor(-98.8904, device='cuda:0', grad_fn=<NegBackward0>) [tensor(-49.4452, device='cuda:0', grad_fn=<NegBackward0>), tensor(-49.4452, device='cuda:0', grad_fn=<NegBackward0>), tensor(0., device='cuda:0', grad_fn=<AddBackward0>)]\n",
      "tensor(-98.7240, device='cuda:0', grad_fn=<NegBackward0>) [tensor(-49.3620, device='cuda:0', grad_fn=<NegBackward0>), tensor(-49.3620, device='cuda:0', grad_fn=<NegBackward0>), tensor(0., device='cuda:0', grad_fn=<AddBackward0>)]\n",
      "tensor(-98.6488, device='cuda:0', grad_fn=<NegBackward0>) [tensor(-49.3244, device='cuda:0', grad_fn=<NegBackward0>), tensor(-49.3244, device='cuda:0', grad_fn=<NegBackward0>), tensor(-1.5259e-05, device='cuda:0', grad_fn=<AddBackward0>)]\n",
      "tensor(-98.9142, device='cuda:0', grad_fn=<NegBackward0>) [tensor(-49.4571, device='cuda:0', grad_fn=<NegBackward0>), tensor(-49.4571, device='cuda:0', grad_fn=<NegBackward0>), tensor(0., device='cuda:0', grad_fn=<AddBackward0>)]\n",
      "tensor(-99.1831, device='cuda:0', grad_fn=<NegBackward0>) [tensor(-49.5915, device='cuda:0', grad_fn=<NegBackward0>), tensor(-49.5915, device='cuda:0', grad_fn=<NegBackward0>), tensor(0., device='cuda:0', grad_fn=<AddBackward0>)]\n",
      "tensor(-99.1367, device='cuda:0', grad_fn=<NegBackward0>) [tensor(-49.5683, device='cuda:0', grad_fn=<NegBackward0>), tensor(-49.5683, device='cuda:0', grad_fn=<NegBackward0>), tensor(0., device='cuda:0', grad_fn=<AddBackward0>)]\n",
      "tensor(-98.9300, device='cuda:0', grad_fn=<NegBackward0>) [tensor(-49.4650, device='cuda:0', grad_fn=<NegBackward0>), tensor(-49.4650, device='cuda:0', grad_fn=<NegBackward0>), tensor(0., device='cuda:0', grad_fn=<AddBackward0>)]\n",
      "tensor(-99.0407, device='cuda:0', grad_fn=<NegBackward0>) [tensor(-49.5203, device='cuda:0', grad_fn=<NegBackward0>), tensor(-49.5203, device='cuda:0', grad_fn=<NegBackward0>), tensor(0., device='cuda:0', grad_fn=<AddBackward0>)]\n",
      "tensor(-99.2232, device='cuda:0', grad_fn=<NegBackward0>) [tensor(-49.6116, device='cuda:0', grad_fn=<NegBackward0>), tensor(-49.6116, device='cuda:0', grad_fn=<NegBackward0>), tensor(0., device='cuda:0', grad_fn=<AddBackward0>)]\n",
      "tensor(-99.3163, device='cuda:0', grad_fn=<NegBackward0>) [tensor(-49.6581, device='cuda:0', grad_fn=<NegBackward0>), tensor(-49.6581, device='cuda:0', grad_fn=<NegBackward0>), tensor(-1.5259e-05, device='cuda:0', grad_fn=<AddBackward0>)]\n",
      "tensor(-99.3615, device='cuda:0', grad_fn=<NegBackward0>) [tensor(-49.6808, device='cuda:0', grad_fn=<NegBackward0>), tensor(-49.6808, device='cuda:0', grad_fn=<NegBackward0>), tensor(-1.5259e-05, device='cuda:0', grad_fn=<AddBackward0>)]\n",
      "tensor(-99.4338, device='cuda:0', grad_fn=<NegBackward0>) [tensor(-49.7169, device='cuda:0', grad_fn=<NegBackward0>), tensor(-49.7169, device='cuda:0', grad_fn=<NegBackward0>), tensor(-1.5259e-05, device='cuda:0', grad_fn=<AddBackward0>)]\n",
      "tensor(-99.3832, device='cuda:0', grad_fn=<NegBackward0>) [tensor(-49.6916, device='cuda:0', grad_fn=<NegBackward0>), tensor(-49.6916, device='cuda:0', grad_fn=<NegBackward0>), tensor(-1.5259e-05, device='cuda:0', grad_fn=<AddBackward0>)]\n",
      "tensor(-99.2182, device='cuda:0', grad_fn=<NegBackward0>) [tensor(-49.6091, device='cuda:0', grad_fn=<NegBackward0>), tensor(-49.6091, device='cuda:0', grad_fn=<NegBackward0>), tensor(-3.0518e-05, device='cuda:0', grad_fn=<AddBackward0>)]\n",
      "tensor(-99.0744, device='cuda:0', grad_fn=<NegBackward0>) [tensor(-49.5372, device='cuda:0', grad_fn=<NegBackward0>), tensor(-49.5372, device='cuda:0', grad_fn=<NegBackward0>), tensor(1.5259e-05, device='cuda:0', grad_fn=<AddBackward0>)]\n",
      "tensor(-99.0018, device='cuda:0', grad_fn=<NegBackward0>) [tensor(-49.5009, device='cuda:0', grad_fn=<NegBackward0>), tensor(-49.5009, device='cuda:0', grad_fn=<NegBackward0>), tensor(0., device='cuda:0', grad_fn=<AddBackward0>)]\n",
      "tensor(-99.1970, device='cuda:0', grad_fn=<NegBackward0>) [tensor(-49.5985, device='cuda:0', grad_fn=<NegBackward0>), tensor(-49.5985, device='cuda:0', grad_fn=<NegBackward0>), tensor(1.5259e-05, device='cuda:0', grad_fn=<AddBackward0>)]\n",
      "tensor(-99.2657, device='cuda:0', grad_fn=<NegBackward0>) [tensor(-49.6329, device='cuda:0', grad_fn=<NegBackward0>), tensor(-49.6329, device='cuda:0', grad_fn=<NegBackward0>), tensor(0., device='cuda:0', grad_fn=<AddBackward0>)]\n",
      "tensor(-99.1518, device='cuda:0', grad_fn=<NegBackward0>) [tensor(-49.5759, device='cuda:0', grad_fn=<NegBackward0>), tensor(-49.5759, device='cuda:0', grad_fn=<NegBackward0>), tensor(-1.5259e-05, device='cuda:0', grad_fn=<AddBackward0>)]\n",
      "tensor(-98.7044, device='cuda:0', grad_fn=<NegBackward0>) [tensor(-49.3522, device='cuda:0', grad_fn=<NegBackward0>), tensor(-49.3522, device='cuda:0', grad_fn=<NegBackward0>), tensor(0., device='cuda:0', grad_fn=<AddBackward0>)]\n",
      "tensor(-98.6259, device='cuda:0', grad_fn=<NegBackward0>) [tensor(-49.3129, device='cuda:0', grad_fn=<NegBackward0>), tensor(-49.3129, device='cuda:0', grad_fn=<NegBackward0>), tensor(-1.5259e-05, device='cuda:0', grad_fn=<AddBackward0>)]\n",
      "tensor(-98.9063, device='cuda:0', grad_fn=<NegBackward0>) [tensor(-49.4532, device='cuda:0', grad_fn=<NegBackward0>), tensor(-49.4532, device='cuda:0', grad_fn=<NegBackward0>), tensor(0., device='cuda:0', grad_fn=<AddBackward0>)]\n"
     ]
    },
    {
     "name": "stdout",
     "output_type": "stream",
     "text": [
      "tensor(-99.2065, device='cuda:0', grad_fn=<NegBackward0>) [tensor(-49.6032, device='cuda:0', grad_fn=<NegBackward0>), tensor(-49.6032, device='cuda:0', grad_fn=<NegBackward0>), tensor(-1.5259e-05, device='cuda:0', grad_fn=<AddBackward0>)]\n",
      "tensor(-99.5047, device='cuda:0', grad_fn=<NegBackward0>) [tensor(-49.7523, device='cuda:0', grad_fn=<NegBackward0>), tensor(-49.7523, device='cuda:0', grad_fn=<NegBackward0>), tensor(0., device='cuda:0', grad_fn=<AddBackward0>)]\n",
      "tensor(-99.3839, device='cuda:0', grad_fn=<NegBackward0>) [tensor(-49.6919, device='cuda:0', grad_fn=<NegBackward0>), tensor(-49.6919, device='cuda:0', grad_fn=<NegBackward0>), tensor(-1.5259e-05, device='cuda:0', grad_fn=<AddBackward0>)]\n",
      "tensor(-99.3467, device='cuda:0', grad_fn=<NegBackward0>) [tensor(-49.6733, device='cuda:0', grad_fn=<NegBackward0>), tensor(-49.6733, device='cuda:0', grad_fn=<NegBackward0>), tensor(0., device='cuda:0', grad_fn=<AddBackward0>)]\n",
      "tensor(-99.0316, device='cuda:0', grad_fn=<NegBackward0>) [tensor(-49.5158, device='cuda:0', grad_fn=<NegBackward0>), tensor(-49.5158, device='cuda:0', grad_fn=<NegBackward0>), tensor(0., device='cuda:0', grad_fn=<AddBackward0>)]\n",
      "tensor(-98.9924, device='cuda:0', grad_fn=<NegBackward0>) [tensor(-49.4962, device='cuda:0', grad_fn=<NegBackward0>), tensor(-49.4962, device='cuda:0', grad_fn=<NegBackward0>), tensor(0., device='cuda:0', grad_fn=<AddBackward0>)]\n",
      "tensor(-98.7869, device='cuda:0', grad_fn=<NegBackward0>) [tensor(-49.3934, device='cuda:0', grad_fn=<NegBackward0>), tensor(-49.3934, device='cuda:0', grad_fn=<NegBackward0>), tensor(0., device='cuda:0', grad_fn=<AddBackward0>)]\n",
      "tensor(-98.7612, device='cuda:0', grad_fn=<NegBackward0>) [tensor(-49.3806, device='cuda:0', grad_fn=<NegBackward0>), tensor(-49.3806, device='cuda:0', grad_fn=<NegBackward0>), tensor(0., device='cuda:0', grad_fn=<AddBackward0>)]\n",
      "tensor(-98.8915, device='cuda:0', grad_fn=<NegBackward0>) [tensor(-49.4458, device='cuda:0', grad_fn=<NegBackward0>), tensor(-49.4458, device='cuda:0', grad_fn=<NegBackward0>), tensor(0., device='cuda:0', grad_fn=<AddBackward0>)]\n",
      "tensor(-98.7778, device='cuda:0', grad_fn=<NegBackward0>) [tensor(-49.3889, device='cuda:0', grad_fn=<NegBackward0>), tensor(-49.3889, device='cuda:0', grad_fn=<NegBackward0>), tensor(0., device='cuda:0', grad_fn=<AddBackward0>)]\n",
      "tensor(-98.0080, device='cuda:0', grad_fn=<NegBackward0>) [tensor(-49.0040, device='cuda:0', grad_fn=<NegBackward0>), tensor(-49.0040, device='cuda:0', grad_fn=<NegBackward0>), tensor(1.5259e-05, device='cuda:0', grad_fn=<AddBackward0>)]\n",
      "tensor(-97.2285, device='cuda:0', grad_fn=<NegBackward0>) [tensor(-48.6142, device='cuda:0', grad_fn=<NegBackward0>), tensor(-48.6142, device='cuda:0', grad_fn=<NegBackward0>), tensor(0., device='cuda:0', grad_fn=<AddBackward0>)]\n",
      "tensor(-96.2914, device='cuda:0', grad_fn=<NegBackward0>) [tensor(-48.1457, device='cuda:0', grad_fn=<NegBackward0>), tensor(-48.1457, device='cuda:0', grad_fn=<NegBackward0>), tensor(1.5259e-05, device='cuda:0', grad_fn=<AddBackward0>)]\n",
      "tensor(-94.5903, device='cuda:0', grad_fn=<NegBackward0>) [tensor(-47.2952, device='cuda:0', grad_fn=<NegBackward0>), tensor(-47.2952, device='cuda:0', grad_fn=<NegBackward0>), tensor(0., device='cuda:0', grad_fn=<AddBackward0>)]\n",
      "tensor(-92.5337, device='cuda:0', grad_fn=<NegBackward0>) [tensor(-46.2668, device='cuda:0', grad_fn=<NegBackward0>), tensor(-46.2668, device='cuda:0', grad_fn=<NegBackward0>), tensor(1.5259e-05, device='cuda:0', grad_fn=<AddBackward0>)]\n",
      "tensor(-93.4931, device='cuda:0', grad_fn=<NegBackward0>) [tensor(-46.7466, device='cuda:0', grad_fn=<NegBackward0>), tensor(-46.7466, device='cuda:0', grad_fn=<NegBackward0>), tensor(0., device='cuda:0', grad_fn=<AddBackward0>)]\n",
      "tensor(-93.7884, device='cuda:0', grad_fn=<NegBackward0>) [tensor(-46.8942, device='cuda:0', grad_fn=<NegBackward0>), tensor(-46.8942, device='cuda:0', grad_fn=<NegBackward0>), tensor(0., device='cuda:0', grad_fn=<AddBackward0>)]\n",
      "tensor(-93.3540, device='cuda:0', grad_fn=<NegBackward0>) [tensor(-46.6770, device='cuda:0', grad_fn=<NegBackward0>), tensor(-46.6770, device='cuda:0', grad_fn=<NegBackward0>), tensor(1.5259e-05, device='cuda:0', grad_fn=<AddBackward0>)]\n",
      "tensor(-94.3902, device='cuda:0', grad_fn=<NegBackward0>) [tensor(-47.1951, device='cuda:0', grad_fn=<NegBackward0>), tensor(-47.1951, device='cuda:0', grad_fn=<NegBackward0>), tensor(1.5259e-05, device='cuda:0', grad_fn=<AddBackward0>)]\n",
      "tensor(-94.8796, device='cuda:0', grad_fn=<NegBackward0>) [tensor(-47.4398, device='cuda:0', grad_fn=<NegBackward0>), tensor(-47.4398, device='cuda:0', grad_fn=<NegBackward0>), tensor(0., device='cuda:0', grad_fn=<AddBackward0>)]\n",
      "tensor(-95.7471, device='cuda:0', grad_fn=<NegBackward0>) [tensor(-47.8735, device='cuda:0', grad_fn=<NegBackward0>), tensor(-47.8735, device='cuda:0', grad_fn=<NegBackward0>), tensor(0., device='cuda:0', grad_fn=<AddBackward0>)]\n",
      "tensor(-96.7268, device='cuda:0', grad_fn=<NegBackward0>) [tensor(-48.3634, device='cuda:0', grad_fn=<NegBackward0>), tensor(-48.3634, device='cuda:0', grad_fn=<NegBackward0>), tensor(0., device='cuda:0', grad_fn=<AddBackward0>)]\n",
      "tensor(-97.6898, device='cuda:0', grad_fn=<NegBackward0>) [tensor(-48.8449, device='cuda:0', grad_fn=<NegBackward0>), tensor(-48.8449, device='cuda:0', grad_fn=<NegBackward0>), tensor(3.0518e-05, device='cuda:0', grad_fn=<AddBackward0>)]\n",
      "tensor(-98.5163, device='cuda:0', grad_fn=<NegBackward0>) [tensor(-49.2581, device='cuda:0', grad_fn=<NegBackward0>), tensor(-49.2581, device='cuda:0', grad_fn=<NegBackward0>), tensor(0., device='cuda:0', grad_fn=<AddBackward0>)]\n",
      "tensor(-98.9864, device='cuda:0', grad_fn=<NegBackward0>) [tensor(-49.4932, device='cuda:0', grad_fn=<NegBackward0>), tensor(-49.4932, device='cuda:0', grad_fn=<NegBackward0>), tensor(0., device='cuda:0', grad_fn=<AddBackward0>)]\n",
      "tensor(-99.2939, device='cuda:0', grad_fn=<NegBackward0>) [tensor(-49.6469, device='cuda:0', grad_fn=<NegBackward0>), tensor(-49.6469, device='cuda:0', grad_fn=<NegBackward0>), tensor(-1.5259e-05, device='cuda:0', grad_fn=<AddBackward0>)]\n",
      "tensor(-99.5011, device='cuda:0', grad_fn=<NegBackward0>) [tensor(-49.7505, device='cuda:0', grad_fn=<NegBackward0>), tensor(-49.7505, device='cuda:0', grad_fn=<NegBackward0>), tensor(0., device='cuda:0', grad_fn=<AddBackward0>)]\n",
      "tensor(-99.6303, device='cuda:0', grad_fn=<NegBackward0>) [tensor(-49.8152, device='cuda:0', grad_fn=<NegBackward0>), tensor(-49.8152, device='cuda:0', grad_fn=<NegBackward0>), tensor(0., device='cuda:0', grad_fn=<AddBackward0>)]\n",
      "tensor(-99.6962, device='cuda:0', grad_fn=<NegBackward0>) [tensor(-49.8481, device='cuda:0', grad_fn=<NegBackward0>), tensor(-49.8481, device='cuda:0', grad_fn=<NegBackward0>), tensor(-3.0518e-05, device='cuda:0', grad_fn=<AddBackward0>)]\n",
      "tensor(-99.6849, device='cuda:0', grad_fn=<NegBackward0>) [tensor(-49.8424, device='cuda:0', grad_fn=<NegBackward0>), tensor(-49.8424, device='cuda:0', grad_fn=<NegBackward0>), tensor(0., device='cuda:0', grad_fn=<AddBackward0>)]\n",
      "tensor(-99.6446, device='cuda:0', grad_fn=<NegBackward0>) [tensor(-49.8223, device='cuda:0', grad_fn=<NegBackward0>), tensor(-49.8223, device='cuda:0', grad_fn=<NegBackward0>), tensor(0., device='cuda:0', grad_fn=<AddBackward0>)]\n",
      "tensor(-99.5365, device='cuda:0', grad_fn=<NegBackward0>) [tensor(-49.7683, device='cuda:0', grad_fn=<NegBackward0>), tensor(-49.7683, device='cuda:0', grad_fn=<NegBackward0>), tensor(0., device='cuda:0', grad_fn=<AddBackward0>)]\n",
      "tensor(-99.5007, device='cuda:0', grad_fn=<NegBackward0>) [tensor(-49.7504, device='cuda:0', grad_fn=<NegBackward0>), tensor(-49.7504, device='cuda:0', grad_fn=<NegBackward0>), tensor(0., device='cuda:0', grad_fn=<AddBackward0>)]\n",
      "tensor(-99.4991, device='cuda:0', grad_fn=<NegBackward0>) [tensor(-49.7495, device='cuda:0', grad_fn=<NegBackward0>), tensor(-49.7495, device='cuda:0', grad_fn=<NegBackward0>), tensor(0., device='cuda:0', grad_fn=<AddBackward0>)]\n",
      "tensor(-99.5890, device='cuda:0', grad_fn=<NegBackward0>) [tensor(-49.7945, device='cuda:0', grad_fn=<NegBackward0>), tensor(-49.7945, device='cuda:0', grad_fn=<NegBackward0>), tensor(-1.5259e-05, device='cuda:0', grad_fn=<AddBackward0>)]\n",
      "tensor(-99.6808, device='cuda:0', grad_fn=<NegBackward0>) [tensor(-49.8404, device='cuda:0', grad_fn=<NegBackward0>), tensor(-49.8404, device='cuda:0', grad_fn=<NegBackward0>), tensor(0., device='cuda:0', grad_fn=<AddBackward0>)]\n"
     ]
    },
    {
     "name": "stdout",
     "output_type": "stream",
     "text": [
      "tensor(-99.7274, device='cuda:0', grad_fn=<NegBackward0>) [tensor(-49.8637, device='cuda:0', grad_fn=<NegBackward0>), tensor(-49.8637, device='cuda:0', grad_fn=<NegBackward0>), tensor(0., device='cuda:0', grad_fn=<AddBackward0>)]\n",
      "tensor(-99.6804, device='cuda:0', grad_fn=<NegBackward0>) [tensor(-49.8402, device='cuda:0', grad_fn=<NegBackward0>), tensor(-49.8402, device='cuda:0', grad_fn=<NegBackward0>), tensor(0., device='cuda:0', grad_fn=<AddBackward0>)]\n",
      "tensor(-99.6274, device='cuda:0', grad_fn=<NegBackward0>) [tensor(-49.8137, device='cuda:0', grad_fn=<NegBackward0>), tensor(-49.8137, device='cuda:0', grad_fn=<NegBackward0>), tensor(0., device='cuda:0', grad_fn=<AddBackward0>)]\n",
      "tensor(-99.5561, device='cuda:0', grad_fn=<NegBackward0>) [tensor(-49.7780, device='cuda:0', grad_fn=<NegBackward0>), tensor(-49.7780, device='cuda:0', grad_fn=<NegBackward0>), tensor(0., device='cuda:0', grad_fn=<AddBackward0>)]\n",
      "tensor(-99.6287, device='cuda:0', grad_fn=<NegBackward0>) [tensor(-49.8144, device='cuda:0', grad_fn=<NegBackward0>), tensor(-49.8144, device='cuda:0', grad_fn=<NegBackward0>), tensor(3.0518e-05, device='cuda:0', grad_fn=<AddBackward0>)]\n",
      "tensor(-99.6789, device='cuda:0', grad_fn=<NegBackward0>) [tensor(-49.8394, device='cuda:0', grad_fn=<NegBackward0>), tensor(-49.8394, device='cuda:0', grad_fn=<NegBackward0>), tensor(0., device='cuda:0', grad_fn=<AddBackward0>)]\n",
      "tensor(-99.6470, device='cuda:0', grad_fn=<NegBackward0>) [tensor(-49.8235, device='cuda:0', grad_fn=<NegBackward0>), tensor(-49.8235, device='cuda:0', grad_fn=<NegBackward0>), tensor(0., device='cuda:0', grad_fn=<AddBackward0>)]\n",
      "tensor(-99.5398, device='cuda:0', grad_fn=<NegBackward0>) [tensor(-49.7699, device='cuda:0', grad_fn=<NegBackward0>), tensor(-49.7699, device='cuda:0', grad_fn=<NegBackward0>), tensor(0., device='cuda:0', grad_fn=<AddBackward0>)]\n",
      "tensor(-99.6257, device='cuda:0', grad_fn=<NegBackward0>) [tensor(-49.8128, device='cuda:0', grad_fn=<NegBackward0>), tensor(-49.8128, device='cuda:0', grad_fn=<NegBackward0>), tensor(-1.5259e-05, device='cuda:0', grad_fn=<AddBackward0>)]\n",
      "tensor(-99.6200, device='cuda:0', grad_fn=<NegBackward0>) [tensor(-49.8100, device='cuda:0', grad_fn=<NegBackward0>), tensor(-49.8100, device='cuda:0', grad_fn=<NegBackward0>), tensor(0., device='cuda:0', grad_fn=<AddBackward0>)]\n",
      "tensor(-99.5639, device='cuda:0', grad_fn=<NegBackward0>) [tensor(-49.7820, device='cuda:0', grad_fn=<NegBackward0>), tensor(-49.7820, device='cuda:0', grad_fn=<NegBackward0>), tensor(3.0518e-05, device='cuda:0', grad_fn=<AddBackward0>)]\n",
      "tensor(-99.6003, device='cuda:0', grad_fn=<NegBackward0>) [tensor(-49.8001, device='cuda:0', grad_fn=<NegBackward0>), tensor(-49.8001, device='cuda:0', grad_fn=<NegBackward0>), tensor(0., device='cuda:0', grad_fn=<AddBackward0>)]\n",
      "tensor(-99.6282, device='cuda:0', grad_fn=<NegBackward0>) [tensor(-49.8141, device='cuda:0', grad_fn=<NegBackward0>), tensor(-49.8141, device='cuda:0', grad_fn=<NegBackward0>), tensor(0., device='cuda:0', grad_fn=<AddBackward0>)]\n",
      "tensor(-99.7193, device='cuda:0', grad_fn=<NegBackward0>) [tensor(-49.8597, device='cuda:0', grad_fn=<NegBackward0>), tensor(-49.8597, device='cuda:0', grad_fn=<NegBackward0>), tensor(1.5259e-05, device='cuda:0', grad_fn=<AddBackward0>)]\n",
      "tensor(-99.6761, device='cuda:0', grad_fn=<NegBackward0>) [tensor(-49.8381, device='cuda:0', grad_fn=<NegBackward0>), tensor(-49.8381, device='cuda:0', grad_fn=<NegBackward0>), tensor(1.5259e-05, device='cuda:0', grad_fn=<AddBackward0>)]\n",
      "tensor(-99.7501, device='cuda:0', grad_fn=<NegBackward0>) [tensor(-49.8750, device='cuda:0', grad_fn=<NegBackward0>), tensor(-49.8750, device='cuda:0', grad_fn=<NegBackward0>), tensor(0., device='cuda:0', grad_fn=<AddBackward0>)]\n",
      "tensor(-99.6945, device='cuda:0', grad_fn=<NegBackward0>) [tensor(-49.8473, device='cuda:0', grad_fn=<NegBackward0>), tensor(-49.8473, device='cuda:0', grad_fn=<NegBackward0>), tensor(1.5259e-05, device='cuda:0', grad_fn=<AddBackward0>)]\n",
      "tensor(-99.5991, device='cuda:0', grad_fn=<NegBackward0>) [tensor(-49.7995, device='cuda:0', grad_fn=<NegBackward0>), tensor(-49.7995, device='cuda:0', grad_fn=<NegBackward0>), tensor(-1.5259e-05, device='cuda:0', grad_fn=<AddBackward0>)]\n",
      "tensor(-99.4276, device='cuda:0', grad_fn=<NegBackward0>) [tensor(-49.7138, device='cuda:0', grad_fn=<NegBackward0>), tensor(-49.7138, device='cuda:0', grad_fn=<NegBackward0>), tensor(0., device='cuda:0', grad_fn=<AddBackward0>)]\n",
      "tensor(-99.5374, device='cuda:0', grad_fn=<NegBackward0>) [tensor(-49.7687, device='cuda:0', grad_fn=<NegBackward0>), tensor(-49.7687, device='cuda:0', grad_fn=<NegBackward0>), tensor(0., device='cuda:0', grad_fn=<AddBackward0>)]\n",
      "tensor(-99.6834, device='cuda:0', grad_fn=<NegBackward0>) [tensor(-49.8417, device='cuda:0', grad_fn=<NegBackward0>), tensor(-49.8417, device='cuda:0', grad_fn=<NegBackward0>), tensor(0., device='cuda:0', grad_fn=<AddBackward0>)]\n",
      "tensor(-99.7484, device='cuda:0', grad_fn=<NegBackward0>) [tensor(-49.8742, device='cuda:0', grad_fn=<NegBackward0>), tensor(-49.8742, device='cuda:0', grad_fn=<NegBackward0>), tensor(0., device='cuda:0', grad_fn=<AddBackward0>)]\n",
      "tensor(-99.8596, device='cuda:0', grad_fn=<NegBackward0>) [tensor(-49.9298, device='cuda:0', grad_fn=<NegBackward0>), tensor(-49.9298, device='cuda:0', grad_fn=<NegBackward0>), tensor(1.5259e-05, device='cuda:0', grad_fn=<AddBackward0>)]\n",
      "tensor(-99.7668, device='cuda:0', grad_fn=<NegBackward0>) [tensor(-49.8834, device='cuda:0', grad_fn=<NegBackward0>), tensor(-49.8834, device='cuda:0', grad_fn=<NegBackward0>), tensor(0., device='cuda:0', grad_fn=<AddBackward0>)]\n",
      "tensor(-99.7817, device='cuda:0', grad_fn=<NegBackward0>) [tensor(-49.8909, device='cuda:0', grad_fn=<NegBackward0>), tensor(-49.8909, device='cuda:0', grad_fn=<NegBackward0>), tensor(0., device='cuda:0', grad_fn=<AddBackward0>)]\n",
      "tensor(-99.6798, device='cuda:0', grad_fn=<NegBackward0>) [tensor(-49.8399, device='cuda:0', grad_fn=<NegBackward0>), tensor(-49.8399, device='cuda:0', grad_fn=<NegBackward0>), tensor(0., device='cuda:0', grad_fn=<AddBackward0>)]\n",
      "tensor(-99.6164, device='cuda:0', grad_fn=<NegBackward0>) [tensor(-49.8082, device='cuda:0', grad_fn=<NegBackward0>), tensor(-49.8082, device='cuda:0', grad_fn=<NegBackward0>), tensor(-1.5259e-05, device='cuda:0', grad_fn=<AddBackward0>)]\n",
      "tensor(-99.4238, device='cuda:0', grad_fn=<NegBackward0>) [tensor(-49.7119, device='cuda:0', grad_fn=<NegBackward0>), tensor(-49.7119, device='cuda:0', grad_fn=<NegBackward0>), tensor(0., device='cuda:0', grad_fn=<AddBackward0>)]\n",
      "tensor(-99.5020, device='cuda:0', grad_fn=<NegBackward0>) [tensor(-49.7510, device='cuda:0', grad_fn=<NegBackward0>), tensor(-49.7510, device='cuda:0', grad_fn=<NegBackward0>), tensor(0., device='cuda:0', grad_fn=<AddBackward0>)]\n",
      "tensor(-99.4582, device='cuda:0', grad_fn=<NegBackward0>) [tensor(-49.7291, device='cuda:0', grad_fn=<NegBackward0>), tensor(-49.7291, device='cuda:0', grad_fn=<NegBackward0>), tensor(0., device='cuda:0', grad_fn=<AddBackward0>)]\n",
      "tensor(-99.3446, device='cuda:0', grad_fn=<NegBackward0>) [tensor(-49.6723, device='cuda:0', grad_fn=<NegBackward0>), tensor(-49.6723, device='cuda:0', grad_fn=<NegBackward0>), tensor(0., device='cuda:0', grad_fn=<AddBackward0>)]\n",
      "tensor(-99.5316, device='cuda:0', grad_fn=<NegBackward0>) [tensor(-49.7658, device='cuda:0', grad_fn=<NegBackward0>), tensor(-49.7658, device='cuda:0', grad_fn=<NegBackward0>), tensor(0., device='cuda:0', grad_fn=<AddBackward0>)]\n",
      "tensor(-99.6821, device='cuda:0', grad_fn=<NegBackward0>) [tensor(-49.8411, device='cuda:0', grad_fn=<NegBackward0>), tensor(-49.8411, device='cuda:0', grad_fn=<NegBackward0>), tensor(1.5259e-05, device='cuda:0', grad_fn=<AddBackward0>)]\n",
      "tensor(-99.6992, device='cuda:0', grad_fn=<NegBackward0>) [tensor(-49.8496, device='cuda:0', grad_fn=<NegBackward0>), tensor(-49.8496, device='cuda:0', grad_fn=<NegBackward0>), tensor(-1.5259e-05, device='cuda:0', grad_fn=<AddBackward0>)]\n",
      "tensor(-99.7578, device='cuda:0', grad_fn=<NegBackward0>) [tensor(-49.8789, device='cuda:0', grad_fn=<NegBackward0>), tensor(-49.8789, device='cuda:0', grad_fn=<NegBackward0>), tensor(1.5259e-05, device='cuda:0', grad_fn=<AddBackward0>)]\n",
      "tensor(-99.6839, device='cuda:0', grad_fn=<NegBackward0>) [tensor(-49.8419, device='cuda:0', grad_fn=<NegBackward0>), tensor(-49.8419, device='cuda:0', grad_fn=<NegBackward0>), tensor(0., device='cuda:0', grad_fn=<AddBackward0>)]\n"
     ]
    },
    {
     "name": "stdout",
     "output_type": "stream",
     "text": [
      "tensor(-99.6393, device='cuda:0', grad_fn=<NegBackward0>) [tensor(-49.8196, device='cuda:0', grad_fn=<NegBackward0>), tensor(-49.8196, device='cuda:0', grad_fn=<NegBackward0>), tensor(-1.5259e-05, device='cuda:0', grad_fn=<AddBackward0>)]\n",
      "tensor(-99.5644, device='cuda:0', grad_fn=<NegBackward0>) [tensor(-49.7822, device='cuda:0', grad_fn=<NegBackward0>), tensor(-49.7822, device='cuda:0', grad_fn=<NegBackward0>), tensor(0., device='cuda:0', grad_fn=<AddBackward0>)]\n",
      "tensor(-99.7375, device='cuda:0', grad_fn=<NegBackward0>) [tensor(-49.8688, device='cuda:0', grad_fn=<NegBackward0>), tensor(-49.8688, device='cuda:0', grad_fn=<NegBackward0>), tensor(-1.5259e-05, device='cuda:0', grad_fn=<AddBackward0>)]\n",
      "tensor(-99.7738, device='cuda:0', grad_fn=<NegBackward0>) [tensor(-49.8869, device='cuda:0', grad_fn=<NegBackward0>), tensor(-49.8869, device='cuda:0', grad_fn=<NegBackward0>), tensor(0., device='cuda:0', grad_fn=<AddBackward0>)]\n",
      "tensor(-99.7255, device='cuda:0', grad_fn=<NegBackward0>) [tensor(-49.8627, device='cuda:0', grad_fn=<NegBackward0>), tensor(-49.8627, device='cuda:0', grad_fn=<NegBackward0>), tensor(-1.5259e-05, device='cuda:0', grad_fn=<AddBackward0>)]\n",
      "tensor(-99.5338, device='cuda:0', grad_fn=<NegBackward0>) [tensor(-49.7669, device='cuda:0', grad_fn=<NegBackward0>), tensor(-49.7669, device='cuda:0', grad_fn=<NegBackward0>), tensor(0., device='cuda:0', grad_fn=<AddBackward0>)]\n",
      "tensor(-99.6642, device='cuda:0', grad_fn=<NegBackward0>) [tensor(-49.8321, device='cuda:0', grad_fn=<NegBackward0>), tensor(-49.8321, device='cuda:0', grad_fn=<NegBackward0>), tensor(1.5259e-05, device='cuda:0', grad_fn=<AddBackward0>)]\n",
      "tensor(-99.4667, device='cuda:0', grad_fn=<NegBackward0>) [tensor(-49.7334, device='cuda:0', grad_fn=<NegBackward0>), tensor(-49.7334, device='cuda:0', grad_fn=<NegBackward0>), tensor(0., device='cuda:0', grad_fn=<AddBackward0>)]\n",
      "tensor(-99.4806, device='cuda:0', grad_fn=<NegBackward0>) [tensor(-49.7403, device='cuda:0', grad_fn=<NegBackward0>), tensor(-49.7403, device='cuda:0', grad_fn=<NegBackward0>), tensor(-1.5259e-05, device='cuda:0', grad_fn=<AddBackward0>)]\n",
      "tensor(-99.0714, device='cuda:0', grad_fn=<NegBackward0>) [tensor(-49.5357, device='cuda:0', grad_fn=<NegBackward0>), tensor(-49.5357, device='cuda:0', grad_fn=<NegBackward0>), tensor(0., device='cuda:0', grad_fn=<AddBackward0>)]\n",
      "tensor(-99.1076, device='cuda:0', grad_fn=<NegBackward0>) [tensor(-49.5538, device='cuda:0', grad_fn=<NegBackward0>), tensor(-49.5538, device='cuda:0', grad_fn=<NegBackward0>), tensor(1.5259e-05, device='cuda:0', grad_fn=<AddBackward0>)]\n",
      "tensor(-98.0247, device='cuda:0', grad_fn=<NegBackward0>) [tensor(-49.0123, device='cuda:0', grad_fn=<NegBackward0>), tensor(-49.0123, device='cuda:0', grad_fn=<NegBackward0>), tensor(0., device='cuda:0', grad_fn=<AddBackward0>)]\n",
      "tensor(-96.4494, device='cuda:0', grad_fn=<NegBackward0>) [tensor(-48.2247, device='cuda:0', grad_fn=<NegBackward0>), tensor(-48.2247, device='cuda:0', grad_fn=<NegBackward0>), tensor(0., device='cuda:0', grad_fn=<AddBackward0>)]\n",
      "tensor(-93.7566, device='cuda:0', grad_fn=<NegBackward0>) [tensor(-46.8783, device='cuda:0', grad_fn=<NegBackward0>), tensor(-46.8783, device='cuda:0', grad_fn=<NegBackward0>), tensor(0., device='cuda:0', grad_fn=<AddBackward0>)]\n",
      "tensor(-93.3063, device='cuda:0', grad_fn=<NegBackward0>) [tensor(-46.6532, device='cuda:0', grad_fn=<NegBackward0>), tensor(-46.6532, device='cuda:0', grad_fn=<NegBackward0>), tensor(0., device='cuda:0', grad_fn=<AddBackward0>)]\n",
      "tensor(-94.6974, device='cuda:0', grad_fn=<NegBackward0>) [tensor(-47.3487, device='cuda:0', grad_fn=<NegBackward0>), tensor(-47.3487, device='cuda:0', grad_fn=<NegBackward0>), tensor(-1.5259e-05, device='cuda:0', grad_fn=<AddBackward0>)]\n",
      "tensor(-95.0731, device='cuda:0', grad_fn=<NegBackward0>) [tensor(-47.5366, device='cuda:0', grad_fn=<NegBackward0>), tensor(-47.5366, device='cuda:0', grad_fn=<NegBackward0>), tensor(0., device='cuda:0', grad_fn=<AddBackward0>)]\n",
      "tensor(-96.1758, device='cuda:0', grad_fn=<NegBackward0>) [tensor(-48.0879, device='cuda:0', grad_fn=<NegBackward0>), tensor(-48.0879, device='cuda:0', grad_fn=<NegBackward0>), tensor(1.5259e-05, device='cuda:0', grad_fn=<AddBackward0>)]\n",
      "tensor(-97.5885, device='cuda:0', grad_fn=<NegBackward0>) [tensor(-48.7943, device='cuda:0', grad_fn=<NegBackward0>), tensor(-48.7943, device='cuda:0', grad_fn=<NegBackward0>), tensor(0., device='cuda:0', grad_fn=<AddBackward0>)]\n",
      "tensor(-98.6440, device='cuda:0', grad_fn=<NegBackward0>) [tensor(-49.3220, device='cuda:0', grad_fn=<NegBackward0>), tensor(-49.3220, device='cuda:0', grad_fn=<NegBackward0>), tensor(0., device='cuda:0', grad_fn=<AddBackward0>)]\n",
      "tensor(-99.2969, device='cuda:0', grad_fn=<NegBackward0>) [tensor(-49.6485, device='cuda:0', grad_fn=<NegBackward0>), tensor(-49.6485, device='cuda:0', grad_fn=<NegBackward0>), tensor(-1.5259e-05, device='cuda:0', grad_fn=<AddBackward0>)]\n",
      "tensor(-99.5737, device='cuda:0', grad_fn=<NegBackward0>) [tensor(-49.7868, device='cuda:0', grad_fn=<NegBackward0>), tensor(-49.7868, device='cuda:0', grad_fn=<NegBackward0>), tensor(1.5259e-05, device='cuda:0', grad_fn=<AddBackward0>)]\n",
      "tensor(-99.7983, device='cuda:0', grad_fn=<NegBackward0>) [tensor(-49.8992, device='cuda:0', grad_fn=<NegBackward0>), tensor(-49.8992, device='cuda:0', grad_fn=<NegBackward0>), tensor(0., device='cuda:0', grad_fn=<AddBackward0>)]\n",
      "tensor(-99.9398, device='cuda:0', grad_fn=<NegBackward0>) [tensor(-49.9699, device='cuda:0', grad_fn=<NegBackward0>), tensor(-49.9699, device='cuda:0', grad_fn=<NegBackward0>), tensor(0., device='cuda:0', grad_fn=<AddBackward0>)]\n",
      "tensor(-99.9862, device='cuda:0', grad_fn=<NegBackward0>) [tensor(-49.9931, device='cuda:0', grad_fn=<NegBackward0>), tensor(-49.9931, device='cuda:0', grad_fn=<NegBackward0>), tensor(0., device='cuda:0', grad_fn=<AddBackward0>)]\n",
      "tensor(-99.9651, device='cuda:0', grad_fn=<NegBackward0>) [tensor(-49.9826, device='cuda:0', grad_fn=<NegBackward0>), tensor(-49.9826, device='cuda:0', grad_fn=<NegBackward0>), tensor(0., device='cuda:0', grad_fn=<AddBackward0>)]\n",
      "tensor(-99.9568, device='cuda:0', grad_fn=<NegBackward0>) [tensor(-49.9784, device='cuda:0', grad_fn=<NegBackward0>), tensor(-49.9784, device='cuda:0', grad_fn=<NegBackward0>), tensor(0., device='cuda:0', grad_fn=<AddBackward0>)]\n",
      "tensor(-99.9146, device='cuda:0', grad_fn=<NegBackward0>) [tensor(-49.9573, device='cuda:0', grad_fn=<NegBackward0>), tensor(-49.9573, device='cuda:0', grad_fn=<NegBackward0>), tensor(0., device='cuda:0', grad_fn=<AddBackward0>)]\n",
      "tensor(-99.9352, device='cuda:0', grad_fn=<NegBackward0>) [tensor(-49.9676, device='cuda:0', grad_fn=<NegBackward0>), tensor(-49.9676, device='cuda:0', grad_fn=<NegBackward0>), tensor(0., device='cuda:0', grad_fn=<AddBackward0>)]\n",
      "tensor(-99.9601, device='cuda:0', grad_fn=<NegBackward0>) [tensor(-49.9801, device='cuda:0', grad_fn=<NegBackward0>), tensor(-49.9801, device='cuda:0', grad_fn=<NegBackward0>), tensor(0., device='cuda:0', grad_fn=<AddBackward0>)]\n",
      "tensor(-100.0156, device='cuda:0', grad_fn=<NegBackward0>) [tensor(-50.0078, device='cuda:0', grad_fn=<NegBackward0>), tensor(-50.0078, device='cuda:0', grad_fn=<NegBackward0>), tensor(1.5259e-05, device='cuda:0', grad_fn=<AddBackward0>)]\n",
      "tensor(-100.0504, device='cuda:0', grad_fn=<NegBackward0>) [tensor(-50.0252, device='cuda:0', grad_fn=<NegBackward0>), tensor(-50.0252, device='cuda:0', grad_fn=<NegBackward0>), tensor(0., device='cuda:0', grad_fn=<AddBackward0>)]\n",
      "tensor(-100.0623, device='cuda:0', grad_fn=<NegBackward0>) [tensor(-50.0311, device='cuda:0', grad_fn=<NegBackward0>), tensor(-50.0311, device='cuda:0', grad_fn=<NegBackward0>), tensor(0., device='cuda:0', grad_fn=<AddBackward0>)]\n",
      "tensor(-100.0415, device='cuda:0', grad_fn=<NegBackward0>) [tensor(-50.0208, device='cuda:0', grad_fn=<NegBackward0>), tensor(-50.0208, device='cuda:0', grad_fn=<NegBackward0>), tensor(0., device='cuda:0', grad_fn=<AddBackward0>)]\n",
      "tensor(-99.9793, device='cuda:0', grad_fn=<NegBackward0>) [tensor(-49.9896, device='cuda:0', grad_fn=<NegBackward0>), tensor(-49.9896, device='cuda:0', grad_fn=<NegBackward0>), tensor(0., device='cuda:0', grad_fn=<AddBackward0>)]\n",
      "tensor(-99.9600, device='cuda:0', grad_fn=<NegBackward0>) [tensor(-49.9800, device='cuda:0', grad_fn=<NegBackward0>), tensor(-49.9800, device='cuda:0', grad_fn=<NegBackward0>), tensor(0., device='cuda:0', grad_fn=<AddBackward0>)]\n"
     ]
    },
    {
     "name": "stdout",
     "output_type": "stream",
     "text": [
      "tensor(-99.9161, device='cuda:0', grad_fn=<NegBackward0>) [tensor(-49.9581, device='cuda:0', grad_fn=<NegBackward0>), tensor(-49.9581, device='cuda:0', grad_fn=<NegBackward0>), tensor(0., device='cuda:0', grad_fn=<AddBackward0>)]\n",
      "tensor(-99.9362, device='cuda:0', grad_fn=<NegBackward0>) [tensor(-49.9681, device='cuda:0', grad_fn=<NegBackward0>), tensor(-49.9681, device='cuda:0', grad_fn=<NegBackward0>), tensor(0., device='cuda:0', grad_fn=<AddBackward0>)]\n",
      "tensor(-99.9409, device='cuda:0', grad_fn=<NegBackward0>) [tensor(-49.9705, device='cuda:0', grad_fn=<NegBackward0>), tensor(-49.9705, device='cuda:0', grad_fn=<NegBackward0>), tensor(-1.5259e-05, device='cuda:0', grad_fn=<AddBackward0>)]\n",
      "tensor(-99.9679, device='cuda:0', grad_fn=<NegBackward0>) [tensor(-49.9839, device='cuda:0', grad_fn=<NegBackward0>), tensor(-49.9839, device='cuda:0', grad_fn=<NegBackward0>), tensor(0., device='cuda:0', grad_fn=<AddBackward0>)]\n",
      "tensor(-99.9515, device='cuda:0', grad_fn=<NegBackward0>) [tensor(-49.9757, device='cuda:0', grad_fn=<NegBackward0>), tensor(-49.9757, device='cuda:0', grad_fn=<NegBackward0>), tensor(-3.0518e-05, device='cuda:0', grad_fn=<AddBackward0>)]\n",
      "tensor(-99.9944, device='cuda:0', grad_fn=<NegBackward0>) [tensor(-49.9972, device='cuda:0', grad_fn=<NegBackward0>), tensor(-49.9972, device='cuda:0', grad_fn=<NegBackward0>), tensor(-1.5259e-05, device='cuda:0', grad_fn=<AddBackward0>)]\n",
      "tensor(-99.9745, device='cuda:0', grad_fn=<NegBackward0>) [tensor(-49.9873, device='cuda:0', grad_fn=<NegBackward0>), tensor(-49.9873, device='cuda:0', grad_fn=<NegBackward0>), tensor(-1.5259e-05, device='cuda:0', grad_fn=<AddBackward0>)]\n",
      "tensor(-99.9643, device='cuda:0', grad_fn=<NegBackward0>) [tensor(-49.9822, device='cuda:0', grad_fn=<NegBackward0>), tensor(-49.9822, device='cuda:0', grad_fn=<NegBackward0>), tensor(1.5259e-05, device='cuda:0', grad_fn=<AddBackward0>)]\n",
      "tensor(-99.8830, device='cuda:0', grad_fn=<NegBackward0>) [tensor(-49.9415, device='cuda:0', grad_fn=<NegBackward0>), tensor(-49.9415, device='cuda:0', grad_fn=<NegBackward0>), tensor(1.5259e-05, device='cuda:0', grad_fn=<AddBackward0>)]\n",
      "tensor(-100.0269, device='cuda:0', grad_fn=<NegBackward0>) [tensor(-50.0134, device='cuda:0', grad_fn=<NegBackward0>), tensor(-50.0134, device='cuda:0', grad_fn=<NegBackward0>), tensor(0., device='cuda:0', grad_fn=<AddBackward0>)]\n",
      "tensor(-100.0791, device='cuda:0', grad_fn=<NegBackward0>) [tensor(-50.0396, device='cuda:0', grad_fn=<NegBackward0>), tensor(-50.0396, device='cuda:0', grad_fn=<NegBackward0>), tensor(0., device='cuda:0', grad_fn=<AddBackward0>)]\n",
      "tensor(-100.0815, device='cuda:0', grad_fn=<NegBackward0>) [tensor(-50.0407, device='cuda:0', grad_fn=<NegBackward0>), tensor(-50.0407, device='cuda:0', grad_fn=<NegBackward0>), tensor(-3.0518e-05, device='cuda:0', grad_fn=<AddBackward0>)]\n",
      "tensor(-100.0328, device='cuda:0', grad_fn=<NegBackward0>) [tensor(-50.0164, device='cuda:0', grad_fn=<NegBackward0>), tensor(-50.0164, device='cuda:0', grad_fn=<NegBackward0>), tensor(3.0518e-05, device='cuda:0', grad_fn=<AddBackward0>)]\n",
      "tensor(-99.9955, device='cuda:0', grad_fn=<NegBackward0>) [tensor(-49.9978, device='cuda:0', grad_fn=<NegBackward0>), tensor(-49.9978, device='cuda:0', grad_fn=<NegBackward0>), tensor(-1.5259e-05, device='cuda:0', grad_fn=<AddBackward0>)]\n",
      "tensor(-99.8859, device='cuda:0', grad_fn=<NegBackward0>) [tensor(-49.9429, device='cuda:0', grad_fn=<NegBackward0>), tensor(-49.9429, device='cuda:0', grad_fn=<NegBackward0>), tensor(3.0518e-05, device='cuda:0', grad_fn=<AddBackward0>)]\n",
      "tensor(-99.9404, device='cuda:0', grad_fn=<NegBackward0>) [tensor(-49.9702, device='cuda:0', grad_fn=<NegBackward0>), tensor(-49.9702, device='cuda:0', grad_fn=<NegBackward0>), tensor(1.5259e-05, device='cuda:0', grad_fn=<AddBackward0>)]\n",
      "tensor(-99.9001, device='cuda:0', grad_fn=<NegBackward0>) [tensor(-49.9500, device='cuda:0', grad_fn=<NegBackward0>), tensor(-49.9500, device='cuda:0', grad_fn=<NegBackward0>), tensor(0., device='cuda:0', grad_fn=<AddBackward0>)]\n",
      "tensor(-99.9709, device='cuda:0', grad_fn=<NegBackward0>) [tensor(-49.9855, device='cuda:0', grad_fn=<NegBackward0>), tensor(-49.9855, device='cuda:0', grad_fn=<NegBackward0>), tensor(0., device='cuda:0', grad_fn=<AddBackward0>)]\n",
      "tensor(-99.9222, device='cuda:0', grad_fn=<NegBackward0>) [tensor(-49.9611, device='cuda:0', grad_fn=<NegBackward0>), tensor(-49.9611, device='cuda:0', grad_fn=<NegBackward0>), tensor(0., device='cuda:0', grad_fn=<AddBackward0>)]\n",
      "tensor(-99.9748, device='cuda:0', grad_fn=<NegBackward0>) [tensor(-49.9874, device='cuda:0', grad_fn=<NegBackward0>), tensor(-49.9874, device='cuda:0', grad_fn=<NegBackward0>), tensor(-1.5259e-05, device='cuda:0', grad_fn=<AddBackward0>)]\n",
      "tensor(-99.9340, device='cuda:0', grad_fn=<NegBackward0>) [tensor(-49.9670, device='cuda:0', grad_fn=<NegBackward0>), tensor(-49.9670, device='cuda:0', grad_fn=<NegBackward0>), tensor(-3.0518e-05, device='cuda:0', grad_fn=<AddBackward0>)]\n",
      "tensor(-99.9424, device='cuda:0', grad_fn=<NegBackward0>) [tensor(-49.9712, device='cuda:0', grad_fn=<NegBackward0>), tensor(-49.9712, device='cuda:0', grad_fn=<NegBackward0>), tensor(0., device='cuda:0', grad_fn=<AddBackward0>)]\n",
      "tensor(-99.9192, device='cuda:0', grad_fn=<NegBackward0>) [tensor(-49.9596, device='cuda:0', grad_fn=<NegBackward0>), tensor(-49.9596, device='cuda:0', grad_fn=<NegBackward0>), tensor(0., device='cuda:0', grad_fn=<AddBackward0>)]\n",
      "tensor(-99.9192, device='cuda:0', grad_fn=<NegBackward0>) [tensor(-49.9596, device='cuda:0', grad_fn=<NegBackward0>), tensor(-49.9596, device='cuda:0', grad_fn=<NegBackward0>), tensor(1.5259e-05, device='cuda:0', grad_fn=<AddBackward0>)]\n",
      "tensor(-99.8751, device='cuda:0', grad_fn=<NegBackward0>) [tensor(-49.9375, device='cuda:0', grad_fn=<NegBackward0>), tensor(-49.9375, device='cuda:0', grad_fn=<NegBackward0>), tensor(0., device='cuda:0', grad_fn=<AddBackward0>)]\n",
      "tensor(-99.8005, device='cuda:0', grad_fn=<NegBackward0>) [tensor(-49.9002, device='cuda:0', grad_fn=<NegBackward0>), tensor(-49.9002, device='cuda:0', grad_fn=<NegBackward0>), tensor(3.0518e-05, device='cuda:0', grad_fn=<AddBackward0>)]\n",
      "tensor(-99.6416, device='cuda:0', grad_fn=<NegBackward0>) [tensor(-49.8208, device='cuda:0', grad_fn=<NegBackward0>), tensor(-49.8208, device='cuda:0', grad_fn=<NegBackward0>), tensor(0., device='cuda:0', grad_fn=<AddBackward0>)]\n",
      "tensor(-99.6151, device='cuda:0', grad_fn=<NegBackward0>) [tensor(-49.8076, device='cuda:0', grad_fn=<NegBackward0>), tensor(-49.8076, device='cuda:0', grad_fn=<NegBackward0>), tensor(1.5259e-05, device='cuda:0', grad_fn=<AddBackward0>)]\n",
      "tensor(-99.7438, device='cuda:0', grad_fn=<NegBackward0>) [tensor(-49.8719, device='cuda:0', grad_fn=<NegBackward0>), tensor(-49.8719, device='cuda:0', grad_fn=<NegBackward0>), tensor(3.0518e-05, device='cuda:0', grad_fn=<AddBackward0>)]\n",
      "tensor(-99.9108, device='cuda:0', grad_fn=<NegBackward0>) [tensor(-49.9554, device='cuda:0', grad_fn=<NegBackward0>), tensor(-49.9554, device='cuda:0', grad_fn=<NegBackward0>), tensor(3.0518e-05, device='cuda:0', grad_fn=<AddBackward0>)]\n",
      "tensor(-99.9655, device='cuda:0', grad_fn=<NegBackward0>) [tensor(-49.9828, device='cuda:0', grad_fn=<NegBackward0>), tensor(-49.9828, device='cuda:0', grad_fn=<NegBackward0>), tensor(0., device='cuda:0', grad_fn=<AddBackward0>)]\n",
      "tensor(-99.8526, device='cuda:0', grad_fn=<NegBackward0>) [tensor(-49.9263, device='cuda:0', grad_fn=<NegBackward0>), tensor(-49.9263, device='cuda:0', grad_fn=<NegBackward0>), tensor(1.5259e-05, device='cuda:0', grad_fn=<AddBackward0>)]\n",
      "tensor(-99.8626, device='cuda:0', grad_fn=<NegBackward0>) [tensor(-49.9313, device='cuda:0', grad_fn=<NegBackward0>), tensor(-49.9313, device='cuda:0', grad_fn=<NegBackward0>), tensor(-3.0518e-05, device='cuda:0', grad_fn=<AddBackward0>)]\n",
      "tensor(-99.9192, device='cuda:0', grad_fn=<NegBackward0>) [tensor(-49.9596, device='cuda:0', grad_fn=<NegBackward0>), tensor(-49.9596, device='cuda:0', grad_fn=<NegBackward0>), tensor(0., device='cuda:0', grad_fn=<AddBackward0>)]\n",
      "tensor(-100.0231, device='cuda:0', grad_fn=<NegBackward0>) [tensor(-50.0116, device='cuda:0', grad_fn=<NegBackward0>), tensor(-50.0116, device='cuda:0', grad_fn=<NegBackward0>), tensor(0., device='cuda:0', grad_fn=<AddBackward0>)]\n",
      "tensor(-100.0163, device='cuda:0', grad_fn=<NegBackward0>) [tensor(-50.0082, device='cuda:0', grad_fn=<NegBackward0>), tensor(-50.0082, device='cuda:0', grad_fn=<NegBackward0>), tensor(0., device='cuda:0', grad_fn=<AddBackward0>)]\n"
     ]
    },
    {
     "name": "stdout",
     "output_type": "stream",
     "text": [
      "tensor(-99.9797, device='cuda:0', grad_fn=<NegBackward0>) [tensor(-49.9899, device='cuda:0', grad_fn=<NegBackward0>), tensor(-49.9899, device='cuda:0', grad_fn=<NegBackward0>), tensor(-1.5259e-05, device='cuda:0', grad_fn=<AddBackward0>)]\n",
      "tensor(-99.9076, device='cuda:0', grad_fn=<NegBackward0>) [tensor(-49.9538, device='cuda:0', grad_fn=<NegBackward0>), tensor(-49.9538, device='cuda:0', grad_fn=<NegBackward0>), tensor(0., device='cuda:0', grad_fn=<AddBackward0>)]\n",
      "tensor(-99.8855, device='cuda:0', grad_fn=<NegBackward0>) [tensor(-49.9428, device='cuda:0', grad_fn=<NegBackward0>), tensor(-49.9428, device='cuda:0', grad_fn=<NegBackward0>), tensor(1.5259e-05, device='cuda:0', grad_fn=<AddBackward0>)]\n",
      "tensor(-99.8761, device='cuda:0', grad_fn=<NegBackward0>) [tensor(-49.9380, device='cuda:0', grad_fn=<NegBackward0>), tensor(-49.9380, device='cuda:0', grad_fn=<NegBackward0>), tensor(1.5259e-05, device='cuda:0', grad_fn=<AddBackward0>)]\n",
      "tensor(-99.9245, device='cuda:0', grad_fn=<NegBackward0>) [tensor(-49.9623, device='cuda:0', grad_fn=<NegBackward0>), tensor(-49.9623, device='cuda:0', grad_fn=<NegBackward0>), tensor(0., device='cuda:0', grad_fn=<AddBackward0>)]\n",
      "tensor(-99.9687, device='cuda:0', grad_fn=<NegBackward0>) [tensor(-49.9844, device='cuda:0', grad_fn=<NegBackward0>), tensor(-49.9844, device='cuda:0', grad_fn=<NegBackward0>), tensor(0., device='cuda:0', grad_fn=<AddBackward0>)]\n",
      "tensor(-99.9858, device='cuda:0', grad_fn=<NegBackward0>) [tensor(-49.9929, device='cuda:0', grad_fn=<NegBackward0>), tensor(-49.9929, device='cuda:0', grad_fn=<NegBackward0>), tensor(0., device='cuda:0', grad_fn=<AddBackward0>)]\n",
      "tensor(-99.9594, device='cuda:0', grad_fn=<NegBackward0>) [tensor(-49.9797, device='cuda:0', grad_fn=<NegBackward0>), tensor(-49.9797, device='cuda:0', grad_fn=<NegBackward0>), tensor(0., device='cuda:0', grad_fn=<AddBackward0>)]\n",
      "tensor(-99.9151, device='cuda:0', grad_fn=<NegBackward0>) [tensor(-49.9576, device='cuda:0', grad_fn=<NegBackward0>), tensor(-49.9576, device='cuda:0', grad_fn=<NegBackward0>), tensor(0., device='cuda:0', grad_fn=<AddBackward0>)]\n",
      "tensor(-99.8211, device='cuda:0', grad_fn=<NegBackward0>) [tensor(-49.9106, device='cuda:0', grad_fn=<NegBackward0>), tensor(-49.9106, device='cuda:0', grad_fn=<NegBackward0>), tensor(0., device='cuda:0', grad_fn=<AddBackward0>)]\n",
      "tensor(-99.8264, device='cuda:0', grad_fn=<NegBackward0>) [tensor(-49.9132, device='cuda:0', grad_fn=<NegBackward0>), tensor(-49.9132, device='cuda:0', grad_fn=<NegBackward0>), tensor(-1.5259e-05, device='cuda:0', grad_fn=<AddBackward0>)]\n",
      "tensor(-99.7016, device='cuda:0', grad_fn=<NegBackward0>) [tensor(-49.8508, device='cuda:0', grad_fn=<NegBackward0>), tensor(-49.8508, device='cuda:0', grad_fn=<NegBackward0>), tensor(0., device='cuda:0', grad_fn=<AddBackward0>)]\n",
      "tensor(-99.7451, device='cuda:0', grad_fn=<NegBackward0>) [tensor(-49.8726, device='cuda:0', grad_fn=<NegBackward0>), tensor(-49.8726, device='cuda:0', grad_fn=<NegBackward0>), tensor(-1.5259e-05, device='cuda:0', grad_fn=<AddBackward0>)]\n",
      "tensor(-99.7473, device='cuda:0', grad_fn=<NegBackward0>) [tensor(-49.8737, device='cuda:0', grad_fn=<NegBackward0>), tensor(-49.8737, device='cuda:0', grad_fn=<NegBackward0>), tensor(1.5259e-05, device='cuda:0', grad_fn=<AddBackward0>)]\n",
      "tensor(-99.8208, device='cuda:0', grad_fn=<NegBackward0>) [tensor(-49.9104, device='cuda:0', grad_fn=<NegBackward0>), tensor(-49.9104, device='cuda:0', grad_fn=<NegBackward0>), tensor(1.5259e-05, device='cuda:0', grad_fn=<AddBackward0>)]\n",
      "tensor(-99.8758, device='cuda:0', grad_fn=<NegBackward0>) [tensor(-49.9379, device='cuda:0', grad_fn=<NegBackward0>), tensor(-49.9379, device='cuda:0', grad_fn=<NegBackward0>), tensor(0., device='cuda:0', grad_fn=<AddBackward0>)]\n",
      "tensor(-99.8569, device='cuda:0', grad_fn=<NegBackward0>) [tensor(-49.9285, device='cuda:0', grad_fn=<NegBackward0>), tensor(-49.9285, device='cuda:0', grad_fn=<NegBackward0>), tensor(0., device='cuda:0', grad_fn=<AddBackward0>)]\n",
      "tensor(-99.9402, device='cuda:0', grad_fn=<NegBackward0>) [tensor(-49.9701, device='cuda:0', grad_fn=<NegBackward0>), tensor(-49.9701, device='cuda:0', grad_fn=<NegBackward0>), tensor(0., device='cuda:0', grad_fn=<AddBackward0>)]\n",
      "tensor(-99.9485, device='cuda:0', grad_fn=<NegBackward0>) [tensor(-49.9743, device='cuda:0', grad_fn=<NegBackward0>), tensor(-49.9743, device='cuda:0', grad_fn=<NegBackward0>), tensor(0., device='cuda:0', grad_fn=<AddBackward0>)]\n",
      "tensor(-100.0270, device='cuda:0', grad_fn=<NegBackward0>) [tensor(-50.0135, device='cuda:0', grad_fn=<NegBackward0>), tensor(-50.0135, device='cuda:0', grad_fn=<NegBackward0>), tensor(1.5259e-05, device='cuda:0', grad_fn=<AddBackward0>)]\n",
      "tensor(-99.9522, device='cuda:0', grad_fn=<NegBackward0>) [tensor(-49.9761, device='cuda:0', grad_fn=<NegBackward0>), tensor(-49.9761, device='cuda:0', grad_fn=<NegBackward0>), tensor(0., device='cuda:0', grad_fn=<AddBackward0>)]\n",
      "tensor(-99.9753, device='cuda:0', grad_fn=<NegBackward0>) [tensor(-49.9876, device='cuda:0', grad_fn=<NegBackward0>), tensor(-49.9876, device='cuda:0', grad_fn=<NegBackward0>), tensor(0., device='cuda:0', grad_fn=<AddBackward0>)]\n",
      "tensor(-99.8627, device='cuda:0', grad_fn=<NegBackward0>) [tensor(-49.9313, device='cuda:0', grad_fn=<NegBackward0>), tensor(-49.9313, device='cuda:0', grad_fn=<NegBackward0>), tensor(0., device='cuda:0', grad_fn=<AddBackward0>)]\n",
      "tensor(-99.8549, device='cuda:0', grad_fn=<NegBackward0>) [tensor(-49.9275, device='cuda:0', grad_fn=<NegBackward0>), tensor(-49.9275, device='cuda:0', grad_fn=<NegBackward0>), tensor(0., device='cuda:0', grad_fn=<AddBackward0>)]\n",
      "tensor(-99.8608, device='cuda:0', grad_fn=<NegBackward0>) [tensor(-49.9304, device='cuda:0', grad_fn=<NegBackward0>), tensor(-49.9304, device='cuda:0', grad_fn=<NegBackward0>), tensor(-1.5259e-05, device='cuda:0', grad_fn=<AddBackward0>)]\n",
      "tensor(-99.9304, device='cuda:0', grad_fn=<NegBackward0>) [tensor(-49.9652, device='cuda:0', grad_fn=<NegBackward0>), tensor(-49.9652, device='cuda:0', grad_fn=<NegBackward0>), tensor(0., device='cuda:0', grad_fn=<AddBackward0>)]\n",
      "tensor(-100.0623, device='cuda:0', grad_fn=<NegBackward0>) [tensor(-50.0311, device='cuda:0', grad_fn=<NegBackward0>), tensor(-50.0311, device='cuda:0', grad_fn=<NegBackward0>), tensor(0., device='cuda:0', grad_fn=<AddBackward0>)]\n",
      "tensor(-100.0495, device='cuda:0', grad_fn=<NegBackward0>) [tensor(-50.0247, device='cuda:0', grad_fn=<NegBackward0>), tensor(-50.0247, device='cuda:0', grad_fn=<NegBackward0>), tensor(0., device='cuda:0', grad_fn=<AddBackward0>)]\n",
      "tensor(-99.9316, device='cuda:0', grad_fn=<NegBackward0>) [tensor(-49.9658, device='cuda:0', grad_fn=<NegBackward0>), tensor(-49.9658, device='cuda:0', grad_fn=<NegBackward0>), tensor(-1.5259e-05, device='cuda:0', grad_fn=<AddBackward0>)]\n",
      "tensor(-99.9305, device='cuda:0', grad_fn=<NegBackward0>) [tensor(-49.9652, device='cuda:0', grad_fn=<NegBackward0>), tensor(-49.9652, device='cuda:0', grad_fn=<NegBackward0>), tensor(0., device='cuda:0', grad_fn=<AddBackward0>)]\n",
      "tensor(-99.8366, device='cuda:0', grad_fn=<NegBackward0>) [tensor(-49.9183, device='cuda:0', grad_fn=<NegBackward0>), tensor(-49.9183, device='cuda:0', grad_fn=<NegBackward0>), tensor(0., device='cuda:0', grad_fn=<AddBackward0>)]\n",
      "tensor(-99.9188, device='cuda:0', grad_fn=<NegBackward0>) [tensor(-49.9594, device='cuda:0', grad_fn=<NegBackward0>), tensor(-49.9594, device='cuda:0', grad_fn=<NegBackward0>), tensor(-1.5259e-05, device='cuda:0', grad_fn=<AddBackward0>)]\n",
      "tensor(-99.8871, device='cuda:0', grad_fn=<NegBackward0>) [tensor(-49.9435, device='cuda:0', grad_fn=<NegBackward0>), tensor(-49.9435, device='cuda:0', grad_fn=<NegBackward0>), tensor(-3.0518e-05, device='cuda:0', grad_fn=<AddBackward0>)]\n",
      "tensor(-99.9545, device='cuda:0', grad_fn=<NegBackward0>) [tensor(-49.9772, device='cuda:0', grad_fn=<NegBackward0>), tensor(-49.9772, device='cuda:0', grad_fn=<NegBackward0>), tensor(0., device='cuda:0', grad_fn=<AddBackward0>)]\n",
      "tensor(-100.0571, device='cuda:0', grad_fn=<NegBackward0>) [tensor(-50.0285, device='cuda:0', grad_fn=<NegBackward0>), tensor(-50.0285, device='cuda:0', grad_fn=<NegBackward0>), tensor(0., device='cuda:0', grad_fn=<AddBackward0>)]\n",
      "tensor(-100.2045, device='cuda:0', grad_fn=<NegBackward0>) [tensor(-50.1022, device='cuda:0', grad_fn=<NegBackward0>), tensor(-50.1022, device='cuda:0', grad_fn=<NegBackward0>), tensor(0., device='cuda:0', grad_fn=<AddBackward0>)]\n"
     ]
    },
    {
     "name": "stdout",
     "output_type": "stream",
     "text": [
      "tensor(-100.2172, device='cuda:0', grad_fn=<NegBackward0>) [tensor(-50.1086, device='cuda:0', grad_fn=<NegBackward0>), tensor(-50.1086, device='cuda:0', grad_fn=<NegBackward0>), tensor(0., device='cuda:0', grad_fn=<AddBackward0>)]\n",
      "tensor(-100.0907, device='cuda:0', grad_fn=<NegBackward0>) [tensor(-50.0454, device='cuda:0', grad_fn=<NegBackward0>), tensor(-50.0454, device='cuda:0', grad_fn=<NegBackward0>), tensor(1.5259e-05, device='cuda:0', grad_fn=<AddBackward0>)]\n",
      "tensor(-99.7802, device='cuda:0', grad_fn=<NegBackward0>) [tensor(-49.8901, device='cuda:0', grad_fn=<NegBackward0>), tensor(-49.8901, device='cuda:0', grad_fn=<NegBackward0>), tensor(0., device='cuda:0', grad_fn=<AddBackward0>)]\n",
      "tensor(-99.2611, device='cuda:0', grad_fn=<NegBackward0>) [tensor(-49.6305, device='cuda:0', grad_fn=<NegBackward0>), tensor(-49.6305, device='cuda:0', grad_fn=<NegBackward0>), tensor(0., device='cuda:0', grad_fn=<AddBackward0>)]\n",
      "tensor(-98.8749, device='cuda:0', grad_fn=<NegBackward0>) [tensor(-49.4374, device='cuda:0', grad_fn=<NegBackward0>), tensor(-49.4374, device='cuda:0', grad_fn=<NegBackward0>), tensor(-3.0518e-05, device='cuda:0', grad_fn=<AddBackward0>)]\n",
      "tensor(-98.9684, device='cuda:0', grad_fn=<NegBackward0>) [tensor(-49.4842, device='cuda:0', grad_fn=<NegBackward0>), tensor(-49.4842, device='cuda:0', grad_fn=<NegBackward0>), tensor(0., device='cuda:0', grad_fn=<AddBackward0>)]\n",
      "tensor(-99.1550, device='cuda:0', grad_fn=<NegBackward0>) [tensor(-49.5775, device='cuda:0', grad_fn=<NegBackward0>), tensor(-49.5775, device='cuda:0', grad_fn=<NegBackward0>), tensor(0., device='cuda:0', grad_fn=<AddBackward0>)]\n",
      "tensor(-99.2516, device='cuda:0', grad_fn=<NegBackward0>) [tensor(-49.6258, device='cuda:0', grad_fn=<NegBackward0>), tensor(-49.6258, device='cuda:0', grad_fn=<NegBackward0>), tensor(0., device='cuda:0', grad_fn=<AddBackward0>)]\n",
      "tensor(-99.5285, device='cuda:0', grad_fn=<NegBackward0>) [tensor(-49.7643, device='cuda:0', grad_fn=<NegBackward0>), tensor(-49.7643, device='cuda:0', grad_fn=<NegBackward0>), tensor(0., device='cuda:0', grad_fn=<AddBackward0>)]\n",
      "tensor(-99.9674, device='cuda:0', grad_fn=<NegBackward0>) [tensor(-49.9837, device='cuda:0', grad_fn=<NegBackward0>), tensor(-49.9837, device='cuda:0', grad_fn=<NegBackward0>), tensor(0., device='cuda:0', grad_fn=<AddBackward0>)]\n",
      "tensor(-100.1543, device='cuda:0', grad_fn=<NegBackward0>) [tensor(-50.0772, device='cuda:0', grad_fn=<NegBackward0>), tensor(-50.0772, device='cuda:0', grad_fn=<NegBackward0>), tensor(0., device='cuda:0', grad_fn=<AddBackward0>)]\n",
      "tensor(-100.2467, device='cuda:0', grad_fn=<NegBackward0>) [tensor(-50.1234, device='cuda:0', grad_fn=<NegBackward0>), tensor(-50.1234, device='cuda:0', grad_fn=<NegBackward0>), tensor(3.0518e-05, device='cuda:0', grad_fn=<AddBackward0>)]\n",
      "tensor(-100.3415, device='cuda:0', grad_fn=<NegBackward0>) [tensor(-50.1708, device='cuda:0', grad_fn=<NegBackward0>), tensor(-50.1708, device='cuda:0', grad_fn=<NegBackward0>), tensor(0., device='cuda:0', grad_fn=<AddBackward0>)]\n",
      "tensor(-100.3196, device='cuda:0', grad_fn=<NegBackward0>) [tensor(-50.1598, device='cuda:0', grad_fn=<NegBackward0>), tensor(-50.1598, device='cuda:0', grad_fn=<NegBackward0>), tensor(0., device='cuda:0', grad_fn=<AddBackward0>)]\n",
      "tensor(-100.2754, device='cuda:0', grad_fn=<NegBackward0>) [tensor(-50.1377, device='cuda:0', grad_fn=<NegBackward0>), tensor(-50.1377, device='cuda:0', grad_fn=<NegBackward0>), tensor(0., device='cuda:0', grad_fn=<AddBackward0>)]\n",
      "tensor(-99.9838, device='cuda:0', grad_fn=<NegBackward0>) [tensor(-49.9919, device='cuda:0', grad_fn=<NegBackward0>), tensor(-49.9919, device='cuda:0', grad_fn=<NegBackward0>), tensor(0., device='cuda:0', grad_fn=<AddBackward0>)]\n",
      "tensor(-100.2490, device='cuda:0', grad_fn=<NegBackward0>) [tensor(-50.1245, device='cuda:0', grad_fn=<NegBackward0>), tensor(-50.1245, device='cuda:0', grad_fn=<NegBackward0>), tensor(0., device='cuda:0', grad_fn=<AddBackward0>)]\n",
      "tensor(-100.3178, device='cuda:0', grad_fn=<NegBackward0>) [tensor(-50.1589, device='cuda:0', grad_fn=<NegBackward0>), tensor(-50.1589, device='cuda:0', grad_fn=<NegBackward0>), tensor(0., device='cuda:0', grad_fn=<AddBackward0>)]\n",
      "tensor(-100.0951, device='cuda:0', grad_fn=<NegBackward0>) [tensor(-50.0475, device='cuda:0', grad_fn=<NegBackward0>), tensor(-50.0475, device='cuda:0', grad_fn=<NegBackward0>), tensor(0., device='cuda:0', grad_fn=<AddBackward0>)]\n",
      "tensor(-100.3318, device='cuda:0', grad_fn=<NegBackward0>) [tensor(-50.1659, device='cuda:0', grad_fn=<NegBackward0>), tensor(-50.1659, device='cuda:0', grad_fn=<NegBackward0>), tensor(0., device='cuda:0', grad_fn=<AddBackward0>)]\n",
      "tensor(-100.1034, device='cuda:0', grad_fn=<NegBackward0>) [tensor(-50.0517, device='cuda:0', grad_fn=<NegBackward0>), tensor(-50.0517, device='cuda:0', grad_fn=<NegBackward0>), tensor(1.5259e-05, device='cuda:0', grad_fn=<AddBackward0>)]\n",
      "tensor(-99.7158, device='cuda:0', grad_fn=<NegBackward0>) [tensor(-49.8579, device='cuda:0', grad_fn=<NegBackward0>), tensor(-49.8579, device='cuda:0', grad_fn=<NegBackward0>), tensor(1.5259e-05, device='cuda:0', grad_fn=<AddBackward0>)]\n",
      "tensor(-99.7838, device='cuda:0', grad_fn=<NegBackward0>) [tensor(-49.8919, device='cuda:0', grad_fn=<NegBackward0>), tensor(-49.8919, device='cuda:0', grad_fn=<NegBackward0>), tensor(1.5259e-05, device='cuda:0', grad_fn=<AddBackward0>)]\n",
      "tensor(-99.7585, device='cuda:0', grad_fn=<NegBackward0>) [tensor(-49.8792, device='cuda:0', grad_fn=<NegBackward0>), tensor(-49.8792, device='cuda:0', grad_fn=<NegBackward0>), tensor(0., device='cuda:0', grad_fn=<AddBackward0>)]\n",
      "tensor(-99.7219, device='cuda:0', grad_fn=<NegBackward0>) [tensor(-49.8610, device='cuda:0', grad_fn=<NegBackward0>), tensor(-49.8610, device='cuda:0', grad_fn=<NegBackward0>), tensor(0., device='cuda:0', grad_fn=<AddBackward0>)]\n",
      "tensor(-99.8732, device='cuda:0', grad_fn=<NegBackward0>) [tensor(-49.9366, device='cuda:0', grad_fn=<NegBackward0>), tensor(-49.9366, device='cuda:0', grad_fn=<NegBackward0>), tensor(0., device='cuda:0', grad_fn=<AddBackward0>)]\n",
      "tensor(-100.0661, device='cuda:0', grad_fn=<NegBackward0>) [tensor(-50.0330, device='cuda:0', grad_fn=<NegBackward0>), tensor(-50.0330, device='cuda:0', grad_fn=<NegBackward0>), tensor(0., device='cuda:0', grad_fn=<AddBackward0>)]\n",
      "tensor(-100.2439, device='cuda:0', grad_fn=<NegBackward0>) [tensor(-50.1219, device='cuda:0', grad_fn=<NegBackward0>), tensor(-50.1219, device='cuda:0', grad_fn=<NegBackward0>), tensor(0., device='cuda:0', grad_fn=<AddBackward0>)]\n",
      "tensor(-100.2730, device='cuda:0', grad_fn=<NegBackward0>) [tensor(-50.1365, device='cuda:0', grad_fn=<NegBackward0>), tensor(-50.1365, device='cuda:0', grad_fn=<NegBackward0>), tensor(0., device='cuda:0', grad_fn=<AddBackward0>)]\n",
      "tensor(-100.2655, device='cuda:0', grad_fn=<NegBackward0>) [tensor(-50.1328, device='cuda:0', grad_fn=<NegBackward0>), tensor(-50.1328, device='cuda:0', grad_fn=<NegBackward0>), tensor(0., device='cuda:0', grad_fn=<AddBackward0>)]\n",
      "tensor(-100.1869, device='cuda:0', grad_fn=<NegBackward0>) [tensor(-50.0935, device='cuda:0', grad_fn=<NegBackward0>), tensor(-50.0935, device='cuda:0', grad_fn=<NegBackward0>), tensor(0., device='cuda:0', grad_fn=<AddBackward0>)]\n",
      "tensor(-100.0597, device='cuda:0', grad_fn=<NegBackward0>) [tensor(-50.0298, device='cuda:0', grad_fn=<NegBackward0>), tensor(-50.0298, device='cuda:0', grad_fn=<NegBackward0>), tensor(0., device='cuda:0', grad_fn=<AddBackward0>)]\n",
      "tensor(-99.8555, device='cuda:0', grad_fn=<NegBackward0>) [tensor(-49.9277, device='cuda:0', grad_fn=<NegBackward0>), tensor(-49.9277, device='cuda:0', grad_fn=<NegBackward0>), tensor(0., device='cuda:0', grad_fn=<AddBackward0>)]\n",
      "tensor(-99.7496, device='cuda:0', grad_fn=<NegBackward0>) [tensor(-49.8748, device='cuda:0', grad_fn=<NegBackward0>), tensor(-49.8748, device='cuda:0', grad_fn=<NegBackward0>), tensor(0., device='cuda:0', grad_fn=<AddBackward0>)]\n",
      "tensor(-99.8469, device='cuda:0', grad_fn=<NegBackward0>) [tensor(-49.9234, device='cuda:0', grad_fn=<NegBackward0>), tensor(-49.9234, device='cuda:0', grad_fn=<NegBackward0>), tensor(0., device='cuda:0', grad_fn=<AddBackward0>)]\n",
      "tensor(-100.0726, device='cuda:0', grad_fn=<NegBackward0>) [tensor(-50.0363, device='cuda:0', grad_fn=<NegBackward0>), tensor(-50.0363, device='cuda:0', grad_fn=<NegBackward0>), tensor(0., device='cuda:0', grad_fn=<AddBackward0>)]\n"
     ]
    },
    {
     "name": "stdout",
     "output_type": "stream",
     "text": [
      "tensor(-100.1045, device='cuda:0', grad_fn=<NegBackward0>) [tensor(-50.0523, device='cuda:0', grad_fn=<NegBackward0>), tensor(-50.0523, device='cuda:0', grad_fn=<NegBackward0>), tensor(0., device='cuda:0', grad_fn=<AddBackward0>)]\n",
      "tensor(-100.1474, device='cuda:0', grad_fn=<NegBackward0>) [tensor(-50.0737, device='cuda:0', grad_fn=<NegBackward0>), tensor(-50.0737, device='cuda:0', grad_fn=<NegBackward0>), tensor(3.0518e-05, device='cuda:0', grad_fn=<AddBackward0>)]\n",
      "tensor(-100.1293, device='cuda:0', grad_fn=<NegBackward0>) [tensor(-50.0646, device='cuda:0', grad_fn=<NegBackward0>), tensor(-50.0646, device='cuda:0', grad_fn=<NegBackward0>), tensor(-1.5259e-05, device='cuda:0', grad_fn=<AddBackward0>)]\n",
      "tensor(-100.0751, device='cuda:0', grad_fn=<NegBackward0>) [tensor(-50.0375, device='cuda:0', grad_fn=<NegBackward0>), tensor(-50.0375, device='cuda:0', grad_fn=<NegBackward0>), tensor(-1.5259e-05, device='cuda:0', grad_fn=<AddBackward0>)]\n",
      "tensor(-100.1449, device='cuda:0', grad_fn=<NegBackward0>) [tensor(-50.0725, device='cuda:0', grad_fn=<NegBackward0>), tensor(-50.0725, device='cuda:0', grad_fn=<NegBackward0>), tensor(0., device='cuda:0', grad_fn=<AddBackward0>)]\n",
      "tensor(-100.1480, device='cuda:0', grad_fn=<NegBackward0>) [tensor(-50.0740, device='cuda:0', grad_fn=<NegBackward0>), tensor(-50.0740, device='cuda:0', grad_fn=<NegBackward0>), tensor(-1.5259e-05, device='cuda:0', grad_fn=<AddBackward0>)]\n",
      "tensor(-100.2045, device='cuda:0', grad_fn=<NegBackward0>) [tensor(-50.1022, device='cuda:0', grad_fn=<NegBackward0>), tensor(-50.1022, device='cuda:0', grad_fn=<NegBackward0>), tensor(1.5259e-05, device='cuda:0', grad_fn=<AddBackward0>)]\n",
      "tensor(-100.1373, device='cuda:0', grad_fn=<NegBackward0>) [tensor(-50.0687, device='cuda:0', grad_fn=<NegBackward0>), tensor(-50.0687, device='cuda:0', grad_fn=<NegBackward0>), tensor(0., device='cuda:0', grad_fn=<AddBackward0>)]\n",
      "tensor(-100.1273, device='cuda:0', grad_fn=<NegBackward0>) [tensor(-50.0636, device='cuda:0', grad_fn=<NegBackward0>), tensor(-50.0636, device='cuda:0', grad_fn=<NegBackward0>), tensor(0., device='cuda:0', grad_fn=<AddBackward0>)]\n",
      "tensor(-100.0827, device='cuda:0', grad_fn=<NegBackward0>) [tensor(-50.0414, device='cuda:0', grad_fn=<NegBackward0>), tensor(-50.0414, device='cuda:0', grad_fn=<NegBackward0>), tensor(0., device='cuda:0', grad_fn=<AddBackward0>)]\n",
      "tensor(-100.0504, device='cuda:0', grad_fn=<NegBackward0>) [tensor(-50.0252, device='cuda:0', grad_fn=<NegBackward0>), tensor(-50.0252, device='cuda:0', grad_fn=<NegBackward0>), tensor(-1.5259e-05, device='cuda:0', grad_fn=<AddBackward0>)]\n",
      "tensor(-100.1001, device='cuda:0', grad_fn=<NegBackward0>) [tensor(-50.0501, device='cuda:0', grad_fn=<NegBackward0>), tensor(-50.0501, device='cuda:0', grad_fn=<NegBackward0>), tensor(0., device='cuda:0', grad_fn=<AddBackward0>)]\n",
      "tensor(-100.0453, device='cuda:0', grad_fn=<NegBackward0>) [tensor(-50.0227, device='cuda:0', grad_fn=<NegBackward0>), tensor(-50.0227, device='cuda:0', grad_fn=<NegBackward0>), tensor(0., device='cuda:0', grad_fn=<AddBackward0>)]\n",
      "tensor(-100.1354, device='cuda:0', grad_fn=<NegBackward0>) [tensor(-50.0677, device='cuda:0', grad_fn=<NegBackward0>), tensor(-50.0677, device='cuda:0', grad_fn=<NegBackward0>), tensor(0., device='cuda:0', grad_fn=<AddBackward0>)]\n",
      "tensor(-100.0841, device='cuda:0', grad_fn=<NegBackward0>) [tensor(-50.0420, device='cuda:0', grad_fn=<NegBackward0>), tensor(-50.0420, device='cuda:0', grad_fn=<NegBackward0>), tensor(0., device='cuda:0', grad_fn=<AddBackward0>)]\n",
      "tensor(-100.1457, device='cuda:0', grad_fn=<NegBackward0>) [tensor(-50.0729, device='cuda:0', grad_fn=<NegBackward0>), tensor(-50.0729, device='cuda:0', grad_fn=<NegBackward0>), tensor(0., device='cuda:0', grad_fn=<AddBackward0>)]\n",
      "tensor(-100.0442, device='cuda:0', grad_fn=<NegBackward0>) [tensor(-50.0221, device='cuda:0', grad_fn=<NegBackward0>), tensor(-50.0221, device='cuda:0', grad_fn=<NegBackward0>), tensor(0., device='cuda:0', grad_fn=<AddBackward0>)]\n",
      "tensor(-100.2367, device='cuda:0', grad_fn=<NegBackward0>) [tensor(-50.1184, device='cuda:0', grad_fn=<NegBackward0>), tensor(-50.1184, device='cuda:0', grad_fn=<NegBackward0>), tensor(0., device='cuda:0', grad_fn=<AddBackward0>)]\n",
      "tensor(-100.1371, device='cuda:0', grad_fn=<NegBackward0>) [tensor(-50.0685, device='cuda:0', grad_fn=<NegBackward0>), tensor(-50.0685, device='cuda:0', grad_fn=<NegBackward0>), tensor(0., device='cuda:0', grad_fn=<AddBackward0>)]\n",
      "tensor(-99.8544, device='cuda:0', grad_fn=<NegBackward0>) [tensor(-49.9272, device='cuda:0', grad_fn=<NegBackward0>), tensor(-49.9272, device='cuda:0', grad_fn=<NegBackward0>), tensor(1.5259e-05, device='cuda:0', grad_fn=<AddBackward0>)]\n",
      "tensor(-99.8956, device='cuda:0', grad_fn=<NegBackward0>) [tensor(-49.9478, device='cuda:0', grad_fn=<NegBackward0>), tensor(-49.9478, device='cuda:0', grad_fn=<NegBackward0>), tensor(1.5259e-05, device='cuda:0', grad_fn=<AddBackward0>)]\n",
      "tensor(-99.8847, device='cuda:0', grad_fn=<NegBackward0>) [tensor(-49.9423, device='cuda:0', grad_fn=<NegBackward0>), tensor(-49.9423, device='cuda:0', grad_fn=<NegBackward0>), tensor(0., device='cuda:0', grad_fn=<AddBackward0>)]\n",
      "tensor(-99.8180, device='cuda:0', grad_fn=<NegBackward0>) [tensor(-49.9090, device='cuda:0', grad_fn=<NegBackward0>), tensor(-49.9090, device='cuda:0', grad_fn=<NegBackward0>), tensor(1.5259e-05, device='cuda:0', grad_fn=<AddBackward0>)]\n",
      "tensor(-100.0399, device='cuda:0', grad_fn=<NegBackward0>) [tensor(-50.0199, device='cuda:0', grad_fn=<NegBackward0>), tensor(-50.0199, device='cuda:0', grad_fn=<NegBackward0>), tensor(-1.5259e-05, device='cuda:0', grad_fn=<AddBackward0>)]\n",
      "tensor(-100.0374, device='cuda:0', grad_fn=<NegBackward0>) [tensor(-50.0187, device='cuda:0', grad_fn=<NegBackward0>), tensor(-50.0187, device='cuda:0', grad_fn=<NegBackward0>), tensor(0., device='cuda:0', grad_fn=<AddBackward0>)]\n",
      "tensor(-99.6959, device='cuda:0', grad_fn=<NegBackward0>) [tensor(-49.8480, device='cuda:0', grad_fn=<NegBackward0>), tensor(-49.8480, device='cuda:0', grad_fn=<NegBackward0>), tensor(0., device='cuda:0', grad_fn=<AddBackward0>)]\n",
      "tensor(-99.7232, device='cuda:0', grad_fn=<NegBackward0>) [tensor(-49.8616, device='cuda:0', grad_fn=<NegBackward0>), tensor(-49.8616, device='cuda:0', grad_fn=<NegBackward0>), tensor(0., device='cuda:0', grad_fn=<AddBackward0>)]\n",
      "tensor(-99.6610, device='cuda:0', grad_fn=<NegBackward0>) [tensor(-49.8305, device='cuda:0', grad_fn=<NegBackward0>), tensor(-49.8305, device='cuda:0', grad_fn=<NegBackward0>), tensor(1.5259e-05, device='cuda:0', grad_fn=<AddBackward0>)]\n",
      "tensor(-99.7625, device='cuda:0', grad_fn=<NegBackward0>) [tensor(-49.8812, device='cuda:0', grad_fn=<NegBackward0>), tensor(-49.8812, device='cuda:0', grad_fn=<NegBackward0>), tensor(-1.5259e-05, device='cuda:0', grad_fn=<AddBackward0>)]\n",
      "tensor(-100.2712, device='cuda:0', grad_fn=<NegBackward0>) [tensor(-50.1356, device='cuda:0', grad_fn=<NegBackward0>), tensor(-50.1356, device='cuda:0', grad_fn=<NegBackward0>), tensor(-1.5259e-05, device='cuda:0', grad_fn=<AddBackward0>)]\n",
      "tensor(-100.2798, device='cuda:0', grad_fn=<NegBackward0>) [tensor(-50.1399, device='cuda:0', grad_fn=<NegBackward0>), tensor(-50.1399, device='cuda:0', grad_fn=<NegBackward0>), tensor(0., device='cuda:0', grad_fn=<AddBackward0>)]\n",
      "tensor(-100.2691, device='cuda:0', grad_fn=<NegBackward0>) [tensor(-50.1345, device='cuda:0', grad_fn=<NegBackward0>), tensor(-50.1345, device='cuda:0', grad_fn=<NegBackward0>), tensor(1.5259e-05, device='cuda:0', grad_fn=<AddBackward0>)]\n",
      "tensor(-100.0838, device='cuda:0', grad_fn=<NegBackward0>) [tensor(-50.0419, device='cuda:0', grad_fn=<NegBackward0>), tensor(-50.0419, device='cuda:0', grad_fn=<NegBackward0>), tensor(-1.5259e-05, device='cuda:0', grad_fn=<AddBackward0>)]\n",
      "tensor(-99.6123, device='cuda:0', grad_fn=<NegBackward0>) [tensor(-49.8061, device='cuda:0', grad_fn=<NegBackward0>), tensor(-49.8061, device='cuda:0', grad_fn=<NegBackward0>), tensor(-1.5259e-05, device='cuda:0', grad_fn=<AddBackward0>)]\n",
      "tensor(-99.4429, device='cuda:0', grad_fn=<NegBackward0>) [tensor(-49.7215, device='cuda:0', grad_fn=<NegBackward0>), tensor(-49.7215, device='cuda:0', grad_fn=<NegBackward0>), tensor(0., device='cuda:0', grad_fn=<AddBackward0>)]\n",
      "tensor(-99.6629, device='cuda:0', grad_fn=<NegBackward0>) [tensor(-49.8314, device='cuda:0', grad_fn=<NegBackward0>), tensor(-49.8314, device='cuda:0', grad_fn=<NegBackward0>), tensor(1.5259e-05, device='cuda:0', grad_fn=<AddBackward0>)]\n"
     ]
    },
    {
     "name": "stdout",
     "output_type": "stream",
     "text": [
      "tensor(-99.9716, device='cuda:0', grad_fn=<NegBackward0>) [tensor(-49.9858, device='cuda:0', grad_fn=<NegBackward0>), tensor(-49.9858, device='cuda:0', grad_fn=<NegBackward0>), tensor(0., device='cuda:0', grad_fn=<AddBackward0>)]\n",
      "tensor(-100.0145, device='cuda:0', grad_fn=<NegBackward0>) [tensor(-50.0072, device='cuda:0', grad_fn=<NegBackward0>), tensor(-50.0072, device='cuda:0', grad_fn=<NegBackward0>), tensor(0., device='cuda:0', grad_fn=<AddBackward0>)]\n",
      "tensor(-99.9918, device='cuda:0', grad_fn=<NegBackward0>) [tensor(-49.9959, device='cuda:0', grad_fn=<NegBackward0>), tensor(-49.9959, device='cuda:0', grad_fn=<NegBackward0>), tensor(0., device='cuda:0', grad_fn=<AddBackward0>)]\n",
      "tensor(-99.9205, device='cuda:0', grad_fn=<NegBackward0>) [tensor(-49.9603, device='cuda:0', grad_fn=<NegBackward0>), tensor(-49.9603, device='cuda:0', grad_fn=<NegBackward0>), tensor(0., device='cuda:0', grad_fn=<AddBackward0>)]\n",
      "tensor(-99.9898, device='cuda:0', grad_fn=<NegBackward0>) [tensor(-49.9949, device='cuda:0', grad_fn=<NegBackward0>), tensor(-49.9949, device='cuda:0', grad_fn=<NegBackward0>), tensor(0., device='cuda:0', grad_fn=<AddBackward0>)]\n",
      "tensor(-100.0041, device='cuda:0', grad_fn=<NegBackward0>) [tensor(-50.0020, device='cuda:0', grad_fn=<NegBackward0>), tensor(-50.0020, device='cuda:0', grad_fn=<NegBackward0>), tensor(1.5259e-05, device='cuda:0', grad_fn=<AddBackward0>)]\n",
      "tensor(-99.9878, device='cuda:0', grad_fn=<NegBackward0>) [tensor(-49.9939, device='cuda:0', grad_fn=<NegBackward0>), tensor(-49.9939, device='cuda:0', grad_fn=<NegBackward0>), tensor(1.5259e-05, device='cuda:0', grad_fn=<AddBackward0>)]\n",
      "tensor(-99.9061, device='cuda:0', grad_fn=<NegBackward0>) [tensor(-49.9530, device='cuda:0', grad_fn=<NegBackward0>), tensor(-49.9530, device='cuda:0', grad_fn=<NegBackward0>), tensor(0., device='cuda:0', grad_fn=<AddBackward0>)]\n",
      "tensor(-99.8454, device='cuda:0', grad_fn=<NegBackward0>) [tensor(-49.9227, device='cuda:0', grad_fn=<NegBackward0>), tensor(-49.9227, device='cuda:0', grad_fn=<NegBackward0>), tensor(0., device='cuda:0', grad_fn=<AddBackward0>)]\n",
      "tensor(-99.8375, device='cuda:0', grad_fn=<NegBackward0>) [tensor(-49.9188, device='cuda:0', grad_fn=<NegBackward0>), tensor(-49.9188, device='cuda:0', grad_fn=<NegBackward0>), tensor(1.5259e-05, device='cuda:0', grad_fn=<AddBackward0>)]\n",
      "tensor(-99.9278, device='cuda:0', grad_fn=<NegBackward0>) [tensor(-49.9639, device='cuda:0', grad_fn=<NegBackward0>), tensor(-49.9639, device='cuda:0', grad_fn=<NegBackward0>), tensor(0., device='cuda:0', grad_fn=<AddBackward0>)]\n",
      "tensor(-100.0809, device='cuda:0', grad_fn=<NegBackward0>) [tensor(-50.0405, device='cuda:0', grad_fn=<NegBackward0>), tensor(-50.0405, device='cuda:0', grad_fn=<NegBackward0>), tensor(0., device='cuda:0', grad_fn=<AddBackward0>)]\n",
      "tensor(-100.2274, device='cuda:0', grad_fn=<NegBackward0>) [tensor(-50.1137, device='cuda:0', grad_fn=<NegBackward0>), tensor(-50.1137, device='cuda:0', grad_fn=<NegBackward0>), tensor(-3.0518e-05, device='cuda:0', grad_fn=<AddBackward0>)]\n",
      "tensor(-100.1264, device='cuda:0', grad_fn=<NegBackward0>) [tensor(-50.0632, device='cuda:0', grad_fn=<NegBackward0>), tensor(-50.0632, device='cuda:0', grad_fn=<NegBackward0>), tensor(-1.5259e-05, device='cuda:0', grad_fn=<AddBackward0>)]\n",
      "tensor(-99.9240, device='cuda:0', grad_fn=<NegBackward0>) [tensor(-49.9620, device='cuda:0', grad_fn=<NegBackward0>), tensor(-49.9620, device='cuda:0', grad_fn=<NegBackward0>), tensor(-1.5259e-05, device='cuda:0', grad_fn=<AddBackward0>)]\n",
      "tensor(-99.5578, device='cuda:0', grad_fn=<NegBackward0>) [tensor(-49.7789, device='cuda:0', grad_fn=<NegBackward0>), tensor(-49.7789, device='cuda:0', grad_fn=<NegBackward0>), tensor(1.5259e-05, device='cuda:0', grad_fn=<AddBackward0>)]\n",
      "tensor(-99.3322, device='cuda:0', grad_fn=<NegBackward0>) [tensor(-49.6661, device='cuda:0', grad_fn=<NegBackward0>), tensor(-49.6661, device='cuda:0', grad_fn=<NegBackward0>), tensor(-1.5259e-05, device='cuda:0', grad_fn=<AddBackward0>)]\n",
      "tensor(-99.2431, device='cuda:0', grad_fn=<NegBackward0>) [tensor(-49.6216, device='cuda:0', grad_fn=<NegBackward0>), tensor(-49.6216, device='cuda:0', grad_fn=<NegBackward0>), tensor(0., device='cuda:0', grad_fn=<AddBackward0>)]\n",
      "tensor(-99.2095, device='cuda:0', grad_fn=<NegBackward0>) [tensor(-49.6047, device='cuda:0', grad_fn=<NegBackward0>), tensor(-49.6047, device='cuda:0', grad_fn=<NegBackward0>), tensor(0., device='cuda:0', grad_fn=<AddBackward0>)]\n",
      "tensor(-99.2540, device='cuda:0', grad_fn=<NegBackward0>) [tensor(-49.6270, device='cuda:0', grad_fn=<NegBackward0>), tensor(-49.6270, device='cuda:0', grad_fn=<NegBackward0>), tensor(0., device='cuda:0', grad_fn=<AddBackward0>)]\n",
      "tensor(-99.3337, device='cuda:0', grad_fn=<NegBackward0>) [tensor(-49.6668, device='cuda:0', grad_fn=<NegBackward0>), tensor(-49.6668, device='cuda:0', grad_fn=<NegBackward0>), tensor(1.5259e-05, device='cuda:0', grad_fn=<AddBackward0>)]\n",
      "tensor(-99.5580, device='cuda:0', grad_fn=<NegBackward0>) [tensor(-49.7790, device='cuda:0', grad_fn=<NegBackward0>), tensor(-49.7790, device='cuda:0', grad_fn=<NegBackward0>), tensor(-1.5259e-05, device='cuda:0', grad_fn=<AddBackward0>)]\n",
      "tensor(-99.9224, device='cuda:0', grad_fn=<NegBackward0>) [tensor(-49.9612, device='cuda:0', grad_fn=<NegBackward0>), tensor(-49.9612, device='cuda:0', grad_fn=<NegBackward0>), tensor(1.5259e-05, device='cuda:0', grad_fn=<AddBackward0>)]\n",
      "tensor(-100.1877, device='cuda:0', grad_fn=<NegBackward0>) [tensor(-50.0939, device='cuda:0', grad_fn=<NegBackward0>), tensor(-50.0939, device='cuda:0', grad_fn=<NegBackward0>), tensor(0., device='cuda:0', grad_fn=<AddBackward0>)]\n",
      "tensor(-100.3689, device='cuda:0', grad_fn=<NegBackward0>) [tensor(-50.1845, device='cuda:0', grad_fn=<NegBackward0>), tensor(-50.1845, device='cuda:0', grad_fn=<NegBackward0>), tensor(3.0518e-05, device='cuda:0', grad_fn=<AddBackward0>)]\n",
      "tensor(-100.4989, device='cuda:0', grad_fn=<NegBackward0>) [tensor(-50.2495, device='cuda:0', grad_fn=<NegBackward0>), tensor(-50.2495, device='cuda:0', grad_fn=<NegBackward0>), tensor(-1.5259e-05, device='cuda:0', grad_fn=<AddBackward0>)]\n",
      "tensor(-100.5243, device='cuda:0', grad_fn=<NegBackward0>) [tensor(-50.2622, device='cuda:0', grad_fn=<NegBackward0>), tensor(-50.2622, device='cuda:0', grad_fn=<NegBackward0>), tensor(0., device='cuda:0', grad_fn=<AddBackward0>)]\n",
      "tensor(-100.4699, device='cuda:0', grad_fn=<NegBackward0>) [tensor(-50.2349, device='cuda:0', grad_fn=<NegBackward0>), tensor(-50.2349, device='cuda:0', grad_fn=<NegBackward0>), tensor(0., device='cuda:0', grad_fn=<AddBackward0>)]\n",
      "tensor(-100.0787, device='cuda:0', grad_fn=<NegBackward0>) [tensor(-50.0393, device='cuda:0', grad_fn=<NegBackward0>), tensor(-50.0393, device='cuda:0', grad_fn=<NegBackward0>), tensor(0., device='cuda:0', grad_fn=<AddBackward0>)]\n",
      "tensor(-100.2352, device='cuda:0', grad_fn=<NegBackward0>) [tensor(-50.1176, device='cuda:0', grad_fn=<NegBackward0>), tensor(-50.1176, device='cuda:0', grad_fn=<NegBackward0>), tensor(0., device='cuda:0', grad_fn=<AddBackward0>)]\n",
      "tensor(-100.0676, device='cuda:0', grad_fn=<NegBackward0>) [tensor(-50.0338, device='cuda:0', grad_fn=<NegBackward0>), tensor(-50.0338, device='cuda:0', grad_fn=<NegBackward0>), tensor(0., device='cuda:0', grad_fn=<AddBackward0>)]\n",
      "tensor(-99.7364, device='cuda:0', grad_fn=<NegBackward0>) [tensor(-49.8682, device='cuda:0', grad_fn=<NegBackward0>), tensor(-49.8682, device='cuda:0', grad_fn=<NegBackward0>), tensor(0., device='cuda:0', grad_fn=<AddBackward0>)]\n",
      "tensor(-99.4044, device='cuda:0', grad_fn=<NegBackward0>) [tensor(-49.7022, device='cuda:0', grad_fn=<NegBackward0>), tensor(-49.7022, device='cuda:0', grad_fn=<NegBackward0>), tensor(0., device='cuda:0', grad_fn=<AddBackward0>)]\n",
      "tensor(-99.5489, device='cuda:0', grad_fn=<NegBackward0>) [tensor(-49.7744, device='cuda:0', grad_fn=<NegBackward0>), tensor(-49.7744, device='cuda:0', grad_fn=<NegBackward0>), tensor(0., device='cuda:0', grad_fn=<AddBackward0>)]\n",
      "tensor(-99.9787, device='cuda:0', grad_fn=<NegBackward0>) [tensor(-49.9894, device='cuda:0', grad_fn=<NegBackward0>), tensor(-49.9894, device='cuda:0', grad_fn=<NegBackward0>), tensor(3.0518e-05, device='cuda:0', grad_fn=<AddBackward0>)]\n",
      "tensor(-100.2382, device='cuda:0', grad_fn=<NegBackward0>) [tensor(-50.1191, device='cuda:0', grad_fn=<NegBackward0>), tensor(-50.1191, device='cuda:0', grad_fn=<NegBackward0>), tensor(0., device='cuda:0', grad_fn=<AddBackward0>)]\n"
     ]
    },
    {
     "name": "stdout",
     "output_type": "stream",
     "text": [
      "tensor(-100.3461, device='cuda:0', grad_fn=<NegBackward0>) [tensor(-50.1730, device='cuda:0', grad_fn=<NegBackward0>), tensor(-50.1730, device='cuda:0', grad_fn=<NegBackward0>), tensor(0., device='cuda:0', grad_fn=<AddBackward0>)]\n",
      "tensor(-100.4529, device='cuda:0', grad_fn=<NegBackward0>) [tensor(-50.2264, device='cuda:0', grad_fn=<NegBackward0>), tensor(-50.2264, device='cuda:0', grad_fn=<NegBackward0>), tensor(1.5259e-05, device='cuda:0', grad_fn=<AddBackward0>)]\n",
      "tensor(-100.3428, device='cuda:0', grad_fn=<NegBackward0>) [tensor(-50.1714, device='cuda:0', grad_fn=<NegBackward0>), tensor(-50.1714, device='cuda:0', grad_fn=<NegBackward0>), tensor(0., device='cuda:0', grad_fn=<AddBackward0>)]\n",
      "tensor(-99.8275, device='cuda:0', grad_fn=<NegBackward0>) [tensor(-49.9138, device='cuda:0', grad_fn=<NegBackward0>), tensor(-49.9138, device='cuda:0', grad_fn=<NegBackward0>), tensor(0., device='cuda:0', grad_fn=<AddBackward0>)]\n",
      "tensor(-99.6707, device='cuda:0', grad_fn=<NegBackward0>) [tensor(-49.8353, device='cuda:0', grad_fn=<NegBackward0>), tensor(-49.8353, device='cuda:0', grad_fn=<NegBackward0>), tensor(0., device='cuda:0', grad_fn=<AddBackward0>)]\n",
      "tensor(-99.7290, device='cuda:0', grad_fn=<NegBackward0>) [tensor(-49.8645, device='cuda:0', grad_fn=<NegBackward0>), tensor(-49.8645, device='cuda:0', grad_fn=<NegBackward0>), tensor(1.5259e-05, device='cuda:0', grad_fn=<AddBackward0>)]\n",
      "tensor(-99.9007, device='cuda:0', grad_fn=<NegBackward0>) [tensor(-49.9504, device='cuda:0', grad_fn=<NegBackward0>), tensor(-49.9504, device='cuda:0', grad_fn=<NegBackward0>), tensor(0., device='cuda:0', grad_fn=<AddBackward0>)]\n",
      "tensor(-100.1001, device='cuda:0', grad_fn=<NegBackward0>) [tensor(-50.0500, device='cuda:0', grad_fn=<NegBackward0>), tensor(-50.0500, device='cuda:0', grad_fn=<NegBackward0>), tensor(-1.5259e-05, device='cuda:0', grad_fn=<AddBackward0>)]\n",
      "tensor(-100.3653, device='cuda:0', grad_fn=<NegBackward0>) [tensor(-50.1827, device='cuda:0', grad_fn=<NegBackward0>), tensor(-50.1827, device='cuda:0', grad_fn=<NegBackward0>), tensor(1.5259e-05, device='cuda:0', grad_fn=<AddBackward0>)]\n",
      "tensor(-100.3593, device='cuda:0', grad_fn=<NegBackward0>) [tensor(-50.1797, device='cuda:0', grad_fn=<NegBackward0>), tensor(-50.1797, device='cuda:0', grad_fn=<NegBackward0>), tensor(0., device='cuda:0', grad_fn=<AddBackward0>)]\n",
      "tensor(-100.1402, device='cuda:0', grad_fn=<NegBackward0>) [tensor(-50.0701, device='cuda:0', grad_fn=<NegBackward0>), tensor(-50.0701, device='cuda:0', grad_fn=<NegBackward0>), tensor(0., device='cuda:0', grad_fn=<AddBackward0>)]\n",
      "tensor(-99.9900, device='cuda:0', grad_fn=<NegBackward0>) [tensor(-49.9950, device='cuda:0', grad_fn=<NegBackward0>), tensor(-49.9950, device='cuda:0', grad_fn=<NegBackward0>), tensor(3.0518e-05, device='cuda:0', grad_fn=<AddBackward0>)]\n",
      "tensor(-99.7784, device='cuda:0', grad_fn=<NegBackward0>) [tensor(-49.8892, device='cuda:0', grad_fn=<NegBackward0>), tensor(-49.8892, device='cuda:0', grad_fn=<NegBackward0>), tensor(0., device='cuda:0', grad_fn=<AddBackward0>)]\n",
      "tensor(-99.3783, device='cuda:0', grad_fn=<NegBackward0>) [tensor(-49.6892, device='cuda:0', grad_fn=<NegBackward0>), tensor(-49.6892, device='cuda:0', grad_fn=<NegBackward0>), tensor(0., device='cuda:0', grad_fn=<AddBackward0>)]\n",
      "tensor(-99.1434, device='cuda:0', grad_fn=<NegBackward0>) [tensor(-49.5717, device='cuda:0', grad_fn=<NegBackward0>), tensor(-49.5717, device='cuda:0', grad_fn=<NegBackward0>), tensor(0., device='cuda:0', grad_fn=<AddBackward0>)]\n",
      "tensor(-99.1156, device='cuda:0', grad_fn=<NegBackward0>) [tensor(-49.5578, device='cuda:0', grad_fn=<NegBackward0>), tensor(-49.5578, device='cuda:0', grad_fn=<NegBackward0>), tensor(-1.5259e-05, device='cuda:0', grad_fn=<AddBackward0>)]\n",
      "tensor(-99.1836, device='cuda:0', grad_fn=<NegBackward0>) [tensor(-49.5918, device='cuda:0', grad_fn=<NegBackward0>), tensor(-49.5918, device='cuda:0', grad_fn=<NegBackward0>), tensor(0., device='cuda:0', grad_fn=<AddBackward0>)]\n",
      "tensor(-99.3907, device='cuda:0', grad_fn=<NegBackward0>) [tensor(-49.6953, device='cuda:0', grad_fn=<NegBackward0>), tensor(-49.6953, device='cuda:0', grad_fn=<NegBackward0>), tensor(-3.0518e-05, device='cuda:0', grad_fn=<AddBackward0>)]\n",
      "tensor(-99.8252, device='cuda:0', grad_fn=<NegBackward0>) [tensor(-49.9126, device='cuda:0', grad_fn=<NegBackward0>), tensor(-49.9126, device='cuda:0', grad_fn=<NegBackward0>), tensor(-1.5259e-05, device='cuda:0', grad_fn=<AddBackward0>)]\n",
      "tensor(-100.2382, device='cuda:0', grad_fn=<NegBackward0>) [tensor(-50.1191, device='cuda:0', grad_fn=<NegBackward0>), tensor(-50.1191, device='cuda:0', grad_fn=<NegBackward0>), tensor(0., device='cuda:0', grad_fn=<AddBackward0>)]\n",
      "tensor(-100.4510, device='cuda:0', grad_fn=<NegBackward0>) [tensor(-50.2255, device='cuda:0', grad_fn=<NegBackward0>), tensor(-50.2255, device='cuda:0', grad_fn=<NegBackward0>), tensor(-3.0518e-05, device='cuda:0', grad_fn=<AddBackward0>)]\n",
      "tensor(-100.6187, device='cuda:0', grad_fn=<NegBackward0>) [tensor(-50.3093, device='cuda:0', grad_fn=<NegBackward0>), tensor(-50.3093, device='cuda:0', grad_fn=<NegBackward0>), tensor(0., device='cuda:0', grad_fn=<AddBackward0>)]\n",
      "tensor(-100.7297, device='cuda:0', grad_fn=<NegBackward0>) [tensor(-50.3648, device='cuda:0', grad_fn=<NegBackward0>), tensor(-50.3648, device='cuda:0', grad_fn=<NegBackward0>), tensor(0., device='cuda:0', grad_fn=<AddBackward0>)]\n",
      "tensor(-100.6985, device='cuda:0', grad_fn=<NegBackward0>) [tensor(-50.3493, device='cuda:0', grad_fn=<NegBackward0>), tensor(-50.3493, device='cuda:0', grad_fn=<NegBackward0>), tensor(1.5259e-05, device='cuda:0', grad_fn=<AddBackward0>)]\n",
      "tensor(-100.3656, device='cuda:0', grad_fn=<NegBackward0>) [tensor(-50.1828, device='cuda:0', grad_fn=<NegBackward0>), tensor(-50.1828, device='cuda:0', grad_fn=<NegBackward0>), tensor(0., device='cuda:0', grad_fn=<AddBackward0>)]\n",
      "tensor(-100.1739, device='cuda:0', grad_fn=<NegBackward0>) [tensor(-50.0869, device='cuda:0', grad_fn=<NegBackward0>), tensor(-50.0869, device='cuda:0', grad_fn=<NegBackward0>), tensor(0., device='cuda:0', grad_fn=<AddBackward0>)]\n",
      "tensor(-99.7152, device='cuda:0', grad_fn=<NegBackward0>) [tensor(-49.8576, device='cuda:0', grad_fn=<NegBackward0>), tensor(-49.8576, device='cuda:0', grad_fn=<NegBackward0>), tensor(-3.0518e-05, device='cuda:0', grad_fn=<AddBackward0>)]\n",
      "tensor(-99.8889, device='cuda:0', grad_fn=<NegBackward0>) [tensor(-49.9445, device='cuda:0', grad_fn=<NegBackward0>), tensor(-49.9445, device='cuda:0', grad_fn=<NegBackward0>), tensor(0., device='cuda:0', grad_fn=<AddBackward0>)]\n",
      "tensor(-99.9723, device='cuda:0', grad_fn=<NegBackward0>) [tensor(-49.9862, device='cuda:0', grad_fn=<NegBackward0>), tensor(-49.9862, device='cuda:0', grad_fn=<NegBackward0>), tensor(-1.5259e-05, device='cuda:0', grad_fn=<AddBackward0>)]\n",
      "tensor(-100.1243, device='cuda:0', grad_fn=<NegBackward0>) [tensor(-50.0621, device='cuda:0', grad_fn=<NegBackward0>), tensor(-50.0621, device='cuda:0', grad_fn=<NegBackward0>), tensor(0., device='cuda:0', grad_fn=<AddBackward0>)]\n",
      "tensor(-100.2862, device='cuda:0', grad_fn=<NegBackward0>) [tensor(-50.1431, device='cuda:0', grad_fn=<NegBackward0>), tensor(-50.1431, device='cuda:0', grad_fn=<NegBackward0>), tensor(0., device='cuda:0', grad_fn=<AddBackward0>)]\n",
      "tensor(-100.2145, device='cuda:0', grad_fn=<NegBackward0>) [tensor(-50.1073, device='cuda:0', grad_fn=<NegBackward0>), tensor(-50.1073, device='cuda:0', grad_fn=<NegBackward0>), tensor(0., device='cuda:0', grad_fn=<AddBackward0>)]\n",
      "tensor(-100.3672, device='cuda:0', grad_fn=<NegBackward0>) [tensor(-50.1836, device='cuda:0', grad_fn=<NegBackward0>), tensor(-50.1836, device='cuda:0', grad_fn=<NegBackward0>), tensor(0., device='cuda:0', grad_fn=<AddBackward0>)]\n",
      "tensor(-100.5835, device='cuda:0', grad_fn=<NegBackward0>) [tensor(-50.2918, device='cuda:0', grad_fn=<NegBackward0>), tensor(-50.2918, device='cuda:0', grad_fn=<NegBackward0>), tensor(0., device='cuda:0', grad_fn=<AddBackward0>)]\n",
      "tensor(-100.3977, device='cuda:0', grad_fn=<NegBackward0>) [tensor(-50.1988, device='cuda:0', grad_fn=<NegBackward0>), tensor(-50.1988, device='cuda:0', grad_fn=<NegBackward0>), tensor(0., device='cuda:0', grad_fn=<AddBackward0>)]\n",
      "tensor(-100.0051, device='cuda:0', grad_fn=<NegBackward0>) [tensor(-50.0025, device='cuda:0', grad_fn=<NegBackward0>), tensor(-50.0025, device='cuda:0', grad_fn=<NegBackward0>), tensor(-1.5259e-05, device='cuda:0', grad_fn=<AddBackward0>)]\n"
     ]
    },
    {
     "name": "stdout",
     "output_type": "stream",
     "text": [
      "tensor(-100.2989, device='cuda:0', grad_fn=<NegBackward0>) [tensor(-50.1495, device='cuda:0', grad_fn=<NegBackward0>), tensor(-50.1495, device='cuda:0', grad_fn=<NegBackward0>), tensor(1.5259e-05, device='cuda:0', grad_fn=<AddBackward0>)]\n",
      "tensor(-100.4422, device='cuda:0', grad_fn=<NegBackward0>) [tensor(-50.2211, device='cuda:0', grad_fn=<NegBackward0>), tensor(-50.2211, device='cuda:0', grad_fn=<NegBackward0>), tensor(0., device='cuda:0', grad_fn=<AddBackward0>)]\n",
      "tensor(-100.1935, device='cuda:0', grad_fn=<NegBackward0>) [tensor(-50.0968, device='cuda:0', grad_fn=<NegBackward0>), tensor(-50.0968, device='cuda:0', grad_fn=<NegBackward0>), tensor(0., device='cuda:0', grad_fn=<AddBackward0>)]\n",
      "tensor(-100.4008, device='cuda:0', grad_fn=<NegBackward0>) [tensor(-50.2004, device='cuda:0', grad_fn=<NegBackward0>), tensor(-50.2004, device='cuda:0', grad_fn=<NegBackward0>), tensor(0., device='cuda:0', grad_fn=<AddBackward0>)]\n",
      "tensor(-100.2197, device='cuda:0', grad_fn=<NegBackward0>) [tensor(-50.1099, device='cuda:0', grad_fn=<NegBackward0>), tensor(-50.1099, device='cuda:0', grad_fn=<NegBackward0>), tensor(1.5259e-05, device='cuda:0', grad_fn=<AddBackward0>)]\n",
      "tensor(-100.3886, device='cuda:0', grad_fn=<NegBackward0>) [tensor(-50.1943, device='cuda:0', grad_fn=<NegBackward0>), tensor(-50.1943, device='cuda:0', grad_fn=<NegBackward0>), tensor(0., device='cuda:0', grad_fn=<AddBackward0>)]\n",
      "tensor(-99.1648, device='cuda:0', grad_fn=<NegBackward0>) [tensor(-49.5824, device='cuda:0', grad_fn=<NegBackward0>), tensor(-49.5824, device='cuda:0', grad_fn=<NegBackward0>), tensor(1.5259e-05, device='cuda:0', grad_fn=<AddBackward0>)]\n",
      "tensor(-99.8612, device='cuda:0', grad_fn=<NegBackward0>) [tensor(-49.9306, device='cuda:0', grad_fn=<NegBackward0>), tensor(-49.9306, device='cuda:0', grad_fn=<NegBackward0>), tensor(0., device='cuda:0', grad_fn=<AddBackward0>)]\n",
      "tensor(-99.8386, device='cuda:0', grad_fn=<NegBackward0>) [tensor(-49.9193, device='cuda:0', grad_fn=<NegBackward0>), tensor(-49.9193, device='cuda:0', grad_fn=<NegBackward0>), tensor(0., device='cuda:0', grad_fn=<AddBackward0>)]\n",
      "tensor(-99.4966, device='cuda:0', grad_fn=<NegBackward0>) [tensor(-49.7483, device='cuda:0', grad_fn=<NegBackward0>), tensor(-49.7483, device='cuda:0', grad_fn=<NegBackward0>), tensor(0., device='cuda:0', grad_fn=<AddBackward0>)]\n",
      "tensor(-99.6389, device='cuda:0', grad_fn=<NegBackward0>) [tensor(-49.8195, device='cuda:0', grad_fn=<NegBackward0>), tensor(-49.8195, device='cuda:0', grad_fn=<NegBackward0>), tensor(-1.5259e-05, device='cuda:0', grad_fn=<AddBackward0>)]\n",
      "tensor(-100.1365, device='cuda:0', grad_fn=<NegBackward0>) [tensor(-50.0683, device='cuda:0', grad_fn=<NegBackward0>), tensor(-50.0683, device='cuda:0', grad_fn=<NegBackward0>), tensor(1.5259e-05, device='cuda:0', grad_fn=<AddBackward0>)]\n",
      "tensor(-100.3365, device='cuda:0', grad_fn=<NegBackward0>) [tensor(-50.1682, device='cuda:0', grad_fn=<NegBackward0>), tensor(-50.1682, device='cuda:0', grad_fn=<NegBackward0>), tensor(0., device='cuda:0', grad_fn=<AddBackward0>)]\n",
      "tensor(-100.0886, device='cuda:0', grad_fn=<NegBackward0>) [tensor(-50.0443, device='cuda:0', grad_fn=<NegBackward0>), tensor(-50.0443, device='cuda:0', grad_fn=<NegBackward0>), tensor(1.5259e-05, device='cuda:0', grad_fn=<AddBackward0>)]\n",
      "tensor(-100.3124, device='cuda:0', grad_fn=<NegBackward0>) [tensor(-50.1562, device='cuda:0', grad_fn=<NegBackward0>), tensor(-50.1562, device='cuda:0', grad_fn=<NegBackward0>), tensor(0., device='cuda:0', grad_fn=<AddBackward0>)]\n",
      "tensor(-100.4742, device='cuda:0', grad_fn=<NegBackward0>) [tensor(-50.2371, device='cuda:0', grad_fn=<NegBackward0>), tensor(-50.2371, device='cuda:0', grad_fn=<NegBackward0>), tensor(0., device='cuda:0', grad_fn=<AddBackward0>)]\n",
      "tensor(-100.2315, device='cuda:0', grad_fn=<NegBackward0>) [tensor(-50.1158, device='cuda:0', grad_fn=<NegBackward0>), tensor(-50.1158, device='cuda:0', grad_fn=<NegBackward0>), tensor(3.0518e-05, device='cuda:0', grad_fn=<AddBackward0>)]\n",
      "tensor(-100.4724, device='cuda:0', grad_fn=<NegBackward0>) [tensor(-50.2362, device='cuda:0', grad_fn=<NegBackward0>), tensor(-50.2362, device='cuda:0', grad_fn=<NegBackward0>), tensor(0., device='cuda:0', grad_fn=<AddBackward0>)]\n",
      "tensor(-100.4321, device='cuda:0', grad_fn=<NegBackward0>) [tensor(-50.2161, device='cuda:0', grad_fn=<NegBackward0>), tensor(-50.2161, device='cuda:0', grad_fn=<NegBackward0>), tensor(-1.5259e-05, device='cuda:0', grad_fn=<AddBackward0>)]\n",
      "tensor(-100.2474, device='cuda:0', grad_fn=<NegBackward0>) [tensor(-50.1237, device='cuda:0', grad_fn=<NegBackward0>), tensor(-50.1237, device='cuda:0', grad_fn=<NegBackward0>), tensor(0., device='cuda:0', grad_fn=<AddBackward0>)]\n",
      "tensor(-100.5136, device='cuda:0', grad_fn=<NegBackward0>) [tensor(-50.2568, device='cuda:0', grad_fn=<NegBackward0>), tensor(-50.2568, device='cuda:0', grad_fn=<NegBackward0>), tensor(-3.0518e-05, device='cuda:0', grad_fn=<AddBackward0>)]\n",
      "tensor(-100.2735, device='cuda:0', grad_fn=<NegBackward0>) [tensor(-50.1368, device='cuda:0', grad_fn=<NegBackward0>), tensor(-50.1368, device='cuda:0', grad_fn=<NegBackward0>), tensor(1.5259e-05, device='cuda:0', grad_fn=<AddBackward0>)]\n",
      "tensor(-100.3098, device='cuda:0', grad_fn=<NegBackward0>) [tensor(-50.1549, device='cuda:0', grad_fn=<NegBackward0>), tensor(-50.1549, device='cuda:0', grad_fn=<NegBackward0>), tensor(-1.5259e-05, device='cuda:0', grad_fn=<AddBackward0>)]\n",
      "tensor(-100.3762, device='cuda:0', grad_fn=<NegBackward0>) [tensor(-50.1881, device='cuda:0', grad_fn=<NegBackward0>), tensor(-50.1881, device='cuda:0', grad_fn=<NegBackward0>), tensor(-3.0518e-05, device='cuda:0', grad_fn=<AddBackward0>)]\n",
      "tensor(-100.1724, device='cuda:0', grad_fn=<NegBackward0>) [tensor(-50.0862, device='cuda:0', grad_fn=<NegBackward0>), tensor(-50.0862, device='cuda:0', grad_fn=<NegBackward0>), tensor(0., device='cuda:0', grad_fn=<AddBackward0>)]\n",
      "tensor(-100.3122, device='cuda:0', grad_fn=<NegBackward0>) [tensor(-50.1561, device='cuda:0', grad_fn=<NegBackward0>), tensor(-50.1561, device='cuda:0', grad_fn=<NegBackward0>), tensor(-1.5259e-05, device='cuda:0', grad_fn=<AddBackward0>)]\n",
      "tensor(-100.1059, device='cuda:0', grad_fn=<NegBackward0>) [tensor(-50.0529, device='cuda:0', grad_fn=<NegBackward0>), tensor(-50.0529, device='cuda:0', grad_fn=<NegBackward0>), tensor(0., device='cuda:0', grad_fn=<AddBackward0>)]\n",
      "tensor(-100.2166, device='cuda:0', grad_fn=<NegBackward0>) [tensor(-50.1083, device='cuda:0', grad_fn=<NegBackward0>), tensor(-50.1083, device='cuda:0', grad_fn=<NegBackward0>), tensor(0., device='cuda:0', grad_fn=<AddBackward0>)]\n",
      "tensor(-99.7565, device='cuda:0', grad_fn=<NegBackward0>) [tensor(-49.8783, device='cuda:0', grad_fn=<NegBackward0>), tensor(-49.8783, device='cuda:0', grad_fn=<NegBackward0>), tensor(-1.5259e-05, device='cuda:0', grad_fn=<AddBackward0>)]\n",
      "tensor(-100.1119, device='cuda:0', grad_fn=<NegBackward0>) [tensor(-50.0560, device='cuda:0', grad_fn=<NegBackward0>), tensor(-50.0560, device='cuda:0', grad_fn=<NegBackward0>), tensor(0., device='cuda:0', grad_fn=<AddBackward0>)]\n",
      "tensor(-98.4950, device='cuda:0', grad_fn=<NegBackward0>) [tensor(-49.2475, device='cuda:0', grad_fn=<NegBackward0>), tensor(-49.2475, device='cuda:0', grad_fn=<NegBackward0>), tensor(0., device='cuda:0', grad_fn=<AddBackward0>)]\n",
      "tensor(-99.2885, device='cuda:0', grad_fn=<NegBackward0>) [tensor(-49.6442, device='cuda:0', grad_fn=<NegBackward0>), tensor(-49.6442, device='cuda:0', grad_fn=<NegBackward0>), tensor(0., device='cuda:0', grad_fn=<AddBackward0>)]\n",
      "tensor(-97.0894, device='cuda:0', grad_fn=<NegBackward0>) [tensor(-48.5447, device='cuda:0', grad_fn=<NegBackward0>), tensor(-48.5447, device='cuda:0', grad_fn=<NegBackward0>), tensor(1.5259e-05, device='cuda:0', grad_fn=<AddBackward0>)]\n",
      "tensor(-95.6575, device='cuda:0', grad_fn=<NegBackward0>) [tensor(-47.8288, device='cuda:0', grad_fn=<NegBackward0>), tensor(-47.8288, device='cuda:0', grad_fn=<NegBackward0>), tensor(0., device='cuda:0', grad_fn=<AddBackward0>)]\n",
      "tensor(-95.1221, device='cuda:0', grad_fn=<NegBackward0>) [tensor(-47.5611, device='cuda:0', grad_fn=<NegBackward0>), tensor(-47.5611, device='cuda:0', grad_fn=<NegBackward0>), tensor(0., device='cuda:0', grad_fn=<AddBackward0>)]\n",
      "tensor(-96.1175, device='cuda:0', grad_fn=<NegBackward0>) [tensor(-48.0588, device='cuda:0', grad_fn=<NegBackward0>), tensor(-48.0588, device='cuda:0', grad_fn=<NegBackward0>), tensor(0., device='cuda:0', grad_fn=<AddBackward0>)]\n"
     ]
    },
    {
     "name": "stdout",
     "output_type": "stream",
     "text": [
      "tensor(-97.2663, device='cuda:0', grad_fn=<NegBackward0>) [tensor(-48.6332, device='cuda:0', grad_fn=<NegBackward0>), tensor(-48.6332, device='cuda:0', grad_fn=<NegBackward0>), tensor(0., device='cuda:0', grad_fn=<AddBackward0>)]\n",
      "tensor(-98.7113, device='cuda:0', grad_fn=<NegBackward0>) [tensor(-49.3556, device='cuda:0', grad_fn=<NegBackward0>), tensor(-49.3556, device='cuda:0', grad_fn=<NegBackward0>), tensor(0., device='cuda:0', grad_fn=<AddBackward0>)]\n",
      "tensor(-99.3638, device='cuda:0', grad_fn=<NegBackward0>) [tensor(-49.6819, device='cuda:0', grad_fn=<NegBackward0>), tensor(-49.6819, device='cuda:0', grad_fn=<NegBackward0>), tensor(0., device='cuda:0', grad_fn=<AddBackward0>)]\n",
      "tensor(-99.6593, device='cuda:0', grad_fn=<NegBackward0>) [tensor(-49.8297, device='cuda:0', grad_fn=<NegBackward0>), tensor(-49.8297, device='cuda:0', grad_fn=<NegBackward0>), tensor(3.0518e-05, device='cuda:0', grad_fn=<AddBackward0>)]\n",
      "tensor(-100.2265, device='cuda:0', grad_fn=<NegBackward0>) [tensor(-50.1132, device='cuda:0', grad_fn=<NegBackward0>), tensor(-50.1132, device='cuda:0', grad_fn=<NegBackward0>), tensor(0., device='cuda:0', grad_fn=<AddBackward0>)]\n",
      "tensor(-100.1198, device='cuda:0', grad_fn=<NegBackward0>) [tensor(-50.0599, device='cuda:0', grad_fn=<NegBackward0>), tensor(-50.0599, device='cuda:0', grad_fn=<NegBackward0>), tensor(0., device='cuda:0', grad_fn=<AddBackward0>)]\n",
      "tensor(-100.1439, device='cuda:0', grad_fn=<NegBackward0>) [tensor(-50.0719, device='cuda:0', grad_fn=<NegBackward0>), tensor(-50.0719, device='cuda:0', grad_fn=<NegBackward0>), tensor(0., device='cuda:0', grad_fn=<AddBackward0>)]\n",
      "tensor(-100.3634, device='cuda:0', grad_fn=<NegBackward0>) [tensor(-50.1817, device='cuda:0', grad_fn=<NegBackward0>), tensor(-50.1817, device='cuda:0', grad_fn=<NegBackward0>), tensor(0., device='cuda:0', grad_fn=<AddBackward0>)]\n",
      "tensor(-100.3193, device='cuda:0', grad_fn=<NegBackward0>) [tensor(-50.1596, device='cuda:0', grad_fn=<NegBackward0>), tensor(-50.1596, device='cuda:0', grad_fn=<NegBackward0>), tensor(0., device='cuda:0', grad_fn=<AddBackward0>)]\n",
      "tensor(-100.3438, device='cuda:0', grad_fn=<NegBackward0>) [tensor(-50.1719, device='cuda:0', grad_fn=<NegBackward0>), tensor(-50.1719, device='cuda:0', grad_fn=<NegBackward0>), tensor(0., device='cuda:0', grad_fn=<AddBackward0>)]\n",
      "tensor(-100.5388, device='cuda:0', grad_fn=<NegBackward0>) [tensor(-50.2694, device='cuda:0', grad_fn=<NegBackward0>), tensor(-50.2694, device='cuda:0', grad_fn=<NegBackward0>), tensor(0., device='cuda:0', grad_fn=<AddBackward0>)]\n",
      "tensor(-100.4336, device='cuda:0', grad_fn=<NegBackward0>) [tensor(-50.2168, device='cuda:0', grad_fn=<NegBackward0>), tensor(-50.2168, device='cuda:0', grad_fn=<NegBackward0>), tensor(3.0518e-05, device='cuda:0', grad_fn=<AddBackward0>)]\n",
      "tensor(-100.3516, device='cuda:0', grad_fn=<NegBackward0>) [tensor(-50.1758, device='cuda:0', grad_fn=<NegBackward0>), tensor(-50.1758, device='cuda:0', grad_fn=<NegBackward0>), tensor(3.0518e-05, device='cuda:0', grad_fn=<AddBackward0>)]\n",
      "tensor(-100.5035, device='cuda:0', grad_fn=<NegBackward0>) [tensor(-50.2517, device='cuda:0', grad_fn=<NegBackward0>), tensor(-50.2517, device='cuda:0', grad_fn=<NegBackward0>), tensor(0., device='cuda:0', grad_fn=<AddBackward0>)]\n",
      "tensor(-100.5665, device='cuda:0', grad_fn=<NegBackward0>) [tensor(-50.2832, device='cuda:0', grad_fn=<NegBackward0>), tensor(-50.2832, device='cuda:0', grad_fn=<NegBackward0>), tensor(0., device='cuda:0', grad_fn=<AddBackward0>)]\n",
      "tensor(-100.5730, device='cuda:0', grad_fn=<NegBackward0>) [tensor(-50.2865, device='cuda:0', grad_fn=<NegBackward0>), tensor(-50.2865, device='cuda:0', grad_fn=<NegBackward0>), tensor(-3.0518e-05, device='cuda:0', grad_fn=<AddBackward0>)]\n",
      "tensor(-100.4683, device='cuda:0', grad_fn=<NegBackward0>) [tensor(-50.2341, device='cuda:0', grad_fn=<NegBackward0>), tensor(-50.2341, device='cuda:0', grad_fn=<NegBackward0>), tensor(-1.5259e-05, device='cuda:0', grad_fn=<AddBackward0>)]\n",
      "tensor(-100.6271, device='cuda:0', grad_fn=<NegBackward0>) [tensor(-50.3136, device='cuda:0', grad_fn=<NegBackward0>), tensor(-50.3136, device='cuda:0', grad_fn=<NegBackward0>), tensor(0., device='cuda:0', grad_fn=<AddBackward0>)]\n",
      "tensor(-100.6388, device='cuda:0', grad_fn=<NegBackward0>) [tensor(-50.3194, device='cuda:0', grad_fn=<NegBackward0>), tensor(-50.3194, device='cuda:0', grad_fn=<NegBackward0>), tensor(0., device='cuda:0', grad_fn=<AddBackward0>)]\n",
      "tensor(-100.5655, device='cuda:0', grad_fn=<NegBackward0>) [tensor(-50.2827, device='cuda:0', grad_fn=<NegBackward0>), tensor(-50.2827, device='cuda:0', grad_fn=<NegBackward0>), tensor(0., device='cuda:0', grad_fn=<AddBackward0>)]\n",
      "tensor(-100.3025, device='cuda:0', grad_fn=<NegBackward0>) [tensor(-50.1512, device='cuda:0', grad_fn=<NegBackward0>), tensor(-50.1512, device='cuda:0', grad_fn=<NegBackward0>), tensor(-1.5259e-05, device='cuda:0', grad_fn=<AddBackward0>)]\n",
      "tensor(-100.4315, device='cuda:0', grad_fn=<NegBackward0>) [tensor(-50.2157, device='cuda:0', grad_fn=<NegBackward0>), tensor(-50.2157, device='cuda:0', grad_fn=<NegBackward0>), tensor(1.5259e-05, device='cuda:0', grad_fn=<AddBackward0>)]\n",
      "tensor(-100.0839, device='cuda:0', grad_fn=<NegBackward0>) [tensor(-50.0419, device='cuda:0', grad_fn=<NegBackward0>), tensor(-50.0419, device='cuda:0', grad_fn=<NegBackward0>), tensor(0., device='cuda:0', grad_fn=<AddBackward0>)]\n",
      "tensor(-100.3726, device='cuda:0', grad_fn=<NegBackward0>) [tensor(-50.1863, device='cuda:0', grad_fn=<NegBackward0>), tensor(-50.1863, device='cuda:0', grad_fn=<NegBackward0>), tensor(0., device='cuda:0', grad_fn=<AddBackward0>)]\n",
      "tensor(-99.3944, device='cuda:0', grad_fn=<NegBackward0>) [tensor(-49.6972, device='cuda:0', grad_fn=<NegBackward0>), tensor(-49.6972, device='cuda:0', grad_fn=<NegBackward0>), tensor(0., device='cuda:0', grad_fn=<AddBackward0>)]\n",
      "tensor(-100.2852, device='cuda:0', grad_fn=<NegBackward0>) [tensor(-50.1426, device='cuda:0', grad_fn=<NegBackward0>), tensor(-50.1426, device='cuda:0', grad_fn=<NegBackward0>), tensor(1.5259e-05, device='cuda:0', grad_fn=<AddBackward0>)]\n"
     ]
    }
   ],
   "source": [
    "# fixed radius case, due to this requires more steps to go to about -200 then set 1500 epoches\n",
    "mean_V = []\n",
    "n_dis2 = 1\n",
    "n_dis = 1\n",
    "mode = 11\n",
    "gam3 = 1\n",
    "mcr_gan_loss = MCRGANloss(gam1=1., gam2=1., gam3=gam3, eps=0.5, numclasses=numclasses, mode=mode, rho=None)\n",
    "loss_V = 0\n",
    "last_V = -1000\n",
    "num_steps = 1000\n",
    "lr1 = 1e-3\n",
    "lr2 = 1e-3\n",
    "optD = optim.Adam(netD.parameters(), lr1, betas=(0.5, 0.999))\n",
    "optG = optim.Adam(netG.parameters(), lr2, betas=(0.5, 0.999))\n",
    "meanV_sum = []\n",
    "radius_list = []\n",
    "radius = 0\n",
    "for epoch in range(num_steps):\n",
    "\n",
    "    for i in range(n_dis):\n",
    "        netD.zero_grad()\n",
    "        optD.zero_grad()\n",
    "        Z = netD(real_cpu)\n",
    "        net_noise = get_noise(DATASET, device, LABEL)\n",
    "        #radius,_ = gs_radius(radius1=0,radius2=100,netD=netD,real_cpu=real_cpu,real_label=real_label,tor=1e-5,n_dis=2,lam=0.618,mode=1)\n",
    "        #radius_list.append(radius)\n",
    "        #print(radius)\n",
    "        fed_state_dict = get_netG(netD,netV,net_noise,radius)\n",
    "        netG.load_state_dict(fed_state_dict)\n",
    "        Z_bar = netG(real_cpu)\n",
    "        errD, errD_EC = mcr_gan_loss(Z, Z_bar, real_label, 1, n_dis)\n",
    "        print(errD, errD_EC)\n",
    "        errD.backward()\n",
    "        optD.step()\n",
    "\n",
    "    #print(meanV_num)\n",
    "    #print(tempV)\n",
    "    \n",
    "    "
   ]
  },
  {
   "cell_type": "code",
   "execution_count": 10,
   "id": "459dece9",
   "metadata": {},
   "outputs": [
    {
     "name": "stdout",
     "output_type": "stream",
     "text": [
      "0.16982696156975263 0.2\n",
      "99.9718801735912 0.2\n",
      "99.88121025632931 0.2\n",
      "99.9241285995031 0.1\n",
      "0.17184711995400917 0.2\n",
      "0.1766322144022373 0.2\n",
      "0.15633157136951747 0.2\n",
      "0.141353343831099 0.1\n",
      "99.94655926478575 0.2\n",
      "99.92193618405834 0.1\n",
      "99.82768495207712 0.1\n",
      "0.1545631109114424 0.1\n",
      "99.99182921188923 0.1\n",
      "0.18139886405619174 0.2\n",
      "0.15804355876650317 0.2\n",
      "99.93342702064884 0.2\n",
      "99.9806207522803 0.2\n",
      "0.14475841824989227 0.1\n",
      "99.96793596386014 0.2\n",
      "0.18204976987872296 0.2\n",
      "99.970995705009 0.2\n",
      "0.16504683543302992 0.2\n",
      "30.28331600871327 0.2\n",
      "0.1675727639915221 0.2\n",
      "0.16376105596954035 0.2\n",
      "0.16942413523609334 0.2\n",
      "0.16540743143465853 0.2\n",
      "0.15701706960030612 0.2\n",
      "0.1720878456144339 0.2\n",
      "99.91887091060293 0.1\n",
      "0.14184456218056557 0.1\n",
      "99.96944431600411 0.2\n",
      "0.15653080511453552 0.2\n",
      "0.1500645543282656 0.1\n",
      "99.95367578400547 0.2\n",
      "99.85760641378552 0.2\n",
      "99.95349421390807 0.1\n",
      "0.17726457368900742 0.2\n",
      "99.82474676939043 0.2\n",
      "0.15969982316694678 0.2\n",
      "0.1439988723031418 0.1\n",
      "0.14916101839644533 0.1\n",
      "0.17752133164143885 0.2\n",
      "99.76289690726644 0.1\n",
      "0.18438549541772054 0.2\n",
      "99.55367625582524 0.1\n",
      "0.15658452148473107 0.2\n",
      "0.16799761092489937 0.2\n",
      "0.15974670457117054 0.2\n",
      "0.16438965960408625 0.2\n",
      "0.1668368334799576 0.2\n",
      "99.8845391544923 0.2\n",
      "0.16081672183768772 0.2\n",
      "0.14944301813849056 0.1\n",
      "0.17068136639731896 0.2\n",
      "99.94636021614984 0.2\n",
      "0.16474031348611914 0.2\n",
      "99.9338140778248 0.1\n",
      "0.1773749272073649 0.2\n",
      "0.16979508322900883 0.2\n",
      "0.17556439533371787 0.2\n",
      "99.9587033480106 0.2\n",
      "0.16538458166519707 0.2\n",
      "0.1777741698617345 0.2\n",
      "0.1836815204433647 0.2\n",
      "99.96383107272561 0.2\n",
      "0.1731822952931678 0.2\n",
      "94.75602913228799 0.2\n",
      "31.11725758740112 0.2\n",
      "0.17254976543208 0.2\n",
      "0.1466449131893457 0.1\n",
      "0.1598015291480627 0.2\n",
      "0.15115877113121098 0.1\n",
      "0.1612081655942018 0.2\n",
      "0.16702257294712905 0.2\n",
      "99.91411914206492 0.2\n",
      "0.1641986032769958 0.2\n",
      "99.9414742277114 0.2\n",
      "0.17236829744949922 0.2\n",
      "99.97700632728818 0.2\n",
      "0.1477635481637708 0.1\n",
      "99.95913027544877 0.2\n",
      "99.94237651323435 0.2\n",
      "0.17585329112597792 0.2\n",
      "99.68562491696304 0.2\n",
      "0.1855662678741969 0.2\n",
      "0.16057148552986056 0.2\n",
      "0.13019073791608862 0.1\n",
      "0.16839759236684457 0.2\n",
      "0.14558267267023617 0.1\n",
      "0.13648543322613663 0.1\n",
      "0.1611535785352272 0.2\n",
      "0.16456356154450275 0.2\n",
      "0.16140239139302787 0.2\n",
      "97.97621327338523 0.2\n",
      "0.16745456683873858 0.2\n",
      "0.15698547067858626 0.2\n",
      "0.17054682688003914 0.2\n",
      "99.97339818676362 0.2\n",
      "99.98460374506627 0.2\n",
      "99.92575232760393 0.2\n",
      "99.96576899930217 0.1\n",
      "95.70864786046859 0.2\n",
      "0.13408334423873078 0.1\n",
      "0.14234215649397322 0.1\n",
      "99.95426339766856 0.2\n",
      "0.16190791346867214 0.2\n",
      "99.95880286866037 0.1\n",
      "99.96117720089798 0.2\n",
      "0.16612251785929763 0.2\n",
      "0.13198673550042508 0.1\n",
      "99.7399089363203 0.2\n",
      "99.92435646547192 0.2\n",
      "0.16387624368498777 0.2\n",
      "0.16140255511957063 0.2\n",
      "99.95472118924262 0.2\n",
      "99.96541060212455 0.1\n",
      "0.15997016077859466 0.2\n",
      "0.1707123173077804 0.2\n",
      "0.1708035182571705 0.2\n",
      "0.18925844989479645 0.2\n",
      "0.1365746391572105 0.1\n",
      "0.13044657452460082 0.1\n",
      "0.15538081499195933 0.2\n",
      "0.1383567971382807 0.1\n",
      "99.88083739316566 0.2\n",
      "0.1521633384693269 0.1\n",
      "99.69416374523186 0.1\n",
      "0.17125167847053016 0.2\n",
      "0.1770050247502304 0.2\n",
      "60.0916175680776 0.2\n",
      "40.556628480451245 0.1\n",
      "99.91462774812658 0.1\n",
      "0.16275438075291548 0.2\n",
      "0.16805014408469185 0.2\n",
      "99.9529981318485 0.2\n",
      "23.496830884078268 0.2\n",
      "99.92288224930779 0.2\n",
      "0.16078355308497538 0.2\n",
      "0.1590830086170016 0.2\n",
      "0.16270585647637342 0.2\n",
      "99.95408959945784 0.2\n",
      "99.96539494298949 0.1\n",
      "99.9243106287765 0.2\n",
      "0.16383338067479597 0.2\n",
      "0.1693229576695691 0.2\n",
      "0.1641428884042019 0.2\n",
      "0.15974485674977665 0.2\n",
      "0.16932757277247037 0.2\n",
      "0.16338293505540522 0.2\n",
      "0.17128836366307018 0.2\n",
      "99.98326359821338 0.2\n",
      "0.13935367925164022 0.1\n",
      "0.14087076863944353 0.1\n",
      "99.98269611668945 0.2\n",
      "0.16511317449663457 0.2\n",
      "99.82907807978764 0.2\n",
      "0.1522982513238985 0.1\n",
      "0.1527718923028725 0.1\n",
      "0.16404475519510295 0.2\n",
      "0.17261689210060666 0.2\n",
      "0.16377830328163825 0.2\n",
      "0.14311263274851788 0.1\n",
      "99.97126910154067 0.2\n",
      "99.93381108722757 0.2\n",
      "99.95201415989833 0.1\n",
      "0.15749439316134733 0.2\n",
      "0.16856026241688718 0.2\n",
      "99.81221120469631 0.2\n",
      "0.1537987901901474 0.1\n",
      "0.1579928776478649 0.2\n",
      "99.94553727484283 0.2\n",
      "0.16002675349755724 0.2\n",
      "0.15368175079977126 0.1\n",
      "99.93507577946565 0.2\n",
      "0.17291062319492448 0.2\n",
      "0.15477605750289333 0.1\n",
      "0.15689765617184134 0.2\n",
      "99.94930472878573 0.2\n",
      "0.1557949365390792 0.2\n",
      "0.14546350168768907 0.1\n",
      "99.9503092512388 0.2\n",
      "99.92055099798462 0.2\n",
      "0.18030097840460407 0.2\n",
      "0.15612764819221842 0.2\n",
      "0.18628036155239666 0.2\n",
      "99.97885494591215 0.2\n",
      "0.16065540068134793 0.2\n",
      "0.1563189471182384 0.2\n",
      "99.69620690215132 0.1\n",
      "0.15568555054539157 0.2\n",
      "0.15496441650534992 0.1\n",
      "0.14810530098576694 0.1\n",
      "0.16258098733645335 0.2\n",
      "0.15343355594302838 0.1\n",
      "99.8814328255262 0.2\n",
      "0.17051846234926613 0.2\n",
      "0.16539727601085955 0.2\n",
      "99.81896559895819 0.2\n",
      "0.1738332212867875 0.2\n",
      "0.16269019229954393 0.2\n",
      "0.1511667212856482 0.1\n",
      "0.1789035398738662 0.2\n",
      "99.94655926478575 0.2\n",
      "0.18255640387193806 0.2\n",
      "0.13851971461475665 0.1\n",
      "0.16754263517286175 0.2\n",
      "99.98348401797578 0.1\n",
      "99.97424344669336 0.2\n",
      "0.17044726818229758 0.2\n",
      "0.16148085648551752 0.2\n",
      "0.1563141089268865 0.2\n",
      "99.95462351618697 0.1\n",
      "0.1440030042590187 0.1\n",
      "0.17358341231564256 0.2\n",
      "0.1664040936515113 0.2\n",
      "0.16809398481372423 0.2\n",
      "0.14129184295884625 0.1\n",
      "99.91351549747988 0.2\n",
      "99.90788446681866 0.1\n",
      "0.16457139189096806 0.2\n",
      "0.1666757723514001 0.2\n",
      "0.1401558894115264 0.1\n",
      "0.15684327547155177 0.2\n",
      "99.93935741570819 0.2\n",
      "0.15860764897402352 0.2\n",
      "0.17584837926116553 0.2\n",
      "99.85204232973769 0.2\n",
      "0.18954867377738735 0.2\n",
      "0.15747310681629523 0.2\n",
      "0.14810314295281007 0.1\n",
      "99.9735122007318 0.2\n",
      "0.17389472935447858 0.2\n",
      "0.16878769969690216 0.2\n",
      "0.16918881909994862 0.2\n",
      "99.96181733234941 0.2\n",
      "0.15971951834352963 0.2\n",
      "99.9045875210727 0.2\n",
      "99.94389255179871 0.1\n",
      "99.97119491737143 0.2\n",
      "99.94546608534985 0.2\n",
      "99.92278457625214 0.2\n",
      "0.17994888101322856 0.2\n",
      "0.16567838033276308 0.2\n",
      "99.95205815115293 0.1\n",
      "99.9663722146033 0.2\n",
      "99.91172907686023 0.2\n",
      "99.950644797646 0.1\n",
      "99.9717903029212 0.2\n",
      "0.1718501105512526 0.2\n",
      "0.14717112560937942 0.1\n",
      "99.9392944701243 0.1\n",
      "0.1730096488520897 0.2\n",
      "99.97238288621456 0.1\n",
      "0.1638810711961908 0.2\n",
      "0.16551484785002624 0.2\n",
      "33.37373023140114 0.2\n",
      "99.96815096919812 0.1\n",
      "99.97600804501272 0.2\n",
      "99.96022156166245 0.2\n",
      "99.98677082966852 0.1\n",
      "0.1594979431857726 0.2\n",
      "99.97475702635916 0.2\n",
      "99.95472118924262 0.2\n",
      "0.1828350760857456 0.2\n",
      "99.73476365643533 0.2\n",
      "0.1758678235748093 0.2\n",
      "0.17896945936982417 0.2\n",
      "99.94638071636473 0.2\n",
      "0.1256877971565325 0.1\n",
      "99.8600701097513 0.1\n",
      "99.95719315450563 0.2\n",
      "0.1406947637687353 0.1\n",
      "0.1636555376670204 0.2\n",
      "0.15389332462811187 0.1\n",
      "0.17677763931984924 0.2\n",
      "0.17469035083333098 0.2\n",
      "0.17181878723936245 0.2\n",
      "99.95067013412654 0.1\n",
      "0.1389853969207688 0.1\n",
      "99.94968553512768 0.2\n",
      "0.17001294123975083 0.2\n",
      "0.1589219154427433 0.2\n",
      "99.8911848980166 0.2\n",
      "0.16815912151228607 0.2\n",
      "0.15685487385734806 0.2\n",
      "99.93832750336348 0.2\n",
      "0.15917768543740501 0.2\n",
      "99.95869551573843 0.1\n",
      "0.18174795227037885 0.2\n",
      "99.79957830869792 0.2\n",
      "99.99335806016953 0.2\n",
      "0.16535325835330691 0.2\n",
      "0.1751091546284233 0.2\n",
      "0.1532806337772965 0.1\n",
      "99.92666697182078 0.1\n",
      "99.13790329839325 0.2\n",
      "0.12877370102466126 0.1\n",
      "0.1607942728456807 0.2\n",
      "99.96932429009732 0.2\n",
      "0.1715247500503212 0.2\n",
      "0.1679202639039048 0.2\n",
      "99.9584964476658 0.2\n",
      "0.16011491777061382 0.2\n",
      "99.96453895236635 0.1\n",
      "99.95325415393465 0.2\n",
      "99.97734117787088 0.1\n",
      "0.14079545062177418 0.1\n",
      "0.1739200677607256 0.2\n",
      "99.82859780428733 0.2\n",
      "0.16938312389858684 0.2\n",
      "0.16859457573103281 0.2\n",
      "0.16546895678414394 0.2\n",
      "99.95471336045402 0.2\n",
      "81.04503845138049 0.2\n",
      "0.17003355734099243 0.2\n",
      "99.72829595837064 0.2\n",
      "99.97755591264117 0.2\n",
      "0.17043345723633335 0.2\n",
      "99.97739485559211 0.2\n",
      "0.1721113436220108 0.2\n",
      "0.16128719143836662 0.2\n",
      "39.5424703364045 0.2\n",
      "0.16446702044330283 0.2\n",
      "0.1433546044917664 0.1\n",
      "0.15920272431223795 0.2\n",
      "0.17174730641050767 0.2\n",
      "0.18357110838774468 0.2\n",
      "0.1632318960482787 0.2\n",
      "99.98115006369615 0.2\n",
      "0.16717157843260713 0.2\n",
      "99.95629321691784 0.2\n",
      "99.95157975818096 0.2\n",
      "99.91754405941121 0.2\n",
      "99.98179912036682 0.1\n",
      "0.1363061977355558 0.1\n",
      "0.17162560733979149 0.2\n",
      "0.16550512273443174 0.2\n",
      "0.13950680477122215 0.1\n",
      "99.9499822583771 0.2\n",
      "0.17284912254995716 0.2\n",
      "0.15423391235480885 0.2\n",
      "0.14102518370819184 0.1\n",
      "99.9333514542925 0.1\n",
      "99.97192601028662 0.2\n",
      "99.96229761756642 0.2\n",
      "0.17156901943557717 0.2\n",
      "0.153893471089556 0.1\n",
      "0.17453618601907767 0.2\n",
      "0.18515069623792757 0.2\n",
      "39.98751096463926 0.2\n",
      "99.8646335948772 0.2\n",
      "0.164988229019723 0.2\n",
      "0.15725416694055527 0.2\n",
      "0.17863299153341025 0.2\n",
      "0.1642062572668572 0.2\n",
      "0.165340590410596 0.2\n",
      "0.15352068462844168 0.2\n"
     ]
    },
    {
     "name": "stdout",
     "output_type": "stream",
     "text": [
      "0.17513138396018593 0.2\n",
      "0.1727506867334417 0.2\n",
      "0.15970201065159684 0.2\n",
      "99.88144250287168 0.1\n",
      "0.1720541774220889 0.2\n",
      "0.16511914033516437 0.2\n",
      "0.14868117747775964 0.1\n",
      "99.98253992831665 0.2\n",
      "99.75225970236166 0.2\n",
      "99.98210068529187 0.2\n",
      "99.95635471779009 0.2\n",
      "99.9883682454983 0.2\n",
      "99.98910715147815 0.2\n",
      "0.1808256062670716 0.2\n",
      "0.17034661076239524 0.2\n",
      "0.15428951556388282 0.2\n",
      "0.18287810066962223 0.2\n",
      "99.96560795701522 0.2\n",
      "0.17080147872503068 0.2\n",
      "0.14999148675640636 0.1\n",
      "0.17001148050434647 0.2\n",
      "99.94653691697674 0.1\n",
      "0.16986931516542253 0.2\n",
      "0.13120970254106837 0.1\n",
      "0.16599149490266105 0.2\n",
      "0.1739200677607256 0.2\n",
      "0.1556829218954598 0.1\n",
      "48.487206172199706 0.2\n",
      "0.16482727567450095 0.2\n",
      "0.16300414855670076 0.2\n",
      "0.1336351900299488 0.1\n",
      "0.16016759194808167 0.2\n",
      "99.9386388615762 0.2\n",
      "0.14162974883561402 0.1\n",
      "0.1730096488520897 0.2\n",
      "0.17512858119889704 0.2\n",
      "0.1709090579221135 0.2\n",
      "99.9533078357357 0.2\n",
      "99.92361518358398 0.2\n",
      "0.15759682397909136 0.2\n",
      "99.98361972126138 0.2\n",
      "99.97096252342284 0.2\n",
      "0.16405303464621399 0.2\n",
      "99.73588583648787 0.1\n",
      "0.15352417503328505 0.2\n",
      "99.9710778942999 0.1\n",
      "0.17551072421282413 0.2\n",
      "99.82282245467839 0.1\n",
      "0.1539723448354015 0.1\n",
      "0.18199310742510755 0.2\n",
      "0.15938656023966785 0.2\n",
      "0.16272573779560717 0.2\n",
      "0.17551729836241764 0.2\n",
      "0.15847761414939424 0.2\n",
      "0.17970582984745473 0.2\n",
      "0.14244283266686322 0.1\n",
      "0.16865792983453404 0.2\n",
      "0.17491790659058692 0.2\n",
      "99.79025364207487 0.2\n",
      "99.89791995235926 0.2\n",
      "0.16445441251086285 0.2\n",
      "0.17713258978016283 0.2\n",
      "99.95906392726401 0.2\n",
      "0.1617268132251377 0.2\n",
      "0.167135451498518 0.2\n",
      "0.19285777794050954 0.2\n",
      "99.98491806494312 0.2\n",
      "0.18106567091460718 0.2\n",
      "99.9031762516642 0.2\n",
      "99.97869389294505 0.1\n",
      "0.16251163319837258 0.2\n",
      "99.95472118924262 0.1\n",
      "99.9346495981248 0.2\n",
      "0.1704648191924409 0.2\n",
      "0.1506153183551761 0.1\n",
      "0.17260889802759857 0.2\n",
      "0.16441315412738106 0.2\n",
      "0.16789079088078598 0.2\n",
      "0.16450789192101065 0.2\n",
      "99.96980488457737 0.2\n",
      "99.903802543978 0.2\n",
      "99.8581275629471 0.2\n",
      "0.16823456493965222 0.2\n",
      "0.14479233811967887 0.1\n",
      "0.15880157272273557 0.2\n",
      "0.1725118402067867 0.2\n",
      "0.13748152671923183 0.1\n",
      "0.174850306046488 0.2\n",
      "0.1684952686787917 0.2\n",
      "0.1649659522767964 0.2\n",
      "24.611624698603187 0.1\n",
      "0.16345714718869775 0.2\n",
      "99.95449078969926 0.1\n",
      "0.14757551762987836 0.1\n",
      "0.16733435990134218 0.2\n",
      "0.15816395472152672 0.2\n",
      "0.16746241194435796 0.2\n",
      "99.92604325415147 0.2\n",
      "0.16395854389855968 0.2\n",
      "0.16786360218576762 0.2\n",
      "0.17626867563502285 0.2\n",
      "0.18986242916267698 0.2\n",
      "0.15553218282317408 0.2\n",
      "0.16299332843538375 0.2\n",
      "99.9553305553099 0.2\n",
      "0.1633725707645689 0.2\n",
      "0.13109079300392004 0.1\n",
      "99.99182437273511 0.1\n",
      "0.16233755274018163 0.2\n",
      "99.94906941686932 0.2\n",
      "0.1466594328047419 0.1\n",
      "99.95103808239631 0.2\n",
      "0.15741823187208268 0.2\n",
      "0.16864536590792648 0.2\n",
      "0.1522394265306524 0.1\n",
      "0.13599511958016944 0.1\n",
      "99.93178046202208 0.2\n",
      "0.1783408984670024 0.2\n",
      "0.19025432974276493 0.2\n",
      "99.96539494298949 0.2\n",
      "99.96271624072297 0.2\n",
      "99.92358685302263 0.2\n",
      "0.13688484055782024 0.1\n",
      "0.13745132890139689 0.1\n",
      "99.93401317890589 0.2\n",
      "0.16365179640722827 0.2\n",
      "0.13776325977759973 0.1\n",
      "0.17314129463581018 0.2\n",
      "0.1460025865898615 0.1\n",
      "99.98831438676875 0.2\n",
      "0.1656151274247085 0.2\n",
      "0.15321398201863637 0.1\n",
      "99.75399721034202 0.2\n",
      "0.16364401250015903 0.2\n",
      "0.1621387958426981 0.2\n",
      "99.9651295176105 0.1\n",
      "0.1457907798769208 0.1\n",
      "99.94126248005364 0.2\n",
      "0.15260962334654413 0.1\n",
      "0.15464401506239644 0.1\n",
      "0.17971373749186015 0.2\n",
      "0.1738772216625458 0.2\n",
      "0.15784931412132688 0.2\n",
      "99.700669749793 0.1\n",
      "0.13809937855525378 0.1\n",
      "0.1836501870463136 0.2\n",
      "0.15100869407316467 0.1\n",
      "0.13644487685867646 0.1\n",
      "0.14842855786203488 0.1\n",
      "99.93682114445784 0.2\n",
      "0.16030711627856584 0.2\n",
      "99.98018093370288 0.2\n",
      "0.17309729018023504 0.2\n",
      "99.8509379104002 0.1\n",
      "0.13555271835944438 0.1\n",
      "0.16158581101549022 0.2\n",
      "0.1622714796070474 0.2\n",
      "0.1464350307762842 0.1\n",
      "99.89426768108966 0.2\n",
      "22.82828197932998 0.2\n",
      "0.16483211386585286 0.2\n",
      "99.91509540717558 0.1\n",
      "0.16854117702646831 0.2\n",
      "0.1576016235262259 0.2\n",
      "0.16578871917713808 0.2\n",
      "0.16250197914004352 0.2\n",
      "26.50383278830705 0.1\n",
      "99.85290626509699 0.2\n",
      "99.97388800323489 0.2\n",
      "99.92280025110912 0.2\n",
      "0.17588835234887923 0.2\n",
      "0.16502005213921309 0.2\n",
      "99.89456931418268 0.2\n",
      "99.95073947290854 0.1\n",
      "0.16148928719608463 0.2\n",
      "0.15463208678318083 0.2\n",
      "0.1587970381426146 0.2\n",
      "0.1739542000442742 0.2\n",
      "76.78871324525647 0.1\n",
      "0.15758308745667934 0.2\n",
      "0.15150323051455375 0.1\n",
      "0.1265982267453173 0.1\n",
      "0.14073907843587344 0.1\n",
      "0.1574925449722509 0.2\n",
      "0.1592169959900798 0.2\n",
      "0.15284606171294246 0.1\n",
      "0.17943524694259824 0.2\n",
      "0.16949849477565765 0.2\n",
      "0.17190553253029714 0.2\n",
      "0.17281109149648113 0.2\n",
      "81.91226381971588 0.2\n",
      "0.16746538778244732 0.2\n",
      "99.9718391465309 0.2\n",
      "0.1696468553228226 0.2\n",
      "0.17346521048592894 0.2\n",
      "82.664331685472 0.1\n",
      "99.96479951314977 0.2\n",
      "0.14780937069344965 0.1\n",
      "0.1635239372650527 0.2\n",
      "99.95432491389508 0.2\n",
      "0.17030374078208907 0.2\n",
      "0.15952030790678817 0.2\n",
      "0.1565180054713496 0.2\n",
      "15.214756054564184 0.1\n",
      "0.17680895988346515 0.2\n",
      "0.1774599313570832 0.2\n",
      "0.16579108000684126 0.2\n",
      "99.90326612485829 0.2\n",
      "99.95472118924262 0.1\n",
      "99.86369435913646 0.2\n",
      "0.16312567448579815 0.2\n",
      "99.96132828206999 0.2\n",
      "0.1570591754217413 0.2\n",
      "0.16481039737515812 0.2\n",
      "0.16562965230997054 0.2\n",
      "0.1810481591436692 0.2\n",
      "99.8056571880671 0.1\n",
      "0.16433614154972107 0.2\n",
      "0.14505483868644745 0.1\n",
      "0.15505861134333077 0.1\n",
      "99.93733456133972 0.1\n",
      "99.97082680537514 0.2\n",
      "99.93961318006596 0.2\n",
      "0.17952695645277827 0.2\n",
      "99.78280831251571 0\n",
      "0.1240945448128253 0\n",
      "0.14487785601447528 0.1\n",
      "0.16587504798773028 0.2\n",
      "97.16914420910494 0.2\n",
      "0.1590069658049779 0.2\n",
      "0.14987030546676797 0.1\n",
      "0.17541261743866765 0.2\n",
      "0.16892670464922846 0.2\n",
      "99.84999208114803 0.2\n",
      "0.18540092069589895 0.2\n",
      "0.14150960037256854 0.1\n",
      "65.10926161342005 0.2\n",
      "99.98928869049641 0.2\n",
      "0.16863585228900177 0.2\n",
      "0.17392305835796903 0.2\n",
      "0.13447103337803668 0.1\n",
      "0.12908454324066265 0.1\n",
      "99.86258045106294 0.2\n",
      "0.1474651747056865 0.1\n",
      "99.92517440486104 0.2\n",
      "0.15233252012422055 0.1\n",
      "0.169526642770811 0.2\n",
      "0.16708962548324363 0.2\n",
      "0.1733655298017773 0.2\n",
      "0.16472465471876102 0.2\n",
      "11.967176101593676 0.1\n",
      "99.95857333302479 0.2\n",
      "0.15477306750063785 0.1\n",
      "0.14890972445322054 0.1\n",
      "0.15855574177543988 0.2\n",
      "0.1546880063169975 0.1\n",
      "0.15193770389840996 0.1\n",
      "0.19007887769343526 0.2\n",
      "99.85731700830023 0.2\n",
      "0.15558292803147167 0.2\n",
      "0.18087145423693837 0.2\n",
      "0.15962562987475046 0.2\n",
      "0.18149327489728243 0.2\n",
      "0.15048624693785667 0.1\n",
      "0.16228910324113768 0.2\n",
      "0.1473450903476079 0.1\n",
      "0.16828518550165433 0.2\n",
      "0.18052879912412118 0.2\n",
      "0.15904983830610928 0.2\n",
      "99.96030358062518 0.2\n",
      "99.7587913754951 0.2\n",
      "0.14833558361733284 0.1\n",
      "0.18505302474127552 0.2\n",
      "0.13860422822093477 0.1\n",
      "0.17103671742248017 0.2\n",
      "99.92674671142557 0.2\n",
      "19.042019541918968 0.2\n",
      "0.13583563355220551 0.1\n",
      "0.16378938653090078 0.2\n",
      "0.17474108788141993 0.2\n",
      "99.92004605617758 0.2\n",
      "99.16168129827794 0.2\n",
      "99.82548753245521 0.2\n",
      "99.90917324095841 0.1\n",
      "0.17028807972130952 0.2\n",
      "99.93507577946565 0.2\n",
      "99.86706142846663 0.1\n",
      "99.91041817205681 0.2\n",
      "81.85240464008392 0.2\n",
      "99.9678364494435 0.2\n",
      "0.17645367822042868 0.2\n",
      "99.94816762256626 0.2\n",
      "0.17236046302402871 0.2\n",
      "99.95846811302543 0.1\n",
      "99.96569781700506 0.1\n",
      "0.16964499296998842 0.2\n",
      "0.17447264994404732 0.2\n",
      "0.1711901770031711 0.2\n",
      "99.95472118924262 0.2\n",
      "0.17963945777762952 0.2\n",
      "0.1691540793981473 0.2\n",
      "0.18535763114976114 0.2\n",
      "0.15104405423237374 0.1\n",
      "0.15335480318736647 0.1\n",
      "99.95471336045402 0.2\n",
      "0.16965467343126905 0.2\n",
      "41.62291700959356 0.2\n",
      "99.94918954551733 0.2\n",
      "76.70941067594762 0.2\n",
      "0.1723609649844866 0.2\n",
      "0.15546555457904307 0.2\n",
      "99.9786323920728 0.2\n",
      "99.97162737246497 0.2\n",
      "0.18404193126041116 0.2\n",
      "99.87481241944519 0.1\n",
      "0.15841606238176975 0.2\n",
      "97.36999884174452 0.1\n",
      "0.15574405985763723 0.2\n",
      "0.18281773152536762 0.2\n",
      "99.94809164319517 0.1\n",
      "99.89795612550542 0.2\n",
      "0.16017738098322534 0.2\n",
      "0.1531163089629927 0.1\n",
      "0.15446237174608057 0.1\n",
      "0.17219807977753 0.2\n",
      "0.15224768556592164 0.1\n",
      "0.1602074874779393 0.2\n",
      "0.1823905295407464 0.2\n",
      "99.95396472119496 0.2\n",
      "99.90063850170652 0.1\n",
      "0.16566817982675316 0.2\n",
      "0.16300419380600256 0.2\n",
      "99.60173035458077 0.2\n",
      "99.96959016961053 0.2\n",
      "99.9836655579568 0.1\n",
      "99.96463363170871 0.1\n",
      "0.16413989840194643 0.2\n",
      "0.14462811617475851 0.1\n",
      "0.15340232239638923 0.1\n",
      "99.97357370219916 0.2\n",
      "0.16161727008641566 0.2\n",
      "0.1716256805587264 0.2\n",
      "99.92496752587867 0.1\n",
      "99.98633654233514 0.2\n",
      "0.1515779109458299 0.1\n",
      "0.15657903952270785 0.2\n",
      "0.15283823292434712 0.1\n",
      "0.1745848954296097 0.2\n",
      "99.95448595054515 0.2\n",
      "99.97192601028662 0.1\n",
      "99.69385730287648 0.2\n",
      "0.15013278089075283 0.1\n",
      "0.17304100012804835 0.2\n",
      "0.14273388246146088 0.1\n",
      "99.95340252828002 0.1\n",
      "64.22208701859181 0.1\n"
     ]
    },
    {
     "name": "stdout",
     "output_type": "stream",
     "text": [
      "99.97552623400176 0.2\n",
      "0.17043345723633335 0.2\n",
      "0.16544012210903936 0.2\n",
      "99.67865014464209 0.2\n",
      "0.15721731665066344 0.2\n",
      "99.95366793889984 0.2\n",
      "0.18101199979371344 0.2\n",
      "99.97608354347605 0\n",
      "0.1590449966311685 0.2\n",
      "99.8364269595645 0.1\n",
      "99.97196217178987 0.1\n",
      "99.93703640873294 0.2\n",
      "0.17368299838454496 0.2\n",
      "99.91590848100765 0.2\n",
      "0.1701746924246679 0.2\n",
      "99.88145033321814 0.1\n",
      "0.16252693278506172 0.2\n",
      "99.89871255178427 0.1\n",
      "99.50975328940231 0.2\n",
      "0.1642491313291055 0.2\n",
      "99.95454449946439 0.2\n",
      "53.13259726348988 0.2\n",
      "0.15601722544875962 0.2\n",
      "0.1553838706411241 0.2\n",
      "99.87328656116715 0.2\n",
      "0.13781696954271086 0.1\n",
      "99.89536403681377 0.2\n",
      "0.1739200677607256 0.2\n",
      "99.4977714247639 0.1\n",
      "99.90944164840859 0.2\n",
      "0.1653440829682973 0.2\n",
      "0.14403389547758005 0.1\n",
      "0.15124577724743266 0.1\n",
      "56.586211101793666 0.2\n",
      "0.14776376883736816 0.1\n",
      "0.1840152179377675 0.2\n",
      "99.95477530435642 0.2\n",
      "99.95050347451681 0.2\n",
      "99.91198994277575 0.2\n",
      "0.16524402542614783 0.2\n",
      "48.841355588197835 0.2\n",
      "99.97201769495192 0.2\n",
      "0.15684009316356243 0.1\n",
      "0.1631558079869532 0.2\n",
      "0.14227575490058586 0.1\n",
      "0.1792868512300524 0.2\n",
      "99.97864022182415 0.2\n",
      "0.15790933180912353 0.2\n",
      "0.1655094589653258 0.2\n",
      "0.17213352770447163 0.2\n",
      "99.89810448917063 0.2\n",
      "0.17020118176496646 0.2\n",
      "0.1588018763339665 0.2\n",
      "99.89861301096468 0.2\n",
      "99.97201769495192 0.1\n",
      "0.1666219095197604 0.2\n",
      "99.96790578726254 0.2\n",
      "0.11382775132559386 0\n",
      "99.96463363170871 0.2\n",
      "0.14753451697252074 0.1\n",
      "0.1648444889148144 0.2\n",
      "0.14063673553762546 0.1\n",
      "99.98265995422345 0.2\n",
      "0.15833403681738922 0.2\n",
      "99.91953264025845 0.2\n",
      "0.16242923332646647 0.2\n",
      "0.15840851643902215 0.2\n",
      "0.1713510184582276 0.2\n",
      "0.1864864916049893 0.2\n",
      "0.162680232706582 0.2\n",
      "99.94572680985979 0.2\n",
      "0.19023339384290047 0.2\n",
      "0.17764106632490598 0.2\n",
      "0.1737823273235512 0.2\n",
      "99.89454098362133 0.2\n",
      "99.96949314545007 0.1\n",
      "99.94902357105275 0.2\n",
      "99.92408276280769 0.2\n",
      "99.89875978377862 0.2\n",
      "99.94403010052513 0.2\n",
      "99.91284888534305 0.1\n",
      "99.96937013339307 0.2\n",
      "0.15048060311308617 0.1\n",
      "99.93737901644316 0.2\n",
      "0.17531939383308054 0.2\n",
      "0.16783041867390122 0.2\n",
      "0.16986160329619818 0.2\n",
      "99.7468825129097 0.1\n",
      "0.1670769412235087 0.2\n",
      "0.1499348231119303 0.1\n",
      "0.14750319640890483 0.1\n",
      "99.94400176996378 0.2\n",
      "29.688812322650183 0.2\n",
      "0.18520138744172676 0.2\n",
      "99.95939868289895 0.1\n",
      "99.96601213940323 0.2\n",
      "99.94526886079232 0.1\n",
      "99.93819040973196 0.2\n",
      "2.533648052814273e-05 0\n",
      "99.77263823046538 0.2\n",
      "0.16629786140888186 0.2\n",
      "0.16101286010737048 0.2\n",
      "0.1592139780237558 0.2\n",
      "0.1629206085284442 0.2\n",
      "0.1561903255217647 0.2\n",
      "99.9635548462068 0.2\n",
      "0.15278933746370915 0.1\n",
      "0.15472396776498276 0.1\n",
      "99.98021963369963 0.2\n",
      "0.17051065996686932 0.2\n",
      "0.1762691043238268 0.2\n",
      "99.9060933255311 0.2\n",
      "0.15979853855081927 0.2\n",
      "99.89154988402302 0.2\n",
      "0.16547931982660236 0.2\n",
      "99.92523302603647 0.1\n",
      "0.17087887472418253 0.2\n",
      "99.90277766606297 0.2\n",
      "0.131926366723873 0.1\n",
      "19.742046399509018 0.2\n",
      "99.94804711611972 0.2\n",
      "99.91124889786587 0.2\n",
      "99.95126551967631 0.2\n",
      "0.17428801603048802 0.2\n",
      "99.98675032730033 0.2\n",
      "0.1498117959272369 0.1\n",
      "99.92414427436009 0.2\n",
      "99.90539842556468 0.2\n",
      "0.18279062967816845 0.2\n",
      "99.9800964305504 0.2\n",
      "99.92664646945259 0.1\n",
      "0.13966001574876125 0.1\n",
      "0.14694553651846087 0.1\n",
      "0.1525142335491781 0.1\n",
      "99.96532559701161 0.1\n",
      "0.16742577775416942 0.2\n",
      "0.16812463846547884 0.2\n",
      "0.1552196699505614 0.2\n",
      "0.15202557277163764 0.1\n",
      "99.96636438485194 0.2\n",
      "0.16507217383927694 0.2\n",
      "99.9542555679172 0.2\n",
      "0.16831021236560742 0.2\n",
      "0.17644281455349736 0.2\n",
      "0.16563498719191447 0.2\n",
      "0.17950975044635753 0.2\n",
      "99.89392806553454 0.1\n",
      "0.1694476266433382 0.2\n",
      "0.15587026266192466 0.2\n",
      "0.16868935716252753 0.2\n",
      "99.95408959945784 0.2\n",
      "0.16056688081496753 0.2\n",
      "18.608139643446638 0.2\n",
      "99.98247838412605 0.1\n",
      "0.17741066678157205 0.2\n",
      "0.15917001221239804 0.2\n",
      "0.16770254513671695 0.2\n",
      "99.95160025839584 0.2\n",
      "0.15659354905418316 0.2\n",
      "99.98108825012883 0.1\n",
      "0.1537686598048055 0.1\n",
      "0.14967126765225616 0.1\n",
      "99.82643059964998 0.2\n",
      "0.14425217383198802 0.1\n",
      "99.90657356201524 0.2\n",
      "0.1694681290115196 0.2\n",
      "99.97925610818392 0.2\n",
      "0.15125844519014356 0.1\n",
      "0.1569759850438647 0.2\n",
      "0.15351773111754566 0.1\n",
      "0.19684111082784078 0.2\n",
      "0.17444915853680246 0.2\n",
      "0.1764233382695083 0.2\n",
      "0.1731267145062858 0.2\n",
      "0.1855109514815689 0.2\n",
      "99.9336260799649 0.2\n",
      "0.17060954196208458 0.2\n",
      "0.171633244925879 0.2\n",
      "0.15418024010411938 0.1\n",
      "99.96795193161088 0.1\n",
      "0.1444538480551794 0.1\n",
      "0.12717258408139206 0.1\n",
      "99.96833254841847 0.1\n",
      "99.95760721352165 0.2\n",
      "0.14808110535536945 0.1\n",
      "0.1595077421242942 0.2\n",
      "0.1583265019233328 0.2\n",
      "0.16155448348383974 0.2\n",
      "99.89421326912219 0.1\n",
      "0.1702802041255424 0.2\n",
      "0.1724142912663808 0.2\n",
      "0.16166496372439004 0.2\n",
      "0.16547211110793014 0.2\n",
      "99.76075221319644 0.1\n",
      "0.16987427531760427 0.2\n",
      "99.89890330265084 0.2\n",
      "0.12594561965690432 0.1\n",
      "0.15086548600749142 0.1\n",
      "0.18091915351290958 0.2\n",
      "0.17306930717281438 0.2\n",
      "99.87485875863496 0.1\n",
      "0.15615714770850514 0.2\n",
      "0.16423662461224683 0.2\n",
      "0.1584667372685449 0.2\n",
      "0.14877614360165636 0.1\n",
      "0.1764203482672528 0.2\n",
      "0.16033944353495255 0.2\n",
      "0.1735629831578945 0.2\n",
      "0.16845111704642884 0.2\n",
      "0.16113089780355297 0.2\n",
      "99.87917590325767 0.2\n",
      "0.16582859003221648 0.2\n",
      "0.16795046594150007 0.2\n",
      "0.18038641220634077 0.2\n",
      "99.79199443867722 0.2\n",
      "0.16927392961564514 0.2\n",
      "0.14033947935742458 0.1\n",
      "99.93922030071423 0.2\n",
      "99.98278426661703 0.2\n",
      "0.1613860174964413 0.2\n",
      "0.1694271176740131 0.2\n",
      "0.15653385824287508 0.2\n",
      "0.15390914283048443 0.1\n",
      "0.1366792170747757 0.1\n",
      "99.97788597964541 0.2\n",
      "0.15318390184337108 0.1\n",
      "99.95880286866037 0.1\n",
      "0.16144523749120768 0.2\n",
      "99.94365728573011 0.1\n",
      "0.15535775058394746 0.1\n",
      "0.14235482695750934 0.1\n",
      "91.35148213319493 0.2\n",
      "99.93338946123657 0.2\n",
      "0.16720780631900312 0.2\n",
      "0.16107728922144526 0.2\n",
      "99.97962412967263 0.1\n",
      "0.16405322635695993 0.2\n",
      "0.18832567249700807 0.2\n",
      "0.17510832206413676 0.2\n",
      "0.15529519590171625 0.1\n",
      "0.15684626547380726 0.2\n",
      "99.95498219617224 0.1\n",
      "0.15261862443292748 0.1\n",
      "99.96293112853749 0.1\n",
      "0.1708016704357766 0.2\n",
      "0.17429406984892185 0.2\n",
      "99.80913725629648 0.1\n",
      "0.16972887740361425 0.2\n",
      "33.672724692190165 0.1\n",
      "99.94940426960532 0.2\n",
      "99.88032106142414 0.2\n",
      "0.14423783475001814 0.1\n",
      "99.9402424087757 0.2\n",
      "99.9508516649846 0.2\n",
      "99.95412760640191 0.2\n",
      "0.18039597107456729 0.2\n",
      "0.15185268796407142 0.1\n",
      "32.61618163343787 0.2\n",
      "0.15330578203066755 0.1\n",
      "51.37497821778223 0.1\n",
      "0.17473038133594695 0.2\n",
      "0.14900314131233464 0.1\n",
      "99.80156197560878 0.1\n",
      "0.15349699839440092 0.1\n",
      "99.98508692029587 0.1\n",
      "0.16311015110977278 0.2\n",
      "99.9826677839748 0.2\n",
      "0.15381934692878785 0.1\n",
      "0.15762161187905074 0.2\n",
      "99.76305612050894 0.1\n",
      "0.15199353305226057 0.1\n",
      "0.17099571676512254 0.2\n",
      "0.14414180643068186 0.1\n",
      "0.15787139696806932 0.2\n",
      "0.1373034737982787 0.1\n",
      "0.14905839647751337 0.1\n",
      "99.95411792905644 0.2\n",
      "0.176391701856761 0.2\n",
      "0.15827095079721634 0.2\n",
      "99.91857387970059 0.2\n",
      "99.8105641273683 0.2\n",
      "0.16026722153842413 0.2\n",
      "0.18020471954745965 0.2\n",
      "0.15761291032408148 0.2\n",
      "0.15749421215301024 0.2\n",
      "0.15861850196080596 0.2\n"
     ]
    }
   ],
   "source": [
    "sample_num = 1000\n",
    "r_records = np.zeros(sample_num)\n",
    "r_records_gs = np.zeros(sample_num)\n",
    "value_records = np.zeros([sample_num,300])\n",
    "\n",
    "for i in range(sample_num):\n",
    "    r_gs1,_,r_grid,value = gs_radius_And_GridSearch(radius1=0,radius2=100,netD=netD,real_cpu=real_cpu,real_label=real_label,tor=1e-5,n_dis=2,lam=0.618,mode=11)\n",
    "    r_records[i] = r_gs1\n",
    "    r_records_gs[i] = r_grid\n",
    "    value_records[i] = value\n",
    "    print(r_gs1,r_grid)\n"
   ]
  },
  {
   "cell_type": "code",
   "execution_count": 11,
   "id": "42bc0c0f",
   "metadata": {},
   "outputs": [
    {
     "name": "stdout",
     "output_type": "stream",
     "text": [
      "4.541601700667716 4.5\n",
      "99.71332844589584 4.7\n",
      "4.455049801213275 4.5\n",
      "4.880030651558607 4.9\n",
      "4.975059865507566 5.0\n",
      "58.12372777744606 4.6\n",
      "99.95061864806851 4.2\n",
      "99.93869896609729 4.5\n",
      "97.4538688334389 4.9\n",
      "4.890971154016212 4.9\n",
      "4.79913820346594 4.8\n",
      "4.662343463459161 4.7\n",
      "4.750756776247582 4.8\n",
      "4.83496200544833 4.8\n",
      "99.89793005885846 4.5\n",
      "99.68960663329712 4.5\n",
      "4.725798249990841 4.7\n",
      "5.665586162919576 5.7\n",
      "99.9929081016902 4.3\n",
      "4.435681708751322 4.3999999999999995\n",
      "99.9193980815343 4.7\n",
      "4.607904037056815 4.6\n",
      "4.6380984798830625 4.6\n",
      "99.93942372680772 5.3\n",
      "5.121887755692386 5.1\n",
      "5.000759672462078 5.0\n",
      "99.78321325641312 4.7\n",
      "4.66041358620091 4.7\n",
      "4.863329044283319 4.9\n",
      "99.97141562205893 4.3\n",
      "4.569525602195492 4.6\n",
      "4.370717736964586 4.3999999999999995\n",
      "4.815804130915972 4.8\n",
      "99.93824295840753 4.6\n",
      "4.694658605244975 4.7\n",
      "4.428250221746354 4.3999999999999995\n",
      "4.7996113721384335 4.8\n",
      "5.484300840576253 5.5\n",
      "99.61376341119143 4.6\n",
      "99.87236910484056 4.7\n",
      "99.92982792766082 4.3999999999999995\n",
      "4.767090931502222 4.8\n",
      "99.92324919363307 4.8\n",
      "99.95508133609492 4.3\n",
      "4.895693807005445 4.9\n",
      "62.160366668451715 5.0\n",
      "4.651626515014454 4.7\n",
      "4.483631161574407 4.5\n",
      "4.842426692673873 4.8\n",
      "4.342933336303845 4.3\n",
      "4.700418833602096 4.7\n",
      "99.96386125088108 5.2\n",
      "4.698099726055061 4.7\n",
      "99.99286225683659 4.7\n",
      "99.97977732589032 4.7\n",
      "5.083746256884734 5.1\n",
      "99.95472118924262 4.3999999999999995\n",
      "5.088815909874661 5.1\n",
      "4.810474084980919 4.8\n",
      "99.54740226776079 4.5\n",
      "99.92962082433039 4.3\n",
      "4.983461179742901 5.0\n",
      "4.832703014595113 4.8\n",
      "4.927145569900681 4.9\n",
      "4.981540273635983 5.0\n",
      "99.9826677839748 4.7\n",
      "4.862847866984972 4.9\n",
      "4.8829878957303565 4.9\n",
      "4.611954440984635 4.6\n",
      "99.94883212089648 4.3999999999999995\n",
      "99.85065564438709 5.1\n",
      "4.73970312467707 4.7\n",
      "5.0729920076208 5.1\n",
      "4.898358252860237 4.9\n",
      "5.381987435861491 5.4\n",
      "99.85093971890339 4.3\n",
      "99.9545776703704 5.2\n",
      "4.801313118414621 4.8\n",
      "99.92614276856811 4.6\n",
      "45.04230298963311 5.3\n",
      "4.901021919041978 4.9\n",
      "5.307736676305748 5.3\n",
      "4.73443896006701 4.7\n",
      "99.95241057605008 4.8\n",
      "5.610433677050657 5.6\n",
      "4.383755842763523 4.3999999999999995\n",
      "99.87136364613221 5.0\n",
      "4.78728197233964 4.8\n",
      "5.10694046008311 5.1\n",
      "99.99279281063845 4.9\n",
      "4.88610755663179 4.9\n",
      "4.413623419634419 4.3999999999999995\n",
      "99.9701016992836 105\n",
      "99.97101136606977 4.2\n",
      "4.6952245155803585 4.7\n",
      "4.565142707699226 4.6\n",
      "99.94907724662067 4.9\n",
      "99.96243513892713 4.5\n",
      "4.523348990511434 4.5\n",
      "4.53599195308082 4.5\n",
      "4.490907754881303 4.5\n",
      "99.96787560191176 5.0\n",
      "4.9990290771415475 5.0\n",
      "5.070533471102543 5.1\n",
      "5.08302296949056 5.1\n",
      "4.730572898683889 4.7\n",
      "99.95872085414467 4.5\n",
      "4.8061999524389565 4.8\n",
      "99.36382394536885 4.7\n",
      "4.622650377977369 4.6\n",
      "4.580864159312132 4.6\n",
      "99.94655795049165 4.3\n",
      "4.934098793238946 4.9\n",
      "99.7349078496959 5.1\n",
      "4.832800281072394 4.8\n",
      "4.824409189859945 4.8\n",
      "4.895010150589392 4.9\n",
      "4.638394112065742 4.6\n",
      "99.95472118924262 4.6\n",
      "4.79935375350015 4.8\n",
      "4.766493776163153 4.8\n",
      "4.886750241840864 4.9\n",
      "99.8761472239317 4.9\n",
      "99.78555563515849 4.9\n",
      "5.224800555598594 5.2\n",
      "4.8629463543406635 4.9\n",
      "4.450591577847027 4.5\n",
      "4.392689665097442 4.3999999999999995\n",
      "99.95414326649973 4.5\n",
      "4.767684942725763 4.8\n",
      "4.758608030828895 4.8\n",
      "4.950711914710413 5.0\n",
      "4.74088884376041 4.7\n",
      "31.054905257384352 5.2\n",
      "4.880256363228844 4.9\n",
      "99.94397941555444 4.7\n",
      "5.138240471714941 5.1\n",
      "5.4267348593689375 5.4\n",
      "99.87989130403409 4.5\n",
      "5.198733306540503 5.2\n",
      "4.799383934858419 4.8\n",
      "5.35944636811744 5.4\n",
      "4.571744363122435 4.6\n",
      "5.049575960757063 5.0\n",
      "99.94811345577844 4.6\n",
      "4.628322062713723 4.6\n",
      "4.532420938833394 4.5\n",
      "4.74539112950067 4.7\n",
      "4.529585269936554 4.5\n",
      "4.847204697216537 4.8\n",
      "4.618225525009081 4.6\n",
      "99.86414453833187 4.9\n",
      "4.649808595591792 4.7\n",
      "4.826423693903481 4.8\n",
      "99.95064099587752 4.7\n",
      "4.802822866603459 4.8\n",
      "4.727817513866892 4.7\n",
      "4.3726549567971515 4.3999999999999995\n",
      "99.94797888013888 5.0\n",
      "99.9681585346149 4.2\n",
      "4.750974242545059 4.7\n",
      "4.916622645141618 4.9\n",
      "99.98247838412605 4.6\n",
      "5.082067080387057 5.1\n",
      "4.881206834727967 4.9\n",
      "99.99087858933075 4.6\n",
      "4.894413562643106 4.9\n",
      "4.577561347731265 4.6\n",
      "5.539936705946176 5.5\n",
      "4.604739216239651 4.6\n",
      "4.614140183477358 4.6\n",
      "5.14443917001096 5.2\n",
      "4.600966671302723 4.6\n",
      "4.89128310740831 4.9\n",
      "99.57813369035439 4.5\n",
      "4.91331612537685 4.9\n",
      "4.7682403124749255 4.8\n",
      "99.9156448822244 4.8\n",
      "99.95302162073492 4.2\n",
      "4.515777684031622 4.5\n",
      "4.506244926732631 4.5\n",
      "4.545406228478671 4.6\n",
      "4.465366086760411 4.5\n",
      "4.79369320015645 4.8\n",
      "4.462441997105444 4.5\n",
      "4.682758656053057 4.7\n",
      "4.5770216957434835 4.6\n",
      "4.517108452089762 4.5\n",
      "4.805761149707043 4.8\n",
      "99.83616178209644 5.0\n",
      "4.86895621446016 4.9\n",
      "4.603227335932915 4.6\n",
      "4.65885101031673 4.7\n",
      "5.134247276601232 5.1\n",
      "5.198961399288029 5.2\n",
      "99.86414432132682 4.9\n",
      "99.96778275599867 4.6\n",
      "4.819131265934762 4.8\n",
      "4.895322795514493 4.9\n",
      "4.818002120869673 4.8\n",
      "4.673028154797438 4.7\n",
      "5.111347752374555 5.1\n",
      "99.95472118924262 4.3999999999999995\n",
      "99.90808979481116 4.6\n",
      "4.8869864702926575 4.9\n",
      "4.630249643599583 4.6\n",
      "4.667920795945993 4.7\n",
      "4.430915621034296 4.3999999999999995\n",
      "5.211576460498797 5.2\n",
      "4.835879764386078 4.8\n",
      "5.396758046201731 5.4\n",
      "5.00699428091966 5.0\n",
      "99.83571181931097 4.3999999999999995\n",
      "99.95209865370188 5.0\n",
      "4.808883565286602 4.8\n",
      "6.099564686317063 6.1\n",
      "4.681057839085343 4.7\n",
      "4.739754005453413 4.7\n",
      "99.89347454843328 4.9\n",
      "99.9471090480826 4.7\n",
      "4.8598232774407855 4.9\n",
      "99.98131872733816 4.5\n",
      "5.383596978130249 5.4\n",
      "99.94977061665966 4.8\n",
      "99.98674168531522 4.5\n",
      "99.7698755721096 4.9\n",
      "5.296527145342983 5.3\n",
      "5.189918659611084 5.2\n",
      "4.5746372445754 4.6\n",
      "4.7358385808256624 4.7\n",
      "99.9663722146033 105\n",
      "4.961110689492314 5.0\n",
      "4.249615026987852 4.3\n",
      "4.666514523368633 4.7\n",
      "4.564089510601185 4.6\n",
      "5.079088781186318 5.1\n",
      "4.806584063275138 4.8\n",
      "4.43545617487934 4.3999999999999995\n",
      "4.82633278186451 4.8\n",
      "99.9484818610709 4.1\n",
      "5.279796095946567 5.3\n",
      "4.624607165817494 4.6\n",
      "4.581836871031661 4.6\n",
      "99.9429890092393 4.2\n",
      "4.905710992765375 4.9\n",
      "5.110798556130871 5.1\n",
      "99.79710684135418 4.5\n",
      "99.98909932113169 4.5\n",
      "4.643480110236408 4.6\n",
      "5.238972307577111 5.2\n",
      "4.79051635261075 4.8\n",
      "99.9604979538335 4.7\n",
      "4.396916508741975 4.3999999999999995\n",
      "4.930007972653358 4.9\n",
      "5.160854024528516 5.2\n",
      "99.92577581589536 4.5\n",
      "5.179517781169085 5.2\n",
      "99.94971685569129 4.8\n",
      "99.90951104912669 4.6\n",
      "5.22063949560254 5.2\n",
      "99.95412760640191 4.5\n",
      "99.83209358961625 4.8\n",
      "99.73263096270368 4.7\n",
      "99.90089650260757 4.8\n",
      "4.667949396388738 4.7\n",
      "5.031877907624738 5.0\n",
      "99.96541060212455 4.5\n",
      "5.228048004498884 5.2\n",
      "5.294577322660786 5.3\n",
      "5.3085485885802255 5.3\n",
      "5.0942294335448235 5.1\n",
      "4.714161092842816 4.7\n",
      "99.95949157250347 4.6\n",
      "99.71660805632855 5.4\n",
      "99.89668610638013 4.3999999999999995\n",
      "4.510350210770857 4.5\n",
      "99.97201769495192 4.1\n",
      "4.577760547483629 4.6\n",
      "5.4905406842263815 5.5\n",
      "99.95338665162639 4.3999999999999995\n",
      "4.989105433539144 5.0\n",
      "99.85346545049929 4.8\n",
      "4.645386854712984 4.6\n",
      "18.8815744525048 4.7\n",
      "14.921342454729407 5.2\n",
      "4.956896533929488 5.0\n",
      "99.71758604312052 4.7\n",
      "99.96637109215797 4.5\n",
      "4.512285667937705 4.5\n",
      "99.82530414488008 4.9\n",
      "4.618575727179799 4.6\n",
      "4.457182892200404 4.5\n",
      "99.92770536292485 4.7\n",
      "4.686891778350999 4.7\n",
      "99.97201769495192 4.2\n",
      "4.845630833251458 4.9\n",
      "5.060806222631499 5.1\n",
      "4.740186105288697 4.7\n",
      "99.97488489581438 4.3999999999999995\n",
      "5.458244438987006 5.5\n",
      "4.5845942582823485 4.6\n",
      "99.88136647051334 4.9\n",
      "4.554272192847535 4.6\n",
      "5.04759334630835 5.0\n",
      "4.7849246349504035 4.8\n",
      "99.82701403112561 4.7\n",
      "4.808517339517384 4.8\n",
      "99.58152189706671 4.8\n",
      "4.930598926567914 4.9\n",
      "99.95108392317074 4.5\n",
      "99.850954736339 4.6\n",
      "99.94956532413356 4.8\n",
      "5.04761272708328 5.1\n",
      "4.944671106073391 5.0\n",
      "4.562246697692671 4.6\n",
      "5.062390868722132 5.1\n",
      "4.376219719699967 4.3999999999999995\n",
      "4.346805704493184 4.3999999999999995\n",
      "99.9735753785023 4.3\n",
      "4.712811003162458 4.7\n",
      "99.88025951723354 4.5\n",
      "5.416486395393805 5.4\n",
      "4.929693861857456 4.9\n",
      "4.290808552037749 4.3\n",
      "4.563190610386466 4.6\n",
      "4.674439442630639 4.7\n",
      "4.6143387657045745 4.6\n",
      "4.920888159783108 4.9\n",
      "4.728956200003767 4.7\n",
      "5.173131198232923 5.2\n",
      "99.89719617660539 4.3999999999999995\n",
      "99.98270693548031 4.7\n",
      "4.670443057246726 4.7\n",
      "4.90224519430013 4.9\n",
      "4.632532265781346 4.6\n",
      "99.83551267609369 4.6\n",
      "4.734023786613296 4.7\n",
      "99.9257620049494 4.6\n",
      "43.2590273258321 4.7\n",
      "4.545093659816781 4.5\n",
      "5.359469151698236 5.4\n",
      "4.817068443130435 4.8\n",
      "99.96090990344304 4.5\n",
      "99.96669254112358 105\n",
      "99.80773475336386 4.7\n",
      "99.82662359661494 4.3999999999999995\n",
      "99.88605751196941 4.8\n",
      "4.9566619740963525 5.0\n",
      "4.686191089431354 4.7\n",
      "4.755797479428662 4.8\n",
      "99.93742485529188 4.5\n",
      "99.95715704408143 4.6\n",
      "99.96949314545007 4.6\n",
      "4.655593582978447 4.7\n",
      "99.9011343464367 4.5\n",
      "4.783189931394781 4.8\n",
      "4.384513190022266 4.3999999999999995\n",
      "7.133421626507777 7.1\n",
      "99.76842049800338 5.0\n"
     ]
    },
    {
     "name": "stdout",
     "output_type": "stream",
     "text": [
      "99.80817689937759 4.3999999999999995\n",
      "4.758694188716856 4.8\n",
      "98.70994125757912 4.7\n",
      "4.956015789545685 5.0\n",
      "4.920786643977416 4.9\n",
      "4.844593380052886 4.8\n",
      "4.5669276163429835 4.6\n",
      "5.233612590157675 5.2\n",
      "4.741992076403215 4.7\n",
      "4.30207197999561 4.3\n",
      "4.634334364693608 4.6\n",
      "4.946943903201391 4.9\n",
      "99.97661785684238 5.0\n",
      "99.95064099587752 4.5\n",
      "4.891884187900377 4.9\n",
      "4.5447027841391865 4.6\n",
      "99.92418228130416 4.5\n",
      "99.86415354861954 4.3999999999999995\n",
      "4.602990405589847 4.6\n",
      "4.980943509082302 5.0\n",
      "4.269292050919681 4.3\n",
      "99.72146189534192 4.7\n",
      "99.95408176970649 4.8\n",
      "99.93991175943555 4.7\n",
      "99.98165365717345 4.9\n",
      "4.614505789921501 4.6\n",
      "5.061782491844257 5.1\n",
      "99.86076721783523 4.9\n",
      "4.623186523810832 4.6\n",
      "4.885098298464152 4.9\n",
      "4.574803152281416 4.6\n",
      "4.710729919918958 4.7\n",
      "4.673033303200354 4.7\n",
      "99.9102645897156 4.5\n",
      "99.96714936194664 4.3999999999999995\n",
      "4.881534250243872 4.9\n",
      "4.615844801899502 4.6\n",
      "5.098605565867495 5.1\n",
      "5.509918852000868 5.5\n",
      "4.39150167933893 4.3999999999999995\n",
      "4.189868634261431 4.2\n",
      "4.348461537833464 4.3999999999999995\n",
      "5.219756486284265 5.2\n",
      "99.86414432132682 4.7\n",
      "99.96852973841159 4.5\n",
      "4.696925853311441 4.7\n",
      "99.12479635653759 4.8\n",
      "4.719957196666337 4.7\n",
      "99.85702766067003 4.6\n",
      "99.9848351818957 4.7\n",
      "98.90478039977361 4.7\n",
      "4.0637087114881165 4.1\n",
      "4.702574264773943 4.7\n",
      "4.651607157207706 4.7\n",
      "4.477906891360239 4.5\n",
      "99.80001262496029 4.7\n",
      "99.9539822288869 4.2\n",
      "99.85346545049929 5.0\n",
      "4.547988046906886 4.6\n",
      "4.8121416177771605 4.8\n",
      "4.972743430662035 5.0\n",
      "4.84555678709136 4.8\n",
      "4.800156285569805 4.8\n",
      "4.914872826586831 4.9\n",
      "99.93742739464628 4.6\n",
      "4.750982851756588 4.8\n",
      "99.87328656116715 4.6\n",
      "4.662290930299368 4.7\n",
      "99.94226431047727 4.5\n",
      "4.8746056167210465 4.9\n",
      "4.870501869379012 4.9\n",
      "5.261265051240214 5.3\n",
      "99.87909191102698 4.8\n",
      "5.164968705989659 5.2\n",
      "5.0837690544653915 5.1\n",
      "99.49753059198486 4.3999999999999995\n",
      "99.95470553010756 4.7\n",
      "4.853214372195955 4.9\n",
      "4.980943230214222 5.0\n",
      "99.54458068616651 4.8\n",
      "4.831840934182557 4.8\n",
      "4.55729251001573 4.6\n",
      "99.95357625327179 4.8\n",
      "5.255904521219326 5.3\n",
      "4.881449880081441 4.9\n",
      "4.653807438578402 4.7\n",
      "4.636482898162146 4.6\n",
      "4.468117585593392 4.5\n",
      "4.8200096467243245 4.8\n",
      "4.849129610735512 4.9\n",
      "4.6612416982378875 4.7\n",
      "99.97029290808224 4.3999999999999995\n",
      "4.735533213408846 4.7\n",
      "4.485048549034899 4.5\n",
      "4.9136751300483175 4.9\n",
      "4.357307688719295 4.3999999999999995\n",
      "4.611022288112866 4.6\n",
      "99.98989380020242 4.3\n",
      "4.673381261154965 4.7\n",
      "4.871467634739308 4.9\n",
      "4.938184944381709 4.9\n",
      "5.509415165027458 5.5\n",
      "4.435824857123515 4.3999999999999995\n",
      "4.685282063601306 4.7\n",
      "4.628861585648218 4.6\n",
      "4.812811351222702 4.8\n",
      "4.849017425855327 4.8\n",
      "4.852617363213526 4.9\n",
      "99.90110285123886 4.6\n",
      "99.9364580070083 4.3\n",
      "4.556016180513611 4.6\n",
      "99.93302513458292 5.0\n",
      "5.044133114224033 5.0\n",
      "4.990019370557786 5.0\n",
      "4.904509235434142 4.9\n",
      "4.708219266924566 4.7\n",
      "99.94912918045289 4.3\n",
      "99.95396771119722 4.3\n",
      "5.125637348258223 5.1\n",
      "4.560605024851415 4.6\n",
      "99.98261410217376 4.6\n",
      "5.2544130262826885 5.3\n",
      "5.62002537065173 5.6\n",
      "4.877802110847891 4.9\n",
      "5.301328544740328 5.3\n",
      "4.881319956034768 4.9\n",
      "4.602631950383137 4.6\n",
      "4.890839910084947 4.9\n",
      "4.566838743922959 4.6\n",
      "99.87268334586602 4.5\n",
      "4.747445315490741 4.8\n",
      "99.98600168959914 4.3999999999999995\n",
      "4.969009359169683 5.0\n",
      "4.390937188412239 4.3999999999999995\n",
      "4.959418403751037 5.0\n",
      "5.002198544418793 5.0\n",
      "4.6613026495631225 4.7\n",
      "99.95482201623406 4.6\n",
      "5.06693280219717 5.1\n",
      "4.749874686083117 4.7\n",
      "4.661749925730777 4.7\n",
      "4.65570934738249 4.7\n",
      "4.659175425590362 4.7\n",
      "99.97199534714291 5.0\n",
      "99.8993491724339 5.2\n",
      "4.708162905332832 4.7\n",
      "4.443955342303236 4.3999999999999995\n",
      "5.047620992593742 5.1\n",
      "5.1297668728406 5.1\n",
      "4.59900565187857 4.6\n",
      "4.61102598384246 4.6\n",
      "4.673398771140319 4.7\n",
      "99.69119377980002 5.2\n",
      "99.98751989701786 4.3\n",
      "5.314385411303495 5.3\n",
      "4.8964497336390505 4.9\n",
      "4.78198346177525 4.8\n",
      "99.98355256084287 4.9\n",
      "4.434861320993021 4.3999999999999995\n",
      "99.84340218614516 5.0\n",
      "4.571880080207369 4.6\n",
      "4.702575858197652 4.7\n",
      "4.741256865249107 4.7\n",
      "99.64225230128518 4.3999999999999995\n",
      "99.94745951158433 4.5\n",
      "4.505683915073019 4.5\n",
      "99.98018143566334 4.2\n",
      "4.6650081454629335 4.7\n",
      "41.7689203151779 4.8\n",
      "99.9159114710099 4.8\n",
      "4.74028537247066 4.7\n",
      "99.99325070339553 4.2\n",
      "99.86344294114943 4.3999999999999995\n",
      "5.447841215076361 5.4\n",
      "99.18551942075268 4.9\n",
      "99.97513878557488 5.0\n",
      "4.598695343625789 4.6\n",
      "99.99591393298326 4.3\n",
      "99.9613050703532 5.0\n",
      "4.760110693356259 4.8\n",
      "4.637961194110494 4.6\n",
      "99.9712768134099 4.6\n",
      "4.737260362702873 4.7\n",
      "99.8400075532381 4.6\n",
      "4.345709089567063 4.3999999999999995\n",
      "5.1596921767978206 5.2\n",
      "34.24705908405708 4.6\n",
      "99.94537493398458 4.6\n",
      "4.607934217960557 4.6\n",
      "5.287939921811751 5.3\n",
      "99.99183220189148 4.3999999999999995\n",
      "4.085463514270518 4.1\n",
      "99.95128118073708 4.6\n",
      "99.88315810265101 5.1\n",
      "5.002914707860847 5.0\n",
      "4.887070512427417 4.9\n",
      "4.764088893270407 4.8\n",
      "99.97359772631131 4.5\n",
      "99.91159379535713 4.6\n",
      "99.94053113133036 4.9\n",
      "4.803435484591921 4.8\n",
      "99.95472118924262 4.8\n",
      "99.9271810814111 4.3999999999999995\n",
      "4.963697883117433 5.0\n",
      "99.94307260049396 4.5\n",
      "4.5880790331819155 4.6\n",
      "4.758686404669324 4.8\n",
      "5.063864754939145 5.1\n",
      "4.896852715768151 4.9\n",
      "4.868929464458803 4.9\n",
      "5.040011862974299 5.0\n",
      "4.354978914984215 4.3999999999999995\n",
      "4.52393448739898 4.5\n",
      "4.779931054649444 4.8\n",
      "99.92264892344915 4.3\n",
      "4.205536209272047 4.2\n",
      "99.97201769495192 4.9\n",
      "99.84264701210304 4.7\n",
      "99.90943308945357 4.3999999999999995\n",
      "5.533221671234076 5.5\n",
      "99.39880597209961 4.6\n",
      "4.848394709792968 4.9\n",
      "99.96032891903143 4.9\n",
      "99.9415073986174 4.5\n",
      "99.85327423065198 4.9\n",
      "4.710506848253395 4.7\n",
      "4.635519319605427 4.6\n",
      "4.737628412155639 4.7\n",
      "99.93150537502294 4.8\n",
      "4.4949860325193525 4.5\n",
      "99.83507052384684 4.3\n",
      "4.8475770997698495 4.9\n",
      "99.87889415053696 4.5\n",
      "4.460701145837006 4.5\n",
      "99.9547308665881 4.8\n",
      "4.771049033844162 4.8\n",
      "99.9372808857718 4.7\n",
      "4.581843678059246 4.6\n",
      "4.973396978832203 5.0\n",
      "99.89869131576539 4.3\n",
      "5.394517973528176 5.4\n",
      "5.6084837489942245 5.6\n",
      "4.5874727829935145 4.6\n",
      "99.59115912505541 4.7\n",
      "4.57234577392948 4.6\n",
      "99.98788008875522 4.8\n",
      "4.717262637533591 4.7\n",
      "99.92398320507269 4.9\n",
      "4.9747888810356065 5.0\n",
      "5.172902976825799 5.2\n",
      "5.463757927873593 5.5\n",
      "99.88383064761311 4.6\n",
      "5.046142517876687 5.1\n",
      "5.055416050895953 5.1\n",
      "99.94400176996378 4.9\n",
      "99.74991098261003 4.6\n",
      "5.052068290035737 5.1\n",
      "4.86229344596147 4.9\n",
      "4.648141250259205 4.7\n",
      "99.78849954060493 4.8\n",
      "4.585445473806656 4.6\n",
      "4.5264680870632885 4.5\n",
      "5.559012081422617 5.6\n",
      "99.95004561032775 4.7\n",
      "4.979276705412658 5.0\n",
      "4.647401946123475 4.6\n",
      "5.111255666083869 5.1\n",
      "4.992983953468507 5.0\n",
      "4.417553897105716 4.3999999999999995\n",
      "99.89516792009738 4.9\n",
      "4.817066265361929 4.8\n",
      "5.0203327422850785 5.0\n",
      "4.70821627692231 4.7\n",
      "4.627358655675248 4.6\n",
      "99.98209584398471 4.7\n",
      "4.957544060290343 5.0\n",
      "4.751565833470944 4.8\n",
      "4.683721700143388 4.7\n",
      "4.743786810183452 4.8\n",
      "99.96264986301513 5.2\n",
      "4.697531788883323 4.7\n",
      "99.80098106190087 4.9\n",
      "5.1266327640053895 5.1\n",
      "99.97623543704343 4.3999999999999995\n",
      "4.943217235800535 4.9\n",
      "99.6585718823398 4.3999999999999995\n",
      "4.698352775775744 4.7\n",
      "5.579345760571494 5.6\n",
      "4.649318752000148 4.6\n",
      "4.955984455553646 5.0\n",
      "4.650663054346581 4.7\n",
      "4.5750944278195504 4.6\n",
      "99.26973323222715 5.3\n",
      "99.682641770949 4.3999999999999995\n",
      "99.86352793943426 4.5\n",
      "99.96340458814043 4.3\n",
      "4.743781865993825 4.7\n",
      "4.593721683304477 4.6\n",
      "99.95131136045075 4.6\n",
      "4.675558172077157 4.7\n",
      "4.353541754486365 4.3999999999999995\n",
      "4.658852062551621 4.7\n",
      "4.40677819357226 4.3999999999999995\n",
      "99.60348862508884 4.6\n",
      "4.7514390429229945 4.7\n",
      "5.688410785837283 5.7\n",
      "99.92517440486104 4.8\n",
      "99.82602260538869 4.7\n",
      "4.692621357488485 4.7\n",
      "5.709197183299563 5.7\n",
      "4.870370286262278 4.9\n",
      "38.17749188053016 4.7\n",
      "4.958545329500415 5.0\n",
      "4.416310369709774 4.3999999999999995\n",
      "99.86407013715758 4.3999999999999995\n",
      "4.517529592062045 4.5\n",
      "5.373626402768198 5.4\n",
      "5.545932400815303 5.6\n",
      "4.525414057086932 4.5\n",
      "4.720474614445177 4.7\n",
      "99.95449377970152 4.6\n",
      "4.924858478431522 4.9\n",
      "4.509940662074623 4.5\n",
      "99.95466751812172 4.7\n",
      "4.791227019348228 4.8\n",
      "99.950274161682 4.1\n",
      "99.9490769364091 105\n",
      "4.497359275127601 4.5\n",
      "4.543622605768146 4.5\n",
      "5.0612429421540766 5.1\n",
      "99.90925939027258 5.0\n",
      "4.622560982064641 4.6\n",
      "5.027459340423161 5.0\n",
      "99.98240236267483 4.3\n",
      "99.96634986619931 4.8\n",
      "83.03461614529117 85\n",
      "4.8193424851559765 4.8\n",
      "99.93335064312126 4.6\n",
      "4.965202642273713 5.0\n",
      "4.809478939205079 4.8\n",
      "4.898496761113784 4.9\n",
      "4.6635355403291125 4.7\n",
      "4.34054326579591 4.3\n",
      "4.734879611606614 4.7\n",
      "5.0678067617611635 5.1\n",
      "4.516136292287903 4.5\n",
      "99.9655259661735 4.2\n",
      "99.81443341206723 4.6\n",
      "5.000107020767353 5.0\n",
      "4.783263902026932 4.8\n",
      "16.41325938747134 5.0\n",
      "99.98820817180791 4.9\n",
      "4.414444512752356 4.3999999999999995\n",
      "99.98499626475783 4.6\n"
     ]
    },
    {
     "name": "stdout",
     "output_type": "stream",
     "text": [
      "5.192810171437721 5.2\n",
      "4.592127764885932 4.6\n",
      "99.89874499133332 4.8\n",
      "5.274605869034385 5.3\n",
      "4.59312676657219 4.6\n",
      "99.95471336045402 4.9\n",
      "4.410041092338049 4.3999999999999995\n",
      "99.77728598527273 4.7\n",
      "4.630177314307083 4.6\n",
      "4.964953920878979 5.0\n",
      "99.95745400566018 4.6\n",
      "99.96046749754544 4.5\n",
      "4.3338021176270605 4.3\n",
      "4.9997940340257 5.0\n",
      "4.7247845956456995 4.7\n",
      "99.95472118924262 4.3\n",
      "4.866370008687491 4.9\n",
      "99.96541060212455 4.7\n",
      "4.605378396820816 4.6\n",
      "4.89520880613692 4.9\n",
      "4.804800936718601 4.8\n",
      "99.98261410217376 4.7\n",
      "5.333723376734898 5.3\n",
      "99.95411010026784 5.3\n",
      "4.634334267152697 4.6\n",
      "99.96952382142577 4.3\n",
      "4.685871513663879 4.7\n",
      "4.874595563595354 4.9\n",
      "99.8226252367212 5.0\n",
      "5.029358600632158 5.0\n",
      "4.339217829731169 4.3\n",
      "4.997045962859005 5.0\n",
      "99.91552969450896 5.0\n",
      "4.594680957564846 4.6\n",
      "4.768875746968285 4.8\n",
      "4.98094312370781 5.0\n",
      "5.182315448608955 5.2\n",
      "99.5221744139839 4.3999999999999995\n",
      "4.8148977187666855 4.8\n",
      "99.97065309514548 4.9\n",
      "4.734034877438389 4.7\n",
      "4.6088170888444635 4.6\n",
      "4.747250371690158 4.7\n",
      "99.24113567249711 4.6\n",
      "4.651821895008166 4.7\n",
      "99.97862375211295 4.9\n",
      "99.92673815411788 4.3\n",
      "4.773436703045836 4.8\n",
      "99.56946769519413 4.5\n",
      "4.584817061646028 4.6\n",
      "99.9472766510761 4.2\n",
      "4.655592460533134 4.7\n",
      "4.833102268666897 4.8\n",
      "99.78805814864448 4.7\n",
      "4.68297217602113 4.7\n",
      "4.549348888385768 4.5\n",
      "4.652359235638126 4.6\n",
      "98.96072576284345 4.7\n",
      "4.887980613359771 4.9\n",
      "99.97181081596955 5.1\n",
      "4.7896589646026015 4.8\n",
      "5.221895552820981 5.2\n",
      "4.581101578893899 4.6\n",
      "4.475549765580575 4.5\n",
      "4.49827209890206 4.5\n",
      "5.0236534795265975 5.0\n",
      "4.679639156817868 4.7\n",
      "99.97634460207969 4.6\n",
      "4.509626965711202 4.5\n",
      "4.9867010845649276 5.0\n",
      "5.153403828856126 5.2\n",
      "4.986784243468093 5.0\n",
      "4.593606500036077 4.6\n",
      "4.63841346987249 4.6\n",
      "4.682704974252015 4.7\n",
      "99.90005792761092 4.6\n",
      "4.811439961332846 4.8\n",
      "4.2303585555920815 4.2\n",
      "4.569678265708276 4.6\n",
      "4.87464994457654 4.9\n",
      "4.572343926108086 4.6\n",
      "4.827602694396868 4.8\n",
      "4.973827322640754 5.0\n",
      "4.769243062729644 4.8\n",
      "4.849355171492506 4.8\n",
      "99.98916865138764 4.7\n",
      "4.884092205689199 4.9\n",
      "4.790625223493772 4.8\n",
      "4.711566672171955 4.7\n",
      "4.645615406067221 4.6\n",
      "4.326375969264934 4.3\n",
      "99.71736455738422 4.7\n",
      "5.319227940386697 5.3\n",
      "4.424540163268762 4.3999999999999995\n",
      "99.85750047111071 4.5\n",
      "5.607290547395909 5.6\n",
      "5.304672438516697 5.3\n",
      "99.93325252661363 4.5\n",
      "4.590969928464322 4.6\n",
      "99.97176496451496 4.3\n",
      "4.745471449904185 4.7\n",
      "99.88547839318902 4.6\n",
      "4.697304003388453 4.7\n",
      "4.837474869628762 4.8\n",
      "4.728998725503232 4.7\n",
      "4.652362985670018 4.7\n",
      "99.95434057184005 4.6\n",
      "4.75191512719392 4.7\n",
      "4.632390174608423 4.6\n",
      "4.761533399813395 4.8\n",
      "4.532021196231191 4.5\n",
      "4.864813778007678 4.9\n",
      "99.94394809224255 4.8\n",
      "4.873599797430105 4.9\n",
      "99.94558129936271 4.5\n",
      "99.75628785950816 4.7\n",
      "99.85346545049929 4.7\n",
      "4.558488954103274 4.6\n",
      "99.88877464377136 4.9\n",
      "4.289250366348337 4.3\n",
      "99.90278902223241 4.2\n",
      "4.541268705705262 4.5\n",
      "4.721661008394267 4.7\n",
      "5.039436499049276 5.0\n",
      "4.3986699532970315 4.3999999999999995\n",
      "5.118115806873047 5.1\n",
      "4.739702186490329 4.7\n",
      "4.452524352537066 4.3999999999999995\n",
      "5.094414496199905 5.1\n",
      "5.094425315498993 5.1\n",
      "4.632964278189477 4.6\n",
      "4.7164307426148175 4.7\n",
      "4.559951165245536 4.6\n",
      "4.848762776539972 4.9\n",
      "4.79937828383833 4.8\n",
      "4.574637192527323 4.6\n",
      "99.94090413843122 4.3\n",
      "4.646579434277988 4.7\n",
      "4.2680996961444295 4.3\n",
      "4.569503443716664 4.6\n",
      "4.730569908681633 4.7\n",
      "31.88780308489248 4.7\n",
      "99.83448273768575 4.8\n",
      "99.93490139286885 4.3999999999999995\n",
      "4.695008603099429 4.7\n",
      "99.95449377970152 4.6\n",
      "4.727913937640273 4.7\n",
      "99.91576496213543 4.2\n",
      "4.504035886447025 4.5\n",
      "4.31604837309671 4.3\n",
      "4.688910181424253 4.7\n",
      "4.654731786726137 4.7\n",
      "4.841570378504799 4.8\n",
      "4.653184613846196 4.6\n",
      "4.874598223650497 4.9\n",
      "4.611857626886238 4.6\n",
      "99.91952780110434 4.6\n",
      "99.95472118924262 4.3999999999999995\n",
      "4.629883527327947 4.6\n",
      "99.92013106129052 4.3999999999999995\n",
      "4.629968576455455 4.6\n",
      "5.035366004429096 5.0\n",
      "5.194279675900196 5.2\n",
      "4.356454668758169 4.3999999999999995\n",
      "5.287962272001326 5.3\n",
      "4.926274929409466 4.9\n",
      "99.91446960905093 4.5\n",
      "99.93329212936197 4.8\n",
      "99.95463919104395 4.6\n",
      "5.175928499470361 5.2\n",
      "4.854992524365812 4.9\n",
      "4.599732525439762 4.6\n",
      "5.033116486040912 5.0\n",
      "5.158118020029089 5.2\n",
      "99.89874572053698 4.7\n",
      "4.913321948076814 4.9\n",
      "4.846574879875373 4.8\n",
      "4.795305523488776 4.8\n",
      "99.75563223745304 4.6\n",
      "5.244533324490091 5.3\n",
      "99.90414749097486 4.5\n",
      "5.321152745851844 5.3\n",
      "99.90944164840859 4.9\n",
      "4.4887386911599565 4.5\n",
      "99.73454404794393 4.2\n",
      "4.614734243065706 4.6\n",
      "4.997865595466669 5.0\n",
      "5.259245306035668 5.3\n",
      "4.741256865249107 4.7\n",
      "4.723929208581463 4.7\n",
      "4.648737072035266 4.7\n",
      "4.557198375386742 4.6\n",
      "4.583402629748459 4.6\n",
      "4.841921507417127 4.8\n",
      "5.363520440281102 5.4\n",
      "99.27526369493071 4.6\n",
      "4.860185803936656 4.9\n",
      "5.005528964871947 5.0\n",
      "5.12083573237611 5.1\n",
      "4.773325606055164 4.8\n",
      "4.717347642051535 4.7\n",
      "4.551927109008531 4.6\n",
      "4.882923575778987 4.9\n",
      "4.73672298452693 4.7\n",
      "4.509765646164788 4.5\n",
      "4.56728139041169 4.6\n",
      "4.755378177421346 4.8\n",
      "4.260584858485513 4.3\n",
      "5.122310365100794 5.1\n",
      "99.9755043054763 4.6\n",
      "4.7518625873464995 4.7\n",
      "4.649046150995565 4.7\n",
      "4.871255024257191 4.9\n",
      "4.920883591473141 4.9\n",
      "4.71578747045938 4.7\n",
      "5.1789165004498825 5.2\n",
      "4.440816169250459 4.3999999999999995\n",
      "4.821130486836048 4.8\n",
      "4.653210053501718 4.7\n",
      "99.90683228529184 4.8\n",
      "5.045408024006747 5.0\n",
      "99.94291826127302 5.0\n",
      "69.50320627265174 4.6\n",
      "5.564770790520897 5.6\n",
      "99.81887142934018 5.1\n",
      "5.030317234072125 5.0\n",
      "4.545330705923517 4.5\n",
      "99.97743458312043 4.6\n",
      "4.557530671457945 4.6\n",
      "4.0294570696851535 4.0\n",
      "4.3722745880991924 4.3999999999999995\n",
      "6.081276081666115 6.1\n",
      "4.629288802426367 4.6\n",
      "4.7245465079872515 4.7\n",
      "4.388048129009561 4.3999999999999995\n",
      "99.70691096779501 5.0\n",
      "99.90920568050745 5.0\n",
      "99.97082680537514 4.5\n",
      "99.97294994120298 4.7\n",
      "84.50524511155845 4.7\n",
      "99.94397158676584 4.3\n",
      "4.694305355617548 4.7\n",
      "4.510137318778966 4.5\n",
      "4.6955102576236865 4.7\n",
      "4.441240248023491 4.3999999999999995\n",
      "5.381857723259305 5.4\n",
      "4.505595919957831 4.5\n",
      "4.674579983371648 4.7\n",
      "4.8186218679496955 4.8\n",
      "99.80816906962623 4.5\n",
      "5.366301680200509 5.4\n",
      "5.158612683268173 5.2\n",
      "5.149202860805558 5.2\n",
      "4.720422970368939 4.7\n",
      "4.790632946424628 4.8\n",
      "4.441241562317586 4.3999999999999995\n",
      "99.90438345768591 4.7\n",
      "99.57077387540885 5.0\n",
      "6.3396400471176175 6.4\n",
      "5.247771884606979 5.3\n",
      "4.774343179426953 4.8\n",
      "4.848168414466575 4.9\n",
      "4.8488466955427505 4.9\n",
      "4.86789515353416 4.9\n",
      "4.919969652983597 4.9\n",
      "4.806931582395654 4.8\n",
      "5.215399238053269 5.2\n",
      "99.94068412490903 4.3999999999999995\n",
      "4.482645215016182 4.5\n",
      "32.029733047140624 4.7\n",
      "99.96073502320968 4.3\n",
      "5.000620062528723 5.0\n",
      "5.000757514061418 5.0\n",
      "4.989468299917356 5.0\n",
      "4.544726980591812 4.6\n",
      "4.775522104407985 4.8\n",
      "73.02122046222432 4.6\n",
      "5.221911211588339 5.2\n",
      "4.599169935102608 4.6\n",
      "99.8797332570185 5.0\n",
      "4.832800591283958 4.8\n",
      "4.656074419405824 4.7\n",
      "5.379511946573826 5.4\n",
      "99.89934042176814 4.6\n",
      "99.86821120047551 4.8\n",
      "4.754243607976967 4.8\n",
      "99.96119076070927 5.0\n"
     ]
    }
   ],
   "source": [
    "sample_num = 1000\n",
    "r_records2 = np.zeros(sample_num)\n",
    "r_records_gs2 = np.zeros(sample_num)\n",
    "value_records2 = np.zeros([sample_num,300])\n",
    "\n",
    "for i in range(sample_num):\n",
    "    r_gs1,_,r_grid,value = gs_radius_And_GridSearch(radius1=0,radius2=100,netD=netD,real_cpu=real_cpu,real_label=real_label,tor=1e-5,n_dis=2,lam=0.618,mode=1)\n",
    "    r_records2[i] = r_gs1\n",
    "    r_records_gs2[i] = r_grid\n",
    "    value_records2[i] = value\n",
    "    print(r_gs1,r_grid)"
   ]
  },
  {
   "cell_type": "code",
   "execution_count": 12,
   "id": "32f480a3",
   "metadata": {},
   "outputs": [
    {
     "name": "stderr",
     "output_type": "stream",
     "text": [
      "extracting all features from dataset: 100%|██████████████████████████████████████████████| 1/1 [00:00<00:00,  1.39it/s]\n",
      "extracting all features from dataset: 100%|██████████████████████████████████████████████| 1/1 [00:00<00:00,  1.24it/s]\n"
     ]
    },
    {
     "name": "stdout",
     "output_type": "stream",
     "text": [
      "----------------------------\n",
      "Train_z, Test_z\n",
      "PCA: 0.8385\n",
      "SVD: 0.8364\n",
      "NetD, Acc at first 0.8607\n"
     ]
    },
    {
     "name": "stderr",
     "output_type": "stream",
     "text": [
      "extracting all features from dataset: 100%|██████████████████████████████████████████████| 2/2 [00:04<00:00,  2.25s/it]\n",
      "extracting all features from dataset: 100%|██████████████████████████████████████████████| 1/1 [00:00<00:00,  1.40it/s]\n"
     ]
    },
    {
     "name": "stdout",
     "output_type": "stream",
     "text": [
      "----------------------------\n",
      "Train_z, Test_z\n",
      "PCA: 0.8075\n",
      "SVD: 0.8064\n",
      "NetG, Acc at first 0.8404\n"
     ]
    }
   ],
   "source": [
    "#acc at first for NetD\n",
    "NetD_acc = 0\n",
    "train_X, train_Z, train_X_bar, train_Z_bar, train_labels = extract_features2(testloader, netD, netG)\n",
    "\n",
    "test_X, test_Z, test_X_bar, test_Z_bar, test_labels = extract_features2(testloader, netD, netG)\n",
    "\n",
    "\n",
    "print(\"----------------------------\")\n",
    "print(\"Train_z, Test_z\")\n",
    "nearsub(n_comp, train_Z, train_labels, test_Z, test_labels)\n",
    "\n",
    "#acc at first for NetD\n",
    "from sklearn.neighbors import KNeighborsClassifier \n",
    "knn= KNeighborsClassifier(n_neighbors=10) \n",
    "\n",
    "knn.fit(train_Z,train_labels) \n",
    "knn.score(test_Z,test_labels) \n",
    " \n",
    "y_predict = knn.predict(test_Z) \n",
    "\n",
    "count =0\n",
    "for k in range(10000):\n",
    "    if y_predict[k] == test_labels[k]:\n",
    "        count +=1\n",
    "        \n",
    "NetD_acc = count/10000\n",
    "print('NetD, Acc at first', NetD_acc)\n",
    "Acc_results_D.append(count/10000)\n",
    "\n",
    "#acc at first for NetG\n",
    "train_X, train_Z, train_X_bar, train_Z_bar, train_labels = extract_features2(trainloader, netG, netD)\n",
    "\n",
    "test_X, test_Z, test_X_bar, test_Z_bar, test_labels = extract_features2(testloader, netG, netD)\n",
    "\n",
    "print(\"----------------------------\")\n",
    "print(\"Train_z, Test_z\")\n",
    "nearsub(n_comp, train_Z, train_labels, test_Z, test_labels)\n",
    "\n",
    "\n",
    "#acc at first\n",
    "from sklearn.neighbors import KNeighborsClassifier \n",
    "knn= KNeighborsClassifier(n_neighbors=10) \n",
    "\n",
    "knn.fit(train_Z,train_labels) \n",
    "knn.score(test_Z,test_labels) \n",
    " \n",
    "y_predict = knn.predict(test_Z) \n",
    "\n",
    "count =0\n",
    "for k in range(10000):\n",
    "    if y_predict[k] == test_labels[k]:\n",
    "        count +=1\n",
    "print('NetG, Acc at first',count/10000)\n",
    "Acc_results_G.append(count/10000)\n"
   ]
  },
  {
   "cell_type": "code",
   "execution_count": 13,
   "id": "ab308301",
   "metadata": {},
   "outputs": [],
   "source": [
    "#robust testing\n",
    "r_list = [0,0.1,0.2,0.5,1,2,3,4,6,8,10]\n",
    "sample_num = 20\n",
    "acc_record = np.zeros([4,20])\n"
   ]
  },
  {
   "cell_type": "code",
   "execution_count": 14,
   "id": "6cedfcd1",
   "metadata": {},
   "outputs": [
    {
     "name": "stderr",
     "output_type": "stream",
     "text": [
      "extracting all features from dataset: 100%|██████████████████████████████████████████████| 2/2 [00:04<00:00,  2.32s/it]\n",
      "extracting all features from dataset: 100%|██████████████████████████████████████████████| 1/1 [00:00<00:00,  1.38it/s]\n"
     ]
    },
    {
     "name": "stdout",
     "output_type": "stream",
     "text": [
      "----------------------------\n",
      "Train_z, Test_z\n",
      "PCA: 0.8061\n",
      "SVD: 0.8044\n",
      "NetG_fixD, Acc at sample 1 0.7182\n"
     ]
    },
    {
     "name": "stderr",
     "output_type": "stream",
     "text": [
      "extracting all features from dataset: 100%|██████████████████████████████████████████████| 2/2 [00:04<00:00,  2.32s/it]\n",
      "extracting all features from dataset: 100%|██████████████████████████████████████████████| 1/1 [00:00<00:00,  1.35it/s]\n"
     ]
    },
    {
     "name": "stdout",
     "output_type": "stream",
     "text": [
      "----------------------------\n",
      "Train_z, Test_z\n",
      "PCA: 0.8065\n",
      "SVD: 0.804\n",
      "NetG_fixD, Acc at sample 2 0.7211\n"
     ]
    },
    {
     "name": "stderr",
     "output_type": "stream",
     "text": [
      "extracting all features from dataset: 100%|██████████████████████████████████████████████| 2/2 [00:04<00:00,  2.41s/it]\n",
      "extracting all features from dataset: 100%|██████████████████████████████████████████████| 1/1 [00:00<00:00,  1.42it/s]\n"
     ]
    },
    {
     "name": "stdout",
     "output_type": "stream",
     "text": [
      "----------------------------\n",
      "Train_z, Test_z\n",
      "PCA: 0.8066\n",
      "SVD: 0.8041\n",
      "NetG_fixD, Acc at sample 3 0.72\n"
     ]
    },
    {
     "name": "stderr",
     "output_type": "stream",
     "text": [
      "extracting all features from dataset: 100%|██████████████████████████████████████████████| 2/2 [00:04<00:00,  2.38s/it]\n",
      "extracting all features from dataset: 100%|██████████████████████████████████████████████| 1/1 [00:00<00:00,  1.44it/s]\n"
     ]
    },
    {
     "name": "stdout",
     "output_type": "stream",
     "text": [
      "----------------------------\n",
      "Train_z, Test_z\n",
      "PCA: 0.8069\n",
      "SVD: 0.8056\n",
      "NetG_fixD, Acc at sample 4 0.7214\n"
     ]
    },
    {
     "name": "stderr",
     "output_type": "stream",
     "text": [
      "extracting all features from dataset: 100%|██████████████████████████████████████████████| 2/2 [00:04<00:00,  2.35s/it]\n",
      "extracting all features from dataset: 100%|██████████████████████████████████████████████| 1/1 [00:00<00:00,  1.42it/s]\n"
     ]
    },
    {
     "name": "stdout",
     "output_type": "stream",
     "text": [
      "----------------------------\n",
      "Train_z, Test_z\n",
      "PCA: 0.8058\n",
      "SVD: 0.8041\n",
      "NetG_fixD, Acc at sample 5 0.7215\n"
     ]
    },
    {
     "name": "stderr",
     "output_type": "stream",
     "text": [
      "extracting all features from dataset: 100%|██████████████████████████████████████████████| 2/2 [00:04<00:00,  2.44s/it]\n",
      "extracting all features from dataset: 100%|██████████████████████████████████████████████| 1/1 [00:00<00:00,  1.40it/s]\n"
     ]
    },
    {
     "name": "stdout",
     "output_type": "stream",
     "text": [
      "----------------------------\n",
      "Train_z, Test_z\n",
      "PCA: 0.8062\n",
      "SVD: 0.8038\n",
      "NetG_fixD, Acc at sample 6 0.7189\n"
     ]
    },
    {
     "name": "stderr",
     "output_type": "stream",
     "text": [
      "extracting all features from dataset: 100%|██████████████████████████████████████████████| 2/2 [00:04<00:00,  2.38s/it]\n",
      "extracting all features from dataset: 100%|██████████████████████████████████████████████| 1/1 [00:00<00:00,  1.29it/s]\n"
     ]
    },
    {
     "name": "stdout",
     "output_type": "stream",
     "text": [
      "----------------------------\n",
      "Train_z, Test_z\n",
      "PCA: 0.8063\n",
      "SVD: 0.8037\n",
      "NetG_fixD, Acc at sample 7 0.7203\n"
     ]
    },
    {
     "name": "stderr",
     "output_type": "stream",
     "text": [
      "extracting all features from dataset: 100%|██████████████████████████████████████████████| 2/2 [00:04<00:00,  2.45s/it]\n",
      "extracting all features from dataset: 100%|██████████████████████████████████████████████| 1/1 [00:00<00:00,  1.43it/s]\n"
     ]
    },
    {
     "name": "stdout",
     "output_type": "stream",
     "text": [
      "----------------------------\n",
      "Train_z, Test_z\n",
      "PCA: 0.8061\n",
      "SVD: 0.8019000000000001\n",
      "NetG_fixD, Acc at sample 8 0.7183\n"
     ]
    },
    {
     "name": "stderr",
     "output_type": "stream",
     "text": [
      "extracting all features from dataset: 100%|██████████████████████████████████████████████| 2/2 [00:04<00:00,  2.40s/it]\n",
      "extracting all features from dataset: 100%|██████████████████████████████████████████████| 1/1 [00:00<00:00,  1.38it/s]\n"
     ]
    },
    {
     "name": "stdout",
     "output_type": "stream",
     "text": [
      "----------------------------\n",
      "Train_z, Test_z\n",
      "PCA: 0.8076\n",
      "SVD: 0.8043\n",
      "NetG_fixD, Acc at sample 9 0.7204\n"
     ]
    },
    {
     "name": "stderr",
     "output_type": "stream",
     "text": [
      "extracting all features from dataset: 100%|██████████████████████████████████████████████| 2/2 [00:04<00:00,  2.34s/it]\n",
      "extracting all features from dataset: 100%|██████████████████████████████████████████████| 1/1 [00:00<00:00,  1.36it/s]\n"
     ]
    },
    {
     "name": "stdout",
     "output_type": "stream",
     "text": [
      "----------------------------\n",
      "Train_z, Test_z\n",
      "PCA: 0.8071\n",
      "SVD: 0.8037\n",
      "NetG_fixD, Acc at sample 10 0.7205\n"
     ]
    },
    {
     "name": "stderr",
     "output_type": "stream",
     "text": [
      "extracting all features from dataset: 100%|██████████████████████████████████████████████| 2/2 [00:04<00:00,  2.43s/it]\n",
      "extracting all features from dataset: 100%|██████████████████████████████████████████████| 1/1 [00:00<00:00,  1.40it/s]\n"
     ]
    },
    {
     "name": "stdout",
     "output_type": "stream",
     "text": [
      "----------------------------\n",
      "Train_z, Test_z\n",
      "PCA: 0.8048\n",
      "SVD: 0.8049\n",
      "NetG_fixD, Acc at sample 11 0.7191\n"
     ]
    },
    {
     "name": "stderr",
     "output_type": "stream",
     "text": [
      "extracting all features from dataset: 100%|██████████████████████████████████████████████| 2/2 [00:04<00:00,  2.32s/it]\n",
      "extracting all features from dataset: 100%|██████████████████████████████████████████████| 1/1 [00:00<00:00,  1.25it/s]\n"
     ]
    },
    {
     "name": "stdout",
     "output_type": "stream",
     "text": [
      "----------------------------\n",
      "Train_z, Test_z\n",
      "PCA: 0.8085\n",
      "SVD: 0.8049\n",
      "NetG_fixD, Acc at sample 12 0.7208\n"
     ]
    },
    {
     "name": "stderr",
     "output_type": "stream",
     "text": [
      "extracting all features from dataset: 100%|██████████████████████████████████████████████| 2/2 [00:04<00:00,  2.27s/it]\n",
      "extracting all features from dataset: 100%|██████████████████████████████████████████████| 1/1 [00:00<00:00,  1.37it/s]\n"
     ]
    },
    {
     "name": "stdout",
     "output_type": "stream",
     "text": [
      "----------------------------\n",
      "Train_z, Test_z\n",
      "PCA: 0.8066\n",
      "SVD: 0.8041\n",
      "NetG_fixD, Acc at sample 13 0.7208\n"
     ]
    },
    {
     "name": "stderr",
     "output_type": "stream",
     "text": [
      "extracting all features from dataset: 100%|██████████████████████████████████████████████| 2/2 [00:04<00:00,  2.36s/it]\n",
      "extracting all features from dataset: 100%|██████████████████████████████████████████████| 1/1 [00:00<00:00,  1.37it/s]\n"
     ]
    },
    {
     "name": "stdout",
     "output_type": "stream",
     "text": [
      "----------------------------\n",
      "Train_z, Test_z\n",
      "PCA: 0.8082\n",
      "SVD: 0.8054\n",
      "NetG_fixD, Acc at sample 14 0.7216\n"
     ]
    },
    {
     "name": "stderr",
     "output_type": "stream",
     "text": [
      "extracting all features from dataset: 100%|██████████████████████████████████████████████| 2/2 [00:04<00:00,  2.37s/it]\n",
      "extracting all features from dataset: 100%|██████████████████████████████████████████████| 1/1 [00:00<00:00,  1.32it/s]\n"
     ]
    },
    {
     "name": "stdout",
     "output_type": "stream",
     "text": [
      "----------------------------\n",
      "Train_z, Test_z\n",
      "PCA: 0.8052\n",
      "SVD: 0.8049\n",
      "NetG_fixD, Acc at sample 15 0.7192\n"
     ]
    },
    {
     "name": "stderr",
     "output_type": "stream",
     "text": [
      "extracting all features from dataset: 100%|██████████████████████████████████████████████| 2/2 [00:04<00:00,  2.39s/it]\n",
      "extracting all features from dataset: 100%|██████████████████████████████████████████████| 1/1 [00:00<00:00,  1.35it/s]\n"
     ]
    },
    {
     "name": "stdout",
     "output_type": "stream",
     "text": [
      "----------------------------\n",
      "Train_z, Test_z\n",
      "PCA: 0.8077\n",
      "SVD: 0.8061\n",
      "NetG_fixD, Acc at sample 16 0.7179\n"
     ]
    },
    {
     "name": "stderr",
     "output_type": "stream",
     "text": [
      "extracting all features from dataset: 100%|██████████████████████████████████████████████| 2/2 [00:04<00:00,  2.35s/it]\n",
      "extracting all features from dataset: 100%|██████████████████████████████████████████████| 1/1 [00:00<00:00,  1.38it/s]\n"
     ]
    },
    {
     "name": "stdout",
     "output_type": "stream",
     "text": [
      "----------------------------\n",
      "Train_z, Test_z\n",
      "PCA: 0.8071\n",
      "SVD: 0.8025\n",
      "NetG_fixD, Acc at sample 17 0.7186\n"
     ]
    },
    {
     "name": "stderr",
     "output_type": "stream",
     "text": [
      "extracting all features from dataset: 100%|██████████████████████████████████████████████| 2/2 [00:04<00:00,  2.35s/it]\n",
      "extracting all features from dataset: 100%|██████████████████████████████████████████████| 1/1 [00:00<00:00,  1.34it/s]\n"
     ]
    },
    {
     "name": "stdout",
     "output_type": "stream",
     "text": [
      "----------------------------\n",
      "Train_z, Test_z\n",
      "PCA: 0.8055\n",
      "SVD: 0.8034\n",
      "NetG_fixD, Acc at sample 18 0.7179\n"
     ]
    },
    {
     "name": "stderr",
     "output_type": "stream",
     "text": [
      "extracting all features from dataset: 100%|██████████████████████████████████████████████| 2/2 [00:04<00:00,  2.30s/it]\n",
      "extracting all features from dataset: 100%|██████████████████████████████████████████████| 1/1 [00:00<00:00,  1.27it/s]\n"
     ]
    },
    {
     "name": "stdout",
     "output_type": "stream",
     "text": [
      "----------------------------\n",
      "Train_z, Test_z\n",
      "PCA: 0.8072\n",
      "SVD: 0.8063\n",
      "NetG_fixD, Acc at sample 19 0.7211\n"
     ]
    },
    {
     "name": "stderr",
     "output_type": "stream",
     "text": [
      "extracting all features from dataset: 100%|██████████████████████████████████████████████| 2/2 [00:04<00:00,  2.35s/it]\n",
      "extracting all features from dataset: 100%|██████████████████████████████████████████████| 1/1 [00:00<00:00,  1.38it/s]\n"
     ]
    },
    {
     "name": "stdout",
     "output_type": "stream",
     "text": [
      "----------------------------\n",
      "Train_z, Test_z\n",
      "PCA: 0.8053\n",
      "SVD: 0.8032\n",
      "NetG_fixD, Acc at sample 20 0.72\n",
      "0.7216 0.7179 0.7198800000000001 1.5126000000000234e-06\n"
     ]
    }
   ],
   "source": [
    "# sample 20 times of NetG at final radius, NetD is fixed, length 0.1,0.2,0.5,1,2,4,6,8,10,15,20\n",
    "from sklearn.neighbors import KNeighborsClassifier \n",
    "Acc_results_G_sample = []\n",
    "for _ in range(sample_num):\n",
    "    #acc at first\n",
    "    net_noise = get_noise(DATASET, device, LABEL)\n",
    "    fed_state_dict = get_netG(netD,netV,net_noise,r_list[1])\n",
    "    netG.load_state_dict(fed_state_dict)\n",
    "    \n",
    "    train_X, train_Z, train_X_bar, train_Z_bar, train_labels = extract_features2(trainloader, netG, netD)\n",
    "\n",
    "    test_X, test_Z, test_X_bar, test_Z_bar, test_labels = extract_features2(testloader, netG, netD)\n",
    "\n",
    "    print(\"----------------------------\")\n",
    "    print(\"Train_z, Test_z\")\n",
    "    nearsub(n_comp, train_Z, train_labels, test_Z, test_labels)\n",
    "\n",
    "    knn= KNeighborsClassifier(n_neighbors=10) \n",
    "\n",
    "    knn.fit(train_Z,train_labels) \n",
    "    knn.score(test_Z_bar,test_labels) \n",
    "\n",
    "    y_predict = knn.predict(test_Z_bar) \n",
    "\n",
    "    count =0\n",
    "    for k in range(10000):\n",
    "        if y_predict[k] == test_labels[k]:\n",
    "            count +=1\n",
    "    print('NetG_fixD, Acc at sample',_+1,count/10000)\n",
    "    Acc_results_G_sample.append(count/10000)\n",
    "\n",
    "print(max(Acc_results_G_sample),min(Acc_results_G_sample),np.mean(Acc_results_G_sample),np.var(Acc_results_G_sample))\n"
   ]
  },
  {
   "cell_type": "code",
   "execution_count": 15,
   "id": "20b7e0fb",
   "metadata": {},
   "outputs": [],
   "source": [
    "acc_record[0][0] = NetD_acc\n",
    "acc_record[1][0] = NetD_acc\n",
    "acc_record[2][0] = NetD_acc\n",
    "acc_record[3][0] = 0\n",
    "acc_record[0][1] = np.mean(Acc_results_G_sample)\n",
    "acc_record[1][1] = max(Acc_results_G_sample)\n",
    "acc_record[2][1] = min(Acc_results_G_sample)\n",
    "acc_record[3][1] = np.var(Acc_results_G_sample)"
   ]
  },
  {
   "cell_type": "code",
   "execution_count": 16,
   "id": "1d7a11cd",
   "metadata": {},
   "outputs": [
    {
     "name": "stderr",
     "output_type": "stream",
     "text": [
      "extracting all features from dataset: 100%|██████████████████████████████████████████████| 2/2 [00:04<00:00,  2.37s/it]\n",
      "extracting all features from dataset: 100%|██████████████████████████████████████████████| 1/1 [00:00<00:00,  1.29it/s]\n"
     ]
    },
    {
     "name": "stdout",
     "output_type": "stream",
     "text": [
      "----------------------------\n",
      "Train_z, Test_z\n",
      "PCA: 0.8137\n",
      "SVD: 0.8053\n",
      "NetG_fixD, Acc at sample 1 0.7317\n"
     ]
    },
    {
     "name": "stderr",
     "output_type": "stream",
     "text": [
      "extracting all features from dataset: 100%|██████████████████████████████████████████████| 2/2 [00:04<00:00,  2.30s/it]\n",
      "extracting all features from dataset: 100%|██████████████████████████████████████████████| 1/1 [00:00<00:00,  1.42it/s]\n"
     ]
    },
    {
     "name": "stdout",
     "output_type": "stream",
     "text": [
      "----------------------------\n",
      "Train_z, Test_z\n",
      "PCA: 0.8107\n",
      "SVD: 0.8067\n",
      "NetG_fixD, Acc at sample 2 0.7325\n"
     ]
    },
    {
     "name": "stderr",
     "output_type": "stream",
     "text": [
      "extracting all features from dataset: 100%|██████████████████████████████████████████████| 2/2 [00:04<00:00,  2.28s/it]\n",
      "extracting all features from dataset: 100%|██████████████████████████████████████████████| 1/1 [00:00<00:00,  1.41it/s]\n"
     ]
    },
    {
     "name": "stdout",
     "output_type": "stream",
     "text": [
      "----------------------------\n",
      "Train_z, Test_z\n",
      "PCA: 0.8136\n",
      "SVD: 0.8086\n",
      "NetG_fixD, Acc at sample 3 0.7328\n"
     ]
    },
    {
     "name": "stderr",
     "output_type": "stream",
     "text": [
      "extracting all features from dataset: 100%|██████████████████████████████████████████████| 2/2 [00:04<00:00,  2.37s/it]\n",
      "extracting all features from dataset: 100%|██████████████████████████████████████████████| 1/1 [00:00<00:00,  1.39it/s]\n"
     ]
    },
    {
     "name": "stdout",
     "output_type": "stream",
     "text": [
      "----------------------------\n",
      "Train_z, Test_z\n",
      "PCA: 0.8112\n",
      "SVD: 0.8064\n",
      "NetG_fixD, Acc at sample 4 0.7344\n"
     ]
    },
    {
     "name": "stderr",
     "output_type": "stream",
     "text": [
      "extracting all features from dataset: 100%|██████████████████████████████████████████████| 2/2 [00:04<00:00,  2.32s/it]\n",
      "extracting all features from dataset: 100%|██████████████████████████████████████████████| 1/1 [00:00<00:00,  1.41it/s]\n"
     ]
    },
    {
     "name": "stdout",
     "output_type": "stream",
     "text": [
      "----------------------------\n",
      "Train_z, Test_z\n",
      "PCA: 0.8095\n",
      "SVD: 0.8048\n",
      "NetG_fixD, Acc at sample 5 0.7293\n"
     ]
    },
    {
     "name": "stderr",
     "output_type": "stream",
     "text": [
      "extracting all features from dataset: 100%|██████████████████████████████████████████████| 2/2 [00:04<00:00,  2.34s/it]\n",
      "extracting all features from dataset: 100%|██████████████████████████████████████████████| 1/1 [00:00<00:00,  1.30it/s]\n"
     ]
    },
    {
     "name": "stdout",
     "output_type": "stream",
     "text": [
      "----------------------------\n",
      "Train_z, Test_z\n",
      "PCA: 0.8115\n",
      "SVD: 0.8057\n",
      "NetG_fixD, Acc at sample 6 0.736\n"
     ]
    },
    {
     "name": "stderr",
     "output_type": "stream",
     "text": [
      "extracting all features from dataset: 100%|██████████████████████████████████████████████| 2/2 [00:04<00:00,  2.36s/it]\n",
      "extracting all features from dataset: 100%|██████████████████████████████████████████████| 1/1 [00:00<00:00,  1.38it/s]\n"
     ]
    },
    {
     "name": "stdout",
     "output_type": "stream",
     "text": [
      "----------------------------\n",
      "Train_z, Test_z\n",
      "PCA: 0.8109\n",
      "SVD: 0.8067\n",
      "NetG_fixD, Acc at sample 7 0.7373\n"
     ]
    },
    {
     "name": "stderr",
     "output_type": "stream",
     "text": [
      "extracting all features from dataset: 100%|██████████████████████████████████████████████| 2/2 [00:04<00:00,  2.42s/it]\n",
      "extracting all features from dataset: 100%|██████████████████████████████████████████████| 1/1 [00:00<00:00,  1.45it/s]\n"
     ]
    },
    {
     "name": "stdout",
     "output_type": "stream",
     "text": [
      "----------------------------\n",
      "Train_z, Test_z\n",
      "PCA: 0.8125\n",
      "SVD: 0.806\n",
      "NetG_fixD, Acc at sample 8 0.7337\n"
     ]
    },
    {
     "name": "stderr",
     "output_type": "stream",
     "text": [
      "extracting all features from dataset: 100%|██████████████████████████████████████████████| 2/2 [00:04<00:00,  2.23s/it]\n",
      "extracting all features from dataset: 100%|██████████████████████████████████████████████| 1/1 [00:00<00:00,  1.34it/s]\n"
     ]
    },
    {
     "name": "stdout",
     "output_type": "stream",
     "text": [
      "----------------------------\n",
      "Train_z, Test_z\n",
      "PCA: 0.812\n",
      "SVD: 0.8068\n",
      "NetG_fixD, Acc at sample 9 0.7308\n"
     ]
    },
    {
     "name": "stderr",
     "output_type": "stream",
     "text": [
      "extracting all features from dataset: 100%|██████████████████████████████████████████████| 2/2 [00:04<00:00,  2.28s/it]\n",
      "extracting all features from dataset: 100%|██████████████████████████████████████████████| 1/1 [00:00<00:00,  1.40it/s]\n"
     ]
    },
    {
     "name": "stdout",
     "output_type": "stream",
     "text": [
      "----------------------------\n",
      "Train_z, Test_z\n",
      "PCA: 0.8123\n",
      "SVD: 0.8055\n",
      "NetG_fixD, Acc at sample 10 0.7321\n"
     ]
    },
    {
     "name": "stderr",
     "output_type": "stream",
     "text": [
      "extracting all features from dataset: 100%|██████████████████████████████████████████████| 2/2 [00:04<00:00,  2.25s/it]\n",
      "extracting all features from dataset: 100%|██████████████████████████████████████████████| 1/1 [00:00<00:00,  1.31it/s]\n"
     ]
    },
    {
     "name": "stdout",
     "output_type": "stream",
     "text": [
      "----------------------------\n",
      "Train_z, Test_z\n",
      "PCA: 0.8099000000000001\n",
      "SVD: 0.8056\n",
      "NetG_fixD, Acc at sample 11 0.7324\n"
     ]
    },
    {
     "name": "stderr",
     "output_type": "stream",
     "text": [
      "extracting all features from dataset: 100%|██████████████████████████████████████████████| 2/2 [00:04<00:00,  2.36s/it]\n",
      "extracting all features from dataset: 100%|██████████████████████████████████████████████| 1/1 [00:00<00:00,  1.42it/s]\n"
     ]
    },
    {
     "name": "stdout",
     "output_type": "stream",
     "text": [
      "----------------------------\n",
      "Train_z, Test_z\n",
      "PCA: 0.812\n",
      "SVD: 0.8088\n",
      "NetG_fixD, Acc at sample 12 0.7328\n"
     ]
    },
    {
     "name": "stderr",
     "output_type": "stream",
     "text": [
      "extracting all features from dataset: 100%|██████████████████████████████████████████████| 2/2 [00:04<00:00,  2.43s/it]\n",
      "extracting all features from dataset: 100%|██████████████████████████████████████████████| 1/1 [00:00<00:00,  1.39it/s]\n"
     ]
    },
    {
     "name": "stdout",
     "output_type": "stream",
     "text": [
      "----------------------------\n",
      "Train_z, Test_z\n",
      "PCA: 0.8129\n",
      "SVD: 0.8074\n",
      "NetG_fixD, Acc at sample 13 0.734\n"
     ]
    },
    {
     "name": "stderr",
     "output_type": "stream",
     "text": [
      "extracting all features from dataset: 100%|██████████████████████████████████████████████| 2/2 [00:04<00:00,  2.35s/it]\n",
      "extracting all features from dataset: 100%|██████████████████████████████████████████████| 1/1 [00:00<00:00,  1.38it/s]\n"
     ]
    },
    {
     "name": "stdout",
     "output_type": "stream",
     "text": [
      "----------------------------\n",
      "Train_z, Test_z\n",
      "PCA: 0.8099000000000001\n",
      "SVD: 0.8044\n",
      "NetG_fixD, Acc at sample 14 0.7341\n"
     ]
    },
    {
     "name": "stderr",
     "output_type": "stream",
     "text": [
      "extracting all features from dataset: 100%|██████████████████████████████████████████████| 2/2 [00:04<00:00,  2.41s/it]\n",
      "extracting all features from dataset: 100%|██████████████████████████████████████████████| 1/1 [00:00<00:00,  1.40it/s]\n"
     ]
    },
    {
     "name": "stdout",
     "output_type": "stream",
     "text": [
      "----------------------------\n",
      "Train_z, Test_z\n",
      "PCA: 0.8119000000000001\n",
      "SVD: 0.8082\n",
      "NetG_fixD, Acc at sample 15 0.7376\n"
     ]
    },
    {
     "name": "stderr",
     "output_type": "stream",
     "text": [
      "extracting all features from dataset: 100%|██████████████████████████████████████████████| 2/2 [00:04<00:00,  2.30s/it]\n",
      "extracting all features from dataset: 100%|██████████████████████████████████████████████| 1/1 [00:00<00:00,  1.30it/s]\n"
     ]
    },
    {
     "name": "stdout",
     "output_type": "stream",
     "text": [
      "----------------------------\n",
      "Train_z, Test_z\n",
      "PCA: 0.8124\n",
      "SVD: 0.8098\n",
      "NetG_fixD, Acc at sample 16 0.7345\n"
     ]
    },
    {
     "name": "stderr",
     "output_type": "stream",
     "text": [
      "extracting all features from dataset: 100%|██████████████████████████████████████████████| 2/2 [00:04<00:00,  2.35s/it]\n",
      "extracting all features from dataset: 100%|██████████████████████████████████████████████| 1/1 [00:00<00:00,  1.36it/s]\n"
     ]
    },
    {
     "name": "stdout",
     "output_type": "stream",
     "text": [
      "----------------------------\n",
      "Train_z, Test_z\n",
      "PCA: 0.8128\n",
      "SVD: 0.8069\n",
      "NetG_fixD, Acc at sample 17 0.732\n"
     ]
    },
    {
     "name": "stderr",
     "output_type": "stream",
     "text": [
      "extracting all features from dataset: 100%|██████████████████████████████████████████████| 2/2 [00:04<00:00,  2.37s/it]\n",
      "extracting all features from dataset: 100%|██████████████████████████████████████████████| 1/1 [00:00<00:00,  1.42it/s]\n"
     ]
    },
    {
     "name": "stdout",
     "output_type": "stream",
     "text": [
      "----------------------------\n",
      "Train_z, Test_z\n",
      "PCA: 0.8124\n",
      "SVD: 0.8052\n",
      "NetG_fixD, Acc at sample 18 0.7327\n"
     ]
    },
    {
     "name": "stderr",
     "output_type": "stream",
     "text": [
      "extracting all features from dataset: 100%|██████████████████████████████████████████████| 2/2 [00:04<00:00,  2.41s/it]\n",
      "extracting all features from dataset: 100%|██████████████████████████████████████████████| 1/1 [00:00<00:00,  1.44it/s]\n"
     ]
    },
    {
     "name": "stdout",
     "output_type": "stream",
     "text": [
      "----------------------------\n",
      "Train_z, Test_z\n",
      "PCA: 0.8121\n",
      "SVD: 0.8069\n",
      "NetG_fixD, Acc at sample 19 0.731\n"
     ]
    },
    {
     "name": "stderr",
     "output_type": "stream",
     "text": [
      "extracting all features from dataset: 100%|██████████████████████████████████████████████| 2/2 [00:04<00:00,  2.45s/it]\n",
      "extracting all features from dataset: 100%|██████████████████████████████████████████████| 1/1 [00:00<00:00,  1.41it/s]\n"
     ]
    },
    {
     "name": "stdout",
     "output_type": "stream",
     "text": [
      "----------------------------\n",
      "Train_z, Test_z\n",
      "PCA: 0.8133\n",
      "SVD: 0.8069\n",
      "NetG_fixD, Acc at sample 20 0.734\n",
      "0.7376 0.7293 0.733285 4.0872750000000175e-06\n"
     ]
    }
   ],
   "source": [
    "# sample 20 times of NetG at final radius, NetD is fixed\n",
    "from sklearn.neighbors import KNeighborsClassifier \n",
    "Acc_results_G_sample2 = []\n",
    "\n",
    "for _ in range(sample_num):\n",
    "    #acc at first\n",
    "    net_noise = get_noise(DATASET, device, LABEL)\n",
    "    fed_state_dict = get_netG(netD,netV,net_noise,r_list[2])\n",
    "    netG.load_state_dict(fed_state_dict)\n",
    "    \n",
    "    train_X, train_Z, train_X_bar, train_Z_bar, train_labels = extract_features2(trainloader, netG, netD)\n",
    "\n",
    "    test_X, test_Z, test_X_bar, test_Z_bar, test_labels = extract_features2(testloader, netG, netD)\n",
    "\n",
    "    print(\"----------------------------\")\n",
    "    print(\"Train_z, Test_z\")\n",
    "    nearsub(n_comp, train_Z, train_labels, test_Z, test_labels)\n",
    "\n",
    "    knn= KNeighborsClassifier(n_neighbors=10) \n",
    "\n",
    "    knn.fit(train_Z,train_labels) \n",
    "    knn.score(test_Z_bar,test_labels) \n",
    "\n",
    "    y_predict = knn.predict(test_Z_bar) \n",
    "\n",
    "    count =0\n",
    "    for k in range(10000):\n",
    "        if y_predict[k] == test_labels[k]:\n",
    "            count +=1\n",
    "    print('NetG_fixD, Acc at sample',_+1,count/10000)\n",
    "    Acc_results_G_sample2.append(count/10000)\n",
    "    \n",
    "print(max(Acc_results_G_sample2),min(Acc_results_G_sample2),np.mean(Acc_results_G_sample2),np.var(Acc_results_G_sample2))\n",
    "acc_record[0][2] = np.mean(Acc_results_G_sample2)\n",
    "acc_record[1][2] = max(Acc_results_G_sample2)\n",
    "acc_record[2][2] = min(Acc_results_G_sample2)\n",
    "acc_record[3][2] = np.var(Acc_results_G_sample2)"
   ]
  },
  {
   "cell_type": "code",
   "execution_count": 17,
   "id": "6d9ee5cb",
   "metadata": {},
   "outputs": [
    {
     "name": "stderr",
     "output_type": "stream",
     "text": [
      "extracting all features from dataset: 100%|██████████████████████████████████████████████| 2/2 [00:04<00:00,  2.38s/it]\n",
      "extracting all features from dataset: 100%|██████████████████████████████████████████████| 1/1 [00:00<00:00,  1.25it/s]\n"
     ]
    },
    {
     "name": "stdout",
     "output_type": "stream",
     "text": [
      "----------------------------\n",
      "Train_z, Test_z\n",
      "PCA: 0.8141\n",
      "SVD: 0.8124\n",
      "NetG_fixD, Acc at sample 1 0.7552\n"
     ]
    },
    {
     "name": "stderr",
     "output_type": "stream",
     "text": [
      "extracting all features from dataset: 100%|██████████████████████████████████████████████| 2/2 [00:04<00:00,  2.31s/it]\n",
      "extracting all features from dataset: 100%|██████████████████████████████████████████████| 1/1 [00:00<00:00,  1.38it/s]\n"
     ]
    },
    {
     "name": "stdout",
     "output_type": "stream",
     "text": [
      "----------------------------\n",
      "Train_z, Test_z\n",
      "PCA: 0.8167\n",
      "SVD: 0.8098\n",
      "NetG_fixD, Acc at sample 2 0.7617\n"
     ]
    },
    {
     "name": "stderr",
     "output_type": "stream",
     "text": [
      "extracting all features from dataset: 100%|██████████████████████████████████████████████| 2/2 [00:04<00:00,  2.39s/it]\n",
      "extracting all features from dataset: 100%|██████████████████████████████████████████████| 1/1 [00:00<00:00,  1.40it/s]\n"
     ]
    },
    {
     "name": "stdout",
     "output_type": "stream",
     "text": [
      "----------------------------\n",
      "Train_z, Test_z\n",
      "PCA: 0.8140000000000001\n",
      "SVD: 0.8126\n",
      "NetG_fixD, Acc at sample 3 0.7615\n"
     ]
    },
    {
     "name": "stderr",
     "output_type": "stream",
     "text": [
      "extracting all features from dataset: 100%|██████████████████████████████████████████████| 2/2 [00:04<00:00,  2.34s/it]\n",
      "extracting all features from dataset: 100%|██████████████████████████████████████████████| 1/1 [00:00<00:00,  1.29it/s]\n"
     ]
    },
    {
     "name": "stdout",
     "output_type": "stream",
     "text": [
      "----------------------------\n",
      "Train_z, Test_z\n",
      "PCA: 0.8103\n",
      "SVD: 0.808\n",
      "NetG_fixD, Acc at sample 4 0.7623\n"
     ]
    },
    {
     "name": "stderr",
     "output_type": "stream",
     "text": [
      "extracting all features from dataset: 100%|██████████████████████████████████████████████| 2/2 [00:04<00:00,  2.26s/it]\n",
      "extracting all features from dataset: 100%|██████████████████████████████████████████████| 1/1 [00:00<00:00,  1.42it/s]\n"
     ]
    },
    {
     "name": "stdout",
     "output_type": "stream",
     "text": [
      "----------------------------\n",
      "Train_z, Test_z\n",
      "PCA: 0.8141\n",
      "SVD: 0.8124\n",
      "NetG_fixD, Acc at sample 5 0.7617\n"
     ]
    },
    {
     "name": "stderr",
     "output_type": "stream",
     "text": [
      "extracting all features from dataset: 100%|██████████████████████████████████████████████| 2/2 [00:04<00:00,  2.34s/it]\n",
      "extracting all features from dataset: 100%|██████████████████████████████████████████████| 1/1 [00:00<00:00,  1.43it/s]\n"
     ]
    },
    {
     "name": "stdout",
     "output_type": "stream",
     "text": [
      "----------------------------\n",
      "Train_z, Test_z\n",
      "PCA: 0.8126\n",
      "SVD: 0.8071\n",
      "NetG_fixD, Acc at sample 6 0.7551\n"
     ]
    },
    {
     "name": "stderr",
     "output_type": "stream",
     "text": [
      "extracting all features from dataset: 100%|██████████████████████████████████████████████| 2/2 [00:04<00:00,  2.35s/it]\n",
      "extracting all features from dataset: 100%|██████████████████████████████████████████████| 1/1 [00:00<00:00,  1.29it/s]\n"
     ]
    },
    {
     "name": "stdout",
     "output_type": "stream",
     "text": [
      "----------------------------\n",
      "Train_z, Test_z\n",
      "PCA: 0.8139000000000001\n",
      "SVD: 0.8089999999999999\n",
      "NetG_fixD, Acc at sample 7 0.7581\n"
     ]
    },
    {
     "name": "stderr",
     "output_type": "stream",
     "text": [
      "extracting all features from dataset: 100%|██████████████████████████████████████████████| 2/2 [00:04<00:00,  2.35s/it]\n",
      "extracting all features from dataset: 100%|██████████████████████████████████████████████| 1/1 [00:00<00:00,  1.40it/s]\n"
     ]
    },
    {
     "name": "stdout",
     "output_type": "stream",
     "text": [
      "----------------------------\n",
      "Train_z, Test_z\n",
      "PCA: 0.8141\n",
      "SVD: 0.8122\n",
      "NetG_fixD, Acc at sample 8 0.7597\n"
     ]
    },
    {
     "name": "stderr",
     "output_type": "stream",
     "text": [
      "extracting all features from dataset: 100%|██████████████████████████████████████████████| 2/2 [00:04<00:00,  2.31s/it]\n",
      "extracting all features from dataset: 100%|██████████████████████████████████████████████| 1/1 [00:00<00:00,  1.43it/s]\n"
     ]
    },
    {
     "name": "stdout",
     "output_type": "stream",
     "text": [
      "----------------------------\n",
      "Train_z, Test_z\n",
      "PCA: 0.8146\n",
      "SVD: 0.8139000000000001\n",
      "NetG_fixD, Acc at sample 9 0.7601\n"
     ]
    },
    {
     "name": "stderr",
     "output_type": "stream",
     "text": [
      "extracting all features from dataset: 100%|██████████████████████████████████████████████| 2/2 [00:04<00:00,  2.38s/it]\n",
      "extracting all features from dataset: 100%|██████████████████████████████████████████████| 1/1 [00:00<00:00,  1.41it/s]\n"
     ]
    },
    {
     "name": "stdout",
     "output_type": "stream",
     "text": [
      "----------------------------\n",
      "Train_z, Test_z\n",
      "PCA: 0.8104\n",
      "SVD: 0.8107\n",
      "NetG_fixD, Acc at sample 10 0.7545\n"
     ]
    },
    {
     "name": "stderr",
     "output_type": "stream",
     "text": [
      "extracting all features from dataset: 100%|██████████████████████████████████████████████| 2/2 [00:04<00:00,  2.30s/it]\n",
      "extracting all features from dataset: 100%|██████████████████████████████████████████████| 1/1 [00:00<00:00,  1.41it/s]\n"
     ]
    },
    {
     "name": "stdout",
     "output_type": "stream",
     "text": [
      "----------------------------\n",
      "Train_z, Test_z\n",
      "PCA: 0.8164\n",
      "SVD: 0.8117\n",
      "NetG_fixD, Acc at sample 11 0.7596\n"
     ]
    },
    {
     "name": "stderr",
     "output_type": "stream",
     "text": [
      "extracting all features from dataset: 100%|██████████████████████████████████████████████| 2/2 [00:04<00:00,  2.41s/it]\n",
      "extracting all features from dataset: 100%|██████████████████████████████████████████████| 1/1 [00:00<00:00,  1.42it/s]\n"
     ]
    },
    {
     "name": "stdout",
     "output_type": "stream",
     "text": [
      "----------------------------\n",
      "Train_z, Test_z\n",
      "PCA: 0.8109999999999999\n",
      "SVD: 0.8097\n",
      "NetG_fixD, Acc at sample 12 0.7613\n"
     ]
    },
    {
     "name": "stderr",
     "output_type": "stream",
     "text": [
      "extracting all features from dataset: 100%|██████████████████████████████████████████████| 2/2 [00:04<00:00,  2.35s/it]\n",
      "extracting all features from dataset: 100%|██████████████████████████████████████████████| 1/1 [00:00<00:00,  1.28it/s]\n"
     ]
    },
    {
     "name": "stdout",
     "output_type": "stream",
     "text": [
      "----------------------------\n",
      "Train_z, Test_z\n",
      "PCA: 0.8137\n",
      "SVD: 0.8112\n",
      "NetG_fixD, Acc at sample 13 0.7572\n"
     ]
    },
    {
     "name": "stderr",
     "output_type": "stream",
     "text": [
      "extracting all features from dataset: 100%|██████████████████████████████████████████████| 2/2 [00:04<00:00,  2.35s/it]\n",
      "extracting all features from dataset: 100%|██████████████████████████████████████████████| 1/1 [00:00<00:00,  1.44it/s]\n"
     ]
    },
    {
     "name": "stdout",
     "output_type": "stream",
     "text": [
      "----------------------------\n",
      "Train_z, Test_z\n",
      "PCA: 0.8155\n",
      "SVD: 0.812\n",
      "NetG_fixD, Acc at sample 14 0.7554\n"
     ]
    },
    {
     "name": "stderr",
     "output_type": "stream",
     "text": [
      "extracting all features from dataset: 100%|██████████████████████████████████████████████| 2/2 [00:04<00:00,  2.40s/it]\n",
      "extracting all features from dataset: 100%|██████████████████████████████████████████████| 1/1 [00:00<00:00,  1.37it/s]\n"
     ]
    },
    {
     "name": "stdout",
     "output_type": "stream",
     "text": [
      "----------------------------\n",
      "Train_z, Test_z\n",
      "PCA: 0.8125\n",
      "SVD: 0.8067\n",
      "NetG_fixD, Acc at sample 15 0.758\n"
     ]
    },
    {
     "name": "stderr",
     "output_type": "stream",
     "text": [
      "extracting all features from dataset: 100%|██████████████████████████████████████████████| 2/2 [00:04<00:00,  2.42s/it]\n",
      "extracting all features from dataset: 100%|██████████████████████████████████████████████| 1/1 [00:00<00:00,  1.26it/s]\n"
     ]
    },
    {
     "name": "stdout",
     "output_type": "stream",
     "text": [
      "----------------------------\n",
      "Train_z, Test_z\n",
      "PCA: 0.8122\n",
      "SVD: 0.8086\n",
      "NetG_fixD, Acc at sample 16 0.7589\n"
     ]
    },
    {
     "name": "stderr",
     "output_type": "stream",
     "text": [
      "extracting all features from dataset: 100%|██████████████████████████████████████████████| 2/2 [00:04<00:00,  2.40s/it]\n",
      "extracting all features from dataset: 100%|██████████████████████████████████████████████| 1/1 [00:00<00:00,  1.35it/s]\n"
     ]
    },
    {
     "name": "stdout",
     "output_type": "stream",
     "text": [
      "----------------------------\n",
      "Train_z, Test_z\n",
      "PCA: 0.8144\n",
      "SVD: 0.8096\n",
      "NetG_fixD, Acc at sample 17 0.7589\n"
     ]
    },
    {
     "name": "stderr",
     "output_type": "stream",
     "text": [
      "extracting all features from dataset: 100%|██████████████████████████████████████████████| 2/2 [00:04<00:00,  2.43s/it]\n",
      "extracting all features from dataset: 100%|██████████████████████████████████████████████| 1/1 [00:00<00:00,  1.38it/s]\n"
     ]
    },
    {
     "name": "stdout",
     "output_type": "stream",
     "text": [
      "----------------------------\n",
      "Train_z, Test_z\n",
      "PCA: 0.81\n",
      "SVD: 0.8098\n",
      "NetG_fixD, Acc at sample 18 0.7558\n"
     ]
    },
    {
     "name": "stderr",
     "output_type": "stream",
     "text": [
      "extracting all features from dataset: 100%|██████████████████████████████████████████████| 2/2 [00:04<00:00,  2.29s/it]\n",
      "extracting all features from dataset: 100%|██████████████████████████████████████████████| 1/1 [00:00<00:00,  1.34it/s]\n"
     ]
    },
    {
     "name": "stdout",
     "output_type": "stream",
     "text": [
      "----------------------------\n",
      "Train_z, Test_z\n",
      "PCA: 0.8160000000000001\n",
      "SVD: 0.8119000000000001\n",
      "NetG_fixD, Acc at sample 19 0.756\n"
     ]
    },
    {
     "name": "stderr",
     "output_type": "stream",
     "text": [
      "extracting all features from dataset: 100%|██████████████████████████████████████████████| 2/2 [00:04<00:00,  2.40s/it]\n",
      "extracting all features from dataset: 100%|██████████████████████████████████████████████| 1/1 [00:00<00:00,  1.38it/s]\n"
     ]
    },
    {
     "name": "stdout",
     "output_type": "stream",
     "text": [
      "----------------------------\n",
      "Train_z, Test_z\n",
      "PCA: 0.8149\n",
      "SVD: 0.8065\n",
      "NetG_fixD, Acc at sample 20 0.7621\n",
      "0.7623 0.7545 0.7586550000000001 6.6734750000000446e-06\n"
     ]
    }
   ],
   "source": [
    "# sample 20 times of NetG at final radius, NetD is fixed\n",
    "from sklearn.neighbors import KNeighborsClassifier \n",
    "Acc_results_G_sample3 = []\n",
    "\n",
    "for _ in range(sample_num):\n",
    "    #acc at first\n",
    "    net_noise = get_noise(DATASET, device, LABEL)\n",
    "    fed_state_dict = get_netG(netD,netV,net_noise,r_list[3])\n",
    "    netG.load_state_dict(fed_state_dict)\n",
    "    \n",
    "    train_X, train_Z, train_X_bar, train_Z_bar, train_labels = extract_features2(trainloader, netG, netD)\n",
    "\n",
    "    test_X, test_Z, test_X_bar, test_Z_bar, test_labels = extract_features2(testloader, netG, netD)\n",
    "\n",
    "    print(\"----------------------------\")\n",
    "    print(\"Train_z, Test_z\")\n",
    "    nearsub(n_comp, train_Z, train_labels, test_Z, test_labels)\n",
    "\n",
    "    knn= KNeighborsClassifier(n_neighbors=10) \n",
    "\n",
    "    knn.fit(train_Z,train_labels) \n",
    "    knn.score(test_Z_bar,test_labels) \n",
    "\n",
    "    y_predict = knn.predict(test_Z_bar) \n",
    "\n",
    "    count =0\n",
    "    for k in range(10000):\n",
    "        if y_predict[k] == test_labels[k]:\n",
    "            count +=1\n",
    "    print('NetG_fixD, Acc at sample',_+1,count/10000)\n",
    "    Acc_results_G_sample3.append(count/10000)\n",
    "    \n",
    "print(max(Acc_results_G_sample3),min(Acc_results_G_sample3),np.mean(Acc_results_G_sample3),np.var(Acc_results_G_sample3))\n",
    "acc_record[0][3] = np.mean(Acc_results_G_sample3)\n",
    "acc_record[1][3] = max(Acc_results_G_sample3)\n",
    "acc_record[2][3] = min(Acc_results_G_sample3)\n",
    "acc_record[3][3] = np.var(Acc_results_G_sample3)"
   ]
  },
  {
   "cell_type": "code",
   "execution_count": 18,
   "id": "29596f72",
   "metadata": {},
   "outputs": [
    {
     "name": "stderr",
     "output_type": "stream",
     "text": [
      "extracting all features from dataset: 100%|██████████████████████████████████████████████| 2/2 [00:04<00:00,  2.34s/it]\n",
      "extracting all features from dataset: 100%|██████████████████████████████████████████████| 1/1 [00:00<00:00,  1.29it/s]\n"
     ]
    },
    {
     "name": "stdout",
     "output_type": "stream",
     "text": [
      "----------------------------\n",
      "Train_z, Test_z\n",
      "PCA: 0.8153\n",
      "SVD: 0.8118\n",
      "NetG_fixD, Acc at sample 1 0.7551\n"
     ]
    },
    {
     "name": "stderr",
     "output_type": "stream",
     "text": [
      "extracting all features from dataset: 100%|██████████████████████████████████████████████| 2/2 [00:04<00:00,  2.38s/it]\n",
      "extracting all features from dataset: 100%|██████████████████████████████████████████████| 1/1 [00:00<00:00,  1.37it/s]\n"
     ]
    },
    {
     "name": "stdout",
     "output_type": "stream",
     "text": [
      "----------------------------\n",
      "Train_z, Test_z\n",
      "PCA: 0.8147\n",
      "SVD: 0.8136\n",
      "NetG_fixD, Acc at sample 2 0.7389\n"
     ]
    },
    {
     "name": "stderr",
     "output_type": "stream",
     "text": [
      "extracting all features from dataset: 100%|██████████████████████████████████████████████| 2/2 [00:04<00:00,  2.42s/it]\n",
      "extracting all features from dataset: 100%|██████████████████████████████████████████████| 1/1 [00:00<00:00,  1.34it/s]\n"
     ]
    },
    {
     "name": "stdout",
     "output_type": "stream",
     "text": [
      "----------------------------\n",
      "Train_z, Test_z\n",
      "PCA: 0.8091\n",
      "SVD: 0.8074\n",
      "NetG_fixD, Acc at sample 3 0.7414\n"
     ]
    },
    {
     "name": "stderr",
     "output_type": "stream",
     "text": [
      "extracting all features from dataset: 100%|██████████████████████████████████████████████| 2/2 [00:04<00:00,  2.37s/it]\n",
      "extracting all features from dataset: 100%|██████████████████████████████████████████████| 1/1 [00:00<00:00,  1.26it/s]\n"
     ]
    },
    {
     "name": "stdout",
     "output_type": "stream",
     "text": [
      "----------------------------\n",
      "Train_z, Test_z\n",
      "PCA: 0.8157\n",
      "SVD: 0.8109\n",
      "NetG_fixD, Acc at sample 4 0.7354\n"
     ]
    },
    {
     "name": "stderr",
     "output_type": "stream",
     "text": [
      "extracting all features from dataset: 100%|██████████████████████████████████████████████| 2/2 [00:04<00:00,  2.33s/it]\n",
      "extracting all features from dataset: 100%|██████████████████████████████████████████████| 1/1 [00:00<00:00,  1.40it/s]\n"
     ]
    },
    {
     "name": "stdout",
     "output_type": "stream",
     "text": [
      "----------------------------\n",
      "Train_z, Test_z\n",
      "PCA: 0.8140000000000001\n",
      "SVD: 0.8108\n",
      "NetG_fixD, Acc at sample 5 0.749\n"
     ]
    },
    {
     "name": "stderr",
     "output_type": "stream",
     "text": [
      "extracting all features from dataset: 100%|██████████████████████████████████████████████| 2/2 [00:04<00:00,  2.26s/it]\n",
      "extracting all features from dataset: 100%|██████████████████████████████████████████████| 1/1 [00:00<00:00,  1.40it/s]\n"
     ]
    },
    {
     "name": "stdout",
     "output_type": "stream",
     "text": [
      "----------------------------\n",
      "Train_z, Test_z\n",
      "PCA: 0.8145\n",
      "SVD: 0.8109999999999999\n",
      "NetG_fixD, Acc at sample 6 0.7447\n"
     ]
    },
    {
     "name": "stderr",
     "output_type": "stream",
     "text": [
      "extracting all features from dataset: 100%|██████████████████████████████████████████████| 2/2 [00:04<00:00,  2.27s/it]\n",
      "extracting all features from dataset: 100%|██████████████████████████████████████████████| 1/1 [00:00<00:00,  1.33it/s]\n"
     ]
    },
    {
     "name": "stdout",
     "output_type": "stream",
     "text": [
      "----------------------------\n",
      "Train_z, Test_z\n",
      "PCA: 0.8093\n",
      "SVD: 0.8086\n",
      "NetG_fixD, Acc at sample 7 0.7466\n"
     ]
    },
    {
     "name": "stderr",
     "output_type": "stream",
     "text": [
      "extracting all features from dataset: 100%|██████████████████████████████████████████████| 2/2 [00:04<00:00,  2.33s/it]\n",
      "extracting all features from dataset: 100%|██████████████████████████████████████████████| 1/1 [00:00<00:00,  1.39it/s]\n"
     ]
    },
    {
     "name": "stdout",
     "output_type": "stream",
     "text": [
      "----------------------------\n",
      "Train_z, Test_z\n",
      "PCA: 0.8082\n",
      "SVD: 0.8102\n",
      "NetG_fixD, Acc at sample 8 0.7425\n"
     ]
    },
    {
     "name": "stderr",
     "output_type": "stream",
     "text": [
      "extracting all features from dataset: 100%|██████████████████████████████████████████████| 2/2 [00:04<00:00,  2.33s/it]\n",
      "extracting all features from dataset: 100%|██████████████████████████████████████████████| 1/1 [00:00<00:00,  1.29it/s]\n"
     ]
    },
    {
     "name": "stdout",
     "output_type": "stream",
     "text": [
      "----------------------------\n",
      "Train_z, Test_z\n",
      "PCA: 0.8145\n",
      "SVD: 0.8125\n",
      "NetG_fixD, Acc at sample 9 0.7561\n"
     ]
    },
    {
     "name": "stderr",
     "output_type": "stream",
     "text": [
      "extracting all features from dataset: 100%|██████████████████████████████████████████████| 2/2 [00:04<00:00,  2.30s/it]\n",
      "extracting all features from dataset: 100%|██████████████████████████████████████████████| 1/1 [00:00<00:00,  1.41it/s]\n"
     ]
    },
    {
     "name": "stdout",
     "output_type": "stream",
     "text": [
      "----------------------------\n",
      "Train_z, Test_z\n",
      "PCA: 0.8109\n",
      "SVD: 0.8065\n",
      "NetG_fixD, Acc at sample 10 0.7554\n"
     ]
    },
    {
     "name": "stderr",
     "output_type": "stream",
     "text": [
      "extracting all features from dataset: 100%|██████████████████████████████████████████████| 2/2 [00:04<00:00,  2.31s/it]\n",
      "extracting all features from dataset: 100%|██████████████████████████████████████████████| 1/1 [00:00<00:00,  1.42it/s]\n"
     ]
    },
    {
     "name": "stdout",
     "output_type": "stream",
     "text": [
      "----------------------------\n",
      "Train_z, Test_z\n",
      "PCA: 0.8130999999999999\n",
      "SVD: 0.8116\n",
      "NetG_fixD, Acc at sample 11 0.7578\n"
     ]
    },
    {
     "name": "stderr",
     "output_type": "stream",
     "text": [
      "extracting all features from dataset: 100%|██████████████████████████████████████████████| 2/2 [00:04<00:00,  2.28s/it]\n",
      "extracting all features from dataset: 100%|██████████████████████████████████████████████| 1/1 [00:00<00:00,  1.38it/s]\n"
     ]
    },
    {
     "name": "stdout",
     "output_type": "stream",
     "text": [
      "----------------------------\n",
      "Train_z, Test_z\n",
      "PCA: 0.8034\n",
      "SVD: 0.8017\n",
      "NetG_fixD, Acc at sample 12 0.7492\n"
     ]
    },
    {
     "name": "stderr",
     "output_type": "stream",
     "text": [
      "extracting all features from dataset: 100%|██████████████████████████████████████████████| 2/2 [00:04<00:00,  2.42s/it]\n",
      "extracting all features from dataset: 100%|██████████████████████████████████████████████| 1/1 [00:00<00:00,  1.39it/s]\n"
     ]
    },
    {
     "name": "stdout",
     "output_type": "stream",
     "text": [
      "----------------------------\n",
      "Train_z, Test_z\n",
      "PCA: 0.812\n",
      "SVD: 0.81\n",
      "NetG_fixD, Acc at sample 13 0.7526\n"
     ]
    },
    {
     "name": "stderr",
     "output_type": "stream",
     "text": [
      "extracting all features from dataset: 100%|██████████████████████████████████████████████| 2/2 [00:04<00:00,  2.31s/it]\n",
      "extracting all features from dataset: 100%|██████████████████████████████████████████████| 1/1 [00:00<00:00,  1.28it/s]\n"
     ]
    },
    {
     "name": "stdout",
     "output_type": "stream",
     "text": [
      "----------------------------\n",
      "Train_z, Test_z\n",
      "PCA: 0.8114\n",
      "SVD: 0.8099000000000001\n",
      "NetG_fixD, Acc at sample 14 0.7487\n"
     ]
    },
    {
     "name": "stderr",
     "output_type": "stream",
     "text": [
      "extracting all features from dataset: 100%|██████████████████████████████████████████████| 2/2 [00:04<00:00,  2.40s/it]\n",
      "extracting all features from dataset: 100%|██████████████████████████████████████████████| 1/1 [00:00<00:00,  1.33it/s]\n"
     ]
    },
    {
     "name": "stdout",
     "output_type": "stream",
     "text": [
      "----------------------------\n",
      "Train_z, Test_z\n",
      "PCA: 0.8077\n",
      "SVD: 0.8019000000000001\n",
      "NetG_fixD, Acc at sample 15 0.7389\n"
     ]
    },
    {
     "name": "stderr",
     "output_type": "stream",
     "text": [
      "extracting all features from dataset: 100%|██████████████████████████████████████████████| 2/2 [00:04<00:00,  2.42s/it]\n",
      "extracting all features from dataset: 100%|██████████████████████████████████████████████| 1/1 [00:00<00:00,  1.38it/s]\n"
     ]
    },
    {
     "name": "stdout",
     "output_type": "stream",
     "text": [
      "----------------------------\n",
      "Train_z, Test_z\n",
      "PCA: 0.8137\n",
      "SVD: 0.8064\n",
      "NetG_fixD, Acc at sample 16 0.7623\n"
     ]
    },
    {
     "name": "stderr",
     "output_type": "stream",
     "text": [
      "extracting all features from dataset: 100%|██████████████████████████████████████████████| 2/2 [00:04<00:00,  2.38s/it]\n",
      "extracting all features from dataset: 100%|██████████████████████████████████████████████| 1/1 [00:00<00:00,  1.37it/s]\n"
     ]
    },
    {
     "name": "stdout",
     "output_type": "stream",
     "text": [
      "----------------------------\n",
      "Train_z, Test_z\n",
      "PCA: 0.8116\n",
      "SVD: 0.8078\n",
      "NetG_fixD, Acc at sample 17 0.7527\n"
     ]
    },
    {
     "name": "stderr",
     "output_type": "stream",
     "text": [
      "extracting all features from dataset: 100%|██████████████████████████████████████████████| 2/2 [00:04<00:00,  2.39s/it]\n",
      "extracting all features from dataset: 100%|██████████████████████████████████████████████| 1/1 [00:00<00:00,  1.39it/s]\n"
     ]
    },
    {
     "name": "stdout",
     "output_type": "stream",
     "text": [
      "----------------------------\n",
      "Train_z, Test_z\n",
      "PCA: 0.8102\n",
      "SVD: 0.8101\n",
      "NetG_fixD, Acc at sample 18 0.7517\n"
     ]
    },
    {
     "name": "stderr",
     "output_type": "stream",
     "text": [
      "extracting all features from dataset: 100%|██████████████████████████████████████████████| 2/2 [00:04<00:00,  2.28s/it]\n",
      "extracting all features from dataset: 100%|██████████████████████████████████████████████| 1/1 [00:00<00:00,  1.33it/s]\n"
     ]
    },
    {
     "name": "stdout",
     "output_type": "stream",
     "text": [
      "----------------------------\n",
      "Train_z, Test_z\n",
      "PCA: 0.8169\n",
      "SVD: 0.8121\n",
      "NetG_fixD, Acc at sample 19 0.7496\n"
     ]
    },
    {
     "name": "stderr",
     "output_type": "stream",
     "text": [
      "extracting all features from dataset: 100%|██████████████████████████████████████████████| 2/2 [00:04<00:00,  2.36s/it]\n",
      "extracting all features from dataset: 100%|██████████████████████████████████████████████| 1/1 [00:00<00:00,  1.41it/s]\n"
     ]
    },
    {
     "name": "stdout",
     "output_type": "stream",
     "text": [
      "----------------------------\n",
      "Train_z, Test_z\n",
      "PCA: 0.8134\n",
      "SVD: 0.81\n",
      "NetG_fixD, Acc at sample 20 0.7542\n",
      "0.7623 0.7354 0.74914 4.7861399999999914e-05\n"
     ]
    }
   ],
   "source": [
    "# sample 20 times of NetG at final radius, NetD is fixed\n",
    "from sklearn.neighbors import KNeighborsClassifier \n",
    "Acc_results_G_sample4 = []\n",
    "\n",
    "for _ in range(sample_num):\n",
    "    #acc at first\n",
    "    net_noise = get_noise(DATASET, device, LABEL)\n",
    "    fed_state_dict = get_netG(netD,netV,net_noise,r_list[4])\n",
    "    netG.load_state_dict(fed_state_dict)\n",
    "    \n",
    "    train_X, train_Z, train_X_bar, train_Z_bar, train_labels = extract_features2(trainloader, netG, netD)\n",
    "\n",
    "    test_X, test_Z, test_X_bar, test_Z_bar, test_labels = extract_features2(testloader, netG, netD)\n",
    "\n",
    "    print(\"----------------------------\")\n",
    "    print(\"Train_z, Test_z\")\n",
    "    nearsub(n_comp, train_Z, train_labels, test_Z, test_labels)\n",
    "\n",
    "    knn= KNeighborsClassifier(n_neighbors=10) \n",
    "\n",
    "    knn.fit(train_Z,train_labels) \n",
    "    knn.score(test_Z_bar,test_labels) \n",
    "\n",
    "    y_predict = knn.predict(test_Z_bar) \n",
    "\n",
    "    count =0\n",
    "    for k in range(10000):\n",
    "        if y_predict[k] == test_labels[k]:\n",
    "            count +=1\n",
    "    print('NetG_fixD, Acc at sample',_+1,count/10000)\n",
    "    Acc_results_G_sample4.append(count/10000)\n",
    "    \n",
    "print(max(Acc_results_G_sample4),min(Acc_results_G_sample4),np.mean(Acc_results_G_sample4),np.var(Acc_results_G_sample4))\n",
    "acc_record[0][4] = np.mean(Acc_results_G_sample4)\n",
    "acc_record[1][4] = max(Acc_results_G_sample4)\n",
    "acc_record[2][4] = min(Acc_results_G_sample4)\n",
    "acc_record[3][4] = np.var(Acc_results_G_sample4)"
   ]
  },
  {
   "cell_type": "code",
   "execution_count": 19,
   "id": "ddff5f14",
   "metadata": {},
   "outputs": [
    {
     "name": "stderr",
     "output_type": "stream",
     "text": [
      "extracting all features from dataset: 100%|██████████████████████████████████████████████| 2/2 [00:04<00:00,  2.41s/it]\n",
      "extracting all features from dataset: 100%|██████████████████████████████████████████████| 1/1 [00:00<00:00,  1.39it/s]\n"
     ]
    },
    {
     "name": "stdout",
     "output_type": "stream",
     "text": [
      "----------------------------\n",
      "Train_z, Test_z\n",
      "PCA: 0.8036\n",
      "SVD: 0.8004\n",
      "NetG_fixD, Acc at sample 1 0.6115\n"
     ]
    },
    {
     "name": "stderr",
     "output_type": "stream",
     "text": [
      "extracting all features from dataset: 100%|██████████████████████████████████████████████| 2/2 [00:04<00:00,  2.29s/it]\n",
      "extracting all features from dataset: 100%|██████████████████████████████████████████████| 1/1 [00:00<00:00,  1.40it/s]\n"
     ]
    },
    {
     "name": "stdout",
     "output_type": "stream",
     "text": [
      "----------------------------\n",
      "Train_z, Test_z\n",
      "PCA: 0.8130999999999999\n",
      "SVD: 0.8084\n",
      "NetG_fixD, Acc at sample 2 0.6514\n"
     ]
    },
    {
     "name": "stderr",
     "output_type": "stream",
     "text": [
      "extracting all features from dataset: 100%|██████████████████████████████████████████████| 2/2 [00:04<00:00,  2.29s/it]\n",
      "extracting all features from dataset: 100%|██████████████████████████████████████████████| 1/1 [00:00<00:00,  1.38it/s]\n"
     ]
    },
    {
     "name": "stdout",
     "output_type": "stream",
     "text": [
      "----------------------------\n",
      "Train_z, Test_z\n",
      "PCA: 0.8141\n",
      "SVD: 0.8103\n",
      "NetG_fixD, Acc at sample 3 0.6445\n"
     ]
    },
    {
     "name": "stderr",
     "output_type": "stream",
     "text": [
      "extracting all features from dataset: 100%|██████████████████████████████████████████████| 2/2 [00:04<00:00,  2.37s/it]\n",
      "extracting all features from dataset: 100%|██████████████████████████████████████████████| 1/1 [00:00<00:00,  1.39it/s]\n"
     ]
    },
    {
     "name": "stdout",
     "output_type": "stream",
     "text": [
      "----------------------------\n",
      "Train_z, Test_z\n",
      "PCA: 0.8108\n",
      "SVD: 0.8096\n",
      "NetG_fixD, Acc at sample 4 0.6383\n"
     ]
    },
    {
     "name": "stderr",
     "output_type": "stream",
     "text": [
      "extracting all features from dataset: 100%|██████████████████████████████████████████████| 2/2 [00:04<00:00,  2.35s/it]\n",
      "extracting all features from dataset: 100%|██████████████████████████████████████████████| 1/1 [00:00<00:00,  1.39it/s]\n"
     ]
    },
    {
     "name": "stdout",
     "output_type": "stream",
     "text": [
      "----------------------------\n",
      "Train_z, Test_z\n",
      "PCA: 0.8101\n",
      "SVD: 0.8077\n",
      "NetG_fixD, Acc at sample 5 0.6292\n"
     ]
    },
    {
     "name": "stderr",
     "output_type": "stream",
     "text": [
      "extracting all features from dataset: 100%|██████████████████████████████████████████████| 2/2 [00:04<00:00,  2.36s/it]\n",
      "extracting all features from dataset: 100%|██████████████████████████████████████████████| 1/1 [00:00<00:00,  1.30it/s]\n"
     ]
    },
    {
     "name": "stdout",
     "output_type": "stream",
     "text": [
      "----------------------------\n",
      "Train_z, Test_z\n",
      "PCA: 0.8134\n",
      "SVD: 0.8129\n",
      "NetG_fixD, Acc at sample 6 0.6349\n"
     ]
    },
    {
     "name": "stderr",
     "output_type": "stream",
     "text": [
      "extracting all features from dataset: 100%|██████████████████████████████████████████████| 2/2 [00:04<00:00,  2.37s/it]\n",
      "extracting all features from dataset: 100%|██████████████████████████████████████████████| 1/1 [00:00<00:00,  1.44it/s]\n"
     ]
    },
    {
     "name": "stdout",
     "output_type": "stream",
     "text": [
      "----------------------------\n",
      "Train_z, Test_z\n",
      "PCA: 0.8089\n",
      "SVD: 0.8069\n",
      "NetG_fixD, Acc at sample 7 0.6693\n"
     ]
    },
    {
     "name": "stderr",
     "output_type": "stream",
     "text": [
      "extracting all features from dataset: 100%|██████████████████████████████████████████████| 2/2 [00:04<00:00,  2.35s/it]\n",
      "extracting all features from dataset: 100%|██████████████████████████████████████████████| 1/1 [00:00<00:00,  1.37it/s]\n"
     ]
    },
    {
     "name": "stdout",
     "output_type": "stream",
     "text": [
      "----------------------------\n",
      "Train_z, Test_z\n",
      "PCA: 0.8034\n",
      "SVD: 0.8068\n",
      "NetG_fixD, Acc at sample 8 0.6583\n"
     ]
    },
    {
     "name": "stderr",
     "output_type": "stream",
     "text": [
      "extracting all features from dataset: 100%|██████████████████████████████████████████████| 2/2 [00:04<00:00,  2.38s/it]\n",
      "extracting all features from dataset: 100%|██████████████████████████████████████████████| 1/1 [00:00<00:00,  1.37it/s]\n"
     ]
    },
    {
     "name": "stdout",
     "output_type": "stream",
     "text": [
      "----------------------------\n",
      "Train_z, Test_z\n",
      "PCA: 0.8154\n",
      "SVD: 0.8113\n",
      "NetG_fixD, Acc at sample 9 0.6427\n"
     ]
    },
    {
     "name": "stderr",
     "output_type": "stream",
     "text": [
      "extracting all features from dataset: 100%|██████████████████████████████████████████████| 2/2 [00:04<00:00,  2.40s/it]\n",
      "extracting all features from dataset: 100%|██████████████████████████████████████████████| 1/1 [00:00<00:00,  1.28it/s]\n"
     ]
    },
    {
     "name": "stdout",
     "output_type": "stream",
     "text": [
      "----------------------------\n",
      "Train_z, Test_z\n",
      "PCA: 0.8119000000000001\n",
      "SVD: 0.8121\n",
      "NetG_fixD, Acc at sample 10 0.6452\n"
     ]
    },
    {
     "name": "stderr",
     "output_type": "stream",
     "text": [
      "extracting all features from dataset: 100%|██████████████████████████████████████████████| 2/2 [00:04<00:00,  2.35s/it]\n",
      "extracting all features from dataset: 100%|██████████████████████████████████████████████| 1/1 [00:00<00:00,  1.40it/s]\n"
     ]
    },
    {
     "name": "stdout",
     "output_type": "stream",
     "text": [
      "----------------------------\n",
      "Train_z, Test_z\n",
      "PCA: 0.8153\n",
      "SVD: 0.8154\n",
      "NetG_fixD, Acc at sample 11 0.6266\n"
     ]
    },
    {
     "name": "stderr",
     "output_type": "stream",
     "text": [
      "extracting all features from dataset: 100%|██████████████████████████████████████████████| 2/2 [00:04<00:00,  2.44s/it]\n",
      "extracting all features from dataset: 100%|██████████████████████████████████████████████| 1/1 [00:00<00:00,  1.34it/s]\n"
     ]
    },
    {
     "name": "stdout",
     "output_type": "stream",
     "text": [
      "----------------------------\n",
      "Train_z, Test_z\n",
      "PCA: 0.8093\n",
      "SVD: 0.8027\n",
      "NetG_fixD, Acc at sample 12 0.6797\n"
     ]
    },
    {
     "name": "stderr",
     "output_type": "stream",
     "text": [
      "extracting all features from dataset: 100%|██████████████████████████████████████████████| 2/2 [00:04<00:00,  2.40s/it]\n",
      "extracting all features from dataset: 100%|██████████████████████████████████████████████| 1/1 [00:00<00:00,  1.26it/s]\n"
     ]
    },
    {
     "name": "stdout",
     "output_type": "stream",
     "text": [
      "----------------------------\n",
      "Train_z, Test_z\n",
      "PCA: 0.8099000000000001\n",
      "SVD: 0.8075\n",
      "NetG_fixD, Acc at sample 13 0.6728\n"
     ]
    },
    {
     "name": "stderr",
     "output_type": "stream",
     "text": [
      "extracting all features from dataset: 100%|██████████████████████████████████████████████| 2/2 [00:04<00:00,  2.37s/it]\n",
      "extracting all features from dataset: 100%|██████████████████████████████████████████████| 1/1 [00:00<00:00,  1.43it/s]\n"
     ]
    },
    {
     "name": "stdout",
     "output_type": "stream",
     "text": [
      "----------------------------\n",
      "Train_z, Test_z\n",
      "PCA: 0.8093\n",
      "SVD: 0.8099000000000001\n",
      "NetG_fixD, Acc at sample 14 0.6361\n"
     ]
    },
    {
     "name": "stderr",
     "output_type": "stream",
     "text": [
      "extracting all features from dataset: 100%|██████████████████████████████████████████████| 2/2 [00:04<00:00,  2.37s/it]\n",
      "extracting all features from dataset: 100%|██████████████████████████████████████████████| 1/1 [00:00<00:00,  1.36it/s]\n"
     ]
    },
    {
     "name": "stdout",
     "output_type": "stream",
     "text": [
      "----------------------------\n",
      "Train_z, Test_z\n",
      "PCA: 0.7998000000000001\n",
      "SVD: 0.8001\n",
      "NetG_fixD, Acc at sample 15 0.6368\n"
     ]
    },
    {
     "name": "stderr",
     "output_type": "stream",
     "text": [
      "extracting all features from dataset: 100%|██████████████████████████████████████████████| 2/2 [00:04<00:00,  2.40s/it]\n",
      "extracting all features from dataset: 100%|██████████████████████████████████████████████| 1/1 [00:00<00:00,  1.27it/s]\n"
     ]
    },
    {
     "name": "stdout",
     "output_type": "stream",
     "text": [
      "----------------------------\n",
      "Train_z, Test_z\n",
      "PCA: 0.8057\n",
      "SVD: 0.7988\n",
      "NetG_fixD, Acc at sample 16 0.6643\n"
     ]
    },
    {
     "name": "stderr",
     "output_type": "stream",
     "text": [
      "extracting all features from dataset: 100%|██████████████████████████████████████████████| 2/2 [00:04<00:00,  2.33s/it]\n",
      "extracting all features from dataset: 100%|██████████████████████████████████████████████| 1/1 [00:00<00:00,  1.44it/s]\n"
     ]
    },
    {
     "name": "stdout",
     "output_type": "stream",
     "text": [
      "----------------------------\n",
      "Train_z, Test_z\n",
      "PCA: 0.8165\n",
      "SVD: 0.8139000000000001\n",
      "NetG_fixD, Acc at sample 17 0.6426\n"
     ]
    },
    {
     "name": "stderr",
     "output_type": "stream",
     "text": [
      "extracting all features from dataset: 100%|██████████████████████████████████████████████| 2/2 [00:04<00:00,  2.38s/it]\n",
      "extracting all features from dataset: 100%|██████████████████████████████████████████████| 1/1 [00:00<00:00,  1.40it/s]\n"
     ]
    },
    {
     "name": "stdout",
     "output_type": "stream",
     "text": [
      "----------------------------\n",
      "Train_z, Test_z\n",
      "PCA: 0.8051\n",
      "SVD: 0.8025\n",
      "NetG_fixD, Acc at sample 18 0.6739\n"
     ]
    },
    {
     "name": "stderr",
     "output_type": "stream",
     "text": [
      "extracting all features from dataset: 100%|██████████████████████████████████████████████| 2/2 [00:04<00:00,  2.35s/it]\n",
      "extracting all features from dataset: 100%|██████████████████████████████████████████████| 1/1 [00:00<00:00,  1.41it/s]\n"
     ]
    },
    {
     "name": "stdout",
     "output_type": "stream",
     "text": [
      "----------------------------\n",
      "Train_z, Test_z\n",
      "PCA: 0.8124\n",
      "SVD: 0.8089\n",
      "NetG_fixD, Acc at sample 19 0.6518\n"
     ]
    },
    {
     "name": "stderr",
     "output_type": "stream",
     "text": [
      "extracting all features from dataset: 100%|██████████████████████████████████████████████| 2/2 [00:04<00:00,  2.39s/it]\n",
      "extracting all features from dataset: 100%|██████████████████████████████████████████████| 1/1 [00:00<00:00,  1.43it/s]\n"
     ]
    },
    {
     "name": "stdout",
     "output_type": "stream",
     "text": [
      "----------------------------\n",
      "Train_z, Test_z\n",
      "PCA: 0.8058\n",
      "SVD: 0.8039000000000001\n",
      "NetG_fixD, Acc at sample 20 0.6291\n",
      "0.6797 0.6115 0.6469499999999999 0.0003115554999999997\n"
     ]
    }
   ],
   "source": [
    "# sample 20 times of NetG at final radius, NetD is fixed\n",
    "from sklearn.neighbors import KNeighborsClassifier \n",
    "Acc_results_G_sample5 = []\n",
    "\n",
    "for _ in range(sample_num):\n",
    "    #acc at first\n",
    "    net_noise = get_noise(DATASET, device, LABEL)\n",
    "    fed_state_dict = get_netG(netD,netV,net_noise,r_list[5])\n",
    "    netG.load_state_dict(fed_state_dict)\n",
    "    \n",
    "    train_X, train_Z, train_X_bar, train_Z_bar, train_labels = extract_features2(trainloader, netG, netD)\n",
    "\n",
    "    test_X, test_Z, test_X_bar, test_Z_bar, test_labels = extract_features2(testloader, netG, netD)\n",
    "\n",
    "    print(\"----------------------------\")\n",
    "    print(\"Train_z, Test_z\")\n",
    "    nearsub(n_comp, train_Z, train_labels, test_Z, test_labels)\n",
    "\n",
    "    knn= KNeighborsClassifier(n_neighbors=10) \n",
    "\n",
    "    knn.fit(train_Z,train_labels) \n",
    "    knn.score(test_Z_bar,test_labels) \n",
    "\n",
    "    y_predict = knn.predict(test_Z_bar) \n",
    "\n",
    "    count =0\n",
    "    for k in range(10000):\n",
    "        if y_predict[k] == test_labels[k]:\n",
    "            count +=1\n",
    "    print('NetG_fixD, Acc at sample',_+1,count/10000)\n",
    "    Acc_results_G_sample5.append(count/10000)\n",
    "    \n",
    "print(max(Acc_results_G_sample5),min(Acc_results_G_sample5),np.mean(Acc_results_G_sample5),np.var(Acc_results_G_sample5))\n",
    "acc_record[0][5] = np.mean(Acc_results_G_sample5)\n",
    "acc_record[1][5] = max(Acc_results_G_sample5)\n",
    "acc_record[2][5] = min(Acc_results_G_sample5)\n",
    "acc_record[3][5] = np.var(Acc_results_G_sample5)"
   ]
  },
  {
   "cell_type": "code",
   "execution_count": 20,
   "id": "d93c0ca8",
   "metadata": {},
   "outputs": [
    {
     "name": "stderr",
     "output_type": "stream",
     "text": [
      "extracting all features from dataset: 100%|██████████████████████████████████████████████| 2/2 [00:04<00:00,  2.44s/it]\n",
      "extracting all features from dataset: 100%|██████████████████████████████████████████████| 1/1 [00:00<00:00,  1.40it/s]\n"
     ]
    },
    {
     "name": "stdout",
     "output_type": "stream",
     "text": [
      "----------------------------\n",
      "Train_z, Test_z\n",
      "PCA: 0.8011\n",
      "SVD: 0.7972\n",
      "NetG_fixD, Acc at sample 1 0.3901\n"
     ]
    },
    {
     "name": "stderr",
     "output_type": "stream",
     "text": [
      "extracting all features from dataset: 100%|██████████████████████████████████████████████| 2/2 [00:04<00:00,  2.27s/it]\n",
      "extracting all features from dataset: 100%|██████████████████████████████████████████████| 1/1 [00:00<00:00,  1.27it/s]\n"
     ]
    },
    {
     "name": "stdout",
     "output_type": "stream",
     "text": [
      "----------------------------\n",
      "Train_z, Test_z\n",
      "PCA: 0.8038\n",
      "SVD: 0.8032\n",
      "NetG_fixD, Acc at sample 2 0.4299\n"
     ]
    },
    {
     "name": "stderr",
     "output_type": "stream",
     "text": [
      "extracting all features from dataset: 100%|██████████████████████████████████████████████| 2/2 [00:04<00:00,  2.34s/it]\n",
      "extracting all features from dataset: 100%|██████████████████████████████████████████████| 1/1 [00:00<00:00,  1.42it/s]\n"
     ]
    },
    {
     "name": "stdout",
     "output_type": "stream",
     "text": [
      "----------------------------\n",
      "Train_z, Test_z\n",
      "PCA: 0.8065\n",
      "SVD: 0.8055\n",
      "NetG_fixD, Acc at sample 3 0.4064\n"
     ]
    },
    {
     "name": "stderr",
     "output_type": "stream",
     "text": [
      "extracting all features from dataset: 100%|██████████████████████████████████████████████| 2/2 [00:04<00:00,  2.39s/it]\n",
      "extracting all features from dataset: 100%|██████████████████████████████████████████████| 1/1 [00:00<00:00,  1.35it/s]\n"
     ]
    },
    {
     "name": "stdout",
     "output_type": "stream",
     "text": [
      "----------------------------\n",
      "Train_z, Test_z\n",
      "PCA: 0.8150999999999999\n",
      "SVD: 0.8091\n",
      "NetG_fixD, Acc at sample 4 0.4587\n"
     ]
    },
    {
     "name": "stderr",
     "output_type": "stream",
     "text": [
      "extracting all features from dataset: 100%|██████████████████████████████████████████████| 2/2 [00:04<00:00,  2.43s/it]\n",
      "extracting all features from dataset: 100%|██████████████████████████████████████████████| 1/1 [00:00<00:00,  1.29it/s]\n"
     ]
    },
    {
     "name": "stdout",
     "output_type": "stream",
     "text": [
      "----------------------------\n",
      "Train_z, Test_z\n",
      "PCA: 0.8007\n",
      "SVD: 0.796\n",
      "NetG_fixD, Acc at sample 5 0.386\n"
     ]
    },
    {
     "name": "stderr",
     "output_type": "stream",
     "text": [
      "extracting all features from dataset: 100%|██████████████████████████████████████████████| 2/2 [00:04<00:00,  2.43s/it]\n",
      "extracting all features from dataset: 100%|██████████████████████████████████████████████| 1/1 [00:00<00:00,  1.34it/s]\n"
     ]
    },
    {
     "name": "stdout",
     "output_type": "stream",
     "text": [
      "----------------------------\n",
      "Train_z, Test_z\n",
      "PCA: 0.8063\n",
      "SVD: 0.8024\n",
      "NetG_fixD, Acc at sample 6 0.4157\n"
     ]
    },
    {
     "name": "stderr",
     "output_type": "stream",
     "text": [
      "extracting all features from dataset: 100%|██████████████████████████████████████████████| 2/2 [00:04<00:00,  2.41s/it]\n",
      "extracting all features from dataset: 100%|██████████████████████████████████████████████| 1/1 [00:00<00:00,  1.41it/s]\n"
     ]
    },
    {
     "name": "stdout",
     "output_type": "stream",
     "text": [
      "----------------------------\n",
      "Train_z, Test_z\n",
      "PCA: 0.8036\n",
      "SVD: 0.8034\n",
      "NetG_fixD, Acc at sample 7 0.4127\n"
     ]
    },
    {
     "name": "stderr",
     "output_type": "stream",
     "text": [
      "extracting all features from dataset: 100%|██████████████████████████████████████████████| 2/2 [00:04<00:00,  2.39s/it]\n",
      "extracting all features from dataset: 100%|██████████████████████████████████████████████| 1/1 [00:00<00:00,  1.40it/s]\n"
     ]
    },
    {
     "name": "stdout",
     "output_type": "stream",
     "text": [
      "----------------------------\n",
      "Train_z, Test_z\n",
      "PCA: 0.8087\n",
      "SVD: 0.8094\n",
      "NetG_fixD, Acc at sample 8 0.4497\n"
     ]
    },
    {
     "name": "stderr",
     "output_type": "stream",
     "text": [
      "extracting all features from dataset: 100%|██████████████████████████████████████████████| 2/2 [00:04<00:00,  2.27s/it]\n",
      "extracting all features from dataset: 100%|██████████████████████████████████████████████| 1/1 [00:00<00:00,  1.45it/s]\n"
     ]
    },
    {
     "name": "stdout",
     "output_type": "stream",
     "text": [
      "----------------------------\n",
      "Train_z, Test_z\n",
      "PCA: 0.8083\n",
      "SVD: 0.8057\n",
      "NetG_fixD, Acc at sample 9 0.4383\n"
     ]
    },
    {
     "name": "stderr",
     "output_type": "stream",
     "text": [
      "extracting all features from dataset: 100%|██████████████████████████████████████████████| 2/2 [00:04<00:00,  2.36s/it]\n",
      "extracting all features from dataset: 100%|██████████████████████████████████████████████| 1/1 [00:00<00:00,  1.40it/s]\n"
     ]
    },
    {
     "name": "stdout",
     "output_type": "stream",
     "text": [
      "----------------------------\n",
      "Train_z, Test_z\n",
      "PCA: 0.8138\n",
      "SVD: 0.8086\n",
      "NetG_fixD, Acc at sample 10 0.3951\n"
     ]
    },
    {
     "name": "stderr",
     "output_type": "stream",
     "text": [
      "extracting all features from dataset: 100%|██████████████████████████████████████████████| 2/2 [00:04<00:00,  2.35s/it]\n",
      "extracting all features from dataset: 100%|██████████████████████████████████████████████| 1/1 [00:00<00:00,  1.29it/s]\n"
     ]
    },
    {
     "name": "stdout",
     "output_type": "stream",
     "text": [
      "----------------------------\n",
      "Train_z, Test_z\n",
      "PCA: 0.8122\n",
      "SVD: 0.8083\n",
      "NetG_fixD, Acc at sample 11 0.5173\n"
     ]
    },
    {
     "name": "stderr",
     "output_type": "stream",
     "text": [
      "extracting all features from dataset: 100%|██████████████████████████████████████████████| 2/2 [00:04<00:00,  2.38s/it]\n",
      "extracting all features from dataset: 100%|██████████████████████████████████████████████| 1/1 [00:00<00:00,  1.39it/s]\n"
     ]
    },
    {
     "name": "stdout",
     "output_type": "stream",
     "text": [
      "----------------------------\n",
      "Train_z, Test_z\n",
      "PCA: 0.8065\n",
      "SVD: 0.8041\n",
      "NetG_fixD, Acc at sample 12 0.47\n"
     ]
    },
    {
     "name": "stderr",
     "output_type": "stream",
     "text": [
      "extracting all features from dataset: 100%|██████████████████████████████████████████████| 2/2 [00:04<00:00,  2.33s/it]\n",
      "extracting all features from dataset: 100%|██████████████████████████████████████████████| 1/1 [00:00<00:00,  1.38it/s]\n"
     ]
    },
    {
     "name": "stdout",
     "output_type": "stream",
     "text": [
      "----------------------------\n",
      "Train_z, Test_z\n",
      "PCA: 0.8022\n",
      "SVD: 0.8022\n",
      "NetG_fixD, Acc at sample 13 0.4459\n"
     ]
    },
    {
     "name": "stderr",
     "output_type": "stream",
     "text": [
      "extracting all features from dataset: 100%|██████████████████████████████████████████████| 2/2 [00:04<00:00,  2.26s/it]\n",
      "extracting all features from dataset: 100%|██████████████████████████████████████████████| 1/1 [00:00<00:00,  1.32it/s]\n"
     ]
    },
    {
     "name": "stdout",
     "output_type": "stream",
     "text": [
      "----------------------------\n",
      "Train_z, Test_z\n",
      "PCA: 0.8017\n",
      "SVD: 0.7997\n",
      "NetG_fixD, Acc at sample 14 0.3964\n"
     ]
    },
    {
     "name": "stderr",
     "output_type": "stream",
     "text": [
      "extracting all features from dataset: 100%|██████████████████████████████████████████████| 2/2 [00:04<00:00,  2.29s/it]\n",
      "extracting all features from dataset: 100%|██████████████████████████████████████████████| 1/1 [00:00<00:00,  1.41it/s]\n"
     ]
    },
    {
     "name": "stdout",
     "output_type": "stream",
     "text": [
      "----------------------------\n",
      "Train_z, Test_z\n",
      "PCA: 0.8066\n",
      "SVD: 0.8032\n",
      "NetG_fixD, Acc at sample 15 0.4173\n"
     ]
    },
    {
     "name": "stderr",
     "output_type": "stream",
     "text": [
      "extracting all features from dataset: 100%|██████████████████████████████████████████████| 2/2 [00:04<00:00,  2.35s/it]\n",
      "extracting all features from dataset: 100%|██████████████████████████████████████████████| 1/1 [00:00<00:00,  1.44it/s]\n"
     ]
    },
    {
     "name": "stdout",
     "output_type": "stream",
     "text": [
      "----------------------------\n",
      "Train_z, Test_z\n",
      "PCA: 0.8123\n",
      "SVD: 0.8018000000000001\n",
      "NetG_fixD, Acc at sample 16 0.4128\n"
     ]
    },
    {
     "name": "stderr",
     "output_type": "stream",
     "text": [
      "extracting all features from dataset: 100%|██████████████████████████████████████████████| 2/2 [00:04<00:00,  2.34s/it]\n",
      "extracting all features from dataset: 100%|██████████████████████████████████████████████| 1/1 [00:00<00:00,  1.44it/s]\n"
     ]
    },
    {
     "name": "stdout",
     "output_type": "stream",
     "text": [
      "----------------------------\n",
      "Train_z, Test_z\n",
      "PCA: 0.8012\n",
      "SVD: 0.8003\n",
      "NetG_fixD, Acc at sample 17 0.4478\n"
     ]
    },
    {
     "name": "stderr",
     "output_type": "stream",
     "text": [
      "extracting all features from dataset: 100%|██████████████████████████████████████████████| 2/2 [00:04<00:00,  2.31s/it]\n",
      "extracting all features from dataset: 100%|██████████████████████████████████████████████| 1/1 [00:00<00:00,  1.38it/s]\n"
     ]
    },
    {
     "name": "stdout",
     "output_type": "stream",
     "text": [
      "----------------------------\n",
      "Train_z, Test_z\n",
      "PCA: 0.7995\n",
      "SVD: 0.7974\n",
      "NetG_fixD, Acc at sample 18 0.3925\n"
     ]
    },
    {
     "name": "stderr",
     "output_type": "stream",
     "text": [
      "extracting all features from dataset: 100%|██████████████████████████████████████████████| 2/2 [00:04<00:00,  2.34s/it]\n",
      "extracting all features from dataset: 100%|██████████████████████████████████████████████| 1/1 [00:00<00:00,  1.32it/s]\n"
     ]
    },
    {
     "name": "stdout",
     "output_type": "stream",
     "text": [
      "----------------------------\n",
      "Train_z, Test_z\n",
      "PCA: 0.812\n",
      "SVD: 0.8081\n",
      "NetG_fixD, Acc at sample 19 0.4447\n"
     ]
    },
    {
     "name": "stderr",
     "output_type": "stream",
     "text": [
      "extracting all features from dataset: 100%|██████████████████████████████████████████████| 2/2 [00:04<00:00,  2.32s/it]\n",
      "extracting all features from dataset: 100%|██████████████████████████████████████████████| 1/1 [00:00<00:00,  1.42it/s]\n"
     ]
    },
    {
     "name": "stdout",
     "output_type": "stream",
     "text": [
      "----------------------------\n",
      "Train_z, Test_z\n",
      "PCA: 0.8054\n",
      "SVD: 0.8048\n",
      "NetG_fixD, Acc at sample 20 0.453\n",
      "0.5173 0.386 0.429015 0.0010298202749999996\n"
     ]
    }
   ],
   "source": [
    "# sample 20 times of NetG at final radius, NetD is fixed\n",
    "from sklearn.neighbors import KNeighborsClassifier \n",
    "Acc_results_G_sample6 = []\n",
    "\n",
    "for _ in range(sample_num):\n",
    "    #acc at first\n",
    "    net_noise = get_noise(DATASET, device, LABEL)\n",
    "    fed_state_dict = get_netG(netD,netV,net_noise,r_list[6])\n",
    "    netG.load_state_dict(fed_state_dict)\n",
    "    \n",
    "    train_X, train_Z, train_X_bar, train_Z_bar, train_labels = extract_features2(trainloader, netG, netD)\n",
    "\n",
    "    test_X, test_Z, test_X_bar, test_Z_bar, test_labels = extract_features2(testloader, netG, netD)\n",
    "\n",
    "    print(\"----------------------------\")\n",
    "    print(\"Train_z, Test_z\")\n",
    "    nearsub(n_comp, train_Z, train_labels, test_Z, test_labels)\n",
    "\n",
    "    knn= KNeighborsClassifier(n_neighbors=10) \n",
    "\n",
    "    knn.fit(train_Z,train_labels) \n",
    "    knn.score(test_Z_bar,test_labels) \n",
    "\n",
    "    y_predict = knn.predict(test_Z_bar) \n",
    "\n",
    "    count =0\n",
    "    for k in range(10000):\n",
    "        if y_predict[k] == test_labels[k]:\n",
    "            count +=1\n",
    "    print('NetG_fixD, Acc at sample',_+1,count/10000)\n",
    "    Acc_results_G_sample6.append(count/10000)\n",
    "    \n",
    "print(max(Acc_results_G_sample6),min(Acc_results_G_sample6),np.mean(Acc_results_G_sample6),np.var(Acc_results_G_sample6))\n",
    "acc_record[0][6] = np.mean(Acc_results_G_sample6)\n",
    "acc_record[1][6] = max(Acc_results_G_sample6)\n",
    "acc_record[2][6] = min(Acc_results_G_sample6)\n",
    "acc_record[3][6] = np.var(Acc_results_G_sample6)"
   ]
  },
  {
   "cell_type": "code",
   "execution_count": 21,
   "id": "5fe00b9a",
   "metadata": {},
   "outputs": [
    {
     "name": "stderr",
     "output_type": "stream",
     "text": [
      "extracting all features from dataset: 100%|██████████████████████████████████████████████| 2/2 [00:04<00:00,  2.35s/it]\n",
      "extracting all features from dataset: 100%|██████████████████████████████████████████████| 1/1 [00:00<00:00,  1.33it/s]\n"
     ]
    },
    {
     "name": "stdout",
     "output_type": "stream",
     "text": [
      "----------------------------\n",
      "Train_z, Test_z\n",
      "PCA: 0.8101\n",
      "SVD: 0.8039000000000001\n",
      "NetG_fixD, Acc at sample 1 0.2367\n"
     ]
    },
    {
     "name": "stderr",
     "output_type": "stream",
     "text": [
      "extracting all features from dataset: 100%|██████████████████████████████████████████████| 2/2 [00:04<00:00,  2.33s/it]\n",
      "extracting all features from dataset: 100%|██████████████████████████████████████████████| 1/1 [00:00<00:00,  1.28it/s]\n"
     ]
    },
    {
     "name": "stdout",
     "output_type": "stream",
     "text": [
      "----------------------------\n",
      "Train_z, Test_z\n",
      "PCA: 0.8006\n",
      "SVD: 0.8011\n",
      "NetG_fixD, Acc at sample 2 0.2264\n"
     ]
    },
    {
     "name": "stderr",
     "output_type": "stream",
     "text": [
      "extracting all features from dataset: 100%|██████████████████████████████████████████████| 2/2 [00:04<00:00,  2.39s/it]\n",
      "extracting all features from dataset: 100%|██████████████████████████████████████████████| 1/1 [00:00<00:00,  1.41it/s]\n"
     ]
    },
    {
     "name": "stdout",
     "output_type": "stream",
     "text": [
      "----------------------------\n",
      "Train_z, Test_z\n",
      "PCA: 0.8078\n",
      "SVD: 0.8044\n",
      "NetG_fixD, Acc at sample 3 0.2602\n"
     ]
    },
    {
     "name": "stderr",
     "output_type": "stream",
     "text": [
      "extracting all features from dataset: 100%|██████████████████████████████████████████████| 2/2 [00:04<00:00,  2.38s/it]\n",
      "extracting all features from dataset: 100%|██████████████████████████████████████████████| 1/1 [00:00<00:00,  1.39it/s]\n"
     ]
    },
    {
     "name": "stdout",
     "output_type": "stream",
     "text": [
      "----------------------------\n",
      "Train_z, Test_z\n",
      "PCA: 0.8029\n",
      "SVD: 0.8036\n",
      "NetG_fixD, Acc at sample 4 0.2625\n"
     ]
    },
    {
     "name": "stderr",
     "output_type": "stream",
     "text": [
      "extracting all features from dataset: 100%|██████████████████████████████████████████████| 2/2 [00:04<00:00,  2.38s/it]\n",
      "extracting all features from dataset: 100%|██████████████████████████████████████████████| 1/1 [00:00<00:00,  1.35it/s]\n"
     ]
    },
    {
     "name": "stdout",
     "output_type": "stream",
     "text": [
      "----------------------------\n",
      "Train_z, Test_z\n",
      "PCA: 0.8061\n",
      "SVD: 0.8071\n",
      "NetG_fixD, Acc at sample 5 0.2163\n"
     ]
    },
    {
     "name": "stderr",
     "output_type": "stream",
     "text": [
      "extracting all features from dataset: 100%|██████████████████████████████████████████████| 2/2 [00:04<00:00,  2.44s/it]\n",
      "extracting all features from dataset: 100%|██████████████████████████████████████████████| 1/1 [00:00<00:00,  1.35it/s]\n"
     ]
    },
    {
     "name": "stdout",
     "output_type": "stream",
     "text": [
      "----------------------------\n",
      "Train_z, Test_z\n",
      "PCA: 0.8116\n",
      "SVD: 0.8061\n",
      "NetG_fixD, Acc at sample 6 0.2478\n"
     ]
    },
    {
     "name": "stderr",
     "output_type": "stream",
     "text": [
      "extracting all features from dataset: 100%|██████████████████████████████████████████████| 2/2 [00:04<00:00,  2.26s/it]\n",
      "extracting all features from dataset: 100%|██████████████████████████████████████████████| 1/1 [00:00<00:00,  1.29it/s]\n"
     ]
    },
    {
     "name": "stdout",
     "output_type": "stream",
     "text": [
      "----------------------------\n",
      "Train_z, Test_z\n",
      "PCA: 0.8055\n",
      "SVD: 0.8055\n",
      "NetG_fixD, Acc at sample 7 0.2149\n"
     ]
    },
    {
     "name": "stderr",
     "output_type": "stream",
     "text": [
      "extracting all features from dataset: 100%|██████████████████████████████████████████████| 2/2 [00:04<00:00,  2.34s/it]\n",
      "extracting all features from dataset: 100%|██████████████████████████████████████████████| 1/1 [00:00<00:00,  1.40it/s]\n"
     ]
    },
    {
     "name": "stdout",
     "output_type": "stream",
     "text": [
      "----------------------------\n",
      "Train_z, Test_z\n",
      "PCA: 0.8103\n",
      "SVD: 0.8104\n",
      "NetG_fixD, Acc at sample 8 0.2215\n"
     ]
    },
    {
     "name": "stderr",
     "output_type": "stream",
     "text": [
      "extracting all features from dataset: 100%|██████████████████████████████████████████████| 2/2 [00:04<00:00,  2.29s/it]\n",
      "extracting all features from dataset: 100%|██████████████████████████████████████████████| 1/1 [00:00<00:00,  1.40it/s]\n"
     ]
    },
    {
     "name": "stdout",
     "output_type": "stream",
     "text": [
      "----------------------------\n",
      "Train_z, Test_z\n",
      "PCA: 0.8076\n",
      "SVD: 0.8054\n",
      "NetG_fixD, Acc at sample 9 0.2362\n"
     ]
    },
    {
     "name": "stderr",
     "output_type": "stream",
     "text": [
      "extracting all features from dataset: 100%|██████████████████████████████████████████████| 2/2 [00:04<00:00,  2.27s/it]\n",
      "extracting all features from dataset: 100%|██████████████████████████████████████████████| 1/1 [00:00<00:00,  1.44it/s]\n"
     ]
    },
    {
     "name": "stdout",
     "output_type": "stream",
     "text": [
      "----------------------------\n",
      "Train_z, Test_z\n",
      "PCA: 0.8036\n",
      "SVD: 0.8009999999999999\n",
      "NetG_fixD, Acc at sample 10 0.2115\n"
     ]
    },
    {
     "name": "stderr",
     "output_type": "stream",
     "text": [
      "extracting all features from dataset: 100%|██████████████████████████████████████████████| 2/2 [00:04<00:00,  2.33s/it]\n",
      "extracting all features from dataset: 100%|██████████████████████████████████████████████| 1/1 [00:00<00:00,  1.39it/s]\n"
     ]
    },
    {
     "name": "stdout",
     "output_type": "stream",
     "text": [
      "----------------------------\n",
      "Train_z, Test_z\n",
      "PCA: 0.8106\n",
      "SVD: 0.8059000000000001\n",
      "NetG_fixD, Acc at sample 11 0.2552\n"
     ]
    },
    {
     "name": "stderr",
     "output_type": "stream",
     "text": [
      "extracting all features from dataset: 100%|██████████████████████████████████████████████| 2/2 [00:04<00:00,  2.34s/it]\n",
      "extracting all features from dataset: 100%|██████████████████████████████████████████████| 1/1 [00:00<00:00,  1.33it/s]\n"
     ]
    },
    {
     "name": "stdout",
     "output_type": "stream",
     "text": [
      "----------------------------\n",
      "Train_z, Test_z\n",
      "PCA: 0.8004\n",
      "SVD: 0.7994\n",
      "NetG_fixD, Acc at sample 12 0.1848\n"
     ]
    },
    {
     "name": "stderr",
     "output_type": "stream",
     "text": [
      "extracting all features from dataset: 100%|██████████████████████████████████████████████| 2/2 [00:04<00:00,  2.35s/it]\n",
      "extracting all features from dataset: 100%|██████████████████████████████████████████████| 1/1 [00:00<00:00,  1.41it/s]\n"
     ]
    },
    {
     "name": "stdout",
     "output_type": "stream",
     "text": [
      "----------------------------\n",
      "Train_z, Test_z\n",
      "PCA: 0.8106\n",
      "SVD: 0.8085\n",
      "NetG_fixD, Acc at sample 13 0.2344\n"
     ]
    },
    {
     "name": "stderr",
     "output_type": "stream",
     "text": [
      "extracting all features from dataset: 100%|██████████████████████████████████████████████| 2/2 [00:04<00:00,  2.34s/it]\n",
      "extracting all features from dataset: 100%|██████████████████████████████████████████████| 1/1 [00:00<00:00,  1.44it/s]\n"
     ]
    },
    {
     "name": "stdout",
     "output_type": "stream",
     "text": [
      "----------------------------\n",
      "Train_z, Test_z\n",
      "PCA: 0.8071\n",
      "SVD: 0.8027\n",
      "NetG_fixD, Acc at sample 14 0.2279\n"
     ]
    },
    {
     "name": "stderr",
     "output_type": "stream",
     "text": [
      "extracting all features from dataset: 100%|██████████████████████████████████████████████| 2/2 [00:04<00:00,  2.36s/it]\n",
      "extracting all features from dataset: 100%|██████████████████████████████████████████████| 1/1 [00:00<00:00,  1.37it/s]\n"
     ]
    },
    {
     "name": "stdout",
     "output_type": "stream",
     "text": [
      "----------------------------\n",
      "Train_z, Test_z\n",
      "PCA: 0.8045\n",
      "SVD: 0.8009999999999999\n",
      "NetG_fixD, Acc at sample 15 0.1787\n"
     ]
    },
    {
     "name": "stderr",
     "output_type": "stream",
     "text": [
      "extracting all features from dataset: 100%|██████████████████████████████████████████████| 2/2 [00:04<00:00,  2.39s/it]\n",
      "extracting all features from dataset: 100%|██████████████████████████████████████████████| 1/1 [00:00<00:00,  1.39it/s]\n"
     ]
    },
    {
     "name": "stdout",
     "output_type": "stream",
     "text": [
      "----------------------------\n",
      "Train_z, Test_z\n",
      "PCA: 0.7993\n",
      "SVD: 0.8003\n",
      "NetG_fixD, Acc at sample 16 0.2624\n"
     ]
    },
    {
     "name": "stderr",
     "output_type": "stream",
     "text": [
      "extracting all features from dataset: 100%|██████████████████████████████████████████████| 2/2 [00:04<00:00,  2.42s/it]\n",
      "extracting all features from dataset: 100%|██████████████████████████████████████████████| 1/1 [00:00<00:00,  1.26it/s]\n"
     ]
    },
    {
     "name": "stdout",
     "output_type": "stream",
     "text": [
      "----------------------------\n",
      "Train_z, Test_z\n",
      "PCA: 0.8045\n",
      "SVD: 0.8029\n",
      "NetG_fixD, Acc at sample 17 0.2007\n"
     ]
    },
    {
     "name": "stderr",
     "output_type": "stream",
     "text": [
      "extracting all features from dataset: 100%|██████████████████████████████████████████████| 2/2 [00:04<00:00,  2.29s/it]\n",
      "extracting all features from dataset: 100%|██████████████████████████████████████████████| 1/1 [00:00<00:00,  1.41it/s]\n"
     ]
    },
    {
     "name": "stdout",
     "output_type": "stream",
     "text": [
      "----------------------------\n",
      "Train_z, Test_z\n",
      "PCA: 0.8059000000000001\n",
      "SVD: 0.8062\n",
      "NetG_fixD, Acc at sample 18 0.2319\n"
     ]
    },
    {
     "name": "stderr",
     "output_type": "stream",
     "text": [
      "extracting all features from dataset: 100%|██████████████████████████████████████████████| 2/2 [00:04<00:00,  2.40s/it]\n",
      "extracting all features from dataset: 100%|██████████████████████████████████████████████| 1/1 [00:00<00:00,  1.41it/s]\n"
     ]
    },
    {
     "name": "stdout",
     "output_type": "stream",
     "text": [
      "----------------------------\n",
      "Train_z, Test_z\n",
      "PCA: 0.7969999999999999\n",
      "SVD: 0.7973\n",
      "NetG_fixD, Acc at sample 19 0.2151\n"
     ]
    },
    {
     "name": "stderr",
     "output_type": "stream",
     "text": [
      "extracting all features from dataset: 100%|██████████████████████████████████████████████| 2/2 [00:04<00:00,  2.39s/it]\n",
      "extracting all features from dataset: 100%|██████████████████████████████████████████████| 1/1 [00:00<00:00,  1.37it/s]\n"
     ]
    },
    {
     "name": "stdout",
     "output_type": "stream",
     "text": [
      "----------------------------\n",
      "Train_z, Test_z\n",
      "PCA: 0.8098\n",
      "SVD: 0.808\n",
      "NetG_fixD, Acc at sample 20 0.2113\n",
      "0.2625 0.1787 0.22681999999999994 0.0005413236000000001\n"
     ]
    }
   ],
   "source": [
    "# sample 20 times of NetG at final radius, NetD is fixed\n",
    "from sklearn.neighbors import KNeighborsClassifier \n",
    "Acc_results_G_sample7 = []\n",
    "\n",
    "for _ in range(sample_num):\n",
    "    #acc at first\n",
    "    net_noise = get_noise(DATASET, device, LABEL)\n",
    "    fed_state_dict = get_netG(netD,netV,net_noise,r_list[7])\n",
    "    netG.load_state_dict(fed_state_dict)\n",
    "    \n",
    "    train_X, train_Z, train_X_bar, train_Z_bar, train_labels = extract_features2(trainloader, netG, netD)\n",
    "\n",
    "    test_X, test_Z, test_X_bar, test_Z_bar, test_labels = extract_features2(testloader, netG, netD)\n",
    "\n",
    "    print(\"----------------------------\")\n",
    "    print(\"Train_z, Test_z\")\n",
    "    nearsub(n_comp, train_Z, train_labels, test_Z, test_labels)\n",
    "\n",
    "    knn= KNeighborsClassifier(n_neighbors=10) \n",
    "\n",
    "    knn.fit(train_Z,train_labels) \n",
    "    knn.score(test_Z_bar,test_labels) \n",
    "\n",
    "    y_predict = knn.predict(test_Z_bar) \n",
    "\n",
    "    count =0\n",
    "    for k in range(10000):\n",
    "        if y_predict[k] == test_labels[k]:\n",
    "            count +=1\n",
    "    print('NetG_fixD, Acc at sample',_+1,count/10000)\n",
    "    Acc_results_G_sample7.append(count/10000)\n",
    "    \n",
    "print(max(Acc_results_G_sample7),min(Acc_results_G_sample7),np.mean(Acc_results_G_sample7),np.var(Acc_results_G_sample7))\n",
    "acc_record[0][7] = np.mean(Acc_results_G_sample7)\n",
    "acc_record[1][7] = max(Acc_results_G_sample7)\n",
    "acc_record[2][7] = min(Acc_results_G_sample7)\n",
    "acc_record[3][7] = np.var(Acc_results_G_sample7)"
   ]
  },
  {
   "cell_type": "code",
   "execution_count": 22,
   "id": "0330fe43",
   "metadata": {},
   "outputs": [
    {
     "name": "stderr",
     "output_type": "stream",
     "text": [
      "extracting all features from dataset: 100%|██████████████████████████████████████████████| 2/2 [00:04<00:00,  2.38s/it]\n",
      "extracting all features from dataset: 100%|██████████████████████████████████████████████| 1/1 [00:00<00:00,  1.33it/s]\n"
     ]
    },
    {
     "name": "stdout",
     "output_type": "stream",
     "text": [
      "----------------------------\n",
      "Train_z, Test_z\n",
      "PCA: 0.8096\n",
      "SVD: 0.8114\n",
      "NetG_fixD, Acc at sample 1 0.1336\n"
     ]
    },
    {
     "name": "stderr",
     "output_type": "stream",
     "text": [
      "extracting all features from dataset: 100%|██████████████████████████████████████████████| 2/2 [00:04<00:00,  2.25s/it]\n",
      "extracting all features from dataset: 100%|██████████████████████████████████████████████| 1/1 [00:00<00:00,  1.12it/s]\n"
     ]
    },
    {
     "name": "stdout",
     "output_type": "stream",
     "text": [
      "----------------------------\n",
      "Train_z, Test_z\n",
      "PCA: 0.8138\n",
      "SVD: 0.8074\n",
      "NetG_fixD, Acc at sample 2 0.1121\n"
     ]
    },
    {
     "name": "stderr",
     "output_type": "stream",
     "text": [
      "extracting all features from dataset: 100%|██████████████████████████████████████████████| 2/2 [00:04<00:00,  2.37s/it]\n",
      "extracting all features from dataset: 100%|██████████████████████████████████████████████| 1/1 [00:00<00:00,  1.41it/s]\n"
     ]
    },
    {
     "name": "stdout",
     "output_type": "stream",
     "text": [
      "----------------------------\n",
      "Train_z, Test_z\n",
      "PCA: 0.8146\n",
      "SVD: 0.8167\n",
      "NetG_fixD, Acc at sample 3 0.1178\n"
     ]
    },
    {
     "name": "stderr",
     "output_type": "stream",
     "text": [
      "extracting all features from dataset: 100%|██████████████████████████████████████████████| 2/2 [00:04<00:00,  2.35s/it]\n",
      "extracting all features from dataset: 100%|██████████████████████████████████████████████| 1/1 [00:00<00:00,  1.46it/s]\n"
     ]
    },
    {
     "name": "stdout",
     "output_type": "stream",
     "text": [
      "----------------------------\n",
      "Train_z, Test_z\n",
      "PCA: 0.8068\n",
      "SVD: 0.8\n",
      "NetG_fixD, Acc at sample 4 0.1116\n"
     ]
    },
    {
     "name": "stderr",
     "output_type": "stream",
     "text": [
      "extracting all features from dataset: 100%|██████████████████████████████████████████████| 2/2 [00:04<00:00,  2.31s/it]\n",
      "extracting all features from dataset: 100%|██████████████████████████████████████████████| 1/1 [00:00<00:00,  1.33it/s]\n"
     ]
    },
    {
     "name": "stdout",
     "output_type": "stream",
     "text": [
      "----------------------------\n",
      "Train_z, Test_z\n",
      "PCA: 0.8024\n",
      "SVD: 0.8016\n",
      "NetG_fixD, Acc at sample 5 0.1188\n"
     ]
    },
    {
     "name": "stderr",
     "output_type": "stream",
     "text": [
      "extracting all features from dataset: 100%|██████████████████████████████████████████████| 2/2 [00:04<00:00,  2.33s/it]\n",
      "extracting all features from dataset: 100%|██████████████████████████████████████████████| 1/1 [00:00<00:00,  1.44it/s]\n"
     ]
    },
    {
     "name": "stdout",
     "output_type": "stream",
     "text": [
      "----------------------------\n",
      "Train_z, Test_z\n",
      "PCA: 0.8081\n",
      "SVD: 0.8037\n",
      "NetG_fixD, Acc at sample 6 0.1221\n"
     ]
    },
    {
     "name": "stderr",
     "output_type": "stream",
     "text": [
      "extracting all features from dataset: 100%|██████████████████████████████████████████████| 2/2 [00:04<00:00,  2.43s/it]\n",
      "extracting all features from dataset: 100%|██████████████████████████████████████████████| 1/1 [00:00<00:00,  1.40it/s]\n"
     ]
    },
    {
     "name": "stdout",
     "output_type": "stream",
     "text": [
      "----------------------------\n",
      "Train_z, Test_z\n",
      "PCA: 0.8059000000000001\n",
      "SVD: 0.8082\n",
      "NetG_fixD, Acc at sample 7 0.1063\n"
     ]
    },
    {
     "name": "stderr",
     "output_type": "stream",
     "text": [
      "extracting all features from dataset: 100%|██████████████████████████████████████████████| 2/2 [00:04<00:00,  2.39s/it]\n",
      "extracting all features from dataset: 100%|██████████████████████████████████████████████| 1/1 [00:00<00:00,  1.43it/s]\n"
     ]
    },
    {
     "name": "stdout",
     "output_type": "stream",
     "text": [
      "----------------------------\n",
      "Train_z, Test_z\n",
      "PCA: 0.8113\n",
      "SVD: 0.8065\n",
      "NetG_fixD, Acc at sample 8 0.1329\n"
     ]
    },
    {
     "name": "stderr",
     "output_type": "stream",
     "text": [
      "extracting all features from dataset: 100%|██████████████████████████████████████████████| 2/2 [00:04<00:00,  2.38s/it]\n",
      "extracting all features from dataset: 100%|██████████████████████████████████████████████| 1/1 [00:00<00:00,  1.39it/s]\n"
     ]
    },
    {
     "name": "stdout",
     "output_type": "stream",
     "text": [
      "----------------------------\n",
      "Train_z, Test_z\n",
      "PCA: 0.8053\n",
      "SVD: 0.8028\n",
      "NetG_fixD, Acc at sample 9 0.0888\n"
     ]
    },
    {
     "name": "stderr",
     "output_type": "stream",
     "text": [
      "extracting all features from dataset: 100%|██████████████████████████████████████████████| 2/2 [00:04<00:00,  2.36s/it]\n",
      "extracting all features from dataset: 100%|██████████████████████████████████████████████| 1/1 [00:00<00:00,  1.40it/s]\n"
     ]
    },
    {
     "name": "stdout",
     "output_type": "stream",
     "text": [
      "----------------------------\n",
      "Train_z, Test_z\n",
      "PCA: 0.8064\n",
      "SVD: 0.8044\n",
      "NetG_fixD, Acc at sample 10 0.1122\n"
     ]
    },
    {
     "name": "stderr",
     "output_type": "stream",
     "text": [
      "extracting all features from dataset: 100%|██████████████████████████████████████████████| 2/2 [00:04<00:00,  2.26s/it]\n",
      "extracting all features from dataset: 100%|██████████████████████████████████████████████| 1/1 [00:00<00:00,  1.35it/s]\n"
     ]
    },
    {
     "name": "stdout",
     "output_type": "stream",
     "text": [
      "----------------------------\n",
      "Train_z, Test_z\n",
      "PCA: 0.8135\n",
      "SVD: 0.8165\n",
      "NetG_fixD, Acc at sample 11 0.1222\n"
     ]
    },
    {
     "name": "stderr",
     "output_type": "stream",
     "text": [
      "extracting all features from dataset: 100%|██████████████████████████████████████████████| 2/2 [00:04<00:00,  2.38s/it]\n",
      "extracting all features from dataset: 100%|██████████████████████████████████████████████| 1/1 [00:00<00:00,  1.43it/s]\n"
     ]
    },
    {
     "name": "stdout",
     "output_type": "stream",
     "text": [
      "----------------------------\n",
      "Train_z, Test_z\n",
      "PCA: 0.808\n",
      "SVD: 0.8036\n",
      "NetG_fixD, Acc at sample 12 0.1544\n"
     ]
    },
    {
     "name": "stderr",
     "output_type": "stream",
     "text": [
      "extracting all features from dataset: 100%|██████████████████████████████████████████████| 2/2 [00:04<00:00,  2.35s/it]\n",
      "extracting all features from dataset: 100%|██████████████████████████████████████████████| 1/1 [00:00<00:00,  1.31it/s]\n"
     ]
    },
    {
     "name": "stdout",
     "output_type": "stream",
     "text": [
      "----------------------------\n",
      "Train_z, Test_z\n",
      "PCA: 0.813\n",
      "SVD: 0.8101\n",
      "NetG_fixD, Acc at sample 13 0.1236\n"
     ]
    },
    {
     "name": "stderr",
     "output_type": "stream",
     "text": [
      "extracting all features from dataset: 100%|██████████████████████████████████████████████| 2/2 [00:04<00:00,  2.44s/it]\n",
      "extracting all features from dataset: 100%|██████████████████████████████████████████████| 1/1 [00:00<00:00,  1.36it/s]\n"
     ]
    },
    {
     "name": "stdout",
     "output_type": "stream",
     "text": [
      "----------------------------\n",
      "Train_z, Test_z\n",
      "PCA: 0.8018000000000001\n",
      "SVD: 0.798\n",
      "NetG_fixD, Acc at sample 14 0.1314\n"
     ]
    },
    {
     "name": "stderr",
     "output_type": "stream",
     "text": [
      "extracting all features from dataset: 100%|██████████████████████████████████████████████| 2/2 [00:04<00:00,  2.50s/it]\n",
      "extracting all features from dataset: 100%|██████████████████████████████████████████████| 1/1 [00:00<00:00,  1.34it/s]\n"
     ]
    },
    {
     "name": "stdout",
     "output_type": "stream",
     "text": [
      "----------------------------\n",
      "Train_z, Test_z\n",
      "PCA: 0.8089999999999999\n",
      "SVD: 0.8047\n",
      "NetG_fixD, Acc at sample 15 0.1062\n"
     ]
    },
    {
     "name": "stderr",
     "output_type": "stream",
     "text": [
      "extracting all features from dataset: 100%|██████████████████████████████████████████████| 2/2 [00:04<00:00,  2.33s/it]\n",
      "extracting all features from dataset: 100%|██████████████████████████████████████████████| 1/1 [00:00<00:00,  1.25it/s]\n"
     ]
    },
    {
     "name": "stdout",
     "output_type": "stream",
     "text": [
      "----------------------------\n",
      "Train_z, Test_z\n",
      "PCA: 0.8084\n",
      "SVD: 0.8073\n",
      "NetG_fixD, Acc at sample 16 0.1311\n"
     ]
    },
    {
     "name": "stderr",
     "output_type": "stream",
     "text": [
      "extracting all features from dataset: 100%|██████████████████████████████████████████████| 2/2 [00:04<00:00,  2.42s/it]\n",
      "extracting all features from dataset: 100%|██████████████████████████████████████████████| 1/1 [00:00<00:00,  1.39it/s]\n"
     ]
    },
    {
     "name": "stdout",
     "output_type": "stream",
     "text": [
      "----------------------------\n",
      "Train_z, Test_z\n",
      "PCA: 0.8018000000000001\n",
      "SVD: 0.8024\n",
      "NetG_fixD, Acc at sample 17 0.1097\n"
     ]
    },
    {
     "name": "stderr",
     "output_type": "stream",
     "text": [
      "extracting all features from dataset: 100%|██████████████████████████████████████████████| 2/2 [00:04<00:00,  2.32s/it]\n",
      "extracting all features from dataset: 100%|██████████████████████████████████████████████| 1/1 [00:00<00:00,  1.42it/s]\n"
     ]
    },
    {
     "name": "stdout",
     "output_type": "stream",
     "text": [
      "----------------------------\n",
      "Train_z, Test_z\n",
      "PCA: 0.8029999999999999\n",
      "SVD: 0.8052\n",
      "NetG_fixD, Acc at sample 18 0.1478\n"
     ]
    },
    {
     "name": "stderr",
     "output_type": "stream",
     "text": [
      "extracting all features from dataset: 100%|██████████████████████████████████████████████| 2/2 [00:04<00:00,  2.41s/it]\n",
      "extracting all features from dataset: 100%|██████████████████████████████████████████████| 1/1 [00:00<00:00,  1.32it/s]\n"
     ]
    },
    {
     "name": "stdout",
     "output_type": "stream",
     "text": [
      "----------------------------\n",
      "Train_z, Test_z\n",
      "PCA: 0.8035\n",
      "SVD: 0.7995\n",
      "NetG_fixD, Acc at sample 19 0.1291\n"
     ]
    },
    {
     "name": "stderr",
     "output_type": "stream",
     "text": [
      "extracting all features from dataset: 100%|██████████████████████████████████████████████| 2/2 [00:04<00:00,  2.27s/it]\n",
      "extracting all features from dataset: 100%|██████████████████████████████████████████████| 1/1 [00:00<00:00,  1.42it/s]\n"
     ]
    },
    {
     "name": "stdout",
     "output_type": "stream",
     "text": [
      "----------------------------\n",
      "Train_z, Test_z\n",
      "PCA: 0.8036\n",
      "SVD: 0.8025\n",
      "NetG_fixD, Acc at sample 20 0.1257\n",
      "0.1544 0.0888 0.12187 0.00021430309999999992\n"
     ]
    }
   ],
   "source": [
    "# sample 20 times of NetG at final radius, NetD is fixed\n",
    "from sklearn.neighbors import KNeighborsClassifier \n",
    "Acc_results_G_sample8 = []\n",
    "\n",
    "for _ in range(sample_num):\n",
    "    #acc at first\n",
    "    net_noise = get_noise(DATASET, device, LABEL)\n",
    "    fed_state_dict = get_netG(netD,netV,net_noise,r_list[8])\n",
    "    netG.load_state_dict(fed_state_dict)\n",
    "    \n",
    "    train_X, train_Z, train_X_bar, train_Z_bar, train_labels = extract_features2(trainloader, netG, netD)\n",
    "\n",
    "    test_X, test_Z, test_X_bar, test_Z_bar, test_labels = extract_features2(testloader, netG, netD)\n",
    "\n",
    "    print(\"----------------------------\")\n",
    "    print(\"Train_z, Test_z\")\n",
    "    nearsub(n_comp, train_Z, train_labels, test_Z, test_labels)\n",
    "\n",
    "    knn= KNeighborsClassifier(n_neighbors=10) \n",
    "\n",
    "    knn.fit(train_Z,train_labels) \n",
    "    knn.score(test_Z_bar,test_labels) \n",
    "\n",
    "    y_predict = knn.predict(test_Z_bar) \n",
    "\n",
    "    count =0\n",
    "    for k in range(10000):\n",
    "        if y_predict[k] == test_labels[k]:\n",
    "            count +=1\n",
    "    print('NetG_fixD, Acc at sample',_+1,count/10000)\n",
    "    Acc_results_G_sample8.append(count/10000)\n",
    "    \n",
    "print(max(Acc_results_G_sample8),min(Acc_results_G_sample8),np.mean(Acc_results_G_sample8),np.var(Acc_results_G_sample8))\n",
    "acc_record[0][8] = np.mean(Acc_results_G_sample8)\n",
    "acc_record[1][8] = max(Acc_results_G_sample8)\n",
    "acc_record[2][8] = min(Acc_results_G_sample8)\n",
    "acc_record[3][8] = np.var(Acc_results_G_sample8)"
   ]
  },
  {
   "cell_type": "code",
   "execution_count": 23,
   "id": "3a693c54",
   "metadata": {},
   "outputs": [
    {
     "name": "stderr",
     "output_type": "stream",
     "text": [
      "extracting all features from dataset: 100%|██████████████████████████████████████████████| 2/2 [00:04<00:00,  2.30s/it]\n",
      "extracting all features from dataset: 100%|██████████████████████████████████████████████| 1/1 [00:00<00:00,  1.33it/s]\n"
     ]
    },
    {
     "name": "stdout",
     "output_type": "stream",
     "text": [
      "----------------------------\n",
      "Train_z, Test_z\n",
      "PCA: 0.8069999999999999\n",
      "SVD: 0.8092\n",
      "NetG_fixD, Acc at sample 1 0.12\n"
     ]
    },
    {
     "name": "stderr",
     "output_type": "stream",
     "text": [
      "extracting all features from dataset: 100%|██████████████████████████████████████████████| 2/2 [00:04<00:00,  2.38s/it]\n",
      "extracting all features from dataset: 100%|██████████████████████████████████████████████| 1/1 [00:00<00:00,  1.42it/s]\n"
     ]
    },
    {
     "name": "stdout",
     "output_type": "stream",
     "text": [
      "----------------------------\n",
      "Train_z, Test_z\n",
      "PCA: 0.8046\n",
      "SVD: 0.8046\n",
      "NetG_fixD, Acc at sample 2 0.114\n"
     ]
    },
    {
     "name": "stderr",
     "output_type": "stream",
     "text": [
      "extracting all features from dataset: 100%|██████████████████████████████████████████████| 2/2 [00:04<00:00,  2.25s/it]\n",
      "extracting all features from dataset: 100%|██████████████████████████████████████████████| 1/1 [00:00<00:00,  1.39it/s]\n"
     ]
    },
    {
     "name": "stdout",
     "output_type": "stream",
     "text": [
      "----------------------------\n",
      "Train_z, Test_z\n",
      "PCA: 0.8109999999999999\n",
      "SVD: 0.8121\n",
      "NetG_fixD, Acc at sample 3 0.1134\n"
     ]
    },
    {
     "name": "stderr",
     "output_type": "stream",
     "text": [
      "extracting all features from dataset: 100%|██████████████████████████████████████████████| 2/2 [00:04<00:00,  2.38s/it]\n",
      "extracting all features from dataset: 100%|██████████████████████████████████████████████| 1/1 [00:00<00:00,  1.21it/s]\n"
     ]
    },
    {
     "name": "stdout",
     "output_type": "stream",
     "text": [
      "----------------------------\n",
      "Train_z, Test_z\n",
      "PCA: 0.8130999999999999\n",
      "SVD: 0.8094\n",
      "NetG_fixD, Acc at sample 4 0.0955\n"
     ]
    },
    {
     "name": "stderr",
     "output_type": "stream",
     "text": [
      "extracting all features from dataset: 100%|██████████████████████████████████████████████| 2/2 [00:04<00:00,  2.34s/it]\n",
      "extracting all features from dataset: 100%|██████████████████████████████████████████████| 1/1 [00:00<00:00,  1.41it/s]\n"
     ]
    },
    {
     "name": "stdout",
     "output_type": "stream",
     "text": [
      "----------------------------\n",
      "Train_z, Test_z\n",
      "PCA: 0.8089999999999999\n",
      "SVD: 0.8116\n",
      "NetG_fixD, Acc at sample 5 0.0997\n"
     ]
    },
    {
     "name": "stderr",
     "output_type": "stream",
     "text": [
      "extracting all features from dataset: 100%|██████████████████████████████████████████████| 2/2 [00:04<00:00,  2.37s/it]\n",
      "extracting all features from dataset: 100%|██████████████████████████████████████████████| 1/1 [00:00<00:00,  1.40it/s]\n"
     ]
    },
    {
     "name": "stdout",
     "output_type": "stream",
     "text": [
      "----------------------------\n",
      "Train_z, Test_z\n",
      "PCA: 0.8046\n",
      "SVD: 0.8057\n",
      "NetG_fixD, Acc at sample 6 0.1183\n"
     ]
    },
    {
     "name": "stderr",
     "output_type": "stream",
     "text": [
      "extracting all features from dataset: 100%|██████████████████████████████████████████████| 2/2 [00:04<00:00,  2.41s/it]\n",
      "extracting all features from dataset: 100%|██████████████████████████████████████████████| 1/1 [00:00<00:00,  1.25it/s]\n"
     ]
    },
    {
     "name": "stdout",
     "output_type": "stream",
     "text": [
      "----------------------------\n",
      "Train_z, Test_z\n",
      "PCA: 0.8148\n",
      "SVD: 0.8094\n",
      "NetG_fixD, Acc at sample 7 0.1148\n"
     ]
    },
    {
     "name": "stderr",
     "output_type": "stream",
     "text": [
      "extracting all features from dataset: 100%|██████████████████████████████████████████████| 2/2 [00:04<00:00,  2.40s/it]\n",
      "extracting all features from dataset: 100%|██████████████████████████████████████████████| 1/1 [00:00<00:00,  1.38it/s]\n"
     ]
    },
    {
     "name": "stdout",
     "output_type": "stream",
     "text": [
      "----------------------------\n",
      "Train_z, Test_z\n",
      "PCA: 0.8130999999999999\n",
      "SVD: 0.8122\n",
      "NetG_fixD, Acc at sample 8 0.1361\n"
     ]
    },
    {
     "name": "stderr",
     "output_type": "stream",
     "text": [
      "extracting all features from dataset: 100%|██████████████████████████████████████████████| 2/2 [00:04<00:00,  2.30s/it]\n",
      "extracting all features from dataset: 100%|██████████████████████████████████████████████| 1/1 [00:00<00:00,  1.42it/s]\n"
     ]
    },
    {
     "name": "stdout",
     "output_type": "stream",
     "text": [
      "----------------------------\n",
      "Train_z, Test_z\n",
      "PCA: 0.8083\n",
      "SVD: 0.8052\n",
      "NetG_fixD, Acc at sample 9 0.1178\n"
     ]
    },
    {
     "name": "stderr",
     "output_type": "stream",
     "text": [
      "extracting all features from dataset: 100%|██████████████████████████████████████████████| 2/2 [00:04<00:00,  2.42s/it]\n",
      "extracting all features from dataset: 100%|██████████████████████████████████████████████| 1/1 [00:00<00:00,  1.26it/s]\n"
     ]
    },
    {
     "name": "stdout",
     "output_type": "stream",
     "text": [
      "----------------------------\n",
      "Train_z, Test_z\n",
      "PCA: 0.8068\n",
      "SVD: 0.8069\n",
      "NetG_fixD, Acc at sample 10 0.1132\n"
     ]
    },
    {
     "name": "stderr",
     "output_type": "stream",
     "text": [
      "extracting all features from dataset: 100%|██████████████████████████████████████████████| 2/2 [00:04<00:00,  2.29s/it]\n",
      "extracting all features from dataset: 100%|██████████████████████████████████████████████| 1/1 [00:00<00:00,  1.37it/s]\n"
     ]
    },
    {
     "name": "stdout",
     "output_type": "stream",
     "text": [
      "----------------------------\n",
      "Train_z, Test_z\n",
      "PCA: 0.8014\n",
      "SVD: 0.7996\n",
      "NetG_fixD, Acc at sample 11 0.0884\n"
     ]
    },
    {
     "name": "stderr",
     "output_type": "stream",
     "text": [
      "extracting all features from dataset: 100%|██████████████████████████████████████████████| 2/2 [00:04<00:00,  2.40s/it]\n",
      "extracting all features from dataset: 100%|██████████████████████████████████████████████| 1/1 [00:00<00:00,  1.38it/s]\n"
     ]
    },
    {
     "name": "stdout",
     "output_type": "stream",
     "text": [
      "----------------------------\n",
      "Train_z, Test_z\n",
      "PCA: 0.8089\n",
      "SVD: 0.8093\n",
      "NetG_fixD, Acc at sample 12 0.1216\n"
     ]
    },
    {
     "name": "stderr",
     "output_type": "stream",
     "text": [
      "extracting all features from dataset: 100%|██████████████████████████████████████████████| 2/2 [00:04<00:00,  2.46s/it]\n",
      "extracting all features from dataset: 100%|██████████████████████████████████████████████| 1/1 [00:00<00:00,  1.34it/s]\n"
     ]
    },
    {
     "name": "stdout",
     "output_type": "stream",
     "text": [
      "----------------------------\n",
      "Train_z, Test_z\n",
      "PCA: 0.8038\n",
      "SVD: 0.8025\n",
      "NetG_fixD, Acc at sample 13 0.1267\n"
     ]
    },
    {
     "name": "stderr",
     "output_type": "stream",
     "text": [
      "extracting all features from dataset: 100%|██████████████████████████████████████████████| 2/2 [00:04<00:00,  2.28s/it]\n",
      "extracting all features from dataset: 100%|██████████████████████████████████████████████| 1/1 [00:00<00:00,  1.31it/s]\n"
     ]
    },
    {
     "name": "stdout",
     "output_type": "stream",
     "text": [
      "----------------------------\n",
      "Train_z, Test_z\n",
      "PCA: 0.8109\n",
      "SVD: 0.8095\n",
      "NetG_fixD, Acc at sample 14 0.1163\n"
     ]
    },
    {
     "name": "stderr",
     "output_type": "stream",
     "text": [
      "extracting all features from dataset: 100%|██████████████████████████████████████████████| 2/2 [00:04<00:00,  2.34s/it]\n",
      "extracting all features from dataset: 100%|██████████████████████████████████████████████| 1/1 [00:00<00:00,  1.42it/s]\n"
     ]
    },
    {
     "name": "stdout",
     "output_type": "stream",
     "text": [
      "----------------------------\n",
      "Train_z, Test_z\n",
      "PCA: 0.802\n",
      "SVD: 0.8027\n",
      "NetG_fixD, Acc at sample 15 0.1109\n"
     ]
    },
    {
     "name": "stderr",
     "output_type": "stream",
     "text": [
      "extracting all features from dataset: 100%|██████████████████████████████████████████████| 2/2 [00:04<00:00,  2.38s/it]\n",
      "extracting all features from dataset: 100%|██████████████████████████████████████████████| 1/1 [00:00<00:00,  1.41it/s]\n"
     ]
    },
    {
     "name": "stdout",
     "output_type": "stream",
     "text": [
      "----------------------------\n",
      "Train_z, Test_z\n",
      "PCA: 0.8137\n",
      "SVD: 0.8102\n",
      "NetG_fixD, Acc at sample 16 0.0982\n"
     ]
    },
    {
     "name": "stderr",
     "output_type": "stream",
     "text": [
      "extracting all features from dataset: 100%|██████████████████████████████████████████████| 2/2 [00:04<00:00,  2.33s/it]\n",
      "extracting all features from dataset: 100%|██████████████████████████████████████████████| 1/1 [00:00<00:00,  1.43it/s]\n"
     ]
    },
    {
     "name": "stdout",
     "output_type": "stream",
     "text": [
      "----------------------------\n",
      "Train_z, Test_z\n",
      "PCA: 0.8124\n",
      "SVD: 0.8054\n",
      "NetG_fixD, Acc at sample 17 0.1173\n"
     ]
    },
    {
     "name": "stderr",
     "output_type": "stream",
     "text": [
      "extracting all features from dataset: 100%|██████████████████████████████████████████████| 2/2 [00:04<00:00,  2.35s/it]\n",
      "extracting all features from dataset: 100%|██████████████████████████████████████████████| 1/1 [00:00<00:00,  1.23it/s]\n"
     ]
    },
    {
     "name": "stdout",
     "output_type": "stream",
     "text": [
      "----------------------------\n",
      "Train_z, Test_z\n",
      "PCA: 0.8021\n",
      "SVD: 0.7999\n",
      "NetG_fixD, Acc at sample 18 0.1264\n"
     ]
    },
    {
     "name": "stderr",
     "output_type": "stream",
     "text": [
      "extracting all features from dataset: 100%|██████████████████████████████████████████████| 2/2 [00:04<00:00,  2.33s/it]\n",
      "extracting all features from dataset: 100%|██████████████████████████████████████████████| 1/1 [00:00<00:00,  1.41it/s]\n"
     ]
    },
    {
     "name": "stdout",
     "output_type": "stream",
     "text": [
      "----------------------------\n",
      "Train_z, Test_z\n",
      "PCA: 0.8049\n",
      "SVD: 0.8038\n",
      "NetG_fixD, Acc at sample 19 0.0841\n"
     ]
    },
    {
     "name": "stderr",
     "output_type": "stream",
     "text": [
      "extracting all features from dataset: 100%|██████████████████████████████████████████████| 2/2 [00:04<00:00,  2.30s/it]\n",
      "extracting all features from dataset: 100%|██████████████████████████████████████████████| 1/1 [00:00<00:00,  1.40it/s]\n"
     ]
    },
    {
     "name": "stdout",
     "output_type": "stream",
     "text": [
      "----------------------------\n",
      "Train_z, Test_z\n",
      "PCA: 0.8012\n",
      "SVD: 0.7915\n",
      "NetG_fixD, Acc at sample 20 0.1273\n",
      "0.1361 0.0841 0.11299999999999999 0.00017301100000000001\n"
     ]
    }
   ],
   "source": [
    "# sample 20 times of NetG at final radius, NetD is fixed\n",
    "from sklearn.neighbors import KNeighborsClassifier \n",
    "Acc_results_G_sample9 = []\n",
    "\n",
    "for _ in range(sample_num):\n",
    "    #acc at first\n",
    "    net_noise = get_noise(DATASET, device, LABEL)\n",
    "    fed_state_dict = get_netG(netD,netV,net_noise,r_list[9])\n",
    "    netG.load_state_dict(fed_state_dict)\n",
    "    \n",
    "    train_X, train_Z, train_X_bar, train_Z_bar, train_labels = extract_features2(trainloader, netG, netD)\n",
    "\n",
    "    test_X, test_Z, test_X_bar, test_Z_bar, test_labels = extract_features2(testloader, netG, netD)\n",
    "\n",
    "    print(\"----------------------------\")\n",
    "    print(\"Train_z, Test_z\")\n",
    "    nearsub(n_comp, train_Z, train_labels, test_Z, test_labels)\n",
    "\n",
    "    knn= KNeighborsClassifier(n_neighbors=10) \n",
    "\n",
    "    knn.fit(train_Z,train_labels) \n",
    "    knn.score(test_Z_bar,test_labels) \n",
    "\n",
    "    y_predict = knn.predict(test_Z_bar) \n",
    "\n",
    "    count =0\n",
    "    for k in range(10000):\n",
    "        if y_predict[k] == test_labels[k]:\n",
    "            count +=1\n",
    "    print('NetG_fixD, Acc at sample',_+1,count/10000)\n",
    "    Acc_results_G_sample9.append(count/10000)\n",
    "    \n",
    "print(max(Acc_results_G_sample9),min(Acc_results_G_sample9),np.mean(Acc_results_G_sample9),np.var(Acc_results_G_sample9))\n",
    "acc_record[0][9] = np.mean(Acc_results_G_sample9)\n",
    "acc_record[1][9] = max(Acc_results_G_sample9)\n",
    "acc_record[2][9] = min(Acc_results_G_sample9)\n",
    "acc_record[3][9] = np.var(Acc_results_G_sample9)"
   ]
  },
  {
   "cell_type": "code",
   "execution_count": 24,
   "id": "327ef5ef",
   "metadata": {},
   "outputs": [
    {
     "name": "stderr",
     "output_type": "stream",
     "text": [
      "extracting all features from dataset: 100%|██████████████████████████████████████████████| 2/2 [00:04<00:00,  2.39s/it]\n",
      "extracting all features from dataset: 100%|██████████████████████████████████████████████| 1/1 [00:00<00:00,  1.33it/s]\n"
     ]
    },
    {
     "name": "stdout",
     "output_type": "stream",
     "text": [
      "----------------------------\n",
      "Train_z, Test_z\n",
      "PCA: 0.8109\n",
      "SVD: 0.8073\n",
      "NetG_fixD, Acc at sample 1 0.1062\n"
     ]
    },
    {
     "name": "stderr",
     "output_type": "stream",
     "text": [
      "extracting all features from dataset: 100%|██████████████████████████████████████████████| 2/2 [00:04<00:00,  2.37s/it]\n",
      "extracting all features from dataset: 100%|██████████████████████████████████████████████| 1/1 [00:00<00:00,  1.45it/s]\n"
     ]
    },
    {
     "name": "stdout",
     "output_type": "stream",
     "text": [
      "----------------------------\n",
      "Train_z, Test_z\n",
      "PCA: 0.8062\n",
      "SVD: 0.8075\n",
      "NetG_fixD, Acc at sample 2 0.09\n"
     ]
    },
    {
     "name": "stderr",
     "output_type": "stream",
     "text": [
      "extracting all features from dataset: 100%|██████████████████████████████████████████████| 2/2 [00:04<00:00,  2.31s/it]\n",
      "extracting all features from dataset: 100%|██████████████████████████████████████████████| 1/1 [00:00<00:00,  1.40it/s]\n"
     ]
    },
    {
     "name": "stdout",
     "output_type": "stream",
     "text": [
      "----------------------------\n",
      "Train_z, Test_z\n",
      "PCA: 0.8026\n",
      "SVD: 0.8039000000000001\n",
      "NetG_fixD, Acc at sample 3 0.1199\n"
     ]
    },
    {
     "name": "stderr",
     "output_type": "stream",
     "text": [
      "extracting all features from dataset: 100%|██████████████████████████████████████████████| 2/2 [00:04<00:00,  2.43s/it]\n",
      "extracting all features from dataset: 100%|██████████████████████████████████████████████| 1/1 [00:00<00:00,  1.29it/s]\n"
     ]
    },
    {
     "name": "stdout",
     "output_type": "stream",
     "text": [
      "----------------------------\n",
      "Train_z, Test_z\n",
      "PCA: 0.8114\n",
      "SVD: 0.8086\n",
      "NetG_fixD, Acc at sample 4 0.1224\n"
     ]
    },
    {
     "name": "stderr",
     "output_type": "stream",
     "text": [
      "extracting all features from dataset: 100%|██████████████████████████████████████████████| 2/2 [00:04<00:00,  2.40s/it]\n",
      "extracting all features from dataset: 100%|██████████████████████████████████████████████| 1/1 [00:00<00:00,  1.41it/s]\n"
     ]
    },
    {
     "name": "stdout",
     "output_type": "stream",
     "text": [
      "----------------------------\n",
      "Train_z, Test_z\n",
      "PCA: 0.8109\n",
      "SVD: 0.8091\n",
      "NetG_fixD, Acc at sample 5 0.0852\n"
     ]
    },
    {
     "name": "stderr",
     "output_type": "stream",
     "text": [
      "extracting all features from dataset: 100%|██████████████████████████████████████████████| 2/2 [00:04<00:00,  2.37s/it]\n",
      "extracting all features from dataset: 100%|██████████████████████████████████████████████| 1/1 [00:00<00:00,  1.36it/s]\n"
     ]
    },
    {
     "name": "stdout",
     "output_type": "stream",
     "text": [
      "----------------------------\n",
      "Train_z, Test_z\n",
      "PCA: 0.8058\n",
      "SVD: 0.8026\n",
      "NetG_fixD, Acc at sample 6 0.1121\n"
     ]
    },
    {
     "name": "stderr",
     "output_type": "stream",
     "text": [
      "extracting all features from dataset: 100%|██████████████████████████████████████████████| 2/2 [00:04<00:00,  2.37s/it]\n",
      "extracting all features from dataset: 100%|██████████████████████████████████████████████| 1/1 [00:00<00:00,  1.22it/s]\n"
     ]
    },
    {
     "name": "stdout",
     "output_type": "stream",
     "text": [
      "----------------------------\n",
      "Train_z, Test_z\n",
      "PCA: 0.8036\n",
      "SVD: 0.7977\n",
      "NetG_fixD, Acc at sample 7 0.0925\n"
     ]
    },
    {
     "name": "stderr",
     "output_type": "stream",
     "text": [
      "extracting all features from dataset: 100%|██████████████████████████████████████████████| 2/2 [00:04<00:00,  2.32s/it]\n",
      "extracting all features from dataset: 100%|██████████████████████████████████████████████| 1/1 [00:00<00:00,  1.37it/s]\n"
     ]
    },
    {
     "name": "stdout",
     "output_type": "stream",
     "text": [
      "----------------------------\n",
      "Train_z, Test_z\n",
      "PCA: 0.8051\n",
      "SVD: 0.8041\n",
      "NetG_fixD, Acc at sample 8 0.1527\n"
     ]
    },
    {
     "name": "stderr",
     "output_type": "stream",
     "text": [
      "extracting all features from dataset: 100%|██████████████████████████████████████████████| 2/2 [00:04<00:00,  2.45s/it]\n",
      "extracting all features from dataset: 100%|██████████████████████████████████████████████| 1/1 [00:00<00:00,  1.39it/s]\n"
     ]
    },
    {
     "name": "stdout",
     "output_type": "stream",
     "text": [
      "----------------------------\n",
      "Train_z, Test_z\n",
      "PCA: 0.8057\n",
      "SVD: 0.8051\n",
      "NetG_fixD, Acc at sample 9 0.1123\n"
     ]
    },
    {
     "name": "stderr",
     "output_type": "stream",
     "text": [
      "extracting all features from dataset: 100%|██████████████████████████████████████████████| 2/2 [00:04<00:00,  2.43s/it]\n",
      "extracting all features from dataset: 100%|██████████████████████████████████████████████| 1/1 [00:00<00:00,  1.28it/s]\n"
     ]
    },
    {
     "name": "stdout",
     "output_type": "stream",
     "text": [
      "----------------------------\n",
      "Train_z, Test_z\n",
      "PCA: 0.8073\n",
      "SVD: 0.8029999999999999\n",
      "NetG_fixD, Acc at sample 10 0.0806\n"
     ]
    },
    {
     "name": "stderr",
     "output_type": "stream",
     "text": [
      "extracting all features from dataset: 100%|██████████████████████████████████████████████| 2/2 [00:04<00:00,  2.45s/it]\n",
      "extracting all features from dataset: 100%|██████████████████████████████████████████████| 1/1 [00:00<00:00,  1.40it/s]\n"
     ]
    },
    {
     "name": "stdout",
     "output_type": "stream",
     "text": [
      "----------------------------\n",
      "Train_z, Test_z\n",
      "PCA: 0.8055\n",
      "SVD: 0.8067\n",
      "NetG_fixD, Acc at sample 11 0.1048\n"
     ]
    },
    {
     "name": "stderr",
     "output_type": "stream",
     "text": [
      "extracting all features from dataset: 100%|██████████████████████████████████████████████| 2/2 [00:04<00:00,  2.36s/it]\n",
      "extracting all features from dataset: 100%|██████████████████████████████████████████████| 1/1 [00:00<00:00,  1.45it/s]\n"
     ]
    },
    {
     "name": "stdout",
     "output_type": "stream",
     "text": [
      "----------------------------\n",
      "Train_z, Test_z\n",
      "PCA: 0.8096\n",
      "SVD: 0.8051\n",
      "NetG_fixD, Acc at sample 12 0.1039\n"
     ]
    },
    {
     "name": "stderr",
     "output_type": "stream",
     "text": [
      "extracting all features from dataset: 100%|██████████████████████████████████████████████| 2/2 [00:04<00:00,  2.24s/it]\n",
      "extracting all features from dataset: 100%|██████████████████████████████████████████████| 1/1 [00:00<00:00,  1.46it/s]\n"
     ]
    },
    {
     "name": "stdout",
     "output_type": "stream",
     "text": [
      "----------------------------\n",
      "Train_z, Test_z\n",
      "PCA: 0.8089\n",
      "SVD: 0.8087\n",
      "NetG_fixD, Acc at sample 13 0.1083\n"
     ]
    },
    {
     "name": "stderr",
     "output_type": "stream",
     "text": [
      "extracting all features from dataset: 100%|██████████████████████████████████████████████| 2/2 [00:04<00:00,  2.41s/it]\n",
      "extracting all features from dataset: 100%|██████████████████████████████████████████████| 1/1 [00:00<00:00,  1.40it/s]\n"
     ]
    },
    {
     "name": "stdout",
     "output_type": "stream",
     "text": [
      "----------------------------\n",
      "Train_z, Test_z\n",
      "PCA: 0.8161\n",
      "SVD: 0.8152\n",
      "NetG_fixD, Acc at sample 14 0.1105\n"
     ]
    },
    {
     "name": "stderr",
     "output_type": "stream",
     "text": [
      "extracting all features from dataset: 100%|██████████████████████████████████████████████| 2/2 [00:04<00:00,  2.31s/it]\n",
      "extracting all features from dataset: 100%|██████████████████████████████████████████████| 1/1 [00:00<00:00,  1.39it/s]\n"
     ]
    },
    {
     "name": "stdout",
     "output_type": "stream",
     "text": [
      "----------------------------\n",
      "Train_z, Test_z\n",
      "PCA: 0.8087\n",
      "SVD: 0.8042\n",
      "NetG_fixD, Acc at sample 15 0.1127\n"
     ]
    },
    {
     "name": "stderr",
     "output_type": "stream",
     "text": [
      "extracting all features from dataset: 100%|██████████████████████████████████████████████| 2/2 [00:04<00:00,  2.36s/it]\n",
      "extracting all features from dataset: 100%|██████████████████████████████████████████████| 1/1 [00:00<00:00,  1.41it/s]\n"
     ]
    },
    {
     "name": "stdout",
     "output_type": "stream",
     "text": [
      "----------------------------\n",
      "Train_z, Test_z\n",
      "PCA: 0.8033\n",
      "SVD: 0.8034\n",
      "NetG_fixD, Acc at sample 16 0.1116\n"
     ]
    },
    {
     "name": "stderr",
     "output_type": "stream",
     "text": [
      "extracting all features from dataset: 100%|██████████████████████████████████████████████| 2/2 [00:04<00:00,  2.41s/it]\n",
      "extracting all features from dataset: 100%|██████████████████████████████████████████████| 1/1 [00:00<00:00,  1.39it/s]\n"
     ]
    },
    {
     "name": "stdout",
     "output_type": "stream",
     "text": [
      "----------------------------\n",
      "Train_z, Test_z\n",
      "PCA: 0.8109999999999999\n",
      "SVD: 0.8038\n",
      "NetG_fixD, Acc at sample 17 0.0995\n"
     ]
    },
    {
     "name": "stderr",
     "output_type": "stream",
     "text": [
      "extracting all features from dataset: 100%|██████████████████████████████████████████████| 2/2 [00:04<00:00,  2.28s/it]\n",
      "extracting all features from dataset: 100%|██████████████████████████████████████████████| 1/1 [00:00<00:00,  1.30it/s]\n"
     ]
    },
    {
     "name": "stdout",
     "output_type": "stream",
     "text": [
      "----------------------------\n",
      "Train_z, Test_z\n",
      "PCA: 0.8058\n",
      "SVD: 0.8039000000000001\n",
      "NetG_fixD, Acc at sample 18 0.0927\n"
     ]
    },
    {
     "name": "stderr",
     "output_type": "stream",
     "text": [
      "extracting all features from dataset: 100%|██████████████████████████████████████████████| 2/2 [00:04<00:00,  2.26s/it]\n",
      "extracting all features from dataset: 100%|██████████████████████████████████████████████| 1/1 [00:00<00:00,  1.36it/s]\n"
     ]
    },
    {
     "name": "stdout",
     "output_type": "stream",
     "text": [
      "----------------------------\n",
      "Train_z, Test_z\n",
      "PCA: 0.8118\n",
      "SVD: 0.8049\n",
      "NetG_fixD, Acc at sample 19 0.0966\n"
     ]
    },
    {
     "name": "stderr",
     "output_type": "stream",
     "text": [
      "extracting all features from dataset: 100%|██████████████████████████████████████████████| 2/2 [00:04<00:00,  2.32s/it]\n",
      "extracting all features from dataset: 100%|██████████████████████████████████████████████| 1/1 [00:00<00:00,  1.38it/s]\n"
     ]
    },
    {
     "name": "stdout",
     "output_type": "stream",
     "text": [
      "----------------------------\n",
      "Train_z, Test_z\n",
      "PCA: 0.8097\n",
      "SVD: 0.8067\n",
      "NetG_fixD, Acc at sample 20 0.1294\n",
      "0.1527 0.0806 0.107195 0.0002585094749999999\n"
     ]
    }
   ],
   "source": [
    "# sample 20 times of NetG at final radius, NetD is fixed\n",
    "from sklearn.neighbors import KNeighborsClassifier \n",
    "Acc_results_G_sample10 = []\n",
    "\n",
    "for _ in range(sample_num):\n",
    "    #acc at first\n",
    "    net_noise = get_noise(DATASET, device, LABEL)\n",
    "    fed_state_dict = get_netG(netD,netV,net_noise,r_list[10])\n",
    "    netG.load_state_dict(fed_state_dict)\n",
    "    \n",
    "    train_X, train_Z, train_X_bar, train_Z_bar, train_labels = extract_features2(trainloader, netG, netD)\n",
    "\n",
    "    test_X, test_Z, test_X_bar, test_Z_bar, test_labels = extract_features2(testloader, netG, netD)\n",
    "\n",
    "    print(\"----------------------------\")\n",
    "    print(\"Train_z, Test_z\")\n",
    "    nearsub(n_comp, train_Z, train_labels, test_Z, test_labels)\n",
    "\n",
    "    knn= KNeighborsClassifier(n_neighbors=10) \n",
    "\n",
    "    knn.fit(train_Z,train_labels) \n",
    "    knn.score(test_Z_bar,test_labels) \n",
    "\n",
    "    y_predict = knn.predict(test_Z_bar) \n",
    "\n",
    "    count =0\n",
    "    for k in range(10000):\n",
    "        if y_predict[k] == test_labels[k]:\n",
    "            count +=1\n",
    "    print('NetG_fixD, Acc at sample',_+1,count/10000)\n",
    "    Acc_results_G_sample10.append(count/10000)\n",
    "    \n",
    "print(max(Acc_results_G_sample10),min(Acc_results_G_sample10),np.mean(Acc_results_G_sample10),np.var(Acc_results_G_sample10))\n",
    "acc_record[0][10] = np.mean(Acc_results_G_sample10)\n",
    "acc_record[1][10] = max(Acc_results_G_sample10)\n",
    "acc_record[2][10] = min(Acc_results_G_sample10)\n",
    "acc_record[3][10] = np.var(Acc_results_G_sample10)"
   ]
  },
  {
   "cell_type": "code",
   "execution_count": 25,
   "id": "6e2a2786",
   "metadata": {},
   "outputs": [],
   "source": [
    "# uncorrelation validation, use 160 sample to caculate and validate the uncorrelation\n",
    "corr_mean = np.zeros([n_comp,n_comp])\n",
    "corr_abs_mean = np.zeros([n_comp,n_comp])\n",
    "corr_min  = np.zeros([n_comp,n_comp])\n",
    "corr_max  = np.zeros([n_comp,n_comp])\n",
    "\n",
    "for i in range(10):\n",
    "    for j in range(10):\n",
    "        if i >= j :\n",
    "            similarity_matrix = torch.nn.functional.cosine_similarity(Z[label==i][0:160], Z[label==j][0:160])\n",
    "            temp_mean = torch.mean(similarity_matrix)\n",
    "            temp_min = torch.min(similarity_matrix)\n",
    "            temp_max = torch.max(similarity_matrix)\n",
    "            temp_abs_mean = torch.mean(abs(similarity_matrix))\n",
    "            \n",
    "            corr_mean[i][j] = temp_mean\n",
    "            corr_abs_mean[i][j] = temp_abs_mean\n",
    "            corr_min[i][j]  = temp_min\n",
    "            corr_max[i][j]  = temp_max\n",
    "            \n",
    "            corr_mean[j][i] = corr_mean[i][j]\n",
    "            corr_abs_mean[j][i] = corr_abs_mean[i][j]\n",
    "            corr_min[j][i] = corr_min[i][j]\n",
    "            corr_max[j][i] = corr_max[i][j]\n",
    "            \n",
    "            \n",
    "            "
   ]
  },
  {
   "cell_type": "code",
   "execution_count": 26,
   "id": "54d7dfe5",
   "metadata": {},
   "outputs": [],
   "source": [
    "corr_whole = np.zeros([4*n_comp,n_comp])\n",
    "corr_whole[0:10][:] =  corr_mean\n",
    "corr_whole[10:20][:] = corr_abs_mean\n",
    "corr_whole[20:30][:] = corr_min\n",
    "corr_whole[30:40][:] = corr_max\n"
   ]
  },
  {
   "cell_type": "code",
   "execution_count": 27,
   "id": "241663c1",
   "metadata": {},
   "outputs": [
    {
     "data": {
      "text/plain": [
       "<AxesSubplot:>"
      ]
     },
     "execution_count": 27,
     "metadata": {},
     "output_type": "execute_result"
    },
    {
     "data": {
      "image/png": "[encoded data removed]",
      "text/plain": [
       "<Figure size 1100x900 with 2 Axes>"
      ]
     },
     "metadata": {},
     "output_type": "display_data"
    }
   ],
   "source": [
    "# validation results\n",
    "from string import ascii_letters\n",
    "import numpy as np\n",
    "import pandas as pd\n",
    "import seaborn as sns\n",
    "import matplotlib.pyplot as plt\n",
    "import palettable\n",
    "\n",
    "plt.figure(figsize=(11, 9),dpi=100)\n",
    "sns.heatmap(data=corr_mean,\n",
    "           )"
   ]
  },
  {
   "cell_type": "code",
   "execution_count": 28,
   "id": "ddd7a16f",
   "metadata": {},
   "outputs": [
    {
     "data": {
      "image/png": "[encoded data removed]",
      "text/plain": [
       "<Figure size 960x800 with 2 Axes>"
      ]
     },
     "metadata": {},
     "output_type": "display_data"
    }
   ],
   "source": [
    "plt.figure(figsize=(12, 10), dpi=80)\n",
    "sns.heatmap(\n",
    "    corr_abs_mean,\n",
    "    cmap='Set1',\n",
    "    center=0,\n",
    "    annot=True,\n",
    "    annot_kws={\n",
    "        'size': 12,\n",
    "        'weight': 'normal',\n",
    "        'color': '#253D24'\n",
    "    },\n",
    ")\n",
    "plt.show()"
   ]
  },
  {
   "cell_type": "code",
   "execution_count": 29,
   "id": "1c06b0f0",
   "metadata": {},
   "outputs": [
    {
     "data": {
      "text/plain": [
       "0.8990040775388479"
      ]
     },
     "execution_count": 29,
     "metadata": {},
     "output_type": "execute_result"
    }
   ],
   "source": [
    "np.sum(corr_abs_mean)-10"
   ]
  },
  {
   "cell_type": "code",
   "execution_count": 30,
   "id": "665a7f19",
   "metadata": {},
   "outputs": [
    {
     "data": {
      "image/png": "[encoded data removed]",
      "text/plain": [
       "<Figure size 960x800 with 2 Axes>"
      ]
     },
     "metadata": {},
     "output_type": "display_data"
    }
   ],
   "source": [
    "plt.figure(figsize=(12, 10), dpi=80)\n",
    "sns.heatmap(\n",
    "    corr_mean,\n",
    "    cmap='Set1',\n",
    "    center=0,\n",
    "    annot=True,\n",
    "    annot_kws={\n",
    "        'size': 12,\n",
    "        'weight': 'normal',\n",
    "        'color': '#253D24'\n",
    "    },\n",
    ")\n",
    "plt.show()"
   ]
  },
  {
   "cell_type": "code",
   "execution_count": 31,
   "id": "b7926d85",
   "metadata": {},
   "outputs": [
    {
     "data": {
      "image/png": "[encoded data removed]",
      "text/plain": [
       "<Figure size 960x800 with 2 Axes>"
      ]
     },
     "metadata": {},
     "output_type": "display_data"
    }
   ],
   "source": [
    "plt.figure(figsize=(12, 10), dpi=80)\n",
    "sns.heatmap(\n",
    "    corr_min,\n",
    "    cmap='Set1',\n",
    "    center=0,\n",
    "    annot=True,\n",
    "    annot_kws={\n",
    "        'size': 12,\n",
    "        'weight': 'normal',\n",
    "        'color': '#253D24'\n",
    "    },\n",
    ")\n",
    "plt.show()"
   ]
  },
  {
   "cell_type": "code",
   "execution_count": 32,
   "id": "5fd6d3f9",
   "metadata": {},
   "outputs": [
    {
     "data": {
      "image/png": "[encoded data removed]",
      "text/plain": [
       "<Figure size 960x800 with 2 Axes>"
      ]
     },
     "metadata": {},
     "output_type": "display_data"
    }
   ],
   "source": [
    "plt.figure(figsize=(12, 10), dpi=80)\n",
    "sns.heatmap(\n",
    "    corr_max,\n",
    "    cmap='Set1',\n",
    "    center=0,\n",
    "    annot=True,\n",
    "    annot_kws={\n",
    "        'size': 12,\n",
    "        'weight': 'normal',\n",
    "        'color': '#253D24'\n",
    "    },\n",
    ")\n",
    "plt.show()"
   ]
  },
  {
   "cell_type": "code",
   "execution_count": 33,
   "id": "eaebe29a",
   "metadata": {},
   "outputs": [],
   "source": [
    "np.save('FMNIST-normal-acc-label'+str(LABEL)+'-GridSearch.npy',acc_record)\n",
    "np.save('FMNIST-normal-radius-label'+str(LABEL)+'-GridSearch.npy',r_records)\n",
    "np.save('FMNIST-normal-radius2-label'+str(LABEL)+'-GridSearch.npy',r_records2)\n",
    "np.save('FMNIST-normal-radius-Grid-label'+str(LABEL)+'-GridSearch.npy',r_records_gs)\n",
    "np.save('FMNIST-normal-radius2-Grid-label'+str(LABEL)+'-GridSearch.npy',r_records_gs2)\n",
    "\n",
    "np.save('FMNIST-normal-value-Grid-label'+str(LABEL)+'-GridSearch.npy',value_records)\n",
    "np.save('FMNIST-normal-value2-Grid-label'+str(LABEL)+'-GridSearch.npy',value_records2)\n",
    "np.save('FMNIST-normal-corr-label'+str(LABEL)+'-GridSearch.npy',corr_whole)\n",
    "# only need to save because we only train netD\n",
    "torch.save(netD, 'Final_FMNIST_NetD-label'+str(LABEL)+'-GridSearch.pth')\n",
    "#torch.save(netV, 'MNIST_NetV-mode1-radius2-makeup.pth')\n",
    "#torch.save(netG, 'MNIST_NetG-mode1-radius2-makeup.pth')"
   ]
  },
  {
   "cell_type": "code",
   "execution_count": 34,
   "id": "5d2fe671",
   "metadata": {},
   "outputs": [
    {
     "data": {
      "text/plain": [
       "array([[8.60700000e-01, 7.19880000e-01, 7.33285000e-01, 7.58655000e-01,\n",
       "        7.49140000e-01, 6.46950000e-01, 4.29015000e-01, 2.26820000e-01,\n",
       "        1.21870000e-01, 1.13000000e-01, 1.07195000e-01, 0.00000000e+00,\n",
       "        0.00000000e+00, 0.00000000e+00, 0.00000000e+00, 0.00000000e+00,\n",
       "        0.00000000e+00, 0.00000000e+00, 0.00000000e+00, 0.00000000e+00],\n",
       "       [8.60700000e-01, 7.21600000e-01, 7.37600000e-01, 7.62300000e-01,\n",
       "        7.62300000e-01, 6.79700000e-01, 5.17300000e-01, 2.62500000e-01,\n",
       "        1.54400000e-01, 1.36100000e-01, 1.52700000e-01, 0.00000000e+00,\n",
       "        0.00000000e+00, 0.00000000e+00, 0.00000000e+00, 0.00000000e+00,\n",
       "        0.00000000e+00, 0.00000000e+00, 0.00000000e+00, 0.00000000e+00],\n",
       "       [8.60700000e-01, 7.17900000e-01, 7.29300000e-01, 7.54500000e-01,\n",
       "        7.35400000e-01, 6.11500000e-01, 3.86000000e-01, 1.78700000e-01,\n",
       "        8.88000000e-02, 8.41000000e-02, 8.06000000e-02, 0.00000000e+00,\n",
       "        0.00000000e+00, 0.00000000e+00, 0.00000000e+00, 0.00000000e+00,\n",
       "        0.00000000e+00, 0.00000000e+00, 0.00000000e+00, 0.00000000e+00],\n",
       "       [0.00000000e+00, 1.51260000e-06, 4.08727500e-06, 6.67347500e-06,\n",
       "        4.78614000e-05, 3.11555500e-04, 1.02982027e-03, 5.41323600e-04,\n",
       "        2.14303100e-04, 1.73011000e-04, 2.58509475e-04, 0.00000000e+00,\n",
       "        0.00000000e+00, 0.00000000e+00, 0.00000000e+00, 0.00000000e+00,\n",
       "        0.00000000e+00, 0.00000000e+00, 0.00000000e+00, 0.00000000e+00]])"
      ]
     },
     "execution_count": 34,
     "metadata": {},
     "output_type": "execute_result"
    }
   ],
   "source": [
    "acc_record"
   ]
  },
  {
   "cell_type": "code",
   "execution_count": null,
   "id": "a173f7fd",
   "metadata": {},
   "outputs": [],
   "source": []
  }
 ],
 "metadata": {
  "kernelspec": {
   "display_name": "Python 3 (ipykernel)",
   "language": "python",
   "name": "python3"
  },
  "language_info": {
   "codemirror_mode": {
    "name": "ipython",
    "version": 3
   },
   "file_extension": ".py",
   "mimetype": "text/x-python",
   "name": "python",
   "nbconvert_exporter": "python",
   "pygments_lexer": "ipython3",
   "version": "3.7.16"
  }
 },
 "nbformat": 4,
 "nbformat_minor": 5
}
