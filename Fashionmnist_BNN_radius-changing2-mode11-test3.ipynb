{
 "cells": [
  {
   "cell_type": "code",
   "execution_count": 1,
   "id": "95b64f9b",
   "metadata": {},
   "outputs": [],
   "source": [
    "# all codes come are changed based on LDR code.\n",
    "# 用添加噪声的数据进行训练\n",
    "import argparse\n",
    "import torch.optim as optim\n",
    "import os\n",
    "import yaml\n",
    "from mcrgan.default import _C as config\n",
    "from mcrgan.default import update_config\n",
    "import torch\n",
    "from mcrgan.trainer import MCRTrainer\n",
    "from mcrgan.datasets import get_dataloader\n",
    "from mcrgan.models import get_models\n",
    "from mcrgan.models import get_BNN_models\n",
    "from mcrgan.models import get_noise\n",
    "from mcrgan.models import get_noise_uniform\n",
    "from mcrgan.models import DiscriminatorMNIST\n",
    "from mcrgan.models import weights_init_mnist_model_noise\n",
    "\n",
    "import numpy as np\n",
    "import torch\n",
    "import argparse\n",
    "from mcrgan.datasets import get_dataloader\n",
    "from mcrgan.models import get_models\n",
    "from mcrgan.default import _C as config\n",
    "from mcrgan.default import update_config\n",
    "from utils.utils import sort_dataset, compute_accuracy, extract_features\n",
    "from sklearn.decomposition import PCA\n",
    "from sklearn.decomposition import TruncatedSVD\n",
    "import torchvision.transforms as transforms\n",
    "import torchvision.datasets as datasets\n",
    "from tqdm import tqdm\n",
    "import os\n",
    "from mcrgan.loss import MCRGANloss\n",
    "import random\n",
    "import time\n",
    "random.seed(0)"
   ]
  },
  {
   "cell_type": "code",
   "execution_count": 2,
   "id": "806b2e2c",
   "metadata": {},
   "outputs": [],
   "source": [
    "# 导入Fmnist数据集，进行对比\n",
    "device = torch.device('cuda' if torch.cuda.is_available() else \"cpu\")\n",
    "DATASET = 'FMNIST'\n",
    "ROOT    = 'pth/to/the/dataset'\n",
    "BATCH_SIZE = 2048\n",
    "WORKERS = 8\n",
    "DATA_SAMPLE = 50000\n",
    "LABEL = 0\n",
    "\n",
    "dataloader, dataset = get_dataloader(\n",
    "        data_name=DATASET,\n",
    "        root=ROOT,\n",
    "        batch_size=BATCH_SIZE,\n",
    "        num_workers=WORKERS)"
   ]
  },
  {
   "cell_type": "code",
   "execution_count": 3,
   "id": "08feb6b9",
   "metadata": {},
   "outputs": [],
   "source": [
    "import collections\n",
    "\n",
    "def get_netG(netD,netV,net_noise,radius=1):\n",
    "    models = [netD, netV,net_noise]\n",
    "    worker_state_dict = [x.state_dict() for x in models]\n",
    "    weight_keys = list(worker_state_dict[0].keys())\n",
    "    fed_state_dict = collections.OrderedDict()\n",
    "    for key in weight_keys:\n",
    "        fed_state_dict[key] = worker_state_dict[0][key] + radius*worker_state_dict[2][key]*torch.log(1+torch.exp(worker_state_dict[1][key]))\n",
    "    return fed_state_dict\n",
    "\n",
    "# new netG already optimized by adam and time learning rate, so we only using netG to update netV\n",
    "def update_netV(netV,netG,net_noise,fed_state_dict,radius=1):\n",
    "    models =[netV,netG,net_noise]\n",
    "    worker_state_dict = [x.state_dict() for x in models]\n",
    "    weight_keys = list(worker_state_dict[0].keys())\n",
    "    update_dict = collections.OrderedDict()\n",
    "    for key in weight_keys:\n",
    "        update_dict[key] = worker_state_dict[0][key] - (worker_state_dict[1][key]-fed_state_dict[key])*(worker_state_dict[2][key]*radius)/torch.log(1+torch.exp(-worker_state_dict[0][key]))\n",
    "    return update_dict\n",
    "\n",
    "# generate different distribution via gaussian init and uniform\n",
    "def get_cauchy_noise(netD,net_noise1,net_noise2):\n",
    "    models =[netD,net_noise1, net_noise2]\n",
    "    worker_state_dict = [x.state_dict() for x in models]\n",
    "    weight_keys = list(worker_state_dict[0].keys())\n",
    "    update_dict = collections.OrderedDict()\n",
    "    for key in weight_keys:\n",
    "        update_dict[key] = worker_state_dict[1][key] / worker_state_dict[2][key]\n",
    "    return update_dict\n",
    "        "
   ]
  },
  {
   "cell_type": "code",
   "execution_count": 4,
   "id": "bd8022df",
   "metadata": {},
   "outputs": [],
   "source": [
    "#models\n",
    "# train hyperparameters, batch norm not used var\n",
    "#store_Var = []\n",
    "import time\n",
    "from torch_mimicry.training import scheduler, logger, metric_log\n",
    "\n",
    "from test_acc import nearsub\n",
    "import numpy as np\n",
    "import torch\n",
    "import argparse\n",
    "from mcrgan.datasets import get_dataloader\n",
    "from mcrgan.models import get_models\n",
    "from mcrgan.default import _C as config\n",
    "from mcrgan.default import update_config\n",
    "from utils.utils import sort_dataset, compute_accuracy, extract_features2\n",
    "from sklearn.decomposition import PCA\n",
    "from sklearn.decomposition import TruncatedSVD\n",
    "import torchvision.transforms as transforms\n",
    "import torchvision.datasets as datasets\n",
    "from tqdm import tqdm\n",
    "import os\n",
    "\n",
    "start_time = time.time()\n",
    "#global_step = 0\n",
    "epsilon_noise = 0.1\n",
    "num_steps = 1000\n",
    "n_dis = 1\n",
    "n_dis2 = 1\n",
    "numclasses =10\n",
    "lr1 = 1e-3\n",
    "lr2 = 1e-3\n",
    "log_data = metric_log.MetricLog()\n",
    "data_time = time.time()\n",
    "iter_dataloader = iter(dataloader)\n",
    "data, label = next(iter_dataloader)\n",
    "data_time = time.time() - data_time\n",
    "real_cpu = data.to(device)\n",
    "real_label = label.clone().detach()\n",
    "\n",
    "netD, netG, netV = get_BNN_models(DATASET, device, LABEL)\n",
    "net_noise = get_noise(DATASET, device, LABEL)\n",
    "fed_state_dict = get_netG(netD,netV,net_noise)\n",
    "netG.load_state_dict(fed_state_dict)\n",
    "optD = optim.Adam(netD.parameters(), lr1, betas=(0.5, 0.999))\n",
    "optG = optim.Adam(netG.parameters(), lr2, betas=(0.5, 0.999))\n",
    "\n",
    "Acc_results_D = []\n",
    "Acc_results_G = []\n",
    "\n",
    "\n",
    "transform = transforms.Compose(\n",
    "            [transforms.Resize(32),\n",
    "             transforms.ToTensor(),\n",
    "             transforms.Normalize(0.5, 0.5)])\n",
    "\n",
    "trainset = datasets.FashionMNIST(root=ROOT, train=True, download=True, transform=transform)\n",
    "testset = datasets.FashionMNIST(root=ROOT, train=False, download=True, transform=transform)\n",
    "\n",
    "testloader = torch.utils.data.DataLoader(\n",
    "        testset, batch_size=DATA_SAMPLE, shuffle=False, num_workers=WORKERS)\n",
    "\n",
    "trainloader = torch.utils.data.DataLoader(\n",
    "        trainset, batch_size=DATA_SAMPLE, shuffle=False, num_workers=WORKERS)\n",
    "device = torch.device('cuda' if torch.cuda.is_available() else \"cpu\")\n",
    "n_comp = 10\n"
   ]
  },
  {
   "cell_type": "code",
   "execution_count": 5,
   "id": "dd6bcdad",
   "metadata": {},
   "outputs": [],
   "source": [
    "# golden search algorithm to determined the radius of the sample ball, due to traditional updating netV is too slow\n",
    "# no meaning for n_dis =2 for our case, just to have output for every update\n",
    "# sample too much would arise cuda memory error\n",
    "def gs_radius(radius1,radius2,netD,real_cpu,real_label,tor=1e-3,n_dis=2,lam=0.618,mode=1,gam3=1):\n",
    "    mcr_gan_loss=MCRGANloss(gam1=1., gam2=1., gam3=gam3, eps=0.5, numclasses=numclasses, mode=mode, rho=None)\n",
    "    #optG = optim.Adam(netG.parameters(), lr2, betas=(0.5, 0.999))\n",
    "    \n",
    "    Z = netD(real_cpu)\n",
    "    net_noise = get_noise(DATASET, device, LABEL)\n",
    "    err1 = 0\n",
    "    err2 = 1000\n",
    "    while abs(err1 - err2)> tor or abs(radius1-radius2)>tor:\n",
    "        a1 = radius2 - lam*(radius2-radius1)\n",
    "        a2 = radius1 + lam*(radius2-radius1)\n",
    "        fed_state_dict = get_netG(netD,netV,net_noise,a1)\n",
    "        netG.load_state_dict(fed_state_dict)\n",
    "        Z_bar = netG(real_cpu)\n",
    "        errG1, errG_EC1 = mcr_gan_loss(Z, Z_bar, real_label, n_dis2 - 1, n_dis2)\n",
    "        err1 = errG1\n",
    "        \n",
    "        fed_state_dict = get_netG(netD,netV,net_noise,a2)\n",
    "        netG.load_state_dict(fed_state_dict)\n",
    "        Z_bar = netG(real_cpu)\n",
    "        errG2, errG_EC2 = mcr_gan_loss(Z, Z_bar, real_label, n_dis2 - 1, n_dis2)\n",
    "        err2 = errG2\n",
    "        \n",
    "        if err1 > err2:\n",
    "            radius1 = a1\n",
    "            a1 = a2\n",
    "            err1 = err2\n",
    "            a2 = radius1 + lam*(radius2-radius1)\n",
    "            fed_state_dict = get_netG(netD,netV,net_noise,a2)\n",
    "            netG.load_state_dict(fed_state_dict)\n",
    "            Z_bar = netG(real_cpu)\n",
    "            errG2, errG_EC2 = mcr_gan_loss(Z, Z_bar, real_label, n_dis2 - 1, n_dis2)\n",
    "            err2 = errG2\n",
    "            #print('r1',radius1)\n",
    "            #print(errG2, errG_EC2)\n",
    "        else:\n",
    "            radius2 = a2\n",
    "            a2 = a1\n",
    "            a1 = radius2 - lam*(radius2-radius1)\n",
    "            fed_state_dict = get_netG(netD,netV,net_noise,a1)\n",
    "            netG.load_state_dict(fed_state_dict)\n",
    "            Z_bar = netG(real_cpu)\n",
    "            errG1, errG_EC1 = mcr_gan_loss(Z, Z_bar, real_label, n_dis2 - 1, n_dis2)\n",
    "            err1 = errG1\n",
    "            #print('r2',radius2)\n",
    "            #print(errG1, errG_EC1)\n",
    "         \n",
    "    return radius1,radius2\n",
    "\n",
    "\n",
    "def gs_radius2(radius1,radius2, netD,real_cpu,real_label,tor=1e-3,n_dis=2,lam=0.618,mode=1,gam3=1):\n",
    "    mcr_gan_loss=MCRGANloss(gam1=1., gam2=1., gam3=gam3, eps=0.5, numclasses=numclasses, mode=mode, rho=None)\n",
    "    #optG = optim.Adam(netG.parameters(), lr2, betas=(0.5, 0.999))\n",
    "    \n",
    "    Z = netD(real_cpu)\n",
    "    net_noise = get_noise(DATASET, device, LABEL)\n",
    "    net_noise1 = get_noise(DATASET, device, LABEL)\n",
    "    net_noise_cauchy = get_cauchy_noise(netD,net_noise,net_noise1)\n",
    "    net_noise.load_state_dict(net_noise_cauchy)\n",
    "    #net_noise = get_noise(DATASET, device, LABEL)\n",
    "    err1 = 0\n",
    "    err2 = 1000\n",
    "    while abs(err1 - err2)> tor or abs(radius1-radius2)>tor:\n",
    "        a1 = radius2 - lam*(radius2-radius1)\n",
    "        a2 = radius1 + lam*(radius2-radius1)\n",
    "        fed_state_dict = get_netG(netD,netV,net_noise,a1)\n",
    "        netG.load_state_dict(fed_state_dict)\n",
    "        Z_bar = netG(real_cpu)\n",
    "        errG1, errG_EC1 = mcr_gan_loss(Z, Z_bar, real_label, n_dis2 - 1, n_dis2)\n",
    "        err1 = errG1\n",
    "        \n",
    "        fed_state_dict = get_netG(netD,netV,net_noise,a2)\n",
    "        netG.load_state_dict(fed_state_dict)\n",
    "        Z_bar = netG(real_cpu)\n",
    "        errG2, errG_EC2 = mcr_gan_loss(Z, Z_bar, real_label, n_dis2 - 1, n_dis2)\n",
    "        err2 = errG2\n",
    "        \n",
    "        if err1 > err2:\n",
    "            radius1 = a1\n",
    "            a1 = a2\n",
    "            err1 = err2\n",
    "            a2 = radius1 + lam*(radius2-radius1)\n",
    "            fed_state_dict = get_netG(netD,netV,net_noise,a2)\n",
    "            netG.load_state_dict(fed_state_dict)\n",
    "            Z_bar = netG(real_cpu)\n",
    "            errG2, errG_EC2 = mcr_gan_loss(Z, Z_bar, real_label, n_dis2 - 1, n_dis2)\n",
    "            err2 = errG2\n",
    "            #print('r1',radius1)\n",
    "            #print(errG2, errG_EC2)\n",
    "        else:\n",
    "            radius2 = a2\n",
    "            a2 = a1\n",
    "            a1 = radius2 - lam*(radius2-radius1)\n",
    "            fed_state_dict = get_netG(netD,netV,net_noise,a1)\n",
    "            netG.load_state_dict(fed_state_dict)\n",
    "            Z_bar = netG(real_cpu)\n",
    "            errG1, errG_EC1 = mcr_gan_loss(Z, Z_bar, real_label, n_dis2 - 1, n_dis2)\n",
    "            err1 = errG1\n",
    "            #print('r2',radius2)\n",
    "            #print(errG1, errG_EC1)\n",
    "         \n",
    "    return radius1,radius2\n",
    "\n",
    "def gs_radius3(radius1,radius2, netD,real_cpu,real_label,tor=1e-3,n_dis=2,lam=0.618,mode=1,gam3=1):\n",
    "    mcr_gan_loss=MCRGANloss(gam1=1., gam2=1., gam3=gam3, eps=0.5, numclasses=numclasses, mode=mode, rho=None)\n",
    "    #optG = optim.Adam(netG.parameters(), lr2, betas=(0.5, 0.999))\n",
    "    \n",
    "    Z = netD(real_cpu)\n",
    "    net_noise = get_noise_uniform(DATASET, device, LABEL)\n",
    "\n",
    "    #net_noise = get_noise(DATASET, device, LABEL)\n",
    "    err1 = 0\n",
    "    err2 = 1000\n",
    "    while abs(err1 - err2)> tor or abs(radius1-radius2)>tor:\n",
    "        a1 = radius2 - lam*(radius2-radius1)\n",
    "        a2 = radius1 + lam*(radius2-radius1)\n",
    "        fed_state_dict = get_netG(netD,netV,net_noise,a1)\n",
    "        netG.load_state_dict(fed_state_dict)\n",
    "        Z_bar = netG(real_cpu)\n",
    "        errG1, errG_EC1 = mcr_gan_loss(Z, Z_bar, real_label, n_dis2 - 1, n_dis2)\n",
    "        err1 = errG1\n",
    "        \n",
    "        fed_state_dict = get_netG(netD,netV,net_noise,a2)\n",
    "        netG.load_state_dict(fed_state_dict)\n",
    "        Z_bar = netG(real_cpu)\n",
    "        errG2, errG_EC2 = mcr_gan_loss(Z, Z_bar, real_label, n_dis2 - 1, n_dis2)\n",
    "        err2 = errG2\n",
    "        \n",
    "        if err1 > err2:\n",
    "            radius1 = a1\n",
    "            a1 = a2\n",
    "            err1 = err2\n",
    "            a2 = radius1 + lam*(radius2-radius1)\n",
    "            fed_state_dict = get_netG(netD,netV,net_noise,a2)\n",
    "            netG.load_state_dict(fed_state_dict)\n",
    "            Z_bar = netG(real_cpu)\n",
    "            errG2, errG_EC2 = mcr_gan_loss(Z, Z_bar, real_label, n_dis2 - 1, n_dis2)\n",
    "            err2 = errG2\n",
    "            #print('r1',radius1)\n",
    "            #print(errG2, errG_EC2)\n",
    "        else:\n",
    "            radius2 = a2\n",
    "            a2 = a1\n",
    "            a1 = radius2 - lam*(radius2-radius1)\n",
    "            fed_state_dict = get_netG(netD,netV,net_noise,a1)\n",
    "            netG.load_state_dict(fed_state_dict)\n",
    "            Z_bar = netG(real_cpu)\n",
    "            errG1, errG_EC1 = mcr_gan_loss(Z, Z_bar, real_label, n_dis2 - 1, n_dis2)\n",
    "            err1 = errG1\n",
    "            #print('r2',radius2)\n",
    "            #print(errG1, errG_EC1)\n",
    "         \n",
    "    return radius1,radius2"
   ]
  },
  {
   "cell_type": "code",
   "execution_count": 6,
   "id": "15cb67aa",
   "metadata": {},
   "outputs": [
    {
     "name": "stderr",
     "output_type": "stream",
     "text": [
      "extracting all features from dataset: 100%|██████████████████████████████████████████████| 1/1 [00:03<00:00,  3.93s/it]\n",
      "extracting all features from dataset: 100%|██████████████████████████████████████████████| 1/1 [00:01<00:00,  1.66s/it]\n"
     ]
    },
    {
     "name": "stdout",
     "output_type": "stream",
     "text": [
      "----------------------------\n",
      "Train_z, Test_z\n",
      "PCA: 0.8293\n",
      "SVD: 0.8224\n",
      "NetD, Acc at first 0.8394\n"
     ]
    },
    {
     "name": "stderr",
     "output_type": "stream",
     "text": [
      "extracting all features from dataset: 100%|██████████████████████████████████████████████| 2/2 [00:04<00:00,  2.02s/it]\n",
      "extracting all features from dataset: 100%|██████████████████████████████████████████████| 1/1 [00:01<00:00,  1.49s/it]\n"
     ]
    },
    {
     "name": "stdout",
     "output_type": "stream",
     "text": [
      "----------------------------\n",
      "Train_z, Test_z\n",
      "PCA: 0.8089999999999999\n",
      "SVD: 0.8044\n",
      "NetG, Acc at first 0.8476\n"
     ]
    }
   ],
   "source": [
    "#acc at first for NetD\n",
    "train_X, train_Z, train_X_bar, train_Z_bar, train_labels = extract_features2(testloader, netD, netG)\n",
    "\n",
    "test_X, test_Z, test_X_bar, test_Z_bar, test_labels = extract_features2(testloader, netD, netG)\n",
    "\n",
    "\n",
    "print(\"----------------------------\")\n",
    "print(\"Train_z, Test_z\")\n",
    "nearsub(n_comp, train_Z, train_labels, test_Z, test_labels)\n",
    "\n",
    "#acc at first for NetD\n",
    "from sklearn.neighbors import KNeighborsClassifier \n",
    "knn= KNeighborsClassifier(n_neighbors=10) \n",
    "\n",
    "knn.fit(train_Z,train_labels) \n",
    "knn.score(test_Z,test_labels) \n",
    " \n",
    "y_predict = knn.predict(test_Z) \n",
    "\n",
    "count =0\n",
    "for k in range(10000):\n",
    "    if y_predict[k] == test_labels[k]:\n",
    "        count +=1\n",
    "print('NetD, Acc at first',count/10000)\n",
    "Acc_results_D.append(count/10000)\n",
    "\n",
    "#acc at first for NetG\n",
    "train_X, train_Z, train_X_bar, train_Z_bar, train_labels = extract_features2(trainloader, netG, netD)\n",
    "\n",
    "test_X, test_Z, test_X_bar, test_Z_bar, test_labels = extract_features2(testloader, netG, netD)\n",
    "\n",
    "print(\"----------------------------\")\n",
    "print(\"Train_z, Test_z\")\n",
    "nearsub(n_comp, train_Z, train_labels, test_Z, test_labels)\n",
    "\n",
    "\n",
    "#acc at first\n",
    "from sklearn.neighbors import KNeighborsClassifier \n",
    "knn= KNeighborsClassifier(n_neighbors=10) \n",
    "\n",
    "knn.fit(train_Z,train_labels) \n",
    "knn.score(test_Z,test_labels) \n",
    " \n",
    "y_predict = knn.predict(test_Z) \n",
    "\n",
    "count =0\n",
    "for k in range(10000):\n",
    "    if y_predict[k] == test_labels[k]:\n",
    "        count +=1\n",
    "print('NetG, Acc at first',count/10000)\n",
    "Acc_results_G.append(count/10000)"
   ]
  },
  {
   "cell_type": "code",
   "execution_count": 7,
   "id": "e0d6cae2",
   "metadata": {},
   "outputs": [
    {
     "name": "stdout",
     "output_type": "stream",
     "text": [
      "1.653596263293532\n",
      "tensor(-16.6684, device='cuda:0', grad_fn=<NegBackward0>) [tensor(-6.4344, device='cuda:0', grad_fn=<NegBackward0>), tensor(-6.5915, device='cuda:0', grad_fn=<NegBackward0>), tensor(-37.1868, device='cuda:0', grad_fn=<AddBackward0>)]\n",
      "55.85819182341144\n",
      "tensor(-12.7055, device='cuda:0', grad_fn=<NegBackward0>) [tensor(-2.9128, device='cuda:0', grad_fn=<NegBackward0>), tensor(-6.1868, device='cuda:0', grad_fn=<NegBackward0>), tensor(-35.8131, device='cuda:0', grad_fn=<AddBackward0>)]\n",
      "17.609105900247496\n",
      "tensor(-12.3337, device='cuda:0', grad_fn=<NegBackward0>) [tensor(-2.9128, device='cuda:0', grad_fn=<NegBackward0>), tensor(-5.8202, device='cuda:0', grad_fn=<NegBackward0>), tensor(-35.6238, device='cuda:0', grad_fn=<AddBackward0>)]\n",
      "1.9693679158555655\n",
      "tensor(-17.0886, device='cuda:0', grad_fn=<NegBackward0>) [tensor(-7.3440, device='cuda:0', grad_fn=<NegBackward0>), tensor(-6.1937, device='cuda:0', grad_fn=<NegBackward0>), tensor(-33.8425, device='cuda:0', grad_fn=<AddBackward0>)]\n",
      "39.10447611833945\n",
      "tensor(-17.8816, device='cuda:0', grad_fn=<NegBackward0>) [tensor(-7.3440, device='cuda:0', grad_fn=<NegBackward0>), tensor(-6.6809, device='cuda:0', grad_fn=<NegBackward0>), tensor(-46.3059, device='cuda:0', grad_fn=<AddBackward0>)]\n",
      "1.068932255120621\n",
      "tensor(-19.8901, device='cuda:0', grad_fn=<NegBackward0>) [tensor(-8.9164, device='cuda:0', grad_fn=<NegBackward0>), tensor(-7.9704, device='cuda:0', grad_fn=<NegBackward0>), tensor(-19.1534, device='cuda:0', grad_fn=<AddBackward0>)]\n",
      "18.247225042989434\n",
      "tensor(-18.3344, device='cuda:0', grad_fn=<NegBackward0>) [tensor(-8.9164, device='cuda:0', grad_fn=<NegBackward0>), tensor(-5.5661, device='cuda:0', grad_fn=<NegBackward0>), tensor(-46.0809, device='cuda:0', grad_fn=<AddBackward0>)]\n",
      "1.3243323953254176\n",
      "tensor(-22.1786, device='cuda:0', grad_fn=<NegBackward0>) [tensor(-9.6083, device='cuda:0', grad_fn=<NegBackward0>), tensor(-9.3424, device='cuda:0', grad_fn=<NegBackward0>), tensor(-24.2246, device='cuda:0', grad_fn=<AddBackward0>)]\n",
      "9.592802869477282\n",
      "tensor(-19.1574, device='cuda:0', grad_fn=<NegBackward0>) [tensor(-9.6083, device='cuda:0', grad_fn=<NegBackward0>), tensor(-5.6826, device='cuda:0', grad_fn=<NegBackward0>), tensor(-46.7755, device='cuda:0', grad_fn=<AddBackward0>)]\n",
      "0.9150633875826496\n",
      "tensor(-28.1113, device='cuda:0', grad_fn=<NegBackward0>) [tensor(-12.8749, device='cuda:0', grad_fn=<NegBackward0>), tensor(-12.3170, device='cuda:0', grad_fn=<NegBackward0>), tensor(-17.5313, device='cuda:0', grad_fn=<AddBackward0>)]\n",
      "1.049332746349577\n",
      "tensor(-28.3545, device='cuda:0', grad_fn=<NegBackward0>) [tensor(-12.8749, device='cuda:0', grad_fn=<NegBackward0>), tensor(-12.2659, device='cuda:0', grad_fn=<NegBackward0>), tensor(-23.8716, device='cuda:0', grad_fn=<AddBackward0>)]\n",
      "0.7693179506641119\n",
      "tensor(-30.7923, device='cuda:0', grad_fn=<NegBackward0>) [tensor(-14.3842, device='cuda:0', grad_fn=<NegBackward0>), tensor(-13.5087, device='cuda:0', grad_fn=<NegBackward0>), tensor(-17.1616, device='cuda:0', grad_fn=<AddBackward0>)]\n",
      "0.7624858157664572\n",
      "tensor(-30.8651, device='cuda:0', grad_fn=<NegBackward0>) [tensor(-14.3842, device='cuda:0', grad_fn=<NegBackward0>), tensor(-13.5950, device='cuda:0', grad_fn=<NegBackward0>), tensor(-16.9190, device='cuda:0', grad_fn=<AddBackward0>)]\n",
      "0.7120519532433397\n",
      "tensor(-33.3673, device='cuda:0', grad_fn=<NegBackward0>) [tensor(-15.7036, device='cuda:0', grad_fn=<NegBackward0>), tensor(-14.9574, device='cuda:0', grad_fn=<NegBackward0>), tensor(-13.9731, device='cuda:0', grad_fn=<AddBackward0>)]\n",
      "0.7983241763305862\n",
      "tensor(-33.8417, device='cuda:0', grad_fn=<NegBackward0>) [tensor(-15.7036, device='cuda:0', grad_fn=<NegBackward0>), tensor(-15.2110, device='cuda:0', grad_fn=<NegBackward0>), tensor(-17.6721, device='cuda:0', grad_fn=<AddBackward0>)]\n",
      "0.5537503685785106\n",
      "tensor(-36.0266, device='cuda:0', grad_fn=<NegBackward0>) [tensor(-17.1453, device='cuda:0', grad_fn=<NegBackward0>), tensor(-16.2902, device='cuda:0', grad_fn=<NegBackward0>), tensor(-12.3436, device='cuda:0', grad_fn=<AddBackward0>)]\n",
      "0.5772984090505414\n",
      "tensor(-36.0604, device='cuda:0', grad_fn=<NegBackward0>) [tensor(-17.1453, device='cuda:0', grad_fn=<NegBackward0>), tensor(-16.3363, device='cuda:0', grad_fn=<NegBackward0>), tensor(-12.1806, device='cuda:0', grad_fn=<AddBackward0>)]\n",
      "0.6303144039440526\n",
      "tensor(-36.0159, device='cuda:0', grad_fn=<NegBackward0>) [tensor(-17.0651, device='cuda:0', grad_fn=<NegBackward0>), tensor(-16.4092, device='cuda:0', grad_fn=<NegBackward0>), tensor(-11.6989, device='cuda:0', grad_fn=<AddBackward0>)]\n",
      "0.6084924234749628\n",
      "tensor(-35.9063, device='cuda:0', grad_fn=<NegBackward0>) [tensor(-17.0651, device='cuda:0', grad_fn=<NegBackward0>), tensor(-16.3253, device='cuda:0', grad_fn=<NegBackward0>), tensor(-11.3778, device='cuda:0', grad_fn=<AddBackward0>)]\n",
      "0.6182642025055377\n",
      "tensor(-38.8275, device='cuda:0', grad_fn=<NegBackward0>) [tensor(-18.5565, device='cuda:0', grad_fn=<NegBackward0>), tensor(-17.6615, device='cuda:0', grad_fn=<NegBackward0>), tensor(-12.5923, device='cuda:0', grad_fn=<AddBackward0>)]\n",
      "0.617428663364435\n",
      "tensor(-38.7342, device='cuda:0', grad_fn=<NegBackward0>) [tensor(-18.5565, device='cuda:0', grad_fn=<NegBackward0>), tensor(-17.6006, device='cuda:0', grad_fn=<NegBackward0>), tensor(-12.1585, device='cuda:0', grad_fn=<AddBackward0>)]\n",
      "0.6021577071239849\n",
      "tensor(-40.6570, device='cuda:0', grad_fn=<NegBackward0>) [tensor(-19.4834, device='cuda:0', grad_fn=<NegBackward0>), tensor(-18.5294, device='cuda:0', grad_fn=<NegBackward0>), tensor(-13.0713, device='cuda:0', grad_fn=<AddBackward0>)]\n",
      "0.7003659579698848\n",
      "tensor(-40.5532, device='cuda:0', grad_fn=<NegBackward0>) [tensor(-19.4834, device='cuda:0', grad_fn=<NegBackward0>), tensor(-18.2790, device='cuda:0', grad_fn=<NegBackward0>), tensor(-15.2925, device='cuda:0', grad_fn=<AddBackward0>)]\n",
      "0.5852377563369315\n",
      "tensor(-42.3430, device='cuda:0', grad_fn=<NegBackward0>) [tensor(-20.3418, device='cuda:0', grad_fn=<NegBackward0>), tensor(-19.5160, device='cuda:0', grad_fn=<NegBackward0>), tensor(-11.0037, device='cuda:0', grad_fn=<AddBackward0>)]\n",
      "0.5489228574007202\n",
      "tensor(-42.1406, device='cuda:0', grad_fn=<NegBackward0>) [tensor(-20.3418, device='cuda:0', grad_fn=<NegBackward0>), tensor(-19.4398, device='cuda:0', grad_fn=<NegBackward0>), tensor(-9.5807, device='cuda:0', grad_fn=<AddBackward0>)]\n",
      "0.5947135346191872\n",
      "tensor(-43.6535, device='cuda:0', grad_fn=<NegBackward0>) [tensor(-21.1010, device='cuda:0', grad_fn=<NegBackward0>), tensor(-20.0896, device='cuda:0', grad_fn=<NegBackward0>), tensor(-10.7381, device='cuda:0', grad_fn=<AddBackward0>)]\n",
      "0.5658534097505887\n",
      "tensor(-43.5638, device='cuda:0', grad_fn=<NegBackward0>) [tensor(-21.1010, device='cuda:0', grad_fn=<NegBackward0>), tensor(-20.1089, device='cuda:0', grad_fn=<NegBackward0>), tensor(-9.5266, device='cuda:0', grad_fn=<AddBackward0>)]\n",
      "0.5579748247893955\n",
      "tensor(-45.8253, device='cuda:0', grad_fn=<NegBackward0>) [tensor(-22.1601, device='cuda:0', grad_fn=<NegBackward0>), tensor(-21.2682, device='cuda:0', grad_fn=<NegBackward0>), tensor(-9.9901, device='cuda:0', grad_fn=<AddBackward0>)]\n",
      "0.4673755348828929\n",
      "tensor(-45.7392, device='cuda:0', grad_fn=<NegBackward0>) [tensor(-22.1601, device='cuda:0', grad_fn=<NegBackward0>), tensor(-21.5637, device='cuda:0', grad_fn=<NegBackward0>), tensor(-6.5037, device='cuda:0', grad_fn=<AddBackward0>)]\n",
      "0.4980067250298854\n",
      "tensor(-45.1469, device='cuda:0', grad_fn=<NegBackward0>) [tensor(-21.9370, device='cuda:0', grad_fn=<NegBackward0>), tensor(-21.1142, device='cuda:0', grad_fn=<NegBackward0>), tensor(-7.1305, device='cuda:0', grad_fn=<AddBackward0>)]\n",
      "0.4925018153444983\n",
      "tensor(-45.1160, device='cuda:0', grad_fn=<NegBackward0>) [tensor(-21.9370, device='cuda:0', grad_fn=<NegBackward0>), tensor(-21.0450, device='cuda:0', grad_fn=<NegBackward0>), tensor(-7.4480, device='cuda:0', grad_fn=<AddBackward0>)]\n",
      "0.5570017404054532\n",
      "tensor(-46.3213, device='cuda:0', grad_fn=<NegBackward0>) [tensor(-22.4574, device='cuda:0', grad_fn=<NegBackward0>), tensor(-21.5615, device='cuda:0', grad_fn=<NegBackward0>), tensor(-8.9986, device='cuda:0', grad_fn=<AddBackward0>)]\n",
      "0.5022293053127375\n",
      "tensor(-46.4301, device='cuda:0', grad_fn=<NegBackward0>) [tensor(-22.4574, device='cuda:0', grad_fn=<NegBackward0>), tensor(-21.9126, device='cuda:0', grad_fn=<NegBackward0>), tensor(-6.8473, device='cuda:0', grad_fn=<AddBackward0>)]\n"
     ]
    },
    {
     "name": "stdout",
     "output_type": "stream",
     "text": [
      "0.49040556476338193\n",
      "tensor(-47.8240, device='cuda:0', grad_fn=<NegBackward0>) [tensor(-23.1610, device='cuda:0', grad_fn=<NegBackward0>), tensor(-22.5695, device='cuda:0', grad_fn=<NegBackward0>), tensor(-7.1131, device='cuda:0', grad_fn=<AddBackward0>)]\n",
      "0.4633517437304587\n",
      "tensor(-47.6583, device='cuda:0', grad_fn=<NegBackward0>) [tensor(-23.1610, device='cuda:0', grad_fn=<NegBackward0>), tensor(-22.4716, device='cuda:0', grad_fn=<NegBackward0>), tensor(-6.5811, device='cuda:0', grad_fn=<AddBackward0>)]\n",
      "0.5219619763232969\n",
      "tensor(-48.4426, device='cuda:0', grad_fn=<NegBackward0>) [tensor(-23.5065, device='cuda:0', grad_fn=<NegBackward0>), tensor(-22.7911, device='cuda:0', grad_fn=<NegBackward0>), tensor(-7.5410, device='cuda:0', grad_fn=<AddBackward0>)]\n",
      "0.5179665897450073\n",
      "tensor(-48.3030, device='cuda:0', grad_fn=<NegBackward0>) [tensor(-23.5065, device='cuda:0', grad_fn=<NegBackward0>), tensor(-22.7151, device='cuda:0', grad_fn=<NegBackward0>), tensor(-7.0161, device='cuda:0', grad_fn=<AddBackward0>)]\n",
      "0.5105386405470416\n",
      "tensor(-49.8836, device='cuda:0', grad_fn=<NegBackward0>) [tensor(-24.2781, device='cuda:0', grad_fn=<NegBackward0>), tensor(-23.4754, device='cuda:0', grad_fn=<NegBackward0>), tensor(-7.4161, device='cuda:0', grad_fn=<AddBackward0>)]\n",
      "0.47622760617853327\n",
      "tensor(-50.1185, device='cuda:0', grad_fn=<NegBackward0>) [tensor(-24.2781, device='cuda:0', grad_fn=<NegBackward0>), tensor(-23.8407, device='cuda:0', grad_fn=<NegBackward0>), tensor(-6.3865, device='cuda:0', grad_fn=<AddBackward0>)]\n",
      "0.4734010263212929\n",
      "tensor(-50.9000, device='cuda:0', grad_fn=<NegBackward0>) [tensor(-24.7763, device='cuda:0', grad_fn=<NegBackward0>), tensor(-24.1428, device='cuda:0', grad_fn=<NegBackward0>), tensor(-6.2489, device='cuda:0', grad_fn=<AddBackward0>)]\n",
      "0.5127751713583807\n",
      "tensor(-50.8184, device='cuda:0', grad_fn=<NegBackward0>) [tensor(-24.7763, device='cuda:0', grad_fn=<NegBackward0>), tensor(-23.9288, device='cuda:0', grad_fn=<NegBackward0>), tensor(-7.2754, device='cuda:0', grad_fn=<AddBackward0>)]\n",
      "0.48510324034656305\n",
      "tensor(-51.5391, device='cuda:0', grad_fn=<NegBackward0>) [tensor(-25.1042, device='cuda:0', grad_fn=<NegBackward0>), tensor(-24.3789, device='cuda:0', grad_fn=<NegBackward0>), tensor(-6.8146, device='cuda:0', grad_fn=<AddBackward0>)]\n",
      "0.48374328739399824\n",
      "tensor(-51.5097, device='cuda:0', grad_fn=<NegBackward0>) [tensor(-25.1042, device='cuda:0', grad_fn=<NegBackward0>), tensor(-24.3643, device='cuda:0', grad_fn=<NegBackward0>), tensor(-6.6995, device='cuda:0', grad_fn=<AddBackward0>)]\n",
      "0.4761100425023211\n",
      "tensor(-51.7110, device='cuda:0', grad_fn=<NegBackward0>) [tensor(-25.2753, device='cuda:0', grad_fn=<NegBackward0>), tensor(-24.4540, device='cuda:0', grad_fn=<NegBackward0>), tensor(-6.2552, device='cuda:0', grad_fn=<AddBackward0>)]\n",
      "0.4938586749388115\n",
      "tensor(-51.5616, device='cuda:0', grad_fn=<NegBackward0>) [tensor(-25.2753, device='cuda:0', grad_fn=<NegBackward0>), tensor(-24.2391, device='cuda:0', grad_fn=<NegBackward0>), tensor(-6.7461, device='cuda:0', grad_fn=<AddBackward0>)]\n",
      "0.4756316001910571\n",
      "tensor(-52.4624, device='cuda:0', grad_fn=<NegBackward0>) [tensor(-25.6093, device='cuda:0', grad_fn=<NegBackward0>), tensor(-24.9294, device='cuda:0', grad_fn=<NegBackward0>), tensor(-5.8462, device='cuda:0', grad_fn=<AddBackward0>)]\n",
      "0.49524440571929507\n",
      "tensor(-52.3018, device='cuda:0', grad_fn=<NegBackward0>) [tensor(-25.6093, device='cuda:0', grad_fn=<NegBackward0>), tensor(-24.6063, device='cuda:0', grad_fn=<NegBackward0>), tensor(-7.0539, device='cuda:0', grad_fn=<AddBackward0>)]\n",
      "0.49939688194576426\n",
      "tensor(-53.5541, device='cuda:0', grad_fn=<NegBackward0>) [tensor(-26.2244, device='cuda:0', grad_fn=<NegBackward0>), tensor(-25.2560, device='cuda:0', grad_fn=<NegBackward0>), tensor(-6.9542, device='cuda:0', grad_fn=<AddBackward0>)]\n",
      "0.47112813784547886\n",
      "tensor(-53.5695, device='cuda:0', grad_fn=<NegBackward0>) [tensor(-26.2244, device='cuda:0', grad_fn=<NegBackward0>), tensor(-25.3736, device='cuda:0', grad_fn=<NegBackward0>), tensor(-6.1814, device='cuda:0', grad_fn=<AddBackward0>)]\n",
      "0.4975313785888848\n",
      "tensor(-53.8576, device='cuda:0', grad_fn=<NegBackward0>) [tensor(-26.3631, device='cuda:0', grad_fn=<NegBackward0>), tensor(-25.4729, device='cuda:0', grad_fn=<NegBackward0>), tensor(-6.5503, device='cuda:0', grad_fn=<AddBackward0>)]\n",
      "0.5051005324387975\n",
      "tensor(-53.5670, device='cuda:0', grad_fn=<NegBackward0>) [tensor(-26.3631, device='cuda:0', grad_fn=<NegBackward0>), tensor(-25.1144, device='cuda:0', grad_fn=<NegBackward0>), tensor(-7.0802, device='cuda:0', grad_fn=<AddBackward0>)]\n",
      "0.462559025828196\n",
      "tensor(-54.7199, device='cuda:0', grad_fn=<NegBackward0>) [tensor(-26.7404, device='cuda:0', grad_fn=<NegBackward0>), tensor(-26.0640, device='cuda:0', grad_fn=<NegBackward0>), tensor(-5.7905, device='cuda:0', grad_fn=<AddBackward0>)]\n",
      "0.4874015470539578\n",
      "tensor(-54.7157, device='cuda:0', grad_fn=<NegBackward0>) [tensor(-26.7404, device='cuda:0', grad_fn=<NegBackward0>), tensor(-25.9154, device='cuda:0', grad_fn=<NegBackward0>), tensor(-6.8452, device='cuda:0', grad_fn=<AddBackward0>)]\n",
      "0.47596167727922956\n",
      "tensor(-55.7658, device='cuda:0', grad_fn=<NegBackward0>) [tensor(-27.3547, device='cuda:0', grad_fn=<NegBackward0>), tensor(-26.4065, device='cuda:0', grad_fn=<NegBackward0>), tensor(-6.4229, device='cuda:0', grad_fn=<AddBackward0>)]\n",
      "0.43939606043145735\n",
      "tensor(-55.7773, device='cuda:0', grad_fn=<NegBackward0>) [tensor(-27.3547, device='cuda:0', grad_fn=<NegBackward0>), tensor(-26.6408, device='cuda:0', grad_fn=<NegBackward0>), tensor(-4.9404, device='cuda:0', grad_fn=<AddBackward0>)]\n",
      "0.4368700580590423\n",
      "tensor(-55.6423, device='cuda:0', grad_fn=<NegBackward0>) [tensor(-27.2351, device='cuda:0', grad_fn=<NegBackward0>), tensor(-26.6063, device='cuda:0', grad_fn=<NegBackward0>), tensor(-5.0551, device='cuda:0', grad_fn=<AddBackward0>)]\n",
      "0.46723022843351775\n",
      "tensor(-55.3848, device='cuda:0', grad_fn=<NegBackward0>) [tensor(-27.2351, device='cuda:0', grad_fn=<NegBackward0>), tensor(-26.2288, device='cuda:0', grad_fn=<NegBackward0>), tensor(-5.8268, device='cuda:0', grad_fn=<AddBackward0>)]\n",
      "0.4696990737650025\n",
      "tensor(-55.6468, device='cuda:0', grad_fn=<NegBackward0>) [tensor(-27.2954, device='cuda:0', grad_fn=<NegBackward0>), tensor(-26.4167, device='cuda:0', grad_fn=<NegBackward0>), tensor(-5.9217, device='cuda:0', grad_fn=<AddBackward0>)]\n",
      "0.4762017658118284\n",
      "tensor(-55.6936, device='cuda:0', grad_fn=<NegBackward0>) [tensor(-27.2954, device='cuda:0', grad_fn=<NegBackward0>), tensor(-26.4413, device='cuda:0', grad_fn=<NegBackward0>), tensor(-6.0771, device='cuda:0', grad_fn=<AddBackward0>)]\n",
      "0.43826842879803357\n",
      "tensor(-57.5237, device='cuda:0', grad_fn=<NegBackward0>) [tensor(-28.2576, device='cuda:0', grad_fn=<NegBackward0>), tensor(-27.4909, device='cuda:0', grad_fn=<NegBackward0>), tensor(-4.9017, device='cuda:0', grad_fn=<AddBackward0>)]\n",
      "0.43559509953926145\n",
      "tensor(-57.5603, device='cuda:0', grad_fn=<NegBackward0>) [tensor(-28.2576, device='cuda:0', grad_fn=<NegBackward0>), tensor(-27.5287, device='cuda:0', grad_fn=<NegBackward0>), tensor(-4.8945, device='cuda:0', grad_fn=<AddBackward0>)]\n",
      "0.41776763105709064\n",
      "tensor(-57.3691, device='cuda:0', grad_fn=<NegBackward0>) [tensor(-28.1462, device='cuda:0', grad_fn=<NegBackward0>), tensor(-27.5015, device='cuda:0', grad_fn=<NegBackward0>), tensor(-4.5924, device='cuda:0', grad_fn=<AddBackward0>)]\n",
      "0.44111334756521425\n",
      "tensor(-57.3640, device='cuda:0', grad_fn=<NegBackward0>) [tensor(-28.1462, device='cuda:0', grad_fn=<NegBackward0>), tensor(-27.4067, device='cuda:0', grad_fn=<NegBackward0>), tensor(-5.1173, device='cuda:0', grad_fn=<AddBackward0>)]\n",
      "0.47422093178178093\n",
      "tensor(-58.2357, device='cuda:0', grad_fn=<NegBackward0>) [tensor(-28.5018, device='cuda:0', grad_fn=<NegBackward0>), tensor(-27.7703, device='cuda:0', grad_fn=<NegBackward0>), tensor(-6.1247, device='cuda:0', grad_fn=<AddBackward0>)]\n",
      "0.5195209728307114\n",
      "tensor(-58.0793, device='cuda:0', grad_fn=<NegBackward0>) [tensor(-28.5018, device='cuda:0', grad_fn=<NegBackward0>), tensor(-27.5188, device='cuda:0', grad_fn=<NegBackward0>), tensor(-6.8364, device='cuda:0', grad_fn=<AddBackward0>)]\n",
      "0.45344351443368935\n",
      "tensor(-59.0165, device='cuda:0', grad_fn=<NegBackward0>) [tensor(-28.9465, device='cuda:0', grad_fn=<NegBackward0>), tensor(-28.2268, device='cuda:0', grad_fn=<NegBackward0>), tensor(-5.3166, device='cuda:0', grad_fn=<AddBackward0>)]\n"
     ]
    },
    {
     "name": "stdout",
     "output_type": "stream",
     "text": [
      "0.46860450558545147\n",
      "tensor(-59.1896, device='cuda:0', grad_fn=<NegBackward0>) [tensor(-28.9465, device='cuda:0', grad_fn=<NegBackward0>), tensor(-28.2868, device='cuda:0', grad_fn=<NegBackward0>), tensor(-6.0731, device='cuda:0', grad_fn=<AddBackward0>)]\n",
      "0.4602013187006757\n",
      "tensor(-59.6464, device='cuda:0', grad_fn=<NegBackward0>) [tensor(-29.2663, device='cuda:0', grad_fn=<NegBackward0>), tensor(-28.4899, device='cuda:0', grad_fn=<NegBackward0>), tensor(-5.6207, device='cuda:0', grad_fn=<AddBackward0>)]\n",
      "0.45841497035516765\n",
      "tensor(-59.3890, device='cuda:0', grad_fn=<NegBackward0>) [tensor(-29.2663, device='cuda:0', grad_fn=<NegBackward0>), tensor(-28.2011, device='cuda:0', grad_fn=<NegBackward0>), tensor(-5.8316, device='cuda:0', grad_fn=<AddBackward0>)]\n",
      "0.43263864084975406\n",
      "tensor(-59.8825, device='cuda:0', grad_fn=<NegBackward0>) [tensor(-29.5033, device='cuda:0', grad_fn=<NegBackward0>), tensor(-28.6304, device='cuda:0', grad_fn=<NegBackward0>), tensor(-4.7478, device='cuda:0', grad_fn=<AddBackward0>)]\n",
      "0.42485282793181095\n",
      "tensor(-60.0519, device='cuda:0', grad_fn=<NegBackward0>) [tensor(-29.5033, device='cuda:0', grad_fn=<NegBackward0>), tensor(-28.8105, device='cuda:0', grad_fn=<NegBackward0>), tensor(-4.6867, device='cuda:0', grad_fn=<AddBackward0>)]\n",
      "0.4026460368336811\n",
      "tensor(-59.4830, device='cuda:0', grad_fn=<NegBackward0>) [tensor(-29.3246, device='cuda:0', grad_fn=<NegBackward0>), tensor(-28.5307, device='cuda:0', grad_fn=<NegBackward0>), tensor(-4.0923, device='cuda:0', grad_fn=<AddBackward0>)]\n",
      "0.4566185785189275\n",
      "tensor(-59.6609, device='cuda:0', grad_fn=<NegBackward0>) [tensor(-29.3246, device='cuda:0', grad_fn=<NegBackward0>), tensor(-28.4870, device='cuda:0', grad_fn=<NegBackward0>), tensor(-5.3555, device='cuda:0', grad_fn=<AddBackward0>)]\n",
      "0.401097253040693\n",
      "tensor(-60.5289, device='cuda:0', grad_fn=<NegBackward0>) [tensor(-29.8104, device='cuda:0', grad_fn=<NegBackward0>), tensor(-29.0007, device='cuda:0', grad_fn=<NegBackward0>), tensor(-4.5726, device='cuda:0', grad_fn=<AddBackward0>)]\n",
      "0.4093125881786575\n",
      "tensor(-60.6622, device='cuda:0', grad_fn=<NegBackward0>) [tensor(-29.8104, device='cuda:0', grad_fn=<NegBackward0>), tensor(-29.1105, device='cuda:0', grad_fn=<NegBackward0>), tensor(-4.7045, device='cuda:0', grad_fn=<AddBackward0>)]\n",
      "0.43451344288962473\n",
      "tensor(-60.7688, device='cuda:0', grad_fn=<NegBackward0>) [tensor(-29.8795, device='cuda:0', grad_fn=<NegBackward0>), tensor(-29.1438, device='cuda:0', grad_fn=<NegBackward0>), tensor(-4.7288, device='cuda:0', grad_fn=<AddBackward0>)]\n",
      "0.4206837484056452\n",
      "tensor(-60.6316, device='cuda:0', grad_fn=<NegBackward0>) [tensor(-29.8795, device='cuda:0', grad_fn=<NegBackward0>), tensor(-28.9559, device='cuda:0', grad_fn=<NegBackward0>), tensor(-5.0266, device='cuda:0', grad_fn=<AddBackward0>)]\n",
      "0.42550702636773224\n",
      "tensor(-61.4469, device='cuda:0', grad_fn=<NegBackward0>) [tensor(-30.2631, device='cuda:0', grad_fn=<NegBackward0>), tensor(-29.4166, device='cuda:0', grad_fn=<NegBackward0>), tensor(-4.8544, device='cuda:0', grad_fn=<AddBackward0>)]\n",
      "0.41262654158182277\n",
      "tensor(-61.3797, device='cuda:0', grad_fn=<NegBackward0>) [tensor(-30.2631, device='cuda:0', grad_fn=<NegBackward0>), tensor(-29.3345, device='cuda:0', grad_fn=<NegBackward0>), tensor(-4.9416, device='cuda:0', grad_fn=<AddBackward0>)]\n",
      "0.4348258400332708\n",
      "tensor(-61.2549, device='cuda:0', grad_fn=<NegBackward0>) [tensor(-30.2563, device='cuda:0', grad_fn=<NegBackward0>), tensor(-29.2934, device='cuda:0', grad_fn=<NegBackward0>), tensor(-4.5023, device='cuda:0', grad_fn=<AddBackward0>)]\n",
      "0.41009919357575714\n",
      "tensor(-61.3848, device='cuda:0', grad_fn=<NegBackward0>) [tensor(-30.2563, device='cuda:0', grad_fn=<NegBackward0>), tensor(-29.5153, device='cuda:0', grad_fn=<NegBackward0>), tensor(-4.0185, device='cuda:0', grad_fn=<AddBackward0>)]\n",
      "0.3441937409380288\n",
      "tensor(-61.6935, device='cuda:0', grad_fn=<NegBackward0>) [tensor(-30.3394, device='cuda:0', grad_fn=<NegBackward0>), tensor(-29.9190, device='cuda:0', grad_fn=<NegBackward0>), tensor(-3.2005, device='cuda:0', grad_fn=<AddBackward0>)]\n",
      "0.4371244497799847\n",
      "tensor(-61.6051, device='cuda:0', grad_fn=<NegBackward0>) [tensor(-30.3394, device='cuda:0', grad_fn=<NegBackward0>), tensor(-29.4764, device='cuda:0', grad_fn=<NegBackward0>), tensor(-4.9852, device='cuda:0', grad_fn=<AddBackward0>)]\n",
      "0.39690726376905483\n",
      "tensor(-62.4413, device='cuda:0', grad_fn=<NegBackward0>) [tensor(-30.7220, device='cuda:0', grad_fn=<NegBackward0>), tensor(-30.0507, device='cuda:0', grad_fn=<NegBackward0>), tensor(-4.3049, device='cuda:0', grad_fn=<AddBackward0>)]\n",
      "0.3988988935100665\n",
      "tensor(-62.3898, device='cuda:0', grad_fn=<NegBackward0>) [tensor(-30.7220, device='cuda:0', grad_fn=<NegBackward0>), tensor(-30.0284, device='cuda:0', grad_fn=<NegBackward0>), tensor(-4.1522, device='cuda:0', grad_fn=<AddBackward0>)]\n",
      "0.44026296998241826\n",
      "tensor(-62.7972, device='cuda:0', grad_fn=<NegBackward0>) [tensor(-30.9707, device='cuda:0', grad_fn=<NegBackward0>), tensor(-30.1477, device='cuda:0', grad_fn=<NegBackward0>), tensor(-4.3590, device='cuda:0', grad_fn=<AddBackward0>)]\n",
      "0.3852637311572152\n",
      "tensor(-62.8530, device='cuda:0', grad_fn=<NegBackward0>) [tensor(-30.9707, device='cuda:0', grad_fn=<NegBackward0>), tensor(-30.3150, device='cuda:0', grad_fn=<NegBackward0>), tensor(-3.7938, device='cuda:0', grad_fn=<AddBackward0>)]\n",
      "0.39863303128208477\n",
      "tensor(-62.1940, device='cuda:0', grad_fn=<NegBackward0>) [tensor(-30.6850, device='cuda:0', grad_fn=<NegBackward0>), tensor(-29.9149, device='cuda:0', grad_fn=<NegBackward0>), tensor(-3.9237, device='cuda:0', grad_fn=<AddBackward0>)]\n",
      "0.36498983371094545\n",
      "tensor(-62.4800, device='cuda:0', grad_fn=<NegBackward0>) [tensor(-30.6850, device='cuda:0', grad_fn=<NegBackward0>), tensor(-30.2047, device='cuda:0', grad_fn=<NegBackward0>), tensor(-3.9051, device='cuda:0', grad_fn=<AddBackward0>)]\n",
      "0.4296068250690622\n",
      "tensor(-63.1508, device='cuda:0', grad_fn=<NegBackward0>) [tensor(-31.1529, device='cuda:0', grad_fn=<NegBackward0>), tensor(-30.2510, device='cuda:0', grad_fn=<NegBackward0>), tensor(-4.7367, device='cuda:0', grad_fn=<AddBackward0>)]\n",
      "0.41346068473698355\n",
      "tensor(-63.3393, device='cuda:0', grad_fn=<NegBackward0>) [tensor(-31.1529, device='cuda:0', grad_fn=<NegBackward0>), tensor(-30.5696, device='cuda:0', grad_fn=<NegBackward0>), tensor(-4.0373, device='cuda:0', grad_fn=<AddBackward0>)]\n",
      "0.3882440405493647\n",
      "tensor(-63.7169, device='cuda:0', grad_fn=<NegBackward0>) [tensor(-31.4446, device='cuda:0', grad_fn=<NegBackward0>), tensor(-30.7299, device='cuda:0', grad_fn=<NegBackward0>), tensor(-3.6757, device='cuda:0', grad_fn=<AddBackward0>)]\n",
      "0.4039550443329147\n",
      "tensor(-63.4954, device='cuda:0', grad_fn=<NegBackward0>) [tensor(-31.4446, device='cuda:0', grad_fn=<NegBackward0>), tensor(-30.3381, device='cuda:0', grad_fn=<NegBackward0>), tensor(-4.5443, device='cuda:0', grad_fn=<AddBackward0>)]\n",
      "0.3858879406415394\n",
      "tensor(-64.2037, device='cuda:0', grad_fn=<NegBackward0>) [tensor(-31.7223, device='cuda:0', grad_fn=<NegBackward0>), tensor(-30.9319, device='cuda:0', grad_fn=<NegBackward0>), tensor(-3.7087, device='cuda:0', grad_fn=<AddBackward0>)]\n",
      "0.41067730802935815\n",
      "tensor(-64.4178, device='cuda:0', grad_fn=<NegBackward0>) [tensor(-31.7223, device='cuda:0', grad_fn=<NegBackward0>), tensor(-31.0617, device='cuda:0', grad_fn=<NegBackward0>), tensor(-4.1232, device='cuda:0', grad_fn=<AddBackward0>)]\n",
      "0.40494283871253284\n",
      "tensor(-64.6568, device='cuda:0', grad_fn=<NegBackward0>) [tensor(-31.8435, device='cuda:0', grad_fn=<NegBackward0>), tensor(-31.1785, device='cuda:0', grad_fn=<NegBackward0>), tensor(-4.1283, device='cuda:0', grad_fn=<AddBackward0>)]\n",
      "0.4066404927627089\n",
      "tensor(-64.6035, device='cuda:0', grad_fn=<NegBackward0>) [tensor(-31.8435, device='cuda:0', grad_fn=<NegBackward0>), tensor(-31.2175, device='cuda:0', grad_fn=<NegBackward0>), tensor(-3.6762, device='cuda:0', grad_fn=<AddBackward0>)]\n",
      "0.43051490065623504\n",
      "tensor(-64.9725, device='cuda:0', grad_fn=<NegBackward0>) [tensor(-32.0808, device='cuda:0', grad_fn=<NegBackward0>), tensor(-31.1605, device='cuda:0', grad_fn=<NegBackward0>), tensor(-4.6472, device='cuda:0', grad_fn=<AddBackward0>)]\n",
      "0.4004324316049121\n",
      "tensor(-64.9835, device='cuda:0', grad_fn=<NegBackward0>) [tensor(-32.0808, device='cuda:0', grad_fn=<NegBackward0>), tensor(-31.3433, device='cuda:0', grad_fn=<NegBackward0>), tensor(-3.7558, device='cuda:0', grad_fn=<AddBackward0>)]\n"
     ]
    },
    {
     "name": "stdout",
     "output_type": "stream",
     "text": [
      "0.3998086228273155\n",
      "tensor(-65.6627, device='cuda:0', grad_fn=<NegBackward0>) [tensor(-32.4147, device='cuda:0', grad_fn=<NegBackward0>), tensor(-31.5915, device='cuda:0', grad_fn=<NegBackward0>), tensor(-4.2413, device='cuda:0', grad_fn=<AddBackward0>)]\n",
      "0.3622723189660011\n",
      "tensor(-65.6627, device='cuda:0', grad_fn=<NegBackward0>) [tensor(-32.4147, device='cuda:0', grad_fn=<NegBackward0>), tensor(-31.8022, device='cuda:0', grad_fn=<NegBackward0>), tensor(-3.2455, device='cuda:0', grad_fn=<AddBackward0>)]\n",
      "0.36701953119032593\n",
      "tensor(-65.2021, device='cuda:0', grad_fn=<NegBackward0>) [tensor(-32.2520, device='cuda:0', grad_fn=<NegBackward0>), tensor(-31.4335, device='cuda:0', grad_fn=<NegBackward0>), tensor(-3.5567, device='cuda:0', grad_fn=<AddBackward0>)]\n",
      "0.3918135713469645\n",
      "tensor(-65.2846, device='cuda:0', grad_fn=<NegBackward0>) [tensor(-32.2520, device='cuda:0', grad_fn=<NegBackward0>), tensor(-31.5132, device='cuda:0', grad_fn=<NegBackward0>), tensor(-3.5695, device='cuda:0', grad_fn=<AddBackward0>)]\n",
      "0.40152372634461886\n",
      "tensor(-65.8065, device='cuda:0', grad_fn=<NegBackward0>) [tensor(-32.5042, device='cuda:0', grad_fn=<NegBackward0>), tensor(-31.7635, device='cuda:0', grad_fn=<NegBackward0>), tensor(-3.6593, device='cuda:0', grad_fn=<AddBackward0>)]\n",
      "0.4006628421969372\n",
      "tensor(-65.7759, device='cuda:0', grad_fn=<NegBackward0>) [tensor(-32.5042, device='cuda:0', grad_fn=<NegBackward0>), tensor(-31.7561, device='cuda:0', grad_fn=<NegBackward0>), tensor(-3.5520, device='cuda:0', grad_fn=<AddBackward0>)]\n",
      "0.3848092466250777\n",
      "tensor(-65.7533, device='cuda:0', grad_fn=<NegBackward0>) [tensor(-32.5573, device='cuda:0', grad_fn=<NegBackward0>), tensor(-31.6286, device='cuda:0', grad_fn=<NegBackward0>), tensor(-3.7941, device='cuda:0', grad_fn=<AddBackward0>)]\n",
      "0.4141887977372148\n",
      "tensor(-66.0580, device='cuda:0', grad_fn=<NegBackward0>) [tensor(-32.5573, device='cuda:0', grad_fn=<NegBackward0>), tensor(-31.9298, device='cuda:0', grad_fn=<NegBackward0>), tensor(-3.8111, device='cuda:0', grad_fn=<AddBackward0>)]\n",
      "0.3935946743045071\n",
      "tensor(-67.0130, device='cuda:0', grad_fn=<NegBackward0>) [tensor(-33.0616, device='cuda:0', grad_fn=<NegBackward0>), tensor(-32.4324, device='cuda:0', grad_fn=<NegBackward0>), tensor(-3.5676, device='cuda:0', grad_fn=<AddBackward0>)]\n",
      "0.36791173360812884\n",
      "tensor(-67.0029, device='cuda:0', grad_fn=<NegBackward0>) [tensor(-33.0616, device='cuda:0', grad_fn=<NegBackward0>), tensor(-32.4712, device='cuda:0', grad_fn=<NegBackward0>), tensor(-3.3498, device='cuda:0', grad_fn=<AddBackward0>)]\n",
      "0.38482974899325917\n",
      "tensor(-67.1614, device='cuda:0', grad_fn=<NegBackward0>) [tensor(-33.1546, device='cuda:0', grad_fn=<NegBackward0>), tensor(-32.5137, device='cuda:0', grad_fn=<NegBackward0>), tensor(-3.4510, device='cuda:0', grad_fn=<AddBackward0>)]\n",
      "0.3671757638496691\n",
      "tensor(-67.0778, device='cuda:0', grad_fn=<NegBackward0>) [tensor(-33.1546, device='cuda:0', grad_fn=<NegBackward0>), tensor(-32.4322, device='cuda:0', grad_fn=<NegBackward0>), tensor(-3.4415, device='cuda:0', grad_fn=<AddBackward0>)]\n",
      "0.35245160564301015\n",
      "tensor(-66.7037, device='cuda:0', grad_fn=<NegBackward0>) [tensor(-33.0491, device='cuda:0', grad_fn=<NegBackward0>), tensor(-32.1741, device='cuda:0', grad_fn=<NegBackward0>), tensor(-3.3954, device='cuda:0', grad_fn=<AddBackward0>)]\n",
      "0.3780098822875465\n",
      "tensor(-66.7742, device='cuda:0', grad_fn=<NegBackward0>) [tensor(-33.0491, device='cuda:0', grad_fn=<NegBackward0>), tensor(-32.2903, device='cuda:0', grad_fn=<NegBackward0>), tensor(-3.1988, device='cuda:0', grad_fn=<AddBackward0>)]\n",
      "0.39351773494021736\n",
      "tensor(-67.4580, device='cuda:0', grad_fn=<NegBackward0>) [tensor(-33.4233, device='cuda:0', grad_fn=<NegBackward0>), tensor(-32.4474, device='cuda:0', grad_fn=<NegBackward0>), tensor(-3.8906, device='cuda:0', grad_fn=<AddBackward0>)]\n",
      "0.376817413486975\n",
      "tensor(-67.7979, device='cuda:0', grad_fn=<NegBackward0>) [tensor(-33.4233, device='cuda:0', grad_fn=<NegBackward0>), tensor(-32.9255, device='cuda:0', grad_fn=<NegBackward0>), tensor(-3.2591, device='cuda:0', grad_fn=<AddBackward0>)]\n",
      "0.35611931637066346\n",
      "tensor(-67.7492, device='cuda:0', grad_fn=<NegBackward0>) [tensor(-33.5155, device='cuda:0', grad_fn=<NegBackward0>), tensor(-32.8297, device='cuda:0', grad_fn=<NegBackward0>), tensor(-3.0716, device='cuda:0', grad_fn=<AddBackward0>)]\n",
      "0.3753895343593323\n",
      "tensor(-67.6877, device='cuda:0', grad_fn=<NegBackward0>) [tensor(-33.5155, device='cuda:0', grad_fn=<NegBackward0>), tensor(-32.6852, device='cuda:0', grad_fn=<NegBackward0>), tensor(-3.4236, device='cuda:0', grad_fn=<AddBackward0>)]\n",
      "0.38396371644266264\n",
      "tensor(-68.1411, device='cuda:0', grad_fn=<NegBackward0>) [tensor(-33.7337, device='cuda:0', grad_fn=<NegBackward0>), tensor(-32.8167, device='cuda:0', grad_fn=<NegBackward0>), tensor(-3.9073, device='cuda:0', grad_fn=<AddBackward0>)]\n",
      "0.38016338007648576\n",
      "tensor(-67.9995, device='cuda:0', grad_fn=<NegBackward0>) [tensor(-33.7337, device='cuda:0', grad_fn=<NegBackward0>), tensor(-32.7201, device='cuda:0', grad_fn=<NegBackward0>), tensor(-3.6913, device='cuda:0', grad_fn=<AddBackward0>)]\n",
      "0.4124528313521522\n",
      "tensor(-67.7225, device='cuda:0', grad_fn=<NegBackward0>) [tensor(-33.5145, device='cuda:0', grad_fn=<NegBackward0>), tensor(-32.4926, device='cuda:0', grad_fn=<NegBackward0>), tensor(-4.5582, device='cuda:0', grad_fn=<AddBackward0>)]\n",
      "0.4071261906812092\n",
      "tensor(-67.7543, device='cuda:0', grad_fn=<NegBackward0>) [tensor(-33.5145, device='cuda:0', grad_fn=<NegBackward0>), tensor(-32.6746, device='cuda:0', grad_fn=<NegBackward0>), tensor(-3.7833, device='cuda:0', grad_fn=<AddBackward0>)]\n",
      "0.35369353528707526\n",
      "tensor(-68.7285, device='cuda:0', grad_fn=<NegBackward0>) [tensor(-33.9658, device='cuda:0', grad_fn=<NegBackward0>), tensor(-33.3772, device='cuda:0', grad_fn=<NegBackward0>), tensor(-2.9964, device='cuda:0', grad_fn=<AddBackward0>)]\n",
      "0.35416889085104813\n",
      "tensor(-68.6716, device='cuda:0', grad_fn=<NegBackward0>) [tensor(-33.9658, device='cuda:0', grad_fn=<NegBackward0>), tensor(-33.3835, device='cuda:0', grad_fn=<NegBackward0>), tensor(-2.7518, device='cuda:0', grad_fn=<AddBackward0>)]\n",
      "0.37009289644093774\n",
      "tensor(-68.5665, device='cuda:0', grad_fn=<NegBackward0>) [tensor(-33.9109, device='cuda:0', grad_fn=<NegBackward0>), tensor(-33.1803, device='cuda:0', grad_fn=<NegBackward0>), tensor(-3.3726, device='cuda:0', grad_fn=<AddBackward0>)]\n",
      "0.36074453286398755\n",
      "tensor(-68.5290, device='cuda:0', grad_fn=<NegBackward0>) [tensor(-33.9109, device='cuda:0', grad_fn=<NegBackward0>), tensor(-33.2153, device='cuda:0', grad_fn=<NegBackward0>), tensor(-3.0666, device='cuda:0', grad_fn=<AddBackward0>)]\n",
      "0.4053325030309614\n",
      "tensor(-69.0131, device='cuda:0', grad_fn=<NegBackward0>) [tensor(-34.0928, device='cuda:0', grad_fn=<NegBackward0>), tensor(-33.3693, device='cuda:0', grad_fn=<NegBackward0>), tensor(-3.7162, device='cuda:0', grad_fn=<AddBackward0>)]\n",
      "0.3546979429829077\n",
      "tensor(-68.8010, device='cuda:0', grad_fn=<NegBackward0>) [tensor(-34.0928, device='cuda:0', grad_fn=<NegBackward0>), tensor(-33.2911, device='cuda:0', grad_fn=<NegBackward0>), tensor(-3.1254, device='cuda:0', grad_fn=<AddBackward0>)]\n",
      "0.34848612714929406\n",
      "tensor(-69.6567, device='cuda:0', grad_fn=<NegBackward0>) [tensor(-34.5087, device='cuda:0', grad_fn=<NegBackward0>), tensor(-33.7002, device='cuda:0', grad_fn=<NegBackward0>), tensor(-3.2536, device='cuda:0', grad_fn=<AddBackward0>)]\n",
      "0.3763579722626686\n",
      "tensor(-69.7841, device='cuda:0', grad_fn=<NegBackward0>) [tensor(-34.5087, device='cuda:0', grad_fn=<NegBackward0>), tensor(-33.7507, device='cuda:0', grad_fn=<NegBackward0>), tensor(-3.5935, device='cuda:0', grad_fn=<AddBackward0>)]\n",
      "0.35962828130439134\n",
      "tensor(-69.9549, device='cuda:0', grad_fn=<NegBackward0>) [tensor(-34.5671, device='cuda:0', grad_fn=<NegBackward0>), tensor(-33.9028, device='cuda:0', grad_fn=<NegBackward0>), tensor(-3.4150, device='cuda:0', grad_fn=<AddBackward0>)]\n",
      "0.37709894393902293\n",
      "tensor(-69.7859, device='cuda:0', grad_fn=<NegBackward0>) [tensor(-34.5671, device='cuda:0', grad_fn=<NegBackward0>), tensor(-33.7446, device='cuda:0', grad_fn=<NegBackward0>), tensor(-3.3672, device='cuda:0', grad_fn=<AddBackward0>)]\n",
      "0.37055858125977514\n",
      "tensor(-70.4365, device='cuda:0', grad_fn=<NegBackward0>) [tensor(-34.8160, device='cuda:0', grad_fn=<NegBackward0>), tensor(-34.1646, device='cuda:0', grad_fn=<NegBackward0>), tensor(-3.2881, device='cuda:0', grad_fn=<AddBackward0>)]\n"
     ]
    },
    {
     "name": "stdout",
     "output_type": "stream",
     "text": [
      "0.3686345202250334\n",
      "tensor(-70.1292, device='cuda:0', grad_fn=<NegBackward0>) [tensor(-34.8160, device='cuda:0', grad_fn=<NegBackward0>), tensor(-33.8943, device='cuda:0', grad_fn=<NegBackward0>), tensor(-3.1325, device='cuda:0', grad_fn=<AddBackward0>)]\n",
      "0.39951485308878026\n",
      "tensor(-69.9243, device='cuda:0', grad_fn=<NegBackward0>) [tensor(-34.6256, device='cuda:0', grad_fn=<NegBackward0>), tensor(-33.7186, device='cuda:0', grad_fn=<NegBackward0>), tensor(-3.8555, device='cuda:0', grad_fn=<AddBackward0>)]\n",
      "0.3949437727068548\n",
      "tensor(-70.0221, device='cuda:0', grad_fn=<NegBackward0>) [tensor(-34.6256, device='cuda:0', grad_fn=<NegBackward0>), tensor(-33.7794, device='cuda:0', grad_fn=<NegBackward0>), tensor(-4.0385, device='cuda:0', grad_fn=<AddBackward0>)]\n",
      "0.3402342681207847\n",
      "tensor(-70.4536, device='cuda:0', grad_fn=<NegBackward0>) [tensor(-34.9583, device='cuda:0', grad_fn=<NegBackward0>), tensor(-34.1804, device='cuda:0', grad_fn=<NegBackward0>), tensor(-2.7246, device='cuda:0', grad_fn=<AddBackward0>)]\n",
      "0.3746577767198948\n",
      "tensor(-70.6365, device='cuda:0', grad_fn=<NegBackward0>) [tensor(-34.9583, device='cuda:0', grad_fn=<NegBackward0>), tensor(-34.2140, device='cuda:0', grad_fn=<NegBackward0>), tensor(-3.3241, device='cuda:0', grad_fn=<AddBackward0>)]\n",
      "0.3746409327892437\n",
      "tensor(-71.1422, device='cuda:0', grad_fn=<NegBackward0>) [tensor(-35.2441, device='cuda:0', grad_fn=<NegBackward0>), tensor(-34.4413, device='cuda:0', grad_fn=<NegBackward0>), tensor(-3.2920, device='cuda:0', grad_fn=<AddBackward0>)]\n",
      "0.37789447239307394\n",
      "tensor(-71.3326, device='cuda:0', grad_fn=<NegBackward0>) [tensor(-35.2441, device='cuda:0', grad_fn=<NegBackward0>), tensor(-34.6212, device='cuda:0', grad_fn=<NegBackward0>), tensor(-3.3373, device='cuda:0', grad_fn=<AddBackward0>)]\n",
      "0.3017586069552533\n",
      "tensor(-71.1193, device='cuda:0', grad_fn=<NegBackward0>) [tensor(-35.2783, device='cuda:0', grad_fn=<NegBackward0>), tensor(-34.7132, device='cuda:0', grad_fn=<NegBackward0>), tensor(-2.0888, device='cuda:0', grad_fn=<AddBackward0>)]\n",
      "0.35841509986179937\n",
      "tensor(-71.3079, device='cuda:0', grad_fn=<NegBackward0>) [tensor(-35.2783, device='cuda:0', grad_fn=<NegBackward0>), tensor(-34.5975, device='cuda:0', grad_fn=<NegBackward0>), tensor(-3.1876, device='cuda:0', grad_fn=<AddBackward0>)]\n",
      "0.3804663582080666\n",
      "tensor(-71.2758, device='cuda:0', grad_fn=<NegBackward0>) [tensor(-35.3108, device='cuda:0', grad_fn=<NegBackward0>), tensor(-34.4859, device='cuda:0', grad_fn=<NegBackward0>), tensor(-3.3892, device='cuda:0', grad_fn=<AddBackward0>)]\n",
      "0.32694628168254203\n",
      "tensor(-71.3135, device='cuda:0', grad_fn=<NegBackward0>) [tensor(-35.3108, device='cuda:0', grad_fn=<NegBackward0>), tensor(-34.8127, device='cuda:0', grad_fn=<NegBackward0>), tensor(-2.2872, device='cuda:0', grad_fn=<AddBackward0>)]\n",
      "0.34944028553110523\n",
      "tensor(-70.5783, device='cuda:0', grad_fn=<NegBackward0>) [tensor(-35.0257, device='cuda:0', grad_fn=<NegBackward0>), tensor(-34.2150, device='cuda:0', grad_fn=<NegBackward0>), tensor(-2.8098, device='cuda:0', grad_fn=<AddBackward0>)]\n",
      "0.3571750772651524\n",
      "tensor(-70.8918, device='cuda:0', grad_fn=<NegBackward0>) [tensor(-35.0257, device='cuda:0', grad_fn=<NegBackward0>), tensor(-34.4472, device='cuda:0', grad_fn=<NegBackward0>), tensor(-3.1328, device='cuda:0', grad_fn=<AddBackward0>)]\n",
      "0.38662787697767076\n",
      "tensor(-71.9781, device='cuda:0', grad_fn=<NegBackward0>) [tensor(-35.6556, device='cuda:0', grad_fn=<NegBackward0>), tensor(-34.8723, device='cuda:0', grad_fn=<NegBackward0>), tensor(-3.2638, device='cuda:0', grad_fn=<AddBackward0>)]\n",
      "0.3627744010612816\n",
      "tensor(-71.9716, device='cuda:0', grad_fn=<NegBackward0>) [tensor(-35.6556, device='cuda:0', grad_fn=<NegBackward0>), tensor(-34.9238, device='cuda:0', grad_fn=<NegBackward0>), tensor(-3.0233, device='cuda:0', grad_fn=<AddBackward0>)]\n",
      "0.38555312247551954\n",
      "tensor(-72.2080, device='cuda:0', grad_fn=<NegBackward0>) [tensor(-35.8301, device='cuda:0', grad_fn=<NegBackward0>), tensor(-34.9274, device='cuda:0', grad_fn=<NegBackward0>), tensor(-3.2649, device='cuda:0', grad_fn=<AddBackward0>)]\n",
      "0.3693345615882411\n",
      "tensor(-72.1066, device='cuda:0', grad_fn=<NegBackward0>) [tensor(-35.8301, device='cuda:0', grad_fn=<NegBackward0>), tensor(-34.7780, device='cuda:0', grad_fn=<NegBackward0>), tensor(-3.4748, device='cuda:0', grad_fn=<AddBackward0>)]\n",
      "0.3320153185617986\n",
      "tensor(-71.6896, device='cuda:0', grad_fn=<NegBackward0>) [tensor(-35.5725, device='cuda:0', grad_fn=<NegBackward0>), tensor(-34.7478, device='cuda:0', grad_fn=<NegBackward0>), tensor(-2.9323, device='cuda:0', grad_fn=<AddBackward0>)]\n",
      "0.3410709331679068\n",
      "tensor(-71.6948, device='cuda:0', grad_fn=<NegBackward0>) [tensor(-35.5725, device='cuda:0', grad_fn=<NegBackward0>), tensor(-34.8818, device='cuda:0', grad_fn=<NegBackward0>), tensor(-2.4573, device='cuda:0', grad_fn=<AddBackward0>)]\n",
      "0.3749345865713632\n",
      "tensor(-72.3849, device='cuda:0', grad_fn=<NegBackward0>) [tensor(-35.8872, device='cuda:0', grad_fn=<NegBackward0>), tensor(-35.0964, device='cuda:0', grad_fn=<NegBackward0>), tensor(-3.0605, device='cuda:0', grad_fn=<AddBackward0>)]\n",
      "0.36186633326496365\n",
      "tensor(-72.3660, device='cuda:0', grad_fn=<NegBackward0>) [tensor(-35.8872, device='cuda:0', grad_fn=<NegBackward0>), tensor(-35.0963, device='cuda:0', grad_fn=<NegBackward0>), tensor(-2.9847, device='cuda:0', grad_fn=<AddBackward0>)]\n",
      "0.37086100688008555\n",
      "tensor(-73.1497, device='cuda:0', grad_fn=<NegBackward0>) [tensor(-36.1980, device='cuda:0', grad_fn=<NegBackward0>), tensor(-35.3940, device='cuda:0', grad_fn=<NegBackward0>), tensor(-3.7480, device='cuda:0', grad_fn=<AddBackward0>)]\n",
      "0.3265373154701886\n",
      "tensor(-73.1020, device='cuda:0', grad_fn=<NegBackward0>) [tensor(-36.1980, device='cuda:0', grad_fn=<NegBackward0>), tensor(-35.6637, device='cuda:0', grad_fn=<NegBackward0>), tensor(-2.4566, device='cuda:0', grad_fn=<AddBackward0>)]\n",
      "0.33901208320861037\n",
      "tensor(-72.7665, device='cuda:0', grad_fn=<NegBackward0>) [tensor(-36.0833, device='cuda:0', grad_fn=<NegBackward0>), tensor(-35.3106, device='cuda:0', grad_fn=<NegBackward0>), tensor(-2.9458, device='cuda:0', grad_fn=<AddBackward0>)]\n",
      "0.3448303172746581\n",
      "tensor(-72.7764, device='cuda:0', grad_fn=<NegBackward0>) [tensor(-36.0833, device='cuda:0', grad_fn=<NegBackward0>), tensor(-35.3424, device='cuda:0', grad_fn=<NegBackward0>), tensor(-2.8602, device='cuda:0', grad_fn=<AddBackward0>)]\n",
      "0.3295285840188357\n",
      "tensor(-72.9554, device='cuda:0', grad_fn=<NegBackward0>) [tensor(-36.2166, device='cuda:0', grad_fn=<NegBackward0>), tensor(-35.4679, device='cuda:0', grad_fn=<NegBackward0>), tensor(-2.5640, device='cuda:0', grad_fn=<AddBackward0>)]\n",
      "0.3705176955953764\n",
      "tensor(-72.9502, device='cuda:0', grad_fn=<NegBackward0>) [tensor(-36.2166, device='cuda:0', grad_fn=<NegBackward0>), tensor(-35.2757, device='cuda:0', grad_fn=<NegBackward0>), tensor(-3.2968, device='cuda:0', grad_fn=<AddBackward0>)]\n",
      "0.3119397304645237\n",
      "tensor(-73.3647, device='cuda:0', grad_fn=<NegBackward0>) [tensor(-36.3335, device='cuda:0', grad_fn=<NegBackward0>), tensor(-35.8166, device='cuda:0', grad_fn=<NegBackward0>), tensor(-2.3691, device='cuda:0', grad_fn=<AddBackward0>)]\n",
      "0.30062434860288956\n",
      "tensor(-73.2790, device='cuda:0', grad_fn=<NegBackward0>) [tensor(-36.3335, device='cuda:0', grad_fn=<NegBackward0>), tensor(-35.8455, device='cuda:0', grad_fn=<NegBackward0>), tensor(-2.0040, device='cuda:0', grad_fn=<AddBackward0>)]\n",
      "0.37170880487612734\n",
      "tensor(-72.6309, device='cuda:0', grad_fn=<NegBackward0>) [tensor(-36.0962, device='cuda:0', grad_fn=<NegBackward0>), tensor(-35.0402, device='cuda:0', grad_fn=<NegBackward0>), tensor(-3.4568, device='cuda:0', grad_fn=<AddBackward0>)]\n",
      "0.3603454315241066\n",
      "tensor(-72.7541, device='cuda:0', grad_fn=<NegBackward0>) [tensor(-36.0962, device='cuda:0', grad_fn=<NegBackward0>), tensor(-35.2652, device='cuda:0', grad_fn=<NegBackward0>), tensor(-3.0254, device='cuda:0', grad_fn=<AddBackward0>)]\n",
      "0.3496437335836433\n",
      "tensor(-73.0890, device='cuda:0', grad_fn=<NegBackward0>) [tensor(-36.3080, device='cuda:0', grad_fn=<NegBackward0>), tensor(-35.4341, device='cuda:0', grad_fn=<NegBackward0>), tensor(-2.8452, device='cuda:0', grad_fn=<AddBackward0>)]\n",
      "0.32627671604254577\n",
      "tensor(-73.2227, device='cuda:0', grad_fn=<NegBackward0>) [tensor(-36.3080, device='cuda:0', grad_fn=<NegBackward0>), tensor(-35.6725, device='cuda:0', grad_fn=<NegBackward0>), tensor(-2.4631, device='cuda:0', grad_fn=<AddBackward0>)]\n"
     ]
    },
    {
     "name": "stdout",
     "output_type": "stream",
     "text": [
      "0.3761130706143037\n",
      "tensor(-72.4874, device='cuda:0', grad_fn=<NegBackward0>) [tensor(-36.0384, device='cuda:0', grad_fn=<NegBackward0>), tensor(-34.9665, device='cuda:0', grad_fn=<NegBackward0>), tensor(-3.4038, device='cuda:0', grad_fn=<AddBackward0>)]\n",
      "0.3532290499969333\n",
      "tensor(-72.7754, device='cuda:0', grad_fn=<NegBackward0>) [tensor(-36.0384, device='cuda:0', grad_fn=<NegBackward0>), tensor(-35.3966, device='cuda:0', grad_fn=<NegBackward0>), tensor(-2.8207, device='cuda:0', grad_fn=<AddBackward0>)]\n",
      "0.34904350984251403\n",
      "tensor(-73.5095, device='cuda:0', grad_fn=<NegBackward0>) [tensor(-36.4584, device='cuda:0', grad_fn=<NegBackward0>), tensor(-35.7985, device='cuda:0', grad_fn=<NegBackward0>), tensor(-2.4994, device='cuda:0', grad_fn=<AddBackward0>)]\n",
      "0.3459598087434561\n",
      "tensor(-73.6532, device='cuda:0', grad_fn=<NegBackward0>) [tensor(-36.4584, device='cuda:0', grad_fn=<NegBackward0>), tensor(-35.8513, device='cuda:0', grad_fn=<NegBackward0>), tensor(-2.8323, device='cuda:0', grad_fn=<AddBackward0>)]\n",
      "0.33265182457690556\n",
      "tensor(-74.1700, device='cuda:0', grad_fn=<NegBackward0>) [tensor(-36.7052, device='cuda:0', grad_fn=<NegBackward0>), tensor(-36.2052, device='cuda:0', grad_fn=<NegBackward0>), tensor(-2.5241, device='cuda:0', grad_fn=<AddBackward0>)]\n",
      "0.33328227640054775\n",
      "tensor(-73.9760, device='cuda:0', grad_fn=<NegBackward0>) [tensor(-36.7052, device='cuda:0', grad_fn=<NegBackward0>), tensor(-35.9600, device='cuda:0', grad_fn=<NegBackward0>), tensor(-2.7092, device='cuda:0', grad_fn=<AddBackward0>)]\n",
      "0.3409204595019646\n",
      "tensor(-73.6358, device='cuda:0', grad_fn=<NegBackward0>) [tensor(-36.5643, device='cuda:0', grad_fn=<NegBackward0>), tensor(-35.7792, device='cuda:0', grad_fn=<NegBackward0>), tensor(-2.6410, device='cuda:0', grad_fn=<AddBackward0>)]\n",
      "0.3509328097676191\n",
      "tensor(-73.6591, device='cuda:0', grad_fn=<NegBackward0>) [tensor(-36.5643, device='cuda:0', grad_fn=<NegBackward0>), tensor(-35.7991, device='cuda:0', grad_fn=<NegBackward0>), tensor(-2.6536, device='cuda:0', grad_fn=<AddBackward0>)]\n",
      "0.35895381301329066\n",
      "tensor(-73.9295, device='cuda:0', grad_fn=<NegBackward0>) [tensor(-36.7024, device='cuda:0', grad_fn=<NegBackward0>), tensor(-35.8845, device='cuda:0', grad_fn=<NegBackward0>), tensor(-2.8288, device='cuda:0', grad_fn=<AddBackward0>)]\n",
      "0.34204401755184904\n",
      "tensor(-74.1116, device='cuda:0', grad_fn=<NegBackward0>) [tensor(-36.7024, device='cuda:0', grad_fn=<NegBackward0>), tensor(-36.1946, device='cuda:0', grad_fn=<NegBackward0>), tensor(-2.3689, device='cuda:0', grad_fn=<AddBackward0>)]\n",
      "0.34054870899619605\n",
      "tensor(-74.4216, device='cuda:0', grad_fn=<NegBackward0>) [tensor(-36.9463, device='cuda:0', grad_fn=<NegBackward0>), tensor(-36.2209, device='cuda:0', grad_fn=<NegBackward0>), tensor(-2.5058, device='cuda:0', grad_fn=<AddBackward0>)]\n",
      "0.3440025104105577\n",
      "tensor(-74.3065, device='cuda:0', grad_fn=<NegBackward0>) [tensor(-36.9463, device='cuda:0', grad_fn=<NegBackward0>), tensor(-36.0943, device='cuda:0', grad_fn=<NegBackward0>), tensor(-2.5463, device='cuda:0', grad_fn=<AddBackward0>)]\n",
      "0.3338257231321813\n",
      "tensor(-74.6983, device='cuda:0', grad_fn=<NegBackward0>) [tensor(-37.0833, device='cuda:0', grad_fn=<NegBackward0>), tensor(-36.4410, device='cuda:0', grad_fn=<NegBackward0>), tensor(-2.2348, device='cuda:0', grad_fn=<AddBackward0>)]\n",
      "0.3111879098602574\n",
      "tensor(-74.8507, device='cuda:0', grad_fn=<NegBackward0>) [tensor(-37.0833, device='cuda:0', grad_fn=<NegBackward0>), tensor(-36.6510, device='cuda:0', grad_fn=<NegBackward0>), tensor(-2.0536, device='cuda:0', grad_fn=<AddBackward0>)]\n",
      "0.34676307214426727\n",
      "tensor(-75.3090, device='cuda:0', grad_fn=<NegBackward0>) [tensor(-37.2821, device='cuda:0', grad_fn=<NegBackward0>), tensor(-36.7258, device='cuda:0', grad_fn=<NegBackward0>), tensor(-2.6736, device='cuda:0', grad_fn=<AddBackward0>)]\n",
      "0.36469531184324067\n",
      "tensor(-74.8656, device='cuda:0', grad_fn=<NegBackward0>) [tensor(-37.2821, device='cuda:0', grad_fn=<NegBackward0>), tensor(-36.1710, device='cuda:0', grad_fn=<NegBackward0>), tensor(-3.1059, device='cuda:0', grad_fn=<AddBackward0>)]\n",
      "0.35545449938192825\n",
      "tensor(-74.1160, device='cuda:0', grad_fn=<NegBackward0>) [tensor(-36.7669, device='cuda:0', grad_fn=<NegBackward0>), tensor(-36.0545, device='cuda:0', grad_fn=<NegBackward0>), tensor(-2.6496, device='cuda:0', grad_fn=<AddBackward0>)]\n",
      "0.342315437922389\n",
      "tensor(-74.1764, device='cuda:0', grad_fn=<NegBackward0>) [tensor(-36.7669, device='cuda:0', grad_fn=<NegBackward0>), tensor(-36.1765, device='cuda:0', grad_fn=<NegBackward0>), tensor(-2.4314, device='cuda:0', grad_fn=<AddBackward0>)]\n",
      "0.37496488476225304\n",
      "tensor(-75.5678, device='cuda:0', grad_fn=<NegBackward0>) [tensor(-37.5133, device='cuda:0', grad_fn=<NegBackward0>), tensor(-36.6749, device='cuda:0', grad_fn=<NegBackward0>), tensor(-2.9734, device='cuda:0', grad_fn=<AddBackward0>)]\n",
      "0.36477298293216914\n",
      "tensor(-75.6054, device='cuda:0', grad_fn=<NegBackward0>) [tensor(-37.5133, device='cuda:0', grad_fn=<NegBackward0>), tensor(-36.7749, device='cuda:0', grad_fn=<NegBackward0>), tensor(-2.7330, device='cuda:0', grad_fn=<AddBackward0>)]\n",
      "0.34139387303759744\n",
      "tensor(-75.8874, device='cuda:0', grad_fn=<NegBackward0>) [tensor(-37.6892, device='cuda:0', grad_fn=<NegBackward0>), tensor(-36.9219, device='cuda:0', grad_fn=<NegBackward0>), tensor(-2.5834, device='cuda:0', grad_fn=<AddBackward0>)]\n",
      "0.344634242323972\n",
      "tensor(-75.9962, device='cuda:0', grad_fn=<NegBackward0>) [tensor(-37.6892, device='cuda:0', grad_fn=<NegBackward0>), tensor(-37.0738, device='cuda:0', grad_fn=<NegBackward0>), tensor(-2.4323, device='cuda:0', grad_fn=<AddBackward0>)]\n",
      "0.3442299476905727\n",
      "tensor(-76.0333, device='cuda:0', grad_fn=<NegBackward0>) [tensor(-37.7281, device='cuda:0', grad_fn=<NegBackward0>), tensor(-37.0298, device='cuda:0', grad_fn=<NegBackward0>), tensor(-2.5802, device='cuda:0', grad_fn=<AddBackward0>)]\n",
      "0.33124890921070793\n",
      "tensor(-76.1687, device='cuda:0', grad_fn=<NegBackward0>) [tensor(-37.7281, device='cuda:0', grad_fn=<NegBackward0>), tensor(-37.2425, device='cuda:0', grad_fn=<NegBackward0>), tensor(-2.3141, device='cuda:0', grad_fn=<AddBackward0>)]\n",
      "0.3513434947794775\n",
      "tensor(-76.6070, device='cuda:0', grad_fn=<NegBackward0>) [tensor(-37.9781, device='cuda:0', grad_fn=<NegBackward0>), tensor(-37.3473, device='cuda:0', grad_fn=<NegBackward0>), tensor(-2.6022, device='cuda:0', grad_fn=<AddBackward0>)]\n",
      "0.3542148048444116\n",
      "tensor(-76.2775, device='cuda:0', grad_fn=<NegBackward0>) [tensor(-37.9781, device='cuda:0', grad_fn=<NegBackward0>), tensor(-36.9424, device='cuda:0', grad_fn=<NegBackward0>), tensor(-2.8844, device='cuda:0', grad_fn=<AddBackward0>)]\n",
      "0.3628345784947903\n",
      "tensor(-75.0254, device='cuda:0', grad_fn=<NegBackward0>) [tensor(-37.2191, device='cuda:0', grad_fn=<NegBackward0>), tensor(-36.3505, device='cuda:0', grad_fn=<NegBackward0>), tensor(-3.2881, device='cuda:0', grad_fn=<AddBackward0>)]\n",
      "0.33917286617130576\n",
      "tensor(-74.9029, device='cuda:0', grad_fn=<NegBackward0>) [tensor(-37.2191, device='cuda:0', grad_fn=<NegBackward0>), tensor(-36.4699, device='cuda:0', grad_fn=<NegBackward0>), tensor(-2.3666, device='cuda:0', grad_fn=<AddBackward0>)]\n",
      "0.3398282746288924\n",
      "tensor(-75.0885, device='cuda:0', grad_fn=<NegBackward0>) [tensor(-37.2101, device='cuda:0', grad_fn=<NegBackward0>), tensor(-36.6446, device='cuda:0', grad_fn=<NegBackward0>), tensor(-2.4342, device='cuda:0', grad_fn=<AddBackward0>)]\n",
      "0.3384066541556578\n",
      "tensor(-74.8516, device='cuda:0', grad_fn=<NegBackward0>) [tensor(-37.2101, device='cuda:0', grad_fn=<NegBackward0>), tensor(-36.4335, device='cuda:0', grad_fn=<NegBackward0>), tensor(-2.3471, device='cuda:0', grad_fn=<AddBackward0>)]\n",
      "0.3480957619390999\n",
      "tensor(-76.3479, device='cuda:0', grad_fn=<NegBackward0>) [tensor(-37.8517, device='cuda:0', grad_fn=<NegBackward0>), tensor(-37.2092, device='cuda:0', grad_fn=<NegBackward0>), tensor(-2.6220, device='cuda:0', grad_fn=<AddBackward0>)]\n",
      "0.3621522798572243\n",
      "tensor(-76.2209, device='cuda:0', grad_fn=<NegBackward0>) [tensor(-37.8517, device='cuda:0', grad_fn=<NegBackward0>), tensor(-37.1000, device='cuda:0', grad_fn=<NegBackward0>), tensor(-2.5584, device='cuda:0', grad_fn=<AddBackward0>)]\n",
      "0.32032799145092\n",
      "tensor(-76.7006, device='cuda:0', grad_fn=<NegBackward0>) [tensor(-38.0068, device='cuda:0', grad_fn=<NegBackward0>), tensor(-37.5598, device='cuda:0', grad_fn=<NegBackward0>), tensor(-2.1081, device='cuda:0', grad_fn=<AddBackward0>)]\n"
     ]
    },
    {
     "name": "stdout",
     "output_type": "stream",
     "text": [
      "0.3379957875404743\n",
      "tensor(-76.3616, device='cuda:0', grad_fn=<NegBackward0>) [tensor(-38.0068, device='cuda:0', grad_fn=<NegBackward0>), tensor(-37.1707, device='cuda:0', grad_fn=<NegBackward0>), tensor(-2.2676, device='cuda:0', grad_fn=<AddBackward0>)]\n",
      "0.34654805760340196\n",
      "tensor(-75.8860, device='cuda:0', grad_fn=<NegBackward0>) [tensor(-37.6815, device='cuda:0', grad_fn=<NegBackward0>), tensor(-37.0040, device='cuda:0', grad_fn=<NegBackward0>), tensor(-2.3219, device='cuda:0', grad_fn=<AddBackward0>)]\n",
      "0.3294392322213056\n",
      "tensor(-76.0465, device='cuda:0', grad_fn=<NegBackward0>) [tensor(-37.6815, device='cuda:0', grad_fn=<NegBackward0>), tensor(-37.2678, device='cuda:0', grad_fn=<NegBackward0>), tensor(-1.9957, device='cuda:0', grad_fn=<AddBackward0>)]\n",
      "0.3395076416093506\n",
      "tensor(-75.0760, device='cuda:0', grad_fn=<NegBackward0>) [tensor(-37.2552, device='cuda:0', grad_fn=<NegBackward0>), tensor(-36.6887, device='cuda:0', grad_fn=<NegBackward0>), tensor(-2.1026, device='cuda:0', grad_fn=<AddBackward0>)]\n",
      "0.3535430169342389\n",
      "tensor(-75.1949, device='cuda:0', grad_fn=<NegBackward0>) [tensor(-37.2552, device='cuda:0', grad_fn=<NegBackward0>), tensor(-36.6273, device='cuda:0', grad_fn=<NegBackward0>), tensor(-2.7154, device='cuda:0', grad_fn=<AddBackward0>)]\n",
      "0.3434089275698783\n",
      "tensor(-77.0803, device='cuda:0', grad_fn=<NegBackward0>) [tensor(-38.2085, device='cuda:0', grad_fn=<NegBackward0>), tensor(-37.5782, device='cuda:0', grad_fn=<NegBackward0>), tensor(-2.6457, device='cuda:0', grad_fn=<AddBackward0>)]\n",
      "0.3656925853846368\n",
      "tensor(-77.0781, device='cuda:0', grad_fn=<NegBackward0>) [tensor(-38.2085, device='cuda:0', grad_fn=<NegBackward0>), tensor(-37.5243, device='cuda:0', grad_fn=<NegBackward0>), tensor(-2.8394, device='cuda:0', grad_fn=<AddBackward0>)]\n",
      "0.36972489883436677\n",
      "tensor(-77.9478, device='cuda:0', grad_fn=<NegBackward0>) [tensor(-38.7136, device='cuda:0', grad_fn=<NegBackward0>), tensor(-37.9500, device='cuda:0', grad_fn=<NegBackward0>), tensor(-2.6115, device='cuda:0', grad_fn=<AddBackward0>)]\n",
      "0.31877993828403606\n",
      "tensor(-77.8788, device='cuda:0', grad_fn=<NegBackward0>) [tensor(-38.7136, device='cuda:0', grad_fn=<NegBackward0>), tensor(-38.1032, device='cuda:0', grad_fn=<NegBackward0>), tensor(-1.8922, device='cuda:0', grad_fn=<AddBackward0>)]\n",
      "0.33529793417617626\n",
      "tensor(-77.8178, device='cuda:0', grad_fn=<NegBackward0>) [tensor(-38.6384, device='cuda:0', grad_fn=<NegBackward0>), tensor(-37.9553, device='cuda:0', grad_fn=<NegBackward0>), tensor(-2.4009, device='cuda:0', grad_fn=<AddBackward0>)]\n",
      "0.35879574247722423\n",
      "tensor(-77.9611, device='cuda:0', grad_fn=<NegBackward0>) [tensor(-38.6384, device='cuda:0', grad_fn=<NegBackward0>), tensor(-37.9780, device='cuda:0', grad_fn=<NegBackward0>), tensor(-2.8368, device='cuda:0', grad_fn=<AddBackward0>)]\n",
      "0.3302385183945514\n",
      "tensor(-78.3096, device='cuda:0', grad_fn=<NegBackward0>) [tensor(-38.9306, device='cuda:0', grad_fn=<NegBackward0>), tensor(-38.1828, device='cuda:0', grad_fn=<NegBackward0>), tensor(-2.3075, device='cuda:0', grad_fn=<AddBackward0>)]\n",
      "0.3185252902991475\n",
      "tensor(-78.4061, device='cuda:0', grad_fn=<NegBackward0>) [tensor(-38.9306, device='cuda:0', grad_fn=<NegBackward0>), tensor(-38.3708, device='cuda:0', grad_fn=<NegBackward0>), tensor(-2.0184, device='cuda:0', grad_fn=<AddBackward0>)]\n",
      "0.3627917176374564\n",
      "tensor(-78.4812, device='cuda:0', grad_fn=<NegBackward0>) [tensor(-39.0374, device='cuda:0', grad_fn=<NegBackward0>), tensor(-38.0963, device='cuda:0', grad_fn=<NegBackward0>), tensor(-2.8480, device='cuda:0', grad_fn=<AddBackward0>)]\n",
      "0.3262875476664034\n",
      "tensor(-78.5944, device='cuda:0', grad_fn=<NegBackward0>) [tensor(-39.0374, device='cuda:0', grad_fn=<NegBackward0>), tensor(-38.4844, device='cuda:0', grad_fn=<NegBackward0>), tensor(-1.9230, device='cuda:0', grad_fn=<AddBackward0>)]\n",
      "0.3104090726393793\n",
      "tensor(-78.5961, device='cuda:0', grad_fn=<NegBackward0>) [tensor(-39.0263, device='cuda:0', grad_fn=<NegBackward0>), tensor(-38.5278, device='cuda:0', grad_fn=<NegBackward0>), tensor(-1.8349, device='cuda:0', grad_fn=<AddBackward0>)]\n",
      "0.2996357646415437\n",
      "tensor(-78.4832, device='cuda:0', grad_fn=<NegBackward0>) [tensor(-39.0263, device='cuda:0', grad_fn=<NegBackward0>), tensor(-38.4052, device='cuda:0', grad_fn=<NegBackward0>), tensor(-1.8627, device='cuda:0', grad_fn=<AddBackward0>)]\n",
      "0.3433563944100859\n",
      "tensor(-78.1102, device='cuda:0', grad_fn=<NegBackward0>) [tensor(-38.8001, device='cuda:0', grad_fn=<NegBackward0>), tensor(-38.0743, device='cuda:0', grad_fn=<NegBackward0>), tensor(-2.4412, device='cuda:0', grad_fn=<AddBackward0>)]\n",
      "0.3129018644120648\n",
      "tensor(-78.1294, device='cuda:0', grad_fn=<NegBackward0>) [tensor(-38.8001, device='cuda:0', grad_fn=<NegBackward0>), tensor(-38.2042, device='cuda:0', grad_fn=<NegBackward0>), tensor(-2.0804, device='cuda:0', grad_fn=<AddBackward0>)]\n",
      "0.29717648789443063\n",
      "tensor(-77.4691, device='cuda:0', grad_fn=<NegBackward0>) [tensor(-38.4780, device='cuda:0', grad_fn=<NegBackward0>), tensor(-37.9648, device='cuda:0', grad_fn=<NegBackward0>), tensor(-1.7905, device='cuda:0', grad_fn=<AddBackward0>)]\n",
      "0.3369725370708609\n",
      "tensor(-77.6347, device='cuda:0', grad_fn=<NegBackward0>) [tensor(-38.4780, device='cuda:0', grad_fn=<NegBackward0>), tensor(-37.9067, device='cuda:0', grad_fn=<NegBackward0>), tensor(-2.4903, device='cuda:0', grad_fn=<AddBackward0>)]\n",
      "0.317305943516425\n",
      "tensor(-78.3957, device='cuda:0', grad_fn=<NegBackward0>) [tensor(-38.9219, device='cuda:0', grad_fn=<NegBackward0>), tensor(-38.3125, device='cuda:0', grad_fn=<NegBackward0>), tensor(-2.1941, device='cuda:0', grad_fn=<AddBackward0>)]\n",
      "0.3276189721198253\n",
      "tensor(-78.4434, device='cuda:0', grad_fn=<NegBackward0>) [tensor(-38.9219, device='cuda:0', grad_fn=<NegBackward0>), tensor(-38.3390, device='cuda:0', grad_fn=<NegBackward0>), tensor(-2.2623, device='cuda:0', grad_fn=<AddBackward0>)]\n",
      "0.36162139297238144\n",
      "tensor(-78.4974, device='cuda:0', grad_fn=<NegBackward0>) [tensor(-39.1022, device='cuda:0', grad_fn=<NegBackward0>), tensor(-38.0874, device='cuda:0', grad_fn=<NegBackward0>), tensor(-2.6982, device='cuda:0', grad_fn=<AddBackward0>)]\n",
      "0.3200998604997012\n",
      "tensor(-78.6961, device='cuda:0', grad_fn=<NegBackward0>) [tensor(-39.1022, device='cuda:0', grad_fn=<NegBackward0>), tensor(-38.4843, device='cuda:0', grad_fn=<NegBackward0>), tensor(-2.0332, device='cuda:0', grad_fn=<AddBackward0>)]\n",
      "0.3302807647093591\n",
      "tensor(-78.6502, device='cuda:0', grad_fn=<NegBackward0>) [tensor(-39.1442, device='cuda:0', grad_fn=<NegBackward0>), tensor(-38.3285, device='cuda:0', grad_fn=<NegBackward0>), tensor(-2.2464, device='cuda:0', grad_fn=<AddBackward0>)]\n",
      "0.3373436569684638\n",
      "tensor(-78.7248, device='cuda:0', grad_fn=<NegBackward0>) [tensor(-39.1442, device='cuda:0', grad_fn=<NegBackward0>), tensor(-38.3746, device='cuda:0', grad_fn=<NegBackward0>), tensor(-2.3403, device='cuda:0', grad_fn=<AddBackward0>)]\n",
      "0.31941993314554157\n",
      "tensor(-79.0405, device='cuda:0', grad_fn=<NegBackward0>) [tensor(-39.3015, device='cuda:0', grad_fn=<NegBackward0>), tensor(-38.5375, device='cuda:0', grad_fn=<NegBackward0>), tensor(-2.3249, device='cuda:0', grad_fn=<AddBackward0>)]\n",
      "0.3693647463440419\n",
      "tensor(-78.7782, device='cuda:0', grad_fn=<NegBackward0>) [tensor(-39.3015, device='cuda:0', grad_fn=<NegBackward0>), tensor(-38.1457, device='cuda:0', grad_fn=<NegBackward0>), tensor(-2.7848, device='cuda:0', grad_fn=<AddBackward0>)]\n",
      "0.32529249642432656\n",
      "tensor(-79.0415, device='cuda:0', grad_fn=<NegBackward0>) [tensor(-39.3292, device='cuda:0', grad_fn=<NegBackward0>), tensor(-38.5401, device='cuda:0', grad_fn=<NegBackward0>), tensor(-2.2292, device='cuda:0', grad_fn=<AddBackward0>)]\n",
      "0.3162145535876192\n",
      "tensor(-79.1734, device='cuda:0', grad_fn=<NegBackward0>) [tensor(-39.3292, device='cuda:0', grad_fn=<NegBackward0>), tensor(-38.7102, device='cuda:0', grad_fn=<NegBackward0>), tensor(-2.1082, device='cuda:0', grad_fn=<AddBackward0>)]\n",
      "0.29024578537285417\n",
      "tensor(-79.7707, device='cuda:0', grad_fn=<NegBackward0>) [tensor(-39.6493, device='cuda:0', grad_fn=<NegBackward0>), tensor(-39.1595, device='cuda:0', grad_fn=<NegBackward0>), tensor(-1.6164, device='cuda:0', grad_fn=<AddBackward0>)]\n",
      "0.3317546886469449\n",
      "tensor(-79.7693, device='cuda:0', grad_fn=<NegBackward0>) [tensor(-39.6493, device='cuda:0', grad_fn=<NegBackward0>), tensor(-38.9151, device='cuda:0', grad_fn=<NegBackward0>), tensor(-2.3364, device='cuda:0', grad_fn=<AddBackward0>)]\n"
     ]
    },
    {
     "name": "stdout",
     "output_type": "stream",
     "text": [
      "0.2985049710826652\n",
      "tensor(-80.4374, device='cuda:0', grad_fn=<NegBackward0>) [tensor(-39.9591, device='cuda:0', grad_fn=<NegBackward0>), tensor(-39.4917, device='cuda:0', grad_fn=<NegBackward0>), tensor(-1.6818, device='cuda:0', grad_fn=<AddBackward0>)]\n",
      "0.3104627157962046\n",
      "tensor(-80.3361, device='cuda:0', grad_fn=<NegBackward0>) [tensor(-39.9591, device='cuda:0', grad_fn=<NegBackward0>), tensor(-39.3886, device='cuda:0', grad_fn=<NegBackward0>), tensor(-1.6868, device='cuda:0', grad_fn=<AddBackward0>)]\n",
      "0.335513142942842\n",
      "tensor(-80.3810, device='cuda:0', grad_fn=<NegBackward0>) [tensor(-39.9830, device='cuda:0', grad_fn=<NegBackward0>), tensor(-39.1870, device='cuda:0', grad_fn=<NegBackward0>), tensor(-2.3568, device='cuda:0', grad_fn=<AddBackward0>)]\n",
      "0.3219427531718183\n",
      "tensor(-80.4004, device='cuda:0', grad_fn=<NegBackward0>) [tensor(-39.9830, device='cuda:0', grad_fn=<NegBackward0>), tensor(-39.2051, device='cuda:0', grad_fn=<NegBackward0>), tensor(-2.3615, device='cuda:0', grad_fn=<AddBackward0>)]\n",
      "0.32472831570919847\n",
      "tensor(-79.9171, device='cuda:0', grad_fn=<NegBackward0>) [tensor(-39.7865, device='cuda:0', grad_fn=<NegBackward0>), tensor(-38.9742, device='cuda:0', grad_fn=<NegBackward0>), tensor(-2.1784, device='cuda:0', grad_fn=<AddBackward0>)]\n",
      "0.3197215932466879\n",
      "tensor(-80.1632, device='cuda:0', grad_fn=<NegBackward0>) [tensor(-39.7865, device='cuda:0', grad_fn=<NegBackward0>), tensor(-39.2745, device='cuda:0', grad_fn=<NegBackward0>), tensor(-2.0110, device='cuda:0', grad_fn=<AddBackward0>)]\n",
      "0.2963519700130665\n",
      "tensor(-80.1973, device='cuda:0', grad_fn=<NegBackward0>) [tensor(-39.9194, device='cuda:0', grad_fn=<NegBackward0>), tensor(-39.2172, device='cuda:0', grad_fn=<NegBackward0>), tensor(-1.8882, device='cuda:0', grad_fn=<AddBackward0>)]\n",
      "0.3255307521219711\n",
      "tensor(-80.3820, device='cuda:0', grad_fn=<NegBackward0>) [tensor(-39.9194, device='cuda:0', grad_fn=<NegBackward0>), tensor(-39.3901, device='cuda:0', grad_fn=<NegBackward0>), tensor(-1.9228, device='cuda:0', grad_fn=<AddBackward0>)]\n",
      "0.285961102910394\n",
      "tensor(-80.8061, device='cuda:0', grad_fn=<NegBackward0>) [tensor(-40.1270, device='cuda:0', grad_fn=<NegBackward0>), tensor(-39.6847, device='cuda:0', grad_fn=<NegBackward0>), tensor(-1.7032, device='cuda:0', grad_fn=<AddBackward0>)]\n",
      "0.31059843324891395\n",
      "tensor(-80.6812, device='cuda:0', grad_fn=<NegBackward0>) [tensor(-40.1270, device='cuda:0', grad_fn=<NegBackward0>), tensor(-39.5119, device='cuda:0', grad_fn=<NegBackward0>), tensor(-1.8360, device='cuda:0', grad_fn=<AddBackward0>)]\n",
      "0.29644914628763996\n",
      "tensor(-80.5189, device='cuda:0', grad_fn=<NegBackward0>) [tensor(-40.0310, device='cuda:0', grad_fn=<NegBackward0>), tensor(-39.4900, device='cuda:0', grad_fn=<NegBackward0>), tensor(-1.7126, device='cuda:0', grad_fn=<AddBackward0>)]\n",
      "0.3025816494654248\n",
      "tensor(-80.4260, device='cuda:0', grad_fn=<NegBackward0>) [tensor(-40.0310, device='cuda:0', grad_fn=<NegBackward0>), tensor(-39.3970, device='cuda:0', grad_fn=<NegBackward0>), tensor(-1.7130, device='cuda:0', grad_fn=<AddBackward0>)]\n",
      "0.3348967439347666\n",
      "tensor(-80.5942, device='cuda:0', grad_fn=<NegBackward0>) [tensor(-40.0313, device='cuda:0', grad_fn=<NegBackward0>), tensor(-39.3595, device='cuda:0', grad_fn=<NegBackward0>), tensor(-2.3315, device='cuda:0', grad_fn=<AddBackward0>)]\n",
      "0.2548382350660504\n",
      "tensor(-80.3431, device='cuda:0', grad_fn=<NegBackward0>) [tensor(-40.0313, device='cuda:0', grad_fn=<NegBackward0>), tensor(-39.4798, device='cuda:0', grad_fn=<NegBackward0>), tensor(-1.2979, device='cuda:0', grad_fn=<AddBackward0>)]\n",
      "0.3361212137171247\n",
      "tensor(-80.0972, device='cuda:0', grad_fn=<NegBackward0>) [tensor(-39.7654, device='cuda:0', grad_fn=<NegBackward0>), tensor(-39.0786, device='cuda:0', grad_fn=<NegBackward0>), tensor(-2.5016, device='cuda:0', grad_fn=<AddBackward0>)]\n",
      "0.3245638585800871\n",
      "tensor(-80.0367, device='cuda:0', grad_fn=<NegBackward0>) [tensor(-39.7654, device='cuda:0', grad_fn=<NegBackward0>), tensor(-39.0899, device='cuda:0', grad_fn=<NegBackward0>), tensor(-2.2589, device='cuda:0', grad_fn=<AddBackward0>)]\n",
      "0.31984182406621064\n",
      "tensor(-81.1768, device='cuda:0', grad_fn=<NegBackward0>) [tensor(-40.3967, device='cuda:0', grad_fn=<NegBackward0>), tensor(-39.6829, device='cuda:0', grad_fn=<NegBackward0>), tensor(-1.9957, device='cuda:0', grad_fn=<AddBackward0>)]\n",
      "0.2585328500446208\n",
      "tensor(-81.1824, device='cuda:0', grad_fn=<NegBackward0>) [tensor(-40.3967, device='cuda:0', grad_fn=<NegBackward0>), tensor(-39.9591, device='cuda:0', grad_fn=<NegBackward0>), tensor(-1.2854, device='cuda:0', grad_fn=<AddBackward0>)]\n",
      "0.33105184899222767\n",
      "tensor(-81.0250, device='cuda:0', grad_fn=<NegBackward0>) [tensor(-40.3664, device='cuda:0', grad_fn=<NegBackward0>), tensor(-39.4640, device='cuda:0', grad_fn=<NegBackward0>), tensor(-2.3020, device='cuda:0', grad_fn=<AddBackward0>)]\n",
      "0.3008208694033365\n",
      "tensor(-81.2279, device='cuda:0', grad_fn=<NegBackward0>) [tensor(-40.3664, device='cuda:0', grad_fn=<NegBackward0>), tensor(-39.8203, device='cuda:0', grad_fn=<NegBackward0>), tensor(-1.8325, device='cuda:0', grad_fn=<AddBackward0>)]\n",
      "0.3210609706121363\n",
      "tensor(-81.5537, device='cuda:0', grad_fn=<NegBackward0>) [tensor(-40.5272, device='cuda:0', grad_fn=<NegBackward0>), tensor(-39.8945, device='cuda:0', grad_fn=<NegBackward0>), tensor(-2.1018, device='cuda:0', grad_fn=<AddBackward0>)]\n",
      "0.31647341537153195\n",
      "tensor(-81.5580, device='cuda:0', grad_fn=<NegBackward0>) [tensor(-40.5272, device='cuda:0', grad_fn=<NegBackward0>), tensor(-39.9753, device='cuda:0', grad_fn=<NegBackward0>), tensor(-1.8735, device='cuda:0', grad_fn=<AddBackward0>)]\n",
      "0.3117738657090149\n",
      "tensor(-81.7360, device='cuda:0', grad_fn=<NegBackward0>) [tensor(-40.6247, device='cuda:0', grad_fn=<NegBackward0>), tensor(-40.0285, device='cuda:0', grad_fn=<NegBackward0>), tensor(-1.9530, device='cuda:0', grad_fn=<AddBackward0>)]\n",
      "0.31953810293136986\n",
      "tensor(-81.6360, device='cuda:0', grad_fn=<NegBackward0>) [tensor(-40.6247, device='cuda:0', grad_fn=<NegBackward0>), tensor(-39.9434, device='cuda:0', grad_fn=<NegBackward0>), tensor(-1.9090, device='cuda:0', grad_fn=<AddBackward0>)]\n",
      "0.2504574147492058\n",
      "tensor(-81.3237, device='cuda:0', grad_fn=<NegBackward0>) [tensor(-40.4808, device='cuda:0', grad_fn=<NegBackward0>), tensor(-40.0626, device='cuda:0', grad_fn=<NegBackward0>), tensor(-1.1822, device='cuda:0', grad_fn=<AddBackward0>)]\n",
      "0.32647392835961003\n",
      "tensor(-81.3340, device='cuda:0', grad_fn=<NegBackward0>) [tensor(-40.4808, device='cuda:0', grad_fn=<NegBackward0>), tensor(-39.6847, device='cuda:0', grad_fn=<NegBackward0>), tensor(-2.2172, device='cuda:0', grad_fn=<AddBackward0>)]\n",
      "0.295485670117737\n",
      "tensor(-81.5780, device='cuda:0', grad_fn=<NegBackward0>) [tensor(-40.5695, device='cuda:0', grad_fn=<NegBackward0>), tensor(-39.9985, device='cuda:0', grad_fn=<NegBackward0>), tensor(-1.7458, device='cuda:0', grad_fn=<AddBackward0>)]\n",
      "0.30381349035701294\n",
      "tensor(-81.5424, device='cuda:0', grad_fn=<NegBackward0>) [tensor(-40.5695, device='cuda:0', grad_fn=<NegBackward0>), tensor(-39.8994, device='cuda:0', grad_fn=<NegBackward0>), tensor(-1.9256, device='cuda:0', grad_fn=<AddBackward0>)]\n",
      "0.31185038912069685\n",
      "tensor(-81.7287, device='cuda:0', grad_fn=<NegBackward0>) [tensor(-40.6766, device='cuda:0', grad_fn=<NegBackward0>), tensor(-39.9743, device='cuda:0', grad_fn=<NegBackward0>), tensor(-1.9385, device='cuda:0', grad_fn=<AddBackward0>)]\n",
      "0.3405142098589651\n",
      "tensor(-81.6957, device='cuda:0', grad_fn=<NegBackward0>) [tensor(-40.6766, device='cuda:0', grad_fn=<NegBackward0>), tensor(-39.8176, device='cuda:0', grad_fn=<NegBackward0>), tensor(-2.3254, device='cuda:0', grad_fn=<AddBackward0>)]\n",
      "0.3189127399306383\n",
      "tensor(-82.4152, device='cuda:0', grad_fn=<NegBackward0>) [tensor(-41.0069, device='cuda:0', grad_fn=<NegBackward0>), tensor(-40.3182, device='cuda:0', grad_fn=<NegBackward0>), tensor(-1.9743, device='cuda:0', grad_fn=<AddBackward0>)]\n",
      "0.2698577914890108\n",
      "tensor(-82.3790, device='cuda:0', grad_fn=<NegBackward0>) [tensor(-41.0069, device='cuda:0', grad_fn=<NegBackward0>), tensor(-40.4864, device='cuda:0', grad_fn=<NegBackward0>), tensor(-1.4246, device='cuda:0', grad_fn=<AddBackward0>)]\n",
      "0.31633274065524186\n",
      "tensor(-82.1360, device='cuda:0', grad_fn=<NegBackward0>) [tensor(-40.8973, device='cuda:0', grad_fn=<NegBackward0>), tensor(-40.0742, device='cuda:0', grad_fn=<NegBackward0>), tensor(-2.2043, device='cuda:0', grad_fn=<AddBackward0>)]\n"
     ]
    },
    {
     "name": "stdout",
     "output_type": "stream",
     "text": [
      "0.31505328959812084\n",
      "tensor(-82.1567, device='cuda:0', grad_fn=<NegBackward0>) [tensor(-40.8973, device='cuda:0', grad_fn=<NegBackward0>), tensor(-40.1655, device='cuda:0', grad_fn=<NegBackward0>), tensor(-1.9858, device='cuda:0', grad_fn=<AddBackward0>)]\n",
      "0.2906330535087022\n",
      "tensor(-82.2514, device='cuda:0', grad_fn=<NegBackward0>) [tensor(-40.9380, device='cuda:0', grad_fn=<NegBackward0>), tensor(-40.3217, device='cuda:0', grad_fn=<NegBackward0>), tensor(-1.6959, device='cuda:0', grad_fn=<AddBackward0>)]\n",
      "0.3079688354419447\n",
      "tensor(-82.2968, device='cuda:0', grad_fn=<NegBackward0>) [tensor(-40.9380, device='cuda:0', grad_fn=<NegBackward0>), tensor(-40.3040, device='cuda:0', grad_fn=<NegBackward0>), tensor(-1.8714, device='cuda:0', grad_fn=<AddBackward0>)]\n",
      "0.2869285407217423\n",
      "tensor(-82.8696, device='cuda:0', grad_fn=<NegBackward0>) [tensor(-41.2532, device='cuda:0', grad_fn=<NegBackward0>), tensor(-40.6381, device='cuda:0', grad_fn=<NegBackward0>), tensor(-1.6599, device='cuda:0', grad_fn=<AddBackward0>)]\n",
      "0.3212377166883521\n",
      "tensor(-82.8921, device='cuda:0', grad_fn=<NegBackward0>) [tensor(-41.2532, device='cuda:0', grad_fn=<NegBackward0>), tensor(-40.5471, device='cuda:0', grad_fn=<NegBackward0>), tensor(-1.9793, device='cuda:0', grad_fn=<AddBackward0>)]\n",
      "0.3159002591535172\n",
      "tensor(-83.0204, device='cuda:0', grad_fn=<NegBackward0>) [tensor(-41.3420, device='cuda:0', grad_fn=<NegBackward0>), tensor(-40.5936, device='cuda:0', grad_fn=<NegBackward0>), tensor(-1.9585, device='cuda:0', grad_fn=<AddBackward0>)]\n",
      "0.2806314157085059\n",
      "tensor(-83.0891, device='cuda:0', grad_fn=<NegBackward0>) [tensor(-41.3420, device='cuda:0', grad_fn=<NegBackward0>), tensor(-40.8130, device='cuda:0', grad_fn=<NegBackward0>), tensor(-1.5450, device='cuda:0', grad_fn=<AddBackward0>)]\n",
      "0.2863875812564718\n",
      "tensor(-82.5667, device='cuda:0', grad_fn=<NegBackward0>) [tensor(-41.0734, device='cuda:0', grad_fn=<NegBackward0>), tensor(-40.5152, device='cuda:0', grad_fn=<NegBackward0>), tensor(-1.6592, device='cuda:0', grad_fn=<AddBackward0>)]\n",
      "0.2923705736217332\n",
      "tensor(-82.6384, device='cuda:0', grad_fn=<NegBackward0>) [tensor(-41.0734, device='cuda:0', grad_fn=<NegBackward0>), tensor(-40.5867, device='cuda:0', grad_fn=<NegBackward0>), tensor(-1.6600, device='cuda:0', grad_fn=<AddBackward0>)]\n",
      "0.2837776787262696\n",
      "tensor(-82.8218, device='cuda:0', grad_fn=<NegBackward0>) [tensor(-41.2768, device='cuda:0', grad_fn=<NegBackward0>), tensor(-40.6575, device='cuda:0', grad_fn=<NegBackward0>), tensor(-1.4292, device='cuda:0', grad_fn=<AddBackward0>)]\n",
      "0.2942188068603458\n",
      "tensor(-82.9843, device='cuda:0', grad_fn=<NegBackward0>) [tensor(-41.2768, device='cuda:0', grad_fn=<NegBackward0>), tensor(-40.7072, device='cuda:0', grad_fn=<NegBackward0>), tensor(-1.7191, device='cuda:0', grad_fn=<AddBackward0>)]\n",
      "0.33117192674997425\n",
      "tensor(-83.0063, device='cuda:0', grad_fn=<NegBackward0>) [tensor(-41.2983, device='cuda:0', grad_fn=<NegBackward0>), tensor(-40.5516, device='cuda:0', grad_fn=<NegBackward0>), tensor(-2.1785, device='cuda:0', grad_fn=<AddBackward0>)]\n",
      "0.30476757960414846\n",
      "tensor(-82.9599, device='cuda:0', grad_fn=<NegBackward0>) [tensor(-41.2983, device='cuda:0', grad_fn=<NegBackward0>), tensor(-40.6339, device='cuda:0', grad_fn=<NegBackward0>), tensor(-1.7948, device='cuda:0', grad_fn=<AddBackward0>)]\n",
      "0.28899133426340673\n",
      "tensor(-82.3134, device='cuda:0', grad_fn=<NegBackward0>) [tensor(-40.9382, device='cuda:0', grad_fn=<NegBackward0>), tensor(-40.3798, device='cuda:0', grad_fn=<NegBackward0>), tensor(-1.7060, device='cuda:0', grad_fn=<AddBackward0>)]\n",
      "0.3088501229296689\n",
      "tensor(-82.1754, device='cuda:0', grad_fn=<NegBackward0>) [tensor(-40.9382, device='cuda:0', grad_fn=<NegBackward0>), tensor(-40.1435, device='cuda:0', grad_fn=<NegBackward0>), tensor(-1.9852, device='cuda:0', grad_fn=<AddBackward0>)]\n",
      "0.2835786194102031\n",
      "tensor(-82.6051, device='cuda:0', grad_fn=<NegBackward0>) [tensor(-41.1367, device='cuda:0', grad_fn=<NegBackward0>), tensor(-40.4686, device='cuda:0', grad_fn=<NegBackward0>), tensor(-1.7179, device='cuda:0', grad_fn=<AddBackward0>)]\n",
      "0.3200438817726189\n",
      "tensor(-82.5957, device='cuda:0', grad_fn=<NegBackward0>) [tensor(-41.1367, device='cuda:0', grad_fn=<NegBackward0>), tensor(-40.3738, device='cuda:0', grad_fn=<NegBackward0>), tensor(-1.9601, device='cuda:0', grad_fn=<AddBackward0>)]\n",
      "0.2835960796910462\n",
      "tensor(-82.4877, device='cuda:0', grad_fn=<NegBackward0>) [tensor(-41.0641, device='cuda:0', grad_fn=<NegBackward0>), tensor(-40.4608, device='cuda:0', grad_fn=<NegBackward0>), tensor(-1.6189, device='cuda:0', grad_fn=<AddBackward0>)]\n",
      "0.2986868080732803\n",
      "tensor(-82.4262, device='cuda:0', grad_fn=<NegBackward0>) [tensor(-41.0641, device='cuda:0', grad_fn=<NegBackward0>), tensor(-40.3699, device='cuda:0', grad_fn=<NegBackward0>), tensor(-1.6974, device='cuda:0', grad_fn=<AddBackward0>)]\n",
      "0.27467816623847385\n",
      "tensor(-83.1037, device='cuda:0', grad_fn=<NegBackward0>) [tensor(-41.3799, device='cuda:0', grad_fn=<NegBackward0>), tensor(-40.8070, device='cuda:0', grad_fn=<NegBackward0>), tensor(-1.5013, device='cuda:0', grad_fn=<AddBackward0>)]\n",
      "0.25371161141096427\n",
      "tensor(-83.0738, device='cuda:0', grad_fn=<NegBackward0>) [tensor(-41.3799, device='cuda:0', grad_fn=<NegBackward0>), tensor(-40.9027, device='cuda:0', grad_fn=<NegBackward0>), tensor(-1.2060, device='cuda:0', grad_fn=<AddBackward0>)]\n",
      "0.28271475319132894\n",
      "tensor(-83.1717, device='cuda:0', grad_fn=<NegBackward0>) [tensor(-41.3613, device='cuda:0', grad_fn=<NegBackward0>), tensor(-40.8305, device='cuda:0', grad_fn=<NegBackward0>), tensor(-1.6642, device='cuda:0', grad_fn=<AddBackward0>)]\n",
      "0.26280091632553726\n",
      "tensor(-82.9600, device='cuda:0', grad_fn=<NegBackward0>) [tensor(-41.3613, device='cuda:0', grad_fn=<NegBackward0>), tensor(-40.7850, device='cuda:0', grad_fn=<NegBackward0>), tensor(-1.2563, device='cuda:0', grad_fn=<AddBackward0>)]\n",
      "0.30932737734552523\n",
      "tensor(-83.1053, device='cuda:0', grad_fn=<NegBackward0>) [tensor(-41.4360, device='cuda:0', grad_fn=<NegBackward0>), tensor(-40.5412, device='cuda:0', grad_fn=<NegBackward0>), tensor(-2.0899, device='cuda:0', grad_fn=<AddBackward0>)]\n",
      "0.31631523236832115\n",
      "tensor(-83.0884, device='cuda:0', grad_fn=<NegBackward0>) [tensor(-41.4360, device='cuda:0', grad_fn=<NegBackward0>), tensor(-40.5781, device='cuda:0', grad_fn=<NegBackward0>), tensor(-1.9281, device='cuda:0', grad_fn=<AddBackward0>)]\n",
      "0.3096954613777619\n",
      "tensor(-83.3999, device='cuda:0', grad_fn=<NegBackward0>) [tensor(-41.5865, device='cuda:0', grad_fn=<NegBackward0>), tensor(-40.6912, device='cuda:0', grad_fn=<NegBackward0>), tensor(-2.0715, device='cuda:0', grad_fn=<AddBackward0>)]\n",
      "0.28213964625034865\n",
      "tensor(-83.6238, device='cuda:0', grad_fn=<NegBackward0>) [tensor(-41.5865, device='cuda:0', grad_fn=<NegBackward0>), tensor(-41.1240, device='cuda:0', grad_fn=<NegBackward0>), tensor(-1.4926, device='cuda:0', grad_fn=<AddBackward0>)]\n",
      "0.28770391775139237\n",
      "tensor(-83.7505, device='cuda:0', grad_fn=<NegBackward0>) [tensor(-41.6977, device='cuda:0', grad_fn=<NegBackward0>), tensor(-41.0972, device='cuda:0', grad_fn=<NegBackward0>), tensor(-1.6003, device='cuda:0', grad_fn=<AddBackward0>)]\n",
      "0.31162239394652236\n",
      "tensor(-83.8404, device='cuda:0', grad_fn=<NegBackward0>) [tensor(-41.6977, device='cuda:0', grad_fn=<NegBackward0>), tensor(-41.0016, device='cuda:0', grad_fn=<NegBackward0>), tensor(-2.1306, device='cuda:0', grad_fn=<AddBackward0>)]\n",
      "0.2752708261206887\n",
      "tensor(-83.8974, device='cuda:0', grad_fn=<NegBackward0>) [tensor(-41.6960, device='cuda:0', grad_fn=<NegBackward0>), tensor(-41.2160, device='cuda:0', grad_fn=<NegBackward0>), tensor(-1.6787, device='cuda:0', grad_fn=<AddBackward0>)]\n",
      "0.29541452743193336\n",
      "tensor(-83.5601, device='cuda:0', grad_fn=<NegBackward0>) [tensor(-41.6960, device='cuda:0', grad_fn=<NegBackward0>), tensor(-40.8724, device='cuda:0', grad_fn=<NegBackward0>), tensor(-1.6959, device='cuda:0', grad_fn=<AddBackward0>)]\n",
      "0.31532827042831324\n",
      "tensor(-83.9370, device='cuda:0', grad_fn=<NegBackward0>) [tensor(-41.7870, device='cuda:0', grad_fn=<NegBackward0>), tensor(-41.1033, device='cuda:0', grad_fn=<NegBackward0>), tensor(-1.8481, device='cuda:0', grad_fn=<AddBackward0>)]\n",
      "0.31806557502357435\n",
      "tensor(-84.0309, device='cuda:0', grad_fn=<NegBackward0>) [tensor(-41.7870, device='cuda:0', grad_fn=<NegBackward0>), tensor(-41.1697, device='cuda:0', grad_fn=<NegBackward0>), tensor(-1.9276, device='cuda:0', grad_fn=<AddBackward0>)]\n"
     ]
    },
    {
     "name": "stdout",
     "output_type": "stream",
     "text": [
      "0.28868492491512654\n",
      "tensor(-84.1809, device='cuda:0', grad_fn=<NegBackward0>) [tensor(-41.8912, device='cuda:0', grad_fn=<NegBackward0>), tensor(-41.3577, device='cuda:0', grad_fn=<NegBackward0>), tensor(-1.5396, device='cuda:0', grad_fn=<AddBackward0>)]\n",
      "0.2810072034470125\n",
      "tensor(-84.1001, device='cuda:0', grad_fn=<NegBackward0>) [tensor(-41.8912, device='cuda:0', grad_fn=<NegBackward0>), tensor(-41.2827, device='cuda:0', grad_fn=<NegBackward0>), tensor(-1.5250, device='cuda:0', grad_fn=<AddBackward0>)]\n",
      "0.2801822461034396\n",
      "tensor(-84.3997, device='cuda:0', grad_fn=<NegBackward0>) [tensor(-42.0569, device='cuda:0', grad_fn=<NegBackward0>), tensor(-41.4269, device='cuda:0', grad_fn=<NegBackward0>), tensor(-1.4991, device='cuda:0', grad_fn=<AddBackward0>)]\n",
      "0.2916091296799821\n",
      "tensor(-84.4268, device='cuda:0', grad_fn=<NegBackward0>) [tensor(-42.0569, device='cuda:0', grad_fn=<NegBackward0>), tensor(-41.3707, device='cuda:0', grad_fn=<NegBackward0>), tensor(-1.7160, device='cuda:0', grad_fn=<AddBackward0>)]\n",
      "0.301301002553284\n",
      "tensor(-83.7114, device='cuda:0', grad_fn=<NegBackward0>) [tensor(-41.7555, device='cuda:0', grad_fn=<NegBackward0>), tensor(-40.7648, device='cuda:0', grad_fn=<NegBackward0>), tensor(-2.2905, device='cuda:0', grad_fn=<AddBackward0>)]\n",
      "0.28934438836252835\n",
      "tensor(-83.9057, device='cuda:0', grad_fn=<NegBackward0>) [tensor(-41.7555, device='cuda:0', grad_fn=<NegBackward0>), tensor(-41.1931, device='cuda:0', grad_fn=<NegBackward0>), tensor(-1.6042, device='cuda:0', grad_fn=<AddBackward0>)]\n",
      "0.30207104934820117\n",
      "tensor(-84.4536, device='cuda:0', grad_fn=<NegBackward0>) [tensor(-42.0018, device='cuda:0', grad_fn=<NegBackward0>), tensor(-41.4749, device='cuda:0', grad_fn=<NegBackward0>), tensor(-1.6562, device='cuda:0', grad_fn=<AddBackward0>)]\n",
      "0.29421385621085366\n",
      "tensor(-84.4642, device='cuda:0', grad_fn=<NegBackward0>) [tensor(-42.0018, device='cuda:0', grad_fn=<NegBackward0>), tensor(-41.4753, device='cuda:0', grad_fn=<NegBackward0>), tensor(-1.6837, device='cuda:0', grad_fn=<AddBackward0>)]\n",
      "0.2966570183931137\n",
      "tensor(-84.9945, device='cuda:0', grad_fn=<NegBackward0>) [tensor(-42.2753, device='cuda:0', grad_fn=<NegBackward0>), tensor(-41.7164, device='cuda:0', grad_fn=<NegBackward0>), tensor(-1.7257, device='cuda:0', grad_fn=<AddBackward0>)]\n",
      "0.29926479180249804\n",
      "tensor(-84.9199, device='cuda:0', grad_fn=<NegBackward0>) [tensor(-42.2753, device='cuda:0', grad_fn=<NegBackward0>), tensor(-41.6042, device='cuda:0', grad_fn=<NegBackward0>), tensor(-1.8303, device='cuda:0', grad_fn=<AddBackward0>)]\n",
      "0.27994887347322744\n",
      "tensor(-84.6141, device='cuda:0', grad_fn=<NegBackward0>) [tensor(-42.0994, device='cuda:0', grad_fn=<NegBackward0>), tensor(-41.6343, device='cuda:0', grad_fn=<NegBackward0>), tensor(-1.4118, device='cuda:0', grad_fn=<AddBackward0>)]\n",
      "0.3000134731918536\n",
      "tensor(-84.6277, device='cuda:0', grad_fn=<NegBackward0>) [tensor(-42.0994, device='cuda:0', grad_fn=<NegBackward0>), tensor(-41.5403, device='cuda:0', grad_fn=<NegBackward0>), tensor(-1.6859, device='cuda:0', grad_fn=<AddBackward0>)]\n",
      "0.29547599277226955\n",
      "tensor(-84.4825, device='cuda:0', grad_fn=<NegBackward0>) [tensor(-42.0942, device='cuda:0', grad_fn=<NegBackward0>), tensor(-41.4232, device='cuda:0', grad_fn=<NegBackward0>), tensor(-1.6253, device='cuda:0', grad_fn=<AddBackward0>)]\n",
      "0.26103629340211504\n",
      "tensor(-84.4265, device='cuda:0', grad_fn=<NegBackward0>) [tensor(-42.0942, device='cuda:0', grad_fn=<NegBackward0>), tensor(-41.4756, device='cuda:0', grad_fn=<NegBackward0>), tensor(-1.3556, device='cuda:0', grad_fn=<AddBackward0>)]\n",
      "0.2594331038493319\n",
      "tensor(-83.9127, device='cuda:0', grad_fn=<NegBackward0>) [tensor(-41.8411, device='cuda:0', grad_fn=<NegBackward0>), tensor(-41.2121, device='cuda:0', grad_fn=<NegBackward0>), tensor(-1.3619, device='cuda:0', grad_fn=<AddBackward0>)]\n",
      "0.2789004256052244\n",
      "tensor(-84.1344, device='cuda:0', grad_fn=<NegBackward0>) [tensor(-41.8411, device='cuda:0', grad_fn=<NegBackward0>), tensor(-41.3926, device='cuda:0', grad_fn=<NegBackward0>), tensor(-1.4612, device='cuda:0', grad_fn=<AddBackward0>)]\n",
      "0.2619762857648886\n",
      "tensor(-84.3915, device='cuda:0', grad_fn=<NegBackward0>) [tensor(-42.0260, device='cuda:0', grad_fn=<NegBackward0>), tensor(-41.5692, device='cuda:0', grad_fn=<NegBackward0>), tensor(-1.2176, device='cuda:0', grad_fn=<AddBackward0>)]\n",
      "0.2897907084176784\n",
      "tensor(-84.3769, device='cuda:0', grad_fn=<NegBackward0>) [tensor(-42.0260, device='cuda:0', grad_fn=<NegBackward0>), tensor(-41.4132, device='cuda:0', grad_fn=<NegBackward0>), tensor(-1.5542, device='cuda:0', grad_fn=<AddBackward0>)]\n",
      "0.2566895791355539\n",
      "tensor(-84.9381, device='cuda:0', grad_fn=<NegBackward0>) [tensor(-42.2586, device='cuda:0', grad_fn=<NegBackward0>), tensor(-41.8380, device='cuda:0', grad_fn=<NegBackward0>), tensor(-1.3198, device='cuda:0', grad_fn=<AddBackward0>)]\n",
      "0.2890529464038239\n",
      "tensor(-84.8891, device='cuda:0', grad_fn=<NegBackward0>) [tensor(-42.2586, device='cuda:0', grad_fn=<NegBackward0>), tensor(-41.6801, device='cuda:0', grad_fn=<NegBackward0>), tensor(-1.5867, device='cuda:0', grad_fn=<AddBackward0>)]\n",
      "0.2809867783767713\n",
      "tensor(-85.1526, device='cuda:0', grad_fn=<NegBackward0>) [tensor(-42.4182, device='cuda:0', grad_fn=<NegBackward0>), tensor(-41.8097, device='cuda:0', grad_fn=<NegBackward0>), tensor(-1.5212, device='cuda:0', grad_fn=<AddBackward0>)]\n",
      "0.287527105656314\n",
      "tensor(-85.2317, device='cuda:0', grad_fn=<NegBackward0>) [tensor(-42.4182, device='cuda:0', grad_fn=<NegBackward0>), tensor(-41.8761, device='cuda:0', grad_fn=<NegBackward0>), tensor(-1.5535, device='cuda:0', grad_fn=<AddBackward0>)]\n",
      "0.2749025676719436\n",
      "tensor(-84.8756, device='cuda:0', grad_fn=<NegBackward0>) [tensor(-42.2947, device='cuda:0', grad_fn=<NegBackward0>), tensor(-41.6803, device='cuda:0', grad_fn=<NegBackward0>), tensor(-1.4610, device='cuda:0', grad_fn=<AddBackward0>)]\n",
      "0.2532154300662729\n",
      "tensor(-84.8599, device='cuda:0', grad_fn=<NegBackward0>) [tensor(-42.2947, device='cuda:0', grad_fn=<NegBackward0>), tensor(-41.8413, device='cuda:0', grad_fn=<NegBackward0>), tensor(-1.0626, device='cuda:0', grad_fn=<AddBackward0>)]\n",
      "0.2819658907713763\n",
      "tensor(-85.3169, device='cuda:0', grad_fn=<NegBackward0>) [tensor(-42.5099, device='cuda:0', grad_fn=<NegBackward0>), tensor(-41.9109, device='cuda:0', grad_fn=<NegBackward0>), tensor(-1.4501, device='cuda:0', grad_fn=<AddBackward0>)]\n",
      "0.25990383991863003\n",
      "tensor(-85.4829, device='cuda:0', grad_fn=<NegBackward0>) [tensor(-42.5099, device='cuda:0', grad_fn=<NegBackward0>), tensor(-42.1716, device='cuda:0', grad_fn=<NegBackward0>), tensor(-1.2286, device='cuda:0', grad_fn=<AddBackward0>)]\n",
      "0.28297997833350136\n",
      "tensor(-84.9756, device='cuda:0', grad_fn=<NegBackward0>) [tensor(-42.3753, device='cuda:0', grad_fn=<NegBackward0>), tensor(-41.6564, device='cuda:0', grad_fn=<NegBackward0>), tensor(-1.5699, device='cuda:0', grad_fn=<AddBackward0>)]\n",
      "0.28160075809717783\n",
      "tensor(-85.0293, device='cuda:0', grad_fn=<NegBackward0>) [tensor(-42.3753, device='cuda:0', grad_fn=<NegBackward0>), tensor(-41.7692, device='cuda:0', grad_fn=<NegBackward0>), tensor(-1.4223, device='cuda:0', grad_fn=<AddBackward0>)]\n",
      "0.26298667658104513\n",
      "tensor(-85.7309, device='cuda:0', grad_fn=<NegBackward0>) [tensor(-42.7004, device='cuda:0', grad_fn=<NegBackward0>), tensor(-42.1593, device='cuda:0', grad_fn=<NegBackward0>), tensor(-1.3898, device='cuda:0', grad_fn=<AddBackward0>)]\n",
      "0.2622887108726031\n",
      "tensor(-85.7440, device='cuda:0', grad_fn=<NegBackward0>) [tensor(-42.7004, device='cuda:0', grad_fn=<NegBackward0>), tensor(-42.1938, device='cuda:0', grad_fn=<NegBackward0>), tensor(-1.3392, device='cuda:0', grad_fn=<AddBackward0>)]\n",
      "0.29209729964629494\n",
      "tensor(-85.2173, device='cuda:0', grad_fn=<NegBackward0>) [tensor(-42.4137, device='cuda:0', grad_fn=<NegBackward0>), tensor(-41.8345, device='cuda:0', grad_fn=<NegBackward0>), tensor(-1.6355, device='cuda:0', grad_fn=<AddBackward0>)]\n",
      "0.28421996925380183\n",
      "tensor(-85.2680, device='cuda:0', grad_fn=<NegBackward0>) [tensor(-42.4137, device='cuda:0', grad_fn=<NegBackward0>), tensor(-41.9130, device='cuda:0', grad_fn=<NegBackward0>), tensor(-1.5634, device='cuda:0', grad_fn=<AddBackward0>)]\n",
      "0.2802884890283431\n",
      "tensor(-85.7338, device='cuda:0', grad_fn=<NegBackward0>) [tensor(-42.6671, device='cuda:0', grad_fn=<NegBackward0>), tensor(-42.1343, device='cuda:0', grad_fn=<NegBackward0>), tensor(-1.5408, device='cuda:0', grad_fn=<AddBackward0>)]\n"
     ]
    },
    {
     "name": "stdout",
     "output_type": "stream",
     "text": [
      "0.2956908607717519\n",
      "tensor(-85.5414, device='cuda:0', grad_fn=<NegBackward0>) [tensor(-42.6671, device='cuda:0', grad_fn=<NegBackward0>), tensor(-41.9141, device='cuda:0', grad_fn=<NegBackward0>), tensor(-1.6121, device='cuda:0', grad_fn=<AddBackward0>)]\n",
      "0.26440759463021213\n",
      "tensor(-85.3553, device='cuda:0', grad_fn=<NegBackward0>) [tensor(-42.5024, device='cuda:0', grad_fn=<NegBackward0>), tensor(-41.9856, device='cuda:0', grad_fn=<NegBackward0>), tensor(-1.3805, device='cuda:0', grad_fn=<AddBackward0>)]\n",
      "0.2773101912278411\n",
      "tensor(-85.1708, device='cuda:0', grad_fn=<NegBackward0>) [tensor(-42.5024, device='cuda:0', grad_fn=<NegBackward0>), tensor(-41.7918, device='cuda:0', grad_fn=<NegBackward0>), tensor(-1.4028, device='cuda:0', grad_fn=<AddBackward0>)]\n",
      "0.2788965892055112\n",
      "tensor(-85.6025, device='cuda:0', grad_fn=<NegBackward0>) [tensor(-42.6368, device='cuda:0', grad_fn=<NegBackward0>), tensor(-42.0435, device='cuda:0', grad_fn=<NegBackward0>), tensor(-1.5148, device='cuda:0', grad_fn=<AddBackward0>)]\n",
      "0.2828111173438739\n",
      "tensor(-85.5229, device='cuda:0', grad_fn=<NegBackward0>) [tensor(-42.6368, device='cuda:0', grad_fn=<NegBackward0>), tensor(-41.9661, device='cuda:0', grad_fn=<NegBackward0>), tensor(-1.5094, device='cuda:0', grad_fn=<AddBackward0>)]\n",
      "0.2629401947638212\n",
      "tensor(-85.8301, device='cuda:0', grad_fn=<NegBackward0>) [tensor(-42.7151, device='cuda:0', grad_fn=<NegBackward0>), tensor(-42.3004, device='cuda:0', grad_fn=<NegBackward0>), tensor(-1.2582, device='cuda:0', grad_fn=<AddBackward0>)]\n",
      "0.25038035088274385\n",
      "tensor(-85.8096, device='cuda:0', grad_fn=<NegBackward0>) [tensor(-42.7151, device='cuda:0', grad_fn=<NegBackward0>), tensor(-42.3628, device='cuda:0', grad_fn=<NegBackward0>), tensor(-1.0786, device='cuda:0', grad_fn=<AddBackward0>)]\n",
      "0.2573291888212856\n",
      "tensor(-86.0227, device='cuda:0', grad_fn=<NegBackward0>) [tensor(-42.8314, device='cuda:0', grad_fn=<NegBackward0>), tensor(-42.3977, device='cuda:0', grad_fn=<NegBackward0>), tensor(-1.2111, device='cuda:0', grad_fn=<AddBackward0>)]\n",
      "0.3034582100299615\n",
      "tensor(-85.8878, device='cuda:0', grad_fn=<NegBackward0>) [tensor(-42.8314, device='cuda:0', grad_fn=<NegBackward0>), tensor(-42.0228, device='cuda:0', grad_fn=<NegBackward0>), tensor(-1.8111, device='cuda:0', grad_fn=<AddBackward0>)]\n",
      "0.27071713669639536\n",
      "tensor(-86.0958, device='cuda:0', grad_fn=<NegBackward0>) [tensor(-42.8316, device='cuda:0', grad_fn=<NegBackward0>), tensor(-42.4159, device='cuda:0', grad_fn=<NegBackward0>), tensor(-1.3356, device='cuda:0', grad_fn=<AddBackward0>)]\n",
      "0.28203709539204813\n",
      "tensor(-86.1062, device='cuda:0', grad_fn=<NegBackward0>) [tensor(-42.8316, device='cuda:0', grad_fn=<NegBackward0>), tensor(-42.3268, device='cuda:0', grad_fn=<NegBackward0>), tensor(-1.5799, device='cuda:0', grad_fn=<AddBackward0>)]\n",
      "0.2614804581773745\n",
      "tensor(-86.0058, device='cuda:0', grad_fn=<NegBackward0>) [tensor(-42.7944, device='cuda:0', grad_fn=<NegBackward0>), tensor(-42.3681, device='cuda:0', grad_fn=<NegBackward0>), tensor(-1.3241, device='cuda:0', grad_fn=<AddBackward0>)]\n",
      "0.25307512796251447\n",
      "tensor(-85.7792, device='cuda:0', grad_fn=<NegBackward0>) [tensor(-42.7944, device='cuda:0', grad_fn=<NegBackward0>), tensor(-42.1493, device='cuda:0', grad_fn=<NegBackward0>), tensor(-1.3059, device='cuda:0', grad_fn=<AddBackward0>)]\n",
      "0.28216297228643095\n",
      "tensor(-85.7170, device='cuda:0', grad_fn=<NegBackward0>) [tensor(-42.6933, device='cuda:0', grad_fn=<NegBackward0>), tensor(-42.1455, device='cuda:0', grad_fn=<NegBackward0>), tensor(-1.4065, device='cuda:0', grad_fn=<AddBackward0>)]\n",
      "0.2255969007452307\n",
      "tensor(-85.6932, device='cuda:0', grad_fn=<NegBackward0>) [tensor(-42.6933, device='cuda:0', grad_fn=<NegBackward0>), tensor(-42.3090, device='cuda:0', grad_fn=<NegBackward0>), tensor(-0.9955, device='cuda:0', grad_fn=<AddBackward0>)]\n",
      "0.29112287587436025\n",
      "tensor(-85.4052, device='cuda:0', grad_fn=<NegBackward0>) [tensor(-42.6038, device='cuda:0', grad_fn=<NegBackward0>), tensor(-41.8316, device='cuda:0', grad_fn=<NegBackward0>), tensor(-1.6373, device='cuda:0', grad_fn=<AddBackward0>)]\n",
      "0.2553147054418044\n",
      "tensor(-85.4587, device='cuda:0', grad_fn=<NegBackward0>) [tensor(-42.6038, device='cuda:0', grad_fn=<NegBackward0>), tensor(-42.0888, device='cuda:0', grad_fn=<NegBackward0>), tensor(-1.1514, device='cuda:0', grad_fn=<AddBackward0>)]\n",
      "0.27974851054394445\n",
      "tensor(-85.8837, device='cuda:0', grad_fn=<NegBackward0>) [tensor(-42.8162, device='cuda:0', grad_fn=<NegBackward0>), tensor(-42.1871, device='cuda:0', grad_fn=<NegBackward0>), tensor(-1.4116, device='cuda:0', grad_fn=<AddBackward0>)]\n",
      "0.2904937011341718\n",
      "tensor(-85.9017, device='cuda:0', grad_fn=<NegBackward0>) [tensor(-42.8162, device='cuda:0', grad_fn=<NegBackward0>), tensor(-42.0879, device='cuda:0', grad_fn=<NegBackward0>), tensor(-1.7117, device='cuda:0', grad_fn=<AddBackward0>)]\n",
      "0.2732284601360713\n",
      "tensor(-86.3675, device='cuda:0', grad_fn=<NegBackward0>) [tensor(-43.0003, device='cuda:0', grad_fn=<NegBackward0>), tensor(-42.4596, device='cuda:0', grad_fn=<NegBackward0>), tensor(-1.4783, device='cuda:0', grad_fn=<AddBackward0>)]\n",
      "0.28829640789402877\n",
      "tensor(-86.1874, device='cuda:0', grad_fn=<NegBackward0>) [tensor(-43.0003, device='cuda:0', grad_fn=<NegBackward0>), tensor(-42.2126, device='cuda:0', grad_fn=<NegBackward0>), tensor(-1.6498, device='cuda:0', grad_fn=<AddBackward0>)]\n",
      "0.2664262300942506\n",
      "tensor(-86.4871, device='cuda:0', grad_fn=<NegBackward0>) [tensor(-43.1063, device='cuda:0', grad_fn=<NegBackward0>), tensor(-42.5545, device='cuda:0', grad_fn=<NegBackward0>), tensor(-1.2849, device='cuda:0', grad_fn=<AddBackward0>)]\n",
      "0.2849790413251317\n",
      "tensor(-86.5291, device='cuda:0', grad_fn=<NegBackward0>) [tensor(-43.1063, device='cuda:0', grad_fn=<NegBackward0>), tensor(-42.5445, device='cuda:0', grad_fn=<NegBackward0>), tensor(-1.4069, device='cuda:0', grad_fn=<AddBackward0>)]\n",
      "0.2879699699332477\n",
      "tensor(-86.4030, device='cuda:0', grad_fn=<NegBackward0>) [tensor(-43.0167, device='cuda:0', grad_fn=<NegBackward0>), tensor(-42.4586, device='cuda:0', grad_fn=<NegBackward0>), tensor(-1.5286, device='cuda:0', grad_fn=<AddBackward0>)]\n",
      "0.2812015313916057\n",
      "tensor(-86.2783, device='cuda:0', grad_fn=<NegBackward0>) [tensor(-43.0167, device='cuda:0', grad_fn=<NegBackward0>), tensor(-42.3991, device='cuda:0', grad_fn=<NegBackward0>), tensor(-1.3691, device='cuda:0', grad_fn=<AddBackward0>)]\n",
      "0.2980090612976296\n",
      "tensor(-86.7096, device='cuda:0', grad_fn=<NegBackward0>) [tensor(-43.1732, device='cuda:0', grad_fn=<NegBackward0>), tensor(-42.5999, device='cuda:0', grad_fn=<NegBackward0>), tensor(-1.5508, device='cuda:0', grad_fn=<AddBackward0>)]\n",
      "0.3118275393512354\n",
      "tensor(-86.6227, device='cuda:0', grad_fn=<NegBackward0>) [tensor(-43.1732, device='cuda:0', grad_fn=<NegBackward0>), tensor(-42.4609, device='cuda:0', grad_fn=<NegBackward0>), tensor(-1.6874, device='cuda:0', grad_fn=<AddBackward0>)]\n",
      "0.27285297180609036\n",
      "tensor(-87.0921, device='cuda:0', grad_fn=<NegBackward0>) [tensor(-43.4099, device='cuda:0', grad_fn=<NegBackward0>), tensor(-42.7700, device='cuda:0', grad_fn=<NegBackward0>), tensor(-1.4897, device='cuda:0', grad_fn=<AddBackward0>)]\n",
      "0.2775045782323847\n",
      "tensor(-87.1374, device='cuda:0', grad_fn=<NegBackward0>) [tensor(-43.4099, device='cuda:0', grad_fn=<NegBackward0>), tensor(-42.8465, device='cuda:0', grad_fn=<NegBackward0>), tensor(-1.4135, device='cuda:0', grad_fn=<AddBackward0>)]\n",
      "0.2554855196555894\n",
      "tensor(-86.9451, device='cuda:0', grad_fn=<NegBackward0>) [tensor(-43.3348, device='cuda:0', grad_fn=<NegBackward0>), tensor(-42.8524, device='cuda:0', grad_fn=<NegBackward0>), tensor(-1.1338, device='cuda:0', grad_fn=<AddBackward0>)]\n",
      "0.30121194653792577\n",
      "tensor(-86.9920, device='cuda:0', grad_fn=<NegBackward0>) [tensor(-43.3348, device='cuda:0', grad_fn=<NegBackward0>), tensor(-42.6911, device='cuda:0', grad_fn=<NegBackward0>), tensor(-1.6276, device='cuda:0', grad_fn=<AddBackward0>)]\n",
      "0.2814210672680083\n",
      "tensor(-87.0386, device='cuda:0', grad_fn=<NegBackward0>) [tensor(-43.3603, device='cuda:0', grad_fn=<NegBackward0>), tensor(-42.7598, device='cuda:0', grad_fn=<NegBackward0>), tensor(-1.5055, device='cuda:0', grad_fn=<AddBackward0>)]\n",
      "0.2786425011339487\n",
      "tensor(-87.0502, device='cuda:0', grad_fn=<NegBackward0>) [tensor(-43.3603, device='cuda:0', grad_fn=<NegBackward0>), tensor(-42.7634, device='cuda:0', grad_fn=<NegBackward0>), tensor(-1.5257, device='cuda:0', grad_fn=<AddBackward0>)]\n"
     ]
    },
    {
     "name": "stdout",
     "output_type": "stream",
     "text": [
      "0.2956009153217\n",
      "tensor(-86.5068, device='cuda:0', grad_fn=<NegBackward0>) [tensor(-43.1918, device='cuda:0', grad_fn=<NegBackward0>), tensor(-42.3774, device='cuda:0', grad_fn=<NegBackward0>), tensor(-1.5536, device='cuda:0', grad_fn=<AddBackward0>)]\n",
      "0.25367168366278664\n",
      "tensor(-86.7341, device='cuda:0', grad_fn=<NegBackward0>) [tensor(-43.1918, device='cuda:0', grad_fn=<NegBackward0>), tensor(-42.7738, device='cuda:0', grad_fn=<NegBackward0>), tensor(-1.1564, device='cuda:0', grad_fn=<AddBackward0>)]\n",
      "0.2712324759546906\n",
      "tensor(-87.3365, device='cuda:0', grad_fn=<NegBackward0>) [tensor(-43.5293, device='cuda:0', grad_fn=<NegBackward0>), tensor(-42.9239, device='cuda:0', grad_fn=<NegBackward0>), tensor(-1.4187, device='cuda:0', grad_fn=<AddBackward0>)]\n",
      "0.27014290996403056\n",
      "tensor(-87.4663, device='cuda:0', grad_fn=<NegBackward0>) [tensor(-43.5293, device='cuda:0', grad_fn=<NegBackward0>), tensor(-43.0454, device='cuda:0', grad_fn=<NegBackward0>), tensor(-1.4391, device='cuda:0', grad_fn=<AddBackward0>)]\n",
      "0.2959219818195363\n",
      "tensor(-86.6876, device='cuda:0', grad_fn=<NegBackward0>) [tensor(-43.2165, device='cuda:0', grad_fn=<NegBackward0>), tensor(-42.5073, device='cuda:0', grad_fn=<NegBackward0>), tensor(-1.6217, device='cuda:0', grad_fn=<AddBackward0>)]\n",
      "0.25972494612610925\n",
      "tensor(-86.6775, device='cuda:0', grad_fn=<NegBackward0>) [tensor(-43.2165, device='cuda:0', grad_fn=<NegBackward0>), tensor(-42.6898, device='cuda:0', grad_fn=<NegBackward0>), tensor(-1.1623, device='cuda:0', grad_fn=<AddBackward0>)]\n",
      "0.26578497075825963\n",
      "tensor(-87.0352, device='cuda:0', grad_fn=<NegBackward0>) [tensor(-43.3634, device='cuda:0', grad_fn=<NegBackward0>), tensor(-42.8368, device='cuda:0', grad_fn=<NegBackward0>), tensor(-1.3048, device='cuda:0', grad_fn=<AddBackward0>)]\n",
      "0.27555673191069324\n",
      "tensor(-87.0070, device='cuda:0', grad_fn=<NegBackward0>) [tensor(-43.3634, device='cuda:0', grad_fn=<NegBackward0>), tensor(-42.7464, device='cuda:0', grad_fn=<NegBackward0>), tensor(-1.4528, device='cuda:0', grad_fn=<AddBackward0>)]\n",
      "0.26605820860555324\n",
      "tensor(-87.2729, device='cuda:0', grad_fn=<NegBackward0>) [tensor(-43.5284, device='cuda:0', grad_fn=<NegBackward0>), tensor(-42.9235, device='cuda:0', grad_fn=<NegBackward0>), tensor(-1.2727, device='cuda:0', grad_fn=<AddBackward0>)]\n",
      "0.2799029126636881\n",
      "tensor(-87.3241, device='cuda:0', grad_fn=<NegBackward0>) [tensor(-43.5284, device='cuda:0', grad_fn=<NegBackward0>), tensor(-42.9743, device='cuda:0', grad_fn=<NegBackward0>), tensor(-1.2736, device='cuda:0', grad_fn=<AddBackward0>)]\n",
      "0.24900598167077892\n",
      "tensor(-87.3521, device='cuda:0', grad_fn=<NegBackward0>) [tensor(-43.5084, device='cuda:0', grad_fn=<NegBackward0>), tensor(-43.0806, device='cuda:0', grad_fn=<NegBackward0>), tensor(-1.1451, device='cuda:0', grad_fn=<AddBackward0>)]\n",
      "0.25925310280859937\n",
      "tensor(-87.3949, device='cuda:0', grad_fn=<NegBackward0>) [tensor(-43.5084, device='cuda:0', grad_fn=<NegBackward0>), tensor(-43.1123, device='cuda:0', grad_fn=<NegBackward0>), tensor(-1.1688, device='cuda:0', grad_fn=<AddBackward0>)]\n",
      "0.26412947334226483\n",
      "tensor(-87.4698, device='cuda:0', grad_fn=<NegBackward0>) [tensor(-43.6392, device='cuda:0', grad_fn=<NegBackward0>), tensor(-43.0125, device='cuda:0', grad_fn=<NegBackward0>), tensor(-1.2663, device='cuda:0', grad_fn=<AddBackward0>)]\n",
      "0.25721081664456247\n",
      "tensor(-87.4994, device='cuda:0', grad_fn=<NegBackward0>) [tensor(-43.6392, device='cuda:0', grad_fn=<NegBackward0>), tensor(-43.0706, device='cuda:0', grad_fn=<NegBackward0>), tensor(-1.2027, device='cuda:0', grad_fn=<AddBackward0>)]\n",
      "0.282771410235473\n",
      "tensor(-87.2008, device='cuda:0', grad_fn=<NegBackward0>) [tensor(-43.4888, device='cuda:0', grad_fn=<NegBackward0>), tensor(-42.8159, device='cuda:0', grad_fn=<NegBackward0>), tensor(-1.4500, device='cuda:0', grad_fn=<AddBackward0>)]\n",
      "0.2672698350165766\n",
      "tensor(-87.2041, device='cuda:0', grad_fn=<NegBackward0>) [tensor(-43.4888, device='cuda:0', grad_fn=<NegBackward0>), tensor(-42.8724, device='cuda:0', grad_fn=<NegBackward0>), tensor(-1.3230, device='cuda:0', grad_fn=<AddBackward0>)]\n",
      "0.2649854994947347\n",
      "tensor(-87.2993, device='cuda:0', grad_fn=<NegBackward0>) [tensor(-43.4672, device='cuda:0', grad_fn=<NegBackward0>), tensor(-43.0280, device='cuda:0', grad_fn=<NegBackward0>), tensor(-1.2346, device='cuda:0', grad_fn=<AddBackward0>)]\n",
      "0.278532477335462\n",
      "tensor(-87.2232, device='cuda:0', grad_fn=<NegBackward0>) [tensor(-43.4672, device='cuda:0', grad_fn=<NegBackward0>), tensor(-42.9223, device='cuda:0', grad_fn=<NegBackward0>), tensor(-1.3017, device='cuda:0', grad_fn=<AddBackward0>)]\n",
      "0.2541265409375833\n",
      "tensor(-87.2542, device='cuda:0', grad_fn=<NegBackward0>) [tensor(-43.4841, device='cuda:0', grad_fn=<NegBackward0>), tensor(-42.9849, device='cuda:0', grad_fn=<NegBackward0>), tensor(-1.1929, device='cuda:0', grad_fn=<AddBackward0>)]\n",
      "0.25735939901982813\n",
      "tensor(-87.3722, device='cuda:0', grad_fn=<NegBackward0>) [tensor(-43.4841, device='cuda:0', grad_fn=<NegBackward0>), tensor(-43.0966, device='cuda:0', grad_fn=<NegBackward0>), tensor(-1.2069, device='cuda:0', grad_fn=<AddBackward0>)]\n",
      "0.2711045876583523\n",
      "tensor(-87.3918, device='cuda:0', grad_fn=<NegBackward0>) [tensor(-43.5398, device='cuda:0', grad_fn=<NegBackward0>), tensor(-43.0196, device='cuda:0', grad_fn=<NegBackward0>), tensor(-1.2988, device='cuda:0', grad_fn=<AddBackward0>)]\n",
      "0.2519230237613183\n",
      "tensor(-87.3102, device='cuda:0', grad_fn=<NegBackward0>) [tensor(-43.5398, device='cuda:0', grad_fn=<NegBackward0>), tensor(-43.0195, device='cuda:0', grad_fn=<NegBackward0>), tensor(-1.1188, device='cuda:0', grad_fn=<AddBackward0>)]\n",
      "0.23819949370974353\n",
      "tensor(-87.8055, device='cuda:0', grad_fn=<NegBackward0>) [tensor(-43.7157, device='cuda:0', grad_fn=<NegBackward0>), tensor(-43.4000, device='cuda:0', grad_fn=<NegBackward0>), tensor(-0.9932, device='cuda:0', grad_fn=<AddBackward0>)]\n",
      "0.26863861444687015\n",
      "tensor(-87.6839, device='cuda:0', grad_fn=<NegBackward0>) [tensor(-43.7157, device='cuda:0', grad_fn=<NegBackward0>), tensor(-43.1391, device='cuda:0', grad_fn=<NegBackward0>), tensor(-1.2915, device='cuda:0', grad_fn=<AddBackward0>)]\n",
      "0.2631453722248627\n",
      "tensor(-87.5408, device='cuda:0', grad_fn=<NegBackward0>) [tensor(-43.6089, device='cuda:0', grad_fn=<NegBackward0>), tensor(-43.1296, device='cuda:0', grad_fn=<NegBackward0>), tensor(-1.2305, device='cuda:0', grad_fn=<AddBackward0>)]\n",
      "0.26469633446664953\n",
      "tensor(-87.5287, device='cuda:0', grad_fn=<NegBackward0>) [tensor(-43.6089, device='cuda:0', grad_fn=<NegBackward0>), tensor(-43.1802, device='cuda:0', grad_fn=<NegBackward0>), tensor(-1.0952, device='cuda:0', grad_fn=<AddBackward0>)]\n",
      "0.27336936511821125\n",
      "tensor(-87.8045, device='cuda:0', grad_fn=<NegBackward0>) [tensor(-43.7122, device='cuda:0', grad_fn=<NegBackward0>), tensor(-43.2558, device='cuda:0', grad_fn=<NegBackward0>), tensor(-1.3082, device='cuda:0', grad_fn=<AddBackward0>)]\n",
      "0.27059380649677234\n",
      "tensor(-87.6562, device='cuda:0', grad_fn=<NegBackward0>) [tensor(-43.7122, device='cuda:0', grad_fn=<NegBackward0>), tensor(-43.1435, device='cuda:0', grad_fn=<NegBackward0>), tensor(-1.2266, device='cuda:0', grad_fn=<AddBackward0>)]\n",
      "0.2771155697572513\n",
      "tensor(-87.9221, device='cuda:0', grad_fn=<NegBackward0>) [tensor(-43.8620, device='cuda:0', grad_fn=<NegBackward0>), tensor(-43.2162, device='cuda:0', grad_fn=<NegBackward0>), tensor(-1.3254, device='cuda:0', grad_fn=<AddBackward0>)]\n",
      "0.24823680199224718\n",
      "tensor(-87.9363, device='cuda:0', grad_fn=<NegBackward0>) [tensor(-43.8620, device='cuda:0', grad_fn=<NegBackward0>), tensor(-43.3150, device='cuda:0', grad_fn=<NegBackward0>), tensor(-1.1366, device='cuda:0', grad_fn=<AddBackward0>)]\n",
      "0.2840894565582037\n",
      "tensor(-87.5863, device='cuda:0', grad_fn=<NegBackward0>) [tensor(-43.6718, device='cuda:0', grad_fn=<NegBackward0>), tensor(-43.0149, device='cuda:0', grad_fn=<NegBackward0>), tensor(-1.4587, device='cuda:0', grad_fn=<AddBackward0>)]\n",
      "0.24947361060455833\n",
      "tensor(-87.6399, device='cuda:0', grad_fn=<NegBackward0>) [tensor(-43.6718, device='cuda:0', grad_fn=<NegBackward0>), tensor(-43.2379, device='cuda:0', grad_fn=<NegBackward0>), tensor(-1.0755, device='cuda:0', grad_fn=<AddBackward0>)]\n",
      "0.26478047255481946\n",
      "tensor(-87.8853, device='cuda:0', grad_fn=<NegBackward0>) [tensor(-43.7510, device='cuda:0', grad_fn=<NegBackward0>), tensor(-43.3454, device='cuda:0', grad_fn=<NegBackward0>), tensor(-1.2009, device='cuda:0', grad_fn=<AddBackward0>)]\n"
     ]
    },
    {
     "name": "stdout",
     "output_type": "stream",
     "text": [
      "0.2772009862647506\n",
      "tensor(-87.8683, device='cuda:0', grad_fn=<NegBackward0>) [tensor(-43.7510, device='cuda:0', grad_fn=<NegBackward0>), tensor(-43.2695, device='cuda:0', grad_fn=<NegBackward0>), tensor(-1.3344, device='cuda:0', grad_fn=<AddBackward0>)]\n",
      "0.2576230022501309\n",
      "tensor(-88.1508, device='cuda:0', grad_fn=<NegBackward0>) [tensor(-43.9356, device='cuda:0', grad_fn=<NegBackward0>), tensor(-43.4822, device='cuda:0', grad_fn=<NegBackward0>), tensor(-1.0814, device='cuda:0', grad_fn=<AddBackward0>)]\n",
      "0.26605820860555324\n",
      "tensor(-88.1450, device='cuda:0', grad_fn=<NegBackward0>) [tensor(-43.9356, device='cuda:0', grad_fn=<NegBackward0>), tensor(-43.4012, device='cuda:0', grad_fn=<NegBackward0>), tensor(-1.2438, device='cuda:0', grad_fn=<AddBackward0>)]\n",
      "0.2675999202649576\n",
      "tensor(-88.2987, device='cuda:0', grad_fn=<NegBackward0>) [tensor(-43.9915, device='cuda:0', grad_fn=<NegBackward0>), tensor(-43.4498, device='cuda:0', grad_fn=<NegBackward0>), tensor(-1.3569, device='cuda:0', grad_fn=<AddBackward0>)]\n",
      "0.27368642648535235\n",
      "tensor(-88.2114, device='cuda:0', grad_fn=<NegBackward0>) [tensor(-43.9915, device='cuda:0', grad_fn=<NegBackward0>), tensor(-43.3812, device='cuda:0', grad_fn=<NegBackward0>), tensor(-1.3132, device='cuda:0', grad_fn=<AddBackward0>)]\n",
      "0.2679881114264512\n",
      "tensor(-87.5839, device='cuda:0', grad_fn=<NegBackward0>) [tensor(-43.6816, device='cuda:0', grad_fn=<NegBackward0>), tensor(-43.0979, device='cuda:0', grad_fn=<NegBackward0>), tensor(-1.2356, device='cuda:0', grad_fn=<AddBackward0>)]\n",
      "0.27133003053309346\n",
      "tensor(-87.5201, device='cuda:0', grad_fn=<NegBackward0>) [tensor(-43.6816, device='cuda:0', grad_fn=<NegBackward0>), tensor(-43.0218, device='cuda:0', grad_fn=<NegBackward0>), tensor(-1.2630, device='cuda:0', grad_fn=<AddBackward0>)]\n",
      "0.2596747221992555\n",
      "tensor(-87.6572, device='cuda:0', grad_fn=<NegBackward0>) [tensor(-43.7110, device='cuda:0', grad_fn=<NegBackward0>), tensor(-43.1758, device='cuda:0', grad_fn=<NegBackward0>), tensor(-1.1607, device='cuda:0', grad_fn=<AddBackward0>)]\n",
      "0.2663169453105796\n",
      "tensor(-87.7298, device='cuda:0', grad_fn=<NegBackward0>) [tensor(-43.7110, device='cuda:0', grad_fn=<NegBackward0>), tensor(-43.2350, device='cuda:0', grad_fn=<NegBackward0>), tensor(-1.1898, device='cuda:0', grad_fn=<AddBackward0>)]\n",
      "0.2636951741386547\n",
      "tensor(-87.8216, device='cuda:0', grad_fn=<NegBackward0>) [tensor(-43.7692, device='cuda:0', grad_fn=<NegBackward0>), tensor(-43.2376, device='cuda:0', grad_fn=<NegBackward0>), tensor(-1.2586, device='cuda:0', grad_fn=<AddBackward0>)]\n",
      "0.24724171617201327\n",
      "tensor(-87.7493, device='cuda:0', grad_fn=<NegBackward0>) [tensor(-43.7692, device='cuda:0', grad_fn=<NegBackward0>), tensor(-43.2493, device='cuda:0', grad_fn=<NegBackward0>), tensor(-1.0767, device='cuda:0', grad_fn=<AddBackward0>)]\n",
      "0.2707238240396073\n",
      "tensor(-87.2898, device='cuda:0', grad_fn=<NegBackward0>) [tensor(-43.5022, device='cuda:0', grad_fn=<NegBackward0>), tensor(-42.9871, device='cuda:0', grad_fn=<NegBackward0>), tensor(-1.2265, device='cuda:0', grad_fn=<AddBackward0>)]\n",
      "0.26691285004989024\n",
      "tensor(-87.2517, device='cuda:0', grad_fn=<NegBackward0>) [tensor(-43.5022, device='cuda:0', grad_fn=<NegBackward0>), tensor(-42.9619, device='cuda:0', grad_fn=<NegBackward0>), tensor(-1.1981, device='cuda:0', grad_fn=<AddBackward0>)]\n",
      "0.2739976743927602\n",
      "tensor(-87.9668, device='cuda:0', grad_fn=<NegBackward0>) [tensor(-43.8803, device='cuda:0', grad_fn=<NegBackward0>), tensor(-43.3031, device='cuda:0', grad_fn=<NegBackward0>), tensor(-1.1888, device='cuda:0', grad_fn=<AddBackward0>)]\n",
      "0.2737701638848061\n",
      "tensor(-88.0271, device='cuda:0', grad_fn=<NegBackward0>) [tensor(-43.8803, device='cuda:0', grad_fn=<NegBackward0>), tensor(-43.3545, device='cuda:0', grad_fn=<NegBackward0>), tensor(-1.2087, device='cuda:0', grad_fn=<AddBackward0>)]\n",
      "0.27073464498331606\n",
      "tensor(-87.9305, device='cuda:0', grad_fn=<NegBackward0>) [tensor(-43.8050, device='cuda:0', grad_fn=<NegBackward0>), tensor(-43.2884, device='cuda:0', grad_fn=<NegBackward0>), tensor(-1.3096, device='cuda:0', grad_fn=<AddBackward0>)]\n",
      "0.28710800123258856\n",
      "tensor(-87.8872, device='cuda:0', grad_fn=<NegBackward0>) [tensor(-43.8050, device='cuda:0', grad_fn=<NegBackward0>), tensor(-43.2175, device='cuda:0', grad_fn=<NegBackward0>), tensor(-1.3741, device='cuda:0', grad_fn=<AddBackward0>)]\n",
      "0.2761835978938191\n",
      "tensor(-87.4148, device='cuda:0', grad_fn=<NegBackward0>) [tensor(-43.5492, device='cuda:0', grad_fn=<NegBackward0>), tensor(-42.9877, device='cuda:0', grad_fn=<NegBackward0>), tensor(-1.4059, device='cuda:0', grad_fn=<AddBackward0>)]\n",
      "0.25925608272569395\n",
      "tensor(-87.3816, device='cuda:0', grad_fn=<NegBackward0>) [tensor(-43.5492, device='cuda:0', grad_fn=<NegBackward0>), tensor(-43.0503, device='cuda:0', grad_fn=<NegBackward0>), tensor(-1.1860, device='cuda:0', grad_fn=<AddBackward0>)]\n",
      "0.24390645894531568\n",
      "tensor(-87.5768, device='cuda:0', grad_fn=<NegBackward0>) [tensor(-43.6383, device='cuda:0', grad_fn=<NegBackward0>), tensor(-43.2493, device='cuda:0', grad_fn=<NegBackward0>), tensor(-0.9921, device='cuda:0', grad_fn=<AddBackward0>)]\n",
      "0.26214816531582796\n",
      "tensor(-87.4997, device='cuda:0', grad_fn=<NegBackward0>) [tensor(-43.6383, device='cuda:0', grad_fn=<NegBackward0>), tensor(-43.1110, device='cuda:0', grad_fn=<NegBackward0>), tensor(-1.1177, device='cuda:0', grad_fn=<AddBackward0>)]\n",
      "0.2686433570920938\n",
      "tensor(-88.0359, device='cuda:0', grad_fn=<NegBackward0>) [tensor(-43.8943, device='cuda:0', grad_fn=<NegBackward0>), tensor(-43.3310, device='cuda:0', grad_fn=<NegBackward0>), tensor(-1.2492, device='cuda:0', grad_fn=<AddBackward0>)]\n",
      "0.28599128766619486\n",
      "tensor(-88.1179, device='cuda:0', grad_fn=<NegBackward0>) [tensor(-43.8943, device='cuda:0', grad_fn=<NegBackward0>), tensor(-43.4073, device='cuda:0', grad_fn=<NegBackward0>), tensor(-1.2622, device='cuda:0', grad_fn=<AddBackward0>)]\n",
      "0.2723697732897844\n",
      "tensor(-88.5942, device='cuda:0', grad_fn=<NegBackward0>) [tensor(-44.1894, device='cuda:0', grad_fn=<NegBackward0>), tensor(-43.5957, device='cuda:0', grad_fn=<NegBackward0>), tensor(-1.2459, device='cuda:0', grad_fn=<AddBackward0>)]\n",
      "0.2656052271162189\n",
      "tensor(-88.5911, device='cuda:0', grad_fn=<NegBackward0>) [tensor(-44.1894, device='cuda:0', grad_fn=<NegBackward0>), tensor(-43.5698, device='cuda:0', grad_fn=<NegBackward0>), tensor(-1.2976, device='cuda:0', grad_fn=<AddBackward0>)]\n",
      "0.27266620060728214\n",
      "tensor(-88.8371, device='cuda:0', grad_fn=<NegBackward0>) [tensor(-44.2251, device='cuda:0', grad_fn=<NegBackward0>), tensor(-43.7280, device='cuda:0', grad_fn=<NegBackward0>), tensor(-1.4205, device='cuda:0', grad_fn=<AddBackward0>)]\n",
      "0.21645642925729658\n",
      "tensor(-88.6412, device='cuda:0', grad_fn=<NegBackward0>) [tensor(-44.2251, device='cuda:0', grad_fn=<NegBackward0>), tensor(-43.8539, device='cuda:0', grad_fn=<NegBackward0>), tensor(-0.7544, device='cuda:0', grad_fn=<AddBackward0>)]\n",
      "0.2650928803807396\n",
      "tensor(-88.6310, device='cuda:0', grad_fn=<NegBackward0>) [tensor(-44.1860, device='cuda:0', grad_fn=<NegBackward0>), tensor(-43.6886, device='cuda:0', grad_fn=<NegBackward0>), tensor(-1.1307, device='cuda:0', grad_fn=<AddBackward0>)]\n",
      "0.26011185425298883\n",
      "tensor(-88.6398, device='cuda:0', grad_fn=<NegBackward0>) [tensor(-44.1860, device='cuda:0', grad_fn=<NegBackward0>), tensor(-43.7121, device='cuda:0', grad_fn=<NegBackward0>), tensor(-1.0996, device='cuda:0', grad_fn=<AddBackward0>)]\n",
      "0.2994023467620297\n",
      "tensor(-88.9627, device='cuda:0', grad_fn=<NegBackward0>) [tensor(-44.3621, device='cuda:0', grad_fn=<NegBackward0>), tensor(-43.6533, device='cuda:0', grad_fn=<NegBackward0>), tensor(-1.5789, device='cuda:0', grad_fn=<AddBackward0>)]\n",
      "0.28751927686771866\n",
      "tensor(-88.9613, device='cuda:0', grad_fn=<NegBackward0>) [tensor(-44.3621, device='cuda:0', grad_fn=<NegBackward0>), tensor(-43.6542, device='cuda:0', grad_fn=<NegBackward0>), tensor(-1.5727, device='cuda:0', grad_fn=<AddBackward0>)]\n",
      "0.2789004256052244\n",
      "tensor(-89.1570, device='cuda:0', grad_fn=<NegBackward0>) [tensor(-44.4219, device='cuda:0', grad_fn=<NegBackward0>), tensor(-43.8998, device='cuda:0', grad_fn=<NegBackward0>), tensor(-1.3055, device='cuda:0', grad_fn=<AddBackward0>)]\n",
      "0.2792704415137657\n",
      "tensor(-89.0802, device='cuda:0', grad_fn=<NegBackward0>) [tensor(-44.4219, device='cuda:0', grad_fn=<NegBackward0>), tensor(-43.8502, device='cuda:0', grad_fn=<NegBackward0>), tensor(-1.2437, device='cuda:0', grad_fn=<AddBackward0>)]\n"
     ]
    },
    {
     "name": "stdout",
     "output_type": "stream",
     "text": [
      "0.24971481498235204\n",
      "tensor(-89.4333, device='cuda:0', grad_fn=<NegBackward0>) [tensor(-44.5477, device='cuda:0', grad_fn=<NegBackward0>), tensor(-44.1957, device='cuda:0', grad_fn=<NegBackward0>), tensor(-0.9937, device='cuda:0', grad_fn=<AddBackward0>)]\n",
      "0.25820573870567337\n",
      "tensor(-89.3792, device='cuda:0', grad_fn=<NegBackward0>) [tensor(-44.5477, device='cuda:0', grad_fn=<NegBackward0>), tensor(-44.0344, device='cuda:0', grad_fn=<NegBackward0>), tensor(-1.2192, device='cuda:0', grad_fn=<AddBackward0>)]\n",
      "0.2859706815936832\n",
      "tensor(-88.3878, device='cuda:0', grad_fn=<NegBackward0>) [tensor(-44.1452, device='cuda:0', grad_fn=<NegBackward0>), tensor(-43.3625, device='cuda:0', grad_fn=<NegBackward0>), tensor(-1.4111, device='cuda:0', grad_fn=<AddBackward0>)]\n",
      "0.23386791499492152\n",
      "tensor(-88.4860, device='cuda:0', grad_fn=<NegBackward0>) [tensor(-44.1452, device='cuda:0', grad_fn=<NegBackward0>), tensor(-43.6704, device='cuda:0', grad_fn=<NegBackward0>), tensor(-0.9549, device='cuda:0', grad_fn=<AddBackward0>)]\n",
      "0.2650928803807396\n",
      "tensor(-88.1894, device='cuda:0', grad_fn=<NegBackward0>) [tensor(-43.9922, device='cuda:0', grad_fn=<NegBackward0>), tensor(-43.3937, device='cuda:0', grad_fn=<NegBackward0>), tensor(-1.2331, device='cuda:0', grad_fn=<AddBackward0>)]\n",
      "0.2078757879239881\n",
      "tensor(-88.2340, device='cuda:0', grad_fn=<NegBackward0>) [tensor(-43.9922, device='cuda:0', grad_fn=<NegBackward0>), tensor(-43.6659, device='cuda:0', grad_fn=<NegBackward0>), tensor(-0.7787, device='cuda:0', grad_fn=<AddBackward0>)]\n",
      "0.25922471416450193\n",
      "tensor(-88.7213, device='cuda:0', grad_fn=<NegBackward0>) [tensor(-44.2016, device='cuda:0', grad_fn=<NegBackward0>), tensor(-43.7713, device='cuda:0', grad_fn=<NegBackward0>), tensor(-1.1135, device='cuda:0', grad_fn=<AddBackward0>)]\n",
      "0.2891222832601103\n",
      "tensor(-88.7267, device='cuda:0', grad_fn=<NegBackward0>) [tensor(-44.2016, device='cuda:0', grad_fn=<NegBackward0>), tensor(-43.6699, device='cuda:0', grad_fn=<NegBackward0>), tensor(-1.3519, device='cuda:0', grad_fn=<AddBackward0>)]\n",
      "0.28154713222558586\n",
      "tensor(-89.1722, device='cuda:0', grad_fn=<NegBackward0>) [tensor(-44.4582, device='cuda:0', grad_fn=<NegBackward0>), tensor(-43.9017, device='cuda:0', grad_fn=<NegBackward0>), tensor(-1.2530, device='cuda:0', grad_fn=<AddBackward0>)]\n",
      "0.2757822932626753\n",
      "tensor(-89.1835, device='cuda:0', grad_fn=<NegBackward0>) [tensor(-44.4582, device='cuda:0', grad_fn=<NegBackward0>), tensor(-43.9587, device='cuda:0', grad_fn=<NegBackward0>), tensor(-1.1524, device='cuda:0', grad_fn=<AddBackward0>)]\n",
      "0.27534010236390793\n",
      "tensor(-88.9772, device='cuda:0', grad_fn=<NegBackward0>) [tensor(-44.4132, device='cuda:0', grad_fn=<NegBackward0>), tensor(-43.7080, device='cuda:0', grad_fn=<NegBackward0>), tensor(-1.3535, device='cuda:0', grad_fn=<AddBackward0>)]\n",
      "0.2541472110248275\n",
      "tensor(-89.1079, device='cuda:0', grad_fn=<NegBackward0>) [tensor(-44.4132, device='cuda:0', grad_fn=<NegBackward0>), tensor(-43.9545, device='cuda:0', grad_fn=<NegBackward0>), tensor(-1.0963, device='cuda:0', grad_fn=<AddBackward0>)]\n",
      "0.24540089117125535\n",
      "tensor(-88.9584, device='cuda:0', grad_fn=<NegBackward0>) [tensor(-44.3648, device='cuda:0', grad_fn=<NegBackward0>), tensor(-43.8024, device='cuda:0', grad_fn=<NegBackward0>), tensor(-1.2059, device='cuda:0', grad_fn=<AddBackward0>)]\n",
      "0.28463247267473146\n",
      "tensor(-88.8980, device='cuda:0', grad_fn=<NegBackward0>) [tensor(-44.3648, device='cuda:0', grad_fn=<NegBackward0>), tensor(-43.6752, device='cuda:0', grad_fn=<NegBackward0>), tensor(-1.3584, device='cuda:0', grad_fn=<AddBackward0>)]\n",
      "0.2699730279377773\n",
      "tensor(-89.2253, device='cuda:0', grad_fn=<NegBackward0>) [tensor(-44.4624, device='cuda:0', grad_fn=<NegBackward0>), tensor(-43.9742, device='cuda:0', grad_fn=<NegBackward0>), tensor(-1.2005, device='cuda:0', grad_fn=<AddBackward0>)]\n",
      "0.3113443000297359\n",
      "tensor(-89.2191, device='cuda:0', grad_fn=<NegBackward0>) [tensor(-44.4624, device='cuda:0', grad_fn=<NegBackward0>), tensor(-43.7907, device='cuda:0', grad_fn=<NegBackward0>), tensor(-1.6273, device='cuda:0', grad_fn=<AddBackward0>)]\n",
      "0.263861059291771\n",
      "tensor(-89.6766, device='cuda:0', grad_fn=<NegBackward0>) [tensor(-44.6929, device='cuda:0', grad_fn=<NegBackward0>), tensor(-44.2233, device='cuda:0', grad_fn=<NegBackward0>), tensor(-1.1391, device='cuda:0', grad_fn=<AddBackward0>)]\n",
      "0.24790159378639315\n",
      "tensor(-89.6315, device='cuda:0', grad_fn=<NegBackward0>) [tensor(-44.6929, device='cuda:0', grad_fn=<NegBackward0>), tensor(-44.2649, device='cuda:0', grad_fn=<NegBackward0>), tensor(-0.9614, device='cuda:0', grad_fn=<AddBackward0>)]\n",
      "0.256786752751565\n",
      "tensor(-89.3311, device='cuda:0', grad_fn=<NegBackward0>) [tensor(-44.5465, device='cuda:0', grad_fn=<NegBackward0>), tensor(-44.0241, device='cuda:0', grad_fn=<NegBackward0>), tensor(-1.1392, device='cuda:0', grad_fn=<AddBackward0>)]\n",
      "0.2588549177056432\n",
      "tensor(-89.3748, device='cuda:0', grad_fn=<NegBackward0>) [tensor(-44.5465, device='cuda:0', grad_fn=<NegBackward0>), tensor(-44.0699, device='cuda:0', grad_fn=<NegBackward0>), tensor(-1.1348, device='cuda:0', grad_fn=<AddBackward0>)]\n",
      "0.2716999732081297\n",
      "tensor(-89.2169, device='cuda:0', grad_fn=<NegBackward0>) [tensor(-44.5689, device='cuda:0', grad_fn=<NegBackward0>), tensor(-43.8114, device='cuda:0', grad_fn=<NegBackward0>), tensor(-1.3085, device='cuda:0', grad_fn=<AddBackward0>)]\n",
      "0.2635356987908395\n",
      "tensor(-89.3169, device='cuda:0', grad_fn=<NegBackward0>) [tensor(-44.5689, device='cuda:0', grad_fn=<NegBackward0>), tensor(-43.9913, device='cuda:0', grad_fn=<NegBackward0>), tensor(-1.1313, device='cuda:0', grad_fn=<AddBackward0>)]\n",
      "0.24581834873770914\n",
      "tensor(-89.5796, device='cuda:0', grad_fn=<NegBackward0>) [tensor(-44.7045, device='cuda:0', grad_fn=<NegBackward0>), tensor(-44.1993, device='cuda:0', grad_fn=<NegBackward0>), tensor(-0.9656, device='cuda:0', grad_fn=<AddBackward0>)]\n",
      "0.29186988877448555\n",
      "tensor(-89.5705, device='cuda:0', grad_fn=<NegBackward0>) [tensor(-44.7045, device='cuda:0', grad_fn=<NegBackward0>), tensor(-43.9942, device='cuda:0', grad_fn=<NegBackward0>), tensor(-1.3913, device='cuda:0', grad_fn=<AddBackward0>)]\n",
      "0.2629403132410621\n",
      "tensor(-89.8480, device='cuda:0', grad_fn=<NegBackward0>) [tensor(-44.7981, device='cuda:0', grad_fn=<NegBackward0>), tensor(-44.2957, device='cuda:0', grad_fn=<NegBackward0>), tensor(-1.1260, device='cuda:0', grad_fn=<AddBackward0>)]\n",
      "0.2564192891570271\n",
      "tensor(-89.8526, device='cuda:0', grad_fn=<NegBackward0>) [tensor(-44.7981, device='cuda:0', grad_fn=<NegBackward0>), tensor(-44.2752, device='cuda:0', grad_fn=<NegBackward0>), tensor(-1.1802, device='cuda:0', grad_fn=<AddBackward0>)]\n",
      "0.23722315127805185\n",
      "tensor(-89.1518, device='cuda:0', grad_fn=<NegBackward0>) [tensor(-44.4624, device='cuda:0', grad_fn=<NegBackward0>), tensor(-44.0200, device='cuda:0', grad_fn=<NegBackward0>), tensor(-0.9531, device='cuda:0', grad_fn=<AddBackward0>)]\n",
      "0.28654741049936144\n",
      "tensor(-89.2953, device='cuda:0', grad_fn=<NegBackward0>) [tensor(-44.4624, device='cuda:0', grad_fn=<NegBackward0>), tensor(-43.9738, device='cuda:0', grad_fn=<NegBackward0>), tensor(-1.3612, device='cuda:0', grad_fn=<AddBackward0>)]\n",
      "0.26605851881711623\n",
      "tensor(-89.6482, device='cuda:0', grad_fn=<NegBackward0>) [tensor(-44.7094, device='cuda:0', grad_fn=<NegBackward0>), tensor(-44.1549, device='cuda:0', grad_fn=<NegBackward0>), tensor(-1.1899, device='cuda:0', grad_fn=<AddBackward0>)]\n",
      "0.2737011911291177\n",
      "tensor(-89.6820, device='cuda:0', grad_fn=<NegBackward0>) [tensor(-44.7094, device='cuda:0', grad_fn=<NegBackward0>), tensor(-44.1380, device='cuda:0', grad_fn=<NegBackward0>), tensor(-1.3036, device='cuda:0', grad_fn=<AddBackward0>)]\n",
      "0.2600600358547223\n",
      "tensor(-89.8974, device='cuda:0', grad_fn=<NegBackward0>) [tensor(-44.8397, device='cuda:0', grad_fn=<NegBackward0>), tensor(-44.3031, device='cuda:0', grad_fn=<NegBackward0>), tensor(-1.1269, device='cuda:0', grad_fn=<AddBackward0>)]\n",
      "0.2666312931570564\n",
      "tensor(-89.8649, device='cuda:0', grad_fn=<NegBackward0>) [tensor(-44.8397, device='cuda:0', grad_fn=<NegBackward0>), tensor(-44.2515, device='cuda:0', grad_fn=<NegBackward0>), tensor(-1.1679, device='cuda:0', grad_fn=<AddBackward0>)]\n",
      "0.2647249321109772\n",
      "tensor(-90.2559, device='cuda:0', grad_fn=<NegBackward0>) [tensor(-44.9915, device='cuda:0', grad_fn=<NegBackward0>), tensor(-44.4998, device='cuda:0', grad_fn=<NegBackward0>), tensor(-1.1481, device='cuda:0', grad_fn=<AddBackward0>)]\n"
     ]
    },
    {
     "name": "stdout",
     "output_type": "stream",
     "text": [
      "0.2584331134545922\n",
      "tensor(-90.2508, device='cuda:0', grad_fn=<NegBackward0>) [tensor(-44.9915, device='cuda:0', grad_fn=<NegBackward0>), tensor(-44.5345, device='cuda:0', grad_fn=<NegBackward0>), tensor(-1.0641, device='cuda:0', grad_fn=<AddBackward0>)]\n",
      "0.25521217750924236\n",
      "tensor(-90.1575, device='cuda:0', grad_fn=<NegBackward0>) [tensor(-44.9456, device='cuda:0', grad_fn=<NegBackward0>), tensor(-44.4607, device='cuda:0', grad_fn=<NegBackward0>), tensor(-1.1195, device='cuda:0', grad_fn=<AddBackward0>)]\n",
      "0.2706496398703832\n",
      "tensor(-90.0860, device='cuda:0', grad_fn=<NegBackward0>) [tensor(-44.9456, device='cuda:0', grad_fn=<NegBackward0>), tensor(-44.3632, device='cuda:0', grad_fn=<NegBackward0>), tensor(-1.1753, device='cuda:0', grad_fn=<AddBackward0>)]\n",
      "0.26486916685015144\n",
      "tensor(-90.1201, device='cuda:0', grad_fn=<NegBackward0>) [tensor(-44.9295, device='cuda:0', grad_fn=<NegBackward0>), tensor(-44.4217, device='cuda:0', grad_fn=<NegBackward0>), tensor(-1.1571, device='cuda:0', grad_fn=<AddBackward0>)]\n",
      "0.26665509166005114\n",
      "tensor(-90.0958, device='cuda:0', grad_fn=<NegBackward0>) [tensor(-44.9295, device='cuda:0', grad_fn=<NegBackward0>), tensor(-44.3855, device='cuda:0', grad_fn=<NegBackward0>), tensor(-1.1832, device='cuda:0', grad_fn=<AddBackward0>)]\n",
      "0.2707648470209113\n",
      "tensor(-90.1347, device='cuda:0', grad_fn=<NegBackward0>) [tensor(-44.9304, device='cuda:0', grad_fn=<NegBackward0>), tensor(-44.4350, device='cuda:0', grad_fn=<NegBackward0>), tensor(-1.1583, device='cuda:0', grad_fn=<AddBackward0>)]\n",
      "0.268783913331143\n",
      "tensor(-90.0919, device='cuda:0', grad_fn=<NegBackward0>) [tensor(-44.9304, device='cuda:0', grad_fn=<NegBackward0>), tensor(-44.3539, device='cuda:0', grad_fn=<NegBackward0>), tensor(-1.2426, device='cuda:0', grad_fn=<AddBackward0>)]\n",
      "0.24696030419720633\n",
      "tensor(-89.7077, device='cuda:0', grad_fn=<NegBackward0>) [tensor(-44.7291, device='cuda:0', grad_fn=<NegBackward0>), tensor(-44.3107, device='cuda:0', grad_fn=<NegBackward0>), tensor(-0.9502, device='cuda:0', grad_fn=<AddBackward0>)]\n",
      "0.26583081657484003\n",
      "tensor(-89.5699, device='cuda:0', grad_fn=<NegBackward0>) [tensor(-44.7291, device='cuda:0', grad_fn=<NegBackward0>), tensor(-44.0098, device='cuda:0', grad_fn=<NegBackward0>), tensor(-1.2958, device='cuda:0', grad_fn=<AddBackward0>)]\n",
      "0.2885208159278305\n",
      "tensor(-89.8223, device='cuda:0', grad_fn=<NegBackward0>) [tensor(-44.7771, device='cuda:0', grad_fn=<NegBackward0>), tensor(-44.1993, device='cuda:0', grad_fn=<NegBackward0>), tensor(-1.3303, device='cuda:0', grad_fn=<AddBackward0>)]\n",
      "0.26394775269918047\n",
      "tensor(-89.7620, device='cuda:0', grad_fn=<NegBackward0>) [tensor(-44.7771, device='cuda:0', grad_fn=<NegBackward0>), tensor(-44.2385, device='cuda:0', grad_fn=<NegBackward0>), tensor(-1.1095, device='cuda:0', grad_fn=<AddBackward0>)]\n",
      "0.2853089824235444\n",
      "tensor(-89.2010, device='cuda:0', grad_fn=<NegBackward0>) [tensor(-44.5232, device='cuda:0', grad_fn=<NegBackward0>), tensor(-43.8240, device='cuda:0', grad_fn=<NegBackward0>), tensor(-1.3487, device='cuda:0', grad_fn=<AddBackward0>)]\n",
      "0.28470050124304175\n",
      "tensor(-89.3212, device='cuda:0', grad_fn=<NegBackward0>) [tensor(-44.5232, device='cuda:0', grad_fn=<NegBackward0>), tensor(-43.9639, device='cuda:0', grad_fn=<NegBackward0>), tensor(-1.3028, device='cuda:0', grad_fn=<AddBackward0>)]\n",
      "0.2533007733548372\n",
      "tensor(-90.0843, device='cuda:0', grad_fn=<NegBackward0>) [tensor(-45.0043, device='cuda:0', grad_fn=<NegBackward0>), tensor(-44.3997, device='cuda:0', grad_fn=<NegBackward0>), tensor(-0.9745, device='cuda:0', grad_fn=<AddBackward0>)]\n",
      "0.2751905582433898\n",
      "tensor(-90.2230, device='cuda:0', grad_fn=<NegBackward0>) [tensor(-45.0043, device='cuda:0', grad_fn=<NegBackward0>), tensor(-44.4058, device='cuda:0', grad_fn=<NegBackward0>), tensor(-1.2545, device='cuda:0', grad_fn=<AddBackward0>)]\n",
      "0.2859737001549951\n",
      "tensor(-90.1917, device='cuda:0', grad_fn=<NegBackward0>) [tensor(-44.9797, device='cuda:0', grad_fn=<NegBackward0>), tensor(-44.3884, device='cuda:0', grad_fn=<NegBackward0>), tensor(-1.2786, device='cuda:0', grad_fn=<AddBackward0>)]\n",
      "0.26973990395280223\n",
      "tensor(-90.1668, device='cuda:0', grad_fn=<NegBackward0>) [tensor(-44.9797, device='cuda:0', grad_fn=<NegBackward0>), tensor(-44.4102, device='cuda:0', grad_fn=<NegBackward0>), tensor(-1.1749, device='cuda:0', grad_fn=<AddBackward0>)]\n",
      "0.22939690782522915\n",
      "tensor(-90.5776, device='cuda:0', grad_fn=<NegBackward0>) [tensor(-45.1426, device='cuda:0', grad_fn=<NegBackward0>), tensor(-44.8368, device='cuda:0', grad_fn=<NegBackward0>), tensor(-0.8188, device='cuda:0', grad_fn=<AddBackward0>)]\n",
      "0.2501636333634342\n",
      "tensor(-90.4343, device='cuda:0', grad_fn=<NegBackward0>) [tensor(-45.1426, device='cuda:0', grad_fn=<NegBackward0>), tensor(-44.5282, device='cuda:0', grad_fn=<NegBackward0>), tensor(-1.1457, device='cuda:0', grad_fn=<AddBackward0>)]\n",
      "0.26921158246122784\n",
      "tensor(-90.3570, device='cuda:0', grad_fn=<NegBackward0>) [tensor(-45.0661, device='cuda:0', grad_fn=<NegBackward0>), tensor(-44.5335, device='cuda:0', grad_fn=<NegBackward0>), tensor(-1.1328, device='cuda:0', grad_fn=<AddBackward0>)]\n",
      "0.27293207902939876\n",
      "tensor(-90.3178, device='cuda:0', grad_fn=<NegBackward0>) [tensor(-45.0661, device='cuda:0', grad_fn=<NegBackward0>), tensor(-44.4320, device='cuda:0', grad_fn=<NegBackward0>), tensor(-1.2699, device='cuda:0', grad_fn=<AddBackward0>)]\n",
      "0.25183616660723135\n",
      "tensor(-90.4350, device='cuda:0', grad_fn=<NegBackward0>) [tensor(-45.1606, device='cuda:0', grad_fn=<NegBackward0>), tensor(-44.5820, device='cuda:0', grad_fn=<NegBackward0>), tensor(-0.9984, device='cuda:0', grad_fn=<AddBackward0>)]\n",
      "0.29905973689851434\n",
      "tensor(-90.5406, device='cuda:0', grad_fn=<NegBackward0>) [tensor(-45.1606, device='cuda:0', grad_fn=<NegBackward0>), tensor(-44.5095, device='cuda:0', grad_fn=<NegBackward0>), tensor(-1.3880, device='cuda:0', grad_fn=<AddBackward0>)]\n",
      "0.2358946985802755\n",
      "tensor(-90.7663, device='cuda:0', grad_fn=<NegBackward0>) [tensor(-45.2715, device='cuda:0', grad_fn=<NegBackward0>), tensor(-44.8780, device='cuda:0', grad_fn=<NegBackward0>), tensor(-0.8530, device='cuda:0', grad_fn=<AddBackward0>)]\n",
      "0.2508190884478628\n",
      "tensor(-90.7817, device='cuda:0', grad_fn=<NegBackward0>) [tensor(-45.2715, device='cuda:0', grad_fn=<NegBackward0>), tensor(-44.8272, device='cuda:0', grad_fn=<NegBackward0>), tensor(-0.9798, device='cuda:0', grad_fn=<AddBackward0>)]\n",
      "0.26330595661057205\n",
      "tensor(-90.9039, device='cuda:0', grad_fn=<NegBackward0>) [tensor(-45.3085, device='cuda:0', grad_fn=<NegBackward0>), tensor(-44.8208, device='cuda:0', grad_fn=<NegBackward0>), tensor(-1.1698, device='cuda:0', grad_fn=<AddBackward0>)]\n",
      "0.2602971438798728\n",
      "tensor(-90.8379, device='cuda:0', grad_fn=<NegBackward0>) [tensor(-45.3085, device='cuda:0', grad_fn=<NegBackward0>), tensor(-44.8075, device='cuda:0', grad_fn=<NegBackward0>), tensor(-1.0583, device='cuda:0', grad_fn=<AddBackward0>)]\n",
      "0.24674074659196366\n",
      "tensor(-90.6886, device='cuda:0', grad_fn=<NegBackward0>) [tensor(-45.2770, device='cuda:0', grad_fn=<NegBackward0>), tensor(-44.7013, device='cuda:0', grad_fn=<NegBackward0>), tensor(-1.0348, device='cuda:0', grad_fn=<AddBackward0>)]\n",
      "0.26205830028057797\n",
      "tensor(-90.7367, device='cuda:0', grad_fn=<NegBackward0>) [tensor(-45.2770, device='cuda:0', grad_fn=<NegBackward0>), tensor(-44.7450, device='cuda:0', grad_fn=<NegBackward0>), tensor(-1.0437, device='cuda:0', grad_fn=<AddBackward0>)]\n",
      "0.2671908254894358\n",
      "tensor(-90.9934, device='cuda:0', grad_fn=<NegBackward0>) [tensor(-45.4010, device='cuda:0', grad_fn=<NegBackward0>), tensor(-44.8411, device='cuda:0', grad_fn=<NegBackward0>), tensor(-1.1199, device='cuda:0', grad_fn=<AddBackward0>)]\n",
      "0.23320907296818488\n",
      "tensor(-90.9792, device='cuda:0', grad_fn=<NegBackward0>) [tensor(-45.4010, device='cuda:0', grad_fn=<NegBackward0>), tensor(-44.9368, device='cuda:0', grad_fn=<NegBackward0>), tensor(-0.8992, device='cuda:0', grad_fn=<AddBackward0>)]\n",
      "0.2696791167998926\n",
      "tensor(-91.0838, device='cuda:0', grad_fn=<NegBackward0>) [tensor(-45.4205, device='cuda:0', grad_fn=<NegBackward0>), tensor(-44.8899, device='cuda:0', grad_fn=<NegBackward0>), tensor(-1.1673, device='cuda:0', grad_fn=<AddBackward0>)]\n",
      "0.25053887036360795\n",
      "tensor(-91.1238, device='cuda:0', grad_fn=<NegBackward0>) [tensor(-45.4205, device='cuda:0', grad_fn=<NegBackward0>), tensor(-44.9986, device='cuda:0', grad_fn=<NegBackward0>), tensor(-1.0233, device='cuda:0', grad_fn=<AddBackward0>)]\n"
     ]
    },
    {
     "name": "stdout",
     "output_type": "stream",
     "text": [
      "0.2589849339177472\n",
      "tensor(-90.8341, device='cuda:0', grad_fn=<NegBackward0>) [tensor(-45.3201, device='cuda:0', grad_fn=<NegBackward0>), tensor(-44.7465, device='cuda:0', grad_fn=<NegBackward0>), tensor(-1.1545, device='cuda:0', grad_fn=<AddBackward0>)]\n",
      "0.2578220580819154\n",
      "tensor(-90.7946, device='cuda:0', grad_fn=<NegBackward0>) [tensor(-45.3201, device='cuda:0', grad_fn=<NegBackward0>), tensor(-44.7833, device='cuda:0', grad_fn=<NegBackward0>), tensor(-0.9961, device='cuda:0', grad_fn=<AddBackward0>)]\n",
      "0.2560610182327322\n",
      "tensor(-90.8895, device='cuda:0', grad_fn=<NegBackward0>) [tensor(-45.3196, device='cuda:0', grad_fn=<NegBackward0>), tensor(-44.8154, device='cuda:0', grad_fn=<NegBackward0>), tensor(-1.1264, device='cuda:0', grad_fn=<AddBackward0>)]\n",
      "0.25458827317094745\n",
      "tensor(-90.8131, device='cuda:0', grad_fn=<NegBackward0>) [tensor(-45.3196, device='cuda:0', grad_fn=<NegBackward0>), tensor(-44.7880, device='cuda:0', grad_fn=<NegBackward0>), tensor(-1.0249, device='cuda:0', grad_fn=<AddBackward0>)]\n",
      "0.2462321647852119\n",
      "tensor(-91.0651, device='cuda:0', grad_fn=<NegBackward0>) [tensor(-45.4149, device='cuda:0', grad_fn=<NegBackward0>), tensor(-44.9945, device='cuda:0', grad_fn=<NegBackward0>), tensor(-0.9264, device='cuda:0', grad_fn=<AddBackward0>)]\n",
      "0.26533778862943647\n",
      "tensor(-91.1115, device='cuda:0', grad_fn=<NegBackward0>) [tensor(-45.4149, device='cuda:0', grad_fn=<NegBackward0>), tensor(-44.9319, device='cuda:0', grad_fn=<NegBackward0>), tensor(-1.1482, device='cuda:0', grad_fn=<AddBackward0>)]\n",
      "0.2701724240987442\n",
      "tensor(-90.9763, device='cuda:0', grad_fn=<NegBackward0>) [tensor(-45.3792, device='cuda:0', grad_fn=<NegBackward0>), tensor(-44.8658, device='cuda:0', grad_fn=<NegBackward0>), tensor(-1.0777, device='cuda:0', grad_fn=<AddBackward0>)]\n",
      "0.27778566934806015\n",
      "tensor(-90.8931, device='cuda:0', grad_fn=<NegBackward0>) [tensor(-45.3792, device='cuda:0', grad_fn=<NegBackward0>), tensor(-44.6880, device='cuda:0', grad_fn=<NegBackward0>), tensor(-1.2840, device='cuda:0', grad_fn=<AddBackward0>)]\n",
      "0.2480422644207412\n",
      "tensor(-90.8628, device='cuda:0', grad_fn=<NegBackward0>) [tensor(-45.3954, device='cuda:0', grad_fn=<NegBackward0>), tensor(-44.7928, device='cuda:0', grad_fn=<NegBackward0>), tensor(-0.9631, device='cuda:0', grad_fn=<AddBackward0>)]\n",
      "0.2344301877256882\n",
      "tensor(-90.9663, device='cuda:0', grad_fn=<NegBackward0>) [tensor(-45.3954, device='cuda:0', grad_fn=<NegBackward0>), tensor(-44.9572, device='cuda:0', grad_fn=<NegBackward0>), tensor(-0.8473, device='cuda:0', grad_fn=<AddBackward0>)]\n",
      "0.26115324325471706\n",
      "tensor(-91.3487, device='cuda:0', grad_fn=<NegBackward0>) [tensor(-45.5469, device='cuda:0', grad_fn=<NegBackward0>), tensor(-45.0700, device='cuda:0', grad_fn=<NegBackward0>), tensor(-1.0787, device='cuda:0', grad_fn=<AddBackward0>)]\n",
      "0.24344059155327466\n",
      "tensor(-91.2611, device='cuda:0', grad_fn=<NegBackward0>) [tensor(-45.5469, device='cuda:0', grad_fn=<NegBackward0>), tensor(-45.0808, device='cuda:0', grad_fn=<NegBackward0>), tensor(-0.8840, device='cuda:0', grad_fn=<AddBackward0>)]\n",
      "0.2500357821523216\n",
      "tensor(-91.2910, device='cuda:0', grad_fn=<NegBackward0>) [tensor(-45.4764, device='cuda:0', grad_fn=<NegBackward0>), tensor(-45.1190, device='cuda:0', grad_fn=<NegBackward0>), tensor(-1.0047, device='cuda:0', grad_fn=<AddBackward0>)]\n",
      "0.2762931023883237\n",
      "tensor(-91.2194, device='cuda:0', grad_fn=<NegBackward0>) [tensor(-45.4764, device='cuda:0', grad_fn=<NegBackward0>), tensor(-44.9361, device='cuda:0', grad_fn=<NegBackward0>), tensor(-1.2408, device='cuda:0', grad_fn=<AddBackward0>)]\n",
      "0.278036604635652\n",
      "tensor(-91.3099, device='cuda:0', grad_fn=<NegBackward0>) [tensor(-45.5059, device='cuda:0', grad_fn=<NegBackward0>), tensor(-44.9294, device='cuda:0', grad_fn=<NegBackward0>), tensor(-1.3979, device='cuda:0', grad_fn=<AddBackward0>)]\n",
      "0.27614727926911875\n",
      "tensor(-91.1572, device='cuda:0', grad_fn=<NegBackward0>) [tensor(-45.5059, device='cuda:0', grad_fn=<NegBackward0>), tensor(-44.8680, device='cuda:0', grad_fn=<NegBackward0>), tensor(-1.1887, device='cuda:0', grad_fn=<AddBackward0>)]\n",
      "0.24173468291414565\n",
      "tensor(-90.8571, device='cuda:0', grad_fn=<NegBackward0>) [tensor(-45.3406, device='cuda:0', grad_fn=<NegBackward0>), tensor(-44.8954, device='cuda:0', grad_fn=<NegBackward0>), tensor(-0.8610, device='cuda:0', grad_fn=<AddBackward0>)]\n",
      "0.24542189549989465\n",
      "tensor(-90.9098, device='cuda:0', grad_fn=<NegBackward0>) [tensor(-45.3406, device='cuda:0', grad_fn=<NegBackward0>), tensor(-44.8804, device='cuda:0', grad_fn=<NegBackward0>), tensor(-0.9913, device='cuda:0', grad_fn=<AddBackward0>)]\n",
      "0.24662088035283655\n",
      "tensor(-91.0048, device='cuda:0', grad_fn=<NegBackward0>) [tensor(-45.3891, device='cuda:0', grad_fn=<NegBackward0>), tensor(-44.9192, device='cuda:0', grad_fn=<NegBackward0>), tensor(-1.0068, device='cuda:0', grad_fn=<AddBackward0>)]\n",
      "0.2505301627659619\n",
      "tensor(-90.9664, device='cuda:0', grad_fn=<NegBackward0>) [tensor(-45.3891, device='cuda:0', grad_fn=<NegBackward0>), tensor(-44.8856, device='cuda:0', grad_fn=<NegBackward0>), tensor(-0.9970, device='cuda:0', grad_fn=<AddBackward0>)]\n",
      "0.22132665775837865\n",
      "tensor(-91.3279, device='cuda:0', grad_fn=<NegBackward0>) [tensor(-45.5261, device='cuda:0', grad_fn=<NegBackward0>), tensor(-45.2336, device='cuda:0', grad_fn=<NegBackward0>), tensor(-0.7650, device='cuda:0', grad_fn=<AddBackward0>)]\n",
      "0.25158342548799706\n",
      "tensor(-91.2897, device='cuda:0', grad_fn=<NegBackward0>) [tensor(-45.5261, device='cuda:0', grad_fn=<NegBackward0>), tensor(-45.0793, device='cuda:0', grad_fn=<NegBackward0>), tensor(-0.9823, device='cuda:0', grad_fn=<AddBackward0>)]\n",
      "0.21430846894904312\n",
      "tensor(-91.3173, device='cuda:0', grad_fn=<NegBackward0>) [tensor(-45.6239, device='cuda:0', grad_fn=<NegBackward0>), tensor(-45.0836, device='cuda:0', grad_fn=<NegBackward0>), tensor(-0.8400, device='cuda:0', grad_fn=<AddBackward0>)]\n",
      "0.2800766147331501\n",
      "tensor(-91.4043, device='cuda:0', grad_fn=<NegBackward0>) [tensor(-45.6239, device='cuda:0', grad_fn=<NegBackward0>), tensor(-44.9785, device='cuda:0', grad_fn=<NegBackward0>), tensor(-1.2298, device='cuda:0', grad_fn=<AddBackward0>)]\n",
      "0.246447170123166\n",
      "tensor(-91.4171, device='cuda:0', grad_fn=<NegBackward0>) [tensor(-45.6317, device='cuda:0', grad_fn=<NegBackward0>), tensor(-45.1027, device='cuda:0', grad_fn=<NegBackward0>), tensor(-0.9793, device='cuda:0', grad_fn=<AddBackward0>)]\n",
      "0.2377681202704029\n",
      "tensor(-91.5950, device='cuda:0', grad_fn=<NegBackward0>) [tensor(-45.6317, device='cuda:0', grad_fn=<NegBackward0>), tensor(-45.2587, device='cuda:0', grad_fn=<NegBackward0>), tensor(-1.0231, device='cuda:0', grad_fn=<AddBackward0>)]\n",
      "0.2642132000393097\n",
      "tensor(-90.9452, device='cuda:0', grad_fn=<NegBackward0>) [tensor(-45.3971, device='cuda:0', grad_fn=<NegBackward0>), tensor(-44.8507, device='cuda:0', grad_fn=<NegBackward0>), tensor(-1.0086, device='cuda:0', grad_fn=<AddBackward0>)]\n",
      "0.2594134373022141\n",
      "tensor(-91.0745, device='cuda:0', grad_fn=<NegBackward0>) [tensor(-45.3971, device='cuda:0', grad_fn=<NegBackward0>), tensor(-44.9644, device='cuda:0', grad_fn=<NegBackward0>), tensor(-1.0401, device='cuda:0', grad_fn=<AddBackward0>)]\n",
      "0.25683609053085876\n",
      "tensor(-91.7654, device='cuda:0', grad_fn=<NegBackward0>) [tensor(-45.7745, device='cuda:0', grad_fn=<NegBackward0>), tensor(-45.2777, device='cuda:0', grad_fn=<NegBackward0>), tensor(-1.0405, device='cuda:0', grad_fn=<AddBackward0>)]\n",
      "0.25990847825996566\n",
      "tensor(-91.7131, device='cuda:0', grad_fn=<NegBackward0>) [tensor(-45.7745, device='cuda:0', grad_fn=<NegBackward0>), tensor(-45.2694, device='cuda:0', grad_fn=<NegBackward0>), tensor(-0.9525, device='cuda:0', grad_fn=<AddBackward0>)]\n",
      "0.223578890799982\n",
      "tensor(-91.4257, device='cuda:0', grad_fn=<NegBackward0>) [tensor(-45.6188, device='cuda:0', grad_fn=<NegBackward0>), tensor(-45.2495, device='cuda:0', grad_fn=<NegBackward0>), tensor(-0.7460, device='cuda:0', grad_fn=<AddBackward0>)]\n",
      "0.22809357889570964\n",
      "tensor(-91.4747, device='cuda:0', grad_fn=<NegBackward0>) [tensor(-45.6188, device='cuda:0', grad_fn=<NegBackward0>), tensor(-45.2796, device='cuda:0', grad_fn=<NegBackward0>), tensor(-0.7795, device='cuda:0', grad_fn=<AddBackward0>)]\n",
      "0.2603615972955055\n",
      "tensor(-91.5709, device='cuda:0', grad_fn=<NegBackward0>) [tensor(-45.6974, device='cuda:0', grad_fn=<NegBackward0>), tensor(-45.1726, device='cuda:0', grad_fn=<NegBackward0>), tensor(-1.0156, device='cuda:0', grad_fn=<AddBackward0>)]\n"
     ]
    },
    {
     "name": "stdout",
     "output_type": "stream",
     "text": [
      "0.2461482916267229\n",
      "tensor(-91.5915, device='cuda:0', grad_fn=<NegBackward0>) [tensor(-45.6974, device='cuda:0', grad_fn=<NegBackward0>), tensor(-45.2434, device='cuda:0', grad_fn=<NegBackward0>), tensor(-0.9168, device='cuda:0', grad_fn=<AddBackward0>)]\n",
      "0.271073148249793\n",
      "tensor(-91.0033, device='cuda:0', grad_fn=<NegBackward0>) [tensor(-45.4347, device='cuda:0', grad_fn=<NegBackward0>), tensor(-44.8119, device='cuda:0', grad_fn=<NegBackward0>), tensor(-1.1311, device='cuda:0', grad_fn=<AddBackward0>)]\n",
      "0.23225145674403566\n",
      "tensor(-91.1140, device='cuda:0', grad_fn=<NegBackward0>) [tensor(-45.4347, device='cuda:0', grad_fn=<NegBackward0>), tensor(-45.1002, device='cuda:0', grad_fn=<NegBackward0>), tensor(-0.7844, device='cuda:0', grad_fn=<AddBackward0>)]\n",
      "0.2630808694801113\n",
      "tensor(-91.6924, device='cuda:0', grad_fn=<NegBackward0>) [tensor(-45.7630, device='cuda:0', grad_fn=<NegBackward0>), tensor(-45.1319, device='cuda:0', grad_fn=<NegBackward0>), tensor(-1.2200, device='cuda:0', grad_fn=<AddBackward0>)]\n",
      "0.2598201729332143\n",
      "tensor(-91.6743, device='cuda:0', grad_fn=<NegBackward0>) [tensor(-45.7630, device='cuda:0', grad_fn=<NegBackward0>), tensor(-45.1271, device='cuda:0', grad_fn=<NegBackward0>), tensor(-1.1905, device='cuda:0', grad_fn=<AddBackward0>)]\n",
      "0.24142154675613478\n",
      "tensor(-91.3551, device='cuda:0', grad_fn=<NegBackward0>) [tensor(-45.5911, device='cuda:0', grad_fn=<NegBackward0>), tensor(-45.0605, device='cuda:0', grad_fn=<NegBackward0>), tensor(-1.0208, device='cuda:0', grad_fn=<AddBackward0>)]\n",
      "0.271914713616403\n",
      "tensor(-91.4254, device='cuda:0', grad_fn=<NegBackward0>) [tensor(-45.5911, device='cuda:0', grad_fn=<NegBackward0>), tensor(-45.0416, device='cuda:0', grad_fn=<NegBackward0>), tensor(-1.2095, device='cuda:0', grad_fn=<AddBackward0>)]\n",
      "0.25546800536332465\n",
      "tensor(-91.5302, device='cuda:0', grad_fn=<NegBackward0>) [tensor(-45.6673, device='cuda:0', grad_fn=<NegBackward0>), tensor(-45.1542, device='cuda:0', grad_fn=<NegBackward0>), tensor(-1.0312, device='cuda:0', grad_fn=<AddBackward0>)]\n",
      "0.258784212691562\n",
      "tensor(-91.4177, device='cuda:0', grad_fn=<NegBackward0>) [tensor(-45.6673, device='cuda:0', grad_fn=<NegBackward0>), tensor(-45.0035, device='cuda:0', grad_fn=<NegBackward0>), tensor(-1.1105, device='cuda:0', grad_fn=<AddBackward0>)]\n",
      "0.24663628716408414\n",
      "tensor(-90.8542, device='cuda:0', grad_fn=<NegBackward0>) [tensor(-45.3339, device='cuda:0', grad_fn=<NegBackward0>), tensor(-44.8223, device='cuda:0', grad_fn=<NegBackward0>), tensor(-1.0098, device='cuda:0', grad_fn=<AddBackward0>)]\n",
      "0.2606350340292772\n",
      "tensor(-90.8565, device='cuda:0', grad_fn=<NegBackward0>) [tensor(-45.3339, device='cuda:0', grad_fn=<NegBackward0>), tensor(-44.8194, device='cuda:0', grad_fn=<NegBackward0>), tensor(-1.0203, device='cuda:0', grad_fn=<AddBackward0>)]\n",
      "0.24065608816022352\n",
      "tensor(-91.4225, device='cuda:0', grad_fn=<NegBackward0>) [tensor(-45.6546, device='cuda:0', grad_fn=<NegBackward0>), tensor(-45.1225, device='cuda:0', grad_fn=<NegBackward0>), tensor(-0.9066, device='cuda:0', grad_fn=<AddBackward0>)]\n",
      "0.261007848824316\n",
      "tensor(-91.5602, device='cuda:0', grad_fn=<NegBackward0>) [tensor(-45.6546, device='cuda:0', grad_fn=<NegBackward0>), tensor(-45.2278, device='cuda:0', grad_fn=<NegBackward0>), tensor(-0.9695, device='cuda:0', grad_fn=<AddBackward0>)]\n",
      "0.25851700797550414\n",
      "tensor(-91.6134, device='cuda:0', grad_fn=<NegBackward0>) [tensor(-45.6703, device='cuda:0', grad_fn=<NegBackward0>), tensor(-45.2351, device='cuda:0', grad_fn=<NegBackward0>), tensor(-1.0298, device='cuda:0', grad_fn=<AddBackward0>)]\n",
      "0.2361631299125637\n",
      "tensor(-91.5338, device='cuda:0', grad_fn=<NegBackward0>) [tensor(-45.6703, device='cuda:0', grad_fn=<NegBackward0>), tensor(-45.2194, device='cuda:0', grad_fn=<NegBackward0>), tensor(-0.9041, device='cuda:0', grad_fn=<AddBackward0>)]\n",
      "0.2709952123670736\n",
      "tensor(-91.8035, device='cuda:0', grad_fn=<NegBackward0>) [tensor(-45.7962, device='cuda:0', grad_fn=<NegBackward0>), tensor(-45.2370, device='cuda:0', grad_fn=<NegBackward0>), tensor(-1.1604, device='cuda:0', grad_fn=<AddBackward0>)]\n",
      "0.2179089428371977\n",
      "tensor(-91.8150, device='cuda:0', grad_fn=<NegBackward0>) [tensor(-45.7962, device='cuda:0', grad_fn=<NegBackward0>), tensor(-45.4714, device='cuda:0', grad_fn=<NegBackward0>), tensor(-0.7286, device='cuda:0', grad_fn=<AddBackward0>)]\n",
      "0.25352050032349777\n",
      "tensor(-91.9106, device='cuda:0', grad_fn=<NegBackward0>) [tensor(-45.8070, device='cuda:0', grad_fn=<NegBackward0>), tensor(-45.3838, device='cuda:0', grad_fn=<NegBackward0>), tensor(-1.0542, device='cuda:0', grad_fn=<AddBackward0>)]\n",
      "0.22657296660413742\n",
      "tensor(-91.7287, device='cuda:0', grad_fn=<NegBackward0>) [tensor(-45.8070, device='cuda:0', grad_fn=<NegBackward0>), tensor(-45.3426, device='cuda:0', grad_fn=<NegBackward0>), tensor(-0.7844, device='cuda:0', grad_fn=<AddBackward0>)]\n",
      "0.25267396331016617\n",
      "tensor(-91.7656, device='cuda:0', grad_fn=<NegBackward0>) [tensor(-45.7621, device='cuda:0', grad_fn=<NegBackward0>), tensor(-45.3424, device='cuda:0', grad_fn=<NegBackward0>), tensor(-0.9370, device='cuda:0', grad_fn=<AddBackward0>)]\n",
      "0.2578405155084856\n",
      "tensor(-91.8537, device='cuda:0', grad_fn=<NegBackward0>) [tensor(-45.7621, device='cuda:0', grad_fn=<NegBackward0>), tensor(-45.3790, device='cuda:0', grad_fn=<NegBackward0>), tensor(-1.0394, device='cuda:0', grad_fn=<AddBackward0>)]\n",
      "0.23908443591851458\n",
      "tensor(-91.7201, device='cuda:0', grad_fn=<NegBackward0>) [tensor(-45.7573, device='cuda:0', grad_fn=<NegBackward0>), tensor(-45.3621, device='cuda:0', grad_fn=<NegBackward0>), tensor(-0.8232, device='cuda:0', grad_fn=<AddBackward0>)]\n",
      "0.25557210527966345\n",
      "tensor(-91.7335, device='cuda:0', grad_fn=<NegBackward0>) [tensor(-45.7573, device='cuda:0', grad_fn=<NegBackward0>), tensor(-45.2841, device='cuda:0', grad_fn=<NegBackward0>), tensor(-0.9978, device='cuda:0', grad_fn=<AddBackward0>)]\n",
      "0.2497311823489204\n",
      "tensor(-91.5905, device='cuda:0', grad_fn=<NegBackward0>) [tensor(-45.6855, device='cuda:0', grad_fn=<NegBackward0>), tensor(-45.2218, device='cuda:0', grad_fn=<NegBackward0>), tensor(-0.9803, device='cuda:0', grad_fn=<AddBackward0>)]\n",
      "0.2619666084194211\n",
      "tensor(-91.5444, device='cuda:0', grad_fn=<NegBackward0>) [tensor(-45.6855, device='cuda:0', grad_fn=<NegBackward0>), tensor(-45.1338, device='cuda:0', grad_fn=<NegBackward0>), tensor(-1.0650, device='cuda:0', grad_fn=<AddBackward0>)]\n",
      "0.2600473587908542\n",
      "tensor(-91.7460, device='cuda:0', grad_fn=<NegBackward0>) [tensor(-45.7807, device='cuda:0', grad_fn=<NegBackward0>), tensor(-45.2511, device='cuda:0', grad_fn=<NegBackward0>), tensor(-1.0426, device='cuda:0', grad_fn=<AddBackward0>)]\n",
      "0.2508503837956846\n",
      "tensor(-91.8160, device='cuda:0', grad_fn=<NegBackward0>) [tensor(-45.7807, device='cuda:0', grad_fn=<NegBackward0>), tensor(-45.3666, device='cuda:0', grad_fn=<NegBackward0>), tensor(-0.9516, device='cuda:0', grad_fn=<AddBackward0>)]\n",
      "0.2528720199365628\n",
      "tensor(-92.0224, device='cuda:0', grad_fn=<NegBackward0>) [tensor(-45.9751, device='cuda:0', grad_fn=<NegBackward0>), tensor(-45.2955, device='cuda:0', grad_fn=<NegBackward0>), tensor(-1.1209, device='cuda:0', grad_fn=<AddBackward0>)]\n",
      "0.24806677026270169\n",
      "tensor(-92.1178, device='cuda:0', grad_fn=<NegBackward0>) [tensor(-45.9751, device='cuda:0', grad_fn=<NegBackward0>), tensor(-45.4602, device='cuda:0', grad_fn=<NegBackward0>), tensor(-0.9789, device='cuda:0', grad_fn=<AddBackward0>)]\n",
      "0.20521863562390383\n",
      "tensor(-91.8946, device='cuda:0', grad_fn=<NegBackward0>) [tensor(-45.8123, device='cuda:0', grad_fn=<NegBackward0>), tensor(-45.5800, device='cuda:0', grad_fn=<NegBackward0>), tensor(-0.6524, device='cuda:0', grad_fn=<AddBackward0>)]\n",
      "0.24135101691867478\n",
      "tensor(-91.8164, device='cuda:0', grad_fn=<NegBackward0>) [tensor(-45.8123, device='cuda:0', grad_fn=<NegBackward0>), tensor(-45.3870, device='cuda:0', grad_fn=<NegBackward0>), tensor(-0.8537, device='cuda:0', grad_fn=<AddBackward0>)]\n",
      "0.25283098063498777\n",
      "tensor(-92.1526, device='cuda:0', grad_fn=<NegBackward0>) [tensor(-45.9655, device='cuda:0', grad_fn=<NegBackward0>), tensor(-45.5229, device='cuda:0', grad_fn=<NegBackward0>), tensor(-0.9428, device='cuda:0', grad_fn=<AddBackward0>)]\n",
      "0.26695569614807\n",
      "tensor(-92.0498, device='cuda:0', grad_fn=<NegBackward0>) [tensor(-45.9655, device='cuda:0', grad_fn=<NegBackward0>), tensor(-45.3511, device='cuda:0', grad_fn=<NegBackward0>), tensor(-1.0816, device='cuda:0', grad_fn=<AddBackward0>)]\n"
     ]
    },
    {
     "name": "stdout",
     "output_type": "stream",
     "text": [
      "0.2639039119902828\n",
      "tensor(-92.1123, device='cuda:0', grad_fn=<NegBackward0>) [tensor(-45.9384, device='cuda:0', grad_fn=<NegBackward0>), tensor(-45.4530, device='cuda:0', grad_fn=<NegBackward0>), tensor(-1.0562, device='cuda:0', grad_fn=<AddBackward0>)]\n",
      "0.240354438746916\n",
      "tensor(-92.0789, device='cuda:0', grad_fn=<NegBackward0>) [tensor(-45.9384, device='cuda:0', grad_fn=<NegBackward0>), tensor(-45.4864, device='cuda:0', grad_fn=<NegBackward0>), tensor(-0.9234, device='cuda:0', grad_fn=<AddBackward0>)]\n",
      "0.2572107993627681\n",
      "tensor(-91.7659, device='cuda:0', grad_fn=<NegBackward0>) [tensor(-45.7852, device='cuda:0', grad_fn=<NegBackward0>), tensor(-45.2780, device='cuda:0', grad_fn=<NegBackward0>), tensor(-1.0194, device='cuda:0', grad_fn=<AddBackward0>)]\n",
      "0.26427166854929923\n",
      "tensor(-91.7757, device='cuda:0', grad_fn=<NegBackward0>) [tensor(-45.7852, device='cuda:0', grad_fn=<NegBackward0>), tensor(-45.3005, device='cuda:0', grad_fn=<NegBackward0>), tensor(-0.9938, device='cuda:0', grad_fn=<AddBackward0>)]\n",
      "0.25053170010143333\n",
      "tensor(-92.1662, device='cuda:0', grad_fn=<NegBackward0>) [tensor(-45.9875, device='cuda:0', grad_fn=<NegBackward0>), tensor(-45.5397, device='cuda:0', grad_fn=<NegBackward0>), tensor(-0.8946, device='cuda:0', grad_fn=<AddBackward0>)]\n",
      "0.2672476056848139\n",
      "tensor(-92.0771, device='cuda:0', grad_fn=<NegBackward0>) [tensor(-45.9875, device='cuda:0', grad_fn=<NegBackward0>), tensor(-45.3494, device='cuda:0', grad_fn=<NegBackward0>), tensor(-1.0965, device='cuda:0', grad_fn=<AddBackward0>)]\n",
      "0.25186750059927043\n",
      "tensor(-92.0387, device='cuda:0', grad_fn=<NegBackward0>) [tensor(-45.9541, device='cuda:0', grad_fn=<NegBackward0>), tensor(-45.3959, device='cuda:0', grad_fn=<NegBackward0>), tensor(-0.9911, device='cuda:0', grad_fn=<AddBackward0>)]\n",
      "0.2425954661637805\n",
      "tensor(-92.1385, device='cuda:0', grad_fn=<NegBackward0>) [tensor(-45.9541, device='cuda:0', grad_fn=<NegBackward0>), tensor(-45.5502, device='cuda:0', grad_fn=<NegBackward0>), tensor(-0.8854, device='cuda:0', grad_fn=<AddBackward0>)]\n",
      "0.23101465665777543\n",
      "tensor(-91.8209, device='cuda:0', grad_fn=<NegBackward0>) [tensor(-45.8207, device='cuda:0', grad_fn=<NegBackward0>), tensor(-45.4010, device='cuda:0', grad_fn=<NegBackward0>), tensor(-0.8208, device='cuda:0', grad_fn=<AddBackward0>)]\n",
      "0.22355920066555124\n",
      "tensor(-91.7909, device='cuda:0', grad_fn=<NegBackward0>) [tensor(-45.8207, device='cuda:0', grad_fn=<NegBackward0>), tensor(-45.3830, device='cuda:0', grad_fn=<NegBackward0>), tensor(-0.7989, device='cuda:0', grad_fn=<AddBackward0>)]\n",
      "0.2799222075716375\n",
      "tensor(-91.9874, device='cuda:0', grad_fn=<NegBackward0>) [tensor(-45.9119, device='cuda:0', grad_fn=<NegBackward0>), tensor(-45.3028, device='cuda:0', grad_fn=<NegBackward0>), tensor(-1.1657, device='cuda:0', grad_fn=<AddBackward0>)]\n",
      "0.232957181733176\n",
      "tensor(-92.0126, device='cuda:0', grad_fn=<NegBackward0>) [tensor(-45.9119, device='cuda:0', grad_fn=<NegBackward0>), tensor(-45.4971, device='cuda:0', grad_fn=<NegBackward0>), tensor(-0.8287, device='cuda:0', grad_fn=<AddBackward0>)]\n",
      "0.24474193399045563\n",
      "tensor(-92.3108, device='cuda:0', grad_fn=<NegBackward0>) [tensor(-46.0532, device='cuda:0', grad_fn=<NegBackward0>), tensor(-45.5552, device='cuda:0', grad_fn=<NegBackward0>), tensor(-1.0187, device='cuda:0', grad_fn=<AddBackward0>)]\n",
      "0.26164449587687266\n",
      "tensor(-92.2199, device='cuda:0', grad_fn=<NegBackward0>) [tensor(-46.0532, device='cuda:0', grad_fn=<NegBackward0>), tensor(-45.4477, device='cuda:0', grad_fn=<NegBackward0>), tensor(-1.0524, device='cuda:0', grad_fn=<AddBackward0>)]\n",
      "0.2579421851717181\n",
      "tensor(-92.4259, device='cuda:0', grad_fn=<NegBackward0>) [tensor(-46.1334, device='cuda:0', grad_fn=<NegBackward0>), tensor(-45.6255, device='cuda:0', grad_fn=<NegBackward0>), tensor(-0.9483, device='cuda:0', grad_fn=<AddBackward0>)]\n",
      "0.25355236761627986\n",
      "tensor(-92.5528, device='cuda:0', grad_fn=<NegBackward0>) [tensor(-46.1334, device='cuda:0', grad_fn=<NegBackward0>), tensor(-45.7241, device='cuda:0', grad_fn=<NegBackward0>), tensor(-1.0044, device='cuda:0', grad_fn=<AddBackward0>)]\n",
      "0.244675593368981\n",
      "tensor(-92.5287, device='cuda:0', grad_fn=<NegBackward0>) [tensor(-46.1486, device='cuda:0', grad_fn=<NegBackward0>), tensor(-45.7595, device='cuda:0', grad_fn=<NegBackward0>), tensor(-0.8601, device='cuda:0', grad_fn=<AddBackward0>)]\n",
      "0.24611512287401055\n",
      "tensor(-92.5498, device='cuda:0', grad_fn=<NegBackward0>) [tensor(-46.1486, device='cuda:0', grad_fn=<NegBackward0>), tensor(-45.7351, device='cuda:0', grad_fn=<NegBackward0>), tensor(-0.9466, device='cuda:0', grad_fn=<AddBackward0>)]\n",
      "0.25461761145312223\n",
      "tensor(-92.3633, device='cuda:0', grad_fn=<NegBackward0>) [tensor(-46.1138, device='cuda:0', grad_fn=<NegBackward0>), tensor(-45.6160, device='cuda:0', grad_fn=<NegBackward0>), tensor(-0.8842, device='cuda:0', grad_fn=<AddBackward0>)]\n",
      "0.2475413653259223\n",
      "tensor(-92.5370, device='cuda:0', grad_fn=<NegBackward0>) [tensor(-46.1138, device='cuda:0', grad_fn=<NegBackward0>), tensor(-45.7250, device='cuda:0', grad_fn=<NegBackward0>), tensor(-1.0100, device='cuda:0', grad_fn=<AddBackward0>)]\n",
      "0.2606175201054813\n",
      "tensor(-92.2600, device='cuda:0', grad_fn=<NegBackward0>) [tensor(-46.0131, device='cuda:0', grad_fn=<NegBackward0>), tensor(-45.5701, device='cuda:0', grad_fn=<NegBackward0>), tensor(-0.9674, device='cuda:0', grad_fn=<AddBackward0>)]\n",
      "0.2566310673019815\n",
      "tensor(-92.1561, device='cuda:0', grad_fn=<NegBackward0>) [tensor(-46.0131, device='cuda:0', grad_fn=<NegBackward0>), tensor(-45.4720, device='cuda:0', grad_fn=<NegBackward0>), tensor(-0.9562, device='cuda:0', grad_fn=<AddBackward0>)]\n",
      "0.24217373490997204\n",
      "tensor(-92.7237, device='cuda:0', grad_fn=<NegBackward0>) [tensor(-46.2656, device='cuda:0', grad_fn=<NegBackward0>), tensor(-45.8267, device='cuda:0', grad_fn=<NegBackward0>), tensor(-0.8802, device='cuda:0', grad_fn=<AddBackward0>)]\n",
      "0.2879506782711277\n",
      "tensor(-92.7507, device='cuda:0', grad_fn=<NegBackward0>) [tensor(-46.2656, device='cuda:0', grad_fn=<NegBackward0>), tensor(-45.7009, device='cuda:0', grad_fn=<NegBackward0>), tensor(-1.1906, device='cuda:0', grad_fn=<AddBackward0>)]\n",
      "0.2688297500265662\n",
      "tensor(-92.4943, device='cuda:0', grad_fn=<NegBackward0>) [tensor(-46.2362, device='cuda:0', grad_fn=<NegBackward0>), tensor(-45.5067, device='cuda:0', grad_fn=<NegBackward0>), tensor(-1.1199, device='cuda:0', grad_fn=<AddBackward0>)]\n",
      "0.2503060655305163\n",
      "tensor(-92.7230, device='cuda:0', grad_fn=<NegBackward0>) [tensor(-46.2362, device='cuda:0', grad_fn=<NegBackward0>), tensor(-45.8220, device='cuda:0', grad_fn=<NegBackward0>), tensor(-0.9441, device='cuda:0', grad_fn=<AddBackward0>)]\n",
      "0.2552706877842517\n",
      "tensor(-92.7259, device='cuda:0', grad_fn=<NegBackward0>) [tensor(-46.2919, device='cuda:0', grad_fn=<NegBackward0>), tensor(-45.7263, device='cuda:0', grad_fn=<NegBackward0>), tensor(-1.0294, device='cuda:0', grad_fn=<AddBackward0>)]\n",
      "0.249391439558193\n",
      "tensor(-92.7989, device='cuda:0', grad_fn=<NegBackward0>) [tensor(-46.2919, device='cuda:0', grad_fn=<NegBackward0>), tensor(-45.8568, device='cuda:0', grad_fn=<NegBackward0>), tensor(-0.9158, device='cuda:0', grad_fn=<AddBackward0>)]\n",
      "0.25126424041312356\n",
      "tensor(-92.7342, device='cuda:0', grad_fn=<NegBackward0>) [tensor(-46.2948, device='cuda:0', grad_fn=<NegBackward0>), tensor(-45.7213, device='cuda:0', grad_fn=<NegBackward0>), tensor(-1.0506, device='cuda:0', grad_fn=<AddBackward0>)]\n",
      "0.26583077132553823\n",
      "tensor(-92.8687, device='cuda:0', grad_fn=<NegBackward0>) [tensor(-46.2948, device='cuda:0', grad_fn=<NegBackward0>), tensor(-45.7763, device='cuda:0', grad_fn=<NegBackward0>), tensor(-1.2202, device='cuda:0', grad_fn=<AddBackward0>)]\n",
      "0.2616726139621039\n",
      "tensor(-92.5406, device='cuda:0', grad_fn=<NegBackward0>) [tensor(-46.1853, device='cuda:0', grad_fn=<NegBackward0>), tensor(-45.6109, device='cuda:0', grad_fn=<NegBackward0>), tensor(-1.1052, device='cuda:0', grad_fn=<AddBackward0>)]\n",
      "0.2224747744559295\n",
      "tensor(-92.6339, device='cuda:0', grad_fn=<NegBackward0>) [tensor(-46.1853, device='cuda:0', grad_fn=<NegBackward0>), tensor(-45.8815, device='cuda:0', grad_fn=<NegBackward0>), tensor(-0.7631, device='cuda:0', grad_fn=<AddBackward0>)]\n",
      "0.28242585212996946\n",
      "tensor(-92.4533, device='cuda:0', grad_fn=<NegBackward0>) [tensor(-46.1326, device='cuda:0', grad_fn=<NegBackward0>), tensor(-45.5550, device='cuda:0', grad_fn=<NegBackward0>), tensor(-1.1505, device='cuda:0', grad_fn=<AddBackward0>)]\n"
     ]
    },
    {
     "name": "stdout",
     "output_type": "stream",
     "text": [
      "0.25570622329345877\n",
      "tensor(-92.4477, device='cuda:0', grad_fn=<NegBackward0>) [tensor(-46.1326, device='cuda:0', grad_fn=<NegBackward0>), tensor(-45.6443, device='cuda:0', grad_fn=<NegBackward0>), tensor(-0.9558, device='cuda:0', grad_fn=<AddBackward0>)]\n",
      "0.16658565054791816\n",
      "tensor(-92.3967, device='cuda:0', grad_fn=<NegBackward0>) [tensor(-46.1695, device='cuda:0', grad_fn=<NegBackward0>), tensor(-45.8774, device='cuda:0', grad_fn=<NegBackward0>), tensor(-0.4188, device='cuda:0', grad_fn=<AddBackward0>)]\n",
      "0.28491239786523703\n",
      "tensor(-92.4802, device='cuda:0', grad_fn=<NegBackward0>) [tensor(-46.1695, device='cuda:0', grad_fn=<NegBackward0>), tensor(-45.5464, device='cuda:0', grad_fn=<NegBackward0>), tensor(-1.1476, device='cuda:0', grad_fn=<AddBackward0>)]\n",
      "0.24516432123470738\n",
      "tensor(-92.7595, device='cuda:0', grad_fn=<NegBackward0>) [tensor(-46.3097, device='cuda:0', grad_fn=<NegBackward0>), tensor(-45.7918, device='cuda:0', grad_fn=<NegBackward0>), tensor(-0.9310, device='cuda:0', grad_fn=<AddBackward0>)]\n",
      "0.2580446175617818\n",
      "tensor(-92.7863, device='cuda:0', grad_fn=<NegBackward0>) [tensor(-46.3097, device='cuda:0', grad_fn=<NegBackward0>), tensor(-45.7939, device='cuda:0', grad_fn=<NegBackward0>), tensor(-0.9794, device='cuda:0', grad_fn=<AddBackward0>)]\n",
      "0.24218157726731718\n",
      "tensor(-92.8840, device='cuda:0', grad_fn=<NegBackward0>) [tensor(-46.3989, device='cuda:0', grad_fn=<NegBackward0>), tensor(-45.8670, device='cuda:0', grad_fn=<NegBackward0>), tensor(-0.8552, device='cuda:0', grad_fn=<AddBackward0>)]\n",
      "0.25328884542796987\n",
      "tensor(-92.9914, device='cuda:0', grad_fn=<NegBackward0>) [tensor(-46.3989, device='cuda:0', grad_fn=<NegBackward0>), tensor(-45.9243, device='cuda:0', grad_fn=<NegBackward0>), tensor(-0.9505, device='cuda:0', grad_fn=<AddBackward0>)]\n",
      "0.24936277490314324\n",
      "tensor(-92.9469, device='cuda:0', grad_fn=<NegBackward0>) [tensor(-46.3879, device='cuda:0', grad_fn=<NegBackward0>), tensor(-45.8893, device='cuda:0', grad_fn=<NegBackward0>), tensor(-0.9537, device='cuda:0', grad_fn=<AddBackward0>)]\n",
      "0.2532011605243445\n",
      "tensor(-92.9496, device='cuda:0', grad_fn=<NegBackward0>) [tensor(-46.3879, device='cuda:0', grad_fn=<NegBackward0>), tensor(-45.8458, device='cuda:0', grad_fn=<NegBackward0>), tensor(-1.0461, device='cuda:0', grad_fn=<AddBackward0>)]\n",
      "0.26514842082458184\n",
      "tensor(-92.8308, device='cuda:0', grad_fn=<NegBackward0>) [tensor(-46.3515, device='cuda:0', grad_fn=<NegBackward0>), tensor(-45.7527, device='cuda:0', grad_fn=<NegBackward0>), tensor(-1.0678, device='cuda:0', grad_fn=<AddBackward0>)]\n",
      "0.2738728209747579\n",
      "tensor(-92.8614, device='cuda:0', grad_fn=<NegBackward0>) [tensor(-46.3515, device='cuda:0', grad_fn=<NegBackward0>), tensor(-45.7815, device='cuda:0', grad_fn=<NegBackward0>), tensor(-1.0716, device='cuda:0', grad_fn=<AddBackward0>)]\n",
      "0.24338703890962188\n",
      "tensor(-92.7466, device='cuda:0', grad_fn=<NegBackward0>) [tensor(-46.3186, device='cuda:0', grad_fn=<NegBackward0>), tensor(-45.7960, device='cuda:0', grad_fn=<NegBackward0>), tensor(-0.8814, device='cuda:0', grad_fn=<AddBackward0>)]\n",
      "0.24883483936864856\n",
      "tensor(-92.7999, device='cuda:0', grad_fn=<NegBackward0>) [tensor(-46.3186, device='cuda:0', grad_fn=<NegBackward0>), tensor(-45.8196, device='cuda:0', grad_fn=<NegBackward0>), tensor(-0.9380, device='cuda:0', grad_fn=<AddBackward0>)]\n",
      "0.2598217974388722\n",
      "tensor(-92.7014, device='cuda:0', grad_fn=<NegBackward0>) [tensor(-46.2349, device='cuda:0', grad_fn=<NegBackward0>), tensor(-45.7058, device='cuda:0', grad_fn=<NegBackward0>), tensor(-1.1396, device='cuda:0', grad_fn=<AddBackward0>)]\n",
      "0.2671528047491727\n",
      "tensor(-92.6002, device='cuda:0', grad_fn=<NegBackward0>) [tensor(-46.2349, device='cuda:0', grad_fn=<NegBackward0>), tensor(-45.6638, device='cuda:0', grad_fn=<NegBackward0>), tensor(-1.0166, device='cuda:0', grad_fn=<AddBackward0>)]\n",
      "0.2540366871795953\n",
      "tensor(-92.5818, device='cuda:0', grad_fn=<NegBackward0>) [tensor(-46.2339, device='cuda:0', grad_fn=<NegBackward0>), tensor(-45.7035, device='cuda:0', grad_fn=<NegBackward0>), tensor(-0.9048, device='cuda:0', grad_fn=<AddBackward0>)]\n",
      "0.24251043308677922\n",
      "tensor(-92.6776, device='cuda:0', grad_fn=<NegBackward0>) [tensor(-46.2339, device='cuda:0', grad_fn=<NegBackward0>), tensor(-45.7843, device='cuda:0', grad_fn=<NegBackward0>), tensor(-0.9335, device='cuda:0', grad_fn=<AddBackward0>)]\n",
      "0.24881629141433584\n",
      "tensor(-92.5023, device='cuda:0', grad_fn=<NegBackward0>) [tensor(-46.1780, device='cuda:0', grad_fn=<NegBackward0>), tensor(-45.6818, device='cuda:0', grad_fn=<NegBackward0>), tensor(-0.9011, device='cuda:0', grad_fn=<AddBackward0>)]\n",
      "0.24954478941738487\n",
      "tensor(-92.4965, device='cuda:0', grad_fn=<NegBackward0>) [tensor(-46.1780, device='cuda:0', grad_fn=<NegBackward0>), tensor(-45.6908, device='cuda:0', grad_fn=<NegBackward0>), tensor(-0.8731, device='cuda:0', grad_fn=<AddBackward0>)]\n",
      "0.2535313191143486\n",
      "tensor(-92.7069, device='cuda:0', grad_fn=<NegBackward0>) [tensor(-46.2749, device='cuda:0', grad_fn=<NegBackward0>), tensor(-45.7305, device='cuda:0', grad_fn=<NegBackward0>), tensor(-1.0166, device='cuda:0', grad_fn=<AddBackward0>)]\n",
      "0.2559324774524926\n",
      "tensor(-92.7279, device='cuda:0', grad_fn=<NegBackward0>) [tensor(-46.2749, device='cuda:0', grad_fn=<NegBackward0>), tensor(-45.7617, device='cuda:0', grad_fn=<NegBackward0>), tensor(-0.9962, device='cuda:0', grad_fn=<AddBackward0>)]\n",
      "0.2696098970901161\n",
      "tensor(-92.5547, device='cuda:0', grad_fn=<NegBackward0>) [tensor(-46.2039, device='cuda:0', grad_fn=<NegBackward0>), tensor(-45.6302, device='cuda:0', grad_fn=<NegBackward0>), tensor(-1.0557, device='cuda:0', grad_fn=<AddBackward0>)]\n",
      "0.2545251032143581\n",
      "tensor(-92.6457, device='cuda:0', grad_fn=<NegBackward0>) [tensor(-46.2039, device='cuda:0', grad_fn=<NegBackward0>), tensor(-45.7545, device='cuda:0', grad_fn=<NegBackward0>), tensor(-0.9884, device='cuda:0', grad_fn=<AddBackward0>)]\n",
      "0.247252537115722\n",
      "tensor(-92.9963, device='cuda:0', grad_fn=<NegBackward0>) [tensor(-46.4258, device='cuda:0', grad_fn=<NegBackward0>), tensor(-45.9018, device='cuda:0', grad_fn=<NegBackward0>), tensor(-0.9518, device='cuda:0', grad_fn=<AddBackward0>)]\n",
      "0.24625864775289222\n",
      "tensor(-92.9804, device='cuda:0', grad_fn=<NegBackward0>) [tensor(-46.4258, device='cuda:0', grad_fn=<NegBackward0>), tensor(-45.9120, device='cuda:0', grad_fn=<NegBackward0>), tensor(-0.9014, device='cuda:0', grad_fn=<AddBackward0>)]\n",
      "0.23866027624880976\n",
      "tensor(-92.8468, device='cuda:0', grad_fn=<NegBackward0>) [tensor(-46.3488, device='cuda:0', grad_fn=<NegBackward0>), tensor(-45.8855, device='cuda:0', grad_fn=<NegBackward0>), tensor(-0.8451, device='cuda:0', grad_fn=<AddBackward0>)]\n",
      "0.2185434432179941\n",
      "tensor(-92.8401, device='cuda:0', grad_fn=<NegBackward0>) [tensor(-46.3488, device='cuda:0', grad_fn=<NegBackward0>), tensor(-45.9380, device='cuda:0', grad_fn=<NegBackward0>), tensor(-0.7390, device='cuda:0', grad_fn=<AddBackward0>)]\n",
      "0.23886422115838785\n",
      "tensor(-92.9690, device='cuda:0', grad_fn=<NegBackward0>) [tensor(-46.3494, device='cuda:0', grad_fn=<NegBackward0>), tensor(-46.0007, device='cuda:0', grad_fn=<NegBackward0>), tensor(-0.8570, device='cuda:0', grad_fn=<AddBackward0>)]\n",
      "0.23729249977674918\n",
      "tensor(-92.8628, device='cuda:0', grad_fn=<NegBackward0>) [tensor(-46.3494, device='cuda:0', grad_fn=<NegBackward0>), tensor(-45.9170, device='cuda:0', grad_fn=<NegBackward0>), tensor(-0.8156, device='cuda:0', grad_fn=<AddBackward0>)]\n",
      "0.22946008186132535\n",
      "tensor(-92.9866, device='cuda:0', grad_fn=<NegBackward0>) [tensor(-46.4257, device='cuda:0', grad_fn=<NegBackward0>), tensor(-46.0176, device='cuda:0', grad_fn=<NegBackward0>), tensor(-0.7216, device='cuda:0', grad_fn=<AddBackward0>)]\n",
      "0.25679024471427836\n",
      "tensor(-93.0497, device='cuda:0', grad_fn=<NegBackward0>) [tensor(-46.4257, device='cuda:0', grad_fn=<NegBackward0>), tensor(-45.9482, device='cuda:0', grad_fn=<NegBackward0>), tensor(-0.9657, device='cuda:0', grad_fn=<AddBackward0>)]\n",
      "0.2565157077001658\n",
      "tensor(-93.0238, device='cuda:0', grad_fn=<NegBackward0>) [tensor(-46.4212, device='cuda:0', grad_fn=<NegBackward0>), tensor(-45.9048, device='cuda:0', grad_fn=<NegBackward0>), tensor(-1.0093, device='cuda:0', grad_fn=<AddBackward0>)]\n",
      "0.23176324562199624\n",
      "tensor(-93.0001, device='cuda:0', grad_fn=<NegBackward0>) [tensor(-46.4212, device='cuda:0', grad_fn=<NegBackward0>), tensor(-46.0245, device='cuda:0', grad_fn=<NegBackward0>), tensor(-0.7408, device='cuda:0', grad_fn=<AddBackward0>)]\n"
     ]
    },
    {
     "name": "stdout",
     "output_type": "stream",
     "text": [
      "0.2566154031251519\n",
      "tensor(-93.3397, device='cuda:0', grad_fn=<NegBackward0>) [tensor(-46.5376, device='cuda:0', grad_fn=<NegBackward0>), tensor(-46.1207, device='cuda:0', grad_fn=<NegBackward0>), tensor(-0.9766, device='cuda:0', grad_fn=<AddBackward0>)]\n",
      "0.2349074833226609\n",
      "tensor(-93.2815, device='cuda:0', grad_fn=<NegBackward0>) [tensor(-46.5376, device='cuda:0', grad_fn=<NegBackward0>), tensor(-46.1631, device='cuda:0', grad_fn=<NegBackward0>), tensor(-0.7875, device='cuda:0', grad_fn=<AddBackward0>)]\n",
      "0.22637268386789064\n",
      "tensor(-93.0796, device='cuda:0', grad_fn=<NegBackward0>) [tensor(-46.4541, device='cuda:0', grad_fn=<NegBackward0>), tensor(-46.0338, device='cuda:0', grad_fn=<NegBackward0>), tensor(-0.8071, device='cuda:0', grad_fn=<AddBackward0>)]\n",
      "0.24290987907512343\n",
      "tensor(-92.9599, device='cuda:0', grad_fn=<NegBackward0>) [tensor(-46.4541, device='cuda:0', grad_fn=<NegBackward0>), tensor(-45.9179, device='cuda:0', grad_fn=<NegBackward0>), tensor(-0.8001, device='cuda:0', grad_fn=<AddBackward0>)]\n",
      "0.2595387810631077\n",
      "tensor(-93.3751, device='cuda:0', grad_fn=<NegBackward0>) [tensor(-46.6170, device='cuda:0', grad_fn=<NegBackward0>), tensor(-46.0826, device='cuda:0', grad_fn=<NegBackward0>), tensor(-0.9651, device='cuda:0', grad_fn=<AddBackward0>)]\n",
      "0.2573289132114558\n",
      "tensor(-93.4303, device='cuda:0', grad_fn=<NegBackward0>) [tensor(-46.6170, device='cuda:0', grad_fn=<NegBackward0>), tensor(-46.1431, device='cuda:0', grad_fn=<NegBackward0>), tensor(-0.9548, device='cuda:0', grad_fn=<AddBackward0>)]\n",
      "0.21166641872440797\n",
      "tensor(-92.9962, device='cuda:0', grad_fn=<NegBackward0>) [tensor(-46.4923, device='cuda:0', grad_fn=<NegBackward0>), tensor(-46.0212, device='cuda:0', grad_fn=<NegBackward0>), tensor(-0.6205, device='cuda:0', grad_fn=<AddBackward0>)]\n",
      "0.24725543001397926\n",
      "tensor(-93.1205, device='cuda:0', grad_fn=<NegBackward0>) [tensor(-46.4923, device='cuda:0', grad_fn=<NegBackward0>), tensor(-45.9780, device='cuda:0', grad_fn=<NegBackward0>), tensor(-0.9158, device='cuda:0', grad_fn=<AddBackward0>)]\n",
      "0.2592687638693789\n",
      "tensor(-93.3258, device='cuda:0', grad_fn=<NegBackward0>) [tensor(-46.5951, device='cuda:0', grad_fn=<NegBackward0>), tensor(-46.0190, device='cuda:0', grad_fn=<NegBackward0>), tensor(-1.0374, device='cuda:0', grad_fn=<AddBackward0>)]\n",
      "0.2460234269335837\n",
      "tensor(-93.3445, device='cuda:0', grad_fn=<NegBackward0>) [tensor(-46.5951, device='cuda:0', grad_fn=<NegBackward0>), tensor(-46.1003, device='cuda:0', grad_fn=<NegBackward0>), tensor(-0.9138, device='cuda:0', grad_fn=<AddBackward0>)]\n",
      "0.2743659328415053\n",
      "tensor(-93.2989, device='cuda:0', grad_fn=<NegBackward0>) [tensor(-46.5662, device='cuda:0', grad_fn=<NegBackward0>), tensor(-46.0226, device='cuda:0', grad_fn=<NegBackward0>), tensor(-1.0343, device='cuda:0', grad_fn=<AddBackward0>)]\n",
      "0.24902340078770135\n",
      "tensor(-93.3451, device='cuda:0', grad_fn=<NegBackward0>) [tensor(-46.5662, device='cuda:0', grad_fn=<NegBackward0>), tensor(-46.1568, device='cuda:0', grad_fn=<NegBackward0>), tensor(-0.8628, device='cuda:0', grad_fn=<AddBackward0>)]\n",
      "0.2607676216407603\n",
      "tensor(-93.4015, device='cuda:0', grad_fn=<NegBackward0>) [tensor(-46.6472, device='cuda:0', grad_fn=<NegBackward0>), tensor(-46.0507, device='cuda:0', grad_fn=<NegBackward0>), tensor(-1.0210, device='cuda:0', grad_fn=<AddBackward0>)]\n",
      "0.22955781181006835\n",
      "tensor(-93.4475, device='cuda:0', grad_fn=<NegBackward0>) [tensor(-46.6472, device='cuda:0', grad_fn=<NegBackward0>), tensor(-46.2669, device='cuda:0', grad_fn=<NegBackward0>), tensor(-0.7047, device='cuda:0', grad_fn=<AddBackward0>)]\n",
      "0.2548471790342026\n",
      "tensor(-93.5944, device='cuda:0', grad_fn=<NegBackward0>) [tensor(-46.7216, device='cuda:0', grad_fn=<NegBackward0>), tensor(-46.1565, device='cuda:0', grad_fn=<NegBackward0>), tensor(-1.0468, device='cuda:0', grad_fn=<AddBackward0>)]\n",
      "0.23825366679109516\n",
      "tensor(-93.6167, device='cuda:0', grad_fn=<NegBackward0>) [tensor(-46.7216, device='cuda:0', grad_fn=<NegBackward0>), tensor(-46.2943, device='cuda:0', grad_fn=<NegBackward0>), tensor(-0.8235, device='cuda:0', grad_fn=<AddBackward0>)]\n",
      "0.23975399532540767\n",
      "tensor(-93.4171, device='cuda:0', grad_fn=<NegBackward0>) [tensor(-46.6057, device='cuda:0', grad_fn=<NegBackward0>), tensor(-46.2072, device='cuda:0', grad_fn=<NegBackward0>), tensor(-0.8299, device='cuda:0', grad_fn=<AddBackward0>)]\n",
      "0.22787917105119163\n",
      "tensor(-93.3320, device='cuda:0', grad_fn=<NegBackward0>) [tensor(-46.6057, device='cuda:0', grad_fn=<NegBackward0>), tensor(-46.1898, device='cuda:0', grad_fn=<NegBackward0>), tensor(-0.7101, device='cuda:0', grad_fn=<AddBackward0>)]\n",
      "0.23390410171102088\n",
      "tensor(-93.3591, device='cuda:0', grad_fn=<NegBackward0>) [tensor(-46.6049, device='cuda:0', grad_fn=<NegBackward0>), tensor(-46.1980, device='cuda:0', grad_fn=<NegBackward0>), tensor(-0.7441, device='cuda:0', grad_fn=<AddBackward0>)]\n",
      "0.26157494654445707\n",
      "tensor(-93.3649, device='cuda:0', grad_fn=<NegBackward0>) [tensor(-46.6049, device='cuda:0', grad_fn=<NegBackward0>), tensor(-46.0553, device='cuda:0', grad_fn=<NegBackward0>), tensor(-1.0233, device='cuda:0', grad_fn=<AddBackward0>)]\n",
      "0.2487703387767551\n",
      "tensor(-93.7200, device='cuda:0', grad_fn=<NegBackward0>) [tensor(-46.7873, device='cuda:0', grad_fn=<NegBackward0>), tensor(-46.2811, device='cuda:0', grad_fn=<NegBackward0>), tensor(-0.9186, device='cuda:0', grad_fn=<AddBackward0>)]\n",
      "0.23453939268877877\n",
      "tensor(-93.7272, device='cuda:0', grad_fn=<NegBackward0>) [tensor(-46.7873, device='cuda:0', grad_fn=<NegBackward0>), tensor(-46.3567, device='cuda:0', grad_fn=<NegBackward0>), tensor(-0.7917, device='cuda:0', grad_fn=<AddBackward0>)]\n",
      "0.2606114210287414\n",
      "tensor(-92.9899, device='cuda:0', grad_fn=<NegBackward0>) [tensor(-46.4357, device='cuda:0', grad_fn=<NegBackward0>), tensor(-45.8552, device='cuda:0', grad_fn=<NegBackward0>), tensor(-1.0116, device='cuda:0', grad_fn=<AddBackward0>)]\n",
      "0.2564776838440896\n",
      "tensor(-93.0643, device='cuda:0', grad_fn=<NegBackward0>) [tensor(-46.4357, device='cuda:0', grad_fn=<NegBackward0>), tensor(-45.9412, device='cuda:0', grad_fn=<NegBackward0>), tensor(-0.9886, device='cuda:0', grad_fn=<AddBackward0>)]\n",
      "0.2577868443875918\n",
      "tensor(-93.5186, device='cuda:0', grad_fn=<NegBackward0>) [tensor(-46.6692, device='cuda:0', grad_fn=<NegBackward0>), tensor(-46.1969, device='cuda:0', grad_fn=<NegBackward0>), tensor(-0.9203, device='cuda:0', grad_fn=<AddBackward0>)]\n",
      "0.2403291455899708\n",
      "tensor(-93.4754, device='cuda:0', grad_fn=<NegBackward0>) [tensor(-46.6692, device='cuda:0', grad_fn=<NegBackward0>), tensor(-46.1490, device='cuda:0', grad_fn=<NegBackward0>), tensor(-0.9294, device='cuda:0', grad_fn=<AddBackward0>)]\n",
      "0.24141259989604436\n",
      "tensor(-93.3412, device='cuda:0', grad_fn=<NegBackward0>) [tensor(-46.6018, device='cuda:0', grad_fn=<NegBackward0>), tensor(-46.1221, device='cuda:0', grad_fn=<NegBackward0>), tensor(-0.8538, device='cuda:0', grad_fn=<AddBackward0>)]\n",
      "0.20814429247521118\n",
      "tensor(-93.3466, device='cuda:0', grad_fn=<NegBackward0>) [tensor(-46.6018, device='cuda:0', grad_fn=<NegBackward0>), tensor(-46.2152, device='cuda:0', grad_fn=<NegBackward0>), tensor(-0.6982, device='cuda:0', grad_fn=<AddBackward0>)]\n",
      "0.23174274733282002\n",
      "tensor(-93.0067, device='cuda:0', grad_fn=<NegBackward0>) [tensor(-46.4274, device='cuda:0', grad_fn=<NegBackward0>), tensor(-45.9895, device='cuda:0', grad_fn=<NegBackward0>), tensor(-0.8035, device='cuda:0', grad_fn=<AddBackward0>)]\n",
      "0.2697660889469385\n",
      "tensor(-92.9148, device='cuda:0', grad_fn=<NegBackward0>) [tensor(-46.4274, device='cuda:0', grad_fn=<NegBackward0>), tensor(-45.7261, device='cuda:0', grad_fn=<NegBackward0>), tensor(-1.1411, device='cuda:0', grad_fn=<AddBackward0>)]\n",
      "0.2534253322831943\n",
      "tensor(-93.4833, device='cuda:0', grad_fn=<NegBackward0>) [tensor(-46.6602, device='cuda:0', grad_fn=<NegBackward0>), tensor(-46.1574, device='cuda:0', grad_fn=<NegBackward0>), tensor(-0.9458, device='cuda:0', grad_fn=<AddBackward0>)]\n",
      "0.22434883085706595\n",
      "tensor(-93.4831, device='cuda:0', grad_fn=<NegBackward0>) [tensor(-46.6602, device='cuda:0', grad_fn=<NegBackward0>), tensor(-46.2503, device='cuda:0', grad_fn=<NegBackward0>), tensor(-0.7729, device='cuda:0', grad_fn=<AddBackward0>)]\n",
      "0.2646839314536195\n",
      "tensor(-93.3265, device='cuda:0', grad_fn=<NegBackward0>) [tensor(-46.5260, device='cuda:0', grad_fn=<NegBackward0>), tensor(-46.0666, device='cuda:0', grad_fn=<NegBackward0>), tensor(-1.0833, device='cuda:0', grad_fn=<AddBackward0>)]\n"
     ]
    },
    {
     "name": "stdout",
     "output_type": "stream",
     "text": [
      "0.28037564571384416\n",
      "tensor(-93.3911, device='cuda:0', grad_fn=<NegBackward0>) [tensor(-46.5260, device='cuda:0', grad_fn=<NegBackward0>), tensor(-46.0942, device='cuda:0', grad_fn=<NegBackward0>), tensor(-1.1620, device='cuda:0', grad_fn=<AddBackward0>)]\n",
      "0.2521819201122589\n",
      "tensor(-93.7148, device='cuda:0', grad_fn=<NegBackward0>) [tensor(-46.7522, device='cuda:0', grad_fn=<NegBackward0>), tensor(-46.3352, device='cuda:0', grad_fn=<NegBackward0>), tensor(-0.8727, device='cuda:0', grad_fn=<AddBackward0>)]\n",
      "0.23423295248670745\n",
      "tensor(-93.6297, device='cuda:0', grad_fn=<NegBackward0>) [tensor(-46.7522, device='cuda:0', grad_fn=<NegBackward0>), tensor(-46.2713, device='cuda:0', grad_fn=<NegBackward0>), tensor(-0.8333, device='cuda:0', grad_fn=<AddBackward0>)]\n",
      "0.23686299003117184\n",
      "tensor(-93.1278, device='cuda:0', grad_fn=<NegBackward0>) [tensor(-46.4795, device='cuda:0', grad_fn=<NegBackward0>), tensor(-46.0806, device='cuda:0', grad_fn=<NegBackward0>), tensor(-0.7641, device='cuda:0', grad_fn=<AddBackward0>)]\n",
      "0.2799282567068103\n",
      "tensor(-93.1403, device='cuda:0', grad_fn=<NegBackward0>) [tensor(-46.4795, device='cuda:0', grad_fn=<NegBackward0>), tensor(-45.9074, device='cuda:0', grad_fn=<NegBackward0>), tensor(-1.1240, device='cuda:0', grad_fn=<AddBackward0>)]\n",
      "0.24299286498980036\n",
      "tensor(-93.7149, device='cuda:0', grad_fn=<NegBackward0>) [tensor(-46.7514, device='cuda:0', grad_fn=<NegBackward0>), tensor(-46.3300, device='cuda:0', grad_fn=<NegBackward0>), tensor(-0.8842, device='cuda:0', grad_fn=<AddBackward0>)]\n",
      "0.24367783207872185\n",
      "tensor(-93.6571, device='cuda:0', grad_fn=<NegBackward0>) [tensor(-46.7514, device='cuda:0', grad_fn=<NegBackward0>), tensor(-46.3130, device='cuda:0', grad_fn=<NegBackward0>), tensor(-0.8088, device='cuda:0', grad_fn=<AddBackward0>)]\n",
      "0.2754571244724897\n",
      "tensor(-93.0375, device='cuda:0', grad_fn=<NegBackward0>) [tensor(-46.4228, device='cuda:0', grad_fn=<NegBackward0>), tensor(-45.8957, device='cuda:0', grad_fn=<NegBackward0>), tensor(-1.0524, device='cuda:0', grad_fn=<AddBackward0>)]\n",
      "0.26051973228363456\n",
      "tensor(-92.9361, device='cuda:0', grad_fn=<NegBackward0>) [tensor(-46.4228, device='cuda:0', grad_fn=<NegBackward0>), tensor(-45.8587, device='cuda:0', grad_fn=<NegBackward0>), tensor(-0.9244, device='cuda:0', grad_fn=<AddBackward0>)]\n",
      "0.27169029586266225\n",
      "tensor(-93.6262, device='cuda:0', grad_fn=<NegBackward0>) [tensor(-46.6714, device='cuda:0', grad_fn=<NegBackward0>), tensor(-46.2405, device='cuda:0', grad_fn=<NegBackward0>), tensor(-1.0427, device='cuda:0', grad_fn=<AddBackward0>)]\n",
      "0.27325380092289014\n",
      "tensor(-93.4777, device='cuda:0', grad_fn=<NegBackward0>) [tensor(-46.6714, device='cuda:0', grad_fn=<NegBackward0>), tensor(-46.0966, device='cuda:0', grad_fn=<NegBackward0>), tensor(-1.0334, device='cuda:0', grad_fn=<AddBackward0>)]\n",
      "0.2415405623885311\n",
      "tensor(-93.8380, device='cuda:0', grad_fn=<NegBackward0>) [tensor(-46.8537, device='cuda:0', grad_fn=<NegBackward0>), tensor(-46.3335, device='cuda:0', grad_fn=<NegBackward0>), tensor(-0.9170, device='cuda:0', grad_fn=<AddBackward0>)]\n",
      "0.2676155816935129\n",
      "tensor(-93.8275, device='cuda:0', grad_fn=<NegBackward0>) [tensor(-46.8537, device='cuda:0', grad_fn=<NegBackward0>), tensor(-46.2520, device='cuda:0', grad_fn=<NegBackward0>), tensor(-1.0581, device='cuda:0', grad_fn=<AddBackward0>)]\n",
      "0.257967424548248\n",
      "tensor(-93.9489, device='cuda:0', grad_fn=<NegBackward0>) [tensor(-46.8520, device='cuda:0', grad_fn=<NegBackward0>), tensor(-46.4139, device='cuda:0', grad_fn=<NegBackward0>), tensor(-0.9797, device='cuda:0', grad_fn=<AddBackward0>)]\n",
      "0.25670224959909\n",
      "tensor(-93.8419, device='cuda:0', grad_fn=<NegBackward0>) [tensor(-46.8520, device='cuda:0', grad_fn=<NegBackward0>), tensor(-46.3167, device='cuda:0', grad_fn=<NegBackward0>), tensor(-0.9605, device='cuda:0', grad_fn=<AddBackward0>)]\n",
      "0.2550022522274508\n",
      "tensor(-93.8506, device='cuda:0', grad_fn=<NegBackward0>) [tensor(-46.8569, device='cuda:0', grad_fn=<NegBackward0>), tensor(-46.3163, device='cuda:0', grad_fn=<NegBackward0>), tensor(-0.9689, device='cuda:0', grad_fn=<AddBackward0>)]\n",
      "0.25548824532315195\n",
      "tensor(-93.8753, device='cuda:0', grad_fn=<NegBackward0>) [tensor(-46.8569, device='cuda:0', grad_fn=<NegBackward0>), tensor(-46.3719, device='cuda:0', grad_fn=<NegBackward0>), tensor(-0.9090, device='cuda:0', grad_fn=<AddBackward0>)]\n",
      "0.24621464797212186\n",
      "tensor(-93.6856, device='cuda:0', grad_fn=<NegBackward0>) [tensor(-46.7727, device='cuda:0', grad_fn=<NegBackward0>), tensor(-46.3181, device='cuda:0', grad_fn=<NegBackward0>), tensor(-0.8126, device='cuda:0', grad_fn=<AddBackward0>)]\n",
      "0.2610126870156679\n",
      "tensor(-93.7549, device='cuda:0', grad_fn=<NegBackward0>) [tensor(-46.7727, device='cuda:0', grad_fn=<NegBackward0>), tensor(-46.2901, device='cuda:0', grad_fn=<NegBackward0>), tensor(-0.9981, device='cuda:0', grad_fn=<AddBackward0>)]\n",
      "0.21367690988514385\n",
      "tensor(-93.6440, device='cuda:0', grad_fn=<NegBackward0>) [tensor(-46.7512, device='cuda:0', grad_fn=<NegBackward0>), tensor(-46.3933, device='cuda:0', grad_fn=<NegBackward0>), tensor(-0.6480, device='cuda:0', grad_fn=<AddBackward0>)]\n",
      "0.26146643525257035\n",
      "tensor(-93.7365, device='cuda:0', grad_fn=<NegBackward0>) [tensor(-46.7512, device='cuda:0', grad_fn=<NegBackward0>), tensor(-46.3222, device='cuda:0', grad_fn=<NegBackward0>), tensor(-0.9409, device='cuda:0', grad_fn=<AddBackward0>)]\n",
      "0.2598422265881187\n",
      "tensor(-93.9176, device='cuda:0', grad_fn=<NegBackward0>) [tensor(-46.9403, device='cuda:0', grad_fn=<NegBackward0>), tensor(-46.2642, device='cuda:0', grad_fn=<NegBackward0>), tensor(-1.0402, device='cuda:0', grad_fn=<AddBackward0>)]\n",
      "0.25945215144451694\n",
      "tensor(-94.0250, device='cuda:0', grad_fn=<NegBackward0>) [tensor(-46.9403, device='cuda:0', grad_fn=<NegBackward0>), tensor(-46.4185, device='cuda:0', grad_fn=<NegBackward0>), tensor(-0.9469, device='cuda:0', grad_fn=<AddBackward0>)]\n",
      "0.2563341376027849\n",
      "tensor(-93.8556, device='cuda:0', grad_fn=<NegBackward0>) [tensor(-46.8078, device='cuda:0', grad_fn=<NegBackward0>), tensor(-46.3961, device='cuda:0', grad_fn=<NegBackward0>), tensor(-0.9189, device='cuda:0', grad_fn=<AddBackward0>)]\n",
      "0.2650078752678067\n",
      "tensor(-93.7263, device='cuda:0', grad_fn=<NegBackward0>) [tensor(-46.8078, device='cuda:0', grad_fn=<NegBackward0>), tensor(-46.1915, device='cuda:0', grad_fn=<NegBackward0>), tensor(-1.0690, device='cuda:0', grad_fn=<AddBackward0>)]\n",
      "0.2711866021740417\n",
      "tensor(-93.7119, device='cuda:0', grad_fn=<NegBackward0>) [tensor(-46.7931, device='cuda:0', grad_fn=<NegBackward0>), tensor(-46.1951, device='cuda:0', grad_fn=<NegBackward0>), tensor(-1.0621, device='cuda:0', grad_fn=<AddBackward0>)]\n",
      "0.22285620230716552\n",
      "tensor(-93.7505, device='cuda:0', grad_fn=<NegBackward0>) [tensor(-46.7931, device='cuda:0', grad_fn=<NegBackward0>), tensor(-46.4349, device='cuda:0', grad_fn=<NegBackward0>), tensor(-0.6863, device='cuda:0', grad_fn=<AddBackward0>)]\n",
      "0.23249937910699875\n",
      "tensor(-94.2273, device='cuda:0', grad_fn=<NegBackward0>) [tensor(-47.0488, device='cuda:0', grad_fn=<NegBackward0>), tensor(-46.6115, device='cuda:0', grad_fn=<NegBackward0>), tensor(-0.7629, device='cuda:0', grad_fn=<AddBackward0>)]\n",
      "0.23562146073298185\n",
      "tensor(-94.2019, device='cuda:0', grad_fn=<NegBackward0>) [tensor(-47.0488, device='cuda:0', grad_fn=<NegBackward0>), tensor(-46.6177, device='cuda:0', grad_fn=<NegBackward0>), tensor(-0.7082, device='cuda:0', grad_fn=<AddBackward0>)]\n",
      "0.2606223645286963\n",
      "tensor(-94.0494, device='cuda:0', grad_fn=<NegBackward0>) [tensor(-46.9416, device='cuda:0', grad_fn=<NegBackward0>), tensor(-46.3929, device='cuda:0', grad_fn=<NegBackward0>), tensor(-1.0441, device='cuda:0', grad_fn=<AddBackward0>)]\n",
      "0.2522041494440215\n",
      "tensor(-94.1081, device='cuda:0', grad_fn=<NegBackward0>) [tensor(-46.9416, device='cuda:0', grad_fn=<NegBackward0>), tensor(-46.5356, device='cuda:0', grad_fn=<NegBackward0>), tensor(-0.8795, device='cuda:0', grad_fn=<AddBackward0>)]\n",
      "0.23481094882179301\n",
      "tensor(-94.2429, device='cuda:0', grad_fn=<NegBackward0>) [tensor(-47.0596, device='cuda:0', grad_fn=<NegBackward0>), tensor(-46.5610, device='cuda:0', grad_fn=<NegBackward0>), tensor(-0.8631, device='cuda:0', grad_fn=<AddBackward0>)]\n",
      "0.24782736184522705\n",
      "tensor(-94.3041, device='cuda:0', grad_fn=<NegBackward0>) [tensor(-47.0596, device='cuda:0', grad_fn=<NegBackward0>), tensor(-46.6364, device='cuda:0', grad_fn=<NegBackward0>), tensor(-0.8369, device='cuda:0', grad_fn=<AddBackward0>)]\n"
     ]
    },
    {
     "name": "stdout",
     "output_type": "stream",
     "text": [
      "0.2375374991245286\n",
      "tensor(-93.9479, device='cuda:0', grad_fn=<NegBackward0>) [tensor(-46.9349, device='cuda:0', grad_fn=<NegBackward0>), tensor(-46.4142, device='cuda:0', grad_fn=<NegBackward0>), tensor(-0.8198, device='cuda:0', grad_fn=<AddBackward0>)]\n",
      "0.23066193883426972\n",
      "tensor(-94.0501, device='cuda:0', grad_fn=<NegBackward0>) [tensor(-46.9349, device='cuda:0', grad_fn=<NegBackward0>), tensor(-46.5069, device='cuda:0', grad_fn=<NegBackward0>), tensor(-0.8373, device='cuda:0', grad_fn=<AddBackward0>)]\n",
      "0.2668014451353683\n",
      "tensor(-93.9634, device='cuda:0', grad_fn=<NegBackward0>) [tensor(-46.9398, device='cuda:0', grad_fn=<NegBackward0>), tensor(-46.3722, device='cuda:0', grad_fn=<NegBackward0>), tensor(-0.9183, device='cuda:0', grad_fn=<AddBackward0>)]\n",
      "0.2264911506272851\n",
      "tensor(-93.9780, device='cuda:0', grad_fn=<NegBackward0>) [tensor(-46.9398, device='cuda:0', grad_fn=<NegBackward0>), tensor(-46.5203, device='cuda:0', grad_fn=<NegBackward0>), tensor(-0.6786, device='cuda:0', grad_fn=<AddBackward0>)]\n",
      "0.2461453183112738\n",
      "tensor(-94.4506, device='cuda:0', grad_fn=<NegBackward0>) [tensor(-47.1342, device='cuda:0', grad_fn=<NegBackward0>), tensor(-46.7113, device='cuda:0', grad_fn=<NegBackward0>), tensor(-0.8315, device='cuda:0', grad_fn=<AddBackward0>)]\n",
      "0.23780093484052772\n",
      "tensor(-94.4451, device='cuda:0', grad_fn=<NegBackward0>) [tensor(-47.1342, device='cuda:0', grad_fn=<NegBackward0>), tensor(-46.6895, device='cuda:0', grad_fn=<NegBackward0>), tensor(-0.8615, device='cuda:0', grad_fn=<AddBackward0>)]\n",
      "0.2634156596820627\n",
      "tensor(-93.7574, device='cuda:0', grad_fn=<NegBackward0>) [tensor(-46.7863, device='cuda:0', grad_fn=<NegBackward0>), tensor(-46.2983, device='cuda:0', grad_fn=<NegBackward0>), tensor(-0.9597, device='cuda:0', grad_fn=<AddBackward0>)]\n",
      "0.21630128560188916\n",
      "tensor(-93.6867, device='cuda:0', grad_fn=<NegBackward0>) [tensor(-46.7863, device='cuda:0', grad_fn=<NegBackward0>), tensor(-46.4005, device='cuda:0', grad_fn=<NegBackward0>), tensor(-0.6486, device='cuda:0', grad_fn=<AddBackward0>)]\n",
      "0.24801075588075364\n",
      "tensor(-94.1664, device='cuda:0', grad_fn=<NegBackward0>) [tensor(-46.9740, device='cuda:0', grad_fn=<NegBackward0>), tensor(-46.5818, device='cuda:0', grad_fn=<NegBackward0>), tensor(-0.8414, device='cuda:0', grad_fn=<AddBackward0>)]\n",
      "0.22839452107612093\n",
      "tensor(-94.0682, device='cuda:0', grad_fn=<NegBackward0>) [tensor(-46.9740, device='cuda:0', grad_fn=<NegBackward0>), tensor(-46.5385, device='cuda:0', grad_fn=<NegBackward0>), tensor(-0.7431, device='cuda:0', grad_fn=<AddBackward0>)]\n",
      "0.2682118249570393\n",
      "tensor(-93.8961, device='cuda:0', grad_fn=<NegBackward0>) [tensor(-46.8990, device='cuda:0', grad_fn=<NegBackward0>), tensor(-46.3379, device='cuda:0', grad_fn=<NegBackward0>), tensor(-0.9331, device='cuda:0', grad_fn=<AddBackward0>)]\n",
      "0.24242173842374468\n",
      "tensor(-93.9104, device='cuda:0', grad_fn=<NegBackward0>) [tensor(-46.8990, device='cuda:0', grad_fn=<NegBackward0>), tensor(-46.4566, device='cuda:0', grad_fn=<NegBackward0>), tensor(-0.7416, device='cuda:0', grad_fn=<AddBackward0>)]\n",
      "0.2590823272467216\n",
      "tensor(-94.3455, device='cuda:0', grad_fn=<NegBackward0>) [tensor(-47.0615, device='cuda:0', grad_fn=<NegBackward0>), tensor(-46.6388, device='cuda:0', grad_fn=<NegBackward0>), tensor(-0.9064, device='cuda:0', grad_fn=<AddBackward0>)]\n",
      "0.2202839203010513\n",
      "tensor(-94.2252, device='cuda:0', grad_fn=<NegBackward0>) [tensor(-47.0615, device='cuda:0', grad_fn=<NegBackward0>), tensor(-46.6283, device='cuda:0', grad_fn=<NegBackward0>), tensor(-0.7082, device='cuda:0', grad_fn=<AddBackward0>)]\n",
      "0.23145350089996222\n",
      "tensor(-94.0368, device='cuda:0', grad_fn=<NegBackward0>) [tensor(-46.9886, device='cuda:0', grad_fn=<NegBackward0>), tensor(-46.5063, device='cuda:0', grad_fn=<NegBackward0>), tensor(-0.7193, device='cuda:0', grad_fn=<AddBackward0>)]\n",
      "0.2794938977211899\n",
      "tensor(-94.1562, device='cuda:0', grad_fn=<NegBackward0>) [tensor(-46.9886, device='cuda:0', grad_fn=<NegBackward0>), tensor(-46.4434, device='cuda:0', grad_fn=<NegBackward0>), tensor(-1.0630, device='cuda:0', grad_fn=<AddBackward0>)]\n",
      "0.2421424115980819\n",
      "tensor(-94.2637, device='cuda:0', grad_fn=<NegBackward0>) [tensor(-47.0341, device='cuda:0', grad_fn=<NegBackward0>), tensor(-46.6538, device='cuda:0', grad_fn=<NegBackward0>), tensor(-0.7785, device='cuda:0', grad_fn=<AddBackward0>)]\n",
      "0.25176979705873304\n",
      "tensor(-94.2540, device='cuda:0', grad_fn=<NegBackward0>) [tensor(-47.0341, device='cuda:0', grad_fn=<NegBackward0>), tensor(-46.6243, device='cuda:0', grad_fn=<NegBackward0>), tensor(-0.8140, device='cuda:0', grad_fn=<AddBackward0>)]\n",
      "0.2004802518627894\n",
      "tensor(-94.4594, device='cuda:0', grad_fn=<NegBackward0>) [tensor(-47.1462, device='cuda:0', grad_fn=<NegBackward0>), tensor(-46.8779, device='cuda:0', grad_fn=<NegBackward0>), tensor(-0.5454, device='cuda:0', grad_fn=<AddBackward0>)]\n",
      "0.24719875821068116\n",
      "tensor(-94.3766, device='cuda:0', grad_fn=<NegBackward0>) [tensor(-47.1462, device='cuda:0', grad_fn=<NegBackward0>), tensor(-46.6624, device='cuda:0', grad_fn=<NegBackward0>), tensor(-0.7648, device='cuda:0', grad_fn=<AddBackward0>)]\n",
      "0.22348195831814568\n",
      "tensor(-94.4696, device='cuda:0', grad_fn=<NegBackward0>) [tensor(-47.1686, device='cuda:0', grad_fn=<NegBackward0>), tensor(-46.7534, device='cuda:0', grad_fn=<NegBackward0>), tensor(-0.7290, device='cuda:0', grad_fn=<AddBackward0>)]\n",
      "0.24622433443874658\n",
      "tensor(-94.4983, device='cuda:0', grad_fn=<NegBackward0>) [tensor(-47.1686, device='cuda:0', grad_fn=<NegBackward0>), tensor(-46.7063, device='cuda:0', grad_fn=<NegBackward0>), tensor(-0.8652, device='cuda:0', grad_fn=<AddBackward0>)]\n",
      "0.24261778600871559\n",
      "tensor(-94.0976, device='cuda:0', grad_fn=<NegBackward0>) [tensor(-46.9869, device='cuda:0', grad_fn=<NegBackward0>), tensor(-46.4972, device='cuda:0', grad_fn=<NegBackward0>), tensor(-0.8469, device='cuda:0', grad_fn=<AddBackward0>)]\n",
      "0.21027916790300713\n",
      "tensor(-94.1179, device='cuda:0', grad_fn=<NegBackward0>) [tensor(-46.9869, device='cuda:0', grad_fn=<NegBackward0>), tensor(-46.6370, device='cuda:0', grad_fn=<NegBackward0>), tensor(-0.6390, device='cuda:0', grad_fn=<AddBackward0>)]\n",
      "0.24326657771237314\n",
      "tensor(-94.3490, device='cuda:0', grad_fn=<NegBackward0>) [tensor(-47.1137, device='cuda:0', grad_fn=<NegBackward0>), tensor(-46.6750, device='cuda:0', grad_fn=<NegBackward0>), tensor(-0.7513, device='cuda:0', grad_fn=<AddBackward0>)]\n",
      "0.23841720839498923\n",
      "tensor(-94.3525, device='cuda:0', grad_fn=<NegBackward0>) [tensor(-47.1137, device='cuda:0', grad_fn=<NegBackward0>), tensor(-46.6628, device='cuda:0', grad_fn=<NegBackward0>), tensor(-0.7788, device='cuda:0', grad_fn=<AddBackward0>)]\n",
      "0.21229777539741243\n",
      "tensor(-94.3868, device='cuda:0', grad_fn=<NegBackward0>) [tensor(-47.1283, device='cuda:0', grad_fn=<NegBackward0>), tensor(-46.7259, device='cuda:0', grad_fn=<NegBackward0>), tensor(-0.7035, device='cuda:0', grad_fn=<AddBackward0>)]\n",
      "0.2437296553782217\n",
      "tensor(-94.4231, device='cuda:0', grad_fn=<NegBackward0>) [tensor(-47.1283, device='cuda:0', grad_fn=<NegBackward0>), tensor(-46.7118, device='cuda:0', grad_fn=<NegBackward0>), tensor(-0.7914, device='cuda:0', grad_fn=<AddBackward0>)]\n",
      "0.18700997898502872\n",
      "tensor(-94.5078, device='cuda:0', grad_fn=<NegBackward0>) [tensor(-47.1824, device='cuda:0', grad_fn=<NegBackward0>), tensor(-46.9481, device='cuda:0', grad_fn=<NegBackward0>), tensor(-0.4583, device='cuda:0', grad_fn=<AddBackward0>)]\n",
      "0.22570426279013936\n",
      "tensor(-94.5101, device='cuda:0', grad_fn=<NegBackward0>) [tensor(-47.1824, device='cuda:0', grad_fn=<NegBackward0>), tensor(-46.7730, device='cuda:0', grad_fn=<NegBackward0>), tensor(-0.7413, device='cuda:0', grad_fn=<AddBackward0>)]\n",
      "0.24526353353708485\n",
      "tensor(-94.3861, device='cuda:0', grad_fn=<NegBackward0>) [tensor(-47.1523, device='cuda:0', grad_fn=<NegBackward0>), tensor(-46.6494, device='cuda:0', grad_fn=<NegBackward0>), tensor(-0.7940, device='cuda:0', grad_fn=<AddBackward0>)]\n",
      "0.24477227433473198\n",
      "tensor(-94.4438, device='cuda:0', grad_fn=<NegBackward0>) [tensor(-47.1523, device='cuda:0', grad_fn=<NegBackward0>), tensor(-46.7058, device='cuda:0', grad_fn=<NegBackward0>), tensor(-0.7965, device='cuda:0', grad_fn=<AddBackward0>)]\n",
      "0.22198964385225498\n",
      "tensor(-94.1061, device='cuda:0', grad_fn=<NegBackward0>) [tensor(-46.9843, device='cuda:0', grad_fn=<NegBackward0>), tensor(-46.6256, device='cuda:0', grad_fn=<NegBackward0>), tensor(-0.6424, device='cuda:0', grad_fn=<AddBackward0>)]\n"
     ]
    },
    {
     "name": "stdout",
     "output_type": "stream",
     "text": [
      "0.2513921994075716\n",
      "tensor(-94.0850, device='cuda:0', grad_fn=<NegBackward0>) [tensor(-46.9843, device='cuda:0', grad_fn=<NegBackward0>), tensor(-46.5051, device='cuda:0', grad_fn=<NegBackward0>), tensor(-0.8139, device='cuda:0', grad_fn=<AddBackward0>)]\n",
      "0.23924845307991496\n",
      "tensor(-94.5709, device='cuda:0', grad_fn=<NegBackward0>) [tensor(-47.2239, device='cuda:0', grad_fn=<NegBackward0>), tensor(-46.7656, device='cuda:0', grad_fn=<NegBackward0>), tensor(-0.7886, device='cuda:0', grad_fn=<AddBackward0>)]\n",
      "0.22321169474782446\n",
      "tensor(-94.6403, device='cuda:0', grad_fn=<NegBackward0>) [tensor(-47.2239, device='cuda:0', grad_fn=<NegBackward0>), tensor(-46.8936, device='cuda:0', grad_fn=<NegBackward0>), tensor(-0.6868, device='cuda:0', grad_fn=<AddBackward0>)]\n",
      "0.23867593685506375\n",
      "tensor(-94.3384, device='cuda:0', grad_fn=<NegBackward0>) [tensor(-47.0958, device='cuda:0', grad_fn=<NegBackward0>), tensor(-46.6751, device='cuda:0', grad_fn=<NegBackward0>), tensor(-0.7638, device='cuda:0', grad_fn=<AddBackward0>)]\n",
      "0.24614714885087335\n",
      "tensor(-94.3372, device='cuda:0', grad_fn=<NegBackward0>) [tensor(-47.0958, device='cuda:0', grad_fn=<NegBackward0>), tensor(-46.6327, device='cuda:0', grad_fn=<NegBackward0>), tensor(-0.8380, device='cuda:0', grad_fn=<AddBackward0>)]\n",
      "0.25424966318335984\n",
      "tensor(-94.4839, device='cuda:0', grad_fn=<NegBackward0>) [tensor(-47.1455, device='cuda:0', grad_fn=<NegBackward0>), tensor(-46.6948, device='cuda:0', grad_fn=<NegBackward0>), tensor(-0.9035, device='cuda:0', grad_fn=<AddBackward0>)]\n",
      "0.27272489647311765\n",
      "tensor(-94.3988, device='cuda:0', grad_fn=<NegBackward0>) [tensor(-47.1455, device='cuda:0', grad_fn=<NegBackward0>), tensor(-46.5429, device='cuda:0', grad_fn=<NegBackward0>), tensor(-1.0349, device='cuda:0', grad_fn=<AddBackward0>)]\n",
      "0.25885180922614676\n",
      "tensor(-94.3767, device='cuda:0', grad_fn=<NegBackward0>) [tensor(-47.1243, device='cuda:0', grad_fn=<NegBackward0>), tensor(-46.6002, device='cuda:0', grad_fn=<NegBackward0>), tensor(-0.9199, device='cuda:0', grad_fn=<AddBackward0>)]\n",
      "0.21056642147952023\n",
      "tensor(-94.3678, device='cuda:0', grad_fn=<NegBackward0>) [tensor(-47.1243, device='cuda:0', grad_fn=<NegBackward0>), tensor(-46.7872, device='cuda:0', grad_fn=<NegBackward0>), tensor(-0.5783, device='cuda:0', grad_fn=<AddBackward0>)]\n",
      "0.24451221551176436\n",
      "tensor(-94.7553, device='cuda:0', grad_fn=<NegBackward0>) [tensor(-47.3282, device='cuda:0', grad_fn=<NegBackward0>), tensor(-46.8302, device='cuda:0', grad_fn=<NegBackward0>), tensor(-0.8164, device='cuda:0', grad_fn=<AddBackward0>)]\n",
      "0.2446395830065486\n",
      "tensor(-94.8104, device='cuda:0', grad_fn=<NegBackward0>) [tensor(-47.3282, device='cuda:0', grad_fn=<NegBackward0>), tensor(-46.9016, device='cuda:0', grad_fn=<NegBackward0>), tensor(-0.7869, device='cuda:0', grad_fn=<AddBackward0>)]\n",
      "0.2715057629908495\n",
      "tensor(-94.6536, device='cuda:0', grad_fn=<NegBackward0>) [tensor(-47.2602, device='cuda:0', grad_fn=<NegBackward0>), tensor(-46.7293, device='cuda:0', grad_fn=<NegBackward0>), tensor(-0.9427, device='cuda:0', grad_fn=<AddBackward0>)]\n",
      "0.23742525616504545\n",
      "tensor(-94.6927, device='cuda:0', grad_fn=<NegBackward0>) [tensor(-47.2602, device='cuda:0', grad_fn=<NegBackward0>), tensor(-46.8637, device='cuda:0', grad_fn=<NegBackward0>), tensor(-0.7660, device='cuda:0', grad_fn=<AddBackward0>)]\n",
      "0.2744377986105096\n",
      "tensor(-94.2724, device='cuda:0', grad_fn=<NegBackward0>) [tensor(-47.0667, device='cuda:0', grad_fn=<NegBackward0>), tensor(-46.4926, device='cuda:0', grad_fn=<NegBackward0>), tensor(-1.0404, device='cuda:0', grad_fn=<AddBackward0>)]\n",
      "0.2601899094351773\n",
      "tensor(-94.2189, device='cuda:0', grad_fn=<NegBackward0>) [tensor(-47.0667, device='cuda:0', grad_fn=<NegBackward0>), tensor(-46.4427, device='cuda:0', grad_fn=<NegBackward0>), tensor(-1.0330, device='cuda:0', grad_fn=<AddBackward0>)]\n",
      "0.22351412550693317\n",
      "tensor(-94.4316, device='cuda:0', grad_fn=<NegBackward0>) [tensor(-47.1883, device='cuda:0', grad_fn=<NegBackward0>), tensor(-46.6732, device='cuda:0', grad_fn=<NegBackward0>), tensor(-0.7683, device='cuda:0', grad_fn=<AddBackward0>)]\n",
      "0.24738337572046656\n",
      "tensor(-94.4817, device='cuda:0', grad_fn=<NegBackward0>) [tensor(-47.1883, device='cuda:0', grad_fn=<NegBackward0>), tensor(-46.6766, device='cuda:0', grad_fn=<NegBackward0>), tensor(-0.8529, device='cuda:0', grad_fn=<AddBackward0>)]\n",
      "0.23733051332114546\n",
      "tensor(-94.8456, device='cuda:0', grad_fn=<NegBackward0>) [tensor(-47.3165, device='cuda:0', grad_fn=<NegBackward0>), tensor(-46.9482, device='cuda:0', grad_fn=<NegBackward0>), tensor(-0.7876, device='cuda:0', grad_fn=<AddBackward0>)]\n",
      "0.24474976277905097\n",
      "tensor(-94.8197, device='cuda:0', grad_fn=<NegBackward0>) [tensor(-47.3165, device='cuda:0', grad_fn=<NegBackward0>), tensor(-46.8894, device='cuda:0', grad_fn=<NegBackward0>), tensor(-0.8475, device='cuda:0', grad_fn=<AddBackward0>)]\n",
      "0.2153789269861467\n",
      "tensor(-94.2500, device='cuda:0', grad_fn=<NegBackward0>) [tensor(-47.0610, device='cuda:0', grad_fn=<NegBackward0>), tensor(-46.6900, device='cuda:0', grad_fn=<NegBackward0>), tensor(-0.6470, device='cuda:0', grad_fn=<AddBackward0>)]\n",
      "0.21154308892877158\n",
      "tensor(-94.2505, device='cuda:0', grad_fn=<NegBackward0>) [tensor(-47.0610, device='cuda:0', grad_fn=<NegBackward0>), tensor(-46.7272, device='cuda:0', grad_fn=<NegBackward0>), tensor(-0.5877, device='cuda:0', grad_fn=<AddBackward0>)]\n",
      "0.25559287257752583\n",
      "tensor(-94.7141, device='cuda:0', grad_fn=<NegBackward0>) [tensor(-47.3426, device='cuda:0', grad_fn=<NegBackward0>), tensor(-46.7026, device='cuda:0', grad_fn=<NegBackward0>), tensor(-0.9522, device='cuda:0', grad_fn=<AddBackward0>)]\n",
      "0.25169377285923467\n",
      "tensor(-94.8042, device='cuda:0', grad_fn=<NegBackward0>) [tensor(-47.3426, device='cuda:0', grad_fn=<NegBackward0>), tensor(-46.8524, device='cuda:0', grad_fn=<NegBackward0>), tensor(-0.8389, device='cuda:0', grad_fn=<AddBackward0>)]\n",
      "0.25088359527161946\n",
      "tensor(-94.6549, device='cuda:0', grad_fn=<NegBackward0>) [tensor(-47.2551, device='cuda:0', grad_fn=<NegBackward0>), tensor(-46.7853, device='cuda:0', grad_fn=<NegBackward0>), tensor(-0.8487, device='cuda:0', grad_fn=<AddBackward0>)]\n",
      "0.24356192574805005\n",
      "tensor(-94.6779, device='cuda:0', grad_fn=<NegBackward0>) [tensor(-47.2551, device='cuda:0', grad_fn=<NegBackward0>), tensor(-46.8639, device='cuda:0', grad_fn=<NegBackward0>), tensor(-0.7488, device='cuda:0', grad_fn=<AddBackward0>)]\n",
      "0.2503060655305163\n",
      "tensor(-94.6689, device='cuda:0', grad_fn=<NegBackward0>) [tensor(-47.2233, device='cuda:0', grad_fn=<NegBackward0>), tensor(-46.8104, device='cuda:0', grad_fn=<NegBackward0>), tensor(-0.8875, device='cuda:0', grad_fn=<AddBackward0>)]\n",
      "0.2835249376091605\n",
      "tensor(-94.4937, device='cuda:0', grad_fn=<NegBackward0>) [tensor(-47.2233, device='cuda:0', grad_fn=<NegBackward0>), tensor(-46.5453, device='cuda:0', grad_fn=<NegBackward0>), tensor(-1.0647, device='cuda:0', grad_fn=<AddBackward0>)]\n",
      "0.24072243226598022\n",
      "tensor(-94.7543, device='cuda:0', grad_fn=<NegBackward0>) [tensor(-47.3067, device='cuda:0', grad_fn=<NegBackward0>), tensor(-46.8882, device='cuda:0', grad_fn=<NegBackward0>), tensor(-0.7496, device='cuda:0', grad_fn=<AddBackward0>)]\n",
      "0.21166910767359043\n",
      "tensor(-94.7622, device='cuda:0', grad_fn=<NegBackward0>) [tensor(-47.3067, device='cuda:0', grad_fn=<NegBackward0>), tensor(-46.9775, device='cuda:0', grad_fn=<NegBackward0>), tensor(-0.6128, device='cuda:0', grad_fn=<AddBackward0>)]\n",
      "0.2338670641122011\n",
      "tensor(-94.8068, device='cuda:0', grad_fn=<NegBackward0>) [tensor(-47.3534, device='cuda:0', grad_fn=<NegBackward0>), tensor(-46.8960, device='cuda:0', grad_fn=<NegBackward0>), tensor(-0.7461, device='cuda:0', grad_fn=<AddBackward0>)]\n",
      "0.22677406582004622\n",
      "tensor(-94.8115, device='cuda:0', grad_fn=<NegBackward0>) [tensor(-47.3534, device='cuda:0', grad_fn=<NegBackward0>), tensor(-46.9311, device='cuda:0', grad_fn=<NegBackward0>), tensor(-0.6937, device='cuda:0', grad_fn=<AddBackward0>)]\n",
      "0.2760101592314942\n",
      "tensor(-94.5747, device='cuda:0', grad_fn=<NegBackward0>) [tensor(-47.2245, device='cuda:0', grad_fn=<NegBackward0>), tensor(-46.6396, device='cuda:0', grad_fn=<NegBackward0>), tensor(-1.0352, device='cuda:0', grad_fn=<AddBackward0>)]\n",
      "0.2636325219643831\n",
      "tensor(-94.6003, device='cuda:0', grad_fn=<NegBackward0>) [tensor(-47.2245, device='cuda:0', grad_fn=<NegBackward0>), tensor(-46.6823, device='cuda:0', grad_fn=<NegBackward0>), tensor(-1.0007, device='cuda:0', grad_fn=<AddBackward0>)]\n"
     ]
    },
    {
     "name": "stdout",
     "output_type": "stream",
     "text": [
      "0.23474458995688224\n",
      "tensor(-94.6402, device='cuda:0', grad_fn=<NegBackward0>) [tensor(-47.2146, device='cuda:0', grad_fn=<NegBackward0>), tensor(-46.8998, device='cuda:0', grad_fn=<NegBackward0>), tensor(-0.6917, device='cuda:0', grad_fn=<AddBackward0>)]\n",
      "0.25820573870567337\n",
      "tensor(-94.5656, device='cuda:0', grad_fn=<NegBackward0>) [tensor(-47.2146, device='cuda:0', grad_fn=<NegBackward0>), tensor(-46.7501, device='cuda:0', grad_fn=<NegBackward0>), tensor(-0.8237, device='cuda:0', grad_fn=<AddBackward0>)]\n",
      "0.23513489671579713\n",
      "tensor(-94.9138, device='cuda:0', grad_fn=<NegBackward0>) [tensor(-47.4025, device='cuda:0', grad_fn=<NegBackward0>), tensor(-46.9425, device='cuda:0', grad_fn=<NegBackward0>), tensor(-0.7661, device='cuda:0', grad_fn=<AddBackward0>)]\n",
      "0.23823075448284764\n",
      "tensor(-94.9086, device='cuda:0', grad_fn=<NegBackward0>) [tensor(-47.4025, device='cuda:0', grad_fn=<NegBackward0>), tensor(-46.9107, device='cuda:0', grad_fn=<NegBackward0>), tensor(-0.8138, device='cuda:0', grad_fn=<AddBackward0>)]\n",
      "0.23960560933499944\n",
      "tensor(-94.7830, device='cuda:0', grad_fn=<NegBackward0>) [tensor(-47.3514, device='cuda:0', grad_fn=<NegBackward0>), tensor(-46.8616, device='cuda:0', grad_fn=<NegBackward0>), tensor(-0.7682, device='cuda:0', grad_fn=<AddBackward0>)]\n",
      "0.24905965279167266\n",
      "tensor(-94.8289, device='cuda:0', grad_fn=<NegBackward0>) [tensor(-47.3514, device='cuda:0', grad_fn=<NegBackward0>), tensor(-46.9182, device='cuda:0', grad_fn=<NegBackward0>), tensor(-0.7494, device='cuda:0', grad_fn=<AddBackward0>)]\n",
      "0.2805949432582226\n",
      "tensor(-94.8219, device='cuda:0', grad_fn=<NegBackward0>) [tensor(-47.4047, device='cuda:0', grad_fn=<NegBackward0>), tensor(-46.6896, device='cuda:0', grad_fn=<NegBackward0>), tensor(-1.0701, device='cuda:0', grad_fn=<AddBackward0>)]\n",
      "0.24009367965241254\n",
      "tensor(-94.9230, device='cuda:0', grad_fn=<NegBackward0>) [tensor(-47.4047, device='cuda:0', grad_fn=<NegBackward0>), tensor(-46.9390, device='cuda:0', grad_fn=<NegBackward0>), tensor(-0.7847, device='cuda:0', grad_fn=<AddBackward0>)]\n",
      "0.2505890883666695\n",
      "tensor(-95.0077, device='cuda:0', grad_fn=<NegBackward0>) [tensor(-47.4155, device='cuda:0', grad_fn=<NegBackward0>), tensor(-46.9913, device='cuda:0', grad_fn=<NegBackward0>), tensor(-0.8238, device='cuda:0', grad_fn=<AddBackward0>)]\n",
      "0.23553151624569374\n",
      "tensor(-94.9963, device='cuda:0', grad_fn=<NegBackward0>) [tensor(-47.4155, device='cuda:0', grad_fn=<NegBackward0>), tensor(-47.0414, device='cuda:0', grad_fn=<NegBackward0>), tensor(-0.7149, device='cuda:0', grad_fn=<AddBackward0>)]\n",
      "0.2635356987908395\n",
      "tensor(-94.9026, device='cuda:0', grad_fn=<NegBackward0>) [tensor(-47.3933, device='cuda:0', grad_fn=<NegBackward0>), tensor(-46.8289, device='cuda:0', grad_fn=<NegBackward0>), tensor(-0.9748, device='cuda:0', grad_fn=<AddBackward0>)]\n",
      "0.22102208110162558\n",
      "tensor(-94.8425, device='cuda:0', grad_fn=<NegBackward0>) [tensor(-47.3933, device='cuda:0', grad_fn=<NegBackward0>), tensor(-46.9218, device='cuda:0', grad_fn=<NegBackward0>), tensor(-0.6946, device='cuda:0', grad_fn=<AddBackward0>)]\n",
      "0.25022532035682615\n",
      "tensor(-94.6876, device='cuda:0', grad_fn=<NegBackward0>) [tensor(-47.2627, device='cuda:0', grad_fn=<NegBackward0>), tensor(-46.8049, device='cuda:0', grad_fn=<NegBackward0>), tensor(-0.8589, device='cuda:0', grad_fn=<AddBackward0>)]\n",
      "0.22775096517538407\n",
      "tensor(-94.7277, device='cuda:0', grad_fn=<NegBackward0>) [tensor(-47.2627, device='cuda:0', grad_fn=<NegBackward0>), tensor(-46.9605, device='cuda:0', grad_fn=<NegBackward0>), tensor(-0.6563, device='cuda:0', grad_fn=<AddBackward0>)]\n",
      "0.21626577196443633\n",
      "tensor(-94.9431, device='cuda:0', grad_fn=<NegBackward0>) [tensor(-47.4129, device='cuda:0', grad_fn=<NegBackward0>), tensor(-47.0481, device='cuda:0', grad_fn=<NegBackward0>), tensor(-0.6194, device='cuda:0', grad_fn=<AddBackward0>)]\n",
      "0.2327219141066957\n",
      "tensor(-94.9299, device='cuda:0', grad_fn=<NegBackward0>) [tensor(-47.4129, device='cuda:0', grad_fn=<NegBackward0>), tensor(-47.0062, device='cuda:0', grad_fn=<NegBackward0>), tensor(-0.6665, device='cuda:0', grad_fn=<AddBackward0>)]\n",
      "0.24370132266357497\n",
      "tensor(-95.0329, device='cuda:0', grad_fn=<NegBackward0>) [tensor(-47.4495, device='cuda:0', grad_fn=<NegBackward0>), tensor(-46.9832, device='cuda:0', grad_fn=<NegBackward0>), tensor(-0.8225, device='cuda:0', grad_fn=<AddBackward0>)]\n",
      "0.23422729390340288\n",
      "tensor(-95.0408, device='cuda:0', grad_fn=<NegBackward0>) [tensor(-47.4495, device='cuda:0', grad_fn=<NegBackward0>), tensor(-47.0530, device='cuda:0', grad_fn=<NegBackward0>), tensor(-0.7130, device='cuda:0', grad_fn=<AddBackward0>)]\n",
      "0.2268637554615744\n",
      "tensor(-94.9197, device='cuda:0', grad_fn=<NegBackward0>) [tensor(-47.3956, device='cuda:0', grad_fn=<NegBackward0>), tensor(-47.0394, device='cuda:0', grad_fn=<NegBackward0>), tensor(-0.6237, device='cuda:0', grad_fn=<AddBackward0>)]\n",
      "0.242129743655371\n",
      "tensor(-94.9463, device='cuda:0', grad_fn=<NegBackward0>) [tensor(-47.3956, device='cuda:0', grad_fn=<NegBackward0>), tensor(-46.9703, device='cuda:0', grad_fn=<NegBackward0>), tensor(-0.7866, device='cuda:0', grad_fn=<AddBackward0>)]\n",
      "0.2342027677309065\n",
      "tensor(-94.9873, device='cuda:0', grad_fn=<NegBackward0>) [tensor(-47.4604, device='cuda:0', grad_fn=<NegBackward0>), tensor(-46.9574, device='cuda:0', grad_fn=<NegBackward0>), tensor(-0.7673, device='cuda:0', grad_fn=<AddBackward0>)]\n",
      "0.22533800929750225\n",
      "tensor(-94.9707, device='cuda:0', grad_fn=<NegBackward0>) [tensor(-47.4604, device='cuda:0', grad_fn=<NegBackward0>), tensor(-46.9613, device='cuda:0', grad_fn=<NegBackward0>), tensor(-0.7315, device='cuda:0', grad_fn=<AddBackward0>)]\n",
      "0.2514048698711077\n",
      "tensor(-94.5227, device='cuda:0', grad_fn=<NegBackward0>) [tensor(-47.2463, device='cuda:0', grad_fn=<NegBackward0>), tensor(-46.6335, device='cuda:0', grad_fn=<NegBackward0>), tensor(-0.9020, device='cuda:0', grad_fn=<AddBackward0>)]\n",
      "0.23645205018804913\n",
      "tensor(-94.6575, device='cuda:0', grad_fn=<NegBackward0>) [tensor(-47.2463, device='cuda:0', grad_fn=<NegBackward0>), tensor(-46.8372, device='cuda:0', grad_fn=<NegBackward0>), tensor(-0.7755, device='cuda:0', grad_fn=<AddBackward0>)]\n",
      "0.23737644051729795\n",
      "tensor(-94.8996, device='cuda:0', grad_fn=<NegBackward0>) [tensor(-47.3572, device='cuda:0', grad_fn=<NegBackward0>), tensor(-46.9919, device='cuda:0', grad_fn=<NegBackward0>), tensor(-0.7340, device='cuda:0', grad_fn=<AddBackward0>)]\n",
      "0.24940415742431724\n",
      "tensor(-94.7677, device='cuda:0', grad_fn=<NegBackward0>) [tensor(-47.3572, device='cuda:0', grad_fn=<NegBackward0>), tensor(-46.7746, device='cuda:0', grad_fn=<NegBackward0>), tensor(-0.8887, device='cuda:0', grad_fn=<AddBackward0>)]\n",
      "0.23977941978402478\n",
      "tensor(-94.4845, device='cuda:0', grad_fn=<NegBackward0>) [tensor(-47.1945, device='cuda:0', grad_fn=<NegBackward0>), tensor(-46.7100, device='cuda:0', grad_fn=<NegBackward0>), tensor(-0.7860, device='cuda:0', grad_fn=<AddBackward0>)]\n",
      "0.22708653617706248\n",
      "tensor(-94.5913, device='cuda:0', grad_fn=<NegBackward0>) [tensor(-47.1945, device='cuda:0', grad_fn=<NegBackward0>), tensor(-46.8797, device='cuda:0', grad_fn=<NegBackward0>), tensor(-0.6771, device='cuda:0', grad_fn=<AddBackward0>)]\n",
      "0.24764095978959733\n",
      "tensor(-94.6959, device='cuda:0', grad_fn=<NegBackward0>) [tensor(-47.2808, device='cuda:0', grad_fn=<NegBackward0>), tensor(-46.8099, device='cuda:0', grad_fn=<NegBackward0>), tensor(-0.8317, device='cuda:0', grad_fn=<AddBackward0>)]\n",
      "0.2511526223685357\n",
      "tensor(-94.7038, device='cuda:0', grad_fn=<NegBackward0>) [tensor(-47.2808, device='cuda:0', grad_fn=<NegBackward0>), tensor(-46.8334, device='cuda:0', grad_fn=<NegBackward0>), tensor(-0.8033, device='cuda:0', grad_fn=<AddBackward0>)]\n",
      "0.23697525027588828\n",
      "tensor(-94.6842, device='cuda:0', grad_fn=<NegBackward0>) [tensor(-47.2362, device='cuda:0', grad_fn=<NegBackward0>), tensor(-46.9237, device='cuda:0', grad_fn=<NegBackward0>), tensor(-0.6892, device='cuda:0', grad_fn=<AddBackward0>)]\n",
      "0.27592468018045563\n",
      "tensor(-94.5870, device='cuda:0', grad_fn=<NegBackward0>) [tensor(-47.2362, device='cuda:0', grad_fn=<NegBackward0>), tensor(-46.6861, device='cuda:0', grad_fn=<NegBackward0>), tensor(-0.9440, device='cuda:0', grad_fn=<AddBackward0>)]\n",
      "0.2580082665010801\n",
      "tensor(-94.8263, device='cuda:0', grad_fn=<NegBackward0>) [tensor(-47.3448, device='cuda:0', grad_fn=<NegBackward0>), tensor(-46.8547, device='cuda:0', grad_fn=<NegBackward0>), tensor(-0.8716, device='cuda:0', grad_fn=<AddBackward0>)]\n"
     ]
    },
    {
     "name": "stdout",
     "output_type": "stream",
     "text": [
      "0.24172996223727106\n",
      "tensor(-94.9345, device='cuda:0', grad_fn=<NegBackward0>) [tensor(-47.3448, device='cuda:0', grad_fn=<NegBackward0>), tensor(-47.0111, device='cuda:0', grad_fn=<NegBackward0>), tensor(-0.7836, device='cuda:0', grad_fn=<AddBackward0>)]\n",
      "0.23851242077791587\n",
      "tensor(-94.5465, device='cuda:0', grad_fn=<NegBackward0>) [tensor(-47.2253, device='cuda:0', grad_fn=<NegBackward0>), tensor(-46.7249, device='cuda:0', grad_fn=<NegBackward0>), tensor(-0.8155, device='cuda:0', grad_fn=<AddBackward0>)]\n",
      "0.22708634446631656\n",
      "tensor(-94.5162, device='cuda:0', grad_fn=<NegBackward0>) [tensor(-47.2253, device='cuda:0', grad_fn=<NegBackward0>), tensor(-46.7594, device='cuda:0', grad_fn=<NegBackward0>), tensor(-0.7015, device='cuda:0', grad_fn=<AddBackward0>)]\n",
      "0.2519230237613183\n",
      "tensor(-94.9306, device='cuda:0', grad_fn=<NegBackward0>) [tensor(-47.3899, device='cuda:0', grad_fn=<NegBackward0>), tensor(-46.9140, device='cuda:0', grad_fn=<NegBackward0>), tensor(-0.8715, device='cuda:0', grad_fn=<AddBackward0>)]\n",
      "0.25600047876028936\n",
      "tensor(-94.8728, device='cuda:0', grad_fn=<NegBackward0>) [tensor(-47.3899, device='cuda:0', grad_fn=<NegBackward0>), tensor(-46.8550, device='cuda:0', grad_fn=<NegBackward0>), tensor(-0.8737, device='cuda:0', grad_fn=<AddBackward0>)]\n",
      "0.25195483829310866\n",
      "tensor(-94.5590, device='cuda:0', grad_fn=<NegBackward0>) [tensor(-47.2770, device='cuda:0', grad_fn=<NegBackward0>), tensor(-46.6204, device='cuda:0', grad_fn=<NegBackward0>), tensor(-0.9378, device='cuda:0', grad_fn=<AddBackward0>)]\n",
      "0.2508918195826004\n",
      "tensor(-94.6395, device='cuda:0', grad_fn=<NegBackward0>) [tensor(-47.2770, device='cuda:0', grad_fn=<NegBackward0>), tensor(-46.7640, device='cuda:0', grad_fn=<NegBackward0>), tensor(-0.8194, device='cuda:0', grad_fn=<AddBackward0>)]\n",
      "0.23988028619646737\n",
      "tensor(-95.1282, device='cuda:0', grad_fn=<NegBackward0>) [tensor(-47.5103, device='cuda:0', grad_fn=<NegBackward0>), tensor(-47.0514, device='cuda:0', grad_fn=<NegBackward0>), tensor(-0.7620, device='cuda:0', grad_fn=<AddBackward0>)]\n",
      "0.2343470024700808\n",
      "tensor(-95.1605, device='cuda:0', grad_fn=<NegBackward0>) [tensor(-47.5103, device='cuda:0', grad_fn=<NegBackward0>), tensor(-47.1106, device='cuda:0', grad_fn=<NegBackward0>), tensor(-0.7154, device='cuda:0', grad_fn=<AddBackward0>)]\n",
      "0.2547289972374945\n",
      "tensor(-95.1963, device='cuda:0', grad_fn=<NegBackward0>) [tensor(-47.4927, device='cuda:0', grad_fn=<NegBackward0>), tensor(-47.0809, device='cuda:0', grad_fn=<NegBackward0>), tensor(-0.8639, device='cuda:0', grad_fn=<AddBackward0>)]\n",
      "0.24043948910915058\n",
      "tensor(-95.1083, device='cuda:0', grad_fn=<NegBackward0>) [tensor(-47.4927, device='cuda:0', grad_fn=<NegBackward0>), tensor(-47.0296, device='cuda:0', grad_fn=<NegBackward0>), tensor(-0.7967, device='cuda:0', grad_fn=<AddBackward0>)]\n",
      "0.2528104810150806\n",
      "tensor(-95.2529, device='cuda:0', grad_fn=<NegBackward0>) [tensor(-47.5446, device='cuda:0', grad_fn=<NegBackward0>), tensor(-47.0738, device='cuda:0', grad_fn=<NegBackward0>), tensor(-0.8861, device='cuda:0', grad_fn=<AddBackward0>)]\n",
      "0.2400400085315188\n",
      "tensor(-95.1652, device='cuda:0', grad_fn=<NegBackward0>) [tensor(-47.5446, device='cuda:0', grad_fn=<NegBackward0>), tensor(-47.0636, device='cuda:0', grad_fn=<NegBackward0>), tensor(-0.7454, device='cuda:0', grad_fn=<AddBackward0>)]\n",
      "0.19882675256434645\n",
      "tensor(-95.1245, device='cuda:0', grad_fn=<NegBackward0>) [tensor(-47.5072, device='cuda:0', grad_fn=<NegBackward0>), tensor(-47.2080, device='cuda:0', grad_fn=<NegBackward0>), tensor(-0.5056, device='cuda:0', grad_fn=<AddBackward0>)]\n",
      "0.268561479114336\n",
      "tensor(-95.1918, device='cuda:0', grad_fn=<NegBackward0>) [tensor(-47.5072, device='cuda:0', grad_fn=<NegBackward0>), tensor(-47.0192, device='cuda:0', grad_fn=<NegBackward0>), tensor(-0.9452, device='cuda:0', grad_fn=<AddBackward0>)]\n",
      "0.24633172192508349\n",
      "tensor(-95.1675, device='cuda:0', grad_fn=<NegBackward0>) [tensor(-47.5059, device='cuda:0', grad_fn=<NegBackward0>), tensor(-47.0996, device='cuda:0', grad_fn=<NegBackward0>), tensor(-0.7541, device='cuda:0', grad_fn=<AddBackward0>)]\n",
      "0.24002080379129923\n",
      "tensor(-95.1028, device='cuda:0', grad_fn=<NegBackward0>) [tensor(-47.5059, device='cuda:0', grad_fn=<NegBackward0>), tensor(-47.0560, device='cuda:0', grad_fn=<NegBackward0>), tensor(-0.7175, device='cuda:0', grad_fn=<AddBackward0>)]\n",
      "0.24619066372557635\n",
      "tensor(-95.1388, device='cuda:0', grad_fn=<NegBackward0>) [tensor(-47.5030, device='cuda:0', grad_fn=<NegBackward0>), tensor(-47.0566, device='cuda:0', grad_fn=<NegBackward0>), tensor(-0.7847, device='cuda:0', grad_fn=<AddBackward0>)]\n",
      "0.2533007733548372\n",
      "tensor(-95.1171, device='cuda:0', grad_fn=<NegBackward0>) [tensor(-47.5030, device='cuda:0', grad_fn=<NegBackward0>), tensor(-47.0108, device='cuda:0', grad_fn=<NegBackward0>), tensor(-0.8283, device='cuda:0', grad_fn=<AddBackward0>)]\n",
      "0.24644697841242008\n",
      "tensor(-95.3057, device='cuda:0', grad_fn=<NegBackward0>) [tensor(-47.6130, device='cuda:0', grad_fn=<NegBackward0>), tensor(-47.1320, device='cuda:0', grad_fn=<NegBackward0>), tensor(-0.7519, device='cuda:0', grad_fn=<AddBackward0>)]\n",
      "0.23413342679480323\n",
      "tensor(-95.3933, device='cuda:0', grad_fn=<NegBackward0>) [tensor(-47.6130, device='cuda:0', grad_fn=<NegBackward0>), tensor(-47.2530, device='cuda:0', grad_fn=<NegBackward0>), tensor(-0.6944, device='cuda:0', grad_fn=<AddBackward0>)]\n",
      "0.23538582851910692\n",
      "tensor(-95.1009, device='cuda:0', grad_fn=<NegBackward0>) [tensor(-47.4846, device='cuda:0', grad_fn=<NegBackward0>), tensor(-47.0765, device='cuda:0', grad_fn=<NegBackward0>), tensor(-0.7158, device='cuda:0', grad_fn=<AddBackward0>)]\n",
      "0.24273599443876123\n",
      "tensor(-95.1181, device='cuda:0', grad_fn=<NegBackward0>) [tensor(-47.4846, device='cuda:0', grad_fn=<NegBackward0>), tensor(-47.0655, device='cuda:0', grad_fn=<NegBackward0>), tensor(-0.7648, device='cuda:0', grad_fn=<AddBackward0>)]\n",
      "0.24123116303799538\n",
      "tensor(-94.4534, device='cuda:0', grad_fn=<NegBackward0>) [tensor(-47.1198, device='cuda:0', grad_fn=<NegBackward0>), tensor(-46.7517, device='cuda:0', grad_fn=<NegBackward0>), tensor(-0.7893, device='cuda:0', grad_fn=<AddBackward0>)]\n",
      "0.26257336056828134\n",
      "tensor(-94.3067, device='cuda:0', grad_fn=<NegBackward0>) [tensor(-47.1198, device='cuda:0', grad_fn=<NegBackward0>), tensor(-46.5157, device='cuda:0', grad_fn=<NegBackward0>), tensor(-0.9565, device='cuda:0', grad_fn=<AddBackward0>)]\n",
      "0.24950363727181332\n",
      "tensor(-95.1522, device='cuda:0', grad_fn=<NegBackward0>) [tensor(-47.4491, device='cuda:0', grad_fn=<NegBackward0>), tensor(-47.1295, device='cuda:0', grad_fn=<NegBackward0>), tensor(-0.7747, device='cuda:0', grad_fn=<AddBackward0>)]\n",
      "0.24652919568754653\n",
      "tensor(-95.1259, device='cuda:0', grad_fn=<NegBackward0>) [tensor(-47.4491, device='cuda:0', grad_fn=<NegBackward0>), tensor(-47.0904, device='cuda:0', grad_fn=<NegBackward0>), tensor(-0.7975, device='cuda:0', grad_fn=<AddBackward0>)]\n",
      "0.2516733012033959\n",
      "tensor(-94.9829, device='cuda:0', grad_fn=<NegBackward0>) [tensor(-47.3904, device='cuda:0', grad_fn=<NegBackward0>), tensor(-47.0080, device='cuda:0', grad_fn=<NegBackward0>), tensor(-0.7940, device='cuda:0', grad_fn=<AddBackward0>)]\n",
      "0.26518757329284315\n",
      "tensor(-94.9347, device='cuda:0', grad_fn=<NegBackward0>) [tensor(-47.3904, device='cuda:0', grad_fn=<NegBackward0>), tensor(-46.9211, device='cuda:0', grad_fn=<NegBackward0>), tensor(-0.8650, device='cuda:0', grad_fn=<AddBackward0>)]\n",
      "0.2293667290747723\n",
      "tensor(-95.1510, device='cuda:0', grad_fn=<NegBackward0>) [tensor(-47.5074, device='cuda:0', grad_fn=<NegBackward0>), tensor(-47.1255, device='cuda:0', grad_fn=<NegBackward0>), tensor(-0.6790, device='cuda:0', grad_fn=<AddBackward0>)]\n",
      "0.25921503681903446\n",
      "tensor(-95.1358, device='cuda:0', grad_fn=<NegBackward0>) [tensor(-47.5074, device='cuda:0', grad_fn=<NegBackward0>), tensor(-46.9967, device='cuda:0', grad_fn=<NegBackward0>), tensor(-0.8808, device='cuda:0', grad_fn=<AddBackward0>)]\n",
      "0.2501431803235598\n",
      "tensor(-94.8913, device='cuda:0', grad_fn=<NegBackward0>) [tensor(-47.4449, device='cuda:0', grad_fn=<NegBackward0>), tensor(-46.7644, device='cuda:0', grad_fn=<NegBackward0>), tensor(-0.9778, device='cuda:0', grad_fn=<AddBackward0>)]\n",
      "0.24010953709855115\n",
      "tensor(-94.8804, device='cuda:0', grad_fn=<NegBackward0>) [tensor(-47.4449, device='cuda:0', grad_fn=<NegBackward0>), tensor(-46.8883, device='cuda:0', grad_fn=<NegBackward0>), tensor(-0.7284, device='cuda:0', grad_fn=<AddBackward0>)]\n"
     ]
    },
    {
     "name": "stdout",
     "output_type": "stream",
     "text": [
      "0.24175046460545246\n",
      "tensor(-94.6788, device='cuda:0', grad_fn=<NegBackward0>) [tensor(-47.2667, device='cuda:0', grad_fn=<NegBackward0>), tensor(-46.8610, device='cuda:0', grad_fn=<NegBackward0>), tensor(-0.7352, device='cuda:0', grad_fn=<AddBackward0>)]\n",
      "0.23995331512410922\n",
      "tensor(-94.6324, device='cuda:0', grad_fn=<NegBackward0>) [tensor(-47.2667, device='cuda:0', grad_fn=<NegBackward0>), tensor(-46.7901, device='cuda:0', grad_fn=<NegBackward0>), tensor(-0.7782, device='cuda:0', grad_fn=<AddBackward0>)]\n",
      "0.2131841436771606\n",
      "tensor(-95.1385, device='cuda:0', grad_fn=<NegBackward0>) [tensor(-47.4930, device='cuda:0', grad_fn=<NegBackward0>), tensor(-47.1549, device='cuda:0', grad_fn=<NegBackward0>), tensor(-0.6332, device='cuda:0', grad_fn=<AddBackward0>)]\n",
      "0.2356136319443865\n",
      "tensor(-95.1460, device='cuda:0', grad_fn=<NegBackward0>) [tensor(-47.4930, device='cuda:0', grad_fn=<NegBackward0>), tensor(-47.1422, device='cuda:0', grad_fn=<NegBackward0>), tensor(-0.6666, device='cuda:0', grad_fn=<AddBackward0>)]\n",
      "0.24888102336086054\n",
      "tensor(-95.2491, device='cuda:0', grad_fn=<NegBackward0>) [tensor(-47.5626, device='cuda:0', grad_fn=<NegBackward0>), tensor(-47.0902, device='cuda:0', grad_fn=<NegBackward0>), tensor(-0.8155, device='cuda:0', grad_fn=<AddBackward0>)]\n",
      "0.2225496828808152\n",
      "tensor(-95.2601, device='cuda:0', grad_fn=<NegBackward0>) [tensor(-47.5626, device='cuda:0', grad_fn=<NegBackward0>), tensor(-47.2144, device='cuda:0', grad_fn=<NegBackward0>), tensor(-0.6212, device='cuda:0', grad_fn=<AddBackward0>)]\n",
      "0.2576261643656197\n",
      "tensor(-95.0349, device='cuda:0', grad_fn=<NegBackward0>) [tensor(-47.4420, device='cuda:0', grad_fn=<NegBackward0>), tensor(-46.9580, device='cuda:0', grad_fn=<NegBackward0>), tensor(-0.8868, device='cuda:0', grad_fn=<AddBackward0>)]\n",
      "0.21071364128686335\n",
      "tensor(-94.9885, device='cuda:0', grad_fn=<NegBackward0>) [tensor(-47.4420, device='cuda:0', grad_fn=<NegBackward0>), tensor(-47.1039, device='cuda:0', grad_fn=<NegBackward0>), tensor(-0.5568, device='cuda:0', grad_fn=<AddBackward0>)]\n",
      "0.2319095175038478\n",
      "tensor(-95.1089, device='cuda:0', grad_fn=<NegBackward0>) [tensor(-47.4807, device='cuda:0', grad_fn=<NegBackward0>), tensor(-47.1240, device='cuda:0', grad_fn=<NegBackward0>), tensor(-0.6555, device='cuda:0', grad_fn=<AddBackward0>)]\n",
      "0.24657019982918624\n",
      "tensor(-95.1558, device='cuda:0', grad_fn=<NegBackward0>) [tensor(-47.4807, device='cuda:0', grad_fn=<NegBackward0>), tensor(-47.0738, device='cuda:0', grad_fn=<NegBackward0>), tensor(-0.8243, device='cuda:0', grad_fn=<AddBackward0>)]\n",
      "0.2550237715893642\n",
      "tensor(-94.7009, device='cuda:0', grad_fn=<NegBackward0>) [tensor(-47.2714, device='cuda:0', grad_fn=<NegBackward0>), tensor(-46.8241, device='cuda:0', grad_fn=<NegBackward0>), tensor(-0.8320, device='cuda:0', grad_fn=<AddBackward0>)]\n",
      "0.24634261608772715\n",
      "tensor(-94.5960, device='cuda:0', grad_fn=<NegBackward0>) [tensor(-47.2714, device='cuda:0', grad_fn=<NegBackward0>), tensor(-46.7464, device='cuda:0', grad_fn=<NegBackward0>), tensor(-0.7828, device='cuda:0', grad_fn=<AddBackward0>)]\n",
      "0.25358499422776243\n",
      "tensor(-94.7447, device='cuda:0', grad_fn=<NegBackward0>) [tensor(-47.3418, device='cuda:0', grad_fn=<NegBackward0>), tensor(-46.7635, device='cuda:0', grad_fn=<NegBackward0>), tensor(-0.8953, device='cuda:0', grad_fn=<AddBackward0>)]\n",
      "0.24713425784731316\n",
      "tensor(-94.7757, device='cuda:0', grad_fn=<NegBackward0>) [tensor(-47.3418, device='cuda:0', grad_fn=<NegBackward0>), tensor(-46.8244, device='cuda:0', grad_fn=<NegBackward0>), tensor(-0.8396, device='cuda:0', grad_fn=<AddBackward0>)]\n",
      "0.24474992652572838\n",
      "tensor(-94.6346, device='cuda:0', grad_fn=<NegBackward0>) [tensor(-47.2371, device='cuda:0', grad_fn=<NegBackward0>), tensor(-46.8347, device='cuda:0', grad_fn=<NegBackward0>), tensor(-0.7556, device='cuda:0', grad_fn=<AddBackward0>)]\n",
      "0.24255446550642287\n",
      "tensor(-94.6597, device='cuda:0', grad_fn=<NegBackward0>) [tensor(-47.2371, device='cuda:0', grad_fn=<NegBackward0>), tensor(-46.8760, device='cuda:0', grad_fn=<NegBackward0>), tensor(-0.7275, device='cuda:0', grad_fn=<AddBackward0>)]\n",
      "0.25958465484375653\n",
      "tensor(-95.3417, device='cuda:0', grad_fn=<NegBackward0>) [tensor(-47.6056, device='cuda:0', grad_fn=<NegBackward0>), tensor(-47.1533, device='cuda:0', grad_fn=<NegBackward0>), tensor(-0.7912, device='cuda:0', grad_fn=<AddBackward0>)]\n",
      "0.23929086886989026\n",
      "tensor(-95.3549, device='cuda:0', grad_fn=<NegBackward0>) [tensor(-47.6056, device='cuda:0', grad_fn=<NegBackward0>), tensor(-47.2313, device='cuda:0', grad_fn=<NegBackward0>), tensor(-0.6788, device='cuda:0', grad_fn=<AddBackward0>)]\n",
      "0.23364048431523857\n",
      "tensor(-95.4006, device='cuda:0', grad_fn=<NegBackward0>) [tensor(-47.6428, device='cuda:0', grad_fn=<NegBackward0>), tensor(-47.2462, device='cuda:0', grad_fn=<NegBackward0>), tensor(-0.6678, device='cuda:0', grad_fn=<AddBackward0>)]\n",
      "0.249936241332721\n",
      "tensor(-95.3751, device='cuda:0', grad_fn=<NegBackward0>) [tensor(-47.6428, device='cuda:0', grad_fn=<NegBackward0>), tensor(-47.1488, device='cuda:0', grad_fn=<NegBackward0>), tensor(-0.7922, device='cuda:0', grad_fn=<AddBackward0>)]\n",
      "0.2120087951169101\n",
      "tensor(-95.2236, device='cuda:0', grad_fn=<NegBackward0>) [tensor(-47.5757, device='cuda:0', grad_fn=<NegBackward0>), tensor(-47.2046, device='cuda:0', grad_fn=<NegBackward0>), tensor(-0.5578, device='cuda:0', grad_fn=<AddBackward0>)]\n",
      "0.2387187952772006\n",
      "tensor(-95.3192, device='cuda:0', grad_fn=<NegBackward0>) [tensor(-47.5757, device='cuda:0', grad_fn=<NegBackward0>), tensor(-47.2346, device='cuda:0', grad_fn=<NegBackward0>), tensor(-0.6635, device='cuda:0', grad_fn=<AddBackward0>)]\n",
      "0.2567015839120894\n",
      "tensor(-95.4425, device='cuda:0', grad_fn=<NegBackward0>) [tensor(-47.6892, device='cuda:0', grad_fn=<NegBackward0>), tensor(-47.1520, device='cuda:0', grad_fn=<NegBackward0>), tensor(-0.8243, device='cuda:0', grad_fn=<AddBackward0>)]\n",
      "0.25576844130873916\n",
      "tensor(-95.5616, device='cuda:0', grad_fn=<NegBackward0>) [tensor(-47.6892, device='cuda:0', grad_fn=<NegBackward0>), tensor(-47.2710, device='cuda:0', grad_fn=<NegBackward0>), tensor(-0.8246, device='cuda:0', grad_fn=<AddBackward0>)]\n",
      "0.24640896835230588\n",
      "tensor(-95.4989, device='cuda:0', grad_fn=<NegBackward0>) [tensor(-47.7176, device='cuda:0', grad_fn=<NegBackward0>), tensor(-47.2349, device='cuda:0', grad_fn=<NegBackward0>), tensor(-0.7269, device='cuda:0', grad_fn=<AddBackward0>)]\n",
      "0.23788814461933225\n",
      "tensor(-95.5801, device='cuda:0', grad_fn=<NegBackward0>) [tensor(-47.7176, device='cuda:0', grad_fn=<NegBackward0>), tensor(-47.3746, device='cuda:0', grad_fn=<NegBackward0>), tensor(-0.6289, device='cuda:0', grad_fn=<AddBackward0>)]\n",
      "0.2572218333780224\n",
      "tensor(-95.4129, device='cuda:0', grad_fn=<NegBackward0>) [tensor(-47.6487, device='cuda:0', grad_fn=<NegBackward0>), tensor(-47.1217, device='cuda:0', grad_fn=<NegBackward0>), tensor(-0.9013, device='cuda:0', grad_fn=<AddBackward0>)]\n",
      "0.25644947391282796\n",
      "tensor(-95.3392, device='cuda:0', grad_fn=<NegBackward0>) [tensor(-47.6487, device='cuda:0', grad_fn=<NegBackward0>), tensor(-47.0689, device='cuda:0', grad_fn=<NegBackward0>), tensor(-0.8619, device='cuda:0', grad_fn=<AddBackward0>)]\n",
      "0.2526591185944136\n",
      "tensor(-95.4604, device='cuda:0', grad_fn=<NegBackward0>) [tensor(-47.6466, device='cuda:0', grad_fn=<NegBackward0>), tensor(-47.2406, device='cuda:0', grad_fn=<NegBackward0>), tensor(-0.7741, device='cuda:0', grad_fn=<AddBackward0>)]\n",
      "0.2493232290187819\n",
      "tensor(-95.4509, device='cuda:0', grad_fn=<NegBackward0>) [tensor(-47.6466, device='cuda:0', grad_fn=<NegBackward0>), tensor(-47.2363, device='cuda:0', grad_fn=<NegBackward0>), tensor(-0.7648, device='cuda:0', grad_fn=<AddBackward0>)]\n",
      "0.2365848850656941\n",
      "tensor(-95.3167, device='cuda:0', grad_fn=<NegBackward0>) [tensor(-47.6098, device='cuda:0', grad_fn=<NegBackward0>), tensor(-47.1804, device='cuda:0', grad_fn=<NegBackward0>), tensor(-0.6931, device='cuda:0', grad_fn=<AddBackward0>)]\n",
      "0.20739482198235018\n",
      "tensor(-95.3618, device='cuda:0', grad_fn=<NegBackward0>) [tensor(-47.6098, device='cuda:0', grad_fn=<NegBackward0>), tensor(-47.2832, device='cuda:0', grad_fn=<NegBackward0>), tensor(-0.5981, device='cuda:0', grad_fn=<AddBackward0>)]\n",
      "0.24795522625831712\n",
      "tensor(-95.5084, device='cuda:0', grad_fn=<NegBackward0>) [tensor(-47.7164, device='cuda:0', grad_fn=<NegBackward0>), tensor(-47.1685, device='cuda:0', grad_fn=<NegBackward0>), tensor(-0.8655, device='cuda:0', grad_fn=<AddBackward0>)]\n"
     ]
    },
    {
     "name": "stdout",
     "output_type": "stream",
     "text": [
      "0.23095279780858508\n",
      "tensor(-95.5651, device='cuda:0', grad_fn=<NegBackward0>) [tensor(-47.7164, device='cuda:0', grad_fn=<NegBackward0>), tensor(-47.3259, device='cuda:0', grad_fn=<NegBackward0>), tensor(-0.6866, device='cuda:0', grad_fn=<AddBackward0>)]\n",
      "0.25444774237514156\n",
      "tensor(-95.5188, device='cuda:0', grad_fn=<NegBackward0>) [tensor(-47.6928, device='cuda:0', grad_fn=<NegBackward0>), tensor(-47.2502, device='cuda:0', grad_fn=<NegBackward0>), tensor(-0.7785, device='cuda:0', grad_fn=<AddBackward0>)]\n",
      "0.22959397464404135\n",
      "tensor(-95.5048, device='cuda:0', grad_fn=<NegBackward0>) [tensor(-47.6928, device='cuda:0', grad_fn=<NegBackward0>), tensor(-47.2692, device='cuda:0', grad_fn=<NegBackward0>), tensor(-0.7208, device='cuda:0', grad_fn=<AddBackward0>)]\n",
      "0.22484581910979626\n",
      "tensor(-95.5832, device='cuda:0', grad_fn=<NegBackward0>) [tensor(-47.6914, device='cuda:0', grad_fn=<NegBackward0>), tensor(-47.3547, device='cuda:0', grad_fn=<NegBackward0>), tensor(-0.7110, device='cuda:0', grad_fn=<AddBackward0>)]\n",
      "0.2333292144504197\n",
      "tensor(-95.4977, device='cuda:0', grad_fn=<NegBackward0>) [tensor(-47.6914, device='cuda:0', grad_fn=<NegBackward0>), tensor(-47.2759, device='cuda:0', grad_fn=<NegBackward0>), tensor(-0.6996, device='cuda:0', grad_fn=<AddBackward0>)]\n",
      "0.25077605063893715\n",
      "tensor(-95.6265, device='cuda:0', grad_fn=<NegBackward0>) [tensor(-47.7863, device='cuda:0', grad_fn=<NegBackward0>), tensor(-47.2761, device='cuda:0', grad_fn=<NegBackward0>), tensor(-0.7581, device='cuda:0', grad_fn=<AddBackward0>)]\n",
      "0.2704200614749422\n",
      "tensor(-95.6385, device='cuda:0', grad_fn=<NegBackward0>) [tensor(-47.7863, device='cuda:0', grad_fn=<NegBackward0>), tensor(-47.2027, device='cuda:0', grad_fn=<NegBackward0>), tensor(-0.9147, device='cuda:0', grad_fn=<AddBackward0>)]\n",
      "0.18410022305070028\n",
      "tensor(-95.5694, device='cuda:0', grad_fn=<NegBackward0>) [tensor(-47.6980, device='cuda:0', grad_fn=<NegBackward0>), tensor(-47.5089, device='cuda:0', grad_fn=<NegBackward0>), tensor(-0.4369, device='cuda:0', grad_fn=<AddBackward0>)]\n",
      "0.22948357326857022\n",
      "tensor(-95.5251, device='cuda:0', grad_fn=<NegBackward0>) [tensor(-47.6980, device='cuda:0', grad_fn=<NegBackward0>), tensor(-47.3399, device='cuda:0', grad_fn=<NegBackward0>), tensor(-0.6278, device='cuda:0', grad_fn=<AddBackward0>)]\n",
      "0.22867857734629812\n",
      "tensor(-95.5237, device='cuda:0', grad_fn=<NegBackward0>) [tensor(-47.7286, device='cuda:0', grad_fn=<NegBackward0>), tensor(-47.2998, device='cuda:0', grad_fn=<NegBackward0>), tensor(-0.6410, device='cuda:0', grad_fn=<AddBackward0>)]\n",
      "0.24616881127669862\n",
      "tensor(-95.5318, device='cuda:0', grad_fn=<NegBackward0>) [tensor(-47.7286, device='cuda:0', grad_fn=<NegBackward0>), tensor(-47.2360, device='cuda:0', grad_fn=<NegBackward0>), tensor(-0.7634, device='cuda:0', grad_fn=<AddBackward0>)]\n",
      "0.2692212695228404\n",
      "tensor(-95.5339, device='cuda:0', grad_fn=<NegBackward0>) [tensor(-47.6685, device='cuda:0', grad_fn=<NegBackward0>), tensor(-47.2134, device='cuda:0', grad_fn=<NegBackward0>), tensor(-0.9193, device='cuda:0', grad_fn=<AddBackward0>)]\n",
      "0.24560947260498012\n",
      "tensor(-95.4574, device='cuda:0', grad_fn=<NegBackward0>) [tensor(-47.6685, device='cuda:0', grad_fn=<NegBackward0>), tensor(-47.1966, device='cuda:0', grad_fn=<NegBackward0>), tensor(-0.8081, device='cuda:0', grad_fn=<AddBackward0>)]\n",
      "0.2467614457141647\n",
      "tensor(-95.6212, device='cuda:0', grad_fn=<NegBackward0>) [tensor(-47.7522, device='cuda:0', grad_fn=<NegBackward0>), tensor(-47.3200, device='cuda:0', grad_fn=<NegBackward0>), tensor(-0.7315, device='cuda:0', grad_fn=<AddBackward0>)]\n",
      "0.2543607840380512\n",
      "tensor(-95.6313, device='cuda:0', grad_fn=<NegBackward0>) [tensor(-47.7522, device='cuda:0', grad_fn=<NegBackward0>), tensor(-47.3259, device='cuda:0', grad_fn=<NegBackward0>), tensor(-0.7386, device='cuda:0', grad_fn=<AddBackward0>)]\n",
      "0.25789489648967184\n",
      "tensor(-95.6506, device='cuda:0', grad_fn=<NegBackward0>) [tensor(-47.7815, device='cuda:0', grad_fn=<NegBackward0>), tensor(-47.2455, device='cuda:0', grad_fn=<NegBackward0>), tensor(-0.8658, device='cuda:0', grad_fn=<AddBackward0>)]\n",
      "0.24834785477673166\n",
      "tensor(-95.6328, device='cuda:0', grad_fn=<NegBackward0>) [tensor(-47.7815, device='cuda:0', grad_fn=<NegBackward0>), tensor(-47.2810, device='cuda:0', grad_fn=<NegBackward0>), tensor(-0.7688, device='cuda:0', grad_fn=<AddBackward0>)]\n",
      "0.23393129646456634\n",
      "tensor(-95.6312, device='cuda:0', grad_fn=<NegBackward0>) [tensor(-47.7642, device='cuda:0', grad_fn=<NegBackward0>), tensor(-47.3715, device='cuda:0', grad_fn=<NegBackward0>), tensor(-0.6413, device='cuda:0', grad_fn=<AddBackward0>)]\n",
      "0.23359363588489246\n",
      "tensor(-95.5851, device='cuda:0', grad_fn=<NegBackward0>) [tensor(-47.7642, device='cuda:0', grad_fn=<NegBackward0>), tensor(-47.3063, device='cuda:0', grad_fn=<NegBackward0>), tensor(-0.6729, device='cuda:0', grad_fn=<AddBackward0>)]\n",
      "0.22736945136982362\n",
      "tensor(-95.8517, device='cuda:0', grad_fn=<NegBackward0>) [tensor(-47.8751, device='cuda:0', grad_fn=<NegBackward0>), tensor(-47.4926, device='cuda:0', grad_fn=<NegBackward0>), tensor(-0.6226, device='cuda:0', grad_fn=<AddBackward0>)]\n",
      "0.23369421796722845\n",
      "tensor(-95.8890, device='cuda:0', grad_fn=<NegBackward0>) [tensor(-47.8751, device='cuda:0', grad_fn=<NegBackward0>), tensor(-47.5209, device='cuda:0', grad_fn=<NegBackward0>), tensor(-0.6371, device='cuda:0', grad_fn=<AddBackward0>)]\n",
      "0.25593299009309933\n",
      "tensor(-95.7901, device='cuda:0', grad_fn=<NegBackward0>) [tensor(-47.8390, device='cuda:0', grad_fn=<NegBackward0>), tensor(-47.3902, device='cuda:0', grad_fn=<NegBackward0>), tensor(-0.7522, device='cuda:0', grad_fn=<AddBackward0>)]\n",
      "0.25053542911850457\n",
      "tensor(-95.7878, device='cuda:0', grad_fn=<NegBackward0>) [tensor(-47.8390, device='cuda:0', grad_fn=<NegBackward0>), tensor(-47.4089, device='cuda:0', grad_fn=<NegBackward0>), tensor(-0.7159, device='cuda:0', grad_fn=<AddBackward0>)]\n",
      "0.24313714194844677\n",
      "tensor(-95.9823, device='cuda:0', grad_fn=<NegBackward0>) [tensor(-47.9324, device='cuda:0', grad_fn=<NegBackward0>), tensor(-47.4857, device='cuda:0', grad_fn=<NegBackward0>), tensor(-0.7581, device='cuda:0', grad_fn=<AddBackward0>)]\n",
      "0.24659413792787482\n",
      "tensor(-95.9226, device='cuda:0', grad_fn=<NegBackward0>) [tensor(-47.9324, device='cuda:0', grad_fn=<NegBackward0>), tensor(-47.4141, device='cuda:0', grad_fn=<NegBackward0>), tensor(-0.7791, device='cuda:0', grad_fn=<AddBackward0>)]\n",
      "0.2167593694657677\n",
      "tensor(-95.7960, device='cuda:0', grad_fn=<NegBackward0>) [tensor(-47.8611, device='cuda:0', grad_fn=<NegBackward0>), tensor(-47.5187, device='cuda:0', grad_fn=<NegBackward0>), tensor(-0.5162, device='cuda:0', grad_fn=<AddBackward0>)]\n",
      "0.2627060701405942\n",
      "tensor(-95.8403, device='cuda:0', grad_fn=<NegBackward0>) [tensor(-47.8611, device='cuda:0', grad_fn=<NegBackward0>), tensor(-47.3816, device='cuda:0', grad_fn=<NegBackward0>), tensor(-0.8177, device='cuda:0', grad_fn=<AddBackward0>)]\n",
      "0.2636098829600636\n",
      "tensor(-95.9367, device='cuda:0', grad_fn=<NegBackward0>) [tensor(-47.8777, device='cuda:0', grad_fn=<NegBackward0>), tensor(-47.3991, device='cuda:0', grad_fn=<NegBackward0>), tensor(-0.9347, device='cuda:0', grad_fn=<AddBackward0>)]\n",
      "0.24122614383830637\n",
      "tensor(-95.8899, device='cuda:0', grad_fn=<NegBackward0>) [tensor(-47.8777, device='cuda:0', grad_fn=<NegBackward0>), tensor(-47.4591, device='cuda:0', grad_fn=<NegBackward0>), tensor(-0.7386, device='cuda:0', grad_fn=<AddBackward0>)]\n",
      "0.24271249991546642\n",
      "tensor(-95.8081, device='cuda:0', grad_fn=<NegBackward0>) [tensor(-47.8635, device='cuda:0', grad_fn=<NegBackward0>), tensor(-47.3620, device='cuda:0', grad_fn=<NegBackward0>), tensor(-0.7907, device='cuda:0', grad_fn=<AddBackward0>)]\n",
      "0.2258972015279113\n",
      "tensor(-95.8964, device='cuda:0', grad_fn=<NegBackward0>) [tensor(-47.8635, device='cuda:0', grad_fn=<NegBackward0>), tensor(-47.5338, device='cuda:0', grad_fn=<NegBackward0>), tensor(-0.6472, device='cuda:0', grad_fn=<AddBackward0>)]\n",
      "0.2410476010561657\n",
      "tensor(-95.9409, device='cuda:0', grad_fn=<NegBackward0>) [tensor(-47.9230, device='cuda:0', grad_fn=<NegBackward0>), tensor(-47.4726, device='cuda:0', grad_fn=<NegBackward0>), tensor(-0.7251, device='cuda:0', grad_fn=<AddBackward0>)]\n",
      "0.23945055328441386\n",
      "tensor(-95.9643, device='cuda:0', grad_fn=<NegBackward0>) [tensor(-47.9230, device='cuda:0', grad_fn=<NegBackward0>), tensor(-47.5104, device='cuda:0', grad_fn=<NegBackward0>), tensor(-0.7005, device='cuda:0', grad_fn=<AddBackward0>)]\n"
     ]
    },
    {
     "name": "stdout",
     "output_type": "stream",
     "text": [
      "0.2435227742425525\n",
      "tensor(-95.8657, device='cuda:0', grad_fn=<NegBackward0>) [tensor(-47.8999, device='cuda:0', grad_fn=<NegBackward0>), tensor(-47.4033, device='cuda:0', grad_fn=<NegBackward0>), tensor(-0.7552, device='cuda:0', grad_fn=<AddBackward0>)]\n",
      "0.2412546575612902\n",
      "tensor(-95.8586, device='cuda:0', grad_fn=<NegBackward0>) [tensor(-47.8999, device='cuda:0', grad_fn=<NegBackward0>), tensor(-47.4180, device='cuda:0', grad_fn=<NegBackward0>), tensor(-0.7171, device='cuda:0', grad_fn=<AddBackward0>)]\n",
      "0.23861977755191002\n",
      "tensor(-95.4357, device='cuda:0', grad_fn=<NegBackward0>) [tensor(-47.6383, device='cuda:0', grad_fn=<NegBackward0>), tensor(-47.2747, device='cuda:0', grad_fn=<NegBackward0>), tensor(-0.6866, device='cuda:0', grad_fn=<AddBackward0>)]\n",
      "0.2266314871915199\n",
      "tensor(-95.3219, device='cuda:0', grad_fn=<NegBackward0>) [tensor(-47.6383, device='cuda:0', grad_fn=<NegBackward0>), tensor(-47.1729, device='cuda:0', grad_fn=<NegBackward0>), tensor(-0.6666, device='cuda:0', grad_fn=<AddBackward0>)]\n",
      "0.2231603116668247\n",
      "tensor(-95.6507, device='cuda:0', grad_fn=<NegBackward0>) [tensor(-47.7537, device='cuda:0', grad_fn=<NegBackward0>), tensor(-47.4170, device='cuda:0', grad_fn=<NegBackward0>), tensor(-0.6161, device='cuda:0', grad_fn=<AddBackward0>)]\n",
      "0.23993552329498238\n",
      "tensor(-95.6301, device='cuda:0', grad_fn=<NegBackward0>) [tensor(-47.7537, device='cuda:0', grad_fn=<NegBackward0>), tensor(-47.3738, device='cuda:0', grad_fn=<NegBackward0>), tensor(-0.6531, device='cuda:0', grad_fn=<AddBackward0>)]\n",
      "0.2605355098959361\n",
      "tensor(-95.6795, device='cuda:0', grad_fn=<NegBackward0>) [tensor(-47.7891, device='cuda:0', grad_fn=<NegBackward0>), tensor(-47.3090, device='cuda:0', grad_fn=<NegBackward0>), tensor(-0.7886, device='cuda:0', grad_fn=<AddBackward0>)]\n",
      "0.23481568678046194\n",
      "tensor(-95.6596, device='cuda:0', grad_fn=<NegBackward0>) [tensor(-47.7891, device='cuda:0', grad_fn=<NegBackward0>), tensor(-47.3392, device='cuda:0', grad_fn=<NegBackward0>), tensor(-0.7012, device='cuda:0', grad_fn=<AddBackward0>)]\n",
      "0.20420226851052928\n",
      "tensor(-95.4486, device='cuda:0', grad_fn=<NegBackward0>) [tensor(-47.6831, device='cuda:0', grad_fn=<NegBackward0>), tensor(-47.3616, device='cuda:0', grad_fn=<NegBackward0>), tensor(-0.4976, device='cuda:0', grad_fn=<AddBackward0>)]\n",
      "0.22084950452552565\n",
      "tensor(-95.5468, device='cuda:0', grad_fn=<NegBackward0>) [tensor(-47.6831, device='cuda:0', grad_fn=<NegBackward0>), tensor(-47.4031, device='cuda:0', grad_fn=<NegBackward0>), tensor(-0.5851, device='cuda:0', grad_fn=<AddBackward0>)]\n",
      "0.23376056207298515\n",
      "tensor(-95.6939, device='cuda:0', grad_fn=<NegBackward0>) [tensor(-47.7879, device='cuda:0', grad_fn=<NegBackward0>), tensor(-47.3810, device='cuda:0', grad_fn=<NegBackward0>), tensor(-0.6905, device='cuda:0', grad_fn=<AddBackward0>)]\n",
      "0.21764753851447136\n",
      "tensor(-95.6471, device='cuda:0', grad_fn=<NegBackward0>) [tensor(-47.7879, device='cuda:0', grad_fn=<NegBackward0>), tensor(-47.3967, device='cuda:0', grad_fn=<NegBackward0>), tensor(-0.5880, device='cuda:0', grad_fn=<AddBackward0>)]\n",
      "0.27913271116051214\n",
      "tensor(-95.5716, device='cuda:0', grad_fn=<NegBackward0>) [tensor(-47.7881, device='cuda:0', grad_fn=<NegBackward0>), tensor(-47.1003, device='cuda:0', grad_fn=<NegBackward0>), tensor(-0.9803, device='cuda:0', grad_fn=<AddBackward0>)]\n",
      "0.19934311323222106\n",
      "tensor(-95.6583, device='cuda:0', grad_fn=<NegBackward0>) [tensor(-47.7881, device='cuda:0', grad_fn=<NegBackward0>), tensor(-47.4609, device='cuda:0', grad_fn=<NegBackward0>), tensor(-0.5058, device='cuda:0', grad_fn=<AddBackward0>)]\n",
      "0.2456273044667529\n",
      "tensor(-95.9802, device='cuda:0', grad_fn=<NegBackward0>) [tensor(-47.9221, device='cuda:0', grad_fn=<NegBackward0>), tensor(-47.5021, device='cuda:0', grad_fn=<NegBackward0>), tensor(-0.7436, device='cuda:0', grad_fn=<AddBackward0>)]\n",
      "0.25143479533522467\n",
      "tensor(-95.9306, device='cuda:0', grad_fn=<NegBackward0>) [tensor(-47.9221, device='cuda:0', grad_fn=<NegBackward0>), tensor(-47.4600, device='cuda:0', grad_fn=<NegBackward0>), tensor(-0.7305, device='cuda:0', grad_fn=<AddBackward0>)]\n",
      "0.2533082377991184\n",
      "tensor(-95.9831, device='cuda:0', grad_fn=<NegBackward0>) [tensor(-47.8898, device='cuda:0', grad_fn=<NegBackward0>), tensor(-47.5175, device='cuda:0', grad_fn=<NegBackward0>), tensor(-0.7785, device='cuda:0', grad_fn=<AddBackward0>)]\n",
      "0.2572960066401501\n",
      "tensor(-95.8537, device='cuda:0', grad_fn=<NegBackward0>) [tensor(-47.8898, device='cuda:0', grad_fn=<NegBackward0>), tensor(-47.3977, device='cuda:0', grad_fn=<NegBackward0>), tensor(-0.7615, device='cuda:0', grad_fn=<AddBackward0>)]\n",
      "0.2334354294112548\n",
      "tensor(-95.9027, device='cuda:0', grad_fn=<NegBackward0>) [tensor(-47.8945, device='cuda:0', grad_fn=<NegBackward0>), tensor(-47.5009, device='cuda:0', grad_fn=<NegBackward0>), tensor(-0.6609, device='cuda:0', grad_fn=<AddBackward0>)]\n",
      "0.23768884834321807\n",
      "tensor(-95.9195, device='cuda:0', grad_fn=<NegBackward0>) [tensor(-47.8945, device='cuda:0', grad_fn=<NegBackward0>), tensor(-47.5324, device='cuda:0', grad_fn=<NegBackward0>), tensor(-0.6366, device='cuda:0', grad_fn=<AddBackward0>)]\n",
      "0.23387979710683335\n",
      "tensor(-95.9659, device='cuda:0', grad_fn=<NegBackward0>) [tensor(-47.9203, device='cuda:0', grad_fn=<NegBackward0>), tensor(-47.5510, device='cuda:0', grad_fn=<NegBackward0>), tensor(-0.6398, device='cuda:0', grad_fn=<AddBackward0>)]\n",
      "0.2491998708550904\n",
      "tensor(-95.9986, device='cuda:0', grad_fn=<NegBackward0>) [tensor(-47.9203, device='cuda:0', grad_fn=<NegBackward0>), tensor(-47.4562, device='cuda:0', grad_fn=<NegBackward0>), tensor(-0.8627, device='cuda:0', grad_fn=<AddBackward0>)]\n",
      "0.2621486779564347\n",
      "tensor(-95.5730, device='cuda:0', grad_fn=<NegBackward0>) [tensor(-47.7334, device='cuda:0', grad_fn=<NegBackward0>), tensor(-47.2362, device='cuda:0', grad_fn=<NegBackward0>), tensor(-0.8282, device='cuda:0', grad_fn=<AddBackward0>)]\n",
      "0.21557061115258827\n",
      "tensor(-95.5075, device='cuda:0', grad_fn=<NegBackward0>) [tensor(-47.7334, device='cuda:0', grad_fn=<NegBackward0>), tensor(-47.3133, device='cuda:0', grad_fn=<NegBackward0>), tensor(-0.5854, device='cuda:0', grad_fn=<AddBackward0>)]\n",
      "0.24061319933882114\n",
      "tensor(-95.6739, device='cuda:0', grad_fn=<NegBackward0>) [tensor(-47.8318, device='cuda:0', grad_fn=<NegBackward0>), tensor(-47.2850, device='cuda:0', grad_fn=<NegBackward0>), tensor(-0.7455, device='cuda:0', grad_fn=<AddBackward0>)]\n",
      "0.2062796658284069\n",
      "tensor(-95.7570, device='cuda:0', grad_fn=<NegBackward0>) [tensor(-47.8318, device='cuda:0', grad_fn=<NegBackward0>), tensor(-47.4999, device='cuda:0', grad_fn=<NegBackward0>), tensor(-0.5301, device='cuda:0', grad_fn=<AddBackward0>)]\n",
      "0.24112178774671658\n",
      "tensor(-96.0167, device='cuda:0', grad_fn=<NegBackward0>) [tensor(-47.9026, device='cuda:0', grad_fn=<NegBackward0>), tensor(-47.5654, device='cuda:0', grad_fn=<NegBackward0>), tensor(-0.7310, device='cuda:0', grad_fn=<AddBackward0>)]\n",
      "0.24866029070929085\n",
      "tensor(-95.9043, device='cuda:0', grad_fn=<NegBackward0>) [tensor(-47.9026, device='cuda:0', grad_fn=<NegBackward0>), tensor(-47.3864, device='cuda:0', grad_fn=<NegBackward0>), tensor(-0.8503, device='cuda:0', grad_fn=<AddBackward0>)]\n",
      "0.24421774549694092\n",
      "tensor(-95.6583, device='cuda:0', grad_fn=<NegBackward0>) [tensor(-47.7772, device='cuda:0', grad_fn=<NegBackward0>), tensor(-47.3282, device='cuda:0', grad_fn=<NegBackward0>), tensor(-0.7383, device='cuda:0', grad_fn=<AddBackward0>)]\n",
      "0.25336221913157514\n",
      "tensor(-95.6264, device='cuda:0', grad_fn=<NegBackward0>) [tensor(-47.7772, device='cuda:0', grad_fn=<NegBackward0>), tensor(-47.2916, device='cuda:0', grad_fn=<NegBackward0>), tensor(-0.7464, device='cuda:0', grad_fn=<AddBackward0>)]\n",
      "0.23970338357364654\n",
      "tensor(-96.0301, device='cuda:0', grad_fn=<NegBackward0>) [tensor(-47.9551, device='cuda:0', grad_fn=<NegBackward0>), tensor(-47.5849, device='cuda:0', grad_fn=<NegBackward0>), tensor(-0.6324, device='cuda:0', grad_fn=<AddBackward0>)]\n",
      "0.244242376336982\n",
      "tensor(-96.0192, device='cuda:0', grad_fn=<NegBackward0>) [tensor(-47.9551, device='cuda:0', grad_fn=<NegBackward0>), tensor(-47.5635, device='cuda:0', grad_fn=<NegBackward0>), tensor(-0.6497, device='cuda:0', grad_fn=<AddBackward0>)]\n",
      "0.2568169547891602\n",
      "tensor(-96.0341, device='cuda:0', grad_fn=<NegBackward0>) [tensor(-47.9749, device='cuda:0', grad_fn=<NegBackward0>), tensor(-47.4821, device='cuda:0', grad_fn=<NegBackward0>), tensor(-0.7809, device='cuda:0', grad_fn=<AddBackward0>)]\n"
     ]
    },
    {
     "name": "stdout",
     "output_type": "stream",
     "text": [
      "0.22801861990364705\n",
      "tensor(-96.0166, device='cuda:0', grad_fn=<NegBackward0>) [tensor(-47.9749, device='cuda:0', grad_fn=<NegBackward0>), tensor(-47.5621, device='cuda:0', grad_fn=<NegBackward0>), tensor(-0.6154, device='cuda:0', grad_fn=<AddBackward0>)]\n",
      "0.17691882110483165\n",
      "tensor(-96.1463, device='cuda:0', grad_fn=<NegBackward0>) [tensor(-48.0172, device='cuda:0', grad_fn=<NegBackward0>), tensor(-47.8226, device='cuda:0', grad_fn=<NegBackward0>), tensor(-0.3588, device='cuda:0', grad_fn=<AddBackward0>)]\n",
      "0.2656883844077579\n",
      "tensor(-96.1497, device='cuda:0', grad_fn=<NegBackward0>) [tensor(-48.0172, device='cuda:0', grad_fn=<NegBackward0>), tensor(-47.5118, device='cuda:0', grad_fn=<NegBackward0>), tensor(-0.8601, device='cuda:0', grad_fn=<AddBackward0>)]\n",
      "0.22421578579810517\n",
      "tensor(-95.9989, device='cuda:0', grad_fn=<NegBackward0>) [tensor(-47.9611, device='cuda:0', grad_fn=<NegBackward0>), tensor(-47.5931, device='cuda:0', grad_fn=<NegBackward0>), tensor(-0.5601, device='cuda:0', grad_fn=<AddBackward0>)]\n",
      "0.24410085917490837\n",
      "tensor(-96.0624, device='cuda:0', grad_fn=<NegBackward0>) [tensor(-47.9611, device='cuda:0', grad_fn=<NegBackward0>), tensor(-47.5486, device='cuda:0', grad_fn=<NegBackward0>), tensor(-0.7378, device='cuda:0', grad_fn=<AddBackward0>)]\n",
      "0.21599808496454984\n",
      "tensor(-95.9288, device='cuda:0', grad_fn=<NegBackward0>) [tensor(-47.9165, device='cuda:0', grad_fn=<NegBackward0>), tensor(-47.5372, device='cuda:0', grad_fn=<NegBackward0>), tensor(-0.6082, device='cuda:0', grad_fn=<AddBackward0>)]\n",
      "0.24554262393095366\n",
      "tensor(-95.9395, device='cuda:0', grad_fn=<NegBackward0>) [tensor(-47.9165, device='cuda:0', grad_fn=<NegBackward0>), tensor(-47.4906, device='cuda:0', grad_fn=<NegBackward0>), tensor(-0.7030, device='cuda:0', grad_fn=<AddBackward0>)]\n",
      "0.2459100959340953\n",
      "tensor(-96.0521, device='cuda:0', grad_fn=<NegBackward0>) [tensor(-47.9415, device='cuda:0', grad_fn=<NegBackward0>), tensor(-47.5387, device='cuda:0', grad_fn=<NegBackward0>), tensor(-0.7718, device='cuda:0', grad_fn=<AddBackward0>)]\n",
      "0.24566696889375403\n",
      "tensor(-95.9485, device='cuda:0', grad_fn=<NegBackward0>) [tensor(-47.9415, device='cuda:0', grad_fn=<NegBackward0>), tensor(-47.4334, device='cuda:0', grad_fn=<NegBackward0>), tensor(-0.7746, device='cuda:0', grad_fn=<AddBackward0>)]\n",
      "0.2314109650133454\n",
      "tensor(-96.1464, device='cuda:0', grad_fn=<NegBackward0>) [tensor(-47.9766, device='cuda:0', grad_fn=<NegBackward0>), tensor(-47.6602, device='cuda:0', grad_fn=<NegBackward0>), tensor(-0.6645, device='cuda:0', grad_fn=<AddBackward0>)]\n",
      "0.2580495446939865\n",
      "tensor(-96.1774, device='cuda:0', grad_fn=<NegBackward0>) [tensor(-47.9766, device='cuda:0', grad_fn=<NegBackward0>), tensor(-47.6310, device='cuda:0', grad_fn=<NegBackward0>), tensor(-0.7678, device='cuda:0', grad_fn=<AddBackward0>)]\n",
      "0.22537603233118675\n",
      "tensor(-96.0557, device='cuda:0', grad_fn=<NegBackward0>) [tensor(-47.9785, device='cuda:0', grad_fn=<NegBackward0>), tensor(-47.5859, device='cuda:0', grad_fn=<NegBackward0>), tensor(-0.6346, device='cuda:0', grad_fn=<AddBackward0>)]\n",
      "0.22568558977069686\n",
      "tensor(-96.0983, device='cuda:0', grad_fn=<NegBackward0>) [tensor(-47.9785, device='cuda:0', grad_fn=<NegBackward0>), tensor(-47.6407, device='cuda:0', grad_fn=<NegBackward0>), tensor(-0.6147, device='cuda:0', grad_fn=<AddBackward0>)]\n",
      "0.22869392170906785\n",
      "tensor(-95.9294, device='cuda:0', grad_fn=<NegBackward0>) [tensor(-47.9037, device='cuda:0', grad_fn=<NegBackward0>), tensor(-47.5290, device='cuda:0', grad_fn=<NegBackward0>), tensor(-0.6433, device='cuda:0', grad_fn=<AddBackward0>)]\n",
      "0.2496267112636785\n",
      "tensor(-95.9127, device='cuda:0', grad_fn=<NegBackward0>) [tensor(-47.9037, device='cuda:0', grad_fn=<NegBackward0>), tensor(-47.4020, device='cuda:0', grad_fn=<NegBackward0>), tensor(-0.8350, device='cuda:0', grad_fn=<AddBackward0>)]\n",
      "0.23836878344089396\n",
      "tensor(-95.9788, device='cuda:0', grad_fn=<NegBackward0>) [tensor(-47.9311, device='cuda:0', grad_fn=<NegBackward0>), tensor(-47.5082, device='cuda:0', grad_fn=<NegBackward0>), tensor(-0.7150, device='cuda:0', grad_fn=<AddBackward0>)]\n",
      "0.2493377467084592\n",
      "tensor(-95.9994, device='cuda:0', grad_fn=<NegBackward0>) [tensor(-47.9311, device='cuda:0', grad_fn=<NegBackward0>), tensor(-47.5343, device='cuda:0', grad_fn=<NegBackward0>), tensor(-0.7058, device='cuda:0', grad_fn=<AddBackward0>)]\n",
      "0.26328579522458\n",
      "tensor(-96.1082, device='cuda:0', grad_fn=<NegBackward0>) [tensor(-48.0044, device='cuda:0', grad_fn=<NegBackward0>), tensor(-47.5015, device='cuda:0', grad_fn=<NegBackward0>), tensor(-0.8263, device='cuda:0', grad_fn=<AddBackward0>)]\n",
      "0.23680931446323236\n",
      "tensor(-96.1317, device='cuda:0', grad_fn=<NegBackward0>) [tensor(-48.0044, device='cuda:0', grad_fn=<NegBackward0>), tensor(-47.6358, device='cuda:0', grad_fn=<NegBackward0>), tensor(-0.6348, device='cuda:0', grad_fn=<AddBackward0>)]\n",
      "0.23672843130699883\n",
      "tensor(-96.1958, device='cuda:0', grad_fn=<NegBackward0>) [tensor(-48.0296, device='cuda:0', grad_fn=<NegBackward0>), tensor(-47.6537, device='cuda:0', grad_fn=<NegBackward0>), tensor(-0.6694, device='cuda:0', grad_fn=<AddBackward0>)]\n",
      "0.23669399951561224\n",
      "tensor(-96.2259, device='cuda:0', grad_fn=<NegBackward0>) [tensor(-48.0296, device='cuda:0', grad_fn=<NegBackward0>), tensor(-47.6932, device='cuda:0', grad_fn=<NegBackward0>), tensor(-0.6539, device='cuda:0', grad_fn=<AddBackward0>)]\n",
      "0.25640846821331836\n",
      "tensor(-96.1237, device='cuda:0', grad_fn=<NegBackward0>) [tensor(-47.9827, device='cuda:0', grad_fn=<NegBackward0>), tensor(-47.5846, device='cuda:0', grad_fn=<NegBackward0>), tensor(-0.7443, device='cuda:0', grad_fn=<AddBackward0>)]\n",
      "0.21083984427683963\n",
      "tensor(-96.1029, device='cuda:0', grad_fn=<NegBackward0>) [tensor(-47.9827, device='cuda:0', grad_fn=<NegBackward0>), tensor(-47.7060, device='cuda:0', grad_fn=<NegBackward0>), tensor(-0.5131, device='cuda:0', grad_fn=<AddBackward0>)]\n",
      "0.23774443403636217\n",
      "tensor(-96.4258, device='cuda:0', grad_fn=<NegBackward0>) [tensor(-48.1480, device='cuda:0', grad_fn=<NegBackward0>), tensor(-47.7366, device='cuda:0', grad_fn=<NegBackward0>), tensor(-0.7182, device='cuda:0', grad_fn=<AddBackward0>)]\n",
      "0.24687364943401413\n",
      "tensor(-96.3326, device='cuda:0', grad_fn=<NegBackward0>) [tensor(-48.1480, device='cuda:0', grad_fn=<NegBackward0>), tensor(-47.6442, device='cuda:0', grad_fn=<NegBackward0>), tensor(-0.7166, device='cuda:0', grad_fn=<AddBackward0>)]\n",
      "0.257837717216976\n",
      "tensor(-96.0396, device='cuda:0', grad_fn=<NegBackward0>) [tensor(-47.9542, device='cuda:0', grad_fn=<NegBackward0>), tensor(-47.5007, device='cuda:0', grad_fn=<NegBackward0>), tensor(-0.7944, device='cuda:0', grad_fn=<AddBackward0>)]\n",
      "0.26467098538025363\n",
      "tensor(-96.1490, device='cuda:0', grad_fn=<NegBackward0>) [tensor(-47.9542, device='cuda:0', grad_fn=<NegBackward0>), tensor(-47.5572, device='cuda:0', grad_fn=<NegBackward0>), tensor(-0.8922, device='cuda:0', grad_fn=<AddBackward0>)]\n",
      "0.22496215783004214\n",
      "tensor(-95.7882, device='cuda:0', grad_fn=<NegBackward0>) [tensor(-47.8496, device='cuda:0', grad_fn=<NegBackward0>), tensor(-47.4405, device='cuda:0', grad_fn=<NegBackward0>), tensor(-0.6456, device='cuda:0', grad_fn=<AddBackward0>)]\n",
      "0.22974119026223408\n",
      "tensor(-95.7817, device='cuda:0', grad_fn=<NegBackward0>) [tensor(-47.8496, device='cuda:0', grad_fn=<NegBackward0>), tensor(-47.4496, device='cuda:0', grad_fn=<NegBackward0>), tensor(-0.6200, device='cuda:0', grad_fn=<AddBackward0>)]\n",
      "0.2420000246803015\n",
      "tensor(-96.0408, device='cuda:0', grad_fn=<NegBackward0>) [tensor(-47.9764, device='cuda:0', grad_fn=<NegBackward0>), tensor(-47.5277, device='cuda:0', grad_fn=<NegBackward0>), tensor(-0.7105, device='cuda:0', grad_fn=<AddBackward0>)]\n",
      "0.23024325351641836\n",
      "tensor(-96.0495, device='cuda:0', grad_fn=<NegBackward0>) [tensor(-47.9764, device='cuda:0', grad_fn=<NegBackward0>), tensor(-47.5933, device='cuda:0', grad_fn=<NegBackward0>), tensor(-0.6157, device='cuda:0', grad_fn=<AddBackward0>)]\n",
      "0.2565309827569032\n",
      "tensor(-96.0318, device='cuda:0', grad_fn=<NegBackward0>) [tensor(-47.9602, device='cuda:0', grad_fn=<NegBackward0>), tensor(-47.4760, device='cuda:0', grad_fn=<NegBackward0>), tensor(-0.8143, device='cuda:0', grad_fn=<AddBackward0>)]\n",
      "0.24587208899003105\n",
      "tensor(-96.0564, device='cuda:0', grad_fn=<NegBackward0>) [tensor(-47.9602, device='cuda:0', grad_fn=<NegBackward0>), tensor(-47.5816, device='cuda:0', grad_fn=<NegBackward0>), tensor(-0.6729, device='cuda:0', grad_fn=<AddBackward0>)]\n"
     ]
    },
    {
     "name": "stdout",
     "output_type": "stream",
     "text": [
      "0.24938658312228312\n",
      "tensor(-96.3251, device='cuda:0', grad_fn=<NegBackward0>) [tensor(-48.1099, device='cuda:0', grad_fn=<NegBackward0>), tensor(-47.6242, device='cuda:0', grad_fn=<NegBackward0>), tensor(-0.8059, device='cuda:0', grad_fn=<AddBackward0>)]\n",
      "0.2158035995051424\n",
      "tensor(-96.3121, device='cuda:0', grad_fn=<NegBackward0>) [tensor(-48.1099, device='cuda:0', grad_fn=<NegBackward0>), tensor(-47.7452, device='cuda:0', grad_fn=<NegBackward0>), tensor(-0.5793, device='cuda:0', grad_fn=<AddBackward0>)]\n",
      "0.2506561843998101\n",
      "tensor(-95.8710, device='cuda:0', grad_fn=<NegBackward0>) [tensor(-47.9470, device='cuda:0', grad_fn=<NegBackward0>), tensor(-47.3274, device='cuda:0', grad_fn=<NegBackward0>), tensor(-0.8160, device='cuda:0', grad_fn=<AddBackward0>)]\n",
      "0.20562178266049744\n",
      "tensor(-96.0490, device='cuda:0', grad_fn=<NegBackward0>) [tensor(-47.9470, device='cuda:0', grad_fn=<NegBackward0>), tensor(-47.7237, device='cuda:0', grad_fn=<NegBackward0>), tensor(-0.4599, device='cuda:0', grad_fn=<AddBackward0>)]\n",
      "0.16499613510625843\n",
      "tensor(-96.3521, device='cuda:0', grad_fn=<NegBackward0>) [tensor(-48.1223, device='cuda:0', grad_fn=<NegBackward0>), tensor(-47.9525, device='cuda:0', grad_fn=<NegBackward0>), tensor(-0.3196, device='cuda:0', grad_fn=<AddBackward0>)]\n",
      "0.24178095045165915\n",
      "tensor(-96.2510, device='cuda:0', grad_fn=<NegBackward0>) [tensor(-48.1223, device='cuda:0', grad_fn=<NegBackward0>), tensor(-47.5479, device='cuda:0', grad_fn=<NegBackward0>), tensor(-0.7875, device='cuda:0', grad_fn=<AddBackward0>)]\n",
      "0.23260960800099537\n",
      "tensor(-95.9426, device='cuda:0', grad_fn=<NegBackward0>) [tensor(-47.8892, device='cuda:0', grad_fn=<NegBackward0>), tensor(-47.5586, device='cuda:0', grad_fn=<NegBackward0>), tensor(-0.6400, device='cuda:0', grad_fn=<AddBackward0>)]\n",
      "0.2535165756343145\n",
      "tensor(-95.9761, device='cuda:0', grad_fn=<NegBackward0>) [tensor(-47.8892, device='cuda:0', grad_fn=<NegBackward0>), tensor(-47.5521, device='cuda:0', grad_fn=<NegBackward0>), tensor(-0.7070, device='cuda:0', grad_fn=<AddBackward0>)]\n",
      "0.25311391333811406\n",
      "tensor(-96.1083, device='cuda:0', grad_fn=<NegBackward0>) [tensor(-47.9932, device='cuda:0', grad_fn=<NegBackward0>), tensor(-47.5601, device='cuda:0', grad_fn=<NegBackward0>), tensor(-0.7420, device='cuda:0', grad_fn=<AddBackward0>)]\n",
      "0.2437550044646176\n",
      "tensor(-96.0665, device='cuda:0', grad_fn=<NegBackward0>) [tensor(-47.9932, device='cuda:0', grad_fn=<NegBackward0>), tensor(-47.5662, device='cuda:0', grad_fn=<NegBackward0>), tensor(-0.6605, device='cuda:0', grad_fn=<AddBackward0>)]\n",
      "0.24515115133153859\n",
      "tensor(-96.2396, device='cuda:0', grad_fn=<NegBackward0>) [tensor(-48.0703, device='cuda:0', grad_fn=<NegBackward0>), tensor(-47.6133, device='cuda:0', grad_fn=<NegBackward0>), tensor(-0.7438, device='cuda:0', grad_fn=<AddBackward0>)]\n",
      "0.2732648127315714\n",
      "tensor(-96.3236, device='cuda:0', grad_fn=<NegBackward0>) [tensor(-48.0703, device='cuda:0', grad_fn=<NegBackward0>), tensor(-47.6194, device='cuda:0', grad_fn=<NegBackward0>), tensor(-0.8851, device='cuda:0', grad_fn=<AddBackward0>)]\n",
      "0.2769225642596188\n",
      "tensor(-96.0579, device='cuda:0', grad_fn=<NegBackward0>) [tensor(-47.9490, device='cuda:0', grad_fn=<NegBackward0>), tensor(-47.4767, device='cuda:0', grad_fn=<NegBackward0>), tensor(-0.8816, device='cuda:0', grad_fn=<AddBackward0>)]\n",
      "0.22588752276506413\n",
      "tensor(-96.0408, device='cuda:0', grad_fn=<NegBackward0>) [tensor(-47.9490, device='cuda:0', grad_fn=<NegBackward0>), tensor(-47.6093, device='cuda:0', grad_fn=<NegBackward0>), tensor(-0.6201, device='cuda:0', grad_fn=<AddBackward0>)]\n",
      "0.2225469572132526\n",
      "tensor(-96.1616, device='cuda:0', grad_fn=<NegBackward0>) [tensor(-48.0322, device='cuda:0', grad_fn=<NegBackward0>), tensor(-47.6606, device='cuda:0', grad_fn=<NegBackward0>), tensor(-0.5980, device='cuda:0', grad_fn=<AddBackward0>)]\n",
      "0.2191289637905633\n",
      "tensor(-96.1803, device='cuda:0', grad_fn=<NegBackward0>) [tensor(-48.0322, device='cuda:0', grad_fn=<NegBackward0>), tensor(-47.6908, device='cuda:0', grad_fn=<NegBackward0>), tensor(-0.5796, device='cuda:0', grad_fn=<AddBackward0>)]\n",
      "0.20891082694120758\n",
      "tensor(-95.7519, device='cuda:0', grad_fn=<NegBackward0>) [tensor(-47.8148, device='cuda:0', grad_fn=<NegBackward0>), tensor(-47.5321, device='cuda:0', grad_fn=<NegBackward0>), tensor(-0.4993, device='cuda:0', grad_fn=<AddBackward0>)]\n",
      "0.27220855093587626\n",
      "tensor(-95.6879, device='cuda:0', grad_fn=<NegBackward0>) [tensor(-47.8148, device='cuda:0', grad_fn=<NegBackward0>), tensor(-47.2272, device='cuda:0', grad_fn=<NegBackward0>), tensor(-0.9078, device='cuda:0', grad_fn=<AddBackward0>)]\n",
      "0.23003814531697586\n",
      "tensor(-95.8760, device='cuda:0', grad_fn=<NegBackward0>) [tensor(-47.9160, device='cuda:0', grad_fn=<NegBackward0>), tensor(-47.4825, device='cuda:0', grad_fn=<NegBackward0>), tensor(-0.6120, device='cuda:0', grad_fn=<AddBackward0>)]\n",
      "0.2861045479686953\n",
      "tensor(-96.0197, device='cuda:0', grad_fn=<NegBackward0>) [tensor(-47.9160, device='cuda:0', grad_fn=<NegBackward0>), tensor(-47.4556, device='cuda:0', grad_fn=<NegBackward0>), tensor(-0.9118, device='cuda:0', grad_fn=<AddBackward0>)]\n",
      "0.22951693684807842\n",
      "tensor(-96.0268, device='cuda:0', grad_fn=<NegBackward0>) [tensor(-47.9679, device='cuda:0', grad_fn=<NegBackward0>), tensor(-47.5939, device='cuda:0', grad_fn=<NegBackward0>), tensor(-0.5921, device='cuda:0', grad_fn=<AddBackward0>)]\n",
      "0.24103193999538616\n",
      "tensor(-96.1117, device='cuda:0', grad_fn=<NegBackward0>) [tensor(-47.9679, device='cuda:0', grad_fn=<NegBackward0>), tensor(-47.6290, device='cuda:0', grad_fn=<NegBackward0>), tensor(-0.6732, device='cuda:0', grad_fn=<AddBackward0>)]\n",
      "0.22138331947651582\n",
      "tensor(-96.0901, device='cuda:0', grad_fn=<NegBackward0>) [tensor(-47.9990, device='cuda:0', grad_fn=<NegBackward0>), tensor(-47.5957, device='cuda:0', grad_fn=<NegBackward0>), tensor(-0.6413, device='cuda:0', grad_fn=<AddBackward0>)]\n",
      "0.2166363193607813\n",
      "tensor(-96.2045, device='cuda:0', grad_fn=<NegBackward0>) [tensor(-47.9990, device='cuda:0', grad_fn=<NegBackward0>), tensor(-47.7636, device='cuda:0', grad_fn=<NegBackward0>), tensor(-0.5556, device='cuda:0', grad_fn=<AddBackward0>)]\n",
      "0.22384215028276944\n",
      "tensor(-96.2834, device='cuda:0', grad_fn=<NegBackward0>) [tensor(-48.1049, device='cuda:0', grad_fn=<NegBackward0>), tensor(-47.7253, device='cuda:0', grad_fn=<NegBackward0>), tensor(-0.5733, device='cuda:0', grad_fn=<AddBackward0>)]\n",
      "0.23332706832506156\n",
      "tensor(-96.3251, device='cuda:0', grad_fn=<NegBackward0>) [tensor(-48.1049, device='cuda:0', grad_fn=<NegBackward0>), tensor(-47.7370, device='cuda:0', grad_fn=<NegBackward0>), tensor(-0.6212, device='cuda:0', grad_fn=<AddBackward0>)]\n",
      "0.25326538102160134\n",
      "tensor(-96.2800, device='cuda:0', grad_fn=<NegBackward0>) [tensor(-48.0965, device='cuda:0', grad_fn=<NegBackward0>), tensor(-47.6353, device='cuda:0', grad_fn=<NegBackward0>), tensor(-0.7301, device='cuda:0', grad_fn=<AddBackward0>)]\n",
      "0.26963025301698823\n",
      "tensor(-96.2593, device='cuda:0', grad_fn=<NegBackward0>) [tensor(-48.0965, device='cuda:0', grad_fn=<NegBackward0>), tensor(-47.5634, device='cuda:0', grad_fn=<NegBackward0>), tensor(-0.8209, device='cuda:0', grad_fn=<AddBackward0>)]\n",
      "0.23747429964569072\n",
      "tensor(-96.4729, device='cuda:0', grad_fn=<NegBackward0>) [tensor(-48.1856, device='cuda:0', grad_fn=<NegBackward0>), tensor(-47.7438, device='cuda:0', grad_fn=<NegBackward0>), tensor(-0.7221, device='cuda:0', grad_fn=<AddBackward0>)]\n",
      "0.2516908108210476\n",
      "tensor(-96.4588, device='cuda:0', grad_fn=<NegBackward0>) [tensor(-48.1856, device='cuda:0', grad_fn=<NegBackward0>), tensor(-47.7377, device='cuda:0', grad_fn=<NegBackward0>), tensor(-0.7083, device='cuda:0', grad_fn=<AddBackward0>)]\n",
      "0.23825360425230913\n",
      "tensor(-96.3582, device='cuda:0', grad_fn=<NegBackward0>) [tensor(-48.1596, device='cuda:0', grad_fn=<NegBackward0>), tensor(-47.7250, device='cuda:0', grad_fn=<NegBackward0>), tensor(-0.6057, device='cuda:0', grad_fn=<AddBackward0>)]\n",
      "0.22046876865472134\n",
      "tensor(-96.4102, device='cuda:0', grad_fn=<NegBackward0>) [tensor(-48.1596, device='cuda:0', grad_fn=<NegBackward0>), tensor(-47.7713, device='cuda:0', grad_fn=<NegBackward0>), tensor(-0.6148, device='cuda:0', grad_fn=<AddBackward0>)]\n",
      "0.23813614175910022\n",
      "tensor(-96.2662, device='cuda:0', grad_fn=<NegBackward0>) [tensor(-48.0467, device='cuda:0', grad_fn=<NegBackward0>), tensor(-47.7200, device='cuda:0', grad_fn=<NegBackward0>), tensor(-0.6481, device='cuda:0', grad_fn=<AddBackward0>)]\n"
     ]
    },
    {
     "name": "stdout",
     "output_type": "stream",
     "text": [
      "0.2372026463885436\n",
      "tensor(-96.2188, device='cuda:0', grad_fn=<NegBackward0>) [tensor(-48.0467, device='cuda:0', grad_fn=<NegBackward0>), tensor(-47.6483, device='cuda:0', grad_fn=<NegBackward0>), tensor(-0.6884, device='cuda:0', grad_fn=<AddBackward0>)]\n",
      "0.2632527383487766\n",
      "tensor(-96.3474, device='cuda:0', grad_fn=<NegBackward0>) [tensor(-48.1408, device='cuda:0', grad_fn=<NegBackward0>), tensor(-47.5934, device='cuda:0', grad_fn=<NegBackward0>), tensor(-0.8463, device='cuda:0', grad_fn=<AddBackward0>)]\n",
      "0.218609791402756\n",
      "tensor(-96.4260, device='cuda:0', grad_fn=<NegBackward0>) [tensor(-48.1408, device='cuda:0', grad_fn=<NegBackward0>), tensor(-47.8348, device='cuda:0', grad_fn=<NegBackward0>), tensor(-0.5691, device='cuda:0', grad_fn=<AddBackward0>)]\n",
      "0.2118557789661669\n",
      "tensor(-96.3145, device='cuda:0', grad_fn=<NegBackward0>) [tensor(-48.1333, device='cuda:0', grad_fn=<NegBackward0>), tensor(-47.7235, device='cuda:0', grad_fn=<NegBackward0>), tensor(-0.5804, device='cuda:0', grad_fn=<AddBackward0>)]\n",
      "0.23886901817944314\n",
      "tensor(-96.3794, device='cuda:0', grad_fn=<NegBackward0>) [tensor(-48.1333, device='cuda:0', grad_fn=<NegBackward0>), tensor(-47.6993, device='cuda:0', grad_fn=<NegBackward0>), tensor(-0.7277, device='cuda:0', grad_fn=<AddBackward0>)]\n",
      "0.2548237136650704\n",
      "tensor(-96.1234, device='cuda:0', grad_fn=<NegBackward0>) [tensor(-48.0134, device='cuda:0', grad_fn=<NegBackward0>), tensor(-47.5745, device='cuda:0', grad_fn=<NegBackward0>), tensor(-0.7083, device='cuda:0', grad_fn=<AddBackward0>)]\n",
      "0.2128550864302606\n",
      "tensor(-96.0478, device='cuda:0', grad_fn=<NegBackward0>) [tensor(-48.0134, device='cuda:0', grad_fn=<NegBackward0>), tensor(-47.6183, device='cuda:0', grad_fn=<NegBackward0>), tensor(-0.5159, device='cuda:0', grad_fn=<AddBackward0>)]\n",
      "0.208511555359555\n",
      "tensor(-96.5351, device='cuda:0', grad_fn=<NegBackward0>) [tensor(-48.2094, device='cuda:0', grad_fn=<NegBackward0>), tensor(-47.9491, device='cuda:0', grad_fn=<NegBackward0>), tensor(-0.4574, device='cuda:0', grad_fn=<AddBackward0>)]\n",
      "0.23803632473200986\n",
      "tensor(-96.4806, device='cuda:0', grad_fn=<NegBackward0>) [tensor(-48.2094, device='cuda:0', grad_fn=<NegBackward0>), tensor(-47.7647, device='cuda:0', grad_fn=<NegBackward0>), tensor(-0.6594, device='cuda:0', grad_fn=<AddBackward0>)]\n",
      "0.26008352414615404\n",
      "tensor(-96.4368, device='cuda:0', grad_fn=<NegBackward0>) [tensor(-48.1189, device='cuda:0', grad_fn=<NegBackward0>), tensor(-47.7640, device='cuda:0', grad_fn=<NegBackward0>), tensor(-0.7402, device='cuda:0', grad_fn=<AddBackward0>)]\n"
     ]
    }
   ],
   "source": [
    "# data selected\n",
    "mean_V = []\n",
    "n_dis2 = 1\n",
    "n_dis = 1\n",
    "mode = 11\n",
    "gam3 = 1\n",
    "mcr_gan_loss = MCRGANloss(gam1=1., gam2=1., gam3=gam3, eps=0.5, numclasses=numclasses, mode=mode, rho=None)\n",
    "loss_V = 0\n",
    "last_V = -1000\n",
    "num_steps = 500\n",
    "lr1 = 1e-3\n",
    "lr2 = 1e-3\n",
    "optD = optim.Adam(netD.parameters(), lr1, betas=(0.5, 0.999))\n",
    "optG = optim.Adam(netG.parameters(), lr2, betas=(0.5, 0.999))\n",
    "meanV_sum = []\n",
    "radius_list = []\n",
    "radius = 5\n",
    "\n",
    "for epoch in range(num_steps):\n",
    "    if 1==1:\n",
    "        \n",
    "        #radius,_ = gs_radius(radius1=0,radius2=100,netD=netD,real_cpu=real_cpu,real_label=real_label,tor=1e-5,n_dis=2,lam=0.618,mode=mode)\n",
    "        #radius_list.append(radius)\n",
    "        #print(radius)\n",
    "\n",
    "        for i in range(n_dis):\n",
    "            netD.zero_grad()\n",
    "            optD.zero_grad()\n",
    "            Z = netD(real_cpu)\n",
    "            net_noise = get_noise(DATASET, device, LABEL)\n",
    "            radius,_ = gs_radius(radius1=0,radius2=100,netD=netD,real_cpu=real_cpu,real_label=real_label,tor=1e-5,n_dis=2,lam=0.618,mode=mode)\n",
    "            radius_list.append(radius)\n",
    "            print(radius)\n",
    "            fed_state_dict = get_netG(netD,netV,net_noise,radius)\n",
    "            netG.load_state_dict(fed_state_dict)\n",
    "            Z_bar = netG(real_cpu)\n",
    "            errD, errD_EC = mcr_gan_loss(Z, Z_bar, real_label, 1, n_dis)\n",
    "            print(errD, errD_EC)\n",
    "            errD.backward()\n",
    "            optD.step()\n",
    "        temp = 0\n",
    "        for j in range(n_dis2):\n",
    "            netG.zero_grad()\n",
    "            optG.zero_grad()\n",
    "\n",
    "            Z = netD(real_cpu)\n",
    "            net_noise = get_noise(DATASET, device, LABEL)\n",
    "            radius,_ = gs_radius(radius1=0,radius2=100,netD=netD,real_cpu=real_cpu,real_label=real_label,tor=1e-5,n_dis=2,lam=0.618,mode=mode)\n",
    "            radius_list.append(radius)\n",
    "            print(radius)\n",
    "            fed_state_dict = get_netG(netD,netV,net_noise,radius)\n",
    "            netG.load_state_dict(fed_state_dict)\n",
    "            Z_bar = netG(real_cpu)\n",
    "            errG, errG_EC = mcr_gan_loss(Z, Z_bar, real_label, n_dis2 - 1, n_dis2)\n",
    "            print(errG, errG_EC)\n",
    "            temp = errG\n",
    "            errG = (-1) * errG\n",
    "            errG.backward()\n",
    "            optG.step()\n",
    "\n",
    "            update_dic = update_netV(netV,netG,net_noise,fed_state_dict,radius)\n",
    "            netV.load_state_dict(update_dic)\n",
    "\n",
    "        loss_V = temp\n",
    "        "
   ]
  },
  {
   "cell_type": "code",
   "execution_count": 8,
   "id": "58be30d1",
   "metadata": {},
   "outputs": [
    {
     "data": {
      "text/plain": [
       "[1.653596263293532,\n",
       " 55.85819182341144,\n",
       " 17.609105900247496,\n",
       " 1.9693679158555655,\n",
       " 39.10447611833945,\n",
       " 1.068932255120621,\n",
       " 18.247225042989434,\n",
       " 1.3243323953254176,\n",
       " 9.592802869477282,\n",
       " 0.9150633875826496,\n",
       " 1.049332746349577,\n",
       " 0.7693179506641119,\n",
       " 0.7624858157664572,\n",
       " 0.7120519532433397,\n",
       " 0.7983241763305862,\n",
       " 0.5537503685785106,\n",
       " 0.5772984090505414,\n",
       " 0.6303144039440526,\n",
       " 0.6084924234749628,\n",
       " 0.6182642025055377,\n",
       " 0.617428663364435,\n",
       " 0.6021577071239849,\n",
       " 0.7003659579698848,\n",
       " 0.5852377563369315,\n",
       " 0.5489228574007202,\n",
       " 0.5947135346191872,\n",
       " 0.5658534097505887,\n",
       " 0.5579748247893955,\n",
       " 0.4673755348828929,\n",
       " 0.4980067250298854,\n",
       " 0.4925018153444983,\n",
       " 0.5570017404054532,\n",
       " 0.5022293053127375,\n",
       " 0.49040556476338193,\n",
       " 0.4633517437304587,\n",
       " 0.5219619763232969,\n",
       " 0.5179665897450073,\n",
       " 0.5105386405470416,\n",
       " 0.47622760617853327,\n",
       " 0.4734010263212929,\n",
       " 0.5127751713583807,\n",
       " 0.48510324034656305,\n",
       " 0.48374328739399824,\n",
       " 0.4761100425023211,\n",
       " 0.4938586749388115,\n",
       " 0.4756316001910571,\n",
       " 0.49524440571929507,\n",
       " 0.49939688194576426,\n",
       " 0.47112813784547886,\n",
       " 0.4975313785888848,\n",
       " 0.5051005324387975,\n",
       " 0.462559025828196,\n",
       " 0.4874015470539578,\n",
       " 0.47596167727922956,\n",
       " 0.43939606043145735,\n",
       " 0.4368700580590423,\n",
       " 0.46723022843351775,\n",
       " 0.4696990737650025,\n",
       " 0.4762017658118284,\n",
       " 0.43826842879803357,\n",
       " 0.43559509953926145,\n",
       " 0.41776763105709064,\n",
       " 0.44111334756521425,\n",
       " 0.47422093178178093,\n",
       " 0.5195209728307114,\n",
       " 0.45344351443368935,\n",
       " 0.46860450558545147,\n",
       " 0.4602013187006757,\n",
       " 0.45841497035516765,\n",
       " 0.43263864084975406,\n",
       " 0.42485282793181095,\n",
       " 0.4026460368336811,\n",
       " 0.4566185785189275,\n",
       " 0.401097253040693,\n",
       " 0.4093125881786575,\n",
       " 0.43451344288962473,\n",
       " 0.4206837484056452,\n",
       " 0.42550702636773224,\n",
       " 0.41262654158182277,\n",
       " 0.4348258400332708,\n",
       " 0.41009919357575714,\n",
       " 0.3441937409380288,\n",
       " 0.4371244497799847,\n",
       " 0.39690726376905483,\n",
       " 0.3988988935100665,\n",
       " 0.44026296998241826,\n",
       " 0.3852637311572152,\n",
       " 0.39863303128208477,\n",
       " 0.36498983371094545,\n",
       " 0.4296068250690622,\n",
       " 0.41346068473698355,\n",
       " 0.3882440405493647,\n",
       " 0.4039550443329147,\n",
       " 0.3858879406415394,\n",
       " 0.41067730802935815,\n",
       " 0.40494283871253284,\n",
       " 0.4066404927627089,\n",
       " 0.43051490065623504,\n",
       " 0.4004324316049121,\n",
       " 0.3998086228273155,\n",
       " 0.3622723189660011,\n",
       " 0.36701953119032593,\n",
       " 0.3918135713469645,\n",
       " 0.40152372634461886,\n",
       " 0.4006628421969372,\n",
       " 0.3848092466250777,\n",
       " 0.4141887977372148,\n",
       " 0.3935946743045071,\n",
       " 0.36791173360812884,\n",
       " 0.38482974899325917,\n",
       " 0.3671757638496691,\n",
       " 0.35245160564301015,\n",
       " 0.3780098822875465,\n",
       " 0.39351773494021736,\n",
       " 0.376817413486975,\n",
       " 0.35611931637066346,\n",
       " 0.3753895343593323,\n",
       " 0.38396371644266264,\n",
       " 0.38016338007648576,\n",
       " 0.4124528313521522,\n",
       " 0.4071261906812092,\n",
       " 0.35369353528707526,\n",
       " 0.35416889085104813,\n",
       " 0.37009289644093774,\n",
       " 0.36074453286398755,\n",
       " 0.4053325030309614,\n",
       " 0.3546979429829077,\n",
       " 0.34848612714929406,\n",
       " 0.3763579722626686,\n",
       " 0.35962828130439134,\n",
       " 0.37709894393902293,\n",
       " 0.37055858125977514,\n",
       " 0.3686345202250334,\n",
       " 0.39951485308878026,\n",
       " 0.3949437727068548,\n",
       " 0.3402342681207847,\n",
       " 0.3746577767198948,\n",
       " 0.3746409327892437,\n",
       " 0.37789447239307394,\n",
       " 0.3017586069552533,\n",
       " 0.35841509986179937,\n",
       " 0.3804663582080666,\n",
       " 0.32694628168254203,\n",
       " 0.34944028553110523,\n",
       " 0.3571750772651524,\n",
       " 0.38662787697767076,\n",
       " 0.3627744010612816,\n",
       " 0.38555312247551954,\n",
       " 0.3693345615882411,\n",
       " 0.3320153185617986,\n",
       " 0.3410709331679068,\n",
       " 0.3749345865713632,\n",
       " 0.36186633326496365,\n",
       " 0.37086100688008555,\n",
       " 0.3265373154701886,\n",
       " 0.33901208320861037,\n",
       " 0.3448303172746581,\n",
       " 0.3295285840188357,\n",
       " 0.3705176955953764,\n",
       " 0.3119397304645237,\n",
       " 0.30062434860288956,\n",
       " 0.37170880487612734,\n",
       " 0.3603454315241066,\n",
       " 0.3496437335836433,\n",
       " 0.32627671604254577,\n",
       " 0.3761130706143037,\n",
       " 0.3532290499969333,\n",
       " 0.34904350984251403,\n",
       " 0.3459598087434561,\n",
       " 0.33265182457690556,\n",
       " 0.33328227640054775,\n",
       " 0.3409204595019646,\n",
       " 0.3509328097676191,\n",
       " 0.35895381301329066,\n",
       " 0.34204401755184904,\n",
       " 0.34054870899619605,\n",
       " 0.3440025104105577,\n",
       " 0.3338257231321813,\n",
       " 0.3111879098602574,\n",
       " 0.34676307214426727,\n",
       " 0.36469531184324067,\n",
       " 0.35545449938192825,\n",
       " 0.342315437922389,\n",
       " 0.37496488476225304,\n",
       " 0.36477298293216914,\n",
       " 0.34139387303759744,\n",
       " 0.344634242323972,\n",
       " 0.3442299476905727,\n",
       " 0.33124890921070793,\n",
       " 0.3513434947794775,\n",
       " 0.3542148048444116,\n",
       " 0.3628345784947903,\n",
       " 0.33917286617130576,\n",
       " 0.3398282746288924,\n",
       " 0.3384066541556578,\n",
       " 0.3480957619390999,\n",
       " 0.3621522798572243,\n",
       " 0.32032799145092,\n",
       " 0.3379957875404743,\n",
       " 0.34654805760340196,\n",
       " 0.3294392322213056,\n",
       " 0.3395076416093506,\n",
       " 0.3535430169342389,\n",
       " 0.3434089275698783,\n",
       " 0.3656925853846368,\n",
       " 0.36972489883436677,\n",
       " 0.31877993828403606,\n",
       " 0.33529793417617626,\n",
       " 0.35879574247722423,\n",
       " 0.3302385183945514,\n",
       " 0.3185252902991475,\n",
       " 0.3627917176374564,\n",
       " 0.3262875476664034,\n",
       " 0.3104090726393793,\n",
       " 0.2996357646415437,\n",
       " 0.3433563944100859,\n",
       " 0.3129018644120648,\n",
       " 0.29717648789443063,\n",
       " 0.3369725370708609,\n",
       " 0.317305943516425,\n",
       " 0.3276189721198253,\n",
       " 0.36162139297238144,\n",
       " 0.3200998604997012,\n",
       " 0.3302807647093591,\n",
       " 0.3373436569684638,\n",
       " 0.31941993314554157,\n",
       " 0.3693647463440419,\n",
       " 0.32529249642432656,\n",
       " 0.3162145535876192,\n",
       " 0.29024578537285417,\n",
       " 0.3317546886469449,\n",
       " 0.2985049710826652,\n",
       " 0.3104627157962046,\n",
       " 0.335513142942842,\n",
       " 0.3219427531718183,\n",
       " 0.32472831570919847,\n",
       " 0.3197215932466879,\n",
       " 0.2963519700130665,\n",
       " 0.3255307521219711,\n",
       " 0.285961102910394,\n",
       " 0.31059843324891395,\n",
       " 0.29644914628763996,\n",
       " 0.3025816494654248,\n",
       " 0.3348967439347666,\n",
       " 0.2548382350660504,\n",
       " 0.3361212137171247,\n",
       " 0.3245638585800871,\n",
       " 0.31984182406621064,\n",
       " 0.2585328500446208,\n",
       " 0.33105184899222767,\n",
       " 0.3008208694033365,\n",
       " 0.3210609706121363,\n",
       " 0.31647341537153195,\n",
       " 0.3117738657090149,\n",
       " 0.31953810293136986,\n",
       " 0.2504574147492058,\n",
       " 0.32647392835961003,\n",
       " 0.295485670117737,\n",
       " 0.30381349035701294,\n",
       " 0.31185038912069685,\n",
       " 0.3405142098589651,\n",
       " 0.3189127399306383,\n",
       " 0.2698577914890108,\n",
       " 0.31633274065524186,\n",
       " 0.31505328959812084,\n",
       " 0.2906330535087022,\n",
       " 0.3079688354419447,\n",
       " 0.2869285407217423,\n",
       " 0.3212377166883521,\n",
       " 0.3159002591535172,\n",
       " 0.2806314157085059,\n",
       " 0.2863875812564718,\n",
       " 0.2923705736217332,\n",
       " 0.2837776787262696,\n",
       " 0.2942188068603458,\n",
       " 0.33117192674997425,\n",
       " 0.30476757960414846,\n",
       " 0.28899133426340673,\n",
       " 0.3088501229296689,\n",
       " 0.2835786194102031,\n",
       " 0.3200438817726189,\n",
       " 0.2835960796910462,\n",
       " 0.2986868080732803,\n",
       " 0.27467816623847385,\n",
       " 0.25371161141096427,\n",
       " 0.28271475319132894,\n",
       " 0.26280091632553726,\n",
       " 0.30932737734552523,\n",
       " 0.31631523236832115,\n",
       " 0.3096954613777619,\n",
       " 0.28213964625034865,\n",
       " 0.28770391775139237,\n",
       " 0.31162239394652236,\n",
       " 0.2752708261206887,\n",
       " 0.29541452743193336,\n",
       " 0.31532827042831324,\n",
       " 0.31806557502357435,\n",
       " 0.28868492491512654,\n",
       " 0.2810072034470125,\n",
       " 0.2801822461034396,\n",
       " 0.2916091296799821,\n",
       " 0.301301002553284,\n",
       " 0.28934438836252835,\n",
       " 0.30207104934820117,\n",
       " 0.29421385621085366,\n",
       " 0.2966570183931137,\n",
       " 0.29926479180249804,\n",
       " 0.27994887347322744,\n",
       " 0.3000134731918536,\n",
       " 0.29547599277226955,\n",
       " 0.26103629340211504,\n",
       " 0.2594331038493319,\n",
       " 0.2789004256052244,\n",
       " 0.2619762857648886,\n",
       " 0.2897907084176784,\n",
       " 0.2566895791355539,\n",
       " 0.2890529464038239,\n",
       " 0.2809867783767713,\n",
       " 0.287527105656314,\n",
       " 0.2749025676719436,\n",
       " 0.2532154300662729,\n",
       " 0.2819658907713763,\n",
       " 0.25990383991863003,\n",
       " 0.28297997833350136,\n",
       " 0.28160075809717783,\n",
       " 0.26298667658104513,\n",
       " 0.2622887108726031,\n",
       " 0.29209729964629494,\n",
       " 0.28421996925380183,\n",
       " 0.2802884890283431,\n",
       " 0.2956908607717519,\n",
       " 0.26440759463021213,\n",
       " 0.2773101912278411,\n",
       " 0.2788965892055112,\n",
       " 0.2828111173438739,\n",
       " 0.2629401947638212,\n",
       " 0.25038035088274385,\n",
       " 0.2573291888212856,\n",
       " 0.3034582100299615,\n",
       " 0.27071713669639536,\n",
       " 0.28203709539204813,\n",
       " 0.2614804581773745,\n",
       " 0.25307512796251447,\n",
       " 0.28216297228643095,\n",
       " 0.2255969007452307,\n",
       " 0.29112287587436025,\n",
       " 0.2553147054418044,\n",
       " 0.27974851054394445,\n",
       " 0.2904937011341718,\n",
       " 0.2732284601360713,\n",
       " 0.28829640789402877,\n",
       " 0.2664262300942506,\n",
       " 0.2849790413251317,\n",
       " 0.2879699699332477,\n",
       " 0.2812015313916057,\n",
       " 0.2980090612976296,\n",
       " 0.3118275393512354,\n",
       " 0.27285297180609036,\n",
       " 0.2775045782323847,\n",
       " 0.2554855196555894,\n",
       " 0.30121194653792577,\n",
       " 0.2814210672680083,\n",
       " 0.2786425011339487,\n",
       " 0.2956009153217,\n",
       " 0.25367168366278664,\n",
       " 0.2712324759546906,\n",
       " 0.27014290996403056,\n",
       " 0.2959219818195363,\n",
       " 0.25972494612610925,\n",
       " 0.26578497075825963,\n",
       " 0.27555673191069324,\n",
       " 0.26605820860555324,\n",
       " 0.2799029126636881,\n",
       " 0.24900598167077892,\n",
       " 0.25925310280859937,\n",
       " 0.26412947334226483,\n",
       " 0.25721081664456247,\n",
       " 0.282771410235473,\n",
       " 0.2672698350165766,\n",
       " 0.2649854994947347,\n",
       " 0.278532477335462,\n",
       " 0.2541265409375833,\n",
       " 0.25735939901982813,\n",
       " 0.2711045876583523,\n",
       " 0.2519230237613183,\n",
       " 0.23819949370974353,\n",
       " 0.26863861444687015,\n",
       " 0.2631453722248627,\n",
       " 0.26469633446664953,\n",
       " 0.27336936511821125,\n",
       " 0.27059380649677234,\n",
       " 0.2771155697572513,\n",
       " 0.24823680199224718,\n",
       " 0.2840894565582037,\n",
       " 0.24947361060455833,\n",
       " 0.26478047255481946,\n",
       " 0.2772009862647506,\n",
       " 0.2576230022501309,\n",
       " 0.26605820860555324,\n",
       " 0.2675999202649576,\n",
       " 0.27368642648535235,\n",
       " 0.2679881114264512,\n",
       " 0.27133003053309346,\n",
       " 0.2596747221992555,\n",
       " 0.2663169453105796,\n",
       " 0.2636951741386547,\n",
       " 0.24724171617201327,\n",
       " 0.2707238240396073,\n",
       " 0.26691285004989024,\n",
       " 0.2739976743927602,\n",
       " 0.2737701638848061,\n",
       " 0.27073464498331606,\n",
       " 0.28710800123258856,\n",
       " 0.2761835978938191,\n",
       " 0.25925608272569395,\n",
       " 0.24390645894531568,\n",
       " 0.26214816531582796,\n",
       " 0.2686433570920938,\n",
       " 0.28599128766619486,\n",
       " 0.2723697732897844,\n",
       " 0.2656052271162189,\n",
       " 0.27266620060728214,\n",
       " 0.21645642925729658,\n",
       " 0.2650928803807396,\n",
       " 0.26011185425298883,\n",
       " 0.2994023467620297,\n",
       " 0.28751927686771866,\n",
       " 0.2789004256052244,\n",
       " 0.2792704415137657,\n",
       " 0.24971481498235204,\n",
       " 0.25820573870567337,\n",
       " 0.2859706815936832,\n",
       " 0.23386791499492152,\n",
       " 0.2650928803807396,\n",
       " 0.2078757879239881,\n",
       " 0.25922471416450193,\n",
       " 0.2891222832601103,\n",
       " 0.28154713222558586,\n",
       " 0.2757822932626753,\n",
       " 0.27534010236390793,\n",
       " 0.2541472110248275,\n",
       " 0.24540089117125535,\n",
       " 0.28463247267473146,\n",
       " 0.2699730279377773,\n",
       " 0.3113443000297359,\n",
       " 0.263861059291771,\n",
       " 0.24790159378639315,\n",
       " 0.256786752751565,\n",
       " 0.2588549177056432,\n",
       " 0.2716999732081297,\n",
       " 0.2635356987908395,\n",
       " 0.24581834873770914,\n",
       " 0.29186988877448555,\n",
       " 0.2629403132410621,\n",
       " 0.2564192891570271,\n",
       " 0.23722315127805185,\n",
       " 0.28654741049936144,\n",
       " 0.26605851881711623,\n",
       " 0.2737011911291177,\n",
       " 0.2600600358547223,\n",
       " 0.2666312931570564,\n",
       " 0.2647249321109772,\n",
       " 0.2584331134545922,\n",
       " 0.25521217750924236,\n",
       " 0.2706496398703832,\n",
       " 0.26486916685015144,\n",
       " 0.26665509166005114,\n",
       " 0.2707648470209113,\n",
       " 0.268783913331143,\n",
       " 0.24696030419720633,\n",
       " 0.26583081657484003,\n",
       " 0.2885208159278305,\n",
       " 0.26394775269918047,\n",
       " 0.2853089824235444,\n",
       " 0.28470050124304175,\n",
       " 0.2533007733548372,\n",
       " 0.2751905582433898,\n",
       " 0.2859737001549951,\n",
       " 0.26973990395280223,\n",
       " 0.22939690782522915,\n",
       " 0.2501636333634342,\n",
       " 0.26921158246122784,\n",
       " 0.27293207902939876,\n",
       " 0.25183616660723135,\n",
       " 0.29905973689851434,\n",
       " 0.2358946985802755,\n",
       " 0.2508190884478628,\n",
       " 0.26330595661057205,\n",
       " 0.2602971438798728,\n",
       " 0.24674074659196366,\n",
       " 0.26205830028057797,\n",
       " 0.2671908254894358,\n",
       " 0.23320907296818488,\n",
       " 0.2696791167998926,\n",
       " 0.25053887036360795,\n",
       " 0.2589849339177472,\n",
       " 0.2578220580819154,\n",
       " 0.2560610182327322,\n",
       " 0.25458827317094745,\n",
       " 0.2462321647852119,\n",
       " 0.26533778862943647,\n",
       " 0.2701724240987442,\n",
       " 0.27778566934806015,\n",
       " 0.2480422644207412,\n",
       " 0.2344301877256882,\n",
       " 0.26115324325471706,\n",
       " 0.24344059155327466,\n",
       " 0.2500357821523216,\n",
       " 0.2762931023883237,\n",
       " 0.278036604635652,\n",
       " 0.27614727926911875,\n",
       " 0.24173468291414565,\n",
       " 0.24542189549989465,\n",
       " 0.24662088035283655,\n",
       " 0.2505301627659619,\n",
       " 0.22132665775837865,\n",
       " 0.25158342548799706,\n",
       " 0.21430846894904312,\n",
       " 0.2800766147331501,\n",
       " 0.246447170123166,\n",
       " 0.2377681202704029,\n",
       " 0.2642132000393097,\n",
       " 0.2594134373022141,\n",
       " 0.25683609053085876,\n",
       " 0.25990847825996566,\n",
       " 0.223578890799982,\n",
       " 0.22809357889570964,\n",
       " 0.2603615972955055,\n",
       " 0.2461482916267229,\n",
       " 0.271073148249793,\n",
       " 0.23225145674403566,\n",
       " 0.2630808694801113,\n",
       " 0.2598201729332143,\n",
       " 0.24142154675613478,\n",
       " 0.271914713616403,\n",
       " 0.25546800536332465,\n",
       " 0.258784212691562,\n",
       " 0.24663628716408414,\n",
       " 0.2606350340292772,\n",
       " 0.24065608816022352,\n",
       " 0.261007848824316,\n",
       " 0.25851700797550414,\n",
       " 0.2361631299125637,\n",
       " 0.2709952123670736,\n",
       " 0.2179089428371977,\n",
       " 0.25352050032349777,\n",
       " 0.22657296660413742,\n",
       " 0.25267396331016617,\n",
       " 0.2578405155084856,\n",
       " 0.23908443591851458,\n",
       " 0.25557210527966345,\n",
       " 0.2497311823489204,\n",
       " 0.2619666084194211,\n",
       " 0.2600473587908542,\n",
       " 0.2508503837956846,\n",
       " 0.2528720199365628,\n",
       " 0.24806677026270169,\n",
       " 0.20521863562390383,\n",
       " 0.24135101691867478,\n",
       " 0.25283098063498777,\n",
       " 0.26695569614807,\n",
       " 0.2639039119902828,\n",
       " 0.240354438746916,\n",
       " 0.2572107993627681,\n",
       " 0.26427166854929923,\n",
       " 0.25053170010143333,\n",
       " 0.2672476056848139,\n",
       " 0.25186750059927043,\n",
       " 0.2425954661637805,\n",
       " 0.23101465665777543,\n",
       " 0.22355920066555124,\n",
       " 0.2799222075716375,\n",
       " 0.232957181733176,\n",
       " 0.24474193399045563,\n",
       " 0.26164449587687266,\n",
       " 0.2579421851717181,\n",
       " 0.25355236761627986,\n",
       " 0.244675593368981,\n",
       " 0.24611512287401055,\n",
       " 0.25461761145312223,\n",
       " 0.2475413653259223,\n",
       " 0.2606175201054813,\n",
       " 0.2566310673019815,\n",
       " 0.24217373490997204,\n",
       " 0.2879506782711277,\n",
       " 0.2688297500265662,\n",
       " 0.2503060655305163,\n",
       " 0.2552706877842517,\n",
       " 0.249391439558193,\n",
       " 0.25126424041312356,\n",
       " 0.26583077132553823,\n",
       " 0.2616726139621039,\n",
       " 0.2224747744559295,\n",
       " 0.28242585212996946,\n",
       " 0.25570622329345877,\n",
       " 0.16658565054791816,\n",
       " 0.28491239786523703,\n",
       " 0.24516432123470738,\n",
       " 0.2580446175617818,\n",
       " 0.24218157726731718,\n",
       " 0.25328884542796987,\n",
       " 0.24936277490314324,\n",
       " 0.2532011605243445,\n",
       " 0.26514842082458184,\n",
       " 0.2738728209747579,\n",
       " 0.24338703890962188,\n",
       " 0.24883483936864856,\n",
       " 0.2598217974388722,\n",
       " 0.2671528047491727,\n",
       " 0.2540366871795953,\n",
       " 0.24251043308677922,\n",
       " 0.24881629141433584,\n",
       " 0.24954478941738487,\n",
       " 0.2535313191143486,\n",
       " 0.2559324774524926,\n",
       " 0.2696098970901161,\n",
       " 0.2545251032143581,\n",
       " 0.247252537115722,\n",
       " 0.24625864775289222,\n",
       " 0.23866027624880976,\n",
       " 0.2185434432179941,\n",
       " 0.23886422115838785,\n",
       " 0.23729249977674918,\n",
       " 0.22946008186132535,\n",
       " 0.25679024471427836,\n",
       " 0.2565157077001658,\n",
       " 0.23176324562199624,\n",
       " 0.2566154031251519,\n",
       " 0.2349074833226609,\n",
       " 0.22637268386789064,\n",
       " 0.24290987907512343,\n",
       " 0.2595387810631077,\n",
       " 0.2573289132114558,\n",
       " 0.21166641872440797,\n",
       " 0.24725543001397926,\n",
       " 0.2592687638693789,\n",
       " 0.2460234269335837,\n",
       " 0.2743659328415053,\n",
       " 0.24902340078770135,\n",
       " 0.2607676216407603,\n",
       " 0.22955781181006835,\n",
       " 0.2548471790342026,\n",
       " 0.23825366679109516,\n",
       " 0.23975399532540767,\n",
       " 0.22787917105119163,\n",
       " 0.23390410171102088,\n",
       " 0.26157494654445707,\n",
       " 0.2487703387767551,\n",
       " 0.23453939268877877,\n",
       " 0.2606114210287414,\n",
       " 0.2564776838440896,\n",
       " 0.2577868443875918,\n",
       " 0.2403291455899708,\n",
       " 0.24141259989604436,\n",
       " 0.20814429247521118,\n",
       " 0.23174274733282002,\n",
       " 0.2697660889469385,\n",
       " 0.2534253322831943,\n",
       " 0.22434883085706595,\n",
       " 0.2646839314536195,\n",
       " 0.28037564571384416,\n",
       " 0.2521819201122589,\n",
       " 0.23423295248670745,\n",
       " 0.23686299003117184,\n",
       " 0.2799282567068103,\n",
       " 0.24299286498980036,\n",
       " 0.24367783207872185,\n",
       " 0.2754571244724897,\n",
       " 0.26051973228363456,\n",
       " 0.27169029586266225,\n",
       " 0.27325380092289014,\n",
       " 0.2415405623885311,\n",
       " 0.2676155816935129,\n",
       " 0.257967424548248,\n",
       " 0.25670224959909,\n",
       " 0.2550022522274508,\n",
       " 0.25548824532315195,\n",
       " 0.24621464797212186,\n",
       " 0.2610126870156679,\n",
       " 0.21367690988514385,\n",
       " 0.26146643525257035,\n",
       " 0.2598422265881187,\n",
       " 0.25945215144451694,\n",
       " 0.2563341376027849,\n",
       " 0.2650078752678067,\n",
       " 0.2711866021740417,\n",
       " 0.22285620230716552,\n",
       " 0.23249937910699875,\n",
       " 0.23562146073298185,\n",
       " 0.2606223645286963,\n",
       " 0.2522041494440215,\n",
       " 0.23481094882179301,\n",
       " 0.24782736184522705,\n",
       " 0.2375374991245286,\n",
       " 0.23066193883426972,\n",
       " 0.2668014451353683,\n",
       " 0.2264911506272851,\n",
       " 0.2461453183112738,\n",
       " 0.23780093484052772,\n",
       " 0.2634156596820627,\n",
       " 0.21630128560188916,\n",
       " 0.24801075588075364,\n",
       " 0.22839452107612093,\n",
       " 0.2682118249570393,\n",
       " 0.24242173842374468,\n",
       " 0.2590823272467216,\n",
       " 0.2202839203010513,\n",
       " 0.23145350089996222,\n",
       " 0.2794938977211899,\n",
       " 0.2421424115980819,\n",
       " 0.25176979705873304,\n",
       " 0.2004802518627894,\n",
       " 0.24719875821068116,\n",
       " 0.22348195831814568,\n",
       " 0.24622433443874658,\n",
       " 0.24261778600871559,\n",
       " 0.21027916790300713,\n",
       " 0.24326657771237314,\n",
       " 0.23841720839498923,\n",
       " 0.21229777539741243,\n",
       " 0.2437296553782217,\n",
       " 0.18700997898502872,\n",
       " 0.22570426279013936,\n",
       " 0.24526353353708485,\n",
       " 0.24477227433473198,\n",
       " 0.22198964385225498,\n",
       " 0.2513921994075716,\n",
       " 0.23924845307991496,\n",
       " 0.22321169474782446,\n",
       " 0.23867593685506375,\n",
       " 0.24614714885087335,\n",
       " 0.25424966318335984,\n",
       " 0.27272489647311765,\n",
       " 0.25885180922614676,\n",
       " 0.21056642147952023,\n",
       " 0.24451221551176436,\n",
       " 0.2446395830065486,\n",
       " 0.2715057629908495,\n",
       " 0.23742525616504545,\n",
       " 0.2744377986105096,\n",
       " 0.2601899094351773,\n",
       " 0.22351412550693317,\n",
       " 0.24738337572046656,\n",
       " 0.23733051332114546,\n",
       " 0.24474976277905097,\n",
       " 0.2153789269861467,\n",
       " 0.21154308892877158,\n",
       " 0.25559287257752583,\n",
       " 0.25169377285923467,\n",
       " 0.25088359527161946,\n",
       " 0.24356192574805005,\n",
       " 0.2503060655305163,\n",
       " 0.2835249376091605,\n",
       " 0.24072243226598022,\n",
       " 0.21166910767359043,\n",
       " 0.2338670641122011,\n",
       " 0.22677406582004622,\n",
       " 0.2760101592314942,\n",
       " 0.2636325219643831,\n",
       " 0.23474458995688224,\n",
       " 0.25820573870567337,\n",
       " 0.23513489671579713,\n",
       " 0.23823075448284764,\n",
       " 0.23960560933499944,\n",
       " 0.24905965279167266,\n",
       " 0.2805949432582226,\n",
       " 0.24009367965241254,\n",
       " 0.2505890883666695,\n",
       " 0.23553151624569374,\n",
       " 0.2635356987908395,\n",
       " 0.22102208110162558,\n",
       " 0.25022532035682615,\n",
       " 0.22775096517538407,\n",
       " 0.21626577196443633,\n",
       " 0.2327219141066957,\n",
       " 0.24370132266357497,\n",
       " 0.23422729390340288,\n",
       " 0.2268637554615744,\n",
       " 0.242129743655371,\n",
       " 0.2342027677309065,\n",
       " 0.22533800929750225,\n",
       " 0.2514048698711077,\n",
       " 0.23645205018804913,\n",
       " 0.23737644051729795,\n",
       " 0.24940415742431724,\n",
       " 0.23977941978402478,\n",
       " 0.22708653617706248,\n",
       " 0.24764095978959733,\n",
       " 0.2511526223685357,\n",
       " 0.23697525027588828,\n",
       " 0.27592468018045563,\n",
       " 0.2580082665010801,\n",
       " 0.24172996223727106,\n",
       " 0.23851242077791587,\n",
       " 0.22708634446631656,\n",
       " 0.2519230237613183,\n",
       " 0.25600047876028936,\n",
       " 0.25195483829310866,\n",
       " 0.2508918195826004,\n",
       " 0.23988028619646737,\n",
       " 0.2343470024700808,\n",
       " 0.2547289972374945,\n",
       " 0.24043948910915058,\n",
       " 0.2528104810150806,\n",
       " 0.2400400085315188,\n",
       " 0.19882675256434645,\n",
       " 0.268561479114336,\n",
       " 0.24633172192508349,\n",
       " 0.24002080379129923,\n",
       " 0.24619066372557635,\n",
       " 0.2533007733548372,\n",
       " 0.24644697841242008,\n",
       " 0.23413342679480323,\n",
       " 0.23538582851910692,\n",
       " 0.24273599443876123,\n",
       " 0.24123116303799538,\n",
       " 0.26257336056828134,\n",
       " 0.24950363727181332,\n",
       " 0.24652919568754653,\n",
       " 0.2516733012033959,\n",
       " 0.26518757329284315,\n",
       " 0.2293667290747723,\n",
       " 0.25921503681903446,\n",
       " 0.2501431803235598,\n",
       " 0.24010953709855115,\n",
       " 0.24175046460545246,\n",
       " 0.23995331512410922,\n",
       " 0.2131841436771606,\n",
       " 0.2356136319443865,\n",
       " 0.24888102336086054,\n",
       " 0.2225496828808152,\n",
       " 0.2576261643656197,\n",
       " 0.21071364128686335,\n",
       " 0.2319095175038478,\n",
       " 0.24657019982918624,\n",
       " 0.2550237715893642,\n",
       " 0.24634261608772715,\n",
       " 0.25358499422776243,\n",
       " 0.24713425784731316,\n",
       " 0.24474992652572838,\n",
       " 0.24255446550642287,\n",
       " 0.25958465484375653,\n",
       " 0.23929086886989026,\n",
       " 0.23364048431523857,\n",
       " 0.249936241332721,\n",
       " 0.2120087951169101,\n",
       " 0.2387187952772006,\n",
       " 0.2567015839120894,\n",
       " 0.25576844130873916,\n",
       " 0.24640896835230588,\n",
       " 0.23788814461933225,\n",
       " 0.2572218333780224,\n",
       " 0.25644947391282796,\n",
       " 0.2526591185944136,\n",
       " 0.2493232290187819,\n",
       " 0.2365848850656941,\n",
       " 0.20739482198235018,\n",
       " 0.24795522625831712,\n",
       " 0.23095279780858508,\n",
       " 0.25444774237514156,\n",
       " 0.22959397464404135,\n",
       " 0.22484581910979626,\n",
       " 0.2333292144504197,\n",
       " 0.25077605063893715,\n",
       " 0.2704200614749422,\n",
       " 0.18410022305070028,\n",
       " 0.22948357326857022,\n",
       " 0.22867857734629812,\n",
       " 0.24616881127669862,\n",
       " 0.2692212695228404,\n",
       " 0.24560947260498012,\n",
       " 0.2467614457141647,\n",
       " 0.2543607840380512,\n",
       " 0.25789489648967184,\n",
       " 0.24834785477673166,\n",
       " 0.23393129646456634,\n",
       " 0.23359363588489246,\n",
       " 0.22736945136982362,\n",
       " 0.23369421796722845,\n",
       " 0.25593299009309933,\n",
       " 0.25053542911850457,\n",
       " 0.24313714194844677,\n",
       " 0.24659413792787482,\n",
       " 0.2167593694657677,\n",
       " 0.2627060701405942,\n",
       " 0.2636098829600636,\n",
       " 0.24122614383830637,\n",
       " 0.24271249991546642,\n",
       " 0.2258972015279113,\n",
       " 0.2410476010561657,\n",
       " 0.23945055328441386,\n",
       " 0.2435227742425525,\n",
       " 0.2412546575612902,\n",
       " 0.23861977755191002,\n",
       " 0.2266314871915199,\n",
       " 0.2231603116668247,\n",
       " 0.23993552329498238,\n",
       " 0.2605355098959361,\n",
       " 0.23481568678046194,\n",
       " 0.20420226851052928,\n",
       " 0.22084950452552565,\n",
       " 0.23376056207298515,\n",
       " 0.21764753851447136,\n",
       " 0.27913271116051214,\n",
       " 0.19934311323222106,\n",
       " 0.2456273044667529,\n",
       " 0.25143479533522467,\n",
       " 0.2533082377991184,\n",
       " 0.2572960066401501,\n",
       " 0.2334354294112548,\n",
       " 0.23768884834321807,\n",
       " 0.23387979710683335,\n",
       " 0.2491998708550904,\n",
       " 0.2621486779564347,\n",
       " 0.21557061115258827,\n",
       " 0.24061319933882114,\n",
       " 0.2062796658284069,\n",
       " 0.24112178774671658,\n",
       " 0.24866029070929085,\n",
       " 0.24421774549694092,\n",
       " 0.25336221913157514,\n",
       " 0.23970338357364654,\n",
       " 0.244242376336982,\n",
       " 0.2568169547891602,\n",
       " 0.22801861990364705,\n",
       " 0.17691882110483165,\n",
       " 0.2656883844077579,\n",
       " 0.22421578579810517,\n",
       " 0.24410085917490837,\n",
       " 0.21599808496454984,\n",
       " 0.24554262393095366,\n",
       " 0.2459100959340953,\n",
       " 0.24566696889375403,\n",
       " 0.2314109650133454,\n",
       " 0.2580495446939865,\n",
       " 0.22537603233118675,\n",
       " 0.22568558977069686,\n",
       " 0.22869392170906785,\n",
       " 0.2496267112636785,\n",
       " 0.23836878344089396,\n",
       " 0.2493377467084592,\n",
       " 0.26328579522458,\n",
       " 0.23680931446323236,\n",
       " 0.23672843130699883,\n",
       " 0.23669399951561224,\n",
       " 0.25640846821331836,\n",
       " 0.21083984427683963,\n",
       " 0.23774443403636217,\n",
       " 0.24687364943401413,\n",
       " 0.257837717216976,\n",
       " 0.26467098538025363,\n",
       " 0.22496215783004214,\n",
       " 0.22974119026223408,\n",
       " 0.2420000246803015,\n",
       " 0.23024325351641836,\n",
       " 0.2565309827569032,\n",
       " 0.24587208899003105,\n",
       " 0.24938658312228312,\n",
       " 0.2158035995051424,\n",
       " 0.2506561843998101,\n",
       " 0.20562178266049744,\n",
       " 0.16499613510625843,\n",
       " 0.24178095045165915,\n",
       " 0.23260960800099537,\n",
       " 0.2535165756343145,\n",
       " 0.25311391333811406,\n",
       " 0.2437550044646176,\n",
       " 0.24515115133153859,\n",
       " 0.2732648127315714,\n",
       " 0.2769225642596188,\n",
       " 0.22588752276506413,\n",
       " 0.2225469572132526,\n",
       " 0.2191289637905633,\n",
       " 0.20891082694120758,\n",
       " 0.27220855093587626,\n",
       " 0.23003814531697586,\n",
       " 0.2861045479686953,\n",
       " 0.22951693684807842,\n",
       " 0.24103193999538616,\n",
       " 0.22138331947651582,\n",
       " 0.2166363193607813,\n",
       " 0.22384215028276944,\n",
       " 0.23332706832506156,\n",
       " 0.25326538102160134,\n",
       " 0.26963025301698823,\n",
       " 0.23747429964569072,\n",
       " 0.2516908108210476,\n",
       " 0.23825360425230913,\n",
       " 0.22046876865472134,\n",
       " 0.23813614175910022,\n",
       " 0.2372026463885436,\n",
       " 0.2632527383487766,\n",
       " 0.218609791402756,\n",
       " 0.2118557789661669,\n",
       " 0.23886901817944314,\n",
       " 0.2548237136650704,\n",
       " 0.2128550864302606,\n",
       " 0.208511555359555,\n",
       " 0.23803632473200986,\n",
       " 0.26008352414615404]"
      ]
     },
     "execution_count": 8,
     "metadata": {},
     "output_type": "execute_result"
    }
   ],
   "source": [
    "radius_list"
   ]
  },
  {
   "cell_type": "code",
   "execution_count": 9,
   "id": "32f480a3",
   "metadata": {},
   "outputs": [
    {
     "name": "stderr",
     "output_type": "stream",
     "text": [
      "extracting all features from dataset: 100%|██████████████████████████████████████████████| 1/1 [00:01<00:00,  1.56s/it]\n",
      "extracting all features from dataset: 100%|██████████████████████████████████████████████| 1/1 [00:01<00:00,  1.57s/it]\n"
     ]
    },
    {
     "name": "stdout",
     "output_type": "stream",
     "text": [
      "----------------------------\n",
      "Train_z, Test_z\n",
      "PCA: 0.8438\n",
      "SVD: 0.8409\n",
      "NetD, Acc at first 0.8621\n"
     ]
    },
    {
     "name": "stderr",
     "output_type": "stream",
     "text": [
      "extracting all features from dataset: 100%|██████████████████████████████████████████████| 2/2 [00:04<00:00,  2.14s/it]\n",
      "extracting all features from dataset: 100%|██████████████████████████████████████████████| 1/1 [00:01<00:00,  1.53s/it]\n"
     ]
    },
    {
     "name": "stdout",
     "output_type": "stream",
     "text": [
      "----------------------------\n",
      "Train_z, Test_z\n",
      "PCA: 0.8356\n",
      "SVD: 0.8321000000000001\n",
      "NetG, Acc at first 0.8567\n"
     ]
    }
   ],
   "source": [
    "#acc at first for NetD\n",
    "train_X, train_Z, train_X_bar, train_Z_bar, train_labels = extract_features2(testloader, netD, netG)\n",
    "\n",
    "test_X, test_Z, test_X_bar, test_Z_bar, test_labels = extract_features2(testloader, netD, netG)\n",
    "\n",
    "\n",
    "print(\"----------------------------\")\n",
    "print(\"Train_z, Test_z\")\n",
    "nearsub(n_comp, train_Z, train_labels, test_Z, test_labels)\n",
    "\n",
    "#acc at first for NetD\n",
    "from sklearn.neighbors import KNeighborsClassifier \n",
    "knn= KNeighborsClassifier(n_neighbors=10) \n",
    "\n",
    "knn.fit(train_Z,train_labels) \n",
    "knn.score(test_Z,test_labels) \n",
    " \n",
    "y_predict = knn.predict(test_Z) \n",
    "\n",
    "count =0\n",
    "for k in range(10000):\n",
    "    if y_predict[k] == test_labels[k]:\n",
    "        count +=1\n",
    "print('NetD, Acc at first',count/10000)\n",
    "Acc_results_D.append(count/10000)\n",
    "\n",
    "#acc at first for NetG\n",
    "train_X, train_Z, train_X_bar, train_Z_bar, train_labels = extract_features2(trainloader, netG, netD)\n",
    "\n",
    "test_X, test_Z, test_X_bar, test_Z_bar, test_labels = extract_features2(testloader, netG, netD)\n",
    "\n",
    "print(\"----------------------------\")\n",
    "print(\"Train_z, Test_z\")\n",
    "nearsub(n_comp, train_Z, train_labels, test_Z, test_labels)\n",
    "\n",
    "\n",
    "#acc at first\n",
    "from sklearn.neighbors import KNeighborsClassifier \n",
    "knn= KNeighborsClassifier(n_neighbors=10) \n",
    "\n",
    "knn.fit(train_Z,train_labels) \n",
    "knn.score(test_Z,test_labels) \n",
    " \n",
    "y_predict = knn.predict(test_Z) \n",
    "\n",
    "count =0\n",
    "for k in range(10000):\n",
    "    if y_predict[k] == test_labels[k]:\n",
    "        count +=1\n",
    "print('NetG, Acc at first',count/10000)\n",
    "Acc_results_G.append(count/10000)\n"
   ]
  },
  {
   "cell_type": "code",
   "execution_count": 10,
   "id": "ab5e89b5",
   "metadata": {},
   "outputs": [],
   "source": [
    "torch.save(netD, 'FMNIST_NetD_changing2-mode11.pth')\n",
    "torch.save(netV, 'FMNIST_NetV_changing2-mode11.pth')\n",
    "torch.save(netG, 'FMNIST_NetG_changing2-mode11.pth')"
   ]
  },
  {
   "cell_type": "markdown",
   "id": "cac9d760",
   "metadata": {},
   "source": [
    "#netD = torch.load('FMNIST_NetD.pth')\n",
    "#netV = torch.load('FMNIST_NetV.pth')\n",
    "#netG = torch.load('FMNIST_NetG.pth')\n",
    "\n",
    "#mode = 1\n",
    "#gam3 = 1"
   ]
  },
  {
   "cell_type": "code",
   "execution_count": 11,
   "id": "a97aa6a9",
   "metadata": {},
   "outputs": [],
   "source": [
    "r_list = [0,0.1,0.2,0.5,1,2,3,4,6,8,10]\n",
    "sample_num = 20"
   ]
  },
  {
   "cell_type": "code",
   "execution_count": 12,
   "id": "5dd88ab6",
   "metadata": {},
   "outputs": [
    {
     "name": "stderr",
     "output_type": "stream",
     "text": [
      "extracting all features from dataset: 100%|██████████████████████████████████████████████| 2/2 [00:04<00:00,  2.17s/it]\n",
      "extracting all features from dataset: 100%|██████████████████████████████████████████████| 1/1 [00:01<00:00,  1.52s/it]\n"
     ]
    },
    {
     "name": "stdout",
     "output_type": "stream",
     "text": [
      "----------------------------\n",
      "Train_z, Test_z\n",
      "PCA: 0.8354\n",
      "SVD: 0.8339\n",
      "NetG_fixD, Acc at sample 1 0.8574\n"
     ]
    },
    {
     "name": "stderr",
     "output_type": "stream",
     "text": [
      "extracting all features from dataset: 100%|██████████████████████████████████████████████| 2/2 [00:04<00:00,  2.09s/it]\n",
      "extracting all features from dataset: 100%|██████████████████████████████████████████████| 1/1 [00:01<00:00,  1.51s/it]\n"
     ]
    },
    {
     "name": "stdout",
     "output_type": "stream",
     "text": [
      "----------------------------\n",
      "Train_z, Test_z\n",
      "PCA: 0.8358\n",
      "SVD: 0.8333\n",
      "NetG_fixD, Acc at sample 2 0.8577\n"
     ]
    },
    {
     "name": "stderr",
     "output_type": "stream",
     "text": [
      "extracting all features from dataset: 100%|██████████████████████████████████████████████| 2/2 [00:04<00:00,  2.16s/it]\n",
      "extracting all features from dataset: 100%|██████████████████████████████████████████████| 1/1 [00:01<00:00,  1.52s/it]\n"
     ]
    },
    {
     "name": "stdout",
     "output_type": "stream",
     "text": [
      "----------------------------\n",
      "Train_z, Test_z\n",
      "PCA: 0.8351999999999999\n",
      "SVD: 0.8333\n",
      "NetG_fixD, Acc at sample 3 0.8586\n"
     ]
    },
    {
     "name": "stderr",
     "output_type": "stream",
     "text": [
      "extracting all features from dataset: 100%|██████████████████████████████████████████████| 2/2 [00:04<00:00,  2.16s/it]\n",
      "extracting all features from dataset: 100%|██████████████████████████████████████████████| 1/1 [00:01<00:00,  1.53s/it]\n"
     ]
    },
    {
     "name": "stdout",
     "output_type": "stream",
     "text": [
      "----------------------------\n",
      "Train_z, Test_z\n",
      "PCA: 0.8363\n",
      "SVD: 0.834\n",
      "NetG_fixD, Acc at sample 4 0.8574\n"
     ]
    },
    {
     "name": "stderr",
     "output_type": "stream",
     "text": [
      "extracting all features from dataset: 100%|██████████████████████████████████████████████| 2/2 [00:04<00:00,  2.10s/it]\n",
      "extracting all features from dataset: 100%|██████████████████████████████████████████████| 1/1 [00:01<00:00,  1.49s/it]\n"
     ]
    },
    {
     "name": "stdout",
     "output_type": "stream",
     "text": [
      "----------------------------\n",
      "Train_z, Test_z\n",
      "PCA: 0.8358\n",
      "SVD: 0.8339\n",
      "NetG_fixD, Acc at sample 5 0.858\n"
     ]
    },
    {
     "name": "stderr",
     "output_type": "stream",
     "text": [
      "extracting all features from dataset: 100%|██████████████████████████████████████████████| 2/2 [00:04<00:00,  2.09s/it]\n",
      "extracting all features from dataset: 100%|██████████████████████████████████████████████| 1/1 [00:01<00:00,  1.51s/it]\n"
     ]
    },
    {
     "name": "stdout",
     "output_type": "stream",
     "text": [
      "----------------------------\n",
      "Train_z, Test_z\n",
      "PCA: 0.8369\n",
      "SVD: 0.8345\n",
      "NetG_fixD, Acc at sample 6 0.8583\n"
     ]
    },
    {
     "name": "stderr",
     "output_type": "stream",
     "text": [
      "extracting all features from dataset: 100%|██████████████████████████████████████████████| 2/2 [00:04<00:00,  2.18s/it]\n",
      "extracting all features from dataset: 100%|██████████████████████████████████████████████| 1/1 [00:01<00:00,  1.51s/it]\n"
     ]
    },
    {
     "name": "stdout",
     "output_type": "stream",
     "text": [
      "----------------------------\n",
      "Train_z, Test_z\n",
      "PCA: 0.8355\n",
      "SVD: 0.8331999999999999\n",
      "NetG_fixD, Acc at sample 7 0.8576\n"
     ]
    },
    {
     "name": "stderr",
     "output_type": "stream",
     "text": [
      "extracting all features from dataset: 100%|██████████████████████████████████████████████| 2/2 [00:04<00:00,  2.18s/it]\n",
      "extracting all features from dataset: 100%|██████████████████████████████████████████████| 1/1 [00:01<00:00,  1.52s/it]\n"
     ]
    },
    {
     "name": "stdout",
     "output_type": "stream",
     "text": [
      "----------------------------\n",
      "Train_z, Test_z\n",
      "PCA: 0.8359\n",
      "SVD: 0.8336\n",
      "NetG_fixD, Acc at sample 8 0.8576\n"
     ]
    },
    {
     "name": "stderr",
     "output_type": "stream",
     "text": [
      "extracting all features from dataset: 100%|██████████████████████████████████████████████| 2/2 [00:04<00:00,  2.12s/it]\n",
      "extracting all features from dataset: 100%|██████████████████████████████████████████████| 1/1 [00:01<00:00,  1.52s/it]\n"
     ]
    },
    {
     "name": "stdout",
     "output_type": "stream",
     "text": [
      "----------------------------\n",
      "Train_z, Test_z\n",
      "PCA: 0.8357\n",
      "SVD: 0.8331\n",
      "NetG_fixD, Acc at sample 9 0.8579\n"
     ]
    },
    {
     "name": "stderr",
     "output_type": "stream",
     "text": [
      "extracting all features from dataset: 100%|██████████████████████████████████████████████| 2/2 [00:04<00:00,  2.14s/it]\n",
      "extracting all features from dataset: 100%|██████████████████████████████████████████████| 1/1 [00:01<00:00,  1.52s/it]\n"
     ]
    },
    {
     "name": "stdout",
     "output_type": "stream",
     "text": [
      "----------------------------\n",
      "Train_z, Test_z\n",
      "PCA: 0.8352999999999999\n",
      "SVD: 0.8335\n",
      "NetG_fixD, Acc at sample 10 0.8577\n"
     ]
    },
    {
     "name": "stderr",
     "output_type": "stream",
     "text": [
      "extracting all features from dataset: 100%|██████████████████████████████████████████████| 2/2 [00:04<00:00,  2.17s/it]\n",
      "extracting all features from dataset: 100%|██████████████████████████████████████████████| 1/1 [00:01<00:00,  1.51s/it]\n"
     ]
    },
    {
     "name": "stdout",
     "output_type": "stream",
     "text": [
      "----------------------------\n",
      "Train_z, Test_z\n",
      "PCA: 0.8357\n",
      "SVD: 0.8338\n",
      "NetG_fixD, Acc at sample 11 0.8574\n"
     ]
    },
    {
     "name": "stderr",
     "output_type": "stream",
     "text": [
      "extracting all features from dataset: 100%|██████████████████████████████████████████████| 2/2 [00:04<00:00,  2.04s/it]\n",
      "extracting all features from dataset: 100%|██████████████████████████████████████████████| 1/1 [00:01<00:00,  1.53s/it]\n"
     ]
    },
    {
     "name": "stdout",
     "output_type": "stream",
     "text": [
      "----------------------------\n",
      "Train_z, Test_z\n",
      "PCA: 0.8356\n",
      "SVD: 0.8334\n",
      "NetG_fixD, Acc at sample 12 0.8587\n"
     ]
    },
    {
     "name": "stderr",
     "output_type": "stream",
     "text": [
      "extracting all features from dataset: 100%|██████████████████████████████████████████████| 2/2 [00:04<00:00,  2.15s/it]\n",
      "extracting all features from dataset: 100%|██████████████████████████████████████████████| 1/1 [00:01<00:00,  1.54s/it]\n"
     ]
    },
    {
     "name": "stdout",
     "output_type": "stream",
     "text": [
      "----------------------------\n",
      "Train_z, Test_z\n",
      "PCA: 0.8358\n",
      "SVD: 0.8338\n",
      "NetG_fixD, Acc at sample 13 0.8571\n"
     ]
    },
    {
     "name": "stderr",
     "output_type": "stream",
     "text": [
      "extracting all features from dataset: 100%|██████████████████████████████████████████████| 2/2 [00:04<00:00,  2.17s/it]\n",
      "extracting all features from dataset: 100%|██████████████████████████████████████████████| 1/1 [00:01<00:00,  1.45s/it]\n"
     ]
    },
    {
     "name": "stdout",
     "output_type": "stream",
     "text": [
      "----------------------------\n",
      "Train_z, Test_z\n",
      "PCA: 0.8347\n",
      "SVD: 0.8329\n",
      "NetG_fixD, Acc at sample 14 0.8568\n"
     ]
    },
    {
     "name": "stderr",
     "output_type": "stream",
     "text": [
      "extracting all features from dataset: 100%|██████████████████████████████████████████████| 2/2 [00:04<00:00,  2.06s/it]\n",
      "extracting all features from dataset: 100%|██████████████████████████████████████████████| 1/1 [00:01<00:00,  1.52s/it]\n"
     ]
    },
    {
     "name": "stdout",
     "output_type": "stream",
     "text": [
      "----------------------------\n",
      "Train_z, Test_z\n",
      "PCA: 0.8361000000000001\n",
      "SVD: 0.8333\n",
      "NetG_fixD, Acc at sample 15 0.8572\n"
     ]
    },
    {
     "name": "stderr",
     "output_type": "stream",
     "text": [
      "extracting all features from dataset: 100%|██████████████████████████████████████████████| 2/2 [00:04<00:00,  2.10s/it]\n",
      "extracting all features from dataset: 100%|██████████████████████████████████████████████| 1/1 [00:01<00:00,  1.51s/it]\n"
     ]
    },
    {
     "name": "stdout",
     "output_type": "stream",
     "text": [
      "----------------------------\n",
      "Train_z, Test_z\n",
      "PCA: 0.8352999999999999\n",
      "SVD: 0.8341000000000001\n",
      "NetG_fixD, Acc at sample 16 0.8578\n"
     ]
    },
    {
     "name": "stderr",
     "output_type": "stream",
     "text": [
      "extracting all features from dataset: 100%|██████████████████████████████████████████████| 2/2 [00:04<00:00,  2.14s/it]\n",
      "extracting all features from dataset: 100%|██████████████████████████████████████████████| 1/1 [00:01<00:00,  1.50s/it]\n"
     ]
    },
    {
     "name": "stdout",
     "output_type": "stream",
     "text": [
      "----------------------------\n",
      "Train_z, Test_z\n",
      "PCA: 0.8363\n",
      "SVD: 0.8337\n",
      "NetG_fixD, Acc at sample 17 0.8581\n"
     ]
    },
    {
     "name": "stderr",
     "output_type": "stream",
     "text": [
      "extracting all features from dataset: 100%|██████████████████████████████████████████████| 2/2 [00:04<00:00,  2.14s/it]\n",
      "extracting all features from dataset: 100%|██████████████████████████████████████████████| 1/1 [00:01<00:00,  1.53s/it]\n"
     ]
    },
    {
     "name": "stdout",
     "output_type": "stream",
     "text": [
      "----------------------------\n",
      "Train_z, Test_z\n",
      "PCA: 0.8366\n",
      "SVD: 0.8331\n",
      "NetG_fixD, Acc at sample 18 0.8585\n"
     ]
    },
    {
     "name": "stderr",
     "output_type": "stream",
     "text": [
      "extracting all features from dataset: 100%|██████████████████████████████████████████████| 2/2 [00:04<00:00,  2.19s/it]\n",
      "extracting all features from dataset: 100%|██████████████████████████████████████████████| 1/1 [00:01<00:00,  1.51s/it]\n"
     ]
    },
    {
     "name": "stdout",
     "output_type": "stream",
     "text": [
      "----------------------------\n",
      "Train_z, Test_z\n",
      "PCA: 0.8362\n",
      "SVD: 0.8336\n",
      "NetG_fixD, Acc at sample 19 0.8583\n"
     ]
    },
    {
     "name": "stderr",
     "output_type": "stream",
     "text": [
      "extracting all features from dataset: 100%|██████████████████████████████████████████████| 2/2 [00:04<00:00,  2.09s/it]\n",
      "extracting all features from dataset: 100%|██████████████████████████████████████████████| 1/1 [00:01<00:00,  1.53s/it]\n"
     ]
    },
    {
     "name": "stdout",
     "output_type": "stream",
     "text": [
      "----------------------------\n",
      "Train_z, Test_z\n",
      "PCA: 0.8365\n",
      "SVD: 0.8334\n",
      "NetG_fixD, Acc at sample 20 0.8577\n",
      "0.8587 0.8568 0.8577900000000002 2.508999999999969e-07\n"
     ]
    }
   ],
   "source": [
    "# sample 20 times of NetG at final radius, NetD is fixed, length 0.1,0.2,0.5,1,2,4,6,8,10,15,20\n",
    "from sklearn.neighbors import KNeighborsClassifier \n",
    "Acc_results_G_sample = []\n",
    "for _ in range(sample_num):\n",
    "    #acc at first\n",
    "    net_noise = get_noise(DATASET, device, LABEL)\n",
    "    fed_state_dict = get_netG(netD,netV,net_noise,r_list[1])\n",
    "    netG.load_state_dict(fed_state_dict)\n",
    "    \n",
    "    train_X, train_Z, train_X_bar, train_Z_bar, train_labels = extract_features2(trainloader, netG, netD)\n",
    "\n",
    "    test_X, test_Z, test_X_bar, test_Z_bar, test_labels = extract_features2(testloader, netG, netD)\n",
    "\n",
    "    print(\"----------------------------\")\n",
    "    print(\"Train_z, Test_z\")\n",
    "    nearsub(n_comp, train_Z, train_labels, test_Z, test_labels)\n",
    "\n",
    "    knn= KNeighborsClassifier(n_neighbors=10) \n",
    "\n",
    "    knn.fit(train_Z,train_labels) \n",
    "    knn.score(test_Z_bar,test_labels) \n",
    "\n",
    "    y_predict = knn.predict(test_Z_bar) \n",
    "\n",
    "    count =0\n",
    "    for k in range(10000):\n",
    "        if y_predict[k] == test_labels[k]:\n",
    "            count +=1\n",
    "    print('NetG_fixD, Acc at sample',_+1,count/10000)\n",
    "    Acc_results_G_sample.append(count/10000)\n",
    "    \n",
    "print(max(Acc_results_G_sample),min(Acc_results_G_sample),np.mean(Acc_results_G_sample),np.var(Acc_results_G_sample))"
   ]
  },
  {
   "cell_type": "code",
   "execution_count": 13,
   "id": "05bfe135",
   "metadata": {},
   "outputs": [
    {
     "name": "stderr",
     "output_type": "stream",
     "text": [
      "extracting all features from dataset: 100%|██████████████████████████████████████████████| 2/2 [00:04<00:00,  2.19s/it]\n",
      "extracting all features from dataset: 100%|██████████████████████████████████████████████| 1/1 [00:01<00:00,  1.54s/it]\n"
     ]
    },
    {
     "name": "stdout",
     "output_type": "stream",
     "text": [
      "----------------------------\n",
      "Train_z, Test_z\n",
      "PCA: 0.8351999999999999\n",
      "SVD: 0.833\n",
      "NetG_fixD, Acc at sample 1 0.8581\n"
     ]
    },
    {
     "name": "stderr",
     "output_type": "stream",
     "text": [
      "extracting all features from dataset: 100%|██████████████████████████████████████████████| 2/2 [00:04<00:00,  2.16s/it]\n",
      "extracting all features from dataset: 100%|██████████████████████████████████████████████| 1/1 [00:01<00:00,  1.54s/it]\n"
     ]
    },
    {
     "name": "stdout",
     "output_type": "stream",
     "text": [
      "----------------------------\n",
      "Train_z, Test_z\n",
      "PCA: 0.8358\n",
      "SVD: 0.8335\n",
      "NetG_fixD, Acc at sample 2 0.8563\n"
     ]
    },
    {
     "name": "stderr",
     "output_type": "stream",
     "text": [
      "extracting all features from dataset: 100%|██████████████████████████████████████████████| 2/2 [00:04<00:00,  2.10s/it]\n",
      "extracting all features from dataset: 100%|██████████████████████████████████████████████| 1/1 [00:01<00:00,  1.52s/it]\n"
     ]
    },
    {
     "name": "stdout",
     "output_type": "stream",
     "text": [
      "----------------------------\n",
      "Train_z, Test_z\n",
      "PCA: 0.8354\n",
      "SVD: 0.8348\n",
      "NetG_fixD, Acc at sample 3 0.8591\n"
     ]
    },
    {
     "name": "stderr",
     "output_type": "stream",
     "text": [
      "extracting all features from dataset: 100%|██████████████████████████████████████████████| 2/2 [00:04<00:00,  2.05s/it]\n",
      "extracting all features from dataset: 100%|██████████████████████████████████████████████| 1/1 [00:01<00:00,  1.51s/it]\n"
     ]
    },
    {
     "name": "stdout",
     "output_type": "stream",
     "text": [
      "----------------------------\n",
      "Train_z, Test_z\n",
      "PCA: 0.8359\n",
      "SVD: 0.8336\n",
      "NetG_fixD, Acc at sample 4 0.8572\n"
     ]
    },
    {
     "name": "stderr",
     "output_type": "stream",
     "text": [
      "extracting all features from dataset: 100%|██████████████████████████████████████████████| 2/2 [00:04<00:00,  2.21s/it]\n",
      "extracting all features from dataset: 100%|██████████████████████████████████████████████| 1/1 [00:01<00:00,  1.51s/it]\n"
     ]
    },
    {
     "name": "stdout",
     "output_type": "stream",
     "text": [
      "----------------------------\n",
      "Train_z, Test_z\n",
      "PCA: 0.835\n",
      "SVD: 0.8331999999999999\n",
      "NetG_fixD, Acc at sample 5 0.8579\n"
     ]
    },
    {
     "name": "stderr",
     "output_type": "stream",
     "text": [
      "extracting all features from dataset: 100%|██████████████████████████████████████████████| 2/2 [00:04<00:00,  2.07s/it]\n",
      "extracting all features from dataset: 100%|██████████████████████████████████████████████| 1/1 [00:01<00:00,  1.53s/it]\n"
     ]
    },
    {
     "name": "stdout",
     "output_type": "stream",
     "text": [
      "----------------------------\n",
      "Train_z, Test_z\n",
      "PCA: 0.8351999999999999\n",
      "SVD: 0.8334\n",
      "NetG_fixD, Acc at sample 6 0.8577\n"
     ]
    },
    {
     "name": "stderr",
     "output_type": "stream",
     "text": [
      "extracting all features from dataset: 100%|██████████████████████████████████████████████| 2/2 [00:04<00:00,  2.17s/it]\n",
      "extracting all features from dataset: 100%|██████████████████████████████████████████████| 1/1 [00:01<00:00,  1.52s/it]\n"
     ]
    },
    {
     "name": "stdout",
     "output_type": "stream",
     "text": [
      "----------------------------\n",
      "Train_z, Test_z\n",
      "PCA: 0.8364\n",
      "SVD: 0.8342\n",
      "NetG_fixD, Acc at sample 7 0.8568\n"
     ]
    },
    {
     "name": "stderr",
     "output_type": "stream",
     "text": [
      "extracting all features from dataset: 100%|██████████████████████████████████████████████| 2/2 [00:04<00:00,  2.15s/it]\n",
      "extracting all features from dataset: 100%|██████████████████████████████████████████████| 1/1 [00:01<00:00,  1.51s/it]\n"
     ]
    },
    {
     "name": "stdout",
     "output_type": "stream",
     "text": [
      "----------------------------\n",
      "Train_z, Test_z\n",
      "PCA: 0.8356\n",
      "SVD: 0.8333\n",
      "NetG_fixD, Acc at sample 8 0.8565\n"
     ]
    },
    {
     "name": "stderr",
     "output_type": "stream",
     "text": [
      "extracting all features from dataset: 100%|██████████████████████████████████████████████| 2/2 [00:04<00:00,  2.07s/it]\n",
      "extracting all features from dataset: 100%|██████████████████████████████████████████████| 1/1 [00:01<00:00,  1.52s/it]\n"
     ]
    },
    {
     "name": "stdout",
     "output_type": "stream",
     "text": [
      "----------------------------\n",
      "Train_z, Test_z\n",
      "PCA: 0.8343\n",
      "SVD: 0.8328\n",
      "NetG_fixD, Acc at sample 9 0.8572\n"
     ]
    },
    {
     "name": "stderr",
     "output_type": "stream",
     "text": [
      "extracting all features from dataset: 100%|██████████████████████████████████████████████| 2/2 [00:04<00:00,  2.06s/it]\n",
      "extracting all features from dataset: 100%|██████████████████████████████████████████████| 1/1 [00:01<00:00,  1.52s/it]\n"
     ]
    },
    {
     "name": "stdout",
     "output_type": "stream",
     "text": [
      "----------------------------\n",
      "Train_z, Test_z\n",
      "PCA: 0.8362\n",
      "SVD: 0.8336\n",
      "NetG_fixD, Acc at sample 10 0.8578\n"
     ]
    },
    {
     "name": "stderr",
     "output_type": "stream",
     "text": [
      "extracting all features from dataset: 100%|██████████████████████████████████████████████| 2/2 [00:04<00:00,  2.12s/it]\n",
      "extracting all features from dataset: 100%|██████████████████████████████████████████████| 1/1 [00:01<00:00,  1.53s/it]\n"
     ]
    },
    {
     "name": "stdout",
     "output_type": "stream",
     "text": [
      "----------------------------\n",
      "Train_z, Test_z\n",
      "PCA: 0.8342\n",
      "SVD: 0.8322\n",
      "NetG_fixD, Acc at sample 11 0.8572\n"
     ]
    },
    {
     "name": "stderr",
     "output_type": "stream",
     "text": [
      "extracting all features from dataset: 100%|██████████████████████████████████████████████| 2/2 [00:04<00:00,  2.17s/it]\n",
      "extracting all features from dataset: 100%|██████████████████████████████████████████████| 1/1 [00:01<00:00,  1.52s/it]\n"
     ]
    },
    {
     "name": "stdout",
     "output_type": "stream",
     "text": [
      "----------------------------\n",
      "Train_z, Test_z\n",
      "PCA: 0.836\n",
      "SVD: 0.8344\n",
      "NetG_fixD, Acc at sample 12 0.8568\n"
     ]
    },
    {
     "name": "stderr",
     "output_type": "stream",
     "text": [
      "extracting all features from dataset: 100%|██████████████████████████████████████████████| 2/2 [00:04<00:00,  2.10s/it]\n",
      "extracting all features from dataset: 100%|██████████████████████████████████████████████| 1/1 [00:01<00:00,  1.52s/it]\n"
     ]
    },
    {
     "name": "stdout",
     "output_type": "stream",
     "text": [
      "----------------------------\n",
      "Train_z, Test_z\n",
      "PCA: 0.8344\n",
      "SVD: 0.8336\n",
      "NetG_fixD, Acc at sample 13 0.8566\n"
     ]
    },
    {
     "name": "stderr",
     "output_type": "stream",
     "text": [
      "extracting all features from dataset: 100%|██████████████████████████████████████████████| 2/2 [00:04<00:00,  2.10s/it]\n",
      "extracting all features from dataset: 100%|██████████████████████████████████████████████| 1/1 [00:01<00:00,  1.51s/it]\n"
     ]
    },
    {
     "name": "stdout",
     "output_type": "stream",
     "text": [
      "----------------------------\n",
      "Train_z, Test_z\n",
      "PCA: 0.8357\n",
      "SVD: 0.834\n",
      "NetG_fixD, Acc at sample 14 0.8559\n"
     ]
    },
    {
     "name": "stderr",
     "output_type": "stream",
     "text": [
      "extracting all features from dataset: 100%|██████████████████████████████████████████████| 2/2 [00:04<00:00,  2.14s/it]\n",
      "extracting all features from dataset: 100%|██████████████████████████████████████████████| 1/1 [00:01<00:00,  1.51s/it]\n"
     ]
    },
    {
     "name": "stdout",
     "output_type": "stream",
     "text": [
      "----------------------------\n",
      "Train_z, Test_z\n",
      "PCA: 0.8357\n",
      "SVD: 0.8342\n",
      "NetG_fixD, Acc at sample 15 0.8575\n"
     ]
    },
    {
     "name": "stderr",
     "output_type": "stream",
     "text": [
      "extracting all features from dataset: 100%|██████████████████████████████████████████████| 2/2 [00:04<00:00,  2.15s/it]\n",
      "extracting all features from dataset: 100%|██████████████████████████████████████████████| 1/1 [00:01<00:00,  1.51s/it]\n"
     ]
    },
    {
     "name": "stdout",
     "output_type": "stream",
     "text": [
      "----------------------------\n",
      "Train_z, Test_z\n",
      "PCA: 0.8356\n",
      "SVD: 0.8342\n",
      "NetG_fixD, Acc at sample 16 0.8564\n"
     ]
    },
    {
     "name": "stderr",
     "output_type": "stream",
     "text": [
      "extracting all features from dataset: 100%|██████████████████████████████████████████████| 2/2 [00:04<00:00,  2.15s/it]\n",
      "extracting all features from dataset: 100%|██████████████████████████████████████████████| 1/1 [00:01<00:00,  1.51s/it]\n"
     ]
    },
    {
     "name": "stdout",
     "output_type": "stream",
     "text": [
      "----------------------------\n",
      "Train_z, Test_z\n",
      "PCA: 0.8356\n",
      "SVD: 0.8348\n",
      "NetG_fixD, Acc at sample 17 0.8577\n"
     ]
    },
    {
     "name": "stderr",
     "output_type": "stream",
     "text": [
      "extracting all features from dataset: 100%|██████████████████████████████████████████████| 2/2 [00:04<00:00,  2.06s/it]\n",
      "extracting all features from dataset: 100%|██████████████████████████████████████████████| 1/1 [00:01<00:00,  1.50s/it]\n"
     ]
    },
    {
     "name": "stdout",
     "output_type": "stream",
     "text": [
      "----------------------------\n",
      "Train_z, Test_z\n",
      "PCA: 0.8357\n",
      "SVD: 0.8333\n",
      "NetG_fixD, Acc at sample 18 0.8576\n"
     ]
    },
    {
     "name": "stderr",
     "output_type": "stream",
     "text": [
      "extracting all features from dataset: 100%|██████████████████████████████████████████████| 2/2 [00:04<00:00,  2.15s/it]\n",
      "extracting all features from dataset: 100%|██████████████████████████████████████████████| 1/1 [00:01<00:00,  1.52s/it]\n"
     ]
    },
    {
     "name": "stdout",
     "output_type": "stream",
     "text": [
      "----------------------------\n",
      "Train_z, Test_z\n",
      "PCA: 0.8357\n",
      "SVD: 0.8343\n",
      "NetG_fixD, Acc at sample 19 0.8563\n"
     ]
    },
    {
     "name": "stderr",
     "output_type": "stream",
     "text": [
      "extracting all features from dataset: 100%|██████████████████████████████████████████████| 2/2 [00:04<00:00,  2.04s/it]\n",
      "extracting all features from dataset: 100%|██████████████████████████████████████████████| 1/1 [00:01<00:00,  1.53s/it]\n"
     ]
    },
    {
     "name": "stdout",
     "output_type": "stream",
     "text": [
      "----------------------------\n",
      "Train_z, Test_z\n",
      "PCA: 0.8345\n",
      "SVD: 0.8325\n",
      "NetG_fixD, Acc at sample 20 0.8579\n",
      "0.8591 0.8559 0.857225 5.808749999999977e-07\n"
     ]
    }
   ],
   "source": [
    "# sample 20 times of NetG at final radius, NetD is fixed\n",
    "from sklearn.neighbors import KNeighborsClassifier \n",
    "Acc_results_G_sample2 = []\n",
    "\n",
    "for _ in range(sample_num):\n",
    "    #acc at first\n",
    "    net_noise = get_noise(DATASET, device, LABEL)\n",
    "    fed_state_dict = get_netG(netD,netV,net_noise,r_list[2])\n",
    "    netG.load_state_dict(fed_state_dict)\n",
    "    \n",
    "    train_X, train_Z, train_X_bar, train_Z_bar, train_labels = extract_features2(trainloader, netG, netD)\n",
    "\n",
    "    test_X, test_Z, test_X_bar, test_Z_bar, test_labels = extract_features2(testloader, netG, netD)\n",
    "\n",
    "    print(\"----------------------------\")\n",
    "    print(\"Train_z, Test_z\")\n",
    "    nearsub(n_comp, train_Z, train_labels, test_Z, test_labels)\n",
    "\n",
    "    knn= KNeighborsClassifier(n_neighbors=10) \n",
    "\n",
    "    knn.fit(train_Z,train_labels) \n",
    "    knn.score(test_Z_bar,test_labels) \n",
    "\n",
    "    y_predict = knn.predict(test_Z_bar) \n",
    "\n",
    "    count =0\n",
    "    for k in range(10000):\n",
    "        if y_predict[k] == test_labels[k]:\n",
    "            count +=1\n",
    "    print('NetG_fixD, Acc at sample',_+1,count/10000)\n",
    "    Acc_results_G_sample2.append(count/10000)\n",
    "    \n",
    "print(max(Acc_results_G_sample2),min(Acc_results_G_sample2),np.mean(Acc_results_G_sample2),np.var(Acc_results_G_sample2))"
   ]
  },
  {
   "cell_type": "code",
   "execution_count": 14,
   "id": "1daf6e7b",
   "metadata": {},
   "outputs": [
    {
     "name": "stderr",
     "output_type": "stream",
     "text": [
      "extracting all features from dataset: 100%|██████████████████████████████████████████████| 2/2 [00:04<00:00,  2.16s/it]\n",
      "extracting all features from dataset: 100%|██████████████████████████████████████████████| 1/1 [00:01<00:00,  1.52s/it]\n"
     ]
    },
    {
     "name": "stdout",
     "output_type": "stream",
     "text": [
      "----------------------------\n",
      "Train_z, Test_z\n",
      "PCA: 0.8345\n",
      "SVD: 0.8336\n",
      "NetG_fixD, Acc at sample 1 0.8563\n"
     ]
    },
    {
     "name": "stderr",
     "output_type": "stream",
     "text": [
      "extracting all features from dataset: 100%|██████████████████████████████████████████████| 2/2 [00:04<00:00,  2.12s/it]\n",
      "extracting all features from dataset: 100%|██████████████████████████████████████████████| 1/1 [00:01<00:00,  1.52s/it]\n"
     ]
    },
    {
     "name": "stdout",
     "output_type": "stream",
     "text": [
      "----------------------------\n",
      "Train_z, Test_z\n",
      "PCA: 0.8356\n",
      "SVD: 0.8351999999999999\n",
      "NetG_fixD, Acc at sample 2 0.8565\n"
     ]
    },
    {
     "name": "stderr",
     "output_type": "stream",
     "text": [
      "extracting all features from dataset: 100%|██████████████████████████████████████████████| 2/2 [00:04<00:00,  2.17s/it]\n",
      "extracting all features from dataset: 100%|██████████████████████████████████████████████| 1/1 [00:01<00:00,  1.52s/it]\n"
     ]
    },
    {
     "name": "stdout",
     "output_type": "stream",
     "text": [
      "----------------------------\n",
      "Train_z, Test_z\n",
      "PCA: 0.8345\n",
      "SVD: 0.8317\n",
      "NetG_fixD, Acc at sample 3 0.857\n"
     ]
    },
    {
     "name": "stderr",
     "output_type": "stream",
     "text": [
      "extracting all features from dataset: 100%|██████████████████████████████████████████████| 2/2 [00:04<00:00,  2.08s/it]\n",
      "extracting all features from dataset: 100%|██████████████████████████████████████████████| 1/1 [00:01<00:00,  1.51s/it]\n"
     ]
    },
    {
     "name": "stdout",
     "output_type": "stream",
     "text": [
      "----------------------------\n",
      "Train_z, Test_z\n",
      "PCA: 0.8341000000000001\n",
      "SVD: 0.8333\n",
      "NetG_fixD, Acc at sample 4 0.8541\n"
     ]
    },
    {
     "name": "stderr",
     "output_type": "stream",
     "text": [
      "extracting all features from dataset: 100%|██████████████████████████████████████████████| 2/2 [00:04<00:00,  2.19s/it]\n",
      "extracting all features from dataset: 100%|██████████████████████████████████████████████| 1/1 [00:01<00:00,  1.50s/it]\n"
     ]
    },
    {
     "name": "stdout",
     "output_type": "stream",
     "text": [
      "----------------------------\n",
      "Train_z, Test_z\n",
      "PCA: 0.8331\n",
      "SVD: 0.8333\n",
      "NetG_fixD, Acc at sample 5 0.858\n"
     ]
    },
    {
     "name": "stderr",
     "output_type": "stream",
     "text": [
      "extracting all features from dataset: 100%|██████████████████████████████████████████████| 2/2 [00:04<00:00,  2.21s/it]\n",
      "extracting all features from dataset: 100%|██████████████████████████████████████████████| 1/1 [00:01<00:00,  1.51s/it]\n"
     ]
    },
    {
     "name": "stdout",
     "output_type": "stream",
     "text": [
      "----------------------------\n",
      "Train_z, Test_z\n",
      "PCA: 0.8374\n",
      "SVD: 0.8331999999999999\n",
      "NetG_fixD, Acc at sample 6 0.856\n"
     ]
    },
    {
     "name": "stderr",
     "output_type": "stream",
     "text": [
      "extracting all features from dataset: 100%|██████████████████████████████████████████████| 2/2 [00:04<00:00,  2.20s/it]\n",
      "extracting all features from dataset: 100%|██████████████████████████████████████████████| 1/1 [00:01<00:00,  1.53s/it]\n"
     ]
    },
    {
     "name": "stdout",
     "output_type": "stream",
     "text": [
      "----------------------------\n",
      "Train_z, Test_z\n",
      "PCA: 0.8369\n",
      "SVD: 0.8334\n",
      "NetG_fixD, Acc at sample 7 0.8565\n"
     ]
    },
    {
     "name": "stderr",
     "output_type": "stream",
     "text": [
      "extracting all features from dataset: 100%|██████████████████████████████████████████████| 2/2 [00:04<00:00,  2.02s/it]\n",
      "extracting all features from dataset: 100%|██████████████████████████████████████████████| 1/1 [00:01<00:00,  1.52s/it]\n"
     ]
    },
    {
     "name": "stdout",
     "output_type": "stream",
     "text": [
      "----------------------------\n",
      "Train_z, Test_z\n",
      "PCA: 0.8355\n",
      "SVD: 0.8331999999999999\n",
      "NetG_fixD, Acc at sample 8 0.8552\n"
     ]
    },
    {
     "name": "stderr",
     "output_type": "stream",
     "text": [
      "extracting all features from dataset: 100%|██████████████████████████████████████████████| 2/2 [00:04<00:00,  2.14s/it]\n",
      "extracting all features from dataset: 100%|██████████████████████████████████████████████| 1/1 [00:01<00:00,  1.52s/it]\n"
     ]
    },
    {
     "name": "stdout",
     "output_type": "stream",
     "text": [
      "----------------------------\n",
      "Train_z, Test_z\n",
      "PCA: 0.8348\n",
      "SVD: 0.833\n",
      "NetG_fixD, Acc at sample 9 0.8548\n"
     ]
    },
    {
     "name": "stderr",
     "output_type": "stream",
     "text": [
      "extracting all features from dataset: 100%|██████████████████████████████████████████████| 2/2 [00:04<00:00,  2.11s/it]\n",
      "extracting all features from dataset: 100%|██████████████████████████████████████████████| 1/1 [00:01<00:00,  1.49s/it]\n"
     ]
    },
    {
     "name": "stdout",
     "output_type": "stream",
     "text": [
      "----------------------------\n",
      "Train_z, Test_z\n",
      "PCA: 0.8345\n",
      "SVD: 0.8307\n",
      "NetG_fixD, Acc at sample 10 0.857\n"
     ]
    },
    {
     "name": "stderr",
     "output_type": "stream",
     "text": [
      "extracting all features from dataset: 100%|██████████████████████████████████████████████| 2/2 [00:04<00:00,  2.16s/it]\n",
      "extracting all features from dataset: 100%|██████████████████████████████████████████████| 1/1 [00:01<00:00,  1.52s/it]\n"
     ]
    },
    {
     "name": "stdout",
     "output_type": "stream",
     "text": [
      "----------------------------\n",
      "Train_z, Test_z\n",
      "PCA: 0.8344\n",
      "SVD: 0.8329\n",
      "NetG_fixD, Acc at sample 11 0.854\n"
     ]
    },
    {
     "name": "stderr",
     "output_type": "stream",
     "text": [
      "extracting all features from dataset: 100%|██████████████████████████████████████████████| 2/2 [00:04<00:00,  2.21s/it]\n",
      "extracting all features from dataset: 100%|██████████████████████████████████████████████| 1/1 [00:01<00:00,  1.48s/it]\n"
     ]
    },
    {
     "name": "stdout",
     "output_type": "stream",
     "text": [
      "----------------------------\n",
      "Train_z, Test_z\n",
      "PCA: 0.8357\n",
      "SVD: 0.831\n",
      "NetG_fixD, Acc at sample 12 0.8558\n"
     ]
    },
    {
     "name": "stderr",
     "output_type": "stream",
     "text": [
      "extracting all features from dataset: 100%|██████████████████████████████████████████████| 2/2 [00:04<00:00,  2.14s/it]\n",
      "extracting all features from dataset: 100%|██████████████████████████████████████████████| 1/1 [00:01<00:00,  1.53s/it]\n"
     ]
    },
    {
     "name": "stdout",
     "output_type": "stream",
     "text": [
      "----------------------------\n",
      "Train_z, Test_z\n",
      "PCA: 0.8337\n",
      "SVD: 0.8334\n",
      "NetG_fixD, Acc at sample 13 0.8551\n"
     ]
    },
    {
     "name": "stderr",
     "output_type": "stream",
     "text": [
      "extracting all features from dataset: 100%|██████████████████████████████████████████████| 2/2 [00:04<00:00,  2.20s/it]\n",
      "extracting all features from dataset: 100%|██████████████████████████████████████████████| 1/1 [00:01<00:00,  1.49s/it]\n"
     ]
    },
    {
     "name": "stdout",
     "output_type": "stream",
     "text": [
      "----------------------------\n",
      "Train_z, Test_z\n",
      "PCA: 0.8358\n",
      "SVD: 0.833\n",
      "NetG_fixD, Acc at sample 14 0.8565\n"
     ]
    },
    {
     "name": "stderr",
     "output_type": "stream",
     "text": [
      "extracting all features from dataset: 100%|██████████████████████████████████████████████| 2/2 [00:04<00:00,  2.15s/it]\n",
      "extracting all features from dataset: 100%|██████████████████████████████████████████████| 1/1 [00:01<00:00,  1.53s/it]\n"
     ]
    },
    {
     "name": "stdout",
     "output_type": "stream",
     "text": [
      "----------------------------\n",
      "Train_z, Test_z\n",
      "PCA: 0.8348\n",
      "SVD: 0.8327\n",
      "NetG_fixD, Acc at sample 15 0.8581\n"
     ]
    },
    {
     "name": "stderr",
     "output_type": "stream",
     "text": [
      "extracting all features from dataset: 100%|██████████████████████████████████████████████| 2/2 [00:04<00:00,  2.10s/it]\n",
      "extracting all features from dataset: 100%|██████████████████████████████████████████████| 1/1 [00:01<00:00,  1.50s/it]\n"
     ]
    },
    {
     "name": "stdout",
     "output_type": "stream",
     "text": [
      "----------------------------\n",
      "Train_z, Test_z\n",
      "PCA: 0.8357\n",
      "SVD: 0.8315\n",
      "NetG_fixD, Acc at sample 16 0.8574\n"
     ]
    },
    {
     "name": "stderr",
     "output_type": "stream",
     "text": [
      "extracting all features from dataset: 100%|██████████████████████████████████████████████| 2/2 [00:04<00:00,  2.17s/it]\n",
      "extracting all features from dataset: 100%|██████████████████████████████████████████████| 1/1 [00:01<00:00,  1.52s/it]\n"
     ]
    },
    {
     "name": "stdout",
     "output_type": "stream",
     "text": [
      "----------------------------\n",
      "Train_z, Test_z\n",
      "PCA: 0.8335\n",
      "SVD: 0.8342\n",
      "NetG_fixD, Acc at sample 17 0.8566\n"
     ]
    },
    {
     "name": "stderr",
     "output_type": "stream",
     "text": [
      "extracting all features from dataset: 100%|██████████████████████████████████████████████| 2/2 [00:04<00:00,  2.17s/it]\n",
      "extracting all features from dataset: 100%|██████████████████████████████████████████████| 1/1 [00:01<00:00,  1.52s/it]\n"
     ]
    },
    {
     "name": "stdout",
     "output_type": "stream",
     "text": [
      "----------------------------\n",
      "Train_z, Test_z\n",
      "PCA: 0.8364\n",
      "SVD: 0.8342\n",
      "NetG_fixD, Acc at sample 18 0.858\n"
     ]
    },
    {
     "name": "stderr",
     "output_type": "stream",
     "text": [
      "extracting all features from dataset: 100%|██████████████████████████████████████████████| 2/2 [00:04<00:00,  2.10s/it]\n",
      "extracting all features from dataset: 100%|██████████████████████████████████████████████| 1/1 [00:01<00:00,  1.51s/it]\n"
     ]
    },
    {
     "name": "stdout",
     "output_type": "stream",
     "text": [
      "----------------------------\n",
      "Train_z, Test_z\n",
      "PCA: 0.8351\n",
      "SVD: 0.8334\n",
      "NetG_fixD, Acc at sample 19 0.8557\n"
     ]
    },
    {
     "name": "stderr",
     "output_type": "stream",
     "text": [
      "extracting all features from dataset: 100%|██████████████████████████████████████████████| 2/2 [00:04<00:00,  2.05s/it]\n",
      "extracting all features from dataset: 100%|██████████████████████████████████████████████| 1/1 [00:01<00:00,  1.52s/it]\n"
     ]
    },
    {
     "name": "stdout",
     "output_type": "stream",
     "text": [
      "----------------------------\n",
      "Train_z, Test_z\n",
      "PCA: 0.8337\n",
      "SVD: 0.8316\n",
      "NetG_fixD, Acc at sample 20 0.8534\n",
      "0.8581 0.8534 0.8561 1.7380000000000003e-06\n"
     ]
    }
   ],
   "source": [
    "# sample 50 times of NetG at final radius, NetD is fixed\n",
    "from sklearn.neighbors import KNeighborsClassifier \n",
    "Acc_results_G_sample3 = []\n",
    "\n",
    "for _ in range(sample_num):\n",
    "    #acc at first\n",
    "    net_noise = get_noise(DATASET, device, LABEL)\n",
    "    fed_state_dict = get_netG(netD,netV,net_noise,r_list[3])\n",
    "    netG.load_state_dict(fed_state_dict)\n",
    "    \n",
    "    train_X, train_Z, train_X_bar, train_Z_bar, train_labels = extract_features2(trainloader, netG, netD)\n",
    "\n",
    "    test_X, test_Z, test_X_bar, test_Z_bar, test_labels = extract_features2(testloader, netG, netD)\n",
    "\n",
    "    print(\"----------------------------\")\n",
    "    print(\"Train_z, Test_z\")\n",
    "    nearsub(n_comp, train_Z, train_labels, test_Z, test_labels)\n",
    "\n",
    "    knn= KNeighborsClassifier(n_neighbors=10) \n",
    "\n",
    "    knn.fit(train_Z,train_labels) \n",
    "    knn.score(test_Z_bar,test_labels) \n",
    "\n",
    "    y_predict = knn.predict(test_Z_bar) \n",
    "\n",
    "    count =0\n",
    "    for k in range(10000):\n",
    "        if y_predict[k] == test_labels[k]:\n",
    "            count +=1\n",
    "    print('NetG_fixD, Acc at sample',_+1,count/10000)\n",
    "    Acc_results_G_sample3.append(count/10000)\n",
    "    \n",
    "print(max(Acc_results_G_sample3),min(Acc_results_G_sample3),np.mean(Acc_results_G_sample3),np.var(Acc_results_G_sample3))"
   ]
  },
  {
   "cell_type": "code",
   "execution_count": 15,
   "id": "c66ccac4",
   "metadata": {},
   "outputs": [
    {
     "name": "stderr",
     "output_type": "stream",
     "text": [
      "extracting all features from dataset: 100%|██████████████████████████████████████████████| 2/2 [00:04<00:00,  2.14s/it]\n",
      "extracting all features from dataset: 100%|██████████████████████████████████████████████| 1/1 [00:01<00:00,  1.52s/it]\n"
     ]
    },
    {
     "name": "stdout",
     "output_type": "stream",
     "text": [
      "----------------------------\n",
      "Train_z, Test_z\n",
      "PCA: 0.8323\n",
      "SVD: 0.8289\n",
      "NetG_fixD, Acc at sample 1 0.8516\n"
     ]
    },
    {
     "name": "stderr",
     "output_type": "stream",
     "text": [
      "extracting all features from dataset: 100%|██████████████████████████████████████████████| 2/2 [00:04<00:00,  2.15s/it]\n",
      "extracting all features from dataset: 100%|██████████████████████████████████████████████| 1/1 [00:01<00:00,  1.51s/it]\n"
     ]
    },
    {
     "name": "stdout",
     "output_type": "stream",
     "text": [
      "----------------------------\n",
      "Train_z, Test_z\n",
      "PCA: 0.8375\n",
      "SVD: 0.8336\n",
      "NetG_fixD, Acc at sample 2 0.8544\n"
     ]
    },
    {
     "name": "stderr",
     "output_type": "stream",
     "text": [
      "extracting all features from dataset: 100%|██████████████████████████████████████████████| 2/2 [00:04<00:00,  2.15s/it]\n",
      "extracting all features from dataset: 100%|██████████████████████████████████████████████| 1/1 [00:01<00:00,  1.54s/it]\n"
     ]
    },
    {
     "name": "stdout",
     "output_type": "stream",
     "text": [
      "----------------------------\n",
      "Train_z, Test_z\n",
      "PCA: 0.8315\n",
      "SVD: 0.83\n",
      "NetG_fixD, Acc at sample 3 0.8527\n"
     ]
    },
    {
     "name": "stderr",
     "output_type": "stream",
     "text": [
      "extracting all features from dataset: 100%|██████████████████████████████████████████████| 2/2 [00:04<00:00,  2.16s/it]\n",
      "extracting all features from dataset: 100%|██████████████████████████████████████████████| 1/1 [00:01<00:00,  1.52s/it]\n"
     ]
    },
    {
     "name": "stdout",
     "output_type": "stream",
     "text": [
      "----------------------------\n",
      "Train_z, Test_z\n",
      "PCA: 0.8315\n",
      "SVD: 0.8273\n",
      "NetG_fixD, Acc at sample 4 0.8522\n"
     ]
    },
    {
     "name": "stderr",
     "output_type": "stream",
     "text": [
      "extracting all features from dataset: 100%|██████████████████████████████████████████████| 2/2 [00:04<00:00,  2.15s/it]\n",
      "extracting all features from dataset: 100%|██████████████████████████████████████████████| 1/1 [00:01<00:00,  1.51s/it]\n"
     ]
    },
    {
     "name": "stdout",
     "output_type": "stream",
     "text": [
      "----------------------------\n",
      "Train_z, Test_z\n",
      "PCA: 0.8356\n",
      "SVD: 0.833\n",
      "NetG_fixD, Acc at sample 5 0.8541\n"
     ]
    },
    {
     "name": "stderr",
     "output_type": "stream",
     "text": [
      "extracting all features from dataset: 100%|██████████████████████████████████████████████| 2/2 [00:04<00:00,  2.17s/it]\n",
      "extracting all features from dataset: 100%|██████████████████████████████████████████████| 1/1 [00:01<00:00,  1.51s/it]\n"
     ]
    },
    {
     "name": "stdout",
     "output_type": "stream",
     "text": [
      "----------------------------\n",
      "Train_z, Test_z\n",
      "PCA: 0.8335\n",
      "SVD: 0.8322\n",
      "NetG_fixD, Acc at sample 6 0.8515\n"
     ]
    },
    {
     "name": "stderr",
     "output_type": "stream",
     "text": [
      "extracting all features from dataset: 100%|██████████████████████████████████████████████| 2/2 [00:04<00:00,  2.04s/it]\n",
      "extracting all features from dataset: 100%|██████████████████████████████████████████████| 1/1 [00:01<00:00,  1.52s/it]\n"
     ]
    },
    {
     "name": "stdout",
     "output_type": "stream",
     "text": [
      "----------------------------\n",
      "Train_z, Test_z\n",
      "PCA: 0.8342\n",
      "SVD: 0.8295\n",
      "NetG_fixD, Acc at sample 7 0.853\n"
     ]
    },
    {
     "name": "stderr",
     "output_type": "stream",
     "text": [
      "extracting all features from dataset: 100%|██████████████████████████████████████████████| 2/2 [00:04<00:00,  2.04s/it]\n",
      "extracting all features from dataset: 100%|██████████████████████████████████████████████| 1/1 [00:01<00:00,  1.53s/it]\n"
     ]
    },
    {
     "name": "stdout",
     "output_type": "stream",
     "text": [
      "----------------------------\n",
      "Train_z, Test_z\n",
      "PCA: 0.8328\n",
      "SVD: 0.8279\n",
      "NetG_fixD, Acc at sample 8 0.8533\n"
     ]
    },
    {
     "name": "stderr",
     "output_type": "stream",
     "text": [
      "extracting all features from dataset: 100%|██████████████████████████████████████████████| 2/2 [00:04<00:00,  2.17s/it]\n",
      "extracting all features from dataset: 100%|██████████████████████████████████████████████| 1/1 [00:01<00:00,  1.52s/it]\n"
     ]
    },
    {
     "name": "stdout",
     "output_type": "stream",
     "text": [
      "----------------------------\n",
      "Train_z, Test_z\n",
      "PCA: 0.8306\n",
      "SVD: 0.8291\n",
      "NetG_fixD, Acc at sample 9 0.8528\n"
     ]
    },
    {
     "name": "stderr",
     "output_type": "stream",
     "text": [
      "extracting all features from dataset: 100%|██████████████████████████████████████████████| 2/2 [00:04<00:00,  2.04s/it]\n",
      "extracting all features from dataset: 100%|██████████████████████████████████████████████| 1/1 [00:01<00:00,  1.53s/it]\n"
     ]
    },
    {
     "name": "stdout",
     "output_type": "stream",
     "text": [
      "----------------------------\n",
      "Train_z, Test_z\n",
      "PCA: 0.8364\n",
      "SVD: 0.8334\n",
      "NetG_fixD, Acc at sample 10 0.8536\n"
     ]
    },
    {
     "name": "stderr",
     "output_type": "stream",
     "text": [
      "extracting all features from dataset: 100%|██████████████████████████████████████████████| 2/2 [00:04<00:00,  2.13s/it]\n",
      "extracting all features from dataset: 100%|██████████████████████████████████████████████| 1/1 [00:01<00:00,  1.53s/it]\n"
     ]
    },
    {
     "name": "stdout",
     "output_type": "stream",
     "text": [
      "----------------------------\n",
      "Train_z, Test_z\n",
      "PCA: 0.8352999999999999\n",
      "SVD: 0.8334\n",
      "NetG_fixD, Acc at sample 11 0.852\n"
     ]
    },
    {
     "name": "stderr",
     "output_type": "stream",
     "text": [
      "extracting all features from dataset: 100%|██████████████████████████████████████████████| 2/2 [00:04<00:00,  2.17s/it]\n",
      "extracting all features from dataset: 100%|██████████████████████████████████████████████| 1/1 [00:01<00:00,  1.53s/it]\n"
     ]
    },
    {
     "name": "stdout",
     "output_type": "stream",
     "text": [
      "----------------------------\n",
      "Train_z, Test_z\n",
      "PCA: 0.8331\n",
      "SVD: 0.8306\n",
      "NetG_fixD, Acc at sample 12 0.8542\n"
     ]
    },
    {
     "name": "stderr",
     "output_type": "stream",
     "text": [
      "extracting all features from dataset: 100%|██████████████████████████████████████████████| 2/2 [00:04<00:00,  2.09s/it]\n",
      "extracting all features from dataset: 100%|██████████████████████████████████████████████| 1/1 [00:01<00:00,  1.52s/it]\n"
     ]
    },
    {
     "name": "stdout",
     "output_type": "stream",
     "text": [
      "----------------------------\n",
      "Train_z, Test_z\n",
      "PCA: 0.8339\n",
      "SVD: 0.8321000000000001\n",
      "NetG_fixD, Acc at sample 13 0.8535\n"
     ]
    },
    {
     "name": "stderr",
     "output_type": "stream",
     "text": [
      "extracting all features from dataset: 100%|██████████████████████████████████████████████| 2/2 [00:04<00:00,  2.19s/it]\n",
      "extracting all features from dataset: 100%|██████████████████████████████████████████████| 1/1 [00:01<00:00,  1.52s/it]\n"
     ]
    },
    {
     "name": "stdout",
     "output_type": "stream",
     "text": [
      "----------------------------\n",
      "Train_z, Test_z\n",
      "PCA: 0.838\n",
      "SVD: 0.8357\n",
      "NetG_fixD, Acc at sample 14 0.853\n"
     ]
    },
    {
     "name": "stderr",
     "output_type": "stream",
     "text": [
      "extracting all features from dataset: 100%|██████████████████████████████████████████████| 2/2 [00:04<00:00,  2.14s/it]\n",
      "extracting all features from dataset: 100%|██████████████████████████████████████████████| 1/1 [00:01<00:00,  1.50s/it]\n"
     ]
    },
    {
     "name": "stdout",
     "output_type": "stream",
     "text": [
      "----------------------------\n",
      "Train_z, Test_z\n",
      "PCA: 0.834\n",
      "SVD: 0.8307\n",
      "NetG_fixD, Acc at sample 15 0.8523\n"
     ]
    },
    {
     "name": "stderr",
     "output_type": "stream",
     "text": [
      "extracting all features from dataset: 100%|██████████████████████████████████████████████| 2/2 [00:04<00:00,  2.17s/it]\n",
      "extracting all features from dataset: 100%|██████████████████████████████████████████████| 1/1 [00:01<00:00,  1.53s/it]\n"
     ]
    },
    {
     "name": "stdout",
     "output_type": "stream",
     "text": [
      "----------------------------\n",
      "Train_z, Test_z\n",
      "PCA: 0.8319\n",
      "SVD: 0.8293\n",
      "NetG_fixD, Acc at sample 16 0.8523\n"
     ]
    },
    {
     "name": "stderr",
     "output_type": "stream",
     "text": [
      "extracting all features from dataset: 100%|██████████████████████████████████████████████| 2/2 [00:04<00:00,  2.12s/it]\n",
      "extracting all features from dataset: 100%|██████████████████████████████████████████████| 1/1 [00:01<00:00,  1.51s/it]\n"
     ]
    },
    {
     "name": "stdout",
     "output_type": "stream",
     "text": [
      "----------------------------\n",
      "Train_z, Test_z\n",
      "PCA: 0.8359\n",
      "SVD: 0.8333\n",
      "NetG_fixD, Acc at sample 17 0.8519\n"
     ]
    },
    {
     "name": "stderr",
     "output_type": "stream",
     "text": [
      "extracting all features from dataset: 100%|██████████████████████████████████████████████| 2/2 [00:04<00:00,  2.09s/it]\n",
      "extracting all features from dataset: 100%|██████████████████████████████████████████████| 1/1 [00:01<00:00,  1.48s/it]\n"
     ]
    },
    {
     "name": "stdout",
     "output_type": "stream",
     "text": [
      "----------------------------\n",
      "Train_z, Test_z\n",
      "PCA: 0.8349\n",
      "SVD: 0.8313\n",
      "NetG_fixD, Acc at sample 18 0.8535\n"
     ]
    },
    {
     "name": "stderr",
     "output_type": "stream",
     "text": [
      "extracting all features from dataset: 100%|██████████████████████████████████████████████| 2/2 [00:04<00:00,  2.20s/it]\n",
      "extracting all features from dataset: 100%|██████████████████████████████████████████████| 1/1 [00:01<00:00,  1.50s/it]\n"
     ]
    },
    {
     "name": "stdout",
     "output_type": "stream",
     "text": [
      "----------------------------\n",
      "Train_z, Test_z\n",
      "PCA: 0.8334\n",
      "SVD: 0.8311\n",
      "NetG_fixD, Acc at sample 19 0.8534\n"
     ]
    },
    {
     "name": "stderr",
     "output_type": "stream",
     "text": [
      "extracting all features from dataset: 100%|██████████████████████████████████████████████| 2/2 [00:04<00:00,  2.16s/it]\n",
      "extracting all features from dataset: 100%|██████████████████████████████████████████████| 1/1 [00:01<00:00,  1.52s/it]\n"
     ]
    },
    {
     "name": "stdout",
     "output_type": "stream",
     "text": [
      "----------------------------\n",
      "Train_z, Test_z\n",
      "PCA: 0.8363\n",
      "SVD: 0.834\n",
      "NetG_fixD, Acc at sample 20 0.8532\n",
      "0.8544 0.8515 0.8529250000000002 6.908750000000073e-07\n"
     ]
    }
   ],
   "source": [
    "# sample 50 times of NetG at final radius, NetD is fixed\n",
    "from sklearn.neighbors import KNeighborsClassifier \n",
    "Acc_results_G_sample4 = []\n",
    "\n",
    "for _ in range(sample_num):\n",
    "    #acc at first\n",
    "    net_noise = get_noise(DATASET, device, LABEL)\n",
    "    fed_state_dict = get_netG(netD,netV,net_noise,r_list[4])\n",
    "    netG.load_state_dict(fed_state_dict)\n",
    "    \n",
    "    train_X, train_Z, train_X_bar, train_Z_bar, train_labels = extract_features2(trainloader, netG, netD)\n",
    "\n",
    "    test_X, test_Z, test_X_bar, test_Z_bar, test_labels = extract_features2(testloader, netG, netD)\n",
    "\n",
    "    print(\"----------------------------\")\n",
    "    print(\"Train_z, Test_z\")\n",
    "    nearsub(n_comp, train_Z, train_labels, test_Z, test_labels)\n",
    "\n",
    "    knn= KNeighborsClassifier(n_neighbors=10) \n",
    "\n",
    "    knn.fit(train_Z,train_labels) \n",
    "    knn.score(test_Z_bar,test_labels) \n",
    "\n",
    "    y_predict = knn.predict(test_Z_bar) \n",
    "\n",
    "    count =0\n",
    "    for k in range(10000):\n",
    "        if y_predict[k] == test_labels[k]:\n",
    "            count +=1\n",
    "    print('NetG_fixD, Acc at sample',_+1,count/10000)\n",
    "    Acc_results_G_sample4.append(count/10000)\n",
    "    \n",
    "print(max(Acc_results_G_sample4),min(Acc_results_G_sample4),np.mean(Acc_results_G_sample4),np.var(Acc_results_G_sample4))"
   ]
  },
  {
   "cell_type": "code",
   "execution_count": 16,
   "id": "dfa16dcf",
   "metadata": {},
   "outputs": [
    {
     "name": "stderr",
     "output_type": "stream",
     "text": [
      "extracting all features from dataset: 100%|██████████████████████████████████████████████| 2/2 [00:04<00:00,  2.08s/it]\n",
      "extracting all features from dataset: 100%|██████████████████████████████████████████████| 1/1 [00:01<00:00,  1.50s/it]\n"
     ]
    },
    {
     "name": "stdout",
     "output_type": "stream",
     "text": [
      "----------------------------\n",
      "Train_z, Test_z\n",
      "PCA: 0.8295\n",
      "SVD: 0.8243\n",
      "NetG_fixD, Acc at sample 1 0.8385\n"
     ]
    },
    {
     "name": "stderr",
     "output_type": "stream",
     "text": [
      "extracting all features from dataset: 100%|██████████████████████████████████████████████| 2/2 [00:04<00:00,  2.04s/it]\n",
      "extracting all features from dataset: 100%|██████████████████████████████████████████████| 1/1 [00:01<00:00,  1.50s/it]\n"
     ]
    },
    {
     "name": "stdout",
     "output_type": "stream",
     "text": [
      "----------------------------\n",
      "Train_z, Test_z\n",
      "PCA: 0.8280000000000001\n",
      "SVD: 0.8237\n",
      "NetG_fixD, Acc at sample 2 0.8429\n"
     ]
    },
    {
     "name": "stderr",
     "output_type": "stream",
     "text": [
      "extracting all features from dataset: 100%|██████████████████████████████████████████████| 2/2 [00:04<00:00,  2.02s/it]\n",
      "extracting all features from dataset: 100%|██████████████████████████████████████████████| 1/1 [00:01<00:00,  1.52s/it]\n"
     ]
    },
    {
     "name": "stdout",
     "output_type": "stream",
     "text": [
      "----------------------------\n",
      "Train_z, Test_z\n",
      "PCA: 0.8269\n",
      "SVD: 0.8241\n",
      "NetG_fixD, Acc at sample 3 0.8437\n"
     ]
    },
    {
     "name": "stderr",
     "output_type": "stream",
     "text": [
      "extracting all features from dataset: 100%|██████████████████████████████████████████████| 2/2 [00:04<00:00,  2.02s/it]\n",
      "extracting all features from dataset: 100%|██████████████████████████████████████████████| 1/1 [00:01<00:00,  1.51s/it]\n"
     ]
    },
    {
     "name": "stdout",
     "output_type": "stream",
     "text": [
      "----------------------------\n",
      "Train_z, Test_z\n",
      "PCA: 0.8213\n",
      "SVD: 0.8192\n",
      "NetG_fixD, Acc at sample 4 0.8381\n"
     ]
    },
    {
     "name": "stderr",
     "output_type": "stream",
     "text": [
      "extracting all features from dataset: 100%|██████████████████████████████████████████████| 2/2 [00:04<00:00,  2.12s/it]\n",
      "extracting all features from dataset: 100%|██████████████████████████████████████████████| 1/1 [00:01<00:00,  1.52s/it]\n"
     ]
    },
    {
     "name": "stdout",
     "output_type": "stream",
     "text": [
      "----------------------------\n",
      "Train_z, Test_z\n",
      "PCA: 0.8296\n",
      "SVD: 0.8305\n",
      "NetG_fixD, Acc at sample 5 0.8408\n"
     ]
    },
    {
     "name": "stderr",
     "output_type": "stream",
     "text": [
      "extracting all features from dataset: 100%|██████████████████████████████████████████████| 2/2 [00:04<00:00,  2.14s/it]\n",
      "extracting all features from dataset: 100%|██████████████████████████████████████████████| 1/1 [00:01<00:00,  1.50s/it]\n"
     ]
    },
    {
     "name": "stdout",
     "output_type": "stream",
     "text": [
      "----------------------------\n",
      "Train_z, Test_z\n",
      "PCA: 0.8295\n",
      "SVD: 0.8289\n",
      "NetG_fixD, Acc at sample 6 0.8405\n"
     ]
    },
    {
     "name": "stderr",
     "output_type": "stream",
     "text": [
      "extracting all features from dataset: 100%|██████████████████████████████████████████████| 2/2 [00:04<00:00,  2.11s/it]\n",
      "extracting all features from dataset: 100%|██████████████████████████████████████████████| 1/1 [00:01<00:00,  1.53s/it]\n"
     ]
    },
    {
     "name": "stdout",
     "output_type": "stream",
     "text": [
      "----------------------------\n",
      "Train_z, Test_z\n",
      "PCA: 0.8264\n",
      "SVD: 0.8227\n",
      "NetG_fixD, Acc at sample 7 0.8425\n"
     ]
    },
    {
     "name": "stderr",
     "output_type": "stream",
     "text": [
      "extracting all features from dataset: 100%|██████████████████████████████████████████████| 2/2 [00:04<00:00,  2.16s/it]\n",
      "extracting all features from dataset: 100%|██████████████████████████████████████████████| 1/1 [00:01<00:00,  1.54s/it]\n"
     ]
    },
    {
     "name": "stdout",
     "output_type": "stream",
     "text": [
      "----------------------------\n",
      "Train_z, Test_z\n",
      "PCA: 0.8251\n",
      "SVD: 0.8231999999999999\n",
      "NetG_fixD, Acc at sample 8 0.8391\n"
     ]
    },
    {
     "name": "stderr",
     "output_type": "stream",
     "text": [
      "extracting all features from dataset: 100%|██████████████████████████████████████████████| 2/2 [00:04<00:00,  2.11s/it]\n",
      "extracting all features from dataset: 100%|██████████████████████████████████████████████| 1/1 [00:01<00:00,  1.49s/it]\n"
     ]
    },
    {
     "name": "stdout",
     "output_type": "stream",
     "text": [
      "----------------------------\n",
      "Train_z, Test_z\n",
      "PCA: 0.8291\n",
      "SVD: 0.8222\n",
      "NetG_fixD, Acc at sample 9 0.8406\n"
     ]
    },
    {
     "name": "stderr",
     "output_type": "stream",
     "text": [
      "extracting all features from dataset: 100%|██████████████████████████████████████████████| 2/2 [00:04<00:00,  2.13s/it]\n",
      "extracting all features from dataset: 100%|██████████████████████████████████████████████| 1/1 [00:01<00:00,  1.53s/it]\n"
     ]
    },
    {
     "name": "stdout",
     "output_type": "stream",
     "text": [
      "----------------------------\n",
      "Train_z, Test_z\n",
      "PCA: 0.8289\n",
      "SVD: 0.8243\n",
      "NetG_fixD, Acc at sample 10 0.8395\n"
     ]
    },
    {
     "name": "stderr",
     "output_type": "stream",
     "text": [
      "extracting all features from dataset: 100%|██████████████████████████████████████████████| 2/2 [00:04<00:00,  2.18s/it]\n",
      "extracting all features from dataset: 100%|██████████████████████████████████████████████| 1/1 [00:01<00:00,  1.53s/it]\n"
     ]
    },
    {
     "name": "stdout",
     "output_type": "stream",
     "text": [
      "----------------------------\n",
      "Train_z, Test_z\n",
      "PCA: 0.8283\n",
      "SVD: 0.8281000000000001\n",
      "NetG_fixD, Acc at sample 11 0.8384\n"
     ]
    },
    {
     "name": "stderr",
     "output_type": "stream",
     "text": [
      "extracting all features from dataset: 100%|██████████████████████████████████████████████| 2/2 [00:04<00:00,  2.05s/it]\n",
      "extracting all features from dataset: 100%|██████████████████████████████████████████████| 1/1 [00:01<00:00,  1.53s/it]\n"
     ]
    },
    {
     "name": "stdout",
     "output_type": "stream",
     "text": [
      "----------------------------\n",
      "Train_z, Test_z\n",
      "PCA: 0.8298\n",
      "SVD: 0.8294\n",
      "NetG_fixD, Acc at sample 12 0.8439\n"
     ]
    },
    {
     "name": "stderr",
     "output_type": "stream",
     "text": [
      "extracting all features from dataset: 100%|██████████████████████████████████████████████| 2/2 [00:04<00:00,  2.08s/it]\n",
      "extracting all features from dataset: 100%|██████████████████████████████████████████████| 1/1 [00:01<00:00,  1.51s/it]\n"
     ]
    },
    {
     "name": "stdout",
     "output_type": "stream",
     "text": [
      "----------------------------\n",
      "Train_z, Test_z\n",
      "PCA: 0.8291\n",
      "SVD: 0.8276\n",
      "NetG_fixD, Acc at sample 13 0.8375\n"
     ]
    },
    {
     "name": "stderr",
     "output_type": "stream",
     "text": [
      "extracting all features from dataset: 100%|██████████████████████████████████████████████| 2/2 [00:04<00:00,  2.14s/it]\n",
      "extracting all features from dataset: 100%|██████████████████████████████████████████████| 1/1 [00:01<00:00,  1.52s/it]\n"
     ]
    },
    {
     "name": "stdout",
     "output_type": "stream",
     "text": [
      "----------------------------\n",
      "Train_z, Test_z\n",
      "PCA: 0.8258\n",
      "SVD: 0.8257\n",
      "NetG_fixD, Acc at sample 14 0.8392\n"
     ]
    },
    {
     "name": "stderr",
     "output_type": "stream",
     "text": [
      "extracting all features from dataset: 100%|██████████████████████████████████████████████| 2/2 [00:04<00:00,  2.05s/it]\n",
      "extracting all features from dataset: 100%|██████████████████████████████████████████████| 1/1 [00:01<00:00,  1.50s/it]\n"
     ]
    },
    {
     "name": "stdout",
     "output_type": "stream",
     "text": [
      "----------------------------\n",
      "Train_z, Test_z\n",
      "PCA: 0.8249\n",
      "SVD: 0.8235\n",
      "NetG_fixD, Acc at sample 15 0.8368\n"
     ]
    },
    {
     "name": "stderr",
     "output_type": "stream",
     "text": [
      "extracting all features from dataset: 100%|██████████████████████████████████████████████| 2/2 [00:04<00:00,  2.12s/it]\n",
      "extracting all features from dataset: 100%|██████████████████████████████████████████████| 1/1 [00:01<00:00,  1.52s/it]\n"
     ]
    },
    {
     "name": "stdout",
     "output_type": "stream",
     "text": [
      "----------------------------\n",
      "Train_z, Test_z\n",
      "PCA: 0.8280000000000001\n",
      "SVD: 0.8253\n",
      "NetG_fixD, Acc at sample 16 0.8387\n"
     ]
    },
    {
     "name": "stderr",
     "output_type": "stream",
     "text": [
      "extracting all features from dataset: 100%|██████████████████████████████████████████████| 2/2 [00:04<00:00,  2.19s/it]\n",
      "extracting all features from dataset: 100%|██████████████████████████████████████████████| 1/1 [00:01<00:00,  1.53s/it]\n"
     ]
    },
    {
     "name": "stdout",
     "output_type": "stream",
     "text": [
      "----------------------------\n",
      "Train_z, Test_z\n",
      "PCA: 0.8267\n",
      "SVD: 0.8222\n",
      "NetG_fixD, Acc at sample 17 0.8446\n"
     ]
    },
    {
     "name": "stderr",
     "output_type": "stream",
     "text": [
      "extracting all features from dataset: 100%|██████████████████████████████████████████████| 2/2 [00:04<00:00,  2.13s/it]\n",
      "extracting all features from dataset: 100%|██████████████████████████████████████████████| 1/1 [00:01<00:00,  1.54s/it]\n"
     ]
    },
    {
     "name": "stdout",
     "output_type": "stream",
     "text": [
      "----------------------------\n",
      "Train_z, Test_z\n",
      "PCA: 0.8287\n",
      "SVD: 0.8266\n",
      "NetG_fixD, Acc at sample 18 0.843\n"
     ]
    },
    {
     "name": "stderr",
     "output_type": "stream",
     "text": [
      "extracting all features from dataset: 100%|██████████████████████████████████████████████| 2/2 [00:04<00:00,  2.07s/it]\n",
      "extracting all features from dataset: 100%|██████████████████████████████████████████████| 1/1 [00:01<00:00,  1.49s/it]\n"
     ]
    },
    {
     "name": "stdout",
     "output_type": "stream",
     "text": [
      "----------------------------\n",
      "Train_z, Test_z\n",
      "PCA: 0.8255\n",
      "SVD: 0.8267\n",
      "NetG_fixD, Acc at sample 19 0.8413\n"
     ]
    },
    {
     "name": "stderr",
     "output_type": "stream",
     "text": [
      "extracting all features from dataset: 100%|██████████████████████████████████████████████| 2/2 [00:04<00:00,  2.15s/it]\n",
      "extracting all features from dataset: 100%|██████████████████████████████████████████████| 1/1 [00:01<00:00,  1.52s/it]\n"
     ]
    },
    {
     "name": "stdout",
     "output_type": "stream",
     "text": [
      "----------------------------\n",
      "Train_z, Test_z\n",
      "PCA: 0.8311999999999999\n",
      "SVD: 0.829\n",
      "NetG_fixD, Acc at sample 20 0.8403\n",
      "0.8446 0.8368 0.840495 5.007475000000007e-06\n"
     ]
    }
   ],
   "source": [
    "# sample 50 times of NetG at final radius, NetD is fixed\n",
    "from sklearn.neighbors import KNeighborsClassifier \n",
    "Acc_results_G_sample5 = []\n",
    "\n",
    "for _ in range(sample_num):\n",
    "    #acc at first\n",
    "    net_noise = get_noise(DATASET, device, LABEL)\n",
    "    fed_state_dict = get_netG(netD,netV,net_noise,r_list[5])\n",
    "    netG.load_state_dict(fed_state_dict)\n",
    "    \n",
    "    train_X, train_Z, train_X_bar, train_Z_bar, train_labels = extract_features2(trainloader, netG, netD)\n",
    "\n",
    "    test_X, test_Z, test_X_bar, test_Z_bar, test_labels = extract_features2(testloader, netG, netD)\n",
    "\n",
    "    print(\"----------------------------\")\n",
    "    print(\"Train_z, Test_z\")\n",
    "    nearsub(n_comp, train_Z, train_labels, test_Z, test_labels)\n",
    "\n",
    "    knn= KNeighborsClassifier(n_neighbors=10) \n",
    "\n",
    "    knn.fit(train_Z,train_labels) \n",
    "    knn.score(test_Z_bar,test_labels) \n",
    "\n",
    "    y_predict = knn.predict(test_Z_bar) \n",
    "\n",
    "    count =0\n",
    "    for k in range(10000):\n",
    "        if y_predict[k] == test_labels[k]:\n",
    "            count +=1\n",
    "    print('NetG_fixD, Acc at sample',_+1,count/10000)\n",
    "    Acc_results_G_sample5.append(count/10000)\n",
    "    \n",
    "print(max(Acc_results_G_sample5),min(Acc_results_G_sample5),np.mean(Acc_results_G_sample5),np.var(Acc_results_G_sample5))"
   ]
  },
  {
   "cell_type": "code",
   "execution_count": 17,
   "id": "4594946a",
   "metadata": {},
   "outputs": [
    {
     "name": "stderr",
     "output_type": "stream",
     "text": [
      "extracting all features from dataset: 100%|██████████████████████████████████████████████| 2/2 [00:04<00:00,  2.19s/it]\n",
      "extracting all features from dataset: 100%|██████████████████████████████████████████████| 1/1 [00:01<00:00,  1.51s/it]\n"
     ]
    },
    {
     "name": "stdout",
     "output_type": "stream",
     "text": [
      "----------------------------\n",
      "Train_z, Test_z\n",
      "PCA: 0.8117\n",
      "SVD: 0.8056\n",
      "NetG_fixD, Acc at sample 1 0.778\n"
     ]
    },
    {
     "name": "stderr",
     "output_type": "stream",
     "text": [
      "extracting all features from dataset: 100%|██████████████████████████████████████████████| 2/2 [00:04<00:00,  2.11s/it]\n",
      "extracting all features from dataset: 100%|██████████████████████████████████████████████| 1/1 [00:01<00:00,  1.51s/it]\n"
     ]
    },
    {
     "name": "stdout",
     "output_type": "stream",
     "text": [
      "----------------------------\n",
      "Train_z, Test_z\n",
      "PCA: 0.8207\n",
      "SVD: 0.8169\n",
      "NetG_fixD, Acc at sample 2 0.794\n"
     ]
    },
    {
     "name": "stderr",
     "output_type": "stream",
     "text": [
      "extracting all features from dataset: 100%|██████████████████████████████████████████████| 2/2 [00:04<00:00,  2.12s/it]\n",
      "extracting all features from dataset: 100%|██████████████████████████████████████████████| 1/1 [00:01<00:00,  1.54s/it]\n"
     ]
    },
    {
     "name": "stdout",
     "output_type": "stream",
     "text": [
      "----------------------------\n",
      "Train_z, Test_z\n",
      "PCA: 0.8192\n",
      "SVD: 0.8129\n",
      "NetG_fixD, Acc at sample 3 0.7942\n"
     ]
    },
    {
     "name": "stderr",
     "output_type": "stream",
     "text": [
      "extracting all features from dataset: 100%|██████████████████████████████████████████████| 2/2 [00:04<00:00,  2.14s/it]\n",
      "extracting all features from dataset: 100%|██████████████████████████████████████████████| 1/1 [00:01<00:00,  1.53s/it]\n"
     ]
    },
    {
     "name": "stdout",
     "output_type": "stream",
     "text": [
      "----------------------------\n",
      "Train_z, Test_z\n",
      "PCA: 0.8200000000000001\n",
      "SVD: 0.815\n",
      "NetG_fixD, Acc at sample 4 0.8111\n"
     ]
    },
    {
     "name": "stderr",
     "output_type": "stream",
     "text": [
      "extracting all features from dataset: 100%|██████████████████████████████████████████████| 2/2 [00:04<00:00,  2.17s/it]\n",
      "extracting all features from dataset: 100%|██████████████████████████████████████████████| 1/1 [00:01<00:00,  1.54s/it]\n"
     ]
    },
    {
     "name": "stdout",
     "output_type": "stream",
     "text": [
      "----------------------------\n",
      "Train_z, Test_z\n",
      "PCA: 0.8266\n",
      "SVD: 0.8255\n",
      "NetG_fixD, Acc at sample 5 0.8003\n"
     ]
    },
    {
     "name": "stderr",
     "output_type": "stream",
     "text": [
      "extracting all features from dataset: 100%|██████████████████████████████████████████████| 2/2 [00:04<00:00,  2.17s/it]\n",
      "extracting all features from dataset: 100%|██████████████████████████████████████████████| 1/1 [00:01<00:00,  1.50s/it]\n"
     ]
    },
    {
     "name": "stdout",
     "output_type": "stream",
     "text": [
      "----------------------------\n",
      "Train_z, Test_z\n",
      "PCA: 0.8218\n",
      "SVD: 0.8153\n",
      "NetG_fixD, Acc at sample 6 0.795\n"
     ]
    },
    {
     "name": "stderr",
     "output_type": "stream",
     "text": [
      "extracting all features from dataset: 100%|██████████████████████████████████████████████| 2/2 [00:04<00:00,  2.12s/it]\n",
      "extracting all features from dataset: 100%|██████████████████████████████████████████████| 1/1 [00:01<00:00,  1.52s/it]\n"
     ]
    },
    {
     "name": "stdout",
     "output_type": "stream",
     "text": [
      "----------------------------\n",
      "Train_z, Test_z\n",
      "PCA: 0.8200000000000001\n",
      "SVD: 0.8146\n",
      "NetG_fixD, Acc at sample 7 0.7259\n"
     ]
    },
    {
     "name": "stderr",
     "output_type": "stream",
     "text": [
      "extracting all features from dataset: 100%|██████████████████████████████████████████████| 2/2 [00:04<00:00,  2.04s/it]\n",
      "extracting all features from dataset: 100%|██████████████████████████████████████████████| 1/1 [00:01<00:00,  1.51s/it]\n"
     ]
    },
    {
     "name": "stdout",
     "output_type": "stream",
     "text": [
      "----------------------------\n",
      "Train_z, Test_z\n",
      "PCA: 0.8156\n",
      "SVD: 0.8123\n",
      "NetG_fixD, Acc at sample 8 0.7672\n"
     ]
    },
    {
     "name": "stderr",
     "output_type": "stream",
     "text": [
      "extracting all features from dataset: 100%|██████████████████████████████████████████████| 2/2 [00:04<00:00,  2.06s/it]\n",
      "extracting all features from dataset: 100%|██████████████████████████████████████████████| 1/1 [00:01<00:00,  1.49s/it]\n"
     ]
    },
    {
     "name": "stdout",
     "output_type": "stream",
     "text": [
      "----------------------------\n",
      "Train_z, Test_z\n",
      "PCA: 0.8179\n",
      "SVD: 0.8143\n",
      "NetG_fixD, Acc at sample 9 0.7843\n"
     ]
    },
    {
     "name": "stderr",
     "output_type": "stream",
     "text": [
      "extracting all features from dataset: 100%|██████████████████████████████████████████████| 2/2 [00:04<00:00,  2.12s/it]\n",
      "extracting all features from dataset: 100%|██████████████████████████████████████████████| 1/1 [00:01<00:00,  1.51s/it]\n"
     ]
    },
    {
     "name": "stdout",
     "output_type": "stream",
     "text": [
      "----------------------------\n",
      "Train_z, Test_z\n",
      "PCA: 0.8297\n",
      "SVD: 0.8236\n",
      "NetG_fixD, Acc at sample 10 0.7766\n"
     ]
    },
    {
     "name": "stderr",
     "output_type": "stream",
     "text": [
      "extracting all features from dataset: 100%|██████████████████████████████████████████████| 2/2 [00:04<00:00,  2.14s/it]\n",
      "extracting all features from dataset: 100%|██████████████████████████████████████████████| 1/1 [00:01<00:00,  1.51s/it]\n"
     ]
    },
    {
     "name": "stdout",
     "output_type": "stream",
     "text": [
      "----------------------------\n",
      "Train_z, Test_z\n",
      "PCA: 0.8206\n",
      "SVD: 0.8194\n",
      "NetG_fixD, Acc at sample 11 0.8158\n"
     ]
    },
    {
     "name": "stderr",
     "output_type": "stream",
     "text": [
      "extracting all features from dataset: 100%|██████████████████████████████████████████████| 2/2 [00:04<00:00,  2.14s/it]\n",
      "extracting all features from dataset: 100%|██████████████████████████████████████████████| 1/1 [00:01<00:00,  1.52s/it]\n"
     ]
    },
    {
     "name": "stdout",
     "output_type": "stream",
     "text": [
      "----------------------------\n",
      "Train_z, Test_z\n",
      "PCA: 0.8115\n",
      "SVD: 0.8112\n",
      "NetG_fixD, Acc at sample 12 0.7669\n"
     ]
    },
    {
     "name": "stderr",
     "output_type": "stream",
     "text": [
      "extracting all features from dataset: 100%|██████████████████████████████████████████████| 2/2 [00:04<00:00,  2.16s/it]\n",
      "extracting all features from dataset: 100%|██████████████████████████████████████████████| 1/1 [00:01<00:00,  1.52s/it]\n"
     ]
    },
    {
     "name": "stdout",
     "output_type": "stream",
     "text": [
      "----------------------------\n",
      "Train_z, Test_z\n",
      "PCA: 0.8228\n",
      "SVD: 0.8142\n",
      "NetG_fixD, Acc at sample 13 0.7306\n"
     ]
    },
    {
     "name": "stderr",
     "output_type": "stream",
     "text": [
      "extracting all features from dataset: 100%|██████████████████████████████████████████████| 2/2 [00:04<00:00,  2.00s/it]\n",
      "extracting all features from dataset: 100%|██████████████████████████████████████████████| 1/1 [00:01<00:00,  1.52s/it]\n"
     ]
    },
    {
     "name": "stdout",
     "output_type": "stream",
     "text": [
      "----------------------------\n",
      "Train_z, Test_z\n",
      "PCA: 0.8201\n",
      "SVD: 0.8150999999999999\n",
      "NetG_fixD, Acc at sample 14 0.7838\n"
     ]
    },
    {
     "name": "stderr",
     "output_type": "stream",
     "text": [
      "extracting all features from dataset: 100%|██████████████████████████████████████████████| 2/2 [00:04<00:00,  2.10s/it]\n",
      "extracting all features from dataset: 100%|██████████████████████████████████████████████| 1/1 [00:01<00:00,  1.53s/it]\n"
     ]
    },
    {
     "name": "stdout",
     "output_type": "stream",
     "text": [
      "----------------------------\n",
      "Train_z, Test_z\n",
      "PCA: 0.815\n",
      "SVD: 0.8116\n",
      "NetG_fixD, Acc at sample 15 0.7633\n"
     ]
    },
    {
     "name": "stderr",
     "output_type": "stream",
     "text": [
      "extracting all features from dataset: 100%|██████████████████████████████████████████████| 2/2 [00:04<00:00,  2.12s/it]\n",
      "extracting all features from dataset: 100%|██████████████████████████████████████████████| 1/1 [00:01<00:00,  1.51s/it]\n"
     ]
    },
    {
     "name": "stdout",
     "output_type": "stream",
     "text": [
      "----------------------------\n",
      "Train_z, Test_z\n",
      "PCA: 0.8188\n",
      "SVD: 0.8168\n",
      "NetG_fixD, Acc at sample 16 0.7924\n"
     ]
    },
    {
     "name": "stderr",
     "output_type": "stream",
     "text": [
      "extracting all features from dataset: 100%|██████████████████████████████████████████████| 2/2 [00:04<00:00,  2.02s/it]\n",
      "extracting all features from dataset: 100%|██████████████████████████████████████████████| 1/1 [00:01<00:00,  1.54s/it]\n"
     ]
    },
    {
     "name": "stdout",
     "output_type": "stream",
     "text": [
      "----------------------------\n",
      "Train_z, Test_z\n",
      "PCA: 0.8200000000000001\n",
      "SVD: 0.8123\n",
      "NetG_fixD, Acc at sample 17 0.8028\n"
     ]
    },
    {
     "name": "stderr",
     "output_type": "stream",
     "text": [
      "extracting all features from dataset: 100%|██████████████████████████████████████████████| 2/2 [00:04<00:00,  2.11s/it]\n",
      "extracting all features from dataset: 100%|██████████████████████████████████████████████| 1/1 [00:01<00:00,  1.52s/it]\n"
     ]
    },
    {
     "name": "stdout",
     "output_type": "stream",
     "text": [
      "----------------------------\n",
      "Train_z, Test_z\n",
      "PCA: 0.8240000000000001\n",
      "SVD: 0.8204\n",
      "NetG_fixD, Acc at sample 18 0.7869\n"
     ]
    },
    {
     "name": "stderr",
     "output_type": "stream",
     "text": [
      "extracting all features from dataset: 100%|██████████████████████████████████████████████| 2/2 [00:04<00:00,  2.14s/it]\n",
      "extracting all features from dataset: 100%|██████████████████████████████████████████████| 1/1 [00:01<00:00,  1.53s/it]\n"
     ]
    },
    {
     "name": "stdout",
     "output_type": "stream",
     "text": [
      "----------------------------\n",
      "Train_z, Test_z\n",
      "PCA: 0.825\n",
      "SVD: 0.8156\n",
      "NetG_fixD, Acc at sample 19 0.7883\n"
     ]
    },
    {
     "name": "stderr",
     "output_type": "stream",
     "text": [
      "extracting all features from dataset: 100%|██████████████████████████████████████████████| 2/2 [00:04<00:00,  2.04s/it]\n",
      "extracting all features from dataset: 100%|██████████████████████████████████████████████| 1/1 [00:01<00:00,  1.51s/it]\n"
     ]
    },
    {
     "name": "stdout",
     "output_type": "stream",
     "text": [
      "----------------------------\n",
      "Train_z, Test_z\n",
      "PCA: 0.8197\n",
      "SVD: 0.817\n",
      "NetG_fixD, Acc at sample 20 0.7772\n",
      "0.8158 0.7259 0.7817299999999999 0.0005025831000000002\n"
     ]
    }
   ],
   "source": [
    "# sample 50 times of NetG at final radius, NetD is fixed\n",
    "from sklearn.neighbors import KNeighborsClassifier \n",
    "Acc_results_G_sample6 = []\n",
    "\n",
    "for _ in range(sample_num):\n",
    "    #acc at first\n",
    "    net_noise = get_noise(DATASET, device, LABEL)\n",
    "    fed_state_dict = get_netG(netD,netV,net_noise,r_list[6])\n",
    "    netG.load_state_dict(fed_state_dict)\n",
    "    \n",
    "    train_X, train_Z, train_X_bar, train_Z_bar, train_labels = extract_features2(trainloader, netG, netD)\n",
    "\n",
    "    test_X, test_Z, test_X_bar, test_Z_bar, test_labels = extract_features2(testloader, netG, netD)\n",
    "\n",
    "    print(\"----------------------------\")\n",
    "    print(\"Train_z, Test_z\")\n",
    "    nearsub(n_comp, train_Z, train_labels, test_Z, test_labels)\n",
    "\n",
    "    knn= KNeighborsClassifier(n_neighbors=10) \n",
    "\n",
    "    knn.fit(train_Z,train_labels) \n",
    "    knn.score(test_Z_bar,test_labels) \n",
    "\n",
    "    y_predict = knn.predict(test_Z_bar) \n",
    "\n",
    "    count =0\n",
    "    for k in range(10000):\n",
    "        if y_predict[k] == test_labels[k]:\n",
    "            count +=1\n",
    "    print('NetG_fixD, Acc at sample',_+1,count/10000)\n",
    "    Acc_results_G_sample6.append(count/10000)\n",
    "    \n",
    "print(max(Acc_results_G_sample6),min(Acc_results_G_sample6),np.mean(Acc_results_G_sample6),np.var(Acc_results_G_sample6))"
   ]
  },
  {
   "cell_type": "code",
   "execution_count": 18,
   "id": "9bac47e0",
   "metadata": {},
   "outputs": [
    {
     "name": "stderr",
     "output_type": "stream",
     "text": [
      "extracting all features from dataset: 100%|██████████████████████████████████████████████| 2/2 [00:04<00:00,  2.13s/it]\n",
      "extracting all features from dataset: 100%|██████████████████████████████████████████████| 1/1 [00:01<00:00,  1.52s/it]\n"
     ]
    },
    {
     "name": "stdout",
     "output_type": "stream",
     "text": [
      "----------------------------\n",
      "Train_z, Test_z\n",
      "PCA: 0.815\n",
      "SVD: 0.8068\n",
      "NetG_fixD, Acc at sample 1 0.4394\n"
     ]
    },
    {
     "name": "stderr",
     "output_type": "stream",
     "text": [
      "extracting all features from dataset: 100%|██████████████████████████████████████████████| 2/2 [00:04<00:00,  2.13s/it]\n",
      "extracting all features from dataset: 100%|██████████████████████████████████████████████| 1/1 [00:01<00:00,  1.51s/it]\n"
     ]
    },
    {
     "name": "stdout",
     "output_type": "stream",
     "text": [
      "----------------------------\n",
      "Train_z, Test_z\n",
      "PCA: 0.8159\n",
      "SVD: 0.8149\n",
      "NetG_fixD, Acc at sample 2 0.5394\n"
     ]
    },
    {
     "name": "stderr",
     "output_type": "stream",
     "text": [
      "extracting all features from dataset: 100%|██████████████████████████████████████████████| 2/2 [00:04<00:00,  2.16s/it]\n",
      "extracting all features from dataset: 100%|██████████████████████████████████████████████| 1/1 [00:01<00:00,  1.55s/it]\n"
     ]
    },
    {
     "name": "stdout",
     "output_type": "stream",
     "text": [
      "----------------------------\n",
      "Train_z, Test_z\n",
      "PCA: 0.8202\n",
      "SVD: 0.8158\n",
      "NetG_fixD, Acc at sample 3 0.3403\n"
     ]
    },
    {
     "name": "stderr",
     "output_type": "stream",
     "text": [
      "extracting all features from dataset: 100%|██████████████████████████████████████████████| 2/2 [00:04<00:00,  2.21s/it]\n",
      "extracting all features from dataset: 100%|██████████████████████████████████████████████| 1/1 [00:01<00:00,  1.51s/it]\n"
     ]
    },
    {
     "name": "stdout",
     "output_type": "stream",
     "text": [
      "----------------------------\n",
      "Train_z, Test_z\n",
      "PCA: 0.8115\n",
      "SVD: 0.8073\n",
      "NetG_fixD, Acc at sample 4 0.4357\n"
     ]
    },
    {
     "name": "stderr",
     "output_type": "stream",
     "text": [
      "extracting all features from dataset: 100%|██████████████████████████████████████████████| 2/2 [00:04<00:00,  2.11s/it]\n",
      "extracting all features from dataset: 100%|██████████████████████████████████████████████| 1/1 [00:01<00:00,  1.51s/it]\n"
     ]
    },
    {
     "name": "stdout",
     "output_type": "stream",
     "text": [
      "----------------------------\n",
      "Train_z, Test_z\n",
      "PCA: 0.8161\n",
      "SVD: 0.8085\n",
      "NetG_fixD, Acc at sample 5 0.5739\n"
     ]
    },
    {
     "name": "stderr",
     "output_type": "stream",
     "text": [
      "extracting all features from dataset: 100%|██████████████████████████████████████████████| 2/2 [00:04<00:00,  2.15s/it]\n",
      "extracting all features from dataset: 100%|██████████████████████████████████████████████| 1/1 [00:01<00:00,  1.51s/it]\n"
     ]
    },
    {
     "name": "stdout",
     "output_type": "stream",
     "text": [
      "----------------------------\n",
      "Train_z, Test_z\n",
      "PCA: 0.8207\n",
      "SVD: 0.8119000000000001\n",
      "NetG_fixD, Acc at sample 6 0.4483\n"
     ]
    },
    {
     "name": "stderr",
     "output_type": "stream",
     "text": [
      "extracting all features from dataset: 100%|██████████████████████████████████████████████| 2/2 [00:04<00:00,  2.13s/it]\n",
      "extracting all features from dataset: 100%|██████████████████████████████████████████████| 1/1 [00:01<00:00,  1.50s/it]\n"
     ]
    },
    {
     "name": "stdout",
     "output_type": "stream",
     "text": [
      "----------------------------\n",
      "Train_z, Test_z\n",
      "PCA: 0.8121\n",
      "SVD: 0.8084\n",
      "NetG_fixD, Acc at sample 7 0.4582\n"
     ]
    },
    {
     "name": "stderr",
     "output_type": "stream",
     "text": [
      "extracting all features from dataset: 100%|██████████████████████████████████████████████| 2/2 [00:04<00:00,  2.16s/it]\n",
      "extracting all features from dataset: 100%|██████████████████████████████████████████████| 1/1 [00:01<00:00,  1.51s/it]\n"
     ]
    },
    {
     "name": "stdout",
     "output_type": "stream",
     "text": [
      "----------------------------\n",
      "Train_z, Test_z\n",
      "PCA: 0.8142\n",
      "SVD: 0.8115\n",
      "NetG_fixD, Acc at sample 8 0.4585\n"
     ]
    },
    {
     "name": "stderr",
     "output_type": "stream",
     "text": [
      "extracting all features from dataset: 100%|██████████████████████████████████████████████| 2/2 [00:04<00:00,  2.14s/it]\n",
      "extracting all features from dataset: 100%|██████████████████████████████████████████████| 1/1 [00:01<00:00,  1.49s/it]\n"
     ]
    },
    {
     "name": "stdout",
     "output_type": "stream",
     "text": [
      "----------------------------\n",
      "Train_z, Test_z\n",
      "PCA: 0.8165\n",
      "SVD: 0.813\n",
      "NetG_fixD, Acc at sample 9 0.5124\n"
     ]
    },
    {
     "name": "stderr",
     "output_type": "stream",
     "text": [
      "extracting all features from dataset: 100%|██████████████████████████████████████████████| 2/2 [00:04<00:00,  2.15s/it]\n",
      "extracting all features from dataset: 100%|██████████████████████████████████████████████| 1/1 [00:01<00:00,  1.51s/it]\n"
     ]
    },
    {
     "name": "stdout",
     "output_type": "stream",
     "text": [
      "----------------------------\n",
      "Train_z, Test_z\n",
      "PCA: 0.8193\n",
      "SVD: 0.8163\n",
      "NetG_fixD, Acc at sample 10 0.5085\n"
     ]
    },
    {
     "name": "stderr",
     "output_type": "stream",
     "text": [
      "extracting all features from dataset: 100%|██████████████████████████████████████████████| 2/2 [00:04<00:00,  2.10s/it]\n",
      "extracting all features from dataset: 100%|██████████████████████████████████████████████| 1/1 [00:01<00:00,  1.51s/it]\n"
     ]
    },
    {
     "name": "stdout",
     "output_type": "stream",
     "text": [
      "----------------------------\n",
      "Train_z, Test_z\n",
      "PCA: 0.8140000000000001\n",
      "SVD: 0.8126\n",
      "NetG_fixD, Acc at sample 11 0.5181\n"
     ]
    },
    {
     "name": "stderr",
     "output_type": "stream",
     "text": [
      "extracting all features from dataset: 100%|██████████████████████████████████████████████| 2/2 [00:04<00:00,  2.13s/it]\n",
      "extracting all features from dataset: 100%|██████████████████████████████████████████████| 1/1 [00:01<00:00,  1.53s/it]\n"
     ]
    },
    {
     "name": "stdout",
     "output_type": "stream",
     "text": [
      "----------------------------\n",
      "Train_z, Test_z\n",
      "PCA: 0.8164\n",
      "SVD: 0.8144\n",
      "NetG_fixD, Acc at sample 12 0.4335\n"
     ]
    },
    {
     "name": "stderr",
     "output_type": "stream",
     "text": [
      "extracting all features from dataset: 100%|██████████████████████████████████████████████| 2/2 [00:04<00:00,  2.06s/it]\n",
      "extracting all features from dataset: 100%|██████████████████████████████████████████████| 1/1 [00:01<00:00,  1.52s/it]\n"
     ]
    },
    {
     "name": "stdout",
     "output_type": "stream",
     "text": [
      "----------------------------\n",
      "Train_z, Test_z\n",
      "PCA: 0.8195\n",
      "SVD: 0.8128\n",
      "NetG_fixD, Acc at sample 13 0.3918\n"
     ]
    },
    {
     "name": "stderr",
     "output_type": "stream",
     "text": [
      "extracting all features from dataset: 100%|██████████████████████████████████████████████| 2/2 [00:04<00:00,  2.16s/it]\n",
      "extracting all features from dataset: 100%|██████████████████████████████████████████████| 1/1 [00:01<00:00,  1.51s/it]\n"
     ]
    },
    {
     "name": "stdout",
     "output_type": "stream",
     "text": [
      "----------------------------\n",
      "Train_z, Test_z\n",
      "PCA: 0.8110999999999999\n",
      "SVD: 0.8092\n",
      "NetG_fixD, Acc at sample 14 0.4647\n"
     ]
    },
    {
     "name": "stderr",
     "output_type": "stream",
     "text": [
      "extracting all features from dataset: 100%|██████████████████████████████████████████████| 2/2 [00:04<00:00,  2.10s/it]\n",
      "extracting all features from dataset: 100%|██████████████████████████████████████████████| 1/1 [00:01<00:00,  1.52s/it]\n"
     ]
    },
    {
     "name": "stdout",
     "output_type": "stream",
     "text": [
      "----------------------------\n",
      "Train_z, Test_z\n",
      "PCA: 0.8194\n",
      "SVD: 0.8139000000000001\n",
      "NetG_fixD, Acc at sample 15 0.5585\n"
     ]
    },
    {
     "name": "stderr",
     "output_type": "stream",
     "text": [
      "extracting all features from dataset: 100%|██████████████████████████████████████████████| 2/2 [00:04<00:00,  2.05s/it]\n",
      "extracting all features from dataset: 100%|██████████████████████████████████████████████| 1/1 [00:01<00:00,  1.52s/it]\n"
     ]
    },
    {
     "name": "stdout",
     "output_type": "stream",
     "text": [
      "----------------------------\n",
      "Train_z, Test_z\n",
      "PCA: 0.8105\n",
      "SVD: 0.8087\n",
      "NetG_fixD, Acc at sample 16 0.4854\n"
     ]
    },
    {
     "name": "stderr",
     "output_type": "stream",
     "text": [
      "extracting all features from dataset: 100%|██████████████████████████████████████████████| 2/2 [00:04<00:00,  2.04s/it]\n",
      "extracting all features from dataset: 100%|██████████████████████████████████████████████| 1/1 [00:01<00:00,  1.50s/it]\n"
     ]
    },
    {
     "name": "stdout",
     "output_type": "stream",
     "text": [
      "----------------------------\n",
      "Train_z, Test_z\n",
      "PCA: 0.8054\n",
      "SVD: 0.8042\n",
      "NetG_fixD, Acc at sample 17 0.4835\n"
     ]
    },
    {
     "name": "stderr",
     "output_type": "stream",
     "text": [
      "extracting all features from dataset: 100%|██████████████████████████████████████████████| 2/2 [00:04<00:00,  2.03s/it]\n",
      "extracting all features from dataset: 100%|██████████████████████████████████████████████| 1/1 [00:01<00:00,  1.51s/it]\n"
     ]
    },
    {
     "name": "stdout",
     "output_type": "stream",
     "text": [
      "----------------------------\n",
      "Train_z, Test_z\n",
      "PCA: 0.8139000000000001\n",
      "SVD: 0.8081\n",
      "NetG_fixD, Acc at sample 18 0.4526\n"
     ]
    },
    {
     "name": "stderr",
     "output_type": "stream",
     "text": [
      "extracting all features from dataset: 100%|██████████████████████████████████████████████| 2/2 [00:04<00:00,  2.10s/it]\n",
      "extracting all features from dataset: 100%|██████████████████████████████████████████████| 1/1 [00:01<00:00,  1.52s/it]\n"
     ]
    },
    {
     "name": "stdout",
     "output_type": "stream",
     "text": [
      "----------------------------\n",
      "Train_z, Test_z\n",
      "PCA: 0.8147\n",
      "SVD: 0.808\n",
      "NetG_fixD, Acc at sample 19 0.3652\n"
     ]
    },
    {
     "name": "stderr",
     "output_type": "stream",
     "text": [
      "extracting all features from dataset: 100%|██████████████████████████████████████████████| 2/2 [00:04<00:00,  2.13s/it]\n",
      "extracting all features from dataset: 100%|██████████████████████████████████████████████| 1/1 [00:01<00:00,  1.50s/it]\n"
     ]
    },
    {
     "name": "stdout",
     "output_type": "stream",
     "text": [
      "----------------------------\n",
      "Train_z, Test_z\n",
      "PCA: 0.8168\n",
      "SVD: 0.8088\n",
      "NetG_fixD, Acc at sample 20 0.4\n",
      "0.5739 0.3403 0.46339499999999995 0.003596151474999999\n"
     ]
    }
   ],
   "source": [
    "# sample 50 times of NetG at final radius, NetD is fixed\n",
    "from sklearn.neighbors import KNeighborsClassifier \n",
    "Acc_results_G_sample7 = []\n",
    "\n",
    "for _ in range(sample_num):\n",
    "    #acc at first\n",
    "    net_noise = get_noise(DATASET, device, LABEL)\n",
    "    fed_state_dict = get_netG(netD,netV,net_noise,r_list[7])\n",
    "    netG.load_state_dict(fed_state_dict)\n",
    "    \n",
    "    train_X, train_Z, train_X_bar, train_Z_bar, train_labels = extract_features2(trainloader, netG, netD)\n",
    "\n",
    "    test_X, test_Z, test_X_bar, test_Z_bar, test_labels = extract_features2(testloader, netG, netD)\n",
    "\n",
    "    print(\"----------------------------\")\n",
    "    print(\"Train_z, Test_z\")\n",
    "    nearsub(n_comp, train_Z, train_labels, test_Z, test_labels)\n",
    "\n",
    "    knn= KNeighborsClassifier(n_neighbors=10) \n",
    "\n",
    "    knn.fit(train_Z,train_labels) \n",
    "    knn.score(test_Z_bar,test_labels) \n",
    "\n",
    "    y_predict = knn.predict(test_Z_bar) \n",
    "\n",
    "    count =0\n",
    "    for k in range(10000):\n",
    "        if y_predict[k] == test_labels[k]:\n",
    "            count +=1\n",
    "    print('NetG_fixD, Acc at sample',_+1,count/10000)\n",
    "    Acc_results_G_sample7.append(count/10000)\n",
    "    \n",
    "print(max(Acc_results_G_sample7),min(Acc_results_G_sample7),np.mean(Acc_results_G_sample7),np.var(Acc_results_G_sample7))"
   ]
  },
  {
   "cell_type": "code",
   "execution_count": 19,
   "id": "10863846",
   "metadata": {},
   "outputs": [
    {
     "name": "stderr",
     "output_type": "stream",
     "text": [
      "extracting all features from dataset: 100%|██████████████████████████████████████████████| 2/2 [00:04<00:00,  2.12s/it]\n",
      "extracting all features from dataset: 100%|██████████████████████████████████████████████| 1/1 [00:01<00:00,  1.52s/it]\n"
     ]
    },
    {
     "name": "stdout",
     "output_type": "stream",
     "text": [
      "----------------------------\n",
      "Train_z, Test_z\n",
      "PCA: 0.8084\n",
      "SVD: 0.8106\n",
      "NetG_fixD, Acc at sample 1 0.1442\n"
     ]
    },
    {
     "name": "stderr",
     "output_type": "stream",
     "text": [
      "extracting all features from dataset: 100%|██████████████████████████████████████████████| 2/2 [00:04<00:00,  2.17s/it]\n",
      "extracting all features from dataset: 100%|██████████████████████████████████████████████| 1/1 [00:01<00:00,  1.52s/it]\n"
     ]
    },
    {
     "name": "stdout",
     "output_type": "stream",
     "text": [
      "----------------------------\n",
      "Train_z, Test_z\n",
      "PCA: 0.8077\n",
      "SVD: 0.8032\n",
      "NetG_fixD, Acc at sample 2 0.1638\n"
     ]
    },
    {
     "name": "stderr",
     "output_type": "stream",
     "text": [
      "extracting all features from dataset: 100%|██████████████████████████████████████████████| 2/2 [00:04<00:00,  2.16s/it]\n",
      "extracting all features from dataset: 100%|██████████████████████████████████████████████| 1/1 [00:01<00:00,  1.51s/it]\n"
     ]
    },
    {
     "name": "stdout",
     "output_type": "stream",
     "text": [
      "----------------------------\n",
      "Train_z, Test_z\n",
      "PCA: 0.8074\n",
      "SVD: 0.8049999999999999\n",
      "NetG_fixD, Acc at sample 3 0.1592\n"
     ]
    },
    {
     "name": "stderr",
     "output_type": "stream",
     "text": [
      "extracting all features from dataset: 100%|██████████████████████████████████████████████| 2/2 [00:04<00:00,  2.05s/it]\n",
      "extracting all features from dataset: 100%|██████████████████████████████████████████████| 1/1 [00:01<00:00,  1.51s/it]\n"
     ]
    },
    {
     "name": "stdout",
     "output_type": "stream",
     "text": [
      "----------------------------\n",
      "Train_z, Test_z\n",
      "PCA: 0.8075\n",
      "SVD: 0.8038\n",
      "NetG_fixD, Acc at sample 4 0.1304\n"
     ]
    },
    {
     "name": "stderr",
     "output_type": "stream",
     "text": [
      "extracting all features from dataset: 100%|██████████████████████████████████████████████| 2/2 [00:04<00:00,  2.16s/it]\n",
      "extracting all features from dataset: 100%|██████████████████████████████████████████████| 1/1 [00:01<00:00,  1.52s/it]\n"
     ]
    },
    {
     "name": "stdout",
     "output_type": "stream",
     "text": [
      "----------------------------\n",
      "Train_z, Test_z\n",
      "PCA: 0.8097\n",
      "SVD: 0.8084\n",
      "NetG_fixD, Acc at sample 5 0.145\n"
     ]
    },
    {
     "name": "stderr",
     "output_type": "stream",
     "text": [
      "extracting all features from dataset: 100%|██████████████████████████████████████████████| 2/2 [00:04<00:00,  2.11s/it]\n",
      "extracting all features from dataset: 100%|██████████████████████████████████████████████| 1/1 [00:01<00:00,  1.51s/it]\n"
     ]
    },
    {
     "name": "stdout",
     "output_type": "stream",
     "text": [
      "----------------------------\n",
      "Train_z, Test_z\n",
      "PCA: 0.8078\n",
      "SVD: 0.8079000000000001\n",
      "NetG_fixD, Acc at sample 6 0.0959\n"
     ]
    },
    {
     "name": "stderr",
     "output_type": "stream",
     "text": [
      "extracting all features from dataset: 100%|██████████████████████████████████████████████| 2/2 [00:04<00:00,  2.02s/it]\n",
      "extracting all features from dataset: 100%|██████████████████████████████████████████████| 1/1 [00:01<00:00,  1.51s/it]\n"
     ]
    },
    {
     "name": "stdout",
     "output_type": "stream",
     "text": [
      "----------------------------\n",
      "Train_z, Test_z\n",
      "PCA: 0.8103\n",
      "SVD: 0.808\n",
      "NetG_fixD, Acc at sample 7 0.1678\n"
     ]
    },
    {
     "name": "stderr",
     "output_type": "stream",
     "text": [
      "extracting all features from dataset: 100%|██████████████████████████████████████████████| 2/2 [00:04<00:00,  2.18s/it]\n",
      "extracting all features from dataset: 100%|██████████████████████████████████████████████| 1/1 [00:01<00:00,  1.55s/it]\n"
     ]
    },
    {
     "name": "stdout",
     "output_type": "stream",
     "text": [
      "----------------------------\n",
      "Train_z, Test_z\n",
      "PCA: 0.8130999999999999\n",
      "SVD: 0.8128\n",
      "NetG_fixD, Acc at sample 8 0.1494\n"
     ]
    },
    {
     "name": "stderr",
     "output_type": "stream",
     "text": [
      "extracting all features from dataset: 100%|██████████████████████████████████████████████| 2/2 [00:04<00:00,  2.08s/it]\n",
      "extracting all features from dataset: 100%|██████████████████████████████████████████████| 1/1 [00:01<00:00,  1.53s/it]\n"
     ]
    },
    {
     "name": "stdout",
     "output_type": "stream",
     "text": [
      "----------------------------\n",
      "Train_z, Test_z\n",
      "PCA: 0.8058\n",
      "SVD: 0.8037\n",
      "NetG_fixD, Acc at sample 9 0.1383\n"
     ]
    },
    {
     "name": "stderr",
     "output_type": "stream",
     "text": [
      "extracting all features from dataset: 100%|██████████████████████████████████████████████| 2/2 [00:04<00:00,  2.12s/it]\n",
      "extracting all features from dataset: 100%|██████████████████████████████████████████████| 1/1 [00:01<00:00,  1.52s/it]\n"
     ]
    },
    {
     "name": "stdout",
     "output_type": "stream",
     "text": [
      "----------------------------\n",
      "Train_z, Test_z\n",
      "PCA: 0.8104\n",
      "SVD: 0.8091\n",
      "NetG_fixD, Acc at sample 10 0.1238\n"
     ]
    },
    {
     "name": "stderr",
     "output_type": "stream",
     "text": [
      "extracting all features from dataset: 100%|██████████████████████████████████████████████| 2/2 [00:04<00:00,  2.10s/it]\n",
      "extracting all features from dataset: 100%|██████████████████████████████████████████████| 1/1 [00:01<00:00,  1.53s/it]\n"
     ]
    },
    {
     "name": "stdout",
     "output_type": "stream",
     "text": [
      "----------------------------\n",
      "Train_z, Test_z\n",
      "PCA: 0.8107\n",
      "SVD: 0.8047\n",
      "NetG_fixD, Acc at sample 11 0.1519\n"
     ]
    },
    {
     "name": "stderr",
     "output_type": "stream",
     "text": [
      "extracting all features from dataset: 100%|██████████████████████████████████████████████| 2/2 [00:04<00:00,  2.07s/it]\n",
      "extracting all features from dataset: 100%|██████████████████████████████████████████████| 1/1 [00:01<00:00,  1.53s/it]\n"
     ]
    },
    {
     "name": "stdout",
     "output_type": "stream",
     "text": [
      "----------------------------\n",
      "Train_z, Test_z\n",
      "PCA: 0.8074\n",
      "SVD: 0.8002\n",
      "NetG_fixD, Acc at sample 12 0.1513\n"
     ]
    },
    {
     "name": "stderr",
     "output_type": "stream",
     "text": [
      "extracting all features from dataset: 100%|██████████████████████████████████████████████| 2/2 [00:04<00:00,  2.18s/it]\n",
      "extracting all features from dataset: 100%|██████████████████████████████████████████████| 1/1 [00:01<00:00,  1.50s/it]\n"
     ]
    },
    {
     "name": "stdout",
     "output_type": "stream",
     "text": [
      "----------------------------\n",
      "Train_z, Test_z\n",
      "PCA: 0.8114\n",
      "SVD: 0.8061\n",
      "NetG_fixD, Acc at sample 13 0.1716\n"
     ]
    },
    {
     "name": "stderr",
     "output_type": "stream",
     "text": [
      "extracting all features from dataset: 100%|██████████████████████████████████████████████| 2/2 [00:04<00:00,  2.08s/it]\n",
      "extracting all features from dataset: 100%|██████████████████████████████████████████████| 1/1 [00:01<00:00,  1.49s/it]\n"
     ]
    },
    {
     "name": "stdout",
     "output_type": "stream",
     "text": [
      "----------------------------\n",
      "Train_z, Test_z\n",
      "PCA: 0.8105\n",
      "SVD: 0.81\n",
      "NetG_fixD, Acc at sample 14 0.1597\n"
     ]
    },
    {
     "name": "stderr",
     "output_type": "stream",
     "text": [
      "extracting all features from dataset: 100%|██████████████████████████████████████████████| 2/2 [00:04<00:00,  2.18s/it]\n",
      "extracting all features from dataset: 100%|██████████████████████████████████████████████| 1/1 [00:01<00:00,  1.52s/it]\n"
     ]
    },
    {
     "name": "stdout",
     "output_type": "stream",
     "text": [
      "----------------------------\n",
      "Train_z, Test_z\n",
      "PCA: 0.8114\n",
      "SVD: 0.8069\n",
      "NetG_fixD, Acc at sample 15 0.1385\n"
     ]
    },
    {
     "name": "stderr",
     "output_type": "stream",
     "text": [
      "extracting all features from dataset: 100%|██████████████████████████████████████████████| 2/2 [00:04<00:00,  2.14s/it]\n",
      "extracting all features from dataset: 100%|██████████████████████████████████████████████| 1/1 [00:01<00:00,  1.53s/it]\n"
     ]
    },
    {
     "name": "stdout",
     "output_type": "stream",
     "text": [
      "----------------------------\n",
      "Train_z, Test_z\n",
      "PCA: 0.8103\n",
      "SVD: 0.8101\n",
      "NetG_fixD, Acc at sample 16 0.172\n"
     ]
    },
    {
     "name": "stderr",
     "output_type": "stream",
     "text": [
      "extracting all features from dataset: 100%|██████████████████████████████████████████████| 2/2 [00:04<00:00,  2.12s/it]\n",
      "extracting all features from dataset: 100%|██████████████████████████████████████████████| 1/1 [00:01<00:00,  1.52s/it]\n"
     ]
    },
    {
     "name": "stdout",
     "output_type": "stream",
     "text": [
      "----------------------------\n",
      "Train_z, Test_z\n",
      "PCA: 0.813\n",
      "SVD: 0.8155\n",
      "NetG_fixD, Acc at sample 17 0.1476\n"
     ]
    },
    {
     "name": "stderr",
     "output_type": "stream",
     "text": [
      "extracting all features from dataset: 100%|██████████████████████████████████████████████| 2/2 [00:04<00:00,  2.05s/it]\n",
      "extracting all features from dataset: 100%|██████████████████████████████████████████████| 1/1 [00:01<00:00,  1.50s/it]\n"
     ]
    },
    {
     "name": "stdout",
     "output_type": "stream",
     "text": [
      "----------------------------\n",
      "Train_z, Test_z\n",
      "PCA: 0.8071\n",
      "SVD: 0.806\n",
      "NetG_fixD, Acc at sample 18 0.1294\n"
     ]
    },
    {
     "name": "stderr",
     "output_type": "stream",
     "text": [
      "extracting all features from dataset: 100%|██████████████████████████████████████████████| 2/2 [00:04<00:00,  2.11s/it]\n",
      "extracting all features from dataset: 100%|██████████████████████████████████████████████| 1/1 [00:01<00:00,  1.53s/it]\n"
     ]
    },
    {
     "name": "stdout",
     "output_type": "stream",
     "text": [
      "----------------------------\n",
      "Train_z, Test_z\n",
      "PCA: 0.8075\n",
      "SVD: 0.8035\n",
      "NetG_fixD, Acc at sample 19 0.1422\n"
     ]
    },
    {
     "name": "stderr",
     "output_type": "stream",
     "text": [
      "extracting all features from dataset: 100%|██████████████████████████████████████████████| 2/2 [00:04<00:00,  2.14s/it]\n",
      "extracting all features from dataset: 100%|██████████████████████████████████████████████| 1/1 [00:01<00:00,  1.48s/it]\n"
     ]
    },
    {
     "name": "stdout",
     "output_type": "stream",
     "text": [
      "----------------------------\n",
      "Train_z, Test_z\n",
      "PCA: 0.8045\n",
      "SVD: 0.8023\n",
      "NetG_fixD, Acc at sample 20 0.1508\n",
      "0.172 0.0959 0.14664 0.00031166140000000005\n"
     ]
    }
   ],
   "source": [
    "# sample 50 times of NetG at final radius, NetD is fixed\n",
    "from sklearn.neighbors import KNeighborsClassifier \n",
    "Acc_results_G_sample8 = []\n",
    "\n",
    "for _ in range(sample_num):\n",
    "    #acc at first\n",
    "    net_noise = get_noise(DATASET, device, LABEL)\n",
    "    fed_state_dict = get_netG(netD,netV,net_noise,r_list[8])\n",
    "    netG.load_state_dict(fed_state_dict)\n",
    "    \n",
    "    train_X, train_Z, train_X_bar, train_Z_bar, train_labels = extract_features2(trainloader, netG, netD)\n",
    "\n",
    "    test_X, test_Z, test_X_bar, test_Z_bar, test_labels = extract_features2(testloader, netG, netD)\n",
    "\n",
    "    print(\"----------------------------\")\n",
    "    print(\"Train_z, Test_z\")\n",
    "    nearsub(n_comp, train_Z, train_labels, test_Z, test_labels)\n",
    "\n",
    "    knn= KNeighborsClassifier(n_neighbors=10) \n",
    "\n",
    "    knn.fit(train_Z,train_labels) \n",
    "    knn.score(test_Z_bar,test_labels) \n",
    "\n",
    "    y_predict = knn.predict(test_Z_bar) \n",
    "\n",
    "    count =0\n",
    "    for k in range(10000):\n",
    "        if y_predict[k] == test_labels[k]:\n",
    "            count +=1\n",
    "    print('NetG_fixD, Acc at sample',_+1,count/10000)\n",
    "    Acc_results_G_sample8.append(count/10000)\n",
    "    \n",
    "print(max(Acc_results_G_sample8),min(Acc_results_G_sample8),np.mean(Acc_results_G_sample8),np.var(Acc_results_G_sample8))"
   ]
  },
  {
   "cell_type": "code",
   "execution_count": 20,
   "id": "162a6f56",
   "metadata": {},
   "outputs": [
    {
     "name": "stderr",
     "output_type": "stream",
     "text": [
      "extracting all features from dataset: 100%|██████████████████████████████████████████████| 2/2 [00:04<00:00,  2.17s/it]\n",
      "extracting all features from dataset: 100%|██████████████████████████████████████████████| 1/1 [00:01<00:00,  1.51s/it]\n"
     ]
    },
    {
     "name": "stdout",
     "output_type": "stream",
     "text": [
      "----------------------------\n",
      "Train_z, Test_z\n",
      "PCA: 0.8136\n",
      "SVD: 0.8068\n",
      "NetG_fixD, Acc at sample 1 0.1152\n"
     ]
    },
    {
     "name": "stderr",
     "output_type": "stream",
     "text": [
      "extracting all features from dataset: 100%|██████████████████████████████████████████████| 2/2 [00:04<00:00,  2.15s/it]\n",
      "extracting all features from dataset: 100%|██████████████████████████████████████████████| 1/1 [00:01<00:00,  1.51s/it]\n"
     ]
    },
    {
     "name": "stdout",
     "output_type": "stream",
     "text": [
      "----------------------------\n",
      "Train_z, Test_z\n",
      "PCA: 0.8135\n",
      "SVD: 0.8077\n",
      "NetG_fixD, Acc at sample 2 0.0768\n"
     ]
    },
    {
     "name": "stderr",
     "output_type": "stream",
     "text": [
      "extracting all features from dataset: 100%|██████████████████████████████████████████████| 2/2 [00:04<00:00,  2.19s/it]\n",
      "extracting all features from dataset: 100%|██████████████████████████████████████████████| 1/1 [00:01<00:00,  1.53s/it]\n"
     ]
    },
    {
     "name": "stdout",
     "output_type": "stream",
     "text": [
      "----------------------------\n",
      "Train_z, Test_z\n",
      "PCA: 0.798\n",
      "SVD: 0.8001\n",
      "NetG_fixD, Acc at sample 3 0.1013\n"
     ]
    },
    {
     "name": "stderr",
     "output_type": "stream",
     "text": [
      "extracting all features from dataset: 100%|██████████████████████████████████████████████| 2/2 [00:04<00:00,  2.11s/it]\n",
      "extracting all features from dataset: 100%|██████████████████████████████████████████████| 1/1 [00:01<00:00,  1.52s/it]\n"
     ]
    },
    {
     "name": "stdout",
     "output_type": "stream",
     "text": [
      "----------------------------\n",
      "Train_z, Test_z\n",
      "PCA: 0.8095\n",
      "SVD: 0.806\n",
      "NetG_fixD, Acc at sample 4 0.123\n"
     ]
    },
    {
     "name": "stderr",
     "output_type": "stream",
     "text": [
      "extracting all features from dataset: 100%|██████████████████████████████████████████████| 2/2 [00:04<00:00,  2.15s/it]\n",
      "extracting all features from dataset: 100%|██████████████████████████████████████████████| 1/1 [00:01<00:00,  1.52s/it]\n"
     ]
    },
    {
     "name": "stdout",
     "output_type": "stream",
     "text": [
      "----------------------------\n",
      "Train_z, Test_z\n",
      "PCA: 0.8146\n",
      "SVD: 0.8107\n",
      "NetG_fixD, Acc at sample 5 0.1031\n"
     ]
    },
    {
     "name": "stderr",
     "output_type": "stream",
     "text": [
      "extracting all features from dataset: 100%|██████████████████████████████████████████████| 2/2 [00:04<00:00,  2.07s/it]\n",
      "extracting all features from dataset: 100%|██████████████████████████████████████████████| 1/1 [00:01<00:00,  1.52s/it]\n"
     ]
    },
    {
     "name": "stdout",
     "output_type": "stream",
     "text": [
      "----------------------------\n",
      "Train_z, Test_z\n",
      "PCA: 0.8068\n",
      "SVD: 0.8038\n",
      "NetG_fixD, Acc at sample 6 0.0776\n"
     ]
    },
    {
     "name": "stderr",
     "output_type": "stream",
     "text": [
      "extracting all features from dataset: 100%|██████████████████████████████████████████████| 2/2 [00:04<00:00,  2.15s/it]\n",
      "extracting all features from dataset: 100%|██████████████████████████████████████████████| 1/1 [00:01<00:00,  1.51s/it]\n"
     ]
    },
    {
     "name": "stdout",
     "output_type": "stream",
     "text": [
      "----------------------------\n",
      "Train_z, Test_z\n",
      "PCA: 0.81\n",
      "SVD: 0.8069999999999999\n",
      "NetG_fixD, Acc at sample 7 0.1013\n"
     ]
    },
    {
     "name": "stderr",
     "output_type": "stream",
     "text": [
      "extracting all features from dataset: 100%|██████████████████████████████████████████████| 2/2 [00:04<00:00,  2.19s/it]\n",
      "extracting all features from dataset: 100%|██████████████████████████████████████████████| 1/1 [00:01<00:00,  1.54s/it]\n"
     ]
    },
    {
     "name": "stdout",
     "output_type": "stream",
     "text": [
      "----------------------------\n",
      "Train_z, Test_z\n",
      "PCA: 0.8104\n",
      "SVD: 0.8075\n",
      "NetG_fixD, Acc at sample 8 0.0967\n"
     ]
    },
    {
     "name": "stderr",
     "output_type": "stream",
     "text": [
      "extracting all features from dataset: 100%|██████████████████████████████████████████████| 2/2 [00:04<00:00,  2.15s/it]\n",
      "extracting all features from dataset: 100%|██████████████████████████████████████████████| 1/1 [00:01<00:00,  1.53s/it]\n"
     ]
    },
    {
     "name": "stdout",
     "output_type": "stream",
     "text": [
      "----------------------------\n",
      "Train_z, Test_z\n",
      "PCA: 0.8117\n",
      "SVD: 0.8085\n",
      "NetG_fixD, Acc at sample 9 0.1186\n"
     ]
    },
    {
     "name": "stderr",
     "output_type": "stream",
     "text": [
      "extracting all features from dataset: 100%|██████████████████████████████████████████████| 2/2 [00:04<00:00,  2.05s/it]\n",
      "extracting all features from dataset: 100%|██████████████████████████████████████████████| 1/1 [00:01<00:00,  1.53s/it]\n"
     ]
    },
    {
     "name": "stdout",
     "output_type": "stream",
     "text": [
      "----------------------------\n",
      "Train_z, Test_z\n",
      "PCA: 0.8147\n",
      "SVD: 0.8091\n",
      "NetG_fixD, Acc at sample 10 0.0991\n"
     ]
    },
    {
     "name": "stderr",
     "output_type": "stream",
     "text": [
      "extracting all features from dataset: 100%|██████████████████████████████████████████████| 2/2 [00:04<00:00,  2.15s/it]\n",
      "extracting all features from dataset: 100%|██████████████████████████████████████████████| 1/1 [00:01<00:00,  1.51s/it]\n"
     ]
    },
    {
     "name": "stdout",
     "output_type": "stream",
     "text": [
      "----------------------------\n",
      "Train_z, Test_z\n",
      "PCA: 0.8076\n",
      "SVD: 0.8029999999999999\n",
      "NetG_fixD, Acc at sample 11 0.1058\n"
     ]
    },
    {
     "name": "stderr",
     "output_type": "stream",
     "text": [
      "extracting all features from dataset: 100%|██████████████████████████████████████████████| 2/2 [00:04<00:00,  2.14s/it]\n",
      "extracting all features from dataset: 100%|██████████████████████████████████████████████| 1/1 [00:01<00:00,  1.54s/it]\n"
     ]
    },
    {
     "name": "stdout",
     "output_type": "stream",
     "text": [
      "----------------------------\n",
      "Train_z, Test_z\n",
      "PCA: 0.8069\n",
      "SVD: 0.8011\n",
      "NetG_fixD, Acc at sample 12 0.1479\n"
     ]
    },
    {
     "name": "stderr",
     "output_type": "stream",
     "text": [
      "extracting all features from dataset: 100%|██████████████████████████████████████████████| 2/2 [00:04<00:00,  2.13s/it]\n",
      "extracting all features from dataset: 100%|██████████████████████████████████████████████| 1/1 [00:01<00:00,  1.52s/it]\n"
     ]
    },
    {
     "name": "stdout",
     "output_type": "stream",
     "text": [
      "----------------------------\n",
      "Train_z, Test_z\n",
      "PCA: 0.815\n",
      "SVD: 0.8115\n",
      "NetG_fixD, Acc at sample 13 0.1419\n"
     ]
    },
    {
     "name": "stderr",
     "output_type": "stream",
     "text": [
      "extracting all features from dataset: 100%|██████████████████████████████████████████████| 2/2 [00:04<00:00,  2.17s/it]\n",
      "extracting all features from dataset: 100%|██████████████████████████████████████████████| 1/1 [00:01<00:00,  1.53s/it]\n"
     ]
    },
    {
     "name": "stdout",
     "output_type": "stream",
     "text": [
      "----------------------------\n",
      "Train_z, Test_z\n",
      "PCA: 0.8101\n",
      "SVD: 0.8025\n",
      "NetG_fixD, Acc at sample 14 0.1252\n"
     ]
    },
    {
     "name": "stderr",
     "output_type": "stream",
     "text": [
      "extracting all features from dataset: 100%|██████████████████████████████████████████████| 2/2 [00:04<00:00,  2.15s/it]\n",
      "extracting all features from dataset: 100%|██████████████████████████████████████████████| 1/1 [00:01<00:00,  1.54s/it]\n"
     ]
    },
    {
     "name": "stdout",
     "output_type": "stream",
     "text": [
      "----------------------------\n",
      "Train_z, Test_z\n",
      "PCA: 0.8135\n",
      "SVD: 0.8128\n",
      "NetG_fixD, Acc at sample 15 0.1129\n"
     ]
    },
    {
     "name": "stderr",
     "output_type": "stream",
     "text": [
      "extracting all features from dataset: 100%|██████████████████████████████████████████████| 2/2 [00:04<00:00,  2.13s/it]\n",
      "extracting all features from dataset: 100%|██████████████████████████████████████████████| 1/1 [00:01<00:00,  1.52s/it]\n"
     ]
    },
    {
     "name": "stdout",
     "output_type": "stream",
     "text": [
      "----------------------------\n",
      "Train_z, Test_z\n",
      "PCA: 0.8134\n",
      "SVD: 0.8105\n",
      "NetG_fixD, Acc at sample 16 0.1018\n"
     ]
    },
    {
     "name": "stderr",
     "output_type": "stream",
     "text": [
      "extracting all features from dataset: 100%|██████████████████████████████████████████████| 2/2 [00:04<00:00,  2.11s/it]\n",
      "extracting all features from dataset: 100%|██████████████████████████████████████████████| 1/1 [00:01<00:00,  1.51s/it]\n"
     ]
    },
    {
     "name": "stdout",
     "output_type": "stream",
     "text": [
      "----------------------------\n",
      "Train_z, Test_z\n",
      "PCA: 0.8072\n",
      "SVD: 0.8054\n",
      "NetG_fixD, Acc at sample 17 0.1142\n"
     ]
    },
    {
     "name": "stderr",
     "output_type": "stream",
     "text": [
      "extracting all features from dataset: 100%|██████████████████████████████████████████████| 2/2 [00:04<00:00,  2.15s/it]\n",
      "extracting all features from dataset: 100%|██████████████████████████████████████████████| 1/1 [00:01<00:00,  1.53s/it]\n"
     ]
    },
    {
     "name": "stdout",
     "output_type": "stream",
     "text": [
      "----------------------------\n",
      "Train_z, Test_z\n",
      "PCA: 0.8081\n",
      "SVD: 0.8064\n",
      "NetG_fixD, Acc at sample 18 0.1173\n"
     ]
    },
    {
     "name": "stderr",
     "output_type": "stream",
     "text": [
      "extracting all features from dataset: 100%|██████████████████████████████████████████████| 2/2 [00:04<00:00,  2.03s/it]\n",
      "extracting all features from dataset: 100%|██████████████████████████████████████████████| 1/1 [00:01<00:00,  1.52s/it]\n"
     ]
    },
    {
     "name": "stdout",
     "output_type": "stream",
     "text": [
      "----------------------------\n",
      "Train_z, Test_z\n",
      "PCA: 0.8071\n",
      "SVD: 0.8018000000000001\n",
      "NetG_fixD, Acc at sample 19 0.0895\n"
     ]
    },
    {
     "name": "stderr",
     "output_type": "stream",
     "text": [
      "extracting all features from dataset: 100%|██████████████████████████████████████████████| 2/2 [00:04<00:00,  2.16s/it]\n",
      "extracting all features from dataset: 100%|██████████████████████████████████████████████| 1/1 [00:01<00:00,  1.50s/it]\n"
     ]
    },
    {
     "name": "stdout",
     "output_type": "stream",
     "text": [
      "----------------------------\n",
      "Train_z, Test_z\n",
      "PCA: 0.81\n",
      "SVD: 0.8055\n",
      "NetG_fixD, Acc at sample 20 0.1168\n",
      "0.1479 0.0768 0.10930000000000002 0.0003111330000000001\n"
     ]
    }
   ],
   "source": [
    "# sample 50 times of NetG at final radius, NetD is fixed\n",
    "from sklearn.neighbors import KNeighborsClassifier \n",
    "Acc_results_G_sample9 = []\n",
    "\n",
    "for _ in range(sample_num):\n",
    "    #acc at first\n",
    "    net_noise = get_noise(DATASET, device, LABEL)\n",
    "    fed_state_dict = get_netG(netD,netV,net_noise,r_list[9])\n",
    "    netG.load_state_dict(fed_state_dict)\n",
    "    \n",
    "    train_X, train_Z, train_X_bar, train_Z_bar, train_labels = extract_features2(trainloader, netG, netD)\n",
    "\n",
    "    test_X, test_Z, test_X_bar, test_Z_bar, test_labels = extract_features2(testloader, netG, netD)\n",
    "\n",
    "    print(\"----------------------------\")\n",
    "    print(\"Train_z, Test_z\")\n",
    "    nearsub(n_comp, train_Z, train_labels, test_Z, test_labels)\n",
    "\n",
    "    knn= KNeighborsClassifier(n_neighbors=10) \n",
    "\n",
    "    knn.fit(train_Z,train_labels) \n",
    "    knn.score(test_Z_bar,test_labels) \n",
    "\n",
    "    y_predict = knn.predict(test_Z_bar) \n",
    "\n",
    "    count =0\n",
    "    for k in range(10000):\n",
    "        if y_predict[k] == test_labels[k]:\n",
    "            count +=1\n",
    "    print('NetG_fixD, Acc at sample',_+1,count/10000)\n",
    "    Acc_results_G_sample9.append(count/10000)\n",
    "    \n",
    "print(max(Acc_results_G_sample9),min(Acc_results_G_sample9),np.mean(Acc_results_G_sample9),np.var(Acc_results_G_sample9))"
   ]
  },
  {
   "cell_type": "code",
   "execution_count": 21,
   "id": "4a83c92f",
   "metadata": {},
   "outputs": [
    {
     "name": "stderr",
     "output_type": "stream",
     "text": [
      "extracting all features from dataset: 100%|██████████████████████████████████████████████| 2/2 [00:04<00:00,  2.06s/it]\n",
      "extracting all features from dataset: 100%|██████████████████████████████████████████████| 1/1 [00:01<00:00,  1.52s/it]\n"
     ]
    },
    {
     "name": "stdout",
     "output_type": "stream",
     "text": [
      "----------------------------\n",
      "Train_z, Test_z\n",
      "PCA: 0.8097\n",
      "SVD: 0.8078\n",
      "NetG_fixD, Acc at sample 1 0.0863\n"
     ]
    },
    {
     "name": "stderr",
     "output_type": "stream",
     "text": [
      "extracting all features from dataset: 100%|██████████████████████████████████████████████| 2/2 [00:04<00:00,  2.07s/it]\n",
      "extracting all features from dataset: 100%|██████████████████████████████████████████████| 1/1 [00:01<00:00,  1.52s/it]\n"
     ]
    },
    {
     "name": "stdout",
     "output_type": "stream",
     "text": [
      "----------------------------\n",
      "Train_z, Test_z\n",
      "PCA: 0.8073\n",
      "SVD: 0.806\n",
      "NetG_fixD, Acc at sample 2 0.1003\n"
     ]
    },
    {
     "name": "stderr",
     "output_type": "stream",
     "text": [
      "extracting all features from dataset: 100%|██████████████████████████████████████████████| 2/2 [00:04<00:00,  2.08s/it]\n",
      "extracting all features from dataset: 100%|██████████████████████████████████████████████| 1/1 [00:01<00:00,  1.52s/it]\n"
     ]
    },
    {
     "name": "stdout",
     "output_type": "stream",
     "text": [
      "----------------------------\n",
      "Train_z, Test_z\n",
      "PCA: 0.8112\n",
      "SVD: 0.8103\n",
      "NetG_fixD, Acc at sample 3 0.115\n"
     ]
    },
    {
     "name": "stderr",
     "output_type": "stream",
     "text": [
      "extracting all features from dataset: 100%|██████████████████████████████████████████████| 2/2 [00:04<00:00,  2.15s/it]\n",
      "extracting all features from dataset: 100%|██████████████████████████████████████████████| 1/1 [00:01<00:00,  1.56s/it]\n"
     ]
    },
    {
     "name": "stdout",
     "output_type": "stream",
     "text": [
      "----------------------------\n",
      "Train_z, Test_z\n",
      "PCA: 0.8081\n",
      "SVD: 0.8034\n",
      "NetG_fixD, Acc at sample 4 0.0936\n"
     ]
    },
    {
     "name": "stderr",
     "output_type": "stream",
     "text": [
      "extracting all features from dataset: 100%|██████████████████████████████████████████████| 2/2 [00:04<00:00,  2.10s/it]\n",
      "extracting all features from dataset: 100%|██████████████████████████████████████████████| 1/1 [00:01<00:00,  1.51s/it]\n"
     ]
    },
    {
     "name": "stdout",
     "output_type": "stream",
     "text": [
      "----------------------------\n",
      "Train_z, Test_z\n",
      "PCA: 0.812\n",
      "SVD: 0.8068\n",
      "NetG_fixD, Acc at sample 5 0.1126\n"
     ]
    },
    {
     "name": "stderr",
     "output_type": "stream",
     "text": [
      "extracting all features from dataset: 100%|██████████████████████████████████████████████| 2/2 [00:04<00:00,  2.12s/it]\n",
      "extracting all features from dataset: 100%|██████████████████████████████████████████████| 1/1 [00:01<00:00,  1.52s/it]\n"
     ]
    },
    {
     "name": "stdout",
     "output_type": "stream",
     "text": [
      "----------------------------\n",
      "Train_z, Test_z\n",
      "PCA: 0.8108\n",
      "SVD: 0.8055\n",
      "NetG_fixD, Acc at sample 6 0.0901\n"
     ]
    },
    {
     "name": "stderr",
     "output_type": "stream",
     "text": [
      "extracting all features from dataset: 100%|██████████████████████████████████████████████| 2/2 [00:04<00:00,  2.18s/it]\n",
      "extracting all features from dataset: 100%|██████████████████████████████████████████████| 1/1 [00:01<00:00,  1.52s/it]\n"
     ]
    },
    {
     "name": "stdout",
     "output_type": "stream",
     "text": [
      "----------------------------\n",
      "Train_z, Test_z\n",
      "PCA: 0.8096\n",
      "SVD: 0.8048\n",
      "NetG_fixD, Acc at sample 7 0.119\n"
     ]
    },
    {
     "name": "stderr",
     "output_type": "stream",
     "text": [
      "extracting all features from dataset: 100%|██████████████████████████████████████████████| 2/2 [00:04<00:00,  2.14s/it]\n",
      "extracting all features from dataset: 100%|██████████████████████████████████████████████| 1/1 [00:01<00:00,  1.53s/it]\n"
     ]
    },
    {
     "name": "stdout",
     "output_type": "stream",
     "text": [
      "----------------------------\n",
      "Train_z, Test_z\n",
      "PCA: 0.8153\n",
      "SVD: 0.8116\n",
      "NetG_fixD, Acc at sample 8 0.1105\n"
     ]
    },
    {
     "name": "stderr",
     "output_type": "stream",
     "text": [
      "extracting all features from dataset: 100%|██████████████████████████████████████████████| 2/2 [00:04<00:00,  2.18s/it]\n",
      "extracting all features from dataset: 100%|██████████████████████████████████████████████| 1/1 [00:01<00:00,  1.52s/it]\n"
     ]
    },
    {
     "name": "stdout",
     "output_type": "stream",
     "text": [
      "----------------------------\n",
      "Train_z, Test_z\n",
      "PCA: 0.8123\n",
      "SVD: 0.8109999999999999\n",
      "NetG_fixD, Acc at sample 9 0.1072\n"
     ]
    },
    {
     "name": "stderr",
     "output_type": "stream",
     "text": [
      "extracting all features from dataset: 100%|██████████████████████████████████████████████| 2/2 [00:04<00:00,  2.14s/it]\n",
      "extracting all features from dataset: 100%|██████████████████████████████████████████████| 1/1 [00:01<00:00,  1.52s/it]\n"
     ]
    },
    {
     "name": "stdout",
     "output_type": "stream",
     "text": [
      "----------------------------\n",
      "Train_z, Test_z\n",
      "PCA: 0.8154\n",
      "SVD: 0.8128\n",
      "NetG_fixD, Acc at sample 10 0.084\n"
     ]
    },
    {
     "name": "stderr",
     "output_type": "stream",
     "text": [
      "extracting all features from dataset: 100%|██████████████████████████████████████████████| 2/2 [00:04<00:00,  2.11s/it]\n",
      "extracting all features from dataset: 100%|██████████████████████████████████████████████| 1/1 [00:01<00:00,  1.53s/it]\n"
     ]
    },
    {
     "name": "stdout",
     "output_type": "stream",
     "text": [
      "----------------------------\n",
      "Train_z, Test_z\n",
      "PCA: 0.8052\n",
      "SVD: 0.8037\n",
      "NetG_fixD, Acc at sample 11 0.1087\n"
     ]
    },
    {
     "name": "stderr",
     "output_type": "stream",
     "text": [
      "extracting all features from dataset: 100%|██████████████████████████████████████████████| 2/2 [00:04<00:00,  2.09s/it]\n",
      "extracting all features from dataset: 100%|██████████████████████████████████████████████| 1/1 [00:01<00:00,  1.49s/it]\n"
     ]
    },
    {
     "name": "stdout",
     "output_type": "stream",
     "text": [
      "----------------------------\n",
      "Train_z, Test_z\n",
      "PCA: 0.8106\n",
      "SVD: 0.8083\n",
      "NetG_fixD, Acc at sample 12 0.0916\n"
     ]
    },
    {
     "name": "stderr",
     "output_type": "stream",
     "text": [
      "extracting all features from dataset: 100%|██████████████████████████████████████████████| 2/2 [00:04<00:00,  2.15s/it]\n",
      "extracting all features from dataset: 100%|██████████████████████████████████████████████| 1/1 [00:01<00:00,  1.52s/it]\n"
     ]
    },
    {
     "name": "stdout",
     "output_type": "stream",
     "text": [
      "----------------------------\n",
      "Train_z, Test_z\n",
      "PCA: 0.8097\n",
      "SVD: 0.8069999999999999\n",
      "NetG_fixD, Acc at sample 13 0.1091\n"
     ]
    },
    {
     "name": "stderr",
     "output_type": "stream",
     "text": [
      "extracting all features from dataset: 100%|██████████████████████████████████████████████| 2/2 [00:04<00:00,  2.17s/it]\n",
      "extracting all features from dataset: 100%|██████████████████████████████████████████████| 1/1 [00:01<00:00,  1.52s/it]\n"
     ]
    },
    {
     "name": "stdout",
     "output_type": "stream",
     "text": [
      "----------------------------\n",
      "Train_z, Test_z\n",
      "PCA: 0.8082\n",
      "SVD: 0.8025\n",
      "NetG_fixD, Acc at sample 14 0.0963\n"
     ]
    },
    {
     "name": "stderr",
     "output_type": "stream",
     "text": [
      "extracting all features from dataset: 100%|██████████████████████████████████████████████| 2/2 [00:04<00:00,  2.14s/it]\n",
      "extracting all features from dataset: 100%|██████████████████████████████████████████████| 1/1 [00:01<00:00,  1.52s/it]\n"
     ]
    },
    {
     "name": "stdout",
     "output_type": "stream",
     "text": [
      "----------------------------\n",
      "Train_z, Test_z\n",
      "PCA: 0.8089999999999999\n",
      "SVD: 0.8064\n",
      "NetG_fixD, Acc at sample 15 0.1033\n"
     ]
    },
    {
     "name": "stderr",
     "output_type": "stream",
     "text": [
      "extracting all features from dataset: 100%|██████████████████████████████████████████████| 2/2 [00:04<00:00,  2.10s/it]\n",
      "extracting all features from dataset: 100%|██████████████████████████████████████████████| 1/1 [00:01<00:00,  1.50s/it]\n"
     ]
    },
    {
     "name": "stdout",
     "output_type": "stream",
     "text": [
      "----------------------------\n",
      "Train_z, Test_z\n",
      "PCA: 0.8069\n",
      "SVD: 0.8112\n",
      "NetG_fixD, Acc at sample 16 0.0991\n"
     ]
    },
    {
     "name": "stderr",
     "output_type": "stream",
     "text": [
      "extracting all features from dataset: 100%|██████████████████████████████████████████████| 2/2 [00:04<00:00,  2.19s/it]\n",
      "extracting all features from dataset: 100%|██████████████████████████████████████████████| 1/1 [00:01<00:00,  1.52s/it]\n"
     ]
    },
    {
     "name": "stdout",
     "output_type": "stream",
     "text": [
      "----------------------------\n",
      "Train_z, Test_z\n",
      "PCA: 0.8097\n",
      "SVD: 0.8089999999999999\n",
      "NetG_fixD, Acc at sample 17 0.0805\n"
     ]
    },
    {
     "name": "stderr",
     "output_type": "stream",
     "text": [
      "extracting all features from dataset: 100%|██████████████████████████████████████████████| 2/2 [00:04<00:00,  2.16s/it]\n",
      "extracting all features from dataset: 100%|██████████████████████████████████████████████| 1/1 [00:01<00:00,  1.53s/it]\n"
     ]
    },
    {
     "name": "stdout",
     "output_type": "stream",
     "text": [
      "----------------------------\n",
      "Train_z, Test_z\n",
      "PCA: 0.8159\n",
      "SVD: 0.81\n",
      "NetG_fixD, Acc at sample 18 0.1082\n"
     ]
    },
    {
     "name": "stderr",
     "output_type": "stream",
     "text": [
      "extracting all features from dataset: 100%|██████████████████████████████████████████████| 2/2 [00:04<00:00,  2.15s/it]\n",
      "extracting all features from dataset: 100%|██████████████████████████████████████████████| 1/1 [00:01<00:00,  1.51s/it]\n"
     ]
    },
    {
     "name": "stdout",
     "output_type": "stream",
     "text": [
      "----------------------------\n",
      "Train_z, Test_z\n",
      "PCA: 0.8067\n",
      "SVD: 0.8056\n",
      "NetG_fixD, Acc at sample 19 0.0985\n"
     ]
    },
    {
     "name": "stderr",
     "output_type": "stream",
     "text": [
      "extracting all features from dataset: 100%|██████████████████████████████████████████████| 2/2 [00:04<00:00,  2.06s/it]\n",
      "extracting all features from dataset: 100%|██████████████████████████████████████████████| 1/1 [00:01<00:00,  1.50s/it]\n"
     ]
    },
    {
     "name": "stdout",
     "output_type": "stream",
     "text": [
      "----------------------------\n",
      "Train_z, Test_z\n",
      "PCA: 0.8145\n",
      "SVD: 0.8094\n",
      "NetG_fixD, Acc at sample 20 0.1047\n",
      "0.119 0.0805 0.10093 0.00010992909999999999\n"
     ]
    }
   ],
   "source": [
    "# sample 50 times of NetG at final radius, NetD is fixed\n",
    "from sklearn.neighbors import KNeighborsClassifier \n",
    "Acc_results_G_sample10 = []\n",
    "\n",
    "for _ in range(sample_num):\n",
    "    #acc at first\n",
    "    net_noise = get_noise(DATASET, device, LABEL)\n",
    "    fed_state_dict = get_netG(netD,netV,net_noise,r_list[10])\n",
    "    netG.load_state_dict(fed_state_dict)\n",
    "    \n",
    "    train_X, train_Z, train_X_bar, train_Z_bar, train_labels = extract_features2(trainloader, netG, netD)\n",
    "\n",
    "    test_X, test_Z, test_X_bar, test_Z_bar, test_labels = extract_features2(testloader, netG, netD)\n",
    "\n",
    "    print(\"----------------------------\")\n",
    "    print(\"Train_z, Test_z\")\n",
    "    nearsub(n_comp, train_Z, train_labels, test_Z, test_labels)\n",
    "\n",
    "    knn= KNeighborsClassifier(n_neighbors=10) \n",
    "\n",
    "    knn.fit(train_Z,train_labels) \n",
    "    knn.score(test_Z_bar,test_labels) \n",
    "\n",
    "    y_predict = knn.predict(test_Z_bar) \n",
    "\n",
    "    count =0\n",
    "    for k in range(10000):\n",
    "        if y_predict[k] == test_labels[k]:\n",
    "            count +=1\n",
    "    print('NetG_fixD, Acc at sample',_+1,count/10000)\n",
    "    Acc_results_G_sample10.append(count/10000)\n",
    "    \n",
    "print(max(Acc_results_G_sample10),min(Acc_results_G_sample10),np.mean(Acc_results_G_sample10),np.var(Acc_results_G_sample10))"
   ]
  },
  {
   "cell_type": "code",
   "execution_count": null,
   "id": "1f730cf2",
   "metadata": {},
   "outputs": [],
   "source": []
  }
 ],
 "metadata": {
  "kernelspec": {
   "display_name": "Python 3 (ipykernel)",
   "language": "python",
   "name": "python3"
  },
  "language_info": {
   "codemirror_mode": {
    "name": "ipython",
    "version": 3
   },
   "file_extension": ".py",
   "mimetype": "text/x-python",
   "name": "python",
   "nbconvert_exporter": "python",
   "pygments_lexer": "ipython3",
   "version": "3.7.16"
  }
 },
 "nbformat": 4,
 "nbformat_minor": 5
}
