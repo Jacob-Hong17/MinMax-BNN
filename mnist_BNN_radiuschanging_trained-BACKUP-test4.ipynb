{
 "cells": [
  {
   "cell_type": "code",
   "execution_count": 1,
   "id": "95b64f9b",
   "metadata": {},
   "outputs": [],
   "source": [
    "# all codes come are changed based on LDR code.\n",
    "# 用添加噪声的数据进行训练\n",
    "import argparse\n",
    "import torch.optim as optim\n",
    "import os\n",
    "import yaml\n",
    "from mcrgan.default import _C as config\n",
    "from mcrgan.default import update_config\n",
    "import torch\n",
    "from mcrgan.trainer import MCRTrainer\n",
    "from mcrgan.datasets import get_dataloader\n",
    "from mcrgan.models import get_models\n",
    "from mcrgan.models import get_BNN_models\n",
    "from mcrgan.models import get_noise\n",
    "from mcrgan.models import get_noise_uniform\n",
    "from mcrgan.models import DiscriminatorMNIST\n",
    "from mcrgan.models import weights_init_mnist_model_noise\n",
    "\n",
    "import numpy as np\n",
    "import torch\n",
    "import argparse\n",
    "from mcrgan.datasets import get_dataloader\n",
    "from mcrgan.models import get_models\n",
    "from mcrgan.default import _C as config\n",
    "from mcrgan.default import update_config\n",
    "from utils.utils import sort_dataset, compute_accuracy, extract_features\n",
    "from sklearn.decomposition import PCA\n",
    "from sklearn.decomposition import TruncatedSVD\n",
    "import torchvision.transforms as transforms\n",
    "import torchvision.datasets as datasets\n",
    "from tqdm import tqdm\n",
    "import os\n",
    "from mcrgan.loss import MCRGANloss\n",
    "import random\n",
    "random.seed(0)"
   ]
  },
  {
   "cell_type": "code",
   "execution_count": 2,
   "id": "806b2e2c",
   "metadata": {},
   "outputs": [],
   "source": [
    "# 导入mnist数据集，进行对比\n",
    "device = torch.device('cuda' if torch.cuda.is_available() else \"cpu\")\n",
    "DATASET = 'mnist'\n",
    "ROOT    = 'pth/to/the/dataset'\n",
    "BATCH_SIZE = 2048\n",
    "WORKERS = 8\n",
    "DATA_SAMPLE = 50000\n",
    "LABEL = 0\n",
    "\n",
    "dataloader, dataset = get_dataloader(\n",
    "        data_name=DATASET,\n",
    "        root=ROOT,\n",
    "        batch_size=BATCH_SIZE,\n",
    "        num_workers=WORKERS)"
   ]
  },
  {
   "cell_type": "code",
   "execution_count": 3,
   "id": "08feb6b9",
   "metadata": {},
   "outputs": [],
   "source": [
    "import collections\n",
    "\n",
    "def get_netG(netD,netV,net_noise,radius=1):\n",
    "    models = [netD, netV,net_noise]\n",
    "    worker_state_dict = [x.state_dict() for x in models]\n",
    "    weight_keys = list(worker_state_dict[0].keys())\n",
    "    fed_state_dict = collections.OrderedDict()\n",
    "    for key in weight_keys:\n",
    "        fed_state_dict[key] = worker_state_dict[0][key] + radius*worker_state_dict[2][key]*torch.log(1+torch.exp(worker_state_dict[1][key]))\n",
    "    return fed_state_dict\n",
    "\n",
    "# new netG already optimized by adam and time learning rate, so we only using netG to update netV\n",
    "def update_netV(netV,netG,net_noise,fed_state_dict,radius=1):\n",
    "    models =[netV,netG,net_noise]\n",
    "    worker_state_dict = [x.state_dict() for x in models]\n",
    "    weight_keys = list(worker_state_dict[0].keys())\n",
    "    update_dict = collections.OrderedDict()\n",
    "    for key in weight_keys:\n",
    "        update_dict[key] = worker_state_dict[0][key] - (worker_state_dict[1][key]-fed_state_dict[key])*(worker_state_dict[2][key]*radius)/torch.log(1+torch.exp(-worker_state_dict[0][key]))\n",
    "    return update_dict\n",
    "\n",
    "# generate different distribution via gaussian init and uniform\n",
    "def get_cauchy_noise(netD,net_noise1,net_noise2):\n",
    "    models =[netD,net_noise1, net_noise2]\n",
    "    worker_state_dict = [x.state_dict() for x in models]\n",
    "    weight_keys = list(worker_state_dict[0].keys())\n",
    "    update_dict = collections.OrderedDict()\n",
    "    for key in weight_keys:\n",
    "        update_dict[key] = worker_state_dict[1][key] / worker_state_dict[2][key]\n",
    "    return update_dict\n",
    "        "
   ]
  },
  {
   "cell_type": "code",
   "execution_count": 4,
   "id": "bd8022df",
   "metadata": {},
   "outputs": [],
   "source": [
    "#models\n",
    "# train hyperparameters, batch norm not used var\n",
    "#store_Var = []\n",
    "import time\n",
    "from torch_mimicry.training import scheduler, logger, metric_log\n",
    "\n",
    "from test_acc import nearsub\n",
    "import numpy as np\n",
    "import torch\n",
    "import argparse\n",
    "from mcrgan.datasets import get_dataloader\n",
    "from mcrgan.models import get_models\n",
    "from mcrgan.default import _C as config\n",
    "from mcrgan.default import update_config\n",
    "from utils.utils import sort_dataset, compute_accuracy, extract_features2\n",
    "from sklearn.decomposition import PCA\n",
    "from sklearn.decomposition import TruncatedSVD\n",
    "import torchvision.transforms as transforms\n",
    "import torchvision.datasets as datasets\n",
    "from tqdm import tqdm\n",
    "import os\n",
    "\n",
    "start_time = time.time()\n",
    "#global_step = 0\n",
    "epsilon_noise = 0.1\n",
    "num_steps = 1000\n",
    "n_dis = 1\n",
    "n_dis2 = 1\n",
    "numclasses =10\n",
    "lr1 = 1e-3\n",
    "lr2 = 1e-3\n",
    "log_data = metric_log.MetricLog()\n",
    "data_time = time.time()\n",
    "iter_dataloader = iter(dataloader)\n",
    "data, label = next(iter_dataloader)\n",
    "data_time = time.time() - data_time\n",
    "real_cpu = data.to(device)\n",
    "real_label = label.clone().detach()\n",
    "\n",
    "netD, netG, netV = get_BNN_models(DATASET, device, LABEL)\n",
    "net_noise = get_noise(DATASET, device, LABEL)\n",
    "fed_state_dict = get_netG(netD,netV,net_noise)\n",
    "netG.load_state_dict(fed_state_dict)\n",
    "optD = optim.Adam(netD.parameters(), lr1, betas=(0.5, 0.999))\n",
    "optG = optim.Adam(netG.parameters(), lr2, betas=(0.5, 0.999))\n",
    "\n",
    "Acc_results_D = []\n",
    "Acc_results_G = []\n",
    "\n",
    "\n",
    "transform = transforms.Compose(\n",
    "            [transforms.Resize(32),\n",
    "             transforms.ToTensor(),\n",
    "             transforms.Normalize(0.5, 0.5)])\n",
    "\n",
    "trainset = datasets.MNIST(root=ROOT, train=True, download=True, transform=transform)\n",
    "testset = datasets.MNIST(root=ROOT, train=False, download=True, transform=transform)\n",
    "\n",
    "testloader = torch.utils.data.DataLoader(\n",
    "        testset, batch_size=DATA_SAMPLE, shuffle=False, num_workers=WORKERS)\n",
    "\n",
    "trainloader = torch.utils.data.DataLoader(\n",
    "        trainset, batch_size=DATA_SAMPLE, shuffle=False, num_workers=WORKERS)\n",
    "device = torch.device('cuda' if torch.cuda.is_available() else \"cpu\")\n",
    "n_comp = 10\n"
   ]
  },
  {
   "cell_type": "code",
   "execution_count": 5,
   "id": "dd6bcdad",
   "metadata": {},
   "outputs": [],
   "source": [
    "# golden search algorithm to determined the radius of the sample ball, due to traditional updating netV is too slow\n",
    "# no meaning for n_dis =2 for our case, just to have output for every update\n",
    "# sample too much would arise cuda memory error\n",
    "def gs_radius(radius1,radius2,netD,real_cpu,real_label,tor=1e-3,n_dis=2,lam=0.618,mode=1,gam3=1):\n",
    "    mcr_gan_loss=MCRGANloss(gam1=1., gam2=1., gam3=gam3, eps=0.5, numclasses=numclasses, mode=mode, rho=None)\n",
    "    #optG = optim.Adam(netG.parameters(), lr2, betas=(0.5, 0.999))\n",
    "    \n",
    "    Z = netD(real_cpu)\n",
    "    net_noise = get_noise(DATASET, device, LABEL)\n",
    "    err1 = 0\n",
    "    err2 = 1000\n",
    "    while abs(err1 - err2)> tor or abs(radius1-radius2)>tor:\n",
    "        a1 = radius2 - lam*(radius2-radius1)\n",
    "        a2 = radius1 + lam*(radius2-radius1)\n",
    "        fed_state_dict = get_netG(netD,netV,net_noise,a1)\n",
    "        netG.load_state_dict(fed_state_dict)\n",
    "        Z_bar = netG(real_cpu)\n",
    "        errG1, errG_EC1 = mcr_gan_loss(Z, Z_bar, real_label, n_dis2 - 1, n_dis2)\n",
    "        err1 = errG1\n",
    "        \n",
    "        fed_state_dict = get_netG(netD,netV,net_noise,a2)\n",
    "        netG.load_state_dict(fed_state_dict)\n",
    "        Z_bar = netG(real_cpu)\n",
    "        errG2, errG_EC2 = mcr_gan_loss(Z, Z_bar, real_label, n_dis2 - 1, n_dis2)\n",
    "        err2 = errG2\n",
    "        \n",
    "        if err1 > err2:\n",
    "            radius1 = a1\n",
    "            a1 = a2\n",
    "            err1 = err2\n",
    "            a2 = radius1 + lam*(radius2-radius1)\n",
    "            fed_state_dict = get_netG(netD,netV,net_noise,a2)\n",
    "            netG.load_state_dict(fed_state_dict)\n",
    "            Z_bar = netG(real_cpu)\n",
    "            errG2, errG_EC2 = mcr_gan_loss(Z, Z_bar, real_label, n_dis2 - 1, n_dis2)\n",
    "            err2 = errG2\n",
    "            #print('r1',radius1)\n",
    "            #print(errG2, errG_EC2)\n",
    "        else:\n",
    "            radius2 = a2\n",
    "            a2 = a1\n",
    "            a1 = radius2 - lam*(radius2-radius1)\n",
    "            fed_state_dict = get_netG(netD,netV,net_noise,a1)\n",
    "            netG.load_state_dict(fed_state_dict)\n",
    "            Z_bar = netG(real_cpu)\n",
    "            errG1, errG_EC1 = mcr_gan_loss(Z, Z_bar, real_label, n_dis2 - 1, n_dis2)\n",
    "            err1 = errG1\n",
    "            #print('r2',radius2)\n",
    "            #print(errG1, errG_EC1)\n",
    "         \n",
    "    return radius1,radius2\n",
    "\n",
    "\n",
    "def gs_radius2(radius1,radius2, netD,real_cpu,real_label,tor=1e-3,n_dis=2,lam=0.618,mode=1,gam3=1):\n",
    "    mcr_gan_loss=MCRGANloss(gam1=1., gam2=1., gam3=gam3, eps=0.5, numclasses=numclasses, mode=mode, rho=None)\n",
    "    #optG = optim.Adam(netG.parameters(), lr2, betas=(0.5, 0.999))\n",
    "    \n",
    "    Z = netD(real_cpu)\n",
    "    net_noise = get_noise(DATASET, device, LABEL)\n",
    "    net_noise1 = get_noise(DATASET, device, LABEL)\n",
    "    net_noise_cauchy = get_cauchy_noise(netD,net_noise,net_noise1)\n",
    "    net_noise.load_state_dict(net_noise_cauchy)\n",
    "    #net_noise = get_noise(DATASET, device, LABEL)\n",
    "    err1 = 0\n",
    "    err2 = 1000\n",
    "    while abs(err1 - err2)> tor or abs(radius1-radius2)>tor:\n",
    "        a1 = radius2 - lam*(radius2-radius1)\n",
    "        a2 = radius1 + lam*(radius2-radius1)\n",
    "        fed_state_dict = get_netG(netD,netV,net_noise,a1)\n",
    "        netG.load_state_dict(fed_state_dict)\n",
    "        Z_bar = netG(real_cpu)\n",
    "        errG1, errG_EC1 = mcr_gan_loss(Z, Z_bar, real_label, n_dis2 - 1, n_dis2)\n",
    "        err1 = errG1\n",
    "        \n",
    "        fed_state_dict = get_netG(netD,netV,net_noise,a2)\n",
    "        netG.load_state_dict(fed_state_dict)\n",
    "        Z_bar = netG(real_cpu)\n",
    "        errG2, errG_EC2 = mcr_gan_loss(Z, Z_bar, real_label, n_dis2 - 1, n_dis2)\n",
    "        err2 = errG2\n",
    "        \n",
    "        if err1 > err2:\n",
    "            radius1 = a1\n",
    "            a1 = a2\n",
    "            err1 = err2\n",
    "            a2 = radius1 + lam*(radius2-radius1)\n",
    "            fed_state_dict = get_netG(netD,netV,net_noise,a2)\n",
    "            netG.load_state_dict(fed_state_dict)\n",
    "            Z_bar = netG(real_cpu)\n",
    "            errG2, errG_EC2 = mcr_gan_loss(Z, Z_bar, real_label, n_dis2 - 1, n_dis2)\n",
    "            err2 = errG2\n",
    "            #print('r1',radius1)\n",
    "            #print(errG2, errG_EC2)\n",
    "        else:\n",
    "            radius2 = a2\n",
    "            a2 = a1\n",
    "            a1 = radius2 - lam*(radius2-radius1)\n",
    "            fed_state_dict = get_netG(netD,netV,net_noise,a1)\n",
    "            netG.load_state_dict(fed_state_dict)\n",
    "            Z_bar = netG(real_cpu)\n",
    "            errG1, errG_EC1 = mcr_gan_loss(Z, Z_bar, real_label, n_dis2 - 1, n_dis2)\n",
    "            err1 = errG1\n",
    "            #print('r2',radius2)\n",
    "            #print(errG1, errG_EC1)\n",
    "         \n",
    "    return radius1,radius2\n",
    "\n",
    "def gs_radius3(radius1,radius2, netD,real_cpu,real_label,tor=1e-3,n_dis=2,lam=0.618,mode=1,gam3=1):\n",
    "    mcr_gan_loss=MCRGANloss(gam1=1., gam2=1., gam3=gam3, eps=0.5, numclasses=numclasses, mode=mode, rho=None)\n",
    "    #optG = optim.Adam(netG.parameters(), lr2, betas=(0.5, 0.999))\n",
    "    \n",
    "    Z = netD(real_cpu)\n",
    "    net_noise = get_noise_uniform(DATASET, device, LABEL)\n",
    "\n",
    "    #net_noise = get_noise(DATASET, device, LABEL)\n",
    "    err1 = 0\n",
    "    err2 = 1000\n",
    "    while abs(err1 - err2)> tor or abs(radius1-radius2)>tor:\n",
    "        a1 = radius2 - lam*(radius2-radius1)\n",
    "        a2 = radius1 + lam*(radius2-radius1)\n",
    "        fed_state_dict = get_netG(netD,netV,net_noise,a1)\n",
    "        netG.load_state_dict(fed_state_dict)\n",
    "        Z_bar = netG(real_cpu)\n",
    "        errG1, errG_EC1 = mcr_gan_loss(Z, Z_bar, real_label, n_dis2 - 1, n_dis2)\n",
    "        err1 = errG1\n",
    "        \n",
    "        fed_state_dict = get_netG(netD,netV,net_noise,a2)\n",
    "        netG.load_state_dict(fed_state_dict)\n",
    "        Z_bar = netG(real_cpu)\n",
    "        errG2, errG_EC2 = mcr_gan_loss(Z, Z_bar, real_label, n_dis2 - 1, n_dis2)\n",
    "        err2 = errG2\n",
    "        \n",
    "        if err1 > err2:\n",
    "            radius1 = a1\n",
    "            a1 = a2\n",
    "            err1 = err2\n",
    "            a2 = radius1 + lam*(radius2-radius1)\n",
    "            fed_state_dict = get_netG(netD,netV,net_noise,a2)\n",
    "            netG.load_state_dict(fed_state_dict)\n",
    "            Z_bar = netG(real_cpu)\n",
    "            errG2, errG_EC2 = mcr_gan_loss(Z, Z_bar, real_label, n_dis2 - 1, n_dis2)\n",
    "            err2 = errG2\n",
    "            #print('r1',radius1)\n",
    "            #print(errG2, errG_EC2)\n",
    "        else:\n",
    "            radius2 = a2\n",
    "            a2 = a1\n",
    "            a1 = radius2 - lam*(radius2-radius1)\n",
    "            fed_state_dict = get_netG(netD,netV,net_noise,a1)\n",
    "            netG.load_state_dict(fed_state_dict)\n",
    "            Z_bar = netG(real_cpu)\n",
    "            errG1, errG_EC1 = mcr_gan_loss(Z, Z_bar, real_label, n_dis2 - 1, n_dis2)\n",
    "            err1 = errG1\n",
    "            #print('r2',radius2)\n",
    "            #print(errG1, errG_EC1)\n",
    "         \n",
    "    return radius1,radius2"
   ]
  },
  {
   "cell_type": "code",
   "execution_count": 6,
   "id": "e0d6cae2",
   "metadata": {},
   "outputs": [
    {
     "name": "stdout",
     "output_type": "stream",
     "text": [
      "4.082952496712157\n",
      "tensor(-50.8248, device='cuda:0', grad_fn=<NegBackward0>) [tensor(-5.6488, device='cuda:0', grad_fn=<NegBackward0>), tensor(-4.4272, device='cuda:0', grad_fn=<NegBackward0>), tensor(-40.7488, device='cuda:0', grad_fn=<AddBackward0>)]\n",
      "7.0778034528674\n",
      "tensor(-41.6678, device='cuda:0', grad_fn=<NegBackward0>) [tensor(-2.8171, device='cuda:0', grad_fn=<NegBackward0>), tensor(-4.3466, device='cuda:0', grad_fn=<NegBackward0>), tensor(-34.5042, device='cuda:0', grad_fn=<AddBackward0>)]\n",
      "9.031365670307848\n",
      "tensor(-43.8813, device='cuda:0', grad_fn=<NegBackward0>) [tensor(-2.8171, device='cuda:0', grad_fn=<NegBackward0>), tensor(-4.7955, device='cuda:0', grad_fn=<NegBackward0>), tensor(-36.2687, device='cuda:0', grad_fn=<AddBackward0>)]\n",
      "4.887804185854826\n",
      "tensor(-65.5748, device='cuda:0', grad_fn=<NegBackward0>) [tensor(-7.8978, device='cuda:0', grad_fn=<NegBackward0>), tensor(-5.1223, device='cuda:0', grad_fn=<NegBackward0>), tensor(-52.5547, device='cuda:0', grad_fn=<AddBackward0>)]\n",
      "23.146923633172246\n",
      "tensor(-66.0834, device='cuda:0', grad_fn=<NegBackward0>) [tensor(-7.8978, device='cuda:0', grad_fn=<NegBackward0>), tensor(-5.0933, device='cuda:0', grad_fn=<NegBackward0>), tensor(-53.0923, device='cuda:0', grad_fn=<AddBackward0>)]\n",
      "8.338121295595247\n",
      "tensor(-54.4933, device='cuda:0', grad_fn=<NegBackward0>) [tensor(-5.1837, device='cuda:0', grad_fn=<NegBackward0>), tensor(-5.1516, device='cuda:0', grad_fn=<NegBackward0>), tensor(-44.1579, device='cuda:0', grad_fn=<AddBackward0>)]\n",
      "4.033539882544882\n",
      "tensor(-53.1882, device='cuda:0', grad_fn=<NegBackward0>) [tensor(-5.1837, device='cuda:0', grad_fn=<NegBackward0>), tensor(-5.1870, device='cuda:0', grad_fn=<NegBackward0>), tensor(-42.8174, device='cuda:0', grad_fn=<AddBackward0>)]\n",
      "4.286734928234952\n",
      "tensor(-68.6655, device='cuda:0', grad_fn=<NegBackward0>) [tensor(-8.2384, device='cuda:0', grad_fn=<NegBackward0>), tensor(-5.1685, device='cuda:0', grad_fn=<NegBackward0>), tensor(-55.2587, device='cuda:0', grad_fn=<AddBackward0>)]\n",
      "17.288930171190536\n",
      "tensor(-67.2200, device='cuda:0', grad_fn=<NegBackward0>) [tensor(-8.2384, device='cuda:0', grad_fn=<NegBackward0>), tensor(-4.1681, device='cuda:0', grad_fn=<NegBackward0>), tensor(-54.8135, device='cuda:0', grad_fn=<AddBackward0>)]\n",
      "4.292865523670321\n",
      "tensor(-79.4469, device='cuda:0', grad_fn=<NegBackward0>) [tensor(-9.5861, device='cuda:0', grad_fn=<NegBackward0>), tensor(-6.5050, device='cuda:0', grad_fn=<NegBackward0>), tensor(-63.3558, device='cuda:0', grad_fn=<AddBackward0>)]\n",
      "4.233200208073835\n",
      "tensor(-82.8797, device='cuda:0', grad_fn=<NegBackward0>) [tensor(-9.5861, device='cuda:0', grad_fn=<NegBackward0>), tensor(-7.7296, device='cuda:0', grad_fn=<NegBackward0>), tensor(-65.5640, device='cuda:0', grad_fn=<AddBackward0>)]\n",
      "4.23906262083155\n",
      "tensor(-79.6433, device='cuda:0', grad_fn=<NegBackward0>) [tensor(-10.2951, device='cuda:0', grad_fn=<NegBackward0>), tensor(-6.0005, device='cuda:0', grad_fn=<NegBackward0>), tensor(-63.3477, device='cuda:0', grad_fn=<AddBackward0>)]\n",
      "4.3374301348851905\n",
      "tensor(-84.8404, device='cuda:0', grad_fn=<NegBackward0>) [tensor(-10.2951, device='cuda:0', grad_fn=<NegBackward0>), tensor(-7.7052, device='cuda:0', grad_fn=<NegBackward0>), tensor(-66.8401, device='cuda:0', grad_fn=<AddBackward0>)]\n",
      "4.973885543930991\n",
      "tensor(-84.6353, device='cuda:0', grad_fn=<NegBackward0>) [tensor(-11.0471, device='cuda:0', grad_fn=<NegBackward0>), tensor(-6.5270, device='cuda:0', grad_fn=<NegBackward0>), tensor(-67.0611, device='cuda:0', grad_fn=<AddBackward0>)]\n",
      "4.572307156546224\n",
      "tensor(-87.1024, device='cuda:0', grad_fn=<NegBackward0>) [tensor(-11.0471, device='cuda:0', grad_fn=<NegBackward0>), tensor(-7.2950, device='cuda:0', grad_fn=<NegBackward0>), tensor(-68.7603, device='cuda:0', grad_fn=<AddBackward0>)]\n",
      "4.8576127188799685\n",
      "tensor(-86.3848, device='cuda:0', grad_fn=<NegBackward0>) [tensor(-11.6668, device='cuda:0', grad_fn=<NegBackward0>), tensor(-6.1243, device='cuda:0', grad_fn=<NegBackward0>), tensor(-68.5938, device='cuda:0', grad_fn=<AddBackward0>)]\n",
      "4.984115156243226\n",
      "tensor(-89.3648, device='cuda:0', grad_fn=<NegBackward0>) [tensor(-11.6668, device='cuda:0', grad_fn=<NegBackward0>), tensor(-7.2017, device='cuda:0', grad_fn=<NegBackward0>), tensor(-70.4963, device='cuda:0', grad_fn=<AddBackward0>)]\n",
      "4.853187211261954\n",
      "tensor(-86.5348, device='cuda:0', grad_fn=<NegBackward0>) [tensor(-12.1837, device='cuda:0', grad_fn=<NegBackward0>), tensor(-5.9487, device='cuda:0', grad_fn=<NegBackward0>), tensor(-68.4023, device='cuda:0', grad_fn=<AddBackward0>)]\n",
      "99.95064099587752\n",
      "tensor(-88.5175, device='cuda:0', grad_fn=<NegBackward0>) [tensor(-12.1837, device='cuda:0', grad_fn=<NegBackward0>), tensor(-5.8162, device='cuda:0', grad_fn=<NegBackward0>), tensor(-70.5176, device='cuda:0', grad_fn=<AddBackward0>)]\n",
      "4.36914699052067\n",
      "tensor(-92.5892, device='cuda:0', grad_fn=<NegBackward0>) [tensor(-12.7156, device='cuda:0', grad_fn=<NegBackward0>), tensor(-8.0625, device='cuda:0', grad_fn=<NegBackward0>), tensor(-71.8111, device='cuda:0', grad_fn=<AddBackward0>)]\n",
      "4.531724805362985\n",
      "tensor(-92.5814, device='cuda:0', grad_fn=<NegBackward0>) [tensor(-12.7156, device='cuda:0', grad_fn=<NegBackward0>), tensor(-7.2417, device='cuda:0', grad_fn=<NegBackward0>), tensor(-72.6241, device='cuda:0', grad_fn=<AddBackward0>)]\n",
      "4.6308991857418045\n",
      "tensor(-92.3942, device='cuda:0', grad_fn=<NegBackward0>) [tensor(-13.2482, device='cuda:0', grad_fn=<NegBackward0>), tensor(-7.1894, device='cuda:0', grad_fn=<NegBackward0>), tensor(-71.9567, device='cuda:0', grad_fn=<AddBackward0>)]\n",
      "4.427285309298026\n",
      "tensor(-95.2850, device='cuda:0', grad_fn=<NegBackward0>) [tensor(-13.2482, device='cuda:0', grad_fn=<NegBackward0>), tensor(-8.5383, device='cuda:0', grad_fn=<NegBackward0>), tensor(-73.4986, device='cuda:0', grad_fn=<AddBackward0>)]\n",
      "5.237413501717815\n",
      "tensor(-93.8838, device='cuda:0', grad_fn=<NegBackward0>) [tensor(-13.4253, device='cuda:0', grad_fn=<NegBackward0>), tensor(-7.0525, device='cuda:0', grad_fn=<NegBackward0>), tensor(-73.4060, device='cuda:0', grad_fn=<AddBackward0>)]\n",
      "4.484291585488522\n",
      "tensor(-93.7359, device='cuda:0', grad_fn=<NegBackward0>) [tensor(-13.4253, device='cuda:0', grad_fn=<NegBackward0>), tensor(-7.8568, device='cuda:0', grad_fn=<NegBackward0>), tensor(-72.4539, device='cuda:0', grad_fn=<AddBackward0>)]\n",
      "4.845786402950933\n",
      "tensor(-95.7633, device='cuda:0', grad_fn=<NegBackward0>) [tensor(-13.8453, device='cuda:0', grad_fn=<NegBackward0>), tensor(-7.7782, device='cuda:0', grad_fn=<NegBackward0>), tensor(-74.1397, device='cuda:0', grad_fn=<AddBackward0>)]\n",
      "99.85691287198556\n",
      "tensor(-93.4739, device='cuda:0', grad_fn=<NegBackward0>) [tensor(-13.8453, device='cuda:0', grad_fn=<NegBackward0>), tensor(-5.9084, device='cuda:0', grad_fn=<NegBackward0>), tensor(-73.7202, device='cuda:0', grad_fn=<AddBackward0>)]\n",
      "4.524535548969006\n",
      "tensor(-91.2264, device='cuda:0', grad_fn=<NegBackward0>) [tensor(-14.1771, device='cuda:0', grad_fn=<NegBackward0>), tensor(-5.6647, device='cuda:0', grad_fn=<NegBackward0>), tensor(-71.3846, device='cuda:0', grad_fn=<AddBackward0>)]\n",
      "5.123794771175744\n",
      "tensor(-93.9135, device='cuda:0', grad_fn=<NegBackward0>) [tensor(-14.1771, device='cuda:0', grad_fn=<NegBackward0>), tensor(-6.9032, device='cuda:0', grad_fn=<NegBackward0>), tensor(-72.8333, device='cuda:0', grad_fn=<AddBackward0>)]\n",
      "4.4827548427387285\n",
      "tensor(-95.5531, device='cuda:0', grad_fn=<NegBackward0>) [tensor(-14.4832, device='cuda:0', grad_fn=<NegBackward0>), tensor(-7.2669, device='cuda:0', grad_fn=<NegBackward0>), tensor(-73.8030, device='cuda:0', grad_fn=<AddBackward0>)]\n",
      "4.52453018889251\n",
      "tensor(-95.5575, device='cuda:0', grad_fn=<NegBackward0>) [tensor(-14.4832, device='cuda:0', grad_fn=<NegBackward0>), tensor(-7.6726, device='cuda:0', grad_fn=<NegBackward0>), tensor(-73.4017, device='cuda:0', grad_fn=<AddBackward0>)]\n",
      "5.313822067805895\n",
      "tensor(-94.7161, device='cuda:0', grad_fn=<NegBackward0>) [tensor(-14.7879, device='cuda:0', grad_fn=<NegBackward0>), tensor(-6.6712, device='cuda:0', grad_fn=<NegBackward0>), tensor(-73.2570, device='cuda:0', grad_fn=<AddBackward0>)]\n",
      "5.378551456540364\n",
      "tensor(-95.8584, device='cuda:0', grad_fn=<NegBackward0>) [tensor(-14.7879, device='cuda:0', grad_fn=<NegBackward0>), tensor(-6.8227, device='cuda:0', grad_fn=<NegBackward0>), tensor(-74.2478, device='cuda:0', grad_fn=<AddBackward0>)]\n"
     ]
    },
    {
     "name": "stdout",
     "output_type": "stream",
     "text": [
      "5.220705839708297\n",
      "tensor(-97.2889, device='cuda:0', grad_fn=<NegBackward0>) [tensor(-15.1396, device='cuda:0', grad_fn=<NegBackward0>), tensor(-7.1281, device='cuda:0', grad_fn=<NegBackward0>), tensor(-75.0212, device='cuda:0', grad_fn=<AddBackward0>)]\n",
      "5.062379341737056\n",
      "tensor(-99.5331, device='cuda:0', grad_fn=<NegBackward0>) [tensor(-15.1396, device='cuda:0', grad_fn=<NegBackward0>), tensor(-8.0799, device='cuda:0', grad_fn=<NegBackward0>), tensor(-76.3136, device='cuda:0', grad_fn=<AddBackward0>)]\n",
      "4.8574281368192915\n",
      "tensor(-100.7774, device='cuda:0', grad_fn=<NegBackward0>) [tensor(-15.5901, device='cuda:0', grad_fn=<NegBackward0>), tensor(-8.2865, device='cuda:0', grad_fn=<NegBackward0>), tensor(-76.9008, device='cuda:0', grad_fn=<AddBackward0>)]\n",
      "4.7881027738110875\n",
      "tensor(-98.0188, device='cuda:0', grad_fn=<NegBackward0>) [tensor(-15.5901, device='cuda:0', grad_fn=<NegBackward0>), tensor(-7.5412, device='cuda:0', grad_fn=<NegBackward0>), tensor(-74.8875, device='cuda:0', grad_fn=<AddBackward0>)]\n",
      "4.995574707544125\n",
      "tensor(-99.5363, device='cuda:0', grad_fn=<NegBackward0>) [tensor(-15.8643, device='cuda:0', grad_fn=<NegBackward0>), tensor(-7.5107, device='cuda:0', grad_fn=<NegBackward0>), tensor(-76.1613, device='cuda:0', grad_fn=<AddBackward0>)]\n",
      "5.056131475554509\n",
      "tensor(-99.3042, device='cuda:0', grad_fn=<NegBackward0>) [tensor(-15.8643, device='cuda:0', grad_fn=<NegBackward0>), tensor(-7.5021, device='cuda:0', grad_fn=<NegBackward0>), tensor(-75.9378, device='cuda:0', grad_fn=<AddBackward0>)]\n",
      "5.089397529818009\n",
      "tensor(-98.3744, device='cuda:0', grad_fn=<NegBackward0>) [tensor(-16.2279, device='cuda:0', grad_fn=<NegBackward0>), tensor(-6.5161, device='cuda:0', grad_fn=<NegBackward0>), tensor(-75.6304, device='cuda:0', grad_fn=<AddBackward0>)]\n",
      "4.822704538050435\n",
      "tensor(-99.0251, device='cuda:0', grad_fn=<NegBackward0>) [tensor(-16.2279, device='cuda:0', grad_fn=<NegBackward0>), tensor(-7.0532, device='cuda:0', grad_fn=<NegBackward0>), tensor(-75.7441, device='cuda:0', grad_fn=<AddBackward0>)]\n",
      "4.816679455980423\n",
      "tensor(-99.0885, device='cuda:0', grad_fn=<NegBackward0>) [tensor(-16.5121, device='cuda:0', grad_fn=<NegBackward0>), tensor(-6.8584, device='cuda:0', grad_fn=<NegBackward0>), tensor(-75.7180, device='cuda:0', grad_fn=<AddBackward0>)]\n",
      "5.007373139481357\n",
      "tensor(-101.7370, device='cuda:0', grad_fn=<NegBackward0>) [tensor(-16.5121, device='cuda:0', grad_fn=<NegBackward0>), tensor(-8.3158, device='cuda:0', grad_fn=<NegBackward0>), tensor(-76.9090, device='cuda:0', grad_fn=<AddBackward0>)]\n",
      "4.626756860837168\n",
      "tensor(-100.1980, device='cuda:0', grad_fn=<NegBackward0>) [tensor(-16.7966, device='cuda:0', grad_fn=<NegBackward0>), tensor(-7.7256, device='cuda:0', grad_fn=<NegBackward0>), tensor(-75.6759, device='cuda:0', grad_fn=<AddBackward0>)]\n",
      "4.959580150856138\n",
      "tensor(-102.1052, device='cuda:0', grad_fn=<NegBackward0>) [tensor(-16.7966, device='cuda:0', grad_fn=<NegBackward0>), tensor(-7.4456, device='cuda:0', grad_fn=<NegBackward0>), tensor(-77.8630, device='cuda:0', grad_fn=<AddBackward0>)]\n",
      "5.161209879212568\n",
      "tensor(-100.7628, device='cuda:0', grad_fn=<NegBackward0>) [tensor(-17.0008, device='cuda:0', grad_fn=<NegBackward0>), tensor(-7.0124, device='cuda:0', grad_fn=<NegBackward0>), tensor(-76.7495, device='cuda:0', grad_fn=<AddBackward0>)]\n",
      "4.767680764448015\n",
      "tensor(-104.2618, device='cuda:0', grad_fn=<NegBackward0>) [tensor(-17.0008, device='cuda:0', grad_fn=<NegBackward0>), tensor(-8.7398, device='cuda:0', grad_fn=<NegBackward0>), tensor(-78.5211, device='cuda:0', grad_fn=<AddBackward0>)]\n",
      "5.83636292827869\n",
      "tensor(-99.5984, device='cuda:0', grad_fn=<NegBackward0>) [tensor(-17.2562, device='cuda:0', grad_fn=<NegBackward0>), tensor(-6.1014, device='cuda:0', grad_fn=<NegBackward0>), tensor(-76.2409, device='cuda:0', grad_fn=<AddBackward0>)]\n",
      "4.618543860459796\n",
      "tensor(-103.1006, device='cuda:0', grad_fn=<NegBackward0>) [tensor(-17.2562, device='cuda:0', grad_fn=<NegBackward0>), tensor(-8.3329, device='cuda:0', grad_fn=<NegBackward0>), tensor(-77.5116, device='cuda:0', grad_fn=<AddBackward0>)]\n",
      "4.978331015544276\n",
      "tensor(-100.0480, device='cuda:0', grad_fn=<NegBackward0>) [tensor(-17.4763, device='cuda:0', grad_fn=<NegBackward0>), tensor(-6.7222, device='cuda:0', grad_fn=<NegBackward0>), tensor(-75.8495, device='cuda:0', grad_fn=<AddBackward0>)]\n",
      "4.879618599294886\n",
      "tensor(-98.9501, device='cuda:0', grad_fn=<NegBackward0>) [tensor(-17.4763, device='cuda:0', grad_fn=<NegBackward0>), tensor(-6.0438, device='cuda:0', grad_fn=<NegBackward0>), tensor(-75.4300, device='cuda:0', grad_fn=<AddBackward0>)]\n",
      "4.212409657768635\n",
      "tensor(-103.5363, device='cuda:0', grad_fn=<NegBackward0>) [tensor(-17.6529, device='cuda:0', grad_fn=<NegBackward0>), tensor(-8.7620, device='cuda:0', grad_fn=<NegBackward0>), tensor(-77.1214, device='cuda:0', grad_fn=<AddBackward0>)]\n",
      "5.431446577534533\n",
      "tensor(-102.7595, device='cuda:0', grad_fn=<NegBackward0>) [tensor(-17.6529, device='cuda:0', grad_fn=<NegBackward0>), tensor(-7.1132, device='cuda:0', grad_fn=<NegBackward0>), tensor(-77.9935, device='cuda:0', grad_fn=<AddBackward0>)]\n",
      "4.8106658675858425\n",
      "tensor(-105.8232, device='cuda:0', grad_fn=<NegBackward0>) [tensor(-17.9587, device='cuda:0', grad_fn=<NegBackward0>), tensor(-8.6518, device='cuda:0', grad_fn=<NegBackward0>), tensor(-79.2127, device='cuda:0', grad_fn=<AddBackward0>)]\n",
      "4.937219886038279\n",
      "tensor(-102.6966, device='cuda:0', grad_fn=<NegBackward0>) [tensor(-17.9587, device='cuda:0', grad_fn=<NegBackward0>), tensor(-7.2956, device='cuda:0', grad_fn=<NegBackward0>), tensor(-77.4423, device='cuda:0', grad_fn=<AddBackward0>)]\n",
      "4.8607886056656\n",
      "tensor(-101.0350, device='cuda:0', grad_fn=<NegBackward0>) [tensor(-18.1974, device='cuda:0', grad_fn=<NegBackward0>), tensor(-6.7684, device='cuda:0', grad_fn=<NegBackward0>), tensor(-76.0692, device='cuda:0', grad_fn=<AddBackward0>)]\n",
      "5.159459171160034\n",
      "tensor(-101.5023, device='cuda:0', grad_fn=<NegBackward0>) [tensor(-18.1974, device='cuda:0', grad_fn=<NegBackward0>), tensor(-6.6039, device='cuda:0', grad_fn=<NegBackward0>), tensor(-76.7010, device='cuda:0', grad_fn=<AddBackward0>)]\n",
      "4.909189387557943\n",
      "tensor(-102.5396, device='cuda:0', grad_fn=<NegBackward0>) [tensor(-18.4086, device='cuda:0', grad_fn=<NegBackward0>), tensor(-6.8825, device='cuda:0', grad_fn=<NegBackward0>), tensor(-77.2485, device='cuda:0', grad_fn=<AddBackward0>)]\n",
      "4.81417621489301\n",
      "tensor(-104.4299, device='cuda:0', grad_fn=<NegBackward0>) [tensor(-18.4086, device='cuda:0', grad_fn=<NegBackward0>), tensor(-7.9470, device='cuda:0', grad_fn=<NegBackward0>), tensor(-78.0744, device='cuda:0', grad_fn=<AddBackward0>)]\n",
      "5.282100670166618\n",
      "tensor(-103.6091, device='cuda:0', grad_fn=<NegBackward0>) [tensor(-18.6676, device='cuda:0', grad_fn=<NegBackward0>), tensor(-7.2271, device='cuda:0', grad_fn=<NegBackward0>), tensor(-77.7144, device='cuda:0', grad_fn=<AddBackward0>)]\n",
      "5.180420582024531\n",
      "tensor(-105.6078, device='cuda:0', grad_fn=<NegBackward0>) [tensor(-18.6676, device='cuda:0', grad_fn=<NegBackward0>), tensor(-7.9066, device='cuda:0', grad_fn=<NegBackward0>), tensor(-79.0336, device='cuda:0', grad_fn=<AddBackward0>)]\n",
      "4.903173964665731\n",
      "tensor(-104.3699, device='cuda:0', grad_fn=<NegBackward0>) [tensor(-18.8072, device='cuda:0', grad_fn=<NegBackward0>), tensor(-7.4300, device='cuda:0', grad_fn=<NegBackward0>), tensor(-78.1327, device='cuda:0', grad_fn=<AddBackward0>)]\n",
      "4.590603048929246\n",
      "tensor(-106.2942, device='cuda:0', grad_fn=<NegBackward0>) [tensor(-18.8072, device='cuda:0', grad_fn=<NegBackward0>), tensor(-9.1077, device='cuda:0', grad_fn=<NegBackward0>), tensor(-78.3793, device='cuda:0', grad_fn=<AddBackward0>)]\n",
      "5.218551543093027\n",
      "tensor(-103.6908, device='cuda:0', grad_fn=<NegBackward0>) [tensor(-19.0773, device='cuda:0', grad_fn=<NegBackward0>), tensor(-6.9146, device='cuda:0', grad_fn=<NegBackward0>), tensor(-77.6989, device='cuda:0', grad_fn=<AddBackward0>)]\n",
      "5.103595957608419\n",
      "tensor(-103.0763, device='cuda:0', grad_fn=<NegBackward0>) [tensor(-19.0773, device='cuda:0', grad_fn=<NegBackward0>), tensor(-6.5560, device='cuda:0', grad_fn=<NegBackward0>), tensor(-77.4430, device='cuda:0', grad_fn=<AddBackward0>)]\n",
      "4.919749401804173\n",
      "tensor(-103.9108, device='cuda:0', grad_fn=<NegBackward0>) [tensor(-19.2894, device='cuda:0', grad_fn=<NegBackward0>), tensor(-7.1213, device='cuda:0', grad_fn=<NegBackward0>), tensor(-77.5001, device='cuda:0', grad_fn=<AddBackward0>)]\n"
     ]
    },
    {
     "name": "stdout",
     "output_type": "stream",
     "text": [
      "5.185607390610618\n",
      "tensor(-106.8402, device='cuda:0', grad_fn=<NegBackward0>) [tensor(-19.2894, device='cuda:0', grad_fn=<NegBackward0>), tensor(-7.7985, device='cuda:0', grad_fn=<NegBackward0>), tensor(-79.7523, device='cuda:0', grad_fn=<AddBackward0>)]\n",
      "5.110430342931427\n",
      "tensor(-106.6574, device='cuda:0', grad_fn=<NegBackward0>) [tensor(-19.5465, device='cuda:0', grad_fn=<NegBackward0>), tensor(-7.8266, device='cuda:0', grad_fn=<NegBackward0>), tensor(-79.2843, device='cuda:0', grad_fn=<AddBackward0>)]\n",
      "4.852991125400469\n",
      "tensor(-107.5190, device='cuda:0', grad_fn=<NegBackward0>) [tensor(-19.5465, device='cuda:0', grad_fn=<NegBackward0>), tensor(-8.7333, device='cuda:0', grad_fn=<NegBackward0>), tensor(-79.2393, device='cuda:0', grad_fn=<AddBackward0>)]\n",
      "4.651029291817718\n",
      "tensor(-106.0463, device='cuda:0', grad_fn=<NegBackward0>) [tensor(-19.7486, device='cuda:0', grad_fn=<NegBackward0>), tensor(-7.8104, device='cuda:0', grad_fn=<NegBackward0>), tensor(-78.4873, device='cuda:0', grad_fn=<AddBackward0>)]\n",
      "5.055780196929711\n",
      "tensor(-107.9502, device='cuda:0', grad_fn=<NegBackward0>) [tensor(-19.7486, device='cuda:0', grad_fn=<NegBackward0>), tensor(-8.4069, device='cuda:0', grad_fn=<NegBackward0>), tensor(-79.7947, device='cuda:0', grad_fn=<AddBackward0>)]\n",
      "4.606942298336078\n",
      "tensor(-104.6685, device='cuda:0', grad_fn=<NegBackward0>) [tensor(-19.9086, device='cuda:0', grad_fn=<NegBackward0>), tensor(-7.3858, device='cuda:0', grad_fn=<NegBackward0>), tensor(-77.3741, device='cuda:0', grad_fn=<AddBackward0>)]\n",
      "4.905331397735697\n",
      "tensor(-106.4297, device='cuda:0', grad_fn=<NegBackward0>) [tensor(-19.9086, device='cuda:0', grad_fn=<NegBackward0>), tensor(-8.1710, device='cuda:0', grad_fn=<NegBackward0>), tensor(-78.3501, device='cuda:0', grad_fn=<AddBackward0>)]\n",
      "4.5571694101636915\n",
      "tensor(-105.5328, device='cuda:0', grad_fn=<NegBackward0>) [tensor(-20.1142, device='cuda:0', grad_fn=<NegBackward0>), tensor(-7.7261, device='cuda:0', grad_fn=<NegBackward0>), tensor(-77.6925, device='cuda:0', grad_fn=<AddBackward0>)]\n",
      "4.339219723994394\n",
      "tensor(-104.6088, device='cuda:0', grad_fn=<NegBackward0>) [tensor(-20.1142, device='cuda:0', grad_fn=<NegBackward0>), tensor(-7.6378, device='cuda:0', grad_fn=<NegBackward0>), tensor(-76.8567, device='cuda:0', grad_fn=<AddBackward0>)]\n",
      "5.096894849380438\n",
      "tensor(-109.4501, device='cuda:0', grad_fn=<NegBackward0>) [tensor(-20.1452, device='cuda:0', grad_fn=<NegBackward0>), tensor(-9.0048, device='cuda:0', grad_fn=<NegBackward0>), tensor(-80.3002, device='cuda:0', grad_fn=<AddBackward0>)]\n",
      "4.658852128285795\n",
      "tensor(-109.5868, device='cuda:0', grad_fn=<NegBackward0>) [tensor(-20.1452, device='cuda:0', grad_fn=<NegBackward0>), tensor(-8.9798, device='cuda:0', grad_fn=<NegBackward0>), tensor(-80.4618, device='cuda:0', grad_fn=<AddBackward0>)]\n",
      "5.206303337869774\n",
      "tensor(-107.9224, device='cuda:0', grad_fn=<NegBackward0>) [tensor(-20.2058, device='cuda:0', grad_fn=<NegBackward0>), tensor(-8.1995, device='cuda:0', grad_fn=<NegBackward0>), tensor(-79.5171, device='cuda:0', grad_fn=<AddBackward0>)]\n",
      "4.70821957713613\n",
      "tensor(-103.2143, device='cuda:0', grad_fn=<NegBackward0>) [tensor(-20.2058, device='cuda:0', grad_fn=<NegBackward0>), tensor(-6.8437, device='cuda:0', grad_fn=<NegBackward0>), tensor(-76.1648, device='cuda:0', grad_fn=<AddBackward0>)]\n",
      "4.826195848417016\n",
      "tensor(-109.3225, device='cuda:0', grad_fn=<NegBackward0>) [tensor(-20.3983, device='cuda:0', grad_fn=<NegBackward0>), tensor(-9.5319, device='cuda:0', grad_fn=<NegBackward0>), tensor(-79.3923, device='cuda:0', grad_fn=<AddBackward0>)]\n",
      "4.682301305784804\n",
      "tensor(-106.7309, device='cuda:0', grad_fn=<NegBackward0>) [tensor(-20.3983, device='cuda:0', grad_fn=<NegBackward0>), tensor(-7.5257, device='cuda:0', grad_fn=<NegBackward0>), tensor(-78.8069, device='cuda:0', grad_fn=<AddBackward0>)]\n",
      "4.800570132101315\n",
      "tensor(-108.1202, device='cuda:0', grad_fn=<NegBackward0>) [tensor(-20.6400, device='cuda:0', grad_fn=<NegBackward0>), tensor(-7.9926, device='cuda:0', grad_fn=<NegBackward0>), tensor(-79.4876, device='cuda:0', grad_fn=<AddBackward0>)]\n",
      "4.8592267043169555\n",
      "tensor(-107.2077, device='cuda:0', grad_fn=<NegBackward0>) [tensor(-20.6400, device='cuda:0', grad_fn=<NegBackward0>), tensor(-8.1651, device='cuda:0', grad_fn=<NegBackward0>), tensor(-78.4027, device='cuda:0', grad_fn=<AddBackward0>)]\n",
      "4.654289581068217\n",
      "tensor(-108.2798, device='cuda:0', grad_fn=<NegBackward0>) [tensor(-21.0579, device='cuda:0', grad_fn=<NegBackward0>), tensor(-8.3344, device='cuda:0', grad_fn=<NegBackward0>), tensor(-78.8875, device='cuda:0', grad_fn=<AddBackward0>)]\n",
      "4.941529760137402\n",
      "tensor(-106.8254, device='cuda:0', grad_fn=<NegBackward0>) [tensor(-21.0579, device='cuda:0', grad_fn=<NegBackward0>), tensor(-7.2207, device='cuda:0', grad_fn=<NegBackward0>), tensor(-78.5468, device='cuda:0', grad_fn=<AddBackward0>)]\n",
      "5.374521873233894\n",
      "tensor(-108.6128, device='cuda:0', grad_fn=<NegBackward0>) [tensor(-21.3376, device='cuda:0', grad_fn=<NegBackward0>), tensor(-7.6126, device='cuda:0', grad_fn=<NegBackward0>), tensor(-79.6626, device='cuda:0', grad_fn=<AddBackward0>)]\n",
      "5.834961299859067\n",
      "tensor(-108.3071, device='cuda:0', grad_fn=<NegBackward0>) [tensor(-21.3376, device='cuda:0', grad_fn=<NegBackward0>), tensor(-7.3892, device='cuda:0', grad_fn=<NegBackward0>), tensor(-79.5804, device='cuda:0', grad_fn=<AddBackward0>)]\n",
      "4.746300934563436\n",
      "tensor(-108.8826, device='cuda:0', grad_fn=<NegBackward0>) [tensor(-21.4971, device='cuda:0', grad_fn=<NegBackward0>), tensor(-7.9699, device='cuda:0', grad_fn=<NegBackward0>), tensor(-79.4156, device='cuda:0', grad_fn=<AddBackward0>)]\n",
      "4.718137305632066\n",
      "tensor(-109.5565, device='cuda:0', grad_fn=<NegBackward0>) [tensor(-21.4971, device='cuda:0', grad_fn=<NegBackward0>), tensor(-8.2744, device='cuda:0', grad_fn=<NegBackward0>), tensor(-79.7850, device='cuda:0', grad_fn=<AddBackward0>)]\n",
      "4.8796404451434325\n",
      "tensor(-108.3102, device='cuda:0', grad_fn=<NegBackward0>) [tensor(-21.7537, device='cuda:0', grad_fn=<NegBackward0>), tensor(-7.3396, device='cuda:0', grad_fn=<NegBackward0>), tensor(-79.2169, device='cuda:0', grad_fn=<AddBackward0>)]\n",
      "4.431371708410239\n",
      "tensor(-108.3612, device='cuda:0', grad_fn=<NegBackward0>) [tensor(-21.7537, device='cuda:0', grad_fn=<NegBackward0>), tensor(-8.2884, device='cuda:0', grad_fn=<NegBackward0>), tensor(-78.3191, device='cuda:0', grad_fn=<AddBackward0>)]\n",
      "4.578352491788303\n",
      "tensor(-112.3718, device='cuda:0', grad_fn=<NegBackward0>) [tensor(-21.8590, device='cuda:0', grad_fn=<NegBackward0>), tensor(-9.8752, device='cuda:0', grad_fn=<NegBackward0>), tensor(-80.6377, device='cuda:0', grad_fn=<AddBackward0>)]\n",
      "4.963589937521765\n",
      "tensor(-109.1246, device='cuda:0', grad_fn=<NegBackward0>) [tensor(-21.8590, device='cuda:0', grad_fn=<NegBackward0>), tensor(-7.9219, device='cuda:0', grad_fn=<NegBackward0>), tensor(-79.3437, device='cuda:0', grad_fn=<AddBackward0>)]\n",
      "5.521886410398341\n",
      "tensor(-107.6374, device='cuda:0', grad_fn=<NegBackward0>) [tensor(-22.0088, device='cuda:0', grad_fn=<NegBackward0>), tensor(-6.8180, device='cuda:0', grad_fn=<NegBackward0>), tensor(-78.8106, device='cuda:0', grad_fn=<AddBackward0>)]\n",
      "4.7075660281437335\n",
      "tensor(-109.5836, device='cuda:0', grad_fn=<NegBackward0>) [tensor(-22.0088, device='cuda:0', grad_fn=<NegBackward0>), tensor(-7.7519, device='cuda:0', grad_fn=<NegBackward0>), tensor(-79.8229, device='cuda:0', grad_fn=<AddBackward0>)]\n",
      "5.601912648779821\n",
      "tensor(-111.1325, device='cuda:0', grad_fn=<NegBackward0>) [tensor(-22.0896, device='cuda:0', grad_fn=<NegBackward0>), tensor(-7.9159, device='cuda:0', grad_fn=<NegBackward0>), tensor(-81.1271, device='cuda:0', grad_fn=<AddBackward0>)]\n",
      "4.810311924932698\n",
      "tensor(-107.4242, device='cuda:0', grad_fn=<NegBackward0>) [tensor(-22.0896, device='cuda:0', grad_fn=<NegBackward0>), tensor(-7.2264, device='cuda:0', grad_fn=<NegBackward0>), tensor(-78.1082, device='cuda:0', grad_fn=<AddBackward0>)]\n",
      "4.822251009488349\n",
      "tensor(-112.3577, device='cuda:0', grad_fn=<NegBackward0>) [tensor(-22.2880, device='cuda:0', grad_fn=<NegBackward0>), tensor(-9.1024, device='cuda:0', grad_fn=<NegBackward0>), tensor(-80.9673, device='cuda:0', grad_fn=<AddBackward0>)]\n",
      "4.842431531179316\n",
      "tensor(-112.6541, device='cuda:0', grad_fn=<NegBackward0>) [tensor(-22.2880, device='cuda:0', grad_fn=<NegBackward0>), tensor(-9.2538, device='cuda:0', grad_fn=<NegBackward0>), tensor(-81.1123, device='cuda:0', grad_fn=<AddBackward0>)]\n"
     ]
    },
    {
     "name": "stdout",
     "output_type": "stream",
     "text": [
      "4.545319081744706\n",
      "tensor(-110.0342, device='cuda:0', grad_fn=<NegBackward0>) [tensor(-22.4863, device='cuda:0', grad_fn=<NegBackward0>), tensor(-8.2610, device='cuda:0', grad_fn=<NegBackward0>), tensor(-79.2869, device='cuda:0', grad_fn=<AddBackward0>)]\n",
      "4.508770407181754\n",
      "tensor(-109.8535, device='cuda:0', grad_fn=<NegBackward0>) [tensor(-22.4863, device='cuda:0', grad_fn=<NegBackward0>), tensor(-8.1290, device='cuda:0', grad_fn=<NegBackward0>), tensor(-79.2382, device='cuda:0', grad_fn=<AddBackward0>)]\n",
      "4.9200640764483206\n",
      "tensor(-110.2032, device='cuda:0', grad_fn=<NegBackward0>) [tensor(-22.7050, device='cuda:0', grad_fn=<NegBackward0>), tensor(-7.7910, device='cuda:0', grad_fn=<NegBackward0>), tensor(-79.7072, device='cuda:0', grad_fn=<AddBackward0>)]\n",
      "4.46945360044138\n",
      "tensor(-110.8611, device='cuda:0', grad_fn=<NegBackward0>) [tensor(-22.7050, device='cuda:0', grad_fn=<NegBackward0>), tensor(-8.8076, device='cuda:0', grad_fn=<NegBackward0>), tensor(-79.3486, device='cuda:0', grad_fn=<AddBackward0>)]\n",
      "4.506648101116971\n",
      "tensor(-113.0966, device='cuda:0', grad_fn=<NegBackward0>) [tensor(-22.7481, device='cuda:0', grad_fn=<NegBackward0>), tensor(-10.1112, device='cuda:0', grad_fn=<NegBackward0>), tensor(-80.2373, device='cuda:0', grad_fn=<AddBackward0>)]\n",
      "4.843714529930231\n",
      "tensor(-111.7570, device='cuda:0', grad_fn=<NegBackward0>) [tensor(-22.7481, device='cuda:0', grad_fn=<NegBackward0>), tensor(-8.6332, device='cuda:0', grad_fn=<NegBackward0>), tensor(-80.3756, device='cuda:0', grad_fn=<AddBackward0>)]\n",
      "4.4992027264865015\n",
      "tensor(-110.7329, device='cuda:0', grad_fn=<NegBackward0>) [tensor(-22.9123, device='cuda:0', grad_fn=<NegBackward0>), tensor(-8.6556, device='cuda:0', grad_fn=<NegBackward0>), tensor(-79.1650, device='cuda:0', grad_fn=<AddBackward0>)]\n",
      "4.9222213556151555\n",
      "tensor(-110.7431, device='cuda:0', grad_fn=<NegBackward0>) [tensor(-22.9123, device='cuda:0', grad_fn=<NegBackward0>), tensor(-7.8530, device='cuda:0', grad_fn=<NegBackward0>), tensor(-79.9778, device='cuda:0', grad_fn=<AddBackward0>)]\n",
      "4.757586624047719\n",
      "tensor(-111.1284, device='cuda:0', grad_fn=<NegBackward0>) [tensor(-23.0549, device='cuda:0', grad_fn=<NegBackward0>), tensor(-7.9430, device='cuda:0', grad_fn=<NegBackward0>), tensor(-80.1305, device='cuda:0', grad_fn=<AddBackward0>)]\n",
      "4.495628859574651\n",
      "tensor(-111.4583, device='cuda:0', grad_fn=<NegBackward0>) [tensor(-23.0549, device='cuda:0', grad_fn=<NegBackward0>), tensor(-8.4888, device='cuda:0', grad_fn=<NegBackward0>), tensor(-79.9146, device='cuda:0', grad_fn=<AddBackward0>)]\n",
      "5.004039228543036\n",
      "tensor(-113.3392, device='cuda:0', grad_fn=<NegBackward0>) [tensor(-23.4533, device='cuda:0', grad_fn=<NegBackward0>), tensor(-8.6387, device='cuda:0', grad_fn=<NegBackward0>), tensor(-81.2472, device='cuda:0', grad_fn=<AddBackward0>)]\n",
      "4.552664926588385\n",
      "tensor(-112.1588, device='cuda:0', grad_fn=<NegBackward0>) [tensor(-23.4533, device='cuda:0', grad_fn=<NegBackward0>), tensor(-8.9135, device='cuda:0', grad_fn=<NegBackward0>), tensor(-79.7920, device='cuda:0', grad_fn=<AddBackward0>)]\n",
      "5.148975730413458\n",
      "tensor(-112.8960, device='cuda:0', grad_fn=<NegBackward0>) [tensor(-23.5689, device='cuda:0', grad_fn=<NegBackward0>), tensor(-8.3211, device='cuda:0', grad_fn=<NegBackward0>), tensor(-81.0060, device='cuda:0', grad_fn=<AddBackward0>)]\n",
      "4.531652277304409\n",
      "tensor(-112.6559, device='cuda:0', grad_fn=<NegBackward0>) [tensor(-23.5689, device='cuda:0', grad_fn=<NegBackward0>), tensor(-8.5005, device='cuda:0', grad_fn=<NegBackward0>), tensor(-80.5865, device='cuda:0', grad_fn=<AddBackward0>)]\n",
      "4.585553533364946\n",
      "tensor(-111.6254, device='cuda:0', grad_fn=<NegBackward0>) [tensor(-23.6856, device='cuda:0', grad_fn=<NegBackward0>), tensor(-8.1004, device='cuda:0', grad_fn=<NegBackward0>), tensor(-79.8394, device='cuda:0', grad_fn=<AddBackward0>)]\n",
      "4.9076282400761695\n",
      "tensor(-110.1338, device='cuda:0', grad_fn=<NegBackward0>) [tensor(-23.6856, device='cuda:0', grad_fn=<NegBackward0>), tensor(-7.3141, device='cuda:0', grad_fn=<NegBackward0>), tensor(-79.1341, device='cuda:0', grad_fn=<AddBackward0>)]\n",
      "4.611841532587181\n",
      "tensor(-111.5712, device='cuda:0', grad_fn=<NegBackward0>) [tensor(-23.6290, device='cuda:0', grad_fn=<NegBackward0>), tensor(-7.8929, device='cuda:0', grad_fn=<NegBackward0>), tensor(-80.0493, device='cuda:0', grad_fn=<AddBackward0>)]\n",
      "4.534607697309651\n",
      "tensor(-111.2397, device='cuda:0', grad_fn=<NegBackward0>) [tensor(-23.6290, device='cuda:0', grad_fn=<NegBackward0>), tensor(-8.2983, device='cuda:0', grad_fn=<NegBackward0>), tensor(-79.3124, device='cuda:0', grad_fn=<AddBackward0>)]\n",
      "4.809475908872644\n",
      "tensor(-109.2493, device='cuda:0', grad_fn=<NegBackward0>) [tensor(-23.7813, device='cuda:0', grad_fn=<NegBackward0>), tensor(-6.9083, device='cuda:0', grad_fn=<NegBackward0>), tensor(-78.5597, device='cuda:0', grad_fn=<AddBackward0>)]\n",
      "4.984197189616945\n",
      "tensor(-115.1855, device='cuda:0', grad_fn=<NegBackward0>) [tensor(-23.7813, device='cuda:0', grad_fn=<NegBackward0>), tensor(-9.2645, device='cuda:0', grad_fn=<NegBackward0>), tensor(-82.1397, device='cuda:0', grad_fn=<AddBackward0>)]\n",
      "4.555965942328102\n",
      "tensor(-111.6182, device='cuda:0', grad_fn=<NegBackward0>) [tensor(-23.8984, device='cuda:0', grad_fn=<NegBackward0>), tensor(-8.5047, device='cuda:0', grad_fn=<NegBackward0>), tensor(-79.2151, device='cuda:0', grad_fn=<AddBackward0>)]\n",
      "4.284060902971309\n",
      "tensor(-112.7813, device='cuda:0', grad_fn=<NegBackward0>) [tensor(-23.8984, device='cuda:0', grad_fn=<NegBackward0>), tensor(-9.4681, device='cuda:0', grad_fn=<NegBackward0>), tensor(-79.4149, device='cuda:0', grad_fn=<AddBackward0>)]\n",
      "4.334765621002873\n",
      "tensor(-111.9946, device='cuda:0', grad_fn=<NegBackward0>) [tensor(-24.1534, device='cuda:0', grad_fn=<NegBackward0>), tensor(-8.5906, device='cuda:0', grad_fn=<NegBackward0>), tensor(-79.2506, device='cuda:0', grad_fn=<AddBackward0>)]\n",
      "4.600326854945528\n",
      "tensor(-111.3086, device='cuda:0', grad_fn=<NegBackward0>) [tensor(-24.1534, device='cuda:0', grad_fn=<NegBackward0>), tensor(-7.7779, device='cuda:0', grad_fn=<NegBackward0>), tensor(-79.3773, device='cuda:0', grad_fn=<AddBackward0>)]\n",
      "4.331050043842858\n",
      "tensor(-115.1549, device='cuda:0', grad_fn=<NegBackward0>) [tensor(-24.4084, device='cuda:0', grad_fn=<NegBackward0>), tensor(-9.4299, device='cuda:0', grad_fn=<NegBackward0>), tensor(-81.3166, device='cuda:0', grad_fn=<AddBackward0>)]\n",
      "4.50493069017533\n",
      "tensor(-113.1036, device='cuda:0', grad_fn=<NegBackward0>) [tensor(-24.4084, device='cuda:0', grad_fn=<NegBackward0>), tensor(-8.5262, device='cuda:0', grad_fn=<NegBackward0>), tensor(-80.1689, device='cuda:0', grad_fn=<AddBackward0>)]\n",
      "4.629654270246372\n",
      "tensor(-112.0082, device='cuda:0', grad_fn=<NegBackward0>) [tensor(-24.7023, device='cuda:0', grad_fn=<NegBackward0>), tensor(-7.5211, device='cuda:0', grad_fn=<NegBackward0>), tensor(-79.7847, device='cuda:0', grad_fn=<AddBackward0>)]\n",
      "4.282307628775707\n",
      "tensor(-117.3190, device='cuda:0', grad_fn=<NegBackward0>) [tensor(-24.7023, device='cuda:0', grad_fn=<NegBackward0>), tensor(-11.0753, device='cuda:0', grad_fn=<NegBackward0>), tensor(-81.5413, device='cuda:0', grad_fn=<AddBackward0>)]\n",
      "99.90838747618865\n",
      "tensor(-106.8233, device='cuda:0', grad_fn=<NegBackward0>) [tensor(-24.7073, device='cuda:0', grad_fn=<NegBackward0>), tensor(-4.3602, device='cuda:0', grad_fn=<NegBackward0>), tensor(-77.7559, device='cuda:0', grad_fn=<AddBackward0>)]\n",
      "4.388234793253684\n",
      "tensor(-115.5686, device='cuda:0', grad_fn=<NegBackward0>) [tensor(-24.7073, device='cuda:0', grad_fn=<NegBackward0>), tensor(-9.3219, device='cuda:0', grad_fn=<NegBackward0>), tensor(-81.5394, device='cuda:0', grad_fn=<AddBackward0>)]\n",
      "4.676200517279967\n",
      "tensor(-115.4153, device='cuda:0', grad_fn=<NegBackward0>) [tensor(-24.8149, device='cuda:0', grad_fn=<NegBackward0>), tensor(-9.2425, device='cuda:0', grad_fn=<NegBackward0>), tensor(-81.3579, device='cuda:0', grad_fn=<AddBackward0>)]\n",
      "4.62140032333665\n",
      "tensor(-115.6333, device='cuda:0', grad_fn=<NegBackward0>) [tensor(-24.8149, device='cuda:0', grad_fn=<NegBackward0>), tensor(-9.4640, device='cuda:0', grad_fn=<NegBackward0>), tensor(-81.3544, device='cuda:0', grad_fn=<AddBackward0>)]\n",
      "4.742819782536653\n",
      "tensor(-112.6884, device='cuda:0', grad_fn=<NegBackward0>) [tensor(-25.0467, device='cuda:0', grad_fn=<NegBackward0>), tensor(-7.9763, device='cuda:0', grad_fn=<NegBackward0>), tensor(-79.6654, device='cuda:0', grad_fn=<AddBackward0>)]\n"
     ]
    },
    {
     "name": "stdout",
     "output_type": "stream",
     "text": [
      "4.470608131875812\n",
      "tensor(-111.8336, device='cuda:0', grad_fn=<NegBackward0>) [tensor(-25.0467, device='cuda:0', grad_fn=<NegBackward0>), tensor(-7.6720, device='cuda:0', grad_fn=<NegBackward0>), tensor(-79.1150, device='cuda:0', grad_fn=<AddBackward0>)]\n",
      "4.313614570562149\n",
      "tensor(-114.8258, device='cuda:0', grad_fn=<NegBackward0>) [tensor(-25.1482, device='cuda:0', grad_fn=<NegBackward0>), tensor(-8.9628, device='cuda:0', grad_fn=<NegBackward0>), tensor(-80.7148, device='cuda:0', grad_fn=<AddBackward0>)]\n",
      "4.664500796519447\n",
      "tensor(-114.2708, device='cuda:0', grad_fn=<NegBackward0>) [tensor(-25.1482, device='cuda:0', grad_fn=<NegBackward0>), tensor(-8.0635, device='cuda:0', grad_fn=<NegBackward0>), tensor(-81.0591, device='cuda:0', grad_fn=<AddBackward0>)]\n",
      "4.5136207922536755\n",
      "tensor(-115.6769, device='cuda:0', grad_fn=<NegBackward0>) [tensor(-25.3207, device='cuda:0', grad_fn=<NegBackward0>), tensor(-9.3739, device='cuda:0', grad_fn=<NegBackward0>), tensor(-80.9824, device='cuda:0', grad_fn=<AddBackward0>)]\n",
      "4.402787011144409\n",
      "tensor(-116.3503, device='cuda:0', grad_fn=<NegBackward0>) [tensor(-25.3207, device='cuda:0', grad_fn=<NegBackward0>), tensor(-9.4157, device='cuda:0', grad_fn=<NegBackward0>), tensor(-81.6139, device='cuda:0', grad_fn=<AddBackward0>)]\n",
      "4.773096242467178\n",
      "tensor(-111.0495, device='cuda:0', grad_fn=<NegBackward0>) [tensor(-25.5077, device='cuda:0', grad_fn=<NegBackward0>), tensor(-6.5378, device='cuda:0', grad_fn=<NegBackward0>), tensor(-79.0040, device='cuda:0', grad_fn=<AddBackward0>)]\n",
      "6.163515519343652\n",
      "tensor(-114.9631, device='cuda:0', grad_fn=<NegBackward0>) [tensor(-25.5077, device='cuda:0', grad_fn=<NegBackward0>), tensor(-7.8602, device='cuda:0', grad_fn=<NegBackward0>), tensor(-81.5952, device='cuda:0', grad_fn=<AddBackward0>)]\n",
      "5.092543647054075\n",
      "tensor(-115.6245, device='cuda:0', grad_fn=<NegBackward0>) [tensor(-25.5907, device='cuda:0', grad_fn=<NegBackward0>), tensor(-8.4791, device='cuda:0', grad_fn=<NegBackward0>), tensor(-81.5547, device='cuda:0', grad_fn=<AddBackward0>)]\n",
      "4.815703003931638\n",
      "tensor(-115.5703, device='cuda:0', grad_fn=<NegBackward0>) [tensor(-25.5907, device='cuda:0', grad_fn=<NegBackward0>), tensor(-8.4221, device='cuda:0', grad_fn=<NegBackward0>), tensor(-81.5575, device='cuda:0', grad_fn=<AddBackward0>)]\n",
      "5.02720094955097\n",
      "tensor(-114.4580, device='cuda:0', grad_fn=<NegBackward0>) [tensor(-25.9603, device='cuda:0', grad_fn=<NegBackward0>), tensor(-7.7976, device='cuda:0', grad_fn=<NegBackward0>), tensor(-80.7001, device='cuda:0', grad_fn=<AddBackward0>)]\n",
      "4.372277578696436\n",
      "tensor(-116.2997, device='cuda:0', grad_fn=<NegBackward0>) [tensor(-25.9603, device='cuda:0', grad_fn=<NegBackward0>), tensor(-9.1144, device='cuda:0', grad_fn=<NegBackward0>), tensor(-81.2250, device='cuda:0', grad_fn=<AddBackward0>)]\n",
      "4.638395254019364\n",
      "tensor(-113.1286, device='cuda:0', grad_fn=<NegBackward0>) [tensor(-26.0087, device='cuda:0', grad_fn=<NegBackward0>), tensor(-7.1793, device='cuda:0', grad_fn=<NegBackward0>), tensor(-79.9406, device='cuda:0', grad_fn=<AddBackward0>)]\n",
      "4.72515808746645\n",
      "tensor(-115.6084, device='cuda:0', grad_fn=<NegBackward0>) [tensor(-26.0087, device='cuda:0', grad_fn=<NegBackward0>), tensor(-8.2441, device='cuda:0', grad_fn=<NegBackward0>), tensor(-81.3555, device='cuda:0', grad_fn=<AddBackward0>)]\n",
      "4.516368276275057\n",
      "tensor(-117.4346, device='cuda:0', grad_fn=<NegBackward0>) [tensor(-26.0780, device='cuda:0', grad_fn=<NegBackward0>), tensor(-9.2837, device='cuda:0', grad_fn=<NegBackward0>), tensor(-82.0728, device='cuda:0', grad_fn=<AddBackward0>)]\n",
      "5.2704011006727605\n",
      "tensor(-115.0111, device='cuda:0', grad_fn=<NegBackward0>) [tensor(-26.0780, device='cuda:0', grad_fn=<NegBackward0>), tensor(-7.6817, device='cuda:0', grad_fn=<NegBackward0>), tensor(-81.2514, device='cuda:0', grad_fn=<AddBackward0>)]\n",
      "4.9922440655016\n",
      "tensor(-118.3831, device='cuda:0', grad_fn=<NegBackward0>) [tensor(-26.2502, device='cuda:0', grad_fn=<NegBackward0>), tensor(-8.8824, device='cuda:0', grad_fn=<NegBackward0>), tensor(-83.2504, device='cuda:0', grad_fn=<AddBackward0>)]\n",
      "3.9498254920635296\n",
      "tensor(-116.2829, device='cuda:0', grad_fn=<NegBackward0>) [tensor(-26.2502, device='cuda:0', grad_fn=<NegBackward0>), tensor(-9.6681, device='cuda:0', grad_fn=<NegBackward0>), tensor(-80.3646, device='cuda:0', grad_fn=<AddBackward0>)]\n",
      "4.569820061321923\n",
      "tensor(-118.4562, device='cuda:0', grad_fn=<NegBackward0>) [tensor(-26.2528, device='cuda:0', grad_fn=<NegBackward0>), tensor(-9.6707, device='cuda:0', grad_fn=<NegBackward0>), tensor(-82.5327, device='cuda:0', grad_fn=<AddBackward0>)]\n",
      "4.495205595145952\n",
      "tensor(-116.3577, device='cuda:0', grad_fn=<NegBackward0>) [tensor(-26.2528, device='cuda:0', grad_fn=<NegBackward0>), tensor(-9.2195, device='cuda:0', grad_fn=<NegBackward0>), tensor(-80.8854, device='cuda:0', grad_fn=<AddBackward0>)]\n",
      "4.900882085900168\n",
      "tensor(-113.0985, device='cuda:0', grad_fn=<NegBackward0>) [tensor(-26.0531, device='cuda:0', grad_fn=<NegBackward0>), tensor(-7.3355, device='cuda:0', grad_fn=<NegBackward0>), tensor(-79.7099, device='cuda:0', grad_fn=<AddBackward0>)]\n",
      "4.440276576055336\n",
      "tensor(-113.3981, device='cuda:0', grad_fn=<NegBackward0>) [tensor(-26.0531, device='cuda:0', grad_fn=<NegBackward0>), tensor(-7.5705, device='cuda:0', grad_fn=<NegBackward0>), tensor(-79.7745, device='cuda:0', grad_fn=<AddBackward0>)]\n",
      "4.3954394406739254\n",
      "tensor(-117.6856, device='cuda:0', grad_fn=<NegBackward0>) [tensor(-26.2240, device='cuda:0', grad_fn=<NegBackward0>), tensor(-9.4160, device='cuda:0', grad_fn=<NegBackward0>), tensor(-82.0456, device='cuda:0', grad_fn=<AddBackward0>)]\n",
      "4.149021832494793\n",
      "tensor(-115.6046, device='cuda:0', grad_fn=<NegBackward0>) [tensor(-26.2240, device='cuda:0', grad_fn=<NegBackward0>), tensor(-9.1936, device='cuda:0', grad_fn=<NegBackward0>), tensor(-80.1870, device='cuda:0', grad_fn=<AddBackward0>)]\n",
      "5.188552187268995\n",
      "tensor(-113.9604, device='cuda:0', grad_fn=<NegBackward0>) [tensor(-26.3773, device='cuda:0', grad_fn=<NegBackward0>), tensor(-7.0315, device='cuda:0', grad_fn=<NegBackward0>), tensor(-80.5516, device='cuda:0', grad_fn=<AddBackward0>)]\n",
      "4.285905351366085\n",
      "tensor(-112.6854, device='cuda:0', grad_fn=<NegBackward0>) [tensor(-26.3773, device='cuda:0', grad_fn=<NegBackward0>), tensor(-7.2653, device='cuda:0', grad_fn=<NegBackward0>), tensor(-79.0428, device='cuda:0', grad_fn=<AddBackward0>)]\n",
      "4.34933446537118\n",
      "tensor(-113.5005, device='cuda:0', grad_fn=<NegBackward0>) [tensor(-26.6372, device='cuda:0', grad_fn=<NegBackward0>), tensor(-7.4127, device='cuda:0', grad_fn=<NegBackward0>), tensor(-79.4505, device='cuda:0', grad_fn=<AddBackward0>)]\n",
      "4.729605306006493\n",
      "tensor(-114.3786, device='cuda:0', grad_fn=<NegBackward0>) [tensor(-26.6372, device='cuda:0', grad_fn=<NegBackward0>), tensor(-7.8816, device='cuda:0', grad_fn=<NegBackward0>), tensor(-79.8598, device='cuda:0', grad_fn=<AddBackward0>)]\n",
      "4.861886193141943\n",
      "tensor(-115.2284, device='cuda:0', grad_fn=<NegBackward0>) [tensor(-26.8797, device='cuda:0', grad_fn=<NegBackward0>), tensor(-7.6734, device='cuda:0', grad_fn=<NegBackward0>), tensor(-80.6753, device='cuda:0', grad_fn=<AddBackward0>)]\n",
      "4.56549066602154\n",
      "tensor(-113.8958, device='cuda:0', grad_fn=<NegBackward0>) [tensor(-26.8797, device='cuda:0', grad_fn=<NegBackward0>), tensor(-7.3726, device='cuda:0', grad_fn=<NegBackward0>), tensor(-79.6435, device='cuda:0', grad_fn=<AddBackward0>)]\n",
      "4.81340184312376\n",
      "tensor(-116.4429, device='cuda:0', grad_fn=<NegBackward0>) [tensor(-27.1489, device='cuda:0', grad_fn=<NegBackward0>), tensor(-7.9157, device='cuda:0', grad_fn=<NegBackward0>), tensor(-81.3783, device='cuda:0', grad_fn=<AddBackward0>)]\n",
      "4.583637550783653\n",
      "tensor(-113.3743, device='cuda:0', grad_fn=<NegBackward0>) [tensor(-27.1489, device='cuda:0', grad_fn=<NegBackward0>), tensor(-7.2611, device='cuda:0', grad_fn=<NegBackward0>), tensor(-78.9643, device='cuda:0', grad_fn=<AddBackward0>)]\n",
      "4.805060906105218\n",
      "tensor(-115.7346, device='cuda:0', grad_fn=<NegBackward0>) [tensor(-27.3785, device='cuda:0', grad_fn=<NegBackward0>), tensor(-7.3941, device='cuda:0', grad_fn=<NegBackward0>), tensor(-80.9620, device='cuda:0', grad_fn=<AddBackward0>)]\n",
      "4.489874092506639\n",
      "tensor(-114.7972, device='cuda:0', grad_fn=<NegBackward0>) [tensor(-27.3785, device='cuda:0', grad_fn=<NegBackward0>), tensor(-7.4777, device='cuda:0', grad_fn=<NegBackward0>), tensor(-79.9411, device='cuda:0', grad_fn=<AddBackward0>)]\n"
     ]
    },
    {
     "name": "stdout",
     "output_type": "stream",
     "text": [
      "4.494606282096915\n",
      "tensor(-116.5010, device='cuda:0', grad_fn=<NegBackward0>) [tensor(-27.4837, device='cuda:0', grad_fn=<NegBackward0>), tensor(-7.7850, device='cuda:0', grad_fn=<NegBackward0>), tensor(-81.2323, device='cuda:0', grad_fn=<AddBackward0>)]\n",
      "4.430411452164429\n",
      "tensor(-117.6007, device='cuda:0', grad_fn=<NegBackward0>) [tensor(-27.4837, device='cuda:0', grad_fn=<NegBackward0>), tensor(-8.8267, device='cuda:0', grad_fn=<NegBackward0>), tensor(-81.2904, device='cuda:0', grad_fn=<AddBackward0>)]\n",
      "4.513619209361963\n",
      "tensor(-115.9658, device='cuda:0', grad_fn=<NegBackward0>) [tensor(-27.6109, device='cuda:0', grad_fn=<NegBackward0>), tensor(-7.5603, device='cuda:0', grad_fn=<NegBackward0>), tensor(-80.7946, device='cuda:0', grad_fn=<AddBackward0>)]\n",
      "4.508203434885477\n",
      "tensor(-117.9460, device='cuda:0', grad_fn=<NegBackward0>) [tensor(-27.6109, device='cuda:0', grad_fn=<NegBackward0>), tensor(-8.5681, device='cuda:0', grad_fn=<NegBackward0>), tensor(-81.7670, device='cuda:0', grad_fn=<AddBackward0>)]\n",
      "4.4107296929068465\n",
      "tensor(-114.9743, device='cuda:0', grad_fn=<NegBackward0>) [tensor(-27.6321, device='cuda:0', grad_fn=<NegBackward0>), tensor(-7.7631, device='cuda:0', grad_fn=<NegBackward0>), tensor(-79.5791, device='cuda:0', grad_fn=<AddBackward0>)]\n",
      "4.872757044905809\n",
      "tensor(-116.4524, device='cuda:0', grad_fn=<NegBackward0>) [tensor(-27.6321, device='cuda:0', grad_fn=<NegBackward0>), tensor(-7.4321, device='cuda:0', grad_fn=<NegBackward0>), tensor(-81.3882, device='cuda:0', grad_fn=<AddBackward0>)]\n",
      "4.164679570175962\n",
      "tensor(-119.4043, device='cuda:0', grad_fn=<NegBackward0>) [tensor(-27.7790, device='cuda:0', grad_fn=<NegBackward0>), tensor(-10.1708, device='cuda:0', grad_fn=<NegBackward0>), tensor(-81.4545, device='cuda:0', grad_fn=<AddBackward0>)]\n",
      "4.385488814950698\n",
      "tensor(-118.1664, device='cuda:0', grad_fn=<NegBackward0>) [tensor(-27.7790, device='cuda:0', grad_fn=<NegBackward0>), tensor(-8.6060, device='cuda:0', grad_fn=<NegBackward0>), tensor(-81.7814, device='cuda:0', grad_fn=<AddBackward0>)]\n",
      "4.464422797095801\n",
      "tensor(-118.5506, device='cuda:0', grad_fn=<NegBackward0>) [tensor(-27.9489, device='cuda:0', grad_fn=<NegBackward0>), tensor(-8.7859, device='cuda:0', grad_fn=<NegBackward0>), tensor(-81.8158, device='cuda:0', grad_fn=<AddBackward0>)]\n",
      "4.528672752143793\n",
      "tensor(-115.5279, device='cuda:0', grad_fn=<NegBackward0>) [tensor(-27.9489, device='cuda:0', grad_fn=<NegBackward0>), tensor(-7.3108, device='cuda:0', grad_fn=<NegBackward0>), tensor(-80.2682, device='cuda:0', grad_fn=<AddBackward0>)]\n",
      "4.545271411074913\n",
      "tensor(-116.5847, device='cuda:0', grad_fn=<NegBackward0>) [tensor(-28.0774, device='cuda:0', grad_fn=<NegBackward0>), tensor(-7.7856, device='cuda:0', grad_fn=<NegBackward0>), tensor(-80.7217, device='cuda:0', grad_fn=<AddBackward0>)]\n",
      "4.492392510795089\n",
      "tensor(-118.0380, device='cuda:0', grad_fn=<NegBackward0>) [tensor(-28.0774, device='cuda:0', grad_fn=<NegBackward0>), tensor(-8.1784, device='cuda:0', grad_fn=<NegBackward0>), tensor(-81.7821, device='cuda:0', grad_fn=<AddBackward0>)]\n",
      "3.9052825443508477\n",
      "tensor(-119.3828, device='cuda:0', grad_fn=<NegBackward0>) [tensor(-28.2248, device='cuda:0', grad_fn=<NegBackward0>), tensor(-10.2204, device='cuda:0', grad_fn=<NegBackward0>), tensor(-80.9376, device='cuda:0', grad_fn=<AddBackward0>)]\n",
      "4.336099229848917\n",
      "tensor(-120.8166, device='cuda:0', grad_fn=<NegBackward0>) [tensor(-28.2248, device='cuda:0', grad_fn=<NegBackward0>), tensor(-9.5029, device='cuda:0', grad_fn=<NegBackward0>), tensor(-83.0889, device='cuda:0', grad_fn=<AddBackward0>)]\n",
      "4.244560382170092\n",
      "tensor(-120.7439, device='cuda:0', grad_fn=<NegBackward0>) [tensor(-28.3380, device='cuda:0', grad_fn=<NegBackward0>), tensor(-10.0134, device='cuda:0', grad_fn=<NegBackward0>), tensor(-82.3925, device='cuda:0', grad_fn=<AddBackward0>)]\n",
      "4.232307302260271\n",
      "tensor(-118.6717, device='cuda:0', grad_fn=<NegBackward0>) [tensor(-28.3380, device='cuda:0', grad_fn=<NegBackward0>), tensor(-9.4085, device='cuda:0', grad_fn=<NegBackward0>), tensor(-80.9252, device='cuda:0', grad_fn=<AddBackward0>)]\n",
      "4.573305122377024\n",
      "tensor(-118.1264, device='cuda:0', grad_fn=<NegBackward0>) [tensor(-28.3231, device='cuda:0', grad_fn=<NegBackward0>), tensor(-8.3852, device='cuda:0', grad_fn=<NegBackward0>), tensor(-81.4181, device='cuda:0', grad_fn=<AddBackward0>)]\n",
      "4.750017094936263\n",
      "tensor(-116.9877, device='cuda:0', grad_fn=<NegBackward0>) [tensor(-28.3231, device='cuda:0', grad_fn=<NegBackward0>), tensor(-7.6814, device='cuda:0', grad_fn=<NegBackward0>), tensor(-80.9831, device='cuda:0', grad_fn=<AddBackward0>)]\n",
      "4.573394259445832\n",
      "tensor(-119.2843, device='cuda:0', grad_fn=<NegBackward0>) [tensor(-28.2209, device='cuda:0', grad_fn=<NegBackward0>), tensor(-8.5373, device='cuda:0', grad_fn=<NegBackward0>), tensor(-82.5261, device='cuda:0', grad_fn=<AddBackward0>)]\n",
      "4.544219471679981\n",
      "tensor(-117.6410, device='cuda:0', grad_fn=<NegBackward0>) [tensor(-28.2209, device='cuda:0', grad_fn=<NegBackward0>), tensor(-7.9526, device='cuda:0', grad_fn=<NegBackward0>), tensor(-81.4675, device='cuda:0', grad_fn=<AddBackward0>)]\n",
      "4.093030595360018\n",
      "tensor(-116.9115, device='cuda:0', grad_fn=<NegBackward0>) [tensor(-28.4622, device='cuda:0', grad_fn=<NegBackward0>), tensor(-7.5604, device='cuda:0', grad_fn=<NegBackward0>), tensor(-80.8889, device='cuda:0', grad_fn=<AddBackward0>)]\n",
      "4.098936532256981\n",
      "tensor(-117.7524, device='cuda:0', grad_fn=<NegBackward0>) [tensor(-28.4622, device='cuda:0', grad_fn=<NegBackward0>), tensor(-8.7658, device='cuda:0', grad_fn=<NegBackward0>), tensor(-80.5244, device='cuda:0', grad_fn=<AddBackward0>)]\n",
      "4.205801752786205\n",
      "tensor(-118.5674, device='cuda:0', grad_fn=<NegBackward0>) [tensor(-28.7643, device='cuda:0', grad_fn=<NegBackward0>), tensor(-8.6295, device='cuda:0', grad_fn=<NegBackward0>), tensor(-81.1736, device='cuda:0', grad_fn=<AddBackward0>)]\n",
      "4.518192619822587\n",
      "tensor(-118.3263, device='cuda:0', grad_fn=<NegBackward0>) [tensor(-28.7643, device='cuda:0', grad_fn=<NegBackward0>), tensor(-8.0295, device='cuda:0', grad_fn=<NegBackward0>), tensor(-81.5324, device='cuda:0', grad_fn=<AddBackward0>)]\n",
      "4.255990986805635\n",
      "tensor(-118.8673, device='cuda:0', grad_fn=<NegBackward0>) [tensor(-28.9707, device='cuda:0', grad_fn=<NegBackward0>), tensor(-8.6124, device='cuda:0', grad_fn=<NegBackward0>), tensor(-81.2842, device='cuda:0', grad_fn=<AddBackward0>)]\n",
      "4.462844964924827\n",
      "tensor(-115.9720, device='cuda:0', grad_fn=<NegBackward0>) [tensor(-28.9707, device='cuda:0', grad_fn=<NegBackward0>), tensor(-6.8543, device='cuda:0', grad_fn=<NegBackward0>), tensor(-80.1469, device='cuda:0', grad_fn=<AddBackward0>)]\n",
      "4.412226426088196\n",
      "tensor(-120.7684, device='cuda:0', grad_fn=<NegBackward0>) [tensor(-29.1733, device='cuda:0', grad_fn=<NegBackward0>), tensor(-9.1547, device='cuda:0', grad_fn=<NegBackward0>), tensor(-82.4404, device='cuda:0', grad_fn=<AddBackward0>)]\n",
      "4.569225944833986\n",
      "tensor(-119.9964, device='cuda:0', grad_fn=<NegBackward0>) [tensor(-29.1733, device='cuda:0', grad_fn=<NegBackward0>), tensor(-8.3767, device='cuda:0', grad_fn=<NegBackward0>), tensor(-82.4465, device='cuda:0', grad_fn=<AddBackward0>)]\n",
      "4.7849751155055475\n",
      "tensor(-115.8559, device='cuda:0', grad_fn=<NegBackward0>) [tensor(-29.3057, device='cuda:0', grad_fn=<NegBackward0>), tensor(-6.1832, device='cuda:0', grad_fn=<NegBackward0>), tensor(-80.3670, device='cuda:0', grad_fn=<AddBackward0>)]\n",
      "4.250806333282624\n",
      "tensor(-118.8576, device='cuda:0', grad_fn=<NegBackward0>) [tensor(-29.3057, device='cuda:0', grad_fn=<NegBackward0>), tensor(-8.3506, device='cuda:0', grad_fn=<NegBackward0>), tensor(-81.2013, device='cuda:0', grad_fn=<AddBackward0>)]\n",
      "4.66291070376972\n",
      "tensor(-119.9496, device='cuda:0', grad_fn=<NegBackward0>) [tensor(-29.3480, device='cuda:0', grad_fn=<NegBackward0>), tensor(-8.0335, device='cuda:0', grad_fn=<NegBackward0>), tensor(-82.5680, device='cuda:0', grad_fn=<AddBackward0>)]\n",
      "4.317841421583386\n",
      "tensor(-118.5405, device='cuda:0', grad_fn=<NegBackward0>) [tensor(-29.3480, device='cuda:0', grad_fn=<NegBackward0>), tensor(-8.0019, device='cuda:0', grad_fn=<NegBackward0>), tensor(-81.1907, device='cuda:0', grad_fn=<AddBackward0>)]\n",
      "4.575428564735626\n",
      "tensor(-121.8821, device='cuda:0', grad_fn=<NegBackward0>) [tensor(-29.3921, device='cuda:0', grad_fn=<NegBackward0>), tensor(-9.0721, device='cuda:0', grad_fn=<NegBackward0>), tensor(-83.4179, device='cuda:0', grad_fn=<AddBackward0>)]\n"
     ]
    },
    {
     "name": "stdout",
     "output_type": "stream",
     "text": [
      "4.629287391533525\n",
      "tensor(-121.0510, device='cuda:0', grad_fn=<NegBackward0>) [tensor(-29.3921, device='cuda:0', grad_fn=<NegBackward0>), tensor(-8.7162, device='cuda:0', grad_fn=<NegBackward0>), tensor(-82.9427, device='cuda:0', grad_fn=<AddBackward0>)]\n",
      "4.088964331654414\n",
      "tensor(-118.1863, device='cuda:0', grad_fn=<NegBackward0>) [tensor(-29.5475, device='cuda:0', grad_fn=<NegBackward0>), tensor(-8.2206, device='cuda:0', grad_fn=<NegBackward0>), tensor(-80.4182, device='cuda:0', grad_fn=<AddBackward0>)]\n",
      "4.237880192551754\n",
      "tensor(-121.3260, device='cuda:0', grad_fn=<NegBackward0>) [tensor(-29.5475, device='cuda:0', grad_fn=<NegBackward0>), tensor(-9.1285, device='cuda:0', grad_fn=<NegBackward0>), tensor(-82.6499, device='cuda:0', grad_fn=<AddBackward0>)]\n",
      "4.293257684855713\n",
      "tensor(-119.4136, device='cuda:0', grad_fn=<NegBackward0>) [tensor(-29.5040, device='cuda:0', grad_fn=<NegBackward0>), tensor(-8.6237, device='cuda:0', grad_fn=<NegBackward0>), tensor(-81.2859, device='cuda:0', grad_fn=<AddBackward0>)]\n",
      "4.137587400986565\n",
      "tensor(-118.4133, device='cuda:0', grad_fn=<NegBackward0>) [tensor(-29.5040, device='cuda:0', grad_fn=<NegBackward0>), tensor(-7.9746, device='cuda:0', grad_fn=<NegBackward0>), tensor(-80.9346, device='cuda:0', grad_fn=<AddBackward0>)]\n",
      "4.090985438146985\n",
      "tensor(-116.3395, device='cuda:0', grad_fn=<NegBackward0>) [tensor(-29.5001, device='cuda:0', grad_fn=<NegBackward0>), tensor(-7.1067, device='cuda:0', grad_fn=<NegBackward0>), tensor(-79.7327, device='cuda:0', grad_fn=<AddBackward0>)]\n",
      "4.238886168660282\n",
      "tensor(-121.4149, device='cuda:0', grad_fn=<NegBackward0>) [tensor(-29.5001, device='cuda:0', grad_fn=<NegBackward0>), tensor(-9.0454, device='cuda:0', grad_fn=<NegBackward0>), tensor(-82.8694, device='cuda:0', grad_fn=<AddBackward0>)]\n",
      "4.125143967393883\n",
      "tensor(-119.2070, device='cuda:0', grad_fn=<NegBackward0>) [tensor(-29.4912, device='cuda:0', grad_fn=<NegBackward0>), tensor(-8.6553, device='cuda:0', grad_fn=<NegBackward0>), tensor(-81.0605, device='cuda:0', grad_fn=<AddBackward0>)]\n",
      "4.31940173204742\n",
      "tensor(-115.6441, device='cuda:0', grad_fn=<NegBackward0>) [tensor(-29.4912, device='cuda:0', grad_fn=<NegBackward0>), tensor(-6.6672, device='cuda:0', grad_fn=<NegBackward0>), tensor(-79.4857, device='cuda:0', grad_fn=<AddBackward0>)]\n",
      "4.527069215038802\n",
      "tensor(-120.7697, device='cuda:0', grad_fn=<NegBackward0>) [tensor(-29.7272, device='cuda:0', grad_fn=<NegBackward0>), tensor(-8.2375, device='cuda:0', grad_fn=<NegBackward0>), tensor(-82.8051, device='cuda:0', grad_fn=<AddBackward0>)]\n",
      "4.423948738156617\n",
      "tensor(-121.1320, device='cuda:0', grad_fn=<NegBackward0>) [tensor(-29.7272, device='cuda:0', grad_fn=<NegBackward0>), tensor(-8.2233, device='cuda:0', grad_fn=<NegBackward0>), tensor(-83.1816, device='cuda:0', grad_fn=<AddBackward0>)]\n",
      "4.245536403291043\n",
      "tensor(-119.8304, device='cuda:0', grad_fn=<NegBackward0>) [tensor(-29.8220, device='cuda:0', grad_fn=<NegBackward0>), tensor(-8.1413, device='cuda:0', grad_fn=<NegBackward0>), tensor(-81.8672, device='cuda:0', grad_fn=<AddBackward0>)]\n",
      "4.166693840878742\n",
      "tensor(-120.9560, device='cuda:0', grad_fn=<NegBackward0>) [tensor(-29.8220, device='cuda:0', grad_fn=<NegBackward0>), tensor(-8.9264, device='cuda:0', grad_fn=<NegBackward0>), tensor(-82.2076, device='cuda:0', grad_fn=<AddBackward0>)]\n",
      "4.615475381012263\n",
      "tensor(-119.4254, device='cuda:0', grad_fn=<NegBackward0>) [tensor(-29.8160, device='cuda:0', grad_fn=<NegBackward0>), tensor(-7.8279, device='cuda:0', grad_fn=<NegBackward0>), tensor(-81.7815, device='cuda:0', grad_fn=<AddBackward0>)]\n",
      "4.2021398274630215\n",
      "tensor(-119.8103, device='cuda:0', grad_fn=<NegBackward0>) [tensor(-29.8160, device='cuda:0', grad_fn=<NegBackward0>), tensor(-8.2633, device='cuda:0', grad_fn=<NegBackward0>), tensor(-81.7310, device='cuda:0', grad_fn=<AddBackward0>)]\n",
      "4.380443390661827\n",
      "tensor(-122.1685, device='cuda:0', grad_fn=<NegBackward0>) [tensor(-29.8864, device='cuda:0', grad_fn=<NegBackward0>), tensor(-9.2604, device='cuda:0', grad_fn=<NegBackward0>), tensor(-83.0216, device='cuda:0', grad_fn=<AddBackward0>)]\n",
      "4.929300131445632\n",
      "tensor(-120.9506, device='cuda:0', grad_fn=<NegBackward0>) [tensor(-29.8864, device='cuda:0', grad_fn=<NegBackward0>), tensor(-8.1840, device='cuda:0', grad_fn=<NegBackward0>), tensor(-82.8802, device='cuda:0', grad_fn=<AddBackward0>)]\n",
      "5.004735391022056\n",
      "tensor(-118.1247, device='cuda:0', grad_fn=<NegBackward0>) [tensor(-30.0970, device='cuda:0', grad_fn=<NegBackward0>), tensor(-6.6645, device='cuda:0', grad_fn=<NegBackward0>), tensor(-81.3632, device='cuda:0', grad_fn=<AddBackward0>)]\n",
      "4.5139646181119755\n",
      "tensor(-123.9021, device='cuda:0', grad_fn=<NegBackward0>) [tensor(-30.0970, device='cuda:0', grad_fn=<NegBackward0>), tensor(-9.1584, device='cuda:0', grad_fn=<NegBackward0>), tensor(-84.6468, device='cuda:0', grad_fn=<AddBackward0>)]\n",
      "4.087982784020422\n",
      "tensor(-121.5230, device='cuda:0', grad_fn=<NegBackward0>) [tensor(-30.2738, device='cuda:0', grad_fn=<NegBackward0>), tensor(-9.0297, device='cuda:0', grad_fn=<NegBackward0>), tensor(-82.2195, device='cuda:0', grad_fn=<AddBackward0>)]\n",
      "4.968184546896106\n",
      "tensor(-121.5616, device='cuda:0', grad_fn=<NegBackward0>) [tensor(-30.2738, device='cuda:0', grad_fn=<NegBackward0>), tensor(-7.9771, device='cuda:0', grad_fn=<NegBackward0>), tensor(-83.3108, device='cuda:0', grad_fn=<AddBackward0>)]\n",
      "4.521188673561474\n",
      "tensor(-124.1952, device='cuda:0', grad_fn=<NegBackward0>) [tensor(-30.3398, device='cuda:0', grad_fn=<NegBackward0>), tensor(-9.1828, device='cuda:0', grad_fn=<NegBackward0>), tensor(-84.6726, device='cuda:0', grad_fn=<AddBackward0>)]\n",
      "4.423575620564466\n",
      "tensor(-124.8476, device='cuda:0', grad_fn=<NegBackward0>) [tensor(-30.3398, device='cuda:0', grad_fn=<NegBackward0>), tensor(-9.8005, device='cuda:0', grad_fn=<NegBackward0>), tensor(-84.7074, device='cuda:0', grad_fn=<AddBackward0>)]\n",
      "4.685872656439729\n",
      "tensor(-121.0128, device='cuda:0', grad_fn=<NegBackward0>) [tensor(-30.2597, device='cuda:0', grad_fn=<NegBackward0>), tensor(-8.2895, device='cuda:0', grad_fn=<NegBackward0>), tensor(-82.4637, device='cuda:0', grad_fn=<AddBackward0>)]\n",
      "4.360029136316401\n",
      "tensor(-121.8690, device='cuda:0', grad_fn=<NegBackward0>) [tensor(-30.2597, device='cuda:0', grad_fn=<NegBackward0>), tensor(-8.6634, device='cuda:0', grad_fn=<NegBackward0>), tensor(-82.9459, device='cuda:0', grad_fn=<AddBackward0>)]\n",
      "4.163347509140387\n",
      "tensor(-124.3902, device='cuda:0', grad_fn=<NegBackward0>) [tensor(-30.4111, device='cuda:0', grad_fn=<NegBackward0>), tensor(-9.6740, device='cuda:0', grad_fn=<NegBackward0>), tensor(-84.3051, device='cuda:0', grad_fn=<AddBackward0>)]\n",
      "4.248053870800279\n",
      "tensor(-124.0073, device='cuda:0', grad_fn=<NegBackward0>) [tensor(-30.4111, device='cuda:0', grad_fn=<NegBackward0>), tensor(-9.4189, device='cuda:0', grad_fn=<NegBackward0>), tensor(-84.1774, device='cuda:0', grad_fn=<AddBackward0>)]\n",
      "4.597296868679334\n",
      "tensor(-121.6445, device='cuda:0', grad_fn=<NegBackward0>) [tensor(-30.3436, device='cuda:0', grad_fn=<NegBackward0>), tensor(-7.9381, device='cuda:0', grad_fn=<NegBackward0>), tensor(-83.3628, device='cuda:0', grad_fn=<AddBackward0>)]\n",
      "4.515773282293795\n",
      "tensor(-118.9536, device='cuda:0', grad_fn=<NegBackward0>) [tensor(-30.3436, device='cuda:0', grad_fn=<NegBackward0>), tensor(-7.4043, device='cuda:0', grad_fn=<NegBackward0>), tensor(-81.2058, device='cuda:0', grad_fn=<AddBackward0>)]\n",
      "4.029482134351692\n",
      "tensor(-120.8173, device='cuda:0', grad_fn=<NegBackward0>) [tensor(-30.6467, device='cuda:0', grad_fn=<NegBackward0>), tensor(-8.6479, device='cuda:0', grad_fn=<NegBackward0>), tensor(-81.5227, device='cuda:0', grad_fn=<AddBackward0>)]\n",
      "4.372241747421202\n",
      "tensor(-121.1685, device='cuda:0', grad_fn=<NegBackward0>) [tensor(-30.6467, device='cuda:0', grad_fn=<NegBackward0>), tensor(-8.2762, device='cuda:0', grad_fn=<NegBackward0>), tensor(-82.2456, device='cuda:0', grad_fn=<AddBackward0>)]\n",
      "4.248052301479263\n",
      "tensor(-121.0349, device='cuda:0', grad_fn=<NegBackward0>) [tensor(-30.7878, device='cuda:0', grad_fn=<NegBackward0>), tensor(-8.2407, device='cuda:0', grad_fn=<NegBackward0>), tensor(-82.0063, device='cuda:0', grad_fn=<AddBackward0>)]\n",
      "4.268832546653113\n",
      "tensor(-121.9398, device='cuda:0', grad_fn=<NegBackward0>) [tensor(-30.7878, device='cuda:0', grad_fn=<NegBackward0>), tensor(-8.8671, device='cuda:0', grad_fn=<NegBackward0>), tensor(-82.2848, device='cuda:0', grad_fn=<AddBackward0>)]\n"
     ]
    },
    {
     "name": "stdout",
     "output_type": "stream",
     "text": [
      "4.238916350018551\n",
      "tensor(-125.1907, device='cuda:0', grad_fn=<NegBackward0>) [tensor(-30.9412, device='cuda:0', grad_fn=<NegBackward0>), tensor(-9.5991, device='cuda:0', grad_fn=<NegBackward0>), tensor(-84.6504, device='cuda:0', grad_fn=<AddBackward0>)]\n",
      "4.69106517945531\n",
      "tensor(-124.6642, device='cuda:0', grad_fn=<NegBackward0>) [tensor(-30.9412, device='cuda:0', grad_fn=<NegBackward0>), tensor(-9.1758, device='cuda:0', grad_fn=<NegBackward0>), tensor(-84.5472, device='cuda:0', grad_fn=<AddBackward0>)]\n",
      "4.766805995708527\n",
      "tensor(-125.2127, device='cuda:0', grad_fn=<NegBackward0>) [tensor(-31.1151, device='cuda:0', grad_fn=<NegBackward0>), tensor(-9.1381, device='cuda:0', grad_fn=<NegBackward0>), tensor(-84.9595, device='cuda:0', grad_fn=<AddBackward0>)]\n",
      "4.415042807769665\n",
      "tensor(-126.6160, device='cuda:0', grad_fn=<NegBackward0>) [tensor(-31.1151, device='cuda:0', grad_fn=<NegBackward0>), tensor(-9.8095, device='cuda:0', grad_fn=<NegBackward0>), tensor(-85.6914, device='cuda:0', grad_fn=<AddBackward0>)]\n",
      "4.311972232476841\n",
      "tensor(-123.8218, device='cuda:0', grad_fn=<NegBackward0>) [tensor(-31.1947, device='cuda:0', grad_fn=<NegBackward0>), tensor(-9.0538, device='cuda:0', grad_fn=<NegBackward0>), tensor(-83.5733, device='cuda:0', grad_fn=<AddBackward0>)]\n",
      "4.08922770544511\n",
      "tensor(-123.3107, device='cuda:0', grad_fn=<NegBackward0>) [tensor(-31.1947, device='cuda:0', grad_fn=<NegBackward0>), tensor(-9.0257, device='cuda:0', grad_fn=<NegBackward0>), tensor(-83.0904, device='cuda:0', grad_fn=<AddBackward0>)]\n",
      "4.351185411932282\n",
      "tensor(-122.7225, device='cuda:0', grad_fn=<NegBackward0>) [tensor(-31.0160, device='cuda:0', grad_fn=<NegBackward0>), tensor(-8.5482, device='cuda:0', grad_fn=<NegBackward0>), tensor(-83.1584, device='cuda:0', grad_fn=<AddBackward0>)]\n",
      "3.937434462234244\n",
      "tensor(-121.2308, device='cuda:0', grad_fn=<NegBackward0>) [tensor(-31.0160, device='cuda:0', grad_fn=<NegBackward0>), tensor(-8.2728, device='cuda:0', grad_fn=<NegBackward0>), tensor(-81.9421, device='cuda:0', grad_fn=<AddBackward0>)]\n",
      "4.678306757574472\n",
      "tensor(-121.8900, device='cuda:0', grad_fn=<NegBackward0>) [tensor(-30.8921, device='cuda:0', grad_fn=<NegBackward0>), tensor(-8.2186, device='cuda:0', grad_fn=<NegBackward0>), tensor(-82.7793, device='cuda:0', grad_fn=<AddBackward0>)]\n",
      "4.588060108906851\n",
      "tensor(-125.3345, device='cuda:0', grad_fn=<NegBackward0>) [tensor(-30.8921, device='cuda:0', grad_fn=<NegBackward0>), tensor(-9.1384, device='cuda:0', grad_fn=<NegBackward0>), tensor(-85.3040, device='cuda:0', grad_fn=<AddBackward0>)]\n",
      "4.561652005899403\n",
      "tensor(-123.6898, device='cuda:0', grad_fn=<NegBackward0>) [tensor(-30.9219, device='cuda:0', grad_fn=<NegBackward0>), tensor(-8.7478, device='cuda:0', grad_fn=<NegBackward0>), tensor(-84.0202, device='cuda:0', grad_fn=<AddBackward0>)]\n",
      "4.483522277871532\n",
      "tensor(-121.6964, device='cuda:0', grad_fn=<NegBackward0>) [tensor(-30.9219, device='cuda:0', grad_fn=<NegBackward0>), tensor(-8.2622, device='cuda:0', grad_fn=<NegBackward0>), tensor(-82.5123, device='cuda:0', grad_fn=<AddBackward0>)]\n",
      "4.233364828461448\n",
      "tensor(-121.3652, device='cuda:0', grad_fn=<NegBackward0>) [tensor(-31.2454, device='cuda:0', grad_fn=<NegBackward0>), tensor(-8.5684, device='cuda:0', grad_fn=<NegBackward0>), tensor(-81.5514, device='cuda:0', grad_fn=<AddBackward0>)]\n",
      "4.104056855139064\n",
      "tensor(-122.9232, device='cuda:0', grad_fn=<NegBackward0>) [tensor(-31.2454, device='cuda:0', grad_fn=<NegBackward0>), tensor(-8.6583, device='cuda:0', grad_fn=<NegBackward0>), tensor(-83.0195, device='cuda:0', grad_fn=<AddBackward0>)]\n",
      "4.36373919538898\n",
      "tensor(-124.8333, device='cuda:0', grad_fn=<NegBackward0>) [tensor(-31.2747, device='cuda:0', grad_fn=<NegBackward0>), tensor(-9.2102, device='cuda:0', grad_fn=<NegBackward0>), tensor(-84.3484, device='cuda:0', grad_fn=<AddBackward0>)]\n",
      "4.319773404661598\n",
      "tensor(-124.5021, device='cuda:0', grad_fn=<NegBackward0>) [tensor(-31.2747, device='cuda:0', grad_fn=<NegBackward0>), tensor(-9.5384, device='cuda:0', grad_fn=<NegBackward0>), tensor(-83.6889, device='cuda:0', grad_fn=<AddBackward0>)]\n",
      "3.870226738180243\n",
      "tensor(-120.0775, device='cuda:0', grad_fn=<NegBackward0>) [tensor(-31.4665, device='cuda:0', grad_fn=<NegBackward0>), tensor(-7.8177, device='cuda:0', grad_fn=<NegBackward0>), tensor(-80.7934, device='cuda:0', grad_fn=<AddBackward0>)]\n",
      "4.368787153879904\n",
      "tensor(-122.6095, device='cuda:0', grad_fn=<NegBackward0>) [tensor(-31.4665, device='cuda:0', grad_fn=<NegBackward0>), tensor(-8.1737, device='cuda:0', grad_fn=<NegBackward0>), tensor(-82.9693, device='cuda:0', grad_fn=<AddBackward0>)]\n",
      "4.2716023044520295\n",
      "tensor(-122.8350, device='cuda:0', grad_fn=<NegBackward0>) [tensor(-31.5949, device='cuda:0', grad_fn=<NegBackward0>), tensor(-8.0744, device='cuda:0', grad_fn=<NegBackward0>), tensor(-83.1658, device='cuda:0', grad_fn=<AddBackward0>)]\n",
      "4.420209593510537\n",
      "tensor(-125.7212, device='cuda:0', grad_fn=<NegBackward0>) [tensor(-31.5949, device='cuda:0', grad_fn=<NegBackward0>), tensor(-9.6680, device='cuda:0', grad_fn=<NegBackward0>), tensor(-84.4583, device='cuda:0', grad_fn=<AddBackward0>)]\n",
      "4.030378717180435\n",
      "tensor(-121.9926, device='cuda:0', grad_fn=<NegBackward0>) [tensor(-31.6561, device='cuda:0', grad_fn=<NegBackward0>), tensor(-7.9315, device='cuda:0', grad_fn=<NegBackward0>), tensor(-82.4050, device='cuda:0', grad_fn=<AddBackward0>)]\n",
      "4.3239914341764685\n",
      "tensor(-125.9387, device='cuda:0', grad_fn=<NegBackward0>) [tensor(-31.6561, device='cuda:0', grad_fn=<NegBackward0>), tensor(-9.9020, device='cuda:0', grad_fn=<NegBackward0>), tensor(-84.3806, device='cuda:0', grad_fn=<AddBackward0>)]\n",
      "4.595648570519132\n",
      "tensor(-127.7370, device='cuda:0', grad_fn=<NegBackward0>) [tensor(-31.8956, device='cuda:0', grad_fn=<NegBackward0>), tensor(-9.6397, device='cuda:0', grad_fn=<NegBackward0>), tensor(-86.2016, device='cuda:0', grad_fn=<AddBackward0>)]\n",
      "4.161299418246576\n",
      "tensor(-120.3698, device='cuda:0', grad_fn=<NegBackward0>) [tensor(-31.8956, device='cuda:0', grad_fn=<NegBackward0>), tensor(-7.2756, device='cuda:0', grad_fn=<NegBackward0>), tensor(-81.1985, device='cuda:0', grad_fn=<AddBackward0>)]\n",
      "4.046787304708314\n",
      "tensor(-130.4322, device='cuda:0', grad_fn=<NegBackward0>) [tensor(-32.0499, device='cuda:0', grad_fn=<NegBackward0>), tensor(-11.2563, device='cuda:0', grad_fn=<NegBackward0>), tensor(-87.1260, device='cuda:0', grad_fn=<AddBackward0>)]\n",
      "4.150465146618949\n",
      "tensor(-121.4228, device='cuda:0', grad_fn=<NegBackward0>) [tensor(-32.0499, device='cuda:0', grad_fn=<NegBackward0>), tensor(-7.4545, device='cuda:0', grad_fn=<NegBackward0>), tensor(-81.9183, device='cuda:0', grad_fn=<AddBackward0>)]\n",
      "4.109636533519692\n",
      "tensor(-126.1646, device='cuda:0', grad_fn=<NegBackward0>) [tensor(-32.1707, device='cuda:0', grad_fn=<NegBackward0>), tensor(-9.8491, device='cuda:0', grad_fn=<NegBackward0>), tensor(-84.1447, device='cuda:0', grad_fn=<AddBackward0>)]\n",
      "4.089578378260639\n",
      "tensor(-127.0529, device='cuda:0', grad_fn=<NegBackward0>) [tensor(-32.1707, device='cuda:0', grad_fn=<NegBackward0>), tensor(-9.7090, device='cuda:0', grad_fn=<NegBackward0>), tensor(-85.1732, device='cuda:0', grad_fn=<AddBackward0>)]\n",
      "4.358694292431928\n",
      "tensor(-129.1732, device='cuda:0', grad_fn=<NegBackward0>) [tensor(-32.2109, device='cuda:0', grad_fn=<NegBackward0>), tensor(-10.2407, device='cuda:0', grad_fn=<NegBackward0>), tensor(-86.7215, device='cuda:0', grad_fn=<AddBackward0>)]\n",
      "4.42837026145012\n",
      "tensor(-124.5944, device='cuda:0', grad_fn=<NegBackward0>) [tensor(-32.2109, device='cuda:0', grad_fn=<NegBackward0>), tensor(-9.0861, device='cuda:0', grad_fn=<NegBackward0>), tensor(-83.2974, device='cuda:0', grad_fn=<AddBackward0>)]\n",
      "4.310638597692282\n",
      "tensor(-122.9059, device='cuda:0', grad_fn=<NegBackward0>) [tensor(-32.1462, device='cuda:0', grad_fn=<NegBackward0>), tensor(-8.0807, device='cuda:0', grad_fn=<NegBackward0>), tensor(-82.6790, device='cuda:0', grad_fn=<AddBackward0>)]\n",
      "4.261352251002286\n",
      "tensor(-124.4359, device='cuda:0', grad_fn=<NegBackward0>) [tensor(-32.1462, device='cuda:0', grad_fn=<NegBackward0>), tensor(-8.7163, device='cuda:0', grad_fn=<NegBackward0>), tensor(-83.5734, device='cuda:0', grad_fn=<AddBackward0>)]\n",
      "3.970014117047311\n",
      "tensor(-123.8868, device='cuda:0', grad_fn=<NegBackward0>) [tensor(-32.2518, device='cuda:0', grad_fn=<NegBackward0>), tensor(-8.6002, device='cuda:0', grad_fn=<NegBackward0>), tensor(-83.0348, device='cuda:0', grad_fn=<AddBackward0>)]\n"
     ]
    },
    {
     "name": "stdout",
     "output_type": "stream",
     "text": [
      "4.085233648622186\n",
      "tensor(-124.0598, device='cuda:0', grad_fn=<NegBackward0>) [tensor(-32.2518, device='cuda:0', grad_fn=<NegBackward0>), tensor(-9.5617, device='cuda:0', grad_fn=<NegBackward0>), tensor(-82.2463, device='cuda:0', grad_fn=<AddBackward0>)]\n",
      "4.445408326486357\n",
      "tensor(-126.1857, device='cuda:0', grad_fn=<NegBackward0>) [tensor(-32.3214, device='cuda:0', grad_fn=<NegBackward0>), tensor(-9.0143, device='cuda:0', grad_fn=<NegBackward0>), tensor(-84.8500, device='cuda:0', grad_fn=<AddBackward0>)]\n",
      "4.229564775239551\n",
      "tensor(-127.1141, device='cuda:0', grad_fn=<NegBackward0>) [tensor(-32.3214, device='cuda:0', grad_fn=<NegBackward0>), tensor(-9.9455, device='cuda:0', grad_fn=<NegBackward0>), tensor(-84.8471, device='cuda:0', grad_fn=<AddBackward0>)]\n",
      "4.22245489957377\n",
      "tensor(-123.2146, device='cuda:0', grad_fn=<NegBackward0>) [tensor(-32.3587, device='cuda:0', grad_fn=<NegBackward0>), tensor(-8.2122, device='cuda:0', grad_fn=<NegBackward0>), tensor(-82.6437, device='cuda:0', grad_fn=<AddBackward0>)]\n",
      "4.084388694756535\n",
      "tensor(-121.6689, device='cuda:0', grad_fn=<NegBackward0>) [tensor(-32.3587, device='cuda:0', grad_fn=<NegBackward0>), tensor(-7.6691, device='cuda:0', grad_fn=<NegBackward0>), tensor(-81.6410, device='cuda:0', grad_fn=<AddBackward0>)]\n",
      "4.0696388281995635\n",
      "tensor(-125.7099, device='cuda:0', grad_fn=<NegBackward0>) [tensor(-32.4709, device='cuda:0', grad_fn=<NegBackward0>), tensor(-9.1239, device='cuda:0', grad_fn=<NegBackward0>), tensor(-84.1152, device='cuda:0', grad_fn=<AddBackward0>)]\n",
      "4.085231095073454\n",
      "tensor(-121.1001, device='cuda:0', grad_fn=<NegBackward0>) [tensor(-32.4709, device='cuda:0', grad_fn=<NegBackward0>), tensor(-6.9759, device='cuda:0', grad_fn=<NegBackward0>), tensor(-81.6534, device='cuda:0', grad_fn=<AddBackward0>)]\n",
      "4.606573418353489\n",
      "tensor(-125.0541, device='cuda:0', grad_fn=<NegBackward0>) [tensor(-32.6377, device='cuda:0', grad_fn=<NegBackward0>), tensor(-7.9829, device='cuda:0', grad_fn=<NegBackward0>), tensor(-84.4335, device='cuda:0', grad_fn=<AddBackward0>)]\n",
      "4.494962715578244\n",
      "tensor(-125.1479, device='cuda:0', grad_fn=<NegBackward0>) [tensor(-32.6377, device='cuda:0', grad_fn=<NegBackward0>), tensor(-8.1049, device='cuda:0', grad_fn=<NegBackward0>), tensor(-84.4054, device='cuda:0', grad_fn=<AddBackward0>)]\n",
      "4.13042282550633\n",
      "tensor(-126.9890, device='cuda:0', grad_fn=<NegBackward0>) [tensor(-32.6567, device='cuda:0', grad_fn=<NegBackward0>), tensor(-9.2038, device='cuda:0', grad_fn=<NegBackward0>), tensor(-85.1285, device='cuda:0', grad_fn=<AddBackward0>)]\n",
      "4.220639097258397\n",
      "tensor(-128.2182, device='cuda:0', grad_fn=<NegBackward0>) [tensor(-32.6567, device='cuda:0', grad_fn=<NegBackward0>), tensor(-10.1180, device='cuda:0', grad_fn=<NegBackward0>), tensor(-85.4435, device='cuda:0', grad_fn=<AddBackward0>)]\n",
      "4.20182579316543\n",
      "tensor(-125.3568, device='cuda:0', grad_fn=<NegBackward0>) [tensor(-32.3422, device='cuda:0', grad_fn=<NegBackward0>), tensor(-9.1445, device='cuda:0', grad_fn=<NegBackward0>), tensor(-83.8700, device='cuda:0', grad_fn=<AddBackward0>)]\n",
      "4.227039209915648\n",
      "tensor(-125.7893, device='cuda:0', grad_fn=<NegBackward0>) [tensor(-32.3422, device='cuda:0', grad_fn=<NegBackward0>), tensor(-9.1615, device='cuda:0', grad_fn=<NegBackward0>), tensor(-84.2856, device='cuda:0', grad_fn=<AddBackward0>)]\n",
      "4.2046973608198766\n",
      "tensor(-122.8491, device='cuda:0', grad_fn=<NegBackward0>) [tensor(-32.1620, device='cuda:0', grad_fn=<NegBackward0>), tensor(-8.2150, device='cuda:0', grad_fn=<NegBackward0>), tensor(-82.4721, device='cuda:0', grad_fn=<AddBackward0>)]\n",
      "4.509900250138264\n",
      "tensor(-127.1736, device='cuda:0', grad_fn=<NegBackward0>) [tensor(-32.1620, device='cuda:0', grad_fn=<NegBackward0>), tensor(-9.4837, device='cuda:0', grad_fn=<NegBackward0>), tensor(-85.5279, device='cuda:0', grad_fn=<AddBackward0>)]\n",
      "4.239517422403341\n",
      "tensor(-122.2688, device='cuda:0', grad_fn=<NegBackward0>) [tensor(-32.4025, device='cuda:0', grad_fn=<NegBackward0>), tensor(-7.9642, device='cuda:0', grad_fn=<NegBackward0>), tensor(-81.9021, device='cuda:0', grad_fn=<AddBackward0>)]\n",
      "4.425131138353228\n",
      "tensor(-127.3449, device='cuda:0', grad_fn=<NegBackward0>) [tensor(-32.4025, device='cuda:0', grad_fn=<NegBackward0>), tensor(-9.9068, device='cuda:0', grad_fn=<NegBackward0>), tensor(-85.0356, device='cuda:0', grad_fn=<AddBackward0>)]\n",
      "4.3013687202454385\n",
      "tensor(-124.2658, device='cuda:0', grad_fn=<NegBackward0>) [tensor(-32.4442, device='cuda:0', grad_fn=<NegBackward0>), tensor(-9.1234, device='cuda:0', grad_fn=<NegBackward0>), tensor(-82.6982, device='cuda:0', grad_fn=<AddBackward0>)]\n",
      "4.3440303503527185\n",
      "tensor(-126.4920, device='cuda:0', grad_fn=<NegBackward0>) [tensor(-32.4442, device='cuda:0', grad_fn=<NegBackward0>), tensor(-9.1674, device='cuda:0', grad_fn=<NegBackward0>), tensor(-84.8804, device='cuda:0', grad_fn=<AddBackward0>)]\n",
      "4.276930102053769\n",
      "tensor(-125.7698, device='cuda:0', grad_fn=<NegBackward0>) [tensor(-32.7000, device='cuda:0', grad_fn=<NegBackward0>), tensor(-8.6282, device='cuda:0', grad_fn=<NegBackward0>), tensor(-84.4417, device='cuda:0', grad_fn=<AddBackward0>)]\n",
      "4.646125468527783\n",
      "tensor(-122.3473, device='cuda:0', grad_fn=<NegBackward0>) [tensor(-32.7000, device='cuda:0', grad_fn=<NegBackward0>), tensor(-6.6734, device='cuda:0', grad_fn=<NegBackward0>), tensor(-82.9738, device='cuda:0', grad_fn=<AddBackward0>)]\n",
      "4.258370991225327\n",
      "tensor(-125.7300, device='cuda:0', grad_fn=<NegBackward0>) [tensor(-33.0417, device='cuda:0', grad_fn=<NegBackward0>), tensor(-8.9525, device='cuda:0', grad_fn=<NegBackward0>), tensor(-83.7359, device='cuda:0', grad_fn=<AddBackward0>)]\n",
      "4.101978291124254\n",
      "tensor(-128.3740, device='cuda:0', grad_fn=<NegBackward0>) [tensor(-33.0417, device='cuda:0', grad_fn=<NegBackward0>), tensor(-9.9390, device='cuda:0', grad_fn=<NegBackward0>), tensor(-85.3933, device='cuda:0', grad_fn=<AddBackward0>)]\n",
      "4.519490219128015\n",
      "tensor(-125.5426, device='cuda:0', grad_fn=<NegBackward0>) [tensor(-33.1400, device='cuda:0', grad_fn=<NegBackward0>), tensor(-8.4152, device='cuda:0', grad_fn=<NegBackward0>), tensor(-83.9875, device='cuda:0', grad_fn=<AddBackward0>)]\n",
      "4.300320343514356\n",
      "tensor(-125.1960, device='cuda:0', grad_fn=<NegBackward0>) [tensor(-33.1400, device='cuda:0', grad_fn=<NegBackward0>), tensor(-8.6100, device='cuda:0', grad_fn=<NegBackward0>), tensor(-83.4461, device='cuda:0', grad_fn=<AddBackward0>)]\n",
      "4.436421429966448\n",
      "tensor(-123.4518, device='cuda:0', grad_fn=<NegBackward0>) [tensor(-33.2749, device='cuda:0', grad_fn=<NegBackward0>), tensor(-7.3587, device='cuda:0', grad_fn=<NegBackward0>), tensor(-82.8181, device='cuda:0', grad_fn=<AddBackward0>)]\n",
      "4.177293508066866\n",
      "tensor(-125.3495, device='cuda:0', grad_fn=<NegBackward0>) [tensor(-33.2749, device='cuda:0', grad_fn=<NegBackward0>), tensor(-8.4424, device='cuda:0', grad_fn=<NegBackward0>), tensor(-83.6321, device='cuda:0', grad_fn=<AddBackward0>)]\n",
      "4.548061966146427\n",
      "tensor(-125.2505, device='cuda:0', grad_fn=<NegBackward0>) [tensor(-33.3158, device='cuda:0', grad_fn=<NegBackward0>), tensor(-8.0818, device='cuda:0', grad_fn=<NegBackward0>), tensor(-83.8528, device='cuda:0', grad_fn=<AddBackward0>)]\n",
      "4.406274996173636\n",
      "tensor(-125.2189, device='cuda:0', grad_fn=<NegBackward0>) [tensor(-33.3158, device='cuda:0', grad_fn=<NegBackward0>), tensor(-8.3185, device='cuda:0', grad_fn=<NegBackward0>), tensor(-83.5846, device='cuda:0', grad_fn=<AddBackward0>)]\n",
      "4.3493381860479925\n",
      "tensor(-127.5952, device='cuda:0', grad_fn=<NegBackward0>) [tensor(-33.3830, device='cuda:0', grad_fn=<NegBackward0>), tensor(-9.4584, device='cuda:0', grad_fn=<NegBackward0>), tensor(-84.7538, device='cuda:0', grad_fn=<AddBackward0>)]\n",
      "4.316282200306329\n",
      "tensor(-126.9648, device='cuda:0', grad_fn=<NegBackward0>) [tensor(-33.3830, device='cuda:0', grad_fn=<NegBackward0>), tensor(-8.8221, device='cuda:0', grad_fn=<NegBackward0>), tensor(-84.7597, device='cuda:0', grad_fn=<AddBackward0>)]\n",
      "4.342362954076026\n",
      "tensor(-129.2404, device='cuda:0', grad_fn=<NegBackward0>) [tensor(-33.5777, device='cuda:0', grad_fn=<NegBackward0>), tensor(-9.5472, device='cuda:0', grad_fn=<NegBackward0>), tensor(-86.1154, device='cuda:0', grad_fn=<AddBackward0>)]\n",
      "3.9250988194890284\n",
      "tensor(-127.2451, device='cuda:0', grad_fn=<NegBackward0>) [tensor(-33.5777, device='cuda:0', grad_fn=<NegBackward0>), tensor(-9.0273, device='cuda:0', grad_fn=<NegBackward0>), tensor(-84.6401, device='cuda:0', grad_fn=<AddBackward0>)]\n"
     ]
    },
    {
     "name": "stdout",
     "output_type": "stream",
     "text": [
      "4.085176886205501\n",
      "tensor(-125.2556, device='cuda:0', grad_fn=<NegBackward0>) [tensor(-33.6065, device='cuda:0', grad_fn=<NegBackward0>), tensor(-8.2613, device='cuda:0', grad_fn=<NegBackward0>), tensor(-83.3878, device='cuda:0', grad_fn=<AddBackward0>)]\n",
      "4.721200821789068\n",
      "tensor(-128.8039, device='cuda:0', grad_fn=<NegBackward0>) [tensor(-33.6065, device='cuda:0', grad_fn=<NegBackward0>), tensor(-8.6970, device='cuda:0', grad_fn=<NegBackward0>), tensor(-86.5004, device='cuda:0', grad_fn=<AddBackward0>)]\n",
      "4.291402134878427\n",
      "tensor(-126.6373, device='cuda:0', grad_fn=<NegBackward0>) [tensor(-33.6585, device='cuda:0', grad_fn=<NegBackward0>), tensor(-8.1317, device='cuda:0', grad_fn=<NegBackward0>), tensor(-84.8472, device='cuda:0', grad_fn=<AddBackward0>)]\n",
      "4.022881523440628\n",
      "tensor(-129.6028, device='cuda:0', grad_fn=<NegBackward0>) [tensor(-33.6585, device='cuda:0', grad_fn=<NegBackward0>), tensor(-9.9178, device='cuda:0', grad_fn=<NegBackward0>), tensor(-86.0265, device='cuda:0', grad_fn=<AddBackward0>)]\n",
      "4.050869035800083\n",
      "tensor(-125.5031, device='cuda:0', grad_fn=<NegBackward0>) [tensor(-33.5795, device='cuda:0', grad_fn=<NegBackward0>), tensor(-8.4907, device='cuda:0', grad_fn=<NegBackward0>), tensor(-83.4328, device='cuda:0', grad_fn=<AddBackward0>)]\n",
      "4.158281756174095\n",
      "tensor(-127.1176, device='cuda:0', grad_fn=<NegBackward0>) [tensor(-33.5795, device='cuda:0', grad_fn=<NegBackward0>), tensor(-8.6998, device='cuda:0', grad_fn=<NegBackward0>), tensor(-84.8383, device='cuda:0', grad_fn=<AddBackward0>)]\n",
      "4.4014546803805565\n",
      "tensor(-130.1028, device='cuda:0', grad_fn=<NegBackward0>) [tensor(-33.6752, device='cuda:0', grad_fn=<NegBackward0>), tensor(-9.3583, device='cuda:0', grad_fn=<NegBackward0>), tensor(-87.0692, device='cuda:0', grad_fn=<AddBackward0>)]\n",
      "4.138212380504079\n",
      "tensor(-125.9413, device='cuda:0', grad_fn=<NegBackward0>) [tensor(-33.6752, device='cuda:0', grad_fn=<NegBackward0>), tensor(-8.2875, device='cuda:0', grad_fn=<NegBackward0>), tensor(-83.9786, device='cuda:0', grad_fn=<AddBackward0>)]\n",
      "4.220891605001965\n",
      "tensor(-127.0191, device='cuda:0', grad_fn=<NegBackward0>) [tensor(-33.5764, device='cuda:0', grad_fn=<NegBackward0>), tensor(-8.7272, device='cuda:0', grad_fn=<NegBackward0>), tensor(-84.7155, device='cuda:0', grad_fn=<AddBackward0>)]\n",
      "4.304873546622957\n",
      "tensor(-128.8135, device='cuda:0', grad_fn=<NegBackward0>) [tensor(-33.5764, device='cuda:0', grad_fn=<NegBackward0>), tensor(-9.5139, device='cuda:0', grad_fn=<NegBackward0>), tensor(-85.7231, device='cuda:0', grad_fn=<AddBackward0>)]\n",
      "4.01474765381421\n",
      "tensor(-127.2664, device='cuda:0', grad_fn=<NegBackward0>) [tensor(-33.4852, device='cuda:0', grad_fn=<NegBackward0>), tensor(-9.6194, device='cuda:0', grad_fn=<NegBackward0>), tensor(-84.1618, device='cuda:0', grad_fn=<AddBackward0>)]\n",
      "4.285359177286168\n",
      "tensor(-128.7089, device='cuda:0', grad_fn=<NegBackward0>) [tensor(-33.4852, device='cuda:0', grad_fn=<NegBackward0>), tensor(-9.4825, device='cuda:0', grad_fn=<NegBackward0>), tensor(-85.7411, device='cuda:0', grad_fn=<AddBackward0>)]\n",
      "4.337060701908664\n",
      "tensor(-125.7681, device='cuda:0', grad_fn=<NegBackward0>) [tensor(-33.5886, device='cuda:0', grad_fn=<NegBackward0>), tensor(-8.3621, device='cuda:0', grad_fn=<NegBackward0>), tensor(-83.8173, device='cuda:0', grad_fn=<AddBackward0>)]\n",
      "4.265350918936368\n",
      "tensor(-131.0706, device='cuda:0', grad_fn=<NegBackward0>) [tensor(-33.5886, device='cuda:0', grad_fn=<NegBackward0>), tensor(-10.8292, device='cuda:0', grad_fn=<NegBackward0>), tensor(-86.6528, device='cuda:0', grad_fn=<AddBackward0>)]\n",
      "4.010633457229688\n",
      "tensor(-125.1030, device='cuda:0', grad_fn=<NegBackward0>) [tensor(-33.6778, device='cuda:0', grad_fn=<NegBackward0>), tensor(-7.9830, device='cuda:0', grad_fn=<NegBackward0>), tensor(-83.4422, device='cuda:0', grad_fn=<AddBackward0>)]\n",
      "4.712159315363926\n",
      "tensor(-122.7666, device='cuda:0', grad_fn=<NegBackward0>) [tensor(-33.6778, device='cuda:0', grad_fn=<NegBackward0>), tensor(-6.6749, device='cuda:0', grad_fn=<NegBackward0>), tensor(-82.4138, device='cuda:0', grad_fn=<AddBackward0>)]\n",
      "3.914437830342072\n",
      "tensor(-123.7591, device='cuda:0', grad_fn=<NegBackward0>) [tensor(-33.9415, device='cuda:0', grad_fn=<NegBackward0>), tensor(-7.8733, device='cuda:0', grad_fn=<NegBackward0>), tensor(-81.9443, device='cuda:0', grad_fn=<AddBackward0>)]\n",
      "4.474196804267826\n",
      "tensor(-126.9408, device='cuda:0', grad_fn=<NegBackward0>) [tensor(-33.9415, device='cuda:0', grad_fn=<NegBackward0>), tensor(-8.2405, device='cuda:0', grad_fn=<NegBackward0>), tensor(-84.7589, device='cuda:0', grad_fn=<AddBackward0>)]\n",
      "4.175628383754517\n",
      "tensor(-129.5918, device='cuda:0', grad_fn=<NegBackward0>) [tensor(-34.2480, device='cuda:0', grad_fn=<NegBackward0>), tensor(-9.5385, device='cuda:0', grad_fn=<NegBackward0>), tensor(-85.8054, device='cuda:0', grad_fn=<AddBackward0>)]\n",
      "4.093969529729561\n",
      "tensor(-133.0509, device='cuda:0', grad_fn=<NegBackward0>) [tensor(-34.2480, device='cuda:0', grad_fn=<NegBackward0>), tensor(-11.0986, device='cuda:0', grad_fn=<NegBackward0>), tensor(-87.7043, device='cuda:0', grad_fn=<AddBackward0>)]\n",
      "4.521414234913455\n",
      "tensor(-123.7872, device='cuda:0', grad_fn=<NegBackward0>) [tensor(-34.0154, device='cuda:0', grad_fn=<NegBackward0>), tensor(-6.8581, device='cuda:0', grad_fn=<NegBackward0>), tensor(-82.9137, device='cuda:0', grad_fn=<AddBackward0>)]\n",
      "3.911519937086373\n",
      "tensor(-125.1265, device='cuda:0', grad_fn=<NegBackward0>) [tensor(-34.0154, device='cuda:0', grad_fn=<NegBackward0>), tensor(-8.2326, device='cuda:0', grad_fn=<NegBackward0>), tensor(-82.8785, device='cuda:0', grad_fn=<AddBackward0>)]\n",
      "3.7821439624932083\n",
      "tensor(-128.3489, device='cuda:0', grad_fn=<NegBackward0>) [tensor(-34.0328, device='cuda:0', grad_fn=<NegBackward0>), tensor(-9.9402, device='cuda:0', grad_fn=<NegBackward0>), tensor(-84.3759, device='cuda:0', grad_fn=<AddBackward0>)]\n",
      "4.66332954391768\n",
      "tensor(-127.8775, device='cuda:0', grad_fn=<NegBackward0>) [tensor(-34.0328, device='cuda:0', grad_fn=<NegBackward0>), tensor(-8.6368, device='cuda:0', grad_fn=<NegBackward0>), tensor(-85.2079, device='cuda:0', grad_fn=<AddBackward0>)]\n",
      "4.971205266908131\n",
      "tensor(-125.7629, device='cuda:0', grad_fn=<NegBackward0>) [tensor(-34.0320, device='cuda:0', grad_fn=<NegBackward0>), tensor(-7.2592, device='cuda:0', grad_fn=<NegBackward0>), tensor(-84.4717, device='cuda:0', grad_fn=<AddBackward0>)]\n",
      "4.52875799117051\n",
      "tensor(-127.8724, device='cuda:0', grad_fn=<NegBackward0>) [tensor(-34.0320, device='cuda:0', grad_fn=<NegBackward0>), tensor(-8.5951, device='cuda:0', grad_fn=<NegBackward0>), tensor(-85.2453, device='cuda:0', grad_fn=<AddBackward0>)]\n",
      "4.277037446816884\n",
      "tensor(-130.1526, device='cuda:0', grad_fn=<NegBackward0>) [tensor(-34.3530, device='cuda:0', grad_fn=<NegBackward0>), tensor(-9.0142, device='cuda:0', grad_fn=<NegBackward0>), tensor(-86.7855, device='cuda:0', grad_fn=<AddBackward0>)]\n",
      "4.20268298931599\n",
      "tensor(-126.7011, device='cuda:0', grad_fn=<NegBackward0>) [tensor(-34.3530, device='cuda:0', grad_fn=<NegBackward0>), tensor(-7.6409, device='cuda:0', grad_fn=<NegBackward0>), tensor(-84.7072, device='cuda:0', grad_fn=<AddBackward0>)]\n",
      "4.453347147347024\n",
      "tensor(-129.2311, device='cuda:0', grad_fn=<NegBackward0>) [tensor(-34.4245, device='cuda:0', grad_fn=<NegBackward0>), tensor(-8.9011, device='cuda:0', grad_fn=<NegBackward0>), tensor(-85.9055, device='cuda:0', grad_fn=<AddBackward0>)]\n",
      "4.609472474085298\n",
      "tensor(-128.8752, device='cuda:0', grad_fn=<NegBackward0>) [tensor(-34.4245, device='cuda:0', grad_fn=<NegBackward0>), tensor(-8.4905, device='cuda:0', grad_fn=<NegBackward0>), tensor(-85.9603, device='cuda:0', grad_fn=<AddBackward0>)]\n",
      "4.144962414734548\n",
      "tensor(-131.8286, device='cuda:0', grad_fn=<NegBackward0>) [tensor(-34.6789, device='cuda:0', grad_fn=<NegBackward0>), tensor(-10.3389, device='cuda:0', grad_fn=<NegBackward0>), tensor(-86.8109, device='cuda:0', grad_fn=<AddBackward0>)]\n",
      "4.102052520542778\n",
      "tensor(-129.2286, device='cuda:0', grad_fn=<NegBackward0>) [tensor(-34.6789, device='cuda:0', grad_fn=<NegBackward0>), tensor(-9.2247, device='cuda:0', grad_fn=<NegBackward0>), tensor(-85.3250, device='cuda:0', grad_fn=<AddBackward0>)]\n",
      "4.388011080318084\n",
      "tensor(-126.5155, device='cuda:0', grad_fn=<NegBackward0>) [tensor(-34.7258, device='cuda:0', grad_fn=<NegBackward0>), tensor(-7.5819, device='cuda:0', grad_fn=<NegBackward0>), tensor(-84.2078, device='cuda:0', grad_fn=<AddBackward0>)]\n"
     ]
    },
    {
     "name": "stdout",
     "output_type": "stream",
     "text": [
      "4.18129093371462\n",
      "tensor(-129.0390, device='cuda:0', grad_fn=<NegBackward0>) [tensor(-34.7258, device='cuda:0', grad_fn=<NegBackward0>), tensor(-8.9620, device='cuda:0', grad_fn=<NegBackward0>), tensor(-85.3512, device='cuda:0', grad_fn=<AddBackward0>)]\n",
      "4.646579870979254\n",
      "tensor(-127.1761, device='cuda:0', grad_fn=<NegBackward0>) [tensor(-34.7522, device='cuda:0', grad_fn=<NegBackward0>), tensor(-7.9118, device='cuda:0', grad_fn=<NegBackward0>), tensor(-84.5122, device='cuda:0', grad_fn=<AddBackward0>)]\n",
      "4.251368514324834\n",
      "tensor(-131.6803, device='cuda:0', grad_fn=<NegBackward0>) [tensor(-34.7522, device='cuda:0', grad_fn=<NegBackward0>), tensor(-10.2137, device='cuda:0', grad_fn=<NegBackward0>), tensor(-86.7144, device='cuda:0', grad_fn=<AddBackward0>)]\n",
      "4.550933396395052\n",
      "tensor(-132.3786, device='cuda:0', grad_fn=<NegBackward0>) [tensor(-34.6467, device='cuda:0', grad_fn=<NegBackward0>), tensor(-9.7437, device='cuda:0', grad_fn=<NegBackward0>), tensor(-87.9882, device='cuda:0', grad_fn=<AddBackward0>)]\n",
      "5.301183872952641\n",
      "tensor(-126.7967, device='cuda:0', grad_fn=<NegBackward0>) [tensor(-34.6467, device='cuda:0', grad_fn=<NegBackward0>), tensor(-7.2894, device='cuda:0', grad_fn=<NegBackward0>), tensor(-84.8606, device='cuda:0', grad_fn=<AddBackward0>)]\n",
      "4.077239208806546\n",
      "tensor(-128.6089, device='cuda:0', grad_fn=<NegBackward0>) [tensor(-34.8860, device='cuda:0', grad_fn=<NegBackward0>), tensor(-9.4119, device='cuda:0', grad_fn=<NegBackward0>), tensor(-84.3109, device='cuda:0', grad_fn=<AddBackward0>)]\n",
      "4.398257265861331\n",
      "tensor(-128.8223, device='cuda:0', grad_fn=<NegBackward0>) [tensor(-34.8860, device='cuda:0', grad_fn=<NegBackward0>), tensor(-8.0642, device='cuda:0', grad_fn=<NegBackward0>), tensor(-85.8721, device='cuda:0', grad_fn=<AddBackward0>)]\n",
      "4.314669825274253\n",
      "tensor(-130.3206, device='cuda:0', grad_fn=<NegBackward0>) [tensor(-34.9500, device='cuda:0', grad_fn=<NegBackward0>), tensor(-9.2057, device='cuda:0', grad_fn=<NegBackward0>), tensor(-86.1649, device='cuda:0', grad_fn=<AddBackward0>)]\n",
      "4.256199066278902\n",
      "tensor(-126.5331, device='cuda:0', grad_fn=<NegBackward0>) [tensor(-34.9500, device='cuda:0', grad_fn=<NegBackward0>), tensor(-7.3249, device='cuda:0', grad_fn=<NegBackward0>), tensor(-84.2582, device='cuda:0', grad_fn=<AddBackward0>)]\n",
      "4.483728889820239\n",
      "tensor(-132.6007, device='cuda:0', grad_fn=<NegBackward0>) [tensor(-35.1320, device='cuda:0', grad_fn=<NegBackward0>), tensor(-9.7353, device='cuda:0', grad_fn=<NegBackward0>), tensor(-87.7335, device='cuda:0', grad_fn=<AddBackward0>)]\n",
      "4.483643176441032\n",
      "tensor(-133.2832, device='cuda:0', grad_fn=<NegBackward0>) [tensor(-35.1320, device='cuda:0', grad_fn=<NegBackward0>), tensor(-10.0735, device='cuda:0', grad_fn=<NegBackward0>), tensor(-88.0778, device='cuda:0', grad_fn=<AddBackward0>)]\n",
      "4.244571353219361\n",
      "tensor(-130.1414, device='cuda:0', grad_fn=<NegBackward0>) [tensor(-34.9449, device='cuda:0', grad_fn=<NegBackward0>), tensor(-9.0814, device='cuda:0', grad_fn=<NegBackward0>), tensor(-86.1151, device='cuda:0', grad_fn=<AddBackward0>)]\n",
      "4.240253730112302\n",
      "tensor(-129.5175, device='cuda:0', grad_fn=<NegBackward0>) [tensor(-34.9449, device='cuda:0', grad_fn=<NegBackward0>), tensor(-8.4813, device='cuda:0', grad_fn=<NegBackward0>), tensor(-86.0914, device='cuda:0', grad_fn=<AddBackward0>)]\n",
      "4.418758108585914\n",
      "tensor(-128.9407, device='cuda:0', grad_fn=<NegBackward0>) [tensor(-34.7438, device='cuda:0', grad_fn=<NegBackward0>), tensor(-8.8639, device='cuda:0', grad_fn=<NegBackward0>), tensor(-85.3330, device='cuda:0', grad_fn=<AddBackward0>)]\n",
      "4.159223468100573\n",
      "tensor(-124.1109, device='cuda:0', grad_fn=<NegBackward0>) [tensor(-34.7438, device='cuda:0', grad_fn=<NegBackward0>), tensor(-6.6728, device='cuda:0', grad_fn=<NegBackward0>), tensor(-82.6943, device='cuda:0', grad_fn=<AddBackward0>)]\n",
      "4.192768785006402\n",
      "tensor(-126.0086, device='cuda:0', grad_fn=<NegBackward0>) [tensor(-34.9672, device='cuda:0', grad_fn=<NegBackward0>), tensor(-7.5904, device='cuda:0', grad_fn=<NegBackward0>), tensor(-83.4510, device='cuda:0', grad_fn=<AddBackward0>)]\n",
      "4.574352583463327\n",
      "tensor(-131.2666, device='cuda:0', grad_fn=<NegBackward0>) [tensor(-34.9672, device='cuda:0', grad_fn=<NegBackward0>), tensor(-9.2656, device='cuda:0', grad_fn=<NegBackward0>), tensor(-87.0338, device='cuda:0', grad_fn=<AddBackward0>)]\n",
      "4.1138577359293\n",
      "tensor(-126.0369, device='cuda:0', grad_fn=<NegBackward0>) [tensor(-34.8602, device='cuda:0', grad_fn=<NegBackward0>), tensor(-7.4149, device='cuda:0', grad_fn=<NegBackward0>), tensor(-83.7618, device='cuda:0', grad_fn=<AddBackward0>)]\n",
      "4.513176950041418\n",
      "tensor(-130.9836, device='cuda:0', grad_fn=<NegBackward0>) [tensor(-34.8602, device='cuda:0', grad_fn=<NegBackward0>), tensor(-8.8282, device='cuda:0', grad_fn=<NegBackward0>), tensor(-87.2953, device='cuda:0', grad_fn=<AddBackward0>)]\n",
      "4.26117740941316\n",
      "tensor(-128.2155, device='cuda:0', grad_fn=<NegBackward0>) [tensor(-34.6610, device='cuda:0', grad_fn=<NegBackward0>), tensor(-8.0794, device='cuda:0', grad_fn=<NegBackward0>), tensor(-85.4751, device='cuda:0', grad_fn=<AddBackward0>)]\n",
      "4.234836690180779\n",
      "tensor(-132.7570, device='cuda:0', grad_fn=<NegBackward0>) [tensor(-34.6610, device='cuda:0', grad_fn=<NegBackward0>), tensor(-9.8534, device='cuda:0', grad_fn=<NegBackward0>), tensor(-88.2426, device='cuda:0', grad_fn=<AddBackward0>)]\n",
      "4.382961671219649\n",
      "tensor(-126.1967, device='cuda:0', grad_fn=<NegBackward0>) [tensor(-34.5566, device='cuda:0', grad_fn=<NegBackward0>), tensor(-7.6980, device='cuda:0', grad_fn=<NegBackward0>), tensor(-83.9421, device='cuda:0', grad_fn=<AddBackward0>)]\n",
      "4.735579977557917\n",
      "tensor(-129.1596, device='cuda:0', grad_fn=<NegBackward0>) [tensor(-34.5566, device='cuda:0', grad_fn=<NegBackward0>), tensor(-8.6588, device='cuda:0', grad_fn=<NegBackward0>), tensor(-85.9442, device='cuda:0', grad_fn=<AddBackward0>)]\n",
      "4.329039267691312\n",
      "tensor(-123.1636, device='cuda:0', grad_fn=<NegBackward0>) [tensor(-34.5234, device='cuda:0', grad_fn=<NegBackward0>), tensor(-6.4503, device='cuda:0', grad_fn=<NegBackward0>), tensor(-82.1899, device='cuda:0', grad_fn=<AddBackward0>)]\n",
      "4.318835083117834\n",
      "tensor(-126.8049, device='cuda:0', grad_fn=<NegBackward0>) [tensor(-34.5234, device='cuda:0', grad_fn=<NegBackward0>), tensor(-7.8813, device='cuda:0', grad_fn=<NegBackward0>), tensor(-84.4002, device='cuda:0', grad_fn=<AddBackward0>)]\n",
      "4.32011760549653\n",
      "tensor(-127.7278, device='cuda:0', grad_fn=<NegBackward0>) [tensor(-34.5679, device='cuda:0', grad_fn=<NegBackward0>), tensor(-8.2352, device='cuda:0', grad_fn=<NegBackward0>), tensor(-84.9247, device='cuda:0', grad_fn=<AddBackward0>)]\n",
      "4.244105453740823\n",
      "tensor(-127.9845, device='cuda:0', grad_fn=<NegBackward0>) [tensor(-34.5679, device='cuda:0', grad_fn=<NegBackward0>), tensor(-8.2885, device='cuda:0', grad_fn=<NegBackward0>), tensor(-85.1281, device='cuda:0', grad_fn=<AddBackward0>)]\n",
      "4.644144626639015\n",
      "tensor(-127.4165, device='cuda:0', grad_fn=<NegBackward0>) [tensor(-34.8735, device='cuda:0', grad_fn=<NegBackward0>), tensor(-7.7428, device='cuda:0', grad_fn=<NegBackward0>), tensor(-84.8001, device='cuda:0', grad_fn=<AddBackward0>)]\n",
      "3.9760282676708165\n",
      "tensor(-128.2820, device='cuda:0', grad_fn=<NegBackward0>) [tensor(-34.8735, device='cuda:0', grad_fn=<NegBackward0>), tensor(-8.6198, device='cuda:0', grad_fn=<NegBackward0>), tensor(-84.7887, device='cuda:0', grad_fn=<AddBackward0>)]\n",
      "3.9831932834138013\n",
      "tensor(-128.4882, device='cuda:0', grad_fn=<NegBackward0>) [tensor(-35.0377, device='cuda:0', grad_fn=<NegBackward0>), tensor(-9.0236, device='cuda:0', grad_fn=<NegBackward0>), tensor(-84.4268, device='cuda:0', grad_fn=<AddBackward0>)]\n",
      "3.9368943349168335\n",
      "tensor(-131.1724, device='cuda:0', grad_fn=<NegBackward0>) [tensor(-35.0377, device='cuda:0', grad_fn=<NegBackward0>), tensor(-10.0742, device='cuda:0', grad_fn=<NegBackward0>), tensor(-86.0605, device='cuda:0', grad_fn=<AddBackward0>)]\n",
      "4.060955564503341\n",
      "tensor(-130.8673, device='cuda:0', grad_fn=<NegBackward0>) [tensor(-35.0662, device='cuda:0', grad_fn=<NegBackward0>), tensor(-9.7557, device='cuda:0', grad_fn=<NegBackward0>), tensor(-86.0455, device='cuda:0', grad_fn=<AddBackward0>)]\n",
      "4.244570377763746\n",
      "tensor(-129.5408, device='cuda:0', grad_fn=<NegBackward0>) [tensor(-35.0662, device='cuda:0', grad_fn=<NegBackward0>), tensor(-9.3087, device='cuda:0', grad_fn=<NegBackward0>), tensor(-85.1659, device='cuda:0', grad_fn=<AddBackward0>)]\n"
     ]
    },
    {
     "name": "stdout",
     "output_type": "stream",
     "text": [
      "3.90022684185906\n",
      "tensor(-132.2363, device='cuda:0', grad_fn=<NegBackward0>) [tensor(-35.0493, device='cuda:0', grad_fn=<NegBackward0>), tensor(-10.1917, device='cuda:0', grad_fn=<NegBackward0>), tensor(-86.9953, device='cuda:0', grad_fn=<AddBackward0>)]\n",
      "4.042702979387365\n",
      "tensor(-132.1880, device='cuda:0', grad_fn=<NegBackward0>) [tensor(-35.0493, device='cuda:0', grad_fn=<NegBackward0>), tensor(-10.0366, device='cuda:0', grad_fn=<NegBackward0>), tensor(-87.1021, device='cuda:0', grad_fn=<AddBackward0>)]\n",
      "3.9536813484327427\n",
      "tensor(-132.5744, device='cuda:0', grad_fn=<NegBackward0>) [tensor(-35.0206, device='cuda:0', grad_fn=<NegBackward0>), tensor(-10.7443, device='cuda:0', grad_fn=<NegBackward0>), tensor(-86.8095, device='cuda:0', grad_fn=<AddBackward0>)]\n",
      "4.313752136798943\n",
      "tensor(-126.8839, device='cuda:0', grad_fn=<NegBackward0>) [tensor(-35.0206, device='cuda:0', grad_fn=<NegBackward0>), tensor(-7.5892, device='cuda:0', grad_fn=<NegBackward0>), tensor(-84.2741, device='cuda:0', grad_fn=<AddBackward0>)]\n",
      "3.9174075044380414\n",
      "tensor(-128.3781, device='cuda:0', grad_fn=<NegBackward0>) [tensor(-35.1797, device='cuda:0', grad_fn=<NegBackward0>), tensor(-8.4763, device='cuda:0', grad_fn=<NegBackward0>), tensor(-84.7222, device='cuda:0', grad_fn=<AddBackward0>)]\n",
      "3.7825092185956315\n",
      "tensor(-129.9493, device='cuda:0', grad_fn=<NegBackward0>) [tensor(-35.1797, device='cuda:0', grad_fn=<NegBackward0>), tensor(-9.8361, device='cuda:0', grad_fn=<NegBackward0>), tensor(-84.9336, device='cuda:0', grad_fn=<AddBackward0>)]\n",
      "4.11777783816597\n",
      "tensor(-128.1661, device='cuda:0', grad_fn=<NegBackward0>) [tensor(-34.9870, device='cuda:0', grad_fn=<NegBackward0>), tensor(-8.6195, device='cuda:0', grad_fn=<NegBackward0>), tensor(-84.5595, device='cuda:0', grad_fn=<AddBackward0>)]\n",
      "3.9222100464943965\n",
      "tensor(-128.9520, device='cuda:0', grad_fn=<NegBackward0>) [tensor(-34.9870, device='cuda:0', grad_fn=<NegBackward0>), tensor(-8.9059, device='cuda:0', grad_fn=<NegBackward0>), tensor(-85.0591, device='cuda:0', grad_fn=<AddBackward0>)]\n",
      "3.8467670692545353\n",
      "tensor(-125.6544, device='cuda:0', grad_fn=<NegBackward0>) [tensor(-35.0978, device='cuda:0', grad_fn=<NegBackward0>), tensor(-7.7045, device='cuda:0', grad_fn=<NegBackward0>), tensor(-82.8521, device='cuda:0', grad_fn=<AddBackward0>)]\n",
      "3.846637248952158\n",
      "tensor(-129.6557, device='cuda:0', grad_fn=<NegBackward0>) [tensor(-35.0978, device='cuda:0', grad_fn=<NegBackward0>), tensor(-9.4041, device='cuda:0', grad_fn=<NegBackward0>), tensor(-85.1538, device='cuda:0', grad_fn=<AddBackward0>)]\n",
      "4.228231947313837\n",
      "tensor(-132.4845, device='cuda:0', grad_fn=<NegBackward0>) [tensor(-34.8869, device='cuda:0', grad_fn=<NegBackward0>), tensor(-10.4875, device='cuda:0', grad_fn=<NegBackward0>), tensor(-87.1100, device='cuda:0', grad_fn=<AddBackward0>)]\n",
      "4.195416547376764\n",
      "tensor(-131.0612, device='cuda:0', grad_fn=<NegBackward0>) [tensor(-34.8869, device='cuda:0', grad_fn=<NegBackward0>), tensor(-9.7652, device='cuda:0', grad_fn=<NegBackward0>), tensor(-86.4091, device='cuda:0', grad_fn=<AddBackward0>)]\n",
      "3.962803363298233\n",
      "tensor(-129.2445, device='cuda:0', grad_fn=<NegBackward0>) [tensor(-34.9887, device='cuda:0', grad_fn=<NegBackward0>), tensor(-8.9048, device='cuda:0', grad_fn=<NegBackward0>), tensor(-85.3510, device='cuda:0', grad_fn=<AddBackward0>)]\n",
      "4.368792098069531\n",
      "tensor(-125.5288, device='cuda:0', grad_fn=<NegBackward0>) [tensor(-34.9887, device='cuda:0', grad_fn=<NegBackward0>), tensor(-7.4805, device='cuda:0', grad_fn=<NegBackward0>), tensor(-83.0595, device='cuda:0', grad_fn=<AddBackward0>)]\n",
      "4.155650045616052\n",
      "tensor(-132.1970, device='cuda:0', grad_fn=<NegBackward0>) [tensor(-35.3241, device='cuda:0', grad_fn=<NegBackward0>), tensor(-9.7447, device='cuda:0', grad_fn=<NegBackward0>), tensor(-87.1282, device='cuda:0', grad_fn=<AddBackward0>)]\n",
      "4.913317546338987\n",
      "tensor(-135.3193, device='cuda:0', grad_fn=<NegBackward0>) [tensor(-35.3241, device='cuda:0', grad_fn=<NegBackward0>), tensor(-10.1044, device='cuda:0', grad_fn=<NegBackward0>), tensor(-89.8908, device='cuda:0', grad_fn=<AddBackward0>)]\n",
      "3.9545052373550087\n",
      "tensor(-128.1839, device='cuda:0', grad_fn=<NegBackward0>) [tensor(-35.3966, device='cuda:0', grad_fn=<NegBackward0>), tensor(-8.6731, device='cuda:0', grad_fn=<NegBackward0>), tensor(-84.1142, device='cuda:0', grad_fn=<AddBackward0>)]\n",
      "4.372273882966843\n",
      "tensor(-131.0067, device='cuda:0', grad_fn=<NegBackward0>) [tensor(-35.3966, device='cuda:0', grad_fn=<NegBackward0>), tensor(-8.8079, device='cuda:0', grad_fn=<NegBackward0>), tensor(-86.8021, device='cuda:0', grad_fn=<AddBackward0>)]\n",
      "3.885681431590909\n",
      "tensor(-134.9053, device='cuda:0', grad_fn=<NegBackward0>) [tensor(-35.6153, device='cuda:0', grad_fn=<NegBackward0>), tensor(-11.2352, device='cuda:0', grad_fn=<NegBackward0>), tensor(-88.0547, device='cuda:0', grad_fn=<AddBackward0>)]\n",
      "4.332103260676448\n",
      "tensor(-135.8223, device='cuda:0', grad_fn=<NegBackward0>) [tensor(-35.6153, device='cuda:0', grad_fn=<NegBackward0>), tensor(-10.6051, device='cuda:0', grad_fn=<NegBackward0>), tensor(-89.6019, device='cuda:0', grad_fn=<AddBackward0>)]\n",
      "4.364850408503949\n",
      "tensor(-131.6385, device='cuda:0', grad_fn=<NegBackward0>) [tensor(-35.4949, device='cuda:0', grad_fn=<NegBackward0>), tensor(-9.2737, device='cuda:0', grad_fn=<NegBackward0>), tensor(-86.8699, device='cuda:0', grad_fn=<AddBackward0>)]\n",
      "4.558128097899421\n",
      "tensor(-134.1433, device='cuda:0', grad_fn=<NegBackward0>) [tensor(-35.4949, device='cuda:0', grad_fn=<NegBackward0>), tensor(-10.1267, device='cuda:0', grad_fn=<NegBackward0>), tensor(-88.5218, device='cuda:0', grad_fn=<AddBackward0>)]\n",
      "4.549453244477358\n",
      "tensor(-128.7663, device='cuda:0', grad_fn=<NegBackward0>) [tensor(-35.4800, device='cuda:0', grad_fn=<NegBackward0>), tensor(-7.9461, device='cuda:0', grad_fn=<NegBackward0>), tensor(-85.3402, device='cuda:0', grad_fn=<AddBackward0>)]\n",
      "4.020359013625914\n",
      "tensor(-131.8778, device='cuda:0', grad_fn=<NegBackward0>) [tensor(-35.4800, device='cuda:0', grad_fn=<NegBackward0>), tensor(-9.7350, device='cuda:0', grad_fn=<NegBackward0>), tensor(-86.6628, device='cuda:0', grad_fn=<AddBackward0>)]\n",
      "4.19557239209911\n",
      "tensor(-131.0788, device='cuda:0', grad_fn=<NegBackward0>) [tensor(-35.5995, device='cuda:0', grad_fn=<NegBackward0>), tensor(-9.1774, device='cuda:0', grad_fn=<NegBackward0>), tensor(-86.3018, device='cuda:0', grad_fn=<AddBackward0>)]\n",
      "4.610048060130683\n",
      "tensor(-131.4768, device='cuda:0', grad_fn=<NegBackward0>) [tensor(-35.5995, device='cuda:0', grad_fn=<NegBackward0>), tensor(-8.7772, device='cuda:0', grad_fn=<NegBackward0>), tensor(-87.1001, device='cuda:0', grad_fn=<AddBackward0>)]\n",
      "4.502178418322398\n",
      "tensor(-128.2673, device='cuda:0', grad_fn=<NegBackward0>) [tensor(-35.7179, device='cuda:0', grad_fn=<NegBackward0>), tensor(-7.3778, device='cuda:0', grad_fn=<NegBackward0>), tensor(-85.1715, device='cuda:0', grad_fn=<AddBackward0>)]\n",
      "4.3535161447939705\n",
      "tensor(-131.5719, device='cuda:0', grad_fn=<NegBackward0>) [tensor(-35.7179, device='cuda:0', grad_fn=<NegBackward0>), tensor(-8.8597, device='cuda:0', grad_fn=<NegBackward0>), tensor(-86.9943, device='cuda:0', grad_fn=<AddBackward0>)]\n",
      "4.254665493619656\n",
      "tensor(-129.4785, device='cuda:0', grad_fn=<NegBackward0>) [tensor(-35.7737, device='cuda:0', grad_fn=<NegBackward0>), tensor(-8.1243, device='cuda:0', grad_fn=<NegBackward0>), tensor(-85.5805, device='cuda:0', grad_fn=<AddBackward0>)]\n",
      "4.379779234458499\n",
      "tensor(-134.5353, device='cuda:0', grad_fn=<NegBackward0>) [tensor(-35.7737, device='cuda:0', grad_fn=<NegBackward0>), tensor(-10.1485, device='cuda:0', grad_fn=<NegBackward0>), tensor(-88.6132, device='cuda:0', grad_fn=<AddBackward0>)]\n",
      "3.865604943461398\n",
      "tensor(-132.1420, device='cuda:0', grad_fn=<NegBackward0>) [tensor(-35.7029, device='cuda:0', grad_fn=<NegBackward0>), tensor(-9.6777, device='cuda:0', grad_fn=<NegBackward0>), tensor(-86.7613, device='cuda:0', grad_fn=<AddBackward0>)]\n",
      "3.932301481427543\n",
      "tensor(-130.8156, device='cuda:0', grad_fn=<NegBackward0>) [tensor(-35.7029, device='cuda:0', grad_fn=<NegBackward0>), tensor(-9.7412, device='cuda:0', grad_fn=<NegBackward0>), tensor(-85.3714, device='cuda:0', grad_fn=<AddBackward0>)]\n",
      "4.125001129233254\n",
      "tensor(-126.0441, device='cuda:0', grad_fn=<NegBackward0>) [tensor(-35.4760, device='cuda:0', grad_fn=<NegBackward0>), tensor(-6.9105, device='cuda:0', grad_fn=<NegBackward0>), tensor(-83.6576, device='cuda:0', grad_fn=<AddBackward0>)]\n"
     ]
    },
    {
     "name": "stdout",
     "output_type": "stream",
     "text": [
      "4.604757467646493\n",
      "tensor(-128.8904, device='cuda:0', grad_fn=<NegBackward0>) [tensor(-35.4760, device='cuda:0', grad_fn=<NegBackward0>), tensor(-7.8940, device='cuda:0', grad_fn=<NegBackward0>), tensor(-85.5204, device='cuda:0', grad_fn=<AddBackward0>)]\n",
      "4.558913829020855\n",
      "tensor(-130.0855, device='cuda:0', grad_fn=<NegBackward0>) [tensor(-35.6420, device='cuda:0', grad_fn=<NegBackward0>), tensor(-8.0971, device='cuda:0', grad_fn=<NegBackward0>), tensor(-86.3465, device='cuda:0', grad_fn=<AddBackward0>)]\n",
      "4.110373224902888\n",
      "tensor(-134.7607, device='cuda:0', grad_fn=<NegBackward0>) [tensor(-35.6420, device='cuda:0', grad_fn=<NegBackward0>), tensor(-10.4565, device='cuda:0', grad_fn=<NegBackward0>), tensor(-88.6622, device='cuda:0', grad_fn=<AddBackward0>)]\n",
      "4.3735561516857455\n",
      "tensor(-127.9043, device='cuda:0', grad_fn=<NegBackward0>) [tensor(-35.4650, device='cuda:0', grad_fn=<NegBackward0>), tensor(-7.6869, device='cuda:0', grad_fn=<NegBackward0>), tensor(-84.7525, device='cuda:0', grad_fn=<AddBackward0>)]\n",
      "4.1651522024382714\n",
      "tensor(-131.4716, device='cuda:0', grad_fn=<NegBackward0>) [tensor(-35.4650, device='cuda:0', grad_fn=<NegBackward0>), tensor(-9.4838, device='cuda:0', grad_fn=<NegBackward0>), tensor(-86.5228, device='cuda:0', grad_fn=<AddBackward0>)]\n",
      "4.518244466917408\n",
      "tensor(-129.5306, device='cuda:0', grad_fn=<NegBackward0>) [tensor(-35.7077, device='cuda:0', grad_fn=<NegBackward0>), tensor(-8.0147, device='cuda:0', grad_fn=<NegBackward0>), tensor(-85.8083, device='cuda:0', grad_fn=<AddBackward0>)]\n",
      "4.017848679679664\n",
      "tensor(-132.0400, device='cuda:0', grad_fn=<NegBackward0>) [tensor(-35.7077, device='cuda:0', grad_fn=<NegBackward0>), tensor(-10.2726, device='cuda:0', grad_fn=<NegBackward0>), tensor(-86.0596, device='cuda:0', grad_fn=<AddBackward0>)]\n",
      "4.368738010230662\n",
      "tensor(-128.2573, device='cuda:0', grad_fn=<NegBackward0>) [tensor(-35.7099, device='cuda:0', grad_fn=<NegBackward0>), tensor(-7.9106, device='cuda:0', grad_fn=<NegBackward0>), tensor(-84.6368, device='cuda:0', grad_fn=<AddBackward0>)]\n",
      "4.136786179010901\n",
      "tensor(-130.8032, device='cuda:0', grad_fn=<NegBackward0>) [tensor(-35.7099, device='cuda:0', grad_fn=<NegBackward0>), tensor(-9.1526, device='cuda:0', grad_fn=<NegBackward0>), tensor(-85.9407, device='cuda:0', grad_fn=<AddBackward0>)]\n",
      "4.08273990857063\n",
      "tensor(-133.0304, device='cuda:0', grad_fn=<NegBackward0>) [tensor(-35.7751, device='cuda:0', grad_fn=<NegBackward0>), tensor(-10.8582, device='cuda:0', grad_fn=<NegBackward0>), tensor(-86.3971, device='cuda:0', grad_fn=<AddBackward0>)]\n",
      "3.9996843905711286\n",
      "tensor(-128.4898, device='cuda:0', grad_fn=<NegBackward0>) [tensor(-35.7751, device='cuda:0', grad_fn=<NegBackward0>), tensor(-8.7758, device='cuda:0', grad_fn=<NegBackward0>), tensor(-83.9389, device='cuda:0', grad_fn=<AddBackward0>)]\n",
      "3.9109114540826897\n",
      "tensor(-132.1889, device='cuda:0', grad_fn=<NegBackward0>) [tensor(-35.8391, device='cuda:0', grad_fn=<NegBackward0>), tensor(-10.2294, device='cuda:0', grad_fn=<NegBackward0>), tensor(-86.1205, device='cuda:0', grad_fn=<AddBackward0>)]\n",
      "3.888714705272965\n",
      "tensor(-129.6242, device='cuda:0', grad_fn=<NegBackward0>) [tensor(-35.8391, device='cuda:0', grad_fn=<NegBackward0>), tensor(-8.7483, device='cuda:0', grad_fn=<NegBackward0>), tensor(-85.0369, device='cuda:0', grad_fn=<AddBackward0>)]\n",
      "4.254195006363962\n",
      "tensor(-129.7252, device='cuda:0', grad_fn=<NegBackward0>) [tensor(-35.8683, device='cuda:0', grad_fn=<NegBackward0>), tensor(-8.5342, device='cuda:0', grad_fn=<NegBackward0>), tensor(-85.3227, device='cuda:0', grad_fn=<AddBackward0>)]\n",
      "3.8400576623162057\n",
      "tensor(-134.0536, device='cuda:0', grad_fn=<NegBackward0>) [tensor(-35.8683, device='cuda:0', grad_fn=<NegBackward0>), tensor(-10.7300, device='cuda:0', grad_fn=<NegBackward0>), tensor(-87.4554, device='cuda:0', grad_fn=<AddBackward0>)]\n",
      "4.71541465566434\n",
      "tensor(-134.3305, device='cuda:0', grad_fn=<NegBackward0>) [tensor(-35.7421, device='cuda:0', grad_fn=<NegBackward0>), tensor(-9.4577, device='cuda:0', grad_fn=<NegBackward0>), tensor(-89.1307, device='cuda:0', grad_fn=<AddBackward0>)]\n",
      "3.8234163085805455\n",
      "tensor(-129.7438, device='cuda:0', grad_fn=<NegBackward0>) [tensor(-35.7421, device='cuda:0', grad_fn=<NegBackward0>), tensor(-9.3067, device='cuda:0', grad_fn=<NegBackward0>), tensor(-84.6950, device='cuda:0', grad_fn=<AddBackward0>)]\n",
      "4.135098661336716\n",
      "tensor(-129.3097, device='cuda:0', grad_fn=<NegBackward0>) [tensor(-35.7230, device='cuda:0', grad_fn=<NegBackward0>), tensor(-8.8937, device='cuda:0', grad_fn=<NegBackward0>), tensor(-84.6930, device='cuda:0', grad_fn=<AddBackward0>)]\n",
      "4.50157985878619\n",
      "tensor(-134.8565, device='cuda:0', grad_fn=<NegBackward0>) [tensor(-35.7230, device='cuda:0', grad_fn=<NegBackward0>), tensor(-10.2000, device='cuda:0', grad_fn=<NegBackward0>), tensor(-88.9335, device='cuda:0', grad_fn=<AddBackward0>)]\n",
      "3.956429681829252\n",
      "tensor(-132.7473, device='cuda:0', grad_fn=<NegBackward0>) [tensor(-35.9265, device='cuda:0', grad_fn=<NegBackward0>), tensor(-10.7371, device='cuda:0', grad_fn=<NegBackward0>), tensor(-86.0837, device='cuda:0', grad_fn=<AddBackward0>)]\n",
      "4.258603617038411\n",
      "tensor(-131.7855, device='cuda:0', grad_fn=<NegBackward0>) [tensor(-35.9265, device='cuda:0', grad_fn=<NegBackward0>), tensor(-9.5348, device='cuda:0', grad_fn=<NegBackward0>), tensor(-86.3242, device='cuda:0', grad_fn=<AddBackward0>)]\n",
      "4.356770166780265\n",
      "tensor(-130.6550, device='cuda:0', grad_fn=<NegBackward0>) [tensor(-36.0780, device='cuda:0', grad_fn=<NegBackward0>), tensor(-8.4895, device='cuda:0', grad_fn=<NegBackward0>), tensor(-86.0874, device='cuda:0', grad_fn=<AddBackward0>)]\n",
      "3.743471977521407\n",
      "tensor(-127.9594, device='cuda:0', grad_fn=<NegBackward0>) [tensor(-36.0780, device='cuda:0', grad_fn=<NegBackward0>), tensor(-8.2661, device='cuda:0', grad_fn=<NegBackward0>), tensor(-83.6152, device='cuda:0', grad_fn=<AddBackward0>)]\n",
      "4.077520547805066\n",
      "tensor(-132.4532, device='cuda:0', grad_fn=<NegBackward0>) [tensor(-36.0104, device='cuda:0', grad_fn=<NegBackward0>), tensor(-9.7264, device='cuda:0', grad_fn=<NegBackward0>), tensor(-86.7165, device='cuda:0', grad_fn=<AddBackward0>)]\n",
      "4.022822908130107\n",
      "tensor(-132.6850, device='cuda:0', grad_fn=<NegBackward0>) [tensor(-36.0104, device='cuda:0', grad_fn=<NegBackward0>), tensor(-9.6720, device='cuda:0', grad_fn=<NegBackward0>), tensor(-87.0026, device='cuda:0', grad_fn=<AddBackward0>)]\n",
      "4.265668270417258\n",
      "tensor(-132.6625, device='cuda:0', grad_fn=<NegBackward0>) [tensor(-35.9985, device='cuda:0', grad_fn=<NegBackward0>), tensor(-9.1168, device='cuda:0', grad_fn=<NegBackward0>), tensor(-87.5472, device='cuda:0', grad_fn=<AddBackward0>)]\n",
      "4.201547718892114\n",
      "tensor(-130.5216, device='cuda:0', grad_fn=<NegBackward0>) [tensor(-35.9985, device='cuda:0', grad_fn=<NegBackward0>), tensor(-9.2618, device='cuda:0', grad_fn=<NegBackward0>), tensor(-85.2613, device='cuda:0', grad_fn=<AddBackward0>)]\n",
      "5.003256843870545\n",
      "tensor(-131.1495, device='cuda:0', grad_fn=<NegBackward0>) [tensor(-36.1122, device='cuda:0', grad_fn=<NegBackward0>), tensor(-8.1921, device='cuda:0', grad_fn=<NegBackward0>), tensor(-86.8451, device='cuda:0', grad_fn=<AddBackward0>)]\n",
      "4.203486497902574\n",
      "tensor(-130.5326, device='cuda:0', grad_fn=<NegBackward0>) [tensor(-36.1122, device='cuda:0', grad_fn=<NegBackward0>), tensor(-8.5916, device='cuda:0', grad_fn=<NegBackward0>), tensor(-85.8288, device='cuda:0', grad_fn=<AddBackward0>)]\n",
      "4.32770657866506\n",
      "tensor(-130.1466, device='cuda:0', grad_fn=<NegBackward0>) [tensor(-36.1610, device='cuda:0', grad_fn=<NegBackward0>), tensor(-8.2224, device='cuda:0', grad_fn=<NegBackward0>), tensor(-85.7632, device='cuda:0', grad_fn=<AddBackward0>)]\n",
      "3.8832988577546335\n",
      "tensor(-132.1814, device='cuda:0', grad_fn=<NegBackward0>) [tensor(-36.1610, device='cuda:0', grad_fn=<NegBackward0>), tensor(-10.2694, device='cuda:0', grad_fn=<NegBackward0>), tensor(-85.7509, device='cuda:0', grad_fn=<AddBackward0>)]\n",
      "4.580452766966006\n",
      "tensor(-130.5134, device='cuda:0', grad_fn=<NegBackward0>) [tensor(-35.9908, device='cuda:0', grad_fn=<NegBackward0>), tensor(-7.9611, device='cuda:0', grad_fn=<NegBackward0>), tensor(-86.5614, device='cuda:0', grad_fn=<AddBackward0>)]\n",
      "4.134273346541654\n",
      "tensor(-129.4563, device='cuda:0', grad_fn=<NegBackward0>) [tensor(-35.9908, device='cuda:0', grad_fn=<NegBackward0>), tensor(-8.2769, device='cuda:0', grad_fn=<NegBackward0>), tensor(-85.1886, device='cuda:0', grad_fn=<AddBackward0>)]\n"
     ]
    },
    {
     "name": "stdout",
     "output_type": "stream",
     "text": [
      "4.003632741223386\n",
      "tensor(-131.9790, device='cuda:0', grad_fn=<NegBackward0>) [tensor(-36.2105, device='cuda:0', grad_fn=<NegBackward0>), tensor(-9.1797, device='cuda:0', grad_fn=<NegBackward0>), tensor(-86.5888, device='cuda:0', grad_fn=<AddBackward0>)]\n",
      "4.227261780670386\n",
      "tensor(-130.0123, device='cuda:0', grad_fn=<NegBackward0>) [tensor(-36.2105, device='cuda:0', grad_fn=<NegBackward0>), tensor(-8.4969, device='cuda:0', grad_fn=<NegBackward0>), tensor(-85.3049, device='cuda:0', grad_fn=<AddBackward0>)]\n",
      "4.466551418451809\n",
      "tensor(-129.1620, device='cuda:0', grad_fn=<NegBackward0>) [tensor(-36.2396, device='cuda:0', grad_fn=<NegBackward0>), tensor(-7.5630, device='cuda:0', grad_fn=<NegBackward0>), tensor(-85.3593, device='cuda:0', grad_fn=<AddBackward0>)]\n",
      "4.19202867252794\n",
      "tensor(-131.3055, device='cuda:0', grad_fn=<NegBackward0>) [tensor(-36.2396, device='cuda:0', grad_fn=<NegBackward0>), tensor(-8.4781, device='cuda:0', grad_fn=<NegBackward0>), tensor(-86.5878, device='cuda:0', grad_fn=<AddBackward0>)]\n",
      "3.805381706402091\n",
      "tensor(-131.7012, device='cuda:0', grad_fn=<NegBackward0>) [tensor(-36.2983, device='cuda:0', grad_fn=<NegBackward0>), tensor(-9.3985, device='cuda:0', grad_fn=<NegBackward0>), tensor(-86.0044, device='cuda:0', grad_fn=<AddBackward0>)]\n",
      "3.950562558489721\n",
      "tensor(-130.6138, device='cuda:0', grad_fn=<NegBackward0>) [tensor(-36.2983, device='cuda:0', grad_fn=<NegBackward0>), tensor(-8.9142, device='cuda:0', grad_fn=<NegBackward0>), tensor(-85.4013, device='cuda:0', grad_fn=<AddBackward0>)]\n",
      "4.412888591883227\n",
      "tensor(-130.1635, device='cuda:0', grad_fn=<NegBackward0>) [tensor(-36.2303, device='cuda:0', grad_fn=<NegBackward0>), tensor(-8.4540, device='cuda:0', grad_fn=<NegBackward0>), tensor(-85.4792, device='cuda:0', grad_fn=<AddBackward0>)]\n",
      "4.643319211087208\n",
      "tensor(-132.0341, device='cuda:0', grad_fn=<NegBackward0>) [tensor(-36.2303, device='cuda:0', grad_fn=<NegBackward0>), tensor(-8.7897, device='cuda:0', grad_fn=<NegBackward0>), tensor(-87.0141, device='cuda:0', grad_fn=<AddBackward0>)]\n",
      "4.304974933652326\n",
      "tensor(-132.2902, device='cuda:0', grad_fn=<NegBackward0>) [tensor(-36.4110, device='cuda:0', grad_fn=<NegBackward0>), tensor(-8.9777, device='cuda:0', grad_fn=<NegBackward0>), tensor(-86.9015, device='cuda:0', grad_fn=<AddBackward0>)]\n",
      "4.065409952471043\n",
      "tensor(-132.4211, device='cuda:0', grad_fn=<NegBackward0>) [tensor(-36.4110, device='cuda:0', grad_fn=<NegBackward0>), tensor(-8.8876, device='cuda:0', grad_fn=<NegBackward0>), tensor(-87.1225, device='cuda:0', grad_fn=<AddBackward0>)]\n",
      "4.249247441725439\n",
      "tensor(-131.7294, device='cuda:0', grad_fn=<NegBackward0>) [tensor(-36.4313, device='cuda:0', grad_fn=<NegBackward0>), tensor(-8.6630, device='cuda:0', grad_fn=<NegBackward0>), tensor(-86.6351, device='cuda:0', grad_fn=<AddBackward0>)]\n",
      "4.538203350188191\n",
      "tensor(-131.5574, device='cuda:0', grad_fn=<NegBackward0>) [tensor(-36.4313, device='cuda:0', grad_fn=<NegBackward0>), tensor(-8.3306, device='cuda:0', grad_fn=<NegBackward0>), tensor(-86.7955, device='cuda:0', grad_fn=<AddBackward0>)]\n",
      "4.0933830256161725\n",
      "tensor(-135.5505, device='cuda:0', grad_fn=<NegBackward0>) [tensor(-36.5899, device='cuda:0', grad_fn=<NegBackward0>), tensor(-10.0397, device='cuda:0', grad_fn=<NegBackward0>), tensor(-88.9209, device='cuda:0', grad_fn=<AddBackward0>)]\n",
      "4.229341618603974\n",
      "tensor(-129.8835, device='cuda:0', grad_fn=<NegBackward0>) [tensor(-36.5899, device='cuda:0', grad_fn=<NegBackward0>), tensor(-7.8210, device='cuda:0', grad_fn=<NegBackward0>), tensor(-85.4725, device='cuda:0', grad_fn=<AddBackward0>)]\n",
      "4.124738291904409\n",
      "tensor(-134.4974, device='cuda:0', grad_fn=<NegBackward0>) [tensor(-36.6961, device='cuda:0', grad_fn=<NegBackward0>), tensor(-9.9559, device='cuda:0', grad_fn=<NegBackward0>), tensor(-87.8454, device='cuda:0', grad_fn=<AddBackward0>)]\n",
      "4.274988090520854\n",
      "tensor(-132.3178, device='cuda:0', grad_fn=<NegBackward0>) [tensor(-36.6961, device='cuda:0', grad_fn=<NegBackward0>), tensor(-8.8401, device='cuda:0', grad_fn=<NegBackward0>), tensor(-86.7816, device='cuda:0', grad_fn=<AddBackward0>)]\n",
      "3.948540523899601\n",
      "tensor(-132.4201, device='cuda:0', grad_fn=<NegBackward0>) [tensor(-36.6346, device='cuda:0', grad_fn=<NegBackward0>), tensor(-10.1147, device='cuda:0', grad_fn=<NegBackward0>), tensor(-85.6707, device='cuda:0', grad_fn=<AddBackward0>)]\n",
      "4.201072047051162\n",
      "tensor(-133.6932, device='cuda:0', grad_fn=<NegBackward0>) [tensor(-36.6346, device='cuda:0', grad_fn=<NegBackward0>), tensor(-9.9911, device='cuda:0', grad_fn=<NegBackward0>), tensor(-87.0674, device='cuda:0', grad_fn=<AddBackward0>)]\n",
      "4.380352307140143\n",
      "tensor(-135.5221, device='cuda:0', grad_fn=<NegBackward0>) [tensor(-36.6438, device='cuda:0', grad_fn=<NegBackward0>), tensor(-9.5183, device='cuda:0', grad_fn=<NegBackward0>), tensor(-89.3600, device='cuda:0', grad_fn=<AddBackward0>)]\n",
      "4.017240656571587\n",
      "tensor(-130.3448, device='cuda:0', grad_fn=<NegBackward0>) [tensor(-36.6438, device='cuda:0', grad_fn=<NegBackward0>), tensor(-8.4689, device='cuda:0', grad_fn=<NegBackward0>), tensor(-85.2322, device='cuda:0', grad_fn=<AddBackward0>)]\n",
      "4.407981741466689\n",
      "tensor(-135.2199, device='cuda:0', grad_fn=<NegBackward0>) [tensor(-36.6270, device='cuda:0', grad_fn=<NegBackward0>), tensor(-9.6664, device='cuda:0', grad_fn=<NegBackward0>), tensor(-88.9265, device='cuda:0', grad_fn=<AddBackward0>)]\n",
      "4.280492971007444\n",
      "tensor(-132.2025, device='cuda:0', grad_fn=<NegBackward0>) [tensor(-36.6270, device='cuda:0', grad_fn=<NegBackward0>), tensor(-8.7914, device='cuda:0', grad_fn=<NegBackward0>), tensor(-86.7840, device='cuda:0', grad_fn=<AddBackward0>)]\n",
      "3.952688877887797\n",
      "tensor(-134.2885, device='cuda:0', grad_fn=<NegBackward0>) [tensor(-36.6674, device='cuda:0', grad_fn=<NegBackward0>), tensor(-10.3424, device='cuda:0', grad_fn=<NegBackward0>), tensor(-87.2788, device='cuda:0', grad_fn=<AddBackward0>)]\n",
      "4.142382097796896\n",
      "tensor(-132.6841, device='cuda:0', grad_fn=<NegBackward0>) [tensor(-36.6674, device='cuda:0', grad_fn=<NegBackward0>), tensor(-8.8886, device='cuda:0', grad_fn=<NegBackward0>), tensor(-87.1281, device='cuda:0', grad_fn=<AddBackward0>)]\n",
      "4.6333376724795485\n",
      "tensor(-129.8031, device='cuda:0', grad_fn=<NegBackward0>) [tensor(-36.6667, device='cuda:0', grad_fn=<NegBackward0>), tensor(-7.3545, device='cuda:0', grad_fn=<NegBackward0>), tensor(-85.7819, device='cuda:0', grad_fn=<AddBackward0>)]\n",
      "3.967000168039357\n",
      "tensor(-132.5708, device='cuda:0', grad_fn=<NegBackward0>) [tensor(-36.6667, device='cuda:0', grad_fn=<NegBackward0>), tensor(-9.9153, device='cuda:0', grad_fn=<NegBackward0>), tensor(-85.9887, device='cuda:0', grad_fn=<AddBackward0>)]\n",
      "4.087616391753198\n",
      "tensor(-133.2545, device='cuda:0', grad_fn=<NegBackward0>) [tensor(-36.4160, device='cuda:0', grad_fn=<NegBackward0>), tensor(-9.8717, device='cuda:0', grad_fn=<NegBackward0>), tensor(-86.9668, device='cuda:0', grad_fn=<AddBackward0>)]\n",
      "3.670416969620689\n",
      "tensor(-131.5381, device='cuda:0', grad_fn=<NegBackward0>) [tensor(-36.4160, device='cuda:0', grad_fn=<NegBackward0>), tensor(-9.6674, device='cuda:0', grad_fn=<NegBackward0>), tensor(-85.4548, device='cuda:0', grad_fn=<AddBackward0>)]\n",
      "4.179786339823318\n",
      "tensor(-131.7659, device='cuda:0', grad_fn=<NegBackward0>) [tensor(-36.3910, device='cuda:0', grad_fn=<NegBackward0>), tensor(-9.1648, device='cuda:0', grad_fn=<NegBackward0>), tensor(-86.2101, device='cuda:0', grad_fn=<AddBackward0>)]\n",
      "4.287096505872562\n",
      "tensor(-136.4736, device='cuda:0', grad_fn=<NegBackward0>) [tensor(-36.3910, device='cuda:0', grad_fn=<NegBackward0>), tensor(-10.6391, device='cuda:0', grad_fn=<NegBackward0>), tensor(-89.4435, device='cuda:0', grad_fn=<AddBackward0>)]\n",
      "4.863822672614571\n",
      "tensor(-130.9543, device='cuda:0', grad_fn=<NegBackward0>) [tensor(-36.2368, device='cuda:0', grad_fn=<NegBackward0>), tensor(-8.2842, device='cuda:0', grad_fn=<NegBackward0>), tensor(-86.4332, device='cuda:0', grad_fn=<AddBackward0>)]\n",
      "3.9668801289305806\n",
      "tensor(-128.1584, device='cuda:0', grad_fn=<NegBackward0>) [tensor(-36.2368, device='cuda:0', grad_fn=<NegBackward0>), tensor(-8.1949, device='cuda:0', grad_fn=<NegBackward0>), tensor(-83.7267, device='cuda:0', grad_fn=<AddBackward0>)]\n",
      "4.9356573086482305\n",
      "tensor(-138.5981, device='cuda:0', grad_fn=<NegBackward0>) [tensor(-36.4095, device='cuda:0', grad_fn=<NegBackward0>), tensor(-10.7604, device='cuda:0', grad_fn=<NegBackward0>), tensor(-91.4282, device='cuda:0', grad_fn=<AddBackward0>)]\n"
     ]
    },
    {
     "name": "stdout",
     "output_type": "stream",
     "text": [
      "4.4906683570027965\n",
      "tensor(-132.1364, device='cuda:0', grad_fn=<NegBackward0>) [tensor(-36.4095, device='cuda:0', grad_fn=<NegBackward0>), tensor(-8.6606, device='cuda:0', grad_fn=<NegBackward0>), tensor(-87.0664, device='cuda:0', grad_fn=<AddBackward0>)]\n",
      "4.234527423975504\n",
      "tensor(-133.2361, device='cuda:0', grad_fn=<NegBackward0>) [tensor(-36.5958, device='cuda:0', grad_fn=<NegBackward0>), tensor(-8.8770, device='cuda:0', grad_fn=<NegBackward0>), tensor(-87.7633, device='cuda:0', grad_fn=<AddBackward0>)]\n",
      "4.232079893314181\n",
      "tensor(-133.6112, device='cuda:0', grad_fn=<NegBackward0>) [tensor(-36.5958, device='cuda:0', grad_fn=<NegBackward0>), tensor(-9.2968, device='cuda:0', grad_fn=<NegBackward0>), tensor(-87.7186, device='cuda:0', grad_fn=<AddBackward0>)]\n",
      "4.129228753994842\n",
      "tensor(-131.9577, device='cuda:0', grad_fn=<NegBackward0>) [tensor(-36.5402, device='cuda:0', grad_fn=<NegBackward0>), tensor(-9.1308, device='cuda:0', grad_fn=<NegBackward0>), tensor(-86.2867, device='cuda:0', grad_fn=<AddBackward0>)]\n",
      "4.458763563552928\n",
      "tensor(-132.1504, device='cuda:0', grad_fn=<NegBackward0>) [tensor(-36.5402, device='cuda:0', grad_fn=<NegBackward0>), tensor(-8.5590, device='cuda:0', grad_fn=<NegBackward0>), tensor(-87.0511, device='cuda:0', grad_fn=<AddBackward0>)]\n",
      "4.113490729393286\n",
      "tensor(-131.0779, device='cuda:0', grad_fn=<NegBackward0>) [tensor(-36.6906, device='cuda:0', grad_fn=<NegBackward0>), tensor(-8.2301, device='cuda:0', grad_fn=<NegBackward0>), tensor(-86.1572, device='cuda:0', grad_fn=<AddBackward0>)]\n",
      "4.991860112488368\n",
      "tensor(-132.4959, device='cuda:0', grad_fn=<NegBackward0>) [tensor(-36.6906, device='cuda:0', grad_fn=<NegBackward0>), tensor(-8.1801, device='cuda:0', grad_fn=<NegBackward0>), tensor(-87.6252, device='cuda:0', grad_fn=<AddBackward0>)]\n",
      "3.9170100422586973\n",
      "tensor(-135.3771, device='cuda:0', grad_fn=<NegBackward0>) [tensor(-36.7901, device='cuda:0', grad_fn=<NegBackward0>), tensor(-10.1845, device='cuda:0', grad_fn=<NegBackward0>), tensor(-88.4026, device='cuda:0', grad_fn=<AddBackward0>)]\n",
      "4.5826653281507435\n",
      "tensor(-133.3094, device='cuda:0', grad_fn=<NegBackward0>) [tensor(-36.7901, device='cuda:0', grad_fn=<NegBackward0>), tensor(-8.0598, device='cuda:0', grad_fn=<NegBackward0>), tensor(-88.4596, device='cuda:0', grad_fn=<AddBackward0>)]\n",
      "4.165976963546864\n",
      "tensor(-135.5766, device='cuda:0', grad_fn=<NegBackward0>) [tensor(-37.0018, device='cuda:0', grad_fn=<NegBackward0>), tensor(-9.8531, device='cuda:0', grad_fn=<NegBackward0>), tensor(-88.7217, device='cuda:0', grad_fn=<AddBackward0>)]\n",
      "3.9177579924269605\n",
      "tensor(-132.4691, device='cuda:0', grad_fn=<NegBackward0>) [tensor(-37.0018, device='cuda:0', grad_fn=<NegBackward0>), tensor(-9.8014, device='cuda:0', grad_fn=<NegBackward0>), tensor(-85.6659, device='cuda:0', grad_fn=<AddBackward0>)]\n",
      "4.502200337074094\n",
      "tensor(-133.2456, device='cuda:0', grad_fn=<NegBackward0>) [tensor(-36.7851, device='cuda:0', grad_fn=<NegBackward0>), tensor(-8.7925, device='cuda:0', grad_fn=<NegBackward0>), tensor(-87.6680, device='cuda:0', grad_fn=<AddBackward0>)]\n",
      "3.9303794348460395\n",
      "tensor(-133.8107, device='cuda:0', grad_fn=<NegBackward0>) [tensor(-36.7851, device='cuda:0', grad_fn=<NegBackward0>), tensor(-10.2181, device='cuda:0', grad_fn=<NegBackward0>), tensor(-86.8075, device='cuda:0', grad_fn=<AddBackward0>)]\n",
      "4.102802301247203\n",
      "tensor(-133.7924, device='cuda:0', grad_fn=<NegBackward0>) [tensor(-36.5794, device='cuda:0', grad_fn=<NegBackward0>), tensor(-10.1793, device='cuda:0', grad_fn=<NegBackward0>), tensor(-87.0337, device='cuda:0', grad_fn=<AddBackward0>)]\n",
      "4.110960595064994\n",
      "tensor(-133.8376, device='cuda:0', grad_fn=<NegBackward0>) [tensor(-36.5794, device='cuda:0', grad_fn=<NegBackward0>), tensor(-10.3959, device='cuda:0', grad_fn=<NegBackward0>), tensor(-86.8623, device='cuda:0', grad_fn=<AddBackward0>)]\n",
      "4.149026544196443\n",
      "tensor(-127.7982, device='cuda:0', grad_fn=<NegBackward0>) [tensor(-36.4670, device='cuda:0', grad_fn=<NegBackward0>), tensor(-7.3805, device='cuda:0', grad_fn=<NegBackward0>), tensor(-83.9508, device='cuda:0', grad_fn=<AddBackward0>)]\n",
      "4.324446164450327\n",
      "tensor(-135.2649, device='cuda:0', grad_fn=<NegBackward0>) [tensor(-36.4670, device='cuda:0', grad_fn=<NegBackward0>), tensor(-10.1942, device='cuda:0', grad_fn=<NegBackward0>), tensor(-88.6037, device='cuda:0', grad_fn=<AddBackward0>)]\n",
      "4.316632658932658\n",
      "tensor(-128.1975, device='cuda:0', grad_fn=<NegBackward0>) [tensor(-36.5500, device='cuda:0', grad_fn=<NegBackward0>), tensor(-7.2275, device='cuda:0', grad_fn=<NegBackward0>), tensor(-84.4200, device='cuda:0', grad_fn=<AddBackward0>)]\n",
      "4.236391077812557\n",
      "tensor(-134.6692, device='cuda:0', grad_fn=<NegBackward0>) [tensor(-36.5500, device='cuda:0', grad_fn=<NegBackward0>), tensor(-9.7171, device='cuda:0', grad_fn=<NegBackward0>), tensor(-88.4021, device='cuda:0', grad_fn=<AddBackward0>)]\n",
      "4.6745893906211355\n",
      "tensor(-134.3510, device='cuda:0', grad_fn=<NegBackward0>) [tensor(-36.5690, device='cuda:0', grad_fn=<NegBackward0>), tensor(-8.6961, device='cuda:0', grad_fn=<NegBackward0>), tensor(-89.0858, device='cuda:0', grad_fn=<AddBackward0>)]\n",
      "4.699230288575088\n",
      "tensor(-133.3159, device='cuda:0', grad_fn=<NegBackward0>) [tensor(-36.5690, device='cuda:0', grad_fn=<NegBackward0>), tensor(-8.8005, device='cuda:0', grad_fn=<NegBackward0>), tensor(-87.9464, device='cuda:0', grad_fn=<AddBackward0>)]\n",
      "4.350886896476035\n",
      "tensor(-137.2958, device='cuda:0', grad_fn=<NegBackward0>) [tensor(-36.7311, device='cuda:0', grad_fn=<NegBackward0>), tensor(-10.3412, device='cuda:0', grad_fn=<NegBackward0>), tensor(-90.2236, device='cuda:0', grad_fn=<AddBackward0>)]\n",
      "4.289072960108175\n",
      "tensor(-136.4697, device='cuda:0', grad_fn=<NegBackward0>) [tensor(-36.7311, device='cuda:0', grad_fn=<NegBackward0>), tensor(-10.8142, device='cuda:0', grad_fn=<NegBackward0>), tensor(-88.9244, device='cuda:0', grad_fn=<AddBackward0>)]\n",
      "3.5965601038484603\n",
      "tensor(-131.7231, device='cuda:0', grad_fn=<NegBackward0>) [tensor(-36.6714, device='cuda:0', grad_fn=<NegBackward0>), tensor(-9.7607, device='cuda:0', grad_fn=<NegBackward0>), tensor(-85.2909, device='cuda:0', grad_fn=<AddBackward0>)]\n",
      "4.094375697737507\n",
      "tensor(-134.1073, device='cuda:0', grad_fn=<NegBackward0>) [tensor(-36.6714, device='cuda:0', grad_fn=<NegBackward0>), tensor(-9.3382, device='cuda:0', grad_fn=<NegBackward0>), tensor(-88.0977, device='cuda:0', grad_fn=<AddBackward0>)]\n",
      "5.244936546028608\n",
      "tensor(-129.4369, device='cuda:0', grad_fn=<NegBackward0>) [tensor(-36.6913, device='cuda:0', grad_fn=<NegBackward0>), tensor(-6.7579, device='cuda:0', grad_fn=<NegBackward0>), tensor(-85.9877, device='cuda:0', grad_fn=<AddBackward0>)]\n",
      "4.329036350713882\n",
      "tensor(-136.1164, device='cuda:0', grad_fn=<NegBackward0>) [tensor(-36.6913, device='cuda:0', grad_fn=<NegBackward0>), tensor(-10.2607, device='cuda:0', grad_fn=<NegBackward0>), tensor(-89.1644, device='cuda:0', grad_fn=<AddBackward0>)]\n",
      "3.9958375196928877\n",
      "tensor(-133.8372, device='cuda:0', grad_fn=<NegBackward0>) [tensor(-36.7127, device='cuda:0', grad_fn=<NegBackward0>), tensor(-10.0787, device='cuda:0', grad_fn=<NegBackward0>), tensor(-87.0458, device='cuda:0', grad_fn=<AddBackward0>)]\n",
      "4.529582707020796\n",
      "tensor(-134.2246, device='cuda:0', grad_fn=<NegBackward0>) [tensor(-36.7127, device='cuda:0', grad_fn=<NegBackward0>), tensor(-8.9813, device='cuda:0', grad_fn=<NegBackward0>), tensor(-88.5306, device='cuda:0', grad_fn=<AddBackward0>)]\n",
      "4.078254889472713\n",
      "tensor(-130.9803, device='cuda:0', grad_fn=<NegBackward0>) [tensor(-36.9126, device='cuda:0', grad_fn=<NegBackward0>), tensor(-8.6293, device='cuda:0', grad_fn=<NegBackward0>), tensor(-85.4385, device='cuda:0', grad_fn=<AddBackward0>)]\n",
      "4.26510138317756\n",
      "tensor(-135.0755, device='cuda:0', grad_fn=<NegBackward0>) [tensor(-36.9126, device='cuda:0', grad_fn=<NegBackward0>), tensor(-9.0994, device='cuda:0', grad_fn=<NegBackward0>), tensor(-89.0636, device='cuda:0', grad_fn=<AddBackward0>)]\n",
      "4.200107946341483\n",
      "tensor(-135.8795, device='cuda:0', grad_fn=<NegBackward0>) [tensor(-37.1257, device='cuda:0', grad_fn=<NegBackward0>), tensor(-10.1402, device='cuda:0', grad_fn=<NegBackward0>), tensor(-88.6136, device='cuda:0', grad_fn=<AddBackward0>)]\n",
      "4.245477889531751\n",
      "tensor(-134.7168, device='cuda:0', grad_fn=<NegBackward0>) [tensor(-37.1257, device='cuda:0', grad_fn=<NegBackward0>), tensor(-9.3532, device='cuda:0', grad_fn=<NegBackward0>), tensor(-88.2379, device='cuda:0', grad_fn=<AddBackward0>)]\n"
     ]
    },
    {
     "name": "stdout",
     "output_type": "stream",
     "text": [
      "4.134748049281214\n",
      "tensor(-129.3126, device='cuda:0', grad_fn=<NegBackward0>) [tensor(-37.0977, device='cuda:0', grad_fn=<NegBackward0>), tensor(-6.9924, device='cuda:0', grad_fn=<NegBackward0>), tensor(-85.2226, device='cuda:0', grad_fn=<AddBackward0>)]\n",
      "3.8162461440693267\n",
      "tensor(-129.5809, device='cuda:0', grad_fn=<NegBackward0>) [tensor(-37.0977, device='cuda:0', grad_fn=<NegBackward0>), tensor(-8.0337, device='cuda:0', grad_fn=<NegBackward0>), tensor(-84.4495, device='cuda:0', grad_fn=<AddBackward0>)]\n",
      "4.041737651162551\n",
      "tensor(-132.4120, device='cuda:0', grad_fn=<NegBackward0>) [tensor(-37.1100, device='cuda:0', grad_fn=<NegBackward0>), tensor(-8.4291, device='cuda:0', grad_fn=<NegBackward0>), tensor(-86.8729, device='cuda:0', grad_fn=<AddBackward0>)]\n",
      "3.8690793761042492\n",
      "tensor(-134.9600, device='cuda:0', grad_fn=<NegBackward0>) [tensor(-37.1100, device='cuda:0', grad_fn=<NegBackward0>), tensor(-10.7737, device='cuda:0', grad_fn=<NegBackward0>), tensor(-87.0762, device='cuda:0', grad_fn=<AddBackward0>)]\n",
      "4.19902487372223\n",
      "tensor(-131.4349, device='cuda:0', grad_fn=<NegBackward0>) [tensor(-36.8435, device='cuda:0', grad_fn=<NegBackward0>), tensor(-8.1706, device='cuda:0', grad_fn=<NegBackward0>), tensor(-86.4208, device='cuda:0', grad_fn=<AddBackward0>)]\n",
      "4.320785707825544\n",
      "tensor(-130.5581, device='cuda:0', grad_fn=<NegBackward0>) [tensor(-36.8435, device='cuda:0', grad_fn=<NegBackward0>), tensor(-7.8828, device='cuda:0', grad_fn=<NegBackward0>), tensor(-85.8317, device='cuda:0', grad_fn=<AddBackward0>)]\n",
      "4.49183988863241\n",
      "tensor(-133.5162, device='cuda:0', grad_fn=<NegBackward0>) [tensor(-36.8322, device='cuda:0', grad_fn=<NegBackward0>), tensor(-8.5515, device='cuda:0', grad_fn=<NegBackward0>), tensor(-88.1325, device='cuda:0', grad_fn=<AddBackward0>)]\n",
      "3.911876783129895\n",
      "tensor(-133.8726, device='cuda:0', grad_fn=<NegBackward0>) [tensor(-36.8322, device='cuda:0', grad_fn=<NegBackward0>), tensor(-9.6341, device='cuda:0', grad_fn=<NegBackward0>), tensor(-87.4063, device='cuda:0', grad_fn=<AddBackward0>)]\n",
      "4.5625278272274326\n",
      "tensor(-132.5837, device='cuda:0', grad_fn=<NegBackward0>) [tensor(-36.7894, device='cuda:0', grad_fn=<NegBackward0>), tensor(-8.3990, device='cuda:0', grad_fn=<NegBackward0>), tensor(-87.3953, device='cuda:0', grad_fn=<AddBackward0>)]\n",
      "4.955303659956757\n",
      "tensor(-130.9461, device='cuda:0', grad_fn=<NegBackward0>) [tensor(-36.7894, device='cuda:0', grad_fn=<NegBackward0>), tensor(-7.3533, device='cuda:0', grad_fn=<NegBackward0>), tensor(-86.8033, device='cuda:0', grad_fn=<AddBackward0>)]\n",
      "4.083901526423809\n",
      "tensor(-136.1216, device='cuda:0', grad_fn=<NegBackward0>) [tensor(-37.0486, device='cuda:0', grad_fn=<NegBackward0>), tensor(-9.9357, device='cuda:0', grad_fn=<NegBackward0>), tensor(-89.1373, device='cuda:0', grad_fn=<AddBackward0>)]\n",
      "4.122561350396167\n",
      "tensor(-129.7660, device='cuda:0', grad_fn=<NegBackward0>) [tensor(-37.0486, device='cuda:0', grad_fn=<NegBackward0>), tensor(-7.3084, device='cuda:0', grad_fn=<NegBackward0>), tensor(-85.4090, device='cuda:0', grad_fn=<AddBackward0>)]\n",
      "4.391501250650126\n",
      "tensor(-135.2725, device='cuda:0', grad_fn=<NegBackward0>) [tensor(-37.2444, device='cuda:0', grad_fn=<NegBackward0>), tensor(-9.3954, device='cuda:0', grad_fn=<NegBackward0>), tensor(-88.6327, device='cuda:0', grad_fn=<AddBackward0>)]\n",
      "4.2508602975458345\n",
      "tensor(-134.0647, device='cuda:0', grad_fn=<NegBackward0>) [tensor(-37.2444, device='cuda:0', grad_fn=<NegBackward0>), tensor(-9.0169, device='cuda:0', grad_fn=<NegBackward0>), tensor(-87.8034, device='cuda:0', grad_fn=<AddBackward0>)]\n",
      "3.7525924313423418\n",
      "tensor(-134.8851, device='cuda:0', grad_fn=<NegBackward0>) [tensor(-37.1809, device='cuda:0', grad_fn=<NegBackward0>), tensor(-10.8302, device='cuda:0', grad_fn=<NegBackward0>), tensor(-86.8740, device='cuda:0', grad_fn=<AddBackward0>)]\n",
      "4.319758183170156\n",
      "tensor(-136.3763, device='cuda:0', grad_fn=<NegBackward0>) [tensor(-37.1809, device='cuda:0', grad_fn=<NegBackward0>), tensor(-9.9345, device='cuda:0', grad_fn=<NegBackward0>), tensor(-89.2610, device='cuda:0', grad_fn=<AddBackward0>)]\n",
      "3.904865569588941\n",
      "tensor(-135.9937, device='cuda:0', grad_fn=<NegBackward0>) [tensor(-37.1368, device='cuda:0', grad_fn=<NegBackward0>), tensor(-10.5645, device='cuda:0', grad_fn=<NegBackward0>), tensor(-88.2924, device='cuda:0', grad_fn=<AddBackward0>)]\n",
      "4.769471324214237\n",
      "tensor(-134.0848, device='cuda:0', grad_fn=<NegBackward0>) [tensor(-37.1368, device='cuda:0', grad_fn=<NegBackward0>), tensor(-8.9669, device='cuda:0', grad_fn=<NegBackward0>), tensor(-87.9811, device='cuda:0', grad_fn=<AddBackward0>)]\n",
      "3.969542499529072\n",
      "tensor(-136.3269, device='cuda:0', grad_fn=<NegBackward0>) [tensor(-37.1452, device='cuda:0', grad_fn=<NegBackward0>), tensor(-10.5166, device='cuda:0', grad_fn=<NegBackward0>), tensor(-88.6651, device='cuda:0', grad_fn=<AddBackward0>)]\n",
      "4.170653706812541\n",
      "tensor(-133.8637, device='cuda:0', grad_fn=<NegBackward0>) [tensor(-37.1452, device='cuda:0', grad_fn=<NegBackward0>), tensor(-9.0687, device='cuda:0', grad_fn=<NegBackward0>), tensor(-87.6499, device='cuda:0', grad_fn=<AddBackward0>)]\n",
      "4.072242917212699\n",
      "tensor(-130.2832, device='cuda:0', grad_fn=<NegBackward0>) [tensor(-37.0732, device='cuda:0', grad_fn=<NegBackward0>), tensor(-8.0999, device='cuda:0', grad_fn=<NegBackward0>), tensor(-85.1101, device='cuda:0', grad_fn=<AddBackward0>)]\n",
      "4.336322664511424\n",
      "tensor(-137.5719, device='cuda:0', grad_fn=<NegBackward0>) [tensor(-37.0732, device='cuda:0', grad_fn=<NegBackward0>), tensor(-9.8823, device='cuda:0', grad_fn=<NegBackward0>), tensor(-90.6164, device='cuda:0', grad_fn=<AddBackward0>)]\n",
      "3.7160638067103124\n",
      "tensor(-132.8424, device='cuda:0', grad_fn=<NegBackward0>) [tensor(-36.9328, device='cuda:0', grad_fn=<NegBackward0>), tensor(-10.0075, device='cuda:0', grad_fn=<NegBackward0>), tensor(-85.9021, device='cuda:0', grad_fn=<AddBackward0>)]\n",
      "4.339939064708996\n",
      "tensor(-133.8309, device='cuda:0', grad_fn=<NegBackward0>) [tensor(-36.9328, device='cuda:0', grad_fn=<NegBackward0>), tensor(-9.6627, device='cuda:0', grad_fn=<NegBackward0>), tensor(-87.2354, device='cuda:0', grad_fn=<AddBackward0>)]\n",
      "4.375536250048566\n",
      "tensor(-132.2370, device='cuda:0', grad_fn=<NegBackward0>) [tensor(-36.8401, device='cuda:0', grad_fn=<NegBackward0>), tensor(-8.3523, device='cuda:0', grad_fn=<NegBackward0>), tensor(-87.0446, device='cuda:0', grad_fn=<AddBackward0>)]\n",
      "4.128177714929758\n",
      "tensor(-131.4113, device='cuda:0', grad_fn=<NegBackward0>) [tensor(-36.8401, device='cuda:0', grad_fn=<NegBackward0>), tensor(-8.7155, device='cuda:0', grad_fn=<NegBackward0>), tensor(-85.8557, device='cuda:0', grad_fn=<AddBackward0>)]\n",
      "4.570411310311296\n",
      "tensor(-132.3014, device='cuda:0', grad_fn=<NegBackward0>) [tensor(-37.1011, device='cuda:0', grad_fn=<NegBackward0>), tensor(-8.4130, device='cuda:0', grad_fn=<NegBackward0>), tensor(-86.7873, device='cuda:0', grad_fn=<AddBackward0>)]\n",
      "4.131243221370426\n",
      "tensor(-136.2411, device='cuda:0', grad_fn=<NegBackward0>) [tensor(-37.1011, device='cuda:0', grad_fn=<NegBackward0>), tensor(-9.9822, device='cuda:0', grad_fn=<NegBackward0>), tensor(-89.1579, device='cuda:0', grad_fn=<AddBackward0>)]\n",
      "4.48955938073855\n",
      "tensor(-130.8738, device='cuda:0', grad_fn=<NegBackward0>) [tensor(-37.0114, device='cuda:0', grad_fn=<NegBackward0>), tensor(-7.7819, device='cuda:0', grad_fn=<NegBackward0>), tensor(-86.0806, device='cuda:0', grad_fn=<AddBackward0>)]\n",
      "4.309674847874613\n",
      "tensor(-134.9453, device='cuda:0', grad_fn=<NegBackward0>) [tensor(-37.0114, device='cuda:0', grad_fn=<NegBackward0>), tensor(-9.3792, device='cuda:0', grad_fn=<NegBackward0>), tensor(-88.5547, device='cuda:0', grad_fn=<AddBackward0>)]\n",
      "4.045315331998226\n",
      "tensor(-135.7352, device='cuda:0', grad_fn=<NegBackward0>) [tensor(-37.1590, device='cuda:0', grad_fn=<NegBackward0>), tensor(-9.3627, device='cuda:0', grad_fn=<NegBackward0>), tensor(-89.2135, device='cuda:0', grad_fn=<AddBackward0>)]\n",
      "4.481107356812277\n",
      "tensor(-131.9566, device='cuda:0', grad_fn=<NegBackward0>) [tensor(-37.1590, device='cuda:0', grad_fn=<NegBackward0>), tensor(-7.9317, device='cuda:0', grad_fn=<NegBackward0>), tensor(-86.8659, device='cuda:0', grad_fn=<AddBackward0>)]\n",
      "4.456798975807991\n",
      "tensor(-133.9925, device='cuda:0', grad_fn=<NegBackward0>) [tensor(-37.3141, device='cuda:0', grad_fn=<NegBackward0>), tensor(-8.6990, device='cuda:0', grad_fn=<NegBackward0>), tensor(-87.9794, device='cuda:0', grad_fn=<AddBackward0>)]\n"
     ]
    },
    {
     "name": "stdout",
     "output_type": "stream",
     "text": [
      "4.067567603280251\n",
      "tensor(-132.9729, device='cuda:0', grad_fn=<NegBackward0>) [tensor(-37.3141, device='cuda:0', grad_fn=<NegBackward0>), tensor(-8.5678, device='cuda:0', grad_fn=<NegBackward0>), tensor(-87.0910, device='cuda:0', grad_fn=<AddBackward0>)]\n",
      "4.247233259949601\n",
      "tensor(-133.1270, device='cuda:0', grad_fn=<NegBackward0>) [tensor(-37.2989, device='cuda:0', grad_fn=<NegBackward0>), tensor(-8.9988, device='cuda:0', grad_fn=<NegBackward0>), tensor(-86.8293, device='cuda:0', grad_fn=<AddBackward0>)]\n",
      "4.333480861201428\n",
      "tensor(-131.3091, device='cuda:0', grad_fn=<NegBackward0>) [tensor(-37.2989, device='cuda:0', grad_fn=<NegBackward0>), tensor(-7.7585, device='cuda:0', grad_fn=<NegBackward0>), tensor(-86.2517, device='cuda:0', grad_fn=<AddBackward0>)]\n",
      "3.90564119706102\n",
      "tensor(-133.7187, device='cuda:0', grad_fn=<NegBackward0>) [tensor(-37.4780, device='cuda:0', grad_fn=<NegBackward0>), tensor(-9.8842, device='cuda:0', grad_fn=<NegBackward0>), tensor(-86.3565, device='cuda:0', grad_fn=<AddBackward0>)]\n",
      "4.177493330649368\n",
      "tensor(-130.5688, device='cuda:0', grad_fn=<NegBackward0>) [tensor(-37.4780, device='cuda:0', grad_fn=<NegBackward0>), tensor(-7.4418, device='cuda:0', grad_fn=<NegBackward0>), tensor(-85.6490, device='cuda:0', grad_fn=<AddBackward0>)]\n",
      "4.269435055685597\n",
      "tensor(-135.1340, device='cuda:0', grad_fn=<NegBackward0>) [tensor(-37.4959, device='cuda:0', grad_fn=<NegBackward0>), tensor(-8.9110, device='cuda:0', grad_fn=<NegBackward0>), tensor(-88.7270, device='cuda:0', grad_fn=<AddBackward0>)]\n",
      "4.162858883970959\n",
      "tensor(-133.7528, device='cuda:0', grad_fn=<NegBackward0>) [tensor(-37.4959, device='cuda:0', grad_fn=<NegBackward0>), tensor(-8.9183, device='cuda:0', grad_fn=<NegBackward0>), tensor(-87.3386, device='cuda:0', grad_fn=<AddBackward0>)]\n",
      "4.27498993870995\n",
      "tensor(-133.5106, device='cuda:0', grad_fn=<NegBackward0>) [tensor(-37.4629, device='cuda:0', grad_fn=<NegBackward0>), tensor(-8.6318, device='cuda:0', grad_fn=<NegBackward0>), tensor(-87.4160, device='cuda:0', grad_fn=<AddBackward0>)]\n",
      "4.134190614741798\n",
      "tensor(-135.2111, device='cuda:0', grad_fn=<NegBackward0>) [tensor(-37.4629, device='cuda:0', grad_fn=<NegBackward0>), tensor(-9.5741, device='cuda:0', grad_fn=<NegBackward0>), tensor(-88.1741, device='cuda:0', grad_fn=<AddBackward0>)]\n",
      "4.233876396786438\n",
      "tensor(-137.8871, device='cuda:0', grad_fn=<NegBackward0>) [tensor(-37.3372, device='cuda:0', grad_fn=<NegBackward0>), tensor(-10.5389, device='cuda:0', grad_fn=<NegBackward0>), tensor(-90.0110, device='cuda:0', grad_fn=<AddBackward0>)]\n",
      "4.433377363220082\n",
      "tensor(-138.4510, device='cuda:0', grad_fn=<NegBackward0>) [tensor(-37.3372, device='cuda:0', grad_fn=<NegBackward0>), tensor(-10.1376, device='cuda:0', grad_fn=<NegBackward0>), tensor(-90.9762, device='cuda:0', grad_fn=<AddBackward0>)]\n",
      "3.7151623540959\n",
      "tensor(-135.0296, device='cuda:0', grad_fn=<NegBackward0>) [tensor(-37.2673, device='cuda:0', grad_fn=<NegBackward0>), tensor(-10.3557, device='cuda:0', grad_fn=<NegBackward0>), tensor(-87.4066, device='cuda:0', grad_fn=<AddBackward0>)]\n",
      "4.149999853371599\n",
      "tensor(-133.9175, device='cuda:0', grad_fn=<NegBackward0>) [tensor(-37.2673, device='cuda:0', grad_fn=<NegBackward0>), tensor(-9.1892, device='cuda:0', grad_fn=<NegBackward0>), tensor(-87.4610, device='cuda:0', grad_fn=<AddBackward0>)]\n",
      "4.343269420189512\n",
      "tensor(-131.2725, device='cuda:0', grad_fn=<NegBackward0>) [tensor(-37.2733, device='cuda:0', grad_fn=<NegBackward0>), tensor(-7.5249, device='cuda:0', grad_fn=<NegBackward0>), tensor(-86.4742, device='cuda:0', grad_fn=<AddBackward0>)]\n",
      "4.080360143505349\n",
      "tensor(-135.6948, device='cuda:0', grad_fn=<NegBackward0>) [tensor(-37.2733, device='cuda:0', grad_fn=<NegBackward0>), tensor(-9.9199, device='cuda:0', grad_fn=<NegBackward0>), tensor(-88.5016, device='cuda:0', grad_fn=<AddBackward0>)]\n",
      "4.11797396431939\n",
      "tensor(-131.6454, device='cuda:0', grad_fn=<NegBackward0>) [tensor(-37.1828, device='cuda:0', grad_fn=<NegBackward0>), tensor(-7.7215, device='cuda:0', grad_fn=<NegBackward0>), tensor(-86.7410, device='cuda:0', grad_fn=<AddBackward0>)]\n",
      "4.403153139612612\n",
      "tensor(-134.7951, device='cuda:0', grad_fn=<NegBackward0>) [tensor(-37.1828, device='cuda:0', grad_fn=<NegBackward0>), tensor(-8.9256, device='cuda:0', grad_fn=<NegBackward0>), tensor(-88.6866, device='cuda:0', grad_fn=<AddBackward0>)]\n",
      "3.9159361455738244\n",
      "tensor(-133.0756, device='cuda:0', grad_fn=<NegBackward0>) [tensor(-37.3421, device='cuda:0', grad_fn=<NegBackward0>), tensor(-9.5623, device='cuda:0', grad_fn=<NegBackward0>), tensor(-86.1711, device='cuda:0', grad_fn=<AddBackward0>)]\n",
      "4.389544887804541\n",
      "tensor(-130.7861, device='cuda:0', grad_fn=<NegBackward0>) [tensor(-37.3421, device='cuda:0', grad_fn=<NegBackward0>), tensor(-7.3156, device='cuda:0', grad_fn=<NegBackward0>), tensor(-86.1283, device='cuda:0', grad_fn=<AddBackward0>)]\n",
      "4.153390590927177\n",
      "tensor(-135.1412, device='cuda:0', grad_fn=<NegBackward0>) [tensor(-37.4400, device='cuda:0', grad_fn=<NegBackward0>), tensor(-10.2874, device='cuda:0', grad_fn=<NegBackward0>), tensor(-87.4138, device='cuda:0', grad_fn=<AddBackward0>)]\n",
      "4.660363545154923\n",
      "tensor(-130.7307, device='cuda:0', grad_fn=<NegBackward0>) [tensor(-37.4400, device='cuda:0', grad_fn=<NegBackward0>), tensor(-7.1708, device='cuda:0', grad_fn=<NegBackward0>), tensor(-86.1199, device='cuda:0', grad_fn=<AddBackward0>)]\n",
      "4.1691762917025255\n",
      "tensor(-137.4739, device='cuda:0', grad_fn=<NegBackward0>) [tensor(-37.5676, device='cuda:0', grad_fn=<NegBackward0>), tensor(-10.7504, device='cuda:0', grad_fn=<NegBackward0>), tensor(-89.1560, device='cuda:0', grad_fn=<AddBackward0>)]\n",
      "3.9977918403788912\n",
      "tensor(-134.3379, device='cuda:0', grad_fn=<NegBackward0>) [tensor(-37.5676, device='cuda:0', grad_fn=<NegBackward0>), tensor(-9.0863, device='cuda:0', grad_fn=<NegBackward0>), tensor(-87.6839, device='cuda:0', grad_fn=<AddBackward0>)]\n",
      "4.138567708082654\n",
      "tensor(-134.1215, device='cuda:0', grad_fn=<NegBackward0>) [tensor(-37.4142, device='cuda:0', grad_fn=<NegBackward0>), tensor(-9.8859, device='cuda:0', grad_fn=<NegBackward0>), tensor(-86.8214, device='cuda:0', grad_fn=<AddBackward0>)]\n",
      "4.182569144709376\n",
      "tensor(-133.4503, device='cuda:0', grad_fn=<NegBackward0>) [tensor(-37.4142, device='cuda:0', grad_fn=<NegBackward0>), tensor(-8.7971, device='cuda:0', grad_fn=<NegBackward0>), tensor(-87.2389, device='cuda:0', grad_fn=<AddBackward0>)]\n",
      "3.809638599999089\n",
      "tensor(-133.5316, device='cuda:0', grad_fn=<NegBackward0>) [tensor(-37.3911, device='cuda:0', grad_fn=<NegBackward0>), tensor(-9.2695, device='cuda:0', grad_fn=<NegBackward0>), tensor(-86.8710, device='cuda:0', grad_fn=<AddBackward0>)]\n",
      "4.0034632289821985\n",
      "tensor(-133.3641, device='cuda:0', grad_fn=<NegBackward0>) [tensor(-37.3911, device='cuda:0', grad_fn=<NegBackward0>), tensor(-9.0900, device='cuda:0', grad_fn=<NegBackward0>), tensor(-86.8830, device='cuda:0', grad_fn=<AddBackward0>)]\n",
      "4.469767901477128\n",
      "tensor(-131.3996, device='cuda:0', grad_fn=<NegBackward0>) [tensor(-37.3190, device='cuda:0', grad_fn=<NegBackward0>), tensor(-7.6300, device='cuda:0', grad_fn=<NegBackward0>), tensor(-86.4506, device='cuda:0', grad_fn=<AddBackward0>)]\n",
      "4.483479050417237\n",
      "tensor(-131.2063, device='cuda:0', grad_fn=<NegBackward0>) [tensor(-37.3190, device='cuda:0', grad_fn=<NegBackward0>), tensor(-7.5582, device='cuda:0', grad_fn=<NegBackward0>), tensor(-86.3291, device='cuda:0', grad_fn=<AddBackward0>)]\n",
      "4.403326290501802\n",
      "tensor(-137.9065, device='cuda:0', grad_fn=<NegBackward0>) [tensor(-37.4649, device='cuda:0', grad_fn=<NegBackward0>), tensor(-10.9471, device='cuda:0', grad_fn=<NegBackward0>), tensor(-89.4945, device='cuda:0', grad_fn=<AddBackward0>)]\n",
      "4.582892983317049\n",
      "tensor(-130.9824, device='cuda:0', grad_fn=<NegBackward0>) [tensor(-37.4649, device='cuda:0', grad_fn=<NegBackward0>), tensor(-7.0997, device='cuda:0', grad_fn=<NegBackward0>), tensor(-86.4178, device='cuda:0', grad_fn=<AddBackward0>)]\n",
      "4.20846513993699\n",
      "tensor(-134.1155, device='cuda:0', grad_fn=<NegBackward0>) [tensor(-37.5902, device='cuda:0', grad_fn=<NegBackward0>), tensor(-8.9166, device='cuda:0', grad_fn=<NegBackward0>), tensor(-87.6086, device='cuda:0', grad_fn=<AddBackward0>)]\n",
      "4.507102269899462\n",
      "tensor(-134.5767, device='cuda:0', grad_fn=<NegBackward0>) [tensor(-37.5902, device='cuda:0', grad_fn=<NegBackward0>), tensor(-8.8301, device='cuda:0', grad_fn=<NegBackward0>), tensor(-88.1565, device='cuda:0', grad_fn=<AddBackward0>)]\n"
     ]
    },
    {
     "name": "stdout",
     "output_type": "stream",
     "text": [
      "4.038388861474747\n",
      "tensor(-137.7995, device='cuda:0', grad_fn=<NegBackward0>) [tensor(-37.5369, device='cuda:0', grad_fn=<NegBackward0>), tensor(-10.7948, device='cuda:0', grad_fn=<NegBackward0>), tensor(-89.4678, device='cuda:0', grad_fn=<AddBackward0>)]\n",
      "4.225689179578269\n",
      "tensor(-137.3249, device='cuda:0', grad_fn=<NegBackward0>) [tensor(-37.5369, device='cuda:0', grad_fn=<NegBackward0>), tensor(-10.3710, device='cuda:0', grad_fn=<NegBackward0>), tensor(-89.4171, device='cuda:0', grad_fn=<AddBackward0>)]\n",
      "4.045240944062123\n",
      "tensor(-134.5715, device='cuda:0', grad_fn=<NegBackward0>) [tensor(-37.4687, device='cuda:0', grad_fn=<NegBackward0>), tensor(-9.4984, device='cuda:0', grad_fn=<NegBackward0>), tensor(-87.6043, device='cuda:0', grad_fn=<AddBackward0>)]\n",
      "4.493269127215536\n",
      "tensor(-135.9914, device='cuda:0', grad_fn=<NegBackward0>) [tensor(-37.4687, device='cuda:0', grad_fn=<NegBackward0>), tensor(-9.6813, device='cuda:0', grad_fn=<NegBackward0>), tensor(-88.8414, device='cuda:0', grad_fn=<AddBackward0>)]\n",
      "4.393621577305781\n",
      "tensor(-137.9406, device='cuda:0', grad_fn=<NegBackward0>) [tensor(-37.3492, device='cuda:0', grad_fn=<NegBackward0>), tensor(-9.8704, device='cuda:0', grad_fn=<NegBackward0>), tensor(-90.7210, device='cuda:0', grad_fn=<AddBackward0>)]\n",
      "3.7063196289550233\n",
      "tensor(-131.8230, device='cuda:0', grad_fn=<NegBackward0>) [tensor(-37.3492, device='cuda:0', grad_fn=<NegBackward0>), tensor(-9.0275, device='cuda:0', grad_fn=<NegBackward0>), tensor(-85.4463, device='cuda:0', grad_fn=<AddBackward0>)]\n",
      "4.51467387119255\n",
      "tensor(-130.2247, device='cuda:0', grad_fn=<NegBackward0>) [tensor(-37.2659, device='cuda:0', grad_fn=<NegBackward0>), tensor(-7.2943, device='cuda:0', grad_fn=<NegBackward0>), tensor(-85.6644, device='cuda:0', grad_fn=<AddBackward0>)]\n",
      "4.0627534102767715\n",
      "tensor(-131.8626, device='cuda:0', grad_fn=<NegBackward0>) [tensor(-37.2659, device='cuda:0', grad_fn=<NegBackward0>), tensor(-8.6792, device='cuda:0', grad_fn=<NegBackward0>), tensor(-85.9175, device='cuda:0', grad_fn=<AddBackward0>)]\n",
      "4.2656952062336915\n",
      "tensor(-130.4353, device='cuda:0', grad_fn=<NegBackward0>) [tensor(-37.3012, device='cuda:0', grad_fn=<NegBackward0>), tensor(-7.4919, device='cuda:0', grad_fn=<NegBackward0>), tensor(-85.6422, device='cuda:0', grad_fn=<AddBackward0>)]\n",
      "4.652441064088246\n",
      "tensor(-135.0222, device='cuda:0', grad_fn=<NegBackward0>) [tensor(-37.3012, device='cuda:0', grad_fn=<NegBackward0>), tensor(-8.6484, device='cuda:0', grad_fn=<NegBackward0>), tensor(-89.0725, device='cuda:0', grad_fn=<AddBackward0>)]\n",
      "4.099437333030165\n",
      "tensor(-131.6579, device='cuda:0', grad_fn=<NegBackward0>) [tensor(-37.3892, device='cuda:0', grad_fn=<NegBackward0>), tensor(-8.0693, device='cuda:0', grad_fn=<NegBackward0>), tensor(-86.1994, device='cuda:0', grad_fn=<AddBackward0>)]\n",
      "4.23631390148822\n",
      "tensor(-134.7017, device='cuda:0', grad_fn=<NegBackward0>) [tensor(-37.3892, device='cuda:0', grad_fn=<NegBackward0>), tensor(-9.0287, device='cuda:0', grad_fn=<NegBackward0>), tensor(-88.2837, device='cuda:0', grad_fn=<AddBackward0>)]\n",
      "4.051836898065321\n",
      "tensor(-136.0883, device='cuda:0', grad_fn=<NegBackward0>) [tensor(-37.4865, device='cuda:0', grad_fn=<NegBackward0>), tensor(-10.1184, device='cuda:0', grad_fn=<NegBackward0>), tensor(-88.4834, device='cuda:0', grad_fn=<AddBackward0>)]\n",
      "4.8122316248079855\n",
      "tensor(-133.9806, device='cuda:0', grad_fn=<NegBackward0>) [tensor(-37.4865, device='cuda:0', grad_fn=<NegBackward0>), tensor(-8.3805, device='cuda:0', grad_fn=<NegBackward0>), tensor(-88.1135, device='cuda:0', grad_fn=<AddBackward0>)]\n",
      "4.7295928870400505\n",
      "tensor(-131.9881, device='cuda:0', grad_fn=<NegBackward0>) [tensor(-37.5437, device='cuda:0', grad_fn=<NegBackward0>), tensor(-7.9115, device='cuda:0', grad_fn=<NegBackward0>), tensor(-86.5330, device='cuda:0', grad_fn=<AddBackward0>)]\n",
      "4.0036382091112115\n",
      "tensor(-133.1383, device='cuda:0', grad_fn=<NegBackward0>) [tensor(-37.5437, device='cuda:0', grad_fn=<NegBackward0>), tensor(-8.1237, device='cuda:0', grad_fn=<NegBackward0>), tensor(-87.4709, device='cuda:0', grad_fn=<AddBackward0>)]\n",
      "4.514214158210474\n",
      "tensor(-134.9541, device='cuda:0', grad_fn=<NegBackward0>) [tensor(-37.6788, device='cuda:0', grad_fn=<NegBackward0>), tensor(-8.7756, device='cuda:0', grad_fn=<NegBackward0>), tensor(-88.4997, device='cuda:0', grad_fn=<AddBackward0>)]\n",
      "4.086051017676604\n",
      "tensor(-132.6174, device='cuda:0', grad_fn=<NegBackward0>) [tensor(-37.6788, device='cuda:0', grad_fn=<NegBackward0>), tensor(-8.6902, device='cuda:0', grad_fn=<NegBackward0>), tensor(-86.2485, device='cuda:0', grad_fn=<AddBackward0>)]\n",
      "4.135694002645242\n",
      "tensor(-133.6586, device='cuda:0', grad_fn=<NegBackward0>) [tensor(-37.6273, device='cuda:0', grad_fn=<NegBackward0>), tensor(-8.8655, device='cuda:0', grad_fn=<NegBackward0>), tensor(-87.1658, device='cuda:0', grad_fn=<AddBackward0>)]\n",
      "3.8730360450357533\n",
      "tensor(-138.1980, device='cuda:0', grad_fn=<NegBackward0>) [tensor(-37.6273, device='cuda:0', grad_fn=<NegBackward0>), tensor(-10.9598, device='cuda:0', grad_fn=<NegBackward0>), tensor(-89.6110, device='cuda:0', grad_fn=<AddBackward0>)]\n",
      "4.352685380059346\n",
      "tensor(-135.3878, device='cuda:0', grad_fn=<NegBackward0>) [tensor(-37.3615, device='cuda:0', grad_fn=<NegBackward0>), tensor(-9.4219, device='cuda:0', grad_fn=<NegBackward0>), tensor(-88.6044, device='cuda:0', grad_fn=<AddBackward0>)]\n",
      "4.2342163049404125\n",
      "tensor(-132.1673, device='cuda:0', grad_fn=<NegBackward0>) [tensor(-37.3615, device='cuda:0', grad_fn=<NegBackward0>), tensor(-7.9352, device='cuda:0', grad_fn=<NegBackward0>), tensor(-86.8706, device='cuda:0', grad_fn=<AddBackward0>)]\n",
      "3.7946240390759893\n",
      "tensor(-136.6326, device='cuda:0', grad_fn=<NegBackward0>) [tensor(-37.4091, device='cuda:0', grad_fn=<NegBackward0>), tensor(-11.2752, device='cuda:0', grad_fn=<NegBackward0>), tensor(-87.9483, device='cuda:0', grad_fn=<AddBackward0>)]\n",
      "4.093204716962957\n",
      "tensor(-133.4790, device='cuda:0', grad_fn=<NegBackward0>) [tensor(-37.4091, device='cuda:0', grad_fn=<NegBackward0>), tensor(-9.0093, device='cuda:0', grad_fn=<NegBackward0>), tensor(-87.0606, device='cuda:0', grad_fn=<AddBackward0>)]\n",
      "4.015680603325232\n",
      "tensor(-133.1669, device='cuda:0', grad_fn=<NegBackward0>) [tensor(-37.3694, device='cuda:0', grad_fn=<NegBackward0>), tensor(-8.4685, device='cuda:0', grad_fn=<NegBackward0>), tensor(-87.3290, device='cuda:0', grad_fn=<AddBackward0>)]\n",
      "3.533260749483152\n",
      "tensor(-131.9452, device='cuda:0', grad_fn=<NegBackward0>) [tensor(-37.3694, device='cuda:0', grad_fn=<NegBackward0>), tensor(-10.2956, device='cuda:0', grad_fn=<NegBackward0>), tensor(-84.2802, device='cuda:0', grad_fn=<AddBackward0>)]\n",
      "4.055741693814801\n",
      "tensor(-132.7657, device='cuda:0', grad_fn=<NegBackward0>) [tensor(-37.0873, device='cuda:0', grad_fn=<NegBackward0>), tensor(-8.8861, device='cuda:0', grad_fn=<NegBackward0>), tensor(-86.7923, device='cuda:0', grad_fn=<AddBackward0>)]\n",
      "4.286726114710504\n",
      "tensor(-135.0280, device='cuda:0', grad_fn=<NegBackward0>) [tensor(-37.0873, device='cuda:0', grad_fn=<NegBackward0>), tensor(-9.8234, device='cuda:0', grad_fn=<NegBackward0>), tensor(-88.1172, device='cuda:0', grad_fn=<AddBackward0>)]\n",
      "4.633664227230341\n",
      "tensor(-131.8799, device='cuda:0', grad_fn=<NegBackward0>) [tensor(-36.8871, device='cuda:0', grad_fn=<NegBackward0>), tensor(-8.0432, device='cuda:0', grad_fn=<NegBackward0>), tensor(-86.9496, device='cuda:0', grad_fn=<AddBackward0>)]\n",
      "4.047705965090635\n",
      "tensor(-134.8884, device='cuda:0', grad_fn=<NegBackward0>) [tensor(-36.8871, device='cuda:0', grad_fn=<NegBackward0>), tensor(-10.0991, device='cuda:0', grad_fn=<NegBackward0>), tensor(-87.9023, device='cuda:0', grad_fn=<AddBackward0>)]\n",
      "4.61055155501654\n",
      "tensor(-131.9439, device='cuda:0', grad_fn=<NegBackward0>) [tensor(-37.0029, device='cuda:0', grad_fn=<NegBackward0>), tensor(-8.4240, device='cuda:0', grad_fn=<NegBackward0>), tensor(-86.5170, device='cuda:0', grad_fn=<AddBackward0>)]\n",
      "4.576424706995129\n",
      "tensor(-135.6600, device='cuda:0', grad_fn=<NegBackward0>) [tensor(-37.0029, device='cuda:0', grad_fn=<NegBackward0>), tensor(-10.2259, device='cuda:0', grad_fn=<NegBackward0>), tensor(-88.4312, device='cuda:0', grad_fn=<AddBackward0>)]\n",
      "4.406192591891983\n",
      "tensor(-131.9215, device='cuda:0', grad_fn=<NegBackward0>) [tensor(-36.9112, device='cuda:0', grad_fn=<NegBackward0>), tensor(-8.1967, device='cuda:0', grad_fn=<NegBackward0>), tensor(-86.8136, device='cuda:0', grad_fn=<AddBackward0>)]\n"
     ]
    },
    {
     "name": "stdout",
     "output_type": "stream",
     "text": [
      "3.936757408673203\n",
      "tensor(-132.6087, device='cuda:0', grad_fn=<NegBackward0>) [tensor(-36.9112, device='cuda:0', grad_fn=<NegBackward0>), tensor(-9.5880, device='cuda:0', grad_fn=<NegBackward0>), tensor(-86.1095, device='cuda:0', grad_fn=<AddBackward0>)]\n",
      "4.333490102093371\n",
      "tensor(-132.6425, device='cuda:0', grad_fn=<NegBackward0>) [tensor(-37.1342, device='cuda:0', grad_fn=<NegBackward0>), tensor(-8.6552, device='cuda:0', grad_fn=<NegBackward0>), tensor(-86.8531, device='cuda:0', grad_fn=<AddBackward0>)]\n",
      "4.294924950309827\n",
      "tensor(-136.3706, device='cuda:0', grad_fn=<NegBackward0>) [tensor(-37.1342, device='cuda:0', grad_fn=<NegBackward0>), tensor(-9.9723, device='cuda:0', grad_fn=<NegBackward0>), tensor(-89.2641, device='cuda:0', grad_fn=<AddBackward0>)]\n",
      "3.9405744084907943\n",
      "tensor(-134.2839, device='cuda:0', grad_fn=<NegBackward0>) [tensor(-37.1862, device='cuda:0', grad_fn=<NegBackward0>), tensor(-10.2735, device='cuda:0', grad_fn=<NegBackward0>), tensor(-86.8243, device='cuda:0', grad_fn=<AddBackward0>)]\n",
      "4.242832610114973\n",
      "tensor(-135.2414, device='cuda:0', grad_fn=<NegBackward0>) [tensor(-37.1862, device='cuda:0', grad_fn=<NegBackward0>), tensor(-9.4378, device='cuda:0', grad_fn=<NegBackward0>), tensor(-88.6175, device='cuda:0', grad_fn=<AddBackward0>)]\n",
      "4.400401508423031\n",
      "tensor(-130.8521, device='cuda:0', grad_fn=<NegBackward0>) [tensor(-37.2751, device='cuda:0', grad_fn=<NegBackward0>), tensor(-7.8925, device='cuda:0', grad_fn=<NegBackward0>), tensor(-85.6845, device='cuda:0', grad_fn=<AddBackward0>)]\n",
      "4.686187149186224\n",
      "tensor(-136.6921, device='cuda:0', grad_fn=<NegBackward0>) [tensor(-37.2751, device='cuda:0', grad_fn=<NegBackward0>), tensor(-8.9670, device='cuda:0', grad_fn=<NegBackward0>), tensor(-90.4501, device='cuda:0', grad_fn=<AddBackward0>)]\n",
      "4.29858382044615\n",
      "tensor(-133.2698, device='cuda:0', grad_fn=<NegBackward0>) [tensor(-37.3773, device='cuda:0', grad_fn=<NegBackward0>), tensor(-8.4154, device='cuda:0', grad_fn=<NegBackward0>), tensor(-87.4771, device='cuda:0', grad_fn=<AddBackward0>)]\n",
      "4.560691172145209\n",
      "tensor(-135.6677, device='cuda:0', grad_fn=<NegBackward0>) [tensor(-37.3773, device='cuda:0', grad_fn=<NegBackward0>), tensor(-9.4293, device='cuda:0', grad_fn=<NegBackward0>), tensor(-88.8612, device='cuda:0', grad_fn=<AddBackward0>)]\n",
      "4.356856080065883\n",
      "tensor(-133.8750, device='cuda:0', grad_fn=<NegBackward0>) [tensor(-37.4938, device='cuda:0', grad_fn=<NegBackward0>), tensor(-8.4918, device='cuda:0', grad_fn=<NegBackward0>), tensor(-87.8895, device='cuda:0', grad_fn=<AddBackward0>)]\n",
      "4.383814797282483\n",
      "tensor(-134.4066, device='cuda:0', grad_fn=<NegBackward0>) [tensor(-37.4938, device='cuda:0', grad_fn=<NegBackward0>), tensor(-9.4752, device='cuda:0', grad_fn=<NegBackward0>), tensor(-87.4377, device='cuda:0', grad_fn=<AddBackward0>)]\n",
      "4.9013901322414215\n",
      "tensor(-138.4245, device='cuda:0', grad_fn=<NegBackward0>) [tensor(-37.4598, device='cuda:0', grad_fn=<NegBackward0>), tensor(-9.4003, device='cuda:0', grad_fn=<NegBackward0>), tensor(-91.5644, device='cuda:0', grad_fn=<AddBackward0>)]\n",
      "3.998450559817624\n",
      "tensor(-133.9818, device='cuda:0', grad_fn=<NegBackward0>) [tensor(-37.4598, device='cuda:0', grad_fn=<NegBackward0>), tensor(-9.6993, device='cuda:0', grad_fn=<NegBackward0>), tensor(-86.8228, device='cuda:0', grad_fn=<AddBackward0>)]\n",
      "4.523942150197807\n",
      "tensor(-138.3832, device='cuda:0', grad_fn=<NegBackward0>) [tensor(-37.3212, device='cuda:0', grad_fn=<NegBackward0>), tensor(-10.4113, device='cuda:0', grad_fn=<NegBackward0>), tensor(-90.6507, device='cuda:0', grad_fn=<AddBackward0>)]\n",
      "4.613524299638404\n",
      "tensor(-137.3512, device='cuda:0', grad_fn=<NegBackward0>) [tensor(-37.3212, device='cuda:0', grad_fn=<NegBackward0>), tensor(-10.0311, device='cuda:0', grad_fn=<NegBackward0>), tensor(-89.9989, device='cuda:0', grad_fn=<AddBackward0>)]\n",
      "4.219544505217358\n",
      "tensor(-134.7131, device='cuda:0', grad_fn=<NegBackward0>) [tensor(-37.3080, device='cuda:0', grad_fn=<NegBackward0>), tensor(-8.9420, device='cuda:0', grad_fn=<NegBackward0>), tensor(-88.4630, device='cuda:0', grad_fn=<AddBackward0>)]\n",
      "4.551477223887431\n",
      "tensor(-133.7562, device='cuda:0', grad_fn=<NegBackward0>) [tensor(-37.3080, device='cuda:0', grad_fn=<NegBackward0>), tensor(-8.5421, device='cuda:0', grad_fn=<NegBackward0>), tensor(-87.9061, device='cuda:0', grad_fn=<AddBackward0>)]\n",
      "4.623474181100213\n",
      "tensor(-136.5497, device='cuda:0', grad_fn=<NegBackward0>) [tensor(-37.4894, device='cuda:0', grad_fn=<NegBackward0>), tensor(-9.8643, device='cuda:0', grad_fn=<NegBackward0>), tensor(-89.1960, device='cuda:0', grad_fn=<AddBackward0>)]\n",
      "4.675410872548555\n",
      "tensor(-134.8975, device='cuda:0', grad_fn=<NegBackward0>) [tensor(-37.4894, device='cuda:0', grad_fn=<NegBackward0>), tensor(-9.1460, device='cuda:0', grad_fn=<NegBackward0>), tensor(-88.2621, device='cuda:0', grad_fn=<AddBackward0>)]\n",
      "4.606326493928357\n",
      "tensor(-133.6353, device='cuda:0', grad_fn=<NegBackward0>) [tensor(-37.5743, device='cuda:0', grad_fn=<NegBackward0>), tensor(-8.3837, device='cuda:0', grad_fn=<NegBackward0>), tensor(-87.6773, device='cuda:0', grad_fn=<AddBackward0>)]\n",
      "4.5437656984132655\n",
      "tensor(-133.5817, device='cuda:0', grad_fn=<NegBackward0>) [tensor(-37.5743, device='cuda:0', grad_fn=<NegBackward0>), tensor(-8.0643, device='cuda:0', grad_fn=<NegBackward0>), tensor(-87.9431, device='cuda:0', grad_fn=<AddBackward0>)]\n",
      "4.559920120801727\n",
      "tensor(-134.4245, device='cuda:0', grad_fn=<NegBackward0>) [tensor(-37.7126, device='cuda:0', grad_fn=<NegBackward0>), tensor(-8.7272, device='cuda:0', grad_fn=<NegBackward0>), tensor(-87.9847, device='cuda:0', grad_fn=<AddBackward0>)]\n",
      "3.9999252201744713\n",
      "tensor(-137.2544, device='cuda:0', grad_fn=<NegBackward0>) [tensor(-37.7126, device='cuda:0', grad_fn=<NegBackward0>), tensor(-10.6090, device='cuda:0', grad_fn=<NegBackward0>), tensor(-88.9328, device='cuda:0', grad_fn=<AddBackward0>)]\n",
      "3.9555898254558812\n",
      "tensor(-135.7867, device='cuda:0', grad_fn=<NegBackward0>) [tensor(-37.5281, device='cuda:0', grad_fn=<NegBackward0>), tensor(-10.9679, device='cuda:0', grad_fn=<NegBackward0>), tensor(-87.2907, device='cuda:0', grad_fn=<AddBackward0>)]\n",
      "4.401214608658055\n",
      "tensor(-134.6353, device='cuda:0', grad_fn=<NegBackward0>) [tensor(-37.5281, device='cuda:0', grad_fn=<NegBackward0>), tensor(-8.6567, device='cuda:0', grad_fn=<NegBackward0>), tensor(-88.4505, device='cuda:0', grad_fn=<AddBackward0>)]\n",
      "4.424170166957733\n",
      "tensor(-134.6924, device='cuda:0', grad_fn=<NegBackward0>) [tensor(-37.6426, device='cuda:0', grad_fn=<NegBackward0>), tensor(-9.0779, device='cuda:0', grad_fn=<NegBackward0>), tensor(-87.9718, device='cuda:0', grad_fn=<AddBackward0>)]\n",
      "4.150238521572684\n",
      "tensor(-135.4614, device='cuda:0', grad_fn=<NegBackward0>) [tensor(-37.6426, device='cuda:0', grad_fn=<NegBackward0>), tensor(-9.4549, device='cuda:0', grad_fn=<NegBackward0>), tensor(-88.3639, device='cuda:0', grad_fn=<AddBackward0>)]\n",
      "4.381399380379654\n",
      "tensor(-135.6681, device='cuda:0', grad_fn=<NegBackward0>) [tensor(-37.6977, device='cuda:0', grad_fn=<NegBackward0>), tensor(-9.3563, device='cuda:0', grad_fn=<NegBackward0>), tensor(-88.6141, device='cuda:0', grad_fn=<AddBackward0>)]\n",
      "4.342791967831046\n",
      "tensor(-135.8699, device='cuda:0', grad_fn=<NegBackward0>) [tensor(-37.6977, device='cuda:0', grad_fn=<NegBackward0>), tensor(-8.9698, device='cuda:0', grad_fn=<NegBackward0>), tensor(-89.2024, device='cuda:0', grad_fn=<AddBackward0>)]\n",
      "4.1788348900063985\n",
      "tensor(-134.4811, device='cuda:0', grad_fn=<NegBackward0>) [tensor(-37.7240, device='cuda:0', grad_fn=<NegBackward0>), tensor(-9.3232, device='cuda:0', grad_fn=<NegBackward0>), tensor(-87.4340, device='cuda:0', grad_fn=<AddBackward0>)]\n",
      "4.602861207464712\n",
      "tensor(-134.4534, device='cuda:0', grad_fn=<NegBackward0>) [tensor(-37.7240, device='cuda:0', grad_fn=<NegBackward0>), tensor(-8.4441, device='cuda:0', grad_fn=<NegBackward0>), tensor(-88.2852, device='cuda:0', grad_fn=<AddBackward0>)]\n",
      "4.2000676483673605\n",
      "tensor(-136.5238, device='cuda:0', grad_fn=<NegBackward0>) [tensor(-37.7973, device='cuda:0', grad_fn=<NegBackward0>), tensor(-9.8893, device='cuda:0', grad_fn=<NegBackward0>), tensor(-88.8372, device='cuda:0', grad_fn=<AddBackward0>)]\n",
      "4.260074903920133\n",
      "tensor(-134.2585, device='cuda:0', grad_fn=<NegBackward0>) [tensor(-37.7973, device='cuda:0', grad_fn=<NegBackward0>), tensor(-8.9097, device='cuda:0', grad_fn=<NegBackward0>), tensor(-87.5515, device='cuda:0', grad_fn=<AddBackward0>)]\n"
     ]
    },
    {
     "name": "stdout",
     "output_type": "stream",
     "text": [
      "4.037651525460712\n",
      "tensor(-135.6401, device='cuda:0', grad_fn=<NegBackward0>) [tensor(-37.7511, device='cuda:0', grad_fn=<NegBackward0>), tensor(-10.0975, device='cuda:0', grad_fn=<NegBackward0>), tensor(-87.7915, device='cuda:0', grad_fn=<AddBackward0>)]\n",
      "4.07536443721148\n",
      "tensor(-137.4727, device='cuda:0', grad_fn=<NegBackward0>) [tensor(-37.7511, device='cuda:0', grad_fn=<NegBackward0>), tensor(-10.8437, device='cuda:0', grad_fn=<NegBackward0>), tensor(-88.8779, device='cuda:0', grad_fn=<AddBackward0>)]\n",
      "4.40457934110579\n",
      "tensor(-132.8989, device='cuda:0', grad_fn=<NegBackward0>) [tensor(-37.5947, device='cuda:0', grad_fn=<NegBackward0>), tensor(-7.7767, device='cuda:0', grad_fn=<NegBackward0>), tensor(-87.5274, device='cuda:0', grad_fn=<AddBackward0>)]\n",
      "4.743732578932141\n",
      "tensor(-137.8658, device='cuda:0', grad_fn=<NegBackward0>) [tensor(-37.5947, device='cuda:0', grad_fn=<NegBackward0>), tensor(-9.5312, device='cuda:0', grad_fn=<NegBackward0>), tensor(-90.7399, device='cuda:0', grad_fn=<AddBackward0>)]\n",
      "4.490297675458955\n",
      "tensor(-138.9106, device='cuda:0', grad_fn=<NegBackward0>) [tensor(-37.6003, device='cuda:0', grad_fn=<NegBackward0>), tensor(-10.1521, device='cuda:0', grad_fn=<NegBackward0>), tensor(-91.1581, device='cuda:0', grad_fn=<AddBackward0>)]\n",
      "4.503540611032574\n",
      "tensor(-133.0929, device='cuda:0', grad_fn=<NegBackward0>) [tensor(-37.6003, device='cuda:0', grad_fn=<NegBackward0>), tensor(-8.1212, device='cuda:0', grad_fn=<NegBackward0>), tensor(-87.3714, device='cuda:0', grad_fn=<AddBackward0>)]\n",
      "5.039992038418291\n",
      "tensor(-136.3596, device='cuda:0', grad_fn=<NegBackward0>) [tensor(-37.7596, device='cuda:0', grad_fn=<NegBackward0>), tensor(-8.5745, device='cuda:0', grad_fn=<NegBackward0>), tensor(-90.0255, device='cuda:0', grad_fn=<AddBackward0>)]\n",
      "4.486512517492809\n",
      "tensor(-132.0563, device='cuda:0', grad_fn=<NegBackward0>) [tensor(-37.7596, device='cuda:0', grad_fn=<NegBackward0>), tensor(-7.5635, device='cuda:0', grad_fn=<NegBackward0>), tensor(-86.7332, device='cuda:0', grad_fn=<AddBackward0>)]\n",
      "4.6139177961118065\n",
      "tensor(-137.4613, device='cuda:0', grad_fn=<NegBackward0>) [tensor(-37.8653, device='cuda:0', grad_fn=<NegBackward0>), tensor(-9.8037, device='cuda:0', grad_fn=<NegBackward0>), tensor(-89.7923, device='cuda:0', grad_fn=<AddBackward0>)]\n",
      "3.715336866007869\n",
      "tensor(-134.2693, device='cuda:0', grad_fn=<NegBackward0>) [tensor(-37.8653, device='cuda:0', grad_fn=<NegBackward0>), tensor(-9.6958, device='cuda:0', grad_fn=<NegBackward0>), tensor(-86.7082, device='cuda:0', grad_fn=<AddBackward0>)]\n",
      "4.8007486811173266\n",
      "tensor(-138.4076, device='cuda:0', grad_fn=<NegBackward0>) [tensor(-37.6674, device='cuda:0', grad_fn=<NegBackward0>), tensor(-10.0319, device='cuda:0', grad_fn=<NegBackward0>), tensor(-90.7083, device='cuda:0', grad_fn=<AddBackward0>)]\n",
      "4.323976635797167\n",
      "tensor(-139.5818, device='cuda:0', grad_fn=<NegBackward0>) [tensor(-37.6674, device='cuda:0', grad_fn=<NegBackward0>), tensor(-11.0339, device='cuda:0', grad_fn=<NegBackward0>), tensor(-90.8805, device='cuda:0', grad_fn=<AddBackward0>)]\n",
      "4.898273656831748\n",
      "tensor(-132.5873, device='cuda:0', grad_fn=<NegBackward0>) [tensor(-37.6188, device='cuda:0', grad_fn=<NegBackward0>), tensor(-7.7981, device='cuda:0', grad_fn=<NegBackward0>), tensor(-87.1705, device='cuda:0', grad_fn=<AddBackward0>)]\n",
      "4.354006343112678\n",
      "tensor(-132.6577, device='cuda:0', grad_fn=<NegBackward0>) [tensor(-37.6188, device='cuda:0', grad_fn=<NegBackward0>), tensor(-8.2321, device='cuda:0', grad_fn=<NegBackward0>), tensor(-86.8068, device='cuda:0', grad_fn=<AddBackward0>)]\n",
      "4.274998708065385\n",
      "tensor(-136.4581, device='cuda:0', grad_fn=<NegBackward0>) [tensor(-37.7385, device='cuda:0', grad_fn=<NegBackward0>), tensor(-9.4954, device='cuda:0', grad_fn=<NegBackward0>), tensor(-89.2242, device='cuda:0', grad_fn=<AddBackward0>)]\n",
      "4.269435910440465\n",
      "tensor(-133.2393, device='cuda:0', grad_fn=<NegBackward0>) [tensor(-37.7385, device='cuda:0', grad_fn=<NegBackward0>), tensor(-8.2481, device='cuda:0', grad_fn=<NegBackward0>), tensor(-87.2527, device='cuda:0', grad_fn=<AddBackward0>)]\n",
      "4.798737643206351\n",
      "tensor(-137.0395, device='cuda:0', grad_fn=<NegBackward0>) [tensor(-37.8167, device='cuda:0', grad_fn=<NegBackward0>), tensor(-9.4150, device='cuda:0', grad_fn=<NegBackward0>), tensor(-89.8078, device='cuda:0', grad_fn=<AddBackward0>)]\n",
      "4.496533406361851\n",
      "tensor(-136.7424, device='cuda:0', grad_fn=<NegBackward0>) [tensor(-37.8167, device='cuda:0', grad_fn=<NegBackward0>), tensor(-9.7222, device='cuda:0', grad_fn=<NegBackward0>), tensor(-89.2035, device='cuda:0', grad_fn=<AddBackward0>)]\n",
      "4.403294124540465\n",
      "tensor(-135.6323, device='cuda:0', grad_fn=<NegBackward0>) [tensor(-37.7866, device='cuda:0', grad_fn=<NegBackward0>), tensor(-8.9914, device='cuda:0', grad_fn=<NegBackward0>), tensor(-88.8543, device='cuda:0', grad_fn=<AddBackward0>)]\n",
      "4.76672055291493\n",
      "tensor(-135.3578, device='cuda:0', grad_fn=<NegBackward0>) [tensor(-37.7866, device='cuda:0', grad_fn=<NegBackward0>), tensor(-8.7378, device='cuda:0', grad_fn=<NegBackward0>), tensor(-88.8334, device='cuda:0', grad_fn=<AddBackward0>)]\n",
      "4.640028022445832\n",
      "tensor(-134.2659, device='cuda:0', grad_fn=<NegBackward0>) [tensor(-37.8559, device='cuda:0', grad_fn=<NegBackward0>), tensor(-8.1380, device='cuda:0', grad_fn=<NegBackward0>), tensor(-88.2720, device='cuda:0', grad_fn=<AddBackward0>)]\n",
      "4.241677507883691\n",
      "tensor(-130.8670, device='cuda:0', grad_fn=<NegBackward0>) [tensor(-37.8559, device='cuda:0', grad_fn=<NegBackward0>), tensor(-7.2766, device='cuda:0', grad_fn=<NegBackward0>), tensor(-85.7345, device='cuda:0', grad_fn=<AddBackward0>)]\n",
      "4.553489234788058\n",
      "tensor(-131.9772, device='cuda:0', grad_fn=<NegBackward0>) [tensor(-37.9523, device='cuda:0', grad_fn=<NegBackward0>), tensor(-7.4647, device='cuda:0', grad_fn=<NegBackward0>), tensor(-86.5602, device='cuda:0', grad_fn=<AddBackward0>)]\n",
      "3.9972314280337895\n",
      "tensor(-133.8447, device='cuda:0', grad_fn=<NegBackward0>) [tensor(-37.9523, device='cuda:0', grad_fn=<NegBackward0>), tensor(-9.2803, device='cuda:0', grad_fn=<NegBackward0>), tensor(-86.6122, device='cuda:0', grad_fn=<AddBackward0>)]\n",
      "4.59306775085244\n",
      "tensor(-133.0996, device='cuda:0', grad_fn=<NegBackward0>) [tensor(-37.7615, device='cuda:0', grad_fn=<NegBackward0>), tensor(-7.9095, device='cuda:0', grad_fn=<NegBackward0>), tensor(-87.4286, device='cuda:0', grad_fn=<AddBackward0>)]\n",
      "4.1810598352720385\n",
      "tensor(-135.9356, device='cuda:0', grad_fn=<NegBackward0>) [tensor(-37.7615, device='cuda:0', grad_fn=<NegBackward0>), tensor(-9.8884, device='cuda:0', grad_fn=<NegBackward0>), tensor(-88.2857, device='cuda:0', grad_fn=<AddBackward0>)]\n",
      "4.662855031189163\n",
      "tensor(-137.3824, device='cuda:0', grad_fn=<NegBackward0>) [tensor(-37.6679, device='cuda:0', grad_fn=<NegBackward0>), tensor(-9.2772, device='cuda:0', grad_fn=<NegBackward0>), tensor(-90.4373, device='cuda:0', grad_fn=<AddBackward0>)]\n",
      "4.381350543965829\n",
      "tensor(-130.5839, device='cuda:0', grad_fn=<NegBackward0>) [tensor(-37.6679, device='cuda:0', grad_fn=<NegBackward0>), tensor(-7.0735, device='cuda:0', grad_fn=<NegBackward0>), tensor(-85.8425, device='cuda:0', grad_fn=<AddBackward0>)]\n",
      "4.228549013735858\n",
      "tensor(-130.9482, device='cuda:0', grad_fn=<NegBackward0>) [tensor(-37.8322, device='cuda:0', grad_fn=<NegBackward0>), tensor(-7.5513, device='cuda:0', grad_fn=<NegBackward0>), tensor(-85.5647, device='cuda:0', grad_fn=<AddBackward0>)]\n",
      "5.142739055215261\n",
      "tensor(-137.3466, device='cuda:0', grad_fn=<NegBackward0>) [tensor(-37.8322, device='cuda:0', grad_fn=<NegBackward0>), tensor(-8.7895, device='cuda:0', grad_fn=<NegBackward0>), tensor(-90.7249, device='cuda:0', grad_fn=<AddBackward0>)]\n",
      "4.097111727090428\n",
      "tensor(-134.6353, device='cuda:0', grad_fn=<NegBackward0>) [tensor(-37.9245, device='cuda:0', grad_fn=<NegBackward0>), tensor(-8.7925, device='cuda:0', grad_fn=<NegBackward0>), tensor(-87.9184, device='cuda:0', grad_fn=<AddBackward0>)]\n",
      "4.396404590695298\n",
      "tensor(-136.7243, device='cuda:0', grad_fn=<NegBackward0>) [tensor(-37.9245, device='cuda:0', grad_fn=<NegBackward0>), tensor(-9.5082, device='cuda:0', grad_fn=<NegBackward0>), tensor(-89.2916, device='cuda:0', grad_fn=<AddBackward0>)]\n",
      "4.459298573437347\n",
      "tensor(-135.8171, device='cuda:0', grad_fn=<NegBackward0>) [tensor(-37.8414, device='cuda:0', grad_fn=<NegBackward0>), tensor(-8.7787, device='cuda:0', grad_fn=<NegBackward0>), tensor(-89.1970, device='cuda:0', grad_fn=<AddBackward0>)]\n"
     ]
    },
    {
     "name": "stdout",
     "output_type": "stream",
     "text": [
      "4.196699273073276\n",
      "tensor(-135.8686, device='cuda:0', grad_fn=<NegBackward0>) [tensor(-37.8414, device='cuda:0', grad_fn=<NegBackward0>), tensor(-9.2528, device='cuda:0', grad_fn=<NegBackward0>), tensor(-88.7744, device='cuda:0', grad_fn=<AddBackward0>)]\n",
      "4.139295548703782\n",
      "tensor(-134.6478, device='cuda:0', grad_fn=<NegBackward0>) [tensor(-37.8369, device='cuda:0', grad_fn=<NegBackward0>), tensor(-8.8261, device='cuda:0', grad_fn=<NegBackward0>), tensor(-87.9848, device='cuda:0', grad_fn=<AddBackward0>)]\n",
      "4.429076655611088\n",
      "tensor(-140.1419, device='cuda:0', grad_fn=<NegBackward0>) [tensor(-37.8369, device='cuda:0', grad_fn=<NegBackward0>), tensor(-10.7662, device='cuda:0', grad_fn=<NegBackward0>), tensor(-91.5387, device='cuda:0', grad_fn=<AddBackward0>)]\n",
      "4.643093727994565\n",
      "tensor(-135.5265, device='cuda:0', grad_fn=<NegBackward0>) [tensor(-37.7402, device='cuda:0', grad_fn=<NegBackward0>), tensor(-8.9382, device='cuda:0', grad_fn=<NegBackward0>), tensor(-88.8480, device='cuda:0', grad_fn=<AddBackward0>)]\n",
      "4.337666518164366\n",
      "tensor(-141.5591, device='cuda:0', grad_fn=<NegBackward0>) [tensor(-37.7402, device='cuda:0', grad_fn=<NegBackward0>), tensor(-11.3231, device='cuda:0', grad_fn=<NegBackward0>), tensor(-92.4957, device='cuda:0', grad_fn=<AddBackward0>)]\n",
      "3.853388707525986\n",
      "tensor(-135.5842, device='cuda:0', grad_fn=<NegBackward0>) [tensor(-37.6015, device='cuda:0', grad_fn=<NegBackward0>), tensor(-10.8221, device='cuda:0', grad_fn=<NegBackward0>), tensor(-87.1605, device='cuda:0', grad_fn=<AddBackward0>)]\n",
      "4.52044764556699\n",
      "tensor(-130.6712, device='cuda:0', grad_fn=<NegBackward0>) [tensor(-37.6015, device='cuda:0', grad_fn=<NegBackward0>), tensor(-6.9549, device='cuda:0', grad_fn=<NegBackward0>), tensor(-86.1148, device='cuda:0', grad_fn=<AddBackward0>)]\n",
      "5.020453509492954\n",
      "tensor(-136.5054, device='cuda:0', grad_fn=<NegBackward0>) [tensor(-37.7786, device='cuda:0', grad_fn=<NegBackward0>), tensor(-8.8102, device='cuda:0', grad_fn=<NegBackward0>), tensor(-89.9166, device='cuda:0', grad_fn=<AddBackward0>)]\n",
      "4.192326687627772\n",
      "tensor(-137.8558, device='cuda:0', grad_fn=<NegBackward0>) [tensor(-37.7786, device='cuda:0', grad_fn=<NegBackward0>), tensor(-9.7334, device='cuda:0', grad_fn=<NegBackward0>), tensor(-90.3438, device='cuda:0', grad_fn=<AddBackward0>)]\n",
      "4.804997427152739\n",
      "tensor(-134.5808, device='cuda:0', grad_fn=<NegBackward0>) [tensor(-37.7737, device='cuda:0', grad_fn=<NegBackward0>), tensor(-8.1546, device='cuda:0', grad_fn=<NegBackward0>), tensor(-88.6525, device='cuda:0', grad_fn=<AddBackward0>)]\n",
      "4.586008508521996\n",
      "tensor(-136.1535, device='cuda:0', grad_fn=<NegBackward0>) [tensor(-37.7737, device='cuda:0', grad_fn=<NegBackward0>), tensor(-8.6932, device='cuda:0', grad_fn=<NegBackward0>), tensor(-89.6866, device='cuda:0', grad_fn=<AddBackward0>)]\n",
      "4.314858331474371\n",
      "tensor(-139.0078, device='cuda:0', grad_fn=<NegBackward0>) [tensor(-37.9194, device='cuda:0', grad_fn=<NegBackward0>), tensor(-10.7279, device='cuda:0', grad_fn=<NegBackward0>), tensor(-90.3606, device='cuda:0', grad_fn=<AddBackward0>)]\n",
      "4.061332121156643\n",
      "tensor(-135.6953, device='cuda:0', grad_fn=<NegBackward0>) [tensor(-37.9194, device='cuda:0', grad_fn=<NegBackward0>), tensor(-10.1655, device='cuda:0', grad_fn=<NegBackward0>), tensor(-87.6104, device='cuda:0', grad_fn=<AddBackward0>)]\n",
      "4.5178763240235185\n",
      "tensor(-131.6149, device='cuda:0', grad_fn=<NegBackward0>) [tensor(-37.7722, device='cuda:0', grad_fn=<NegBackward0>), tensor(-7.6420, device='cuda:0', grad_fn=<NegBackward0>), tensor(-86.2007, device='cuda:0', grad_fn=<AddBackward0>)]\n",
      "3.926378075145967\n",
      "tensor(-134.3856, device='cuda:0', grad_fn=<NegBackward0>) [tensor(-37.7722, device='cuda:0', grad_fn=<NegBackward0>), tensor(-9.0003, device='cuda:0', grad_fn=<NegBackward0>), tensor(-87.6131, device='cuda:0', grad_fn=<AddBackward0>)]\n",
      "4.257747272138674\n",
      "tensor(-138.7902, device='cuda:0', grad_fn=<NegBackward0>) [tensor(-37.6948, device='cuda:0', grad_fn=<NegBackward0>), tensor(-10.3009, device='cuda:0', grad_fn=<NegBackward0>), tensor(-90.7945, device='cuda:0', grad_fn=<AddBackward0>)]\n",
      "3.8584358250563424\n",
      "tensor(-132.3796, device='cuda:0', grad_fn=<NegBackward0>) [tensor(-37.6948, device='cuda:0', grad_fn=<NegBackward0>), tensor(-9.5410, device='cuda:0', grad_fn=<NegBackward0>), tensor(-85.1438, device='cuda:0', grad_fn=<AddBackward0>)]\n",
      "4.298986121435066\n",
      "tensor(-132.6747, device='cuda:0', grad_fn=<NegBackward0>) [tensor(-37.7080, device='cuda:0', grad_fn=<NegBackward0>), tensor(-7.9148, device='cuda:0', grad_fn=<NegBackward0>), tensor(-87.0520, device='cuda:0', grad_fn=<AddBackward0>)]\n",
      "4.254658390574844\n",
      "tensor(-135.6973, device='cuda:0', grad_fn=<NegBackward0>) [tensor(-37.7080, device='cuda:0', grad_fn=<NegBackward0>), tensor(-9.1888, device='cuda:0', grad_fn=<NegBackward0>), tensor(-88.8006, device='cuda:0', grad_fn=<AddBackward0>)]\n",
      "5.0536272011012295\n",
      "tensor(-134.0752, device='cuda:0', grad_fn=<NegBackward0>) [tensor(-37.6903, device='cuda:0', grad_fn=<NegBackward0>), tensor(-8.2918, device='cuda:0', grad_fn=<NegBackward0>), tensor(-88.0931, device='cuda:0', grad_fn=<AddBackward0>)]\n",
      "3.9588371186311226\n",
      "tensor(-132.7602, device='cuda:0', grad_fn=<NegBackward0>) [tensor(-37.6903, device='cuda:0', grad_fn=<NegBackward0>), tensor(-8.8071, device='cuda:0', grad_fn=<NegBackward0>), tensor(-86.2628, device='cuda:0', grad_fn=<AddBackward0>)]\n",
      "4.757555235823884\n",
      "tensor(-135.7242, device='cuda:0', grad_fn=<NegBackward0>) [tensor(-37.7252, device='cuda:0', grad_fn=<NegBackward0>), tensor(-8.5927, device='cuda:0', grad_fn=<NegBackward0>), tensor(-89.4062, device='cuda:0', grad_fn=<AddBackward0>)]\n",
      "4.117530991947768\n",
      "tensor(-136.3086, device='cuda:0', grad_fn=<NegBackward0>) [tensor(-37.7252, device='cuda:0', grad_fn=<NegBackward0>), tensor(-10.2918, device='cuda:0', grad_fn=<NegBackward0>), tensor(-88.2916, device='cuda:0', grad_fn=<AddBackward0>)]\n",
      "4.2682488879922\n",
      "tensor(-132.6920, device='cuda:0', grad_fn=<NegBackward0>) [tensor(-37.7205, device='cuda:0', grad_fn=<NegBackward0>), tensor(-8.7186, device='cuda:0', grad_fn=<NegBackward0>), tensor(-86.2529, device='cuda:0', grad_fn=<AddBackward0>)]\n",
      "4.6427244580458344\n",
      "tensor(-136.7596, device='cuda:0', grad_fn=<NegBackward0>) [tensor(-37.7205, device='cuda:0', grad_fn=<NegBackward0>), tensor(-8.9162, device='cuda:0', grad_fn=<NegBackward0>), tensor(-90.1229, device='cuda:0', grad_fn=<AddBackward0>)]\n",
      "4.931349804113665\n",
      "tensor(-136.7815, device='cuda:0', grad_fn=<NegBackward0>) [tensor(-37.9032, device='cuda:0', grad_fn=<NegBackward0>), tensor(-8.9528, device='cuda:0', grad_fn=<NegBackward0>), tensor(-89.9256, device='cuda:0', grad_fn=<AddBackward0>)]\n",
      "4.094627391764595\n",
      "tensor(-135.2188, device='cuda:0', grad_fn=<NegBackward0>) [tensor(-37.9032, device='cuda:0', grad_fn=<NegBackward0>), tensor(-8.8115, device='cuda:0', grad_fn=<NegBackward0>), tensor(-88.5042, device='cuda:0', grad_fn=<AddBackward0>)]\n",
      "4.811773669507398\n",
      "tensor(-134.9884, device='cuda:0', grad_fn=<NegBackward0>) [tensor(-37.9121, device='cuda:0', grad_fn=<NegBackward0>), tensor(-8.3979, device='cuda:0', grad_fn=<NegBackward0>), tensor(-88.6784, device='cuda:0', grad_fn=<AddBackward0>)]\n",
      "4.347763388463869\n",
      "tensor(-133.2531, device='cuda:0', grad_fn=<NegBackward0>) [tensor(-37.9121, device='cuda:0', grad_fn=<NegBackward0>), tensor(-8.3344, device='cuda:0', grad_fn=<NegBackward0>), tensor(-87.0066, device='cuda:0', grad_fn=<AddBackward0>)]\n",
      "4.400035949975458\n",
      "tensor(-136.3572, device='cuda:0', grad_fn=<NegBackward0>) [tensor(-37.8702, device='cuda:0', grad_fn=<NegBackward0>), tensor(-9.2431, device='cuda:0', grad_fn=<NegBackward0>), tensor(-89.2440, device='cuda:0', grad_fn=<AddBackward0>)]\n",
      "4.286130623162451\n",
      "tensor(-136.5066, device='cuda:0', grad_fn=<NegBackward0>) [tensor(-37.8702, device='cuda:0', grad_fn=<NegBackward0>), tensor(-9.2145, device='cuda:0', grad_fn=<NegBackward0>), tensor(-89.4219, device='cuda:0', grad_fn=<AddBackward0>)]\n",
      "4.386191023756668\n",
      "tensor(-130.0367, device='cuda:0', grad_fn=<NegBackward0>) [tensor(-37.9145, device='cuda:0', grad_fn=<NegBackward0>), tensor(-6.7824, device='cuda:0', grad_fn=<NegBackward0>), tensor(-85.3398, device='cuda:0', grad_fn=<AddBackward0>)]\n",
      "4.1241827711249455\n",
      "tensor(-134.4810, device='cuda:0', grad_fn=<NegBackward0>) [tensor(-37.9145, device='cuda:0', grad_fn=<NegBackward0>), tensor(-8.9317, device='cuda:0', grad_fn=<NegBackward0>), tensor(-87.6349, device='cuda:0', grad_fn=<AddBackward0>)]\n"
     ]
    },
    {
     "name": "stdout",
     "output_type": "stream",
     "text": [
      "4.506103737313091\n",
      "tensor(-139.3948, device='cuda:0', grad_fn=<NegBackward0>) [tensor(-37.9271, device='cuda:0', grad_fn=<NegBackward0>), tensor(-10.3875, device='cuda:0', grad_fn=<NegBackward0>), tensor(-91.0802, device='cuda:0', grad_fn=<AddBackward0>)]\n",
      "4.51637192664156\n",
      "tensor(-134.3026, device='cuda:0', grad_fn=<NegBackward0>) [tensor(-37.9271, device='cuda:0', grad_fn=<NegBackward0>), tensor(-8.6779, device='cuda:0', grad_fn=<NegBackward0>), tensor(-87.6976, device='cuda:0', grad_fn=<AddBackward0>)]\n",
      "4.118361794345716\n",
      "tensor(-137.5919, device='cuda:0', grad_fn=<NegBackward0>) [tensor(-37.9553, device='cuda:0', grad_fn=<NegBackward0>), tensor(-9.9752, device='cuda:0', grad_fn=<NegBackward0>), tensor(-89.6613, device='cuda:0', grad_fn=<AddBackward0>)]\n",
      "4.087405951353757\n",
      "tensor(-136.1375, device='cuda:0', grad_fn=<NegBackward0>) [tensor(-37.9553, device='cuda:0', grad_fn=<NegBackward0>), tensor(-9.6939, device='cuda:0', grad_fn=<NegBackward0>), tensor(-88.4882, device='cuda:0', grad_fn=<AddBackward0>)]\n",
      "4.316050207706989\n",
      "tensor(-134.5445, device='cuda:0', grad_fn=<NegBackward0>) [tensor(-37.8693, device='cuda:0', grad_fn=<NegBackward0>), tensor(-8.7196, device='cuda:0', grad_fn=<NegBackward0>), tensor(-87.9556, device='cuda:0', grad_fn=<AddBackward0>)]\n",
      "4.21221216586341\n",
      "tensor(-138.9220, device='cuda:0', grad_fn=<NegBackward0>) [tensor(-37.8693, device='cuda:0', grad_fn=<NegBackward0>), tensor(-10.7416, device='cuda:0', grad_fn=<NegBackward0>), tensor(-90.3111, device='cuda:0', grad_fn=<AddBackward0>)]\n",
      "4.704872619895731\n",
      "tensor(-133.7819, device='cuda:0', grad_fn=<NegBackward0>) [tensor(-37.7426, device='cuda:0', grad_fn=<NegBackward0>), tensor(-7.9247, device='cuda:0', grad_fn=<NegBackward0>), tensor(-88.1146, device='cuda:0', grad_fn=<AddBackward0>)]\n",
      "4.248048604278769\n",
      "tensor(-135.8059, device='cuda:0', grad_fn=<NegBackward0>) [tensor(-37.7426, device='cuda:0', grad_fn=<NegBackward0>), tensor(-9.5652, device='cuda:0', grad_fn=<NegBackward0>), tensor(-88.4981, device='cuda:0', grad_fn=<AddBackward0>)]\n",
      "4.338847630857238\n",
      "tensor(-135.9818, device='cuda:0', grad_fn=<NegBackward0>) [tensor(-37.7965, device='cuda:0', grad_fn=<NegBackward0>), tensor(-9.0830, device='cuda:0', grad_fn=<NegBackward0>), tensor(-89.1023, device='cuda:0', grad_fn=<AddBackward0>)]\n",
      "3.9797459359759673\n",
      "tensor(-139.7968, device='cuda:0', grad_fn=<NegBackward0>) [tensor(-37.7965, device='cuda:0', grad_fn=<NegBackward0>), tensor(-11.6408, device='cuda:0', grad_fn=<NegBackward0>), tensor(-90.3595, device='cuda:0', grad_fn=<AddBackward0>)]\n",
      "4.3294941422879285\n",
      "tensor(-133.2319, device='cuda:0', grad_fn=<NegBackward0>) [tensor(-37.6124, device='cuda:0', grad_fn=<NegBackward0>), tensor(-8.5242, device='cuda:0', grad_fn=<NegBackward0>), tensor(-87.0952, device='cuda:0', grad_fn=<AddBackward0>)]\n",
      "4.311546673279455\n",
      "tensor(-136.2544, device='cuda:0', grad_fn=<NegBackward0>) [tensor(-37.6124, device='cuda:0', grad_fn=<NegBackward0>), tensor(-10.2459, device='cuda:0', grad_fn=<NegBackward0>), tensor(-88.3961, device='cuda:0', grad_fn=<AddBackward0>)]\n",
      "4.4959325080136905\n",
      "tensor(-132.7715, device='cuda:0', grad_fn=<NegBackward0>) [tensor(-37.5557, device='cuda:0', grad_fn=<NegBackward0>), tensor(-8.2083, device='cuda:0', grad_fn=<NegBackward0>), tensor(-87.0074, device='cuda:0', grad_fn=<AddBackward0>)]\n",
      "4.253281861840481\n",
      "tensor(-137.1310, device='cuda:0', grad_fn=<NegBackward0>) [tensor(-37.5557, device='cuda:0', grad_fn=<NegBackward0>), tensor(-10.3901, device='cuda:0', grad_fn=<NegBackward0>), tensor(-89.1852, device='cuda:0', grad_fn=<AddBackward0>)]\n",
      "4.144001212262643\n",
      "tensor(-132.0332, device='cuda:0', grad_fn=<NegBackward0>) [tensor(-37.6608, device='cuda:0', grad_fn=<NegBackward0>), tensor(-8.1205, device='cuda:0', grad_fn=<NegBackward0>), tensor(-86.2518, device='cuda:0', grad_fn=<AddBackward0>)]\n",
      "4.333208288030497\n",
      "tensor(-133.5067, device='cuda:0', grad_fn=<NegBackward0>) [tensor(-37.6608, device='cuda:0', grad_fn=<NegBackward0>), tensor(-8.7980, device='cuda:0', grad_fn=<NegBackward0>), tensor(-87.0479, device='cuda:0', grad_fn=<AddBackward0>)]\n",
      "4.255431371307134\n",
      "tensor(-134.1382, device='cuda:0', grad_fn=<NegBackward0>) [tensor(-37.6875, device='cuda:0', grad_fn=<NegBackward0>), tensor(-9.7885, device='cuda:0', grad_fn=<NegBackward0>), tensor(-86.6622, device='cuda:0', grad_fn=<AddBackward0>)]\n",
      "4.466279406268423\n",
      "tensor(-132.5724, device='cuda:0', grad_fn=<NegBackward0>) [tensor(-37.6875, device='cuda:0', grad_fn=<NegBackward0>), tensor(-7.9129, device='cuda:0', grad_fn=<NegBackward0>), tensor(-86.9719, device='cuda:0', grad_fn=<AddBackward0>)]\n",
      "4.388577653391454\n",
      "tensor(-135.5721, device='cuda:0', grad_fn=<NegBackward0>) [tensor(-37.7721, device='cuda:0', grad_fn=<NegBackward0>), tensor(-9.4648, device='cuda:0', grad_fn=<NegBackward0>), tensor(-88.3353, device='cuda:0', grad_fn=<AddBackward0>)]\n",
      "4.41541100890248\n",
      "tensor(-134.3299, device='cuda:0', grad_fn=<NegBackward0>) [tensor(-37.7721, device='cuda:0', grad_fn=<NegBackward0>), tensor(-8.7625, device='cuda:0', grad_fn=<NegBackward0>), tensor(-87.7953, device='cuda:0', grad_fn=<AddBackward0>)]\n",
      "4.03045187322687\n",
      "tensor(-136.1498, device='cuda:0', grad_fn=<NegBackward0>) [tensor(-37.8254, device='cuda:0', grad_fn=<NegBackward0>), tensor(-10.1740, device='cuda:0', grad_fn=<NegBackward0>), tensor(-88.1505, device='cuda:0', grad_fn=<AddBackward0>)]\n",
      "5.099257324297473\n",
      "tensor(-135.2107, device='cuda:0', grad_fn=<NegBackward0>) [tensor(-37.8254, device='cuda:0', grad_fn=<NegBackward0>), tensor(-8.3871, device='cuda:0', grad_fn=<NegBackward0>), tensor(-88.9981, device='cuda:0', grad_fn=<AddBackward0>)]\n",
      "4.437357993081494\n",
      "tensor(-137.7524, device='cuda:0', grad_fn=<NegBackward0>) [tensor(-37.9882, device='cuda:0', grad_fn=<NegBackward0>), tensor(-10.5247, device='cuda:0', grad_fn=<NegBackward0>), tensor(-89.2395, device='cuda:0', grad_fn=<AddBackward0>)]\n",
      "4.458250676184227\n",
      "tensor(-136.2710, device='cuda:0', grad_fn=<NegBackward0>) [tensor(-37.9882, device='cuda:0', grad_fn=<NegBackward0>), tensor(-9.1748, device='cuda:0', grad_fn=<NegBackward0>), tensor(-89.1080, device='cuda:0', grad_fn=<AddBackward0>)]\n",
      "4.078715053049038\n",
      "tensor(-134.8130, device='cuda:0', grad_fn=<NegBackward0>) [tensor(-38.0140, device='cuda:0', grad_fn=<NegBackward0>), tensor(-9.1032, device='cuda:0', grad_fn=<NegBackward0>), tensor(-87.6958, device='cuda:0', grad_fn=<AddBackward0>)]\n",
      "4.443989825350044\n",
      "tensor(-132.2960, device='cuda:0', grad_fn=<NegBackward0>) [tensor(-38.0140, device='cuda:0', grad_fn=<NegBackward0>), tensor(-7.5735, device='cuda:0', grad_fn=<NegBackward0>), tensor(-86.7084, device='cuda:0', grad_fn=<AddBackward0>)]\n",
      "4.385721209862068\n",
      "tensor(-132.2222, device='cuda:0', grad_fn=<NegBackward0>) [tensor(-38.0908, device='cuda:0', grad_fn=<NegBackward0>), tensor(-7.4242, device='cuda:0', grad_fn=<NegBackward0>), tensor(-86.7072, device='cuda:0', grad_fn=<AddBackward0>)]\n",
      "4.083447101772524\n",
      "tensor(-135.6931, device='cuda:0', grad_fn=<NegBackward0>) [tensor(-38.0908, device='cuda:0', grad_fn=<NegBackward0>), tensor(-8.6194, device='cuda:0', grad_fn=<NegBackward0>), tensor(-88.9828, device='cuda:0', grad_fn=<AddBackward0>)]\n",
      "4.670596690599899\n",
      "tensor(-135.5754, device='cuda:0', grad_fn=<NegBackward0>) [tensor(-38.0398, device='cuda:0', grad_fn=<NegBackward0>), tensor(-8.6143, device='cuda:0', grad_fn=<NegBackward0>), tensor(-88.9214, device='cuda:0', grad_fn=<AddBackward0>)]\n",
      "4.197131764463192\n",
      "tensor(-133.7869, device='cuda:0', grad_fn=<NegBackward0>) [tensor(-38.0398, device='cuda:0', grad_fn=<NegBackward0>), tensor(-8.2331, device='cuda:0', grad_fn=<NegBackward0>), tensor(-87.5140, device='cuda:0', grad_fn=<AddBackward0>)]\n",
      "3.8829494150672073\n",
      "tensor(-137.5869, device='cuda:0', grad_fn=<NegBackward0>) [tensor(-38.0272, device='cuda:0', grad_fn=<NegBackward0>), tensor(-11.5311, device='cuda:0', grad_fn=<NegBackward0>), tensor(-88.0286, device='cuda:0', grad_fn=<AddBackward0>)]\n",
      "4.128406248914093\n",
      "tensor(-134.9325, device='cuda:0', grad_fn=<NegBackward0>) [tensor(-38.0272, device='cuda:0', grad_fn=<NegBackward0>), tensor(-8.8070, device='cuda:0', grad_fn=<NegBackward0>), tensor(-88.0983, device='cuda:0', grad_fn=<AddBackward0>)]\n",
      "4.363041176631379\n",
      "tensor(-133.3064, device='cuda:0', grad_fn=<NegBackward0>) [tensor(-37.9755, device='cuda:0', grad_fn=<NegBackward0>), tensor(-8.6099, device='cuda:0', grad_fn=<NegBackward0>), tensor(-86.7210, device='cuda:0', grad_fn=<AddBackward0>)]\n"
     ]
    },
    {
     "name": "stdout",
     "output_type": "stream",
     "text": [
      "4.022934762468193\n",
      "tensor(-134.2178, device='cuda:0', grad_fn=<NegBackward0>) [tensor(-37.9755, device='cuda:0', grad_fn=<NegBackward0>), tensor(-8.9257, device='cuda:0', grad_fn=<NegBackward0>), tensor(-87.3166, device='cuda:0', grad_fn=<AddBackward0>)]\n",
      "4.416940852418764\n",
      "tensor(-138.1502, device='cuda:0', grad_fn=<NegBackward0>) [tensor(-37.9717, device='cuda:0', grad_fn=<NegBackward0>), tensor(-9.7247, device='cuda:0', grad_fn=<NegBackward0>), tensor(-90.4538, device='cuda:0', grad_fn=<AddBackward0>)]\n",
      "4.063854839979781\n",
      "tensor(-140.1851, device='cuda:0', grad_fn=<NegBackward0>) [tensor(-37.9717, device='cuda:0', grad_fn=<NegBackward0>), tensor(-11.1648, device='cuda:0', grad_fn=<NegBackward0>), tensor(-91.0486, device='cuda:0', grad_fn=<AddBackward0>)]\n",
      "4.149035185834306\n",
      "tensor(-135.9572, device='cuda:0', grad_fn=<NegBackward0>) [tensor(-37.8355, device='cuda:0', grad_fn=<NegBackward0>), tensor(-9.9553, device='cuda:0', grad_fn=<NegBackward0>), tensor(-88.1663, device='cuda:0', grad_fn=<AddBackward0>)]\n",
      "4.381404489629749\n",
      "tensor(-136.2785, device='cuda:0', grad_fn=<NegBackward0>) [tensor(-37.8355, device='cuda:0', grad_fn=<NegBackward0>), tensor(-9.3677, device='cuda:0', grad_fn=<NegBackward0>), tensor(-89.0752, device='cuda:0', grad_fn=<AddBackward0>)]\n",
      "4.163116963380876\n",
      "tensor(-136.9975, device='cuda:0', grad_fn=<NegBackward0>) [tensor(-37.8713, device='cuda:0', grad_fn=<NegBackward0>), tensor(-11.3378, device='cuda:0', grad_fn=<NegBackward0>), tensor(-87.7884, device='cuda:0', grad_fn=<AddBackward0>)]\n",
      "4.7717109468886045\n",
      "tensor(-132.9032, device='cuda:0', grad_fn=<NegBackward0>) [tensor(-37.8713, device='cuda:0', grad_fn=<NegBackward0>), tensor(-7.5224, device='cuda:0', grad_fn=<NegBackward0>), tensor(-87.5095, device='cuda:0', grad_fn=<AddBackward0>)]\n",
      "4.412235399210512\n",
      "tensor(-136.4170, device='cuda:0', grad_fn=<NegBackward0>) [tensor(-38.0524, device='cuda:0', grad_fn=<NegBackward0>), tensor(-9.4530, device='cuda:0', grad_fn=<NegBackward0>), tensor(-88.9116, device='cuda:0', grad_fn=<AddBackward0>)]\n",
      "4.2323199931711635\n",
      "tensor(-134.3283, device='cuda:0', grad_fn=<NegBackward0>) [tensor(-38.0524, device='cuda:0', grad_fn=<NegBackward0>), tensor(-8.6448, device='cuda:0', grad_fn=<NegBackward0>), tensor(-87.6311, device='cuda:0', grad_fn=<AddBackward0>)]\n",
      "4.193414689077637\n",
      "tensor(-138.7013, device='cuda:0', grad_fn=<NegBackward0>) [tensor(-38.0087, device='cuda:0', grad_fn=<NegBackward0>), tensor(-10.9946, device='cuda:0', grad_fn=<NegBackward0>), tensor(-89.6980, device='cuda:0', grad_fn=<AddBackward0>)]\n",
      "4.334312292423765\n",
      "tensor(-138.7117, device='cuda:0', grad_fn=<NegBackward0>) [tensor(-38.0087, device='cuda:0', grad_fn=<NegBackward0>), tensor(-10.5244, device='cuda:0', grad_fn=<NegBackward0>), tensor(-90.1785, device='cuda:0', grad_fn=<AddBackward0>)]\n",
      "3.9985086567209045\n",
      "tensor(-135.5728, device='cuda:0', grad_fn=<NegBackward0>) [tensor(-37.9529, device='cuda:0', grad_fn=<NegBackward0>), tensor(-9.9124, device='cuda:0', grad_fn=<NegBackward0>), tensor(-87.7075, device='cuda:0', grad_fn=<AddBackward0>)]\n",
      "4.265121013397262\n",
      "tensor(-135.6115, device='cuda:0', grad_fn=<NegBackward0>) [tensor(-37.9529, device='cuda:0', grad_fn=<NegBackward0>), tensor(-9.4299, device='cuda:0', grad_fn=<NegBackward0>), tensor(-88.2286, device='cuda:0', grad_fn=<AddBackward0>)]\n",
      "4.154957768619065\n",
      "tensor(-136.0324, device='cuda:0', grad_fn=<NegBackward0>) [tensor(-37.8345, device='cuda:0', grad_fn=<NegBackward0>), tensor(-9.4762, device='cuda:0', grad_fn=<NegBackward0>), tensor(-88.7218, device='cuda:0', grad_fn=<AddBackward0>)]\n",
      "4.523936936226229\n",
      "tensor(-133.9757, device='cuda:0', grad_fn=<NegBackward0>) [tensor(-37.8345, device='cuda:0', grad_fn=<NegBackward0>), tensor(-8.3873, device='cuda:0', grad_fn=<NegBackward0>), tensor(-87.7540, device='cuda:0', grad_fn=<AddBackward0>)]\n",
      "4.122702209213248\n",
      "tensor(-136.1937, device='cuda:0', grad_fn=<NegBackward0>) [tensor(-38.0064, device='cuda:0', grad_fn=<NegBackward0>), tensor(-9.9173, device='cuda:0', grad_fn=<NegBackward0>), tensor(-88.2699, device='cuda:0', grad_fn=<AddBackward0>)]\n",
      "4.857302819334306\n",
      "tensor(-137.3290, device='cuda:0', grad_fn=<NegBackward0>) [tensor(-38.0064, device='cuda:0', grad_fn=<NegBackward0>), tensor(-8.9851, device='cuda:0', grad_fn=<NegBackward0>), tensor(-90.3375, device='cuda:0', grad_fn=<AddBackward0>)]\n",
      "4.819467617996371\n",
      "tensor(-134.8503, device='cuda:0', grad_fn=<NegBackward0>) [tensor(-38.0591, device='cuda:0', grad_fn=<NegBackward0>), tensor(-8.6750, device='cuda:0', grad_fn=<NegBackward0>), tensor(-88.1162, device='cuda:0', grad_fn=<AddBackward0>)]\n",
      "4.437977542740432\n",
      "tensor(-135.2642, device='cuda:0', grad_fn=<NegBackward0>) [tensor(-38.0591, device='cuda:0', grad_fn=<NegBackward0>), tensor(-8.6007, device='cuda:0', grad_fn=<NegBackward0>), tensor(-88.6044, device='cuda:0', grad_fn=<AddBackward0>)]\n",
      "4.014716502615553\n",
      "tensor(-135.6254, device='cuda:0', grad_fn=<NegBackward0>) [tensor(-38.0099, device='cuda:0', grad_fn=<NegBackward0>), tensor(-9.5871, device='cuda:0', grad_fn=<NegBackward0>), tensor(-88.0284, device='cuda:0', grad_fn=<AddBackward0>)]\n",
      "4.373469484245287\n",
      "tensor(-136.6533, device='cuda:0', grad_fn=<NegBackward0>) [tensor(-38.0099, device='cuda:0', grad_fn=<NegBackward0>), tensor(-9.7093, device='cuda:0', grad_fn=<NegBackward0>), tensor(-88.9341, device='cuda:0', grad_fn=<AddBackward0>)]\n",
      "4.29356527154479\n",
      "tensor(-137.1220, device='cuda:0', grad_fn=<NegBackward0>) [tensor(-37.9787, device='cuda:0', grad_fn=<NegBackward0>), tensor(-10.0367, device='cuda:0', grad_fn=<NegBackward0>), tensor(-89.1066, device='cuda:0', grad_fn=<AddBackward0>)]\n",
      "5.459430648325596\n",
      "tensor(-134.1107, device='cuda:0', grad_fn=<NegBackward0>) [tensor(-37.9787, device='cuda:0', grad_fn=<NegBackward0>), tensor(-7.5406, device='cuda:0', grad_fn=<NegBackward0>), tensor(-88.5914, device='cuda:0', grad_fn=<AddBackward0>)]\n",
      "4.177263393869109\n",
      "tensor(-134.4456, device='cuda:0', grad_fn=<NegBackward0>) [tensor(-38.1354, device='cuda:0', grad_fn=<NegBackward0>), tensor(-8.6577, device='cuda:0', grad_fn=<NegBackward0>), tensor(-87.6526, device='cuda:0', grad_fn=<AddBackward0>)]\n",
      "4.52846893119324\n",
      "tensor(-135.5586, device='cuda:0', grad_fn=<NegBackward0>) [tensor(-38.1354, device='cuda:0', grad_fn=<NegBackward0>), tensor(-8.2158, device='cuda:0', grad_fn=<NegBackward0>), tensor(-89.2074, device='cuda:0', grad_fn=<AddBackward0>)]\n",
      "4.576417069917281\n",
      "tensor(-136.7964, device='cuda:0', grad_fn=<NegBackward0>) [tensor(-38.1571, device='cuda:0', grad_fn=<NegBackward0>), tensor(-9.1784, device='cuda:0', grad_fn=<NegBackward0>), tensor(-89.4609, device='cuda:0', grad_fn=<AddBackward0>)]\n",
      "4.440504262334485\n",
      "tensor(-136.4483, device='cuda:0', grad_fn=<NegBackward0>) [tensor(-38.1571, device='cuda:0', grad_fn=<NegBackward0>), tensor(-8.6728, device='cuda:0', grad_fn=<NegBackward0>), tensor(-89.6184, device='cuda:0', grad_fn=<AddBackward0>)]\n",
      "4.40082498631523\n",
      "tensor(-133.8727, device='cuda:0', grad_fn=<NegBackward0>) [tensor(-38.1202, device='cuda:0', grad_fn=<NegBackward0>), tensor(-8.0685, device='cuda:0', grad_fn=<NegBackward0>), tensor(-87.6840, device='cuda:0', grad_fn=<AddBackward0>)]\n",
      "4.520396527994828\n",
      "tensor(-136.2471, device='cuda:0', grad_fn=<NegBackward0>) [tensor(-38.1202, device='cuda:0', grad_fn=<NegBackward0>), tensor(-9.4464, device='cuda:0', grad_fn=<NegBackward0>), tensor(-88.6805, device='cuda:0', grad_fn=<AddBackward0>)]\n",
      "4.288738541239404\n",
      "tensor(-131.4934, device='cuda:0', grad_fn=<NegBackward0>) [tensor(-38.0212, device='cuda:0', grad_fn=<NegBackward0>), tensor(-7.2172, device='cuda:0', grad_fn=<NegBackward0>), tensor(-86.2550, device='cuda:0', grad_fn=<AddBackward0>)]\n",
      "3.917944603475131\n",
      "tensor(-133.7652, device='cuda:0', grad_fn=<NegBackward0>) [tensor(-38.0212, device='cuda:0', grad_fn=<NegBackward0>), tensor(-9.1202, device='cuda:0', grad_fn=<NegBackward0>), tensor(-86.6239, device='cuda:0', grad_fn=<AddBackward0>)]\n",
      "4.327922711827347\n",
      "tensor(-136.1459, device='cuda:0', grad_fn=<NegBackward0>) [tensor(-37.9833, device='cuda:0', grad_fn=<NegBackward0>), tensor(-9.9522, device='cuda:0', grad_fn=<NegBackward0>), tensor(-88.2105, device='cuda:0', grad_fn=<AddBackward0>)]\n",
      "4.052392491597809\n",
      "tensor(-136.0144, device='cuda:0', grad_fn=<NegBackward0>) [tensor(-37.9833, device='cuda:0', grad_fn=<NegBackward0>), tensor(-9.7617, device='cuda:0', grad_fn=<NegBackward0>), tensor(-88.2694, device='cuda:0', grad_fn=<AddBackward0>)]\n"
     ]
    },
    {
     "name": "stdout",
     "output_type": "stream",
     "text": [
      "4.3788830273238695\n",
      "tensor(-136.2629, device='cuda:0', grad_fn=<NegBackward0>) [tensor(-37.8641, device='cuda:0', grad_fn=<NegBackward0>), tensor(-9.3331, device='cuda:0', grad_fn=<NegBackward0>), tensor(-89.0658, device='cuda:0', grad_fn=<AddBackward0>)]\n",
      "4.508282797419628\n",
      "tensor(-136.4455, device='cuda:0', grad_fn=<NegBackward0>) [tensor(-37.8641, device='cuda:0', grad_fn=<NegBackward0>), tensor(-9.3709, device='cuda:0', grad_fn=<NegBackward0>), tensor(-89.2105, device='cuda:0', grad_fn=<AddBackward0>)]\n",
      "4.722988977880002\n",
      "tensor(-136.1394, device='cuda:0', grad_fn=<NegBackward0>) [tensor(-37.9759, device='cuda:0', grad_fn=<NegBackward0>), tensor(-8.7237, device='cuda:0', grad_fn=<NegBackward0>), tensor(-89.4399, device='cuda:0', grad_fn=<AddBackward0>)]\n",
      "4.448070018715115\n",
      "tensor(-135.1437, device='cuda:0', grad_fn=<NegBackward0>) [tensor(-37.9759, device='cuda:0', grad_fn=<NegBackward0>), tensor(-8.8356, device='cuda:0', grad_fn=<NegBackward0>), tensor(-88.3322, device='cuda:0', grad_fn=<AddBackward0>)]\n",
      "4.117570144783731\n",
      "tensor(-132.5210, device='cuda:0', grad_fn=<NegBackward0>) [tensor(-38.0194, device='cuda:0', grad_fn=<NegBackward0>), tensor(-8.0528, device='cuda:0', grad_fn=<NegBackward0>), tensor(-86.4487, device='cuda:0', grad_fn=<AddBackward0>)]\n",
      "4.857670962162889\n",
      "tensor(-136.1042, device='cuda:0', grad_fn=<NegBackward0>) [tensor(-38.0194, device='cuda:0', grad_fn=<NegBackward0>), tensor(-8.5087, device='cuda:0', grad_fn=<NegBackward0>), tensor(-89.5761, device='cuda:0', grad_fn=<AddBackward0>)]\n",
      "4.4903010412414375\n",
      "tensor(-137.5811, device='cuda:0', grad_fn=<NegBackward0>) [tensor(-38.1102, device='cuda:0', grad_fn=<NegBackward0>), tensor(-9.4340, device='cuda:0', grad_fn=<NegBackward0>), tensor(-90.0370, device='cuda:0', grad_fn=<AddBackward0>)]\n",
      "4.1681658705188545\n",
      "tensor(-136.9638, device='cuda:0', grad_fn=<NegBackward0>) [tensor(-38.1102, device='cuda:0', grad_fn=<NegBackward0>), tensor(-9.9653, device='cuda:0', grad_fn=<NegBackward0>), tensor(-88.8884, device='cuda:0', grad_fn=<AddBackward0>)]\n",
      "4.295484249429838\n",
      "tensor(-137.7618, device='cuda:0', grad_fn=<NegBackward0>) [tensor(-37.9887, device='cuda:0', grad_fn=<NegBackward0>), tensor(-10.1953, device='cuda:0', grad_fn=<NegBackward0>), tensor(-89.5778, device='cuda:0', grad_fn=<AddBackward0>)]\n",
      "4.4200355923842345\n",
      "tensor(-132.3273, device='cuda:0', grad_fn=<NegBackward0>) [tensor(-37.9887, device='cuda:0', grad_fn=<NegBackward0>), tensor(-7.7318, device='cuda:0', grad_fn=<NegBackward0>), tensor(-86.6068, device='cuda:0', grad_fn=<AddBackward0>)]\n",
      "4.386618984072413\n",
      "tensor(-133.8994, device='cuda:0', grad_fn=<NegBackward0>) [tensor(-38.1224, device='cuda:0', grad_fn=<NegBackward0>), tensor(-7.8481, device='cuda:0', grad_fn=<NegBackward0>), tensor(-87.9290, device='cuda:0', grad_fn=<AddBackward0>)]\n",
      "4.52958483371027\n",
      "tensor(-137.3931, device='cuda:0', grad_fn=<NegBackward0>) [tensor(-38.1224, device='cuda:0', grad_fn=<NegBackward0>), tensor(-9.4853, device='cuda:0', grad_fn=<NegBackward0>), tensor(-89.7855, device='cuda:0', grad_fn=<AddBackward0>)]\n",
      "4.24374727620288\n",
      "tensor(-136.9982, device='cuda:0', grad_fn=<NegBackward0>) [tensor(-38.1104, device='cuda:0', grad_fn=<NegBackward0>), tensor(-9.5446, device='cuda:0', grad_fn=<NegBackward0>), tensor(-89.3432, device='cuda:0', grad_fn=<AddBackward0>)]\n",
      "4.485119357177569\n",
      "tensor(-136.4187, device='cuda:0', grad_fn=<NegBackward0>) [tensor(-38.1104, device='cuda:0', grad_fn=<NegBackward0>), tensor(-8.7582, device='cuda:0', grad_fn=<NegBackward0>), tensor(-89.5500, device='cuda:0', grad_fn=<AddBackward0>)]\n",
      "4.022792386371819\n",
      "tensor(-136.1861, device='cuda:0', grad_fn=<NegBackward0>) [tensor(-38.0863, device='cuda:0', grad_fn=<NegBackward0>), tensor(-10.6755, device='cuda:0', grad_fn=<NegBackward0>), tensor(-87.4243, device='cuda:0', grad_fn=<AddBackward0>)]\n",
      "4.412661906488868\n",
      "tensor(-135.9689, device='cuda:0', grad_fn=<NegBackward0>) [tensor(-38.0863, device='cuda:0', grad_fn=<NegBackward0>), tensor(-9.2098, device='cuda:0', grad_fn=<NegBackward0>), tensor(-88.6728, device='cuda:0', grad_fn=<AddBackward0>)]\n",
      "4.470331180139888\n",
      "tensor(-136.3098, device='cuda:0', grad_fn=<NegBackward0>) [tensor(-38.0421, device='cuda:0', grad_fn=<NegBackward0>), tensor(-9.4249, device='cuda:0', grad_fn=<NegBackward0>), tensor(-88.8429, device='cuda:0', grad_fn=<AddBackward0>)]\n",
      "4.642443809758088\n",
      "tensor(-137.7776, device='cuda:0', grad_fn=<NegBackward0>) [tensor(-38.0421, device='cuda:0', grad_fn=<NegBackward0>), tensor(-9.7509, device='cuda:0', grad_fn=<NegBackward0>), tensor(-89.9846, device='cuda:0', grad_fn=<AddBackward0>)]\n",
      "4.180521392016899\n",
      "tensor(-136.3490, device='cuda:0', grad_fn=<NegBackward0>) [tensor(-37.9520, device='cuda:0', grad_fn=<NegBackward0>), tensor(-9.5274, device='cuda:0', grad_fn=<NegBackward0>), tensor(-88.8695, device='cuda:0', grad_fn=<AddBackward0>)]\n",
      "4.8501902537811175\n",
      "tensor(-133.4373, device='cuda:0', grad_fn=<NegBackward0>) [tensor(-37.9520, device='cuda:0', grad_fn=<NegBackward0>), tensor(-7.7962, device='cuda:0', grad_fn=<NegBackward0>), tensor(-87.6890, device='cuda:0', grad_fn=<AddBackward0>)]\n",
      "4.798061280935357\n",
      "tensor(-133.8928, device='cuda:0', grad_fn=<NegBackward0>) [tensor(-38.0280, device='cuda:0', grad_fn=<NegBackward0>), tensor(-7.8404, device='cuda:0', grad_fn=<NegBackward0>), tensor(-88.0244, device='cuda:0', grad_fn=<AddBackward0>)]\n",
      "4.20685524823944\n",
      "tensor(-137.9971, device='cuda:0', grad_fn=<NegBackward0>) [tensor(-38.0280, device='cuda:0', grad_fn=<NegBackward0>), tensor(-10.5878, device='cuda:0', grad_fn=<NegBackward0>), tensor(-89.3813, device='cuda:0', grad_fn=<AddBackward0>)]\n",
      "4.349330769501124\n",
      "tensor(-135.7721, device='cuda:0', grad_fn=<NegBackward0>) [tensor(-37.8937, device='cuda:0', grad_fn=<NegBackward0>), tensor(-9.2343, device='cuda:0', grad_fn=<NegBackward0>), tensor(-88.6440, device='cuda:0', grad_fn=<AddBackward0>)]\n",
      "4.275305286183214\n",
      "tensor(-137.5510, device='cuda:0', grad_fn=<NegBackward0>) [tensor(-37.8937, device='cuda:0', grad_fn=<NegBackward0>), tensor(-10.2136, device='cuda:0', grad_fn=<NegBackward0>), tensor(-89.4436, device='cuda:0', grad_fn=<AddBackward0>)]\n",
      "4.249450300615098\n",
      "tensor(-134.6863, device='cuda:0', grad_fn=<NegBackward0>) [tensor(-37.9171, device='cuda:0', grad_fn=<NegBackward0>), tensor(-9.3937, device='cuda:0', grad_fn=<NegBackward0>), tensor(-87.3755, device='cuda:0', grad_fn=<AddBackward0>)]\n",
      "4.385489956957965\n",
      "tensor(-130.6922, device='cuda:0', grad_fn=<NegBackward0>) [tensor(-37.9171, device='cuda:0', grad_fn=<NegBackward0>), tensor(-7.1180, device='cuda:0', grad_fn=<NegBackward0>), tensor(-85.6571, device='cuda:0', grad_fn=<AddBackward0>)]\n",
      "4.635524863156414\n",
      "tensor(-133.6097, device='cuda:0', grad_fn=<NegBackward0>) [tensor(-38.0441, device='cuda:0', grad_fn=<NegBackward0>), tensor(-8.2508, device='cuda:0', grad_fn=<NegBackward0>), tensor(-87.3147, device='cuda:0', grad_fn=<AddBackward0>)]\n",
      "4.420318088493374\n",
      "tensor(-138.0063, device='cuda:0', grad_fn=<NegBackward0>) [tensor(-38.0441, device='cuda:0', grad_fn=<NegBackward0>), tensor(-9.4221, device='cuda:0', grad_fn=<NegBackward0>), tensor(-90.5400, device='cuda:0', grad_fn=<AddBackward0>)]\n",
      "4.2626862262847816\n",
      "tensor(-135.4673, device='cuda:0', grad_fn=<NegBackward0>) [tensor(-38.0817, device='cuda:0', grad_fn=<NegBackward0>), tensor(-9.4622, device='cuda:0', grad_fn=<NegBackward0>), tensor(-87.9234, device='cuda:0', grad_fn=<AddBackward0>)]\n",
      "4.250459180523359\n",
      "tensor(-135.9919, device='cuda:0', grad_fn=<NegBackward0>) [tensor(-38.0817, device='cuda:0', grad_fn=<NegBackward0>), tensor(-9.3973, device='cuda:0', grad_fn=<NegBackward0>), tensor(-88.5130, device='cuda:0', grad_fn=<AddBackward0>)]\n",
      "4.941515198214798\n",
      "tensor(-137.1816, device='cuda:0', grad_fn=<NegBackward0>) [tensor(-38.0209, device='cuda:0', grad_fn=<NegBackward0>), tensor(-8.7038, device='cuda:0', grad_fn=<NegBackward0>), tensor(-90.4568, device='cuda:0', grad_fn=<AddBackward0>)]\n",
      "4.765983844235965\n",
      "tensor(-136.5593, device='cuda:0', grad_fn=<NegBackward0>) [tensor(-38.0209, device='cuda:0', grad_fn=<NegBackward0>), tensor(-8.6238, device='cuda:0', grad_fn=<NegBackward0>), tensor(-89.9146, device='cuda:0', grad_fn=<AddBackward0>)]\n",
      "4.094627391764595\n",
      "tensor(-136.6734, device='cuda:0', grad_fn=<NegBackward0>) [tensor(-38.1161, device='cuda:0', grad_fn=<NegBackward0>), tensor(-10.7435, device='cuda:0', grad_fn=<NegBackward0>), tensor(-87.8137, device='cuda:0', grad_fn=<AddBackward0>)]\n"
     ]
    },
    {
     "name": "stdout",
     "output_type": "stream",
     "text": [
      "4.143573036705748\n",
      "tensor(-135.0563, device='cuda:0', grad_fn=<NegBackward0>) [tensor(-38.1161, device='cuda:0', grad_fn=<NegBackward0>), tensor(-9.7877, device='cuda:0', grad_fn=<NegBackward0>), tensor(-87.1525, device='cuda:0', grad_fn=<AddBackward0>)]\n",
      "4.026689563229351\n",
      "tensor(-134.3403, device='cuda:0', grad_fn=<NegBackward0>) [tensor(-38.0063, device='cuda:0', grad_fn=<NegBackward0>), tensor(-9.2572, device='cuda:0', grad_fn=<NegBackward0>), tensor(-87.0768, device='cuda:0', grad_fn=<AddBackward0>)]\n",
      "4.191022106590707\n",
      "tensor(-132.5853, device='cuda:0', grad_fn=<NegBackward0>) [tensor(-38.0063, device='cuda:0', grad_fn=<NegBackward0>), tensor(-8.3620, device='cuda:0', grad_fn=<NegBackward0>), tensor(-86.2170, device='cuda:0', grad_fn=<AddBackward0>)]\n",
      "4.482643088326708\n",
      "tensor(-135.5288, device='cuda:0', grad_fn=<NegBackward0>) [tensor(-38.0863, device='cuda:0', grad_fn=<NegBackward0>), tensor(-8.8310, device='cuda:0', grad_fn=<NegBackward0>), tensor(-88.6115, device='cuda:0', grad_fn=<AddBackward0>)]\n",
      "4.49900645483501\n",
      "tensor(-138.7409, device='cuda:0', grad_fn=<NegBackward0>) [tensor(-38.0863, device='cuda:0', grad_fn=<NegBackward0>), tensor(-10.2728, device='cuda:0', grad_fn=<NegBackward0>), tensor(-90.3817, device='cuda:0', grad_fn=<AddBackward0>)]\n",
      "4.654008815679891\n",
      "tensor(-140.5548, device='cuda:0', grad_fn=<NegBackward0>) [tensor(-37.9595, device='cuda:0', grad_fn=<NegBackward0>), tensor(-10.2507, device='cuda:0', grad_fn=<NegBackward0>), tensor(-92.3446, device='cuda:0', grad_fn=<AddBackward0>)]\n",
      "4.124548581844105\n",
      "tensor(-135.1440, device='cuda:0', grad_fn=<NegBackward0>) [tensor(-37.9595, device='cuda:0', grad_fn=<NegBackward0>), tensor(-9.0891, device='cuda:0', grad_fn=<NegBackward0>), tensor(-88.0954, device='cuda:0', grad_fn=<AddBackward0>)]\n",
      "4.153341847468087\n",
      "tensor(-137.0612, device='cuda:0', grad_fn=<NegBackward0>) [tensor(-37.9944, device='cuda:0', grad_fn=<NegBackward0>), tensor(-9.7962, device='cuda:0', grad_fn=<NegBackward0>), tensor(-89.2706, device='cuda:0', grad_fn=<AddBackward0>)]\n",
      "4.540270271994532\n",
      "tensor(-131.3655, device='cuda:0', grad_fn=<NegBackward0>) [tensor(-37.9944, device='cuda:0', grad_fn=<NegBackward0>), tensor(-7.3384, device='cuda:0', grad_fn=<NegBackward0>), tensor(-86.0327, device='cuda:0', grad_fn=<AddBackward0>)]\n",
      "4.124548581844105\n",
      "tensor(-137.5190, device='cuda:0', grad_fn=<NegBackward0>) [tensor(-38.0887, device='cuda:0', grad_fn=<NegBackward0>), tensor(-10.2858, device='cuda:0', grad_fn=<NegBackward0>), tensor(-89.1445, device='cuda:0', grad_fn=<AddBackward0>)]\n",
      "4.37910464315898\n",
      "tensor(-132.8010, device='cuda:0', grad_fn=<NegBackward0>) [tensor(-38.0887, device='cuda:0', grad_fn=<NegBackward0>), tensor(-7.7842, device='cuda:0', grad_fn=<NegBackward0>), tensor(-86.9281, device='cuda:0', grad_fn=<AddBackward0>)]\n",
      "4.765016349668686\n",
      "tensor(-137.4439, device='cuda:0', grad_fn=<NegBackward0>) [tensor(-38.1686, device='cuda:0', grad_fn=<NegBackward0>), tensor(-9.0234, device='cuda:0', grad_fn=<NegBackward0>), tensor(-90.2520, device='cuda:0', grad_fn=<AddBackward0>)]\n",
      "4.674815221474108\n",
      "tensor(-135.0965, device='cuda:0', grad_fn=<NegBackward0>) [tensor(-38.1686, device='cuda:0', grad_fn=<NegBackward0>), tensor(-8.4004, device='cuda:0', grad_fn=<NegBackward0>), tensor(-88.5275, device='cuda:0', grad_fn=<AddBackward0>)]\n",
      "4.205330070548252\n",
      "tensor(-137.7996, device='cuda:0', grad_fn=<NegBackward0>) [tensor(-38.1785, device='cuda:0', grad_fn=<NegBackward0>), tensor(-10.5571, device='cuda:0', grad_fn=<NegBackward0>), tensor(-89.0641, device='cuda:0', grad_fn=<AddBackward0>)]\n",
      "4.016271836384059\n",
      "tensor(-138.4976, device='cuda:0', grad_fn=<NegBackward0>) [tensor(-38.1785, device='cuda:0', grad_fn=<NegBackward0>), tensor(-10.6506, device='cuda:0', grad_fn=<NegBackward0>), tensor(-89.6685, device='cuda:0', grad_fn=<AddBackward0>)]\n",
      "4.255566372597974\n",
      "tensor(-135.0601, device='cuda:0', grad_fn=<NegBackward0>) [tensor(-38.0354, device='cuda:0', grad_fn=<NegBackward0>), tensor(-8.7922, device='cuda:0', grad_fn=<NegBackward0>), tensor(-88.2325, device='cuda:0', grad_fn=<AddBackward0>)]\n",
      "4.339240725822501\n",
      "tensor(-132.2562, device='cuda:0', grad_fn=<NegBackward0>) [tensor(-38.0354, device='cuda:0', grad_fn=<NegBackward0>), tensor(-8.2905, device='cuda:0', grad_fn=<NegBackward0>), tensor(-85.9303, device='cuda:0', grad_fn=<AddBackward0>)]\n",
      "4.477987494781449\n",
      "tensor(-133.8654, device='cuda:0', grad_fn=<NegBackward0>) [tensor(-38.0742, device='cuda:0', grad_fn=<NegBackward0>), tensor(-7.9969, device='cuda:0', grad_fn=<NegBackward0>), tensor(-87.7943, device='cuda:0', grad_fn=<AddBackward0>)]\n",
      "4.3848724480747325\n",
      "tensor(-136.7656, device='cuda:0', grad_fn=<NegBackward0>) [tensor(-38.0742, device='cuda:0', grad_fn=<NegBackward0>), tensor(-9.6008, device='cuda:0', grad_fn=<NegBackward0>), tensor(-89.0906, device='cuda:0', grad_fn=<AddBackward0>)]\n",
      "4.737175529703174\n",
      "tensor(-138.2942, device='cuda:0', grad_fn=<NegBackward0>) [tensor(-38.1075, device='cuda:0', grad_fn=<NegBackward0>), tensor(-9.4186, device='cuda:0', grad_fn=<NegBackward0>), tensor(-90.7681, device='cuda:0', grad_fn=<AddBackward0>)]\n",
      "4.349264927355825\n",
      "tensor(-135.8785, device='cuda:0', grad_fn=<NegBackward0>) [tensor(-38.1075, device='cuda:0', grad_fn=<NegBackward0>), tensor(-9.0107, device='cuda:0', grad_fn=<NegBackward0>), tensor(-88.7604, device='cuda:0', grad_fn=<AddBackward0>)]\n",
      "4.524362633603182\n",
      "tensor(-134.8243, device='cuda:0', grad_fn=<NegBackward0>) [tensor(-38.1073, device='cuda:0', grad_fn=<NegBackward0>), tensor(-8.5905, device='cuda:0', grad_fn=<NegBackward0>), tensor(-88.1265, device='cuda:0', grad_fn=<AddBackward0>)]\n",
      "4.79723508333334\n",
      "tensor(-135.7098, device='cuda:0', grad_fn=<NegBackward0>) [tensor(-38.1073, device='cuda:0', grad_fn=<NegBackward0>), tensor(-8.8870, device='cuda:0', grad_fn=<NegBackward0>), tensor(-88.7155, device='cuda:0', grad_fn=<AddBackward0>)]\n",
      "4.258743923675379\n",
      "tensor(-134.4872, device='cuda:0', grad_fn=<NegBackward0>) [tensor(-38.0436, device='cuda:0', grad_fn=<NegBackward0>), tensor(-8.8549, device='cuda:0', grad_fn=<NegBackward0>), tensor(-87.5887, device='cuda:0', grad_fn=<AddBackward0>)]\n",
      "4.599765301144077\n",
      "tensor(-134.5061, device='cuda:0', grad_fn=<NegBackward0>) [tensor(-38.0436, device='cuda:0', grad_fn=<NegBackward0>), tensor(-8.1701, device='cuda:0', grad_fn=<NegBackward0>), tensor(-88.2924, device='cuda:0', grad_fn=<AddBackward0>)]\n",
      "4.081745553283748\n",
      "tensor(-133.5155, device='cuda:0', grad_fn=<NegBackward0>) [tensor(-38.1439, device='cuda:0', grad_fn=<NegBackward0>), tensor(-8.6166, device='cuda:0', grad_fn=<NegBackward0>), tensor(-86.7550, device='cuda:0', grad_fn=<AddBackward0>)]\n",
      "4.557589181732954\n",
      "tensor(-134.3705, device='cuda:0', grad_fn=<NegBackward0>) [tensor(-38.1439, device='cuda:0', grad_fn=<NegBackward0>), tensor(-8.4413, device='cuda:0', grad_fn=<NegBackward0>), tensor(-87.7852, device='cuda:0', grad_fn=<AddBackward0>)]\n",
      "4.080415392719359\n",
      "tensor(-138.4131, device='cuda:0', grad_fn=<NegBackward0>) [tensor(-38.1174, device='cuda:0', grad_fn=<NegBackward0>), tensor(-10.5299, device='cuda:0', grad_fn=<NegBackward0>), tensor(-89.7658, device='cuda:0', grad_fn=<AddBackward0>)]\n",
      "4.345511871837163\n",
      "tensor(-139.8014, device='cuda:0', grad_fn=<NegBackward0>) [tensor(-38.1174, device='cuda:0', grad_fn=<NegBackward0>), tensor(-10.5901, device='cuda:0', grad_fn=<NegBackward0>), tensor(-91.0939, device='cuda:0', grad_fn=<AddBackward0>)]\n",
      "4.726972315258464\n",
      "tensor(-138.4669, device='cuda:0', grad_fn=<NegBackward0>) [tensor(-37.9907, device='cuda:0', grad_fn=<NegBackward0>), tensor(-9.1317, device='cuda:0', grad_fn=<NegBackward0>), tensor(-91.3444, device='cuda:0', grad_fn=<AddBackward0>)]\n",
      "4.164439695158025\n",
      "tensor(-137.7022, device='cuda:0', grad_fn=<NegBackward0>) [tensor(-37.9907, device='cuda:0', grad_fn=<NegBackward0>), tensor(-10.0533, device='cuda:0', grad_fn=<NegBackward0>), tensor(-89.6582, device='cuda:0', grad_fn=<AddBackward0>)]\n",
      "4.967941495730332\n",
      "tensor(-133.4824, device='cuda:0', grad_fn=<NegBackward0>) [tensor(-37.9113, device='cuda:0', grad_fn=<NegBackward0>), tensor(-7.6843, device='cuda:0', grad_fn=<NegBackward0>), tensor(-87.8868, device='cuda:0', grad_fn=<AddBackward0>)]\n",
      "4.633332737094462\n",
      "tensor(-138.1191, device='cuda:0', grad_fn=<NegBackward0>) [tensor(-37.9113, device='cuda:0', grad_fn=<NegBackward0>), tensor(-9.3416, device='cuda:0', grad_fn=<NegBackward0>), tensor(-90.8662, device='cuda:0', grad_fn=<AddBackward0>)]\n"
     ]
    },
    {
     "name": "stdout",
     "output_type": "stream",
     "text": [
      "4.2030710968663785\n",
      "tensor(-138.3138, device='cuda:0', grad_fn=<NegBackward0>) [tensor(-38.0977, device='cuda:0', grad_fn=<NegBackward0>), tensor(-10.9937, device='cuda:0', grad_fn=<NegBackward0>), tensor(-89.2225, device='cuda:0', grad_fn=<AddBackward0>)]\n",
      "4.55014273441235\n",
      "tensor(-133.8365, device='cuda:0', grad_fn=<NegBackward0>) [tensor(-38.0977, device='cuda:0', grad_fn=<NegBackward0>), tensor(-7.9932, device='cuda:0', grad_fn=<NegBackward0>), tensor(-87.7457, device='cuda:0', grad_fn=<AddBackward0>)]\n",
      "4.4216662428933295\n",
      "tensor(-134.7127, device='cuda:0', grad_fn=<NegBackward0>) [tensor(-38.1709, device='cuda:0', grad_fn=<NegBackward0>), tensor(-8.1380, device='cuda:0', grad_fn=<NegBackward0>), tensor(-88.4037, device='cuda:0', grad_fn=<AddBackward0>)]\n",
      "4.041053879545536\n",
      "tensor(-135.1666, device='cuda:0', grad_fn=<NegBackward0>) [tensor(-38.1709, device='cuda:0', grad_fn=<NegBackward0>), tensor(-9.4633, device='cuda:0', grad_fn=<NegBackward0>), tensor(-87.5323, device='cuda:0', grad_fn=<AddBackward0>)]\n",
      "4.738734995427557\n",
      "tensor(-136.7711, device='cuda:0', grad_fn=<NegBackward0>) [tensor(-38.0731, device='cuda:0', grad_fn=<NegBackward0>), tensor(-9.3865, device='cuda:0', grad_fn=<NegBackward0>), tensor(-89.3115, device='cuda:0', grad_fn=<AddBackward0>)]\n",
      "4.082850283451411\n",
      "tensor(-136.5999, device='cuda:0', grad_fn=<NegBackward0>) [tensor(-38.0731, device='cuda:0', grad_fn=<NegBackward0>), tensor(-9.6854, device='cuda:0', grad_fn=<NegBackward0>), tensor(-88.8415, device='cuda:0', grad_fn=<AddBackward0>)]\n",
      "5.254350139464087\n",
      "tensor(-134.4457, device='cuda:0', grad_fn=<NegBackward0>) [tensor(-38.0410, device='cuda:0', grad_fn=<NegBackward0>), tensor(-7.5980, device='cuda:0', grad_fn=<NegBackward0>), tensor(-88.8066, device='cuda:0', grad_fn=<AddBackward0>)]\n",
      "5.002313745336219\n",
      "tensor(-139.6752, device='cuda:0', grad_fn=<NegBackward0>) [tensor(-38.0410, device='cuda:0', grad_fn=<NegBackward0>), tensor(-9.4812, device='cuda:0', grad_fn=<NegBackward0>), tensor(-92.1529, device='cuda:0', grad_fn=<AddBackward0>)]\n",
      "4.351020918730817\n",
      "tensor(-137.7699, device='cuda:0', grad_fn=<NegBackward0>) [tensor(-38.1533, device='cuda:0', grad_fn=<NegBackward0>), tensor(-9.5888, device='cuda:0', grad_fn=<NegBackward0>), tensor(-90.0278, device='cuda:0', grad_fn=<AddBackward0>)]\n",
      "4.293082140006627\n",
      "tensor(-135.4490, device='cuda:0', grad_fn=<NegBackward0>) [tensor(-38.1533, device='cuda:0', grad_fn=<NegBackward0>), tensor(-9.2360, device='cuda:0', grad_fn=<NegBackward0>), tensor(-88.0597, device='cuda:0', grad_fn=<AddBackward0>)]\n",
      "4.575813359544172\n",
      "tensor(-134.9257, device='cuda:0', grad_fn=<NegBackward0>) [tensor(-38.1026, device='cuda:0', grad_fn=<NegBackward0>), tensor(-8.3222, device='cuda:0', grad_fn=<NegBackward0>), tensor(-88.5009, device='cuda:0', grad_fn=<AddBackward0>)]\n",
      "4.222638041812338\n",
      "tensor(-140.0771, device='cuda:0', grad_fn=<NegBackward0>) [tensor(-38.1026, device='cuda:0', grad_fn=<NegBackward0>), tensor(-10.7762, device='cuda:0', grad_fn=<NegBackward0>), tensor(-91.1984, device='cuda:0', grad_fn=<AddBackward0>)]\n",
      "4.648368100289122\n",
      "tensor(-134.2973, device='cuda:0', grad_fn=<NegBackward0>) [tensor(-37.9892, device='cuda:0', grad_fn=<NegBackward0>), tensor(-7.8710, device='cuda:0', grad_fn=<NegBackward0>), tensor(-88.4370, device='cuda:0', grad_fn=<AddBackward0>)]\n",
      "3.918350579685229\n",
      "tensor(-133.1004, device='cuda:0', grad_fn=<NegBackward0>) [tensor(-37.9892, device='cuda:0', grad_fn=<NegBackward0>), tensor(-8.2898, device='cuda:0', grad_fn=<NegBackward0>), tensor(-86.8214, device='cuda:0', grad_fn=<AddBackward0>)]\n",
      "4.477616421809527\n",
      "tensor(-137.1038, device='cuda:0', grad_fn=<NegBackward0>) [tensor(-38.0034, device='cuda:0', grad_fn=<NegBackward0>), tensor(-9.1495, device='cuda:0', grad_fn=<NegBackward0>), tensor(-89.9509, device='cuda:0', grad_fn=<AddBackward0>)]\n",
      "4.4758963275764065\n",
      "tensor(-136.5819, device='cuda:0', grad_fn=<NegBackward0>) [tensor(-38.0034, device='cuda:0', grad_fn=<NegBackward0>), tensor(-9.3716, device='cuda:0', grad_fn=<NegBackward0>), tensor(-89.2069, device='cuda:0', grad_fn=<AddBackward0>)]\n",
      "4.371651699468824\n",
      "tensor(-138.7318, device='cuda:0', grad_fn=<NegBackward0>) [tensor(-38.0836, device='cuda:0', grad_fn=<NegBackward0>), tensor(-10.2529, device='cuda:0', grad_fn=<NegBackward0>), tensor(-90.3952, device='cuda:0', grad_fn=<AddBackward0>)]\n",
      "4.608870955722271\n",
      "tensor(-138.6095, device='cuda:0', grad_fn=<NegBackward0>) [tensor(-38.0836, device='cuda:0', grad_fn=<NegBackward0>), tensor(-9.3527, device='cuda:0', grad_fn=<NegBackward0>), tensor(-91.1731, device='cuda:0', grad_fn=<AddBackward0>)]\n",
      "4.332140266510463\n",
      "tensor(-139.1543, device='cuda:0', grad_fn=<NegBackward0>) [tensor(-38.1280, device='cuda:0', grad_fn=<NegBackward0>), tensor(-9.7089, device='cuda:0', grad_fn=<NegBackward0>), tensor(-91.3174, device='cuda:0', grad_fn=<AddBackward0>)]\n",
      "4.569819983498461\n",
      "tensor(-136.5182, device='cuda:0', grad_fn=<NegBackward0>) [tensor(-38.1280, device='cuda:0', grad_fn=<NegBackward0>), tensor(-9.6512, device='cuda:0', grad_fn=<NegBackward0>), tensor(-88.7390, device='cuda:0', grad_fn=<AddBackward0>)]\n",
      "4.143963093175746\n",
      "tensor(-138.3765, device='cuda:0', grad_fn=<NegBackward0>) [tensor(-38.0156, device='cuda:0', grad_fn=<NegBackward0>), tensor(-9.8403, device='cuda:0', grad_fn=<NegBackward0>), tensor(-90.5206, device='cuda:0', grad_fn=<AddBackward0>)]\n",
      "4.692113682114324\n",
      "tensor(-139.2550, device='cuda:0', grad_fn=<NegBackward0>) [tensor(-38.0156, device='cuda:0', grad_fn=<NegBackward0>), tensor(-10.4474, device='cuda:0', grad_fn=<NegBackward0>), tensor(-90.7920, device='cuda:0', grad_fn=<AddBackward0>)]\n",
      "4.592986597967929\n",
      "tensor(-137.1210, device='cuda:0', grad_fn=<NegBackward0>) [tensor(-38.0522, device='cuda:0', grad_fn=<NegBackward0>), tensor(-9.3042, device='cuda:0', grad_fn=<NegBackward0>), tensor(-89.7646, device='cuda:0', grad_fn=<AddBackward0>)]\n",
      "4.0945898166370736\n",
      "tensor(-134.9901, device='cuda:0', grad_fn=<NegBackward0>) [tensor(-38.0522, device='cuda:0', grad_fn=<NegBackward0>), tensor(-9.3147, device='cuda:0', grad_fn=<NegBackward0>), tensor(-87.6232, device='cuda:0', grad_fn=<AddBackward0>)]\n",
      "4.627948335353747\n",
      "tensor(-134.2194, device='cuda:0', grad_fn=<NegBackward0>) [tensor(-38.0445, device='cuda:0', grad_fn=<NegBackward0>), tensor(-7.9666, device='cuda:0', grad_fn=<NegBackward0>), tensor(-88.2083, device='cuda:0', grad_fn=<AddBackward0>)]\n",
      "5.140440850969833\n",
      "tensor(-136.0499, device='cuda:0', grad_fn=<NegBackward0>) [tensor(-38.0445, device='cuda:0', grad_fn=<NegBackward0>), tensor(-8.4433, device='cuda:0', grad_fn=<NegBackward0>), tensor(-89.5620, device='cuda:0', grad_fn=<AddBackward0>)]\n",
      "4.765524823410529\n",
      "tensor(-139.3977, device='cuda:0', grad_fn=<NegBackward0>) [tensor(-38.1325, device='cuda:0', grad_fn=<NegBackward0>), tensor(-10.1197, device='cuda:0', grad_fn=<NegBackward0>), tensor(-91.1455, device='cuda:0', grad_fn=<AddBackward0>)]\n",
      "4.566702054991002\n",
      "tensor(-136.7644, device='cuda:0', grad_fn=<NegBackward0>) [tensor(-38.1325, device='cuda:0', grad_fn=<NegBackward0>), tensor(-9.2584, device='cuda:0', grad_fn=<NegBackward0>), tensor(-89.3734, device='cuda:0', grad_fn=<AddBackward0>)]\n",
      "4.474864345015767\n",
      "tensor(-137.3123, device='cuda:0', grad_fn=<NegBackward0>) [tensor(-38.0935, device='cuda:0', grad_fn=<NegBackward0>), tensor(-9.2039, device='cuda:0', grad_fn=<NegBackward0>), tensor(-90.0149, device='cuda:0', grad_fn=<AddBackward0>)]\n",
      "4.4765710002553645\n",
      "tensor(-134.3113, device='cuda:0', grad_fn=<NegBackward0>) [tensor(-38.0935, device='cuda:0', grad_fn=<NegBackward0>), tensor(-8.2464, device='cuda:0', grad_fn=<NegBackward0>), tensor(-87.9714, device='cuda:0', grad_fn=<AddBackward0>)]\n",
      "4.649137196068572\n",
      "tensor(-138.8110, device='cuda:0', grad_fn=<NegBackward0>) [tensor(-38.1470, device='cuda:0', grad_fn=<NegBackward0>), tensor(-9.7073, device='cuda:0', grad_fn=<NegBackward0>), tensor(-90.9568, device='cuda:0', grad_fn=<AddBackward0>)]\n",
      "4.022708093446612\n",
      "tensor(-134.9601, device='cuda:0', grad_fn=<NegBackward0>) [tensor(-38.1470, device='cuda:0', grad_fn=<NegBackward0>), tensor(-9.2696, device='cuda:0', grad_fn=<NegBackward0>), tensor(-87.5436, device='cuda:0', grad_fn=<AddBackward0>)]\n",
      "4.601528506208733\n",
      "tensor(-138.0805, device='cuda:0', grad_fn=<NegBackward0>) [tensor(-38.0543, device='cuda:0', grad_fn=<NegBackward0>), tensor(-9.5608, device='cuda:0', grad_fn=<NegBackward0>), tensor(-90.4654, device='cuda:0', grad_fn=<AddBackward0>)]\n"
     ]
    },
    {
     "name": "stdout",
     "output_type": "stream",
     "text": [
      "4.71757808158553\n",
      "tensor(-139.1559, device='cuda:0', grad_fn=<NegBackward0>) [tensor(-38.0543, device='cuda:0', grad_fn=<NegBackward0>), tensor(-9.9778, device='cuda:0', grad_fn=<NegBackward0>), tensor(-91.1238, device='cuda:0', grad_fn=<AddBackward0>)]\n",
      "5.144892202352085\n",
      "tensor(-133.4918, device='cuda:0', grad_fn=<NegBackward0>) [tensor(-38.0077, device='cuda:0', grad_fn=<NegBackward0>), tensor(-7.5860, device='cuda:0', grad_fn=<NegBackward0>), tensor(-87.8981, device='cuda:0', grad_fn=<AddBackward0>)]\n",
      "4.896850161711283\n",
      "tensor(-132.9961, device='cuda:0', grad_fn=<NegBackward0>) [tensor(-38.0077, device='cuda:0', grad_fn=<NegBackward0>), tensor(-7.3016, device='cuda:0', grad_fn=<NegBackward0>), tensor(-87.6868, device='cuda:0', grad_fn=<AddBackward0>)]\n",
      "4.346812391836395\n",
      "tensor(-134.7164, device='cuda:0', grad_fn=<NegBackward0>) [tensor(-38.2476, device='cuda:0', grad_fn=<NegBackward0>), tensor(-9.0248, device='cuda:0', grad_fn=<NegBackward0>), tensor(-87.4441, device='cuda:0', grad_fn=<AddBackward0>)]\n",
      "4.5377454118029785\n",
      "tensor(-137.7845, device='cuda:0', grad_fn=<NegBackward0>) [tensor(-38.2476, device='cuda:0', grad_fn=<NegBackward0>), tensor(-9.1083, device='cuda:0', grad_fn=<NegBackward0>), tensor(-90.4286, device='cuda:0', grad_fn=<AddBackward0>)]\n",
      "4.623554506647621\n",
      "tensor(-138.2935, device='cuda:0', grad_fn=<NegBackward0>) [tensor(-38.3068, device='cuda:0', grad_fn=<NegBackward0>), tensor(-9.6472, device='cuda:0', grad_fn=<NegBackward0>), tensor(-90.3394, device='cuda:0', grad_fn=<AddBackward0>)]\n",
      "4.599719071270723\n",
      "tensor(-136.6841, device='cuda:0', grad_fn=<NegBackward0>) [tensor(-38.3068, device='cuda:0', grad_fn=<NegBackward0>), tensor(-8.9950, device='cuda:0', grad_fn=<NegBackward0>), tensor(-89.3823, device='cuda:0', grad_fn=<AddBackward0>)]\n",
      "4.439909769739194\n",
      "tensor(-132.8831, device='cuda:0', grad_fn=<NegBackward0>) [tensor(-38.3307, device='cuda:0', grad_fn=<NegBackward0>), tensor(-7.7407, device='cuda:0', grad_fn=<NegBackward0>), tensor(-86.8117, device='cuda:0', grad_fn=<AddBackward0>)]\n",
      "4.39870127422835\n",
      "tensor(-135.8448, device='cuda:0', grad_fn=<NegBackward0>) [tensor(-38.3307, device='cuda:0', grad_fn=<NegBackward0>), tensor(-8.6514, device='cuda:0', grad_fn=<NegBackward0>), tensor(-88.8627, device='cuda:0', grad_fn=<AddBackward0>)]\n",
      "4.840361136735758\n",
      "tensor(-137.4598, device='cuda:0', grad_fn=<NegBackward0>) [tensor(-38.2592, device='cuda:0', grad_fn=<NegBackward0>), tensor(-9.1394, device='cuda:0', grad_fn=<NegBackward0>), tensor(-90.0613, device='cuda:0', grad_fn=<AddBackward0>)]\n",
      "4.438904755378358\n",
      "tensor(-139.2487, device='cuda:0', grad_fn=<NegBackward0>) [tensor(-38.2592, device='cuda:0', grad_fn=<NegBackward0>), tensor(-10.1477, device='cuda:0', grad_fn=<NegBackward0>), tensor(-90.8418, device='cuda:0', grad_fn=<AddBackward0>)]\n",
      "4.907627803916187\n",
      "tensor(-137.2735, device='cuda:0', grad_fn=<NegBackward0>) [tensor(-38.0955, device='cuda:0', grad_fn=<NegBackward0>), tensor(-8.7989, device='cuda:0', grad_fn=<NegBackward0>), tensor(-90.3791, device='cuda:0', grad_fn=<AddBackward0>)]\n",
      "4.515774424247416\n",
      "tensor(-135.4203, device='cuda:0', grad_fn=<NegBackward0>) [tensor(-38.0955, device='cuda:0', grad_fn=<NegBackward0>), tensor(-8.7675, device='cuda:0', grad_fn=<NegBackward0>), tensor(-88.5574, device='cuda:0', grad_fn=<AddBackward0>)]\n",
      "4.711654947522798\n",
      "tensor(-135.0738, device='cuda:0', grad_fn=<NegBackward0>) [tensor(-38.1379, device='cuda:0', grad_fn=<NegBackward0>), tensor(-8.6991, device='cuda:0', grad_fn=<NegBackward0>), tensor(-88.2368, device='cuda:0', grad_fn=<AddBackward0>)]\n",
      "4.333226953196812\n",
      "tensor(-133.6326, device='cuda:0', grad_fn=<NegBackward0>) [tensor(-38.1379, device='cuda:0', grad_fn=<NegBackward0>), tensor(-8.1375, device='cuda:0', grad_fn=<NegBackward0>), tensor(-87.3571, device='cuda:0', grad_fn=<AddBackward0>)]\n",
      "4.716166820635956\n",
      "tensor(-137.5739, device='cuda:0', grad_fn=<NegBackward0>) [tensor(-38.1841, device='cuda:0', grad_fn=<NegBackward0>), tensor(-9.1181, device='cuda:0', grad_fn=<NegBackward0>), tensor(-90.2718, device='cuda:0', grad_fn=<AddBackward0>)]\n",
      "3.966892797782489\n",
      "tensor(-135.2032, device='cuda:0', grad_fn=<NegBackward0>) [tensor(-38.1841, device='cuda:0', grad_fn=<NegBackward0>), tensor(-9.2300, device='cuda:0', grad_fn=<NegBackward0>), tensor(-87.7892, device='cuda:0', grad_fn=<AddBackward0>)]\n",
      "4.374803976614688\n",
      "tensor(-139.8681, device='cuda:0', grad_fn=<NegBackward0>) [tensor(-38.1561, device='cuda:0', grad_fn=<NegBackward0>), tensor(-10.3383, device='cuda:0', grad_fn=<NegBackward0>), tensor(-91.3737, device='cuda:0', grad_fn=<AddBackward0>)]\n",
      "4.775479894905715\n",
      "tensor(-134.8969, device='cuda:0', grad_fn=<NegBackward0>) [tensor(-38.1561, device='cuda:0', grad_fn=<NegBackward0>), tensor(-8.3594, device='cuda:0', grad_fn=<NegBackward0>), tensor(-88.3814, device='cuda:0', grad_fn=<AddBackward0>)]\n",
      "4.752697320514082\n",
      "tensor(-134.3134, device='cuda:0', grad_fn=<NegBackward0>) [tensor(-38.2212, device='cuda:0', grad_fn=<NegBackward0>), tensor(-7.6691, device='cuda:0', grad_fn=<NegBackward0>), tensor(-88.4232, device='cuda:0', grad_fn=<AddBackward0>)]\n",
      "4.6129537686356334\n",
      "tensor(-131.8506, device='cuda:0', grad_fn=<NegBackward0>) [tensor(-38.2212, device='cuda:0', grad_fn=<NegBackward0>), tensor(-7.3222, device='cuda:0', grad_fn=<NegBackward0>), tensor(-86.3073, device='cuda:0', grad_fn=<AddBackward0>)]\n",
      "4.606600124926086\n",
      "tensor(-140.7240, device='cuda:0', grad_fn=<NegBackward0>) [tensor(-38.2974, device='cuda:0', grad_fn=<NegBackward0>), tensor(-10.5891, device='cuda:0', grad_fn=<NegBackward0>), tensor(-91.8375, device='cuda:0', grad_fn=<AddBackward0>)]\n",
      "4.0766985188544735\n",
      "tensor(-140.0026, device='cuda:0', grad_fn=<NegBackward0>) [tensor(-38.2974, device='cuda:0', grad_fn=<NegBackward0>), tensor(-11.7327, device='cuda:0', grad_fn=<NegBackward0>), tensor(-89.9725, device='cuda:0', grad_fn=<AddBackward0>)]\n",
      "5.1321918281004875\n",
      "tensor(-136.5120, device='cuda:0', grad_fn=<NegBackward0>) [tensor(-38.0156, device='cuda:0', grad_fn=<NegBackward0>), tensor(-8.7442, device='cuda:0', grad_fn=<NegBackward0>), tensor(-89.7521, device='cuda:0', grad_fn=<AddBackward0>)]\n",
      "4.695967171946552\n",
      "tensor(-131.8833, device='cuda:0', grad_fn=<NegBackward0>) [tensor(-38.0156, device='cuda:0', grad_fn=<NegBackward0>), tensor(-7.0433, device='cuda:0', grad_fn=<NegBackward0>), tensor(-86.8244, device='cuda:0', grad_fn=<AddBackward0>)]\n",
      "4.994242853552854\n",
      "tensor(-138.1635, device='cuda:0', grad_fn=<NegBackward0>) [tensor(-38.1551, device='cuda:0', grad_fn=<NegBackward0>), tensor(-9.1853, device='cuda:0', grad_fn=<NegBackward0>), tensor(-90.8231, device='cuda:0', grad_fn=<AddBackward0>)]\n",
      "5.073025625747322\n",
      "tensor(-136.1545, device='cuda:0', grad_fn=<NegBackward0>) [tensor(-38.1551, device='cuda:0', grad_fn=<NegBackward0>), tensor(-8.8625, device='cuda:0', grad_fn=<NegBackward0>), tensor(-89.1369, device='cuda:0', grad_fn=<AddBackward0>)]\n",
      "4.67613814805278\n",
      "tensor(-137.5135, device='cuda:0', grad_fn=<NegBackward0>) [tensor(-38.2157, device='cuda:0', grad_fn=<NegBackward0>), tensor(-9.0075, device='cuda:0', grad_fn=<NegBackward0>), tensor(-90.2902, device='cuda:0', grad_fn=<AddBackward0>)]\n",
      "4.666059575580665\n",
      "tensor(-133.9381, device='cuda:0', grad_fn=<NegBackward0>) [tensor(-38.2157, device='cuda:0', grad_fn=<NegBackward0>), tensor(-7.7928, device='cuda:0', grad_fn=<NegBackward0>), tensor(-87.9295, device='cuda:0', grad_fn=<AddBackward0>)]\n",
      "4.755064241031807\n",
      "tensor(-136.2801, device='cuda:0', grad_fn=<NegBackward0>) [tensor(-38.2868, device='cuda:0', grad_fn=<NegBackward0>), tensor(-8.9791, device='cuda:0', grad_fn=<NegBackward0>), tensor(-89.0142, device='cuda:0', grad_fn=<AddBackward0>)]\n",
      "4.72551975317041\n",
      "tensor(-136.4449, device='cuda:0', grad_fn=<NegBackward0>) [tensor(-38.2868, device='cuda:0', grad_fn=<NegBackward0>), tensor(-8.4280, device='cuda:0', grad_fn=<NegBackward0>), tensor(-89.7301, device='cuda:0', grad_fn=<AddBackward0>)]\n",
      "4.769229251783679\n",
      "tensor(-136.0079, device='cuda:0', grad_fn=<NegBackward0>) [tensor(-38.3228, device='cuda:0', grad_fn=<NegBackward0>), tensor(-8.9416, device='cuda:0', grad_fn=<NegBackward0>), tensor(-88.7435, device='cuda:0', grad_fn=<AddBackward0>)]\n",
      "4.809164552499617\n",
      "tensor(-139.0438, device='cuda:0', grad_fn=<NegBackward0>) [tensor(-38.3228, device='cuda:0', grad_fn=<NegBackward0>), tensor(-9.5050, device='cuda:0', grad_fn=<NegBackward0>), tensor(-91.2160, device='cuda:0', grad_fn=<AddBackward0>)]\n"
     ]
    },
    {
     "name": "stdout",
     "output_type": "stream",
     "text": [
      "4.293267939828034\n",
      "tensor(-139.0891, device='cuda:0', grad_fn=<NegBackward0>) [tensor(-38.3567, device='cuda:0', grad_fn=<NegBackward0>), tensor(-10.0964, device='cuda:0', grad_fn=<NegBackward0>), tensor(-90.6360, device='cuda:0', grad_fn=<AddBackward0>)]\n",
      "5.138654339020219\n",
      "tensor(-137.7952, device='cuda:0', grad_fn=<NegBackward0>) [tensor(-38.3567, device='cuda:0', grad_fn=<NegBackward0>), tensor(-8.8331, device='cuda:0', grad_fn=<NegBackward0>), tensor(-90.6055, device='cuda:0', grad_fn=<AddBackward0>)]\n",
      "4.400823138493836\n",
      "tensor(-133.1286, device='cuda:0', grad_fn=<NegBackward0>) [tensor(-38.3165, device='cuda:0', grad_fn=<NegBackward0>), tensor(-7.7722, device='cuda:0', grad_fn=<NegBackward0>), tensor(-87.0400, device='cuda:0', grad_fn=<AddBackward0>)]\n",
      "4.856338514824593\n",
      "tensor(-134.1393, device='cuda:0', grad_fn=<NegBackward0>) [tensor(-38.3165, device='cuda:0', grad_fn=<NegBackward0>), tensor(-7.7658, device='cuda:0', grad_fn=<NegBackward0>), tensor(-88.0570, device='cuda:0', grad_fn=<AddBackward0>)]\n",
      "4.1547407686610365\n",
      "tensor(-138.3507, device='cuda:0', grad_fn=<NegBackward0>) [tensor(-38.3637, device='cuda:0', grad_fn=<NegBackward0>), tensor(-10.8044, device='cuda:0', grad_fn=<NegBackward0>), tensor(-89.1826, device='cuda:0', grad_fn=<AddBackward0>)]\n",
      "4.745090628155294\n",
      "tensor(-134.1491, device='cuda:0', grad_fn=<NegBackward0>) [tensor(-38.3637, device='cuda:0', grad_fn=<NegBackward0>), tensor(-7.9976, device='cuda:0', grad_fn=<NegBackward0>), tensor(-87.7878, device='cuda:0', grad_fn=<AddBackward0>)]\n",
      "4.477025955494025\n",
      "tensor(-135.7069, device='cuda:0', grad_fn=<NegBackward0>) [tensor(-38.3767, device='cuda:0', grad_fn=<NegBackward0>), tensor(-8.6636, device='cuda:0', grad_fn=<NegBackward0>), tensor(-88.6666, device='cuda:0', grad_fn=<AddBackward0>)]\n",
      "4.152446379910281\n",
      "tensor(-138.3967, device='cuda:0', grad_fn=<NegBackward0>) [tensor(-38.3767, device='cuda:0', grad_fn=<NegBackward0>), tensor(-10.6081, device='cuda:0', grad_fn=<NegBackward0>), tensor(-89.4118, device='cuda:0', grad_fn=<AddBackward0>)]\n",
      "5.014549813293064\n",
      "tensor(-139.0374, device='cuda:0', grad_fn=<NegBackward0>) [tensor(-38.2107, device='cuda:0', grad_fn=<NegBackward0>), tensor(-9.6313, device='cuda:0', grad_fn=<NegBackward0>), tensor(-91.1953, device='cuda:0', grad_fn=<AddBackward0>)]\n",
      "4.1514276034145485\n",
      "tensor(-137.1397, device='cuda:0', grad_fn=<NegBackward0>) [tensor(-38.2107, device='cuda:0', grad_fn=<NegBackward0>), tensor(-9.4740, device='cuda:0', grad_fn=<NegBackward0>), tensor(-89.4550, device='cuda:0', grad_fn=<AddBackward0>)]\n",
      "4.564173703480367\n",
      "tensor(-139.0761, device='cuda:0', grad_fn=<NegBackward0>) [tensor(-38.1176, device='cuda:0', grad_fn=<NegBackward0>), tensor(-9.6744, device='cuda:0', grad_fn=<NegBackward0>), tensor(-91.2840, device='cuda:0', grad_fn=<AddBackward0>)]\n",
      "4.410731819596321\n",
      "tensor(-137.1044, device='cuda:0', grad_fn=<NegBackward0>) [tensor(-38.1176, device='cuda:0', grad_fn=<NegBackward0>), tensor(-9.6979, device='cuda:0', grad_fn=<NegBackward0>), tensor(-89.2889, device='cuda:0', grad_fn=<AddBackward0>)]\n",
      "4.733093798611404\n",
      "tensor(-136.1134, device='cuda:0', grad_fn=<NegBackward0>) [tensor(-38.0969, device='cuda:0', grad_fn=<NegBackward0>), tensor(-8.9934, device='cuda:0', grad_fn=<NegBackward0>), tensor(-89.0231, device='cuda:0', grad_fn=<AddBackward0>)]\n",
      "4.247057423030455\n",
      "tensor(-138.0480, device='cuda:0', grad_fn=<NegBackward0>) [tensor(-38.0969, device='cuda:0', grad_fn=<NegBackward0>), tensor(-9.9603, device='cuda:0', grad_fn=<NegBackward0>), tensor(-89.9908, device='cuda:0', grad_fn=<AddBackward0>)]\n",
      "4.422992455423241\n",
      "tensor(-137.7956, device='cuda:0', grad_fn=<NegBackward0>) [tensor(-38.1454, device='cuda:0', grad_fn=<NegBackward0>), tensor(-9.6417, device='cuda:0', grad_fn=<NegBackward0>), tensor(-90.0086, device='cuda:0', grad_fn=<AddBackward0>)]\n",
      "4.253470793561595\n",
      "tensor(-139.2994, device='cuda:0', grad_fn=<NegBackward0>) [tensor(-38.1454, device='cuda:0', grad_fn=<NegBackward0>), tensor(-10.6076, device='cuda:0', grad_fn=<NegBackward0>), tensor(-90.5464, device='cuda:0', grad_fn=<AddBackward0>)]\n",
      "4.729010251265081\n",
      "tensor(-139.9203, device='cuda:0', grad_fn=<NegBackward0>) [tensor(-38.0786, device='cuda:0', grad_fn=<NegBackward0>), tensor(-10.8721, device='cuda:0', grad_fn=<NegBackward0>), tensor(-90.9696, device='cuda:0', grad_fn=<AddBackward0>)]\n",
      "4.4859267360695645\n",
      "tensor(-138.4288, device='cuda:0', grad_fn=<NegBackward0>) [tensor(-38.0786, device='cuda:0', grad_fn=<NegBackward0>), tensor(-9.8521, device='cuda:0', grad_fn=<NegBackward0>), tensor(-90.4982, device='cuda:0', grad_fn=<AddBackward0>)]\n",
      "4.076246246452242\n",
      "tensor(-137.4064, device='cuda:0', grad_fn=<NegBackward0>) [tensor(-38.0948, device='cuda:0', grad_fn=<NegBackward0>), tensor(-9.9521, device='cuda:0', grad_fn=<NegBackward0>), tensor(-89.3595, device='cuda:0', grad_fn=<AddBackward0>)]\n",
      "4.172460959263882\n",
      "tensor(-138.0959, device='cuda:0', grad_fn=<NegBackward0>) [tensor(-38.0948, device='cuda:0', grad_fn=<NegBackward0>), tensor(-10.6557, device='cuda:0', grad_fn=<NegBackward0>), tensor(-89.3454, device='cuda:0', grad_fn=<AddBackward0>)]\n",
      "4.529105836788979\n",
      "tensor(-139.9586, device='cuda:0', grad_fn=<NegBackward0>) [tensor(-38.0396, device='cuda:0', grad_fn=<NegBackward0>), tensor(-10.0972, device='cuda:0', grad_fn=<NegBackward0>), tensor(-91.8218, device='cuda:0', grad_fn=<AddBackward0>)]\n",
      "4.934451903447765\n",
      "tensor(-140.4399, device='cuda:0', grad_fn=<NegBackward0>) [tensor(-38.0396, device='cuda:0', grad_fn=<NegBackward0>), tensor(-10.0532, device='cuda:0', grad_fn=<NegBackward0>), tensor(-92.3471, device='cuda:0', grad_fn=<AddBackward0>)]\n",
      "4.395138941808036\n",
      "tensor(-134.3297, device='cuda:0', grad_fn=<NegBackward0>) [tensor(-38.0655, device='cuda:0', grad_fn=<NegBackward0>), tensor(-8.4627, device='cuda:0', grad_fn=<NegBackward0>), tensor(-87.8016, device='cuda:0', grad_fn=<AddBackward0>)]\n",
      "4.364063014854286\n",
      "tensor(-134.7262, device='cuda:0', grad_fn=<NegBackward0>) [tensor(-38.0655, device='cuda:0', grad_fn=<NegBackward0>), tensor(-8.4359, device='cuda:0', grad_fn=<NegBackward0>), tensor(-88.2248, device='cuda:0', grad_fn=<AddBackward0>)]\n",
      "5.238009315956397\n",
      "tensor(-138.5354, device='cuda:0', grad_fn=<NegBackward0>) [tensor(-38.1213, device='cuda:0', grad_fn=<NegBackward0>), tensor(-9.1252, device='cuda:0', grad_fn=<NegBackward0>), tensor(-91.2889, device='cuda:0', grad_fn=<AddBackward0>)]\n",
      "4.915192157838769\n",
      "tensor(-134.7199, device='cuda:0', grad_fn=<NegBackward0>) [tensor(-38.1213, device='cuda:0', grad_fn=<NegBackward0>), tensor(-7.9672, device='cuda:0', grad_fn=<NegBackward0>), tensor(-88.6314, device='cuda:0', grad_fn=<AddBackward0>)]\n",
      "4.77704113820059\n",
      "tensor(-137.4057, device='cuda:0', grad_fn=<NegBackward0>) [tensor(-38.2980, device='cuda:0', grad_fn=<NegBackward0>), tensor(-9.0068, device='cuda:0', grad_fn=<NegBackward0>), tensor(-90.1009, device='cuda:0', grad_fn=<AddBackward0>)]\n",
      "4.241413299125481\n",
      "tensor(-136.5751, device='cuda:0', grad_fn=<NegBackward0>) [tensor(-38.2980, device='cuda:0', grad_fn=<NegBackward0>), tensor(-9.4348, device='cuda:0', grad_fn=<NegBackward0>), tensor(-88.8422, device='cuda:0', grad_fn=<AddBackward0>)]\n",
      "4.152237912154632\n",
      "tensor(-135.7703, device='cuda:0', grad_fn=<NegBackward0>) [tensor(-38.2623, device='cuda:0', grad_fn=<NegBackward0>), tensor(-8.8322, device='cuda:0', grad_fn=<NegBackward0>), tensor(-88.6757, device='cuda:0', grad_fn=<AddBackward0>)]\n",
      "4.455643338941659\n",
      "tensor(-134.7862, device='cuda:0', grad_fn=<NegBackward0>) [tensor(-38.2623, device='cuda:0', grad_fn=<NegBackward0>), tensor(-8.4122, device='cuda:0', grad_fn=<NegBackward0>), tensor(-88.1117, device='cuda:0', grad_fn=<AddBackward0>)]\n",
      "4.204308352626999\n",
      "tensor(-135.5231, device='cuda:0', grad_fn=<NegBackward0>) [tensor(-38.2644, device='cuda:0', grad_fn=<NegBackward0>), tensor(-9.5050, device='cuda:0', grad_fn=<NegBackward0>), tensor(-87.7537, device='cuda:0', grad_fn=<AddBackward0>)]\n",
      "4.275072892234608\n",
      "tensor(-136.4226, device='cuda:0', grad_fn=<NegBackward0>) [tensor(-38.2644, device='cuda:0', grad_fn=<NegBackward0>), tensor(-9.9491, device='cuda:0', grad_fn=<NegBackward0>), tensor(-88.2091, device='cuda:0', grad_fn=<AddBackward0>)]\n",
      "4.609660334868819\n",
      "tensor(-136.0773, device='cuda:0', grad_fn=<NegBackward0>) [tensor(-38.2012, device='cuda:0', grad_fn=<NegBackward0>), tensor(-8.8729, device='cuda:0', grad_fn=<NegBackward0>), tensor(-89.0032, device='cuda:0', grad_fn=<AddBackward0>)]\n"
     ]
    },
    {
     "name": "stdout",
     "output_type": "stream",
     "text": [
      "4.5585347907986975\n",
      "tensor(-135.5409, device='cuda:0', grad_fn=<NegBackward0>) [tensor(-38.2012, device='cuda:0', grad_fn=<NegBackward0>), tensor(-8.1837, device='cuda:0', grad_fn=<NegBackward0>), tensor(-89.1560, device='cuda:0', grad_fn=<AddBackward0>)]\n",
      "4.609687942207385\n",
      "tensor(-133.2578, device='cuda:0', grad_fn=<NegBackward0>) [tensor(-38.3326, device='cuda:0', grad_fn=<NegBackward0>), tensor(-7.6548, device='cuda:0', grad_fn=<NegBackward0>), tensor(-87.2705, device='cuda:0', grad_fn=<AddBackward0>)]\n",
      "5.059868358907418\n",
      "tensor(-134.9112, device='cuda:0', grad_fn=<NegBackward0>) [tensor(-38.3326, device='cuda:0', grad_fn=<NegBackward0>), tensor(-7.9126, device='cuda:0', grad_fn=<NegBackward0>), tensor(-88.6660, device='cuda:0', grad_fn=<AddBackward0>)]\n",
      "4.949837103225579\n",
      "tensor(-139.2439, device='cuda:0', grad_fn=<NegBackward0>) [tensor(-38.3951, device='cuda:0', grad_fn=<NegBackward0>), tensor(-9.1867, device='cuda:0', grad_fn=<NegBackward0>), tensor(-91.6620, device='cuda:0', grad_fn=<AddBackward0>)]\n",
      "4.361588444595775\n",
      "tensor(-137.3412, device='cuda:0', grad_fn=<NegBackward0>) [tensor(-38.3951, device='cuda:0', grad_fn=<NegBackward0>), tensor(-9.1794, device='cuda:0', grad_fn=<NegBackward0>), tensor(-89.7667, device='cuda:0', grad_fn=<AddBackward0>)]\n",
      "4.29949406657318\n",
      "tensor(-141.3672, device='cuda:0', grad_fn=<NegBackward0>) [tensor(-38.4195, device='cuda:0', grad_fn=<NegBackward0>), tensor(-11.0529, device='cuda:0', grad_fn=<NegBackward0>), tensor(-91.8949, device='cuda:0', grad_fn=<AddBackward0>)]\n",
      "4.247112515113485\n",
      "tensor(-138.2905, device='cuda:0', grad_fn=<NegBackward0>) [tensor(-38.4195, device='cuda:0', grad_fn=<NegBackward0>), tensor(-9.9205, device='cuda:0', grad_fn=<NegBackward0>), tensor(-89.9506, device='cuda:0', grad_fn=<AddBackward0>)]\n",
      "4.7283704820072945\n",
      "tensor(-137.4761, device='cuda:0', grad_fn=<NegBackward0>) [tensor(-38.2864, device='cuda:0', grad_fn=<NegBackward0>), tensor(-9.2827, device='cuda:0', grad_fn=<NegBackward0>), tensor(-89.9069, device='cuda:0', grad_fn=<AddBackward0>)]\n",
      "4.551925208409938\n",
      "tensor(-134.6788, device='cuda:0', grad_fn=<NegBackward0>) [tensor(-38.2864, device='cuda:0', grad_fn=<NegBackward0>), tensor(-8.4266, device='cuda:0', grad_fn=<NegBackward0>), tensor(-87.9657, device='cuda:0', grad_fn=<AddBackward0>)]\n",
      "4.282038594287516\n",
      "tensor(-137.2295, device='cuda:0', grad_fn=<NegBackward0>) [tensor(-38.2759, device='cuda:0', grad_fn=<NegBackward0>), tensor(-9.6916, device='cuda:0', grad_fn=<NegBackward0>), tensor(-89.2619, device='cuda:0', grad_fn=<AddBackward0>)]\n",
      "4.79950032238378\n",
      "tensor(-133.4388, device='cuda:0', grad_fn=<NegBackward0>) [tensor(-38.2759, device='cuda:0', grad_fn=<NegBackward0>), tensor(-7.4167, device='cuda:0', grad_fn=<NegBackward0>), tensor(-87.7462, device='cuda:0', grad_fn=<AddBackward0>)]\n",
      "4.202717821872388\n",
      "tensor(-136.4831, device='cuda:0', grad_fn=<NegBackward0>) [tensor(-38.3703, device='cuda:0', grad_fn=<NegBackward0>), tensor(-10.0312, device='cuda:0', grad_fn=<NegBackward0>), tensor(-88.0816, device='cuda:0', grad_fn=<AddBackward0>)]\n",
      "4.733458148064412\n",
      "tensor(-131.7526, device='cuda:0', grad_fn=<NegBackward0>) [tensor(-38.3703, device='cuda:0', grad_fn=<NegBackward0>), tensor(-7.1340, device='cuda:0', grad_fn=<NegBackward0>), tensor(-86.2483, device='cuda:0', grad_fn=<AddBackward0>)]\n",
      "4.864820616398801\n",
      "tensor(-140.4068, device='cuda:0', grad_fn=<NegBackward0>) [tensor(-38.4491, device='cuda:0', grad_fn=<NegBackward0>), tensor(-9.7705, device='cuda:0', grad_fn=<NegBackward0>), tensor(-92.1873, device='cuda:0', grad_fn=<AddBackward0>)]\n",
      "4.485770986347773\n",
      "tensor(-140.4911, device='cuda:0', grad_fn=<NegBackward0>) [tensor(-38.4491, device='cuda:0', grad_fn=<NegBackward0>), tensor(-10.2671, device='cuda:0', grad_fn=<NegBackward0>), tensor(-91.7750, device='cuda:0', grad_fn=<AddBackward0>)]\n",
      "4.2394088082283155\n",
      "tensor(-132.6358, device='cuda:0', grad_fn=<NegBackward0>) [tensor(-38.3269, device='cuda:0', grad_fn=<NegBackward0>), tensor(-7.2930, device='cuda:0', grad_fn=<NegBackward0>), tensor(-87.0159, device='cuda:0', grad_fn=<AddBackward0>)]\n",
      "4.697546893211218\n",
      "tensor(-132.7594, device='cuda:0', grad_fn=<NegBackward0>) [tensor(-38.3269, device='cuda:0', grad_fn=<NegBackward0>), tensor(-6.8218, device='cuda:0', grad_fn=<NegBackward0>), tensor(-87.6107, device='cuda:0', grad_fn=<AddBackward0>)]\n",
      "4.917767544297745\n",
      "tensor(-135.9201, device='cuda:0', grad_fn=<NegBackward0>) [tensor(-38.3978, device='cuda:0', grad_fn=<NegBackward0>), tensor(-8.0954, device='cuda:0', grad_fn=<NegBackward0>), tensor(-89.4270, device='cuda:0', grad_fn=<AddBackward0>)]\n",
      "4.456183250661444\n",
      "tensor(-136.0126, device='cuda:0', grad_fn=<NegBackward0>) [tensor(-38.3978, device='cuda:0', grad_fn=<NegBackward0>), tensor(-9.2634, device='cuda:0', grad_fn=<NegBackward0>), tensor(-88.3514, device='cuda:0', grad_fn=<AddBackward0>)]\n",
      "5.11621348666483\n",
      "tensor(-141.7056, device='cuda:0', grad_fn=<NegBackward0>) [tensor(-38.3053, device='cuda:0', grad_fn=<NegBackward0>), tensor(-11.0212, device='cuda:0', grad_fn=<NegBackward0>), tensor(-92.3790, device='cuda:0', grad_fn=<AddBackward0>)]\n",
      "4.9879124902701175\n",
      "tensor(-134.9726, device='cuda:0', grad_fn=<NegBackward0>) [tensor(-38.3053, device='cuda:0', grad_fn=<NegBackward0>), tensor(-8.1847, device='cuda:0', grad_fn=<NegBackward0>), tensor(-88.4825, device='cuda:0', grad_fn=<AddBackward0>)]\n",
      "4.866942640656079\n",
      "tensor(-133.3434, device='cuda:0', grad_fn=<NegBackward0>) [tensor(-38.3422, device='cuda:0', grad_fn=<NegBackward0>), tensor(-7.3737, device='cuda:0', grad_fn=<NegBackward0>), tensor(-87.6274, device='cuda:0', grad_fn=<AddBackward0>)]\n",
      "4.288665827023588\n",
      "tensor(-135.9554, device='cuda:0', grad_fn=<NegBackward0>) [tensor(-38.3422, device='cuda:0', grad_fn=<NegBackward0>), tensor(-9.3679, device='cuda:0', grad_fn=<NegBackward0>), tensor(-88.2453, device='cuda:0', grad_fn=<AddBackward0>)]\n",
      "4.748942555578694\n",
      "tensor(-133.2181, device='cuda:0', grad_fn=<NegBackward0>) [tensor(-38.3190, device='cuda:0', grad_fn=<NegBackward0>), tensor(-7.2534, device='cuda:0', grad_fn=<NegBackward0>), tensor(-87.6457, device='cuda:0', grad_fn=<AddBackward0>)]\n",
      "4.614737503758929\n",
      "tensor(-136.8318, device='cuda:0', grad_fn=<NegBackward0>) [tensor(-38.3190, device='cuda:0', grad_fn=<NegBackward0>), tensor(-8.6968, device='cuda:0', grad_fn=<NegBackward0>), tensor(-89.8161, device='cuda:0', grad_fn=<AddBackward0>)]\n",
      "4.572958885242867\n",
      "tensor(-141.1769, device='cuda:0', grad_fn=<NegBackward0>) [tensor(-38.2930, device='cuda:0', grad_fn=<NegBackward0>), tensor(-10.5190, device='cuda:0', grad_fn=<NegBackward0>), tensor(-92.3650, device='cuda:0', grad_fn=<AddBackward0>)]\n",
      "4.071878835969132\n",
      "tensor(-139.9658, device='cuda:0', grad_fn=<NegBackward0>) [tensor(-38.2930, device='cuda:0', grad_fn=<NegBackward0>), tensor(-11.2208, device='cuda:0', grad_fn=<NegBackward0>), tensor(-90.4520, device='cuda:0', grad_fn=<AddBackward0>)]\n",
      "4.150975225078315\n",
      "tensor(-133.7727, device='cuda:0', grad_fn=<NegBackward0>) [tensor(-38.0902, device='cuda:0', grad_fn=<NegBackward0>), tensor(-8.3514, device='cuda:0', grad_fn=<NegBackward0>), tensor(-87.3311, device='cuda:0', grad_fn=<AddBackward0>)]\n",
      "4.692327556092823\n",
      "tensor(-132.7665, device='cuda:0', grad_fn=<NegBackward0>) [tensor(-38.0902, device='cuda:0', grad_fn=<NegBackward0>), tensor(-7.3868, device='cuda:0', grad_fn=<NegBackward0>), tensor(-87.2896, device='cuda:0', grad_fn=<AddBackward0>)]\n",
      "4.589760480161322\n",
      "tensor(-137.5303, device='cuda:0', grad_fn=<NegBackward0>) [tensor(-38.2409, device='cuda:0', grad_fn=<NegBackward0>), tensor(-9.7637, device='cuda:0', grad_fn=<NegBackward0>), tensor(-89.5257, device='cuda:0', grad_fn=<AddBackward0>)]\n",
      "4.3527707062052485\n",
      "tensor(-137.9012, device='cuda:0', grad_fn=<NegBackward0>) [tensor(-38.2409, device='cuda:0', grad_fn=<NegBackward0>), tensor(-9.6786, device='cuda:0', grad_fn=<NegBackward0>), tensor(-89.9818, device='cuda:0', grad_fn=<AddBackward0>)]\n",
      "4.5139735611062015\n",
      "tensor(-138.3072, device='cuda:0', grad_fn=<NegBackward0>) [tensor(-38.2724, device='cuda:0', grad_fn=<NegBackward0>), tensor(-9.5689, device='cuda:0', grad_fn=<NegBackward0>), tensor(-90.4659, device='cuda:0', grad_fn=<AddBackward0>)]\n",
      "4.353965318107412\n",
      "tensor(-138.5379, device='cuda:0', grad_fn=<NegBackward0>) [tensor(-38.2724, device='cuda:0', grad_fn=<NegBackward0>), tensor(-9.8084, device='cuda:0', grad_fn=<NegBackward0>), tensor(-90.4572, device='cuda:0', grad_fn=<AddBackward0>)]\n"
     ]
    },
    {
     "name": "stdout",
     "output_type": "stream",
     "text": [
      "4.433301224863487\n",
      "tensor(-136.4384, device='cuda:0', grad_fn=<NegBackward0>) [tensor(-38.1760, device='cuda:0', grad_fn=<NegBackward0>), tensor(-9.6148, device='cuda:0', grad_fn=<NegBackward0>), tensor(-88.6476, device='cuda:0', grad_fn=<AddBackward0>)]\n",
      "5.085135179883219\n",
      "tensor(-136.2623, device='cuda:0', grad_fn=<NegBackward0>) [tensor(-38.1760, device='cuda:0', grad_fn=<NegBackward0>), tensor(-8.5012, device='cuda:0', grad_fn=<NegBackward0>), tensor(-89.5851, device='cuda:0', grad_fn=<AddBackward0>)]\n",
      "4.586744422941742\n",
      "tensor(-137.3960, device='cuda:0', grad_fn=<NegBackward0>) [tensor(-38.2908, device='cuda:0', grad_fn=<NegBackward0>), tensor(-8.9853, device='cuda:0', grad_fn=<NegBackward0>), tensor(-90.1199, device='cuda:0', grad_fn=<AddBackward0>)]\n",
      "4.640938843447499\n",
      "tensor(-136.5087, device='cuda:0', grad_fn=<NegBackward0>) [tensor(-38.2908, device='cuda:0', grad_fn=<NegBackward0>), tensor(-8.7754, device='cuda:0', grad_fn=<NegBackward0>), tensor(-89.4425, device='cuda:0', grad_fn=<AddBackward0>)]\n",
      "5.21321949522828\n",
      "tensor(-136.5767, device='cuda:0', grad_fn=<NegBackward0>) [tensor(-38.2882, device='cuda:0', grad_fn=<NegBackward0>), tensor(-8.2867, device='cuda:0', grad_fn=<NegBackward0>), tensor(-90.0018, device='cuda:0', grad_fn=<AddBackward0>)]\n",
      "4.331401215961244\n",
      "tensor(-135.9157, device='cuda:0', grad_fn=<NegBackward0>) [tensor(-38.2882, device='cuda:0', grad_fn=<NegBackward0>), tensor(-8.7510, device='cuda:0', grad_fn=<NegBackward0>), tensor(-88.8766, device='cuda:0', grad_fn=<AddBackward0>)]\n",
      "4.2183179071873464\n",
      "tensor(-139.9439, device='cuda:0', grad_fn=<NegBackward0>) [tensor(-38.3362, device='cuda:0', grad_fn=<NegBackward0>), tensor(-10.6062, device='cuda:0', grad_fn=<NegBackward0>), tensor(-91.0014, device='cuda:0', grad_fn=<AddBackward0>)]\n",
      "4.1269648980762765\n",
      "tensor(-138.5303, device='cuda:0', grad_fn=<NegBackward0>) [tensor(-38.3362, device='cuda:0', grad_fn=<NegBackward0>), tensor(-10.8406, device='cuda:0', grad_fn=<NegBackward0>), tensor(-89.3535, device='cuda:0', grad_fn=<AddBackward0>)]\n",
      "4.703996003475284\n",
      "tensor(-136.2042, device='cuda:0', grad_fn=<NegBackward0>) [tensor(-38.2182, device='cuda:0', grad_fn=<NegBackward0>), tensor(-8.4098, device='cuda:0', grad_fn=<NegBackward0>), tensor(-89.5762, device='cuda:0', grad_fn=<AddBackward0>)]\n",
      "4.613528867733776\n",
      "tensor(-139.4642, device='cuda:0', grad_fn=<NegBackward0>) [tensor(-38.2182, device='cuda:0', grad_fn=<NegBackward0>), tensor(-10.1268, device='cuda:0', grad_fn=<NegBackward0>), tensor(-91.1191, device='cuda:0', grad_fn=<AddBackward0>)]\n",
      "4.323851565356718\n",
      "tensor(-135.7315, device='cuda:0', grad_fn=<NegBackward0>) [tensor(-38.1580, device='cuda:0', grad_fn=<NegBackward0>), tensor(-9.4292, device='cuda:0', grad_fn=<NegBackward0>), tensor(-88.1443, device='cuda:0', grad_fn=<AddBackward0>)]\n",
      "4.5651347346888365\n",
      "tensor(-136.1857, device='cuda:0', grad_fn=<NegBackward0>) [tensor(-38.1580, device='cuda:0', grad_fn=<NegBackward0>), tensor(-8.7845, device='cuda:0', grad_fn=<NegBackward0>), tensor(-89.2432, device='cuda:0', grad_fn=<AddBackward0>)]\n",
      "4.706660355859073\n",
      "tensor(-135.5426, device='cuda:0', grad_fn=<NegBackward0>) [tensor(-38.2169, device='cuda:0', grad_fn=<NegBackward0>), tensor(-8.1548, device='cuda:0', grad_fn=<NegBackward0>), tensor(-89.1709, device='cuda:0', grad_fn=<AddBackward0>)]\n",
      "4.44937012645698\n",
      "tensor(-136.9741, device='cuda:0', grad_fn=<NegBackward0>) [tensor(-38.2169, device='cuda:0', grad_fn=<NegBackward0>), tensor(-9.1900, device='cuda:0', grad_fn=<NegBackward0>), tensor(-89.5672, device='cuda:0', grad_fn=<AddBackward0>)]\n",
      "4.29428847521893\n",
      "tensor(-136.9956, device='cuda:0', grad_fn=<NegBackward0>) [tensor(-38.2551, device='cuda:0', grad_fn=<NegBackward0>), tensor(-9.2897, device='cuda:0', grad_fn=<NegBackward0>), tensor(-89.4508, device='cuda:0', grad_fn=<AddBackward0>)]\n",
      "4.494010896547137\n",
      "tensor(-139.9034, device='cuda:0', grad_fn=<NegBackward0>) [tensor(-38.2551, device='cuda:0', grad_fn=<NegBackward0>), tensor(-10.0900, device='cuda:0', grad_fn=<NegBackward0>), tensor(-91.5583, device='cuda:0', grad_fn=<AddBackward0>)]\n",
      "4.409996257870716\n",
      "tensor(-138.6968, device='cuda:0', grad_fn=<NegBackward0>) [tensor(-38.2302, device='cuda:0', grad_fn=<NegBackward0>), tensor(-9.7964, device='cuda:0', grad_fn=<NegBackward0>), tensor(-90.6703, device='cuda:0', grad_fn=<AddBackward0>)]\n",
      "4.732509104615325\n",
      "tensor(-142.1697, device='cuda:0', grad_fn=<NegBackward0>) [tensor(-38.2302, device='cuda:0', grad_fn=<NegBackward0>), tensor(-10.8124, device='cuda:0', grad_fn=<NegBackward0>), tensor(-93.1272, device='cuda:0', grad_fn=<AddBackward0>)]\n",
      "4.1975121853027435\n",
      "tensor(-135.4769, device='cuda:0', grad_fn=<NegBackward0>) [tensor(-38.1666, device='cuda:0', grad_fn=<NegBackward0>), tensor(-9.2706, device='cuda:0', grad_fn=<NegBackward0>), tensor(-88.0397, device='cuda:0', grad_fn=<AddBackward0>)]\n",
      "4.679300677433518\n",
      "tensor(-137.4119, device='cuda:0', grad_fn=<NegBackward0>) [tensor(-38.1666, device='cuda:0', grad_fn=<NegBackward0>), tensor(-9.3500, device='cuda:0', grad_fn=<NegBackward0>), tensor(-89.8953, device='cuda:0', grad_fn=<AddBackward0>)]\n",
      "4.2068207585923\n",
      "tensor(-135.2505, device='cuda:0', grad_fn=<NegBackward0>) [tensor(-38.0945, device='cuda:0', grad_fn=<NegBackward0>), tensor(-9.0741, device='cuda:0', grad_fn=<NegBackward0>), tensor(-88.0820, device='cuda:0', grad_fn=<AddBackward0>)]\n",
      "4.779894187418864\n",
      "tensor(-135.1838, device='cuda:0', grad_fn=<NegBackward0>) [tensor(-38.0945, device='cuda:0', grad_fn=<NegBackward0>), tensor(-8.8578, device='cuda:0', grad_fn=<NegBackward0>), tensor(-88.2315, device='cuda:0', grad_fn=<AddBackward0>)]\n",
      "4.562616521890467\n",
      "tensor(-138.7249, device='cuda:0', grad_fn=<NegBackward0>) [tensor(-38.1264, device='cuda:0', grad_fn=<NegBackward0>), tensor(-9.9627, device='cuda:0', grad_fn=<NegBackward0>), tensor(-90.6358, device='cuda:0', grad_fn=<AddBackward0>)]\n",
      "4.497496813400326\n",
      "tensor(-135.7767, device='cuda:0', grad_fn=<NegBackward0>) [tensor(-38.1264, device='cuda:0', grad_fn=<NegBackward0>), tensor(-8.5448, device='cuda:0', grad_fn=<NegBackward0>), tensor(-89.1055, device='cuda:0', grad_fn=<AddBackward0>)]\n",
      "4.438554853001819\n",
      "tensor(-133.9902, device='cuda:0', grad_fn=<NegBackward0>) [tensor(-38.2384, device='cuda:0', grad_fn=<NegBackward0>), tensor(-8.0656, device='cuda:0', grad_fn=<NegBackward0>), tensor(-87.6862, device='cuda:0', grad_fn=<AddBackward0>)]\n",
      "4.780887141755074\n",
      "tensor(-137.9409, device='cuda:0', grad_fn=<NegBackward0>) [tensor(-38.2384, device='cuda:0', grad_fn=<NegBackward0>), tensor(-9.1702, device='cuda:0', grad_fn=<NegBackward0>), tensor(-90.5322, device='cuda:0', grad_fn=<AddBackward0>)]\n",
      "4.479181505185266\n",
      "tensor(-141.2637, device='cuda:0', grad_fn=<NegBackward0>) [tensor(-38.3306, device='cuda:0', grad_fn=<NegBackward0>), tensor(-10.7763, device='cuda:0', grad_fn=<NegBackward0>), tensor(-92.1568, device='cuda:0', grad_fn=<AddBackward0>)]\n",
      "4.54424693429885\n",
      "tensor(-135.7737, device='cuda:0', grad_fn=<NegBackward0>) [tensor(-38.3306, device='cuda:0', grad_fn=<NegBackward0>), tensor(-9.0543, device='cuda:0', grad_fn=<NegBackward0>), tensor(-88.3888, device='cuda:0', grad_fn=<AddBackward0>)]\n",
      "4.5316024618077275\n",
      "tensor(-139.6927, device='cuda:0', grad_fn=<NegBackward0>) [tensor(-38.3391, device='cuda:0', grad_fn=<NegBackward0>), tensor(-9.6718, device='cuda:0', grad_fn=<NegBackward0>), tensor(-91.6819, device='cuda:0', grad_fn=<AddBackward0>)]\n",
      "4.715266297042894\n",
      "tensor(-137.8401, device='cuda:0', grad_fn=<NegBackward0>) [tensor(-38.3391, device='cuda:0', grad_fn=<NegBackward0>), tensor(-8.9507, device='cuda:0', grad_fn=<NegBackward0>), tensor(-90.5502, device='cuda:0', grad_fn=<AddBackward0>)]\n",
      "4.696279625160906\n",
      "tensor(-136.3360, device='cuda:0', grad_fn=<NegBackward0>) [tensor(-38.4010, device='cuda:0', grad_fn=<NegBackward0>), tensor(-8.7309, device='cuda:0', grad_fn=<NegBackward0>), tensor(-89.2041, device='cuda:0', grad_fn=<AddBackward0>)]\n",
      "4.167202496708652\n",
      "tensor(-139.7034, device='cuda:0', grad_fn=<NegBackward0>) [tensor(-38.4010, device='cuda:0', grad_fn=<NegBackward0>), tensor(-10.9762, device='cuda:0', grad_fn=<NegBackward0>), tensor(-90.3262, device='cuda:0', grad_fn=<AddBackward0>)]\n",
      "4.612549439165202\n",
      "tensor(-137.0819, device='cuda:0', grad_fn=<NegBackward0>) [tensor(-38.1209, device='cuda:0', grad_fn=<NegBackward0>), tensor(-9.3601, device='cuda:0', grad_fn=<NegBackward0>), tensor(-89.6009, device='cuda:0', grad_fn=<AddBackward0>)]\n"
     ]
    },
    {
     "name": "stdout",
     "output_type": "stream",
     "text": [
      "4.500024961157179\n",
      "tensor(-136.4396, device='cuda:0', grad_fn=<NegBackward0>) [tensor(-38.1209, device='cuda:0', grad_fn=<NegBackward0>), tensor(-8.8819, device='cuda:0', grad_fn=<NegBackward0>), tensor(-89.4368, device='cuda:0', grad_fn=<AddBackward0>)]\n",
      "4.4829427441679375\n",
      "tensor(-140.1128, device='cuda:0', grad_fn=<NegBackward0>) [tensor(-38.1918, device='cuda:0', grad_fn=<NegBackward0>), tensor(-10.4208, device='cuda:0', grad_fn=<NegBackward0>), tensor(-91.5003, device='cuda:0', grad_fn=<AddBackward0>)]\n",
      "4.563200695275266\n",
      "tensor(-138.9292, device='cuda:0', grad_fn=<NegBackward0>) [tensor(-38.1918, device='cuda:0', grad_fn=<NegBackward0>), tensor(-9.8988, device='cuda:0', grad_fn=<NegBackward0>), tensor(-90.8386, device='cuda:0', grad_fn=<AddBackward0>)]\n",
      "4.872663389441908\n",
      "tensor(-135.8990, device='cuda:0', grad_fn=<NegBackward0>) [tensor(-38.2949, device='cuda:0', grad_fn=<NegBackward0>), tensor(-8.1417, device='cuda:0', grad_fn=<NegBackward0>), tensor(-89.4623, device='cuda:0', grad_fn=<AddBackward0>)]\n",
      "4.665968206839543\n",
      "tensor(-135.4941, device='cuda:0', grad_fn=<NegBackward0>) [tensor(-38.2949, device='cuda:0', grad_fn=<NegBackward0>), tensor(-8.3520, device='cuda:0', grad_fn=<NegBackward0>), tensor(-88.8472, device='cuda:0', grad_fn=<AddBackward0>)]\n",
      "4.180147328654545\n",
      "tensor(-134.2537, device='cuda:0', grad_fn=<NegBackward0>) [tensor(-38.3203, device='cuda:0', grad_fn=<NegBackward0>), tensor(-8.8576, device='cuda:0', grad_fn=<NegBackward0>), tensor(-87.0758, device='cuda:0', grad_fn=<AddBackward0>)]\n",
      "4.619925795697093\n",
      "tensor(-136.6576, device='cuda:0', grad_fn=<NegBackward0>) [tensor(-38.3203, device='cuda:0', grad_fn=<NegBackward0>), tensor(-8.3575, device='cuda:0', grad_fn=<NegBackward0>), tensor(-89.9798, device='cuda:0', grad_fn=<AddBackward0>)]\n",
      "4.4388966884283265\n",
      "tensor(-141.3690, device='cuda:0', grad_fn=<NegBackward0>) [tensor(-38.3683, device='cuda:0', grad_fn=<NegBackward0>), tensor(-11.5945, device='cuda:0', grad_fn=<NegBackward0>), tensor(-91.4062, device='cuda:0', grad_fn=<AddBackward0>)]\n",
      "4.498096449383221\n",
      "tensor(-135.3090, device='cuda:0', grad_fn=<NegBackward0>) [tensor(-38.3683, device='cuda:0', grad_fn=<NegBackward0>), tensor(-8.7468, device='cuda:0', grad_fn=<NegBackward0>), tensor(-88.1940, device='cuda:0', grad_fn=<AddBackward0>)]\n",
      "4.863769318448927\n",
      "tensor(-132.3188, device='cuda:0', grad_fn=<NegBackward0>) [tensor(-38.3633, device='cuda:0', grad_fn=<NegBackward0>), tensor(-6.9705, device='cuda:0', grad_fn=<NegBackward0>), tensor(-86.9850, device='cuda:0', grad_fn=<AddBackward0>)]\n"
     ]
    }
   ],
   "source": [
    "# data selected\n",
    "mean_V = []\n",
    "n_dis2 = 1\n",
    "n_dis = 1\n",
    "mode = 1\n",
    "gam3 = 1\n",
    "mcr_gan_loss = MCRGANloss(gam1=1., gam2=1., gam3=gam3, eps=0.5, numclasses=numclasses, mode=mode, rho=None)\n",
    "loss_V = 0\n",
    "last_V = -1000\n",
    "num_steps = 500\n",
    "lr1 = 1e-3\n",
    "lr2 = 1e-3\n",
    "optD = optim.Adam(netD.parameters(), lr1, betas=(0.5, 0.999))\n",
    "optG = optim.Adam(netG.parameters(), lr2, betas=(0.5, 0.999))\n",
    "meanV_sum = []\n",
    "radius_list = []\n",
    "radius = 1\n",
    "\n",
    "for epoch in range(num_steps):\n",
    "    if 1==1:\n",
    "        \n",
    "        #radius,_ = gs_radius(radius1=0,radius2=100,netD=netD,real_cpu=real_cpu,real_label=real_label,tor=1e-5,n_dis=2,lam=0.618,mode=mode)\n",
    "        #radius_list.append(radius)\n",
    "        #print(radius)\n",
    "\n",
    "        for i in range(n_dis):\n",
    "            netD.zero_grad()\n",
    "            optD.zero_grad()\n",
    "            Z = netD(real_cpu)\n",
    "            net_noise = get_noise(DATASET, device, LABEL)\n",
    "            radius,_ = gs_radius(radius1=0,radius2=100,netD=netD,real_cpu=real_cpu,real_label=real_label,tor=1e-5,n_dis=2,lam=0.618,mode=mode)\n",
    "            radius_list.append(radius)\n",
    "            print(radius)\n",
    "            fed_state_dict = get_netG(netD,netV,net_noise,radius)\n",
    "            netG.load_state_dict(fed_state_dict)\n",
    "            Z_bar = netG(real_cpu)\n",
    "            errD, errD_EC = mcr_gan_loss(Z, Z_bar, real_label, 1, n_dis)\n",
    "            print(errD, errD_EC)\n",
    "            errD.backward()\n",
    "            optD.step()\n",
    "        temp = 0\n",
    "        for j in range(n_dis2):\n",
    "            netG.zero_grad()\n",
    "            optG.zero_grad()\n",
    "            Z = netD(real_cpu)\n",
    "            net_noise = get_noise(DATASET, device, LABEL)\n",
    "            radius,_ = gs_radius(radius1=0,radius2=100,netD=netD,real_cpu=real_cpu,real_label=real_label,tor=1e-5,n_dis=2,lam=0.618,mode=mode)\n",
    "            radius_list.append(radius)\n",
    "            print(radius)\n",
    "            fed_state_dict = get_netG(netD,netV,net_noise,radius)\n",
    "            netG.load_state_dict(fed_state_dict)\n",
    "            Z_bar = netG(real_cpu)\n",
    "            errG, errG_EC = mcr_gan_loss(Z, Z_bar, real_label, n_dis2 - 1, n_dis2)\n",
    "            print(errG, errG_EC)\n",
    "            temp = errG\n",
    "            errG = (-1) * errG\n",
    "            errG.backward()\n",
    "            optG.step()\n",
    "\n",
    "            update_dic = update_netV(netV,netG,net_noise,fed_state_dict,radius)\n",
    "            netV.load_state_dict(update_dic)\n",
    "\n",
    "        loss_V = temp\n",
    "        "
   ]
  },
  {
   "cell_type": "code",
   "execution_count": 7,
   "id": "58be30d1",
   "metadata": {},
   "outputs": [
    {
     "data": {
      "text/plain": [
       "[4.082952496712157,\n",
       " 7.0778034528674,\n",
       " 9.031365670307848,\n",
       " 4.887804185854826,\n",
       " 23.146923633172246,\n",
       " 8.338121295595247,\n",
       " 4.033539882544882,\n",
       " 4.286734928234952,\n",
       " 17.288930171190536,\n",
       " 4.292865523670321,\n",
       " 4.233200208073835,\n",
       " 4.23906262083155,\n",
       " 4.3374301348851905,\n",
       " 4.973885543930991,\n",
       " 4.572307156546224,\n",
       " 4.8576127188799685,\n",
       " 4.984115156243226,\n",
       " 4.853187211261954,\n",
       " 99.95064099587752,\n",
       " 4.36914699052067,\n",
       " 4.531724805362985,\n",
       " 4.6308991857418045,\n",
       " 4.427285309298026,\n",
       " 5.237413501717815,\n",
       " 4.484291585488522,\n",
       " 4.845786402950933,\n",
       " 99.85691287198556,\n",
       " 4.524535548969006,\n",
       " 5.123794771175744,\n",
       " 4.4827548427387285,\n",
       " 4.52453018889251,\n",
       " 5.313822067805895,\n",
       " 5.378551456540364,\n",
       " 5.220705839708297,\n",
       " 5.062379341737056,\n",
       " 4.8574281368192915,\n",
       " 4.7881027738110875,\n",
       " 4.995574707544125,\n",
       " 5.056131475554509,\n",
       " 5.089397529818009,\n",
       " 4.822704538050435,\n",
       " 4.816679455980423,\n",
       " 5.007373139481357,\n",
       " 4.626756860837168,\n",
       " 4.959580150856138,\n",
       " 5.161209879212568,\n",
       " 4.767680764448015,\n",
       " 5.83636292827869,\n",
       " 4.618543860459796,\n",
       " 4.978331015544276,\n",
       " 4.879618599294886,\n",
       " 4.212409657768635,\n",
       " 5.431446577534533,\n",
       " 4.8106658675858425,\n",
       " 4.937219886038279,\n",
       " 4.8607886056656,\n",
       " 5.159459171160034,\n",
       " 4.909189387557943,\n",
       " 4.81417621489301,\n",
       " 5.282100670166618,\n",
       " 5.180420582024531,\n",
       " 4.903173964665731,\n",
       " 4.590603048929246,\n",
       " 5.218551543093027,\n",
       " 5.103595957608419,\n",
       " 4.919749401804173,\n",
       " 5.185607390610618,\n",
       " 5.110430342931427,\n",
       " 4.852991125400469,\n",
       " 4.651029291817718,\n",
       " 5.055780196929711,\n",
       " 4.606942298336078,\n",
       " 4.905331397735697,\n",
       " 4.5571694101636915,\n",
       " 4.339219723994394,\n",
       " 5.096894849380438,\n",
       " 4.658852128285795,\n",
       " 5.206303337869774,\n",
       " 4.70821957713613,\n",
       " 4.826195848417016,\n",
       " 4.682301305784804,\n",
       " 4.800570132101315,\n",
       " 4.8592267043169555,\n",
       " 4.654289581068217,\n",
       " 4.941529760137402,\n",
       " 5.374521873233894,\n",
       " 5.834961299859067,\n",
       " 4.746300934563436,\n",
       " 4.718137305632066,\n",
       " 4.8796404451434325,\n",
       " 4.431371708410239,\n",
       " 4.578352491788303,\n",
       " 4.963589937521765,\n",
       " 5.521886410398341,\n",
       " 4.7075660281437335,\n",
       " 5.601912648779821,\n",
       " 4.810311924932698,\n",
       " 4.822251009488349,\n",
       " 4.842431531179316,\n",
       " 4.545319081744706,\n",
       " 4.508770407181754,\n",
       " 4.9200640764483206,\n",
       " 4.46945360044138,\n",
       " 4.506648101116971,\n",
       " 4.843714529930231,\n",
       " 4.4992027264865015,\n",
       " 4.9222213556151555,\n",
       " 4.757586624047719,\n",
       " 4.495628859574651,\n",
       " 5.004039228543036,\n",
       " 4.552664926588385,\n",
       " 5.148975730413458,\n",
       " 4.531652277304409,\n",
       " 4.585553533364946,\n",
       " 4.9076282400761695,\n",
       " 4.611841532587181,\n",
       " 4.534607697309651,\n",
       " 4.809475908872644,\n",
       " 4.984197189616945,\n",
       " 4.555965942328102,\n",
       " 4.284060902971309,\n",
       " 4.334765621002873,\n",
       " 4.600326854945528,\n",
       " 4.331050043842858,\n",
       " 4.50493069017533,\n",
       " 4.629654270246372,\n",
       " 4.282307628775707,\n",
       " 99.90838747618865,\n",
       " 4.388234793253684,\n",
       " 4.676200517279967,\n",
       " 4.62140032333665,\n",
       " 4.742819782536653,\n",
       " 4.470608131875812,\n",
       " 4.313614570562149,\n",
       " 4.664500796519447,\n",
       " 4.5136207922536755,\n",
       " 4.402787011144409,\n",
       " 4.773096242467178,\n",
       " 6.163515519343652,\n",
       " 5.092543647054075,\n",
       " 4.815703003931638,\n",
       " 5.02720094955097,\n",
       " 4.372277578696436,\n",
       " 4.638395254019364,\n",
       " 4.72515808746645,\n",
       " 4.516368276275057,\n",
       " 5.2704011006727605,\n",
       " 4.9922440655016,\n",
       " 3.9498254920635296,\n",
       " 4.569820061321923,\n",
       " 4.495205595145952,\n",
       " 4.900882085900168,\n",
       " 4.440276576055336,\n",
       " 4.3954394406739254,\n",
       " 4.149021832494793,\n",
       " 5.188552187268995,\n",
       " 4.285905351366085,\n",
       " 4.34933446537118,\n",
       " 4.729605306006493,\n",
       " 4.861886193141943,\n",
       " 4.56549066602154,\n",
       " 4.81340184312376,\n",
       " 4.583637550783653,\n",
       " 4.805060906105218,\n",
       " 4.489874092506639,\n",
       " 4.494606282096915,\n",
       " 4.430411452164429,\n",
       " 4.513619209361963,\n",
       " 4.508203434885477,\n",
       " 4.4107296929068465,\n",
       " 4.872757044905809,\n",
       " 4.164679570175962,\n",
       " 4.385488814950698,\n",
       " 4.464422797095801,\n",
       " 4.528672752143793,\n",
       " 4.545271411074913,\n",
       " 4.492392510795089,\n",
       " 3.9052825443508477,\n",
       " 4.336099229848917,\n",
       " 4.244560382170092,\n",
       " 4.232307302260271,\n",
       " 4.573305122377024,\n",
       " 4.750017094936263,\n",
       " 4.573394259445832,\n",
       " 4.544219471679981,\n",
       " 4.093030595360018,\n",
       " 4.098936532256981,\n",
       " 4.205801752786205,\n",
       " 4.518192619822587,\n",
       " 4.255990986805635,\n",
       " 4.462844964924827,\n",
       " 4.412226426088196,\n",
       " 4.569225944833986,\n",
       " 4.7849751155055475,\n",
       " 4.250806333282624,\n",
       " 4.66291070376972,\n",
       " 4.317841421583386,\n",
       " 4.575428564735626,\n",
       " 4.629287391533525,\n",
       " 4.088964331654414,\n",
       " 4.237880192551754,\n",
       " 4.293257684855713,\n",
       " 4.137587400986565,\n",
       " 4.090985438146985,\n",
       " 4.238886168660282,\n",
       " 4.125143967393883,\n",
       " 4.31940173204742,\n",
       " 4.527069215038802,\n",
       " 4.423948738156617,\n",
       " 4.245536403291043,\n",
       " 4.166693840878742,\n",
       " 4.615475381012263,\n",
       " 4.2021398274630215,\n",
       " 4.380443390661827,\n",
       " 4.929300131445632,\n",
       " 5.004735391022056,\n",
       " 4.5139646181119755,\n",
       " 4.087982784020422,\n",
       " 4.968184546896106,\n",
       " 4.521188673561474,\n",
       " 4.423575620564466,\n",
       " 4.685872656439729,\n",
       " 4.360029136316401,\n",
       " 4.163347509140387,\n",
       " 4.248053870800279,\n",
       " 4.597296868679334,\n",
       " 4.515773282293795,\n",
       " 4.029482134351692,\n",
       " 4.372241747421202,\n",
       " 4.248052301479263,\n",
       " 4.268832546653113,\n",
       " 4.238916350018551,\n",
       " 4.69106517945531,\n",
       " 4.766805995708527,\n",
       " 4.415042807769665,\n",
       " 4.311972232476841,\n",
       " 4.08922770544511,\n",
       " 4.351185411932282,\n",
       " 3.937434462234244,\n",
       " 4.678306757574472,\n",
       " 4.588060108906851,\n",
       " 4.561652005899403,\n",
       " 4.483522277871532,\n",
       " 4.233364828461448,\n",
       " 4.104056855139064,\n",
       " 4.36373919538898,\n",
       " 4.319773404661598,\n",
       " 3.870226738180243,\n",
       " 4.368787153879904,\n",
       " 4.2716023044520295,\n",
       " 4.420209593510537,\n",
       " 4.030378717180435,\n",
       " 4.3239914341764685,\n",
       " 4.595648570519132,\n",
       " 4.161299418246576,\n",
       " 4.046787304708314,\n",
       " 4.150465146618949,\n",
       " 4.109636533519692,\n",
       " 4.089578378260639,\n",
       " 4.358694292431928,\n",
       " 4.42837026145012,\n",
       " 4.310638597692282,\n",
       " 4.261352251002286,\n",
       " 3.970014117047311,\n",
       " 4.085233648622186,\n",
       " 4.445408326486357,\n",
       " 4.229564775239551,\n",
       " 4.22245489957377,\n",
       " 4.084388694756535,\n",
       " 4.0696388281995635,\n",
       " 4.085231095073454,\n",
       " 4.606573418353489,\n",
       " 4.494962715578244,\n",
       " 4.13042282550633,\n",
       " 4.220639097258397,\n",
       " 4.20182579316543,\n",
       " 4.227039209915648,\n",
       " 4.2046973608198766,\n",
       " 4.509900250138264,\n",
       " 4.239517422403341,\n",
       " 4.425131138353228,\n",
       " 4.3013687202454385,\n",
       " 4.3440303503527185,\n",
       " 4.276930102053769,\n",
       " 4.646125468527783,\n",
       " 4.258370991225327,\n",
       " 4.101978291124254,\n",
       " 4.519490219128015,\n",
       " 4.300320343514356,\n",
       " 4.436421429966448,\n",
       " 4.177293508066866,\n",
       " 4.548061966146427,\n",
       " 4.406274996173636,\n",
       " 4.3493381860479925,\n",
       " 4.316282200306329,\n",
       " 4.342362954076026,\n",
       " 3.9250988194890284,\n",
       " 4.085176886205501,\n",
       " 4.721200821789068,\n",
       " 4.291402134878427,\n",
       " 4.022881523440628,\n",
       " 4.050869035800083,\n",
       " 4.158281756174095,\n",
       " 4.4014546803805565,\n",
       " 4.138212380504079,\n",
       " 4.220891605001965,\n",
       " 4.304873546622957,\n",
       " 4.01474765381421,\n",
       " 4.285359177286168,\n",
       " 4.337060701908664,\n",
       " 4.265350918936368,\n",
       " 4.010633457229688,\n",
       " 4.712159315363926,\n",
       " 3.914437830342072,\n",
       " 4.474196804267826,\n",
       " 4.175628383754517,\n",
       " 4.093969529729561,\n",
       " 4.521414234913455,\n",
       " 3.911519937086373,\n",
       " 3.7821439624932083,\n",
       " 4.66332954391768,\n",
       " 4.971205266908131,\n",
       " 4.52875799117051,\n",
       " 4.277037446816884,\n",
       " 4.20268298931599,\n",
       " 4.453347147347024,\n",
       " 4.609472474085298,\n",
       " 4.144962414734548,\n",
       " 4.102052520542778,\n",
       " 4.388011080318084,\n",
       " 4.18129093371462,\n",
       " 4.646579870979254,\n",
       " 4.251368514324834,\n",
       " 4.550933396395052,\n",
       " 5.301183872952641,\n",
       " 4.077239208806546,\n",
       " 4.398257265861331,\n",
       " 4.314669825274253,\n",
       " 4.256199066278902,\n",
       " 4.483728889820239,\n",
       " 4.483643176441032,\n",
       " 4.244571353219361,\n",
       " 4.240253730112302,\n",
       " 4.418758108585914,\n",
       " 4.159223468100573,\n",
       " 4.192768785006402,\n",
       " 4.574352583463327,\n",
       " 4.1138577359293,\n",
       " 4.513176950041418,\n",
       " 4.26117740941316,\n",
       " 4.234836690180779,\n",
       " 4.382961671219649,\n",
       " 4.735579977557917,\n",
       " 4.329039267691312,\n",
       " 4.318835083117834,\n",
       " 4.32011760549653,\n",
       " 4.244105453740823,\n",
       " 4.644144626639015,\n",
       " 3.9760282676708165,\n",
       " 3.9831932834138013,\n",
       " 3.9368943349168335,\n",
       " 4.060955564503341,\n",
       " 4.244570377763746,\n",
       " 3.90022684185906,\n",
       " 4.042702979387365,\n",
       " 3.9536813484327427,\n",
       " 4.313752136798943,\n",
       " 3.9174075044380414,\n",
       " 3.7825092185956315,\n",
       " 4.11777783816597,\n",
       " 3.9222100464943965,\n",
       " 3.8467670692545353,\n",
       " 3.846637248952158,\n",
       " 4.228231947313837,\n",
       " 4.195416547376764,\n",
       " 3.962803363298233,\n",
       " 4.368792098069531,\n",
       " 4.155650045616052,\n",
       " 4.913317546338987,\n",
       " 3.9545052373550087,\n",
       " 4.372273882966843,\n",
       " 3.885681431590909,\n",
       " 4.332103260676448,\n",
       " 4.364850408503949,\n",
       " 4.558128097899421,\n",
       " 4.549453244477358,\n",
       " 4.020359013625914,\n",
       " 4.19557239209911,\n",
       " 4.610048060130683,\n",
       " 4.502178418322398,\n",
       " 4.3535161447939705,\n",
       " 4.254665493619656,\n",
       " 4.379779234458499,\n",
       " 3.865604943461398,\n",
       " 3.932301481427543,\n",
       " 4.125001129233254,\n",
       " 4.604757467646493,\n",
       " 4.558913829020855,\n",
       " 4.110373224902888,\n",
       " 4.3735561516857455,\n",
       " 4.1651522024382714,\n",
       " 4.518244466917408,\n",
       " 4.017848679679664,\n",
       " 4.368738010230662,\n",
       " 4.136786179010901,\n",
       " 4.08273990857063,\n",
       " 3.9996843905711286,\n",
       " 3.9109114540826897,\n",
       " 3.888714705272965,\n",
       " 4.254195006363962,\n",
       " 3.8400576623162057,\n",
       " 4.71541465566434,\n",
       " 3.8234163085805455,\n",
       " 4.135098661336716,\n",
       " 4.50157985878619,\n",
       " 3.956429681829252,\n",
       " 4.258603617038411,\n",
       " 4.356770166780265,\n",
       " 3.743471977521407,\n",
       " 4.077520547805066,\n",
       " 4.022822908130107,\n",
       " 4.265668270417258,\n",
       " 4.201547718892114,\n",
       " 5.003256843870545,\n",
       " 4.203486497902574,\n",
       " 4.32770657866506,\n",
       " 3.8832988577546335,\n",
       " 4.580452766966006,\n",
       " 4.134273346541654,\n",
       " 4.003632741223386,\n",
       " 4.227261780670386,\n",
       " 4.466551418451809,\n",
       " 4.19202867252794,\n",
       " 3.805381706402091,\n",
       " 3.950562558489721,\n",
       " 4.412888591883227,\n",
       " 4.643319211087208,\n",
       " 4.304974933652326,\n",
       " 4.065409952471043,\n",
       " 4.249247441725439,\n",
       " 4.538203350188191,\n",
       " 4.0933830256161725,\n",
       " 4.229341618603974,\n",
       " 4.124738291904409,\n",
       " 4.274988090520854,\n",
       " 3.948540523899601,\n",
       " 4.201072047051162,\n",
       " 4.380352307140143,\n",
       " 4.017240656571587,\n",
       " 4.407981741466689,\n",
       " 4.280492971007444,\n",
       " 3.952688877887797,\n",
       " 4.142382097796896,\n",
       " 4.6333376724795485,\n",
       " 3.967000168039357,\n",
       " 4.087616391753198,\n",
       " 3.670416969620689,\n",
       " 4.179786339823318,\n",
       " 4.287096505872562,\n",
       " 4.863822672614571,\n",
       " 3.9668801289305806,\n",
       " 4.9356573086482305,\n",
       " 4.4906683570027965,\n",
       " 4.234527423975504,\n",
       " 4.232079893314181,\n",
       " 4.129228753994842,\n",
       " 4.458763563552928,\n",
       " 4.113490729393286,\n",
       " 4.991860112488368,\n",
       " 3.9170100422586973,\n",
       " 4.5826653281507435,\n",
       " 4.165976963546864,\n",
       " 3.9177579924269605,\n",
       " 4.502200337074094,\n",
       " 3.9303794348460395,\n",
       " 4.102802301247203,\n",
       " 4.110960595064994,\n",
       " 4.149026544196443,\n",
       " 4.324446164450327,\n",
       " 4.316632658932658,\n",
       " 4.236391077812557,\n",
       " 4.6745893906211355,\n",
       " 4.699230288575088,\n",
       " 4.350886896476035,\n",
       " 4.289072960108175,\n",
       " 3.5965601038484603,\n",
       " 4.094375697737507,\n",
       " 5.244936546028608,\n",
       " 4.329036350713882,\n",
       " 3.9958375196928877,\n",
       " 4.529582707020796,\n",
       " 4.078254889472713,\n",
       " 4.26510138317756,\n",
       " 4.200107946341483,\n",
       " 4.245477889531751,\n",
       " 4.134748049281214,\n",
       " 3.8162461440693267,\n",
       " 4.041737651162551,\n",
       " 3.8690793761042492,\n",
       " 4.19902487372223,\n",
       " 4.320785707825544,\n",
       " 4.49183988863241,\n",
       " 3.911876783129895,\n",
       " 4.5625278272274326,\n",
       " 4.955303659956757,\n",
       " 4.083901526423809,\n",
       " 4.122561350396167,\n",
       " 4.391501250650126,\n",
       " 4.2508602975458345,\n",
       " 3.7525924313423418,\n",
       " 4.319758183170156,\n",
       " 3.904865569588941,\n",
       " 4.769471324214237,\n",
       " 3.969542499529072,\n",
       " 4.170653706812541,\n",
       " 4.072242917212699,\n",
       " 4.336322664511424,\n",
       " 3.7160638067103124,\n",
       " 4.339939064708996,\n",
       " 4.375536250048566,\n",
       " 4.128177714929758,\n",
       " 4.570411310311296,\n",
       " 4.131243221370426,\n",
       " 4.48955938073855,\n",
       " 4.309674847874613,\n",
       " 4.045315331998226,\n",
       " 4.481107356812277,\n",
       " 4.456798975807991,\n",
       " 4.067567603280251,\n",
       " 4.247233259949601,\n",
       " 4.333480861201428,\n",
       " 3.90564119706102,\n",
       " 4.177493330649368,\n",
       " 4.269435055685597,\n",
       " 4.162858883970959,\n",
       " 4.27498993870995,\n",
       " 4.134190614741798,\n",
       " 4.233876396786438,\n",
       " 4.433377363220082,\n",
       " 3.7151623540959,\n",
       " 4.149999853371599,\n",
       " 4.343269420189512,\n",
       " 4.080360143505349,\n",
       " 4.11797396431939,\n",
       " 4.403153139612612,\n",
       " 3.9159361455738244,\n",
       " 4.389544887804541,\n",
       " 4.153390590927177,\n",
       " 4.660363545154923,\n",
       " 4.1691762917025255,\n",
       " 3.9977918403788912,\n",
       " 4.138567708082654,\n",
       " 4.182569144709376,\n",
       " 3.809638599999089,\n",
       " 4.0034632289821985,\n",
       " 4.469767901477128,\n",
       " 4.483479050417237,\n",
       " 4.403326290501802,\n",
       " 4.582892983317049,\n",
       " 4.20846513993699,\n",
       " 4.507102269899462,\n",
       " 4.038388861474747,\n",
       " 4.225689179578269,\n",
       " 4.045240944062123,\n",
       " 4.493269127215536,\n",
       " 4.393621577305781,\n",
       " 3.7063196289550233,\n",
       " 4.51467387119255,\n",
       " 4.0627534102767715,\n",
       " 4.2656952062336915,\n",
       " 4.652441064088246,\n",
       " 4.099437333030165,\n",
       " 4.23631390148822,\n",
       " 4.051836898065321,\n",
       " 4.8122316248079855,\n",
       " 4.7295928870400505,\n",
       " 4.0036382091112115,\n",
       " 4.514214158210474,\n",
       " 4.086051017676604,\n",
       " 4.135694002645242,\n",
       " 3.8730360450357533,\n",
       " 4.352685380059346,\n",
       " 4.2342163049404125,\n",
       " 3.7946240390759893,\n",
       " 4.093204716962957,\n",
       " 4.015680603325232,\n",
       " 3.533260749483152,\n",
       " 4.055741693814801,\n",
       " 4.286726114710504,\n",
       " 4.633664227230341,\n",
       " 4.047705965090635,\n",
       " 4.61055155501654,\n",
       " 4.576424706995129,\n",
       " 4.406192591891983,\n",
       " 3.936757408673203,\n",
       " 4.333490102093371,\n",
       " 4.294924950309827,\n",
       " 3.9405744084907943,\n",
       " 4.242832610114973,\n",
       " 4.400401508423031,\n",
       " 4.686187149186224,\n",
       " 4.29858382044615,\n",
       " 4.560691172145209,\n",
       " 4.356856080065883,\n",
       " 4.383814797282483,\n",
       " 4.9013901322414215,\n",
       " 3.998450559817624,\n",
       " 4.523942150197807,\n",
       " 4.613524299638404,\n",
       " 4.219544505217358,\n",
       " 4.551477223887431,\n",
       " 4.623474181100213,\n",
       " 4.675410872548555,\n",
       " 4.606326493928357,\n",
       " 4.5437656984132655,\n",
       " 4.559920120801727,\n",
       " 3.9999252201744713,\n",
       " 3.9555898254558812,\n",
       " 4.401214608658055,\n",
       " 4.424170166957733,\n",
       " 4.150238521572684,\n",
       " 4.381399380379654,\n",
       " 4.342791967831046,\n",
       " 4.1788348900063985,\n",
       " 4.602861207464712,\n",
       " 4.2000676483673605,\n",
       " 4.260074903920133,\n",
       " 4.037651525460712,\n",
       " 4.07536443721148,\n",
       " 4.40457934110579,\n",
       " 4.743732578932141,\n",
       " 4.490297675458955,\n",
       " 4.503540611032574,\n",
       " 5.039992038418291,\n",
       " 4.486512517492809,\n",
       " 4.6139177961118065,\n",
       " 3.715336866007869,\n",
       " 4.8007486811173266,\n",
       " 4.323976635797167,\n",
       " 4.898273656831748,\n",
       " 4.354006343112678,\n",
       " 4.274998708065385,\n",
       " 4.269435910440465,\n",
       " 4.798737643206351,\n",
       " 4.496533406361851,\n",
       " 4.403294124540465,\n",
       " 4.76672055291493,\n",
       " 4.640028022445832,\n",
       " 4.241677507883691,\n",
       " 4.553489234788058,\n",
       " 3.9972314280337895,\n",
       " 4.59306775085244,\n",
       " 4.1810598352720385,\n",
       " 4.662855031189163,\n",
       " 4.381350543965829,\n",
       " 4.228549013735858,\n",
       " 5.142739055215261,\n",
       " 4.097111727090428,\n",
       " 4.396404590695298,\n",
       " 4.459298573437347,\n",
       " 4.196699273073276,\n",
       " 4.139295548703782,\n",
       " 4.429076655611088,\n",
       " 4.643093727994565,\n",
       " 4.337666518164366,\n",
       " 3.853388707525986,\n",
       " 4.52044764556699,\n",
       " 5.020453509492954,\n",
       " 4.192326687627772,\n",
       " 4.804997427152739,\n",
       " 4.586008508521996,\n",
       " 4.314858331474371,\n",
       " 4.061332121156643,\n",
       " 4.5178763240235185,\n",
       " 3.926378075145967,\n",
       " 4.257747272138674,\n",
       " 3.8584358250563424,\n",
       " 4.298986121435066,\n",
       " 4.254658390574844,\n",
       " 5.0536272011012295,\n",
       " 3.9588371186311226,\n",
       " 4.757555235823884,\n",
       " 4.117530991947768,\n",
       " 4.2682488879922,\n",
       " 4.6427244580458344,\n",
       " 4.931349804113665,\n",
       " 4.094627391764595,\n",
       " 4.811773669507398,\n",
       " 4.347763388463869,\n",
       " 4.400035949975458,\n",
       " 4.286130623162451,\n",
       " 4.386191023756668,\n",
       " 4.1241827711249455,\n",
       " 4.506103737313091,\n",
       " 4.51637192664156,\n",
       " 4.118361794345716,\n",
       " 4.087405951353757,\n",
       " 4.316050207706989,\n",
       " 4.21221216586341,\n",
       " 4.704872619895731,\n",
       " 4.248048604278769,\n",
       " 4.338847630857238,\n",
       " 3.9797459359759673,\n",
       " 4.3294941422879285,\n",
       " 4.311546673279455,\n",
       " 4.4959325080136905,\n",
       " 4.253281861840481,\n",
       " 4.144001212262643,\n",
       " 4.333208288030497,\n",
       " 4.255431371307134,\n",
       " 4.466279406268423,\n",
       " 4.388577653391454,\n",
       " 4.41541100890248,\n",
       " 4.03045187322687,\n",
       " 5.099257324297473,\n",
       " 4.437357993081494,\n",
       " 4.458250676184227,\n",
       " 4.078715053049038,\n",
       " 4.443989825350044,\n",
       " 4.385721209862068,\n",
       " 4.083447101772524,\n",
       " 4.670596690599899,\n",
       " 4.197131764463192,\n",
       " 3.8829494150672073,\n",
       " 4.128406248914093,\n",
       " 4.363041176631379,\n",
       " 4.022934762468193,\n",
       " 4.416940852418764,\n",
       " 4.063854839979781,\n",
       " 4.149035185834306,\n",
       " 4.381404489629749,\n",
       " 4.163116963380876,\n",
       " 4.7717109468886045,\n",
       " 4.412235399210512,\n",
       " 4.2323199931711635,\n",
       " 4.193414689077637,\n",
       " 4.334312292423765,\n",
       " 3.9985086567209045,\n",
       " 4.265121013397262,\n",
       " 4.154957768619065,\n",
       " 4.523936936226229,\n",
       " 4.122702209213248,\n",
       " 4.857302819334306,\n",
       " 4.819467617996371,\n",
       " 4.437977542740432,\n",
       " 4.014716502615553,\n",
       " 4.373469484245287,\n",
       " 4.29356527154479,\n",
       " 5.459430648325596,\n",
       " 4.177263393869109,\n",
       " 4.52846893119324,\n",
       " 4.576417069917281,\n",
       " 4.440504262334485,\n",
       " 4.40082498631523,\n",
       " 4.520396527994828,\n",
       " 4.288738541239404,\n",
       " 3.917944603475131,\n",
       " 4.327922711827347,\n",
       " 4.052392491597809,\n",
       " 4.3788830273238695,\n",
       " 4.508282797419628,\n",
       " 4.722988977880002,\n",
       " 4.448070018715115,\n",
       " 4.117570144783731,\n",
       " 4.857670962162889,\n",
       " 4.4903010412414375,\n",
       " 4.1681658705188545,\n",
       " 4.295484249429838,\n",
       " 4.4200355923842345,\n",
       " 4.386618984072413,\n",
       " 4.52958483371027,\n",
       " 4.24374727620288,\n",
       " 4.485119357177569,\n",
       " 4.022792386371819,\n",
       " 4.412661906488868,\n",
       " 4.470331180139888,\n",
       " 4.642443809758088,\n",
       " 4.180521392016899,\n",
       " 4.8501902537811175,\n",
       " 4.798061280935357,\n",
       " 4.20685524823944,\n",
       " 4.349330769501124,\n",
       " 4.275305286183214,\n",
       " 4.249450300615098,\n",
       " 4.385489956957965,\n",
       " 4.635524863156414,\n",
       " 4.420318088493374,\n",
       " 4.2626862262847816,\n",
       " 4.250459180523359,\n",
       " 4.941515198214798,\n",
       " 4.765983844235965,\n",
       " 4.094627391764595,\n",
       " 4.143573036705748,\n",
       " 4.026689563229351,\n",
       " 4.191022106590707,\n",
       " 4.482643088326708,\n",
       " 4.49900645483501,\n",
       " 4.654008815679891,\n",
       " 4.124548581844105,\n",
       " 4.153341847468087,\n",
       " 4.540270271994532,\n",
       " 4.124548581844105,\n",
       " 4.37910464315898,\n",
       " 4.765016349668686,\n",
       " 4.674815221474108,\n",
       " 4.205330070548252,\n",
       " 4.016271836384059,\n",
       " 4.255566372597974,\n",
       " 4.339240725822501,\n",
       " 4.477987494781449,\n",
       " 4.3848724480747325,\n",
       " 4.737175529703174,\n",
       " 4.349264927355825,\n",
       " 4.524362633603182,\n",
       " 4.79723508333334,\n",
       " 4.258743923675379,\n",
       " 4.599765301144077,\n",
       " 4.081745553283748,\n",
       " 4.557589181732954,\n",
       " 4.080415392719359,\n",
       " 4.345511871837163,\n",
       " 4.726972315258464,\n",
       " 4.164439695158025,\n",
       " 4.967941495730332,\n",
       " 4.633332737094462,\n",
       " 4.2030710968663785,\n",
       " 4.55014273441235,\n",
       " 4.4216662428933295,\n",
       " 4.041053879545536,\n",
       " 4.738734995427557,\n",
       " 4.082850283451411,\n",
       " 5.254350139464087,\n",
       " 5.002313745336219,\n",
       " 4.351020918730817,\n",
       " 4.293082140006627,\n",
       " 4.575813359544172,\n",
       " 4.222638041812338,\n",
       " 4.648368100289122,\n",
       " 3.918350579685229,\n",
       " 4.477616421809527,\n",
       " 4.4758963275764065,\n",
       " 4.371651699468824,\n",
       " 4.608870955722271,\n",
       " 4.332140266510463,\n",
       " 4.569819983498461,\n",
       " 4.143963093175746,\n",
       " 4.692113682114324,\n",
       " 4.592986597967929,\n",
       " 4.0945898166370736,\n",
       " 4.627948335353747,\n",
       " 5.140440850969833,\n",
       " 4.765524823410529,\n",
       " 4.566702054991002,\n",
       " 4.474864345015767,\n",
       " 4.4765710002553645,\n",
       " 4.649137196068572,\n",
       " 4.022708093446612,\n",
       " 4.601528506208733,\n",
       " 4.71757808158553,\n",
       " 5.144892202352085,\n",
       " 4.896850161711283,\n",
       " 4.346812391836395,\n",
       " 4.5377454118029785,\n",
       " 4.623554506647621,\n",
       " 4.599719071270723,\n",
       " 4.439909769739194,\n",
       " 4.39870127422835,\n",
       " 4.840361136735758,\n",
       " 4.438904755378358,\n",
       " 4.907627803916187,\n",
       " 4.515774424247416,\n",
       " 4.711654947522798,\n",
       " 4.333226953196812,\n",
       " 4.716166820635956,\n",
       " 3.966892797782489,\n",
       " 4.374803976614688,\n",
       " 4.775479894905715,\n",
       " 4.752697320514082,\n",
       " 4.6129537686356334,\n",
       " 4.606600124926086,\n",
       " 4.0766985188544735,\n",
       " 5.1321918281004875,\n",
       " 4.695967171946552,\n",
       " 4.994242853552854,\n",
       " 5.073025625747322,\n",
       " 4.67613814805278,\n",
       " 4.666059575580665,\n",
       " 4.755064241031807,\n",
       " 4.72551975317041,\n",
       " 4.769229251783679,\n",
       " 4.809164552499617,\n",
       " 4.293267939828034,\n",
       " 5.138654339020219,\n",
       " 4.400823138493836,\n",
       " 4.856338514824593,\n",
       " 4.1547407686610365,\n",
       " 4.745090628155294,\n",
       " 4.477025955494025,\n",
       " 4.152446379910281,\n",
       " 5.014549813293064,\n",
       " 4.1514276034145485,\n",
       " 4.564173703480367,\n",
       " 4.410731819596321,\n",
       " 4.733093798611404,\n",
       " 4.247057423030455,\n",
       " 4.422992455423241,\n",
       " 4.253470793561595,\n",
       " 4.729010251265081,\n",
       " 4.4859267360695645,\n",
       " 4.076246246452242,\n",
       " 4.172460959263882,\n",
       " 4.529105836788979,\n",
       " 4.934451903447765,\n",
       " 4.395138941808036,\n",
       " 4.364063014854286,\n",
       " 5.238009315956397,\n",
       " 4.915192157838769,\n",
       " 4.77704113820059,\n",
       " 4.241413299125481,\n",
       " 4.152237912154632,\n",
       " 4.455643338941659,\n",
       " 4.204308352626999,\n",
       " 4.275072892234608,\n",
       " 4.609660334868819,\n",
       " 4.5585347907986975,\n",
       " 4.609687942207385,\n",
       " 5.059868358907418,\n",
       " 4.949837103225579,\n",
       " 4.361588444595775,\n",
       " 4.29949406657318,\n",
       " 4.247112515113485,\n",
       " 4.7283704820072945,\n",
       " 4.551925208409938,\n",
       " 4.282038594287516,\n",
       " 4.79950032238378,\n",
       " 4.202717821872388,\n",
       " 4.733458148064412,\n",
       " 4.864820616398801,\n",
       " 4.485770986347773,\n",
       " 4.2394088082283155,\n",
       " 4.697546893211218,\n",
       " 4.917767544297745,\n",
       " 4.456183250661444,\n",
       " 5.11621348666483,\n",
       " 4.9879124902701175,\n",
       " 4.866942640656079,\n",
       " 4.288665827023588,\n",
       " 4.748942555578694,\n",
       " 4.614737503758929,\n",
       " 4.572958885242867,\n",
       " 4.071878835969132,\n",
       " 4.150975225078315,\n",
       " 4.692327556092823,\n",
       " 4.589760480161322,\n",
       " 4.3527707062052485,\n",
       " 4.5139735611062015,\n",
       " 4.353965318107412,\n",
       " 4.433301224863487,\n",
       " 5.085135179883219,\n",
       " 4.586744422941742,\n",
       " 4.640938843447499,\n",
       " 5.21321949522828,\n",
       " 4.331401215961244,\n",
       " 4.2183179071873464,\n",
       " 4.1269648980762765,\n",
       " 4.703996003475284,\n",
       " 4.613528867733776,\n",
       " 4.323851565356718,\n",
       " 4.5651347346888365,\n",
       " 4.706660355859073,\n",
       " 4.44937012645698,\n",
       " 4.29428847521893,\n",
       " 4.494010896547137,\n",
       " 4.409996257870716,\n",
       " 4.732509104615325,\n",
       " 4.1975121853027435,\n",
       " 4.679300677433518,\n",
       " 4.2068207585923,\n",
       " 4.779894187418864,\n",
       " 4.562616521890467,\n",
       " 4.497496813400326,\n",
       " 4.438554853001819,\n",
       " 4.780887141755074,\n",
       " 4.479181505185266,\n",
       " 4.54424693429885,\n",
       " 4.5316024618077275,\n",
       " 4.715266297042894,\n",
       " 4.696279625160906,\n",
       " 4.167202496708652,\n",
       " 4.612549439165202,\n",
       " 4.500024961157179,\n",
       " 4.4829427441679375,\n",
       " 4.563200695275266,\n",
       " 4.872663389441908,\n",
       " 4.665968206839543,\n",
       " 4.180147328654545,\n",
       " 4.619925795697093,\n",
       " 4.4388966884283265,\n",
       " 4.498096449383221,\n",
       " 4.863769318448927]"
      ]
     },
     "execution_count": 7,
     "metadata": {},
     "output_type": "execute_result"
    }
   ],
   "source": [
    "radius_list"
   ]
  },
  {
   "cell_type": "code",
   "execution_count": 8,
   "id": "32f480a3",
   "metadata": {},
   "outputs": [
    {
     "name": "stderr",
     "output_type": "stream",
     "text": [
      "extracting all features from dataset: 100%|██████████████████████████████████████████████| 1/1 [00:02<00:00,  2.29s/it]\n",
      "extracting all features from dataset: 100%|██████████████████████████████████████████████| 1/1 [00:02<00:00,  2.05s/it]\n"
     ]
    },
    {
     "name": "stdout",
     "output_type": "stream",
     "text": [
      "----------------------------\n",
      "Train_z, Test_z\n",
      "PCA: 0.9399\n",
      "SVD: 0.9224\n",
      "NetD, Acc at first 0.9673\n"
     ]
    },
    {
     "name": "stderr",
     "output_type": "stream",
     "text": [
      "extracting all features from dataset: 100%|██████████████████████████████████████████████| 2/2 [00:05<00:00,  2.59s/it]\n",
      "extracting all features from dataset: 100%|██████████████████████████████████████████████| 1/1 [00:01<00:00,  1.99s/it]\n"
     ]
    },
    {
     "name": "stdout",
     "output_type": "stream",
     "text": [
      "----------------------------\n",
      "Train_z, Test_z\n",
      "PCA: 0.926\n",
      "SVD: 0.9243\n",
      "NetG, Acc at first 0.9545\n"
     ]
    }
   ],
   "source": [
    "#acc at first for NetD\n",
    "train_X, train_Z, train_X_bar, train_Z_bar, train_labels = extract_features2(testloader, netD, netG)\n",
    "\n",
    "test_X, test_Z, test_X_bar, test_Z_bar, test_labels = extract_features2(testloader, netD, netG)\n",
    "\n",
    "\n",
    "print(\"----------------------------\")\n",
    "print(\"Train_z, Test_z\")\n",
    "nearsub(n_comp, train_Z, train_labels, test_Z, test_labels)\n",
    "\n",
    "#acc at first for NetD\n",
    "from sklearn.neighbors import KNeighborsClassifier \n",
    "knn= KNeighborsClassifier(n_neighbors=10) \n",
    "\n",
    "knn.fit(train_Z,train_labels) \n",
    "knn.score(test_Z,test_labels) \n",
    " \n",
    "y_predict = knn.predict(test_Z) \n",
    "\n",
    "count =0\n",
    "for k in range(10000):\n",
    "    if y_predict[k] == test_labels[k]:\n",
    "        count +=1\n",
    "print('NetD, Acc at first',count/10000)\n",
    "Acc_results_D.append(count/10000)\n",
    "\n",
    "#acc at first for NetG\n",
    "train_X, train_Z, train_X_bar, train_Z_bar, train_labels = extract_features2(trainloader, netG, netD)\n",
    "\n",
    "test_X, test_Z, test_X_bar, test_Z_bar, test_labels = extract_features2(testloader, netG, netD)\n",
    "\n",
    "print(\"----------------------------\")\n",
    "print(\"Train_z, Test_z\")\n",
    "nearsub(n_comp, train_Z, train_labels, test_Z, test_labels)\n",
    "\n",
    "\n",
    "#acc at first\n",
    "from sklearn.neighbors import KNeighborsClassifier \n",
    "knn= KNeighborsClassifier(n_neighbors=10) \n",
    "\n",
    "knn.fit(train_Z,train_labels) \n",
    "knn.score(test_Z,test_labels) \n",
    " \n",
    "y_predict = knn.predict(test_Z) \n",
    "\n",
    "count =0\n",
    "for k in range(10000):\n",
    "    if y_predict[k] == test_labels[k]:\n",
    "        count +=1\n",
    "print('NetG, Acc at first',count/10000)\n",
    "Acc_results_G.append(count/10000)\n"
   ]
  },
  {
   "cell_type": "code",
   "execution_count": 9,
   "id": "b12f0476",
   "metadata": {},
   "outputs": [],
   "source": [
    "torch.save(netD, 'MNIST_NetD-mode1-radius2.pth')\n",
    "torch.save(netV, 'MNIST_NetV-mode1-radius2.pth')\n",
    "torch.save(netG, 'MNIST_NetG-mode1-radius2.pth')"
   ]
  },
  {
   "cell_type": "code",
   "execution_count": 10,
   "id": "a97aa6a9",
   "metadata": {},
   "outputs": [],
   "source": [
    "#robust testing\n",
    "r_list = [0,0.1,0.2,0.5,1,2,3,4,6,8,10]\n",
    "sample_num = 20"
   ]
  },
  {
   "cell_type": "code",
   "execution_count": 11,
   "id": "5dd88ab6",
   "metadata": {},
   "outputs": [
    {
     "name": "stderr",
     "output_type": "stream",
     "text": [
      "extracting all features from dataset: 100%|██████████████████████████████████████████████| 2/2 [00:05<00:00,  2.55s/it]\n",
      "extracting all features from dataset: 100%|██████████████████████████████████████████████| 1/1 [00:02<00:00,  2.12s/it]\n"
     ]
    },
    {
     "name": "stdout",
     "output_type": "stream",
     "text": [
      "----------------------------\n",
      "Train_z, Test_z\n",
      "PCA: 0.9337\n",
      "SVD: 0.9192\n",
      "NetG_fixD, Acc at sample 1 0.9694\n"
     ]
    },
    {
     "name": "stderr",
     "output_type": "stream",
     "text": [
      "extracting all features from dataset: 100%|██████████████████████████████████████████████| 2/2 [00:05<00:00,  2.64s/it]\n",
      "extracting all features from dataset: 100%|██████████████████████████████████████████████| 1/1 [00:02<00:00,  2.02s/it]\n"
     ]
    },
    {
     "name": "stdout",
     "output_type": "stream",
     "text": [
      "----------------------------\n",
      "Train_z, Test_z\n",
      "PCA: 0.9331\n",
      "SVD: 0.9164\n",
      "NetG_fixD, Acc at sample 2 0.9698\n"
     ]
    },
    {
     "name": "stderr",
     "output_type": "stream",
     "text": [
      "extracting all features from dataset: 100%|██████████████████████████████████████████████| 2/2 [00:05<00:00,  2.60s/it]\n",
      "extracting all features from dataset: 100%|██████████████████████████████████████████████| 1/1 [00:02<00:00,  2.14s/it]\n"
     ]
    },
    {
     "name": "stdout",
     "output_type": "stream",
     "text": [
      "----------------------------\n",
      "Train_z, Test_z\n",
      "PCA: 0.9328\n",
      "SVD: 0.9185\n",
      "NetG_fixD, Acc at sample 3 0.9701\n"
     ]
    },
    {
     "name": "stderr",
     "output_type": "stream",
     "text": [
      "extracting all features from dataset: 100%|██████████████████████████████████████████████| 2/2 [00:05<00:00,  2.56s/it]\n",
      "extracting all features from dataset: 100%|██████████████████████████████████████████████| 1/1 [00:02<00:00,  2.08s/it]\n"
     ]
    },
    {
     "name": "stdout",
     "output_type": "stream",
     "text": [
      "----------------------------\n",
      "Train_z, Test_z\n",
      "PCA: 0.9336\n",
      "SVD: 0.9182\n",
      "NetG_fixD, Acc at sample 4 0.9698\n"
     ]
    },
    {
     "name": "stderr",
     "output_type": "stream",
     "text": [
      "extracting all features from dataset: 100%|██████████████████████████████████████████████| 2/2 [00:05<00:00,  2.60s/it]\n",
      "extracting all features from dataset: 100%|██████████████████████████████████████████████| 1/1 [00:02<00:00,  2.18s/it]\n"
     ]
    },
    {
     "name": "stdout",
     "output_type": "stream",
     "text": [
      "----------------------------\n",
      "Train_z, Test_z\n",
      "PCA: 0.9334\n",
      "SVD: 0.9184\n",
      "NetG_fixD, Acc at sample 5 0.9698\n"
     ]
    },
    {
     "name": "stderr",
     "output_type": "stream",
     "text": [
      "extracting all features from dataset: 100%|██████████████████████████████████████████████| 2/2 [00:05<00:00,  2.56s/it]\n",
      "extracting all features from dataset: 100%|██████████████████████████████████████████████| 1/1 [00:02<00:00,  2.08s/it]\n"
     ]
    },
    {
     "name": "stdout",
     "output_type": "stream",
     "text": [
      "----------------------------\n",
      "Train_z, Test_z\n",
      "PCA: 0.9325\n",
      "SVD: 0.9172\n",
      "NetG_fixD, Acc at sample 6 0.97\n"
     ]
    },
    {
     "name": "stderr",
     "output_type": "stream",
     "text": [
      "extracting all features from dataset: 100%|██████████████████████████████████████████████| 2/2 [00:05<00:00,  2.54s/it]\n",
      "extracting all features from dataset: 100%|██████████████████████████████████████████████| 1/1 [00:02<00:00,  2.10s/it]\n"
     ]
    },
    {
     "name": "stdout",
     "output_type": "stream",
     "text": [
      "----------------------------\n",
      "Train_z, Test_z\n",
      "PCA: 0.9331\n",
      "SVD: 0.9178\n",
      "NetG_fixD, Acc at sample 7 0.9695\n"
     ]
    },
    {
     "name": "stderr",
     "output_type": "stream",
     "text": [
      "extracting all features from dataset: 100%|██████████████████████████████████████████████| 2/2 [00:05<00:00,  2.62s/it]\n",
      "extracting all features from dataset: 100%|██████████████████████████████████████████████| 1/1 [00:02<00:00,  2.11s/it]\n"
     ]
    },
    {
     "name": "stdout",
     "output_type": "stream",
     "text": [
      "----------------------------\n",
      "Train_z, Test_z\n",
      "PCA: 0.9329\n",
      "SVD: 0.9193\n",
      "NetG_fixD, Acc at sample 8 0.9699\n"
     ]
    },
    {
     "name": "stderr",
     "output_type": "stream",
     "text": [
      "extracting all features from dataset: 100%|██████████████████████████████████████████████| 2/2 [00:05<00:00,  2.76s/it]\n",
      "extracting all features from dataset: 100%|██████████████████████████████████████████████| 1/1 [00:02<00:00,  2.16s/it]\n"
     ]
    },
    {
     "name": "stdout",
     "output_type": "stream",
     "text": [
      "----------------------------\n",
      "Train_z, Test_z\n",
      "PCA: 0.9339\n",
      "SVD: 0.9178999999999999\n",
      "NetG_fixD, Acc at sample 9 0.9693\n"
     ]
    },
    {
     "name": "stderr",
     "output_type": "stream",
     "text": [
      "extracting all features from dataset: 100%|██████████████████████████████████████████████| 2/2 [00:05<00:00,  2.74s/it]\n",
      "extracting all features from dataset: 100%|██████████████████████████████████████████████| 1/1 [00:02<00:00,  2.09s/it]\n"
     ]
    },
    {
     "name": "stdout",
     "output_type": "stream",
     "text": [
      "----------------------------\n",
      "Train_z, Test_z\n",
      "PCA: 0.9332\n",
      "SVD: 0.9181\n",
      "NetG_fixD, Acc at sample 10 0.97\n"
     ]
    },
    {
     "name": "stderr",
     "output_type": "stream",
     "text": [
      "extracting all features from dataset: 100%|██████████████████████████████████████████████| 2/2 [00:05<00:00,  2.62s/it]\n",
      "extracting all features from dataset: 100%|██████████████████████████████████████████████| 1/1 [00:02<00:00,  2.15s/it]\n"
     ]
    },
    {
     "name": "stdout",
     "output_type": "stream",
     "text": [
      "----------------------------\n",
      "Train_z, Test_z\n",
      "PCA: 0.9338\n",
      "SVD: 0.9186\n",
      "NetG_fixD, Acc at sample 11 0.9695\n"
     ]
    },
    {
     "name": "stderr",
     "output_type": "stream",
     "text": [
      "extracting all features from dataset: 100%|██████████████████████████████████████████████| 2/2 [00:05<00:00,  2.63s/it]\n",
      "extracting all features from dataset: 100%|██████████████████████████████████████████████| 1/1 [00:02<00:00,  2.14s/it]\n"
     ]
    },
    {
     "name": "stdout",
     "output_type": "stream",
     "text": [
      "----------------------------\n",
      "Train_z, Test_z\n",
      "PCA: 0.9326\n",
      "SVD: 0.918\n",
      "NetG_fixD, Acc at sample 12 0.9697\n"
     ]
    },
    {
     "name": "stderr",
     "output_type": "stream",
     "text": [
      "extracting all features from dataset: 100%|██████████████████████████████████████████████| 2/2 [00:05<00:00,  2.85s/it]\n",
      "extracting all features from dataset: 100%|██████████████████████████████████████████████| 1/1 [00:02<00:00,  2.21s/it]\n"
     ]
    },
    {
     "name": "stdout",
     "output_type": "stream",
     "text": [
      "----------------------------\n",
      "Train_z, Test_z\n",
      "PCA: 0.9337\n",
      "SVD: 0.9176\n",
      "NetG_fixD, Acc at sample 13 0.9696\n"
     ]
    },
    {
     "name": "stderr",
     "output_type": "stream",
     "text": [
      "extracting all features from dataset: 100%|██████████████████████████████████████████████| 2/2 [00:05<00:00,  2.76s/it]\n",
      "extracting all features from dataset: 100%|██████████████████████████████████████████████| 1/1 [00:02<00:00,  2.27s/it]\n"
     ]
    },
    {
     "name": "stdout",
     "output_type": "stream",
     "text": [
      "----------------------------\n",
      "Train_z, Test_z\n",
      "PCA: 0.9331\n",
      "SVD: 0.9177\n",
      "NetG_fixD, Acc at sample 14 0.9699\n"
     ]
    },
    {
     "name": "stderr",
     "output_type": "stream",
     "text": [
      "extracting all features from dataset: 100%|██████████████████████████████████████████████| 2/2 [00:05<00:00,  2.77s/it]\n",
      "extracting all features from dataset: 100%|██████████████████████████████████████████████| 1/1 [00:02<00:00,  2.19s/it]\n"
     ]
    },
    {
     "name": "stdout",
     "output_type": "stream",
     "text": [
      "----------------------------\n",
      "Train_z, Test_z\n",
      "PCA: 0.9331\n",
      "SVD: 0.9188000000000001\n",
      "NetG_fixD, Acc at sample 15 0.9695\n"
     ]
    },
    {
     "name": "stderr",
     "output_type": "stream",
     "text": [
      "extracting all features from dataset: 100%|██████████████████████████████████████████████| 2/2 [00:05<00:00,  2.79s/it]\n",
      "extracting all features from dataset: 100%|██████████████████████████████████████████████| 1/1 [00:02<00:00,  2.16s/it]\n"
     ]
    },
    {
     "name": "stdout",
     "output_type": "stream",
     "text": [
      "----------------------------\n",
      "Train_z, Test_z\n",
      "PCA: 0.933\n",
      "SVD: 0.9176\n",
      "NetG_fixD, Acc at sample 16 0.9695\n"
     ]
    },
    {
     "name": "stderr",
     "output_type": "stream",
     "text": [
      "extracting all features from dataset: 100%|██████████████████████████████████████████████| 2/2 [00:05<00:00,  2.78s/it]\n",
      "extracting all features from dataset: 100%|██████████████████████████████████████████████| 1/1 [00:02<00:00,  2.15s/it]\n"
     ]
    },
    {
     "name": "stdout",
     "output_type": "stream",
     "text": [
      "----------------------------\n",
      "Train_z, Test_z\n",
      "PCA: 0.9326\n",
      "SVD: 0.9186\n",
      "NetG_fixD, Acc at sample 17 0.9697\n"
     ]
    },
    {
     "name": "stderr",
     "output_type": "stream",
     "text": [
      "extracting all features from dataset: 100%|██████████████████████████████████████████████| 2/2 [00:05<00:00,  2.82s/it]\n",
      "extracting all features from dataset: 100%|██████████████████████████████████████████████| 1/1 [00:02<00:00,  2.42s/it]\n"
     ]
    },
    {
     "name": "stdout",
     "output_type": "stream",
     "text": [
      "----------------------------\n",
      "Train_z, Test_z\n",
      "PCA: 0.9327\n",
      "SVD: 0.9176\n",
      "NetG_fixD, Acc at sample 18 0.9695\n"
     ]
    },
    {
     "name": "stderr",
     "output_type": "stream",
     "text": [
      "extracting all features from dataset: 100%|██████████████████████████████████████████████| 2/2 [00:05<00:00,  2.81s/it]\n",
      "extracting all features from dataset: 100%|██████████████████████████████████████████████| 1/1 [00:02<00:00,  2.36s/it]\n"
     ]
    },
    {
     "name": "stdout",
     "output_type": "stream",
     "text": [
      "----------------------------\n",
      "Train_z, Test_z\n",
      "PCA: 0.9338\n",
      "SVD: 0.918\n",
      "NetG_fixD, Acc at sample 19 0.9696\n"
     ]
    },
    {
     "name": "stderr",
     "output_type": "stream",
     "text": [
      "extracting all features from dataset: 100%|██████████████████████████████████████████████| 2/2 [00:05<00:00,  2.83s/it]\n",
      "extracting all features from dataset: 100%|██████████████████████████████████████████████| 1/1 [00:02<00:00,  2.26s/it]\n"
     ]
    },
    {
     "name": "stdout",
     "output_type": "stream",
     "text": [
      "----------------------------\n",
      "Train_z, Test_z\n",
      "PCA: 0.9327\n",
      "SVD: 0.9175\n",
      "NetG_fixD, Acc at sample 20 0.97\n",
      "0.9701 0.9693 0.9697049999999999 5.047499999998888e-08\n"
     ]
    }
   ],
   "source": [
    "# sample 20 times of NetG at final radius, NetD is fixed, length 0.1,0.2,0.5,1,2,4,6,8,10,15,20\n",
    "from sklearn.neighbors import KNeighborsClassifier \n",
    "Acc_results_G_sample = []\n",
    "for _ in range(sample_num):\n",
    "    #acc at first\n",
    "    net_noise = get_noise(DATASET, device, LABEL)\n",
    "    fed_state_dict = get_netG(netD,netV,net_noise,r_list[1])\n",
    "    netG.load_state_dict(fed_state_dict)\n",
    "    \n",
    "    train_X, train_Z, train_X_bar, train_Z_bar, train_labels = extract_features2(trainloader, netG, netD)\n",
    "\n",
    "    test_X, test_Z, test_X_bar, test_Z_bar, test_labels = extract_features2(testloader, netG, netD)\n",
    "\n",
    "    print(\"----------------------------\")\n",
    "    print(\"Train_z, Test_z\")\n",
    "    nearsub(n_comp, train_Z, train_labels, test_Z, test_labels)\n",
    "\n",
    "    knn= KNeighborsClassifier(n_neighbors=10) \n",
    "\n",
    "    knn.fit(train_Z,train_labels) \n",
    "    knn.score(test_Z_bar,test_labels) \n",
    "\n",
    "    y_predict = knn.predict(test_Z_bar) \n",
    "\n",
    "    count =0\n",
    "    for k in range(10000):\n",
    "        if y_predict[k] == test_labels[k]:\n",
    "            count +=1\n",
    "    print('NetG_fixD, Acc at sample',_+1,count/10000)\n",
    "    Acc_results_G_sample.append(count/10000)\n",
    "\n",
    "print(max(Acc_results_G_sample),min(Acc_results_G_sample),np.mean(Acc_results_G_sample),np.var(Acc_results_G_sample))"
   ]
  },
  {
   "cell_type": "code",
   "execution_count": 12,
   "id": "05bfe135",
   "metadata": {},
   "outputs": [
    {
     "name": "stderr",
     "output_type": "stream",
     "text": [
      "extracting all features from dataset: 100%|██████████████████████████████████████████████| 2/2 [00:05<00:00,  2.76s/it]\n",
      "extracting all features from dataset: 100%|██████████████████████████████████████████████| 1/1 [00:02<00:00,  2.20s/it]\n"
     ]
    },
    {
     "name": "stdout",
     "output_type": "stream",
     "text": [
      "----------------------------\n",
      "Train_z, Test_z\n",
      "PCA: 0.933\n",
      "SVD: 0.9192\n",
      "NetG_fixD, Acc at sample 1 0.9692\n"
     ]
    },
    {
     "name": "stderr",
     "output_type": "stream",
     "text": [
      "extracting all features from dataset: 100%|██████████████████████████████████████████████| 2/2 [00:05<00:00,  2.84s/it]\n",
      "extracting all features from dataset: 100%|██████████████████████████████████████████████| 1/1 [00:02<00:00,  2.31s/it]\n"
     ]
    },
    {
     "name": "stdout",
     "output_type": "stream",
     "text": [
      "----------------------------\n",
      "Train_z, Test_z\n",
      "PCA: 0.9334\n",
      "SVD: 0.9191\n",
      "NetG_fixD, Acc at sample 2 0.9697\n"
     ]
    },
    {
     "name": "stderr",
     "output_type": "stream",
     "text": [
      "extracting all features from dataset: 100%|██████████████████████████████████████████████| 2/2 [00:05<00:00,  2.87s/it]\n",
      "extracting all features from dataset: 100%|██████████████████████████████████████████████| 1/1 [00:02<00:00,  2.27s/it]\n"
     ]
    },
    {
     "name": "stdout",
     "output_type": "stream",
     "text": [
      "----------------------------\n",
      "Train_z, Test_z\n",
      "PCA: 0.9323\n",
      "SVD: 0.9185\n",
      "NetG_fixD, Acc at sample 3 0.9695\n"
     ]
    },
    {
     "name": "stderr",
     "output_type": "stream",
     "text": [
      "extracting all features from dataset: 100%|██████████████████████████████████████████████| 2/2 [00:05<00:00,  2.88s/it]\n",
      "extracting all features from dataset: 100%|██████████████████████████████████████████████| 1/1 [00:02<00:00,  2.29s/it]\n"
     ]
    },
    {
     "name": "stdout",
     "output_type": "stream",
     "text": [
      "----------------------------\n",
      "Train_z, Test_z\n",
      "PCA: 0.9324\n",
      "SVD: 0.9177\n",
      "NetG_fixD, Acc at sample 4 0.9701\n"
     ]
    },
    {
     "name": "stderr",
     "output_type": "stream",
     "text": [
      "extracting all features from dataset: 100%|██████████████████████████████████████████████| 2/2 [00:05<00:00,  2.78s/it]\n",
      "extracting all features from dataset: 100%|██████████████████████████████████████████████| 1/1 [00:02<00:00,  2.24s/it]\n"
     ]
    },
    {
     "name": "stdout",
     "output_type": "stream",
     "text": [
      "----------------------------\n",
      "Train_z, Test_z\n",
      "PCA: 0.9328\n",
      "SVD: 0.9191\n",
      "NetG_fixD, Acc at sample 5 0.9707\n"
     ]
    },
    {
     "name": "stderr",
     "output_type": "stream",
     "text": [
      "extracting all features from dataset: 100%|██████████████████████████████████████████████| 2/2 [00:05<00:00,  2.84s/it]\n",
      "extracting all features from dataset: 100%|██████████████████████████████████████████████| 1/1 [00:02<00:00,  2.30s/it]\n"
     ]
    },
    {
     "name": "stdout",
     "output_type": "stream",
     "text": [
      "----------------------------\n",
      "Train_z, Test_z\n",
      "PCA: 0.9344\n",
      "SVD: 0.9191\n",
      "NetG_fixD, Acc at sample 6 0.969\n"
     ]
    },
    {
     "name": "stderr",
     "output_type": "stream",
     "text": [
      "extracting all features from dataset: 100%|██████████████████████████████████████████████| 2/2 [00:05<00:00,  2.82s/it]\n",
      "extracting all features from dataset: 100%|██████████████████████████████████████████████| 1/1 [00:02<00:00,  2.29s/it]\n"
     ]
    },
    {
     "name": "stdout",
     "output_type": "stream",
     "text": [
      "----------------------------\n",
      "Train_z, Test_z\n",
      "PCA: 0.9338\n",
      "SVD: 0.9181\n",
      "NetG_fixD, Acc at sample 7 0.9693\n"
     ]
    },
    {
     "name": "stderr",
     "output_type": "stream",
     "text": [
      "extracting all features from dataset: 100%|██████████████████████████████████████████████| 2/2 [00:05<00:00,  2.79s/it]\n",
      "extracting all features from dataset: 100%|██████████████████████████████████████████████| 1/1 [00:02<00:00,  2.34s/it]\n"
     ]
    },
    {
     "name": "stdout",
     "output_type": "stream",
     "text": [
      "----------------------------\n",
      "Train_z, Test_z\n",
      "PCA: 0.9337\n",
      "SVD: 0.9198999999999999\n",
      "NetG_fixD, Acc at sample 8 0.9699\n"
     ]
    },
    {
     "name": "stderr",
     "output_type": "stream",
     "text": [
      "extracting all features from dataset: 100%|██████████████████████████████████████████████| 2/2 [00:05<00:00,  2.82s/it]\n",
      "extracting all features from dataset: 100%|██████████████████████████████████████████████| 1/1 [00:02<00:00,  2.34s/it]\n"
     ]
    },
    {
     "name": "stdout",
     "output_type": "stream",
     "text": [
      "----------------------------\n",
      "Train_z, Test_z\n",
      "PCA: 0.933\n",
      "SVD: 0.9198\n",
      "NetG_fixD, Acc at sample 9 0.9696\n"
     ]
    },
    {
     "name": "stderr",
     "output_type": "stream",
     "text": [
      "extracting all features from dataset: 100%|██████████████████████████████████████████████| 2/2 [00:05<00:00,  2.90s/it]\n",
      "extracting all features from dataset: 100%|██████████████████████████████████████████████| 1/1 [00:02<00:00,  2.26s/it]\n"
     ]
    },
    {
     "name": "stdout",
     "output_type": "stream",
     "text": [
      "----------------------------\n",
      "Train_z, Test_z\n",
      "PCA: 0.9319\n",
      "SVD: 0.9172\n",
      "NetG_fixD, Acc at sample 10 0.9695\n"
     ]
    },
    {
     "name": "stderr",
     "output_type": "stream",
     "text": [
      "extracting all features from dataset: 100%|██████████████████████████████████████████████| 2/2 [00:05<00:00,  2.89s/it]\n",
      "extracting all features from dataset: 100%|██████████████████████████████████████████████| 1/1 [00:02<00:00,  2.26s/it]\n"
     ]
    },
    {
     "name": "stdout",
     "output_type": "stream",
     "text": [
      "----------------------------\n",
      "Train_z, Test_z\n",
      "PCA: 0.9322\n",
      "SVD: 0.9183\n",
      "NetG_fixD, Acc at sample 11 0.9693\n"
     ]
    },
    {
     "name": "stderr",
     "output_type": "stream",
     "text": [
      "extracting all features from dataset: 100%|██████████████████████████████████████████████| 2/2 [00:05<00:00,  2.77s/it]\n",
      "extracting all features from dataset: 100%|██████████████████████████████████████████████| 1/1 [00:02<00:00,  2.15s/it]\n"
     ]
    },
    {
     "name": "stdout",
     "output_type": "stream",
     "text": [
      "----------------------------\n",
      "Train_z, Test_z\n",
      "PCA: 0.9328\n",
      "SVD: 0.918\n",
      "NetG_fixD, Acc at sample 12 0.9696\n"
     ]
    },
    {
     "name": "stderr",
     "output_type": "stream",
     "text": [
      "extracting all features from dataset: 100%|██████████████████████████████████████████████| 2/2 [00:05<00:00,  2.78s/it]\n",
      "extracting all features from dataset: 100%|██████████████████████████████████████████████| 1/1 [00:02<00:00,  2.10s/it]\n"
     ]
    },
    {
     "name": "stdout",
     "output_type": "stream",
     "text": [
      "----------------------------\n",
      "Train_z, Test_z\n",
      "PCA: 0.9333\n",
      "SVD: 0.9194\n",
      "NetG_fixD, Acc at sample 13 0.9697\n"
     ]
    },
    {
     "name": "stderr",
     "output_type": "stream",
     "text": [
      "extracting all features from dataset: 100%|██████████████████████████████████████████████| 2/2 [00:05<00:00,  2.68s/it]\n",
      "extracting all features from dataset: 100%|██████████████████████████████████████████████| 1/1 [00:02<00:00,  2.27s/it]\n"
     ]
    },
    {
     "name": "stdout",
     "output_type": "stream",
     "text": [
      "----------------------------\n",
      "Train_z, Test_z\n",
      "PCA: 0.9333\n",
      "SVD: 0.9196\n",
      "NetG_fixD, Acc at sample 14 0.9694\n"
     ]
    },
    {
     "name": "stderr",
     "output_type": "stream",
     "text": [
      "extracting all features from dataset: 100%|██████████████████████████████████████████████| 2/2 [00:05<00:00,  2.94s/it]\n",
      "extracting all features from dataset: 100%|██████████████████████████████████████████████| 1/1 [00:02<00:00,  2.30s/it]\n"
     ]
    },
    {
     "name": "stdout",
     "output_type": "stream",
     "text": [
      "----------------------------\n",
      "Train_z, Test_z\n",
      "PCA: 0.9331\n",
      "SVD: 0.9168000000000001\n",
      "NetG_fixD, Acc at sample 15 0.9697\n"
     ]
    },
    {
     "name": "stderr",
     "output_type": "stream",
     "text": [
      "extracting all features from dataset: 100%|██████████████████████████████████████████████| 2/2 [00:05<00:00,  2.85s/it]\n",
      "extracting all features from dataset: 100%|██████████████████████████████████████████████| 1/1 [00:02<00:00,  2.26s/it]\n"
     ]
    },
    {
     "name": "stdout",
     "output_type": "stream",
     "text": [
      "----------------------------\n",
      "Train_z, Test_z\n",
      "PCA: 0.9334\n",
      "SVD: 0.9183\n",
      "NetG_fixD, Acc at sample 16 0.9695\n"
     ]
    },
    {
     "name": "stderr",
     "output_type": "stream",
     "text": [
      "extracting all features from dataset: 100%|██████████████████████████████████████████████| 2/2 [00:05<00:00,  2.62s/it]\n",
      "extracting all features from dataset: 100%|██████████████████████████████████████████████| 1/1 [00:02<00:00,  2.08s/it]\n"
     ]
    },
    {
     "name": "stdout",
     "output_type": "stream",
     "text": [
      "----------------------------\n",
      "Train_z, Test_z\n",
      "PCA: 0.9323\n",
      "SVD: 0.9169\n",
      "NetG_fixD, Acc at sample 17 0.9691\n"
     ]
    },
    {
     "name": "stderr",
     "output_type": "stream",
     "text": [
      "extracting all features from dataset: 100%|██████████████████████████████████████████████| 2/2 [00:05<00:00,  2.53s/it]\n",
      "extracting all features from dataset: 100%|██████████████████████████████████████████████| 1/1 [00:02<00:00,  2.06s/it]\n"
     ]
    },
    {
     "name": "stdout",
     "output_type": "stream",
     "text": [
      "----------------------------\n",
      "Train_z, Test_z\n",
      "PCA: 0.9319\n",
      "SVD: 0.9178999999999999\n",
      "NetG_fixD, Acc at sample 18 0.9701\n"
     ]
    },
    {
     "name": "stderr",
     "output_type": "stream",
     "text": [
      "extracting all features from dataset: 100%|██████████████████████████████████████████████| 2/2 [00:05<00:00,  2.71s/it]\n",
      "extracting all features from dataset: 100%|██████████████████████████████████████████████| 1/1 [00:02<00:00,  2.13s/it]\n"
     ]
    },
    {
     "name": "stdout",
     "output_type": "stream",
     "text": [
      "----------------------------\n",
      "Train_z, Test_z\n",
      "PCA: 0.9338\n",
      "SVD: 0.9173\n",
      "NetG_fixD, Acc at sample 19 0.9698\n"
     ]
    },
    {
     "name": "stderr",
     "output_type": "stream",
     "text": [
      "extracting all features from dataset: 100%|██████████████████████████████████████████████| 2/2 [00:05<00:00,  2.52s/it]\n",
      "extracting all features from dataset: 100%|██████████████████████████████████████████████| 1/1 [00:02<00:00,  2.08s/it]\n"
     ]
    },
    {
     "name": "stdout",
     "output_type": "stream",
     "text": [
      "----------------------------\n",
      "Train_z, Test_z\n",
      "PCA: 0.9336\n",
      "SVD: 0.9194\n",
      "NetG_fixD, Acc at sample 20 0.9693\n",
      "0.9707 0.969 0.9696 1.4899999999999605e-07\n"
     ]
    }
   ],
   "source": [
    "# sample 20 times of NetG at final radius, NetD is fixed\n",
    "from sklearn.neighbors import KNeighborsClassifier \n",
    "Acc_results_G_sample2 = []\n",
    "\n",
    "for _ in range(sample_num):\n",
    "    #acc at first\n",
    "    net_noise = get_noise(DATASET, device, LABEL)\n",
    "    fed_state_dict = get_netG(netD,netV,net_noise,r_list[2])\n",
    "    netG.load_state_dict(fed_state_dict)\n",
    "    \n",
    "    train_X, train_Z, train_X_bar, train_Z_bar, train_labels = extract_features2(trainloader, netG, netD)\n",
    "\n",
    "    test_X, test_Z, test_X_bar, test_Z_bar, test_labels = extract_features2(testloader, netG, netD)\n",
    "\n",
    "    print(\"----------------------------\")\n",
    "    print(\"Train_z, Test_z\")\n",
    "    nearsub(n_comp, train_Z, train_labels, test_Z, test_labels)\n",
    "\n",
    "    knn= KNeighborsClassifier(n_neighbors=10) \n",
    "\n",
    "    knn.fit(train_Z,train_labels) \n",
    "    knn.score(test_Z_bar,test_labels) \n",
    "\n",
    "    y_predict = knn.predict(test_Z_bar) \n",
    "\n",
    "    count =0\n",
    "    for k in range(10000):\n",
    "        if y_predict[k] == test_labels[k]:\n",
    "            count +=1\n",
    "    print('NetG_fixD, Acc at sample',_+1,count/10000)\n",
    "    Acc_results_G_sample2.append(count/10000)\n",
    "    \n",
    "print(max(Acc_results_G_sample2),min(Acc_results_G_sample2),np.mean(Acc_results_G_sample2),np.var(Acc_results_G_sample2))"
   ]
  },
  {
   "cell_type": "code",
   "execution_count": 13,
   "id": "1daf6e7b",
   "metadata": {},
   "outputs": [
    {
     "name": "stderr",
     "output_type": "stream",
     "text": [
      "extracting all features from dataset: 100%|██████████████████████████████████████████████| 2/2 [00:05<00:00,  2.59s/it]\n",
      "extracting all features from dataset: 100%|██████████████████████████████████████████████| 1/1 [00:02<00:00,  2.12s/it]\n"
     ]
    },
    {
     "name": "stdout",
     "output_type": "stream",
     "text": [
      "----------------------------\n",
      "Train_z, Test_z\n",
      "PCA: 0.9321\n",
      "SVD: 0.9211\n",
      "NetG_fixD, Acc at sample 1 0.9692\n"
     ]
    },
    {
     "name": "stderr",
     "output_type": "stream",
     "text": [
      "extracting all features from dataset: 100%|██████████████████████████████████████████████| 2/2 [00:05<00:00,  2.66s/it]\n",
      "extracting all features from dataset: 100%|██████████████████████████████████████████████| 1/1 [00:02<00:00,  2.06s/it]\n"
     ]
    },
    {
     "name": "stdout",
     "output_type": "stream",
     "text": [
      "----------------------------\n",
      "Train_z, Test_z\n",
      "PCA: 0.9315\n",
      "SVD: 0.9206\n",
      "NetG_fixD, Acc at sample 2 0.9687\n"
     ]
    },
    {
     "name": "stderr",
     "output_type": "stream",
     "text": [
      "extracting all features from dataset: 100%|██████████████████████████████████████████████| 2/2 [00:05<00:00,  2.55s/it]\n",
      "extracting all features from dataset: 100%|██████████████████████████████████████████████| 1/1 [00:02<00:00,  2.15s/it]\n"
     ]
    },
    {
     "name": "stdout",
     "output_type": "stream",
     "text": [
      "----------------------------\n",
      "Train_z, Test_z\n",
      "PCA: 0.9328\n",
      "SVD: 0.9193\n",
      "NetG_fixD, Acc at sample 3 0.969\n"
     ]
    },
    {
     "name": "stderr",
     "output_type": "stream",
     "text": [
      "extracting all features from dataset: 100%|██████████████████████████████████████████████| 2/2 [00:05<00:00,  2.67s/it]\n",
      "extracting all features from dataset: 100%|██████████████████████████████████████████████| 1/1 [00:02<00:00,  2.08s/it]\n"
     ]
    },
    {
     "name": "stdout",
     "output_type": "stream",
     "text": [
      "----------------------------\n",
      "Train_z, Test_z\n",
      "PCA: 0.933\n",
      "SVD: 0.9211\n",
      "NetG_fixD, Acc at sample 4 0.9692\n"
     ]
    },
    {
     "name": "stderr",
     "output_type": "stream",
     "text": [
      "extracting all features from dataset: 100%|██████████████████████████████████████████████| 2/2 [00:05<00:00,  2.62s/it]\n",
      "extracting all features from dataset: 100%|██████████████████████████████████████████████| 1/1 [00:02<00:00,  2.12s/it]\n"
     ]
    },
    {
     "name": "stdout",
     "output_type": "stream",
     "text": [
      "----------------------------\n",
      "Train_z, Test_z\n",
      "PCA: 0.9339\n",
      "SVD: 0.9216\n",
      "NetG_fixD, Acc at sample 5 0.9702\n"
     ]
    },
    {
     "name": "stderr",
     "output_type": "stream",
     "text": [
      "extracting all features from dataset: 100%|██████████████████████████████████████████████| 2/2 [00:05<00:00,  2.65s/it]\n",
      "extracting all features from dataset: 100%|██████████████████████████████████████████████| 1/1 [00:02<00:00,  2.06s/it]\n"
     ]
    },
    {
     "name": "stdout",
     "output_type": "stream",
     "text": [
      "----------------------------\n",
      "Train_z, Test_z\n",
      "PCA: 0.9339999999999999\n",
      "SVD: 0.9218999999999999\n",
      "NetG_fixD, Acc at sample 6 0.9691\n"
     ]
    },
    {
     "name": "stderr",
     "output_type": "stream",
     "text": [
      "extracting all features from dataset: 100%|██████████████████████████████████████████████| 2/2 [00:05<00:00,  2.68s/it]\n",
      "extracting all features from dataset: 100%|██████████████████████████████████████████████| 1/1 [00:02<00:00,  2.09s/it]\n"
     ]
    },
    {
     "name": "stdout",
     "output_type": "stream",
     "text": [
      "----------------------------\n",
      "Train_z, Test_z\n",
      "PCA: 0.9333\n",
      "SVD: 0.9197\n",
      "NetG_fixD, Acc at sample 7 0.9699\n"
     ]
    },
    {
     "name": "stderr",
     "output_type": "stream",
     "text": [
      "extracting all features from dataset: 100%|██████████████████████████████████████████████| 2/2 [00:05<00:00,  2.56s/it]\n",
      "extracting all features from dataset: 100%|██████████████████████████████████████████████| 1/1 [00:02<00:00,  2.03s/it]\n"
     ]
    },
    {
     "name": "stdout",
     "output_type": "stream",
     "text": [
      "----------------------------\n",
      "Train_z, Test_z\n",
      "PCA: 0.9326\n",
      "SVD: 0.919\n",
      "NetG_fixD, Acc at sample 8 0.9684\n"
     ]
    },
    {
     "name": "stderr",
     "output_type": "stream",
     "text": [
      "extracting all features from dataset: 100%|██████████████████████████████████████████████| 2/2 [00:05<00:00,  2.66s/it]\n",
      "extracting all features from dataset: 100%|██████████████████████████████████████████████| 1/1 [00:02<00:00,  2.09s/it]\n"
     ]
    },
    {
     "name": "stdout",
     "output_type": "stream",
     "text": [
      "----------------------------\n",
      "Train_z, Test_z\n",
      "PCA: 0.9338\n",
      "SVD: 0.9197\n",
      "NetG_fixD, Acc at sample 9 0.9703\n"
     ]
    },
    {
     "name": "stderr",
     "output_type": "stream",
     "text": [
      "extracting all features from dataset: 100%|██████████████████████████████████████████████| 2/2 [00:05<00:00,  2.63s/it]\n",
      "extracting all features from dataset: 100%|██████████████████████████████████████████████| 1/1 [00:02<00:00,  2.12s/it]\n"
     ]
    },
    {
     "name": "stdout",
     "output_type": "stream",
     "text": [
      "----------------------------\n",
      "Train_z, Test_z\n",
      "PCA: 0.9339999999999999\n",
      "SVD: 0.9188000000000001\n",
      "NetG_fixD, Acc at sample 10 0.9697\n"
     ]
    },
    {
     "name": "stderr",
     "output_type": "stream",
     "text": [
      "extracting all features from dataset: 100%|██████████████████████████████████████████████| 2/2 [00:05<00:00,  2.69s/it]\n",
      "extracting all features from dataset: 100%|██████████████████████████████████████████████| 1/1 [00:02<00:00,  2.09s/it]\n"
     ]
    },
    {
     "name": "stdout",
     "output_type": "stream",
     "text": [
      "----------------------------\n",
      "Train_z, Test_z\n",
      "PCA: 0.933\n",
      "SVD: 0.9208\n",
      "NetG_fixD, Acc at sample 11 0.9694\n"
     ]
    },
    {
     "name": "stderr",
     "output_type": "stream",
     "text": [
      "extracting all features from dataset: 100%|██████████████████████████████████████████████| 2/2 [00:05<00:00,  2.61s/it]\n",
      "extracting all features from dataset: 100%|██████████████████████████████████████████████| 1/1 [00:01<00:00,  1.66s/it]\n"
     ]
    },
    {
     "name": "stdout",
     "output_type": "stream",
     "text": [
      "----------------------------\n",
      "Train_z, Test_z\n",
      "PCA: 0.9328\n",
      "SVD: 0.9197\n",
      "NetG_fixD, Acc at sample 12 0.9693\n"
     ]
    },
    {
     "name": "stderr",
     "output_type": "stream",
     "text": [
      "extracting all features from dataset: 100%|██████████████████████████████████████████████| 2/2 [00:05<00:00,  2.52s/it]\n",
      "extracting all features from dataset: 100%|██████████████████████████████████████████████| 1/1 [00:02<00:00,  2.07s/it]\n"
     ]
    },
    {
     "name": "stdout",
     "output_type": "stream",
     "text": [
      "----------------------------\n",
      "Train_z, Test_z\n",
      "PCA: 0.931\n",
      "SVD: 0.9183\n",
      "NetG_fixD, Acc at sample 13 0.969\n"
     ]
    },
    {
     "name": "stderr",
     "output_type": "stream",
     "text": [
      "extracting all features from dataset: 100%|██████████████████████████████████████████████| 2/2 [00:05<00:00,  2.68s/it]\n",
      "extracting all features from dataset: 100%|██████████████████████████████████████████████| 1/1 [00:02<00:00,  2.04s/it]\n"
     ]
    },
    {
     "name": "stdout",
     "output_type": "stream",
     "text": [
      "----------------------------\n",
      "Train_z, Test_z\n",
      "PCA: 0.9338\n",
      "SVD: 0.9218999999999999\n",
      "NetG_fixD, Acc at sample 14 0.9687\n"
     ]
    },
    {
     "name": "stderr",
     "output_type": "stream",
     "text": [
      "extracting all features from dataset: 100%|██████████████████████████████████████████████| 2/2 [00:05<00:00,  2.70s/it]\n",
      "extracting all features from dataset: 100%|██████████████████████████████████████████████| 1/1 [00:01<00:00,  1.98s/it]\n"
     ]
    },
    {
     "name": "stdout",
     "output_type": "stream",
     "text": [
      "----------------------------\n",
      "Train_z, Test_z\n",
      "PCA: 0.933\n",
      "SVD: 0.9206\n",
      "NetG_fixD, Acc at sample 15 0.9696\n"
     ]
    },
    {
     "name": "stderr",
     "output_type": "stream",
     "text": [
      "extracting all features from dataset: 100%|██████████████████████████████████████████████| 2/2 [00:05<00:00,  2.57s/it]\n",
      "extracting all features from dataset: 100%|██████████████████████████████████████████████| 1/1 [00:02<00:00,  2.07s/it]\n"
     ]
    },
    {
     "name": "stdout",
     "output_type": "stream",
     "text": [
      "----------------------------\n",
      "Train_z, Test_z\n",
      "PCA: 0.9341\n",
      "SVD: 0.9205\n",
      "NetG_fixD, Acc at sample 16 0.9689\n"
     ]
    },
    {
     "name": "stderr",
     "output_type": "stream",
     "text": [
      "extracting all features from dataset: 100%|██████████████████████████████████████████████| 2/2 [00:05<00:00,  2.70s/it]\n",
      "extracting all features from dataset: 100%|██████████████████████████████████████████████| 1/1 [00:02<00:00,  2.01s/it]\n"
     ]
    },
    {
     "name": "stdout",
     "output_type": "stream",
     "text": [
      "----------------------------\n",
      "Train_z, Test_z\n",
      "PCA: 0.9319\n",
      "SVD: 0.9188000000000001\n",
      "NetG_fixD, Acc at sample 17 0.9688\n"
     ]
    },
    {
     "name": "stderr",
     "output_type": "stream",
     "text": [
      "extracting all features from dataset: 100%|██████████████████████████████████████████████| 2/2 [00:05<00:00,  2.67s/it]\n",
      "extracting all features from dataset: 100%|██████████████████████████████████████████████| 1/1 [00:02<00:00,  2.03s/it]\n"
     ]
    },
    {
     "name": "stdout",
     "output_type": "stream",
     "text": [
      "----------------------------\n",
      "Train_z, Test_z\n",
      "PCA: 0.9332\n",
      "SVD: 0.9207\n",
      "NetG_fixD, Acc at sample 18 0.9695\n"
     ]
    },
    {
     "name": "stderr",
     "output_type": "stream",
     "text": [
      "extracting all features from dataset: 100%|██████████████████████████████████████████████| 2/2 [00:05<00:00,  2.65s/it]\n",
      "extracting all features from dataset: 100%|██████████████████████████████████████████████| 1/1 [00:02<00:00,  2.14s/it]\n"
     ]
    },
    {
     "name": "stdout",
     "output_type": "stream",
     "text": [
      "----------------------------\n",
      "Train_z, Test_z\n",
      "PCA: 0.9327\n",
      "SVD: 0.9188000000000001\n",
      "NetG_fixD, Acc at sample 19 0.9699\n"
     ]
    },
    {
     "name": "stderr",
     "output_type": "stream",
     "text": [
      "extracting all features from dataset: 100%|██████████████████████████████████████████████| 2/2 [00:05<00:00,  2.66s/it]\n",
      "extracting all features from dataset: 100%|██████████████████████████████████████████████| 1/1 [00:02<00:00,  2.06s/it]\n"
     ]
    },
    {
     "name": "stdout",
     "output_type": "stream",
     "text": [
      "----------------------------\n",
      "Train_z, Test_z\n",
      "PCA: 0.9339999999999999\n",
      "SVD: 0.9212\n",
      "NetG_fixD, Acc at sample 20 0.9697\n",
      "0.9703 0.9684 0.9693250000000001 2.578750000000012e-07\n"
     ]
    }
   ],
   "source": [
    "# sample 20 times of NetG at final radius, NetD is fixed\n",
    "from sklearn.neighbors import KNeighborsClassifier \n",
    "Acc_results_G_sample3 = []\n",
    "\n",
    "for _ in range(sample_num):\n",
    "    #acc at first\n",
    "    net_noise = get_noise(DATASET, device, LABEL)\n",
    "    fed_state_dict = get_netG(netD,netV,net_noise,r_list[3])\n",
    "    netG.load_state_dict(fed_state_dict)\n",
    "    \n",
    "    train_X, train_Z, train_X_bar, train_Z_bar, train_labels = extract_features2(trainloader, netG, netD)\n",
    "\n",
    "    test_X, test_Z, test_X_bar, test_Z_bar, test_labels = extract_features2(testloader, netG, netD)\n",
    "\n",
    "    print(\"----------------------------\")\n",
    "    print(\"Train_z, Test_z\")\n",
    "    nearsub(n_comp, train_Z, train_labels, test_Z, test_labels)\n",
    "\n",
    "    knn= KNeighborsClassifier(n_neighbors=10) \n",
    "\n",
    "    knn.fit(train_Z,train_labels) \n",
    "    knn.score(test_Z_bar,test_labels) \n",
    "\n",
    "    y_predict = knn.predict(test_Z_bar) \n",
    "\n",
    "    count =0\n",
    "    for k in range(10000):\n",
    "        if y_predict[k] == test_labels[k]:\n",
    "            count +=1\n",
    "    print('NetG_fixD, Acc at sample',_+1,count/10000)\n",
    "    Acc_results_G_sample3.append(count/10000)\n",
    "    \n",
    "print(max(Acc_results_G_sample3),min(Acc_results_G_sample3),np.mean(Acc_results_G_sample3),np.var(Acc_results_G_sample3))"
   ]
  },
  {
   "cell_type": "code",
   "execution_count": 14,
   "id": "c66ccac4",
   "metadata": {},
   "outputs": [
    {
     "name": "stderr",
     "output_type": "stream",
     "text": [
      "extracting all features from dataset: 100%|██████████████████████████████████████████████| 2/2 [00:05<00:00,  2.54s/it]\n",
      "extracting all features from dataset: 100%|██████████████████████████████████████████████| 1/1 [00:02<00:00,  2.09s/it]\n"
     ]
    },
    {
     "name": "stdout",
     "output_type": "stream",
     "text": [
      "----------------------------\n",
      "Train_z, Test_z\n",
      "PCA: 0.9359999999999999\n",
      "SVD: 0.9285\n",
      "NetG_fixD, Acc at sample 1 0.9695\n"
     ]
    },
    {
     "name": "stderr",
     "output_type": "stream",
     "text": [
      "extracting all features from dataset: 100%|██████████████████████████████████████████████| 2/2 [00:05<00:00,  2.59s/it]\n",
      "extracting all features from dataset: 100%|██████████████████████████████████████████████| 1/1 [00:02<00:00,  2.08s/it]\n"
     ]
    },
    {
     "name": "stdout",
     "output_type": "stream",
     "text": [
      "----------------------------\n",
      "Train_z, Test_z\n",
      "PCA: 0.9355\n",
      "SVD: 0.9244\n",
      "NetG_fixD, Acc at sample 2 0.9685\n"
     ]
    },
    {
     "name": "stderr",
     "output_type": "stream",
     "text": [
      "extracting all features from dataset: 100%|██████████████████████████████████████████████| 2/2 [00:05<00:00,  2.60s/it]\n",
      "extracting all features from dataset: 100%|██████████████████████████████████████████████| 1/1 [00:02<00:00,  2.11s/it]\n"
     ]
    },
    {
     "name": "stdout",
     "output_type": "stream",
     "text": [
      "----------------------------\n",
      "Train_z, Test_z\n",
      "PCA: 0.9339\n",
      "SVD: 0.9218\n",
      "NetG_fixD, Acc at sample 3 0.9687\n"
     ]
    },
    {
     "name": "stderr",
     "output_type": "stream",
     "text": [
      "extracting all features from dataset: 100%|██████████████████████████████████████████████| 2/2 [00:05<00:00,  2.57s/it]\n",
      "extracting all features from dataset: 100%|██████████████████████████████████████████████| 1/1 [00:02<00:00,  2.15s/it]\n"
     ]
    },
    {
     "name": "stdout",
     "output_type": "stream",
     "text": [
      "----------------------------\n",
      "Train_z, Test_z\n",
      "PCA: 0.9313\n",
      "SVD: 0.9235\n",
      "NetG_fixD, Acc at sample 4 0.968\n"
     ]
    },
    {
     "name": "stderr",
     "output_type": "stream",
     "text": [
      "extracting all features from dataset: 100%|██████████████████████████████████████████████| 2/2 [00:05<00:00,  2.67s/it]\n",
      "extracting all features from dataset: 100%|██████████████████████████████████████████████| 1/1 [00:02<00:00,  2.16s/it]\n"
     ]
    },
    {
     "name": "stdout",
     "output_type": "stream",
     "text": [
      "----------------------------\n",
      "Train_z, Test_z\n",
      "PCA: 0.9299999999999999\n",
      "SVD: 0.922\n",
      "NetG_fixD, Acc at sample 5 0.9674\n"
     ]
    },
    {
     "name": "stderr",
     "output_type": "stream",
     "text": [
      "extracting all features from dataset: 100%|██████████████████████████████████████████████| 2/2 [00:05<00:00,  2.74s/it]\n",
      "extracting all features from dataset: 100%|██████████████████████████████████████████████| 1/1 [00:02<00:00,  2.15s/it]\n"
     ]
    },
    {
     "name": "stdout",
     "output_type": "stream",
     "text": [
      "----------------------------\n",
      "Train_z, Test_z\n",
      "PCA: 0.9305\n",
      "SVD: 0.9218\n",
      "NetG_fixD, Acc at sample 6 0.9669\n"
     ]
    },
    {
     "name": "stderr",
     "output_type": "stream",
     "text": [
      "extracting all features from dataset: 100%|██████████████████████████████████████████████| 2/2 [00:05<00:00,  2.54s/it]\n",
      "extracting all features from dataset: 100%|██████████████████████████████████████████████| 1/1 [00:02<00:00,  2.14s/it]\n"
     ]
    },
    {
     "name": "stdout",
     "output_type": "stream",
     "text": [
      "----------------------------\n",
      "Train_z, Test_z\n",
      "PCA: 0.9312\n",
      "SVD: 0.9194\n",
      "NetG_fixD, Acc at sample 7 0.9672\n"
     ]
    },
    {
     "name": "stderr",
     "output_type": "stream",
     "text": [
      "extracting all features from dataset: 100%|██████████████████████████████████████████████| 2/2 [00:05<00:00,  2.68s/it]\n",
      "extracting all features from dataset: 100%|██████████████████████████████████████████████| 1/1 [00:02<00:00,  2.18s/it]\n"
     ]
    },
    {
     "name": "stdout",
     "output_type": "stream",
     "text": [
      "----------------------------\n",
      "Train_z, Test_z\n",
      "PCA: 0.9349\n",
      "SVD: 0.9266\n",
      "NetG_fixD, Acc at sample 8 0.9684\n"
     ]
    },
    {
     "name": "stderr",
     "output_type": "stream",
     "text": [
      "extracting all features from dataset: 100%|██████████████████████████████████████████████| 2/2 [00:05<00:00,  2.60s/it]\n",
      "extracting all features from dataset: 100%|██████████████████████████████████████████████| 1/1 [00:02<00:00,  2.09s/it]\n"
     ]
    },
    {
     "name": "stdout",
     "output_type": "stream",
     "text": [
      "----------------------------\n",
      "Train_z, Test_z\n",
      "PCA: 0.9339\n",
      "SVD: 0.9218\n",
      "NetG_fixD, Acc at sample 9 0.9682\n"
     ]
    },
    {
     "name": "stderr",
     "output_type": "stream",
     "text": [
      "extracting all features from dataset: 100%|██████████████████████████████████████████████| 2/2 [00:05<00:00,  2.70s/it]\n",
      "extracting all features from dataset: 100%|██████████████████████████████████████████████| 1/1 [00:02<00:00,  2.28s/it]\n"
     ]
    },
    {
     "name": "stdout",
     "output_type": "stream",
     "text": [
      "----------------------------\n",
      "Train_z, Test_z\n",
      "PCA: 0.9352\n",
      "SVD: 0.924\n",
      "NetG_fixD, Acc at sample 10 0.9692\n"
     ]
    },
    {
     "name": "stderr",
     "output_type": "stream",
     "text": [
      "extracting all features from dataset: 100%|██████████████████████████████████████████████| 2/2 [00:05<00:00,  2.71s/it]\n",
      "extracting all features from dataset: 100%|██████████████████████████████████████████████| 1/1 [00:02<00:00,  2.06s/it]\n"
     ]
    },
    {
     "name": "stdout",
     "output_type": "stream",
     "text": [
      "----------------------------\n",
      "Train_z, Test_z\n",
      "PCA: 0.9351\n",
      "SVD: 0.9226\n",
      "NetG_fixD, Acc at sample 11 0.9695\n"
     ]
    },
    {
     "name": "stderr",
     "output_type": "stream",
     "text": [
      "extracting all features from dataset: 100%|██████████████████████████████████████████████| 2/2 [00:05<00:00,  2.65s/it]\n",
      "extracting all features from dataset: 100%|██████████████████████████████████████████████| 1/1 [00:02<00:00,  2.11s/it]\n"
     ]
    },
    {
     "name": "stdout",
     "output_type": "stream",
     "text": [
      "----------------------------\n",
      "Train_z, Test_z\n",
      "PCA: 0.9331\n",
      "SVD: 0.9247\n",
      "NetG_fixD, Acc at sample 12 0.967\n"
     ]
    },
    {
     "name": "stderr",
     "output_type": "stream",
     "text": [
      "extracting all features from dataset: 100%|██████████████████████████████████████████████| 2/2 [00:05<00:00,  2.65s/it]\n",
      "extracting all features from dataset: 100%|██████████████████████████████████████████████| 1/1 [00:02<00:00,  2.11s/it]\n"
     ]
    },
    {
     "name": "stdout",
     "output_type": "stream",
     "text": [
      "----------------------------\n",
      "Train_z, Test_z\n",
      "PCA: 0.9314\n",
      "SVD: 0.9213\n",
      "NetG_fixD, Acc at sample 13 0.9685\n"
     ]
    },
    {
     "name": "stderr",
     "output_type": "stream",
     "text": [
      "extracting all features from dataset: 100%|██████████████████████████████████████████████| 2/2 [00:05<00:00,  2.65s/it]\n",
      "extracting all features from dataset: 100%|██████████████████████████████████████████████| 1/1 [00:02<00:00,  2.02s/it]\n"
     ]
    },
    {
     "name": "stdout",
     "output_type": "stream",
     "text": [
      "----------------------------\n",
      "Train_z, Test_z\n",
      "PCA: 0.9369\n",
      "SVD: 0.9274\n",
      "NetG_fixD, Acc at sample 14 0.9665\n"
     ]
    },
    {
     "name": "stderr",
     "output_type": "stream",
     "text": [
      "extracting all features from dataset: 100%|██████████████████████████████████████████████| 2/2 [00:05<00:00,  2.77s/it]\n",
      "extracting all features from dataset: 100%|██████████████████████████████████████████████| 1/1 [00:02<00:00,  2.19s/it]\n"
     ]
    },
    {
     "name": "stdout",
     "output_type": "stream",
     "text": [
      "----------------------------\n",
      "Train_z, Test_z\n",
      "PCA: 0.9344\n",
      "SVD: 0.9257\n",
      "NetG_fixD, Acc at sample 15 0.9685\n"
     ]
    },
    {
     "name": "stderr",
     "output_type": "stream",
     "text": [
      "extracting all features from dataset: 100%|██████████████████████████████████████████████| 2/2 [00:05<00:00,  2.64s/it]\n",
      "extracting all features from dataset: 100%|██████████████████████████████████████████████| 1/1 [00:02<00:00,  2.10s/it]\n"
     ]
    },
    {
     "name": "stdout",
     "output_type": "stream",
     "text": [
      "----------------------------\n",
      "Train_z, Test_z\n",
      "PCA: 0.9338\n",
      "SVD: 0.9247\n",
      "NetG_fixD, Acc at sample 16 0.9673\n"
     ]
    },
    {
     "name": "stderr",
     "output_type": "stream",
     "text": [
      "extracting all features from dataset: 100%|██████████████████████████████████████████████| 2/2 [00:05<00:00,  2.67s/it]\n",
      "extracting all features from dataset: 100%|██████████████████████████████████████████████| 1/1 [00:02<00:00,  2.10s/it]\n"
     ]
    },
    {
     "name": "stdout",
     "output_type": "stream",
     "text": [
      "----------------------------\n",
      "Train_z, Test_z\n",
      "PCA: 0.9345\n",
      "SVD: 0.9238\n",
      "NetG_fixD, Acc at sample 17 0.9685\n"
     ]
    },
    {
     "name": "stderr",
     "output_type": "stream",
     "text": [
      "extracting all features from dataset: 100%|██████████████████████████████████████████████| 2/2 [00:05<00:00,  2.68s/it]\n",
      "extracting all features from dataset: 100%|██████████████████████████████████████████████| 1/1 [00:02<00:00,  2.08s/it]\n"
     ]
    },
    {
     "name": "stdout",
     "output_type": "stream",
     "text": [
      "----------------------------\n",
      "Train_z, Test_z\n",
      "PCA: 0.9354\n",
      "SVD: 0.9248\n",
      "NetG_fixD, Acc at sample 18 0.9684\n"
     ]
    },
    {
     "name": "stderr",
     "output_type": "stream",
     "text": [
      "extracting all features from dataset: 100%|██████████████████████████████████████████████| 2/2 [00:05<00:00,  2.65s/it]\n",
      "extracting all features from dataset: 100%|██████████████████████████████████████████████| 1/1 [00:02<00:00,  2.08s/it]\n"
     ]
    },
    {
     "name": "stdout",
     "output_type": "stream",
     "text": [
      "----------------------------\n",
      "Train_z, Test_z\n",
      "PCA: 0.9339999999999999\n",
      "SVD: 0.9243\n",
      "NetG_fixD, Acc at sample 19 0.9675\n"
     ]
    },
    {
     "name": "stderr",
     "output_type": "stream",
     "text": [
      "extracting all features from dataset: 100%|██████████████████████████████████████████████| 2/2 [00:05<00:00,  2.80s/it]\n",
      "extracting all features from dataset: 100%|██████████████████████████████████████████████| 1/1 [00:02<00:00,  2.13s/it]\n"
     ]
    },
    {
     "name": "stdout",
     "output_type": "stream",
     "text": [
      "----------------------------\n",
      "Train_z, Test_z\n",
      "PCA: 0.9303\n",
      "SVD: 0.9229\n",
      "NetG_fixD, Acc at sample 20 0.9675\n",
      "0.9695 0.9665 0.96806 7.084000000000061e-07\n"
     ]
    }
   ],
   "source": [
    "# sample 20 times of NetG at final radius, NetD is fixed\n",
    "from sklearn.neighbors import KNeighborsClassifier \n",
    "Acc_results_G_sample4 = []\n",
    "\n",
    "for _ in range(sample_num):\n",
    "    #acc at first\n",
    "    net_noise = get_noise(DATASET, device, LABEL)\n",
    "    fed_state_dict = get_netG(netD,netV,net_noise,r_list[4])\n",
    "    netG.load_state_dict(fed_state_dict)\n",
    "    \n",
    "    train_X, train_Z, train_X_bar, train_Z_bar, train_labels = extract_features2(trainloader, netG, netD)\n",
    "\n",
    "    test_X, test_Z, test_X_bar, test_Z_bar, test_labels = extract_features2(testloader, netG, netD)\n",
    "\n",
    "    print(\"----------------------------\")\n",
    "    print(\"Train_z, Test_z\")\n",
    "    nearsub(n_comp, train_Z, train_labels, test_Z, test_labels)\n",
    "\n",
    "    knn= KNeighborsClassifier(n_neighbors=10) \n",
    "\n",
    "    knn.fit(train_Z,train_labels) \n",
    "    knn.score(test_Z_bar,test_labels) \n",
    "\n",
    "    y_predict = knn.predict(test_Z_bar) \n",
    "\n",
    "    count =0\n",
    "    for k in range(10000):\n",
    "        if y_predict[k] == test_labels[k]:\n",
    "            count +=1\n",
    "    print('NetG_fixD, Acc at sample',_+1,count/10000)\n",
    "    Acc_results_G_sample4.append(count/10000)\n",
    "    \n",
    "print(max(Acc_results_G_sample4),min(Acc_results_G_sample4),np.mean(Acc_results_G_sample4),np.var(Acc_results_G_sample4))"
   ]
  },
  {
   "cell_type": "code",
   "execution_count": 15,
   "id": "dfa16dcf",
   "metadata": {},
   "outputs": [
    {
     "name": "stderr",
     "output_type": "stream",
     "text": [
      "extracting all features from dataset: 100%|██████████████████████████████████████████████| 2/2 [00:05<00:00,  2.58s/it]\n",
      "extracting all features from dataset: 100%|██████████████████████████████████████████████| 1/1 [00:02<00:00,  2.17s/it]\n"
     ]
    },
    {
     "name": "stdout",
     "output_type": "stream",
     "text": [
      "----------------------------\n",
      "Train_z, Test_z\n",
      "PCA: 0.9325\n",
      "SVD: 0.9259\n",
      "NetG_fixD, Acc at sample 1 0.9602\n"
     ]
    },
    {
     "name": "stderr",
     "output_type": "stream",
     "text": [
      "extracting all features from dataset: 100%|██████████████████████████████████████████████| 2/2 [00:05<00:00,  2.58s/it]\n",
      "extracting all features from dataset: 100%|██████████████████████████████████████████████| 1/1 [00:02<00:00,  2.12s/it]\n"
     ]
    },
    {
     "name": "stdout",
     "output_type": "stream",
     "text": [
      "----------------------------\n",
      "Train_z, Test_z\n",
      "PCA: 0.9316\n",
      "SVD: 0.9227\n",
      "NetG_fixD, Acc at sample 2 0.9606\n"
     ]
    },
    {
     "name": "stderr",
     "output_type": "stream",
     "text": [
      "extracting all features from dataset: 100%|██████████████████████████████████████████████| 2/2 [00:05<00:00,  2.73s/it]\n",
      "extracting all features from dataset: 100%|██████████████████████████████████████████████| 1/1 [00:02<00:00,  2.08s/it]\n"
     ]
    },
    {
     "name": "stdout",
     "output_type": "stream",
     "text": [
      "----------------------------\n",
      "Train_z, Test_z\n",
      "PCA: 0.9313\n",
      "SVD: 0.9242\n",
      "NetG_fixD, Acc at sample 3 0.9586\n"
     ]
    },
    {
     "name": "stderr",
     "output_type": "stream",
     "text": [
      "extracting all features from dataset: 100%|██████████████████████████████████████████████| 2/2 [00:04<00:00,  2.50s/it]\n",
      "extracting all features from dataset: 100%|██████████████████████████████████████████████| 1/1 [00:02<00:00,  2.06s/it]\n"
     ]
    },
    {
     "name": "stdout",
     "output_type": "stream",
     "text": [
      "----------------------------\n",
      "Train_z, Test_z\n",
      "PCA: 0.9286\n",
      "SVD: 0.9237\n",
      "NetG_fixD, Acc at sample 4 0.956\n"
     ]
    },
    {
     "name": "stderr",
     "output_type": "stream",
     "text": [
      "extracting all features from dataset: 100%|██████████████████████████████████████████████| 2/2 [00:05<00:00,  2.59s/it]\n",
      "extracting all features from dataset: 100%|██████████████████████████████████████████████| 1/1 [00:02<00:00,  2.04s/it]\n"
     ]
    },
    {
     "name": "stdout",
     "output_type": "stream",
     "text": [
      "----------------------------\n",
      "Train_z, Test_z\n",
      "PCA: 0.9335\n",
      "SVD: 0.9271\n",
      "NetG_fixD, Acc at sample 5 0.9586\n"
     ]
    },
    {
     "name": "stderr",
     "output_type": "stream",
     "text": [
      "extracting all features from dataset: 100%|██████████████████████████████████████████████| 2/2 [00:05<00:00,  2.57s/it]\n",
      "extracting all features from dataset: 100%|██████████████████████████████████████████████| 1/1 [00:02<00:00,  2.12s/it]\n"
     ]
    },
    {
     "name": "stdout",
     "output_type": "stream",
     "text": [
      "----------------------------\n",
      "Train_z, Test_z\n",
      "PCA: 0.9346\n",
      "SVD: 0.9291\n",
      "NetG_fixD, Acc at sample 6 0.9625\n"
     ]
    },
    {
     "name": "stderr",
     "output_type": "stream",
     "text": [
      "extracting all features from dataset: 100%|██████████████████████████████████████████████| 2/2 [00:05<00:00,  2.55s/it]\n",
      "extracting all features from dataset: 100%|██████████████████████████████████████████████| 1/1 [00:02<00:00,  2.05s/it]\n"
     ]
    },
    {
     "name": "stdout",
     "output_type": "stream",
     "text": [
      "----------------------------\n",
      "Train_z, Test_z\n",
      "PCA: 0.9315\n",
      "SVD: 0.924\n",
      "NetG_fixD, Acc at sample 7 0.9593\n"
     ]
    },
    {
     "name": "stderr",
     "output_type": "stream",
     "text": [
      "extracting all features from dataset: 100%|██████████████████████████████████████████████| 2/2 [00:05<00:00,  2.54s/it]\n",
      "extracting all features from dataset: 100%|██████████████████████████████████████████████| 1/1 [00:02<00:00,  2.04s/it]\n"
     ]
    },
    {
     "name": "stdout",
     "output_type": "stream",
     "text": [
      "----------------------------\n",
      "Train_z, Test_z\n",
      "PCA: 0.9311\n",
      "SVD: 0.922\n",
      "NetG_fixD, Acc at sample 8 0.9518\n"
     ]
    },
    {
     "name": "stderr",
     "output_type": "stream",
     "text": [
      "extracting all features from dataset: 100%|██████████████████████████████████████████████| 2/2 [00:05<00:00,  2.56s/it]\n",
      "extracting all features from dataset: 100%|██████████████████████████████████████████████| 1/1 [00:02<00:00,  2.01s/it]\n"
     ]
    },
    {
     "name": "stdout",
     "output_type": "stream",
     "text": [
      "----------------------------\n",
      "Train_z, Test_z\n",
      "PCA: 0.9354\n",
      "SVD: 0.9286\n",
      "NetG_fixD, Acc at sample 9 0.9577\n"
     ]
    },
    {
     "name": "stderr",
     "output_type": "stream",
     "text": [
      "extracting all features from dataset: 100%|██████████████████████████████████████████████| 2/2 [00:05<00:00,  2.54s/it]\n",
      "extracting all features from dataset: 100%|██████████████████████████████████████████████| 1/1 [00:02<00:00,  2.05s/it]\n"
     ]
    },
    {
     "name": "stdout",
     "output_type": "stream",
     "text": [
      "----------------------------\n",
      "Train_z, Test_z\n",
      "PCA: 0.9329\n",
      "SVD: 0.9264\n",
      "NetG_fixD, Acc at sample 10 0.9603\n"
     ]
    },
    {
     "name": "stderr",
     "output_type": "stream",
     "text": [
      "extracting all features from dataset: 100%|██████████████████████████████████████████████| 2/2 [00:05<00:00,  2.51s/it]\n",
      "extracting all features from dataset: 100%|██████████████████████████████████████████████| 1/1 [00:01<00:00,  1.99s/it]\n"
     ]
    },
    {
     "name": "stdout",
     "output_type": "stream",
     "text": [
      "----------------------------\n",
      "Train_z, Test_z\n",
      "PCA: 0.9378\n",
      "SVD: 0.9295\n",
      "NetG_fixD, Acc at sample 11 0.9638\n"
     ]
    },
    {
     "name": "stderr",
     "output_type": "stream",
     "text": [
      "extracting all features from dataset: 100%|██████████████████████████████████████████████| 2/2 [00:05<00:00,  2.63s/it]\n",
      "extracting all features from dataset: 100%|██████████████████████████████████████████████| 1/1 [00:02<00:00,  2.06s/it]\n"
     ]
    },
    {
     "name": "stdout",
     "output_type": "stream",
     "text": [
      "----------------------------\n",
      "Train_z, Test_z\n",
      "PCA: 0.9331\n",
      "SVD: 0.9278\n",
      "NetG_fixD, Acc at sample 12 0.9573\n"
     ]
    },
    {
     "name": "stderr",
     "output_type": "stream",
     "text": [
      "extracting all features from dataset: 100%|██████████████████████████████████████████████| 2/2 [00:05<00:00,  2.55s/it]\n",
      "extracting all features from dataset: 100%|██████████████████████████████████████████████| 1/1 [00:02<00:00,  2.05s/it]\n"
     ]
    },
    {
     "name": "stdout",
     "output_type": "stream",
     "text": [
      "----------------------------\n",
      "Train_z, Test_z\n",
      "PCA: 0.9374\n",
      "SVD: 0.9287\n",
      "NetG_fixD, Acc at sample 13 0.9593\n"
     ]
    },
    {
     "name": "stderr",
     "output_type": "stream",
     "text": [
      "extracting all features from dataset: 100%|██████████████████████████████████████████████| 2/2 [00:05<00:00,  2.72s/it]\n",
      "extracting all features from dataset: 100%|██████████████████████████████████████████████| 1/1 [00:02<00:00,  2.07s/it]\n"
     ]
    },
    {
     "name": "stdout",
     "output_type": "stream",
     "text": [
      "----------------------------\n",
      "Train_z, Test_z\n",
      "PCA: 0.9292\n",
      "SVD: 0.9228\n",
      "NetG_fixD, Acc at sample 14 0.9579\n"
     ]
    },
    {
     "name": "stderr",
     "output_type": "stream",
     "text": [
      "extracting all features from dataset: 100%|██████████████████████████████████████████████| 2/2 [00:05<00:00,  2.66s/it]\n",
      "extracting all features from dataset: 100%|██████████████████████████████████████████████| 1/1 [00:02<00:00,  2.17s/it]\n"
     ]
    },
    {
     "name": "stdout",
     "output_type": "stream",
     "text": [
      "----------------------------\n",
      "Train_z, Test_z\n",
      "PCA: 0.9287\n",
      "SVD: 0.9223\n",
      "NetG_fixD, Acc at sample 15 0.9558\n"
     ]
    },
    {
     "name": "stderr",
     "output_type": "stream",
     "text": [
      "extracting all features from dataset: 100%|██████████████████████████████████████████████| 2/2 [00:05<00:00,  2.71s/it]\n",
      "extracting all features from dataset: 100%|██████████████████████████████████████████████| 1/1 [00:02<00:00,  2.13s/it]\n"
     ]
    },
    {
     "name": "stdout",
     "output_type": "stream",
     "text": [
      "----------------------------\n",
      "Train_z, Test_z\n",
      "PCA: 0.9321\n",
      "SVD: 0.9268\n",
      "NetG_fixD, Acc at sample 16 0.9566\n"
     ]
    },
    {
     "name": "stderr",
     "output_type": "stream",
     "text": [
      "extracting all features from dataset: 100%|██████████████████████████████████████████████| 2/2 [00:05<00:00,  2.60s/it]\n",
      "extracting all features from dataset: 100%|██████████████████████████████████████████████| 1/1 [00:02<00:00,  2.15s/it]\n"
     ]
    },
    {
     "name": "stdout",
     "output_type": "stream",
     "text": [
      "----------------------------\n",
      "Train_z, Test_z\n",
      "PCA: 0.9402\n",
      "SVD: 0.9345\n",
      "NetG_fixD, Acc at sample 17 0.96\n"
     ]
    },
    {
     "name": "stderr",
     "output_type": "stream",
     "text": [
      "extracting all features from dataset: 100%|██████████████████████████████████████████████| 2/2 [00:05<00:00,  2.72s/it]\n",
      "extracting all features from dataset: 100%|██████████████████████████████████████████████| 1/1 [00:02<00:00,  2.07s/it]\n"
     ]
    },
    {
     "name": "stdout",
     "output_type": "stream",
     "text": [
      "----------------------------\n",
      "Train_z, Test_z\n",
      "PCA: 0.9254\n",
      "SVD: 0.9192\n",
      "NetG_fixD, Acc at sample 18 0.9532\n"
     ]
    },
    {
     "name": "stderr",
     "output_type": "stream",
     "text": [
      "extracting all features from dataset: 100%|██████████████████████████████████████████████| 2/2 [00:04<00:00,  2.44s/it]\n",
      "extracting all features from dataset: 100%|██████████████████████████████████████████████| 1/1 [00:02<00:00,  2.07s/it]\n"
     ]
    },
    {
     "name": "stdout",
     "output_type": "stream",
     "text": [
      "----------------------------\n",
      "Train_z, Test_z\n",
      "PCA: 0.9315\n",
      "SVD: 0.9251\n",
      "NetG_fixD, Acc at sample 19 0.9523\n"
     ]
    },
    {
     "name": "stderr",
     "output_type": "stream",
     "text": [
      "extracting all features from dataset: 100%|██████████████████████████████████████████████| 2/2 [00:05<00:00,  2.53s/it]\n",
      "extracting all features from dataset: 100%|██████████████████████████████████████████████| 1/1 [00:02<00:00,  2.05s/it]\n"
     ]
    },
    {
     "name": "stdout",
     "output_type": "stream",
     "text": [
      "----------------------------\n",
      "Train_z, Test_z\n",
      "PCA: 0.9352\n",
      "SVD: 0.9286\n",
      "NetG_fixD, Acc at sample 20 0.9617\n",
      "0.9638 0.9518 0.958175 9.865875000000008e-06\n"
     ]
    }
   ],
   "source": [
    "# sample 20 times of NetG at final radius, NetD is fixed\n",
    "from sklearn.neighbors import KNeighborsClassifier \n",
    "Acc_results_G_sample5 = []\n",
    "\n",
    "for _ in range(sample_num):\n",
    "    #acc at first\n",
    "    net_noise = get_noise(DATASET, device, LABEL)\n",
    "    fed_state_dict = get_netG(netD,netV,net_noise,r_list[5])\n",
    "    netG.load_state_dict(fed_state_dict)\n",
    "    \n",
    "    train_X, train_Z, train_X_bar, train_Z_bar, train_labels = extract_features2(trainloader, netG, netD)\n",
    "\n",
    "    test_X, test_Z, test_X_bar, test_Z_bar, test_labels = extract_features2(testloader, netG, netD)\n",
    "\n",
    "    print(\"----------------------------\")\n",
    "    print(\"Train_z, Test_z\")\n",
    "    nearsub(n_comp, train_Z, train_labels, test_Z, test_labels)\n",
    "\n",
    "    knn= KNeighborsClassifier(n_neighbors=10) \n",
    "\n",
    "    knn.fit(train_Z,train_labels) \n",
    "    knn.score(test_Z_bar,test_labels) \n",
    "\n",
    "    y_predict = knn.predict(test_Z_bar) \n",
    "\n",
    "    count =0\n",
    "    for k in range(10000):\n",
    "        if y_predict[k] == test_labels[k]:\n",
    "            count +=1\n",
    "    print('NetG_fixD, Acc at sample',_+1,count/10000)\n",
    "    Acc_results_G_sample5.append(count/10000)\n",
    "    \n",
    "print(max(Acc_results_G_sample5),min(Acc_results_G_sample5),np.mean(Acc_results_G_sample5),np.var(Acc_results_G_sample5))"
   ]
  },
  {
   "cell_type": "code",
   "execution_count": 16,
   "id": "4594946a",
   "metadata": {},
   "outputs": [
    {
     "name": "stderr",
     "output_type": "stream",
     "text": [
      "extracting all features from dataset: 100%|██████████████████████████████████████████████| 2/2 [00:05<00:00,  2.55s/it]\n",
      "extracting all features from dataset: 100%|██████████████████████████████████████████████| 1/1 [00:02<00:00,  2.15s/it]\n"
     ]
    },
    {
     "name": "stdout",
     "output_type": "stream",
     "text": [
      "----------------------------\n",
      "Train_z, Test_z\n",
      "PCA: 0.9251\n",
      "SVD: 0.9196\n",
      "NetG_fixD, Acc at sample 1 0.9119\n"
     ]
    },
    {
     "name": "stderr",
     "output_type": "stream",
     "text": [
      "extracting all features from dataset: 100%|██████████████████████████████████████████████| 2/2 [00:04<00:00,  2.48s/it]\n",
      "extracting all features from dataset: 100%|██████████████████████████████████████████████| 1/1 [00:02<00:00,  2.01s/it]\n"
     ]
    },
    {
     "name": "stdout",
     "output_type": "stream",
     "text": [
      "----------------------------\n",
      "Train_z, Test_z\n",
      "PCA: 0.927\n",
      "SVD: 0.9249\n",
      "NetG_fixD, Acc at sample 2 0.847\n"
     ]
    },
    {
     "name": "stderr",
     "output_type": "stream",
     "text": [
      "extracting all features from dataset: 100%|██████████████████████████████████████████████| 2/2 [00:05<00:00,  2.61s/it]\n",
      "extracting all features from dataset: 100%|██████████████████████████████████████████████| 1/1 [00:02<00:00,  2.07s/it]\n"
     ]
    },
    {
     "name": "stdout",
     "output_type": "stream",
     "text": [
      "----------------------------\n",
      "Train_z, Test_z\n",
      "PCA: 0.9286\n",
      "SVD: 0.9206\n",
      "NetG_fixD, Acc at sample 3 0.8867\n"
     ]
    },
    {
     "name": "stderr",
     "output_type": "stream",
     "text": [
      "extracting all features from dataset: 100%|██████████████████████████████████████████████| 2/2 [00:05<00:00,  2.56s/it]\n",
      "extracting all features from dataset: 100%|██████████████████████████████████████████████| 1/1 [00:02<00:00,  2.13s/it]\n"
     ]
    },
    {
     "name": "stdout",
     "output_type": "stream",
     "text": [
      "----------------------------\n",
      "Train_z, Test_z\n",
      "PCA: 0.9359999999999999\n",
      "SVD: 0.929\n",
      "NetG_fixD, Acc at sample 4 0.7914\n"
     ]
    },
    {
     "name": "stderr",
     "output_type": "stream",
     "text": [
      "extracting all features from dataset: 100%|██████████████████████████████████████████████| 2/2 [00:05<00:00,  2.56s/it]\n",
      "extracting all features from dataset: 100%|██████████████████████████████████████████████| 1/1 [00:02<00:00,  2.14s/it]\n"
     ]
    },
    {
     "name": "stdout",
     "output_type": "stream",
     "text": [
      "----------------------------\n",
      "Train_z, Test_z\n",
      "PCA: 0.9328\n",
      "SVD: 0.9256\n",
      "NetG_fixD, Acc at sample 5 0.8082\n"
     ]
    },
    {
     "name": "stderr",
     "output_type": "stream",
     "text": [
      "extracting all features from dataset: 100%|██████████████████████████████████████████████| 2/2 [00:05<00:00,  2.59s/it]\n",
      "extracting all features from dataset: 100%|██████████████████████████████████████████████| 1/1 [00:02<00:00,  2.04s/it]\n"
     ]
    },
    {
     "name": "stdout",
     "output_type": "stream",
     "text": [
      "----------------------------\n",
      "Train_z, Test_z\n",
      "PCA: 0.9276\n",
      "SVD: 0.9232\n",
      "NetG_fixD, Acc at sample 6 0.784\n"
     ]
    },
    {
     "name": "stderr",
     "output_type": "stream",
     "text": [
      "extracting all features from dataset: 100%|██████████████████████████████████████████████| 2/2 [00:05<00:00,  2.63s/it]\n",
      "extracting all features from dataset: 100%|██████████████████████████████████████████████| 1/1 [00:02<00:00,  2.12s/it]\n"
     ]
    },
    {
     "name": "stdout",
     "output_type": "stream",
     "text": [
      "----------------------------\n",
      "Train_z, Test_z\n",
      "PCA: 0.9193\n",
      "SVD: 0.9139\n",
      "NetG_fixD, Acc at sample 7 0.8161\n"
     ]
    },
    {
     "name": "stderr",
     "output_type": "stream",
     "text": [
      "extracting all features from dataset: 100%|██████████████████████████████████████████████| 2/2 [00:05<00:00,  2.67s/it]\n",
      "extracting all features from dataset: 100%|██████████████████████████████████████████████| 1/1 [00:02<00:00,  2.16s/it]\n"
     ]
    },
    {
     "name": "stdout",
     "output_type": "stream",
     "text": [
      "----------------------------\n",
      "Train_z, Test_z\n",
      "PCA: 0.9299\n",
      "SVD: 0.927\n",
      "NetG_fixD, Acc at sample 8 0.8877\n"
     ]
    },
    {
     "name": "stderr",
     "output_type": "stream",
     "text": [
      "extracting all features from dataset: 100%|██████████████████████████████████████████████| 2/2 [00:05<00:00,  2.58s/it]\n",
      "extracting all features from dataset: 100%|██████████████████████████████████████████████| 1/1 [00:02<00:00,  2.07s/it]\n"
     ]
    },
    {
     "name": "stdout",
     "output_type": "stream",
     "text": [
      "----------------------------\n",
      "Train_z, Test_z\n",
      "PCA: 0.9255\n",
      "SVD: 0.9221\n",
      "NetG_fixD, Acc at sample 9 0.8751\n"
     ]
    },
    {
     "name": "stderr",
     "output_type": "stream",
     "text": [
      "extracting all features from dataset: 100%|██████████████████████████████████████████████| 2/2 [00:05<00:00,  2.53s/it]\n",
      "extracting all features from dataset: 100%|██████████████████████████████████████████████| 1/1 [00:02<00:00,  2.18s/it]\n"
     ]
    },
    {
     "name": "stdout",
     "output_type": "stream",
     "text": [
      "----------------------------\n",
      "Train_z, Test_z\n",
      "PCA: 0.9338\n",
      "SVD: 0.931\n",
      "NetG_fixD, Acc at sample 10 0.8793\n"
     ]
    },
    {
     "name": "stderr",
     "output_type": "stream",
     "text": [
      "extracting all features from dataset: 100%|██████████████████████████████████████████████| 2/2 [00:05<00:00,  2.54s/it]\n",
      "extracting all features from dataset: 100%|██████████████████████████████████████████████| 1/1 [00:02<00:00,  2.18s/it]\n"
     ]
    },
    {
     "name": "stdout",
     "output_type": "stream",
     "text": [
      "----------------------------\n",
      "Train_z, Test_z\n",
      "PCA: 0.9304\n",
      "SVD: 0.9268\n",
      "NetG_fixD, Acc at sample 11 0.8003\n"
     ]
    },
    {
     "name": "stderr",
     "output_type": "stream",
     "text": [
      "extracting all features from dataset: 100%|██████████████████████████████████████████████| 2/2 [00:04<00:00,  2.46s/it]\n",
      "extracting all features from dataset: 100%|██████████████████████████████████████████████| 1/1 [00:02<00:00,  2.11s/it]\n"
     ]
    },
    {
     "name": "stdout",
     "output_type": "stream",
     "text": [
      "----------------------------\n",
      "Train_z, Test_z\n",
      "PCA: 0.9227\n",
      "SVD: 0.9181\n",
      "NetG_fixD, Acc at sample 12 0.8377\n"
     ]
    },
    {
     "name": "stderr",
     "output_type": "stream",
     "text": [
      "extracting all features from dataset: 100%|██████████████████████████████████████████████| 2/2 [00:05<00:00,  2.61s/it]\n",
      "extracting all features from dataset: 100%|██████████████████████████████████████████████| 1/1 [00:02<00:00,  2.14s/it]\n"
     ]
    },
    {
     "name": "stdout",
     "output_type": "stream",
     "text": [
      "----------------------------\n",
      "Train_z, Test_z\n",
      "PCA: 0.926\n",
      "SVD: 0.9233\n",
      "NetG_fixD, Acc at sample 13 0.8696\n"
     ]
    },
    {
     "name": "stderr",
     "output_type": "stream",
     "text": [
      "extracting all features from dataset: 100%|██████████████████████████████████████████████| 2/2 [00:05<00:00,  2.57s/it]\n",
      "extracting all features from dataset: 100%|██████████████████████████████████████████████| 1/1 [00:01<00:00,  1.98s/it]\n"
     ]
    },
    {
     "name": "stdout",
     "output_type": "stream",
     "text": [
      "----------------------------\n",
      "Train_z, Test_z\n",
      "PCA: 0.9322\n",
      "SVD: 0.9245\n",
      "NetG_fixD, Acc at sample 14 0.812\n"
     ]
    },
    {
     "name": "stderr",
     "output_type": "stream",
     "text": [
      "extracting all features from dataset: 100%|██████████████████████████████████████████████| 2/2 [00:05<00:00,  2.54s/it]\n",
      "extracting all features from dataset: 100%|██████████████████████████████████████████████| 1/1 [00:02<00:00,  2.14s/it]\n"
     ]
    },
    {
     "name": "stdout",
     "output_type": "stream",
     "text": [
      "----------------------------\n",
      "Train_z, Test_z\n",
      "PCA: 0.9295\n",
      "SVD: 0.925\n",
      "NetG_fixD, Acc at sample 15 0.9221\n"
     ]
    },
    {
     "name": "stderr",
     "output_type": "stream",
     "text": [
      "extracting all features from dataset: 100%|██████████████████████████████████████████████| 2/2 [00:05<00:00,  2.60s/it]\n",
      "extracting all features from dataset: 100%|██████████████████████████████████████████████| 1/1 [00:02<00:00,  2.13s/it]\n"
     ]
    },
    {
     "name": "stdout",
     "output_type": "stream",
     "text": [
      "----------------------------\n",
      "Train_z, Test_z\n",
      "PCA: 0.9313\n",
      "SVD: 0.9272\n",
      "NetG_fixD, Acc at sample 16 0.783\n"
     ]
    },
    {
     "name": "stderr",
     "output_type": "stream",
     "text": [
      "extracting all features from dataset: 100%|██████████████████████████████████████████████| 2/2 [00:05<00:00,  2.57s/it]\n",
      "extracting all features from dataset: 100%|██████████████████████████████████████████████| 1/1 [00:02<00:00,  2.07s/it]\n"
     ]
    },
    {
     "name": "stdout",
     "output_type": "stream",
     "text": [
      "----------------------------\n",
      "Train_z, Test_z\n",
      "PCA: 0.9271\n",
      "SVD: 0.9186\n",
      "NetG_fixD, Acc at sample 17 0.869\n"
     ]
    },
    {
     "name": "stderr",
     "output_type": "stream",
     "text": [
      "extracting all features from dataset: 100%|██████████████████████████████████████████████| 2/2 [00:05<00:00,  2.67s/it]\n",
      "extracting all features from dataset: 100%|██████████████████████████████████████████████| 1/1 [00:02<00:00,  2.06s/it]\n"
     ]
    },
    {
     "name": "stdout",
     "output_type": "stream",
     "text": [
      "----------------------------\n",
      "Train_z, Test_z\n",
      "PCA: 0.9332\n",
      "SVD: 0.9283\n",
      "NetG_fixD, Acc at sample 18 0.8209\n"
     ]
    },
    {
     "name": "stderr",
     "output_type": "stream",
     "text": [
      "extracting all features from dataset: 100%|██████████████████████████████████████████████| 2/2 [00:05<00:00,  2.62s/it]\n",
      "extracting all features from dataset: 100%|██████████████████████████████████████████████| 1/1 [00:02<00:00,  2.09s/it]\n"
     ]
    },
    {
     "name": "stdout",
     "output_type": "stream",
     "text": [
      "----------------------------\n",
      "Train_z, Test_z\n",
      "PCA: 0.9281\n",
      "SVD: 0.9207\n",
      "NetG_fixD, Acc at sample 19 0.8731\n"
     ]
    },
    {
     "name": "stderr",
     "output_type": "stream",
     "text": [
      "extracting all features from dataset: 100%|██████████████████████████████████████████████| 2/2 [00:04<00:00,  2.48s/it]\n",
      "extracting all features from dataset: 100%|██████████████████████████████████████████████| 1/1 [00:02<00:00,  2.03s/it]\n"
     ]
    },
    {
     "name": "stdout",
     "output_type": "stream",
     "text": [
      "----------------------------\n",
      "Train_z, Test_z\n",
      "PCA: 0.9256\n",
      "SVD: 0.9189\n",
      "NetG_fixD, Acc at sample 20 0.8815\n",
      "0.9221 0.783 0.8478299999999999 0.0017780071\n"
     ]
    }
   ],
   "source": [
    "# sample 20 times of NetG at final radius, NetD is fixed\n",
    "from sklearn.neighbors import KNeighborsClassifier \n",
    "Acc_results_G_sample6 = []\n",
    "\n",
    "for _ in range(sample_num):\n",
    "    #acc at first\n",
    "    net_noise = get_noise(DATASET, device, LABEL)\n",
    "    fed_state_dict = get_netG(netD,netV,net_noise,r_list[6])\n",
    "    netG.load_state_dict(fed_state_dict)\n",
    "    \n",
    "    train_X, train_Z, train_X_bar, train_Z_bar, train_labels = extract_features2(trainloader, netG, netD)\n",
    "\n",
    "    test_X, test_Z, test_X_bar, test_Z_bar, test_labels = extract_features2(testloader, netG, netD)\n",
    "\n",
    "    print(\"----------------------------\")\n",
    "    print(\"Train_z, Test_z\")\n",
    "    nearsub(n_comp, train_Z, train_labels, test_Z, test_labels)\n",
    "\n",
    "    knn= KNeighborsClassifier(n_neighbors=10) \n",
    "\n",
    "    knn.fit(train_Z,train_labels) \n",
    "    knn.score(test_Z_bar,test_labels) \n",
    "\n",
    "    y_predict = knn.predict(test_Z_bar) \n",
    "\n",
    "    count =0\n",
    "    for k in range(10000):\n",
    "        if y_predict[k] == test_labels[k]:\n",
    "            count +=1\n",
    "    print('NetG_fixD, Acc at sample',_+1,count/10000)\n",
    "    Acc_results_G_sample6.append(count/10000)\n",
    "    \n",
    "print(max(Acc_results_G_sample6),min(Acc_results_G_sample6),np.mean(Acc_results_G_sample6),np.var(Acc_results_G_sample6))"
   ]
  },
  {
   "cell_type": "code",
   "execution_count": 17,
   "id": "9bac47e0",
   "metadata": {},
   "outputs": [
    {
     "name": "stderr",
     "output_type": "stream",
     "text": [
      "extracting all features from dataset: 100%|██████████████████████████████████████████████| 2/2 [00:05<00:00,  2.63s/it]\n",
      "extracting all features from dataset: 100%|██████████████████████████████████████████████| 1/1 [00:02<00:00,  2.09s/it]\n"
     ]
    },
    {
     "name": "stdout",
     "output_type": "stream",
     "text": [
      "----------------------------\n",
      "Train_z, Test_z\n",
      "PCA: 0.9278\n",
      "SVD: 0.9255\n",
      "NetG_fixD, Acc at sample 1 0.6299\n"
     ]
    },
    {
     "name": "stderr",
     "output_type": "stream",
     "text": [
      "extracting all features from dataset: 100%|██████████████████████████████████████████████| 2/2 [00:05<00:00,  2.66s/it]\n",
      "extracting all features from dataset: 100%|██████████████████████████████████████████████| 1/1 [00:02<00:00,  2.11s/it]\n"
     ]
    },
    {
     "name": "stdout",
     "output_type": "stream",
     "text": [
      "----------------------------\n",
      "Train_z, Test_z\n",
      "PCA: 0.9198\n",
      "SVD: 0.9142\n",
      "NetG_fixD, Acc at sample 2 0.4727\n"
     ]
    },
    {
     "name": "stderr",
     "output_type": "stream",
     "text": [
      "extracting all features from dataset: 100%|██████████████████████████████████████████████| 2/2 [00:05<00:00,  2.68s/it]\n",
      "extracting all features from dataset: 100%|██████████████████████████████████████████████| 1/1 [00:02<00:00,  2.07s/it]\n"
     ]
    },
    {
     "name": "stdout",
     "output_type": "stream",
     "text": [
      "----------------------------\n",
      "Train_z, Test_z\n",
      "PCA: 0.9256\n",
      "SVD: 0.9227\n",
      "NetG_fixD, Acc at sample 3 0.3708\n"
     ]
    },
    {
     "name": "stderr",
     "output_type": "stream",
     "text": [
      "extracting all features from dataset: 100%|██████████████████████████████████████████████| 2/2 [00:05<00:00,  2.69s/it]\n",
      "extracting all features from dataset: 100%|██████████████████████████████████████████████| 1/1 [00:02<00:00,  2.15s/it]\n"
     ]
    },
    {
     "name": "stdout",
     "output_type": "stream",
     "text": [
      "----------------------------\n",
      "Train_z, Test_z\n",
      "PCA: 0.9258\n",
      "SVD: 0.9205\n",
      "NetG_fixD, Acc at sample 4 0.5893\n"
     ]
    },
    {
     "name": "stderr",
     "output_type": "stream",
     "text": [
      "extracting all features from dataset: 100%|██████████████████████████████████████████████| 2/2 [00:05<00:00,  2.61s/it]\n",
      "extracting all features from dataset: 100%|██████████████████████████████████████████████| 1/1 [00:02<00:00,  2.11s/it]\n"
     ]
    },
    {
     "name": "stdout",
     "output_type": "stream",
     "text": [
      "----------------------------\n",
      "Train_z, Test_z\n",
      "PCA: 0.9257\n",
      "SVD: 0.9203\n",
      "NetG_fixD, Acc at sample 5 0.4665\n"
     ]
    },
    {
     "name": "stderr",
     "output_type": "stream",
     "text": [
      "extracting all features from dataset: 100%|██████████████████████████████████████████████| 2/2 [00:05<00:00,  2.64s/it]\n",
      "extracting all features from dataset: 100%|██████████████████████████████████████████████| 1/1 [00:02<00:00,  2.12s/it]\n"
     ]
    },
    {
     "name": "stdout",
     "output_type": "stream",
     "text": [
      "----------------------------\n",
      "Train_z, Test_z\n",
      "PCA: 0.9203\n",
      "SVD: 0.9184\n",
      "NetG_fixD, Acc at sample 6 0.2867\n"
     ]
    },
    {
     "name": "stderr",
     "output_type": "stream",
     "text": [
      "extracting all features from dataset: 100%|██████████████████████████████████████████████| 2/2 [00:05<00:00,  2.62s/it]\n",
      "extracting all features from dataset: 100%|██████████████████████████████████████████████| 1/1 [00:02<00:00,  2.05s/it]\n"
     ]
    },
    {
     "name": "stdout",
     "output_type": "stream",
     "text": [
      "----------------------------\n",
      "Train_z, Test_z\n",
      "PCA: 0.9203\n",
      "SVD: 0.9196\n",
      "NetG_fixD, Acc at sample 7 0.5485\n"
     ]
    },
    {
     "name": "stderr",
     "output_type": "stream",
     "text": [
      "extracting all features from dataset: 100%|██████████████████████████████████████████████| 2/2 [00:05<00:00,  2.60s/it]\n",
      "extracting all features from dataset: 100%|██████████████████████████████████████████████| 1/1 [00:02<00:00,  2.14s/it]\n"
     ]
    },
    {
     "name": "stdout",
     "output_type": "stream",
     "text": [
      "----------------------------\n",
      "Train_z, Test_z\n",
      "PCA: 0.9217\n",
      "SVD: 0.9182\n",
      "NetG_fixD, Acc at sample 8 0.374\n"
     ]
    },
    {
     "name": "stderr",
     "output_type": "stream",
     "text": [
      "extracting all features from dataset: 100%|██████████████████████████████████████████████| 2/2 [00:05<00:00,  2.57s/it]\n",
      "extracting all features from dataset: 100%|██████████████████████████████████████████████| 1/1 [00:02<00:00,  2.04s/it]\n"
     ]
    },
    {
     "name": "stdout",
     "output_type": "stream",
     "text": [
      "----------------------------\n",
      "Train_z, Test_z\n",
      "PCA: 0.9242\n",
      "SVD: 0.9218999999999999\n",
      "NetG_fixD, Acc at sample 9 0.2633\n"
     ]
    },
    {
     "name": "stderr",
     "output_type": "stream",
     "text": [
      "extracting all features from dataset: 100%|██████████████████████████████████████████████| 2/2 [00:05<00:00,  2.58s/it]\n",
      "extracting all features from dataset: 100%|██████████████████████████████████████████████| 1/1 [00:01<00:00,  1.91s/it]\n"
     ]
    },
    {
     "name": "stdout",
     "output_type": "stream",
     "text": [
      "----------------------------\n",
      "Train_z, Test_z\n",
      "PCA: 0.9246\n",
      "SVD: 0.9207\n",
      "NetG_fixD, Acc at sample 10 0.4356\n"
     ]
    },
    {
     "name": "stderr",
     "output_type": "stream",
     "text": [
      "extracting all features from dataset: 100%|██████████████████████████████████████████████| 2/2 [00:05<00:00,  2.56s/it]\n",
      "extracting all features from dataset: 100%|██████████████████████████████████████████████| 1/1 [00:02<00:00,  2.10s/it]\n"
     ]
    },
    {
     "name": "stdout",
     "output_type": "stream",
     "text": [
      "----------------------------\n",
      "Train_z, Test_z\n",
      "PCA: 0.9311\n",
      "SVD: 0.9264\n",
      "NetG_fixD, Acc at sample 11 0.3612\n"
     ]
    },
    {
     "name": "stderr",
     "output_type": "stream",
     "text": [
      "extracting all features from dataset: 100%|██████████████████████████████████████████████| 2/2 [00:05<00:00,  2.57s/it]\n",
      "extracting all features from dataset: 100%|██████████████████████████████████████████████| 1/1 [00:02<00:00,  2.09s/it]\n"
     ]
    },
    {
     "name": "stdout",
     "output_type": "stream",
     "text": [
      "----------------------------\n",
      "Train_z, Test_z\n",
      "PCA: 0.9218999999999999\n",
      "SVD: 0.9181\n",
      "NetG_fixD, Acc at sample 12 0.3513\n"
     ]
    },
    {
     "name": "stderr",
     "output_type": "stream",
     "text": [
      "extracting all features from dataset: 100%|██████████████████████████████████████████████| 2/2 [00:05<00:00,  2.59s/it]\n",
      "extracting all features from dataset: 100%|██████████████████████████████████████████████| 1/1 [00:02<00:00,  2.02s/it]\n"
     ]
    },
    {
     "name": "stdout",
     "output_type": "stream",
     "text": [
      "----------------------------\n",
      "Train_z, Test_z\n",
      "PCA: 0.9308\n",
      "SVD: 0.9271\n",
      "NetG_fixD, Acc at sample 13 0.4663\n"
     ]
    },
    {
     "name": "stderr",
     "output_type": "stream",
     "text": [
      "extracting all features from dataset: 100%|██████████████████████████████████████████████| 2/2 [00:04<00:00,  2.49s/it]\n",
      "extracting all features from dataset: 100%|██████████████████████████████████████████████| 1/1 [00:02<00:00,  2.01s/it]\n"
     ]
    },
    {
     "name": "stdout",
     "output_type": "stream",
     "text": [
      "----------------------------\n",
      "Train_z, Test_z\n",
      "PCA: 0.9331\n",
      "SVD: 0.9277\n",
      "NetG_fixD, Acc at sample 14 0.3982\n"
     ]
    },
    {
     "name": "stderr",
     "output_type": "stream",
     "text": [
      "extracting all features from dataset: 100%|██████████████████████████████████████████████| 2/2 [00:05<00:00,  2.62s/it]\n",
      "extracting all features from dataset: 100%|██████████████████████████████████████████████| 1/1 [00:02<00:00,  2.08s/it]\n"
     ]
    },
    {
     "name": "stdout",
     "output_type": "stream",
     "text": [
      "----------------------------\n",
      "Train_z, Test_z\n",
      "PCA: 0.9235\n",
      "SVD: 0.9162\n",
      "NetG_fixD, Acc at sample 15 0.461\n"
     ]
    },
    {
     "name": "stderr",
     "output_type": "stream",
     "text": [
      "extracting all features from dataset: 100%|██████████████████████████████████████████████| 2/2 [00:05<00:00,  2.63s/it]\n",
      "extracting all features from dataset: 100%|██████████████████████████████████████████████| 1/1 [00:02<00:00,  2.12s/it]\n"
     ]
    },
    {
     "name": "stdout",
     "output_type": "stream",
     "text": [
      "----------------------------\n",
      "Train_z, Test_z\n",
      "PCA: 0.9244\n",
      "SVD: 0.9151\n",
      "NetG_fixD, Acc at sample 16 0.3919\n"
     ]
    },
    {
     "name": "stderr",
     "output_type": "stream",
     "text": [
      "extracting all features from dataset: 100%|██████████████████████████████████████████████| 2/2 [00:05<00:00,  2.55s/it]\n",
      "extracting all features from dataset: 100%|██████████████████████████████████████████████| 1/1 [00:02<00:00,  2.02s/it]\n"
     ]
    },
    {
     "name": "stdout",
     "output_type": "stream",
     "text": [
      "----------------------------\n",
      "Train_z, Test_z\n",
      "PCA: 0.9234\n",
      "SVD: 0.9225\n",
      "NetG_fixD, Acc at sample 17 0.3126\n"
     ]
    },
    {
     "name": "stderr",
     "output_type": "stream",
     "text": [
      "extracting all features from dataset: 100%|██████████████████████████████████████████████| 2/2 [00:05<00:00,  2.59s/it]\n",
      "extracting all features from dataset: 100%|██████████████████████████████████████████████| 1/1 [00:02<00:00,  2.15s/it]\n"
     ]
    },
    {
     "name": "stdout",
     "output_type": "stream",
     "text": [
      "----------------------------\n",
      "Train_z, Test_z\n",
      "PCA: 0.9242\n",
      "SVD: 0.9185\n",
      "NetG_fixD, Acc at sample 18 0.3743\n"
     ]
    },
    {
     "name": "stderr",
     "output_type": "stream",
     "text": [
      "extracting all features from dataset: 100%|██████████████████████████████████████████████| 2/2 [00:05<00:00,  2.51s/it]\n",
      "extracting all features from dataset: 100%|██████████████████████████████████████████████| 1/1 [00:02<00:00,  2.11s/it]\n"
     ]
    },
    {
     "name": "stdout",
     "output_type": "stream",
     "text": [
      "----------------------------\n",
      "Train_z, Test_z\n",
      "PCA: 0.9275\n",
      "SVD: 0.9247\n",
      "NetG_fixD, Acc at sample 19 0.2644\n"
     ]
    },
    {
     "name": "stderr",
     "output_type": "stream",
     "text": [
      "extracting all features from dataset: 100%|██████████████████████████████████████████████| 2/2 [00:05<00:00,  2.64s/it]\n",
      "extracting all features from dataset: 100%|██████████████████████████████████████████████| 1/1 [00:02<00:00,  2.10s/it]\n"
     ]
    },
    {
     "name": "stdout",
     "output_type": "stream",
     "text": [
      "----------------------------\n",
      "Train_z, Test_z\n",
      "PCA: 0.9299999999999999\n",
      "SVD: 0.9255\n",
      "NetG_fixD, Acc at sample 20 0.3476\n",
      "0.6299 0.2633 0.40830500000000003 0.009744182475000002\n"
     ]
    }
   ],
   "source": [
    "# sample 20 times of NetG at final radius, NetD is fixed\n",
    "from sklearn.neighbors import KNeighborsClassifier \n",
    "Acc_results_G_sample7 = []\n",
    "\n",
    "for _ in range(sample_num):\n",
    "    #acc at first\n",
    "    net_noise = get_noise(DATASET, device, LABEL)\n",
    "    fed_state_dict = get_netG(netD,netV,net_noise,r_list[7])\n",
    "    netG.load_state_dict(fed_state_dict)\n",
    "    \n",
    "    train_X, train_Z, train_X_bar, train_Z_bar, train_labels = extract_features2(trainloader, netG, netD)\n",
    "\n",
    "    test_X, test_Z, test_X_bar, test_Z_bar, test_labels = extract_features2(testloader, netG, netD)\n",
    "\n",
    "    print(\"----------------------------\")\n",
    "    print(\"Train_z, Test_z\")\n",
    "    nearsub(n_comp, train_Z, train_labels, test_Z, test_labels)\n",
    "\n",
    "    knn= KNeighborsClassifier(n_neighbors=10) \n",
    "\n",
    "    knn.fit(train_Z,train_labels) \n",
    "    knn.score(test_Z_bar,test_labels) \n",
    "\n",
    "    y_predict = knn.predict(test_Z_bar) \n",
    "\n",
    "    count =0\n",
    "    for k in range(10000):\n",
    "        if y_predict[k] == test_labels[k]:\n",
    "            count +=1\n",
    "    print('NetG_fixD, Acc at sample',_+1,count/10000)\n",
    "    Acc_results_G_sample7.append(count/10000)\n",
    "    \n",
    "print(max(Acc_results_G_sample7),min(Acc_results_G_sample7),np.mean(Acc_results_G_sample7),np.var(Acc_results_G_sample7))"
   ]
  },
  {
   "cell_type": "code",
   "execution_count": 18,
   "id": "10863846",
   "metadata": {},
   "outputs": [
    {
     "name": "stderr",
     "output_type": "stream",
     "text": [
      "extracting all features from dataset: 100%|██████████████████████████████████████████████| 2/2 [00:05<00:00,  2.69s/it]\n",
      "extracting all features from dataset: 100%|██████████████████████████████████████████████| 1/1 [00:02<00:00,  2.16s/it]\n"
     ]
    },
    {
     "name": "stdout",
     "output_type": "stream",
     "text": [
      "----------------------------\n",
      "Train_z, Test_z\n",
      "PCA: 0.9238999999999999\n",
      "SVD: 0.9225\n",
      "NetG_fixD, Acc at sample 1 0.113\n"
     ]
    },
    {
     "name": "stderr",
     "output_type": "stream",
     "text": [
      "extracting all features from dataset: 100%|██████████████████████████████████████████████| 2/2 [00:05<00:00,  2.69s/it]\n",
      "extracting all features from dataset: 100%|██████████████████████████████████████████████| 1/1 [00:02<00:00,  2.07s/it]\n"
     ]
    },
    {
     "name": "stdout",
     "output_type": "stream",
     "text": [
      "----------------------------\n",
      "Train_z, Test_z\n",
      "PCA: 0.9203\n",
      "SVD: 0.9228\n",
      "NetG_fixD, Acc at sample 2 0.1595\n"
     ]
    },
    {
     "name": "stderr",
     "output_type": "stream",
     "text": [
      "extracting all features from dataset: 100%|██████████████████████████████████████████████| 2/2 [00:05<00:00,  2.72s/it]\n",
      "extracting all features from dataset: 100%|██████████████████████████████████████████████| 1/1 [00:02<00:00,  2.12s/it]\n"
     ]
    },
    {
     "name": "stdout",
     "output_type": "stream",
     "text": [
      "----------------------------\n",
      "Train_z, Test_z\n",
      "PCA: 0.9301\n",
      "SVD: 0.9271\n",
      "NetG_fixD, Acc at sample 3 0.109\n"
     ]
    },
    {
     "name": "stderr",
     "output_type": "stream",
     "text": [
      "extracting all features from dataset: 100%|██████████████████████████████████████████████| 2/2 [00:05<00:00,  2.58s/it]\n",
      "extracting all features from dataset: 100%|██████████████████████████████████████████████| 1/1 [00:02<00:00,  2.07s/it]\n"
     ]
    },
    {
     "name": "stdout",
     "output_type": "stream",
     "text": [
      "----------------------------\n",
      "Train_z, Test_z\n",
      "PCA: 0.9339\n",
      "SVD: 0.9319999999999999\n",
      "NetG_fixD, Acc at sample 4 0.1381\n"
     ]
    },
    {
     "name": "stderr",
     "output_type": "stream",
     "text": [
      "extracting all features from dataset: 100%|██████████████████████████████████████████████| 2/2 [00:05<00:00,  2.73s/it]\n",
      "extracting all features from dataset: 100%|██████████████████████████████████████████████| 1/1 [00:02<00:00,  2.08s/it]\n"
     ]
    },
    {
     "name": "stdout",
     "output_type": "stream",
     "text": [
      "----------------------------\n",
      "Train_z, Test_z\n",
      "PCA: 0.9285\n",
      "SVD: 0.9255\n",
      "NetG_fixD, Acc at sample 5 0.1076\n"
     ]
    },
    {
     "name": "stderr",
     "output_type": "stream",
     "text": [
      "extracting all features from dataset: 100%|██████████████████████████████████████████████| 2/2 [00:05<00:00,  2.63s/it]\n",
      "extracting all features from dataset: 100%|██████████████████████████████████████████████| 1/1 [00:02<00:00,  2.18s/it]\n"
     ]
    },
    {
     "name": "stdout",
     "output_type": "stream",
     "text": [
      "----------------------------\n",
      "Train_z, Test_z\n",
      "PCA: 0.9312\n",
      "SVD: 0.9283\n",
      "NetG_fixD, Acc at sample 6 0.1091\n"
     ]
    },
    {
     "name": "stderr",
     "output_type": "stream",
     "text": [
      "extracting all features from dataset: 100%|██████████████████████████████████████████████| 2/2 [00:05<00:00,  2.55s/it]\n",
      "extracting all features from dataset: 100%|██████████████████████████████████████████████| 1/1 [00:02<00:00,  2.12s/it]\n"
     ]
    },
    {
     "name": "stdout",
     "output_type": "stream",
     "text": [
      "----------------------------\n",
      "Train_z, Test_z\n",
      "PCA: 0.9277\n",
      "SVD: 0.9257\n",
      "NetG_fixD, Acc at sample 7 0.1616\n"
     ]
    },
    {
     "name": "stderr",
     "output_type": "stream",
     "text": [
      "extracting all features from dataset: 100%|██████████████████████████████████████████████| 2/2 [00:05<00:00,  2.76s/it]\n",
      "extracting all features from dataset: 100%|██████████████████████████████████████████████| 1/1 [00:02<00:00,  2.06s/it]\n"
     ]
    },
    {
     "name": "stdout",
     "output_type": "stream",
     "text": [
      "----------------------------\n",
      "Train_z, Test_z\n",
      "PCA: 0.9178\n",
      "SVD: 0.9151\n",
      "NetG_fixD, Acc at sample 8 0.1454\n"
     ]
    },
    {
     "name": "stderr",
     "output_type": "stream",
     "text": [
      "extracting all features from dataset: 100%|██████████████████████████████████████████████| 2/2 [00:05<00:00,  2.69s/it]\n",
      "extracting all features from dataset: 100%|██████████████████████████████████████████████| 1/1 [00:02<00:00,  2.12s/it]\n"
     ]
    },
    {
     "name": "stdout",
     "output_type": "stream",
     "text": [
      "----------------------------\n",
      "Train_z, Test_z\n",
      "PCA: 0.926\n",
      "SVD: 0.9204\n",
      "NetG_fixD, Acc at sample 9 0.1386\n"
     ]
    },
    {
     "name": "stderr",
     "output_type": "stream",
     "text": [
      "extracting all features from dataset: 100%|██████████████████████████████████████████████| 2/2 [00:05<00:00,  2.60s/it]\n",
      "extracting all features from dataset: 100%|██████████████████████████████████████████████| 1/1 [00:02<00:00,  2.18s/it]\n"
     ]
    },
    {
     "name": "stdout",
     "output_type": "stream",
     "text": [
      "----------------------------\n",
      "Train_z, Test_z\n",
      "PCA: 0.9232\n",
      "SVD: 0.9198999999999999\n",
      "NetG_fixD, Acc at sample 10 0.1503\n"
     ]
    },
    {
     "name": "stderr",
     "output_type": "stream",
     "text": [
      "extracting all features from dataset: 100%|██████████████████████████████████████████████| 2/2 [00:05<00:00,  2.65s/it]\n",
      "extracting all features from dataset: 100%|██████████████████████████████████████████████| 1/1 [00:02<00:00,  2.05s/it]\n"
     ]
    },
    {
     "name": "stdout",
     "output_type": "stream",
     "text": [
      "----------------------------\n",
      "Train_z, Test_z\n",
      "PCA: 0.9252\n",
      "SVD: 0.9252\n",
      "NetG_fixD, Acc at sample 11 0.1371\n"
     ]
    },
    {
     "name": "stderr",
     "output_type": "stream",
     "text": [
      "extracting all features from dataset: 100%|██████████████████████████████████████████████| 2/2 [00:05<00:00,  2.67s/it]\n",
      "extracting all features from dataset: 100%|██████████████████████████████████████████████| 1/1 [00:02<00:00,  2.18s/it]\n"
     ]
    },
    {
     "name": "stdout",
     "output_type": "stream",
     "text": [
      "----------------------------\n",
      "Train_z, Test_z\n",
      "PCA: 0.9224\n",
      "SVD: 0.9173\n",
      "NetG_fixD, Acc at sample 12 0.145\n"
     ]
    },
    {
     "name": "stderr",
     "output_type": "stream",
     "text": [
      "extracting all features from dataset: 100%|██████████████████████████████████████████████| 2/2 [00:05<00:00,  2.55s/it]\n",
      "extracting all features from dataset: 100%|██████████████████████████████████████████████| 1/1 [00:02<00:00,  2.20s/it]\n"
     ]
    },
    {
     "name": "stdout",
     "output_type": "stream",
     "text": [
      "----------------------------\n",
      "Train_z, Test_z\n",
      "PCA: 0.9263\n",
      "SVD: 0.9222\n",
      "NetG_fixD, Acc at sample 13 0.1788\n"
     ]
    },
    {
     "name": "stderr",
     "output_type": "stream",
     "text": [
      "extracting all features from dataset: 100%|██████████████████████████████████████████████| 2/2 [00:05<00:00,  2.60s/it]\n",
      "extracting all features from dataset: 100%|██████████████████████████████████████████████| 1/1 [00:02<00:00,  2.14s/it]\n"
     ]
    },
    {
     "name": "stdout",
     "output_type": "stream",
     "text": [
      "----------------------------\n",
      "Train_z, Test_z\n",
      "PCA: 0.9278\n",
      "SVD: 0.9264\n",
      "NetG_fixD, Acc at sample 14 0.1086\n"
     ]
    },
    {
     "name": "stderr",
     "output_type": "stream",
     "text": [
      "extracting all features from dataset: 100%|██████████████████████████████████████████████| 2/2 [00:05<00:00,  2.65s/it]\n",
      "extracting all features from dataset: 100%|██████████████████████████████████████████████| 1/1 [00:02<00:00,  2.14s/it]\n"
     ]
    },
    {
     "name": "stdout",
     "output_type": "stream",
     "text": [
      "----------------------------\n",
      "Train_z, Test_z\n",
      "PCA: 0.9323\n",
      "SVD: 0.9289000000000001\n",
      "NetG_fixD, Acc at sample 15 0.1686\n"
     ]
    },
    {
     "name": "stderr",
     "output_type": "stream",
     "text": [
      "extracting all features from dataset: 100%|██████████████████████████████████████████████| 2/2 [00:05<00:00,  2.67s/it]\n",
      "extracting all features from dataset: 100%|██████████████████████████████████████████████| 1/1 [00:02<00:00,  2.11s/it]\n"
     ]
    },
    {
     "name": "stdout",
     "output_type": "stream",
     "text": [
      "----------------------------\n",
      "Train_z, Test_z\n",
      "PCA: 0.9258\n",
      "SVD: 0.9232\n",
      "NetG_fixD, Acc at sample 16 0.1282\n"
     ]
    },
    {
     "name": "stderr",
     "output_type": "stream",
     "text": [
      "extracting all features from dataset: 100%|██████████████████████████████████████████████| 2/2 [00:05<00:00,  2.66s/it]\n",
      "extracting all features from dataset: 100%|██████████████████████████████████████████████| 1/1 [00:02<00:00,  2.15s/it]\n"
     ]
    },
    {
     "name": "stdout",
     "output_type": "stream",
     "text": [
      "----------------------------\n",
      "Train_z, Test_z\n",
      "PCA: 0.9299999999999999\n",
      "SVD: 0.9244\n",
      "NetG_fixD, Acc at sample 17 0.1046\n"
     ]
    },
    {
     "name": "stderr",
     "output_type": "stream",
     "text": [
      "extracting all features from dataset: 100%|██████████████████████████████████████████████| 2/2 [00:05<00:00,  2.61s/it]\n",
      "extracting all features from dataset: 100%|██████████████████████████████████████████████| 1/1 [00:02<00:00,  2.15s/it]\n"
     ]
    },
    {
     "name": "stdout",
     "output_type": "stream",
     "text": [
      "----------------------------\n",
      "Train_z, Test_z\n",
      "PCA: 0.9225\n",
      "SVD: 0.9182\n",
      "NetG_fixD, Acc at sample 18 0.1343\n"
     ]
    },
    {
     "name": "stderr",
     "output_type": "stream",
     "text": [
      "extracting all features from dataset: 100%|██████████████████████████████████████████████| 2/2 [00:05<00:00,  2.71s/it]\n",
      "extracting all features from dataset: 100%|██████████████████████████████████████████████| 1/1 [00:02<00:00,  2.09s/it]\n"
     ]
    },
    {
     "name": "stdout",
     "output_type": "stream",
     "text": [
      "----------------------------\n",
      "Train_z, Test_z\n",
      "PCA: 0.9308\n",
      "SVD: 0.9261\n",
      "NetG_fixD, Acc at sample 19 0.1237\n"
     ]
    },
    {
     "name": "stderr",
     "output_type": "stream",
     "text": [
      "extracting all features from dataset: 100%|██████████████████████████████████████████████| 2/2 [00:05<00:00,  2.73s/it]\n",
      "extracting all features from dataset: 100%|██████████████████████████████████████████████| 1/1 [00:02<00:00,  2.10s/it]\n"
     ]
    },
    {
     "name": "stdout",
     "output_type": "stream",
     "text": [
      "----------------------------\n",
      "Train_z, Test_z\n",
      "PCA: 0.9266\n",
      "SVD: 0.924\n",
      "NetG_fixD, Acc at sample 20 0.1045\n",
      "0.1788 0.1045 0.13327999999999998 0.0005036315999999999\n"
     ]
    }
   ],
   "source": [
    "# sample 20 times of NetG at final radius, NetD is fixed\n",
    "from sklearn.neighbors import KNeighborsClassifier \n",
    "Acc_results_G_sample8 = []\n",
    "\n",
    "for _ in range(sample_num):\n",
    "    #acc at first\n",
    "    net_noise = get_noise(DATASET, device, LABEL)\n",
    "    fed_state_dict = get_netG(netD,netV,net_noise,r_list[8])\n",
    "    netG.load_state_dict(fed_state_dict)\n",
    "    \n",
    "    train_X, train_Z, train_X_bar, train_Z_bar, train_labels = extract_features2(trainloader, netG, netD)\n",
    "\n",
    "    test_X, test_Z, test_X_bar, test_Z_bar, test_labels = extract_features2(testloader, netG, netD)\n",
    "\n",
    "    print(\"----------------------------\")\n",
    "    print(\"Train_z, Test_z\")\n",
    "    nearsub(n_comp, train_Z, train_labels, test_Z, test_labels)\n",
    "\n",
    "    knn= KNeighborsClassifier(n_neighbors=10) \n",
    "\n",
    "    knn.fit(train_Z,train_labels) \n",
    "    knn.score(test_Z_bar,test_labels) \n",
    "\n",
    "    y_predict = knn.predict(test_Z_bar) \n",
    "\n",
    "    count =0\n",
    "    for k in range(10000):\n",
    "        if y_predict[k] == test_labels[k]:\n",
    "            count +=1\n",
    "    print('NetG_fixD, Acc at sample',_+1,count/10000)\n",
    "    Acc_results_G_sample8.append(count/10000)\n",
    "    \n",
    "print(max(Acc_results_G_sample8),min(Acc_results_G_sample8),np.mean(Acc_results_G_sample8),np.var(Acc_results_G_sample8))"
   ]
  },
  {
   "cell_type": "code",
   "execution_count": 19,
   "id": "162a6f56",
   "metadata": {},
   "outputs": [
    {
     "name": "stderr",
     "output_type": "stream",
     "text": [
      "extracting all features from dataset: 100%|██████████████████████████████████████████████| 2/2 [00:05<00:00,  2.75s/it]\n",
      "extracting all features from dataset: 100%|██████████████████████████████████████████████| 1/1 [00:02<00:00,  2.11s/it]\n"
     ]
    },
    {
     "name": "stdout",
     "output_type": "stream",
     "text": [
      "----------------------------\n",
      "Train_z, Test_z\n",
      "PCA: 0.9272\n",
      "SVD: 0.9269000000000001\n",
      "NetG_fixD, Acc at sample 1 0.1454\n"
     ]
    },
    {
     "name": "stderr",
     "output_type": "stream",
     "text": [
      "extracting all features from dataset: 100%|██████████████████████████████████████████████| 2/2 [00:05<00:00,  2.64s/it]\n",
      "extracting all features from dataset: 100%|██████████████████████████████████████████████| 1/1 [00:02<00:00,  2.15s/it]\n"
     ]
    },
    {
     "name": "stdout",
     "output_type": "stream",
     "text": [
      "----------------------------\n",
      "Train_z, Test_z\n",
      "PCA: 0.9314\n",
      "SVD: 0.9254\n",
      "NetG_fixD, Acc at sample 2 0.0995\n"
     ]
    },
    {
     "name": "stderr",
     "output_type": "stream",
     "text": [
      "extracting all features from dataset: 100%|██████████████████████████████████████████████| 2/2 [00:05<00:00,  2.58s/it]\n",
      "extracting all features from dataset: 100%|██████████████████████████████████████████████| 1/1 [00:02<00:00,  2.08s/it]\n"
     ]
    },
    {
     "name": "stdout",
     "output_type": "stream",
     "text": [
      "----------------------------\n",
      "Train_z, Test_z\n",
      "PCA: 0.9306\n",
      "SVD: 0.9237\n",
      "NetG_fixD, Acc at sample 3 0.1174\n"
     ]
    },
    {
     "name": "stderr",
     "output_type": "stream",
     "text": [
      "extracting all features from dataset: 100%|██████████████████████████████████████████████| 2/2 [00:05<00:00,  2.69s/it]\n",
      "extracting all features from dataset: 100%|██████████████████████████████████████████████| 1/1 [00:02<00:00,  2.07s/it]\n"
     ]
    },
    {
     "name": "stdout",
     "output_type": "stream",
     "text": [
      "----------------------------\n",
      "Train_z, Test_z\n",
      "PCA: 0.9204\n",
      "SVD: 0.916\n",
      "NetG_fixD, Acc at sample 4 0.0822\n"
     ]
    },
    {
     "name": "stderr",
     "output_type": "stream",
     "text": [
      "extracting all features from dataset: 100%|██████████████████████████████████████████████| 2/2 [00:05<00:00,  2.57s/it]\n",
      "extracting all features from dataset: 100%|██████████████████████████████████████████████| 1/1 [00:02<00:00,  2.29s/it]\n"
     ]
    },
    {
     "name": "stdout",
     "output_type": "stream",
     "text": [
      "----------------------------\n",
      "Train_z, Test_z\n",
      "PCA: 0.9353\n",
      "SVD: 0.9291\n",
      "NetG_fixD, Acc at sample 5 0.1254\n"
     ]
    },
    {
     "name": "stderr",
     "output_type": "stream",
     "text": [
      "extracting all features from dataset: 100%|██████████████████████████████████████████████| 2/2 [00:05<00:00,  2.62s/it]\n",
      "extracting all features from dataset: 100%|██████████████████████████████████████████████| 1/1 [00:02<00:00,  2.08s/it]\n"
     ]
    },
    {
     "name": "stdout",
     "output_type": "stream",
     "text": [
      "----------------------------\n",
      "Train_z, Test_z\n",
      "PCA: 0.9305\n",
      "SVD: 0.924\n",
      "NetG_fixD, Acc at sample 6 0.0928\n"
     ]
    },
    {
     "name": "stderr",
     "output_type": "stream",
     "text": [
      "extracting all features from dataset: 100%|██████████████████████████████████████████████| 2/2 [00:05<00:00,  2.55s/it]\n",
      "extracting all features from dataset: 100%|██████████████████████████████████████████████| 1/1 [00:02<00:00,  2.03s/it]\n"
     ]
    },
    {
     "name": "stdout",
     "output_type": "stream",
     "text": [
      "----------------------------\n",
      "Train_z, Test_z\n",
      "PCA: 0.9268\n",
      "SVD: 0.924\n",
      "NetG_fixD, Acc at sample 7 0.0976\n"
     ]
    },
    {
     "name": "stderr",
     "output_type": "stream",
     "text": [
      "extracting all features from dataset: 100%|██████████████████████████████████████████████| 2/2 [00:05<00:00,  2.58s/it]\n",
      "extracting all features from dataset: 100%|██████████████████████████████████████████████| 1/1 [00:02<00:00,  2.10s/it]\n"
     ]
    },
    {
     "name": "stdout",
     "output_type": "stream",
     "text": [
      "----------------------------\n",
      "Train_z, Test_z\n",
      "PCA: 0.9263\n",
      "SVD: 0.9238999999999999\n",
      "NetG_fixD, Acc at sample 8 0.1076\n"
     ]
    },
    {
     "name": "stderr",
     "output_type": "stream",
     "text": [
      "extracting all features from dataset: 100%|██████████████████████████████████████████████| 2/2 [00:05<00:00,  2.56s/it]\n",
      "extracting all features from dataset: 100%|██████████████████████████████████████████████| 1/1 [00:02<00:00,  2.09s/it]\n"
     ]
    },
    {
     "name": "stdout",
     "output_type": "stream",
     "text": [
      "----------------------------\n",
      "Train_z, Test_z\n",
      "PCA: 0.9306\n",
      "SVD: 0.9283\n",
      "NetG_fixD, Acc at sample 9 0.1134\n"
     ]
    },
    {
     "name": "stderr",
     "output_type": "stream",
     "text": [
      "extracting all features from dataset: 100%|██████████████████████████████████████████████| 2/2 [00:05<00:00,  2.54s/it]\n",
      "extracting all features from dataset: 100%|██████████████████████████████████████████████| 1/1 [00:02<00:00,  2.05s/it]\n"
     ]
    },
    {
     "name": "stdout",
     "output_type": "stream",
     "text": [
      "----------------------------\n",
      "Train_z, Test_z\n",
      "PCA: 0.9257\n",
      "SVD: 0.9223\n",
      "NetG_fixD, Acc at sample 10 0.1232\n"
     ]
    },
    {
     "name": "stderr",
     "output_type": "stream",
     "text": [
      "extracting all features from dataset: 100%|██████████████████████████████████████████████| 2/2 [00:05<00:00,  2.53s/it]\n",
      "extracting all features from dataset: 100%|██████████████████████████████████████████████| 1/1 [00:02<00:00,  2.06s/it]\n"
     ]
    },
    {
     "name": "stdout",
     "output_type": "stream",
     "text": [
      "----------------------------\n",
      "Train_z, Test_z\n",
      "PCA: 0.9228\n",
      "SVD: 0.9167\n",
      "NetG_fixD, Acc at sample 11 0.1004\n"
     ]
    },
    {
     "name": "stderr",
     "output_type": "stream",
     "text": [
      "extracting all features from dataset: 100%|██████████████████████████████████████████████| 2/2 [00:05<00:00,  2.54s/it]\n",
      "extracting all features from dataset: 100%|██████████████████████████████████████████████| 1/1 [00:02<00:00,  2.11s/it]\n"
     ]
    },
    {
     "name": "stdout",
     "output_type": "stream",
     "text": [
      "----------------------------\n",
      "Train_z, Test_z\n",
      "PCA: 0.9206\n",
      "SVD: 0.9173\n",
      "NetG_fixD, Acc at sample 12 0.1087\n"
     ]
    },
    {
     "name": "stderr",
     "output_type": "stream",
     "text": [
      "extracting all features from dataset: 100%|██████████████████████████████████████████████| 2/2 [00:04<00:00,  2.48s/it]\n",
      "extracting all features from dataset: 100%|██████████████████████████████████████████████| 1/1 [00:02<00:00,  2.08s/it]\n"
     ]
    },
    {
     "name": "stdout",
     "output_type": "stream",
     "text": [
      "----------------------------\n",
      "Train_z, Test_z\n",
      "PCA: 0.9278\n",
      "SVD: 0.9263\n",
      "NetG_fixD, Acc at sample 13 0.0957\n"
     ]
    },
    {
     "name": "stderr",
     "output_type": "stream",
     "text": [
      "extracting all features from dataset: 100%|██████████████████████████████████████████████| 2/2 [00:05<00:00,  2.62s/it]\n",
      "extracting all features from dataset: 100%|██████████████████████████████████████████████| 1/1 [00:02<00:00,  2.02s/it]\n"
     ]
    },
    {
     "name": "stdout",
     "output_type": "stream",
     "text": [
      "----------------------------\n",
      "Train_z, Test_z\n",
      "PCA: 0.9314\n",
      "SVD: 0.9267\n",
      "NetG_fixD, Acc at sample 14 0.1078\n"
     ]
    },
    {
     "name": "stderr",
     "output_type": "stream",
     "text": [
      "extracting all features from dataset: 100%|██████████████████████████████████████████████| 2/2 [00:05<00:00,  2.54s/it]\n",
      "extracting all features from dataset: 100%|██████████████████████████████████████████████| 1/1 [00:02<00:00,  2.07s/it]\n"
     ]
    },
    {
     "name": "stdout",
     "output_type": "stream",
     "text": [
      "----------------------------\n",
      "Train_z, Test_z\n",
      "PCA: 0.9273\n",
      "SVD: 0.9241\n",
      "NetG_fixD, Acc at sample 15 0.0964\n"
     ]
    },
    {
     "name": "stderr",
     "output_type": "stream",
     "text": [
      "extracting all features from dataset: 100%|██████████████████████████████████████████████| 2/2 [00:05<00:00,  2.66s/it]\n",
      "extracting all features from dataset: 100%|██████████████████████████████████████████████| 1/1 [00:02<00:00,  2.04s/it]\n"
     ]
    },
    {
     "name": "stdout",
     "output_type": "stream",
     "text": [
      "----------------------------\n",
      "Train_z, Test_z\n",
      "PCA: 0.9351\n",
      "SVD: 0.9291\n",
      "NetG_fixD, Acc at sample 16 0.1187\n"
     ]
    },
    {
     "name": "stderr",
     "output_type": "stream",
     "text": [
      "extracting all features from dataset: 100%|██████████████████████████████████████████████| 2/2 [00:05<00:00,  2.73s/it]\n",
      "extracting all features from dataset: 100%|██████████████████████████████████████████████| 1/1 [00:02<00:00,  2.15s/it]\n"
     ]
    },
    {
     "name": "stdout",
     "output_type": "stream",
     "text": [
      "----------------------------\n",
      "Train_z, Test_z\n",
      "PCA: 0.9263\n",
      "SVD: 0.9205\n",
      "NetG_fixD, Acc at sample 17 0.1059\n"
     ]
    },
    {
     "name": "stderr",
     "output_type": "stream",
     "text": [
      "extracting all features from dataset: 100%|██████████████████████████████████████████████| 2/2 [00:05<00:00,  2.61s/it]\n",
      "extracting all features from dataset: 100%|██████████████████████████████████████████████| 1/1 [00:02<00:00,  2.11s/it]\n"
     ]
    },
    {
     "name": "stdout",
     "output_type": "stream",
     "text": [
      "----------------------------\n",
      "Train_z, Test_z\n",
      "PCA: 0.9268\n",
      "SVD: 0.9234\n",
      "NetG_fixD, Acc at sample 18 0.1072\n"
     ]
    },
    {
     "name": "stderr",
     "output_type": "stream",
     "text": [
      "extracting all features from dataset: 100%|██████████████████████████████████████████████| 2/2 [00:05<00:00,  2.68s/it]\n",
      "extracting all features from dataset: 100%|██████████████████████████████████████████████| 1/1 [00:02<00:00,  2.07s/it]\n"
     ]
    },
    {
     "name": "stdout",
     "output_type": "stream",
     "text": [
      "----------------------------\n",
      "Train_z, Test_z\n",
      "PCA: 0.9233\n",
      "SVD: 0.919\n",
      "NetG_fixD, Acc at sample 19 0.1173\n"
     ]
    },
    {
     "name": "stderr",
     "output_type": "stream",
     "text": [
      "extracting all features from dataset: 100%|██████████████████████████████████████████████| 2/2 [00:05<00:00,  2.65s/it]\n",
      "extracting all features from dataset: 100%|██████████████████████████████████████████████| 1/1 [00:02<00:00,  2.20s/it]\n"
     ]
    },
    {
     "name": "stdout",
     "output_type": "stream",
     "text": [
      "----------------------------\n",
      "Train_z, Test_z\n",
      "PCA: 0.9336\n",
      "SVD: 0.9307\n",
      "NetG_fixD, Acc at sample 20 0.1056\n",
      "0.1454 0.0822 0.10841 0.00018399490000000005\n"
     ]
    }
   ],
   "source": [
    "# sample 20 times of NetG at final radius, NetD is fixed\n",
    "from sklearn.neighbors import KNeighborsClassifier \n",
    "Acc_results_G_sample9 = []\n",
    "\n",
    "for _ in range(sample_num):\n",
    "    #acc at first\n",
    "    net_noise = get_noise(DATASET, device, LABEL)\n",
    "    fed_state_dict = get_netG(netD,netV,net_noise,r_list[9])\n",
    "    netG.load_state_dict(fed_state_dict)\n",
    "    \n",
    "    train_X, train_Z, train_X_bar, train_Z_bar, train_labels = extract_features2(trainloader, netG, netD)\n",
    "\n",
    "    test_X, test_Z, test_X_bar, test_Z_bar, test_labels = extract_features2(testloader, netG, netD)\n",
    "\n",
    "    print(\"----------------------------\")\n",
    "    print(\"Train_z, Test_z\")\n",
    "    nearsub(n_comp, train_Z, train_labels, test_Z, test_labels)\n",
    "\n",
    "    knn= KNeighborsClassifier(n_neighbors=10) \n",
    "\n",
    "    knn.fit(train_Z,train_labels) \n",
    "    knn.score(test_Z_bar,test_labels) \n",
    "\n",
    "    y_predict = knn.predict(test_Z_bar) \n",
    "\n",
    "    count =0\n",
    "    for k in range(10000):\n",
    "        if y_predict[k] == test_labels[k]:\n",
    "            count +=1\n",
    "    print('NetG_fixD, Acc at sample',_+1,count/10000)\n",
    "    Acc_results_G_sample9.append(count/10000)\n",
    "    \n",
    "print(max(Acc_results_G_sample9),min(Acc_results_G_sample9),np.mean(Acc_results_G_sample9),np.var(Acc_results_G_sample9))"
   ]
  },
  {
   "cell_type": "code",
   "execution_count": 20,
   "id": "4a83c92f",
   "metadata": {},
   "outputs": [
    {
     "name": "stderr",
     "output_type": "stream",
     "text": [
      "extracting all features from dataset: 100%|██████████████████████████████████████████████| 2/2 [00:05<00:00,  2.66s/it]\n",
      "extracting all features from dataset: 100%|██████████████████████████████████████████████| 1/1 [00:02<00:00,  2.05s/it]\n"
     ]
    },
    {
     "name": "stdout",
     "output_type": "stream",
     "text": [
      "----------------------------\n",
      "Train_z, Test_z\n",
      "PCA: 0.9358\n",
      "SVD: 0.9267\n",
      "NetG_fixD, Acc at sample 1 0.1021\n"
     ]
    },
    {
     "name": "stderr",
     "output_type": "stream",
     "text": [
      "extracting all features from dataset: 100%|██████████████████████████████████████████████| 2/2 [00:05<00:00,  2.66s/it]\n",
      "extracting all features from dataset: 100%|██████████████████████████████████████████████| 1/1 [00:02<00:00,  2.12s/it]\n"
     ]
    },
    {
     "name": "stdout",
     "output_type": "stream",
     "text": [
      "----------------------------\n",
      "Train_z, Test_z\n",
      "PCA: 0.9307\n",
      "SVD: 0.9244\n",
      "NetG_fixD, Acc at sample 2 0.1081\n"
     ]
    },
    {
     "name": "stderr",
     "output_type": "stream",
     "text": [
      "extracting all features from dataset: 100%|██████████████████████████████████████████████| 2/2 [00:05<00:00,  2.64s/it]\n",
      "extracting all features from dataset: 100%|██████████████████████████████████████████████| 1/1 [00:02<00:00,  2.11s/it]\n"
     ]
    },
    {
     "name": "stdout",
     "output_type": "stream",
     "text": [
      "----------------------------\n",
      "Train_z, Test_z\n",
      "PCA: 0.9297\n",
      "SVD: 0.9277\n",
      "NetG_fixD, Acc at sample 3 0.0979\n"
     ]
    },
    {
     "name": "stderr",
     "output_type": "stream",
     "text": [
      "extracting all features from dataset: 100%|██████████████████████████████████████████████| 2/2 [00:05<00:00,  2.75s/it]\n",
      "extracting all features from dataset: 100%|██████████████████████████████████████████████| 1/1 [00:02<00:00,  2.24s/it]\n"
     ]
    },
    {
     "name": "stdout",
     "output_type": "stream",
     "text": [
      "----------------------------\n",
      "Train_z, Test_z\n",
      "PCA: 0.9283\n",
      "SVD: 0.9236\n",
      "NetG_fixD, Acc at sample 4 0.1002\n"
     ]
    },
    {
     "name": "stderr",
     "output_type": "stream",
     "text": [
      "extracting all features from dataset: 100%|██████████████████████████████████████████████| 2/2 [00:05<00:00,  2.60s/it]\n",
      "extracting all features from dataset: 100%|██████████████████████████████████████████████| 1/1 [00:02<00:00,  2.03s/it]\n"
     ]
    },
    {
     "name": "stdout",
     "output_type": "stream",
     "text": [
      "----------------------------\n",
      "Train_z, Test_z\n",
      "PCA: 0.9319\n",
      "SVD: 0.9272\n",
      "NetG_fixD, Acc at sample 5 0.1193\n"
     ]
    },
    {
     "name": "stderr",
     "output_type": "stream",
     "text": [
      "extracting all features from dataset: 100%|██████████████████████████████████████████████| 2/2 [00:05<00:00,  2.70s/it]\n",
      "extracting all features from dataset: 100%|██████████████████████████████████████████████| 1/1 [00:02<00:00,  2.07s/it]\n"
     ]
    },
    {
     "name": "stdout",
     "output_type": "stream",
     "text": [
      "----------------------------\n",
      "Train_z, Test_z\n",
      "PCA: 0.9339999999999999\n",
      "SVD: 0.9305\n",
      "NetG_fixD, Acc at sample 6 0.0901\n"
     ]
    },
    {
     "name": "stderr",
     "output_type": "stream",
     "text": [
      "extracting all features from dataset: 100%|██████████████████████████████████████████████| 2/2 [00:05<00:00,  2.73s/it]\n",
      "extracting all features from dataset: 100%|██████████████████████████████████████████████| 1/1 [00:02<00:00,  2.05s/it]\n"
     ]
    },
    {
     "name": "stdout",
     "output_type": "stream",
     "text": [
      "----------------------------\n",
      "Train_z, Test_z\n",
      "PCA: 0.9269000000000001\n",
      "SVD: 0.9221\n",
      "NetG_fixD, Acc at sample 7 0.1111\n"
     ]
    },
    {
     "name": "stderr",
     "output_type": "stream",
     "text": [
      "extracting all features from dataset: 100%|██████████████████████████████████████████████| 2/2 [00:05<00:00,  2.60s/it]\n",
      "extracting all features from dataset: 100%|██████████████████████████████████████████████| 1/1 [00:02<00:00,  2.11s/it]\n"
     ]
    },
    {
     "name": "stdout",
     "output_type": "stream",
     "text": [
      "----------------------------\n",
      "Train_z, Test_z\n",
      "PCA: 0.9284\n",
      "SVD: 0.9252\n",
      "NetG_fixD, Acc at sample 8 0.1155\n"
     ]
    },
    {
     "name": "stderr",
     "output_type": "stream",
     "text": [
      "extracting all features from dataset: 100%|██████████████████████████████████████████████| 2/2 [00:05<00:00,  2.61s/it]\n",
      "extracting all features from dataset: 100%|██████████████████████████████████████████████| 1/1 [00:02<00:00,  2.13s/it]\n"
     ]
    },
    {
     "name": "stdout",
     "output_type": "stream",
     "text": [
      "----------------------------\n",
      "Train_z, Test_z\n",
      "PCA: 0.9264\n",
      "SVD: 0.9256\n",
      "NetG_fixD, Acc at sample 9 0.1053\n"
     ]
    },
    {
     "name": "stderr",
     "output_type": "stream",
     "text": [
      "extracting all features from dataset: 100%|██████████████████████████████████████████████| 2/2 [00:05<00:00,  2.60s/it]\n",
      "extracting all features from dataset: 100%|██████████████████████████████████████████████| 1/1 [00:02<00:00,  2.05s/it]\n"
     ]
    },
    {
     "name": "stdout",
     "output_type": "stream",
     "text": [
      "----------------------------\n",
      "Train_z, Test_z\n",
      "PCA: 0.9249\n",
      "SVD: 0.9238\n",
      "NetG_fixD, Acc at sample 10 0.1161\n"
     ]
    },
    {
     "name": "stderr",
     "output_type": "stream",
     "text": [
      "extracting all features from dataset: 100%|██████████████████████████████████████████████| 2/2 [00:05<00:00,  2.67s/it]\n",
      "extracting all features from dataset: 100%|██████████████████████████████████████████████| 1/1 [00:02<00:00,  2.08s/it]\n"
     ]
    },
    {
     "name": "stdout",
     "output_type": "stream",
     "text": [
      "----------------------------\n",
      "Train_z, Test_z\n",
      "PCA: 0.9319\n",
      "SVD: 0.9268\n",
      "NetG_fixD, Acc at sample 11 0.1165\n"
     ]
    },
    {
     "name": "stderr",
     "output_type": "stream",
     "text": [
      "extracting all features from dataset: 100%|██████████████████████████████████████████████| 2/2 [00:05<00:00,  2.61s/it]\n",
      "extracting all features from dataset: 100%|██████████████████████████████████████████████| 1/1 [00:02<00:00,  2.19s/it]\n"
     ]
    },
    {
     "name": "stdout",
     "output_type": "stream",
     "text": [
      "----------------------------\n",
      "Train_z, Test_z\n",
      "PCA: 0.9308\n",
      "SVD: 0.9283\n",
      "NetG_fixD, Acc at sample 12 0.0851\n"
     ]
    },
    {
     "name": "stderr",
     "output_type": "stream",
     "text": [
      "extracting all features from dataset: 100%|██████████████████████████████████████████████| 2/2 [00:05<00:00,  2.60s/it]\n",
      "extracting all features from dataset: 100%|██████████████████████████████████████████████| 1/1 [00:01<00:00,  2.00s/it]\n"
     ]
    },
    {
     "name": "stdout",
     "output_type": "stream",
     "text": [
      "----------------------------\n",
      "Train_z, Test_z\n",
      "PCA: 0.929\n",
      "SVD: 0.9254\n",
      "NetG_fixD, Acc at sample 13 0.1062\n"
     ]
    },
    {
     "name": "stderr",
     "output_type": "stream",
     "text": [
      "extracting all features from dataset: 100%|██████████████████████████████████████████████| 2/2 [00:05<00:00,  2.68s/it]\n",
      "extracting all features from dataset: 100%|██████████████████████████████████████████████| 1/1 [00:02<00:00,  2.03s/it]\n"
     ]
    },
    {
     "name": "stdout",
     "output_type": "stream",
     "text": [
      "----------------------------\n",
      "Train_z, Test_z\n",
      "PCA: 0.9304\n",
      "SVD: 0.9281\n",
      "NetG_fixD, Acc at sample 14 0.1091\n"
     ]
    },
    {
     "name": "stderr",
     "output_type": "stream",
     "text": [
      "extracting all features from dataset: 100%|██████████████████████████████████████████████| 2/2 [00:04<00:00,  2.50s/it]\n",
      "extracting all features from dataset: 100%|██████████████████████████████████████████████| 1/1 [00:02<00:00,  2.06s/it]\n"
     ]
    },
    {
     "name": "stdout",
     "output_type": "stream",
     "text": [
      "----------------------------\n",
      "Train_z, Test_z\n",
      "PCA: 0.9281\n",
      "SVD: 0.9255\n",
      "NetG_fixD, Acc at sample 15 0.1055\n"
     ]
    },
    {
     "name": "stderr",
     "output_type": "stream",
     "text": [
      "extracting all features from dataset: 100%|██████████████████████████████████████████████| 2/2 [00:05<00:00,  2.68s/it]\n",
      "extracting all features from dataset: 100%|██████████████████████████████████████████████| 1/1 [00:02<00:00,  2.11s/it]\n"
     ]
    },
    {
     "name": "stdout",
     "output_type": "stream",
     "text": [
      "----------------------------\n",
      "Train_z, Test_z\n",
      "PCA: 0.9277\n",
      "SVD: 0.9226\n",
      "NetG_fixD, Acc at sample 16 0.0791\n"
     ]
    },
    {
     "name": "stderr",
     "output_type": "stream",
     "text": [
      "extracting all features from dataset: 100%|██████████████████████████████████████████████| 2/2 [00:05<00:00,  2.62s/it]\n",
      "extracting all features from dataset: 100%|██████████████████████████████████████████████| 1/1 [00:02<00:00,  2.10s/it]\n"
     ]
    },
    {
     "name": "stdout",
     "output_type": "stream",
     "text": [
      "----------------------------\n",
      "Train_z, Test_z\n",
      "PCA: 0.9312\n",
      "SVD: 0.9297\n",
      "NetG_fixD, Acc at sample 17 0.0829\n"
     ]
    },
    {
     "name": "stderr",
     "output_type": "stream",
     "text": [
      "extracting all features from dataset: 100%|██████████████████████████████████████████████| 2/2 [00:05<00:00,  2.71s/it]\n",
      "extracting all features from dataset: 100%|██████████████████████████████████████████████| 1/1 [00:02<00:00,  2.09s/it]\n"
     ]
    },
    {
     "name": "stdout",
     "output_type": "stream",
     "text": [
      "----------------------------\n",
      "Train_z, Test_z\n",
      "PCA: 0.9297\n",
      "SVD: 0.9275\n",
      "NetG_fixD, Acc at sample 18 0.1099\n"
     ]
    },
    {
     "name": "stderr",
     "output_type": "stream",
     "text": [
      "extracting all features from dataset: 100%|██████████████████████████████████████████████| 2/2 [00:05<00:00,  2.71s/it]\n",
      "extracting all features from dataset: 100%|██████████████████████████████████████████████| 1/1 [00:02<00:00,  2.11s/it]\n"
     ]
    },
    {
     "name": "stdout",
     "output_type": "stream",
     "text": [
      "----------------------------\n",
      "Train_z, Test_z\n",
      "PCA: 0.9299\n",
      "SVD: 0.9278\n",
      "NetG_fixD, Acc at sample 19 0.1042\n"
     ]
    },
    {
     "name": "stderr",
     "output_type": "stream",
     "text": [
      "extracting all features from dataset: 100%|██████████████████████████████████████████████| 2/2 [00:05<00:00,  2.56s/it]\n",
      "extracting all features from dataset: 100%|██████████████████████████████████████████████| 1/1 [00:02<00:00,  2.06s/it]\n"
     ]
    },
    {
     "name": "stdout",
     "output_type": "stream",
     "text": [
      "----------------------------\n",
      "Train_z, Test_z\n",
      "PCA: 0.9285\n",
      "SVD: 0.9252\n",
      "NetG_fixD, Acc at sample 20 0.0944\n",
      "0.1193 0.0791 0.10293 0.00012730110000000005\n"
     ]
    }
   ],
   "source": [
    "# sample 20 times of NetG at final radius, NetD is fixed\n",
    "from sklearn.neighbors import KNeighborsClassifier \n",
    "Acc_results_G_sample10 = []\n",
    "\n",
    "for _ in range(sample_num):\n",
    "    #acc at first\n",
    "    net_noise = get_noise(DATASET, device, LABEL)\n",
    "    fed_state_dict = get_netG(netD,netV,net_noise,r_list[10])\n",
    "    netG.load_state_dict(fed_state_dict)\n",
    "    \n",
    "    train_X, train_Z, train_X_bar, train_Z_bar, train_labels = extract_features2(trainloader, netG, netD)\n",
    "\n",
    "    test_X, test_Z, test_X_bar, test_Z_bar, test_labels = extract_features2(testloader, netG, netD)\n",
    "\n",
    "    print(\"----------------------------\")\n",
    "    print(\"Train_z, Test_z\")\n",
    "    nearsub(n_comp, train_Z, train_labels, test_Z, test_labels)\n",
    "\n",
    "    knn= KNeighborsClassifier(n_neighbors=10) \n",
    "\n",
    "    knn.fit(train_Z,train_labels) \n",
    "    knn.score(test_Z_bar,test_labels) \n",
    "\n",
    "    y_predict = knn.predict(test_Z_bar) \n",
    "\n",
    "    count =0\n",
    "    for k in range(10000):\n",
    "        if y_predict[k] == test_labels[k]:\n",
    "            count +=1\n",
    "    print('NetG_fixD, Acc at sample',_+1,count/10000)\n",
    "    Acc_results_G_sample10.append(count/10000)\n",
    "    \n",
    "print(max(Acc_results_G_sample10),min(Acc_results_G_sample10),np.mean(Acc_results_G_sample10),np.var(Acc_results_G_sample10))"
   ]
  },
  {
   "cell_type": "code",
   "execution_count": null,
   "id": "754fc0d5",
   "metadata": {},
   "outputs": [],
   "source": []
  }
 ],
 "metadata": {
  "kernelspec": {
   "display_name": "Python 3 (ipykernel)",
   "language": "python",
   "name": "python3"
  },
  "language_info": {
   "codemirror_mode": {
    "name": "ipython",
    "version": 3
   },
   "file_extension": ".py",
   "mimetype": "text/x-python",
   "name": "python",
   "nbconvert_exporter": "python",
   "pygments_lexer": "ipython3",
   "version": "3.7.16"
  }
 },
 "nbformat": 4,
 "nbformat_minor": 5
}
