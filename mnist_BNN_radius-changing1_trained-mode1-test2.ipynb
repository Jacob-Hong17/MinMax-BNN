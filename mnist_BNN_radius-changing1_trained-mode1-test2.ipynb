{
 "cells": [
  {
   "cell_type": "code",
   "execution_count": 1,
   "id": "95b64f9b",
   "metadata": {},
   "outputs": [],
   "source": [
    "# all codes come are changed based on LDR code.\n",
    "# 用添加噪声的数据进行训练\n",
    "import argparse\n",
    "import torch.optim as optim\n",
    "import os\n",
    "import yaml\n",
    "from mcrgan.default import _C as config\n",
    "from mcrgan.default import update_config\n",
    "import torch\n",
    "from mcrgan.trainer import MCRTrainer\n",
    "from mcrgan.datasets import get_dataloader\n",
    "from mcrgan.models import get_models\n",
    "from mcrgan.models import get_BNN_models\n",
    "from mcrgan.models import get_noise\n",
    "from mcrgan.models import get_noise_uniform\n",
    "from mcrgan.models import DiscriminatorMNIST\n",
    "from mcrgan.models import weights_init_mnist_model_noise\n",
    "\n",
    "import numpy as np\n",
    "import torch\n",
    "import argparse\n",
    "from mcrgan.datasets import get_dataloader\n",
    "from mcrgan.models import get_models\n",
    "from mcrgan.default import _C as config\n",
    "from mcrgan.default import update_config\n",
    "from utils.utils import sort_dataset, compute_accuracy, extract_features\n",
    "from sklearn.decomposition import PCA\n",
    "from sklearn.decomposition import TruncatedSVD\n",
    "import torchvision.transforms as transforms\n",
    "import torchvision.datasets as datasets\n",
    "from tqdm import tqdm\n",
    "import os\n",
    "from mcrgan.loss import MCRGANloss\n",
    "import random\n",
    "random.seed(0)"
   ]
  },
  {
   "cell_type": "code",
   "execution_count": 2,
   "id": "806b2e2c",
   "metadata": {},
   "outputs": [],
   "source": [
    "# 导入mnist数据集，进行对比\n",
    "device = torch.device('cuda' if torch.cuda.is_available() else \"cpu\")\n",
    "DATASET = 'mnist'\n",
    "ROOT    = 'pth/to/the/dataset'\n",
    "BATCH_SIZE = 2048\n",
    "WORKERS = 8\n",
    "DATA_SAMPLE = 50000\n",
    "LABEL = 0\n",
    "\n",
    "dataloader, dataset = get_dataloader(\n",
    "        data_name=DATASET,\n",
    "        root=ROOT,\n",
    "        batch_size=BATCH_SIZE,\n",
    "        num_workers=WORKERS)"
   ]
  },
  {
   "cell_type": "code",
   "execution_count": 3,
   "id": "08feb6b9",
   "metadata": {},
   "outputs": [],
   "source": [
    "import collections\n",
    "\n",
    "def get_netG(netD,netV,net_noise,radius=1):\n",
    "    models = [netD, netV,net_noise]\n",
    "    worker_state_dict = [x.state_dict() for x in models]\n",
    "    weight_keys = list(worker_state_dict[0].keys())\n",
    "    fed_state_dict = collections.OrderedDict()\n",
    "    for key in weight_keys:\n",
    "        fed_state_dict[key] = worker_state_dict[0][key] + radius*worker_state_dict[2][key]*torch.log(1+torch.exp(worker_state_dict[1][key]))\n",
    "    return fed_state_dict\n",
    "\n",
    "# new netG already optimized by adam and time learning rate, so we only using netG to update netV\n",
    "def update_netV(netV,netG,net_noise,fed_state_dict,radius=1):\n",
    "    models =[netV,netG,net_noise]\n",
    "    worker_state_dict = [x.state_dict() for x in models]\n",
    "    weight_keys = list(worker_state_dict[0].keys())\n",
    "    update_dict = collections.OrderedDict()\n",
    "    for key in weight_keys:\n",
    "        update_dict[key] = worker_state_dict[0][key] - (worker_state_dict[1][key]-fed_state_dict[key])*(worker_state_dict[2][key]*radius)/torch.log(1+torch.exp(-worker_state_dict[0][key]))\n",
    "    return update_dict\n",
    "\n",
    "# generate different distribution via gaussian init and uniform\n",
    "def get_cauchy_noise(netD,net_noise1,net_noise2):\n",
    "    models =[netD,net_noise1, net_noise2]\n",
    "    worker_state_dict = [x.state_dict() for x in models]\n",
    "    weight_keys = list(worker_state_dict[0].keys())\n",
    "    update_dict = collections.OrderedDict()\n",
    "    for key in weight_keys:\n",
    "        update_dict[key] = worker_state_dict[1][key] / worker_state_dict[2][key]\n",
    "    return update_dict\n",
    "        "
   ]
  },
  {
   "cell_type": "code",
   "execution_count": 4,
   "id": "bd8022df",
   "metadata": {},
   "outputs": [],
   "source": [
    "#models\n",
    "# train hyperparameters, batch norm not used var\n",
    "#store_Var = []\n",
    "import time\n",
    "from torch_mimicry.training import scheduler, logger, metric_log\n",
    "\n",
    "from test_acc import nearsub\n",
    "import numpy as np\n",
    "import torch\n",
    "import argparse\n",
    "from mcrgan.datasets import get_dataloader\n",
    "from mcrgan.models import get_models\n",
    "from mcrgan.default import _C as config\n",
    "from mcrgan.default import update_config\n",
    "from utils.utils import sort_dataset, compute_accuracy, extract_features2\n",
    "from sklearn.decomposition import PCA\n",
    "from sklearn.decomposition import TruncatedSVD\n",
    "import torchvision.transforms as transforms\n",
    "import torchvision.datasets as datasets\n",
    "from tqdm import tqdm\n",
    "import os\n",
    "\n",
    "start_time = time.time()\n",
    "#global_step = 0\n",
    "epsilon_noise = 0.1\n",
    "num_steps = 1000\n",
    "n_dis = 1\n",
    "n_dis2 = 1\n",
    "numclasses =10\n",
    "lr1 = 1e-3\n",
    "lr2 = 1e-3\n",
    "log_data = metric_log.MetricLog()\n",
    "data_time = time.time()\n",
    "iter_dataloader = iter(dataloader)\n",
    "data, label = next(iter_dataloader)\n",
    "data_time = time.time() - data_time\n",
    "real_cpu = data.to(device)\n",
    "real_label = label.clone().detach()\n",
    "\n",
    "netD, netG, netV = get_BNN_models(DATASET, device, LABEL)\n",
    "net_noise = get_noise(DATASET, device, LABEL)\n",
    "fed_state_dict = get_netG(netD,netV,net_noise)\n",
    "netG.load_state_dict(fed_state_dict)\n",
    "optD = optim.Adam(netD.parameters(), lr1, betas=(0.5, 0.999))\n",
    "optG = optim.Adam(netG.parameters(), lr2, betas=(0.5, 0.999))\n",
    "\n",
    "Acc_results_D = []\n",
    "Acc_results_G = []\n",
    "\n",
    "\n",
    "transform = transforms.Compose(\n",
    "            [transforms.Resize(32),\n",
    "             transforms.ToTensor(),\n",
    "             transforms.Normalize(0.5, 0.5)])\n",
    "\n",
    "trainset = datasets.MNIST(root=ROOT, train=True, download=True, transform=transform)\n",
    "testset = datasets.MNIST(root=ROOT, train=False, download=True, transform=transform)\n",
    "\n",
    "testloader = torch.utils.data.DataLoader(\n",
    "        testset, batch_size=DATA_SAMPLE, shuffle=False, num_workers=WORKERS)\n",
    "\n",
    "trainloader = torch.utils.data.DataLoader(\n",
    "        trainset, batch_size=DATA_SAMPLE, shuffle=False, num_workers=WORKERS)\n",
    "device = torch.device('cuda' if torch.cuda.is_available() else \"cpu\")\n",
    "n_comp = 10\n"
   ]
  },
  {
   "cell_type": "code",
   "execution_count": 5,
   "id": "3805e79e",
   "metadata": {},
   "outputs": [
    {
     "name": "stderr",
     "output_type": "stream",
     "text": [
      "extracting all features from dataset: 100%|██████████████████████████████████████████████| 1/1 [00:04<00:00,  4.02s/it]\n",
      "extracting all features from dataset: 100%|██████████████████████████████████████████████| 1/1 [00:01<00:00,  1.72s/it]\n"
     ]
    },
    {
     "name": "stdout",
     "output_type": "stream",
     "text": [
      "----------------------------\n",
      "Train_z, Test_z\n",
      "PCA: 0.9507\n",
      "SVD: 0.9486\n",
      "NetD, Acc at first 0.9488\n"
     ]
    },
    {
     "name": "stderr",
     "output_type": "stream",
     "text": [
      "extracting all features from dataset: 100%|██████████████████████████████████████████████| 2/2 [00:04<00:00,  2.05s/it]\n",
      "extracting all features from dataset: 100%|██████████████████████████████████████████████| 1/1 [00:01<00:00,  1.53s/it]\n"
     ]
    },
    {
     "name": "stdout",
     "output_type": "stream",
     "text": [
      "----------------------------\n",
      "Train_z, Test_z\n",
      "PCA: 0.935\n",
      "SVD: 0.9317\n",
      "NetG, Acc at first 0.9572\n"
     ]
    }
   ],
   "source": [
    "#acc at first for NetD\n",
    "train_X, train_Z, train_X_bar, train_Z_bar, train_labels = extract_features2(testloader, netD, netG)\n",
    "\n",
    "test_X, test_Z, test_X_bar, test_Z_bar, test_labels = extract_features2(testloader, netD, netG)\n",
    "\n",
    "\n",
    "print(\"----------------------------\")\n",
    "print(\"Train_z, Test_z\")\n",
    "nearsub(n_comp, train_Z, train_labels, test_Z, test_labels)\n",
    "\n",
    "#acc at first for NetD\n",
    "from sklearn.neighbors import KNeighborsClassifier \n",
    "knn= KNeighborsClassifier(n_neighbors=10) \n",
    "\n",
    "knn.fit(train_Z,train_labels) \n",
    "knn.score(test_Z,test_labels) \n",
    " \n",
    "y_predict = knn.predict(test_Z) \n",
    "\n",
    "count =0\n",
    "for k in range(10000):\n",
    "    if y_predict[k] == test_labels[k]:\n",
    "        count +=1\n",
    "print('NetD, Acc at first',count/10000)\n",
    "Acc_results_D.append(count/10000)\n",
    "\n",
    "#acc at first for NetG\n",
    "train_X, train_Z, train_X_bar, train_Z_bar, train_labels = extract_features2(trainloader, netG, netD)\n",
    "\n",
    "test_X, test_Z, test_X_bar, test_Z_bar, test_labels = extract_features2(testloader, netG, netD)\n",
    "\n",
    "print(\"----------------------------\")\n",
    "print(\"Train_z, Test_z\")\n",
    "nearsub(n_comp, train_Z, train_labels, test_Z, test_labels)\n",
    "\n",
    "\n",
    "#acc at first\n",
    "from sklearn.neighbors import KNeighborsClassifier \n",
    "knn= KNeighborsClassifier(n_neighbors=10) \n",
    "\n",
    "knn.fit(train_Z,train_labels) \n",
    "knn.score(test_Z,test_labels) \n",
    " \n",
    "y_predict = knn.predict(test_Z) \n",
    "\n",
    "count =0\n",
    "for k in range(10000):\n",
    "    if y_predict[k] == test_labels[k]:\n",
    "        count +=1\n",
    "print('NetG, Acc at first',count/10000)\n",
    "Acc_results_G.append(count/10000)"
   ]
  },
  {
   "cell_type": "code",
   "execution_count": 5,
   "id": "dd6bcdad",
   "metadata": {},
   "outputs": [],
   "source": [
    "# golden search algorithm to determined the radius of the sample ball, due to traditional updating netV is too slow\n",
    "# no meaning for n_dis =2 for our case, just to have output for every update\n",
    "# sample too much would arise cuda memory error\n",
    "def gs_radius(radius1,radius2,netD,real_cpu,real_label,tor=1e-3,n_dis=2,lam=0.618,mode=1,gam3=1):\n",
    "    mcr_gan_loss=MCRGANloss(gam1=1., gam2=1., gam3=gam3, eps=0.5, numclasses=numclasses, mode=mode, rho=None)\n",
    "    #optG = optim.Adam(netG.parameters(), lr2, betas=(0.5, 0.999))\n",
    "    \n",
    "    Z = netD(real_cpu)\n",
    "    net_noise = get_noise(DATASET, device, LABEL)\n",
    "    err1 = 0\n",
    "    err2 = 1000\n",
    "    while abs(err1 - err2)> tor or abs(radius1-radius2)>tor:\n",
    "        a1 = radius2 - lam*(radius2-radius1)\n",
    "        a2 = radius1 + lam*(radius2-radius1)\n",
    "        fed_state_dict = get_netG(netD,netV,net_noise,a1)\n",
    "        netG.load_state_dict(fed_state_dict)\n",
    "        Z_bar = netG(real_cpu)\n",
    "        errG1, errG_EC1 = mcr_gan_loss(Z, Z_bar, real_label, n_dis2 - 1, n_dis2)\n",
    "        err1 = errG1\n",
    "        \n",
    "        fed_state_dict = get_netG(netD,netV,net_noise,a2)\n",
    "        netG.load_state_dict(fed_state_dict)\n",
    "        Z_bar = netG(real_cpu)\n",
    "        errG2, errG_EC2 = mcr_gan_loss(Z, Z_bar, real_label, n_dis2 - 1, n_dis2)\n",
    "        err2 = errG2\n",
    "        \n",
    "        if err1 > err2:\n",
    "            radius1 = a1\n",
    "            a1 = a2\n",
    "            err1 = err2\n",
    "            a2 = radius1 + lam*(radius2-radius1)\n",
    "            fed_state_dict = get_netG(netD,netV,net_noise,a2)\n",
    "            netG.load_state_dict(fed_state_dict)\n",
    "            Z_bar = netG(real_cpu)\n",
    "            errG2, errG_EC2 = mcr_gan_loss(Z, Z_bar, real_label, n_dis2 - 1, n_dis2)\n",
    "            err2 = errG2\n",
    "            #print('r1',radius1)\n",
    "            #print(errG2, errG_EC2)\n",
    "        else:\n",
    "            radius2 = a2\n",
    "            a2 = a1\n",
    "            a1 = radius2 - lam*(radius2-radius1)\n",
    "            fed_state_dict = get_netG(netD,netV,net_noise,a1)\n",
    "            netG.load_state_dict(fed_state_dict)\n",
    "            Z_bar = netG(real_cpu)\n",
    "            errG1, errG_EC1 = mcr_gan_loss(Z, Z_bar, real_label, n_dis2 - 1, n_dis2)\n",
    "            err1 = errG1\n",
    "            #print('r2',radius2)\n",
    "            #print(errG1, errG_EC1)\n",
    "         \n",
    "    return radius1,radius2\n",
    "\n",
    "\n",
    "def gs_radius2(radius1,radius2, netD,real_cpu,real_label,tor=1e-3,n_dis=2,lam=0.618,mode=1,gam3=1):\n",
    "    mcr_gan_loss=MCRGANloss(gam1=1., gam2=1., gam3=gam3, eps=0.5, numclasses=numclasses, mode=mode, rho=None)\n",
    "    #optG = optim.Adam(netG.parameters(), lr2, betas=(0.5, 0.999))\n",
    "    \n",
    "    Z = netD(real_cpu)\n",
    "    net_noise = get_noise(DATASET, device, LABEL)\n",
    "    net_noise1 = get_noise(DATASET, device, LABEL)\n",
    "    net_noise_cauchy = get_cauchy_noise(netD,net_noise,net_noise1)\n",
    "    net_noise.load_state_dict(net_noise_cauchy)\n",
    "    #net_noise = get_noise(DATASET, device, LABEL)\n",
    "    err1 = 0\n",
    "    err2 = 1000\n",
    "    while abs(err1 - err2)> tor or abs(radius1-radius2)>tor:\n",
    "        a1 = radius2 - lam*(radius2-radius1)\n",
    "        a2 = radius1 + lam*(radius2-radius1)\n",
    "        fed_state_dict = get_netG(netD,netV,net_noise,a1)\n",
    "        netG.load_state_dict(fed_state_dict)\n",
    "        Z_bar = netG(real_cpu)\n",
    "        errG1, errG_EC1 = mcr_gan_loss(Z, Z_bar, real_label, n_dis2 - 1, n_dis2)\n",
    "        err1 = errG1\n",
    "        \n",
    "        fed_state_dict = get_netG(netD,netV,net_noise,a2)\n",
    "        netG.load_state_dict(fed_state_dict)\n",
    "        Z_bar = netG(real_cpu)\n",
    "        errG2, errG_EC2 = mcr_gan_loss(Z, Z_bar, real_label, n_dis2 - 1, n_dis2)\n",
    "        err2 = errG2\n",
    "        \n",
    "        if err1 > err2:\n",
    "            radius1 = a1\n",
    "            a1 = a2\n",
    "            err1 = err2\n",
    "            a2 = radius1 + lam*(radius2-radius1)\n",
    "            fed_state_dict = get_netG(netD,netV,net_noise,a2)\n",
    "            netG.load_state_dict(fed_state_dict)\n",
    "            Z_bar = netG(real_cpu)\n",
    "            errG2, errG_EC2 = mcr_gan_loss(Z, Z_bar, real_label, n_dis2 - 1, n_dis2)\n",
    "            err2 = errG2\n",
    "            #print('r1',radius1)\n",
    "            #print(errG2, errG_EC2)\n",
    "        else:\n",
    "            radius2 = a2\n",
    "            a2 = a1\n",
    "            a1 = radius2 - lam*(radius2-radius1)\n",
    "            fed_state_dict = get_netG(netD,netV,net_noise,a1)\n",
    "            netG.load_state_dict(fed_state_dict)\n",
    "            Z_bar = netG(real_cpu)\n",
    "            errG1, errG_EC1 = mcr_gan_loss(Z, Z_bar, real_label, n_dis2 - 1, n_dis2)\n",
    "            err1 = errG1\n",
    "            #print('r2',radius2)\n",
    "            #print(errG1, errG_EC1)\n",
    "         \n",
    "    return radius1,radius2\n",
    "\n",
    "def gs_radius3(radius1,radius2, netD,real_cpu,real_label,tor=1e-3,n_dis=2,lam=0.618,mode=1,gam3=1):\n",
    "    mcr_gan_loss=MCRGANloss(gam1=1., gam2=1., gam3=gam3, eps=0.5, numclasses=numclasses, mode=mode, rho=None)\n",
    "    #optG = optim.Adam(netG.parameters(), lr2, betas=(0.5, 0.999))\n",
    "    \n",
    "    Z = netD(real_cpu)\n",
    "    net_noise = get_noise_uniform(DATASET, device, LABEL)\n",
    "\n",
    "    #net_noise = get_noise(DATASET, device, LABEL)\n",
    "    err1 = 0\n",
    "    err2 = 1000\n",
    "    while abs(err1 - err2)> tor or abs(radius1-radius2)>tor:\n",
    "        a1 = radius2 - lam*(radius2-radius1)\n",
    "        a2 = radius1 + lam*(radius2-radius1)\n",
    "        fed_state_dict = get_netG(netD,netV,net_noise,a1)\n",
    "        netG.load_state_dict(fed_state_dict)\n",
    "        Z_bar = netG(real_cpu)\n",
    "        errG1, errG_EC1 = mcr_gan_loss(Z, Z_bar, real_label, n_dis2 - 1, n_dis2)\n",
    "        err1 = errG1\n",
    "        \n",
    "        fed_state_dict = get_netG(netD,netV,net_noise,a2)\n",
    "        netG.load_state_dict(fed_state_dict)\n",
    "        Z_bar = netG(real_cpu)\n",
    "        errG2, errG_EC2 = mcr_gan_loss(Z, Z_bar, real_label, n_dis2 - 1, n_dis2)\n",
    "        err2 = errG2\n",
    "        \n",
    "        if err1 > err2:\n",
    "            radius1 = a1\n",
    "            a1 = a2\n",
    "            err1 = err2\n",
    "            a2 = radius1 + lam*(radius2-radius1)\n",
    "            fed_state_dict = get_netG(netD,netV,net_noise,a2)\n",
    "            netG.load_state_dict(fed_state_dict)\n",
    "            Z_bar = netG(real_cpu)\n",
    "            errG2, errG_EC2 = mcr_gan_loss(Z, Z_bar, real_label, n_dis2 - 1, n_dis2)\n",
    "            err2 = errG2\n",
    "            #print('r1',radius1)\n",
    "            #print(errG2, errG_EC2)\n",
    "        else:\n",
    "            radius2 = a2\n",
    "            a2 = a1\n",
    "            a1 = radius2 - lam*(radius2-radius1)\n",
    "            fed_state_dict = get_netG(netD,netV,net_noise,a1)\n",
    "            netG.load_state_dict(fed_state_dict)\n",
    "            Z_bar = netG(real_cpu)\n",
    "            errG1, errG_EC1 = mcr_gan_loss(Z, Z_bar, real_label, n_dis2 - 1, n_dis2)\n",
    "            err1 = errG1\n",
    "            #print('r2',radius2)\n",
    "            #print(errG1, errG_EC1)\n",
    "         \n",
    "    return radius1,radius2"
   ]
  },
  {
   "cell_type": "code",
   "execution_count": null,
   "id": "e0d6cae2",
   "metadata": {},
   "outputs": [
    {
     "name": "stdout",
     "output_type": "stream",
     "text": [
      "tensor(-43.1898, device='cuda:0', grad_fn=<NegBackward0>) [tensor(-3.8196, device='cuda:0', grad_fn=<NegBackward0>), tensor(-4.3242, device='cuda:0', grad_fn=<NegBackward0>), tensor(-35.0460, device='cuda:0', grad_fn=<AddBackward0>)]\n",
      "7.846552576711052\n",
      "tensor(-43.8656, device='cuda:0', grad_fn=<NegBackward0>) [tensor(-2.5653, device='cuda:0', grad_fn=<NegBackward0>), tensor(-4.9531, device='cuda:0', grad_fn=<NegBackward0>), tensor(-36.3472, device='cuda:0', grad_fn=<AddBackward0>)]\n",
      "tensor(-39.6048, device='cuda:0', grad_fn=<NegBackward0>) [tensor(-2.5653, device='cuda:0', grad_fn=<NegBackward0>), tensor(-4.0652, device='cuda:0', grad_fn=<NegBackward0>), tensor(-32.9743, device='cuda:0', grad_fn=<AddBackward0>)]\n",
      "99.96949314545007\n",
      "tensor(-63.3742, device='cuda:0', grad_fn=<NegBackward0>) [tensor(-7.0303, device='cuda:0', grad_fn=<NegBackward0>), tensor(-4.6227, device='cuda:0', grad_fn=<NegBackward0>), tensor(-51.7212, device='cuda:0', grad_fn=<AddBackward0>)]\n",
      "tensor(-65.6700, device='cuda:0', grad_fn=<NegBackward0>) [tensor(-7.0303, device='cuda:0', grad_fn=<NegBackward0>), tensor(-5.4161, device='cuda:0', grad_fn=<NegBackward0>), tensor(-53.2236, device='cuda:0', grad_fn=<AddBackward0>)]\n",
      "34.97884843911265\n",
      "tensor(-56.5729, device='cuda:0', grad_fn=<NegBackward0>) [tensor(-5.7023, device='cuda:0', grad_fn=<NegBackward0>), tensor(-4.4531, device='cuda:0', grad_fn=<NegBackward0>), tensor(-46.4175, device='cuda:0', grad_fn=<AddBackward0>)]\n",
      "tensor(-57.7079, device='cuda:0', grad_fn=<NegBackward0>) [tensor(-5.7023, device='cuda:0', grad_fn=<NegBackward0>), tensor(-4.6829, device='cuda:0', grad_fn=<NegBackward0>), tensor(-47.3227, device='cuda:0', grad_fn=<AddBackward0>)]\n",
      "5.0755496375021325\n",
      "tensor(-71.3454, device='cuda:0', grad_fn=<NegBackward0>) [tensor(-7.7686, device='cuda:0', grad_fn=<NegBackward0>), tensor(-5.8784, device='cuda:0', grad_fn=<NegBackward0>), tensor(-57.6984, device='cuda:0', grad_fn=<AddBackward0>)]\n",
      "tensor(-69.8849, device='cuda:0', grad_fn=<NegBackward0>) [tensor(-7.7686, device='cuda:0', grad_fn=<NegBackward0>), tensor(-5.4720, device='cuda:0', grad_fn=<NegBackward0>), tensor(-56.6443, device='cuda:0', grad_fn=<AddBackward0>)]\n",
      "99.95472118924262\n",
      "tensor(-72.9372, device='cuda:0', grad_fn=<NegBackward0>) [tensor(-8.6771, device='cuda:0', grad_fn=<NegBackward0>), tensor(-4.3510, device='cuda:0', grad_fn=<NegBackward0>), tensor(-59.9092, device='cuda:0', grad_fn=<AddBackward0>)]\n",
      "tensor(-72.3115, device='cuda:0', grad_fn=<NegBackward0>) [tensor(-8.6771, device='cuda:0', grad_fn=<NegBackward0>), tensor(-4.2960, device='cuda:0', grad_fn=<NegBackward0>), tensor(-59.3385, device='cuda:0', grad_fn=<AddBackward0>)]\n",
      "5.613604534378862\n",
      "tensor(-85.1759, device='cuda:0', grad_fn=<NegBackward0>) [tensor(-9.5156, device='cuda:0', grad_fn=<NegBackward0>), tensor(-7.4544, device='cuda:0', grad_fn=<NegBackward0>), tensor(-68.2060, device='cuda:0', grad_fn=<AddBackward0>)]\n",
      "tensor(-78.9864, device='cuda:0', grad_fn=<NegBackward0>) [tensor(-9.5156, device='cuda:0', grad_fn=<NegBackward0>), tensor(-5.7706, device='cuda:0', grad_fn=<NegBackward0>), tensor(-63.7002, device='cuda:0', grad_fn=<AddBackward0>)]\n",
      "6.656165468512148\n",
      "tensor(-84.5185, device='cuda:0', grad_fn=<NegBackward0>) [tensor(-10.2580, device='cuda:0', grad_fn=<NegBackward0>), tensor(-6.3370, device='cuda:0', grad_fn=<NegBackward0>), tensor(-67.9236, device='cuda:0', grad_fn=<AddBackward0>)]\n",
      "tensor(-83.8352, device='cuda:0', grad_fn=<NegBackward0>) [tensor(-10.2580, device='cuda:0', grad_fn=<NegBackward0>), tensor(-6.1848, device='cuda:0', grad_fn=<NegBackward0>), tensor(-67.3925, device='cuda:0', grad_fn=<AddBackward0>)]\n",
      "5.252155922043085\n",
      "tensor(-87.3132, device='cuda:0', grad_fn=<NegBackward0>) [tensor(-10.8754, device='cuda:0', grad_fn=<NegBackward0>), tensor(-7.0516, device='cuda:0', grad_fn=<NegBackward0>), tensor(-69.3862, device='cuda:0', grad_fn=<AddBackward0>)]\n",
      "tensor(-85.4747, device='cuda:0', grad_fn=<NegBackward0>) [tensor(-10.8754, device='cuda:0', grad_fn=<NegBackward0>), tensor(-6.3518, device='cuda:0', grad_fn=<NegBackward0>), tensor(-68.2476, device='cuda:0', grad_fn=<AddBackward0>)]\n",
      "4.886845155200977\n",
      "tensor(-91.7961, device='cuda:0', grad_fn=<NegBackward0>) [tensor(-11.2621, device='cuda:0', grad_fn=<NegBackward0>), tensor(-8.2660, device='cuda:0', grad_fn=<NegBackward0>), tensor(-72.2680, device='cuda:0', grad_fn=<AddBackward0>)]\n",
      "tensor(-87.8504, device='cuda:0', grad_fn=<NegBackward0>) [tensor(-11.2621, device='cuda:0', grad_fn=<NegBackward0>), tensor(-6.9378, device='cuda:0', grad_fn=<NegBackward0>), tensor(-69.6505, device='cuda:0', grad_fn=<AddBackward0>)]\n",
      "4.728047806536111\n",
      "tensor(-90.0474, device='cuda:0', grad_fn=<NegBackward0>) [tensor(-11.5866, device='cuda:0', grad_fn=<NegBackward0>), tensor(-7.7378, device='cuda:0', grad_fn=<NegBackward0>), tensor(-70.7230, device='cuda:0', grad_fn=<AddBackward0>)]\n",
      "tensor(-88.5798, device='cuda:0', grad_fn=<NegBackward0>) [tensor(-11.5866, device='cuda:0', grad_fn=<NegBackward0>), tensor(-6.6390, device='cuda:0', grad_fn=<NegBackward0>), tensor(-70.3541, device='cuda:0', grad_fn=<AddBackward0>)]\n",
      "5.431792944885431\n",
      "tensor(-89.3361, device='cuda:0', grad_fn=<NegBackward0>) [tensor(-12.0251, device='cuda:0', grad_fn=<NegBackward0>), tensor(-6.4239, device='cuda:0', grad_fn=<NegBackward0>), tensor(-70.8871, device='cuda:0', grad_fn=<AddBackward0>)]\n",
      "tensor(-92.6228, device='cuda:0', grad_fn=<NegBackward0>) [tensor(-12.0251, device='cuda:0', grad_fn=<NegBackward0>), tensor(-7.7714, device='cuda:0', grad_fn=<NegBackward0>), tensor(-72.8263, device='cuda:0', grad_fn=<AddBackward0>)]\n",
      "4.9538094483236605\n",
      "tensor(-92.5799, device='cuda:0', grad_fn=<NegBackward0>) [tensor(-12.5346, device='cuda:0', grad_fn=<NegBackward0>), tensor(-7.5737, device='cuda:0', grad_fn=<NegBackward0>), tensor(-72.4716, device='cuda:0', grad_fn=<AddBackward0>)]\n",
      "tensor(-93.6118, device='cuda:0', grad_fn=<NegBackward0>) [tensor(-12.5346, device='cuda:0', grad_fn=<NegBackward0>), tensor(-7.9819, device='cuda:0', grad_fn=<NegBackward0>), tensor(-73.0954, device='cuda:0', grad_fn=<AddBackward0>)]\n",
      "5.512228073649639\n",
      "tensor(-93.7881, device='cuda:0', grad_fn=<NegBackward0>) [tensor(-12.9439, device='cuda:0', grad_fn=<NegBackward0>), tensor(-6.8782, device='cuda:0', grad_fn=<NegBackward0>), tensor(-73.9660, device='cuda:0', grad_fn=<AddBackward0>)]\n",
      "tensor(-92.9529, device='cuda:0', grad_fn=<NegBackward0>) [tensor(-12.9439, device='cuda:0', grad_fn=<NegBackward0>), tensor(-6.4555, device='cuda:0', grad_fn=<NegBackward0>), tensor(-73.5535, device='cuda:0', grad_fn=<AddBackward0>)]\n",
      "4.695722252787823\n",
      "tensor(-93.2124, device='cuda:0', grad_fn=<NegBackward0>) [tensor(-13.2592, device='cuda:0', grad_fn=<NegBackward0>), tensor(-6.9534, device='cuda:0', grad_fn=<NegBackward0>), tensor(-72.9998, device='cuda:0', grad_fn=<AddBackward0>)]\n",
      "tensor(-92.7664, device='cuda:0', grad_fn=<NegBackward0>) [tensor(-13.2592, device='cuda:0', grad_fn=<NegBackward0>), tensor(-6.7518, device='cuda:0', grad_fn=<NegBackward0>), tensor(-72.7554, device='cuda:0', grad_fn=<AddBackward0>)]\n",
      "99.98774244989445\n",
      "tensor(-90.3184, device='cuda:0', grad_fn=<NegBackward0>) [tensor(-13.5537, device='cuda:0', grad_fn=<NegBackward0>), tensor(-4.4084, device='cuda:0', grad_fn=<NegBackward0>), tensor(-72.3563, device='cuda:0', grad_fn=<AddBackward0>)]\n",
      "tensor(-89.9530, device='cuda:0', grad_fn=<NegBackward0>) [tensor(-13.5537, device='cuda:0', grad_fn=<NegBackward0>), tensor(-4.2648, device='cuda:0', grad_fn=<NegBackward0>), tensor(-72.1345, device='cuda:0', grad_fn=<AddBackward0>)]\n",
      "5.06298637274915\n",
      "tensor(-92.0437, device='cuda:0', grad_fn=<NegBackward0>) [tensor(-13.9714, device='cuda:0', grad_fn=<NegBackward0>), tensor(-5.5265, device='cuda:0', grad_fn=<NegBackward0>), tensor(-72.5458, device='cuda:0', grad_fn=<AddBackward0>)]\n",
      "tensor(-96.7538, device='cuda:0', grad_fn=<NegBackward0>) [tensor(-13.9714, device='cuda:0', grad_fn=<NegBackward0>), tensor(-7.5921, device='cuda:0', grad_fn=<NegBackward0>), tensor(-75.1902, device='cuda:0', grad_fn=<AddBackward0>)]\n",
      "4.989114840788631\n",
      "tensor(-95.9586, device='cuda:0', grad_fn=<NegBackward0>) [tensor(-14.3096, device='cuda:0', grad_fn=<NegBackward0>), tensor(-7.4277, device='cuda:0', grad_fn=<NegBackward0>), tensor(-74.2213, device='cuda:0', grad_fn=<AddBackward0>)]\n"
     ]
    },
    {
     "name": "stdout",
     "output_type": "stream",
     "text": [
      "tensor(-97.6320, device='cuda:0', grad_fn=<NegBackward0>) [tensor(-14.3096, device='cuda:0', grad_fn=<NegBackward0>), tensor(-7.6507, device='cuda:0', grad_fn=<NegBackward0>), tensor(-75.6717, device='cuda:0', grad_fn=<AddBackward0>)]\n",
      "5.070750083359844\n",
      "tensor(-100.2958, device='cuda:0', grad_fn=<NegBackward0>) [tensor(-14.5790, device='cuda:0', grad_fn=<NegBackward0>), tensor(-8.4774, device='cuda:0', grad_fn=<NegBackward0>), tensor(-77.2394, device='cuda:0', grad_fn=<AddBackward0>)]\n",
      "tensor(-95.5317, device='cuda:0', grad_fn=<NegBackward0>) [tensor(-14.5790, device='cuda:0', grad_fn=<NegBackward0>), tensor(-6.6035, device='cuda:0', grad_fn=<NegBackward0>), tensor(-74.3491, device='cuda:0', grad_fn=<AddBackward0>)]\n",
      "5.126337837069265\n",
      "tensor(-97.6304, device='cuda:0', grad_fn=<NegBackward0>) [tensor(-14.9427, device='cuda:0', grad_fn=<NegBackward0>), tensor(-7.2030, device='cuda:0', grad_fn=<NegBackward0>), tensor(-75.4846, device='cuda:0', grad_fn=<AddBackward0>)]\n",
      "tensor(-98.4907, device='cuda:0', grad_fn=<NegBackward0>) [tensor(-14.9427, device='cuda:0', grad_fn=<NegBackward0>), tensor(-7.6667, device='cuda:0', grad_fn=<NegBackward0>), tensor(-75.8813, device='cuda:0', grad_fn=<AddBackward0>)]\n",
      "5.242095543688399\n",
      "tensor(-98.2028, device='cuda:0', grad_fn=<NegBackward0>) [tensor(-15.2002, device='cuda:0', grad_fn=<NegBackward0>), tensor(-6.9971, device='cuda:0', grad_fn=<NegBackward0>), tensor(-76.0055, device='cuda:0', grad_fn=<AddBackward0>)]\n",
      "tensor(-97.3172, device='cuda:0', grad_fn=<NegBackward0>) [tensor(-15.2002, device='cuda:0', grad_fn=<NegBackward0>), tensor(-7.0837, device='cuda:0', grad_fn=<NegBackward0>), tensor(-75.0333, device='cuda:0', grad_fn=<AddBackward0>)]\n",
      "5.567902682730379\n",
      "tensor(-99.5250, device='cuda:0', grad_fn=<NegBackward0>) [tensor(-15.5192, device='cuda:0', grad_fn=<NegBackward0>), tensor(-7.1535, device='cuda:0', grad_fn=<NegBackward0>), tensor(-76.8522, device='cuda:0', grad_fn=<AddBackward0>)]\n",
      "tensor(-98.9557, device='cuda:0', grad_fn=<NegBackward0>) [tensor(-15.5192, device='cuda:0', grad_fn=<NegBackward0>), tensor(-7.5787, device='cuda:0', grad_fn=<NegBackward0>), tensor(-75.8577, device='cuda:0', grad_fn=<AddBackward0>)]\n",
      "5.8441039369133145\n",
      "tensor(-96.6345, device='cuda:0', grad_fn=<NegBackward0>) [tensor(-15.7305, device='cuda:0', grad_fn=<NegBackward0>), tensor(-6.2933, device='cuda:0', grad_fn=<NegBackward0>), tensor(-74.6107, device='cuda:0', grad_fn=<AddBackward0>)]\n",
      "tensor(-101.1706, device='cuda:0', grad_fn=<NegBackward0>) [tensor(-15.7305, device='cuda:0', grad_fn=<NegBackward0>), tensor(-7.4511, device='cuda:0', grad_fn=<NegBackward0>), tensor(-77.9890, device='cuda:0', grad_fn=<AddBackward0>)]\n",
      "4.534997222730455\n",
      "tensor(-100.0748, device='cuda:0', grad_fn=<NegBackward0>) [tensor(-16.0549, device='cuda:0', grad_fn=<NegBackward0>), tensor(-8.2517, device='cuda:0', grad_fn=<NegBackward0>), tensor(-75.7682, device='cuda:0', grad_fn=<AddBackward0>)]\n",
      "tensor(-97.8881, device='cuda:0', grad_fn=<NegBackward0>) [tensor(-16.0549, device='cuda:0', grad_fn=<NegBackward0>), tensor(-7.2565, device='cuda:0', grad_fn=<NegBackward0>), tensor(-74.5767, device='cuda:0', grad_fn=<AddBackward0>)]\n",
      "5.403984876650847\n",
      "tensor(-100.9814, device='cuda:0', grad_fn=<NegBackward0>) [tensor(-16.3662, device='cuda:0', grad_fn=<NegBackward0>), tensor(-7.2366, device='cuda:0', grad_fn=<NegBackward0>), tensor(-77.3786, device='cuda:0', grad_fn=<AddBackward0>)]\n",
      "tensor(-101.1245, device='cuda:0', grad_fn=<NegBackward0>) [tensor(-16.3662, device='cuda:0', grad_fn=<NegBackward0>), tensor(-7.5442, device='cuda:0', grad_fn=<NegBackward0>), tensor(-77.2141, device='cuda:0', grad_fn=<AddBackward0>)]\n",
      "5.45429858389608\n",
      "tensor(-100.1427, device='cuda:0', grad_fn=<NegBackward0>) [tensor(-16.6527, device='cuda:0', grad_fn=<NegBackward0>), tensor(-6.4783, device='cuda:0', grad_fn=<NegBackward0>), tensor(-77.0116, device='cuda:0', grad_fn=<AddBackward0>)]\n",
      "tensor(-104.2857, device='cuda:0', grad_fn=<NegBackward0>) [tensor(-16.6527, device='cuda:0', grad_fn=<NegBackward0>), tensor(-8.3957, device='cuda:0', grad_fn=<NegBackward0>), tensor(-79.2373, device='cuda:0', grad_fn=<AddBackward0>)]\n",
      "4.952929897756869\n",
      "tensor(-100.5137, device='cuda:0', grad_fn=<NegBackward0>) [tensor(-16.9610, device='cuda:0', grad_fn=<NegBackward0>), tensor(-7.6292, device='cuda:0', grad_fn=<NegBackward0>), tensor(-75.9235, device='cuda:0', grad_fn=<AddBackward0>)]\n",
      "tensor(-100.5097, device='cuda:0', grad_fn=<NegBackward0>) [tensor(-16.9610, device='cuda:0', grad_fn=<NegBackward0>), tensor(-7.7435, device='cuda:0', grad_fn=<NegBackward0>), tensor(-75.8053, device='cuda:0', grad_fn=<AddBackward0>)]\n",
      "4.636484040937996\n",
      "tensor(-98.8323, device='cuda:0', grad_fn=<NegBackward0>) [tensor(-17.0725, device='cuda:0', grad_fn=<NegBackward0>), tensor(-7.3887, device='cuda:0', grad_fn=<NegBackward0>), tensor(-74.3711, device='cuda:0', grad_fn=<AddBackward0>)]\n",
      "tensor(-103.7465, device='cuda:0', grad_fn=<NegBackward0>) [tensor(-17.0725, device='cuda:0', grad_fn=<NegBackward0>), tensor(-9.1573, device='cuda:0', grad_fn=<NegBackward0>), tensor(-77.5167, device='cuda:0', grad_fn=<AddBackward0>)]\n",
      "5.666347471150555\n",
      "tensor(-100.7427, device='cuda:0', grad_fn=<NegBackward0>) [tensor(-17.3438, device='cuda:0', grad_fn=<NegBackward0>), tensor(-7.0181, device='cuda:0', grad_fn=<NegBackward0>), tensor(-76.3808, device='cuda:0', grad_fn=<AddBackward0>)]\n",
      "tensor(-101.3480, device='cuda:0', grad_fn=<NegBackward0>) [tensor(-17.3438, device='cuda:0', grad_fn=<NegBackward0>), tensor(-6.9219, device='cuda:0', grad_fn=<NegBackward0>), tensor(-77.0823, device='cuda:0', grad_fn=<AddBackward0>)]\n",
      "4.916209676270587\n",
      "tensor(-101.9695, device='cuda:0', grad_fn=<NegBackward0>) [tensor(-17.4855, device='cuda:0', grad_fn=<NegBackward0>), tensor(-7.9932, device='cuda:0', grad_fn=<NegBackward0>), tensor(-76.4909, device='cuda:0', grad_fn=<AddBackward0>)]\n",
      "tensor(-100.9056, device='cuda:0', grad_fn=<NegBackward0>) [tensor(-17.4855, device='cuda:0', grad_fn=<NegBackward0>), tensor(-7.8020, device='cuda:0', grad_fn=<NegBackward0>), tensor(-75.6181, device='cuda:0', grad_fn=<AddBackward0>)]\n",
      "5.008799772709075\n",
      "tensor(-100.6573, device='cuda:0', grad_fn=<NegBackward0>) [tensor(-17.6322, device='cuda:0', grad_fn=<NegBackward0>), tensor(-7.2892, device='cuda:0', grad_fn=<NegBackward0>), tensor(-75.7359, device='cuda:0', grad_fn=<AddBackward0>)]\n",
      "tensor(-100.5096, device='cuda:0', grad_fn=<NegBackward0>) [tensor(-17.6322, device='cuda:0', grad_fn=<NegBackward0>), tensor(-7.1064, device='cuda:0', grad_fn=<NegBackward0>), tensor(-75.7710, device='cuda:0', grad_fn=<AddBackward0>)]\n",
      "4.900813343693398\n",
      "tensor(-103.8132, device='cuda:0', grad_fn=<NegBackward0>) [tensor(-17.8657, device='cuda:0', grad_fn=<NegBackward0>), tensor(-8.4529, device='cuda:0', grad_fn=<NegBackward0>), tensor(-77.4946, device='cuda:0', grad_fn=<AddBackward0>)]\n",
      "tensor(-100.6157, device='cuda:0', grad_fn=<NegBackward0>) [tensor(-17.8657, device='cuda:0', grad_fn=<NegBackward0>), tensor(-6.9034, device='cuda:0', grad_fn=<NegBackward0>), tensor(-75.8467, device='cuda:0', grad_fn=<AddBackward0>)]\n",
      "4.595333437741326\n",
      "tensor(-99.6806, device='cuda:0', grad_fn=<NegBackward0>) [tensor(-18.2264, device='cuda:0', grad_fn=<NegBackward0>), tensor(-6.3391, device='cuda:0', grad_fn=<NegBackward0>), tensor(-75.1151, device='cuda:0', grad_fn=<AddBackward0>)]\n",
      "tensor(-100.3961, device='cuda:0', grad_fn=<NegBackward0>) [tensor(-18.2264, device='cuda:0', grad_fn=<NegBackward0>), tensor(-6.5780, device='cuda:0', grad_fn=<NegBackward0>), tensor(-75.5917, device='cuda:0', grad_fn=<AddBackward0>)]\n",
      "4.892858218771135\n",
      "tensor(-104.0846, device='cuda:0', grad_fn=<NegBackward0>) [tensor(-18.5493, device='cuda:0', grad_fn=<NegBackward0>), tensor(-8.0245, device='cuda:0', grad_fn=<NegBackward0>), tensor(-77.5108, device='cuda:0', grad_fn=<AddBackward0>)]\n",
      "tensor(-103.9871, device='cuda:0', grad_fn=<NegBackward0>) [tensor(-18.5493, device='cuda:0', grad_fn=<NegBackward0>), tensor(-7.6137, device='cuda:0', grad_fn=<NegBackward0>), tensor(-77.8241, device='cuda:0', grad_fn=<AddBackward0>)]\n",
      "5.73755795498364\n",
      "tensor(-104.9280, device='cuda:0', grad_fn=<NegBackward0>) [tensor(-18.7422, device='cuda:0', grad_fn=<NegBackward0>), tensor(-7.3893, device='cuda:0', grad_fn=<NegBackward0>), tensor(-78.7965, device='cuda:0', grad_fn=<AddBackward0>)]\n",
      "tensor(-102.4227, device='cuda:0', grad_fn=<NegBackward0>) [tensor(-18.7422, device='cuda:0', grad_fn=<NegBackward0>), tensor(-6.3787, device='cuda:0', grad_fn=<NegBackward0>), tensor(-77.3018, device='cuda:0', grad_fn=<AddBackward0>)]\n"
     ]
    },
    {
     "name": "stdout",
     "output_type": "stream",
     "text": [
      "5.327527079544279\n",
      "tensor(-105.2171, device='cuda:0', grad_fn=<NegBackward0>) [tensor(-18.9101, device='cuda:0', grad_fn=<NegBackward0>), tensor(-7.8993, device='cuda:0', grad_fn=<NegBackward0>), tensor(-78.4077, device='cuda:0', grad_fn=<AddBackward0>)]\n",
      "tensor(-106.8082, device='cuda:0', grad_fn=<NegBackward0>) [tensor(-18.9101, device='cuda:0', grad_fn=<NegBackward0>), tensor(-8.4900, device='cuda:0', grad_fn=<NegBackward0>), tensor(-79.4081, device='cuda:0', grad_fn=<AddBackward0>)]\n",
      "5.367860870134082\n",
      "tensor(-105.4844, device='cuda:0', grad_fn=<NegBackward0>) [tensor(-19.0843, device='cuda:0', grad_fn=<NegBackward0>), tensor(-7.7513, device='cuda:0', grad_fn=<NegBackward0>), tensor(-78.6489, device='cuda:0', grad_fn=<AddBackward0>)]\n",
      "tensor(-106.8388, device='cuda:0', grad_fn=<NegBackward0>) [tensor(-19.0843, device='cuda:0', grad_fn=<NegBackward0>), tensor(-8.3253, device='cuda:0', grad_fn=<NegBackward0>), tensor(-79.4292, device='cuda:0', grad_fn=<AddBackward0>)]\n",
      "4.506224305887209\n",
      "tensor(-104.9264, device='cuda:0', grad_fn=<NegBackward0>) [tensor(-19.1802, device='cuda:0', grad_fn=<NegBackward0>), tensor(-8.3977, device='cuda:0', grad_fn=<NegBackward0>), tensor(-77.3485, device='cuda:0', grad_fn=<AddBackward0>)]\n",
      "tensor(-104.0050, device='cuda:0', grad_fn=<NegBackward0>) [tensor(-19.1802, device='cuda:0', grad_fn=<NegBackward0>), tensor(-8.4534, device='cuda:0', grad_fn=<NegBackward0>), tensor(-76.3714, device='cuda:0', grad_fn=<AddBackward0>)]\n",
      "5.728697000699569\n",
      "tensor(-103.3315, device='cuda:0', grad_fn=<NegBackward0>) [tensor(-19.3707, device='cuda:0', grad_fn=<NegBackward0>), tensor(-6.7783, device='cuda:0', grad_fn=<NegBackward0>), tensor(-77.1825, device='cuda:0', grad_fn=<AddBackward0>)]\n",
      "tensor(-103.5599, device='cuda:0', grad_fn=<NegBackward0>) [tensor(-19.3707, device='cuda:0', grad_fn=<NegBackward0>), tensor(-6.9161, device='cuda:0', grad_fn=<NegBackward0>), tensor(-77.2730, device='cuda:0', grad_fn=<AddBackward0>)]\n",
      "4.6832667523554194\n",
      "tensor(-107.5188, device='cuda:0', grad_fn=<NegBackward0>) [tensor(-19.5931, device='cuda:0', grad_fn=<NegBackward0>), tensor(-9.4096, device='cuda:0', grad_fn=<NegBackward0>), tensor(-78.5161, device='cuda:0', grad_fn=<AddBackward0>)]\n",
      "tensor(-103.9217, device='cuda:0', grad_fn=<NegBackward0>) [tensor(-19.5931, device='cuda:0', grad_fn=<NegBackward0>), tensor(-7.6916, device='cuda:0', grad_fn=<NegBackward0>), tensor(-76.6370, device='cuda:0', grad_fn=<AddBackward0>)]\n",
      "5.142276666261844\n",
      "tensor(-103.8151, device='cuda:0', grad_fn=<NegBackward0>) [tensor(-19.9139, device='cuda:0', grad_fn=<NegBackward0>), tensor(-6.9907, device='cuda:0', grad_fn=<NegBackward0>), tensor(-76.9105, device='cuda:0', grad_fn=<AddBackward0>)]\n",
      "tensor(-107.3676, device='cuda:0', grad_fn=<NegBackward0>) [tensor(-19.9139, device='cuda:0', grad_fn=<NegBackward0>), tensor(-8.7179, device='cuda:0', grad_fn=<NegBackward0>), tensor(-78.7358, device='cuda:0', grad_fn=<AddBackward0>)]\n",
      "5.252272900091874\n",
      "tensor(-108.4650, device='cuda:0', grad_fn=<NegBackward0>) [tensor(-20.1974, device='cuda:0', grad_fn=<NegBackward0>), tensor(-8.2980, device='cuda:0', grad_fn=<NegBackward0>), tensor(-79.9696, device='cuda:0', grad_fn=<AddBackward0>)]\n",
      "tensor(-104.7833, device='cuda:0', grad_fn=<NegBackward0>) [tensor(-20.1974, device='cuda:0', grad_fn=<NegBackward0>), tensor(-6.8321, device='cuda:0', grad_fn=<NegBackward0>), tensor(-77.7538, device='cuda:0', grad_fn=<AddBackward0>)]\n",
      "5.045110801524953\n",
      "tensor(-107.9762, device='cuda:0', grad_fn=<NegBackward0>) [tensor(-20.4037, device='cuda:0', grad_fn=<NegBackward0>), tensor(-8.3882, device='cuda:0', grad_fn=<NegBackward0>), tensor(-79.1843, device='cuda:0', grad_fn=<AddBackward0>)]\n",
      "tensor(-109.4574, device='cuda:0', grad_fn=<NegBackward0>) [tensor(-20.4037, device='cuda:0', grad_fn=<NegBackward0>), tensor(-8.6046, device='cuda:0', grad_fn=<NegBackward0>), tensor(-80.4491, device='cuda:0', grad_fn=<AddBackward0>)]\n",
      "5.338293183186234\n",
      "tensor(-107.6938, device='cuda:0', grad_fn=<NegBackward0>) [tensor(-20.6512, device='cuda:0', grad_fn=<NegBackward0>), tensor(-7.8536, device='cuda:0', grad_fn=<NegBackward0>), tensor(-79.1890, device='cuda:0', grad_fn=<AddBackward0>)]\n",
      "tensor(-105.5569, device='cuda:0', grad_fn=<NegBackward0>) [tensor(-20.6512, device='cuda:0', grad_fn=<NegBackward0>), tensor(-6.7192, device='cuda:0', grad_fn=<NegBackward0>), tensor(-78.1865, device='cuda:0', grad_fn=<AddBackward0>)]\n",
      "5.679238134214748\n",
      "tensor(-104.6153, device='cuda:0', grad_fn=<NegBackward0>) [tensor(-20.8170, device='cuda:0', grad_fn=<NegBackward0>), tensor(-6.0851, device='cuda:0', grad_fn=<NegBackward0>), tensor(-77.7132, device='cuda:0', grad_fn=<AddBackward0>)]\n",
      "tensor(-106.6157, device='cuda:0', grad_fn=<NegBackward0>) [tensor(-20.8170, device='cuda:0', grad_fn=<NegBackward0>), tensor(-7.2232, device='cuda:0', grad_fn=<NegBackward0>), tensor(-78.5755, device='cuda:0', grad_fn=<AddBackward0>)]\n",
      "5.264665682430786\n",
      "tensor(-109.2920, device='cuda:0', grad_fn=<NegBackward0>) [tensor(-21.0357, device='cuda:0', grad_fn=<NegBackward0>), tensor(-8.6190, device='cuda:0', grad_fn=<NegBackward0>), tensor(-79.6373, device='cuda:0', grad_fn=<AddBackward0>)]\n",
      "tensor(-110.7216, device='cuda:0', grad_fn=<NegBackward0>) [tensor(-21.0357, device='cuda:0', grad_fn=<NegBackward0>), tensor(-8.7400, device='cuda:0', grad_fn=<NegBackward0>), tensor(-80.9460, device='cuda:0', grad_fn=<AddBackward0>)]\n",
      "5.013163365658719\n",
      "tensor(-106.9963, device='cuda:0', grad_fn=<NegBackward0>) [tensor(-21.2719, device='cuda:0', grad_fn=<NegBackward0>), tensor(-7.6790, device='cuda:0', grad_fn=<NegBackward0>), tensor(-78.0454, device='cuda:0', grad_fn=<AddBackward0>)]\n",
      "tensor(-106.7340, device='cuda:0', grad_fn=<NegBackward0>) [tensor(-21.2719, device='cuda:0', grad_fn=<NegBackward0>), tensor(-7.2243, device='cuda:0', grad_fn=<NegBackward0>), tensor(-78.2378, device='cuda:0', grad_fn=<AddBackward0>)]\n",
      "5.108743558990702\n",
      "tensor(-110.4749, device='cuda:0', grad_fn=<NegBackward0>) [tensor(-21.5083, device='cuda:0', grad_fn=<NegBackward0>), tensor(-8.6947, device='cuda:0', grad_fn=<NegBackward0>), tensor(-80.2718, device='cuda:0', grad_fn=<AddBackward0>)]\n",
      "tensor(-111.1320, device='cuda:0', grad_fn=<NegBackward0>) [tensor(-21.5083, device='cuda:0', grad_fn=<NegBackward0>), tensor(-8.6920, device='cuda:0', grad_fn=<NegBackward0>), tensor(-80.9317, device='cuda:0', grad_fn=<AddBackward0>)]\n",
      "4.65243688343368\n",
      "tensor(-106.3639, device='cuda:0', grad_fn=<NegBackward0>) [tensor(-21.6793, device='cuda:0', grad_fn=<NegBackward0>), tensor(-7.0995, device='cuda:0', grad_fn=<NegBackward0>), tensor(-77.5850, device='cuda:0', grad_fn=<AddBackward0>)]\n",
      "tensor(-110.0551, device='cuda:0', grad_fn=<NegBackward0>) [tensor(-21.6793, device='cuda:0', grad_fn=<NegBackward0>), tensor(-8.9989, device='cuda:0', grad_fn=<NegBackward0>), tensor(-79.3769, device='cuda:0', grad_fn=<AddBackward0>)]\n",
      "5.406215894620409\n",
      "tensor(-109.6640, device='cuda:0', grad_fn=<NegBackward0>) [tensor(-21.5904, device='cuda:0', grad_fn=<NegBackward0>), tensor(-7.8304, device='cuda:0', grad_fn=<NegBackward0>), tensor(-80.2433, device='cuda:0', grad_fn=<AddBackward0>)]\n",
      "tensor(-108.0733, device='cuda:0', grad_fn=<NegBackward0>) [tensor(-21.5904, device='cuda:0', grad_fn=<NegBackward0>), tensor(-7.3764, device='cuda:0', grad_fn=<NegBackward0>), tensor(-79.1065, device='cuda:0', grad_fn=<AddBackward0>)]\n",
      "99.8451546170679\n",
      "tensor(-102.4404, device='cuda:0', grad_fn=<NegBackward0>) [tensor(-21.5698, device='cuda:0', grad_fn=<NegBackward0>), tensor(-4.1277, device='cuda:0', grad_fn=<NegBackward0>), tensor(-76.7429, device='cuda:0', grad_fn=<AddBackward0>)]\n",
      "tensor(-102.4666, device='cuda:0', grad_fn=<NegBackward0>) [tensor(-21.5698, device='cuda:0', grad_fn=<NegBackward0>), tensor(-4.1950, device='cuda:0', grad_fn=<NegBackward0>), tensor(-76.7018, device='cuda:0', grad_fn=<AddBackward0>)]\n",
      "4.9183632595673945\n",
      "tensor(-107.8349, device='cuda:0', grad_fn=<NegBackward0>) [tensor(-21.4985, device='cuda:0', grad_fn=<NegBackward0>), tensor(-8.2257, device='cuda:0', grad_fn=<NegBackward0>), tensor(-78.1108, device='cuda:0', grad_fn=<AddBackward0>)]\n",
      "tensor(-109.2351, device='cuda:0', grad_fn=<NegBackward0>) [tensor(-21.4985, device='cuda:0', grad_fn=<NegBackward0>), tensor(-8.9155, device='cuda:0', grad_fn=<NegBackward0>), tensor(-78.8212, device='cuda:0', grad_fn=<AddBackward0>)]\n"
     ]
    },
    {
     "name": "stdout",
     "output_type": "stream",
     "text": [
      "5.176760636420036\n",
      "tensor(-108.6974, device='cuda:0', grad_fn=<NegBackward0>) [tensor(-22.1132, device='cuda:0', grad_fn=<NegBackward0>), tensor(-7.2942, device='cuda:0', grad_fn=<NegBackward0>), tensor(-79.2900, device='cuda:0', grad_fn=<AddBackward0>)]\n",
      "tensor(-107.1462, device='cuda:0', grad_fn=<NegBackward0>) [tensor(-22.1132, device='cuda:0', grad_fn=<NegBackward0>), tensor(-6.9855, device='cuda:0', grad_fn=<NegBackward0>), tensor(-78.0475, device='cuda:0', grad_fn=<AddBackward0>)]\n",
      "5.465075179659453\n",
      "tensor(-106.6528, device='cuda:0', grad_fn=<NegBackward0>) [tensor(-22.4617, device='cuda:0', grad_fn=<NegBackward0>), tensor(-6.0491, device='cuda:0', grad_fn=<NegBackward0>), tensor(-78.1420, device='cuda:0', grad_fn=<AddBackward0>)]\n",
      "tensor(-109.0485, device='cuda:0', grad_fn=<NegBackward0>) [tensor(-22.4617, device='cuda:0', grad_fn=<NegBackward0>), tensor(-7.2304, device='cuda:0', grad_fn=<NegBackward0>), tensor(-79.3564, device='cuda:0', grad_fn=<AddBackward0>)]\n",
      "4.673996122988731\n",
      "tensor(-108.0131, device='cuda:0', grad_fn=<NegBackward0>) [tensor(-22.7570, device='cuda:0', grad_fn=<NegBackward0>), tensor(-7.1177, device='cuda:0', grad_fn=<NegBackward0>), tensor(-78.1383, device='cuda:0', grad_fn=<AddBackward0>)]\n",
      "tensor(-110.5647, device='cuda:0', grad_fn=<NegBackward0>) [tensor(-22.7570, device='cuda:0', grad_fn=<NegBackward0>), tensor(-8.2219, device='cuda:0', grad_fn=<NegBackward0>), tensor(-79.5858, device='cuda:0', grad_fn=<AddBackward0>)]\n",
      "4.49846214162514\n",
      "tensor(-107.8973, device='cuda:0', grad_fn=<NegBackward0>) [tensor(-22.9769, device='cuda:0', grad_fn=<NegBackward0>), tensor(-7.3772, device='cuda:0', grad_fn=<NegBackward0>), tensor(-77.5432, device='cuda:0', grad_fn=<AddBackward0>)]\n",
      "tensor(-111.0444, device='cuda:0', grad_fn=<NegBackward0>) [tensor(-22.9769, device='cuda:0', grad_fn=<NegBackward0>), tensor(-9.1757, device='cuda:0', grad_fn=<NegBackward0>), tensor(-78.8919, device='cuda:0', grad_fn=<AddBackward0>)]\n",
      "4.5151798497716085\n",
      "tensor(-110.0327, device='cuda:0', grad_fn=<NegBackward0>) [tensor(-23.0136, device='cuda:0', grad_fn=<NegBackward0>), tensor(-8.5522, device='cuda:0', grad_fn=<NegBackward0>), tensor(-78.4669, device='cuda:0', grad_fn=<AddBackward0>)]\n",
      "tensor(-108.8200, device='cuda:0', grad_fn=<NegBackward0>) [tensor(-23.0136, device='cuda:0', grad_fn=<NegBackward0>), tensor(-8.5069, device='cuda:0', grad_fn=<NegBackward0>), tensor(-77.2995, device='cuda:0', grad_fn=<AddBackward0>)]\n",
      "4.6119876163376805\n",
      "tensor(-109.7355, device='cuda:0', grad_fn=<NegBackward0>) [tensor(-23.1024, device='cuda:0', grad_fn=<NegBackward0>), tensor(-8.4990, device='cuda:0', grad_fn=<NegBackward0>), tensor(-78.1341, device='cuda:0', grad_fn=<AddBackward0>)]\n",
      "tensor(-111.1035, device='cuda:0', grad_fn=<NegBackward0>) [tensor(-23.1024, device='cuda:0', grad_fn=<NegBackward0>), tensor(-8.6008, device='cuda:0', grad_fn=<NegBackward0>), tensor(-79.4003, device='cuda:0', grad_fn=<AddBackward0>)]\n",
      "5.186116747343842\n",
      "tensor(-110.9817, device='cuda:0', grad_fn=<NegBackward0>) [tensor(-23.3307, device='cuda:0', grad_fn=<NegBackward0>), tensor(-7.3489, device='cuda:0', grad_fn=<NegBackward0>), tensor(-80.3021, device='cuda:0', grad_fn=<AddBackward0>)]\n",
      "tensor(-112.8989, device='cuda:0', grad_fn=<NegBackward0>) [tensor(-23.3307, device='cuda:0', grad_fn=<NegBackward0>), tensor(-8.7792, device='cuda:0', grad_fn=<NegBackward0>), tensor(-80.7890, device='cuda:0', grad_fn=<AddBackward0>)]\n",
      "5.05839469573414\n",
      "tensor(-110.9406, device='cuda:0', grad_fn=<NegBackward0>) [tensor(-23.5072, device='cuda:0', grad_fn=<NegBackward0>), tensor(-8.0588, device='cuda:0', grad_fn=<NegBackward0>), tensor(-79.3746, device='cuda:0', grad_fn=<AddBackward0>)]\n",
      "tensor(-110.6438, device='cuda:0', grad_fn=<NegBackward0>) [tensor(-23.5072, device='cuda:0', grad_fn=<NegBackward0>), tensor(-7.4422, device='cuda:0', grad_fn=<NegBackward0>), tensor(-79.6944, device='cuda:0', grad_fn=<AddBackward0>)]\n",
      "5.090278581346635\n",
      "tensor(-112.3747, device='cuda:0', grad_fn=<NegBackward0>) [tensor(-23.7144, device='cuda:0', grad_fn=<NegBackward0>), tensor(-8.1313, device='cuda:0', grad_fn=<NegBackward0>), tensor(-80.5290, device='cuda:0', grad_fn=<AddBackward0>)]\n",
      "tensor(-109.9713, device='cuda:0', grad_fn=<NegBackward0>) [tensor(-23.7144, device='cuda:0', grad_fn=<NegBackward0>), tensor(-7.4215, device='cuda:0', grad_fn=<NegBackward0>), tensor(-78.8355, device='cuda:0', grad_fn=<AddBackward0>)]\n",
      "4.779898589156692\n",
      "tensor(-113.0603, device='cuda:0', grad_fn=<NegBackward0>) [tensor(-23.8698, device='cuda:0', grad_fn=<NegBackward0>), tensor(-8.7310, device='cuda:0', grad_fn=<NegBackward0>), tensor(-80.4596, device='cuda:0', grad_fn=<AddBackward0>)]\n",
      "tensor(-109.4467, device='cuda:0', grad_fn=<NegBackward0>) [tensor(-23.8698, device='cuda:0', grad_fn=<NegBackward0>), tensor(-7.0746, device='cuda:0', grad_fn=<NegBackward0>), tensor(-78.5023, device='cuda:0', grad_fn=<AddBackward0>)]\n",
      "99.98930620011406\n",
      "tensor(-106.3940, device='cuda:0', grad_fn=<NegBackward0>) [tensor(-23.9762, device='cuda:0', grad_fn=<NegBackward0>), tensor(-4.3558, device='cuda:0', grad_fn=<NegBackward0>), tensor(-78.0620, device='cuda:0', grad_fn=<AddBackward0>)]\n",
      "tensor(-110.2495, device='cuda:0', grad_fn=<NegBackward0>) [tensor(-23.9762, device='cuda:0', grad_fn=<NegBackward0>), tensor(-6.1415, device='cuda:0', grad_fn=<NegBackward0>), tensor(-80.1317, device='cuda:0', grad_fn=<AddBackward0>)]\n",
      "4.957012441082389\n",
      "tensor(-111.1392, device='cuda:0', grad_fn=<NegBackward0>) [tensor(-23.9500, device='cuda:0', grad_fn=<NegBackward0>), tensor(-7.7156, device='cuda:0', grad_fn=<NegBackward0>), tensor(-79.4736, device='cuda:0', grad_fn=<AddBackward0>)]\n",
      "tensor(-111.4990, device='cuda:0', grad_fn=<NegBackward0>) [tensor(-23.9500, device='cuda:0', grad_fn=<NegBackward0>), tensor(-7.5479, device='cuda:0', grad_fn=<NegBackward0>), tensor(-80.0012, device='cuda:0', grad_fn=<AddBackward0>)]\n",
      "4.370697673290066\n",
      "tensor(-112.1123, device='cuda:0', grad_fn=<NegBackward0>) [tensor(-24.0749, device='cuda:0', grad_fn=<NegBackward0>), tensor(-8.7629, device='cuda:0', grad_fn=<NegBackward0>), tensor(-79.2744, device='cuda:0', grad_fn=<AddBackward0>)]\n",
      "tensor(-113.1857, device='cuda:0', grad_fn=<NegBackward0>) [tensor(-24.0749, device='cuda:0', grad_fn=<NegBackward0>), tensor(-8.7591, device='cuda:0', grad_fn=<NegBackward0>), tensor(-80.3516, device='cuda:0', grad_fn=<AddBackward0>)]\n",
      "5.153655123535141\n",
      "tensor(-108.6579, device='cuda:0', grad_fn=<NegBackward0>) [tensor(-24.1493, device='cuda:0', grad_fn=<NegBackward0>), tensor(-6.1729, device='cuda:0', grad_fn=<NegBackward0>), tensor(-78.3357, device='cuda:0', grad_fn=<AddBackward0>)]\n",
      "tensor(-113.2291, device='cuda:0', grad_fn=<NegBackward0>) [tensor(-24.1493, device='cuda:0', grad_fn=<NegBackward0>), tensor(-8.4204, device='cuda:0', grad_fn=<NegBackward0>), tensor(-80.6594, device='cuda:0', grad_fn=<AddBackward0>)]\n",
      "4.935658181088143\n",
      "tensor(-114.6289, device='cuda:0', grad_fn=<NegBackward0>) [tensor(-24.4824, device='cuda:0', grad_fn=<NegBackward0>), tensor(-9.0624, device='cuda:0', grad_fn=<NegBackward0>), tensor(-81.0841, device='cuda:0', grad_fn=<AddBackward0>)]\n",
      "tensor(-112.8975, device='cuda:0', grad_fn=<NegBackward0>) [tensor(-24.4824, device='cuda:0', grad_fn=<NegBackward0>), tensor(-8.2143, device='cuda:0', grad_fn=<NegBackward0>), tensor(-80.2008, device='cuda:0', grad_fn=<AddBackward0>)]\n",
      "4.982497700074958\n",
      "tensor(-112.5009, device='cuda:0', grad_fn=<NegBackward0>) [tensor(-24.6483, device='cuda:0', grad_fn=<NegBackward0>), tensor(-7.7526, device='cuda:0', grad_fn=<NegBackward0>), tensor(-80.1000, device='cuda:0', grad_fn=<AddBackward0>)]\n",
      "tensor(-115.4742, device='cuda:0', grad_fn=<NegBackward0>) [tensor(-24.6483, device='cuda:0', grad_fn=<NegBackward0>), tensor(-8.4574, device='cuda:0', grad_fn=<NegBackward0>), tensor(-82.3685, device='cuda:0', grad_fn=<AddBackward0>)]\n",
      "4.703193636668727\n",
      "tensor(-111.8851, device='cuda:0', grad_fn=<NegBackward0>) [tensor(-24.8859, device='cuda:0', grad_fn=<NegBackward0>), tensor(-7.2912, device='cuda:0', grad_fn=<NegBackward0>), tensor(-79.7080, device='cuda:0', grad_fn=<AddBackward0>)]\n",
      "tensor(-115.5469, device='cuda:0', grad_fn=<NegBackward0>) [tensor(-24.8859, device='cuda:0', grad_fn=<NegBackward0>), tensor(-9.3209, device='cuda:0', grad_fn=<NegBackward0>), tensor(-81.3401, device='cuda:0', grad_fn=<AddBackward0>)]\n"
     ]
    },
    {
     "name": "stdout",
     "output_type": "stream",
     "text": [
      "4.797232529276472\n",
      "tensor(-112.2812, device='cuda:0', grad_fn=<NegBackward0>) [tensor(-25.0117, device='cuda:0', grad_fn=<NegBackward0>), tensor(-7.9875, device='cuda:0', grad_fn=<NegBackward0>), tensor(-79.2820, device='cuda:0', grad_fn=<AddBackward0>)]\n",
      "tensor(-111.5677, device='cuda:0', grad_fn=<NegBackward0>) [tensor(-25.0117, device='cuda:0', grad_fn=<NegBackward0>), tensor(-7.1427, device='cuda:0', grad_fn=<NegBackward0>), tensor(-79.4133, device='cuda:0', grad_fn=<AddBackward0>)]\n",
      "4.899588035626932\n",
      "tensor(-116.3284, device='cuda:0', grad_fn=<NegBackward0>) [tensor(-25.1067, device='cuda:0', grad_fn=<NegBackward0>), tensor(-9.3883, device='cuda:0', grad_fn=<NegBackward0>), tensor(-81.8333, device='cuda:0', grad_fn=<AddBackward0>)]\n",
      "tensor(-114.8525, device='cuda:0', grad_fn=<NegBackward0>) [tensor(-25.1067, device='cuda:0', grad_fn=<NegBackward0>), tensor(-8.3975, device='cuda:0', grad_fn=<NegBackward0>), tensor(-81.3483, device='cuda:0', grad_fn=<AddBackward0>)]\n",
      "4.956676492381282\n",
      "tensor(-115.0552, device='cuda:0', grad_fn=<NegBackward0>) [tensor(-25.2836, device='cuda:0', grad_fn=<NegBackward0>), tensor(-8.2872, device='cuda:0', grad_fn=<NegBackward0>), tensor(-81.4845, device='cuda:0', grad_fn=<AddBackward0>)]\n",
      "tensor(-113.8488, device='cuda:0', grad_fn=<NegBackward0>) [tensor(-25.2836, device='cuda:0', grad_fn=<NegBackward0>), tensor(-7.6630, device='cuda:0', grad_fn=<NegBackward0>), tensor(-80.9022, device='cuda:0', grad_fn=<AddBackward0>)]\n",
      "5.181433796076119\n",
      "tensor(-112.1778, device='cuda:0', grad_fn=<NegBackward0>) [tensor(-25.4941, device='cuda:0', grad_fn=<NegBackward0>), tensor(-6.8246, device='cuda:0', grad_fn=<NegBackward0>), tensor(-79.8592, device='cuda:0', grad_fn=<AddBackward0>)]\n",
      "tensor(-116.6576, device='cuda:0', grad_fn=<NegBackward0>) [tensor(-25.4941, device='cuda:0', grad_fn=<NegBackward0>), tensor(-8.3042, device='cuda:0', grad_fn=<NegBackward0>), tensor(-82.8594, device='cuda:0', grad_fn=<AddBackward0>)]\n",
      "5.015374268396786\n",
      "tensor(-118.4730, device='cuda:0', grad_fn=<NegBackward0>) [tensor(-25.6814, device='cuda:0', grad_fn=<NegBackward0>), tensor(-9.7142, device='cuda:0', grad_fn=<NegBackward0>), tensor(-83.0774, device='cuda:0', grad_fn=<AddBackward0>)]\n",
      "tensor(-112.4763, device='cuda:0', grad_fn=<NegBackward0>) [tensor(-25.6814, device='cuda:0', grad_fn=<NegBackward0>), tensor(-6.8726, device='cuda:0', grad_fn=<NegBackward0>), tensor(-79.9223, device='cuda:0', grad_fn=<AddBackward0>)]\n",
      "4.713634486470287\n",
      "tensor(-114.4225, device='cuda:0', grad_fn=<NegBackward0>) [tensor(-25.8082, device='cuda:0', grad_fn=<NegBackward0>), tensor(-7.9340, device='cuda:0', grad_fn=<NegBackward0>), tensor(-80.6803, device='cuda:0', grad_fn=<AddBackward0>)]\n",
      "tensor(-115.8008, device='cuda:0', grad_fn=<NegBackward0>) [tensor(-25.8082, device='cuda:0', grad_fn=<NegBackward0>), tensor(-8.4378, device='cuda:0', grad_fn=<NegBackward0>), tensor(-81.5548, device='cuda:0', grad_fn=<AddBackward0>)]\n",
      "4.467892024836399\n",
      "tensor(-112.0872, device='cuda:0', grad_fn=<NegBackward0>) [tensor(-25.7996, device='cuda:0', grad_fn=<NegBackward0>), tensor(-7.5397, device='cuda:0', grad_fn=<NegBackward0>), tensor(-78.7479, device='cuda:0', grad_fn=<AddBackward0>)]\n",
      "tensor(-114.2919, device='cuda:0', grad_fn=<NegBackward0>) [tensor(-25.7996, device='cuda:0', grad_fn=<NegBackward0>), tensor(-8.7945, device='cuda:0', grad_fn=<NegBackward0>), tensor(-79.6978, device='cuda:0', grad_fn=<AddBackward0>)]\n",
      "4.511082183415442\n",
      "tensor(-116.9684, device='cuda:0', grad_fn=<NegBackward0>) [tensor(-25.9473, device='cuda:0', grad_fn=<NegBackward0>), tensor(-9.3846, device='cuda:0', grad_fn=<NegBackward0>), tensor(-81.6365, device='cuda:0', grad_fn=<AddBackward0>)]\n",
      "tensor(-116.6840, device='cuda:0', grad_fn=<NegBackward0>) [tensor(-25.9473, device='cuda:0', grad_fn=<NegBackward0>), tensor(-9.3559, device='cuda:0', grad_fn=<NegBackward0>), tensor(-81.3808, device='cuda:0', grad_fn=<AddBackward0>)]\n",
      "5.109934910484574\n",
      "tensor(-113.9595, device='cuda:0', grad_fn=<NegBackward0>) [tensor(-25.9707, device='cuda:0', grad_fn=<NegBackward0>), tensor(-7.2723, device='cuda:0', grad_fn=<NegBackward0>), tensor(-80.7165, device='cuda:0', grad_fn=<AddBackward0>)]\n",
      "tensor(-112.3337, device='cuda:0', grad_fn=<NegBackward0>) [tensor(-25.9707, device='cuda:0', grad_fn=<NegBackward0>), tensor(-6.6717, device='cuda:0', grad_fn=<NegBackward0>), tensor(-79.6913, device='cuda:0', grad_fn=<AddBackward0>)]\n",
      "4.8780260109158915\n",
      "tensor(-119.0119, device='cuda:0', grad_fn=<NegBackward0>) [tensor(-26.0636, device='cuda:0', grad_fn=<NegBackward0>), tensor(-9.5310, device='cuda:0', grad_fn=<NegBackward0>), tensor(-83.4173, device='cuda:0', grad_fn=<AddBackward0>)]\n",
      "tensor(-113.4705, device='cuda:0', grad_fn=<NegBackward0>) [tensor(-26.0636, device='cuda:0', grad_fn=<NegBackward0>), tensor(-7.7368, device='cuda:0', grad_fn=<NegBackward0>), tensor(-79.6700, device='cuda:0', grad_fn=<AddBackward0>)]\n",
      "4.533631545392854\n",
      "tensor(-118.2286, device='cuda:0', grad_fn=<NegBackward0>) [tensor(-26.3187, device='cuda:0', grad_fn=<NegBackward0>), tensor(-9.9786, device='cuda:0', grad_fn=<NegBackward0>), tensor(-81.9313, device='cuda:0', grad_fn=<AddBackward0>)]\n",
      "tensor(-117.0286, device='cuda:0', grad_fn=<NegBackward0>) [tensor(-26.3187, device='cuda:0', grad_fn=<NegBackward0>), tensor(-9.5353, device='cuda:0', grad_fn=<NegBackward0>), tensor(-81.1746, device='cuda:0', grad_fn=<AddBackward0>)]\n",
      "4.312190235136207\n",
      "tensor(-116.9001, device='cuda:0', grad_fn=<NegBackward0>) [tensor(-26.4595, device='cuda:0', grad_fn=<NegBackward0>), tensor(-9.5318, device='cuda:0', grad_fn=<NegBackward0>), tensor(-80.9088, device='cuda:0', grad_fn=<AddBackward0>)]\n",
      "tensor(-115.4514, device='cuda:0', grad_fn=<NegBackward0>) [tensor(-26.4595, device='cuda:0', grad_fn=<NegBackward0>), tensor(-9.1869, device='cuda:0', grad_fn=<NegBackward0>), tensor(-79.8051, device='cuda:0', grad_fn=<AddBackward0>)]\n",
      "99.93738041338942\n",
      "tensor(-110.5531, device='cuda:0', grad_fn=<NegBackward0>) [tensor(-26.4234, device='cuda:0', grad_fn=<NegBackward0>), tensor(-5.1566, device='cuda:0', grad_fn=<NegBackward0>), tensor(-78.9732, device='cuda:0', grad_fn=<AddBackward0>)]\n",
      "tensor(-108.7671, device='cuda:0', grad_fn=<NegBackward0>) [tensor(-26.4234, device='cuda:0', grad_fn=<NegBackward0>), tensor(-4.1147, device='cuda:0', grad_fn=<NegBackward0>), tensor(-78.2290, device='cuda:0', grad_fn=<AddBackward0>)]\n",
      "4.83847521689506\n",
      "tensor(-116.9518, device='cuda:0', grad_fn=<NegBackward0>) [tensor(-26.5408, device='cuda:0', grad_fn=<NegBackward0>), tensor(-8.6432, device='cuda:0', grad_fn=<NegBackward0>), tensor(-81.7678, device='cuda:0', grad_fn=<AddBackward0>)]\n",
      "tensor(-114.1043, device='cuda:0', grad_fn=<NegBackward0>) [tensor(-26.5408, device='cuda:0', grad_fn=<NegBackward0>), tensor(-7.4409, device='cuda:0', grad_fn=<NegBackward0>), tensor(-80.1226, device='cuda:0', grad_fn=<AddBackward0>)]\n",
      "4.457573016755327\n",
      "tensor(-115.7029, device='cuda:0', grad_fn=<NegBackward0>) [tensor(-26.8361, device='cuda:0', grad_fn=<NegBackward0>), tensor(-8.5723, device='cuda:0', grad_fn=<NegBackward0>), tensor(-80.2945, device='cuda:0', grad_fn=<AddBackward0>)]\n",
      "tensor(-115.6982, device='cuda:0', grad_fn=<NegBackward0>) [tensor(-26.8361, device='cuda:0', grad_fn=<NegBackward0>), tensor(-8.3313, device='cuda:0', grad_fn=<NegBackward0>), tensor(-80.5309, device='cuda:0', grad_fn=<AddBackward0>)]\n",
      "4.413623419634419\n",
      "tensor(-112.1072, device='cuda:0', grad_fn=<NegBackward0>) [tensor(-26.8002, device='cuda:0', grad_fn=<NegBackward0>), tensor(-6.8664, device='cuda:0', grad_fn=<NegBackward0>), tensor(-78.4406, device='cuda:0', grad_fn=<AddBackward0>)]\n",
      "tensor(-117.5076, device='cuda:0', grad_fn=<NegBackward0>) [tensor(-26.8002, device='cuda:0', grad_fn=<NegBackward0>), tensor(-9.0158, device='cuda:0', grad_fn=<NegBackward0>), tensor(-81.6917, device='cuda:0', grad_fn=<AddBackward0>)]\n",
      "4.3641136998249825\n",
      "tensor(-116.6143, device='cuda:0', grad_fn=<NegBackward0>) [tensor(-26.6804, device='cuda:0', grad_fn=<NegBackward0>), tensor(-9.2186, device='cuda:0', grad_fn=<NegBackward0>), tensor(-80.7153, device='cuda:0', grad_fn=<AddBackward0>)]\n",
      "tensor(-116.9247, device='cuda:0', grad_fn=<NegBackward0>) [tensor(-26.6804, device='cuda:0', grad_fn=<NegBackward0>), tensor(-9.7374, device='cuda:0', grad_fn=<NegBackward0>), tensor(-80.5069, device='cuda:0', grad_fn=<AddBackward0>)]\n"
     ]
    },
    {
     "name": "stdout",
     "output_type": "stream",
     "text": [
      "4.8283435039045495\n",
      "tensor(-116.4106, device='cuda:0', grad_fn=<NegBackward0>) [tensor(-26.7807, device='cuda:0', grad_fn=<NegBackward0>), tensor(-8.2602, device='cuda:0', grad_fn=<NegBackward0>), tensor(-81.3697, device='cuda:0', grad_fn=<AddBackward0>)]\n",
      "tensor(-115.4714, device='cuda:0', grad_fn=<NegBackward0>) [tensor(-26.7807, device='cuda:0', grad_fn=<NegBackward0>), tensor(-8.3295, device='cuda:0', grad_fn=<NegBackward0>), tensor(-80.3612, device='cuda:0', grad_fn=<AddBackward0>)]\n",
      "4.284787863993061\n",
      "tensor(-117.8826, device='cuda:0', grad_fn=<NegBackward0>) [tensor(-27.0581, device='cuda:0', grad_fn=<NegBackward0>), tensor(-10.2645, device='cuda:0', grad_fn=<NegBackward0>), tensor(-80.5600, device='cuda:0', grad_fn=<AddBackward0>)]\n",
      "tensor(-116.6583, device='cuda:0', grad_fn=<NegBackward0>) [tensor(-27.0581, device='cuda:0', grad_fn=<NegBackward0>), tensor(-9.0136, device='cuda:0', grad_fn=<NegBackward0>), tensor(-80.5865, device='cuda:0', grad_fn=<AddBackward0>)]\n",
      "4.450598700172862\n",
      "tensor(-117.6205, device='cuda:0', grad_fn=<NegBackward0>) [tensor(-27.2928, device='cuda:0', grad_fn=<NegBackward0>), tensor(-8.8569, device='cuda:0', grad_fn=<NegBackward0>), tensor(-81.4707, device='cuda:0', grad_fn=<AddBackward0>)]\n",
      "tensor(-116.8854, device='cuda:0', grad_fn=<NegBackward0>) [tensor(-27.2928, device='cuda:0', grad_fn=<NegBackward0>), tensor(-9.2964, device='cuda:0', grad_fn=<NegBackward0>), tensor(-80.2961, device='cuda:0', grad_fn=<AddBackward0>)]\n",
      "4.840370259150461\n",
      "tensor(-118.6562, device='cuda:0', grad_fn=<NegBackward0>) [tensor(-27.3894, device='cuda:0', grad_fn=<NegBackward0>), tensor(-9.7012, device='cuda:0', grad_fn=<NegBackward0>), tensor(-81.5656, device='cuda:0', grad_fn=<AddBackward0>)]\n",
      "tensor(-115.8320, device='cuda:0', grad_fn=<NegBackward0>) [tensor(-27.3894, device='cuda:0', grad_fn=<NegBackward0>), tensor(-7.8072, device='cuda:0', grad_fn=<NegBackward0>), tensor(-80.6353, device='cuda:0', grad_fn=<AddBackward0>)]\n",
      "4.816157932026303\n",
      "tensor(-117.3239, device='cuda:0', grad_fn=<NegBackward0>) [tensor(-27.5020, device='cuda:0', grad_fn=<NegBackward0>), tensor(-8.3423, device='cuda:0', grad_fn=<NegBackward0>), tensor(-81.4796, device='cuda:0', grad_fn=<AddBackward0>)]\n",
      "tensor(-117.9372, device='cuda:0', grad_fn=<NegBackward0>) [tensor(-27.5020, device='cuda:0', grad_fn=<NegBackward0>), tensor(-8.4559, device='cuda:0', grad_fn=<NegBackward0>), tensor(-81.9793, device='cuda:0', grad_fn=<AddBackward0>)]\n",
      "4.892623807891396\n",
      "tensor(-117.5130, device='cuda:0', grad_fn=<NegBackward0>) [tensor(-27.7917, device='cuda:0', grad_fn=<NegBackward0>), tensor(-8.3942, device='cuda:0', grad_fn=<NegBackward0>), tensor(-81.3271, device='cuda:0', grad_fn=<AddBackward0>)]\n",
      "tensor(-114.9223, device='cuda:0', grad_fn=<NegBackward0>) [tensor(-27.7917, device='cuda:0', grad_fn=<NegBackward0>), tensor(-6.8575, device='cuda:0', grad_fn=<NegBackward0>), tensor(-80.2732, device='cuda:0', grad_fn=<AddBackward0>)]\n",
      "4.505070046467136\n",
      "tensor(-119.8846, device='cuda:0', grad_fn=<NegBackward0>) [tensor(-28.1385, device='cuda:0', grad_fn=<NegBackward0>), tensor(-9.1725, device='cuda:0', grad_fn=<NegBackward0>), tensor(-82.5736, device='cuda:0', grad_fn=<AddBackward0>)]\n",
      "tensor(-118.2511, device='cuda:0', grad_fn=<NegBackward0>) [tensor(-28.1385, device='cuda:0', grad_fn=<NegBackward0>), tensor(-8.8954, device='cuda:0', grad_fn=<NegBackward0>), tensor(-81.2172, device='cuda:0', grad_fn=<AddBackward0>)]\n",
      "4.594839709692272\n",
      "tensor(-117.8613, device='cuda:0', grad_fn=<NegBackward0>) [tensor(-28.1933, device='cuda:0', grad_fn=<NegBackward0>), tensor(-8.6980, device='cuda:0', grad_fn=<NegBackward0>), tensor(-80.9700, device='cuda:0', grad_fn=<AddBackward0>)]\n",
      "tensor(-117.1494, device='cuda:0', grad_fn=<NegBackward0>) [tensor(-28.1933, device='cuda:0', grad_fn=<NegBackward0>), tensor(-8.5783, device='cuda:0', grad_fn=<NegBackward0>), tensor(-80.3779, device='cuda:0', grad_fn=<AddBackward0>)]\n",
      "4.733090636495915\n",
      "tensor(-120.1057, device='cuda:0', grad_fn=<NegBackward0>) [tensor(-28.2490, device='cuda:0', grad_fn=<NegBackward0>), tensor(-9.1139, device='cuda:0', grad_fn=<NegBackward0>), tensor(-82.7428, device='cuda:0', grad_fn=<AddBackward0>)]\n",
      "tensor(-121.5458, device='cuda:0', grad_fn=<NegBackward0>) [tensor(-28.2490, device='cuda:0', grad_fn=<NegBackward0>), tensor(-9.2793, device='cuda:0', grad_fn=<NegBackward0>), tensor(-84.0176, device='cuda:0', grad_fn=<AddBackward0>)]\n",
      "4.315178221541102\n",
      "tensor(-119.9515, device='cuda:0', grad_fn=<NegBackward0>) [tensor(-28.4886, device='cuda:0', grad_fn=<NegBackward0>), tensor(-9.5073, device='cuda:0', grad_fn=<NegBackward0>), tensor(-81.9556, device='cuda:0', grad_fn=<AddBackward0>)]\n",
      "tensor(-114.8064, device='cuda:0', grad_fn=<NegBackward0>) [tensor(-28.4886, device='cuda:0', grad_fn=<NegBackward0>), tensor(-7.3457, device='cuda:0', grad_fn=<NegBackward0>), tensor(-78.9721, device='cuda:0', grad_fn=<AddBackward0>)]\n",
      "4.646579870979254\n",
      "tensor(-121.1984, device='cuda:0', grad_fn=<NegBackward0>) [tensor(-28.5854, device='cuda:0', grad_fn=<NegBackward0>), tensor(-9.6700, device='cuda:0', grad_fn=<NegBackward0>), tensor(-82.9430, device='cuda:0', grad_fn=<AddBackward0>)]\n",
      "tensor(-120.2515, device='cuda:0', grad_fn=<NegBackward0>) [tensor(-28.5854, device='cuda:0', grad_fn=<NegBackward0>), tensor(-9.2695, device='cuda:0', grad_fn=<NegBackward0>), tensor(-82.3966, device='cuda:0', grad_fn=<AddBackward0>)]\n",
      "4.711707480682591\n",
      "tensor(-118.2186, device='cuda:0', grad_fn=<NegBackward0>) [tensor(-28.6686, device='cuda:0', grad_fn=<NegBackward0>), tensor(-8.0240, device='cuda:0', grad_fn=<NegBackward0>), tensor(-81.5260, device='cuda:0', grad_fn=<AddBackward0>)]\n",
      "tensor(-120.0023, device='cuda:0', grad_fn=<NegBackward0>) [tensor(-28.6686, device='cuda:0', grad_fn=<NegBackward0>), tensor(-9.2196, device='cuda:0', grad_fn=<NegBackward0>), tensor(-82.1141, device='cuda:0', grad_fn=<AddBackward0>)]\n",
      "4.742818928095877\n",
      "tensor(-118.0722, device='cuda:0', grad_fn=<NegBackward0>) [tensor(-28.6769, device='cuda:0', grad_fn=<NegBackward0>), tensor(-7.7523, device='cuda:0', grad_fn=<NegBackward0>), tensor(-81.6430, device='cuda:0', grad_fn=<AddBackward0>)]\n",
      "tensor(-121.5191, device='cuda:0', grad_fn=<NegBackward0>) [tensor(-28.6769, device='cuda:0', grad_fn=<NegBackward0>), tensor(-9.5918, device='cuda:0', grad_fn=<NegBackward0>), tensor(-83.2504, device='cuda:0', grad_fn=<AddBackward0>)]\n",
      "4.2358076735423245\n",
      "tensor(-120.7285, device='cuda:0', grad_fn=<NegBackward0>) [tensor(-28.7547, device='cuda:0', grad_fn=<NegBackward0>), tensor(-11.0603, device='cuda:0', grad_fn=<NegBackward0>), tensor(-80.9136, device='cuda:0', grad_fn=<AddBackward0>)]\n",
      "tensor(-120.2775, device='cuda:0', grad_fn=<NegBackward0>) [tensor(-28.7547, device='cuda:0', grad_fn=<NegBackward0>), tensor(-9.6713, device='cuda:0', grad_fn=<NegBackward0>), tensor(-81.8516, device='cuda:0', grad_fn=<AddBackward0>)]\n",
      "4.0932531661147555\n",
      "tensor(-117.3136, device='cuda:0', grad_fn=<NegBackward0>) [tensor(-28.8573, device='cuda:0', grad_fn=<NegBackward0>), tensor(-8.3120, device='cuda:0', grad_fn=<NegBackward0>), tensor(-80.1443, device='cuda:0', grad_fn=<AddBackward0>)]\n",
      "tensor(-117.5887, device='cuda:0', grad_fn=<NegBackward0>) [tensor(-28.8573, device='cuda:0', grad_fn=<NegBackward0>), tensor(-8.7880, device='cuda:0', grad_fn=<NegBackward0>), tensor(-79.9435, device='cuda:0', grad_fn=<AddBackward0>)]\n",
      "4.684232872217182\n",
      "tensor(-118.1521, device='cuda:0', grad_fn=<NegBackward0>) [tensor(-28.9090, device='cuda:0', grad_fn=<NegBackward0>), tensor(-8.0441, device='cuda:0', grad_fn=<NegBackward0>), tensor(-81.1990, device='cuda:0', grad_fn=<AddBackward0>)]\n",
      "tensor(-120.5316, device='cuda:0', grad_fn=<NegBackward0>) [tensor(-28.9090, device='cuda:0', grad_fn=<NegBackward0>), tensor(-9.2419, device='cuda:0', grad_fn=<NegBackward0>), tensor(-82.3806, device='cuda:0', grad_fn=<AddBackward0>)]\n",
      "4.440642986682687\n",
      "tensor(-119.4217, device='cuda:0', grad_fn=<NegBackward0>) [tensor(-28.9259, device='cuda:0', grad_fn=<NegBackward0>), tensor(-8.8680, device='cuda:0', grad_fn=<NegBackward0>), tensor(-81.6277, device='cuda:0', grad_fn=<AddBackward0>)]\n",
      "tensor(-118.6890, device='cuda:0', grad_fn=<NegBackward0>) [tensor(-28.9259, device='cuda:0', grad_fn=<NegBackward0>), tensor(-8.4349, device='cuda:0', grad_fn=<NegBackward0>), tensor(-81.3282, device='cuda:0', grad_fn=<AddBackward0>)]\n"
     ]
    },
    {
     "name": "stdout",
     "output_type": "stream",
     "text": [
      "4.553456499641163\n",
      "tensor(-119.0276, device='cuda:0', grad_fn=<NegBackward0>) [tensor(-29.1287, device='cuda:0', grad_fn=<NegBackward0>), tensor(-8.5341, device='cuda:0', grad_fn=<NegBackward0>), tensor(-81.3648, device='cuda:0', grad_fn=<AddBackward0>)]\n",
      "tensor(-119.8587, device='cuda:0', grad_fn=<NegBackward0>) [tensor(-29.1287, device='cuda:0', grad_fn=<NegBackward0>), tensor(-8.7043, device='cuda:0', grad_fn=<NegBackward0>), tensor(-82.0258, device='cuda:0', grad_fn=<AddBackward0>)]\n",
      "4.580230749005344\n",
      "tensor(-121.9366, device='cuda:0', grad_fn=<NegBackward0>) [tensor(-29.1893, device='cuda:0', grad_fn=<NegBackward0>), tensor(-9.6433, device='cuda:0', grad_fn=<NegBackward0>), tensor(-83.1040, device='cuda:0', grad_fn=<AddBackward0>)]\n",
      "tensor(-120.2244, device='cuda:0', grad_fn=<NegBackward0>) [tensor(-29.1893, device='cuda:0', grad_fn=<NegBackward0>), tensor(-8.4068, device='cuda:0', grad_fn=<NegBackward0>), tensor(-82.6283, device='cuda:0', grad_fn=<AddBackward0>)]\n",
      "3.9758728814458353\n",
      "tensor(-117.6067, device='cuda:0', grad_fn=<NegBackward0>) [tensor(-29.3036, device='cuda:0', grad_fn=<NegBackward0>), tensor(-8.9681, device='cuda:0', grad_fn=<NegBackward0>), tensor(-79.3350, device='cuda:0', grad_fn=<AddBackward0>)]\n",
      "tensor(-123.1122, device='cuda:0', grad_fn=<NegBackward0>) [tensor(-29.3036, device='cuda:0', grad_fn=<NegBackward0>), tensor(-11.2483, device='cuda:0', grad_fn=<NegBackward0>), tensor(-82.5604, device='cuda:0', grad_fn=<AddBackward0>)]\n",
      "4.6745922142658465\n",
      "tensor(-119.9118, device='cuda:0', grad_fn=<NegBackward0>) [tensor(-28.7990, device='cuda:0', grad_fn=<NegBackward0>), tensor(-8.9406, device='cuda:0', grad_fn=<NegBackward0>), tensor(-82.1721, device='cuda:0', grad_fn=<AddBackward0>)]\n",
      "tensor(-120.1883, device='cuda:0', grad_fn=<NegBackward0>) [tensor(-28.7990, device='cuda:0', grad_fn=<NegBackward0>), tensor(-9.1303, device='cuda:0', grad_fn=<NegBackward0>), tensor(-82.2590, device='cuda:0', grad_fn=<AddBackward0>)]\n",
      "4.552123194870016\n",
      "tensor(-118.4802, device='cuda:0', grad_fn=<NegBackward0>) [tensor(-28.7741, device='cuda:0', grad_fn=<NegBackward0>), tensor(-8.4861, device='cuda:0', grad_fn=<NegBackward0>), tensor(-81.2200, device='cuda:0', grad_fn=<AddBackward0>)]\n",
      "tensor(-120.4140, device='cuda:0', grad_fn=<NegBackward0>) [tensor(-28.7741, device='cuda:0', grad_fn=<NegBackward0>), tensor(-9.0292, device='cuda:0', grad_fn=<NegBackward0>), tensor(-82.6107, device='cuda:0', grad_fn=<AddBackward0>)]\n",
      "4.893873044142653\n",
      "tensor(-118.7911, device='cuda:0', grad_fn=<NegBackward0>) [tensor(-29.1265, device='cuda:0', grad_fn=<NegBackward0>), tensor(-8.1608, device='cuda:0', grad_fn=<NegBackward0>), tensor(-81.5038, device='cuda:0', grad_fn=<AddBackward0>)]\n",
      "tensor(-119.7736, device='cuda:0', grad_fn=<NegBackward0>) [tensor(-29.1265, device='cuda:0', grad_fn=<NegBackward0>), tensor(-8.1701, device='cuda:0', grad_fn=<NegBackward0>), tensor(-82.4769, device='cuda:0', grad_fn=<AddBackward0>)]\n",
      "4.866431512449038\n",
      "tensor(-121.5901, device='cuda:0', grad_fn=<NegBackward0>) [tensor(-29.5275, device='cuda:0', grad_fn=<NegBackward0>), tensor(-8.6168, device='cuda:0', grad_fn=<NegBackward0>), tensor(-83.4458, device='cuda:0', grad_fn=<AddBackward0>)]\n",
      "tensor(-118.7675, device='cuda:0', grad_fn=<NegBackward0>) [tensor(-29.5275, device='cuda:0', grad_fn=<NegBackward0>), tensor(-7.7422, device='cuda:0', grad_fn=<NegBackward0>), tensor(-81.4978, device='cuda:0', grad_fn=<AddBackward0>)]\n",
      "4.937946546697189\n",
      "tensor(-123.7166, device='cuda:0', grad_fn=<NegBackward0>) [tensor(-29.7516, device='cuda:0', grad_fn=<NegBackward0>), tensor(-9.3019, device='cuda:0', grad_fn=<NegBackward0>), tensor(-84.6631, device='cuda:0', grad_fn=<AddBackward0>)]\n",
      "tensor(-117.8321, device='cuda:0', grad_fn=<NegBackward0>) [tensor(-29.7516, device='cuda:0', grad_fn=<NegBackward0>), tensor(-7.1525, device='cuda:0', grad_fn=<NegBackward0>), tensor(-80.9281, device='cuda:0', grad_fn=<AddBackward0>)]\n",
      "4.82834668621254\n",
      "tensor(-121.6250, device='cuda:0', grad_fn=<NegBackward0>) [tensor(-29.9030, device='cuda:0', grad_fn=<NegBackward0>), tensor(-8.9261, device='cuda:0', grad_fn=<NegBackward0>), tensor(-82.7959, device='cuda:0', grad_fn=<AddBackward0>)]\n",
      "tensor(-123.2341, device='cuda:0', grad_fn=<NegBackward0>) [tensor(-29.9030, device='cuda:0', grad_fn=<NegBackward0>), tensor(-9.1941, device='cuda:0', grad_fn=<NegBackward0>), tensor(-84.1370, device='cuda:0', grad_fn=<AddBackward0>)]\n",
      "4.641537379758042\n",
      "tensor(-120.4306, device='cuda:0', grad_fn=<NegBackward0>) [tensor(-29.4969, device='cuda:0', grad_fn=<NegBackward0>), tensor(-8.5553, device='cuda:0', grad_fn=<NegBackward0>), tensor(-82.3784, device='cuda:0', grad_fn=<AddBackward0>)]\n",
      "tensor(-121.1787, device='cuda:0', grad_fn=<NegBackward0>) [tensor(-29.4969, device='cuda:0', grad_fn=<NegBackward0>), tensor(-8.9172, device='cuda:0', grad_fn=<NegBackward0>), tensor(-82.7646, device='cuda:0', grad_fn=<AddBackward0>)]\n",
      "4.469818389808703\n",
      "tensor(-120.7781, device='cuda:0', grad_fn=<NegBackward0>) [tensor(-29.7698, device='cuda:0', grad_fn=<NegBackward0>), tensor(-8.6827, device='cuda:0', grad_fn=<NegBackward0>), tensor(-82.3256, device='cuda:0', grad_fn=<AddBackward0>)]\n",
      "tensor(-123.8166, device='cuda:0', grad_fn=<NegBackward0>) [tensor(-29.7698, device='cuda:0', grad_fn=<NegBackward0>), tensor(-10.6334, device='cuda:0', grad_fn=<NegBackward0>), tensor(-83.4134, device='cuda:0', grad_fn=<AddBackward0>)]\n",
      "4.258745567816698\n",
      "tensor(-122.7718, device='cuda:0', grad_fn=<NegBackward0>) [tensor(-29.9070, device='cuda:0', grad_fn=<NegBackward0>), tensor(-10.6782, device='cuda:0', grad_fn=<NegBackward0>), tensor(-82.1865, device='cuda:0', grad_fn=<AddBackward0>)]\n",
      "tensor(-122.5370, device='cuda:0', grad_fn=<NegBackward0>) [tensor(-29.9070, device='cuda:0', grad_fn=<NegBackward0>), tensor(-9.7172, device='cuda:0', grad_fn=<NegBackward0>), tensor(-82.9127, device='cuda:0', grad_fn=<AddBackward0>)]\n",
      "4.2344756040805285\n",
      "tensor(-120.2501, device='cuda:0', grad_fn=<NegBackward0>) [tensor(-30.0378, device='cuda:0', grad_fn=<NegBackward0>), tensor(-8.7675, device='cuda:0', grad_fn=<NegBackward0>), tensor(-81.4449, device='cuda:0', grad_fn=<AddBackward0>)]\n",
      "tensor(-123.1882, device='cuda:0', grad_fn=<NegBackward0>) [tensor(-30.0378, device='cuda:0', grad_fn=<NegBackward0>), tensor(-10.2680, device='cuda:0', grad_fn=<NegBackward0>), tensor(-82.8824, device='cuda:0', grad_fn=<AddBackward0>)]\n",
      "4.500022677196291\n",
      "tensor(-120.6818, device='cuda:0', grad_fn=<NegBackward0>) [tensor(-30.1878, device='cuda:0', grad_fn=<NegBackward0>), tensor(-8.8281, device='cuda:0', grad_fn=<NegBackward0>), tensor(-81.6658, device='cuda:0', grad_fn=<AddBackward0>)]\n",
      "tensor(-123.0169, device='cuda:0', grad_fn=<NegBackward0>) [tensor(-30.1878, device='cuda:0', grad_fn=<NegBackward0>), tensor(-9.3565, device='cuda:0', grad_fn=<NegBackward0>), tensor(-83.4725, device='cuda:0', grad_fn=<AddBackward0>)]\n",
      "4.814577263836141\n",
      "tensor(-125.0079, device='cuda:0', grad_fn=<NegBackward0>) [tensor(-30.4260, device='cuda:0', grad_fn=<NegBackward0>), tensor(-9.8162, device='cuda:0', grad_fn=<NegBackward0>), tensor(-84.7658, device='cuda:0', grad_fn=<AddBackward0>)]\n",
      "tensor(-122.7369, device='cuda:0', grad_fn=<NegBackward0>) [tensor(-30.4260, device='cuda:0', grad_fn=<NegBackward0>), tensor(-9.0957, device='cuda:0', grad_fn=<NegBackward0>), tensor(-83.2153, device='cuda:0', grad_fn=<AddBackward0>)]\n",
      "4.743722901586674\n",
      "tensor(-124.8732, device='cuda:0', grad_fn=<NegBackward0>) [tensor(-30.7091, device='cuda:0', grad_fn=<NegBackward0>), tensor(-9.6906, device='cuda:0', grad_fn=<NegBackward0>), tensor(-84.4734, device='cuda:0', grad_fn=<AddBackward0>)]\n",
      "tensor(-121.5433, device='cuda:0', grad_fn=<NegBackward0>) [tensor(-30.7091, device='cuda:0', grad_fn=<NegBackward0>), tensor(-8.3857, device='cuda:0', grad_fn=<NegBackward0>), tensor(-82.4485, device='cuda:0', grad_fn=<AddBackward0>)]\n",
      "4.557571903979781\n",
      "tensor(-121.3335, device='cuda:0', grad_fn=<NegBackward0>) [tensor(-30.9116, device='cuda:0', grad_fn=<NegBackward0>), tensor(-8.3976, device='cuda:0', grad_fn=<NegBackward0>), tensor(-82.0243, device='cuda:0', grad_fn=<AddBackward0>)]\n",
      "tensor(-122.6750, device='cuda:0', grad_fn=<NegBackward0>) [tensor(-30.9116, device='cuda:0', grad_fn=<NegBackward0>), tensor(-9.1326, device='cuda:0', grad_fn=<NegBackward0>), tensor(-82.6308, device='cuda:0', grad_fn=<AddBackward0>)]\n"
     ]
    },
    {
     "name": "stdout",
     "output_type": "stream",
     "text": [
      "4.5178444670975235\n",
      "tensor(-125.8266, device='cuda:0', grad_fn=<NegBackward0>) [tensor(-31.0363, device='cuda:0', grad_fn=<NegBackward0>), tensor(-10.2330, device='cuda:0', grad_fn=<NegBackward0>), tensor(-84.5574, device='cuda:0', grad_fn=<AddBackward0>)]\n",
      "tensor(-123.1617, device='cuda:0', grad_fn=<NegBackward0>) [tensor(-31.0363, device='cuda:0', grad_fn=<NegBackward0>), tensor(-9.1817, device='cuda:0', grad_fn=<NegBackward0>), tensor(-82.9438, device='cuda:0', grad_fn=<AddBackward0>)]\n",
      "4.389789823256145\n",
      "tensor(-124.6202, device='cuda:0', grad_fn=<NegBackward0>) [tensor(-31.0769, device='cuda:0', grad_fn=<NegBackward0>), tensor(-9.9984, device='cuda:0', grad_fn=<NegBackward0>), tensor(-83.5449, device='cuda:0', grad_fn=<AddBackward0>)]\n",
      "tensor(-123.8863, device='cuda:0', grad_fn=<NegBackward0>) [tensor(-31.0769, device='cuda:0', grad_fn=<NegBackward0>), tensor(-8.8367, device='cuda:0', grad_fn=<NegBackward0>), tensor(-83.9727, device='cuda:0', grad_fn=<AddBackward0>)]\n",
      "4.709038214146812\n",
      "tensor(-123.8046, device='cuda:0', grad_fn=<NegBackward0>) [tensor(-31.0151, device='cuda:0', grad_fn=<NegBackward0>), tensor(-8.8256, device='cuda:0', grad_fn=<NegBackward0>), tensor(-83.9639, device='cuda:0', grad_fn=<AddBackward0>)]\n",
      "tensor(-123.1682, device='cuda:0', grad_fn=<NegBackward0>) [tensor(-31.0151, device='cuda:0', grad_fn=<NegBackward0>), tensor(-8.8879, device='cuda:0', grad_fn=<NegBackward0>), tensor(-83.2652, device='cuda:0', grad_fn=<AddBackward0>)]\n",
      "4.872982858843406\n",
      "tensor(-123.0650, device='cuda:0', grad_fn=<NegBackward0>) [tensor(-31.1267, device='cuda:0', grad_fn=<NegBackward0>), tensor(-8.5246, device='cuda:0', grad_fn=<NegBackward0>), tensor(-83.4137, device='cuda:0', grad_fn=<AddBackward0>)]\n",
      "tensor(-120.9024, device='cuda:0', grad_fn=<NegBackward0>) [tensor(-31.1267, device='cuda:0', grad_fn=<NegBackward0>), tensor(-7.7039, device='cuda:0', grad_fn=<NegBackward0>), tensor(-82.0718, device='cuda:0', grad_fn=<AddBackward0>)]\n",
      "4.618820910558859\n",
      "tensor(-125.9150, device='cuda:0', grad_fn=<NegBackward0>) [tensor(-31.3290, device='cuda:0', grad_fn=<NegBackward0>), tensor(-9.7462, device='cuda:0', grad_fn=<NegBackward0>), tensor(-84.8398, device='cuda:0', grad_fn=<AddBackward0>)]\n",
      "tensor(-127.2680, device='cuda:0', grad_fn=<NegBackward0>) [tensor(-31.3290, device='cuda:0', grad_fn=<NegBackward0>), tensor(-10.2083, device='cuda:0', grad_fn=<NegBackward0>), tensor(-85.7306, device='cuda:0', grad_fn=<AddBackward0>)]\n",
      "4.125371376567258\n",
      "tensor(-123.8864, device='cuda:0', grad_fn=<NegBackward0>) [tensor(-31.3816, device='cuda:0', grad_fn=<NegBackward0>), tensor(-9.3843, device='cuda:0', grad_fn=<NegBackward0>), tensor(-83.1205, device='cuda:0', grad_fn=<AddBackward0>)]\n",
      "tensor(-119.3722, device='cuda:0', grad_fn=<NegBackward0>) [tensor(-31.3816, device='cuda:0', grad_fn=<NegBackward0>), tensor(-8.2752, device='cuda:0', grad_fn=<NegBackward0>), tensor(-79.7155, device='cuda:0', grad_fn=<AddBackward0>)]\n",
      "4.803275559865975\n",
      "tensor(-117.3296, device='cuda:0', grad_fn=<NegBackward0>) [tensor(-31.2486, device='cuda:0', grad_fn=<NegBackward0>), tensor(-6.2731, device='cuda:0', grad_fn=<NegBackward0>), tensor(-79.8078, device='cuda:0', grad_fn=<AddBackward0>)]\n",
      "tensor(-121.2519, device='cuda:0', grad_fn=<NegBackward0>) [tensor(-31.2486, device='cuda:0', grad_fn=<NegBackward0>), tensor(-7.4311, device='cuda:0', grad_fn=<NegBackward0>), tensor(-82.5722, device='cuda:0', grad_fn=<AddBackward0>)]\n",
      "4.55754290269939\n",
      "tensor(-123.6333, device='cuda:0', grad_fn=<NegBackward0>) [tensor(-31.4775, device='cuda:0', grad_fn=<NegBackward0>), tensor(-8.6614, device='cuda:0', grad_fn=<NegBackward0>), tensor(-83.4944, device='cuda:0', grad_fn=<AddBackward0>)]\n",
      "tensor(-121.9552, device='cuda:0', grad_fn=<NegBackward0>) [tensor(-31.4775, device='cuda:0', grad_fn=<NegBackward0>), tensor(-7.8554, device='cuda:0', grad_fn=<NegBackward0>), tensor(-82.6223, device='cuda:0', grad_fn=<AddBackward0>)]\n",
      "4.742591788650779\n",
      "tensor(-124.4955, device='cuda:0', grad_fn=<NegBackward0>) [tensor(-31.7752, device='cuda:0', grad_fn=<NegBackward0>), tensor(-8.5138, device='cuda:0', grad_fn=<NegBackward0>), tensor(-84.2065, device='cuda:0', grad_fn=<AddBackward0>)]\n",
      "tensor(-122.7669, device='cuda:0', grad_fn=<NegBackward0>) [tensor(-31.7752, device='cuda:0', grad_fn=<NegBackward0>), tensor(-7.5945, device='cuda:0', grad_fn=<NegBackward0>), tensor(-83.3972, device='cuda:0', grad_fn=<AddBackward0>)]\n",
      "4.325670302599102\n",
      "tensor(-124.5275, device='cuda:0', grad_fn=<NegBackward0>) [tensor(-31.8419, device='cuda:0', grad_fn=<NegBackward0>), tensor(-9.3981, device='cuda:0', grad_fn=<NegBackward0>), tensor(-83.2875, device='cuda:0', grad_fn=<AddBackward0>)]\n",
      "tensor(-125.7518, device='cuda:0', grad_fn=<NegBackward0>) [tensor(-31.8419, device='cuda:0', grad_fn=<NegBackward0>), tensor(-9.7612, device='cuda:0', grad_fn=<NegBackward0>), tensor(-84.1487, device='cuda:0', grad_fn=<AddBackward0>)]\n",
      "4.153160995754639\n",
      "tensor(-122.3222, device='cuda:0', grad_fn=<NegBackward0>) [tensor(-31.6876, device='cuda:0', grad_fn=<NegBackward0>), tensor(-8.8397, device='cuda:0', grad_fn=<NegBackward0>), tensor(-81.7949, device='cuda:0', grad_fn=<AddBackward0>)]\n",
      "tensor(-124.9608, device='cuda:0', grad_fn=<NegBackward0>) [tensor(-31.6876, device='cuda:0', grad_fn=<NegBackward0>), tensor(-9.9398, device='cuda:0', grad_fn=<NegBackward0>), tensor(-83.3334, device='cuda:0', grad_fn=<AddBackward0>)]\n",
      "4.917966471712588\n",
      "tensor(-122.7314, device='cuda:0', grad_fn=<NegBackward0>) [tensor(-31.7165, device='cuda:0', grad_fn=<NegBackward0>), tensor(-8.4293, device='cuda:0', grad_fn=<NegBackward0>), tensor(-82.5857, device='cuda:0', grad_fn=<AddBackward0>)]\n",
      "tensor(-126.1517, device='cuda:0', grad_fn=<NegBackward0>) [tensor(-31.7165, device='cuda:0', grad_fn=<NegBackward0>), tensor(-9.4854, device='cuda:0', grad_fn=<NegBackward0>), tensor(-84.9498, device='cuda:0', grad_fn=<AddBackward0>)]\n",
      "4.477060518780425\n",
      "tensor(-122.7145, device='cuda:0', grad_fn=<NegBackward0>) [tensor(-31.8477, device='cuda:0', grad_fn=<NegBackward0>), tensor(-8.2412, device='cuda:0', grad_fn=<NegBackward0>), tensor(-82.6256, device='cuda:0', grad_fn=<AddBackward0>)]\n",
      "tensor(-125.0329, device='cuda:0', grad_fn=<NegBackward0>) [tensor(-31.8477, device='cuda:0', grad_fn=<NegBackward0>), tensor(-8.9859, device='cuda:0', grad_fn=<NegBackward0>), tensor(-84.1993, device='cuda:0', grad_fn=<AddBackward0>)]\n",
      "4.244018672689168\n",
      "tensor(-123.0684, device='cuda:0', grad_fn=<NegBackward0>) [tensor(-31.9800, device='cuda:0', grad_fn=<NegBackward0>), tensor(-9.2527, device='cuda:0', grad_fn=<NegBackward0>), tensor(-81.8358, device='cuda:0', grad_fn=<AddBackward0>)]\n",
      "tensor(-125.8293, device='cuda:0', grad_fn=<NegBackward0>) [tensor(-31.9800, device='cuda:0', grad_fn=<NegBackward0>), tensor(-9.7155, device='cuda:0', grad_fn=<NegBackward0>), tensor(-84.1339, device='cuda:0', grad_fn=<AddBackward0>)]\n",
      "4.446548561927191\n",
      "tensor(-119.4005, device='cuda:0', grad_fn=<NegBackward0>) [tensor(-32.0899, device='cuda:0', grad_fn=<NegBackward0>), tensor(-6.5376, device='cuda:0', grad_fn=<NegBackward0>), tensor(-80.7730, device='cuda:0', grad_fn=<AddBackward0>)]\n",
      "tensor(-127.1618, device='cuda:0', grad_fn=<NegBackward0>) [tensor(-32.0899, device='cuda:0', grad_fn=<NegBackward0>), tensor(-10.0459, device='cuda:0', grad_fn=<NegBackward0>), tensor(-85.0259, device='cuda:0', grad_fn=<AddBackward0>)]\n",
      "4.381417158394852\n",
      "tensor(-123.7974, device='cuda:0', grad_fn=<NegBackward0>) [tensor(-32.1064, device='cuda:0', grad_fn=<NegBackward0>), tensor(-8.3248, device='cuda:0', grad_fn=<NegBackward0>), tensor(-83.3661, device='cuda:0', grad_fn=<AddBackward0>)]\n",
      "tensor(-121.7706, device='cuda:0', grad_fn=<NegBackward0>) [tensor(-32.1064, device='cuda:0', grad_fn=<NegBackward0>), tensor(-7.4743, device='cuda:0', grad_fn=<NegBackward0>), tensor(-82.1898, device='cuda:0', grad_fn=<AddBackward0>)]\n",
      "4.361569084408456\n",
      "tensor(-124.9647, device='cuda:0', grad_fn=<NegBackward0>) [tensor(-32.1897, device='cuda:0', grad_fn=<NegBackward0>), tensor(-9.0501, device='cuda:0', grad_fn=<NegBackward0>), tensor(-83.7249, device='cuda:0', grad_fn=<AddBackward0>)]\n",
      "tensor(-124.3083, device='cuda:0', grad_fn=<NegBackward0>) [tensor(-32.1897, device='cuda:0', grad_fn=<NegBackward0>), tensor(-9.7852, device='cuda:0', grad_fn=<NegBackward0>), tensor(-82.3335, device='cuda:0', grad_fn=<AddBackward0>)]\n"
     ]
    },
    {
     "name": "stdout",
     "output_type": "stream",
     "text": [
      "4.423204892500351\n",
      "tensor(-122.9817, device='cuda:0', grad_fn=<NegBackward0>) [tensor(-32.0384, device='cuda:0', grad_fn=<NegBackward0>), tensor(-8.2477, device='cuda:0', grad_fn=<NegBackward0>), tensor(-82.6956, device='cuda:0', grad_fn=<AddBackward0>)]\n",
      "tensor(-124.0397, device='cuda:0', grad_fn=<NegBackward0>) [tensor(-32.0384, device='cuda:0', grad_fn=<NegBackward0>), tensor(-8.7011, device='cuda:0', grad_fn=<NegBackward0>), tensor(-83.3003, device='cuda:0', grad_fn=<AddBackward0>)]\n",
      "4.326588156124474\n",
      "tensor(-120.7893, device='cuda:0', grad_fn=<NegBackward0>) [tensor(-32.1080, device='cuda:0', grad_fn=<NegBackward0>), tensor(-7.4518, device='cuda:0', grad_fn=<NegBackward0>), tensor(-81.2296, device='cuda:0', grad_fn=<AddBackward0>)]\n",
      "tensor(-125.7201, device='cuda:0', grad_fn=<NegBackward0>) [tensor(-32.1080, device='cuda:0', grad_fn=<NegBackward0>), tensor(-9.4085, device='cuda:0', grad_fn=<NegBackward0>), tensor(-84.2036, device='cuda:0', grad_fn=<AddBackward0>)]\n",
      "4.30306828875312\n",
      "tensor(-124.0206, device='cuda:0', grad_fn=<NegBackward0>) [tensor(-32.1723, device='cuda:0', grad_fn=<NegBackward0>), tensor(-9.2138, device='cuda:0', grad_fn=<NegBackward0>), tensor(-82.6345, device='cuda:0', grad_fn=<AddBackward0>)]\n",
      "tensor(-123.3805, device='cuda:0', grad_fn=<NegBackward0>) [tensor(-32.1723, device='cuda:0', grad_fn=<NegBackward0>), tensor(-8.8813, device='cuda:0', grad_fn=<NegBackward0>), tensor(-82.3269, device='cuda:0', grad_fn=<AddBackward0>)]\n",
      "4.232317175509381\n",
      "tensor(-121.2335, device='cuda:0', grad_fn=<NegBackward0>) [tensor(-32.1730, device='cuda:0', grad_fn=<NegBackward0>), tensor(-7.8519, device='cuda:0', grad_fn=<NegBackward0>), tensor(-81.2086, device='cuda:0', grad_fn=<AddBackward0>)]\n",
      "tensor(-126.4248, device='cuda:0', grad_fn=<NegBackward0>) [tensor(-32.1730, device='cuda:0', grad_fn=<NegBackward0>), tensor(-10.3879, device='cuda:0', grad_fn=<NegBackward0>), tensor(-83.8640, device='cuda:0', grad_fn=<AddBackward0>)]\n",
      "4.556661578697457\n",
      "tensor(-125.7572, device='cuda:0', grad_fn=<NegBackward0>) [tensor(-32.2167, device='cuda:0', grad_fn=<NegBackward0>), tensor(-9.4714, device='cuda:0', grad_fn=<NegBackward0>), tensor(-84.0691, device='cuda:0', grad_fn=<AddBackward0>)]\n",
      "tensor(-123.7808, device='cuda:0', grad_fn=<NegBackward0>) [tensor(-32.2167, device='cuda:0', grad_fn=<NegBackward0>), tensor(-8.1688, device='cuda:0', grad_fn=<NegBackward0>), tensor(-83.3953, device='cuda:0', grad_fn=<AddBackward0>)]\n",
      "5.181070830208119\n",
      "tensor(-122.3569, device='cuda:0', grad_fn=<NegBackward0>) [tensor(-32.3831, device='cuda:0', grad_fn=<NegBackward0>), tensor(-7.0615, device='cuda:0', grad_fn=<NegBackward0>), tensor(-82.9123, device='cuda:0', grad_fn=<AddBackward0>)]\n",
      "tensor(-119.6435, device='cuda:0', grad_fn=<NegBackward0>) [tensor(-32.3831, device='cuda:0', grad_fn=<NegBackward0>), tensor(-6.1071, device='cuda:0', grad_fn=<NegBackward0>), tensor(-81.1533, device='cuda:0', grad_fn=<AddBackward0>)]\n",
      "4.191166063722068\n",
      "tensor(-123.8865, device='cuda:0', grad_fn=<NegBackward0>) [tensor(-32.8378, device='cuda:0', grad_fn=<NegBackward0>), tensor(-8.4215, device='cuda:0', grad_fn=<NegBackward0>), tensor(-82.6272, device='cuda:0', grad_fn=<AddBackward0>)]\n",
      "tensor(-125.5671, device='cuda:0', grad_fn=<NegBackward0>) [tensor(-32.8378, device='cuda:0', grad_fn=<NegBackward0>), tensor(-9.5231, device='cuda:0', grad_fn=<NegBackward0>), tensor(-83.2061, device='cuda:0', grad_fn=<AddBackward0>)]\n",
      "4.19837681071922\n",
      "tensor(-128.0247, device='cuda:0', grad_fn=<NegBackward0>) [tensor(-32.7236, device='cuda:0', grad_fn=<NegBackward0>), tensor(-10.4543, device='cuda:0', grad_fn=<NegBackward0>), tensor(-84.8469, device='cuda:0', grad_fn=<AddBackward0>)]\n",
      "tensor(-123.8144, device='cuda:0', grad_fn=<NegBackward0>) [tensor(-32.7236, device='cuda:0', grad_fn=<NegBackward0>), tensor(-8.9102, device='cuda:0', grad_fn=<NegBackward0>), tensor(-82.1806, device='cuda:0', grad_fn=<AddBackward0>)]\n",
      "4.5544504310569955\n",
      "tensor(-127.5926, device='cuda:0', grad_fn=<NegBackward0>) [tensor(-32.6979, device='cuda:0', grad_fn=<NegBackward0>), tensor(-9.1846, device='cuda:0', grad_fn=<NegBackward0>), tensor(-85.7101, device='cuda:0', grad_fn=<AddBackward0>)]\n",
      "tensor(-123.9751, device='cuda:0', grad_fn=<NegBackward0>) [tensor(-32.6979, device='cuda:0', grad_fn=<NegBackward0>), tensor(-8.3869, device='cuda:0', grad_fn=<NegBackward0>), tensor(-82.8903, device='cuda:0', grad_fn=<AddBackward0>)]\n",
      "4.415030971482043\n",
      "tensor(-125.3127, device='cuda:0', grad_fn=<NegBackward0>) [tensor(-32.9327, device='cuda:0', grad_fn=<NegBackward0>), tensor(-8.8792, device='cuda:0', grad_fn=<NegBackward0>), tensor(-83.5008, device='cuda:0', grad_fn=<AddBackward0>)]\n",
      "tensor(-125.3586, device='cuda:0', grad_fn=<NegBackward0>) [tensor(-32.9327, device='cuda:0', grad_fn=<NegBackward0>), tensor(-9.5972, device='cuda:0', grad_fn=<NegBackward0>), tensor(-82.8288, device='cuda:0', grad_fn=<AddBackward0>)]\n",
      "4.397143900772688\n",
      "tensor(-125.5004, device='cuda:0', grad_fn=<NegBackward0>) [tensor(-33.0678, device='cuda:0', grad_fn=<NegBackward0>), tensor(-9.5465, device='cuda:0', grad_fn=<NegBackward0>), tensor(-82.8861, device='cuda:0', grad_fn=<AddBackward0>)]\n",
      "tensor(-126.0050, device='cuda:0', grad_fn=<NegBackward0>) [tensor(-33.0678, device='cuda:0', grad_fn=<NegBackward0>), tensor(-9.2010, device='cuda:0', grad_fn=<NegBackward0>), tensor(-83.7361, device='cuda:0', grad_fn=<AddBackward0>)]\n",
      "4.3572830517342425\n",
      "tensor(-126.2558, device='cuda:0', grad_fn=<NegBackward0>) [tensor(-33.0506, device='cuda:0', grad_fn=<NegBackward0>), tensor(-8.9929, device='cuda:0', grad_fn=<NegBackward0>), tensor(-84.2124, device='cuda:0', grad_fn=<AddBackward0>)]\n",
      "tensor(-126.7980, device='cuda:0', grad_fn=<NegBackward0>) [tensor(-33.0506, device='cuda:0', grad_fn=<NegBackward0>), tensor(-9.3596, device='cuda:0', grad_fn=<NegBackward0>), tensor(-84.3878, device='cuda:0', grad_fn=<AddBackward0>)]\n",
      "4.361955766009841\n",
      "tensor(-121.3634, device='cuda:0', grad_fn=<NegBackward0>) [tensor(-33.0386, device='cuda:0', grad_fn=<NegBackward0>), tensor(-6.7255, device='cuda:0', grad_fn=<NegBackward0>), tensor(-81.5993, device='cuda:0', grad_fn=<AddBackward0>)]\n",
      "tensor(-125.2453, device='cuda:0', grad_fn=<NegBackward0>) [tensor(-33.0386, device='cuda:0', grad_fn=<NegBackward0>), tensor(-9.0779, device='cuda:0', grad_fn=<NegBackward0>), tensor(-83.1288, device='cuda:0', grad_fn=<AddBackward0>)]\n",
      "3.853949580672405\n",
      "tensor(-127.1278, device='cuda:0', grad_fn=<NegBackward0>) [tensor(-33.0532, device='cuda:0', grad_fn=<NegBackward0>), tensor(-10.6734, device='cuda:0', grad_fn=<NegBackward0>), tensor(-83.4012, device='cuda:0', grad_fn=<AddBackward0>)]\n",
      "tensor(-123.5646, device='cuda:0', grad_fn=<NegBackward0>) [tensor(-33.0532, device='cuda:0', grad_fn=<NegBackward0>), tensor(-9.1823, device='cuda:0', grad_fn=<NegBackward0>), tensor(-81.3291, device='cuda:0', grad_fn=<AddBackward0>)]\n",
      "4.159372538428966\n",
      "tensor(-126.1266, device='cuda:0', grad_fn=<NegBackward0>) [tensor(-33.1303, device='cuda:0', grad_fn=<NegBackward0>), tensor(-9.2942, device='cuda:0', grad_fn=<NegBackward0>), tensor(-83.7020, device='cuda:0', grad_fn=<AddBackward0>)]\n",
      "tensor(-122.4183, device='cuda:0', grad_fn=<NegBackward0>) [tensor(-33.1303, device='cuda:0', grad_fn=<NegBackward0>), tensor(-7.4294, device='cuda:0', grad_fn=<NegBackward0>), tensor(-81.8585, device='cuda:0', grad_fn=<AddBackward0>)]\n",
      "4.281821336313426\n",
      "tensor(-128.0228, device='cuda:0', grad_fn=<NegBackward0>) [tensor(-33.3149, device='cuda:0', grad_fn=<NegBackward0>), tensor(-9.6294, device='cuda:0', grad_fn=<NegBackward0>), tensor(-85.0785, device='cuda:0', grad_fn=<AddBackward0>)]\n",
      "tensor(-125.7407, device='cuda:0', grad_fn=<NegBackward0>) [tensor(-33.3149, device='cuda:0', grad_fn=<NegBackward0>), tensor(-9.1592, device='cuda:0', grad_fn=<NegBackward0>), tensor(-83.2665, device='cuda:0', grad_fn=<AddBackward0>)]\n",
      "4.374442687106469\n",
      "tensor(-124.2790, device='cuda:0', grad_fn=<NegBackward0>) [tensor(-33.4024, device='cuda:0', grad_fn=<NegBackward0>), tensor(-7.9331, device='cuda:0', grad_fn=<NegBackward0>), tensor(-82.9435, device='cuda:0', grad_fn=<AddBackward0>)]\n",
      "tensor(-126.6602, device='cuda:0', grad_fn=<NegBackward0>) [tensor(-33.4024, device='cuda:0', grad_fn=<NegBackward0>), tensor(-8.8764, device='cuda:0', grad_fn=<NegBackward0>), tensor(-84.3814, device='cuda:0', grad_fn=<AddBackward0>)]\n"
     ]
    },
    {
     "name": "stdout",
     "output_type": "stream",
     "text": [
      "4.747764892381871\n",
      "tensor(-123.2047, device='cuda:0', grad_fn=<NegBackward0>) [tensor(-33.3954, device='cuda:0', grad_fn=<NegBackward0>), tensor(-7.3081, device='cuda:0', grad_fn=<NegBackward0>), tensor(-82.5011, device='cuda:0', grad_fn=<AddBackward0>)]\n",
      "tensor(-126.9156, device='cuda:0', grad_fn=<NegBackward0>) [tensor(-33.3954, device='cuda:0', grad_fn=<NegBackward0>), tensor(-8.6252, device='cuda:0', grad_fn=<NegBackward0>), tensor(-84.8950, device='cuda:0', grad_fn=<AddBackward0>)]\n",
      "4.454309414034183\n",
      "tensor(-127.1894, device='cuda:0', grad_fn=<NegBackward0>) [tensor(-33.4478, device='cuda:0', grad_fn=<NegBackward0>), tensor(-8.9328, device='cuda:0', grad_fn=<NegBackward0>), tensor(-84.8087, device='cuda:0', grad_fn=<AddBackward0>)]\n",
      "tensor(-128.9457, device='cuda:0', grad_fn=<NegBackward0>) [tensor(-33.4478, device='cuda:0', grad_fn=<NegBackward0>), tensor(-10.0420, device='cuda:0', grad_fn=<NegBackward0>), tensor(-85.4558, device='cuda:0', grad_fn=<AddBackward0>)]\n",
      "4.749057970910633\n",
      "tensor(-127.8692, device='cuda:0', grad_fn=<NegBackward0>) [tensor(-33.2773, device='cuda:0', grad_fn=<NegBackward0>), tensor(-9.5095, device='cuda:0', grad_fn=<NegBackward0>), tensor(-85.0823, device='cuda:0', grad_fn=<AddBackward0>)]\n",
      "tensor(-126.1114, device='cuda:0', grad_fn=<NegBackward0>) [tensor(-33.2773, device='cuda:0', grad_fn=<NegBackward0>), tensor(-8.5515, device='cuda:0', grad_fn=<NegBackward0>), tensor(-84.2826, device='cuda:0', grad_fn=<AddBackward0>)]\n",
      "3.844682620577595\n",
      "tensor(-127.2842, device='cuda:0', grad_fn=<NegBackward0>) [tensor(-33.5448, device='cuda:0', grad_fn=<NegBackward0>), tensor(-11.3030, device='cuda:0', grad_fn=<NegBackward0>), tensor(-82.4363, device='cuda:0', grad_fn=<AddBackward0>)]\n",
      "tensor(-126.3654, device='cuda:0', grad_fn=<NegBackward0>) [tensor(-33.5448, device='cuda:0', grad_fn=<NegBackward0>), tensor(-10.6734, device='cuda:0', grad_fn=<NegBackward0>), tensor(-82.1471, device='cuda:0', grad_fn=<AddBackward0>)]\n",
      "4.634977490551361\n",
      "tensor(-122.5273, device='cuda:0', grad_fn=<NegBackward0>) [tensor(-33.2305, device='cuda:0', grad_fn=<NegBackward0>), tensor(-7.2203, device='cuda:0', grad_fn=<NegBackward0>), tensor(-82.0766, device='cuda:0', grad_fn=<AddBackward0>)]\n",
      "tensor(-129.7471, device='cuda:0', grad_fn=<NegBackward0>) [tensor(-33.2305, device='cuda:0', grad_fn=<NegBackward0>), tensor(-10.0723, device='cuda:0', grad_fn=<NegBackward0>), tensor(-86.4443, device='cuda:0', grad_fn=<AddBackward0>)]\n",
      "4.325581331312357\n",
      "tensor(-130.0488, device='cuda:0', grad_fn=<NegBackward0>) [tensor(-33.4207, device='cuda:0', grad_fn=<NegBackward0>), tensor(-10.4850, device='cuda:0', grad_fn=<NegBackward0>), tensor(-86.1432, device='cuda:0', grad_fn=<AddBackward0>)]\n",
      "tensor(-124.6991, device='cuda:0', grad_fn=<NegBackward0>) [tensor(-33.4207, device='cuda:0', grad_fn=<NegBackward0>), tensor(-8.2214, device='cuda:0', grad_fn=<NegBackward0>), tensor(-83.0571, device='cuda:0', grad_fn=<AddBackward0>)]\n",
      "4.465574577489502\n",
      "tensor(-127.2219, device='cuda:0', grad_fn=<NegBackward0>) [tensor(-33.6486, device='cuda:0', grad_fn=<NegBackward0>), tensor(-8.8123, device='cuda:0', grad_fn=<NegBackward0>), tensor(-84.7610, device='cuda:0', grad_fn=<AddBackward0>)]\n",
      "tensor(-132.0251, device='cuda:0', grad_fn=<NegBackward0>) [tensor(-33.6486, device='cuda:0', grad_fn=<NegBackward0>), tensor(-10.3859, device='cuda:0', grad_fn=<NegBackward0>), tensor(-87.9907, device='cuda:0', grad_fn=<AddBackward0>)]\n",
      "4.589062516929936\n",
      "tensor(-124.7737, device='cuda:0', grad_fn=<NegBackward0>) [tensor(-33.7399, device='cuda:0', grad_fn=<NegBackward0>), tensor(-7.5438, device='cuda:0', grad_fn=<NegBackward0>), tensor(-83.4900, device='cuda:0', grad_fn=<AddBackward0>)]\n",
      "tensor(-129.7126, device='cuda:0', grad_fn=<NegBackward0>) [tensor(-33.7399, device='cuda:0', grad_fn=<NegBackward0>), tensor(-9.9620, device='cuda:0', grad_fn=<NegBackward0>), tensor(-86.0107, device='cuda:0', grad_fn=<AddBackward0>)]\n",
      "4.55312007134574\n",
      "tensor(-124.8322, device='cuda:0', grad_fn=<NegBackward0>) [tensor(-33.8026, device='cuda:0', grad_fn=<NegBackward0>), tensor(-8.0208, device='cuda:0', grad_fn=<NegBackward0>), tensor(-83.0087, device='cuda:0', grad_fn=<AddBackward0>)]\n",
      "tensor(-128.0691, device='cuda:0', grad_fn=<NegBackward0>) [tensor(-33.8026, device='cuda:0', grad_fn=<NegBackward0>), tensor(-8.7363, device='cuda:0', grad_fn=<NegBackward0>), tensor(-85.5302, device='cuda:0', grad_fn=<AddBackward0>)]\n",
      "4.395668146998734\n",
      "tensor(-128.3785, device='cuda:0', grad_fn=<NegBackward0>) [tensor(-33.8492, device='cuda:0', grad_fn=<NegBackward0>), tensor(-9.5971, device='cuda:0', grad_fn=<NegBackward0>), tensor(-84.9323, device='cuda:0', grad_fn=<AddBackward0>)]\n",
      "tensor(-124.1489, device='cuda:0', grad_fn=<NegBackward0>) [tensor(-33.8492, device='cuda:0', grad_fn=<NegBackward0>), tensor(-7.4556, device='cuda:0', grad_fn=<NegBackward0>), tensor(-82.8441, device='cuda:0', grad_fn=<AddBackward0>)]\n",
      "4.593949120584492\n",
      "tensor(-126.9757, device='cuda:0', grad_fn=<NegBackward0>) [tensor(-34.0393, device='cuda:0', grad_fn=<NegBackward0>), tensor(-8.5430, device='cuda:0', grad_fn=<NegBackward0>), tensor(-84.3934, device='cuda:0', grad_fn=<AddBackward0>)]\n",
      "tensor(-125.1858, device='cuda:0', grad_fn=<NegBackward0>) [tensor(-34.0393, device='cuda:0', grad_fn=<NegBackward0>), tensor(-7.6595, device='cuda:0', grad_fn=<NegBackward0>), tensor(-83.4870, device='cuda:0', grad_fn=<AddBackward0>)]\n",
      "4.337042294344791\n",
      "tensor(-126.6860, device='cuda:0', grad_fn=<NegBackward0>) [tensor(-34.2364, device='cuda:0', grad_fn=<NegBackward0>), tensor(-8.6520, device='cuda:0', grad_fn=<NegBackward0>), tensor(-83.7977, device='cuda:0', grad_fn=<AddBackward0>)]\n",
      "tensor(-129.8149, device='cuda:0', grad_fn=<NegBackward0>) [tensor(-34.2364, device='cuda:0', grad_fn=<NegBackward0>), tensor(-9.9277, device='cuda:0', grad_fn=<NegBackward0>), tensor(-85.6509, device='cuda:0', grad_fn=<AddBackward0>)]\n",
      "4.359657464297211\n",
      "tensor(-124.3344, device='cuda:0', grad_fn=<NegBackward0>) [tensor(-34.2904, device='cuda:0', grad_fn=<NegBackward0>), tensor(-7.2852, device='cuda:0', grad_fn=<NegBackward0>), tensor(-82.7588, device='cuda:0', grad_fn=<AddBackward0>)]\n",
      "tensor(-127.8892, device='cuda:0', grad_fn=<NegBackward0>) [tensor(-34.2904, device='cuda:0', grad_fn=<NegBackward0>), tensor(-9.2364, device='cuda:0', grad_fn=<NegBackward0>), tensor(-84.3624, device='cuda:0', grad_fn=<AddBackward0>)]\n",
      "4.151775034394757\n",
      "tensor(-126.1426, device='cuda:0', grad_fn=<NegBackward0>) [tensor(-34.3196, device='cuda:0', grad_fn=<NegBackward0>), tensor(-9.1230, device='cuda:0', grad_fn=<NegBackward0>), tensor(-82.7000, device='cuda:0', grad_fn=<AddBackward0>)]\n",
      "tensor(-129.8788, device='cuda:0', grad_fn=<NegBackward0>) [tensor(-34.3196, device='cuda:0', grad_fn=<NegBackward0>), tensor(-10.1502, device='cuda:0', grad_fn=<NegBackward0>), tensor(-85.4090, device='cuda:0', grad_fn=<AddBackward0>)]\n",
      "4.371702543809326\n",
      "tensor(-129.8061, device='cuda:0', grad_fn=<NegBackward0>) [tensor(-34.3720, device='cuda:0', grad_fn=<NegBackward0>), tensor(-9.6364, device='cuda:0', grad_fn=<NegBackward0>), tensor(-85.7978, device='cuda:0', grad_fn=<AddBackward0>)]\n",
      "tensor(-129.7849, device='cuda:0', grad_fn=<NegBackward0>) [tensor(-34.3720, device='cuda:0', grad_fn=<NegBackward0>), tensor(-9.9811, device='cuda:0', grad_fn=<NegBackward0>), tensor(-85.4318, device='cuda:0', grad_fn=<AddBackward0>)]\n",
      "3.9256778801601455\n",
      "tensor(-125.1157, device='cuda:0', grad_fn=<NegBackward0>) [tensor(-34.1789, device='cuda:0', grad_fn=<NegBackward0>), tensor(-8.8612, device='cuda:0', grad_fn=<NegBackward0>), tensor(-82.0757, device='cuda:0', grad_fn=<AddBackward0>)]\n",
      "tensor(-126.8853, device='cuda:0', grad_fn=<NegBackward0>) [tensor(-34.1789, device='cuda:0', grad_fn=<NegBackward0>), tensor(-9.3155, device='cuda:0', grad_fn=<NegBackward0>), tensor(-83.3909, device='cuda:0', grad_fn=<AddBackward0>)]\n",
      "4.38783666422064\n",
      "tensor(-127.8214, device='cuda:0', grad_fn=<NegBackward0>) [tensor(-34.1190, device='cuda:0', grad_fn=<NegBackward0>), tensor(-9.2559, device='cuda:0', grad_fn=<NegBackward0>), tensor(-84.4465, device='cuda:0', grad_fn=<AddBackward0>)]\n",
      "tensor(-127.1300, device='cuda:0', grad_fn=<NegBackward0>) [tensor(-34.1190, device='cuda:0', grad_fn=<NegBackward0>), tensor(-8.4799, device='cuda:0', grad_fn=<NegBackward0>), tensor(-84.5311, device='cuda:0', grad_fn=<AddBackward0>)]\n"
     ]
    },
    {
     "name": "stdout",
     "output_type": "stream",
     "text": [
      "4.528011650395378\n",
      "tensor(-128.7614, device='cuda:0', grad_fn=<NegBackward0>) [tensor(-34.3106, device='cuda:0', grad_fn=<NegBackward0>), tensor(-9.4155, device='cuda:0', grad_fn=<NegBackward0>), tensor(-85.0353, device='cuda:0', grad_fn=<AddBackward0>)]\n",
      "tensor(-130.2331, device='cuda:0', grad_fn=<NegBackward0>) [tensor(-34.3106, device='cuda:0', grad_fn=<NegBackward0>), tensor(-10.1861, device='cuda:0', grad_fn=<NegBackward0>), tensor(-85.7364, device='cuda:0', grad_fn=<AddBackward0>)]\n",
      "4.142805332236078\n",
      "tensor(-128.1153, device='cuda:0', grad_fn=<NegBackward0>) [tensor(-34.2900, device='cuda:0', grad_fn=<NegBackward0>), tensor(-9.8599, device='cuda:0', grad_fn=<NegBackward0>), tensor(-83.9654, device='cuda:0', grad_fn=<AddBackward0>)]\n",
      "tensor(-129.9763, device='cuda:0', grad_fn=<NegBackward0>) [tensor(-34.2900, device='cuda:0', grad_fn=<NegBackward0>), tensor(-9.6769, device='cuda:0', grad_fn=<NegBackward0>), tensor(-86.0094, device='cuda:0', grad_fn=<AddBackward0>)]\n",
      "4.1158730643178485\n",
      "tensor(-130.5312, device='cuda:0', grad_fn=<NegBackward0>) [tensor(-34.3545, device='cuda:0', grad_fn=<NegBackward0>), tensor(-9.8058, device='cuda:0', grad_fn=<NegBackward0>), tensor(-86.3709, device='cuda:0', grad_fn=<AddBackward0>)]\n",
      "tensor(-128.9315, device='cuda:0', grad_fn=<NegBackward0>) [tensor(-34.3545, device='cuda:0', grad_fn=<NegBackward0>), tensor(-10.1107, device='cuda:0', grad_fn=<NegBackward0>), tensor(-84.4663, device='cuda:0', grad_fn=<AddBackward0>)]\n",
      "4.347295093769125\n",
      "tensor(-130.4891, device='cuda:0', grad_fn=<NegBackward0>) [tensor(-34.4363, device='cuda:0', grad_fn=<NegBackward0>), tensor(-10.4148, device='cuda:0', grad_fn=<NegBackward0>), tensor(-85.6380, device='cuda:0', grad_fn=<AddBackward0>)]\n",
      "tensor(-125.5741, device='cuda:0', grad_fn=<NegBackward0>) [tensor(-34.4363, device='cuda:0', grad_fn=<NegBackward0>), tensor(-8.2143, device='cuda:0', grad_fn=<NegBackward0>), tensor(-82.9234, device='cuda:0', grad_fn=<AddBackward0>)]\n",
      "5.065142391063814\n",
      "tensor(-128.5475, device='cuda:0', grad_fn=<NegBackward0>) [tensor(-34.4067, device='cuda:0', grad_fn=<NegBackward0>), tensor(-8.3242, device='cuda:0', grad_fn=<NegBackward0>), tensor(-85.8166, device='cuda:0', grad_fn=<AddBackward0>)]\n",
      "tensor(-127.7677, device='cuda:0', grad_fn=<NegBackward0>) [tensor(-34.4067, device='cuda:0', grad_fn=<NegBackward0>), tensor(-8.0472, device='cuda:0', grad_fn=<NegBackward0>), tensor(-85.3138, device='cuda:0', grad_fn=<AddBackward0>)]\n",
      "4.63818792566317\n",
      "tensor(-128.8159, device='cuda:0', grad_fn=<NegBackward0>) [tensor(-34.6247, device='cuda:0', grad_fn=<NegBackward0>), tensor(-9.2806, device='cuda:0', grad_fn=<NegBackward0>), tensor(-84.9106, device='cuda:0', grad_fn=<AddBackward0>)]\n",
      "tensor(-127.4820, device='cuda:0', grad_fn=<NegBackward0>) [tensor(-34.6247, device='cuda:0', grad_fn=<NegBackward0>), tensor(-8.1624, device='cuda:0', grad_fn=<NegBackward0>), tensor(-84.6949, device='cuda:0', grad_fn=<AddBackward0>)]\n",
      "4.3508932912428335\n",
      "tensor(-127.8273, device='cuda:0', grad_fn=<NegBackward0>) [tensor(-34.8467, device='cuda:0', grad_fn=<NegBackward0>), tensor(-9.0149, device='cuda:0', grad_fn=<NegBackward0>), tensor(-83.9657, device='cuda:0', grad_fn=<AddBackward0>)]\n",
      "tensor(-129.2574, device='cuda:0', grad_fn=<NegBackward0>) [tensor(-34.8467, device='cuda:0', grad_fn=<NegBackward0>), tensor(-9.0276, device='cuda:0', grad_fn=<NegBackward0>), tensor(-85.3832, device='cuda:0', grad_fn=<AddBackward0>)]\n",
      "3.864392670636873\n",
      "tensor(-129.2208, device='cuda:0', grad_fn=<NegBackward0>) [tensor(-34.9051, device='cuda:0', grad_fn=<NegBackward0>), tensor(-10.1113, device='cuda:0', grad_fn=<NegBackward0>), tensor(-84.2044, device='cuda:0', grad_fn=<AddBackward0>)]\n",
      "tensor(-130.8446, device='cuda:0', grad_fn=<NegBackward0>) [tensor(-34.9051, device='cuda:0', grad_fn=<NegBackward0>), tensor(-10.5068, device='cuda:0', grad_fn=<NegBackward0>), tensor(-85.4328, device='cuda:0', grad_fn=<AddBackward0>)]\n",
      "4.222188916724334\n",
      "tensor(-130.1665, device='cuda:0', grad_fn=<NegBackward0>) [tensor(-34.6091, device='cuda:0', grad_fn=<NegBackward0>), tensor(-9.7085, device='cuda:0', grad_fn=<NegBackward0>), tensor(-85.8489, device='cuda:0', grad_fn=<AddBackward0>)]\n",
      "tensor(-128.8453, device='cuda:0', grad_fn=<NegBackward0>) [tensor(-34.6091, device='cuda:0', grad_fn=<NegBackward0>), tensor(-8.8472, device='cuda:0', grad_fn=<NegBackward0>), tensor(-85.3890, device='cuda:0', grad_fn=<AddBackward0>)]\n",
      "4.420680566431084\n",
      "tensor(-127.8131, device='cuda:0', grad_fn=<NegBackward0>) [tensor(-34.8327, device='cuda:0', grad_fn=<NegBackward0>), tensor(-8.2947, device='cuda:0', grad_fn=<NegBackward0>), tensor(-84.6857, device='cuda:0', grad_fn=<AddBackward0>)]\n",
      "tensor(-128.2652, device='cuda:0', grad_fn=<NegBackward0>) [tensor(-34.8327, device='cuda:0', grad_fn=<NegBackward0>), tensor(-8.5730, device='cuda:0', grad_fn=<NegBackward0>), tensor(-84.8594, device='cuda:0', grad_fn=<AddBackward0>)]\n",
      "4.008129036921114\n",
      "tensor(-130.2446, device='cuda:0', grad_fn=<NegBackward0>) [tensor(-34.8854, device='cuda:0', grad_fn=<NegBackward0>), tensor(-10.8171, device='cuda:0', grad_fn=<NegBackward0>), tensor(-84.5421, device='cuda:0', grad_fn=<AddBackward0>)]\n",
      "tensor(-129.4726, device='cuda:0', grad_fn=<NegBackward0>) [tensor(-34.8854, device='cuda:0', grad_fn=<NegBackward0>), tensor(-10.5546, device='cuda:0', grad_fn=<NegBackward0>), tensor(-84.0327, device='cuda:0', grad_fn=<AddBackward0>)]\n",
      "4.942262609123969\n",
      "tensor(-130.5168, device='cuda:0', grad_fn=<NegBackward0>) [tensor(-34.7751, device='cuda:0', grad_fn=<NegBackward0>), tensor(-8.7796, device='cuda:0', grad_fn=<NegBackward0>), tensor(-86.9620, device='cuda:0', grad_fn=<AddBackward0>)]\n",
      "tensor(-127.5051, device='cuda:0', grad_fn=<NegBackward0>) [tensor(-34.7751, device='cuda:0', grad_fn=<NegBackward0>), tensor(-7.8936, device='cuda:0', grad_fn=<NegBackward0>), tensor(-84.8363, device='cuda:0', grad_fn=<AddBackward0>)]\n",
      "4.475823104610873\n",
      "tensor(-130.9663, device='cuda:0', grad_fn=<NegBackward0>) [tensor(-34.7183, device='cuda:0', grad_fn=<NegBackward0>), tensor(-9.8741, device='cuda:0', grad_fn=<NegBackward0>), tensor(-86.3740, device='cuda:0', grad_fn=<AddBackward0>)]\n",
      "tensor(-131.1507, device='cuda:0', grad_fn=<NegBackward0>) [tensor(-34.7183, device='cuda:0', grad_fn=<NegBackward0>), tensor(-9.3855, device='cuda:0', grad_fn=<NegBackward0>), tensor(-87.0469, device='cuda:0', grad_fn=<AddBackward0>)]\n",
      "4.28360787636968\n",
      "tensor(-127.6867, device='cuda:0', grad_fn=<NegBackward0>) [tensor(-34.7331, device='cuda:0', grad_fn=<NegBackward0>), tensor(-9.0666, device='cuda:0', grad_fn=<NegBackward0>), tensor(-83.8870, device='cuda:0', grad_fn=<AddBackward0>)]\n",
      "tensor(-126.6799, device='cuda:0', grad_fn=<NegBackward0>) [tensor(-34.7331, device='cuda:0', grad_fn=<NegBackward0>), tensor(-8.3027, device='cuda:0', grad_fn=<NegBackward0>), tensor(-83.6441, device='cuda:0', grad_fn=<AddBackward0>)]\n",
      "4.27856257809553\n",
      "tensor(-127.8501, device='cuda:0', grad_fn=<NegBackward0>) [tensor(-34.7139, device='cuda:0', grad_fn=<NegBackward0>), tensor(-8.8585, device='cuda:0', grad_fn=<NegBackward0>), tensor(-84.2778, device='cuda:0', grad_fn=<AddBackward0>)]\n",
      "tensor(-127.8211, device='cuda:0', grad_fn=<NegBackward0>) [tensor(-34.7139, device='cuda:0', grad_fn=<NegBackward0>), tensor(-8.8547, device='cuda:0', grad_fn=<NegBackward0>), tensor(-84.2525, device='cuda:0', grad_fn=<AddBackward0>)]\n",
      "4.359659642065716\n",
      "tensor(-126.6710, device='cuda:0', grad_fn=<NegBackward0>) [tensor(-34.7376, device='cuda:0', grad_fn=<NegBackward0>), tensor(-8.3148, device='cuda:0', grad_fn=<NegBackward0>), tensor(-83.6186, device='cuda:0', grad_fn=<AddBackward0>)]\n",
      "tensor(-127.6501, device='cuda:0', grad_fn=<NegBackward0>) [tensor(-34.7376, device='cuda:0', grad_fn=<NegBackward0>), tensor(-8.8366, device='cuda:0', grad_fn=<NegBackward0>), tensor(-84.0759, device='cuda:0', grad_fn=<AddBackward0>)]\n",
      "4.552891328280756\n",
      "tensor(-127.1749, device='cuda:0', grad_fn=<NegBackward0>) [tensor(-34.7296, device='cuda:0', grad_fn=<NegBackward0>), tensor(-8.3589, device='cuda:0', grad_fn=<NegBackward0>), tensor(-84.0863, device='cuda:0', grad_fn=<AddBackward0>)]\n",
      "tensor(-126.8764, device='cuda:0', grad_fn=<NegBackward0>) [tensor(-34.7296, device='cuda:0', grad_fn=<NegBackward0>), tensor(-7.7896, device='cuda:0', grad_fn=<NegBackward0>), tensor(-84.3572, device='cuda:0', grad_fn=<AddBackward0>)]\n"
     ]
    },
    {
     "name": "stdout",
     "output_type": "stream",
     "text": [
      "4.76470505005159\n",
      "tensor(-130.6891, device='cuda:0', grad_fn=<NegBackward0>) [tensor(-34.8712, device='cuda:0', grad_fn=<NegBackward0>), tensor(-9.3060, device='cuda:0', grad_fn=<NegBackward0>), tensor(-86.5119, device='cuda:0', grad_fn=<AddBackward0>)]\n",
      "tensor(-134.7720, device='cuda:0', grad_fn=<NegBackward0>) [tensor(-34.8712, device='cuda:0', grad_fn=<NegBackward0>), tensor(-10.7547, device='cuda:0', grad_fn=<NegBackward0>), tensor(-89.1460, device='cuda:0', grad_fn=<AddBackward0>)]\n",
      "4.471985542030579\n",
      "tensor(-129.3946, device='cuda:0', grad_fn=<NegBackward0>) [tensor(-34.8483, device='cuda:0', grad_fn=<NegBackward0>), tensor(-8.9496, device='cuda:0', grad_fn=<NegBackward0>), tensor(-85.5967, device='cuda:0', grad_fn=<AddBackward0>)]\n",
      "tensor(-132.6418, device='cuda:0', grad_fn=<NegBackward0>) [tensor(-34.8483, device='cuda:0', grad_fn=<NegBackward0>), tensor(-10.4329, device='cuda:0', grad_fn=<NegBackward0>), tensor(-87.3607, device='cuda:0', grad_fn=<AddBackward0>)]\n",
      "4.344266804222722\n",
      "tensor(-131.5880, device='cuda:0', grad_fn=<NegBackward0>) [tensor(-34.7906, device='cuda:0', grad_fn=<NegBackward0>), tensor(-9.5792, device='cuda:0', grad_fn=<NegBackward0>), tensor(-87.2182, device='cuda:0', grad_fn=<AddBackward0>)]\n",
      "tensor(-129.6276, device='cuda:0', grad_fn=<NegBackward0>) [tensor(-34.7906, device='cuda:0', grad_fn=<NegBackward0>), tensor(-9.7156, device='cuda:0', grad_fn=<NegBackward0>), tensor(-85.1214, device='cuda:0', grad_fn=<AddBackward0>)]\n",
      "4.292226346711302\n",
      "tensor(-128.6517, device='cuda:0', grad_fn=<NegBackward0>) [tensor(-34.9263, device='cuda:0', grad_fn=<NegBackward0>), tensor(-9.2296, device='cuda:0', grad_fn=<NegBackward0>), tensor(-84.4958, device='cuda:0', grad_fn=<AddBackward0>)]\n",
      "tensor(-129.9850, device='cuda:0', grad_fn=<NegBackward0>) [tensor(-34.9263, device='cuda:0', grad_fn=<NegBackward0>), tensor(-9.9910, device='cuda:0', grad_fn=<NegBackward0>), tensor(-85.0677, device='cuda:0', grad_fn=<AddBackward0>)]\n",
      "4.621118533095283\n",
      "tensor(-130.0488, device='cuda:0', grad_fn=<NegBackward0>) [tensor(-35.0263, device='cuda:0', grad_fn=<NegBackward0>), tensor(-8.9584, device='cuda:0', grad_fn=<NegBackward0>), tensor(-86.0642, device='cuda:0', grad_fn=<AddBackward0>)]\n",
      "tensor(-126.3564, device='cuda:0', grad_fn=<NegBackward0>) [tensor(-35.0263, device='cuda:0', grad_fn=<NegBackward0>), tensor(-7.4584, device='cuda:0', grad_fn=<NegBackward0>), tensor(-83.8717, device='cuda:0', grad_fn=<AddBackward0>)]\n",
      "4.5633533038826775\n",
      "tensor(-127.9957, device='cuda:0', grad_fn=<NegBackward0>) [tensor(-35.1119, device='cuda:0', grad_fn=<NegBackward0>), tensor(-8.1600, device='cuda:0', grad_fn=<NegBackward0>), tensor(-84.7237, device='cuda:0', grad_fn=<AddBackward0>)]\n",
      "tensor(-124.3913, device='cuda:0', grad_fn=<NegBackward0>) [tensor(-35.1119, device='cuda:0', grad_fn=<NegBackward0>), tensor(-6.2516, device='cuda:0', grad_fn=<NegBackward0>), tensor(-83.0277, device='cuda:0', grad_fn=<AddBackward0>)]\n",
      "3.830022115457712\n",
      "tensor(-130.4577, device='cuda:0', grad_fn=<NegBackward0>) [tensor(-35.4609, device='cuda:0', grad_fn=<NegBackward0>), tensor(-10.3330, device='cuda:0', grad_fn=<NegBackward0>), tensor(-84.6639, device='cuda:0', grad_fn=<AddBackward0>)]\n",
      "tensor(-129.7793, device='cuda:0', grad_fn=<NegBackward0>) [tensor(-35.4609, device='cuda:0', grad_fn=<NegBackward0>), tensor(-11.1114, device='cuda:0', grad_fn=<NegBackward0>), tensor(-83.2070, device='cuda:0', grad_fn=<AddBackward0>)]\n",
      "4.39870127422835\n",
      "tensor(-128.7193, device='cuda:0', grad_fn=<NegBackward0>) [tensor(-35.1705, device='cuda:0', grad_fn=<NegBackward0>), tensor(-8.5738, device='cuda:0', grad_fn=<NegBackward0>), tensor(-84.9750, device='cuda:0', grad_fn=<AddBackward0>)]\n",
      "tensor(-129.8777, device='cuda:0', grad_fn=<NegBackward0>) [tensor(-35.1705, device='cuda:0', grad_fn=<NegBackward0>), tensor(-9.2637, device='cuda:0', grad_fn=<NegBackward0>), tensor(-85.4435, device='cuda:0', grad_fn=<AddBackward0>)]\n",
      "4.229703417923033\n",
      "tensor(-134.2721, device='cuda:0', grad_fn=<NegBackward0>) [tensor(-35.2502, device='cuda:0', grad_fn=<NegBackward0>), tensor(-11.0532, device='cuda:0', grad_fn=<NegBackward0>), tensor(-87.9688, device='cuda:0', grad_fn=<AddBackward0>)]\n",
      "tensor(-130.7949, device='cuda:0', grad_fn=<NegBackward0>) [tensor(-35.2502, device='cuda:0', grad_fn=<NegBackward0>), tensor(-10.0419, device='cuda:0', grad_fn=<NegBackward0>), tensor(-85.5029, device='cuda:0', grad_fn=<AddBackward0>)]\n",
      "4.133309245831976\n",
      "tensor(-132.7218, device='cuda:0', grad_fn=<NegBackward0>) [tensor(-35.2220, device='cuda:0', grad_fn=<NegBackward0>), tensor(-11.3066, device='cuda:0', grad_fn=<NegBackward0>), tensor(-86.1932, device='cuda:0', grad_fn=<AddBackward0>)]\n",
      "tensor(-130.7990, device='cuda:0', grad_fn=<NegBackward0>) [tensor(-35.2220, device='cuda:0', grad_fn=<NegBackward0>), tensor(-10.4245, device='cuda:0', grad_fn=<NegBackward0>), tensor(-85.1525, device='cuda:0', grad_fn=<AddBackward0>)]\n",
      "3.93542456092015\n",
      "tensor(-130.0246, device='cuda:0', grad_fn=<NegBackward0>) [tensor(-35.2065, device='cuda:0', grad_fn=<NegBackward0>), tensor(-10.8428, device='cuda:0', grad_fn=<NegBackward0>), tensor(-83.9753, device='cuda:0', grad_fn=<AddBackward0>)]\n",
      "tensor(-132.4302, device='cuda:0', grad_fn=<NegBackward0>) [tensor(-35.2065, device='cuda:0', grad_fn=<NegBackward0>), tensor(-11.0500, device='cuda:0', grad_fn=<NegBackward0>), tensor(-86.1737, device='cuda:0', grad_fn=<AddBackward0>)]\n",
      "4.010397028073911\n",
      "tensor(-131.7667, device='cuda:0', grad_fn=<NegBackward0>) [tensor(-35.2966, device='cuda:0', grad_fn=<NegBackward0>), tensor(-11.4629, device='cuda:0', grad_fn=<NegBackward0>), tensor(-85.0071, device='cuda:0', grad_fn=<AddBackward0>)]\n",
      "tensor(-129.1490, device='cuda:0', grad_fn=<NegBackward0>) [tensor(-35.2966, device='cuda:0', grad_fn=<NegBackward0>), tensor(-10.4256, device='cuda:0', grad_fn=<NegBackward0>), tensor(-83.4268, device='cuda:0', grad_fn=<AddBackward0>)]\n",
      "4.681600574748208\n",
      "tensor(-129.4411, device='cuda:0', grad_fn=<NegBackward0>) [tensor(-35.2639, device='cuda:0', grad_fn=<NegBackward0>), tensor(-8.6724, device='cuda:0', grad_fn=<NegBackward0>), tensor(-85.5048, device='cuda:0', grad_fn=<AddBackward0>)]\n",
      "tensor(-129.8621, device='cuda:0', grad_fn=<NegBackward0>) [tensor(-35.2639, device='cuda:0', grad_fn=<NegBackward0>), tensor(-8.4942, device='cuda:0', grad_fn=<NegBackward0>), tensor(-86.1040, device='cuda:0', grad_fn=<AddBackward0>)]\n",
      "4.699459573676497\n",
      "tensor(-131.2977, device='cuda:0', grad_fn=<NegBackward0>) [tensor(-35.4223, device='cuda:0', grad_fn=<NegBackward0>), tensor(-9.2805, device='cuda:0', grad_fn=<NegBackward0>), tensor(-86.5949, device='cuda:0', grad_fn=<AddBackward0>)]\n",
      "tensor(-131.6479, device='cuda:0', grad_fn=<NegBackward0>) [tensor(-35.4223, device='cuda:0', grad_fn=<NegBackward0>), tensor(-8.8602, device='cuda:0', grad_fn=<NegBackward0>), tensor(-87.3655, device='cuda:0', grad_fn=<AddBackward0>)]\n",
      "4.718534782280723\n",
      "tensor(-133.4418, device='cuda:0', grad_fn=<NegBackward0>) [tensor(-35.7138, device='cuda:0', grad_fn=<NegBackward0>), tensor(-9.9639, device='cuda:0', grad_fn=<NegBackward0>), tensor(-87.7641, device='cuda:0', grad_fn=<AddBackward0>)]\n",
      "tensor(-130.6069, device='cuda:0', grad_fn=<NegBackward0>) [tensor(-35.7138, device='cuda:0', grad_fn=<NegBackward0>), tensor(-8.6404, device='cuda:0', grad_fn=<NegBackward0>), tensor(-86.2527, device='cuda:0', grad_fn=<AddBackward0>)]\n",
      "4.212492815060173\n",
      "tensor(-128.3960, device='cuda:0', grad_fn=<NegBackward0>) [tensor(-35.8226, device='cuda:0', grad_fn=<NegBackward0>), tensor(-8.1739, device='cuda:0', grad_fn=<NegBackward0>), tensor(-84.3995, device='cuda:0', grad_fn=<AddBackward0>)]\n",
      "tensor(-127.7216, device='cuda:0', grad_fn=<NegBackward0>) [tensor(-35.8226, device='cuda:0', grad_fn=<NegBackward0>), tensor(-8.3415, device='cuda:0', grad_fn=<NegBackward0>), tensor(-83.5576, device='cuda:0', grad_fn=<AddBackward0>)]\n",
      "3.987817808988434\n",
      "tensor(-127.2273, device='cuda:0', grad_fn=<NegBackward0>) [tensor(-35.8242, device='cuda:0', grad_fn=<NegBackward0>), tensor(-8.8903, device='cuda:0', grad_fn=<NegBackward0>), tensor(-82.5127, device='cuda:0', grad_fn=<AddBackward0>)]\n",
      "tensor(-131.2064, device='cuda:0', grad_fn=<NegBackward0>) [tensor(-35.8242, device='cuda:0', grad_fn=<NegBackward0>), tensor(-10.8935, device='cuda:0', grad_fn=<NegBackward0>), tensor(-84.4886, device='cuda:0', grad_fn=<AddBackward0>)]\n"
     ]
    },
    {
     "name": "stdout",
     "output_type": "stream",
     "text": [
      "4.716383231068564\n",
      "tensor(-131.7370, device='cuda:0', grad_fn=<NegBackward0>) [tensor(-35.6398, device='cuda:0', grad_fn=<NegBackward0>), tensor(-9.1596, device='cuda:0', grad_fn=<NegBackward0>), tensor(-86.9376, device='cuda:0', grad_fn=<AddBackward0>)]\n",
      "tensor(-131.1057, device='cuda:0', grad_fn=<NegBackward0>) [tensor(-35.6398, device='cuda:0', grad_fn=<NegBackward0>), tensor(-8.8149, device='cuda:0', grad_fn=<NegBackward0>), tensor(-86.6510, device='cuda:0', grad_fn=<AddBackward0>)]\n",
      "4.31999641186986\n",
      "tensor(-133.8297, device='cuda:0', grad_fn=<NegBackward0>) [tensor(-35.7593, device='cuda:0', grad_fn=<NegBackward0>), tensor(-10.3262, device='cuda:0', grad_fn=<NegBackward0>), tensor(-87.7442, device='cuda:0', grad_fn=<AddBackward0>)]\n",
      "tensor(-134.7536, device='cuda:0', grad_fn=<NegBackward0>) [tensor(-35.7593, device='cuda:0', grad_fn=<NegBackward0>), tensor(-10.8899, device='cuda:0', grad_fn=<NegBackward0>), tensor(-88.1044, device='cuda:0', grad_fn=<AddBackward0>)]\n",
      "4.650661912165719\n",
      "tensor(-131.1564, device='cuda:0', grad_fn=<NegBackward0>) [tensor(-35.8244, device='cuda:0', grad_fn=<NegBackward0>), tensor(-9.1480, device='cuda:0', grad_fn=<NegBackward0>), tensor(-86.1839, device='cuda:0', grad_fn=<AddBackward0>)]\n",
      "tensor(-127.0467, device='cuda:0', grad_fn=<NegBackward0>) [tensor(-35.8244, device='cuda:0', grad_fn=<NegBackward0>), tensor(-7.2754, device='cuda:0', grad_fn=<NegBackward0>), tensor(-83.9469, device='cuda:0', grad_fn=<AddBackward0>)]\n",
      "4.4616553683701\n",
      "tensor(-133.7925, device='cuda:0', grad_fn=<NegBackward0>) [tensor(-35.9259, device='cuda:0', grad_fn=<NegBackward0>), tensor(-10.3529, device='cuda:0', grad_fn=<NegBackward0>), tensor(-87.5137, device='cuda:0', grad_fn=<AddBackward0>)]\n",
      "tensor(-132.2457, device='cuda:0', grad_fn=<NegBackward0>) [tensor(-35.9259, device='cuda:0', grad_fn=<NegBackward0>), tensor(-9.2974, device='cuda:0', grad_fn=<NegBackward0>), tensor(-87.0223, device='cuda:0', grad_fn=<AddBackward0>)]\n",
      "4.408066464332127\n",
      "tensor(-132.9243, device='cuda:0', grad_fn=<NegBackward0>) [tensor(-35.9773, device='cuda:0', grad_fn=<NegBackward0>), tensor(-9.6397, device='cuda:0', grad_fn=<NegBackward0>), tensor(-87.3072, device='cuda:0', grad_fn=<AddBackward0>)]\n",
      "tensor(-131.4497, device='cuda:0', grad_fn=<NegBackward0>) [tensor(-35.9773, device='cuda:0', grad_fn=<NegBackward0>), tensor(-9.0959, device='cuda:0', grad_fn=<NegBackward0>), tensor(-86.3765, device='cuda:0', grad_fn=<AddBackward0>)]\n",
      "4.243967941737561\n",
      "tensor(-130.7021, device='cuda:0', grad_fn=<NegBackward0>) [tensor(-35.9380, device='cuda:0', grad_fn=<NegBackward0>), tensor(-8.9235, device='cuda:0', grad_fn=<NegBackward0>), tensor(-85.8406, device='cuda:0', grad_fn=<AddBackward0>)]\n",
      "tensor(-131.9975, device='cuda:0', grad_fn=<NegBackward0>) [tensor(-35.9380, device='cuda:0', grad_fn=<NegBackward0>), tensor(-9.3274, device='cuda:0', grad_fn=<NegBackward0>), tensor(-86.7321, device='cuda:0', grad_fn=<AddBackward0>)]\n",
      "4.1544615434729035\n",
      "tensor(-128.3772, device='cuda:0', grad_fn=<NegBackward0>) [tensor(-35.9883, device='cuda:0', grad_fn=<NegBackward0>), tensor(-8.7146, device='cuda:0', grad_fn=<NegBackward0>), tensor(-83.6743, device='cuda:0', grad_fn=<AddBackward0>)]\n",
      "tensor(-134.2953, device='cuda:0', grad_fn=<NegBackward0>) [tensor(-35.9883, device='cuda:0', grad_fn=<NegBackward0>), tensor(-11.2798, device='cuda:0', grad_fn=<NegBackward0>), tensor(-87.0272, device='cuda:0', grad_fn=<AddBackward0>)]\n",
      "4.21649263723365\n",
      "tensor(-132.3044, device='cuda:0', grad_fn=<NegBackward0>) [tensor(-35.8419, device='cuda:0', grad_fn=<NegBackward0>), tensor(-10.4605, device='cuda:0', grad_fn=<NegBackward0>), tensor(-86.0021, device='cuda:0', grad_fn=<AddBackward0>)]\n",
      "tensor(-135.0352, device='cuda:0', grad_fn=<NegBackward0>) [tensor(-35.8419, device='cuda:0', grad_fn=<NegBackward0>), tensor(-12.1434, device='cuda:0', grad_fn=<NegBackward0>), tensor(-87.0499, device='cuda:0', grad_fn=<AddBackward0>)]\n",
      "4.49650296064279\n",
      "tensor(-132.2623, device='cuda:0', grad_fn=<NegBackward0>) [tensor(-35.6999, device='cuda:0', grad_fn=<NegBackward0>), tensor(-9.1914, device='cuda:0', grad_fn=<NegBackward0>), tensor(-87.3710, device='cuda:0', grad_fn=<AddBackward0>)]\n",
      "tensor(-134.6970, device='cuda:0', grad_fn=<NegBackward0>) [tensor(-35.6999, device='cuda:0', grad_fn=<NegBackward0>), tensor(-10.8231, device='cuda:0', grad_fn=<NegBackward0>), tensor(-88.1740, device='cuda:0', grad_fn=<AddBackward0>)]\n",
      "4.458111188907106\n",
      "tensor(-131.3263, device='cuda:0', grad_fn=<NegBackward0>) [tensor(-35.6321, device='cuda:0', grad_fn=<NegBackward0>), tensor(-9.4520, device='cuda:0', grad_fn=<NegBackward0>), tensor(-86.2422, device='cuda:0', grad_fn=<AddBackward0>)]\n",
      "tensor(-128.6377, device='cuda:0', grad_fn=<NegBackward0>) [tensor(-35.6321, device='cuda:0', grad_fn=<NegBackward0>), tensor(-8.5180, device='cuda:0', grad_fn=<NegBackward0>), tensor(-84.4876, device='cuda:0', grad_fn=<AddBackward0>)]\n",
      "4.403381849927375\n",
      "tensor(-128.0386, device='cuda:0', grad_fn=<NegBackward0>) [tensor(-35.7085, device='cuda:0', grad_fn=<NegBackward0>), tensor(-7.8781, device='cuda:0', grad_fn=<NegBackward0>), tensor(-84.4520, device='cuda:0', grad_fn=<AddBackward0>)]\n",
      "tensor(-133.9603, device='cuda:0', grad_fn=<NegBackward0>) [tensor(-35.7085, device='cuda:0', grad_fn=<NegBackward0>), tensor(-9.9896, device='cuda:0', grad_fn=<NegBackward0>), tensor(-88.2622, device='cuda:0', grad_fn=<AddBackward0>)]\n",
      "4.315973206593515\n",
      "tensor(-135.0266, device='cuda:0', grad_fn=<NegBackward0>) [tensor(-35.9344, device='cuda:0', grad_fn=<NegBackward0>), tensor(-11.2738, device='cuda:0', grad_fn=<NegBackward0>), tensor(-87.8184, device='cuda:0', grad_fn=<AddBackward0>)]\n",
      "tensor(-132.5701, device='cuda:0', grad_fn=<NegBackward0>) [tensor(-35.9344, device='cuda:0', grad_fn=<NegBackward0>), tensor(-9.5051, device='cuda:0', grad_fn=<NegBackward0>), tensor(-87.1306, device='cuda:0', grad_fn=<AddBackward0>)]\n",
      "4.419092179875095\n",
      "tensor(-129.9760, device='cuda:0', grad_fn=<NegBackward0>) [tensor(-36.0320, device='cuda:0', grad_fn=<NegBackward0>), tensor(-8.5537, device='cuda:0', grad_fn=<NegBackward0>), tensor(-85.3903, device='cuda:0', grad_fn=<AddBackward0>)]\n",
      "tensor(-131.4461, device='cuda:0', grad_fn=<NegBackward0>) [tensor(-36.0320, device='cuda:0', grad_fn=<NegBackward0>), tensor(-9.1400, device='cuda:0', grad_fn=<NegBackward0>), tensor(-86.2742, device='cuda:0', grad_fn=<AddBackward0>)]\n",
      "4.509589878235073\n",
      "tensor(-134.6938, device='cuda:0', grad_fn=<NegBackward0>) [tensor(-36.1808, device='cuda:0', grad_fn=<NegBackward0>), tensor(-10.2426, device='cuda:0', grad_fn=<NegBackward0>), tensor(-88.2704, device='cuda:0', grad_fn=<AddBackward0>)]\n",
      "tensor(-132.4879, device='cuda:0', grad_fn=<NegBackward0>) [tensor(-36.1808, device='cuda:0', grad_fn=<NegBackward0>), tensor(-9.5302, device='cuda:0', grad_fn=<NegBackward0>), tensor(-86.7770, device='cuda:0', grad_fn=<AddBackward0>)]\n",
      "4.402729644293922\n",
      "tensor(-129.5172, device='cuda:0', grad_fn=<NegBackward0>) [tensor(-36.2161, device='cuda:0', grad_fn=<NegBackward0>), tensor(-8.0019, device='cuda:0', grad_fn=<NegBackward0>), tensor(-85.2992, device='cuda:0', grad_fn=<AddBackward0>)]\n",
      "tensor(-132.5887, device='cuda:0', grad_fn=<NegBackward0>) [tensor(-36.2161, device='cuda:0', grad_fn=<NegBackward0>), tensor(-9.2335, device='cuda:0', grad_fn=<NegBackward0>), tensor(-87.1392, device='cuda:0', grad_fn=<AddBackward0>)]\n",
      "4.412892994249175\n",
      "tensor(-132.2713, device='cuda:0', grad_fn=<NegBackward0>) [tensor(-36.3461, device='cuda:0', grad_fn=<NegBackward0>), tensor(-9.8016, device='cuda:0', grad_fn=<NegBackward0>), tensor(-86.1236, device='cuda:0', grad_fn=<AddBackward0>)]\n",
      "tensor(-134.0621, device='cuda:0', grad_fn=<NegBackward0>) [tensor(-36.3461, device='cuda:0', grad_fn=<NegBackward0>), tensor(-10.0664, device='cuda:0', grad_fn=<NegBackward0>), tensor(-87.6496, device='cuda:0', grad_fn=<AddBackward0>)]\n",
      "4.476612717320208\n",
      "tensor(-131.2875, device='cuda:0', grad_fn=<NegBackward0>) [tensor(-36.4155, device='cuda:0', grad_fn=<NegBackward0>), tensor(-8.4110, device='cuda:0', grad_fn=<NegBackward0>), tensor(-86.4610, device='cuda:0', grad_fn=<AddBackward0>)]\n",
      "tensor(-133.6716, device='cuda:0', grad_fn=<NegBackward0>) [tensor(-36.4155, device='cuda:0', grad_fn=<NegBackward0>), tensor(-9.9592, device='cuda:0', grad_fn=<NegBackward0>), tensor(-87.2969, device='cuda:0', grad_fn=<AddBackward0>)]\n"
     ]
    },
    {
     "name": "stdout",
     "output_type": "stream",
     "text": [
      "4.509994661537919\n",
      "tensor(-133.0448, device='cuda:0', grad_fn=<NegBackward0>) [tensor(-36.3698, device='cuda:0', grad_fn=<NegBackward0>), tensor(-9.4580, device='cuda:0', grad_fn=<NegBackward0>), tensor(-87.2170, device='cuda:0', grad_fn=<AddBackward0>)]\n",
      "tensor(-130.7882, device='cuda:0', grad_fn=<NegBackward0>) [tensor(-36.3698, device='cuda:0', grad_fn=<NegBackward0>), tensor(-8.2847, device='cuda:0', grad_fn=<NegBackward0>), tensor(-86.1337, device='cuda:0', grad_fn=<AddBackward0>)]\n",
      "4.746286535962879\n",
      "tensor(-137.8825, device='cuda:0', grad_fn=<NegBackward0>) [tensor(-36.3927, device='cuda:0', grad_fn=<NegBackward0>), tensor(-10.8361, device='cuda:0', grad_fn=<NegBackward0>), tensor(-90.6537, device='cuda:0', grad_fn=<AddBackward0>)]\n",
      "tensor(-131.5500, device='cuda:0', grad_fn=<NegBackward0>) [tensor(-36.3927, device='cuda:0', grad_fn=<NegBackward0>), tensor(-8.8239, device='cuda:0', grad_fn=<NegBackward0>), tensor(-86.3334, device='cuda:0', grad_fn=<AddBackward0>)]\n",
      "4.289833544822847\n",
      "tensor(-133.8179, device='cuda:0', grad_fn=<NegBackward0>) [tensor(-36.4103, device='cuda:0', grad_fn=<NegBackward0>), tensor(-10.4390, device='cuda:0', grad_fn=<NegBackward0>), tensor(-86.9686, device='cuda:0', grad_fn=<AddBackward0>)]\n",
      "tensor(-132.0048, device='cuda:0', grad_fn=<NegBackward0>) [tensor(-36.4103, device='cuda:0', grad_fn=<NegBackward0>), tensor(-9.3592, device='cuda:0', grad_fn=<NegBackward0>), tensor(-86.2353, device='cuda:0', grad_fn=<AddBackward0>)]\n",
      "4.076644120591492\n",
      "tensor(-132.3605, device='cuda:0', grad_fn=<NegBackward0>) [tensor(-36.2218, device='cuda:0', grad_fn=<NegBackward0>), tensor(-9.8598, device='cuda:0', grad_fn=<NegBackward0>), tensor(-86.2790, device='cuda:0', grad_fn=<AddBackward0>)]\n",
      "tensor(-128.2541, device='cuda:0', grad_fn=<NegBackward0>) [tensor(-36.2218, device='cuda:0', grad_fn=<NegBackward0>), tensor(-8.4089, device='cuda:0', grad_fn=<NegBackward0>), tensor(-83.6234, device='cuda:0', grad_fn=<AddBackward0>)]\n",
      "3.8778856776241946\n",
      "tensor(-132.6195, device='cuda:0', grad_fn=<NegBackward0>) [tensor(-36.1036, device='cuda:0', grad_fn=<NegBackward0>), tensor(-10.9330, device='cuda:0', grad_fn=<NegBackward0>), tensor(-85.5829, device='cuda:0', grad_fn=<AddBackward0>)]\n",
      "tensor(-128.7299, device='cuda:0', grad_fn=<NegBackward0>) [tensor(-36.1036, device='cuda:0', grad_fn=<NegBackward0>), tensor(-10.1494, device='cuda:0', grad_fn=<NegBackward0>), tensor(-82.4770, device='cuda:0', grad_fn=<AddBackward0>)]\n",
      "4.360906577037227\n",
      "tensor(-130.9871, device='cuda:0', grad_fn=<NegBackward0>) [tensor(-35.9011, device='cuda:0', grad_fn=<NegBackward0>), tensor(-8.9373, device='cuda:0', grad_fn=<NegBackward0>), tensor(-86.1487, device='cuda:0', grad_fn=<AddBackward0>)]\n",
      "tensor(-136.1658, device='cuda:0', grad_fn=<NegBackward0>) [tensor(-35.9011, device='cuda:0', grad_fn=<NegBackward0>), tensor(-11.2506, device='cuda:0', grad_fn=<NegBackward0>), tensor(-89.0140, device='cuda:0', grad_fn=<AddBackward0>)]\n",
      "4.967671668613535\n",
      "tensor(-128.1231, device='cuda:0', grad_fn=<NegBackward0>) [tensor(-35.8750, device='cuda:0', grad_fn=<NegBackward0>), tensor(-7.3291, device='cuda:0', grad_fn=<NegBackward0>), tensor(-84.9191, device='cuda:0', grad_fn=<AddBackward0>)]\n",
      "tensor(-131.8452, device='cuda:0', grad_fn=<NegBackward0>) [tensor(-35.8750, device='cuda:0', grad_fn=<NegBackward0>), tensor(-8.5745, device='cuda:0', grad_fn=<NegBackward0>), tensor(-87.3957, device='cuda:0', grad_fn=<AddBackward0>)]\n",
      "4.845050057412248\n",
      "tensor(-131.3214, device='cuda:0', grad_fn=<NegBackward0>) [tensor(-36.2626, device='cuda:0', grad_fn=<NegBackward0>), tensor(-8.5894, device='cuda:0', grad_fn=<NegBackward0>), tensor(-86.4695, device='cuda:0', grad_fn=<AddBackward0>)]\n",
      "tensor(-134.1391, device='cuda:0', grad_fn=<NegBackward0>) [tensor(-36.2626, device='cuda:0', grad_fn=<NegBackward0>), tensor(-9.6051, device='cuda:0', grad_fn=<NegBackward0>), tensor(-88.2714, device='cuda:0', grad_fn=<AddBackward0>)]\n",
      "4.402185844852901\n",
      "tensor(-137.1436, device='cuda:0', grad_fn=<NegBackward0>) [tensor(-36.4852, device='cuda:0', grad_fn=<NegBackward0>), tensor(-10.4721, device='cuda:0', grad_fn=<NegBackward0>), tensor(-90.1863, device='cuda:0', grad_fn=<AddBackward0>)]\n",
      "tensor(-132.3062, device='cuda:0', grad_fn=<NegBackward0>) [tensor(-36.4852, device='cuda:0', grad_fn=<NegBackward0>), tensor(-9.4674, device='cuda:0', grad_fn=<NegBackward0>), tensor(-86.3536, device='cuda:0', grad_fn=<AddBackward0>)]\n",
      "4.025998344187978\n",
      "tensor(-133.7831, device='cuda:0', grad_fn=<NegBackward0>) [tensor(-36.4148, device='cuda:0', grad_fn=<NegBackward0>), tensor(-10.3530, device='cuda:0', grad_fn=<NegBackward0>), tensor(-87.0152, device='cuda:0', grad_fn=<AddBackward0>)]\n",
      "tensor(-131.6217, device='cuda:0', grad_fn=<NegBackward0>) [tensor(-36.4148, device='cuda:0', grad_fn=<NegBackward0>), tensor(-9.7932, device='cuda:0', grad_fn=<NegBackward0>), tensor(-85.4137, device='cuda:0', grad_fn=<AddBackward0>)]\n",
      "4.37043590142159\n",
      "tensor(-130.2833, device='cuda:0', grad_fn=<NegBackward0>) [tensor(-36.3028, device='cuda:0', grad_fn=<NegBackward0>), tensor(-8.6210, device='cuda:0', grad_fn=<NegBackward0>), tensor(-85.3595, device='cuda:0', grad_fn=<AddBackward0>)]\n",
      "tensor(-132.0703, device='cuda:0', grad_fn=<NegBackward0>) [tensor(-36.3028, device='cuda:0', grad_fn=<NegBackward0>), tensor(-10.0989, device='cuda:0', grad_fn=<NegBackward0>), tensor(-85.6686, device='cuda:0', grad_fn=<AddBackward0>)]\n",
      "4.074172076051213\n",
      "tensor(-131.0240, device='cuda:0', grad_fn=<NegBackward0>) [tensor(-36.2325, device='cuda:0', grad_fn=<NegBackward0>), tensor(-9.4213, device='cuda:0', grad_fn=<NegBackward0>), tensor(-85.3701, device='cuda:0', grad_fn=<AddBackward0>)]\n",
      "tensor(-134.6307, device='cuda:0', grad_fn=<NegBackward0>) [tensor(-36.2325, device='cuda:0', grad_fn=<NegBackward0>), tensor(-11.0624, device='cuda:0', grad_fn=<NegBackward0>), tensor(-87.3358, device='cuda:0', grad_fn=<AddBackward0>)]\n",
      "4.412695601723903\n",
      "tensor(-133.9589, device='cuda:0', grad_fn=<NegBackward0>) [tensor(-36.2171, device='cuda:0', grad_fn=<NegBackward0>), tensor(-10.0872, device='cuda:0', grad_fn=<NegBackward0>), tensor(-87.6546, device='cuda:0', grad_fn=<AddBackward0>)]\n",
      "tensor(-130.0176, device='cuda:0', grad_fn=<NegBackward0>) [tensor(-36.2171, device='cuda:0', grad_fn=<NegBackward0>), tensor(-8.7171, device='cuda:0', grad_fn=<NegBackward0>), tensor(-85.0834, device='cuda:0', grad_fn=<AddBackward0>)]\n",
      "3.953401120805976\n",
      "tensor(-131.6697, device='cuda:0', grad_fn=<NegBackward0>) [tensor(-36.2989, device='cuda:0', grad_fn=<NegBackward0>), tensor(-11.3313, device='cuda:0', grad_fn=<NegBackward0>), tensor(-84.0394, device='cuda:0', grad_fn=<AddBackward0>)]\n",
      "tensor(-131.9975, device='cuda:0', grad_fn=<NegBackward0>) [tensor(-36.2989, device='cuda:0', grad_fn=<NegBackward0>), tensor(-10.1835, device='cuda:0', grad_fn=<NegBackward0>), tensor(-85.5151, device='cuda:0', grad_fn=<AddBackward0>)]\n",
      "4.541688846495791\n",
      "tensor(-129.1118, device='cuda:0', grad_fn=<NegBackward0>) [tensor(-36.4225, device='cuda:0', grad_fn=<NegBackward0>), tensor(-8.0725, device='cuda:0', grad_fn=<NegBackward0>), tensor(-84.6168, device='cuda:0', grad_fn=<AddBackward0>)]\n",
      "tensor(-131.1750, device='cuda:0', grad_fn=<NegBackward0>) [tensor(-36.4225, device='cuda:0', grad_fn=<NegBackward0>), tensor(-8.5149, device='cuda:0', grad_fn=<NegBackward0>), tensor(-86.2376, device='cuda:0', grad_fn=<AddBackward0>)]\n",
      "4.525132346006613\n",
      "tensor(-135.3083, device='cuda:0', grad_fn=<NegBackward0>) [tensor(-36.5761, device='cuda:0', grad_fn=<NegBackward0>), tensor(-9.8702, device='cuda:0', grad_fn=<NegBackward0>), tensor(-88.8620, device='cuda:0', grad_fn=<AddBackward0>)]\n",
      "tensor(-130.7911, device='cuda:0', grad_fn=<NegBackward0>) [tensor(-36.5761, device='cuda:0', grad_fn=<NegBackward0>), tensor(-8.1371, device='cuda:0', grad_fn=<NegBackward0>), tensor(-86.0779, device='cuda:0', grad_fn=<AddBackward0>)]\n",
      "4.358978802978655\n",
      "tensor(-132.4660, device='cuda:0', grad_fn=<NegBackward0>) [tensor(-36.8103, device='cuda:0', grad_fn=<NegBackward0>), tensor(-9.3592, device='cuda:0', grad_fn=<NegBackward0>), tensor(-86.2965, device='cuda:0', grad_fn=<AddBackward0>)]\n",
      "tensor(-135.6496, device='cuda:0', grad_fn=<NegBackward0>) [tensor(-36.8103, device='cuda:0', grad_fn=<NegBackward0>), tensor(-10.8936, device='cuda:0', grad_fn=<NegBackward0>), tensor(-87.9458, device='cuda:0', grad_fn=<AddBackward0>)]\n"
     ]
    },
    {
     "name": "stdout",
     "output_type": "stream",
     "text": [
      "4.180749249614626\n",
      "tensor(-134.9494, device='cuda:0', grad_fn=<NegBackward0>) [tensor(-36.6211, device='cuda:0', grad_fn=<NegBackward0>), tensor(-10.2780, device='cuda:0', grad_fn=<NegBackward0>), tensor(-88.0503, device='cuda:0', grad_fn=<AddBackward0>)]\n",
      "tensor(-136.1724, device='cuda:0', grad_fn=<NegBackward0>) [tensor(-36.6211, device='cuda:0', grad_fn=<NegBackward0>), tensor(-11.6615, device='cuda:0', grad_fn=<NegBackward0>), tensor(-87.8897, device='cuda:0', grad_fn=<AddBackward0>)]\n",
      "4.762397964473524\n",
      "tensor(-131.6389, device='cuda:0', grad_fn=<NegBackward0>) [tensor(-36.3148, device='cuda:0', grad_fn=<NegBackward0>), tensor(-8.5909, device='cuda:0', grad_fn=<NegBackward0>), tensor(-86.7332, device='cuda:0', grad_fn=<AddBackward0>)]\n",
      "tensor(-130.9671, device='cuda:0', grad_fn=<NegBackward0>) [tensor(-36.3148, device='cuda:0', grad_fn=<NegBackward0>), tensor(-8.7673, device='cuda:0', grad_fn=<NegBackward0>), tensor(-85.8850, device='cuda:0', grad_fn=<AddBackward0>)]\n",
      "4.706654908786873\n",
      "tensor(-133.7597, device='cuda:0', grad_fn=<NegBackward0>) [tensor(-36.3606, device='cuda:0', grad_fn=<NegBackward0>), tensor(-9.3522, device='cuda:0', grad_fn=<NegBackward0>), tensor(-88.0469, device='cuda:0', grad_fn=<AddBackward0>)]\n",
      "tensor(-129.6299, device='cuda:0', grad_fn=<NegBackward0>) [tensor(-36.3606, device='cuda:0', grad_fn=<NegBackward0>), tensor(-7.9012, device='cuda:0', grad_fn=<NegBackward0>), tensor(-85.3682, device='cuda:0', grad_fn=<AddBackward0>)]\n",
      "4.369754363154384\n",
      "tensor(-130.6666, device='cuda:0', grad_fn=<NegBackward0>) [tensor(-36.6945, device='cuda:0', grad_fn=<NegBackward0>), tensor(-8.5513, device='cuda:0', grad_fn=<NegBackward0>), tensor(-85.4208, device='cuda:0', grad_fn=<AddBackward0>)]\n",
      "tensor(-132.8117, device='cuda:0', grad_fn=<NegBackward0>) [tensor(-36.6945, device='cuda:0', grad_fn=<NegBackward0>), tensor(-9.4002, device='cuda:0', grad_fn=<NegBackward0>), tensor(-86.7171, device='cuda:0', grad_fn=<AddBackward0>)]\n",
      "4.677705391425195\n",
      "tensor(-132.8128, device='cuda:0', grad_fn=<NegBackward0>) [tensor(-36.7713, device='cuda:0', grad_fn=<NegBackward0>), tensor(-8.4527, device='cuda:0', grad_fn=<NegBackward0>), tensor(-87.5888, device='cuda:0', grad_fn=<AddBackward0>)]\n",
      "tensor(-131.2610, device='cuda:0', grad_fn=<NegBackward0>) [tensor(-36.7713, device='cuda:0', grad_fn=<NegBackward0>), tensor(-8.0932, device='cuda:0', grad_fn=<NegBackward0>), tensor(-86.3965, device='cuda:0', grad_fn=<AddBackward0>)]\n",
      "4.742819217559703\n",
      "tensor(-133.6232, device='cuda:0', grad_fn=<NegBackward0>) [tensor(-36.9195, device='cuda:0', grad_fn=<NegBackward0>), tensor(-9.0932, device='cuda:0', grad_fn=<NegBackward0>), tensor(-87.6105, device='cuda:0', grad_fn=<AddBackward0>)]\n",
      "tensor(-137.2538, device='cuda:0', grad_fn=<NegBackward0>) [tensor(-36.9195, device='cuda:0', grad_fn=<NegBackward0>), tensor(-10.5607, device='cuda:0', grad_fn=<NegBackward0>), tensor(-89.7736, device='cuda:0', grad_fn=<AddBackward0>)]\n",
      "4.201796257451932\n",
      "tensor(-129.3854, device='cuda:0', grad_fn=<NegBackward0>) [tensor(-36.8473, device='cuda:0', grad_fn=<NegBackward0>), tensor(-8.4750, device='cuda:0', grad_fn=<NegBackward0>), tensor(-84.0630, device='cuda:0', grad_fn=<AddBackward0>)]\n",
      "tensor(-132.1115, device='cuda:0', grad_fn=<NegBackward0>) [tensor(-36.8473, device='cuda:0', grad_fn=<NegBackward0>), tensor(-9.2620, device='cuda:0', grad_fn=<NegBackward0>), tensor(-86.0023, device='cuda:0', grad_fn=<AddBackward0>)]\n",
      "4.378879940127879\n",
      "tensor(-132.0976, device='cuda:0', grad_fn=<NegBackward0>) [tensor(-36.7580, device='cuda:0', grad_fn=<NegBackward0>), tensor(-8.7661, device='cuda:0', grad_fn=<NegBackward0>), tensor(-86.5735, device='cuda:0', grad_fn=<AddBackward0>)]\n",
      "tensor(-131.3599, device='cuda:0', grad_fn=<NegBackward0>) [tensor(-36.7580, device='cuda:0', grad_fn=<NegBackward0>), tensor(-8.3392, device='cuda:0', grad_fn=<NegBackward0>), tensor(-86.2626, device='cuda:0', grad_fn=<AddBackward0>)]\n",
      "4.015993741872284\n",
      "tensor(-136.2914, device='cuda:0', grad_fn=<NegBackward0>) [tensor(-36.8413, device='cuda:0', grad_fn=<NegBackward0>), tensor(-12.4385, device='cuda:0', grad_fn=<NegBackward0>), tensor(-87.0116, device='cuda:0', grad_fn=<AddBackward0>)]\n",
      "tensor(-133.1168, device='cuda:0', grad_fn=<NegBackward0>) [tensor(-36.8413, device='cuda:0', grad_fn=<NegBackward0>), tensor(-10.1636, device='cuda:0', grad_fn=<NegBackward0>), tensor(-86.1120, device='cuda:0', grad_fn=<AddBackward0>)]\n",
      "4.760167269387746\n",
      "tensor(-134.6454, device='cuda:0', grad_fn=<NegBackward0>) [tensor(-36.8162, device='cuda:0', grad_fn=<NegBackward0>), tensor(-9.3483, device='cuda:0', grad_fn=<NegBackward0>), tensor(-88.4810, device='cuda:0', grad_fn=<AddBackward0>)]\n",
      "tensor(-131.7108, device='cuda:0', grad_fn=<NegBackward0>) [tensor(-36.8162, device='cuda:0', grad_fn=<NegBackward0>), tensor(-8.4383, device='cuda:0', grad_fn=<NegBackward0>), tensor(-86.4563, device='cuda:0', grad_fn=<AddBackward0>)]\n",
      "4.9392864697858565\n",
      "tensor(-133.5682, device='cuda:0', grad_fn=<NegBackward0>) [tensor(-36.9905, device='cuda:0', grad_fn=<NegBackward0>), tensor(-8.6436, device='cuda:0', grad_fn=<NegBackward0>), tensor(-87.9341, device='cuda:0', grad_fn=<AddBackward0>)]\n",
      "tensor(-135.4480, device='cuda:0', grad_fn=<NegBackward0>) [tensor(-36.9905, device='cuda:0', grad_fn=<NegBackward0>), tensor(-8.9795, device='cuda:0', grad_fn=<NegBackward0>), tensor(-89.4780, device='cuda:0', grad_fn=<AddBackward0>)]\n",
      "4.178561923203828\n",
      "tensor(-134.6852, device='cuda:0', grad_fn=<NegBackward0>) [tensor(-37.0892, device='cuda:0', grad_fn=<NegBackward0>), tensor(-10.3862, device='cuda:0', grad_fn=<NegBackward0>), tensor(-87.2098, device='cuda:0', grad_fn=<AddBackward0>)]\n",
      "tensor(-133.9799, device='cuda:0', grad_fn=<NegBackward0>) [tensor(-37.0892, device='cuda:0', grad_fn=<NegBackward0>), tensor(-9.7734, device='cuda:0', grad_fn=<NegBackward0>), tensor(-87.1173, device='cuda:0', grad_fn=<AddBackward0>)]\n",
      "4.359657464297211\n",
      "tensor(-128.9036, device='cuda:0', grad_fn=<NegBackward0>) [tensor(-36.9463, device='cuda:0', grad_fn=<NegBackward0>), tensor(-7.5957, device='cuda:0', grad_fn=<NegBackward0>), tensor(-84.3615, device='cuda:0', grad_fn=<AddBackward0>)]\n",
      "tensor(-132.1871, device='cuda:0', grad_fn=<NegBackward0>) [tensor(-36.9463, device='cuda:0', grad_fn=<NegBackward0>), tensor(-9.0856, device='cuda:0', grad_fn=<NegBackward0>), tensor(-86.1552, device='cuda:0', grad_fn=<AddBackward0>)]\n",
      "4.438966017708782\n",
      "tensor(-132.8694, device='cuda:0', grad_fn=<NegBackward0>) [tensor(-36.9179, device='cuda:0', grad_fn=<NegBackward0>), tensor(-9.1210, device='cuda:0', grad_fn=<NegBackward0>), tensor(-86.8305, device='cuda:0', grad_fn=<AddBackward0>)]\n",
      "tensor(-135.0709, device='cuda:0', grad_fn=<NegBackward0>) [tensor(-36.9179, device='cuda:0', grad_fn=<NegBackward0>), tensor(-9.9028, device='cuda:0', grad_fn=<NegBackward0>), tensor(-88.2501, device='cuda:0', grad_fn=<AddBackward0>)]\n",
      "4.958083479088651\n",
      "tensor(-134.5326, device='cuda:0', grad_fn=<NegBackward0>) [tensor(-36.8156, device='cuda:0', grad_fn=<NegBackward0>), tensor(-9.4366, device='cuda:0', grad_fn=<NegBackward0>), tensor(-88.2804, device='cuda:0', grad_fn=<AddBackward0>)]\n",
      "tensor(-133.8074, device='cuda:0', grad_fn=<NegBackward0>) [tensor(-36.8156, device='cuda:0', grad_fn=<NegBackward0>), tensor(-8.6811, device='cuda:0', grad_fn=<NegBackward0>), tensor(-88.3107, device='cuda:0', grad_fn=<AddBackward0>)]\n",
      "4.412888155743731\n",
      "tensor(-132.9952, device='cuda:0', grad_fn=<NegBackward0>) [tensor(-36.8448, device='cuda:0', grad_fn=<NegBackward0>), tensor(-9.2991, device='cuda:0', grad_fn=<NegBackward0>), tensor(-86.8513, device='cuda:0', grad_fn=<AddBackward0>)]\n",
      "tensor(-133.1627, device='cuda:0', grad_fn=<NegBackward0>) [tensor(-36.8448, device='cuda:0', grad_fn=<NegBackward0>), tensor(-9.0527, device='cuda:0', grad_fn=<NegBackward0>), tensor(-87.2652, device='cuda:0', grad_fn=<AddBackward0>)]\n",
      "4.520475729232715\n",
      "tensor(-135.8477, device='cuda:0', grad_fn=<NegBackward0>) [tensor(-36.9688, device='cuda:0', grad_fn=<NegBackward0>), tensor(-10.5179, device='cuda:0', grad_fn=<NegBackward0>), tensor(-88.3610, device='cuda:0', grad_fn=<AddBackward0>)]\n",
      "tensor(-139.1747, device='cuda:0', grad_fn=<NegBackward0>) [tensor(-36.9688, device='cuda:0', grad_fn=<NegBackward0>), tensor(-10.6182, device='cuda:0', grad_fn=<NegBackward0>), tensor(-91.5877, device='cuda:0', grad_fn=<AddBackward0>)]\n"
     ]
    },
    {
     "name": "stdout",
     "output_type": "stream",
     "text": [
      "4.841239738162901\n",
      "tensor(-131.6546, device='cuda:0', grad_fn=<NegBackward0>) [tensor(-37.0309, device='cuda:0', grad_fn=<NegBackward0>), tensor(-8.3176, device='cuda:0', grad_fn=<NegBackward0>), tensor(-86.3062, device='cuda:0', grad_fn=<AddBackward0>)]\n",
      "tensor(-130.4821, device='cuda:0', grad_fn=<NegBackward0>) [tensor(-37.0309, device='cuda:0', grad_fn=<NegBackward0>), tensor(-7.3388, device='cuda:0', grad_fn=<NegBackward0>), tensor(-86.1124, device='cuda:0', grad_fn=<AddBackward0>)]\n",
      "4.184235583045356\n",
      "tensor(-131.7552, device='cuda:0', grad_fn=<NegBackward0>) [tensor(-37.1938, device='cuda:0', grad_fn=<NegBackward0>), tensor(-8.6671, device='cuda:0', grad_fn=<NegBackward0>), tensor(-85.8943, device='cuda:0', grad_fn=<AddBackward0>)]\n",
      "tensor(-135.4161, device='cuda:0', grad_fn=<NegBackward0>) [tensor(-37.1938, device='cuda:0', grad_fn=<NegBackward0>), tensor(-10.8325, device='cuda:0', grad_fn=<NegBackward0>), tensor(-87.3898, device='cuda:0', grad_fn=<AddBackward0>)]\n",
      "4.226586315702337\n",
      "tensor(-129.6760, device='cuda:0', grad_fn=<NegBackward0>) [tensor(-36.9555, device='cuda:0', grad_fn=<NegBackward0>), tensor(-7.9573, device='cuda:0', grad_fn=<NegBackward0>), tensor(-84.7632, device='cuda:0', grad_fn=<AddBackward0>)]\n",
      "tensor(-131.1931, device='cuda:0', grad_fn=<NegBackward0>) [tensor(-36.9555, device='cuda:0', grad_fn=<NegBackward0>), tensor(-8.9259, device='cuda:0', grad_fn=<NegBackward0>), tensor(-85.3118, device='cuda:0', grad_fn=<AddBackward0>)]\n",
      "4.207082024991217\n",
      "tensor(-134.1539, device='cuda:0', grad_fn=<NegBackward0>) [tensor(-36.9424, device='cuda:0', grad_fn=<NegBackward0>), tensor(-10.2332, device='cuda:0', grad_fn=<NegBackward0>), tensor(-86.9783, device='cuda:0', grad_fn=<AddBackward0>)]\n",
      "tensor(-132.2603, device='cuda:0', grad_fn=<NegBackward0>) [tensor(-36.9424, device='cuda:0', grad_fn=<NegBackward0>), tensor(-9.5598, device='cuda:0', grad_fn=<NegBackward0>), tensor(-85.7581, device='cuda:0', grad_fn=<AddBackward0>)]\n",
      "5.250757781737161\n",
      "tensor(-130.1557, device='cuda:0', grad_fn=<NegBackward0>) [tensor(-36.8667, device='cuda:0', grad_fn=<NegBackward0>), tensor(-7.3034, device='cuda:0', grad_fn=<NegBackward0>), tensor(-85.9856, device='cuda:0', grad_fn=<AddBackward0>)]\n",
      "tensor(-136.1057, device='cuda:0', grad_fn=<NegBackward0>) [tensor(-36.8667, device='cuda:0', grad_fn=<NegBackward0>), tensor(-9.6134, device='cuda:0', grad_fn=<NegBackward0>), tensor(-89.6256, device='cuda:0', grad_fn=<AddBackward0>)]\n",
      "4.534703193700234\n",
      "tensor(-130.7833, device='cuda:0', grad_fn=<NegBackward0>) [tensor(-36.9624, device='cuda:0', grad_fn=<NegBackward0>), tensor(-7.8013, device='cuda:0', grad_fn=<NegBackward0>), tensor(-86.0197, device='cuda:0', grad_fn=<AddBackward0>)]\n",
      "tensor(-137.4961, device='cuda:0', grad_fn=<NegBackward0>) [tensor(-36.9624, device='cuda:0', grad_fn=<NegBackward0>), tensor(-10.3023, device='cuda:0', grad_fn=<NegBackward0>), tensor(-90.2314, device='cuda:0', grad_fn=<AddBackward0>)]\n",
      "4.384885118538269\n",
      "tensor(-132.2511, device='cuda:0', grad_fn=<NegBackward0>) [tensor(-37.0866, device='cuda:0', grad_fn=<NegBackward0>), tensor(-8.9793, device='cuda:0', grad_fn=<NegBackward0>), tensor(-86.1851, device='cuda:0', grad_fn=<AddBackward0>)]\n",
      "tensor(-135.4099, device='cuda:0', grad_fn=<NegBackward0>) [tensor(-37.0866, device='cuda:0', grad_fn=<NegBackward0>), tensor(-9.9369, device='cuda:0', grad_fn=<NegBackward0>), tensor(-88.3864, device='cuda:0', grad_fn=<AddBackward0>)]\n",
      "4.654741524959723\n",
      "tensor(-135.9736, device='cuda:0', grad_fn=<NegBackward0>) [tensor(-37.0882, device='cuda:0', grad_fn=<NegBackward0>), tensor(-9.8634, device='cuda:0', grad_fn=<NegBackward0>), tensor(-89.0220, device='cuda:0', grad_fn=<AddBackward0>)]\n",
      "tensor(-133.5928, device='cuda:0', grad_fn=<NegBackward0>) [tensor(-37.0882, device='cuda:0', grad_fn=<NegBackward0>), tensor(-9.2503, device='cuda:0', grad_fn=<NegBackward0>), tensor(-87.2543, device='cuda:0', grad_fn=<AddBackward0>)]\n",
      "4.085213588939392\n",
      "tensor(-136.1876, device='cuda:0', grad_fn=<NegBackward0>) [tensor(-37.2075, device='cuda:0', grad_fn=<NegBackward0>), tensor(-10.5689, device='cuda:0', grad_fn=<NegBackward0>), tensor(-88.4111, device='cuda:0', grad_fn=<AddBackward0>)]\n",
      "tensor(-134.0433, device='cuda:0', grad_fn=<NegBackward0>) [tensor(-37.2075, device='cuda:0', grad_fn=<NegBackward0>), tensor(-9.8076, device='cuda:0', grad_fn=<NegBackward0>), tensor(-87.0282, device='cuda:0', grad_fn=<AddBackward0>)]\n",
      "3.995784551323187\n",
      "tensor(-138.3419, device='cuda:0', grad_fn=<NegBackward0>) [tensor(-37.0492, device='cuda:0', grad_fn=<NegBackward0>), tensor(-11.6433, device='cuda:0', grad_fn=<NegBackward0>), tensor(-89.6494, device='cuda:0', grad_fn=<AddBackward0>)]\n",
      "tensor(-135.4250, device='cuda:0', grad_fn=<NegBackward0>) [tensor(-37.0492, device='cuda:0', grad_fn=<NegBackward0>), tensor(-10.7118, device='cuda:0', grad_fn=<NegBackward0>), tensor(-87.6640, device='cuda:0', grad_fn=<AddBackward0>)]\n",
      "4.392920124628347\n",
      "tensor(-131.0763, device='cuda:0', grad_fn=<NegBackward0>) [tensor(-36.8504, device='cuda:0', grad_fn=<NegBackward0>), tensor(-8.2307, device='cuda:0', grad_fn=<NegBackward0>), tensor(-85.9952, device='cuda:0', grad_fn=<AddBackward0>)]\n",
      "tensor(-133.1725, device='cuda:0', grad_fn=<NegBackward0>) [tensor(-36.8504, device='cuda:0', grad_fn=<NegBackward0>), tensor(-9.7827, device='cuda:0', grad_fn=<NegBackward0>), tensor(-86.5394, device='cuda:0', grad_fn=<AddBackward0>)]\n",
      "4.635805189716496\n",
      "tensor(-135.8291, device='cuda:0', grad_fn=<NegBackward0>) [tensor(-36.8649, device='cuda:0', grad_fn=<NegBackward0>), tensor(-9.9657, device='cuda:0', grad_fn=<NegBackward0>), tensor(-88.9985, device='cuda:0', grad_fn=<AddBackward0>)]\n",
      "tensor(-136.5089, device='cuda:0', grad_fn=<NegBackward0>) [tensor(-36.8649, device='cuda:0', grad_fn=<NegBackward0>), tensor(-10.6798, device='cuda:0', grad_fn=<NegBackward0>), tensor(-88.9642, device='cuda:0', grad_fn=<AddBackward0>)]\n",
      "4.162525868581996\n",
      "tensor(-134.2728, device='cuda:0', grad_fn=<NegBackward0>) [tensor(-36.8046, device='cuda:0', grad_fn=<NegBackward0>), tensor(-9.9459, device='cuda:0', grad_fn=<NegBackward0>), tensor(-87.5222, device='cuda:0', grad_fn=<AddBackward0>)]\n",
      "tensor(-131.8726, device='cuda:0', grad_fn=<NegBackward0>) [tensor(-36.8046, device='cuda:0', grad_fn=<NegBackward0>), tensor(-9.0709, device='cuda:0', grad_fn=<NegBackward0>), tensor(-85.9971, device='cuda:0', grad_fn=<AddBackward0>)]\n",
      "4.283001478987838\n",
      "tensor(-130.4219, device='cuda:0', grad_fn=<NegBackward0>) [tensor(-36.8864, device='cuda:0', grad_fn=<NegBackward0>), tensor(-8.7893, device='cuda:0', grad_fn=<NegBackward0>), tensor(-84.7462, device='cuda:0', grad_fn=<AddBackward0>)]\n",
      "tensor(-135.0098, device='cuda:0', grad_fn=<NegBackward0>) [tensor(-36.8864, device='cuda:0', grad_fn=<NegBackward0>), tensor(-10.0277, device='cuda:0', grad_fn=<NegBackward0>), tensor(-88.0957, device='cuda:0', grad_fn=<AddBackward0>)]\n",
      "4.392443807530329\n",
      "tensor(-134.0523, device='cuda:0', grad_fn=<NegBackward0>) [tensor(-36.8875, device='cuda:0', grad_fn=<NegBackward0>), tensor(-9.7124, device='cuda:0', grad_fn=<NegBackward0>), tensor(-87.4524, device='cuda:0', grad_fn=<AddBackward0>)]\n",
      "tensor(-130.3262, device='cuda:0', grad_fn=<NegBackward0>) [tensor(-36.8875, device='cuda:0', grad_fn=<NegBackward0>), tensor(-8.1049, device='cuda:0', grad_fn=<NegBackward0>), tensor(-85.3338, device='cuda:0', grad_fn=<AddBackward0>)]\n",
      "4.86064877241651\n",
      "tensor(-134.2119, device='cuda:0', grad_fn=<NegBackward0>) [tensor(-37.0636, device='cuda:0', grad_fn=<NegBackward0>), tensor(-8.6885, device='cuda:0', grad_fn=<NegBackward0>), tensor(-88.4597, device='cuda:0', grad_fn=<AddBackward0>)]\n",
      "tensor(-135.4058, device='cuda:0', grad_fn=<NegBackward0>) [tensor(-37.0636, device='cuda:0', grad_fn=<NegBackward0>), tensor(-9.4483, device='cuda:0', grad_fn=<NegBackward0>), tensor(-88.8939, device='cuda:0', grad_fn=<AddBackward0>)]\n",
      "4.447163994716216\n",
      "tensor(-135.9410, device='cuda:0', grad_fn=<NegBackward0>) [tensor(-37.1791, device='cuda:0', grad_fn=<NegBackward0>), tensor(-10.0902, device='cuda:0', grad_fn=<NegBackward0>), tensor(-88.6717, device='cuda:0', grad_fn=<AddBackward0>)]\n",
      "tensor(-132.6492, device='cuda:0', grad_fn=<NegBackward0>) [tensor(-37.1791, device='cuda:0', grad_fn=<NegBackward0>), tensor(-8.8518, device='cuda:0', grad_fn=<NegBackward0>), tensor(-86.6183, device='cuda:0', grad_fn=<AddBackward0>)]\n"
     ]
    },
    {
     "name": "stdout",
     "output_type": "stream",
     "text": [
      "3.9556395563316444\n",
      "tensor(-133.6591, device='cuda:0', grad_fn=<NegBackward0>) [tensor(-37.2744, device='cuda:0', grad_fn=<NegBackward0>), tensor(-11.3223, device='cuda:0', grad_fn=<NegBackward0>), tensor(-85.0625, device='cuda:0', grad_fn=<AddBackward0>)]\n",
      "tensor(-135.2277, device='cuda:0', grad_fn=<NegBackward0>) [tensor(-37.2744, device='cuda:0', grad_fn=<NegBackward0>), tensor(-11.7693, device='cuda:0', grad_fn=<NegBackward0>), tensor(-86.1839, device='cuda:0', grad_fn=<AddBackward0>)]\n",
      "4.6227314042789365\n",
      "tensor(-130.9660, device='cuda:0', grad_fn=<NegBackward0>) [tensor(-36.9816, device='cuda:0', grad_fn=<NegBackward0>), tensor(-7.9641, device='cuda:0', grad_fn=<NegBackward0>), tensor(-86.0204, device='cuda:0', grad_fn=<AddBackward0>)]\n",
      "tensor(-134.1659, device='cuda:0', grad_fn=<NegBackward0>) [tensor(-36.9816, device='cuda:0', grad_fn=<NegBackward0>), tensor(-9.0385, device='cuda:0', grad_fn=<NegBackward0>), tensor(-88.1458, device='cuda:0', grad_fn=<AddBackward0>)]\n",
      "4.201316547854116\n",
      "tensor(-136.8662, device='cuda:0', grad_fn=<NegBackward0>) [tensor(-37.1668, device='cuda:0', grad_fn=<NegBackward0>), tensor(-10.9840, device='cuda:0', grad_fn=<NegBackward0>), tensor(-88.7155, device='cuda:0', grad_fn=<AddBackward0>)]\n",
      "tensor(-135.1877, device='cuda:0', grad_fn=<NegBackward0>) [tensor(-37.1668, device='cuda:0', grad_fn=<NegBackward0>), tensor(-10.1075, device='cuda:0', grad_fn=<NegBackward0>), tensor(-87.9135, device='cuda:0', grad_fn=<AddBackward0>)]\n",
      "4.399647428619112\n",
      "tensor(-136.1306, device='cuda:0', grad_fn=<NegBackward0>) [tensor(-37.1235, device='cuda:0', grad_fn=<NegBackward0>), tensor(-10.1430, device='cuda:0', grad_fn=<NegBackward0>), tensor(-88.8641, device='cuda:0', grad_fn=<AddBackward0>)]\n",
      "tensor(-133.8391, device='cuda:0', grad_fn=<NegBackward0>) [tensor(-37.1235, device='cuda:0', grad_fn=<NegBackward0>), tensor(-9.2445, device='cuda:0', grad_fn=<NegBackward0>), tensor(-87.4711, device='cuda:0', grad_fn=<AddBackward0>)]\n",
      "4.588242398558841\n",
      "tensor(-136.4602, device='cuda:0', grad_fn=<NegBackward0>) [tensor(-37.2399, device='cuda:0', grad_fn=<NegBackward0>), tensor(-10.2947, device='cuda:0', grad_fn=<NegBackward0>), tensor(-88.9257, device='cuda:0', grad_fn=<AddBackward0>)]\n",
      "tensor(-131.6809, device='cuda:0', grad_fn=<NegBackward0>) [tensor(-37.2399, device='cuda:0', grad_fn=<NegBackward0>), tensor(-8.7424, device='cuda:0', grad_fn=<NegBackward0>), tensor(-85.6986, device='cuda:0', grad_fn=<AddBackward0>)]\n",
      "4.319961735073382\n",
      "tensor(-130.6314, device='cuda:0', grad_fn=<NegBackward0>) [tensor(-37.2714, device='cuda:0', grad_fn=<NegBackward0>), tensor(-8.0895, device='cuda:0', grad_fn=<NegBackward0>), tensor(-85.2705, device='cuda:0', grad_fn=<AddBackward0>)]\n",
      "tensor(-137.8897, device='cuda:0', grad_fn=<NegBackward0>) [tensor(-37.2714, device='cuda:0', grad_fn=<NegBackward0>), tensor(-11.1346, device='cuda:0', grad_fn=<NegBackward0>), tensor(-89.4837, device='cuda:0', grad_fn=<AddBackward0>)]\n",
      "4.676153100952366\n",
      "tensor(-130.9082, device='cuda:0', grad_fn=<NegBackward0>) [tensor(-37.1788, device='cuda:0', grad_fn=<NegBackward0>), tensor(-8.1439, device='cuda:0', grad_fn=<NegBackward0>), tensor(-85.5856, device='cuda:0', grad_fn=<AddBackward0>)]\n",
      "tensor(-134.3681, device='cuda:0', grad_fn=<NegBackward0>) [tensor(-37.1788, device='cuda:0', grad_fn=<NegBackward0>), tensor(-9.3568, device='cuda:0', grad_fn=<NegBackward0>), tensor(-87.8324, device='cuda:0', grad_fn=<AddBackward0>)]\n",
      "4.4210312245328796\n",
      "tensor(-137.1418, device='cuda:0', grad_fn=<NegBackward0>) [tensor(-37.2023, device='cuda:0', grad_fn=<NegBackward0>), tensor(-11.0370, device='cuda:0', grad_fn=<NegBackward0>), tensor(-88.9025, device='cuda:0', grad_fn=<AddBackward0>)]\n",
      "tensor(-131.8027, device='cuda:0', grad_fn=<NegBackward0>) [tensor(-37.2023, device='cuda:0', grad_fn=<NegBackward0>), tensor(-7.9964, device='cuda:0', grad_fn=<NegBackward0>), tensor(-86.6039, device='cuda:0', grad_fn=<AddBackward0>)]\n",
      "4.500989074237021\n",
      "tensor(-131.4699, device='cuda:0', grad_fn=<NegBackward0>) [tensor(-37.3377, device='cuda:0', grad_fn=<NegBackward0>), tensor(-8.5832, device='cuda:0', grad_fn=<NegBackward0>), tensor(-85.5491, device='cuda:0', grad_fn=<AddBackward0>)]\n",
      "tensor(-137.0281, device='cuda:0', grad_fn=<NegBackward0>) [tensor(-37.3377, device='cuda:0', grad_fn=<NegBackward0>), tensor(-10.1890, device='cuda:0', grad_fn=<NegBackward0>), tensor(-89.5014, device='cuda:0', grad_fn=<AddBackward0>)]\n",
      "4.441465275848174\n",
      "tensor(-133.2532, device='cuda:0', grad_fn=<NegBackward0>) [tensor(-37.3484, device='cuda:0', grad_fn=<NegBackward0>), tensor(-9.2890, device='cuda:0', grad_fn=<NegBackward0>), tensor(-86.6159, device='cuda:0', grad_fn=<AddBackward0>)]\n",
      "tensor(-136.2435, device='cuda:0', grad_fn=<NegBackward0>) [tensor(-37.3484, device='cuda:0', grad_fn=<NegBackward0>), tensor(-9.7880, device='cuda:0', grad_fn=<NegBackward0>), tensor(-89.1070, device='cuda:0', grad_fn=<AddBackward0>)]\n",
      "4.05339352488905\n",
      "tensor(-136.9883, device='cuda:0', grad_fn=<NegBackward0>) [tensor(-37.2818, device='cuda:0', grad_fn=<NegBackward0>), tensor(-11.1061, device='cuda:0', grad_fn=<NegBackward0>), tensor(-88.6003, device='cuda:0', grad_fn=<AddBackward0>)]\n",
      "tensor(-130.9280, device='cuda:0', grad_fn=<NegBackward0>) [tensor(-37.2818, device='cuda:0', grad_fn=<NegBackward0>), tensor(-8.3718, device='cuda:0', grad_fn=<NegBackward0>), tensor(-85.2743, device='cuda:0', grad_fn=<AddBackward0>)]\n",
      "4.146488495136038\n",
      "tensor(-134.1615, device='cuda:0', grad_fn=<NegBackward0>) [tensor(-37.3760, device='cuda:0', grad_fn=<NegBackward0>), tensor(-9.9385, device='cuda:0', grad_fn=<NegBackward0>), tensor(-86.8471, device='cuda:0', grad_fn=<AddBackward0>)]\n",
      "tensor(-135.6607, device='cuda:0', grad_fn=<NegBackward0>) [tensor(-37.3760, device='cuda:0', grad_fn=<NegBackward0>), tensor(-10.0405, device='cuda:0', grad_fn=<NegBackward0>), tensor(-88.2442, device='cuda:0', grad_fn=<AddBackward0>)]\n",
      "4.263841761796949\n",
      "tensor(-135.1623, device='cuda:0', grad_fn=<NegBackward0>) [tensor(-37.2977, device='cuda:0', grad_fn=<NegBackward0>), tensor(-9.8141, device='cuda:0', grad_fn=<NegBackward0>), tensor(-88.0505, device='cuda:0', grad_fn=<AddBackward0>)]\n",
      "tensor(-133.4853, device='cuda:0', grad_fn=<NegBackward0>) [tensor(-37.2977, device='cuda:0', grad_fn=<NegBackward0>), tensor(-9.8203, device='cuda:0', grad_fn=<NegBackward0>), tensor(-86.3673, device='cuda:0', grad_fn=<AddBackward0>)]\n",
      "4.6054721190879375\n",
      "tensor(-132.3066, device='cuda:0', grad_fn=<NegBackward0>) [tensor(-37.3679, device='cuda:0', grad_fn=<NegBackward0>), tensor(-8.4568, device='cuda:0', grad_fn=<NegBackward0>), tensor(-86.4819, device='cuda:0', grad_fn=<AddBackward0>)]\n",
      "tensor(-138.2120, device='cuda:0', grad_fn=<NegBackward0>) [tensor(-37.3679, device='cuda:0', grad_fn=<NegBackward0>), tensor(-10.2859, device='cuda:0', grad_fn=<NegBackward0>), tensor(-90.5581, device='cuda:0', grad_fn=<AddBackward0>)]\n",
      "4.1477108305902854\n",
      "tensor(-134.0469, device='cuda:0', grad_fn=<NegBackward0>) [tensor(-37.4119, device='cuda:0', grad_fn=<NegBackward0>), tensor(-10.3511, device='cuda:0', grad_fn=<NegBackward0>), tensor(-86.2839, device='cuda:0', grad_fn=<AddBackward0>)]\n",
      "tensor(-134.7150, device='cuda:0', grad_fn=<NegBackward0>) [tensor(-37.4119, device='cuda:0', grad_fn=<NegBackward0>), tensor(-10.9781, device='cuda:0', grad_fn=<NegBackward0>), tensor(-86.3250, device='cuda:0', grad_fn=<AddBackward0>)]\n",
      "4.71697958727536\n",
      "tensor(-134.1407, device='cuda:0', grad_fn=<NegBackward0>) [tensor(-37.1526, device='cuda:0', grad_fn=<NegBackward0>), tensor(-8.7216, device='cuda:0', grad_fn=<NegBackward0>), tensor(-88.2664, device='cuda:0', grad_fn=<AddBackward0>)]\n",
      "tensor(-135.7836, device='cuda:0', grad_fn=<NegBackward0>) [tensor(-37.1526, device='cuda:0', grad_fn=<NegBackward0>), tensor(-9.4635, device='cuda:0', grad_fn=<NegBackward0>), tensor(-89.1674, device='cuda:0', grad_fn=<AddBackward0>)]\n",
      "3.9322131565924843\n",
      "tensor(-133.3006, device='cuda:0', grad_fn=<NegBackward0>) [tensor(-37.2793, device='cuda:0', grad_fn=<NegBackward0>), tensor(-10.1970, device='cuda:0', grad_fn=<NegBackward0>), tensor(-85.8243, device='cuda:0', grad_fn=<AddBackward0>)]\n",
      "tensor(-131.0542, device='cuda:0', grad_fn=<NegBackward0>) [tensor(-37.2793, device='cuda:0', grad_fn=<NegBackward0>), tensor(-9.0146, device='cuda:0', grad_fn=<NegBackward0>), tensor(-84.7603, device='cuda:0', grad_fn=<AddBackward0>)]\n"
     ]
    },
    {
     "name": "stdout",
     "output_type": "stream",
     "text": [
      "4.9292800363447045\n",
      "tensor(-134.7909, device='cuda:0', grad_fn=<NegBackward0>) [tensor(-37.2921, device='cuda:0', grad_fn=<NegBackward0>), tensor(-9.1711, device='cuda:0', grad_fn=<NegBackward0>), tensor(-88.3277, device='cuda:0', grad_fn=<AddBackward0>)]\n",
      "tensor(-130.7202, device='cuda:0', grad_fn=<NegBackward0>) [tensor(-37.2921, device='cuda:0', grad_fn=<NegBackward0>), tensor(-7.3846, device='cuda:0', grad_fn=<NegBackward0>), tensor(-86.0435, device='cuda:0', grad_fn=<AddBackward0>)]\n",
      "4.359800993168614\n",
      "tensor(-135.2197, device='cuda:0', grad_fn=<NegBackward0>) [tensor(-37.5284, device='cuda:0', grad_fn=<NegBackward0>), tensor(-9.4773, device='cuda:0', grad_fn=<NegBackward0>), tensor(-88.2140, device='cuda:0', grad_fn=<AddBackward0>)]\n",
      "tensor(-133.8999, device='cuda:0', grad_fn=<NegBackward0>) [tensor(-37.5284, device='cuda:0', grad_fn=<NegBackward0>), tensor(-9.0311, device='cuda:0', grad_fn=<NegBackward0>), tensor(-87.3405, device='cuda:0', grad_fn=<AddBackward0>)]\n",
      "4.99571551636879\n",
      "tensor(-132.4593, device='cuda:0', grad_fn=<NegBackward0>) [tensor(-37.5262, device='cuda:0', grad_fn=<NegBackward0>), tensor(-8.0154, device='cuda:0', grad_fn=<NegBackward0>), tensor(-86.9176, device='cuda:0', grad_fn=<AddBackward0>)]\n",
      "tensor(-133.9050, device='cuda:0', grad_fn=<NegBackward0>) [tensor(-37.5262, device='cuda:0', grad_fn=<NegBackward0>), tensor(-8.4739, device='cuda:0', grad_fn=<NegBackward0>), tensor(-87.9049, device='cuda:0', grad_fn=<AddBackward0>)]\n",
      "4.30678377393339\n",
      "tensor(-136.3701, device='cuda:0', grad_fn=<NegBackward0>) [tensor(-37.5941, device='cuda:0', grad_fn=<NegBackward0>), tensor(-10.3594, device='cuda:0', grad_fn=<NegBackward0>), tensor(-88.4165, device='cuda:0', grad_fn=<AddBackward0>)]\n",
      "tensor(-132.9417, device='cuda:0', grad_fn=<NegBackward0>) [tensor(-37.5941, device='cuda:0', grad_fn=<NegBackward0>), tensor(-8.7508, device='cuda:0', grad_fn=<NegBackward0>), tensor(-86.5968, device='cuda:0', grad_fn=<AddBackward0>)]\n",
      "4.456604235807442\n",
      "tensor(-133.2592, device='cuda:0', grad_fn=<NegBackward0>) [tensor(-37.5213, device='cuda:0', grad_fn=<NegBackward0>), tensor(-8.6958, device='cuda:0', grad_fn=<NegBackward0>), tensor(-87.0420, device='cuda:0', grad_fn=<AddBackward0>)]\n",
      "tensor(-136.7805, device='cuda:0', grad_fn=<NegBackward0>) [tensor(-37.5213, device='cuda:0', grad_fn=<NegBackward0>), tensor(-10.3056, device='cuda:0', grad_fn=<NegBackward0>), tensor(-88.9535, device='cuda:0', grad_fn=<AddBackward0>)]\n",
      "4.762266289893866\n",
      "tensor(-134.4450, device='cuda:0', grad_fn=<NegBackward0>) [tensor(-37.4568, device='cuda:0', grad_fn=<NegBackward0>), tensor(-8.9139, device='cuda:0', grad_fn=<NegBackward0>), tensor(-88.0744, device='cuda:0', grad_fn=<AddBackward0>)]\n",
      "tensor(-133.5127, device='cuda:0', grad_fn=<NegBackward0>) [tensor(-37.4568, device='cuda:0', grad_fn=<NegBackward0>), tensor(-8.7525, device='cuda:0', grad_fn=<NegBackward0>), tensor(-87.3034, device='cuda:0', grad_fn=<AddBackward0>)]\n",
      "4.03357050009628\n",
      "tensor(-133.5913, device='cuda:0', grad_fn=<NegBackward0>) [tensor(-37.5020, device='cuda:0', grad_fn=<NegBackward0>), tensor(-9.9999, device='cuda:0', grad_fn=<NegBackward0>), tensor(-86.0893, device='cuda:0', grad_fn=<AddBackward0>)]\n",
      "tensor(-134.9904, device='cuda:0', grad_fn=<NegBackward0>) [tensor(-37.5020, device='cuda:0', grad_fn=<NegBackward0>), tensor(-9.7547, device='cuda:0', grad_fn=<NegBackward0>), tensor(-87.7337, device='cuda:0', grad_fn=<AddBackward0>)]\n",
      "4.219099716021801\n",
      "tensor(-134.0092, device='cuda:0', grad_fn=<NegBackward0>) [tensor(-37.5295, device='cuda:0', grad_fn=<NegBackward0>), tensor(-9.5996, device='cuda:0', grad_fn=<NegBackward0>), tensor(-86.8801, device='cuda:0', grad_fn=<AddBackward0>)]\n",
      "tensor(-137.1750, device='cuda:0', grad_fn=<NegBackward0>) [tensor(-37.5295, device='cuda:0', grad_fn=<NegBackward0>), tensor(-10.5227, device='cuda:0', grad_fn=<NegBackward0>), tensor(-89.1228, device='cuda:0', grad_fn=<AddBackward0>)]\n",
      "4.598165515435948\n",
      "tensor(-135.2701, device='cuda:0', grad_fn=<NegBackward0>) [tensor(-37.4048, device='cuda:0', grad_fn=<NegBackward0>), tensor(-9.1747, device='cuda:0', grad_fn=<NegBackward0>), tensor(-88.6907, device='cuda:0', grad_fn=<AddBackward0>)]\n",
      "tensor(-135.9239, device='cuda:0', grad_fn=<NegBackward0>) [tensor(-37.4048, device='cuda:0', grad_fn=<NegBackward0>), tensor(-9.4678, device='cuda:0', grad_fn=<NegBackward0>), tensor(-89.0513, device='cuda:0', grad_fn=<AddBackward0>)]\n",
      "4.142492840369816\n",
      "tensor(-136.7306, device='cuda:0', grad_fn=<NegBackward0>) [tensor(-37.4978, device='cuda:0', grad_fn=<NegBackward0>), tensor(-11.1600, device='cuda:0', grad_fn=<NegBackward0>), tensor(-88.0728, device='cuda:0', grad_fn=<AddBackward0>)]\n",
      "tensor(-131.9595, device='cuda:0', grad_fn=<NegBackward0>) [tensor(-37.4978, device='cuda:0', grad_fn=<NegBackward0>), tensor(-9.7527, device='cuda:0', grad_fn=<NegBackward0>), tensor(-84.7090, device='cuda:0', grad_fn=<AddBackward0>)]\n",
      "3.7433945247090876\n",
      "tensor(-133.8939, device='cuda:0', grad_fn=<NegBackward0>) [tensor(-37.2986, device='cuda:0', grad_fn=<NegBackward0>), tensor(-12.1006, device='cuda:0', grad_fn=<NegBackward0>), tensor(-84.4946, device='cuda:0', grad_fn=<AddBackward0>)]\n",
      "tensor(-133.0128, device='cuda:0', grad_fn=<NegBackward0>) [tensor(-37.2986, device='cuda:0', grad_fn=<NegBackward0>), tensor(-11.5226, device='cuda:0', grad_fn=<NegBackward0>), tensor(-84.1916, device='cuda:0', grad_fn=<AddBackward0>)]\n",
      "4.902720847556495\n",
      "tensor(-132.6012, device='cuda:0', grad_fn=<NegBackward0>) [tensor(-37.0876, device='cuda:0', grad_fn=<NegBackward0>), tensor(-8.3833, device='cuda:0', grad_fn=<NegBackward0>), tensor(-87.1303, device='cuda:0', grad_fn=<AddBackward0>)]\n",
      "tensor(-138.2442, device='cuda:0', grad_fn=<NegBackward0>) [tensor(-37.0876, device='cuda:0', grad_fn=<NegBackward0>), tensor(-10.2737, device='cuda:0', grad_fn=<NegBackward0>), tensor(-90.8829, device='cuda:0', grad_fn=<AddBackward0>)]\n",
      "4.647491438529141\n",
      "tensor(-132.6801, device='cuda:0', grad_fn=<NegBackward0>) [tensor(-37.1637, device='cuda:0', grad_fn=<NegBackward0>), tensor(-8.4684, device='cuda:0', grad_fn=<NegBackward0>), tensor(-87.0481, device='cuda:0', grad_fn=<AddBackward0>)]\n",
      "tensor(-134.4100, device='cuda:0', grad_fn=<NegBackward0>) [tensor(-37.1637, device='cuda:0', grad_fn=<NegBackward0>), tensor(-8.9928, device='cuda:0', grad_fn=<NegBackward0>), tensor(-88.2536, device='cuda:0', grad_fn=<AddBackward0>)]\n",
      "4.13330739764288\n",
      "tensor(-132.3701, device='cuda:0', grad_fn=<NegBackward0>) [tensor(-37.3522, device='cuda:0', grad_fn=<NegBackward0>), tensor(-8.8871, device='cuda:0', grad_fn=<NegBackward0>), tensor(-86.1307, device='cuda:0', grad_fn=<AddBackward0>)]\n",
      "tensor(-133.4367, device='cuda:0', grad_fn=<NegBackward0>) [tensor(-37.3522, device='cuda:0', grad_fn=<NegBackward0>), tensor(-10.1061, device='cuda:0', grad_fn=<NegBackward0>), tensor(-85.9784, device='cuda:0', grad_fn=<AddBackward0>)]\n",
      "4.583602094392231\n",
      "tensor(-134.2090, device='cuda:0', grad_fn=<NegBackward0>) [tensor(-37.1748, device='cuda:0', grad_fn=<NegBackward0>), tensor(-8.9078, device='cuda:0', grad_fn=<NegBackward0>), tensor(-88.1264, device='cuda:0', grad_fn=<AddBackward0>)]\n",
      "tensor(-131.4084, device='cuda:0', grad_fn=<NegBackward0>) [tensor(-37.1748, device='cuda:0', grad_fn=<NegBackward0>), tensor(-8.2837, device='cuda:0', grad_fn=<NegBackward0>), tensor(-85.9499, device='cuda:0', grad_fn=<AddBackward0>)]\n",
      "4.280574484157663\n",
      "tensor(-133.1124, device='cuda:0', grad_fn=<NegBackward0>) [tensor(-37.3640, device='cuda:0', grad_fn=<NegBackward0>), tensor(-9.0583, device='cuda:0', grad_fn=<NegBackward0>), tensor(-86.6902, device='cuda:0', grad_fn=<AddBackward0>)]\n",
      "tensor(-131.4451, device='cuda:0', grad_fn=<NegBackward0>) [tensor(-37.3640, device='cuda:0', grad_fn=<NegBackward0>), tensor(-8.3178, device='cuda:0', grad_fn=<NegBackward0>), tensor(-85.7634, device='cuda:0', grad_fn=<AddBackward0>)]\n",
      "4.573186954971766\n",
      "tensor(-134.9296, device='cuda:0', grad_fn=<NegBackward0>) [tensor(-37.5832, device='cuda:0', grad_fn=<NegBackward0>), tensor(-9.5329, device='cuda:0', grad_fn=<NegBackward0>), tensor(-87.8136, device='cuda:0', grad_fn=<AddBackward0>)]\n",
      "tensor(-131.4859, device='cuda:0', grad_fn=<NegBackward0>) [tensor(-37.5832, device='cuda:0', grad_fn=<NegBackward0>), tensor(-7.9804, device='cuda:0', grad_fn=<NegBackward0>), tensor(-85.9223, device='cuda:0', grad_fn=<AddBackward0>)]\n"
     ]
    },
    {
     "name": "stdout",
     "output_type": "stream",
     "text": [
      "4.379477879226388\n",
      "tensor(-132.6238, device='cuda:0', grad_fn=<NegBackward0>) [tensor(-37.6713, device='cuda:0', grad_fn=<NegBackward0>), tensor(-8.4886, device='cuda:0', grad_fn=<NegBackward0>), tensor(-86.4639, device='cuda:0', grad_fn=<AddBackward0>)]\n",
      "tensor(-136.3107, device='cuda:0', grad_fn=<NegBackward0>) [tensor(-37.6713, device='cuda:0', grad_fn=<NegBackward0>), tensor(-10.1500, device='cuda:0', grad_fn=<NegBackward0>), tensor(-88.4894, device='cuda:0', grad_fn=<AddBackward0>)]\n",
      "3.955608659879012\n",
      "tensor(-134.7991, device='cuda:0', grad_fn=<NegBackward0>) [tensor(-37.5412, device='cuda:0', grad_fn=<NegBackward0>), tensor(-12.3115, device='cuda:0', grad_fn=<NegBackward0>), tensor(-84.9464, device='cuda:0', grad_fn=<AddBackward0>)]\n",
      "tensor(-133.4772, device='cuda:0', grad_fn=<NegBackward0>) [tensor(-37.5412, device='cuda:0', grad_fn=<NegBackward0>), tensor(-10.2799, device='cuda:0', grad_fn=<NegBackward0>), tensor(-85.6562, device='cuda:0', grad_fn=<AddBackward0>)]\n",
      "4.566931307782117\n",
      "tensor(-132.6625, device='cuda:0', grad_fn=<NegBackward0>) [tensor(-37.5092, device='cuda:0', grad_fn=<NegBackward0>), tensor(-8.5890, device='cuda:0', grad_fn=<NegBackward0>), tensor(-86.5642, device='cuda:0', grad_fn=<AddBackward0>)]\n",
      "tensor(-138.1539, device='cuda:0', grad_fn=<NegBackward0>) [tensor(-37.5092, device='cuda:0', grad_fn=<NegBackward0>), tensor(-10.5800, device='cuda:0', grad_fn=<NegBackward0>), tensor(-90.0647, device='cuda:0', grad_fn=<AddBackward0>)]\n",
      "4.845645051740756\n",
      "tensor(-132.4656, device='cuda:0', grad_fn=<NegBackward0>) [tensor(-37.4921, device='cuda:0', grad_fn=<NegBackward0>), tensor(-8.1155, device='cuda:0', grad_fn=<NegBackward0>), tensor(-86.8580, device='cuda:0', grad_fn=<AddBackward0>)]\n",
      "tensor(-136.7930, device='cuda:0', grad_fn=<NegBackward0>) [tensor(-37.4921, device='cuda:0', grad_fn=<NegBackward0>), tensor(-9.6762, device='cuda:0', grad_fn=<NegBackward0>), tensor(-89.6247, device='cuda:0', grad_fn=<AddBackward0>)]\n",
      "4.288428943002391\n",
      "tensor(-129.3212, device='cuda:0', grad_fn=<NegBackward0>) [tensor(-37.6410, device='cuda:0', grad_fn=<NegBackward0>), tensor(-7.8611, device='cuda:0', grad_fn=<NegBackward0>), tensor(-83.8192, device='cuda:0', grad_fn=<AddBackward0>)]\n",
      "tensor(-133.3972, device='cuda:0', grad_fn=<NegBackward0>) [tensor(-37.6410, device='cuda:0', grad_fn=<NegBackward0>), tensor(-9.1938, device='cuda:0', grad_fn=<NegBackward0>), tensor(-86.5624, device='cuda:0', grad_fn=<AddBackward0>)]\n",
      "4.509719804340728\n",
      "tensor(-132.6549, device='cuda:0', grad_fn=<NegBackward0>) [tensor(-37.6770, device='cuda:0', grad_fn=<NegBackward0>), tensor(-7.9129, device='cuda:0', grad_fn=<NegBackward0>), tensor(-87.0650, device='cuda:0', grad_fn=<AddBackward0>)]\n",
      "tensor(-131.5650, device='cuda:0', grad_fn=<NegBackward0>) [tensor(-37.6770, device='cuda:0', grad_fn=<NegBackward0>), tensor(-7.7116, device='cuda:0', grad_fn=<NegBackward0>), tensor(-86.1764, device='cuda:0', grad_fn=<AddBackward0>)]\n",
      "4.278870014320104\n",
      "tensor(-134.1943, device='cuda:0', grad_fn=<NegBackward0>) [tensor(-37.7905, device='cuda:0', grad_fn=<NegBackward0>), tensor(-9.0617, device='cuda:0', grad_fn=<NegBackward0>), tensor(-87.3420, device='cuda:0', grad_fn=<AddBackward0>)]\n",
      "tensor(-132.8035, device='cuda:0', grad_fn=<NegBackward0>) [tensor(-37.7905, device='cuda:0', grad_fn=<NegBackward0>), tensor(-8.2476, device='cuda:0', grad_fn=<NegBackward0>), tensor(-86.7654, device='cuda:0', grad_fn=<AddBackward0>)]\n",
      "4.731552227798604\n",
      "tensor(-135.9159, device='cuda:0', grad_fn=<NegBackward0>) [tensor(-37.8032, device='cuda:0', grad_fn=<NegBackward0>), tensor(-9.9113, device='cuda:0', grad_fn=<NegBackward0>), tensor(-88.2014, device='cuda:0', grad_fn=<AddBackward0>)]\n",
      "tensor(-137.0047, device='cuda:0', grad_fn=<NegBackward0>) [tensor(-37.8032, device='cuda:0', grad_fn=<NegBackward0>), tensor(-9.5261, device='cuda:0', grad_fn=<NegBackward0>), tensor(-89.6754, device='cuda:0', grad_fn=<AddBackward0>)]\n",
      "4.6802553976791135\n",
      "tensor(-134.1649, device='cuda:0', grad_fn=<NegBackward0>) [tensor(-37.7677, device='cuda:0', grad_fn=<NegBackward0>), tensor(-8.5976, device='cuda:0', grad_fn=<NegBackward0>), tensor(-87.7997, device='cuda:0', grad_fn=<AddBackward0>)]\n",
      "tensor(-138.6967, device='cuda:0', grad_fn=<NegBackward0>) [tensor(-37.7677, device='cuda:0', grad_fn=<NegBackward0>), tensor(-9.9056, device='cuda:0', grad_fn=<NegBackward0>), tensor(-91.0234, device='cuda:0', grad_fn=<AddBackward0>)]\n",
      "4.469450413519106\n",
      "tensor(-136.0038, device='cuda:0', grad_fn=<NegBackward0>) [tensor(-37.7441, device='cuda:0', grad_fn=<NegBackward0>), tensor(-9.3917, device='cuda:0', grad_fn=<NegBackward0>), tensor(-88.8680, device='cuda:0', grad_fn=<AddBackward0>)]\n",
      "tensor(-131.8344, device='cuda:0', grad_fn=<NegBackward0>) [tensor(-37.7441, device='cuda:0', grad_fn=<NegBackward0>), tensor(-7.9334, device='cuda:0', grad_fn=<NegBackward0>), tensor(-86.1569, device='cuda:0', grad_fn=<AddBackward0>)]\n",
      "4.517560369790504\n",
      "tensor(-133.1010, device='cuda:0', grad_fn=<NegBackward0>) [tensor(-37.7468, device='cuda:0', grad_fn=<NegBackward0>), tensor(-8.5120, device='cuda:0', grad_fn=<NegBackward0>), tensor(-86.8423, device='cuda:0', grad_fn=<AddBackward0>)]\n",
      "tensor(-137.9106, device='cuda:0', grad_fn=<NegBackward0>) [tensor(-37.7468, device='cuda:0', grad_fn=<NegBackward0>), tensor(-9.9923, device='cuda:0', grad_fn=<NegBackward0>), tensor(-90.1714, device='cuda:0', grad_fn=<AddBackward0>)]\n",
      "4.085514733136216\n",
      "tensor(-136.7605, device='cuda:0', grad_fn=<NegBackward0>) [tensor(-37.6194, device='cuda:0', grad_fn=<NegBackward0>), tensor(-11.2029, device='cuda:0', grad_fn=<NegBackward0>), tensor(-87.9381, device='cuda:0', grad_fn=<AddBackward0>)]\n",
      "tensor(-132.6236, device='cuda:0', grad_fn=<NegBackward0>) [tensor(-37.6194, device='cuda:0', grad_fn=<NegBackward0>), tensor(-9.6342, device='cuda:0', grad_fn=<NegBackward0>), tensor(-85.3701, device='cuda:0', grad_fn=<AddBackward0>)]\n",
      "4.851252498477378\n",
      "tensor(-132.8380, device='cuda:0', grad_fn=<NegBackward0>) [tensor(-37.5571, device='cuda:0', grad_fn=<NegBackward0>), tensor(-7.8657, device='cuda:0', grad_fn=<NegBackward0>), tensor(-87.4153, device='cuda:0', grad_fn=<AddBackward0>)]\n",
      "tensor(-131.6872, device='cuda:0', grad_fn=<NegBackward0>) [tensor(-37.5571, device='cuda:0', grad_fn=<NegBackward0>), tensor(-7.6478, device='cuda:0', grad_fn=<NegBackward0>), tensor(-86.4823, device='cuda:0', grad_fn=<AddBackward0>)]\n",
      "4.933048896354724\n",
      "tensor(-131.9739, device='cuda:0', grad_fn=<NegBackward0>) [tensor(-37.6399, device='cuda:0', grad_fn=<NegBackward0>), tensor(-7.8180, device='cuda:0', grad_fn=<NegBackward0>), tensor(-86.5160, device='cuda:0', grad_fn=<AddBackward0>)]\n",
      "tensor(-138.7484, device='cuda:0', grad_fn=<NegBackward0>) [tensor(-37.6399, device='cuda:0', grad_fn=<NegBackward0>), tensor(-10.2256, device='cuda:0', grad_fn=<NegBackward0>), tensor(-90.8829, device='cuda:0', grad_fn=<AddBackward0>)]\n",
      "4.293323342983305\n",
      "tensor(-133.5589, device='cuda:0', grad_fn=<NegBackward0>) [tensor(-37.6893, device='cuda:0', grad_fn=<NegBackward0>), tensor(-9.0684, device='cuda:0', grad_fn=<NegBackward0>), tensor(-86.8012, device='cuda:0', grad_fn=<AddBackward0>)]\n",
      "tensor(-136.9633, device='cuda:0', grad_fn=<NegBackward0>) [tensor(-37.6893, device='cuda:0', grad_fn=<NegBackward0>), tensor(-10.3173, device='cuda:0', grad_fn=<NegBackward0>), tensor(-88.9567, device='cuda:0', grad_fn=<AddBackward0>)]\n",
      "5.046428311939147\n",
      "tensor(-130.6153, device='cuda:0', grad_fn=<NegBackward0>) [tensor(-37.5997, device='cuda:0', grad_fn=<NegBackward0>), tensor(-7.0566, device='cuda:0', grad_fn=<NegBackward0>), tensor(-85.9590, device='cuda:0', grad_fn=<AddBackward0>)]\n",
      "tensor(-134.3662, device='cuda:0', grad_fn=<NegBackward0>) [tensor(-37.5997, device='cuda:0', grad_fn=<NegBackward0>), tensor(-8.1119, device='cuda:0', grad_fn=<NegBackward0>), tensor(-88.6546, device='cuda:0', grad_fn=<AddBackward0>)]\n",
      "4.642377016277208\n",
      "tensor(-134.4120, device='cuda:0', grad_fn=<NegBackward0>) [tensor(-37.7734, device='cuda:0', grad_fn=<NegBackward0>), tensor(-8.6706, device='cuda:0', grad_fn=<NegBackward0>), tensor(-87.9679, device='cuda:0', grad_fn=<AddBackward0>)]\n",
      "tensor(-133.6149, device='cuda:0', grad_fn=<NegBackward0>) [tensor(-37.7734, device='cuda:0', grad_fn=<NegBackward0>), tensor(-8.7691, device='cuda:0', grad_fn=<NegBackward0>), tensor(-87.0723, device='cuda:0', grad_fn=<AddBackward0>)]\n"
     ]
    },
    {
     "name": "stdout",
     "output_type": "stream",
     "text": [
      "4.501774745002917\n",
      "tensor(-135.5471, device='cuda:0', grad_fn=<NegBackward0>) [tensor(-37.7929, device='cuda:0', grad_fn=<NegBackward0>), tensor(-9.4307, device='cuda:0', grad_fn=<NegBackward0>), tensor(-88.3234, device='cuda:0', grad_fn=<AddBackward0>)]\n",
      "tensor(-134.4012, device='cuda:0', grad_fn=<NegBackward0>) [tensor(-37.7929, device='cuda:0', grad_fn=<NegBackward0>), tensor(-9.5334, device='cuda:0', grad_fn=<NegBackward0>), tensor(-87.0749, device='cuda:0', grad_fn=<AddBackward0>)]\n",
      "4.163649862567925\n",
      "tensor(-136.8041, device='cuda:0', grad_fn=<NegBackward0>) [tensor(-37.7217, device='cuda:0', grad_fn=<NegBackward0>), tensor(-12.0717, device='cuda:0', grad_fn=<NegBackward0>), tensor(-87.0107, device='cuda:0', grad_fn=<AddBackward0>)]\n",
      "tensor(-134.5150, device='cuda:0', grad_fn=<NegBackward0>) [tensor(-37.7217, device='cuda:0', grad_fn=<NegBackward0>), tensor(-10.0048, device='cuda:0', grad_fn=<NegBackward0>), tensor(-86.7885, device='cuda:0', grad_fn=<AddBackward0>)]\n",
      "4.504631390474043\n",
      "tensor(-134.8141, device='cuda:0', grad_fn=<NegBackward0>) [tensor(-37.5874, device='cuda:0', grad_fn=<NegBackward0>), tensor(-9.2627, device='cuda:0', grad_fn=<NegBackward0>), tensor(-87.9640, device='cuda:0', grad_fn=<AddBackward0>)]\n",
      "tensor(-134.4709, device='cuda:0', grad_fn=<NegBackward0>) [tensor(-37.5874, device='cuda:0', grad_fn=<NegBackward0>), tensor(-9.4869, device='cuda:0', grad_fn=<NegBackward0>), tensor(-87.3965, device='cuda:0', grad_fn=<AddBackward0>)]\n",
      "4.5211018098057405\n",
      "tensor(-136.2359, device='cuda:0', grad_fn=<NegBackward0>) [tensor(-37.6370, device='cuda:0', grad_fn=<NegBackward0>), tensor(-9.5984, device='cuda:0', grad_fn=<NegBackward0>), tensor(-89.0005, device='cuda:0', grad_fn=<AddBackward0>)]\n",
      "tensor(-133.9967, device='cuda:0', grad_fn=<NegBackward0>) [tensor(-37.6370, device='cuda:0', grad_fn=<NegBackward0>), tensor(-9.3711, device='cuda:0', grad_fn=<NegBackward0>), tensor(-86.9886, device='cuda:0', grad_fn=<AddBackward0>)]\n",
      "4.591559960335256\n",
      "tensor(-134.0668, device='cuda:0', grad_fn=<NegBackward0>) [tensor(-37.6616, device='cuda:0', grad_fn=<NegBackward0>), tensor(-9.0815, device='cuda:0', grad_fn=<NegBackward0>), tensor(-87.3237, device='cuda:0', grad_fn=<AddBackward0>)]\n",
      "tensor(-133.9886, device='cuda:0', grad_fn=<NegBackward0>) [tensor(-37.6616, device='cuda:0', grad_fn=<NegBackward0>), tensor(-8.6407, device='cuda:0', grad_fn=<NegBackward0>), tensor(-87.6863, device='cuda:0', grad_fn=<AddBackward0>)]\n",
      "4.734651513815408\n",
      "tensor(-137.6219, device='cuda:0', grad_fn=<NegBackward0>) [tensor(-37.8011, device='cuda:0', grad_fn=<NegBackward0>), tensor(-9.5940, device='cuda:0', grad_fn=<NegBackward0>), tensor(-90.2267, device='cuda:0', grad_fn=<AddBackward0>)]\n",
      "tensor(-132.9634, device='cuda:0', grad_fn=<NegBackward0>) [tensor(-37.8011, device='cuda:0', grad_fn=<NegBackward0>), tensor(-8.1366, device='cuda:0', grad_fn=<NegBackward0>), tensor(-87.0257, device='cuda:0', grad_fn=<AddBackward0>)]\n",
      "4.946341957309341\n",
      "tensor(-136.3262, device='cuda:0', grad_fn=<NegBackward0>) [tensor(-37.8664, device='cuda:0', grad_fn=<NegBackward0>), tensor(-8.9475, device='cuda:0', grad_fn=<NegBackward0>), tensor(-89.5122, device='cuda:0', grad_fn=<AddBackward0>)]\n",
      "tensor(-135.8014, device='cuda:0', grad_fn=<NegBackward0>) [tensor(-37.8664, device='cuda:0', grad_fn=<NegBackward0>), tensor(-9.3942, device='cuda:0', grad_fn=<NegBackward0>), tensor(-88.5407, device='cuda:0', grad_fn=<AddBackward0>)]\n",
      "4.3615027846941015\n",
      "tensor(-133.1582, device='cuda:0', grad_fn=<NegBackward0>) [tensor(-37.7923, device='cuda:0', grad_fn=<NegBackward0>), tensor(-8.3960, device='cuda:0', grad_fn=<NegBackward0>), tensor(-86.9699, device='cuda:0', grad_fn=<AddBackward0>)]\n",
      "tensor(-135.1910, device='cuda:0', grad_fn=<NegBackward0>) [tensor(-37.7923, device='cuda:0', grad_fn=<NegBackward0>), tensor(-9.4456, device='cuda:0', grad_fn=<NegBackward0>), tensor(-87.9531, device='cuda:0', grad_fn=<AddBackward0>)]\n",
      "4.871701805297057\n",
      "tensor(-139.8447, device='cuda:0', grad_fn=<NegBackward0>) [tensor(-37.8173, device='cuda:0', grad_fn=<NegBackward0>), tensor(-10.8118, device='cuda:0', grad_fn=<NegBackward0>), tensor(-91.2156, device='cuda:0', grad_fn=<AddBackward0>)]\n",
      "tensor(-132.9457, device='cuda:0', grad_fn=<NegBackward0>) [tensor(-37.8173, device='cuda:0', grad_fn=<NegBackward0>), tensor(-8.1021, device='cuda:0', grad_fn=<NegBackward0>), tensor(-87.0263, device='cuda:0', grad_fn=<AddBackward0>)]\n",
      "4.509764503983926\n",
      "tensor(-134.5224, device='cuda:0', grad_fn=<NegBackward0>) [tensor(-37.9283, device='cuda:0', grad_fn=<NegBackward0>), tensor(-9.0709, device='cuda:0', grad_fn=<NegBackward0>), tensor(-87.5232, device='cuda:0', grad_fn=<AddBackward0>)]\n",
      "tensor(-136.5282, device='cuda:0', grad_fn=<NegBackward0>) [tensor(-37.9283, device='cuda:0', grad_fn=<NegBackward0>), tensor(-9.6240, device='cuda:0', grad_fn=<NegBackward0>), tensor(-88.9758, device='cuda:0', grad_fn=<AddBackward0>)]\n",
      "4.441469407804051\n",
      "tensor(-133.9679, device='cuda:0', grad_fn=<NegBackward0>) [tensor(-37.8765, device='cuda:0', grad_fn=<NegBackward0>), tensor(-9.8558, device='cuda:0', grad_fn=<NegBackward0>), tensor(-86.2357, device='cuda:0', grad_fn=<AddBackward0>)]\n",
      "tensor(-136.5466, device='cuda:0', grad_fn=<NegBackward0>) [tensor(-37.8765, device='cuda:0', grad_fn=<NegBackward0>), tensor(-9.9238, device='cuda:0', grad_fn=<NegBackward0>), tensor(-88.7464, device='cuda:0', grad_fn=<AddBackward0>)]\n",
      "4.34407142422901\n",
      "tensor(-136.2983, device='cuda:0', grad_fn=<NegBackward0>) [tensor(-37.7251, device='cuda:0', grad_fn=<NegBackward0>), tensor(-10.2810, device='cuda:0', grad_fn=<NegBackward0>), tensor(-88.2921, device='cuda:0', grad_fn=<AddBackward0>)]\n",
      "tensor(-135.8959, device='cuda:0', grad_fn=<NegBackward0>) [tensor(-37.7251, device='cuda:0', grad_fn=<NegBackward0>), tensor(-9.4831, device='cuda:0', grad_fn=<NegBackward0>), tensor(-88.6877, device='cuda:0', grad_fn=<AddBackward0>)]\n",
      "4.411913856156873\n",
      "tensor(-133.7424, device='cuda:0', grad_fn=<NegBackward0>) [tensor(-37.7663, device='cuda:0', grad_fn=<NegBackward0>), tensor(-8.2919, device='cuda:0', grad_fn=<NegBackward0>), tensor(-87.6842, device='cuda:0', grad_fn=<AddBackward0>)]\n",
      "tensor(-134.2493, device='cuda:0', grad_fn=<NegBackward0>) [tensor(-37.7663, device='cuda:0', grad_fn=<NegBackward0>), tensor(-8.7473, device='cuda:0', grad_fn=<NegBackward0>), tensor(-87.7358, device='cuda:0', grad_fn=<AddBackward0>)]\n",
      "4.532103647795391\n",
      "tensor(-135.7646, device='cuda:0', grad_fn=<NegBackward0>) [tensor(-37.8155, device='cuda:0', grad_fn=<NegBackward0>), tensor(-9.4461, device='cuda:0', grad_fn=<NegBackward0>), tensor(-88.5031, device='cuda:0', grad_fn=<AddBackward0>)]\n",
      "tensor(-133.7664, device='cuda:0', grad_fn=<NegBackward0>) [tensor(-37.8155, device='cuda:0', grad_fn=<NegBackward0>), tensor(-8.5118, device='cuda:0', grad_fn=<NegBackward0>), tensor(-87.4391, device='cuda:0', grad_fn=<AddBackward0>)]\n",
      "3.930713966128448\n",
      "tensor(-136.4997, device='cuda:0', grad_fn=<NegBackward0>) [tensor(-37.8515, device='cuda:0', grad_fn=<NegBackward0>), tensor(-10.7388, device='cuda:0', grad_fn=<NegBackward0>), tensor(-87.9093, device='cuda:0', grad_fn=<AddBackward0>)]\n",
      "tensor(-136.0736, device='cuda:0', grad_fn=<NegBackward0>) [tensor(-37.8515, device='cuda:0', grad_fn=<NegBackward0>), tensor(-12.4141, device='cuda:0', grad_fn=<NegBackward0>), tensor(-85.8080, device='cuda:0', grad_fn=<AddBackward0>)]\n",
      "4.8343577605263315\n",
      "tensor(-133.6362, device='cuda:0', grad_fn=<NegBackward0>) [tensor(-37.4059, device='cuda:0', grad_fn=<NegBackward0>), tensor(-8.0812, device='cuda:0', grad_fn=<NegBackward0>), tensor(-88.1491, device='cuda:0', grad_fn=<AddBackward0>)]\n",
      "tensor(-138.5190, device='cuda:0', grad_fn=<NegBackward0>) [tensor(-37.4059, device='cuda:0', grad_fn=<NegBackward0>), tensor(-10.4772, device='cuda:0', grad_fn=<NegBackward0>), tensor(-90.6358, device='cuda:0', grad_fn=<AddBackward0>)]\n",
      "5.021923674185724\n",
      "tensor(-133.9068, device='cuda:0', grad_fn=<NegBackward0>) [tensor(-37.4862, device='cuda:0', grad_fn=<NegBackward0>), tensor(-8.4181, device='cuda:0', grad_fn=<NegBackward0>), tensor(-88.0025, device='cuda:0', grad_fn=<AddBackward0>)]\n",
      "tensor(-138.3987, device='cuda:0', grad_fn=<NegBackward0>) [tensor(-37.4862, device='cuda:0', grad_fn=<NegBackward0>), tensor(-10.1042, device='cuda:0', grad_fn=<NegBackward0>), tensor(-90.8083, device='cuda:0', grad_fn=<AddBackward0>)]\n"
     ]
    },
    {
     "name": "stdout",
     "output_type": "stream",
     "text": [
      "99.88244740682956\n",
      "tensor(-127.6125, device='cuda:0', grad_fn=<NegBackward0>) [tensor(-37.6266, device='cuda:0', grad_fn=<NegBackward0>), tensor(-5.2874, device='cuda:0', grad_fn=<NegBackward0>), tensor(-84.6985, device='cuda:0', grad_fn=<AddBackward0>)]\n",
      "tensor(-125.9658, device='cuda:0', grad_fn=<NegBackward0>) [tensor(-37.6266, device='cuda:0', grad_fn=<NegBackward0>), tensor(-4.7085, device='cuda:0', grad_fn=<NegBackward0>), tensor(-83.6307, device='cuda:0', grad_fn=<AddBackward0>)]\n",
      "4.720012311338931\n",
      "tensor(-137.0771, device='cuda:0', grad_fn=<NegBackward0>) [tensor(-37.9050, device='cuda:0', grad_fn=<NegBackward0>), tensor(-9.4106, device='cuda:0', grad_fn=<NegBackward0>), tensor(-89.7614, device='cuda:0', grad_fn=<AddBackward0>)]\n",
      "tensor(-134.5455, device='cuda:0', grad_fn=<NegBackward0>) [tensor(-37.9050, device='cuda:0', grad_fn=<NegBackward0>), tensor(-8.3952, device='cuda:0', grad_fn=<NegBackward0>), tensor(-88.2453, device='cuda:0', grad_fn=<AddBackward0>)]\n",
      "4.169955463217266\n",
      "tensor(-135.5288, device='cuda:0', grad_fn=<NegBackward0>) [tensor(-38.0145, device='cuda:0', grad_fn=<NegBackward0>), tensor(-10.0644, device='cuda:0', grad_fn=<NegBackward0>), tensor(-87.4499, device='cuda:0', grad_fn=<AddBackward0>)]\n",
      "tensor(-133.7039, device='cuda:0', grad_fn=<NegBackward0>) [tensor(-38.0145, device='cuda:0', grad_fn=<NegBackward0>), tensor(-8.6959, device='cuda:0', grad_fn=<NegBackward0>), tensor(-86.9935, device='cuda:0', grad_fn=<AddBackward0>)]\n",
      "3.824414722972073\n",
      "tensor(-133.7253, device='cuda:0', grad_fn=<NegBackward0>) [tensor(-37.8273, device='cuda:0', grad_fn=<NegBackward0>), tensor(-11.1351, device='cuda:0', grad_fn=<NegBackward0>), tensor(-84.7629, device='cuda:0', grad_fn=<AddBackward0>)]\n",
      "tensor(-136.4303, device='cuda:0', grad_fn=<NegBackward0>) [tensor(-37.8273, device='cuda:0', grad_fn=<NegBackward0>), tensor(-11.1297, device='cuda:0', grad_fn=<NegBackward0>), tensor(-87.4733, device='cuda:0', grad_fn=<AddBackward0>)]\n",
      "4.741256865249107\n",
      "tensor(-132.2428, device='cuda:0', grad_fn=<NegBackward0>) [tensor(-37.6363, device='cuda:0', grad_fn=<NegBackward0>), tensor(-7.9662, device='cuda:0', grad_fn=<NegBackward0>), tensor(-86.6402, device='cuda:0', grad_fn=<AddBackward0>)]\n",
      "tensor(-136.4069, device='cuda:0', grad_fn=<NegBackward0>) [tensor(-37.6363, device='cuda:0', grad_fn=<NegBackward0>), tensor(-9.3852, device='cuda:0', grad_fn=<NegBackward0>), tensor(-89.3855, device='cuda:0', grad_fn=<AddBackward0>)]\n",
      "4.7651577526728435\n",
      "tensor(-133.8139, device='cuda:0', grad_fn=<NegBackward0>) [tensor(-37.6506, device='cuda:0', grad_fn=<NegBackward0>), tensor(-8.8261, device='cuda:0', grad_fn=<NegBackward0>), tensor(-87.3372, device='cuda:0', grad_fn=<AddBackward0>)]\n",
      "tensor(-135.1774, device='cuda:0', grad_fn=<NegBackward0>) [tensor(-37.6506, device='cuda:0', grad_fn=<NegBackward0>), tensor(-8.9320, device='cuda:0', grad_fn=<NegBackward0>), tensor(-88.5948, device='cuda:0', grad_fn=<AddBackward0>)]\n",
      "4.411556951110234\n",
      "tensor(-135.8515, device='cuda:0', grad_fn=<NegBackward0>) [tensor(-37.7271, device='cuda:0', grad_fn=<NegBackward0>), tensor(-10.1665, device='cuda:0', grad_fn=<NegBackward0>), tensor(-87.9579, device='cuda:0', grad_fn=<AddBackward0>)]\n",
      "tensor(-134.9185, device='cuda:0', grad_fn=<NegBackward0>) [tensor(-37.7271, device='cuda:0', grad_fn=<NegBackward0>), tensor(-8.8798, device='cuda:0', grad_fn=<NegBackward0>), tensor(-88.3116, device='cuda:0', grad_fn=<AddBackward0>)]\n",
      "4.327563004544356\n",
      "tensor(-136.8144, device='cuda:0', grad_fn=<NegBackward0>) [tensor(-37.8649, device='cuda:0', grad_fn=<NegBackward0>), tensor(-9.7570, device='cuda:0', grad_fn=<NegBackward0>), tensor(-89.1924, device='cuda:0', grad_fn=<AddBackward0>)]\n",
      "tensor(-135.1131, device='cuda:0', grad_fn=<NegBackward0>) [tensor(-37.8649, device='cuda:0', grad_fn=<NegBackward0>), tensor(-9.5198, device='cuda:0', grad_fn=<NegBackward0>), tensor(-87.7283, device='cuda:0', grad_fn=<AddBackward0>)]\n",
      "4.148450524098172\n",
      "tensor(-134.0400, device='cuda:0', grad_fn=<NegBackward0>) [tensor(-37.9209, device='cuda:0', grad_fn=<NegBackward0>), tensor(-9.1836, device='cuda:0', grad_fn=<NegBackward0>), tensor(-86.9355, device='cuda:0', grad_fn=<AddBackward0>)]\n",
      "tensor(-134.6633, device='cuda:0', grad_fn=<NegBackward0>) [tensor(-37.9209, device='cuda:0', grad_fn=<NegBackward0>), tensor(-9.5984, device='cuda:0', grad_fn=<NegBackward0>), tensor(-87.1440, device='cuda:0', grad_fn=<AddBackward0>)]\n",
      "4.677116145042697\n",
      "tensor(-139.3595, device='cuda:0', grad_fn=<NegBackward0>) [tensor(-37.7613, device='cuda:0', grad_fn=<NegBackward0>), tensor(-10.2501, device='cuda:0', grad_fn=<NegBackward0>), tensor(-91.3481, device='cuda:0', grad_fn=<AddBackward0>)]\n",
      "tensor(-138.7803, device='cuda:0', grad_fn=<NegBackward0>) [tensor(-37.7613, device='cuda:0', grad_fn=<NegBackward0>), tensor(-10.4349, device='cuda:0', grad_fn=<NegBackward0>), tensor(-90.5841, device='cuda:0', grad_fn=<AddBackward0>)]\n",
      "4.50734968340281\n",
      "tensor(-134.5169, device='cuda:0', grad_fn=<NegBackward0>) [tensor(-37.7488, device='cuda:0', grad_fn=<NegBackward0>), tensor(-9.4449, device='cuda:0', grad_fn=<NegBackward0>), tensor(-87.3232, device='cuda:0', grad_fn=<AddBackward0>)]\n",
      "tensor(-134.4493, device='cuda:0', grad_fn=<NegBackward0>) [tensor(-37.7488, device='cuda:0', grad_fn=<NegBackward0>), tensor(-8.7875, device='cuda:0', grad_fn=<NegBackward0>), tensor(-87.9130, device='cuda:0', grad_fn=<AddBackward0>)]\n",
      "99.98930620011406\n",
      "tensor(-130.9386, device='cuda:0', grad_fn=<NegBackward0>) [tensor(-37.7878, device='cuda:0', grad_fn=<NegBackward0>), tensor(-6.4638, device='cuda:0', grad_fn=<NegBackward0>), tensor(-86.6870, device='cuda:0', grad_fn=<AddBackward0>)]\n",
      "tensor(-129.3130, device='cuda:0', grad_fn=<NegBackward0>) [tensor(-37.7878, device='cuda:0', grad_fn=<NegBackward0>), tensor(-6.0938, device='cuda:0', grad_fn=<NegBackward0>), tensor(-85.4314, device='cuda:0', grad_fn=<AddBackward0>)]\n",
      "4.682528962745199\n",
      "tensor(-136.1295, device='cuda:0', grad_fn=<NegBackward0>) [tensor(-38.0466, device='cuda:0', grad_fn=<NegBackward0>), tensor(-8.8612, device='cuda:0', grad_fn=<NegBackward0>), tensor(-89.2216, device='cuda:0', grad_fn=<AddBackward0>)]\n",
      "tensor(-137.6428, device='cuda:0', grad_fn=<NegBackward0>) [tensor(-38.0466, device='cuda:0', grad_fn=<NegBackward0>), tensor(-9.7435, device='cuda:0', grad_fn=<NegBackward0>), tensor(-89.8527, device='cuda:0', grad_fn=<AddBackward0>)]\n",
      "4.3925370018987495\n",
      "tensor(-132.8817, device='cuda:0', grad_fn=<NegBackward0>) [tensor(-38.0880, device='cuda:0', grad_fn=<NegBackward0>), tensor(-8.5085, device='cuda:0', grad_fn=<NegBackward0>), tensor(-86.2852, device='cuda:0', grad_fn=<AddBackward0>)]\n",
      "tensor(-133.8674, device='cuda:0', grad_fn=<NegBackward0>) [tensor(-38.0880, device='cuda:0', grad_fn=<NegBackward0>), tensor(-8.9186, device='cuda:0', grad_fn=<NegBackward0>), tensor(-86.8607, device='cuda:0', grad_fn=<AddBackward0>)]\n",
      "4.499968829742403\n",
      "tensor(-137.3539, device='cuda:0', grad_fn=<NegBackward0>) [tensor(-38.0399, device='cuda:0', grad_fn=<NegBackward0>), tensor(-9.6197, device='cuda:0', grad_fn=<NegBackward0>), tensor(-89.6944, device='cuda:0', grad_fn=<AddBackward0>)]\n",
      "tensor(-138.7160, device='cuda:0', grad_fn=<NegBackward0>) [tensor(-38.0399, device='cuda:0', grad_fn=<NegBackward0>), tensor(-9.8432, device='cuda:0', grad_fn=<NegBackward0>), tensor(-90.8329, device='cuda:0', grad_fn=<AddBackward0>)]\n",
      "4.893451406096039\n",
      "tensor(-136.7742, device='cuda:0', grad_fn=<NegBackward0>) [tensor(-37.9760, device='cuda:0', grad_fn=<NegBackward0>), tensor(-9.7186, device='cuda:0', grad_fn=<NegBackward0>), tensor(-89.0797, device='cuda:0', grad_fn=<AddBackward0>)]\n",
      "tensor(-138.6179, device='cuda:0', grad_fn=<NegBackward0>) [tensor(-37.9760, device='cuda:0', grad_fn=<NegBackward0>), tensor(-10.1714, device='cuda:0', grad_fn=<NegBackward0>), tensor(-90.4706, device='cuda:0', grad_fn=<AddBackward0>)]\n",
      "4.489927659550412\n",
      "tensor(-139.8872, device='cuda:0', grad_fn=<NegBackward0>) [tensor(-37.9500, device='cuda:0', grad_fn=<NegBackward0>), tensor(-10.3980, device='cuda:0', grad_fn=<NegBackward0>), tensor(-91.5392, device='cuda:0', grad_fn=<AddBackward0>)]\n",
      "tensor(-132.5201, device='cuda:0', grad_fn=<NegBackward0>) [tensor(-37.9500, device='cuda:0', grad_fn=<NegBackward0>), tensor(-8.0170, device='cuda:0', grad_fn=<NegBackward0>), tensor(-86.5531, device='cuda:0', grad_fn=<AddBackward0>)]\n"
     ]
    },
    {
     "name": "stdout",
     "output_type": "stream",
     "text": [
      "4.30145444204755\n",
      "tensor(-135.7045, device='cuda:0', grad_fn=<NegBackward0>) [tensor(-37.9568, device='cuda:0', grad_fn=<NegBackward0>), tensor(-9.4184, device='cuda:0', grad_fn=<NegBackward0>), tensor(-88.3293, device='cuda:0', grad_fn=<AddBackward0>)]\n",
      "tensor(-137.3748, device='cuda:0', grad_fn=<NegBackward0>) [tensor(-37.9568, device='cuda:0', grad_fn=<NegBackward0>), tensor(-10.7030, device='cuda:0', grad_fn=<NegBackward0>), tensor(-88.7151, device='cuda:0', grad_fn=<AddBackward0>)]\n",
      "4.586131525026039\n",
      "tensor(-135.5970, device='cuda:0', grad_fn=<NegBackward0>) [tensor(-37.8755, device='cuda:0', grad_fn=<NegBackward0>), tensor(-9.4705, device='cuda:0', grad_fn=<NegBackward0>), tensor(-88.2510, device='cuda:0', grad_fn=<AddBackward0>)]\n",
      "tensor(-135.6656, device='cuda:0', grad_fn=<NegBackward0>) [tensor(-37.8755, device='cuda:0', grad_fn=<NegBackward0>), tensor(-9.4358, device='cuda:0', grad_fn=<NegBackward0>), tensor(-88.3543, device='cuda:0', grad_fn=<AddBackward0>)]\n",
      "4.713232633233263\n",
      "tensor(-134.9722, device='cuda:0', grad_fn=<NegBackward0>) [tensor(-37.8572, device='cuda:0', grad_fn=<NegBackward0>), tensor(-9.1444, device='cuda:0', grad_fn=<NegBackward0>), tensor(-87.9706, device='cuda:0', grad_fn=<AddBackward0>)]\n",
      "tensor(-134.6685, device='cuda:0', grad_fn=<NegBackward0>) [tensor(-37.8572, device='cuda:0', grad_fn=<NegBackward0>), tensor(-8.9063, device='cuda:0', grad_fn=<NegBackward0>), tensor(-87.9051, device='cuda:0', grad_fn=<AddBackward0>)]\n",
      "4.469200122922623\n",
      "tensor(-137.5480, device='cuda:0', grad_fn=<NegBackward0>) [tensor(-37.8939, device='cuda:0', grad_fn=<NegBackward0>), tensor(-10.8045, device='cuda:0', grad_fn=<NegBackward0>), tensor(-88.8495, device='cuda:0', grad_fn=<AddBackward0>)]\n",
      "tensor(-136.8546, device='cuda:0', grad_fn=<NegBackward0>) [tensor(-37.8939, device='cuda:0', grad_fn=<NegBackward0>), tensor(-9.6555, device='cuda:0', grad_fn=<NegBackward0>), tensor(-89.3052, device='cuda:0', grad_fn=<AddBackward0>)]\n",
      "4.462844588603331\n",
      "tensor(-133.7384, device='cuda:0', grad_fn=<NegBackward0>) [tensor(-37.8374, device='cuda:0', grad_fn=<NegBackward0>), tensor(-8.3326, device='cuda:0', grad_fn=<NegBackward0>), tensor(-87.5683, device='cuda:0', grad_fn=<AddBackward0>)]\n",
      "tensor(-136.5481, device='cuda:0', grad_fn=<NegBackward0>) [tensor(-37.8374, device='cuda:0', grad_fn=<NegBackward0>), tensor(-9.7808, device='cuda:0', grad_fn=<NegBackward0>), tensor(-88.9298, device='cuda:0', grad_fn=<AddBackward0>)]\n",
      "4.608780083290731\n",
      "tensor(-135.9623, device='cuda:0', grad_fn=<NegBackward0>) [tensor(-37.8713, device='cuda:0', grad_fn=<NegBackward0>), tensor(-9.3517, device='cuda:0', grad_fn=<NegBackward0>), tensor(-88.7393, device='cuda:0', grad_fn=<AddBackward0>)]\n",
      "tensor(-134.4059, device='cuda:0', grad_fn=<NegBackward0>) [tensor(-37.8713, device='cuda:0', grad_fn=<NegBackward0>), tensor(-8.6591, device='cuda:0', grad_fn=<NegBackward0>), tensor(-87.8754, device='cuda:0', grad_fn=<AddBackward0>)]\n",
      "4.939239882714213\n",
      "tensor(-133.8351, device='cuda:0', grad_fn=<NegBackward0>) [tensor(-37.9699, device='cuda:0', grad_fn=<NegBackward0>), tensor(-7.9873, device='cuda:0', grad_fn=<NegBackward0>), tensor(-87.8779, device='cuda:0', grad_fn=<AddBackward0>)]\n",
      "tensor(-133.2021, device='cuda:0', grad_fn=<NegBackward0>) [tensor(-37.9699, device='cuda:0', grad_fn=<NegBackward0>), tensor(-8.0089, device='cuda:0', grad_fn=<NegBackward0>), tensor(-87.2234, device='cuda:0', grad_fn=<AddBackward0>)]\n",
      "4.5639508021835296\n",
      "tensor(-138.3817, device='cuda:0', grad_fn=<NegBackward0>) [tensor(-38.0157, device='cuda:0', grad_fn=<NegBackward0>), tensor(-10.3431, device='cuda:0', grad_fn=<NegBackward0>), tensor(-90.0228, device='cuda:0', grad_fn=<AddBackward0>)]\n",
      "tensor(-136.8304, device='cuda:0', grad_fn=<NegBackward0>) [tensor(-38.0157, device='cuda:0', grad_fn=<NegBackward0>), tensor(-9.6522, device='cuda:0', grad_fn=<NegBackward0>), tensor(-89.1624, device='cuda:0', grad_fn=<AddBackward0>)]\n",
      "5.301747658746983\n",
      "tensor(-133.8886, device='cuda:0', grad_fn=<NegBackward0>) [tensor(-38.0996, device='cuda:0', grad_fn=<NegBackward0>), tensor(-7.6249, device='cuda:0', grad_fn=<NegBackward0>), tensor(-88.1641, device='cuda:0', grad_fn=<AddBackward0>)]\n",
      "tensor(-140.1339, device='cuda:0', grad_fn=<NegBackward0>) [tensor(-38.0996, device='cuda:0', grad_fn=<NegBackward0>), tensor(-10.2641, device='cuda:0', grad_fn=<NegBackward0>), tensor(-91.7703, device='cuda:0', grad_fn=<AddBackward0>)]\n",
      "4.594090365321412\n",
      "tensor(-132.0466, device='cuda:0', grad_fn=<NegBackward0>) [tensor(-38.0316, device='cuda:0', grad_fn=<NegBackward0>), tensor(-7.6077, device='cuda:0', grad_fn=<NegBackward0>), tensor(-86.4073, device='cuda:0', grad_fn=<AddBackward0>)]\n",
      "tensor(-137.5250, device='cuda:0', grad_fn=<NegBackward0>) [tensor(-38.0316, device='cuda:0', grad_fn=<NegBackward0>), tensor(-9.9390, device='cuda:0', grad_fn=<NegBackward0>), tensor(-89.5544, device='cuda:0', grad_fn=<AddBackward0>)]\n",
      "4.675559081885404\n",
      "tensor(-135.3609, device='cuda:0', grad_fn=<NegBackward0>) [tensor(-37.9268, device='cuda:0', grad_fn=<NegBackward0>), tensor(-9.2743, device='cuda:0', grad_fn=<NegBackward0>), tensor(-88.1598, device='cuda:0', grad_fn=<AddBackward0>)]\n",
      "tensor(-132.7665, device='cuda:0', grad_fn=<NegBackward0>) [tensor(-37.9268, device='cuda:0', grad_fn=<NegBackward0>), tensor(-7.7640, device='cuda:0', grad_fn=<NegBackward0>), tensor(-87.0757, device='cuda:0', grad_fn=<AddBackward0>)]\n",
      "4.316274956825221\n",
      "tensor(-138.4394, device='cuda:0', grad_fn=<NegBackward0>) [tensor(-37.9956, device='cuda:0', grad_fn=<NegBackward0>), tensor(-10.7658, device='cuda:0', grad_fn=<NegBackward0>), tensor(-89.6781, device='cuda:0', grad_fn=<AddBackward0>)]\n",
      "tensor(-134.8835, device='cuda:0', grad_fn=<NegBackward0>) [tensor(-37.9956, device='cuda:0', grad_fn=<NegBackward0>), tensor(-9.4191, device='cuda:0', grad_fn=<NegBackward0>), tensor(-87.4688, device='cuda:0', grad_fn=<AddBackward0>)]\n",
      "4.158302925100226\n",
      "tensor(-133.7894, device='cuda:0', grad_fn=<NegBackward0>) [tensor(-38.0032, device='cuda:0', grad_fn=<NegBackward0>), tensor(-8.7613, device='cuda:0', grad_fn=<NegBackward0>), tensor(-87.0249, device='cuda:0', grad_fn=<AddBackward0>)]\n",
      "tensor(-134.0331, device='cuda:0', grad_fn=<NegBackward0>) [tensor(-38.0032, device='cuda:0', grad_fn=<NegBackward0>), tensor(-8.7288, device='cuda:0', grad_fn=<NegBackward0>), tensor(-87.3010, device='cuda:0', grad_fn=<AddBackward0>)]\n",
      "4.299754579387455\n",
      "tensor(-136.6686, device='cuda:0', grad_fn=<NegBackward0>) [tensor(-37.9478, device='cuda:0', grad_fn=<NegBackward0>), tensor(-10.7101, device='cuda:0', grad_fn=<NegBackward0>), tensor(-88.0106, device='cuda:0', grad_fn=<AddBackward0>)]\n",
      "tensor(-138.7960, device='cuda:0', grad_fn=<NegBackward0>) [tensor(-37.9478, device='cuda:0', grad_fn=<NegBackward0>), tensor(-11.5146, device='cuda:0', grad_fn=<NegBackward0>), tensor(-89.3335, device='cuda:0', grad_fn=<AddBackward0>)]\n",
      "4.656630748694463\n",
      "tensor(-134.6328, device='cuda:0', grad_fn=<NegBackward0>) [tensor(-37.7571, device='cuda:0', grad_fn=<NegBackward0>), tensor(-8.7771, device='cuda:0', grad_fn=<NegBackward0>), tensor(-88.0985, device='cuda:0', grad_fn=<AddBackward0>)]\n",
      "tensor(-133.8671, device='cuda:0', grad_fn=<NegBackward0>) [tensor(-37.7571, device='cuda:0', grad_fn=<NegBackward0>), tensor(-9.0489, device='cuda:0', grad_fn=<NegBackward0>), tensor(-87.0611, device='cuda:0', grad_fn=<AddBackward0>)]\n",
      "4.233131453905663\n",
      "tensor(-134.5353, device='cuda:0', grad_fn=<NegBackward0>) [tensor(-37.9099, device='cuda:0', grad_fn=<NegBackward0>), tensor(-10.4890, device='cuda:0', grad_fn=<NegBackward0>), tensor(-86.1364, device='cuda:0', grad_fn=<AddBackward0>)]\n",
      "tensor(-138.1489, device='cuda:0', grad_fn=<NegBackward0>) [tensor(-37.9099, device='cuda:0', grad_fn=<NegBackward0>), tensor(-10.7637, device='cuda:0', grad_fn=<NegBackward0>), tensor(-89.4752, device='cuda:0', grad_fn=<AddBackward0>)]\n",
      "4.282050621414834\n",
      "tensor(-133.8324, device='cuda:0', grad_fn=<NegBackward0>) [tensor(-37.8070, device='cuda:0', grad_fn=<NegBackward0>), tensor(-9.2316, device='cuda:0', grad_fn=<NegBackward0>), tensor(-86.7937, device='cuda:0', grad_fn=<AddBackward0>)]\n",
      "tensor(-139.4556, device='cuda:0', grad_fn=<NegBackward0>) [tensor(-37.8070, device='cuda:0', grad_fn=<NegBackward0>), tensor(-11.4402, device='cuda:0', grad_fn=<NegBackward0>), tensor(-90.2083, device='cuda:0', grad_fn=<AddBackward0>)]\n"
     ]
    },
    {
     "name": "stdout",
     "output_type": "stream",
     "text": [
      "4.473879545670849\n",
      "tensor(-133.8576, device='cuda:0', grad_fn=<NegBackward0>) [tensor(-37.7574, device='cuda:0', grad_fn=<NegBackward0>), tensor(-8.8612, device='cuda:0', grad_fn=<NegBackward0>), tensor(-87.2390, device='cuda:0', grad_fn=<AddBackward0>)]\n",
      "tensor(-135.9343, device='cuda:0', grad_fn=<NegBackward0>) [tensor(-37.7574, device='cuda:0', grad_fn=<NegBackward0>), tensor(-9.6936, device='cuda:0', grad_fn=<NegBackward0>), tensor(-88.4833, device='cuda:0', grad_fn=<AddBackward0>)]\n",
      "4.5200489412140925\n",
      "tensor(-133.6014, device='cuda:0', grad_fn=<NegBackward0>) [tensor(-37.8535, device='cuda:0', grad_fn=<NegBackward0>), tensor(-8.5934, device='cuda:0', grad_fn=<NegBackward0>), tensor(-87.1545, device='cuda:0', grad_fn=<AddBackward0>)]\n",
      "tensor(-136.7220, device='cuda:0', grad_fn=<NegBackward0>) [tensor(-37.8535, device='cuda:0', grad_fn=<NegBackward0>), tensor(-10.3502, device='cuda:0', grad_fn=<NegBackward0>), tensor(-88.5184, device='cuda:0', grad_fn=<AddBackward0>)]\n",
      "4.251993493842348\n",
      "tensor(-132.9455, device='cuda:0', grad_fn=<NegBackward0>) [tensor(-37.7800, device='cuda:0', grad_fn=<NegBackward0>), tensor(-8.7356, device='cuda:0', grad_fn=<NegBackward0>), tensor(-86.4298, device='cuda:0', grad_fn=<AddBackward0>)]\n",
      "tensor(-136.9758, device='cuda:0', grad_fn=<NegBackward0>) [tensor(-37.7800, device='cuda:0', grad_fn=<NegBackward0>), tensor(-11.2842, device='cuda:0', grad_fn=<NegBackward0>), tensor(-87.9116, device='cuda:0', grad_fn=<AddBackward0>)]\n",
      "4.545333187085299\n",
      "tensor(-133.5793, device='cuda:0', grad_fn=<NegBackward0>) [tensor(-37.5510, device='cuda:0', grad_fn=<NegBackward0>), tensor(-9.0503, device='cuda:0', grad_fn=<NegBackward0>), tensor(-86.9780, device='cuda:0', grad_fn=<AddBackward0>)]\n",
      "tensor(-134.3010, device='cuda:0', grad_fn=<NegBackward0>) [tensor(-37.5510, device='cuda:0', grad_fn=<NegBackward0>), tensor(-8.8823, device='cuda:0', grad_fn=<NegBackward0>), tensor(-87.8676, device='cuda:0', grad_fn=<AddBackward0>)]\n",
      "5.124519300142171\n",
      "tensor(-134.9596, device='cuda:0', grad_fn=<NegBackward0>) [tensor(-37.7715, device='cuda:0', grad_fn=<NegBackward0>), tensor(-8.9228, device='cuda:0', grad_fn=<NegBackward0>), tensor(-88.2654, device='cuda:0', grad_fn=<AddBackward0>)]\n",
      "tensor(-136.7575, device='cuda:0', grad_fn=<NegBackward0>) [tensor(-37.7715, device='cuda:0', grad_fn=<NegBackward0>), tensor(-9.2580, device='cuda:0', grad_fn=<NegBackward0>), tensor(-89.7281, device='cuda:0', grad_fn=<AddBackward0>)]\n",
      "4.3917253928695175\n",
      "tensor(-135.8543, device='cuda:0', grad_fn=<NegBackward0>) [tensor(-38.0027, device='cuda:0', grad_fn=<NegBackward0>), tensor(-9.3657, device='cuda:0', grad_fn=<NegBackward0>), tensor(-88.4860, device='cuda:0', grad_fn=<AddBackward0>)]\n",
      "tensor(-135.4797, device='cuda:0', grad_fn=<NegBackward0>) [tensor(-38.0027, device='cuda:0', grad_fn=<NegBackward0>), tensor(-9.9761, device='cuda:0', grad_fn=<NegBackward0>), tensor(-87.5009, device='cuda:0', grad_fn=<AddBackward0>)]\n",
      "4.699318328939577\n",
      "tensor(-137.4514, device='cuda:0', grad_fn=<NegBackward0>) [tensor(-37.9845, device='cuda:0', grad_fn=<NegBackward0>), tensor(-9.5585, device='cuda:0', grad_fn=<NegBackward0>), tensor(-89.9083, device='cuda:0', grad_fn=<AddBackward0>)]\n",
      "tensor(-136.2815, device='cuda:0', grad_fn=<NegBackward0>) [tensor(-37.9845, device='cuda:0', grad_fn=<NegBackward0>), tensor(-9.4708, device='cuda:0', grad_fn=<NegBackward0>), tensor(-88.8262, device='cuda:0', grad_fn=<AddBackward0>)]\n",
      "4.319890208299518\n",
      "tensor(-133.4450, device='cuda:0', grad_fn=<NegBackward0>) [tensor(-38.0245, device='cuda:0', grad_fn=<NegBackward0>), tensor(-9.0363, device='cuda:0', grad_fn=<NegBackward0>), tensor(-86.3842, device='cuda:0', grad_fn=<AddBackward0>)]\n",
      "tensor(-138.6693, device='cuda:0', grad_fn=<NegBackward0>) [tensor(-38.0245, device='cuda:0', grad_fn=<NegBackward0>), tensor(-10.4397, device='cuda:0', grad_fn=<NegBackward0>), tensor(-90.2051, device='cuda:0', grad_fn=<AddBackward0>)]\n",
      "4.327339291013768\n",
      "tensor(-134.4555, device='cuda:0', grad_fn=<NegBackward0>) [tensor(-37.9673, device='cuda:0', grad_fn=<NegBackward0>), tensor(-9.1881, device='cuda:0', grad_fn=<NegBackward0>), tensor(-87.3000, device='cuda:0', grad_fn=<AddBackward0>)]\n",
      "tensor(-138.1204, device='cuda:0', grad_fn=<NegBackward0>) [tensor(-37.9673, device='cuda:0', grad_fn=<NegBackward0>), tensor(-11.0801, device='cuda:0', grad_fn=<NegBackward0>), tensor(-89.0730, device='cuda:0', grad_fn=<AddBackward0>)]\n",
      "4.4484398429129115\n",
      "tensor(-135.8923, device='cuda:0', grad_fn=<NegBackward0>) [tensor(-37.8571, device='cuda:0', grad_fn=<NegBackward0>), tensor(-9.1553, device='cuda:0', grad_fn=<NegBackward0>), tensor(-88.8798, device='cuda:0', grad_fn=<AddBackward0>)]\n",
      "tensor(-133.6013, device='cuda:0', grad_fn=<NegBackward0>) [tensor(-37.8571, device='cuda:0', grad_fn=<NegBackward0>), tensor(-9.1339, device='cuda:0', grad_fn=<NegBackward0>), tensor(-86.6103, device='cuda:0', grad_fn=<AddBackward0>)]\n",
      "4.509762656162533\n",
      "tensor(-132.2809, device='cuda:0', grad_fn=<NegBackward0>) [tensor(-37.9128, device='cuda:0', grad_fn=<NegBackward0>), tensor(-7.5444, device='cuda:0', grad_fn=<NegBackward0>), tensor(-86.8237, device='cuda:0', grad_fn=<AddBackward0>)]\n",
      "tensor(-135.6765, device='cuda:0', grad_fn=<NegBackward0>) [tensor(-37.9128, device='cuda:0', grad_fn=<NegBackward0>), tensor(-10.2527, device='cuda:0', grad_fn=<NegBackward0>), tensor(-87.5110, device='cuda:0', grad_fn=<AddBackward0>)]\n",
      "4.1047284751970405\n",
      "tensor(-133.3664, device='cuda:0', grad_fn=<NegBackward0>) [tensor(-37.8455, device='cuda:0', grad_fn=<NegBackward0>), tensor(-9.3394, device='cuda:0', grad_fn=<NegBackward0>), tensor(-86.1815, device='cuda:0', grad_fn=<AddBackward0>)]\n",
      "tensor(-134.3779, device='cuda:0', grad_fn=<NegBackward0>) [tensor(-37.8455, device='cuda:0', grad_fn=<NegBackward0>), tensor(-9.1992, device='cuda:0', grad_fn=<NegBackward0>), tensor(-87.3332, device='cuda:0', grad_fn=<AddBackward0>)]\n",
      "4.349222179382154\n",
      "tensor(-130.8421, device='cuda:0', grad_fn=<NegBackward0>) [tensor(-37.8810, device='cuda:0', grad_fn=<NegBackward0>), tensor(-7.6567, device='cuda:0', grad_fn=<NegBackward0>), tensor(-85.3045, device='cuda:0', grad_fn=<AddBackward0>)]\n",
      "tensor(-133.6780, device='cuda:0', grad_fn=<NegBackward0>) [tensor(-37.8810, device='cuda:0', grad_fn=<NegBackward0>), tensor(-8.9934, device='cuda:0', grad_fn=<NegBackward0>), tensor(-86.8036, device='cuda:0', grad_fn=<AddBackward0>)]\n",
      "4.570046278824854\n",
      "tensor(-139.4454, device='cuda:0', grad_fn=<NegBackward0>) [tensor(-37.9946, device='cuda:0', grad_fn=<NegBackward0>), tensor(-11.1971, device='cuda:0', grad_fn=<NegBackward0>), tensor(-90.2537, device='cuda:0', grad_fn=<AddBackward0>)]\n",
      "tensor(-137.5492, device='cuda:0', grad_fn=<NegBackward0>) [tensor(-37.9946, device='cuda:0', grad_fn=<NegBackward0>), tensor(-10.4305, device='cuda:0', grad_fn=<NegBackward0>), tensor(-89.1241, device='cuda:0', grad_fn=<AddBackward0>)]\n",
      "4.668622064342363\n",
      "tensor(-135.3975, device='cuda:0', grad_fn=<NegBackward0>) [tensor(-37.9372, device='cuda:0', grad_fn=<NegBackward0>), tensor(-8.9179, device='cuda:0', grad_fn=<NegBackward0>), tensor(-88.5423, device='cuda:0', grad_fn=<AddBackward0>)]\n",
      "tensor(-132.4504, device='cuda:0', grad_fn=<NegBackward0>) [tensor(-37.9372, device='cuda:0', grad_fn=<NegBackward0>), tensor(-7.9186, device='cuda:0', grad_fn=<NegBackward0>), tensor(-86.5945, device='cuda:0', grad_fn=<AddBackward0>)]\n",
      "5.187677486581986\n",
      "tensor(-136.7623, device='cuda:0', grad_fn=<NegBackward0>) [tensor(-38.0265, device='cuda:0', grad_fn=<NegBackward0>), tensor(-8.9992, device='cuda:0', grad_fn=<NegBackward0>), tensor(-89.7366, device='cuda:0', grad_fn=<AddBackward0>)]\n",
      "tensor(-137.4928, device='cuda:0', grad_fn=<NegBackward0>) [tensor(-38.0265, device='cuda:0', grad_fn=<NegBackward0>), tensor(-9.1702, device='cuda:0', grad_fn=<NegBackward0>), tensor(-90.2961, device='cuda:0', grad_fn=<AddBackward0>)]\n",
      "4.980615017792384\n",
      "tensor(-139.5106, device='cuda:0', grad_fn=<NegBackward0>) [tensor(-38.1447, device='cuda:0', grad_fn=<NegBackward0>), tensor(-10.5880, device='cuda:0', grad_fn=<NegBackward0>), tensor(-90.7779, device='cuda:0', grad_fn=<AddBackward0>)]\n",
      "tensor(-130.3242, device='cuda:0', grad_fn=<NegBackward0>) [tensor(-38.1447, device='cuda:0', grad_fn=<NegBackward0>), tensor(-6.7032, device='cuda:0', grad_fn=<NegBackward0>), tensor(-85.4763, device='cuda:0', grad_fn=<AddBackward0>)]\n"
     ]
    },
    {
     "name": "stdout",
     "output_type": "stream",
     "text": [
      "4.145558347530671\n",
      "tensor(-136.9344, device='cuda:0', grad_fn=<NegBackward0>) [tensor(-38.2455, device='cuda:0', grad_fn=<NegBackward0>), tensor(-9.3499, device='cuda:0', grad_fn=<NegBackward0>), tensor(-89.3390, device='cuda:0', grad_fn=<AddBackward0>)]\n",
      "tensor(-136.2080, device='cuda:0', grad_fn=<NegBackward0>) [tensor(-38.2455, device='cuda:0', grad_fn=<NegBackward0>), tensor(-9.4813, device='cuda:0', grad_fn=<NegBackward0>), tensor(-88.4813, device='cuda:0', grad_fn=<AddBackward0>)]\n",
      "5.191161543557647\n",
      "tensor(-134.3461, device='cuda:0', grad_fn=<NegBackward0>) [tensor(-38.1842, device='cuda:0', grad_fn=<NegBackward0>), tensor(-8.3576, device='cuda:0', grad_fn=<NegBackward0>), tensor(-87.8043, device='cuda:0', grad_fn=<AddBackward0>)]\n",
      "tensor(-136.8851, device='cuda:0', grad_fn=<NegBackward0>) [tensor(-38.1842, device='cuda:0', grad_fn=<NegBackward0>), tensor(-8.7858, device='cuda:0', grad_fn=<NegBackward0>), tensor(-89.9151, device='cuda:0', grad_fn=<AddBackward0>)]\n",
      "4.553195045195836\n",
      "tensor(-135.6297, device='cuda:0', grad_fn=<NegBackward0>) [tensor(-38.2046, device='cuda:0', grad_fn=<NegBackward0>), tensor(-9.5698, device='cuda:0', grad_fn=<NegBackward0>), tensor(-87.8554, device='cuda:0', grad_fn=<AddBackward0>)]\n",
      "tensor(-134.4329, device='cuda:0', grad_fn=<NegBackward0>) [tensor(-38.2046, device='cuda:0', grad_fn=<NegBackward0>), tensor(-8.8264, device='cuda:0', grad_fn=<NegBackward0>), tensor(-87.4020, device='cuda:0', grad_fn=<AddBackward0>)]\n",
      "4.358079922499484\n",
      "tensor(-136.8653, device='cuda:0', grad_fn=<NegBackward0>) [tensor(-38.1651, device='cuda:0', grad_fn=<NegBackward0>), tensor(-10.4004, device='cuda:0', grad_fn=<NegBackward0>), tensor(-88.2998, device='cuda:0', grad_fn=<AddBackward0>)]\n",
      "tensor(-139.9863, device='cuda:0', grad_fn=<NegBackward0>) [tensor(-38.1651, device='cuda:0', grad_fn=<NegBackward0>), tensor(-11.7883, device='cuda:0', grad_fn=<NegBackward0>), tensor(-90.0328, device='cuda:0', grad_fn=<AddBackward0>)]\n",
      "4.672977906280265\n",
      "tensor(-135.8186, device='cuda:0', grad_fn=<NegBackward0>) [tensor(-37.9763, device='cuda:0', grad_fn=<NegBackward0>), tensor(-8.9877, device='cuda:0', grad_fn=<NegBackward0>), tensor(-88.8547, device='cuda:0', grad_fn=<AddBackward0>)]\n",
      "tensor(-137.6745, device='cuda:0', grad_fn=<NegBackward0>) [tensor(-37.9763, device='cuda:0', grad_fn=<NegBackward0>), tensor(-9.5173, device='cuda:0', grad_fn=<NegBackward0>), tensor(-90.1810, device='cuda:0', grad_fn=<AddBackward0>)]\n",
      "5.049091590903459\n",
      "tensor(-138.3591, device='cuda:0', grad_fn=<NegBackward0>) [tensor(-38.0064, device='cuda:0', grad_fn=<NegBackward0>), tensor(-9.5713, device='cuda:0', grad_fn=<NegBackward0>), tensor(-90.7814, device='cuda:0', grad_fn=<AddBackward0>)]\n",
      "tensor(-135.1552, device='cuda:0', grad_fn=<NegBackward0>) [tensor(-38.0064, device='cuda:0', grad_fn=<NegBackward0>), tensor(-8.5668, device='cuda:0', grad_fn=<NegBackward0>), tensor(-88.5820, device='cuda:0', grad_fn=<AddBackward0>)]\n",
      "4.62259230299596\n",
      "tensor(-134.4342, device='cuda:0', grad_fn=<NegBackward0>) [tensor(-38.1285, device='cuda:0', grad_fn=<NegBackward0>), tensor(-8.7790, device='cuda:0', grad_fn=<NegBackward0>), tensor(-87.5267, device='cuda:0', grad_fn=<AddBackward0>)]\n",
      "tensor(-134.1166, device='cuda:0', grad_fn=<NegBackward0>) [tensor(-38.1285, device='cuda:0', grad_fn=<NegBackward0>), tensor(-8.3900, device='cuda:0', grad_fn=<NegBackward0>), tensor(-87.5980, device='cuda:0', grad_fn=<AddBackward0>)]\n",
      "4.284180960921182\n",
      "tensor(-139.4052, device='cuda:0', grad_fn=<NegBackward0>) [tensor(-38.1207, device='cuda:0', grad_fn=<NegBackward0>), tensor(-11.0921, device='cuda:0', grad_fn=<NegBackward0>), tensor(-90.1924, device='cuda:0', grad_fn=<AddBackward0>)]\n",
      "tensor(-135.4248, device='cuda:0', grad_fn=<NegBackward0>) [tensor(-38.1207, device='cuda:0', grad_fn=<NegBackward0>), tensor(-9.5257, device='cuda:0', grad_fn=<NegBackward0>), tensor(-87.7785, device='cuda:0', grad_fn=<AddBackward0>)]\n",
      "4.094255613379428\n",
      "tensor(-133.5891, device='cuda:0', grad_fn=<NegBackward0>) [tensor(-38.1049, device='cuda:0', grad_fn=<NegBackward0>), tensor(-10.0109, device='cuda:0', grad_fn=<NegBackward0>), tensor(-85.4733, device='cuda:0', grad_fn=<AddBackward0>)]\n",
      "tensor(-133.7042, device='cuda:0', grad_fn=<NegBackward0>) [tensor(-38.1049, device='cuda:0', grad_fn=<NegBackward0>), tensor(-9.3118, device='cuda:0', grad_fn=<NegBackward0>), tensor(-86.2874, device='cuda:0', grad_fn=<AddBackward0>)]\n",
      "4.558905557546873\n",
      "tensor(-136.4159, device='cuda:0', grad_fn=<NegBackward0>) [tensor(-38.0741, device='cuda:0', grad_fn=<NegBackward0>), tensor(-9.0788, device='cuda:0', grad_fn=<NegBackward0>), tensor(-89.2631, device='cuda:0', grad_fn=<AddBackward0>)]\n",
      "tensor(-136.9033, device='cuda:0', grad_fn=<NegBackward0>) [tensor(-38.0741, device='cuda:0', grad_fn=<NegBackward0>), tensor(-10.0922, device='cuda:0', grad_fn=<NegBackward0>), tensor(-88.7370, device='cuda:0', grad_fn=<AddBackward0>)]\n",
      "4.3071573814890325\n",
      "tensor(-134.6199, device='cuda:0', grad_fn=<NegBackward0>) [tensor(-37.9994, device='cuda:0', grad_fn=<NegBackward0>), tensor(-9.4526, device='cuda:0', grad_fn=<NegBackward0>), tensor(-87.1680, device='cuda:0', grad_fn=<AddBackward0>)]\n",
      "tensor(-133.4223, device='cuda:0', grad_fn=<NegBackward0>) [tensor(-37.9994, device='cuda:0', grad_fn=<NegBackward0>), tensor(-9.3216, device='cuda:0', grad_fn=<NegBackward0>), tensor(-86.1013, device='cuda:0', grad_fn=<AddBackward0>)]\n",
      "4.605150123966958\n",
      "tensor(-137.5233, device='cuda:0', grad_fn=<NegBackward0>) [tensor(-37.9572, device='cuda:0', grad_fn=<NegBackward0>), tensor(-10.2527, device='cuda:0', grad_fn=<NegBackward0>), tensor(-89.3134, device='cuda:0', grad_fn=<AddBackward0>)]\n",
      "tensor(-135.2515, device='cuda:0', grad_fn=<NegBackward0>) [tensor(-37.9572, device='cuda:0', grad_fn=<NegBackward0>), tensor(-8.8729, device='cuda:0', grad_fn=<NegBackward0>), tensor(-88.4213, device='cuda:0', grad_fn=<AddBackward0>)]\n",
      "4.836514023903739\n",
      "tensor(-139.4049, device='cuda:0', grad_fn=<NegBackward0>) [tensor(-38.0893, device='cuda:0', grad_fn=<NegBackward0>), tensor(-10.2862, device='cuda:0', grad_fn=<NegBackward0>), tensor(-91.0293, device='cuda:0', grad_fn=<AddBackward0>)]\n",
      "tensor(-132.4099, device='cuda:0', grad_fn=<NegBackward0>) [tensor(-38.0893, device='cuda:0', grad_fn=<NegBackward0>), tensor(-7.4256, device='cuda:0', grad_fn=<NegBackward0>), tensor(-86.8950, device='cuda:0', grad_fn=<AddBackward0>)]\n",
      "4.876161328068061\n",
      "tensor(-137.7344, device='cuda:0', grad_fn=<NegBackward0>) [tensor(-38.2456, device='cuda:0', grad_fn=<NegBackward0>), tensor(-9.4885, device='cuda:0', grad_fn=<NegBackward0>), tensor(-90.0003, device='cuda:0', grad_fn=<AddBackward0>)]\n",
      "tensor(-134.0883, device='cuda:0', grad_fn=<NegBackward0>) [tensor(-38.2456, device='cuda:0', grad_fn=<NegBackward0>), tensor(-7.8688, device='cuda:0', grad_fn=<NegBackward0>), tensor(-87.9740, device='cuda:0', grad_fn=<AddBackward0>)]\n",
      "4.814909704347724\n",
      "tensor(-140.2861, device='cuda:0', grad_fn=<NegBackward0>) [tensor(-38.3181, device='cuda:0', grad_fn=<NegBackward0>), tensor(-9.5049, device='cuda:0', grad_fn=<NegBackward0>), tensor(-92.4631, device='cuda:0', grad_fn=<AddBackward0>)]\n",
      "tensor(-135.4158, device='cuda:0', grad_fn=<NegBackward0>) [tensor(-38.3181, device='cuda:0', grad_fn=<NegBackward0>), tensor(-8.4410, device='cuda:0', grad_fn=<NegBackward0>), tensor(-88.6566, device='cuda:0', grad_fn=<AddBackward0>)]\n",
      "4.426586664130283\n",
      "tensor(-133.0205, device='cuda:0', grad_fn=<NegBackward0>) [tensor(-38.3162, device='cuda:0', grad_fn=<NegBackward0>), tensor(-7.7658, device='cuda:0', grad_fn=<NegBackward0>), tensor(-86.9384, device='cuda:0', grad_fn=<AddBackward0>)]\n",
      "tensor(-133.9780, device='cuda:0', grad_fn=<NegBackward0>) [tensor(-38.3162, device='cuda:0', grad_fn=<NegBackward0>), tensor(-8.0508, device='cuda:0', grad_fn=<NegBackward0>), tensor(-87.6110, device='cuda:0', grad_fn=<AddBackward0>)]\n",
      "4.322886943173271\n",
      "tensor(-137.2552, device='cuda:0', grad_fn=<NegBackward0>) [tensor(-38.3310, device='cuda:0', grad_fn=<NegBackward0>), tensor(-9.4253, device='cuda:0', grad_fn=<NegBackward0>), tensor(-89.4989, device='cuda:0', grad_fn=<AddBackward0>)]\n",
      "tensor(-136.9622, device='cuda:0', grad_fn=<NegBackward0>) [tensor(-38.3310, device='cuda:0', grad_fn=<NegBackward0>), tensor(-10.4819, device='cuda:0', grad_fn=<NegBackward0>), tensor(-88.1493, device='cuda:0', grad_fn=<AddBackward0>)]\n"
     ]
    },
    {
     "name": "stdout",
     "output_type": "stream",
     "text": [
      "4.905386920897746\n",
      "tensor(-135.9696, device='cuda:0', grad_fn=<NegBackward0>) [tensor(-38.1158, device='cuda:0', grad_fn=<NegBackward0>), tensor(-8.9385, device='cuda:0', grad_fn=<NegBackward0>), tensor(-88.9153, device='cuda:0', grad_fn=<AddBackward0>)]\n",
      "tensor(-136.7555, device='cuda:0', grad_fn=<NegBackward0>) [tensor(-38.1158, device='cuda:0', grad_fn=<NegBackward0>), tensor(-9.2475, device='cuda:0', grad_fn=<NegBackward0>), tensor(-89.3923, device='cuda:0', grad_fn=<AddBackward0>)]\n",
      "4.835918968073833\n",
      "tensor(-135.5879, device='cuda:0', grad_fn=<NegBackward0>) [tensor(-38.1200, device='cuda:0', grad_fn=<NegBackward0>), tensor(-9.0717, device='cuda:0', grad_fn=<NegBackward0>), tensor(-88.3961, device='cuda:0', grad_fn=<AddBackward0>)]\n",
      "tensor(-139.2229, device='cuda:0', grad_fn=<NegBackward0>) [tensor(-38.1200, device='cuda:0', grad_fn=<NegBackward0>), tensor(-9.7828, device='cuda:0', grad_fn=<NegBackward0>), tensor(-91.3200, device='cuda:0', grad_fn=<AddBackward0>)]\n",
      "4.64814645104654\n",
      "tensor(-139.2328, device='cuda:0', grad_fn=<NegBackward0>) [tensor(-38.1193, device='cuda:0', grad_fn=<NegBackward0>), tensor(-11.0863, device='cuda:0', grad_fn=<NegBackward0>), tensor(-90.0271, device='cuda:0', grad_fn=<AddBackward0>)]\n",
      "tensor(-130.1365, device='cuda:0', grad_fn=<NegBackward0>) [tensor(-38.1193, device='cuda:0', grad_fn=<NegBackward0>), tensor(-7.0860, device='cuda:0', grad_fn=<NegBackward0>), tensor(-84.9312, device='cuda:0', grad_fn=<AddBackward0>)]\n",
      "4.6613529188945595\n",
      "tensor(-135.6751, device='cuda:0', grad_fn=<NegBackward0>) [tensor(-38.1940, device='cuda:0', grad_fn=<NegBackward0>), tensor(-8.5444, device='cuda:0', grad_fn=<NegBackward0>), tensor(-88.9368, device='cuda:0', grad_fn=<AddBackward0>)]\n",
      "tensor(-135.1587, device='cuda:0', grad_fn=<NegBackward0>) [tensor(-38.1940, device='cuda:0', grad_fn=<NegBackward0>), tensor(-8.2754, device='cuda:0', grad_fn=<NegBackward0>), tensor(-88.6893, device='cuda:0', grad_fn=<AddBackward0>)]\n",
      "4.433843785958268\n",
      "tensor(-133.4840, device='cuda:0', grad_fn=<NegBackward0>) [tensor(-38.3005, device='cuda:0', grad_fn=<NegBackward0>), tensor(-8.4364, device='cuda:0', grad_fn=<NegBackward0>), tensor(-86.7471, device='cuda:0', grad_fn=<AddBackward0>)]\n",
      "tensor(-135.7142, device='cuda:0', grad_fn=<NegBackward0>) [tensor(-38.3005, device='cuda:0', grad_fn=<NegBackward0>), tensor(-8.9606, device='cuda:0', grad_fn=<NegBackward0>), tensor(-88.4531, device='cuda:0', grad_fn=<AddBackward0>)]\n",
      "4.785348167859107\n",
      "tensor(-139.4142, device='cuda:0', grad_fn=<NegBackward0>) [tensor(-38.2954, device='cuda:0', grad_fn=<NegBackward0>), tensor(-9.4561, device='cuda:0', grad_fn=<NegBackward0>), tensor(-91.6627, device='cuda:0', grad_fn=<AddBackward0>)]\n",
      "tensor(-139.3891, device='cuda:0', grad_fn=<NegBackward0>) [tensor(-38.2954, device='cuda:0', grad_fn=<NegBackward0>), tensor(-10.4603, device='cuda:0', grad_fn=<NegBackward0>), tensor(-90.6333, device='cuda:0', grad_fn=<AddBackward0>)]\n",
      "99.97080445756613\n",
      "tensor(-128.2951, device='cuda:0', grad_fn=<NegBackward0>) [tensor(-38.2357, device='cuda:0', grad_fn=<NegBackward0>), tensor(-5.0531, device='cuda:0', grad_fn=<NegBackward0>), tensor(-85.0064, device='cuda:0', grad_fn=<AddBackward0>)]\n",
      "tensor(-125.8398, device='cuda:0', grad_fn=<NegBackward0>) [tensor(-38.2357, device='cuda:0', grad_fn=<NegBackward0>), tensor(-4.3597, device='cuda:0', grad_fn=<NegBackward0>), tensor(-83.2444, device='cuda:0', grad_fn=<AddBackward0>)]\n",
      "4.920884733426762\n",
      "tensor(-136.6470, device='cuda:0', grad_fn=<NegBackward0>) [tensor(-38.3952, device='cuda:0', grad_fn=<NegBackward0>), tensor(-8.7524, device='cuda:0', grad_fn=<NegBackward0>), tensor(-89.4994, device='cuda:0', grad_fn=<AddBackward0>)]\n",
      "tensor(-141.3539, device='cuda:0', grad_fn=<NegBackward0>) [tensor(-38.3952, device='cuda:0', grad_fn=<NegBackward0>), tensor(-10.8248, device='cuda:0', grad_fn=<NegBackward0>), tensor(-92.1339, device='cuda:0', grad_fn=<AddBackward0>)]\n",
      "4.224143259150578\n",
      "tensor(-137.6087, device='cuda:0', grad_fn=<NegBackward0>) [tensor(-38.3046, device='cuda:0', grad_fn=<NegBackward0>), tensor(-11.7954, device='cuda:0', grad_fn=<NegBackward0>), tensor(-87.5087, device='cuda:0', grad_fn=<AddBackward0>)]\n",
      "tensor(-137.1108, device='cuda:0', grad_fn=<NegBackward0>) [tensor(-38.3046, device='cuda:0', grad_fn=<NegBackward0>), tensor(-10.1706, device='cuda:0', grad_fn=<NegBackward0>), tensor(-88.6356, device='cuda:0', grad_fn=<AddBackward0>)]\n",
      "4.5059673264856235\n",
      "tensor(-140.7980, device='cuda:0', grad_fn=<NegBackward0>) [tensor(-38.1581, device='cuda:0', grad_fn=<NegBackward0>), tensor(-10.7383, device='cuda:0', grad_fn=<NegBackward0>), tensor(-91.9016, device='cuda:0', grad_fn=<AddBackward0>)]\n",
      "tensor(-136.9148, device='cuda:0', grad_fn=<NegBackward0>) [tensor(-38.1581, device='cuda:0', grad_fn=<NegBackward0>), tensor(-10.4183, device='cuda:0', grad_fn=<NegBackward0>), tensor(-88.3383, device='cuda:0', grad_fn=<AddBackward0>)]\n",
      "4.877122067284596\n",
      "tensor(-135.0844, device='cuda:0', grad_fn=<NegBackward0>) [tensor(-38.0003, device='cuda:0', grad_fn=<NegBackward0>), tensor(-8.5015, device='cuda:0', grad_fn=<NegBackward0>), tensor(-88.5826, device='cuda:0', grad_fn=<AddBackward0>)]\n",
      "tensor(-135.9508, device='cuda:0', grad_fn=<NegBackward0>) [tensor(-38.0003, device='cuda:0', grad_fn=<NegBackward0>), tensor(-9.1998, device='cuda:0', grad_fn=<NegBackward0>), tensor(-88.7507, device='cuda:0', grad_fn=<AddBackward0>)]\n",
      "4.592019034286933\n",
      "tensor(-136.7255, device='cuda:0', grad_fn=<NegBackward0>) [tensor(-38.0979, device='cuda:0', grad_fn=<NegBackward0>), tensor(-10.3345, device='cuda:0', grad_fn=<NegBackward0>), tensor(-88.2931, device='cuda:0', grad_fn=<AddBackward0>)]\n",
      "tensor(-134.8439, device='cuda:0', grad_fn=<NegBackward0>) [tensor(-38.0979, device='cuda:0', grad_fn=<NegBackward0>), tensor(-9.7680, device='cuda:0', grad_fn=<NegBackward0>), tensor(-86.9780, device='cuda:0', grad_fn=<AddBackward0>)]\n",
      "4.575808776345448\n",
      "tensor(-138.5888, device='cuda:0', grad_fn=<NegBackward0>) [tensor(-38.1156, device='cuda:0', grad_fn=<NegBackward0>), tensor(-10.3431, device='cuda:0', grad_fn=<NegBackward0>), tensor(-90.1301, device='cuda:0', grad_fn=<AddBackward0>)]\n",
      "tensor(-132.8253, device='cuda:0', grad_fn=<NegBackward0>) [tensor(-38.1156, device='cuda:0', grad_fn=<NegBackward0>), tensor(-7.6131, device='cuda:0', grad_fn=<NegBackward0>), tensor(-87.0966, device='cuda:0', grad_fn=<AddBackward0>)]\n",
      "4.714731861266252\n",
      "tensor(-132.0127, device='cuda:0', grad_fn=<NegBackward0>) [tensor(-38.1960, device='cuda:0', grad_fn=<NegBackward0>), tensor(-7.5733, device='cuda:0', grad_fn=<NegBackward0>), tensor(-86.2434, device='cuda:0', grad_fn=<AddBackward0>)]\n",
      "tensor(-131.1519, device='cuda:0', grad_fn=<NegBackward0>) [tensor(-38.1960, device='cuda:0', grad_fn=<NegBackward0>), tensor(-6.8017, device='cuda:0', grad_fn=<NegBackward0>), tensor(-86.1543, device='cuda:0', grad_fn=<AddBackward0>)]\n",
      "4.602861207464712\n",
      "tensor(-136.4718, device='cuda:0', grad_fn=<NegBackward0>) [tensor(-38.2972, device='cuda:0', grad_fn=<NegBackward0>), tensor(-9.3901, device='cuda:0', grad_fn=<NegBackward0>), tensor(-88.7844, device='cuda:0', grad_fn=<AddBackward0>)]\n",
      "tensor(-139.4743, device='cuda:0', grad_fn=<NegBackward0>) [tensor(-38.2972, device='cuda:0', grad_fn=<NegBackward0>), tensor(-10.0715, device='cuda:0', grad_fn=<NegBackward0>), tensor(-91.1055, device='cuda:0', grad_fn=<AddBackward0>)]\n",
      "4.60499246514108\n",
      "tensor(-138.7228, device='cuda:0', grad_fn=<NegBackward0>) [tensor(-38.2872, device='cuda:0', grad_fn=<NegBackward0>), tensor(-10.0050, device='cuda:0', grad_fn=<NegBackward0>), tensor(-90.4307, device='cuda:0', grad_fn=<AddBackward0>)]\n",
      "tensor(-135.0693, device='cuda:0', grad_fn=<NegBackward0>) [tensor(-38.2872, device='cuda:0', grad_fn=<NegBackward0>), tensor(-9.2952, device='cuda:0', grad_fn=<NegBackward0>), tensor(-87.4870, device='cuda:0', grad_fn=<AddBackward0>)]\n",
      "4.305027899045881\n",
      "tensor(-138.0714, device='cuda:0', grad_fn=<NegBackward0>) [tensor(-38.1876, device='cuda:0', grad_fn=<NegBackward0>), tensor(-11.0644, device='cuda:0', grad_fn=<NegBackward0>), tensor(-88.8194, device='cuda:0', grad_fn=<AddBackward0>)]\n",
      "tensor(-137.4449, device='cuda:0', grad_fn=<NegBackward0>) [tensor(-38.1876, device='cuda:0', grad_fn=<NegBackward0>), tensor(-10.1428, device='cuda:0', grad_fn=<NegBackward0>), tensor(-89.1146, device='cuda:0', grad_fn=<AddBackward0>)]\n"
     ]
    },
    {
     "name": "stdout",
     "output_type": "stream",
     "text": [
      "5.644999066072624\n",
      "tensor(-139.6172, device='cuda:0', grad_fn=<NegBackward0>) [tensor(-38.1007, device='cuda:0', grad_fn=<NegBackward0>), tensor(-9.4254, device='cuda:0', grad_fn=<NegBackward0>), tensor(-92.0912, device='cuda:0', grad_fn=<AddBackward0>)]\n",
      "tensor(-135.4495, device='cuda:0', grad_fn=<NegBackward0>) [tensor(-38.1007, device='cuda:0', grad_fn=<NegBackward0>), tensor(-7.9218, device='cuda:0', grad_fn=<NegBackward0>), tensor(-89.4271, device='cuda:0', grad_fn=<AddBackward0>)]\n",
      "4.219093531374525\n",
      "tensor(-138.5962, device='cuda:0', grad_fn=<NegBackward0>) [tensor(-38.2589, device='cuda:0', grad_fn=<NegBackward0>), tensor(-10.6125, device='cuda:0', grad_fn=<NegBackward0>), tensor(-89.7248, device='cuda:0', grad_fn=<AddBackward0>)]\n",
      "tensor(-136.0038, device='cuda:0', grad_fn=<NegBackward0>) [tensor(-38.2589, device='cuda:0', grad_fn=<NegBackward0>), tensor(-9.4757, device='cuda:0', grad_fn=<NegBackward0>), tensor(-88.2692, device='cuda:0', grad_fn=<AddBackward0>)]\n",
      "4.237367290335155\n",
      "tensor(-135.6580, device='cuda:0', grad_fn=<NegBackward0>) [tensor(-38.2052, device='cuda:0', grad_fn=<NegBackward0>), tensor(-9.4512, device='cuda:0', grad_fn=<NegBackward0>), tensor(-88.0016, device='cuda:0', grad_fn=<AddBackward0>)]\n",
      "tensor(-136.2299, device='cuda:0', grad_fn=<NegBackward0>) [tensor(-38.2052, device='cuda:0', grad_fn=<NegBackward0>), tensor(-10.2670, device='cuda:0', grad_fn=<NegBackward0>), tensor(-87.7577, device='cuda:0', grad_fn=<AddBackward0>)]\n",
      "4.549627539318641\n",
      "tensor(-136.3501, device='cuda:0', grad_fn=<NegBackward0>) [tensor(-38.0086, device='cuda:0', grad_fn=<NegBackward0>), tensor(-9.4059, device='cuda:0', grad_fn=<NegBackward0>), tensor(-88.9355, device='cuda:0', grad_fn=<AddBackward0>)]\n",
      "tensor(-135.4375, device='cuda:0', grad_fn=<NegBackward0>) [tensor(-38.0086, device='cuda:0', grad_fn=<NegBackward0>), tensor(-9.2233, device='cuda:0', grad_fn=<NegBackward0>), tensor(-88.2056, device='cuda:0', grad_fn=<AddBackward0>)]\n",
      "4.429953645627492\n",
      "tensor(-137.9442, device='cuda:0', grad_fn=<NegBackward0>) [tensor(-38.1037, device='cuda:0', grad_fn=<NegBackward0>), tensor(-10.6590, device='cuda:0', grad_fn=<NegBackward0>), tensor(-89.1815, device='cuda:0', grad_fn=<AddBackward0>)]\n",
      "tensor(-138.5872, device='cuda:0', grad_fn=<NegBackward0>) [tensor(-38.1037, device='cuda:0', grad_fn=<NegBackward0>), tensor(-10.8414, device='cuda:0', grad_fn=<NegBackward0>), tensor(-89.6422, device='cuda:0', grad_fn=<AddBackward0>)]\n",
      "4.227120841000838\n",
      "tensor(-135.3303, device='cuda:0', grad_fn=<NegBackward0>) [tensor(-38.0912, device='cuda:0', grad_fn=<NegBackward0>), tensor(-10.4807, device='cuda:0', grad_fn=<NegBackward0>), tensor(-86.7583, device='cuda:0', grad_fn=<AddBackward0>)]\n",
      "tensor(-136.2989, device='cuda:0', grad_fn=<NegBackward0>) [tensor(-38.0912, device='cuda:0', grad_fn=<NegBackward0>), tensor(-9.8956, device='cuda:0', grad_fn=<NegBackward0>), tensor(-88.3121, device='cuda:0', grad_fn=<AddBackward0>)]\n",
      "4.8288383194401625\n",
      "tensor(-137.0011, device='cuda:0', grad_fn=<NegBackward0>) [tensor(-38.1428, device='cuda:0', grad_fn=<NegBackward0>), tensor(-9.1810, device='cuda:0', grad_fn=<NegBackward0>), tensor(-89.6773, device='cuda:0', grad_fn=<AddBackward0>)]\n",
      "tensor(-132.1829, device='cuda:0', grad_fn=<NegBackward0>) [tensor(-38.1428, device='cuda:0', grad_fn=<NegBackward0>), tensor(-7.2561, device='cuda:0', grad_fn=<NegBackward0>), tensor(-86.7840, device='cuda:0', grad_fn=<AddBackward0>)]\n",
      "4.651032601191814\n",
      "tensor(-135.2835, device='cuda:0', grad_fn=<NegBackward0>) [tensor(-38.2391, device='cuda:0', grad_fn=<NegBackward0>), tensor(-8.7342, device='cuda:0', grad_fn=<NegBackward0>), tensor(-88.3102, device='cuda:0', grad_fn=<AddBackward0>)]\n",
      "tensor(-134.8728, device='cuda:0', grad_fn=<NegBackward0>) [tensor(-38.2391, device='cuda:0', grad_fn=<NegBackward0>), tensor(-9.0819, device='cuda:0', grad_fn=<NegBackward0>), tensor(-87.5518, device='cuda:0', grad_fn=<AddBackward0>)]\n",
      "4.632029983466191\n",
      "tensor(-133.5987, device='cuda:0', grad_fn=<NegBackward0>) [tensor(-38.2479, device='cuda:0', grad_fn=<NegBackward0>), tensor(-8.0437, device='cuda:0', grad_fn=<NegBackward0>), tensor(-87.3071, device='cuda:0', grad_fn=<AddBackward0>)]\n",
      "tensor(-139.2165, device='cuda:0', grad_fn=<NegBackward0>) [tensor(-38.2479, device='cuda:0', grad_fn=<NegBackward0>), tensor(-10.2282, device='cuda:0', grad_fn=<NegBackward0>), tensor(-90.7404, device='cuda:0', grad_fn=<AddBackward0>)]\n",
      "4.751945916978511\n",
      "tensor(-138.5456, device='cuda:0', grad_fn=<NegBackward0>) [tensor(-38.1534, device='cuda:0', grad_fn=<NegBackward0>), tensor(-9.9108, device='cuda:0', grad_fn=<NegBackward0>), tensor(-90.4815, device='cuda:0', grad_fn=<AddBackward0>)]\n",
      "tensor(-136.6858, device='cuda:0', grad_fn=<NegBackward0>) [tensor(-38.1534, device='cuda:0', grad_fn=<NegBackward0>), tensor(-8.9199, device='cuda:0', grad_fn=<NegBackward0>), tensor(-89.6125, device='cuda:0', grad_fn=<AddBackward0>)]\n",
      "5.057343220442773\n",
      "tensor(-130.5521, device='cuda:0', grad_fn=<NegBackward0>) [tensor(-38.2227, device='cuda:0', grad_fn=<NegBackward0>), tensor(-6.5639, device='cuda:0', grad_fn=<NegBackward0>), tensor(-85.7655, device='cuda:0', grad_fn=<AddBackward0>)]\n",
      "tensor(-136.6651, device='cuda:0', grad_fn=<NegBackward0>) [tensor(-38.2227, device='cuda:0', grad_fn=<NegBackward0>), tensor(-8.7998, device='cuda:0', grad_fn=<NegBackward0>), tensor(-89.6426, device='cuda:0', grad_fn=<AddBackward0>)]\n",
      "4.868954300904592\n",
      "tensor(-135.1064, device='cuda:0', grad_fn=<NegBackward0>) [tensor(-38.2704, device='cuda:0', grad_fn=<NegBackward0>), tensor(-8.2645, device='cuda:0', grad_fn=<NegBackward0>), tensor(-88.5715, device='cuda:0', grad_fn=<AddBackward0>)]\n",
      "tensor(-132.8485, device='cuda:0', grad_fn=<NegBackward0>) [tensor(-38.2704, device='cuda:0', grad_fn=<NegBackward0>), tensor(-7.3563, device='cuda:0', grad_fn=<NegBackward0>), tensor(-87.2219, device='cuda:0', grad_fn=<AddBackward0>)]\n",
      "4.723141359594054\n",
      "tensor(-137.8936, device='cuda:0', grad_fn=<NegBackward0>) [tensor(-38.2975, device='cuda:0', grad_fn=<NegBackward0>), tensor(-8.9500, device='cuda:0', grad_fn=<NegBackward0>), tensor(-90.6460, device='cuda:0', grad_fn=<AddBackward0>)]\n",
      "tensor(-136.0272, device='cuda:0', grad_fn=<NegBackward0>) [tensor(-38.2975, device='cuda:0', grad_fn=<NegBackward0>), tensor(-8.5449, device='cuda:0', grad_fn=<NegBackward0>), tensor(-89.1848, device='cuda:0', grad_fn=<AddBackward0>)]\n",
      "4.953859884104533\n",
      "tensor(-135.2489, device='cuda:0', grad_fn=<NegBackward0>) [tensor(-38.3548, device='cuda:0', grad_fn=<NegBackward0>), tensor(-8.4277, device='cuda:0', grad_fn=<NegBackward0>), tensor(-88.4664, device='cuda:0', grad_fn=<AddBackward0>)]\n",
      "tensor(-135.0342, device='cuda:0', grad_fn=<NegBackward0>) [tensor(-38.3548, device='cuda:0', grad_fn=<NegBackward0>), tensor(-8.1667, device='cuda:0', grad_fn=<NegBackward0>), tensor(-88.5128, device='cuda:0', grad_fn=<AddBackward0>)]\n",
      "4.2652624943693125\n",
      "tensor(-134.8289, device='cuda:0', grad_fn=<NegBackward0>) [tensor(-38.4508, device='cuda:0', grad_fn=<NegBackward0>), tensor(-10.3576, device='cuda:0', grad_fn=<NegBackward0>), tensor(-86.0206, device='cuda:0', grad_fn=<AddBackward0>)]\n",
      "tensor(-137.5883, device='cuda:0', grad_fn=<NegBackward0>) [tensor(-38.4508, device='cuda:0', grad_fn=<NegBackward0>), tensor(-9.5878, device='cuda:0', grad_fn=<NegBackward0>), tensor(-89.5497, device='cuda:0', grad_fn=<AddBackward0>)]\n",
      "4.8308768201399515\n",
      "tensor(-134.8346, device='cuda:0', grad_fn=<NegBackward0>) [tensor(-38.3997, device='cuda:0', grad_fn=<NegBackward0>), tensor(-8.2587, device='cuda:0', grad_fn=<NegBackward0>), tensor(-88.1762, device='cuda:0', grad_fn=<AddBackward0>)]\n",
      "tensor(-133.6206, device='cuda:0', grad_fn=<NegBackward0>) [tensor(-38.3997, device='cuda:0', grad_fn=<NegBackward0>), tensor(-8.0257, device='cuda:0', grad_fn=<NegBackward0>), tensor(-87.1952, device='cuda:0', grad_fn=<AddBackward0>)]\n",
      "4.246374721415759\n",
      "tensor(-135.9716, device='cuda:0', grad_fn=<NegBackward0>) [tensor(-38.4505, device='cuda:0', grad_fn=<NegBackward0>), tensor(-10.9215, device='cuda:0', grad_fn=<NegBackward0>), tensor(-86.5995, device='cuda:0', grad_fn=<AddBackward0>)]\n",
      "tensor(-137.7289, device='cuda:0', grad_fn=<NegBackward0>) [tensor(-38.4505, device='cuda:0', grad_fn=<NegBackward0>), tensor(-10.5120, device='cuda:0', grad_fn=<NegBackward0>), tensor(-88.7664, device='cuda:0', grad_fn=<AddBackward0>)]\n"
     ]
    },
    {
     "name": "stdout",
     "output_type": "stream",
     "text": [
      "4.313897117889177\n",
      "tensor(-132.8077, device='cuda:0', grad_fn=<NegBackward0>) [tensor(-38.2960, device='cuda:0', grad_fn=<NegBackward0>), tensor(-8.3667, device='cuda:0', grad_fn=<NegBackward0>), tensor(-86.1450, device='cuda:0', grad_fn=<AddBackward0>)]\n",
      "tensor(-137.4878, device='cuda:0', grad_fn=<NegBackward0>) [tensor(-38.2960, device='cuda:0', grad_fn=<NegBackward0>), tensor(-10.4107, device='cuda:0', grad_fn=<NegBackward0>), tensor(-88.7810, device='cuda:0', grad_fn=<AddBackward0>)]\n",
      "4.931400019645829\n",
      "tensor(-135.6022, device='cuda:0', grad_fn=<NegBackward0>) [tensor(-38.1288, device='cuda:0', grad_fn=<NegBackward0>), tensor(-8.4076, device='cuda:0', grad_fn=<NegBackward0>), tensor(-89.0658, device='cuda:0', grad_fn=<AddBackward0>)]\n",
      "tensor(-134.6129, device='cuda:0', grad_fn=<NegBackward0>) [tensor(-38.1288, device='cuda:0', grad_fn=<NegBackward0>), tensor(-8.3476, device='cuda:0', grad_fn=<NegBackward0>), tensor(-88.1366, device='cuda:0', grad_fn=<AddBackward0>)]\n",
      "4.975944195813191\n",
      "tensor(-137.0444, device='cuda:0', grad_fn=<NegBackward0>) [tensor(-38.1756, device='cuda:0', grad_fn=<NegBackward0>), tensor(-9.2630, device='cuda:0', grad_fn=<NegBackward0>), tensor(-89.6058, device='cuda:0', grad_fn=<AddBackward0>)]\n",
      "tensor(-136.4113, device='cuda:0', grad_fn=<NegBackward0>) [tensor(-38.1756, device='cuda:0', grad_fn=<NegBackward0>), tensor(-8.7412, device='cuda:0', grad_fn=<NegBackward0>), tensor(-89.4945, device='cuda:0', grad_fn=<AddBackward0>)]\n",
      "4.262824481246686\n",
      "tensor(-135.8695, device='cuda:0', grad_fn=<NegBackward0>) [tensor(-38.2676, device='cuda:0', grad_fn=<NegBackward0>), tensor(-10.4669, device='cuda:0', grad_fn=<NegBackward0>), tensor(-87.1350, device='cuda:0', grad_fn=<AddBackward0>)]\n",
      "tensor(-136.8629, device='cuda:0', grad_fn=<NegBackward0>) [tensor(-38.2676, device='cuda:0', grad_fn=<NegBackward0>), tensor(-9.8384, device='cuda:0', grad_fn=<NegBackward0>), tensor(-88.7569, device='cuda:0', grad_fn=<AddBackward0>)]\n",
      "4.98145243579221\n",
      "tensor(-135.1580, device='cuda:0', grad_fn=<NegBackward0>) [tensor(-38.2846, device='cuda:0', grad_fn=<NegBackward0>), tensor(-8.8300, device='cuda:0', grad_fn=<NegBackward0>), tensor(-88.0434, device='cuda:0', grad_fn=<AddBackward0>)]\n",
      "tensor(-133.7600, device='cuda:0', grad_fn=<NegBackward0>) [tensor(-38.2846, device='cuda:0', grad_fn=<NegBackward0>), tensor(-8.2144, device='cuda:0', grad_fn=<NegBackward0>), tensor(-87.2611, device='cuda:0', grad_fn=<AddBackward0>)]\n",
      "4.503856865420731\n",
      "tensor(-136.8859, device='cuda:0', grad_fn=<NegBackward0>) [tensor(-38.3163, device='cuda:0', grad_fn=<NegBackward0>), tensor(-10.0121, device='cuda:0', grad_fn=<NegBackward0>), tensor(-88.5575, device='cuda:0', grad_fn=<AddBackward0>)]\n",
      "tensor(-137.9044, device='cuda:0', grad_fn=<NegBackward0>) [tensor(-38.3163, device='cuda:0', grad_fn=<NegBackward0>), tensor(-10.3903, device='cuda:0', grad_fn=<NegBackward0>), tensor(-89.1978, device='cuda:0', grad_fn=<AddBackward0>)]\n",
      "4.858803220740308\n",
      "tensor(-131.4715, device='cuda:0', grad_fn=<NegBackward0>) [tensor(-38.1316, device='cuda:0', grad_fn=<NegBackward0>), tensor(-7.0025, device='cuda:0', grad_fn=<NegBackward0>), tensor(-86.3374, device='cuda:0', grad_fn=<AddBackward0>)]\n",
      "tensor(-136.6596, device='cuda:0', grad_fn=<NegBackward0>) [tensor(-38.1316, device='cuda:0', grad_fn=<NegBackward0>), tensor(-8.9793, device='cuda:0', grad_fn=<NegBackward0>), tensor(-89.5488, device='cuda:0', grad_fn=<AddBackward0>)]\n",
      "4.13463468068714\n",
      "tensor(-133.8622, device='cuda:0', grad_fn=<NegBackward0>) [tensor(-38.2398, device='cuda:0', grad_fn=<NegBackward0>), tensor(-8.9352, device='cuda:0', grad_fn=<NegBackward0>), tensor(-86.6871, device='cuda:0', grad_fn=<AddBackward0>)]\n",
      "tensor(-137.0165, device='cuda:0', grad_fn=<NegBackward0>) [tensor(-38.2398, device='cuda:0', grad_fn=<NegBackward0>), tensor(-11.4806, device='cuda:0', grad_fn=<NegBackward0>), tensor(-87.2961, device='cuda:0', grad_fn=<AddBackward0>)]\n",
      "4.452751366281472\n",
      "tensor(-137.9258, device='cuda:0', grad_fn=<NegBackward0>) [tensor(-37.8679, device='cuda:0', grad_fn=<NegBackward0>), tensor(-9.9487, device='cuda:0', grad_fn=<NegBackward0>), tensor(-90.1092, device='cuda:0', grad_fn=<AddBackward0>)]\n",
      "tensor(-135.7007, device='cuda:0', grad_fn=<NegBackward0>) [tensor(-37.8679, device='cuda:0', grad_fn=<NegBackward0>), tensor(-9.8112, device='cuda:0', grad_fn=<NegBackward0>), tensor(-88.0216, device='cuda:0', grad_fn=<AddBackward0>)]\n",
      "4.639974783418267\n",
      "tensor(-132.9382, device='cuda:0', grad_fn=<NegBackward0>) [tensor(-37.8456, device='cuda:0', grad_fn=<NegBackward0>), tensor(-8.3047, device='cuda:0', grad_fn=<NegBackward0>), tensor(-86.7880, device='cuda:0', grad_fn=<AddBackward0>)]\n",
      "tensor(-134.7879, device='cuda:0', grad_fn=<NegBackward0>) [tensor(-37.8456, device='cuda:0', grad_fn=<NegBackward0>), tensor(-9.3290, device='cuda:0', grad_fn=<NegBackward0>), tensor(-87.6133, device='cuda:0', grad_fn=<AddBackward0>)]\n",
      "4.962313689063419\n",
      "tensor(-136.6234, device='cuda:0', grad_fn=<NegBackward0>) [tensor(-37.9729, device='cuda:0', grad_fn=<NegBackward0>), tensor(-8.9109, device='cuda:0', grad_fn=<NegBackward0>), tensor(-89.7396, device='cuda:0', grad_fn=<AddBackward0>)]\n",
      "tensor(-133.2653, device='cuda:0', grad_fn=<NegBackward0>) [tensor(-37.9729, device='cuda:0', grad_fn=<NegBackward0>), tensor(-8.6934, device='cuda:0', grad_fn=<NegBackward0>), tensor(-86.5990, device='cuda:0', grad_fn=<AddBackward0>)]\n",
      "4.634929697967876\n",
      "tensor(-135.2951, device='cuda:0', grad_fn=<NegBackward0>) [tensor(-38.0655, device='cuda:0', grad_fn=<NegBackward0>), tensor(-9.0292, device='cuda:0', grad_fn=<NegBackward0>), tensor(-88.2004, device='cuda:0', grad_fn=<AddBackward0>)]\n",
      "tensor(-133.8689, device='cuda:0', grad_fn=<NegBackward0>) [tensor(-38.0655, device='cuda:0', grad_fn=<NegBackward0>), tensor(-8.2501, device='cuda:0', grad_fn=<NegBackward0>), tensor(-87.5533, device='cuda:0', grad_fn=<AddBackward0>)]\n",
      "4.746088495432309\n",
      "tensor(-136.2890, device='cuda:0', grad_fn=<NegBackward0>) [tensor(-38.2265, device='cuda:0', grad_fn=<NegBackward0>), tensor(-8.8399, device='cuda:0', grad_fn=<NegBackward0>), tensor(-89.2227, device='cuda:0', grad_fn=<AddBackward0>)]\n",
      "tensor(-137.9353, device='cuda:0', grad_fn=<NegBackward0>) [tensor(-38.2265, device='cuda:0', grad_fn=<NegBackward0>), tensor(-9.9247, device='cuda:0', grad_fn=<NegBackward0>), tensor(-89.7842, device='cuda:0', grad_fn=<AddBackward0>)]\n",
      "4.69086613141438\n",
      "tensor(-132.4930, device='cuda:0', grad_fn=<NegBackward0>) [tensor(-38.3154, device='cuda:0', grad_fn=<NegBackward0>), tensor(-7.5099, device='cuda:0', grad_fn=<NegBackward0>), tensor(-86.6676, device='cuda:0', grad_fn=<AddBackward0>)]\n",
      "tensor(-135.0839, device='cuda:0', grad_fn=<NegBackward0>) [tensor(-38.3154, device='cuda:0', grad_fn=<NegBackward0>), tensor(-8.5064, device='cuda:0', grad_fn=<NegBackward0>), tensor(-88.2620, device='cuda:0', grad_fn=<AddBackward0>)]\n",
      "4.465725060278418\n",
      "tensor(-135.0117, device='cuda:0', grad_fn=<NegBackward0>) [tensor(-38.3618, device='cuda:0', grad_fn=<NegBackward0>), tensor(-8.4550, device='cuda:0', grad_fn=<NegBackward0>), tensor(-88.1949, device='cuda:0', grad_fn=<AddBackward0>)]\n",
      "tensor(-137.9172, device='cuda:0', grad_fn=<NegBackward0>) [tensor(-38.3618, device='cuda:0', grad_fn=<NegBackward0>), tensor(-10.0622, device='cuda:0', grad_fn=<NegBackward0>), tensor(-89.4932, device='cuda:0', grad_fn=<AddBackward0>)]\n",
      "5.072462224264912\n",
      "tensor(-135.8388, device='cuda:0', grad_fn=<NegBackward0>) [tensor(-38.2605, device='cuda:0', grad_fn=<NegBackward0>), tensor(-8.5651, device='cuda:0', grad_fn=<NegBackward0>), tensor(-89.0132, device='cuda:0', grad_fn=<AddBackward0>)]\n",
      "tensor(-137.8013, device='cuda:0', grad_fn=<NegBackward0>) [tensor(-38.2605, device='cuda:0', grad_fn=<NegBackward0>), tensor(-9.1461, device='cuda:0', grad_fn=<NegBackward0>), tensor(-90.3946, device='cuda:0', grad_fn=<AddBackward0>)]\n",
      "4.6496991770969816\n",
      "tensor(-134.4155, device='cuda:0', grad_fn=<NegBackward0>) [tensor(-38.2859, device='cuda:0', grad_fn=<NegBackward0>), tensor(-8.5135, device='cuda:0', grad_fn=<NegBackward0>), tensor(-87.6161, device='cuda:0', grad_fn=<AddBackward0>)]\n",
      "tensor(-137.8748, device='cuda:0', grad_fn=<NegBackward0>) [tensor(-38.2859, device='cuda:0', grad_fn=<NegBackward0>), tensor(-9.8231, device='cuda:0', grad_fn=<NegBackward0>), tensor(-89.7658, device='cuda:0', grad_fn=<AddBackward0>)]\n"
     ]
    },
    {
     "name": "stdout",
     "output_type": "stream",
     "text": [
      "4.199236111966814\n",
      "tensor(-134.7102, device='cuda:0', grad_fn=<NegBackward0>) [tensor(-38.3160, device='cuda:0', grad_fn=<NegBackward0>), tensor(-9.0685, device='cuda:0', grad_fn=<NegBackward0>), tensor(-87.3257, device='cuda:0', grad_fn=<AddBackward0>)]\n",
      "tensor(-137.3134, device='cuda:0', grad_fn=<NegBackward0>) [tensor(-38.3160, device='cuda:0', grad_fn=<NegBackward0>), tensor(-10.7778, device='cuda:0', grad_fn=<NegBackward0>), tensor(-88.2196, device='cuda:0', grad_fn=<AddBackward0>)]\n",
      "4.504020855450686\n",
      "tensor(-134.5666, device='cuda:0', grad_fn=<NegBackward0>) [tensor(-38.1189, device='cuda:0', grad_fn=<NegBackward0>), tensor(-8.9377, device='cuda:0', grad_fn=<NegBackward0>), tensor(-87.5100, device='cuda:0', grad_fn=<AddBackward0>)]\n",
      "tensor(-138.3696, device='cuda:0', grad_fn=<NegBackward0>) [tensor(-38.1189, device='cuda:0', grad_fn=<NegBackward0>), tensor(-10.5153, device='cuda:0', grad_fn=<NegBackward0>), tensor(-89.7354, device='cuda:0', grad_fn=<AddBackward0>)]\n",
      "4.594456538988715\n",
      "tensor(-136.8645, device='cuda:0', grad_fn=<NegBackward0>) [tensor(-38.0896, device='cuda:0', grad_fn=<NegBackward0>), tensor(-9.9907, device='cuda:0', grad_fn=<NegBackward0>), tensor(-88.7841, device='cuda:0', grad_fn=<AddBackward0>)]\n",
      "tensor(-137.3600, device='cuda:0', grad_fn=<NegBackward0>) [tensor(-38.0896, device='cuda:0', grad_fn=<NegBackward0>), tensor(-9.7518, device='cuda:0', grad_fn=<NegBackward0>), tensor(-89.5185, device='cuda:0', grad_fn=<AddBackward0>)]\n",
      "4.29608250456177\n",
      "tensor(-140.0730, device='cuda:0', grad_fn=<NegBackward0>) [tensor(-38.1512, device='cuda:0', grad_fn=<NegBackward0>), tensor(-11.9572, device='cuda:0', grad_fn=<NegBackward0>), tensor(-89.9646, device='cuda:0', grad_fn=<AddBackward0>)]\n",
      "tensor(-133.6668, device='cuda:0', grad_fn=<NegBackward0>) [tensor(-38.1512, device='cuda:0', grad_fn=<NegBackward0>), tensor(-8.9894, device='cuda:0', grad_fn=<NegBackward0>), tensor(-86.5263, device='cuda:0', grad_fn=<AddBackward0>)]\n",
      "4.766131036804155\n",
      "tensor(-137.8860, device='cuda:0', grad_fn=<NegBackward0>) [tensor(-38.2358, device='cuda:0', grad_fn=<NegBackward0>), tensor(-9.4449, device='cuda:0', grad_fn=<NegBackward0>), tensor(-90.2052, device='cuda:0', grad_fn=<AddBackward0>)]\n",
      "tensor(-136.5630, device='cuda:0', grad_fn=<NegBackward0>) [tensor(-38.2358, device='cuda:0', grad_fn=<NegBackward0>), tensor(-8.9446, device='cuda:0', grad_fn=<NegBackward0>), tensor(-89.3826, device='cuda:0', grad_fn=<AddBackward0>)]\n",
      "4.6786425052811635\n",
      "tensor(-136.7150, device='cuda:0', grad_fn=<NegBackward0>) [tensor(-38.2807, device='cuda:0', grad_fn=<NegBackward0>), tensor(-9.0981, device='cuda:0', grad_fn=<NegBackward0>), tensor(-89.3362, device='cuda:0', grad_fn=<AddBackward0>)]\n",
      "tensor(-130.7578, device='cuda:0', grad_fn=<NegBackward0>) [tensor(-38.2807, device='cuda:0', grad_fn=<NegBackward0>), tensor(-7.0710, device='cuda:0', grad_fn=<NegBackward0>), tensor(-85.4061, device='cuda:0', grad_fn=<AddBackward0>)]\n",
      "5.016459110036848\n",
      "tensor(-136.4087, device='cuda:0', grad_fn=<NegBackward0>) [tensor(-38.4069, device='cuda:0', grad_fn=<NegBackward0>), tensor(-8.6297, device='cuda:0', grad_fn=<NegBackward0>), tensor(-89.3721, device='cuda:0', grad_fn=<AddBackward0>)]\n",
      "tensor(-137.3469, device='cuda:0', grad_fn=<NegBackward0>) [tensor(-38.4069, device='cuda:0', grad_fn=<NegBackward0>), tensor(-8.9372, device='cuda:0', grad_fn=<NegBackward0>), tensor(-90.0028, device='cuda:0', grad_fn=<AddBackward0>)]\n",
      "4.793148203955524\n",
      "tensor(-136.3185, device='cuda:0', grad_fn=<NegBackward0>) [tensor(-38.4873, device='cuda:0', grad_fn=<NegBackward0>), tensor(-8.5085, device='cuda:0', grad_fn=<NegBackward0>), tensor(-89.3228, device='cuda:0', grad_fn=<AddBackward0>)]\n",
      "tensor(-137.8467, device='cuda:0', grad_fn=<NegBackward0>) [tensor(-38.4873, device='cuda:0', grad_fn=<NegBackward0>), tensor(-9.2350, device='cuda:0', grad_fn=<NegBackward0>), tensor(-90.1244, device='cuda:0', grad_fn=<AddBackward0>)]\n",
      "4.691973395182242\n",
      "tensor(-136.1679, device='cuda:0', grad_fn=<NegBackward0>) [tensor(-38.5080, device='cuda:0', grad_fn=<NegBackward0>), tensor(-9.3947, device='cuda:0', grad_fn=<NegBackward0>), tensor(-88.2653, device='cuda:0', grad_fn=<AddBackward0>)]\n",
      "tensor(-133.0627, device='cuda:0', grad_fn=<NegBackward0>) [tensor(-38.5080, device='cuda:0', grad_fn=<NegBackward0>), tensor(-7.6625, device='cuda:0', grad_fn=<NegBackward0>), tensor(-86.8923, device='cuda:0', grad_fn=<AddBackward0>)]\n",
      "4.649102882754426\n",
      "tensor(-138.8382, device='cuda:0', grad_fn=<NegBackward0>) [tensor(-38.5069, device='cuda:0', grad_fn=<NegBackward0>), tensor(-10.0872, device='cuda:0', grad_fn=<NegBackward0>), tensor(-90.2441, device='cuda:0', grad_fn=<AddBackward0>)]\n",
      "tensor(-139.4686, device='cuda:0', grad_fn=<NegBackward0>) [tensor(-38.5069, device='cuda:0', grad_fn=<NegBackward0>), tensor(-11.3353, device='cuda:0', grad_fn=<NegBackward0>), tensor(-89.6263, device='cuda:0', grad_fn=<AddBackward0>)]\n"
     ]
    }
   ],
   "source": [
    "# data selected\n",
    "mean_V = []\n",
    "n_dis2 = 1\n",
    "n_dis = 1\n",
    "mode = 1\n",
    "gam3 = 1\n",
    "mcr_gan_loss = MCRGANloss(gam1=1., gam2=1., gam3=gam3, eps=0.5, numclasses=numclasses, mode=mode, rho=None)\n",
    "loss_V = 0\n",
    "last_V = -1000\n",
    "num_steps = 500\n",
    "lr1 = 1e-3\n",
    "lr2 = 1e-3\n",
    "optD = optim.Adam(netD.parameters(), lr1, betas=(0.5, 0.999))\n",
    "optG = optim.Adam(netG.parameters(), lr2, betas=(0.5, 0.999))\n",
    "meanV_sum = []\n",
    "radius_list = []\n",
    "radius = 5\n",
    "\n",
    "for epoch in range(num_steps):\n",
    "    if 1==1:\n",
    "        \n",
    "        #radius,_ = gs_radius(radius1=0,radius2=100,netD=netD,real_cpu=real_cpu,real_label=real_label,tor=1e-5,n_dis=2,lam=0.618,mode=mode)\n",
    "        #radius_list.append(radius)\n",
    "        #print(radius)\n",
    "\n",
    "        for i in range(n_dis):\n",
    "            netD.zero_grad()\n",
    "            optD.zero_grad()\n",
    "            Z = netD(real_cpu)\n",
    "            net_noise = get_noise(DATASET, device, LABEL)\n",
    "            #radius,_ = gs_radius(radius1=0,radius2=100,netD=netD,real_cpu=real_cpu,real_label=real_label,tor=1e-5,n_dis=2,lam=0.618,mode=mode)\n",
    "            #radius_list.append(radius)\n",
    "            #print(radius)\n",
    "            fed_state_dict = get_netG(netD,netV,net_noise,radius)\n",
    "            netG.load_state_dict(fed_state_dict)\n",
    "            Z_bar = netG(real_cpu)\n",
    "            errD, errD_EC = mcr_gan_loss(Z, Z_bar, real_label, 1, n_dis)\n",
    "            print(errD, errD_EC)\n",
    "            errD.backward()\n",
    "            optD.step()\n",
    "        temp = 0\n",
    "        for j in range(n_dis2):\n",
    "            netG.zero_grad()\n",
    "            optG.zero_grad()\n",
    "            Z = netD(real_cpu)\n",
    "            net_noise = get_noise(DATASET, device, LABEL)\n",
    "            radius,_ = gs_radius(radius1=0,radius2=100,netD=netD,real_cpu=real_cpu,real_label=real_label,tor=1e-5,n_dis=2,lam=0.618,mode=mode)\n",
    "            radius_list.append(radius)\n",
    "            print(radius)\n",
    "            fed_state_dict = get_netG(netD,netV,net_noise,radius)\n",
    "            netG.load_state_dict(fed_state_dict)\n",
    "            Z_bar = netG(real_cpu)\n",
    "            errG, errG_EC = mcr_gan_loss(Z, Z_bar, real_label, n_dis2 - 1, n_dis2)\n",
    "            print(errG, errG_EC)\n",
    "            temp = errG\n",
    "            errG = (-1) * errG\n",
    "            errG.backward()\n",
    "            optG.step()\n",
    "\n",
    "            update_dic = update_netV(netV,netG,net_noise,fed_state_dict,radius)\n",
    "            netV.load_state_dict(update_dic)\n",
    "\n",
    "        loss_V = temp\n",
    "        "
   ]
  },
  {
   "cell_type": "code",
   "execution_count": null,
   "id": "58be30d1",
   "metadata": {},
   "outputs": [],
   "source": [
    "radius_list"
   ]
  },
  {
   "cell_type": "code",
   "execution_count": 7,
   "id": "32f480a3",
   "metadata": {},
   "outputs": [
    {
     "name": "stderr",
     "output_type": "stream",
     "text": [
      "extracting all features from dataset: 100%|██████████████████████████████████████████████| 1/1 [00:06<00:00,  6.24s/it]\n",
      "extracting all features from dataset: 100%|██████████████████████████████████████████████| 1/1 [00:01<00:00,  1.52s/it]\n"
     ]
    },
    {
     "name": "stdout",
     "output_type": "stream",
     "text": [
      "----------------------------\n",
      "Train_z, Test_z\n",
      "PCA: 0.9416\n",
      "SVD: 0.9272\n",
      "NetD, Acc at first 0.9643\n"
     ]
    },
    {
     "name": "stderr",
     "output_type": "stream",
     "text": [
      "extracting all features from dataset: 100%|██████████████████████████████████████████████| 2/2 [00:04<00:00,  2.18s/it]\n",
      "extracting all features from dataset: 100%|██████████████████████████████████████████████| 1/1 [00:01<00:00,  1.83s/it]\n"
     ]
    },
    {
     "name": "stdout",
     "output_type": "stream",
     "text": [
      "----------------------------\n",
      "Train_z, Test_z\n",
      "PCA: 0.9262\n",
      "SVD: 0.9238\n",
      "NetG, Acc at first 0.9542\n"
     ]
    }
   ],
   "source": [
    "#acc at first for NetD\n",
    "train_X, train_Z, train_X_bar, train_Z_bar, train_labels = extract_features2(testloader, netD, netG)\n",
    "\n",
    "test_X, test_Z, test_X_bar, test_Z_bar, test_labels = extract_features2(testloader, netD, netG)\n",
    "\n",
    "\n",
    "print(\"----------------------------\")\n",
    "print(\"Train_z, Test_z\")\n",
    "nearsub(n_comp, train_Z, train_labels, test_Z, test_labels)\n",
    "\n",
    "#acc at first for NetD\n",
    "from sklearn.neighbors import KNeighborsClassifier \n",
    "knn= KNeighborsClassifier(n_neighbors=10) \n",
    "\n",
    "knn.fit(train_Z,train_labels) \n",
    "knn.score(test_Z,test_labels) \n",
    " \n",
    "y_predict = knn.predict(test_Z) \n",
    "\n",
    "count =0\n",
    "for k in range(10000):\n",
    "    if y_predict[k] == test_labels[k]:\n",
    "        count +=1\n",
    "print('NetD, Acc at first',count/10000)\n",
    "Acc_results_D.append(count/10000)\n",
    "\n",
    "#acc at first for NetG\n",
    "train_X, train_Z, train_X_bar, train_Z_bar, train_labels = extract_features2(trainloader, netG, netD)\n",
    "\n",
    "test_X, test_Z, test_X_bar, test_Z_bar, test_labels = extract_features2(testloader, netG, netD)\n",
    "\n",
    "print(\"----------------------------\")\n",
    "print(\"Train_z, Test_z\")\n",
    "nearsub(n_comp, train_Z, train_labels, test_Z, test_labels)\n",
    "\n",
    "\n",
    "#acc at first\n",
    "from sklearn.neighbors import KNeighborsClassifier \n",
    "knn= KNeighborsClassifier(n_neighbors=10) \n",
    "\n",
    "knn.fit(train_Z,train_labels) \n",
    "knn.score(test_Z,test_labels) \n",
    " \n",
    "y_predict = knn.predict(test_Z) \n",
    "\n",
    "count =0\n",
    "for k in range(10000):\n",
    "    if y_predict[k] == test_labels[k]:\n",
    "        count +=1\n",
    "print('NetG, Acc at first',count/10000)\n",
    "Acc_results_G.append(count/10000)\n"
   ]
  },
  {
   "cell_type": "code",
   "execution_count": null,
   "id": "b12f0476",
   "metadata": {},
   "outputs": [],
   "source": [
    "# a broke happens during training hence not repeating training, wait till all finished.\n",
    "torch.save(netD, 'MNIST_NetD-mode1-radius1.pth')\n",
    "torch.save(netV, 'MNIST_NetV-mode1-radius1.pth')\n",
    "torch.save(netG, 'MNIST_NetG-mode1-radius1.pth')"
   ]
  },
  {
   "cell_type": "markdown",
   "id": "9a408310",
   "metadata": {},
   "source": [
    "### 0-2\n",
    "netD = torch.load('MNIST_NetD-mode1-radius1.pth')\n",
    "netV = torch.load('MNIST_NetV-mode1-radius1.pth')\n",
    "netG = torch.load('MNIST_NetG-mode1-radius1.pth')\n",
    "\n",
    "mode = 1\n",
    "gam3 = 1"
   ]
  },
  {
   "cell_type": "code",
   "execution_count": 8,
   "id": "a97aa6a9",
   "metadata": {},
   "outputs": [],
   "source": [
    "#robust testing\n",
    "r_list = [0,0.1,0.2,0.5,1,2,3,4,6,8,10]\n",
    "sample_num = 20"
   ]
  },
  {
   "cell_type": "code",
   "execution_count": 9,
   "id": "5dd88ab6",
   "metadata": {},
   "outputs": [
    {
     "name": "stderr",
     "output_type": "stream",
     "text": [
      "extracting all features from dataset: 100%|██████████████████████████████████████████████| 2/2 [00:04<00:00,  2.16s/it]\n",
      "extracting all features from dataset: 100%|██████████████████████████████████████████████| 1/1 [00:01<00:00,  1.73s/it]\n"
     ]
    },
    {
     "name": "stdout",
     "output_type": "stream",
     "text": [
      "----------------------------\n",
      "Train_z, Test_z\n",
      "PCA: 0.9339\n",
      "SVD: 0.9194\n",
      "NetG_fixD, Acc at sample 1 0.9692\n"
     ]
    },
    {
     "name": "stderr",
     "output_type": "stream",
     "text": [
      "extracting all features from dataset: 100%|██████████████████████████████████████████████| 2/2 [00:04<00:00,  2.14s/it]\n",
      "extracting all features from dataset: 100%|██████████████████████████████████████████████| 1/1 [00:01<00:00,  1.73s/it]\n"
     ]
    },
    {
     "name": "stdout",
     "output_type": "stream",
     "text": [
      "----------------------------\n",
      "Train_z, Test_z\n",
      "PCA: 0.9332\n",
      "SVD: 0.9189\n",
      "NetG_fixD, Acc at sample 2 0.9698\n"
     ]
    },
    {
     "name": "stderr",
     "output_type": "stream",
     "text": [
      "extracting all features from dataset: 100%|██████████████████████████████████████████████| 2/2 [00:04<00:00,  2.22s/it]\n",
      "extracting all features from dataset: 100%|██████████████████████████████████████████████| 1/1 [00:01<00:00,  1.66s/it]\n"
     ]
    },
    {
     "name": "stdout",
     "output_type": "stream",
     "text": [
      "----------------------------\n",
      "Train_z, Test_z\n",
      "PCA: 0.9339\n",
      "SVD: 0.92\n",
      "NetG_fixD, Acc at sample 3 0.9697\n"
     ]
    },
    {
     "name": "stderr",
     "output_type": "stream",
     "text": [
      "extracting all features from dataset: 100%|██████████████████████████████████████████████| 2/2 [00:04<00:00,  2.15s/it]\n",
      "extracting all features from dataset: 100%|██████████████████████████████████████████████| 1/1 [00:01<00:00,  1.68s/it]\n"
     ]
    },
    {
     "name": "stdout",
     "output_type": "stream",
     "text": [
      "----------------------------\n",
      "Train_z, Test_z\n",
      "PCA: 0.9343\n",
      "SVD: 0.9198999999999999\n",
      "NetG_fixD, Acc at sample 4 0.9694\n"
     ]
    },
    {
     "name": "stderr",
     "output_type": "stream",
     "text": [
      "extracting all features from dataset: 100%|██████████████████████████████████████████████| 2/2 [00:04<00:00,  2.21s/it]\n",
      "extracting all features from dataset: 100%|██████████████████████████████████████████████| 1/1 [00:01<00:00,  1.66s/it]\n"
     ]
    },
    {
     "name": "stdout",
     "output_type": "stream",
     "text": [
      "----------------------------\n",
      "Train_z, Test_z\n",
      "PCA: 0.9343\n",
      "SVD: 0.9195\n",
      "NetG_fixD, Acc at sample 5 0.9693\n"
     ]
    },
    {
     "name": "stderr",
     "output_type": "stream",
     "text": [
      "extracting all features from dataset: 100%|██████████████████████████████████████████████| 2/2 [00:04<00:00,  2.11s/it]\n",
      "extracting all features from dataset: 100%|██████████████████████████████████████████████| 1/1 [00:01<00:00,  1.62s/it]\n"
     ]
    },
    {
     "name": "stdout",
     "output_type": "stream",
     "text": [
      "----------------------------\n",
      "Train_z, Test_z\n",
      "PCA: 0.9338\n",
      "SVD: 0.9198999999999999\n",
      "NetG_fixD, Acc at sample 6 0.9697\n"
     ]
    },
    {
     "name": "stderr",
     "output_type": "stream",
     "text": [
      "extracting all features from dataset: 100%|██████████████████████████████████████████████| 2/2 [00:04<00:00,  2.21s/it]\n",
      "extracting all features from dataset: 100%|██████████████████████████████████████████████| 1/1 [00:01<00:00,  1.70s/it]\n"
     ]
    },
    {
     "name": "stdout",
     "output_type": "stream",
     "text": [
      "----------------------------\n",
      "Train_z, Test_z\n",
      "PCA: 0.9336\n",
      "SVD: 0.9191\n",
      "NetG_fixD, Acc at sample 7 0.9698\n"
     ]
    },
    {
     "name": "stderr",
     "output_type": "stream",
     "text": [
      "extracting all features from dataset: 100%|██████████████████████████████████████████████| 2/2 [00:04<00:00,  2.12s/it]\n",
      "extracting all features from dataset: 100%|██████████████████████████████████████████████| 1/1 [00:01<00:00,  1.74s/it]\n"
     ]
    },
    {
     "name": "stdout",
     "output_type": "stream",
     "text": [
      "----------------------------\n",
      "Train_z, Test_z\n",
      "PCA: 0.9337\n",
      "SVD: 0.9201\n",
      "NetG_fixD, Acc at sample 8 0.969\n"
     ]
    },
    {
     "name": "stderr",
     "output_type": "stream",
     "text": [
      "extracting all features from dataset: 100%|██████████████████████████████████████████████| 2/2 [00:04<00:00,  2.21s/it]\n",
      "extracting all features from dataset: 100%|██████████████████████████████████████████████| 1/1 [00:01<00:00,  1.71s/it]\n"
     ]
    },
    {
     "name": "stdout",
     "output_type": "stream",
     "text": [
      "----------------------------\n",
      "Train_z, Test_z\n",
      "PCA: 0.9329\n",
      "SVD: 0.9186\n",
      "NetG_fixD, Acc at sample 9 0.9691\n"
     ]
    },
    {
     "name": "stderr",
     "output_type": "stream",
     "text": [
      "extracting all features from dataset: 100%|██████████████████████████████████████████████| 2/2 [00:04<00:00,  2.16s/it]\n",
      "extracting all features from dataset: 100%|██████████████████████████████████████████████| 1/1 [00:01<00:00,  1.73s/it]\n"
     ]
    },
    {
     "name": "stdout",
     "output_type": "stream",
     "text": [
      "----------------------------\n",
      "Train_z, Test_z\n",
      "PCA: 0.9346\n",
      "SVD: 0.9188000000000001\n",
      "NetG_fixD, Acc at sample 10 0.9688\n"
     ]
    },
    {
     "name": "stderr",
     "output_type": "stream",
     "text": [
      "extracting all features from dataset: 100%|██████████████████████████████████████████████| 2/2 [00:04<00:00,  2.13s/it]\n",
      "extracting all features from dataset: 100%|██████████████████████████████████████████████| 1/1 [00:01<00:00,  1.79s/it]\n"
     ]
    },
    {
     "name": "stdout",
     "output_type": "stream",
     "text": [
      "----------------------------\n",
      "Train_z, Test_z\n",
      "PCA: 0.9341\n",
      "SVD: 0.9191\n",
      "NetG_fixD, Acc at sample 11 0.9697\n"
     ]
    },
    {
     "name": "stderr",
     "output_type": "stream",
     "text": [
      "extracting all features from dataset: 100%|██████████████████████████████████████████████| 2/2 [00:04<00:00,  2.19s/it]\n",
      "extracting all features from dataset: 100%|██████████████████████████████████████████████| 1/1 [00:01<00:00,  1.73s/it]\n"
     ]
    },
    {
     "name": "stdout",
     "output_type": "stream",
     "text": [
      "----------------------------\n",
      "Train_z, Test_z\n",
      "PCA: 0.9339\n",
      "SVD: 0.9194\n",
      "NetG_fixD, Acc at sample 12 0.9694\n"
     ]
    },
    {
     "name": "stderr",
     "output_type": "stream",
     "text": [
      "extracting all features from dataset: 100%|██████████████████████████████████████████████| 2/2 [00:04<00:00,  2.19s/it]\n",
      "extracting all features from dataset: 100%|██████████████████████████████████████████████| 1/1 [00:01<00:00,  1.73s/it]\n"
     ]
    },
    {
     "name": "stdout",
     "output_type": "stream",
     "text": [
      "----------------------------\n",
      "Train_z, Test_z\n",
      "PCA: 0.9342\n",
      "SVD: 0.9194\n",
      "NetG_fixD, Acc at sample 13 0.9694\n"
     ]
    },
    {
     "name": "stderr",
     "output_type": "stream",
     "text": [
      "extracting all features from dataset: 100%|██████████████████████████████████████████████| 2/2 [00:04<00:00,  2.14s/it]\n",
      "extracting all features from dataset: 100%|██████████████████████████████████████████████| 1/1 [00:01<00:00,  1.71s/it]\n"
     ]
    },
    {
     "name": "stdout",
     "output_type": "stream",
     "text": [
      "----------------------------\n",
      "Train_z, Test_z\n",
      "PCA: 0.9339\n",
      "SVD: 0.9189\n",
      "NetG_fixD, Acc at sample 14 0.9694\n"
     ]
    },
    {
     "name": "stderr",
     "output_type": "stream",
     "text": [
      "extracting all features from dataset: 100%|██████████████████████████████████████████████| 2/2 [00:04<00:00,  2.20s/it]\n",
      "extracting all features from dataset: 100%|██████████████████████████████████████████████| 1/1 [00:01<00:00,  1.76s/it]\n"
     ]
    },
    {
     "name": "stdout",
     "output_type": "stream",
     "text": [
      "----------------------------\n",
      "Train_z, Test_z\n",
      "PCA: 0.9328\n",
      "SVD: 0.9198\n",
      "NetG_fixD, Acc at sample 15 0.9699\n"
     ]
    },
    {
     "name": "stderr",
     "output_type": "stream",
     "text": [
      "extracting all features from dataset: 100%|██████████████████████████████████████████████| 2/2 [00:04<00:00,  2.04s/it]\n",
      "extracting all features from dataset: 100%|██████████████████████████████████████████████| 1/1 [00:01<00:00,  1.63s/it]\n"
     ]
    },
    {
     "name": "stdout",
     "output_type": "stream",
     "text": [
      "----------------------------\n",
      "Train_z, Test_z\n",
      "PCA: 0.9339999999999999\n",
      "SVD: 0.9185\n",
      "NetG_fixD, Acc at sample 16 0.9696\n"
     ]
    },
    {
     "name": "stderr",
     "output_type": "stream",
     "text": [
      "extracting all features from dataset: 100%|██████████████████████████████████████████████| 2/2 [00:04<00:00,  2.17s/it]\n",
      "extracting all features from dataset: 100%|██████████████████████████████████████████████| 1/1 [00:01<00:00,  1.46s/it]\n"
     ]
    },
    {
     "name": "stdout",
     "output_type": "stream",
     "text": [
      "----------------------------\n",
      "Train_z, Test_z\n",
      "PCA: 0.9334\n",
      "SVD: 0.9195\n",
      "NetG_fixD, Acc at sample 17 0.9698\n"
     ]
    },
    {
     "name": "stderr",
     "output_type": "stream",
     "text": [
      "extracting all features from dataset: 100%|██████████████████████████████████████████████| 2/2 [00:04<00:00,  2.15s/it]\n",
      "extracting all features from dataset: 100%|██████████████████████████████████████████████| 1/1 [00:01<00:00,  1.69s/it]\n"
     ]
    },
    {
     "name": "stdout",
     "output_type": "stream",
     "text": [
      "----------------------------\n",
      "Train_z, Test_z\n",
      "PCA: 0.9339\n",
      "SVD: 0.9197\n",
      "NetG_fixD, Acc at sample 18 0.9696\n"
     ]
    },
    {
     "name": "stderr",
     "output_type": "stream",
     "text": [
      "extracting all features from dataset: 100%|██████████████████████████████████████████████| 2/2 [00:04<00:00,  2.18s/it]\n",
      "extracting all features from dataset: 100%|██████████████████████████████████████████████| 1/1 [00:01<00:00,  1.71s/it]\n"
     ]
    },
    {
     "name": "stdout",
     "output_type": "stream",
     "text": [
      "----------------------------\n",
      "Train_z, Test_z\n",
      "PCA: 0.9343\n",
      "SVD: 0.9194\n",
      "NetG_fixD, Acc at sample 19 0.9696\n"
     ]
    },
    {
     "name": "stderr",
     "output_type": "stream",
     "text": [
      "extracting all features from dataset: 100%|██████████████████████████████████████████████| 2/2 [00:04<00:00,  2.10s/it]\n",
      "extracting all features from dataset: 100%|██████████████████████████████████████████████| 1/1 [00:01<00:00,  1.78s/it]\n"
     ]
    },
    {
     "name": "stdout",
     "output_type": "stream",
     "text": [
      "----------------------------\n",
      "Train_z, Test_z\n",
      "PCA: 0.9331\n",
      "SVD: 0.9194\n",
      "NetG_fixD, Acc at sample 20 0.9697\n",
      "0.9699 0.9688 0.969495 8.447500000000227e-08\n"
     ]
    }
   ],
   "source": [
    "# sample 20 times of NetG at final radius, NetD is fixed, length 0.1,0.2,0.5,1,2,4,6,8,10,15,20\n",
    "from sklearn.neighbors import KNeighborsClassifier \n",
    "Acc_results_G_sample = []\n",
    "for _ in range(sample_num):\n",
    "    #acc at first\n",
    "    net_noise = get_noise(DATASET, device, LABEL)\n",
    "    fed_state_dict = get_netG(netD,netV,net_noise,r_list[1])\n",
    "    netG.load_state_dict(fed_state_dict)\n",
    "    \n",
    "    train_X, train_Z, train_X_bar, train_Z_bar, train_labels = extract_features2(trainloader, netG, netD)\n",
    "\n",
    "    test_X, test_Z, test_X_bar, test_Z_bar, test_labels = extract_features2(testloader, netG, netD)\n",
    "\n",
    "    print(\"----------------------------\")\n",
    "    print(\"Train_z, Test_z\")\n",
    "    nearsub(n_comp, train_Z, train_labels, test_Z, test_labels)\n",
    "\n",
    "    knn= KNeighborsClassifier(n_neighbors=10) \n",
    "\n",
    "    knn.fit(train_Z,train_labels) \n",
    "    knn.score(test_Z_bar,test_labels) \n",
    "\n",
    "    y_predict = knn.predict(test_Z_bar) \n",
    "\n",
    "    count =0\n",
    "    for k in range(10000):\n",
    "        if y_predict[k] == test_labels[k]:\n",
    "            count +=1\n",
    "    print('NetG_fixD, Acc at sample',_+1,count/10000)\n",
    "    Acc_results_G_sample.append(count/10000)\n",
    "\n",
    "print(max(Acc_results_G_sample),min(Acc_results_G_sample),np.mean(Acc_results_G_sample),np.var(Acc_results_G_sample))"
   ]
  },
  {
   "cell_type": "code",
   "execution_count": 10,
   "id": "05bfe135",
   "metadata": {},
   "outputs": [
    {
     "name": "stderr",
     "output_type": "stream",
     "text": [
      "extracting all features from dataset: 100%|██████████████████████████████████████████████| 2/2 [00:04<00:00,  2.07s/it]\n",
      "extracting all features from dataset: 100%|██████████████████████████████████████████████| 1/1 [00:01<00:00,  1.72s/it]\n"
     ]
    },
    {
     "name": "stdout",
     "output_type": "stream",
     "text": [
      "----------------------------\n",
      "Train_z, Test_z\n",
      "PCA: 0.9342\n",
      "SVD: 0.9186\n",
      "NetG_fixD, Acc at sample 1 0.9696\n"
     ]
    },
    {
     "name": "stderr",
     "output_type": "stream",
     "text": [
      "extracting all features from dataset: 100%|██████████████████████████████████████████████| 2/2 [00:04<00:00,  2.13s/it]\n",
      "extracting all features from dataset: 100%|██████████████████████████████████████████████| 1/1 [00:01<00:00,  1.69s/it]\n"
     ]
    },
    {
     "name": "stdout",
     "output_type": "stream",
     "text": [
      "----------------------------\n",
      "Train_z, Test_z\n",
      "PCA: 0.9329\n",
      "SVD: 0.9171\n",
      "NetG_fixD, Acc at sample 2 0.9696\n"
     ]
    },
    {
     "name": "stderr",
     "output_type": "stream",
     "text": [
      "extracting all features from dataset: 100%|██████████████████████████████████████████████| 2/2 [00:04<00:00,  2.20s/it]\n",
      "extracting all features from dataset: 100%|██████████████████████████████████████████████| 1/1 [00:01<00:00,  1.69s/it]\n"
     ]
    },
    {
     "name": "stdout",
     "output_type": "stream",
     "text": [
      "----------------------------\n",
      "Train_z, Test_z\n",
      "PCA: 0.9333\n",
      "SVD: 0.919\n",
      "NetG_fixD, Acc at sample 3 0.9699\n"
     ]
    },
    {
     "name": "stderr",
     "output_type": "stream",
     "text": [
      "extracting all features from dataset: 100%|██████████████████████████████████████████████| 2/2 [00:04<00:00,  2.16s/it]\n",
      "extracting all features from dataset: 100%|██████████████████████████████████████████████| 1/1 [00:01<00:00,  1.65s/it]\n"
     ]
    },
    {
     "name": "stdout",
     "output_type": "stream",
     "text": [
      "----------------------------\n",
      "Train_z, Test_z\n",
      "PCA: 0.9347\n",
      "SVD: 0.9204\n",
      "NetG_fixD, Acc at sample 4 0.9689\n"
     ]
    },
    {
     "name": "stderr",
     "output_type": "stream",
     "text": [
      "extracting all features from dataset: 100%|██████████████████████████████████████████████| 2/2 [00:04<00:00,  2.20s/it]\n",
      "extracting all features from dataset: 100%|██████████████████████████████████████████████| 1/1 [00:01<00:00,  1.69s/it]\n"
     ]
    },
    {
     "name": "stdout",
     "output_type": "stream",
     "text": [
      "----------------------------\n",
      "Train_z, Test_z\n",
      "PCA: 0.9344\n",
      "SVD: 0.9196\n",
      "NetG_fixD, Acc at sample 5 0.97\n"
     ]
    },
    {
     "name": "stderr",
     "output_type": "stream",
     "text": [
      "extracting all features from dataset: 100%|██████████████████████████████████████████████| 2/2 [00:04<00:00,  2.08s/it]\n",
      "extracting all features from dataset: 100%|██████████████████████████████████████████████| 1/1 [00:01<00:00,  1.74s/it]\n"
     ]
    },
    {
     "name": "stdout",
     "output_type": "stream",
     "text": [
      "----------------------------\n",
      "Train_z, Test_z\n",
      "PCA: 0.9333\n",
      "SVD: 0.9175\n",
      "NetG_fixD, Acc at sample 6 0.9694\n"
     ]
    },
    {
     "name": "stderr",
     "output_type": "stream",
     "text": [
      "extracting all features from dataset: 100%|██████████████████████████████████████████████| 2/2 [00:04<00:00,  2.21s/it]\n",
      "extracting all features from dataset: 100%|██████████████████████████████████████████████| 1/1 [00:01<00:00,  1.72s/it]\n"
     ]
    },
    {
     "name": "stdout",
     "output_type": "stream",
     "text": [
      "----------------------------\n",
      "Train_z, Test_z\n",
      "PCA: 0.9326\n",
      "SVD: 0.9174\n",
      "NetG_fixD, Acc at sample 7 0.9698\n"
     ]
    },
    {
     "name": "stderr",
     "output_type": "stream",
     "text": [
      "extracting all features from dataset: 100%|██████████████████████████████████████████████| 2/2 [00:04<00:00,  2.19s/it]\n",
      "extracting all features from dataset: 100%|██████████████████████████████████████████████| 1/1 [00:01<00:00,  1.73s/it]\n"
     ]
    },
    {
     "name": "stdout",
     "output_type": "stream",
     "text": [
      "----------------------------\n",
      "Train_z, Test_z\n",
      "PCA: 0.9338\n",
      "SVD: 0.9205\n",
      "NetG_fixD, Acc at sample 8 0.9698\n"
     ]
    },
    {
     "name": "stderr",
     "output_type": "stream",
     "text": [
      "extracting all features from dataset: 100%|██████████████████████████████████████████████| 2/2 [00:04<00:00,  2.19s/it]\n",
      "extracting all features from dataset: 100%|██████████████████████████████████████████████| 1/1 [00:01<00:00,  1.71s/it]\n"
     ]
    },
    {
     "name": "stdout",
     "output_type": "stream",
     "text": [
      "----------------------------\n",
      "Train_z, Test_z\n",
      "PCA: 0.9354\n",
      "SVD: 0.9185\n",
      "NetG_fixD, Acc at sample 9 0.9697\n"
     ]
    },
    {
     "name": "stderr",
     "output_type": "stream",
     "text": [
      "extracting all features from dataset: 100%|██████████████████████████████████████████████| 2/2 [00:04<00:00,  2.12s/it]\n",
      "extracting all features from dataset: 100%|██████████████████████████████████████████████| 1/1 [00:01<00:00,  1.72s/it]\n"
     ]
    },
    {
     "name": "stdout",
     "output_type": "stream",
     "text": [
      "----------------------------\n",
      "Train_z, Test_z\n",
      "PCA: 0.9333\n",
      "SVD: 0.9206\n",
      "NetG_fixD, Acc at sample 10 0.9689\n"
     ]
    },
    {
     "name": "stderr",
     "output_type": "stream",
     "text": [
      "extracting all features from dataset: 100%|██████████████████████████████████████████████| 2/2 [00:04<00:00,  2.19s/it]\n",
      "extracting all features from dataset: 100%|██████████████████████████████████████████████| 1/1 [00:01<00:00,  1.76s/it]\n"
     ]
    },
    {
     "name": "stdout",
     "output_type": "stream",
     "text": [
      "----------------------------\n",
      "Train_z, Test_z\n",
      "PCA: 0.9339999999999999\n",
      "SVD: 0.9193\n",
      "NetG_fixD, Acc at sample 11 0.9694\n"
     ]
    },
    {
     "name": "stderr",
     "output_type": "stream",
     "text": [
      "extracting all features from dataset: 100%|██████████████████████████████████████████████| 2/2 [00:04<00:00,  2.24s/it]\n",
      "extracting all features from dataset: 100%|██████████████████████████████████████████████| 1/1 [00:01<00:00,  1.69s/it]\n"
     ]
    },
    {
     "name": "stdout",
     "output_type": "stream",
     "text": [
      "----------------------------\n",
      "Train_z, Test_z\n",
      "PCA: 0.9319999999999999\n",
      "SVD: 0.9183\n",
      "NetG_fixD, Acc at sample 12 0.9687\n"
     ]
    },
    {
     "name": "stderr",
     "output_type": "stream",
     "text": [
      "extracting all features from dataset: 100%|██████████████████████████████████████████████| 2/2 [00:04<00:00,  2.22s/it]\n",
      "extracting all features from dataset: 100%|██████████████████████████████████████████████| 1/1 [00:01<00:00,  1.76s/it]\n"
     ]
    },
    {
     "name": "stdout",
     "output_type": "stream",
     "text": [
      "----------------------------\n",
      "Train_z, Test_z\n",
      "PCA: 0.9332\n",
      "SVD: 0.9198\n",
      "NetG_fixD, Acc at sample 13 0.9687\n"
     ]
    },
    {
     "name": "stderr",
     "output_type": "stream",
     "text": [
      "extracting all features from dataset: 100%|██████████████████████████████████████████████| 2/2 [00:04<00:00,  2.10s/it]\n",
      "extracting all features from dataset: 100%|██████████████████████████████████████████████| 1/1 [00:01<00:00,  1.65s/it]\n"
     ]
    },
    {
     "name": "stdout",
     "output_type": "stream",
     "text": [
      "----------------------------\n",
      "Train_z, Test_z\n",
      "PCA: 0.9327\n",
      "SVD: 0.9178\n",
      "NetG_fixD, Acc at sample 14 0.9698\n"
     ]
    },
    {
     "name": "stderr",
     "output_type": "stream",
     "text": [
      "extracting all features from dataset: 100%|██████████████████████████████████████████████| 2/2 [00:04<00:00,  2.17s/it]\n",
      "extracting all features from dataset: 100%|██████████████████████████████████████████████| 1/1 [00:01<00:00,  1.70s/it]\n"
     ]
    },
    {
     "name": "stdout",
     "output_type": "stream",
     "text": [
      "----------------------------\n",
      "Train_z, Test_z\n",
      "PCA: 0.9344\n",
      "SVD: 0.9202\n",
      "NetG_fixD, Acc at sample 15 0.9701\n"
     ]
    },
    {
     "name": "stderr",
     "output_type": "stream",
     "text": [
      "extracting all features from dataset: 100%|██████████████████████████████████████████████| 2/2 [00:04<00:00,  2.17s/it]\n",
      "extracting all features from dataset: 100%|██████████████████████████████████████████████| 1/1 [00:01<00:00,  1.78s/it]\n"
     ]
    },
    {
     "name": "stdout",
     "output_type": "stream",
     "text": [
      "----------------------------\n",
      "Train_z, Test_z\n",
      "PCA: 0.9344\n",
      "SVD: 0.9197\n",
      "NetG_fixD, Acc at sample 16 0.9698\n"
     ]
    },
    {
     "name": "stderr",
     "output_type": "stream",
     "text": [
      "extracting all features from dataset: 100%|██████████████████████████████████████████████| 2/2 [00:04<00:00,  2.17s/it]\n",
      "extracting all features from dataset: 100%|██████████████████████████████████████████████| 1/1 [00:01<00:00,  1.69s/it]\n"
     ]
    },
    {
     "name": "stdout",
     "output_type": "stream",
     "text": [
      "----------------------------\n",
      "Train_z, Test_z\n",
      "PCA: 0.9339999999999999\n",
      "SVD: 0.9213\n",
      "NetG_fixD, Acc at sample 17 0.9696\n"
     ]
    },
    {
     "name": "stderr",
     "output_type": "stream",
     "text": [
      "extracting all features from dataset: 100%|██████████████████████████████████████████████| 2/2 [00:04<00:00,  2.21s/it]\n",
      "extracting all features from dataset: 100%|██████████████████████████████████████████████| 1/1 [00:01<00:00,  1.67s/it]\n"
     ]
    },
    {
     "name": "stdout",
     "output_type": "stream",
     "text": [
      "----------------------------\n",
      "Train_z, Test_z\n",
      "PCA: 0.9337\n",
      "SVD: 0.9197\n",
      "NetG_fixD, Acc at sample 18 0.9706\n"
     ]
    },
    {
     "name": "stderr",
     "output_type": "stream",
     "text": [
      "extracting all features from dataset: 100%|██████████████████████████████████████████████| 2/2 [00:04<00:00,  2.16s/it]\n",
      "extracting all features from dataset: 100%|██████████████████████████████████████████████| 1/1 [00:01<00:00,  1.82s/it]\n"
     ]
    },
    {
     "name": "stdout",
     "output_type": "stream",
     "text": [
      "----------------------------\n",
      "Train_z, Test_z\n",
      "PCA: 0.9341\n",
      "SVD: 0.9192\n",
      "NetG_fixD, Acc at sample 19 0.9695\n"
     ]
    },
    {
     "name": "stderr",
     "output_type": "stream",
     "text": [
      "extracting all features from dataset: 100%|██████████████████████████████████████████████| 2/2 [00:04<00:00,  2.13s/it]\n",
      "extracting all features from dataset: 100%|██████████████████████████████████████████████| 1/1 [00:01<00:00,  1.72s/it]\n"
     ]
    },
    {
     "name": "stdout",
     "output_type": "stream",
     "text": [
      "----------------------------\n",
      "Train_z, Test_z\n",
      "PCA: 0.9351\n",
      "SVD: 0.9204\n",
      "NetG_fixD, Acc at sample 20 0.9695\n",
      "0.9706 0.9687 0.969565 2.1727499999999758e-07\n"
     ]
    }
   ],
   "source": [
    "# sample 20 times of NetG at final radius, NetD is fixed\n",
    "from sklearn.neighbors import KNeighborsClassifier \n",
    "Acc_results_G_sample2 = []\n",
    "\n",
    "for _ in range(sample_num):\n",
    "    #acc at first\n",
    "    net_noise = get_noise(DATASET, device, LABEL)\n",
    "    fed_state_dict = get_netG(netD,netV,net_noise,r_list[2])\n",
    "    netG.load_state_dict(fed_state_dict)\n",
    "    \n",
    "    train_X, train_Z, train_X_bar, train_Z_bar, train_labels = extract_features2(trainloader, netG, netD)\n",
    "\n",
    "    test_X, test_Z, test_X_bar, test_Z_bar, test_labels = extract_features2(testloader, netG, netD)\n",
    "\n",
    "    print(\"----------------------------\")\n",
    "    print(\"Train_z, Test_z\")\n",
    "    nearsub(n_comp, train_Z, train_labels, test_Z, test_labels)\n",
    "\n",
    "    knn= KNeighborsClassifier(n_neighbors=10) \n",
    "\n",
    "    knn.fit(train_Z,train_labels) \n",
    "    knn.score(test_Z_bar,test_labels) \n",
    "\n",
    "    y_predict = knn.predict(test_Z_bar) \n",
    "\n",
    "    count =0\n",
    "    for k in range(10000):\n",
    "        if y_predict[k] == test_labels[k]:\n",
    "            count +=1\n",
    "    print('NetG_fixD, Acc at sample',_+1,count/10000)\n",
    "    Acc_results_G_sample2.append(count/10000)\n",
    "    \n",
    "print(max(Acc_results_G_sample2),min(Acc_results_G_sample2),np.mean(Acc_results_G_sample2),np.var(Acc_results_G_sample2))"
   ]
  },
  {
   "cell_type": "code",
   "execution_count": 11,
   "id": "1daf6e7b",
   "metadata": {},
   "outputs": [
    {
     "name": "stderr",
     "output_type": "stream",
     "text": [
      "extracting all features from dataset: 100%|██████████████████████████████████████████████| 2/2 [00:04<00:00,  2.18s/it]\n",
      "extracting all features from dataset: 100%|██████████████████████████████████████████████| 1/1 [00:01<00:00,  1.79s/it]\n"
     ]
    },
    {
     "name": "stdout",
     "output_type": "stream",
     "text": [
      "----------------------------\n",
      "Train_z, Test_z\n",
      "PCA: 0.933\n",
      "SVD: 0.9177\n",
      "NetG_fixD, Acc at sample 1 0.9682\n"
     ]
    },
    {
     "name": "stderr",
     "output_type": "stream",
     "text": [
      "extracting all features from dataset: 100%|██████████████████████████████████████████████| 2/2 [00:04<00:00,  2.11s/it]\n",
      "extracting all features from dataset: 100%|██████████████████████████████████████████████| 1/1 [00:01<00:00,  1.69s/it]\n"
     ]
    },
    {
     "name": "stdout",
     "output_type": "stream",
     "text": [
      "----------------------------\n",
      "Train_z, Test_z\n",
      "PCA: 0.9337\n",
      "SVD: 0.9222\n",
      "NetG_fixD, Acc at sample 2 0.9686\n"
     ]
    },
    {
     "name": "stderr",
     "output_type": "stream",
     "text": [
      "extracting all features from dataset: 100%|██████████████████████████████████████████████| 2/2 [00:04<00:00,  2.17s/it]\n",
      "extracting all features from dataset: 100%|██████████████████████████████████████████████| 1/1 [00:01<00:00,  1.72s/it]\n"
     ]
    },
    {
     "name": "stdout",
     "output_type": "stream",
     "text": [
      "----------------------------\n",
      "Train_z, Test_z\n",
      "PCA: 0.9331\n",
      "SVD: 0.9205\n",
      "NetG_fixD, Acc at sample 3 0.969\n"
     ]
    },
    {
     "name": "stderr",
     "output_type": "stream",
     "text": [
      "extracting all features from dataset: 100%|██████████████████████████████████████████████| 2/2 [00:04<00:00,  2.15s/it]\n",
      "extracting all features from dataset: 100%|██████████████████████████████████████████████| 1/1 [00:01<00:00,  1.76s/it]\n"
     ]
    },
    {
     "name": "stdout",
     "output_type": "stream",
     "text": [
      "----------------------------\n",
      "Train_z, Test_z\n",
      "PCA: 0.9327\n",
      "SVD: 0.9226\n",
      "NetG_fixD, Acc at sample 4 0.9681\n"
     ]
    },
    {
     "name": "stderr",
     "output_type": "stream",
     "text": [
      "extracting all features from dataset: 100%|██████████████████████████████████████████████| 2/2 [00:04<00:00,  2.07s/it]\n",
      "extracting all features from dataset: 100%|██████████████████████████████████████████████| 1/1 [00:01<00:00,  1.73s/it]\n"
     ]
    },
    {
     "name": "stdout",
     "output_type": "stream",
     "text": [
      "----------------------------\n",
      "Train_z, Test_z\n",
      "PCA: 0.9351\n",
      "SVD: 0.9218999999999999\n",
      "NetG_fixD, Acc at sample 5 0.9693\n"
     ]
    },
    {
     "name": "stderr",
     "output_type": "stream",
     "text": [
      "extracting all features from dataset: 100%|██████████████████████████████████████████████| 2/2 [00:04<00:00,  2.12s/it]\n",
      "extracting all features from dataset: 100%|██████████████████████████████████████████████| 1/1 [00:01<00:00,  1.69s/it]\n"
     ]
    },
    {
     "name": "stdout",
     "output_type": "stream",
     "text": [
      "----------------------------\n",
      "Train_z, Test_z\n",
      "PCA: 0.9318\n",
      "SVD: 0.9191\n",
      "NetG_fixD, Acc at sample 6 0.9681\n"
     ]
    },
    {
     "name": "stderr",
     "output_type": "stream",
     "text": [
      "extracting all features from dataset: 100%|██████████████████████████████████████████████| 2/2 [00:04<00:00,  2.09s/it]\n",
      "extracting all features from dataset: 100%|██████████████████████████████████████████████| 1/1 [00:01<00:00,  1.80s/it]\n"
     ]
    },
    {
     "name": "stdout",
     "output_type": "stream",
     "text": [
      "----------------------------\n",
      "Train_z, Test_z\n",
      "PCA: 0.9343\n",
      "SVD: 0.9203\n",
      "NetG_fixD, Acc at sample 7 0.9688\n"
     ]
    },
    {
     "name": "stderr",
     "output_type": "stream",
     "text": [
      "extracting all features from dataset: 100%|██████████████████████████████████████████████| 2/2 [00:04<00:00,  2.22s/it]\n",
      "extracting all features from dataset: 100%|██████████████████████████████████████████████| 1/1 [00:01<00:00,  1.73s/it]\n"
     ]
    },
    {
     "name": "stdout",
     "output_type": "stream",
     "text": [
      "----------------------------\n",
      "Train_z, Test_z\n",
      "PCA: 0.9322\n",
      "SVD: 0.9209\n",
      "NetG_fixD, Acc at sample 8 0.9689\n"
     ]
    },
    {
     "name": "stderr",
     "output_type": "stream",
     "text": [
      "extracting all features from dataset: 100%|██████████████████████████████████████████████| 2/2 [00:04<00:00,  2.14s/it]\n",
      "extracting all features from dataset: 100%|██████████████████████████████████████████████| 1/1 [00:01<00:00,  1.73s/it]\n"
     ]
    },
    {
     "name": "stdout",
     "output_type": "stream",
     "text": [
      "----------------------------\n",
      "Train_z, Test_z\n",
      "PCA: 0.9332\n",
      "SVD: 0.9212\n",
      "NetG_fixD, Acc at sample 9 0.9683\n"
     ]
    },
    {
     "name": "stderr",
     "output_type": "stream",
     "text": [
      "extracting all features from dataset: 100%|██████████████████████████████████████████████| 2/2 [00:04<00:00,  2.13s/it]\n",
      "extracting all features from dataset: 100%|██████████████████████████████████████████████| 1/1 [00:01<00:00,  1.67s/it]\n"
     ]
    },
    {
     "name": "stdout",
     "output_type": "stream",
     "text": [
      "----------------------------\n",
      "Train_z, Test_z\n",
      "PCA: 0.9327\n",
      "SVD: 0.9251\n",
      "NetG_fixD, Acc at sample 10 0.9692\n"
     ]
    },
    {
     "name": "stderr",
     "output_type": "stream",
     "text": [
      "extracting all features from dataset: 100%|██████████████████████████████████████████████| 2/2 [00:04<00:00,  2.07s/it]\n",
      "extracting all features from dataset: 100%|██████████████████████████████████████████████| 1/1 [00:01<00:00,  1.73s/it]\n"
     ]
    },
    {
     "name": "stdout",
     "output_type": "stream",
     "text": [
      "----------------------------\n",
      "Train_z, Test_z\n",
      "PCA: 0.9319\n",
      "SVD: 0.9212\n",
      "NetG_fixD, Acc at sample 11 0.9691\n"
     ]
    },
    {
     "name": "stderr",
     "output_type": "stream",
     "text": [
      "extracting all features from dataset: 100%|██████████████████████████████████████████████| 2/2 [00:04<00:00,  2.18s/it]\n",
      "extracting all features from dataset: 100%|██████████████████████████████████████████████| 1/1 [00:01<00:00,  1.73s/it]\n"
     ]
    },
    {
     "name": "stdout",
     "output_type": "stream",
     "text": [
      "----------------------------\n",
      "Train_z, Test_z\n",
      "PCA: 0.9328\n",
      "SVD: 0.9203\n",
      "NetG_fixD, Acc at sample 12 0.9699\n"
     ]
    },
    {
     "name": "stderr",
     "output_type": "stream",
     "text": [
      "extracting all features from dataset: 100%|██████████████████████████████████████████████| 2/2 [00:04<00:00,  2.07s/it]\n",
      "extracting all features from dataset: 100%|██████████████████████████████████████████████| 1/1 [00:01<00:00,  1.73s/it]\n"
     ]
    },
    {
     "name": "stdout",
     "output_type": "stream",
     "text": [
      "----------------------------\n",
      "Train_z, Test_z\n",
      "PCA: 0.9323\n",
      "SVD: 0.9217\n",
      "NetG_fixD, Acc at sample 13 0.9686\n"
     ]
    },
    {
     "name": "stderr",
     "output_type": "stream",
     "text": [
      "extracting all features from dataset: 100%|██████████████████████████████████████████████| 2/2 [00:04<00:00,  2.18s/it]\n",
      "extracting all features from dataset: 100%|██████████████████████████████████████████████| 1/1 [00:01<00:00,  1.66s/it]\n"
     ]
    },
    {
     "name": "stdout",
     "output_type": "stream",
     "text": [
      "----------------------------\n",
      "Train_z, Test_z\n",
      "PCA: 0.9347\n",
      "SVD: 0.9227\n",
      "NetG_fixD, Acc at sample 14 0.9692\n"
     ]
    },
    {
     "name": "stderr",
     "output_type": "stream",
     "text": [
      "extracting all features from dataset: 100%|██████████████████████████████████████████████| 2/2 [00:04<00:00,  2.22s/it]\n",
      "extracting all features from dataset: 100%|██████████████████████████████████████████████| 1/1 [00:01<00:00,  1.67s/it]\n"
     ]
    },
    {
     "name": "stdout",
     "output_type": "stream",
     "text": [
      "----------------------------\n",
      "Train_z, Test_z\n",
      "PCA: 0.9321\n",
      "SVD: 0.923\n",
      "NetG_fixD, Acc at sample 15 0.9695\n"
     ]
    },
    {
     "name": "stderr",
     "output_type": "stream",
     "text": [
      "extracting all features from dataset: 100%|██████████████████████████████████████████████| 2/2 [00:04<00:00,  2.17s/it]\n",
      "extracting all features from dataset: 100%|██████████████████████████████████████████████| 1/1 [00:01<00:00,  1.69s/it]\n"
     ]
    },
    {
     "name": "stdout",
     "output_type": "stream",
     "text": [
      "----------------------------\n",
      "Train_z, Test_z\n",
      "PCA: 0.9354\n",
      "SVD: 0.92\n",
      "NetG_fixD, Acc at sample 16 0.9684\n"
     ]
    },
    {
     "name": "stderr",
     "output_type": "stream",
     "text": [
      "extracting all features from dataset: 100%|██████████████████████████████████████████████| 2/2 [00:04<00:00,  2.24s/it]\n",
      "extracting all features from dataset: 100%|██████████████████████████████████████████████| 1/1 [00:01<00:00,  1.70s/it]\n"
     ]
    },
    {
     "name": "stdout",
     "output_type": "stream",
     "text": [
      "----------------------------\n",
      "Train_z, Test_z\n",
      "PCA: 0.9299999999999999\n",
      "SVD: 0.9174\n",
      "NetG_fixD, Acc at sample 17 0.9688\n"
     ]
    },
    {
     "name": "stderr",
     "output_type": "stream",
     "text": [
      "extracting all features from dataset: 100%|██████████████████████████████████████████████| 2/2 [00:04<00:00,  2.11s/it]\n",
      "extracting all features from dataset: 100%|██████████████████████████████████████████████| 1/1 [00:01<00:00,  1.76s/it]\n"
     ]
    },
    {
     "name": "stdout",
     "output_type": "stream",
     "text": [
      "----------------------------\n",
      "Train_z, Test_z\n",
      "PCA: 0.9319\n",
      "SVD: 0.9212\n",
      "NetG_fixD, Acc at sample 18 0.9692\n"
     ]
    },
    {
     "name": "stderr",
     "output_type": "stream",
     "text": [
      "extracting all features from dataset: 100%|██████████████████████████████████████████████| 2/2 [00:04<00:00,  2.07s/it]\n",
      "extracting all features from dataset: 100%|██████████████████████████████████████████████| 1/1 [00:01<00:00,  1.67s/it]\n"
     ]
    },
    {
     "name": "stdout",
     "output_type": "stream",
     "text": [
      "----------------------------\n",
      "Train_z, Test_z\n",
      "PCA: 0.933\n",
      "SVD: 0.9197\n",
      "NetG_fixD, Acc at sample 19 0.9698\n"
     ]
    },
    {
     "name": "stderr",
     "output_type": "stream",
     "text": [
      "extracting all features from dataset: 100%|██████████████████████████████████████████████| 2/2 [00:04<00:00,  2.23s/it]\n",
      "extracting all features from dataset: 100%|██████████████████████████████████████████████| 1/1 [00:01<00:00,  1.69s/it]\n"
     ]
    },
    {
     "name": "stdout",
     "output_type": "stream",
     "text": [
      "----------------------------\n",
      "Train_z, Test_z\n",
      "PCA: 0.9312\n",
      "SVD: 0.9212\n",
      "NetG_fixD, Acc at sample 20 0.9688\n",
      "0.9699 0.9681 0.9688900000000003 2.6190000000000014e-07\n"
     ]
    }
   ],
   "source": [
    "# sample 20 times of NetG at final radius, NetD is fixed\n",
    "from sklearn.neighbors import KNeighborsClassifier \n",
    "Acc_results_G_sample3 = []\n",
    "\n",
    "for _ in range(sample_num):\n",
    "    #acc at first\n",
    "    net_noise = get_noise(DATASET, device, LABEL)\n",
    "    fed_state_dict = get_netG(netD,netV,net_noise,r_list[3])\n",
    "    netG.load_state_dict(fed_state_dict)\n",
    "    \n",
    "    train_X, train_Z, train_X_bar, train_Z_bar, train_labels = extract_features2(trainloader, netG, netD)\n",
    "\n",
    "    test_X, test_Z, test_X_bar, test_Z_bar, test_labels = extract_features2(testloader, netG, netD)\n",
    "\n",
    "    print(\"----------------------------\")\n",
    "    print(\"Train_z, Test_z\")\n",
    "    nearsub(n_comp, train_Z, train_labels, test_Z, test_labels)\n",
    "\n",
    "    knn= KNeighborsClassifier(n_neighbors=10) \n",
    "\n",
    "    knn.fit(train_Z,train_labels) \n",
    "    knn.score(test_Z_bar,test_labels) \n",
    "\n",
    "    y_predict = knn.predict(test_Z_bar) \n",
    "\n",
    "    count =0\n",
    "    for k in range(10000):\n",
    "        if y_predict[k] == test_labels[k]:\n",
    "            count +=1\n",
    "    print('NetG_fixD, Acc at sample',_+1,count/10000)\n",
    "    Acc_results_G_sample3.append(count/10000)\n",
    "    \n",
    "print(max(Acc_results_G_sample3),min(Acc_results_G_sample3),np.mean(Acc_results_G_sample3),np.var(Acc_results_G_sample3))"
   ]
  },
  {
   "cell_type": "code",
   "execution_count": 12,
   "id": "c66ccac4",
   "metadata": {},
   "outputs": [
    {
     "name": "stderr",
     "output_type": "stream",
     "text": [
      "extracting all features from dataset: 100%|██████████████████████████████████████████████| 2/2 [00:04<00:00,  2.11s/it]\n",
      "extracting all features from dataset: 100%|██████████████████████████████████████████████| 1/1 [00:01<00:00,  1.68s/it]\n"
     ]
    },
    {
     "name": "stdout",
     "output_type": "stream",
     "text": [
      "----------------------------\n",
      "Train_z, Test_z\n",
      "PCA: 0.9324\n",
      "SVD: 0.9238\n",
      "NetG_fixD, Acc at sample 1 0.9662\n"
     ]
    },
    {
     "name": "stderr",
     "output_type": "stream",
     "text": [
      "extracting all features from dataset: 100%|██████████████████████████████████████████████| 2/2 [00:04<00:00,  2.26s/it]\n",
      "extracting all features from dataset: 100%|██████████████████████████████████████████████| 1/1 [00:01<00:00,  1.66s/it]\n"
     ]
    },
    {
     "name": "stdout",
     "output_type": "stream",
     "text": [
      "----------------------------\n",
      "Train_z, Test_z\n",
      "PCA: 0.9279\n",
      "SVD: 0.9197\n",
      "NetG_fixD, Acc at sample 2 0.9669\n"
     ]
    },
    {
     "name": "stderr",
     "output_type": "stream",
     "text": [
      "extracting all features from dataset: 100%|██████████████████████████████████████████████| 2/2 [00:04<00:00,  2.09s/it]\n",
      "extracting all features from dataset: 100%|██████████████████████████████████████████████| 1/1 [00:01<00:00,  1.72s/it]\n"
     ]
    },
    {
     "name": "stdout",
     "output_type": "stream",
     "text": [
      "----------------------------\n",
      "Train_z, Test_z\n",
      "PCA: 0.9333\n",
      "SVD: 0.9251\n",
      "NetG_fixD, Acc at sample 3 0.9675\n"
     ]
    },
    {
     "name": "stderr",
     "output_type": "stream",
     "text": [
      "extracting all features from dataset: 100%|██████████████████████████████████████████████| 2/2 [00:04<00:00,  2.16s/it]\n",
      "extracting all features from dataset: 100%|██████████████████████████████████████████████| 1/1 [00:01<00:00,  1.74s/it]\n"
     ]
    },
    {
     "name": "stdout",
     "output_type": "stream",
     "text": [
      "----------------------------\n",
      "Train_z, Test_z\n",
      "PCA: 0.9278\n",
      "SVD: 0.9224\n",
      "NetG_fixD, Acc at sample 4 0.967\n"
     ]
    },
    {
     "name": "stderr",
     "output_type": "stream",
     "text": [
      "extracting all features from dataset: 100%|██████████████████████████████████████████████| 2/2 [00:04<00:00,  2.20s/it]\n",
      "extracting all features from dataset: 100%|██████████████████████████████████████████████| 1/1 [00:01<00:00,  1.73s/it]\n"
     ]
    },
    {
     "name": "stdout",
     "output_type": "stream",
     "text": [
      "----------------------------\n",
      "Train_z, Test_z\n",
      "PCA: 0.9319999999999999\n",
      "SVD: 0.9233\n",
      "NetG_fixD, Acc at sample 5 0.9669\n"
     ]
    },
    {
     "name": "stderr",
     "output_type": "stream",
     "text": [
      "extracting all features from dataset: 100%|██████████████████████████████████████████████| 2/2 [00:04<00:00,  2.23s/it]\n",
      "extracting all features from dataset: 100%|██████████████████████████████████████████████| 1/1 [00:01<00:00,  1.75s/it]\n"
     ]
    },
    {
     "name": "stdout",
     "output_type": "stream",
     "text": [
      "----------------------------\n",
      "Train_z, Test_z\n",
      "PCA: 0.9321\n",
      "SVD: 0.9218\n",
      "NetG_fixD, Acc at sample 6 0.9665\n"
     ]
    },
    {
     "name": "stderr",
     "output_type": "stream",
     "text": [
      "extracting all features from dataset: 100%|██████████████████████████████████████████████| 2/2 [00:04<00:00,  2.12s/it]\n",
      "extracting all features from dataset: 100%|██████████████████████████████████████████████| 1/1 [00:01<00:00,  1.64s/it]\n"
     ]
    },
    {
     "name": "stdout",
     "output_type": "stream",
     "text": [
      "----------------------------\n",
      "Train_z, Test_z\n",
      "PCA: 0.9368\n",
      "SVD: 0.9282\n",
      "NetG_fixD, Acc at sample 7 0.9673\n"
     ]
    },
    {
     "name": "stderr",
     "output_type": "stream",
     "text": [
      "extracting all features from dataset: 100%|██████████████████████████████████████████████| 2/2 [00:04<00:00,  2.23s/it]\n",
      "extracting all features from dataset: 100%|██████████████████████████████████████████████| 1/1 [00:01<00:00,  1.71s/it]\n"
     ]
    },
    {
     "name": "stdout",
     "output_type": "stream",
     "text": [
      "----------------------------\n",
      "Train_z, Test_z\n",
      "PCA: 0.9312\n",
      "SVD: 0.9204\n",
      "NetG_fixD, Acc at sample 8 0.9677\n"
     ]
    },
    {
     "name": "stderr",
     "output_type": "stream",
     "text": [
      "extracting all features from dataset: 100%|██████████████████████████████████████████████| 2/2 [00:04<00:00,  2.24s/it]\n",
      "extracting all features from dataset: 100%|██████████████████████████████████████████████| 1/1 [00:01<00:00,  1.74s/it]\n"
     ]
    },
    {
     "name": "stdout",
     "output_type": "stream",
     "text": [
      "----------------------------\n",
      "Train_z, Test_z\n",
      "PCA: 0.9357\n",
      "SVD: 0.9254\n",
      "NetG_fixD, Acc at sample 9 0.9666\n"
     ]
    },
    {
     "name": "stderr",
     "output_type": "stream",
     "text": [
      "extracting all features from dataset: 100%|██████████████████████████████████████████████| 2/2 [00:04<00:00,  2.16s/it]\n",
      "extracting all features from dataset: 100%|██████████████████████████████████████████████| 1/1 [00:01<00:00,  1.73s/it]\n"
     ]
    },
    {
     "name": "stdout",
     "output_type": "stream",
     "text": [
      "----------------------------\n",
      "Train_z, Test_z\n",
      "PCA: 0.9283\n",
      "SVD: 0.919\n",
      "NetG_fixD, Acc at sample 10 0.966\n"
     ]
    },
    {
     "name": "stderr",
     "output_type": "stream",
     "text": [
      "extracting all features from dataset: 100%|██████████████████████████████████████████████| 2/2 [00:04<00:00,  2.11s/it]\n",
      "extracting all features from dataset: 100%|██████████████████████████████████████████████| 1/1 [00:01<00:00,  1.68s/it]\n"
     ]
    },
    {
     "name": "stdout",
     "output_type": "stream",
     "text": [
      "----------------------------\n",
      "Train_z, Test_z\n",
      "PCA: 0.9316\n",
      "SVD: 0.9232\n",
      "NetG_fixD, Acc at sample 11 0.9675\n"
     ]
    },
    {
     "name": "stderr",
     "output_type": "stream",
     "text": [
      "extracting all features from dataset: 100%|██████████████████████████████████████████████| 2/2 [00:04<00:00,  2.17s/it]\n",
      "extracting all features from dataset: 100%|██████████████████████████████████████████████| 1/1 [00:01<00:00,  1.71s/it]\n"
     ]
    },
    {
     "name": "stdout",
     "output_type": "stream",
     "text": [
      "----------------------------\n",
      "Train_z, Test_z\n",
      "PCA: 0.9288\n",
      "SVD: 0.9225\n",
      "NetG_fixD, Acc at sample 12 0.9676\n"
     ]
    },
    {
     "name": "stderr",
     "output_type": "stream",
     "text": [
      "extracting all features from dataset: 100%|██████████████████████████████████████████████| 2/2 [00:04<00:00,  2.09s/it]\n",
      "extracting all features from dataset: 100%|██████████████████████████████████████████████| 1/1 [00:01<00:00,  1.68s/it]\n"
     ]
    },
    {
     "name": "stdout",
     "output_type": "stream",
     "text": [
      "----------------------------\n",
      "Train_z, Test_z\n",
      "PCA: 0.9275\n",
      "SVD: 0.9183\n",
      "NetG_fixD, Acc at sample 13 0.9655\n"
     ]
    },
    {
     "name": "stderr",
     "output_type": "stream",
     "text": [
      "extracting all features from dataset: 100%|██████████████████████████████████████████████| 2/2 [00:04<00:00,  2.20s/it]\n",
      "extracting all features from dataset: 100%|██████████████████████████████████████████████| 1/1 [00:01<00:00,  1.80s/it]\n"
     ]
    },
    {
     "name": "stdout",
     "output_type": "stream",
     "text": [
      "----------------------------\n",
      "Train_z, Test_z\n",
      "PCA: 0.9294\n",
      "SVD: 0.9215\n",
      "NetG_fixD, Acc at sample 14 0.9665\n"
     ]
    },
    {
     "name": "stderr",
     "output_type": "stream",
     "text": [
      "extracting all features from dataset: 100%|██████████████████████████████████████████████| 2/2 [00:04<00:00,  2.07s/it]\n",
      "extracting all features from dataset: 100%|██████████████████████████████████████████████| 1/1 [00:01<00:00,  1.72s/it]\n"
     ]
    },
    {
     "name": "stdout",
     "output_type": "stream",
     "text": [
      "----------------------------\n",
      "Train_z, Test_z\n",
      "PCA: 0.9312\n",
      "SVD: 0.9225\n",
      "NetG_fixD, Acc at sample 15 0.968\n"
     ]
    },
    {
     "name": "stderr",
     "output_type": "stream",
     "text": [
      "extracting all features from dataset: 100%|██████████████████████████████████████████████| 2/2 [00:04<00:00,  2.12s/it]\n",
      "extracting all features from dataset: 100%|██████████████████████████████████████████████| 1/1 [00:01<00:00,  1.67s/it]\n"
     ]
    },
    {
     "name": "stdout",
     "output_type": "stream",
     "text": [
      "----------------------------\n",
      "Train_z, Test_z\n",
      "PCA: 0.9346\n",
      "SVD: 0.9248\n",
      "NetG_fixD, Acc at sample 16 0.9671\n"
     ]
    },
    {
     "name": "stderr",
     "output_type": "stream",
     "text": [
      "extracting all features from dataset: 100%|██████████████████████████████████████████████| 2/2 [00:04<00:00,  2.21s/it]\n",
      "extracting all features from dataset: 100%|██████████████████████████████████████████████| 1/1 [00:01<00:00,  1.72s/it]\n"
     ]
    },
    {
     "name": "stdout",
     "output_type": "stream",
     "text": [
      "----------------------------\n",
      "Train_z, Test_z\n",
      "PCA: 0.9319999999999999\n",
      "SVD: 0.9227\n",
      "NetG_fixD, Acc at sample 17 0.968\n"
     ]
    },
    {
     "name": "stderr",
     "output_type": "stream",
     "text": [
      "extracting all features from dataset: 100%|██████████████████████████████████████████████| 2/2 [00:04<00:00,  2.12s/it]\n",
      "extracting all features from dataset: 100%|██████████████████████████████████████████████| 1/1 [00:01<00:00,  1.67s/it]\n"
     ]
    },
    {
     "name": "stdout",
     "output_type": "stream",
     "text": [
      "----------------------------\n",
      "Train_z, Test_z\n",
      "PCA: 0.9339999999999999\n",
      "SVD: 0.924\n",
      "NetG_fixD, Acc at sample 18 0.9672\n"
     ]
    },
    {
     "name": "stderr",
     "output_type": "stream",
     "text": [
      "extracting all features from dataset: 100%|██████████████████████████████████████████████| 2/2 [00:04<00:00,  2.25s/it]\n",
      "extracting all features from dataset: 100%|██████████████████████████████████████████████| 1/1 [00:01<00:00,  1.76s/it]\n"
     ]
    },
    {
     "name": "stdout",
     "output_type": "stream",
     "text": [
      "----------------------------\n",
      "Train_z, Test_z\n",
      "PCA: 0.9311\n",
      "SVD: 0.924\n",
      "NetG_fixD, Acc at sample 19 0.9661\n"
     ]
    },
    {
     "name": "stderr",
     "output_type": "stream",
     "text": [
      "extracting all features from dataset: 100%|██████████████████████████████████████████████| 2/2 [00:04<00:00,  2.24s/it]\n",
      "extracting all features from dataset: 100%|██████████████████████████████████████████████| 1/1 [00:01<00:00,  1.73s/it]\n"
     ]
    },
    {
     "name": "stdout",
     "output_type": "stream",
     "text": [
      "----------------------------\n",
      "Train_z, Test_z\n",
      "PCA: 0.9336\n",
      "SVD: 0.923\n",
      "NetG_fixD, Acc at sample 20 0.967\n",
      "0.968 0.9655 0.9669549999999999 4.414750000000019e-07\n"
     ]
    }
   ],
   "source": [
    "# sample 20 times of NetG at final radius, NetD is fixed\n",
    "from sklearn.neighbors import KNeighborsClassifier \n",
    "Acc_results_G_sample4 = []\n",
    "\n",
    "for _ in range(sample_num):\n",
    "    #acc at first\n",
    "    net_noise = get_noise(DATASET, device, LABEL)\n",
    "    fed_state_dict = get_netG(netD,netV,net_noise,r_list[4])\n",
    "    netG.load_state_dict(fed_state_dict)\n",
    "    \n",
    "    train_X, train_Z, train_X_bar, train_Z_bar, train_labels = extract_features2(trainloader, netG, netD)\n",
    "\n",
    "    test_X, test_Z, test_X_bar, test_Z_bar, test_labels = extract_features2(testloader, netG, netD)\n",
    "\n",
    "    print(\"----------------------------\")\n",
    "    print(\"Train_z, Test_z\")\n",
    "    nearsub(n_comp, train_Z, train_labels, test_Z, test_labels)\n",
    "\n",
    "    knn= KNeighborsClassifier(n_neighbors=10) \n",
    "\n",
    "    knn.fit(train_Z,train_labels) \n",
    "    knn.score(test_Z_bar,test_labels) \n",
    "\n",
    "    y_predict = knn.predict(test_Z_bar) \n",
    "\n",
    "    count =0\n",
    "    for k in range(10000):\n",
    "        if y_predict[k] == test_labels[k]:\n",
    "            count +=1\n",
    "    print('NetG_fixD, Acc at sample',_+1,count/10000)\n",
    "    Acc_results_G_sample4.append(count/10000)\n",
    "    \n",
    "print(max(Acc_results_G_sample4),min(Acc_results_G_sample4),np.mean(Acc_results_G_sample4),np.var(Acc_results_G_sample4))"
   ]
  },
  {
   "cell_type": "code",
   "execution_count": 13,
   "id": "dfa16dcf",
   "metadata": {},
   "outputs": [
    {
     "name": "stderr",
     "output_type": "stream",
     "text": [
      "extracting all features from dataset: 100%|██████████████████████████████████████████████| 2/2 [00:04<00:00,  2.12s/it]\n",
      "extracting all features from dataset: 100%|██████████████████████████████████████████████| 1/1 [00:01<00:00,  1.73s/it]\n"
     ]
    },
    {
     "name": "stdout",
     "output_type": "stream",
     "text": [
      "----------------------------\n",
      "Train_z, Test_z\n",
      "PCA: 0.9256\n",
      "SVD: 0.9171\n",
      "NetG_fixD, Acc at sample 1 0.9604\n"
     ]
    },
    {
     "name": "stderr",
     "output_type": "stream",
     "text": [
      "extracting all features from dataset: 100%|██████████████████████████████████████████████| 2/2 [00:04<00:00,  2.10s/it]\n",
      "extracting all features from dataset: 100%|██████████████████████████████████████████████| 1/1 [00:01<00:00,  1.67s/it]\n"
     ]
    },
    {
     "name": "stdout",
     "output_type": "stream",
     "text": [
      "----------------------------\n",
      "Train_z, Test_z\n",
      "PCA: 0.9286\n",
      "SVD: 0.9224\n",
      "NetG_fixD, Acc at sample 2 0.9579\n"
     ]
    },
    {
     "name": "stderr",
     "output_type": "stream",
     "text": [
      "extracting all features from dataset: 100%|██████████████████████████████████████████████| 2/2 [00:04<00:00,  2.28s/it]\n",
      "extracting all features from dataset: 100%|██████████████████████████████████████████████| 1/1 [00:01<00:00,  1.73s/it]\n"
     ]
    },
    {
     "name": "stdout",
     "output_type": "stream",
     "text": [
      "----------------------------\n",
      "Train_z, Test_z\n",
      "PCA: 0.9354\n",
      "SVD: 0.9269000000000001\n",
      "NetG_fixD, Acc at sample 3 0.9579\n"
     ]
    },
    {
     "name": "stderr",
     "output_type": "stream",
     "text": [
      "extracting all features from dataset: 100%|██████████████████████████████████████████████| 2/2 [00:04<00:00,  2.25s/it]\n",
      "extracting all features from dataset: 100%|██████████████████████████████████████████████| 1/1 [00:01<00:00,  1.68s/it]\n"
     ]
    },
    {
     "name": "stdout",
     "output_type": "stream",
     "text": [
      "----------------------------\n",
      "Train_z, Test_z\n",
      "PCA: 0.9257\n",
      "SVD: 0.9175\n",
      "NetG_fixD, Acc at sample 4 0.9552\n"
     ]
    },
    {
     "name": "stderr",
     "output_type": "stream",
     "text": [
      "extracting all features from dataset: 100%|██████████████████████████████████████████████| 2/2 [00:04<00:00,  2.23s/it]\n",
      "extracting all features from dataset: 100%|██████████████████████████████████████████████| 1/1 [00:01<00:00,  1.73s/it]\n"
     ]
    },
    {
     "name": "stdout",
     "output_type": "stream",
     "text": [
      "----------------------------\n",
      "Train_z, Test_z\n",
      "PCA: 0.9344\n",
      "SVD: 0.9279\n",
      "NetG_fixD, Acc at sample 5 0.9609\n"
     ]
    },
    {
     "name": "stderr",
     "output_type": "stream",
     "text": [
      "extracting all features from dataset: 100%|██████████████████████████████████████████████| 2/2 [00:04<00:00,  2.16s/it]\n",
      "extracting all features from dataset: 100%|██████████████████████████████████████████████| 1/1 [00:01<00:00,  1.78s/it]\n"
     ]
    },
    {
     "name": "stdout",
     "output_type": "stream",
     "text": [
      "----------------------------\n",
      "Train_z, Test_z\n",
      "PCA: 0.9299999999999999\n",
      "SVD: 0.9246\n",
      "NetG_fixD, Acc at sample 6 0.9603\n"
     ]
    },
    {
     "name": "stderr",
     "output_type": "stream",
     "text": [
      "extracting all features from dataset: 100%|██████████████████████████████████████████████| 2/2 [00:04<00:00,  2.21s/it]\n",
      "extracting all features from dataset: 100%|██████████████████████████████████████████████| 1/1 [00:01<00:00,  1.70s/it]\n"
     ]
    },
    {
     "name": "stdout",
     "output_type": "stream",
     "text": [
      "----------------------------\n",
      "Train_z, Test_z\n",
      "PCA: 0.9314\n",
      "SVD: 0.9268\n",
      "NetG_fixD, Acc at sample 7 0.9554\n"
     ]
    },
    {
     "name": "stderr",
     "output_type": "stream",
     "text": [
      "extracting all features from dataset: 100%|██████████████████████████████████████████████| 2/2 [00:04<00:00,  2.18s/it]\n",
      "extracting all features from dataset: 100%|██████████████████████████████████████████████| 1/1 [00:01<00:00,  1.68s/it]\n"
     ]
    },
    {
     "name": "stdout",
     "output_type": "stream",
     "text": [
      "----------------------------\n",
      "Train_z, Test_z\n",
      "PCA: 0.9324\n",
      "SVD: 0.9255\n",
      "NetG_fixD, Acc at sample 8 0.9593\n"
     ]
    },
    {
     "name": "stderr",
     "output_type": "stream",
     "text": [
      "extracting all features from dataset: 100%|██████████████████████████████████████████████| 2/2 [00:04<00:00,  2.16s/it]\n",
      "extracting all features from dataset: 100%|██████████████████████████████████████████████| 1/1 [00:01<00:00,  1.73s/it]\n"
     ]
    },
    {
     "name": "stdout",
     "output_type": "stream",
     "text": [
      "----------------------------\n",
      "Train_z, Test_z\n",
      "PCA: 0.9306\n",
      "SVD: 0.9226\n",
      "NetG_fixD, Acc at sample 9 0.9619\n"
     ]
    },
    {
     "name": "stderr",
     "output_type": "stream",
     "text": [
      "extracting all features from dataset: 100%|██████████████████████████████████████████████| 2/2 [00:04<00:00,  2.17s/it]\n",
      "extracting all features from dataset: 100%|██████████████████████████████████████████████| 1/1 [00:01<00:00,  1.66s/it]\n"
     ]
    },
    {
     "name": "stdout",
     "output_type": "stream",
     "text": [
      "----------------------------\n",
      "Train_z, Test_z\n",
      "PCA: 0.9293\n",
      "SVD: 0.9248\n",
      "NetG_fixD, Acc at sample 10 0.9596\n"
     ]
    },
    {
     "name": "stderr",
     "output_type": "stream",
     "text": [
      "extracting all features from dataset: 100%|██████████████████████████████████████████████| 2/2 [00:04<00:00,  2.15s/it]\n",
      "extracting all features from dataset: 100%|██████████████████████████████████████████████| 1/1 [00:01<00:00,  1.70s/it]\n"
     ]
    },
    {
     "name": "stdout",
     "output_type": "stream",
     "text": [
      "----------------------------\n",
      "Train_z, Test_z\n",
      "PCA: 0.929\n",
      "SVD: 0.9232\n",
      "NetG_fixD, Acc at sample 11 0.9588\n"
     ]
    },
    {
     "name": "stderr",
     "output_type": "stream",
     "text": [
      "extracting all features from dataset: 100%|██████████████████████████████████████████████| 2/2 [00:04<00:00,  2.12s/it]\n",
      "extracting all features from dataset: 100%|██████████████████████████████████████████████| 1/1 [00:01<00:00,  1.65s/it]\n"
     ]
    },
    {
     "name": "stdout",
     "output_type": "stream",
     "text": [
      "----------------------------\n",
      "Train_z, Test_z\n",
      "PCA: 0.9328\n",
      "SVD: 0.9265\n",
      "NetG_fixD, Acc at sample 12 0.9579\n"
     ]
    },
    {
     "name": "stderr",
     "output_type": "stream",
     "text": [
      "extracting all features from dataset: 100%|██████████████████████████████████████████████| 2/2 [00:04<00:00,  2.16s/it]\n",
      "extracting all features from dataset: 100%|██████████████████████████████████████████████| 1/1 [00:01<00:00,  1.70s/it]\n"
     ]
    },
    {
     "name": "stdout",
     "output_type": "stream",
     "text": [
      "----------------------------\n",
      "Train_z, Test_z\n",
      "PCA: 0.9342\n",
      "SVD: 0.9292\n",
      "NetG_fixD, Acc at sample 13 0.9557\n"
     ]
    },
    {
     "name": "stderr",
     "output_type": "stream",
     "text": [
      "extracting all features from dataset: 100%|██████████████████████████████████████████████| 2/2 [00:04<00:00,  2.08s/it]\n",
      "extracting all features from dataset: 100%|██████████████████████████████████████████████| 1/1 [00:01<00:00,  1.70s/it]\n"
     ]
    },
    {
     "name": "stdout",
     "output_type": "stream",
     "text": [
      "----------------------------\n",
      "Train_z, Test_z\n",
      "PCA: 0.9292\n",
      "SVD: 0.9247\n",
      "NetG_fixD, Acc at sample 14 0.9549\n"
     ]
    },
    {
     "name": "stderr",
     "output_type": "stream",
     "text": [
      "extracting all features from dataset: 100%|██████████████████████████████████████████████| 2/2 [00:04<00:00,  2.12s/it]\n",
      "extracting all features from dataset: 100%|██████████████████████████████████████████████| 1/1 [00:01<00:00,  1.71s/it]\n"
     ]
    },
    {
     "name": "stdout",
     "output_type": "stream",
     "text": [
      "----------------------------\n",
      "Train_z, Test_z\n",
      "PCA: 0.9303\n",
      "SVD: 0.9253\n",
      "NetG_fixD, Acc at sample 15 0.9604\n"
     ]
    },
    {
     "name": "stderr",
     "output_type": "stream",
     "text": [
      "extracting all features from dataset: 100%|██████████████████████████████████████████████| 2/2 [00:04<00:00,  2.19s/it]\n",
      "extracting all features from dataset: 100%|██████████████████████████████████████████████| 1/1 [00:01<00:00,  1.70s/it]\n"
     ]
    },
    {
     "name": "stdout",
     "output_type": "stream",
     "text": [
      "----------------------------\n",
      "Train_z, Test_z\n",
      "PCA: 0.9359999999999999\n",
      "SVD: 0.9284\n",
      "NetG_fixD, Acc at sample 16 0.959\n"
     ]
    },
    {
     "name": "stderr",
     "output_type": "stream",
     "text": [
      "extracting all features from dataset: 100%|██████████████████████████████████████████████| 2/2 [00:04<00:00,  2.08s/it]\n",
      "extracting all features from dataset: 100%|██████████████████████████████████████████████| 1/1 [00:01<00:00,  1.72s/it]\n"
     ]
    },
    {
     "name": "stdout",
     "output_type": "stream",
     "text": [
      "----------------------------\n",
      "Train_z, Test_z\n",
      "PCA: 0.9298\n",
      "SVD: 0.9216\n",
      "NetG_fixD, Acc at sample 17 0.9606\n"
     ]
    },
    {
     "name": "stderr",
     "output_type": "stream",
     "text": [
      "extracting all features from dataset: 100%|██████████████████████████████████████████████| 2/2 [00:04<00:00,  2.09s/it]\n",
      "extracting all features from dataset: 100%|██████████████████████████████████████████████| 1/1 [00:01<00:00,  1.75s/it]\n"
     ]
    },
    {
     "name": "stdout",
     "output_type": "stream",
     "text": [
      "----------------------------\n",
      "Train_z, Test_z\n",
      "PCA: 0.9325\n",
      "SVD: 0.9246\n",
      "NetG_fixD, Acc at sample 18 0.9611\n"
     ]
    },
    {
     "name": "stderr",
     "output_type": "stream",
     "text": [
      "extracting all features from dataset: 100%|██████████████████████████████████████████████| 2/2 [00:04<00:00,  2.11s/it]\n",
      "extracting all features from dataset: 100%|██████████████████████████████████████████████| 1/1 [00:01<00:00,  1.74s/it]\n"
     ]
    },
    {
     "name": "stdout",
     "output_type": "stream",
     "text": [
      "----------------------------\n",
      "Train_z, Test_z\n",
      "PCA: 0.9286\n",
      "SVD: 0.9237\n",
      "NetG_fixD, Acc at sample 19 0.9601\n"
     ]
    },
    {
     "name": "stderr",
     "output_type": "stream",
     "text": [
      "extracting all features from dataset: 100%|██████████████████████████████████████████████| 2/2 [00:04<00:00,  2.07s/it]\n",
      "extracting all features from dataset: 100%|██████████████████████████████████████████████| 1/1 [00:01<00:00,  1.73s/it]\n"
     ]
    },
    {
     "name": "stdout",
     "output_type": "stream",
     "text": [
      "----------------------------\n",
      "Train_z, Test_z\n",
      "PCA: 0.938\n",
      "SVD: 0.9306\n",
      "NetG_fixD, Acc at sample 20 0.958\n",
      "0.9619 0.9549 0.9587649999999999 4.2462749999999876e-06\n"
     ]
    }
   ],
   "source": [
    "# sample 20 times of NetG at final radius, NetD is fixed\n",
    "from sklearn.neighbors import KNeighborsClassifier \n",
    "Acc_results_G_sample5 = []\n",
    "\n",
    "for _ in range(sample_num):\n",
    "    #acc at first\n",
    "    net_noise = get_noise(DATASET, device, LABEL)\n",
    "    fed_state_dict = get_netG(netD,netV,net_noise,r_list[5])\n",
    "    netG.load_state_dict(fed_state_dict)\n",
    "    \n",
    "    train_X, train_Z, train_X_bar, train_Z_bar, train_labels = extract_features2(trainloader, netG, netD)\n",
    "\n",
    "    test_X, test_Z, test_X_bar, test_Z_bar, test_labels = extract_features2(testloader, netG, netD)\n",
    "\n",
    "    print(\"----------------------------\")\n",
    "    print(\"Train_z, Test_z\")\n",
    "    nearsub(n_comp, train_Z, train_labels, test_Z, test_labels)\n",
    "\n",
    "    knn= KNeighborsClassifier(n_neighbors=10) \n",
    "\n",
    "    knn.fit(train_Z,train_labels) \n",
    "    knn.score(test_Z_bar,test_labels) \n",
    "\n",
    "    y_predict = knn.predict(test_Z_bar) \n",
    "\n",
    "    count =0\n",
    "    for k in range(10000):\n",
    "        if y_predict[k] == test_labels[k]:\n",
    "            count +=1\n",
    "    print('NetG_fixD, Acc at sample',_+1,count/10000)\n",
    "    Acc_results_G_sample5.append(count/10000)\n",
    "    \n",
    "print(max(Acc_results_G_sample5),min(Acc_results_G_sample5),np.mean(Acc_results_G_sample5),np.var(Acc_results_G_sample5))"
   ]
  },
  {
   "cell_type": "code",
   "execution_count": 14,
   "id": "4594946a",
   "metadata": {},
   "outputs": [
    {
     "name": "stderr",
     "output_type": "stream",
     "text": [
      "extracting all features from dataset: 100%|██████████████████████████████████████████████| 2/2 [00:04<00:00,  2.18s/it]\n",
      "extracting all features from dataset: 100%|██████████████████████████████████████████████| 1/1 [00:01<00:00,  1.74s/it]\n"
     ]
    },
    {
     "name": "stdout",
     "output_type": "stream",
     "text": [
      "----------------------------\n",
      "Train_z, Test_z\n",
      "PCA: 0.9277\n",
      "SVD: 0.9224\n",
      "NetG_fixD, Acc at sample 1 0.8463\n"
     ]
    },
    {
     "name": "stderr",
     "output_type": "stream",
     "text": [
      "extracting all features from dataset: 100%|██████████████████████████████████████████████| 2/2 [00:04<00:00,  2.19s/it]\n",
      "extracting all features from dataset: 100%|██████████████████████████████████████████████| 1/1 [00:01<00:00,  1.68s/it]\n"
     ]
    },
    {
     "name": "stdout",
     "output_type": "stream",
     "text": [
      "----------------------------\n",
      "Train_z, Test_z\n",
      "PCA: 0.9262\n",
      "SVD: 0.9207\n",
      "NetG_fixD, Acc at sample 2 0.8413\n"
     ]
    },
    {
     "name": "stderr",
     "output_type": "stream",
     "text": [
      "extracting all features from dataset: 100%|██████████████████████████████████████████████| 2/2 [00:04<00:00,  2.17s/it]\n",
      "extracting all features from dataset: 100%|██████████████████████████████████████████████| 1/1 [00:01<00:00,  1.70s/it]\n"
     ]
    },
    {
     "name": "stdout",
     "output_type": "stream",
     "text": [
      "----------------------------\n",
      "Train_z, Test_z\n",
      "PCA: 0.9238999999999999\n",
      "SVD: 0.9217\n",
      "NetG_fixD, Acc at sample 3 0.8531\n"
     ]
    },
    {
     "name": "stderr",
     "output_type": "stream",
     "text": [
      "extracting all features from dataset: 100%|██████████████████████████████████████████████| 2/2 [00:04<00:00,  2.10s/it]\n",
      "extracting all features from dataset: 100%|██████████████████████████████████████████████| 1/1 [00:01<00:00,  1.69s/it]\n"
     ]
    },
    {
     "name": "stdout",
     "output_type": "stream",
     "text": [
      "----------------------------\n",
      "Train_z, Test_z\n",
      "PCA: 0.9241\n",
      "SVD: 0.9204\n",
      "NetG_fixD, Acc at sample 4 0.775\n"
     ]
    },
    {
     "name": "stderr",
     "output_type": "stream",
     "text": [
      "extracting all features from dataset: 100%|██████████████████████████████████████████████| 2/2 [00:04<00:00,  2.10s/it]\n",
      "extracting all features from dataset: 100%|██████████████████████████████████████████████| 1/1 [00:01<00:00,  1.71s/it]\n"
     ]
    },
    {
     "name": "stdout",
     "output_type": "stream",
     "text": [
      "----------------------------\n",
      "Train_z, Test_z\n",
      "PCA: 0.9258\n",
      "SVD: 0.9191\n",
      "NetG_fixD, Acc at sample 5 0.9007\n"
     ]
    },
    {
     "name": "stderr",
     "output_type": "stream",
     "text": [
      "extracting all features from dataset: 100%|██████████████████████████████████████████████| 2/2 [00:04<00:00,  2.08s/it]\n",
      "extracting all features from dataset: 100%|██████████████████████████████████████████████| 1/1 [00:01<00:00,  1.68s/it]\n"
     ]
    },
    {
     "name": "stdout",
     "output_type": "stream",
     "text": [
      "----------------------------\n",
      "Train_z, Test_z\n",
      "PCA: 0.9352\n",
      "SVD: 0.9295\n",
      "NetG_fixD, Acc at sample 6 0.9012\n"
     ]
    },
    {
     "name": "stderr",
     "output_type": "stream",
     "text": [
      "extracting all features from dataset: 100%|██████████████████████████████████████████████| 2/2 [00:04<00:00,  2.15s/it]\n",
      "extracting all features from dataset: 100%|██████████████████████████████████████████████| 1/1 [00:01<00:00,  1.67s/it]\n"
     ]
    },
    {
     "name": "stdout",
     "output_type": "stream",
     "text": [
      "----------------------------\n",
      "Train_z, Test_z\n",
      "PCA: 0.9276\n",
      "SVD: 0.9223\n",
      "NetG_fixD, Acc at sample 7 0.8819\n"
     ]
    },
    {
     "name": "stderr",
     "output_type": "stream",
     "text": [
      "extracting all features from dataset: 100%|██████████████████████████████████████████████| 2/2 [00:04<00:00,  2.15s/it]\n",
      "extracting all features from dataset: 100%|██████████████████████████████████████████████| 1/1 [00:01<00:00,  1.72s/it]\n"
     ]
    },
    {
     "name": "stdout",
     "output_type": "stream",
     "text": [
      "----------------------------\n",
      "Train_z, Test_z\n",
      "PCA: 0.9281\n",
      "SVD: 0.9225\n",
      "NetG_fixD, Acc at sample 8 0.9287\n"
     ]
    },
    {
     "name": "stderr",
     "output_type": "stream",
     "text": [
      "extracting all features from dataset: 100%|██████████████████████████████████████████████| 2/2 [00:04<00:00,  2.20s/it]\n",
      "extracting all features from dataset: 100%|██████████████████████████████████████████████| 1/1 [00:01<00:00,  1.72s/it]\n"
     ]
    },
    {
     "name": "stdout",
     "output_type": "stream",
     "text": [
      "----------------------------\n",
      "Train_z, Test_z\n",
      "PCA: 0.9289000000000001\n",
      "SVD: 0.9271\n",
      "NetG_fixD, Acc at sample 9 0.8846\n"
     ]
    },
    {
     "name": "stderr",
     "output_type": "stream",
     "text": [
      "extracting all features from dataset: 100%|██████████████████████████████████████████████| 2/2 [00:04<00:00,  2.19s/it]\n",
      "extracting all features from dataset: 100%|██████████████████████████████████████████████| 1/1 [00:01<00:00,  1.68s/it]\n"
     ]
    },
    {
     "name": "stdout",
     "output_type": "stream",
     "text": [
      "----------------------------\n",
      "Train_z, Test_z\n",
      "PCA: 0.9303\n",
      "SVD: 0.9244\n",
      "NetG_fixD, Acc at sample 10 0.8445\n"
     ]
    },
    {
     "name": "stderr",
     "output_type": "stream",
     "text": [
      "extracting all features from dataset: 100%|██████████████████████████████████████████████| 2/2 [00:04<00:00,  2.22s/it]\n",
      "extracting all features from dataset: 100%|██████████████████████████████████████████████| 1/1 [00:01<00:00,  1.71s/it]\n"
     ]
    },
    {
     "name": "stdout",
     "output_type": "stream",
     "text": [
      "----------------------------\n",
      "Train_z, Test_z\n",
      "PCA: 0.9283\n",
      "SVD: 0.923\n",
      "NetG_fixD, Acc at sample 11 0.9192\n"
     ]
    },
    {
     "name": "stderr",
     "output_type": "stream",
     "text": [
      "extracting all features from dataset: 100%|██████████████████████████████████████████████| 2/2 [00:04<00:00,  2.21s/it]\n",
      "extracting all features from dataset: 100%|██████████████████████████████████████████████| 1/1 [00:01<00:00,  1.75s/it]\n"
     ]
    },
    {
     "name": "stdout",
     "output_type": "stream",
     "text": [
      "----------------------------\n",
      "Train_z, Test_z\n",
      "PCA: 0.9281\n",
      "SVD: 0.9196\n",
      "NetG_fixD, Acc at sample 12 0.8423\n"
     ]
    },
    {
     "name": "stderr",
     "output_type": "stream",
     "text": [
      "extracting all features from dataset: 100%|██████████████████████████████████████████████| 2/2 [00:04<00:00,  2.17s/it]\n",
      "extracting all features from dataset: 100%|██████████████████████████████████████████████| 1/1 [00:01<00:00,  1.72s/it]\n"
     ]
    },
    {
     "name": "stdout",
     "output_type": "stream",
     "text": [
      "----------------------------\n",
      "Train_z, Test_z\n",
      "PCA: 0.9287\n",
      "SVD: 0.9214\n",
      "NetG_fixD, Acc at sample 13 0.8352\n"
     ]
    },
    {
     "name": "stderr",
     "output_type": "stream",
     "text": [
      "extracting all features from dataset: 100%|██████████████████████████████████████████████| 2/2 [00:04<00:00,  2.22s/it]\n",
      "extracting all features from dataset: 100%|██████████████████████████████████████████████| 1/1 [00:01<00:00,  1.72s/it]\n"
     ]
    },
    {
     "name": "stdout",
     "output_type": "stream",
     "text": [
      "----------------------------\n",
      "Train_z, Test_z\n",
      "PCA: 0.9291\n",
      "SVD: 0.9234\n",
      "NetG_fixD, Acc at sample 14 0.8571\n"
     ]
    },
    {
     "name": "stderr",
     "output_type": "stream",
     "text": [
      "extracting all features from dataset: 100%|██████████████████████████████████████████████| 2/2 [00:04<00:00,  2.23s/it]\n",
      "extracting all features from dataset: 100%|██████████████████████████████████████████████| 1/1 [00:01<00:00,  1.69s/it]\n"
     ]
    },
    {
     "name": "stdout",
     "output_type": "stream",
     "text": [
      "----------------------------\n",
      "Train_z, Test_z\n",
      "PCA: 0.927\n",
      "SVD: 0.9235\n",
      "NetG_fixD, Acc at sample 15 0.8574\n"
     ]
    },
    {
     "name": "stderr",
     "output_type": "stream",
     "text": [
      "extracting all features from dataset: 100%|██████████████████████████████████████████████| 2/2 [00:04<00:00,  2.23s/it]\n",
      "extracting all features from dataset: 100%|██████████████████████████████████████████████| 1/1 [00:01<00:00,  1.72s/it]\n"
     ]
    },
    {
     "name": "stdout",
     "output_type": "stream",
     "text": [
      "----------------------------\n",
      "Train_z, Test_z\n",
      "PCA: 0.9262\n",
      "SVD: 0.9226\n",
      "NetG_fixD, Acc at sample 16 0.91\n"
     ]
    },
    {
     "name": "stderr",
     "output_type": "stream",
     "text": [
      "extracting all features from dataset: 100%|██████████████████████████████████████████████| 2/2 [00:04<00:00,  2.18s/it]\n",
      "extracting all features from dataset: 100%|██████████████████████████████████████████████| 1/1 [00:01<00:00,  1.73s/it]\n"
     ]
    },
    {
     "name": "stdout",
     "output_type": "stream",
     "text": [
      "----------------------------\n",
      "Train_z, Test_z\n",
      "PCA: 0.9206\n",
      "SVD: 0.9159\n",
      "NetG_fixD, Acc at sample 17 0.8874\n"
     ]
    },
    {
     "name": "stderr",
     "output_type": "stream",
     "text": [
      "extracting all features from dataset: 100%|██████████████████████████████████████████████| 2/2 [00:04<00:00,  2.24s/it]\n",
      "extracting all features from dataset: 100%|██████████████████████████████████████████████| 1/1 [00:01<00:00,  1.68s/it]\n"
     ]
    },
    {
     "name": "stdout",
     "output_type": "stream",
     "text": [
      "----------------------------\n",
      "Train_z, Test_z\n",
      "PCA: 0.9365\n",
      "SVD: 0.9332\n",
      "NetG_fixD, Acc at sample 18 0.9028\n"
     ]
    },
    {
     "name": "stderr",
     "output_type": "stream",
     "text": [
      "extracting all features from dataset: 100%|██████████████████████████████████████████████| 2/2 [00:04<00:00,  2.14s/it]\n",
      "extracting all features from dataset: 100%|██████████████████████████████████████████████| 1/1 [00:01<00:00,  1.72s/it]\n"
     ]
    },
    {
     "name": "stdout",
     "output_type": "stream",
     "text": [
      "----------------------------\n",
      "Train_z, Test_z\n",
      "PCA: 0.9325\n",
      "SVD: 0.9299999999999999\n",
      "NetG_fixD, Acc at sample 19 0.8919\n"
     ]
    },
    {
     "name": "stderr",
     "output_type": "stream",
     "text": [
      "extracting all features from dataset: 100%|██████████████████████████████████████████████| 2/2 [00:04<00:00,  2.11s/it]\n",
      "extracting all features from dataset: 100%|██████████████████████████████████████████████| 1/1 [00:01<00:00,  1.76s/it]\n"
     ]
    },
    {
     "name": "stdout",
     "output_type": "stream",
     "text": [
      "----------------------------\n",
      "Train_z, Test_z\n",
      "PCA: 0.9285\n",
      "SVD: 0.9252\n",
      "NetG_fixD, Acc at sample 20 0.8697\n",
      "0.9287 0.775 0.8715150000000002 0.0012599582749999994\n"
     ]
    }
   ],
   "source": [
    "# sample 20 times of NetG at final radius, NetD is fixed\n",
    "from sklearn.neighbors import KNeighborsClassifier \n",
    "Acc_results_G_sample6 = []\n",
    "\n",
    "for _ in range(sample_num):\n",
    "    #acc at first\n",
    "    net_noise = get_noise(DATASET, device, LABEL)\n",
    "    fed_state_dict = get_netG(netD,netV,net_noise,r_list[6])\n",
    "    netG.load_state_dict(fed_state_dict)\n",
    "    \n",
    "    train_X, train_Z, train_X_bar, train_Z_bar, train_labels = extract_features2(trainloader, netG, netD)\n",
    "\n",
    "    test_X, test_Z, test_X_bar, test_Z_bar, test_labels = extract_features2(testloader, netG, netD)\n",
    "\n",
    "    print(\"----------------------------\")\n",
    "    print(\"Train_z, Test_z\")\n",
    "    nearsub(n_comp, train_Z, train_labels, test_Z, test_labels)\n",
    "\n",
    "    knn= KNeighborsClassifier(n_neighbors=10) \n",
    "\n",
    "    knn.fit(train_Z,train_labels) \n",
    "    knn.score(test_Z_bar,test_labels) \n",
    "\n",
    "    y_predict = knn.predict(test_Z_bar) \n",
    "\n",
    "    count =0\n",
    "    for k in range(10000):\n",
    "        if y_predict[k] == test_labels[k]:\n",
    "            count +=1\n",
    "    print('NetG_fixD, Acc at sample',_+1,count/10000)\n",
    "    Acc_results_G_sample6.append(count/10000)\n",
    "    \n",
    "print(max(Acc_results_G_sample6),min(Acc_results_G_sample6),np.mean(Acc_results_G_sample6),np.var(Acc_results_G_sample6))"
   ]
  },
  {
   "cell_type": "code",
   "execution_count": 15,
   "id": "9bac47e0",
   "metadata": {},
   "outputs": [
    {
     "name": "stderr",
     "output_type": "stream",
     "text": [
      "extracting all features from dataset: 100%|██████████████████████████████████████████████| 2/2 [00:04<00:00,  2.15s/it]\n",
      "extracting all features from dataset: 100%|██████████████████████████████████████████████| 1/1 [00:01<00:00,  1.74s/it]\n"
     ]
    },
    {
     "name": "stdout",
     "output_type": "stream",
     "text": [
      "----------------------------\n",
      "Train_z, Test_z\n",
      "PCA: 0.9289000000000001\n",
      "SVD: 0.9233\n",
      "NetG_fixD, Acc at sample 1 0.3979\n"
     ]
    },
    {
     "name": "stderr",
     "output_type": "stream",
     "text": [
      "extracting all features from dataset: 100%|██████████████████████████████████████████████| 2/2 [00:04<00:00,  2.11s/it]\n",
      "extracting all features from dataset: 100%|██████████████████████████████████████████████| 1/1 [00:01<00:00,  1.81s/it]\n"
     ]
    },
    {
     "name": "stdout",
     "output_type": "stream",
     "text": [
      "----------------------------\n",
      "Train_z, Test_z\n",
      "PCA: 0.9263\n",
      "SVD: 0.923\n",
      "NetG_fixD, Acc at sample 2 0.4841\n"
     ]
    },
    {
     "name": "stderr",
     "output_type": "stream",
     "text": [
      "extracting all features from dataset: 100%|██████████████████████████████████████████████| 2/2 [00:04<00:00,  2.11s/it]\n",
      "extracting all features from dataset: 100%|██████████████████████████████████████████████| 1/1 [00:01<00:00,  1.73s/it]\n"
     ]
    },
    {
     "name": "stdout",
     "output_type": "stream",
     "text": [
      "----------------------------\n",
      "Train_z, Test_z\n",
      "PCA: 0.9221\n",
      "SVD: 0.9175\n",
      "NetG_fixD, Acc at sample 3 0.5325\n"
     ]
    },
    {
     "name": "stderr",
     "output_type": "stream",
     "text": [
      "extracting all features from dataset: 100%|██████████████████████████████████████████████| 2/2 [00:04<00:00,  2.20s/it]\n",
      "extracting all features from dataset: 100%|██████████████████████████████████████████████| 1/1 [00:01<00:00,  1.71s/it]\n"
     ]
    },
    {
     "name": "stdout",
     "output_type": "stream",
     "text": [
      "----------------------------\n",
      "Train_z, Test_z\n",
      "PCA: 0.9212\n",
      "SVD: 0.9154\n",
      "NetG_fixD, Acc at sample 4 0.5483\n"
     ]
    },
    {
     "name": "stderr",
     "output_type": "stream",
     "text": [
      "extracting all features from dataset: 100%|██████████████████████████████████████████████| 2/2 [00:04<00:00,  2.18s/it]\n",
      "extracting all features from dataset: 100%|██████████████████████████████████████████████| 1/1 [00:01<00:00,  1.67s/it]\n"
     ]
    },
    {
     "name": "stdout",
     "output_type": "stream",
     "text": [
      "----------------------------\n",
      "Train_z, Test_z\n",
      "PCA: 0.919\n",
      "SVD: 0.9153\n",
      "NetG_fixD, Acc at sample 5 0.4249\n"
     ]
    },
    {
     "name": "stderr",
     "output_type": "stream",
     "text": [
      "extracting all features from dataset: 100%|██████████████████████████████████████████████| 2/2 [00:04<00:00,  2.09s/it]\n",
      "extracting all features from dataset: 100%|██████████████████████████████████████████████| 1/1 [00:01<00:00,  1.70s/it]\n"
     ]
    },
    {
     "name": "stdout",
     "output_type": "stream",
     "text": [
      "----------------------------\n",
      "Train_z, Test_z\n",
      "PCA: 0.9332\n",
      "SVD: 0.9291\n",
      "NetG_fixD, Acc at sample 6 0.4948\n"
     ]
    },
    {
     "name": "stderr",
     "output_type": "stream",
     "text": [
      "extracting all features from dataset: 100%|██████████████████████████████████████████████| 2/2 [00:04<00:00,  2.08s/it]\n",
      "extracting all features from dataset: 100%|██████████████████████████████████████████████| 1/1 [00:01<00:00,  1.71s/it]\n"
     ]
    },
    {
     "name": "stdout",
     "output_type": "stream",
     "text": [
      "----------------------------\n",
      "Train_z, Test_z\n",
      "PCA: 0.9302\n",
      "SVD: 0.9273\n",
      "NetG_fixD, Acc at sample 7 0.4257\n"
     ]
    },
    {
     "name": "stderr",
     "output_type": "stream",
     "text": [
      "extracting all features from dataset: 100%|██████████████████████████████████████████████| 2/2 [00:04<00:00,  2.11s/it]\n",
      "extracting all features from dataset: 100%|██████████████████████████████████████████████| 1/1 [00:01<00:00,  1.74s/it]\n"
     ]
    },
    {
     "name": "stdout",
     "output_type": "stream",
     "text": [
      "----------------------------\n",
      "Train_z, Test_z\n",
      "PCA: 0.9254\n",
      "SVD: 0.9238999999999999\n",
      "NetG_fixD, Acc at sample 8 0.5373\n"
     ]
    },
    {
     "name": "stderr",
     "output_type": "stream",
     "text": [
      "extracting all features from dataset: 100%|██████████████████████████████████████████████| 2/2 [00:04<00:00,  2.06s/it]\n",
      "extracting all features from dataset: 100%|██████████████████████████████████████████████| 1/1 [00:01<00:00,  1.65s/it]\n"
     ]
    },
    {
     "name": "stdout",
     "output_type": "stream",
     "text": [
      "----------------------------\n",
      "Train_z, Test_z\n",
      "PCA: 0.9264\n",
      "SVD: 0.9206\n",
      "NetG_fixD, Acc at sample 9 0.549\n"
     ]
    },
    {
     "name": "stderr",
     "output_type": "stream",
     "text": [
      "extracting all features from dataset: 100%|██████████████████████████████████████████████| 2/2 [00:04<00:00,  2.14s/it]\n",
      "extracting all features from dataset: 100%|██████████████████████████████████████████████| 1/1 [00:01<00:00,  1.77s/it]\n"
     ]
    },
    {
     "name": "stdout",
     "output_type": "stream",
     "text": [
      "----------------------------\n",
      "Train_z, Test_z\n",
      "PCA: 0.9291\n",
      "SVD: 0.925\n",
      "NetG_fixD, Acc at sample 10 0.3792\n"
     ]
    },
    {
     "name": "stderr",
     "output_type": "stream",
     "text": [
      "extracting all features from dataset: 100%|██████████████████████████████████████████████| 2/2 [00:04<00:00,  2.17s/it]\n",
      "extracting all features from dataset: 100%|██████████████████████████████████████████████| 1/1 [00:01<00:00,  1.67s/it]\n"
     ]
    },
    {
     "name": "stdout",
     "output_type": "stream",
     "text": [
      "----------------------------\n",
      "Train_z, Test_z\n",
      "PCA: 0.9258\n",
      "SVD: 0.9247\n",
      "NetG_fixD, Acc at sample 11 0.4616\n"
     ]
    },
    {
     "name": "stderr",
     "output_type": "stream",
     "text": [
      "extracting all features from dataset: 100%|██████████████████████████████████████████████| 2/2 [00:04<00:00,  2.17s/it]\n",
      "extracting all features from dataset: 100%|██████████████████████████████████████████████| 1/1 [00:01<00:00,  1.65s/it]\n"
     ]
    },
    {
     "name": "stdout",
     "output_type": "stream",
     "text": [
      "----------------------------\n",
      "Train_z, Test_z\n",
      "PCA: 0.9309000000000001\n",
      "SVD: 0.9264\n",
      "NetG_fixD, Acc at sample 12 0.493\n"
     ]
    },
    {
     "name": "stderr",
     "output_type": "stream",
     "text": [
      "extracting all features from dataset: 100%|██████████████████████████████████████████████| 2/2 [00:04<00:00,  2.15s/it]\n",
      "extracting all features from dataset: 100%|██████████████████████████████████████████████| 1/1 [00:01<00:00,  1.68s/it]\n"
     ]
    },
    {
     "name": "stdout",
     "output_type": "stream",
     "text": [
      "----------------------------\n",
      "Train_z, Test_z\n",
      "PCA: 0.9209\n",
      "SVD: 0.9175\n",
      "NetG_fixD, Acc at sample 13 0.532\n"
     ]
    },
    {
     "name": "stderr",
     "output_type": "stream",
     "text": [
      "extracting all features from dataset: 100%|██████████████████████████████████████████████| 2/2 [00:04<00:00,  2.20s/it]\n",
      "extracting all features from dataset: 100%|██████████████████████████████████████████████| 1/1 [00:01<00:00,  1.70s/it]\n"
     ]
    },
    {
     "name": "stdout",
     "output_type": "stream",
     "text": [
      "----------------------------\n",
      "Train_z, Test_z\n",
      "PCA: 0.9291\n",
      "SVD: 0.9252\n",
      "NetG_fixD, Acc at sample 14 0.451\n"
     ]
    },
    {
     "name": "stderr",
     "output_type": "stream",
     "text": [
      "extracting all features from dataset: 100%|██████████████████████████████████████████████| 2/2 [00:04<00:00,  2.24s/it]\n",
      "extracting all features from dataset: 100%|██████████████████████████████████████████████| 1/1 [00:01<00:00,  1.74s/it]\n"
     ]
    },
    {
     "name": "stdout",
     "output_type": "stream",
     "text": [
      "----------------------------\n",
      "Train_z, Test_z\n",
      "PCA: 0.9367\n",
      "SVD: 0.9307\n",
      "NetG_fixD, Acc at sample 15 0.2762\n"
     ]
    },
    {
     "name": "stderr",
     "output_type": "stream",
     "text": [
      "extracting all features from dataset: 100%|██████████████████████████████████████████████| 2/2 [00:04<00:00,  2.16s/it]\n",
      "extracting all features from dataset: 100%|██████████████████████████████████████████████| 1/1 [00:01<00:00,  1.67s/it]\n"
     ]
    },
    {
     "name": "stdout",
     "output_type": "stream",
     "text": [
      "----------------------------\n",
      "Train_z, Test_z\n",
      "PCA: 0.9216\n",
      "SVD: 0.9186\n",
      "NetG_fixD, Acc at sample 16 0.5373\n"
     ]
    },
    {
     "name": "stderr",
     "output_type": "stream",
     "text": [
      "extracting all features from dataset: 100%|██████████████████████████████████████████████| 2/2 [00:04<00:00,  2.24s/it]\n",
      "extracting all features from dataset: 100%|██████████████████████████████████████████████| 1/1 [00:01<00:00,  1.72s/it]\n"
     ]
    },
    {
     "name": "stdout",
     "output_type": "stream",
     "text": [
      "----------------------------\n",
      "Train_z, Test_z\n",
      "PCA: 0.9367\n",
      "SVD: 0.9317\n",
      "NetG_fixD, Acc at sample 17 0.49\n"
     ]
    },
    {
     "name": "stderr",
     "output_type": "stream",
     "text": [
      "extracting all features from dataset: 100%|██████████████████████████████████████████████| 2/2 [00:04<00:00,  2.13s/it]\n",
      "extracting all features from dataset: 100%|██████████████████████████████████████████████| 1/1 [00:01<00:00,  1.73s/it]\n"
     ]
    },
    {
     "name": "stdout",
     "output_type": "stream",
     "text": [
      "----------------------------\n",
      "Train_z, Test_z\n",
      "PCA: 0.9231\n",
      "SVD: 0.918\n",
      "NetG_fixD, Acc at sample 18 0.4036\n"
     ]
    },
    {
     "name": "stderr",
     "output_type": "stream",
     "text": [
      "extracting all features from dataset: 100%|██████████████████████████████████████████████| 2/2 [00:04<00:00,  2.14s/it]\n",
      "extracting all features from dataset: 100%|██████████████████████████████████████████████| 1/1 [00:01<00:00,  1.72s/it]\n"
     ]
    },
    {
     "name": "stdout",
     "output_type": "stream",
     "text": [
      "----------------------------\n",
      "Train_z, Test_z\n",
      "PCA: 0.9369\n",
      "SVD: 0.9311\n",
      "NetG_fixD, Acc at sample 19 0.483\n"
     ]
    },
    {
     "name": "stderr",
     "output_type": "stream",
     "text": [
      "extracting all features from dataset: 100%|██████████████████████████████████████████████| 2/2 [00:04<00:00,  2.27s/it]\n",
      "extracting all features from dataset: 100%|██████████████████████████████████████████████| 1/1 [00:01<00:00,  1.71s/it]\n"
     ]
    },
    {
     "name": "stdout",
     "output_type": "stream",
     "text": [
      "----------------------------\n",
      "Train_z, Test_z\n",
      "PCA: 0.9328\n",
      "SVD: 0.9286\n",
      "NetG_fixD, Acc at sample 20 0.6143\n",
      "0.6143 0.2762 0.475785 0.0055542122749999995\n"
     ]
    }
   ],
   "source": [
    "# sample 20 times of NetG at final radius, NetD is fixed\n",
    "from sklearn.neighbors import KNeighborsClassifier \n",
    "Acc_results_G_sample7 = []\n",
    "\n",
    "for _ in range(sample_num):\n",
    "    #acc at first\n",
    "    net_noise = get_noise(DATASET, device, LABEL)\n",
    "    fed_state_dict = get_netG(netD,netV,net_noise,r_list[7])\n",
    "    netG.load_state_dict(fed_state_dict)\n",
    "    \n",
    "    train_X, train_Z, train_X_bar, train_Z_bar, train_labels = extract_features2(trainloader, netG, netD)\n",
    "\n",
    "    test_X, test_Z, test_X_bar, test_Z_bar, test_labels = extract_features2(testloader, netG, netD)\n",
    "\n",
    "    print(\"----------------------------\")\n",
    "    print(\"Train_z, Test_z\")\n",
    "    nearsub(n_comp, train_Z, train_labels, test_Z, test_labels)\n",
    "\n",
    "    knn= KNeighborsClassifier(n_neighbors=10) \n",
    "\n",
    "    knn.fit(train_Z,train_labels) \n",
    "    knn.score(test_Z_bar,test_labels) \n",
    "\n",
    "    y_predict = knn.predict(test_Z_bar) \n",
    "\n",
    "    count =0\n",
    "    for k in range(10000):\n",
    "        if y_predict[k] == test_labels[k]:\n",
    "            count +=1\n",
    "    print('NetG_fixD, Acc at sample',_+1,count/10000)\n",
    "    Acc_results_G_sample7.append(count/10000)\n",
    "    \n",
    "print(max(Acc_results_G_sample7),min(Acc_results_G_sample7),np.mean(Acc_results_G_sample7),np.var(Acc_results_G_sample7))"
   ]
  },
  {
   "cell_type": "code",
   "execution_count": 16,
   "id": "10863846",
   "metadata": {},
   "outputs": [
    {
     "name": "stderr",
     "output_type": "stream",
     "text": [
      "extracting all features from dataset: 100%|██████████████████████████████████████████████| 2/2 [00:04<00:00,  2.21s/it]\n",
      "extracting all features from dataset: 100%|██████████████████████████████████████████████| 1/1 [00:01<00:00,  1.69s/it]\n"
     ]
    },
    {
     "name": "stdout",
     "output_type": "stream",
     "text": [
      "----------------------------\n",
      "Train_z, Test_z\n",
      "PCA: 0.9287\n",
      "SVD: 0.9261\n",
      "NetG_fixD, Acc at sample 1 0.1341\n"
     ]
    },
    {
     "name": "stderr",
     "output_type": "stream",
     "text": [
      "extracting all features from dataset: 100%|██████████████████████████████████████████████| 2/2 [00:04<00:00,  2.19s/it]\n",
      "extracting all features from dataset: 100%|██████████████████████████████████████████████| 1/1 [00:01<00:00,  1.70s/it]\n"
     ]
    },
    {
     "name": "stdout",
     "output_type": "stream",
     "text": [
      "----------------------------\n",
      "Train_z, Test_z\n",
      "PCA: 0.9267\n",
      "SVD: 0.9238999999999999\n",
      "NetG_fixD, Acc at sample 2 0.1114\n"
     ]
    },
    {
     "name": "stderr",
     "output_type": "stream",
     "text": [
      "extracting all features from dataset: 100%|██████████████████████████████████████████████| 2/2 [00:04<00:00,  2.18s/it]\n",
      "extracting all features from dataset: 100%|██████████████████████████████████████████████| 1/1 [00:01<00:00,  1.73s/it]\n"
     ]
    },
    {
     "name": "stdout",
     "output_type": "stream",
     "text": [
      "----------------------------\n",
      "Train_z, Test_z\n",
      "PCA: 0.9355\n",
      "SVD: 0.9308\n",
      "NetG_fixD, Acc at sample 3 0.1377\n"
     ]
    },
    {
     "name": "stderr",
     "output_type": "stream",
     "text": [
      "extracting all features from dataset: 100%|██████████████████████████████████████████████| 2/2 [00:04<00:00,  2.25s/it]\n",
      "extracting all features from dataset: 100%|██████████████████████████████████████████████| 1/1 [00:01<00:00,  1.74s/it]\n"
     ]
    },
    {
     "name": "stdout",
     "output_type": "stream",
     "text": [
      "----------------------------\n",
      "Train_z, Test_z\n",
      "PCA: 0.9222\n",
      "SVD: 0.9176\n",
      "NetG_fixD, Acc at sample 4 0.1512\n"
     ]
    },
    {
     "name": "stderr",
     "output_type": "stream",
     "text": [
      "extracting all features from dataset: 100%|██████████████████████████████████████████████| 2/2 [00:04<00:00,  2.26s/it]\n",
      "extracting all features from dataset: 100%|██████████████████████████████████████████████| 1/1 [00:01<00:00,  1.73s/it]\n"
     ]
    },
    {
     "name": "stdout",
     "output_type": "stream",
     "text": [
      "----------------------------\n",
      "Train_z, Test_z\n",
      "PCA: 0.9176\n",
      "SVD: 0.9133\n",
      "NetG_fixD, Acc at sample 5 0.1553\n"
     ]
    },
    {
     "name": "stderr",
     "output_type": "stream",
     "text": [
      "extracting all features from dataset: 100%|██████████████████████████████████████████████| 2/2 [00:04<00:00,  2.17s/it]\n",
      "extracting all features from dataset: 100%|██████████████████████████████████████████████| 1/1 [00:01<00:00,  1.70s/it]\n"
     ]
    },
    {
     "name": "stdout",
     "output_type": "stream",
     "text": [
      "----------------------------\n",
      "Train_z, Test_z\n",
      "PCA: 0.9261\n",
      "SVD: 0.9211\n",
      "NetG_fixD, Acc at sample 6 0.1587\n"
     ]
    },
    {
     "name": "stderr",
     "output_type": "stream",
     "text": [
      "extracting all features from dataset: 100%|██████████████████████████████████████████████| 2/2 [00:04<00:00,  2.15s/it]\n",
      "extracting all features from dataset: 100%|██████████████████████████████████████████████| 1/1 [00:01<00:00,  1.70s/it]\n"
     ]
    },
    {
     "name": "stdout",
     "output_type": "stream",
     "text": [
      "----------------------------\n",
      "Train_z, Test_z\n",
      "PCA: 0.9254\n",
      "SVD: 0.9211\n",
      "NetG_fixD, Acc at sample 7 0.1466\n"
     ]
    },
    {
     "name": "stderr",
     "output_type": "stream",
     "text": [
      "extracting all features from dataset: 100%|██████████████████████████████████████████████| 2/2 [00:04<00:00,  2.22s/it]\n",
      "extracting all features from dataset: 100%|██████████████████████████████████████████████| 1/1 [00:01<00:00,  1.67s/it]\n"
     ]
    },
    {
     "name": "stdout",
     "output_type": "stream",
     "text": [
      "----------------------------\n",
      "Train_z, Test_z\n",
      "PCA: 0.9305\n",
      "SVD: 0.9285\n",
      "NetG_fixD, Acc at sample 8 0.146\n"
     ]
    },
    {
     "name": "stderr",
     "output_type": "stream",
     "text": [
      "extracting all features from dataset: 100%|██████████████████████████████████████████████| 2/2 [00:04<00:00,  2.20s/it]\n",
      "extracting all features from dataset: 100%|██████████████████████████████████████████████| 1/1 [00:01<00:00,  1.69s/it]\n"
     ]
    },
    {
     "name": "stdout",
     "output_type": "stream",
     "text": [
      "----------------------------\n",
      "Train_z, Test_z\n",
      "PCA: 0.9325\n",
      "SVD: 0.9258\n",
      "NetG_fixD, Acc at sample 9 0.1513\n"
     ]
    },
    {
     "name": "stderr",
     "output_type": "stream",
     "text": [
      "extracting all features from dataset: 100%|██████████████████████████████████████████████| 2/2 [00:04<00:00,  2.11s/it]\n",
      "extracting all features from dataset: 100%|██████████████████████████████████████████████| 1/1 [00:01<00:00,  1.71s/it]\n"
     ]
    },
    {
     "name": "stdout",
     "output_type": "stream",
     "text": [
      "----------------------------\n",
      "Train_z, Test_z\n",
      "PCA: 0.9329\n",
      "SVD: 0.9307\n",
      "NetG_fixD, Acc at sample 10 0.1404\n"
     ]
    },
    {
     "name": "stderr",
     "output_type": "stream",
     "text": [
      "extracting all features from dataset: 100%|██████████████████████████████████████████████| 2/2 [00:04<00:00,  2.10s/it]\n",
      "extracting all features from dataset: 100%|██████████████████████████████████████████████| 1/1 [00:01<00:00,  1.74s/it]\n"
     ]
    },
    {
     "name": "stdout",
     "output_type": "stream",
     "text": [
      "----------------------------\n",
      "Train_z, Test_z\n",
      "PCA: 0.9266\n",
      "SVD: 0.924\n",
      "NetG_fixD, Acc at sample 11 0.1467\n"
     ]
    },
    {
     "name": "stderr",
     "output_type": "stream",
     "text": [
      "extracting all features from dataset: 100%|██████████████████████████████████████████████| 2/2 [00:04<00:00,  2.14s/it]\n",
      "extracting all features from dataset: 100%|██████████████████████████████████████████████| 1/1 [00:01<00:00,  1.69s/it]\n"
     ]
    },
    {
     "name": "stdout",
     "output_type": "stream",
     "text": [
      "----------------------------\n",
      "Train_z, Test_z\n",
      "PCA: 0.9272\n",
      "SVD: 0.9262\n",
      "NetG_fixD, Acc at sample 12 0.1828\n"
     ]
    },
    {
     "name": "stderr",
     "output_type": "stream",
     "text": [
      "extracting all features from dataset: 100%|██████████████████████████████████████████████| 2/2 [00:04<00:00,  2.15s/it]\n",
      "extracting all features from dataset: 100%|██████████████████████████████████████████████| 1/1 [00:01<00:00,  1.70s/it]\n"
     ]
    },
    {
     "name": "stdout",
     "output_type": "stream",
     "text": [
      "----------------------------\n",
      "Train_z, Test_z\n",
      "PCA: 0.931\n",
      "SVD: 0.9294\n",
      "NetG_fixD, Acc at sample 13 0.1467\n"
     ]
    },
    {
     "name": "stderr",
     "output_type": "stream",
     "text": [
      "extracting all features from dataset: 100%|██████████████████████████████████████████████| 2/2 [00:04<00:00,  2.13s/it]\n",
      "extracting all features from dataset: 100%|██████████████████████████████████████████████| 1/1 [00:01<00:00,  1.78s/it]\n"
     ]
    },
    {
     "name": "stdout",
     "output_type": "stream",
     "text": [
      "----------------------------\n",
      "Train_z, Test_z\n",
      "PCA: 0.9309000000000001\n",
      "SVD: 0.9265\n",
      "NetG_fixD, Acc at sample 14 0.1246\n"
     ]
    },
    {
     "name": "stderr",
     "output_type": "stream",
     "text": [
      "extracting all features from dataset: 100%|██████████████████████████████████████████████| 2/2 [00:04<00:00,  2.15s/it]\n",
      "extracting all features from dataset: 100%|██████████████████████████████████████████████| 1/1 [00:01<00:00,  1.73s/it]\n"
     ]
    },
    {
     "name": "stdout",
     "output_type": "stream",
     "text": [
      "----------------------------\n",
      "Train_z, Test_z\n",
      "PCA: 0.929\n",
      "SVD: 0.9277\n",
      "NetG_fixD, Acc at sample 15 0.1101\n"
     ]
    },
    {
     "name": "stderr",
     "output_type": "stream",
     "text": [
      "extracting all features from dataset: 100%|██████████████████████████████████████████████| 2/2 [00:04<00:00,  2.30s/it]\n",
      "extracting all features from dataset: 100%|██████████████████████████████████████████████| 1/1 [00:01<00:00,  1.67s/it]\n"
     ]
    },
    {
     "name": "stdout",
     "output_type": "stream",
     "text": [
      "----------------------------\n",
      "Train_z, Test_z\n",
      "PCA: 0.928\n",
      "SVD: 0.9248\n",
      "NetG_fixD, Acc at sample 16 0.143\n"
     ]
    },
    {
     "name": "stderr",
     "output_type": "stream",
     "text": [
      "extracting all features from dataset: 100%|██████████████████████████████████████████████| 2/2 [00:04<00:00,  2.13s/it]\n",
      "extracting all features from dataset: 100%|██████████████████████████████████████████████| 1/1 [00:01<00:00,  1.80s/it]\n"
     ]
    },
    {
     "name": "stdout",
     "output_type": "stream",
     "text": [
      "----------------------------\n",
      "Train_z, Test_z\n",
      "PCA: 0.9308\n",
      "SVD: 0.9279\n",
      "NetG_fixD, Acc at sample 17 0.1276\n"
     ]
    },
    {
     "name": "stderr",
     "output_type": "stream",
     "text": [
      "extracting all features from dataset: 100%|██████████████████████████████████████████████| 2/2 [00:04<00:00,  2.20s/it]\n",
      "extracting all features from dataset: 100%|██████████████████████████████████████████████| 1/1 [00:01<00:00,  1.68s/it]\n"
     ]
    },
    {
     "name": "stdout",
     "output_type": "stream",
     "text": [
      "----------------------------\n",
      "Train_z, Test_z\n",
      "PCA: 0.9254\n",
      "SVD: 0.9216\n",
      "NetG_fixD, Acc at sample 18 0.1634\n"
     ]
    },
    {
     "name": "stderr",
     "output_type": "stream",
     "text": [
      "extracting all features from dataset: 100%|██████████████████████████████████████████████| 2/2 [00:04<00:00,  2.20s/it]\n",
      "extracting all features from dataset: 100%|██████████████████████████████████████████████| 1/1 [00:01<00:00,  1.77s/it]\n"
     ]
    },
    {
     "name": "stdout",
     "output_type": "stream",
     "text": [
      "----------------------------\n",
      "Train_z, Test_z\n",
      "PCA: 0.9297\n",
      "SVD: 0.9286\n",
      "NetG_fixD, Acc at sample 19 0.1491\n"
     ]
    },
    {
     "name": "stderr",
     "output_type": "stream",
     "text": [
      "extracting all features from dataset: 100%|██████████████████████████████████████████████| 2/2 [00:04<00:00,  2.29s/it]\n",
      "extracting all features from dataset: 100%|██████████████████████████████████████████████| 1/1 [00:01<00:00,  1.88s/it]\n"
     ]
    },
    {
     "name": "stdout",
     "output_type": "stream",
     "text": [
      "----------------------------\n",
      "Train_z, Test_z\n",
      "PCA: 0.923\n",
      "SVD: 0.9213\n",
      "NetG_fixD, Acc at sample 20 0.144\n",
      "0.1828 0.1101 0.14353500000000002 0.000269334275\n"
     ]
    }
   ],
   "source": [
    "# sample 20 times of NetG at final radius, NetD is fixed\n",
    "from sklearn.neighbors import KNeighborsClassifier \n",
    "Acc_results_G_sample8 = []\n",
    "\n",
    "for _ in range(sample_num):\n",
    "    #acc at first\n",
    "    net_noise = get_noise(DATASET, device, LABEL)\n",
    "    fed_state_dict = get_netG(netD,netV,net_noise,r_list[8])\n",
    "    netG.load_state_dict(fed_state_dict)\n",
    "    \n",
    "    train_X, train_Z, train_X_bar, train_Z_bar, train_labels = extract_features2(trainloader, netG, netD)\n",
    "\n",
    "    test_X, test_Z, test_X_bar, test_Z_bar, test_labels = extract_features2(testloader, netG, netD)\n",
    "\n",
    "    print(\"----------------------------\")\n",
    "    print(\"Train_z, Test_z\")\n",
    "    nearsub(n_comp, train_Z, train_labels, test_Z, test_labels)\n",
    "\n",
    "    knn= KNeighborsClassifier(n_neighbors=10) \n",
    "\n",
    "    knn.fit(train_Z,train_labels) \n",
    "    knn.score(test_Z_bar,test_labels) \n",
    "\n",
    "    y_predict = knn.predict(test_Z_bar) \n",
    "\n",
    "    count =0\n",
    "    for k in range(10000):\n",
    "        if y_predict[k] == test_labels[k]:\n",
    "            count +=1\n",
    "    print('NetG_fixD, Acc at sample',_+1,count/10000)\n",
    "    Acc_results_G_sample8.append(count/10000)\n",
    "    \n",
    "print(max(Acc_results_G_sample8),min(Acc_results_G_sample8),np.mean(Acc_results_G_sample8),np.var(Acc_results_G_sample8))"
   ]
  },
  {
   "cell_type": "code",
   "execution_count": 17,
   "id": "162a6f56",
   "metadata": {},
   "outputs": [
    {
     "name": "stderr",
     "output_type": "stream",
     "text": [
      "extracting all features from dataset: 100%|██████████████████████████████████████████████| 2/2 [00:04<00:00,  2.39s/it]\n",
      "extracting all features from dataset: 100%|██████████████████████████████████████████████| 1/1 [00:01<00:00,  1.90s/it]\n"
     ]
    },
    {
     "name": "stdout",
     "output_type": "stream",
     "text": [
      "----------------------------\n",
      "Train_z, Test_z\n",
      "PCA: 0.9288\n",
      "SVD: 0.9245\n",
      "NetG_fixD, Acc at sample 1 0.1122\n"
     ]
    },
    {
     "name": "stderr",
     "output_type": "stream",
     "text": [
      "extracting all features from dataset: 100%|██████████████████████████████████████████████| 2/2 [00:04<00:00,  2.30s/it]\n",
      "extracting all features from dataset: 100%|██████████████████████████████████████████████| 1/1 [00:01<00:00,  1.85s/it]\n"
     ]
    },
    {
     "name": "stdout",
     "output_type": "stream",
     "text": [
      "----------------------------\n",
      "Train_z, Test_z\n",
      "PCA: 0.9338\n",
      "SVD: 0.9315\n",
      "NetG_fixD, Acc at sample 2 0.0977\n"
     ]
    },
    {
     "name": "stderr",
     "output_type": "stream",
     "text": [
      "extracting all features from dataset: 100%|██████████████████████████████████████████████| 2/2 [00:04<00:00,  2.41s/it]\n",
      "extracting all features from dataset: 100%|██████████████████████████████████████████████| 1/1 [00:01<00:00,  1.86s/it]\n"
     ]
    },
    {
     "name": "stdout",
     "output_type": "stream",
     "text": [
      "----------------------------\n",
      "Train_z, Test_z\n",
      "PCA: 0.9354\n",
      "SVD: 0.9307\n",
      "NetG_fixD, Acc at sample 3 0.0777\n"
     ]
    },
    {
     "name": "stderr",
     "output_type": "stream",
     "text": [
      "extracting all features from dataset: 100%|██████████████████████████████████████████████| 2/2 [00:04<00:00,  2.24s/it]\n",
      "extracting all features from dataset: 100%|██████████████████████████████████████████████| 1/1 [00:01<00:00,  1.86s/it]\n"
     ]
    },
    {
     "name": "stdout",
     "output_type": "stream",
     "text": [
      "----------------------------\n",
      "Train_z, Test_z\n",
      "PCA: 0.9358\n",
      "SVD: 0.9365\n",
      "NetG_fixD, Acc at sample 4 0.121\n"
     ]
    },
    {
     "name": "stderr",
     "output_type": "stream",
     "text": [
      "extracting all features from dataset: 100%|██████████████████████████████████████████████| 2/2 [00:04<00:00,  2.33s/it]\n",
      "extracting all features from dataset: 100%|██████████████████████████████████████████████| 1/1 [00:01<00:00,  1.92s/it]\n"
     ]
    },
    {
     "name": "stdout",
     "output_type": "stream",
     "text": [
      "----------------------------\n",
      "Train_z, Test_z\n",
      "PCA: 0.9287\n",
      "SVD: 0.9258\n",
      "NetG_fixD, Acc at sample 5 0.1126\n"
     ]
    },
    {
     "name": "stderr",
     "output_type": "stream",
     "text": [
      "extracting all features from dataset: 100%|██████████████████████████████████████████████| 2/2 [00:04<00:00,  2.22s/it]\n",
      "extracting all features from dataset: 100%|██████████████████████████████████████████████| 1/1 [00:01<00:00,  1.83s/it]\n"
     ]
    },
    {
     "name": "stdout",
     "output_type": "stream",
     "text": [
      "----------------------------\n",
      "Train_z, Test_z\n",
      "PCA: 0.9301\n",
      "SVD: 0.9254\n",
      "NetG_fixD, Acc at sample 6 0.101\n"
     ]
    },
    {
     "name": "stderr",
     "output_type": "stream",
     "text": [
      "extracting all features from dataset: 100%|██████████████████████████████████████████████| 2/2 [00:04<00:00,  2.32s/it]\n",
      "extracting all features from dataset: 100%|██████████████████████████████████████████████| 1/1 [00:01<00:00,  1.88s/it]\n"
     ]
    },
    {
     "name": "stdout",
     "output_type": "stream",
     "text": [
      "----------------------------\n",
      "Train_z, Test_z\n",
      "PCA: 0.9305\n",
      "SVD: 0.9263\n",
      "NetG_fixD, Acc at sample 7 0.1136\n"
     ]
    },
    {
     "name": "stderr",
     "output_type": "stream",
     "text": [
      "extracting all features from dataset: 100%|██████████████████████████████████████████████| 2/2 [00:04<00:00,  2.45s/it]\n",
      "extracting all features from dataset: 100%|██████████████████████████████████████████████| 1/1 [00:01<00:00,  1.84s/it]\n"
     ]
    },
    {
     "name": "stdout",
     "output_type": "stream",
     "text": [
      "----------------------------\n",
      "Train_z, Test_z\n",
      "PCA: 0.9263\n",
      "SVD: 0.9244\n",
      "NetG_fixD, Acc at sample 8 0.1156\n"
     ]
    },
    {
     "name": "stderr",
     "output_type": "stream",
     "text": [
      "extracting all features from dataset: 100%|██████████████████████████████████████████████| 2/2 [00:04<00:00,  2.28s/it]\n",
      "extracting all features from dataset: 100%|██████████████████████████████████████████████| 1/1 [00:01<00:00,  1.88s/it]\n"
     ]
    },
    {
     "name": "stdout",
     "output_type": "stream",
     "text": [
      "----------------------------\n",
      "Train_z, Test_z\n",
      "PCA: 0.9344\n",
      "SVD: 0.9289000000000001\n",
      "NetG_fixD, Acc at sample 9 0.0816\n"
     ]
    },
    {
     "name": "stderr",
     "output_type": "stream",
     "text": [
      "extracting all features from dataset: 100%|██████████████████████████████████████████████| 2/2 [00:04<00:00,  2.27s/it]\n",
      "extracting all features from dataset: 100%|██████████████████████████████████████████████| 1/1 [00:01<00:00,  1.93s/it]\n"
     ]
    },
    {
     "name": "stdout",
     "output_type": "stream",
     "text": [
      "----------------------------\n",
      "Train_z, Test_z\n",
      "PCA: 0.9183\n",
      "SVD: 0.913\n",
      "NetG_fixD, Acc at sample 10 0.0911\n"
     ]
    },
    {
     "name": "stderr",
     "output_type": "stream",
     "text": [
      "extracting all features from dataset: 100%|██████████████████████████████████████████████| 2/2 [00:04<00:00,  2.29s/it]\n",
      "extracting all features from dataset: 100%|██████████████████████████████████████████████| 1/1 [00:01<00:00,  1.74s/it]\n"
     ]
    },
    {
     "name": "stdout",
     "output_type": "stream",
     "text": [
      "----------------------------\n",
      "Train_z, Test_z\n",
      "PCA: 0.9309000000000001\n",
      "SVD: 0.9245\n",
      "NetG_fixD, Acc at sample 11 0.1051\n"
     ]
    },
    {
     "name": "stderr",
     "output_type": "stream",
     "text": [
      "extracting all features from dataset: 100%|██████████████████████████████████████████████| 2/2 [00:04<00:00,  2.40s/it]\n",
      "extracting all features from dataset: 100%|██████████████████████████████████████████████| 1/1 [00:01<00:00,  1.88s/it]\n"
     ]
    },
    {
     "name": "stdout",
     "output_type": "stream",
     "text": [
      "----------------------------\n",
      "Train_z, Test_z\n",
      "PCA: 0.9198999999999999\n",
      "SVD: 0.9166\n",
      "NetG_fixD, Acc at sample 12 0.1048\n"
     ]
    },
    {
     "name": "stderr",
     "output_type": "stream",
     "text": [
      "extracting all features from dataset: 100%|██████████████████████████████████████████████| 2/2 [00:04<00:00,  2.37s/it]\n",
      "extracting all features from dataset: 100%|██████████████████████████████████████████████| 1/1 [00:01<00:00,  1.93s/it]\n"
     ]
    },
    {
     "name": "stdout",
     "output_type": "stream",
     "text": [
      "----------------------------\n",
      "Train_z, Test_z\n",
      "PCA: 0.9263\n",
      "SVD: 0.9249\n",
      "NetG_fixD, Acc at sample 13 0.154\n"
     ]
    },
    {
     "name": "stderr",
     "output_type": "stream",
     "text": [
      "extracting all features from dataset: 100%|██████████████████████████████████████████████| 2/2 [00:04<00:00,  2.18s/it]\n",
      "extracting all features from dataset: 100%|██████████████████████████████████████████████| 1/1 [00:01<00:00,  1.90s/it]\n"
     ]
    },
    {
     "name": "stdout",
     "output_type": "stream",
     "text": [
      "----------------------------\n",
      "Train_z, Test_z\n",
      "PCA: 0.9382\n",
      "SVD: 0.9341\n",
      "NetG_fixD, Acc at sample 14 0.1125\n"
     ]
    },
    {
     "name": "stderr",
     "output_type": "stream",
     "text": [
      "extracting all features from dataset: 100%|██████████████████████████████████████████████| 2/2 [00:04<00:00,  2.26s/it]\n",
      "extracting all features from dataset: 100%|██████████████████████████████████████████████| 1/1 [00:01<00:00,  1.87s/it]\n"
     ]
    },
    {
     "name": "stdout",
     "output_type": "stream",
     "text": [
      "----------------------------\n",
      "Train_z, Test_z\n",
      "PCA: 0.9265\n",
      "SVD: 0.9227\n",
      "NetG_fixD, Acc at sample 15 0.1231\n"
     ]
    },
    {
     "name": "stderr",
     "output_type": "stream",
     "text": [
      "extracting all features from dataset: 100%|██████████████████████████████████████████████| 2/2 [00:04<00:00,  2.34s/it]\n",
      "extracting all features from dataset: 100%|██████████████████████████████████████████████| 1/1 [00:01<00:00,  1.92s/it]\n"
     ]
    },
    {
     "name": "stdout",
     "output_type": "stream",
     "text": [
      "----------------------------\n",
      "Train_z, Test_z\n",
      "PCA: 0.9307\n",
      "SVD: 0.9247\n",
      "NetG_fixD, Acc at sample 16 0.1394\n"
     ]
    },
    {
     "name": "stderr",
     "output_type": "stream",
     "text": [
      "extracting all features from dataset: 100%|██████████████████████████████████████████████| 2/2 [00:04<00:00,  2.27s/it]\n",
      "extracting all features from dataset: 100%|██████████████████████████████████████████████| 1/1 [00:01<00:00,  1.87s/it]\n"
     ]
    },
    {
     "name": "stdout",
     "output_type": "stream",
     "text": [
      "----------------------------\n",
      "Train_z, Test_z\n",
      "PCA: 0.9298\n",
      "SVD: 0.9255\n",
      "NetG_fixD, Acc at sample 17 0.1189\n"
     ]
    },
    {
     "name": "stderr",
     "output_type": "stream",
     "text": [
      "extracting all features from dataset: 100%|██████████████████████████████████████████████| 2/2 [00:04<00:00,  2.17s/it]\n",
      "extracting all features from dataset: 100%|██████████████████████████████████████████████| 1/1 [00:01<00:00,  1.89s/it]\n"
     ]
    },
    {
     "name": "stdout",
     "output_type": "stream",
     "text": [
      "----------------------------\n",
      "Train_z, Test_z\n",
      "PCA: 0.9271\n",
      "SVD: 0.9211\n",
      "NetG_fixD, Acc at sample 18 0.1014\n"
     ]
    },
    {
     "name": "stderr",
     "output_type": "stream",
     "text": [
      "extracting all features from dataset: 100%|██████████████████████████████████████████████| 2/2 [00:04<00:00,  2.32s/it]\n",
      "extracting all features from dataset: 100%|██████████████████████████████████████████████| 1/1 [00:01<00:00,  1.84s/it]\n"
     ]
    },
    {
     "name": "stdout",
     "output_type": "stream",
     "text": [
      "----------------------------\n",
      "Train_z, Test_z\n",
      "PCA: 0.9336\n",
      "SVD: 0.9303\n",
      "NetG_fixD, Acc at sample 19 0.1078\n"
     ]
    },
    {
     "name": "stderr",
     "output_type": "stream",
     "text": [
      "extracting all features from dataset: 100%|██████████████████████████████████████████████| 2/2 [00:04<00:00,  2.34s/it]\n",
      "extracting all features from dataset: 100%|██████████████████████████████████████████████| 1/1 [00:01<00:00,  1.91s/it]\n"
     ]
    },
    {
     "name": "stdout",
     "output_type": "stream",
     "text": [
      "----------------------------\n",
      "Train_z, Test_z\n",
      "PCA: 0.9256\n",
      "SVD: 0.919\n",
      "NetG_fixD, Acc at sample 20 0.1357\n",
      "0.154 0.0777 0.11134 0.0003214063999999999\n"
     ]
    }
   ],
   "source": [
    "# sample 20 times of NetG at final radius, NetD is fixed\n",
    "from sklearn.neighbors import KNeighborsClassifier \n",
    "Acc_results_G_sample9 = []\n",
    "\n",
    "for _ in range(sample_num):\n",
    "    #acc at first\n",
    "    net_noise = get_noise(DATASET, device, LABEL)\n",
    "    fed_state_dict = get_netG(netD,netV,net_noise,r_list[9])\n",
    "    netG.load_state_dict(fed_state_dict)\n",
    "    \n",
    "    train_X, train_Z, train_X_bar, train_Z_bar, train_labels = extract_features2(trainloader, netG, netD)\n",
    "\n",
    "    test_X, test_Z, test_X_bar, test_Z_bar, test_labels = extract_features2(testloader, netG, netD)\n",
    "\n",
    "    print(\"----------------------------\")\n",
    "    print(\"Train_z, Test_z\")\n",
    "    nearsub(n_comp, train_Z, train_labels, test_Z, test_labels)\n",
    "\n",
    "    knn= KNeighborsClassifier(n_neighbors=10) \n",
    "\n",
    "    knn.fit(train_Z,train_labels) \n",
    "    knn.score(test_Z_bar,test_labels) \n",
    "\n",
    "    y_predict = knn.predict(test_Z_bar) \n",
    "\n",
    "    count =0\n",
    "    for k in range(10000):\n",
    "        if y_predict[k] == test_labels[k]:\n",
    "            count +=1\n",
    "    print('NetG_fixD, Acc at sample',_+1,count/10000)\n",
    "    Acc_results_G_sample9.append(count/10000)\n",
    "    \n",
    "print(max(Acc_results_G_sample9),min(Acc_results_G_sample9),np.mean(Acc_results_G_sample9),np.var(Acc_results_G_sample9))"
   ]
  },
  {
   "cell_type": "code",
   "execution_count": 18,
   "id": "4a83c92f",
   "metadata": {},
   "outputs": [
    {
     "name": "stderr",
     "output_type": "stream",
     "text": [
      "extracting all features from dataset: 100%|██████████████████████████████████████████████| 2/2 [00:04<00:00,  2.37s/it]\n",
      "extracting all features from dataset: 100%|██████████████████████████████████████████████| 1/1 [00:01<00:00,  1.92s/it]\n"
     ]
    },
    {
     "name": "stdout",
     "output_type": "stream",
     "text": [
      "----------------------------\n",
      "Train_z, Test_z\n",
      "PCA: 0.9322\n",
      "SVD: 0.9291\n",
      "NetG_fixD, Acc at sample 1 0.1266\n"
     ]
    },
    {
     "name": "stderr",
     "output_type": "stream",
     "text": [
      "extracting all features from dataset: 100%|██████████████████████████████████████████████| 2/2 [00:04<00:00,  2.19s/it]\n",
      "extracting all features from dataset: 100%|██████████████████████████████████████████████| 1/1 [00:01<00:00,  1.87s/it]\n"
     ]
    },
    {
     "name": "stdout",
     "output_type": "stream",
     "text": [
      "----------------------------\n",
      "Train_z, Test_z\n",
      "PCA: 0.9289000000000001\n",
      "SVD: 0.9227\n",
      "NetG_fixD, Acc at sample 2 0.0973\n"
     ]
    },
    {
     "name": "stderr",
     "output_type": "stream",
     "text": [
      "extracting all features from dataset: 100%|██████████████████████████████████████████████| 2/2 [00:04<00:00,  2.38s/it]\n",
      "extracting all features from dataset: 100%|██████████████████████████████████████████████| 1/1 [00:01<00:00,  1.86s/it]\n"
     ]
    },
    {
     "name": "stdout",
     "output_type": "stream",
     "text": [
      "----------------------------\n",
      "Train_z, Test_z\n",
      "PCA: 0.9227\n",
      "SVD: 0.9192\n",
      "NetG_fixD, Acc at sample 3 0.0714\n"
     ]
    },
    {
     "name": "stderr",
     "output_type": "stream",
     "text": [
      "extracting all features from dataset: 100%|██████████████████████████████████████████████| 2/2 [00:04<00:00,  2.27s/it]\n",
      "extracting all features from dataset: 100%|██████████████████████████████████████████████| 1/1 [00:01<00:00,  1.84s/it]\n"
     ]
    },
    {
     "name": "stdout",
     "output_type": "stream",
     "text": [
      "----------------------------\n",
      "Train_z, Test_z\n",
      "PCA: 0.9302\n",
      "SVD: 0.9264\n",
      "NetG_fixD, Acc at sample 4 0.1337\n"
     ]
    },
    {
     "name": "stderr",
     "output_type": "stream",
     "text": [
      "extracting all features from dataset: 100%|██████████████████████████████████████████████| 2/2 [00:04<00:00,  2.22s/it]\n",
      "extracting all features from dataset: 100%|██████████████████████████████████████████████| 1/1 [00:01<00:00,  1.77s/it]\n"
     ]
    },
    {
     "name": "stdout",
     "output_type": "stream",
     "text": [
      "----------------------------\n",
      "Train_z, Test_z\n",
      "PCA: 0.9342\n",
      "SVD: 0.9339999999999999\n",
      "NetG_fixD, Acc at sample 5 0.117\n"
     ]
    },
    {
     "name": "stderr",
     "output_type": "stream",
     "text": [
      "extracting all features from dataset: 100%|██████████████████████████████████████████████| 2/2 [00:04<00:00,  2.28s/it]\n",
      "extracting all features from dataset: 100%|██████████████████████████████████████████████| 1/1 [00:01<00:00,  1.89s/it]\n"
     ]
    },
    {
     "name": "stdout",
     "output_type": "stream",
     "text": [
      "----------------------------\n",
      "Train_z, Test_z\n",
      "PCA: 0.9304\n",
      "SVD: 0.9291\n",
      "NetG_fixD, Acc at sample 6 0.1354\n"
     ]
    },
    {
     "name": "stderr",
     "output_type": "stream",
     "text": [
      "extracting all features from dataset: 100%|██████████████████████████████████████████████| 2/2 [00:04<00:00,  2.17s/it]\n",
      "extracting all features from dataset: 100%|██████████████████████████████████████████████| 1/1 [00:01<00:00,  1.89s/it]\n"
     ]
    },
    {
     "name": "stdout",
     "output_type": "stream",
     "text": [
      "----------------------------\n",
      "Train_z, Test_z\n",
      "PCA: 0.9196\n",
      "SVD: 0.914\n",
      "NetG_fixD, Acc at sample 7 0.1128\n"
     ]
    },
    {
     "name": "stderr",
     "output_type": "stream",
     "text": [
      "extracting all features from dataset: 100%|██████████████████████████████████████████████| 2/2 [00:04<00:00,  2.22s/it]\n",
      "extracting all features from dataset: 100%|██████████████████████████████████████████████| 1/1 [00:01<00:00,  1.88s/it]\n"
     ]
    },
    {
     "name": "stdout",
     "output_type": "stream",
     "text": [
      "----------------------------\n",
      "Train_z, Test_z\n",
      "PCA: 0.9253\n",
      "SVD: 0.9204\n",
      "NetG_fixD, Acc at sample 8 0.1096\n"
     ]
    },
    {
     "name": "stderr",
     "output_type": "stream",
     "text": [
      "extracting all features from dataset: 100%|██████████████████████████████████████████████| 2/2 [00:04<00:00,  2.21s/it]\n",
      "extracting all features from dataset: 100%|██████████████████████████████████████████████| 1/1 [00:01<00:00,  1.87s/it]\n"
     ]
    },
    {
     "name": "stdout",
     "output_type": "stream",
     "text": [
      "----------------------------\n",
      "Train_z, Test_z\n",
      "PCA: 0.931\n",
      "SVD: 0.9289000000000001\n",
      "NetG_fixD, Acc at sample 9 0.0954\n"
     ]
    },
    {
     "name": "stderr",
     "output_type": "stream",
     "text": [
      "extracting all features from dataset: 100%|██████████████████████████████████████████████| 2/2 [00:04<00:00,  2.34s/it]\n",
      "extracting all features from dataset: 100%|██████████████████████████████████████████████| 1/1 [00:01<00:00,  1.81s/it]\n"
     ]
    },
    {
     "name": "stdout",
     "output_type": "stream",
     "text": [
      "----------------------------\n",
      "Train_z, Test_z\n",
      "PCA: 0.9329\n",
      "SVD: 0.9287\n",
      "NetG_fixD, Acc at sample 10 0.0912\n"
     ]
    },
    {
     "name": "stderr",
     "output_type": "stream",
     "text": [
      "extracting all features from dataset: 100%|██████████████████████████████████████████████| 2/2 [00:04<00:00,  2.27s/it]\n",
      "extracting all features from dataset: 100%|██████████████████████████████████████████████| 1/1 [00:01<00:00,  1.91s/it]\n"
     ]
    },
    {
     "name": "stdout",
     "output_type": "stream",
     "text": [
      "----------------------------\n",
      "Train_z, Test_z\n",
      "PCA: 0.9232\n",
      "SVD: 0.9182\n",
      "NetG_fixD, Acc at sample 11 0.0827\n"
     ]
    },
    {
     "name": "stderr",
     "output_type": "stream",
     "text": [
      "extracting all features from dataset: 100%|██████████████████████████████████████████████| 2/2 [00:04<00:00,  2.33s/it]\n",
      "extracting all features from dataset: 100%|██████████████████████████████████████████████| 1/1 [00:01<00:00,  1.92s/it]\n"
     ]
    },
    {
     "name": "stdout",
     "output_type": "stream",
     "text": [
      "----------------------------\n",
      "Train_z, Test_z\n",
      "PCA: 0.9376\n",
      "SVD: 0.9353\n",
      "NetG_fixD, Acc at sample 12 0.0946\n"
     ]
    },
    {
     "name": "stderr",
     "output_type": "stream",
     "text": [
      "extracting all features from dataset: 100%|██████████████████████████████████████████████| 2/2 [00:04<00:00,  2.34s/it]\n",
      "extracting all features from dataset: 100%|██████████████████████████████████████████████| 1/1 [00:01<00:00,  1.67s/it]\n"
     ]
    },
    {
     "name": "stdout",
     "output_type": "stream",
     "text": [
      "----------------------------\n",
      "Train_z, Test_z\n",
      "PCA: 0.9296\n",
      "SVD: 0.9263\n",
      "NetG_fixD, Acc at sample 13 0.1193\n"
     ]
    },
    {
     "name": "stderr",
     "output_type": "stream",
     "text": [
      "extracting all features from dataset: 100%|██████████████████████████████████████████████| 2/2 [00:04<00:00,  2.38s/it]\n",
      "extracting all features from dataset: 100%|██████████████████████████████████████████████| 1/1 [00:01<00:00,  1.88s/it]\n"
     ]
    },
    {
     "name": "stdout",
     "output_type": "stream",
     "text": [
      "----------------------------\n",
      "Train_z, Test_z\n",
      "PCA: 0.9378\n",
      "SVD: 0.9335\n",
      "NetG_fixD, Acc at sample 14 0.1106\n"
     ]
    },
    {
     "name": "stderr",
     "output_type": "stream",
     "text": [
      "extracting all features from dataset: 100%|██████████████████████████████████████████████| 2/2 [00:04<00:00,  2.17s/it]\n",
      "extracting all features from dataset: 100%|██████████████████████████████████████████████| 1/1 [00:01<00:00,  1.82s/it]\n"
     ]
    },
    {
     "name": "stdout",
     "output_type": "stream",
     "text": [
      "----------------------------\n",
      "Train_z, Test_z\n",
      "PCA: 0.9261\n",
      "SVD: 0.9248\n",
      "NetG_fixD, Acc at sample 15 0.0857\n"
     ]
    },
    {
     "name": "stderr",
     "output_type": "stream",
     "text": [
      "extracting all features from dataset: 100%|██████████████████████████████████████████████| 2/2 [00:04<00:00,  2.32s/it]\n",
      "extracting all features from dataset: 100%|██████████████████████████████████████████████| 1/1 [00:01<00:00,  1.86s/it]\n"
     ]
    },
    {
     "name": "stdout",
     "output_type": "stream",
     "text": [
      "----------------------------\n",
      "Train_z, Test_z\n",
      "PCA: 0.9345\n",
      "SVD: 0.9341\n",
      "NetG_fixD, Acc at sample 16 0.1148\n"
     ]
    },
    {
     "name": "stderr",
     "output_type": "stream",
     "text": [
      "extracting all features from dataset: 100%|██████████████████████████████████████████████| 2/2 [00:04<00:00,  2.33s/it]\n",
      "extracting all features from dataset: 100%|██████████████████████████████████████████████| 1/1 [00:01<00:00,  1.87s/it]\n"
     ]
    },
    {
     "name": "stdout",
     "output_type": "stream",
     "text": [
      "----------------------------\n",
      "Train_z, Test_z\n",
      "PCA: 0.9291\n",
      "SVD: 0.9235\n",
      "NetG_fixD, Acc at sample 17 0.0941\n"
     ]
    },
    {
     "name": "stderr",
     "output_type": "stream",
     "text": [
      "extracting all features from dataset: 100%|██████████████████████████████████████████████| 2/2 [00:04<00:00,  2.29s/it]\n",
      "extracting all features from dataset: 100%|██████████████████████████████████████████████| 1/1 [00:01<00:00,  1.91s/it]\n"
     ]
    },
    {
     "name": "stdout",
     "output_type": "stream",
     "text": [
      "----------------------------\n",
      "Train_z, Test_z\n",
      "PCA: 0.9264\n",
      "SVD: 0.9243\n",
      "NetG_fixD, Acc at sample 18 0.0791\n"
     ]
    },
    {
     "name": "stderr",
     "output_type": "stream",
     "text": [
      "extracting all features from dataset: 100%|██████████████████████████████████████████████| 2/2 [00:04<00:00,  2.29s/it]\n",
      "extracting all features from dataset: 100%|██████████████████████████████████████████████| 1/1 [00:01<00:00,  1.77s/it]\n"
     ]
    },
    {
     "name": "stdout",
     "output_type": "stream",
     "text": [
      "----------------------------\n",
      "Train_z, Test_z\n",
      "PCA: 0.9221\n",
      "SVD: 0.9198\n",
      "NetG_fixD, Acc at sample 19 0.0954\n"
     ]
    },
    {
     "name": "stderr",
     "output_type": "stream",
     "text": [
      "extracting all features from dataset: 100%|██████████████████████████████████████████████| 2/2 [00:04<00:00,  2.22s/it]\n",
      "extracting all features from dataset: 100%|██████████████████████████████████████████████| 1/1 [00:01<00:00,  1.81s/it]\n"
     ]
    },
    {
     "name": "stdout",
     "output_type": "stream",
     "text": [
      "----------------------------\n",
      "Train_z, Test_z\n",
      "PCA: 0.9236\n",
      "SVD: 0.9188000000000001\n",
      "NetG_fixD, Acc at sample 20 0.0982\n",
      "0.1354 0.0714 0.10324499999999999 0.000304375475\n"
     ]
    }
   ],
   "source": [
    "# sample 20 times of NetG at final radius, NetD is fixed\n",
    "from sklearn.neighbors import KNeighborsClassifier \n",
    "Acc_results_G_sample10 = []\n",
    "\n",
    "for _ in range(sample_num):\n",
    "    #acc at first\n",
    "    net_noise = get_noise(DATASET, device, LABEL)\n",
    "    fed_state_dict = get_netG(netD,netV,net_noise,r_list[10])\n",
    "    netG.load_state_dict(fed_state_dict)\n",
    "    \n",
    "    train_X, train_Z, train_X_bar, train_Z_bar, train_labels = extract_features2(trainloader, netG, netD)\n",
    "\n",
    "    test_X, test_Z, test_X_bar, test_Z_bar, test_labels = extract_features2(testloader, netG, netD)\n",
    "\n",
    "    print(\"----------------------------\")\n",
    "    print(\"Train_z, Test_z\")\n",
    "    nearsub(n_comp, train_Z, train_labels, test_Z, test_labels)\n",
    "\n",
    "    knn= KNeighborsClassifier(n_neighbors=10) \n",
    "\n",
    "    knn.fit(train_Z,train_labels) \n",
    "    knn.score(test_Z_bar,test_labels) \n",
    "\n",
    "    y_predict = knn.predict(test_Z_bar) \n",
    "\n",
    "    count =0\n",
    "    for k in range(10000):\n",
    "        if y_predict[k] == test_labels[k]:\n",
    "            count +=1\n",
    "    print('NetG_fixD, Acc at sample',_+1,count/10000)\n",
    "    Acc_results_G_sample10.append(count/10000)\n",
    "    \n",
    "print(max(Acc_results_G_sample10),min(Acc_results_G_sample10),np.mean(Acc_results_G_sample10),np.var(Acc_results_G_sample10))"
   ]
  },
  {
   "cell_type": "code",
   "execution_count": null,
   "id": "754fc0d5",
   "metadata": {},
   "outputs": [],
   "source": []
  }
 ],
 "metadata": {
  "kernelspec": {
   "display_name": "Python 3 (ipykernel)",
   "language": "python",
   "name": "python3"
  },
  "language_info": {
   "codemirror_mode": {
    "name": "ipython",
    "version": 3
   },
   "file_extension": ".py",
   "mimetype": "text/x-python",
   "name": "python",
   "nbconvert_exporter": "python",
   "pygments_lexer": "ipython3",
   "version": "3.7.16"
  }
 },
 "nbformat": 4,
 "nbformat_minor": 5
}
