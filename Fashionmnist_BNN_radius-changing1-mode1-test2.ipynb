{
 "cells": [
  {
   "cell_type": "code",
   "execution_count": 1,
   "id": "95b64f9b",
   "metadata": {},
   "outputs": [],
   "source": [
    "# all codes come are changed based on LDR code.\n",
    "# 用添加噪声的数据进行训练\n",
    "import argparse\n",
    "import torch.optim as optim\n",
    "import os\n",
    "import yaml\n",
    "from mcrgan.default import _C as config\n",
    "from mcrgan.default import update_config\n",
    "import torch\n",
    "from mcrgan.trainer import MCRTrainer\n",
    "from mcrgan.datasets import get_dataloader\n",
    "from mcrgan.models import get_models\n",
    "from mcrgan.models import get_BNN_models\n",
    "from mcrgan.models import get_noise\n",
    "from mcrgan.models import get_noise_uniform\n",
    "from mcrgan.models import DiscriminatorMNIST\n",
    "from mcrgan.models import weights_init_mnist_model_noise\n",
    "\n",
    "import numpy as np\n",
    "import torch\n",
    "import argparse\n",
    "from mcrgan.datasets import get_dataloader\n",
    "from mcrgan.models import get_models\n",
    "from mcrgan.default import _C as config\n",
    "from mcrgan.default import update_config\n",
    "from utils.utils import sort_dataset, compute_accuracy, extract_features\n",
    "from sklearn.decomposition import PCA\n",
    "from sklearn.decomposition import TruncatedSVD\n",
    "import torchvision.transforms as transforms\n",
    "import torchvision.datasets as datasets\n",
    "from tqdm import tqdm\n",
    "import os\n",
    "from mcrgan.loss import MCRGANloss\n",
    "import random\n",
    "import time\n",
    "random.seed(0)"
   ]
  },
  {
   "cell_type": "code",
   "execution_count": 2,
   "id": "806b2e2c",
   "metadata": {},
   "outputs": [],
   "source": [
    "# 导入Fmnist数据集，进行对比\n",
    "device = torch.device('cuda' if torch.cuda.is_available() else \"cpu\")\n",
    "DATASET = 'FMNIST'\n",
    "ROOT    = 'pth/to/the/dataset'\n",
    "BATCH_SIZE = 2048\n",
    "WORKERS = 8\n",
    "DATA_SAMPLE = 50000\n",
    "LABEL = 0\n",
    "\n",
    "dataloader, dataset = get_dataloader(\n",
    "        data_name=DATASET,\n",
    "        root=ROOT,\n",
    "        batch_size=BATCH_SIZE,\n",
    "        num_workers=WORKERS)"
   ]
  },
  {
   "cell_type": "code",
   "execution_count": 3,
   "id": "08feb6b9",
   "metadata": {},
   "outputs": [],
   "source": [
    "import collections\n",
    "\n",
    "def get_netG(netD,netV,net_noise,radius=1):\n",
    "    models = [netD, netV,net_noise]\n",
    "    worker_state_dict = [x.state_dict() for x in models]\n",
    "    weight_keys = list(worker_state_dict[0].keys())\n",
    "    fed_state_dict = collections.OrderedDict()\n",
    "    for key in weight_keys:\n",
    "        fed_state_dict[key] = worker_state_dict[0][key] + radius*worker_state_dict[2][key]*torch.log(1+torch.exp(worker_state_dict[1][key]))\n",
    "    return fed_state_dict\n",
    "\n",
    "# new netG already optimized by adam and time learning rate, so we only using netG to update netV\n",
    "def update_netV(netV,netG,net_noise,fed_state_dict,radius=1):\n",
    "    models =[netV,netG,net_noise]\n",
    "    worker_state_dict = [x.state_dict() for x in models]\n",
    "    weight_keys = list(worker_state_dict[0].keys())\n",
    "    update_dict = collections.OrderedDict()\n",
    "    for key in weight_keys:\n",
    "        update_dict[key] = worker_state_dict[0][key] - (worker_state_dict[1][key]-fed_state_dict[key])*(worker_state_dict[2][key]*radius)/torch.log(1+torch.exp(-worker_state_dict[0][key]))\n",
    "    return update_dict\n",
    "\n",
    "# generate different distribution via gaussian init and uniform\n",
    "def get_cauchy_noise(netD,net_noise1,net_noise2):\n",
    "    models =[netD,net_noise1, net_noise2]\n",
    "    worker_state_dict = [x.state_dict() for x in models]\n",
    "    weight_keys = list(worker_state_dict[0].keys())\n",
    "    update_dict = collections.OrderedDict()\n",
    "    for key in weight_keys:\n",
    "        update_dict[key] = worker_state_dict[1][key] / worker_state_dict[2][key]\n",
    "    return update_dict\n",
    "        "
   ]
  },
  {
   "cell_type": "code",
   "execution_count": 4,
   "id": "bd8022df",
   "metadata": {},
   "outputs": [],
   "source": [
    "#models\n",
    "# train hyperparameters, batch norm not used var\n",
    "#store_Var = []\n",
    "import time\n",
    "from torch_mimicry.training import scheduler, logger, metric_log\n",
    "\n",
    "from test_acc import nearsub\n",
    "import numpy as np\n",
    "import torch\n",
    "import argparse\n",
    "from mcrgan.datasets import get_dataloader\n",
    "from mcrgan.models import get_models\n",
    "from mcrgan.default import _C as config\n",
    "from mcrgan.default import update_config\n",
    "from utils.utils import sort_dataset, compute_accuracy, extract_features2\n",
    "from sklearn.decomposition import PCA\n",
    "from sklearn.decomposition import TruncatedSVD\n",
    "import torchvision.transforms as transforms\n",
    "import torchvision.datasets as datasets\n",
    "from tqdm import tqdm\n",
    "import os\n",
    "\n",
    "start_time = time.time()\n",
    "#global_step = 0\n",
    "epsilon_noise = 0.1\n",
    "num_steps = 1000\n",
    "n_dis = 1\n",
    "n_dis2 = 1\n",
    "numclasses =10\n",
    "lr1 = 1e-3\n",
    "lr2 = 1e-3\n",
    "log_data = metric_log.MetricLog()\n",
    "data_time = time.time()\n",
    "iter_dataloader = iter(dataloader)\n",
    "data, label = next(iter_dataloader)\n",
    "data_time = time.time() - data_time\n",
    "real_cpu = data.to(device)\n",
    "real_label = label.clone().detach()\n",
    "\n",
    "netD, netG, netV = get_BNN_models(DATASET, device, LABEL)\n",
    "net_noise = get_noise(DATASET, device, LABEL)\n",
    "fed_state_dict = get_netG(netD,netV,net_noise)\n",
    "netG.load_state_dict(fed_state_dict)\n",
    "optD = optim.Adam(netD.parameters(), lr1, betas=(0.5, 0.999))\n",
    "optG = optim.Adam(netG.parameters(), lr2, betas=(0.5, 0.999))\n",
    "\n",
    "Acc_results_D = []\n",
    "Acc_results_G = []\n",
    "\n",
    "\n",
    "transform = transforms.Compose(\n",
    "            [transforms.Resize(32),\n",
    "             transforms.ToTensor(),\n",
    "             transforms.Normalize(0.5, 0.5)])\n",
    "\n",
    "trainset = datasets.FashionMNIST(root=ROOT, train=True, download=True, transform=transform)\n",
    "testset = datasets.FashionMNIST(root=ROOT, train=False, download=True, transform=transform)\n",
    "\n",
    "testloader = torch.utils.data.DataLoader(\n",
    "        testset, batch_size=DATA_SAMPLE, shuffle=False, num_workers=WORKERS)\n",
    "\n",
    "trainloader = torch.utils.data.DataLoader(\n",
    "        trainset, batch_size=DATA_SAMPLE, shuffle=False, num_workers=WORKERS)\n",
    "device = torch.device('cuda' if torch.cuda.is_available() else \"cpu\")\n",
    "n_comp = 10\n"
   ]
  },
  {
   "cell_type": "code",
   "execution_count": 5,
   "id": "dd6bcdad",
   "metadata": {},
   "outputs": [],
   "source": [
    "# golden search algorithm to determined the radius of the sample ball, due to traditional updating netV is too slow\n",
    "# no meaning for n_dis =2 for our case, just to have output for every update\n",
    "# sample too much would arise cuda memory error\n",
    "def gs_radius(radius1,radius2,netD,real_cpu,real_label,tor=1e-3,n_dis=2,lam=0.618,mode=1,gam3=1):\n",
    "    mcr_gan_loss=MCRGANloss(gam1=1., gam2=1., gam3=gam3, eps=0.5, numclasses=numclasses, mode=mode, rho=None)\n",
    "    #optG = optim.Adam(netG.parameters(), lr2, betas=(0.5, 0.999))\n",
    "    \n",
    "    Z = netD(real_cpu)\n",
    "    net_noise = get_noise(DATASET, device, LABEL)\n",
    "    err1 = 0\n",
    "    err2 = 1000\n",
    "    while abs(err1 - err2)> tor or abs(radius1-radius2)>tor:\n",
    "        a1 = radius2 - lam*(radius2-radius1)\n",
    "        a2 = radius1 + lam*(radius2-radius1)\n",
    "        fed_state_dict = get_netG(netD,netV,net_noise,a1)\n",
    "        netG.load_state_dict(fed_state_dict)\n",
    "        Z_bar = netG(real_cpu)\n",
    "        errG1, errG_EC1 = mcr_gan_loss(Z, Z_bar, real_label, n_dis2 - 1, n_dis2)\n",
    "        err1 = errG1\n",
    "        \n",
    "        fed_state_dict = get_netG(netD,netV,net_noise,a2)\n",
    "        netG.load_state_dict(fed_state_dict)\n",
    "        Z_bar = netG(real_cpu)\n",
    "        errG2, errG_EC2 = mcr_gan_loss(Z, Z_bar, real_label, n_dis2 - 1, n_dis2)\n",
    "        err2 = errG2\n",
    "        \n",
    "        if err1 > err2:\n",
    "            radius1 = a1\n",
    "            a1 = a2\n",
    "            err1 = err2\n",
    "            a2 = radius1 + lam*(radius2-radius1)\n",
    "            fed_state_dict = get_netG(netD,netV,net_noise,a2)\n",
    "            netG.load_state_dict(fed_state_dict)\n",
    "            Z_bar = netG(real_cpu)\n",
    "            errG2, errG_EC2 = mcr_gan_loss(Z, Z_bar, real_label, n_dis2 - 1, n_dis2)\n",
    "            err2 = errG2\n",
    "            #print('r1',radius1)\n",
    "            #print(errG2, errG_EC2)\n",
    "        else:\n",
    "            radius2 = a2\n",
    "            a2 = a1\n",
    "            a1 = radius2 - lam*(radius2-radius1)\n",
    "            fed_state_dict = get_netG(netD,netV,net_noise,a1)\n",
    "            netG.load_state_dict(fed_state_dict)\n",
    "            Z_bar = netG(real_cpu)\n",
    "            errG1, errG_EC1 = mcr_gan_loss(Z, Z_bar, real_label, n_dis2 - 1, n_dis2)\n",
    "            err1 = errG1\n",
    "            #print('r2',radius2)\n",
    "            #print(errG1, errG_EC1)\n",
    "         \n",
    "    return radius1,radius2\n",
    "\n",
    "\n",
    "def gs_radius2(radius1,radius2, netD,real_cpu,real_label,tor=1e-3,n_dis=2,lam=0.618,mode=1,gam3=1):\n",
    "    mcr_gan_loss=MCRGANloss(gam1=1., gam2=1., gam3=gam3, eps=0.5, numclasses=numclasses, mode=mode, rho=None)\n",
    "    #optG = optim.Adam(netG.parameters(), lr2, betas=(0.5, 0.999))\n",
    "    \n",
    "    Z = netD(real_cpu)\n",
    "    net_noise = get_noise(DATASET, device, LABEL)\n",
    "    net_noise1 = get_noise(DATASET, device, LABEL)\n",
    "    net_noise_cauchy = get_cauchy_noise(netD,net_noise,net_noise1)\n",
    "    net_noise.load_state_dict(net_noise_cauchy)\n",
    "    #net_noise = get_noise(DATASET, device, LABEL)\n",
    "    err1 = 0\n",
    "    err2 = 1000\n",
    "    while abs(err1 - err2)> tor or abs(radius1-radius2)>tor:\n",
    "        a1 = radius2 - lam*(radius2-radius1)\n",
    "        a2 = radius1 + lam*(radius2-radius1)\n",
    "        fed_state_dict = get_netG(netD,netV,net_noise,a1)\n",
    "        netG.load_state_dict(fed_state_dict)\n",
    "        Z_bar = netG(real_cpu)\n",
    "        errG1, errG_EC1 = mcr_gan_loss(Z, Z_bar, real_label, n_dis2 - 1, n_dis2)\n",
    "        err1 = errG1\n",
    "        \n",
    "        fed_state_dict = get_netG(netD,netV,net_noise,a2)\n",
    "        netG.load_state_dict(fed_state_dict)\n",
    "        Z_bar = netG(real_cpu)\n",
    "        errG2, errG_EC2 = mcr_gan_loss(Z, Z_bar, real_label, n_dis2 - 1, n_dis2)\n",
    "        err2 = errG2\n",
    "        \n",
    "        if err1 > err2:\n",
    "            radius1 = a1\n",
    "            a1 = a2\n",
    "            err1 = err2\n",
    "            a2 = radius1 + lam*(radius2-radius1)\n",
    "            fed_state_dict = get_netG(netD,netV,net_noise,a2)\n",
    "            netG.load_state_dict(fed_state_dict)\n",
    "            Z_bar = netG(real_cpu)\n",
    "            errG2, errG_EC2 = mcr_gan_loss(Z, Z_bar, real_label, n_dis2 - 1, n_dis2)\n",
    "            err2 = errG2\n",
    "            #print('r1',radius1)\n",
    "            #print(errG2, errG_EC2)\n",
    "        else:\n",
    "            radius2 = a2\n",
    "            a2 = a1\n",
    "            a1 = radius2 - lam*(radius2-radius1)\n",
    "            fed_state_dict = get_netG(netD,netV,net_noise,a1)\n",
    "            netG.load_state_dict(fed_state_dict)\n",
    "            Z_bar = netG(real_cpu)\n",
    "            errG1, errG_EC1 = mcr_gan_loss(Z, Z_bar, real_label, n_dis2 - 1, n_dis2)\n",
    "            err1 = errG1\n",
    "            #print('r2',radius2)\n",
    "            #print(errG1, errG_EC1)\n",
    "         \n",
    "    return radius1,radius2\n",
    "\n",
    "def gs_radius3(radius1,radius2, netD,real_cpu,real_label,tor=1e-3,n_dis=2,lam=0.618,mode=1,gam3=1):\n",
    "    mcr_gan_loss=MCRGANloss(gam1=1., gam2=1., gam3=gam3, eps=0.5, numclasses=numclasses, mode=mode, rho=None)\n",
    "    #optG = optim.Adam(netG.parameters(), lr2, betas=(0.5, 0.999))\n",
    "    \n",
    "    Z = netD(real_cpu)\n",
    "    net_noise = get_noise_uniform(DATASET, device, LABEL)\n",
    "\n",
    "    #net_noise = get_noise(DATASET, device, LABEL)\n",
    "    err1 = 0\n",
    "    err2 = 1000\n",
    "    while abs(err1 - err2)> tor or abs(radius1-radius2)>tor:\n",
    "        a1 = radius2 - lam*(radius2-radius1)\n",
    "        a2 = radius1 + lam*(radius2-radius1)\n",
    "        fed_state_dict = get_netG(netD,netV,net_noise,a1)\n",
    "        netG.load_state_dict(fed_state_dict)\n",
    "        Z_bar = netG(real_cpu)\n",
    "        errG1, errG_EC1 = mcr_gan_loss(Z, Z_bar, real_label, n_dis2 - 1, n_dis2)\n",
    "        err1 = errG1\n",
    "        \n",
    "        fed_state_dict = get_netG(netD,netV,net_noise,a2)\n",
    "        netG.load_state_dict(fed_state_dict)\n",
    "        Z_bar = netG(real_cpu)\n",
    "        errG2, errG_EC2 = mcr_gan_loss(Z, Z_bar, real_label, n_dis2 - 1, n_dis2)\n",
    "        err2 = errG2\n",
    "        \n",
    "        if err1 > err2:\n",
    "            radius1 = a1\n",
    "            a1 = a2\n",
    "            err1 = err2\n",
    "            a2 = radius1 + lam*(radius2-radius1)\n",
    "            fed_state_dict = get_netG(netD,netV,net_noise,a2)\n",
    "            netG.load_state_dict(fed_state_dict)\n",
    "            Z_bar = netG(real_cpu)\n",
    "            errG2, errG_EC2 = mcr_gan_loss(Z, Z_bar, real_label, n_dis2 - 1, n_dis2)\n",
    "            err2 = errG2\n",
    "            #print('r1',radius1)\n",
    "            #print(errG2, errG_EC2)\n",
    "        else:\n",
    "            radius2 = a2\n",
    "            a2 = a1\n",
    "            a1 = radius2 - lam*(radius2-radius1)\n",
    "            fed_state_dict = get_netG(netD,netV,net_noise,a1)\n",
    "            netG.load_state_dict(fed_state_dict)\n",
    "            Z_bar = netG(real_cpu)\n",
    "            errG1, errG_EC1 = mcr_gan_loss(Z, Z_bar, real_label, n_dis2 - 1, n_dis2)\n",
    "            err1 = errG1\n",
    "            #print('r2',radius2)\n",
    "            #print(errG1, errG_EC1)\n",
    "         \n",
    "    return radius1,radius2"
   ]
  },
  {
   "cell_type": "code",
   "execution_count": 6,
   "id": "15cb67aa",
   "metadata": {},
   "outputs": [
    {
     "name": "stderr",
     "output_type": "stream",
     "text": [
      "extracting all features from dataset: 100%|██████████████████████████████████████████████| 1/1 [00:02<00:00,  2.97s/it]\n",
      "extracting all features from dataset: 100%|██████████████████████████████████████████████| 1/1 [00:01<00:00,  1.66s/it]\n"
     ]
    },
    {
     "name": "stdout",
     "output_type": "stream",
     "text": [
      "----------------------------\n",
      "Train_z, Test_z\n",
      "PCA: 0.8367\n",
      "SVD: 0.8285\n",
      "NetD, Acc at first 0.8399\n"
     ]
    },
    {
     "name": "stderr",
     "output_type": "stream",
     "text": [
      "extracting all features from dataset: 100%|██████████████████████████████████████████████| 2/2 [00:04<00:00,  2.46s/it]\n",
      "extracting all features from dataset: 100%|██████████████████████████████████████████████| 1/1 [00:01<00:00,  1.63s/it]\n"
     ]
    },
    {
     "name": "stdout",
     "output_type": "stream",
     "text": [
      "----------------------------\n",
      "Train_z, Test_z\n",
      "PCA: 0.8065\n",
      "SVD: 0.8056\n",
      "NetG, Acc at first 0.8452\n"
     ]
    }
   ],
   "source": [
    "#acc at first for NetD\n",
    "train_X, train_Z, train_X_bar, train_Z_bar, train_labels = extract_features2(testloader, netD, netG)\n",
    "\n",
    "test_X, test_Z, test_X_bar, test_Z_bar, test_labels = extract_features2(testloader, netD, netG)\n",
    "\n",
    "\n",
    "print(\"----------------------------\")\n",
    "print(\"Train_z, Test_z\")\n",
    "nearsub(n_comp, train_Z, train_labels, test_Z, test_labels)\n",
    "\n",
    "#acc at first for NetD\n",
    "from sklearn.neighbors import KNeighborsClassifier \n",
    "knn= KNeighborsClassifier(n_neighbors=10) \n",
    "\n",
    "knn.fit(train_Z,train_labels) \n",
    "knn.score(test_Z,test_labels) \n",
    " \n",
    "y_predict = knn.predict(test_Z) \n",
    "\n",
    "count =0\n",
    "for k in range(10000):\n",
    "    if y_predict[k] == test_labels[k]:\n",
    "        count +=1\n",
    "print('NetD, Acc at first',count/10000)\n",
    "Acc_results_D.append(count/10000)\n",
    "\n",
    "#acc at first for NetG\n",
    "train_X, train_Z, train_X_bar, train_Z_bar, train_labels = extract_features2(trainloader, netG, netD)\n",
    "\n",
    "test_X, test_Z, test_X_bar, test_Z_bar, test_labels = extract_features2(testloader, netG, netD)\n",
    "\n",
    "print(\"----------------------------\")\n",
    "print(\"Train_z, Test_z\")\n",
    "nearsub(n_comp, train_Z, train_labels, test_Z, test_labels)\n",
    "\n",
    "\n",
    "#acc at first\n",
    "from sklearn.neighbors import KNeighborsClassifier \n",
    "knn= KNeighborsClassifier(n_neighbors=10) \n",
    "\n",
    "knn.fit(train_Z,train_labels) \n",
    "knn.score(test_Z,test_labels) \n",
    " \n",
    "y_predict = knn.predict(test_Z) \n",
    "\n",
    "count =0\n",
    "for k in range(10000):\n",
    "    if y_predict[k] == test_labels[k]:\n",
    "        count +=1\n",
    "print('NetG, Acc at first',count/10000)\n",
    "Acc_results_G.append(count/10000)"
   ]
  },
  {
   "cell_type": "code",
   "execution_count": 7,
   "id": "e0d6cae2",
   "metadata": {},
   "outputs": [
    {
     "name": "stdout",
     "output_type": "stream",
     "text": [
      "tensor(-53.5348, device='cuda:0', grad_fn=<NegBackward0>) [tensor(-5.9373, device='cuda:0', grad_fn=<NegBackward0>), tensor(-6.5018, device='cuda:0', grad_fn=<NegBackward0>), tensor(-41.0957, device='cuda:0', grad_fn=<AddBackward0>)]\n",
      "99.46526550294142\n",
      "tensor(-45.8039, device='cuda:0', grad_fn=<NegBackward0>) [tensor(-3.5148, device='cuda:0', grad_fn=<NegBackward0>), tensor(-5.4672, device='cuda:0', grad_fn=<NegBackward0>), tensor(-36.8219, device='cuda:0', grad_fn=<AddBackward0>)]\n",
      "tensor(-50.2364, device='cuda:0', grad_fn=<NegBackward0>) [tensor(-3.5148, device='cuda:0', grad_fn=<NegBackward0>), tensor(-6.7495, device='cuda:0', grad_fn=<NegBackward0>), tensor(-39.9722, device='cuda:0', grad_fn=<AddBackward0>)]\n",
      "5.335757674659305\n",
      "tensor(-58.5598, device='cuda:0', grad_fn=<NegBackward0>) [tensor(-5.8454, device='cuda:0', grad_fn=<NegBackward0>), tensor(-6.7247, device='cuda:0', grad_fn=<NegBackward0>), tensor(-45.9897, device='cuda:0', grad_fn=<AddBackward0>)]\n",
      "tensor(-58.3607, device='cuda:0', grad_fn=<NegBackward0>) [tensor(-5.8454, device='cuda:0', grad_fn=<NegBackward0>), tensor(-6.8440, device='cuda:0', grad_fn=<NegBackward0>), tensor(-45.6713, device='cuda:0', grad_fn=<AddBackward0>)]\n",
      "4.9626793202252495\n",
      "tensor(-64.9042, device='cuda:0', grad_fn=<NegBackward0>) [tensor(-7.4475, device='cuda:0', grad_fn=<NegBackward0>), tensor(-6.9326, device='cuda:0', grad_fn=<NegBackward0>), tensor(-50.5241, device='cuda:0', grad_fn=<AddBackward0>)]\n",
      "tensor(-64.6155, device='cuda:0', grad_fn=<NegBackward0>) [tensor(-7.4475, device='cuda:0', grad_fn=<NegBackward0>), tensor(-7.1932, device='cuda:0', grad_fn=<NegBackward0>), tensor(-49.9747, device='cuda:0', grad_fn=<AddBackward0>)]\n",
      "56.157269475137674\n",
      "tensor(-66.7672, device='cuda:0', grad_fn=<NegBackward0>) [tensor(-8.6643, device='cuda:0', grad_fn=<NegBackward0>), tensor(-6.4598, device='cuda:0', grad_fn=<NegBackward0>), tensor(-51.6430, device='cuda:0', grad_fn=<AddBackward0>)]\n",
      "tensor(-65.7222, device='cuda:0', grad_fn=<NegBackward0>) [tensor(-8.6643, device='cuda:0', grad_fn=<NegBackward0>), tensor(-6.1590, device='cuda:0', grad_fn=<NegBackward0>), tensor(-50.8988, device='cuda:0', grad_fn=<AddBackward0>)]\n",
      "4.944625396214916\n",
      "tensor(-72.3171, device='cuda:0', grad_fn=<NegBackward0>) [tensor(-9.5934, device='cuda:0', grad_fn=<NegBackward0>), tensor(-7.5211, device='cuda:0', grad_fn=<NegBackward0>), tensor(-55.2026, device='cuda:0', grad_fn=<AddBackward0>)]\n",
      "tensor(-71.1404, device='cuda:0', grad_fn=<NegBackward0>) [tensor(-9.5934, device='cuda:0', grad_fn=<NegBackward0>), tensor(-7.0437, device='cuda:0', grad_fn=<NegBackward0>), tensor(-54.5033, device='cuda:0', grad_fn=<AddBackward0>)]\n",
      "5.293334796713626\n",
      "tensor(-74.6741, device='cuda:0', grad_fn=<NegBackward0>) [tensor(-10.3923, device='cuda:0', grad_fn=<NegBackward0>), tensor(-7.4083, device='cuda:0', grad_fn=<NegBackward0>), tensor(-56.8736, device='cuda:0', grad_fn=<AddBackward0>)]\n",
      "tensor(-74.7362, device='cuda:0', grad_fn=<NegBackward0>) [tensor(-10.3923, device='cuda:0', grad_fn=<NegBackward0>), tensor(-6.9986, device='cuda:0', grad_fn=<NegBackward0>), tensor(-57.3452, device='cuda:0', grad_fn=<AddBackward0>)]\n",
      "5.086659777634566\n",
      "tensor(-80.3797, device='cuda:0', grad_fn=<NegBackward0>) [tensor(-11.2873, device='cuda:0', grad_fn=<NegBackward0>), tensor(-7.9380, device='cuda:0', grad_fn=<NegBackward0>), tensor(-61.1544, device='cuda:0', grad_fn=<AddBackward0>)]\n",
      "tensor(-76.9060, device='cuda:0', grad_fn=<NegBackward0>) [tensor(-11.2873, device='cuda:0', grad_fn=<NegBackward0>), tensor(-6.6057, device='cuda:0', grad_fn=<NegBackward0>), tensor(-59.0130, device='cuda:0', grad_fn=<AddBackward0>)]\n",
      "5.536800251752226\n",
      "tensor(-83.0897, device='cuda:0', grad_fn=<NegBackward0>) [tensor(-12.5043, device='cuda:0', grad_fn=<NegBackward0>), tensor(-7.6393, device='cuda:0', grad_fn=<NegBackward0>), tensor(-62.9460, device='cuda:0', grad_fn=<AddBackward0>)]\n",
      "tensor(-80.4688, device='cuda:0', grad_fn=<NegBackward0>) [tensor(-12.5043, device='cuda:0', grad_fn=<NegBackward0>), tensor(-6.3731, device='cuda:0', grad_fn=<NegBackward0>), tensor(-61.5914, device='cuda:0', grad_fn=<AddBackward0>)]\n",
      "5.152032951282645\n",
      "tensor(-82.6030, device='cuda:0', grad_fn=<NegBackward0>) [tensor(-13.0397, device='cuda:0', grad_fn=<NegBackward0>), tensor(-6.8742, device='cuda:0', grad_fn=<NegBackward0>), tensor(-62.6891, device='cuda:0', grad_fn=<AddBackward0>)]\n",
      "tensor(-84.0820, device='cuda:0', grad_fn=<NegBackward0>) [tensor(-13.0397, device='cuda:0', grad_fn=<NegBackward0>), tensor(-7.2442, device='cuda:0', grad_fn=<NegBackward0>), tensor(-63.7981, device='cuda:0', grad_fn=<AddBackward0>)]\n",
      "4.981625340422114\n",
      "tensor(-83.7746, device='cuda:0', grad_fn=<NegBackward0>) [tensor(-13.5566, device='cuda:0', grad_fn=<NegBackward0>), tensor(-6.5919, device='cuda:0', grad_fn=<NegBackward0>), tensor(-63.6261, device='cuda:0', grad_fn=<AddBackward0>)]\n",
      "tensor(-84.8074, device='cuda:0', grad_fn=<NegBackward0>) [tensor(-13.5566, device='cuda:0', grad_fn=<NegBackward0>), tensor(-7.7733, device='cuda:0', grad_fn=<NegBackward0>), tensor(-63.4774, device='cuda:0', grad_fn=<AddBackward0>)]\n",
      "5.893158515731432\n",
      "tensor(-86.3144, device='cuda:0', grad_fn=<NegBackward0>) [tensor(-13.6127, device='cuda:0', grad_fn=<NegBackward0>), tensor(-7.6065, device='cuda:0', grad_fn=<NegBackward0>), tensor(-65.0952, device='cuda:0', grad_fn=<AddBackward0>)]\n",
      "tensor(-84.4664, device='cuda:0', grad_fn=<NegBackward0>) [tensor(-13.6127, device='cuda:0', grad_fn=<NegBackward0>), tensor(-6.9229, device='cuda:0', grad_fn=<NegBackward0>), tensor(-63.9309, device='cuda:0', grad_fn=<AddBackward0>)]\n",
      "5.2156609581602185\n",
      "tensor(-90.5398, device='cuda:0', grad_fn=<NegBackward0>) [tensor(-15.1084, device='cuda:0', grad_fn=<NegBackward0>), tensor(-7.8879, device='cuda:0', grad_fn=<NegBackward0>), tensor(-67.5435, device='cuda:0', grad_fn=<AddBackward0>)]\n",
      "tensor(-92.4512, device='cuda:0', grad_fn=<NegBackward0>) [tensor(-15.1084, device='cuda:0', grad_fn=<NegBackward0>), tensor(-8.4320, device='cuda:0', grad_fn=<NegBackward0>), tensor(-68.9108, device='cuda:0', grad_fn=<AddBackward0>)]\n",
      "5.848009191846782\n",
      "tensor(-95.4868, device='cuda:0', grad_fn=<NegBackward0>) [tensor(-15.6793, device='cuda:0', grad_fn=<NegBackward0>), tensor(-8.7144, device='cuda:0', grad_fn=<NegBackward0>), tensor(-71.0931, device='cuda:0', grad_fn=<AddBackward0>)]\n",
      "tensor(-92.0096, device='cuda:0', grad_fn=<NegBackward0>) [tensor(-15.6793, device='cuda:0', grad_fn=<NegBackward0>), tensor(-7.4711, device='cuda:0', grad_fn=<NegBackward0>), tensor(-68.8593, device='cuda:0', grad_fn=<AddBackward0>)]\n",
      "5.2209317844907766\n",
      "tensor(-94.6405, device='cuda:0', grad_fn=<NegBackward0>) [tensor(-16.1632, device='cuda:0', grad_fn=<NegBackward0>), tensor(-8.0986, device='cuda:0', grad_fn=<NegBackward0>), tensor(-70.3788, device='cuda:0', grad_fn=<AddBackward0>)]\n",
      "tensor(-93.0379, device='cuda:0', grad_fn=<NegBackward0>) [tensor(-16.1632, device='cuda:0', grad_fn=<NegBackward0>), tensor(-7.3907, device='cuda:0', grad_fn=<NegBackward0>), tensor(-69.4840, device='cuda:0', grad_fn=<AddBackward0>)]\n",
      "5.5387326633568055\n",
      "tensor(-94.6497, device='cuda:0', grad_fn=<NegBackward0>) [tensor(-16.4074, device='cuda:0', grad_fn=<NegBackward0>), tensor(-7.9171, device='cuda:0', grad_fn=<NegBackward0>), tensor(-70.3251, device='cuda:0', grad_fn=<AddBackward0>)]\n",
      "tensor(-95.2197, device='cuda:0', grad_fn=<NegBackward0>) [tensor(-16.4074, device='cuda:0', grad_fn=<NegBackward0>), tensor(-7.9952, device='cuda:0', grad_fn=<NegBackward0>), tensor(-70.8171, device='cuda:0', grad_fn=<AddBackward0>)]\n",
      "6.654194278781697\n",
      "tensor(-91.8126, device='cuda:0', grad_fn=<NegBackward0>) [tensor(-16.2689, device='cuda:0', grad_fn=<NegBackward0>), tensor(-6.5736, device='cuda:0', grad_fn=<NegBackward0>), tensor(-68.9701, device='cuda:0', grad_fn=<AddBackward0>)]\n",
      "tensor(-94.2081, device='cuda:0', grad_fn=<NegBackward0>) [tensor(-16.2689, device='cuda:0', grad_fn=<NegBackward0>), tensor(-7.5559, device='cuda:0', grad_fn=<NegBackward0>), tensor(-70.3834, device='cuda:0', grad_fn=<AddBackward0>)]\n",
      "5.454379786178018\n",
      "tensor(-93.5001, device='cuda:0', grad_fn=<NegBackward0>) [tensor(-16.4858, device='cuda:0', grad_fn=<NegBackward0>), tensor(-7.8273, device='cuda:0', grad_fn=<NegBackward0>), tensor(-69.1871, device='cuda:0', grad_fn=<AddBackward0>)]\n",
      "tensor(-96.7471, device='cuda:0', grad_fn=<NegBackward0>) [tensor(-16.4858, device='cuda:0', grad_fn=<NegBackward0>), tensor(-8.8979, device='cuda:0', grad_fn=<NegBackward0>), tensor(-71.3634, device='cuda:0', grad_fn=<AddBackward0>)]\n"
     ]
    },
    {
     "name": "stdout",
     "output_type": "stream",
     "text": [
      "8.32097956006593\n",
      "tensor(-97.1594, device='cuda:0', grad_fn=<NegBackward0>) [tensor(-17.3492, device='cuda:0', grad_fn=<NegBackward0>), tensor(-7.5893, device='cuda:0', grad_fn=<NegBackward0>), tensor(-72.2210, device='cuda:0', grad_fn=<AddBackward0>)]\n",
      "tensor(-96.2144, device='cuda:0', grad_fn=<NegBackward0>) [tensor(-17.3492, device='cuda:0', grad_fn=<NegBackward0>), tensor(-7.2198, device='cuda:0', grad_fn=<NegBackward0>), tensor(-71.6454, device='cuda:0', grad_fn=<AddBackward0>)]\n",
      "5.685076007302262\n",
      "tensor(-98.7380, device='cuda:0', grad_fn=<NegBackward0>) [tensor(-17.9610, device='cuda:0', grad_fn=<NegBackward0>), tensor(-7.9376, device='cuda:0', grad_fn=<NegBackward0>), tensor(-72.8395, device='cuda:0', grad_fn=<AddBackward0>)]\n",
      "tensor(-98.1259, device='cuda:0', grad_fn=<NegBackward0>) [tensor(-17.9610, device='cuda:0', grad_fn=<NegBackward0>), tensor(-7.6929, device='cuda:0', grad_fn=<NegBackward0>), tensor(-72.4721, device='cuda:0', grad_fn=<AddBackward0>)]\n",
      "5.4715922376845\n",
      "tensor(-97.7207, device='cuda:0', grad_fn=<NegBackward0>) [tensor(-18.2151, device='cuda:0', grad_fn=<NegBackward0>), tensor(-7.3851, device='cuda:0', grad_fn=<NegBackward0>), tensor(-72.1204, device='cuda:0', grad_fn=<AddBackward0>)]\n",
      "tensor(-99.6745, device='cuda:0', grad_fn=<NegBackward0>) [tensor(-18.2151, device='cuda:0', grad_fn=<NegBackward0>), tensor(-7.7409, device='cuda:0', grad_fn=<NegBackward0>), tensor(-73.7185, device='cuda:0', grad_fn=<AddBackward0>)]\n",
      "5.784477453634504\n",
      "tensor(-100.7427, device='cuda:0', grad_fn=<NegBackward0>) [tensor(-18.5315, device='cuda:0', grad_fn=<NegBackward0>), tensor(-8.0814, device='cuda:0', grad_fn=<NegBackward0>), tensor(-74.1298, device='cuda:0', grad_fn=<AddBackward0>)]\n",
      "tensor(-99.3504, device='cuda:0', grad_fn=<NegBackward0>) [tensor(-18.5315, device='cuda:0', grad_fn=<NegBackward0>), tensor(-7.9366, device='cuda:0', grad_fn=<NegBackward0>), tensor(-72.8823, device='cuda:0', grad_fn=<AddBackward0>)]\n",
      "6.2113488532307555\n",
      "tensor(-99.9207, device='cuda:0', grad_fn=<NegBackward0>) [tensor(-18.5740, device='cuda:0', grad_fn=<NegBackward0>), tensor(-7.6938, device='cuda:0', grad_fn=<NegBackward0>), tensor(-73.6530, device='cuda:0', grad_fn=<AddBackward0>)]\n",
      "tensor(-100.2972, device='cuda:0', grad_fn=<NegBackward0>) [tensor(-18.5740, device='cuda:0', grad_fn=<NegBackward0>), tensor(-7.8767, device='cuda:0', grad_fn=<NegBackward0>), tensor(-73.8466, device='cuda:0', grad_fn=<AddBackward0>)]\n",
      "5.51505432744512\n",
      "tensor(-100.4651, device='cuda:0', grad_fn=<NegBackward0>) [tensor(-19.0389, device='cuda:0', grad_fn=<NegBackward0>), tensor(-7.5989, device='cuda:0', grad_fn=<NegBackward0>), tensor(-73.8273, device='cuda:0', grad_fn=<AddBackward0>)]\n",
      "tensor(-100.8163, device='cuda:0', grad_fn=<NegBackward0>) [tensor(-19.0389, device='cuda:0', grad_fn=<NegBackward0>), tensor(-7.7605, device='cuda:0', grad_fn=<NegBackward0>), tensor(-74.0169, device='cuda:0', grad_fn=<AddBackward0>)]\n",
      "5.2360867647835425\n",
      "tensor(-100.5149, device='cuda:0', grad_fn=<NegBackward0>) [tensor(-19.3462, device='cuda:0', grad_fn=<NegBackward0>), tensor(-7.5816, device='cuda:0', grad_fn=<NegBackward0>), tensor(-73.5870, device='cuda:0', grad_fn=<AddBackward0>)]\n",
      "tensor(-100.7603, device='cuda:0', grad_fn=<NegBackward0>) [tensor(-19.3462, device='cuda:0', grad_fn=<NegBackward0>), tensor(-7.2855, device='cuda:0', grad_fn=<NegBackward0>), tensor(-74.1285, device='cuda:0', grad_fn=<AddBackward0>)]\n",
      "5.539321810884139\n",
      "tensor(-100.6884, device='cuda:0', grad_fn=<NegBackward0>) [tensor(-19.4460, device='cuda:0', grad_fn=<NegBackward0>), tensor(-7.1659, device='cuda:0', grad_fn=<NegBackward0>), tensor(-74.0764, device='cuda:0', grad_fn=<AddBackward0>)]\n",
      "tensor(-101.2965, device='cuda:0', grad_fn=<NegBackward0>) [tensor(-19.4460, device='cuda:0', grad_fn=<NegBackward0>), tensor(-7.7240, device='cuda:0', grad_fn=<NegBackward0>), tensor(-74.1264, device='cuda:0', grad_fn=<AddBackward0>)]\n",
      "6.0373478632081055\n",
      "tensor(-101.6060, device='cuda:0', grad_fn=<NegBackward0>) [tensor(-19.2662, device='cuda:0', grad_fn=<NegBackward0>), tensor(-7.8237, device='cuda:0', grad_fn=<NegBackward0>), tensor(-74.5161, device='cuda:0', grad_fn=<AddBackward0>)]\n",
      "tensor(-101.4264, device='cuda:0', grad_fn=<NegBackward0>) [tensor(-19.2662, device='cuda:0', grad_fn=<NegBackward0>), tensor(-7.9331, device='cuda:0', grad_fn=<NegBackward0>), tensor(-74.2271, device='cuda:0', grad_fn=<AddBackward0>)]\n",
      "5.460426072347165\n",
      "tensor(-100.9251, device='cuda:0', grad_fn=<NegBackward0>) [tensor(-19.4494, device='cuda:0', grad_fn=<NegBackward0>), tensor(-7.7288, device='cuda:0', grad_fn=<NegBackward0>), tensor(-73.7469, device='cuda:0', grad_fn=<AddBackward0>)]\n",
      "tensor(-101.7186, device='cuda:0', grad_fn=<NegBackward0>) [tensor(-19.4494, device='cuda:0', grad_fn=<NegBackward0>), tensor(-8.2867, device='cuda:0', grad_fn=<NegBackward0>), tensor(-73.9825, device='cuda:0', grad_fn=<AddBackward0>)]\n",
      "6.559253749084248\n",
      "tensor(-104.3084, device='cuda:0', grad_fn=<NegBackward0>) [tensor(-20.0072, device='cuda:0', grad_fn=<NegBackward0>), tensor(-8.1217, device='cuda:0', grad_fn=<NegBackward0>), tensor(-76.1795, device='cuda:0', grad_fn=<AddBackward0>)]\n",
      "tensor(-101.9112, device='cuda:0', grad_fn=<NegBackward0>) [tensor(-20.0072, device='cuda:0', grad_fn=<NegBackward0>), tensor(-6.9756, device='cuda:0', grad_fn=<NegBackward0>), tensor(-74.9284, device='cuda:0', grad_fn=<AddBackward0>)]\n",
      "5.572715763876178\n",
      "tensor(-104.2856, device='cuda:0', grad_fn=<NegBackward0>) [tensor(-20.6685, device='cuda:0', grad_fn=<NegBackward0>), tensor(-8.0847, device='cuda:0', grad_fn=<NegBackward0>), tensor(-75.5323, device='cuda:0', grad_fn=<AddBackward0>)]\n",
      "tensor(-104.5551, device='cuda:0', grad_fn=<NegBackward0>) [tensor(-20.6685, device='cuda:0', grad_fn=<NegBackward0>), tensor(-8.0342, device='cuda:0', grad_fn=<NegBackward0>), tensor(-75.8524, device='cuda:0', grad_fn=<AddBackward0>)]\n",
      "5.526481805476234\n",
      "tensor(-103.9709, device='cuda:0', grad_fn=<NegBackward0>) [tensor(-21.0846, device='cuda:0', grad_fn=<NegBackward0>), tensor(-7.4609, device='cuda:0', grad_fn=<NegBackward0>), tensor(-75.4254, device='cuda:0', grad_fn=<AddBackward0>)]\n",
      "tensor(-105.8879, device='cuda:0', grad_fn=<NegBackward0>) [tensor(-21.0846, device='cuda:0', grad_fn=<NegBackward0>), tensor(-8.5073, device='cuda:0', grad_fn=<NegBackward0>), tensor(-76.2961, device='cuda:0', grad_fn=<AddBackward0>)]\n",
      "5.5132667661637385\n",
      "tensor(-106.9126, device='cuda:0', grad_fn=<NegBackward0>) [tensor(-21.2596, device='cuda:0', grad_fn=<NegBackward0>), tensor(-8.5557, device='cuda:0', grad_fn=<NegBackward0>), tensor(-77.0973, device='cuda:0', grad_fn=<AddBackward0>)]\n",
      "tensor(-104.4644, device='cuda:0', grad_fn=<NegBackward0>) [tensor(-21.2596, device='cuda:0', grad_fn=<NegBackward0>), tensor(-7.7398, device='cuda:0', grad_fn=<NegBackward0>), tensor(-75.4650, device='cuda:0', grad_fn=<AddBackward0>)]\n",
      "5.152456795548261\n",
      "tensor(-107.1357, device='cuda:0', grad_fn=<NegBackward0>) [tensor(-21.5290, device='cuda:0', grad_fn=<NegBackward0>), tensor(-8.8029, device='cuda:0', grad_fn=<NegBackward0>), tensor(-76.8038, device='cuda:0', grad_fn=<AddBackward0>)]\n",
      "tensor(-107.0379, device='cuda:0', grad_fn=<NegBackward0>) [tensor(-21.5290, device='cuda:0', grad_fn=<NegBackward0>), tensor(-8.6702, device='cuda:0', grad_fn=<NegBackward0>), tensor(-76.8387, device='cuda:0', grad_fn=<AddBackward0>)]\n",
      "5.885639167150233\n",
      "tensor(-106.2002, device='cuda:0', grad_fn=<NegBackward0>) [tensor(-21.5783, device='cuda:0', grad_fn=<NegBackward0>), tensor(-7.7221, device='cuda:0', grad_fn=<NegBackward0>), tensor(-76.8998, device='cuda:0', grad_fn=<AddBackward0>)]\n",
      "tensor(-106.4947, device='cuda:0', grad_fn=<NegBackward0>) [tensor(-21.5783, device='cuda:0', grad_fn=<NegBackward0>), tensor(-7.9421, device='cuda:0', grad_fn=<NegBackward0>), tensor(-76.9743, device='cuda:0', grad_fn=<AddBackward0>)]\n",
      "5.407499819889886\n",
      "tensor(-108.1211, device='cuda:0', grad_fn=<NegBackward0>) [tensor(-21.9217, device='cuda:0', grad_fn=<NegBackward0>), tensor(-8.7794, device='cuda:0', grad_fn=<NegBackward0>), tensor(-77.4200, device='cuda:0', grad_fn=<AddBackward0>)]\n",
      "tensor(-105.6801, device='cuda:0', grad_fn=<NegBackward0>) [tensor(-21.9217, device='cuda:0', grad_fn=<NegBackward0>), tensor(-7.3076, device='cuda:0', grad_fn=<NegBackward0>), tensor(-76.4508, device='cuda:0', grad_fn=<AddBackward0>)]\n"
     ]
    },
    {
     "name": "stdout",
     "output_type": "stream",
     "text": [
      "5.7722375350358\n",
      "tensor(-105.6946, device='cuda:0', grad_fn=<NegBackward0>) [tensor(-21.9231, device='cuda:0', grad_fn=<NegBackward0>), tensor(-7.4598, device='cuda:0', grad_fn=<NegBackward0>), tensor(-76.3117, device='cuda:0', grad_fn=<AddBackward0>)]\n",
      "tensor(-106.4406, device='cuda:0', grad_fn=<NegBackward0>) [tensor(-21.9231, device='cuda:0', grad_fn=<NegBackward0>), tensor(-7.6233, device='cuda:0', grad_fn=<NegBackward0>), tensor(-76.8941, device='cuda:0', grad_fn=<AddBackward0>)]\n",
      "5.615924814613502\n",
      "tensor(-107.0780, device='cuda:0', grad_fn=<NegBackward0>) [tensor(-22.1004, device='cuda:0', grad_fn=<NegBackward0>), tensor(-7.9963, device='cuda:0', grad_fn=<NegBackward0>), tensor(-76.9813, device='cuda:0', grad_fn=<AddBackward0>)]\n",
      "tensor(-107.3101, device='cuda:0', grad_fn=<NegBackward0>) [tensor(-22.1004, device='cuda:0', grad_fn=<NegBackward0>), tensor(-7.7678, device='cuda:0', grad_fn=<NegBackward0>), tensor(-77.4419, device='cuda:0', grad_fn=<AddBackward0>)]\n",
      "5.441161155803575\n",
      "tensor(-107.8503, device='cuda:0', grad_fn=<NegBackward0>) [tensor(-22.1580, device='cuda:0', grad_fn=<NegBackward0>), tensor(-7.9894, device='cuda:0', grad_fn=<NegBackward0>), tensor(-77.7029, device='cuda:0', grad_fn=<AddBackward0>)]\n",
      "tensor(-107.1277, device='cuda:0', grad_fn=<NegBackward0>) [tensor(-22.1580, device='cuda:0', grad_fn=<NegBackward0>), tensor(-7.6207, device='cuda:0', grad_fn=<NegBackward0>), tensor(-77.3490, device='cuda:0', grad_fn=<AddBackward0>)]\n",
      "5.561300117631943\n",
      "tensor(-108.0427, device='cuda:0', grad_fn=<NegBackward0>) [tensor(-22.4435, device='cuda:0', grad_fn=<NegBackward0>), tensor(-8.4868, device='cuda:0', grad_fn=<NegBackward0>), tensor(-77.1124, device='cuda:0', grad_fn=<AddBackward0>)]\n",
      "tensor(-109.2646, device='cuda:0', grad_fn=<NegBackward0>) [tensor(-22.4435, device='cuda:0', grad_fn=<NegBackward0>), tensor(-8.5578, device='cuda:0', grad_fn=<NegBackward0>), tensor(-78.2633, device='cuda:0', grad_fn=<AddBackward0>)]\n",
      "5.644893273198948\n",
      "tensor(-108.2491, device='cuda:0', grad_fn=<NegBackward0>) [tensor(-22.7258, device='cuda:0', grad_fn=<NegBackward0>), tensor(-7.6201, device='cuda:0', grad_fn=<NegBackward0>), tensor(-77.9033, device='cuda:0', grad_fn=<AddBackward0>)]\n",
      "tensor(-109.2894, device='cuda:0', grad_fn=<NegBackward0>) [tensor(-22.7258, device='cuda:0', grad_fn=<NegBackward0>), tensor(-8.1562, device='cuda:0', grad_fn=<NegBackward0>), tensor(-78.4075, device='cuda:0', grad_fn=<AddBackward0>)]\n",
      "5.622095788942042\n",
      "tensor(-109.6289, device='cuda:0', grad_fn=<NegBackward0>) [tensor(-23.0400, device='cuda:0', grad_fn=<NegBackward0>), tensor(-8.1425, device='cuda:0', grad_fn=<NegBackward0>), tensor(-78.4464, device='cuda:0', grad_fn=<AddBackward0>)]\n",
      "tensor(-106.3932, device='cuda:0', grad_fn=<NegBackward0>) [tensor(-23.0400, device='cuda:0', grad_fn=<NegBackward0>), tensor(-6.3977, device='cuda:0', grad_fn=<NegBackward0>), tensor(-76.9555, device='cuda:0', grad_fn=<AddBackward0>)]\n",
      "5.374240994369011\n",
      "tensor(-110.3232, device='cuda:0', grad_fn=<NegBackward0>) [tensor(-23.2156, device='cuda:0', grad_fn=<NegBackward0>), tensor(-8.2780, device='cuda:0', grad_fn=<NegBackward0>), tensor(-78.8296, device='cuda:0', grad_fn=<AddBackward0>)]\n",
      "tensor(-110.5872, device='cuda:0', grad_fn=<NegBackward0>) [tensor(-23.2156, device='cuda:0', grad_fn=<NegBackward0>), tensor(-8.6045, device='cuda:0', grad_fn=<NegBackward0>), tensor(-78.7671, device='cuda:0', grad_fn=<AddBackward0>)]\n",
      "5.609480362545742\n",
      "tensor(-110.9926, device='cuda:0', grad_fn=<NegBackward0>) [tensor(-23.2713, device='cuda:0', grad_fn=<NegBackward0>), tensor(-8.5428, device='cuda:0', grad_fn=<NegBackward0>), tensor(-79.1786, device='cuda:0', grad_fn=<AddBackward0>)]\n",
      "tensor(-110.1111, device='cuda:0', grad_fn=<NegBackward0>) [tensor(-23.2713, device='cuda:0', grad_fn=<NegBackward0>), tensor(-8.1281, device='cuda:0', grad_fn=<NegBackward0>), tensor(-78.7117, device='cuda:0', grad_fn=<AddBackward0>)]\n",
      "6.011389363931392\n",
      "tensor(-110.3792, device='cuda:0', grad_fn=<NegBackward0>) [tensor(-23.3365, device='cuda:0', grad_fn=<NegBackward0>), tensor(-8.3827, device='cuda:0', grad_fn=<NegBackward0>), tensor(-78.6600, device='cuda:0', grad_fn=<AddBackward0>)]\n",
      "tensor(-108.4596, device='cuda:0', grad_fn=<NegBackward0>) [tensor(-23.3365, device='cuda:0', grad_fn=<NegBackward0>), tensor(-6.5986, device='cuda:0', grad_fn=<NegBackward0>), tensor(-78.5246, device='cuda:0', grad_fn=<AddBackward0>)]\n",
      "6.11855306773308\n",
      "tensor(-110.1544, device='cuda:0', grad_fn=<NegBackward0>) [tensor(-23.3719, device='cuda:0', grad_fn=<NegBackward0>), tensor(-7.8262, device='cuda:0', grad_fn=<NegBackward0>), tensor(-78.9563, device='cuda:0', grad_fn=<AddBackward0>)]\n",
      "tensor(-109.1532, device='cuda:0', grad_fn=<NegBackward0>) [tensor(-23.3719, device='cuda:0', grad_fn=<NegBackward0>), tensor(-7.6212, device='cuda:0', grad_fn=<NegBackward0>), tensor(-78.1601, device='cuda:0', grad_fn=<AddBackward0>)]\n",
      "5.666042106304526\n",
      "tensor(-109.6469, device='cuda:0', grad_fn=<NegBackward0>) [tensor(-23.5588, device='cuda:0', grad_fn=<NegBackward0>), tensor(-7.8632, device='cuda:0', grad_fn=<NegBackward0>), tensor(-78.2249, device='cuda:0', grad_fn=<AddBackward0>)]\n",
      "tensor(-110.6636, device='cuda:0', grad_fn=<NegBackward0>) [tensor(-23.5588, device='cuda:0', grad_fn=<NegBackward0>), tensor(-8.1536, device='cuda:0', grad_fn=<NegBackward0>), tensor(-78.9512, device='cuda:0', grad_fn=<AddBackward0>)]\n",
      "6.143176898273719\n",
      "tensor(-110.9817, device='cuda:0', grad_fn=<NegBackward0>) [tensor(-23.8913, device='cuda:0', grad_fn=<NegBackward0>), tensor(-8.2690, device='cuda:0', grad_fn=<NegBackward0>), tensor(-78.8215, device='cuda:0', grad_fn=<AddBackward0>)]\n",
      "tensor(-111.5220, device='cuda:0', grad_fn=<NegBackward0>) [tensor(-23.8913, device='cuda:0', grad_fn=<NegBackward0>), tensor(-8.6175, device='cuda:0', grad_fn=<NegBackward0>), tensor(-79.0132, device='cuda:0', grad_fn=<AddBackward0>)]\n",
      "5.059363477190161\n",
      "tensor(-109.7753, device='cuda:0', grad_fn=<NegBackward0>) [tensor(-24.0730, device='cuda:0', grad_fn=<NegBackward0>), tensor(-8.2972, device='cuda:0', grad_fn=<NegBackward0>), tensor(-77.4050, device='cuda:0', grad_fn=<AddBackward0>)]\n",
      "tensor(-110.5104, device='cuda:0', grad_fn=<NegBackward0>) [tensor(-24.0730, device='cuda:0', grad_fn=<NegBackward0>), tensor(-8.5580, device='cuda:0', grad_fn=<NegBackward0>), tensor(-77.8794, device='cuda:0', grad_fn=<AddBackward0>)]\n",
      "5.599005917836417\n",
      "tensor(-110.9874, device='cuda:0', grad_fn=<NegBackward0>) [tensor(-24.2507, device='cuda:0', grad_fn=<NegBackward0>), tensor(-8.1274, device='cuda:0', grad_fn=<NegBackward0>), tensor(-78.6094, device='cuda:0', grad_fn=<AddBackward0>)]\n",
      "tensor(-110.4569, device='cuda:0', grad_fn=<NegBackward0>) [tensor(-24.2507, device='cuda:0', grad_fn=<NegBackward0>), tensor(-7.6156, device='cuda:0', grad_fn=<NegBackward0>), tensor(-78.5906, device='cuda:0', grad_fn=<AddBackward0>)]\n",
      "7.378794437525651\n",
      "tensor(-110.4566, device='cuda:0', grad_fn=<NegBackward0>) [tensor(-24.3155, device='cuda:0', grad_fn=<NegBackward0>), tensor(-7.0517, device='cuda:0', grad_fn=<NegBackward0>), tensor(-79.0894, device='cuda:0', grad_fn=<AddBackward0>)]\n",
      "tensor(-111.9700, device='cuda:0', grad_fn=<NegBackward0>) [tensor(-24.3155, device='cuda:0', grad_fn=<NegBackward0>), tensor(-8.1000, device='cuda:0', grad_fn=<NegBackward0>), tensor(-79.5546, device='cuda:0', grad_fn=<AddBackward0>)]\n",
      "5.338313685554415\n",
      "tensor(-112.1111, device='cuda:0', grad_fn=<NegBackward0>) [tensor(-24.4023, device='cuda:0', grad_fn=<NegBackward0>), tensor(-8.6245, device='cuda:0', grad_fn=<NegBackward0>), tensor(-79.0843, device='cuda:0', grad_fn=<AddBackward0>)]\n",
      "tensor(-112.0009, device='cuda:0', grad_fn=<NegBackward0>) [tensor(-24.4023, device='cuda:0', grad_fn=<NegBackward0>), tensor(-8.3442, device='cuda:0', grad_fn=<NegBackward0>), tensor(-79.2545, device='cuda:0', grad_fn=<AddBackward0>)]\n",
      "4.982060114186431\n",
      "tensor(-111.6411, device='cuda:0', grad_fn=<NegBackward0>) [tensor(-24.6268, device='cuda:0', grad_fn=<NegBackward0>), tensor(-8.8332, device='cuda:0', grad_fn=<NegBackward0>), tensor(-78.1810, device='cuda:0', grad_fn=<AddBackward0>)]\n",
      "tensor(-111.8043, device='cuda:0', grad_fn=<NegBackward0>) [tensor(-24.6268, device='cuda:0', grad_fn=<NegBackward0>), tensor(-8.3303, device='cuda:0', grad_fn=<NegBackward0>), tensor(-78.8471, device='cuda:0', grad_fn=<AddBackward0>)]\n"
     ]
    },
    {
     "name": "stdout",
     "output_type": "stream",
     "text": [
      "5.344326205989477\n",
      "tensor(-112.1346, device='cuda:0', grad_fn=<NegBackward0>) [tensor(-24.8967, device='cuda:0', grad_fn=<NegBackward0>), tensor(-7.9844, device='cuda:0', grad_fn=<NegBackward0>), tensor(-79.2535, device='cuda:0', grad_fn=<AddBackward0>)]\n",
      "tensor(-112.2441, device='cuda:0', grad_fn=<NegBackward0>) [tensor(-24.8967, device='cuda:0', grad_fn=<NegBackward0>), tensor(-8.0588, device='cuda:0', grad_fn=<NegBackward0>), tensor(-79.2886, device='cuda:0', grad_fn=<AddBackward0>)]\n",
      "5.973967772127399\n",
      "tensor(-112.7930, device='cuda:0', grad_fn=<NegBackward0>) [tensor(-25.0117, device='cuda:0', grad_fn=<NegBackward0>), tensor(-8.2569, device='cuda:0', grad_fn=<NegBackward0>), tensor(-79.5244, device='cuda:0', grad_fn=<AddBackward0>)]\n",
      "tensor(-111.7516, device='cuda:0', grad_fn=<NegBackward0>) [tensor(-25.0117, device='cuda:0', grad_fn=<NegBackward0>), tensor(-7.0958, device='cuda:0', grad_fn=<NegBackward0>), tensor(-79.6440, device='cuda:0', grad_fn=<AddBackward0>)]\n",
      "5.763809576592772\n",
      "tensor(-111.6931, device='cuda:0', grad_fn=<NegBackward0>) [tensor(-25.2208, device='cuda:0', grad_fn=<NegBackward0>), tensor(-7.8814, device='cuda:0', grad_fn=<NegBackward0>), tensor(-78.5909, device='cuda:0', grad_fn=<AddBackward0>)]\n",
      "tensor(-114.7367, device='cuda:0', grad_fn=<NegBackward0>) [tensor(-25.2208, device='cuda:0', grad_fn=<NegBackward0>), tensor(-8.6452, device='cuda:0', grad_fn=<NegBackward0>), tensor(-80.8707, device='cuda:0', grad_fn=<AddBackward0>)]\n",
      "5.355571545529297\n",
      "tensor(-112.2671, device='cuda:0', grad_fn=<NegBackward0>) [tensor(-25.1582, device='cuda:0', grad_fn=<NegBackward0>), tensor(-8.3282, device='cuda:0', grad_fn=<NegBackward0>), tensor(-78.7807, device='cuda:0', grad_fn=<AddBackward0>)]\n",
      "tensor(-110.6571, device='cuda:0', grad_fn=<NegBackward0>) [tensor(-25.1582, device='cuda:0', grad_fn=<NegBackward0>), tensor(-7.0861, device='cuda:0', grad_fn=<NegBackward0>), tensor(-78.4127, device='cuda:0', grad_fn=<AddBackward0>)]\n",
      "6.274894934572128\n",
      "tensor(-110.8404, device='cuda:0', grad_fn=<NegBackward0>) [tensor(-24.9965, device='cuda:0', grad_fn=<NegBackward0>), tensor(-7.1132, device='cuda:0', grad_fn=<NegBackward0>), tensor(-78.7308, device='cuda:0', grad_fn=<AddBackward0>)]\n",
      "tensor(-111.3789, device='cuda:0', grad_fn=<NegBackward0>) [tensor(-24.9965, device='cuda:0', grad_fn=<NegBackward0>), tensor(-7.1157, device='cuda:0', grad_fn=<NegBackward0>), tensor(-79.2666, device='cuda:0', grad_fn=<AddBackward0>)]\n",
      "5.382121309690568\n",
      "tensor(-112.9263, device='cuda:0', grad_fn=<NegBackward0>) [tensor(-25.0402, device='cuda:0', grad_fn=<NegBackward0>), tensor(-8.7224, device='cuda:0', grad_fn=<NegBackward0>), tensor(-79.1637, device='cuda:0', grad_fn=<AddBackward0>)]\n",
      "tensor(-112.1836, device='cuda:0', grad_fn=<NegBackward0>) [tensor(-25.0402, device='cuda:0', grad_fn=<NegBackward0>), tensor(-7.8466, device='cuda:0', grad_fn=<NegBackward0>), tensor(-79.2968, device='cuda:0', grad_fn=<AddBackward0>)]\n",
      "4.692758511559638\n",
      "tensor(-113.0008, device='cuda:0', grad_fn=<NegBackward0>) [tensor(-25.5300, device='cuda:0', grad_fn=<NegBackward0>), tensor(-9.1128, device='cuda:0', grad_fn=<NegBackward0>), tensor(-78.3581, device='cuda:0', grad_fn=<AddBackward0>)]\n",
      "tensor(-112.7162, device='cuda:0', grad_fn=<NegBackward0>) [tensor(-25.5300, device='cuda:0', grad_fn=<NegBackward0>), tensor(-8.6555, device='cuda:0', grad_fn=<NegBackward0>), tensor(-78.5307, device='cuda:0', grad_fn=<AddBackward0>)]\n",
      "5.553503732433722\n",
      "tensor(-113.9752, device='cuda:0', grad_fn=<NegBackward0>) [tensor(-25.7312, device='cuda:0', grad_fn=<NegBackward0>), tensor(-8.2895, device='cuda:0', grad_fn=<NegBackward0>), tensor(-79.9544, device='cuda:0', grad_fn=<AddBackward0>)]\n",
      "tensor(-114.7939, device='cuda:0', grad_fn=<NegBackward0>) [tensor(-25.7312, device='cuda:0', grad_fn=<NegBackward0>), tensor(-9.1000, device='cuda:0', grad_fn=<NegBackward0>), tensor(-79.9627, device='cuda:0', grad_fn=<AddBackward0>)]\n",
      "6.00039894733508\n",
      "tensor(-111.9136, device='cuda:0', grad_fn=<NegBackward0>) [tensor(-25.8514, device='cuda:0', grad_fn=<NegBackward0>), tensor(-7.2681, device='cuda:0', grad_fn=<NegBackward0>), tensor(-78.7941, device='cuda:0', grad_fn=<AddBackward0>)]\n",
      "tensor(-112.3618, device='cuda:0', grad_fn=<NegBackward0>) [tensor(-25.8514, device='cuda:0', grad_fn=<NegBackward0>), tensor(-7.2265, device='cuda:0', grad_fn=<NegBackward0>), tensor(-79.2839, device='cuda:0', grad_fn=<AddBackward0>)]\n",
      "4.966767408432223\n",
      "tensor(-113.7432, device='cuda:0', grad_fn=<NegBackward0>) [tensor(-26.0100, device='cuda:0', grad_fn=<NegBackward0>), tensor(-8.7045, device='cuda:0', grad_fn=<NegBackward0>), tensor(-79.0288, device='cuda:0', grad_fn=<AddBackward0>)]\n",
      "tensor(-112.3571, device='cuda:0', grad_fn=<NegBackward0>) [tensor(-26.0100, device='cuda:0', grad_fn=<NegBackward0>), tensor(-7.4947, device='cuda:0', grad_fn=<NegBackward0>), tensor(-78.8524, device='cuda:0', grad_fn=<AddBackward0>)]\n",
      "5.364968212141197\n",
      "tensor(-114.2279, device='cuda:0', grad_fn=<NegBackward0>) [tensor(-26.1560, device='cuda:0', grad_fn=<NegBackward0>), tensor(-8.3167, device='cuda:0', grad_fn=<NegBackward0>), tensor(-79.7552, device='cuda:0', grad_fn=<AddBackward0>)]\n",
      "tensor(-114.1705, device='cuda:0', grad_fn=<NegBackward0>) [tensor(-26.1560, device='cuda:0', grad_fn=<NegBackward0>), tensor(-7.8149, device='cuda:0', grad_fn=<NegBackward0>), tensor(-80.1997, device='cuda:0', grad_fn=<AddBackward0>)]\n",
      "4.644962999850676\n",
      "tensor(-112.5837, device='cuda:0', grad_fn=<NegBackward0>) [tensor(-26.3641, device='cuda:0', grad_fn=<NegBackward0>), tensor(-8.3180, device='cuda:0', grad_fn=<NegBackward0>), tensor(-77.9016, device='cuda:0', grad_fn=<AddBackward0>)]\n",
      "tensor(-113.5988, device='cuda:0', grad_fn=<NegBackward0>) [tensor(-26.3641, device='cuda:0', grad_fn=<NegBackward0>), tensor(-8.5985, device='cuda:0', grad_fn=<NegBackward0>), tensor(-78.6361, device='cuda:0', grad_fn=<AddBackward0>)]\n",
      "6.602055890147186\n",
      "tensor(-116.5166, device='cuda:0', grad_fn=<NegBackward0>) [tensor(-26.5697, device='cuda:0', grad_fn=<NegBackward0>), tensor(-8.1392, device='cuda:0', grad_fn=<NegBackward0>), tensor(-81.8076, device='cuda:0', grad_fn=<AddBackward0>)]\n",
      "tensor(-116.7572, device='cuda:0', grad_fn=<NegBackward0>) [tensor(-26.5697, device='cuda:0', grad_fn=<NegBackward0>), tensor(-8.3262, device='cuda:0', grad_fn=<NegBackward0>), tensor(-81.8613, device='cuda:0', grad_fn=<AddBackward0>)]\n",
      "5.6985383341046525\n",
      "tensor(-115.8326, device='cuda:0', grad_fn=<NegBackward0>) [tensor(-26.6496, device='cuda:0', grad_fn=<NegBackward0>), tensor(-8.6039, device='cuda:0', grad_fn=<NegBackward0>), tensor(-80.5792, device='cuda:0', grad_fn=<AddBackward0>)]\n",
      "tensor(-114.8541, device='cuda:0', grad_fn=<NegBackward0>) [tensor(-26.6496, device='cuda:0', grad_fn=<NegBackward0>), tensor(-7.7047, device='cuda:0', grad_fn=<NegBackward0>), tensor(-80.4998, device='cuda:0', grad_fn=<AddBackward0>)]\n",
      "6.477060298609655\n",
      "tensor(-115.5856, device='cuda:0', grad_fn=<NegBackward0>) [tensor(-26.6370, device='cuda:0', grad_fn=<NegBackward0>), tensor(-7.8321, device='cuda:0', grad_fn=<NegBackward0>), tensor(-81.1165, device='cuda:0', grad_fn=<AddBackward0>)]\n",
      "tensor(-116.3771, device='cuda:0', grad_fn=<NegBackward0>) [tensor(-26.6370, device='cuda:0', grad_fn=<NegBackward0>), tensor(-8.2059, device='cuda:0', grad_fn=<NegBackward0>), tensor(-81.5342, device='cuda:0', grad_fn=<AddBackward0>)]\n",
      "5.7242064120518465\n",
      "tensor(-115.8625, device='cuda:0', grad_fn=<NegBackward0>) [tensor(-26.6417, device='cuda:0', grad_fn=<NegBackward0>), tensor(-8.4237, device='cuda:0', grad_fn=<NegBackward0>), tensor(-80.7971, device='cuda:0', grad_fn=<AddBackward0>)]\n",
      "tensor(-114.7341, device='cuda:0', grad_fn=<NegBackward0>) [tensor(-26.6417, device='cuda:0', grad_fn=<NegBackward0>), tensor(-7.8096, device='cuda:0', grad_fn=<NegBackward0>), tensor(-80.2828, device='cuda:0', grad_fn=<AddBackward0>)]\n",
      "5.2478806597181915\n",
      "tensor(-116.8420, device='cuda:0', grad_fn=<NegBackward0>) [tensor(-26.7157, device='cuda:0', grad_fn=<NegBackward0>), tensor(-9.2094, device='cuda:0', grad_fn=<NegBackward0>), tensor(-80.9169, device='cuda:0', grad_fn=<AddBackward0>)]\n",
      "tensor(-115.4080, device='cuda:0', grad_fn=<NegBackward0>) [tensor(-26.7157, device='cuda:0', grad_fn=<NegBackward0>), tensor(-8.4682, device='cuda:0', grad_fn=<NegBackward0>), tensor(-80.2240, device='cuda:0', grad_fn=<AddBackward0>)]\n"
     ]
    },
    {
     "name": "stdout",
     "output_type": "stream",
     "text": [
      "5.982745853175801\n",
      "tensor(-115.5458, device='cuda:0', grad_fn=<NegBackward0>) [tensor(-26.8936, device='cuda:0', grad_fn=<NegBackward0>), tensor(-8.1427, device='cuda:0', grad_fn=<NegBackward0>), tensor(-80.5095, device='cuda:0', grad_fn=<AddBackward0>)]\n",
      "tensor(-115.2406, device='cuda:0', grad_fn=<NegBackward0>) [tensor(-26.8936, device='cuda:0', grad_fn=<NegBackward0>), tensor(-7.8281, device='cuda:0', grad_fn=<NegBackward0>), tensor(-80.5190, device='cuda:0', grad_fn=<AddBackward0>)]\n",
      "5.965860195030153\n",
      "tensor(-116.1041, device='cuda:0', grad_fn=<NegBackward0>) [tensor(-27.3004, device='cuda:0', grad_fn=<NegBackward0>), tensor(-8.1171, device='cuda:0', grad_fn=<NegBackward0>), tensor(-80.6866, device='cuda:0', grad_fn=<AddBackward0>)]\n",
      "tensor(-116.6755, device='cuda:0', grad_fn=<NegBackward0>) [tensor(-27.3004, device='cuda:0', grad_fn=<NegBackward0>), tensor(-8.3921, device='cuda:0', grad_fn=<NegBackward0>), tensor(-80.9831, device='cuda:0', grad_fn=<AddBackward0>)]\n",
      "5.857967232938298\n",
      "tensor(-116.1483, device='cuda:0', grad_fn=<NegBackward0>) [tensor(-27.4739, device='cuda:0', grad_fn=<NegBackward0>), tensor(-7.6316, device='cuda:0', grad_fn=<NegBackward0>), tensor(-81.0428, device='cuda:0', grad_fn=<AddBackward0>)]\n",
      "tensor(-115.9325, device='cuda:0', grad_fn=<NegBackward0>) [tensor(-27.4739, device='cuda:0', grad_fn=<NegBackward0>), tensor(-7.4509, device='cuda:0', grad_fn=<NegBackward0>), tensor(-81.0077, device='cuda:0', grad_fn=<AddBackward0>)]\n",
      "5.675199695390829\n",
      "tensor(-115.4149, device='cuda:0', grad_fn=<NegBackward0>) [tensor(-27.6293, device='cuda:0', grad_fn=<NegBackward0>), tensor(-7.1842, device='cuda:0', grad_fn=<NegBackward0>), tensor(-80.6014, device='cuda:0', grad_fn=<AddBackward0>)]\n",
      "tensor(-116.5493, device='cuda:0', grad_fn=<NegBackward0>) [tensor(-27.6293, device='cuda:0', grad_fn=<NegBackward0>), tensor(-8.3882, device='cuda:0', grad_fn=<NegBackward0>), tensor(-80.5318, device='cuda:0', grad_fn=<AddBackward0>)]\n",
      "5.3191030137586885\n",
      "tensor(-117.4421, device='cuda:0', grad_fn=<NegBackward0>) [tensor(-27.8894, device='cuda:0', grad_fn=<NegBackward0>), tensor(-8.5941, device='cuda:0', grad_fn=<NegBackward0>), tensor(-80.9585, device='cuda:0', grad_fn=<AddBackward0>)]\n",
      "tensor(-119.4294, device='cuda:0', grad_fn=<NegBackward0>) [tensor(-27.8894, device='cuda:0', grad_fn=<NegBackward0>), tensor(-9.3315, device='cuda:0', grad_fn=<NegBackward0>), tensor(-82.2085, device='cuda:0', grad_fn=<AddBackward0>)]\n",
      "5.672174004227486\n",
      "tensor(-117.4608, device='cuda:0', grad_fn=<NegBackward0>) [tensor(-28.0325, device='cuda:0', grad_fn=<NegBackward0>), tensor(-8.0135, device='cuda:0', grad_fn=<NegBackward0>), tensor(-81.4149, device='cuda:0', grad_fn=<AddBackward0>)]\n",
      "tensor(-118.7249, device='cuda:0', grad_fn=<NegBackward0>) [tensor(-28.0325, device='cuda:0', grad_fn=<NegBackward0>), tensor(-8.3381, device='cuda:0', grad_fn=<NegBackward0>), tensor(-82.3543, device='cuda:0', grad_fn=<AddBackward0>)]\n",
      "5.190427810456757\n",
      "tensor(-118.4222, device='cuda:0', grad_fn=<NegBackward0>) [tensor(-28.1100, device='cuda:0', grad_fn=<NegBackward0>), tensor(-8.4501, device='cuda:0', grad_fn=<NegBackward0>), tensor(-81.8621, device='cuda:0', grad_fn=<AddBackward0>)]\n",
      "tensor(-120.0111, device='cuda:0', grad_fn=<NegBackward0>) [tensor(-28.1100, device='cuda:0', grad_fn=<NegBackward0>), tensor(-9.8164, device='cuda:0', grad_fn=<NegBackward0>), tensor(-82.0848, device='cuda:0', grad_fn=<AddBackward0>)]\n",
      "5.142879416918102\n",
      "tensor(-118.8468, device='cuda:0', grad_fn=<NegBackward0>) [tensor(-28.0304, device='cuda:0', grad_fn=<NegBackward0>), tensor(-8.7388, device='cuda:0', grad_fn=<NegBackward0>), tensor(-82.0776, device='cuda:0', grad_fn=<AddBackward0>)]\n",
      "tensor(-117.4830, device='cuda:0', grad_fn=<NegBackward0>) [tensor(-28.0304, device='cuda:0', grad_fn=<NegBackward0>), tensor(-7.9674, device='cuda:0', grad_fn=<NegBackward0>), tensor(-81.4852, device='cuda:0', grad_fn=<AddBackward0>)]\n",
      "6.1436831793027125\n",
      "tensor(-117.1234, device='cuda:0', grad_fn=<NegBackward0>) [tensor(-27.9526, device='cuda:0', grad_fn=<NegBackward0>), tensor(-7.7218, device='cuda:0', grad_fn=<NegBackward0>), tensor(-81.4490, device='cuda:0', grad_fn=<AddBackward0>)]\n",
      "tensor(-118.2906, device='cuda:0', grad_fn=<NegBackward0>) [tensor(-27.9526, device='cuda:0', grad_fn=<NegBackward0>), tensor(-8.3369, device='cuda:0', grad_fn=<NegBackward0>), tensor(-82.0011, device='cuda:0', grad_fn=<AddBackward0>)]\n",
      "5.411496494789693\n",
      "tensor(-117.3479, device='cuda:0', grad_fn=<NegBackward0>) [tensor(-28.1877, device='cuda:0', grad_fn=<NegBackward0>), tensor(-7.8775, device='cuda:0', grad_fn=<NegBackward0>), tensor(-81.2826, device='cuda:0', grad_fn=<AddBackward0>)]\n",
      "tensor(-118.7559, device='cuda:0', grad_fn=<NegBackward0>) [tensor(-28.1877, device='cuda:0', grad_fn=<NegBackward0>), tensor(-8.4718, device='cuda:0', grad_fn=<NegBackward0>), tensor(-82.0965, device='cuda:0', grad_fn=<AddBackward0>)]\n",
      "5.2705363644606615\n",
      "tensor(-119.9324, device='cuda:0', grad_fn=<NegBackward0>) [tensor(-28.2966, device='cuda:0', grad_fn=<NegBackward0>), tensor(-9.0657, device='cuda:0', grad_fn=<NegBackward0>), tensor(-82.5701, device='cuda:0', grad_fn=<AddBackward0>)]\n",
      "tensor(-118.5712, device='cuda:0', grad_fn=<NegBackward0>) [tensor(-28.2966, device='cuda:0', grad_fn=<NegBackward0>), tensor(-8.7955, device='cuda:0', grad_fn=<NegBackward0>), tensor(-81.4791, device='cuda:0', grad_fn=<AddBackward0>)]\n",
      "5.590654565424196\n",
      "tensor(-117.9400, device='cuda:0', grad_fn=<NegBackward0>) [tensor(-27.9887, device='cuda:0', grad_fn=<NegBackward0>), tensor(-8.2870, device='cuda:0', grad_fn=<NegBackward0>), tensor(-81.6643, device='cuda:0', grad_fn=<AddBackward0>)]\n",
      "tensor(-117.7174, device='cuda:0', grad_fn=<NegBackward0>) [tensor(-27.9887, device='cuda:0', grad_fn=<NegBackward0>), tensor(-8.5792, device='cuda:0', grad_fn=<NegBackward0>), tensor(-81.1495, device='cuda:0', grad_fn=<AddBackward0>)]\n",
      "5.244988683672627\n",
      "tensor(-116.5216, device='cuda:0', grad_fn=<NegBackward0>) [tensor(-28.1419, device='cuda:0', grad_fn=<NegBackward0>), tensor(-7.9160, device='cuda:0', grad_fn=<NegBackward0>), tensor(-80.4637, device='cuda:0', grad_fn=<AddBackward0>)]\n",
      "tensor(-114.9544, device='cuda:0', grad_fn=<NegBackward0>) [tensor(-28.1419, device='cuda:0', grad_fn=<NegBackward0>), tensor(-6.7359, device='cuda:0', grad_fn=<NegBackward0>), tensor(-80.0767, device='cuda:0', grad_fn=<AddBackward0>)]\n",
      "5.592687205322297\n",
      "tensor(-118.2077, device='cuda:0', grad_fn=<NegBackward0>) [tensor(-28.3219, device='cuda:0', grad_fn=<NegBackward0>), tensor(-8.2202, device='cuda:0', grad_fn=<NegBackward0>), tensor(-81.6655, device='cuda:0', grad_fn=<AddBackward0>)]\n",
      "tensor(-117.7150, device='cuda:0', grad_fn=<NegBackward0>) [tensor(-28.3219, device='cuda:0', grad_fn=<NegBackward0>), tensor(-7.8933, device='cuda:0', grad_fn=<NegBackward0>), tensor(-81.4998, device='cuda:0', grad_fn=<AddBackward0>)]\n",
      "4.91337007949878\n",
      "tensor(-119.3773, device='cuda:0', grad_fn=<NegBackward0>) [tensor(-28.5783, device='cuda:0', grad_fn=<NegBackward0>), tensor(-9.2447, device='cuda:0', grad_fn=<NegBackward0>), tensor(-81.5543, device='cuda:0', grad_fn=<AddBackward0>)]\n",
      "tensor(-116.7929, device='cuda:0', grad_fn=<NegBackward0>) [tensor(-28.5783, device='cuda:0', grad_fn=<NegBackward0>), tensor(-8.0672, device='cuda:0', grad_fn=<NegBackward0>), tensor(-80.1474, device='cuda:0', grad_fn=<AddBackward0>)]\n",
      "6.3120253501380255\n",
      "tensor(-119.3411, device='cuda:0', grad_fn=<NegBackward0>) [tensor(-28.6207, device='cuda:0', grad_fn=<NegBackward0>), tensor(-8.2408, device='cuda:0', grad_fn=<NegBackward0>), tensor(-82.4796, device='cuda:0', grad_fn=<AddBackward0>)]\n",
      "tensor(-118.9254, device='cuda:0', grad_fn=<NegBackward0>) [tensor(-28.6207, device='cuda:0', grad_fn=<NegBackward0>), tensor(-8.1613, device='cuda:0', grad_fn=<NegBackward0>), tensor(-82.1433, device='cuda:0', grad_fn=<AddBackward0>)]\n",
      "6.041285367252516\n",
      "tensor(-118.9565, device='cuda:0', grad_fn=<NegBackward0>) [tensor(-28.6633, device='cuda:0', grad_fn=<NegBackward0>), tensor(-8.0698, device='cuda:0', grad_fn=<NegBackward0>), tensor(-82.2234, device='cuda:0', grad_fn=<AddBackward0>)]\n",
      "tensor(-117.8996, device='cuda:0', grad_fn=<NegBackward0>) [tensor(-28.6633, device='cuda:0', grad_fn=<NegBackward0>), tensor(-7.5571, device='cuda:0', grad_fn=<NegBackward0>), tensor(-81.6793, device='cuda:0', grad_fn=<AddBackward0>)]\n"
     ]
    },
    {
     "name": "stdout",
     "output_type": "stream",
     "text": [
      "5.063357338900568\n",
      "tensor(-121.8145, device='cuda:0', grad_fn=<NegBackward0>) [tensor(-28.7268, device='cuda:0', grad_fn=<NegBackward0>), tensor(-9.6894, device='cuda:0', grad_fn=<NegBackward0>), tensor(-83.3982, device='cuda:0', grad_fn=<AddBackward0>)]\n",
      "tensor(-119.4018, device='cuda:0', grad_fn=<NegBackward0>) [tensor(-28.7268, device='cuda:0', grad_fn=<NegBackward0>), tensor(-8.7716, device='cuda:0', grad_fn=<NegBackward0>), tensor(-81.9034, device='cuda:0', grad_fn=<AddBackward0>)]\n",
      "5.173286955158578\n",
      "tensor(-116.9623, device='cuda:0', grad_fn=<NegBackward0>) [tensor(-28.9049, device='cuda:0', grad_fn=<NegBackward0>), tensor(-7.4456, device='cuda:0', grad_fn=<NegBackward0>), tensor(-80.6117, device='cuda:0', grad_fn=<AddBackward0>)]\n",
      "tensor(-121.0349, device='cuda:0', grad_fn=<NegBackward0>) [tensor(-28.9049, device='cuda:0', grad_fn=<NegBackward0>), tensor(-9.4979, device='cuda:0', grad_fn=<NegBackward0>), tensor(-82.6321, device='cuda:0', grad_fn=<AddBackward0>)]\n",
      "4.841686745883719\n",
      "tensor(-119.2451, device='cuda:0', grad_fn=<NegBackward0>) [tensor(-29.0042, device='cuda:0', grad_fn=<NegBackward0>), tensor(-9.0025, device='cuda:0', grad_fn=<NegBackward0>), tensor(-81.2385, device='cuda:0', grad_fn=<AddBackward0>)]\n",
      "tensor(-119.1026, device='cuda:0', grad_fn=<NegBackward0>) [tensor(-29.0042, device='cuda:0', grad_fn=<NegBackward0>), tensor(-8.7479, device='cuda:0', grad_fn=<NegBackward0>), tensor(-81.3505, device='cuda:0', grad_fn=<AddBackward0>)]\n",
      "5.76889001263258\n",
      "tensor(-120.0136, device='cuda:0', grad_fn=<NegBackward0>) [tensor(-29.2513, device='cuda:0', grad_fn=<NegBackward0>), tensor(-8.2556, device='cuda:0', grad_fn=<NegBackward0>), tensor(-82.5067, device='cuda:0', grad_fn=<AddBackward0>)]\n",
      "tensor(-118.8836, device='cuda:0', grad_fn=<NegBackward0>) [tensor(-29.2513, device='cuda:0', grad_fn=<NegBackward0>), tensor(-7.5421, device='cuda:0', grad_fn=<NegBackward0>), tensor(-82.0902, device='cuda:0', grad_fn=<AddBackward0>)]\n",
      "5.038514460571486\n",
      "tensor(-119.4821, device='cuda:0', grad_fn=<NegBackward0>) [tensor(-29.3809, device='cuda:0', grad_fn=<NegBackward0>), tensor(-8.3436, device='cuda:0', grad_fn=<NegBackward0>), tensor(-81.7576, device='cuda:0', grad_fn=<AddBackward0>)]\n",
      "tensor(-120.8471, device='cuda:0', grad_fn=<NegBackward0>) [tensor(-29.3809, device='cuda:0', grad_fn=<NegBackward0>), tensor(-9.0705, device='cuda:0', grad_fn=<NegBackward0>), tensor(-82.3958, device='cuda:0', grad_fn=<AddBackward0>)]\n",
      "5.532713093506329\n",
      "tensor(-119.7743, device='cuda:0', grad_fn=<NegBackward0>) [tensor(-29.5837, device='cuda:0', grad_fn=<NegBackward0>), tensor(-8.3303, device='cuda:0', grad_fn=<NegBackward0>), tensor(-81.8604, device='cuda:0', grad_fn=<AddBackward0>)]\n",
      "tensor(-120.1678, device='cuda:0', grad_fn=<NegBackward0>) [tensor(-29.5837, device='cuda:0', grad_fn=<NegBackward0>), tensor(-8.3232, device='cuda:0', grad_fn=<NegBackward0>), tensor(-82.2608, device='cuda:0', grad_fn=<AddBackward0>)]\n",
      "5.4702606174465815\n",
      "tensor(-121.2302, device='cuda:0', grad_fn=<NegBackward0>) [tensor(-29.6746, device='cuda:0', grad_fn=<NegBackward0>), tensor(-8.5870, device='cuda:0', grad_fn=<NegBackward0>), tensor(-82.9687, device='cuda:0', grad_fn=<AddBackward0>)]\n",
      "tensor(-121.4499, device='cuda:0', grad_fn=<NegBackward0>) [tensor(-29.6746, device='cuda:0', grad_fn=<NegBackward0>), tensor(-8.5716, device='cuda:0', grad_fn=<NegBackward0>), tensor(-83.2037, device='cuda:0', grad_fn=<AddBackward0>)]\n",
      "4.942494856488696\n",
      "tensor(-119.8447, device='cuda:0', grad_fn=<NegBackward0>) [tensor(-29.6080, device='cuda:0', grad_fn=<NegBackward0>), tensor(-8.4212, device='cuda:0', grad_fn=<NegBackward0>), tensor(-81.8156, device='cuda:0', grad_fn=<AddBackward0>)]\n",
      "tensor(-121.6641, device='cuda:0', grad_fn=<NegBackward0>) [tensor(-29.6080, device='cuda:0', grad_fn=<NegBackward0>), tensor(-9.3409, device='cuda:0', grad_fn=<NegBackward0>), tensor(-82.7152, device='cuda:0', grad_fn=<AddBackward0>)]\n",
      "5.093828738663539\n",
      "tensor(-120.3908, device='cuda:0', grad_fn=<NegBackward0>) [tensor(-29.7046, device='cuda:0', grad_fn=<NegBackward0>), tensor(-9.0369, device='cuda:0', grad_fn=<NegBackward0>), tensor(-81.6493, device='cuda:0', grad_fn=<AddBackward0>)]\n",
      "tensor(-120.5914, device='cuda:0', grad_fn=<NegBackward0>) [tensor(-29.7046, device='cuda:0', grad_fn=<NegBackward0>), tensor(-8.8651, device='cuda:0', grad_fn=<NegBackward0>), tensor(-82.0216, device='cuda:0', grad_fn=<AddBackward0>)]\n",
      "4.925934869718669\n",
      "tensor(-120.4746, device='cuda:0', grad_fn=<NegBackward0>) [tensor(-29.8087, device='cuda:0', grad_fn=<NegBackward0>), tensor(-9.0271, device='cuda:0', grad_fn=<NegBackward0>), tensor(-81.6387, device='cuda:0', grad_fn=<AddBackward0>)]\n",
      "tensor(-120.9343, device='cuda:0', grad_fn=<NegBackward0>) [tensor(-29.8087, device='cuda:0', grad_fn=<NegBackward0>), tensor(-9.1691, device='cuda:0', grad_fn=<NegBackward0>), tensor(-81.9565, device='cuda:0', grad_fn=<AddBackward0>)]\n",
      "4.960155998238514\n",
      "tensor(-119.8255, device='cuda:0', grad_fn=<NegBackward0>) [tensor(-29.7003, device='cuda:0', grad_fn=<NegBackward0>), tensor(-8.0676, device='cuda:0', grad_fn=<NegBackward0>), tensor(-82.0576, device='cuda:0', grad_fn=<AddBackward0>)]\n",
      "tensor(-119.0117, device='cuda:0', grad_fn=<NegBackward0>) [tensor(-29.7003, device='cuda:0', grad_fn=<NegBackward0>), tensor(-7.8201, device='cuda:0', grad_fn=<NegBackward0>), tensor(-81.4913, device='cuda:0', grad_fn=<AddBackward0>)]\n",
      "4.974335827292137\n",
      "tensor(-120.6926, device='cuda:0', grad_fn=<NegBackward0>) [tensor(-29.8728, device='cuda:0', grad_fn=<NegBackward0>), tensor(-8.6855, device='cuda:0', grad_fn=<NegBackward0>), tensor(-82.1342, device='cuda:0', grad_fn=<AddBackward0>)]\n",
      "tensor(-122.1943, device='cuda:0', grad_fn=<NegBackward0>) [tensor(-29.8728, device='cuda:0', grad_fn=<NegBackward0>), tensor(-8.7623, device='cuda:0', grad_fn=<NegBackward0>), tensor(-83.5593, device='cuda:0', grad_fn=<AddBackward0>)]\n",
      "5.057308200893153\n",
      "tensor(-120.2572, device='cuda:0', grad_fn=<NegBackward0>) [tensor(-30.0502, device='cuda:0', grad_fn=<NegBackward0>), tensor(-8.5627, device='cuda:0', grad_fn=<NegBackward0>), tensor(-81.6442, device='cuda:0', grad_fn=<AddBackward0>)]\n",
      "tensor(-121.6386, device='cuda:0', grad_fn=<NegBackward0>) [tensor(-30.0502, device='cuda:0', grad_fn=<NegBackward0>), tensor(-9.2025, device='cuda:0', grad_fn=<NegBackward0>), tensor(-82.3859, device='cuda:0', grad_fn=<AddBackward0>)]\n",
      "5.076194611548982\n",
      "tensor(-123.0120, device='cuda:0', grad_fn=<NegBackward0>) [tensor(-30.2037, device='cuda:0', grad_fn=<NegBackward0>), tensor(-9.0748, device='cuda:0', grad_fn=<NegBackward0>), tensor(-83.7335, device='cuda:0', grad_fn=<AddBackward0>)]\n",
      "tensor(-121.7768, device='cuda:0', grad_fn=<NegBackward0>) [tensor(-30.2037, device='cuda:0', grad_fn=<NegBackward0>), tensor(-8.7922, device='cuda:0', grad_fn=<NegBackward0>), tensor(-82.7809, device='cuda:0', grad_fn=<AddBackward0>)]\n",
      "5.354524076030335\n",
      "tensor(-120.8723, device='cuda:0', grad_fn=<NegBackward0>) [tensor(-30.2781, device='cuda:0', grad_fn=<NegBackward0>), tensor(-7.8156, device='cuda:0', grad_fn=<NegBackward0>), tensor(-82.7786, device='cuda:0', grad_fn=<AddBackward0>)]\n",
      "tensor(-120.7889, device='cuda:0', grad_fn=<NegBackward0>) [tensor(-30.2781, device='cuda:0', grad_fn=<NegBackward0>), tensor(-7.7951, device='cuda:0', grad_fn=<NegBackward0>), tensor(-82.7157, device='cuda:0', grad_fn=<AddBackward0>)]\n",
      "4.938800312943477\n",
      "tensor(-122.7819, device='cuda:0', grad_fn=<NegBackward0>) [tensor(-30.4539, device='cuda:0', grad_fn=<NegBackward0>), tensor(-9.3763, device='cuda:0', grad_fn=<NegBackward0>), tensor(-82.9516, device='cuda:0', grad_fn=<AddBackward0>)]\n",
      "tensor(-121.5229, device='cuda:0', grad_fn=<NegBackward0>) [tensor(-30.4539, device='cuda:0', grad_fn=<NegBackward0>), tensor(-8.5115, device='cuda:0', grad_fn=<NegBackward0>), tensor(-82.5575, device='cuda:0', grad_fn=<AddBackward0>)]\n",
      "5.180843142166664\n",
      "tensor(-120.3518, device='cuda:0', grad_fn=<NegBackward0>) [tensor(-30.5700, device='cuda:0', grad_fn=<NegBackward0>), tensor(-7.8728, device='cuda:0', grad_fn=<NegBackward0>), tensor(-81.9091, device='cuda:0', grad_fn=<AddBackward0>)]\n",
      "tensor(-122.4853, device='cuda:0', grad_fn=<NegBackward0>) [tensor(-30.5700, device='cuda:0', grad_fn=<NegBackward0>), tensor(-8.5497, device='cuda:0', grad_fn=<NegBackward0>), tensor(-83.3656, device='cuda:0', grad_fn=<AddBackward0>)]\n"
     ]
    },
    {
     "name": "stdout",
     "output_type": "stream",
     "text": [
      "4.80347719111705\n",
      "tensor(-124.8815, device='cuda:0', grad_fn=<NegBackward0>) [tensor(-30.6525, device='cuda:0', grad_fn=<NegBackward0>), tensor(-9.8884, device='cuda:0', grad_fn=<NegBackward0>), tensor(-84.3406, device='cuda:0', grad_fn=<AddBackward0>)]\n",
      "tensor(-123.2533, device='cuda:0', grad_fn=<NegBackward0>) [tensor(-30.6525, device='cuda:0', grad_fn=<NegBackward0>), tensor(-9.6402, device='cuda:0', grad_fn=<NegBackward0>), tensor(-82.9606, device='cuda:0', grad_fn=<AddBackward0>)]\n",
      "4.3506481319556105\n",
      "tensor(-123.1457, device='cuda:0', grad_fn=<NegBackward0>) [tensor(-30.6402, device='cuda:0', grad_fn=<NegBackward0>), tensor(-9.6430, device='cuda:0', grad_fn=<NegBackward0>), tensor(-82.8625, device='cuda:0', grad_fn=<AddBackward0>)]\n",
      "tensor(-121.4782, device='cuda:0', grad_fn=<NegBackward0>) [tensor(-30.6402, device='cuda:0', grad_fn=<NegBackward0>), tensor(-9.7688, device='cuda:0', grad_fn=<NegBackward0>), tensor(-81.0692, device='cuda:0', grad_fn=<AddBackward0>)]\n",
      "5.195698594559657\n",
      "tensor(-120.1139, device='cuda:0', grad_fn=<NegBackward0>) [tensor(-30.2841, device='cuda:0', grad_fn=<NegBackward0>), tensor(-7.8865, device='cuda:0', grad_fn=<NegBackward0>), tensor(-81.9433, device='cuda:0', grad_fn=<AddBackward0>)]\n",
      "tensor(-119.4751, device='cuda:0', grad_fn=<NegBackward0>) [tensor(-30.2841, device='cuda:0', grad_fn=<NegBackward0>), tensor(-8.0774, device='cuda:0', grad_fn=<NegBackward0>), tensor(-81.1135, device='cuda:0', grad_fn=<AddBackward0>)]\n",
      "5.045097831958694\n",
      "tensor(-120.2640, device='cuda:0', grad_fn=<NegBackward0>) [tensor(-30.4581, device='cuda:0', grad_fn=<NegBackward0>), tensor(-7.8702, device='cuda:0', grad_fn=<NegBackward0>), tensor(-81.9358, device='cuda:0', grad_fn=<AddBackward0>)]\n",
      "tensor(-121.8310, device='cuda:0', grad_fn=<NegBackward0>) [tensor(-30.4581, device='cuda:0', grad_fn=<NegBackward0>), tensor(-8.6698, device='cuda:0', grad_fn=<NegBackward0>), tensor(-82.7031, device='cuda:0', grad_fn=<AddBackward0>)]\n",
      "5.103578412156155\n",
      "tensor(-120.4986, device='cuda:0', grad_fn=<NegBackward0>) [tensor(-30.7003, device='cuda:0', grad_fn=<NegBackward0>), tensor(-7.9648, device='cuda:0', grad_fn=<NegBackward0>), tensor(-81.8335, device='cuda:0', grad_fn=<AddBackward0>)]\n",
      "tensor(-122.8069, device='cuda:0', grad_fn=<NegBackward0>) [tensor(-30.7003, device='cuda:0', grad_fn=<NegBackward0>), tensor(-8.5934, device='cuda:0', grad_fn=<NegBackward0>), tensor(-83.5132, device='cuda:0', grad_fn=<AddBackward0>)]\n",
      "4.5139002938759925\n",
      "tensor(-123.2904, device='cuda:0', grad_fn=<NegBackward0>) [tensor(-30.9745, device='cuda:0', grad_fn=<NegBackward0>), tensor(-9.6727, device='cuda:0', grad_fn=<NegBackward0>), tensor(-82.6432, device='cuda:0', grad_fn=<AddBackward0>)]\n",
      "tensor(-124.4239, device='cuda:0', grad_fn=<NegBackward0>) [tensor(-30.9745, device='cuda:0', grad_fn=<NegBackward0>), tensor(-10.5123, device='cuda:0', grad_fn=<NegBackward0>), tensor(-82.9371, device='cuda:0', grad_fn=<AddBackward0>)]\n",
      "4.747094884851092\n",
      "tensor(-123.4498, device='cuda:0', grad_fn=<NegBackward0>) [tensor(-31.0099, device='cuda:0', grad_fn=<NegBackward0>), tensor(-9.6974, device='cuda:0', grad_fn=<NegBackward0>), tensor(-82.7424, device='cuda:0', grad_fn=<AddBackward0>)]\n",
      "tensor(-122.9078, device='cuda:0', grad_fn=<NegBackward0>) [tensor(-31.0099, device='cuda:0', grad_fn=<NegBackward0>), tensor(-9.4129, device='cuda:0', grad_fn=<NegBackward0>), tensor(-82.4850, device='cuda:0', grad_fn=<AddBackward0>)]\n",
      "4.62937353800509\n",
      "tensor(-122.0051, device='cuda:0', grad_fn=<NegBackward0>) [tensor(-31.0798, device='cuda:0', grad_fn=<NegBackward0>), tensor(-8.7206, device='cuda:0', grad_fn=<NegBackward0>), tensor(-82.2047, device='cuda:0', grad_fn=<AddBackward0>)]\n",
      "tensor(-122.3205, device='cuda:0', grad_fn=<NegBackward0>) [tensor(-31.0798, device='cuda:0', grad_fn=<NegBackward0>), tensor(-8.7427, device='cuda:0', grad_fn=<NegBackward0>), tensor(-82.4980, device='cuda:0', grad_fn=<AddBackward0>)]\n",
      "4.9388316404751285\n",
      "tensor(-122.2474, device='cuda:0', grad_fn=<NegBackward0>) [tensor(-31.1010, device='cuda:0', grad_fn=<NegBackward0>), tensor(-8.6643, device='cuda:0', grad_fn=<NegBackward0>), tensor(-82.4821, device='cuda:0', grad_fn=<AddBackward0>)]\n",
      "tensor(-122.3284, device='cuda:0', grad_fn=<NegBackward0>) [tensor(-31.1010, device='cuda:0', grad_fn=<NegBackward0>), tensor(-8.5325, device='cuda:0', grad_fn=<NegBackward0>), tensor(-82.6949, device='cuda:0', grad_fn=<AddBackward0>)]\n",
      "5.106705581555556\n",
      "tensor(-123.3731, device='cuda:0', grad_fn=<NegBackward0>) [tensor(-31.2890, device='cuda:0', grad_fn=<NegBackward0>), tensor(-8.4638, device='cuda:0', grad_fn=<NegBackward0>), tensor(-83.6203, device='cuda:0', grad_fn=<AddBackward0>)]\n",
      "tensor(-125.1903, device='cuda:0', grad_fn=<NegBackward0>) [tensor(-31.2890, device='cuda:0', grad_fn=<NegBackward0>), tensor(-9.2086, device='cuda:0', grad_fn=<NegBackward0>), tensor(-84.6928, device='cuda:0', grad_fn=<AddBackward0>)]\n",
      "4.8649591444740095\n",
      "tensor(-122.6448, device='cuda:0', grad_fn=<NegBackward0>) [tensor(-31.4497, device='cuda:0', grad_fn=<NegBackward0>), tensor(-8.2947, device='cuda:0', grad_fn=<NegBackward0>), tensor(-82.9004, device='cuda:0', grad_fn=<AddBackward0>)]\n",
      "tensor(-123.8121, device='cuda:0', grad_fn=<NegBackward0>) [tensor(-31.4497, device='cuda:0', grad_fn=<NegBackward0>), tensor(-8.9987, device='cuda:0', grad_fn=<NegBackward0>), tensor(-83.3637, device='cuda:0', grad_fn=<AddBackward0>)]\n",
      "5.327624221593448\n",
      "tensor(-124.9109, device='cuda:0', grad_fn=<NegBackward0>) [tensor(-31.4923, device='cuda:0', grad_fn=<NegBackward0>), tensor(-9.0944, device='cuda:0', grad_fn=<NegBackward0>), tensor(-84.3242, device='cuda:0', grad_fn=<AddBackward0>)]\n",
      "tensor(-123.3800, device='cuda:0', grad_fn=<NegBackward0>) [tensor(-31.4923, device='cuda:0', grad_fn=<NegBackward0>), tensor(-8.5245, device='cuda:0', grad_fn=<NegBackward0>), tensor(-83.3632, device='cuda:0', grad_fn=<AddBackward0>)]\n",
      "5.219737520886239\n",
      "tensor(-123.2643, device='cuda:0', grad_fn=<NegBackward0>) [tensor(-31.5082, device='cuda:0', grad_fn=<NegBackward0>), tensor(-8.2829, device='cuda:0', grad_fn=<NegBackward0>), tensor(-83.4732, device='cuda:0', grad_fn=<AddBackward0>)]\n",
      "tensor(-122.4948, device='cuda:0', grad_fn=<NegBackward0>) [tensor(-31.5082, device='cuda:0', grad_fn=<NegBackward0>), tensor(-8.2476, device='cuda:0', grad_fn=<NegBackward0>), tensor(-82.7389, device='cuda:0', grad_fn=<AddBackward0>)]\n",
      "4.885281174079655\n",
      "tensor(-123.0648, device='cuda:0', grad_fn=<NegBackward0>) [tensor(-31.4761, device='cuda:0', grad_fn=<NegBackward0>), tensor(-9.0825, device='cuda:0', grad_fn=<NegBackward0>), tensor(-82.5063, device='cuda:0', grad_fn=<AddBackward0>)]\n",
      "tensor(-122.0987, device='cuda:0', grad_fn=<NegBackward0>) [tensor(-31.4761, device='cuda:0', grad_fn=<NegBackward0>), tensor(-8.0881, device='cuda:0', grad_fn=<NegBackward0>), tensor(-82.5346, device='cuda:0', grad_fn=<AddBackward0>)]\n",
      "4.784985934804636\n",
      "tensor(-124.1544, device='cuda:0', grad_fn=<NegBackward0>) [tensor(-31.6753, device='cuda:0', grad_fn=<NegBackward0>), tensor(-8.9116, device='cuda:0', grad_fn=<NegBackward0>), tensor(-83.5675, device='cuda:0', grad_fn=<AddBackward0>)]\n",
      "tensor(-124.3950, device='cuda:0', grad_fn=<NegBackward0>) [tensor(-31.6753, device='cuda:0', grad_fn=<NegBackward0>), tensor(-9.0732, device='cuda:0', grad_fn=<NegBackward0>), tensor(-83.6465, device='cuda:0', grad_fn=<AddBackward0>)]\n",
      "4.865232794678636\n",
      "tensor(-123.8867, device='cuda:0', grad_fn=<NegBackward0>) [tensor(-31.6791, device='cuda:0', grad_fn=<NegBackward0>), tensor(-8.8785, device='cuda:0', grad_fn=<NegBackward0>), tensor(-83.3290, device='cuda:0', grad_fn=<AddBackward0>)]\n",
      "tensor(-123.0967, device='cuda:0', grad_fn=<NegBackward0>) [tensor(-31.6791, device='cuda:0', grad_fn=<NegBackward0>), tensor(-8.7331, device='cuda:0', grad_fn=<NegBackward0>), tensor(-82.6845, device='cuda:0', grad_fn=<AddBackward0>)]\n",
      "5.295541936700253\n",
      "tensor(-124.9334, device='cuda:0', grad_fn=<NegBackward0>) [tensor(-31.8188, device='cuda:0', grad_fn=<NegBackward0>), tensor(-8.8962, device='cuda:0', grad_fn=<NegBackward0>), tensor(-84.2185, device='cuda:0', grad_fn=<AddBackward0>)]\n",
      "tensor(-123.6929, device='cuda:0', grad_fn=<NegBackward0>) [tensor(-31.8188, device='cuda:0', grad_fn=<NegBackward0>), tensor(-8.2952, device='cuda:0', grad_fn=<NegBackward0>), tensor(-83.5788, device='cuda:0', grad_fn=<AddBackward0>)]\n"
     ]
    },
    {
     "name": "stdout",
     "output_type": "stream",
     "text": [
      "4.668124954807506\n",
      "tensor(-123.9318, device='cuda:0', grad_fn=<NegBackward0>) [tensor(-31.9188, device='cuda:0', grad_fn=<NegBackward0>), tensor(-9.0033, device='cuda:0', grad_fn=<NegBackward0>), tensor(-83.0096, device='cuda:0', grad_fn=<AddBackward0>)]\n",
      "tensor(-123.9836, device='cuda:0', grad_fn=<NegBackward0>) [tensor(-31.9188, device='cuda:0', grad_fn=<NegBackward0>), tensor(-8.8745, device='cuda:0', grad_fn=<NegBackward0>), tensor(-83.1903, device='cuda:0', grad_fn=<AddBackward0>)]\n",
      "5.137325517286496\n",
      "tensor(-124.8002, device='cuda:0', grad_fn=<NegBackward0>) [tensor(-31.8641, device='cuda:0', grad_fn=<NegBackward0>), tensor(-8.9546, device='cuda:0', grad_fn=<NegBackward0>), tensor(-83.9815, device='cuda:0', grad_fn=<AddBackward0>)]\n",
      "tensor(-123.2014, device='cuda:0', grad_fn=<NegBackward0>) [tensor(-31.8641, device='cuda:0', grad_fn=<NegBackward0>), tensor(-8.2437, device='cuda:0', grad_fn=<NegBackward0>), tensor(-83.0935, device='cuda:0', grad_fn=<AddBackward0>)]\n",
      "5.098996307692878\n",
      "tensor(-124.1926, device='cuda:0', grad_fn=<NegBackward0>) [tensor(-31.7472, device='cuda:0', grad_fn=<NegBackward0>), tensor(-9.0528, device='cuda:0', grad_fn=<NegBackward0>), tensor(-83.3926, device='cuda:0', grad_fn=<AddBackward0>)]\n",
      "tensor(-123.3281, device='cuda:0', grad_fn=<NegBackward0>) [tensor(-31.7472, device='cuda:0', grad_fn=<NegBackward0>), tensor(-8.6695, device='cuda:0', grad_fn=<NegBackward0>), tensor(-82.9114, device='cuda:0', grad_fn=<AddBackward0>)]\n",
      "4.773692440250705\n",
      "tensor(-121.4615, device='cuda:0', grad_fn=<NegBackward0>) [tensor(-31.6437, device='cuda:0', grad_fn=<NegBackward0>), tensor(-7.9691, device='cuda:0', grad_fn=<NegBackward0>), tensor(-81.8487, device='cuda:0', grad_fn=<AddBackward0>)]\n",
      "tensor(-123.8902, device='cuda:0', grad_fn=<NegBackward0>) [tensor(-31.6437, device='cuda:0', grad_fn=<NegBackward0>), tensor(-8.8881, device='cuda:0', grad_fn=<NegBackward0>), tensor(-83.3585, device='cuda:0', grad_fn=<AddBackward0>)]\n",
      "5.862701667522283\n",
      "tensor(-123.8648, device='cuda:0', grad_fn=<NegBackward0>) [tensor(-31.6009, device='cuda:0', grad_fn=<NegBackward0>), tensor(-8.4883, device='cuda:0', grad_fn=<NegBackward0>), tensor(-83.7755, device='cuda:0', grad_fn=<AddBackward0>)]\n",
      "tensor(-122.1644, device='cuda:0', grad_fn=<NegBackward0>) [tensor(-31.6009, device='cuda:0', grad_fn=<NegBackward0>), tensor(-7.4834, device='cuda:0', grad_fn=<NegBackward0>), tensor(-83.0800, device='cuda:0', grad_fn=<AddBackward0>)]\n",
      "4.612237373320059\n",
      "tensor(-124.7667, device='cuda:0', grad_fn=<NegBackward0>) [tensor(-31.8781, device='cuda:0', grad_fn=<NegBackward0>), tensor(-8.9052, device='cuda:0', grad_fn=<NegBackward0>), tensor(-83.9835, device='cuda:0', grad_fn=<AddBackward0>)]\n",
      "tensor(-123.4326, device='cuda:0', grad_fn=<NegBackward0>) [tensor(-31.8781, device='cuda:0', grad_fn=<NegBackward0>), tensor(-8.8633, device='cuda:0', grad_fn=<NegBackward0>), tensor(-82.6912, device='cuda:0', grad_fn=<AddBackward0>)]\n",
      "5.744981540302656\n",
      "tensor(-125.9075, device='cuda:0', grad_fn=<NegBackward0>) [tensor(-32.1672, device='cuda:0', grad_fn=<NegBackward0>), tensor(-8.9974, device='cuda:0', grad_fn=<NegBackward0>), tensor(-84.7429, device='cuda:0', grad_fn=<AddBackward0>)]\n",
      "tensor(-124.6908, device='cuda:0', grad_fn=<NegBackward0>) [tensor(-32.1672, device='cuda:0', grad_fn=<NegBackward0>), tensor(-8.0720, device='cuda:0', grad_fn=<NegBackward0>), tensor(-84.4515, device='cuda:0', grad_fn=<AddBackward0>)]\n",
      "5.25425801055442\n",
      "tensor(-124.5717, device='cuda:0', grad_fn=<NegBackward0>) [tensor(-32.2590, device='cuda:0', grad_fn=<NegBackward0>), tensor(-8.3223, device='cuda:0', grad_fn=<NegBackward0>), tensor(-83.9904, device='cuda:0', grad_fn=<AddBackward0>)]\n",
      "tensor(-125.2044, device='cuda:0', grad_fn=<NegBackward0>) [tensor(-32.2590, device='cuda:0', grad_fn=<NegBackward0>), tensor(-8.7850, device='cuda:0', grad_fn=<NegBackward0>), tensor(-84.1604, device='cuda:0', grad_fn=<AddBackward0>)]\n",
      "4.795075711335975\n",
      "tensor(-125.2249, device='cuda:0', grad_fn=<NegBackward0>) [tensor(-32.2469, device='cuda:0', grad_fn=<NegBackward0>), tensor(-9.1453, device='cuda:0', grad_fn=<NegBackward0>), tensor(-83.8327, device='cuda:0', grad_fn=<AddBackward0>)]\n",
      "tensor(-125.8687, device='cuda:0', grad_fn=<NegBackward0>) [tensor(-32.2469, device='cuda:0', grad_fn=<NegBackward0>), tensor(-9.5936, device='cuda:0', grad_fn=<NegBackward0>), tensor(-84.0282, device='cuda:0', grad_fn=<AddBackward0>)]\n",
      "5.0334373012383855\n",
      "tensor(-125.8830, device='cuda:0', grad_fn=<NegBackward0>) [tensor(-32.1388, device='cuda:0', grad_fn=<NegBackward0>), tensor(-8.8319, device='cuda:0', grad_fn=<NegBackward0>), tensor(-84.9124, device='cuda:0', grad_fn=<AddBackward0>)]\n",
      "tensor(-123.6895, device='cuda:0', grad_fn=<NegBackward0>) [tensor(-32.1388, device='cuda:0', grad_fn=<NegBackward0>), tensor(-8.1274, device='cuda:0', grad_fn=<NegBackward0>), tensor(-83.4233, device='cuda:0', grad_fn=<AddBackward0>)]\n",
      "4.730006434007872\n",
      "tensor(-125.0891, device='cuda:0', grad_fn=<NegBackward0>) [tensor(-32.2538, device='cuda:0', grad_fn=<NegBackward0>), tensor(-9.1124, device='cuda:0', grad_fn=<NegBackward0>), tensor(-83.7228, device='cuda:0', grad_fn=<AddBackward0>)]\n",
      "tensor(-123.6169, device='cuda:0', grad_fn=<NegBackward0>) [tensor(-32.2538, device='cuda:0', grad_fn=<NegBackward0>), tensor(-8.3568, device='cuda:0', grad_fn=<NegBackward0>), tensor(-83.0062, device='cuda:0', grad_fn=<AddBackward0>)]\n",
      "4.742816537769011\n",
      "tensor(-128.9809, device='cuda:0', grad_fn=<NegBackward0>) [tensor(-32.4967, device='cuda:0', grad_fn=<NegBackward0>), tensor(-10.3230, device='cuda:0', grad_fn=<NegBackward0>), tensor(-86.1611, device='cuda:0', grad_fn=<AddBackward0>)]\n",
      "tensor(-125.3742, device='cuda:0', grad_fn=<NegBackward0>) [tensor(-32.4967, device='cuda:0', grad_fn=<NegBackward0>), tensor(-8.9481, device='cuda:0', grad_fn=<NegBackward0>), tensor(-83.9294, device='cuda:0', grad_fn=<AddBackward0>)]\n",
      "4.723951521605695\n",
      "tensor(-125.6335, device='cuda:0', grad_fn=<NegBackward0>) [tensor(-32.6285, device='cuda:0', grad_fn=<NegBackward0>), tensor(-8.8785, device='cuda:0', grad_fn=<NegBackward0>), tensor(-84.1265, device='cuda:0', grad_fn=<AddBackward0>)]\n",
      "tensor(-125.6216, device='cuda:0', grad_fn=<NegBackward0>) [tensor(-32.6285, device='cuda:0', grad_fn=<NegBackward0>), tensor(-8.8885, device='cuda:0', grad_fn=<NegBackward0>), tensor(-84.1046, device='cuda:0', grad_fn=<AddBackward0>)]\n",
      "5.024624078263377\n",
      "tensor(-125.2095, device='cuda:0', grad_fn=<NegBackward0>) [tensor(-32.7560, device='cuda:0', grad_fn=<NegBackward0>), tensor(-8.2308, device='cuda:0', grad_fn=<NegBackward0>), tensor(-84.2227, device='cuda:0', grad_fn=<AddBackward0>)]\n",
      "tensor(-125.9736, device='cuda:0', grad_fn=<NegBackward0>) [tensor(-32.7560, device='cuda:0', grad_fn=<NegBackward0>), tensor(-8.5411, device='cuda:0', grad_fn=<NegBackward0>), tensor(-84.6765, device='cuda:0', grad_fn=<AddBackward0>)]\n",
      "5.284713939298171\n",
      "tensor(-127.5760, device='cuda:0', grad_fn=<NegBackward0>) [tensor(-32.8279, device='cuda:0', grad_fn=<NegBackward0>), tensor(-9.3821, device='cuda:0', grad_fn=<NegBackward0>), tensor(-85.3660, device='cuda:0', grad_fn=<AddBackward0>)]\n",
      "tensor(-125.8995, device='cuda:0', grad_fn=<NegBackward0>) [tensor(-32.8279, device='cuda:0', grad_fn=<NegBackward0>), tensor(-8.6495, device='cuda:0', grad_fn=<NegBackward0>), tensor(-84.4221, device='cuda:0', grad_fn=<AddBackward0>)]\n",
      "4.805297989279486\n",
      "tensor(-126.8727, device='cuda:0', grad_fn=<NegBackward0>) [tensor(-32.7822, device='cuda:0', grad_fn=<NegBackward0>), tensor(-9.3708, device='cuda:0', grad_fn=<NegBackward0>), tensor(-84.7197, device='cuda:0', grad_fn=<AddBackward0>)]\n",
      "tensor(-125.7535, device='cuda:0', grad_fn=<NegBackward0>) [tensor(-32.7822, device='cuda:0', grad_fn=<NegBackward0>), tensor(-8.4431, device='cuda:0', grad_fn=<NegBackward0>), tensor(-84.5281, device='cuda:0', grad_fn=<AddBackward0>)]\n",
      "5.5382704419587485\n",
      "tensor(-124.7675, device='cuda:0', grad_fn=<NegBackward0>) [tensor(-32.7999, device='cuda:0', grad_fn=<NegBackward0>), tensor(-7.9812, device='cuda:0', grad_fn=<NegBackward0>), tensor(-83.9863, device='cuda:0', grad_fn=<AddBackward0>)]\n",
      "tensor(-127.5382, device='cuda:0', grad_fn=<NegBackward0>) [tensor(-32.7999, device='cuda:0', grad_fn=<NegBackward0>), tensor(-8.9546, device='cuda:0', grad_fn=<NegBackward0>), tensor(-85.7837, device='cuda:0', grad_fn=<AddBackward0>)]\n"
     ]
    },
    {
     "name": "stdout",
     "output_type": "stream",
     "text": [
      "5.553133214564721\n",
      "tensor(-125.3599, device='cuda:0', grad_fn=<NegBackward0>) [tensor(-32.7688, device='cuda:0', grad_fn=<NegBackward0>), tensor(-8.3130, device='cuda:0', grad_fn=<NegBackward0>), tensor(-84.2782, device='cuda:0', grad_fn=<AddBackward0>)]\n",
      "tensor(-126.6143, device='cuda:0', grad_fn=<NegBackward0>) [tensor(-32.7688, device='cuda:0', grad_fn=<NegBackward0>), tensor(-8.7859, device='cuda:0', grad_fn=<NegBackward0>), tensor(-85.0596, device='cuda:0', grad_fn=<AddBackward0>)]\n",
      "5.293016574964633\n",
      "tensor(-125.9217, device='cuda:0', grad_fn=<NegBackward0>) [tensor(-32.8185, device='cuda:0', grad_fn=<NegBackward0>), tensor(-8.3243, device='cuda:0', grad_fn=<NegBackward0>), tensor(-84.7788, device='cuda:0', grad_fn=<AddBackward0>)]\n",
      "tensor(-127.1805, device='cuda:0', grad_fn=<NegBackward0>) [tensor(-32.8185, device='cuda:0', grad_fn=<NegBackward0>), tensor(-9.2103, device='cuda:0', grad_fn=<NegBackward0>), tensor(-85.1517, device='cuda:0', grad_fn=<AddBackward0>)]\n",
      "5.873689688076868\n",
      "tensor(-127.1225, device='cuda:0', grad_fn=<NegBackward0>) [tensor(-33.0014, device='cuda:0', grad_fn=<NegBackward0>), tensor(-8.7636, device='cuda:0', grad_fn=<NegBackward0>), tensor(-85.3575, device='cuda:0', grad_fn=<AddBackward0>)]\n",
      "tensor(-127.8344, device='cuda:0', grad_fn=<NegBackward0>) [tensor(-33.0014, device='cuda:0', grad_fn=<NegBackward0>), tensor(-8.6687, device='cuda:0', grad_fn=<NegBackward0>), tensor(-86.1644, device='cuda:0', grad_fn=<AddBackward0>)]\n",
      "4.957036636712786\n",
      "tensor(-125.9811, device='cuda:0', grad_fn=<NegBackward0>) [tensor(-33.0784, device='cuda:0', grad_fn=<NegBackward0>), tensor(-8.7309, device='cuda:0', grad_fn=<NegBackward0>), tensor(-84.1717, device='cuda:0', grad_fn=<AddBackward0>)]\n",
      "tensor(-126.3583, device='cuda:0', grad_fn=<NegBackward0>) [tensor(-33.0784, device='cuda:0', grad_fn=<NegBackward0>), tensor(-8.8750, device='cuda:0', grad_fn=<NegBackward0>), tensor(-84.4048, device='cuda:0', grad_fn=<AddBackward0>)]\n",
      "4.417934811835064\n",
      "tensor(-125.4939, device='cuda:0', grad_fn=<NegBackward0>) [tensor(-33.1652, device='cuda:0', grad_fn=<NegBackward0>), tensor(-8.4937, device='cuda:0', grad_fn=<NegBackward0>), tensor(-83.8350, device='cuda:0', grad_fn=<AddBackward0>)]\n",
      "tensor(-127.4212, device='cuda:0', grad_fn=<NegBackward0>) [tensor(-33.1652, device='cuda:0', grad_fn=<NegBackward0>), tensor(-9.7359, device='cuda:0', grad_fn=<NegBackward0>), tensor(-84.5201, device='cuda:0', grad_fn=<AddBackward0>)]\n",
      "5.235487810224214\n",
      "tensor(-127.5813, device='cuda:0', grad_fn=<NegBackward0>) [tensor(-33.1858, device='cuda:0', grad_fn=<NegBackward0>), tensor(-9.0103, device='cuda:0', grad_fn=<NegBackward0>), tensor(-85.3852, device='cuda:0', grad_fn=<AddBackward0>)]\n",
      "tensor(-126.8509, device='cuda:0', grad_fn=<NegBackward0>) [tensor(-33.1858, device='cuda:0', grad_fn=<NegBackward0>), tensor(-8.6419, device='cuda:0', grad_fn=<NegBackward0>), tensor(-85.0232, device='cuda:0', grad_fn=<AddBackward0>)]\n",
      "4.661510534595097\n",
      "tensor(-128.4698, device='cuda:0', grad_fn=<NegBackward0>) [tensor(-33.2860, device='cuda:0', grad_fn=<NegBackward0>), tensor(-9.9031, device='cuda:0', grad_fn=<NegBackward0>), tensor(-85.2807, device='cuda:0', grad_fn=<AddBackward0>)]\n",
      "tensor(-128.1642, device='cuda:0', grad_fn=<NegBackward0>) [tensor(-33.2860, device='cuda:0', grad_fn=<NegBackward0>), tensor(-9.5707, device='cuda:0', grad_fn=<NegBackward0>), tensor(-85.3075, device='cuda:0', grad_fn=<AddBackward0>)]\n",
      "5.9602071777555485\n",
      "tensor(-124.7009, device='cuda:0', grad_fn=<NegBackward0>) [tensor(-33.3151, device='cuda:0', grad_fn=<NegBackward0>), tensor(-7.4362, device='cuda:0', grad_fn=<NegBackward0>), tensor(-83.9496, device='cuda:0', grad_fn=<AddBackward0>)]\n",
      "tensor(-127.4372, device='cuda:0', grad_fn=<NegBackward0>) [tensor(-33.3151, device='cuda:0', grad_fn=<NegBackward0>), tensor(-8.6456, device='cuda:0', grad_fn=<NegBackward0>), tensor(-85.4765, device='cuda:0', grad_fn=<AddBackward0>)]\n",
      "4.974933542088692\n",
      "tensor(-127.8770, device='cuda:0', grad_fn=<NegBackward0>) [tensor(-33.3046, device='cuda:0', grad_fn=<NegBackward0>), tensor(-9.4074, device='cuda:0', grad_fn=<NegBackward0>), tensor(-85.1651, device='cuda:0', grad_fn=<AddBackward0>)]\n",
      "tensor(-126.4866, device='cuda:0', grad_fn=<NegBackward0>) [tensor(-33.3046, device='cuda:0', grad_fn=<NegBackward0>), tensor(-8.7724, device='cuda:0', grad_fn=<NegBackward0>), tensor(-84.4097, device='cuda:0', grad_fn=<AddBackward0>)]\n",
      "4.69082995923099\n",
      "tensor(-125.1794, device='cuda:0', grad_fn=<NegBackward0>) [tensor(-33.2466, device='cuda:0', grad_fn=<NegBackward0>), tensor(-8.7849, device='cuda:0', grad_fn=<NegBackward0>), tensor(-83.1479, device='cuda:0', grad_fn=<AddBackward0>)]\n",
      "tensor(-125.5147, device='cuda:0', grad_fn=<NegBackward0>) [tensor(-33.2466, device='cuda:0', grad_fn=<NegBackward0>), tensor(-8.9071, device='cuda:0', grad_fn=<NegBackward0>), tensor(-83.3610, device='cuda:0', grad_fn=<AddBackward0>)]\n",
      "4.947680970758243\n",
      "tensor(-126.9791, device='cuda:0', grad_fn=<NegBackward0>) [tensor(-33.1631, device='cuda:0', grad_fn=<NegBackward0>), tensor(-9.1161, device='cuda:0', grad_fn=<NegBackward0>), tensor(-84.6998, device='cuda:0', grad_fn=<AddBackward0>)]\n",
      "tensor(-126.2178, device='cuda:0', grad_fn=<NegBackward0>) [tensor(-33.1631, device='cuda:0', grad_fn=<NegBackward0>), tensor(-8.7548, device='cuda:0', grad_fn=<NegBackward0>), tensor(-84.2999, device='cuda:0', grad_fn=<AddBackward0>)]\n",
      "5.163597206215068\n",
      "tensor(-125.8176, device='cuda:0', grad_fn=<NegBackward0>) [tensor(-33.4296, device='cuda:0', grad_fn=<NegBackward0>), tensor(-7.9033, device='cuda:0', grad_fn=<NegBackward0>), tensor(-84.4847, device='cuda:0', grad_fn=<AddBackward0>)]\n",
      "tensor(-128.1487, device='cuda:0', grad_fn=<NegBackward0>) [tensor(-33.4296, device='cuda:0', grad_fn=<NegBackward0>), tensor(-8.9423, device='cuda:0', grad_fn=<NegBackward0>), tensor(-85.7768, device='cuda:0', grad_fn=<AddBackward0>)]\n",
      "5.135540872983075\n",
      "tensor(-125.5200, device='cuda:0', grad_fn=<NegBackward0>) [tensor(-33.5911, device='cuda:0', grad_fn=<NegBackward0>), tensor(-7.7367, device='cuda:0', grad_fn=<NegBackward0>), tensor(-84.1922, device='cuda:0', grad_fn=<AddBackward0>)]\n",
      "tensor(-127.1480, device='cuda:0', grad_fn=<NegBackward0>) [tensor(-33.5911, device='cuda:0', grad_fn=<NegBackward0>), tensor(-8.7244, device='cuda:0', grad_fn=<NegBackward0>), tensor(-84.8325, device='cuda:0', grad_fn=<AddBackward0>)]\n",
      "5.261318191298846\n",
      "tensor(-125.5801, device='cuda:0', grad_fn=<NegBackward0>) [tensor(-33.5546, device='cuda:0', grad_fn=<NegBackward0>), tensor(-7.3741, device='cuda:0', grad_fn=<NegBackward0>), tensor(-84.6514, device='cuda:0', grad_fn=<AddBackward0>)]\n",
      "tensor(-126.5435, device='cuda:0', grad_fn=<NegBackward0>) [tensor(-33.5546, device='cuda:0', grad_fn=<NegBackward0>), tensor(-8.5712, device='cuda:0', grad_fn=<NegBackward0>), tensor(-84.4178, device='cuda:0', grad_fn=<AddBackward0>)]\n",
      "4.468396456259006\n",
      "tensor(-127.4925, device='cuda:0', grad_fn=<NegBackward0>) [tensor(-33.7127, device='cuda:0', grad_fn=<NegBackward0>), tensor(-9.7099, device='cuda:0', grad_fn=<NegBackward0>), tensor(-84.0699, device='cuda:0', grad_fn=<AddBackward0>)]\n",
      "tensor(-128.7993, device='cuda:0', grad_fn=<NegBackward0>) [tensor(-33.7127, device='cuda:0', grad_fn=<NegBackward0>), tensor(-9.6007, device='cuda:0', grad_fn=<NegBackward0>), tensor(-85.4860, device='cuda:0', grad_fn=<AddBackward0>)]\n",
      "5.576805998565712\n",
      "tensor(-127.3325, device='cuda:0', grad_fn=<NegBackward0>) [tensor(-33.6951, device='cuda:0', grad_fn=<NegBackward0>), tensor(-8.4314, device='cuda:0', grad_fn=<NegBackward0>), tensor(-85.2060, device='cuda:0', grad_fn=<AddBackward0>)]\n",
      "tensor(-127.8884, device='cuda:0', grad_fn=<NegBackward0>) [tensor(-33.6951, device='cuda:0', grad_fn=<NegBackward0>), tensor(-8.6901, device='cuda:0', grad_fn=<NegBackward0>), tensor(-85.5032, device='cuda:0', grad_fn=<AddBackward0>)]\n",
      "4.737052500311244\n",
      "tensor(-125.9846, device='cuda:0', grad_fn=<NegBackward0>) [tensor(-33.6181, device='cuda:0', grad_fn=<NegBackward0>), tensor(-8.5237, device='cuda:0', grad_fn=<NegBackward0>), tensor(-83.8427, device='cuda:0', grad_fn=<AddBackward0>)]\n",
      "tensor(-126.4655, device='cuda:0', grad_fn=<NegBackward0>) [tensor(-33.6181, device='cuda:0', grad_fn=<NegBackward0>), tensor(-8.2359, device='cuda:0', grad_fn=<NegBackward0>), tensor(-84.6114, device='cuda:0', grad_fn=<AddBackward0>)]\n"
     ]
    },
    {
     "name": "stdout",
     "output_type": "stream",
     "text": [
      "4.758920484043249\n",
      "tensor(-128.1434, device='cuda:0', grad_fn=<NegBackward0>) [tensor(-33.6960, device='cuda:0', grad_fn=<NegBackward0>), tensor(-9.6356, device='cuda:0', grad_fn=<NegBackward0>), tensor(-84.8119, device='cuda:0', grad_fn=<AddBackward0>)]\n",
      "tensor(-127.1771, device='cuda:0', grad_fn=<NegBackward0>) [tensor(-33.6960, device='cuda:0', grad_fn=<NegBackward0>), tensor(-8.4064, device='cuda:0', grad_fn=<NegBackward0>), tensor(-85.0747, device='cuda:0', grad_fn=<AddBackward0>)]\n",
      "5.216571073434548\n",
      "tensor(-128.9559, device='cuda:0', grad_fn=<NegBackward0>) [tensor(-33.8220, device='cuda:0', grad_fn=<NegBackward0>), tensor(-9.1226, device='cuda:0', grad_fn=<NegBackward0>), tensor(-86.0113, device='cuda:0', grad_fn=<AddBackward0>)]\n",
      "tensor(-128.3084, device='cuda:0', grad_fn=<NegBackward0>) [tensor(-33.8220, device='cuda:0', grad_fn=<NegBackward0>), tensor(-8.8611, device='cuda:0', grad_fn=<NegBackward0>), tensor(-85.6253, device='cuda:0', grad_fn=<AddBackward0>)]\n",
      "5.375052454117291\n",
      "tensor(-128.4921, device='cuda:0', grad_fn=<NegBackward0>) [tensor(-33.7874, device='cuda:0', grad_fn=<NegBackward0>), tensor(-9.0362, device='cuda:0', grad_fn=<NegBackward0>), tensor(-85.6685, device='cuda:0', grad_fn=<AddBackward0>)]\n",
      "tensor(-129.6660, device='cuda:0', grad_fn=<NegBackward0>) [tensor(-33.7874, device='cuda:0', grad_fn=<NegBackward0>), tensor(-9.4773, device='cuda:0', grad_fn=<NegBackward0>), tensor(-86.4013, device='cuda:0', grad_fn=<AddBackward0>)]\n",
      "4.881199976515183\n",
      "tensor(-126.4809, device='cuda:0', grad_fn=<NegBackward0>) [tensor(-33.9317, device='cuda:0', grad_fn=<NegBackward0>), tensor(-8.2799, device='cuda:0', grad_fn=<NegBackward0>), tensor(-84.2693, device='cuda:0', grad_fn=<AddBackward0>)]\n",
      "tensor(-127.9476, device='cuda:0', grad_fn=<NegBackward0>) [tensor(-33.9317, device='cuda:0', grad_fn=<NegBackward0>), tensor(-8.9813, device='cuda:0', grad_fn=<NegBackward0>), tensor(-85.0345, device='cuda:0', grad_fn=<AddBackward0>)]\n",
      "4.6018966582453755\n",
      "tensor(-128.9319, device='cuda:0', grad_fn=<NegBackward0>) [tensor(-33.9900, device='cuda:0', grad_fn=<NegBackward0>), tensor(-9.5028, device='cuda:0', grad_fn=<NegBackward0>), tensor(-85.4391, device='cuda:0', grad_fn=<AddBackward0>)]\n",
      "tensor(-128.2502, device='cuda:0', grad_fn=<NegBackward0>) [tensor(-33.9900, device='cuda:0', grad_fn=<NegBackward0>), tensor(-9.5019, device='cuda:0', grad_fn=<NegBackward0>), tensor(-84.7583, device='cuda:0', grad_fn=<AddBackward0>)]\n",
      "4.615845846605755\n",
      "tensor(-126.5070, device='cuda:0', grad_fn=<NegBackward0>) [tensor(-34.0514, device='cuda:0', grad_fn=<NegBackward0>), tensor(-7.8143, device='cuda:0', grad_fn=<NegBackward0>), tensor(-84.6413, device='cuda:0', grad_fn=<AddBackward0>)]\n",
      "tensor(-130.4727, device='cuda:0', grad_fn=<NegBackward0>) [tensor(-34.0514, device='cuda:0', grad_fn=<NegBackward0>), tensor(-9.7606, device='cuda:0', grad_fn=<NegBackward0>), tensor(-86.6608, device='cuda:0', grad_fn=<AddBackward0>)]\n",
      "4.6450209599137615\n",
      "tensor(-130.7108, device='cuda:0', grad_fn=<NegBackward0>) [tensor(-34.1266, device='cuda:0', grad_fn=<NegBackward0>), tensor(-10.0386, device='cuda:0', grad_fn=<NegBackward0>), tensor(-86.5456, device='cuda:0', grad_fn=<AddBackward0>)]\n",
      "tensor(-129.5258, device='cuda:0', grad_fn=<NegBackward0>) [tensor(-34.1266, device='cuda:0', grad_fn=<NegBackward0>), tensor(-9.6191, device='cuda:0', grad_fn=<NegBackward0>), tensor(-85.7801, device='cuda:0', grad_fn=<AddBackward0>)]\n",
      "5.061426768012454\n",
      "tensor(-127.3134, device='cuda:0', grad_fn=<NegBackward0>) [tensor(-34.1955, device='cuda:0', grad_fn=<NegBackward0>), tensor(-8.1759, device='cuda:0', grad_fn=<NegBackward0>), tensor(-84.9421, device='cuda:0', grad_fn=<AddBackward0>)]\n",
      "tensor(-129.0244, device='cuda:0', grad_fn=<NegBackward0>) [tensor(-34.1955, device='cuda:0', grad_fn=<NegBackward0>), tensor(-9.0784, device='cuda:0', grad_fn=<NegBackward0>), tensor(-85.7505, device='cuda:0', grad_fn=<AddBackward0>)]\n",
      "5.529962982652477\n",
      "tensor(-127.2754, device='cuda:0', grad_fn=<NegBackward0>) [tensor(-34.3814, device='cuda:0', grad_fn=<NegBackward0>), tensor(-7.9684, device='cuda:0', grad_fn=<NegBackward0>), tensor(-84.9256, device='cuda:0', grad_fn=<AddBackward0>)]\n",
      "tensor(-129.8086, device='cuda:0', grad_fn=<NegBackward0>) [tensor(-34.3814, device='cuda:0', grad_fn=<NegBackward0>), tensor(-9.2713, device='cuda:0', grad_fn=<NegBackward0>), tensor(-86.1559, device='cuda:0', grad_fn=<AddBackward0>)]\n",
      "4.612671791856854\n",
      "tensor(-129.7310, device='cuda:0', grad_fn=<NegBackward0>) [tensor(-34.3491, device='cuda:0', grad_fn=<NegBackward0>), tensor(-9.4543, device='cuda:0', grad_fn=<NegBackward0>), tensor(-85.9276, device='cuda:0', grad_fn=<AddBackward0>)]\n",
      "tensor(-125.9632, device='cuda:0', grad_fn=<NegBackward0>) [tensor(-34.3491, device='cuda:0', grad_fn=<NegBackward0>), tensor(-7.9804, device='cuda:0', grad_fn=<NegBackward0>), tensor(-83.6337, device='cuda:0', grad_fn=<AddBackward0>)]\n",
      "5.321024038211407\n",
      "tensor(-128.2008, device='cuda:0', grad_fn=<NegBackward0>) [tensor(-34.3479, device='cuda:0', grad_fn=<NegBackward0>), tensor(-8.2017, device='cuda:0', grad_fn=<NegBackward0>), tensor(-85.6511, device='cuda:0', grad_fn=<AddBackward0>)]\n",
      "tensor(-129.4535, device='cuda:0', grad_fn=<NegBackward0>) [tensor(-34.3479, device='cuda:0', grad_fn=<NegBackward0>), tensor(-8.9170, device='cuda:0', grad_fn=<NegBackward0>), tensor(-86.1886, device='cuda:0', grad_fn=<AddBackward0>)]\n",
      "4.6551677757024645\n",
      "tensor(-130.0551, device='cuda:0', grad_fn=<NegBackward0>) [tensor(-34.4172, device='cuda:0', grad_fn=<NegBackward0>), tensor(-9.7268, device='cuda:0', grad_fn=<NegBackward0>), tensor(-85.9111, device='cuda:0', grad_fn=<AddBackward0>)]\n",
      "tensor(-128.3737, device='cuda:0', grad_fn=<NegBackward0>) [tensor(-34.4172, device='cuda:0', grad_fn=<NegBackward0>), tensor(-9.0784, device='cuda:0', grad_fn=<NegBackward0>), tensor(-84.8781, device='cuda:0', grad_fn=<AddBackward0>)]\n",
      "4.477026641799843\n",
      "tensor(-128.5459, device='cuda:0', grad_fn=<NegBackward0>) [tensor(-34.4200, device='cuda:0', grad_fn=<NegBackward0>), tensor(-9.3856, device='cuda:0', grad_fn=<NegBackward0>), tensor(-84.7404, device='cuda:0', grad_fn=<AddBackward0>)]\n",
      "tensor(-129.5544, device='cuda:0', grad_fn=<NegBackward0>) [tensor(-34.4200, device='cuda:0', grad_fn=<NegBackward0>), tensor(-9.3053, device='cuda:0', grad_fn=<NegBackward0>), tensor(-85.8291, device='cuda:0', grad_fn=<AddBackward0>)]\n",
      "4.887584619296679\n",
      "tensor(-129.2307, device='cuda:0', grad_fn=<NegBackward0>) [tensor(-34.2623, device='cuda:0', grad_fn=<NegBackward0>), tensor(-9.0990, device='cuda:0', grad_fn=<NegBackward0>), tensor(-85.8694, device='cuda:0', grad_fn=<AddBackward0>)]\n",
      "tensor(-129.6930, device='cuda:0', grad_fn=<NegBackward0>) [tensor(-34.2623, device='cuda:0', grad_fn=<NegBackward0>), tensor(-9.2205, device='cuda:0', grad_fn=<NegBackward0>), tensor(-86.2102, device='cuda:0', grad_fn=<AddBackward0>)]\n",
      "4.833045689887136\n",
      "tensor(-127.4806, device='cuda:0', grad_fn=<NegBackward0>) [tensor(-34.2391, device='cuda:0', grad_fn=<NegBackward0>), tensor(-8.6438, device='cuda:0', grad_fn=<NegBackward0>), tensor(-84.5977, device='cuda:0', grad_fn=<AddBackward0>)]\n",
      "tensor(-129.1235, device='cuda:0', grad_fn=<NegBackward0>) [tensor(-34.2391, device='cuda:0', grad_fn=<NegBackward0>), tensor(-9.0887, device='cuda:0', grad_fn=<NegBackward0>), tensor(-85.7957, device='cuda:0', grad_fn=<AddBackward0>)]\n",
      "4.81471965721431\n",
      "tensor(-126.5704, device='cuda:0', grad_fn=<NegBackward0>) [tensor(-34.1236, device='cuda:0', grad_fn=<NegBackward0>), tensor(-8.2568, device='cuda:0', grad_fn=<NegBackward0>), tensor(-84.1900, device='cuda:0', grad_fn=<AddBackward0>)]\n",
      "tensor(-127.5533, device='cuda:0', grad_fn=<NegBackward0>) [tensor(-34.1236, device='cuda:0', grad_fn=<NegBackward0>), tensor(-8.4068, device='cuda:0', grad_fn=<NegBackward0>), tensor(-85.0229, device='cuda:0', grad_fn=<AddBackward0>)]\n",
      "5.00582435700418\n",
      "tensor(-128.3881, device='cuda:0', grad_fn=<NegBackward0>) [tensor(-34.2163, device='cuda:0', grad_fn=<NegBackward0>), tensor(-8.7558, device='cuda:0', grad_fn=<NegBackward0>), tensor(-85.4160, device='cuda:0', grad_fn=<AddBackward0>)]\n",
      "tensor(-128.9109, device='cuda:0', grad_fn=<NegBackward0>) [tensor(-34.2163, device='cuda:0', grad_fn=<NegBackward0>), tensor(-8.9038, device='cuda:0', grad_fn=<NegBackward0>), tensor(-85.7908, device='cuda:0', grad_fn=<AddBackward0>)]\n"
     ]
    },
    {
     "name": "stdout",
     "output_type": "stream",
     "text": [
      "4.930219955091747\n",
      "tensor(-127.7493, device='cuda:0', grad_fn=<NegBackward0>) [tensor(-34.1239, device='cuda:0', grad_fn=<NegBackward0>), tensor(-9.0501, device='cuda:0', grad_fn=<NegBackward0>), tensor(-84.5753, device='cuda:0', grad_fn=<AddBackward0>)]\n",
      "tensor(-128.9861, device='cuda:0', grad_fn=<NegBackward0>) [tensor(-34.1239, device='cuda:0', grad_fn=<NegBackward0>), tensor(-9.4521, device='cuda:0', grad_fn=<NegBackward0>), tensor(-85.4101, device='cuda:0', grad_fn=<AddBackward0>)]\n",
      "5.223833881512843\n",
      "tensor(-126.4434, device='cuda:0', grad_fn=<NegBackward0>) [tensor(-34.0226, device='cuda:0', grad_fn=<NegBackward0>), tensor(-7.9289, device='cuda:0', grad_fn=<NegBackward0>), tensor(-84.4920, device='cuda:0', grad_fn=<AddBackward0>)]\n",
      "tensor(-127.8083, device='cuda:0', grad_fn=<NegBackward0>) [tensor(-34.0226, device='cuda:0', grad_fn=<NegBackward0>), tensor(-8.4619, device='cuda:0', grad_fn=<NegBackward0>), tensor(-85.3238, device='cuda:0', grad_fn=<AddBackward0>)]\n",
      "4.800296040255253\n",
      "tensor(-127.7233, device='cuda:0', grad_fn=<NegBackward0>) [tensor(-33.9923, device='cuda:0', grad_fn=<NegBackward0>), tensor(-8.6663, device='cuda:0', grad_fn=<NegBackward0>), tensor(-85.0647, device='cuda:0', grad_fn=<AddBackward0>)]\n",
      "tensor(-127.6353, device='cuda:0', grad_fn=<NegBackward0>) [tensor(-33.9923, device='cuda:0', grad_fn=<NegBackward0>), tensor(-8.7392, device='cuda:0', grad_fn=<NegBackward0>), tensor(-84.9038, device='cuda:0', grad_fn=<AddBackward0>)]\n",
      "4.169202617849654\n",
      "tensor(-127.3524, device='cuda:0', grad_fn=<NegBackward0>) [tensor(-34.2460, device='cuda:0', grad_fn=<NegBackward0>), tensor(-9.2169, device='cuda:0', grad_fn=<NegBackward0>), tensor(-83.8895, device='cuda:0', grad_fn=<AddBackward0>)]\n",
      "tensor(-127.6756, device='cuda:0', grad_fn=<NegBackward0>) [tensor(-34.2460, device='cuda:0', grad_fn=<NegBackward0>), tensor(-9.2545, device='cuda:0', grad_fn=<NegBackward0>), tensor(-84.1750, device='cuda:0', grad_fn=<AddBackward0>)]\n",
      "4.734647818085815\n",
      "tensor(-131.1519, device='cuda:0', grad_fn=<NegBackward0>) [tensor(-34.2642, device='cuda:0', grad_fn=<NegBackward0>), tensor(-10.2347, device='cuda:0', grad_fn=<NegBackward0>), tensor(-86.6530, device='cuda:0', grad_fn=<AddBackward0>)]\n",
      "tensor(-126.9425, device='cuda:0', grad_fn=<NegBackward0>) [tensor(-34.2642, device='cuda:0', grad_fn=<NegBackward0>), tensor(-8.1464, device='cuda:0', grad_fn=<NegBackward0>), tensor(-84.5319, device='cuda:0', grad_fn=<AddBackward0>)]\n",
      "4.491661595001637\n",
      "tensor(-128.9838, device='cuda:0', grad_fn=<NegBackward0>) [tensor(-34.4313, device='cuda:0', grad_fn=<NegBackward0>), tensor(-9.0055, device='cuda:0', grad_fn=<NegBackward0>), tensor(-85.5470, device='cuda:0', grad_fn=<AddBackward0>)]\n",
      "tensor(-126.9845, device='cuda:0', grad_fn=<NegBackward0>) [tensor(-34.4313, device='cuda:0', grad_fn=<NegBackward0>), tensor(-8.0490, device='cuda:0', grad_fn=<NegBackward0>), tensor(-84.5042, device='cuda:0', grad_fn=<AddBackward0>)]\n",
      "5.117872639845009\n",
      "tensor(-129.4018, device='cuda:0', grad_fn=<NegBackward0>) [tensor(-34.5479, device='cuda:0', grad_fn=<NegBackward0>), tensor(-9.1669, device='cuda:0', grad_fn=<NegBackward0>), tensor(-85.6870, device='cuda:0', grad_fn=<AddBackward0>)]\n",
      "tensor(-128.2985, device='cuda:0', grad_fn=<NegBackward0>) [tensor(-34.5479, device='cuda:0', grad_fn=<NegBackward0>), tensor(-8.4298, device='cuda:0', grad_fn=<NegBackward0>), tensor(-85.3207, device='cuda:0', grad_fn=<AddBackward0>)]\n",
      "4.762409489640385\n",
      "tensor(-129.6564, device='cuda:0', grad_fn=<NegBackward0>) [tensor(-34.6739, device='cuda:0', grad_fn=<NegBackward0>), tensor(-8.8812, device='cuda:0', grad_fn=<NegBackward0>), tensor(-86.1013, device='cuda:0', grad_fn=<AddBackward0>)]\n",
      "tensor(-129.0056, device='cuda:0', grad_fn=<NegBackward0>) [tensor(-34.6739, device='cuda:0', grad_fn=<NegBackward0>), tensor(-8.9681, device='cuda:0', grad_fn=<NegBackward0>), tensor(-85.3635, device='cuda:0', grad_fn=<AddBackward0>)]\n",
      "4.8802375199468235\n",
      "tensor(-129.0503, device='cuda:0', grad_fn=<NegBackward0>) [tensor(-34.7299, device='cuda:0', grad_fn=<NegBackward0>), tensor(-9.0834, device='cuda:0', grad_fn=<NegBackward0>), tensor(-85.2371, device='cuda:0', grad_fn=<AddBackward0>)]\n",
      "tensor(-127.1978, device='cuda:0', grad_fn=<NegBackward0>) [tensor(-34.7299, device='cuda:0', grad_fn=<NegBackward0>), tensor(-7.9410, device='cuda:0', grad_fn=<NegBackward0>), tensor(-84.5269, device='cuda:0', grad_fn=<AddBackward0>)]\n",
      "4.961120098948193\n",
      "tensor(-130.5946, device='cuda:0', grad_fn=<NegBackward0>) [tensor(-34.8717, device='cuda:0', grad_fn=<NegBackward0>), tensor(-9.2142, device='cuda:0', grad_fn=<NegBackward0>), tensor(-86.5087, device='cuda:0', grad_fn=<AddBackward0>)]\n",
      "tensor(-131.8715, device='cuda:0', grad_fn=<NegBackward0>) [tensor(-34.8717, device='cuda:0', grad_fn=<NegBackward0>), tensor(-9.5318, device='cuda:0', grad_fn=<NegBackward0>), tensor(-87.4680, device='cuda:0', grad_fn=<AddBackward0>)]\n",
      "4.612585588579157\n",
      "tensor(-129.5760, device='cuda:0', grad_fn=<NegBackward0>) [tensor(-34.9052, device='cuda:0', grad_fn=<NegBackward0>), tensor(-8.6593, device='cuda:0', grad_fn=<NegBackward0>), tensor(-86.0116, device='cuda:0', grad_fn=<AddBackward0>)]\n",
      "tensor(-130.8808, device='cuda:0', grad_fn=<NegBackward0>) [tensor(-34.9052, device='cuda:0', grad_fn=<NegBackward0>), tensor(-9.6566, device='cuda:0', grad_fn=<NegBackward0>), tensor(-86.3190, device='cuda:0', grad_fn=<AddBackward0>)]\n",
      "5.057483059585219\n",
      "tensor(-131.5069, device='cuda:0', grad_fn=<NegBackward0>) [tensor(-34.9732, device='cuda:0', grad_fn=<NegBackward0>), tensor(-9.2865, device='cuda:0', grad_fn=<NegBackward0>), tensor(-87.2472, device='cuda:0', grad_fn=<AddBackward0>)]\n",
      "tensor(-129.5633, device='cuda:0', grad_fn=<NegBackward0>) [tensor(-34.9732, device='cuda:0', grad_fn=<NegBackward0>), tensor(-8.7409, device='cuda:0', grad_fn=<NegBackward0>), tensor(-85.8492, device='cuda:0', grad_fn=<AddBackward0>)]\n",
      "4.531137922356695\n",
      "tensor(-128.3698, device='cuda:0', grad_fn=<NegBackward0>) [tensor(-34.9714, device='cuda:0', grad_fn=<NegBackward0>), tensor(-8.2993, device='cuda:0', grad_fn=<NegBackward0>), tensor(-85.0991, device='cuda:0', grad_fn=<AddBackward0>)]\n",
      "tensor(-132.9554, device='cuda:0', grad_fn=<NegBackward0>) [tensor(-34.9714, device='cuda:0', grad_fn=<NegBackward0>), tensor(-10.5674, device='cuda:0', grad_fn=<NegBackward0>), tensor(-87.4165, device='cuda:0', grad_fn=<AddBackward0>)]\n",
      "5.053247678405038\n",
      "tensor(-130.9945, device='cuda:0', grad_fn=<NegBackward0>) [tensor(-34.9483, device='cuda:0', grad_fn=<NegBackward0>), tensor(-8.9686, device='cuda:0', grad_fn=<NegBackward0>), tensor(-87.0776, device='cuda:0', grad_fn=<AddBackward0>)]\n",
      "tensor(-133.1900, device='cuda:0', grad_fn=<NegBackward0>) [tensor(-34.9483, device='cuda:0', grad_fn=<NegBackward0>), tensor(-10.3793, device='cuda:0', grad_fn=<NegBackward0>), tensor(-87.8623, device='cuda:0', grad_fn=<AddBackward0>)]\n",
      "4.457848727359946\n",
      "tensor(-130.2697, device='cuda:0', grad_fn=<NegBackward0>) [tensor(-34.9155, device='cuda:0', grad_fn=<NegBackward0>), tensor(-9.6691, device='cuda:0', grad_fn=<NegBackward0>), tensor(-85.6850, device='cuda:0', grad_fn=<AddBackward0>)]\n",
      "tensor(-132.1836, device='cuda:0', grad_fn=<NegBackward0>) [tensor(-34.9155, device='cuda:0', grad_fn=<NegBackward0>), tensor(-10.4828, device='cuda:0', grad_fn=<NegBackward0>), tensor(-86.7853, device='cuda:0', grad_fn=<AddBackward0>)]\n",
      "4.504105860563618\n",
      "tensor(-129.2031, device='cuda:0', grad_fn=<NegBackward0>) [tensor(-34.7934, device='cuda:0', grad_fn=<NegBackward0>), tensor(-9.2805, device='cuda:0', grad_fn=<NegBackward0>), tensor(-85.1291, device='cuda:0', grad_fn=<AddBackward0>)]\n",
      "tensor(-128.5750, device='cuda:0', grad_fn=<NegBackward0>) [tensor(-34.7934, device='cuda:0', grad_fn=<NegBackward0>), tensor(-9.2835, device='cuda:0', grad_fn=<NegBackward0>), tensor(-84.4981, device='cuda:0', grad_fn=<AddBackward0>)]\n",
      "4.7600990601788\n",
      "tensor(-128.5797, device='cuda:0', grad_fn=<NegBackward0>) [tensor(-34.7664, device='cuda:0', grad_fn=<NegBackward0>), tensor(-8.4066, device='cuda:0', grad_fn=<NegBackward0>), tensor(-85.4067, device='cuda:0', grad_fn=<AddBackward0>)]\n",
      "tensor(-128.9760, device='cuda:0', grad_fn=<NegBackward0>) [tensor(-34.7664, device='cuda:0', grad_fn=<NegBackward0>), tensor(-8.8356, device='cuda:0', grad_fn=<NegBackward0>), tensor(-85.3740, device='cuda:0', grad_fn=<AddBackward0>)]\n"
     ]
    },
    {
     "name": "stdout",
     "output_type": "stream",
     "text": [
      "5.0052107587450605\n",
      "tensor(-129.9689, device='cuda:0', grad_fn=<NegBackward0>) [tensor(-34.9057, device='cuda:0', grad_fn=<NegBackward0>), tensor(-9.1573, device='cuda:0', grad_fn=<NegBackward0>), tensor(-85.9059, device='cuda:0', grad_fn=<AddBackward0>)]\n",
      "tensor(-128.8606, device='cuda:0', grad_fn=<NegBackward0>) [tensor(-34.9057, device='cuda:0', grad_fn=<NegBackward0>), tensor(-8.4894, device='cuda:0', grad_fn=<NegBackward0>), tensor(-85.4655, device='cuda:0', grad_fn=<AddBackward0>)]\n",
      "4.601211339700011\n",
      "tensor(-129.2895, device='cuda:0', grad_fn=<NegBackward0>) [tensor(-34.9227, device='cuda:0', grad_fn=<NegBackward0>), tensor(-8.9772, device='cuda:0', grad_fn=<NegBackward0>), tensor(-85.3896, device='cuda:0', grad_fn=<AddBackward0>)]\n",
      "tensor(-129.7037, device='cuda:0', grad_fn=<NegBackward0>) [tensor(-34.9227, device='cuda:0', grad_fn=<NegBackward0>), tensor(-8.8610, device='cuda:0', grad_fn=<NegBackward0>), tensor(-85.9200, device='cuda:0', grad_fn=<AddBackward0>)]\n",
      "4.6909116619772435\n",
      "tensor(-129.6764, device='cuda:0', grad_fn=<NegBackward0>) [tensor(-34.9423, device='cuda:0', grad_fn=<NegBackward0>), tensor(-8.7101, device='cuda:0', grad_fn=<NegBackward0>), tensor(-86.0240, device='cuda:0', grad_fn=<AddBackward0>)]\n",
      "tensor(-129.5173, device='cuda:0', grad_fn=<NegBackward0>) [tensor(-34.9423, device='cuda:0', grad_fn=<NegBackward0>), tensor(-8.8281, device='cuda:0', grad_fn=<NegBackward0>), tensor(-85.7469, device='cuda:0', grad_fn=<AddBackward0>)]\n",
      "4.666412715468586\n",
      "tensor(-127.7750, device='cuda:0', grad_fn=<NegBackward0>) [tensor(-34.8532, device='cuda:0', grad_fn=<NegBackward0>), tensor(-8.8357, device='cuda:0', grad_fn=<NegBackward0>), tensor(-84.0861, device='cuda:0', grad_fn=<AddBackward0>)]\n",
      "tensor(-130.6910, device='cuda:0', grad_fn=<NegBackward0>) [tensor(-34.8532, device='cuda:0', grad_fn=<NegBackward0>), tensor(-9.4059, device='cuda:0', grad_fn=<NegBackward0>), tensor(-86.4319, device='cuda:0', grad_fn=<AddBackward0>)]\n",
      "4.738729549177585\n",
      "tensor(-129.1375, device='cuda:0', grad_fn=<NegBackward0>) [tensor(-34.8476, device='cuda:0', grad_fn=<NegBackward0>), tensor(-8.4866, device='cuda:0', grad_fn=<NegBackward0>), tensor(-85.8032, device='cuda:0', grad_fn=<AddBackward0>)]\n",
      "tensor(-128.6978, device='cuda:0', grad_fn=<NegBackward0>) [tensor(-34.8476, device='cuda:0', grad_fn=<NegBackward0>), tensor(-8.7068, device='cuda:0', grad_fn=<NegBackward0>), tensor(-85.1434, device='cuda:0', grad_fn=<AddBackward0>)]\n",
      "4.887929063154956\n",
      "tensor(-128.9151, device='cuda:0', grad_fn=<NegBackward0>) [tensor(-35.0434, device='cuda:0', grad_fn=<NegBackward0>), tensor(-8.8204, device='cuda:0', grad_fn=<NegBackward0>), tensor(-85.0513, device='cuda:0', grad_fn=<AddBackward0>)]\n",
      "tensor(-130.1301, device='cuda:0', grad_fn=<NegBackward0>) [tensor(-35.0434, device='cuda:0', grad_fn=<NegBackward0>), tensor(-8.7575, device='cuda:0', grad_fn=<NegBackward0>), tensor(-86.3291, device='cuda:0', grad_fn=<AddBackward0>)]\n",
      "4.7513328039906115\n",
      "tensor(-130.2166, device='cuda:0', grad_fn=<NegBackward0>) [tensor(-35.2052, device='cuda:0', grad_fn=<NegBackward0>), tensor(-9.0106, device='cuda:0', grad_fn=<NegBackward0>), tensor(-86.0008, device='cuda:0', grad_fn=<AddBackward0>)]\n",
      "tensor(-129.7274, device='cuda:0', grad_fn=<NegBackward0>) [tensor(-35.2052, device='cuda:0', grad_fn=<NegBackward0>), tensor(-8.5337, device='cuda:0', grad_fn=<NegBackward0>), tensor(-85.9884, device='cuda:0', grad_fn=<AddBackward0>)]\n",
      "4.990667334606892\n",
      "tensor(-131.7497, device='cuda:0', grad_fn=<NegBackward0>) [tensor(-35.1565, device='cuda:0', grad_fn=<NegBackward0>), tensor(-9.7269, device='cuda:0', grad_fn=<NegBackward0>), tensor(-86.8663, device='cuda:0', grad_fn=<AddBackward0>)]\n",
      "tensor(-130.6546, device='cuda:0', grad_fn=<NegBackward0>) [tensor(-35.1565, device='cuda:0', grad_fn=<NegBackward0>), tensor(-8.6699, device='cuda:0', grad_fn=<NegBackward0>), tensor(-86.8283, device='cuda:0', grad_fn=<AddBackward0>)]\n",
      "4.583899325995183\n",
      "tensor(-131.8195, device='cuda:0', grad_fn=<NegBackward0>) [tensor(-35.2646, device='cuda:0', grad_fn=<NegBackward0>), tensor(-9.7591, device='cuda:0', grad_fn=<NegBackward0>), tensor(-86.7959, device='cuda:0', grad_fn=<AddBackward0>)]\n",
      "tensor(-131.6789, device='cuda:0', grad_fn=<NegBackward0>) [tensor(-35.2646, device='cuda:0', grad_fn=<NegBackward0>), tensor(-9.5644, device='cuda:0', grad_fn=<NegBackward0>), tensor(-86.8500, device='cuda:0', grad_fn=<AddBackward0>)]\n",
      "5.019629947879664\n",
      "tensor(-129.5554, device='cuda:0', grad_fn=<NegBackward0>) [tensor(-35.0737, device='cuda:0', grad_fn=<NegBackward0>), tensor(-8.3682, device='cuda:0', grad_fn=<NegBackward0>), tensor(-86.1136, device='cuda:0', grad_fn=<AddBackward0>)]\n",
      "tensor(-129.3836, device='cuda:0', grad_fn=<NegBackward0>) [tensor(-35.0737, device='cuda:0', grad_fn=<NegBackward0>), tensor(-8.7859, device='cuda:0', grad_fn=<NegBackward0>), tensor(-85.5240, device='cuda:0', grad_fn=<AddBackward0>)]\n",
      "4.759888827733871\n",
      "tensor(-131.3292, device='cuda:0', grad_fn=<NegBackward0>) [tensor(-35.1283, device='cuda:0', grad_fn=<NegBackward0>), tensor(-9.1939, device='cuda:0', grad_fn=<NegBackward0>), tensor(-87.0070, device='cuda:0', grad_fn=<AddBackward0>)]\n",
      "tensor(-130.1262, device='cuda:0', grad_fn=<NegBackward0>) [tensor(-35.1283, device='cuda:0', grad_fn=<NegBackward0>), tensor(-8.7503, device='cuda:0', grad_fn=<NegBackward0>), tensor(-86.2477, device='cuda:0', grad_fn=<AddBackward0>)]\n",
      "4.300352289261596\n",
      "tensor(-129.5405, device='cuda:0', grad_fn=<NegBackward0>) [tensor(-35.0593, device='cuda:0', grad_fn=<NegBackward0>), tensor(-9.2544, device='cuda:0', grad_fn=<NegBackward0>), tensor(-85.2268, device='cuda:0', grad_fn=<AddBackward0>)]\n",
      "tensor(-129.2271, device='cuda:0', grad_fn=<NegBackward0>) [tensor(-35.0593, device='cuda:0', grad_fn=<NegBackward0>), tensor(-8.9937, device='cuda:0', grad_fn=<NegBackward0>), tensor(-85.1741, device='cuda:0', grad_fn=<AddBackward0>)]\n",
      "4.764161101136139\n",
      "tensor(-132.2017, device='cuda:0', grad_fn=<NegBackward0>) [tensor(-35.2251, device='cuda:0', grad_fn=<NegBackward0>), tensor(-10.0257, device='cuda:0', grad_fn=<NegBackward0>), tensor(-86.9509, device='cuda:0', grad_fn=<AddBackward0>)]\n",
      "tensor(-129.7406, device='cuda:0', grad_fn=<NegBackward0>) [tensor(-35.2251, device='cuda:0', grad_fn=<NegBackward0>), tensor(-8.5377, device='cuda:0', grad_fn=<NegBackward0>), tensor(-85.9778, device='cuda:0', grad_fn=<AddBackward0>)]\n",
      "5.291548094217259\n",
      "tensor(-128.7931, device='cuda:0', grad_fn=<NegBackward0>) [tensor(-35.3387, device='cuda:0', grad_fn=<NegBackward0>), tensor(-8.0090, device='cuda:0', grad_fn=<NegBackward0>), tensor(-85.4455, device='cuda:0', grad_fn=<AddBackward0>)]\n",
      "tensor(-130.4084, device='cuda:0', grad_fn=<NegBackward0>) [tensor(-35.3387, device='cuda:0', grad_fn=<NegBackward0>), tensor(-8.2464, device='cuda:0', grad_fn=<NegBackward0>), tensor(-86.8233, device='cuda:0', grad_fn=<AddBackward0>)]\n",
      "4.706847327339496\n",
      "tensor(-131.3572, device='cuda:0', grad_fn=<NegBackward0>) [tensor(-35.4415, device='cuda:0', grad_fn=<NegBackward0>), tensor(-9.1116, device='cuda:0', grad_fn=<NegBackward0>), tensor(-86.8040, device='cuda:0', grad_fn=<AddBackward0>)]\n",
      "tensor(-129.0880, device='cuda:0', grad_fn=<NegBackward0>) [tensor(-35.4415, device='cuda:0', grad_fn=<NegBackward0>), tensor(-8.0480, device='cuda:0', grad_fn=<NegBackward0>), tensor(-85.5985, device='cuda:0', grad_fn=<AddBackward0>)]\n",
      "5.355388832656066\n",
      "tensor(-128.5910, device='cuda:0', grad_fn=<NegBackward0>) [tensor(-35.3583, device='cuda:0', grad_fn=<NegBackward0>), tensor(-8.0097, device='cuda:0', grad_fn=<NegBackward0>), tensor(-85.2229, device='cuda:0', grad_fn=<AddBackward0>)]\n",
      "tensor(-130.0598, device='cuda:0', grad_fn=<NegBackward0>) [tensor(-35.3583, device='cuda:0', grad_fn=<NegBackward0>), tensor(-8.5376, device='cuda:0', grad_fn=<NegBackward0>), tensor(-86.1639, device='cuda:0', grad_fn=<AddBackward0>)]\n",
      "4.80286158431663\n",
      "tensor(-132.9769, device='cuda:0', grad_fn=<NegBackward0>) [tensor(-35.4865, device='cuda:0', grad_fn=<NegBackward0>), tensor(-9.7000, device='cuda:0', grad_fn=<NegBackward0>), tensor(-87.7905, device='cuda:0', grad_fn=<AddBackward0>)]\n",
      "tensor(-129.1502, device='cuda:0', grad_fn=<NegBackward0>) [tensor(-35.4865, device='cuda:0', grad_fn=<NegBackward0>), tensor(-8.4752, device='cuda:0', grad_fn=<NegBackward0>), tensor(-85.1885, device='cuda:0', grad_fn=<AddBackward0>)]\n"
     ]
    },
    {
     "name": "stdout",
     "output_type": "stream",
     "text": [
      "5.888324854938654\n",
      "tensor(-132.0899, device='cuda:0', grad_fn=<NegBackward0>) [tensor(-35.4903, device='cuda:0', grad_fn=<NegBackward0>), tensor(-8.9242, device='cuda:0', grad_fn=<NegBackward0>), tensor(-87.6754, device='cuda:0', grad_fn=<AddBackward0>)]\n",
      "tensor(-130.5222, device='cuda:0', grad_fn=<NegBackward0>) [tensor(-35.4903, device='cuda:0', grad_fn=<NegBackward0>), tensor(-8.1837, device='cuda:0', grad_fn=<NegBackward0>), tensor(-86.8482, device='cuda:0', grad_fn=<AddBackward0>)]\n",
      "4.706800331551199\n",
      "tensor(-130.4516, device='cuda:0', grad_fn=<NegBackward0>) [tensor(-35.4239, device='cuda:0', grad_fn=<NegBackward0>), tensor(-8.9014, device='cuda:0', grad_fn=<NegBackward0>), tensor(-86.1263, device='cuda:0', grad_fn=<AddBackward0>)]\n",
      "tensor(-130.2144, device='cuda:0', grad_fn=<NegBackward0>) [tensor(-35.4239, device='cuda:0', grad_fn=<NegBackward0>), tensor(-8.9202, device='cuda:0', grad_fn=<NegBackward0>), tensor(-85.8703, device='cuda:0', grad_fn=<AddBackward0>)]\n",
      "4.746758552819551\n",
      "tensor(-131.1621, device='cuda:0', grad_fn=<NegBackward0>) [tensor(-35.5166, device='cuda:0', grad_fn=<NegBackward0>), tensor(-9.0489, device='cuda:0', grad_fn=<NegBackward0>), tensor(-86.5966, device='cuda:0', grad_fn=<AddBackward0>)]\n",
      "tensor(-132.2715, device='cuda:0', grad_fn=<NegBackward0>) [tensor(-35.5166, device='cuda:0', grad_fn=<NegBackward0>), tensor(-9.9274, device='cuda:0', grad_fn=<NegBackward0>), tensor(-86.8274, device='cuda:0', grad_fn=<AddBackward0>)]\n",
      "4.886237326919459\n",
      "tensor(-131.5375, device='cuda:0', grad_fn=<NegBackward0>) [tensor(-35.5061, device='cuda:0', grad_fn=<NegBackward0>), tensor(-9.1235, device='cuda:0', grad_fn=<NegBackward0>), tensor(-86.9079, device='cuda:0', grad_fn=<AddBackward0>)]\n",
      "tensor(-131.0197, device='cuda:0', grad_fn=<NegBackward0>) [tensor(-35.5061, device='cuda:0', grad_fn=<NegBackward0>), tensor(-9.0861, device='cuda:0', grad_fn=<NegBackward0>), tensor(-86.4275, device='cuda:0', grad_fn=<AddBackward0>)]\n",
      "5.547492669601193\n",
      "tensor(-130.5493, device='cuda:0', grad_fn=<NegBackward0>) [tensor(-35.4802, device='cuda:0', grad_fn=<NegBackward0>), tensor(-8.3395, device='cuda:0', grad_fn=<NegBackward0>), tensor(-86.7296, device='cuda:0', grad_fn=<AddBackward0>)]\n",
      "tensor(-131.3337, device='cuda:0', grad_fn=<NegBackward0>) [tensor(-35.4802, device='cuda:0', grad_fn=<NegBackward0>), tensor(-8.6942, device='cuda:0', grad_fn=<NegBackward0>), tensor(-87.1593, device='cuda:0', grad_fn=<AddBackward0>)]\n",
      "5.074638690485745\n",
      "tensor(-132.2322, device='cuda:0', grad_fn=<NegBackward0>) [tensor(-35.4606, device='cuda:0', grad_fn=<NegBackward0>), tensor(-9.2786, device='cuda:0', grad_fn=<NegBackward0>), tensor(-87.4931, device='cuda:0', grad_fn=<AddBackward0>)]\n",
      "tensor(-130.7900, device='cuda:0', grad_fn=<NegBackward0>) [tensor(-35.4606, device='cuda:0', grad_fn=<NegBackward0>), tensor(-8.8232, device='cuda:0', grad_fn=<NegBackward0>), tensor(-86.5062, device='cuda:0', grad_fn=<AddBackward0>)]\n",
      "4.121927516105159\n",
      "tensor(-129.4588, device='cuda:0', grad_fn=<NegBackward0>) [tensor(-35.4192, device='cuda:0', grad_fn=<NegBackward0>), tensor(-9.4950, device='cuda:0', grad_fn=<NegBackward0>), tensor(-84.5446, device='cuda:0', grad_fn=<AddBackward0>)]\n",
      "tensor(-129.8372, device='cuda:0', grad_fn=<NegBackward0>) [tensor(-35.4192, device='cuda:0', grad_fn=<NegBackward0>), tensor(-9.4283, device='cuda:0', grad_fn=<NegBackward0>), tensor(-84.9897, device='cuda:0', grad_fn=<AddBackward0>)]\n",
      "5.126036196476428\n",
      "tensor(-129.3570, device='cuda:0', grad_fn=<NegBackward0>) [tensor(-35.2206, device='cuda:0', grad_fn=<NegBackward0>), tensor(-7.7654, device='cuda:0', grad_fn=<NegBackward0>), tensor(-86.3710, device='cuda:0', grad_fn=<AddBackward0>)]\n",
      "tensor(-131.3191, device='cuda:0', grad_fn=<NegBackward0>) [tensor(-35.2206, device='cuda:0', grad_fn=<NegBackward0>), tensor(-9.3088, device='cuda:0', grad_fn=<NegBackward0>), tensor(-86.7897, device='cuda:0', grad_fn=<AddBackward0>)]\n",
      "4.501444168194425\n",
      "tensor(-129.8603, device='cuda:0', grad_fn=<NegBackward0>) [tensor(-35.1631, device='cuda:0', grad_fn=<NegBackward0>), tensor(-9.3613, device='cuda:0', grad_fn=<NegBackward0>), tensor(-85.3359, device='cuda:0', grad_fn=<AddBackward0>)]\n",
      "tensor(-129.9237, device='cuda:0', grad_fn=<NegBackward0>) [tensor(-35.1631, device='cuda:0', grad_fn=<NegBackward0>), tensor(-8.9922, device='cuda:0', grad_fn=<NegBackward0>), tensor(-85.7684, device='cuda:0', grad_fn=<AddBackward0>)]\n",
      "5.569177710395345\n",
      "tensor(-131.8763, device='cuda:0', grad_fn=<NegBackward0>) [tensor(-35.2202, device='cuda:0', grad_fn=<NegBackward0>), tensor(-9.0198, device='cuda:0', grad_fn=<NegBackward0>), tensor(-87.6362, device='cuda:0', grad_fn=<AddBackward0>)]\n",
      "tensor(-131.3797, device='cuda:0', grad_fn=<NegBackward0>) [tensor(-35.2202, device='cuda:0', grad_fn=<NegBackward0>), tensor(-9.0057, device='cuda:0', grad_fn=<NegBackward0>), tensor(-87.1538, device='cuda:0', grad_fn=<AddBackward0>)]\n",
      "5.0257832272183585\n",
      "tensor(-130.2093, device='cuda:0', grad_fn=<NegBackward0>) [tensor(-35.4860, device='cuda:0', grad_fn=<NegBackward0>), tensor(-8.3544, device='cuda:0', grad_fn=<NegBackward0>), tensor(-86.3688, device='cuda:0', grad_fn=<AddBackward0>)]\n",
      "tensor(-131.1543, device='cuda:0', grad_fn=<NegBackward0>) [tensor(-35.4860, device='cuda:0', grad_fn=<NegBackward0>), tensor(-9.1597, device='cuda:0', grad_fn=<NegBackward0>), tensor(-86.5087, device='cuda:0', grad_fn=<AddBackward0>)]\n",
      "4.807920085003142\n",
      "tensor(-130.8838, device='cuda:0', grad_fn=<NegBackward0>) [tensor(-35.5307, device='cuda:0', grad_fn=<NegBackward0>), tensor(-8.4437, device='cuda:0', grad_fn=<NegBackward0>), tensor(-86.9094, device='cuda:0', grad_fn=<AddBackward0>)]\n",
      "tensor(-130.5917, device='cuda:0', grad_fn=<NegBackward0>) [tensor(-35.5307, device='cuda:0', grad_fn=<NegBackward0>), tensor(-8.7006, device='cuda:0', grad_fn=<NegBackward0>), tensor(-86.3604, device='cuda:0', grad_fn=<AddBackward0>)]\n",
      "5.056978467597172\n",
      "tensor(-132.0620, device='cuda:0', grad_fn=<NegBackward0>) [tensor(-35.6201, device='cuda:0', grad_fn=<NegBackward0>), tensor(-9.3529, device='cuda:0', grad_fn=<NegBackward0>), tensor(-87.0890, device='cuda:0', grad_fn=<AddBackward0>)]\n",
      "tensor(-131.4549, device='cuda:0', grad_fn=<NegBackward0>) [tensor(-35.6201, device='cuda:0', grad_fn=<NegBackward0>), tensor(-9.1378, device='cuda:0', grad_fn=<NegBackward0>), tensor(-86.6969, device='cuda:0', grad_fn=<AddBackward0>)]\n",
      "4.794601245718121\n",
      "tensor(-133.2653, device='cuda:0', grad_fn=<NegBackward0>) [tensor(-35.7392, device='cuda:0', grad_fn=<NegBackward0>), tensor(-9.8862, device='cuda:0', grad_fn=<NegBackward0>), tensor(-87.6400, device='cuda:0', grad_fn=<AddBackward0>)]\n",
      "tensor(-131.9335, device='cuda:0', grad_fn=<NegBackward0>) [tensor(-35.7392, device='cuda:0', grad_fn=<NegBackward0>), tensor(-9.3053, device='cuda:0', grad_fn=<NegBackward0>), tensor(-86.8890, device='cuda:0', grad_fn=<AddBackward0>)]\n",
      "4.805624240973777\n",
      "tensor(-131.7238, device='cuda:0', grad_fn=<NegBackward0>) [tensor(-35.7591, device='cuda:0', grad_fn=<NegBackward0>), tensor(-9.4220, device='cuda:0', grad_fn=<NegBackward0>), tensor(-86.5427, device='cuda:0', grad_fn=<AddBackward0>)]\n",
      "tensor(-131.9540, device='cuda:0', grad_fn=<NegBackward0>) [tensor(-35.7591, device='cuda:0', grad_fn=<NegBackward0>), tensor(-9.1290, device='cuda:0', grad_fn=<NegBackward0>), tensor(-87.0659, device='cuda:0', grad_fn=<AddBackward0>)]\n",
      "4.852256269716231\n",
      "tensor(-132.6441, device='cuda:0', grad_fn=<NegBackward0>) [tensor(-35.7633, device='cuda:0', grad_fn=<NegBackward0>), tensor(-9.3390, device='cuda:0', grad_fn=<NegBackward0>), tensor(-87.5417, device='cuda:0', grad_fn=<AddBackward0>)]\n",
      "tensor(-131.8559, device='cuda:0', grad_fn=<NegBackward0>) [tensor(-35.7633, device='cuda:0', grad_fn=<NegBackward0>), tensor(-9.2377, device='cuda:0', grad_fn=<NegBackward0>), tensor(-86.8549, device='cuda:0', grad_fn=<AddBackward0>)]\n",
      "4.8751053369061195\n",
      "tensor(-132.4292, device='cuda:0', grad_fn=<NegBackward0>) [tensor(-35.7373, device='cuda:0', grad_fn=<NegBackward0>), tensor(-9.7439, device='cuda:0', grad_fn=<NegBackward0>), tensor(-86.9480, device='cuda:0', grad_fn=<AddBackward0>)]\n",
      "tensor(-131.8120, device='cuda:0', grad_fn=<NegBackward0>) [tensor(-35.7373, device='cuda:0', grad_fn=<NegBackward0>), tensor(-8.9919, device='cuda:0', grad_fn=<NegBackward0>), tensor(-87.0829, device='cuda:0', grad_fn=<AddBackward0>)]\n"
     ]
    },
    {
     "name": "stdout",
     "output_type": "stream",
     "text": [
      "4.672056031586517\n",
      "tensor(-130.4358, device='cuda:0', grad_fn=<NegBackward0>) [tensor(-35.8025, device='cuda:0', grad_fn=<NegBackward0>), tensor(-8.7575, device='cuda:0', grad_fn=<NegBackward0>), tensor(-85.8758, device='cuda:0', grad_fn=<AddBackward0>)]\n",
      "tensor(-129.6872, device='cuda:0', grad_fn=<NegBackward0>) [tensor(-35.8025, device='cuda:0', grad_fn=<NegBackward0>), tensor(-8.2285, device='cuda:0', grad_fn=<NegBackward0>), tensor(-85.6562, device='cuda:0', grad_fn=<AddBackward0>)]\n",
      "4.256220271907043\n",
      "tensor(-130.2868, device='cuda:0', grad_fn=<NegBackward0>) [tensor(-35.8701, device='cuda:0', grad_fn=<NegBackward0>), tensor(-8.7906, device='cuda:0', grad_fn=<NegBackward0>), tensor(-85.6262, device='cuda:0', grad_fn=<AddBackward0>)]\n",
      "tensor(-132.0136, device='cuda:0', grad_fn=<NegBackward0>) [tensor(-35.8701, device='cuda:0', grad_fn=<NegBackward0>), tensor(-9.5992, device='cuda:0', grad_fn=<NegBackward0>), tensor(-86.5443, device='cuda:0', grad_fn=<AddBackward0>)]\n",
      "4.45519449023043\n",
      "tensor(-130.5747, device='cuda:0', grad_fn=<NegBackward0>) [tensor(-35.6362, device='cuda:0', grad_fn=<NegBackward0>), tensor(-9.1908, device='cuda:0', grad_fn=<NegBackward0>), tensor(-85.7477, device='cuda:0', grad_fn=<AddBackward0>)]\n",
      "tensor(-132.0927, device='cuda:0', grad_fn=<NegBackward0>) [tensor(-35.6362, device='cuda:0', grad_fn=<NegBackward0>), tensor(-9.8482, device='cuda:0', grad_fn=<NegBackward0>), tensor(-86.6083, device='cuda:0', grad_fn=<AddBackward0>)]\n",
      "5.118367847989909\n",
      "tensor(-130.7072, device='cuda:0', grad_fn=<NegBackward0>) [tensor(-35.5126, device='cuda:0', grad_fn=<NegBackward0>), tensor(-8.4715, device='cuda:0', grad_fn=<NegBackward0>), tensor(-86.7230, device='cuda:0', grad_fn=<AddBackward0>)]\n",
      "tensor(-131.0222, device='cuda:0', grad_fn=<NegBackward0>) [tensor(-35.5126, device='cuda:0', grad_fn=<NegBackward0>), tensor(-8.5944, device='cuda:0', grad_fn=<NegBackward0>), tensor(-86.9151, device='cuda:0', grad_fn=<AddBackward0>)]\n",
      "4.657269004993109\n",
      "tensor(-132.9009, device='cuda:0', grad_fn=<NegBackward0>) [tensor(-35.7274, device='cuda:0', grad_fn=<NegBackward0>), tensor(-9.6605, device='cuda:0', grad_fn=<NegBackward0>), tensor(-87.5131, device='cuda:0', grad_fn=<AddBackward0>)]\n",
      "tensor(-131.4150, device='cuda:0', grad_fn=<NegBackward0>) [tensor(-35.7274, device='cuda:0', grad_fn=<NegBackward0>), tensor(-8.9679, device='cuda:0', grad_fn=<NegBackward0>), tensor(-86.7197, device='cuda:0', grad_fn=<AddBackward0>)]\n",
      "4.804346787996604\n",
      "tensor(-132.5797, device='cuda:0', grad_fn=<NegBackward0>) [tensor(-35.7369, device='cuda:0', grad_fn=<NegBackward0>), tensor(-9.4304, device='cuda:0', grad_fn=<NegBackward0>), tensor(-87.4124, device='cuda:0', grad_fn=<AddBackward0>)]\n",
      "tensor(-132.2789, device='cuda:0', grad_fn=<NegBackward0>) [tensor(-35.7369, device='cuda:0', grad_fn=<NegBackward0>), tensor(-9.4719, device='cuda:0', grad_fn=<NegBackward0>), tensor(-87.0700, device='cuda:0', grad_fn=<AddBackward0>)]\n",
      "4.447847447138149\n",
      "tensor(-131.1848, device='cuda:0', grad_fn=<NegBackward0>) [tensor(-35.6161, device='cuda:0', grad_fn=<NegBackward0>), tensor(-9.5415, device='cuda:0', grad_fn=<NegBackward0>), tensor(-86.0271, device='cuda:0', grad_fn=<AddBackward0>)]\n",
      "tensor(-132.3946, device='cuda:0', grad_fn=<NegBackward0>) [tensor(-35.6161, device='cuda:0', grad_fn=<NegBackward0>), tensor(-10.0342, device='cuda:0', grad_fn=<NegBackward0>), tensor(-86.7442, device='cuda:0', grad_fn=<AddBackward0>)]\n",
      "4.7091819153586885\n",
      "tensor(-133.3448, device='cuda:0', grad_fn=<NegBackward0>) [tensor(-35.7733, device='cuda:0', grad_fn=<NegBackward0>), tensor(-10.2324, device='cuda:0', grad_fn=<NegBackward0>), tensor(-87.3390, device='cuda:0', grad_fn=<AddBackward0>)]\n",
      "tensor(-133.0713, device='cuda:0', grad_fn=<NegBackward0>) [tensor(-35.7733, device='cuda:0', grad_fn=<NegBackward0>), tensor(-10.0367, device='cuda:0', grad_fn=<NegBackward0>), tensor(-87.2614, device='cuda:0', grad_fn=<AddBackward0>)]\n",
      "4.580088121704981\n",
      "tensor(-131.3170, device='cuda:0', grad_fn=<NegBackward0>) [tensor(-35.8276, device='cuda:0', grad_fn=<NegBackward0>), tensor(-9.4294, device='cuda:0', grad_fn=<NegBackward0>), tensor(-86.0600, device='cuda:0', grad_fn=<AddBackward0>)]\n",
      "tensor(-132.8089, device='cuda:0', grad_fn=<NegBackward0>) [tensor(-35.8276, device='cuda:0', grad_fn=<NegBackward0>), tensor(-9.7095, device='cuda:0', grad_fn=<NegBackward0>), tensor(-87.2718, device='cuda:0', grad_fn=<AddBackward0>)]\n",
      "4.896114333684302\n",
      "tensor(-131.7106, device='cuda:0', grad_fn=<NegBackward0>) [tensor(-35.7650, device='cuda:0', grad_fn=<NegBackward0>), tensor(-9.1231, device='cuda:0', grad_fn=<NegBackward0>), tensor(-86.8226, device='cuda:0', grad_fn=<AddBackward0>)]\n",
      "tensor(-131.6706, device='cuda:0', grad_fn=<NegBackward0>) [tensor(-35.7650, device='cuda:0', grad_fn=<NegBackward0>), tensor(-9.0701, device='cuda:0', grad_fn=<NegBackward0>), tensor(-86.8356, device='cuda:0', grad_fn=<AddBackward0>)]\n",
      "5.03412816992629\n",
      "tensor(-130.8880, device='cuda:0', grad_fn=<NegBackward0>) [tensor(-35.7013, device='cuda:0', grad_fn=<NegBackward0>), tensor(-8.7362, device='cuda:0', grad_fn=<NegBackward0>), tensor(-86.4505, device='cuda:0', grad_fn=<AddBackward0>)]\n",
      "tensor(-130.7429, device='cuda:0', grad_fn=<NegBackward0>) [tensor(-35.7013, device='cuda:0', grad_fn=<NegBackward0>), tensor(-8.6734, device='cuda:0', grad_fn=<NegBackward0>), tensor(-86.3682, device='cuda:0', grad_fn=<AddBackward0>)]\n",
      "5.2643816127130965\n",
      "tensor(-131.8432, device='cuda:0', grad_fn=<NegBackward0>) [tensor(-35.6900, device='cuda:0', grad_fn=<NegBackward0>), tensor(-8.8306, device='cuda:0', grad_fn=<NegBackward0>), tensor(-87.3227, device='cuda:0', grad_fn=<AddBackward0>)]\n",
      "tensor(-133.2153, device='cuda:0', grad_fn=<NegBackward0>) [tensor(-35.6900, device='cuda:0', grad_fn=<NegBackward0>), tensor(-9.9498, device='cuda:0', grad_fn=<NegBackward0>), tensor(-87.5755, device='cuda:0', grad_fn=<AddBackward0>)]\n",
      "4.92500198602861\n",
      "tensor(-133.4338, device='cuda:0', grad_fn=<NegBackward0>) [tensor(-35.8171, device='cuda:0', grad_fn=<NegBackward0>), tensor(-9.2533, device='cuda:0', grad_fn=<NegBackward0>), tensor(-88.3634, device='cuda:0', grad_fn=<AddBackward0>)]\n",
      "tensor(-131.2303, device='cuda:0', grad_fn=<NegBackward0>) [tensor(-35.8171, device='cuda:0', grad_fn=<NegBackward0>), tensor(-8.3359, device='cuda:0', grad_fn=<NegBackward0>), tensor(-87.0773, device='cuda:0', grad_fn=<AddBackward0>)]\n",
      "4.603800213282849\n",
      "tensor(-133.3602, device='cuda:0', grad_fn=<NegBackward0>) [tensor(-35.9934, device='cuda:0', grad_fn=<NegBackward0>), tensor(-9.8023, device='cuda:0', grad_fn=<NegBackward0>), tensor(-87.5645, device='cuda:0', grad_fn=<AddBackward0>)]\n",
      "tensor(-130.5719, device='cuda:0', grad_fn=<NegBackward0>) [tensor(-35.9934, device='cuda:0', grad_fn=<NegBackward0>), tensor(-8.4055, device='cuda:0', grad_fn=<NegBackward0>), tensor(-86.1730, device='cuda:0', grad_fn=<AddBackward0>)]\n",
      "4.522608114492506\n",
      "tensor(-131.5253, device='cuda:0', grad_fn=<NegBackward0>) [tensor(-35.9306, device='cuda:0', grad_fn=<NegBackward0>), tensor(-9.4067, device='cuda:0', grad_fn=<NegBackward0>), tensor(-86.1880, device='cuda:0', grad_fn=<AddBackward0>)]\n",
      "tensor(-130.8311, device='cuda:0', grad_fn=<NegBackward0>) [tensor(-35.9306, device='cuda:0', grad_fn=<NegBackward0>), tensor(-8.9911, device='cuda:0', grad_fn=<NegBackward0>), tensor(-85.9094, device='cuda:0', grad_fn=<AddBackward0>)]\n",
      "4.748235176067521\n",
      "tensor(-132.3672, device='cuda:0', grad_fn=<NegBackward0>) [tensor(-35.9010, device='cuda:0', grad_fn=<NegBackward0>), tensor(-8.9924, device='cuda:0', grad_fn=<NegBackward0>), tensor(-87.4738, device='cuda:0', grad_fn=<AddBackward0>)]\n",
      "tensor(-131.3753, device='cuda:0', grad_fn=<NegBackward0>) [tensor(-35.9010, device='cuda:0', grad_fn=<NegBackward0>), tensor(-8.8838, device='cuda:0', grad_fn=<NegBackward0>), tensor(-86.5905, device='cuda:0', grad_fn=<AddBackward0>)]\n",
      "4.211817329935183\n",
      "tensor(-132.0103, device='cuda:0', grad_fn=<NegBackward0>) [tensor(-36.0190, device='cuda:0', grad_fn=<NegBackward0>), tensor(-10.0771, device='cuda:0', grad_fn=<NegBackward0>), tensor(-85.9142, device='cuda:0', grad_fn=<AddBackward0>)]\n",
      "tensor(-133.2083, device='cuda:0', grad_fn=<NegBackward0>) [tensor(-36.0190, device='cuda:0', grad_fn=<NegBackward0>), tensor(-10.7405, device='cuda:0', grad_fn=<NegBackward0>), tensor(-86.4488, device='cuda:0', grad_fn=<AddBackward0>)]\n"
     ]
    },
    {
     "name": "stdout",
     "output_type": "stream",
     "text": [
      "4.690640393729404\n",
      "tensor(-134.0587, device='cuda:0', grad_fn=<NegBackward0>) [tensor(-35.8806, device='cuda:0', grad_fn=<NegBackward0>), tensor(-9.9244, device='cuda:0', grad_fn=<NegBackward0>), tensor(-88.2538, device='cuda:0', grad_fn=<AddBackward0>)]\n",
      "tensor(-130.9377, device='cuda:0', grad_fn=<NegBackward0>) [tensor(-35.8806, device='cuda:0', grad_fn=<NegBackward0>), tensor(-8.4913, device='cuda:0', grad_fn=<NegBackward0>), tensor(-86.5659, device='cuda:0', grad_fn=<AddBackward0>)]\n",
      "5.271042070452833\n",
      "tensor(-133.0227, device='cuda:0', grad_fn=<NegBackward0>) [tensor(-35.8658, device='cuda:0', grad_fn=<NegBackward0>), tensor(-9.1527, device='cuda:0', grad_fn=<NegBackward0>), tensor(-88.0043, device='cuda:0', grad_fn=<AddBackward0>)]\n",
      "tensor(-131.3693, device='cuda:0', grad_fn=<NegBackward0>) [tensor(-35.8658, device='cuda:0', grad_fn=<NegBackward0>), tensor(-8.3580, device='cuda:0', grad_fn=<NegBackward0>), tensor(-87.1455, device='cuda:0', grad_fn=<AddBackward0>)]\n",
      "4.7651363887774645\n",
      "tensor(-132.0041, device='cuda:0', grad_fn=<NegBackward0>) [tensor(-35.9171, device='cuda:0', grad_fn=<NegBackward0>), tensor(-9.1681, device='cuda:0', grad_fn=<NegBackward0>), tensor(-86.9189, device='cuda:0', grad_fn=<AddBackward0>)]\n",
      "tensor(-131.6895, device='cuda:0', grad_fn=<NegBackward0>) [tensor(-35.9171, device='cuda:0', grad_fn=<NegBackward0>), tensor(-8.8620, device='cuda:0', grad_fn=<NegBackward0>), tensor(-86.9104, device='cuda:0', grad_fn=<AddBackward0>)]\n",
      "4.6658318485714405\n",
      "tensor(-131.8197, device='cuda:0', grad_fn=<NegBackward0>) [tensor(-36.0124, device='cuda:0', grad_fn=<NegBackward0>), tensor(-9.5875, device='cuda:0', grad_fn=<NegBackward0>), tensor(-86.2197, device='cuda:0', grad_fn=<AddBackward0>)]\n",
      "tensor(-130.4824, device='cuda:0', grad_fn=<NegBackward0>) [tensor(-36.0124, device='cuda:0', grad_fn=<NegBackward0>), tensor(-8.6142, device='cuda:0', grad_fn=<NegBackward0>), tensor(-85.8557, device='cuda:0', grad_fn=<AddBackward0>)]\n",
      "5.7688733375586185\n",
      "tensor(-132.0111, device='cuda:0', grad_fn=<NegBackward0>) [tensor(-35.9288, device='cuda:0', grad_fn=<NegBackward0>), tensor(-8.3995, device='cuda:0', grad_fn=<NegBackward0>), tensor(-87.6828, device='cuda:0', grad_fn=<AddBackward0>)]\n",
      "tensor(-131.8532, device='cuda:0', grad_fn=<NegBackward0>) [tensor(-35.9288, device='cuda:0', grad_fn=<NegBackward0>), tensor(-8.5205, device='cuda:0', grad_fn=<NegBackward0>), tensor(-87.4039, device='cuda:0', grad_fn=<AddBackward0>)]\n",
      "4.673621031683493\n",
      "tensor(-131.7373, device='cuda:0', grad_fn=<NegBackward0>) [tensor(-36.1440, device='cuda:0', grad_fn=<NegBackward0>), tensor(-8.9929, device='cuda:0', grad_fn=<NegBackward0>), tensor(-86.6004, device='cuda:0', grad_fn=<AddBackward0>)]\n",
      "tensor(-132.4285, device='cuda:0', grad_fn=<NegBackward0>) [tensor(-36.1440, device='cuda:0', grad_fn=<NegBackward0>), tensor(-9.5561, device='cuda:0', grad_fn=<NegBackward0>), tensor(-86.7284, device='cuda:0', grad_fn=<AddBackward0>)]\n",
      "4.916771517909519\n",
      "tensor(-131.2621, device='cuda:0', grad_fn=<NegBackward0>) [tensor(-36.0043, device='cuda:0', grad_fn=<NegBackward0>), tensor(-8.6227, device='cuda:0', grad_fn=<NegBackward0>), tensor(-86.6350, device='cuda:0', grad_fn=<AddBackward0>)]\n",
      "tensor(-130.4932, device='cuda:0', grad_fn=<NegBackward0>) [tensor(-36.0043, device='cuda:0', grad_fn=<NegBackward0>), tensor(-8.1833, device='cuda:0', grad_fn=<NegBackward0>), tensor(-86.3056, device='cuda:0', grad_fn=<AddBackward0>)]\n",
      "5.125069726297992\n",
      "tensor(-133.1214, device='cuda:0', grad_fn=<NegBackward0>) [tensor(-36.0195, device='cuda:0', grad_fn=<NegBackward0>), tensor(-9.2877, device='cuda:0', grad_fn=<NegBackward0>), tensor(-87.8142, device='cuda:0', grad_fn=<AddBackward0>)]\n",
      "tensor(-132.4265, device='cuda:0', grad_fn=<NegBackward0>) [tensor(-36.0195, device='cuda:0', grad_fn=<NegBackward0>), tensor(-9.1963, device='cuda:0', grad_fn=<NegBackward0>), tensor(-87.2108, device='cuda:0', grad_fn=<AddBackward0>)]\n",
      "4.757896521787769\n",
      "tensor(-134.8983, device='cuda:0', grad_fn=<NegBackward0>) [tensor(-36.0732, device='cuda:0', grad_fn=<NegBackward0>), tensor(-10.3792, device='cuda:0', grad_fn=<NegBackward0>), tensor(-88.4459, device='cuda:0', grad_fn=<AddBackward0>)]\n",
      "tensor(-132.6872, device='cuda:0', grad_fn=<NegBackward0>) [tensor(-36.0732, device='cuda:0', grad_fn=<NegBackward0>), tensor(-9.4716, device='cuda:0', grad_fn=<NegBackward0>), tensor(-87.1425, device='cuda:0', grad_fn=<AddBackward0>)]\n",
      "4.723138883360647\n",
      "tensor(-131.8324, device='cuda:0', grad_fn=<NegBackward0>) [tensor(-36.0787, device='cuda:0', grad_fn=<NegBackward0>), tensor(-9.1362, device='cuda:0', grad_fn=<NegBackward0>), tensor(-86.6175, device='cuda:0', grad_fn=<AddBackward0>)]\n",
      "tensor(-133.7754, device='cuda:0', grad_fn=<NegBackward0>) [tensor(-36.0787, device='cuda:0', grad_fn=<NegBackward0>), tensor(-9.4794, device='cuda:0', grad_fn=<NegBackward0>), tensor(-88.2174, device='cuda:0', grad_fn=<AddBackward0>)]\n",
      "4.470963988421191\n",
      "tensor(-132.5479, device='cuda:0', grad_fn=<NegBackward0>) [tensor(-36.1054, device='cuda:0', grad_fn=<NegBackward0>), tensor(-10.1020, device='cuda:0', grad_fn=<NegBackward0>), tensor(-86.3406, device='cuda:0', grad_fn=<AddBackward0>)]\n",
      "tensor(-131.6720, device='cuda:0', grad_fn=<NegBackward0>) [tensor(-36.1054, device='cuda:0', grad_fn=<NegBackward0>), tensor(-9.5474, device='cuda:0', grad_fn=<NegBackward0>), tensor(-86.0192, device='cuda:0', grad_fn=<AddBackward0>)]\n",
      "4.945373201351801\n",
      "tensor(-132.8162, device='cuda:0', grad_fn=<NegBackward0>) [tensor(-35.8990, device='cuda:0', grad_fn=<NegBackward0>), tensor(-9.0389, device='cuda:0', grad_fn=<NegBackward0>), tensor(-87.8783, device='cuda:0', grad_fn=<AddBackward0>)]\n",
      "tensor(-130.9696, device='cuda:0', grad_fn=<NegBackward0>) [tensor(-35.8990, device='cuda:0', grad_fn=<NegBackward0>), tensor(-8.5849, device='cuda:0', grad_fn=<NegBackward0>), tensor(-86.4857, device='cuda:0', grad_fn=<AddBackward0>)]\n",
      "4.874593385826848\n",
      "tensor(-131.3345, device='cuda:0', grad_fn=<NegBackward0>) [tensor(-36.0499, device='cuda:0', grad_fn=<NegBackward0>), tensor(-8.9782, device='cuda:0', grad_fn=<NegBackward0>), tensor(-86.3064, device='cuda:0', grad_fn=<AddBackward0>)]\n",
      "tensor(-132.7362, device='cuda:0', grad_fn=<NegBackward0>) [tensor(-36.0499, device='cuda:0', grad_fn=<NegBackward0>), tensor(-9.4931, device='cuda:0', grad_fn=<NegBackward0>), tensor(-87.1932, device='cuda:0', grad_fn=<AddBackward0>)]\n",
      "4.878018245481371\n",
      "tensor(-133.8692, device='cuda:0', grad_fn=<NegBackward0>) [tensor(-36.0787, device='cuda:0', grad_fn=<NegBackward0>), tensor(-9.3983, device='cuda:0', grad_fn=<NegBackward0>), tensor(-88.3922, device='cuda:0', grad_fn=<AddBackward0>)]\n",
      "tensor(-132.8955, device='cuda:0', grad_fn=<NegBackward0>) [tensor(-36.0787, device='cuda:0', grad_fn=<NegBackward0>), tensor(-9.2801, device='cuda:0', grad_fn=<NegBackward0>), tensor(-87.5367, device='cuda:0', grad_fn=<AddBackward0>)]\n",
      "4.695965324125158\n",
      "tensor(-131.4056, device='cuda:0', grad_fn=<NegBackward0>) [tensor(-36.1910, device='cuda:0', grad_fn=<NegBackward0>), tensor(-8.5518, device='cuda:0', grad_fn=<NegBackward0>), tensor(-86.6627, device='cuda:0', grad_fn=<AddBackward0>)]\n",
      "tensor(-134.7909, device='cuda:0', grad_fn=<NegBackward0>) [tensor(-36.1910, device='cuda:0', grad_fn=<NegBackward0>), tensor(-10.3608, device='cuda:0', grad_fn=<NegBackward0>), tensor(-88.2391, device='cuda:0', grad_fn=<AddBackward0>)]\n",
      "4.595053066492114\n",
      "tensor(-132.7573, device='cuda:0', grad_fn=<NegBackward0>) [tensor(-36.1789, device='cuda:0', grad_fn=<NegBackward0>), tensor(-9.2244, device='cuda:0', grad_fn=<NegBackward0>), tensor(-87.3540, device='cuda:0', grad_fn=<AddBackward0>)]\n",
      "tensor(-130.6236, device='cuda:0', grad_fn=<NegBackward0>) [tensor(-36.1789, device='cuda:0', grad_fn=<NegBackward0>), tensor(-7.9330, device='cuda:0', grad_fn=<NegBackward0>), tensor(-86.5118, device='cuda:0', grad_fn=<AddBackward0>)]\n",
      "5.520044755746134\n",
      "tensor(-133.4051, device='cuda:0', grad_fn=<NegBackward0>) [tensor(-36.2631, device='cuda:0', grad_fn=<NegBackward0>), tensor(-8.8288, device='cuda:0', grad_fn=<NegBackward0>), tensor(-88.3132, device='cuda:0', grad_fn=<AddBackward0>)]\n",
      "tensor(-133.1562, device='cuda:0', grad_fn=<NegBackward0>) [tensor(-36.2631, device='cuda:0', grad_fn=<NegBackward0>), tensor(-8.9562, device='cuda:0', grad_fn=<NegBackward0>), tensor(-87.9370, device='cuda:0', grad_fn=<AddBackward0>)]\n"
     ]
    },
    {
     "name": "stdout",
     "output_type": "stream",
     "text": [
      "5.627365632629272\n",
      "tensor(-132.7498, device='cuda:0', grad_fn=<NegBackward0>) [tensor(-36.2181, device='cuda:0', grad_fn=<NegBackward0>), tensor(-8.7162, device='cuda:0', grad_fn=<NegBackward0>), tensor(-87.8155, device='cuda:0', grad_fn=<AddBackward0>)]\n",
      "tensor(-132.9036, device='cuda:0', grad_fn=<NegBackward0>) [tensor(-36.2181, device='cuda:0', grad_fn=<NegBackward0>), tensor(-8.8776, device='cuda:0', grad_fn=<NegBackward0>), tensor(-87.8078, device='cuda:0', grad_fn=<AddBackward0>)]\n",
      "5.304111703451627\n",
      "tensor(-130.7464, device='cuda:0', grad_fn=<NegBackward0>) [tensor(-36.1770, device='cuda:0', grad_fn=<NegBackward0>), tensor(-7.8788, device='cuda:0', grad_fn=<NegBackward0>), tensor(-86.6906, device='cuda:0', grad_fn=<AddBackward0>)]\n",
      "tensor(-129.6755, device='cuda:0', grad_fn=<NegBackward0>) [tensor(-36.1770, device='cuda:0', grad_fn=<NegBackward0>), tensor(-7.3799, device='cuda:0', grad_fn=<NegBackward0>), tensor(-86.1187, device='cuda:0', grad_fn=<AddBackward0>)]\n",
      "5.128256863355597\n",
      "tensor(-132.3636, device='cuda:0', grad_fn=<NegBackward0>) [tensor(-36.2107, device='cuda:0', grad_fn=<NegBackward0>), tensor(-8.8983, device='cuda:0', grad_fn=<NegBackward0>), tensor(-87.2545, device='cuda:0', grad_fn=<AddBackward0>)]\n",
      "tensor(-135.7108, device='cuda:0', grad_fn=<NegBackward0>) [tensor(-36.2107, device='cuda:0', grad_fn=<NegBackward0>), tensor(-10.0644, device='cuda:0', grad_fn=<NegBackward0>), tensor(-89.4357, device='cuda:0', grad_fn=<AddBackward0>)]\n",
      "4.482545397026933\n",
      "tensor(-132.1271, device='cuda:0', grad_fn=<NegBackward0>) [tensor(-36.1920, device='cuda:0', grad_fn=<NegBackward0>), tensor(-8.9657, device='cuda:0', grad_fn=<NegBackward0>), tensor(-86.9694, device='cuda:0', grad_fn=<AddBackward0>)]\n",
      "tensor(-133.7789, device='cuda:0', grad_fn=<NegBackward0>) [tensor(-36.1920, device='cuda:0', grad_fn=<NegBackward0>), tensor(-9.6908, device='cuda:0', grad_fn=<NegBackward0>), tensor(-87.8960, device='cuda:0', grad_fn=<AddBackward0>)]\n",
      "5.169418716015047\n",
      "tensor(-131.4187, device='cuda:0', grad_fn=<NegBackward0>) [tensor(-36.0148, device='cuda:0', grad_fn=<NegBackward0>), tensor(-8.5233, device='cuda:0', grad_fn=<NegBackward0>), tensor(-86.8806, device='cuda:0', grad_fn=<AddBackward0>)]\n",
      "tensor(-131.1079, device='cuda:0', grad_fn=<NegBackward0>) [tensor(-36.0148, device='cuda:0', grad_fn=<NegBackward0>), tensor(-8.5330, device='cuda:0', grad_fn=<NegBackward0>), tensor(-86.5601, device='cuda:0', grad_fn=<AddBackward0>)]\n",
      "5.082203231204475\n",
      "tensor(-132.7588, device='cuda:0', grad_fn=<NegBackward0>) [tensor(-36.1908, device='cuda:0', grad_fn=<NegBackward0>), tensor(-9.0405, device='cuda:0', grad_fn=<NegBackward0>), tensor(-87.5274, device='cuda:0', grad_fn=<AddBackward0>)]\n",
      "tensor(-131.3221, device='cuda:0', grad_fn=<NegBackward0>) [tensor(-36.1908, device='cuda:0', grad_fn=<NegBackward0>), tensor(-8.6676, device='cuda:0', grad_fn=<NegBackward0>), tensor(-86.4637, device='cuda:0', grad_fn=<AddBackward0>)]\n",
      "5.517801689304315\n",
      "tensor(-131.2465, device='cuda:0', grad_fn=<NegBackward0>) [tensor(-36.0740, device='cuda:0', grad_fn=<NegBackward0>), tensor(-8.0494, device='cuda:0', grad_fn=<NegBackward0>), tensor(-87.1230, device='cuda:0', grad_fn=<AddBackward0>)]\n",
      "tensor(-130.6886, device='cuda:0', grad_fn=<NegBackward0>) [tensor(-36.0740, device='cuda:0', grad_fn=<NegBackward0>), tensor(-8.1218, device='cuda:0', grad_fn=<NegBackward0>), tensor(-86.4927, device='cuda:0', grad_fn=<AddBackward0>)]\n",
      "5.02013852560741\n",
      "tensor(-133.5327, device='cuda:0', grad_fn=<NegBackward0>) [tensor(-36.3131, device='cuda:0', grad_fn=<NegBackward0>), tensor(-9.3368, device='cuda:0', grad_fn=<NegBackward0>), tensor(-87.8828, device='cuda:0', grad_fn=<AddBackward0>)]\n",
      "tensor(-134.0342, device='cuda:0', grad_fn=<NegBackward0>) [tensor(-36.3131, device='cuda:0', grad_fn=<NegBackward0>), tensor(-9.4959, device='cuda:0', grad_fn=<NegBackward0>), tensor(-88.2252, device='cuda:0', grad_fn=<AddBackward0>)]\n",
      "4.426693040751442\n",
      "tensor(-131.5865, device='cuda:0', grad_fn=<NegBackward0>) [tensor(-36.3699, device='cuda:0', grad_fn=<NegBackward0>), tensor(-9.2933, device='cuda:0', grad_fn=<NegBackward0>), tensor(-85.9233, device='cuda:0', grad_fn=<AddBackward0>)]\n",
      "tensor(-132.5725, device='cuda:0', grad_fn=<NegBackward0>) [tensor(-36.3699, device='cuda:0', grad_fn=<NegBackward0>), tensor(-9.4502, device='cuda:0', grad_fn=<NegBackward0>), tensor(-86.7524, device='cuda:0', grad_fn=<AddBackward0>)]\n",
      "4.90261982889673\n",
      "tensor(-129.5671, device='cuda:0', grad_fn=<NegBackward0>) [tensor(-36.2784, device='cuda:0', grad_fn=<NegBackward0>), tensor(-7.8016, device='cuda:0', grad_fn=<NegBackward0>), tensor(-85.4871, device='cuda:0', grad_fn=<AddBackward0>)]\n",
      "tensor(-132.4843, device='cuda:0', grad_fn=<NegBackward0>) [tensor(-36.2784, device='cuda:0', grad_fn=<NegBackward0>), tensor(-9.0661, device='cuda:0', grad_fn=<NegBackward0>), tensor(-87.1398, device='cuda:0', grad_fn=<AddBackward0>)]\n",
      "4.673256384222538\n",
      "tensor(-134.5748, device='cuda:0', grad_fn=<NegBackward0>) [tensor(-36.3091, device='cuda:0', grad_fn=<NegBackward0>), tensor(-9.8373, device='cuda:0', grad_fn=<NegBackward0>), tensor(-88.4283, device='cuda:0', grad_fn=<AddBackward0>)]\n",
      "tensor(-132.5177, device='cuda:0', grad_fn=<NegBackward0>) [tensor(-36.3091, device='cuda:0', grad_fn=<NegBackward0>), tensor(-9.0152, device='cuda:0', grad_fn=<NegBackward0>), tensor(-87.1934, device='cuda:0', grad_fn=<AddBackward0>)]\n",
      "4.980888036999286\n",
      "tensor(-132.2013, device='cuda:0', grad_fn=<NegBackward0>) [tensor(-36.2710, device='cuda:0', grad_fn=<NegBackward0>), tensor(-8.7863, device='cuda:0', grad_fn=<NegBackward0>), tensor(-87.1439, device='cuda:0', grad_fn=<AddBackward0>)]\n",
      "tensor(-133.8002, device='cuda:0', grad_fn=<NegBackward0>) [tensor(-36.2710, device='cuda:0', grad_fn=<NegBackward0>), tensor(-9.7590, device='cuda:0', grad_fn=<NegBackward0>), tensor(-87.7702, device='cuda:0', grad_fn=<AddBackward0>)]\n",
      "4.733687401049596\n",
      "tensor(-133.3793, device='cuda:0', grad_fn=<NegBackward0>) [tensor(-36.3278, device='cuda:0', grad_fn=<NegBackward0>), tensor(-9.2621, device='cuda:0', grad_fn=<NegBackward0>), tensor(-87.7894, device='cuda:0', grad_fn=<AddBackward0>)]\n",
      "tensor(-132.7702, device='cuda:0', grad_fn=<NegBackward0>) [tensor(-36.3278, device='cuda:0', grad_fn=<NegBackward0>), tensor(-9.1889, device='cuda:0', grad_fn=<NegBackward0>), tensor(-87.2534, device='cuda:0', grad_fn=<AddBackward0>)]\n",
      "5.270080162059522\n",
      "tensor(-132.5735, device='cuda:0', grad_fn=<NegBackward0>) [tensor(-36.2490, device='cuda:0', grad_fn=<NegBackward0>), tensor(-9.0388, device='cuda:0', grad_fn=<NegBackward0>), tensor(-87.2857, device='cuda:0', grad_fn=<AddBackward0>)]\n",
      "tensor(-130.5134, device='cuda:0', grad_fn=<NegBackward0>) [tensor(-36.2490, device='cuda:0', grad_fn=<NegBackward0>), tensor(-7.7789, device='cuda:0', grad_fn=<NegBackward0>), tensor(-86.4855, device='cuda:0', grad_fn=<AddBackward0>)]\n",
      "5.1648182770964866\n",
      "tensor(-132.9839, device='cuda:0', grad_fn=<NegBackward0>) [tensor(-36.2855, device='cuda:0', grad_fn=<NegBackward0>), tensor(-9.0981, device='cuda:0', grad_fn=<NegBackward0>), tensor(-87.6003, device='cuda:0', grad_fn=<AddBackward0>)]\n",
      "tensor(-134.1442, device='cuda:0', grad_fn=<NegBackward0>) [tensor(-36.2855, device='cuda:0', grad_fn=<NegBackward0>), tensor(-9.4516, device='cuda:0', grad_fn=<NegBackward0>), tensor(-88.4071, device='cuda:0', grad_fn=<AddBackward0>)]\n",
      "4.734366199222258\n",
      "tensor(-132.7165, device='cuda:0', grad_fn=<NegBackward0>) [tensor(-36.2964, device='cuda:0', grad_fn=<NegBackward0>), tensor(-9.3244, device='cuda:0', grad_fn=<NegBackward0>), tensor(-87.0957, device='cuda:0', grad_fn=<AddBackward0>)]\n",
      "tensor(-135.5300, device='cuda:0', grad_fn=<NegBackward0>) [tensor(-36.2964, device='cuda:0', grad_fn=<NegBackward0>), tensor(-10.2971, device='cuda:0', grad_fn=<NegBackward0>), tensor(-88.9365, device='cuda:0', grad_fn=<AddBackward0>)]\n",
      "4.8378446938265585\n",
      "tensor(-132.5241, device='cuda:0', grad_fn=<NegBackward0>) [tensor(-36.1781, device='cuda:0', grad_fn=<NegBackward0>), tensor(-9.4763, device='cuda:0', grad_fn=<NegBackward0>), tensor(-86.8697, device='cuda:0', grad_fn=<AddBackward0>)]\n",
      "tensor(-133.0501, device='cuda:0', grad_fn=<NegBackward0>) [tensor(-36.1781, device='cuda:0', grad_fn=<NegBackward0>), tensor(-9.6111, device='cuda:0', grad_fn=<NegBackward0>), tensor(-87.2608, device='cuda:0', grad_fn=<AddBackward0>)]\n"
     ]
    },
    {
     "name": "stdout",
     "output_type": "stream",
     "text": [
      "5.043512148603444\n",
      "tensor(-131.2602, device='cuda:0', grad_fn=<NegBackward0>) [tensor(-36.1313, device='cuda:0', grad_fn=<NegBackward0>), tensor(-8.3985, device='cuda:0', grad_fn=<NegBackward0>), tensor(-86.7304, device='cuda:0', grad_fn=<AddBackward0>)]\n",
      "tensor(-130.5497, device='cuda:0', grad_fn=<NegBackward0>) [tensor(-36.1313, device='cuda:0', grad_fn=<NegBackward0>), tensor(-7.9136, device='cuda:0', grad_fn=<NegBackward0>), tensor(-86.5048, device='cuda:0', grad_fn=<AddBackward0>)]\n",
      "4.758465654732521\n",
      "tensor(-133.0552, device='cuda:0', grad_fn=<NegBackward0>) [tensor(-36.2048, device='cuda:0', grad_fn=<NegBackward0>), tensor(-9.6358, device='cuda:0', grad_fn=<NegBackward0>), tensor(-87.2146, device='cuda:0', grad_fn=<AddBackward0>)]\n",
      "tensor(-133.4059, device='cuda:0', grad_fn=<NegBackward0>) [tensor(-36.2048, device='cuda:0', grad_fn=<NegBackward0>), tensor(-9.5391, device='cuda:0', grad_fn=<NegBackward0>), tensor(-87.6620, device='cuda:0', grad_fn=<AddBackward0>)]\n",
      "4.6871855478322955\n",
      "tensor(-135.0854, device='cuda:0', grad_fn=<NegBackward0>) [tensor(-36.3238, device='cuda:0', grad_fn=<NegBackward0>), tensor(-10.2132, device='cuda:0', grad_fn=<NegBackward0>), tensor(-88.5484, device='cuda:0', grad_fn=<AddBackward0>)]\n",
      "tensor(-132.9941, device='cuda:0', grad_fn=<NegBackward0>) [tensor(-36.3238, device='cuda:0', grad_fn=<NegBackward0>), tensor(-9.1042, device='cuda:0', grad_fn=<NegBackward0>), tensor(-87.5661, device='cuda:0', grad_fn=<AddBackward0>)]\n",
      "4.708216587133874\n",
      "tensor(-133.2843, device='cuda:0', grad_fn=<NegBackward0>) [tensor(-36.3853, device='cuda:0', grad_fn=<NegBackward0>), tensor(-9.7091, device='cuda:0', grad_fn=<NegBackward0>), tensor(-87.1900, device='cuda:0', grad_fn=<AddBackward0>)]\n",
      "tensor(-134.5232, device='cuda:0', grad_fn=<NegBackward0>) [tensor(-36.3853, device='cuda:0', grad_fn=<NegBackward0>), tensor(-9.5636, device='cuda:0', grad_fn=<NegBackward0>), tensor(-88.5744, device='cuda:0', grad_fn=<AddBackward0>)]\n",
      "4.995342702168738\n",
      "tensor(-131.1452, device='cuda:0', grad_fn=<NegBackward0>) [tensor(-36.3374, device='cuda:0', grad_fn=<NegBackward0>), tensor(-7.9177, device='cuda:0', grad_fn=<NegBackward0>), tensor(-86.8901, device='cuda:0', grad_fn=<AddBackward0>)]\n",
      "tensor(-132.1425, device='cuda:0', grad_fn=<NegBackward0>) [tensor(-36.3374, device='cuda:0', grad_fn=<NegBackward0>), tensor(-8.5916, device='cuda:0', grad_fn=<NegBackward0>), tensor(-87.2135, device='cuda:0', grad_fn=<AddBackward0>)]\n",
      "5.1341329451178135\n",
      "tensor(-132.5922, device='cuda:0', grad_fn=<NegBackward0>) [tensor(-36.4388, device='cuda:0', grad_fn=<NegBackward0>), tensor(-8.7568, device='cuda:0', grad_fn=<NegBackward0>), tensor(-87.3966, device='cuda:0', grad_fn=<AddBackward0>)]\n",
      "tensor(-133.3390, device='cuda:0', grad_fn=<NegBackward0>) [tensor(-36.4388, device='cuda:0', grad_fn=<NegBackward0>), tensor(-9.0879, device='cuda:0', grad_fn=<NegBackward0>), tensor(-87.8123, device='cuda:0', grad_fn=<AddBackward0>)]\n",
      "4.851059574731382\n",
      "tensor(-136.2427, device='cuda:0', grad_fn=<NegBackward0>) [tensor(-36.4062, device='cuda:0', grad_fn=<NegBackward0>), tensor(-10.4390, device='cuda:0', grad_fn=<NegBackward0>), tensor(-89.3975, device='cuda:0', grad_fn=<AddBackward0>)]\n",
      "tensor(-134.1125, device='cuda:0', grad_fn=<NegBackward0>) [tensor(-36.4062, device='cuda:0', grad_fn=<NegBackward0>), tensor(-9.4025, device='cuda:0', grad_fn=<NegBackward0>), tensor(-88.3038, device='cuda:0', grad_fn=<AddBackward0>)]\n",
      "5.439612318421715\n",
      "tensor(-132.3391, device='cuda:0', grad_fn=<NegBackward0>) [tensor(-36.4887, device='cuda:0', grad_fn=<NegBackward0>), tensor(-8.6439, device='cuda:0', grad_fn=<NegBackward0>), tensor(-87.2065, device='cuda:0', grad_fn=<AddBackward0>)]\n",
      "tensor(-134.2870, device='cuda:0', grad_fn=<NegBackward0>) [tensor(-36.4887, device='cuda:0', grad_fn=<NegBackward0>), tensor(-9.2179, device='cuda:0', grad_fn=<NegBackward0>), tensor(-88.5804, device='cuda:0', grad_fn=<AddBackward0>)]\n",
      "5.007891014055361\n",
      "tensor(-132.1949, device='cuda:0', grad_fn=<NegBackward0>) [tensor(-36.5445, device='cuda:0', grad_fn=<NegBackward0>), tensor(-8.6405, device='cuda:0', grad_fn=<NegBackward0>), tensor(-87.0099, device='cuda:0', grad_fn=<AddBackward0>)]\n",
      "tensor(-132.5261, device='cuda:0', grad_fn=<NegBackward0>) [tensor(-36.5445, device='cuda:0', grad_fn=<NegBackward0>), tensor(-8.8617, device='cuda:0', grad_fn=<NegBackward0>), tensor(-87.1198, device='cuda:0', grad_fn=<AddBackward0>)]\n",
      "4.934098974699843\n",
      "tensor(-133.1678, device='cuda:0', grad_fn=<NegBackward0>) [tensor(-36.4510, device='cuda:0', grad_fn=<NegBackward0>), tensor(-9.2792, device='cuda:0', grad_fn=<NegBackward0>), tensor(-87.4376, device='cuda:0', grad_fn=<AddBackward0>)]\n",
      "tensor(-132.9616, device='cuda:0', grad_fn=<NegBackward0>) [tensor(-36.4510, device='cuda:0', grad_fn=<NegBackward0>), tensor(-9.0347, device='cuda:0', grad_fn=<NegBackward0>), tensor(-87.4759, device='cuda:0', grad_fn=<AddBackward0>)]\n",
      "4.444078084264253\n",
      "tensor(-134.5131, device='cuda:0', grad_fn=<NegBackward0>) [tensor(-36.5490, device='cuda:0', grad_fn=<NegBackward0>), tensor(-10.0327, device='cuda:0', grad_fn=<NegBackward0>), tensor(-87.9315, device='cuda:0', grad_fn=<AddBackward0>)]\n",
      "tensor(-134.8454, device='cuda:0', grad_fn=<NegBackward0>) [tensor(-36.5490, device='cuda:0', grad_fn=<NegBackward0>), tensor(-10.1642, device='cuda:0', grad_fn=<NegBackward0>), tensor(-88.1322, device='cuda:0', grad_fn=<AddBackward0>)]\n",
      "4.841144774181385\n",
      "tensor(-132.2751, device='cuda:0', grad_fn=<NegBackward0>) [tensor(-36.4279, device='cuda:0', grad_fn=<NegBackward0>), tensor(-8.7408, device='cuda:0', grad_fn=<NegBackward0>), tensor(-87.1064, device='cuda:0', grad_fn=<AddBackward0>)]\n",
      "tensor(-132.3794, device='cuda:0', grad_fn=<NegBackward0>) [tensor(-36.4279, device='cuda:0', grad_fn=<NegBackward0>), tensor(-9.2595, device='cuda:0', grad_fn=<NegBackward0>), tensor(-86.6920, device='cuda:0', grad_fn=<AddBackward0>)]\n",
      "4.158029693873558\n",
      "tensor(-132.7891, device='cuda:0', grad_fn=<NegBackward0>) [tensor(-36.3834, device='cuda:0', grad_fn=<NegBackward0>), tensor(-11.2856, device='cuda:0', grad_fn=<NegBackward0>), tensor(-85.1201, device='cuda:0', grad_fn=<AddBackward0>)]\n",
      "tensor(-135.0047, device='cuda:0', grad_fn=<NegBackward0>) [tensor(-36.3834, device='cuda:0', grad_fn=<NegBackward0>), tensor(-11.0309, device='cuda:0', grad_fn=<NegBackward0>), tensor(-87.5905, device='cuda:0', grad_fn=<AddBackward0>)]\n",
      "5.010867317225457\n",
      "tensor(-133.5763, device='cuda:0', grad_fn=<NegBackward0>) [tensor(-36.0149, device='cuda:0', grad_fn=<NegBackward0>), tensor(-10.0628, device='cuda:0', grad_fn=<NegBackward0>), tensor(-87.4986, device='cuda:0', grad_fn=<AddBackward0>)]\n",
      "tensor(-133.5855, device='cuda:0', grad_fn=<NegBackward0>) [tensor(-36.0149, device='cuda:0', grad_fn=<NegBackward0>), tensor(-9.6282, device='cuda:0', grad_fn=<NegBackward0>), tensor(-87.9425, device='cuda:0', grad_fn=<AddBackward0>)]\n",
      "4.725009722455249\n",
      "tensor(-132.2924, device='cuda:0', grad_fn=<NegBackward0>) [tensor(-36.0471, device='cuda:0', grad_fn=<NegBackward0>), tensor(-9.4359, device='cuda:0', grad_fn=<NegBackward0>), tensor(-86.8094, device='cuda:0', grad_fn=<AddBackward0>)]\n",
      "tensor(-132.1746, device='cuda:0', grad_fn=<NegBackward0>) [tensor(-36.0471, device='cuda:0', grad_fn=<NegBackward0>), tensor(-9.3036, device='cuda:0', grad_fn=<NegBackward0>), tensor(-86.8238, device='cuda:0', grad_fn=<AddBackward0>)]\n",
      "5.064180187702049\n",
      "tensor(-132.7949, device='cuda:0', grad_fn=<NegBackward0>) [tensor(-36.1588, device='cuda:0', grad_fn=<NegBackward0>), tensor(-9.2171, device='cuda:0', grad_fn=<NegBackward0>), tensor(-87.4190, device='cuda:0', grad_fn=<AddBackward0>)]\n",
      "tensor(-132.5631, device='cuda:0', grad_fn=<NegBackward0>) [tensor(-36.1588, device='cuda:0', grad_fn=<NegBackward0>), tensor(-9.5744, device='cuda:0', grad_fn=<NegBackward0>), tensor(-86.8299, device='cuda:0', grad_fn=<AddBackward0>)]\n",
      "4.9293669121565715\n",
      "tensor(-133.6716, device='cuda:0', grad_fn=<NegBackward0>) [tensor(-36.3244, device='cuda:0', grad_fn=<NegBackward0>), tensor(-9.6939, device='cuda:0', grad_fn=<NegBackward0>), tensor(-87.6534, device='cuda:0', grad_fn=<AddBackward0>)]\n",
      "tensor(-132.2328, device='cuda:0', grad_fn=<NegBackward0>) [tensor(-36.3244, device='cuda:0', grad_fn=<NegBackward0>), tensor(-8.4538, device='cuda:0', grad_fn=<NegBackward0>), tensor(-87.4546, device='cuda:0', grad_fn=<AddBackward0>)]\n"
     ]
    },
    {
     "name": "stdout",
     "output_type": "stream",
     "text": [
      "5.296283446940263\n",
      "tensor(-131.3022, device='cuda:0', grad_fn=<NegBackward0>) [tensor(-36.4914, device='cuda:0', grad_fn=<NegBackward0>), tensor(-8.1330, device='cuda:0', grad_fn=<NegBackward0>), tensor(-86.6778, device='cuda:0', grad_fn=<AddBackward0>)]\n",
      "tensor(-133.5578, device='cuda:0', grad_fn=<NegBackward0>) [tensor(-36.4914, device='cuda:0', grad_fn=<NegBackward0>), tensor(-8.7638, device='cuda:0', grad_fn=<NegBackward0>), tensor(-88.3026, device='cuda:0', grad_fn=<AddBackward0>)]\n",
      "4.734284437911424\n",
      "tensor(-132.7176, device='cuda:0', grad_fn=<NegBackward0>) [tensor(-36.5861, device='cuda:0', grad_fn=<NegBackward0>), tensor(-8.9570, device='cuda:0', grad_fn=<NegBackward0>), tensor(-87.1746, device='cuda:0', grad_fn=<AddBackward0>)]\n",
      "tensor(-133.4148, device='cuda:0', grad_fn=<NegBackward0>) [tensor(-36.5861, device='cuda:0', grad_fn=<NegBackward0>), tensor(-9.3451, device='cuda:0', grad_fn=<NegBackward0>), tensor(-87.4837, device='cuda:0', grad_fn=<AddBackward0>)]\n",
      "4.751859597571484\n",
      "tensor(-134.1406, device='cuda:0', grad_fn=<NegBackward0>) [tensor(-36.4846, device='cuda:0', grad_fn=<NegBackward0>), tensor(-9.5637, device='cuda:0', grad_fn=<NegBackward0>), tensor(-88.0924, device='cuda:0', grad_fn=<AddBackward0>)]\n",
      "tensor(-132.1728, device='cuda:0', grad_fn=<NegBackward0>) [tensor(-36.4846, device='cuda:0', grad_fn=<NegBackward0>), tensor(-8.5412, device='cuda:0', grad_fn=<NegBackward0>), tensor(-87.1470, device='cuda:0', grad_fn=<AddBackward0>)]\n",
      "4.550261683450789\n",
      "tensor(-133.6858, device='cuda:0', grad_fn=<NegBackward0>) [tensor(-36.6046, device='cuda:0', grad_fn=<NegBackward0>), tensor(-9.8409, device='cuda:0', grad_fn=<NegBackward0>), tensor(-87.2402, device='cuda:0', grad_fn=<AddBackward0>)]\n",
      "tensor(-133.5338, device='cuda:0', grad_fn=<NegBackward0>) [tensor(-36.6046, device='cuda:0', grad_fn=<NegBackward0>), tensor(-9.0959, device='cuda:0', grad_fn=<NegBackward0>), tensor(-87.8333, device='cuda:0', grad_fn=<AddBackward0>)]\n",
      "5.564795969048279\n",
      "tensor(-132.2172, device='cuda:0', grad_fn=<NegBackward0>) [tensor(-36.5308, device='cuda:0', grad_fn=<NegBackward0>), tensor(-8.2428, device='cuda:0', grad_fn=<NegBackward0>), tensor(-87.4435, device='cuda:0', grad_fn=<AddBackward0>)]\n",
      "tensor(-132.5388, device='cuda:0', grad_fn=<NegBackward0>) [tensor(-36.5308, device='cuda:0', grad_fn=<NegBackward0>), tensor(-8.2425, device='cuda:0', grad_fn=<NegBackward0>), tensor(-87.7655, device='cuda:0', grad_fn=<AddBackward0>)]\n",
      "5.255763459417047\n",
      "tensor(-134.1273, device='cuda:0', grad_fn=<NegBackward0>) [tensor(-36.5610, device='cuda:0', grad_fn=<NegBackward0>), tensor(-9.3028, device='cuda:0', grad_fn=<NegBackward0>), tensor(-88.2635, device='cuda:0', grad_fn=<AddBackward0>)]\n",
      "tensor(-134.4919, device='cuda:0', grad_fn=<NegBackward0>) [tensor(-36.5610, device='cuda:0', grad_fn=<NegBackward0>), tensor(-9.1832, device='cuda:0', grad_fn=<NegBackward0>), tensor(-88.7477, device='cuda:0', grad_fn=<AddBackward0>)]\n",
      "5.338144779122632\n",
      "tensor(-132.7941, device='cuda:0', grad_fn=<NegBackward0>) [tensor(-36.5919, device='cuda:0', grad_fn=<NegBackward0>), tensor(-8.2951, device='cuda:0', grad_fn=<NegBackward0>), tensor(-87.9071, device='cuda:0', grad_fn=<AddBackward0>)]\n",
      "tensor(-133.0607, device='cuda:0', grad_fn=<NegBackward0>) [tensor(-36.5919, device='cuda:0', grad_fn=<NegBackward0>), tensor(-8.7757, device='cuda:0', grad_fn=<NegBackward0>), tensor(-87.6931, device='cuda:0', grad_fn=<AddBackward0>)]\n",
      "4.64873305855663\n",
      "tensor(-133.2427, device='cuda:0', grad_fn=<NegBackward0>) [tensor(-36.6352, device='cuda:0', grad_fn=<NegBackward0>), tensor(-8.9532, device='cuda:0', grad_fn=<NegBackward0>), tensor(-87.6543, device='cuda:0', grad_fn=<AddBackward0>)]\n",
      "tensor(-132.9722, device='cuda:0', grad_fn=<NegBackward0>) [tensor(-36.6352, device='cuda:0', grad_fn=<NegBackward0>), tensor(-9.2997, device='cuda:0', grad_fn=<NegBackward0>), tensor(-87.0373, device='cuda:0', grad_fn=<AddBackward0>)]\n",
      "5.138413856254127\n",
      "tensor(-132.9859, device='cuda:0', grad_fn=<NegBackward0>) [tensor(-36.5744, device='cuda:0', grad_fn=<NegBackward0>), tensor(-8.4480, device='cuda:0', grad_fn=<NegBackward0>), tensor(-87.9635, device='cuda:0', grad_fn=<AddBackward0>)]\n",
      "tensor(-133.9046, device='cuda:0', grad_fn=<NegBackward0>) [tensor(-36.5744, device='cuda:0', grad_fn=<NegBackward0>), tensor(-9.1591, device='cuda:0', grad_fn=<NegBackward0>), tensor(-88.1711, device='cuda:0', grad_fn=<AddBackward0>)]\n",
      "5.034907371919599\n",
      "tensor(-134.1078, device='cuda:0', grad_fn=<NegBackward0>) [tensor(-36.5948, device='cuda:0', grad_fn=<NegBackward0>), tensor(-9.3981, device='cuda:0', grad_fn=<NegBackward0>), tensor(-88.1149, device='cuda:0', grad_fn=<AddBackward0>)]\n",
      "tensor(-134.4612, device='cuda:0', grad_fn=<NegBackward0>) [tensor(-36.5948, device='cuda:0', grad_fn=<NegBackward0>), tensor(-9.1988, device='cuda:0', grad_fn=<NegBackward0>), tensor(-88.6677, device='cuda:0', grad_fn=<AddBackward0>)]\n",
      "4.590286291645782\n",
      "tensor(-133.9538, device='cuda:0', grad_fn=<NegBackward0>) [tensor(-36.6109, device='cuda:0', grad_fn=<NegBackward0>), tensor(-9.9258, device='cuda:0', grad_fn=<NegBackward0>), tensor(-87.4170, device='cuda:0', grad_fn=<AddBackward0>)]\n",
      "tensor(-131.6476, device='cuda:0', grad_fn=<NegBackward0>) [tensor(-36.6109, device='cuda:0', grad_fn=<NegBackward0>), tensor(-8.8076, device='cuda:0', grad_fn=<NegBackward0>), tensor(-86.2290, device='cuda:0', grad_fn=<AddBackward0>)]\n",
      "4.739101189629934\n",
      "tensor(-133.6964, device='cuda:0', grad_fn=<NegBackward0>) [tensor(-36.5301, device='cuda:0', grad_fn=<NegBackward0>), tensor(-9.5653, device='cuda:0', grad_fn=<NegBackward0>), tensor(-87.6010, device='cuda:0', grad_fn=<AddBackward0>)]\n",
      "tensor(-135.3956, device='cuda:0', grad_fn=<NegBackward0>) [tensor(-36.5301, device='cuda:0', grad_fn=<NegBackward0>), tensor(-10.1817, device='cuda:0', grad_fn=<NegBackward0>), tensor(-88.6838, device='cuda:0', grad_fn=<AddBackward0>)]\n",
      "4.6984675258180255\n",
      "tensor(-132.3792, device='cuda:0', grad_fn=<NegBackward0>) [tensor(-36.5744, device='cuda:0', grad_fn=<NegBackward0>), tensor(-8.8344, device='cuda:0', grad_fn=<NegBackward0>), tensor(-86.9705, device='cuda:0', grad_fn=<AddBackward0>)]\n",
      "tensor(-134.0986, device='cuda:0', grad_fn=<NegBackward0>) [tensor(-36.5744, device='cuda:0', grad_fn=<NegBackward0>), tensor(-9.6741, device='cuda:0', grad_fn=<NegBackward0>), tensor(-87.8501, device='cuda:0', grad_fn=<AddBackward0>)]\n",
      "4.547788915745743\n",
      "tensor(-133.7356, device='cuda:0', grad_fn=<NegBackward0>) [tensor(-36.4469, device='cuda:0', grad_fn=<NegBackward0>), tensor(-9.1563, device='cuda:0', grad_fn=<NegBackward0>), tensor(-88.1324, device='cuda:0', grad_fn=<AddBackward0>)]\n",
      "tensor(-132.7117, device='cuda:0', grad_fn=<NegBackward0>) [tensor(-36.4469, device='cuda:0', grad_fn=<NegBackward0>), tensor(-10.2545, device='cuda:0', grad_fn=<NegBackward0>), tensor(-86.0104, device='cuda:0', grad_fn=<AddBackward0>)]\n",
      "4.519629114083083\n",
      "tensor(-132.2663, device='cuda:0', grad_fn=<NegBackward0>) [tensor(-36.3007, device='cuda:0', grad_fn=<NegBackward0>), tensor(-9.1588, device='cuda:0', grad_fn=<NegBackward0>), tensor(-86.8068, device='cuda:0', grad_fn=<AddBackward0>)]\n",
      "tensor(-134.7066, device='cuda:0', grad_fn=<NegBackward0>) [tensor(-36.3007, device='cuda:0', grad_fn=<NegBackward0>), tensor(-9.9108, device='cuda:0', grad_fn=<NegBackward0>), tensor(-88.4951, device='cuda:0', grad_fn=<AddBackward0>)]\n",
      "5.138848404719837\n",
      "tensor(-133.8706, device='cuda:0', grad_fn=<NegBackward0>) [tensor(-36.4378, device='cuda:0', grad_fn=<NegBackward0>), tensor(-8.8414, device='cuda:0', grad_fn=<NegBackward0>), tensor(-88.5914, device='cuda:0', grad_fn=<AddBackward0>)]\n",
      "tensor(-134.1174, device='cuda:0', grad_fn=<NegBackward0>) [tensor(-36.4378, device='cuda:0', grad_fn=<NegBackward0>), tensor(-9.1378, device='cuda:0', grad_fn=<NegBackward0>), tensor(-88.5418, device='cuda:0', grad_fn=<AddBackward0>)]\n",
      "5.224820015679737\n",
      "tensor(-132.8966, device='cuda:0', grad_fn=<NegBackward0>) [tensor(-36.5484, device='cuda:0', grad_fn=<NegBackward0>), tensor(-8.7640, device='cuda:0', grad_fn=<NegBackward0>), tensor(-87.5842, device='cuda:0', grad_fn=<AddBackward0>)]\n",
      "tensor(-132.0989, device='cuda:0', grad_fn=<NegBackward0>) [tensor(-36.5484, device='cuda:0', grad_fn=<NegBackward0>), tensor(-8.2173, device='cuda:0', grad_fn=<NegBackward0>), tensor(-87.3332, device='cuda:0', grad_fn=<AddBackward0>)]\n"
     ]
    },
    {
     "name": "stdout",
     "output_type": "stream",
     "text": [
      "4.563119224508752\n",
      "tensor(-134.9679, device='cuda:0', grad_fn=<NegBackward0>) [tensor(-36.7168, device='cuda:0', grad_fn=<NegBackward0>), tensor(-10.1819, device='cuda:0', grad_fn=<NegBackward0>), tensor(-88.0692, device='cuda:0', grad_fn=<AddBackward0>)]\n",
      "tensor(-134.9185, device='cuda:0', grad_fn=<NegBackward0>) [tensor(-36.7168, device='cuda:0', grad_fn=<NegBackward0>), tensor(-9.7631, device='cuda:0', grad_fn=<NegBackward0>), tensor(-88.4387, device='cuda:0', grad_fn=<AddBackward0>)]\n",
      "5.211552436386645\n",
      "tensor(-131.4235, device='cuda:0', grad_fn=<NegBackward0>) [tensor(-36.6496, device='cuda:0', grad_fn=<NegBackward0>), tensor(-7.7877, device='cuda:0', grad_fn=<NegBackward0>), tensor(-86.9861, device='cuda:0', grad_fn=<AddBackward0>)]\n",
      "tensor(-134.4565, device='cuda:0', grad_fn=<NegBackward0>) [tensor(-36.6496, device='cuda:0', grad_fn=<NegBackward0>), tensor(-9.4154, device='cuda:0', grad_fn=<NegBackward0>), tensor(-88.3914, device='cuda:0', grad_fn=<AddBackward0>)]\n",
      "4.978930195565339\n",
      "tensor(-134.6537, device='cuda:0', grad_fn=<NegBackward0>) [tensor(-36.6527, device='cuda:0', grad_fn=<NegBackward0>), tensor(-9.5610, device='cuda:0', grad_fn=<NegBackward0>), tensor(-88.4400, device='cuda:0', grad_fn=<AddBackward0>)]\n",
      "tensor(-132.9519, device='cuda:0', grad_fn=<NegBackward0>) [tensor(-36.6527, device='cuda:0', grad_fn=<NegBackward0>), tensor(-8.7547, device='cuda:0', grad_fn=<NegBackward0>), tensor(-87.5446, device='cuda:0', grad_fn=<AddBackward0>)]\n",
      "5.490533047148533\n",
      "tensor(-132.2188, device='cuda:0', grad_fn=<NegBackward0>) [tensor(-36.7177, device='cuda:0', grad_fn=<NegBackward0>), tensor(-8.0765, device='cuda:0', grad_fn=<NegBackward0>), tensor(-87.4246, device='cuda:0', grad_fn=<AddBackward0>)]\n",
      "tensor(-134.6870, device='cuda:0', grad_fn=<NegBackward0>) [tensor(-36.7177, device='cuda:0', grad_fn=<NegBackward0>), tensor(-9.0748, device='cuda:0', grad_fn=<NegBackward0>), tensor(-88.8946, device='cuda:0', grad_fn=<AddBackward0>)]\n",
      "4.7056981685976815\n",
      "tensor(-134.1874, device='cuda:0', grad_fn=<NegBackward0>) [tensor(-36.6273, device='cuda:0', grad_fn=<NegBackward0>), tensor(-9.3220, device='cuda:0', grad_fn=<NegBackward0>), tensor(-88.2381, device='cuda:0', grad_fn=<AddBackward0>)]\n",
      "tensor(-132.5708, device='cuda:0', grad_fn=<NegBackward0>) [tensor(-36.6273, device='cuda:0', grad_fn=<NegBackward0>), tensor(-8.7503, device='cuda:0', grad_fn=<NegBackward0>), tensor(-87.1932, device='cuda:0', grad_fn=<AddBackward0>)]\n",
      "4.95277380218036\n",
      "tensor(-132.8023, device='cuda:0', grad_fn=<NegBackward0>) [tensor(-36.7506, device='cuda:0', grad_fn=<NegBackward0>), tensor(-8.3865, device='cuda:0', grad_fn=<NegBackward0>), tensor(-87.6652, device='cuda:0', grad_fn=<AddBackward0>)]\n",
      "tensor(-132.5789, device='cuda:0', grad_fn=<NegBackward0>) [tensor(-36.7506, device='cuda:0', grad_fn=<NegBackward0>), tensor(-8.4363, device='cuda:0', grad_fn=<NegBackward0>), tensor(-87.3920, device='cuda:0', grad_fn=<AddBackward0>)]\n",
      "4.979243363454326\n",
      "tensor(-133.6850, device='cuda:0', grad_fn=<NegBackward0>) [tensor(-36.7945, device='cuda:0', grad_fn=<NegBackward0>), tensor(-8.8179, device='cuda:0', grad_fn=<NegBackward0>), tensor(-88.0727, device='cuda:0', grad_fn=<AddBackward0>)]\n",
      "tensor(-135.5124, device='cuda:0', grad_fn=<NegBackward0>) [tensor(-36.7945, device='cuda:0', grad_fn=<NegBackward0>), tensor(-9.5867, device='cuda:0', grad_fn=<NegBackward0>), tensor(-89.1312, device='cuda:0', grad_fn=<AddBackward0>)]\n",
      "4.836370477662434\n",
      "tensor(-135.4360, device='cuda:0', grad_fn=<NegBackward0>) [tensor(-36.7822, device='cuda:0', grad_fn=<NegBackward0>), tensor(-10.1043, device='cuda:0', grad_fn=<NegBackward0>), tensor(-88.5495, device='cuda:0', grad_fn=<AddBackward0>)]\n",
      "tensor(-132.9824, device='cuda:0', grad_fn=<NegBackward0>) [tensor(-36.7822, device='cuda:0', grad_fn=<NegBackward0>), tensor(-9.3473, device='cuda:0', grad_fn=<NegBackward0>), tensor(-86.8529, device='cuda:0', grad_fn=<AddBackward0>)]\n",
      "4.935061239784696\n",
      "tensor(-133.8622, device='cuda:0', grad_fn=<NegBackward0>) [tensor(-36.7619, device='cuda:0', grad_fn=<NegBackward0>), tensor(-9.1248, device='cuda:0', grad_fn=<NegBackward0>), tensor(-87.9755, device='cuda:0', grad_fn=<AddBackward0>)]\n",
      "tensor(-137.3841, device='cuda:0', grad_fn=<NegBackward0>) [tensor(-36.7619, device='cuda:0', grad_fn=<NegBackward0>), tensor(-10.2240, device='cuda:0', grad_fn=<NegBackward0>), tensor(-90.3982, device='cuda:0', grad_fn=<AddBackward0>)]\n",
      "4.496990421671164\n",
      "tensor(-134.3578, device='cuda:0', grad_fn=<NegBackward0>) [tensor(-36.7660, device='cuda:0', grad_fn=<NegBackward0>), tensor(-10.0221, device='cuda:0', grad_fn=<NegBackward0>), tensor(-87.5696, device='cuda:0', grad_fn=<AddBackward0>)]\n",
      "tensor(-133.5406, device='cuda:0', grad_fn=<NegBackward0>) [tensor(-36.7660, device='cuda:0', grad_fn=<NegBackward0>), tensor(-9.7934, device='cuda:0', grad_fn=<NegBackward0>), tensor(-86.9812, device='cuda:0', grad_fn=<AddBackward0>)]\n",
      "4.896795344784709\n",
      "tensor(-134.3754, device='cuda:0', grad_fn=<NegBackward0>) [tensor(-36.5623, device='cuda:0', grad_fn=<NegBackward0>), tensor(-9.6256, device='cuda:0', grad_fn=<NegBackward0>), tensor(-88.1875, device='cuda:0', grad_fn=<AddBackward0>)]\n",
      "tensor(-133.1984, device='cuda:0', grad_fn=<NegBackward0>) [tensor(-36.5623, device='cuda:0', grad_fn=<NegBackward0>), tensor(-8.8124, device='cuda:0', grad_fn=<NegBackward0>), tensor(-87.8237, device='cuda:0', grad_fn=<AddBackward0>)]\n",
      "5.129152269623512\n",
      "tensor(-133.3463, device='cuda:0', grad_fn=<NegBackward0>) [tensor(-36.5407, device='cuda:0', grad_fn=<NegBackward0>), tensor(-9.0042, device='cuda:0', grad_fn=<NegBackward0>), tensor(-87.8015, device='cuda:0', grad_fn=<AddBackward0>)]\n",
      "tensor(-133.0330, device='cuda:0', grad_fn=<NegBackward0>) [tensor(-36.5407, device='cuda:0', grad_fn=<NegBackward0>), tensor(-8.8604, device='cuda:0', grad_fn=<NegBackward0>), tensor(-87.6319, device='cuda:0', grad_fn=<AddBackward0>)]\n",
      "5.026192656882175\n",
      "tensor(-134.1319, device='cuda:0', grad_fn=<NegBackward0>) [tensor(-36.6532, device='cuda:0', grad_fn=<NegBackward0>), tensor(-9.2698, device='cuda:0', grad_fn=<NegBackward0>), tensor(-88.2089, device='cuda:0', grad_fn=<AddBackward0>)]\n",
      "tensor(-134.5594, device='cuda:0', grad_fn=<NegBackward0>) [tensor(-36.6532, device='cuda:0', grad_fn=<NegBackward0>), tensor(-9.5434, device='cuda:0', grad_fn=<NegBackward0>), tensor(-88.3627, device='cuda:0', grad_fn=<AddBackward0>)]\n",
      "5.352258640306201\n",
      "tensor(-135.2670, device='cuda:0', grad_fn=<NegBackward0>) [tensor(-36.6789, device='cuda:0', grad_fn=<NegBackward0>), tensor(-9.2904, device='cuda:0', grad_fn=<NegBackward0>), tensor(-89.2977, device='cuda:0', grad_fn=<AddBackward0>)]\n",
      "tensor(-132.3380, device='cuda:0', grad_fn=<NegBackward0>) [tensor(-36.6789, device='cuda:0', grad_fn=<NegBackward0>), tensor(-7.8070, device='cuda:0', grad_fn=<NegBackward0>), tensor(-87.8521, device='cuda:0', grad_fn=<AddBackward0>)]\n",
      "5.368403865884404\n",
      "tensor(-134.5443, device='cuda:0', grad_fn=<NegBackward0>) [tensor(-36.8495, device='cuda:0', grad_fn=<NegBackward0>), tensor(-9.2334, device='cuda:0', grad_fn=<NegBackward0>), tensor(-88.4614, device='cuda:0', grad_fn=<AddBackward0>)]\n",
      "tensor(-133.1375, device='cuda:0', grad_fn=<NegBackward0>) [tensor(-36.8495, device='cuda:0', grad_fn=<NegBackward0>), tensor(-8.3485, device='cuda:0', grad_fn=<NegBackward0>), tensor(-87.9395, device='cuda:0', grad_fn=<AddBackward0>)]\n",
      "4.83969791925074\n",
      "tensor(-133.9294, device='cuda:0', grad_fn=<NegBackward0>) [tensor(-36.7690, device='cuda:0', grad_fn=<NegBackward0>), tensor(-9.3458, device='cuda:0', grad_fn=<NegBackward0>), tensor(-87.8146, device='cuda:0', grad_fn=<AddBackward0>)]\n",
      "tensor(-133.6335, device='cuda:0', grad_fn=<NegBackward0>) [tensor(-36.7690, device='cuda:0', grad_fn=<NegBackward0>), tensor(-9.4088, device='cuda:0', grad_fn=<NegBackward0>), tensor(-87.4557, device='cuda:0', grad_fn=<AddBackward0>)]\n",
      "4.914280386522003\n",
      "tensor(-134.7679, device='cuda:0', grad_fn=<NegBackward0>) [tensor(-36.7527, device='cuda:0', grad_fn=<NegBackward0>), tensor(-9.3028, device='cuda:0', grad_fn=<NegBackward0>), tensor(-88.7124, device='cuda:0', grad_fn=<AddBackward0>)]\n",
      "tensor(-134.0152, device='cuda:0', grad_fn=<NegBackward0>) [tensor(-36.7527, device='cuda:0', grad_fn=<NegBackward0>), tensor(-9.2760, device='cuda:0', grad_fn=<NegBackward0>), tensor(-87.9865, device='cuda:0', grad_fn=<AddBackward0>)]\n"
     ]
    },
    {
     "name": "stdout",
     "output_type": "stream",
     "text": [
      "4.7698403949293136\n",
      "tensor(-132.8960, device='cuda:0', grad_fn=<NegBackward0>) [tensor(-36.7448, device='cuda:0', grad_fn=<NegBackward0>), tensor(-8.8185, device='cuda:0', grad_fn=<NegBackward0>), tensor(-87.3327, device='cuda:0', grad_fn=<AddBackward0>)]\n",
      "tensor(-133.2838, device='cuda:0', grad_fn=<NegBackward0>) [tensor(-36.7448, device='cuda:0', grad_fn=<NegBackward0>), tensor(-9.2313, device='cuda:0', grad_fn=<NegBackward0>), tensor(-87.3077, device='cuda:0', grad_fn=<AddBackward0>)]\n",
      "5.09638899192667\n",
      "tensor(-133.6103, device='cuda:0', grad_fn=<NegBackward0>) [tensor(-36.6926, device='cuda:0', grad_fn=<NegBackward0>), tensor(-8.5312, device='cuda:0', grad_fn=<NegBackward0>), tensor(-88.3866, device='cuda:0', grad_fn=<AddBackward0>)]\n",
      "tensor(-133.7623, device='cuda:0', grad_fn=<NegBackward0>) [tensor(-36.6926, device='cuda:0', grad_fn=<NegBackward0>), tensor(-9.3078, device='cuda:0', grad_fn=<NegBackward0>), tensor(-87.7618, device='cuda:0', grad_fn=<AddBackward0>)]\n",
      "5.043360252795911\n",
      "tensor(-134.7200, device='cuda:0', grad_fn=<NegBackward0>) [tensor(-36.7216, device='cuda:0', grad_fn=<NegBackward0>), tensor(-9.1990, device='cuda:0', grad_fn=<NegBackward0>), tensor(-88.7995, device='cuda:0', grad_fn=<AddBackward0>)]\n",
      "tensor(-132.7582, device='cuda:0', grad_fn=<NegBackward0>) [tensor(-36.7216, device='cuda:0', grad_fn=<NegBackward0>), tensor(-8.6906, device='cuda:0', grad_fn=<NegBackward0>), tensor(-87.3460, device='cuda:0', grad_fn=<AddBackward0>)]\n",
      "5.933763540023769\n",
      "tensor(-132.8692, device='cuda:0', grad_fn=<NegBackward0>) [tensor(-36.7724, device='cuda:0', grad_fn=<NegBackward0>), tensor(-8.4061, device='cuda:0', grad_fn=<NegBackward0>), tensor(-87.6907, device='cuda:0', grad_fn=<AddBackward0>)]\n",
      "tensor(-134.6250, device='cuda:0', grad_fn=<NegBackward0>) [tensor(-36.7724, device='cuda:0', grad_fn=<NegBackward0>), tensor(-8.7521, device='cuda:0', grad_fn=<NegBackward0>), tensor(-89.1006, device='cuda:0', grad_fn=<AddBackward0>)]\n",
      "4.583799340533066\n",
      "tensor(-133.6436, device='cuda:0', grad_fn=<NegBackward0>) [tensor(-36.8144, device='cuda:0', grad_fn=<NegBackward0>), tensor(-9.6784, device='cuda:0', grad_fn=<NegBackward0>), tensor(-87.1509, device='cuda:0', grad_fn=<AddBackward0>)]\n",
      "tensor(-134.5024, device='cuda:0', grad_fn=<NegBackward0>) [tensor(-36.8144, device='cuda:0', grad_fn=<NegBackward0>), tensor(-9.9016, device='cuda:0', grad_fn=<NegBackward0>), tensor(-87.7865, device='cuda:0', grad_fn=<AddBackward0>)]\n",
      "5.221884415843848\n",
      "tensor(-131.1913, device='cuda:0', grad_fn=<NegBackward0>) [tensor(-36.7863, device='cuda:0', grad_fn=<NegBackward0>), tensor(-7.7657, device='cuda:0', grad_fn=<NegBackward0>), tensor(-86.6394, device='cuda:0', grad_fn=<AddBackward0>)]\n",
      "tensor(-134.9670, device='cuda:0', grad_fn=<NegBackward0>) [tensor(-36.7863, device='cuda:0', grad_fn=<NegBackward0>), tensor(-9.3998, device='cuda:0', grad_fn=<NegBackward0>), tensor(-88.7810, device='cuda:0', grad_fn=<AddBackward0>)]\n",
      "4.707592078877651\n",
      "tensor(-136.1626, device='cuda:0', grad_fn=<NegBackward0>) [tensor(-36.7315, device='cuda:0', grad_fn=<NegBackward0>), tensor(-10.4783, device='cuda:0', grad_fn=<NegBackward0>), tensor(-88.9528, device='cuda:0', grad_fn=<AddBackward0>)]\n",
      "tensor(-131.0256, device='cuda:0', grad_fn=<NegBackward0>) [tensor(-36.7315, device='cuda:0', grad_fn=<NegBackward0>), tensor(-8.7388, device='cuda:0', grad_fn=<NegBackward0>), tensor(-85.5553, device='cuda:0', grad_fn=<AddBackward0>)]\n",
      "4.812019099679367\n",
      "tensor(-133.7156, device='cuda:0', grad_fn=<NegBackward0>) [tensor(-36.6916, device='cuda:0', grad_fn=<NegBackward0>), tensor(-9.6137, device='cuda:0', grad_fn=<NegBackward0>), tensor(-87.4104, device='cuda:0', grad_fn=<AddBackward0>)]\n",
      "tensor(-134.7860, device='cuda:0', grad_fn=<NegBackward0>) [tensor(-36.6916, device='cuda:0', grad_fn=<NegBackward0>), tensor(-9.3958, device='cuda:0', grad_fn=<NegBackward0>), tensor(-88.6986, device='cuda:0', grad_fn=<AddBackward0>)]\n",
      "4.7966389464357935\n",
      "tensor(-133.4265, device='cuda:0', grad_fn=<NegBackward0>) [tensor(-36.5973, device='cuda:0', grad_fn=<NegBackward0>), tensor(-9.0604, device='cuda:0', grad_fn=<NegBackward0>), tensor(-87.7688, device='cuda:0', grad_fn=<AddBackward0>)]\n",
      "tensor(-132.2061, device='cuda:0', grad_fn=<NegBackward0>) [tensor(-36.5973, device='cuda:0', grad_fn=<NegBackward0>), tensor(-8.5036, device='cuda:0', grad_fn=<NegBackward0>), tensor(-87.1052, device='cuda:0', grad_fn=<AddBackward0>)]\n",
      "5.337350086805194\n",
      "tensor(-133.4550, device='cuda:0', grad_fn=<NegBackward0>) [tensor(-36.6212, device='cuda:0', grad_fn=<NegBackward0>), tensor(-8.9616, device='cuda:0', grad_fn=<NegBackward0>), tensor(-87.8722, device='cuda:0', grad_fn=<AddBackward0>)]\n",
      "tensor(-134.6755, device='cuda:0', grad_fn=<NegBackward0>) [tensor(-36.6212, device='cuda:0', grad_fn=<NegBackward0>), tensor(-9.0275, device='cuda:0', grad_fn=<NegBackward0>), tensor(-89.0267, device='cuda:0', grad_fn=<AddBackward0>)]\n",
      "4.830275217200811\n",
      "tensor(-132.3601, device='cuda:0', grad_fn=<NegBackward0>) [tensor(-36.4973, device='cuda:0', grad_fn=<NegBackward0>), tensor(-9.1354, device='cuda:0', grad_fn=<NegBackward0>), tensor(-86.7274, device='cuda:0', grad_fn=<AddBackward0>)]\n",
      "tensor(-133.7831, device='cuda:0', grad_fn=<NegBackward0>) [tensor(-36.4973, device='cuda:0', grad_fn=<NegBackward0>), tensor(-9.2405, device='cuda:0', grad_fn=<NegBackward0>), tensor(-88.0453, device='cuda:0', grad_fn=<AddBackward0>)]\n",
      "5.192722032716256\n",
      "tensor(-133.5549, device='cuda:0', grad_fn=<NegBackward0>) [tensor(-36.4233, device='cuda:0', grad_fn=<NegBackward0>), tensor(-8.9886, device='cuda:0', grad_fn=<NegBackward0>), tensor(-88.1429, device='cuda:0', grad_fn=<AddBackward0>)]\n",
      "tensor(-133.0072, device='cuda:0', grad_fn=<NegBackward0>) [tensor(-36.4233, device='cuda:0', grad_fn=<NegBackward0>), tensor(-8.9451, device='cuda:0', grad_fn=<NegBackward0>), tensor(-87.6388, device='cuda:0', grad_fn=<AddBackward0>)]\n",
      "5.250263950061567\n",
      "tensor(-133.9449, device='cuda:0', grad_fn=<NegBackward0>) [tensor(-36.5562, device='cuda:0', grad_fn=<NegBackward0>), tensor(-9.1839, device='cuda:0', grad_fn=<NegBackward0>), tensor(-88.2047, device='cuda:0', grad_fn=<AddBackward0>)]\n",
      "tensor(-131.2608, device='cuda:0', grad_fn=<NegBackward0>) [tensor(-36.5562, device='cuda:0', grad_fn=<NegBackward0>), tensor(-8.0496, device='cuda:0', grad_fn=<NegBackward0>), tensor(-86.6549, device='cuda:0', grad_fn=<AddBackward0>)]\n",
      "4.650663054346581\n",
      "tensor(-133.4563, device='cuda:0', grad_fn=<NegBackward0>) [tensor(-36.7045, device='cuda:0', grad_fn=<NegBackward0>), tensor(-9.6752, device='cuda:0', grad_fn=<NegBackward0>), tensor(-87.0766, device='cuda:0', grad_fn=<AddBackward0>)]\n",
      "tensor(-133.9408, device='cuda:0', grad_fn=<NegBackward0>) [tensor(-36.7045, device='cuda:0', grad_fn=<NegBackward0>), tensor(-9.2175, device='cuda:0', grad_fn=<NegBackward0>), tensor(-88.0187, device='cuda:0', grad_fn=<AddBackward0>)]\n",
      "4.6739756230879275\n",
      "tensor(-135.4977, device='cuda:0', grad_fn=<NegBackward0>) [tensor(-36.8247, device='cuda:0', grad_fn=<NegBackward0>), tensor(-10.2030, device='cuda:0', grad_fn=<NegBackward0>), tensor(-88.4700, device='cuda:0', grad_fn=<AddBackward0>)]\n",
      "tensor(-132.6596, device='cuda:0', grad_fn=<NegBackward0>) [tensor(-36.8247, device='cuda:0', grad_fn=<NegBackward0>), tensor(-9.1400, device='cuda:0', grad_fn=<NegBackward0>), tensor(-86.6949, device='cuda:0', grad_fn=<AddBackward0>)]\n",
      "4.979231817014576\n",
      "tensor(-131.4172, device='cuda:0', grad_fn=<NegBackward0>) [tensor(-36.8561, device='cuda:0', grad_fn=<NegBackward0>), tensor(-7.5377, device='cuda:0', grad_fn=<NegBackward0>), tensor(-87.0234, device='cuda:0', grad_fn=<AddBackward0>)]\n",
      "tensor(-135.5291, device='cuda:0', grad_fn=<NegBackward0>) [tensor(-36.8561, device='cuda:0', grad_fn=<NegBackward0>), tensor(-9.8571, device='cuda:0', grad_fn=<NegBackward0>), tensor(-88.8159, device='cuda:0', grad_fn=<AddBackward0>)]\n",
      "5.023659460126097\n",
      "tensor(-135.4317, device='cuda:0', grad_fn=<NegBackward0>) [tensor(-36.8349, device='cuda:0', grad_fn=<NegBackward0>), tensor(-9.6326, device='cuda:0', grad_fn=<NegBackward0>), tensor(-88.9642, device='cuda:0', grad_fn=<AddBackward0>)]\n",
      "tensor(-134.5188, device='cuda:0', grad_fn=<NegBackward0>) [tensor(-36.8349, device='cuda:0', grad_fn=<NegBackward0>), tensor(-9.1628, device='cuda:0', grad_fn=<NegBackward0>), tensor(-88.5211, device='cuda:0', grad_fn=<AddBackward0>)]\n"
     ]
    },
    {
     "name": "stdout",
     "output_type": "stream",
     "text": [
      "5.0891012986850415\n",
      "tensor(-133.8262, device='cuda:0', grad_fn=<NegBackward0>) [tensor(-36.9014, device='cuda:0', grad_fn=<NegBackward0>), tensor(-8.8263, device='cuda:0', grad_fn=<NegBackward0>), tensor(-88.0986, device='cuda:0', grad_fn=<AddBackward0>)]\n",
      "tensor(-135.9170, device='cuda:0', grad_fn=<NegBackward0>) [tensor(-36.9014, device='cuda:0', grad_fn=<NegBackward0>), tensor(-10.0086, device='cuda:0', grad_fn=<NegBackward0>), tensor(-89.0070, device='cuda:0', grad_fn=<AddBackward0>)]\n",
      "4.969341540441611\n",
      "tensor(-134.2235, device='cuda:0', grad_fn=<NegBackward0>) [tensor(-36.8893, device='cuda:0', grad_fn=<NegBackward0>), tensor(-9.0197, device='cuda:0', grad_fn=<NegBackward0>), tensor(-88.3146, device='cuda:0', grad_fn=<AddBackward0>)]\n",
      "tensor(-133.5736, device='cuda:0', grad_fn=<NegBackward0>) [tensor(-36.8893, device='cuda:0', grad_fn=<NegBackward0>), tensor(-8.5390, device='cuda:0', grad_fn=<NegBackward0>), tensor(-88.1453, device='cuda:0', grad_fn=<AddBackward0>)]\n",
      "4.714923132969687\n",
      "tensor(-133.5436, device='cuda:0', grad_fn=<NegBackward0>) [tensor(-36.9043, device='cuda:0', grad_fn=<NegBackward0>), tensor(-9.1794, device='cuda:0', grad_fn=<NegBackward0>), tensor(-87.4599, device='cuda:0', grad_fn=<AddBackward0>)]\n",
      "tensor(-135.2613, device='cuda:0', grad_fn=<NegBackward0>) [tensor(-36.9043, device='cuda:0', grad_fn=<NegBackward0>), tensor(-9.6057, device='cuda:0', grad_fn=<NegBackward0>), tensor(-88.7513, device='cuda:0', grad_fn=<AddBackward0>)]\n",
      "5.485121860696946\n",
      "tensor(-134.5292, device='cuda:0', grad_fn=<NegBackward0>) [tensor(-36.8674, device='cuda:0', grad_fn=<NegBackward0>), tensor(-9.0855, device='cuda:0', grad_fn=<NegBackward0>), tensor(-88.5763, device='cuda:0', grad_fn=<AddBackward0>)]\n",
      "tensor(-134.0220, device='cuda:0', grad_fn=<NegBackward0>) [tensor(-36.8674, device='cuda:0', grad_fn=<NegBackward0>), tensor(-8.8252, device='cuda:0', grad_fn=<NegBackward0>), tensor(-88.3294, device='cuda:0', grad_fn=<AddBackward0>)]\n",
      "5.2790690430772305\n",
      "tensor(-134.3998, device='cuda:0', grad_fn=<NegBackward0>) [tensor(-36.9144, device='cuda:0', grad_fn=<NegBackward0>), tensor(-8.6094, device='cuda:0', grad_fn=<NegBackward0>), tensor(-88.8761, device='cuda:0', grad_fn=<AddBackward0>)]\n",
      "tensor(-134.6866, device='cuda:0', grad_fn=<NegBackward0>) [tensor(-36.9144, device='cuda:0', grad_fn=<NegBackward0>), tensor(-8.7878, device='cuda:0', grad_fn=<NegBackward0>), tensor(-88.9845, device='cuda:0', grad_fn=<AddBackward0>)]\n",
      "4.847337762249716\n",
      "tensor(-133.6884, device='cuda:0', grad_fn=<NegBackward0>) [tensor(-36.9736, device='cuda:0', grad_fn=<NegBackward0>), tensor(-8.7836, device='cuda:0', grad_fn=<NegBackward0>), tensor(-87.9312, device='cuda:0', grad_fn=<AddBackward0>)]\n",
      "tensor(-133.9772, device='cuda:0', grad_fn=<NegBackward0>) [tensor(-36.9736, device='cuda:0', grad_fn=<NegBackward0>), tensor(-8.8001, device='cuda:0', grad_fn=<NegBackward0>), tensor(-88.2035, device='cuda:0', grad_fn=<AddBackward0>)]\n",
      "4.746079598583668\n",
      "tensor(-134.1207, device='cuda:0', grad_fn=<NegBackward0>) [tensor(-36.9647, device='cuda:0', grad_fn=<NegBackward0>), tensor(-9.0787, device='cuda:0', grad_fn=<NegBackward0>), tensor(-88.0773, device='cuda:0', grad_fn=<AddBackward0>)]\n",
      "tensor(-133.3785, device='cuda:0', grad_fn=<NegBackward0>) [tensor(-36.9647, device='cuda:0', grad_fn=<NegBackward0>), tensor(-9.0857, device='cuda:0', grad_fn=<NegBackward0>), tensor(-87.3281, device='cuda:0', grad_fn=<AddBackward0>)]\n",
      "5.354074162573535\n",
      "tensor(-132.9703, device='cuda:0', grad_fn=<NegBackward0>) [tensor(-36.9085, device='cuda:0', grad_fn=<NegBackward0>), tensor(-8.2987, device='cuda:0', grad_fn=<NegBackward0>), tensor(-87.7630, device='cuda:0', grad_fn=<AddBackward0>)]\n",
      "tensor(-134.6258, device='cuda:0', grad_fn=<NegBackward0>) [tensor(-36.9085, device='cuda:0', grad_fn=<NegBackward0>), tensor(-9.5555, device='cuda:0', grad_fn=<NegBackward0>), tensor(-88.1618, device='cuda:0', grad_fn=<AddBackward0>)]\n",
      "5.062758943840227\n",
      "tensor(-134.7929, device='cuda:0', grad_fn=<NegBackward0>) [tensor(-36.9292, device='cuda:0', grad_fn=<NegBackward0>), tensor(-9.1757, device='cuda:0', grad_fn=<NegBackward0>), tensor(-88.6880, device='cuda:0', grad_fn=<AddBackward0>)]\n",
      "tensor(-135.0009, device='cuda:0', grad_fn=<NegBackward0>) [tensor(-36.9292, device='cuda:0', grad_fn=<NegBackward0>), tensor(-9.3628, device='cuda:0', grad_fn=<NegBackward0>), tensor(-88.7088, device='cuda:0', grad_fn=<AddBackward0>)]\n",
      "4.963545946862152\n",
      "tensor(-131.8765, device='cuda:0', grad_fn=<NegBackward0>) [tensor(-36.8317, device='cuda:0', grad_fn=<NegBackward0>), tensor(-8.1587, device='cuda:0', grad_fn=<NegBackward0>), tensor(-86.8862, device='cuda:0', grad_fn=<AddBackward0>)]\n",
      "tensor(-135.2286, device='cuda:0', grad_fn=<NegBackward0>) [tensor(-36.8317, device='cuda:0', grad_fn=<NegBackward0>), tensor(-9.3894, device='cuda:0', grad_fn=<NegBackward0>), tensor(-89.0075, device='cuda:0', grad_fn=<AddBackward0>)]\n",
      "5.048350554747684\n",
      "tensor(-133.9649, device='cuda:0', grad_fn=<NegBackward0>) [tensor(-36.8509, device='cuda:0', grad_fn=<NegBackward0>), tensor(-8.8598, device='cuda:0', grad_fn=<NegBackward0>), tensor(-88.2542, device='cuda:0', grad_fn=<AddBackward0>)]\n",
      "tensor(-133.7529, device='cuda:0', grad_fn=<NegBackward0>) [tensor(-36.8509, device='cuda:0', grad_fn=<NegBackward0>), tensor(-8.7633, device='cuda:0', grad_fn=<NegBackward0>), tensor(-88.1387, device='cuda:0', grad_fn=<AddBackward0>)]\n",
      "4.756484945640101\n",
      "tensor(-135.6797, device='cuda:0', grad_fn=<NegBackward0>) [tensor(-36.9005, device='cuda:0', grad_fn=<NegBackward0>), tensor(-9.9964, device='cuda:0', grad_fn=<NegBackward0>), tensor(-88.7827, device='cuda:0', grad_fn=<AddBackward0>)]\n",
      "tensor(-135.5390, device='cuda:0', grad_fn=<NegBackward0>) [tensor(-36.9005, device='cuda:0', grad_fn=<NegBackward0>), tensor(-9.8150, device='cuda:0', grad_fn=<NegBackward0>), tensor(-88.8235, device='cuda:0', grad_fn=<AddBackward0>)]\n",
      "5.180127935126582\n",
      "tensor(-134.9736, device='cuda:0', grad_fn=<NegBackward0>) [tensor(-36.8990, device='cuda:0', grad_fn=<NegBackward0>), tensor(-9.3383, device='cuda:0', grad_fn=<NegBackward0>), tensor(-88.7364, device='cuda:0', grad_fn=<AddBackward0>)]\n",
      "tensor(-134.4911, device='cuda:0', grad_fn=<NegBackward0>) [tensor(-36.8990, device='cuda:0', grad_fn=<NegBackward0>), tensor(-9.0349, device='cuda:0', grad_fn=<NegBackward0>), tensor(-88.5573, device='cuda:0', grad_fn=<AddBackward0>)]\n",
      "4.880460482632181\n",
      "tensor(-134.4627, device='cuda:0', grad_fn=<NegBackward0>) [tensor(-36.9273, device='cuda:0', grad_fn=<NegBackward0>), tensor(-9.5024, device='cuda:0', grad_fn=<NegBackward0>), tensor(-88.0330, device='cuda:0', grad_fn=<AddBackward0>)]\n",
      "tensor(-134.3022, device='cuda:0', grad_fn=<NegBackward0>) [tensor(-36.9273, device='cuda:0', grad_fn=<NegBackward0>), tensor(-9.0794, device='cuda:0', grad_fn=<NegBackward0>), tensor(-88.2955, device='cuda:0', grad_fn=<AddBackward0>)]\n",
      "4.878682944884985\n",
      "tensor(-136.1225, device='cuda:0', grad_fn=<NegBackward0>) [tensor(-36.8754, device='cuda:0', grad_fn=<NegBackward0>), tensor(-9.8877, device='cuda:0', grad_fn=<NegBackward0>), tensor(-89.3595, device='cuda:0', grad_fn=<AddBackward0>)]\n",
      "tensor(-133.4702, device='cuda:0', grad_fn=<NegBackward0>) [tensor(-36.8754, device='cuda:0', grad_fn=<NegBackward0>), tensor(-8.8112, device='cuda:0', grad_fn=<NegBackward0>), tensor(-87.7836, device='cuda:0', grad_fn=<AddBackward0>)]\n",
      "5.186365876051202\n",
      "tensor(-135.3207, device='cuda:0', grad_fn=<NegBackward0>) [tensor(-36.9183, device='cuda:0', grad_fn=<NegBackward0>), tensor(-9.0937, device='cuda:0', grad_fn=<NegBackward0>), tensor(-89.3087, device='cuda:0', grad_fn=<AddBackward0>)]\n",
      "tensor(-135.3884, device='cuda:0', grad_fn=<NegBackward0>) [tensor(-36.9183, device='cuda:0', grad_fn=<NegBackward0>), tensor(-9.3176, device='cuda:0', grad_fn=<NegBackward0>), tensor(-89.1525, device='cuda:0', grad_fn=<AddBackward0>)]\n",
      "5.032809203784058\n",
      "tensor(-135.4557, device='cuda:0', grad_fn=<NegBackward0>) [tensor(-36.9509, device='cuda:0', grad_fn=<NegBackward0>), tensor(-9.7329, device='cuda:0', grad_fn=<NegBackward0>), tensor(-88.7719, device='cuda:0', grad_fn=<AddBackward0>)]\n",
      "tensor(-133.3524, device='cuda:0', grad_fn=<NegBackward0>) [tensor(-36.9509, device='cuda:0', grad_fn=<NegBackward0>), tensor(-8.7103, device='cuda:0', grad_fn=<NegBackward0>), tensor(-87.6911, device='cuda:0', grad_fn=<AddBackward0>)]\n"
     ]
    },
    {
     "name": "stdout",
     "output_type": "stream",
     "text": [
      "4.830643944924983\n",
      "tensor(-135.0102, device='cuda:0', grad_fn=<NegBackward0>) [tensor(-36.9300, device='cuda:0', grad_fn=<NegBackward0>), tensor(-9.2846, device='cuda:0', grad_fn=<NegBackward0>), tensor(-88.7956, device='cuda:0', grad_fn=<AddBackward0>)]\n",
      "tensor(-134.2776, device='cuda:0', grad_fn=<NegBackward0>) [tensor(-36.9300, device='cuda:0', grad_fn=<NegBackward0>), tensor(-9.2435, device='cuda:0', grad_fn=<NegBackward0>), tensor(-88.1041, device='cuda:0', grad_fn=<AddBackward0>)]\n",
      "5.113366719763345\n",
      "tensor(-136.5580, device='cuda:0', grad_fn=<NegBackward0>) [tensor(-36.9425, device='cuda:0', grad_fn=<NegBackward0>), tensor(-9.9376, device='cuda:0', grad_fn=<NegBackward0>), tensor(-89.6779, device='cuda:0', grad_fn=<AddBackward0>)]\n",
      "tensor(-135.0544, device='cuda:0', grad_fn=<NegBackward0>) [tensor(-36.9425, device='cuda:0', grad_fn=<NegBackward0>), tensor(-9.1973, device='cuda:0', grad_fn=<NegBackward0>), tensor(-88.9146, device='cuda:0', grad_fn=<AddBackward0>)]\n",
      "5.0975765007012495\n",
      "tensor(-136.5713, device='cuda:0', grad_fn=<NegBackward0>) [tensor(-36.9629, device='cuda:0', grad_fn=<NegBackward0>), tensor(-9.7837, device='cuda:0', grad_fn=<NegBackward0>), tensor(-89.8246, device='cuda:0', grad_fn=<AddBackward0>)]\n",
      "tensor(-133.5949, device='cuda:0', grad_fn=<NegBackward0>) [tensor(-36.9629, device='cuda:0', grad_fn=<NegBackward0>), tensor(-9.0247, device='cuda:0', grad_fn=<NegBackward0>), tensor(-87.6072, device='cuda:0', grad_fn=<AddBackward0>)]\n",
      "5.110798963674204\n",
      "tensor(-135.6778, device='cuda:0', grad_fn=<NegBackward0>) [tensor(-36.9240, device='cuda:0', grad_fn=<NegBackward0>), tensor(-9.6213, device='cuda:0', grad_fn=<NegBackward0>), tensor(-89.1325, device='cuda:0', grad_fn=<AddBackward0>)]\n",
      "tensor(-133.9111, device='cuda:0', grad_fn=<NegBackward0>) [tensor(-36.9240, device='cuda:0', grad_fn=<NegBackward0>), tensor(-8.7040, device='cuda:0', grad_fn=<NegBackward0>), tensor(-88.2831, device='cuda:0', grad_fn=<AddBackward0>)]\n",
      "4.93120689567996\n",
      "tensor(-134.6607, device='cuda:0', grad_fn=<NegBackward0>) [tensor(-36.9343, device='cuda:0', grad_fn=<NegBackward0>), tensor(-9.1390, device='cuda:0', grad_fn=<NegBackward0>), tensor(-88.5874, device='cuda:0', grad_fn=<AddBackward0>)]\n",
      "tensor(-133.6356, device='cuda:0', grad_fn=<NegBackward0>) [tensor(-36.9343, device='cuda:0', grad_fn=<NegBackward0>), tensor(-9.0391, device='cuda:0', grad_fn=<NegBackward0>), tensor(-87.6622, device='cuda:0', grad_fn=<AddBackward0>)]\n",
      "5.106630301651053\n",
      "tensor(-135.0941, device='cuda:0', grad_fn=<NegBackward0>) [tensor(-36.9309, device='cuda:0', grad_fn=<NegBackward0>), tensor(-9.0146, device='cuda:0', grad_fn=<NegBackward0>), tensor(-89.1487, device='cuda:0', grad_fn=<AddBackward0>)]\n",
      "tensor(-135.5859, device='cuda:0', grad_fn=<NegBackward0>) [tensor(-36.9309, device='cuda:0', grad_fn=<NegBackward0>), tensor(-9.3265, device='cuda:0', grad_fn=<NegBackward0>), tensor(-89.3285, device='cuda:0', grad_fn=<AddBackward0>)]\n",
      "5.362242626864854\n",
      "tensor(-135.2409, device='cuda:0', grad_fn=<NegBackward0>) [tensor(-36.9334, device='cuda:0', grad_fn=<NegBackward0>), tensor(-9.3960, device='cuda:0', grad_fn=<NegBackward0>), tensor(-88.9115, device='cuda:0', grad_fn=<AddBackward0>)]\n",
      "tensor(-136.5351, device='cuda:0', grad_fn=<NegBackward0>) [tensor(-36.9334, device='cuda:0', grad_fn=<NegBackward0>), tensor(-10.0264, device='cuda:0', grad_fn=<NegBackward0>), tensor(-89.5753, device='cuda:0', grad_fn=<AddBackward0>)]\n",
      "5.063952480326055\n",
      "tensor(-135.6807, device='cuda:0', grad_fn=<NegBackward0>) [tensor(-36.9019, device='cuda:0', grad_fn=<NegBackward0>), tensor(-9.2223, device='cuda:0', grad_fn=<NegBackward0>), tensor(-89.5565, device='cuda:0', grad_fn=<AddBackward0>)]\n",
      "tensor(-135.4760, device='cuda:0', grad_fn=<NegBackward0>) [tensor(-36.9019, device='cuda:0', grad_fn=<NegBackward0>), tensor(-9.7444, device='cuda:0', grad_fn=<NegBackward0>), tensor(-88.8297, device='cuda:0', grad_fn=<AddBackward0>)]\n",
      "4.667953092399228\n",
      "tensor(-134.9574, device='cuda:0', grad_fn=<NegBackward0>) [tensor(-36.9545, device='cuda:0', grad_fn=<NegBackward0>), tensor(-9.6150, device='cuda:0', grad_fn=<NegBackward0>), tensor(-88.3879, device='cuda:0', grad_fn=<AddBackward0>)]\n",
      "tensor(-134.6666, device='cuda:0', grad_fn=<NegBackward0>) [tensor(-36.9545, device='cuda:0', grad_fn=<NegBackward0>), tensor(-9.3903, device='cuda:0', grad_fn=<NegBackward0>), tensor(-88.3218, device='cuda:0', grad_fn=<AddBackward0>)]\n",
      "4.526235024644639\n",
      "tensor(-134.6899, device='cuda:0', grad_fn=<NegBackward0>) [tensor(-36.9726, device='cuda:0', grad_fn=<NegBackward0>), tensor(-9.7771, device='cuda:0', grad_fn=<NegBackward0>), tensor(-87.9402, device='cuda:0', grad_fn=<AddBackward0>)]\n",
      "tensor(-135.0382, device='cuda:0', grad_fn=<NegBackward0>) [tensor(-36.9726, device='cuda:0', grad_fn=<NegBackward0>), tensor(-10.4718, device='cuda:0', grad_fn=<NegBackward0>), tensor(-87.5938, device='cuda:0', grad_fn=<AddBackward0>)]\n",
      "5.268426945682214\n",
      "tensor(-134.2455, device='cuda:0', grad_fn=<NegBackward0>) [tensor(-36.8441, device='cuda:0', grad_fn=<NegBackward0>), tensor(-8.7217, device='cuda:0', grad_fn=<NegBackward0>), tensor(-88.6797, device='cuda:0', grad_fn=<AddBackward0>)]\n",
      "tensor(-134.1451, device='cuda:0', grad_fn=<NegBackward0>) [tensor(-36.8441, device='cuda:0', grad_fn=<NegBackward0>), tensor(-8.8250, device='cuda:0', grad_fn=<NegBackward0>), tensor(-88.4760, device='cuda:0', grad_fn=<AddBackward0>)]\n",
      "6.063011027161061\n",
      "tensor(-133.2404, device='cuda:0', grad_fn=<NegBackward0>) [tensor(-36.8208, device='cuda:0', grad_fn=<NegBackward0>), tensor(-8.1895, device='cuda:0', grad_fn=<NegBackward0>), tensor(-88.2301, device='cuda:0', grad_fn=<AddBackward0>)]\n",
      "tensor(-133.7365, device='cuda:0', grad_fn=<NegBackward0>) [tensor(-36.8208, device='cuda:0', grad_fn=<NegBackward0>), tensor(-8.3342, device='cuda:0', grad_fn=<NegBackward0>), tensor(-88.5816, device='cuda:0', grad_fn=<AddBackward0>)]\n",
      "5.232956796811736\n",
      "tensor(-132.4918, device='cuda:0', grad_fn=<NegBackward0>) [tensor(-36.9381, device='cuda:0', grad_fn=<NegBackward0>), tensor(-7.8706, device='cuda:0', grad_fn=<NegBackward0>), tensor(-87.6831, device='cuda:0', grad_fn=<AddBackward0>)]\n",
      "tensor(-135.3075, device='cuda:0', grad_fn=<NegBackward0>) [tensor(-36.9381, device='cuda:0', grad_fn=<NegBackward0>), tensor(-9.7099, device='cuda:0', grad_fn=<NegBackward0>), tensor(-88.6595, device='cuda:0', grad_fn=<AddBackward0>)]\n",
      "5.496409767608156\n",
      "tensor(-133.6405, device='cuda:0', grad_fn=<NegBackward0>) [tensor(-36.9902, device='cuda:0', grad_fn=<NegBackward0>), tensor(-8.4299, device='cuda:0', grad_fn=<NegBackward0>), tensor(-88.2204, device='cuda:0', grad_fn=<AddBackward0>)]\n",
      "tensor(-136.2663, device='cuda:0', grad_fn=<NegBackward0>) [tensor(-36.9902, device='cuda:0', grad_fn=<NegBackward0>), tensor(-9.3658, device='cuda:0', grad_fn=<NegBackward0>), tensor(-89.9104, device='cuda:0', grad_fn=<AddBackward0>)]\n",
      "5.033421706399752\n",
      "tensor(-136.3599, device='cuda:0', grad_fn=<NegBackward0>) [tensor(-37.0254, device='cuda:0', grad_fn=<NegBackward0>), tensor(-9.6428, device='cuda:0', grad_fn=<NegBackward0>), tensor(-89.6917, device='cuda:0', grad_fn=<AddBackward0>)]\n",
      "tensor(-135.5848, device='cuda:0', grad_fn=<NegBackward0>) [tensor(-37.0254, device='cuda:0', grad_fn=<NegBackward0>), tensor(-9.6085, device='cuda:0', grad_fn=<NegBackward0>), tensor(-88.9510, device='cuda:0', grad_fn=<AddBackward0>)]\n",
      "4.906107026715854\n",
      "tensor(-135.0841, device='cuda:0', grad_fn=<NegBackward0>) [tensor(-36.9915, device='cuda:0', grad_fn=<NegBackward0>), tensor(-9.1318, device='cuda:0', grad_fn=<NegBackward0>), tensor(-88.9608, device='cuda:0', grad_fn=<AddBackward0>)]\n",
      "tensor(-133.3187, device='cuda:0', grad_fn=<NegBackward0>) [tensor(-36.9915, device='cuda:0', grad_fn=<NegBackward0>), tensor(-8.8909, device='cuda:0', grad_fn=<NegBackward0>), tensor(-87.4363, device='cuda:0', grad_fn=<AddBackward0>)]\n",
      "5.238379185266488\n",
      "tensor(-135.1766, device='cuda:0', grad_fn=<NegBackward0>) [tensor(-36.9781, device='cuda:0', grad_fn=<NegBackward0>), tensor(-9.0752, device='cuda:0', grad_fn=<NegBackward0>), tensor(-89.1233, device='cuda:0', grad_fn=<AddBackward0>)]\n",
      "tensor(-135.0892, device='cuda:0', grad_fn=<NegBackward0>) [tensor(-36.9781, device='cuda:0', grad_fn=<NegBackward0>), tensor(-9.0283, device='cuda:0', grad_fn=<NegBackward0>), tensor(-89.0828, device='cuda:0', grad_fn=<AddBackward0>)]\n"
     ]
    },
    {
     "name": "stdout",
     "output_type": "stream",
     "text": [
      "5.316342038266213\n",
      "tensor(-135.2943, device='cuda:0', grad_fn=<NegBackward0>) [tensor(-36.9430, device='cuda:0', grad_fn=<NegBackward0>), tensor(-9.2772, device='cuda:0', grad_fn=<NegBackward0>), tensor(-89.0741, device='cuda:0', grad_fn=<AddBackward0>)]\n",
      "tensor(-135.6918, device='cuda:0', grad_fn=<NegBackward0>) [tensor(-36.9430, device='cuda:0', grad_fn=<NegBackward0>), tensor(-9.4543, device='cuda:0', grad_fn=<NegBackward0>), tensor(-89.2946, device='cuda:0', grad_fn=<AddBackward0>)]\n",
      "4.964606069430779\n",
      "tensor(-133.4059, device='cuda:0', grad_fn=<NegBackward0>) [tensor(-36.9655, device='cuda:0', grad_fn=<NegBackward0>), tensor(-8.4035, device='cuda:0', grad_fn=<NegBackward0>), tensor(-88.0368, device='cuda:0', grad_fn=<AddBackward0>)]\n",
      "tensor(-134.1179, device='cuda:0', grad_fn=<NegBackward0>) [tensor(-36.9655, device='cuda:0', grad_fn=<NegBackward0>), tensor(-8.8524, device='cuda:0', grad_fn=<NegBackward0>), tensor(-88.3000, device='cuda:0', grad_fn=<AddBackward0>)]\n",
      "5.699913289190729\n",
      "tensor(-133.7164, device='cuda:0', grad_fn=<NegBackward0>) [tensor(-37.0016, device='cuda:0', grad_fn=<NegBackward0>), tensor(-8.3944, device='cuda:0', grad_fn=<NegBackward0>), tensor(-88.3204, device='cuda:0', grad_fn=<AddBackward0>)]\n",
      "tensor(-135.0694, device='cuda:0', grad_fn=<NegBackward0>) [tensor(-37.0016, device='cuda:0', grad_fn=<NegBackward0>), tensor(-8.8855, device='cuda:0', grad_fn=<NegBackward0>), tensor(-89.1824, device='cuda:0', grad_fn=<AddBackward0>)]\n",
      "5.29549081502829\n",
      "tensor(-135.4267, device='cuda:0', grad_fn=<NegBackward0>) [tensor(-37.0857, device='cuda:0', grad_fn=<NegBackward0>), tensor(-9.3446, device='cuda:0', grad_fn=<NegBackward0>), tensor(-88.9964, device='cuda:0', grad_fn=<AddBackward0>)]\n",
      "tensor(-133.7977, device='cuda:0', grad_fn=<NegBackward0>) [tensor(-37.0857, device='cuda:0', grad_fn=<NegBackward0>), tensor(-8.5937, device='cuda:0', grad_fn=<NegBackward0>), tensor(-88.1183, device='cuda:0', grad_fn=<AddBackward0>)]\n",
      "5.279217703852882\n",
      "tensor(-133.9820, device='cuda:0', grad_fn=<NegBackward0>) [tensor(-37.0311, device='cuda:0', grad_fn=<NegBackward0>), tensor(-8.5418, device='cuda:0', grad_fn=<NegBackward0>), tensor(-88.4090, device='cuda:0', grad_fn=<AddBackward0>)]\n",
      "tensor(-132.6403, device='cuda:0', grad_fn=<NegBackward0>) [tensor(-37.0311, device='cuda:0', grad_fn=<NegBackward0>), tensor(-8.0368, device='cuda:0', grad_fn=<NegBackward0>), tensor(-87.5724, device='cuda:0', grad_fn=<AddBackward0>)]\n",
      "4.885288296231895\n",
      "tensor(-134.8354, device='cuda:0', grad_fn=<NegBackward0>) [tensor(-37.1046, device='cuda:0', grad_fn=<NegBackward0>), tensor(-9.2921, device='cuda:0', grad_fn=<NegBackward0>), tensor(-88.4387, device='cuda:0', grad_fn=<AddBackward0>)]\n",
      "tensor(-135.2603, device='cuda:0', grad_fn=<NegBackward0>) [tensor(-37.1046, device='cuda:0', grad_fn=<NegBackward0>), tensor(-9.1876, device='cuda:0', grad_fn=<NegBackward0>), tensor(-88.9681, device='cuda:0', grad_fn=<AddBackward0>)]\n",
      "4.660015730298869\n",
      "tensor(-132.7690, device='cuda:0', grad_fn=<NegBackward0>) [tensor(-37.0083, device='cuda:0', grad_fn=<NegBackward0>), tensor(-8.7223, device='cuda:0', grad_fn=<NegBackward0>), tensor(-87.0384, device='cuda:0', grad_fn=<AddBackward0>)]\n",
      "tensor(-133.2094, device='cuda:0', grad_fn=<NegBackward0>) [tensor(-37.0083, device='cuda:0', grad_fn=<NegBackward0>), tensor(-9.2861, device='cuda:0', grad_fn=<NegBackward0>), tensor(-86.9149, device='cuda:0', grad_fn=<AddBackward0>)]\n",
      "5.219869415703979\n",
      "tensor(-134.6457, device='cuda:0', grad_fn=<NegBackward0>) [tensor(-37.0377, device='cuda:0', grad_fn=<NegBackward0>), tensor(-9.0374, device='cuda:0', grad_fn=<NegBackward0>), tensor(-88.5706, device='cuda:0', grad_fn=<AddBackward0>)]\n",
      "tensor(-133.2207, device='cuda:0', grad_fn=<NegBackward0>) [tensor(-37.0377, device='cuda:0', grad_fn=<NegBackward0>), tensor(-8.5756, device='cuda:0', grad_fn=<NegBackward0>), tensor(-87.6074, device='cuda:0', grad_fn=<AddBackward0>)]\n",
      "6.088499591044103\n",
      "tensor(-135.3401, device='cuda:0', grad_fn=<NegBackward0>) [tensor(-37.0596, device='cuda:0', grad_fn=<NegBackward0>), tensor(-8.8563, device='cuda:0', grad_fn=<NegBackward0>), tensor(-89.4241, device='cuda:0', grad_fn=<AddBackward0>)]\n",
      "tensor(-135.0961, device='cuda:0', grad_fn=<NegBackward0>) [tensor(-37.0596, device='cuda:0', grad_fn=<NegBackward0>), tensor(-8.7370, device='cuda:0', grad_fn=<NegBackward0>), tensor(-89.2994, device='cuda:0', grad_fn=<AddBackward0>)]\n",
      "4.909226089757913\n",
      "tensor(-136.3524, device='cuda:0', grad_fn=<NegBackward0>) [tensor(-37.0797, device='cuda:0', grad_fn=<NegBackward0>), tensor(-9.7571, device='cuda:0', grad_fn=<NegBackward0>), tensor(-89.5156, device='cuda:0', grad_fn=<AddBackward0>)]\n",
      "tensor(-136.3274, device='cuda:0', grad_fn=<NegBackward0>) [tensor(-37.0797, device='cuda:0', grad_fn=<NegBackward0>), tensor(-9.7271, device='cuda:0', grad_fn=<NegBackward0>), tensor(-89.5206, device='cuda:0', grad_fn=<AddBackward0>)]\n",
      "4.489308738303487\n",
      "tensor(-134.3028, device='cuda:0', grad_fn=<NegBackward0>) [tensor(-37.0221, device='cuda:0', grad_fn=<NegBackward0>), tensor(-9.0017, device='cuda:0', grad_fn=<NegBackward0>), tensor(-88.2790, device='cuda:0', grad_fn=<AddBackward0>)]\n",
      "tensor(-133.8564, device='cuda:0', grad_fn=<NegBackward0>) [tensor(-37.0221, device='cuda:0', grad_fn=<NegBackward0>), tensor(-8.9759, device='cuda:0', grad_fn=<NegBackward0>), tensor(-87.8583, device='cuda:0', grad_fn=<AddBackward0>)]\n",
      "5.074777915060798\n",
      "tensor(-134.8559, device='cuda:0', grad_fn=<NegBackward0>) [tensor(-37.0074, device='cuda:0', grad_fn=<NegBackward0>), tensor(-8.8869, device='cuda:0', grad_fn=<NegBackward0>), tensor(-88.9616, device='cuda:0', grad_fn=<AddBackward0>)]\n",
      "tensor(-135.6932, device='cuda:0', grad_fn=<NegBackward0>) [tensor(-37.0074, device='cuda:0', grad_fn=<NegBackward0>), tensor(-9.5492, device='cuda:0', grad_fn=<NegBackward0>), tensor(-89.1365, device='cuda:0', grad_fn=<AddBackward0>)]\n",
      "4.9957125263665345\n",
      "tensor(-136.6183, device='cuda:0', grad_fn=<NegBackward0>) [tensor(-36.9375, device='cuda:0', grad_fn=<NegBackward0>), tensor(-9.8254, device='cuda:0', grad_fn=<NegBackward0>), tensor(-89.8554, device='cuda:0', grad_fn=<AddBackward0>)]\n",
      "tensor(-132.2722, device='cuda:0', grad_fn=<NegBackward0>) [tensor(-36.9375, device='cuda:0', grad_fn=<NegBackward0>), tensor(-8.0058, device='cuda:0', grad_fn=<NegBackward0>), tensor(-87.3289, device='cuda:0', grad_fn=<AddBackward0>)]\n",
      "5.075284896765255\n",
      "tensor(-134.1148, device='cuda:0', grad_fn=<NegBackward0>) [tensor(-36.9978, device='cuda:0', grad_fn=<NegBackward0>), tensor(-8.6440, device='cuda:0', grad_fn=<NegBackward0>), tensor(-88.4730, device='cuda:0', grad_fn=<AddBackward0>)]\n",
      "tensor(-134.5181, device='cuda:0', grad_fn=<NegBackward0>) [tensor(-36.9978, device='cuda:0', grad_fn=<NegBackward0>), tensor(-8.9835, device='cuda:0', grad_fn=<NegBackward0>), tensor(-88.5368, device='cuda:0', grad_fn=<AddBackward0>)]\n",
      "5.121854535195124\n",
      "tensor(-135.6438, device='cuda:0', grad_fn=<NegBackward0>) [tensor(-36.9719, device='cuda:0', grad_fn=<NegBackward0>), tensor(-9.6873, device='cuda:0', grad_fn=<NegBackward0>), tensor(-88.9846, device='cuda:0', grad_fn=<AddBackward0>)]\n",
      "tensor(-134.9277, device='cuda:0', grad_fn=<NegBackward0>) [tensor(-36.9719, device='cuda:0', grad_fn=<NegBackward0>), tensor(-9.0623, device='cuda:0', grad_fn=<NegBackward0>), tensor(-88.8935, device='cuda:0', grad_fn=<AddBackward0>)]\n",
      "4.982846469060325\n",
      "tensor(-132.8141, device='cuda:0', grad_fn=<NegBackward0>) [tensor(-36.9517, device='cuda:0', grad_fn=<NegBackward0>), tensor(-8.2360, device='cuda:0', grad_fn=<NegBackward0>), tensor(-87.6264, device='cuda:0', grad_fn=<AddBackward0>)]\n",
      "tensor(-134.6948, device='cuda:0', grad_fn=<NegBackward0>) [tensor(-36.9517, device='cuda:0', grad_fn=<NegBackward0>), tensor(-9.3460, device='cuda:0', grad_fn=<NegBackward0>), tensor(-88.3970, device='cuda:0', grad_fn=<AddBackward0>)]\n",
      "4.916748495619982\n",
      "tensor(-133.0266, device='cuda:0', grad_fn=<NegBackward0>) [tensor(-36.9089, device='cuda:0', grad_fn=<NegBackward0>), tensor(-8.6359, device='cuda:0', grad_fn=<NegBackward0>), tensor(-87.4818, device='cuda:0', grad_fn=<AddBackward0>)]\n",
      "tensor(-134.5988, device='cuda:0', grad_fn=<NegBackward0>) [tensor(-36.9089, device='cuda:0', grad_fn=<NegBackward0>), tensor(-9.0657, device='cuda:0', grad_fn=<NegBackward0>), tensor(-88.6242, device='cuda:0', grad_fn=<AddBackward0>)]\n"
     ]
    },
    {
     "name": "stdout",
     "output_type": "stream",
     "text": [
      "4.9733126948874276\n",
      "tensor(-136.3401, device='cuda:0', grad_fn=<NegBackward0>) [tensor(-36.9410, device='cuda:0', grad_fn=<NegBackward0>), tensor(-9.7720, device='cuda:0', grad_fn=<NegBackward0>), tensor(-89.6271, device='cuda:0', grad_fn=<AddBackward0>)]\n",
      "tensor(-135.0118, device='cuda:0', grad_fn=<NegBackward0>) [tensor(-36.9410, device='cuda:0', grad_fn=<NegBackward0>), tensor(-9.2966, device='cuda:0', grad_fn=<NegBackward0>), tensor(-88.7742, device='cuda:0', grad_fn=<AddBackward0>)]\n",
      "5.4209906605521985\n",
      "tensor(-134.0330, device='cuda:0', grad_fn=<NegBackward0>) [tensor(-36.8995, device='cuda:0', grad_fn=<NegBackward0>), tensor(-8.8066, device='cuda:0', grad_fn=<NegBackward0>), tensor(-88.3269, device='cuda:0', grad_fn=<AddBackward0>)]\n",
      "tensor(-135.4607, device='cuda:0', grad_fn=<NegBackward0>) [tensor(-36.8995, device='cuda:0', grad_fn=<NegBackward0>), tensor(-9.6862, device='cuda:0', grad_fn=<NegBackward0>), tensor(-88.8750, device='cuda:0', grad_fn=<AddBackward0>)]\n",
      "5.174467935530274\n",
      "tensor(-134.8690, device='cuda:0', grad_fn=<NegBackward0>) [tensor(-36.9706, device='cuda:0', grad_fn=<NegBackward0>), tensor(-9.1278, device='cuda:0', grad_fn=<NegBackward0>), tensor(-88.7706, device='cuda:0', grad_fn=<AddBackward0>)]\n",
      "tensor(-133.9799, device='cuda:0', grad_fn=<NegBackward0>) [tensor(-36.9706, device='cuda:0', grad_fn=<NegBackward0>), tensor(-8.7417, device='cuda:0', grad_fn=<NegBackward0>), tensor(-88.2676, device='cuda:0', grad_fn=<AddBackward0>)]\n",
      "6.164462635058394\n",
      "tensor(-133.4599, device='cuda:0', grad_fn=<NegBackward0>) [tensor(-37.0378, device='cuda:0', grad_fn=<NegBackward0>), tensor(-8.3994, device='cuda:0', grad_fn=<NegBackward0>), tensor(-88.0226, device='cuda:0', grad_fn=<AddBackward0>)]\n",
      "tensor(-135.6339, device='cuda:0', grad_fn=<NegBackward0>) [tensor(-37.0378, device='cuda:0', grad_fn=<NegBackward0>), tensor(-8.9612, device='cuda:0', grad_fn=<NegBackward0>), tensor(-89.6349, device='cuda:0', grad_fn=<AddBackward0>)]\n",
      "4.974277117207815\n",
      "tensor(-135.2325, device='cuda:0', grad_fn=<NegBackward0>) [tensor(-37.1128, device='cuda:0', grad_fn=<NegBackward0>), tensor(-9.3495, device='cuda:0', grad_fn=<NegBackward0>), tensor(-88.7702, device='cuda:0', grad_fn=<AddBackward0>)]\n",
      "tensor(-136.2222, device='cuda:0', grad_fn=<NegBackward0>) [tensor(-37.1128, device='cuda:0', grad_fn=<NegBackward0>), tensor(-9.8081, device='cuda:0', grad_fn=<NegBackward0>), tensor(-89.3013, device='cuda:0', grad_fn=<AddBackward0>)]\n",
      "4.760023027820481\n",
      "tensor(-135.1453, device='cuda:0', grad_fn=<NegBackward0>) [tensor(-37.0520, device='cuda:0', grad_fn=<NegBackward0>), tensor(-9.5712, device='cuda:0', grad_fn=<NegBackward0>), tensor(-88.5222, device='cuda:0', grad_fn=<AddBackward0>)]\n",
      "tensor(-133.7455, device='cuda:0', grad_fn=<NegBackward0>) [tensor(-37.0520, device='cuda:0', grad_fn=<NegBackward0>), tensor(-8.7409, device='cuda:0', grad_fn=<NegBackward0>), tensor(-87.9525, device='cuda:0', grad_fn=<AddBackward0>)]\n",
      "4.945608415937277\n",
      "tensor(-137.3129, device='cuda:0', grad_fn=<NegBackward0>) [tensor(-37.1586, device='cuda:0', grad_fn=<NegBackward0>), tensor(-9.8801, device='cuda:0', grad_fn=<NegBackward0>), tensor(-90.2742, device='cuda:0', grad_fn=<AddBackward0>)]\n",
      "tensor(-134.0921, device='cuda:0', grad_fn=<NegBackward0>) [tensor(-37.1586, device='cuda:0', grad_fn=<NegBackward0>), tensor(-8.8122, device='cuda:0', grad_fn=<NegBackward0>), tensor(-88.1214, device='cuda:0', grad_fn=<AddBackward0>)]\n",
      "4.839528691045589\n",
      "tensor(-134.6779, device='cuda:0', grad_fn=<NegBackward0>) [tensor(-37.0884, device='cuda:0', grad_fn=<NegBackward0>), tensor(-9.3204, device='cuda:0', grad_fn=<NegBackward0>), tensor(-88.2692, device='cuda:0', grad_fn=<AddBackward0>)]\n",
      "tensor(-133.3840, device='cuda:0', grad_fn=<NegBackward0>) [tensor(-37.0884, device='cuda:0', grad_fn=<NegBackward0>), tensor(-8.4318, device='cuda:0', grad_fn=<NegBackward0>), tensor(-87.8638, device='cuda:0', grad_fn=<AddBackward0>)]\n",
      "4.704103564297055\n",
      "tensor(-136.0996, device='cuda:0', grad_fn=<NegBackward0>) [tensor(-37.1618, device='cuda:0', grad_fn=<NegBackward0>), tensor(-9.8619, device='cuda:0', grad_fn=<NegBackward0>), tensor(-89.0760, device='cuda:0', grad_fn=<AddBackward0>)]\n",
      "tensor(-133.3262, device='cuda:0', grad_fn=<NegBackward0>) [tensor(-37.1618, device='cuda:0', grad_fn=<NegBackward0>), tensor(-8.7034, device='cuda:0', grad_fn=<NegBackward0>), tensor(-87.4610, device='cuda:0', grad_fn=<AddBackward0>)]\n",
      "4.8425225179081215\n",
      "tensor(-135.2360, device='cuda:0', grad_fn=<NegBackward0>) [tensor(-37.1119, device='cuda:0', grad_fn=<NegBackward0>), tensor(-9.3799, device='cuda:0', grad_fn=<NegBackward0>), tensor(-88.7442, device='cuda:0', grad_fn=<AddBackward0>)]\n",
      "tensor(-134.1859, device='cuda:0', grad_fn=<NegBackward0>) [tensor(-37.1119, device='cuda:0', grad_fn=<NegBackward0>), tensor(-8.7011, device='cuda:0', grad_fn=<NegBackward0>), tensor(-88.3730, device='cuda:0', grad_fn=<AddBackward0>)]\n",
      "5.918020741601311\n",
      "tensor(-135.9720, device='cuda:0', grad_fn=<NegBackward0>) [tensor(-37.1165, device='cuda:0', grad_fn=<NegBackward0>), tensor(-8.7645, device='cuda:0', grad_fn=<NegBackward0>), tensor(-90.0911, device='cuda:0', grad_fn=<AddBackward0>)]\n",
      "tensor(-135.8487, device='cuda:0', grad_fn=<NegBackward0>) [tensor(-37.1165, device='cuda:0', grad_fn=<NegBackward0>), tensor(-9.2523, device='cuda:0', grad_fn=<NegBackward0>), tensor(-89.4799, device='cuda:0', grad_fn=<AddBackward0>)]\n",
      "5.303934237360333\n",
      "tensor(-136.3009, device='cuda:0', grad_fn=<NegBackward0>) [tensor(-37.1275, device='cuda:0', grad_fn=<NegBackward0>), tensor(-9.3936, device='cuda:0', grad_fn=<NegBackward0>), tensor(-89.7798, device='cuda:0', grad_fn=<AddBackward0>)]\n",
      "tensor(-134.2164, device='cuda:0', grad_fn=<NegBackward0>) [tensor(-37.1275, device='cuda:0', grad_fn=<NegBackward0>), tensor(-8.6588, device='cuda:0', grad_fn=<NegBackward0>), tensor(-88.4302, device='cuda:0', grad_fn=<AddBackward0>)]\n",
      "5.027568158805917\n",
      "tensor(-136.6435, device='cuda:0', grad_fn=<NegBackward0>) [tensor(-37.0809, device='cuda:0', grad_fn=<NegBackward0>), tensor(-9.8747, device='cuda:0', grad_fn=<NegBackward0>), tensor(-89.6879, device='cuda:0', grad_fn=<AddBackward0>)]\n",
      "tensor(-136.1492, device='cuda:0', grad_fn=<NegBackward0>) [tensor(-37.0809, device='cuda:0', grad_fn=<NegBackward0>), tensor(-9.7794, device='cuda:0', grad_fn=<NegBackward0>), tensor(-89.2889, device='cuda:0', grad_fn=<AddBackward0>)]\n",
      "4.909191400543582\n",
      "tensor(-134.3826, device='cuda:0', grad_fn=<NegBackward0>) [tensor(-37.0939, device='cuda:0', grad_fn=<NegBackward0>), tensor(-8.9755, device='cuda:0', grad_fn=<NegBackward0>), tensor(-88.3132, device='cuda:0', grad_fn=<AddBackward0>)]\n",
      "tensor(-135.7539, device='cuda:0', grad_fn=<NegBackward0>) [tensor(-37.0939, device='cuda:0', grad_fn=<NegBackward0>), tensor(-9.7047, device='cuda:0', grad_fn=<NegBackward0>), tensor(-88.9553, device='cuda:0', grad_fn=<AddBackward0>)]\n",
      "4.833463905493634\n",
      "tensor(-135.1475, device='cuda:0', grad_fn=<NegBackward0>) [tensor(-36.9533, device='cuda:0', grad_fn=<NegBackward0>), tensor(-9.2422, device='cuda:0', grad_fn=<NegBackward0>), tensor(-88.9519, device='cuda:0', grad_fn=<AddBackward0>)]\n",
      "tensor(-134.3618, device='cuda:0', grad_fn=<NegBackward0>) [tensor(-36.9533, device='cuda:0', grad_fn=<NegBackward0>), tensor(-9.1305, device='cuda:0', grad_fn=<NegBackward0>), tensor(-88.2779, device='cuda:0', grad_fn=<AddBackward0>)]\n",
      "5.096610058402213\n",
      "tensor(-133.1501, device='cuda:0', grad_fn=<NegBackward0>) [tensor(-37.0967, device='cuda:0', grad_fn=<NegBackward0>), tensor(-8.5516, device='cuda:0', grad_fn=<NegBackward0>), tensor(-87.5018, device='cuda:0', grad_fn=<AddBackward0>)]\n",
      "tensor(-134.1312, device='cuda:0', grad_fn=<NegBackward0>) [tensor(-37.0967, device='cuda:0', grad_fn=<NegBackward0>), tensor(-8.7148, device='cuda:0', grad_fn=<NegBackward0>), tensor(-88.3197, device='cuda:0', grad_fn=<AddBackward0>)]\n",
      "4.516077261031145\n",
      "tensor(-134.8615, device='cuda:0', grad_fn=<NegBackward0>) [tensor(-37.0997, device='cuda:0', grad_fn=<NegBackward0>), tensor(-9.5058, device='cuda:0', grad_fn=<NegBackward0>), tensor(-88.2560, device='cuda:0', grad_fn=<AddBackward0>)]\n",
      "tensor(-135.4997, device='cuda:0', grad_fn=<NegBackward0>) [tensor(-37.0997, device='cuda:0', grad_fn=<NegBackward0>), tensor(-10.8507, device='cuda:0', grad_fn=<NegBackward0>), tensor(-87.5493, device='cuda:0', grad_fn=<AddBackward0>)]\n"
     ]
    },
    {
     "name": "stdout",
     "output_type": "stream",
     "text": [
      "5.510914853462243\n",
      "tensor(-133.7024, device='cuda:0', grad_fn=<NegBackward0>) [tensor(-36.9103, device='cuda:0', grad_fn=<NegBackward0>), tensor(-8.4197, device='cuda:0', grad_fn=<NegBackward0>), tensor(-88.3723, device='cuda:0', grad_fn=<AddBackward0>)]\n",
      "tensor(-135.3791, device='cuda:0', grad_fn=<NegBackward0>) [tensor(-36.9103, device='cuda:0', grad_fn=<NegBackward0>), tensor(-9.1316, device='cuda:0', grad_fn=<NegBackward0>), tensor(-89.3371, device='cuda:0', grad_fn=<AddBackward0>)]\n",
      "4.726488883631229\n",
      "tensor(-133.7006, device='cuda:0', grad_fn=<NegBackward0>) [tensor(-36.9414, device='cuda:0', grad_fn=<NegBackward0>), tensor(-8.4651, device='cuda:0', grad_fn=<NegBackward0>), tensor(-88.2941, device='cuda:0', grad_fn=<AddBackward0>)]\n",
      "tensor(-135.4528, device='cuda:0', grad_fn=<NegBackward0>) [tensor(-36.9414, device='cuda:0', grad_fn=<NegBackward0>), tensor(-10.2105, device='cuda:0', grad_fn=<NegBackward0>), tensor(-88.3008, device='cuda:0', grad_fn=<AddBackward0>)]\n",
      "5.364742650789216\n",
      "tensor(-135.1825, device='cuda:0', grad_fn=<NegBackward0>) [tensor(-36.8550, device='cuda:0', grad_fn=<NegBackward0>), tensor(-9.3289, device='cuda:0', grad_fn=<NegBackward0>), tensor(-88.9986, device='cuda:0', grad_fn=<AddBackward0>)]\n",
      "tensor(-135.5443, device='cuda:0', grad_fn=<NegBackward0>) [tensor(-36.8550, device='cuda:0', grad_fn=<NegBackward0>), tensor(-9.5644, device='cuda:0', grad_fn=<NegBackward0>), tensor(-89.1250, device='cuda:0', grad_fn=<AddBackward0>)]\n",
      "5.473839649263072\n",
      "tensor(-132.8170, device='cuda:0', grad_fn=<NegBackward0>) [tensor(-36.9031, device='cuda:0', grad_fn=<NegBackward0>), tensor(-8.0028, device='cuda:0', grad_fn=<NegBackward0>), tensor(-87.9111, device='cuda:0', grad_fn=<AddBackward0>)]\n",
      "tensor(-136.7062, device='cuda:0', grad_fn=<NegBackward0>) [tensor(-36.9031, device='cuda:0', grad_fn=<NegBackward0>), tensor(-9.7660, device='cuda:0', grad_fn=<NegBackward0>), tensor(-90.0370, device='cuda:0', grad_fn=<AddBackward0>)]\n",
      "5.276458259502607\n",
      "tensor(-136.2653, device='cuda:0', grad_fn=<NegBackward0>) [tensor(-36.9927, device='cuda:0', grad_fn=<NegBackward0>), tensor(-9.4653, device='cuda:0', grad_fn=<NegBackward0>), tensor(-89.8073, device='cuda:0', grad_fn=<AddBackward0>)]\n",
      "tensor(-136.4996, device='cuda:0', grad_fn=<NegBackward0>) [tensor(-36.9927, device='cuda:0', grad_fn=<NegBackward0>), tensor(-9.9248, device='cuda:0', grad_fn=<NegBackward0>), tensor(-89.5822, device='cuda:0', grad_fn=<AddBackward0>)]\n",
      "5.1845549525016095\n",
      "tensor(-133.1978, device='cuda:0', grad_fn=<NegBackward0>) [tensor(-36.9798, device='cuda:0', grad_fn=<NegBackward0>), tensor(-8.1664, device='cuda:0', grad_fn=<NegBackward0>), tensor(-88.0516, device='cuda:0', grad_fn=<AddBackward0>)]\n",
      "tensor(-133.4846, device='cuda:0', grad_fn=<NegBackward0>) [tensor(-36.9798, device='cuda:0', grad_fn=<NegBackward0>), tensor(-8.4225, device='cuda:0', grad_fn=<NegBackward0>), tensor(-88.0822, device='cuda:0', grad_fn=<AddBackward0>)]\n",
      "4.782542481892425\n",
      "tensor(-133.1435, device='cuda:0', grad_fn=<NegBackward0>) [tensor(-37.0427, device='cuda:0', grad_fn=<NegBackward0>), tensor(-8.6120, device='cuda:0', grad_fn=<NegBackward0>), tensor(-87.4888, device='cuda:0', grad_fn=<AddBackward0>)]\n",
      "tensor(-135.2820, device='cuda:0', grad_fn=<NegBackward0>) [tensor(-37.0427, device='cuda:0', grad_fn=<NegBackward0>), tensor(-9.8823, device='cuda:0', grad_fn=<NegBackward0>), tensor(-88.3570, device='cuda:0', grad_fn=<AddBackward0>)]\n",
      "5.4487415139440385\n",
      "tensor(-134.0787, device='cuda:0', grad_fn=<NegBackward0>) [tensor(-37.0480, device='cuda:0', grad_fn=<NegBackward0>), tensor(-8.4882, device='cuda:0', grad_fn=<NegBackward0>), tensor(-88.5425, device='cuda:0', grad_fn=<AddBackward0>)]\n",
      "tensor(-135.8174, device='cuda:0', grad_fn=<NegBackward0>) [tensor(-37.0480, device='cuda:0', grad_fn=<NegBackward0>), tensor(-9.3541, device='cuda:0', grad_fn=<NegBackward0>), tensor(-89.4153, device='cuda:0', grad_fn=<AddBackward0>)]\n",
      "4.864277501925299\n",
      "tensor(-134.4700, device='cuda:0', grad_fn=<NegBackward0>) [tensor(-36.9559, device='cuda:0', grad_fn=<NegBackward0>), tensor(-9.3413, device='cuda:0', grad_fn=<NegBackward0>), tensor(-88.1728, device='cuda:0', grad_fn=<AddBackward0>)]\n",
      "tensor(-135.8101, device='cuda:0', grad_fn=<NegBackward0>) [tensor(-36.9559, device='cuda:0', grad_fn=<NegBackward0>), tensor(-9.6864, device='cuda:0', grad_fn=<NegBackward0>), tensor(-89.1678, device='cuda:0', grad_fn=<AddBackward0>)]\n",
      "5.084680311920583\n",
      "tensor(-133.0571, device='cuda:0', grad_fn=<NegBackward0>) [tensor(-37.0257, device='cuda:0', grad_fn=<NegBackward0>), tensor(-8.1093, device='cuda:0', grad_fn=<NegBackward0>), tensor(-87.9221, device='cuda:0', grad_fn=<AddBackward0>)]\n",
      "tensor(-135.0409, device='cuda:0', grad_fn=<NegBackward0>) [tensor(-37.0257, device='cuda:0', grad_fn=<NegBackward0>), tensor(-9.4391, device='cuda:0', grad_fn=<NegBackward0>), tensor(-88.5761, device='cuda:0', grad_fn=<AddBackward0>)]\n",
      "5.098073778747318\n",
      "tensor(-135.5442, device='cuda:0', grad_fn=<NegBackward0>) [tensor(-37.0936, device='cuda:0', grad_fn=<NegBackward0>), tensor(-9.3253, device='cuda:0', grad_fn=<NegBackward0>), tensor(-89.1253, device='cuda:0', grad_fn=<AddBackward0>)]\n",
      "tensor(-135.3283, device='cuda:0', grad_fn=<NegBackward0>) [tensor(-37.0936, device='cuda:0', grad_fn=<NegBackward0>), tensor(-9.2892, device='cuda:0', grad_fn=<NegBackward0>), tensor(-88.9455, device='cuda:0', grad_fn=<AddBackward0>)]\n",
      "5.138140232223152\n",
      "tensor(-134.0096, device='cuda:0', grad_fn=<NegBackward0>) [tensor(-37.1106, device='cuda:0', grad_fn=<NegBackward0>), tensor(-8.8107, device='cuda:0', grad_fn=<NegBackward0>), tensor(-88.0882, device='cuda:0', grad_fn=<AddBackward0>)]\n",
      "tensor(-135.5128, device='cuda:0', grad_fn=<NegBackward0>) [tensor(-37.1106, device='cuda:0', grad_fn=<NegBackward0>), tensor(-9.3780, device='cuda:0', grad_fn=<NegBackward0>), tensor(-89.0241, device='cuda:0', grad_fn=<AddBackward0>)]\n",
      "5.098469437444837\n",
      "tensor(-136.4994, device='cuda:0', grad_fn=<NegBackward0>) [tensor(-37.1214, device='cuda:0', grad_fn=<NegBackward0>), tensor(-10.0793, device='cuda:0', grad_fn=<NegBackward0>), tensor(-89.2988, device='cuda:0', grad_fn=<AddBackward0>)]\n",
      "tensor(-135.8707, device='cuda:0', grad_fn=<NegBackward0>) [tensor(-37.1214, device='cuda:0', grad_fn=<NegBackward0>), tensor(-9.1725, device='cuda:0', grad_fn=<NegBackward0>), tensor(-89.5769, device='cuda:0', grad_fn=<AddBackward0>)]\n",
      "4.936220901981821\n",
      "tensor(-137.5120, device='cuda:0', grad_fn=<NegBackward0>) [tensor(-37.2000, device='cuda:0', grad_fn=<NegBackward0>), tensor(-10.1518, device='cuda:0', grad_fn=<NegBackward0>), tensor(-90.1602, device='cuda:0', grad_fn=<AddBackward0>)]\n",
      "tensor(-134.7321, device='cuda:0', grad_fn=<NegBackward0>) [tensor(-37.2000, device='cuda:0', grad_fn=<NegBackward0>), tensor(-8.9449, device='cuda:0', grad_fn=<NegBackward0>), tensor(-88.5871, device='cuda:0', grad_fn=<AddBackward0>)]\n",
      "5.063984588314192\n",
      "tensor(-137.1467, device='cuda:0', grad_fn=<NegBackward0>) [tensor(-37.1861, device='cuda:0', grad_fn=<NegBackward0>), tensor(-10.1069, device='cuda:0', grad_fn=<NegBackward0>), tensor(-89.8537, device='cuda:0', grad_fn=<AddBackward0>)]\n",
      "tensor(-133.9575, device='cuda:0', grad_fn=<NegBackward0>) [tensor(-37.1861, device='cuda:0', grad_fn=<NegBackward0>), tensor(-8.7496, device='cuda:0', grad_fn=<NegBackward0>), tensor(-88.0218, device='cuda:0', grad_fn=<AddBackward0>)]\n",
      "4.969571846894856\n",
      "tensor(-136.0806, device='cuda:0', grad_fn=<NegBackward0>) [tensor(-37.1026, device='cuda:0', grad_fn=<NegBackward0>), tensor(-9.5612, device='cuda:0', grad_fn=<NegBackward0>), tensor(-89.4168, device='cuda:0', grad_fn=<AddBackward0>)]\n",
      "tensor(-134.7820, device='cuda:0', grad_fn=<NegBackward0>) [tensor(-37.1026, device='cuda:0', grad_fn=<NegBackward0>), tensor(-8.7676, device='cuda:0', grad_fn=<NegBackward0>), tensor(-88.9118, device='cuda:0', grad_fn=<AddBackward0>)]\n",
      "5.219660623062281\n",
      "tensor(-136.4446, device='cuda:0', grad_fn=<NegBackward0>) [tensor(-37.1764, device='cuda:0', grad_fn=<NegBackward0>), tensor(-9.7346, device='cuda:0', grad_fn=<NegBackward0>), tensor(-89.5336, device='cuda:0', grad_fn=<AddBackward0>)]\n",
      "tensor(-132.9229, device='cuda:0', grad_fn=<NegBackward0>) [tensor(-37.1764, device='cuda:0', grad_fn=<NegBackward0>), tensor(-8.1488, device='cuda:0', grad_fn=<NegBackward0>), tensor(-87.5977, device='cuda:0', grad_fn=<AddBackward0>)]\n"
     ]
    },
    {
     "name": "stdout",
     "output_type": "stream",
     "text": [
      "5.188268515873933\n",
      "tensor(-136.2877, device='cuda:0', grad_fn=<NegBackward0>) [tensor(-37.2495, device='cuda:0', grad_fn=<NegBackward0>), tensor(-9.1749, device='cuda:0', grad_fn=<NegBackward0>), tensor(-89.8633, device='cuda:0', grad_fn=<AddBackward0>)]\n",
      "tensor(-133.6781, device='cuda:0', grad_fn=<NegBackward0>) [tensor(-37.2495, device='cuda:0', grad_fn=<NegBackward0>), tensor(-8.4185, device='cuda:0', grad_fn=<NegBackward0>), tensor(-88.0101, device='cuda:0', grad_fn=<AddBackward0>)]\n",
      "4.991721780078178\n",
      "tensor(-135.6939, device='cuda:0', grad_fn=<NegBackward0>) [tensor(-37.2373, device='cuda:0', grad_fn=<NegBackward0>), tensor(-9.0283, device='cuda:0', grad_fn=<NegBackward0>), tensor(-89.4283, device='cuda:0', grad_fn=<AddBackward0>)]\n",
      "tensor(-135.7973, device='cuda:0', grad_fn=<NegBackward0>) [tensor(-37.2373, device='cuda:0', grad_fn=<NegBackward0>), tensor(-9.6481, device='cuda:0', grad_fn=<NegBackward0>), tensor(-88.9119, device='cuda:0', grad_fn=<AddBackward0>)]\n",
      "5.404138439320855\n",
      "tensor(-135.1877, device='cuda:0', grad_fn=<NegBackward0>) [tensor(-37.1152, device='cuda:0', grad_fn=<NegBackward0>), tensor(-8.9542, device='cuda:0', grad_fn=<NegBackward0>), tensor(-89.1183, device='cuda:0', grad_fn=<AddBackward0>)]\n",
      "tensor(-134.2467, device='cuda:0', grad_fn=<NegBackward0>) [tensor(-37.1152, device='cuda:0', grad_fn=<NegBackward0>), tensor(-8.7628, device='cuda:0', grad_fn=<NegBackward0>), tensor(-88.3687, device='cuda:0', grad_fn=<AddBackward0>)]\n",
      "5.055763394370128\n",
      "tensor(-135.4712, device='cuda:0', grad_fn=<NegBackward0>) [tensor(-37.1583, device='cuda:0', grad_fn=<NegBackward0>), tensor(-9.2192, device='cuda:0', grad_fn=<NegBackward0>), tensor(-89.0937, device='cuda:0', grad_fn=<AddBackward0>)]\n",
      "tensor(-135.4271, device='cuda:0', grad_fn=<NegBackward0>) [tensor(-37.1583, device='cuda:0', grad_fn=<NegBackward0>), tensor(-9.1314, device='cuda:0', grad_fn=<NegBackward0>), tensor(-89.1373, device='cuda:0', grad_fn=<AddBackward0>)]\n",
      "5.03601951228961\n",
      "tensor(-133.4200, device='cuda:0', grad_fn=<NegBackward0>) [tensor(-37.1292, device='cuda:0', grad_fn=<NegBackward0>), tensor(-8.6842, device='cuda:0', grad_fn=<NegBackward0>), tensor(-87.6065, device='cuda:0', grad_fn=<AddBackward0>)]\n",
      "tensor(-133.7485, device='cuda:0', grad_fn=<NegBackward0>) [tensor(-37.1292, device='cuda:0', grad_fn=<NegBackward0>), tensor(-9.2227, device='cuda:0', grad_fn=<NegBackward0>), tensor(-87.3965, device='cuda:0', grad_fn=<AddBackward0>)]\n",
      "5.088727921447101\n",
      "tensor(-136.2683, device='cuda:0', grad_fn=<NegBackward0>) [tensor(-37.0308, device='cuda:0', grad_fn=<NegBackward0>), tensor(-9.7869, device='cuda:0', grad_fn=<NegBackward0>), tensor(-89.4505, device='cuda:0', grad_fn=<AddBackward0>)]\n",
      "tensor(-136.1158, device='cuda:0', grad_fn=<NegBackward0>) [tensor(-37.0308, device='cuda:0', grad_fn=<NegBackward0>), tensor(-9.4407, device='cuda:0', grad_fn=<NegBackward0>), tensor(-89.6442, device='cuda:0', grad_fn=<AddBackward0>)]\n",
      "4.954509427155772\n",
      "tensor(-135.2901, device='cuda:0', grad_fn=<NegBackward0>) [tensor(-37.1063, device='cuda:0', grad_fn=<NegBackward0>), tensor(-9.4333, device='cuda:0', grad_fn=<NegBackward0>), tensor(-88.7506, device='cuda:0', grad_fn=<AddBackward0>)]\n",
      "tensor(-134.1109, device='cuda:0', grad_fn=<NegBackward0>) [tensor(-37.1063, device='cuda:0', grad_fn=<NegBackward0>), tensor(-8.8946, device='cuda:0', grad_fn=<NegBackward0>), tensor(-88.1101, device='cuda:0', grad_fn=<AddBackward0>)]\n",
      "4.821148432593195\n",
      "tensor(-136.8955, device='cuda:0', grad_fn=<NegBackward0>) [tensor(-37.0897, device='cuda:0', grad_fn=<NegBackward0>), tensor(-10.6587, device='cuda:0', grad_fn=<NegBackward0>), tensor(-89.1470, device='cuda:0', grad_fn=<AddBackward0>)]\n",
      "tensor(-136.3949, device='cuda:0', grad_fn=<NegBackward0>) [tensor(-37.0897, device='cuda:0', grad_fn=<NegBackward0>), tensor(-9.9144, device='cuda:0', grad_fn=<NegBackward0>), tensor(-89.3907, device='cuda:0', grad_fn=<AddBackward0>)]\n",
      "5.324841165419488\n",
      "tensor(-133.7368, device='cuda:0', grad_fn=<NegBackward0>) [tensor(-37.0155, device='cuda:0', grad_fn=<NegBackward0>), tensor(-8.7608, device='cuda:0', grad_fn=<NegBackward0>), tensor(-87.9605, device='cuda:0', grad_fn=<AddBackward0>)]\n",
      "tensor(-135.2463, device='cuda:0', grad_fn=<NegBackward0>) [tensor(-37.0155, device='cuda:0', grad_fn=<NegBackward0>), tensor(-8.8854, device='cuda:0', grad_fn=<NegBackward0>), tensor(-89.3453, device='cuda:0', grad_fn=<AddBackward0>)]\n",
      "5.590241806572728\n",
      "tensor(-137.7075, device='cuda:0', grad_fn=<NegBackward0>) [tensor(-37.1132, device='cuda:0', grad_fn=<NegBackward0>), tensor(-9.9146, device='cuda:0', grad_fn=<NegBackward0>), tensor(-90.6796, device='cuda:0', grad_fn=<AddBackward0>)]\n",
      "tensor(-136.1479, device='cuda:0', grad_fn=<NegBackward0>) [tensor(-37.1132, device='cuda:0', grad_fn=<NegBackward0>), tensor(-9.4245, device='cuda:0', grad_fn=<NegBackward0>), tensor(-89.6102, device='cuda:0', grad_fn=<AddBackward0>)]\n",
      "4.4826654361357114\n",
      "tensor(-132.4856, device='cuda:0', grad_fn=<NegBackward0>) [tensor(-37.1321, device='cuda:0', grad_fn=<NegBackward0>), tensor(-8.5724, device='cuda:0', grad_fn=<NegBackward0>), tensor(-86.7812, device='cuda:0', grad_fn=<AddBackward0>)]\n",
      "tensor(-135.3245, device='cuda:0', grad_fn=<NegBackward0>) [tensor(-37.1321, device='cuda:0', grad_fn=<NegBackward0>), tensor(-10.0117, device='cuda:0', grad_fn=<NegBackward0>), tensor(-88.1807, device='cuda:0', grad_fn=<AddBackward0>)]\n",
      "5.36786331153998\n",
      "tensor(-135.4955, device='cuda:0', grad_fn=<NegBackward0>) [tensor(-37.0920, device='cuda:0', grad_fn=<NegBackward0>), tensor(-9.2074, device='cuda:0', grad_fn=<NegBackward0>), tensor(-89.1961, device='cuda:0', grad_fn=<AddBackward0>)]\n",
      "tensor(-133.3212, device='cuda:0', grad_fn=<NegBackward0>) [tensor(-37.0920, device='cuda:0', grad_fn=<NegBackward0>), tensor(-8.4554, device='cuda:0', grad_fn=<NegBackward0>), tensor(-87.7738, device='cuda:0', grad_fn=<AddBackward0>)]\n",
      "5.191165141812631\n",
      "tensor(-136.0975, device='cuda:0', grad_fn=<NegBackward0>) [tensor(-37.1600, device='cuda:0', grad_fn=<NegBackward0>), tensor(-9.4189, device='cuda:0', grad_fn=<NegBackward0>), tensor(-89.5187, device='cuda:0', grad_fn=<AddBackward0>)]\n",
      "tensor(-134.9954, device='cuda:0', grad_fn=<NegBackward0>) [tensor(-37.1600, device='cuda:0', grad_fn=<NegBackward0>), tensor(-8.7312, device='cuda:0', grad_fn=<NegBackward0>), tensor(-89.1043, device='cuda:0', grad_fn=<AddBackward0>)]\n",
      "4.620891075243606\n",
      "tensor(-134.1819, device='cuda:0', grad_fn=<NegBackward0>) [tensor(-37.1649, device='cuda:0', grad_fn=<NegBackward0>), tensor(-9.4268, device='cuda:0', grad_fn=<NegBackward0>), tensor(-87.5901, device='cuda:0', grad_fn=<AddBackward0>)]\n",
      "tensor(-134.2301, device='cuda:0', grad_fn=<NegBackward0>) [tensor(-37.1649, device='cuda:0', grad_fn=<NegBackward0>), tensor(-9.7203, device='cuda:0', grad_fn=<NegBackward0>), tensor(-87.3449, device='cuda:0', grad_fn=<AddBackward0>)]\n",
      "5.052481089363592\n",
      "tensor(-134.5135, device='cuda:0', grad_fn=<NegBackward0>) [tensor(-37.1101, device='cuda:0', grad_fn=<NegBackward0>), tensor(-9.2798, device='cuda:0', grad_fn=<NegBackward0>), tensor(-88.1236, device='cuda:0', grad_fn=<AddBackward0>)]\n",
      "tensor(-135.6690, device='cuda:0', grad_fn=<NegBackward0>) [tensor(-37.1101, device='cuda:0', grad_fn=<NegBackward0>), tensor(-9.2664, device='cuda:0', grad_fn=<NegBackward0>), tensor(-89.2924, device='cuda:0', grad_fn=<AddBackward0>)]\n",
      "4.9834653443727275\n",
      "tensor(-135.7672, device='cuda:0', grad_fn=<NegBackward0>) [tensor(-37.0897, device='cuda:0', grad_fn=<NegBackward0>), tensor(-9.6071, device='cuda:0', grad_fn=<NegBackward0>), tensor(-89.0704, device='cuda:0', grad_fn=<AddBackward0>)]\n",
      "tensor(-134.9338, device='cuda:0', grad_fn=<NegBackward0>) [tensor(-37.0897, device='cuda:0', grad_fn=<NegBackward0>), tensor(-9.2669, device='cuda:0', grad_fn=<NegBackward0>), tensor(-88.5773, device='cuda:0', grad_fn=<AddBackward0>)]\n",
      "4.8267875834363005\n",
      "tensor(-135.4542, device='cuda:0', grad_fn=<NegBackward0>) [tensor(-37.1473, device='cuda:0', grad_fn=<NegBackward0>), tensor(-9.4000, device='cuda:0', grad_fn=<NegBackward0>), tensor(-88.9069, device='cuda:0', grad_fn=<AddBackward0>)]\n",
      "tensor(-134.0239, device='cuda:0', grad_fn=<NegBackward0>) [tensor(-37.1473, device='cuda:0', grad_fn=<NegBackward0>), tensor(-8.9801, device='cuda:0', grad_fn=<NegBackward0>), tensor(-87.8966, device='cuda:0', grad_fn=<AddBackward0>)]\n"
     ]
    },
    {
     "name": "stdout",
     "output_type": "stream",
     "text": [
      "4.775847165554779\n",
      "tensor(-134.9173, device='cuda:0', grad_fn=<NegBackward0>) [tensor(-37.1777, device='cuda:0', grad_fn=<NegBackward0>), tensor(-9.5578, device='cuda:0', grad_fn=<NegBackward0>), tensor(-88.1818, device='cuda:0', grad_fn=<AddBackward0>)]\n",
      "tensor(-134.4510, device='cuda:0', grad_fn=<NegBackward0>) [tensor(-37.1777, device='cuda:0', grad_fn=<NegBackward0>), tensor(-9.0373, device='cuda:0', grad_fn=<NegBackward0>), tensor(-88.2360, device='cuda:0', grad_fn=<AddBackward0>)]\n",
      "4.687802085374222\n",
      "tensor(-135.7515, device='cuda:0', grad_fn=<NegBackward0>) [tensor(-37.0659, device='cuda:0', grad_fn=<NegBackward0>), tensor(-10.1344, device='cuda:0', grad_fn=<NegBackward0>), tensor(-88.5512, device='cuda:0', grad_fn=<AddBackward0>)]\n",
      "tensor(-134.5559, device='cuda:0', grad_fn=<NegBackward0>) [tensor(-37.0659, device='cuda:0', grad_fn=<NegBackward0>), tensor(-9.0100, device='cuda:0', grad_fn=<NegBackward0>), tensor(-88.4800, device='cuda:0', grad_fn=<AddBackward0>)]\n",
      "4.553920721653676\n",
      "tensor(-134.4662, device='cuda:0', grad_fn=<NegBackward0>) [tensor(-37.0769, device='cuda:0', grad_fn=<NegBackward0>), tensor(-9.7340, device='cuda:0', grad_fn=<NegBackward0>), tensor(-87.6553, device='cuda:0', grad_fn=<AddBackward0>)]\n",
      "tensor(-134.2976, device='cuda:0', grad_fn=<NegBackward0>) [tensor(-37.0769, device='cuda:0', grad_fn=<NegBackward0>), tensor(-9.5990, device='cuda:0', grad_fn=<NegBackward0>), tensor(-87.6216, device='cuda:0', grad_fn=<AddBackward0>)]\n",
      "5.239572261436856\n",
      "tensor(-136.0471, device='cuda:0', grad_fn=<NegBackward0>) [tensor(-37.0906, device='cuda:0', grad_fn=<NegBackward0>), tensor(-9.3265, device='cuda:0', grad_fn=<NegBackward0>), tensor(-89.6300, device='cuda:0', grad_fn=<AddBackward0>)]\n",
      "tensor(-136.9112, device='cuda:0', grad_fn=<NegBackward0>) [tensor(-37.0906, device='cuda:0', grad_fn=<NegBackward0>), tensor(-9.8043, device='cuda:0', grad_fn=<NegBackward0>), tensor(-90.0163, device='cuda:0', grad_fn=<AddBackward0>)]\n",
      "4.6925043086297045\n",
      "tensor(-136.3955, device='cuda:0', grad_fn=<NegBackward0>) [tensor(-37.1497, device='cuda:0', grad_fn=<NegBackward0>), tensor(-10.0493, device='cuda:0', grad_fn=<NegBackward0>), tensor(-89.1966, device='cuda:0', grad_fn=<AddBackward0>)]\n",
      "tensor(-132.9720, device='cuda:0', grad_fn=<NegBackward0>) [tensor(-37.1497, device='cuda:0', grad_fn=<NegBackward0>), tensor(-9.3086, device='cuda:0', grad_fn=<NegBackward0>), tensor(-86.5138, device='cuda:0', grad_fn=<AddBackward0>)]\n",
      "5.301199135976821\n",
      "tensor(-135.9771, device='cuda:0', grad_fn=<NegBackward0>) [tensor(-37.1583, device='cuda:0', grad_fn=<NegBackward0>), tensor(-8.8773, device='cuda:0', grad_fn=<NegBackward0>), tensor(-89.9416, device='cuda:0', grad_fn=<AddBackward0>)]\n",
      "tensor(-136.4792, device='cuda:0', grad_fn=<NegBackward0>) [tensor(-37.1583, device='cuda:0', grad_fn=<NegBackward0>), tensor(-9.6809, device='cuda:0', grad_fn=<NegBackward0>), tensor(-89.6401, device='cuda:0', grad_fn=<AddBackward0>)]\n",
      "5.5764428154956525\n",
      "tensor(-132.9028, device='cuda:0', grad_fn=<NegBackward0>) [tensor(-37.1589, device='cuda:0', grad_fn=<NegBackward0>), tensor(-7.6721, device='cuda:0', grad_fn=<NegBackward0>), tensor(-88.0718, device='cuda:0', grad_fn=<AddBackward0>)]\n",
      "tensor(-135.8988, device='cuda:0', grad_fn=<NegBackward0>) [tensor(-37.1589, device='cuda:0', grad_fn=<NegBackward0>), tensor(-8.9875, device='cuda:0', grad_fn=<NegBackward0>), tensor(-89.7524, device='cuda:0', grad_fn=<AddBackward0>)]\n",
      "4.630838591928938\n",
      "tensor(-132.8084, device='cuda:0', grad_fn=<NegBackward0>) [tensor(-37.2320, device='cuda:0', grad_fn=<NegBackward0>), tensor(-8.7381, device='cuda:0', grad_fn=<NegBackward0>), tensor(-86.8384, device='cuda:0', grad_fn=<AddBackward0>)]\n",
      "tensor(-134.2288, device='cuda:0', grad_fn=<NegBackward0>) [tensor(-37.2320, device='cuda:0', grad_fn=<NegBackward0>), tensor(-8.5738, device='cuda:0', grad_fn=<NegBackward0>), tensor(-88.4230, device='cuda:0', grad_fn=<AddBackward0>)]\n",
      "4.529721398208984\n",
      "tensor(-134.9060, device='cuda:0', grad_fn=<NegBackward0>) [tensor(-37.2198, device='cuda:0', grad_fn=<NegBackward0>), tensor(-9.4529, device='cuda:0', grad_fn=<NegBackward0>), tensor(-88.2333, device='cuda:0', grad_fn=<AddBackward0>)]\n",
      "tensor(-136.0333, device='cuda:0', grad_fn=<NegBackward0>) [tensor(-37.2198, device='cuda:0', grad_fn=<NegBackward0>), tensor(-10.4609, device='cuda:0', grad_fn=<NegBackward0>), tensor(-88.3526, device='cuda:0', grad_fn=<AddBackward0>)]\n",
      "5.0286221947342025\n",
      "tensor(-132.5585, device='cuda:0', grad_fn=<NegBackward0>) [tensor(-37.1168, device='cuda:0', grad_fn=<NegBackward0>), tensor(-8.0251, device='cuda:0', grad_fn=<NegBackward0>), tensor(-87.4166, device='cuda:0', grad_fn=<AddBackward0>)]\n",
      "tensor(-134.7591, device='cuda:0', grad_fn=<NegBackward0>) [tensor(-37.1168, device='cuda:0', grad_fn=<NegBackward0>), tensor(-8.8106, device='cuda:0', grad_fn=<NegBackward0>), tensor(-88.8317, device='cuda:0', grad_fn=<AddBackward0>)]\n",
      "5.1742371506124485\n",
      "tensor(-136.2509, device='cuda:0', grad_fn=<NegBackward0>) [tensor(-37.1942, device='cuda:0', grad_fn=<NegBackward0>), tensor(-9.4221, device='cuda:0', grad_fn=<NegBackward0>), tensor(-89.6346, device='cuda:0', grad_fn=<AddBackward0>)]\n",
      "tensor(-134.6037, device='cuda:0', grad_fn=<NegBackward0>) [tensor(-37.1942, device='cuda:0', grad_fn=<NegBackward0>), tensor(-8.9963, device='cuda:0', grad_fn=<NegBackward0>), tensor(-88.4132, device='cuda:0', grad_fn=<AddBackward0>)]\n",
      "4.969339452946249\n",
      "tensor(-134.6534, device='cuda:0', grad_fn=<NegBackward0>) [tensor(-37.1237, device='cuda:0', grad_fn=<NegBackward0>), tensor(-8.5517, device='cuda:0', grad_fn=<NegBackward0>), tensor(-88.9780, device='cuda:0', grad_fn=<AddBackward0>)]\n",
      "tensor(-135.1126, device='cuda:0', grad_fn=<NegBackward0>) [tensor(-37.1237, device='cuda:0', grad_fn=<NegBackward0>), tensor(-9.1107, device='cuda:0', grad_fn=<NegBackward0>), tensor(-88.8781, device='cuda:0', grad_fn=<AddBackward0>)]\n",
      "4.930225433276263\n",
      "tensor(-134.2922, device='cuda:0', grad_fn=<NegBackward0>) [tensor(-37.0909, device='cuda:0', grad_fn=<NegBackward0>), tensor(-8.7088, device='cuda:0', grad_fn=<NegBackward0>), tensor(-88.4925, device='cuda:0', grad_fn=<AddBackward0>)]\n",
      "tensor(-136.2903, device='cuda:0', grad_fn=<NegBackward0>) [tensor(-37.0909, device='cuda:0', grad_fn=<NegBackward0>), tensor(-9.9697, device='cuda:0', grad_fn=<NegBackward0>), tensor(-89.2298, device='cuda:0', grad_fn=<AddBackward0>)]\n",
      "5.016428928732226\n",
      "tensor(-135.9867, device='cuda:0', grad_fn=<NegBackward0>) [tensor(-37.0060, device='cuda:0', grad_fn=<NegBackward0>), tensor(-9.3256, device='cuda:0', grad_fn=<NegBackward0>), tensor(-89.6550, device='cuda:0', grad_fn=<AddBackward0>)]\n",
      "tensor(-136.1142, device='cuda:0', grad_fn=<NegBackward0>) [tensor(-37.0060, device='cuda:0', grad_fn=<NegBackward0>), tensor(-9.6736, device='cuda:0', grad_fn=<NegBackward0>), tensor(-89.4345, device='cuda:0', grad_fn=<AddBackward0>)]\n",
      "5.48898012901957\n",
      "tensor(-135.1342, device='cuda:0', grad_fn=<NegBackward0>) [tensor(-37.0608, device='cuda:0', grad_fn=<NegBackward0>), tensor(-9.1819, device='cuda:0', grad_fn=<NegBackward0>), tensor(-88.8914, device='cuda:0', grad_fn=<AddBackward0>)]\n",
      "tensor(-134.1169, device='cuda:0', grad_fn=<NegBackward0>) [tensor(-37.0608, device='cuda:0', grad_fn=<NegBackward0>), tensor(-8.5350, device='cuda:0', grad_fn=<NegBackward0>), tensor(-88.5212, device='cuda:0', grad_fn=<AddBackward0>)]\n",
      "5.3409806490600635\n",
      "tensor(-137.7413, device='cuda:0', grad_fn=<NegBackward0>) [tensor(-37.1391, device='cuda:0', grad_fn=<NegBackward0>), tensor(-9.7824, device='cuda:0', grad_fn=<NegBackward0>), tensor(-90.8198, device='cuda:0', grad_fn=<AddBackward0>)]\n",
      "tensor(-135.9263, device='cuda:0', grad_fn=<NegBackward0>) [tensor(-37.1391, device='cuda:0', grad_fn=<NegBackward0>), tensor(-9.2571, device='cuda:0', grad_fn=<NegBackward0>), tensor(-89.5301, device='cuda:0', grad_fn=<AddBackward0>)]\n",
      "5.591213180903975\n",
      "tensor(-134.4742, device='cuda:0', grad_fn=<NegBackward0>) [tensor(-37.1686, device='cuda:0', grad_fn=<NegBackward0>), tensor(-8.4625, device='cuda:0', grad_fn=<NegBackward0>), tensor(-88.8432, device='cuda:0', grad_fn=<AddBackward0>)]\n",
      "tensor(-136.5667, device='cuda:0', grad_fn=<NegBackward0>) [tensor(-37.1686, device='cuda:0', grad_fn=<NegBackward0>), tensor(-9.4416, device='cuda:0', grad_fn=<NegBackward0>), tensor(-89.9565, device='cuda:0', grad_fn=<AddBackward0>)]\n"
     ]
    },
    {
     "name": "stdout",
     "output_type": "stream",
     "text": [
      "5.918174343285391\n",
      "tensor(-135.2558, device='cuda:0', grad_fn=<NegBackward0>) [tensor(-37.0975, device='cuda:0', grad_fn=<NegBackward0>), tensor(-8.5201, device='cuda:0', grad_fn=<NegBackward0>), tensor(-89.6382, device='cuda:0', grad_fn=<AddBackward0>)]\n",
      "tensor(-134.4016, device='cuda:0', grad_fn=<NegBackward0>) [tensor(-37.0975, device='cuda:0', grad_fn=<NegBackward0>), tensor(-8.5307, device='cuda:0', grad_fn=<NegBackward0>), tensor(-88.7735, device='cuda:0', grad_fn=<AddBackward0>)]\n",
      "5.167480065079063\n",
      "tensor(-135.4976, device='cuda:0', grad_fn=<NegBackward0>) [tensor(-37.1278, device='cuda:0', grad_fn=<NegBackward0>), tensor(-8.9697, device='cuda:0', grad_fn=<NegBackward0>), tensor(-89.4000, device='cuda:0', grad_fn=<AddBackward0>)]\n",
      "tensor(-132.6945, device='cuda:0', grad_fn=<NegBackward0>) [tensor(-37.1278, device='cuda:0', grad_fn=<NegBackward0>), tensor(-7.9728, device='cuda:0', grad_fn=<NegBackward0>), tensor(-87.5939, device='cuda:0', grad_fn=<AddBackward0>)]\n",
      "5.0623927164030915\n",
      "tensor(-134.6977, device='cuda:0', grad_fn=<NegBackward0>) [tensor(-37.1854, device='cuda:0', grad_fn=<NegBackward0>), tensor(-8.6076, device='cuda:0', grad_fn=<NegBackward0>), tensor(-88.9047, device='cuda:0', grad_fn=<AddBackward0>)]\n",
      "tensor(-135.1194, device='cuda:0', grad_fn=<NegBackward0>) [tensor(-37.1854, device='cuda:0', grad_fn=<NegBackward0>), tensor(-9.2196, device='cuda:0', grad_fn=<NegBackward0>), tensor(-88.7144, device='cuda:0', grad_fn=<AddBackward0>)]\n",
      "4.950374024943108\n",
      "tensor(-135.4184, device='cuda:0', grad_fn=<NegBackward0>) [tensor(-37.1882, device='cuda:0', grad_fn=<NegBackward0>), tensor(-9.2035, device='cuda:0', grad_fn=<NegBackward0>), tensor(-89.0267, device='cuda:0', grad_fn=<AddBackward0>)]\n",
      "tensor(-137.1505, device='cuda:0', grad_fn=<NegBackward0>) [tensor(-37.1882, device='cuda:0', grad_fn=<NegBackward0>), tensor(-9.5696, device='cuda:0', grad_fn=<NegBackward0>), tensor(-90.3927, device='cuda:0', grad_fn=<AddBackward0>)]\n",
      "5.246896919417354\n",
      "tensor(-136.0888, device='cuda:0', grad_fn=<NegBackward0>) [tensor(-37.2229, device='cuda:0', grad_fn=<NegBackward0>), tensor(-9.5142, device='cuda:0', grad_fn=<NegBackward0>), tensor(-89.3517, device='cuda:0', grad_fn=<AddBackward0>)]\n",
      "tensor(-132.4572, device='cuda:0', grad_fn=<NegBackward0>) [tensor(-37.2229, device='cuda:0', grad_fn=<NegBackward0>), tensor(-7.8272, device='cuda:0', grad_fn=<NegBackward0>), tensor(-87.4072, device='cuda:0', grad_fn=<AddBackward0>)]\n",
      "5.3775888812439465\n",
      "tensor(-135.3696, device='cuda:0', grad_fn=<NegBackward0>) [tensor(-37.2889, device='cuda:0', grad_fn=<NegBackward0>), tensor(-8.6008, device='cuda:0', grad_fn=<NegBackward0>), tensor(-89.4799, device='cuda:0', grad_fn=<AddBackward0>)]\n",
      "tensor(-136.5750, device='cuda:0', grad_fn=<NegBackward0>) [tensor(-37.2889, device='cuda:0', grad_fn=<NegBackward0>), tensor(-9.7076, device='cuda:0', grad_fn=<NegBackward0>), tensor(-89.5786, device='cuda:0', grad_fn=<AddBackward0>)]\n",
      "4.980884776520658\n",
      "tensor(-135.3215, device='cuda:0', grad_fn=<NegBackward0>) [tensor(-37.2291, device='cuda:0', grad_fn=<NegBackward0>), tensor(-9.2232, device='cuda:0', grad_fn=<NegBackward0>), tensor(-88.8692, device='cuda:0', grad_fn=<AddBackward0>)]\n",
      "tensor(-135.9409, device='cuda:0', grad_fn=<NegBackward0>) [tensor(-37.2291, device='cuda:0', grad_fn=<NegBackward0>), tensor(-9.4528, device='cuda:0', grad_fn=<NegBackward0>), tensor(-89.2590, device='cuda:0', grad_fn=<AddBackward0>)]\n",
      "4.59060489675064\n",
      "tensor(-137.0316, device='cuda:0', grad_fn=<NegBackward0>) [tensor(-37.1822, device='cuda:0', grad_fn=<NegBackward0>), tensor(-10.1209, device='cuda:0', grad_fn=<NegBackward0>), tensor(-89.7285, device='cuda:0', grad_fn=<AddBackward0>)]\n",
      "tensor(-133.4440, device='cuda:0', grad_fn=<NegBackward0>) [tensor(-37.1822, device='cuda:0', grad_fn=<NegBackward0>), tensor(-9.1371, device='cuda:0', grad_fn=<NegBackward0>), tensor(-87.1248, device='cuda:0', grad_fn=<AddBackward0>)]\n",
      "5.7826978587736555\n",
      "tensor(-135.3314, device='cuda:0', grad_fn=<NegBackward0>) [tensor(-37.1993, device='cuda:0', grad_fn=<NegBackward0>), tensor(-8.7509, device='cuda:0', grad_fn=<NegBackward0>), tensor(-89.3812, device='cuda:0', grad_fn=<AddBackward0>)]\n",
      "tensor(-136.8444, device='cuda:0', grad_fn=<NegBackward0>) [tensor(-37.1993, device='cuda:0', grad_fn=<NegBackward0>), tensor(-9.1319, device='cuda:0', grad_fn=<NegBackward0>), tensor(-90.5132, device='cuda:0', grad_fn=<AddBackward0>)]\n",
      "5.356206613811777\n",
      "tensor(-136.1357, device='cuda:0', grad_fn=<NegBackward0>) [tensor(-37.2362, device='cuda:0', grad_fn=<NegBackward0>), tensor(-9.0510, device='cuda:0', grad_fn=<NegBackward0>), tensor(-89.8484, device='cuda:0', grad_fn=<AddBackward0>)]\n",
      "tensor(-134.5753, device='cuda:0', grad_fn=<NegBackward0>) [tensor(-37.2362, device='cuda:0', grad_fn=<NegBackward0>), tensor(-8.6477, device='cuda:0', grad_fn=<NegBackward0>), tensor(-88.6913, device='cuda:0', grad_fn=<AddBackward0>)]\n",
      "4.628093511359486\n",
      "tensor(-134.3210, device='cuda:0', grad_fn=<NegBackward0>) [tensor(-37.2110, device='cuda:0', grad_fn=<NegBackward0>), tensor(-9.3820, device='cuda:0', grad_fn=<NegBackward0>), tensor(-87.7280, device='cuda:0', grad_fn=<AddBackward0>)]\n",
      "tensor(-138.0389, device='cuda:0', grad_fn=<NegBackward0>) [tensor(-37.2110, device='cuda:0', grad_fn=<NegBackward0>), tensor(-10.6557, device='cuda:0', grad_fn=<NegBackward0>), tensor(-90.1721, device='cuda:0', grad_fn=<AddBackward0>)]\n",
      "4.961121240901814\n",
      "tensor(-134.9044, device='cuda:0', grad_fn=<NegBackward0>) [tensor(-37.1707, device='cuda:0', grad_fn=<NegBackward0>), tensor(-9.1725, device='cuda:0', grad_fn=<NegBackward0>), tensor(-88.5612, device='cuda:0', grad_fn=<AddBackward0>)]\n",
      "tensor(-133.8272, device='cuda:0', grad_fn=<NegBackward0>) [tensor(-37.1707, device='cuda:0', grad_fn=<NegBackward0>), tensor(-8.7897, device='cuda:0', grad_fn=<NegBackward0>), tensor(-87.8668, device='cuda:0', grad_fn=<AddBackward0>)]\n",
      "5.444973697495438\n",
      "tensor(-135.1933, device='cuda:0', grad_fn=<NegBackward0>) [tensor(-37.1609, device='cuda:0', grad_fn=<NegBackward0>), tensor(-8.8650, device='cuda:0', grad_fn=<NegBackward0>), tensor(-89.1674, device='cuda:0', grad_fn=<AddBackward0>)]\n",
      "tensor(-134.8196, device='cuda:0', grad_fn=<NegBackward0>) [tensor(-37.1609, device='cuda:0', grad_fn=<NegBackward0>), tensor(-8.6397, device='cuda:0', grad_fn=<NegBackward0>), tensor(-89.0190, device='cuda:0', grad_fn=<AddBackward0>)]\n",
      "5.901674366926551\n",
      "tensor(-135.6122, device='cuda:0', grad_fn=<NegBackward0>) [tensor(-37.2426, device='cuda:0', grad_fn=<NegBackward0>), tensor(-8.8238, device='cuda:0', grad_fn=<NegBackward0>), tensor(-89.5458, device='cuda:0', grad_fn=<AddBackward0>)]\n",
      "tensor(-136.0698, device='cuda:0', grad_fn=<NegBackward0>) [tensor(-37.2426, device='cuda:0', grad_fn=<NegBackward0>), tensor(-9.0747, device='cuda:0', grad_fn=<NegBackward0>), tensor(-89.7524, device='cuda:0', grad_fn=<AddBackward0>)]\n",
      "5.084733932042346\n",
      "tensor(-137.3814, device='cuda:0', grad_fn=<NegBackward0>) [tensor(-37.2738, device='cuda:0', grad_fn=<NegBackward0>), tensor(-10.0645, device='cuda:0', grad_fn=<NegBackward0>), tensor(-90.0431, device='cuda:0', grad_fn=<AddBackward0>)]\n",
      "tensor(-133.5067, device='cuda:0', grad_fn=<NegBackward0>) [tensor(-37.2738, device='cuda:0', grad_fn=<NegBackward0>), tensor(-8.7820, device='cuda:0', grad_fn=<NegBackward0>), tensor(-87.4509, device='cuda:0', grad_fn=<AddBackward0>)]\n",
      "5.221309726961822\n",
      "tensor(-135.7332, device='cuda:0', grad_fn=<NegBackward0>) [tensor(-37.2034, device='cuda:0', grad_fn=<NegBackward0>), tensor(-9.3635, device='cuda:0', grad_fn=<NegBackward0>), tensor(-89.1664, device='cuda:0', grad_fn=<AddBackward0>)]\n",
      "tensor(-134.5956, device='cuda:0', grad_fn=<NegBackward0>) [tensor(-37.2034, device='cuda:0', grad_fn=<NegBackward0>), tensor(-8.4975, device='cuda:0', grad_fn=<NegBackward0>), tensor(-88.8947, device='cuda:0', grad_fn=<AddBackward0>)]\n",
      "5.461990100104387\n",
      "tensor(-136.8878, device='cuda:0', grad_fn=<NegBackward0>) [tensor(-37.2308, device='cuda:0', grad_fn=<NegBackward0>), tensor(-9.4440, device='cuda:0', grad_fn=<NegBackward0>), tensor(-90.2130, device='cuda:0', grad_fn=<AddBackward0>)]\n",
      "tensor(-137.1563, device='cuda:0', grad_fn=<NegBackward0>) [tensor(-37.2308, device='cuda:0', grad_fn=<NegBackward0>), tensor(-9.7682, device='cuda:0', grad_fn=<NegBackward0>), tensor(-90.1573, device='cuda:0', grad_fn=<AddBackward0>)]\n"
     ]
    },
    {
     "name": "stdout",
     "output_type": "stream",
     "text": [
      "5.624706488408153\n",
      "tensor(-134.2478, device='cuda:0', grad_fn=<NegBackward0>) [tensor(-37.1757, device='cuda:0', grad_fn=<NegBackward0>), tensor(-8.3645, device='cuda:0', grad_fn=<NegBackward0>), tensor(-88.7076, device='cuda:0', grad_fn=<AddBackward0>)]\n",
      "tensor(-134.4191, device='cuda:0', grad_fn=<NegBackward0>) [tensor(-37.1757, device='cuda:0', grad_fn=<NegBackward0>), tensor(-8.8916, device='cuda:0', grad_fn=<NegBackward0>), tensor(-88.3518, device='cuda:0', grad_fn=<AddBackward0>)]\n",
      "5.160611652158463\n",
      "tensor(-134.9066, device='cuda:0', grad_fn=<NegBackward0>) [tensor(-37.2346, device='cuda:0', grad_fn=<NegBackward0>), tensor(-8.8945, device='cuda:0', grad_fn=<NegBackward0>), tensor(-88.7775, device='cuda:0', grad_fn=<AddBackward0>)]\n",
      "tensor(-137.0540, device='cuda:0', grad_fn=<NegBackward0>) [tensor(-37.2346, device='cuda:0', grad_fn=<NegBackward0>), tensor(-9.6117, device='cuda:0', grad_fn=<NegBackward0>), tensor(-90.2077, device='cuda:0', grad_fn=<AddBackward0>)]\n",
      "5.107308202703726\n",
      "tensor(-138.1685, device='cuda:0', grad_fn=<NegBackward0>) [tensor(-37.2328, device='cuda:0', grad_fn=<NegBackward0>), tensor(-10.0568, device='cuda:0', grad_fn=<NegBackward0>), tensor(-90.8789, device='cuda:0', grad_fn=<AddBackward0>)]\n",
      "tensor(-135.6896, device='cuda:0', grad_fn=<NegBackward0>) [tensor(-37.2328, device='cuda:0', grad_fn=<NegBackward0>), tensor(-9.2430, device='cuda:0', grad_fn=<NegBackward0>), tensor(-89.2138, device='cuda:0', grad_fn=<AddBackward0>)]\n",
      "5.039923110299201\n",
      "tensor(-133.7732, device='cuda:0', grad_fn=<NegBackward0>) [tensor(-37.2123, device='cuda:0', grad_fn=<NegBackward0>), tensor(-8.4490, device='cuda:0', grad_fn=<NegBackward0>), tensor(-88.1119, device='cuda:0', grad_fn=<AddBackward0>)]\n",
      "tensor(-137.3525, device='cuda:0', grad_fn=<NegBackward0>) [tensor(-37.2123, device='cuda:0', grad_fn=<NegBackward0>), tensor(-10.1645, device='cuda:0', grad_fn=<NegBackward0>), tensor(-89.9757, device='cuda:0', grad_fn=<AddBackward0>)]\n",
      "4.904826737116388\n",
      "tensor(-134.3932, device='cuda:0', grad_fn=<NegBackward0>) [tensor(-37.2086, device='cuda:0', grad_fn=<NegBackward0>), tensor(-9.6040, device='cuda:0', grad_fn=<NegBackward0>), tensor(-87.5806, device='cuda:0', grad_fn=<AddBackward0>)]\n",
      "tensor(-133.6347, device='cuda:0', grad_fn=<NegBackward0>) [tensor(-37.2086, device='cuda:0', grad_fn=<NegBackward0>), tensor(-8.6560, device='cuda:0', grad_fn=<NegBackward0>), tensor(-87.7701, device='cuda:0', grad_fn=<AddBackward0>)]\n",
      "5.387731916174606\n",
      "tensor(-135.4391, device='cuda:0', grad_fn=<NegBackward0>) [tensor(-37.2575, device='cuda:0', grad_fn=<NegBackward0>), tensor(-9.3423, device='cuda:0', grad_fn=<NegBackward0>), tensor(-88.8393, device='cuda:0', grad_fn=<AddBackward0>)]\n",
      "tensor(-135.3779, device='cuda:0', grad_fn=<NegBackward0>) [tensor(-37.2575, device='cuda:0', grad_fn=<NegBackward0>), tensor(-8.6734, device='cuda:0', grad_fn=<NegBackward0>), tensor(-89.4470, device='cuda:0', grad_fn=<AddBackward0>)]\n",
      "4.833392326303242\n",
      "tensor(-135.9539, device='cuda:0', grad_fn=<NegBackward0>) [tensor(-37.2507, device='cuda:0', grad_fn=<NegBackward0>), tensor(-9.9679, device='cuda:0', grad_fn=<NegBackward0>), tensor(-88.7352, device='cuda:0', grad_fn=<AddBackward0>)]\n",
      "tensor(-131.9694, device='cuda:0', grad_fn=<NegBackward0>) [tensor(-37.2507, device='cuda:0', grad_fn=<NegBackward0>), tensor(-8.4015, device='cuda:0', grad_fn=<NegBackward0>), tensor(-86.3172, device='cuda:0', grad_fn=<AddBackward0>)]\n",
      "5.430848742766382\n",
      "tensor(-135.1198, device='cuda:0', grad_fn=<NegBackward0>) [tensor(-37.2590, device='cuda:0', grad_fn=<NegBackward0>), tensor(-8.8138, device='cuda:0', grad_fn=<NegBackward0>), tensor(-89.0470, device='cuda:0', grad_fn=<AddBackward0>)]\n",
      "tensor(-133.8954, device='cuda:0', grad_fn=<NegBackward0>) [tensor(-37.2590, device='cuda:0', grad_fn=<NegBackward0>), tensor(-8.3608, device='cuda:0', grad_fn=<NegBackward0>), tensor(-88.2756, device='cuda:0', grad_fn=<AddBackward0>)]\n",
      "5.254315119406229\n",
      "tensor(-136.2185, device='cuda:0', grad_fn=<NegBackward0>) [tensor(-37.3172, device='cuda:0', grad_fn=<NegBackward0>), tensor(-9.3916, device='cuda:0', grad_fn=<NegBackward0>), tensor(-89.5096, device='cuda:0', grad_fn=<AddBackward0>)]\n",
      "tensor(-135.6943, device='cuda:0', grad_fn=<NegBackward0>) [tensor(-37.3172, device='cuda:0', grad_fn=<NegBackward0>), tensor(-9.0232, device='cuda:0', grad_fn=<NegBackward0>), tensor(-89.3539, device='cuda:0', grad_fn=<AddBackward0>)]\n",
      "5.095398477273073\n",
      "tensor(-136.0099, device='cuda:0', grad_fn=<NegBackward0>) [tensor(-37.2776, device='cuda:0', grad_fn=<NegBackward0>), tensor(-9.0675, device='cuda:0', grad_fn=<NegBackward0>), tensor(-89.6649, device='cuda:0', grad_fn=<AddBackward0>)]\n",
      "tensor(-136.0713, device='cuda:0', grad_fn=<NegBackward0>) [tensor(-37.2776, device='cuda:0', grad_fn=<NegBackward0>), tensor(-9.7488, device='cuda:0', grad_fn=<NegBackward0>), tensor(-89.0450, device='cuda:0', grad_fn=<AddBackward0>)]\n",
      "5.240079530531561\n",
      "tensor(-135.4418, device='cuda:0', grad_fn=<NegBackward0>) [tensor(-37.2076, device='cuda:0', grad_fn=<NegBackward0>), tensor(-9.1072, device='cuda:0', grad_fn=<NegBackward0>), tensor(-89.1271, device='cuda:0', grad_fn=<AddBackward0>)]\n",
      "tensor(-134.5380, device='cuda:0', grad_fn=<NegBackward0>) [tensor(-37.2076, device='cuda:0', grad_fn=<NegBackward0>), tensor(-8.6268, device='cuda:0', grad_fn=<NegBackward0>), tensor(-88.7036, device='cuda:0', grad_fn=<AddBackward0>)]\n",
      "5.340598121483005\n",
      "tensor(-135.5802, device='cuda:0', grad_fn=<NegBackward0>) [tensor(-37.2217, device='cuda:0', grad_fn=<NegBackward0>), tensor(-9.0808, device='cuda:0', grad_fn=<NegBackward0>), tensor(-89.2777, device='cuda:0', grad_fn=<AddBackward0>)]\n",
      "tensor(-135.1146, device='cuda:0', grad_fn=<NegBackward0>) [tensor(-37.2217, device='cuda:0', grad_fn=<NegBackward0>), tensor(-9.1449, device='cuda:0', grad_fn=<NegBackward0>), tensor(-88.7479, device='cuda:0', grad_fn=<AddBackward0>)]\n",
      "4.899038594019909\n",
      "tensor(-135.9910, device='cuda:0', grad_fn=<NegBackward0>) [tensor(-37.2171, device='cuda:0', grad_fn=<NegBackward0>), tensor(-9.8037, device='cuda:0', grad_fn=<NegBackward0>), tensor(-88.9701, device='cuda:0', grad_fn=<AddBackward0>)]\n",
      "tensor(-134.1528, device='cuda:0', grad_fn=<NegBackward0>) [tensor(-37.2171, device='cuda:0', grad_fn=<NegBackward0>), tensor(-8.8343, device='cuda:0', grad_fn=<NegBackward0>), tensor(-88.1014, device='cuda:0', grad_fn=<AddBackward0>)]\n",
      "4.695965324125158\n",
      "tensor(-135.5479, device='cuda:0', grad_fn=<NegBackward0>) [tensor(-37.2379, device='cuda:0', grad_fn=<NegBackward0>), tensor(-9.3434, device='cuda:0', grad_fn=<NegBackward0>), tensor(-88.9666, device='cuda:0', grad_fn=<AddBackward0>)]\n",
      "tensor(-137.8838, device='cuda:0', grad_fn=<NegBackward0>) [tensor(-37.2379, device='cuda:0', grad_fn=<NegBackward0>), tensor(-11.0321, device='cuda:0', grad_fn=<NegBackward0>), tensor(-89.6138, device='cuda:0', grad_fn=<AddBackward0>)]\n",
      "5.447184451067642\n",
      "tensor(-133.4089, device='cuda:0', grad_fn=<NegBackward0>) [tensor(-37.0763, device='cuda:0', grad_fn=<NegBackward0>), tensor(-8.3350, device='cuda:0', grad_fn=<NegBackward0>), tensor(-87.9976, device='cuda:0', grad_fn=<AddBackward0>)]\n",
      "tensor(-137.1382, device='cuda:0', grad_fn=<NegBackward0>) [tensor(-37.0763, device='cuda:0', grad_fn=<NegBackward0>), tensor(-9.9792, device='cuda:0', grad_fn=<NegBackward0>), tensor(-90.0827, device='cuda:0', grad_fn=<AddBackward0>)]\n",
      "5.400106578097213\n",
      "tensor(-135.5052, device='cuda:0', grad_fn=<NegBackward0>) [tensor(-37.0853, device='cuda:0', grad_fn=<NegBackward0>), tensor(-9.2030, device='cuda:0', grad_fn=<NegBackward0>), tensor(-89.2169, device='cuda:0', grad_fn=<AddBackward0>)]\n",
      "tensor(-135.2476, device='cuda:0', grad_fn=<NegBackward0>) [tensor(-37.0853, device='cuda:0', grad_fn=<NegBackward0>), tensor(-8.9928, device='cuda:0', grad_fn=<NegBackward0>), tensor(-89.1695, device='cuda:0', grad_fn=<AddBackward0>)]\n",
      "5.3907847283723385\n",
      "tensor(-134.3511, device='cuda:0', grad_fn=<NegBackward0>) [tensor(-37.1377, device='cuda:0', grad_fn=<NegBackward0>), tensor(-8.5422, device='cuda:0', grad_fn=<NegBackward0>), tensor(-88.6711, device='cuda:0', grad_fn=<AddBackward0>)]\n",
      "tensor(-134.9214, device='cuda:0', grad_fn=<NegBackward0>) [tensor(-37.1377, device='cuda:0', grad_fn=<NegBackward0>), tensor(-8.8883, device='cuda:0', grad_fn=<NegBackward0>), tensor(-88.8954, device='cuda:0', grad_fn=<AddBackward0>)]\n"
     ]
    },
    {
     "name": "stdout",
     "output_type": "stream",
     "text": [
      "5.741920906934458\n",
      "tensor(-134.4510, device='cuda:0', grad_fn=<NegBackward0>) [tensor(-37.1841, device='cuda:0', grad_fn=<NegBackward0>), tensor(-8.4300, device='cuda:0', grad_fn=<NegBackward0>), tensor(-88.8369, device='cuda:0', grad_fn=<AddBackward0>)]\n",
      "tensor(-134.3602, device='cuda:0', grad_fn=<NegBackward0>) [tensor(-37.1841, device='cuda:0', grad_fn=<NegBackward0>), tensor(-8.4153, device='cuda:0', grad_fn=<NegBackward0>), tensor(-88.7609, device='cuda:0', grad_fn=<AddBackward0>)]\n",
      "6.0145003453771375\n",
      "tensor(-133.9668, device='cuda:0', grad_fn=<NegBackward0>) [tensor(-37.2744, device='cuda:0', grad_fn=<NegBackward0>), tensor(-8.0282, device='cuda:0', grad_fn=<NegBackward0>), tensor(-88.6642, device='cuda:0', grad_fn=<AddBackward0>)]\n",
      "tensor(-134.4978, device='cuda:0', grad_fn=<NegBackward0>) [tensor(-37.2744, device='cuda:0', grad_fn=<NegBackward0>), tensor(-8.2688, device='cuda:0', grad_fn=<NegBackward0>), tensor(-88.9547, device='cuda:0', grad_fn=<AddBackward0>)]\n",
      "5.382036272643092\n",
      "tensor(-135.3730, device='cuda:0', grad_fn=<NegBackward0>) [tensor(-37.3533, device='cuda:0', grad_fn=<NegBackward0>), tensor(-9.0749, device='cuda:0', grad_fn=<NegBackward0>), tensor(-88.9448, device='cuda:0', grad_fn=<AddBackward0>)]\n",
      "tensor(-135.3777, device='cuda:0', grad_fn=<NegBackward0>) [tensor(-37.3533, device='cuda:0', grad_fn=<NegBackward0>), tensor(-8.8751, device='cuda:0', grad_fn=<NegBackward0>), tensor(-89.1493, device='cuda:0', grad_fn=<AddBackward0>)]\n",
      "4.888400000093408\n",
      "tensor(-135.1441, device='cuda:0', grad_fn=<NegBackward0>) [tensor(-37.3949, device='cuda:0', grad_fn=<NegBackward0>), tensor(-8.6263, device='cuda:0', grad_fn=<NegBackward0>), tensor(-89.1229, device='cuda:0', grad_fn=<AddBackward0>)]\n",
      "tensor(-135.1116, device='cuda:0', grad_fn=<NegBackward0>) [tensor(-37.3949, device='cuda:0', grad_fn=<NegBackward0>), tensor(-8.9876, device='cuda:0', grad_fn=<NegBackward0>), tensor(-88.7291, device='cuda:0', grad_fn=<AddBackward0>)]\n",
      "5.2324642001961585\n",
      "tensor(-135.1055, device='cuda:0', grad_fn=<NegBackward0>) [tensor(-37.2892, device='cuda:0', grad_fn=<NegBackward0>), tensor(-8.9710, device='cuda:0', grad_fn=<NegBackward0>), tensor(-88.8453, device='cuda:0', grad_fn=<AddBackward0>)]\n",
      "tensor(-134.8009, device='cuda:0', grad_fn=<NegBackward0>) [tensor(-37.2892, device='cuda:0', grad_fn=<NegBackward0>), tensor(-8.6147, device='cuda:0', grad_fn=<NegBackward0>), tensor(-88.8970, device='cuda:0', grad_fn=<AddBackward0>)]\n",
      "5.687459556464466\n",
      "tensor(-136.0945, device='cuda:0', grad_fn=<NegBackward0>) [tensor(-37.3307, device='cuda:0', grad_fn=<NegBackward0>), tensor(-9.0481, device='cuda:0', grad_fn=<NegBackward0>), tensor(-89.7158, device='cuda:0', grad_fn=<AddBackward0>)]\n",
      "tensor(-135.4971, device='cuda:0', grad_fn=<NegBackward0>) [tensor(-37.3307, device='cuda:0', grad_fn=<NegBackward0>), tensor(-8.6654, device='cuda:0', grad_fn=<NegBackward0>), tensor(-89.5010, device='cuda:0', grad_fn=<AddBackward0>)]\n",
      "5.254484637268602\n",
      "tensor(-137.3382, device='cuda:0', grad_fn=<NegBackward0>) [tensor(-37.2828, device='cuda:0', grad_fn=<NegBackward0>), tensor(-10.0310, device='cuda:0', grad_fn=<NegBackward0>), tensor(-90.0244, device='cuda:0', grad_fn=<AddBackward0>)]\n"
     ]
    }
   ],
   "source": [
    "# data selected\n",
    "mean_V = []\n",
    "n_dis2 = 1\n",
    "n_dis = 1\n",
    "mode = 1\n",
    "gam3 = 1\n",
    "mcr_gan_loss = MCRGANloss(gam1=1., gam2=1., gam3=gam3, eps=0.5, numclasses=numclasses, mode=mode, rho=None)\n",
    "loss_V = 0\n",
    "last_V = -1000\n",
    "num_steps = 500\n",
    "lr1 = 1e-3\n",
    "lr2 = 1e-3\n",
    "optD = optim.Adam(netD.parameters(), lr1, betas=(0.5, 0.999))\n",
    "optG = optim.Adam(netG.parameters(), lr2, betas=(0.5, 0.999))\n",
    "meanV_sum = []\n",
    "radius_list = []\n",
    "radius = 5\n",
    "\n",
    "for epoch in range(num_steps):\n",
    "    if 1==1:\n",
    "        \n",
    "        #radius,_ = gs_radius(radius1=0,radius2=100,netD=netD,real_cpu=real_cpu,real_label=real_label,tor=1e-5,n_dis=2,lam=0.618,mode=mode)\n",
    "        #radius_list.append(radius)\n",
    "        #print(radius)\n",
    "\n",
    "        for i in range(n_dis):\n",
    "            netD.zero_grad()\n",
    "            optD.zero_grad()\n",
    "            Z = netD(real_cpu)\n",
    "            net_noise = get_noise(DATASET, device, LABEL)\n",
    "            #radius,_ = gs_radius(radius1=0,radius2=100,netD=netD,real_cpu=real_cpu,real_label=real_label,tor=1e-5,n_dis=2,lam=0.618,mode=mode)\n",
    "            #radius_list.append(radius)\n",
    "            #print(radius)\n",
    "            fed_state_dict = get_netG(netD,netV,net_noise,radius)\n",
    "            netG.load_state_dict(fed_state_dict)\n",
    "            Z_bar = netG(real_cpu)\n",
    "            errD, errD_EC = mcr_gan_loss(Z, Z_bar, real_label, 1, n_dis)\n",
    "            print(errD, errD_EC)\n",
    "            errD.backward()\n",
    "            optD.step()\n",
    "        temp = 0\n",
    "        for j in range(n_dis2):\n",
    "            netG.zero_grad()\n",
    "            optG.zero_grad()\n",
    "\n",
    "            Z = netD(real_cpu)\n",
    "            net_noise = get_noise(DATASET, device, LABEL)\n",
    "            radius,_ = gs_radius(radius1=0,radius2=100,netD=netD,real_cpu=real_cpu,real_label=real_label,tor=1e-5,n_dis=2,lam=0.618,mode=mode)\n",
    "            radius_list.append(radius)\n",
    "            print(radius)\n",
    "            fed_state_dict = get_netG(netD,netV,net_noise,radius)\n",
    "            netG.load_state_dict(fed_state_dict)\n",
    "            Z_bar = netG(real_cpu)\n",
    "            errG, errG_EC = mcr_gan_loss(Z, Z_bar, real_label, n_dis2 - 1, n_dis2)\n",
    "            print(errG, errG_EC)\n",
    "            temp = errG\n",
    "            errG = (-1) * errG\n",
    "            errG.backward()\n",
    "            optG.step()\n",
    "\n",
    "            update_dic = update_netV(netV,netG,net_noise,fed_state_dict,radius)\n",
    "            netV.load_state_dict(update_dic)\n",
    "\n",
    "        loss_V = temp\n",
    "        "
   ]
  },
  {
   "cell_type": "code",
   "execution_count": 8,
   "id": "58be30d1",
   "metadata": {},
   "outputs": [
    {
     "data": {
      "text/plain": [
       "[99.46526550294142,\n",
       " 5.335757674659305,\n",
       " 4.9626793202252495,\n",
       " 56.157269475137674,\n",
       " 4.944625396214916,\n",
       " 5.293334796713626,\n",
       " 5.086659777634566,\n",
       " 5.536800251752226,\n",
       " 5.152032951282645,\n",
       " 4.981625340422114,\n",
       " 5.893158515731432,\n",
       " 5.2156609581602185,\n",
       " 5.848009191846782,\n",
       " 5.2209317844907766,\n",
       " 5.5387326633568055,\n",
       " 6.654194278781697,\n",
       " 5.454379786178018,\n",
       " 8.32097956006593,\n",
       " 5.685076007302262,\n",
       " 5.4715922376845,\n",
       " 5.784477453634504,\n",
       " 6.2113488532307555,\n",
       " 5.51505432744512,\n",
       " 5.2360867647835425,\n",
       " 5.539321810884139,\n",
       " 6.0373478632081055,\n",
       " 5.460426072347165,\n",
       " 6.559253749084248,\n",
       " 5.572715763876178,\n",
       " 5.526481805476234,\n",
       " 5.5132667661637385,\n",
       " 5.152456795548261,\n",
       " 5.885639167150233,\n",
       " 5.407499819889886,\n",
       " 5.7722375350358,\n",
       " 5.615924814613502,\n",
       " 5.441161155803575,\n",
       " 5.561300117631943,\n",
       " 5.644893273198948,\n",
       " 5.622095788942042,\n",
       " 5.374240994369011,\n",
       " 5.609480362545742,\n",
       " 6.011389363931392,\n",
       " 6.11855306773308,\n",
       " 5.666042106304526,\n",
       " 6.143176898273719,\n",
       " 5.059363477190161,\n",
       " 5.599005917836417,\n",
       " 7.378794437525651,\n",
       " 5.338313685554415,\n",
       " 4.982060114186431,\n",
       " 5.344326205989477,\n",
       " 5.973967772127399,\n",
       " 5.763809576592772,\n",
       " 5.355571545529297,\n",
       " 6.274894934572128,\n",
       " 5.382121309690568,\n",
       " 4.692758511559638,\n",
       " 5.553503732433722,\n",
       " 6.00039894733508,\n",
       " 4.966767408432223,\n",
       " 5.364968212141197,\n",
       " 4.644962999850676,\n",
       " 6.602055890147186,\n",
       " 5.6985383341046525,\n",
       " 6.477060298609655,\n",
       " 5.7242064120518465,\n",
       " 5.2478806597181915,\n",
       " 5.982745853175801,\n",
       " 5.965860195030153,\n",
       " 5.857967232938298,\n",
       " 5.675199695390829,\n",
       " 5.3191030137586885,\n",
       " 5.672174004227486,\n",
       " 5.190427810456757,\n",
       " 5.142879416918102,\n",
       " 6.1436831793027125,\n",
       " 5.411496494789693,\n",
       " 5.2705363644606615,\n",
       " 5.590654565424196,\n",
       " 5.244988683672627,\n",
       " 5.592687205322297,\n",
       " 4.91337007949878,\n",
       " 6.3120253501380255,\n",
       " 6.041285367252516,\n",
       " 5.063357338900568,\n",
       " 5.173286955158578,\n",
       " 4.841686745883719,\n",
       " 5.76889001263258,\n",
       " 5.038514460571486,\n",
       " 5.532713093506329,\n",
       " 5.4702606174465815,\n",
       " 4.942494856488696,\n",
       " 5.093828738663539,\n",
       " 4.925934869718669,\n",
       " 4.960155998238514,\n",
       " 4.974335827292137,\n",
       " 5.057308200893153,\n",
       " 5.076194611548982,\n",
       " 5.354524076030335,\n",
       " 4.938800312943477,\n",
       " 5.180843142166664,\n",
       " 4.80347719111705,\n",
       " 4.3506481319556105,\n",
       " 5.195698594559657,\n",
       " 5.045097831958694,\n",
       " 5.103578412156155,\n",
       " 4.5139002938759925,\n",
       " 4.747094884851092,\n",
       " 4.62937353800509,\n",
       " 4.9388316404751285,\n",
       " 5.106705581555556,\n",
       " 4.8649591444740095,\n",
       " 5.327624221593448,\n",
       " 5.219737520886239,\n",
       " 4.885281174079655,\n",
       " 4.784985934804636,\n",
       " 4.865232794678636,\n",
       " 5.295541936700253,\n",
       " 4.668124954807506,\n",
       " 5.137325517286496,\n",
       " 5.098996307692878,\n",
       " 4.773692440250705,\n",
       " 5.862701667522283,\n",
       " 4.612237373320059,\n",
       " 5.744981540302656,\n",
       " 5.25425801055442,\n",
       " 4.795075711335975,\n",
       " 5.0334373012383855,\n",
       " 4.730006434007872,\n",
       " 4.742816537769011,\n",
       " 4.723951521605695,\n",
       " 5.024624078263377,\n",
       " 5.284713939298171,\n",
       " 4.805297989279486,\n",
       " 5.5382704419587485,\n",
       " 5.553133214564721,\n",
       " 5.293016574964633,\n",
       " 5.873689688076868,\n",
       " 4.957036636712786,\n",
       " 4.417934811835064,\n",
       " 5.235487810224214,\n",
       " 4.661510534595097,\n",
       " 5.9602071777555485,\n",
       " 4.974933542088692,\n",
       " 4.69082995923099,\n",
       " 4.947680970758243,\n",
       " 5.163597206215068,\n",
       " 5.135540872983075,\n",
       " 5.261318191298846,\n",
       " 4.468396456259006,\n",
       " 5.576805998565712,\n",
       " 4.737052500311244,\n",
       " 4.758920484043249,\n",
       " 5.216571073434548,\n",
       " 5.375052454117291,\n",
       " 4.881199976515183,\n",
       " 4.6018966582453755,\n",
       " 4.615845846605755,\n",
       " 4.6450209599137615,\n",
       " 5.061426768012454,\n",
       " 5.529962982652477,\n",
       " 4.612671791856854,\n",
       " 5.321024038211407,\n",
       " 4.6551677757024645,\n",
       " 4.477026641799843,\n",
       " 4.887584619296679,\n",
       " 4.833045689887136,\n",
       " 4.81471965721431,\n",
       " 5.00582435700418,\n",
       " 4.930219955091747,\n",
       " 5.223833881512843,\n",
       " 4.800296040255253,\n",
       " 4.169202617849654,\n",
       " 4.734647818085815,\n",
       " 4.491661595001637,\n",
       " 5.117872639845009,\n",
       " 4.762409489640385,\n",
       " 4.8802375199468235,\n",
       " 4.961120098948193,\n",
       " 4.612585588579157,\n",
       " 5.057483059585219,\n",
       " 4.531137922356695,\n",
       " 5.053247678405038,\n",
       " 4.457848727359946,\n",
       " 4.504105860563618,\n",
       " 4.7600990601788,\n",
       " 5.0052107587450605,\n",
       " 4.601211339700011,\n",
       " 4.6909116619772435,\n",
       " 4.666412715468586,\n",
       " 4.738729549177585,\n",
       " 4.887929063154956,\n",
       " 4.7513328039906115,\n",
       " 4.990667334606892,\n",
       " 4.583899325995183,\n",
       " 5.019629947879664,\n",
       " 4.759888827733871,\n",
       " 4.300352289261596,\n",
       " 4.764161101136139,\n",
       " 5.291548094217259,\n",
       " 4.706847327339496,\n",
       " 5.355388832656066,\n",
       " 4.80286158431663,\n",
       " 5.888324854938654,\n",
       " 4.706800331551199,\n",
       " 4.746758552819551,\n",
       " 4.886237326919459,\n",
       " 5.547492669601193,\n",
       " 5.074638690485745,\n",
       " 4.121927516105159,\n",
       " 5.126036196476428,\n",
       " 4.501444168194425,\n",
       " 5.569177710395345,\n",
       " 5.0257832272183585,\n",
       " 4.807920085003142,\n",
       " 5.056978467597172,\n",
       " 4.794601245718121,\n",
       " 4.805624240973777,\n",
       " 4.852256269716231,\n",
       " 4.8751053369061195,\n",
       " 4.672056031586517,\n",
       " 4.256220271907043,\n",
       " 4.45519449023043,\n",
       " 5.118367847989909,\n",
       " 4.657269004993109,\n",
       " 4.804346787996604,\n",
       " 4.447847447138149,\n",
       " 4.7091819153586885,\n",
       " 4.580088121704981,\n",
       " 4.896114333684302,\n",
       " 5.03412816992629,\n",
       " 5.2643816127130965,\n",
       " 4.92500198602861,\n",
       " 4.603800213282849,\n",
       " 4.522608114492506,\n",
       " 4.748235176067521,\n",
       " 4.211817329935183,\n",
       " 4.690640393729404,\n",
       " 5.271042070452833,\n",
       " 4.7651363887774645,\n",
       " 4.6658318485714405,\n",
       " 5.7688733375586185,\n",
       " 4.673621031683493,\n",
       " 4.916771517909519,\n",
       " 5.125069726297992,\n",
       " 4.757896521787769,\n",
       " 4.723138883360647,\n",
       " 4.470963988421191,\n",
       " 4.945373201351801,\n",
       " 4.874593385826848,\n",
       " 4.878018245481371,\n",
       " 4.695965324125158,\n",
       " 4.595053066492114,\n",
       " 5.520044755746134,\n",
       " 5.627365632629272,\n",
       " 5.304111703451627,\n",
       " 5.128256863355597,\n",
       " 4.482545397026933,\n",
       " 5.169418716015047,\n",
       " 5.082203231204475,\n",
       " 5.517801689304315,\n",
       " 5.02013852560741,\n",
       " 4.426693040751442,\n",
       " 4.90261982889673,\n",
       " 4.673256384222538,\n",
       " 4.980888036999286,\n",
       " 4.733687401049596,\n",
       " 5.270080162059522,\n",
       " 5.1648182770964866,\n",
       " 4.734366199222258,\n",
       " 4.8378446938265585,\n",
       " 5.043512148603444,\n",
       " 4.758465654732521,\n",
       " 4.6871855478322955,\n",
       " 4.708216587133874,\n",
       " 4.995342702168738,\n",
       " 5.1341329451178135,\n",
       " 4.851059574731382,\n",
       " 5.439612318421715,\n",
       " 5.007891014055361,\n",
       " 4.934098974699843,\n",
       " 4.444078084264253,\n",
       " 4.841144774181385,\n",
       " 4.158029693873558,\n",
       " 5.010867317225457,\n",
       " 4.725009722455249,\n",
       " 5.064180187702049,\n",
       " 4.9293669121565715,\n",
       " 5.296283446940263,\n",
       " 4.734284437911424,\n",
       " 4.751859597571484,\n",
       " 4.550261683450789,\n",
       " 5.564795969048279,\n",
       " 5.255763459417047,\n",
       " 5.338144779122632,\n",
       " 4.64873305855663,\n",
       " 5.138413856254127,\n",
       " 5.034907371919599,\n",
       " 4.590286291645782,\n",
       " 4.739101189629934,\n",
       " 4.6984675258180255,\n",
       " 4.547788915745743,\n",
       " 4.519629114083083,\n",
       " 5.138848404719837,\n",
       " 5.224820015679737,\n",
       " 4.563119224508752,\n",
       " 5.211552436386645,\n",
       " 4.978930195565339,\n",
       " 5.490533047148533,\n",
       " 4.7056981685976815,\n",
       " 4.95277380218036,\n",
       " 4.979243363454326,\n",
       " 4.836370477662434,\n",
       " 4.935061239784696,\n",
       " 4.496990421671164,\n",
       " 4.896795344784709,\n",
       " 5.129152269623512,\n",
       " 5.026192656882175,\n",
       " 5.352258640306201,\n",
       " 5.368403865884404,\n",
       " 4.83969791925074,\n",
       " 4.914280386522003,\n",
       " 4.7698403949293136,\n",
       " 5.09638899192667,\n",
       " 5.043360252795911,\n",
       " 5.933763540023769,\n",
       " 4.583799340533066,\n",
       " 5.221884415843848,\n",
       " 4.707592078877651,\n",
       " 4.812019099679367,\n",
       " 4.7966389464357935,\n",
       " 5.337350086805194,\n",
       " 4.830275217200811,\n",
       " 5.192722032716256,\n",
       " 5.250263950061567,\n",
       " 4.650663054346581,\n",
       " 4.6739756230879275,\n",
       " 4.979231817014576,\n",
       " 5.023659460126097,\n",
       " 5.0891012986850415,\n",
       " 4.969341540441611,\n",
       " 4.714923132969687,\n",
       " 5.485121860696946,\n",
       " 5.2790690430772305,\n",
       " 4.847337762249716,\n",
       " 4.746079598583668,\n",
       " 5.354074162573535,\n",
       " 5.062758943840227,\n",
       " 4.963545946862152,\n",
       " 5.048350554747684,\n",
       " 4.756484945640101,\n",
       " 5.180127935126582,\n",
       " 4.880460482632181,\n",
       " 4.878682944884985,\n",
       " 5.186365876051202,\n",
       " 5.032809203784058,\n",
       " 4.830643944924983,\n",
       " 5.113366719763345,\n",
       " 5.0975765007012495,\n",
       " 5.110798963674204,\n",
       " 4.93120689567996,\n",
       " 5.106630301651053,\n",
       " 5.362242626864854,\n",
       " 5.063952480326055,\n",
       " 4.667953092399228,\n",
       " 4.526235024644639,\n",
       " 5.268426945682214,\n",
       " 6.063011027161061,\n",
       " 5.232956796811736,\n",
       " 5.496409767608156,\n",
       " 5.033421706399752,\n",
       " 4.906107026715854,\n",
       " 5.238379185266488,\n",
       " 5.316342038266213,\n",
       " 4.964606069430779,\n",
       " 5.699913289190729,\n",
       " 5.29549081502829,\n",
       " 5.279217703852882,\n",
       " 4.885288296231895,\n",
       " 4.660015730298869,\n",
       " 5.219869415703979,\n",
       " 6.088499591044103,\n",
       " 4.909226089757913,\n",
       " 4.489308738303487,\n",
       " 5.074777915060798,\n",
       " 4.9957125263665345,\n",
       " 5.075284896765255,\n",
       " 5.121854535195124,\n",
       " 4.982846469060325,\n",
       " 4.916748495619982,\n",
       " 4.9733126948874276,\n",
       " 5.4209906605521985,\n",
       " 5.174467935530274,\n",
       " 6.164462635058394,\n",
       " 4.974277117207815,\n",
       " 4.760023027820481,\n",
       " 4.945608415937277,\n",
       " 4.839528691045589,\n",
       " 4.704103564297055,\n",
       " 4.8425225179081215,\n",
       " 5.918020741601311,\n",
       " 5.303934237360333,\n",
       " 5.027568158805917,\n",
       " 4.909191400543582,\n",
       " 4.833463905493634,\n",
       " 5.096610058402213,\n",
       " 4.516077261031145,\n",
       " 5.510914853462243,\n",
       " 4.726488883631229,\n",
       " 5.364742650789216,\n",
       " 5.473839649263072,\n",
       " 5.276458259502607,\n",
       " 5.1845549525016095,\n",
       " 4.782542481892425,\n",
       " 5.4487415139440385,\n",
       " 4.864277501925299,\n",
       " 5.084680311920583,\n",
       " 5.098073778747318,\n",
       " 5.138140232223152,\n",
       " 5.098469437444837,\n",
       " 4.936220901981821,\n",
       " 5.063984588314192,\n",
       " 4.969571846894856,\n",
       " 5.219660623062281,\n",
       " 5.188268515873933,\n",
       " 4.991721780078178,\n",
       " 5.404138439320855,\n",
       " 5.055763394370128,\n",
       " 5.03601951228961,\n",
       " 5.088727921447101,\n",
       " 4.954509427155772,\n",
       " 4.821148432593195,\n",
       " 5.324841165419488,\n",
       " 5.590241806572728,\n",
       " 4.4826654361357114,\n",
       " 5.36786331153998,\n",
       " 5.191165141812631,\n",
       " 4.620891075243606,\n",
       " 5.052481089363592,\n",
       " 4.9834653443727275,\n",
       " 4.8267875834363005,\n",
       " 4.775847165554779,\n",
       " 4.687802085374222,\n",
       " 4.553920721653676,\n",
       " 5.239572261436856,\n",
       " 4.6925043086297045,\n",
       " 5.301199135976821,\n",
       " 5.5764428154956525,\n",
       " 4.630838591928938,\n",
       " 4.529721398208984,\n",
       " 5.0286221947342025,\n",
       " 5.1742371506124485,\n",
       " 4.969339452946249,\n",
       " 4.930225433276263,\n",
       " 5.016428928732226,\n",
       " 5.48898012901957,\n",
       " 5.3409806490600635,\n",
       " 5.591213180903975,\n",
       " 5.918174343285391,\n",
       " 5.167480065079063,\n",
       " 5.0623927164030915,\n",
       " 4.950374024943108,\n",
       " 5.246896919417354,\n",
       " 5.3775888812439465,\n",
       " 4.980884776520658,\n",
       " 4.59060489675064,\n",
       " 5.7826978587736555,\n",
       " 5.356206613811777,\n",
       " 4.628093511359486,\n",
       " 4.961121240901814,\n",
       " 5.444973697495438,\n",
       " 5.901674366926551,\n",
       " 5.084733932042346,\n",
       " 5.221309726961822,\n",
       " 5.461990100104387,\n",
       " 5.624706488408153,\n",
       " 5.160611652158463,\n",
       " 5.107308202703726,\n",
       " 5.039923110299201,\n",
       " 4.904826737116388,\n",
       " 5.387731916174606,\n",
       " 4.833392326303242,\n",
       " 5.430848742766382,\n",
       " 5.254315119406229,\n",
       " 5.095398477273073,\n",
       " 5.240079530531561,\n",
       " 5.340598121483005,\n",
       " 4.899038594019909,\n",
       " 4.695965324125158,\n",
       " 5.447184451067642,\n",
       " 5.400106578097213,\n",
       " 5.3907847283723385,\n",
       " 5.741920906934458,\n",
       " 6.0145003453771375,\n",
       " 5.382036272643092,\n",
       " 4.888400000093408,\n",
       " 5.2324642001961585,\n",
       " 5.687459556464466,\n",
       " 5.254484637268602]"
      ]
     },
     "execution_count": 8,
     "metadata": {},
     "output_type": "execute_result"
    }
   ],
   "source": [
    "radius_list"
   ]
  },
  {
   "cell_type": "code",
   "execution_count": 9,
   "id": "32f480a3",
   "metadata": {},
   "outputs": [
    {
     "name": "stderr",
     "output_type": "stream",
     "text": [
      "extracting all features from dataset: 100%|██████████████████████████████████████████████| 1/1 [00:01<00:00,  1.66s/it]\n",
      "extracting all features from dataset: 100%|██████████████████████████████████████████████| 1/1 [00:01<00:00,  1.68s/it]\n"
     ]
    },
    {
     "name": "stdout",
     "output_type": "stream",
     "text": [
      "----------------------------\n",
      "Train_z, Test_z\n",
      "PCA: 0.8078\n",
      "SVD: 0.7981\n",
      "NetD, Acc at first 0.8579\n"
     ]
    },
    {
     "name": "stderr",
     "output_type": "stream",
     "text": [
      "extracting all features from dataset: 100%|██████████████████████████████████████████████| 2/2 [00:05<00:00,  2.52s/it]\n",
      "extracting all features from dataset: 100%|██████████████████████████████████████████████| 1/1 [00:01<00:00,  1.65s/it]\n"
     ]
    },
    {
     "name": "stdout",
     "output_type": "stream",
     "text": [
      "----------------------------\n",
      "Train_z, Test_z\n",
      "PCA: 0.804\n",
      "SVD: 0.802\n",
      "NetG, Acc at first 0.8376\n"
     ]
    }
   ],
   "source": [
    "#acc at first for NetD\n",
    "train_X, train_Z, train_X_bar, train_Z_bar, train_labels = extract_features2(testloader, netD, netG)\n",
    "\n",
    "test_X, test_Z, test_X_bar, test_Z_bar, test_labels = extract_features2(testloader, netD, netG)\n",
    "\n",
    "\n",
    "print(\"----------------------------\")\n",
    "print(\"Train_z, Test_z\")\n",
    "nearsub(n_comp, train_Z, train_labels, test_Z, test_labels)\n",
    "\n",
    "#acc at first for NetD\n",
    "from sklearn.neighbors import KNeighborsClassifier \n",
    "knn= KNeighborsClassifier(n_neighbors=10) \n",
    "\n",
    "knn.fit(train_Z,train_labels) \n",
    "knn.score(test_Z,test_labels) \n",
    " \n",
    "y_predict = knn.predict(test_Z) \n",
    "\n",
    "count =0\n",
    "for k in range(10000):\n",
    "    if y_predict[k] == test_labels[k]:\n",
    "        count +=1\n",
    "print('NetD, Acc at first',count/10000)\n",
    "Acc_results_D.append(count/10000)\n",
    "\n",
    "#acc at first for NetG\n",
    "train_X, train_Z, train_X_bar, train_Z_bar, train_labels = extract_features2(trainloader, netG, netD)\n",
    "\n",
    "test_X, test_Z, test_X_bar, test_Z_bar, test_labels = extract_features2(testloader, netG, netD)\n",
    "\n",
    "print(\"----------------------------\")\n",
    "print(\"Train_z, Test_z\")\n",
    "nearsub(n_comp, train_Z, train_labels, test_Z, test_labels)\n",
    "\n",
    "\n",
    "#acc at first\n",
    "from sklearn.neighbors import KNeighborsClassifier \n",
    "knn= KNeighborsClassifier(n_neighbors=10) \n",
    "\n",
    "knn.fit(train_Z,train_labels) \n",
    "knn.score(test_Z,test_labels) \n",
    " \n",
    "y_predict = knn.predict(test_Z) \n",
    "\n",
    "count =0\n",
    "for k in range(10000):\n",
    "    if y_predict[k] == test_labels[k]:\n",
    "        count +=1\n",
    "print('NetG, Acc at first',count/10000)\n",
    "Acc_results_G.append(count/10000)\n"
   ]
  },
  {
   "cell_type": "code",
   "execution_count": 10,
   "id": "ab5e89b5",
   "metadata": {},
   "outputs": [],
   "source": [
    "torch.save(netD, 'FMNIST_NetD_changing1-mode1.pth')\n",
    "torch.save(netV, 'FMNIST_NetV_changing1-mode1.pth')\n",
    "torch.save(netG, 'FMNIST_NetG_changing1-mode1.pth')"
   ]
  },
  {
   "cell_type": "markdown",
   "id": "cac9d760",
   "metadata": {},
   "source": [
    "#netD = torch.load('FMNIST_NetD.pth')\n",
    "#netV = torch.load('FMNIST_NetV.pth')\n",
    "#netG = torch.load('FMNIST_NetG.pth')\n",
    "\n",
    "#mode = 1\n",
    "#gam3 = 1"
   ]
  },
  {
   "cell_type": "code",
   "execution_count": 11,
   "id": "a97aa6a9",
   "metadata": {},
   "outputs": [],
   "source": [
    "r_list = [0,0.1,0.2,0.5,1,2,3,4,6,8,10]\n",
    "sample_num = 20"
   ]
  },
  {
   "cell_type": "code",
   "execution_count": 12,
   "id": "5dd88ab6",
   "metadata": {},
   "outputs": [
    {
     "name": "stderr",
     "output_type": "stream",
     "text": [
      "extracting all features from dataset: 100%|██████████████████████████████████████████████| 2/2 [00:05<00:00,  2.50s/it]\n",
      "extracting all features from dataset: 100%|██████████████████████████████████████████████| 1/1 [00:01<00:00,  1.66s/it]\n"
     ]
    },
    {
     "name": "stdout",
     "output_type": "stream",
     "text": [
      "----------------------------\n",
      "Train_z, Test_z\n",
      "PCA: 0.7954\n",
      "SVD: 0.7876\n",
      "NetG_fixD, Acc at sample 1 0.8528\n"
     ]
    },
    {
     "name": "stderr",
     "output_type": "stream",
     "text": [
      "extracting all features from dataset: 100%|██████████████████████████████████████████████| 2/2 [00:04<00:00,  2.37s/it]\n",
      "extracting all features from dataset: 100%|██████████████████████████████████████████████| 1/1 [00:01<00:00,  1.64s/it]\n"
     ]
    },
    {
     "name": "stdout",
     "output_type": "stream",
     "text": [
      "----------------------------\n",
      "Train_z, Test_z\n",
      "PCA: 0.7942\n",
      "SVD: 0.7867999999999999\n",
      "NetG_fixD, Acc at sample 2 0.8533\n"
     ]
    },
    {
     "name": "stderr",
     "output_type": "stream",
     "text": [
      "extracting all features from dataset: 100%|██████████████████████████████████████████████| 2/2 [00:04<00:00,  2.37s/it]\n",
      "extracting all features from dataset: 100%|██████████████████████████████████████████████| 1/1 [00:01<00:00,  1.65s/it]\n"
     ]
    },
    {
     "name": "stdout",
     "output_type": "stream",
     "text": [
      "----------------------------\n",
      "Train_z, Test_z\n",
      "PCA: 0.7945\n",
      "SVD: 0.7877000000000001\n",
      "NetG_fixD, Acc at sample 3 0.8529\n"
     ]
    },
    {
     "name": "stderr",
     "output_type": "stream",
     "text": [
      "extracting all features from dataset: 100%|██████████████████████████████████████████████| 2/2 [00:04<00:00,  2.42s/it]\n",
      "extracting all features from dataset: 100%|██████████████████████████████████████████████| 1/1 [00:01<00:00,  1.61s/it]\n"
     ]
    },
    {
     "name": "stdout",
     "output_type": "stream",
     "text": [
      "----------------------------\n",
      "Train_z, Test_z\n",
      "PCA: 0.7937\n",
      "SVD: 0.7871\n",
      "NetG_fixD, Acc at sample 4 0.8529\n"
     ]
    },
    {
     "name": "stderr",
     "output_type": "stream",
     "text": [
      "extracting all features from dataset: 100%|██████████████████████████████████████████████| 2/2 [00:04<00:00,  2.38s/it]\n",
      "extracting all features from dataset: 100%|██████████████████████████████████████████████| 1/1 [00:01<00:00,  1.63s/it]\n"
     ]
    },
    {
     "name": "stdout",
     "output_type": "stream",
     "text": [
      "----------------------------\n",
      "Train_z, Test_z\n",
      "PCA: 0.7933\n",
      "SVD: 0.7864\n",
      "NetG_fixD, Acc at sample 5 0.8518\n"
     ]
    },
    {
     "name": "stderr",
     "output_type": "stream",
     "text": [
      "extracting all features from dataset: 100%|██████████████████████████████████████████████| 2/2 [00:05<00:00,  2.52s/it]\n",
      "extracting all features from dataset: 100%|██████████████████████████████████████████████| 1/1 [00:01<00:00,  1.67s/it]\n"
     ]
    },
    {
     "name": "stdout",
     "output_type": "stream",
     "text": [
      "----------------------------\n",
      "Train_z, Test_z\n",
      "PCA: 0.7954\n",
      "SVD: 0.7867999999999999\n",
      "NetG_fixD, Acc at sample 6 0.8531\n"
     ]
    },
    {
     "name": "stderr",
     "output_type": "stream",
     "text": [
      "extracting all features from dataset: 100%|██████████████████████████████████████████████| 2/2 [00:04<00:00,  2.43s/it]\n",
      "extracting all features from dataset: 100%|██████████████████████████████████████████████| 1/1 [00:01<00:00,  1.66s/it]\n"
     ]
    },
    {
     "name": "stdout",
     "output_type": "stream",
     "text": [
      "----------------------------\n",
      "Train_z, Test_z\n",
      "PCA: 0.7943\n",
      "SVD: 0.7872\n",
      "NetG_fixD, Acc at sample 7 0.8545\n"
     ]
    },
    {
     "name": "stderr",
     "output_type": "stream",
     "text": [
      "extracting all features from dataset: 100%|██████████████████████████████████████████████| 2/2 [00:05<00:00,  2.57s/it]\n",
      "extracting all features from dataset: 100%|██████████████████████████████████████████████| 1/1 [00:01<00:00,  1.66s/it]\n"
     ]
    },
    {
     "name": "stdout",
     "output_type": "stream",
     "text": [
      "----------------------------\n",
      "Train_z, Test_z\n",
      "PCA: 0.7936\n",
      "SVD: 0.7879\n",
      "NetG_fixD, Acc at sample 8 0.8529\n"
     ]
    },
    {
     "name": "stderr",
     "output_type": "stream",
     "text": [
      "extracting all features from dataset: 100%|██████████████████████████████████████████████| 2/2 [00:05<00:00,  2.57s/it]\n",
      "extracting all features from dataset: 100%|██████████████████████████████████████████████| 1/1 [00:01<00:00,  1.69s/it]\n"
     ]
    },
    {
     "name": "stdout",
     "output_type": "stream",
     "text": [
      "----------------------------\n",
      "Train_z, Test_z\n",
      "PCA: 0.7947\n",
      "SVD: 0.7881\n",
      "NetG_fixD, Acc at sample 9 0.8534\n"
     ]
    },
    {
     "name": "stderr",
     "output_type": "stream",
     "text": [
      "extracting all features from dataset: 100%|██████████████████████████████████████████████| 2/2 [00:04<00:00,  2.45s/it]\n",
      "extracting all features from dataset: 100%|██████████████████████████████████████████████| 1/1 [00:01<00:00,  1.64s/it]\n"
     ]
    },
    {
     "name": "stdout",
     "output_type": "stream",
     "text": [
      "----------------------------\n",
      "Train_z, Test_z\n",
      "PCA: 0.7948\n",
      "SVD: 0.7871\n",
      "NetG_fixD, Acc at sample 10 0.853\n"
     ]
    },
    {
     "name": "stderr",
     "output_type": "stream",
     "text": [
      "extracting all features from dataset: 100%|██████████████████████████████████████████████| 2/2 [00:04<00:00,  2.41s/it]\n",
      "extracting all features from dataset: 100%|██████████████████████████████████████████████| 1/1 [00:01<00:00,  1.66s/it]\n"
     ]
    },
    {
     "name": "stdout",
     "output_type": "stream",
     "text": [
      "----------------------------\n",
      "Train_z, Test_z\n",
      "PCA: 0.7944\n",
      "SVD: 0.7877000000000001\n",
      "NetG_fixD, Acc at sample 11 0.852\n"
     ]
    },
    {
     "name": "stderr",
     "output_type": "stream",
     "text": [
      "extracting all features from dataset: 100%|██████████████████████████████████████████████| 2/2 [00:04<00:00,  2.45s/it]\n",
      "extracting all features from dataset: 100%|██████████████████████████████████████████████| 1/1 [00:01<00:00,  1.66s/it]\n"
     ]
    },
    {
     "name": "stdout",
     "output_type": "stream",
     "text": [
      "----------------------------\n",
      "Train_z, Test_z\n",
      "PCA: 0.7945\n",
      "SVD: 0.7877000000000001\n",
      "NetG_fixD, Acc at sample 12 0.8539\n"
     ]
    },
    {
     "name": "stderr",
     "output_type": "stream",
     "text": [
      "extracting all features from dataset: 100%|██████████████████████████████████████████████| 2/2 [00:04<00:00,  2.46s/it]\n",
      "extracting all features from dataset: 100%|██████████████████████████████████████████████| 1/1 [00:01<00:00,  1.65s/it]\n"
     ]
    },
    {
     "name": "stdout",
     "output_type": "stream",
     "text": [
      "----------------------------\n",
      "Train_z, Test_z\n",
      "PCA: 0.7948999999999999\n",
      "SVD: 0.7884\n",
      "NetG_fixD, Acc at sample 13 0.8527\n"
     ]
    },
    {
     "name": "stderr",
     "output_type": "stream",
     "text": [
      "extracting all features from dataset: 100%|██████████████████████████████████████████████| 2/2 [00:04<00:00,  2.46s/it]\n",
      "extracting all features from dataset: 100%|██████████████████████████████████████████████| 1/1 [00:01<00:00,  1.64s/it]\n"
     ]
    },
    {
     "name": "stdout",
     "output_type": "stream",
     "text": [
      "----------------------------\n",
      "Train_z, Test_z\n",
      "PCA: 0.7927\n",
      "SVD: 0.7873\n",
      "NetG_fixD, Acc at sample 14 0.8537\n"
     ]
    },
    {
     "name": "stderr",
     "output_type": "stream",
     "text": [
      "extracting all features from dataset: 100%|██████████████████████████████████████████████| 2/2 [00:04<00:00,  2.48s/it]\n",
      "extracting all features from dataset: 100%|██████████████████████████████████████████████| 1/1 [00:01<00:00,  1.64s/it]\n"
     ]
    },
    {
     "name": "stdout",
     "output_type": "stream",
     "text": [
      "----------------------------\n",
      "Train_z, Test_z\n",
      "PCA: 0.7938000000000001\n",
      "SVD: 0.7865\n",
      "NetG_fixD, Acc at sample 15 0.8533\n"
     ]
    },
    {
     "name": "stderr",
     "output_type": "stream",
     "text": [
      "extracting all features from dataset: 100%|██████████████████████████████████████████████| 2/2 [00:04<00:00,  2.40s/it]\n",
      "extracting all features from dataset: 100%|██████████████████████████████████████████████| 1/1 [00:01<00:00,  1.62s/it]\n"
     ]
    },
    {
     "name": "stdout",
     "output_type": "stream",
     "text": [
      "----------------------------\n",
      "Train_z, Test_z\n",
      "PCA: 0.7948999999999999\n",
      "SVD: 0.7884\n",
      "NetG_fixD, Acc at sample 16 0.8527\n"
     ]
    },
    {
     "name": "stderr",
     "output_type": "stream",
     "text": [
      "extracting all features from dataset: 100%|██████████████████████████████████████████████| 2/2 [00:04<00:00,  2.45s/it]\n",
      "extracting all features from dataset: 100%|██████████████████████████████████████████████| 1/1 [00:01<00:00,  1.66s/it]\n"
     ]
    },
    {
     "name": "stdout",
     "output_type": "stream",
     "text": [
      "----------------------------\n",
      "Train_z, Test_z\n",
      "PCA: 0.7941\n",
      "SVD: 0.7866\n",
      "NetG_fixD, Acc at sample 17 0.8531\n"
     ]
    },
    {
     "name": "stderr",
     "output_type": "stream",
     "text": [
      "extracting all features from dataset: 100%|██████████████████████████████████████████████| 2/2 [00:04<00:00,  2.49s/it]\n",
      "extracting all features from dataset: 100%|██████████████████████████████████████████████| 1/1 [00:01<00:00,  1.66s/it]\n"
     ]
    },
    {
     "name": "stdout",
     "output_type": "stream",
     "text": [
      "----------------------------\n",
      "Train_z, Test_z\n",
      "PCA: 0.796\n",
      "SVD: 0.7888\n",
      "NetG_fixD, Acc at sample 18 0.8525\n"
     ]
    },
    {
     "name": "stderr",
     "output_type": "stream",
     "text": [
      "extracting all features from dataset: 100%|██████████████████████████████████████████████| 2/2 [00:04<00:00,  2.39s/it]\n",
      "extracting all features from dataset: 100%|██████████████████████████████████████████████| 1/1 [00:01<00:00,  1.64s/it]\n"
     ]
    },
    {
     "name": "stdout",
     "output_type": "stream",
     "text": [
      "----------------------------\n",
      "Train_z, Test_z\n",
      "PCA: 0.7933\n",
      "SVD: 0.7874\n",
      "NetG_fixD, Acc at sample 19 0.8525\n"
     ]
    },
    {
     "name": "stderr",
     "output_type": "stream",
     "text": [
      "extracting all features from dataset: 100%|██████████████████████████████████████████████| 2/2 [00:05<00:00,  2.53s/it]\n",
      "extracting all features from dataset: 100%|██████████████████████████████████████████████| 1/1 [00:01<00:00,  1.64s/it]\n"
     ]
    },
    {
     "name": "stdout",
     "output_type": "stream",
     "text": [
      "----------------------------\n",
      "Train_z, Test_z\n",
      "PCA: 0.7953\n",
      "SVD: 0.788\n",
      "NetG_fixD, Acc at sample 20 0.8528\n",
      "0.8545 0.8518 0.8529899999999998 3.5690000000000167e-07\n"
     ]
    }
   ],
   "source": [
    "# sample 20 times of NetG at final radius, NetD is fixed, length 0.1,0.2,0.5,1,2,4,6,8,10,15,20\n",
    "from sklearn.neighbors import KNeighborsClassifier \n",
    "Acc_results_G_sample = []\n",
    "for _ in range(sample_num):\n",
    "    #acc at first\n",
    "    net_noise = get_noise(DATASET, device, LABEL)\n",
    "    fed_state_dict = get_netG(netD,netV,net_noise,r_list[1])\n",
    "    netG.load_state_dict(fed_state_dict)\n",
    "    \n",
    "    train_X, train_Z, train_X_bar, train_Z_bar, train_labels = extract_features2(trainloader, netG, netD)\n",
    "\n",
    "    test_X, test_Z, test_X_bar, test_Z_bar, test_labels = extract_features2(testloader, netG, netD)\n",
    "\n",
    "    print(\"----------------------------\")\n",
    "    print(\"Train_z, Test_z\")\n",
    "    nearsub(n_comp, train_Z, train_labels, test_Z, test_labels)\n",
    "\n",
    "    knn= KNeighborsClassifier(n_neighbors=10) \n",
    "\n",
    "    knn.fit(train_Z,train_labels) \n",
    "    knn.score(test_Z_bar,test_labels) \n",
    "\n",
    "    y_predict = knn.predict(test_Z_bar) \n",
    "\n",
    "    count =0\n",
    "    for k in range(10000):\n",
    "        if y_predict[k] == test_labels[k]:\n",
    "            count +=1\n",
    "    print('NetG_fixD, Acc at sample',_+1,count/10000)\n",
    "    Acc_results_G_sample.append(count/10000)\n",
    "    \n",
    "print(max(Acc_results_G_sample),min(Acc_results_G_sample),np.mean(Acc_results_G_sample),np.var(Acc_results_G_sample))"
   ]
  },
  {
   "cell_type": "code",
   "execution_count": 13,
   "id": "05bfe135",
   "metadata": {},
   "outputs": [
    {
     "name": "stderr",
     "output_type": "stream",
     "text": [
      "extracting all features from dataset: 100%|██████████████████████████████████████████████| 2/2 [00:04<00:00,  2.50s/it]\n",
      "extracting all features from dataset: 100%|██████████████████████████████████████████████| 1/1 [00:01<00:00,  1.64s/it]\n"
     ]
    },
    {
     "name": "stdout",
     "output_type": "stream",
     "text": [
      "----------------------------\n",
      "Train_z, Test_z\n",
      "PCA: 0.7938000000000001\n",
      "SVD: 0.7893\n",
      "NetG_fixD, Acc at sample 1 0.8535\n"
     ]
    },
    {
     "name": "stderr",
     "output_type": "stream",
     "text": [
      "extracting all features from dataset: 100%|██████████████████████████████████████████████| 2/2 [00:04<00:00,  2.46s/it]\n",
      "extracting all features from dataset: 100%|██████████████████████████████████████████████| 1/1 [00:01<00:00,  1.66s/it]\n"
     ]
    },
    {
     "name": "stdout",
     "output_type": "stream",
     "text": [
      "----------------------------\n",
      "Train_z, Test_z\n",
      "PCA: 0.7925\n",
      "SVD: 0.7863\n",
      "NetG_fixD, Acc at sample 2 0.8527\n"
     ]
    },
    {
     "name": "stderr",
     "output_type": "stream",
     "text": [
      "extracting all features from dataset: 100%|██████████████████████████████████████████████| 2/2 [00:05<00:00,  2.55s/it]\n",
      "extracting all features from dataset: 100%|██████████████████████████████████████████████| 1/1 [00:01<00:00,  1.67s/it]\n"
     ]
    },
    {
     "name": "stdout",
     "output_type": "stream",
     "text": [
      "----------------------------\n",
      "Train_z, Test_z\n",
      "PCA: 0.7928999999999999\n",
      "SVD: 0.787\n",
      "NetG_fixD, Acc at sample 3 0.8526\n"
     ]
    },
    {
     "name": "stderr",
     "output_type": "stream",
     "text": [
      "extracting all features from dataset: 100%|██████████████████████████████████████████████| 2/2 [00:04<00:00,  2.41s/it]\n",
      "extracting all features from dataset: 100%|██████████████████████████████████████████████| 1/1 [00:01<00:00,  1.65s/it]\n"
     ]
    },
    {
     "name": "stdout",
     "output_type": "stream",
     "text": [
      "----------------------------\n",
      "Train_z, Test_z\n",
      "PCA: 0.794\n",
      "SVD: 0.7876\n",
      "NetG_fixD, Acc at sample 4 0.8533\n"
     ]
    },
    {
     "name": "stderr",
     "output_type": "stream",
     "text": [
      "extracting all features from dataset: 100%|██████████████████████████████████████████████| 2/2 [00:04<00:00,  2.41s/it]\n",
      "extracting all features from dataset: 100%|██████████████████████████████████████████████| 1/1 [00:01<00:00,  1.67s/it]\n"
     ]
    },
    {
     "name": "stdout",
     "output_type": "stream",
     "text": [
      "----------------------------\n",
      "Train_z, Test_z\n",
      "PCA: 0.7944\n",
      "SVD: 0.7868999999999999\n",
      "NetG_fixD, Acc at sample 5 0.8525\n"
     ]
    },
    {
     "name": "stderr",
     "output_type": "stream",
     "text": [
      "extracting all features from dataset: 100%|██████████████████████████████████████████████| 2/2 [00:04<00:00,  2.44s/it]\n",
      "extracting all features from dataset: 100%|██████████████████████████████████████████████| 1/1 [00:01<00:00,  1.66s/it]\n"
     ]
    },
    {
     "name": "stdout",
     "output_type": "stream",
     "text": [
      "----------------------------\n",
      "Train_z, Test_z\n",
      "PCA: 0.7937\n",
      "SVD: 0.7875\n",
      "NetG_fixD, Acc at sample 6 0.8527\n"
     ]
    },
    {
     "name": "stderr",
     "output_type": "stream",
     "text": [
      "extracting all features from dataset: 100%|██████████████████████████████████████████████| 2/2 [00:04<00:00,  2.41s/it]\n",
      "extracting all features from dataset: 100%|██████████████████████████████████████████████| 1/1 [00:01<00:00,  1.64s/it]\n"
     ]
    },
    {
     "name": "stdout",
     "output_type": "stream",
     "text": [
      "----------------------------\n",
      "Train_z, Test_z\n",
      "PCA: 0.7932\n",
      "SVD: 0.7872\n",
      "NetG_fixD, Acc at sample 7 0.8535\n"
     ]
    },
    {
     "name": "stderr",
     "output_type": "stream",
     "text": [
      "extracting all features from dataset: 100%|██████████████████████████████████████████████| 2/2 [00:05<00:00,  2.54s/it]\n",
      "extracting all features from dataset: 100%|██████████████████████████████████████████████| 1/1 [00:01<00:00,  1.63s/it]\n"
     ]
    },
    {
     "name": "stdout",
     "output_type": "stream",
     "text": [
      "----------------------------\n",
      "Train_z, Test_z\n",
      "PCA: 0.7948\n",
      "SVD: 0.7865\n",
      "NetG_fixD, Acc at sample 8 0.8525\n"
     ]
    },
    {
     "name": "stderr",
     "output_type": "stream",
     "text": [
      "extracting all features from dataset: 100%|██████████████████████████████████████████████| 2/2 [00:04<00:00,  2.48s/it]\n",
      "extracting all features from dataset: 100%|██████████████████████████████████████████████| 1/1 [00:01<00:00,  1.67s/it]\n"
     ]
    },
    {
     "name": "stdout",
     "output_type": "stream",
     "text": [
      "----------------------------\n",
      "Train_z, Test_z\n",
      "PCA: 0.7915\n",
      "SVD: 0.785\n",
      "NetG_fixD, Acc at sample 9 0.8527\n"
     ]
    },
    {
     "name": "stderr",
     "output_type": "stream",
     "text": [
      "extracting all features from dataset: 100%|██████████████████████████████████████████████| 2/2 [00:04<00:00,  2.49s/it]\n",
      "extracting all features from dataset: 100%|██████████████████████████████████████████████| 1/1 [00:01<00:00,  1.64s/it]\n"
     ]
    },
    {
     "name": "stdout",
     "output_type": "stream",
     "text": [
      "----------------------------\n",
      "Train_z, Test_z\n",
      "PCA: 0.794\n",
      "SVD: 0.7878000000000001\n",
      "NetG_fixD, Acc at sample 10 0.8536\n"
     ]
    },
    {
     "name": "stderr",
     "output_type": "stream",
     "text": [
      "extracting all features from dataset: 100%|██████████████████████████████████████████████| 2/2 [00:04<00:00,  2.46s/it]\n",
      "extracting all features from dataset: 100%|██████████████████████████████████████████████| 1/1 [00:01<00:00,  1.64s/it]\n"
     ]
    },
    {
     "name": "stdout",
     "output_type": "stream",
     "text": [
      "----------------------------\n",
      "Train_z, Test_z\n",
      "PCA: 0.7954\n",
      "SVD: 0.7894\n",
      "NetG_fixD, Acc at sample 11 0.8526\n"
     ]
    },
    {
     "name": "stderr",
     "output_type": "stream",
     "text": [
      "extracting all features from dataset: 100%|██████████████████████████████████████████████| 2/2 [00:04<00:00,  2.40s/it]\n",
      "extracting all features from dataset: 100%|██████████████████████████████████████████████| 1/1 [00:01<00:00,  1.65s/it]\n"
     ]
    },
    {
     "name": "stdout",
     "output_type": "stream",
     "text": [
      "----------------------------\n",
      "Train_z, Test_z\n",
      "PCA: 0.7934\n",
      "SVD: 0.7884\n",
      "NetG_fixD, Acc at sample 12 0.8524\n"
     ]
    },
    {
     "name": "stderr",
     "output_type": "stream",
     "text": [
      "extracting all features from dataset: 100%|██████████████████████████████████████████████| 2/2 [00:05<00:00,  2.52s/it]\n",
      "extracting all features from dataset: 100%|██████████████████████████████████████████████| 1/1 [00:01<00:00,  1.64s/it]\n"
     ]
    },
    {
     "name": "stdout",
     "output_type": "stream",
     "text": [
      "----------------------------\n",
      "Train_z, Test_z\n",
      "PCA: 0.7934\n",
      "SVD: 0.7876\n",
      "NetG_fixD, Acc at sample 13 0.854\n"
     ]
    },
    {
     "name": "stderr",
     "output_type": "stream",
     "text": [
      "extracting all features from dataset: 100%|██████████████████████████████████████████████| 2/2 [00:05<00:00,  2.50s/it]\n",
      "extracting all features from dataset: 100%|██████████████████████████████████████████████| 1/1 [00:01<00:00,  1.66s/it]\n"
     ]
    },
    {
     "name": "stdout",
     "output_type": "stream",
     "text": [
      "----------------------------\n",
      "Train_z, Test_z\n",
      "PCA: 0.7941\n",
      "SVD: 0.7873\n",
      "NetG_fixD, Acc at sample 14 0.8518\n"
     ]
    },
    {
     "name": "stderr",
     "output_type": "stream",
     "text": [
      "extracting all features from dataset: 100%|██████████████████████████████████████████████| 2/2 [00:04<00:00,  2.48s/it]\n",
      "extracting all features from dataset: 100%|██████████████████████████████████████████████| 1/1 [00:01<00:00,  1.63s/it]\n"
     ]
    },
    {
     "name": "stdout",
     "output_type": "stream",
     "text": [
      "----------------------------\n",
      "Train_z, Test_z\n",
      "PCA: 0.7947\n",
      "SVD: 0.7867\n",
      "NetG_fixD, Acc at sample 15 0.852\n"
     ]
    },
    {
     "name": "stderr",
     "output_type": "stream",
     "text": [
      "extracting all features from dataset: 100%|██████████████████████████████████████████████| 2/2 [00:04<00:00,  2.42s/it]\n",
      "extracting all features from dataset: 100%|██████████████████████████████████████████████| 1/1 [00:01<00:00,  1.65s/it]\n"
     ]
    },
    {
     "name": "stdout",
     "output_type": "stream",
     "text": [
      "----------------------------\n",
      "Train_z, Test_z\n",
      "PCA: 0.7933\n",
      "SVD: 0.7857000000000001\n",
      "NetG_fixD, Acc at sample 16 0.8516\n"
     ]
    },
    {
     "name": "stderr",
     "output_type": "stream",
     "text": [
      "extracting all features from dataset: 100%|██████████████████████████████████████████████| 2/2 [00:05<00:00,  2.55s/it]\n",
      "extracting all features from dataset: 100%|██████████████████████████████████████████████| 1/1 [00:01<00:00,  1.66s/it]\n"
     ]
    },
    {
     "name": "stdout",
     "output_type": "stream",
     "text": [
      "----------------------------\n",
      "Train_z, Test_z\n",
      "PCA: 0.7941\n",
      "SVD: 0.7866\n",
      "NetG_fixD, Acc at sample 17 0.8536\n"
     ]
    },
    {
     "name": "stderr",
     "output_type": "stream",
     "text": [
      "extracting all features from dataset: 100%|██████████████████████████████████████████████| 2/2 [00:05<00:00,  2.50s/it]\n",
      "extracting all features from dataset: 100%|██████████████████████████████████████████████| 1/1 [00:01<00:00,  1.62s/it]\n"
     ]
    },
    {
     "name": "stdout",
     "output_type": "stream",
     "text": [
      "----------------------------\n",
      "Train_z, Test_z\n",
      "PCA: 0.7935\n",
      "SVD: 0.7867999999999999\n",
      "NetG_fixD, Acc at sample 18 0.8528\n"
     ]
    },
    {
     "name": "stderr",
     "output_type": "stream",
     "text": [
      "extracting all features from dataset: 100%|██████████████████████████████████████████████| 2/2 [00:04<00:00,  2.42s/it]\n",
      "extracting all features from dataset: 100%|██████████████████████████████████████████████| 1/1 [00:01<00:00,  1.67s/it]\n"
     ]
    },
    {
     "name": "stdout",
     "output_type": "stream",
     "text": [
      "----------------------------\n",
      "Train_z, Test_z\n",
      "PCA: 0.7939\n",
      "SVD: 0.7875\n",
      "NetG_fixD, Acc at sample 19 0.8526\n"
     ]
    },
    {
     "name": "stderr",
     "output_type": "stream",
     "text": [
      "extracting all features from dataset: 100%|██████████████████████████████████████████████| 2/2 [00:05<00:00,  2.52s/it]\n",
      "extracting all features from dataset: 100%|██████████████████████████████████████████████| 1/1 [00:01<00:00,  1.65s/it]\n"
     ]
    },
    {
     "name": "stdout",
     "output_type": "stream",
     "text": [
      "----------------------------\n",
      "Train_z, Test_z\n",
      "PCA: 0.7939\n",
      "SVD: 0.7892\n",
      "NetG_fixD, Acc at sample 20 0.8526\n",
      "0.854 0.8516 0.8527799999999999 3.775999999999972e-07\n"
     ]
    }
   ],
   "source": [
    "# sample 20 times of NetG at final radius, NetD is fixed\n",
    "from sklearn.neighbors import KNeighborsClassifier \n",
    "Acc_results_G_sample2 = []\n",
    "\n",
    "for _ in range(sample_num):\n",
    "    #acc at first\n",
    "    net_noise = get_noise(DATASET, device, LABEL)\n",
    "    fed_state_dict = get_netG(netD,netV,net_noise,r_list[2])\n",
    "    netG.load_state_dict(fed_state_dict)\n",
    "    \n",
    "    train_X, train_Z, train_X_bar, train_Z_bar, train_labels = extract_features2(trainloader, netG, netD)\n",
    "\n",
    "    test_X, test_Z, test_X_bar, test_Z_bar, test_labels = extract_features2(testloader, netG, netD)\n",
    "\n",
    "    print(\"----------------------------\")\n",
    "    print(\"Train_z, Test_z\")\n",
    "    nearsub(n_comp, train_Z, train_labels, test_Z, test_labels)\n",
    "\n",
    "    knn= KNeighborsClassifier(n_neighbors=10) \n",
    "\n",
    "    knn.fit(train_Z,train_labels) \n",
    "    knn.score(test_Z_bar,test_labels) \n",
    "\n",
    "    y_predict = knn.predict(test_Z_bar) \n",
    "\n",
    "    count =0\n",
    "    for k in range(10000):\n",
    "        if y_predict[k] == test_labels[k]:\n",
    "            count +=1\n",
    "    print('NetG_fixD, Acc at sample',_+1,count/10000)\n",
    "    Acc_results_G_sample2.append(count/10000)\n",
    "    \n",
    "print(max(Acc_results_G_sample2),min(Acc_results_G_sample2),np.mean(Acc_results_G_sample2),np.var(Acc_results_G_sample2))"
   ]
  },
  {
   "cell_type": "code",
   "execution_count": 14,
   "id": "1daf6e7b",
   "metadata": {},
   "outputs": [
    {
     "name": "stderr",
     "output_type": "stream",
     "text": [
      "extracting all features from dataset: 100%|██████████████████████████████████████████████| 2/2 [00:05<00:00,  2.54s/it]\n",
      "extracting all features from dataset: 100%|██████████████████████████████████████████████| 1/1 [00:01<00:00,  1.64s/it]\n"
     ]
    },
    {
     "name": "stdout",
     "output_type": "stream",
     "text": [
      "----------------------------\n",
      "Train_z, Test_z\n",
      "PCA: 0.7958000000000001\n",
      "SVD: 0.7896\n",
      "NetG_fixD, Acc at sample 1 0.8519\n"
     ]
    },
    {
     "name": "stderr",
     "output_type": "stream",
     "text": [
      "extracting all features from dataset: 100%|██████████████████████████████████████████████| 2/2 [00:05<00:00,  2.52s/it]\n",
      "extracting all features from dataset: 100%|██████████████████████████████████████████████| 1/1 [00:01<00:00,  1.66s/it]\n"
     ]
    },
    {
     "name": "stdout",
     "output_type": "stream",
     "text": [
      "----------------------------\n",
      "Train_z, Test_z\n",
      "PCA: 0.7916\n",
      "SVD: 0.7857000000000001\n",
      "NetG_fixD, Acc at sample 2 0.8509\n"
     ]
    },
    {
     "name": "stderr",
     "output_type": "stream",
     "text": [
      "extracting all features from dataset: 100%|██████████████████████████████████████████████| 2/2 [00:04<00:00,  2.48s/it]\n",
      "extracting all features from dataset: 100%|██████████████████████████████████████████████| 1/1 [00:01<00:00,  1.67s/it]\n"
     ]
    },
    {
     "name": "stdout",
     "output_type": "stream",
     "text": [
      "----------------------------\n",
      "Train_z, Test_z\n",
      "PCA: 0.7932\n",
      "SVD: 0.7876\n",
      "NetG_fixD, Acc at sample 3 0.8538\n"
     ]
    },
    {
     "name": "stderr",
     "output_type": "stream",
     "text": [
      "extracting all features from dataset: 100%|██████████████████████████████████████████████| 2/2 [00:05<00:00,  2.52s/it]\n",
      "extracting all features from dataset: 100%|██████████████████████████████████████████████| 1/1 [00:01<00:00,  1.66s/it]\n"
     ]
    },
    {
     "name": "stdout",
     "output_type": "stream",
     "text": [
      "----------------------------\n",
      "Train_z, Test_z\n",
      "PCA: 0.7974\n",
      "SVD: 0.7901\n",
      "NetG_fixD, Acc at sample 4 0.8538\n"
     ]
    },
    {
     "name": "stderr",
     "output_type": "stream",
     "text": [
      "extracting all features from dataset: 100%|██████████████████████████████████████████████| 2/2 [00:04<00:00,  2.49s/it]\n",
      "extracting all features from dataset: 100%|██████████████████████████████████████████████| 1/1 [00:01<00:00,  1.61s/it]\n"
     ]
    },
    {
     "name": "stdout",
     "output_type": "stream",
     "text": [
      "----------------------------\n",
      "Train_z, Test_z\n",
      "PCA: 0.7912\n",
      "SVD: 0.7859\n",
      "NetG_fixD, Acc at sample 5 0.8508\n"
     ]
    },
    {
     "name": "stderr",
     "output_type": "stream",
     "text": [
      "extracting all features from dataset: 100%|██████████████████████████████████████████████| 2/2 [00:05<00:00,  2.51s/it]\n",
      "extracting all features from dataset: 100%|██████████████████████████████████████████████| 1/1 [00:01<00:00,  1.65s/it]\n"
     ]
    },
    {
     "name": "stdout",
     "output_type": "stream",
     "text": [
      "----------------------------\n",
      "Train_z, Test_z\n",
      "PCA: 0.7938000000000001\n",
      "SVD: 0.7864\n",
      "NetG_fixD, Acc at sample 6 0.8533\n"
     ]
    },
    {
     "name": "stderr",
     "output_type": "stream",
     "text": [
      "extracting all features from dataset: 100%|██████████████████████████████████████████████| 2/2 [00:04<00:00,  2.47s/it]\n",
      "extracting all features from dataset: 100%|██████████████████████████████████████████████| 1/1 [00:01<00:00,  1.61s/it]\n"
     ]
    },
    {
     "name": "stdout",
     "output_type": "stream",
     "text": [
      "----------------------------\n",
      "Train_z, Test_z\n",
      "PCA: 0.7935\n",
      "SVD: 0.7848999999999999\n",
      "NetG_fixD, Acc at sample 7 0.8538\n"
     ]
    },
    {
     "name": "stderr",
     "output_type": "stream",
     "text": [
      "extracting all features from dataset: 100%|██████████████████████████████████████████████| 2/2 [00:05<00:00,  2.54s/it]\n",
      "extracting all features from dataset: 100%|██████████████████████████████████████████████| 1/1 [00:01<00:00,  1.67s/it]\n"
     ]
    },
    {
     "name": "stdout",
     "output_type": "stream",
     "text": [
      "----------------------------\n",
      "Train_z, Test_z\n",
      "PCA: 0.7946\n",
      "SVD: 0.7868999999999999\n",
      "NetG_fixD, Acc at sample 8 0.8508\n"
     ]
    },
    {
     "name": "stderr",
     "output_type": "stream",
     "text": [
      "extracting all features from dataset: 100%|██████████████████████████████████████████████| 2/2 [00:04<00:00,  2.43s/it]\n",
      "extracting all features from dataset: 100%|██████████████████████████████████████████████| 1/1 [00:01<00:00,  1.64s/it]\n"
     ]
    },
    {
     "name": "stdout",
     "output_type": "stream",
     "text": [
      "----------------------------\n",
      "Train_z, Test_z\n",
      "PCA: 0.7931\n",
      "SVD: 0.7905\n",
      "NetG_fixD, Acc at sample 9 0.8524\n"
     ]
    },
    {
     "name": "stderr",
     "output_type": "stream",
     "text": [
      "extracting all features from dataset: 100%|██████████████████████████████████████████████| 2/2 [00:05<00:00,  2.51s/it]\n",
      "extracting all features from dataset: 100%|██████████████████████████████████████████████| 1/1 [00:01<00:00,  1.64s/it]\n"
     ]
    },
    {
     "name": "stdout",
     "output_type": "stream",
     "text": [
      "----------------------------\n",
      "Train_z, Test_z\n",
      "PCA: 0.7923\n",
      "SVD: 0.7902\n",
      "NetG_fixD, Acc at sample 10 0.8491\n"
     ]
    },
    {
     "name": "stderr",
     "output_type": "stream",
     "text": [
      "extracting all features from dataset: 100%|██████████████████████████████████████████████| 2/2 [00:04<00:00,  2.48s/it]\n",
      "extracting all features from dataset: 100%|██████████████████████████████████████████████| 1/1 [00:01<00:00,  1.66s/it]\n"
     ]
    },
    {
     "name": "stdout",
     "output_type": "stream",
     "text": [
      "----------------------------\n",
      "Train_z, Test_z\n",
      "PCA: 0.7944\n",
      "SVD: 0.7856\n",
      "NetG_fixD, Acc at sample 11 0.8507\n"
     ]
    },
    {
     "name": "stderr",
     "output_type": "stream",
     "text": [
      "extracting all features from dataset: 100%|██████████████████████████████████████████████| 2/2 [00:04<00:00,  2.49s/it]\n",
      "extracting all features from dataset: 100%|██████████████████████████████████████████████| 1/1 [00:01<00:00,  1.67s/it]\n"
     ]
    },
    {
     "name": "stdout",
     "output_type": "stream",
     "text": [
      "----------------------------\n",
      "Train_z, Test_z\n",
      "PCA: 0.7943\n",
      "SVD: 0.7903\n",
      "NetG_fixD, Acc at sample 12 0.8528\n"
     ]
    },
    {
     "name": "stderr",
     "output_type": "stream",
     "text": [
      "extracting all features from dataset: 100%|██████████████████████████████████████████████| 2/2 [00:05<00:00,  2.55s/it]\n",
      "extracting all features from dataset: 100%|██████████████████████████████████████████████| 1/1 [00:01<00:00,  1.67s/it]\n"
     ]
    },
    {
     "name": "stdout",
     "output_type": "stream",
     "text": [
      "----------------------------\n",
      "Train_z, Test_z\n",
      "PCA: 0.7953\n",
      "SVD: 0.7893\n",
      "NetG_fixD, Acc at sample 13 0.8521\n"
     ]
    },
    {
     "name": "stderr",
     "output_type": "stream",
     "text": [
      "extracting all features from dataset: 100%|██████████████████████████████████████████████| 2/2 [00:04<00:00,  2.39s/it]\n",
      "extracting all features from dataset: 100%|██████████████████████████████████████████████| 1/1 [00:01<00:00,  1.61s/it]\n"
     ]
    },
    {
     "name": "stdout",
     "output_type": "stream",
     "text": [
      "----------------------------\n",
      "Train_z, Test_z\n",
      "PCA: 0.7916\n",
      "SVD: 0.7843\n",
      "NetG_fixD, Acc at sample 14 0.8518\n"
     ]
    },
    {
     "name": "stderr",
     "output_type": "stream",
     "text": [
      "extracting all features from dataset: 100%|██████████████████████████████████████████████| 2/2 [00:04<00:00,  2.38s/it]\n",
      "extracting all features from dataset: 100%|██████████████████████████████████████████████| 1/1 [00:01<00:00,  1.64s/it]\n"
     ]
    },
    {
     "name": "stdout",
     "output_type": "stream",
     "text": [
      "----------------------------\n",
      "Train_z, Test_z\n",
      "PCA: 0.7902\n",
      "SVD: 0.786\n",
      "NetG_fixD, Acc at sample 15 0.8528\n"
     ]
    },
    {
     "name": "stderr",
     "output_type": "stream",
     "text": [
      "extracting all features from dataset: 100%|██████████████████████████████████████████████| 2/2 [00:05<00:00,  2.52s/it]\n",
      "extracting all features from dataset: 100%|██████████████████████████████████████████████| 1/1 [00:01<00:00,  1.64s/it]\n"
     ]
    },
    {
     "name": "stdout",
     "output_type": "stream",
     "text": [
      "----------------------------\n",
      "Train_z, Test_z\n",
      "PCA: 0.79\n",
      "SVD: 0.7861\n",
      "NetG_fixD, Acc at sample 16 0.8512\n"
     ]
    },
    {
     "name": "stderr",
     "output_type": "stream",
     "text": [
      "extracting all features from dataset: 100%|██████████████████████████████████████████████| 2/2 [00:04<00:00,  2.39s/it]\n",
      "extracting all features from dataset: 100%|██████████████████████████████████████████████| 1/1 [00:01<00:00,  1.67s/it]\n"
     ]
    },
    {
     "name": "stdout",
     "output_type": "stream",
     "text": [
      "----------------------------\n",
      "Train_z, Test_z\n",
      "PCA: 0.7911\n",
      "SVD: 0.7873\n",
      "NetG_fixD, Acc at sample 17 0.8539\n"
     ]
    },
    {
     "name": "stderr",
     "output_type": "stream",
     "text": [
      "extracting all features from dataset: 100%|██████████████████████████████████████████████| 2/2 [00:04<00:00,  2.47s/it]\n",
      "extracting all features from dataset: 100%|██████████████████████████████████████████████| 1/1 [00:01<00:00,  1.66s/it]\n"
     ]
    },
    {
     "name": "stdout",
     "output_type": "stream",
     "text": [
      "----------------------------\n",
      "Train_z, Test_z\n",
      "PCA: 0.7937\n",
      "SVD: 0.7883\n",
      "NetG_fixD, Acc at sample 18 0.8517\n"
     ]
    },
    {
     "name": "stderr",
     "output_type": "stream",
     "text": [
      "extracting all features from dataset: 100%|██████████████████████████████████████████████| 2/2 [00:04<00:00,  2.44s/it]\n",
      "extracting all features from dataset: 100%|██████████████████████████████████████████████| 1/1 [00:01<00:00,  1.65s/it]\n"
     ]
    },
    {
     "name": "stdout",
     "output_type": "stream",
     "text": [
      "----------------------------\n",
      "Train_z, Test_z\n",
      "PCA: 0.7948\n",
      "SVD: 0.7904\n",
      "NetG_fixD, Acc at sample 19 0.8511\n"
     ]
    },
    {
     "name": "stderr",
     "output_type": "stream",
     "text": [
      "extracting all features from dataset: 100%|██████████████████████████████████████████████| 2/2 [00:04<00:00,  2.49s/it]\n",
      "extracting all features from dataset: 100%|██████████████████████████████████████████████| 1/1 [00:01<00:00,  1.65s/it]\n"
     ]
    },
    {
     "name": "stdout",
     "output_type": "stream",
     "text": [
      "----------------------------\n",
      "Train_z, Test_z\n",
      "PCA: 0.7928\n",
      "SVD: 0.7867999999999999\n",
      "NetG_fixD, Acc at sample 20 0.8528\n",
      "0.8539 0.8491 0.8520749999999998 1.638875000000012e-06\n"
     ]
    }
   ],
   "source": [
    "# sample 50 times of NetG at final radius, NetD is fixed\n",
    "from sklearn.neighbors import KNeighborsClassifier \n",
    "Acc_results_G_sample3 = []\n",
    "\n",
    "for _ in range(sample_num):\n",
    "    #acc at first\n",
    "    net_noise = get_noise(DATASET, device, LABEL)\n",
    "    fed_state_dict = get_netG(netD,netV,net_noise,r_list[3])\n",
    "    netG.load_state_dict(fed_state_dict)\n",
    "    \n",
    "    train_X, train_Z, train_X_bar, train_Z_bar, train_labels = extract_features2(trainloader, netG, netD)\n",
    "\n",
    "    test_X, test_Z, test_X_bar, test_Z_bar, test_labels = extract_features2(testloader, netG, netD)\n",
    "\n",
    "    print(\"----------------------------\")\n",
    "    print(\"Train_z, Test_z\")\n",
    "    nearsub(n_comp, train_Z, train_labels, test_Z, test_labels)\n",
    "\n",
    "    knn= KNeighborsClassifier(n_neighbors=10) \n",
    "\n",
    "    knn.fit(train_Z,train_labels) \n",
    "    knn.score(test_Z_bar,test_labels) \n",
    "\n",
    "    y_predict = knn.predict(test_Z_bar) \n",
    "\n",
    "    count =0\n",
    "    for k in range(10000):\n",
    "        if y_predict[k] == test_labels[k]:\n",
    "            count +=1\n",
    "    print('NetG_fixD, Acc at sample',_+1,count/10000)\n",
    "    Acc_results_G_sample3.append(count/10000)\n",
    "    \n",
    "print(max(Acc_results_G_sample3),min(Acc_results_G_sample3),np.mean(Acc_results_G_sample3),np.var(Acc_results_G_sample3))"
   ]
  },
  {
   "cell_type": "code",
   "execution_count": 15,
   "id": "c66ccac4",
   "metadata": {},
   "outputs": [
    {
     "name": "stderr",
     "output_type": "stream",
     "text": [
      "extracting all features from dataset: 100%|██████████████████████████████████████████████| 2/2 [00:04<00:00,  2.46s/it]\n",
      "extracting all features from dataset: 100%|██████████████████████████████████████████████| 1/1 [00:01<00:00,  1.62s/it]\n"
     ]
    },
    {
     "name": "stdout",
     "output_type": "stream",
     "text": [
      "----------------------------\n",
      "Train_z, Test_z\n",
      "PCA: 0.8001\n",
      "SVD: 0.7916\n",
      "NetG_fixD, Acc at sample 1 0.8516\n"
     ]
    },
    {
     "name": "stderr",
     "output_type": "stream",
     "text": [
      "extracting all features from dataset: 100%|██████████████████████████████████████████████| 2/2 [00:04<00:00,  2.44s/it]\n",
      "extracting all features from dataset: 100%|██████████████████████████████████████████████| 1/1 [00:01<00:00,  1.67s/it]\n"
     ]
    },
    {
     "name": "stdout",
     "output_type": "stream",
     "text": [
      "----------------------------\n",
      "Train_z, Test_z\n",
      "PCA: 0.7952\n",
      "SVD: 0.7894\n",
      "NetG_fixD, Acc at sample 2 0.8516\n"
     ]
    },
    {
     "name": "stderr",
     "output_type": "stream",
     "text": [
      "extracting all features from dataset: 100%|██████████████████████████████████████████████| 2/2 [00:04<00:00,  2.46s/it]\n",
      "extracting all features from dataset: 100%|██████████████████████████████████████████████| 1/1 [00:01<00:00,  1.64s/it]\n"
     ]
    },
    {
     "name": "stdout",
     "output_type": "stream",
     "text": [
      "----------------------------\n",
      "Train_z, Test_z\n",
      "PCA: 0.7945\n",
      "SVD: 0.7928999999999999\n",
      "NetG_fixD, Acc at sample 3 0.8504\n"
     ]
    },
    {
     "name": "stderr",
     "output_type": "stream",
     "text": [
      "extracting all features from dataset: 100%|██████████████████████████████████████████████| 2/2 [00:04<00:00,  2.47s/it]\n",
      "extracting all features from dataset: 100%|██████████████████████████████████████████████| 1/1 [00:01<00:00,  1.62s/it]\n"
     ]
    },
    {
     "name": "stdout",
     "output_type": "stream",
     "text": [
      "----------------------------\n",
      "Train_z, Test_z\n",
      "PCA: 0.8019000000000001\n",
      "SVD: 0.7951\n",
      "NetG_fixD, Acc at sample 4 0.8489\n"
     ]
    },
    {
     "name": "stderr",
     "output_type": "stream",
     "text": [
      "extracting all features from dataset: 100%|██████████████████████████████████████████████| 2/2 [00:04<00:00,  2.49s/it]\n",
      "extracting all features from dataset: 100%|██████████████████████████████████████████████| 1/1 [00:01<00:00,  1.66s/it]\n"
     ]
    },
    {
     "name": "stdout",
     "output_type": "stream",
     "text": [
      "----------------------------\n",
      "Train_z, Test_z\n",
      "PCA: 0.7972\n",
      "SVD: 0.7912\n",
      "NetG_fixD, Acc at sample 5 0.8504\n"
     ]
    },
    {
     "name": "stderr",
     "output_type": "stream",
     "text": [
      "extracting all features from dataset: 100%|██████████████████████████████████████████████| 2/2 [00:04<00:00,  2.47s/it]\n",
      "extracting all features from dataset: 100%|██████████████████████████████████████████████| 1/1 [00:01<00:00,  1.62s/it]\n"
     ]
    },
    {
     "name": "stdout",
     "output_type": "stream",
     "text": [
      "----------------------------\n",
      "Train_z, Test_z\n",
      "PCA: 0.7967\n",
      "SVD: 0.7887\n",
      "NetG_fixD, Acc at sample 6 0.851\n"
     ]
    },
    {
     "name": "stderr",
     "output_type": "stream",
     "text": [
      "extracting all features from dataset: 100%|██████████████████████████████████████████████| 2/2 [00:04<00:00,  2.43s/it]\n",
      "extracting all features from dataset: 100%|██████████████████████████████████████████████| 1/1 [00:01<00:00,  1.65s/it]\n"
     ]
    },
    {
     "name": "stdout",
     "output_type": "stream",
     "text": [
      "----------------------------\n",
      "Train_z, Test_z\n",
      "PCA: 0.7934\n",
      "SVD: 0.7886\n",
      "NetG_fixD, Acc at sample 7 0.8473\n"
     ]
    },
    {
     "name": "stderr",
     "output_type": "stream",
     "text": [
      "extracting all features from dataset: 100%|██████████████████████████████████████████████| 2/2 [00:05<00:00,  2.51s/it]\n",
      "extracting all features from dataset: 100%|██████████████████████████████████████████████| 1/1 [00:01<00:00,  1.65s/it]\n"
     ]
    },
    {
     "name": "stdout",
     "output_type": "stream",
     "text": [
      "----------------------------\n",
      "Train_z, Test_z\n",
      "PCA: 0.7968\n",
      "SVD: 0.7908999999999999\n",
      "NetG_fixD, Acc at sample 8 0.8503\n"
     ]
    },
    {
     "name": "stderr",
     "output_type": "stream",
     "text": [
      "extracting all features from dataset: 100%|██████████████████████████████████████████████| 2/2 [00:04<00:00,  2.48s/it]\n",
      "extracting all features from dataset: 100%|██████████████████████████████████████████████| 1/1 [00:01<00:00,  1.67s/it]\n"
     ]
    },
    {
     "name": "stdout",
     "output_type": "stream",
     "text": [
      "----------------------------\n",
      "Train_z, Test_z\n",
      "PCA: 0.7994\n",
      "SVD: 0.7988\n",
      "NetG_fixD, Acc at sample 9 0.85\n"
     ]
    },
    {
     "name": "stderr",
     "output_type": "stream",
     "text": [
      "extracting all features from dataset: 100%|██████████████████████████████████████████████| 2/2 [00:04<00:00,  2.50s/it]\n",
      "extracting all features from dataset: 100%|██████████████████████████████████████████████| 1/1 [00:01<00:00,  1.66s/it]\n"
     ]
    },
    {
     "name": "stdout",
     "output_type": "stream",
     "text": [
      "----------------------------\n",
      "Train_z, Test_z\n",
      "PCA: 0.7981\n",
      "SVD: 0.7914\n",
      "NetG_fixD, Acc at sample 10 0.8477\n"
     ]
    },
    {
     "name": "stderr",
     "output_type": "stream",
     "text": [
      "extracting all features from dataset: 100%|██████████████████████████████████████████████| 2/2 [00:04<00:00,  2.45s/it]\n",
      "extracting all features from dataset: 100%|██████████████████████████████████████████████| 1/1 [00:01<00:00,  1.65s/it]\n"
     ]
    },
    {
     "name": "stdout",
     "output_type": "stream",
     "text": [
      "----------------------------\n",
      "Train_z, Test_z\n",
      "PCA: 0.798\n",
      "SVD: 0.7896\n",
      "NetG_fixD, Acc at sample 11 0.8497\n"
     ]
    },
    {
     "name": "stderr",
     "output_type": "stream",
     "text": [
      "extracting all features from dataset: 100%|██████████████████████████████████████████████| 2/2 [00:04<00:00,  2.38s/it]\n",
      "extracting all features from dataset: 100%|██████████████████████████████████████████████| 1/1 [00:01<00:00,  1.65s/it]\n"
     ]
    },
    {
     "name": "stdout",
     "output_type": "stream",
     "text": [
      "----------------------------\n",
      "Train_z, Test_z\n",
      "PCA: 0.7951\n",
      "SVD: 0.7915\n",
      "NetG_fixD, Acc at sample 12 0.8519\n"
     ]
    },
    {
     "name": "stderr",
     "output_type": "stream",
     "text": [
      "extracting all features from dataset: 100%|██████████████████████████████████████████████| 2/2 [00:05<00:00,  2.51s/it]\n",
      "extracting all features from dataset: 100%|██████████████████████████████████████████████| 1/1 [00:01<00:00,  1.66s/it]\n"
     ]
    },
    {
     "name": "stdout",
     "output_type": "stream",
     "text": [
      "----------------------------\n",
      "Train_z, Test_z\n",
      "PCA: 0.7979\n",
      "SVD: 0.7945\n",
      "NetG_fixD, Acc at sample 13 0.8516\n"
     ]
    },
    {
     "name": "stderr",
     "output_type": "stream",
     "text": [
      "extracting all features from dataset: 100%|██████████████████████████████████████████████| 2/2 [00:04<00:00,  2.39s/it]\n",
      "extracting all features from dataset: 100%|██████████████████████████████████████████████| 1/1 [00:01<00:00,  1.65s/it]\n"
     ]
    },
    {
     "name": "stdout",
     "output_type": "stream",
     "text": [
      "----------------------------\n",
      "Train_z, Test_z\n",
      "PCA: 0.7948\n",
      "SVD: 0.7884\n",
      "NetG_fixD, Acc at sample 14 0.8517\n"
     ]
    },
    {
     "name": "stderr",
     "output_type": "stream",
     "text": [
      "extracting all features from dataset: 100%|██████████████████████████████████████████████| 2/2 [00:04<00:00,  2.41s/it]\n",
      "extracting all features from dataset: 100%|██████████████████████████████████████████████| 1/1 [00:01<00:00,  1.64s/it]\n"
     ]
    },
    {
     "name": "stdout",
     "output_type": "stream",
     "text": [
      "----------------------------\n",
      "Train_z, Test_z\n",
      "PCA: 0.7984\n",
      "SVD: 0.7918000000000001\n",
      "NetG_fixD, Acc at sample 15 0.8485\n"
     ]
    },
    {
     "name": "stderr",
     "output_type": "stream",
     "text": [
      "extracting all features from dataset: 100%|██████████████████████████████████████████████| 2/2 [00:04<00:00,  2.37s/it]\n",
      "extracting all features from dataset: 100%|██████████████████████████████████████████████| 1/1 [00:01<00:00,  1.65s/it]\n"
     ]
    },
    {
     "name": "stdout",
     "output_type": "stream",
     "text": [
      "----------------------------\n",
      "Train_z, Test_z\n",
      "PCA: 0.794\n",
      "SVD: 0.7924\n",
      "NetG_fixD, Acc at sample 16 0.8508\n"
     ]
    },
    {
     "name": "stderr",
     "output_type": "stream",
     "text": [
      "extracting all features from dataset: 100%|██████████████████████████████████████████████| 2/2 [00:04<00:00,  2.46s/it]\n",
      "extracting all features from dataset: 100%|██████████████████████████████████████████████| 1/1 [00:01<00:00,  1.65s/it]\n"
     ]
    },
    {
     "name": "stdout",
     "output_type": "stream",
     "text": [
      "----------------------------\n",
      "Train_z, Test_z\n",
      "PCA: 0.7959\n",
      "SVD: 0.7917\n",
      "NetG_fixD, Acc at sample 17 0.8494\n"
     ]
    },
    {
     "name": "stderr",
     "output_type": "stream",
     "text": [
      "extracting all features from dataset: 100%|██████████████████████████████████████████████| 2/2 [00:04<00:00,  2.43s/it]\n",
      "extracting all features from dataset: 100%|██████████████████████████████████████████████| 1/1 [00:01<00:00,  1.65s/it]\n"
     ]
    },
    {
     "name": "stdout",
     "output_type": "stream",
     "text": [
      "----------------------------\n",
      "Train_z, Test_z\n",
      "PCA: 0.7939\n",
      "SVD: 0.7924\n",
      "NetG_fixD, Acc at sample 18 0.848\n"
     ]
    },
    {
     "name": "stderr",
     "output_type": "stream",
     "text": [
      "extracting all features from dataset: 100%|██████████████████████████████████████████████| 2/2 [00:04<00:00,  2.41s/it]\n",
      "extracting all features from dataset: 100%|██████████████████████████████████████████████| 1/1 [00:01<00:00,  1.63s/it]\n"
     ]
    },
    {
     "name": "stdout",
     "output_type": "stream",
     "text": [
      "----------------------------\n",
      "Train_z, Test_z\n",
      "PCA: 0.7981\n",
      "SVD: 0.7922\n",
      "NetG_fixD, Acc at sample 19 0.8503\n"
     ]
    },
    {
     "name": "stderr",
     "output_type": "stream",
     "text": [
      "extracting all features from dataset: 100%|██████████████████████████████████████████████| 2/2 [00:04<00:00,  2.46s/it]\n",
      "extracting all features from dataset: 100%|██████████████████████████████████████████████| 1/1 [00:01<00:00,  1.68s/it]\n"
     ]
    },
    {
     "name": "stdout",
     "output_type": "stream",
     "text": [
      "----------------------------\n",
      "Train_z, Test_z\n",
      "PCA: 0.7919\n",
      "SVD: 0.7905\n",
      "NetG_fixD, Acc at sample 20 0.8511\n",
      "0.8519 0.8473 0.8501099999999999 1.888899999999987e-06\n"
     ]
    }
   ],
   "source": [
    "# sample 50 times of NetG at final radius, NetD is fixed\n",
    "from sklearn.neighbors import KNeighborsClassifier \n",
    "Acc_results_G_sample4 = []\n",
    "\n",
    "for _ in range(sample_num):\n",
    "    #acc at first\n",
    "    net_noise = get_noise(DATASET, device, LABEL)\n",
    "    fed_state_dict = get_netG(netD,netV,net_noise,r_list[4])\n",
    "    netG.load_state_dict(fed_state_dict)\n",
    "    \n",
    "    train_X, train_Z, train_X_bar, train_Z_bar, train_labels = extract_features2(trainloader, netG, netD)\n",
    "\n",
    "    test_X, test_Z, test_X_bar, test_Z_bar, test_labels = extract_features2(testloader, netG, netD)\n",
    "\n",
    "    print(\"----------------------------\")\n",
    "    print(\"Train_z, Test_z\")\n",
    "    nearsub(n_comp, train_Z, train_labels, test_Z, test_labels)\n",
    "\n",
    "    knn= KNeighborsClassifier(n_neighbors=10) \n",
    "\n",
    "    knn.fit(train_Z,train_labels) \n",
    "    knn.score(test_Z_bar,test_labels) \n",
    "\n",
    "    y_predict = knn.predict(test_Z_bar) \n",
    "\n",
    "    count =0\n",
    "    for k in range(10000):\n",
    "        if y_predict[k] == test_labels[k]:\n",
    "            count +=1\n",
    "    print('NetG_fixD, Acc at sample',_+1,count/10000)\n",
    "    Acc_results_G_sample4.append(count/10000)\n",
    "    \n",
    "print(max(Acc_results_G_sample4),min(Acc_results_G_sample4),np.mean(Acc_results_G_sample4),np.var(Acc_results_G_sample4))"
   ]
  },
  {
   "cell_type": "code",
   "execution_count": 16,
   "id": "dfa16dcf",
   "metadata": {},
   "outputs": [
    {
     "name": "stderr",
     "output_type": "stream",
     "text": [
      "extracting all features from dataset: 100%|██████████████████████████████████████████████| 2/2 [00:04<00:00,  2.44s/it]\n",
      "extracting all features from dataset: 100%|██████████████████████████████████████████████| 1/1 [00:01<00:00,  1.66s/it]\n"
     ]
    },
    {
     "name": "stdout",
     "output_type": "stream",
     "text": [
      "----------------------------\n",
      "Train_z, Test_z\n",
      "PCA: 0.8075\n",
      "SVD: 0.8004\n",
      "NetG_fixD, Acc at sample 1 0.8379\n"
     ]
    },
    {
     "name": "stderr",
     "output_type": "stream",
     "text": [
      "extracting all features from dataset: 100%|██████████████████████████████████████████████| 2/2 [00:04<00:00,  2.49s/it]\n",
      "extracting all features from dataset: 100%|██████████████████████████████████████████████| 1/1 [00:01<00:00,  1.61s/it]\n"
     ]
    },
    {
     "name": "stdout",
     "output_type": "stream",
     "text": [
      "----------------------------\n",
      "Train_z, Test_z\n",
      "PCA: 0.8035\n",
      "SVD: 0.7964\n",
      "NetG_fixD, Acc at sample 2 0.8302\n"
     ]
    },
    {
     "name": "stderr",
     "output_type": "stream",
     "text": [
      "extracting all features from dataset: 100%|██████████████████████████████████████████████| 2/2 [00:04<00:00,  2.39s/it]\n",
      "extracting all features from dataset: 100%|██████████████████████████████████████████████| 1/1 [00:01<00:00,  1.68s/it]\n"
     ]
    },
    {
     "name": "stdout",
     "output_type": "stream",
     "text": [
      "----------------------------\n",
      "Train_z, Test_z\n",
      "PCA: 0.8019000000000001\n",
      "SVD: 0.7978000000000001\n",
      "NetG_fixD, Acc at sample 3 0.8363\n"
     ]
    },
    {
     "name": "stderr",
     "output_type": "stream",
     "text": [
      "extracting all features from dataset: 100%|██████████████████████████████████████████████| 2/2 [00:04<00:00,  2.38s/it]\n",
      "extracting all features from dataset: 100%|██████████████████████████████████████████████| 1/1 [00:01<00:00,  1.61s/it]\n"
     ]
    },
    {
     "name": "stdout",
     "output_type": "stream",
     "text": [
      "----------------------------\n",
      "Train_z, Test_z\n",
      "PCA: 0.8067\n",
      "SVD: 0.8051\n",
      "NetG_fixD, Acc at sample 4 0.8368\n"
     ]
    },
    {
     "name": "stderr",
     "output_type": "stream",
     "text": [
      "extracting all features from dataset: 100%|██████████████████████████████████████████████| 2/2 [00:04<00:00,  2.49s/it]\n",
      "extracting all features from dataset: 100%|██████████████████████████████████████████████| 1/1 [00:01<00:00,  1.63s/it]\n"
     ]
    },
    {
     "name": "stdout",
     "output_type": "stream",
     "text": [
      "----------------------------\n",
      "Train_z, Test_z\n",
      "PCA: 0.8036\n",
      "SVD: 0.7988999999999999\n",
      "NetG_fixD, Acc at sample 5 0.8361\n"
     ]
    },
    {
     "name": "stderr",
     "output_type": "stream",
     "text": [
      "extracting all features from dataset: 100%|██████████████████████████████████████████████| 2/2 [00:05<00:00,  2.56s/it]\n",
      "extracting all features from dataset: 100%|██████████████████████████████████████████████| 1/1 [00:01<00:00,  1.67s/it]\n"
     ]
    },
    {
     "name": "stdout",
     "output_type": "stream",
     "text": [
      "----------------------------\n",
      "Train_z, Test_z\n",
      "PCA: 0.8102\n",
      "SVD: 0.8032\n",
      "NetG_fixD, Acc at sample 6 0.8354\n"
     ]
    },
    {
     "name": "stderr",
     "output_type": "stream",
     "text": [
      "extracting all features from dataset: 100%|██████████████████████████████████████████████| 2/2 [00:04<00:00,  2.42s/it]\n",
      "extracting all features from dataset: 100%|██████████████████████████████████████████████| 1/1 [00:01<00:00,  1.67s/it]\n"
     ]
    },
    {
     "name": "stdout",
     "output_type": "stream",
     "text": [
      "----------------------------\n",
      "Train_z, Test_z\n",
      "PCA: 0.8012\n",
      "SVD: 0.7996\n",
      "NetG_fixD, Acc at sample 7 0.8372\n"
     ]
    },
    {
     "name": "stderr",
     "output_type": "stream",
     "text": [
      "extracting all features from dataset: 100%|██████████████████████████████████████████████| 2/2 [00:04<00:00,  2.44s/it]\n",
      "extracting all features from dataset: 100%|██████████████████████████████████████████████| 1/1 [00:01<00:00,  1.66s/it]\n"
     ]
    },
    {
     "name": "stdout",
     "output_type": "stream",
     "text": [
      "----------------------------\n",
      "Train_z, Test_z\n",
      "PCA: 0.8048\n",
      "SVD: 0.7973\n",
      "NetG_fixD, Acc at sample 8 0.8371\n"
     ]
    },
    {
     "name": "stderr",
     "output_type": "stream",
     "text": [
      "extracting all features from dataset: 100%|██████████████████████████████████████████████| 2/2 [00:05<00:00,  2.50s/it]\n",
      "extracting all features from dataset: 100%|██████████████████████████████████████████████| 1/1 [00:01<00:00,  1.66s/it]\n"
     ]
    },
    {
     "name": "stdout",
     "output_type": "stream",
     "text": [
      "----------------------------\n",
      "Train_z, Test_z\n",
      "PCA: 0.8017\n",
      "SVD: 0.794\n",
      "NetG_fixD, Acc at sample 9 0.8379\n"
     ]
    },
    {
     "name": "stderr",
     "output_type": "stream",
     "text": [
      "extracting all features from dataset: 100%|██████████████████████████████████████████████| 2/2 [00:04<00:00,  2.36s/it]\n",
      "extracting all features from dataset: 100%|██████████████████████████████████████████████| 1/1 [00:01<00:00,  1.64s/it]\n"
     ]
    },
    {
     "name": "stdout",
     "output_type": "stream",
     "text": [
      "----------------------------\n",
      "Train_z, Test_z\n",
      "PCA: 0.8074\n",
      "SVD: 0.8057\n",
      "NetG_fixD, Acc at sample 10 0.8344\n"
     ]
    },
    {
     "name": "stderr",
     "output_type": "stream",
     "text": [
      "extracting all features from dataset: 100%|██████████████████████████████████████████████| 2/2 [00:04<00:00,  2.45s/it]\n",
      "extracting all features from dataset: 100%|██████████████████████████████████████████████| 1/1 [00:01<00:00,  1.59s/it]\n"
     ]
    },
    {
     "name": "stdout",
     "output_type": "stream",
     "text": [
      "----------------------------\n",
      "Train_z, Test_z\n",
      "PCA: 0.8071\n",
      "SVD: 0.8017\n",
      "NetG_fixD, Acc at sample 11 0.8408\n"
     ]
    },
    {
     "name": "stderr",
     "output_type": "stream",
     "text": [
      "extracting all features from dataset: 100%|██████████████████████████████████████████████| 2/2 [00:04<00:00,  2.46s/it]\n",
      "extracting all features from dataset: 100%|██████████████████████████████████████████████| 1/1 [00:01<00:00,  1.66s/it]\n"
     ]
    },
    {
     "name": "stdout",
     "output_type": "stream",
     "text": [
      "----------------------------\n",
      "Train_z, Test_z\n",
      "PCA: 0.8046\n",
      "SVD: 0.8002\n",
      "NetG_fixD, Acc at sample 12 0.839\n"
     ]
    },
    {
     "name": "stderr",
     "output_type": "stream",
     "text": [
      "extracting all features from dataset: 100%|██████████████████████████████████████████████| 2/2 [00:04<00:00,  2.40s/it]\n",
      "extracting all features from dataset: 100%|██████████████████████████████████████████████| 1/1 [00:01<00:00,  1.66s/it]\n"
     ]
    },
    {
     "name": "stdout",
     "output_type": "stream",
     "text": [
      "----------------------------\n",
      "Train_z, Test_z\n",
      "PCA: 0.8013\n",
      "SVD: 0.7977\n",
      "NetG_fixD, Acc at sample 13 0.8295\n"
     ]
    },
    {
     "name": "stderr",
     "output_type": "stream",
     "text": [
      "extracting all features from dataset: 100%|██████████████████████████████████████████████| 2/2 [00:04<00:00,  2.49s/it]\n",
      "extracting all features from dataset: 100%|██████████████████████████████████████████████| 1/1 [00:01<00:00,  1.66s/it]\n"
     ]
    },
    {
     "name": "stdout",
     "output_type": "stream",
     "text": [
      "----------------------------\n",
      "Train_z, Test_z\n",
      "PCA: 0.7978000000000001\n",
      "SVD: 0.7952\n",
      "NetG_fixD, Acc at sample 14 0.8362\n"
     ]
    },
    {
     "name": "stderr",
     "output_type": "stream",
     "text": [
      "extracting all features from dataset: 100%|██████████████████████████████████████████████| 2/2 [00:05<00:00,  2.53s/it]\n",
      "extracting all features from dataset: 100%|██████████████████████████████████████████████| 1/1 [00:01<00:00,  1.66s/it]\n"
     ]
    },
    {
     "name": "stdout",
     "output_type": "stream",
     "text": [
      "----------------------------\n",
      "Train_z, Test_z\n",
      "PCA: 0.8051\n",
      "SVD: 0.7979\n",
      "NetG_fixD, Acc at sample 15 0.84\n"
     ]
    },
    {
     "name": "stderr",
     "output_type": "stream",
     "text": [
      "extracting all features from dataset: 100%|██████████████████████████████████████████████| 2/2 [00:04<00:00,  2.39s/it]\n",
      "extracting all features from dataset: 100%|██████████████████████████████████████████████| 1/1 [00:01<00:00,  1.65s/it]\n"
     ]
    },
    {
     "name": "stdout",
     "output_type": "stream",
     "text": [
      "----------------------------\n",
      "Train_z, Test_z\n",
      "PCA: 0.8065\n",
      "SVD: 0.8041\n",
      "NetG_fixD, Acc at sample 16 0.8362\n"
     ]
    },
    {
     "name": "stderr",
     "output_type": "stream",
     "text": [
      "extracting all features from dataset: 100%|██████████████████████████████████████████████| 2/2 [00:04<00:00,  2.44s/it]\n",
      "extracting all features from dataset: 100%|██████████████████████████████████████████████| 1/1 [00:01<00:00,  1.68s/it]\n"
     ]
    },
    {
     "name": "stdout",
     "output_type": "stream",
     "text": [
      "----------------------------\n",
      "Train_z, Test_z\n",
      "PCA: 0.7996\n",
      "SVD: 0.7972\n",
      "NetG_fixD, Acc at sample 17 0.835\n"
     ]
    },
    {
     "name": "stderr",
     "output_type": "stream",
     "text": [
      "extracting all features from dataset: 100%|██████████████████████████████████████████████| 2/2 [00:04<00:00,  2.43s/it]\n",
      "extracting all features from dataset: 100%|██████████████████████████████████████████████| 1/1 [00:01<00:00,  1.64s/it]\n"
     ]
    },
    {
     "name": "stdout",
     "output_type": "stream",
     "text": [
      "----------------------------\n",
      "Train_z, Test_z\n",
      "PCA: 0.8006\n",
      "SVD: 0.7964\n",
      "NetG_fixD, Acc at sample 18 0.8336\n"
     ]
    },
    {
     "name": "stderr",
     "output_type": "stream",
     "text": [
      "extracting all features from dataset: 100%|██████████████████████████████████████████████| 2/2 [00:05<00:00,  2.52s/it]\n",
      "extracting all features from dataset: 100%|██████████████████████████████████████████████| 1/1 [00:01<00:00,  1.64s/it]\n"
     ]
    },
    {
     "name": "stdout",
     "output_type": "stream",
     "text": [
      "----------------------------\n",
      "Train_z, Test_z\n",
      "PCA: 0.8075\n",
      "SVD: 0.8054\n",
      "NetG_fixD, Acc at sample 19 0.8276\n"
     ]
    },
    {
     "name": "stderr",
     "output_type": "stream",
     "text": [
      "extracting all features from dataset: 100%|██████████████████████████████████████████████| 2/2 [00:04<00:00,  2.46s/it]\n",
      "extracting all features from dataset: 100%|██████████████████████████████████████████████| 1/1 [00:01<00:00,  1.68s/it]\n"
     ]
    },
    {
     "name": "stdout",
     "output_type": "stream",
     "text": [
      "----------------------------\n",
      "Train_z, Test_z\n",
      "PCA: 0.7999\n",
      "SVD: 0.795\n",
      "NetG_fixD, Acc at sample 20 0.8344\n",
      "0.8408 0.8276 0.83558 1.0694599999999925e-05\n"
     ]
    }
   ],
   "source": [
    "# sample 50 times of NetG at final radius, NetD is fixed\n",
    "from sklearn.neighbors import KNeighborsClassifier \n",
    "Acc_results_G_sample5 = []\n",
    "\n",
    "for _ in range(sample_num):\n",
    "    #acc at first\n",
    "    net_noise = get_noise(DATASET, device, LABEL)\n",
    "    fed_state_dict = get_netG(netD,netV,net_noise,r_list[5])\n",
    "    netG.load_state_dict(fed_state_dict)\n",
    "    \n",
    "    train_X, train_Z, train_X_bar, train_Z_bar, train_labels = extract_features2(trainloader, netG, netD)\n",
    "\n",
    "    test_X, test_Z, test_X_bar, test_Z_bar, test_labels = extract_features2(testloader, netG, netD)\n",
    "\n",
    "    print(\"----------------------------\")\n",
    "    print(\"Train_z, Test_z\")\n",
    "    nearsub(n_comp, train_Z, train_labels, test_Z, test_labels)\n",
    "\n",
    "    knn= KNeighborsClassifier(n_neighbors=10) \n",
    "\n",
    "    knn.fit(train_Z,train_labels) \n",
    "    knn.score(test_Z_bar,test_labels) \n",
    "\n",
    "    y_predict = knn.predict(test_Z_bar) \n",
    "\n",
    "    count =0\n",
    "    for k in range(10000):\n",
    "        if y_predict[k] == test_labels[k]:\n",
    "            count +=1\n",
    "    print('NetG_fixD, Acc at sample',_+1,count/10000)\n",
    "    Acc_results_G_sample5.append(count/10000)\n",
    "    \n",
    "print(max(Acc_results_G_sample5),min(Acc_results_G_sample5),np.mean(Acc_results_G_sample5),np.var(Acc_results_G_sample5))"
   ]
  },
  {
   "cell_type": "code",
   "execution_count": 17,
   "id": "4594946a",
   "metadata": {},
   "outputs": [
    {
     "name": "stderr",
     "output_type": "stream",
     "text": [
      "extracting all features from dataset: 100%|██████████████████████████████████████████████| 2/2 [00:04<00:00,  2.46s/it]\n",
      "extracting all features from dataset: 100%|██████████████████████████████████████████████| 1/1 [00:01<00:00,  1.65s/it]\n"
     ]
    },
    {
     "name": "stdout",
     "output_type": "stream",
     "text": [
      "----------------------------\n",
      "Train_z, Test_z\n",
      "PCA: 0.8062\n",
      "SVD: 0.8052\n",
      "NetG_fixD, Acc at sample 1 0.7437\n"
     ]
    },
    {
     "name": "stderr",
     "output_type": "stream",
     "text": [
      "extracting all features from dataset: 100%|██████████████████████████████████████████████| 2/2 [00:04<00:00,  2.41s/it]\n",
      "extracting all features from dataset: 100%|██████████████████████████████████████████████| 1/1 [00:01<00:00,  1.65s/it]\n"
     ]
    },
    {
     "name": "stdout",
     "output_type": "stream",
     "text": [
      "----------------------------\n",
      "Train_z, Test_z\n",
      "PCA: 0.8108\n",
      "SVD: 0.8047\n",
      "NetG_fixD, Acc at sample 2 0.6934\n"
     ]
    },
    {
     "name": "stderr",
     "output_type": "stream",
     "text": [
      "extracting all features from dataset: 100%|██████████████████████████████████████████████| 2/2 [00:04<00:00,  2.49s/it]\n",
      "extracting all features from dataset: 100%|██████████████████████████████████████████████| 1/1 [00:01<00:00,  1.67s/it]\n"
     ]
    },
    {
     "name": "stdout",
     "output_type": "stream",
     "text": [
      "----------------------------\n",
      "Train_z, Test_z\n",
      "PCA: 0.8046\n",
      "SVD: 0.802\n",
      "NetG_fixD, Acc at sample 3 0.7426\n"
     ]
    },
    {
     "name": "stderr",
     "output_type": "stream",
     "text": [
      "extracting all features from dataset: 100%|██████████████████████████████████████████████| 2/2 [00:04<00:00,  2.41s/it]\n",
      "extracting all features from dataset: 100%|██████████████████████████████████████████████| 1/1 [00:01<00:00,  1.62s/it]\n"
     ]
    },
    {
     "name": "stdout",
     "output_type": "stream",
     "text": [
      "----------------------------\n",
      "Train_z, Test_z\n",
      "PCA: 0.8027\n",
      "SVD: 0.8075\n",
      "NetG_fixD, Acc at sample 4 0.634\n"
     ]
    },
    {
     "name": "stderr",
     "output_type": "stream",
     "text": [
      "extracting all features from dataset: 100%|██████████████████████████████████████████████| 2/2 [00:04<00:00,  2.47s/it]\n",
      "extracting all features from dataset: 100%|██████████████████████████████████████████████| 1/1 [00:01<00:00,  1.66s/it]\n"
     ]
    },
    {
     "name": "stdout",
     "output_type": "stream",
     "text": [
      "----------------------------\n",
      "Train_z, Test_z\n",
      "PCA: 0.8085\n",
      "SVD: 0.8043\n",
      "NetG_fixD, Acc at sample 5 0.6589\n"
     ]
    },
    {
     "name": "stderr",
     "output_type": "stream",
     "text": [
      "extracting all features from dataset: 100%|██████████████████████████████████████████████| 2/2 [00:04<00:00,  2.47s/it]\n",
      "extracting all features from dataset: 100%|██████████████████████████████████████████████| 1/1 [00:01<00:00,  1.67s/it]\n"
     ]
    },
    {
     "name": "stdout",
     "output_type": "stream",
     "text": [
      "----------------------------\n",
      "Train_z, Test_z\n",
      "PCA: 0.8037\n",
      "SVD: 0.7999\n",
      "NetG_fixD, Acc at sample 6 0.7298\n"
     ]
    },
    {
     "name": "stderr",
     "output_type": "stream",
     "text": [
      "extracting all features from dataset: 100%|██████████████████████████████████████████████| 2/2 [00:04<00:00,  2.45s/it]\n",
      "extracting all features from dataset: 100%|██████████████████████████████████████████████| 1/1 [00:01<00:00,  1.64s/it]\n"
     ]
    },
    {
     "name": "stdout",
     "output_type": "stream",
     "text": [
      "----------------------------\n",
      "Train_z, Test_z\n",
      "PCA: 0.808\n",
      "SVD: 0.8041\n",
      "NetG_fixD, Acc at sample 7 0.7173\n"
     ]
    },
    {
     "name": "stderr",
     "output_type": "stream",
     "text": [
      "extracting all features from dataset: 100%|██████████████████████████████████████████████| 2/2 [00:04<00:00,  2.49s/it]\n",
      "extracting all features from dataset: 100%|██████████████████████████████████████████████| 1/1 [00:01<00:00,  1.65s/it]\n"
     ]
    },
    {
     "name": "stdout",
     "output_type": "stream",
     "text": [
      "----------------------------\n",
      "Train_z, Test_z\n",
      "PCA: 0.8083\n",
      "SVD: 0.8058\n",
      "NetG_fixD, Acc at sample 8 0.7068\n"
     ]
    },
    {
     "name": "stderr",
     "output_type": "stream",
     "text": [
      "extracting all features from dataset: 100%|██████████████████████████████████████████████| 2/2 [00:05<00:00,  2.51s/it]\n",
      "extracting all features from dataset: 100%|██████████████████████████████████████████████| 1/1 [00:01<00:00,  1.66s/it]\n"
     ]
    },
    {
     "name": "stdout",
     "output_type": "stream",
     "text": [
      "----------------------------\n",
      "Train_z, Test_z\n",
      "PCA: 0.8026\n",
      "SVD: 0.7988999999999999\n",
      "NetG_fixD, Acc at sample 9 0.779\n"
     ]
    },
    {
     "name": "stderr",
     "output_type": "stream",
     "text": [
      "extracting all features from dataset: 100%|██████████████████████████████████████████████| 2/2 [00:04<00:00,  2.46s/it]\n",
      "extracting all features from dataset: 100%|██████████████████████████████████████████████| 1/1 [00:01<00:00,  1.64s/it]\n"
     ]
    },
    {
     "name": "stdout",
     "output_type": "stream",
     "text": [
      "----------------------------\n",
      "Train_z, Test_z\n",
      "PCA: 0.8118\n",
      "SVD: 0.8079000000000001\n",
      "NetG_fixD, Acc at sample 10 0.7704\n"
     ]
    },
    {
     "name": "stderr",
     "output_type": "stream",
     "text": [
      "extracting all features from dataset: 100%|██████████████████████████████████████████████| 2/2 [00:04<00:00,  2.48s/it]\n",
      "extracting all features from dataset: 100%|██████████████████████████████████████████████| 1/1 [00:01<00:00,  1.63s/it]\n"
     ]
    },
    {
     "name": "stdout",
     "output_type": "stream",
     "text": [
      "----------------------------\n",
      "Train_z, Test_z\n",
      "PCA: 0.8093\n",
      "SVD: 0.8051\n",
      "NetG_fixD, Acc at sample 11 0.7153\n"
     ]
    },
    {
     "name": "stderr",
     "output_type": "stream",
     "text": [
      "extracting all features from dataset: 100%|██████████████████████████████████████████████| 2/2 [00:04<00:00,  2.41s/it]\n",
      "extracting all features from dataset: 100%|██████████████████████████████████████████████| 1/1 [00:01<00:00,  1.66s/it]\n"
     ]
    },
    {
     "name": "stdout",
     "output_type": "stream",
     "text": [
      "----------------------------\n",
      "Train_z, Test_z\n",
      "PCA: 0.8127\n",
      "SVD: 0.8082\n",
      "NetG_fixD, Acc at sample 12 0.7188\n"
     ]
    },
    {
     "name": "stderr",
     "output_type": "stream",
     "text": [
      "extracting all features from dataset: 100%|██████████████████████████████████████████████| 2/2 [00:04<00:00,  2.47s/it]\n",
      "extracting all features from dataset: 100%|██████████████████████████████████████████████| 1/1 [00:01<00:00,  1.65s/it]\n"
     ]
    },
    {
     "name": "stdout",
     "output_type": "stream",
     "text": [
      "----------------------------\n",
      "Train_z, Test_z\n",
      "PCA: 0.8059000000000001\n",
      "SVD: 0.806\n",
      "NetG_fixD, Acc at sample 13 0.7068\n"
     ]
    },
    {
     "name": "stderr",
     "output_type": "stream",
     "text": [
      "extracting all features from dataset: 100%|██████████████████████████████████████████████| 2/2 [00:04<00:00,  2.44s/it]\n",
      "extracting all features from dataset: 100%|██████████████████████████████████████████████| 1/1 [00:01<00:00,  1.66s/it]\n"
     ]
    },
    {
     "name": "stdout",
     "output_type": "stream",
     "text": [
      "----------------------------\n",
      "Train_z, Test_z\n",
      "PCA: 0.8098\n",
      "SVD: 0.8091\n",
      "NetG_fixD, Acc at sample 14 0.7219\n"
     ]
    },
    {
     "name": "stderr",
     "output_type": "stream",
     "text": [
      "extracting all features from dataset: 100%|██████████████████████████████████████████████| 2/2 [00:05<00:00,  2.51s/it]\n",
      "extracting all features from dataset: 100%|██████████████████████████████████████████████| 1/1 [00:01<00:00,  1.64s/it]\n"
     ]
    },
    {
     "name": "stdout",
     "output_type": "stream",
     "text": [
      "----------------------------\n",
      "Train_z, Test_z\n",
      "PCA: 0.8073\n",
      "SVD: 0.8014\n",
      "NetG_fixD, Acc at sample 15 0.6623\n"
     ]
    },
    {
     "name": "stderr",
     "output_type": "stream",
     "text": [
      "extracting all features from dataset: 100%|██████████████████████████████████████████████| 2/2 [00:04<00:00,  2.41s/it]\n",
      "extracting all features from dataset: 100%|██████████████████████████████████████████████| 1/1 [00:01<00:00,  1.65s/it]\n"
     ]
    },
    {
     "name": "stdout",
     "output_type": "stream",
     "text": [
      "----------------------------\n",
      "Train_z, Test_z\n",
      "PCA: 0.8077\n",
      "SVD: 0.8027\n",
      "NetG_fixD, Acc at sample 16 0.6859\n"
     ]
    },
    {
     "name": "stderr",
     "output_type": "stream",
     "text": [
      "extracting all features from dataset: 100%|██████████████████████████████████████████████| 2/2 [00:05<00:00,  2.54s/it]\n",
      "extracting all features from dataset: 100%|██████████████████████████████████████████████| 1/1 [00:01<00:00,  1.69s/it]\n"
     ]
    },
    {
     "name": "stdout",
     "output_type": "stream",
     "text": [
      "----------------------------\n",
      "Train_z, Test_z\n",
      "PCA: 0.8125\n",
      "SVD: 0.8103\n",
      "NetG_fixD, Acc at sample 17 0.7375\n"
     ]
    },
    {
     "name": "stderr",
     "output_type": "stream",
     "text": [
      "extracting all features from dataset: 100%|██████████████████████████████████████████████| 2/2 [00:04<00:00,  2.43s/it]\n",
      "extracting all features from dataset: 100%|██████████████████████████████████████████████| 1/1 [00:01<00:00,  1.65s/it]\n"
     ]
    },
    {
     "name": "stdout",
     "output_type": "stream",
     "text": [
      "----------------------------\n",
      "Train_z, Test_z\n",
      "PCA: 0.8091\n",
      "SVD: 0.8053\n",
      "NetG_fixD, Acc at sample 18 0.6664\n"
     ]
    },
    {
     "name": "stderr",
     "output_type": "stream",
     "text": [
      "extracting all features from dataset: 100%|██████████████████████████████████████████████| 2/2 [00:04<00:00,  2.38s/it]\n",
      "extracting all features from dataset: 100%|██████████████████████████████████████████████| 1/1 [00:01<00:00,  1.65s/it]\n"
     ]
    },
    {
     "name": "stdout",
     "output_type": "stream",
     "text": [
      "----------------------------\n",
      "Train_z, Test_z\n",
      "PCA: 0.8110999999999999\n",
      "SVD: 0.8093\n",
      "NetG_fixD, Acc at sample 19 0.7344\n"
     ]
    },
    {
     "name": "stderr",
     "output_type": "stream",
     "text": [
      "extracting all features from dataset: 100%|██████████████████████████████████████████████| 2/2 [00:04<00:00,  2.49s/it]\n",
      "extracting all features from dataset: 100%|██████████████████████████████████████████████| 1/1 [00:01<00:00,  1.68s/it]\n"
     ]
    },
    {
     "name": "stdout",
     "output_type": "stream",
     "text": [
      "----------------------------\n",
      "Train_z, Test_z\n",
      "PCA: 0.8133\n",
      "SVD: 0.8083\n",
      "NetG_fixD, Acc at sample 20 0.6731\n",
      "0.779 0.634 0.7099150000000001 0.0013726732750000002\n"
     ]
    }
   ],
   "source": [
    "# sample 50 times of NetG at final radius, NetD is fixed\n",
    "from sklearn.neighbors import KNeighborsClassifier \n",
    "Acc_results_G_sample6 = []\n",
    "\n",
    "for _ in range(sample_num):\n",
    "    #acc at first\n",
    "    net_noise = get_noise(DATASET, device, LABEL)\n",
    "    fed_state_dict = get_netG(netD,netV,net_noise,r_list[6])\n",
    "    netG.load_state_dict(fed_state_dict)\n",
    "    \n",
    "    train_X, train_Z, train_X_bar, train_Z_bar, train_labels = extract_features2(trainloader, netG, netD)\n",
    "\n",
    "    test_X, test_Z, test_X_bar, test_Z_bar, test_labels = extract_features2(testloader, netG, netD)\n",
    "\n",
    "    print(\"----------------------------\")\n",
    "    print(\"Train_z, Test_z\")\n",
    "    nearsub(n_comp, train_Z, train_labels, test_Z, test_labels)\n",
    "\n",
    "    knn= KNeighborsClassifier(n_neighbors=10) \n",
    "\n",
    "    knn.fit(train_Z,train_labels) \n",
    "    knn.score(test_Z_bar,test_labels) \n",
    "\n",
    "    y_predict = knn.predict(test_Z_bar) \n",
    "\n",
    "    count =0\n",
    "    for k in range(10000):\n",
    "        if y_predict[k] == test_labels[k]:\n",
    "            count +=1\n",
    "    print('NetG_fixD, Acc at sample',_+1,count/10000)\n",
    "    Acc_results_G_sample6.append(count/10000)\n",
    "    \n",
    "print(max(Acc_results_G_sample6),min(Acc_results_G_sample6),np.mean(Acc_results_G_sample6),np.var(Acc_results_G_sample6))"
   ]
  },
  {
   "cell_type": "code",
   "execution_count": 18,
   "id": "9bac47e0",
   "metadata": {},
   "outputs": [
    {
     "name": "stderr",
     "output_type": "stream",
     "text": [
      "extracting all features from dataset: 100%|██████████████████████████████████████████████| 2/2 [00:05<00:00,  2.55s/it]\n",
      "extracting all features from dataset: 100%|██████████████████████████████████████████████| 1/1 [00:01<00:00,  1.65s/it]\n"
     ]
    },
    {
     "name": "stdout",
     "output_type": "stream",
     "text": [
      "----------------------------\n",
      "Train_z, Test_z\n",
      "PCA: 0.808\n",
      "SVD: 0.8037\n",
      "NetG_fixD, Acc at sample 1 0.3902\n"
     ]
    },
    {
     "name": "stderr",
     "output_type": "stream",
     "text": [
      "extracting all features from dataset: 100%|██████████████████████████████████████████████| 2/2 [00:05<00:00,  2.53s/it]\n",
      "extracting all features from dataset: 100%|██████████████████████████████████████████████| 1/1 [00:01<00:00,  1.65s/it]\n"
     ]
    },
    {
     "name": "stdout",
     "output_type": "stream",
     "text": [
      "----------------------------\n",
      "Train_z, Test_z\n",
      "PCA: 0.8044\n",
      "SVD: 0.8044\n",
      "NetG_fixD, Acc at sample 2 0.3027\n"
     ]
    },
    {
     "name": "stderr",
     "output_type": "stream",
     "text": [
      "extracting all features from dataset: 100%|██████████████████████████████████████████████| 2/2 [00:04<00:00,  2.45s/it]\n",
      "extracting all features from dataset: 100%|██████████████████████████████████████████████| 1/1 [00:01<00:00,  1.65s/it]\n"
     ]
    },
    {
     "name": "stdout",
     "output_type": "stream",
     "text": [
      "----------------------------\n",
      "Train_z, Test_z\n",
      "PCA: 0.8109999999999999\n",
      "SVD: 0.8073\n",
      "NetG_fixD, Acc at sample 3 0.38\n"
     ]
    },
    {
     "name": "stderr",
     "output_type": "stream",
     "text": [
      "extracting all features from dataset: 100%|██████████████████████████████████████████████| 2/2 [00:04<00:00,  2.38s/it]\n",
      "extracting all features from dataset: 100%|██████████████████████████████████████████████| 1/1 [00:01<00:00,  1.67s/it]\n"
     ]
    },
    {
     "name": "stdout",
     "output_type": "stream",
     "text": [
      "----------------------------\n",
      "Train_z, Test_z\n",
      "PCA: 0.8085\n",
      "SVD: 0.8047\n",
      "NetG_fixD, Acc at sample 4 0.332\n"
     ]
    },
    {
     "name": "stderr",
     "output_type": "stream",
     "text": [
      "extracting all features from dataset: 100%|██████████████████████████████████████████████| 2/2 [00:04<00:00,  2.47s/it]\n",
      "extracting all features from dataset: 100%|██████████████████████████████████████████████| 1/1 [00:01<00:00,  1.65s/it]\n"
     ]
    },
    {
     "name": "stdout",
     "output_type": "stream",
     "text": [
      "----------------------------\n",
      "Train_z, Test_z\n",
      "PCA: 0.7991\n",
      "SVD: 0.8019000000000001\n",
      "NetG_fixD, Acc at sample 5 0.3517\n"
     ]
    },
    {
     "name": "stderr",
     "output_type": "stream",
     "text": [
      "extracting all features from dataset: 100%|██████████████████████████████████████████████| 2/2 [00:04<00:00,  2.48s/it]\n",
      "extracting all features from dataset: 100%|██████████████████████████████████████████████| 1/1 [00:01<00:00,  1.64s/it]\n"
     ]
    },
    {
     "name": "stdout",
     "output_type": "stream",
     "text": [
      "----------------------------\n",
      "Train_z, Test_z\n",
      "PCA: 0.8047\n",
      "SVD: 0.8012\n",
      "NetG_fixD, Acc at sample 6 0.4101\n"
     ]
    },
    {
     "name": "stderr",
     "output_type": "stream",
     "text": [
      "extracting all features from dataset: 100%|██████████████████████████████████████████████| 2/2 [00:04<00:00,  2.48s/it]\n",
      "extracting all features from dataset: 100%|██████████████████████████████████████████████| 1/1 [00:01<00:00,  1.66s/it]\n"
     ]
    },
    {
     "name": "stdout",
     "output_type": "stream",
     "text": [
      "----------------------------\n",
      "Train_z, Test_z\n",
      "PCA: 0.8054\n",
      "SVD: 0.8014\n",
      "NetG_fixD, Acc at sample 7 0.2878\n"
     ]
    },
    {
     "name": "stderr",
     "output_type": "stream",
     "text": [
      "extracting all features from dataset: 100%|██████████████████████████████████████████████| 2/2 [00:04<00:00,  2.39s/it]\n",
      "extracting all features from dataset: 100%|██████████████████████████████████████████████| 1/1 [00:01<00:00,  1.66s/it]\n"
     ]
    },
    {
     "name": "stdout",
     "output_type": "stream",
     "text": [
      "----------------------------\n",
      "Train_z, Test_z\n",
      "PCA: 0.808\n",
      "SVD: 0.804\n",
      "NetG_fixD, Acc at sample 8 0.3673\n"
     ]
    },
    {
     "name": "stderr",
     "output_type": "stream",
     "text": [
      "extracting all features from dataset: 100%|██████████████████████████████████████████████| 2/2 [00:04<00:00,  2.39s/it]\n",
      "extracting all features from dataset: 100%|██████████████████████████████████████████████| 1/1 [00:01<00:00,  1.67s/it]\n"
     ]
    },
    {
     "name": "stdout",
     "output_type": "stream",
     "text": [
      "----------------------------\n",
      "Train_z, Test_z\n",
      "PCA: 0.8078\n",
      "SVD: 0.8013\n",
      "NetG_fixD, Acc at sample 9 0.3094\n"
     ]
    },
    {
     "name": "stderr",
     "output_type": "stream",
     "text": [
      "extracting all features from dataset: 100%|██████████████████████████████████████████████| 2/2 [00:05<00:00,  2.55s/it]\n",
      "extracting all features from dataset: 100%|██████████████████████████████████████████████| 1/1 [00:01<00:00,  1.65s/it]\n"
     ]
    },
    {
     "name": "stdout",
     "output_type": "stream",
     "text": [
      "----------------------------\n",
      "Train_z, Test_z\n",
      "PCA: 0.8137\n",
      "SVD: 0.8069999999999999\n",
      "NetG_fixD, Acc at sample 10 0.3626\n"
     ]
    },
    {
     "name": "stderr",
     "output_type": "stream",
     "text": [
      "extracting all features from dataset: 100%|██████████████████████████████████████████████| 2/2 [00:05<00:00,  2.56s/it]\n",
      "extracting all features from dataset: 100%|██████████████████████████████████████████████| 1/1 [00:01<00:00,  1.65s/it]\n"
     ]
    },
    {
     "name": "stdout",
     "output_type": "stream",
     "text": [
      "----------------------------\n",
      "Train_z, Test_z\n",
      "PCA: 0.8193\n",
      "SVD: 0.8123\n",
      "NetG_fixD, Acc at sample 11 0.2151\n"
     ]
    },
    {
     "name": "stderr",
     "output_type": "stream",
     "text": [
      "extracting all features from dataset: 100%|██████████████████████████████████████████████| 2/2 [00:04<00:00,  2.48s/it]\n",
      "extracting all features from dataset: 100%|██████████████████████████████████████████████| 1/1 [00:01<00:00,  1.66s/it]\n"
     ]
    },
    {
     "name": "stdout",
     "output_type": "stream",
     "text": [
      "----------------------------\n",
      "Train_z, Test_z\n",
      "PCA: 0.8067\n",
      "SVD: 0.8074\n",
      "NetG_fixD, Acc at sample 12 0.2414\n"
     ]
    },
    {
     "name": "stderr",
     "output_type": "stream",
     "text": [
      "extracting all features from dataset: 100%|██████████████████████████████████████████████| 2/2 [00:04<00:00,  2.47s/it]\n",
      "extracting all features from dataset: 100%|██████████████████████████████████████████████| 1/1 [00:01<00:00,  1.66s/it]\n"
     ]
    },
    {
     "name": "stdout",
     "output_type": "stream",
     "text": [
      "----------------------------\n",
      "Train_z, Test_z\n",
      "PCA: 0.8068\n",
      "SVD: 0.8017\n",
      "NetG_fixD, Acc at sample 13 0.2942\n"
     ]
    },
    {
     "name": "stderr",
     "output_type": "stream",
     "text": [
      "extracting all features from dataset: 100%|██████████████████████████████████████████████| 2/2 [00:04<00:00,  2.48s/it]\n",
      "extracting all features from dataset: 100%|██████████████████████████████████████████████| 1/1 [00:01<00:00,  1.66s/it]\n"
     ]
    },
    {
     "name": "stdout",
     "output_type": "stream",
     "text": [
      "----------------------------\n",
      "Train_z, Test_z\n",
      "PCA: 0.8167\n",
      "SVD: 0.8109999999999999\n",
      "NetG_fixD, Acc at sample 14 0.3945\n"
     ]
    },
    {
     "name": "stderr",
     "output_type": "stream",
     "text": [
      "extracting all features from dataset: 100%|██████████████████████████████████████████████| 2/2 [00:05<00:00,  2.53s/it]\n",
      "extracting all features from dataset: 100%|██████████████████████████████████████████████| 1/1 [00:01<00:00,  1.68s/it]\n"
     ]
    },
    {
     "name": "stdout",
     "output_type": "stream",
     "text": [
      "----------------------------\n",
      "Train_z, Test_z\n",
      "PCA: 0.8145\n",
      "SVD: 0.8099000000000001\n",
      "NetG_fixD, Acc at sample 15 0.3976\n"
     ]
    },
    {
     "name": "stderr",
     "output_type": "stream",
     "text": [
      "extracting all features from dataset: 100%|██████████████████████████████████████████████| 2/2 [00:04<00:00,  2.45s/it]\n",
      "extracting all features from dataset: 100%|██████████████████████████████████████████████| 1/1 [00:01<00:00,  1.66s/it]\n"
     ]
    },
    {
     "name": "stdout",
     "output_type": "stream",
     "text": [
      "----------------------------\n",
      "Train_z, Test_z\n",
      "PCA: 0.8104\n",
      "SVD: 0.8019000000000001\n",
      "NetG_fixD, Acc at sample 16 0.4147\n"
     ]
    },
    {
     "name": "stderr",
     "output_type": "stream",
     "text": [
      "extracting all features from dataset: 100%|██████████████████████████████████████████████| 2/2 [00:04<00:00,  2.39s/it]\n",
      "extracting all features from dataset: 100%|██████████████████████████████████████████████| 1/1 [00:01<00:00,  1.65s/it]\n"
     ]
    },
    {
     "name": "stdout",
     "output_type": "stream",
     "text": [
      "----------------------------\n",
      "Train_z, Test_z\n",
      "PCA: 0.8094\n",
      "SVD: 0.808\n",
      "NetG_fixD, Acc at sample 17 0.2306\n"
     ]
    },
    {
     "name": "stderr",
     "output_type": "stream",
     "text": [
      "extracting all features from dataset: 100%|██████████████████████████████████████████████| 2/2 [00:05<00:00,  2.58s/it]\n",
      "extracting all features from dataset: 100%|██████████████████████████████████████████████| 1/1 [00:01<00:00,  1.64s/it]\n"
     ]
    },
    {
     "name": "stdout",
     "output_type": "stream",
     "text": [
      "----------------------------\n",
      "Train_z, Test_z\n",
      "PCA: 0.8089999999999999\n",
      "SVD: 0.8081\n",
      "NetG_fixD, Acc at sample 18 0.3259\n"
     ]
    },
    {
     "name": "stderr",
     "output_type": "stream",
     "text": [
      "extracting all features from dataset: 100%|██████████████████████████████████████████████| 2/2 [00:05<00:00,  2.52s/it]\n",
      "extracting all features from dataset: 100%|██████████████████████████████████████████████| 1/1 [00:01<00:00,  1.63s/it]\n"
     ]
    },
    {
     "name": "stdout",
     "output_type": "stream",
     "text": [
      "----------------------------\n",
      "Train_z, Test_z\n",
      "PCA: 0.8185\n",
      "SVD: 0.8145\n",
      "NetG_fixD, Acc at sample 19 0.3059\n"
     ]
    },
    {
     "name": "stderr",
     "output_type": "stream",
     "text": [
      "extracting all features from dataset: 100%|██████████████████████████████████████████████| 2/2 [00:04<00:00,  2.41s/it]\n",
      "extracting all features from dataset: 100%|██████████████████████████████████████████████| 1/1 [00:01<00:00,  1.65s/it]\n"
     ]
    },
    {
     "name": "stdout",
     "output_type": "stream",
     "text": [
      "----------------------------\n",
      "Train_z, Test_z\n",
      "PCA: 0.8061\n",
      "SVD: 0.8022\n",
      "NetG_fixD, Acc at sample 20 0.365\n",
      "0.4147 0.2151 0.333935 0.003402524275\n"
     ]
    }
   ],
   "source": [
    "# sample 50 times of NetG at final radius, NetD is fixed\n",
    "from sklearn.neighbors import KNeighborsClassifier \n",
    "Acc_results_G_sample7 = []\n",
    "\n",
    "for _ in range(sample_num):\n",
    "    #acc at first\n",
    "    net_noise = get_noise(DATASET, device, LABEL)\n",
    "    fed_state_dict = get_netG(netD,netV,net_noise,r_list[7])\n",
    "    netG.load_state_dict(fed_state_dict)\n",
    "    \n",
    "    train_X, train_Z, train_X_bar, train_Z_bar, train_labels = extract_features2(trainloader, netG, netD)\n",
    "\n",
    "    test_X, test_Z, test_X_bar, test_Z_bar, test_labels = extract_features2(testloader, netG, netD)\n",
    "\n",
    "    print(\"----------------------------\")\n",
    "    print(\"Train_z, Test_z\")\n",
    "    nearsub(n_comp, train_Z, train_labels, test_Z, test_labels)\n",
    "\n",
    "    knn= KNeighborsClassifier(n_neighbors=10) \n",
    "\n",
    "    knn.fit(train_Z,train_labels) \n",
    "    knn.score(test_Z_bar,test_labels) \n",
    "\n",
    "    y_predict = knn.predict(test_Z_bar) \n",
    "\n",
    "    count =0\n",
    "    for k in range(10000):\n",
    "        if y_predict[k] == test_labels[k]:\n",
    "            count +=1\n",
    "    print('NetG_fixD, Acc at sample',_+1,count/10000)\n",
    "    Acc_results_G_sample7.append(count/10000)\n",
    "    \n",
    "print(max(Acc_results_G_sample7),min(Acc_results_G_sample7),np.mean(Acc_results_G_sample7),np.var(Acc_results_G_sample7))"
   ]
  },
  {
   "cell_type": "code",
   "execution_count": 19,
   "id": "10863846",
   "metadata": {},
   "outputs": [
    {
     "name": "stderr",
     "output_type": "stream",
     "text": [
      "extracting all features from dataset: 100%|██████████████████████████████████████████████| 2/2 [00:04<00:00,  2.50s/it]\n",
      "extracting all features from dataset: 100%|██████████████████████████████████████████████| 1/1 [00:01<00:00,  1.68s/it]\n"
     ]
    },
    {
     "name": "stdout",
     "output_type": "stream",
     "text": [
      "----------------------------\n",
      "Train_z, Test_z\n",
      "PCA: 0.8103\n",
      "SVD: 0.8116\n",
      "NetG_fixD, Acc at sample 1 0.1222\n"
     ]
    },
    {
     "name": "stderr",
     "output_type": "stream",
     "text": [
      "extracting all features from dataset: 100%|██████████████████████████████████████████████| 2/2 [00:04<00:00,  2.38s/it]\n",
      "extracting all features from dataset: 100%|██████████████████████████████████████████████| 1/1 [00:01<00:00,  1.64s/it]\n"
     ]
    },
    {
     "name": "stdout",
     "output_type": "stream",
     "text": [
      "----------------------------\n",
      "Train_z, Test_z\n",
      "PCA: 0.8103\n",
      "SVD: 0.8008\n",
      "NetG_fixD, Acc at sample 2 0.1166\n"
     ]
    },
    {
     "name": "stderr",
     "output_type": "stream",
     "text": [
      "extracting all features from dataset: 100%|██████████████████████████████████████████████| 2/2 [00:04<00:00,  2.48s/it]\n",
      "extracting all features from dataset: 100%|██████████████████████████████████████████████| 1/1 [00:01<00:00,  1.67s/it]\n"
     ]
    },
    {
     "name": "stdout",
     "output_type": "stream",
     "text": [
      "----------------------------\n",
      "Train_z, Test_z\n",
      "PCA: 0.8081\n",
      "SVD: 0.8106\n",
      "NetG_fixD, Acc at sample 3 0.1327\n"
     ]
    },
    {
     "name": "stderr",
     "output_type": "stream",
     "text": [
      "extracting all features from dataset: 100%|██████████████████████████████████████████████| 2/2 [00:05<00:00,  2.54s/it]\n",
      "extracting all features from dataset: 100%|██████████████████████████████████████████████| 1/1 [00:01<00:00,  1.65s/it]\n"
     ]
    },
    {
     "name": "stdout",
     "output_type": "stream",
     "text": [
      "----------------------------\n",
      "Train_z, Test_z\n",
      "PCA: 0.8016\n",
      "SVD: 0.8023\n",
      "NetG_fixD, Acc at sample 4 0.1363\n"
     ]
    },
    {
     "name": "stderr",
     "output_type": "stream",
     "text": [
      "extracting all features from dataset: 100%|██████████████████████████████████████████████| 2/2 [00:04<00:00,  2.41s/it]\n",
      "extracting all features from dataset: 100%|██████████████████████████████████████████████| 1/1 [00:01<00:00,  1.63s/it]\n"
     ]
    },
    {
     "name": "stdout",
     "output_type": "stream",
     "text": [
      "----------------------------\n",
      "Train_z, Test_z\n",
      "PCA: 0.8107\n",
      "SVD: 0.8064\n",
      "NetG_fixD, Acc at sample 5 0.1132\n"
     ]
    },
    {
     "name": "stderr",
     "output_type": "stream",
     "text": [
      "extracting all features from dataset: 100%|██████████████████████████████████████████████| 2/2 [00:04<00:00,  2.41s/it]\n",
      "extracting all features from dataset: 100%|██████████████████████████████████████████████| 1/1 [00:01<00:00,  1.68s/it]\n"
     ]
    },
    {
     "name": "stdout",
     "output_type": "stream",
     "text": [
      "----------------------------\n",
      "Train_z, Test_z\n",
      "PCA: 0.8066\n",
      "SVD: 0.8065\n",
      "NetG_fixD, Acc at sample 6 0.1235\n"
     ]
    },
    {
     "name": "stderr",
     "output_type": "stream",
     "text": [
      "extracting all features from dataset: 100%|██████████████████████████████████████████████| 2/2 [00:04<00:00,  2.43s/it]\n",
      "extracting all features from dataset: 100%|██████████████████████████████████████████████| 1/1 [00:01<00:00,  1.65s/it]\n"
     ]
    },
    {
     "name": "stdout",
     "output_type": "stream",
     "text": [
      "----------------------------\n",
      "Train_z, Test_z\n",
      "PCA: 0.8075\n",
      "SVD: 0.8029\n",
      "NetG_fixD, Acc at sample 7 0.1349\n"
     ]
    },
    {
     "name": "stderr",
     "output_type": "stream",
     "text": [
      "extracting all features from dataset: 100%|██████████████████████████████████████████████| 2/2 [00:05<00:00,  2.52s/it]\n",
      "extracting all features from dataset: 100%|██████████████████████████████████████████████| 1/1 [00:01<00:00,  1.69s/it]\n"
     ]
    },
    {
     "name": "stdout",
     "output_type": "stream",
     "text": [
      "----------------------------\n",
      "Train_z, Test_z\n",
      "PCA: 0.8076\n",
      "SVD: 0.8026\n",
      "NetG_fixD, Acc at sample 8 0.1272\n"
     ]
    },
    {
     "name": "stderr",
     "output_type": "stream",
     "text": [
      "extracting all features from dataset: 100%|██████████████████████████████████████████████| 2/2 [00:05<00:00,  2.51s/it]\n",
      "extracting all features from dataset: 100%|██████████████████████████████████████████████| 1/1 [00:01<00:00,  1.67s/it]\n"
     ]
    },
    {
     "name": "stdout",
     "output_type": "stream",
     "text": [
      "----------------------------\n",
      "Train_z, Test_z\n",
      "PCA: 0.8052\n",
      "SVD: 0.8074\n",
      "NetG_fixD, Acc at sample 9 0.1264\n"
     ]
    },
    {
     "name": "stderr",
     "output_type": "stream",
     "text": [
      "extracting all features from dataset: 100%|██████████████████████████████████████████████| 2/2 [00:04<00:00,  2.49s/it]\n",
      "extracting all features from dataset: 100%|██████████████████████████████████████████████| 1/1 [00:01<00:00,  1.65s/it]\n"
     ]
    },
    {
     "name": "stdout",
     "output_type": "stream",
     "text": [
      "----------------------------\n",
      "Train_z, Test_z\n",
      "PCA: 0.8019000000000001\n",
      "SVD: 0.8012\n",
      "NetG_fixD, Acc at sample 10 0.1433\n"
     ]
    },
    {
     "name": "stderr",
     "output_type": "stream",
     "text": [
      "extracting all features from dataset: 100%|██████████████████████████████████████████████| 2/2 [00:04<00:00,  2.37s/it]\n",
      "extracting all features from dataset: 100%|██████████████████████████████████████████████| 1/1 [00:01<00:00,  1.65s/it]\n"
     ]
    },
    {
     "name": "stdout",
     "output_type": "stream",
     "text": [
      "----------------------------\n",
      "Train_z, Test_z\n",
      "PCA: 0.8098\n",
      "SVD: 0.8089999999999999\n",
      "NetG_fixD, Acc at sample 11 0.146\n"
     ]
    },
    {
     "name": "stderr",
     "output_type": "stream",
     "text": [
      "extracting all features from dataset: 100%|██████████████████████████████████████████████| 2/2 [00:04<00:00,  2.44s/it]\n",
      "extracting all features from dataset: 100%|██████████████████████████████████████████████| 1/1 [00:01<00:00,  1.66s/it]\n"
     ]
    },
    {
     "name": "stdout",
     "output_type": "stream",
     "text": [
      "----------------------------\n",
      "Train_z, Test_z\n",
      "PCA: 0.8087\n",
      "SVD: 0.8064\n",
      "NetG_fixD, Acc at sample 12 0.1352\n"
     ]
    },
    {
     "name": "stderr",
     "output_type": "stream",
     "text": [
      "extracting all features from dataset: 100%|██████████████████████████████████████████████| 2/2 [00:04<00:00,  2.49s/it]\n",
      "extracting all features from dataset: 100%|██████████████████████████████████████████████| 1/1 [00:01<00:00,  1.65s/it]\n"
     ]
    },
    {
     "name": "stdout",
     "output_type": "stream",
     "text": [
      "----------------------------\n",
      "Train_z, Test_z\n",
      "PCA: 0.804\n",
      "SVD: 0.8041\n",
      "NetG_fixD, Acc at sample 13 0.1643\n"
     ]
    },
    {
     "name": "stderr",
     "output_type": "stream",
     "text": [
      "extracting all features from dataset: 100%|██████████████████████████████████████████████| 2/2 [00:04<00:00,  2.46s/it]\n",
      "extracting all features from dataset: 100%|██████████████████████████████████████████████| 1/1 [00:01<00:00,  1.60s/it]\n"
     ]
    },
    {
     "name": "stdout",
     "output_type": "stream",
     "text": [
      "----------------------------\n",
      "Train_z, Test_z\n",
      "PCA: 0.8103\n",
      "SVD: 0.806\n",
      "NetG_fixD, Acc at sample 14 0.1134\n"
     ]
    },
    {
     "name": "stderr",
     "output_type": "stream",
     "text": [
      "extracting all features from dataset: 100%|██████████████████████████████████████████████| 2/2 [00:04<00:00,  2.47s/it]\n",
      "extracting all features from dataset: 100%|██████████████████████████████████████████████| 1/1 [00:01<00:00,  1.66s/it]\n"
     ]
    },
    {
     "name": "stdout",
     "output_type": "stream",
     "text": [
      "----------------------------\n",
      "Train_z, Test_z\n",
      "PCA: 0.8140000000000001\n",
      "SVD: 0.8126\n",
      "NetG_fixD, Acc at sample 15 0.1394\n"
     ]
    },
    {
     "name": "stderr",
     "output_type": "stream",
     "text": [
      "extracting all features from dataset: 100%|██████████████████████████████████████████████| 2/2 [00:04<00:00,  2.47s/it]\n",
      "extracting all features from dataset: 100%|██████████████████████████████████████████████| 1/1 [00:01<00:00,  1.62s/it]\n"
     ]
    },
    {
     "name": "stdout",
     "output_type": "stream",
     "text": [
      "----------------------------\n",
      "Train_z, Test_z\n",
      "PCA: 0.8054\n",
      "SVD: 0.806\n",
      "NetG_fixD, Acc at sample 16 0.1166\n"
     ]
    },
    {
     "name": "stderr",
     "output_type": "stream",
     "text": [
      "extracting all features from dataset: 100%|██████████████████████████████████████████████| 2/2 [00:04<00:00,  2.43s/it]\n",
      "extracting all features from dataset: 100%|██████████████████████████████████████████████| 1/1 [00:01<00:00,  1.65s/it]\n"
     ]
    },
    {
     "name": "stdout",
     "output_type": "stream",
     "text": [
      "----------------------------\n",
      "Train_z, Test_z\n",
      "PCA: 0.8052\n",
      "SVD: 0.7981\n",
      "NetG_fixD, Acc at sample 17 0.1227\n"
     ]
    },
    {
     "name": "stderr",
     "output_type": "stream",
     "text": [
      "extracting all features from dataset: 100%|██████████████████████████████████████████████| 2/2 [00:04<00:00,  2.41s/it]\n",
      "extracting all features from dataset: 100%|██████████████████████████████████████████████| 1/1 [00:01<00:00,  1.64s/it]\n"
     ]
    },
    {
     "name": "stdout",
     "output_type": "stream",
     "text": [
      "----------------------------\n",
      "Train_z, Test_z\n",
      "PCA: 0.8126\n",
      "SVD: 0.8056\n",
      "NetG_fixD, Acc at sample 18 0.1257\n"
     ]
    },
    {
     "name": "stderr",
     "output_type": "stream",
     "text": [
      "extracting all features from dataset: 100%|██████████████████████████████████████████████| 2/2 [00:04<00:00,  2.50s/it]\n",
      "extracting all features from dataset: 100%|██████████████████████████████████████████████| 1/1 [00:01<00:00,  1.65s/it]\n"
     ]
    },
    {
     "name": "stdout",
     "output_type": "stream",
     "text": [
      "----------------------------\n",
      "Train_z, Test_z\n",
      "PCA: 0.8025\n",
      "SVD: 0.8025\n",
      "NetG_fixD, Acc at sample 19 0.1491\n"
     ]
    },
    {
     "name": "stderr",
     "output_type": "stream",
     "text": [
      "extracting all features from dataset: 100%|██████████████████████████████████████████████| 2/2 [00:04<00:00,  2.37s/it]\n",
      "extracting all features from dataset: 100%|██████████████████████████████████████████████| 1/1 [00:01<00:00,  1.67s/it]\n"
     ]
    },
    {
     "name": "stdout",
     "output_type": "stream",
     "text": [
      "----------------------------\n",
      "Train_z, Test_z\n",
      "PCA: 0.8106\n",
      "SVD: 0.8059000000000001\n",
      "NetG_fixD, Acc at sample 20 0.1234\n",
      "0.1643 0.1132 0.130605 0.00016547047500000003\n"
     ]
    }
   ],
   "source": [
    "# sample 50 times of NetG at final radius, NetD is fixed\n",
    "from sklearn.neighbors import KNeighborsClassifier \n",
    "Acc_results_G_sample8 = []\n",
    "\n",
    "for _ in range(sample_num):\n",
    "    #acc at first\n",
    "    net_noise = get_noise(DATASET, device, LABEL)\n",
    "    fed_state_dict = get_netG(netD,netV,net_noise,r_list[8])\n",
    "    netG.load_state_dict(fed_state_dict)\n",
    "    \n",
    "    train_X, train_Z, train_X_bar, train_Z_bar, train_labels = extract_features2(trainloader, netG, netD)\n",
    "\n",
    "    test_X, test_Z, test_X_bar, test_Z_bar, test_labels = extract_features2(testloader, netG, netD)\n",
    "\n",
    "    print(\"----------------------------\")\n",
    "    print(\"Train_z, Test_z\")\n",
    "    nearsub(n_comp, train_Z, train_labels, test_Z, test_labels)\n",
    "\n",
    "    knn= KNeighborsClassifier(n_neighbors=10) \n",
    "\n",
    "    knn.fit(train_Z,train_labels) \n",
    "    knn.score(test_Z_bar,test_labels) \n",
    "\n",
    "    y_predict = knn.predict(test_Z_bar) \n",
    "\n",
    "    count =0\n",
    "    for k in range(10000):\n",
    "        if y_predict[k] == test_labels[k]:\n",
    "            count +=1\n",
    "    print('NetG_fixD, Acc at sample',_+1,count/10000)\n",
    "    Acc_results_G_sample8.append(count/10000)\n",
    "    \n",
    "print(max(Acc_results_G_sample8),min(Acc_results_G_sample8),np.mean(Acc_results_G_sample8),np.var(Acc_results_G_sample8))"
   ]
  },
  {
   "cell_type": "code",
   "execution_count": 20,
   "id": "162a6f56",
   "metadata": {},
   "outputs": [
    {
     "name": "stderr",
     "output_type": "stream",
     "text": [
      "extracting all features from dataset: 100%|██████████████████████████████████████████████| 2/2 [00:04<00:00,  2.43s/it]\n",
      "extracting all features from dataset: 100%|██████████████████████████████████████████████| 1/1 [00:01<00:00,  1.65s/it]\n"
     ]
    },
    {
     "name": "stdout",
     "output_type": "stream",
     "text": [
      "----------------------------\n",
      "Train_z, Test_z\n",
      "PCA: 0.815\n",
      "SVD: 0.8119000000000001\n",
      "NetG_fixD, Acc at sample 1 0.1058\n"
     ]
    },
    {
     "name": "stderr",
     "output_type": "stream",
     "text": [
      "extracting all features from dataset: 100%|██████████████████████████████████████████████| 2/2 [00:04<00:00,  2.39s/it]\n",
      "extracting all features from dataset: 100%|██████████████████████████████████████████████| 1/1 [00:01<00:00,  1.67s/it]\n"
     ]
    },
    {
     "name": "stdout",
     "output_type": "stream",
     "text": [
      "----------------------------\n",
      "Train_z, Test_z\n",
      "PCA: 0.808\n",
      "SVD: 0.804\n",
      "NetG_fixD, Acc at sample 2 0.1171\n"
     ]
    },
    {
     "name": "stderr",
     "output_type": "stream",
     "text": [
      "extracting all features from dataset: 100%|██████████████████████████████████████████████| 2/2 [00:04<00:00,  2.50s/it]\n",
      "extracting all features from dataset: 100%|██████████████████████████████████████████████| 1/1 [00:01<00:00,  1.67s/it]\n"
     ]
    },
    {
     "name": "stdout",
     "output_type": "stream",
     "text": [
      "----------------------------\n",
      "Train_z, Test_z\n",
      "PCA: 0.8089999999999999\n",
      "SVD: 0.8052\n",
      "NetG_fixD, Acc at sample 3 0.1086\n"
     ]
    },
    {
     "name": "stderr",
     "output_type": "stream",
     "text": [
      "extracting all features from dataset: 100%|██████████████████████████████████████████████| 2/2 [00:04<00:00,  2.46s/it]\n",
      "extracting all features from dataset: 100%|██████████████████████████████████████████████| 1/1 [00:01<00:00,  1.66s/it]\n"
     ]
    },
    {
     "name": "stdout",
     "output_type": "stream",
     "text": [
      "----------------------------\n",
      "Train_z, Test_z\n",
      "PCA: 0.8117\n",
      "SVD: 0.8033\n",
      "NetG_fixD, Acc at sample 4 0.0942\n"
     ]
    },
    {
     "name": "stderr",
     "output_type": "stream",
     "text": [
      "extracting all features from dataset: 100%|██████████████████████████████████████████████| 2/2 [00:04<00:00,  2.47s/it]\n",
      "extracting all features from dataset: 100%|██████████████████████████████████████████████| 1/1 [00:01<00:00,  1.66s/it]\n"
     ]
    },
    {
     "name": "stdout",
     "output_type": "stream",
     "text": [
      "----------------------------\n",
      "Train_z, Test_z\n",
      "PCA: 0.8071\n",
      "SVD: 0.8027\n",
      "NetG_fixD, Acc at sample 5 0.1079\n"
     ]
    },
    {
     "name": "stderr",
     "output_type": "stream",
     "text": [
      "extracting all features from dataset: 100%|██████████████████████████████████████████████| 2/2 [00:04<00:00,  2.42s/it]\n",
      "extracting all features from dataset: 100%|██████████████████████████████████████████████| 1/1 [00:01<00:00,  1.65s/it]\n"
     ]
    },
    {
     "name": "stdout",
     "output_type": "stream",
     "text": [
      "----------------------------\n",
      "Train_z, Test_z\n",
      "PCA: 0.8160000000000001\n",
      "SVD: 0.8098\n",
      "NetG_fixD, Acc at sample 6 0.1165\n"
     ]
    },
    {
     "name": "stderr",
     "output_type": "stream",
     "text": [
      "extracting all features from dataset: 100%|██████████████████████████████████████████████| 2/2 [00:05<00:00,  2.50s/it]\n",
      "extracting all features from dataset: 100%|██████████████████████████████████████████████| 1/1 [00:01<00:00,  1.66s/it]\n"
     ]
    },
    {
     "name": "stdout",
     "output_type": "stream",
     "text": [
      "----------------------------\n",
      "Train_z, Test_z\n",
      "PCA: 0.8103\n",
      "SVD: 0.8087\n",
      "NetG_fixD, Acc at sample 7 0.1113\n"
     ]
    },
    {
     "name": "stderr",
     "output_type": "stream",
     "text": [
      "extracting all features from dataset: 100%|██████████████████████████████████████████████| 2/2 [00:04<00:00,  2.38s/it]\n",
      "extracting all features from dataset: 100%|██████████████████████████████████████████████| 1/1 [00:01<00:00,  1.65s/it]\n"
     ]
    },
    {
     "name": "stdout",
     "output_type": "stream",
     "text": [
      "----------------------------\n",
      "Train_z, Test_z\n",
      "PCA: 0.8085\n",
      "SVD: 0.8118\n",
      "NetG_fixD, Acc at sample 8 0.1204\n"
     ]
    },
    {
     "name": "stderr",
     "output_type": "stream",
     "text": [
      "extracting all features from dataset: 100%|██████████████████████████████████████████████| 2/2 [00:04<00:00,  2.41s/it]\n",
      "extracting all features from dataset: 100%|██████████████████████████████████████████████| 1/1 [00:01<00:00,  1.66s/it]\n"
     ]
    },
    {
     "name": "stdout",
     "output_type": "stream",
     "text": [
      "----------------------------\n",
      "Train_z, Test_z\n",
      "PCA: 0.8016\n",
      "SVD: 0.7985\n",
      "NetG_fixD, Acc at sample 9 0.1098\n"
     ]
    },
    {
     "name": "stderr",
     "output_type": "stream",
     "text": [
      "extracting all features from dataset: 100%|██████████████████████████████████████████████| 2/2 [00:04<00:00,  2.48s/it]\n",
      "extracting all features from dataset: 100%|██████████████████████████████████████████████| 1/1 [00:01<00:00,  1.66s/it]\n"
     ]
    },
    {
     "name": "stdout",
     "output_type": "stream",
     "text": [
      "----------------------------\n",
      "Train_z, Test_z\n",
      "PCA: 0.8129\n",
      "SVD: 0.8073\n",
      "NetG_fixD, Acc at sample 10 0.1235\n"
     ]
    },
    {
     "name": "stderr",
     "output_type": "stream",
     "text": [
      "extracting all features from dataset: 100%|██████████████████████████████████████████████| 2/2 [00:04<00:00,  2.50s/it]\n",
      "extracting all features from dataset: 100%|██████████████████████████████████████████████| 1/1 [00:01<00:00,  1.67s/it]\n"
     ]
    },
    {
     "name": "stdout",
     "output_type": "stream",
     "text": [
      "----------------------------\n",
      "Train_z, Test_z\n",
      "PCA: 0.8116\n",
      "SVD: 0.8089\n",
      "NetG_fixD, Acc at sample 11 0.1235\n"
     ]
    },
    {
     "name": "stderr",
     "output_type": "stream",
     "text": [
      "extracting all features from dataset: 100%|██████████████████████████████████████████████| 2/2 [00:04<00:00,  2.48s/it]\n",
      "extracting all features from dataset: 100%|██████████████████████████████████████████████| 1/1 [00:01<00:00,  1.61s/it]\n"
     ]
    },
    {
     "name": "stdout",
     "output_type": "stream",
     "text": [
      "----------------------------\n",
      "Train_z, Test_z\n",
      "PCA: 0.8053\n",
      "SVD: 0.8003\n",
      "NetG_fixD, Acc at sample 12 0.1103\n"
     ]
    },
    {
     "name": "stderr",
     "output_type": "stream",
     "text": [
      "extracting all features from dataset: 100%|██████████████████████████████████████████████| 2/2 [00:04<00:00,  2.48s/it]\n",
      "extracting all features from dataset: 100%|██████████████████████████████████████████████| 1/1 [00:01<00:00,  1.66s/it]\n"
     ]
    },
    {
     "name": "stdout",
     "output_type": "stream",
     "text": [
      "----------------------------\n",
      "Train_z, Test_z\n",
      "PCA: 0.8055\n",
      "SVD: 0.8067\n",
      "NetG_fixD, Acc at sample 13 0.1102\n"
     ]
    },
    {
     "name": "stderr",
     "output_type": "stream",
     "text": [
      "extracting all features from dataset: 100%|██████████████████████████████████████████████| 2/2 [00:05<00:00,  2.52s/it]\n",
      "extracting all features from dataset: 100%|██████████████████████████████████████████████| 1/1 [00:01<00:00,  1.63s/it]\n"
     ]
    },
    {
     "name": "stdout",
     "output_type": "stream",
     "text": [
      "----------------------------\n",
      "Train_z, Test_z\n",
      "PCA: 0.8029999999999999\n",
      "SVD: 0.7947\n",
      "NetG_fixD, Acc at sample 14 0.1026\n"
     ]
    },
    {
     "name": "stderr",
     "output_type": "stream",
     "text": [
      "extracting all features from dataset: 100%|██████████████████████████████████████████████| 2/2 [00:04<00:00,  2.47s/it]\n",
      "extracting all features from dataset: 100%|██████████████████████████████████████████████| 1/1 [00:01<00:00,  1.64s/it]\n"
     ]
    },
    {
     "name": "stdout",
     "output_type": "stream",
     "text": [
      "----------------------------\n",
      "Train_z, Test_z\n",
      "PCA: 0.802\n",
      "SVD: 0.8047\n",
      "NetG_fixD, Acc at sample 15 0.0879\n"
     ]
    },
    {
     "name": "stderr",
     "output_type": "stream",
     "text": [
      "extracting all features from dataset: 100%|██████████████████████████████████████████████| 2/2 [00:04<00:00,  2.49s/it]\n",
      "extracting all features from dataset: 100%|██████████████████████████████████████████████| 1/1 [00:01<00:00,  1.65s/it]\n"
     ]
    },
    {
     "name": "stdout",
     "output_type": "stream",
     "text": [
      "----------------------------\n",
      "Train_z, Test_z\n",
      "PCA: 0.8078\n",
      "SVD: 0.8109999999999999\n",
      "NetG_fixD, Acc at sample 16 0.1007\n"
     ]
    },
    {
     "name": "stderr",
     "output_type": "stream",
     "text": [
      "extracting all features from dataset: 100%|██████████████████████████████████████████████| 2/2 [00:04<00:00,  2.50s/it]\n",
      "extracting all features from dataset: 100%|██████████████████████████████████████████████| 1/1 [00:01<00:00,  1.64s/it]\n"
     ]
    },
    {
     "name": "stdout",
     "output_type": "stream",
     "text": [
      "----------------------------\n",
      "Train_z, Test_z\n",
      "PCA: 0.8063\n",
      "SVD: 0.8028\n",
      "NetG_fixD, Acc at sample 17 0.1236\n"
     ]
    },
    {
     "name": "stderr",
     "output_type": "stream",
     "text": [
      "extracting all features from dataset: 100%|██████████████████████████████████████████████| 2/2 [00:04<00:00,  2.46s/it]\n",
      "extracting all features from dataset: 100%|██████████████████████████████████████████████| 1/1 [00:01<00:00,  1.65s/it]\n"
     ]
    },
    {
     "name": "stdout",
     "output_type": "stream",
     "text": [
      "----------------------------\n",
      "Train_z, Test_z\n",
      "PCA: 0.8088\n",
      "SVD: 0.8079000000000001\n",
      "NetG_fixD, Acc at sample 18 0.1001\n"
     ]
    },
    {
     "name": "stderr",
     "output_type": "stream",
     "text": [
      "extracting all features from dataset: 100%|██████████████████████████████████████████████| 2/2 [00:05<00:00,  2.55s/it]\n",
      "extracting all features from dataset: 100%|██████████████████████████████████████████████| 1/1 [00:01<00:00,  1.66s/it]\n"
     ]
    },
    {
     "name": "stdout",
     "output_type": "stream",
     "text": [
      "----------------------------\n",
      "Train_z, Test_z\n",
      "PCA: 0.8076\n",
      "SVD: 0.8063\n",
      "NetG_fixD, Acc at sample 19 0.0978\n"
     ]
    },
    {
     "name": "stderr",
     "output_type": "stream",
     "text": [
      "extracting all features from dataset: 100%|██████████████████████████████████████████████| 2/2 [00:05<00:00,  2.53s/it]\n",
      "extracting all features from dataset: 100%|██████████████████████████████████████████████| 1/1 [00:01<00:00,  1.64s/it]\n"
     ]
    },
    {
     "name": "stdout",
     "output_type": "stream",
     "text": [
      "----------------------------\n",
      "Train_z, Test_z\n",
      "PCA: 0.8098\n",
      "SVD: 0.8034\n",
      "NetG_fixD, Acc at sample 20 0.1057\n",
      "0.1236 0.0879 0.10887500000000001 9.477387499999997e-05\n"
     ]
    }
   ],
   "source": [
    "# sample 50 times of NetG at final radius, NetD is fixed\n",
    "from sklearn.neighbors import KNeighborsClassifier \n",
    "Acc_results_G_sample9 = []\n",
    "\n",
    "for _ in range(sample_num):\n",
    "    #acc at first\n",
    "    net_noise = get_noise(DATASET, device, LABEL)\n",
    "    fed_state_dict = get_netG(netD,netV,net_noise,r_list[9])\n",
    "    netG.load_state_dict(fed_state_dict)\n",
    "    \n",
    "    train_X, train_Z, train_X_bar, train_Z_bar, train_labels = extract_features2(trainloader, netG, netD)\n",
    "\n",
    "    test_X, test_Z, test_X_bar, test_Z_bar, test_labels = extract_features2(testloader, netG, netD)\n",
    "\n",
    "    print(\"----------------------------\")\n",
    "    print(\"Train_z, Test_z\")\n",
    "    nearsub(n_comp, train_Z, train_labels, test_Z, test_labels)\n",
    "\n",
    "    knn= KNeighborsClassifier(n_neighbors=10) \n",
    "\n",
    "    knn.fit(train_Z,train_labels) \n",
    "    knn.score(test_Z_bar,test_labels) \n",
    "\n",
    "    y_predict = knn.predict(test_Z_bar) \n",
    "\n",
    "    count =0\n",
    "    for k in range(10000):\n",
    "        if y_predict[k] == test_labels[k]:\n",
    "            count +=1\n",
    "    print('NetG_fixD, Acc at sample',_+1,count/10000)\n",
    "    Acc_results_G_sample9.append(count/10000)\n",
    "    \n",
    "print(max(Acc_results_G_sample9),min(Acc_results_G_sample9),np.mean(Acc_results_G_sample9),np.var(Acc_results_G_sample9))"
   ]
  },
  {
   "cell_type": "code",
   "execution_count": 21,
   "id": "4a83c92f",
   "metadata": {},
   "outputs": [
    {
     "name": "stderr",
     "output_type": "stream",
     "text": [
      "extracting all features from dataset: 100%|██████████████████████████████████████████████| 2/2 [00:04<00:00,  2.43s/it]\n",
      "extracting all features from dataset: 100%|██████████████████████████████████████████████| 1/1 [00:01<00:00,  1.65s/it]\n"
     ]
    },
    {
     "name": "stdout",
     "output_type": "stream",
     "text": [
      "----------------------------\n",
      "Train_z, Test_z\n",
      "PCA: 0.8089999999999999\n",
      "SVD: 0.8049\n",
      "NetG_fixD, Acc at sample 1 0.1114\n"
     ]
    },
    {
     "name": "stderr",
     "output_type": "stream",
     "text": [
      "extracting all features from dataset: 100%|██████████████████████████████████████████████| 2/2 [00:04<00:00,  2.48s/it]\n",
      "extracting all features from dataset: 100%|██████████████████████████████████████████████| 1/1 [00:01<00:00,  1.65s/it]\n"
     ]
    },
    {
     "name": "stdout",
     "output_type": "stream",
     "text": [
      "----------------------------\n",
      "Train_z, Test_z\n",
      "PCA: 0.8047\n",
      "SVD: 0.8038\n",
      "NetG_fixD, Acc at sample 2 0.1005\n"
     ]
    },
    {
     "name": "stderr",
     "output_type": "stream",
     "text": [
      "extracting all features from dataset: 100%|██████████████████████████████████████████████| 2/2 [00:04<00:00,  2.50s/it]\n",
      "extracting all features from dataset: 100%|██████████████████████████████████████████████| 1/1 [00:01<00:00,  1.67s/it]\n"
     ]
    },
    {
     "name": "stdout",
     "output_type": "stream",
     "text": [
      "----------------------------\n",
      "Train_z, Test_z\n",
      "PCA: 0.8147\n",
      "SVD: 0.8057\n",
      "NetG_fixD, Acc at sample 3 0.1076\n"
     ]
    },
    {
     "name": "stderr",
     "output_type": "stream",
     "text": [
      "extracting all features from dataset: 100%|██████████████████████████████████████████████| 2/2 [00:04<00:00,  2.45s/it]\n",
      "extracting all features from dataset: 100%|██████████████████████████████████████████████| 1/1 [00:01<00:00,  1.66s/it]\n"
     ]
    },
    {
     "name": "stdout",
     "output_type": "stream",
     "text": [
      "----------------------------\n",
      "Train_z, Test_z\n",
      "PCA: 0.8066\n",
      "SVD: 0.8009999999999999\n",
      "NetG_fixD, Acc at sample 4 0.0957\n"
     ]
    },
    {
     "name": "stderr",
     "output_type": "stream",
     "text": [
      "extracting all features from dataset: 100%|██████████████████████████████████████████████| 2/2 [00:04<00:00,  2.40s/it]\n",
      "extracting all features from dataset: 100%|██████████████████████████████████████████████| 1/1 [00:01<00:00,  1.67s/it]\n"
     ]
    },
    {
     "name": "stdout",
     "output_type": "stream",
     "text": [
      "----------------------------\n",
      "Train_z, Test_z\n",
      "PCA: 0.8136\n",
      "SVD: 0.8071\n",
      "NetG_fixD, Acc at sample 5 0.0952\n"
     ]
    },
    {
     "name": "stderr",
     "output_type": "stream",
     "text": [
      "extracting all features from dataset: 100%|██████████████████████████████████████████████| 2/2 [00:04<00:00,  2.48s/it]\n",
      "extracting all features from dataset: 100%|██████████████████████████████████████████████| 1/1 [00:01<00:00,  1.64s/it]\n"
     ]
    },
    {
     "name": "stdout",
     "output_type": "stream",
     "text": [
      "----------------------------\n",
      "Train_z, Test_z\n",
      "PCA: 0.8068\n",
      "SVD: 0.8028\n",
      "NetG_fixD, Acc at sample 6 0.1007\n"
     ]
    },
    {
     "name": "stderr",
     "output_type": "stream",
     "text": [
      "extracting all features from dataset: 100%|██████████████████████████████████████████████| 2/2 [00:04<00:00,  2.40s/it]\n",
      "extracting all features from dataset: 100%|██████████████████████████████████████████████| 1/1 [00:01<00:00,  1.66s/it]\n"
     ]
    },
    {
     "name": "stdout",
     "output_type": "stream",
     "text": [
      "----------------------------\n",
      "Train_z, Test_z\n",
      "PCA: 0.8154\n",
      "SVD: 0.813\n",
      "NetG_fixD, Acc at sample 7 0.1146\n"
     ]
    },
    {
     "name": "stderr",
     "output_type": "stream",
     "text": [
      "extracting all features from dataset: 100%|██████████████████████████████████████████████| 2/2 [00:04<00:00,  2.49s/it]\n",
      "extracting all features from dataset: 100%|██████████████████████████████████████████████| 1/1 [00:01<00:00,  1.64s/it]\n"
     ]
    },
    {
     "name": "stdout",
     "output_type": "stream",
     "text": [
      "----------------------------\n",
      "Train_z, Test_z\n",
      "PCA: 0.8101\n",
      "SVD: 0.8078\n",
      "NetG_fixD, Acc at sample 8 0.1094\n"
     ]
    },
    {
     "name": "stderr",
     "output_type": "stream",
     "text": [
      "extracting all features from dataset: 100%|██████████████████████████████████████████████| 2/2 [00:04<00:00,  2.46s/it]\n",
      "extracting all features from dataset: 100%|██████████████████████████████████████████████| 1/1 [00:01<00:00,  1.65s/it]\n"
     ]
    },
    {
     "name": "stdout",
     "output_type": "stream",
     "text": [
      "----------------------------\n",
      "Train_z, Test_z\n",
      "PCA: 0.7987\n",
      "SVD: 0.7998000000000001\n",
      "NetG_fixD, Acc at sample 9 0.1016\n"
     ]
    },
    {
     "name": "stderr",
     "output_type": "stream",
     "text": [
      "extracting all features from dataset: 100%|██████████████████████████████████████████████| 2/2 [00:05<00:00,  2.52s/it]\n",
      "extracting all features from dataset: 100%|██████████████████████████████████████████████| 1/1 [00:01<00:00,  1.66s/it]\n"
     ]
    },
    {
     "name": "stdout",
     "output_type": "stream",
     "text": [
      "----------------------------\n",
      "Train_z, Test_z\n",
      "PCA: 0.812\n",
      "SVD: 0.8103\n",
      "NetG_fixD, Acc at sample 10 0.1021\n"
     ]
    },
    {
     "name": "stderr",
     "output_type": "stream",
     "text": [
      "extracting all features from dataset: 100%|██████████████████████████████████████████████| 2/2 [00:04<00:00,  2.48s/it]\n",
      "extracting all features from dataset: 100%|██████████████████████████████████████████████| 1/1 [00:01<00:00,  1.65s/it]\n"
     ]
    },
    {
     "name": "stdout",
     "output_type": "stream",
     "text": [
      "----------------------------\n",
      "Train_z, Test_z\n",
      "PCA: 0.8126\n",
      "SVD: 0.8097\n",
      "NetG_fixD, Acc at sample 11 0.0989\n"
     ]
    },
    {
     "name": "stderr",
     "output_type": "stream",
     "text": [
      "extracting all features from dataset: 100%|██████████████████████████████████████████████| 2/2 [00:04<00:00,  2.39s/it]\n",
      "extracting all features from dataset: 100%|██████████████████████████████████████████████| 1/1 [00:01<00:00,  1.61s/it]\n"
     ]
    },
    {
     "name": "stdout",
     "output_type": "stream",
     "text": [
      "----------------------------\n",
      "Train_z, Test_z\n",
      "PCA: 0.8105\n",
      "SVD: 0.8082\n",
      "NetG_fixD, Acc at sample 12 0.0844\n"
     ]
    },
    {
     "name": "stderr",
     "output_type": "stream",
     "text": [
      "extracting all features from dataset: 100%|██████████████████████████████████████████████| 2/2 [00:04<00:00,  2.48s/it]\n",
      "extracting all features from dataset: 100%|██████████████████████████████████████████████| 1/1 [00:01<00:00,  1.63s/it]\n"
     ]
    },
    {
     "name": "stdout",
     "output_type": "stream",
     "text": [
      "----------------------------\n",
      "Train_z, Test_z\n",
      "PCA: 0.8082\n",
      "SVD: 0.8054\n",
      "NetG_fixD, Acc at sample 13 0.1063\n"
     ]
    },
    {
     "name": "stderr",
     "output_type": "stream",
     "text": [
      "extracting all features from dataset: 100%|██████████████████████████████████████████████| 2/2 [00:05<00:00,  2.52s/it]\n",
      "extracting all features from dataset: 100%|██████████████████████████████████████████████| 1/1 [00:01<00:00,  1.68s/it]\n"
     ]
    },
    {
     "name": "stdout",
     "output_type": "stream",
     "text": [
      "----------------------------\n",
      "Train_z, Test_z\n",
      "PCA: 0.8052\n",
      "SVD: 0.8034\n",
      "NetG_fixD, Acc at sample 14 0.1113\n"
     ]
    },
    {
     "name": "stderr",
     "output_type": "stream",
     "text": [
      "extracting all features from dataset: 100%|██████████████████████████████████████████████| 2/2 [00:04<00:00,  2.44s/it]\n",
      "extracting all features from dataset: 100%|██████████████████████████████████████████████| 1/1 [00:01<00:00,  1.68s/it]\n"
     ]
    },
    {
     "name": "stdout",
     "output_type": "stream",
     "text": [
      "----------------------------\n",
      "Train_z, Test_z\n",
      "PCA: 0.8031\n",
      "SVD: 0.8009\n",
      "NetG_fixD, Acc at sample 15 0.0985\n"
     ]
    },
    {
     "name": "stderr",
     "output_type": "stream",
     "text": [
      "extracting all features from dataset: 100%|██████████████████████████████████████████████| 2/2 [00:04<00:00,  2.49s/it]\n",
      "extracting all features from dataset: 100%|██████████████████████████████████████████████| 1/1 [00:01<00:00,  1.66s/it]\n"
     ]
    },
    {
     "name": "stdout",
     "output_type": "stream",
     "text": [
      "----------------------------\n",
      "Train_z, Test_z\n",
      "PCA: 0.8027\n",
      "SVD: 0.8068\n",
      "NetG_fixD, Acc at sample 16 0.0763\n"
     ]
    },
    {
     "name": "stderr",
     "output_type": "stream",
     "text": [
      "extracting all features from dataset: 100%|██████████████████████████████████████████████| 2/2 [00:05<00:00,  2.52s/it]\n",
      "extracting all features from dataset: 100%|██████████████████████████████████████████████| 1/1 [00:01<00:00,  1.67s/it]\n"
     ]
    },
    {
     "name": "stdout",
     "output_type": "stream",
     "text": [
      "----------------------------\n",
      "Train_z, Test_z\n",
      "PCA: 0.8084\n",
      "SVD: 0.8109999999999999\n",
      "NetG_fixD, Acc at sample 17 0.1089\n"
     ]
    },
    {
     "name": "stderr",
     "output_type": "stream",
     "text": [
      "extracting all features from dataset: 100%|██████████████████████████████████████████████| 2/2 [00:04<00:00,  2.37s/it]\n",
      "extracting all features from dataset: 100%|██████████████████████████████████████████████| 1/1 [00:01<00:00,  1.66s/it]\n"
     ]
    },
    {
     "name": "stdout",
     "output_type": "stream",
     "text": [
      "----------------------------\n",
      "Train_z, Test_z\n",
      "PCA: 0.8072\n",
      "SVD: 0.8076\n",
      "NetG_fixD, Acc at sample 18 0.1124\n"
     ]
    },
    {
     "name": "stderr",
     "output_type": "stream",
     "text": [
      "extracting all features from dataset: 100%|██████████████████████████████████████████████| 2/2 [00:04<00:00,  2.48s/it]\n",
      "extracting all features from dataset: 100%|██████████████████████████████████████████████| 1/1 [00:01<00:00,  1.66s/it]\n"
     ]
    },
    {
     "name": "stdout",
     "output_type": "stream",
     "text": [
      "----------------------------\n",
      "Train_z, Test_z\n",
      "PCA: 0.8099000000000001\n",
      "SVD: 0.8056\n",
      "NetG_fixD, Acc at sample 19 0.0803\n"
     ]
    },
    {
     "name": "stderr",
     "output_type": "stream",
     "text": [
      "extracting all features from dataset: 100%|██████████████████████████████████████████████| 2/2 [00:04<00:00,  2.43s/it]\n",
      "extracting all features from dataset: 100%|██████████████████████████████████████████████| 1/1 [00:01<00:00,  1.67s/it]\n"
     ]
    },
    {
     "name": "stdout",
     "output_type": "stream",
     "text": [
      "----------------------------\n",
      "Train_z, Test_z\n",
      "PCA: 0.8107\n",
      "SVD: 0.8039000000000001\n",
      "NetG_fixD, Acc at sample 20 0.1073\n",
      "0.1146 0.0763 0.10117000000000001 0.00010806709999999996\n"
     ]
    }
   ],
   "source": [
    "# sample 50 times of NetG at final radius, NetD is fixed\n",
    "from sklearn.neighbors import KNeighborsClassifier \n",
    "Acc_results_G_sample10 = []\n",
    "\n",
    "for _ in range(sample_num):\n",
    "    #acc at first\n",
    "    net_noise = get_noise(DATASET, device, LABEL)\n",
    "    fed_state_dict = get_netG(netD,netV,net_noise,r_list[10])\n",
    "    netG.load_state_dict(fed_state_dict)\n",
    "    \n",
    "    train_X, train_Z, train_X_bar, train_Z_bar, train_labels = extract_features2(trainloader, netG, netD)\n",
    "\n",
    "    test_X, test_Z, test_X_bar, test_Z_bar, test_labels = extract_features2(testloader, netG, netD)\n",
    "\n",
    "    print(\"----------------------------\")\n",
    "    print(\"Train_z, Test_z\")\n",
    "    nearsub(n_comp, train_Z, train_labels, test_Z, test_labels)\n",
    "\n",
    "    knn= KNeighborsClassifier(n_neighbors=10) \n",
    "\n",
    "    knn.fit(train_Z,train_labels) \n",
    "    knn.score(test_Z_bar,test_labels) \n",
    "\n",
    "    y_predict = knn.predict(test_Z_bar) \n",
    "\n",
    "    count =0\n",
    "    for k in range(10000):\n",
    "        if y_predict[k] == test_labels[k]:\n",
    "            count +=1\n",
    "    print('NetG_fixD, Acc at sample',_+1,count/10000)\n",
    "    Acc_results_G_sample10.append(count/10000)\n",
    "    \n",
    "print(max(Acc_results_G_sample10),min(Acc_results_G_sample10),np.mean(Acc_results_G_sample10),np.var(Acc_results_G_sample10))"
   ]
  },
  {
   "cell_type": "code",
   "execution_count": null,
   "id": "1f730cf2",
   "metadata": {},
   "outputs": [],
   "source": []
  }
 ],
 "metadata": {
  "kernelspec": {
   "display_name": "Python 3 (ipykernel)",
   "language": "python",
   "name": "python3"
  },
  "language_info": {
   "codemirror_mode": {
    "name": "ipython",
    "version": 3
   },
   "file_extension": ".py",
   "mimetype": "text/x-python",
   "name": "python",
   "nbconvert_exporter": "python",
   "pygments_lexer": "ipython3",
   "version": "3.7.16"
  }
 },
 "nbformat": 4,
 "nbformat_minor": 5
}
