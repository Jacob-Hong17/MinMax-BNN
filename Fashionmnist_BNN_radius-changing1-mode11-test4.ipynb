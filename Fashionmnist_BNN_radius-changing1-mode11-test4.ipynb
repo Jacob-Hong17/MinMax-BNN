{
 "cells": [
  {
   "cell_type": "code",
   "execution_count": 1,
   "id": "95b64f9b",
   "metadata": {},
   "outputs": [],
   "source": [
    "# all codes come are changed based on LDR code.\n",
    "# 用添加噪声的数据进行训练\n",
    "import argparse\n",
    "import torch.optim as optim\n",
    "import os\n",
    "import yaml\n",
    "from mcrgan.default import _C as config\n",
    "from mcrgan.default import update_config\n",
    "import torch\n",
    "from mcrgan.trainer import MCRTrainer\n",
    "from mcrgan.datasets import get_dataloader\n",
    "from mcrgan.models import get_models\n",
    "from mcrgan.models import get_BNN_models\n",
    "from mcrgan.models import get_noise\n",
    "from mcrgan.models import get_noise_uniform\n",
    "from mcrgan.models import DiscriminatorMNIST\n",
    "from mcrgan.models import weights_init_mnist_model_noise\n",
    "\n",
    "import numpy as np\n",
    "import torch\n",
    "import argparse\n",
    "from mcrgan.datasets import get_dataloader\n",
    "from mcrgan.models import get_models\n",
    "from mcrgan.default import _C as config\n",
    "from mcrgan.default import update_config\n",
    "from utils.utils import sort_dataset, compute_accuracy, extract_features\n",
    "from sklearn.decomposition import PCA\n",
    "from sklearn.decomposition import TruncatedSVD\n",
    "import torchvision.transforms as transforms\n",
    "import torchvision.datasets as datasets\n",
    "from tqdm import tqdm\n",
    "import os\n",
    "from mcrgan.loss import MCRGANloss\n",
    "import random\n",
    "import time\n",
    "random.seed(0)"
   ]
  },
  {
   "cell_type": "code",
   "execution_count": 2,
   "id": "806b2e2c",
   "metadata": {},
   "outputs": [],
   "source": [
    "# 导入Fmnist数据集，进行对比\n",
    "device = torch.device('cuda' if torch.cuda.is_available() else \"cpu\")\n",
    "DATASET = 'FMNIST'\n",
    "ROOT    = 'pth/to/the/dataset'\n",
    "BATCH_SIZE = 2048\n",
    "WORKERS = 8\n",
    "DATA_SAMPLE = 50000\n",
    "LABEL = 0\n",
    "\n",
    "dataloader, dataset = get_dataloader(\n",
    "        data_name=DATASET,\n",
    "        root=ROOT,\n",
    "        batch_size=BATCH_SIZE,\n",
    "        num_workers=WORKERS)"
   ]
  },
  {
   "cell_type": "code",
   "execution_count": 3,
   "id": "08feb6b9",
   "metadata": {},
   "outputs": [],
   "source": [
    "import collections\n",
    "\n",
    "def get_netG(netD,netV,net_noise,radius=1):\n",
    "    models = [netD, netV,net_noise]\n",
    "    worker_state_dict = [x.state_dict() for x in models]\n",
    "    weight_keys = list(worker_state_dict[0].keys())\n",
    "    fed_state_dict = collections.OrderedDict()\n",
    "    for key in weight_keys:\n",
    "        fed_state_dict[key] = worker_state_dict[0][key] + radius*worker_state_dict[2][key]*torch.log(1+torch.exp(worker_state_dict[1][key]))\n",
    "    return fed_state_dict\n",
    "\n",
    "# new netG already optimized by adam and time learning rate, so we only using netG to update netV\n",
    "def update_netV(netV,netG,net_noise,fed_state_dict,radius=1):\n",
    "    models =[netV,netG,net_noise]\n",
    "    worker_state_dict = [x.state_dict() for x in models]\n",
    "    weight_keys = list(worker_state_dict[0].keys())\n",
    "    update_dict = collections.OrderedDict()\n",
    "    for key in weight_keys:\n",
    "        update_dict[key] = worker_state_dict[0][key] - (worker_state_dict[1][key]-fed_state_dict[key])*(worker_state_dict[2][key]*radius)/torch.log(1+torch.exp(-worker_state_dict[0][key]))\n",
    "    return update_dict\n",
    "\n",
    "# generate different distribution via gaussian init and uniform\n",
    "def get_cauchy_noise(netD,net_noise1,net_noise2):\n",
    "    models =[netD,net_noise1, net_noise2]\n",
    "    worker_state_dict = [x.state_dict() for x in models]\n",
    "    weight_keys = list(worker_state_dict[0].keys())\n",
    "    update_dict = collections.OrderedDict()\n",
    "    for key in weight_keys:\n",
    "        update_dict[key] = worker_state_dict[1][key] / worker_state_dict[2][key]\n",
    "    return update_dict\n",
    "        "
   ]
  },
  {
   "cell_type": "code",
   "execution_count": 4,
   "id": "bd8022df",
   "metadata": {},
   "outputs": [],
   "source": [
    "#models\n",
    "# train hyperparameters, batch norm not used var\n",
    "#store_Var = []\n",
    "import time\n",
    "from torch_mimicry.training import scheduler, logger, metric_log\n",
    "\n",
    "from test_acc import nearsub\n",
    "import numpy as np\n",
    "import torch\n",
    "import argparse\n",
    "from mcrgan.datasets import get_dataloader\n",
    "from mcrgan.models import get_models\n",
    "from mcrgan.default import _C as config\n",
    "from mcrgan.default import update_config\n",
    "from utils.utils import sort_dataset, compute_accuracy, extract_features2\n",
    "from sklearn.decomposition import PCA\n",
    "from sklearn.decomposition import TruncatedSVD\n",
    "import torchvision.transforms as transforms\n",
    "import torchvision.datasets as datasets\n",
    "from tqdm import tqdm\n",
    "import os\n",
    "\n",
    "start_time = time.time()\n",
    "#global_step = 0\n",
    "epsilon_noise = 0.1\n",
    "num_steps = 1000\n",
    "n_dis = 1\n",
    "n_dis2 = 1\n",
    "numclasses =10\n",
    "lr1 = 1e-3\n",
    "lr2 = 1e-3\n",
    "log_data = metric_log.MetricLog()\n",
    "data_time = time.time()\n",
    "iter_dataloader = iter(dataloader)\n",
    "data, label = next(iter_dataloader)\n",
    "data_time = time.time() - data_time\n",
    "real_cpu = data.to(device)\n",
    "real_label = label.clone().detach()\n",
    "\n",
    "netD, netG, netV = get_BNN_models(DATASET, device, LABEL)\n",
    "net_noise = get_noise(DATASET, device, LABEL)\n",
    "fed_state_dict = get_netG(netD,netV,net_noise)\n",
    "netG.load_state_dict(fed_state_dict)\n",
    "optD = optim.Adam(netD.parameters(), lr1, betas=(0.5, 0.999))\n",
    "optG = optim.Adam(netG.parameters(), lr2, betas=(0.5, 0.999))\n",
    "\n",
    "Acc_results_D = []\n",
    "Acc_results_G = []\n",
    "\n",
    "\n",
    "transform = transforms.Compose(\n",
    "            [transforms.Resize(32),\n",
    "             transforms.ToTensor(),\n",
    "             transforms.Normalize(0.5, 0.5)])\n",
    "\n",
    "trainset = datasets.FashionMNIST(root=ROOT, train=True, download=True, transform=transform)\n",
    "testset = datasets.FashionMNIST(root=ROOT, train=False, download=True, transform=transform)\n",
    "\n",
    "testloader = torch.utils.data.DataLoader(\n",
    "        testset, batch_size=DATA_SAMPLE, shuffle=False, num_workers=WORKERS)\n",
    "\n",
    "trainloader = torch.utils.data.DataLoader(\n",
    "        trainset, batch_size=DATA_SAMPLE, shuffle=False, num_workers=WORKERS)\n",
    "device = torch.device('cuda' if torch.cuda.is_available() else \"cpu\")\n",
    "n_comp = 10\n"
   ]
  },
  {
   "cell_type": "code",
   "execution_count": 5,
   "id": "dd6bcdad",
   "metadata": {},
   "outputs": [],
   "source": [
    "# golden search algorithm to determined the radius of the sample ball, due to traditional updating netV is too slow\n",
    "# no meaning for n_dis =2 for our case, just to have output for every update\n",
    "# sample too much would arise cuda memory error\n",
    "def gs_radius(radius1,radius2,netD,real_cpu,real_label,tor=1e-3,n_dis=2,lam=0.618,mode=1,gam3=1):\n",
    "    mcr_gan_loss=MCRGANloss(gam1=1., gam2=1., gam3=gam3, eps=0.5, numclasses=numclasses, mode=mode, rho=None)\n",
    "    #optG = optim.Adam(netG.parameters(), lr2, betas=(0.5, 0.999))\n",
    "    \n",
    "    Z = netD(real_cpu)\n",
    "    net_noise = get_noise(DATASET, device, LABEL)\n",
    "    err1 = 0\n",
    "    err2 = 1000\n",
    "    while abs(err1 - err2)> tor or abs(radius1-radius2)>tor:\n",
    "        a1 = radius2 - lam*(radius2-radius1)\n",
    "        a2 = radius1 + lam*(radius2-radius1)\n",
    "        fed_state_dict = get_netG(netD,netV,net_noise,a1)\n",
    "        netG.load_state_dict(fed_state_dict)\n",
    "        Z_bar = netG(real_cpu)\n",
    "        errG1, errG_EC1 = mcr_gan_loss(Z, Z_bar, real_label, n_dis2 - 1, n_dis2)\n",
    "        err1 = errG1\n",
    "        \n",
    "        fed_state_dict = get_netG(netD,netV,net_noise,a2)\n",
    "        netG.load_state_dict(fed_state_dict)\n",
    "        Z_bar = netG(real_cpu)\n",
    "        errG2, errG_EC2 = mcr_gan_loss(Z, Z_bar, real_label, n_dis2 - 1, n_dis2)\n",
    "        err2 = errG2\n",
    "        \n",
    "        if err1 > err2:\n",
    "            radius1 = a1\n",
    "            a1 = a2\n",
    "            err1 = err2\n",
    "            a2 = radius1 + lam*(radius2-radius1)\n",
    "            fed_state_dict = get_netG(netD,netV,net_noise,a2)\n",
    "            netG.load_state_dict(fed_state_dict)\n",
    "            Z_bar = netG(real_cpu)\n",
    "            errG2, errG_EC2 = mcr_gan_loss(Z, Z_bar, real_label, n_dis2 - 1, n_dis2)\n",
    "            err2 = errG2\n",
    "            #print('r1',radius1)\n",
    "            #print(errG2, errG_EC2)\n",
    "        else:\n",
    "            radius2 = a2\n",
    "            a2 = a1\n",
    "            a1 = radius2 - lam*(radius2-radius1)\n",
    "            fed_state_dict = get_netG(netD,netV,net_noise,a1)\n",
    "            netG.load_state_dict(fed_state_dict)\n",
    "            Z_bar = netG(real_cpu)\n",
    "            errG1, errG_EC1 = mcr_gan_loss(Z, Z_bar, real_label, n_dis2 - 1, n_dis2)\n",
    "            err1 = errG1\n",
    "            #print('r2',radius2)\n",
    "            #print(errG1, errG_EC1)\n",
    "         \n",
    "    return radius1,radius2\n",
    "\n",
    "\n",
    "def gs_radius2(radius1,radius2, netD,real_cpu,real_label,tor=1e-3,n_dis=2,lam=0.618,mode=1,gam3=1):\n",
    "    mcr_gan_loss=MCRGANloss(gam1=1., gam2=1., gam3=gam3, eps=0.5, numclasses=numclasses, mode=mode, rho=None)\n",
    "    #optG = optim.Adam(netG.parameters(), lr2, betas=(0.5, 0.999))\n",
    "    \n",
    "    Z = netD(real_cpu)\n",
    "    net_noise = get_noise(DATASET, device, LABEL)\n",
    "    net_noise1 = get_noise(DATASET, device, LABEL)\n",
    "    net_noise_cauchy = get_cauchy_noise(netD,net_noise,net_noise1)\n",
    "    net_noise.load_state_dict(net_noise_cauchy)\n",
    "    #net_noise = get_noise(DATASET, device, LABEL)\n",
    "    err1 = 0\n",
    "    err2 = 1000\n",
    "    while abs(err1 - err2)> tor or abs(radius1-radius2)>tor:\n",
    "        a1 = radius2 - lam*(radius2-radius1)\n",
    "        a2 = radius1 + lam*(radius2-radius1)\n",
    "        fed_state_dict = get_netG(netD,netV,net_noise,a1)\n",
    "        netG.load_state_dict(fed_state_dict)\n",
    "        Z_bar = netG(real_cpu)\n",
    "        errG1, errG_EC1 = mcr_gan_loss(Z, Z_bar, real_label, n_dis2 - 1, n_dis2)\n",
    "        err1 = errG1\n",
    "        \n",
    "        fed_state_dict = get_netG(netD,netV,net_noise,a2)\n",
    "        netG.load_state_dict(fed_state_dict)\n",
    "        Z_bar = netG(real_cpu)\n",
    "        errG2, errG_EC2 = mcr_gan_loss(Z, Z_bar, real_label, n_dis2 - 1, n_dis2)\n",
    "        err2 = errG2\n",
    "        \n",
    "        if err1 > err2:\n",
    "            radius1 = a1\n",
    "            a1 = a2\n",
    "            err1 = err2\n",
    "            a2 = radius1 + lam*(radius2-radius1)\n",
    "            fed_state_dict = get_netG(netD,netV,net_noise,a2)\n",
    "            netG.load_state_dict(fed_state_dict)\n",
    "            Z_bar = netG(real_cpu)\n",
    "            errG2, errG_EC2 = mcr_gan_loss(Z, Z_bar, real_label, n_dis2 - 1, n_dis2)\n",
    "            err2 = errG2\n",
    "            #print('r1',radius1)\n",
    "            #print(errG2, errG_EC2)\n",
    "        else:\n",
    "            radius2 = a2\n",
    "            a2 = a1\n",
    "            a1 = radius2 - lam*(radius2-radius1)\n",
    "            fed_state_dict = get_netG(netD,netV,net_noise,a1)\n",
    "            netG.load_state_dict(fed_state_dict)\n",
    "            Z_bar = netG(real_cpu)\n",
    "            errG1, errG_EC1 = mcr_gan_loss(Z, Z_bar, real_label, n_dis2 - 1, n_dis2)\n",
    "            err1 = errG1\n",
    "            #print('r2',radius2)\n",
    "            #print(errG1, errG_EC1)\n",
    "         \n",
    "    return radius1,radius2\n",
    "\n",
    "def gs_radius3(radius1,radius2, netD,real_cpu,real_label,tor=1e-3,n_dis=2,lam=0.618,mode=1,gam3=1):\n",
    "    mcr_gan_loss=MCRGANloss(gam1=1., gam2=1., gam3=gam3, eps=0.5, numclasses=numclasses, mode=mode, rho=None)\n",
    "    #optG = optim.Adam(netG.parameters(), lr2, betas=(0.5, 0.999))\n",
    "    \n",
    "    Z = netD(real_cpu)\n",
    "    net_noise = get_noise_uniform(DATASET, device, LABEL)\n",
    "\n",
    "    #net_noise = get_noise(DATASET, device, LABEL)\n",
    "    err1 = 0\n",
    "    err2 = 1000\n",
    "    while abs(err1 - err2)> tor or abs(radius1-radius2)>tor:\n",
    "        a1 = radius2 - lam*(radius2-radius1)\n",
    "        a2 = radius1 + lam*(radius2-radius1)\n",
    "        fed_state_dict = get_netG(netD,netV,net_noise,a1)\n",
    "        netG.load_state_dict(fed_state_dict)\n",
    "        Z_bar = netG(real_cpu)\n",
    "        errG1, errG_EC1 = mcr_gan_loss(Z, Z_bar, real_label, n_dis2 - 1, n_dis2)\n",
    "        err1 = errG1\n",
    "        \n",
    "        fed_state_dict = get_netG(netD,netV,net_noise,a2)\n",
    "        netG.load_state_dict(fed_state_dict)\n",
    "        Z_bar = netG(real_cpu)\n",
    "        errG2, errG_EC2 = mcr_gan_loss(Z, Z_bar, real_label, n_dis2 - 1, n_dis2)\n",
    "        err2 = errG2\n",
    "        \n",
    "        if err1 > err2:\n",
    "            radius1 = a1\n",
    "            a1 = a2\n",
    "            err1 = err2\n",
    "            a2 = radius1 + lam*(radius2-radius1)\n",
    "            fed_state_dict = get_netG(netD,netV,net_noise,a2)\n",
    "            netG.load_state_dict(fed_state_dict)\n",
    "            Z_bar = netG(real_cpu)\n",
    "            errG2, errG_EC2 = mcr_gan_loss(Z, Z_bar, real_label, n_dis2 - 1, n_dis2)\n",
    "            err2 = errG2\n",
    "            #print('r1',radius1)\n",
    "            #print(errG2, errG_EC2)\n",
    "        else:\n",
    "            radius2 = a2\n",
    "            a2 = a1\n",
    "            a1 = radius2 - lam*(radius2-radius1)\n",
    "            fed_state_dict = get_netG(netD,netV,net_noise,a1)\n",
    "            netG.load_state_dict(fed_state_dict)\n",
    "            Z_bar = netG(real_cpu)\n",
    "            errG1, errG_EC1 = mcr_gan_loss(Z, Z_bar, real_label, n_dis2 - 1, n_dis2)\n",
    "            err1 = errG1\n",
    "            #print('r2',radius2)\n",
    "            #print(errG1, errG_EC1)\n",
    "         \n",
    "    return radius1,radius2"
   ]
  },
  {
   "cell_type": "code",
   "execution_count": 6,
   "id": "15cb67aa",
   "metadata": {},
   "outputs": [
    {
     "name": "stderr",
     "output_type": "stream",
     "text": [
      "extracting all features from dataset: 100%|██████████████████████████████████████████████| 1/1 [00:04<00:00,  4.22s/it]\n",
      "extracting all features from dataset: 100%|██████████████████████████████████████████████| 1/1 [00:01<00:00,  1.95s/it]\n"
     ]
    },
    {
     "name": "stdout",
     "output_type": "stream",
     "text": [
      "----------------------------\n",
      "Train_z, Test_z\n",
      "PCA: 0.8318\n",
      "SVD: 0.8241\n",
      "NetD, Acc at first 0.8397\n"
     ]
    },
    {
     "name": "stderr",
     "output_type": "stream",
     "text": [
      "extracting all features from dataset: 100%|██████████████████████████████████████████████| 2/2 [00:04<00:00,  2.45s/it]\n",
      "extracting all features from dataset: 100%|██████████████████████████████████████████████| 1/1 [00:01<00:00,  1.68s/it]\n"
     ]
    },
    {
     "name": "stdout",
     "output_type": "stream",
     "text": [
      "----------------------------\n",
      "Train_z, Test_z\n",
      "PCA: 0.8071\n",
      "SVD: 0.8084\n",
      "NetG, Acc at first 0.8439\n"
     ]
    }
   ],
   "source": [
    "#acc at first for NetD\n",
    "train_X, train_Z, train_X_bar, train_Z_bar, train_labels = extract_features2(testloader, netD, netG)\n",
    "\n",
    "test_X, test_Z, test_X_bar, test_Z_bar, test_labels = extract_features2(testloader, netD, netG)\n",
    "\n",
    "\n",
    "print(\"----------------------------\")\n",
    "print(\"Train_z, Test_z\")\n",
    "nearsub(n_comp, train_Z, train_labels, test_Z, test_labels)\n",
    "\n",
    "#acc at first for NetD\n",
    "from sklearn.neighbors import KNeighborsClassifier \n",
    "knn= KNeighborsClassifier(n_neighbors=10) \n",
    "\n",
    "knn.fit(train_Z,train_labels) \n",
    "knn.score(test_Z,test_labels) \n",
    " \n",
    "y_predict = knn.predict(test_Z) \n",
    "\n",
    "count =0\n",
    "for k in range(10000):\n",
    "    if y_predict[k] == test_labels[k]:\n",
    "        count +=1\n",
    "print('NetD, Acc at first',count/10000)\n",
    "Acc_results_D.append(count/10000)\n",
    "\n",
    "#acc at first for NetG\n",
    "train_X, train_Z, train_X_bar, train_Z_bar, train_labels = extract_features2(trainloader, netG, netD)\n",
    "\n",
    "test_X, test_Z, test_X_bar, test_Z_bar, test_labels = extract_features2(testloader, netG, netD)\n",
    "\n",
    "print(\"----------------------------\")\n",
    "print(\"Train_z, Test_z\")\n",
    "nearsub(n_comp, train_Z, train_labels, test_Z, test_labels)\n",
    "\n",
    "\n",
    "#acc at first\n",
    "from sklearn.neighbors import KNeighborsClassifier \n",
    "knn= KNeighborsClassifier(n_neighbors=10) \n",
    "\n",
    "knn.fit(train_Z,train_labels) \n",
    "knn.score(test_Z,test_labels) \n",
    " \n",
    "y_predict = knn.predict(test_Z) \n",
    "\n",
    "count =0\n",
    "for k in range(10000):\n",
    "    if y_predict[k] == test_labels[k]:\n",
    "        count +=1\n",
    "print('NetG, Acc at first',count/10000)\n",
    "Acc_results_G.append(count/10000)"
   ]
  },
  {
   "cell_type": "code",
   "execution_count": 7,
   "id": "e0d6cae2",
   "metadata": {},
   "outputs": [
    {
     "name": "stdout",
     "output_type": "stream",
     "text": [
      "tensor(-16.2486, device='cuda:0', grad_fn=<NegBackward0>) [tensor(-5.9605, device='cuda:0', grad_fn=<NegBackward0>), tensor(-6.5231, device='cuda:0', grad_fn=<NegBackward0>), tensor(-42.1640, device='cuda:0', grad_fn=<AddBackward0>)]\n",
      "7.631828604437706\n",
      "tensor(-13.9489, device='cuda:0', grad_fn=<NegBackward0>) [tensor(-3.8175, device='cuda:0', grad_fn=<NegBackward0>), tensor(-6.4748, device='cuda:0', grad_fn=<NegBackward0>), tensor(-37.7282, device='cuda:0', grad_fn=<AddBackward0>)]\n",
      "tensor(-13.4207, device='cuda:0', grad_fn=<NegBackward0>) [tensor(-3.8175, device='cuda:0', grad_fn=<NegBackward0>), tensor(-5.9846, device='cuda:0', grad_fn=<NegBackward0>), tensor(-36.2852, device='cuda:0', grad_fn=<AddBackward0>)]\n",
      "99.30339162743611\n",
      "tensor(-17.9997, device='cuda:0', grad_fn=<NegBackward0>) [tensor(-8.2007, device='cuda:0', grad_fn=<NegBackward0>), tensor(-5.9384, device='cuda:0', grad_fn=<NegBackward0>), tensor(-46.4914, device='cuda:0', grad_fn=<AddBackward0>)]\n",
      "tensor(-19.3134, device='cuda:0', grad_fn=<NegBackward0>) [tensor(-8.2007, device='cuda:0', grad_fn=<NegBackward0>), tensor(-7.1950, device='cuda:0', grad_fn=<NegBackward0>), tensor(-49.2892, device='cuda:0', grad_fn=<AddBackward0>)]\n",
      "1.162022820119659\n",
      "tensor(-22.3936, device='cuda:0', grad_fn=<NegBackward0>) [tensor(-9.8571, device='cuda:0', grad_fn=<NegBackward0>), tensor(-9.3007, device='cuda:0', grad_fn=<NegBackward0>), tensor(-24.4272, device='cuda:0', grad_fn=<AddBackward0>)]\n",
      "tensor(-22.3615, device='cuda:0', grad_fn=<NegBackward0>) [tensor(-9.8571, device='cuda:0', grad_fn=<NegBackward0>), tensor(-9.2043, device='cuda:0', grad_fn=<NegBackward0>), tensor(-26.1156, device='cuda:0', grad_fn=<AddBackward0>)]\n",
      "1.0734194102794905\n",
      "tensor(-24.3376, device='cuda:0', grad_fn=<NegBackward0>) [tensor(-10.8125, device='cuda:0', grad_fn=<NegBackward0>), tensor(-10.4207, device='cuda:0', grad_fn=<NegBackward0>), tensor(-21.2958, device='cuda:0', grad_fn=<AddBackward0>)]\n",
      "tensor(-24.1264, device='cuda:0', grad_fn=<NegBackward0>) [tensor(-10.8125, device='cuda:0', grad_fn=<NegBackward0>), tensor(-10.2214, device='cuda:0', grad_fn=<NegBackward0>), tensor(-21.0328, device='cuda:0', grad_fn=<AddBackward0>)]\n",
      "0.7935370145225645\n",
      "tensor(-29.4308, device='cuda:0', grad_fn=<NegBackward0>) [tensor(-13.4915, device='cuda:0', grad_fn=<NegBackward0>), tensor(-13.0303, device='cuda:0', grad_fn=<NegBackward0>), tensor(-17.3388, device='cuda:0', grad_fn=<AddBackward0>)]\n",
      "tensor(-29.4807, device='cuda:0', grad_fn=<NegBackward0>) [tensor(-13.4915, device='cuda:0', grad_fn=<NegBackward0>), tensor(-13.1225, device='cuda:0', grad_fn=<NegBackward0>), tensor(-16.5786, device='cuda:0', grad_fn=<AddBackward0>)]\n",
      "0.7076883254037893\n",
      "tensor(-31.3458, device='cuda:0', grad_fn=<NegBackward0>) [tensor(-14.7732, device='cuda:0', grad_fn=<NegBackward0>), tensor(-13.7580, device='cuda:0', grad_fn=<NegBackward0>), tensor(-15.6881, device='cuda:0', grad_fn=<AddBackward0>)]\n",
      "tensor(-31.2563, device='cuda:0', grad_fn=<NegBackward0>) [tensor(-14.7732, device='cuda:0', grad_fn=<NegBackward0>), tensor(-13.7245, device='cuda:0', grad_fn=<NegBackward0>), tensor(-14.7779, device='cuda:0', grad_fn=<AddBackward0>)]\n",
      "0.7248378336424347\n",
      "tensor(-33.2239, device='cuda:0', grad_fn=<NegBackward0>) [tensor(-15.5068, device='cuda:0', grad_fn=<NegBackward0>), tensor(-14.9321, device='cuda:0', grad_fn=<NegBackward0>), tensor(-15.2002, device='cuda:0', grad_fn=<AddBackward0>)]\n",
      "tensor(-33.0306, device='cuda:0', grad_fn=<NegBackward0>) [tensor(-15.5068, device='cuda:0', grad_fn=<NegBackward0>), tensor(-14.7173, device='cuda:0', grad_fn=<NegBackward0>), tensor(-15.5516, device='cuda:0', grad_fn=<AddBackward0>)]\n",
      "0.5851525595132528\n",
      "tensor(-35.2073, device='cuda:0', grad_fn=<NegBackward0>) [tensor(-16.5840, device='cuda:0', grad_fn=<NegBackward0>), tensor(-16.1081, device='cuda:0', grad_fn=<NegBackward0>), tensor(-11.3681, device='cuda:0', grad_fn=<AddBackward0>)]\n",
      "tensor(-34.9996, device='cuda:0', grad_fn=<NegBackward0>) [tensor(-16.5840, device='cuda:0', grad_fn=<NegBackward0>), tensor(-15.8699, device='cuda:0', grad_fn=<NegBackward0>), tensor(-11.7509, device='cuda:0', grad_fn=<AddBackward0>)]\n",
      "0.6221818096160284\n",
      "tensor(-37.7500, device='cuda:0', grad_fn=<NegBackward0>) [tensor(-17.8990, device='cuda:0', grad_fn=<NegBackward0>), tensor(-17.3185, device='cuda:0', grad_fn=<NegBackward0>), tensor(-11.5857, device='cuda:0', grad_fn=<AddBackward0>)]\n",
      "tensor(-37.5547, device='cuda:0', grad_fn=<NegBackward0>) [tensor(-17.8990, device='cuda:0', grad_fn=<NegBackward0>), tensor(-17.0997, device='cuda:0', grad_fn=<NegBackward0>), tensor(-11.8845, device='cuda:0', grad_fn=<AddBackward0>)]\n",
      "0.46453989034545434\n",
      "tensor(-39.7549, device='cuda:0', grad_fn=<NegBackward0>) [tensor(-18.9860, device='cuda:0', grad_fn=<NegBackward0>), tensor(-18.5894, device='cuda:0', grad_fn=<NegBackward0>), tensor(-7.8419, device='cuda:0', grad_fn=<AddBackward0>)]\n",
      "tensor(-39.7623, device='cuda:0', grad_fn=<NegBackward0>) [tensor(-18.9860, device='cuda:0', grad_fn=<NegBackward0>), tensor(-18.6778, device='cuda:0', grad_fn=<NegBackward0>), tensor(-7.1548, device='cuda:0', grad_fn=<AddBackward0>)]\n",
      "0.6347552207199472\n",
      "tensor(-40.0454, device='cuda:0', grad_fn=<NegBackward0>) [tensor(-19.2365, device='cuda:0', grad_fn=<NegBackward0>), tensor(-18.3187, device='cuda:0', grad_fn=<NegBackward0>), tensor(-11.0627, device='cuda:0', grad_fn=<AddBackward0>)]\n",
      "tensor(-40.1592, device='cuda:0', grad_fn=<NegBackward0>) [tensor(-19.2365, device='cuda:0', grad_fn=<NegBackward0>), tensor(-18.4598, device='cuda:0', grad_fn=<NegBackward0>), tensor(-10.7392, device='cuda:0', grad_fn=<AddBackward0>)]\n",
      "0.5697286346394675\n",
      "tensor(-42.4863, device='cuda:0', grad_fn=<NegBackward0>) [tensor(-20.5674, device='cuda:0', grad_fn=<NegBackward0>), tensor(-19.4114, device='cuda:0', grad_fn=<NegBackward0>), tensor(-11.2737, device='cuda:0', grad_fn=<AddBackward0>)]\n",
      "tensor(-42.8926, device='cuda:0', grad_fn=<NegBackward0>) [tensor(-20.5674, device='cuda:0', grad_fn=<NegBackward0>), tensor(-19.9568, device='cuda:0', grad_fn=<NegBackward0>), tensor(-9.6790, device='cuda:0', grad_fn=<AddBackward0>)]\n",
      "0.5351230692891956\n",
      "tensor(-44.6771, device='cuda:0', grad_fn=<NegBackward0>) [tensor(-21.5820, device='cuda:0', grad_fn=<NegBackward0>), tensor(-20.7103, device='cuda:0', grad_fn=<NegBackward0>), tensor(-9.8579, device='cuda:0', grad_fn=<AddBackward0>)]\n",
      "tensor(-44.9095, device='cuda:0', grad_fn=<NegBackward0>) [tensor(-21.5820, device='cuda:0', grad_fn=<NegBackward0>), tensor(-20.9472, device='cuda:0', grad_fn=<NegBackward0>), tensor(-9.8084, device='cuda:0', grad_fn=<AddBackward0>)]\n",
      "0.5545086434142497\n",
      "tensor(-45.3367, device='cuda:0', grad_fn=<NegBackward0>) [tensor(-21.7958, device='cuda:0', grad_fn=<NegBackward0>), tensor(-21.1134, device='cuda:0', grad_fn=<NegBackward0>), tensor(-10.3306, device='cuda:0', grad_fn=<AddBackward0>)]\n",
      "tensor(-45.1180, device='cuda:0', grad_fn=<NegBackward0>) [tensor(-21.7958, device='cuda:0', grad_fn=<NegBackward0>), tensor(-20.9314, device='cuda:0', grad_fn=<NegBackward0>), tensor(-9.9225, device='cuda:0', grad_fn=<AddBackward0>)]\n",
      "0.5553099280569015\n",
      "tensor(-46.8557, device='cuda:0', grad_fn=<NegBackward0>) [tensor(-22.6630, device='cuda:0', grad_fn=<NegBackward0>), tensor(-21.8341, device='cuda:0', grad_fn=<NegBackward0>), tensor(-9.5750, device='cuda:0', grad_fn=<AddBackward0>)]\n",
      "tensor(-46.7008, device='cuda:0', grad_fn=<NegBackward0>) [tensor(-22.6630, device='cuda:0', grad_fn=<NegBackward0>), tensor(-21.6250, device='cuda:0', grad_fn=<NegBackward0>), tensor(-10.1643, device='cuda:0', grad_fn=<AddBackward0>)]\n",
      "0.4569709389468453\n",
      "tensor(-47.4139, device='cuda:0', grad_fn=<NegBackward0>) [tensor(-23.0362, device='cuda:0', grad_fn=<NegBackward0>), tensor(-22.3525, device='cuda:0', grad_fn=<NegBackward0>), tensor(-6.5779, device='cuda:0', grad_fn=<AddBackward0>)]\n",
      "tensor(-47.3834, device='cuda:0', grad_fn=<NegBackward0>) [tensor(-23.0362, device='cuda:0', grad_fn=<NegBackward0>), tensor(-22.2326, device='cuda:0', grad_fn=<NegBackward0>), tensor(-7.2865, device='cuda:0', grad_fn=<AddBackward0>)]\n",
      "0.5786298828360196\n",
      "tensor(-46.9865, device='cuda:0', grad_fn=<NegBackward0>) [tensor(-22.7924, device='cuda:0', grad_fn=<NegBackward0>), tensor(-21.9450, device='cuda:0', grad_fn=<NegBackward0>), tensor(-8.4786, device='cuda:0', grad_fn=<AddBackward0>)]\n",
      "tensor(-47.0535, device='cuda:0', grad_fn=<NegBackward0>) [tensor(-22.7924, device='cuda:0', grad_fn=<NegBackward0>), tensor(-21.9051, device='cuda:0', grad_fn=<NegBackward0>), tensor(-9.5484, device='cuda:0', grad_fn=<AddBackward0>)]\n"
     ]
    },
    {
     "name": "stdout",
     "output_type": "stream",
     "text": [
      "0.4709984279915666\n",
      "tensor(-49.1393, device='cuda:0', grad_fn=<NegBackward0>) [tensor(-23.8841, device='cuda:0', grad_fn=<NegBackward0>), tensor(-23.2021, device='cuda:0', grad_fn=<NegBackward0>), tensor(-6.7922, device='cuda:0', grad_fn=<AddBackward0>)]\n",
      "tensor(-48.9599, device='cuda:0', grad_fn=<NegBackward0>) [tensor(-23.8841, device='cuda:0', grad_fn=<NegBackward0>), tensor(-22.9814, device='cuda:0', grad_fn=<NegBackward0>), tensor(-7.1205, device='cuda:0', grad_fn=<AddBackward0>)]\n",
      "0.5187234173325131\n",
      "tensor(-49.4810, device='cuda:0', grad_fn=<NegBackward0>) [tensor(-24.0497, device='cuda:0', grad_fn=<NegBackward0>), tensor(-23.3561, device='cuda:0', grad_fn=<NegBackward0>), tensor(-6.9666, device='cuda:0', grad_fn=<AddBackward0>)]\n",
      "tensor(-49.4088, device='cuda:0', grad_fn=<NegBackward0>) [tensor(-24.0497, device='cuda:0', grad_fn=<NegBackward0>), tensor(-23.2413, device='cuda:0', grad_fn=<NegBackward0>), tensor(-7.3123, device='cuda:0', grad_fn=<AddBackward0>)]\n",
      "0.4226336039628021\n",
      "tensor(-51.0020, device='cuda:0', grad_fn=<NegBackward0>) [tensor(-24.8436, device='cuda:0', grad_fn=<NegBackward0>), tensor(-24.2700, device='cuda:0', grad_fn=<NegBackward0>), tensor(-5.6085, device='cuda:0', grad_fn=<AddBackward0>)]\n",
      "tensor(-50.9686, device='cuda:0', grad_fn=<NegBackward0>) [tensor(-24.8436, device='cuda:0', grad_fn=<NegBackward0>), tensor(-24.3293, device='cuda:0', grad_fn=<NegBackward0>), tensor(-5.0239, device='cuda:0', grad_fn=<AddBackward0>)]\n",
      "0.4614879531348951\n",
      "tensor(-51.1530, device='cuda:0', grad_fn=<NegBackward0>) [tensor(-24.9943, device='cuda:0', grad_fn=<NegBackward0>), tensor(-24.1986, device='cuda:0', grad_fn=<NegBackward0>), tensor(-6.1007, device='cuda:0', grad_fn=<AddBackward0>)]\n",
      "tensor(-51.1442, device='cuda:0', grad_fn=<NegBackward0>) [tensor(-24.9943, device='cuda:0', grad_fn=<NegBackward0>), tensor(-24.2021, device='cuda:0', grad_fn=<NegBackward0>), tensor(-6.0137, device='cuda:0', grad_fn=<AddBackward0>)]\n",
      "0.4523501803891282\n",
      "tensor(-52.3132, device='cuda:0', grad_fn=<NegBackward0>) [tensor(-25.5432, device='cuda:0', grad_fn=<NegBackward0>), tensor(-24.9347, device='cuda:0', grad_fn=<NegBackward0>), tensor(-5.2677, device='cuda:0', grad_fn=<AddBackward0>)]\n",
      "tensor(-52.4536, device='cuda:0', grad_fn=<NegBackward0>) [tensor(-25.5432, device='cuda:0', grad_fn=<NegBackward0>), tensor(-25.0631, device='cuda:0', grad_fn=<NegBackward0>), tensor(-5.3430, device='cuda:0', grad_fn=<AddBackward0>)]\n",
      "0.4897876010642077\n",
      "tensor(-52.9068, device='cuda:0', grad_fn=<NegBackward0>) [tensor(-25.8028, device='cuda:0', grad_fn=<NegBackward0>), tensor(-25.0998, device='cuda:0', grad_fn=<NegBackward0>), tensor(-6.4202, device='cuda:0', grad_fn=<AddBackward0>)]\n",
      "tensor(-52.8027, device='cuda:0', grad_fn=<NegBackward0>) [tensor(-25.8028, device='cuda:0', grad_fn=<NegBackward0>), tensor(-24.9493, device='cuda:0', grad_fn=<NegBackward0>), tensor(-6.7720, device='cuda:0', grad_fn=<AddBackward0>)]\n",
      "0.4556062165748179\n",
      "tensor(-53.9715, device='cuda:0', grad_fn=<NegBackward0>) [tensor(-26.3129, device='cuda:0', grad_fn=<NegBackward0>), tensor(-25.8078, device='cuda:0', grad_fn=<NegBackward0>), tensor(-5.3647, device='cuda:0', grad_fn=<AddBackward0>)]\n",
      "tensor(-53.8464, device='cuda:0', grad_fn=<NegBackward0>) [tensor(-26.3129, device='cuda:0', grad_fn=<NegBackward0>), tensor(-25.5703, device='cuda:0', grad_fn=<NegBackward0>), tensor(-6.1217, device='cuda:0', grad_fn=<AddBackward0>)]\n",
      "0.48226948262444147\n",
      "tensor(-54.0355, device='cuda:0', grad_fn=<NegBackward0>) [tensor(-26.3825, device='cuda:0', grad_fn=<NegBackward0>), tensor(-25.6435, device='cuda:0', grad_fn=<NegBackward0>), tensor(-6.4593, device='cuda:0', grad_fn=<AddBackward0>)]\n",
      "tensor(-54.0743, device='cuda:0', grad_fn=<NegBackward0>) [tensor(-26.3825, device='cuda:0', grad_fn=<NegBackward0>), tensor(-25.6359, device='cuda:0', grad_fn=<NegBackward0>), tensor(-6.8137, device='cuda:0', grad_fn=<AddBackward0>)]\n",
      "0.4539753491262107\n",
      "tensor(-55.1789, device='cuda:0', grad_fn=<NegBackward0>) [tensor(-27.0263, device='cuda:0', grad_fn=<NegBackward0>), tensor(-26.2902, device='cuda:0', grad_fn=<NegBackward0>), tensor(-5.4387, device='cuda:0', grad_fn=<AddBackward0>)]\n",
      "tensor(-55.1575, device='cuda:0', grad_fn=<NegBackward0>) [tensor(-27.0263, device='cuda:0', grad_fn=<NegBackward0>), tensor(-26.2160, device='cuda:0', grad_fn=<NegBackward0>), tensor(-5.7883, device='cuda:0', grad_fn=<AddBackward0>)]\n",
      "0.46198862574137856\n",
      "tensor(-55.1859, device='cuda:0', grad_fn=<NegBackward0>) [tensor(-26.9722, device='cuda:0', grad_fn=<NegBackward0>), tensor(-26.2352, device='cuda:0', grad_fn=<NegBackward0>), tensor(-6.2316, device='cuda:0', grad_fn=<AddBackward0>)]\n",
      "tensor(-55.1237, device='cuda:0', grad_fn=<NegBackward0>) [tensor(-26.9722, device='cuda:0', grad_fn=<NegBackward0>), tensor(-26.2043, device='cuda:0', grad_fn=<NegBackward0>), tensor(-6.0087, device='cuda:0', grad_fn=<AddBackward0>)]\n",
      "0.4649946850891548\n",
      "tensor(-56.6004, device='cuda:0', grad_fn=<NegBackward0>) [tensor(-27.7158, device='cuda:0', grad_fn=<NegBackward0>), tensor(-26.9448, device='cuda:0', grad_fn=<NegBackward0>), tensor(-5.9573, device='cuda:0', grad_fn=<AddBackward0>)]\n",
      "tensor(-56.4530, device='cuda:0', grad_fn=<NegBackward0>) [tensor(-27.7158, device='cuda:0', grad_fn=<NegBackward0>), tensor(-26.7896, device='cuda:0', grad_fn=<NegBackward0>), tensor(-6.0113, device='cuda:0', grad_fn=<AddBackward0>)]\n",
      "0.37988847961474376\n",
      "tensor(-56.9336, device='cuda:0', grad_fn=<NegBackward0>) [tensor(-27.8809, device='cuda:0', grad_fn=<NegBackward0>), tensor(-27.4780, device='cuda:0', grad_fn=<NegBackward0>), tensor(-3.8293, device='cuda:0', grad_fn=<AddBackward0>)]\n",
      "tensor(-56.8656, device='cuda:0', grad_fn=<NegBackward0>) [tensor(-27.8809, device='cuda:0', grad_fn=<NegBackward0>), tensor(-27.3123, device='cuda:0', grad_fn=<NegBackward0>), tensor(-4.3243, device='cuda:0', grad_fn=<AddBackward0>)]\n",
      "0.4263794877634226\n",
      "tensor(-56.4149, device='cuda:0', grad_fn=<NegBackward0>) [tensor(-27.6494, device='cuda:0', grad_fn=<NegBackward0>), tensor(-26.9284, device='cuda:0', grad_fn=<NegBackward0>), tensor(-5.2786, device='cuda:0', grad_fn=<AddBackward0>)]\n",
      "tensor(-56.3230, device='cuda:0', grad_fn=<NegBackward0>) [tensor(-27.6494, device='cuda:0', grad_fn=<NegBackward0>), tensor(-27.0533, device='cuda:0', grad_fn=<NegBackward0>), tensor(-4.0541, device='cuda:0', grad_fn=<AddBackward0>)]\n",
      "0.37656793197660715\n",
      "tensor(-56.9481, device='cuda:0', grad_fn=<NegBackward0>) [tensor(-27.9103, device='cuda:0', grad_fn=<NegBackward0>), tensor(-27.5229, device='cuda:0', grad_fn=<NegBackward0>), tensor(-3.5490, device='cuda:0', grad_fn=<AddBackward0>)]\n",
      "tensor(-56.7475, device='cuda:0', grad_fn=<NegBackward0>) [tensor(-27.9103, device='cuda:0', grad_fn=<NegBackward0>), tensor(-27.1660, device='cuda:0', grad_fn=<NegBackward0>), tensor(-4.3182, device='cuda:0', grad_fn=<AddBackward0>)]\n",
      "0.4916613364356101\n",
      "tensor(-55.6839, device='cuda:0', grad_fn=<NegBackward0>) [tensor(-27.3577, device='cuda:0', grad_fn=<NegBackward0>), tensor(-26.4291, device='cuda:0', grad_fn=<NegBackward0>), tensor(-5.6666, device='cuda:0', grad_fn=<AddBackward0>)]\n",
      "tensor(-55.3799, device='cuda:0', grad_fn=<NegBackward0>) [tensor(-27.3577, device='cuda:0', grad_fn=<NegBackward0>), tensor(-26.0084, device='cuda:0', grad_fn=<NegBackward0>), tensor(-6.4915, device='cuda:0', grad_fn=<AddBackward0>)]\n",
      "0.45790124422450623\n",
      "tensor(-57.3178, device='cuda:0', grad_fn=<NegBackward0>) [tensor(-28.1127, device='cuda:0', grad_fn=<NegBackward0>), tensor(-27.3859, device='cuda:0', grad_fn=<NegBackward0>), tensor(-5.1664, device='cuda:0', grad_fn=<AddBackward0>)]\n",
      "tensor(-57.1351, device='cuda:0', grad_fn=<NegBackward0>) [tensor(-28.1127, device='cuda:0', grad_fn=<NegBackward0>), tensor(-27.1690, device='cuda:0', grad_fn=<NegBackward0>), tensor(-5.3807, device='cuda:0', grad_fn=<AddBackward0>)]\n",
      "0.45489557453770385\n",
      "tensor(-58.1342, device='cuda:0', grad_fn=<NegBackward0>) [tensor(-28.6040, device='cuda:0', grad_fn=<NegBackward0>), tensor(-27.6287, device='cuda:0', grad_fn=<NegBackward0>), tensor(-5.6959, device='cuda:0', grad_fn=<AddBackward0>)]\n",
      "tensor(-58.3500, device='cuda:0', grad_fn=<NegBackward0>) [tensor(-28.6040, device='cuda:0', grad_fn=<NegBackward0>), tensor(-28.0008, device='cuda:0', grad_fn=<NegBackward0>), tensor(-4.7272, device='cuda:0', grad_fn=<AddBackward0>)]\n"
     ]
    },
    {
     "name": "stdout",
     "output_type": "stream",
     "text": [
      "0.4545021175348197\n",
      "tensor(-59.3330, device='cuda:0', grad_fn=<NegBackward0>) [tensor(-29.2403, device='cuda:0', grad_fn=<NegBackward0>), tensor(-28.3314, device='cuda:0', grad_fn=<NegBackward0>), tensor(-4.8201, device='cuda:0', grad_fn=<AddBackward0>)]\n",
      "tensor(-59.4019, device='cuda:0', grad_fn=<NegBackward0>) [tensor(-29.2403, device='cuda:0', grad_fn=<NegBackward0>), tensor(-28.2971, device='cuda:0', grad_fn=<NegBackward0>), tensor(-5.4527, device='cuda:0', grad_fn=<AddBackward0>)]\n",
      "0.4699362895824925\n",
      "tensor(-59.8212, device='cuda:0', grad_fn=<NegBackward0>) [tensor(-29.3289, device='cuda:0', grad_fn=<NegBackward0>), tensor(-28.6132, device='cuda:0', grad_fn=<NegBackward0>), tensor(-5.5477, device='cuda:0', grad_fn=<AddBackward0>)]\n",
      "tensor(-59.7959, device='cuda:0', grad_fn=<NegBackward0>) [tensor(-29.3289, device='cuda:0', grad_fn=<NegBackward0>), tensor(-28.5831, device='cuda:0', grad_fn=<NegBackward0>), tensor(-5.5791, device='cuda:0', grad_fn=<AddBackward0>)]\n",
      "0.4516141480871292\n",
      "tensor(-60.3001, device='cuda:0', grad_fn=<NegBackward0>) [tensor(-29.6408, device='cuda:0', grad_fn=<NegBackward0>), tensor(-28.8845, device='cuda:0', grad_fn=<NegBackward0>), tensor(-4.8992, device='cuda:0', grad_fn=<AddBackward0>)]\n",
      "tensor(-60.2312, device='cuda:0', grad_fn=<NegBackward0>) [tensor(-29.6408, device='cuda:0', grad_fn=<NegBackward0>), tensor(-28.7108, device='cuda:0', grad_fn=<NegBackward0>), tensor(-5.5509, device='cuda:0', grad_fn=<AddBackward0>)]\n",
      "0.42776682948953926\n",
      "tensor(-60.1062, device='cuda:0', grad_fn=<NegBackward0>) [tensor(-29.5740, device='cuda:0', grad_fn=<NegBackward0>), tensor(-28.8057, device='cuda:0', grad_fn=<NegBackward0>), tensor(-4.6210, device='cuda:0', grad_fn=<AddBackward0>)]\n",
      "tensor(-60.3188, device='cuda:0', grad_fn=<NegBackward0>) [tensor(-29.5740, device='cuda:0', grad_fn=<NegBackward0>), tensor(-29.0634, device='cuda:0', grad_fn=<NegBackward0>), tensor(-4.3730, device='cuda:0', grad_fn=<AddBackward0>)]\n",
      "0.4553738952556769\n",
      "tensor(-61.4597, device='cuda:0', grad_fn=<NegBackward0>) [tensor(-30.2350, device='cuda:0', grad_fn=<NegBackward0>), tensor(-29.4261, device='cuda:0', grad_fn=<NegBackward0>), tensor(-5.0417, device='cuda:0', grad_fn=<AddBackward0>)]\n",
      "tensor(-61.4146, device='cuda:0', grad_fn=<NegBackward0>) [tensor(-30.2350, device='cuda:0', grad_fn=<NegBackward0>), tensor(-29.3934, device='cuda:0', grad_fn=<NegBackward0>), tensor(-4.9667, device='cuda:0', grad_fn=<AddBackward0>)]\n",
      "0.4184625442244911\n",
      "tensor(-62.1202, device='cuda:0', grad_fn=<NegBackward0>) [tensor(-30.5497, device='cuda:0', grad_fn=<NegBackward0>), tensor(-29.8284, device='cuda:0', grad_fn=<NegBackward0>), tensor(-4.7094, device='cuda:0', grad_fn=<AddBackward0>)]\n",
      "tensor(-62.1676, device='cuda:0', grad_fn=<NegBackward0>) [tensor(-30.5497, device='cuda:0', grad_fn=<NegBackward0>), tensor(-29.7956, device='cuda:0', grad_fn=<NegBackward0>), tensor(-5.1864, device='cuda:0', grad_fn=<AddBackward0>)]\n",
      "0.43893030239368497\n",
      "tensor(-62.4537, device='cuda:0', grad_fn=<NegBackward0>) [tensor(-30.7249, device='cuda:0', grad_fn=<NegBackward0>), tensor(-29.9798, device='cuda:0', grad_fn=<NegBackward0>), tensor(-4.7489, device='cuda:0', grad_fn=<AddBackward0>)]\n",
      "tensor(-62.5377, device='cuda:0', grad_fn=<NegBackward0>) [tensor(-30.7249, device='cuda:0', grad_fn=<NegBackward0>), tensor(-30.1026, device='cuda:0', grad_fn=<NegBackward0>), tensor(-4.5301, device='cuda:0', grad_fn=<AddBackward0>)]\n",
      "0.4057320008702529\n",
      "tensor(-63.3140, device='cuda:0', grad_fn=<NegBackward0>) [tensor(-31.1781, device='cuda:0', grad_fn=<NegBackward0>), tensor(-30.5060, device='cuda:0', grad_fn=<NegBackward0>), tensor(-4.1030, device='cuda:0', grad_fn=<AddBackward0>)]\n",
      "tensor(-63.1977, device='cuda:0', grad_fn=<NegBackward0>) [tensor(-31.1781, device='cuda:0', grad_fn=<NegBackward0>), tensor(-30.2831, device='cuda:0', grad_fn=<NegBackward0>), tensor(-4.6773, device='cuda:0', grad_fn=<AddBackward0>)]\n",
      "0.42598014296283504\n",
      "tensor(-62.9099, device='cuda:0', grad_fn=<NegBackward0>) [tensor(-31.0042, device='cuda:0', grad_fn=<NegBackward0>), tensor(-30.2797, device='cuda:0', grad_fn=<NegBackward0>), tensor(-4.0833, device='cuda:0', grad_fn=<AddBackward0>)]\n",
      "tensor(-63.0140, device='cuda:0', grad_fn=<NegBackward0>) [tensor(-31.0042, device='cuda:0', grad_fn=<NegBackward0>), tensor(-30.2373, device='cuda:0', grad_fn=<NegBackward0>), tensor(-4.8855, device='cuda:0', grad_fn=<AddBackward0>)]\n",
      "0.3918799154527211\n",
      "tensor(-63.4439, device='cuda:0', grad_fn=<NegBackward0>) [tensor(-31.3248, device='cuda:0', grad_fn=<NegBackward0>), tensor(-30.4611, device='cuda:0', grad_fn=<NegBackward0>), tensor(-4.2491, device='cuda:0', grad_fn=<AddBackward0>)]\n",
      "tensor(-63.5013, device='cuda:0', grad_fn=<NegBackward0>) [tensor(-31.3248, device='cuda:0', grad_fn=<NegBackward0>), tensor(-30.6514, device='cuda:0', grad_fn=<NegBackward0>), tensor(-3.5953, device='cuda:0', grad_fn=<AddBackward0>)]\n",
      "0.39079331087960656\n",
      "tensor(-63.6507, device='cuda:0', grad_fn=<NegBackward0>) [tensor(-31.3547, device='cuda:0', grad_fn=<NegBackward0>), tensor(-30.6966, device='cuda:0', grad_fn=<NegBackward0>), tensor(-3.9504, device='cuda:0', grad_fn=<AddBackward0>)]\n",
      "tensor(-63.5289, device='cuda:0', grad_fn=<NegBackward0>) [tensor(-31.3547, device='cuda:0', grad_fn=<NegBackward0>), tensor(-30.5869, device='cuda:0', grad_fn=<NegBackward0>), tensor(-3.8905, device='cuda:0', grad_fn=<AddBackward0>)]\n",
      "0.4145957914702556\n",
      "tensor(-63.8097, device='cuda:0', grad_fn=<NegBackward0>) [tensor(-31.4442, device='cuda:0', grad_fn=<NegBackward0>), tensor(-30.7375, device='cuda:0', grad_fn=<NegBackward0>), tensor(-4.0937, device='cuda:0', grad_fn=<AddBackward0>)]\n",
      "tensor(-63.6987, device='cuda:0', grad_fn=<NegBackward0>) [tensor(-31.4442, device='cuda:0', grad_fn=<NegBackward0>), tensor(-30.5601, device='cuda:0', grad_fn=<NegBackward0>), tensor(-4.4433, device='cuda:0', grad_fn=<AddBackward0>)]\n",
      "0.39805817042443514\n",
      "tensor(-64.0004, device='cuda:0', grad_fn=<NegBackward0>) [tensor(-31.7001, device='cuda:0', grad_fn=<NegBackward0>), tensor(-30.6742, device='cuda:0', grad_fn=<NegBackward0>), tensor(-4.0837, device='cuda:0', grad_fn=<AddBackward0>)]\n",
      "tensor(-64.4250, device='cuda:0', grad_fn=<NegBackward0>) [tensor(-31.7001, device='cuda:0', grad_fn=<NegBackward0>), tensor(-31.1477, device='cuda:0', grad_fn=<NegBackward0>), tensor(-3.8418, device='cuda:0', grad_fn=<AddBackward0>)]\n",
      "0.39461212866724066\n",
      "tensor(-64.4950, device='cuda:0', grad_fn=<NegBackward0>) [tensor(-31.8102, device='cuda:0', grad_fn=<NegBackward0>), tensor(-31.2015, device='cuda:0', grad_fn=<NegBackward0>), tensor(-3.4078, device='cuda:0', grad_fn=<AddBackward0>)]\n",
      "tensor(-64.5061, device='cuda:0', grad_fn=<NegBackward0>) [tensor(-31.8102, device='cuda:0', grad_fn=<NegBackward0>), tensor(-31.1732, device='cuda:0', grad_fn=<NegBackward0>), tensor(-3.5849, device='cuda:0', grad_fn=<AddBackward0>)]\n",
      "0.4076347297570485\n",
      "tensor(-64.7363, device='cuda:0', grad_fn=<NegBackward0>) [tensor(-31.9108, device='cuda:0', grad_fn=<NegBackward0>), tensor(-31.2647, device='cuda:0', grad_fn=<NegBackward0>), tensor(-3.7630, device='cuda:0', grad_fn=<AddBackward0>)]\n",
      "tensor(-64.6413, device='cuda:0', grad_fn=<NegBackward0>) [tensor(-31.9108, device='cuda:0', grad_fn=<NegBackward0>), tensor(-31.1029, device='cuda:0', grad_fn=<NegBackward0>), tensor(-4.0916, device='cuda:0', grad_fn=<AddBackward0>)]\n",
      "0.4146719927776218\n",
      "tensor(-64.8359, device='cuda:0', grad_fn=<NegBackward0>) [tensor(-32.0995, device='cuda:0', grad_fn=<NegBackward0>), tensor(-31.1262, device='cuda:0', grad_fn=<NegBackward0>), tensor(-4.0042, device='cuda:0', grad_fn=<AddBackward0>)]\n",
      "tensor(-64.9915, device='cuda:0', grad_fn=<NegBackward0>) [tensor(-32.0995, device='cuda:0', grad_fn=<NegBackward0>), tensor(-31.2504, device='cuda:0', grad_fn=<NegBackward0>), tensor(-4.1635, device='cuda:0', grad_fn=<AddBackward0>)]\n",
      "0.40480043465208976\n",
      "tensor(-66.0942, device='cuda:0', grad_fn=<NegBackward0>) [tensor(-32.5478, device='cuda:0', grad_fn=<NegBackward0>), tensor(-31.9146, device='cuda:0', grad_fn=<NegBackward0>), tensor(-4.1137, device='cuda:0', grad_fn=<AddBackward0>)]\n",
      "tensor(-66.0322, device='cuda:0', grad_fn=<NegBackward0>) [tensor(-32.5478, device='cuda:0', grad_fn=<NegBackward0>), tensor(-31.8140, device='cuda:0', grad_fn=<NegBackward0>), tensor(-4.3145, device='cuda:0', grad_fn=<AddBackward0>)]\n"
     ]
    },
    {
     "name": "stdout",
     "output_type": "stream",
     "text": [
      "0.36256915815758994\n",
      "tensor(-66.5327, device='cuda:0', grad_fn=<NegBackward0>) [tensor(-32.8749, device='cuda:0', grad_fn=<NegBackward0>), tensor(-32.1728, device='cuda:0', grad_fn=<NegBackward0>), tensor(-3.4146, device='cuda:0', grad_fn=<AddBackward0>)]\n",
      "tensor(-66.5614, device='cuda:0', grad_fn=<NegBackward0>) [tensor(-32.8749, device='cuda:0', grad_fn=<NegBackward0>), tensor(-32.2379, device='cuda:0', grad_fn=<NegBackward0>), tensor(-3.2569, device='cuda:0', grad_fn=<AddBackward0>)]\n",
      "0.39563920098397165\n",
      "tensor(-66.5403, device='cuda:0', grad_fn=<NegBackward0>) [tensor(-32.8607, device='cuda:0', grad_fn=<NegBackward0>), tensor(-32.1640, device='cuda:0', grad_fn=<NegBackward0>), tensor(-3.5520, device='cuda:0', grad_fn=<AddBackward0>)]\n",
      "tensor(-66.4614, device='cuda:0', grad_fn=<NegBackward0>) [tensor(-32.8607, device='cuda:0', grad_fn=<NegBackward0>), tensor(-32.0428, device='cuda:0', grad_fn=<NegBackward0>), tensor(-3.7486, device='cuda:0', grad_fn=<AddBackward0>)]\n",
      "0.4005445366520736\n",
      "tensor(-66.5337, device='cuda:0', grad_fn=<NegBackward0>) [tensor(-32.8878, device='cuda:0', grad_fn=<NegBackward0>), tensor(-32.1483, device='cuda:0', grad_fn=<NegBackward0>), tensor(-3.4710, device='cuda:0', grad_fn=<AddBackward0>)]\n",
      "tensor(-66.6096, device='cuda:0', grad_fn=<NegBackward0>) [tensor(-32.8878, device='cuda:0', grad_fn=<NegBackward0>), tensor(-32.1191, device='cuda:0', grad_fn=<NegBackward0>), tensor(-3.9662, device='cuda:0', grad_fn=<AddBackward0>)]\n",
      "0.4152908032998343\n",
      "tensor(-66.7307, device='cuda:0', grad_fn=<NegBackward0>) [tensor(-32.9327, device='cuda:0', grad_fn=<NegBackward0>), tensor(-32.2074, device='cuda:0', grad_fn=<NegBackward0>), tensor(-3.9064, device='cuda:0', grad_fn=<AddBackward0>)]\n",
      "tensor(-66.6645, device='cuda:0', grad_fn=<NegBackward0>) [tensor(-32.9327, device='cuda:0', grad_fn=<NegBackward0>), tensor(-32.1259, device='cuda:0', grad_fn=<NegBackward0>), tensor(-3.9822, device='cuda:0', grad_fn=<AddBackward0>)]\n",
      "0.42596644311155907\n",
      "tensor(-67.6997, device='cuda:0', grad_fn=<NegBackward0>) [tensor(-33.3571, device='cuda:0', grad_fn=<NegBackward0>), tensor(-32.7402, device='cuda:0', grad_fn=<NegBackward0>), tensor(-3.9650, device='cuda:0', grad_fn=<AddBackward0>)]\n",
      "tensor(-67.4647, device='cuda:0', grad_fn=<NegBackward0>) [tensor(-33.3571, device='cuda:0', grad_fn=<NegBackward0>), tensor(-32.5045, device='cuda:0', grad_fn=<NegBackward0>), tensor(-3.9687, device='cuda:0', grad_fn=<AddBackward0>)]\n",
      "0.3887821735929412\n",
      "tensor(-67.5257, device='cuda:0', grad_fn=<NegBackward0>) [tensor(-33.3187, device='cuda:0', grad_fn=<NegBackward0>), tensor(-32.7591, device='cuda:0', grad_fn=<NegBackward0>), tensor(-3.2539, device='cuda:0', grad_fn=<AddBackward0>)]\n",
      "tensor(-67.3254, device='cuda:0', grad_fn=<NegBackward0>) [tensor(-33.3187, device='cuda:0', grad_fn=<NegBackward0>), tensor(-32.5078, device='cuda:0', grad_fn=<NegBackward0>), tensor(-3.4764, device='cuda:0', grad_fn=<AddBackward0>)]\n",
      "0.40843542445821646\n",
      "tensor(-67.8918, device='cuda:0', grad_fn=<NegBackward0>) [tensor(-33.5188, device='cuda:0', grad_fn=<NegBackward0>), tensor(-32.7463, device='cuda:0', grad_fn=<NegBackward0>), tensor(-4.0870, device='cuda:0', grad_fn=<AddBackward0>)]\n",
      "tensor(-67.7891, device='cuda:0', grad_fn=<NegBackward0>) [tensor(-33.5188, device='cuda:0', grad_fn=<NegBackward0>), tensor(-32.6489, device='cuda:0', grad_fn=<NegBackward0>), tensor(-4.0602, device='cuda:0', grad_fn=<AddBackward0>)]\n",
      "0.3962123506016544\n",
      "tensor(-68.0658, device='cuda:0', grad_fn=<NegBackward0>) [tensor(-33.5970, device='cuda:0', grad_fn=<NegBackward0>), tensor(-33.0049, device='cuda:0', grad_fn=<NegBackward0>), tensor(-3.3228, device='cuda:0', grad_fn=<AddBackward0>)]\n",
      "tensor(-68.0832, device='cuda:0', grad_fn=<NegBackward0>) [tensor(-33.5970, device='cuda:0', grad_fn=<NegBackward0>), tensor(-32.9384, device='cuda:0', grad_fn=<NegBackward0>), tensor(-3.7017, device='cuda:0', grad_fn=<AddBackward0>)]\n",
      "0.3740116502657198\n",
      "tensor(-68.5827, device='cuda:0', grad_fn=<NegBackward0>) [tensor(-33.9943, device='cuda:0', grad_fn=<NegBackward0>), tensor(-33.0927, device='cuda:0', grad_fn=<NegBackward0>), tensor(-3.4621, device='cuda:0', grad_fn=<AddBackward0>)]\n",
      "tensor(-68.6654, device='cuda:0', grad_fn=<NegBackward0>) [tensor(-33.9943, device='cuda:0', grad_fn=<NegBackward0>), tensor(-33.2337, device='cuda:0', grad_fn=<NegBackward0>), tensor(-3.2097, device='cuda:0', grad_fn=<AddBackward0>)]\n",
      "0.3718161892464142\n",
      "tensor(-68.3418, device='cuda:0', grad_fn=<NegBackward0>) [tensor(-33.7334, device='cuda:0', grad_fn=<NegBackward0>), tensor(-33.2048, device='cuda:0', grad_fn=<NegBackward0>), tensor(-3.0699, device='cuda:0', grad_fn=<AddBackward0>)]\n",
      "tensor(-68.2930, device='cuda:0', grad_fn=<NegBackward0>) [tensor(-33.7334, device='cuda:0', grad_fn=<NegBackward0>), tensor(-33.0950, device='cuda:0', grad_fn=<NegBackward0>), tensor(-3.3260, device='cuda:0', grad_fn=<AddBackward0>)]\n",
      "0.3958617695854239\n",
      "tensor(-68.5579, device='cuda:0', grad_fn=<NegBackward0>) [tensor(-33.9283, device='cuda:0', grad_fn=<NegBackward0>), tensor(-33.0660, device='cuda:0', grad_fn=<NegBackward0>), tensor(-3.7762, device='cuda:0', grad_fn=<AddBackward0>)]\n",
      "tensor(-68.4409, device='cuda:0', grad_fn=<NegBackward0>) [tensor(-33.9283, device='cuda:0', grad_fn=<NegBackward0>), tensor(-32.9165, device='cuda:0', grad_fn=<NegBackward0>), tensor(-3.9339, device='cuda:0', grad_fn=<AddBackward0>)]\n",
      "0.3452268336697466\n",
      "tensor(-68.9852, device='cuda:0', grad_fn=<NegBackward0>) [tensor(-34.1606, device='cuda:0', grad_fn=<NegBackward0>), tensor(-33.5314, device='cuda:0', grad_fn=<NegBackward0>), tensor(-2.6444, device='cuda:0', grad_fn=<AddBackward0>)]\n",
      "tensor(-69.0024, device='cuda:0', grad_fn=<NegBackward0>) [tensor(-34.1606, device='cuda:0', grad_fn=<NegBackward0>), tensor(-33.5405, device='cuda:0', grad_fn=<NegBackward0>), tensor(-2.6741, device='cuda:0', grad_fn=<AddBackward0>)]\n",
      "0.3678285763165899\n",
      "tensor(-69.2277, device='cuda:0', grad_fn=<NegBackward0>) [tensor(-34.1902, device='cuda:0', grad_fn=<NegBackward0>), tensor(-33.5759, device='cuda:0', grad_fn=<NegBackward0>), tensor(-3.3129, device='cuda:0', grad_fn=<AddBackward0>)]\n",
      "tensor(-69.1073, device='cuda:0', grad_fn=<NegBackward0>) [tensor(-34.1902, device='cuda:0', grad_fn=<NegBackward0>), tensor(-33.4924, device='cuda:0', grad_fn=<NegBackward0>), tensor(-3.1568, device='cuda:0', grad_fn=<AddBackward0>)]\n",
      "0.36072135418913087\n",
      "tensor(-70.0371, device='cuda:0', grad_fn=<NegBackward0>) [tensor(-34.6905, device='cuda:0', grad_fn=<NegBackward0>), tensor(-33.9719, device='cuda:0', grad_fn=<NegBackward0>), tensor(-2.9543, device='cuda:0', grad_fn=<AddBackward0>)]\n",
      "tensor(-69.9785, device='cuda:0', grad_fn=<NegBackward0>) [tensor(-34.6905, device='cuda:0', grad_fn=<NegBackward0>), tensor(-33.8973, device='cuda:0', grad_fn=<NegBackward0>), tensor(-3.0178, device='cuda:0', grad_fn=<AddBackward0>)]\n",
      "0.3861153326722526\n",
      "tensor(-69.9859, device='cuda:0', grad_fn=<NegBackward0>) [tensor(-34.6410, device='cuda:0', grad_fn=<NegBackward0>), tensor(-33.8720, device='cuda:0', grad_fn=<NegBackward0>), tensor(-3.3618, device='cuda:0', grad_fn=<AddBackward0>)]\n",
      "tensor(-70.0125, device='cuda:0', grad_fn=<NegBackward0>) [tensor(-34.6410, device='cuda:0', grad_fn=<NegBackward0>), tensor(-33.8451, device='cuda:0', grad_fn=<NegBackward0>), tensor(-3.6016, device='cuda:0', grad_fn=<AddBackward0>)]\n",
      "0.3698762760171247\n",
      "tensor(-70.2870, device='cuda:0', grad_fn=<NegBackward0>) [tensor(-34.8753, device='cuda:0', grad_fn=<NegBackward0>), tensor(-33.9853, device='cuda:0', grad_fn=<NegBackward0>), tensor(-3.1639, device='cuda:0', grad_fn=<AddBackward0>)]\n",
      "tensor(-70.4930, device='cuda:0', grad_fn=<NegBackward0>) [tensor(-34.8753, device='cuda:0', grad_fn=<NegBackward0>), tensor(-34.1268, device='cuda:0', grad_fn=<NegBackward0>), tensor(-3.4413, device='cuda:0', grad_fn=<AddBackward0>)]\n",
      "0.3383637358102367\n",
      "tensor(-70.6515, device='cuda:0', grad_fn=<NegBackward0>) [tensor(-34.9520, device='cuda:0', grad_fn=<NegBackward0>), tensor(-34.3938, device='cuda:0', grad_fn=<NegBackward0>), tensor(-2.6902, device='cuda:0', grad_fn=<AddBackward0>)]\n",
      "tensor(-70.8115, device='cuda:0', grad_fn=<NegBackward0>) [tensor(-34.9520, device='cuda:0', grad_fn=<NegBackward0>), tensor(-34.5716, device='cuda:0', grad_fn=<NegBackward0>), tensor(-2.6249, device='cuda:0', grad_fn=<AddBackward0>)]\n"
     ]
    },
    {
     "name": "stdout",
     "output_type": "stream",
     "text": [
      "0.35804688666235607\n",
      "tensor(-70.2735, device='cuda:0', grad_fn=<NegBackward0>) [tensor(-34.8547, device='cuda:0', grad_fn=<NegBackward0>), tensor(-34.0961, device='cuda:0', grad_fn=<NegBackward0>), tensor(-2.7537, device='cuda:0', grad_fn=<AddBackward0>)]\n",
      "tensor(-70.2929, device='cuda:0', grad_fn=<NegBackward0>) [tensor(-34.8547, device='cuda:0', grad_fn=<NegBackward0>), tensor(-33.9978, device='cuda:0', grad_fn=<NegBackward0>), tensor(-3.2225, device='cuda:0', grad_fn=<AddBackward0>)]\n",
      "0.34560747628517147\n",
      "tensor(-70.6501, device='cuda:0', grad_fn=<NegBackward0>) [tensor(-35.0053, device='cuda:0', grad_fn=<NegBackward0>), tensor(-34.3439, device='cuda:0', grad_fn=<NegBackward0>), tensor(-2.6729, device='cuda:0', grad_fn=<AddBackward0>)]\n",
      "tensor(-70.7207, device='cuda:0', grad_fn=<NegBackward0>) [tensor(-35.0053, device='cuda:0', grad_fn=<NegBackward0>), tensor(-34.4571, device='cuda:0', grad_fn=<NegBackward0>), tensor(-2.5197, device='cuda:0', grad_fn=<AddBackward0>)]\n",
      "0.30946312996025027\n",
      "tensor(-70.4365, device='cuda:0', grad_fn=<NegBackward0>) [tensor(-34.9273, device='cuda:0', grad_fn=<NegBackward0>), tensor(-34.3283, device='cuda:0', grad_fn=<NegBackward0>), tensor(-2.2574, device='cuda:0', grad_fn=<AddBackward0>)]\n",
      "tensor(-70.5801, device='cuda:0', grad_fn=<NegBackward0>) [tensor(-34.9273, device='cuda:0', grad_fn=<NegBackward0>), tensor(-34.5116, device='cuda:0', grad_fn=<NegBackward0>), tensor(-2.1304, device='cuda:0', grad_fn=<AddBackward0>)]\n",
      "0.3895136600259259\n",
      "tensor(-70.9814, device='cuda:0', grad_fn=<NegBackward0>) [tensor(-35.0755, device='cuda:0', grad_fn=<NegBackward0>), tensor(-34.4287, device='cuda:0', grad_fn=<NegBackward0>), tensor(-3.3805, device='cuda:0', grad_fn=<AddBackward0>)]\n",
      "tensor(-70.5451, device='cuda:0', grad_fn=<NegBackward0>) [tensor(-35.0755, device='cuda:0', grad_fn=<NegBackward0>), tensor(-33.9580, device='cuda:0', grad_fn=<NegBackward0>), tensor(-3.5342, device='cuda:0', grad_fn=<AddBackward0>)]\n",
      "0.38591328564811844\n",
      "tensor(-70.3208, device='cuda:0', grad_fn=<NegBackward0>) [tensor(-34.9668, device='cuda:0', grad_fn=<NegBackward0>), tensor(-33.8660, device='cuda:0', grad_fn=<NegBackward0>), tensor(-3.4285, device='cuda:0', grad_fn=<AddBackward0>)]\n",
      "tensor(-70.4948, device='cuda:0', grad_fn=<NegBackward0>) [tensor(-34.9668, device='cuda:0', grad_fn=<NegBackward0>), tensor(-34.0592, device='cuda:0', grad_fn=<NegBackward0>), tensor(-3.3443, device='cuda:0', grad_fn=<AddBackward0>)]\n",
      "0.3902850260456094\n",
      "tensor(-70.5637, device='cuda:0', grad_fn=<NegBackward0>) [tensor(-34.9766, device='cuda:0', grad_fn=<NegBackward0>), tensor(-34.0631, device='cuda:0', grad_fn=<NegBackward0>), tensor(-3.5903, device='cuda:0', grad_fn=<AddBackward0>)]\n",
      "tensor(-70.5759, device='cuda:0', grad_fn=<NegBackward0>) [tensor(-34.9766, device='cuda:0', grad_fn=<NegBackward0>), tensor(-34.1773, device='cuda:0', grad_fn=<NegBackward0>), tensor(-3.1451, device='cuda:0', grad_fn=<AddBackward0>)]\n",
      "0.4039220606906163\n",
      "tensor(-71.8951, device='cuda:0', grad_fn=<NegBackward0>) [tensor(-35.6519, device='cuda:0', grad_fn=<NegBackward0>), tensor(-34.7594, device='cuda:0', grad_fn=<NegBackward0>), tensor(-3.4099, device='cuda:0', grad_fn=<AddBackward0>)]\n",
      "tensor(-71.9151, device='cuda:0', grad_fn=<NegBackward0>) [tensor(-35.6519, device='cuda:0', grad_fn=<NegBackward0>), tensor(-34.7640, device='cuda:0', grad_fn=<NegBackward0>), tensor(-3.4779, device='cuda:0', grad_fn=<AddBackward0>)]\n",
      "0.3746632805982473\n",
      "tensor(-72.4756, device='cuda:0', grad_fn=<NegBackward0>) [tensor(-35.9652, device='cuda:0', grad_fn=<NegBackward0>), tensor(-35.0790, device='cuda:0', grad_fn=<NegBackward0>), tensor(-3.1844, device='cuda:0', grad_fn=<AddBackward0>)]\n",
      "tensor(-72.5011, device='cuda:0', grad_fn=<NegBackward0>) [tensor(-35.9652, device='cuda:0', grad_fn=<NegBackward0>), tensor(-35.1820, device='cuda:0', grad_fn=<NegBackward0>), tensor(-2.8724, device='cuda:0', grad_fn=<AddBackward0>)]\n",
      "0.3571697336297538\n",
      "tensor(-72.7945, device='cuda:0', grad_fn=<NegBackward0>) [tensor(-36.0911, device='cuda:0', grad_fn=<NegBackward0>), tensor(-35.3507, device='cuda:0', grad_fn=<NegBackward0>), tensor(-2.8679, device='cuda:0', grad_fn=<AddBackward0>)]\n",
      "tensor(-72.8311, device='cuda:0', grad_fn=<NegBackward0>) [tensor(-36.0911, device='cuda:0', grad_fn=<NegBackward0>), tensor(-35.3816, device='cuda:0', grad_fn=<NegBackward0>), tensor(-2.8898, device='cuda:0', grad_fn=<AddBackward0>)]\n",
      "0.33758352775196715\n",
      "tensor(-73.0896, device='cuda:0', grad_fn=<NegBackward0>) [tensor(-36.1797, device='cuda:0', grad_fn=<NegBackward0>), tensor(-35.6378, device='cuda:0', grad_fn=<NegBackward0>), tensor(-2.5683, device='cuda:0', grad_fn=<AddBackward0>)]\n",
      "tensor(-72.9484, device='cuda:0', grad_fn=<NegBackward0>) [tensor(-36.1797, device='cuda:0', grad_fn=<NegBackward0>), tensor(-35.5844, device='cuda:0', grad_fn=<NegBackward0>), tensor(-2.2687, device='cuda:0', grad_fn=<AddBackward0>)]\n",
      "0.35226217842310936\n",
      "tensor(-73.0914, device='cuda:0', grad_fn=<NegBackward0>) [tensor(-36.2689, device='cuda:0', grad_fn=<NegBackward0>), tensor(-35.5003, device='cuda:0', grad_fn=<NegBackward0>), tensor(-2.7519, device='cuda:0', grad_fn=<AddBackward0>)]\n",
      "tensor(-73.2207, device='cuda:0', grad_fn=<NegBackward0>) [tensor(-36.2689, device='cuda:0', grad_fn=<NegBackward0>), tensor(-35.5729, device='cuda:0', grad_fn=<NegBackward0>), tensor(-2.9706, device='cuda:0', grad_fn=<AddBackward0>)]\n",
      "0.3400623540028176\n",
      "tensor(-73.3266, device='cuda:0', grad_fn=<NegBackward0>) [tensor(-36.3522, device='cuda:0', grad_fn=<NegBackward0>), tensor(-35.7276, device='cuda:0', grad_fn=<NegBackward0>), tensor(-2.4792, device='cuda:0', grad_fn=<AddBackward0>)]\n",
      "tensor(-73.3060, device='cuda:0', grad_fn=<NegBackward0>) [tensor(-36.3522, device='cuda:0', grad_fn=<NegBackward0>), tensor(-35.6475, device='cuda:0', grad_fn=<NegBackward0>), tensor(-2.6924, device='cuda:0', grad_fn=<AddBackward0>)]\n",
      "0.3582743798760727\n",
      "tensor(-73.2467, device='cuda:0', grad_fn=<NegBackward0>) [tensor(-36.3196, device='cuda:0', grad_fn=<NegBackward0>), tensor(-35.5908, device='cuda:0', grad_fn=<NegBackward0>), tensor(-2.8049, device='cuda:0', grad_fn=<AddBackward0>)]\n",
      "tensor(-73.2938, device='cuda:0', grad_fn=<NegBackward0>) [tensor(-36.3196, device='cuda:0', grad_fn=<NegBackward0>), tensor(-35.7242, device='cuda:0', grad_fn=<NegBackward0>), tensor(-2.4904, device='cuda:0', grad_fn=<AddBackward0>)]\n",
      "0.35914319498388964\n",
      "tensor(-73.5597, device='cuda:0', grad_fn=<NegBackward0>) [tensor(-36.5283, device='cuda:0', grad_fn=<NegBackward0>), tensor(-35.6885, device='cuda:0', grad_fn=<NegBackward0>), tensor(-2.8302, device='cuda:0', grad_fn=<AddBackward0>)]\n",
      "tensor(-73.5877, device='cuda:0', grad_fn=<NegBackward0>) [tensor(-36.5283, device='cuda:0', grad_fn=<NegBackward0>), tensor(-35.7085, device='cuda:0', grad_fn=<NegBackward0>), tensor(-2.8611, device='cuda:0', grad_fn=<AddBackward0>)]\n",
      "0.3486912207078123\n",
      "tensor(-74.0779, device='cuda:0', grad_fn=<NegBackward0>) [tensor(-36.7679, device='cuda:0', grad_fn=<NegBackward0>), tensor(-36.0104, device='cuda:0', grad_fn=<NegBackward0>), tensor(-2.6679, device='cuda:0', grad_fn=<AddBackward0>)]\n",
      "tensor(-74.1420, device='cuda:0', grad_fn=<NegBackward0>) [tensor(-36.7679, device='cuda:0', grad_fn=<NegBackward0>), tensor(-36.0322, device='cuda:0', grad_fn=<NegBackward0>), tensor(-2.8263, device='cuda:0', grad_fn=<AddBackward0>)]\n",
      "0.34353681586621654\n",
      "tensor(-74.8204, device='cuda:0', grad_fn=<NegBackward0>) [tensor(-37.0241, device='cuda:0', grad_fn=<NegBackward0>), tensor(-36.5115, device='cuda:0', grad_fn=<NegBackward0>), tensor(-2.6139, device='cuda:0', grad_fn=<AddBackward0>)]\n",
      "tensor(-74.8192, device='cuda:0', grad_fn=<NegBackward0>) [tensor(-37.0241, device='cuda:0', grad_fn=<NegBackward0>), tensor(-36.4919, device='cuda:0', grad_fn=<NegBackward0>), tensor(-2.6813, device='cuda:0', grad_fn=<AddBackward0>)]\n",
      "0.339656088577428\n",
      "tensor(-74.1835, device='cuda:0', grad_fn=<NegBackward0>) [tensor(-36.8111, device='cuda:0', grad_fn=<NegBackward0>), tensor(-36.0679, device='cuda:0', grad_fn=<NegBackward0>), tensor(-2.6857, device='cuda:0', grad_fn=<AddBackward0>)]\n",
      "tensor(-74.1701, device='cuda:0', grad_fn=<NegBackward0>) [tensor(-36.8111, device='cuda:0', grad_fn=<NegBackward0>), tensor(-36.0641, device='cuda:0', grad_fn=<NegBackward0>), tensor(-2.6503, device='cuda:0', grad_fn=<AddBackward0>)]\n"
     ]
    },
    {
     "name": "stdout",
     "output_type": "stream",
     "text": [
      "0.351584530713195\n",
      "tensor(-74.3323, device='cuda:0', grad_fn=<NegBackward0>) [tensor(-36.9128, device='cuda:0', grad_fn=<NegBackward0>), tensor(-36.1237, device='cuda:0', grad_fn=<NegBackward0>), tensor(-2.6537, device='cuda:0', grad_fn=<AddBackward0>)]\n",
      "tensor(-74.3914, device='cuda:0', grad_fn=<NegBackward0>) [tensor(-36.9128, device='cuda:0', grad_fn=<NegBackward0>), tensor(-36.2018, device='cuda:0', grad_fn=<NegBackward0>), tensor(-2.5851, device='cuda:0', grad_fn=<AddBackward0>)]\n",
      "0.3673051726131755\n",
      "tensor(-74.8396, device='cuda:0', grad_fn=<NegBackward0>) [tensor(-37.1564, device='cuda:0', grad_fn=<NegBackward0>), tensor(-36.3714, device='cuda:0', grad_fn=<NegBackward0>), tensor(-2.7127, device='cuda:0', grad_fn=<AddBackward0>)]\n",
      "tensor(-74.7813, device='cuda:0', grad_fn=<NegBackward0>) [tensor(-37.1564, device='cuda:0', grad_fn=<NegBackward0>), tensor(-36.2143, device='cuda:0', grad_fn=<NegBackward0>), tensor(-3.0982, device='cuda:0', grad_fn=<AddBackward0>)]\n",
      "0.3661251027899944\n",
      "tensor(-74.6539, device='cuda:0', grad_fn=<NegBackward0>) [tensor(-37.0499, device='cuda:0', grad_fn=<NegBackward0>), tensor(-36.2437, device='cuda:0', grad_fn=<NegBackward0>), tensor(-2.8971, device='cuda:0', grad_fn=<AddBackward0>)]\n",
      "tensor(-74.5167, device='cuda:0', grad_fn=<NegBackward0>) [tensor(-37.0499, device='cuda:0', grad_fn=<NegBackward0>), tensor(-36.0425, device='cuda:0', grad_fn=<NegBackward0>), tensor(-3.1550, device='cuda:0', grad_fn=<AddBackward0>)]\n",
      "0.354772138200823\n",
      "tensor(-74.7883, device='cuda:0', grad_fn=<NegBackward0>) [tensor(-37.1749, device='cuda:0', grad_fn=<NegBackward0>), tensor(-36.2518, device='cuda:0', grad_fn=<NegBackward0>), tensor(-2.9025, device='cuda:0', grad_fn=<AddBackward0>)]\n",
      "tensor(-74.8820, device='cuda:0', grad_fn=<NegBackward0>) [tensor(-37.1749, device='cuda:0', grad_fn=<NegBackward0>), tensor(-36.4103, device='cuda:0', grad_fn=<NegBackward0>), tensor(-2.6574, device='cuda:0', grad_fn=<AddBackward0>)]\n",
      "0.36093904247142505\n",
      "tensor(-75.6396, device='cuda:0', grad_fn=<NegBackward0>) [tensor(-37.5007, device='cuda:0', grad_fn=<NegBackward0>), tensor(-36.8252, device='cuda:0', grad_fn=<NegBackward0>), tensor(-2.7200, device='cuda:0', grad_fn=<AddBackward0>)]\n",
      "tensor(-75.5878, device='cuda:0', grad_fn=<NegBackward0>) [tensor(-37.5007, device='cuda:0', grad_fn=<NegBackward0>), tensor(-36.7690, device='cuda:0', grad_fn=<NegBackward0>), tensor(-2.7365, device='cuda:0', grad_fn=<AddBackward0>)]\n",
      "0.3534054506974452\n",
      "tensor(-76.1362, device='cuda:0', grad_fn=<NegBackward0>) [tensor(-37.6967, device='cuda:0', grad_fn=<NegBackward0>), tensor(-37.1459, device='cuda:0', grad_fn=<NegBackward0>), tensor(-2.6460, device='cuda:0', grad_fn=<AddBackward0>)]\n",
      "tensor(-76.0036, device='cuda:0', grad_fn=<NegBackward0>) [tensor(-37.6967, device='cuda:0', grad_fn=<NegBackward0>), tensor(-36.9905, device='cuda:0', grad_fn=<NegBackward0>), tensor(-2.7298, device='cuda:0', grad_fn=<AddBackward0>)]\n",
      "0.36538910529259805\n",
      "tensor(-75.6941, device='cuda:0', grad_fn=<NegBackward0>) [tensor(-37.6006, device='cuda:0', grad_fn=<NegBackward0>), tensor(-36.7144, device='cuda:0', grad_fn=<NegBackward0>), tensor(-2.9714, device='cuda:0', grad_fn=<AddBackward0>)]\n",
      "tensor(-75.7487, device='cuda:0', grad_fn=<NegBackward0>) [tensor(-37.6006, device='cuda:0', grad_fn=<NegBackward0>), tensor(-36.7836, device='cuda:0', grad_fn=<NegBackward0>), tensor(-2.9138, device='cuda:0', grad_fn=<AddBackward0>)]\n",
      "0.31087680277629676\n",
      "tensor(-76.1348, device='cuda:0', grad_fn=<NegBackward0>) [tensor(-37.8080, device='cuda:0', grad_fn=<NegBackward0>), tensor(-37.2431, device='cuda:0', grad_fn=<NegBackward0>), tensor(-1.9555, device='cuda:0', grad_fn=<AddBackward0>)]\n",
      "tensor(-76.2074, device='cuda:0', grad_fn=<NegBackward0>) [tensor(-37.8080, device='cuda:0', grad_fn=<NegBackward0>), tensor(-37.2697, device='cuda:0', grad_fn=<NegBackward0>), tensor(-2.0949, device='cuda:0', grad_fn=<AddBackward0>)]\n",
      "0.33429027333399125\n",
      "tensor(-76.0352, device='cuda:0', grad_fn=<NegBackward0>) [tensor(-37.7097, device='cuda:0', grad_fn=<NegBackward0>), tensor(-37.0964, device='cuda:0', grad_fn=<NegBackward0>), tensor(-2.4182, device='cuda:0', grad_fn=<AddBackward0>)]\n",
      "tensor(-75.8524, device='cuda:0', grad_fn=<NegBackward0>) [tensor(-37.7097, device='cuda:0', grad_fn=<NegBackward0>), tensor(-36.8725, device='cuda:0', grad_fn=<NegBackward0>), tensor(-2.5614, device='cuda:0', grad_fn=<AddBackward0>)]\n",
      "0.2942837334198234\n",
      "tensor(-76.5141, device='cuda:0', grad_fn=<NegBackward0>) [tensor(-37.9376, device='cuda:0', grad_fn=<NegBackward0>), tensor(-37.5370, device='cuda:0', grad_fn=<NegBackward0>), tensor(-1.8279, device='cuda:0', grad_fn=<AddBackward0>)]\n",
      "tensor(-76.3345, device='cuda:0', grad_fn=<NegBackward0>) [tensor(-37.9376, device='cuda:0', grad_fn=<NegBackward0>), tensor(-37.4085, device='cuda:0', grad_fn=<NegBackward0>), tensor(-1.6869, device='cuda:0', grad_fn=<AddBackward0>)]\n",
      "0.33118944920106114\n",
      "tensor(-76.2426, device='cuda:0', grad_fn=<NegBackward0>) [tensor(-37.8987, device='cuda:0', grad_fn=<NegBackward0>), tensor(-37.1573, device='cuda:0', grad_fn=<NegBackward0>), tensor(-2.2757, device='cuda:0', grad_fn=<AddBackward0>)]\n",
      "tensor(-76.3549, device='cuda:0', grad_fn=<NegBackward0>) [tensor(-37.8987, device='cuda:0', grad_fn=<NegBackward0>), tensor(-37.1907, device='cuda:0', grad_fn=<NegBackward0>), tensor(-2.5448, device='cuda:0', grad_fn=<AddBackward0>)]\n",
      "0.34667839181330323\n",
      "tensor(-76.7830, device='cuda:0', grad_fn=<NegBackward0>) [tensor(-38.0876, device='cuda:0', grad_fn=<NegBackward0>), tensor(-37.4607, device='cuda:0', grad_fn=<NegBackward0>), tensor(-2.4374, device='cuda:0', grad_fn=<AddBackward0>)]\n",
      "tensor(-76.6508, device='cuda:0', grad_fn=<NegBackward0>) [tensor(-38.0876, device='cuda:0', grad_fn=<NegBackward0>), tensor(-37.2867, device='cuda:0', grad_fn=<NegBackward0>), tensor(-2.5840, device='cuda:0', grad_fn=<AddBackward0>)]\n",
      "0.32580103550016587\n",
      "tensor(-76.6694, device='cuda:0', grad_fn=<NegBackward0>) [tensor(-38.0697, device='cuda:0', grad_fn=<NegBackward0>), tensor(-37.3425, device='cuda:0', grad_fn=<NegBackward0>), tensor(-2.5156, device='cuda:0', grad_fn=<AddBackward0>)]\n",
      "tensor(-76.7134, device='cuda:0', grad_fn=<NegBackward0>) [tensor(-38.0697, device='cuda:0', grad_fn=<NegBackward0>), tensor(-37.4882, device='cuda:0', grad_fn=<NegBackward0>), tensor(-2.1757, device='cuda:0', grad_fn=<AddBackward0>)]\n",
      "0.3333895825675659\n",
      "tensor(-77.3389, device='cuda:0', grad_fn=<NegBackward0>) [tensor(-38.3791, device='cuda:0', grad_fn=<NegBackward0>), tensor(-37.8092, device='cuda:0', grad_fn=<NegBackward0>), tensor(-2.1599, device='cuda:0', grad_fn=<AddBackward0>)]\n",
      "tensor(-77.1073, device='cuda:0', grad_fn=<NegBackward0>) [tensor(-38.3791, device='cuda:0', grad_fn=<NegBackward0>), tensor(-37.4966, device='cuda:0', grad_fn=<NegBackward0>), tensor(-2.4267, device='cuda:0', grad_fn=<AddBackward0>)]\n",
      "0.3257457600185848\n",
      "tensor(-77.2067, device='cuda:0', grad_fn=<NegBackward0>) [tensor(-38.3256, device='cuda:0', grad_fn=<NegBackward0>), tensor(-37.7049, device='cuda:0', grad_fn=<NegBackward0>), tensor(-2.2422, device='cuda:0', grad_fn=<AddBackward0>)]\n",
      "tensor(-77.1806, device='cuda:0', grad_fn=<NegBackward0>) [tensor(-38.3256, device='cuda:0', grad_fn=<NegBackward0>), tensor(-37.7192, device='cuda:0', grad_fn=<NegBackward0>), tensor(-2.1139, device='cuda:0', grad_fn=<AddBackward0>)]\n",
      "0.3331733816490202\n",
      "tensor(-77.3703, device='cuda:0', grad_fn=<NegBackward0>) [tensor(-38.4980, device='cuda:0', grad_fn=<NegBackward0>), tensor(-37.5487, device='cuda:0', grad_fn=<NegBackward0>), tensor(-2.7567, device='cuda:0', grad_fn=<AddBackward0>)]\n",
      "tensor(-77.3011, device='cuda:0', grad_fn=<NegBackward0>) [tensor(-38.4980, device='cuda:0', grad_fn=<NegBackward0>), tensor(-37.5899, device='cuda:0', grad_fn=<NegBackward0>), tensor(-2.3644, device='cuda:0', grad_fn=<AddBackward0>)]\n",
      "0.3157705304585088\n",
      "tensor(-77.2059, device='cuda:0', grad_fn=<NegBackward0>) [tensor(-38.3406, device='cuda:0', grad_fn=<NegBackward0>), tensor(-37.7059, device='cuda:0', grad_fn=<NegBackward0>), tensor(-2.1884, device='cuda:0', grad_fn=<AddBackward0>)]\n",
      "tensor(-77.1311, device='cuda:0', grad_fn=<NegBackward0>) [tensor(-38.3406, device='cuda:0', grad_fn=<NegBackward0>), tensor(-37.7105, device='cuda:0', grad_fn=<NegBackward0>), tensor(-1.9449, device='cuda:0', grad_fn=<AddBackward0>)]\n"
     ]
    },
    {
     "name": "stdout",
     "output_type": "stream",
     "text": [
      "0.31894161324996023\n",
      "tensor(-77.5007, device='cuda:0', grad_fn=<NegBackward0>) [tensor(-38.4348, device='cuda:0', grad_fn=<NegBackward0>), tensor(-37.8488, device='cuda:0', grad_fn=<NegBackward0>), tensor(-2.3773, device='cuda:0', grad_fn=<AddBackward0>)]\n",
      "tensor(-77.3929, device='cuda:0', grad_fn=<NegBackward0>) [tensor(-38.4348, device='cuda:0', grad_fn=<NegBackward0>), tensor(-37.8395, device='cuda:0', grad_fn=<NegBackward0>), tensor(-2.0606, device='cuda:0', grad_fn=<AddBackward0>)]\n",
      "0.32883233207118573\n",
      "tensor(-77.9650, device='cuda:0', grad_fn=<NegBackward0>) [tensor(-38.7370, device='cuda:0', grad_fn=<NegBackward0>), tensor(-38.0585, device='cuda:0', grad_fn=<NegBackward0>), tensor(-2.2203, device='cuda:0', grad_fn=<AddBackward0>)]\n",
      "tensor(-77.9058, device='cuda:0', grad_fn=<NegBackward0>) [tensor(-38.7370, device='cuda:0', grad_fn=<NegBackward0>), tensor(-37.9969, device='cuda:0', grad_fn=<NegBackward0>), tensor(-2.2282, device='cuda:0', grad_fn=<AddBackward0>)]\n",
      "0.31233619690431563\n",
      "tensor(-77.8819, device='cuda:0', grad_fn=<NegBackward0>) [tensor(-38.7477, device='cuda:0', grad_fn=<NegBackward0>), tensor(-38.0057, device='cuda:0', grad_fn=<NegBackward0>), tensor(-2.0911, device='cuda:0', grad_fn=<AddBackward0>)]\n",
      "tensor(-78.0257, device='cuda:0', grad_fn=<NegBackward0>) [tensor(-38.7477, device='cuda:0', grad_fn=<NegBackward0>), tensor(-38.1713, device='cuda:0', grad_fn=<NegBackward0>), tensor(-2.0243, device='cuda:0', grad_fn=<AddBackward0>)]\n",
      "0.3474903484500851\n",
      "tensor(-77.8727, device='cuda:0', grad_fn=<NegBackward0>) [tensor(-38.6854, device='cuda:0', grad_fn=<NegBackward0>), tensor(-37.9527, device='cuda:0', grad_fn=<NegBackward0>), tensor(-2.4372, device='cuda:0', grad_fn=<AddBackward0>)]\n",
      "tensor(-77.8272, device='cuda:0', grad_fn=<NegBackward0>) [tensor(-38.6854, device='cuda:0', grad_fn=<NegBackward0>), tensor(-37.8671, device='cuda:0', grad_fn=<NegBackward0>), tensor(-2.5773, device='cuda:0', grad_fn=<AddBackward0>)]\n",
      "0.29211779793547116\n",
      "tensor(-78.2138, device='cuda:0', grad_fn=<NegBackward0>) [tensor(-38.8639, device='cuda:0', grad_fn=<NegBackward0>), tensor(-38.3393, device='cuda:0', grad_fn=<NegBackward0>), tensor(-1.7474, device='cuda:0', grad_fn=<AddBackward0>)]\n",
      "tensor(-78.2417, device='cuda:0', grad_fn=<NegBackward0>) [tensor(-38.8639, device='cuda:0', grad_fn=<NegBackward0>), tensor(-38.3608, device='cuda:0', grad_fn=<NegBackward0>), tensor(-1.7650, device='cuda:0', grad_fn=<AddBackward0>)]\n",
      "0.31789649999600766\n",
      "tensor(-78.1060, device='cuda:0', grad_fn=<NegBackward0>) [tensor(-38.7266, device='cuda:0', grad_fn=<NegBackward0>), tensor(-38.2432, device='cuda:0', grad_fn=<NegBackward0>), tensor(-2.1151, device='cuda:0', grad_fn=<AddBackward0>)]\n",
      "tensor(-77.7952, device='cuda:0', grad_fn=<NegBackward0>) [tensor(-38.7266, device='cuda:0', grad_fn=<NegBackward0>), tensor(-37.9019, device='cuda:0', grad_fn=<NegBackward0>), tensor(-2.2116, device='cuda:0', grad_fn=<AddBackward0>)]\n",
      "0.3118907891554184\n",
      "tensor(-78.3561, device='cuda:0', grad_fn=<NegBackward0>) [tensor(-38.9191, device='cuda:0', grad_fn=<NegBackward0>), tensor(-38.3839, device='cuda:0', grad_fn=<NegBackward0>), tensor(-1.8665, device='cuda:0', grad_fn=<AddBackward0>)]\n",
      "tensor(-78.5308, device='cuda:0', grad_fn=<NegBackward0>) [tensor(-38.9191, device='cuda:0', grad_fn=<NegBackward0>), tensor(-38.5186, device='cuda:0', grad_fn=<NegBackward0>), tensor(-1.9834, device='cuda:0', grad_fn=<AddBackward0>)]\n",
      "0.3108862884110183\n",
      "tensor(-78.1810, device='cuda:0', grad_fn=<NegBackward0>) [tensor(-38.8295, device='cuda:0', grad_fn=<NegBackward0>), tensor(-38.2370, device='cuda:0', grad_fn=<NegBackward0>), tensor(-2.0480, device='cuda:0', grad_fn=<AddBackward0>)]\n",
      "tensor(-78.0256, device='cuda:0', grad_fn=<NegBackward0>) [tensor(-38.8295, device='cuda:0', grad_fn=<NegBackward0>), tensor(-37.9972, device='cuda:0', grad_fn=<NegBackward0>), tensor(-2.3165, device='cuda:0', grad_fn=<AddBackward0>)]\n",
      "0.3290603272453602\n",
      "tensor(-78.5754, device='cuda:0', grad_fn=<NegBackward0>) [tensor(-38.9893, device='cuda:0', grad_fn=<NegBackward0>), tensor(-38.4318, device='cuda:0', grad_fn=<NegBackward0>), tensor(-2.1718, device='cuda:0', grad_fn=<AddBackward0>)]\n",
      "tensor(-78.5524, device='cuda:0', grad_fn=<NegBackward0>) [tensor(-38.9893, device='cuda:0', grad_fn=<NegBackward0>), tensor(-38.3541, device='cuda:0', grad_fn=<NegBackward0>), tensor(-2.3501, device='cuda:0', grad_fn=<AddBackward0>)]\n",
      "0.27055311605097765\n",
      "tensor(-78.6451, device='cuda:0', grad_fn=<NegBackward0>) [tensor(-39.1151, device='cuda:0', grad_fn=<NegBackward0>), tensor(-38.5755, device='cuda:0', grad_fn=<NegBackward0>), tensor(-1.5973, device='cuda:0', grad_fn=<AddBackward0>)]\n",
      "tensor(-78.8194, device='cuda:0', grad_fn=<NegBackward0>) [tensor(-39.1151, device='cuda:0', grad_fn=<NegBackward0>), tensor(-38.7796, device='cuda:0', grad_fn=<NegBackward0>), tensor(-1.5211, device='cuda:0', grad_fn=<AddBackward0>)]\n",
      "0.3204450399624533\n",
      "tensor(-78.7229, device='cuda:0', grad_fn=<NegBackward0>) [tensor(-39.2096, device='cuda:0', grad_fn=<NegBackward0>), tensor(-38.4168, device='cuda:0', grad_fn=<NegBackward0>), tensor(-1.9939, device='cuda:0', grad_fn=<AddBackward0>)]\n",
      "tensor(-78.8841, device='cuda:0', grad_fn=<NegBackward0>) [tensor(-39.2096, device='cuda:0', grad_fn=<NegBackward0>), tensor(-38.5057, device='cuda:0', grad_fn=<NegBackward0>), tensor(-2.2182, device='cuda:0', grad_fn=<AddBackward0>)]\n",
      "0.3022134362659815\n",
      "tensor(-78.3689, device='cuda:0', grad_fn=<NegBackward0>) [tensor(-38.9543, device='cuda:0', grad_fn=<NegBackward0>), tensor(-38.3775, device='cuda:0', grad_fn=<NegBackward0>), tensor(-1.8210, device='cuda:0', grad_fn=<AddBackward0>)]\n",
      "tensor(-78.4340, device='cuda:0', grad_fn=<NegBackward0>) [tensor(-38.9543, device='cuda:0', grad_fn=<NegBackward0>), tensor(-38.3888, device='cuda:0', grad_fn=<NegBackward0>), tensor(-1.9772, device='cuda:0', grad_fn=<AddBackward0>)]\n",
      "0.30284044870154736\n",
      "tensor(-78.4396, device='cuda:0', grad_fn=<NegBackward0>) [tensor(-38.9224, device='cuda:0', grad_fn=<NegBackward0>), tensor(-38.4344, device='cuda:0', grad_fn=<NegBackward0>), tensor(-1.9528, device='cuda:0', grad_fn=<AddBackward0>)]\n",
      "tensor(-78.3163, device='cuda:0', grad_fn=<NegBackward0>) [tensor(-38.9224, device='cuda:0', grad_fn=<NegBackward0>), tensor(-38.3184, device='cuda:0', grad_fn=<NegBackward0>), tensor(-1.9314, device='cuda:0', grad_fn=<AddBackward0>)]\n",
      "0.31769762675381197\n",
      "tensor(-78.5599, device='cuda:0', grad_fn=<NegBackward0>) [tensor(-39.0001, device='cuda:0', grad_fn=<NegBackward0>), tensor(-38.4104, device='cuda:0', grad_fn=<NegBackward0>), tensor(-2.1562, device='cuda:0', grad_fn=<AddBackward0>)]\n",
      "tensor(-78.4107, device='cuda:0', grad_fn=<NegBackward0>) [tensor(-39.0001, device='cuda:0', grad_fn=<NegBackward0>), tensor(-38.3049, device='cuda:0', grad_fn=<NegBackward0>), tensor(-2.0211, device='cuda:0', grad_fn=<AddBackward0>)]\n",
      "0.3191051301493362\n",
      "tensor(-77.9873, device='cuda:0', grad_fn=<NegBackward0>) [tensor(-38.7187, device='cuda:0', grad_fn=<NegBackward0>), tensor(-38.1640, device='cuda:0', grad_fn=<NegBackward0>), tensor(-2.0182, device='cuda:0', grad_fn=<AddBackward0>)]\n",
      "tensor(-77.8174, device='cuda:0', grad_fn=<NegBackward0>) [tensor(-38.7187, device='cuda:0', grad_fn=<NegBackward0>), tensor(-37.9105, device='cuda:0', grad_fn=<NegBackward0>), tensor(-2.2811, device='cuda:0', grad_fn=<AddBackward0>)]\n",
      "0.3119905964435568\n",
      "tensor(-77.0281, device='cuda:0', grad_fn=<NegBackward0>) [tensor(-38.2323, device='cuda:0', grad_fn=<NegBackward0>), tensor(-37.5778, device='cuda:0', grad_fn=<NegBackward0>), tensor(-2.3806, device='cuda:0', grad_fn=<AddBackward0>)]\n",
      "tensor(-76.9422, device='cuda:0', grad_fn=<NegBackward0>) [tensor(-38.2323, device='cuda:0', grad_fn=<NegBackward0>), tensor(-37.5889, device='cuda:0', grad_fn=<NegBackward0>), tensor(-2.0680, device='cuda:0', grad_fn=<AddBackward0>)]\n",
      "0.32114000402140347\n",
      "tensor(-77.6969, device='cuda:0', grad_fn=<NegBackward0>) [tensor(-38.5565, device='cuda:0', grad_fn=<NegBackward0>), tensor(-38.0341, device='cuda:0', grad_fn=<NegBackward0>), tensor(-2.0231, device='cuda:0', grad_fn=<AddBackward0>)]\n",
      "tensor(-77.5670, device='cuda:0', grad_fn=<NegBackward0>) [tensor(-38.5565, device='cuda:0', grad_fn=<NegBackward0>), tensor(-37.7909, device='cuda:0', grad_fn=<NegBackward0>), tensor(-2.3857, device='cuda:0', grad_fn=<AddBackward0>)]\n"
     ]
    },
    {
     "name": "stdout",
     "output_type": "stream",
     "text": [
      "0.35673724804052237\n",
      "tensor(-78.8599, device='cuda:0', grad_fn=<NegBackward0>) [tensor(-39.1890, device='cuda:0', grad_fn=<NegBackward0>), tensor(-38.4397, device='cuda:0', grad_fn=<NegBackward0>), tensor(-2.4253, device='cuda:0', grad_fn=<AddBackward0>)]\n",
      "tensor(-78.9218, device='cuda:0', grad_fn=<NegBackward0>) [tensor(-39.1890, device='cuda:0', grad_fn=<NegBackward0>), tensor(-38.4644, device='cuda:0', grad_fn=<NegBackward0>), tensor(-2.5553, device='cuda:0', grad_fn=<AddBackward0>)]\n",
      "0.32361798537951764\n",
      "tensor(-79.9108, device='cuda:0', grad_fn=<NegBackward0>) [tensor(-39.7172, device='cuda:0', grad_fn=<NegBackward0>), tensor(-39.0633, device='cuda:0', grad_fn=<NegBackward0>), tensor(-2.0967, device='cuda:0', grad_fn=<AddBackward0>)]\n",
      "tensor(-79.9304, device='cuda:0', grad_fn=<NegBackward0>) [tensor(-39.7172, device='cuda:0', grad_fn=<NegBackward0>), tensor(-39.0814, device='cuda:0', grad_fn=<NegBackward0>), tensor(-2.1012, device='cuda:0', grad_fn=<AddBackward0>)]\n",
      "0.35709559218375225\n",
      "tensor(-80.3281, device='cuda:0', grad_fn=<NegBackward0>) [tensor(-39.8567, device='cuda:0', grad_fn=<NegBackward0>), tensor(-39.2117, device='cuda:0', grad_fn=<NegBackward0>), tensor(-2.5244, device='cuda:0', grad_fn=<AddBackward0>)]\n",
      "tensor(-80.0503, device='cuda:0', grad_fn=<NegBackward0>) [tensor(-39.8567, device='cuda:0', grad_fn=<NegBackward0>), tensor(-38.8792, device='cuda:0', grad_fn=<NegBackward0>), tensor(-2.7222, device='cuda:0', grad_fn=<AddBackward0>)]\n",
      "0.26103629340211504\n",
      "tensor(-79.9608, device='cuda:0', grad_fn=<NegBackward0>) [tensor(-39.7370, device='cuda:0', grad_fn=<NegBackward0>), tensor(-39.4044, device='cuda:0', grad_fn=<NegBackward0>), tensor(-1.2692, device='cuda:0', grad_fn=<AddBackward0>)]\n",
      "tensor(-79.9015, device='cuda:0', grad_fn=<NegBackward0>) [tensor(-39.7370, device='cuda:0', grad_fn=<NegBackward0>), tensor(-39.2637, device='cuda:0', grad_fn=<NegBackward0>), tensor(-1.4616, device='cuda:0', grad_fn=<AddBackward0>)]\n",
      "0.3476438894876598\n",
      "tensor(-79.8069, device='cuda:0', grad_fn=<NegBackward0>) [tensor(-39.6731, device='cuda:0', grad_fn=<NegBackward0>), tensor(-38.9341, device='cuda:0', grad_fn=<NegBackward0>), tensor(-2.3189, device='cuda:0', grad_fn=<AddBackward0>)]\n",
      "tensor(-79.7455, device='cuda:0', grad_fn=<NegBackward0>) [tensor(-39.6731, device='cuda:0', grad_fn=<NegBackward0>), tensor(-38.8716, device='cuda:0', grad_fn=<NegBackward0>), tensor(-2.3229, device='cuda:0', grad_fn=<AddBackward0>)]\n",
      "0.28298316064149076\n",
      "tensor(-78.9915, device='cuda:0', grad_fn=<NegBackward0>) [tensor(-39.2897, device='cuda:0', grad_fn=<NegBackward0>), tensor(-38.7227, device='cuda:0', grad_fn=<NegBackward0>), tensor(-1.6622, device='cuda:0', grad_fn=<AddBackward0>)]\n",
      "tensor(-78.9516, device='cuda:0', grad_fn=<NegBackward0>) [tensor(-39.2897, device='cuda:0', grad_fn=<NegBackward0>), tensor(-38.7146, device='cuda:0', grad_fn=<NegBackward0>), tensor(-1.5788, device='cuda:0', grad_fn=<AddBackward0>)]\n",
      "0.23310182241970653\n",
      "tensor(-73.2161, device='cuda:0', grad_fn=<NegBackward0>) [tensor(-36.5202, device='cuda:0', grad_fn=<NegBackward0>), tensor(-36.0112, device='cuda:0', grad_fn=<NegBackward0>), tensor(-0.9830, device='cuda:0', grad_fn=<AddBackward0>)]\n",
      "tensor(-73.6506, device='cuda:0', grad_fn=<NegBackward0>) [tensor(-36.5202, device='cuda:0', grad_fn=<NegBackward0>), tensor(-36.4525, device='cuda:0', grad_fn=<NegBackward0>), tensor(-0.9696, device='cuda:0', grad_fn=<AddBackward0>)]\n",
      "0.3352784645062759\n",
      "tensor(-71.7527, device='cuda:0', grad_fn=<NegBackward0>) [tensor(-35.6416, device='cuda:0', grad_fn=<NegBackward0>), tensor(-34.9348, device='cuda:0', grad_fn=<NegBackward0>), tensor(-2.2424, device='cuda:0', grad_fn=<AddBackward0>)]\n",
      "tensor(-71.6554, device='cuda:0', grad_fn=<NegBackward0>) [tensor(-35.6416, device='cuda:0', grad_fn=<NegBackward0>), tensor(-34.8181, device='cuda:0', grad_fn=<NegBackward0>), tensor(-2.3058, device='cuda:0', grad_fn=<AddBackward0>)]\n",
      "0.4312436162160241\n",
      "tensor(-71.1470, device='cuda:0', grad_fn=<NegBackward0>) [tensor(-35.3960, device='cuda:0', grad_fn=<NegBackward0>), tensor(-34.3788, device='cuda:0', grad_fn=<NegBackward0>), tensor(-2.9438, device='cuda:0', grad_fn=<AddBackward0>)]\n",
      "tensor(-71.1898, device='cuda:0', grad_fn=<NegBackward0>) [tensor(-35.3960, device='cuda:0', grad_fn=<NegBackward0>), tensor(-34.2942, device='cuda:0', grad_fn=<NegBackward0>), tensor(-3.4795, device='cuda:0', grad_fn=<AddBackward0>)]\n",
      "0.32629722501187086\n",
      "tensor(-77.2807, device='cuda:0', grad_fn=<NegBackward0>) [tensor(-38.2042, device='cuda:0', grad_fn=<NegBackward0>), tensor(-37.8931, device='cuda:0', grad_fn=<NegBackward0>), tensor(-2.2652, device='cuda:0', grad_fn=<AddBackward0>)]\n",
      "tensor(-76.8288, device='cuda:0', grad_fn=<NegBackward0>) [tensor(-38.2042, device='cuda:0', grad_fn=<NegBackward0>), tensor(-37.5730, device='cuda:0', grad_fn=<NegBackward0>), tensor(-1.8622, device='cuda:0', grad_fn=<AddBackward0>)]\n",
      "0.32039919607159184\n",
      "tensor(-74.7101, device='cuda:0', grad_fn=<NegBackward0>) [tensor(-37.1201, device='cuda:0', grad_fn=<NegBackward0>), tensor(-36.5885, device='cuda:0', grad_fn=<NegBackward0>), tensor(-1.7224, device='cuda:0', grad_fn=<AddBackward0>)]\n",
      "tensor(-74.4214, device='cuda:0', grad_fn=<NegBackward0>) [tensor(-37.1201, device='cuda:0', grad_fn=<NegBackward0>), tensor(-36.3391, device='cuda:0', grad_fn=<NegBackward0>), tensor(-1.6173, device='cuda:0', grad_fn=<AddBackward0>)]\n",
      "0.31735198104375134\n",
      "tensor(-70.5917, device='cuda:0', grad_fn=<NegBackward0>) [tensor(-35.1537, device='cuda:0', grad_fn=<NegBackward0>), tensor(-34.4372, device='cuda:0', grad_fn=<NegBackward0>), tensor(-1.7203, device='cuda:0', grad_fn=<AddBackward0>)]\n",
      "tensor(-70.5725, device='cuda:0', grad_fn=<NegBackward0>) [tensor(-35.1537, device='cuda:0', grad_fn=<NegBackward0>), tensor(-34.4622, device='cuda:0', grad_fn=<NegBackward0>), tensor(-1.6028, device='cuda:0', grad_fn=<AddBackward0>)]\n",
      "0.3021012513857964\n",
      "tensor(-76.5520, device='cuda:0', grad_fn=<NegBackward0>) [tensor(-37.9896, device='cuda:0', grad_fn=<NegBackward0>), tensor(-37.6097, device='cuda:0', grad_fn=<NegBackward0>), tensor(-1.5928, device='cuda:0', grad_fn=<AddBackward0>)]\n",
      "tensor(-76.3672, device='cuda:0', grad_fn=<NegBackward0>) [tensor(-37.9896, device='cuda:0', grad_fn=<NegBackward0>), tensor(-37.4558, device='cuda:0', grad_fn=<NegBackward0>), tensor(-1.5139, device='cuda:0', grad_fn=<AddBackward0>)]\n",
      "0.3851850293203106\n",
      "tensor(-78.7746, device='cuda:0', grad_fn=<NegBackward0>) [tensor(-39.1248, device='cuda:0', grad_fn=<NegBackward0>), tensor(-38.4661, device='cuda:0', grad_fn=<NegBackward0>), tensor(-2.2665, device='cuda:0', grad_fn=<AddBackward0>)]\n",
      "tensor(-78.6446, device='cuda:0', grad_fn=<NegBackward0>) [tensor(-39.1248, device='cuda:0', grad_fn=<NegBackward0>), tensor(-38.2687, device='cuda:0', grad_fn=<NegBackward0>), tensor(-2.4941, device='cuda:0', grad_fn=<AddBackward0>)]\n",
      "0.344934663282327\n",
      "tensor(-79.7646, device='cuda:0', grad_fn=<NegBackward0>) [tensor(-39.6710, device='cuda:0', grad_fn=<NegBackward0>), tensor(-38.9673, device='cuda:0', grad_fn=<NegBackward0>), tensor(-2.0842, device='cuda:0', grad_fn=<AddBackward0>)]\n",
      "tensor(-79.9449, device='cuda:0', grad_fn=<NegBackward0>) [tensor(-39.6710, device='cuda:0', grad_fn=<NegBackward0>), tensor(-39.1875, device='cuda:0', grad_fn=<NegBackward0>), tensor(-1.9636, device='cuda:0', grad_fn=<AddBackward0>)]\n",
      "0.3288699782811921\n",
      "tensor(-80.7150, device='cuda:0', grad_fn=<NegBackward0>) [tensor(-40.1344, device='cuda:0', grad_fn=<NegBackward0>), tensor(-39.5131, device='cuda:0', grad_fn=<NegBackward0>), tensor(-1.9081, device='cuda:0', grad_fn=<AddBackward0>)]\n",
      "tensor(-80.7885, device='cuda:0', grad_fn=<NegBackward0>) [tensor(-40.1344, device='cuda:0', grad_fn=<NegBackward0>), tensor(-39.6174, device='cuda:0', grad_fn=<NegBackward0>), tensor(-1.8197, device='cuda:0', grad_fn=<AddBackward0>)]\n",
      "0.321334389467767\n",
      "tensor(-80.8786, device='cuda:0', grad_fn=<NegBackward0>) [tensor(-40.2383, device='cuda:0', grad_fn=<NegBackward0>), tensor(-39.5783, device='cuda:0', grad_fn=<NegBackward0>), tensor(-1.8920, device='cuda:0', grad_fn=<AddBackward0>)]\n",
      "tensor(-81.0271, device='cuda:0', grad_fn=<NegBackward0>) [tensor(-40.2383, device='cuda:0', grad_fn=<NegBackward0>), tensor(-39.8196, device='cuda:0', grad_fn=<NegBackward0>), tensor(-1.6356, device='cuda:0', grad_fn=<AddBackward0>)]\n"
     ]
    },
    {
     "name": "stdout",
     "output_type": "stream",
     "text": [
      "0.3384984582609524\n",
      "tensor(-81.5942, device='cuda:0', grad_fn=<NegBackward0>) [tensor(-40.6045, device='cuda:0', grad_fn=<NegBackward0>), tensor(-39.9226, device='cuda:0', grad_fn=<NegBackward0>), tensor(-1.9069, device='cuda:0', grad_fn=<AddBackward0>)]\n",
      "tensor(-81.6304, device='cuda:0', grad_fn=<NegBackward0>) [tensor(-40.6045, device='cuda:0', grad_fn=<NegBackward0>), tensor(-39.9316, device='cuda:0', grad_fn=<NegBackward0>), tensor(-1.9871, device='cuda:0', grad_fn=<AddBackward0>)]\n",
      "0.33391072824511414\n",
      "tensor(-82.1091, device='cuda:0', grad_fn=<NegBackward0>) [tensor(-40.7779, device='cuda:0', grad_fn=<NegBackward0>), tensor(-40.2562, device='cuda:0', grad_fn=<NegBackward0>), tensor(-1.9299, device='cuda:0', grad_fn=<AddBackward0>)]\n",
      "tensor(-82.0080, device='cuda:0', grad_fn=<NegBackward0>) [tensor(-40.7779, device='cuda:0', grad_fn=<NegBackward0>), tensor(-40.2095, device='cuda:0', grad_fn=<NegBackward0>), tensor(-1.7750, device='cuda:0', grad_fn=<AddBackward0>)]\n",
      "0.33932123584144297\n",
      "tensor(-82.2270, device='cuda:0', grad_fn=<NegBackward0>) [tensor(-40.9121, device='cuda:0', grad_fn=<NegBackward0>), tensor(-40.2513, device='cuda:0', grad_fn=<NegBackward0>), tensor(-1.8967, device='cuda:0', grad_fn=<AddBackward0>)]\n",
      "tensor(-82.3096, device='cuda:0', grad_fn=<NegBackward0>) [tensor(-40.9121, device='cuda:0', grad_fn=<NegBackward0>), tensor(-40.3186, device='cuda:0', grad_fn=<NegBackward0>), tensor(-1.9414, device='cuda:0', grad_fn=<AddBackward0>)]\n",
      "0.3310850843550414\n",
      "tensor(-82.2864, device='cuda:0', grad_fn=<NegBackward0>) [tensor(-40.8956, device='cuda:0', grad_fn=<NegBackward0>), tensor(-40.3556, device='cuda:0', grad_fn=<NegBackward0>), tensor(-1.8158, device='cuda:0', grad_fn=<AddBackward0>)]\n",
      "tensor(-82.1400, device='cuda:0', grad_fn=<NegBackward0>) [tensor(-40.8956, device='cuda:0', grad_fn=<NegBackward0>), tensor(-40.2001, device='cuda:0', grad_fn=<NegBackward0>), tensor(-1.8414, device='cuda:0', grad_fn=<AddBackward0>)]\n",
      "0.30550073317205634\n",
      "tensor(-82.6192, device='cuda:0', grad_fn=<NegBackward0>) [tensor(-41.1569, device='cuda:0', grad_fn=<NegBackward0>), tensor(-40.5640, device='cuda:0', grad_fn=<NegBackward0>), tensor(-1.4555, device='cuda:0', grad_fn=<AddBackward0>)]\n",
      "tensor(-82.7177, device='cuda:0', grad_fn=<NegBackward0>) [tensor(-41.1569, device='cuda:0', grad_fn=<NegBackward0>), tensor(-40.5990, device='cuda:0', grad_fn=<NegBackward0>), tensor(-1.6166, device='cuda:0', grad_fn=<AddBackward0>)]\n",
      "0.30107359984029675\n",
      "tensor(-82.1269, device='cuda:0', grad_fn=<NegBackward0>) [tensor(-40.9158, device='cuda:0', grad_fn=<NegBackward0>), tensor(-40.2803, device='cuda:0', grad_fn=<NegBackward0>), tensor(-1.5365, device='cuda:0', grad_fn=<AddBackward0>)]\n",
      "tensor(-82.3568, device='cuda:0', grad_fn=<NegBackward0>) [tensor(-40.9158, device='cuda:0', grad_fn=<NegBackward0>), tensor(-40.4606, device='cuda:0', grad_fn=<NegBackward0>), tensor(-1.6657, device='cuda:0', grad_fn=<AddBackward0>)]\n",
      "0.3454764163631179\n",
      "tensor(-82.3554, device='cuda:0', grad_fn=<NegBackward0>) [tensor(-41.0543, device='cuda:0', grad_fn=<NegBackward0>), tensor(-40.1928, device='cuda:0', grad_fn=<NegBackward0>), tensor(-2.0293, device='cuda:0', grad_fn=<AddBackward0>)]\n",
      "tensor(-82.5261, device='cuda:0', grad_fn=<NegBackward0>) [tensor(-41.0543, device='cuda:0', grad_fn=<NegBackward0>), tensor(-40.3428, device='cuda:0', grad_fn=<NegBackward0>), tensor(-2.0926, device='cuda:0', grad_fn=<AddBackward0>)]\n",
      "0.3365761721873679\n",
      "tensor(-82.7687, device='cuda:0', grad_fn=<NegBackward0>) [tensor(-41.2359, device='cuda:0', grad_fn=<NegBackward0>), tensor(-40.4663, device='cuda:0', grad_fn=<NegBackward0>), tensor(-1.9055, device='cuda:0', grad_fn=<AddBackward0>)]\n",
      "tensor(-82.8408, device='cuda:0', grad_fn=<NegBackward0>) [tensor(-41.2359, device='cuda:0', grad_fn=<NegBackward0>), tensor(-40.4953, device='cuda:0', grad_fn=<NegBackward0>), tensor(-2.0332, device='cuda:0', grad_fn=<AddBackward0>)]\n",
      "0.32032799145092\n",
      "tensor(-83.1221, device='cuda:0', grad_fn=<NegBackward0>) [tensor(-41.3450, device='cuda:0', grad_fn=<NegBackward0>), tensor(-40.7121, device='cuda:0', grad_fn=<NegBackward0>), tensor(-1.9011, device='cuda:0', grad_fn=<AddBackward0>)]\n",
      "tensor(-83.0222, device='cuda:0', grad_fn=<NegBackward0>) [tensor(-41.3450, device='cuda:0', grad_fn=<NegBackward0>), tensor(-40.6605, device='cuda:0', grad_fn=<NegBackward0>), tensor(-1.7641, device='cuda:0', grad_fn=<AddBackward0>)]\n",
      "0.3223975479155188\n",
      "tensor(-83.5845, device='cuda:0', grad_fn=<NegBackward0>) [tensor(-41.5786, device='cuda:0', grad_fn=<NegBackward0>), tensor(-40.9652, device='cuda:0', grad_fn=<NegBackward0>), tensor(-1.8309, device='cuda:0', grad_fn=<AddBackward0>)]\n",
      "tensor(-83.4783, device='cuda:0', grad_fn=<NegBackward0>) [tensor(-41.5786, device='cuda:0', grad_fn=<NegBackward0>), tensor(-40.9488, device='cuda:0', grad_fn=<NegBackward0>), tensor(-1.5879, device='cuda:0', grad_fn=<AddBackward0>)]\n",
      "0.321053140265671\n",
      "tensor(-83.6884, device='cuda:0', grad_fn=<NegBackward0>) [tensor(-41.6355, device='cuda:0', grad_fn=<NegBackward0>), tensor(-41.0661, device='cuda:0', grad_fn=<NegBackward0>), tensor(-1.6827, device='cuda:0', grad_fn=<AddBackward0>)]\n",
      "tensor(-83.6725, device='cuda:0', grad_fn=<NegBackward0>) [tensor(-41.6355, device='cuda:0', grad_fn=<NegBackward0>), tensor(-41.0099, device='cuda:0', grad_fn=<NegBackward0>), tensor(-1.7929, device='cuda:0', grad_fn=<AddBackward0>)]\n",
      "0.32718637214085977\n",
      "tensor(-83.7963, device='cuda:0', grad_fn=<NegBackward0>) [tensor(-41.7275, device='cuda:0', grad_fn=<NegBackward0>), tensor(-41.0020, device='cuda:0', grad_fn=<NegBackward0>), tensor(-1.9061, device='cuda:0', grad_fn=<AddBackward0>)]\n",
      "tensor(-83.7979, device='cuda:0', grad_fn=<NegBackward0>) [tensor(-41.7275, device='cuda:0', grad_fn=<NegBackward0>), tensor(-41.0354, device='cuda:0', grad_fn=<NegBackward0>), tensor(-1.8154, device='cuda:0', grad_fn=<AddBackward0>)]\n",
      "0.3330896628661138\n",
      "tensor(-83.9037, device='cuda:0', grad_fn=<NegBackward0>) [tensor(-41.7686, device='cuda:0', grad_fn=<NegBackward0>), tensor(-41.0364, device='cuda:0', grad_fn=<NegBackward0>), tensor(-2.0003, device='cuda:0', grad_fn=<AddBackward0>)]\n",
      "tensor(-83.9090, device='cuda:0', grad_fn=<NegBackward0>) [tensor(-41.7686, device='cuda:0', grad_fn=<NegBackward0>), tensor(-41.0866, device='cuda:0', grad_fn=<NegBackward0>), tensor(-1.8685, device='cuda:0', grad_fn=<AddBackward0>)]\n",
      "0.2841740049599805\n",
      "tensor(-84.1233, device='cuda:0', grad_fn=<NegBackward0>) [tensor(-41.9088, device='cuda:0', grad_fn=<NegBackward0>), tensor(-41.3401, device='cuda:0', grad_fn=<NegBackward0>), tensor(-1.3975, device='cuda:0', grad_fn=<AddBackward0>)]\n",
      "tensor(-84.2599, device='cuda:0', grad_fn=<NegBackward0>) [tensor(-41.9088, device='cuda:0', grad_fn=<NegBackward0>), tensor(-41.4472, device='cuda:0', grad_fn=<NegBackward0>), tensor(-1.4693, device='cuda:0', grad_fn=<AddBackward0>)]\n",
      "0.3251499457800035\n",
      "tensor(-83.7351, device='cuda:0', grad_fn=<NegBackward0>) [tensor(-41.6812, device='cuda:0', grad_fn=<NegBackward0>), tensor(-41.0234, device='cuda:0', grad_fn=<NegBackward0>), tensor(-1.8027, device='cuda:0', grad_fn=<AddBackward0>)]\n",
      "tensor(-83.7911, device='cuda:0', grad_fn=<NegBackward0>) [tensor(-41.6812, device='cuda:0', grad_fn=<NegBackward0>), tensor(-41.1028, device='cuda:0', grad_fn=<NegBackward0>), tensor(-1.7377, device='cuda:0', grad_fn=<AddBackward0>)]\n",
      "0.30856870431719713\n",
      "tensor(-84.3182, device='cuda:0', grad_fn=<NegBackward0>) [tensor(-41.9555, device='cuda:0', grad_fn=<NegBackward0>), tensor(-41.4124, device='cuda:0', grad_fn=<NegBackward0>), tensor(-1.5864, device='cuda:0', grad_fn=<AddBackward0>)]\n",
      "tensor(-84.2435, device='cuda:0', grad_fn=<NegBackward0>) [tensor(-41.9555, device='cuda:0', grad_fn=<NegBackward0>), tensor(-41.1882, device='cuda:0', grad_fn=<NegBackward0>), tensor(-2.0034, device='cuda:0', grad_fn=<AddBackward0>)]\n",
      "0.29934082141254426\n",
      "tensor(-83.8775, device='cuda:0', grad_fn=<NegBackward0>) [tensor(-41.7069, device='cuda:0', grad_fn=<NegBackward0>), tensor(-41.2387, device='cuda:0', grad_fn=<NegBackward0>), tensor(-1.5394, device='cuda:0', grad_fn=<AddBackward0>)]\n",
      "tensor(-83.7155, device='cuda:0', grad_fn=<NegBackward0>) [tensor(-41.7069, device='cuda:0', grad_fn=<NegBackward0>), tensor(-40.9915, device='cuda:0', grad_fn=<NegBackward0>), tensor(-1.7651, device='cuda:0', grad_fn=<AddBackward0>)]\n"
     ]
    },
    {
     "name": "stdout",
     "output_type": "stream",
     "text": [
      "0.2978685157408545\n",
      "tensor(-84.1295, device='cuda:0', grad_fn=<NegBackward0>) [tensor(-41.9106, device='cuda:0', grad_fn=<NegBackward0>), tensor(-41.2181, device='cuda:0', grad_fn=<NegBackward0>), tensor(-1.7207, device='cuda:0', grad_fn=<AddBackward0>)]\n",
      "tensor(-84.1903, device='cuda:0', grad_fn=<NegBackward0>) [tensor(-41.9106, device='cuda:0', grad_fn=<NegBackward0>), tensor(-41.3194, device='cuda:0', grad_fn=<NegBackward0>), tensor(-1.6127, device='cuda:0', grad_fn=<AddBackward0>)]\n",
      "0.3174925372828005\n",
      "tensor(-84.4787, device='cuda:0', grad_fn=<NegBackward0>) [tensor(-42.0937, device='cuda:0', grad_fn=<NegBackward0>), tensor(-41.4250, device='cuda:0', grad_fn=<NegBackward0>), tensor(-1.6115, device='cuda:0', grad_fn=<AddBackward0>)]\n",
      "tensor(-84.5734, device='cuda:0', grad_fn=<NegBackward0>) [tensor(-42.0937, device='cuda:0', grad_fn=<NegBackward0>), tensor(-41.4748, device='cuda:0', grad_fn=<NegBackward0>), tensor(-1.7313, device='cuda:0', grad_fn=<AddBackward0>)]\n",
      "0.3079955933484842\n",
      "tensor(-84.7795, device='cuda:0', grad_fn=<NegBackward0>) [tensor(-42.2170, device='cuda:0', grad_fn=<NegBackward0>), tensor(-41.5339, device='cuda:0', grad_fn=<NegBackward0>), tensor(-1.7969, device='cuda:0', grad_fn=<AddBackward0>)]\n",
      "tensor(-84.7192, device='cuda:0', grad_fn=<NegBackward0>) [tensor(-42.2170, device='cuda:0', grad_fn=<NegBackward0>), tensor(-41.4954, device='cuda:0', grad_fn=<NegBackward0>), tensor(-1.7366, device='cuda:0', grad_fn=<AddBackward0>)]\n",
      "0.29555991778039237\n",
      "tensor(-84.8703, device='cuda:0', grad_fn=<NegBackward0>) [tensor(-42.1922, device='cuda:0', grad_fn=<NegBackward0>), tensor(-41.7110, device='cuda:0', grad_fn=<NegBackward0>), tensor(-1.6304, device='cuda:0', grad_fn=<AddBackward0>)]\n",
      "tensor(-84.8645, device='cuda:0', grad_fn=<NegBackward0>) [tensor(-42.1922, device='cuda:0', grad_fn=<NegBackward0>), tensor(-41.6900, device='cuda:0', grad_fn=<NegBackward0>), tensor(-1.6707, device='cuda:0', grad_fn=<AddBackward0>)]\n",
      "0.27812340994010515\n",
      "tensor(-84.5885, device='cuda:0', grad_fn=<NegBackward0>) [tensor(-42.1261, device='cuda:0', grad_fn=<NegBackward0>), tensor(-41.5885, device='cuda:0', grad_fn=<NegBackward0>), tensor(-1.3961, device='cuda:0', grad_fn=<AddBackward0>)]\n",
      "tensor(-84.6195, device='cuda:0', grad_fn=<NegBackward0>) [tensor(-42.1261, device='cuda:0', grad_fn=<NegBackward0>), tensor(-41.5894, device='cuda:0', grad_fn=<NegBackward0>), tensor(-1.4694, device='cuda:0', grad_fn=<AddBackward0>)]\n",
      "0.31193788227542735\n",
      "tensor(-84.5827, device='cuda:0', grad_fn=<NegBackward0>) [tensor(-42.0651, device='cuda:0', grad_fn=<NegBackward0>), tensor(-41.4891, device='cuda:0', grad_fn=<NegBackward0>), tensor(-1.7973, device='cuda:0', grad_fn=<AddBackward0>)]\n",
      "tensor(-84.3264, device='cuda:0', grad_fn=<NegBackward0>) [tensor(-42.0651, device='cuda:0', grad_fn=<NegBackward0>), tensor(-41.2657, device='cuda:0', grad_fn=<NegBackward0>), tensor(-1.7065, device='cuda:0', grad_fn=<AddBackward0>)]\n",
      "0.31288805451573243\n",
      "tensor(-84.8291, device='cuda:0', grad_fn=<NegBackward0>) [tensor(-42.1772, device='cuda:0', grad_fn=<NegBackward0>), tensor(-41.6303, device='cuda:0', grad_fn=<NegBackward0>), tensor(-1.7776, device='cuda:0', grad_fn=<AddBackward0>)]\n",
      "tensor(-84.6618, device='cuda:0', grad_fn=<NegBackward0>) [tensor(-42.1772, device='cuda:0', grad_fn=<NegBackward0>), tensor(-41.4977, device='cuda:0', grad_fn=<NegBackward0>), tensor(-1.6830, device='cuda:0', grad_fn=<AddBackward0>)]\n",
      "0.30082386000058\n",
      "tensor(-84.6825, device='cuda:0', grad_fn=<NegBackward0>) [tensor(-42.1602, device='cuda:0', grad_fn=<NegBackward0>), tensor(-41.5659, device='cuda:0', grad_fn=<NegBackward0>), tensor(-1.6023, device='cuda:0', grad_fn=<AddBackward0>)]\n",
      "tensor(-84.6458, device='cuda:0', grad_fn=<NegBackward0>) [tensor(-42.1602, device='cuda:0', grad_fn=<NegBackward0>), tensor(-41.5303, device='cuda:0', grad_fn=<NegBackward0>), tensor(-1.5995, device='cuda:0', grad_fn=<AddBackward0>)]\n",
      "0.28908601672180706\n",
      "tensor(-85.1770, device='cuda:0', grad_fn=<NegBackward0>) [tensor(-42.4324, device='cuda:0', grad_fn=<NegBackward0>), tensor(-41.8653, device='cuda:0', grad_fn=<NegBackward0>), tensor(-1.4091, device='cuda:0', grad_fn=<AddBackward0>)]\n",
      "tensor(-85.1460, device='cuda:0', grad_fn=<NegBackward0>) [tensor(-42.4324, device='cuda:0', grad_fn=<NegBackward0>), tensor(-41.7373, device='cuda:0', grad_fn=<NegBackward0>), tensor(-1.6547, device='cuda:0', grad_fn=<AddBackward0>)]\n",
      "0.32616929398149125\n",
      "tensor(-84.4736, device='cuda:0', grad_fn=<NegBackward0>) [tensor(-42.0947, device='cuda:0', grad_fn=<NegBackward0>), tensor(-41.3417, device='cuda:0', grad_fn=<NegBackward0>), tensor(-1.8213, device='cuda:0', grad_fn=<AddBackward0>)]\n",
      "tensor(-84.4276, device='cuda:0', grad_fn=<NegBackward0>) [tensor(-42.0947, device='cuda:0', grad_fn=<NegBackward0>), tensor(-41.2493, device='cuda:0', grad_fn=<NegBackward0>), tensor(-1.9553, device='cuda:0', grad_fn=<AddBackward0>)]\n",
      "0.28380654136544264\n",
      "tensor(-85.2784, device='cuda:0', grad_fn=<NegBackward0>) [tensor(-42.4501, device='cuda:0', grad_fn=<NegBackward0>), tensor(-41.9481, device='cuda:0', grad_fn=<NegBackward0>), tensor(-1.4113, device='cuda:0', grad_fn=<AddBackward0>)]\n",
      "tensor(-85.2935, device='cuda:0', grad_fn=<NegBackward0>) [tensor(-42.4501, device='cuda:0', grad_fn=<NegBackward0>), tensor(-41.9141, device='cuda:0', grad_fn=<NegBackward0>), tensor(-1.5331, device='cuda:0', grad_fn=<AddBackward0>)]\n",
      "0.3220292894341934\n",
      "tensor(-85.0352, device='cuda:0', grad_fn=<NegBackward0>) [tensor(-42.2904, device='cuda:0', grad_fn=<NegBackward0>), tensor(-41.7216, device='cuda:0', grad_fn=<NegBackward0>), tensor(-1.7823, device='cuda:0', grad_fn=<AddBackward0>)]\n",
      "tensor(-84.9276, device='cuda:0', grad_fn=<NegBackward0>) [tensor(-42.2904, device='cuda:0', grad_fn=<NegBackward0>), tensor(-41.6581, device='cuda:0', grad_fn=<NegBackward0>), tensor(-1.6619, device='cuda:0', grad_fn=<AddBackward0>)]\n",
      "0.27481086572485924\n",
      "tensor(-85.4495, device='cuda:0', grad_fn=<NegBackward0>) [tensor(-42.5572, device='cuda:0', grad_fn=<NegBackward0>), tensor(-42.0573, device='cuda:0', grad_fn=<NegBackward0>), tensor(-1.3048, device='cuda:0', grad_fn=<AddBackward0>)]\n",
      "tensor(-85.4480, device='cuda:0', grad_fn=<NegBackward0>) [tensor(-42.5572, device='cuda:0', grad_fn=<NegBackward0>), tensor(-42.0439, device='cuda:0', grad_fn=<NegBackward0>), tensor(-1.3325, device='cuda:0', grad_fn=<AddBackward0>)]\n",
      "0.3041356038623251\n",
      "tensor(-85.1248, device='cuda:0', grad_fn=<NegBackward0>) [tensor(-42.4280, device='cuda:0', grad_fn=<NegBackward0>), tensor(-41.7098, device='cuda:0', grad_fn=<NegBackward0>), tensor(-1.6833, device='cuda:0', grad_fn=<AddBackward0>)]\n",
      "tensor(-85.2085, device='cuda:0', grad_fn=<NegBackward0>) [tensor(-42.4280, device='cuda:0', grad_fn=<NegBackward0>), tensor(-41.8540, device='cuda:0', grad_fn=<NegBackward0>), tensor(-1.5256, device='cuda:0', grad_fn=<AddBackward0>)]\n",
      "0.30763059042666346\n",
      "tensor(-85.6037, device='cuda:0', grad_fn=<NegBackward0>) [tensor(-42.7057, device='cuda:0', grad_fn=<NegBackward0>), tensor(-41.8634, device='cuda:0', grad_fn=<NegBackward0>), tensor(-1.8140, device='cuda:0', grad_fn=<AddBackward0>)]\n",
      "tensor(-85.7309, device='cuda:0', grad_fn=<NegBackward0>) [tensor(-42.7057, device='cuda:0', grad_fn=<NegBackward0>), tensor(-42.0559, device='cuda:0', grad_fn=<NegBackward0>), tensor(-1.6361, device='cuda:0', grad_fn=<AddBackward0>)]\n",
      "0.31292731884714603\n",
      "tensor(-85.5431, device='cuda:0', grad_fn=<NegBackward0>) [tensor(-42.6161, device='cuda:0', grad_fn=<NegBackward0>), tensor(-41.9010, device='cuda:0', grad_fn=<NegBackward0>), tensor(-1.7897, device='cuda:0', grad_fn=<AddBackward0>)]\n",
      "tensor(-85.4755, device='cuda:0', grad_fn=<NegBackward0>) [tensor(-42.6161, device='cuda:0', grad_fn=<NegBackward0>), tensor(-41.8608, device='cuda:0', grad_fn=<NegBackward0>), tensor(-1.7146, device='cuda:0', grad_fn=<AddBackward0>)]\n",
      "0.28538796398661676\n",
      "tensor(-85.7400, device='cuda:0', grad_fn=<NegBackward0>) [tensor(-42.6986, device='cuda:0', grad_fn=<NegBackward0>), tensor(-42.1571, device='cuda:0', grad_fn=<NegBackward0>), tensor(-1.4214, device='cuda:0', grad_fn=<AddBackward0>)]\n",
      "tensor(-85.7281, device='cuda:0', grad_fn=<NegBackward0>) [tensor(-42.6986, device='cuda:0', grad_fn=<NegBackward0>), tensor(-42.1548, device='cuda:0', grad_fn=<NegBackward0>), tensor(-1.3984, device='cuda:0', grad_fn=<AddBackward0>)]\n"
     ]
    },
    {
     "name": "stdout",
     "output_type": "stream",
     "text": [
      "0.30391316850020467\n",
      "tensor(-85.5938, device='cuda:0', grad_fn=<NegBackward0>) [tensor(-42.6463, device='cuda:0', grad_fn=<NegBackward0>), tensor(-41.9664, device='cuda:0', grad_fn=<NegBackward0>), tensor(-1.6673, device='cuda:0', grad_fn=<AddBackward0>)]\n",
      "tensor(-85.5953, device='cuda:0', grad_fn=<NegBackward0>) [tensor(-42.6463, device='cuda:0', grad_fn=<NegBackward0>), tensor(-41.9607, device='cuda:0', grad_fn=<NegBackward0>), tensor(-1.6864, device='cuda:0', grad_fn=<AddBackward0>)]\n",
      "0.3026303293284381\n",
      "tensor(-85.7468, device='cuda:0', grad_fn=<NegBackward0>) [tensor(-42.7164, device='cuda:0', grad_fn=<NegBackward0>), tensor(-42.0675, device='cuda:0', grad_fn=<NegBackward0>), tensor(-1.6190, device='cuda:0', grad_fn=<AddBackward0>)]\n",
      "tensor(-85.6337, device='cuda:0', grad_fn=<NegBackward0>) [tensor(-42.7164, device='cuda:0', grad_fn=<NegBackward0>), tensor(-41.8394, device='cuda:0', grad_fn=<NegBackward0>), tensor(-1.9382, device='cuda:0', grad_fn=<AddBackward0>)]\n",
      "0.3023208237523184\n",
      "tensor(-85.5447, device='cuda:0', grad_fn=<NegBackward0>) [tensor(-42.6127, device='cuda:0', grad_fn=<NegBackward0>), tensor(-41.9858, device='cuda:0', grad_fn=<NegBackward0>), tensor(-1.5759, device='cuda:0', grad_fn=<AddBackward0>)]\n",
      "tensor(-85.4643, device='cuda:0', grad_fn=<NegBackward0>) [tensor(-42.6127, device='cuda:0', grad_fn=<NegBackward0>), tensor(-41.8736, device='cuda:0', grad_fn=<NegBackward0>), tensor(-1.6592, device='cuda:0', grad_fn=<AddBackward0>)]\n",
      "0.29070074384309735\n",
      "tensor(-85.8317, device='cuda:0', grad_fn=<NegBackward0>) [tensor(-42.7235, device='cuda:0', grad_fn=<NegBackward0>), tensor(-42.1455, device='cuda:0', grad_fn=<NegBackward0>), tensor(-1.6188, device='cuda:0', grad_fn=<AddBackward0>)]\n",
      "tensor(-85.7076, device='cuda:0', grad_fn=<NegBackward0>) [tensor(-42.7235, device='cuda:0', grad_fn=<NegBackward0>), tensor(-42.0108, device='cuda:0', grad_fn=<NegBackward0>), tensor(-1.6466, device='cuda:0', grad_fn=<AddBackward0>)]\n",
      "0.30682040816505507\n",
      "tensor(-85.8779, device='cuda:0', grad_fn=<NegBackward0>) [tensor(-42.8225, device='cuda:0', grad_fn=<NegBackward0>), tensor(-42.0817, device='cuda:0', grad_fn=<NegBackward0>), tensor(-1.6477, device='cuda:0', grad_fn=<AddBackward0>)]\n",
      "tensor(-85.9377, device='cuda:0', grad_fn=<NegBackward0>) [tensor(-42.8225, device='cuda:0', grad_fn=<NegBackward0>), tensor(-42.1091, device='cuda:0', grad_fn=<NegBackward0>), tensor(-1.7347, device='cuda:0', grad_fn=<AddBackward0>)]\n",
      "0.24235537703619364\n",
      "tensor(-86.0908, device='cuda:0', grad_fn=<NegBackward0>) [tensor(-42.9051, device='cuda:0', grad_fn=<NegBackward0>), tensor(-42.4148, device='cuda:0', grad_fn=<NegBackward0>), tensor(-1.1619, device='cuda:0', grad_fn=<AddBackward0>)]\n",
      "tensor(-86.0492, device='cuda:0', grad_fn=<NegBackward0>) [tensor(-42.9051, device='cuda:0', grad_fn=<NegBackward0>), tensor(-42.4487, device='cuda:0', grad_fn=<NegBackward0>), tensor(-1.0045, device='cuda:0', grad_fn=<AddBackward0>)]\n",
      "0.2852822671753283\n",
      "tensor(-86.2019, device='cuda:0', grad_fn=<NegBackward0>) [tensor(-42.9027, device='cuda:0', grad_fn=<NegBackward0>), tensor(-42.3683, device='cuda:0', grad_fn=<NegBackward0>), tensor(-1.5370, device='cuda:0', grad_fn=<AddBackward0>)]\n",
      "tensor(-86.0952, device='cuda:0', grad_fn=<NegBackward0>) [tensor(-42.9027, device='cuda:0', grad_fn=<NegBackward0>), tensor(-42.3139, device='cuda:0', grad_fn=<NegBackward0>), tensor(-1.4076, device='cuda:0', grad_fn=<AddBackward0>)]\n",
      "0.2922553919112014\n",
      "tensor(-86.1709, device='cuda:0', grad_fn=<NegBackward0>) [tensor(-42.9392, device='cuda:0', grad_fn=<NegBackward0>), tensor(-42.3162, device='cuda:0', grad_fn=<NegBackward0>), tensor(-1.4982, device='cuda:0', grad_fn=<AddBackward0>)]\n",
      "tensor(-86.1257, device='cuda:0', grad_fn=<NegBackward0>) [tensor(-42.9392, device='cuda:0', grad_fn=<NegBackward0>), tensor(-42.2960, device='cuda:0', grad_fn=<NegBackward0>), tensor(-1.4364, device='cuda:0', grad_fn=<AddBackward0>)]\n",
      "0.3007743101554143\n",
      "tensor(-86.2649, device='cuda:0', grad_fn=<NegBackward0>) [tensor(-42.9958, device='cuda:0', grad_fn=<NegBackward0>), tensor(-42.3127, device='cuda:0', grad_fn=<NegBackward0>), tensor(-1.6023, device='cuda:0', grad_fn=<AddBackward0>)]\n",
      "tensor(-86.1516, device='cuda:0', grad_fn=<NegBackward0>) [tensor(-42.9958, device='cuda:0', grad_fn=<NegBackward0>), tensor(-42.1655, device='cuda:0', grad_fn=<NegBackward0>), tensor(-1.6922, device='cuda:0', grad_fn=<AddBackward0>)]\n",
      "0.2869136915402434\n",
      "tensor(-86.5568, device='cuda:0', grad_fn=<NegBackward0>) [tensor(-43.0864, device='cuda:0', grad_fn=<NegBackward0>), tensor(-42.5962, device='cuda:0', grad_fn=<NegBackward0>), tensor(-1.3969, device='cuda:0', grad_fn=<AddBackward0>)]\n",
      "tensor(-86.5266, device='cuda:0', grad_fn=<NegBackward0>) [tensor(-43.0864, device='cuda:0', grad_fn=<NegBackward0>), tensor(-42.5537, device='cuda:0', grad_fn=<NegBackward0>), tensor(-1.4265, device='cuda:0', grad_fn=<AddBackward0>)]\n",
      "0.26861327604062313\n",
      "tensor(-86.7233, device='cuda:0', grad_fn=<NegBackward0>) [tensor(-43.2091, device='cuda:0', grad_fn=<NegBackward0>), tensor(-42.6905, device='cuda:0', grad_fn=<NegBackward0>), tensor(-1.2790, device='cuda:0', grad_fn=<AddBackward0>)]\n",
      "tensor(-86.7277, device='cuda:0', grad_fn=<NegBackward0>) [tensor(-43.2091, device='cuda:0', grad_fn=<NegBackward0>), tensor(-42.7165, device='cuda:0', grad_fn=<NegBackward0>), tensor(-1.2305, device='cuda:0', grad_fn=<AddBackward0>)]\n",
      "0.2678470584002784\n",
      "tensor(-86.6466, device='cuda:0', grad_fn=<NegBackward0>) [tensor(-43.1737, device='cuda:0', grad_fn=<NegBackward0>), tensor(-42.5864, device='cuda:0', grad_fn=<NegBackward0>), tensor(-1.4265, device='cuda:0', grad_fn=<AddBackward0>)]\n",
      "tensor(-86.5544, device='cuda:0', grad_fn=<NegBackward0>) [tensor(-43.1737, device='cuda:0', grad_fn=<NegBackward0>), tensor(-42.5065, device='cuda:0', grad_fn=<NegBackward0>), tensor(-1.3967, device='cuda:0', grad_fn=<AddBackward0>)]\n",
      "0.2977104228805316\n",
      "tensor(-86.5483, device='cuda:0', grad_fn=<NegBackward0>) [tensor(-43.1346, device='cuda:0', grad_fn=<NegBackward0>), tensor(-42.4695, device='cuda:0', grad_fn=<NegBackward0>), tensor(-1.5708, device='cuda:0', grad_fn=<AddBackward0>)]\n",
      "tensor(-86.5442, device='cuda:0', grad_fn=<NegBackward0>) [tensor(-43.1346, device='cuda:0', grad_fn=<NegBackward0>), tensor(-42.5140, device='cuda:0', grad_fn=<NegBackward0>), tensor(-1.4489, device='cuda:0', grad_fn=<AddBackward0>)]\n",
      "0.27482187622645604\n",
      "tensor(-86.8315, device='cuda:0', grad_fn=<NegBackward0>) [tensor(-43.2803, device='cuda:0', grad_fn=<NegBackward0>), tensor(-42.7346, device='cuda:0', grad_fn=<NegBackward0>), tensor(-1.2628, device='cuda:0', grad_fn=<AddBackward0>)]\n",
      "tensor(-86.7840, device='cuda:0', grad_fn=<NegBackward0>) [tensor(-43.2803, device='cuda:0', grad_fn=<NegBackward0>), tensor(-42.6188, device='cuda:0', grad_fn=<NegBackward0>), tensor(-1.4230, device='cuda:0', grad_fn=<AddBackward0>)]\n",
      "0.266111879726447\n",
      "tensor(-85.9557, device='cuda:0', grad_fn=<NegBackward0>) [tensor(-42.8213, device='cuda:0', grad_fn=<NegBackward0>), tensor(-42.3217, device='cuda:0', grad_fn=<NegBackward0>), tensor(-1.2540, device='cuda:0', grad_fn=<AddBackward0>)]\n",
      "tensor(-85.9943, device='cuda:0', grad_fn=<NegBackward0>) [tensor(-42.8213, device='cuda:0', grad_fn=<NegBackward0>), tensor(-42.3959, device='cuda:0', grad_fn=<NegBackward0>), tensor(-1.1752, device='cuda:0', grad_fn=<AddBackward0>)]\n",
      "0.2685818408655806\n",
      "tensor(-86.3351, device='cuda:0', grad_fn=<NegBackward0>) [tensor(-43.0412, device='cuda:0', grad_fn=<NegBackward0>), tensor(-42.4438, device='cuda:0', grad_fn=<NegBackward0>), tensor(-1.3399, device='cuda:0', grad_fn=<AddBackward0>)]\n",
      "tensor(-86.4546, device='cuda:0', grad_fn=<NegBackward0>) [tensor(-43.0412, device='cuda:0', grad_fn=<NegBackward0>), tensor(-42.5711, device='cuda:0', grad_fn=<NegBackward0>), tensor(-1.3217, device='cuda:0', grad_fn=<AddBackward0>)]\n",
      "0.287867459877468\n",
      "tensor(-86.5622, device='cuda:0', grad_fn=<NegBackward0>) [tensor(-43.1570, device='cuda:0', grad_fn=<NegBackward0>), tensor(-42.4769, device='cuda:0', grad_fn=<NegBackward0>), tensor(-1.5301, device='cuda:0', grad_fn=<AddBackward0>)]\n",
      "tensor(-86.5730, device='cuda:0', grad_fn=<NegBackward0>) [tensor(-43.1570, device='cuda:0', grad_fn=<NegBackward0>), tensor(-42.5094, device='cuda:0', grad_fn=<NegBackward0>), tensor(-1.4759, device='cuda:0', grad_fn=<AddBackward0>)]\n"
     ]
    },
    {
     "name": "stdout",
     "output_type": "stream",
     "text": [
      "0.27277103266262226\n",
      "tensor(-86.9268, device='cuda:0', grad_fn=<NegBackward0>) [tensor(-43.3093, device='cuda:0', grad_fn=<NegBackward0>), tensor(-42.7920, device='cuda:0', grad_fn=<NegBackward0>), tensor(-1.2829, device='cuda:0', grad_fn=<AddBackward0>)]\n",
      "tensor(-86.8101, device='cuda:0', grad_fn=<NegBackward0>) [tensor(-43.3093, device='cuda:0', grad_fn=<NegBackward0>), tensor(-42.6579, device='cuda:0', grad_fn=<NegBackward0>), tensor(-1.3230, device='cuda:0', grad_fn=<AddBackward0>)]\n",
      "0.2741382651988371\n",
      "tensor(-86.9166, device='cuda:0', grad_fn=<NegBackward0>) [tensor(-43.3311, device='cuda:0', grad_fn=<NegBackward0>), tensor(-42.7681, device='cuda:0', grad_fn=<NegBackward0>), tensor(-1.2648, device='cuda:0', grad_fn=<AddBackward0>)]\n",
      "tensor(-86.9742, device='cuda:0', grad_fn=<NegBackward0>) [tensor(-43.3311, device='cuda:0', grad_fn=<NegBackward0>), tensor(-42.8079, device='cuda:0', grad_fn=<NegBackward0>), tensor(-1.3054, device='cuda:0', grad_fn=<AddBackward0>)]\n",
      "0.24686700734010394\n",
      "tensor(-87.0242, device='cuda:0', grad_fn=<NegBackward0>) [tensor(-43.3296, device='cuda:0', grad_fn=<NegBackward0>), tensor(-42.9568, device='cuda:0', grad_fn=<NegBackward0>), tensor(-1.0912, device='cuda:0', grad_fn=<AddBackward0>)]\n",
      "tensor(-86.9379, device='cuda:0', grad_fn=<NegBackward0>) [tensor(-43.3296, device='cuda:0', grad_fn=<NegBackward0>), tensor(-42.9178, device='cuda:0', grad_fn=<NegBackward0>), tensor(-0.9948, device='cuda:0', grad_fn=<AddBackward0>)]\n",
      "0.2561068640493126\n",
      "tensor(-87.1569, device='cuda:0', grad_fn=<NegBackward0>) [tensor(-43.4626, device='cuda:0', grad_fn=<NegBackward0>), tensor(-42.9423, device='cuda:0', grad_fn=<NegBackward0>), tensor(-1.1212, device='cuda:0', grad_fn=<AddBackward0>)]\n",
      "tensor(-87.1725, device='cuda:0', grad_fn=<NegBackward0>) [tensor(-43.4626, device='cuda:0', grad_fn=<NegBackward0>), tensor(-42.9633, device='cuda:0', grad_fn=<NegBackward0>), tensor(-1.1099, device='cuda:0', grad_fn=<AddBackward0>)]\n",
      "0.27443017065657577\n",
      "tensor(-87.2581, device='cuda:0', grad_fn=<NegBackward0>) [tensor(-43.4684, device='cuda:0', grad_fn=<NegBackward0>), tensor(-42.9536, device='cuda:0', grad_fn=<NegBackward0>), tensor(-1.3075, device='cuda:0', grad_fn=<AddBackward0>)]\n",
      "tensor(-87.1399, device='cuda:0', grad_fn=<NegBackward0>) [tensor(-43.4684, device='cuda:0', grad_fn=<NegBackward0>), tensor(-42.8550, device='cuda:0', grad_fn=<NegBackward0>), tensor(-1.2624, device='cuda:0', grad_fn=<AddBackward0>)]\n",
      "0.2650567188774975\n",
      "tensor(-87.1131, device='cuda:0', grad_fn=<NegBackward0>) [tensor(-43.3774, device='cuda:0', grad_fn=<NegBackward0>), tensor(-42.9438, device='cuda:0', grad_fn=<NegBackward0>), tensor(-1.2075, device='cuda:0', grad_fn=<AddBackward0>)]\n",
      "tensor(-86.8680, device='cuda:0', grad_fn=<NegBackward0>) [tensor(-43.3774, device='cuda:0', grad_fn=<NegBackward0>), tensor(-42.6663, device='cuda:0', grad_fn=<NegBackward0>), tensor(-1.2805, device='cuda:0', grad_fn=<AddBackward0>)]\n",
      "0.26541244829664284\n",
      "tensor(-86.8673, device='cuda:0', grad_fn=<NegBackward0>) [tensor(-43.2866, device='cuda:0', grad_fn=<NegBackward0>), tensor(-42.7386, device='cuda:0', grad_fn=<NegBackward0>), tensor(-1.3213, device='cuda:0', grad_fn=<AddBackward0>)]\n",
      "tensor(-86.7347, device='cuda:0', grad_fn=<NegBackward0>) [tensor(-43.2866, device='cuda:0', grad_fn=<NegBackward0>), tensor(-42.6923, device='cuda:0', grad_fn=<NegBackward0>), tensor(-1.1293, device='cuda:0', grad_fn=<AddBackward0>)]\n",
      "0.270879043449033\n",
      "tensor(-86.9129, device='cuda:0', grad_fn=<NegBackward0>) [tensor(-43.3076, device='cuda:0', grad_fn=<NegBackward0>), tensor(-42.8526, device='cuda:0', grad_fn=<NegBackward0>), tensor(-1.1228, device='cuda:0', grad_fn=<AddBackward0>)]\n",
      "tensor(-86.8964, device='cuda:0', grad_fn=<NegBackward0>) [tensor(-43.3076, device='cuda:0', grad_fn=<NegBackward0>), tensor(-42.8213, device='cuda:0', grad_fn=<NegBackward0>), tensor(-1.1544, device='cuda:0', grad_fn=<AddBackward0>)]\n",
      "0.28343798995221897\n",
      "tensor(-87.0071, device='cuda:0', grad_fn=<NegBackward0>) [tensor(-43.4279, device='cuda:0', grad_fn=<NegBackward0>), tensor(-42.7299, device='cuda:0', grad_fn=<NegBackward0>), tensor(-1.3380, device='cuda:0', grad_fn=<AddBackward0>)]\n",
      "tensor(-87.0360, device='cuda:0', grad_fn=<NegBackward0>) [tensor(-43.4279, device='cuda:0', grad_fn=<NegBackward0>), tensor(-42.7305, device='cuda:0', grad_fn=<NegBackward0>), tensor(-1.4051, device='cuda:0', grad_fn=<AddBackward0>)]\n",
      "0.2917749313004768\n",
      "tensor(-87.1993, device='cuda:0', grad_fn=<NegBackward0>) [tensor(-43.5335, device='cuda:0', grad_fn=<NegBackward0>), tensor(-42.7790, device='cuda:0', grad_fn=<NegBackward0>), tensor(-1.4275, device='cuda:0', grad_fn=<AddBackward0>)]\n",
      "tensor(-87.2966, device='cuda:0', grad_fn=<NegBackward0>) [tensor(-43.5335, device='cuda:0', grad_fn=<NegBackward0>), tensor(-42.8969, device='cuda:0', grad_fn=<NegBackward0>), tensor(-1.3779, device='cuda:0', grad_fn=<AddBackward0>)]\n",
      "0.2369577164084077\n",
      "tensor(-87.0701, device='cuda:0', grad_fn=<NegBackward0>) [tensor(-43.4798, device='cuda:0', grad_fn=<NegBackward0>), tensor(-42.8882, device='cuda:0', grad_fn=<NegBackward0>), tensor(-1.0178, device='cuda:0', grad_fn=<AddBackward0>)]\n",
      "tensor(-87.2277, device='cuda:0', grad_fn=<NegBackward0>) [tensor(-43.4798, device='cuda:0', grad_fn=<NegBackward0>), tensor(-43.0668, device='cuda:0', grad_fn=<NegBackward0>), tensor(-0.9761, device='cuda:0', grad_fn=<AddBackward0>)]\n",
      "0.28126302722208957\n",
      "tensor(-87.4073, device='cuda:0', grad_fn=<NegBackward0>) [tensor(-43.6116, device='cuda:0', grad_fn=<NegBackward0>), tensor(-42.9221, device='cuda:0', grad_fn=<NegBackward0>), tensor(-1.3955, device='cuda:0', grad_fn=<AddBackward0>)]\n",
      "tensor(-87.4511, device='cuda:0', grad_fn=<NegBackward0>) [tensor(-43.6116, device='cuda:0', grad_fn=<NegBackward0>), tensor(-43.0215, device='cuda:0', grad_fn=<NegBackward0>), tensor(-1.2658, device='cuda:0', grad_fn=<AddBackward0>)]\n",
      "0.3022167360739984\n",
      "tensor(-87.8844, device='cuda:0', grad_fn=<NegBackward0>) [tensor(-43.7658, device='cuda:0', grad_fn=<NegBackward0>), tensor(-43.2034, device='cuda:0', grad_fn=<NegBackward0>), tensor(-1.4972, device='cuda:0', grad_fn=<AddBackward0>)]\n",
      "tensor(-87.7066, device='cuda:0', grad_fn=<NegBackward0>) [tensor(-43.7658, device='cuda:0', grad_fn=<NegBackward0>), tensor(-42.9830, device='cuda:0', grad_fn=<NegBackward0>), tensor(-1.6058, device='cuda:0', grad_fn=<AddBackward0>)]\n",
      "0.2537428707334679\n",
      "tensor(-87.9116, device='cuda:0', grad_fn=<NegBackward0>) [tensor(-43.8371, device='cuda:0', grad_fn=<NegBackward0>), tensor(-43.3818, device='cuda:0', grad_fn=<NegBackward0>), tensor(-0.9991, device='cuda:0', grad_fn=<AddBackward0>)]\n",
      "tensor(-87.9202, device='cuda:0', grad_fn=<NegBackward0>) [tensor(-43.8371, device='cuda:0', grad_fn=<NegBackward0>), tensor(-43.3841, device='cuda:0', grad_fn=<NegBackward0>), tensor(-1.0117, device='cuda:0', grad_fn=<AddBackward0>)]\n",
      "0.27073464498331606\n",
      "tensor(-88.1595, device='cuda:0', grad_fn=<NegBackward0>) [tensor(-43.9157, device='cuda:0', grad_fn=<NegBackward0>), tensor(-43.4279, device='cuda:0', grad_fn=<NegBackward0>), tensor(-1.2612, device='cuda:0', grad_fn=<AddBackward0>)]\n",
      "tensor(-88.1116, device='cuda:0', grad_fn=<NegBackward0>) [tensor(-43.9157, device='cuda:0', grad_fn=<NegBackward0>), tensor(-43.3908, device='cuda:0', grad_fn=<NegBackward0>), tensor(-1.2369, device='cuda:0', grad_fn=<AddBackward0>)]\n",
      "0.27704929887042967\n",
      "tensor(-88.0945, device='cuda:0', grad_fn=<NegBackward0>) [tensor(-43.9278, device='cuda:0', grad_fn=<NegBackward0>), tensor(-43.3703, device='cuda:0', grad_fn=<NegBackward0>), tensor(-1.2176, device='cuda:0', grad_fn=<AddBackward0>)]\n",
      "tensor(-88.1356, device='cuda:0', grad_fn=<NegBackward0>) [tensor(-43.9278, device='cuda:0', grad_fn=<NegBackward0>), tensor(-43.3927, device='cuda:0', grad_fn=<NegBackward0>), tensor(-1.2596, device='cuda:0', grad_fn=<AddBackward0>)]\n",
      "0.2627437532419301\n",
      "tensor(-88.1059, device='cuda:0', grad_fn=<NegBackward0>) [tensor(-43.9587, device='cuda:0', grad_fn=<NegBackward0>), tensor(-43.3953, device='cuda:0', grad_fn=<NegBackward0>), tensor(-1.1210, device='cuda:0', grad_fn=<AddBackward0>)]\n",
      "tensor(-88.1789, device='cuda:0', grad_fn=<NegBackward0>) [tensor(-43.9587, device='cuda:0', grad_fn=<NegBackward0>), tensor(-43.4448, device='cuda:0', grad_fn=<NegBackward0>), tensor(-1.1715, device='cuda:0', grad_fn=<AddBackward0>)]\n"
     ]
    },
    {
     "name": "stdout",
     "output_type": "stream",
     "text": [
      "0.24740566419348392\n",
      "tensor(-88.3864, device='cuda:0', grad_fn=<NegBackward0>) [tensor(-44.0638, device='cuda:0', grad_fn=<NegBackward0>), tensor(-43.6042, device='cuda:0', grad_fn=<NegBackward0>), tensor(-1.0511, device='cuda:0', grad_fn=<AddBackward0>)]\n",
      "tensor(-88.3006, device='cuda:0', grad_fn=<NegBackward0>) [tensor(-44.0638, device='cuda:0', grad_fn=<NegBackward0>), tensor(-43.5542, device='cuda:0', grad_fn=<NegBackward0>), tensor(-0.9792, device='cuda:0', grad_fn=<AddBackward0>)]\n",
      "0.26656709654486277\n",
      "tensor(-88.1884, device='cuda:0', grad_fn=<NegBackward0>) [tensor(-43.9657, device='cuda:0', grad_fn=<NegBackward0>), tensor(-43.4023, device='cuda:0', grad_fn=<NegBackward0>), tensor(-1.2714, device='cuda:0', grad_fn=<AddBackward0>)]\n",
      "tensor(-88.1772, device='cuda:0', grad_fn=<NegBackward0>) [tensor(-43.9657, device='cuda:0', grad_fn=<NegBackward0>), tensor(-43.4388, device='cuda:0', grad_fn=<NegBackward0>), tensor(-1.1656, device='cuda:0', grad_fn=<AddBackward0>)]\n",
      "0.2950103689260382\n",
      "tensor(-88.2291, device='cuda:0', grad_fn=<NegBackward0>) [tensor(-43.9301, device='cuda:0', grad_fn=<NegBackward0>), tensor(-43.4017, device='cuda:0', grad_fn=<NegBackward0>), tensor(-1.4530, device='cuda:0', grad_fn=<AddBackward0>)]\n",
      "tensor(-88.0191, device='cuda:0', grad_fn=<NegBackward0>) [tensor(-43.9301, device='cuda:0', grad_fn=<NegBackward0>), tensor(-43.1917, device='cuda:0', grad_fn=<NegBackward0>), tensor(-1.4527, device='cuda:0', grad_fn=<AddBackward0>)]\n",
      "0.27073464498331606\n",
      "tensor(-88.3581, device='cuda:0', grad_fn=<NegBackward0>) [tensor(-44.1057, device='cuda:0', grad_fn=<NegBackward0>), tensor(-43.4390, device='cuda:0', grad_fn=<NegBackward0>), tensor(-1.2557, device='cuda:0', grad_fn=<AddBackward0>)]\n",
      "tensor(-88.4136, device='cuda:0', grad_fn=<NegBackward0>) [tensor(-44.1057, device='cuda:0', grad_fn=<NegBackward0>), tensor(-43.4919, device='cuda:0', grad_fn=<NegBackward0>), tensor(-1.2616, device='cuda:0', grad_fn=<AddBackward0>)]\n",
      "0.28863118741107885\n",
      "tensor(-88.1069, device='cuda:0', grad_fn=<NegBackward0>) [tensor(-43.9213, device='cuda:0', grad_fn=<NegBackward0>), tensor(-43.2996, device='cuda:0', grad_fn=<NegBackward0>), tensor(-1.4254, device='cuda:0', grad_fn=<AddBackward0>)]\n",
      "tensor(-88.2035, device='cuda:0', grad_fn=<NegBackward0>) [tensor(-43.9213, device='cuda:0', grad_fn=<NegBackward0>), tensor(-43.3934, device='cuda:0', grad_fn=<NegBackward0>), tensor(-1.4321, device='cuda:0', grad_fn=<AddBackward0>)]\n",
      "0.2525901049115246\n",
      "tensor(-88.3549, device='cuda:0', grad_fn=<NegBackward0>) [tensor(-44.0658, device='cuda:0', grad_fn=<NegBackward0>), tensor(-43.5459, device='cuda:0', grad_fn=<NegBackward0>), tensor(-1.1026, device='cuda:0', grad_fn=<AddBackward0>)]\n",
      "tensor(-88.3994, device='cuda:0', grad_fn=<NegBackward0>) [tensor(-44.0658, device='cuda:0', grad_fn=<NegBackward0>), tensor(-43.6157, device='cuda:0', grad_fn=<NegBackward0>), tensor(-1.0500, device='cuda:0', grad_fn=<AddBackward0>)]\n",
      "0.29285564362196387\n",
      "tensor(-88.3182, device='cuda:0', grad_fn=<NegBackward0>) [tensor(-44.0279, device='cuda:0', grad_fn=<NegBackward0>), tensor(-43.4229, device='cuda:0', grad_fn=<NegBackward0>), tensor(-1.3808, device='cuda:0', grad_fn=<AddBackward0>)]\n",
      "tensor(-88.3111, device='cuda:0', grad_fn=<NegBackward0>) [tensor(-44.0279, device='cuda:0', grad_fn=<NegBackward0>), tensor(-43.3706, device='cuda:0', grad_fn=<NegBackward0>), tensor(-1.4911, device='cuda:0', grad_fn=<AddBackward0>)]\n",
      "0.28290878884052595\n",
      "tensor(-88.6130, device='cuda:0', grad_fn=<NegBackward0>) [tensor(-44.1638, device='cuda:0', grad_fn=<NegBackward0>), tensor(-43.6465, device='cuda:0', grad_fn=<NegBackward0>), tensor(-1.2315, device='cuda:0', grad_fn=<AddBackward0>)]\n",
      "tensor(-88.6092, device='cuda:0', grad_fn=<NegBackward0>) [tensor(-44.1638, device='cuda:0', grad_fn=<NegBackward0>), tensor(-43.5945, device='cuda:0', grad_fn=<NegBackward0>), tensor(-1.3416, device='cuda:0', grad_fn=<AddBackward0>)]\n",
      "0.2753889290615867\n",
      "tensor(-88.7459, device='cuda:0', grad_fn=<NegBackward0>) [tensor(-44.2342, device='cuda:0', grad_fn=<NegBackward0>), tensor(-43.7061, device='cuda:0', grad_fn=<NegBackward0>), tensor(-1.2380, device='cuda:0', grad_fn=<AddBackward0>)]\n",
      "tensor(-88.6865, device='cuda:0', grad_fn=<NegBackward0>) [tensor(-44.2342, device='cuda:0', grad_fn=<NegBackward0>), tensor(-43.6414, device='cuda:0', grad_fn=<NegBackward0>), tensor(-1.2500, device='cuda:0', grad_fn=<AddBackward0>)]\n",
      "0.23145350089996222\n",
      "tensor(-88.4713, device='cuda:0', grad_fn=<NegBackward0>) [tensor(-44.1525, device='cuda:0', grad_fn=<NegBackward0>), tensor(-43.6958, device='cuda:0', grad_fn=<NegBackward0>), tensor(-0.8644, device='cuda:0', grad_fn=<AddBackward0>)]\n",
      "tensor(-88.4971, device='cuda:0', grad_fn=<NegBackward0>) [tensor(-44.1525, device='cuda:0', grad_fn=<NegBackward0>), tensor(-43.7124, device='cuda:0', grad_fn=<NegBackward0>), tensor(-0.8817, device='cuda:0', grad_fn=<AddBackward0>)]\n",
      "0.23960859993224287\n",
      "tensor(-88.4940, device='cuda:0', grad_fn=<NegBackward0>) [tensor(-44.1418, device='cuda:0', grad_fn=<NegBackward0>), tensor(-43.6748, device='cuda:0', grad_fn=<NegBackward0>), tensor(-0.9689, device='cuda:0', grad_fn=<AddBackward0>)]\n",
      "tensor(-88.5916, device='cuda:0', grad_fn=<NegBackward0>) [tensor(-44.1418, device='cuda:0', grad_fn=<NegBackward0>), tensor(-43.7499, device='cuda:0', grad_fn=<NegBackward0>), tensor(-1.0136, device='cuda:0', grad_fn=<AddBackward0>)]\n",
      "0.26806768556181043\n",
      "tensor(-88.4621, device='cuda:0', grad_fn=<NegBackward0>) [tensor(-44.1550, device='cuda:0', grad_fn=<NegBackward0>), tensor(-43.4905, device='cuda:0', grad_fn=<NegBackward0>), tensor(-1.2628, device='cuda:0', grad_fn=<AddBackward0>)]\n",
      "tensor(-88.6055, device='cuda:0', grad_fn=<NegBackward0>) [tensor(-44.1550, device='cuda:0', grad_fn=<NegBackward0>), tensor(-43.6825, device='cuda:0', grad_fn=<NegBackward0>), tensor(-1.1555, device='cuda:0', grad_fn=<AddBackward0>)]\n",
      "0.2819248514698013\n",
      "tensor(-88.5444, device='cuda:0', grad_fn=<NegBackward0>) [tensor(-44.1435, device='cuda:0', grad_fn=<NegBackward0>), tensor(-43.5559, device='cuda:0', grad_fn=<NegBackward0>), tensor(-1.3280, device='cuda:0', grad_fn=<AddBackward0>)]\n",
      "tensor(-88.5381, device='cuda:0', grad_fn=<NegBackward0>) [tensor(-44.1435, device='cuda:0', grad_fn=<NegBackward0>), tensor(-43.5653, device='cuda:0', grad_fn=<NegBackward0>), tensor(-1.2918, device='cuda:0', grad_fn=<AddBackward0>)]\n",
      "0.3045730608737387\n",
      "tensor(-88.0968, device='cuda:0', grad_fn=<NegBackward0>) [tensor(-44.0621, device='cuda:0', grad_fn=<NegBackward0>), tensor(-43.0532, device='cuda:0', grad_fn=<NegBackward0>), tensor(-1.6686, device='cuda:0', grad_fn=<AddBackward0>)]\n",
      "tensor(-88.5431, device='cuda:0', grad_fn=<NegBackward0>) [tensor(-44.0621, device='cuda:0', grad_fn=<NegBackward0>), tensor(-43.5646, device='cuda:0', grad_fn=<NegBackward0>), tensor(-1.5004, device='cuda:0', grad_fn=<AddBackward0>)]\n",
      "0.2666521016577956\n",
      "tensor(-89.0414, device='cuda:0', grad_fn=<NegBackward0>) [tensor(-44.4219, device='cuda:0', grad_fn=<NegBackward0>), tensor(-43.8575, device='cuda:0', grad_fn=<NegBackward0>), tensor(-1.1425, device='cuda:0', grad_fn=<AddBackward0>)]\n",
      "tensor(-89.1431, device='cuda:0', grad_fn=<NegBackward0>) [tensor(-44.4219, device='cuda:0', grad_fn=<NegBackward0>), tensor(-43.9156, device='cuda:0', grad_fn=<NegBackward0>), tensor(-1.2381, device='cuda:0', grad_fn=<AddBackward0>)]\n",
      "0.2757841410840692\n",
      "tensor(-88.7324, device='cuda:0', grad_fn=<NegBackward0>) [tensor(-44.2751, device='cuda:0', grad_fn=<NegBackward0>), tensor(-43.5951, device='cuda:0', grad_fn=<NegBackward0>), tensor(-1.3682, device='cuda:0', grad_fn=<AddBackward0>)]\n",
      "tensor(-88.7543, device='cuda:0', grad_fn=<NegBackward0>) [tensor(-44.2751, device='cuda:0', grad_fn=<NegBackward0>), tensor(-43.6272, device='cuda:0', grad_fn=<NegBackward0>), tensor(-1.3445, device='cuda:0', grad_fn=<AddBackward0>)]\n",
      "0.2810989820966207\n",
      "tensor(-88.9565, device='cuda:0', grad_fn=<NegBackward0>) [tensor(-44.3562, device='cuda:0', grad_fn=<NegBackward0>), tensor(-43.7375, device='cuda:0', grad_fn=<NegBackward0>), tensor(-1.3698, device='cuda:0', grad_fn=<AddBackward0>)]\n",
      "tensor(-88.8748, device='cuda:0', grad_fn=<NegBackward0>) [tensor(-44.3562, device='cuda:0', grad_fn=<NegBackward0>), tensor(-43.6238, device='cuda:0', grad_fn=<NegBackward0>), tensor(-1.4467, device='cuda:0', grad_fn=<AddBackward0>)]\n"
     ]
    },
    {
     "name": "stdout",
     "output_type": "stream",
     "text": [
      "0.27606538946377346\n",
      "tensor(-88.9681, device='cuda:0', grad_fn=<NegBackward0>) [tensor(-44.3562, device='cuda:0', grad_fn=<NegBackward0>), tensor(-43.8157, device='cuda:0', grad_fn=<NegBackward0>), tensor(-1.2172, device='cuda:0', grad_fn=<AddBackward0>)]\n",
      "tensor(-88.9866, device='cuda:0', grad_fn=<NegBackward0>) [tensor(-44.3562, device='cuda:0', grad_fn=<NegBackward0>), tensor(-43.8261, device='cuda:0', grad_fn=<NegBackward0>), tensor(-1.2353, device='cuda:0', grad_fn=<AddBackward0>)]\n",
      "0.27623726901471285\n",
      "tensor(-89.4392, device='cuda:0', grad_fn=<NegBackward0>) [tensor(-44.5922, device='cuda:0', grad_fn=<NegBackward0>), tensor(-44.0691, device='cuda:0', grad_fn=<NegBackward0>), tensor(-1.1768, device='cuda:0', grad_fn=<AddBackward0>)]\n",
      "tensor(-89.3810, device='cuda:0', grad_fn=<NegBackward0>) [tensor(-44.5922, device='cuda:0', grad_fn=<NegBackward0>), tensor(-43.9602, device='cuda:0', grad_fn=<NegBackward0>), tensor(-1.2901, device='cuda:0', grad_fn=<AddBackward0>)]\n",
      "0.1961208444943458\n",
      "tensor(-89.2464, device='cuda:0', grad_fn=<NegBackward0>) [tensor(-44.5009, device='cuda:0', grad_fn=<NegBackward0>), tensor(-44.2704, device='cuda:0', grad_fn=<NegBackward0>), tensor(-0.6082, device='cuda:0', grad_fn=<AddBackward0>)]\n",
      "tensor(-89.1889, device='cuda:0', grad_fn=<NegBackward0>) [tensor(-44.5009, device='cuda:0', grad_fn=<NegBackward0>), tensor(-44.2125, device='cuda:0', grad_fn=<NegBackward0>), tensor(-0.6089, device='cuda:0', grad_fn=<AddBackward0>)]\n",
      "0.25729766311850055\n",
      "tensor(-89.1220, device='cuda:0', grad_fn=<NegBackward0>) [tensor(-44.4352, device='cuda:0', grad_fn=<NegBackward0>), tensor(-43.9579, device='cuda:0', grad_fn=<NegBackward0>), tensor(-1.0728, device='cuda:0', grad_fn=<AddBackward0>)]\n",
      "tensor(-89.0207, device='cuda:0', grad_fn=<NegBackward0>) [tensor(-44.4352, device='cuda:0', grad_fn=<NegBackward0>), tensor(-43.8419, device='cuda:0', grad_fn=<NegBackward0>), tensor(-1.1035, device='cuda:0', grad_fn=<AddBackward0>)]\n",
      "0.2628534494853296\n",
      "tensor(-89.0356, device='cuda:0', grad_fn=<NegBackward0>) [tensor(-44.3727, device='cuda:0', grad_fn=<NegBackward0>), tensor(-43.8585, device='cuda:0', grad_fn=<NegBackward0>), tensor(-1.2355, device='cuda:0', grad_fn=<AddBackward0>)]\n",
      "tensor(-89.0156, device='cuda:0', grad_fn=<NegBackward0>) [tensor(-44.3727, device='cuda:0', grad_fn=<NegBackward0>), tensor(-43.8573, device='cuda:0', grad_fn=<NegBackward0>), tensor(-1.1938, device='cuda:0', grad_fn=<AddBackward0>)]\n",
      "0.2988685108180889\n",
      "tensor(-89.2171, device='cuda:0', grad_fn=<NegBackward0>) [tensor(-44.4841, device='cuda:0', grad_fn=<NegBackward0>), tensor(-43.8751, device='cuda:0', grad_fn=<NegBackward0>), tensor(-1.3581, device='cuda:0', grad_fn=<AddBackward0>)]\n",
      "tensor(-89.1922, device='cuda:0', grad_fn=<NegBackward0>) [tensor(-44.4841, device='cuda:0', grad_fn=<NegBackward0>), tensor(-43.7876, device='cuda:0', grad_fn=<NegBackward0>), tensor(-1.5105, device='cuda:0', grad_fn=<AddBackward0>)]\n",
      "0.26937148174493414\n",
      "tensor(-89.3064, device='cuda:0', grad_fn=<NegBackward0>) [tensor(-44.5565, device='cuda:0', grad_fn=<NegBackward0>), tensor(-43.9922, device='cuda:0', grad_fn=<NegBackward0>), tensor(-1.1335, device='cuda:0', grad_fn=<AddBackward0>)]\n",
      "tensor(-89.4225, device='cuda:0', grad_fn=<NegBackward0>) [tensor(-44.5565, device='cuda:0', grad_fn=<NegBackward0>), tensor(-44.1107, device='cuda:0', grad_fn=<NegBackward0>), tensor(-1.1283, device='cuda:0', grad_fn=<AddBackward0>)]\n",
      "0.27345589741608634\n",
      "tensor(-88.9917, device='cuda:0', grad_fn=<NegBackward0>) [tensor(-44.3990, device='cuda:0', grad_fn=<NegBackward0>), tensor(-43.8099, device='cuda:0', grad_fn=<NegBackward0>), tensor(-1.1874, device='cuda:0', grad_fn=<AddBackward0>)]\n",
      "tensor(-88.9823, device='cuda:0', grad_fn=<NegBackward0>) [tensor(-44.3990, device='cuda:0', grad_fn=<NegBackward0>), tensor(-43.7584, device='cuda:0', grad_fn=<NegBackward0>), tensor(-1.2817, device='cuda:0', grad_fn=<AddBackward0>)]\n",
      "0.25206361456739523\n",
      "tensor(-88.9352, device='cuda:0', grad_fn=<NegBackward0>) [tensor(-44.3959, device='cuda:0', grad_fn=<NegBackward0>), tensor(-43.8335, device='cuda:0', grad_fn=<NegBackward0>), tensor(-1.0255, device='cuda:0', grad_fn=<AddBackward0>)]\n",
      "tensor(-88.9698, device='cuda:0', grad_fn=<NegBackward0>) [tensor(-44.3959, device='cuda:0', grad_fn=<NegBackward0>), tensor(-43.8588, device='cuda:0', grad_fn=<NegBackward0>), tensor(-1.0443, device='cuda:0', grad_fn=<AddBackward0>)]\n",
      "0.24255137372617602\n",
      "tensor(-89.3652, device='cuda:0', grad_fn=<NegBackward0>) [tensor(-44.5733, device='cuda:0', grad_fn=<NegBackward0>), tensor(-44.0602, device='cuda:0', grad_fn=<NegBackward0>), tensor(-1.0787, device='cuda:0', grad_fn=<AddBackward0>)]\n",
      "tensor(-89.3585, device='cuda:0', grad_fn=<NegBackward0>) [tensor(-44.5733, device='cuda:0', grad_fn=<NegBackward0>), tensor(-44.1265, device='cuda:0', grad_fn=<NegBackward0>), tensor(-0.9324, device='cuda:0', grad_fn=<AddBackward0>)]\n",
      "0.25995926116219625\n",
      "tensor(-89.8052, device='cuda:0', grad_fn=<NegBackward0>) [tensor(-44.7579, device='cuda:0', grad_fn=<NegBackward0>), tensor(-44.3177, device='cuda:0', grad_fn=<NegBackward0>), tensor(-1.0743, device='cuda:0', grad_fn=<AddBackward0>)]\n",
      "tensor(-89.7474, device='cuda:0', grad_fn=<NegBackward0>) [tensor(-44.7579, device='cuda:0', grad_fn=<NegBackward0>), tensor(-44.2523, device='cuda:0', grad_fn=<NegBackward0>), tensor(-1.0900, device='cuda:0', grad_fn=<AddBackward0>)]\n",
      "0.2839465676799655\n",
      "tensor(-89.5058, device='cuda:0', grad_fn=<NegBackward0>) [tensor(-44.6526, device='cuda:0', grad_fn=<NegBackward0>), tensor(-43.9708, device='cuda:0', grad_fn=<NegBackward0>), tensor(-1.4166, device='cuda:0', grad_fn=<AddBackward0>)]\n",
      "tensor(-89.5864, device='cuda:0', grad_fn=<NegBackward0>) [tensor(-44.6526, device='cuda:0', grad_fn=<NegBackward0>), tensor(-44.0983, device='cuda:0', grad_fn=<NegBackward0>), tensor(-1.3058, device='cuda:0', grad_fn=<AddBackward0>)]\n",
      "0.2660271912854658\n",
      "tensor(-89.7289, device='cuda:0', grad_fn=<NegBackward0>) [tensor(-44.7404, device='cuda:0', grad_fn=<NegBackward0>), tensor(-44.2698, device='cuda:0', grad_fn=<NegBackward0>), tensor(-1.0519, device='cuda:0', grad_fn=<AddBackward0>)]\n",
      "tensor(-89.6938, device='cuda:0', grad_fn=<NegBackward0>) [tensor(-44.7404, device='cuda:0', grad_fn=<NegBackward0>), tensor(-44.1739, device='cuda:0', grad_fn=<NegBackward0>), tensor(-1.1804, device='cuda:0', grad_fn=<AddBackward0>)]\n",
      "0.2747242037658002\n",
      "tensor(-89.5029, device='cuda:0', grad_fn=<NegBackward0>) [tensor(-44.5750, device='cuda:0', grad_fn=<NegBackward0>), tensor(-44.1281, device='cuda:0', grad_fn=<NegBackward0>), tensor(-1.2251, device='cuda:0', grad_fn=<AddBackward0>)]\n",
      "tensor(-89.4780, device='cuda:0', grad_fn=<NegBackward0>) [tensor(-44.5750, device='cuda:0', grad_fn=<NegBackward0>), tensor(-44.0765, device='cuda:0', grad_fn=<NegBackward0>), tensor(-1.2852, device='cuda:0', grad_fn=<AddBackward0>)]\n",
      "0.2796169274272101\n",
      "tensor(-89.9865, device='cuda:0', grad_fn=<NegBackward0>) [tensor(-44.8676, device='cuda:0', grad_fn=<NegBackward0>), tensor(-44.2701, device='cuda:0', grad_fn=<NegBackward0>), tensor(-1.3369, device='cuda:0', grad_fn=<AddBackward0>)]\n",
      "tensor(-89.9955, device='cuda:0', grad_fn=<NegBackward0>) [tensor(-44.8676, device='cuda:0', grad_fn=<NegBackward0>), tensor(-44.3027, device='cuda:0', grad_fn=<NegBackward0>), tensor(-1.2824, device='cuda:0', grad_fn=<AddBackward0>)]\n",
      "0.2917546979409815\n",
      "tensor(-89.3937, device='cuda:0', grad_fn=<NegBackward0>) [tensor(-44.6038, device='cuda:0', grad_fn=<NegBackward0>), tensor(-43.9082, device='cuda:0', grad_fn=<NegBackward0>), tensor(-1.4150, device='cuda:0', grad_fn=<AddBackward0>)]\n",
      "tensor(-89.4420, device='cuda:0', grad_fn=<NegBackward0>) [tensor(-44.6038, device='cuda:0', grad_fn=<NegBackward0>), tensor(-43.9624, device='cuda:0', grad_fn=<NegBackward0>), tensor(-1.4008, device='cuda:0', grad_fn=<AddBackward0>)]\n",
      "0.2645939799984605\n",
      "tensor(-90.0484, device='cuda:0', grad_fn=<NegBackward0>) [tensor(-44.8864, device='cuda:0', grad_fn=<NegBackward0>), tensor(-44.3910, device='cuda:0', grad_fn=<NegBackward0>), tensor(-1.1619, device='cuda:0', grad_fn=<AddBackward0>)]\n",
      "tensor(-89.9539, device='cuda:0', grad_fn=<NegBackward0>) [tensor(-44.8864, device='cuda:0', grad_fn=<NegBackward0>), tensor(-44.3287, device='cuda:0', grad_fn=<NegBackward0>), tensor(-1.0933, device='cuda:0', grad_fn=<AddBackward0>)]\n"
     ]
    },
    {
     "name": "stdout",
     "output_type": "stream",
     "text": [
      "0.27371201207282647\n",
      "tensor(-90.1153, device='cuda:0', grad_fn=<NegBackward0>) [tensor(-44.9568, device='cuda:0', grad_fn=<NegBackward0>), tensor(-44.3142, device='cuda:0', grad_fn=<NegBackward0>), tensor(-1.3264, device='cuda:0', grad_fn=<AddBackward0>)]\n",
      "tensor(-90.2077, device='cuda:0', grad_fn=<NegBackward0>) [tensor(-44.9568, device='cuda:0', grad_fn=<NegBackward0>), tensor(-44.4998, device='cuda:0', grad_fn=<NegBackward0>), tensor(-1.1192, device='cuda:0', grad_fn=<AddBackward0>)]\n",
      "0.2582751155369081\n",
      "tensor(-90.0895, device='cuda:0', grad_fn=<NegBackward0>) [tensor(-44.9227, device='cuda:0', grad_fn=<NegBackward0>), tensor(-44.4615, device='cuda:0', grad_fn=<NegBackward0>), tensor(-1.0244, device='cuda:0', grad_fn=<AddBackward0>)]\n",
      "tensor(-90.0213, device='cuda:0', grad_fn=<NegBackward0>) [tensor(-44.9227, device='cuda:0', grad_fn=<NegBackward0>), tensor(-44.3683, device='cuda:0', grad_fn=<NegBackward0>), tensor(-1.0757, device='cuda:0', grad_fn=<AddBackward0>)]\n",
      "0.2646301764336419\n",
      "tensor(-90.1025, device='cuda:0', grad_fn=<NegBackward0>) [tensor(-44.8931, device='cuda:0', grad_fn=<NegBackward0>), tensor(-44.4533, device='cuda:0', grad_fn=<NegBackward0>), tensor(-1.1302, device='cuda:0', grad_fn=<AddBackward0>)]\n",
      "tensor(-90.0062, device='cuda:0', grad_fn=<NegBackward0>) [tensor(-44.8931, device='cuda:0', grad_fn=<NegBackward0>), tensor(-44.3676, device='cuda:0', grad_fn=<NegBackward0>), tensor(-1.1076, device='cuda:0', grad_fn=<AddBackward0>)]\n",
      "0.27311028205066595\n",
      "tensor(-89.6434, device='cuda:0', grad_fn=<NegBackward0>) [tensor(-44.7748, device='cuda:0', grad_fn=<NegBackward0>), tensor(-44.0577, device='cuda:0', grad_fn=<NegBackward0>), tensor(-1.2499, device='cuda:0', grad_fn=<AddBackward0>)]\n",
      "tensor(-89.6870, device='cuda:0', grad_fn=<NegBackward0>) [tensor(-44.7748, device='cuda:0', grad_fn=<NegBackward0>), tensor(-44.1403, device='cuda:0', grad_fn=<NegBackward0>), tensor(-1.1637, device='cuda:0', grad_fn=<AddBackward0>)]\n",
      "0.26492102879386864\n",
      "tensor(-90.0615, device='cuda:0', grad_fn=<NegBackward0>) [tensor(-44.8848, device='cuda:0', grad_fn=<NegBackward0>), tensor(-44.3802, device='cuda:0', grad_fn=<NegBackward0>), tensor(-1.2178, device='cuda:0', grad_fn=<AddBackward0>)]\n",
      "tensor(-89.9923, device='cuda:0', grad_fn=<NegBackward0>) [tensor(-44.8848, device='cuda:0', grad_fn=<NegBackward0>), tensor(-44.3831, device='cuda:0', grad_fn=<NegBackward0>), tensor(-1.0636, device='cuda:0', grad_fn=<AddBackward0>)]\n",
      "0.27138573470347843\n",
      "tensor(-89.8521, device='cuda:0', grad_fn=<NegBackward0>) [tensor(-44.8348, device='cuda:0', grad_fn=<NegBackward0>), tensor(-44.2373, device='cuda:0', grad_fn=<NegBackward0>), tensor(-1.1813, device='cuda:0', grad_fn=<AddBackward0>)]\n",
      "tensor(-89.8661, device='cuda:0', grad_fn=<NegBackward0>) [tensor(-44.8348, device='cuda:0', grad_fn=<NegBackward0>), tensor(-44.2742, device='cuda:0', grad_fn=<NegBackward0>), tensor(-1.1321, device='cuda:0', grad_fn=<AddBackward0>)]\n",
      "0.2558027848803747\n",
      "tensor(-90.3177, device='cuda:0', grad_fn=<NegBackward0>) [tensor(-45.0443, device='cuda:0', grad_fn=<NegBackward0>), tensor(-44.6114, device='cuda:0', grad_fn=<NegBackward0>), tensor(-0.9387, device='cuda:0', grad_fn=<AddBackward0>)]\n",
      "tensor(-90.2689, device='cuda:0', grad_fn=<NegBackward0>) [tensor(-45.0443, device='cuda:0', grad_fn=<NegBackward0>), tensor(-44.5391, device='cuda:0', grad_fn=<NegBackward0>), tensor(-0.9847, device='cuda:0', grad_fn=<AddBackward0>)]\n",
      "0.2498492695534508\n",
      "tensor(-90.2920, device='cuda:0', grad_fn=<NegBackward0>) [tensor(-45.0415, device='cuda:0', grad_fn=<NegBackward0>), tensor(-44.5115, device='cuda:0', grad_fn=<NegBackward0>), tensor(-1.0936, device='cuda:0', grad_fn=<AddBackward0>)]\n",
      "tensor(-90.3404, device='cuda:0', grad_fn=<NegBackward0>) [tensor(-45.0415, device='cuda:0', grad_fn=<NegBackward0>), tensor(-44.6055, device='cuda:0', grad_fn=<NegBackward0>), tensor(-1.0006, device='cuda:0', grad_fn=<AddBackward0>)]\n",
      "0.26276660301139154\n",
      "tensor(-90.3657, device='cuda:0', grad_fn=<NegBackward0>) [tensor(-45.0595, device='cuda:0', grad_fn=<NegBackward0>), tensor(-44.5200, device='cuda:0', grad_fn=<NegBackward0>), tensor(-1.1950, device='cuda:0', grad_fn=<AddBackward0>)]\n",
      "tensor(-90.3121, device='cuda:0', grad_fn=<NegBackward0>) [tensor(-45.0595, device='cuda:0', grad_fn=<NegBackward0>), tensor(-44.4862, device='cuda:0', grad_fn=<NegBackward0>), tensor(-1.1520, device='cuda:0', grad_fn=<AddBackward0>)]\n",
      "0.26675168713171005\n",
      "tensor(-90.5218, device='cuda:0', grad_fn=<NegBackward0>) [tensor(-45.1532, device='cuda:0', grad_fn=<NegBackward0>), tensor(-44.6414, device='cuda:0', grad_fn=<NegBackward0>), tensor(-1.0693, device='cuda:0', grad_fn=<AddBackward0>)]\n",
      "tensor(-90.5888, device='cuda:0', grad_fn=<NegBackward0>) [tensor(-45.1532, device='cuda:0', grad_fn=<NegBackward0>), tensor(-44.6949, device='cuda:0', grad_fn=<NegBackward0>), tensor(-1.0974, device='cuda:0', grad_fn=<AddBackward0>)]\n",
      "0.24300642269714856\n",
      "tensor(-90.5629, device='cuda:0', grad_fn=<NegBackward0>) [tensor(-45.1323, device='cuda:0', grad_fn=<NegBackward0>), tensor(-44.7487, device='cuda:0', grad_fn=<NegBackward0>), tensor(-0.9775, device='cuda:0', grad_fn=<AddBackward0>)]\n",
      "tensor(-90.3907, device='cuda:0', grad_fn=<NegBackward0>) [tensor(-45.1323, device='cuda:0', grad_fn=<NegBackward0>), tensor(-44.5999, device='cuda:0', grad_fn=<NegBackward0>), tensor(-0.9318, device='cuda:0', grad_fn=<AddBackward0>)]\n",
      "0.2372358949605229\n",
      "tensor(-90.4990, device='cuda:0', grad_fn=<NegBackward0>) [tensor(-45.1615, device='cuda:0', grad_fn=<NegBackward0>), tensor(-44.6851, device='cuda:0', grad_fn=<NegBackward0>), tensor(-0.9203, device='cuda:0', grad_fn=<AddBackward0>)]\n",
      "tensor(-90.5806, device='cuda:0', grad_fn=<NegBackward0>) [tensor(-45.1615, device='cuda:0', grad_fn=<NegBackward0>), tensor(-44.7542, device='cuda:0', grad_fn=<NegBackward0>), tensor(-0.9444, device='cuda:0', grad_fn=<AddBackward0>)]\n",
      "0.2678430644535263\n",
      "tensor(-90.5397, device='cuda:0', grad_fn=<NegBackward0>) [tensor(-45.1599, device='cuda:0', grad_fn=<NegBackward0>), tensor(-44.6319, device='cuda:0', grad_fn=<NegBackward0>), tensor(-1.1128, device='cuda:0', grad_fn=<AddBackward0>)]\n",
      "tensor(-90.5591, device='cuda:0', grad_fn=<NegBackward0>) [tensor(-45.1599, device='cuda:0', grad_fn=<NegBackward0>), tensor(-44.6521, device='cuda:0', grad_fn=<NegBackward0>), tensor(-1.1108, device='cuda:0', grad_fn=<AddBackward0>)]\n",
      "0.24637113620697557\n",
      "tensor(-90.5133, device='cuda:0', grad_fn=<NegBackward0>) [tensor(-45.1763, device='cuda:0', grad_fn=<NegBackward0>), tensor(-44.6615, device='cuda:0', grad_fn=<NegBackward0>), tensor(-0.9649, device='cuda:0', grad_fn=<AddBackward0>)]\n",
      "tensor(-90.5975, device='cuda:0', grad_fn=<NegBackward0>) [tensor(-45.1763, device='cuda:0', grad_fn=<NegBackward0>), tensor(-44.7536, device='cuda:0', grad_fn=<NegBackward0>), tensor(-0.9496, device='cuda:0', grad_fn=<AddBackward0>)]\n",
      "0.2682080221260452\n",
      "tensor(-90.4614, device='cuda:0', grad_fn=<NegBackward0>) [tensor(-45.1436, device='cuda:0', grad_fn=<NegBackward0>), tensor(-44.5362, device='cuda:0', grad_fn=<NegBackward0>), tensor(-1.1851, device='cuda:0', grad_fn=<AddBackward0>)]\n",
      "tensor(-90.4948, device='cuda:0', grad_fn=<NegBackward0>) [tensor(-45.1436, device='cuda:0', grad_fn=<NegBackward0>), tensor(-44.5541, device='cuda:0', grad_fn=<NegBackward0>), tensor(-1.2192, device='cuda:0', grad_fn=<AddBackward0>)]\n",
      "0.25520729406858866\n",
      "tensor(-90.5815, device='cuda:0', grad_fn=<NegBackward0>) [tensor(-45.1624, device='cuda:0', grad_fn=<NegBackward0>), tensor(-44.6508, device='cuda:0', grad_fn=<NegBackward0>), tensor(-1.1561, device='cuda:0', grad_fn=<AddBackward0>)]\n",
      "tensor(-90.6525, device='cuda:0', grad_fn=<NegBackward0>) [tensor(-45.1624, device='cuda:0', grad_fn=<NegBackward0>), tensor(-44.7791, device='cuda:0', grad_fn=<NegBackward0>), tensor(-1.0360, device='cuda:0', grad_fn=<AddBackward0>)]\n",
      "0.27778555087081924\n",
      "tensor(-90.7583, device='cuda:0', grad_fn=<NegBackward0>) [tensor(-45.2252, device='cuda:0', grad_fn=<NegBackward0>), tensor(-44.7297, device='cuda:0', grad_fn=<NegBackward0>), tensor(-1.2331, device='cuda:0', grad_fn=<AddBackward0>)]\n",
      "tensor(-90.7294, device='cuda:0', grad_fn=<NegBackward0>) [tensor(-45.2252, device='cuda:0', grad_fn=<NegBackward0>), tensor(-44.7204, device='cuda:0', grad_fn=<NegBackward0>), tensor(-1.1897, device='cuda:0', grad_fn=<AddBackward0>)]\n"
     ]
    },
    {
     "name": "stdout",
     "output_type": "stream",
     "text": [
      "0.24925573219276986\n",
      "tensor(-90.5276, device='cuda:0', grad_fn=<NegBackward0>) [tensor(-45.1915, device='cuda:0', grad_fn=<NegBackward0>), tensor(-44.6459, device='cuda:0', grad_fn=<NegBackward0>), tensor(-0.9943, device='cuda:0', grad_fn=<AddBackward0>)]\n",
      "tensor(-90.5084, device='cuda:0', grad_fn=<NegBackward0>) [tensor(-45.1915, device='cuda:0', grad_fn=<NegBackward0>), tensor(-44.5958, device='cuda:0', grad_fn=<NegBackward0>), tensor(-1.0567, device='cuda:0', grad_fn=<AddBackward0>)]\n",
      "0.26012344685217975\n",
      "tensor(-90.6257, device='cuda:0', grad_fn=<NegBackward0>) [tensor(-45.2340, device='cuda:0', grad_fn=<NegBackward0>), tensor(-44.6312, device='cuda:0', grad_fn=<NegBackward0>), tensor(-1.1392, device='cuda:0', grad_fn=<AddBackward0>)]\n",
      "tensor(-90.7347, device='cuda:0', grad_fn=<NegBackward0>) [tensor(-45.2340, device='cuda:0', grad_fn=<NegBackward0>), tensor(-44.7747, device='cuda:0', grad_fn=<NegBackward0>), tensor(-1.0667, device='cuda:0', grad_fn=<AddBackward0>)]\n",
      "0.2743529974482883\n",
      "tensor(-90.5118, device='cuda:0', grad_fn=<NegBackward0>) [tensor(-45.2161, device='cuda:0', grad_fn=<NegBackward0>), tensor(-44.4867, device='cuda:0', grad_fn=<NegBackward0>), tensor(-1.2457, device='cuda:0', grad_fn=<AddBackward0>)]\n",
      "tensor(-90.5637, device='cuda:0', grad_fn=<NegBackward0>) [tensor(-45.2161, device='cuda:0', grad_fn=<NegBackward0>), tensor(-44.5192, device='cuda:0', grad_fn=<NegBackward0>), tensor(-1.2896, device='cuda:0', grad_fn=<AddBackward0>)]\n",
      "0.2863748969967368\n",
      "tensor(-90.8516, device='cuda:0', grad_fn=<NegBackward0>) [tensor(-45.3176, device='cuda:0', grad_fn=<NegBackward0>), tensor(-44.6763, device='cuda:0', grad_fn=<NegBackward0>), tensor(-1.3576, device='cuda:0', grad_fn=<AddBackward0>)]\n",
      "tensor(-90.8351, device='cuda:0', grad_fn=<NegBackward0>) [tensor(-45.3176, device='cuda:0', grad_fn=<NegBackward0>), tensor(-44.6766, device='cuda:0', grad_fn=<NegBackward0>), tensor(-1.3186, device='cuda:0', grad_fn=<AddBackward0>)]\n",
      "0.2662732592253895\n",
      "tensor(-91.0198, device='cuda:0', grad_fn=<NegBackward0>) [tensor(-45.4077, device='cuda:0', grad_fn=<NegBackward0>), tensor(-44.9030, device='cuda:0', grad_fn=<NegBackward0>), tensor(-1.0322, device='cuda:0', grad_fn=<AddBackward0>)]\n",
      "tensor(-91.0738, device='cuda:0', grad_fn=<NegBackward0>) [tensor(-45.4077, device='cuda:0', grad_fn=<NegBackward0>), tensor(-44.9212, device='cuda:0', grad_fn=<NegBackward0>), tensor(-1.1061, device='cuda:0', grad_fn=<AddBackward0>)]\n",
      "0.24922410104988843\n",
      "tensor(-90.7580, device='cuda:0', grad_fn=<NegBackward0>) [tensor(-45.3345, device='cuda:0', grad_fn=<NegBackward0>), tensor(-44.7436, device='cuda:0', grad_fn=<NegBackward0>), tensor(-0.9738, device='cuda:0', grad_fn=<AddBackward0>)]\n",
      "tensor(-90.8437, device='cuda:0', grad_fn=<NegBackward0>) [tensor(-45.3345, device='cuda:0', grad_fn=<NegBackward0>), tensor(-44.8162, device='cuda:0', grad_fn=<NegBackward0>), tensor(-0.9997, device='cuda:0', grad_fn=<AddBackward0>)]\n",
      "0.24408009187704613\n",
      "tensor(-91.1597, device='cuda:0', grad_fn=<NegBackward0>) [tensor(-45.4124, device='cuda:0', grad_fn=<NegBackward0>), tensor(-45.0852, device='cuda:0', grad_fn=<NegBackward0>), tensor(-0.9389, device='cuda:0', grad_fn=<AddBackward0>)]\n",
      "tensor(-90.9837, device='cuda:0', grad_fn=<NegBackward0>) [tensor(-45.4124, device='cuda:0', grad_fn=<NegBackward0>), tensor(-44.8982, device='cuda:0', grad_fn=<NegBackward0>), tensor(-0.9601, device='cuda:0', grad_fn=<AddBackward0>)]\n",
      "0.2868298447847059\n",
      "tensor(-91.1463, device='cuda:0', grad_fn=<NegBackward0>) [tensor(-45.4852, device='cuda:0', grad_fn=<NegBackward0>), tensor(-44.8456, device='cuda:0', grad_fn=<NegBackward0>), tensor(-1.2603, device='cuda:0', grad_fn=<AddBackward0>)]\n",
      "tensor(-91.1924, device='cuda:0', grad_fn=<NegBackward0>) [tensor(-45.4852, device='cuda:0', grad_fn=<NegBackward0>), tensor(-44.8186, device='cuda:0', grad_fn=<NegBackward0>), tensor(-1.4317, device='cuda:0', grad_fn=<AddBackward0>)]\n",
      "0.27606568239354207\n",
      "tensor(-90.8458, device='cuda:0', grad_fn=<NegBackward0>) [tensor(-45.3629, device='cuda:0', grad_fn=<NegBackward0>), tensor(-44.7066, device='cuda:0', grad_fn=<NegBackward0>), tensor(-1.1736, device='cuda:0', grad_fn=<AddBackward0>)]\n",
      "tensor(-90.9630, device='cuda:0', grad_fn=<NegBackward0>) [tensor(-45.3629, device='cuda:0', grad_fn=<NegBackward0>), tensor(-44.8170, device='cuda:0', grad_fn=<NegBackward0>), tensor(-1.1882, device='cuda:0', grad_fn=<AddBackward0>)]\n",
      "0.23455989505696018\n",
      "tensor(-91.3097, device='cuda:0', grad_fn=<NegBackward0>) [tensor(-45.5322, device='cuda:0', grad_fn=<NegBackward0>), tensor(-45.1260, device='cuda:0', grad_fn=<NegBackward0>), tensor(-0.9183, device='cuda:0', grad_fn=<AddBackward0>)]\n",
      "tensor(-91.1918, device='cuda:0', grad_fn=<NegBackward0>) [tensor(-45.5322, device='cuda:0', grad_fn=<NegBackward0>), tensor(-44.9967, device='cuda:0', grad_fn=<NegBackward0>), tensor(-0.9404, device='cuda:0', grad_fn=<AddBackward0>)]\n",
      "0.2821728297622151\n",
      "tensor(-90.6155, device='cuda:0', grad_fn=<NegBackward0>) [tensor(-45.1779, device='cuda:0', grad_fn=<NegBackward0>), tensor(-44.6170, device='cuda:0', grad_fn=<NegBackward0>), tensor(-1.2719, device='cuda:0', grad_fn=<AddBackward0>)]\n",
      "tensor(-90.5348, device='cuda:0', grad_fn=<NegBackward0>) [tensor(-45.1779, device='cuda:0', grad_fn=<NegBackward0>), tensor(-44.5392, device='cuda:0', grad_fn=<NegBackward0>), tensor(-1.2652, device='cuda:0', grad_fn=<AddBackward0>)]\n",
      "0.22858657598299828\n",
      "tensor(-90.1484, device='cuda:0', grad_fn=<NegBackward0>) [tensor(-44.9834, device='cuda:0', grad_fn=<NegBackward0>), tensor(-44.5830, device='cuda:0', grad_fn=<NegBackward0>), tensor(-0.7896, device='cuda:0', grad_fn=<AddBackward0>)]\n",
      "tensor(-90.2445, device='cuda:0', grad_fn=<NegBackward0>) [tensor(-44.9834, device='cuda:0', grad_fn=<NegBackward0>), tensor(-44.6837, device='cuda:0', grad_fn=<NegBackward0>), tensor(-0.7814, device='cuda:0', grad_fn=<AddBackward0>)]\n",
      "0.2665447487358592\n",
      "tensor(-90.3933, device='cuda:0', grad_fn=<NegBackward0>) [tensor(-45.1443, device='cuda:0', grad_fn=<NegBackward0>), tensor(-44.4564, device='cuda:0', grad_fn=<NegBackward0>), tensor(-1.2091, device='cuda:0', grad_fn=<AddBackward0>)]\n",
      "tensor(-90.6039, device='cuda:0', grad_fn=<NegBackward0>) [tensor(-45.1443, device='cuda:0', grad_fn=<NegBackward0>), tensor(-44.6747, device='cuda:0', grad_fn=<NegBackward0>), tensor(-1.1921, device='cuda:0', grad_fn=<AddBackward0>)]\n",
      "0.2546877143686615\n",
      "tensor(-90.7234, device='cuda:0', grad_fn=<NegBackward0>) [tensor(-45.2489, device='cuda:0', grad_fn=<NegBackward0>), tensor(-44.8121, device='cuda:0', grad_fn=<NegBackward0>), tensor(-0.9395, device='cuda:0', grad_fn=<AddBackward0>)]\n",
      "tensor(-90.7265, device='cuda:0', grad_fn=<NegBackward0>) [tensor(-45.2489, device='cuda:0', grad_fn=<NegBackward0>), tensor(-44.7577, device='cuda:0', grad_fn=<NegBackward0>), tensor(-1.0543, device='cuda:0', grad_fn=<AddBackward0>)]\n",
      "0.2509026383734512\n",
      "tensor(-90.9907, device='cuda:0', grad_fn=<NegBackward0>) [tensor(-45.3917, device='cuda:0', grad_fn=<NegBackward0>), tensor(-44.9089, device='cuda:0', grad_fn=<NegBackward0>), tensor(-0.9940, device='cuda:0', grad_fn=<AddBackward0>)]\n",
      "tensor(-90.8348, device='cuda:0', grad_fn=<NegBackward0>) [tensor(-45.3917, device='cuda:0', grad_fn=<NegBackward0>), tensor(-44.7338, device='cuda:0', grad_fn=<NegBackward0>), tensor(-1.0326, device='cuda:0', grad_fn=<AddBackward0>)]\n",
      "0.2806027727822962\n",
      "tensor(-90.7897, device='cuda:0', grad_fn=<NegBackward0>) [tensor(-45.3447, device='cuda:0', grad_fn=<NegBackward0>), tensor(-44.6727, device='cuda:0', grad_fn=<NegBackward0>), tensor(-1.1649, device='cuda:0', grad_fn=<AddBackward0>)]\n",
      "tensor(-90.9329, device='cuda:0', grad_fn=<NegBackward0>) [tensor(-45.3447, device='cuda:0', grad_fn=<NegBackward0>), tensor(-44.7532, device='cuda:0', grad_fn=<NegBackward0>), tensor(-1.3048, device='cuda:0', grad_fn=<AddBackward0>)]\n",
      "0.25282015836054805\n",
      "tensor(-91.2790, device='cuda:0', grad_fn=<NegBackward0>) [tensor(-45.5309, device='cuda:0', grad_fn=<NegBackward0>), tensor(-45.0799, device='cuda:0', grad_fn=<NegBackward0>), tensor(-0.9506, device='cuda:0', grad_fn=<AddBackward0>)]\n",
      "tensor(-91.2984, device='cuda:0', grad_fn=<NegBackward0>) [tensor(-45.5309, device='cuda:0', grad_fn=<NegBackward0>), tensor(-45.0884, device='cuda:0', grad_fn=<NegBackward0>), tensor(-0.9720, device='cuda:0', grad_fn=<AddBackward0>)]\n"
     ]
    },
    {
     "name": "stdout",
     "output_type": "stream",
     "text": [
      "0.2752502225695038\n",
      "tensor(-91.4660, device='cuda:0', grad_fn=<NegBackward0>) [tensor(-45.6283, device='cuda:0', grad_fn=<NegBackward0>), tensor(-45.0840, device='cuda:0', grad_fn=<NegBackward0>), tensor(-1.1248, device='cuda:0', grad_fn=<AddBackward0>)]\n",
      "tensor(-91.4123, device='cuda:0', grad_fn=<NegBackward0>) [tensor(-45.6283, device='cuda:0', grad_fn=<NegBackward0>), tensor(-44.9930, device='cuda:0', grad_fn=<NegBackward0>), tensor(-1.2055, device='cuda:0', grad_fn=<AddBackward0>)]\n",
      "0.26542469103413874\n",
      "tensor(-91.1790, device='cuda:0', grad_fn=<NegBackward0>) [tensor(-45.5362, device='cuda:0', grad_fn=<NegBackward0>), tensor(-44.9063, device='cuda:0', grad_fn=<NegBackward0>), tensor(-1.0886, device='cuda:0', grad_fn=<AddBackward0>)]\n",
      "tensor(-91.4203, device='cuda:0', grad_fn=<NegBackward0>) [tensor(-45.5362, device='cuda:0', grad_fn=<NegBackward0>), tensor(-45.1424, device='cuda:0', grad_fn=<NegBackward0>), tensor(-1.0995, device='cuda:0', grad_fn=<AddBackward0>)]\n",
      "0.2735402337173336\n",
      "tensor(-91.4924, device='cuda:0', grad_fn=<NegBackward0>) [tensor(-45.6207, device='cuda:0', grad_fn=<NegBackward0>), tensor(-45.1432, device='cuda:0', grad_fn=<NegBackward0>), tensor(-1.0719, device='cuda:0', grad_fn=<AddBackward0>)]\n",
      "tensor(-91.4863, device='cuda:0', grad_fn=<NegBackward0>) [tensor(-45.6207, device='cuda:0', grad_fn=<NegBackward0>), tensor(-45.0959, device='cuda:0', grad_fn=<NegBackward0>), tensor(-1.1590, device='cuda:0', grad_fn=<AddBackward0>)]\n",
      "0.23200639329484693\n",
      "tensor(-91.2213, device='cuda:0', grad_fn=<NegBackward0>) [tensor(-45.5052, device='cuda:0', grad_fn=<NegBackward0>), tensor(-45.1394, device='cuda:0', grad_fn=<NegBackward0>), tensor(-0.7800, device='cuda:0', grad_fn=<AddBackward0>)]\n",
      "tensor(-91.1618, device='cuda:0', grad_fn=<NegBackward0>) [tensor(-45.5052, device='cuda:0', grad_fn=<NegBackward0>), tensor(-45.0475, device='cuda:0', grad_fn=<NegBackward0>), tensor(-0.8385, device='cuda:0', grad_fn=<AddBackward0>)]\n",
      "0.2561067003227699\n",
      "tensor(-91.2017, device='cuda:0', grad_fn=<NegBackward0>) [tensor(-45.4995, device='cuda:0', grad_fn=<NegBackward0>), tensor(-45.0301, device='cuda:0', grad_fn=<NegBackward0>), tensor(-0.9583, device='cuda:0', grad_fn=<AddBackward0>)]\n",
      "tensor(-91.1343, device='cuda:0', grad_fn=<NegBackward0>) [tensor(-45.4995, device='cuda:0', grad_fn=<NegBackward0>), tensor(-44.9402, device='cuda:0', grad_fn=<NegBackward0>), tensor(-1.0031, device='cuda:0', grad_fn=<AddBackward0>)]\n",
      "0.2694360536211137\n",
      "tensor(-91.5284, device='cuda:0', grad_fn=<NegBackward0>) [tensor(-45.7087, device='cuda:0', grad_fn=<NegBackward0>), tensor(-45.0518, device='cuda:0', grad_fn=<NegBackward0>), tensor(-1.1553, device='cuda:0', grad_fn=<AddBackward0>)]\n",
      "tensor(-91.6374, device='cuda:0', grad_fn=<NegBackward0>) [tensor(-45.7087, device='cuda:0', grad_fn=<NegBackward0>), tensor(-45.1849, device='cuda:0', grad_fn=<NegBackward0>), tensor(-1.1039, device='cuda:0', grad_fn=<AddBackward0>)]\n",
      "0.26892452394803096\n",
      "tensor(-91.4242, device='cuda:0', grad_fn=<NegBackward0>) [tensor(-45.6312, device='cuda:0', grad_fn=<NegBackward0>), tensor(-45.0512, device='cuda:0', grad_fn=<NegBackward0>), tensor(-1.0995, device='cuda:0', grad_fn=<AddBackward0>)]\n",
      "tensor(-91.4183, device='cuda:0', grad_fn=<NegBackward0>) [tensor(-45.6312, device='cuda:0', grad_fn=<NegBackward0>), tensor(-45.0581, device='cuda:0', grad_fn=<NegBackward0>), tensor(-1.0730, device='cuda:0', grad_fn=<AddBackward0>)]\n",
      "0.26415162944052245\n",
      "tensor(-91.4411, device='cuda:0', grad_fn=<NegBackward0>) [tensor(-45.6402, device='cuda:0', grad_fn=<NegBackward0>), tensor(-45.0396, device='cuda:0', grad_fn=<NegBackward0>), tensor(-1.1412, device='cuda:0', grad_fn=<AddBackward0>)]\n",
      "tensor(-91.5083, device='cuda:0', grad_fn=<NegBackward0>) [tensor(-45.6402, device='cuda:0', grad_fn=<NegBackward0>), tensor(-45.1035, device='cuda:0', grad_fn=<NegBackward0>), tensor(-1.1483, device='cuda:0', grad_fn=<AddBackward0>)]\n",
      "0.2608673095006441\n",
      "tensor(-91.3029, device='cuda:0', grad_fn=<NegBackward0>) [tensor(-45.5067, device='cuda:0', grad_fn=<NegBackward0>), tensor(-45.0468, device='cuda:0', grad_fn=<NegBackward0>), tensor(-1.1156, device='cuda:0', grad_fn=<AddBackward0>)]\n",
      "tensor(-91.2252, device='cuda:0', grad_fn=<NegBackward0>) [tensor(-45.5067, device='cuda:0', grad_fn=<NegBackward0>), tensor(-45.0025, device='cuda:0', grad_fn=<NegBackward0>), tensor(-1.0461, device='cuda:0', grad_fn=<AddBackward0>)]\n",
      "0.2613475397516529\n",
      "tensor(-91.8017, device='cuda:0', grad_fn=<NegBackward0>) [tensor(-45.7707, device='cuda:0', grad_fn=<NegBackward0>), tensor(-45.3188, device='cuda:0', grad_fn=<NegBackward0>), tensor(-1.0386, device='cuda:0', grad_fn=<AddBackward0>)]\n",
      "tensor(-91.6935, device='cuda:0', grad_fn=<NegBackward0>) [tensor(-45.7707, device='cuda:0', grad_fn=<NegBackward0>), tensor(-45.1846, device='cuda:0', grad_fn=<NegBackward0>), tensor(-1.0921, device='cuda:0', grad_fn=<AddBackward0>)]\n",
      "0.21771072336235522\n",
      "tensor(-91.4258, device='cuda:0', grad_fn=<NegBackward0>) [tensor(-45.6031, device='cuda:0', grad_fn=<NegBackward0>), tensor(-45.2898, device='cuda:0', grad_fn=<NegBackward0>), tensor(-0.7039, device='cuda:0', grad_fn=<AddBackward0>)]\n",
      "tensor(-91.3778, device='cuda:0', grad_fn=<NegBackward0>) [tensor(-45.6031, device='cuda:0', grad_fn=<NegBackward0>), tensor(-45.2192, device='cuda:0', grad_fn=<NegBackward0>), tensor(-0.7428, device='cuda:0', grad_fn=<AddBackward0>)]\n",
      "0.2538932588205436\n",
      "tensor(-91.5361, device='cuda:0', grad_fn=<NegBackward0>) [tensor(-45.6204, device='cuda:0', grad_fn=<NegBackward0>), tensor(-45.2180, device='cuda:0', grad_fn=<NegBackward0>), tensor(-1.0091, device='cuda:0', grad_fn=<AddBackward0>)]\n",
      "tensor(-91.4304, device='cuda:0', grad_fn=<NegBackward0>) [tensor(-45.6204, device='cuda:0', grad_fn=<NegBackward0>), tensor(-45.1585, device='cuda:0', grad_fn=<NegBackward0>), tensor(-0.9185, device='cuda:0', grad_fn=<AddBackward0>)]\n",
      "0.2772972130735672\n",
      "tensor(-92.0238, device='cuda:0', grad_fn=<NegBackward0>) [tensor(-45.9620, device='cuda:0', grad_fn=<NegBackward0>), tensor(-45.2896, device='cuda:0', grad_fn=<NegBackward0>), tensor(-1.1647, device='cuda:0', grad_fn=<AddBackward0>)]\n",
      "tensor(-92.0927, device='cuda:0', grad_fn=<NegBackward0>) [tensor(-45.9620, device='cuda:0', grad_fn=<NegBackward0>), tensor(-45.3620, device='cuda:0', grad_fn=<NegBackward0>), tensor(-1.1569, device='cuda:0', grad_fn=<AddBackward0>)]\n",
      "0.2424265599282902\n",
      "tensor(-91.8994, device='cuda:0', grad_fn=<NegBackward0>) [tensor(-45.8464, device='cuda:0', grad_fn=<NegBackward0>), tensor(-45.3941, device='cuda:0', grad_fn=<NegBackward0>), tensor(-0.9327, device='cuda:0', grad_fn=<AddBackward0>)]\n",
      "tensor(-91.8892, device='cuda:0', grad_fn=<NegBackward0>) [tensor(-45.8464, device='cuda:0', grad_fn=<NegBackward0>), tensor(-45.4414, device='cuda:0', grad_fn=<NegBackward0>), tensor(-0.8248, device='cuda:0', grad_fn=<AddBackward0>)]\n",
      "0.2677095202680155\n",
      "tensor(-91.9447, device='cuda:0', grad_fn=<NegBackward0>) [tensor(-45.8844, device='cuda:0', grad_fn=<NegBackward0>), tensor(-45.2882, device='cuda:0', grad_fn=<NegBackward0>), tensor(-1.1644, device='cuda:0', grad_fn=<AddBackward0>)]\n",
      "tensor(-91.9964, device='cuda:0', grad_fn=<NegBackward0>) [tensor(-45.8844, device='cuda:0', grad_fn=<NegBackward0>), tensor(-45.3675, device='cuda:0', grad_fn=<NegBackward0>), tensor(-1.1054, device='cuda:0', grad_fn=<AddBackward0>)]\n",
      "0.24718793318796722\n",
      "tensor(-92.0818, device='cuda:0', grad_fn=<NegBackward0>) [tensor(-45.9626, device='cuda:0', grad_fn=<NegBackward0>), tensor(-45.4150, device='cuda:0', grad_fn=<NegBackward0>), tensor(-1.0221, device='cuda:0', grad_fn=<AddBackward0>)]\n",
      "tensor(-92.1077, device='cuda:0', grad_fn=<NegBackward0>) [tensor(-45.9626, device='cuda:0', grad_fn=<NegBackward0>), tensor(-45.4744, device='cuda:0', grad_fn=<NegBackward0>), tensor(-0.9554, device='cuda:0', grad_fn=<AddBackward0>)]\n",
      "0.2630803675196534\n",
      "tensor(-91.9428, device='cuda:0', grad_fn=<NegBackward0>) [tensor(-45.9037, device='cuda:0', grad_fn=<NegBackward0>), tensor(-45.3145, device='cuda:0', grad_fn=<NegBackward0>), tensor(-1.0639, device='cuda:0', grad_fn=<AddBackward0>)]\n",
      "tensor(-92.0231, device='cuda:0', grad_fn=<NegBackward0>) [tensor(-45.9037, device='cuda:0', grad_fn=<NegBackward0>), tensor(-45.3881, device='cuda:0', grad_fn=<NegBackward0>), tensor(-1.0779, device='cuda:0', grad_fn=<AddBackward0>)]\n"
     ]
    },
    {
     "name": "stdout",
     "output_type": "stream",
     "text": [
      "0.22377209495284278\n",
      "tensor(-91.6607, device='cuda:0', grad_fn=<NegBackward0>) [tensor(-45.7684, device='cuda:0', grad_fn=<NegBackward0>), tensor(-45.2995, device='cuda:0', grad_fn=<NegBackward0>), tensor(-0.8091, device='cuda:0', grad_fn=<AddBackward0>)]\n",
      "tensor(-91.5902, device='cuda:0', grad_fn=<NegBackward0>) [tensor(-45.7684, device='cuda:0', grad_fn=<NegBackward0>), tensor(-45.1960, device='cuda:0', grad_fn=<NegBackward0>), tensor(-0.8696, device='cuda:0', grad_fn=<AddBackward0>)]\n",
      "0.2656603675415493\n",
      "tensor(-91.4473, device='cuda:0', grad_fn=<NegBackward0>) [tensor(-45.4840, device='cuda:0', grad_fn=<NegBackward0>), tensor(-45.1688, device='cuda:0', grad_fn=<NegBackward0>), tensor(-1.2132, device='cuda:0', grad_fn=<AddBackward0>)]\n",
      "tensor(-91.2287, device='cuda:0', grad_fn=<NegBackward0>) [tensor(-45.4840, device='cuda:0', grad_fn=<NegBackward0>), tensor(-44.9811, device='cuda:0', grad_fn=<NegBackward0>), tensor(-1.1459, device='cuda:0', grad_fn=<AddBackward0>)]\n",
      "0.2727513069032184\n",
      "tensor(-91.9378, device='cuda:0', grad_fn=<NegBackward0>) [tensor(-45.8438, device='cuda:0', grad_fn=<NegBackward0>), tensor(-45.3402, device='cuda:0', grad_fn=<NegBackward0>), tensor(-1.1250, device='cuda:0', grad_fn=<AddBackward0>)]\n",
      "tensor(-91.9063, device='cuda:0', grad_fn=<NegBackward0>) [tensor(-45.8438, device='cuda:0', grad_fn=<NegBackward0>), tensor(-45.3185, device='cuda:0', grad_fn=<NegBackward0>), tensor(-1.1044, device='cuda:0', grad_fn=<AddBackward0>)]\n",
      "0.2524044947190552\n",
      "tensor(-91.8950, device='cuda:0', grad_fn=<NegBackward0>) [tensor(-45.8778, device='cuda:0', grad_fn=<NegBackward0>), tensor(-45.3650, device='cuda:0', grad_fn=<NegBackward0>), tensor(-0.9197, device='cuda:0', grad_fn=<AddBackward0>)]\n",
      "tensor(-91.9671, device='cuda:0', grad_fn=<NegBackward0>) [tensor(-45.8778, device='cuda:0', grad_fn=<NegBackward0>), tensor(-45.3537, device='cuda:0', grad_fn=<NegBackward0>), tensor(-1.0866, device='cuda:0', grad_fn=<AddBackward0>)]\n",
      "0.27138089651212655\n",
      "tensor(-91.9402, device='cuda:0', grad_fn=<NegBackward0>) [tensor(-45.8336, device='cuda:0', grad_fn=<NegBackward0>), tensor(-45.3617, device='cuda:0', grad_fn=<NegBackward0>), tensor(-1.1064, device='cuda:0', grad_fn=<AddBackward0>)]\n",
      "tensor(-91.9437, device='cuda:0', grad_fn=<NegBackward0>) [tensor(-45.8336, device='cuda:0', grad_fn=<NegBackward0>), tensor(-45.3249, device='cuda:0', grad_fn=<NegBackward0>), tensor(-1.1927, device='cuda:0', grad_fn=<AddBackward0>)]\n",
      "0.2541647216921111\n",
      "tensor(-92.3006, device='cuda:0', grad_fn=<NegBackward0>) [tensor(-46.0817, device='cuda:0', grad_fn=<NegBackward0>), tensor(-45.5659, device='cuda:0', grad_fn=<NegBackward0>), tensor(-0.9212, device='cuda:0', grad_fn=<AddBackward0>)]\n",
      "tensor(-92.3975, device='cuda:0', grad_fn=<NegBackward0>) [tensor(-46.0817, device='cuda:0', grad_fn=<NegBackward0>), tensor(-45.6343, device='cuda:0', grad_fn=<NegBackward0>), tensor(-0.9768, device='cuda:0', grad_fn=<AddBackward0>)]\n",
      "0.26335530121795697\n",
      "tensor(-92.0971, device='cuda:0', grad_fn=<NegBackward0>) [tensor(-45.9465, device='cuda:0', grad_fn=<NegBackward0>), tensor(-45.4180, device='cuda:0', grad_fn=<NegBackward0>), tensor(-1.0804, device='cuda:0', grad_fn=<AddBackward0>)]\n",
      "tensor(-92.0543, device='cuda:0', grad_fn=<NegBackward0>) [tensor(-45.9465, device='cuda:0', grad_fn=<NegBackward0>), tensor(-45.3483, device='cuda:0', grad_fn=<NegBackward0>), tensor(-1.1372, device='cuda:0', grad_fn=<AddBackward0>)]\n",
      "0.2690143930630978\n",
      "tensor(-92.1500, device='cuda:0', grad_fn=<NegBackward0>) [tensor(-45.9558, device='cuda:0', grad_fn=<NegBackward0>), tensor(-45.4371, device='cuda:0', grad_fn=<NegBackward0>), tensor(-1.1319, device='cuda:0', grad_fn=<AddBackward0>)]\n",
      "tensor(-92.2109, device='cuda:0', grad_fn=<NegBackward0>) [tensor(-45.9558, device='cuda:0', grad_fn=<NegBackward0>), tensor(-45.5250, device='cuda:0', grad_fn=<NegBackward0>), tensor(-1.0750, device='cuda:0', grad_fn=<AddBackward0>)]\n",
      "0.23856260378815403\n",
      "tensor(-92.1652, device='cuda:0', grad_fn=<NegBackward0>) [tensor(-45.9940, device='cuda:0', grad_fn=<NegBackward0>), tensor(-45.5926, device='cuda:0', grad_fn=<NegBackward0>), tensor(-0.7835, device='cuda:0', grad_fn=<AddBackward0>)]\n",
      "tensor(-92.1398, device='cuda:0', grad_fn=<NegBackward0>) [tensor(-45.9940, device='cuda:0', grad_fn=<NegBackward0>), tensor(-45.5105, device='cuda:0', grad_fn=<NegBackward0>), tensor(-0.8876, device='cuda:0', grad_fn=<AddBackward0>)]\n",
      "0.24478312984284126\n",
      "tensor(-92.3419, device='cuda:0', grad_fn=<NegBackward0>) [tensor(-46.0726, device='cuda:0', grad_fn=<NegBackward0>), tensor(-45.6222, device='cuda:0', grad_fn=<NegBackward0>), tensor(-0.9100, device='cuda:0', grad_fn=<AddBackward0>)]\n",
      "tensor(-92.3459, device='cuda:0', grad_fn=<NegBackward0>) [tensor(-46.0726, device='cuda:0', grad_fn=<NegBackward0>), tensor(-45.6376, device='cuda:0', grad_fn=<NegBackward0>), tensor(-0.8885, device='cuda:0', grad_fn=<AddBackward0>)]\n",
      "0.2584898132219588\n",
      "tensor(-92.2631, device='cuda:0', grad_fn=<NegBackward0>) [tensor(-46.0681, device='cuda:0', grad_fn=<NegBackward0>), tensor(-45.4737, device='cuda:0', grad_fn=<NegBackward0>), tensor(-1.0571, device='cuda:0', grad_fn=<AddBackward0>)]\n",
      "tensor(-92.3355, device='cuda:0', grad_fn=<NegBackward0>) [tensor(-46.0681, device='cuda:0', grad_fn=<NegBackward0>), tensor(-45.5605, device='cuda:0', grad_fn=<NegBackward0>), tensor(-1.0279, device='cuda:0', grad_fn=<AddBackward0>)]\n",
      "0.2747290429199158\n",
      "tensor(-92.3237, device='cuda:0', grad_fn=<NegBackward0>) [tensor(-46.0749, device='cuda:0', grad_fn=<NegBackward0>), tensor(-45.4726, device='cuda:0', grad_fn=<NegBackward0>), tensor(-1.1732, device='cuda:0', grad_fn=<AddBackward0>)]\n",
      "tensor(-92.2450, device='cuda:0', grad_fn=<NegBackward0>) [tensor(-46.0749, device='cuda:0', grad_fn=<NegBackward0>), tensor(-45.3782, device='cuda:0', grad_fn=<NegBackward0>), tensor(-1.2077, device='cuda:0', grad_fn=<AddBackward0>)]\n",
      "0.25655919699430907\n",
      "tensor(-92.3531, device='cuda:0', grad_fn=<NegBackward0>) [tensor(-46.0299, device='cuda:0', grad_fn=<NegBackward0>), tensor(-45.6351, device='cuda:0', grad_fn=<NegBackward0>), tensor(-0.9899, device='cuda:0', grad_fn=<AddBackward0>)]\n",
      "tensor(-92.2103, device='cuda:0', grad_fn=<NegBackward0>) [tensor(-46.0299, device='cuda:0', grad_fn=<NegBackward0>), tensor(-45.4852, device='cuda:0', grad_fn=<NegBackward0>), tensor(-1.0041, device='cuda:0', grad_fn=<AddBackward0>)]\n",
      "0.27243594296658946\n",
      "tensor(-92.1352, device='cuda:0', grad_fn=<NegBackward0>) [tensor(-45.9446, device='cuda:0', grad_fn=<NegBackward0>), tensor(-45.4345, device='cuda:0', grad_fn=<NegBackward0>), tensor(-1.1298, device='cuda:0', grad_fn=<AddBackward0>)]\n",
      "tensor(-91.9826, device='cuda:0', grad_fn=<NegBackward0>) [tensor(-45.9446, device='cuda:0', grad_fn=<NegBackward0>), tensor(-45.2306, device='cuda:0', grad_fn=<NegBackward0>), tensor(-1.2420, device='cuda:0', grad_fn=<AddBackward0>)]\n",
      "0.2518850102169221\n",
      "tensor(-92.1755, device='cuda:0', grad_fn=<NegBackward0>) [tensor(-46.0038, device='cuda:0', grad_fn=<NegBackward0>), tensor(-45.5204, device='cuda:0', grad_fn=<NegBackward0>), tensor(-0.9181, device='cuda:0', grad_fn=<AddBackward0>)]\n",
      "tensor(-92.1342, device='cuda:0', grad_fn=<NegBackward0>) [tensor(-46.0038, device='cuda:0', grad_fn=<NegBackward0>), tensor(-45.4547, device='cuda:0', grad_fn=<NegBackward0>), tensor(-0.9654, device='cuda:0', grad_fn=<AddBackward0>)]\n",
      "0.22997969613040534\n",
      "tensor(-92.1324, device='cuda:0', grad_fn=<NegBackward0>) [tensor(-46.0009, device='cuda:0', grad_fn=<NegBackward0>), tensor(-45.5617, device='cuda:0', grad_fn=<NegBackward0>), tensor(-0.7681, device='cuda:0', grad_fn=<AddBackward0>)]\n",
      "tensor(-92.0939, device='cuda:0', grad_fn=<NegBackward0>) [tensor(-46.0009, device='cuda:0', grad_fn=<NegBackward0>), tensor(-45.5278, device='cuda:0', grad_fn=<NegBackward0>), tensor(-0.7598, device='cuda:0', grad_fn=<AddBackward0>)]\n",
      "0.2612841674031653\n",
      "tensor(-92.3022, device='cuda:0', grad_fn=<NegBackward0>) [tensor(-46.0893, device='cuda:0', grad_fn=<NegBackward0>), tensor(-45.4985, device='cuda:0', grad_fn=<NegBackward0>), tensor(-1.0430, device='cuda:0', grad_fn=<AddBackward0>)]\n",
      "tensor(-92.3730, device='cuda:0', grad_fn=<NegBackward0>) [tensor(-46.0893, device='cuda:0', grad_fn=<NegBackward0>), tensor(-45.5597, device='cuda:0', grad_fn=<NegBackward0>), tensor(-1.0626, device='cuda:0', grad_fn=<AddBackward0>)]\n"
     ]
    },
    {
     "name": "stdout",
     "output_type": "stream",
     "text": [
      "0.23641476282297616\n",
      "tensor(-92.0750, device='cuda:0', grad_fn=<NegBackward0>) [tensor(-45.9486, device='cuda:0', grad_fn=<NegBackward0>), tensor(-45.5369, device='cuda:0', grad_fn=<NegBackward0>), tensor(-0.8031, device='cuda:0', grad_fn=<AddBackward0>)]\n",
      "tensor(-92.0035, device='cuda:0', grad_fn=<NegBackward0>) [tensor(-45.9486, device='cuda:0', grad_fn=<NegBackward0>), tensor(-45.4416, device='cuda:0', grad_fn=<NegBackward0>), tensor(-0.8463, device='cuda:0', grad_fn=<AddBackward0>)]\n",
      "0.22925914735686426\n",
      "tensor(-92.3053, device='cuda:0', grad_fn=<NegBackward0>) [tensor(-46.0830, device='cuda:0', grad_fn=<NegBackward0>), tensor(-45.6353, device='cuda:0', grad_fn=<NegBackward0>), tensor(-0.7986, device='cuda:0', grad_fn=<AddBackward0>)]\n",
      "tensor(-92.3033, device='cuda:0', grad_fn=<NegBackward0>) [tensor(-46.0830, device='cuda:0', grad_fn=<NegBackward0>), tensor(-45.6212, device='cuda:0', grad_fn=<NegBackward0>), tensor(-0.8205, device='cuda:0', grad_fn=<AddBackward0>)]\n",
      "0.26554785613277715\n",
      "tensor(-92.3677, device='cuda:0', grad_fn=<NegBackward0>) [tensor(-46.0731, device='cuda:0', grad_fn=<NegBackward0>), tensor(-45.5696, device='cuda:0', grad_fn=<NegBackward0>), tensor(-1.0648, device='cuda:0', grad_fn=<AddBackward0>)]\n",
      "tensor(-92.4018, device='cuda:0', grad_fn=<NegBackward0>) [tensor(-46.0731, device='cuda:0', grad_fn=<NegBackward0>), tensor(-45.6259, device='cuda:0', grad_fn=<NegBackward0>), tensor(-1.0193, device='cuda:0', grad_fn=<AddBackward0>)]\n",
      "0.26510561997570387\n",
      "tensor(-92.7312, device='cuda:0', grad_fn=<NegBackward0>) [tensor(-46.2682, device='cuda:0', grad_fn=<NegBackward0>), tensor(-45.7793, device='cuda:0', grad_fn=<NegBackward0>), tensor(-0.9812, device='cuda:0', grad_fn=<AddBackward0>)]\n",
      "tensor(-92.6628, device='cuda:0', grad_fn=<NegBackward0>) [tensor(-46.2682, device='cuda:0', grad_fn=<NegBackward0>), tensor(-45.6897, device='cuda:0', grad_fn=<NegBackward0>), tensor(-1.0237, device='cuda:0', grad_fn=<AddBackward0>)]\n",
      "0.2545785933046548\n",
      "tensor(-92.7517, device='cuda:0', grad_fn=<NegBackward0>) [tensor(-46.2645, device='cuda:0', grad_fn=<NegBackward0>), tensor(-45.7818, device='cuda:0', grad_fn=<NegBackward0>), tensor(-1.0246, device='cuda:0', grad_fn=<AddBackward0>)]\n",
      "tensor(-92.8027, device='cuda:0', grad_fn=<NegBackward0>) [tensor(-46.2645, device='cuda:0', grad_fn=<NegBackward0>), tensor(-45.8799, device='cuda:0', grad_fn=<NegBackward0>), tensor(-0.9316, device='cuda:0', grad_fn=<AddBackward0>)]\n",
      "0.23960560681417423\n",
      "tensor(-92.7464, device='cuda:0', grad_fn=<NegBackward0>) [tensor(-46.3064, device='cuda:0', grad_fn=<NegBackward0>), tensor(-45.7871, device='cuda:0', grad_fn=<NegBackward0>), tensor(-0.9211, device='cuda:0', grad_fn=<AddBackward0>)]\n",
      "tensor(-92.7746, device='cuda:0', grad_fn=<NegBackward0>) [tensor(-46.3064, device='cuda:0', grad_fn=<NegBackward0>), tensor(-45.8492, device='cuda:0', grad_fn=<NegBackward0>), tensor(-0.8570, device='cuda:0', grad_fn=<AddBackward0>)]\n",
      "0.24520184253533778\n",
      "tensor(-92.7126, device='cuda:0', grad_fn=<NegBackward0>) [tensor(-46.3217, device='cuda:0', grad_fn=<NegBackward0>), tensor(-45.7391, device='cuda:0', grad_fn=<NegBackward0>), tensor(-0.9189, device='cuda:0', grad_fn=<AddBackward0>)]\n",
      "tensor(-92.7853, device='cuda:0', grad_fn=<NegBackward0>) [tensor(-46.3217, device='cuda:0', grad_fn=<NegBackward0>), tensor(-45.8556, device='cuda:0', grad_fn=<NegBackward0>), tensor(-0.8368, device='cuda:0', grad_fn=<AddBackward0>)]\n",
      "0.2536578727168224\n",
      "tensor(-92.7224, device='cuda:0', grad_fn=<NegBackward0>) [tensor(-46.3090, device='cuda:0', grad_fn=<NegBackward0>), tensor(-45.7590, device='cuda:0', grad_fn=<NegBackward0>), tensor(-0.9241, device='cuda:0', grad_fn=<AddBackward0>)]\n",
      "tensor(-92.8564, device='cuda:0', grad_fn=<NegBackward0>) [tensor(-46.3090, device='cuda:0', grad_fn=<NegBackward0>), tensor(-45.9017, device='cuda:0', grad_fn=<NegBackward0>), tensor(-0.9074, device='cuda:0', grad_fn=<AddBackward0>)]\n",
      "0.24929674353027637\n",
      "tensor(-92.8077, device='cuda:0', grad_fn=<NegBackward0>) [tensor(-46.3369, device='cuda:0', grad_fn=<NegBackward0>), tensor(-45.7625, device='cuda:0', grad_fn=<NegBackward0>), tensor(-1.0305, device='cuda:0', grad_fn=<AddBackward0>)]\n",
      "tensor(-92.7962, device='cuda:0', grad_fn=<NegBackward0>) [tensor(-46.3369, device='cuda:0', grad_fn=<NegBackward0>), tensor(-45.7868, device='cuda:0', grad_fn=<NegBackward0>), tensor(-0.9590, device='cuda:0', grad_fn=<AddBackward0>)]\n",
      "0.23650090342914182\n",
      "tensor(-92.9829, device='cuda:0', grad_fn=<NegBackward0>) [tensor(-46.3868, device='cuda:0', grad_fn=<NegBackward0>), tensor(-45.9771, device='cuda:0', grad_fn=<NegBackward0>), tensor(-0.8572, device='cuda:0', grad_fn=<AddBackward0>)]\n",
      "tensor(-92.8860, device='cuda:0', grad_fn=<NegBackward0>) [tensor(-46.3868, device='cuda:0', grad_fn=<NegBackward0>), tensor(-45.9065, device='cuda:0', grad_fn=<NegBackward0>), tensor(-0.8089, device='cuda:0', grad_fn=<AddBackward0>)]\n",
      "0.2593113890323945\n",
      "tensor(-92.6600, device='cuda:0', grad_fn=<NegBackward0>) [tensor(-46.3009, device='cuda:0', grad_fn=<NegBackward0>), tensor(-45.6404, device='cuda:0', grad_fn=<NegBackward0>), tensor(-1.0518, device='cuda:0', grad_fn=<AddBackward0>)]\n",
      "tensor(-92.6385, device='cuda:0', grad_fn=<NegBackward0>) [tensor(-46.3009, device='cuda:0', grad_fn=<NegBackward0>), tensor(-45.6080, device='cuda:0', grad_fn=<NegBackward0>), tensor(-1.0743, device='cuda:0', grad_fn=<AddBackward0>)]\n",
      "0.2644769497310566\n",
      "tensor(-92.8119, device='cuda:0', grad_fn=<NegBackward0>) [tensor(-46.3088, device='cuda:0', grad_fn=<NegBackward0>), tensor(-45.7876, device='cuda:0', grad_fn=<NegBackward0>), tensor(-1.0452, device='cuda:0', grad_fn=<AddBackward0>)]\n",
      "tensor(-92.7234, device='cuda:0', grad_fn=<NegBackward0>) [tensor(-46.3088, device='cuda:0', grad_fn=<NegBackward0>), tensor(-45.6982, device='cuda:0', grad_fn=<NegBackward0>), tensor(-1.0472, device='cuda:0', grad_fn=<AddBackward0>)]\n",
      "0.22101501165838186\n",
      "tensor(-92.7865, device='cuda:0', grad_fn=<NegBackward0>) [tensor(-46.3573, device='cuda:0', grad_fn=<NegBackward0>), tensor(-45.8621, device='cuda:0', grad_fn=<NegBackward0>), tensor(-0.7632, device='cuda:0', grad_fn=<AddBackward0>)]\n",
      "tensor(-92.8862, device='cuda:0', grad_fn=<NegBackward0>) [tensor(-46.3573, device='cuda:0', grad_fn=<NegBackward0>), tensor(-46.0018, device='cuda:0', grad_fn=<NegBackward0>), tensor(-0.6939, device='cuda:0', grad_fn=<AddBackward0>)]\n",
      "0.2559940587314287\n",
      "tensor(-93.0904, device='cuda:0', grad_fn=<NegBackward0>) [tensor(-46.4953, device='cuda:0', grad_fn=<NegBackward0>), tensor(-45.9138, device='cuda:0', grad_fn=<NegBackward0>), tensor(-0.9764, device='cuda:0', grad_fn=<AddBackward0>)]\n",
      "tensor(-93.2643, device='cuda:0', grad_fn=<NegBackward0>) [tensor(-46.4953, device='cuda:0', grad_fn=<NegBackward0>), tensor(-46.1057, device='cuda:0', grad_fn=<NegBackward0>), tensor(-0.9412, device='cuda:0', grad_fn=<AddBackward0>)]\n",
      "0.25743821935754974\n",
      "tensor(-93.2448, device='cuda:0', grad_fn=<NegBackward0>) [tensor(-46.5627, device='cuda:0', grad_fn=<NegBackward0>), tensor(-46.0031, device='cuda:0', grad_fn=<NegBackward0>), tensor(-0.9719, device='cuda:0', grad_fn=<AddBackward0>)]\n",
      "tensor(-93.3539, device='cuda:0', grad_fn=<NegBackward0>) [tensor(-46.5627, device='cuda:0', grad_fn=<NegBackward0>), tensor(-46.1231, device='cuda:0', grad_fn=<NegBackward0>), tensor(-0.9504, device='cuda:0', grad_fn=<AddBackward0>)]\n",
      "0.2553912329324916\n",
      "tensor(-92.9412, device='cuda:0', grad_fn=<NegBackward0>) [tensor(-46.4325, device='cuda:0', grad_fn=<NegBackward0>), tensor(-45.8810, device='cuda:0', grad_fn=<NegBackward0>), tensor(-0.8734, device='cuda:0', grad_fn=<AddBackward0>)]\n",
      "tensor(-93.0853, device='cuda:0', grad_fn=<NegBackward0>) [tensor(-46.4325, device='cuda:0', grad_fn=<NegBackward0>), tensor(-45.9930, device='cuda:0', grad_fn=<NegBackward0>), tensor(-0.9345, device='cuda:0', grad_fn=<AddBackward0>)]\n",
      "0.2376038432302853\n",
      "tensor(-92.9128, device='cuda:0', grad_fn=<NegBackward0>) [tensor(-46.3353, device='cuda:0', grad_fn=<NegBackward0>), tensor(-45.9902, device='cuda:0', grad_fn=<NegBackward0>), tensor(-0.7993, device='cuda:0', grad_fn=<AddBackward0>)]\n",
      "tensor(-92.8255, device='cuda:0', grad_fn=<NegBackward0>) [tensor(-46.3353, device='cuda:0', grad_fn=<NegBackward0>), tensor(-45.8851, device='cuda:0', grad_fn=<NegBackward0>), tensor(-0.8315, device='cuda:0', grad_fn=<AddBackward0>)]\n"
     ]
    },
    {
     "name": "stdout",
     "output_type": "stream",
     "text": [
      "0.2641057927450992\n",
      "tensor(-92.7979, device='cuda:0', grad_fn=<NegBackward0>) [tensor(-46.3721, device='cuda:0', grad_fn=<NegBackward0>), tensor(-45.6755, device='cuda:0', grad_fn=<NegBackward0>), tensor(-1.1175, device='cuda:0', grad_fn=<AddBackward0>)]\n",
      "tensor(-92.9320, device='cuda:0', grad_fn=<NegBackward0>) [tensor(-46.3721, device='cuda:0', grad_fn=<NegBackward0>), tensor(-45.8100, device='cuda:0', grad_fn=<NegBackward0>), tensor(-1.1167, device='cuda:0', grad_fn=<AddBackward0>)]\n",
      "0.2528973356478408\n",
      "tensor(-93.0757, device='cuda:0', grad_fn=<NegBackward0>) [tensor(-46.4401, device='cuda:0', grad_fn=<NegBackward0>), tensor(-45.9621, device='cuda:0', grad_fn=<NegBackward0>), tensor(-0.9611, device='cuda:0', grad_fn=<AddBackward0>)]\n",
      "tensor(-93.0811, device='cuda:0', grad_fn=<NegBackward0>) [tensor(-46.4401, device='cuda:0', grad_fn=<NegBackward0>), tensor(-46.0153, device='cuda:0', grad_fn=<NegBackward0>), tensor(-0.8696, device='cuda:0', grad_fn=<AddBackward0>)]\n",
      "0.21920498524178747\n",
      "tensor(-93.2773, device='cuda:0', grad_fn=<NegBackward0>) [tensor(-46.5607, device='cuda:0', grad_fn=<NegBackward0>), tensor(-46.1826, device='cuda:0', grad_fn=<NegBackward0>), tensor(-0.7058, device='cuda:0', grad_fn=<AddBackward0>)]\n",
      "tensor(-93.2308, device='cuda:0', grad_fn=<NegBackward0>) [tensor(-46.5607, device='cuda:0', grad_fn=<NegBackward0>), tensor(-46.1507, device='cuda:0', grad_fn=<NegBackward0>), tensor(-0.6810, device='cuda:0', grad_fn=<AddBackward0>)]\n",
      "0.2228250984966137\n",
      "tensor(-93.1653, device='cuda:0', grad_fn=<NegBackward0>) [tensor(-46.5323, device='cuda:0', grad_fn=<NegBackward0>), tensor(-46.0055, device='cuda:0', grad_fn=<NegBackward0>), tensor(-0.8730, device='cuda:0', grad_fn=<AddBackward0>)]\n",
      "tensor(-93.2017, device='cuda:0', grad_fn=<NegBackward0>) [tensor(-46.5323, device='cuda:0', grad_fn=<NegBackward0>), tensor(-46.1119, device='cuda:0', grad_fn=<NegBackward0>), tensor(-0.7463, device='cuda:0', grad_fn=<AddBackward0>)]\n",
      "0.26608984212900644\n",
      "tensor(-93.2752, device='cuda:0', grad_fn=<NegBackward0>) [tensor(-46.5545, device='cuda:0', grad_fn=<NegBackward0>), tensor(-46.0115, device='cuda:0', grad_fn=<NegBackward0>), tensor(-1.0323, device='cuda:0', grad_fn=<AddBackward0>)]\n",
      "tensor(-93.2878, device='cuda:0', grad_fn=<NegBackward0>) [tensor(-46.5545, device='cuda:0', grad_fn=<NegBackward0>), tensor(-46.0368, device='cuda:0', grad_fn=<NegBackward0>), tensor(-1.0066, device='cuda:0', grad_fn=<AddBackward0>)]\n",
      "0.2501400259997736\n",
      "tensor(-93.3915, device='cuda:0', grad_fn=<NegBackward0>) [tensor(-46.6185, device='cuda:0', grad_fn=<NegBackward0>), tensor(-46.1331, device='cuda:0', grad_fn=<NegBackward0>), tensor(-0.8962, device='cuda:0', grad_fn=<AddBackward0>)]\n",
      "tensor(-93.3741, device='cuda:0', grad_fn=<NegBackward0>) [tensor(-46.6185, device='cuda:0', grad_fn=<NegBackward0>), tensor(-46.1217, device='cuda:0', grad_fn=<NegBackward0>), tensor(-0.8850, device='cuda:0', grad_fn=<AddBackward0>)]\n",
      "0.22461255196962174\n",
      "tensor(-93.2450, device='cuda:0', grad_fn=<NegBackward0>) [tensor(-46.5141, device='cuda:0', grad_fn=<NegBackward0>), tensor(-46.1999, device='cuda:0', grad_fn=<NegBackward0>), tensor(-0.7006, device='cuda:0', grad_fn=<AddBackward0>)]\n",
      "tensor(-93.2118, device='cuda:0', grad_fn=<NegBackward0>) [tensor(-46.5141, device='cuda:0', grad_fn=<NegBackward0>), tensor(-46.1793, device='cuda:0', grad_fn=<NegBackward0>), tensor(-0.6795, device='cuda:0', grad_fn=<AddBackward0>)]\n",
      "0.21310212916147125\n",
      "tensor(-93.5092, device='cuda:0', grad_fn=<NegBackward0>) [tensor(-46.6715, device='cuda:0', grad_fn=<NegBackward0>), tensor(-46.3243, device='cuda:0', grad_fn=<NegBackward0>), tensor(-0.6711, device='cuda:0', grad_fn=<AddBackward0>)]\n",
      "tensor(-93.5227, device='cuda:0', grad_fn=<NegBackward0>) [tensor(-46.6715, device='cuda:0', grad_fn=<NegBackward0>), tensor(-46.3717, device='cuda:0', grad_fn=<NegBackward0>), tensor(-0.6153, device='cuda:0', grad_fn=<AddBackward0>)]\n",
      "0.24474703711148837\n",
      "tensor(-93.5525, device='cuda:0', grad_fn=<NegBackward0>) [tensor(-46.6699, device='cuda:0', grad_fn=<NegBackward0>), tensor(-46.2544, device='cuda:0', grad_fn=<NegBackward0>), tensor(-0.8742, device='cuda:0', grad_fn=<AddBackward0>)]\n",
      "tensor(-93.5214, device='cuda:0', grad_fn=<NegBackward0>) [tensor(-46.6699, device='cuda:0', grad_fn=<NegBackward0>), tensor(-46.2585, device='cuda:0', grad_fn=<NegBackward0>), tensor(-0.8096, device='cuda:0', grad_fn=<AddBackward0>)]\n",
      "0.24489098472523552\n",
      "tensor(-93.4836, device='cuda:0', grad_fn=<NegBackward0>) [tensor(-46.6894, device='cuda:0', grad_fn=<NegBackward0>), tensor(-46.1722, device='cuda:0', grad_fn=<NegBackward0>), tensor(-0.8625, device='cuda:0', grad_fn=<AddBackward0>)]\n",
      "tensor(-93.5263, device='cuda:0', grad_fn=<NegBackward0>) [tensor(-46.6894, device='cuda:0', grad_fn=<NegBackward0>), tensor(-46.1444, device='cuda:0', grad_fn=<NegBackward0>), tensor(-0.9987, device='cuda:0', grad_fn=<AddBackward0>)]\n",
      "0.23530865219476949\n",
      "tensor(-93.0621, device='cuda:0', grad_fn=<NegBackward0>) [tensor(-46.4597, device='cuda:0', grad_fn=<NegBackward0>), tensor(-46.0203, device='cuda:0', grad_fn=<NegBackward0>), tensor(-0.7900, device='cuda:0', grad_fn=<AddBackward0>)]\n",
      "tensor(-93.0604, device='cuda:0', grad_fn=<NegBackward0>) [tensor(-46.4597, device='cuda:0', grad_fn=<NegBackward0>), tensor(-46.0301, device='cuda:0', grad_fn=<NegBackward0>), tensor(-0.7695, device='cuda:0', grad_fn=<AddBackward0>)]\n",
      "0.24496958939297966\n",
      "tensor(-93.5777, device='cuda:0', grad_fn=<NegBackward0>) [tensor(-46.6790, device='cuda:0', grad_fn=<NegBackward0>), tensor(-46.2283, device='cuda:0', grad_fn=<NegBackward0>), tensor(-0.9551, device='cuda:0', grad_fn=<AddBackward0>)]\n",
      "tensor(-93.4704, device='cuda:0', grad_fn=<NegBackward0>) [tensor(-46.6790, device='cuda:0', grad_fn=<NegBackward0>), tensor(-46.1411, device='cuda:0', grad_fn=<NegBackward0>), tensor(-0.9160, device='cuda:0', grad_fn=<AddBackward0>)]\n",
      "0.23544136822747097\n",
      "tensor(-93.5112, device='cuda:0', grad_fn=<NegBackward0>) [tensor(-46.6558, device='cuda:0', grad_fn=<NegBackward0>), tensor(-46.2986, device='cuda:0', grad_fn=<NegBackward0>), tensor(-0.7450, device='cuda:0', grad_fn=<AddBackward0>)]\n",
      "tensor(-93.4737, device='cuda:0', grad_fn=<NegBackward0>) [tensor(-46.6558, device='cuda:0', grad_fn=<NegBackward0>), tensor(-46.2295, device='cuda:0', grad_fn=<NegBackward0>), tensor(-0.8012, device='cuda:0', grad_fn=<AddBackward0>)]\n",
      "0.22402385376305634\n",
      "tensor(-93.2138, device='cuda:0', grad_fn=<NegBackward0>) [tensor(-46.5405, device='cuda:0', grad_fn=<NegBackward0>), tensor(-46.1292, device='cuda:0', grad_fn=<NegBackward0>), tensor(-0.7229, device='cuda:0', grad_fn=<AddBackward0>)]\n",
      "tensor(-93.2074, device='cuda:0', grad_fn=<NegBackward0>) [tensor(-46.5405, device='cuda:0', grad_fn=<NegBackward0>), tensor(-46.1218, device='cuda:0', grad_fn=<NegBackward0>), tensor(-0.7247, device='cuda:0', grad_fn=<AddBackward0>)]\n",
      "0.2487274864467122\n",
      "tensor(-93.3523, device='cuda:0', grad_fn=<NegBackward0>) [tensor(-46.6055, device='cuda:0', grad_fn=<NegBackward0>), tensor(-46.0920, device='cuda:0', grad_fn=<NegBackward0>), tensor(-0.9249, device='cuda:0', grad_fn=<AddBackward0>)]\n",
      "tensor(-93.4183, device='cuda:0', grad_fn=<NegBackward0>) [tensor(-46.6055, device='cuda:0', grad_fn=<NegBackward0>), tensor(-46.1397, device='cuda:0', grad_fn=<NegBackward0>), tensor(-0.9604, device='cuda:0', grad_fn=<AddBackward0>)]\n",
      "0.26961474032323696\n",
      "tensor(-93.4680, device='cuda:0', grad_fn=<NegBackward0>) [tensor(-46.6147, device='cuda:0', grad_fn=<NegBackward0>), tensor(-46.1524, device='cuda:0', grad_fn=<NegBackward0>), tensor(-1.0156, device='cuda:0', grad_fn=<AddBackward0>)]\n",
      "tensor(-93.3858, device='cuda:0', grad_fn=<NegBackward0>) [tensor(-46.6147, device='cuda:0', grad_fn=<NegBackward0>), tensor(-46.0693, device='cuda:0', grad_fn=<NegBackward0>), tensor(-1.0172, device='cuda:0', grad_fn=<AddBackward0>)]\n",
      "0.2612841674031653\n",
      "tensor(-93.6573, device='cuda:0', grad_fn=<NegBackward0>) [tensor(-46.7225, device='cuda:0', grad_fn=<NegBackward0>), tensor(-46.2644, device='cuda:0', grad_fn=<NegBackward0>), tensor(-0.9551, device='cuda:0', grad_fn=<AddBackward0>)]\n",
      "tensor(-93.5662, device='cuda:0', grad_fn=<NegBackward0>) [tensor(-46.7225, device='cuda:0', grad_fn=<NegBackward0>), tensor(-46.1580, device='cuda:0', grad_fn=<NegBackward0>), tensor(-0.9853, device='cuda:0', grad_fn=<AddBackward0>)]\n"
     ]
    },
    {
     "name": "stdout",
     "output_type": "stream",
     "text": [
      "0.2272989697582842\n",
      "tensor(-93.8579, device='cuda:0', grad_fn=<NegBackward0>) [tensor(-46.8151, device='cuda:0', grad_fn=<NegBackward0>), tensor(-46.4824, device='cuda:0', grad_fn=<NegBackward0>), tensor(-0.7513, device='cuda:0', grad_fn=<AddBackward0>)]\n",
      "tensor(-93.7564, device='cuda:0', grad_fn=<NegBackward0>) [tensor(-46.8151, device='cuda:0', grad_fn=<NegBackward0>), tensor(-46.3734, device='cuda:0', grad_fn=<NegBackward0>), tensor(-0.7646, device='cuda:0', grad_fn=<AddBackward0>)]\n",
      "0.2324408697947531\n",
      "tensor(-93.3851, device='cuda:0', grad_fn=<NegBackward0>) [tensor(-46.6413, device='cuda:0', grad_fn=<NegBackward0>), tensor(-46.1623, device='cuda:0', grad_fn=<NegBackward0>), tensor(-0.7887, device='cuda:0', grad_fn=<AddBackward0>)]\n",
      "tensor(-93.4533, device='cuda:0', grad_fn=<NegBackward0>) [tensor(-46.6413, device='cuda:0', grad_fn=<NegBackward0>), tensor(-46.1952, device='cuda:0', grad_fn=<NegBackward0>), tensor(-0.8530, device='cuda:0', grad_fn=<AddBackward0>)]\n",
      "0.2345628856542036\n",
      "tensor(-93.6168, device='cuda:0', grad_fn=<NegBackward0>) [tensor(-46.7360, device='cuda:0', grad_fn=<NegBackward0>), tensor(-46.2585, device='cuda:0', grad_fn=<NegBackward0>), tensor(-0.8630, device='cuda:0', grad_fn=<AddBackward0>)]\n",
      "tensor(-93.6337, device='cuda:0', grad_fn=<NegBackward0>) [tensor(-46.7360, device='cuda:0', grad_fn=<NegBackward0>), tensor(-46.3595, device='cuda:0', grad_fn=<NegBackward0>), tensor(-0.7128, device='cuda:0', grad_fn=<AddBackward0>)]\n",
      "0.2372135471515193\n",
      "tensor(-93.7336, device='cuda:0', grad_fn=<NegBackward0>) [tensor(-46.8373, device='cuda:0', grad_fn=<NegBackward0>), tensor(-46.2804, device='cuda:0', grad_fn=<NegBackward0>), tensor(-0.8512, device='cuda:0', grad_fn=<AddBackward0>)]\n",
      "tensor(-93.7922, device='cuda:0', grad_fn=<NegBackward0>) [tensor(-46.8373, device='cuda:0', grad_fn=<NegBackward0>), tensor(-46.3564, device='cuda:0', grad_fn=<NegBackward0>), tensor(-0.8194, device='cuda:0', grad_fn=<AddBackward0>)]\n",
      "0.2424976894043082\n",
      "tensor(-93.7363, device='cuda:0', grad_fn=<NegBackward0>) [tensor(-46.8184, device='cuda:0', grad_fn=<NegBackward0>), tensor(-46.3372, device='cuda:0', grad_fn=<NegBackward0>), tensor(-0.7873, device='cuda:0', grad_fn=<AddBackward0>)]\n",
      "tensor(-93.7639, device='cuda:0', grad_fn=<NegBackward0>) [tensor(-46.8184, device='cuda:0', grad_fn=<NegBackward0>), tensor(-46.3316, device='cuda:0', grad_fn=<NegBackward0>), tensor(-0.8475, device='cuda:0', grad_fn=<AddBackward0>)]\n",
      "0.23400775610128138\n",
      "tensor(-93.5066, device='cuda:0', grad_fn=<NegBackward0>) [tensor(-46.6937, device='cuda:0', grad_fn=<NegBackward0>), tensor(-46.2201, device='cuda:0', grad_fn=<NegBackward0>), tensor(-0.8091, device='cuda:0', grad_fn=<AddBackward0>)]\n",
      "tensor(-93.5882, device='cuda:0', grad_fn=<NegBackward0>) [tensor(-46.6937, device='cuda:0', grad_fn=<NegBackward0>), tensor(-46.3320, device='cuda:0', grad_fn=<NegBackward0>), tensor(-0.7550, device='cuda:0', grad_fn=<AddBackward0>)]\n",
      "0.21814454990262405\n",
      "tensor(-93.7907, device='cuda:0', grad_fn=<NegBackward0>) [tensor(-46.8172, device='cuda:0', grad_fn=<NegBackward0>), tensor(-46.4779, device='cuda:0', grad_fn=<NegBackward0>), tensor(-0.6416, device='cuda:0', grad_fn=<AddBackward0>)]\n",
      "tensor(-93.7327, device='cuda:0', grad_fn=<NegBackward0>) [tensor(-46.8172, device='cuda:0', grad_fn=<NegBackward0>), tensor(-46.3891, device='cuda:0', grad_fn=<NegBackward0>), tensor(-0.6928, device='cuda:0', grad_fn=<AddBackward0>)]\n",
      "0.2445225344950152\n",
      "tensor(-93.4835, device='cuda:0', grad_fn=<NegBackward0>) [tensor(-46.6438, device='cuda:0', grad_fn=<NegBackward0>), tensor(-46.2177, device='cuda:0', grad_fn=<NegBackward0>), tensor(-0.8626, device='cuda:0', grad_fn=<AddBackward0>)]\n",
      "tensor(-93.5035, device='cuda:0', grad_fn=<NegBackward0>) [tensor(-46.6438, device='cuda:0', grad_fn=<NegBackward0>), tensor(-46.2564, device='cuda:0', grad_fn=<NegBackward0>), tensor(-0.8281, device='cuda:0', grad_fn=<AddBackward0>)]\n",
      "0.21900910823371036\n",
      "tensor(-93.7925, device='cuda:0', grad_fn=<NegBackward0>) [tensor(-46.8292, device='cuda:0', grad_fn=<NegBackward0>), tensor(-46.4181, device='cuda:0', grad_fn=<NegBackward0>), tensor(-0.7250, device='cuda:0', grad_fn=<AddBackward0>)]\n",
      "tensor(-93.8158, device='cuda:0', grad_fn=<NegBackward0>) [tensor(-46.8292, device='cuda:0', grad_fn=<NegBackward0>), tensor(-46.4741, device='cuda:0', grad_fn=<NegBackward0>), tensor(-0.6695, device='cuda:0', grad_fn=<AddBackward0>)]\n",
      "0.2524630046262888\n",
      "tensor(-93.9644, device='cuda:0', grad_fn=<NegBackward0>) [tensor(-46.9121, device='cuda:0', grad_fn=<NegBackward0>), tensor(-46.4301, device='cuda:0', grad_fn=<NegBackward0>), tensor(-0.8629, device='cuda:0', grad_fn=<AddBackward0>)]\n",
      "tensor(-93.9579, device='cuda:0', grad_fn=<NegBackward0>) [tensor(-46.9121, device='cuda:0', grad_fn=<NegBackward0>), tensor(-46.4240, device='cuda:0', grad_fn=<NegBackward0>), tensor(-0.8622, device='cuda:0', grad_fn=<AddBackward0>)]\n",
      "0.2600932046074346\n",
      "tensor(-93.7218, device='cuda:0', grad_fn=<NegBackward0>) [tensor(-46.7954, device='cuda:0', grad_fn=<NegBackward0>), tensor(-46.3004, device='cuda:0', grad_fn=<NegBackward0>), tensor(-0.8702, device='cuda:0', grad_fn=<AddBackward0>)]\n",
      "tensor(-93.6855, device='cuda:0', grad_fn=<NegBackward0>) [tensor(-46.7954, device='cuda:0', grad_fn=<NegBackward0>), tensor(-46.1761, device='cuda:0', grad_fn=<NegBackward0>), tensor(-1.0422, device='cuda:0', grad_fn=<AddBackward0>)]\n",
      "0.26352252636684553\n",
      "tensor(-93.8514, device='cuda:0', grad_fn=<NegBackward0>) [tensor(-46.8600, device='cuda:0', grad_fn=<NegBackward0>), tensor(-46.3151, device='cuda:0', grad_fn=<NegBackward0>), tensor(-0.9665, device='cuda:0', grad_fn=<AddBackward0>)]\n",
      "tensor(-93.9058, device='cuda:0', grad_fn=<NegBackward0>) [tensor(-46.8600, device='cuda:0', grad_fn=<NegBackward0>), tensor(-46.3512, device='cuda:0', grad_fn=<NegBackward0>), tensor(-1.0030, device='cuda:0', grad_fn=<AddBackward0>)]\n",
      "0.2358283544745188\n",
      "tensor(-93.8711, device='cuda:0', grad_fn=<NegBackward0>) [tensor(-46.8132, device='cuda:0', grad_fn=<NegBackward0>), tensor(-46.4804, device='cuda:0', grad_fn=<NegBackward0>), tensor(-0.7816, device='cuda:0', grad_fn=<AddBackward0>)]\n",
      "tensor(-93.7812, device='cuda:0', grad_fn=<NegBackward0>) [tensor(-46.8132, device='cuda:0', grad_fn=<NegBackward0>), tensor(-46.4051, device='cuda:0', grad_fn=<NegBackward0>), tensor(-0.7557, device='cuda:0', grad_fn=<AddBackward0>)]\n",
      "0.22264733278859328\n",
      "tensor(-93.7141, device='cuda:0', grad_fn=<NegBackward0>) [tensor(-46.7920, device='cuda:0', grad_fn=<NegBackward0>), tensor(-46.3415, device='cuda:0', grad_fn=<NegBackward0>), tensor(-0.7872, device='cuda:0', grad_fn=<AddBackward0>)]\n",
      "tensor(-93.7542, device='cuda:0', grad_fn=<NegBackward0>) [tensor(-46.7920, device='cuda:0', grad_fn=<NegBackward0>), tensor(-46.4560, device='cuda:0', grad_fn=<NegBackward0>), tensor(-0.6590, device='cuda:0', grad_fn=<AddBackward0>)]\n",
      "0.24284662550258668\n",
      "tensor(-94.0095, device='cuda:0', grad_fn=<NegBackward0>) [tensor(-46.9162, device='cuda:0', grad_fn=<NegBackward0>), tensor(-46.4830, device='cuda:0', grad_fn=<NegBackward0>), tensor(-0.8411, device='cuda:0', grad_fn=<AddBackward0>)]\n",
      "tensor(-93.9828, device='cuda:0', grad_fn=<NegBackward0>) [tensor(-46.9162, device='cuda:0', grad_fn=<NegBackward0>), tensor(-46.4840, device='cuda:0', grad_fn=<NegBackward0>), tensor(-0.7908, device='cuda:0', grad_fn=<AddBackward0>)]\n",
      "0.23914579190802104\n",
      "tensor(-93.9921, device='cuda:0', grad_fn=<NegBackward0>) [tensor(-46.9079, device='cuda:0', grad_fn=<NegBackward0>), tensor(-46.4926, device='cuda:0', grad_fn=<NegBackward0>), tensor(-0.8068, device='cuda:0', grad_fn=<AddBackward0>)]\n",
      "tensor(-93.9460, device='cuda:0', grad_fn=<NegBackward0>) [tensor(-46.9079, device='cuda:0', grad_fn=<NegBackward0>), tensor(-46.4353, device='cuda:0', grad_fn=<NegBackward0>), tensor(-0.8274, device='cuda:0', grad_fn=<AddBackward0>)]\n",
      "0.25005915196651235\n",
      "tensor(-93.2713, device='cuda:0', grad_fn=<NegBackward0>) [tensor(-46.5188, device='cuda:0', grad_fn=<NegBackward0>), tensor(-46.1488, device='cuda:0', grad_fn=<NegBackward0>), tensor(-0.8291, device='cuda:0', grad_fn=<AddBackward0>)]\n",
      "tensor(-92.9874, device='cuda:0', grad_fn=<NegBackward0>) [tensor(-46.5188, device='cuda:0', grad_fn=<NegBackward0>), tensor(-45.8326, device='cuda:0', grad_fn=<NegBackward0>), tensor(-0.8890, device='cuda:0', grad_fn=<AddBackward0>)]\n"
     ]
    },
    {
     "name": "stdout",
     "output_type": "stream",
     "text": [
      "0.21315396277341744\n",
      "tensor(-93.3788, device='cuda:0', grad_fn=<NegBackward0>) [tensor(-46.6538, device='cuda:0', grad_fn=<NegBackward0>), tensor(-46.2197, device='cuda:0', grad_fn=<NegBackward0>), tensor(-0.6575, device='cuda:0', grad_fn=<AddBackward0>)]\n",
      "tensor(-93.5132, device='cuda:0', grad_fn=<NegBackward0>) [tensor(-46.6538, device='cuda:0', grad_fn=<NegBackward0>), tensor(-46.3826, device='cuda:0', grad_fn=<NegBackward0>), tensor(-0.6108, device='cuda:0', grad_fn=<AddBackward0>)]\n",
      "0.23746462065560342\n",
      "tensor(-93.9475, device='cuda:0', grad_fn=<NegBackward0>) [tensor(-46.9512, device='cuda:0', grad_fn=<NegBackward0>), tensor(-46.3541, device='cuda:0', grad_fn=<NegBackward0>), tensor(-0.9007, device='cuda:0', grad_fn=<AddBackward0>)]\n",
      "tensor(-94.0491, device='cuda:0', grad_fn=<NegBackward0>) [tensor(-46.9512, device='cuda:0', grad_fn=<NegBackward0>), tensor(-46.5528, device='cuda:0', grad_fn=<NegBackward0>), tensor(-0.7249, device='cuda:0', grad_fn=<AddBackward0>)]\n",
      "0.23525312903272153\n",
      "tensor(-93.9379, device='cuda:0', grad_fn=<NegBackward0>) [tensor(-46.9250, device='cuda:0', grad_fn=<NegBackward0>), tensor(-46.4352, device='cuda:0', grad_fn=<NegBackward0>), tensor(-0.7819, device='cuda:0', grad_fn=<AddBackward0>)]\n",
      "tensor(-94.0021, device='cuda:0', grad_fn=<NegBackward0>) [tensor(-46.9250, device='cuda:0', grad_fn=<NegBackward0>), tensor(-46.4852, device='cuda:0', grad_fn=<NegBackward0>), tensor(-0.8073, device='cuda:0', grad_fn=<AddBackward0>)]\n",
      "0.23528955935028256\n",
      "tensor(-93.8368, device='cuda:0', grad_fn=<NegBackward0>) [tensor(-46.8587, device='cuda:0', grad_fn=<NegBackward0>), tensor(-46.4090, device='cuda:0', grad_fn=<NegBackward0>), tensor(-0.7667, device='cuda:0', grad_fn=<AddBackward0>)]\n",
      "tensor(-93.7793, device='cuda:0', grad_fn=<NegBackward0>) [tensor(-46.8587, device='cuda:0', grad_fn=<NegBackward0>), tensor(-46.3695, device='cuda:0', grad_fn=<NegBackward0>), tensor(-0.7352, device='cuda:0', grad_fn=<AddBackward0>)]\n",
      "0.2623189688473389\n",
      "tensor(-94.0550, device='cuda:0', grad_fn=<NegBackward0>) [tensor(-46.9656, device='cuda:0', grad_fn=<NegBackward0>), tensor(-46.4146, device='cuda:0', grad_fn=<NegBackward0>), tensor(-0.9637, device='cuda:0', grad_fn=<AddBackward0>)]\n",
      "tensor(-94.0250, device='cuda:0', grad_fn=<NegBackward0>) [tensor(-46.9656, device='cuda:0', grad_fn=<NegBackward0>), tensor(-46.3971, device='cuda:0', grad_fn=<NegBackward0>), tensor(-0.9393, device='cuda:0', grad_fn=<AddBackward0>)]\n",
      "0.2402578976457161\n",
      "tensor(-94.0522, device='cuda:0', grad_fn=<NegBackward0>) [tensor(-46.9867, device='cuda:0', grad_fn=<NegBackward0>), tensor(-46.4676, device='cuda:0', grad_fn=<NegBackward0>), tensor(-0.8182, device='cuda:0', grad_fn=<AddBackward0>)]\n",
      "tensor(-94.0903, device='cuda:0', grad_fn=<NegBackward0>) [tensor(-46.9867, device='cuda:0', grad_fn=<NegBackward0>), tensor(-46.5202, device='cuda:0', grad_fn=<NegBackward0>), tensor(-0.7920, device='cuda:0', grad_fn=<AddBackward0>)]\n",
      "0.23250234174017367\n",
      "tensor(-94.0548, device='cuda:0', grad_fn=<NegBackward0>) [tensor(-46.9624, device='cuda:0', grad_fn=<NegBackward0>), tensor(-46.5232, device='cuda:0', grad_fn=<NegBackward0>), tensor(-0.7667, device='cuda:0', grad_fn=<AddBackward0>)]\n",
      "tensor(-94.0541, device='cuda:0', grad_fn=<NegBackward0>) [tensor(-46.9624, device='cuda:0', grad_fn=<NegBackward0>), tensor(-46.5329, device='cuda:0', grad_fn=<NegBackward0>), tensor(-0.7485, device='cuda:0', grad_fn=<AddBackward0>)]\n",
      "0.24029597023692642\n",
      "tensor(-94.0864, device='cuda:0', grad_fn=<NegBackward0>) [tensor(-46.9858, device='cuda:0', grad_fn=<NegBackward0>), tensor(-46.5019, device='cuda:0', grad_fn=<NegBackward0>), tensor(-0.8197, device='cuda:0', grad_fn=<AddBackward0>)]\n",
      "tensor(-94.0240, device='cuda:0', grad_fn=<NegBackward0>) [tensor(-46.9858, device='cuda:0', grad_fn=<NegBackward0>), tensor(-46.4288, device='cuda:0', grad_fn=<NegBackward0>), tensor(-0.8393, device='cuda:0', grad_fn=<AddBackward0>)]\n",
      "0.18466450496340198\n",
      "tensor(-93.8709, device='cuda:0', grad_fn=<NegBackward0>) [tensor(-46.8594, device='cuda:0', grad_fn=<NegBackward0>), tensor(-46.6351, device='cuda:0', grad_fn=<NegBackward0>), tensor(-0.4571, device='cuda:0', grad_fn=<AddBackward0>)]\n",
      "tensor(-93.8036, device='cuda:0', grad_fn=<NegBackward0>) [tensor(-46.8594, device='cuda:0', grad_fn=<NegBackward0>), tensor(-46.5597, device='cuda:0', grad_fn=<NegBackward0>), tensor(-0.4688, device='cuda:0', grad_fn=<AddBackward0>)]\n",
      "0.2594298036355134\n",
      "tensor(-94.4294, device='cuda:0', grad_fn=<NegBackward0>) [tensor(-47.1223, device='cuda:0', grad_fn=<NegBackward0>), tensor(-46.6434, device='cuda:0', grad_fn=<NegBackward0>), tensor(-0.9417, device='cuda:0', grad_fn=<AddBackward0>)]\n",
      "tensor(-94.3663, device='cuda:0', grad_fn=<NegBackward0>) [tensor(-47.1223, device='cuda:0', grad_fn=<NegBackward0>), tensor(-46.6177, device='cuda:0', grad_fn=<NegBackward0>), tensor(-0.8706, device='cuda:0', grad_fn=<AddBackward0>)]\n",
      "0.25573156274933767\n",
      "tensor(-94.4158, device='cuda:0', grad_fn=<NegBackward0>) [tensor(-47.1219, device='cuda:0', grad_fn=<NegBackward0>), tensor(-46.6517, device='cuda:0', grad_fn=<NegBackward0>), tensor(-0.9006, device='cuda:0', grad_fn=<AddBackward0>)]\n",
      "tensor(-94.3903, device='cuda:0', grad_fn=<NegBackward0>) [tensor(-47.1219, device='cuda:0', grad_fn=<NegBackward0>), tensor(-46.6490, device='cuda:0', grad_fn=<NegBackward0>), tensor(-0.8578, device='cuda:0', grad_fn=<AddBackward0>)]\n",
      "0.2313621264462352\n",
      "tensor(-94.3268, device='cuda:0', grad_fn=<NegBackward0>) [tensor(-47.0725, device='cuda:0', grad_fn=<NegBackward0>), tensor(-46.7170, device='cuda:0', grad_fn=<NegBackward0>), tensor(-0.7115, device='cuda:0', grad_fn=<AddBackward0>)]\n",
      "tensor(-94.3221, device='cuda:0', grad_fn=<NegBackward0>) [tensor(-47.0725, device='cuda:0', grad_fn=<NegBackward0>), tensor(-46.7062, device='cuda:0', grad_fn=<NegBackward0>), tensor(-0.7218, device='cuda:0', grad_fn=<AddBackward0>)]\n",
      "0.2558788063315988\n",
      "tensor(-94.1947, device='cuda:0', grad_fn=<NegBackward0>) [tensor(-47.0413, device='cuda:0', grad_fn=<NegBackward0>), tensor(-46.5064, device='cuda:0', grad_fn=<NegBackward0>), tensor(-0.9097, device='cuda:0', grad_fn=<AddBackward0>)]\n",
      "tensor(-94.2572, device='cuda:0', grad_fn=<NegBackward0>) [tensor(-47.0413, device='cuda:0', grad_fn=<NegBackward0>), tensor(-46.6478, device='cuda:0', grad_fn=<NegBackward0>), tensor(-0.7648, device='cuda:0', grad_fn=<AddBackward0>)]\n",
      "0.236129937277725\n",
      "tensor(-94.4577, device='cuda:0', grad_fn=<NegBackward0>) [tensor(-47.1546, device='cuda:0', grad_fn=<NegBackward0>), tensor(-46.7134, device='cuda:0', grad_fn=<NegBackward0>), tensor(-0.8034, device='cuda:0', grad_fn=<AddBackward0>)]\n",
      "tensor(-94.5126, device='cuda:0', grad_fn=<NegBackward0>) [tensor(-47.1546, device='cuda:0', grad_fn=<NegBackward0>), tensor(-46.7835, device='cuda:0', grad_fn=<NegBackward0>), tensor(-0.7762, device='cuda:0', grad_fn=<AddBackward0>)]\n",
      "0.2225527461020056\n",
      "tensor(-94.4065, device='cuda:0', grad_fn=<NegBackward0>) [tensor(-47.1097, device='cuda:0', grad_fn=<NegBackward0>), tensor(-46.7896, device='cuda:0', grad_fn=<NegBackward0>), tensor(-0.6607, device='cuda:0', grad_fn=<AddBackward0>)]\n",
      "tensor(-94.3854, device='cuda:0', grad_fn=<NegBackward0>) [tensor(-47.1097, device='cuda:0', grad_fn=<NegBackward0>), tensor(-46.7743, device='cuda:0', grad_fn=<NegBackward0>), tensor(-0.6511, device='cuda:0', grad_fn=<AddBackward0>)]\n",
      "0.2598121200934047\n",
      "tensor(-94.6295, device='cuda:0', grad_fn=<NegBackward0>) [tensor(-47.2429, device='cuda:0', grad_fn=<NegBackward0>), tensor(-46.7685, device='cuda:0', grad_fn=<NegBackward0>), tensor(-0.8553, device='cuda:0', grad_fn=<AddBackward0>)]\n",
      "tensor(-94.6624, device='cuda:0', grad_fn=<NegBackward0>) [tensor(-47.2429, device='cuda:0', grad_fn=<NegBackward0>), tensor(-46.7565, device='cuda:0', grad_fn=<NegBackward0>), tensor(-0.9405, device='cuda:0', grad_fn=<AddBackward0>)]\n",
      "0.25434327790398836\n",
      "tensor(-94.4140, device='cuda:0', grad_fn=<NegBackward0>) [tensor(-47.0793, device='cuda:0', grad_fn=<NegBackward0>), tensor(-46.6652, device='cuda:0', grad_fn=<NegBackward0>), tensor(-0.9533, device='cuda:0', grad_fn=<AddBackward0>)]\n",
      "tensor(-94.2793, device='cuda:0', grad_fn=<NegBackward0>) [tensor(-47.0793, device='cuda:0', grad_fn=<NegBackward0>), tensor(-46.5567, device='cuda:0', grad_fn=<NegBackward0>), tensor(-0.9028, device='cuda:0', grad_fn=<AddBackward0>)]\n"
     ]
    },
    {
     "name": "stdout",
     "output_type": "stream",
     "text": [
      "0.21788380403135463\n",
      "tensor(-94.5195, device='cuda:0', grad_fn=<NegBackward0>) [tensor(-47.1676, device='cuda:0', grad_fn=<NegBackward0>), tensor(-46.8757, device='cuda:0', grad_fn=<NegBackward0>), tensor(-0.6100, device='cuda:0', grad_fn=<AddBackward0>)]\n",
      "tensor(-94.4309, device='cuda:0', grad_fn=<NegBackward0>) [tensor(-47.1676, device='cuda:0', grad_fn=<NegBackward0>), tensor(-46.7528, device='cuda:0', grad_fn=<NegBackward0>), tensor(-0.6663, device='cuda:0', grad_fn=<AddBackward0>)]\n",
      "0.23368316006347198\n",
      "tensor(-94.2245, device='cuda:0', grad_fn=<NegBackward0>) [tensor(-47.0669, device='cuda:0', grad_fn=<NegBackward0>), tensor(-46.6124, device='cuda:0', grad_fn=<NegBackward0>), tensor(-0.7248, device='cuda:0', grad_fn=<AddBackward0>)]\n",
      "tensor(-94.3029, device='cuda:0', grad_fn=<NegBackward0>) [tensor(-47.0669, device='cuda:0', grad_fn=<NegBackward0>), tensor(-46.6423, device='cuda:0', grad_fn=<NegBackward0>), tensor(-0.8106, device='cuda:0', grad_fn=<AddBackward0>)]\n",
      "0.25605067520026414\n",
      "tensor(-94.2400, device='cuda:0', grad_fn=<NegBackward0>) [tensor(-47.1042, device='cuda:0', grad_fn=<NegBackward0>), tensor(-46.5084, device='cuda:0', grad_fn=<NegBackward0>), tensor(-0.8728, device='cuda:0', grad_fn=<AddBackward0>)]\n",
      "tensor(-94.3717, device='cuda:0', grad_fn=<NegBackward0>) [tensor(-47.1042, device='cuda:0', grad_fn=<NegBackward0>), tensor(-46.6400, device='cuda:0', grad_fn=<NegBackward0>), tensor(-0.8728, device='cuda:0', grad_fn=<AddBackward0>)]\n",
      "0.22940474358193222\n",
      "tensor(-94.2614, device='cuda:0', grad_fn=<NegBackward0>) [tensor(-47.0675, device='cuda:0', grad_fn=<NegBackward0>), tensor(-46.6840, device='cuda:0', grad_fn=<NegBackward0>), tensor(-0.6651, device='cuda:0', grad_fn=<AddBackward0>)]\n",
      "tensor(-94.2509, device='cuda:0', grad_fn=<NegBackward0>) [tensor(-47.0675, device='cuda:0', grad_fn=<NegBackward0>), tensor(-46.6469, device='cuda:0', grad_fn=<NegBackward0>), tensor(-0.7099, device='cuda:0', grad_fn=<AddBackward0>)]\n",
      "0.23180916465751164\n",
      "tensor(-94.4000, device='cuda:0', grad_fn=<NegBackward0>) [tensor(-47.1009, device='cuda:0', grad_fn=<NegBackward0>), tensor(-46.7076, device='cuda:0', grad_fn=<NegBackward0>), tensor(-0.8067, device='cuda:0', grad_fn=<AddBackward0>)]\n",
      "tensor(-94.3176, device='cuda:0', grad_fn=<NegBackward0>) [tensor(-47.1009, device='cuda:0', grad_fn=<NegBackward0>), tensor(-46.7101, device='cuda:0', grad_fn=<NegBackward0>), tensor(-0.6597, device='cuda:0', grad_fn=<AddBackward0>)]\n",
      "0.23957492921907264\n",
      "tensor(-94.4892, device='cuda:0', grad_fn=<NegBackward0>) [tensor(-47.1808, device='cuda:0', grad_fn=<NegBackward0>), tensor(-46.7357, device='cuda:0', grad_fn=<NegBackward0>), tensor(-0.7730, device='cuda:0', grad_fn=<AddBackward0>)]\n",
      "tensor(-94.5308, device='cuda:0', grad_fn=<NegBackward0>) [tensor(-47.1808, device='cuda:0', grad_fn=<NegBackward0>), tensor(-46.7479, device='cuda:0', grad_fn=<NegBackward0>), tensor(-0.8261, device='cuda:0', grad_fn=<AddBackward0>)]\n",
      "0.24157838800441203\n",
      "tensor(-94.3728, device='cuda:0', grad_fn=<NegBackward0>) [tensor(-47.0949, device='cuda:0', grad_fn=<NegBackward0>), tensor(-46.6990, device='cuda:0', grad_fn=<NegBackward0>), tensor(-0.7841, device='cuda:0', grad_fn=<AddBackward0>)]\n",
      "tensor(-94.3288, device='cuda:0', grad_fn=<NegBackward0>) [tensor(-47.0949, device='cuda:0', grad_fn=<NegBackward0>), tensor(-46.6885, device='cuda:0', grad_fn=<NegBackward0>), tensor(-0.7254, device='cuda:0', grad_fn=<AddBackward0>)]\n",
      "0.244285226514167\n",
      "tensor(-94.6717, device='cuda:0', grad_fn=<NegBackward0>) [tensor(-47.3069, device='cuda:0', grad_fn=<NegBackward0>), tensor(-46.7870, device='cuda:0', grad_fn=<NegBackward0>), tensor(-0.7822, device='cuda:0', grad_fn=<AddBackward0>)]\n",
      "tensor(-94.7215, device='cuda:0', grad_fn=<NegBackward0>) [tensor(-47.3069, device='cuda:0', grad_fn=<NegBackward0>), tensor(-46.8291, device='cuda:0', grad_fn=<NegBackward0>), tensor(-0.7960, device='cuda:0', grad_fn=<AddBackward0>)]\n",
      "0.22462104188492582\n",
      "tensor(-94.8242, device='cuda:0', grad_fn=<NegBackward0>) [tensor(-47.3475, device='cuda:0', grad_fn=<NegBackward0>), tensor(-46.9500, device='cuda:0', grad_fn=<NegBackward0>), tensor(-0.6933, device='cuda:0', grad_fn=<AddBackward0>)]\n",
      "tensor(-94.8175, device='cuda:0', grad_fn=<NegBackward0>) [tensor(-47.3475, device='cuda:0', grad_fn=<NegBackward0>), tensor(-46.9568, device='cuda:0', grad_fn=<NegBackward0>), tensor(-0.6706, device='cuda:0', grad_fn=<AddBackward0>)]\n",
      "0.23615483863546052\n",
      "tensor(-94.5997, device='cuda:0', grad_fn=<NegBackward0>) [tensor(-47.2408, device='cuda:0', grad_fn=<NegBackward0>), tensor(-46.7838, device='cuda:0', grad_fn=<NegBackward0>), tensor(-0.7773, device='cuda:0', grad_fn=<AddBackward0>)]\n",
      "tensor(-94.5605, device='cuda:0', grad_fn=<NegBackward0>) [tensor(-47.2408, device='cuda:0', grad_fn=<NegBackward0>), tensor(-46.7747, device='cuda:0', grad_fn=<NegBackward0>), tensor(-0.7245, device='cuda:0', grad_fn=<AddBackward0>)]\n",
      "0.20480860824041044\n",
      "tensor(-94.9265, device='cuda:0', grad_fn=<NegBackward0>) [tensor(-47.3733, device='cuda:0', grad_fn=<NegBackward0>), tensor(-47.1127, device='cuda:0', grad_fn=<NegBackward0>), tensor(-0.5537, device='cuda:0', grad_fn=<AddBackward0>)]\n",
      "tensor(-94.8228, device='cuda:0', grad_fn=<NegBackward0>) [tensor(-47.3733, device='cuda:0', grad_fn=<NegBackward0>), tensor(-46.9628, device='cuda:0', grad_fn=<NegBackward0>), tensor(-0.6270, device='cuda:0', grad_fn=<AddBackward0>)]\n",
      "0.21829044977707196\n",
      "tensor(-94.6147, device='cuda:0', grad_fn=<NegBackward0>) [tensor(-47.1995, device='cuda:0', grad_fn=<NegBackward0>), tensor(-46.9062, device='cuda:0', grad_fn=<NegBackward0>), tensor(-0.6635, device='cuda:0', grad_fn=<AddBackward0>)]\n",
      "tensor(-94.4563, device='cuda:0', grad_fn=<NegBackward0>) [tensor(-47.1995, device='cuda:0', grad_fn=<NegBackward0>), tensor(-46.7435, device='cuda:0', grad_fn=<NegBackward0>), tensor(-0.6708, device='cuda:0', grad_fn=<AddBackward0>)]\n",
      "0.224479797148007\n",
      "tensor(-94.9290, device='cuda:0', grad_fn=<NegBackward0>) [tensor(-47.3656, device='cuda:0', grad_fn=<NegBackward0>), tensor(-47.0026, device='cuda:0', grad_fn=<NegBackward0>), tensor(-0.7521, device='cuda:0', grad_fn=<AddBackward0>)]\n",
      "tensor(-94.8084, device='cuda:0', grad_fn=<NegBackward0>) [tensor(-47.3656, device='cuda:0', grad_fn=<NegBackward0>), tensor(-46.9199, device='cuda:0', grad_fn=<NegBackward0>), tensor(-0.6869, device='cuda:0', grad_fn=<AddBackward0>)]\n",
      "0.24877521405445444\n",
      "tensor(-94.6659, device='cuda:0', grad_fn=<NegBackward0>) [tensor(-47.2497, device='cuda:0', grad_fn=<NegBackward0>), tensor(-46.8058, device='cuda:0', grad_fn=<NegBackward0>), tensor(-0.8414, device='cuda:0', grad_fn=<AddBackward0>)]\n",
      "tensor(-94.6848, device='cuda:0', grad_fn=<NegBackward0>) [tensor(-47.2497, device='cuda:0', grad_fn=<NegBackward0>), tensor(-46.8400, device='cuda:0', grad_fn=<NegBackward0>), tensor(-0.8131, device='cuda:0', grad_fn=<AddBackward0>)]\n",
      "0.234205757733162\n",
      "tensor(-94.8866, device='cuda:0', grad_fn=<NegBackward0>) [tensor(-47.4082, device='cuda:0', grad_fn=<NegBackward0>), tensor(-46.9366, device='cuda:0', grad_fn=<NegBackward0>), tensor(-0.7190, device='cuda:0', grad_fn=<AddBackward0>)]\n",
      "tensor(-94.9203, device='cuda:0', grad_fn=<NegBackward0>) [tensor(-47.4082, device='cuda:0', grad_fn=<NegBackward0>), tensor(-46.9251, device='cuda:0', grad_fn=<NegBackward0>), tensor(-0.7987, device='cuda:0', grad_fn=<AddBackward0>)]\n",
      "0.2222032940684321\n",
      "tensor(-94.5263, device='cuda:0', grad_fn=<NegBackward0>) [tensor(-47.1872, device='cuda:0', grad_fn=<NegBackward0>), tensor(-46.8322, device='cuda:0', grad_fn=<NegBackward0>), tensor(-0.6601, device='cuda:0', grad_fn=<AddBackward0>)]\n",
      "tensor(-94.4038, device='cuda:0', grad_fn=<NegBackward0>) [tensor(-47.1872, device='cuda:0', grad_fn=<NegBackward0>), tensor(-46.7153, device='cuda:0', grad_fn=<NegBackward0>), tensor(-0.6509, device='cuda:0', grad_fn=<AddBackward0>)]\n",
      "0.21824386216420155\n",
      "tensor(-94.5586, device='cuda:0', grad_fn=<NegBackward0>) [tensor(-47.2161, device='cuda:0', grad_fn=<NegBackward0>), tensor(-46.8141, device='cuda:0', grad_fn=<NegBackward0>), tensor(-0.6962, device='cuda:0', grad_fn=<AddBackward0>)]\n",
      "tensor(-94.5248, device='cuda:0', grad_fn=<NegBackward0>) [tensor(-47.2161, device='cuda:0', grad_fn=<NegBackward0>), tensor(-46.8167, device='cuda:0', grad_fn=<NegBackward0>), tensor(-0.6355, device='cuda:0', grad_fn=<AddBackward0>)]\n"
     ]
    },
    {
     "name": "stdout",
     "output_type": "stream",
     "text": [
      "0.2635973162003561\n",
      "tensor(-94.7624, device='cuda:0', grad_fn=<NegBackward0>) [tensor(-47.2999, device='cuda:0', grad_fn=<NegBackward0>), tensor(-46.8030, device='cuda:0', grad_fn=<NegBackward0>), tensor(-0.9338, device='cuda:0', grad_fn=<AddBackward0>)]\n",
      "tensor(-94.6929, device='cuda:0', grad_fn=<NegBackward0>) [tensor(-47.2999, device='cuda:0', grad_fn=<NegBackward0>), tensor(-46.7429, device='cuda:0', grad_fn=<NegBackward0>), tensor(-0.9159, device='cuda:0', grad_fn=<AddBackward0>)]\n",
      "0.24682161300901945\n",
      "tensor(-94.9622, device='cuda:0', grad_fn=<NegBackward0>) [tensor(-47.4193, device='cuda:0', grad_fn=<NegBackward0>), tensor(-46.9472, device='cuda:0', grad_fn=<NegBackward0>), tensor(-0.8143, device='cuda:0', grad_fn=<AddBackward0>)]\n",
      "tensor(-94.8932, device='cuda:0', grad_fn=<NegBackward0>) [tensor(-47.4193, device='cuda:0', grad_fn=<NegBackward0>), tensor(-46.8761, device='cuda:0', grad_fn=<NegBackward0>), tensor(-0.8180, device='cuda:0', grad_fn=<AddBackward0>)]\n",
      "0.22337282657399002\n",
      "tensor(-94.8574, device='cuda:0', grad_fn=<NegBackward0>) [tensor(-47.3631, device='cuda:0', grad_fn=<NegBackward0>), tensor(-46.9698, device='cuda:0', grad_fn=<NegBackward0>), tensor(-0.6897, device='cuda:0', grad_fn=<AddBackward0>)]\n",
      "tensor(-94.8275, device='cuda:0', grad_fn=<NegBackward0>) [tensor(-47.3631, device='cuda:0', grad_fn=<NegBackward0>), tensor(-46.9717, device='cuda:0', grad_fn=<NegBackward0>), tensor(-0.6368, device='cuda:0', grad_fn=<AddBackward0>)]\n",
      "0.26221985869498016\n",
      "tensor(-94.8963, device='cuda:0', grad_fn=<NegBackward0>) [tensor(-47.4113, device='cuda:0', grad_fn=<NegBackward0>), tensor(-46.8116, device='cuda:0', grad_fn=<NegBackward0>), tensor(-0.9610, device='cuda:0', grad_fn=<AddBackward0>)]\n",
      "tensor(-94.9699, device='cuda:0', grad_fn=<NegBackward0>) [tensor(-47.4113, device='cuda:0', grad_fn=<NegBackward0>), tensor(-46.8736, device='cuda:0', grad_fn=<NegBackward0>), tensor(-0.9838, device='cuda:0', grad_fn=<AddBackward0>)]\n",
      "0.2616733701644039\n",
      "tensor(-94.9421, device='cuda:0', grad_fn=<NegBackward0>) [tensor(-47.3906, device='cuda:0', grad_fn=<NegBackward0>), tensor(-46.9137, device='cuda:0', grad_fn=<NegBackward0>), tensor(-0.8924, device='cuda:0', grad_fn=<AddBackward0>)]\n",
      "tensor(-94.9231, device='cuda:0', grad_fn=<NegBackward0>) [tensor(-47.3906, device='cuda:0', grad_fn=<NegBackward0>), tensor(-46.8975, device='cuda:0', grad_fn=<NegBackward0>), tensor(-0.8872, device='cuda:0', grad_fn=<AddBackward0>)]\n",
      "0.20284744294797494\n",
      "tensor(-94.8525, device='cuda:0', grad_fn=<NegBackward0>) [tensor(-47.3594, device='cuda:0', grad_fn=<NegBackward0>), tensor(-47.0521, device='cuda:0', grad_fn=<NegBackward0>), tensor(-0.5543, device='cuda:0', grad_fn=<AddBackward0>)]\n",
      "tensor(-94.8192, device='cuda:0', grad_fn=<NegBackward0>) [tensor(-47.3594, device='cuda:0', grad_fn=<NegBackward0>), tensor(-47.0185, device='cuda:0', grad_fn=<NegBackward0>), tensor(-0.5548, device='cuda:0', grad_fn=<AddBackward0>)]\n",
      "0.23173460269578652\n",
      "tensor(-95.1300, device='cuda:0', grad_fn=<NegBackward0>) [tensor(-47.4897, device='cuda:0', grad_fn=<NegBackward0>), tensor(-47.0610, device='cuda:0', grad_fn=<NegBackward0>), tensor(-0.7848, device='cuda:0', grad_fn=<AddBackward0>)]\n",
      "tensor(-95.1460, device='cuda:0', grad_fn=<NegBackward0>) [tensor(-47.4897, device='cuda:0', grad_fn=<NegBackward0>), tensor(-47.1368, device='cuda:0', grad_fn=<NegBackward0>), tensor(-0.6810, device='cuda:0', grad_fn=<AddBackward0>)]\n",
      "0.22574412296506888\n",
      "tensor(-95.1205, device='cuda:0', grad_fn=<NegBackward0>) [tensor(-47.5316, device='cuda:0', grad_fn=<NegBackward0>), tensor(-47.0838, device='cuda:0', grad_fn=<NegBackward0>), tensor(-0.6573, device='cuda:0', grad_fn=<AddBackward0>)]\n",
      "tensor(-95.1592, device='cuda:0', grad_fn=<NegBackward0>) [tensor(-47.5316, device='cuda:0', grad_fn=<NegBackward0>), tensor(-47.1285, device='cuda:0', grad_fn=<NegBackward0>), tensor(-0.6473, device='cuda:0', grad_fn=<AddBackward0>)]\n",
      "0.23634954576914463\n",
      "tensor(-94.7957, device='cuda:0', grad_fn=<NegBackward0>) [tensor(-47.3646, device='cuda:0', grad_fn=<NegBackward0>), tensor(-46.8591, device='cuda:0', grad_fn=<NegBackward0>), tensor(-0.7717, device='cuda:0', grad_fn=<AddBackward0>)]\n",
      "tensor(-94.9331, device='cuda:0', grad_fn=<NegBackward0>) [tensor(-47.3646, device='cuda:0', grad_fn=<NegBackward0>), tensor(-47.0295, device='cuda:0', grad_fn=<NegBackward0>), tensor(-0.7141, device='cuda:0', grad_fn=<AddBackward0>)]\n",
      "0.22438209672328277\n",
      "tensor(-95.0353, device='cuda:0', grad_fn=<NegBackward0>) [tensor(-47.4421, device='cuda:0', grad_fn=<NegBackward0>), tensor(-47.0922, device='cuda:0', grad_fn=<NegBackward0>), tensor(-0.6504, device='cuda:0', grad_fn=<AddBackward0>)]\n",
      "tensor(-94.9761, device='cuda:0', grad_fn=<NegBackward0>) [tensor(-47.4421, device='cuda:0', grad_fn=<NegBackward0>), tensor(-47.0069, device='cuda:0', grad_fn=<NegBackward0>), tensor(-0.6941, device='cuda:0', grad_fn=<AddBackward0>)]\n",
      "0.2563294178886739\n",
      "tensor(-95.0615, device='cuda:0', grad_fn=<NegBackward0>) [tensor(-47.4350, device='cuda:0', grad_fn=<NegBackward0>), tensor(-46.9899, device='cuda:0', grad_fn=<NegBackward0>), tensor(-0.8901, device='cuda:0', grad_fn=<AddBackward0>)]\n",
      "tensor(-95.0111, device='cuda:0', grad_fn=<NegBackward0>) [tensor(-47.4350, device='cuda:0', grad_fn=<NegBackward0>), tensor(-46.9721, device='cuda:0', grad_fn=<NegBackward0>), tensor(-0.8294, device='cuda:0', grad_fn=<AddBackward0>)]\n",
      "0.2451184779389521\n",
      "tensor(-95.1673, device='cuda:0', grad_fn=<NegBackward0>) [tensor(-47.5295, device='cuda:0', grad_fn=<NegBackward0>), tensor(-47.0729, device='cuda:0', grad_fn=<NegBackward0>), tensor(-0.7593, device='cuda:0', grad_fn=<AddBackward0>)]\n",
      "tensor(-95.1248, device='cuda:0', grad_fn=<NegBackward0>) [tensor(-47.5295, device='cuda:0', grad_fn=<NegBackward0>), tensor(-47.0252, device='cuda:0', grad_fn=<NegBackward0>), tensor(-0.7685, device='cuda:0', grad_fn=<AddBackward0>)]\n",
      "0.20423295399536043\n",
      "tensor(-94.8741, device='cuda:0', grad_fn=<NegBackward0>) [tensor(-47.3951, device='cuda:0', grad_fn=<NegBackward0>), tensor(-47.0131, device='cuda:0', grad_fn=<NegBackward0>), tensor(-0.5934, device='cuda:0', grad_fn=<AddBackward0>)]\n",
      "tensor(-94.9598, device='cuda:0', grad_fn=<NegBackward0>) [tensor(-47.3951, device='cuda:0', grad_fn=<NegBackward0>), tensor(-47.1472, device='cuda:0', grad_fn=<NegBackward0>), tensor(-0.5181, device='cuda:0', grad_fn=<AddBackward0>)]\n",
      "0.21264733441777073\n",
      "tensor(-95.1662, device='cuda:0', grad_fn=<NegBackward0>) [tensor(-47.5191, device='cuda:0', grad_fn=<NegBackward0>), tensor(-47.2052, device='cuda:0', grad_fn=<NegBackward0>), tensor(-0.5556, device='cuda:0', grad_fn=<AddBackward0>)]\n",
      "tensor(-95.2252, device='cuda:0', grad_fn=<NegBackward0>) [tensor(-47.5191, device='cuda:0', grad_fn=<NegBackward0>), tensor(-47.2334, device='cuda:0', grad_fn=<NegBackward0>), tensor(-0.6043, device='cuda:0', grad_fn=<AddBackward0>)]\n",
      "0.2103595490987828\n",
      "tensor(-94.9364, device='cuda:0', grad_fn=<NegBackward0>) [tensor(-47.4228, device='cuda:0', grad_fn=<NegBackward0>), tensor(-47.0737, device='cuda:0', grad_fn=<NegBackward0>), tensor(-0.5525, device='cuda:0', grad_fn=<AddBackward0>)]\n",
      "tensor(-94.9469, device='cuda:0', grad_fn=<NegBackward0>) [tensor(-47.4228, device='cuda:0', grad_fn=<NegBackward0>), tensor(-47.0743, device='cuda:0', grad_fn=<NegBackward0>), tensor(-0.5681, device='cuda:0', grad_fn=<AddBackward0>)]\n",
      "0.2514965617322646\n",
      "tensor(-95.2996, device='cuda:0', grad_fn=<NegBackward0>) [tensor(-47.5802, device='cuda:0', grad_fn=<NegBackward0>), tensor(-47.1284, device='cuda:0', grad_fn=<NegBackward0>), tensor(-0.8058, device='cuda:0', grad_fn=<AddBackward0>)]\n",
      "tensor(-95.2630, device='cuda:0', grad_fn=<NegBackward0>) [tensor(-47.5802, device='cuda:0', grad_fn=<NegBackward0>), tensor(-47.1079, device='cuda:0', grad_fn=<NegBackward0>), tensor(-0.7771, device='cuda:0', grad_fn=<AddBackward0>)]\n",
      "0.23558404394206545\n",
      "tensor(-95.3306, device='cuda:0', grad_fn=<NegBackward0>) [tensor(-47.5805, device='cuda:0', grad_fn=<NegBackward0>), tensor(-47.2158, device='cuda:0', grad_fn=<NegBackward0>), tensor(-0.7062, device='cuda:0', grad_fn=<AddBackward0>)]\n",
      "tensor(-95.2643, device='cuda:0', grad_fn=<NegBackward0>) [tensor(-47.5805, device='cuda:0', grad_fn=<NegBackward0>), tensor(-47.1342, device='cuda:0', grad_fn=<NegBackward0>), tensor(-0.7325, device='cuda:0', grad_fn=<AddBackward0>)]\n"
     ]
    },
    {
     "name": "stdout",
     "output_type": "stream",
     "text": [
      "0.22966719780375597\n",
      "tensor(-95.2388, device='cuda:0', grad_fn=<NegBackward0>) [tensor(-47.5481, device='cuda:0', grad_fn=<NegBackward0>), tensor(-47.1809, device='cuda:0', grad_fn=<NegBackward0>), tensor(-0.6648, device='cuda:0', grad_fn=<AddBackward0>)]\n",
      "tensor(-95.1501, device='cuda:0', grad_fn=<NegBackward0>) [tensor(-47.5481, device='cuda:0', grad_fn=<NegBackward0>), tensor(-47.0739, device='cuda:0', grad_fn=<NegBackward0>), tensor(-0.6957, device='cuda:0', grad_fn=<AddBackward0>)]\n",
      "0.2164547731466486\n",
      "tensor(-95.4042, device='cuda:0', grad_fn=<NegBackward0>) [tensor(-47.6225, device='cuda:0', grad_fn=<NegBackward0>), tensor(-47.2960, device='cuda:0', grad_fn=<NegBackward0>), tensor(-0.6255, device='cuda:0', grad_fn=<AddBackward0>)]\n",
      "tensor(-95.4125, device='cuda:0', grad_fn=<NegBackward0>) [tensor(-47.6225, device='cuda:0', grad_fn=<NegBackward0>), tensor(-47.2980, device='cuda:0', grad_fn=<NegBackward0>), tensor(-0.6357, device='cuda:0', grad_fn=<AddBackward0>)]\n",
      "0.24634949381121887\n",
      "tensor(-95.2238, device='cuda:0', grad_fn=<NegBackward0>) [tensor(-47.5465, device='cuda:0', grad_fn=<NegBackward0>), tensor(-47.1053, device='cuda:0', grad_fn=<NegBackward0>), tensor(-0.7717, device='cuda:0', grad_fn=<AddBackward0>)]\n",
      "tensor(-95.1735, device='cuda:0', grad_fn=<NegBackward0>) [tensor(-47.5465, device='cuda:0', grad_fn=<NegBackward0>), tensor(-47.0688, device='cuda:0', grad_fn=<NegBackward0>), tensor(-0.7475, device='cuda:0', grad_fn=<AddBackward0>)]\n",
      "0.25477465134332894\n",
      "tensor(-95.1640, device='cuda:0', grad_fn=<NegBackward0>) [tensor(-47.5439, device='cuda:0', grad_fn=<NegBackward0>), tensor(-46.9750, device='cuda:0', grad_fn=<NegBackward0>), tensor(-0.9062, device='cuda:0', grad_fn=<AddBackward0>)]\n",
      "tensor(-95.1218, device='cuda:0', grad_fn=<NegBackward0>) [tensor(-47.5439, device='cuda:0', grad_fn=<NegBackward0>), tensor(-46.9341, device='cuda:0', grad_fn=<NegBackward0>), tensor(-0.9037, device='cuda:0', grad_fn=<AddBackward0>)]\n",
      "0.23083564906394027\n",
      "tensor(-95.2165, device='cuda:0', grad_fn=<NegBackward0>) [tensor(-47.5664, device='cuda:0', grad_fn=<NegBackward0>), tensor(-47.1350, device='cuda:0', grad_fn=<NegBackward0>), tensor(-0.6739, device='cuda:0', grad_fn=<AddBackward0>)]\n",
      "tensor(-95.1885, device='cuda:0', grad_fn=<NegBackward0>) [tensor(-47.5664, device='cuda:0', grad_fn=<NegBackward0>), tensor(-47.0561, device='cuda:0', grad_fn=<NegBackward0>), tensor(-0.7614, device='cuda:0', grad_fn=<AddBackward0>)]\n",
      "0.22333471473588445\n",
      "tensor(-94.9877, device='cuda:0', grad_fn=<NegBackward0>) [tensor(-47.4133, device='cuda:0', grad_fn=<NegBackward0>), tensor(-47.0704, device='cuda:0', grad_fn=<NegBackward0>), tensor(-0.6553, device='cuda:0', grad_fn=<AddBackward0>)]\n",
      "tensor(-94.9701, device='cuda:0', grad_fn=<NegBackward0>) [tensor(-47.4133, device='cuda:0', grad_fn=<NegBackward0>), tensor(-47.0607, device='cuda:0', grad_fn=<NegBackward0>), tensor(-0.6422, device='cuda:0', grad_fn=<AddBackward0>)]\n",
      "0.23269663548327058\n",
      "tensor(-95.4319, device='cuda:0', grad_fn=<NegBackward0>) [tensor(-47.6637, device='cuda:0', grad_fn=<NegBackward0>), tensor(-47.2443, device='cuda:0', grad_fn=<NegBackward0>), tensor(-0.6886, device='cuda:0', grad_fn=<AddBackward0>)]\n",
      "tensor(-95.4324, device='cuda:0', grad_fn=<NegBackward0>) [tensor(-47.6637, device='cuda:0', grad_fn=<NegBackward0>), tensor(-47.2301, device='cuda:0', grad_fn=<NegBackward0>), tensor(-0.7134, device='cuda:0', grad_fn=<AddBackward0>)]\n",
      "0.22992292254911587\n",
      "tensor(-95.2907, device='cuda:0', grad_fn=<NegBackward0>) [tensor(-47.5914, device='cuda:0', grad_fn=<NegBackward0>), tensor(-47.1798, device='cuda:0', grad_fn=<NegBackward0>), tensor(-0.6813, device='cuda:0', grad_fn=<AddBackward0>)]\n",
      "tensor(-95.2808, device='cuda:0', grad_fn=<NegBackward0>) [tensor(-47.5914, device='cuda:0', grad_fn=<NegBackward0>), tensor(-47.2074, device='cuda:0', grad_fn=<NegBackward0>), tensor(-0.6194, device='cuda:0', grad_fn=<AddBackward0>)]\n",
      "0.23000689051624826\n",
      "tensor(-95.5064, device='cuda:0', grad_fn=<NegBackward0>) [tensor(-47.6805, device='cuda:0', grad_fn=<NegBackward0>), tensor(-47.2885, device='cuda:0', grad_fn=<NegBackward0>), tensor(-0.7115, device='cuda:0', grad_fn=<AddBackward0>)]\n",
      "tensor(-95.4615, device='cuda:0', grad_fn=<NegBackward0>) [tensor(-47.6805, device='cuda:0', grad_fn=<NegBackward0>), tensor(-47.2542, device='cuda:0', grad_fn=<NegBackward0>), tensor(-0.6935, device='cuda:0', grad_fn=<AddBackward0>)]\n",
      "0.2684394539478003\n",
      "tensor(-95.4435, device='cuda:0', grad_fn=<NegBackward0>) [tensor(-47.6704, device='cuda:0', grad_fn=<NegBackward0>), tensor(-47.1425, device='cuda:0', grad_fn=<NegBackward0>), tensor(-0.8788, device='cuda:0', grad_fn=<AddBackward0>)]\n",
      "tensor(-95.5162, device='cuda:0', grad_fn=<NegBackward0>) [tensor(-47.6704, device='cuda:0', grad_fn=<NegBackward0>), tensor(-47.1341, device='cuda:0', grad_fn=<NegBackward0>), tensor(-1.0374, device='cuda:0', grad_fn=<AddBackward0>)]\n",
      "0.23961777531725245\n",
      "tensor(-95.2970, device='cuda:0', grad_fn=<NegBackward0>) [tensor(-47.5908, device='cuda:0', grad_fn=<NegBackward0>), tensor(-47.1464, device='cuda:0', grad_fn=<NegBackward0>), tensor(-0.7503, device='cuda:0', grad_fn=<AddBackward0>)]\n",
      "tensor(-95.3146, device='cuda:0', grad_fn=<NegBackward0>) [tensor(-47.5908, device='cuda:0', grad_fn=<NegBackward0>), tensor(-47.1430, device='cuda:0', grad_fn=<NegBackward0>), tensor(-0.7875, device='cuda:0', grad_fn=<AddBackward0>)]\n",
      "0.2673803152571268\n",
      "tensor(-95.4217, device='cuda:0', grad_fn=<NegBackward0>) [tensor(-47.6460, device='cuda:0', grad_fn=<NegBackward0>), tensor(-47.1603, device='cuda:0', grad_fn=<NegBackward0>), tensor(-0.8505, device='cuda:0', grad_fn=<AddBackward0>)]\n",
      "tensor(-95.4288, device='cuda:0', grad_fn=<NegBackward0>) [tensor(-47.6460, device='cuda:0', grad_fn=<NegBackward0>), tensor(-47.1190, device='cuda:0', grad_fn=<NegBackward0>), tensor(-0.9423, device='cuda:0', grad_fn=<AddBackward0>)]\n",
      "0.2644437743780123\n",
      "tensor(-95.0133, device='cuda:0', grad_fn=<NegBackward0>) [tensor(-47.4541, device='cuda:0', grad_fn=<NegBackward0>), tensor(-46.9151, device='cuda:0', grad_fn=<NegBackward0>), tensor(-0.9042, device='cuda:0', grad_fn=<AddBackward0>)]\n",
      "tensor(-95.0126, device='cuda:0', grad_fn=<NegBackward0>) [tensor(-47.4541, device='cuda:0', grad_fn=<NegBackward0>), tensor(-46.9231, device='cuda:0', grad_fn=<NegBackward0>), tensor(-0.8877, device='cuda:0', grad_fn=<AddBackward0>)]\n",
      "0.24406953586301822\n",
      "tensor(-95.0527, device='cuda:0', grad_fn=<NegBackward0>) [tensor(-47.5199, device='cuda:0', grad_fn=<NegBackward0>), tensor(-46.9266, device='cuda:0', grad_fn=<NegBackward0>), tensor(-0.8335, device='cuda:0', grad_fn=<AddBackward0>)]\n",
      "tensor(-95.0692, device='cuda:0', grad_fn=<NegBackward0>) [tensor(-47.5199, device='cuda:0', grad_fn=<NegBackward0>), tensor(-46.9849, device='cuda:0', grad_fn=<NegBackward0>), tensor(-0.7584, device='cuda:0', grad_fn=<AddBackward0>)]\n",
      "0.2247679295066423\n",
      "tensor(-95.1756, device='cuda:0', grad_fn=<NegBackward0>) [tensor(-47.5159, device='cuda:0', grad_fn=<NegBackward0>), tensor(-47.1628, device='cuda:0', grad_fn=<NegBackward0>), tensor(-0.6437, device='cuda:0', grad_fn=<AddBackward0>)]\n",
      "tensor(-95.0866, device='cuda:0', grad_fn=<NegBackward0>) [tensor(-47.5159, device='cuda:0', grad_fn=<NegBackward0>), tensor(-47.0737, device='cuda:0', grad_fn=<NegBackward0>), tensor(-0.6437, device='cuda:0', grad_fn=<AddBackward0>)]\n",
      "0.25451522591319287\n",
      "tensor(-95.0111, device='cuda:0', grad_fn=<NegBackward0>) [tensor(-47.4739, device='cuda:0', grad_fn=<NegBackward0>), tensor(-46.9367, device='cuda:0', grad_fn=<NegBackward0>), tensor(-0.8231, device='cuda:0', grad_fn=<AddBackward0>)]\n",
      "tensor(-95.1316, device='cuda:0', grad_fn=<NegBackward0>) [tensor(-47.4739, device='cuda:0', grad_fn=<NegBackward0>), tensor(-47.0798, device='cuda:0', grad_fn=<NegBackward0>), tensor(-0.7823, device='cuda:0', grad_fn=<AddBackward0>)]\n",
      "0.23909710386122549\n",
      "tensor(-95.3739, device='cuda:0', grad_fn=<NegBackward0>) [tensor(-47.6260, device='cuda:0', grad_fn=<NegBackward0>), tensor(-47.2318, device='cuda:0', grad_fn=<NegBackward0>), tensor(-0.6754, device='cuda:0', grad_fn=<AddBackward0>)]\n",
      "tensor(-95.3970, device='cuda:0', grad_fn=<NegBackward0>) [tensor(-47.6260, device='cuda:0', grad_fn=<NegBackward0>), tensor(-47.2231, device='cuda:0', grad_fn=<NegBackward0>), tensor(-0.7296, device='cuda:0', grad_fn=<AddBackward0>)]\n"
     ]
    },
    {
     "name": "stdout",
     "output_type": "stream",
     "text": [
      "0.24963447344217252\n",
      "tensor(-95.2809, device='cuda:0', grad_fn=<NegBackward0>) [tensor(-47.5675, device='cuda:0', grad_fn=<NegBackward0>), tensor(-47.1612, device='cuda:0', grad_fn=<NegBackward0>), tensor(-0.7370, device='cuda:0', grad_fn=<AddBackward0>)]\n",
      "tensor(-95.2935, device='cuda:0', grad_fn=<NegBackward0>) [tensor(-47.5675, device='cuda:0', grad_fn=<NegBackward0>), tensor(-47.1260, device='cuda:0', grad_fn=<NegBackward0>), tensor(-0.8221, device='cuda:0', grad_fn=<AddBackward0>)]\n",
      "0.25971396865252816\n",
      "tensor(-95.4175, device='cuda:0', grad_fn=<NegBackward0>) [tensor(-47.6772, device='cuda:0', grad_fn=<NegBackward0>), tensor(-47.1182, device='cuda:0', grad_fn=<NegBackward0>), tensor(-0.8630, device='cuda:0', grad_fn=<AddBackward0>)]\n",
      "tensor(-95.4697, device='cuda:0', grad_fn=<NegBackward0>) [tensor(-47.6772, device='cuda:0', grad_fn=<NegBackward0>), tensor(-47.1416, device='cuda:0', grad_fn=<NegBackward0>), tensor(-0.9174, device='cuda:0', grad_fn=<AddBackward0>)]\n",
      "0.2386542949138326\n",
      "tensor(-95.3980, device='cuda:0', grad_fn=<NegBackward0>) [tensor(-47.6010, device='cuda:0', grad_fn=<NegBackward0>), tensor(-47.2791, device='cuda:0', grad_fn=<NegBackward0>), tensor(-0.6784, device='cuda:0', grad_fn=<AddBackward0>)]\n",
      "tensor(-95.2704, device='cuda:0', grad_fn=<NegBackward0>) [tensor(-47.6010, device='cuda:0', grad_fn=<NegBackward0>), tensor(-47.1520, device='cuda:0', grad_fn=<NegBackward0>), tensor(-0.6777, device='cuda:0', grad_fn=<AddBackward0>)]\n",
      "0.21889087591678597\n",
      "tensor(-95.4660, device='cuda:0', grad_fn=<NegBackward0>) [tensor(-47.6744, device='cuda:0', grad_fn=<NegBackward0>), tensor(-47.2713, device='cuda:0', grad_fn=<NegBackward0>), tensor(-0.6827, device='cuda:0', grad_fn=<AddBackward0>)]\n",
      "tensor(-95.4505, device='cuda:0', grad_fn=<NegBackward0>) [tensor(-47.6744, device='cuda:0', grad_fn=<NegBackward0>), tensor(-47.2947, device='cuda:0', grad_fn=<NegBackward0>), tensor(-0.6183, device='cuda:0', grad_fn=<AddBackward0>)]\n",
      "0.2431801492470901\n",
      "tensor(-95.4334, device='cuda:0', grad_fn=<NegBackward0>) [tensor(-47.6696, device='cuda:0', grad_fn=<NegBackward0>), tensor(-47.1855, device='cuda:0', grad_fn=<NegBackward0>), tensor(-0.7830, device='cuda:0', grad_fn=<AddBackward0>)]\n",
      "tensor(-95.4580, device='cuda:0', grad_fn=<NegBackward0>) [tensor(-47.6696, device='cuda:0', grad_fn=<NegBackward0>), tensor(-47.2401, device='cuda:0', grad_fn=<NegBackward0>), tensor(-0.7303, device='cuda:0', grad_fn=<AddBackward0>)]\n",
      "0.23907648301580312\n",
      "tensor(-95.6906, device='cuda:0', grad_fn=<NegBackward0>) [tensor(-47.7329, device='cuda:0', grad_fn=<NegBackward0>), tensor(-47.4147, device='cuda:0', grad_fn=<NegBackward0>), tensor(-0.7210, device='cuda:0', grad_fn=<AddBackward0>)]\n",
      "tensor(-95.4426, device='cuda:0', grad_fn=<NegBackward0>) [tensor(-47.7329, device='cuda:0', grad_fn=<NegBackward0>), tensor(-47.1232, device='cuda:0', grad_fn=<NegBackward0>), tensor(-0.7977, device='cuda:0', grad_fn=<AddBackward0>)]\n",
      "0.2047384917938074\n",
      "tensor(-95.4132, device='cuda:0', grad_fn=<NegBackward0>) [tensor(-47.6789, device='cuda:0', grad_fn=<NegBackward0>), tensor(-47.2583, device='cuda:0', grad_fn=<NegBackward0>), tensor(-0.6096, device='cuda:0', grad_fn=<AddBackward0>)]\n",
      "tensor(-95.5186, device='cuda:0', grad_fn=<NegBackward0>) [tensor(-47.6789, device='cuda:0', grad_fn=<NegBackward0>), tensor(-47.3689, device='cuda:0', grad_fn=<NegBackward0>), tensor(-0.6013, device='cuda:0', grad_fn=<AddBackward0>)]\n",
      "0.23054418705709653\n",
      "tensor(-95.4173, device='cuda:0', grad_fn=<NegBackward0>) [tensor(-47.6590, device='cuda:0', grad_fn=<NegBackward0>), tensor(-47.2708, device='cuda:0', grad_fn=<NegBackward0>), tensor(-0.6282, device='cuda:0', grad_fn=<AddBackward0>)]\n",
      "tensor(-95.4866, device='cuda:0', grad_fn=<NegBackward0>) [tensor(-47.6590, device='cuda:0', grad_fn=<NegBackward0>), tensor(-47.3176, device='cuda:0', grad_fn=<NegBackward0>), tensor(-0.6652, device='cuda:0', grad_fn=<AddBackward0>)]\n",
      "0.2430474233545062\n",
      "tensor(-95.5782, device='cuda:0', grad_fn=<NegBackward0>) [tensor(-47.7548, device='cuda:0', grad_fn=<NegBackward0>), tensor(-47.2301, device='cuda:0', grad_fn=<NegBackward0>), tensor(-0.8100, device='cuda:0', grad_fn=<AddBackward0>)]\n",
      "tensor(-95.6092, device='cuda:0', grad_fn=<NegBackward0>) [tensor(-47.7548, device='cuda:0', grad_fn=<NegBackward0>), tensor(-47.3193, device='cuda:0', grad_fn=<NegBackward0>), tensor(-0.7077, device='cuda:0', grad_fn=<AddBackward0>)]\n",
      "0.2240520227511603\n",
      "tensor(-95.5061, device='cuda:0', grad_fn=<NegBackward0>) [tensor(-47.6961, device='cuda:0', grad_fn=<NegBackward0>), tensor(-47.3330, device='cuda:0', grad_fn=<NegBackward0>), tensor(-0.6112, device='cuda:0', grad_fn=<AddBackward0>)]\n",
      "tensor(-95.5127, device='cuda:0', grad_fn=<NegBackward0>) [tensor(-47.6961, device='cuda:0', grad_fn=<NegBackward0>), tensor(-47.3481, device='cuda:0', grad_fn=<NegBackward0>), tensor(-0.5976, device='cuda:0', grad_fn=<AddBackward0>)]\n",
      "0.2445985773070389\n",
      "tensor(-95.6371, device='cuda:0', grad_fn=<NegBackward0>) [tensor(-47.7720, device='cuda:0', grad_fn=<NegBackward0>), tensor(-47.3195, device='cuda:0', grad_fn=<NegBackward0>), tensor(-0.7256, device='cuda:0', grad_fn=<AddBackward0>)]\n",
      "tensor(-95.6802, device='cuda:0', grad_fn=<NegBackward0>) [tensor(-47.7720, device='cuda:0', grad_fn=<NegBackward0>), tensor(-47.3530, device='cuda:0', grad_fn=<NegBackward0>), tensor(-0.7423, device='cuda:0', grad_fn=<AddBackward0>)]\n",
      "0.2234820315370806\n",
      "tensor(-95.5603, device='cuda:0', grad_fn=<NegBackward0>) [tensor(-47.7568, device='cuda:0', grad_fn=<NegBackward0>), tensor(-47.3300, device='cuda:0', grad_fn=<NegBackward0>), tensor(-0.6058, device='cuda:0', grad_fn=<AddBackward0>)]\n",
      "tensor(-95.6512, device='cuda:0', grad_fn=<NegBackward0>) [tensor(-47.7568, device='cuda:0', grad_fn=<NegBackward0>), tensor(-47.4075, device='cuda:0', grad_fn=<NegBackward0>), tensor(-0.6273, device='cuda:0', grad_fn=<AddBackward0>)]\n",
      "0.2591757090326865\n",
      "tensor(-95.5413, device='cuda:0', grad_fn=<NegBackward0>) [tensor(-47.7273, device='cuda:0', grad_fn=<NegBackward0>), tensor(-47.1948, device='cuda:0', grad_fn=<NegBackward0>), tensor(-0.8575, device='cuda:0', grad_fn=<AddBackward0>)]\n",
      "tensor(-95.6073, device='cuda:0', grad_fn=<NegBackward0>) [tensor(-47.7273, device='cuda:0', grad_fn=<NegBackward0>), tensor(-47.2625, device='cuda:0', grad_fn=<NegBackward0>), tensor(-0.8543, device='cuda:0', grad_fn=<AddBackward0>)]\n",
      "0.2580289584267212\n",
      "tensor(-95.4413, device='cuda:0', grad_fn=<NegBackward0>) [tensor(-47.6346, device='cuda:0', grad_fn=<NegBackward0>), tensor(-47.2296, device='cuda:0', grad_fn=<NegBackward0>), tensor(-0.7808, device='cuda:0', grad_fn=<AddBackward0>)]\n",
      "tensor(-95.3264, device='cuda:0', grad_fn=<NegBackward0>) [tensor(-47.6346, device='cuda:0', grad_fn=<NegBackward0>), tensor(-47.0896, device='cuda:0', grad_fn=<NegBackward0>), tensor(-0.8260, device='cuda:0', grad_fn=<AddBackward0>)]\n",
      "0.24220391306544095\n",
      "tensor(-95.4165, device='cuda:0', grad_fn=<NegBackward0>) [tensor(-47.6435, device='cuda:0', grad_fn=<NegBackward0>), tensor(-47.2328, device='cuda:0', grad_fn=<NegBackward0>), tensor(-0.7164, device='cuda:0', grad_fn=<AddBackward0>)]\n",
      "tensor(-95.4573, device='cuda:0', grad_fn=<NegBackward0>) [tensor(-47.6435, device='cuda:0', grad_fn=<NegBackward0>), tensor(-47.2253, device='cuda:0', grad_fn=<NegBackward0>), tensor(-0.8015, device='cuda:0', grad_fn=<AddBackward0>)]\n",
      "0.22930987624087715\n",
      "tensor(-95.7996, device='cuda:0', grad_fn=<NegBackward0>) [tensor(-47.8271, device='cuda:0', grad_fn=<NegBackward0>), tensor(-47.5062, device='cuda:0', grad_fn=<NegBackward0>), tensor(-0.5940, device='cuda:0', grad_fn=<AddBackward0>)]\n",
      "tensor(-95.7433, device='cuda:0', grad_fn=<NegBackward0>) [tensor(-47.8271, device='cuda:0', grad_fn=<NegBackward0>), tensor(-47.4229, device='cuda:0', grad_fn=<NegBackward0>), tensor(-0.6377, device='cuda:0', grad_fn=<AddBackward0>)]\n",
      "0.23369834992310537\n",
      "tensor(-95.7816, device='cuda:0', grad_fn=<NegBackward0>) [tensor(-47.8173, device='cuda:0', grad_fn=<NegBackward0>), tensor(-47.4357, device='cuda:0', grad_fn=<NegBackward0>), tensor(-0.6964, device='cuda:0', grad_fn=<AddBackward0>)]\n",
      "tensor(-95.6812, device='cuda:0', grad_fn=<NegBackward0>) [tensor(-47.8173, device='cuda:0', grad_fn=<NegBackward0>), tensor(-47.2895, device='cuda:0', grad_fn=<NegBackward0>), tensor(-0.7760, device='cuda:0', grad_fn=<AddBackward0>)]\n"
     ]
    },
    {
     "name": "stdout",
     "output_type": "stream",
     "text": [
      "0.24484222597739225\n",
      "tensor(-95.4239, device='cuda:0', grad_fn=<NegBackward0>) [tensor(-47.6734, device='cuda:0', grad_fn=<NegBackward0>), tensor(-47.2113, device='cuda:0', grad_fn=<NegBackward0>), tensor(-0.7147, device='cuda:0', grad_fn=<AddBackward0>)]\n",
      "tensor(-95.3851, device='cuda:0', grad_fn=<NegBackward0>) [tensor(-47.6734, device='cuda:0', grad_fn=<NegBackward0>), tensor(-47.1363, device='cuda:0', grad_fn=<NegBackward0>), tensor(-0.7778, device='cuda:0', grad_fn=<AddBackward0>)]\n",
      "0.26053251269836064\n",
      "tensor(-95.5629, device='cuda:0', grad_fn=<NegBackward0>) [tensor(-47.7499, device='cuda:0', grad_fn=<NegBackward0>), tensor(-47.1668, device='cuda:0', grad_fn=<NegBackward0>), tensor(-0.9082, device='cuda:0', grad_fn=<AddBackward0>)]\n",
      "tensor(-95.6129, device='cuda:0', grad_fn=<NegBackward0>) [tensor(-47.7499, device='cuda:0', grad_fn=<NegBackward0>), tensor(-47.2618, device='cuda:0', grad_fn=<NegBackward0>), tensor(-0.8243, device='cuda:0', grad_fn=<AddBackward0>)]\n",
      "0.2301376846862292\n",
      "tensor(-95.8568, device='cuda:0', grad_fn=<NegBackward0>) [tensor(-47.8696, device='cuda:0', grad_fn=<NegBackward0>), tensor(-47.4766, device='cuda:0', grad_fn=<NegBackward0>), tensor(-0.6663, device='cuda:0', grad_fn=<AddBackward0>)]\n",
      "tensor(-95.8145, device='cuda:0', grad_fn=<NegBackward0>) [tensor(-47.8696, device='cuda:0', grad_fn=<NegBackward0>), tensor(-47.4509, device='cuda:0', grad_fn=<NegBackward0>), tensor(-0.6389, device='cuda:0', grad_fn=<AddBackward0>)]\n",
      "0.24375499378446872\n",
      "tensor(-95.8426, device='cuda:0', grad_fn=<NegBackward0>) [tensor(-47.8950, device='cuda:0', grad_fn=<NegBackward0>), tensor(-47.3833, device='cuda:0', grad_fn=<NegBackward0>), tensor(-0.7581, device='cuda:0', grad_fn=<AddBackward0>)]\n",
      "tensor(-95.9584, device='cuda:0', grad_fn=<NegBackward0>) [tensor(-47.8950, device='cuda:0', grad_fn=<NegBackward0>), tensor(-47.5014, device='cuda:0', grad_fn=<NegBackward0>), tensor(-0.7542, device='cuda:0', grad_fn=<AddBackward0>)]\n",
      "0.2291028426721194\n",
      "tensor(-96.0675, device='cuda:0', grad_fn=<NegBackward0>) [tensor(-47.9795, device='cuda:0', grad_fn=<NegBackward0>), tensor(-47.5934, device='cuda:0', grad_fn=<NegBackward0>), tensor(-0.6397, device='cuda:0', grad_fn=<AddBackward0>)]\n",
      "tensor(-96.0416, device='cuda:0', grad_fn=<NegBackward0>) [tensor(-47.9795, device='cuda:0', grad_fn=<NegBackward0>), tensor(-47.5773, device='cuda:0', grad_fn=<NegBackward0>), tensor(-0.6240, device='cuda:0', grad_fn=<AddBackward0>)]\n",
      "0.18007385133615206\n",
      "tensor(-95.7732, device='cuda:0', grad_fn=<NegBackward0>) [tensor(-47.8446, device='cuda:0', grad_fn=<NegBackward0>), tensor(-47.6118, device='cuda:0', grad_fn=<NegBackward0>), tensor(-0.3728, device='cuda:0', grad_fn=<AddBackward0>)]\n",
      "tensor(-95.7124, device='cuda:0', grad_fn=<NegBackward0>) [tensor(-47.8446, device='cuda:0', grad_fn=<NegBackward0>), tensor(-47.5173, device='cuda:0', grad_fn=<NegBackward0>), tensor(-0.4198, device='cuda:0', grad_fn=<AddBackward0>)]\n",
      "0.2540922103416432\n",
      "tensor(-95.6639, device='cuda:0', grad_fn=<NegBackward0>) [tensor(-47.8192, device='cuda:0', grad_fn=<NegBackward0>), tensor(-47.2593, device='cuda:0', grad_fn=<NegBackward0>), tensor(-0.7958, device='cuda:0', grad_fn=<AddBackward0>)]\n",
      "tensor(-95.7532, device='cuda:0', grad_fn=<NegBackward0>) [tensor(-47.8192, device='cuda:0', grad_fn=<NegBackward0>), tensor(-47.3763, device='cuda:0', grad_fn=<NegBackward0>), tensor(-0.7467, device='cuda:0', grad_fn=<AddBackward0>)]\n",
      "0.2397697424385573\n",
      "tensor(-96.1877, device='cuda:0', grad_fn=<NegBackward0>) [tensor(-48.0411, device='cuda:0', grad_fn=<NegBackward0>), tensor(-47.6022, device='cuda:0', grad_fn=<NegBackward0>), tensor(-0.7237, device='cuda:0', grad_fn=<AddBackward0>)]\n",
      "tensor(-96.1587, device='cuda:0', grad_fn=<NegBackward0>) [tensor(-48.0411, device='cuda:0', grad_fn=<NegBackward0>), tensor(-47.6107, device='cuda:0', grad_fn=<NegBackward0>), tensor(-0.6601, device='cuda:0', grad_fn=<AddBackward0>)]\n",
      "0.18713784688240087\n",
      "tensor(-95.8165, device='cuda:0', grad_fn=<NegBackward0>) [tensor(-47.9052, device='cuda:0', grad_fn=<NegBackward0>), tensor(-47.5176, device='cuda:0', grad_fn=<NegBackward0>), tensor(-0.4825, device='cuda:0', grad_fn=<AddBackward0>)]\n",
      "tensor(-95.9377, device='cuda:0', grad_fn=<NegBackward0>) [tensor(-47.9052, device='cuda:0', grad_fn=<NegBackward0>), tensor(-47.6573, device='cuda:0', grad_fn=<NegBackward0>), tensor(-0.4553, device='cuda:0', grad_fn=<AddBackward0>)]\n",
      "0.22240623722752595\n",
      "tensor(-96.1681, device='cuda:0', grad_fn=<NegBackward0>) [tensor(-48.0051, device='cuda:0', grad_fn=<NegBackward0>), tensor(-47.6672, device='cuda:0', grad_fn=<NegBackward0>), tensor(-0.6417, device='cuda:0', grad_fn=<AddBackward0>)]\n",
      "tensor(-96.1258, device='cuda:0', grad_fn=<NegBackward0>) [tensor(-48.0051, device='cuda:0', grad_fn=<NegBackward0>), tensor(-47.6162, device='cuda:0', grad_fn=<NegBackward0>), tensor(-0.6562, device='cuda:0', grad_fn=<AddBackward0>)]\n",
      "0.275414080063232\n",
      "tensor(-96.1189, device='cuda:0', grad_fn=<NegBackward0>) [tensor(-47.9487, device='cuda:0', grad_fn=<NegBackward0>), tensor(-47.5188, device='cuda:0', grad_fn=<NegBackward0>), tensor(-0.9181, device='cuda:0', grad_fn=<AddBackward0>)]\n",
      "tensor(-95.9467, device='cuda:0', grad_fn=<NegBackward0>) [tensor(-47.9487, device='cuda:0', grad_fn=<NegBackward0>), tensor(-47.3436, device='cuda:0', grad_fn=<NegBackward0>), tensor(-0.9240, device='cuda:0', grad_fn=<AddBackward0>)]\n",
      "0.23828442560374138\n",
      "tensor(-95.8666, device='cuda:0', grad_fn=<NegBackward0>) [tensor(-47.8957, device='cuda:0', grad_fn=<NegBackward0>), tensor(-47.4437, device='cuda:0', grad_fn=<NegBackward0>), tensor(-0.6942, device='cuda:0', grad_fn=<AddBackward0>)]\n",
      "tensor(-95.9159, device='cuda:0', grad_fn=<NegBackward0>) [tensor(-47.8957, device='cuda:0', grad_fn=<NegBackward0>), tensor(-47.4871, device='cuda:0', grad_fn=<NegBackward0>), tensor(-0.7042, device='cuda:0', grad_fn=<AddBackward0>)]\n",
      "0.25873930421682106\n",
      "tensor(-96.0124, device='cuda:0', grad_fn=<NegBackward0>) [tensor(-47.9391, device='cuda:0', grad_fn=<NegBackward0>), tensor(-47.4864, device='cuda:0', grad_fn=<NegBackward0>), tensor(-0.7983, device='cuda:0', grad_fn=<AddBackward0>)]\n",
      "tensor(-95.9459, device='cuda:0', grad_fn=<NegBackward0>) [tensor(-47.9391, device='cuda:0', grad_fn=<NegBackward0>), tensor(-47.4000, device='cuda:0', grad_fn=<NegBackward0>), tensor(-0.8345, device='cuda:0', grad_fn=<AddBackward0>)]\n",
      "0.2363320374822239\n",
      "tensor(-95.9474, device='cuda:0', grad_fn=<NegBackward0>) [tensor(-47.9226, device='cuda:0', grad_fn=<NegBackward0>), tensor(-47.5040, device='cuda:0', grad_fn=<NegBackward0>), tensor(-0.6834, device='cuda:0', grad_fn=<AddBackward0>)]\n",
      "tensor(-95.9704, device='cuda:0', grad_fn=<NegBackward0>) [tensor(-47.9226, device='cuda:0', grad_fn=<NegBackward0>), tensor(-47.5168, device='cuda:0', grad_fn=<NegBackward0>), tensor(-0.7005, device='cuda:0', grad_fn=<AddBackward0>)]\n",
      "0.24692234153968023\n",
      "tensor(-95.9814, device='cuda:0', grad_fn=<NegBackward0>) [tensor(-47.9554, device='cuda:0', grad_fn=<NegBackward0>), tensor(-47.4446, device='cuda:0', grad_fn=<NegBackward0>), tensor(-0.7887, device='cuda:0', grad_fn=<AddBackward0>)]\n",
      "tensor(-95.9229, device='cuda:0', grad_fn=<NegBackward0>) [tensor(-47.9554, device='cuda:0', grad_fn=<NegBackward0>), tensor(-47.3612, device='cuda:0', grad_fn=<NegBackward0>), tensor(-0.8338, device='cuda:0', grad_fn=<AddBackward0>)]\n",
      "0.2386529490528966\n",
      "tensor(-95.5051, device='cuda:0', grad_fn=<NegBackward0>) [tensor(-47.7660, device='cuda:0', grad_fn=<NegBackward0>), tensor(-47.1896, device='cuda:0', grad_fn=<NegBackward0>), tensor(-0.7323, device='cuda:0', grad_fn=<AddBackward0>)]\n",
      "tensor(-95.6817, device='cuda:0', grad_fn=<NegBackward0>) [tensor(-47.7660, device='cuda:0', grad_fn=<NegBackward0>), tensor(-47.3691, device='cuda:0', grad_fn=<NegBackward0>), tensor(-0.7274, device='cuda:0', grad_fn=<AddBackward0>)]\n",
      "0.2175260416678496\n",
      "tensor(-95.9448, device='cuda:0', grad_fn=<NegBackward0>) [tensor(-47.9451, device='cuda:0', grad_fn=<NegBackward0>), tensor(-47.5379, device='cuda:0', grad_fn=<NegBackward0>), tensor(-0.5869, device='cuda:0', grad_fn=<AddBackward0>)]\n",
      "tensor(-96.0118, device='cuda:0', grad_fn=<NegBackward0>) [tensor(-47.9451, device='cuda:0', grad_fn=<NegBackward0>), tensor(-47.6237, device='cuda:0', grad_fn=<NegBackward0>), tensor(-0.5574, device='cuda:0', grad_fn=<AddBackward0>)]\n"
     ]
    },
    {
     "name": "stdout",
     "output_type": "stream",
     "text": [
      "0.2515173817299767\n",
      "tensor(-95.9678, device='cuda:0', grad_fn=<NegBackward0>) [tensor(-47.9442, device='cuda:0', grad_fn=<NegBackward0>), tensor(-47.4714, device='cuda:0', grad_fn=<NegBackward0>), tensor(-0.7371, device='cuda:0', grad_fn=<AddBackward0>)]\n",
      "tensor(-95.9833, device='cuda:0', grad_fn=<NegBackward0>) [tensor(-47.9442, device='cuda:0', grad_fn=<NegBackward0>), tensor(-47.4966, device='cuda:0', grad_fn=<NegBackward0>), tensor(-0.7204, device='cuda:0', grad_fn=<AddBackward0>)]\n",
      "0.2708516934948494\n",
      "tensor(-95.9851, device='cuda:0', grad_fn=<NegBackward0>) [tensor(-47.9737, device='cuda:0', grad_fn=<NegBackward0>), tensor(-47.3549, device='cuda:0', grad_fn=<NegBackward0>), tensor(-0.9279, device='cuda:0', grad_fn=<AddBackward0>)]\n",
      "tensor(-96.0187, device='cuda:0', grad_fn=<NegBackward0>) [tensor(-47.9737, device='cuda:0', grad_fn=<NegBackward0>), tensor(-47.3846, device='cuda:0', grad_fn=<NegBackward0>), tensor(-0.9354, device='cuda:0', grad_fn=<AddBackward0>)]\n",
      "0.2564186407552599\n",
      "tensor(-96.0165, device='cuda:0', grad_fn=<NegBackward0>) [tensor(-47.9345, device='cuda:0', grad_fn=<NegBackward0>), tensor(-47.4962, device='cuda:0', grad_fn=<NegBackward0>), tensor(-0.7965, device='cuda:0', grad_fn=<AddBackward0>)]\n",
      "tensor(-95.9648, device='cuda:0', grad_fn=<NegBackward0>) [tensor(-47.9345, device='cuda:0', grad_fn=<NegBackward0>), tensor(-47.4809, device='cuda:0', grad_fn=<NegBackward0>), tensor(-0.7322, device='cuda:0', grad_fn=<AddBackward0>)]\n",
      "0.23724664268529672\n",
      "tensor(-95.8527, device='cuda:0', grad_fn=<NegBackward0>) [tensor(-47.8867, device='cuda:0', grad_fn=<NegBackward0>), tensor(-47.4827, device='cuda:0', grad_fn=<NegBackward0>), tensor(-0.6213, device='cuda:0', grad_fn=<AddBackward0>)]\n",
      "tensor(-95.8944, device='cuda:0', grad_fn=<NegBackward0>) [tensor(-47.8867, device='cuda:0', grad_fn=<NegBackward0>), tensor(-47.4697, device='cuda:0', grad_fn=<NegBackward0>), tensor(-0.7126, device='cuda:0', grad_fn=<AddBackward0>)]\n",
      "0.20836873975297068\n",
      "tensor(-95.9920, device='cuda:0', grad_fn=<NegBackward0>) [tensor(-47.9423, device='cuda:0', grad_fn=<NegBackward0>), tensor(-47.6398, device='cuda:0', grad_fn=<NegBackward0>), tensor(-0.5066, device='cuda:0', grad_fn=<AddBackward0>)]\n",
      "tensor(-95.9947, device='cuda:0', grad_fn=<NegBackward0>) [tensor(-47.9423, device='cuda:0', grad_fn=<NegBackward0>), tensor(-47.5927, device='cuda:0', grad_fn=<NegBackward0>), tensor(-0.5835, device='cuda:0', grad_fn=<AddBackward0>)]\n",
      "0.2558793082920567\n",
      "tensor(-95.9920, device='cuda:0', grad_fn=<NegBackward0>) [tensor(-47.9220, device='cuda:0', grad_fn=<NegBackward0>), tensor(-47.5073, device='cuda:0', grad_fn=<NegBackward0>), tensor(-0.7553, device='cuda:0', grad_fn=<AddBackward0>)]\n",
      "tensor(-95.9900, device='cuda:0', grad_fn=<NegBackward0>) [tensor(-47.9220, device='cuda:0', grad_fn=<NegBackward0>), tensor(-47.5182, device='cuda:0', grad_fn=<NegBackward0>), tensor(-0.7330, device='cuda:0', grad_fn=<AddBackward0>)]\n",
      "0.2493504146511701\n",
      "tensor(-96.2382, device='cuda:0', grad_fn=<NegBackward0>) [tensor(-48.0502, device='cuda:0', grad_fn=<NegBackward0>), tensor(-47.6282, device='cuda:0', grad_fn=<NegBackward0>), tensor(-0.7502, device='cuda:0', grad_fn=<AddBackward0>)]\n",
      "tensor(-96.2245, device='cuda:0', grad_fn=<NegBackward0>) [tensor(-48.0502, device='cuda:0', grad_fn=<NegBackward0>), tensor(-47.5905, device='cuda:0', grad_fn=<NegBackward0>), tensor(-0.7927, device='cuda:0', grad_fn=<AddBackward0>)]\n",
      "0.2379876809918871\n",
      "tensor(-96.1171, device='cuda:0', grad_fn=<NegBackward0>) [tensor(-48.0015, device='cuda:0', grad_fn=<NegBackward0>), tensor(-47.5655, device='cuda:0', grad_fn=<NegBackward0>), tensor(-0.7333, device='cuda:0', grad_fn=<AddBackward0>)]\n",
      "tensor(-96.1502, device='cuda:0', grad_fn=<NegBackward0>) [tensor(-48.0015, device='cuda:0', grad_fn=<NegBackward0>), tensor(-47.6185, device='cuda:0', grad_fn=<NegBackward0>), tensor(-0.6993, device='cuda:0', grad_fn=<AddBackward0>)]\n",
      "0.2092583953900305\n",
      "tensor(-96.2080, device='cuda:0', grad_fn=<NegBackward0>) [tensor(-48.0521, device='cuda:0', grad_fn=<NegBackward0>), tensor(-47.7404, device='cuda:0', grad_fn=<NegBackward0>), tensor(-0.5151, device='cuda:0', grad_fn=<AddBackward0>)]\n",
      "tensor(-96.1588, device='cuda:0', grad_fn=<NegBackward0>) [tensor(-48.0521, device='cuda:0', grad_fn=<NegBackward0>), tensor(-47.6886, device='cuda:0', grad_fn=<NegBackward0>), tensor(-0.5191, device='cuda:0', grad_fn=<AddBackward0>)]\n",
      "0.20696020715218685\n",
      "tensor(-96.3677, device='cuda:0', grad_fn=<NegBackward0>) [tensor(-48.1316, device='cuda:0', grad_fn=<NegBackward0>), tensor(-47.8249, device='cuda:0', grad_fn=<NegBackward0>), tensor(-0.5086, device='cuda:0', grad_fn=<AddBackward0>)]\n",
      "tensor(-96.3684, device='cuda:0', grad_fn=<NegBackward0>) [tensor(-48.1316, device='cuda:0', grad_fn=<NegBackward0>), tensor(-47.8041, device='cuda:0', grad_fn=<NegBackward0>), tensor(-0.5414, device='cuda:0', grad_fn=<AddBackward0>)]\n",
      "0.23513489671579713\n",
      "tensor(-96.2404, device='cuda:0', grad_fn=<NegBackward0>) [tensor(-48.0865, device='cuda:0', grad_fn=<NegBackward0>), tensor(-47.6521, device='cuda:0', grad_fn=<NegBackward0>), tensor(-0.6517, device='cuda:0', grad_fn=<AddBackward0>)]\n",
      "tensor(-96.2664, device='cuda:0', grad_fn=<NegBackward0>) [tensor(-48.0865, device='cuda:0', grad_fn=<NegBackward0>), tensor(-47.6909, device='cuda:0', grad_fn=<NegBackward0>), tensor(-0.6306, device='cuda:0', grad_fn=<AddBackward0>)]\n",
      "0.23352149161551078\n",
      "tensor(-96.3072, device='cuda:0', grad_fn=<NegBackward0>) [tensor(-48.1177, device='cuda:0', grad_fn=<NegBackward0>), tensor(-47.6910, device='cuda:0', grad_fn=<NegBackward0>), tensor(-0.6462, device='cuda:0', grad_fn=<AddBackward0>)]\n",
      "tensor(-96.3306, device='cuda:0', grad_fn=<NegBackward0>) [tensor(-48.1177, device='cuda:0', grad_fn=<NegBackward0>), tensor(-47.7410, device='cuda:0', grad_fn=<NegBackward0>), tensor(-0.6031, device='cuda:0', grad_fn=<AddBackward0>)]\n",
      "0.24073334118777795\n",
      "tensor(-96.4674, device='cuda:0', grad_fn=<NegBackward0>) [tensor(-48.1542, device='cuda:0', grad_fn=<NegBackward0>), tensor(-47.7925, device='cuda:0', grad_fn=<NegBackward0>), tensor(-0.6831, device='cuda:0', grad_fn=<AddBackward0>)]\n",
      "tensor(-96.4551, device='cuda:0', grad_fn=<NegBackward0>) [tensor(-48.1542, device='cuda:0', grad_fn=<NegBackward0>), tensor(-47.7619, device='cuda:0', grad_fn=<NegBackward0>), tensor(-0.7143, device='cuda:0', grad_fn=<AddBackward0>)]\n",
      "0.22898503639147272\n",
      "tensor(-96.2643, device='cuda:0', grad_fn=<NegBackward0>) [tensor(-48.1130, device='cuda:0', grad_fn=<NegBackward0>), tensor(-47.6894, device='cuda:0', grad_fn=<NegBackward0>), tensor(-0.5871, device='cuda:0', grad_fn=<AddBackward0>)]\n",
      "tensor(-96.2384, device='cuda:0', grad_fn=<NegBackward0>) [tensor(-48.1130, device='cuda:0', grad_fn=<NegBackward0>), tensor(-47.6011, device='cuda:0', grad_fn=<NegBackward0>), tensor(-0.6894, device='cuda:0', grad_fn=<AddBackward0>)]\n",
      "0.2333750602670002\n",
      "tensor(-96.0336, device='cuda:0', grad_fn=<NegBackward0>) [tensor(-47.9367, device='cuda:0', grad_fn=<NegBackward0>), tensor(-47.5854, device='cuda:0', grad_fn=<NegBackward0>), tensor(-0.6677, device='cuda:0', grad_fn=<AddBackward0>)]\n",
      "tensor(-95.9174, device='cuda:0', grad_fn=<NegBackward0>) [tensor(-47.9367, device='cuda:0', grad_fn=<NegBackward0>), tensor(-47.4781, device='cuda:0', grad_fn=<NegBackward0>), tensor(-0.6530, device='cuda:0', grad_fn=<AddBackward0>)]\n",
      "0.2603792945218263\n",
      "tensor(-96.2452, device='cuda:0', grad_fn=<NegBackward0>) [tensor(-48.0641, device='cuda:0', grad_fn=<NegBackward0>), tensor(-47.5689, device='cuda:0', grad_fn=<NegBackward0>), tensor(-0.8445, device='cuda:0', grad_fn=<AddBackward0>)]\n",
      "tensor(-96.1225, device='cuda:0', grad_fn=<NegBackward0>) [tensor(-48.0641, device='cuda:0', grad_fn=<NegBackward0>), tensor(-47.4396, device='cuda:0', grad_fn=<NegBackward0>), tensor(-0.8566, device='cuda:0', grad_fn=<AddBackward0>)]\n",
      "0.23199073223406738\n",
      "tensor(-96.3658, device='cuda:0', grad_fn=<NegBackward0>) [tensor(-48.1306, device='cuda:0', grad_fn=<NegBackward0>), tensor(-47.7051, device='cuda:0', grad_fn=<NegBackward0>), tensor(-0.6992, device='cuda:0', grad_fn=<AddBackward0>)]\n",
      "tensor(-96.3592, device='cuda:0', grad_fn=<NegBackward0>) [tensor(-48.1306, device='cuda:0', grad_fn=<NegBackward0>), tensor(-47.6709, device='cuda:0', grad_fn=<NegBackward0>), tensor(-0.7467, device='cuda:0', grad_fn=<AddBackward0>)]\n"
     ]
    },
    {
     "name": "stdout",
     "output_type": "stream",
     "text": [
      "0.2390462768962657\n",
      "tensor(-96.1643, device='cuda:0', grad_fn=<NegBackward0>) [tensor(-48.0635, device='cuda:0', grad_fn=<NegBackward0>), tensor(-47.5411, device='cuda:0', grad_fn=<NegBackward0>), tensor(-0.7501, device='cuda:0', grad_fn=<AddBackward0>)]\n",
      "tensor(-96.1780, device='cuda:0', grad_fn=<NegBackward0>) [tensor(-48.0635, device='cuda:0', grad_fn=<NegBackward0>), tensor(-47.6144, device='cuda:0', grad_fn=<NegBackward0>), tensor(-0.6489, device='cuda:0', grad_fn=<AddBackward0>)]\n",
      "0.2421944968575352\n",
      "tensor(-96.3782, device='cuda:0', grad_fn=<NegBackward0>) [tensor(-48.1538, device='cuda:0', grad_fn=<NegBackward0>), tensor(-47.6710, device='cuda:0', grad_fn=<NegBackward0>), tensor(-0.7391, device='cuda:0', grad_fn=<AddBackward0>)]\n",
      "tensor(-96.4756, device='cuda:0', grad_fn=<NegBackward0>) [tensor(-48.1538, device='cuda:0', grad_fn=<NegBackward0>), tensor(-47.8279, device='cuda:0', grad_fn=<NegBackward0>), tensor(-0.6387, device='cuda:0', grad_fn=<AddBackward0>)]\n",
      "0.212047009493638\n",
      "tensor(-96.2588, device='cuda:0', grad_fn=<NegBackward0>) [tensor(-48.0680, device='cuda:0', grad_fn=<NegBackward0>), tensor(-47.7450, device='cuda:0', grad_fn=<NegBackward0>), tensor(-0.5617, device='cuda:0', grad_fn=<AddBackward0>)]\n",
      "tensor(-96.2566, device='cuda:0', grad_fn=<NegBackward0>) [tensor(-48.0680, device='cuda:0', grad_fn=<NegBackward0>), tensor(-47.7868, device='cuda:0', grad_fn=<NegBackward0>), tensor(-0.4945, device='cuda:0', grad_fn=<AddBackward0>)]\n",
      "0.25433353634184885\n",
      "tensor(-96.5719, device='cuda:0', grad_fn=<NegBackward0>) [tensor(-48.2421, device='cuda:0', grad_fn=<NegBackward0>), tensor(-47.7783, device='cuda:0', grad_fn=<NegBackward0>), tensor(-0.7361, device='cuda:0', grad_fn=<AddBackward0>)]\n",
      "tensor(-96.6263, device='cuda:0', grad_fn=<NegBackward0>) [tensor(-48.2421, device='cuda:0', grad_fn=<NegBackward0>), tensor(-47.8485, device='cuda:0', grad_fn=<NegBackward0>), tensor(-0.7087, device='cuda:0', grad_fn=<AddBackward0>)]\n",
      "0.24319094222673035\n",
      "tensor(-96.4549, device='cuda:0', grad_fn=<NegBackward0>) [tensor(-48.1815, device='cuda:0', grad_fn=<NegBackward0>), tensor(-47.7614, device='cuda:0', grad_fn=<NegBackward0>), tensor(-0.6686, device='cuda:0', grad_fn=<AddBackward0>)]\n",
      "tensor(-96.4327, device='cuda:0', grad_fn=<NegBackward0>) [tensor(-48.1815, device='cuda:0', grad_fn=<NegBackward0>), tensor(-47.7220, device='cuda:0', grad_fn=<NegBackward0>), tensor(-0.6975, device='cuda:0', grad_fn=<AddBackward0>)]\n",
      "0.2413823978584491\n",
      "tensor(-96.4163, device='cuda:0', grad_fn=<NegBackward0>) [tensor(-48.1494, device='cuda:0', grad_fn=<NegBackward0>), tensor(-47.7357, device='cuda:0', grad_fn=<NegBackward0>), tensor(-0.7009, device='cuda:0', grad_fn=<AddBackward0>)]\n",
      "tensor(-96.3787, device='cuda:0', grad_fn=<NegBackward0>) [tensor(-48.1494, device='cuda:0', grad_fn=<NegBackward0>), tensor(-47.7140, device='cuda:0', grad_fn=<NegBackward0>), tensor(-0.6741, device='cuda:0', grad_fn=<AddBackward0>)]\n",
      "0.24696030419720633\n",
      "tensor(-96.4590, device='cuda:0', grad_fn=<NegBackward0>) [tensor(-48.1581, device='cuda:0', grad_fn=<NegBackward0>), tensor(-47.7684, device='cuda:0', grad_fn=<NegBackward0>), tensor(-0.7031, device='cuda:0', grad_fn=<AddBackward0>)]\n",
      "tensor(-96.3482, device='cuda:0', grad_fn=<NegBackward0>) [tensor(-48.1581, device='cuda:0', grad_fn=<NegBackward0>), tensor(-47.6356, device='cuda:0', grad_fn=<NegBackward0>), tensor(-0.7410, device='cuda:0', grad_fn=<AddBackward0>)]\n",
      "0.21945318321458027\n",
      "tensor(-96.3332, device='cuda:0', grad_fn=<NegBackward0>) [tensor(-48.0866, device='cuda:0', grad_fn=<NegBackward0>), tensor(-47.7864, device='cuda:0', grad_fn=<NegBackward0>), tensor(-0.5844, device='cuda:0', grad_fn=<AddBackward0>)]\n",
      "tensor(-96.2845, device='cuda:0', grad_fn=<NegBackward0>) [tensor(-48.0866, device='cuda:0', grad_fn=<NegBackward0>), tensor(-47.7411, device='cuda:0', grad_fn=<NegBackward0>), tensor(-0.5791, device='cuda:0', grad_fn=<AddBackward0>)]\n",
      "0.22945522794805573\n",
      "tensor(-96.6129, device='cuda:0', grad_fn=<NegBackward0>) [tensor(-48.2541, device='cuda:0', grad_fn=<NegBackward0>), tensor(-47.8751, device='cuda:0', grad_fn=<NegBackward0>), tensor(-0.6219, device='cuda:0', grad_fn=<AddBackward0>)]\n",
      "tensor(-96.6021, device='cuda:0', grad_fn=<NegBackward0>) [tensor(-48.2541, device='cuda:0', grad_fn=<NegBackward0>), tensor(-47.8694, device='cuda:0', grad_fn=<NegBackward0>), tensor(-0.6138, device='cuda:0', grad_fn=<AddBackward0>)]\n",
      "0.2329903743680147\n",
      "tensor(-96.5563, device='cuda:0', grad_fn=<NegBackward0>) [tensor(-48.2303, device='cuda:0', grad_fn=<NegBackward0>), tensor(-47.8546, device='cuda:0', grad_fn=<NegBackward0>), tensor(-0.6022, device='cuda:0', grad_fn=<AddBackward0>)]\n",
      "tensor(-96.6108, device='cuda:0', grad_fn=<NegBackward0>) [tensor(-48.2303, device='cuda:0', grad_fn=<NegBackward0>), tensor(-47.8714, device='cuda:0', grad_fn=<NegBackward0>), tensor(-0.6637, device='cuda:0', grad_fn=<AddBackward0>)]\n",
      "0.22631898886487054\n",
      "tensor(-96.5280, device='cuda:0', grad_fn=<NegBackward0>) [tensor(-48.2425, device='cuda:0', grad_fn=<NegBackward0>), tensor(-47.8158, device='cuda:0', grad_fn=<NegBackward0>), tensor(-0.5994, device='cuda:0', grad_fn=<AddBackward0>)]\n",
      "tensor(-96.6200, device='cuda:0', grad_fn=<NegBackward0>) [tensor(-48.2425, device='cuda:0', grad_fn=<NegBackward0>), tensor(-47.8880, device='cuda:0', grad_fn=<NegBackward0>), tensor(-0.6317, device='cuda:0', grad_fn=<AddBackward0>)]\n",
      "0.2308789665741466\n",
      "tensor(-96.4367, device='cuda:0', grad_fn=<NegBackward0>) [tensor(-48.1545, device='cuda:0', grad_fn=<NegBackward0>), tensor(-47.8009, device='cuda:0', grad_fn=<NegBackward0>), tensor(-0.6181, device='cuda:0', grad_fn=<AddBackward0>)]\n",
      "tensor(-96.4414, device='cuda:0', grad_fn=<NegBackward0>) [tensor(-48.1545, device='cuda:0', grad_fn=<NegBackward0>), tensor(-47.8061, device='cuda:0', grad_fn=<NegBackward0>), tensor(-0.6173, device='cuda:0', grad_fn=<AddBackward0>)]\n",
      "0.23292581317198405\n",
      "tensor(-96.3276, device='cuda:0', grad_fn=<NegBackward0>) [tensor(-48.1218, device='cuda:0', grad_fn=<NegBackward0>), tensor(-47.6879, device='cuda:0', grad_fn=<NegBackward0>), tensor(-0.6785, device='cuda:0', grad_fn=<AddBackward0>)]\n",
      "tensor(-96.3650, device='cuda:0', grad_fn=<NegBackward0>) [tensor(-48.1218, device='cuda:0', grad_fn=<NegBackward0>), tensor(-47.7046, device='cuda:0', grad_fn=<NegBackward0>), tensor(-0.7136, device='cuda:0', grad_fn=<AddBackward0>)]\n",
      "0.2278713417543582\n",
      "tensor(-96.3683, device='cuda:0', grad_fn=<NegBackward0>) [tensor(-48.1362, device='cuda:0', grad_fn=<NegBackward0>), tensor(-47.7619, device='cuda:0', grad_fn=<NegBackward0>), tensor(-0.6004, device='cuda:0', grad_fn=<AddBackward0>)]\n",
      "tensor(-96.3990, device='cuda:0', grad_fn=<NegBackward0>) [tensor(-48.1362, device='cuda:0', grad_fn=<NegBackward0>), tensor(-47.8086, device='cuda:0', grad_fn=<NegBackward0>), tensor(-0.5749, device='cuda:0', grad_fn=<AddBackward0>)]\n",
      "0.24592569757982866\n",
      "tensor(-96.5631, device='cuda:0', grad_fn=<NegBackward0>) [tensor(-48.2457, device='cuda:0', grad_fn=<NegBackward0>), tensor(-47.7636, device='cuda:0', grad_fn=<NegBackward0>), tensor(-0.7399, device='cuda:0', grad_fn=<AddBackward0>)]\n",
      "tensor(-96.4893, device='cuda:0', grad_fn=<NegBackward0>) [tensor(-48.2457, device='cuda:0', grad_fn=<NegBackward0>), tensor(-47.6370, device='cuda:0', grad_fn=<NegBackward0>), tensor(-0.8342, device='cuda:0', grad_fn=<AddBackward0>)]\n",
      "0.26443594558941697\n",
      "tensor(-96.2539, device='cuda:0', grad_fn=<NegBackward0>) [tensor(-48.1137, device='cuda:0', grad_fn=<NegBackward0>), tensor(-47.5374, device='cuda:0', grad_fn=<NegBackward0>), tensor(-0.8273, device='cuda:0', grad_fn=<AddBackward0>)]\n",
      "tensor(-96.2854, device='cuda:0', grad_fn=<NegBackward0>) [tensor(-48.1137, device='cuda:0', grad_fn=<NegBackward0>), tensor(-47.5752, device='cuda:0', grad_fn=<NegBackward0>), tensor(-0.8158, device='cuda:0', grad_fn=<AddBackward0>)]\n",
      "0.2537965460741219\n",
      "tensor(-96.5037, device='cuda:0', grad_fn=<NegBackward0>) [tensor(-48.2162, device='cuda:0', grad_fn=<NegBackward0>), tensor(-47.7322, device='cuda:0', grad_fn=<NegBackward0>), tensor(-0.7424, device='cuda:0', grad_fn=<AddBackward0>)]\n",
      "tensor(-96.4812, device='cuda:0', grad_fn=<NegBackward0>) [tensor(-48.2162, device='cuda:0', grad_fn=<NegBackward0>), tensor(-47.6753, device='cuda:0', grad_fn=<NegBackward0>), tensor(-0.8033, device='cuda:0', grad_fn=<AddBackward0>)]\n"
     ]
    },
    {
     "name": "stdout",
     "output_type": "stream",
     "text": [
      "0.23709526550253873\n",
      "tensor(-96.2931, device='cuda:0', grad_fn=<NegBackward0>) [tensor(-48.1005, device='cuda:0', grad_fn=<NegBackward0>), tensor(-47.6989, device='cuda:0', grad_fn=<NegBackward0>), tensor(-0.6384, device='cuda:0', grad_fn=<AddBackward0>)]\n",
      "tensor(-96.3114, device='cuda:0', grad_fn=<NegBackward0>) [tensor(-48.1005, device='cuda:0', grad_fn=<NegBackward0>), tensor(-47.7101, device='cuda:0', grad_fn=<NegBackward0>), tensor(-0.6502, device='cuda:0', grad_fn=<AddBackward0>)]\n",
      "0.21763589487036902\n",
      "tensor(-96.4724, device='cuda:0', grad_fn=<NegBackward0>) [tensor(-48.1528, device='cuda:0', grad_fn=<NegBackward0>), tensor(-47.8743, device='cuda:0', grad_fn=<NegBackward0>), tensor(-0.5610, device='cuda:0', grad_fn=<AddBackward0>)]\n",
      "tensor(-96.3772, device='cuda:0', grad_fn=<NegBackward0>) [tensor(-48.1528, device='cuda:0', grad_fn=<NegBackward0>), tensor(-47.7751, device='cuda:0', grad_fn=<NegBackward0>), tensor(-0.5672, device='cuda:0', grad_fn=<AddBackward0>)]\n",
      "0.2405233622676396\n",
      "tensor(-96.4386, device='cuda:0', grad_fn=<NegBackward0>) [tensor(-48.1481, device='cuda:0', grad_fn=<NegBackward0>), tensor(-47.7729, device='cuda:0', grad_fn=<NegBackward0>), tensor(-0.6779, device='cuda:0', grad_fn=<AddBackward0>)]\n",
      "tensor(-96.3853, device='cuda:0', grad_fn=<NegBackward0>) [tensor(-48.1481, device='cuda:0', grad_fn=<NegBackward0>), tensor(-47.7042, device='cuda:0', grad_fn=<NegBackward0>), tensor(-0.7040, device='cuda:0', grad_fn=<AddBackward0>)]\n",
      "0.27226222205677003\n",
      "tensor(-96.4057, device='cuda:0', grad_fn=<NegBackward0>) [tensor(-48.1704, device='cuda:0', grad_fn=<NegBackward0>), tensor(-47.6130, device='cuda:0', grad_fn=<NegBackward0>), tensor(-0.8631, device='cuda:0', grad_fn=<AddBackward0>)]\n",
      "tensor(-96.3431, device='cuda:0', grad_fn=<NegBackward0>) [tensor(-48.1704, device='cuda:0', grad_fn=<NegBackward0>), tensor(-47.5177, device='cuda:0', grad_fn=<NegBackward0>), tensor(-0.9251, device='cuda:0', grad_fn=<AddBackward0>)]\n",
      "0.1957662686730478\n",
      "tensor(-96.5751, device='cuda:0', grad_fn=<NegBackward0>) [tensor(-48.2458, device='cuda:0', grad_fn=<NegBackward0>), tensor(-47.9784, device='cuda:0', grad_fn=<NegBackward0>), tensor(-0.4202, device='cuda:0', grad_fn=<AddBackward0>)]\n",
      "tensor(-96.6075, device='cuda:0', grad_fn=<NegBackward0>) [tensor(-48.2458, device='cuda:0', grad_fn=<NegBackward0>), tensor(-48.0020, device='cuda:0', grad_fn=<NegBackward0>), tensor(-0.4329, device='cuda:0', grad_fn=<AddBackward0>)]\n",
      "0.25327836481275046\n",
      "tensor(-96.7588, device='cuda:0', grad_fn=<NegBackward0>) [tensor(-48.3568, device='cuda:0', grad_fn=<NegBackward0>), tensor(-47.8467, device='cuda:0', grad_fn=<NegBackward0>), tensor(-0.7425, device='cuda:0', grad_fn=<AddBackward0>)]\n",
      "tensor(-96.8214, device='cuda:0', grad_fn=<NegBackward0>) [tensor(-48.3568, device='cuda:0', grad_fn=<NegBackward0>), tensor(-47.9155, device='cuda:0', grad_fn=<NegBackward0>), tensor(-0.7318, device='cuda:0', grad_fn=<AddBackward0>)]\n",
      "0.2252999961208085\n",
      "tensor(-96.5741, device='cuda:0', grad_fn=<NegBackward0>) [tensor(-48.2101, device='cuda:0', grad_fn=<NegBackward0>), tensor(-47.8967, device='cuda:0', grad_fn=<NegBackward0>), tensor(-0.5956, device='cuda:0', grad_fn=<AddBackward0>)]\n"
     ]
    }
   ],
   "source": [
    "# data selected\n",
    "mean_V = []\n",
    "n_dis2 = 1\n",
    "n_dis = 1\n",
    "mode = 11\n",
    "gam3 = 1\n",
    "mcr_gan_loss = MCRGANloss(gam1=1., gam2=1., gam3=gam3, eps=0.5, numclasses=numclasses, mode=mode, rho=None)\n",
    "loss_V = 0\n",
    "last_V = -1000\n",
    "num_steps = 500\n",
    "lr1 = 1e-3\n",
    "lr2 = 1e-3\n",
    "optD = optim.Adam(netD.parameters(), lr1, betas=(0.5, 0.999))\n",
    "optG = optim.Adam(netG.parameters(), lr2, betas=(0.5, 0.999))\n",
    "meanV_sum = []\n",
    "radius_list = []\n",
    "radius = 5\n",
    "\n",
    "for epoch in range(num_steps):\n",
    "    if 1==1:\n",
    "        \n",
    "        #radius,_ = gs_radius(radius1=0,radius2=100,netD=netD,real_cpu=real_cpu,real_label=real_label,tor=1e-5,n_dis=2,lam=0.618,mode=mode)\n",
    "        #radius_list.append(radius)\n",
    "        #print(radius)\n",
    "\n",
    "        for i in range(n_dis):\n",
    "            netD.zero_grad()\n",
    "            optD.zero_grad()\n",
    "            Z = netD(real_cpu)\n",
    "            net_noise = get_noise(DATASET, device, LABEL)\n",
    "            #radius,_ = gs_radius(radius1=0,radius2=100,netD=netD,real_cpu=real_cpu,real_label=real_label,tor=1e-5,n_dis=2,lam=0.618,mode=mode)\n",
    "            #radius_list.append(radius)\n",
    "            #print(radius)\n",
    "            fed_state_dict = get_netG(netD,netV,net_noise,radius)\n",
    "            netG.load_state_dict(fed_state_dict)\n",
    "            Z_bar = netG(real_cpu)\n",
    "            errD, errD_EC = mcr_gan_loss(Z, Z_bar, real_label, 1, n_dis)\n",
    "            print(errD, errD_EC)\n",
    "            errD.backward()\n",
    "            optD.step()\n",
    "        temp = 0\n",
    "        for j in range(n_dis2):\n",
    "            netG.zero_grad()\n",
    "            optG.zero_grad()\n",
    "\n",
    "            Z = netD(real_cpu)\n",
    "            net_noise = get_noise(DATASET, device, LABEL)\n",
    "            radius,_ = gs_radius(radius1=0,radius2=100,netD=netD,real_cpu=real_cpu,real_label=real_label,tor=1e-5,n_dis=2,lam=0.618,mode=mode)\n",
    "            radius_list.append(radius)\n",
    "            print(radius)\n",
    "            fed_state_dict = get_netG(netD,netV,net_noise,radius)\n",
    "            netG.load_state_dict(fed_state_dict)\n",
    "            Z_bar = netG(real_cpu)\n",
    "            errG, errG_EC = mcr_gan_loss(Z, Z_bar, real_label, n_dis2 - 1, n_dis2)\n",
    "            print(errG, errG_EC)\n",
    "            temp = errG\n",
    "            errG = (-1) * errG\n",
    "            errG.backward()\n",
    "            optG.step()\n",
    "\n",
    "            update_dic = update_netV(netV,netG,net_noise,fed_state_dict,radius)\n",
    "            netV.load_state_dict(update_dic)\n",
    "\n",
    "        loss_V = temp\n",
    "        "
   ]
  },
  {
   "cell_type": "code",
   "execution_count": 8,
   "id": "58be30d1",
   "metadata": {},
   "outputs": [
    {
     "data": {
      "text/plain": [
       "[7.631828604437706,\n",
       " 99.30339162743611,\n",
       " 1.162022820119659,\n",
       " 1.0734194102794905,\n",
       " 0.7935370145225645,\n",
       " 0.7076883254037893,\n",
       " 0.7248378336424347,\n",
       " 0.5851525595132528,\n",
       " 0.6221818096160284,\n",
       " 0.46453989034545434,\n",
       " 0.6347552207199472,\n",
       " 0.5697286346394675,\n",
       " 0.5351230692891956,\n",
       " 0.5545086434142497,\n",
       " 0.5553099280569015,\n",
       " 0.4569709389468453,\n",
       " 0.5786298828360196,\n",
       " 0.4709984279915666,\n",
       " 0.5187234173325131,\n",
       " 0.4226336039628021,\n",
       " 0.4614879531348951,\n",
       " 0.4523501803891282,\n",
       " 0.4897876010642077,\n",
       " 0.4556062165748179,\n",
       " 0.48226948262444147,\n",
       " 0.4539753491262107,\n",
       " 0.46198862574137856,\n",
       " 0.4649946850891548,\n",
       " 0.37988847961474376,\n",
       " 0.4263794877634226,\n",
       " 0.37656793197660715,\n",
       " 0.4916613364356101,\n",
       " 0.45790124422450623,\n",
       " 0.45489557453770385,\n",
       " 0.4545021175348197,\n",
       " 0.4699362895824925,\n",
       " 0.4516141480871292,\n",
       " 0.42776682948953926,\n",
       " 0.4553738952556769,\n",
       " 0.4184625442244911,\n",
       " 0.43893030239368497,\n",
       " 0.4057320008702529,\n",
       " 0.42598014296283504,\n",
       " 0.3918799154527211,\n",
       " 0.39079331087960656,\n",
       " 0.4145957914702556,\n",
       " 0.39805817042443514,\n",
       " 0.39461212866724066,\n",
       " 0.4076347297570485,\n",
       " 0.4146719927776218,\n",
       " 0.40480043465208976,\n",
       " 0.36256915815758994,\n",
       " 0.39563920098397165,\n",
       " 0.4005445366520736,\n",
       " 0.4152908032998343,\n",
       " 0.42596644311155907,\n",
       " 0.3887821735929412,\n",
       " 0.40843542445821646,\n",
       " 0.3962123506016544,\n",
       " 0.3740116502657198,\n",
       " 0.3718161892464142,\n",
       " 0.3958617695854239,\n",
       " 0.3452268336697466,\n",
       " 0.3678285763165899,\n",
       " 0.36072135418913087,\n",
       " 0.3861153326722526,\n",
       " 0.3698762760171247,\n",
       " 0.3383637358102367,\n",
       " 0.35804688666235607,\n",
       " 0.34560747628517147,\n",
       " 0.30946312996025027,\n",
       " 0.3895136600259259,\n",
       " 0.38591328564811844,\n",
       " 0.3902850260456094,\n",
       " 0.4039220606906163,\n",
       " 0.3746632805982473,\n",
       " 0.3571697336297538,\n",
       " 0.33758352775196715,\n",
       " 0.35226217842310936,\n",
       " 0.3400623540028176,\n",
       " 0.3582743798760727,\n",
       " 0.35914319498388964,\n",
       " 0.3486912207078123,\n",
       " 0.34353681586621654,\n",
       " 0.339656088577428,\n",
       " 0.351584530713195,\n",
       " 0.3673051726131755,\n",
       " 0.3661251027899944,\n",
       " 0.354772138200823,\n",
       " 0.36093904247142505,\n",
       " 0.3534054506974452,\n",
       " 0.36538910529259805,\n",
       " 0.31087680277629676,\n",
       " 0.33429027333399125,\n",
       " 0.2942837334198234,\n",
       " 0.33118944920106114,\n",
       " 0.34667839181330323,\n",
       " 0.32580103550016587,\n",
       " 0.3333895825675659,\n",
       " 0.3257457600185848,\n",
       " 0.3331733816490202,\n",
       " 0.3157705304585088,\n",
       " 0.31894161324996023,\n",
       " 0.32883233207118573,\n",
       " 0.31233619690431563,\n",
       " 0.3474903484500851,\n",
       " 0.29211779793547116,\n",
       " 0.31789649999600766,\n",
       " 0.3118907891554184,\n",
       " 0.3108862884110183,\n",
       " 0.3290603272453602,\n",
       " 0.27055311605097765,\n",
       " 0.3204450399624533,\n",
       " 0.3022134362659815,\n",
       " 0.30284044870154736,\n",
       " 0.31769762675381197,\n",
       " 0.3191051301493362,\n",
       " 0.3119905964435568,\n",
       " 0.32114000402140347,\n",
       " 0.35673724804052237,\n",
       " 0.32361798537951764,\n",
       " 0.35709559218375225,\n",
       " 0.26103629340211504,\n",
       " 0.3476438894876598,\n",
       " 0.28298316064149076,\n",
       " 0.23310182241970653,\n",
       " 0.3352784645062759,\n",
       " 0.4312436162160241,\n",
       " 0.32629722501187086,\n",
       " 0.32039919607159184,\n",
       " 0.31735198104375134,\n",
       " 0.3021012513857964,\n",
       " 0.3851850293203106,\n",
       " 0.344934663282327,\n",
       " 0.3288699782811921,\n",
       " 0.321334389467767,\n",
       " 0.3384984582609524,\n",
       " 0.33391072824511414,\n",
       " 0.33932123584144297,\n",
       " 0.3310850843550414,\n",
       " 0.30550073317205634,\n",
       " 0.30107359984029675,\n",
       " 0.3454764163631179,\n",
       " 0.3365761721873679,\n",
       " 0.32032799145092,\n",
       " 0.3223975479155188,\n",
       " 0.321053140265671,\n",
       " 0.32718637214085977,\n",
       " 0.3330896628661138,\n",
       " 0.2841740049599805,\n",
       " 0.3251499457800035,\n",
       " 0.30856870431719713,\n",
       " 0.29934082141254426,\n",
       " 0.2978685157408545,\n",
       " 0.3174925372828005,\n",
       " 0.3079955933484842,\n",
       " 0.29555991778039237,\n",
       " 0.27812340994010515,\n",
       " 0.31193788227542735,\n",
       " 0.31288805451573243,\n",
       " 0.30082386000058,\n",
       " 0.28908601672180706,\n",
       " 0.32616929398149125,\n",
       " 0.28380654136544264,\n",
       " 0.3220292894341934,\n",
       " 0.27481086572485924,\n",
       " 0.3041356038623251,\n",
       " 0.30763059042666346,\n",
       " 0.31292731884714603,\n",
       " 0.28538796398661676,\n",
       " 0.30391316850020467,\n",
       " 0.3026303293284381,\n",
       " 0.3023208237523184,\n",
       " 0.29070074384309735,\n",
       " 0.30682040816505507,\n",
       " 0.24235537703619364,\n",
       " 0.2852822671753283,\n",
       " 0.2922553919112014,\n",
       " 0.3007743101554143,\n",
       " 0.2869136915402434,\n",
       " 0.26861327604062313,\n",
       " 0.2678470584002784,\n",
       " 0.2977104228805316,\n",
       " 0.27482187622645604,\n",
       " 0.266111879726447,\n",
       " 0.2685818408655806,\n",
       " 0.287867459877468,\n",
       " 0.27277103266262226,\n",
       " 0.2741382651988371,\n",
       " 0.24686700734010394,\n",
       " 0.2561068640493126,\n",
       " 0.27443017065657577,\n",
       " 0.2650567188774975,\n",
       " 0.26541244829664284,\n",
       " 0.270879043449033,\n",
       " 0.28343798995221897,\n",
       " 0.2917749313004768,\n",
       " 0.2369577164084077,\n",
       " 0.28126302722208957,\n",
       " 0.3022167360739984,\n",
       " 0.2537428707334679,\n",
       " 0.27073464498331606,\n",
       " 0.27704929887042967,\n",
       " 0.2627437532419301,\n",
       " 0.24740566419348392,\n",
       " 0.26656709654486277,\n",
       " 0.2950103689260382,\n",
       " 0.27073464498331606,\n",
       " 0.28863118741107885,\n",
       " 0.2525901049115246,\n",
       " 0.29285564362196387,\n",
       " 0.28290878884052595,\n",
       " 0.2753889290615867,\n",
       " 0.23145350089996222,\n",
       " 0.23960859993224287,\n",
       " 0.26806768556181043,\n",
       " 0.2819248514698013,\n",
       " 0.3045730608737387,\n",
       " 0.2666521016577956,\n",
       " 0.2757841410840692,\n",
       " 0.2810989820966207,\n",
       " 0.27606538946377346,\n",
       " 0.27623726901471285,\n",
       " 0.1961208444943458,\n",
       " 0.25729766311850055,\n",
       " 0.2628534494853296,\n",
       " 0.2988685108180889,\n",
       " 0.26937148174493414,\n",
       " 0.27345589741608634,\n",
       " 0.25206361456739523,\n",
       " 0.24255137372617602,\n",
       " 0.25995926116219625,\n",
       " 0.2839465676799655,\n",
       " 0.2660271912854658,\n",
       " 0.2747242037658002,\n",
       " 0.2796169274272101,\n",
       " 0.2917546979409815,\n",
       " 0.2645939799984605,\n",
       " 0.27371201207282647,\n",
       " 0.2582751155369081,\n",
       " 0.2646301764336419,\n",
       " 0.27311028205066595,\n",
       " 0.26492102879386864,\n",
       " 0.27138573470347843,\n",
       " 0.2558027848803747,\n",
       " 0.2498492695534508,\n",
       " 0.26276660301139154,\n",
       " 0.26675168713171005,\n",
       " 0.24300642269714856,\n",
       " 0.2372358949605229,\n",
       " 0.2678430644535263,\n",
       " 0.24637113620697557,\n",
       " 0.2682080221260452,\n",
       " 0.25520729406858866,\n",
       " 0.27778555087081924,\n",
       " 0.24925573219276986,\n",
       " 0.26012344685217975,\n",
       " 0.2743529974482883,\n",
       " 0.2863748969967368,\n",
       " 0.2662732592253895,\n",
       " 0.24922410104988843,\n",
       " 0.24408009187704613,\n",
       " 0.2868298447847059,\n",
       " 0.27606568239354207,\n",
       " 0.23455989505696018,\n",
       " 0.2821728297622151,\n",
       " 0.22858657598299828,\n",
       " 0.2665447487358592,\n",
       " 0.2546877143686615,\n",
       " 0.2509026383734512,\n",
       " 0.2806027727822962,\n",
       " 0.25282015836054805,\n",
       " 0.2752502225695038,\n",
       " 0.26542469103413874,\n",
       " 0.2735402337173336,\n",
       " 0.23200639329484693,\n",
       " 0.2561067003227699,\n",
       " 0.2694360536211137,\n",
       " 0.26892452394803096,\n",
       " 0.26415162944052245,\n",
       " 0.2608673095006441,\n",
       " 0.2613475397516529,\n",
       " 0.21771072336235522,\n",
       " 0.2538932588205436,\n",
       " 0.2772972130735672,\n",
       " 0.2424265599282902,\n",
       " 0.2677095202680155,\n",
       " 0.24718793318796722,\n",
       " 0.2630803675196534,\n",
       " 0.22377209495284278,\n",
       " 0.2656603675415493,\n",
       " 0.2727513069032184,\n",
       " 0.2524044947190552,\n",
       " 0.27138089651212655,\n",
       " 0.2541647216921111,\n",
       " 0.26335530121795697,\n",
       " 0.2690143930630978,\n",
       " 0.23856260378815403,\n",
       " 0.24478312984284126,\n",
       " 0.2584898132219588,\n",
       " 0.2747290429199158,\n",
       " 0.25655919699430907,\n",
       " 0.27243594296658946,\n",
       " 0.2518850102169221,\n",
       " 0.22997969613040534,\n",
       " 0.2612841674031653,\n",
       " 0.23641476282297616,\n",
       " 0.22925914735686426,\n",
       " 0.26554785613277715,\n",
       " 0.26510561997570387,\n",
       " 0.2545785933046548,\n",
       " 0.23960560681417423,\n",
       " 0.24520184253533778,\n",
       " 0.2536578727168224,\n",
       " 0.24929674353027637,\n",
       " 0.23650090342914182,\n",
       " 0.2593113890323945,\n",
       " 0.2644769497310566,\n",
       " 0.22101501165838186,\n",
       " 0.2559940587314287,\n",
       " 0.25743821935754974,\n",
       " 0.2553912329324916,\n",
       " 0.2376038432302853,\n",
       " 0.2641057927450992,\n",
       " 0.2528973356478408,\n",
       " 0.21920498524178747,\n",
       " 0.2228250984966137,\n",
       " 0.26608984212900644,\n",
       " 0.2501400259997736,\n",
       " 0.22461255196962174,\n",
       " 0.21310212916147125,\n",
       " 0.24474703711148837,\n",
       " 0.24489098472523552,\n",
       " 0.23530865219476949,\n",
       " 0.24496958939297966,\n",
       " 0.23544136822747097,\n",
       " 0.22402385376305634,\n",
       " 0.2487274864467122,\n",
       " 0.26961474032323696,\n",
       " 0.2612841674031653,\n",
       " 0.2272989697582842,\n",
       " 0.2324408697947531,\n",
       " 0.2345628856542036,\n",
       " 0.2372135471515193,\n",
       " 0.2424976894043082,\n",
       " 0.23400775610128138,\n",
       " 0.21814454990262405,\n",
       " 0.2445225344950152,\n",
       " 0.21900910823371036,\n",
       " 0.2524630046262888,\n",
       " 0.2600932046074346,\n",
       " 0.26352252636684553,\n",
       " 0.2358283544745188,\n",
       " 0.22264733278859328,\n",
       " 0.24284662550258668,\n",
       " 0.23914579190802104,\n",
       " 0.25005915196651235,\n",
       " 0.21315396277341744,\n",
       " 0.23746462065560342,\n",
       " 0.23525312903272153,\n",
       " 0.23528955935028256,\n",
       " 0.2623189688473389,\n",
       " 0.2402578976457161,\n",
       " 0.23250234174017367,\n",
       " 0.24029597023692642,\n",
       " 0.18466450496340198,\n",
       " 0.2594298036355134,\n",
       " 0.25573156274933767,\n",
       " 0.2313621264462352,\n",
       " 0.2558788063315988,\n",
       " 0.236129937277725,\n",
       " 0.2225527461020056,\n",
       " 0.2598121200934047,\n",
       " 0.25434327790398836,\n",
       " 0.21788380403135463,\n",
       " 0.23368316006347198,\n",
       " 0.25605067520026414,\n",
       " 0.22940474358193222,\n",
       " 0.23180916465751164,\n",
       " 0.23957492921907264,\n",
       " 0.24157838800441203,\n",
       " 0.244285226514167,\n",
       " 0.22462104188492582,\n",
       " 0.23615483863546052,\n",
       " 0.20480860824041044,\n",
       " 0.21829044977707196,\n",
       " 0.224479797148007,\n",
       " 0.24877521405445444,\n",
       " 0.234205757733162,\n",
       " 0.2222032940684321,\n",
       " 0.21824386216420155,\n",
       " 0.2635973162003561,\n",
       " 0.24682161300901945,\n",
       " 0.22337282657399002,\n",
       " 0.26221985869498016,\n",
       " 0.2616733701644039,\n",
       " 0.20284744294797494,\n",
       " 0.23173460269578652,\n",
       " 0.22574412296506888,\n",
       " 0.23634954576914463,\n",
       " 0.22438209672328277,\n",
       " 0.2563294178886739,\n",
       " 0.2451184779389521,\n",
       " 0.20423295399536043,\n",
       " 0.21264733441777073,\n",
       " 0.2103595490987828,\n",
       " 0.2514965617322646,\n",
       " 0.23558404394206545,\n",
       " 0.22966719780375597,\n",
       " 0.2164547731466486,\n",
       " 0.24634949381121887,\n",
       " 0.25477465134332894,\n",
       " 0.23083564906394027,\n",
       " 0.22333471473588445,\n",
       " 0.23269663548327058,\n",
       " 0.22992292254911587,\n",
       " 0.23000689051624826,\n",
       " 0.2684394539478003,\n",
       " 0.23961777531725245,\n",
       " 0.2673803152571268,\n",
       " 0.2644437743780123,\n",
       " 0.24406953586301822,\n",
       " 0.2247679295066423,\n",
       " 0.25451522591319287,\n",
       " 0.23909710386122549,\n",
       " 0.24963447344217252,\n",
       " 0.25971396865252816,\n",
       " 0.2386542949138326,\n",
       " 0.21889087591678597,\n",
       " 0.2431801492470901,\n",
       " 0.23907648301580312,\n",
       " 0.2047384917938074,\n",
       " 0.23054418705709653,\n",
       " 0.2430474233545062,\n",
       " 0.2240520227511603,\n",
       " 0.2445985773070389,\n",
       " 0.2234820315370806,\n",
       " 0.2591757090326865,\n",
       " 0.2580289584267212,\n",
       " 0.24220391306544095,\n",
       " 0.22930987624087715,\n",
       " 0.23369834992310537,\n",
       " 0.24484222597739225,\n",
       " 0.26053251269836064,\n",
       " 0.2301376846862292,\n",
       " 0.24375499378446872,\n",
       " 0.2291028426721194,\n",
       " 0.18007385133615206,\n",
       " 0.2540922103416432,\n",
       " 0.2397697424385573,\n",
       " 0.18713784688240087,\n",
       " 0.22240623722752595,\n",
       " 0.275414080063232,\n",
       " 0.23828442560374138,\n",
       " 0.25873930421682106,\n",
       " 0.2363320374822239,\n",
       " 0.24692234153968023,\n",
       " 0.2386529490528966,\n",
       " 0.2175260416678496,\n",
       " 0.2515173817299767,\n",
       " 0.2708516934948494,\n",
       " 0.2564186407552599,\n",
       " 0.23724664268529672,\n",
       " 0.20836873975297068,\n",
       " 0.2558793082920567,\n",
       " 0.2493504146511701,\n",
       " 0.2379876809918871,\n",
       " 0.2092583953900305,\n",
       " 0.20696020715218685,\n",
       " 0.23513489671579713,\n",
       " 0.23352149161551078,\n",
       " 0.24073334118777795,\n",
       " 0.22898503639147272,\n",
       " 0.2333750602670002,\n",
       " 0.2603792945218263,\n",
       " 0.23199073223406738,\n",
       " 0.2390462768962657,\n",
       " 0.2421944968575352,\n",
       " 0.212047009493638,\n",
       " 0.25433353634184885,\n",
       " 0.24319094222673035,\n",
       " 0.2413823978584491,\n",
       " 0.24696030419720633,\n",
       " 0.21945318321458027,\n",
       " 0.22945522794805573,\n",
       " 0.2329903743680147,\n",
       " 0.22631898886487054,\n",
       " 0.2308789665741466,\n",
       " 0.23292581317198405,\n",
       " 0.2278713417543582,\n",
       " 0.24592569757982866,\n",
       " 0.26443594558941697,\n",
       " 0.2537965460741219,\n",
       " 0.23709526550253873,\n",
       " 0.21763589487036902,\n",
       " 0.2405233622676396,\n",
       " 0.27226222205677003,\n",
       " 0.1957662686730478,\n",
       " 0.25327836481275046,\n",
       " 0.2252999961208085]"
      ]
     },
     "execution_count": 8,
     "metadata": {},
     "output_type": "execute_result"
    }
   ],
   "source": [
    "radius_list"
   ]
  },
  {
   "cell_type": "code",
   "execution_count": 9,
   "id": "32f480a3",
   "metadata": {},
   "outputs": [
    {
     "name": "stderr",
     "output_type": "stream",
     "text": [
      "extracting all features from dataset: 100%|██████████████████████████████████████████████| 1/1 [00:01<00:00,  1.65s/it]\n",
      "extracting all features from dataset: 100%|██████████████████████████████████████████████| 1/1 [00:01<00:00,  1.73s/it]\n"
     ]
    },
    {
     "name": "stdout",
     "output_type": "stream",
     "text": [
      "----------------------------\n",
      "Train_z, Test_z\n",
      "PCA: 0.841\n",
      "SVD: 0.8356\n",
      "NetD, Acc at first 0.8609\n"
     ]
    },
    {
     "name": "stderr",
     "output_type": "stream",
     "text": [
      "extracting all features from dataset: 100%|██████████████████████████████████████████████| 2/2 [00:04<00:00,  2.46s/it]\n",
      "extracting all features from dataset: 100%|██████████████████████████████████████████████| 1/1 [00:01<00:00,  1.66s/it]\n"
     ]
    },
    {
     "name": "stdout",
     "output_type": "stream",
     "text": [
      "----------------------------\n",
      "Train_z, Test_z\n",
      "PCA: 0.8311999999999999\n",
      "SVD: 0.8309\n",
      "NetG, Acc at first 0.8589\n"
     ]
    }
   ],
   "source": [
    "#acc at first for NetD\n",
    "train_X, train_Z, train_X_bar, train_Z_bar, train_labels = extract_features2(testloader, netD, netG)\n",
    "\n",
    "test_X, test_Z, test_X_bar, test_Z_bar, test_labels = extract_features2(testloader, netD, netG)\n",
    "\n",
    "\n",
    "print(\"----------------------------\")\n",
    "print(\"Train_z, Test_z\")\n",
    "nearsub(n_comp, train_Z, train_labels, test_Z, test_labels)\n",
    "\n",
    "#acc at first for NetD\n",
    "from sklearn.neighbors import KNeighborsClassifier \n",
    "knn= KNeighborsClassifier(n_neighbors=10) \n",
    "\n",
    "knn.fit(train_Z,train_labels) \n",
    "knn.score(test_Z,test_labels) \n",
    " \n",
    "y_predict = knn.predict(test_Z) \n",
    "\n",
    "count =0\n",
    "for k in range(10000):\n",
    "    if y_predict[k] == test_labels[k]:\n",
    "        count +=1\n",
    "print('NetD, Acc at first',count/10000)\n",
    "Acc_results_D.append(count/10000)\n",
    "\n",
    "#acc at first for NetG\n",
    "train_X, train_Z, train_X_bar, train_Z_bar, train_labels = extract_features2(trainloader, netG, netD)\n",
    "\n",
    "test_X, test_Z, test_X_bar, test_Z_bar, test_labels = extract_features2(testloader, netG, netD)\n",
    "\n",
    "print(\"----------------------------\")\n",
    "print(\"Train_z, Test_z\")\n",
    "nearsub(n_comp, train_Z, train_labels, test_Z, test_labels)\n",
    "\n",
    "\n",
    "#acc at first\n",
    "from sklearn.neighbors import KNeighborsClassifier \n",
    "knn= KNeighborsClassifier(n_neighbors=10) \n",
    "\n",
    "knn.fit(train_Z,train_labels) \n",
    "knn.score(test_Z,test_labels) \n",
    " \n",
    "y_predict = knn.predict(test_Z) \n",
    "\n",
    "count =0\n",
    "for k in range(10000):\n",
    "    if y_predict[k] == test_labels[k]:\n",
    "        count +=1\n",
    "print('NetG, Acc at first',count/10000)\n",
    "Acc_results_G.append(count/10000)\n"
   ]
  },
  {
   "cell_type": "code",
   "execution_count": 10,
   "id": "ab5e89b5",
   "metadata": {},
   "outputs": [],
   "source": [
    "torch.save(netD, 'FMNIST_NetD_changing1-mode11.pth')\n",
    "torch.save(netV, 'FMNIST_NetV_changing1-mode11.pth')\n",
    "torch.save(netG, 'FMNIST_NetG_changing1-mode11.pth')"
   ]
  },
  {
   "cell_type": "markdown",
   "id": "cac9d760",
   "metadata": {},
   "source": [
    "#netD = torch.load('FMNIST_NetD.pth')\n",
    "#netV = torch.load('FMNIST_NetV.pth')\n",
    "#netG = torch.load('FMNIST_NetG.pth')\n",
    "\n",
    "#mode = 1\n",
    "#gam3 = 1"
   ]
  },
  {
   "cell_type": "code",
   "execution_count": 11,
   "id": "a97aa6a9",
   "metadata": {},
   "outputs": [],
   "source": [
    "r_list = [0,0.1,0.2,0.5,1,2,3,4,6,8,10]\n",
    "sample_num = 20"
   ]
  },
  {
   "cell_type": "code",
   "execution_count": 12,
   "id": "5dd88ab6",
   "metadata": {},
   "outputs": [
    {
     "name": "stderr",
     "output_type": "stream",
     "text": [
      "extracting all features from dataset: 100%|██████████████████████████████████████████████| 2/2 [00:04<00:00,  2.49s/it]\n",
      "extracting all features from dataset: 100%|██████████████████████████████████████████████| 1/1 [00:01<00:00,  1.66s/it]\n"
     ]
    },
    {
     "name": "stdout",
     "output_type": "stream",
     "text": [
      "----------------------------\n",
      "Train_z, Test_z\n",
      "PCA: 0.8327\n",
      "SVD: 0.8301000000000001\n",
      "NetG_fixD, Acc at sample 1 0.8586\n"
     ]
    },
    {
     "name": "stderr",
     "output_type": "stream",
     "text": [
      "extracting all features from dataset: 100%|██████████████████████████████████████████████| 2/2 [00:04<00:00,  2.49s/it]\n",
      "extracting all features from dataset: 100%|██████████████████████████████████████████████| 1/1 [00:01<00:00,  1.66s/it]\n"
     ]
    },
    {
     "name": "stdout",
     "output_type": "stream",
     "text": [
      "----------------------------\n",
      "Train_z, Test_z\n",
      "PCA: 0.8328\n",
      "SVD: 0.8291999999999999\n",
      "NetG_fixD, Acc at sample 2 0.8593\n"
     ]
    },
    {
     "name": "stderr",
     "output_type": "stream",
     "text": [
      "extracting all features from dataset: 100%|██████████████████████████████████████████████| 2/2 [00:05<00:00,  2.55s/it]\n",
      "extracting all features from dataset: 100%|██████████████████████████████████████████████| 1/1 [00:01<00:00,  1.64s/it]\n"
     ]
    },
    {
     "name": "stdout",
     "output_type": "stream",
     "text": [
      "----------------------------\n",
      "Train_z, Test_z\n",
      "PCA: 0.8334\n",
      "SVD: 0.8291999999999999\n",
      "NetG_fixD, Acc at sample 3 0.8583\n"
     ]
    },
    {
     "name": "stderr",
     "output_type": "stream",
     "text": [
      "extracting all features from dataset: 100%|██████████████████████████████████████████████| 2/2 [00:04<00:00,  2.37s/it]\n",
      "extracting all features from dataset: 100%|██████████████████████████████████████████████| 1/1 [00:01<00:00,  1.66s/it]\n"
     ]
    },
    {
     "name": "stdout",
     "output_type": "stream",
     "text": [
      "----------------------------\n",
      "Train_z, Test_z\n",
      "PCA: 0.8335\n",
      "SVD: 0.8293\n",
      "NetG_fixD, Acc at sample 4 0.8595\n"
     ]
    },
    {
     "name": "stderr",
     "output_type": "stream",
     "text": [
      "extracting all features from dataset: 100%|██████████████████████████████████████████████| 2/2 [00:04<00:00,  2.38s/it]\n",
      "extracting all features from dataset: 100%|██████████████████████████████████████████████| 1/1 [00:01<00:00,  1.65s/it]\n"
     ]
    },
    {
     "name": "stdout",
     "output_type": "stream",
     "text": [
      "----------------------------\n",
      "Train_z, Test_z\n",
      "PCA: 0.8336\n",
      "SVD: 0.8302\n",
      "NetG_fixD, Acc at sample 5 0.8584\n"
     ]
    },
    {
     "name": "stderr",
     "output_type": "stream",
     "text": [
      "extracting all features from dataset: 100%|██████████████████████████████████████████████| 2/2 [00:04<00:00,  2.42s/it]\n",
      "extracting all features from dataset: 100%|██████████████████████████████████████████████| 1/1 [00:01<00:00,  1.65s/it]\n"
     ]
    },
    {
     "name": "stdout",
     "output_type": "stream",
     "text": [
      "----------------------------\n",
      "Train_z, Test_z\n",
      "PCA: 0.8331\n",
      "SVD: 0.83\n",
      "NetG_fixD, Acc at sample 6 0.858\n"
     ]
    },
    {
     "name": "stderr",
     "output_type": "stream",
     "text": [
      "extracting all features from dataset: 100%|██████████████████████████████████████████████| 2/2 [00:04<00:00,  2.45s/it]\n",
      "extracting all features from dataset: 100%|██████████████████████████████████████████████| 1/1 [00:01<00:00,  1.65s/it]\n"
     ]
    },
    {
     "name": "stdout",
     "output_type": "stream",
     "text": [
      "----------------------------\n",
      "Train_z, Test_z\n",
      "PCA: 0.8325\n",
      "SVD: 0.829\n",
      "NetG_fixD, Acc at sample 7 0.8587\n"
     ]
    },
    {
     "name": "stderr",
     "output_type": "stream",
     "text": [
      "extracting all features from dataset: 100%|██████████████████████████████████████████████| 2/2 [00:04<00:00,  2.48s/it]\n",
      "extracting all features from dataset: 100%|██████████████████████████████████████████████| 1/1 [00:01<00:00,  1.63s/it]\n"
     ]
    },
    {
     "name": "stdout",
     "output_type": "stream",
     "text": [
      "----------------------------\n",
      "Train_z, Test_z\n",
      "PCA: 0.8331999999999999\n",
      "SVD: 0.8294\n",
      "NetG_fixD, Acc at sample 8 0.859\n"
     ]
    },
    {
     "name": "stderr",
     "output_type": "stream",
     "text": [
      "extracting all features from dataset: 100%|██████████████████████████████████████████████| 2/2 [00:05<00:00,  2.50s/it]\n",
      "extracting all features from dataset: 100%|██████████████████████████████████████████████| 1/1 [00:01<00:00,  1.64s/it]\n"
     ]
    },
    {
     "name": "stdout",
     "output_type": "stream",
     "text": [
      "----------------------------\n",
      "Train_z, Test_z\n",
      "PCA: 0.8331\n",
      "SVD: 0.8286\n",
      "NetG_fixD, Acc at sample 9 0.8581\n"
     ]
    },
    {
     "name": "stderr",
     "output_type": "stream",
     "text": [
      "extracting all features from dataset: 100%|██████████████████████████████████████████████| 2/2 [00:04<00:00,  2.48s/it]\n",
      "extracting all features from dataset: 100%|██████████████████████████████████████████████| 1/1 [00:01<00:00,  1.62s/it]\n"
     ]
    },
    {
     "name": "stdout",
     "output_type": "stream",
     "text": [
      "----------------------------\n",
      "Train_z, Test_z\n",
      "PCA: 0.8331999999999999\n",
      "SVD: 0.8302\n",
      "NetG_fixD, Acc at sample 10 0.8586\n"
     ]
    },
    {
     "name": "stderr",
     "output_type": "stream",
     "text": [
      "extracting all features from dataset: 100%|██████████████████████████████████████████████| 2/2 [00:04<00:00,  2.49s/it]\n",
      "extracting all features from dataset: 100%|██████████████████████████████████████████████| 1/1 [00:01<00:00,  1.63s/it]\n"
     ]
    },
    {
     "name": "stdout",
     "output_type": "stream",
     "text": [
      "----------------------------\n",
      "Train_z, Test_z\n",
      "PCA: 0.8323\n",
      "SVD: 0.8281000000000001\n",
      "NetG_fixD, Acc at sample 11 0.8605\n"
     ]
    },
    {
     "name": "stderr",
     "output_type": "stream",
     "text": [
      "extracting all features from dataset: 100%|██████████████████████████████████████████████| 2/2 [00:04<00:00,  2.40s/it]\n",
      "extracting all features from dataset: 100%|██████████████████████████████████████████████| 1/1 [00:01<00:00,  1.65s/it]\n"
     ]
    },
    {
     "name": "stdout",
     "output_type": "stream",
     "text": [
      "----------------------------\n",
      "Train_z, Test_z\n",
      "PCA: 0.8333\n",
      "SVD: 0.8291999999999999\n",
      "NetG_fixD, Acc at sample 12 0.8592\n"
     ]
    },
    {
     "name": "stderr",
     "output_type": "stream",
     "text": [
      "extracting all features from dataset: 100%|██████████████████████████████████████████████| 2/2 [00:04<00:00,  2.50s/it]\n",
      "extracting all features from dataset: 100%|██████████████████████████████████████████████| 1/1 [00:01<00:00,  1.67s/it]\n"
     ]
    },
    {
     "name": "stdout",
     "output_type": "stream",
     "text": [
      "----------------------------\n",
      "Train_z, Test_z\n",
      "PCA: 0.8331\n",
      "SVD: 0.8293\n",
      "NetG_fixD, Acc at sample 13 0.8584\n"
     ]
    },
    {
     "name": "stderr",
     "output_type": "stream",
     "text": [
      "extracting all features from dataset: 100%|██████████████████████████████████████████████| 2/2 [00:04<00:00,  2.38s/it]\n",
      "extracting all features from dataset: 100%|██████████████████████████████████████████████| 1/1 [00:01<00:00,  1.67s/it]\n"
     ]
    },
    {
     "name": "stdout",
     "output_type": "stream",
     "text": [
      "----------------------------\n",
      "Train_z, Test_z\n",
      "PCA: 0.8322\n",
      "SVD: 0.8277\n",
      "NetG_fixD, Acc at sample 14 0.8584\n"
     ]
    },
    {
     "name": "stderr",
     "output_type": "stream",
     "text": [
      "extracting all features from dataset: 100%|██████████████████████████████████████████████| 2/2 [00:04<00:00,  2.48s/it]\n",
      "extracting all features from dataset: 100%|██████████████████████████████████████████████| 1/1 [00:01<00:00,  1.63s/it]\n"
     ]
    },
    {
     "name": "stdout",
     "output_type": "stream",
     "text": [
      "----------------------------\n",
      "Train_z, Test_z\n",
      "PCA: 0.8333\n",
      "SVD: 0.8298\n",
      "NetG_fixD, Acc at sample 15 0.859\n"
     ]
    },
    {
     "name": "stderr",
     "output_type": "stream",
     "text": [
      "extracting all features from dataset: 100%|██████████████████████████████████████████████| 2/2 [00:04<00:00,  2.46s/it]\n",
      "extracting all features from dataset: 100%|██████████████████████████████████████████████| 1/1 [00:01<00:00,  1.66s/it]\n"
     ]
    },
    {
     "name": "stdout",
     "output_type": "stream",
     "text": [
      "----------------------------\n",
      "Train_z, Test_z\n",
      "PCA: 0.8326\n",
      "SVD: 0.8296\n",
      "NetG_fixD, Acc at sample 16 0.8586\n"
     ]
    },
    {
     "name": "stderr",
     "output_type": "stream",
     "text": [
      "extracting all features from dataset: 100%|██████████████████████████████████████████████| 2/2 [00:04<00:00,  2.48s/it]\n",
      "extracting all features from dataset: 100%|██████████████████████████████████████████████| 1/1 [00:01<00:00,  1.65s/it]\n"
     ]
    },
    {
     "name": "stdout",
     "output_type": "stream",
     "text": [
      "----------------------------\n",
      "Train_z, Test_z\n",
      "PCA: 0.8324\n",
      "SVD: 0.8298\n",
      "NetG_fixD, Acc at sample 17 0.8604\n"
     ]
    },
    {
     "name": "stderr",
     "output_type": "stream",
     "text": [
      "extracting all features from dataset: 100%|██████████████████████████████████████████████| 2/2 [00:05<00:00,  2.52s/it]\n",
      "extracting all features from dataset: 100%|██████████████████████████████████████████████| 1/1 [00:01<00:00,  1.64s/it]\n"
     ]
    },
    {
     "name": "stdout",
     "output_type": "stream",
     "text": [
      "----------------------------\n",
      "Train_z, Test_z\n",
      "PCA: 0.8329\n",
      "SVD: 0.8291999999999999\n",
      "NetG_fixD, Acc at sample 18 0.8589\n"
     ]
    },
    {
     "name": "stderr",
     "output_type": "stream",
     "text": [
      "extracting all features from dataset: 100%|██████████████████████████████████████████████| 2/2 [00:04<00:00,  2.42s/it]\n",
      "extracting all features from dataset: 100%|██████████████████████████████████████████████| 1/1 [00:01<00:00,  1.65s/it]\n"
     ]
    },
    {
     "name": "stdout",
     "output_type": "stream",
     "text": [
      "----------------------------\n",
      "Train_z, Test_z\n",
      "PCA: 0.833\n",
      "SVD: 0.8294\n",
      "NetG_fixD, Acc at sample 19 0.8587\n"
     ]
    },
    {
     "name": "stderr",
     "output_type": "stream",
     "text": [
      "extracting all features from dataset: 100%|██████████████████████████████████████████████| 2/2 [00:04<00:00,  2.38s/it]\n",
      "extracting all features from dataset: 100%|██████████████████████████████████████████████| 1/1 [00:01<00:00,  1.67s/it]\n"
     ]
    },
    {
     "name": "stdout",
     "output_type": "stream",
     "text": [
      "----------------------------\n",
      "Train_z, Test_z\n",
      "PCA: 0.8325\n",
      "SVD: 0.8288\n",
      "NetG_fixD, Acc at sample 20 0.8598\n",
      "0.8605 0.858 0.85892 4.5760000000000955e-07\n"
     ]
    }
   ],
   "source": [
    "# sample 20 times of NetG at final radius, NetD is fixed, length 0.1,0.2,0.5,1,2,4,6,8,10,15,20\n",
    "from sklearn.neighbors import KNeighborsClassifier \n",
    "Acc_results_G_sample = []\n",
    "for _ in range(sample_num):\n",
    "    #acc at first\n",
    "    net_noise = get_noise(DATASET, device, LABEL)\n",
    "    fed_state_dict = get_netG(netD,netV,net_noise,r_list[1])\n",
    "    netG.load_state_dict(fed_state_dict)\n",
    "    \n",
    "    train_X, train_Z, train_X_bar, train_Z_bar, train_labels = extract_features2(trainloader, netG, netD)\n",
    "\n",
    "    test_X, test_Z, test_X_bar, test_Z_bar, test_labels = extract_features2(testloader, netG, netD)\n",
    "\n",
    "    print(\"----------------------------\")\n",
    "    print(\"Train_z, Test_z\")\n",
    "    nearsub(n_comp, train_Z, train_labels, test_Z, test_labels)\n",
    "\n",
    "    knn= KNeighborsClassifier(n_neighbors=10) \n",
    "\n",
    "    knn.fit(train_Z,train_labels) \n",
    "    knn.score(test_Z_bar,test_labels) \n",
    "\n",
    "    y_predict = knn.predict(test_Z_bar) \n",
    "\n",
    "    count =0\n",
    "    for k in range(10000):\n",
    "        if y_predict[k] == test_labels[k]:\n",
    "            count +=1\n",
    "    print('NetG_fixD, Acc at sample',_+1,count/10000)\n",
    "    Acc_results_G_sample.append(count/10000)\n",
    "    \n",
    "print(max(Acc_results_G_sample),min(Acc_results_G_sample),np.mean(Acc_results_G_sample),np.var(Acc_results_G_sample))"
   ]
  },
  {
   "cell_type": "code",
   "execution_count": 13,
   "id": "05bfe135",
   "metadata": {},
   "outputs": [
    {
     "name": "stderr",
     "output_type": "stream",
     "text": [
      "extracting all features from dataset: 100%|██████████████████████████████████████████████| 2/2 [00:04<00:00,  2.45s/it]\n",
      "extracting all features from dataset: 100%|██████████████████████████████████████████████| 1/1 [00:01<00:00,  1.64s/it]\n"
     ]
    },
    {
     "name": "stdout",
     "output_type": "stream",
     "text": [
      "----------------------------\n",
      "Train_z, Test_z\n",
      "PCA: 0.8337\n",
      "SVD: 0.8304\n",
      "NetG_fixD, Acc at sample 1 0.8599\n"
     ]
    },
    {
     "name": "stderr",
     "output_type": "stream",
     "text": [
      "extracting all features from dataset: 100%|██████████████████████████████████████████████| 2/2 [00:04<00:00,  2.39s/it]\n",
      "extracting all features from dataset: 100%|██████████████████████████████████████████████| 1/1 [00:01<00:00,  1.66s/it]\n"
     ]
    },
    {
     "name": "stdout",
     "output_type": "stream",
     "text": [
      "----------------------------\n",
      "Train_z, Test_z\n",
      "PCA: 0.8342\n",
      "SVD: 0.8303\n",
      "NetG_fixD, Acc at sample 2 0.8584\n"
     ]
    },
    {
     "name": "stderr",
     "output_type": "stream",
     "text": [
      "extracting all features from dataset: 100%|██████████████████████████████████████████████| 2/2 [00:04<00:00,  2.45s/it]\n",
      "extracting all features from dataset: 100%|██████████████████████████████████████████████| 1/1 [00:01<00:00,  1.64s/it]\n"
     ]
    },
    {
     "name": "stdout",
     "output_type": "stream",
     "text": [
      "----------------------------\n",
      "Train_z, Test_z\n",
      "PCA: 0.8331\n",
      "SVD: 0.8296\n",
      "NetG_fixD, Acc at sample 3 0.8587\n"
     ]
    },
    {
     "name": "stderr",
     "output_type": "stream",
     "text": [
      "extracting all features from dataset: 100%|██████████████████████████████████████████████| 2/2 [00:05<00:00,  2.56s/it]\n",
      "extracting all features from dataset: 100%|██████████████████████████████████████████████| 1/1 [00:01<00:00,  1.65s/it]\n"
     ]
    },
    {
     "name": "stdout",
     "output_type": "stream",
     "text": [
      "----------------------------\n",
      "Train_z, Test_z\n",
      "PCA: 0.8326\n",
      "SVD: 0.8289\n",
      "NetG_fixD, Acc at sample 4 0.8585\n"
     ]
    },
    {
     "name": "stderr",
     "output_type": "stream",
     "text": [
      "extracting all features from dataset: 100%|██████████████████████████████████████████████| 2/2 [00:04<00:00,  2.41s/it]\n",
      "extracting all features from dataset: 100%|██████████████████████████████████████████████| 1/1 [00:01<00:00,  1.64s/it]\n"
     ]
    },
    {
     "name": "stdout",
     "output_type": "stream",
     "text": [
      "----------------------------\n",
      "Train_z, Test_z\n",
      "PCA: 0.833\n",
      "SVD: 0.8299\n",
      "NetG_fixD, Acc at sample 5 0.8579\n"
     ]
    },
    {
     "name": "stderr",
     "output_type": "stream",
     "text": [
      "extracting all features from dataset: 100%|██████████████████████████████████████████████| 2/2 [00:05<00:00,  2.51s/it]\n",
      "extracting all features from dataset: 100%|██████████████████████████████████████████████| 1/1 [00:01<00:00,  1.64s/it]\n"
     ]
    },
    {
     "name": "stdout",
     "output_type": "stream",
     "text": [
      "----------------------------\n",
      "Train_z, Test_z\n",
      "PCA: 0.8328\n",
      "SVD: 0.8294\n",
      "NetG_fixD, Acc at sample 6 0.8577\n"
     ]
    },
    {
     "name": "stderr",
     "output_type": "stream",
     "text": [
      "extracting all features from dataset: 100%|██████████████████████████████████████████████| 2/2 [00:04<00:00,  2.43s/it]\n",
      "extracting all features from dataset: 100%|██████████████████████████████████████████████| 1/1 [00:01<00:00,  1.66s/it]\n"
     ]
    },
    {
     "name": "stdout",
     "output_type": "stream",
     "text": [
      "----------------------------\n",
      "Train_z, Test_z\n",
      "PCA: 0.8329\n",
      "SVD: 0.8297\n",
      "NetG_fixD, Acc at sample 7 0.8571\n"
     ]
    },
    {
     "name": "stderr",
     "output_type": "stream",
     "text": [
      "extracting all features from dataset: 100%|██████████████████████████████████████████████| 2/2 [00:05<00:00,  2.52s/it]\n",
      "extracting all features from dataset: 100%|██████████████████████████████████████████████| 1/1 [00:01<00:00,  1.64s/it]\n"
     ]
    },
    {
     "name": "stdout",
     "output_type": "stream",
     "text": [
      "----------------------------\n",
      "Train_z, Test_z\n",
      "PCA: 0.833\n",
      "SVD: 0.8291999999999999\n",
      "NetG_fixD, Acc at sample 8 0.8577\n"
     ]
    },
    {
     "name": "stderr",
     "output_type": "stream",
     "text": [
      "extracting all features from dataset: 100%|██████████████████████████████████████████████| 2/2 [00:05<00:00,  2.55s/it]\n",
      "extracting all features from dataset: 100%|██████████████████████████████████████████████| 1/1 [00:01<00:00,  1.61s/it]\n"
     ]
    },
    {
     "name": "stdout",
     "output_type": "stream",
     "text": [
      "----------------------------\n",
      "Train_z, Test_z\n",
      "PCA: 0.8327\n",
      "SVD: 0.8296\n",
      "NetG_fixD, Acc at sample 9 0.858\n"
     ]
    },
    {
     "name": "stderr",
     "output_type": "stream",
     "text": [
      "extracting all features from dataset: 100%|██████████████████████████████████████████████| 2/2 [00:04<00:00,  2.49s/it]\n",
      "extracting all features from dataset: 100%|██████████████████████████████████████████████| 1/1 [00:01<00:00,  1.66s/it]\n"
     ]
    },
    {
     "name": "stdout",
     "output_type": "stream",
     "text": [
      "----------------------------\n",
      "Train_z, Test_z\n",
      "PCA: 0.833\n",
      "SVD: 0.8298\n",
      "NetG_fixD, Acc at sample 10 0.8576\n"
     ]
    },
    {
     "name": "stderr",
     "output_type": "stream",
     "text": [
      "extracting all features from dataset: 100%|██████████████████████████████████████████████| 2/2 [00:05<00:00,  2.56s/it]\n",
      "extracting all features from dataset: 100%|██████████████████████████████████████████████| 1/1 [00:01<00:00,  1.65s/it]\n"
     ]
    },
    {
     "name": "stdout",
     "output_type": "stream",
     "text": [
      "----------------------------\n",
      "Train_z, Test_z\n",
      "PCA: 0.8324\n",
      "SVD: 0.8294\n",
      "NetG_fixD, Acc at sample 11 0.8589\n"
     ]
    },
    {
     "name": "stderr",
     "output_type": "stream",
     "text": [
      "extracting all features from dataset: 100%|██████████████████████████████████████████████| 2/2 [00:05<00:00,  2.51s/it]\n",
      "extracting all features from dataset: 100%|██████████████████████████████████████████████| 1/1 [00:01<00:00,  1.63s/it]\n"
     ]
    },
    {
     "name": "stdout",
     "output_type": "stream",
     "text": [
      "----------------------------\n",
      "Train_z, Test_z\n",
      "PCA: 0.8328\n",
      "SVD: 0.8288\n",
      "NetG_fixD, Acc at sample 12 0.8594\n"
     ]
    },
    {
     "name": "stderr",
     "output_type": "stream",
     "text": [
      "extracting all features from dataset: 100%|██████████████████████████████████████████████| 2/2 [00:04<00:00,  2.43s/it]\n",
      "extracting all features from dataset: 100%|██████████████████████████████████████████████| 1/1 [00:01<00:00,  1.64s/it]\n"
     ]
    },
    {
     "name": "stdout",
     "output_type": "stream",
     "text": [
      "----------------------------\n",
      "Train_z, Test_z\n",
      "PCA: 0.8328\n",
      "SVD: 0.8293\n",
      "NetG_fixD, Acc at sample 13 0.8579\n"
     ]
    },
    {
     "name": "stderr",
     "output_type": "stream",
     "text": [
      "extracting all features from dataset: 100%|██████████████████████████████████████████████| 2/2 [00:05<00:00,  2.53s/it]\n",
      "extracting all features from dataset: 100%|██████████████████████████████████████████████| 1/1 [00:01<00:00,  1.62s/it]\n"
     ]
    },
    {
     "name": "stdout",
     "output_type": "stream",
     "text": [
      "----------------------------\n",
      "Train_z, Test_z\n",
      "PCA: 0.8333\n",
      "SVD: 0.8296\n",
      "NetG_fixD, Acc at sample 14 0.8584\n"
     ]
    },
    {
     "name": "stderr",
     "output_type": "stream",
     "text": [
      "extracting all features from dataset: 100%|██████████████████████████████████████████████| 2/2 [00:05<00:00,  2.51s/it]\n",
      "extracting all features from dataset: 100%|██████████████████████████████████████████████| 1/1 [00:01<00:00,  1.65s/it]\n"
     ]
    },
    {
     "name": "stdout",
     "output_type": "stream",
     "text": [
      "----------------------------\n",
      "Train_z, Test_z\n",
      "PCA: 0.8331999999999999\n",
      "SVD: 0.8301000000000001\n",
      "NetG_fixD, Acc at sample 15 0.8585\n"
     ]
    },
    {
     "name": "stderr",
     "output_type": "stream",
     "text": [
      "extracting all features from dataset: 100%|██████████████████████████████████████████████| 2/2 [00:04<00:00,  2.44s/it]\n",
      "extracting all features from dataset: 100%|██████████████████████████████████████████████| 1/1 [00:01<00:00,  1.64s/it]\n"
     ]
    },
    {
     "name": "stdout",
     "output_type": "stream",
     "text": [
      "----------------------------\n",
      "Train_z, Test_z\n",
      "PCA: 0.8311\n",
      "SVD: 0.8283\n",
      "NetG_fixD, Acc at sample 16 0.8582\n"
     ]
    },
    {
     "name": "stderr",
     "output_type": "stream",
     "text": [
      "extracting all features from dataset: 100%|██████████████████████████████████████████████| 2/2 [00:05<00:00,  2.53s/it]\n",
      "extracting all features from dataset: 100%|██████████████████████████████████████████████| 1/1 [00:01<00:00,  1.67s/it]\n"
     ]
    },
    {
     "name": "stdout",
     "output_type": "stream",
     "text": [
      "----------------------------\n",
      "Train_z, Test_z\n",
      "PCA: 0.8333\n",
      "SVD: 0.83\n",
      "NetG_fixD, Acc at sample 17 0.8582\n"
     ]
    },
    {
     "name": "stderr",
     "output_type": "stream",
     "text": [
      "extracting all features from dataset: 100%|██████████████████████████████████████████████| 2/2 [00:04<00:00,  2.48s/it]\n",
      "extracting all features from dataset: 100%|██████████████████████████████████████████████| 1/1 [00:01<00:00,  1.62s/it]\n"
     ]
    },
    {
     "name": "stdout",
     "output_type": "stream",
     "text": [
      "----------------------------\n",
      "Train_z, Test_z\n",
      "PCA: 0.8323\n",
      "SVD: 0.8295\n",
      "NetG_fixD, Acc at sample 18 0.8585\n"
     ]
    },
    {
     "name": "stderr",
     "output_type": "stream",
     "text": [
      "extracting all features from dataset: 100%|██████████████████████████████████████████████| 2/2 [00:04<00:00,  2.40s/it]\n",
      "extracting all features from dataset: 100%|██████████████████████████████████████████████| 1/1 [00:01<00:00,  1.62s/it]\n"
     ]
    },
    {
     "name": "stdout",
     "output_type": "stream",
     "text": [
      "----------------------------\n",
      "Train_z, Test_z\n",
      "PCA: 0.833\n",
      "SVD: 0.8291\n",
      "NetG_fixD, Acc at sample 19 0.8577\n"
     ]
    },
    {
     "name": "stderr",
     "output_type": "stream",
     "text": [
      "extracting all features from dataset: 100%|██████████████████████████████████████████████| 2/2 [00:05<00:00,  2.50s/it]\n",
      "extracting all features from dataset: 100%|██████████████████████████████████████████████| 1/1 [00:01<00:00,  1.66s/it]\n"
     ]
    },
    {
     "name": "stdout",
     "output_type": "stream",
     "text": [
      "----------------------------\n",
      "Train_z, Test_z\n",
      "PCA: 0.8341000000000001\n",
      "SVD: 0.8302\n",
      "NetG_fixD, Acc at sample 20 0.8581\n",
      "0.8599 0.8571 0.8582650000000001 3.942750000000103e-07\n"
     ]
    }
   ],
   "source": [
    "# sample 20 times of NetG at final radius, NetD is fixed\n",
    "from sklearn.neighbors import KNeighborsClassifier \n",
    "Acc_results_G_sample2 = []\n",
    "\n",
    "for _ in range(sample_num):\n",
    "    #acc at first\n",
    "    net_noise = get_noise(DATASET, device, LABEL)\n",
    "    fed_state_dict = get_netG(netD,netV,net_noise,r_list[2])\n",
    "    netG.load_state_dict(fed_state_dict)\n",
    "    \n",
    "    train_X, train_Z, train_X_bar, train_Z_bar, train_labels = extract_features2(trainloader, netG, netD)\n",
    "\n",
    "    test_X, test_Z, test_X_bar, test_Z_bar, test_labels = extract_features2(testloader, netG, netD)\n",
    "\n",
    "    print(\"----------------------------\")\n",
    "    print(\"Train_z, Test_z\")\n",
    "    nearsub(n_comp, train_Z, train_labels, test_Z, test_labels)\n",
    "\n",
    "    knn= KNeighborsClassifier(n_neighbors=10) \n",
    "\n",
    "    knn.fit(train_Z,train_labels) \n",
    "    knn.score(test_Z_bar,test_labels) \n",
    "\n",
    "    y_predict = knn.predict(test_Z_bar) \n",
    "\n",
    "    count =0\n",
    "    for k in range(10000):\n",
    "        if y_predict[k] == test_labels[k]:\n",
    "            count +=1\n",
    "    print('NetG_fixD, Acc at sample',_+1,count/10000)\n",
    "    Acc_results_G_sample2.append(count/10000)\n",
    "    \n",
    "print(max(Acc_results_G_sample2),min(Acc_results_G_sample2),np.mean(Acc_results_G_sample2),np.var(Acc_results_G_sample2))"
   ]
  },
  {
   "cell_type": "code",
   "execution_count": 14,
   "id": "1daf6e7b",
   "metadata": {},
   "outputs": [
    {
     "name": "stderr",
     "output_type": "stream",
     "text": [
      "extracting all features from dataset: 100%|██████████████████████████████████████████████| 2/2 [00:05<00:00,  2.52s/it]\n",
      "extracting all features from dataset: 100%|██████████████████████████████████████████████| 1/1 [00:01<00:00,  1.67s/it]\n"
     ]
    },
    {
     "name": "stdout",
     "output_type": "stream",
     "text": [
      "----------------------------\n",
      "Train_z, Test_z\n",
      "PCA: 0.8326\n",
      "SVD: 0.8301000000000001\n",
      "NetG_fixD, Acc at sample 1 0.8568\n"
     ]
    },
    {
     "name": "stderr",
     "output_type": "stream",
     "text": [
      "extracting all features from dataset: 100%|██████████████████████████████████████████████| 2/2 [00:04<00:00,  2.50s/it]\n",
      "extracting all features from dataset: 100%|██████████████████████████████████████████████| 1/1 [00:01<00:00,  1.69s/it]\n"
     ]
    },
    {
     "name": "stdout",
     "output_type": "stream",
     "text": [
      "----------------------------\n",
      "Train_z, Test_z\n",
      "PCA: 0.8296\n",
      "SVD: 0.8269\n",
      "NetG_fixD, Acc at sample 2 0.8569\n"
     ]
    },
    {
     "name": "stderr",
     "output_type": "stream",
     "text": [
      "extracting all features from dataset: 100%|██████████████████████████████████████████████| 2/2 [00:05<00:00,  2.50s/it]\n",
      "extracting all features from dataset: 100%|██████████████████████████████████████████████| 1/1 [00:01<00:00,  1.65s/it]\n"
     ]
    },
    {
     "name": "stdout",
     "output_type": "stream",
     "text": [
      "----------------------------\n",
      "Train_z, Test_z\n",
      "PCA: 0.8337\n",
      "SVD: 0.8309\n",
      "NetG_fixD, Acc at sample 3 0.858\n"
     ]
    },
    {
     "name": "stderr",
     "output_type": "stream",
     "text": [
      "extracting all features from dataset: 100%|██████████████████████████████████████████████| 2/2 [00:04<00:00,  2.46s/it]\n",
      "extracting all features from dataset: 100%|██████████████████████████████████████████████| 1/1 [00:01<00:00,  1.66s/it]\n"
     ]
    },
    {
     "name": "stdout",
     "output_type": "stream",
     "text": [
      "----------------------------\n",
      "Train_z, Test_z\n",
      "PCA: 0.8324\n",
      "SVD: 0.8296\n",
      "NetG_fixD, Acc at sample 4 0.8569\n"
     ]
    },
    {
     "name": "stderr",
     "output_type": "stream",
     "text": [
      "extracting all features from dataset: 100%|██████████████████████████████████████████████| 2/2 [00:05<00:00,  2.53s/it]\n",
      "extracting all features from dataset: 100%|██████████████████████████████████████████████| 1/1 [00:01<00:00,  1.65s/it]\n"
     ]
    },
    {
     "name": "stdout",
     "output_type": "stream",
     "text": [
      "----------------------------\n",
      "Train_z, Test_z\n",
      "PCA: 0.8327\n",
      "SVD: 0.8265\n",
      "NetG_fixD, Acc at sample 5 0.8569\n"
     ]
    },
    {
     "name": "stderr",
     "output_type": "stream",
     "text": [
      "extracting all features from dataset: 100%|██████████████████████████████████████████████| 2/2 [00:04<00:00,  2.40s/it]\n",
      "extracting all features from dataset: 100%|██████████████████████████████████████████████| 1/1 [00:01<00:00,  1.65s/it]\n"
     ]
    },
    {
     "name": "stdout",
     "output_type": "stream",
     "text": [
      "----------------------------\n",
      "Train_z, Test_z\n",
      "PCA: 0.8322\n",
      "SVD: 0.8289\n",
      "NetG_fixD, Acc at sample 6 0.8581\n"
     ]
    },
    {
     "name": "stderr",
     "output_type": "stream",
     "text": [
      "extracting all features from dataset: 100%|██████████████████████████████████████████████| 2/2 [00:04<00:00,  2.48s/it]\n",
      "extracting all features from dataset: 100%|██████████████████████████████████████████████| 1/1 [00:01<00:00,  1.64s/it]\n"
     ]
    },
    {
     "name": "stdout",
     "output_type": "stream",
     "text": [
      "----------------------------\n",
      "Train_z, Test_z\n",
      "PCA: 0.8341000000000001\n",
      "SVD: 0.8297\n",
      "NetG_fixD, Acc at sample 7 0.8573\n"
     ]
    },
    {
     "name": "stderr",
     "output_type": "stream",
     "text": [
      "extracting all features from dataset: 100%|██████████████████████████████████████████████| 2/2 [00:04<00:00,  2.50s/it]\n",
      "extracting all features from dataset: 100%|██████████████████████████████████████████████| 1/1 [00:01<00:00,  1.64s/it]\n"
     ]
    },
    {
     "name": "stdout",
     "output_type": "stream",
     "text": [
      "----------------------------\n",
      "Train_z, Test_z\n",
      "PCA: 0.8307\n",
      "SVD: 0.8279\n",
      "NetG_fixD, Acc at sample 8 0.8559\n"
     ]
    },
    {
     "name": "stderr",
     "output_type": "stream",
     "text": [
      "extracting all features from dataset: 100%|██████████████████████████████████████████████| 2/2 [00:04<00:00,  2.43s/it]\n",
      "extracting all features from dataset: 100%|██████████████████████████████████████████████| 1/1 [00:01<00:00,  1.66s/it]\n"
     ]
    },
    {
     "name": "stdout",
     "output_type": "stream",
     "text": [
      "----------------------------\n",
      "Train_z, Test_z\n",
      "PCA: 0.8333\n",
      "SVD: 0.8301000000000001\n",
      "NetG_fixD, Acc at sample 9 0.8578\n"
     ]
    },
    {
     "name": "stderr",
     "output_type": "stream",
     "text": [
      "extracting all features from dataset: 100%|██████████████████████████████████████████████| 2/2 [00:04<00:00,  2.42s/it]\n",
      "extracting all features from dataset: 100%|██████████████████████████████████████████████| 1/1 [00:01<00:00,  1.63s/it]\n"
     ]
    },
    {
     "name": "stdout",
     "output_type": "stream",
     "text": [
      "----------------------------\n",
      "Train_z, Test_z\n",
      "PCA: 0.8331999999999999\n",
      "SVD: 0.8293\n",
      "NetG_fixD, Acc at sample 10 0.8574\n"
     ]
    },
    {
     "name": "stderr",
     "output_type": "stream",
     "text": [
      "extracting all features from dataset: 100%|██████████████████████████████████████████████| 2/2 [00:04<00:00,  2.48s/it]\n",
      "extracting all features from dataset: 100%|██████████████████████████████████████████████| 1/1 [00:01<00:00,  1.64s/it]\n"
     ]
    },
    {
     "name": "stdout",
     "output_type": "stream",
     "text": [
      "----------------------------\n",
      "Train_z, Test_z\n",
      "PCA: 0.8314\n",
      "SVD: 0.8288\n",
      "NetG_fixD, Acc at sample 11 0.8573\n"
     ]
    },
    {
     "name": "stderr",
     "output_type": "stream",
     "text": [
      "extracting all features from dataset: 100%|██████████████████████████████████████████████| 2/2 [00:05<00:00,  2.54s/it]\n",
      "extracting all features from dataset: 100%|██████████████████████████████████████████████| 1/1 [00:01<00:00,  1.66s/it]\n"
     ]
    },
    {
     "name": "stdout",
     "output_type": "stream",
     "text": [
      "----------------------------\n",
      "Train_z, Test_z\n",
      "PCA: 0.831\n",
      "SVD: 0.8285\n",
      "NetG_fixD, Acc at sample 12 0.8568\n"
     ]
    },
    {
     "name": "stderr",
     "output_type": "stream",
     "text": [
      "extracting all features from dataset: 100%|██████████████████████████████████████████████| 2/2 [00:04<00:00,  2.39s/it]\n",
      "extracting all features from dataset: 100%|██████████████████████████████████████████████| 1/1 [00:01<00:00,  1.63s/it]\n"
     ]
    },
    {
     "name": "stdout",
     "output_type": "stream",
     "text": [
      "----------------------------\n",
      "Train_z, Test_z\n",
      "PCA: 0.8323\n",
      "SVD: 0.8305\n",
      "NetG_fixD, Acc at sample 13 0.8566\n"
     ]
    },
    {
     "name": "stderr",
     "output_type": "stream",
     "text": [
      "extracting all features from dataset: 100%|██████████████████████████████████████████████| 2/2 [00:04<00:00,  2.50s/it]\n",
      "extracting all features from dataset: 100%|██████████████████████████████████████████████| 1/1 [00:01<00:00,  1.64s/it]\n"
     ]
    },
    {
     "name": "stdout",
     "output_type": "stream",
     "text": [
      "----------------------------\n",
      "Train_z, Test_z\n",
      "PCA: 0.8325\n",
      "SVD: 0.8289\n",
      "NetG_fixD, Acc at sample 14 0.8566\n"
     ]
    },
    {
     "name": "stderr",
     "output_type": "stream",
     "text": [
      "extracting all features from dataset: 100%|██████████████████████████████████████████████| 2/2 [00:04<00:00,  2.40s/it]\n",
      "extracting all features from dataset: 100%|██████████████████████████████████████████████| 1/1 [00:01<00:00,  1.65s/it]\n"
     ]
    },
    {
     "name": "stdout",
     "output_type": "stream",
     "text": [
      "----------------------------\n",
      "Train_z, Test_z\n",
      "PCA: 0.8333\n",
      "SVD: 0.8288\n",
      "NetG_fixD, Acc at sample 15 0.8541\n"
     ]
    },
    {
     "name": "stderr",
     "output_type": "stream",
     "text": [
      "extracting all features from dataset: 100%|██████████████████████████████████████████████| 2/2 [00:04<00:00,  2.49s/it]\n",
      "extracting all features from dataset: 100%|██████████████████████████████████████████████| 1/1 [00:01<00:00,  1.61s/it]\n"
     ]
    },
    {
     "name": "stdout",
     "output_type": "stream",
     "text": [
      "----------------------------\n",
      "Train_z, Test_z\n",
      "PCA: 0.8333\n",
      "SVD: 0.8305\n",
      "NetG_fixD, Acc at sample 16 0.8581\n"
     ]
    },
    {
     "name": "stderr",
     "output_type": "stream",
     "text": [
      "extracting all features from dataset: 100%|██████████████████████████████████████████████| 2/2 [00:05<00:00,  2.57s/it]\n",
      "extracting all features from dataset: 100%|██████████████████████████████████████████████| 1/1 [00:01<00:00,  1.62s/it]\n"
     ]
    },
    {
     "name": "stdout",
     "output_type": "stream",
     "text": [
      "----------------------------\n",
      "Train_z, Test_z\n",
      "PCA: 0.8333\n",
      "SVD: 0.8294\n",
      "NetG_fixD, Acc at sample 17 0.856\n"
     ]
    },
    {
     "name": "stderr",
     "output_type": "stream",
     "text": [
      "extracting all features from dataset: 100%|██████████████████████████████████████████████| 2/2 [00:04<00:00,  2.46s/it]\n",
      "extracting all features from dataset: 100%|██████████████████████████████████████████████| 1/1 [00:01<00:00,  1.66s/it]\n"
     ]
    },
    {
     "name": "stdout",
     "output_type": "stream",
     "text": [
      "----------------------------\n",
      "Train_z, Test_z\n",
      "PCA: 0.8319\n",
      "SVD: 0.8282\n",
      "NetG_fixD, Acc at sample 18 0.8558\n"
     ]
    },
    {
     "name": "stderr",
     "output_type": "stream",
     "text": [
      "extracting all features from dataset: 100%|██████████████████████████████████████████████| 2/2 [00:04<00:00,  2.45s/it]\n",
      "extracting all features from dataset: 100%|██████████████████████████████████████████████| 1/1 [00:01<00:00,  1.63s/it]\n"
     ]
    },
    {
     "name": "stdout",
     "output_type": "stream",
     "text": [
      "----------------------------\n",
      "Train_z, Test_z\n",
      "PCA: 0.8315\n",
      "SVD: 0.8282\n",
      "NetG_fixD, Acc at sample 19 0.8577\n"
     ]
    },
    {
     "name": "stderr",
     "output_type": "stream",
     "text": [
      "extracting all features from dataset: 100%|██████████████████████████████████████████████| 2/2 [00:04<00:00,  2.46s/it]\n",
      "extracting all features from dataset: 100%|██████████████████████████████████████████████| 1/1 [00:01<00:00,  1.66s/it]\n"
     ]
    },
    {
     "name": "stdout",
     "output_type": "stream",
     "text": [
      "----------------------------\n",
      "Train_z, Test_z\n",
      "PCA: 0.8323\n",
      "SVD: 0.8291999999999999\n",
      "NetG_fixD, Acc at sample 20 0.8563\n",
      "0.8581 0.8541 0.8568650000000002 8.752750000000034e-07\n"
     ]
    }
   ],
   "source": [
    "# sample 50 times of NetG at final radius, NetD is fixed\n",
    "from sklearn.neighbors import KNeighborsClassifier \n",
    "Acc_results_G_sample3 = []\n",
    "\n",
    "for _ in range(sample_num):\n",
    "    #acc at first\n",
    "    net_noise = get_noise(DATASET, device, LABEL)\n",
    "    fed_state_dict = get_netG(netD,netV,net_noise,r_list[3])\n",
    "    netG.load_state_dict(fed_state_dict)\n",
    "    \n",
    "    train_X, train_Z, train_X_bar, train_Z_bar, train_labels = extract_features2(trainloader, netG, netD)\n",
    "\n",
    "    test_X, test_Z, test_X_bar, test_Z_bar, test_labels = extract_features2(testloader, netG, netD)\n",
    "\n",
    "    print(\"----------------------------\")\n",
    "    print(\"Train_z, Test_z\")\n",
    "    nearsub(n_comp, train_Z, train_labels, test_Z, test_labels)\n",
    "\n",
    "    knn= KNeighborsClassifier(n_neighbors=10) \n",
    "\n",
    "    knn.fit(train_Z,train_labels) \n",
    "    knn.score(test_Z_bar,test_labels) \n",
    "\n",
    "    y_predict = knn.predict(test_Z_bar) \n",
    "\n",
    "    count =0\n",
    "    for k in range(10000):\n",
    "        if y_predict[k] == test_labels[k]:\n",
    "            count +=1\n",
    "    print('NetG_fixD, Acc at sample',_+1,count/10000)\n",
    "    Acc_results_G_sample3.append(count/10000)\n",
    "    \n",
    "print(max(Acc_results_G_sample3),min(Acc_results_G_sample3),np.mean(Acc_results_G_sample3),np.var(Acc_results_G_sample3))"
   ]
  },
  {
   "cell_type": "code",
   "execution_count": 15,
   "id": "c66ccac4",
   "metadata": {},
   "outputs": [
    {
     "name": "stderr",
     "output_type": "stream",
     "text": [
      "extracting all features from dataset: 100%|██████████████████████████████████████████████| 2/2 [00:04<00:00,  2.49s/it]\n",
      "extracting all features from dataset: 100%|██████████████████████████████████████████████| 1/1 [00:01<00:00,  1.66s/it]\n"
     ]
    },
    {
     "name": "stdout",
     "output_type": "stream",
     "text": [
      "----------------------------\n",
      "Train_z, Test_z\n",
      "PCA: 0.8325\n",
      "SVD: 0.8281000000000001\n",
      "NetG_fixD, Acc at sample 1 0.8547\n"
     ]
    },
    {
     "name": "stderr",
     "output_type": "stream",
     "text": [
      "extracting all features from dataset: 100%|██████████████████████████████████████████████| 2/2 [00:04<00:00,  2.37s/it]\n",
      "extracting all features from dataset: 100%|██████████████████████████████████████████████| 1/1 [00:01<00:00,  1.64s/it]\n"
     ]
    },
    {
     "name": "stdout",
     "output_type": "stream",
     "text": [
      "----------------------------\n",
      "Train_z, Test_z\n",
      "PCA: 0.8299\n",
      "SVD: 0.8269\n",
      "NetG_fixD, Acc at sample 2 0.8546\n"
     ]
    },
    {
     "name": "stderr",
     "output_type": "stream",
     "text": [
      "extracting all features from dataset: 100%|██████████████████████████████████████████████| 2/2 [00:04<00:00,  2.45s/it]\n",
      "extracting all features from dataset: 100%|██████████████████████████████████████████████| 1/1 [00:01<00:00,  1.65s/it]\n"
     ]
    },
    {
     "name": "stdout",
     "output_type": "stream",
     "text": [
      "----------------------------\n",
      "Train_z, Test_z\n",
      "PCA: 0.8291999999999999\n",
      "SVD: 0.8264\n",
      "NetG_fixD, Acc at sample 3 0.8542\n"
     ]
    },
    {
     "name": "stderr",
     "output_type": "stream",
     "text": [
      "extracting all features from dataset: 100%|██████████████████████████████████████████████| 2/2 [00:04<00:00,  2.48s/it]\n",
      "extracting all features from dataset: 100%|██████████████████████████████████████████████| 1/1 [00:01<00:00,  1.66s/it]\n"
     ]
    },
    {
     "name": "stdout",
     "output_type": "stream",
     "text": [
      "----------------------------\n",
      "Train_z, Test_z\n",
      "PCA: 0.8321000000000001\n",
      "SVD: 0.8273\n",
      "NetG_fixD, Acc at sample 4 0.8545\n"
     ]
    },
    {
     "name": "stderr",
     "output_type": "stream",
     "text": [
      "extracting all features from dataset: 100%|██████████████████████████████████████████████| 2/2 [00:04<00:00,  2.42s/it]\n",
      "extracting all features from dataset: 100%|██████████████████████████████████████████████| 1/1 [00:01<00:00,  1.64s/it]\n"
     ]
    },
    {
     "name": "stdout",
     "output_type": "stream",
     "text": [
      "----------------------------\n",
      "Train_z, Test_z\n",
      "PCA: 0.8314\n",
      "SVD: 0.8260000000000001\n",
      "NetG_fixD, Acc at sample 5 0.8547\n"
     ]
    },
    {
     "name": "stderr",
     "output_type": "stream",
     "text": [
      "extracting all features from dataset: 100%|██████████████████████████████████████████████| 2/2 [00:05<00:00,  2.53s/it]\n",
      "extracting all features from dataset: 100%|██████████████████████████████████████████████| 1/1 [00:01<00:00,  1.64s/it]\n"
     ]
    },
    {
     "name": "stdout",
     "output_type": "stream",
     "text": [
      "----------------------------\n",
      "Train_z, Test_z\n",
      "PCA: 0.8303\n",
      "SVD: 0.8281000000000001\n",
      "NetG_fixD, Acc at sample 6 0.8547\n"
     ]
    },
    {
     "name": "stderr",
     "output_type": "stream",
     "text": [
      "extracting all features from dataset: 100%|██████████████████████████████████████████████| 2/2 [00:04<00:00,  2.44s/it]\n",
      "extracting all features from dataset: 100%|██████████████████████████████████████████████| 1/1 [00:01<00:00,  1.65s/it]\n"
     ]
    },
    {
     "name": "stdout",
     "output_type": "stream",
     "text": [
      "----------------------------\n",
      "Train_z, Test_z\n",
      "PCA: 0.8311\n",
      "SVD: 0.8282\n",
      "NetG_fixD, Acc at sample 7 0.8545\n"
     ]
    },
    {
     "name": "stderr",
     "output_type": "stream",
     "text": [
      "extracting all features from dataset: 100%|██████████████████████████████████████████████| 2/2 [00:04<00:00,  2.46s/it]\n",
      "extracting all features from dataset: 100%|██████████████████████████████████████████████| 1/1 [00:01<00:00,  1.65s/it]\n"
     ]
    },
    {
     "name": "stdout",
     "output_type": "stream",
     "text": [
      "----------------------------\n",
      "Train_z, Test_z\n",
      "PCA: 0.834\n",
      "SVD: 0.8305\n",
      "NetG_fixD, Acc at sample 8 0.8562\n"
     ]
    },
    {
     "name": "stderr",
     "output_type": "stream",
     "text": [
      "extracting all features from dataset: 100%|██████████████████████████████████████████████| 2/2 [00:05<00:00,  2.50s/it]\n",
      "extracting all features from dataset: 100%|██████████████████████████████████████████████| 1/1 [00:01<00:00,  1.63s/it]\n"
     ]
    },
    {
     "name": "stdout",
     "output_type": "stream",
     "text": [
      "----------------------------\n",
      "Train_z, Test_z\n",
      "PCA: 0.8302\n",
      "SVD: 0.8279\n",
      "NetG_fixD, Acc at sample 9 0.854\n"
     ]
    },
    {
     "name": "stderr",
     "output_type": "stream",
     "text": [
      "extracting all features from dataset: 100%|██████████████████████████████████████████████| 2/2 [00:05<00:00,  2.53s/it]\n",
      "extracting all features from dataset: 100%|██████████████████████████████████████████████| 1/1 [00:01<00:00,  1.66s/it]\n"
     ]
    },
    {
     "name": "stdout",
     "output_type": "stream",
     "text": [
      "----------------------------\n",
      "Train_z, Test_z\n",
      "PCA: 0.8306\n",
      "SVD: 0.827\n",
      "NetG_fixD, Acc at sample 10 0.8561\n"
     ]
    },
    {
     "name": "stderr",
     "output_type": "stream",
     "text": [
      "extracting all features from dataset: 100%|██████████████████████████████████████████████| 2/2 [00:04<00:00,  2.45s/it]\n",
      "extracting all features from dataset: 100%|██████████████████████████████████████████████| 1/1 [00:01<00:00,  1.64s/it]\n"
     ]
    },
    {
     "name": "stdout",
     "output_type": "stream",
     "text": [
      "----------------------------\n",
      "Train_z, Test_z\n",
      "PCA: 0.8335\n",
      "SVD: 0.8294\n",
      "NetG_fixD, Acc at sample 11 0.8544\n"
     ]
    },
    {
     "name": "stderr",
     "output_type": "stream",
     "text": [
      "extracting all features from dataset: 100%|██████████████████████████████████████████████| 2/2 [00:05<00:00,  2.53s/it]\n",
      "extracting all features from dataset: 100%|██████████████████████████████████████████████| 1/1 [00:01<00:00,  1.65s/it]\n"
     ]
    },
    {
     "name": "stdout",
     "output_type": "stream",
     "text": [
      "----------------------------\n",
      "Train_z, Test_z\n",
      "PCA: 0.8274\n",
      "SVD: 0.8254\n",
      "NetG_fixD, Acc at sample 12 0.8523\n"
     ]
    },
    {
     "name": "stderr",
     "output_type": "stream",
     "text": [
      "extracting all features from dataset: 100%|██████████████████████████████████████████████| 2/2 [00:04<00:00,  2.47s/it]\n",
      "extracting all features from dataset: 100%|██████████████████████████████████████████████| 1/1 [00:01<00:00,  1.65s/it]\n"
     ]
    },
    {
     "name": "stdout",
     "output_type": "stream",
     "text": [
      "----------------------------\n",
      "Train_z, Test_z\n",
      "PCA: 0.8329\n",
      "SVD: 0.8281000000000001\n",
      "NetG_fixD, Acc at sample 13 0.8527\n"
     ]
    },
    {
     "name": "stderr",
     "output_type": "stream",
     "text": [
      "extracting all features from dataset: 100%|██████████████████████████████████████████████| 2/2 [00:04<00:00,  2.47s/it]\n",
      "extracting all features from dataset: 100%|██████████████████████████████████████████████| 1/1 [00:01<00:00,  1.65s/it]\n"
     ]
    },
    {
     "name": "stdout",
     "output_type": "stream",
     "text": [
      "----------------------------\n",
      "Train_z, Test_z\n",
      "PCA: 0.833\n",
      "SVD: 0.8284\n",
      "NetG_fixD, Acc at sample 14 0.8534\n"
     ]
    },
    {
     "name": "stderr",
     "output_type": "stream",
     "text": [
      "extracting all features from dataset: 100%|██████████████████████████████████████████████| 2/2 [00:04<00:00,  2.41s/it]\n",
      "extracting all features from dataset: 100%|██████████████████████████████████████████████| 1/1 [00:01<00:00,  1.64s/it]\n"
     ]
    },
    {
     "name": "stdout",
     "output_type": "stream",
     "text": [
      "----------------------------\n",
      "Train_z, Test_z\n",
      "PCA: 0.8306\n",
      "SVD: 0.8248\n",
      "NetG_fixD, Acc at sample 15 0.8536\n"
     ]
    },
    {
     "name": "stderr",
     "output_type": "stream",
     "text": [
      "extracting all features from dataset: 100%|██████████████████████████████████████████████| 2/2 [00:04<00:00,  2.48s/it]\n",
      "extracting all features from dataset: 100%|██████████████████████████████████████████████| 1/1 [00:01<00:00,  1.64s/it]\n"
     ]
    },
    {
     "name": "stdout",
     "output_type": "stream",
     "text": [
      "----------------------------\n",
      "Train_z, Test_z\n",
      "PCA: 0.8334\n",
      "SVD: 0.8289\n",
      "NetG_fixD, Acc at sample 16 0.8534\n"
     ]
    },
    {
     "name": "stderr",
     "output_type": "stream",
     "text": [
      "extracting all features from dataset: 100%|██████████████████████████████████████████████| 2/2 [00:04<00:00,  2.44s/it]\n",
      "extracting all features from dataset: 100%|██████████████████████████████████████████████| 1/1 [00:01<00:00,  1.63s/it]\n"
     ]
    },
    {
     "name": "stdout",
     "output_type": "stream",
     "text": [
      "----------------------------\n",
      "Train_z, Test_z\n",
      "PCA: 0.8309\n",
      "SVD: 0.827\n",
      "NetG_fixD, Acc at sample 17 0.855\n"
     ]
    },
    {
     "name": "stderr",
     "output_type": "stream",
     "text": [
      "extracting all features from dataset: 100%|██████████████████████████████████████████████| 2/2 [00:04<00:00,  2.38s/it]\n",
      "extracting all features from dataset: 100%|██████████████████████████████████████████████| 1/1 [00:01<00:00,  1.64s/it]\n"
     ]
    },
    {
     "name": "stdout",
     "output_type": "stream",
     "text": [
      "----------------------------\n",
      "Train_z, Test_z\n",
      "PCA: 0.8311\n",
      "SVD: 0.8265\n",
      "NetG_fixD, Acc at sample 18 0.8558\n"
     ]
    },
    {
     "name": "stderr",
     "output_type": "stream",
     "text": [
      "extracting all features from dataset: 100%|██████████████████████████████████████████████| 2/2 [00:04<00:00,  2.39s/it]\n",
      "extracting all features from dataset: 100%|██████████████████████████████████████████████| 1/1 [00:01<00:00,  1.64s/it]\n"
     ]
    },
    {
     "name": "stdout",
     "output_type": "stream",
     "text": [
      "----------------------------\n",
      "Train_z, Test_z\n",
      "PCA: 0.8304\n",
      "SVD: 0.8274\n",
      "NetG_fixD, Acc at sample 19 0.8529\n"
     ]
    },
    {
     "name": "stderr",
     "output_type": "stream",
     "text": [
      "extracting all features from dataset: 100%|██████████████████████████████████████████████| 2/2 [00:04<00:00,  2.45s/it]\n",
      "extracting all features from dataset: 100%|██████████████████████████████████████████████| 1/1 [00:01<00:00,  1.64s/it]\n"
     ]
    },
    {
     "name": "stdout",
     "output_type": "stream",
     "text": [
      "----------------------------\n",
      "Train_z, Test_z\n",
      "PCA: 0.829\n",
      "SVD: 0.8293\n",
      "NetG_fixD, Acc at sample 20 0.8553\n",
      "0.8562 0.8523 0.8543499999999999 1.0964999999999869e-06\n"
     ]
    }
   ],
   "source": [
    "# sample 50 times of NetG at final radius, NetD is fixed\n",
    "from sklearn.neighbors import KNeighborsClassifier \n",
    "Acc_results_G_sample4 = []\n",
    "\n",
    "for _ in range(sample_num):\n",
    "    #acc at first\n",
    "    net_noise = get_noise(DATASET, device, LABEL)\n",
    "    fed_state_dict = get_netG(netD,netV,net_noise,r_list[4])\n",
    "    netG.load_state_dict(fed_state_dict)\n",
    "    \n",
    "    train_X, train_Z, train_X_bar, train_Z_bar, train_labels = extract_features2(trainloader, netG, netD)\n",
    "\n",
    "    test_X, test_Z, test_X_bar, test_Z_bar, test_labels = extract_features2(testloader, netG, netD)\n",
    "\n",
    "    print(\"----------------------------\")\n",
    "    print(\"Train_z, Test_z\")\n",
    "    nearsub(n_comp, train_Z, train_labels, test_Z, test_labels)\n",
    "\n",
    "    knn= KNeighborsClassifier(n_neighbors=10) \n",
    "\n",
    "    knn.fit(train_Z,train_labels) \n",
    "    knn.score(test_Z_bar,test_labels) \n",
    "\n",
    "    y_predict = knn.predict(test_Z_bar) \n",
    "\n",
    "    count =0\n",
    "    for k in range(10000):\n",
    "        if y_predict[k] == test_labels[k]:\n",
    "            count +=1\n",
    "    print('NetG_fixD, Acc at sample',_+1,count/10000)\n",
    "    Acc_results_G_sample4.append(count/10000)\n",
    "    \n",
    "print(max(Acc_results_G_sample4),min(Acc_results_G_sample4),np.mean(Acc_results_G_sample4),np.var(Acc_results_G_sample4))"
   ]
  },
  {
   "cell_type": "code",
   "execution_count": 16,
   "id": "dfa16dcf",
   "metadata": {},
   "outputs": [
    {
     "name": "stderr",
     "output_type": "stream",
     "text": [
      "extracting all features from dataset: 100%|██████████████████████████████████████████████| 2/2 [00:04<00:00,  2.48s/it]\n",
      "extracting all features from dataset: 100%|██████████████████████████████████████████████| 1/1 [00:01<00:00,  1.64s/it]\n"
     ]
    },
    {
     "name": "stdout",
     "output_type": "stream",
     "text": [
      "----------------------------\n",
      "Train_z, Test_z\n",
      "PCA: 0.8293\n",
      "SVD: 0.8214\n",
      "NetG_fixD, Acc at sample 1 0.8419\n"
     ]
    },
    {
     "name": "stderr",
     "output_type": "stream",
     "text": [
      "extracting all features from dataset: 100%|██████████████████████████████████████████████| 2/2 [00:04<00:00,  2.50s/it]\n",
      "extracting all features from dataset: 100%|██████████████████████████████████████████████| 1/1 [00:01<00:00,  1.64s/it]\n"
     ]
    },
    {
     "name": "stdout",
     "output_type": "stream",
     "text": [
      "----------------------------\n",
      "Train_z, Test_z\n",
      "PCA: 0.8273\n",
      "SVD: 0.8271\n",
      "NetG_fixD, Acc at sample 2 0.8392\n"
     ]
    },
    {
     "name": "stderr",
     "output_type": "stream",
     "text": [
      "extracting all features from dataset: 100%|██████████████████████████████████████████████| 2/2 [00:04<00:00,  2.39s/it]\n",
      "extracting all features from dataset: 100%|██████████████████████████████████████████████| 1/1 [00:01<00:00,  1.65s/it]\n"
     ]
    },
    {
     "name": "stdout",
     "output_type": "stream",
     "text": [
      "----------------------------\n",
      "Train_z, Test_z\n",
      "PCA: 0.8315\n",
      "SVD: 0.8260000000000001\n",
      "NetG_fixD, Acc at sample 3 0.8413\n"
     ]
    },
    {
     "name": "stderr",
     "output_type": "stream",
     "text": [
      "extracting all features from dataset: 100%|██████████████████████████████████████████████| 2/2 [00:04<00:00,  2.38s/it]\n",
      "extracting all features from dataset: 100%|██████████████████████████████████████████████| 1/1 [00:01<00:00,  1.67s/it]\n"
     ]
    },
    {
     "name": "stdout",
     "output_type": "stream",
     "text": [
      "----------------------------\n",
      "Train_z, Test_z\n",
      "PCA: 0.8269\n",
      "SVD: 0.8247\n",
      "NetG_fixD, Acc at sample 4 0.8352\n"
     ]
    },
    {
     "name": "stderr",
     "output_type": "stream",
     "text": [
      "extracting all features from dataset: 100%|██████████████████████████████████████████████| 2/2 [00:04<00:00,  2.48s/it]\n",
      "extracting all features from dataset: 100%|██████████████████████████████████████████████| 1/1 [00:01<00:00,  1.68s/it]\n"
     ]
    },
    {
     "name": "stdout",
     "output_type": "stream",
     "text": [
      "----------------------------\n",
      "Train_z, Test_z\n",
      "PCA: 0.8298\n",
      "SVD: 0.8255\n",
      "NetG_fixD, Acc at sample 5 0.8428\n"
     ]
    },
    {
     "name": "stderr",
     "output_type": "stream",
     "text": [
      "extracting all features from dataset: 100%|██████████████████████████████████████████████| 2/2 [00:05<00:00,  2.51s/it]\n",
      "extracting all features from dataset: 100%|██████████████████████████████████████████████| 1/1 [00:01<00:00,  1.65s/it]\n"
     ]
    },
    {
     "name": "stdout",
     "output_type": "stream",
     "text": [
      "----------------------------\n",
      "Train_z, Test_z\n",
      "PCA: 0.8261000000000001\n",
      "SVD: 0.8247\n",
      "NetG_fixD, Acc at sample 6 0.8418\n"
     ]
    },
    {
     "name": "stderr",
     "output_type": "stream",
     "text": [
      "extracting all features from dataset: 100%|██████████████████████████████████████████████| 2/2 [00:04<00:00,  2.46s/it]\n",
      "extracting all features from dataset: 100%|██████████████████████████████████████████████| 1/1 [00:01<00:00,  1.66s/it]\n"
     ]
    },
    {
     "name": "stdout",
     "output_type": "stream",
     "text": [
      "----------------------------\n",
      "Train_z, Test_z\n",
      "PCA: 0.8295\n",
      "SVD: 0.8267\n",
      "NetG_fixD, Acc at sample 7 0.8471\n"
     ]
    },
    {
     "name": "stderr",
     "output_type": "stream",
     "text": [
      "extracting all features from dataset: 100%|██████████████████████████████████████████████| 2/2 [00:04<00:00,  2.46s/it]\n",
      "extracting all features from dataset: 100%|██████████████████████████████████████████████| 1/1 [00:01<00:00,  1.66s/it]\n"
     ]
    },
    {
     "name": "stdout",
     "output_type": "stream",
     "text": [
      "----------------------------\n",
      "Train_z, Test_z\n",
      "PCA: 0.8275\n",
      "SVD: 0.8253\n",
      "NetG_fixD, Acc at sample 8 0.8435\n"
     ]
    },
    {
     "name": "stderr",
     "output_type": "stream",
     "text": [
      "extracting all features from dataset: 100%|██████████████████████████████████████████████| 2/2 [00:04<00:00,  2.50s/it]\n",
      "extracting all features from dataset: 100%|██████████████████████████████████████████████| 1/1 [00:01<00:00,  1.67s/it]\n"
     ]
    },
    {
     "name": "stdout",
     "output_type": "stream",
     "text": [
      "----------------------------\n",
      "Train_z, Test_z\n",
      "PCA: 0.8284\n",
      "SVD: 0.8231999999999999\n",
      "NetG_fixD, Acc at sample 9 0.8429\n"
     ]
    },
    {
     "name": "stderr",
     "output_type": "stream",
     "text": [
      "extracting all features from dataset: 100%|██████████████████████████████████████████████| 2/2 [00:04<00:00,  2.49s/it]\n",
      "extracting all features from dataset: 100%|██████████████████████████████████████████████| 1/1 [00:01<00:00,  1.67s/it]\n"
     ]
    },
    {
     "name": "stdout",
     "output_type": "stream",
     "text": [
      "----------------------------\n",
      "Train_z, Test_z\n",
      "PCA: 0.8271999999999999\n",
      "SVD: 0.8236\n",
      "NetG_fixD, Acc at sample 10 0.8373\n"
     ]
    },
    {
     "name": "stderr",
     "output_type": "stream",
     "text": [
      "extracting all features from dataset: 100%|██████████████████████████████████████████████| 2/2 [00:05<00:00,  2.50s/it]\n",
      "extracting all features from dataset: 100%|██████████████████████████████████████████████| 1/1 [00:01<00:00,  1.67s/it]\n"
     ]
    },
    {
     "name": "stdout",
     "output_type": "stream",
     "text": [
      "----------------------------\n",
      "Train_z, Test_z\n",
      "PCA: 0.8289\n",
      "SVD: 0.8260000000000001\n",
      "NetG_fixD, Acc at sample 11 0.8455\n"
     ]
    },
    {
     "name": "stderr",
     "output_type": "stream",
     "text": [
      "extracting all features from dataset: 100%|██████████████████████████████████████████████| 2/2 [00:04<00:00,  2.47s/it]\n",
      "extracting all features from dataset: 100%|██████████████████████████████████████████████| 1/1 [00:01<00:00,  1.65s/it]\n"
     ]
    },
    {
     "name": "stdout",
     "output_type": "stream",
     "text": [
      "----------------------------\n",
      "Train_z, Test_z\n",
      "PCA: 0.8236\n",
      "SVD: 0.8214\n",
      "NetG_fixD, Acc at sample 12 0.8451\n"
     ]
    },
    {
     "name": "stderr",
     "output_type": "stream",
     "text": [
      "extracting all features from dataset: 100%|██████████████████████████████████████████████| 2/2 [00:04<00:00,  2.48s/it]\n",
      "extracting all features from dataset: 100%|██████████████████████████████████████████████| 1/1 [00:01<00:00,  1.66s/it]\n"
     ]
    },
    {
     "name": "stdout",
     "output_type": "stream",
     "text": [
      "----------------------------\n",
      "Train_z, Test_z\n",
      "PCA: 0.8258\n",
      "SVD: 0.8235\n",
      "NetG_fixD, Acc at sample 13 0.8453\n"
     ]
    },
    {
     "name": "stderr",
     "output_type": "stream",
     "text": [
      "extracting all features from dataset: 100%|██████████████████████████████████████████████| 2/2 [00:05<00:00,  2.53s/it]\n",
      "extracting all features from dataset: 100%|██████████████████████████████████████████████| 1/1 [00:01<00:00,  1.64s/it]\n"
     ]
    },
    {
     "name": "stdout",
     "output_type": "stream",
     "text": [
      "----------------------------\n",
      "Train_z, Test_z\n",
      "PCA: 0.8322\n",
      "SVD: 0.83\n",
      "NetG_fixD, Acc at sample 14 0.8444\n"
     ]
    },
    {
     "name": "stderr",
     "output_type": "stream",
     "text": [
      "extracting all features from dataset: 100%|██████████████████████████████████████████████| 2/2 [00:04<00:00,  2.43s/it]\n",
      "extracting all features from dataset: 100%|██████████████████████████████████████████████| 1/1 [00:01<00:00,  1.64s/it]\n"
     ]
    },
    {
     "name": "stdout",
     "output_type": "stream",
     "text": [
      "----------------------------\n",
      "Train_z, Test_z\n",
      "PCA: 0.8314\n",
      "SVD: 0.8276\n",
      "NetG_fixD, Acc at sample 15 0.8454\n"
     ]
    },
    {
     "name": "stderr",
     "output_type": "stream",
     "text": [
      "extracting all features from dataset: 100%|██████████████████████████████████████████████| 2/2 [00:04<00:00,  2.43s/it]\n",
      "extracting all features from dataset: 100%|██████████████████████████████████████████████| 1/1 [00:01<00:00,  1.64s/it]\n"
     ]
    },
    {
     "name": "stdout",
     "output_type": "stream",
     "text": [
      "----------------------------\n",
      "Train_z, Test_z\n",
      "PCA: 0.8271\n",
      "SVD: 0.8223\n",
      "NetG_fixD, Acc at sample 16 0.8409\n"
     ]
    },
    {
     "name": "stderr",
     "output_type": "stream",
     "text": [
      "extracting all features from dataset: 100%|██████████████████████████████████████████████| 2/2 [00:04<00:00,  2.43s/it]\n",
      "extracting all features from dataset: 100%|██████████████████████████████████████████████| 1/1 [00:01<00:00,  1.66s/it]\n"
     ]
    },
    {
     "name": "stdout",
     "output_type": "stream",
     "text": [
      "----------------------------\n",
      "Train_z, Test_z\n",
      "PCA: 0.8295\n",
      "SVD: 0.8263\n",
      "NetG_fixD, Acc at sample 17 0.8416\n"
     ]
    },
    {
     "name": "stderr",
     "output_type": "stream",
     "text": [
      "extracting all features from dataset: 100%|██████████████████████████████████████████████| 2/2 [00:04<00:00,  2.47s/it]\n",
      "extracting all features from dataset: 100%|██████████████████████████████████████████████| 1/1 [00:01<00:00,  1.65s/it]\n"
     ]
    },
    {
     "name": "stdout",
     "output_type": "stream",
     "text": [
      "----------------------------\n",
      "Train_z, Test_z\n",
      "PCA: 0.8249\n",
      "SVD: 0.8243\n",
      "NetG_fixD, Acc at sample 18 0.8401\n"
     ]
    },
    {
     "name": "stderr",
     "output_type": "stream",
     "text": [
      "extracting all features from dataset: 100%|██████████████████████████████████████████████| 2/2 [00:04<00:00,  2.47s/it]\n",
      "extracting all features from dataset: 100%|██████████████████████████████████████████████| 1/1 [00:01<00:00,  1.66s/it]\n"
     ]
    },
    {
     "name": "stdout",
     "output_type": "stream",
     "text": [
      "----------------------------\n",
      "Train_z, Test_z\n",
      "PCA: 0.8286\n",
      "SVD: 0.8241\n",
      "NetG_fixD, Acc at sample 19 0.8455\n"
     ]
    },
    {
     "name": "stderr",
     "output_type": "stream",
     "text": [
      "extracting all features from dataset: 100%|██████████████████████████████████████████████| 2/2 [00:04<00:00,  2.43s/it]\n",
      "extracting all features from dataset: 100%|██████████████████████████████████████████████| 1/1 [00:01<00:00,  1.64s/it]\n"
     ]
    },
    {
     "name": "stdout",
     "output_type": "stream",
     "text": [
      "----------------------------\n",
      "Train_z, Test_z\n",
      "PCA: 0.8278\n",
      "SVD: 0.8236\n",
      "NetG_fixD, Acc at sample 20 0.8422\n",
      "0.8471 0.8352 0.8424499999999998 8.485499999999992e-06\n"
     ]
    }
   ],
   "source": [
    "# sample 50 times of NetG at final radius, NetD is fixed\n",
    "from sklearn.neighbors import KNeighborsClassifier \n",
    "Acc_results_G_sample5 = []\n",
    "\n",
    "for _ in range(sample_num):\n",
    "    #acc at first\n",
    "    net_noise = get_noise(DATASET, device, LABEL)\n",
    "    fed_state_dict = get_netG(netD,netV,net_noise,r_list[5])\n",
    "    netG.load_state_dict(fed_state_dict)\n",
    "    \n",
    "    train_X, train_Z, train_X_bar, train_Z_bar, train_labels = extract_features2(trainloader, netG, netD)\n",
    "\n",
    "    test_X, test_Z, test_X_bar, test_Z_bar, test_labels = extract_features2(testloader, netG, netD)\n",
    "\n",
    "    print(\"----------------------------\")\n",
    "    print(\"Train_z, Test_z\")\n",
    "    nearsub(n_comp, train_Z, train_labels, test_Z, test_labels)\n",
    "\n",
    "    knn= KNeighborsClassifier(n_neighbors=10) \n",
    "\n",
    "    knn.fit(train_Z,train_labels) \n",
    "    knn.score(test_Z_bar,test_labels) \n",
    "\n",
    "    y_predict = knn.predict(test_Z_bar) \n",
    "\n",
    "    count =0\n",
    "    for k in range(10000):\n",
    "        if y_predict[k] == test_labels[k]:\n",
    "            count +=1\n",
    "    print('NetG_fixD, Acc at sample',_+1,count/10000)\n",
    "    Acc_results_G_sample5.append(count/10000)\n",
    "    \n",
    "print(max(Acc_results_G_sample5),min(Acc_results_G_sample5),np.mean(Acc_results_G_sample5),np.var(Acc_results_G_sample5))"
   ]
  },
  {
   "cell_type": "code",
   "execution_count": 17,
   "id": "4594946a",
   "metadata": {},
   "outputs": [
    {
     "name": "stderr",
     "output_type": "stream",
     "text": [
      "extracting all features from dataset: 100%|██████████████████████████████████████████████| 2/2 [00:04<00:00,  2.48s/it]\n",
      "extracting all features from dataset: 100%|██████████████████████████████████████████████| 1/1 [00:01<00:00,  1.64s/it]\n"
     ]
    },
    {
     "name": "stdout",
     "output_type": "stream",
     "text": [
      "----------------------------\n",
      "Train_z, Test_z\n",
      "PCA: 0.8168\n",
      "SVD: 0.8135\n",
      "NetG_fixD, Acc at sample 1 0.7774\n"
     ]
    },
    {
     "name": "stderr",
     "output_type": "stream",
     "text": [
      "extracting all features from dataset: 100%|██████████████████████████████████████████████| 2/2 [00:04<00:00,  2.41s/it]\n",
      "extracting all features from dataset: 100%|██████████████████████████████████████████████| 1/1 [00:01<00:00,  1.65s/it]\n"
     ]
    },
    {
     "name": "stdout",
     "output_type": "stream",
     "text": [
      "----------------------------\n",
      "Train_z, Test_z\n",
      "PCA: 0.8248\n",
      "SVD: 0.8184\n",
      "NetG_fixD, Acc at sample 2 0.806\n"
     ]
    },
    {
     "name": "stderr",
     "output_type": "stream",
     "text": [
      "extracting all features from dataset: 100%|██████████████████████████████████████████████| 2/2 [00:04<00:00,  2.49s/it]\n",
      "extracting all features from dataset: 100%|██████████████████████████████████████████████| 1/1 [00:01<00:00,  1.65s/it]\n"
     ]
    },
    {
     "name": "stdout",
     "output_type": "stream",
     "text": [
      "----------------------------\n",
      "Train_z, Test_z\n",
      "PCA: 0.8262\n",
      "SVD: 0.8209\n",
      "NetG_fixD, Acc at sample 3 0.7923\n"
     ]
    },
    {
     "name": "stderr",
     "output_type": "stream",
     "text": [
      "extracting all features from dataset: 100%|██████████████████████████████████████████████| 2/2 [00:04<00:00,  2.44s/it]\n",
      "extracting all features from dataset: 100%|██████████████████████████████████████████████| 1/1 [00:01<00:00,  1.66s/it]\n"
     ]
    },
    {
     "name": "stdout",
     "output_type": "stream",
     "text": [
      "----------------------------\n",
      "Train_z, Test_z\n",
      "PCA: 0.8261000000000001\n",
      "SVD: 0.8228\n",
      "NetG_fixD, Acc at sample 4 0.7869\n"
     ]
    },
    {
     "name": "stderr",
     "output_type": "stream",
     "text": [
      "extracting all features from dataset: 100%|██████████████████████████████████████████████| 2/2 [00:05<00:00,  2.53s/it]\n",
      "extracting all features from dataset: 100%|██████████████████████████████████████████████| 1/1 [00:01<00:00,  1.66s/it]\n"
     ]
    },
    {
     "name": "stdout",
     "output_type": "stream",
     "text": [
      "----------------------------\n",
      "Train_z, Test_z\n",
      "PCA: 0.8183\n",
      "SVD: 0.8164\n",
      "NetG_fixD, Acc at sample 5 0.7857\n"
     ]
    },
    {
     "name": "stderr",
     "output_type": "stream",
     "text": [
      "extracting all features from dataset: 100%|██████████████████████████████████████████████| 2/2 [00:05<00:00,  2.51s/it]\n",
      "extracting all features from dataset: 100%|██████████████████████████████████████████████| 1/1 [00:01<00:00,  1.67s/it]\n"
     ]
    },
    {
     "name": "stdout",
     "output_type": "stream",
     "text": [
      "----------------------------\n",
      "Train_z, Test_z\n",
      "PCA: 0.817\n",
      "SVD: 0.8146\n",
      "NetG_fixD, Acc at sample 6 0.7937\n"
     ]
    },
    {
     "name": "stderr",
     "output_type": "stream",
     "text": [
      "extracting all features from dataset: 100%|██████████████████████████████████████████████| 2/2 [00:04<00:00,  2.49s/it]\n",
      "extracting all features from dataset: 100%|██████████████████████████████████████████████| 1/1 [00:01<00:00,  1.67s/it]\n"
     ]
    },
    {
     "name": "stdout",
     "output_type": "stream",
     "text": [
      "----------------------------\n",
      "Train_z, Test_z\n",
      "PCA: 0.8240000000000001\n",
      "SVD: 0.8179\n",
      "NetG_fixD, Acc at sample 7 0.7951\n"
     ]
    },
    {
     "name": "stderr",
     "output_type": "stream",
     "text": [
      "extracting all features from dataset: 100%|██████████████████████████████████████████████| 2/2 [00:04<00:00,  2.48s/it]\n",
      "extracting all features from dataset: 100%|██████████████████████████████████████████████| 1/1 [00:01<00:00,  1.67s/it]\n"
     ]
    },
    {
     "name": "stdout",
     "output_type": "stream",
     "text": [
      "----------------------------\n",
      "Train_z, Test_z\n",
      "PCA: 0.8140000000000001\n",
      "SVD: 0.8133\n",
      "NetG_fixD, Acc at sample 8 0.785\n"
     ]
    },
    {
     "name": "stderr",
     "output_type": "stream",
     "text": [
      "extracting all features from dataset: 100%|██████████████████████████████████████████████| 2/2 [00:05<00:00,  2.54s/it]\n",
      "extracting all features from dataset: 100%|██████████████████████████████████████████████| 1/1 [00:01<00:00,  1.65s/it]\n"
     ]
    },
    {
     "name": "stdout",
     "output_type": "stream",
     "text": [
      "----------------------------\n",
      "Train_z, Test_z\n",
      "PCA: 0.8180000000000001\n",
      "SVD: 0.8188\n",
      "NetG_fixD, Acc at sample 9 0.7308\n"
     ]
    },
    {
     "name": "stderr",
     "output_type": "stream",
     "text": [
      "extracting all features from dataset: 100%|██████████████████████████████████████████████| 2/2 [00:04<00:00,  2.49s/it]\n",
      "extracting all features from dataset: 100%|██████████████████████████████████████████████| 1/1 [00:01<00:00,  1.63s/it]\n"
     ]
    },
    {
     "name": "stdout",
     "output_type": "stream",
     "text": [
      "----------------------------\n",
      "Train_z, Test_z\n",
      "PCA: 0.8180000000000001\n",
      "SVD: 0.8161\n",
      "NetG_fixD, Acc at sample 10 0.7999\n"
     ]
    },
    {
     "name": "stderr",
     "output_type": "stream",
     "text": [
      "extracting all features from dataset: 100%|██████████████████████████████████████████████| 2/2 [00:04<00:00,  2.46s/it]\n",
      "extracting all features from dataset: 100%|██████████████████████████████████████████████| 1/1 [00:01<00:00,  1.65s/it]\n"
     ]
    },
    {
     "name": "stdout",
     "output_type": "stream",
     "text": [
      "----------------------------\n",
      "Train_z, Test_z\n",
      "PCA: 0.8189\n",
      "SVD: 0.8167\n",
      "NetG_fixD, Acc at sample 11 0.7666\n"
     ]
    },
    {
     "name": "stderr",
     "output_type": "stream",
     "text": [
      "extracting all features from dataset: 100%|██████████████████████████████████████████████| 2/2 [00:04<00:00,  2.38s/it]\n",
      "extracting all features from dataset: 100%|██████████████████████████████████████████████| 1/1 [00:01<00:00,  1.62s/it]\n"
     ]
    },
    {
     "name": "stdout",
     "output_type": "stream",
     "text": [
      "----------------------------\n",
      "Train_z, Test_z\n",
      "PCA: 0.8195\n",
      "SVD: 0.8104\n",
      "NetG_fixD, Acc at sample 12 0.7571\n"
     ]
    },
    {
     "name": "stderr",
     "output_type": "stream",
     "text": [
      "extracting all features from dataset: 100%|██████████████████████████████████████████████| 2/2 [00:05<00:00,  2.51s/it]\n",
      "extracting all features from dataset: 100%|██████████████████████████████████████████████| 1/1 [00:01<00:00,  1.63s/it]\n"
     ]
    },
    {
     "name": "stdout",
     "output_type": "stream",
     "text": [
      "----------------------------\n",
      "Train_z, Test_z\n",
      "PCA: 0.8274\n",
      "SVD: 0.8224\n",
      "NetG_fixD, Acc at sample 13 0.7879\n"
     ]
    },
    {
     "name": "stderr",
     "output_type": "stream",
     "text": [
      "extracting all features from dataset: 100%|██████████████████████████████████████████████| 2/2 [00:04<00:00,  2.42s/it]\n",
      "extracting all features from dataset: 100%|██████████████████████████████████████████████| 1/1 [00:01<00:00,  1.65s/it]\n"
     ]
    },
    {
     "name": "stdout",
     "output_type": "stream",
     "text": [
      "----------------------------\n",
      "Train_z, Test_z\n",
      "PCA: 0.8219\n",
      "SVD: 0.8148\n",
      "NetG_fixD, Acc at sample 14 0.7742\n"
     ]
    },
    {
     "name": "stderr",
     "output_type": "stream",
     "text": [
      "extracting all features from dataset: 100%|██████████████████████████████████████████████| 2/2 [00:04<00:00,  2.39s/it]\n",
      "extracting all features from dataset: 100%|██████████████████████████████████████████████| 1/1 [00:01<00:00,  1.64s/it]\n"
     ]
    },
    {
     "name": "stdout",
     "output_type": "stream",
     "text": [
      "----------------------------\n",
      "Train_z, Test_z\n",
      "PCA: 0.8176\n",
      "SVD: 0.8143\n",
      "NetG_fixD, Acc at sample 15 0.7951\n"
     ]
    },
    {
     "name": "stderr",
     "output_type": "stream",
     "text": [
      "extracting all features from dataset: 100%|██████████████████████████████████████████████| 2/2 [00:05<00:00,  2.52s/it]\n",
      "extracting all features from dataset: 100%|██████████████████████████████████████████████| 1/1 [00:01<00:00,  1.66s/it]\n"
     ]
    },
    {
     "name": "stdout",
     "output_type": "stream",
     "text": [
      "----------------------------\n",
      "Train_z, Test_z\n",
      "PCA: 0.8175\n",
      "SVD: 0.8102\n",
      "NetG_fixD, Acc at sample 16 0.795\n"
     ]
    },
    {
     "name": "stderr",
     "output_type": "stream",
     "text": [
      "extracting all features from dataset: 100%|██████████████████████████████████████████████| 2/2 [00:05<00:00,  2.54s/it]\n",
      "extracting all features from dataset: 100%|██████████████████████████████████████████████| 1/1 [00:01<00:00,  1.64s/it]\n"
     ]
    },
    {
     "name": "stdout",
     "output_type": "stream",
     "text": [
      "----------------------------\n",
      "Train_z, Test_z\n",
      "PCA: 0.8197\n",
      "SVD: 0.8163\n",
      "NetG_fixD, Acc at sample 17 0.7924\n"
     ]
    },
    {
     "name": "stderr",
     "output_type": "stream",
     "text": [
      "extracting all features from dataset: 100%|██████████████████████████████████████████████| 2/2 [00:05<00:00,  2.51s/it]\n",
      "extracting all features from dataset: 100%|██████████████████████████████████████████████| 1/1 [00:01<00:00,  1.65s/it]\n"
     ]
    },
    {
     "name": "stdout",
     "output_type": "stream",
     "text": [
      "----------------------------\n",
      "Train_z, Test_z\n",
      "PCA: 0.8216\n",
      "SVD: 0.8153\n",
      "NetG_fixD, Acc at sample 18 0.8134\n"
     ]
    },
    {
     "name": "stderr",
     "output_type": "stream",
     "text": [
      "extracting all features from dataset: 100%|██████████████████████████████████████████████| 2/2 [00:05<00:00,  2.51s/it]\n",
      "extracting all features from dataset: 100%|██████████████████████████████████████████████| 1/1 [00:01<00:00,  1.63s/it]\n"
     ]
    },
    {
     "name": "stdout",
     "output_type": "stream",
     "text": [
      "----------------------------\n",
      "Train_z, Test_z\n",
      "PCA: 0.8214\n",
      "SVD: 0.8140000000000001\n",
      "NetG_fixD, Acc at sample 19 0.7964\n"
     ]
    },
    {
     "name": "stderr",
     "output_type": "stream",
     "text": [
      "extracting all features from dataset: 100%|██████████████████████████████████████████████| 2/2 [00:04<00:00,  2.37s/it]\n",
      "extracting all features from dataset: 100%|██████████████████████████████████████████████| 1/1 [00:01<00:00,  1.63s/it]\n"
     ]
    },
    {
     "name": "stdout",
     "output_type": "stream",
     "text": [
      "----------------------------\n",
      "Train_z, Test_z\n",
      "PCA: 0.8214\n",
      "SVD: 0.8166\n",
      "NetG_fixD, Acc at sample 20 0.7684\n",
      "0.8134 0.7308 0.784965 0.0003302172750000005\n"
     ]
    }
   ],
   "source": [
    "# sample 50 times of NetG at final radius, NetD is fixed\n",
    "from sklearn.neighbors import KNeighborsClassifier \n",
    "Acc_results_G_sample6 = []\n",
    "\n",
    "for _ in range(sample_num):\n",
    "    #acc at first\n",
    "    net_noise = get_noise(DATASET, device, LABEL)\n",
    "    fed_state_dict = get_netG(netD,netV,net_noise,r_list[6])\n",
    "    netG.load_state_dict(fed_state_dict)\n",
    "    \n",
    "    train_X, train_Z, train_X_bar, train_Z_bar, train_labels = extract_features2(trainloader, netG, netD)\n",
    "\n",
    "    test_X, test_Z, test_X_bar, test_Z_bar, test_labels = extract_features2(testloader, netG, netD)\n",
    "\n",
    "    print(\"----------------------------\")\n",
    "    print(\"Train_z, Test_z\")\n",
    "    nearsub(n_comp, train_Z, train_labels, test_Z, test_labels)\n",
    "\n",
    "    knn= KNeighborsClassifier(n_neighbors=10) \n",
    "\n",
    "    knn.fit(train_Z,train_labels) \n",
    "    knn.score(test_Z_bar,test_labels) \n",
    "\n",
    "    y_predict = knn.predict(test_Z_bar) \n",
    "\n",
    "    count =0\n",
    "    for k in range(10000):\n",
    "        if y_predict[k] == test_labels[k]:\n",
    "            count +=1\n",
    "    print('NetG_fixD, Acc at sample',_+1,count/10000)\n",
    "    Acc_results_G_sample6.append(count/10000)\n",
    "    \n",
    "print(max(Acc_results_G_sample6),min(Acc_results_G_sample6),np.mean(Acc_results_G_sample6),np.var(Acc_results_G_sample6))"
   ]
  },
  {
   "cell_type": "code",
   "execution_count": 18,
   "id": "9bac47e0",
   "metadata": {},
   "outputs": [
    {
     "name": "stderr",
     "output_type": "stream",
     "text": [
      "extracting all features from dataset: 100%|██████████████████████████████████████████████| 2/2 [00:04<00:00,  2.38s/it]\n",
      "extracting all features from dataset: 100%|██████████████████████████████████████████████| 1/1 [00:01<00:00,  1.66s/it]\n"
     ]
    },
    {
     "name": "stdout",
     "output_type": "stream",
     "text": [
      "----------------------------\n",
      "Train_z, Test_z\n",
      "PCA: 0.8086\n",
      "SVD: 0.8066\n",
      "NetG_fixD, Acc at sample 1 0.4874\n"
     ]
    },
    {
     "name": "stderr",
     "output_type": "stream",
     "text": [
      "extracting all features from dataset: 100%|██████████████████████████████████████████████| 2/2 [00:04<00:00,  2.42s/it]\n",
      "extracting all features from dataset: 100%|██████████████████████████████████████████████| 1/1 [00:01<00:00,  1.64s/it]\n"
     ]
    },
    {
     "name": "stdout",
     "output_type": "stream",
     "text": [
      "----------------------------\n",
      "Train_z, Test_z\n",
      "PCA: 0.8082\n",
      "SVD: 0.8063\n",
      "NetG_fixD, Acc at sample 2 0.3119\n"
     ]
    },
    {
     "name": "stderr",
     "output_type": "stream",
     "text": [
      "extracting all features from dataset: 100%|██████████████████████████████████████████████| 2/2 [00:05<00:00,  2.53s/it]\n",
      "extracting all features from dataset: 100%|██████████████████████████████████████████████| 1/1 [00:01<00:00,  1.66s/it]\n"
     ]
    },
    {
     "name": "stdout",
     "output_type": "stream",
     "text": [
      "----------------------------\n",
      "Train_z, Test_z\n",
      "PCA: 0.8132\n",
      "SVD: 0.8071\n",
      "NetG_fixD, Acc at sample 3 0.481\n"
     ]
    },
    {
     "name": "stderr",
     "output_type": "stream",
     "text": [
      "extracting all features from dataset: 100%|██████████████████████████████████████████████| 2/2 [00:04<00:00,  2.49s/it]\n",
      "extracting all features from dataset: 100%|██████████████████████████████████████████████| 1/1 [00:01<00:00,  1.65s/it]\n"
     ]
    },
    {
     "name": "stdout",
     "output_type": "stream",
     "text": [
      "----------------------------\n",
      "Train_z, Test_z\n",
      "PCA: 0.8138\n",
      "SVD: 0.8101\n",
      "NetG_fixD, Acc at sample 4 0.4372\n"
     ]
    },
    {
     "name": "stderr",
     "output_type": "stream",
     "text": [
      "extracting all features from dataset: 100%|██████████████████████████████████████████████| 2/2 [00:04<00:00,  2.44s/it]\n",
      "extracting all features from dataset: 100%|██████████████████████████████████████████████| 1/1 [00:01<00:00,  1.67s/it]\n"
     ]
    },
    {
     "name": "stdout",
     "output_type": "stream",
     "text": [
      "----------------------------\n",
      "Train_z, Test_z\n",
      "PCA: 0.8068\n",
      "SVD: 0.8022\n",
      "NetG_fixD, Acc at sample 5 0.267\n"
     ]
    },
    {
     "name": "stderr",
     "output_type": "stream",
     "text": [
      "extracting all features from dataset: 100%|██████████████████████████████████████████████| 2/2 [00:05<00:00,  2.51s/it]\n",
      "extracting all features from dataset: 100%|██████████████████████████████████████████████| 1/1 [00:01<00:00,  1.67s/it]\n"
     ]
    },
    {
     "name": "stdout",
     "output_type": "stream",
     "text": [
      "----------------------------\n",
      "Train_z, Test_z\n",
      "PCA: 0.8139000000000001\n",
      "SVD: 0.8071\n",
      "NetG_fixD, Acc at sample 6 0.4959\n"
     ]
    },
    {
     "name": "stderr",
     "output_type": "stream",
     "text": [
      "extracting all features from dataset: 100%|██████████████████████████████████████████████| 2/2 [00:05<00:00,  2.50s/it]\n",
      "extracting all features from dataset: 100%|██████████████████████████████████████████████| 1/1 [00:01<00:00,  1.63s/it]\n"
     ]
    },
    {
     "name": "stdout",
     "output_type": "stream",
     "text": [
      "----------------------------\n",
      "Train_z, Test_z\n",
      "PCA: 0.8187\n",
      "SVD: 0.8097\n",
      "NetG_fixD, Acc at sample 7 0.4815\n"
     ]
    },
    {
     "name": "stderr",
     "output_type": "stream",
     "text": [
      "extracting all features from dataset: 100%|██████████████████████████████████████████████| 2/2 [00:04<00:00,  2.47s/it]\n",
      "extracting all features from dataset: 100%|██████████████████████████████████████████████| 1/1 [00:01<00:00,  1.66s/it]\n"
     ]
    },
    {
     "name": "stdout",
     "output_type": "stream",
     "text": [
      "----------------------------\n",
      "Train_z, Test_z\n",
      "PCA: 0.8201\n",
      "SVD: 0.8156\n",
      "NetG_fixD, Acc at sample 8 0.4884\n"
     ]
    },
    {
     "name": "stderr",
     "output_type": "stream",
     "text": [
      "extracting all features from dataset: 100%|██████████████████████████████████████████████| 2/2 [00:04<00:00,  2.45s/it]\n",
      "extracting all features from dataset: 100%|██████████████████████████████████████████████| 1/1 [00:01<00:00,  1.66s/it]\n"
     ]
    },
    {
     "name": "stdout",
     "output_type": "stream",
     "text": [
      "----------------------------\n",
      "Train_z, Test_z\n",
      "PCA: 0.8109\n",
      "SVD: 0.8061\n",
      "NetG_fixD, Acc at sample 9 0.3225\n"
     ]
    },
    {
     "name": "stderr",
     "output_type": "stream",
     "text": [
      "extracting all features from dataset: 100%|██████████████████████████████████████████████| 2/2 [00:04<00:00,  2.42s/it]\n",
      "extracting all features from dataset: 100%|██████████████████████████████████████████████| 1/1 [00:01<00:00,  1.65s/it]\n"
     ]
    },
    {
     "name": "stdout",
     "output_type": "stream",
     "text": [
      "----------------------------\n",
      "Train_z, Test_z\n",
      "PCA: 0.8128\n",
      "SVD: 0.8103\n",
      "NetG_fixD, Acc at sample 10 0.4344\n"
     ]
    },
    {
     "name": "stderr",
     "output_type": "stream",
     "text": [
      "extracting all features from dataset: 100%|██████████████████████████████████████████████| 2/2 [00:05<00:00,  2.54s/it]\n",
      "extracting all features from dataset: 100%|██████████████████████████████████████████████| 1/1 [00:01<00:00,  1.65s/it]\n"
     ]
    },
    {
     "name": "stdout",
     "output_type": "stream",
     "text": [
      "----------------------------\n",
      "Train_z, Test_z\n",
      "PCA: 0.8110999999999999\n",
      "SVD: 0.8076\n",
      "NetG_fixD, Acc at sample 11 0.429\n"
     ]
    },
    {
     "name": "stderr",
     "output_type": "stream",
     "text": [
      "extracting all features from dataset: 100%|██████████████████████████████████████████████| 2/2 [00:04<00:00,  2.47s/it]\n",
      "extracting all features from dataset: 100%|██████████████████████████████████████████████| 1/1 [00:01<00:00,  1.67s/it]\n"
     ]
    },
    {
     "name": "stdout",
     "output_type": "stream",
     "text": [
      "----------------------------\n",
      "Train_z, Test_z\n",
      "PCA: 0.812\n",
      "SVD: 0.8104\n",
      "NetG_fixD, Acc at sample 12 0.3566\n"
     ]
    },
    {
     "name": "stderr",
     "output_type": "stream",
     "text": [
      "extracting all features from dataset: 100%|██████████████████████████████████████████████| 2/2 [00:05<00:00,  2.54s/it]\n",
      "extracting all features from dataset: 100%|██████████████████████████████████████████████| 1/1 [00:01<00:00,  1.65s/it]\n"
     ]
    },
    {
     "name": "stdout",
     "output_type": "stream",
     "text": [
      "----------------------------\n",
      "Train_z, Test_z\n",
      "PCA: 0.8195\n",
      "SVD: 0.8166\n",
      "NetG_fixD, Acc at sample 13 0.4814\n"
     ]
    },
    {
     "name": "stderr",
     "output_type": "stream",
     "text": [
      "extracting all features from dataset: 100%|██████████████████████████████████████████████| 2/2 [00:04<00:00,  2.46s/it]\n",
      "extracting all features from dataset: 100%|██████████████████████████████████████████████| 1/1 [00:01<00:00,  1.64s/it]\n"
     ]
    },
    {
     "name": "stdout",
     "output_type": "stream",
     "text": [
      "----------------------------\n",
      "Train_z, Test_z\n",
      "PCA: 0.8127\n",
      "SVD: 0.8069\n",
      "NetG_fixD, Acc at sample 14 0.4947\n"
     ]
    },
    {
     "name": "stderr",
     "output_type": "stream",
     "text": [
      "extracting all features from dataset: 100%|██████████████████████████████████████████████| 2/2 [00:04<00:00,  2.47s/it]\n",
      "extracting all features from dataset: 100%|██████████████████████████████████████████████| 1/1 [00:01<00:00,  1.65s/it]\n"
     ]
    },
    {
     "name": "stdout",
     "output_type": "stream",
     "text": [
      "----------------------------\n",
      "Train_z, Test_z\n",
      "PCA: 0.8141\n",
      "SVD: 0.8117\n",
      "NetG_fixD, Acc at sample 15 0.4652\n"
     ]
    },
    {
     "name": "stderr",
     "output_type": "stream",
     "text": [
      "extracting all features from dataset: 100%|██████████████████████████████████████████████| 2/2 [00:04<00:00,  2.40s/it]\n",
      "extracting all features from dataset: 100%|██████████████████████████████████████████████| 1/1 [00:01<00:00,  1.63s/it]\n"
     ]
    },
    {
     "name": "stdout",
     "output_type": "stream",
     "text": [
      "----------------------------\n",
      "Train_z, Test_z\n",
      "PCA: 0.8051\n",
      "SVD: 0.8055\n",
      "NetG_fixD, Acc at sample 16 0.4434\n"
     ]
    },
    {
     "name": "stderr",
     "output_type": "stream",
     "text": [
      "extracting all features from dataset: 100%|██████████████████████████████████████████████| 2/2 [00:04<00:00,  2.45s/it]\n",
      "extracting all features from dataset: 100%|██████████████████████████████████████████████| 1/1 [00:01<00:00,  1.67s/it]\n"
     ]
    },
    {
     "name": "stdout",
     "output_type": "stream",
     "text": [
      "----------------------------\n",
      "Train_z, Test_z\n",
      "PCA: 0.8192\n",
      "SVD: 0.8130999999999999\n",
      "NetG_fixD, Acc at sample 17 0.5391\n"
     ]
    },
    {
     "name": "stderr",
     "output_type": "stream",
     "text": [
      "extracting all features from dataset: 100%|██████████████████████████████████████████████| 2/2 [00:04<00:00,  2.40s/it]\n",
      "extracting all features from dataset: 100%|██████████████████████████████████████████████| 1/1 [00:01<00:00,  1.66s/it]\n"
     ]
    },
    {
     "name": "stdout",
     "output_type": "stream",
     "text": [
      "----------------------------\n",
      "Train_z, Test_z\n",
      "PCA: 0.8054\n",
      "SVD: 0.8059000000000001\n",
      "NetG_fixD, Acc at sample 18 0.4531\n"
     ]
    },
    {
     "name": "stderr",
     "output_type": "stream",
     "text": [
      "extracting all features from dataset: 100%|██████████████████████████████████████████████| 2/2 [00:05<00:00,  2.51s/it]\n",
      "extracting all features from dataset: 100%|██████████████████████████████████████████████| 1/1 [00:01<00:00,  1.64s/it]\n"
     ]
    },
    {
     "name": "stdout",
     "output_type": "stream",
     "text": [
      "----------------------------\n",
      "Train_z, Test_z\n",
      "PCA: 0.8141\n",
      "SVD: 0.8147\n",
      "NetG_fixD, Acc at sample 19 0.5135\n"
     ]
    },
    {
     "name": "stderr",
     "output_type": "stream",
     "text": [
      "extracting all features from dataset: 100%|██████████████████████████████████████████████| 2/2 [00:04<00:00,  2.48s/it]\n",
      "extracting all features from dataset: 100%|██████████████████████████████████████████████| 1/1 [00:01<00:00,  1.64s/it]\n"
     ]
    },
    {
     "name": "stdout",
     "output_type": "stream",
     "text": [
      "----------------------------\n",
      "Train_z, Test_z\n",
      "PCA: 0.8122\n",
      "SVD: 0.8091\n",
      "NetG_fixD, Acc at sample 20 0.4201\n",
      "0.5391 0.267 0.44016500000000003 0.004976039274999999\n"
     ]
    }
   ],
   "source": [
    "# sample 50 times of NetG at final radius, NetD is fixed\n",
    "from sklearn.neighbors import KNeighborsClassifier \n",
    "Acc_results_G_sample7 = []\n",
    "\n",
    "for _ in range(sample_num):\n",
    "    #acc at first\n",
    "    net_noise = get_noise(DATASET, device, LABEL)\n",
    "    fed_state_dict = get_netG(netD,netV,net_noise,r_list[7])\n",
    "    netG.load_state_dict(fed_state_dict)\n",
    "    \n",
    "    train_X, train_Z, train_X_bar, train_Z_bar, train_labels = extract_features2(trainloader, netG, netD)\n",
    "\n",
    "    test_X, test_Z, test_X_bar, test_Z_bar, test_labels = extract_features2(testloader, netG, netD)\n",
    "\n",
    "    print(\"----------------------------\")\n",
    "    print(\"Train_z, Test_z\")\n",
    "    nearsub(n_comp, train_Z, train_labels, test_Z, test_labels)\n",
    "\n",
    "    knn= KNeighborsClassifier(n_neighbors=10) \n",
    "\n",
    "    knn.fit(train_Z,train_labels) \n",
    "    knn.score(test_Z_bar,test_labels) \n",
    "\n",
    "    y_predict = knn.predict(test_Z_bar) \n",
    "\n",
    "    count =0\n",
    "    for k in range(10000):\n",
    "        if y_predict[k] == test_labels[k]:\n",
    "            count +=1\n",
    "    print('NetG_fixD, Acc at sample',_+1,count/10000)\n",
    "    Acc_results_G_sample7.append(count/10000)\n",
    "    \n",
    "print(max(Acc_results_G_sample7),min(Acc_results_G_sample7),np.mean(Acc_results_G_sample7),np.var(Acc_results_G_sample7))"
   ]
  },
  {
   "cell_type": "code",
   "execution_count": 19,
   "id": "10863846",
   "metadata": {},
   "outputs": [
    {
     "name": "stderr",
     "output_type": "stream",
     "text": [
      "extracting all features from dataset: 100%|██████████████████████████████████████████████| 2/2 [00:04<00:00,  2.50s/it]\n",
      "extracting all features from dataset: 100%|██████████████████████████████████████████████| 1/1 [00:01<00:00,  1.64s/it]\n"
     ]
    },
    {
     "name": "stdout",
     "output_type": "stream",
     "text": [
      "----------------------------\n",
      "Train_z, Test_z\n",
      "PCA: 0.8181\n",
      "SVD: 0.8181\n",
      "NetG_fixD, Acc at sample 1 0.1646\n"
     ]
    },
    {
     "name": "stderr",
     "output_type": "stream",
     "text": [
      "extracting all features from dataset: 100%|██████████████████████████████████████████████| 2/2 [00:04<00:00,  2.37s/it]\n",
      "extracting all features from dataset: 100%|██████████████████████████████████████████████| 1/1 [00:01<00:00,  1.64s/it]\n"
     ]
    },
    {
     "name": "stdout",
     "output_type": "stream",
     "text": [
      "----------------------------\n",
      "Train_z, Test_z\n",
      "PCA: 0.8143\n",
      "SVD: 0.8108\n",
      "NetG_fixD, Acc at sample 2 0.121\n"
     ]
    },
    {
     "name": "stderr",
     "output_type": "stream",
     "text": [
      "extracting all features from dataset: 100%|██████████████████████████████████████████████| 2/2 [00:04<00:00,  2.37s/it]\n",
      "extracting all features from dataset: 100%|██████████████████████████████████████████████| 1/1 [00:01<00:00,  1.66s/it]\n"
     ]
    },
    {
     "name": "stdout",
     "output_type": "stream",
     "text": [
      "----------------------------\n",
      "Train_z, Test_z\n",
      "PCA: 0.8123\n",
      "SVD: 0.8073\n",
      "NetG_fixD, Acc at sample 3 0.152\n"
     ]
    },
    {
     "name": "stderr",
     "output_type": "stream",
     "text": [
      "extracting all features from dataset: 100%|██████████████████████████████████████████████| 2/2 [00:04<00:00,  2.48s/it]\n",
      "extracting all features from dataset: 100%|██████████████████████████████████████████████| 1/1 [00:01<00:00,  1.64s/it]\n"
     ]
    },
    {
     "name": "stdout",
     "output_type": "stream",
     "text": [
      "----------------------------\n",
      "Train_z, Test_z\n",
      "PCA: 0.8092\n",
      "SVD: 0.8109999999999999\n",
      "NetG_fixD, Acc at sample 4 0.1447\n"
     ]
    },
    {
     "name": "stderr",
     "output_type": "stream",
     "text": [
      "extracting all features from dataset: 100%|██████████████████████████████████████████████| 2/2 [00:04<00:00,  2.42s/it]\n",
      "extracting all features from dataset: 100%|██████████████████████████████████████████████| 1/1 [00:01<00:00,  1.67s/it]\n"
     ]
    },
    {
     "name": "stdout",
     "output_type": "stream",
     "text": [
      "----------------------------\n",
      "Train_z, Test_z\n",
      "PCA: 0.8049\n",
      "SVD: 0.8019000000000001\n",
      "NetG_fixD, Acc at sample 5 0.1206\n"
     ]
    },
    {
     "name": "stderr",
     "output_type": "stream",
     "text": [
      "extracting all features from dataset: 100%|██████████████████████████████████████████████| 2/2 [00:04<00:00,  2.49s/it]\n",
      "extracting all features from dataset: 100%|██████████████████████████████████████████████| 1/1 [00:01<00:00,  1.67s/it]\n"
     ]
    },
    {
     "name": "stdout",
     "output_type": "stream",
     "text": [
      "----------------------------\n",
      "Train_z, Test_z\n",
      "PCA: 0.8175\n",
      "SVD: 0.8124\n",
      "NetG_fixD, Acc at sample 6 0.1619\n"
     ]
    },
    {
     "name": "stderr",
     "output_type": "stream",
     "text": [
      "extracting all features from dataset: 100%|██████████████████████████████████████████████| 2/2 [00:05<00:00,  2.51s/it]\n",
      "extracting all features from dataset: 100%|██████████████████████████████████████████████| 1/1 [00:01<00:00,  1.66s/it]\n"
     ]
    },
    {
     "name": "stdout",
     "output_type": "stream",
     "text": [
      "----------------------------\n",
      "Train_z, Test_z\n",
      "PCA: 0.8082\n",
      "SVD: 0.8069999999999999\n",
      "NetG_fixD, Acc at sample 7 0.1615\n"
     ]
    },
    {
     "name": "stderr",
     "output_type": "stream",
     "text": [
      "extracting all features from dataset: 100%|██████████████████████████████████████████████| 2/2 [00:05<00:00,  2.51s/it]\n",
      "extracting all features from dataset: 100%|██████████████████████████████████████████████| 1/1 [00:01<00:00,  1.67s/it]\n"
     ]
    },
    {
     "name": "stdout",
     "output_type": "stream",
     "text": [
      "----------------------------\n",
      "Train_z, Test_z\n",
      "PCA: 0.8103\n",
      "SVD: 0.8082\n",
      "NetG_fixD, Acc at sample 8 0.1293\n"
     ]
    },
    {
     "name": "stderr",
     "output_type": "stream",
     "text": [
      "extracting all features from dataset: 100%|██████████████████████████████████████████████| 2/2 [00:04<00:00,  2.49s/it]\n",
      "extracting all features from dataset: 100%|██████████████████████████████████████████████| 1/1 [00:01<00:00,  1.67s/it]\n"
     ]
    },
    {
     "name": "stdout",
     "output_type": "stream",
     "text": [
      "----------------------------\n",
      "Train_z, Test_z\n",
      "PCA: 0.8149\n",
      "SVD: 0.8115\n",
      "NetG_fixD, Acc at sample 9 0.1736\n"
     ]
    },
    {
     "name": "stderr",
     "output_type": "stream",
     "text": [
      "extracting all features from dataset: 100%|██████████████████████████████████████████████| 2/2 [00:04<00:00,  2.44s/it]\n",
      "extracting all features from dataset: 100%|██████████████████████████████████████████████| 1/1 [00:01<00:00,  1.64s/it]\n"
     ]
    },
    {
     "name": "stdout",
     "output_type": "stream",
     "text": [
      "----------------------------\n",
      "Train_z, Test_z\n",
      "PCA: 0.8021\n",
      "SVD: 0.7975\n",
      "NetG_fixD, Acc at sample 10 0.1524\n"
     ]
    },
    {
     "name": "stderr",
     "output_type": "stream",
     "text": [
      "extracting all features from dataset: 100%|██████████████████████████████████████████████| 2/2 [00:05<00:00,  2.52s/it]\n",
      "extracting all features from dataset: 100%|██████████████████████████████████████████████| 1/1 [00:01<00:00,  1.65s/it]\n"
     ]
    },
    {
     "name": "stdout",
     "output_type": "stream",
     "text": [
      "----------------------------\n",
      "Train_z, Test_z\n",
      "PCA: 0.8133\n",
      "SVD: 0.8064\n",
      "NetG_fixD, Acc at sample 11 0.1156\n"
     ]
    },
    {
     "name": "stderr",
     "output_type": "stream",
     "text": [
      "extracting all features from dataset: 100%|██████████████████████████████████████████████| 2/2 [00:04<00:00,  2.47s/it]\n",
      "extracting all features from dataset: 100%|██████████████████████████████████████████████| 1/1 [00:01<00:00,  1.65s/it]\n"
     ]
    },
    {
     "name": "stdout",
     "output_type": "stream",
     "text": [
      "----------------------------\n",
      "Train_z, Test_z\n",
      "PCA: 0.8147\n",
      "SVD: 0.8092\n",
      "NetG_fixD, Acc at sample 12 0.1551\n"
     ]
    },
    {
     "name": "stderr",
     "output_type": "stream",
     "text": [
      "extracting all features from dataset: 100%|██████████████████████████████████████████████| 2/2 [00:04<00:00,  2.48s/it]\n",
      "extracting all features from dataset: 100%|██████████████████████████████████████████████| 1/1 [00:01<00:00,  1.66s/it]\n"
     ]
    },
    {
     "name": "stdout",
     "output_type": "stream",
     "text": [
      "----------------------------\n",
      "Train_z, Test_z\n",
      "PCA: 0.815\n",
      "SVD: 0.8086\n",
      "NetG_fixD, Acc at sample 13 0.1234\n"
     ]
    },
    {
     "name": "stderr",
     "output_type": "stream",
     "text": [
      "extracting all features from dataset: 100%|██████████████████████████████████████████████| 2/2 [00:04<00:00,  2.47s/it]\n",
      "extracting all features from dataset: 100%|██████████████████████████████████████████████| 1/1 [00:01<00:00,  1.63s/it]\n"
     ]
    },
    {
     "name": "stdout",
     "output_type": "stream",
     "text": [
      "----------------------------\n",
      "Train_z, Test_z\n",
      "PCA: 0.8140000000000001\n",
      "SVD: 0.8106\n",
      "NetG_fixD, Acc at sample 14 0.1411\n"
     ]
    },
    {
     "name": "stderr",
     "output_type": "stream",
     "text": [
      "extracting all features from dataset: 100%|██████████████████████████████████████████████| 2/2 [00:04<00:00,  2.38s/it]\n",
      "extracting all features from dataset: 100%|██████████████████████████████████████████████| 1/1 [00:01<00:00,  1.62s/it]\n"
     ]
    },
    {
     "name": "stdout",
     "output_type": "stream",
     "text": [
      "----------------------------\n",
      "Train_z, Test_z\n",
      "PCA: 0.8062\n",
      "SVD: 0.8042\n",
      "NetG_fixD, Acc at sample 15 0.1277\n"
     ]
    },
    {
     "name": "stderr",
     "output_type": "stream",
     "text": [
      "extracting all features from dataset: 100%|██████████████████████████████████████████████| 2/2 [00:04<00:00,  2.32s/it]\n",
      "extracting all features from dataset: 100%|██████████████████████████████████████████████| 1/1 [00:01<00:00,  1.62s/it]\n"
     ]
    },
    {
     "name": "stdout",
     "output_type": "stream",
     "text": [
      "----------------------------\n",
      "Train_z, Test_z\n",
      "PCA: 0.8114\n",
      "SVD: 0.808\n",
      "NetG_fixD, Acc at sample 16 0.1625\n"
     ]
    },
    {
     "name": "stderr",
     "output_type": "stream",
     "text": [
      "extracting all features from dataset: 100%|██████████████████████████████████████████████| 2/2 [00:05<00:00,  2.54s/it]\n",
      "extracting all features from dataset: 100%|██████████████████████████████████████████████| 1/1 [00:01<00:00,  1.67s/it]\n"
     ]
    },
    {
     "name": "stdout",
     "output_type": "stream",
     "text": [
      "----------------------------\n",
      "Train_z, Test_z\n",
      "PCA: 0.8075\n",
      "SVD: 0.8049\n",
      "NetG_fixD, Acc at sample 17 0.1266\n"
     ]
    },
    {
     "name": "stderr",
     "output_type": "stream",
     "text": [
      "extracting all features from dataset: 100%|██████████████████████████████████████████████| 2/2 [00:04<00:00,  2.44s/it]\n",
      "extracting all features from dataset: 100%|██████████████████████████████████████████████| 1/1 [00:01<00:00,  1.63s/it]\n"
     ]
    },
    {
     "name": "stdout",
     "output_type": "stream",
     "text": [
      "----------------------------\n",
      "Train_z, Test_z\n",
      "PCA: 0.8067\n",
      "SVD: 0.8049\n",
      "NetG_fixD, Acc at sample 18 0.1253\n"
     ]
    },
    {
     "name": "stderr",
     "output_type": "stream",
     "text": [
      "extracting all features from dataset: 100%|██████████████████████████████████████████████| 2/2 [00:05<00:00,  2.51s/it]\n",
      "extracting all features from dataset: 100%|██████████████████████████████████████████████| 1/1 [00:01<00:00,  1.65s/it]\n"
     ]
    },
    {
     "name": "stdout",
     "output_type": "stream",
     "text": [
      "----------------------------\n",
      "Train_z, Test_z\n",
      "PCA: 0.8102\n",
      "SVD: 0.8085\n",
      "NetG_fixD, Acc at sample 19 0.12\n"
     ]
    },
    {
     "name": "stderr",
     "output_type": "stream",
     "text": [
      "extracting all features from dataset: 100%|██████████████████████████████████████████████| 2/2 [00:04<00:00,  2.38s/it]\n",
      "extracting all features from dataset: 100%|██████████████████████████████████████████████| 1/1 [00:01<00:00,  1.65s/it]\n"
     ]
    },
    {
     "name": "stdout",
     "output_type": "stream",
     "text": [
      "----------------------------\n",
      "Train_z, Test_z\n",
      "PCA: 0.806\n",
      "SVD: 0.8049\n",
      "NetG_fixD, Acc at sample 20 0.1845\n",
      "0.1845 0.1156 0.14316999999999996 0.0004090141\n"
     ]
    }
   ],
   "source": [
    "# sample 50 times of NetG at final radius, NetD is fixed\n",
    "from sklearn.neighbors import KNeighborsClassifier \n",
    "Acc_results_G_sample8 = []\n",
    "\n",
    "for _ in range(sample_num):\n",
    "    #acc at first\n",
    "    net_noise = get_noise(DATASET, device, LABEL)\n",
    "    fed_state_dict = get_netG(netD,netV,net_noise,r_list[8])\n",
    "    netG.load_state_dict(fed_state_dict)\n",
    "    \n",
    "    train_X, train_Z, train_X_bar, train_Z_bar, train_labels = extract_features2(trainloader, netG, netD)\n",
    "\n",
    "    test_X, test_Z, test_X_bar, test_Z_bar, test_labels = extract_features2(testloader, netG, netD)\n",
    "\n",
    "    print(\"----------------------------\")\n",
    "    print(\"Train_z, Test_z\")\n",
    "    nearsub(n_comp, train_Z, train_labels, test_Z, test_labels)\n",
    "\n",
    "    knn= KNeighborsClassifier(n_neighbors=10) \n",
    "\n",
    "    knn.fit(train_Z,train_labels) \n",
    "    knn.score(test_Z_bar,test_labels) \n",
    "\n",
    "    y_predict = knn.predict(test_Z_bar) \n",
    "\n",
    "    count =0\n",
    "    for k in range(10000):\n",
    "        if y_predict[k] == test_labels[k]:\n",
    "            count +=1\n",
    "    print('NetG_fixD, Acc at sample',_+1,count/10000)\n",
    "    Acc_results_G_sample8.append(count/10000)\n",
    "    \n",
    "print(max(Acc_results_G_sample8),min(Acc_results_G_sample8),np.mean(Acc_results_G_sample8),np.var(Acc_results_G_sample8))"
   ]
  },
  {
   "cell_type": "code",
   "execution_count": 20,
   "id": "162a6f56",
   "metadata": {},
   "outputs": [
    {
     "name": "stderr",
     "output_type": "stream",
     "text": [
      "extracting all features from dataset: 100%|██████████████████████████████████████████████| 2/2 [00:05<00:00,  2.57s/it]\n",
      "extracting all features from dataset: 100%|██████████████████████████████████████████████| 1/1 [00:01<00:00,  1.66s/it]\n"
     ]
    },
    {
     "name": "stdout",
     "output_type": "stream",
     "text": [
      "----------------------------\n",
      "Train_z, Test_z\n",
      "PCA: 0.8044\n",
      "SVD: 0.804\n",
      "NetG_fixD, Acc at sample 1 0.0824\n"
     ]
    },
    {
     "name": "stderr",
     "output_type": "stream",
     "text": [
      "extracting all features from dataset: 100%|██████████████████████████████████████████████| 2/2 [00:05<00:00,  2.50s/it]\n",
      "extracting all features from dataset: 100%|██████████████████████████████████████████████| 1/1 [00:01<00:00,  1.64s/it]\n"
     ]
    },
    {
     "name": "stdout",
     "output_type": "stream",
     "text": [
      "----------------------------\n",
      "Train_z, Test_z\n",
      "PCA: 0.8069999999999999\n",
      "SVD: 0.8095\n",
      "NetG_fixD, Acc at sample 2 0.1174\n"
     ]
    },
    {
     "name": "stderr",
     "output_type": "stream",
     "text": [
      "extracting all features from dataset: 100%|██████████████████████████████████████████████| 2/2 [00:04<00:00,  2.50s/it]\n",
      "extracting all features from dataset: 100%|██████████████████████████████████████████████| 1/1 [00:01<00:00,  1.64s/it]\n"
     ]
    },
    {
     "name": "stdout",
     "output_type": "stream",
     "text": [
      "----------------------------\n",
      "Train_z, Test_z\n",
      "PCA: 0.8115\n",
      "SVD: 0.8105\n",
      "NetG_fixD, Acc at sample 3 0.124\n"
     ]
    },
    {
     "name": "stderr",
     "output_type": "stream",
     "text": [
      "extracting all features from dataset: 100%|██████████████████████████████████████████████| 2/2 [00:05<00:00,  2.52s/it]\n",
      "extracting all features from dataset: 100%|██████████████████████████████████████████████| 1/1 [00:01<00:00,  1.63s/it]\n"
     ]
    },
    {
     "name": "stdout",
     "output_type": "stream",
     "text": [
      "----------------------------\n",
      "Train_z, Test_z\n",
      "PCA: 0.8139000000000001\n",
      "SVD: 0.8110999999999999\n",
      "NetG_fixD, Acc at sample 4 0.1047\n"
     ]
    },
    {
     "name": "stderr",
     "output_type": "stream",
     "text": [
      "extracting all features from dataset: 100%|██████████████████████████████████████████████| 2/2 [00:05<00:00,  2.53s/it]\n",
      "extracting all features from dataset: 100%|██████████████████████████████████████████████| 1/1 [00:01<00:00,  1.67s/it]\n"
     ]
    },
    {
     "name": "stdout",
     "output_type": "stream",
     "text": [
      "----------------------------\n",
      "Train_z, Test_z\n",
      "PCA: 0.8071\n",
      "SVD: 0.8065\n",
      "NetG_fixD, Acc at sample 5 0.1013\n"
     ]
    },
    {
     "name": "stderr",
     "output_type": "stream",
     "text": [
      "extracting all features from dataset: 100%|██████████████████████████████████████████████| 2/2 [00:04<00:00,  2.42s/it]\n",
      "extracting all features from dataset: 100%|██████████████████████████████████████████████| 1/1 [00:01<00:00,  1.66s/it]\n"
     ]
    },
    {
     "name": "stdout",
     "output_type": "stream",
     "text": [
      "----------------------------\n",
      "Train_z, Test_z\n",
      "PCA: 0.8106\n",
      "SVD: 0.8081\n",
      "NetG_fixD, Acc at sample 6 0.1162\n"
     ]
    },
    {
     "name": "stderr",
     "output_type": "stream",
     "text": [
      "extracting all features from dataset: 100%|██████████████████████████████████████████████| 2/2 [00:04<00:00,  2.49s/it]\n",
      "extracting all features from dataset: 100%|██████████████████████████████████████████████| 1/1 [00:01<00:00,  1.64s/it]\n"
     ]
    },
    {
     "name": "stdout",
     "output_type": "stream",
     "text": [
      "----------------------------\n",
      "Train_z, Test_z\n",
      "PCA: 0.8101\n",
      "SVD: 0.8091\n",
      "NetG_fixD, Acc at sample 7 0.1148\n"
     ]
    },
    {
     "name": "stderr",
     "output_type": "stream",
     "text": [
      "extracting all features from dataset: 100%|██████████████████████████████████████████████| 2/2 [00:04<00:00,  2.45s/it]\n",
      "extracting all features from dataset: 100%|██████████████████████████████████████████████| 1/1 [00:01<00:00,  1.68s/it]\n"
     ]
    },
    {
     "name": "stdout",
     "output_type": "stream",
     "text": [
      "----------------------------\n",
      "Train_z, Test_z\n",
      "PCA: 0.8133\n",
      "SVD: 0.8103\n",
      "NetG_fixD, Acc at sample 8 0.1143\n"
     ]
    },
    {
     "name": "stderr",
     "output_type": "stream",
     "text": [
      "extracting all features from dataset: 100%|██████████████████████████████████████████████| 2/2 [00:04<00:00,  2.46s/it]\n",
      "extracting all features from dataset: 100%|██████████████████████████████████████████████| 1/1 [00:01<00:00,  1.66s/it]\n"
     ]
    },
    {
     "name": "stdout",
     "output_type": "stream",
     "text": [
      "----------------------------\n",
      "Train_z, Test_z\n",
      "PCA: 0.8089999999999999\n",
      "SVD: 0.8041\n",
      "NetG_fixD, Acc at sample 9 0.074\n"
     ]
    },
    {
     "name": "stderr",
     "output_type": "stream",
     "text": [
      "extracting all features from dataset: 100%|██████████████████████████████████████████████| 2/2 [00:04<00:00,  2.48s/it]\n",
      "extracting all features from dataset: 100%|██████████████████████████████████████████████| 1/1 [00:01<00:00,  1.63s/it]\n"
     ]
    },
    {
     "name": "stdout",
     "output_type": "stream",
     "text": [
      "----------------------------\n",
      "Train_z, Test_z\n",
      "PCA: 0.8109\n",
      "SVD: 0.8119000000000001\n",
      "NetG_fixD, Acc at sample 10 0.0826\n"
     ]
    },
    {
     "name": "stderr",
     "output_type": "stream",
     "text": [
      "extracting all features from dataset: 100%|██████████████████████████████████████████████| 2/2 [00:04<00:00,  2.38s/it]\n",
      "extracting all features from dataset: 100%|██████████████████████████████████████████████| 1/1 [00:01<00:00,  1.64s/it]\n"
     ]
    },
    {
     "name": "stdout",
     "output_type": "stream",
     "text": [
      "----------------------------\n",
      "Train_z, Test_z\n",
      "PCA: 0.808\n",
      "SVD: 0.8067\n",
      "NetG_fixD, Acc at sample 11 0.1077\n"
     ]
    },
    {
     "name": "stderr",
     "output_type": "stream",
     "text": [
      "extracting all features from dataset: 100%|██████████████████████████████████████████████| 2/2 [00:05<00:00,  2.51s/it]\n",
      "extracting all features from dataset: 100%|██████████████████████████████████████████████| 1/1 [00:01<00:00,  1.67s/it]\n"
     ]
    },
    {
     "name": "stdout",
     "output_type": "stream",
     "text": [
      "----------------------------\n",
      "Train_z, Test_z\n",
      "PCA: 0.804\n",
      "SVD: 0.8022\n",
      "NetG_fixD, Acc at sample 12 0.117\n"
     ]
    },
    {
     "name": "stderr",
     "output_type": "stream",
     "text": [
      "extracting all features from dataset: 100%|██████████████████████████████████████████████| 2/2 [00:04<00:00,  2.45s/it]\n",
      "extracting all features from dataset: 100%|██████████████████████████████████████████████| 1/1 [00:01<00:00,  1.65s/it]\n"
     ]
    },
    {
     "name": "stdout",
     "output_type": "stream",
     "text": [
      "----------------------------\n",
      "Train_z, Test_z\n",
      "PCA: 0.8139000000000001\n",
      "SVD: 0.8112\n",
      "NetG_fixD, Acc at sample 13 0.1167\n"
     ]
    },
    {
     "name": "stderr",
     "output_type": "stream",
     "text": [
      "extracting all features from dataset: 100%|██████████████████████████████████████████████| 2/2 [00:04<00:00,  2.49s/it]\n",
      "extracting all features from dataset: 100%|██████████████████████████████████████████████| 1/1 [00:01<00:00,  1.65s/it]\n"
     ]
    },
    {
     "name": "stdout",
     "output_type": "stream",
     "text": [
      "----------------------------\n",
      "Train_z, Test_z\n",
      "PCA: 0.8073\n",
      "SVD: 0.8041\n",
      "NetG_fixD, Acc at sample 14 0.1409\n"
     ]
    },
    {
     "name": "stderr",
     "output_type": "stream",
     "text": [
      "extracting all features from dataset: 100%|██████████████████████████████████████████████| 2/2 [00:04<00:00,  2.40s/it]\n",
      "extracting all features from dataset: 100%|██████████████████████████████████████████████| 1/1 [00:01<00:00,  1.66s/it]\n"
     ]
    },
    {
     "name": "stdout",
     "output_type": "stream",
     "text": [
      "----------------------------\n",
      "Train_z, Test_z\n",
      "PCA: 0.804\n",
      "SVD: 0.8027\n",
      "NetG_fixD, Acc at sample 15 0.1123\n"
     ]
    },
    {
     "name": "stderr",
     "output_type": "stream",
     "text": [
      "extracting all features from dataset: 100%|██████████████████████████████████████████████| 2/2 [00:04<00:00,  2.47s/it]\n",
      "extracting all features from dataset: 100%|██████████████████████████████████████████████| 1/1 [00:01<00:00,  1.64s/it]\n"
     ]
    },
    {
     "name": "stdout",
     "output_type": "stream",
     "text": [
      "----------------------------\n",
      "Train_z, Test_z\n",
      "PCA: 0.8110999999999999\n",
      "SVD: 0.8077\n",
      "NetG_fixD, Acc at sample 16 0.1292\n"
     ]
    },
    {
     "name": "stderr",
     "output_type": "stream",
     "text": [
      "extracting all features from dataset: 100%|██████████████████████████████████████████████| 2/2 [00:04<00:00,  2.46s/it]\n",
      "extracting all features from dataset: 100%|██████████████████████████████████████████████| 1/1 [00:01<00:00,  1.64s/it]\n"
     ]
    },
    {
     "name": "stdout",
     "output_type": "stream",
     "text": [
      "----------------------------\n",
      "Train_z, Test_z\n",
      "PCA: 0.8127\n",
      "SVD: 0.8074\n",
      "NetG_fixD, Acc at sample 17 0.1124\n"
     ]
    },
    {
     "name": "stderr",
     "output_type": "stream",
     "text": [
      "extracting all features from dataset: 100%|██████████████████████████████████████████████| 2/2 [00:04<00:00,  2.46s/it]\n",
      "extracting all features from dataset: 100%|██████████████████████████████████████████████| 1/1 [00:01<00:00,  1.65s/it]\n"
     ]
    },
    {
     "name": "stdout",
     "output_type": "stream",
     "text": [
      "----------------------------\n",
      "Train_z, Test_z\n",
      "PCA: 0.806\n",
      "SVD: 0.8077\n",
      "NetG_fixD, Acc at sample 18 0.1115\n"
     ]
    },
    {
     "name": "stderr",
     "output_type": "stream",
     "text": [
      "extracting all features from dataset: 100%|██████████████████████████████████████████████| 2/2 [00:05<00:00,  2.50s/it]\n",
      "extracting all features from dataset: 100%|██████████████████████████████████████████████| 1/1 [00:01<00:00,  1.67s/it]\n"
     ]
    },
    {
     "name": "stdout",
     "output_type": "stream",
     "text": [
      "----------------------------\n",
      "Train_z, Test_z\n",
      "PCA: 0.8054\n",
      "SVD: 0.8058\n",
      "NetG_fixD, Acc at sample 19 0.0978\n"
     ]
    },
    {
     "name": "stderr",
     "output_type": "stream",
     "text": [
      "extracting all features from dataset: 100%|██████████████████████████████████████████████| 2/2 [00:04<00:00,  2.46s/it]\n",
      "extracting all features from dataset: 100%|██████████████████████████████████████████████| 1/1 [00:01<00:00,  1.68s/it]\n"
     ]
    },
    {
     "name": "stdout",
     "output_type": "stream",
     "text": [
      "----------------------------\n",
      "Train_z, Test_z\n",
      "PCA: 0.8086\n",
      "SVD: 0.8099000000000001\n",
      "NetG_fixD, Acc at sample 20 0.0856\n",
      "0.1409 0.074 0.10813999999999999 0.00026769840000000005\n"
     ]
    }
   ],
   "source": [
    "# sample 50 times of NetG at final radius, NetD is fixed\n",
    "from sklearn.neighbors import KNeighborsClassifier \n",
    "Acc_results_G_sample9 = []\n",
    "\n",
    "for _ in range(sample_num):\n",
    "    #acc at first\n",
    "    net_noise = get_noise(DATASET, device, LABEL)\n",
    "    fed_state_dict = get_netG(netD,netV,net_noise,r_list[9])\n",
    "    netG.load_state_dict(fed_state_dict)\n",
    "    \n",
    "    train_X, train_Z, train_X_bar, train_Z_bar, train_labels = extract_features2(trainloader, netG, netD)\n",
    "\n",
    "    test_X, test_Z, test_X_bar, test_Z_bar, test_labels = extract_features2(testloader, netG, netD)\n",
    "\n",
    "    print(\"----------------------------\")\n",
    "    print(\"Train_z, Test_z\")\n",
    "    nearsub(n_comp, train_Z, train_labels, test_Z, test_labels)\n",
    "\n",
    "    knn= KNeighborsClassifier(n_neighbors=10) \n",
    "\n",
    "    knn.fit(train_Z,train_labels) \n",
    "    knn.score(test_Z_bar,test_labels) \n",
    "\n",
    "    y_predict = knn.predict(test_Z_bar) \n",
    "\n",
    "    count =0\n",
    "    for k in range(10000):\n",
    "        if y_predict[k] == test_labels[k]:\n",
    "            count +=1\n",
    "    print('NetG_fixD, Acc at sample',_+1,count/10000)\n",
    "    Acc_results_G_sample9.append(count/10000)\n",
    "    \n",
    "print(max(Acc_results_G_sample9),min(Acc_results_G_sample9),np.mean(Acc_results_G_sample9),np.var(Acc_results_G_sample9))"
   ]
  },
  {
   "cell_type": "code",
   "execution_count": 21,
   "id": "4a83c92f",
   "metadata": {},
   "outputs": [
    {
     "name": "stderr",
     "output_type": "stream",
     "text": [
      "extracting all features from dataset: 100%|██████████████████████████████████████████████| 2/2 [00:04<00:00,  2.45s/it]\n",
      "extracting all features from dataset: 100%|██████████████████████████████████████████████| 1/1 [00:01<00:00,  1.66s/it]\n"
     ]
    },
    {
     "name": "stdout",
     "output_type": "stream",
     "text": [
      "----------------------------\n",
      "Train_z, Test_z\n",
      "PCA: 0.8023\n",
      "SVD: 0.8038\n",
      "NetG_fixD, Acc at sample 1 0.0745\n"
     ]
    },
    {
     "name": "stderr",
     "output_type": "stream",
     "text": [
      "extracting all features from dataset: 100%|██████████████████████████████████████████████| 2/2 [00:04<00:00,  2.47s/it]\n",
      "extracting all features from dataset: 100%|██████████████████████████████████████████████| 1/1 [00:01<00:00,  1.65s/it]\n"
     ]
    },
    {
     "name": "stdout",
     "output_type": "stream",
     "text": [
      "----------------------------\n",
      "Train_z, Test_z\n",
      "PCA: 0.8126\n",
      "SVD: 0.8046\n",
      "NetG_fixD, Acc at sample 2 0.0736\n"
     ]
    },
    {
     "name": "stderr",
     "output_type": "stream",
     "text": [
      "extracting all features from dataset: 100%|██████████████████████████████████████████████| 2/2 [00:04<00:00,  2.44s/it]\n",
      "extracting all features from dataset: 100%|██████████████████████████████████████████████| 1/1 [00:01<00:00,  1.65s/it]\n"
     ]
    },
    {
     "name": "stdout",
     "output_type": "stream",
     "text": [
      "----------------------------\n",
      "Train_z, Test_z\n",
      "PCA: 0.7999\n",
      "SVD: 0.8017\n",
      "NetG_fixD, Acc at sample 3 0.1155\n"
     ]
    },
    {
     "name": "stderr",
     "output_type": "stream",
     "text": [
      "extracting all features from dataset: 100%|██████████████████████████████████████████████| 2/2 [00:04<00:00,  2.48s/it]\n",
      "extracting all features from dataset: 100%|██████████████████████████████████████████████| 1/1 [00:01<00:00,  1.64s/it]\n"
     ]
    },
    {
     "name": "stdout",
     "output_type": "stream",
     "text": [
      "----------------------------\n",
      "Train_z, Test_z\n",
      "PCA: 0.7993\n",
      "SVD: 0.7956\n",
      "NetG_fixD, Acc at sample 4 0.1205\n"
     ]
    },
    {
     "name": "stderr",
     "output_type": "stream",
     "text": [
      "extracting all features from dataset: 100%|██████████████████████████████████████████████| 2/2 [00:05<00:00,  2.51s/it]\n",
      "extracting all features from dataset: 100%|██████████████████████████████████████████████| 1/1 [00:01<00:00,  1.66s/it]\n"
     ]
    },
    {
     "name": "stdout",
     "output_type": "stream",
     "text": [
      "----------------------------\n",
      "Train_z, Test_z\n",
      "PCA: 0.8096\n",
      "SVD: 0.8028\n",
      "NetG_fixD, Acc at sample 5 0.0762\n"
     ]
    },
    {
     "name": "stderr",
     "output_type": "stream",
     "text": [
      "extracting all features from dataset: 100%|██████████████████████████████████████████████| 2/2 [00:04<00:00,  2.43s/it]\n",
      "extracting all features from dataset: 100%|██████████████████████████████████████████████| 1/1 [00:01<00:00,  1.66s/it]\n"
     ]
    },
    {
     "name": "stdout",
     "output_type": "stream",
     "text": [
      "----------------------------\n",
      "Train_z, Test_z\n",
      "PCA: 0.8021\n",
      "SVD: 0.8009\n",
      "NetG_fixD, Acc at sample 6 0.1195\n"
     ]
    },
    {
     "name": "stderr",
     "output_type": "stream",
     "text": [
      "extracting all features from dataset: 100%|██████████████████████████████████████████████| 2/2 [00:04<00:00,  2.49s/it]\n",
      "extracting all features from dataset: 100%|██████████████████████████████████████████████| 1/1 [00:01<00:00,  1.67s/it]\n"
     ]
    },
    {
     "name": "stdout",
     "output_type": "stream",
     "text": [
      "----------------------------\n",
      "Train_z, Test_z\n",
      "PCA: 0.8155\n",
      "SVD: 0.8128\n",
      "NetG_fixD, Acc at sample 7 0.1063\n"
     ]
    },
    {
     "name": "stderr",
     "output_type": "stream",
     "text": [
      "extracting all features from dataset: 100%|██████████████████████████████████████████████| 2/2 [00:04<00:00,  2.49s/it]\n",
      "extracting all features from dataset: 100%|██████████████████████████████████████████████| 1/1 [00:01<00:00,  1.67s/it]\n"
     ]
    },
    {
     "name": "stdout",
     "output_type": "stream",
     "text": [
      "----------------------------\n",
      "Train_z, Test_z\n",
      "PCA: 0.8149\n",
      "SVD: 0.8114\n",
      "NetG_fixD, Acc at sample 8 0.118\n"
     ]
    },
    {
     "name": "stderr",
     "output_type": "stream",
     "text": [
      "extracting all features from dataset: 100%|██████████████████████████████████████████████| 2/2 [00:04<00:00,  2.50s/it]\n",
      "extracting all features from dataset: 100%|██████████████████████████████████████████████| 1/1 [00:01<00:00,  1.66s/it]\n"
     ]
    },
    {
     "name": "stdout",
     "output_type": "stream",
     "text": [
      "----------------------------\n",
      "Train_z, Test_z\n",
      "PCA: 0.8049\n",
      "SVD: 0.8009\n",
      "NetG_fixD, Acc at sample 9 0.1013\n"
     ]
    },
    {
     "name": "stderr",
     "output_type": "stream",
     "text": [
      "extracting all features from dataset: 100%|██████████████████████████████████████████████| 2/2 [00:04<00:00,  2.50s/it]\n",
      "extracting all features from dataset: 100%|██████████████████████████████████████████████| 1/1 [00:01<00:00,  1.64s/it]\n"
     ]
    },
    {
     "name": "stdout",
     "output_type": "stream",
     "text": [
      "----------------------------\n",
      "Train_z, Test_z\n",
      "PCA: 0.8137\n",
      "SVD: 0.8102\n",
      "NetG_fixD, Acc at sample 10 0.0922\n"
     ]
    },
    {
     "name": "stderr",
     "output_type": "stream",
     "text": [
      "extracting all features from dataset: 100%|██████████████████████████████████████████████| 2/2 [00:04<00:00,  2.41s/it]\n",
      "extracting all features from dataset: 100%|██████████████████████████████████████████████| 1/1 [00:01<00:00,  1.67s/it]\n"
     ]
    },
    {
     "name": "stdout",
     "output_type": "stream",
     "text": [
      "----------------------------\n",
      "Train_z, Test_z\n",
      "PCA: 0.8058\n",
      "SVD: 0.8058\n",
      "NetG_fixD, Acc at sample 11 0.0946\n"
     ]
    },
    {
     "name": "stderr",
     "output_type": "stream",
     "text": [
      "extracting all features from dataset: 100%|██████████████████████████████████████████████| 2/2 [00:04<00:00,  2.49s/it]\n",
      "extracting all features from dataset: 100%|██████████████████████████████████████████████| 1/1 [00:01<00:00,  1.64s/it]\n"
     ]
    },
    {
     "name": "stdout",
     "output_type": "stream",
     "text": [
      "----------------------------\n",
      "Train_z, Test_z\n",
      "PCA: 0.806\n",
      "SVD: 0.8038\n",
      "NetG_fixD, Acc at sample 12 0.0912\n"
     ]
    },
    {
     "name": "stderr",
     "output_type": "stream",
     "text": [
      "extracting all features from dataset: 100%|██████████████████████████████████████████████| 2/2 [00:04<00:00,  2.42s/it]\n",
      "extracting all features from dataset: 100%|██████████████████████████████████████████████| 1/1 [00:01<00:00,  1.65s/it]\n"
     ]
    },
    {
     "name": "stdout",
     "output_type": "stream",
     "text": [
      "----------------------------\n",
      "Train_z, Test_z\n",
      "PCA: 0.8085\n",
      "SVD: 0.8036\n",
      "NetG_fixD, Acc at sample 13 0.0997\n"
     ]
    },
    {
     "name": "stderr",
     "output_type": "stream",
     "text": [
      "extracting all features from dataset: 100%|██████████████████████████████████████████████| 2/2 [00:05<00:00,  2.50s/it]\n",
      "extracting all features from dataset: 100%|██████████████████████████████████████████████| 1/1 [00:01<00:00,  1.67s/it]\n"
     ]
    },
    {
     "name": "stdout",
     "output_type": "stream",
     "text": [
      "----------------------------\n",
      "Train_z, Test_z\n",
      "PCA: 0.8055\n",
      "SVD: 0.8043\n",
      "NetG_fixD, Acc at sample 14 0.1224\n"
     ]
    },
    {
     "name": "stderr",
     "output_type": "stream",
     "text": [
      "extracting all features from dataset: 100%|██████████████████████████████████████████████| 2/2 [00:04<00:00,  2.46s/it]\n",
      "extracting all features from dataset: 100%|██████████████████████████████████████████████| 1/1 [00:01<00:00,  1.64s/it]\n"
     ]
    },
    {
     "name": "stdout",
     "output_type": "stream",
     "text": [
      "----------------------------\n",
      "Train_z, Test_z\n",
      "PCA: 0.8129\n",
      "SVD: 0.8096\n",
      "NetG_fixD, Acc at sample 15 0.1083\n"
     ]
    },
    {
     "name": "stderr",
     "output_type": "stream",
     "text": [
      "extracting all features from dataset: 100%|██████████████████████████████████████████████| 2/2 [00:05<00:00,  2.52s/it]\n",
      "extracting all features from dataset: 100%|██████████████████████████████████████████████| 1/1 [00:01<00:00,  1.65s/it]\n"
     ]
    },
    {
     "name": "stdout",
     "output_type": "stream",
     "text": [
      "----------------------------\n",
      "Train_z, Test_z\n",
      "PCA: 0.8091\n",
      "SVD: 0.8011\n",
      "NetG_fixD, Acc at sample 16 0.095\n"
     ]
    },
    {
     "name": "stderr",
     "output_type": "stream",
     "text": [
      "extracting all features from dataset: 100%|██████████████████████████████████████████████| 2/2 [00:04<00:00,  2.39s/it]\n",
      "extracting all features from dataset: 100%|██████████████████████████████████████████████| 1/1 [00:01<00:00,  1.67s/it]\n"
     ]
    },
    {
     "name": "stdout",
     "output_type": "stream",
     "text": [
      "----------------------------\n",
      "Train_z, Test_z\n",
      "PCA: 0.8117\n",
      "SVD: 0.8098\n",
      "NetG_fixD, Acc at sample 17 0.1245\n"
     ]
    },
    {
     "name": "stderr",
     "output_type": "stream",
     "text": [
      "extracting all features from dataset: 100%|██████████████████████████████████████████████| 2/2 [00:05<00:00,  2.55s/it]\n",
      "extracting all features from dataset: 100%|██████████████████████████████████████████████| 1/1 [00:01<00:00,  1.67s/it]\n"
     ]
    },
    {
     "name": "stdout",
     "output_type": "stream",
     "text": [
      "----------------------------\n",
      "Train_z, Test_z\n",
      "PCA: 0.8071\n",
      "SVD: 0.8007\n",
      "NetG_fixD, Acc at sample 18 0.0982\n"
     ]
    },
    {
     "name": "stderr",
     "output_type": "stream",
     "text": [
      "extracting all features from dataset: 100%|██████████████████████████████████████████████| 2/2 [00:04<00:00,  2.43s/it]\n",
      "extracting all features from dataset: 100%|██████████████████████████████████████████████| 1/1 [00:01<00:00,  1.63s/it]\n"
     ]
    },
    {
     "name": "stdout",
     "output_type": "stream",
     "text": [
      "----------------------------\n",
      "Train_z, Test_z\n",
      "PCA: 0.8097\n",
      "SVD: 0.8078\n",
      "NetG_fixD, Acc at sample 19 0.1048\n"
     ]
    },
    {
     "name": "stderr",
     "output_type": "stream",
     "text": [
      "extracting all features from dataset: 100%|██████████████████████████████████████████████| 2/2 [00:05<00:00,  2.53s/it]\n",
      "extracting all features from dataset: 100%|██████████████████████████████████████████████| 1/1 [00:01<00:00,  1.66s/it]\n"
     ]
    },
    {
     "name": "stdout",
     "output_type": "stream",
     "text": [
      "----------------------------\n",
      "Train_z, Test_z\n",
      "PCA: 0.8099000000000001\n",
      "SVD: 0.8038\n",
      "NetG_fixD, Acc at sample 20 0.1142\n",
      "0.1245 0.0736 0.102525 0.00023918087499999997\n"
     ]
    }
   ],
   "source": [
    "# sample 50 times of NetG at final radius, NetD is fixed\n",
    "from sklearn.neighbors import KNeighborsClassifier \n",
    "Acc_results_G_sample10 = []\n",
    "\n",
    "for _ in range(sample_num):\n",
    "    #acc at first\n",
    "    net_noise = get_noise(DATASET, device, LABEL)\n",
    "    fed_state_dict = get_netG(netD,netV,net_noise,r_list[10])\n",
    "    netG.load_state_dict(fed_state_dict)\n",
    "    \n",
    "    train_X, train_Z, train_X_bar, train_Z_bar, train_labels = extract_features2(trainloader, netG, netD)\n",
    "\n",
    "    test_X, test_Z, test_X_bar, test_Z_bar, test_labels = extract_features2(testloader, netG, netD)\n",
    "\n",
    "    print(\"----------------------------\")\n",
    "    print(\"Train_z, Test_z\")\n",
    "    nearsub(n_comp, train_Z, train_labels, test_Z, test_labels)\n",
    "\n",
    "    knn= KNeighborsClassifier(n_neighbors=10) \n",
    "\n",
    "    knn.fit(train_Z,train_labels) \n",
    "    knn.score(test_Z_bar,test_labels) \n",
    "\n",
    "    y_predict = knn.predict(test_Z_bar) \n",
    "\n",
    "    count =0\n",
    "    for k in range(10000):\n",
    "        if y_predict[k] == test_labels[k]:\n",
    "            count +=1\n",
    "    print('NetG_fixD, Acc at sample',_+1,count/10000)\n",
    "    Acc_results_G_sample10.append(count/10000)\n",
    "    \n",
    "print(max(Acc_results_G_sample10),min(Acc_results_G_sample10),np.mean(Acc_results_G_sample10),np.var(Acc_results_G_sample10))"
   ]
  },
  {
   "cell_type": "code",
   "execution_count": null,
   "id": "1f730cf2",
   "metadata": {},
   "outputs": [],
   "source": []
  }
 ],
 "metadata": {
  "kernelspec": {
   "display_name": "Python 3 (ipykernel)",
   "language": "python",
   "name": "python3"
  },
  "language_info": {
   "codemirror_mode": {
    "name": "ipython",
    "version": 3
   },
   "file_extension": ".py",
   "mimetype": "text/x-python",
   "name": "python",
   "nbconvert_exporter": "python",
   "pygments_lexer": "ipython3",
   "version": "3.7.16"
  }
 },
 "nbformat": 4,
 "nbformat_minor": 5
}
